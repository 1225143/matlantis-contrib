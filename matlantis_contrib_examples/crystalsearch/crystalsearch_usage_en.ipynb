{
 "cells": [
  {
   "cell_type": "markdown",
   "id": "11ffbf79-7a05-438b-a6b2-8a669ca2ffe8",
   "metadata": {},
   "source": [
    "Copyright ENEOS, Corp., Preferred Computational Chemistry, Inc. and Preferred Networks, Inc. as contributors to Matlantis contrib project\n",
    "\n",
    "This document has been machine translated from Japanese to English.\n",
    "\n",
    "# GUI for searching structures from DFT databases (such as Materials Project)\n",
    "\n",
    "Matlantis also includes a feature to display the version being used. #eneos ibuka 2022/10/1\n",
    "\n",
    "The `crystalsearch` module internally uses the Materials Project database.\n",
    "\n",
    "Database is from  \n",
    "A. Jain*, S.P. Ong*, G. Hautier, W. Chen, W.D. Richards, S. Dacek, S. Cholia, D. Gunter, D. Skinner, G. Ceder, K.A. Persson (*=equal contributions)  \n",
    "The Materials Project: A materials genome approach to accelerating materials innovation  \n",
    "APL Materials, 2013, 1(1), 011002.  \n",
    "[doi:10.1063/1.4812323](http://dx.doi.org/10.1063/1.4812323)  \n",
    "[[bibtex]](https://materialsproject.org/static/docs/jain_ong2013.349ca3156250.bib)  \n",
    "Licensed under [CC BY 4.0](https://creativecommons.org/licenses/by/4.0/)  "
   ]
  },
  {
   "cell_type": "code",
   "execution_count": 1,
   "id": "b8f8ff89-4b91-4cdd-a578-ea54c5e38389",
   "metadata": {
    "tags": []
   },
   "outputs": [
    {
     "data": {
      "application/vnd.jupyter.widget-view+json": {
       "model_id": "7975918a6fec44fe844d5473cffa8ca0",
       "version_major": 2,
       "version_minor": 0
      },
      "text/plain": []
     },
     "metadata": {},
     "output_type": "display_data"
    }
   ],
   "source": [
    "import  crystalsearch as cs "
   ]
  },
  {
   "cell_type": "code",
   "execution_count": 2,
   "id": "397b5902-69db-4514-96da-39f3ba10a9f0",
   "metadata": {
    "tags": []
   },
   "outputs": [
    {
     "data": {
      "text/html": [
       "<style> .widget-gridbox {background-color: #222266;padding: 3px} .widget-toggle-button {padding: 1px; font-size: 12px;border-radius: 6px;}</style>"
      ],
      "text/plain": [
       "<IPython.core.display.HTML object>"
      ]
     },
     "metadata": {},
     "output_type": "display_data"
    },
    {
     "data": {
      "application/vnd.jupyter.widget-view+json": {
       "model_id": "8e70c34afd9349bb99e3123c0d02c6ec",
       "version_major": 2,
       "version_minor": 0
      },
      "text/plain": [
       "VBox(children=(GridspecLayout(children=(ToggleButton(value=False, description='H', layout=Layout(grid_area='wi…"
      ]
     },
     "metadata": {},
     "output_type": "display_data"
    }
   ],
   "source": [
    "m = cs.Crystalsearch()"
   ]
  },
  {
   "cell_type": "markdown",
   "id": "2f3fc084-a590-4d52-aa06-355768c53c5e",
   "metadata": {},
   "source": [
    "Below is the operation after selecting [Fe, O, C] and executing the [hullview] button. Search results can be obtained with `instance_name.cands`."
   ]
  },
  {
   "cell_type": "code",
   "execution_count": 3,
   "id": "2365ea0f-ba25-4a6e-bcfe-305231f010ad",
   "metadata": {
    "tags": []
   },
   "outputs": [],
   "source": [
    "cands = m.cands"
   ]
  },
  {
   "cell_type": "code",
   "execution_count": 4,
   "id": "777243d5-07f4-44c9-9820-531c8a5e4440",
   "metadata": {
    "tags": []
   },
   "outputs": [
    {
     "data": {
      "text/html": [
       "<div>\n",
       "<style scoped>\n",
       "    .dataframe tbody tr th:only-of-type {\n",
       "        vertical-align: middle;\n",
       "    }\n",
       "\n",
       "    .dataframe tbody tr th {\n",
       "        vertical-align: top;\n",
       "    }\n",
       "\n",
       "    .dataframe thead th {\n",
       "        text-align: right;\n",
       "    }\n",
       "</style>\n",
       "<table border=\"1\" class=\"dataframe\">\n",
       "  <thead>\n",
       "    <tr style=\"text-align: right;\">\n",
       "      <th></th>\n",
       "      <th>material_id</th>\n",
       "      <th>pretty_formula</th>\n",
       "      <th>energy</th>\n",
       "      <th>e_above_hull</th>\n",
       "      <th>is_hubbard</th>\n",
       "      <th>elements</th>\n",
       "      <th>atoms</th>\n",
       "    </tr>\n",
       "  </thead>\n",
       "  <tbody>\n",
       "    <tr>\n",
       "      <th>0</th>\n",
       "      <td>mp-13</td>\n",
       "      <td>Fe</td>\n",
       "      <td>-8.470009</td>\n",
       "      <td>0.000000</td>\n",
       "      <td>False</td>\n",
       "      <td>[Fe]</td>\n",
       "      <td>(Atom('Fe', [0.0, 0.0, 0.0], index=0))</td>\n",
       "    </tr>\n",
       "    <tr>\n",
       "      <th>1</th>\n",
       "      <td>mp-47</td>\n",
       "      <td>C</td>\n",
       "      <td>-36.261055</td>\n",
       "      <td>0.161517</td>\n",
       "      <td>False</td>\n",
       "      <td>[C]</td>\n",
       "      <td>(Atom('C', [-1.1144813925056951e-06, 1.4509361...</td>\n",
       "    </tr>\n",
       "    <tr>\n",
       "      <th>2</th>\n",
       "      <td>mp-48</td>\n",
       "      <td>C</td>\n",
       "      <td>-36.881187</td>\n",
       "      <td>0.006484</td>\n",
       "      <td>False</td>\n",
       "      <td>[C]</td>\n",
       "      <td>(Atom('C', [0.0, 0.0, 6.5137786865234375], ind...</td>\n",
       "    </tr>\n",
       "    <tr>\n",
       "      <th>3</th>\n",
       "      <td>mp-66</td>\n",
       "      <td>C</td>\n",
       "      <td>-18.180737</td>\n",
       "      <td>0.136413</td>\n",
       "      <td>False</td>\n",
       "      <td>[C]</td>\n",
       "      <td>(Atom('C', [1.263497233390808, 0.7294805049896...</td>\n",
       "    </tr>\n",
       "    <tr>\n",
       "      <th>4</th>\n",
       "      <td>mp-136</td>\n",
       "      <td>Fe</td>\n",
       "      <td>-16.744431</td>\n",
       "      <td>0.097793</td>\n",
       "      <td>False</td>\n",
       "      <td>[Fe]</td>\n",
       "      <td>(Atom('Fe', [-1.0390743909738376e-06, 1.423605...</td>\n",
       "    </tr>\n",
       "    <tr>\n",
       "      <th>...</th>\n",
       "      <td>...</td>\n",
       "      <td>...</td>\n",
       "      <td>...</td>\n",
       "      <td>...</td>\n",
       "      <td>...</td>\n",
       "      <td>...</td>\n",
       "      <td>...</td>\n",
       "    </tr>\n",
       "    <tr>\n",
       "      <th>173</th>\n",
       "      <td>mvc-12204</td>\n",
       "      <td>FeO2</td>\n",
       "      <td>-218.275894</td>\n",
       "      <td>0.271338</td>\n",
       "      <td>True</td>\n",
       "      <td>[Fe, O]</td>\n",
       "      <td>(Atom('Fe', [6.014296531677246, 3.451520204544...</td>\n",
       "    </tr>\n",
       "    <tr>\n",
       "      <th>174</th>\n",
       "      <td>mvc-12205</td>\n",
       "      <td>Fe9O13</td>\n",
       "      <td>-142.633408</td>\n",
       "      <td>0.263188</td>\n",
       "      <td>True</td>\n",
       "      <td>[Fe, O]</td>\n",
       "      <td>(Atom('Fe', [5.969217777252197, 1.786785602569...</td>\n",
       "    </tr>\n",
       "    <tr>\n",
       "      <th>175</th>\n",
       "      <td>mvc-12905</td>\n",
       "      <td>FeO2</td>\n",
       "      <td>-73.856781</td>\n",
       "      <td>0.179825</td>\n",
       "      <td>True</td>\n",
       "      <td>[Fe, O]</td>\n",
       "      <td>(Atom('Fe', [-1.005743384361267, 1.72052621841...</td>\n",
       "    </tr>\n",
       "    <tr>\n",
       "      <th>176</th>\n",
       "      <td>mvc-13234</td>\n",
       "      <td>FeO2</td>\n",
       "      <td>-218.290543</td>\n",
       "      <td>0.270931</td>\n",
       "      <td>True</td>\n",
       "      <td>[Fe, O]</td>\n",
       "      <td>(Atom('Fe', [4.6083173751831055, 0.87333792448...</td>\n",
       "    </tr>\n",
       "    <tr>\n",
       "      <th>177</th>\n",
       "      <td>mvc-15135</td>\n",
       "      <td>FeO2</td>\n",
       "      <td>-217.965958</td>\n",
       "      <td>0.279947</td>\n",
       "      <td>True</td>\n",
       "      <td>[Fe, O]</td>\n",
       "      <td>(Atom('Fe', [4.428077697753906, 2.556548357009...</td>\n",
       "    </tr>\n",
       "  </tbody>\n",
       "</table>\n",
       "<p>178 rows × 7 columns</p>\n",
       "</div>"
      ],
      "text/plain": [
       "    material_id pretty_formula      energy  e_above_hull  is_hubbard elements  \\\n",
       "0         mp-13             Fe   -8.470009      0.000000       False     [Fe]   \n",
       "1         mp-47              C  -36.261055      0.161517       False      [C]   \n",
       "2         mp-48              C  -36.881187      0.006484       False      [C]   \n",
       "3         mp-66              C  -18.180737      0.136413       False      [C]   \n",
       "4        mp-136             Fe  -16.744431      0.097793       False     [Fe]   \n",
       "..          ...            ...         ...           ...         ...      ...   \n",
       "173   mvc-12204           FeO2 -218.275894      0.271338        True  [Fe, O]   \n",
       "174   mvc-12205         Fe9O13 -142.633408      0.263188        True  [Fe, O]   \n",
       "175   mvc-12905           FeO2  -73.856781      0.179825        True  [Fe, O]   \n",
       "176   mvc-13234           FeO2 -218.290543      0.270931        True  [Fe, O]   \n",
       "177   mvc-15135           FeO2 -217.965958      0.279947        True  [Fe, O]   \n",
       "\n",
       "                                                 atoms  \n",
       "0               (Atom('Fe', [0.0, 0.0, 0.0], index=0))  \n",
       "1    (Atom('C', [-1.1144813925056951e-06, 1.4509361...  \n",
       "2    (Atom('C', [0.0, 0.0, 6.5137786865234375], ind...  \n",
       "3    (Atom('C', [1.263497233390808, 0.7294805049896...  \n",
       "4    (Atom('Fe', [-1.0390743909738376e-06, 1.423605...  \n",
       "..                                                 ...  \n",
       "173  (Atom('Fe', [6.014296531677246, 3.451520204544...  \n",
       "174  (Atom('Fe', [5.969217777252197, 1.786785602569...  \n",
       "175  (Atom('Fe', [-1.005743384361267, 1.72052621841...  \n",
       "176  (Atom('Fe', [4.6083173751831055, 0.87333792448...  \n",
       "177  (Atom('Fe', [4.428077697753906, 2.556548357009...  \n",
       "\n",
       "[178 rows x 7 columns]"
      ]
     },
     "execution_count": 4,
     "metadata": {},
     "output_type": "execute_result"
    }
   ],
   "source": [
    "cands"
   ]
  },
  {
   "cell_type": "markdown",
   "id": "6661b59d-5f6d-42ed-92f7-7db8354e0e71",
   "metadata": {},
   "source": [
    "We will compare the energies of pfp and the Materials Project."
   ]
  },
  {
   "cell_type": "code",
   "execution_count": 5,
   "id": "8ba56604-aa15-4458-a217-3bc5a57a23c0",
   "metadata": {
    "tags": []
   },
   "outputs": [
    {
     "name": "stdout",
     "output_type": "stream",
     "text": [
      "calc 178 cands by pfp v6.0.0\n",
      "[WARNING] 111 / 178 atoms contain Hubbard U correction, its U parameter might be different between Materials project & PFP. Please check carefully.\n"
     ]
    },
    {
     "data": {
      "application/vnd.jupyter.widget-view+json": {
       "model_id": "8d664a85fdfe4fad9af550e09b707028",
       "version_major": 2,
       "version_minor": 0
      },
      "text/plain": [
       "  0%|          | 0/178 [00:00<?, ?it/s]"
      ]
     },
     "metadata": {},
     "output_type": "display_data"
    },
    {
     "name": "stdout",
     "output_type": "stream",
     "text": [
      "end\n"
     ]
    },
    {
     "data": {
      "image/png": "[encoded data removed]",
      "text/plain": [
       "<Figure size 480x480 with 1 Axes>"
      ]
     },
     "metadata": {},
     "output_type": "display_data"
    },
    {
     "data": {
      "text/html": [
       "<div>\n",
       "<style scoped>\n",
       "    .dataframe tbody tr th:only-of-type {\n",
       "        vertical-align: middle;\n",
       "    }\n",
       "\n",
       "    .dataframe tbody tr th {\n",
       "        vertical-align: top;\n",
       "    }\n",
       "\n",
       "    .dataframe thead th {\n",
       "        text-align: right;\n",
       "    }\n",
       "</style>\n",
       "<table border=\"1\" class=\"dataframe\">\n",
       "  <thead>\n",
       "    <tr style=\"text-align: right;\">\n",
       "      <th></th>\n",
       "      <th>material_id</th>\n",
       "      <th>pretty_formula</th>\n",
       "      <th>energy</th>\n",
       "      <th>e_above_hull</th>\n",
       "      <th>is_hubbard</th>\n",
       "      <th>elements</th>\n",
       "      <th>atoms</th>\n",
       "      <th>pfpene</th>\n",
       "      <th>pfpfmax</th>\n",
       "      <th>lenatoms</th>\n",
       "    </tr>\n",
       "  </thead>\n",
       "  <tbody>\n",
       "    <tr>\n",
       "      <th>0</th>\n",
       "      <td>mp-13</td>\n",
       "      <td>Fe</td>\n",
       "      <td>-8.470009</td>\n",
       "      <td>0.000000</td>\n",
       "      <td>False</td>\n",
       "      <td>[Fe]</td>\n",
       "      <td>(Atom('Fe', [0.0, 0.0, 0.0], index=0))</td>\n",
       "      <td>-8.255983</td>\n",
       "      <td>0.00000</td>\n",
       "      <td>1</td>\n",
       "    </tr>\n",
       "    <tr>\n",
       "      <th>1</th>\n",
       "      <td>mp-47</td>\n",
       "      <td>C</td>\n",
       "      <td>-36.261055</td>\n",
       "      <td>0.161517</td>\n",
       "      <td>False</td>\n",
       "      <td>[C]</td>\n",
       "      <td>(Atom('C', [-1.1144813925056951e-06, 1.4509361...</td>\n",
       "      <td>-36.337568</td>\n",
       "      <td>0.00091</td>\n",
       "      <td>4</td>\n",
       "    </tr>\n",
       "    <tr>\n",
       "      <th>2</th>\n",
       "      <td>mp-48</td>\n",
       "      <td>C</td>\n",
       "      <td>-36.881187</td>\n",
       "      <td>0.006484</td>\n",
       "      <td>False</td>\n",
       "      <td>[C]</td>\n",
       "      <td>(Atom('C', [0.0, 0.0, 6.5137786865234375], ind...</td>\n",
       "      <td>-36.896414</td>\n",
       "      <td>0.00008</td>\n",
       "      <td>4</td>\n",
       "    </tr>\n",
       "    <tr>\n",
       "      <th>3</th>\n",
       "      <td>mp-66</td>\n",
       "      <td>C</td>\n",
       "      <td>-18.180737</td>\n",
       "      <td>0.136413</td>\n",
       "      <td>False</td>\n",
       "      <td>[C]</td>\n",
       "      <td>(Atom('C', [1.263497233390808, 0.7294805049896...</td>\n",
       "      <td>-18.185249</td>\n",
       "      <td>0.00000</td>\n",
       "      <td>2</td>\n",
       "    </tr>\n",
       "    <tr>\n",
       "      <th>4</th>\n",
       "      <td>mp-136</td>\n",
       "      <td>Fe</td>\n",
       "      <td>-16.744431</td>\n",
       "      <td>0.097793</td>\n",
       "      <td>False</td>\n",
       "      <td>[Fe]</td>\n",
       "      <td>(Atom('Fe', [-1.0390743909738376e-06, 1.423605...</td>\n",
       "      <td>-16.305621</td>\n",
       "      <td>0.00002</td>\n",
       "      <td>2</td>\n",
       "    </tr>\n",
       "  </tbody>\n",
       "</table>\n",
       "</div>"
      ],
      "text/plain": [
       "  material_id pretty_formula     energy  e_above_hull  is_hubbard elements  \\\n",
       "0       mp-13             Fe  -8.470009      0.000000       False     [Fe]   \n",
       "1       mp-47              C -36.261055      0.161517       False      [C]   \n",
       "2       mp-48              C -36.881187      0.006484       False      [C]   \n",
       "3       mp-66              C -18.180737      0.136413       False      [C]   \n",
       "4      mp-136             Fe -16.744431      0.097793       False     [Fe]   \n",
       "\n",
       "                                               atoms     pfpene  pfpfmax  \\\n",
       "0             (Atom('Fe', [0.0, 0.0, 0.0], index=0))  -8.255983  0.00000   \n",
       "1  (Atom('C', [-1.1144813925056951e-06, 1.4509361... -36.337568  0.00091   \n",
       "2  (Atom('C', [0.0, 0.0, 6.5137786865234375], ind... -36.896414  0.00008   \n",
       "3  (Atom('C', [1.263497233390808, 0.7294805049896... -18.185249  0.00000   \n",
       "4  (Atom('Fe', [-1.0390743909738376e-06, 1.423605... -16.305621  0.00002   \n",
       "\n",
       "   lenatoms  \n",
       "0         1  \n",
       "1         4  \n",
       "2         4  \n",
       "3         2  \n",
       "4         2  "
      ]
     },
     "execution_count": 5,
     "metadata": {},
     "output_type": "execute_result"
    }
   ],
   "source": [
    "pfpdf = m.get_pfp_df()\n",
    "pfpdf.head()"
   ]
  },
  {
   "cell_type": "markdown",
   "id": "97d5968e-d89b-4d6d-968d-603424106349",
   "metadata": {},
   "source": [
    "We draw the phasediagram with the results of pfp."
   ]
  },
  {
   "cell_type": "code",
   "execution_count": 6,
   "id": "ec9f0da5-cb0a-42e3-81f5-063f701bc93e",
   "metadata": {
    "tags": []
   },
   "outputs": [
    {
     "name": "stdout",
     "output_type": "stream",
     "text": [
      "pfp\n"
     ]
    },
    {
     "data": {
      "application/vnd.jupyter.widget-view+json": {
       "model_id": "430d5ac99f254dd7bbab0711d83705f3",
       "version_major": 2,
       "version_minor": 0
      },
      "text/plain": [
       "FigureWidget({\n",
       "    'data': [{'a': [0, 0, None, 16.0, 0, None, 0, 1.0, None, 0, 1.0, None, 16.0,\n",
       "                    1.0, None, 0, 0, None, 0, 16.0, None],\n",
       "              'b': [4.0, 0, None, 0, 0, None, 4.0, 0, None, 4.0, 0, None, 0, 0,\n",
       "                    None, 4.0, 4.0, None, 4.0, 0, None],\n",
       "              'c': [8.0, 2.0, None, 24.0, 2.0, None, 8.0, 0, None, 0, 0, None,\n",
       "                    24.0, 0, None, 8.0, 0, None, 8.0, 24.0, None],\n",
       "              'hoverinfo': 'none',\n",
       "              'line': {'color': 'black', 'width': 1.5},\n",
       "              'marker': {'size': 4},\n",
       "              'mode': 'lines',\n",
       "              'showlegend': False,\n",
       "              'type': 'scatterternary',\n",
       "              'uid': '2f076563-9613-448d-b5d0-f151e6ec3e1f'},\n",
       "             {'a': [0, 0, 1.0],\n",
       "              'b': [4.0, 4.0, 0],\n",
       "              'c': [0, 8.0, 0],\n",
       "              'fill': 'toself',\n",
       "              'fillcolor': '#2E91E5',\n",
       "              'hovertemplate': '<extra></extra>',\n",
       "              'line': {'width': 0},\n",
       "              'marker': {'size': 4},\n",
       "              'mode': 'lines',\n",
       "              'name': 'C—CO<sub>2</sub>—Fe',\n",
       "              'opacity': 0.15,\n",
       "              'showlegend': False,\n",
       "              'type': 'scatterternary',\n",
       "              'uid': 'b55a279e-0bd5-4990-93fa-041c600ed449'},\n",
       "             {'a': [0, 1.0, 16.0],\n",
       "              'b': [4.0, 0, 0],\n",
       "              'c': [8.0, 0, 24.0],\n",
       "              'fill': 'toself',\n",
       "              'fillcolor': '#E15F99',\n",
       "              'hovertemplate': '<extra></extra>',\n",
       "              'line': {'width': 0},\n",
       "              'marker': {'size': 4},\n",
       "              'mode': 'lines',\n",
       "              'name': 'CO<sub>2</sub>—Fe—Fe<sub>2</sub>O<sub>3</sub>',\n",
       "              'opacity': 0.15,\n",
       "              'showlegend': False,\n",
       "              'type': 'scatterternary',\n",
       "              'uid': '77c559f1-4719-441b-aa06-e55660494029'},\n",
       "             {'a': [0, 16.0, 0],\n",
       "              'b': [4.0, 0, 0],\n",
       "              'c': [8.0, 24.0, 2.0],\n",
       "              'fill': 'toself',\n",
       "              'fillcolor': '#1CA71C',\n",
       "              'hovertemplate': '<extra></extra>',\n",
       "              'line': {'width': 0},\n",
       "              'marker': {'size': 4},\n",
       "              'mode': 'lines',\n",
       "              'name': 'CO<sub>2</sub>—Fe<sub>2</sub>O<sub>3</sub>—O<sub>2</sub>',\n",
       "              'opacity': 0.15,\n",
       "              'showlegend': False,\n",
       "              'type': 'scatterternary',\n",
       "              'uid': 'f11e21da-440e-4929-befb-e729ce452cb7'},\n",
       "             {'a': [0, 0, 16.0, 1.0, 0],\n",
       "              'b': [4.0, 0, 0, 0, 4.0],\n",
       "              'c': [8.0, 2.0, 24.0, 0, 0],\n",
       "              'cliponaxis': False,\n",
       "              'hoverinfo': 'text',\n",
       "              'hoverlabel': {'font': {'size': 14}},\n",
       "              'hovertext': [CO<sub>2</sub> (18) <br> -1.314 eV/atom (Stable),\n",
       "                            O<sub>2</sub> (105) <br> 0.0 eV/atom (Stable),\n",
       "                            Fe<sub>2</sub>O<sub>3</sub> (33) <br> -0.335 eV/atom\n",
       "                            (Stable), Fe (0) <br> 0.0 eV/atom (Stable), C (103)\n",
       "                            <br> 0.0 eV/atom (Stable)],\n",
       "              'marker': {'color': 'green', 'line': {'color': 'black', 'width': 2.0}, 'size': 4, 'symbol': 'circle'},\n",
       "              'mode': 'markers',\n",
       "              'name': 'Stable',\n",
       "              'showlegend': True,\n",
       "              'type': 'scatterternary',\n",
       "              'uid': 'cc185ae6-6022-4800-8805-58b41dd40315'},\n",
       "             {'a': [0, 0, 0, 0, 0, 0, 0, 0, 0, 0, 0, 0, 0, 0, 0, 0, 0, 0, 0, 0, 0,\n",
       "                    0, 0, 0, 0, 0, 0, 0, 0, 0, 0, 0, 0, 0, 0, 0, 0, 0, 0, 0, 0,\n",
       "                    2.0, 1.0, 28.0, 100.0, 2.0, 4.0, 4.0, 2.0, 4.0, 2.0, 2.0, 12.0,\n",
       "                    4.0, 12.0, 40.0, 4.0, 4.0, 1.0, 2.0, 4.0, 2.0, 1.0, 2.0, 4.0,\n",
       "                    8.0, 8.0, 1.0, 4.0, 12.0, 4.0, 12.0, 12.0, 2.0, 4.0, 4.0, 64.0,\n",
       "                    4.0, 8.0, 16.0, 64.0, 16.0, 8.0, 16.0, 16.0, 4.0, 16.0, 4.0,\n",
       "                    8.0, 32.0, 32.0, 32.0, 8.0, 4.0, 8.0, 8.0, 4.0, 8.0, 8.0, 6.0,\n",
       "                    4.0, 6.0, 6.0, 6.0, 12.0, 12.0, 6.0, 24.0, 24.0, 12.0, 6.0,\n",
       "                    12.0, 12.0, 12.0, 3.0, 12.0, 12.0, 12.0, 24.0, 24.0, 24.0,\n",
       "                    24.0, 12.0, 12.0, 12.0, 12.0, 6.0, 12.0, 12.0, 12.0, 12.0,\n",
       "                    12.0, 8.0, 4.0, 8.0, 5.0, 10.0, 20.0, 5.0, 5.0, 10.0, 20.0,\n",
       "                    7.0, 14.0, 21.0, 14.0, 28.0, 16.0, 8.0, 16.0, 9.0, 9.0, 20.0,\n",
       "                    10.0, 11.0, 12.0, 13.0, 13.0, 14.0, 15.0, 15.0, 17.0, 21.0,\n",
       "                    21.0, 23.0, 23.0, 23.0, 23.0, 25.0, 32.0, 38.0, 41.0, 43.0],\n",
       "              'b': [0, 0, 0, 0, 0, 0, 0, 0, 4.0, 4.0, 2.0, 2.0, 4.0, 4.0, 2.0,\n",
       "                    4.0, 8.0, 10.0, 14.0, 12.0, 8.0, 12.0, 16.0, 2.0, 2.0, 4.0,\n",
       "                    2.0, 2.0, 8.0, 8.0, 71.0, 16.0, 2.0, 4.0, 2.0, 8.0, 2.0, 4.0,\n",
       "                    4.0, 8.0, 48.0, 0, 0, 0, 0, 0, 0, 0, 0, 0, 0, 0, 0, 0, 0, 0, 0,\n",
       "                    0, 0, 0, 0, 0, 0, 0, 0, 0, 0, 0, 0, 0, 0, 0, 0, 2.0, 8.0, 8.0,\n",
       "                    0, 0, 0, 0, 0, 0, 0, 0, 0, 0, 0, 0, 0, 0, 0, 0, 0, 2.0, 4.0,\n",
       "                    4.0, 4.0, 8.0, 8.0, 6.0, 6.0, 0, 0, 0, 0, 0, 0, 0, 0, 0, 0, 0,\n",
       "                    0, 0, 0, 0, 0, 0, 0, 0, 0, 0, 0, 0, 0, 0, 2.0, 4.0, 4.0, 4.0,\n",
       "                    4.0, 4.0, 0, 1.0, 2.0, 0, 0, 0, 0, 0, 4.0, 8.0, 0, 0, 0, 6.0,\n",
       "                    12.0, 0, 0, 0, 0, 0, 0, 0, 0, 0, 0, 0, 0, 0, 0, 0, 0, 0, 0, 0,\n",
       "                    0, 6.0, 0, 0, 0, 0, 0],\n",
       "              'c': [8.0, 2.0, 2.0, 2.0, 4.0, 8.0, 8.0, 4.0, 0, 0, 0, 0, 0, 0, 0,\n",
       "                    0, 0, 0, 0, 0, 0, 0, 0, 0, 0, 0, 0, 0, 0, 0, 0, 0, 4.0, 8.0,\n",
       "                    4.0, 16.0, 4.0, 8.0, 8.0, 16.0, 36.0, 0, 0, 0, 0, 0, 0, 0, 2.0,\n",
       "                    4.0, 2.0, 2.0, 12.0, 4.0, 12.0, 40.0, 4.0, 4.0, 2.0, 4.0, 8.0,\n",
       "                    4.0, 2.0, 4.0, 8.0, 16.0, 16.0, 2.0, 8.0, 24.0, 8.0, 24.0,\n",
       "                    24.0, 6.0, 24.0, 24.0, 96.0, 6.0, 12.0, 24.0, 96.0, 24.0, 12.0,\n",
       "                    24.0, 24.0, 6.0, 24.0, 6.0, 12.0, 48.0, 48.0, 48.0, 12.0, 0, 0,\n",
       "                    20.0, 14.0, 28.0, 28.0, 21.0, 18.0, 8.0, 8.0, 8.0, 16.0, 16.0,\n",
       "                    8.0, 32.0, 32.0, 16.0, 8.0, 16.0, 16.0, 16.0, 4.0, 16.0, 16.0,\n",
       "                    16.0, 32.0, 32.0, 32.0, 32.0, 16.0, 16.0, 16.0, 16.0, 0, 0, 0,\n",
       "                    0, 0, 0, 10.0, 0, 0, 7.0, 14.0, 32.0, 8.0, 8.0, 0, 0, 8.0,\n",
       "                    16.0, 27.0, 0, 0, 18.0, 9.0, 34.0, 10.0, 13.0, 22.0, 11.0,\n",
       "                    12.0, 13.0, 14.0, 15.0, 15.0, 16.0, 16.0, 18.0, 23.0, 32.0,\n",
       "                    25.0, 32.0, 32.0, 0, 32.0, 35.0, 39.0, 56.0, 64.0],\n",
       "              'cliponaxis': False,\n",
       "              'hoverinfo': 'text',\n",
       "              'hoverlabel': {'font': {'size': 14}},\n",
       "              'hovertext': [O<sub>2</sub> (11) <br> 0.007 eV/atom (+0.007\n",
       "                            eV/atom), O<sub>2</sub> (42) <br> 0.113 eV/atom (+0.113\n",
       "                            eV/atom), O<sub>2</sub> (43) <br> 0.019 eV/atom (+0.019\n",
       "                            eV/atom), O<sub>2</sub> (46) <br> 0.016 eV/atom (+0.016\n",
       "                            eV/atom), O<sub>2</sub> (108) <br> 0.108 eV/atom\n",
       "                            (+0.108 eV/atom), O<sub>2</sub> (115) <br> 0.03 eV/atom\n",
       "                            (+0.03 eV/atom), O<sub>2</sub> (116) <br> 0.008 eV/atom\n",
       "                            (+0.008 eV/atom), O<sub>2</sub> (126) <br> 0.063\n",
       "                            eV/atom (+0.063 eV/atom), C (1) <br> 0.141 eV/atom\n",
       "                            (+0.141 eV/atom), C (2) <br> 0.001 eV/atom (+0.001\n",
       "                            eV/atom), C (3) <br> 0.133 eV/atom (+0.133 eV/atom), C\n",
       "                            (6) <br> 0.003 eV/atom (+0.003 eV/atom), C (34) <br>\n",
       "                            0.003 eV/atom (+0.003 eV/atom), C (35) <br> 0.003\n",
       "                            eV/atom (+0.003 eV/atom), C (36) <br> 0.005 eV/atom\n",
       "                            (+0.005 eV/atom), C (37) <br> 0.004 eV/atom (+0.004\n",
       "                            eV/atom), C (38) <br> 0.007 eV/atom (+0.007 eV/atom), C\n",
       "                            (39) <br> 0.136 eV/atom (+0.136 eV/atom), C (40) <br>\n",
       "                            0.135 eV/atom (+0.135 eV/atom), C (41) <br> 0.004\n",
       "                            eV/atom (+0.004 eV/atom), C (44) <br> 0.137 eV/atom\n",
       "                            (+0.137 eV/atom), C (45) <br> 0.136 eV/atom (+0.136\n",
       "                            eV/atom), C (49) <br> 0.135 eV/atom (+0.135 eV/atom), C\n",
       "                            (50) <br> 0.008 eV/atom (+0.008 eV/atom), C (99) <br>\n",
       "                            0.003 eV/atom (+0.003 eV/atom), C (100) <br> 0.003\n",
       "                            eV/atom (+0.003 eV/atom), C (101) <br> 0.003 eV/atom\n",
       "                            (+0.003 eV/atom), C (106) <br> 0.003 eV/atom (+0.003\n",
       "                            eV/atom), C (113) <br> 0.237 eV/atom (+0.237 eV/atom),\n",
       "                            C (114) <br> 0.33 eV/atom (+0.33 eV/atom), C (118) <br>\n",
       "                            0.104 eV/atom (+0.104 eV/atom), C (141) <br> 0.323\n",
       "                            eV/atom (+0.323 eV/atom), CO<sub>2</sub> (10) <br>\n",
       "                            -1.308 eV/atom (+0.007 eV/atom), CO<sub>2</sub> (32)\n",
       "                            <br> -1.3 eV/atom (+0.015 eV/atom), CO<sub>2</sub> (51)\n",
       "                            <br> -1.304 eV/atom (+0.01 eV/atom), CO<sub>2</sub>\n",
       "                            (102) <br> -1.013 eV/atom (+0.301 eV/atom),\n",
       "                            CO<sub>2</sub> (110) <br> -1.282 eV/atom (+0.033\n",
       "                            eV/atom), CO<sub>2</sub> (120) <br> -1.298 eV/atom\n",
       "                            (+0.016 eV/atom), CO<sub>2</sub> (134) <br> -1.292\n",
       "                            eV/atom (+0.022 eV/atom), CO<sub>2</sub> (142) <br>\n",
       "                            -1.304 eV/atom (+0.01 eV/atom),\n",
       "                            C<sub>4</sub>O<sub>3</sub> (104) <br> -0.616 eV/atom\n",
       "                            (+0.229 eV/atom), Fe (4) <br> 0.103 eV/atom (+0.103\n",
       "                            eV/atom), Fe (5) <br> 0.173 eV/atom (+0.173 eV/atom),\n",
       "                            Fe (145) <br> 0.199 eV/atom (+0.199 eV/atom), Fe (160)\n",
       "                            <br> 0.247 eV/atom (+0.247 eV/atom), Fe (161) <br>\n",
       "                            0.113 eV/atom (+0.113 eV/atom), Fe (162) <br> 0.022\n",
       "                            eV/atom (+0.022 eV/atom), Fe (163) <br> 0.108 eV/atom\n",
       "                            (+0.108 eV/atom), FeO (68) <br> 0.065 eV/atom (+0.344\n",
       "                            eV/atom), FeO (79) <br> 0.108 eV/atom (+0.387 eV/atom),\n",
       "                            FeO (80) <br> 0.157 eV/atom (+0.436 eV/atom), FeO (81)\n",
       "                            <br> 0.156 eV/atom (+0.436 eV/atom), FeO (96) <br>\n",
       "                            0.157 eV/atom (+0.436 eV/atom), FeO (123) <br> 0.055\n",
       "                            eV/atom (+0.335 eV/atom), FeO (124) <br> 0.164 eV/atom\n",
       "                            (+0.443 eV/atom), FeO (158) <br> 0.297 eV/atom (+0.577\n",
       "                            eV/atom), FeO (165) <br> 0.055 eV/atom (+0.335\n",
       "                            eV/atom), FeO (166) <br> 0.056 eV/atom (+0.335\n",
       "                            eV/atom), FeO<sub>2</sub> (20) <br> 0.044 eV/atom\n",
       "                            (+0.323 eV/atom), FeO<sub>2</sub> (21) <br> -0.064\n",
       "                            eV/atom (+0.215 eV/atom), FeO<sub>2</sub> (67) <br>\n",
       "                            0.045 eV/atom (+0.324 eV/atom), FeO<sub>2</sub> (97)\n",
       "                            <br> -0.082 eV/atom (+0.198 eV/atom), FeO<sub>2</sub>\n",
       "                            (107) <br> 0.024 eV/atom (+0.303 eV/atom),\n",
       "                            FeO<sub>2</sub> (119) <br> 0.051 eV/atom (+0.331\n",
       "                            eV/atom), FeO<sub>2</sub> (122) <br> -0.028 eV/atom\n",
       "                            (+0.251 eV/atom), FeO<sub>2</sub> (131) <br> -0.051\n",
       "                            eV/atom (+0.228 eV/atom), FeO<sub>2</sub> (149) <br>\n",
       "                            -0.046 eV/atom (+0.234 eV/atom), FeO<sub>2</sub> (152)\n",
       "                            <br> 0.044 eV/atom (+0.323 eV/atom), FeO<sub>2</sub>\n",
       "                            (170) <br> 0.05 eV/atom (+0.329 eV/atom),\n",
       "                            FeO<sub>2</sub> (173) <br> 0.042 eV/atom (+0.321\n",
       "                            eV/atom), FeO<sub>2</sub> (175) <br> -0.051 eV/atom\n",
       "                            (+0.228 eV/atom), FeO<sub>2</sub> (176) <br> 0.04\n",
       "                            eV/atom (+0.319 eV/atom), FeO<sub>2</sub> (177) <br>\n",
       "                            0.048 eV/atom (+0.327 eV/atom), FeCO<sub>3</sub> (15)\n",
       "                            <br> -0.89 eV/atom (+0.01 eV/atom),\n",
       "                            Fe(CO<sub>3</sub>)<sub>2</sub> (78) <br> -0.877 eV/atom\n",
       "                            (+0.092 eV/atom), Fe(CO<sub>3</sub>)<sub>2</sub> (167)\n",
       "                            <br> -0.878 eV/atom (+0.091 eV/atom),\n",
       "                            Fe<sub>2</sub>O<sub>3</sub> (7) <br> -0.292 eV/atom\n",
       "                            (+0.043 eV/atom), Fe<sub>2</sub>O<sub>3</sub> (17) <br>\n",
       "                            -0.321 eV/atom (+0.014 eV/atom),\n",
       "                            Fe<sub>2</sub>O<sub>3</sub> (25) <br> -0.28 eV/atom\n",
       "                            (+0.055 eV/atom), Fe<sub>2</sub>O<sub>3</sub> (31) <br>\n",
       "                            -0.298 eV/atom (+0.037 eV/atom),\n",
       "                            Fe<sub>2</sub>O<sub>3</sub> (54) <br> -0.276 eV/atom\n",
       "                            (+0.059 eV/atom), Fe<sub>2</sub>O<sub>3</sub> (59) <br>\n",
       "                            -0.256 eV/atom (+0.079 eV/atom),\n",
       "                            Fe<sub>2</sub>O<sub>3</sub> (70) <br> -0.279 eV/atom\n",
       "                            (+0.056 eV/atom), Fe<sub>2</sub>O<sub>3</sub> (74) <br>\n",
       "                            -0.331 eV/atom (+0.004 eV/atom),\n",
       "                            Fe<sub>2</sub>O<sub>3</sub> (95) <br> -0.288 eV/atom\n",
       "                            (+0.047 eV/atom), Fe<sub>2</sub>O<sub>3</sub> (111)\n",
       "                            <br> -0.176 eV/atom (+0.159 eV/atom),\n",
       "                            Fe<sub>2</sub>O<sub>3</sub> (125) <br> -0.295 eV/atom\n",
       "                            (+0.04 eV/atom), Fe<sub>2</sub>O<sub>3</sub> (133) <br>\n",
       "                            -0.246 eV/atom (+0.089 eV/atom),\n",
       "                            Fe<sub>2</sub>O<sub>3</sub> (148) <br> -0.233 eV/atom\n",
       "                            (+0.102 eV/atom), Fe<sub>2</sub>O<sub>3</sub> (156)\n",
       "                            <br> -0.119 eV/atom (+0.217 eV/atom),\n",
       "                            Fe<sub>2</sub>O<sub>3</sub> (157) <br> -0.136 eV/atom\n",
       "                            (+0.199 eV/atom), Fe<sub>2</sub>O<sub>3</sub> (159)\n",
       "                            <br> -0.119 eV/atom (+0.216 eV/atom),\n",
       "                            Fe<sub>2</sub>O<sub>3</sub> (171) <br> -0.142 eV/atom\n",
       "                            (+0.193 eV/atom), Fe<sub>2</sub>C (8) <br> 0.041\n",
       "                            eV/atom (+0.041 eV/atom), Fe<sub>2</sub>C (121) <br>\n",
       "                            0.174 eV/atom (+0.174 eV/atom),\n",
       "                            Fe<sub>2</sub>CO<sub>5</sub> (147) <br> -0.525 eV/atom\n",
       "                            (+0.177 eV/atom),\n",
       "                            Fe<sub>2</sub>C<sub>2</sub>O<sub>7</sub> (77) <br>\n",
       "                            -0.822 eV/atom (+0.047 eV/atom),\n",
       "                            Fe<sub>2</sub>C<sub>2</sub>O<sub>7</sub> (84) <br>\n",
       "                            -0.811 eV/atom (+0.058 eV/atom),\n",
       "                            Fe<sub>2</sub>C<sub>2</sub>O<sub>7</sub> (86) <br>\n",
       "                            -0.804 eV/atom (+0.065 eV/atom),\n",
       "                            Fe<sub>2</sub>C<sub>2</sub>O<sub>7</sub> (88) <br>\n",
       "                            -0.823 eV/atom (+0.046 eV/atom),\n",
       "                            Fe<sub>2</sub>(CO<sub>3</sub>)<sub>3</sub> (85) <br>\n",
       "                            -0.927 eV/atom (+0.038 eV/atom),\n",
       "                            Fe<sub>3</sub>O<sub>4</sub> (14) <br> -0.19 eV/atom\n",
       "                            (+0.13 eV/atom), Fe<sub>3</sub>O<sub>4</sub> (16) <br>\n",
       "                            -0.232 eV/atom (+0.087 eV/atom),\n",
       "                            Fe<sub>3</sub>O<sub>4</sub> (22) <br> -0.239 eV/atom\n",
       "                            (+0.08 eV/atom), Fe<sub>3</sub>O<sub>4</sub> (24) <br>\n",
       "                            -0.132 eV/atom (+0.187 eV/atom),\n",
       "                            Fe<sub>3</sub>O<sub>4</sub> (26) <br> -0.233 eV/atom\n",
       "                            (+0.086 eV/atom), Fe<sub>3</sub>O<sub>4</sub> (47) <br>\n",
       "                            -0.115 eV/atom (+0.204 eV/atom),\n",
       "                            Fe<sub>3</sub>O<sub>4</sub> (53) <br> -0.24 eV/atom\n",
       "                            (+0.079 eV/atom), Fe<sub>3</sub>O<sub>4</sub> (56) <br>\n",
       "                            -0.152 eV/atom (+0.167 eV/atom),\n",
       "                            Fe<sub>3</sub>O<sub>4</sub> (69) <br> -0.184 eV/atom\n",
       "                            (+0.135 eV/atom), Fe<sub>3</sub>O<sub>4</sub> (72) <br>\n",
       "                            -0.188 eV/atom (+0.131 eV/atom),\n",
       "                            Fe<sub>3</sub>O<sub>4</sub> (73) <br> -0.234 eV/atom\n",
       "                            (+0.085 eV/atom), Fe<sub>3</sub>O<sub>4</sub> (75) <br>\n",
       "                            -0.233 eV/atom (+0.086 eV/atom),\n",
       "                            Fe<sub>3</sub>O<sub>4</sub> (76) <br> -0.237 eV/atom\n",
       "                            (+0.082 eV/atom), Fe<sub>3</sub>O<sub>4</sub> (127)\n",
       "                            <br> -0.16 eV/atom (+0.16 eV/atom),\n",
       "                            Fe<sub>3</sub>O<sub>4</sub> (128) <br> -0.236 eV/atom\n",
       "                            (+0.084 eV/atom), Fe<sub>3</sub>O<sub>4</sub> (129)\n",
       "                            <br> -0.163 eV/atom (+0.156 eV/atom),\n",
       "                            Fe<sub>3</sub>O<sub>4</sub> (130) <br> -0.25 eV/atom\n",
       "                            (+0.069 eV/atom), Fe<sub>3</sub>O<sub>4</sub> (132)\n",
       "                            <br> -0.245 eV/atom (+0.074 eV/atom),\n",
       "                            Fe<sub>3</sub>O<sub>4</sub> (135) <br> -0.245 eV/atom\n",
       "                            (+0.075 eV/atom), Fe<sub>3</sub>O<sub>4</sub> (136)\n",
       "                            <br> -0.243 eV/atom (+0.076 eV/atom),\n",
       "                            Fe<sub>3</sub>O<sub>4</sub> (139) <br> -0.241 eV/atom\n",
       "                            (+0.079 eV/atom), Fe<sub>3</sub>O<sub>4</sub> (143)\n",
       "                            <br> -0.189 eV/atom (+0.13 eV/atom),\n",
       "                            Fe<sub>3</sub>O<sub>4</sub> (164) <br> -0.242 eV/atom\n",
       "                            (+0.077 eV/atom), Fe<sub>3</sub>O<sub>4</sub> (168)\n",
       "                            <br> -0.239 eV/atom (+0.08 eV/atom),\n",
       "                            Fe<sub>3</sub>O<sub>4</sub> (169) <br> -0.24 eV/atom\n",
       "                            (+0.079 eV/atom), Fe<sub>3</sub>C (12) <br> 0.046\n",
       "                            eV/atom (+0.046 eV/atom), Fe<sub>3</sub>C (27) <br>\n",
       "                            0.042 eV/atom (+0.042 eV/atom), Fe<sub>3</sub>C (48)\n",
       "                            <br> 0.114 eV/atom (+0.114 eV/atom), Fe<sub>3</sub>C\n",
       "                            (138) <br> 0.238 eV/atom (+0.238 eV/atom),\n",
       "                            Fe<sub>3</sub>C (150) <br> 0.144 eV/atom (+0.144\n",
       "                            eV/atom), Fe<sub>3</sub>C (151) <br> 0.15 eV/atom\n",
       "                            (+0.15 eV/atom), Fe<sub>4</sub>O<sub>5</sub> (140) <br>\n",
       "                            -0.126 eV/atom (+0.185 eV/atom), Fe<sub>4</sub>C (109)\n",
       "                            <br> 0.275 eV/atom (+0.275 eV/atom), Fe<sub>4</sub>C\n",
       "                            (112) <br> 0.111 eV/atom (+0.111 eV/atom),\n",
       "                            Fe<sub>5</sub>O<sub>7</sub> (117) <br> -0.182 eV/atom\n",
       "                            (+0.144 eV/atom), Fe<sub>5</sub>O<sub>7</sub> (172)\n",
       "                            <br> -0.133 eV/atom (+0.193 eV/atom),\n",
       "                            Fe<sub>5</sub>O<sub>8</sub> (28) <br> -0.215 eV/atom\n",
       "                            (+0.107 eV/atom), Fe<sub>5</sub>O<sub>8</sub> (154)\n",
       "                            <br> -0.192 eV/atom (+0.13 eV/atom),\n",
       "                            Fe<sub>5</sub>O<sub>8</sub> (155) <br> -0.2 eV/atom\n",
       "                            (+0.122 eV/atom), Fe<sub>5</sub>C<sub>2</sub> (9) <br>\n",
       "                            0.044 eV/atom (+0.044 eV/atom),\n",
       "                            Fe<sub>5</sub>C<sub>2</sub> (52) <br> 0.046 eV/atom\n",
       "                            (+0.046 eV/atom), Fe<sub>7</sub>O<sub>8</sub> (23) <br>\n",
       "                            -0.046 eV/atom (+0.252 eV/atom),\n",
       "                            Fe<sub>7</sub>O<sub>8</sub> (71) <br> -0.047 eV/atom\n",
       "                            (+0.251 eV/atom), Fe<sub>7</sub>O<sub>9</sub> (63) <br>\n",
       "                            -0.037 eV/atom (+0.277 eV/atom),\n",
       "                            Fe<sub>7</sub>C<sub>3</sub> (13) <br> 0.063 eV/atom\n",
       "                            (+0.063 eV/atom), Fe<sub>7</sub>C<sub>3</sub> (19) <br>\n",
       "                            0.046 eV/atom (+0.046 eV/atom),\n",
       "                            Fe<sub>8</sub>O<sub>9</sub> (64) <br> -0.042 eV/atom\n",
       "                            (+0.254 eV/atom), Fe<sub>8</sub>O<sub>9</sub> (90) <br>\n",
       "                            -0.03 eV/atom (+0.266 eV/atom),\n",
       "                            Fe<sub>8</sub>O<sub>17</sub> (137) <br> 0.062 eV/atom\n",
       "                            (+0.33 eV/atom), Fe<sub>9</sub>O<sub>10</sub> (87) <br>\n",
       "                            -0.033 eV/atom (+0.261 eV/atom),\n",
       "                            Fe<sub>9</sub>O<sub>13</sub> (174) <br> -0.124 eV/atom\n",
       "                            (+0.206 eV/atom), Fe<sub>10</sub>O<sub>11</sub> (62)\n",
       "                            <br> -0.019 eV/atom (+0.273 eV/atom),\n",
       "                            Fe<sub>10</sub>O<sub>11</sub> (89) <br> -0.01 eV/atom\n",
       "                            (+0.283 eV/atom), Fe<sub>11</sub>O<sub>12</sub> (57)\n",
       "                            <br> -0.01 eV/atom (+0.281 eV/atom),\n",
       "                            Fe<sub>12</sub>O<sub>13</sub> (91) <br> -0.004 eV/atom\n",
       "                            (+0.286 eV/atom), Fe<sub>13</sub>O<sub>14</sub> (55)\n",
       "                            <br> 0.003 eV/atom (+0.293 eV/atom),\n",
       "                            Fe<sub>13</sub>O<sub>15</sub> (82) <br> -0.047 eV/atom\n",
       "                            (+0.253 eV/atom), Fe<sub>14</sub>O<sub>15</sub> (92)\n",
       "                            <br> 0.011 eV/atom (+0.3 eV/atom),\n",
       "                            Fe<sub>15</sub>O<sub>16</sub> (60) <br> 0.043 eV/atom\n",
       "                            (+0.332 eV/atom), Fe<sub>15</sub>O<sub>16</sub> (153)\n",
       "                            <br> 0.046 eV/atom (+0.334 eV/atom),\n",
       "                            Fe<sub>17</sub>O<sub>18</sub> (58) <br> 0.016 eV/atom\n",
       "                            (+0.303 eV/atom), Fe<sub>21</sub>O<sub>23</sub> (66)\n",
       "                            <br> -0.011 eV/atom (+0.281 eV/atom),\n",
       "                            Fe<sub>21</sub>O<sub>32</sub> (29) <br> -0.223 eV/atom\n",
       "                            (+0.109 eV/atom), Fe<sub>23</sub>O<sub>25</sub> (61)\n",
       "                            <br> -0.004 eV/atom (+0.287 eV/atom),\n",
       "                            Fe<sub>23</sub>O<sub>32</sub> (93) <br> -0.171 eV/atom\n",
       "                            (+0.154 eV/atom), Fe<sub>23</sub>O<sub>32</sub> (94)\n",
       "                            <br> -0.237 eV/atom (+0.087 eV/atom),\n",
       "                            Fe<sub>23</sub>C<sub>6</sub> (144) <br> 0.024 eV/atom\n",
       "                            (+0.024 eV/atom), Fe<sub>25</sub>O<sub>32</sub> (146)\n",
       "                            <br> -0.067 eV/atom (+0.246 eV/atom),\n",
       "                            Fe<sub>32</sub>O<sub>35</sub> (98) <br> -0.01 eV/atom\n",
       "                            (+0.282 eV/atom), Fe<sub>38</sub>O<sub>39</sub> (65)\n",
       "                            <br> 0.042 eV/atom (+0.325 eV/atom),\n",
       "                            Fe<sub>41</sub>O<sub>56</sub> (83) <br> -0.243 eV/atom\n",
       "                            (+0.079 eV/atom), Fe<sub>43</sub>O<sub>64</sub> (30)\n",
       "                            <br> -0.289 eV/atom (+0.045 eV/atom)],\n",
       "              'marker': {'color': [0.007, 0.113, 0.019, 0.016, 0.108, 0.03, 0.008,\n",
       "                                   0.063, 0.141, 0.001, 0.133, 0.003, 0.003, 0.003,\n",
       "                                   0.005, 0.004, 0.007, 0.136, 0.135, 0.004, 0.137,\n",
       "                                   0.136, 0.135, 0.008, 0.003, 0.003, 0.003, 0.003,\n",
       "                                   0.237, 0.33, 0.104, 0.323, 0.007, 0.015, 0.01,\n",
       "                                   0.301, 0.033, 0.016, 0.022, 0.01, 0.229, 0.103,\n",
       "                                   0.173, 0.199, 0.247, 0.113, 0.022, 0.108, 0.344,\n",
       "                                   0.387, 0.436, 0.436, 0.436, 0.335, 0.443, 0.577,\n",
       "                                   0.335, 0.335, 0.323, 0.215, 0.324, 0.198, 0.303,\n",
       "                                   0.331, 0.251, 0.228, 0.234, 0.323, 0.329, 0.321,\n",
       "                                   0.228, 0.319, 0.327, 0.01, 0.092, 0.091, 0.043,\n",
       "                                   0.014, 0.055, 0.037, 0.059, 0.079, 0.056, 0.004,\n",
       "                                   0.047, 0.159, 0.04, 0.089, 0.102, 0.217, 0.199,\n",
       "                                   0.216, 0.193, 0.041, 0.174, 0.177, 0.047, 0.058,\n",
       "                                   0.065, 0.046, 0.038, 0.13, 0.087, 0.08, 0.187,\n",
       "                                   0.086, 0.204, 0.079, 0.167, 0.135, 0.131, 0.085,\n",
       "                                   0.086, 0.082, 0.16, 0.084, 0.156, 0.069, 0.074,\n",
       "                                   0.075, 0.076, 0.079, 0.13, 0.077, 0.08, 0.079,\n",
       "                                   0.046, 0.042, 0.114, 0.238, 0.144, 0.15, 0.185,\n",
       "                                   0.275, 0.111, 0.144, 0.193, 0.107, 0.13, 0.122,\n",
       "                                   0.044, 0.046, 0.252, 0.251, 0.277, 0.063, 0.046,\n",
       "                                   0.254, 0.266, 0.33, 0.261, 0.206, 0.273, 0.283,\n",
       "                                   0.281, 0.286, 0.293, 0.253, 0.3, 0.332, 0.334,\n",
       "                                   0.303, 0.281, 0.109, 0.287, 0.154, 0.087, 0.024,\n",
       "                                   0.246, 0.282, 0.325, 0.079, 0.045],\n",
       "                         'colorbar': {'len': 0.5,\n",
       "                                      'thickness': 0.02,\n",
       "                                      'thicknessmode': 'fraction',\n",
       "                                      'title': {'text': 'Energy Above Hull<br>(eV/atom)'},\n",
       "                                      'x': 0,\n",
       "                                      'xpad': 0,\n",
       "                                      'y': 1,\n",
       "                                      'yanchor': 'top',\n",
       "                                      'ypad': 0},\n",
       "                         'colorscale': [[0.0, '#fff5e3'], [0.5, '#f24324'], [1.0,\n",
       "                                        '#c40000']],\n",
       "                         'line': {'color': 'black', 'width': 1},\n",
       "                         'opacity': 0.8,\n",
       "                         'size': 4,\n",
       "                         'symbol': 'diamond'},\n",
       "              'mode': 'markers',\n",
       "              'name': 'Above Hull',\n",
       "              'showlegend': True,\n",
       "              'type': 'scatterternary',\n",
       "              'uid': '23e40268-073d-4447-88b6-0048dcd78886'}],\n",
       "    'layout': {'autosize': True,\n",
       "               'coloraxis': {'colorbar': {'x': 1, 'y': 0.05, 'yanchor': 'top'}},\n",
       "               'height': 400,\n",
       "               'margin': {'b': 40, 'l': 20, 'r': 20, 't': 40},\n",
       "               'paper_bgcolor': 'rgba(0.9.,0.9.,0.9.,0.9)',\n",
       "               'plot_bgcolor': 'rgba(0,0,0,0)',\n",
       "               'showlegend': True,\n",
       "               'template': '...',\n",
       "               'ternary': {'aaxis': {'layer': 'below traces',\n",
       "                                     'showgrid': True,\n",
       "                                     'showticklabels': True,\n",
       "                                     'tickfont': {'color': 'rgba(0,0,0,0)', 'size': 7},\n",
       "                                     'title': {'font': {'size': 24}, 'text': 'Fe'}},\n",
       "                           'baxis': {'layer': 'below traces',\n",
       "                                     'min': 0,\n",
       "                                     'showgrid': True,\n",
       "                                     'showticklabels': True,\n",
       "                                     'tickfont': {'color': 'rgba(0,0,0,0)', 'size': 7},\n",
       "                                     'title': {'font': {'size': 24}, 'text': 'C'}},\n",
       "                           'caxis': {'layer': 'below traces',\n",
       "                                     'min': 0,\n",
       "                                     'showgrid': True,\n",
       "                                     'showticklabels': True,\n",
       "                                     'tickfont': {'color': 'rgba(0,0,0,0)', 'size': 7},\n",
       "                                     'title': {'font': {'size': 24}, 'text': 'O'}},\n",
       "                           'sum': 1},\n",
       "               'width': 800}\n",
       "})"
      ]
     },
     "metadata": {},
     "output_type": "display_data"
    },
    {
     "name": "stdout",
     "output_type": "stream",
     "text": [
      "Original Materials Project\n"
     ]
    },
    {
     "data": {
      "application/vnd.jupyter.widget-view+json": {
       "model_id": "c9578efa8bec4939a189c8dedafde887",
       "version_major": 2,
       "version_minor": 0
      },
      "text/plain": [
       "FigureWidget({\n",
       "    'data': [{'a': [0, 1.0, None, 0, 2.0, None, 4.0, 0, None, 0, 1.0, None, 0, 0,\n",
       "                    None, 2.0, 4.0, None, 0, 4.0, None, 4.0, 1.0, None, 0, 0, None,\n",
       "                    2.0, 1.0, None],\n",
       "              'b': [4.0, 0, None, 4.0, 2.0, None, 0, 0, None, 4.0, 0, None, 4.0,\n",
       "                    4.0, None, 2.0, 0, None, 4.0, 0, None, 0, 0, None, 4.0, 0,\n",
       "                    None, 2.0, 0, None],\n",
       "              'c': [8.0, 0, None, 8.0, 6.0, None, 6.0, 8.0, None, 0, 0, None, 8.0,\n",
       "                    0, None, 6.0, 6.0, None, 8.0, 6.0, None, 6.0, 0, None, 8.0,\n",
       "                    8.0, None, 6.0, 0, None],\n",
       "              'hoverinfo': 'none',\n",
       "              'line': {'color': 'black', 'width': 1.5},\n",
       "              'marker': {'size': 4},\n",
       "              'mode': 'lines',\n",
       "              'showlegend': False,\n",
       "              'type': 'scatterternary',\n",
       "              'uid': 'dcd540c7-8525-49ba-9817-9a9d57523487'},\n",
       "             {'a': [0, 0, 1.0],\n",
       "              'b': [4.0, 4.0, 0],\n",
       "              'c': [0, 8.0, 0],\n",
       "              'fill': 'toself',\n",
       "              'fillcolor': '#2E91E5',\n",
       "              'hovertemplate': '<extra></extra>',\n",
       "              'line': {'width': 0},\n",
       "              'marker': {'size': 4},\n",
       "              'mode': 'lines',\n",
       "              'name': 'C—CO<sub>2</sub>—Fe',\n",
       "              'opacity': 0.15,\n",
       "              'showlegend': False,\n",
       "              'type': 'scatterternary',\n",
       "              'uid': '737ec550-2c5c-4212-8548-7b9e618451a5'},\n",
       "             {'a': [0, 4.0, 0],\n",
       "              'b': [4.0, 0, 0],\n",
       "              'c': [8.0, 6.0, 8.0],\n",
       "              'fill': 'toself',\n",
       "              'fillcolor': '#E15F99',\n",
       "              'hovertemplate': '<extra></extra>',\n",
       "              'line': {'width': 0},\n",
       "              'marker': {'size': 4},\n",
       "              'mode': 'lines',\n",
       "              'name': 'CO<sub>2</sub>—Fe<sub>2</sub>O<sub>3</sub>—O<sub>2</sub>',\n",
       "              'opacity': 0.15,\n",
       "              'showlegend': False,\n",
       "              'type': 'scatterternary',\n",
       "              'uid': 'adfc2f95-ee27-4e6c-833b-b5e5637ab48e'},\n",
       "             {'a': [1.0, 4.0, 2.0],\n",
       "              'b': [0, 0, 2.0],\n",
       "              'c': [0, 6.0, 6.0],\n",
       "              'fill': 'toself',\n",
       "              'fillcolor': '#1CA71C',\n",
       "              'hovertemplate': '<extra></extra>',\n",
       "              'line': {'width': 0},\n",
       "              'marker': {'size': 4},\n",
       "              'mode': 'lines',\n",
       "              'name': 'Fe—Fe<sub>2</sub>O<sub>3</sub>—FeCO<sub>3</sub>',\n",
       "              'opacity': 0.15,\n",
       "              'showlegend': False,\n",
       "              'type': 'scatterternary',\n",
       "              'uid': '246aa44b-946d-45e0-85db-c5684642e810'},\n",
       "             {'a': [0, 1.0, 2.0],\n",
       "              'b': [4.0, 0, 2.0],\n",
       "              'c': [8.0, 0, 6.0],\n",
       "              'fill': 'toself',\n",
       "              'fillcolor': '#FB0D0D',\n",
       "              'hovertemplate': '<extra></extra>',\n",
       "              'line': {'width': 0},\n",
       "              'marker': {'size': 4},\n",
       "              'mode': 'lines',\n",
       "              'name': 'CO<sub>2</sub>—Fe—FeCO<sub>3</sub>',\n",
       "              'opacity': 0.15,\n",
       "              'showlegend': False,\n",
       "              'type': 'scatterternary',\n",
       "              'uid': 'eb3fee95-880f-4575-8ee8-81c211ca91a4'},\n",
       "             {'a': [0, 4.0, 2.0],\n",
       "              'b': [4.0, 0, 2.0],\n",
       "              'c': [8.0, 6.0, 6.0],\n",
       "              'fill': 'toself',\n",
       "              'fillcolor': '#DA16FF',\n",
       "              'hovertemplate': '<extra></extra>',\n",
       "              'line': {'width': 0},\n",
       "              'marker': {'size': 4},\n",
       "              'mode': 'lines',\n",
       "              'name': 'CO<sub>2</sub>—Fe<sub>2</sub>O<sub>3</sub>—FeCO<sub>3</sub>',\n",
       "              'opacity': 0.15,\n",
       "              'showlegend': False,\n",
       "              'type': 'scatterternary',\n",
       "              'uid': '5dd0a918-ee25-42ce-93a5-e30dcb29739c'},\n",
       "             {'a': [0, 1.0, 2.0, 4.0, 0, 0],\n",
       "              'b': [4.0, 0, 2.0, 0, 0, 4.0],\n",
       "              'c': [8.0, 0, 6.0, 6.0, 8.0, 0],\n",
       "              'cliponaxis': False,\n",
       "              'hoverinfo': 'text',\n",
       "              'hoverlabel': {'font': {'size': 14}},\n",
       "              'hovertext': [CO<sub>2</sub> (18) <br> -1.312 eV/atom (Stable), Fe\n",
       "                            (0) <br> 0.0 eV/atom (Stable), FeCO<sub>3</sub> (15)\n",
       "                            <br> -0.927 eV/atom (Stable),\n",
       "                            Fe<sub>2</sub>O<sub>3</sub> (17) <br> -0.392 eV/atom\n",
       "                            (Stable), O<sub>2</sub> (11) <br> 0.0 eV/atom (Stable),\n",
       "                            C (37) <br> 0.0 eV/atom (Stable)],\n",
       "              'marker': {'color': 'green', 'line': {'color': 'black', 'width': 2.0}, 'size': 4, 'symbol': 'circle'},\n",
       "              'mode': 'markers',\n",
       "              'name': 'Stable',\n",
       "              'showlegend': True,\n",
       "              'type': 'scatterternary',\n",
       "              'uid': '4120d346-64ba-4a8d-8e77-465cdf3f1ea5'},\n",
       "             {'a': [0, 0, 0, 0, 0, 0, 0, 0, 0, 0, 0, 0, 0, 0, 0, 0, 0, 0, 0, 0, 0,\n",
       "                    0, 0, 0, 0, 0, 0, 0, 0, 0, 0, 0, 0, 0, 0, 0, 0, 0, 0, 0, 0,\n",
       "                    2.0, 1.0, 28.0, 100.0, 2.0, 4.0, 4.0, 2.0, 2.0, 8.0, 8.0, 4.0,\n",
       "                    4.0, 4.0, 64.0, 8.0, 16.0, 16.0, 64.0, 16.0, 8.0, 16.0, 16.0,\n",
       "                    4.0, 16.0, 4.0, 8.0, 32.0, 32.0, 32.0, 8.0, 4.0, 8.0, 8.0, 4.0,\n",
       "                    8.0, 8.0, 6.0, 4.0, 6.0, 6.0, 6.0, 12.0, 12.0, 6.0, 24.0, 24.0,\n",
       "                    12.0, 6.0, 12.0, 12.0, 12.0, 3.0, 12.0, 12.0, 12.0, 24.0, 24.0,\n",
       "                    24.0, 24.0, 12.0, 12.0, 12.0, 12.0, 6.0, 12.0, 12.0, 12.0,\n",
       "                    12.0, 12.0, 8.0, 4.0, 8.0, 5.0, 10.0, 20.0, 5.0, 5.0, 10.0,\n",
       "                    20.0, 14.0, 14.0, 28.0, 16.0, 8.0, 9.0, 9.0, 20.0, 10.0, 11.0,\n",
       "                    13.0, 21.0, 21.0, 23.0, 23.0, 23.0, 23.0, 41.0, 43.0],\n",
       "              'b': [0, 0, 0, 0, 0, 0, 0, 0, 4.0, 4.0, 2.0, 2.0, 4.0, 4.0, 2.0,\n",
       "                    8.0, 10.0, 14.0, 12.0, 8.0, 12.0, 16.0, 2.0, 2.0, 4.0, 2.0,\n",
       "                    4.0, 2.0, 8.0, 8.0, 71.0, 16.0, 2.0, 4.0, 2.0, 8.0, 2.0, 4.0,\n",
       "                    4.0, 8.0, 48.0, 0, 0, 0, 0, 0, 0, 0, 0, 0, 0, 0, 0, 8.0, 8.0,\n",
       "                    0, 0, 0, 0, 0, 0, 0, 0, 0, 0, 0, 0, 0, 0, 0, 0, 0, 2.0, 4.0,\n",
       "                    4.0, 4.0, 8.0, 8.0, 6.0, 6.0, 0, 0, 0, 0, 0, 0, 0, 0, 0, 0, 0,\n",
       "                    0, 0, 0, 0, 0, 0, 0, 0, 0, 0, 0, 0, 0, 0, 2.0, 4.0, 4.0, 4.0,\n",
       "                    4.0, 4.0, 0, 1.0, 2.0, 0, 0, 0, 0, 0, 4.0, 8.0, 0, 6.0, 12.0,\n",
       "                    0, 0, 0, 0, 0, 0, 0, 0, 0, 0, 0, 0, 0, 6.0, 0, 0],\n",
       "              'c': [2.0, 2.0, 2.0, 2.0, 4.0, 8.0, 8.0, 4.0, 0, 0, 0, 0, 0, 0, 0,\n",
       "                    0, 0, 0, 0, 0, 0, 0, 0, 0, 0, 0, 0, 0, 0, 0, 0, 0, 4.0, 8.0,\n",
       "                    4.0, 16.0, 4.0, 8.0, 8.0, 16.0, 36.0, 0, 0, 0, 0, 0, 0, 0, 4.0,\n",
       "                    4.0, 16.0, 16.0, 8.0, 24.0, 24.0, 96.0, 12.0, 24.0, 24.0, 96.0,\n",
       "                    24.0, 12.0, 24.0, 24.0, 6.0, 24.0, 6.0, 12.0, 48.0, 48.0, 48.0,\n",
       "                    12.0, 0, 0, 20.0, 14.0, 28.0, 28.0, 21.0, 18.0, 8.0, 8.0, 8.0,\n",
       "                    16.0, 16.0, 8.0, 32.0, 32.0, 16.0, 8.0, 16.0, 16.0, 16.0, 4.0,\n",
       "                    16.0, 16.0, 16.0, 32.0, 32.0, 32.0, 32.0, 16.0, 16.0, 16.0,\n",
       "                    16.0, 0, 0, 0, 0, 0, 0, 10.0, 0, 0, 7.0, 14.0, 32.0, 8.0, 8.0,\n",
       "                    0, 0, 16.0, 0, 0, 18.0, 9.0, 10.0, 13.0, 22.0, 11.0, 12.0,\n",
       "                    15.0, 23.0, 32.0, 25.0, 32.0, 32.0, 0, 56.0, 64.0],\n",
       "              'cliponaxis': False,\n",
       "              'hoverinfo': 'text',\n",
       "              'hoverlabel': {'font': {'size': 14}},\n",
       "              'hovertext': [O<sub>2</sub> (42) <br> 0.124 eV/atom (+0.124\n",
       "                            eV/atom), O<sub>2</sub> (43) <br> 0.012 eV/atom (+0.012\n",
       "                            eV/atom), O<sub>2</sub> (46) <br> 0.01 eV/atom (+0.01\n",
       "                            eV/atom), O<sub>2</sub> (105) <br> 0.002 eV/atom\n",
       "                            (+0.002 eV/atom), O<sub>2</sub> (108) <br> 0.126\n",
       "                            eV/atom (+0.126 eV/atom), O<sub>2</sub> (115) <br>\n",
       "                            0.018 eV/atom (+0.018 eV/atom), O<sub>2</sub> (116)\n",
       "                            <br> 0.001 eV/atom (+0.001 eV/atom), O<sub>2</sub>\n",
       "                            (126) <br> 0.03 eV/atom (+0.03 eV/atom), C (1) <br>\n",
       "                            0.162 eV/atom (+0.162 eV/atom), C (2) <br> 0.006\n",
       "                            eV/atom (+0.006 eV/atom), C (3) <br> 0.136 eV/atom\n",
       "                            (+0.136 eV/atom), C (6) <br> 0.001 eV/atom (+0.001\n",
       "                            eV/atom), C (34) <br> 0.006 eV/atom (+0.006 eV/atom), C\n",
       "                            (35) <br> 0.006 eV/atom (+0.006 eV/atom), C (36) <br>\n",
       "                            0.01 eV/atom (+0.01 eV/atom), C (38) <br> 0.028 eV/atom\n",
       "                            (+0.028 eV/atom), C (39) <br> 0.145 eV/atom (+0.145\n",
       "                            eV/atom), C (40) <br> 0.144 eV/atom (+0.144 eV/atom), C\n",
       "                            (41) <br> 0.008 eV/atom (+0.008 eV/atom), C (44) <br>\n",
       "                            0.146 eV/atom (+0.146 eV/atom), C (45) <br> 0.143\n",
       "                            eV/atom (+0.143 eV/atom), C (49) <br> 0.141 eV/atom\n",
       "                            (+0.141 eV/atom), C (50) <br> 0.012 eV/atom (+0.012\n",
       "                            eV/atom), C (99) <br> 0.004 eV/atom (+0.004 eV/atom), C\n",
       "                            (100) <br> 0.008 eV/atom (+0.008 eV/atom), C (101) <br>\n",
       "                            0.007 eV/atom (+0.007 eV/atom), C (103) <br> 0.008\n",
       "                            eV/atom (+0.008 eV/atom), C (106) <br> 0.008 eV/atom\n",
       "                            (+0.008 eV/atom), C (113) <br> 0.266 eV/atom (+0.266\n",
       "                            eV/atom), C (114) <br> 0.299 eV/atom (+0.299 eV/atom),\n",
       "                            C (118) <br> 0.116 eV/atom (+0.116 eV/atom), C (141)\n",
       "                            <br> 0.291 eV/atom (+0.291 eV/atom), CO<sub>2</sub>\n",
       "                            (10) <br> -1.305 eV/atom (+0.007 eV/atom),\n",
       "                            CO<sub>2</sub> (32) <br> -1.297 eV/atom (+0.015\n",
       "                            eV/atom), CO<sub>2</sub> (51) <br> -1.301 eV/atom\n",
       "                            (+0.011 eV/atom), CO<sub>2</sub> (102) <br> -1.015\n",
       "                            eV/atom (+0.297 eV/atom), CO<sub>2</sub> (110) <br>\n",
       "                            -1.281 eV/atom (+0.031 eV/atom), CO<sub>2</sub> (120)\n",
       "                            <br> -1.295 eV/atom (+0.017 eV/atom), CO<sub>2</sub>\n",
       "                            (134) <br> -1.294 eV/atom (+0.018 eV/atom),\n",
       "                            CO<sub>2</sub> (142) <br> -1.303 eV/atom (+0.009\n",
       "                            eV/atom), C<sub>4</sub>O<sub>3</sub> (104) <br> -0.607\n",
       "                            eV/atom (+0.236 eV/atom), Fe (4) <br> 0.098 eV/atom\n",
       "                            (+0.098 eV/atom), Fe (5) <br> 0.148 eV/atom (+0.148\n",
       "                            eV/atom), Fe (145) <br> 0.175 eV/atom (+0.175 eV/atom),\n",
       "                            Fe (160) <br> 0.279 eV/atom (+0.279 eV/atom), Fe (161)\n",
       "                            <br> 0.099 eV/atom (+0.099 eV/atom), Fe (162) <br>\n",
       "                            0.017 eV/atom (+0.017 eV/atom), Fe (163) <br> 0.055\n",
       "                            eV/atom (+0.055 eV/atom), FeO<sub>2</sub> (21) <br>\n",
       "                            -0.045 eV/atom (+0.282 eV/atom), FeO<sub>2</sub> (97)\n",
       "                            <br> -0.067 eV/atom (+0.26 eV/atom), FeO<sub>2</sub>\n",
       "                            (131) <br> -0.032 eV/atom (+0.295 eV/atom),\n",
       "                            FeO<sub>2</sub> (149) <br> -0.026 eV/atom (+0.301\n",
       "                            eV/atom), FeO<sub>2</sub> (175) <br> -0.033 eV/atom\n",
       "                            (+0.294 eV/atom), Fe(CO<sub>3</sub>)<sub>2</sub> (78)\n",
       "                            <br> -0.876 eV/atom (+0.107 eV/atom),\n",
       "                            Fe(CO<sub>3</sub>)<sub>2</sub> (167) <br> -0.874\n",
       "                            eV/atom (+0.109 eV/atom), Fe<sub>2</sub>O<sub>3</sub>\n",
       "                            (7) <br> -0.273 eV/atom (+0.119 eV/atom),\n",
       "                            Fe<sub>2</sub>O<sub>3</sub> (25) <br> -0.262 eV/atom\n",
       "                            (+0.131 eV/atom), Fe<sub>2</sub>O<sub>3</sub> (31) <br>\n",
       "                            -0.277 eV/atom (+0.116 eV/atom),\n",
       "                            Fe<sub>2</sub>O<sub>3</sub> (33) <br> -0.321 eV/atom\n",
       "                            (+0.071 eV/atom), Fe<sub>2</sub>O<sub>3</sub> (54) <br>\n",
       "                            -0.167 eV/atom (+0.225 eV/atom),\n",
       "                            Fe<sub>2</sub>O<sub>3</sub> (59) <br> -0.233 eV/atom\n",
       "                            (+0.16 eV/atom), Fe<sub>2</sub>O<sub>3</sub> (70) <br>\n",
       "                            -0.259 eV/atom (+0.134 eV/atom),\n",
       "                            Fe<sub>2</sub>O<sub>3</sub> (74) <br> -0.315 eV/atom\n",
       "                            (+0.077 eV/atom), Fe<sub>2</sub>O<sub>3</sub> (95) <br>\n",
       "                            -0.269 eV/atom (+0.123 eV/atom),\n",
       "                            Fe<sub>2</sub>O<sub>3</sub> (111) <br> -0.156 eV/atom\n",
       "                            (+0.236 eV/atom), Fe<sub>2</sub>O<sub>3</sub> (125)\n",
       "                            <br> -0.28 eV/atom (+0.113 eV/atom),\n",
       "                            Fe<sub>2</sub>O<sub>3</sub> (133) <br> -0.224 eV/atom\n",
       "                            (+0.168 eV/atom), Fe<sub>2</sub>O<sub>3</sub> (148)\n",
       "                            <br> -0.215 eV/atom (+0.177 eV/atom),\n",
       "                            Fe<sub>2</sub>O<sub>3</sub> (156) <br> -0.103 eV/atom\n",
       "                            (+0.29 eV/atom), Fe<sub>2</sub>O<sub>3</sub> (157) <br>\n",
       "                            -0.119 eV/atom (+0.274 eV/atom),\n",
       "                            Fe<sub>2</sub>O<sub>3</sub> (159) <br> -0.104 eV/atom\n",
       "                            (+0.289 eV/atom), Fe<sub>2</sub>O<sub>3</sub> (171)\n",
       "                            <br> -0.117 eV/atom (+0.275 eV/atom), Fe<sub>2</sub>C\n",
       "                            (8) <br> 0.059 eV/atom (+0.059 eV/atom),\n",
       "                            Fe<sub>2</sub>C (121) <br> 0.178 eV/atom (+0.178\n",
       "                            eV/atom), Fe<sub>2</sub>CO<sub>5</sub> (147) <br> -0.51\n",
       "                            eV/atom (+0.227 eV/atom),\n",
       "                            Fe<sub>2</sub>C<sub>2</sub>O<sub>7</sub> (77) <br>\n",
       "                            -0.806 eV/atom (+0.088 eV/atom),\n",
       "                            Fe<sub>2</sub>C<sub>2</sub>O<sub>7</sub> (84) <br>\n",
       "                            -0.798 eV/atom (+0.096 eV/atom),\n",
       "                            Fe<sub>2</sub>C<sub>2</sub>O<sub>7</sub> (86) <br>\n",
       "                            -0.818 eV/atom (+0.077 eV/atom),\n",
       "                            Fe<sub>2</sub>C<sub>2</sub>O<sub>7</sub> (88) <br>\n",
       "                            -0.827 eV/atom (+0.067 eV/atom),\n",
       "                            Fe<sub>2</sub>(CO<sub>3</sub>)<sub>3</sub> (85) <br>\n",
       "                            -0.922 eV/atom (+0.062 eV/atom),\n",
       "                            Fe<sub>3</sub>O<sub>4</sub> (14) <br> -0.177 eV/atom\n",
       "                            (+0.196 eV/atom), Fe<sub>3</sub>O<sub>4</sub> (16) <br>\n",
       "                            -0.27 eV/atom (+0.104 eV/atom),\n",
       "                            Fe<sub>3</sub>O<sub>4</sub> (22) <br> -0.269 eV/atom\n",
       "                            (+0.105 eV/atom), Fe<sub>3</sub>O<sub>4</sub> (24) <br>\n",
       "                            -0.119 eV/atom (+0.254 eV/atom),\n",
       "                            Fe<sub>3</sub>O<sub>4</sub> (26) <br> -0.211 eV/atom\n",
       "                            (+0.163 eV/atom), Fe<sub>3</sub>O<sub>4</sub> (47) <br>\n",
       "                            -0.108 eV/atom (+0.265 eV/atom),\n",
       "                            Fe<sub>3</sub>O<sub>4</sub> (53) <br> -0.226 eV/atom\n",
       "                            (+0.147 eV/atom), Fe<sub>3</sub>O<sub>4</sub> (56) <br>\n",
       "                            -0.14 eV/atom (+0.234 eV/atom),\n",
       "                            Fe<sub>3</sub>O<sub>4</sub> (69) <br> -0.172 eV/atom\n",
       "                            (+0.202 eV/atom), Fe<sub>3</sub>O<sub>4</sub> (72) <br>\n",
       "                            -0.175 eV/atom (+0.198 eV/atom),\n",
       "                            Fe<sub>3</sub>O<sub>4</sub> (73) <br> -0.207 eV/atom\n",
       "                            (+0.167 eV/atom), Fe<sub>3</sub>O<sub>4</sub> (75) <br>\n",
       "                            -0.207 eV/atom (+0.167 eV/atom),\n",
       "                            Fe<sub>3</sub>O<sub>4</sub> (76) <br> -0.21 eV/atom\n",
       "                            (+0.163 eV/atom), Fe<sub>3</sub>O<sub>4</sub> (127)\n",
       "                            <br> -0.162 eV/atom (+0.212 eV/atom),\n",
       "                            Fe<sub>3</sub>O<sub>4</sub> (128) <br> -0.21 eV/atom\n",
       "                            (+0.164 eV/atom), Fe<sub>3</sub>O<sub>4</sub> (129)\n",
       "                            <br> -0.153 eV/atom (+0.221 eV/atom),\n",
       "                            Fe<sub>3</sub>O<sub>4</sub> (130) <br> -0.245 eV/atom\n",
       "                            (+0.128 eV/atom), Fe<sub>3</sub>O<sub>4</sub> (132)\n",
       "                            <br> -0.237 eV/atom (+0.136 eV/atom),\n",
       "                            Fe<sub>3</sub>O<sub>4</sub> (135) <br> -0.161 eV/atom\n",
       "                            (+0.213 eV/atom), Fe<sub>3</sub>O<sub>4</sub> (136)\n",
       "                            <br> -0.233 eV/atom (+0.14 eV/atom),\n",
       "                            Fe<sub>3</sub>O<sub>4</sub> (139) <br> -0.227 eV/atom\n",
       "                            (+0.147 eV/atom), Fe<sub>3</sub>O<sub>4</sub> (143)\n",
       "                            <br> -0.177 eV/atom (+0.197 eV/atom),\n",
       "                            Fe<sub>3</sub>O<sub>4</sub> (164) <br> -0.262 eV/atom\n",
       "                            (+0.112 eV/atom), Fe<sub>3</sub>O<sub>4</sub> (168)\n",
       "                            <br> -0.257 eV/atom (+0.117 eV/atom),\n",
       "                            Fe<sub>3</sub>O<sub>4</sub> (169) <br> -0.224 eV/atom\n",
       "                            (+0.15 eV/atom), Fe<sub>3</sub>C (12) <br> 0.055\n",
       "                            eV/atom (+0.055 eV/atom), Fe<sub>3</sub>C (27) <br>\n",
       "                            0.056 eV/atom (+0.056 eV/atom), Fe<sub>3</sub>C (48)\n",
       "                            <br> 0.123 eV/atom (+0.123 eV/atom), Fe<sub>3</sub>C\n",
       "                            (138) <br> 0.277 eV/atom (+0.277 eV/atom),\n",
       "                            Fe<sub>3</sub>C (150) <br> 0.16 eV/atom (+0.16\n",
       "                            eV/atom), Fe<sub>3</sub>C (151) <br> 0.16 eV/atom\n",
       "                            (+0.16 eV/atom), Fe<sub>4</sub>O<sub>5</sub> (140) <br>\n",
       "                            -0.135 eV/atom (+0.229 eV/atom), Fe<sub>4</sub>C (109)\n",
       "                            <br> 0.278 eV/atom (+0.278 eV/atom), Fe<sub>4</sub>C\n",
       "                            (112) <br> 0.132 eV/atom (+0.132 eV/atom),\n",
       "                            Fe<sub>5</sub>O<sub>7</sub> (117) <br> -0.159 eV/atom\n",
       "                            (+0.222 eV/atom), Fe<sub>5</sub>O<sub>7</sub> (172)\n",
       "                            <br> -0.117 eV/atom (+0.265 eV/atom),\n",
       "                            Fe<sub>5</sub>O<sub>8</sub> (28) <br> -0.188 eV/atom\n",
       "                            (+0.19 eV/atom), Fe<sub>5</sub>O<sub>8</sub> (154) <br>\n",
       "                            -0.166 eV/atom (+0.212 eV/atom),\n",
       "                            Fe<sub>5</sub>O<sub>8</sub> (155) <br> -0.169 eV/atom\n",
       "                            (+0.208 eV/atom), Fe<sub>5</sub>C<sub>2</sub> (9) <br>\n",
       "                            0.059 eV/atom (+0.059 eV/atom),\n",
       "                            Fe<sub>5</sub>C<sub>2</sub> (52) <br> 0.061 eV/atom\n",
       "                            (+0.061 eV/atom), Fe<sub>7</sub>O<sub>8</sub> (71) <br>\n",
       "                            -0.075 eV/atom (+0.274 eV/atom),\n",
       "                            Fe<sub>7</sub>C<sub>3</sub> (13) <br> 0.08 eV/atom\n",
       "                            (+0.08 eV/atom), Fe<sub>7</sub>C<sub>3</sub> (19) <br>\n",
       "                            0.064 eV/atom (+0.064 eV/atom),\n",
       "                            Fe<sub>8</sub>O<sub>9</sub> (64) <br> -0.074 eV/atom\n",
       "                            (+0.272 eV/atom), Fe<sub>8</sub>O<sub>9</sub> (90) <br>\n",
       "                            -0.061 eV/atom (+0.285 eV/atom),\n",
       "                            Fe<sub>9</sub>O<sub>10</sub> (87) <br> -0.072 eV/atom\n",
       "                            (+0.272 eV/atom), Fe<sub>9</sub>O<sub>13</sub> (174)\n",
       "                            <br> -0.095 eV/atom (+0.292 eV/atom),\n",
       "                            Fe<sub>10</sub>O<sub>11</sub> (62) <br> -0.057 eV/atom\n",
       "                            (+0.286 eV/atom), Fe<sub>10</sub>O<sub>11</sub> (89)\n",
       "                            <br> -0.045 eV/atom (+0.298 eV/atom),\n",
       "                            Fe<sub>11</sub>O<sub>12</sub> (57) <br> -0.044 eV/atom\n",
       "                            (+0.297 eV/atom), Fe<sub>13</sub>O<sub>15</sub> (82)\n",
       "                            <br> -0.07 eV/atom (+0.28 eV/atom),\n",
       "                            Fe<sub>21</sub>O<sub>23</sub> (66) <br> -0.045 eV/atom\n",
       "                            (+0.297 eV/atom), Fe<sub>21</sub>O<sub>32</sub> (29)\n",
       "                            <br> -0.188 eV/atom (+0.201 eV/atom),\n",
       "                            Fe<sub>23</sub>O<sub>25</sub> (61) <br> -0.04 eV/atom\n",
       "                            (+0.301 eV/atom), Fe<sub>23</sub>O<sub>32</sub> (93)\n",
       "                            <br> -0.136 eV/atom (+0.244 eV/atom),\n",
       "                            Fe<sub>23</sub>O<sub>32</sub> (94) <br> -0.216 eV/atom\n",
       "                            (+0.165 eV/atom), Fe<sub>23</sub>C<sub>6</sub> (144)\n",
       "                            <br> 0.052 eV/atom (+0.052 eV/atom),\n",
       "                            Fe<sub>41</sub>O<sub>56</sub> (83) <br> -0.221 eV/atom\n",
       "                            (+0.157 eV/atom), Fe<sub>43</sub>O<sub>64</sub> (30)\n",
       "                            <br> -0.269 eV/atom (+0.122 eV/atom)],\n",
       "              'marker': {'color': [0.124, 0.012, 0.01, 0.002, 0.126, 0.018, 0.001,\n",
       "                                   0.03, 0.162, 0.006, 0.136, 0.001, 0.006, 0.006,\n",
       "                                   0.01, 0.028, 0.145, 0.144, 0.008, 0.146, 0.143,\n",
       "                                   0.141, 0.012, 0.004, 0.008, 0.007, 0.008, 0.008,\n",
       "                                   0.266, 0.299, 0.116, 0.291, 0.007, 0.015, 0.011,\n",
       "                                   0.297, 0.031, 0.017, 0.018, 0.009, 0.236, 0.098,\n",
       "                                   0.148, 0.175, 0.279, 0.099, 0.017, 0.055, 0.282,\n",
       "                                   0.26, 0.295, 0.301, 0.294, 0.107, 0.109, 0.119,\n",
       "                                   0.131, 0.116, 0.071, 0.225, 0.16, 0.134, 0.077,\n",
       "                                   0.123, 0.236, 0.113, 0.168, 0.177, 0.29, 0.274,\n",
       "                                   0.289, 0.275, 0.059, 0.178, 0.227, 0.088, 0.096,\n",
       "                                   0.077, 0.067, 0.062, 0.196, 0.104, 0.105, 0.254,\n",
       "                                   0.163, 0.265, 0.147, 0.234, 0.202, 0.198, 0.167,\n",
       "                                   0.167, 0.163, 0.212, 0.164, 0.221, 0.128, 0.136,\n",
       "                                   0.213, 0.14, 0.147, 0.197, 0.112, 0.117, 0.15,\n",
       "                                   0.055, 0.056, 0.123, 0.277, 0.16, 0.16, 0.229,\n",
       "                                   0.278, 0.132, 0.222, 0.265, 0.19, 0.212, 0.208,\n",
       "                                   0.059, 0.061, 0.274, 0.08, 0.064, 0.272, 0.285,\n",
       "                                   0.272, 0.292, 0.286, 0.298, 0.297, 0.28, 0.297,\n",
       "                                   0.201, 0.301, 0.244, 0.165, 0.052, 0.157, 0.122],\n",
       "                         'colorbar': {'len': 0.5,\n",
       "                                      'thickness': 0.02,\n",
       "                                      'thicknessmode': 'fraction',\n",
       "                                      'title': {'text': 'Energy Above Hull<br>(eV/atom)'},\n",
       "                                      'x': 0,\n",
       "                                      'xpad': 0,\n",
       "                                      'y': 1,\n",
       "                                      'yanchor': 'top',\n",
       "                                      'ypad': 0},\n",
       "                         'colorscale': [[0.0, '#fff5e3'], [0.5, '#f24324'], [1.0,\n",
       "                                        '#c40000']],\n",
       "                         'line': {'color': 'black', 'width': 1},\n",
       "                         'opacity': 0.8,\n",
       "                         'size': 4,\n",
       "                         'symbol': 'diamond'},\n",
       "              'mode': 'markers',\n",
       "              'name': 'Above Hull',\n",
       "              'showlegend': True,\n",
       "              'type': 'scatterternary',\n",
       "              'uid': '7f1a7f2f-a01e-45e3-88f6-9c63a8b2b869'}],\n",
       "    'layout': {'autosize': True,\n",
       "               'coloraxis': {'colorbar': {'x': 1, 'y': 0.05, 'yanchor': 'top'}},\n",
       "               'height': 400,\n",
       "               'margin': {'b': 40, 'l': 20, 'r': 20, 't': 40},\n",
       "               'paper_bgcolor': 'rgba(0.9.,0.9.,0.9.,0.9)',\n",
       "               'showlegend': True,\n",
       "               'template': '...',\n",
       "               'ternary': {'aaxis': {'layer': 'below traces',\n",
       "                                     'showgrid': True,\n",
       "                                     'showticklabels': True,\n",
       "                                     'tickfont': {'size': 7},\n",
       "                                     'title': {'font': {'size': 24}, 'text': 'Fe'}},\n",
       "                           'baxis': {'layer': 'below traces',\n",
       "                                     'min': 0,\n",
       "                                     'showgrid': True,\n",
       "                                     'showticklabels': True,\n",
       "                                     'tickfont': {'size': 7},\n",
       "                                     'title': {'font': {'size': 24}, 'text': 'C'}},\n",
       "                           'caxis': {'layer': 'below traces',\n",
       "                                     'min': 0,\n",
       "                                     'showgrid': True,\n",
       "                                     'showticklabels': True,\n",
       "                                     'tickfont': {'size': 7},\n",
       "                                     'title': {'font': {'size': 24}, 'text': 'O'}},\n",
       "                           'sum': 1},\n",
       "               'width': 800}\n",
       "})"
      ]
     },
     "metadata": {},
     "output_type": "display_data"
    }
   ],
   "source": [
    "pd = cs.get_phasediagram(pfpdf , energy = \"pfpene\")\n",
    "pfppdfig = cs.get_phasediagram_fig(pd, show_unstable=1 )\n",
    "print(\"pfp\")\n",
    "display (pfppdfig)\n",
    "print(\"Original Materials Project\")\n",
    "#One time it is displayed as above, and the second time it is displayed, somehow it becomes clean (blue line).\n",
    "display (m.pdfig) "
   ]
  },
  {
   "cell_type": "markdown",
   "id": "b221f150-4d7c-4ef3-a820-b92c511d793f",
   "metadata": {},
   "source": [
    "**How to Access Atoms Objects**\n",
    "\n",
    "The Atoms object in the dataframe is a primitive cell."
   ]
  },
  {
   "cell_type": "code",
   "execution_count": 7,
   "id": "c8d963b3-266c-464e-86c4-42cf4057826c",
   "metadata": {
    "tags": []
   },
   "outputs": [
    {
     "data": {
      "text/plain": [
       "Atoms(symbols='Fe', pbc=True, cell=[[2.577899217605591, 0.0, 0.0], [1.2889496088027954, 2.2325263023376465, 0.0], [1.2889496088027954, 0.744175374507904, 2.1048457622528076]], calculator=ASECalculator(...))"
      ]
     },
     "execution_count": 7,
     "metadata": {},
     "output_type": "execute_result"
    }
   ],
   "source": [
    "cands.loc[5].atoms"
   ]
  },
  {
   "cell_type": "markdown",
   "id": "0695648d-1e63-4e70-b0c5-84f504668391",
   "metadata": {},
   "source": [
    "To access the conventional cell, use the following."
   ]
  },
  {
   "cell_type": "code",
   "execution_count": 8,
   "id": "8a2b903f-225a-4402-906a-0809ec4a1954",
   "metadata": {
    "tags": []
   },
   "outputs": [
    {
     "data": {
      "text/plain": [
       "[Atoms(symbols='Fe4', pbc=True, cell=[3.6457000078888497, 3.6457000078888497, 3.6457000078888497])]"
      ]
     },
     "execution_count": 8,
     "metadata": {},
     "output_type": "execute_result"
    }
   ],
   "source": [
    "cs.get_conventional(cands.loc[[5]])"
   ]
  },
  {
   "cell_type": "markdown",
   "id": "8c017ba6-8546-4c3d-93f7-c24b75b60a7a",
   "metadata": {},
   "source": [
    "You can access the entire database with the following."
   ]
  },
  {
   "cell_type": "code",
   "execution_count": 9,
   "id": "da2817db-61d7-498c-b946-3ad90c857889",
   "metadata": {
    "tags": []
   },
   "outputs": [
    {
     "data": {
      "text/html": [
       "<div>\n",
       "<style scoped>\n",
       "    .dataframe tbody tr th:only-of-type {\n",
       "        vertical-align: middle;\n",
       "    }\n",
       "\n",
       "    .dataframe tbody tr th {\n",
       "        vertical-align: top;\n",
       "    }\n",
       "\n",
       "    .dataframe thead th {\n",
       "        text-align: right;\n",
       "    }\n",
       "</style>\n",
       "<table border=\"1\" class=\"dataframe\">\n",
       "  <thead>\n",
       "    <tr style=\"text-align: right;\">\n",
       "      <th></th>\n",
       "      <th>material_id</th>\n",
       "      <th>pretty_formula</th>\n",
       "      <th>energy</th>\n",
       "      <th>e_above_hull</th>\n",
       "      <th>is_hubbard</th>\n",
       "      <th>elements</th>\n",
       "      <th>atoms</th>\n",
       "    </tr>\n",
       "  </thead>\n",
       "  <tbody>\n",
       "    <tr>\n",
       "      <th>0</th>\n",
       "      <td>mp-1</td>\n",
       "      <td>Cs</td>\n",
       "      <td>-0.856633</td>\n",
       "      <td>0.038770</td>\n",
       "      <td>False</td>\n",
       "      <td>[Cs]</td>\n",
       "      <td>(Atom('Cs', [0.0, 0.0, 0.0], index=0))</td>\n",
       "    </tr>\n",
       "    <tr>\n",
       "      <th>1</th>\n",
       "      <td>mp-2</td>\n",
       "      <td>Pd</td>\n",
       "      <td>-5.179882</td>\n",
       "      <td>0.000000</td>\n",
       "      <td>False</td>\n",
       "      <td>[Pd]</td>\n",
       "      <td>(Atom('Pd', [0.0, 0.0, 0.0], index=0))</td>\n",
       "    </tr>\n",
       "    <tr>\n",
       "      <th>2</th>\n",
       "      <td>mp-3</td>\n",
       "      <td>Cs</td>\n",
       "      <td>-1.598010</td>\n",
       "      <td>0.096397</td>\n",
       "      <td>False</td>\n",
       "      <td>[Cs]</td>\n",
       "      <td>(Atom('Cs', [3.6706762313842773, 3.38793683052...</td>\n",
       "    </tr>\n",
       "    <tr>\n",
       "      <th>3</th>\n",
       "      <td>mp-4</td>\n",
       "      <td>Nd</td>\n",
       "      <td>-4.628184</td>\n",
       "      <td>0.139959</td>\n",
       "      <td>False</td>\n",
       "      <td>[Nd]</td>\n",
       "      <td>(Atom('Nd', [0.0, 0.0, 0.0], index=0))</td>\n",
       "    </tr>\n",
       "    <tr>\n",
       "      <th>4</th>\n",
       "      <td>mp-7</td>\n",
       "      <td>S</td>\n",
       "      <td>-24.431696</td>\n",
       "      <td>0.064501</td>\n",
       "      <td>False</td>\n",
       "      <td>[S]</td>\n",
       "      <td>(Atom('S', [-2.1066184043884277, -2.1441278457...</td>\n",
       "    </tr>\n",
       "    <tr>\n",
       "      <th>...</th>\n",
       "      <td>...</td>\n",
       "      <td>...</td>\n",
       "      <td>...</td>\n",
       "      <td>...</td>\n",
       "      <td>...</td>\n",
       "      <td>...</td>\n",
       "      <td>...</td>\n",
       "    </tr>\n",
       "    <tr>\n",
       "      <th>139362</th>\n",
       "      <td>mvc-16821</td>\n",
       "      <td>CaCr2O4</td>\n",
       "      <td>-105.019547</td>\n",
       "      <td>0.107777</td>\n",
       "      <td>True</td>\n",
       "      <td>[Cr, O, Ca]</td>\n",
       "      <td>(Atom('Ca', [-1.5691694021224976, 1.5241652727...</td>\n",
       "    </tr>\n",
       "    <tr>\n",
       "      <th>139363</th>\n",
       "      <td>mvc-16832</td>\n",
       "      <td>V2ZnO4</td>\n",
       "      <td>-96.660103</td>\n",
       "      <td>0.161231</td>\n",
       "      <td>True</td>\n",
       "      <td>[Zn, O, V]</td>\n",
       "      <td>(Atom('V', [3.009662389755249, 0.0, 0.0], inde...</td>\n",
       "    </tr>\n",
       "    <tr>\n",
       "      <th>139364</th>\n",
       "      <td>mvc-16833</td>\n",
       "      <td>AlV2O4</td>\n",
       "      <td>-106.922005</td>\n",
       "      <td>0.207305</td>\n",
       "      <td>True</td>\n",
       "      <td>[O, V, Al]</td>\n",
       "      <td>(Atom('Al', [-1.4248672723770142, -1.519302725...</td>\n",
       "    </tr>\n",
       "    <tr>\n",
       "      <th>139365</th>\n",
       "      <td>mvc-16834</td>\n",
       "      <td>MgMn2O4</td>\n",
       "      <td>-98.566040</td>\n",
       "      <td>0.105475</td>\n",
       "      <td>True</td>\n",
       "      <td>[Mg, O, Mn]</td>\n",
       "      <td>(Atom('Mg', [0.0, 0.0, 0.0], index=0), Atom('M...</td>\n",
       "    </tr>\n",
       "    <tr>\n",
       "      <th>139366</th>\n",
       "      <td>mvc-16835</td>\n",
       "      <td>Mg(FeO2)2</td>\n",
       "      <td>-89.655792</td>\n",
       "      <td>0.142727</td>\n",
       "      <td>True</td>\n",
       "      <td>[Fe, Mg, O]</td>\n",
       "      <td>(Atom('Mg', [0.0, 0.0, 0.0], index=0), Atom('M...</td>\n",
       "    </tr>\n",
       "  </tbody>\n",
       "</table>\n",
       "<p>139367 rows × 7 columns</p>\n",
       "</div>"
      ],
      "text/plain": [
       "       material_id pretty_formula      energy  e_above_hull  is_hubbard  \\\n",
       "0             mp-1             Cs   -0.856633      0.038770       False   \n",
       "1             mp-2             Pd   -5.179882      0.000000       False   \n",
       "2             mp-3             Cs   -1.598010      0.096397       False   \n",
       "3             mp-4             Nd   -4.628184      0.139959       False   \n",
       "4             mp-7              S  -24.431696      0.064501       False   \n",
       "...            ...            ...         ...           ...         ...   \n",
       "139362   mvc-16821        CaCr2O4 -105.019547      0.107777        True   \n",
       "139363   mvc-16832         V2ZnO4  -96.660103      0.161231        True   \n",
       "139364   mvc-16833         AlV2O4 -106.922005      0.207305        True   \n",
       "139365   mvc-16834        MgMn2O4  -98.566040      0.105475        True   \n",
       "139366   mvc-16835      Mg(FeO2)2  -89.655792      0.142727        True   \n",
       "\n",
       "           elements                                              atoms  \n",
       "0              [Cs]             (Atom('Cs', [0.0, 0.0, 0.0], index=0))  \n",
       "1              [Pd]             (Atom('Pd', [0.0, 0.0, 0.0], index=0))  \n",
       "2              [Cs]  (Atom('Cs', [3.6706762313842773, 3.38793683052...  \n",
       "3              [Nd]             (Atom('Nd', [0.0, 0.0, 0.0], index=0))  \n",
       "4               [S]  (Atom('S', [-2.1066184043884277, -2.1441278457...  \n",
       "...             ...                                                ...  \n",
       "139362  [Cr, O, Ca]  (Atom('Ca', [-1.5691694021224976, 1.5241652727...  \n",
       "139363   [Zn, O, V]  (Atom('V', [3.009662389755249, 0.0, 0.0], inde...  \n",
       "139364   [O, V, Al]  (Atom('Al', [-1.4248672723770142, -1.519302725...  \n",
       "139365  [Mg, O, Mn]  (Atom('Mg', [0.0, 0.0, 0.0], index=0), Atom('M...  \n",
       "139366  [Fe, Mg, O]  (Atom('Mg', [0.0, 0.0, 0.0], index=0), Atom('M...  \n",
       "\n",
       "[139367 rows x 7 columns]"
      ]
     },
     "execution_count": 9,
     "metadata": {},
     "output_type": "execute_result"
    }
   ],
   "source": [
    "cs.df"
   ]
  },
  {
   "cell_type": "code",
   "execution_count": null,
   "id": "e6c0aee9-6c8f-403a-a3ee-4810895ad1db",
   "metadata": {},
   "outputs": [],
   "source": []
  }
 ],
 "metadata": {
  "kernelspec": {
   "display_name": "Python 3.9",
   "language": "python",
   "name": "python39"
  },
  "language_info": {
   "codemirror_mode": {
    "name": "ipython",
    "version": 3
   },
   "file_extension": ".py",
   "mimetype": "text/x-python",
   "name": "python",
   "nbconvert_exporter": "python",
   "pygments_lexer": "ipython3",
   "version": "3.9.16"
  },
  "widgets": {
   "application/vnd.jupyter.widget-state+json": {
    "state": {
     "00b1f93c81ae46c7b8d00a8a80804f00": {
      "model_module": "@jupyter-widgets/controls",
      "model_module_version": "1.5.0",
      "model_name": "ToggleButtonModel",
      "state": {
       "description": "Fe",
       "icon": "check",
       "layout": "IPY_MODEL_63587c0d57354410860665bb76cd6829",
       "style": "IPY_MODEL_b65b5d021d9a485f93738033252676b4",
       "value": true
      }
     },
     "01352effedc042f2aaa0f5dd5ebe238b": {
      "model_module": "@jupyter-widgets/base",
      "model_module_version": "1.2.0",
      "model_name": "LayoutModel",
      "state": {
       "grid_area": "widget021",
       "height": "22px",
       "width": "42px"
      }
     },
     "02c3b742910141bfb6f2db61b9467fe7": {
      "model_module": "@jupyter-widgets/controls",
      "model_module_version": "1.5.0",
      "model_name": "ToggleButtonModel",
      "state": {
       "description": "W",
       "layout": "IPY_MODEL_c98e8fd0d5f74d9498e0aeae6732c016",
       "style": "IPY_MODEL_91b713c3d49d44708fd67a8b98cf32da"
      }
     },
     "0492e247a6cc4b8e916c50f5246d00cb": {
      "model_module": "@jupyter-widgets/controls",
      "model_module_version": "1.5.0",
      "model_name": "DescriptionStyleModel",
      "state": {
       "description_width": ""
      }
     },
     "06fc5c4728c44db09d3bcac9de586a87": {
      "model_module": "@jupyter-widgets/controls",
      "model_module_version": "1.5.0",
      "model_name": "ToggleButtonModel",
      "state": {
       "description": "Og",
       "layout": "IPY_MODEL_4ef77fddc0ce4039adf03a7bd0cfb089",
       "style": "IPY_MODEL_76c324983dc04d0cae0d7ee5a85707b8"
      }
     },
     "09b8e63e880a48efb84d6504bc9b2308": {
      "model_module": "@jupyter-widgets/base",
      "model_module_version": "1.2.0",
      "model_name": "LayoutModel",
      "state": {
       "grid_area": "widget051",
       "height": "22px",
       "width": "42px"
      }
     },
     "09edc741e9ad4c949536fc064c0a9ea4": {
      "model_module": "@jupyter-widgets/controls",
      "model_module_version": "1.5.0",
      "model_name": "ToggleButtonModel",
      "state": {
       "description": "Lr",
       "layout": "IPY_MODEL_933efd083c5e495788e6524c7863caf0",
       "style": "IPY_MODEL_546a4ab0e4174f82905e65f517199907"
      }
     },
     "0a1631553cea42ebabdcca2010192d03": {
      "model_module": "@jupyter-widgets/base",
      "model_module_version": "1.2.0",
      "model_name": "LayoutModel",
      "state": {
       "grid_area": "widget112",
       "height": "22px",
       "width": "42px"
      }
     },
     "0a585b44bcf145c4abc978ecb63d66f4": {
      "model_module": "@jupyter-widgets/controls",
      "model_module_version": "1.5.0",
      "model_name": "BoundedFloatTextModel",
      "state": {
       "description": "hullabove<",
       "layout": "IPY_MODEL_f38e2d194fa74bc9b37c2dc4ba06f521",
       "step": 0.05,
       "style": "IPY_MODEL_6ec9fa7f057b45d982d4a4138e7bd1ad",
       "value": 0.3
      }
     },
     "0ae01f22fdf8464c953ccc4f07eb804b": {
      "model_module": "@jupyter-widgets/controls",
      "model_module_version": "1.5.0",
      "model_name": "ToggleButtonModel",
      "state": {
       "description": "P",
       "layout": "IPY_MODEL_e970eafc197c454fa199a011743d783d",
       "style": "IPY_MODEL_e76cf652e68544b8a0f1692ba95e4ce5"
      }
     },
     "0b328ec02b214d81b8b256363635a40e": {
      "model_module": "@jupyter-widgets/controls",
      "model_module_version": "1.5.0",
      "model_name": "DescriptionStyleModel",
      "state": {
       "description_width": ""
      }
     },
     "0d082663bb984b078b026c612901d1d8": {
      "model_module": "@jupyter-widgets/controls",
      "model_module_version": "1.5.0",
      "model_name": "DescriptionStyleModel",
      "state": {
       "description_width": ""
      }
     },
     "0e1966211f2247d38db41d432efd83d1": {
      "model_module": "@jupyter-widgets/base",
      "model_module_version": "1.2.0",
      "model_name": "LayoutModel",
      "state": {
       "grid_area": "widget009",
       "height": "22px",
       "width": "42px"
      }
     },
     "0f36d3ccf99d4cbabd0cef0469c5f469": {
      "model_module": "@jupyter-widgets/controls",
      "model_module_version": "1.5.0",
      "model_name": "ToggleButtonModel",
      "state": {
       "description": "Dy",
       "layout": "IPY_MODEL_9f7faafe8f90403b877f5e7faa4d0422",
       "style": "IPY_MODEL_a18a118387a34d7e920c3ca7464fd326"
      }
     },
     "0f76b17a8974437fb8327adad0518525": {
      "model_module": "@jupyter-widgets/controls",
      "model_module_version": "1.5.0",
      "model_name": "HBoxModel",
      "state": {
       "children": [
        "IPY_MODEL_784fd4cc9915456b9d764d6900619dca",
        "IPY_MODEL_0a585b44bcf145c4abc978ecb63d66f4",
        "IPY_MODEL_8725f62a7c4b4b58b97d64f6e896faeb",
        "IPY_MODEL_7503a384b6e24abdb4a3007588714f2d",
        "IPY_MODEL_1391e0ccaa904407bc43f52f8b91d76e",
        "IPY_MODEL_53d2697ed0b543cabe28182e536c70f3",
        "IPY_MODEL_9c1177c3679047a2820699b22671ba9f"
       ],
       "layout": "IPY_MODEL_54ff7031c4ba48688db5d82300947a67"
      }
     },
     "0fd44515619145aa8404e76587899d15": {
      "model_module": "@jupyter-widgets/controls",
      "model_module_version": "1.5.0",
      "model_name": "DescriptionStyleModel",
      "state": {
       "description_width": ""
      }
     },
     "0fded2935eed4c02bbe3f98cb8d3f475": {
      "model_module": "@jupyter-widgets/controls",
      "model_module_version": "1.5.0",
      "model_name": "ToggleButtonModel",
      "state": {
       "description": "Ac",
       "layout": "IPY_MODEL_7d901659bc084fe2b6539461fad72c66",
       "style": "IPY_MODEL_ae1987725ca4499bb7e7cde64957c035"
      }
     },
     "10bcc9b2aa8046029b036194ceb083ab": {
      "model_module": "@jupyter-widgets/controls",
      "model_module_version": "1.5.0",
      "model_name": "ToggleButtonModel",
      "state": {
       "description": "Nb",
       "layout": "IPY_MODEL_230ad96bf34e4b59b8f38bd53c18e0ea",
       "style": "IPY_MODEL_29284c6674bf4450b7a8fca0d3129372"
      }
     },
     "117443ec2b5e4a2a951bd6a65b62b056": {
      "model_module": "@jupyter-widgets/base",
      "model_module_version": "1.2.0",
      "model_name": "LayoutModel",
      "state": {
       "grid_area": "widget038",
       "height": "22px",
       "width": "42px"
      }
     },
     "11a81ca876e84790b07f1eb7bc6b84c3": {
      "model_module": "@jupyter-widgets/controls",
      "model_module_version": "1.5.0",
      "model_name": "DescriptionStyleModel",
      "state": {
       "description_width": ""
      }
     },
     "1287ac0ed54f476cb977d2f68e2ce2cc": {
      "model_module": "@jupyter-widgets/controls",
      "model_module_version": "1.5.0",
      "model_name": "DescriptionStyleModel",
      "state": {
       "description_width": ""
      }
     },
     "135c8b4136e14756be6c4695114cee44": {
      "model_module": "@jupyter-widgets/base",
      "model_module_version": "1.2.0",
      "model_name": "LayoutModel",
      "state": {
       "grid_area": "widget062",
       "height": "22px",
       "width": "42px"
      }
     },
     "1391e0ccaa904407bc43f52f8b91d76e": {
      "model_module": "@jupyter-widgets/controls",
      "model_module_version": "1.5.0",
      "model_name": "ButtonModel",
      "state": {
       "description": "clear",
       "layout": "IPY_MODEL_57070c5aa22a40f3b3b751cc7c25bf39",
       "style": "IPY_MODEL_1b224ba14532418d89d11399e8d469f6"
      }
     },
     "13947c13f3db4a73bbd977f6f4987228": {
      "model_module": "@jupyter-widgets/controls",
      "model_module_version": "1.5.0",
      "model_name": "ToggleButtonModel",
      "state": {
       "description": "V",
       "layout": "IPY_MODEL_a4154fe557594952814433fcad67df52",
       "style": "IPY_MODEL_db128e5e9139445fa0e24f7d4d0c4e07"
      }
     },
     "14b3bab1ec6549ddbda6e73c5b7d6dac": {
      "model_module": "@jupyter-widgets/controls",
      "model_module_version": "1.5.0",
      "model_name": "DescriptionStyleModel",
      "state": {
       "description_width": ""
      }
     },
     "164620e4cb6044d4aea74e508cfe6f45": {
      "model_module": "@jupyter-widgets/controls",
      "model_module_version": "1.5.0",
      "model_name": "ToggleButtonModel",
      "state": {
       "description": "La",
       "layout": "IPY_MODEL_acf3fb3b93934f189b6af013b5652ac4",
       "style": "IPY_MODEL_8a9279aa444246789d981878e1959e84"
      }
     },
     "1864f5a8fa7549a9b8d34a15b527a3f7": {
      "model_module": "@jupyter-widgets/controls",
      "model_module_version": "1.5.0",
      "model_name": "DescriptionStyleModel",
      "state": {
       "description_width": ""
      }
     },
     "188cb5d0708f43ec89bf910aef7ea2e9": {
      "model_module": "@jupyter-widgets/base",
      "model_module_version": "1.2.0",
      "model_name": "LayoutModel",
      "state": {
       "grid_area": "widget025",
       "height": "22px",
       "width": "42px"
      }
     },
     "18d78f33d5d44b05aae888c0f2c5524c": {
      "model_module": "@jupyter-widgets/base",
      "model_module_version": "1.2.0",
      "model_name": "LayoutModel",
      "state": {
       "grid_area": "widget091",
       "height": "22px",
       "width": "42px"
      }
     },
     "18eca2d2f41d491a9fd21ff6472be04d": {
      "model_module": "@jupyter-widgets/controls",
      "model_module_version": "1.5.0",
      "model_name": "ToggleButtonModel",
      "state": {
       "description": "Ts",
       "layout": "IPY_MODEL_2c4562febd5b4c109dce3b01db7debef",
       "style": "IPY_MODEL_33e69797ba174bccbe6a1af3346332de"
      }
     },
     "1a01dc27b3c54318b116e3ae9072a00e": {
      "model_module": "@jupyter-widgets/base",
      "model_module_version": "1.2.0",
      "model_name": "LayoutModel",
      "state": {
       "grid_area": "widget046",
       "height": "22px",
       "width": "42px"
      }
     },
     "1a0a0dc03269493983f415446f728fff": {
      "model_module": "@jupyter-widgets/base",
      "model_module_version": "1.2.0",
      "model_name": "LayoutModel",
      "state": {
       "grid_area": "widget050",
       "height": "22px",
       "width": "42px"
      }
     },
     "1b224ba14532418d89d11399e8d469f6": {
      "model_module": "@jupyter-widgets/controls",
      "model_module_version": "1.5.0",
      "model_name": "ButtonStyleModel",
      "state": {}
     },
     "1b896adb8f4d44a98b4725c63cf33d9f": {
      "model_module": "@jupyter-widgets/controls",
      "model_module_version": "1.5.0",
      "model_name": "DescriptionStyleModel",
      "state": {
       "description_width": ""
      }
     },
     "1b96ff73b31648b09bd8cdeff0c24327": {
      "model_module": "@jupyter-widgets/controls",
      "model_module_version": "1.5.0",
      "model_name": "ToggleButtonModel",
      "state": {
       "description": "Mt",
       "layout": "IPY_MODEL_a8620e041bbc4d14bd10b2d4ca93493b",
       "style": "IPY_MODEL_3c5f9fa19add4edcb4fa3388a48c57fe"
      }
     },
     "1c1ba43c34b64c7a982643971970442a": {
      "model_module": "@jupyter-widgets/controls",
      "model_module_version": "1.5.0",
      "model_name": "VBoxModel",
      "state": {
       "children": [
        "IPY_MODEL_548ec01fd29648f9873b68a95852dc25",
        "IPY_MODEL_58d8c043778746eda5868277e80f83a8"
       ],
       "layout": "IPY_MODEL_91e3be34bef24dcb851252a93590d944"
      }
     },
     "1c4328164f534fa18dd370dca34cfa24": {
      "model_module": "@jupyter-widgets/base",
      "model_module_version": "1.2.0",
      "model_name": "LayoutModel",
      "state": {
       "grid_area": "widget070",
       "height": "22px",
       "width": "42px"
      }
     },
     "1c95fc261507420a9d283b6a3252e01b": {
      "model_module": "@jupyter-widgets/base",
      "model_module_version": "1.2.0",
      "model_name": "LayoutModel",
      "state": {
       "grid_area": "widget067",
       "height": "22px",
       "width": "42px"
      }
     },
     "1e1597c87d71421eb21032f32da37829": {
      "model_module": "@jupyter-widgets/controls",
      "model_module_version": "1.5.0",
      "model_name": "DescriptionStyleModel",
      "state": {
       "description_width": ""
      }
     },
     "1eeed261445340f6a67176d97bdb5607": {
      "model_module": "@jupyter-widgets/base",
      "model_module_version": "1.2.0",
      "model_name": "LayoutModel",
      "state": {}
     },
     "1f056ee86c364b278c61e2f789a761c7": {
      "model_module": "@jupyter-widgets/base",
      "model_module_version": "1.2.0",
      "model_name": "LayoutModel",
      "state": {
       "grid_area": "widget031",
       "height": "22px",
       "width": "42px"
      }
     },
     "205740bd16654f49a5015594a8b02ea7": {
      "model_module": "@jupyter-widgets/controls",
      "model_module_version": "1.5.0",
      "model_name": "ToggleButtonModel",
      "state": {
       "description": "Cs",
       "layout": "IPY_MODEL_63b51997bd154c00b8699980710699a2",
       "style": "IPY_MODEL_de35a47ab2594734b5e268da14317a8b"
      }
     },
     "206bbf2323c34206ad6e189bb334b0b8": {
      "model_module": "@jupyter-widgets/controls",
      "model_module_version": "1.5.0",
      "model_name": "DescriptionStyleModel",
      "state": {
       "description_width": ""
      }
     },
     "207097dbe4b04a2099ca17ba31c8c9b5": {
      "model_module": "@jupyter-widgets/controls",
      "model_module_version": "1.5.0",
      "model_name": "ToggleButtonModel",
      "state": {
       "description": "Tl",
       "layout": "IPY_MODEL_d607ff9eccfe49cb8c8f8c33f323be48",
       "style": "IPY_MODEL_2b838183ae4b411d80c9875d8ad67c51"
      }
     },
     "208476f136ee4e24b2fec4f651d0b924": {
      "model_module": "@jupyter-widgets/controls",
      "model_module_version": "1.5.0",
      "model_name": "ToggleButtonModel",
      "state": {
       "description": "No",
       "layout": "IPY_MODEL_c83bd2fff4b34f5b99187fc2d3813350",
       "style": "IPY_MODEL_9ebc2ec4e31744538ce3cd4aa26051cf"
      }
     },
     "21057fe989434b119b83f41dfd3b3d57": {
      "model_module": "@jupyter-widgets/base",
      "model_module_version": "1.2.0",
      "model_name": "LayoutModel",
      "state": {
       "grid_area": "widget004",
       "height": "22px",
       "width": "42px"
      }
     },
     "2205d077c7ab40899a59cdf081f24295": {
      "model_module": "@jupyter-widgets/controls",
      "model_module_version": "1.5.0",
      "model_name": "ToggleButtonModel",
      "state": {
       "description": "Cd",
       "layout": "IPY_MODEL_4c449931d6464f2c90696bae8dae5e48",
       "style": "IPY_MODEL_cf20363ef90e4740b38f331cdd7b830c"
      }
     },
     "230ad96bf34e4b59b8f38bd53c18e0ea": {
      "model_module": "@jupyter-widgets/base",
      "model_module_version": "1.2.0",
      "model_name": "LayoutModel",
      "state": {
       "grid_area": "widget041",
       "height": "22px",
       "width": "42px"
      }
     },
     "236e093f3b334c7e9bea129f6b4b94c3": {
      "model_module": "@jupyter-widgets/base",
      "model_module_version": "1.2.0",
      "model_name": "LayoutModel",
      "state": {
       "grid_area": "widget053",
       "height": "22px",
       "width": "42px"
      }
     },
     "24728f5d76124bb590d29c2ca0b2fe31": {
      "model_module": "@jupyter-widgets/base",
      "model_module_version": "1.2.0",
      "model_name": "LayoutModel",
      "state": {
       "grid_area": "widget077",
       "height": "22px",
       "width": "42px"
      }
     },
     "256a142a1b5241d7b04010ebe7196275": {
      "model_module": "@jupyter-widgets/base",
      "model_module_version": "1.2.0",
      "model_name": "LayoutModel",
      "state": {
       "grid_area": "widget072",
       "height": "22px",
       "width": "42px"
      }
     },
     "25c06bf57f8c4178b1cd78e0b8fcfcec": {
      "model_module": "@jupyter-widgets/base",
      "model_module_version": "1.2.0",
      "model_name": "LayoutModel",
      "state": {
       "grid_area": "widget080",
       "height": "22px",
       "width": "42px"
      }
     },
     "27e1e5a5f748493a80cc65cb551088e0": {
      "model_module": "@jupyter-widgets/controls",
      "model_module_version": "1.5.0",
      "model_name": "ToggleButtonModel",
      "state": {
       "description": "Ge",
       "layout": "IPY_MODEL_45dbf2ae7348489cadb03bd54a3ad745",
       "style": "IPY_MODEL_ee892d07c8294c70938321127e55da68"
      }
     },
     "27edb9ef30dc44129e3cbaf124b8c514": {
      "model_module": "@jupyter-widgets/controls",
      "model_module_version": "1.5.0",
      "model_name": "DescriptionStyleModel",
      "state": {
       "description_width": ""
      }
     },
     "27f769ea1beb405994b9bf3cdc273ce8": {
      "model_module": "@jupyter-widgets/controls",
      "model_module_version": "1.5.0",
      "model_name": "DescriptionStyleModel",
      "state": {
       "description_width": ""
      }
     },
     "28528b718447431fbdd7361a4778eeef": {
      "model_module": "@jupyter-widgets/controls",
      "model_module_version": "1.5.0",
      "model_name": "DescriptionStyleModel",
      "state": {
       "description_width": ""
      }
     },
     "28e9260416654df99646fa29c761e5fc": {
      "model_module": "@jupyter-widgets/base",
      "model_module_version": "1.2.0",
      "model_name": "LayoutModel",
      "state": {
       "grid_area": "widget113",
       "height": "22px",
       "width": "42px"
      }
     },
     "29205cd932314940b6106168e132e431": {
      "model_module": "@jupyter-widgets/controls",
      "model_module_version": "1.5.0",
      "model_name": "DescriptionStyleModel",
      "state": {
       "description_width": ""
      }
     },
     "2924220e34a94fdd99f0a42be185d7a6": {
      "model_module": "@jupyter-widgets/base",
      "model_module_version": "1.2.0",
      "model_name": "LayoutModel",
      "state": {
       "grid_area": "widget110",
       "height": "22px",
       "width": "42px"
      }
     },
     "29284c6674bf4450b7a8fca0d3129372": {
      "model_module": "@jupyter-widgets/controls",
      "model_module_version": "1.5.0",
      "model_name": "DescriptionStyleModel",
      "state": {
       "description_width": ""
      }
     },
     "294b8482aed64d27889c728a9e5216b4": {
      "model_module": "@jupyter-widgets/controls",
      "model_module_version": "1.5.0",
      "model_name": "DescriptionStyleModel",
      "state": {
       "description_width": ""
      }
     },
     "2952ddac66824a448a775338ab8d7107": {
      "model_module": "@jupyter-widgets/base",
      "model_module_version": "1.2.0",
      "model_name": "LayoutModel",
      "state": {
       "grid_area": "widget094",
       "height": "22px",
       "width": "42px"
      }
     },
     "2b838183ae4b411d80c9875d8ad67c51": {
      "model_module": "@jupyter-widgets/controls",
      "model_module_version": "1.5.0",
      "model_name": "DescriptionStyleModel",
      "state": {
       "description_width": ""
      }
     },
     "2bb485a804494811852df4b85868eb6c": {
      "model_module": "@jupyter-widgets/controls",
      "model_module_version": "1.5.0",
      "model_name": "DescriptionStyleModel",
      "state": {
       "description_width": ""
      }
     },
     "2bf0a2b74fa74bf2bbadcbc16c2d2de4": {
      "model_module": "@jupyter-widgets/base",
      "model_module_version": "1.2.0",
      "model_name": "LayoutModel",
      "state": {
       "grid_area": "widget059",
       "height": "22px",
       "width": "42px"
      }
     },
     "2c4562febd5b4c109dce3b01db7debef": {
      "model_module": "@jupyter-widgets/base",
      "model_module_version": "1.2.0",
      "model_name": "LayoutModel",
      "state": {
       "grid_area": "widget117",
       "height": "22px",
       "width": "42px"
      }
     },
     "2cc826401b704f74a1c039cd0152c739": {
      "model_module": "@jupyter-widgets/base",
      "model_module_version": "1.2.0",
      "model_name": "LayoutModel",
      "state": {
       "grid_area": "widget105",
       "height": "22px",
       "width": "42px"
      }
     },
     "3036ca0022b04ce49f8e5798bf916e1a": {
      "model_module": "@jupyter-widgets/base",
      "model_module_version": "1.2.0",
      "model_name": "LayoutModel",
      "state": {
       "height": "350px",
       "width": "400px"
      }
     },
     "307607ef5a0149c1a9e88e3926c206a3": {
      "model_module": "@jupyter-widgets/controls",
      "model_module_version": "1.5.0",
      "model_name": "DescriptionStyleModel",
      "state": {
       "description_width": ""
      }
     },
     "3094fa5b34c34ae5a236edf04c3ec127": {
      "model_module": "@jupyter-widgets/base",
      "model_module_version": "1.2.0",
      "model_name": "LayoutModel",
      "state": {
       "grid_area": "widget042",
       "height": "22px",
       "width": "42px"
      }
     },
     "311b967599fa4e9593cd9276958b17c6": {
      "model_module": "@jupyter-widgets/controls",
      "model_module_version": "1.5.0",
      "model_name": "DescriptionStyleModel",
      "state": {
       "description_width": ""
      }
     },
     "31920c29c06642eab39dae6a5e2eaa30": {
      "model_module": "@jupyter-widgets/controls",
      "model_module_version": "1.5.0",
      "model_name": "DescriptionStyleModel",
      "state": {
       "description_width": ""
      }
     },
     "31c68d1f745b4a87b329e5dabe8bc61b": {
      "model_module": "@jupyter-widgets/base",
      "model_module_version": "1.2.0",
      "model_name": "LayoutModel",
      "state": {
       "grid_area": "widget012",
       "height": "22px",
       "width": "42px"
      }
     },
     "31e73fef83f44e84a438cafc803a8bf4": {
      "model_module": "@jupyter-widgets/base",
      "model_module_version": "1.2.0",
      "model_name": "LayoutModel",
      "state": {
       "grid_area": "widget069",
       "height": "22px",
       "width": "42px"
      }
     },
     "320236903f494692a1a5f908af80b1fe": {
      "model_module": "@jupyter-widgets/controls",
      "model_module_version": "1.5.0",
      "model_name": "ButtonStyleModel",
      "state": {}
     },
     "32c08494e738414ea678e305d1e83a36": {
      "model_module": "@jupyter-widgets/base",
      "model_module_version": "1.2.0",
      "model_name": "LayoutModel",
      "state": {
       "grid_area": "widget033",
       "height": "22px",
       "width": "42px"
      }
     },
     "33e69797ba174bccbe6a1af3346332de": {
      "model_module": "@jupyter-widgets/controls",
      "model_module_version": "1.5.0",
      "model_name": "DescriptionStyleModel",
      "state": {
       "description_width": ""
      }
     },
     "351a7579458c4d1987534a5658977f95": {
      "model_module": "@jupyter-widgets/controls",
      "model_module_version": "1.5.0",
      "model_name": "DescriptionStyleModel",
      "state": {
       "description_width": ""
      }
     },
     "3577173b762348508df89f8b80c4de71": {
      "model_module": "@jupyter-widgets/base",
      "model_module_version": "1.2.0",
      "model_name": "LayoutModel",
      "state": {
       "grid_area": "widget107",
       "height": "22px",
       "width": "42px"
      }
     },
     "362c6298a0654b009ae5426b5c2c9a24": {
      "model_module": "@jupyter-widgets/controls",
      "model_module_version": "1.5.0",
      "model_name": "ToggleButtonModel",
      "state": {
       "description": "Lv",
       "layout": "IPY_MODEL_998a3aba3da74e0e939cca5e1ce203ae",
       "style": "IPY_MODEL_3daf6b99dfb0447aa8147251d1c07517"
      }
     },
     "365745a2e5dd47b09e35c61cdb116003": {
      "model_module": "@jupyter-widgets/base",
      "model_module_version": "1.2.0",
      "model_name": "LayoutModel",
      "state": {
       "grid_area": "widget018",
       "height": "22px",
       "width": "42px"
      }
     },
     "38183767e376406ba533465d54e1d2df": {
      "model_module": "@jupyter-widgets/controls",
      "model_module_version": "1.5.0",
      "model_name": "DescriptionStyleModel",
      "state": {
       "description_width": ""
      }
     },
     "3956a8df092944638149ca74c5d3e81f": {
      "model_module": "@jupyter-widgets/controls",
      "model_module_version": "1.5.0",
      "model_name": "ToggleButtonModel",
      "state": {
       "description": "B",
       "layout": "IPY_MODEL_be39fcd05ee849509bad3a6d3d0eba93",
       "style": "IPY_MODEL_a9ba2909b2bb4af89c9fd63e2d66c830"
      }
     },
     "39b9c86b824046eda2de6101a1ee61aa": {
      "model_module": "@jupyter-widgets/controls",
      "model_module_version": "1.5.0",
      "model_name": "DescriptionStyleModel",
      "state": {
       "description_width": ""
      }
     },
     "3ba263b4ed10413cb9851dedaa9f758b": {
      "model_module": "@jupyter-widgets/controls",
      "model_module_version": "1.5.0",
      "model_name": "ToggleButtonModel",
      "state": {
       "description": "Sg",
       "layout": "IPY_MODEL_fe5394139948480d9d891452ce23eb53",
       "style": "IPY_MODEL_90f7c4d88ac840f784c32c4a0188e413"
      }
     },
     "3bca492170d34c25a019b7d742d01608": {
      "model_module": "@jupyter-widgets/controls",
      "model_module_version": "1.5.0",
      "model_name": "ToggleButtonModel",
      "state": {
       "description": "Ta",
       "layout": "IPY_MODEL_923c57bfcd634162a61ae7b01b6ae48f",
       "style": "IPY_MODEL_7ade3d2cceca4a2eae51497c2a45b72b"
      }
     },
     "3c5f9fa19add4edcb4fa3388a48c57fe": {
      "model_module": "@jupyter-widgets/controls",
      "model_module_version": "1.5.0",
      "model_name": "DescriptionStyleModel",
      "state": {
       "description_width": ""
      }
     },
     "3d84fcf812df4db6906874f486842730": {
      "model_module": "@jupyter-widgets/controls",
      "model_module_version": "1.5.0",
      "model_name": "DescriptionStyleModel",
      "state": {
       "description_width": ""
      }
     },
     "3daf6b99dfb0447aa8147251d1c07517": {
      "model_module": "@jupyter-widgets/controls",
      "model_module_version": "1.5.0",
      "model_name": "DescriptionStyleModel",
      "state": {
       "description_width": ""
      }
     },
     "3e9cadae96d04588bcd8bb15a9e97b6d": {
      "model_module": "@jupyter-widgets/base",
      "model_module_version": "1.2.0",
      "model_name": "LayoutModel",
      "state": {
       "grid_area": "widget078",
       "height": "22px",
       "width": "42px"
      }
     },
     "3fef640137f5466e9987906bd16f1df3": {
      "model_module": "@jupyter-widgets/controls",
      "model_module_version": "1.5.0",
      "model_name": "ToggleButtonModel",
      "state": {
       "description": "Cu",
       "layout": "IPY_MODEL_c8e78234a0da445c83db21df0a3dac3b",
       "style": "IPY_MODEL_cc254245fb04442da9fb7be546a5efc3"
      }
     },
     "40d4ee7292f44abeb40703eb5d299433": {
      "model_module": "@jupyter-widgets/controls",
      "model_module_version": "1.5.0",
      "model_name": "DescriptionStyleModel",
      "state": {
       "description_width": ""
      }
     },
     "40ffd641a05241ba8bff016010440790": {
      "model_module": "@jupyter-widgets/controls",
      "model_module_version": "1.5.0",
      "model_name": "ToggleButtonModel",
      "state": {
       "description": "Sc",
       "layout": "IPY_MODEL_01352effedc042f2aaa0f5dd5ebe238b",
       "style": "IPY_MODEL_6f9f5c693cdc4bbeaa1623f7b3744c82"
      }
     },
     "420f61a117a34ab2bb1b53705d7fa4e9": {
      "model_module": "@jupyter-widgets/base",
      "model_module_version": "1.2.0",
      "model_name": "LayoutModel",
      "state": {}
     },
     "4250f62dfe7341059fff3322c1de14cf": {
      "model_module": "@jupyter-widgets/base",
      "model_module_version": "1.2.0",
      "model_name": "LayoutModel",
      "state": {
       "grid_area": "widget064",
       "height": "22px",
       "width": "42px"
      }
     },
     "430d5ac99f254dd7bbab0711d83705f3": {
      "model_module": "jupyterlab-plotly",
      "model_module_version": "^5.22.0",
      "model_name": "FigureModel",
      "state": {
       "_config": {
        "editSelection": false,
        "plotlyServerURL": "https://plot.ly"
       },
       "_data": [
        {
         "a": [
          0,
          0,
          null,
          16,
          0,
          null,
          0,
          1,
          null,
          0,
          1,
          null,
          16,
          1,
          null,
          0,
          0,
          null,
          0,
          16,
          null
         ],
         "b": [
          4,
          0,
          null,
          0,
          0,
          null,
          4,
          0,
          null,
          4,
          0,
          null,
          0,
          0,
          null,
          4,
          4,
          null,
          4,
          0,
          null
         ],
         "c": [
          8,
          2,
          null,
          24,
          2,
          null,
          8,
          0,
          null,
          0,
          0,
          null,
          24,
          0,
          null,
          8,
          0,
          null,
          8,
          24,
          null
         ],
         "hoverinfo": "none",
         "line": {
          "color": "black",
          "width": 1.5
         },
         "marker": {
          "size": 4
         },
         "mode": "lines",
         "showlegend": false,
         "type": "scatterternary",
         "uid": "2f076563-9613-448d-b5d0-f151e6ec3e1f"
        },
        {
         "a": [
          0,
          0,
          1
         ],
         "b": [
          4,
          4,
          0
         ],
         "c": [
          0,
          8,
          0
         ],
         "fill": "toself",
         "fillcolor": "#2E91E5",
         "hovertemplate": "<extra></extra>",
         "line": {
          "width": 0
         },
         "marker": {
          "size": 4
         },
         "mode": "lines",
         "name": "C—CO<sub>2</sub>—Fe",
         "opacity": 0.15,
         "showlegend": false,
         "type": "scatterternary",
         "uid": "b55a279e-0bd5-4990-93fa-041c600ed449"
        },
        {
         "a": [
          0,
          1,
          16
         ],
         "b": [
          4,
          0,
          0
         ],
         "c": [
          8,
          0,
          24
         ],
         "fill": "toself",
         "fillcolor": "#E15F99",
         "hovertemplate": "<extra></extra>",
         "line": {
          "width": 0
         },
         "marker": {
          "size": 4
         },
         "mode": "lines",
         "name": "CO<sub>2</sub>—Fe—Fe<sub>2</sub>O<sub>3</sub>",
         "opacity": 0.15,
         "showlegend": false,
         "type": "scatterternary",
         "uid": "77c559f1-4719-441b-aa06-e55660494029"
        },
        {
         "a": [
          0,
          16,
          0
         ],
         "b": [
          4,
          0,
          0
         ],
         "c": [
          8,
          24,
          2
         ],
         "fill": "toself",
         "fillcolor": "#1CA71C",
         "hovertemplate": "<extra></extra>",
         "line": {
          "width": 0
         },
         "marker": {
          "size": 4
         },
         "mode": "lines",
         "name": "CO<sub>2</sub>—Fe<sub>2</sub>O<sub>3</sub>—O<sub>2</sub>",
         "opacity": 0.15,
         "showlegend": false,
         "type": "scatterternary",
         "uid": "f11e21da-440e-4929-befb-e729ce452cb7"
        },
        {
         "a": [
          0,
          0,
          16,
          1,
          0
         ],
         "b": [
          4,
          0,
          0,
          0,
          4
         ],
         "c": [
          8,
          2,
          24,
          0,
          0
         ],
         "cliponaxis": false,
         "hoverinfo": "text",
         "hoverlabel": {
          "font": {
           "size": 14
          }
         },
         "hovertext": [
          "CO<sub>2</sub> (18) <br> -1.314 eV/atom (Stable)",
          "O<sub>2</sub> (105) <br> 0.0 eV/atom (Stable)",
          "Fe<sub>2</sub>O<sub>3</sub> (33) <br> -0.335 eV/atom (Stable)",
          "Fe (0) <br> 0.0 eV/atom (Stable)",
          "C (103) <br> 0.0 eV/atom (Stable)"
         ],
         "marker": {
          "color": "green",
          "line": {
           "color": "black",
           "width": 2
          },
          "size": 4,
          "symbol": "circle"
         },
         "mode": "markers",
         "name": "Stable",
         "showlegend": true,
         "type": "scatterternary",
         "uid": "cc185ae6-6022-4800-8805-58b41dd40315"
        },
        {
         "a": [
          0,
          0,
          0,
          0,
          0,
          0,
          0,
          0,
          0,
          0,
          0,
          0,
          0,
          0,
          0,
          0,
          0,
          0,
          0,
          0,
          0,
          0,
          0,
          0,
          0,
          0,
          0,
          0,
          0,
          0,
          0,
          0,
          0,
          0,
          0,
          0,
          0,
          0,
          0,
          0,
          0,
          2,
          1,
          28,
          100,
          2,
          4,
          4,
          2,
          4,
          2,
          2,
          12,
          4,
          12,
          40,
          4,
          4,
          1,
          2,
          4,
          2,
          1,
          2,
          4,
          8,
          8,
          1,
          4,
          12,
          4,
          12,
          12,
          2,
          4,
          4,
          64,
          4,
          8,
          16,
          64,
          16,
          8,
          16,
          16,
          4,
          16,
          4,
          8,
          32,
          32,
          32,
          8,
          4,
          8,
          8,
          4,
          8,
          8,
          6,
          4,
          6,
          6,
          6,
          12,
          12,
          6,
          24,
          24,
          12,
          6,
          12,
          12,
          12,
          3,
          12,
          12,
          12,
          24,
          24,
          24,
          24,
          12,
          12,
          12,
          12,
          6,
          12,
          12,
          12,
          12,
          12,
          8,
          4,
          8,
          5,
          10,
          20,
          5,
          5,
          10,
          20,
          7,
          14,
          21,
          14,
          28,
          16,
          8,
          16,
          9,
          9,
          20,
          10,
          11,
          12,
          13,
          13,
          14,
          15,
          15,
          17,
          21,
          21,
          23,
          23,
          23,
          23,
          25,
          32,
          38,
          41,
          43
         ],
         "b": [
          0,
          0,
          0,
          0,
          0,
          0,
          0,
          0,
          4,
          4,
          2,
          2,
          4,
          4,
          2,
          4,
          8,
          10,
          14,
          12,
          8,
          12,
          16,
          2,
          2,
          4,
          2,
          2,
          8,
          8,
          71,
          16,
          2,
          4,
          2,
          8,
          2,
          4,
          4,
          8,
          48,
          0,
          0,
          0,
          0,
          0,
          0,
          0,
          0,
          0,
          0,
          0,
          0,
          0,
          0,
          0,
          0,
          0,
          0,
          0,
          0,
          0,
          0,
          0,
          0,
          0,
          0,
          0,
          0,
          0,
          0,
          0,
          0,
          2,
          8,
          8,
          0,
          0,
          0,
          0,
          0,
          0,
          0,
          0,
          0,
          0,
          0,
          0,
          0,
          0,
          0,
          0,
          0,
          2,
          4,
          4,
          4,
          8,
          8,
          6,
          6,
          0,
          0,
          0,
          0,
          0,
          0,
          0,
          0,
          0,
          0,
          0,
          0,
          0,
          0,
          0,
          0,
          0,
          0,
          0,
          0,
          0,
          0,
          0,
          0,
          0,
          2,
          4,
          4,
          4,
          4,
          4,
          0,
          1,
          2,
          0,
          0,
          0,
          0,
          0,
          4,
          8,
          0,
          0,
          0,
          6,
          12,
          0,
          0,
          0,
          0,
          0,
          0,
          0,
          0,
          0,
          0,
          0,
          0,
          0,
          0,
          0,
          0,
          0,
          0,
          0,
          0,
          6,
          0,
          0,
          0,
          0,
          0
         ],
         "c": [
          8,
          2,
          2,
          2,
          4,
          8,
          8,
          4,
          0,
          0,
          0,
          0,
          0,
          0,
          0,
          0,
          0,
          0,
          0,
          0,
          0,
          0,
          0,
          0,
          0,
          0,
          0,
          0,
          0,
          0,
          0,
          0,
          4,
          8,
          4,
          16,
          4,
          8,
          8,
          16,
          36,
          0,
          0,
          0,
          0,
          0,
          0,
          0,
          2,
          4,
          2,
          2,
          12,
          4,
          12,
          40,
          4,
          4,
          2,
          4,
          8,
          4,
          2,
          4,
          8,
          16,
          16,
          2,
          8,
          24,
          8,
          24,
          24,
          6,
          24,
          24,
          96,
          6,
          12,
          24,
          96,
          24,
          12,
          24,
          24,
          6,
          24,
          6,
          12,
          48,
          48,
          48,
          12,
          0,
          0,
          20,
          14,
          28,
          28,
          21,
          18,
          8,
          8,
          8,
          16,
          16,
          8,
          32,
          32,
          16,
          8,
          16,
          16,
          16,
          4,
          16,
          16,
          16,
          32,
          32,
          32,
          32,
          16,
          16,
          16,
          16,
          0,
          0,
          0,
          0,
          0,
          0,
          10,
          0,
          0,
          7,
          14,
          32,
          8,
          8,
          0,
          0,
          8,
          16,
          27,
          0,
          0,
          18,
          9,
          34,
          10,
          13,
          22,
          11,
          12,
          13,
          14,
          15,
          15,
          16,
          16,
          18,
          23,
          32,
          25,
          32,
          32,
          0,
          32,
          35,
          39,
          56,
          64
         ],
         "cliponaxis": false,
         "hoverinfo": "text",
         "hoverlabel": {
          "font": {
           "size": 14
          }
         },
         "hovertext": [
          "O<sub>2</sub> (11) <br> 0.007 eV/atom (+0.007 eV/atom)",
          "O<sub>2</sub> (42) <br> 0.113 eV/atom (+0.113 eV/atom)",
          "O<sub>2</sub> (43) <br> 0.019 eV/atom (+0.019 eV/atom)",
          "O<sub>2</sub> (46) <br> 0.016 eV/atom (+0.016 eV/atom)",
          "O<sub>2</sub> (108) <br> 0.108 eV/atom (+0.108 eV/atom)",
          "O<sub>2</sub> (115) <br> 0.03 eV/atom (+0.03 eV/atom)",
          "O<sub>2</sub> (116) <br> 0.008 eV/atom (+0.008 eV/atom)",
          "O<sub>2</sub> (126) <br> 0.063 eV/atom (+0.063 eV/atom)",
          "C (1) <br> 0.141 eV/atom (+0.141 eV/atom)",
          "C (2) <br> 0.001 eV/atom (+0.001 eV/atom)",
          "C (3) <br> 0.133 eV/atom (+0.133 eV/atom)",
          "C (6) <br> 0.003 eV/atom (+0.003 eV/atom)",
          "C (34) <br> 0.003 eV/atom (+0.003 eV/atom)",
          "C (35) <br> 0.003 eV/atom (+0.003 eV/atom)",
          "C (36) <br> 0.005 eV/atom (+0.005 eV/atom)",
          "C (37) <br> 0.004 eV/atom (+0.004 eV/atom)",
          "C (38) <br> 0.007 eV/atom (+0.007 eV/atom)",
          "C (39) <br> 0.136 eV/atom (+0.136 eV/atom)",
          "C (40) <br> 0.135 eV/atom (+0.135 eV/atom)",
          "C (41) <br> 0.004 eV/atom (+0.004 eV/atom)",
          "C (44) <br> 0.137 eV/atom (+0.137 eV/atom)",
          "C (45) <br> 0.136 eV/atom (+0.136 eV/atom)",
          "C (49) <br> 0.135 eV/atom (+0.135 eV/atom)",
          "C (50) <br> 0.008 eV/atom (+0.008 eV/atom)",
          "C (99) <br> 0.003 eV/atom (+0.003 eV/atom)",
          "C (100) <br> 0.003 eV/atom (+0.003 eV/atom)",
          "C (101) <br> 0.003 eV/atom (+0.003 eV/atom)",
          "C (106) <br> 0.003 eV/atom (+0.003 eV/atom)",
          "C (113) <br> 0.237 eV/atom (+0.237 eV/atom)",
          "C (114) <br> 0.33 eV/atom (+0.33 eV/atom)",
          "C (118) <br> 0.104 eV/atom (+0.104 eV/atom)",
          "C (141) <br> 0.323 eV/atom (+0.323 eV/atom)",
          "CO<sub>2</sub> (10) <br> -1.308 eV/atom (+0.007 eV/atom)",
          "CO<sub>2</sub> (32) <br> -1.3 eV/atom (+0.015 eV/atom)",
          "CO<sub>2</sub> (51) <br> -1.304 eV/atom (+0.01 eV/atom)",
          "CO<sub>2</sub> (102) <br> -1.013 eV/atom (+0.301 eV/atom)",
          "CO<sub>2</sub> (110) <br> -1.282 eV/atom (+0.033 eV/atom)",
          "CO<sub>2</sub> (120) <br> -1.298 eV/atom (+0.016 eV/atom)",
          "CO<sub>2</sub> (134) <br> -1.292 eV/atom (+0.022 eV/atom)",
          "CO<sub>2</sub> (142) <br> -1.304 eV/atom (+0.01 eV/atom)",
          "C<sub>4</sub>O<sub>3</sub> (104) <br> -0.616 eV/atom (+0.229 eV/atom)",
          "Fe (4) <br> 0.103 eV/atom (+0.103 eV/atom)",
          "Fe (5) <br> 0.173 eV/atom (+0.173 eV/atom)",
          "Fe (145) <br> 0.199 eV/atom (+0.199 eV/atom)",
          "Fe (160) <br> 0.247 eV/atom (+0.247 eV/atom)",
          "Fe (161) <br> 0.113 eV/atom (+0.113 eV/atom)",
          "Fe (162) <br> 0.022 eV/atom (+0.022 eV/atom)",
          "Fe (163) <br> 0.108 eV/atom (+0.108 eV/atom)",
          "FeO (68) <br> 0.065 eV/atom (+0.344 eV/atom)",
          "FeO (79) <br> 0.108 eV/atom (+0.387 eV/atom)",
          "FeO (80) <br> 0.157 eV/atom (+0.436 eV/atom)",
          "FeO (81) <br> 0.156 eV/atom (+0.436 eV/atom)",
          "FeO (96) <br> 0.157 eV/atom (+0.436 eV/atom)",
          "FeO (123) <br> 0.055 eV/atom (+0.335 eV/atom)",
          "FeO (124) <br> 0.164 eV/atom (+0.443 eV/atom)",
          "FeO (158) <br> 0.297 eV/atom (+0.577 eV/atom)",
          "FeO (165) <br> 0.055 eV/atom (+0.335 eV/atom)",
          "FeO (166) <br> 0.056 eV/atom (+0.335 eV/atom)",
          "FeO<sub>2</sub> (20) <br> 0.044 eV/atom (+0.323 eV/atom)",
          "FeO<sub>2</sub> (21) <br> -0.064 eV/atom (+0.215 eV/atom)",
          "FeO<sub>2</sub> (67) <br> 0.045 eV/atom (+0.324 eV/atom)",
          "FeO<sub>2</sub> (97) <br> -0.082 eV/atom (+0.198 eV/atom)",
          "FeO<sub>2</sub> (107) <br> 0.024 eV/atom (+0.303 eV/atom)",
          "FeO<sub>2</sub> (119) <br> 0.051 eV/atom (+0.331 eV/atom)",
          "FeO<sub>2</sub> (122) <br> -0.028 eV/atom (+0.251 eV/atom)",
          "FeO<sub>2</sub> (131) <br> -0.051 eV/atom (+0.228 eV/atom)",
          "FeO<sub>2</sub> (149) <br> -0.046 eV/atom (+0.234 eV/atom)",
          "FeO<sub>2</sub> (152) <br> 0.044 eV/atom (+0.323 eV/atom)",
          "FeO<sub>2</sub> (170) <br> 0.05 eV/atom (+0.329 eV/atom)",
          "FeO<sub>2</sub> (173) <br> 0.042 eV/atom (+0.321 eV/atom)",
          "FeO<sub>2</sub> (175) <br> -0.051 eV/atom (+0.228 eV/atom)",
          "FeO<sub>2</sub> (176) <br> 0.04 eV/atom (+0.319 eV/atom)",
          "FeO<sub>2</sub> (177) <br> 0.048 eV/atom (+0.327 eV/atom)",
          "FeCO<sub>3</sub> (15) <br> -0.89 eV/atom (+0.01 eV/atom)",
          "Fe(CO<sub>3</sub>)<sub>2</sub> (78) <br> -0.877 eV/atom (+0.092 eV/atom)",
          "Fe(CO<sub>3</sub>)<sub>2</sub> (167) <br> -0.878 eV/atom (+0.091 eV/atom)",
          "Fe<sub>2</sub>O<sub>3</sub> (7) <br> -0.292 eV/atom (+0.043 eV/atom)",
          "Fe<sub>2</sub>O<sub>3</sub> (17) <br> -0.321 eV/atom (+0.014 eV/atom)",
          "Fe<sub>2</sub>O<sub>3</sub> (25) <br> -0.28 eV/atom (+0.055 eV/atom)",
          "Fe<sub>2</sub>O<sub>3</sub> (31) <br> -0.298 eV/atom (+0.037 eV/atom)",
          "Fe<sub>2</sub>O<sub>3</sub> (54) <br> -0.276 eV/atom (+0.059 eV/atom)",
          "Fe<sub>2</sub>O<sub>3</sub> (59) <br> -0.256 eV/atom (+0.079 eV/atom)",
          "Fe<sub>2</sub>O<sub>3</sub> (70) <br> -0.279 eV/atom (+0.056 eV/atom)",
          "Fe<sub>2</sub>O<sub>3</sub> (74) <br> -0.331 eV/atom (+0.004 eV/atom)",
          "Fe<sub>2</sub>O<sub>3</sub> (95) <br> -0.288 eV/atom (+0.047 eV/atom)",
          "Fe<sub>2</sub>O<sub>3</sub> (111) <br> -0.176 eV/atom (+0.159 eV/atom)",
          "Fe<sub>2</sub>O<sub>3</sub> (125) <br> -0.295 eV/atom (+0.04 eV/atom)",
          "Fe<sub>2</sub>O<sub>3</sub> (133) <br> -0.246 eV/atom (+0.089 eV/atom)",
          "Fe<sub>2</sub>O<sub>3</sub> (148) <br> -0.233 eV/atom (+0.102 eV/atom)",
          "Fe<sub>2</sub>O<sub>3</sub> (156) <br> -0.119 eV/atom (+0.217 eV/atom)",
          "Fe<sub>2</sub>O<sub>3</sub> (157) <br> -0.136 eV/atom (+0.199 eV/atom)",
          "Fe<sub>2</sub>O<sub>3</sub> (159) <br> -0.119 eV/atom (+0.216 eV/atom)",
          "Fe<sub>2</sub>O<sub>3</sub> (171) <br> -0.142 eV/atom (+0.193 eV/atom)",
          "Fe<sub>2</sub>C (8) <br> 0.041 eV/atom (+0.041 eV/atom)",
          "Fe<sub>2</sub>C (121) <br> 0.174 eV/atom (+0.174 eV/atom)",
          "Fe<sub>2</sub>CO<sub>5</sub> (147) <br> -0.525 eV/atom (+0.177 eV/atom)",
          "Fe<sub>2</sub>C<sub>2</sub>O<sub>7</sub> (77) <br> -0.822 eV/atom (+0.047 eV/atom)",
          "Fe<sub>2</sub>C<sub>2</sub>O<sub>7</sub> (84) <br> -0.811 eV/atom (+0.058 eV/atom)",
          "Fe<sub>2</sub>C<sub>2</sub>O<sub>7</sub> (86) <br> -0.804 eV/atom (+0.065 eV/atom)",
          "Fe<sub>2</sub>C<sub>2</sub>O<sub>7</sub> (88) <br> -0.823 eV/atom (+0.046 eV/atom)",
          "Fe<sub>2</sub>(CO<sub>3</sub>)<sub>3</sub> (85) <br> -0.927 eV/atom (+0.038 eV/atom)",
          "Fe<sub>3</sub>O<sub>4</sub> (14) <br> -0.19 eV/atom (+0.13 eV/atom)",
          "Fe<sub>3</sub>O<sub>4</sub> (16) <br> -0.232 eV/atom (+0.087 eV/atom)",
          "Fe<sub>3</sub>O<sub>4</sub> (22) <br> -0.239 eV/atom (+0.08 eV/atom)",
          "Fe<sub>3</sub>O<sub>4</sub> (24) <br> -0.132 eV/atom (+0.187 eV/atom)",
          "Fe<sub>3</sub>O<sub>4</sub> (26) <br> -0.233 eV/atom (+0.086 eV/atom)",
          "Fe<sub>3</sub>O<sub>4</sub> (47) <br> -0.115 eV/atom (+0.204 eV/atom)",
          "Fe<sub>3</sub>O<sub>4</sub> (53) <br> -0.24 eV/atom (+0.079 eV/atom)",
          "Fe<sub>3</sub>O<sub>4</sub> (56) <br> -0.152 eV/atom (+0.167 eV/atom)",
          "Fe<sub>3</sub>O<sub>4</sub> (69) <br> -0.184 eV/atom (+0.135 eV/atom)",
          "Fe<sub>3</sub>O<sub>4</sub> (72) <br> -0.188 eV/atom (+0.131 eV/atom)",
          "Fe<sub>3</sub>O<sub>4</sub> (73) <br> -0.234 eV/atom (+0.085 eV/atom)",
          "Fe<sub>3</sub>O<sub>4</sub> (75) <br> -0.233 eV/atom (+0.086 eV/atom)",
          "Fe<sub>3</sub>O<sub>4</sub> (76) <br> -0.237 eV/atom (+0.082 eV/atom)",
          "Fe<sub>3</sub>O<sub>4</sub> (127) <br> -0.16 eV/atom (+0.16 eV/atom)",
          "Fe<sub>3</sub>O<sub>4</sub> (128) <br> -0.236 eV/atom (+0.084 eV/atom)",
          "Fe<sub>3</sub>O<sub>4</sub> (129) <br> -0.163 eV/atom (+0.156 eV/atom)",
          "Fe<sub>3</sub>O<sub>4</sub> (130) <br> -0.25 eV/atom (+0.069 eV/atom)",
          "Fe<sub>3</sub>O<sub>4</sub> (132) <br> -0.245 eV/atom (+0.074 eV/atom)",
          "Fe<sub>3</sub>O<sub>4</sub> (135) <br> -0.245 eV/atom (+0.075 eV/atom)",
          "Fe<sub>3</sub>O<sub>4</sub> (136) <br> -0.243 eV/atom (+0.076 eV/atom)",
          "Fe<sub>3</sub>O<sub>4</sub> (139) <br> -0.241 eV/atom (+0.079 eV/atom)",
          "Fe<sub>3</sub>O<sub>4</sub> (143) <br> -0.189 eV/atom (+0.13 eV/atom)",
          "Fe<sub>3</sub>O<sub>4</sub> (164) <br> -0.242 eV/atom (+0.077 eV/atom)",
          "Fe<sub>3</sub>O<sub>4</sub> (168) <br> -0.239 eV/atom (+0.08 eV/atom)",
          "Fe<sub>3</sub>O<sub>4</sub> (169) <br> -0.24 eV/atom (+0.079 eV/atom)",
          "Fe<sub>3</sub>C (12) <br> 0.046 eV/atom (+0.046 eV/atom)",
          "Fe<sub>3</sub>C (27) <br> 0.042 eV/atom (+0.042 eV/atom)",
          "Fe<sub>3</sub>C (48) <br> 0.114 eV/atom (+0.114 eV/atom)",
          "Fe<sub>3</sub>C (138) <br> 0.238 eV/atom (+0.238 eV/atom)",
          "Fe<sub>3</sub>C (150) <br> 0.144 eV/atom (+0.144 eV/atom)",
          "Fe<sub>3</sub>C (151) <br> 0.15 eV/atom (+0.15 eV/atom)",
          "Fe<sub>4</sub>O<sub>5</sub> (140) <br> -0.126 eV/atom (+0.185 eV/atom)",
          "Fe<sub>4</sub>C (109) <br> 0.275 eV/atom (+0.275 eV/atom)",
          "Fe<sub>4</sub>C (112) <br> 0.111 eV/atom (+0.111 eV/atom)",
          "Fe<sub>5</sub>O<sub>7</sub> (117) <br> -0.182 eV/atom (+0.144 eV/atom)",
          "Fe<sub>5</sub>O<sub>7</sub> (172) <br> -0.133 eV/atom (+0.193 eV/atom)",
          "Fe<sub>5</sub>O<sub>8</sub> (28) <br> -0.215 eV/atom (+0.107 eV/atom)",
          "Fe<sub>5</sub>O<sub>8</sub> (154) <br> -0.192 eV/atom (+0.13 eV/atom)",
          "Fe<sub>5</sub>O<sub>8</sub> (155) <br> -0.2 eV/atom (+0.122 eV/atom)",
          "Fe<sub>5</sub>C<sub>2</sub> (9) <br> 0.044 eV/atom (+0.044 eV/atom)",
          "Fe<sub>5</sub>C<sub>2</sub> (52) <br> 0.046 eV/atom (+0.046 eV/atom)",
          "Fe<sub>7</sub>O<sub>8</sub> (23) <br> -0.046 eV/atom (+0.252 eV/atom)",
          "Fe<sub>7</sub>O<sub>8</sub> (71) <br> -0.047 eV/atom (+0.251 eV/atom)",
          "Fe<sub>7</sub>O<sub>9</sub> (63) <br> -0.037 eV/atom (+0.277 eV/atom)",
          "Fe<sub>7</sub>C<sub>3</sub> (13) <br> 0.063 eV/atom (+0.063 eV/atom)",
          "Fe<sub>7</sub>C<sub>3</sub> (19) <br> 0.046 eV/atom (+0.046 eV/atom)",
          "Fe<sub>8</sub>O<sub>9</sub> (64) <br> -0.042 eV/atom (+0.254 eV/atom)",
          "Fe<sub>8</sub>O<sub>9</sub> (90) <br> -0.03 eV/atom (+0.266 eV/atom)",
          "Fe<sub>8</sub>O<sub>17</sub> (137) <br> 0.062 eV/atom (+0.33 eV/atom)",
          "Fe<sub>9</sub>O<sub>10</sub> (87) <br> -0.033 eV/atom (+0.261 eV/atom)",
          "Fe<sub>9</sub>O<sub>13</sub> (174) <br> -0.124 eV/atom (+0.206 eV/atom)",
          "Fe<sub>10</sub>O<sub>11</sub> (62) <br> -0.019 eV/atom (+0.273 eV/atom)",
          "Fe<sub>10</sub>O<sub>11</sub> (89) <br> -0.01 eV/atom (+0.283 eV/atom)",
          "Fe<sub>11</sub>O<sub>12</sub> (57) <br> -0.01 eV/atom (+0.281 eV/atom)",
          "Fe<sub>12</sub>O<sub>13</sub> (91) <br> -0.004 eV/atom (+0.286 eV/atom)",
          "Fe<sub>13</sub>O<sub>14</sub> (55) <br> 0.003 eV/atom (+0.293 eV/atom)",
          "Fe<sub>13</sub>O<sub>15</sub> (82) <br> -0.047 eV/atom (+0.253 eV/atom)",
          "Fe<sub>14</sub>O<sub>15</sub> (92) <br> 0.011 eV/atom (+0.3 eV/atom)",
          "Fe<sub>15</sub>O<sub>16</sub> (60) <br> 0.043 eV/atom (+0.332 eV/atom)",
          "Fe<sub>15</sub>O<sub>16</sub> (153) <br> 0.046 eV/atom (+0.334 eV/atom)",
          "Fe<sub>17</sub>O<sub>18</sub> (58) <br> 0.016 eV/atom (+0.303 eV/atom)",
          "Fe<sub>21</sub>O<sub>23</sub> (66) <br> -0.011 eV/atom (+0.281 eV/atom)",
          "Fe<sub>21</sub>O<sub>32</sub> (29) <br> -0.223 eV/atom (+0.109 eV/atom)",
          "Fe<sub>23</sub>O<sub>25</sub> (61) <br> -0.004 eV/atom (+0.287 eV/atom)",
          "Fe<sub>23</sub>O<sub>32</sub> (93) <br> -0.171 eV/atom (+0.154 eV/atom)",
          "Fe<sub>23</sub>O<sub>32</sub> (94) <br> -0.237 eV/atom (+0.087 eV/atom)",
          "Fe<sub>23</sub>C<sub>6</sub> (144) <br> 0.024 eV/atom (+0.024 eV/atom)",
          "Fe<sub>25</sub>O<sub>32</sub> (146) <br> -0.067 eV/atom (+0.246 eV/atom)",
          "Fe<sub>32</sub>O<sub>35</sub> (98) <br> -0.01 eV/atom (+0.282 eV/atom)",
          "Fe<sub>38</sub>O<sub>39</sub> (65) <br> 0.042 eV/atom (+0.325 eV/atom)",
          "Fe<sub>41</sub>O<sub>56</sub> (83) <br> -0.243 eV/atom (+0.079 eV/atom)",
          "Fe<sub>43</sub>O<sub>64</sub> (30) <br> -0.289 eV/atom (+0.045 eV/atom)"
         ],
         "marker": {
          "color": [
           0.007,
           0.113,
           0.019,
           0.016,
           0.108,
           0.03,
           0.008,
           0.063,
           0.141,
           0.001,
           0.133,
           0.003,
           0.003,
           0.003,
           0.005,
           0.004,
           0.007,
           0.136,
           0.135,
           0.004,
           0.137,
           0.136,
           0.135,
           0.008,
           0.003,
           0.003,
           0.003,
           0.003,
           0.237,
           0.33,
           0.104,
           0.323,
           0.007,
           0.015,
           0.01,
           0.301,
           0.033,
           0.016,
           0.022,
           0.01,
           0.229,
           0.103,
           0.173,
           0.199,
           0.247,
           0.113,
           0.022,
           0.108,
           0.344,
           0.387,
           0.436,
           0.436,
           0.436,
           0.335,
           0.443,
           0.577,
           0.335,
           0.335,
           0.323,
           0.215,
           0.324,
           0.198,
           0.303,
           0.331,
           0.251,
           0.228,
           0.234,
           0.323,
           0.329,
           0.321,
           0.228,
           0.319,
           0.327,
           0.01,
           0.092,
           0.091,
           0.043,
           0.014,
           0.055,
           0.037,
           0.059,
           0.079,
           0.056,
           0.004,
           0.047,
           0.159,
           0.04,
           0.089,
           0.102,
           0.217,
           0.199,
           0.216,
           0.193,
           0.041,
           0.174,
           0.177,
           0.047,
           0.058,
           0.065,
           0.046,
           0.038,
           0.13,
           0.087,
           0.08,
           0.187,
           0.086,
           0.204,
           0.079,
           0.167,
           0.135,
           0.131,
           0.085,
           0.086,
           0.082,
           0.16,
           0.084,
           0.156,
           0.069,
           0.074,
           0.075,
           0.076,
           0.079,
           0.13,
           0.077,
           0.08,
           0.079,
           0.046,
           0.042,
           0.114,
           0.238,
           0.144,
           0.15,
           0.185,
           0.275,
           0.111,
           0.144,
           0.193,
           0.107,
           0.13,
           0.122,
           0.044,
           0.046,
           0.252,
           0.251,
           0.277,
           0.063,
           0.046,
           0.254,
           0.266,
           0.33,
           0.261,
           0.206,
           0.273,
           0.283,
           0.281,
           0.286,
           0.293,
           0.253,
           0.3,
           0.332,
           0.334,
           0.303,
           0.281,
           0.109,
           0.287,
           0.154,
           0.087,
           0.024,
           0.246,
           0.282,
           0.325,
           0.079,
           0.045
          ],
          "colorbar": {
           "len": 0.5,
           "thickness": 0.02,
           "thicknessmode": "fraction",
           "title": {
            "text": "Energy Above Hull<br>(eV/atom)"
           },
           "x": 0,
           "xpad": 0,
           "y": 1,
           "yanchor": "top",
           "ypad": 0
          },
          "colorscale": [
           [
            0,
            "#fff5e3"
           ],
           [
            0.5,
            "#f24324"
           ],
           [
            1,
            "#c40000"
           ]
          ],
          "line": {
           "color": "black",
           "width": 1
          },
          "opacity": 0.8,
          "size": 4,
          "symbol": "diamond"
         },
         "mode": "markers",
         "name": "Above Hull",
         "showlegend": true,
         "type": "scatterternary",
         "uid": "23e40268-073d-4447-88b6-0048dcd78886"
        }
       ],
       "_js2py_pointsCallback": {},
       "_js2py_relayout": {},
       "_js2py_restyle": {},
       "_js2py_update": {},
       "_layout": {
        "autosize": true,
        "coloraxis": {
         "colorbar": {
          "x": 1,
          "y": 0.05,
          "yanchor": "top"
         }
        },
        "height": 400,
        "margin": {
         "b": 40,
         "l": 20,
         "r": 20,
         "t": 40
        },
        "paper_bgcolor": "rgba(0.9.,0.9.,0.9.,0.9)",
        "showlegend": true,
        "template": {
         "data": {
          "bar": [
           {
            "error_x": {
             "color": "#2a3f5f"
            },
            "error_y": {
             "color": "#2a3f5f"
            },
            "marker": {
             "line": {
              "color": "#E5ECF6",
              "width": 0.5
             },
             "pattern": {
              "fillmode": "overlay",
              "size": 10,
              "solidity": 0.2
             }
            },
            "type": "bar"
           }
          ],
          "barpolar": [
           {
            "marker": {
             "line": {
              "color": "#E5ECF6",
              "width": 0.5
             },
             "pattern": {
              "fillmode": "overlay",
              "size": 10,
              "solidity": 0.2
             }
            },
            "type": "barpolar"
           }
          ],
          "carpet": [
           {
            "aaxis": {
             "endlinecolor": "#2a3f5f",
             "gridcolor": "white",
             "linecolor": "white",
             "minorgridcolor": "white",
             "startlinecolor": "#2a3f5f"
            },
            "baxis": {
             "endlinecolor": "#2a3f5f",
             "gridcolor": "white",
             "linecolor": "white",
             "minorgridcolor": "white",
             "startlinecolor": "#2a3f5f"
            },
            "type": "carpet"
           }
          ],
          "choropleth": [
           {
            "colorbar": {
             "outlinewidth": 0,
             "ticks": ""
            },
            "type": "choropleth"
           }
          ],
          "contour": [
           {
            "colorbar": {
             "outlinewidth": 0,
             "ticks": ""
            },
            "colorscale": [
             [
              0,
              "#0d0887"
             ],
             [
              0.1111111111111111,
              "#46039f"
             ],
             [
              0.2222222222222222,
              "#7201a8"
             ],
             [
              0.3333333333333333,
              "#9c179e"
             ],
             [
              0.4444444444444444,
              "#bd3786"
             ],
             [
              0.5555555555555556,
              "#d8576b"
             ],
             [
              0.6666666666666666,
              "#ed7953"
             ],
             [
              0.7777777777777778,
              "#fb9f3a"
             ],
             [
              0.8888888888888888,
              "#fdca26"
             ],
             [
              1,
              "#f0f921"
             ]
            ],
            "type": "contour"
           }
          ],
          "contourcarpet": [
           {
            "colorbar": {
             "outlinewidth": 0,
             "ticks": ""
            },
            "type": "contourcarpet"
           }
          ],
          "heatmap": [
           {
            "colorbar": {
             "outlinewidth": 0,
             "ticks": ""
            },
            "colorscale": [
             [
              0,
              "#0d0887"
             ],
             [
              0.1111111111111111,
              "#46039f"
             ],
             [
              0.2222222222222222,
              "#7201a8"
             ],
             [
              0.3333333333333333,
              "#9c179e"
             ],
             [
              0.4444444444444444,
              "#bd3786"
             ],
             [
              0.5555555555555556,
              "#d8576b"
             ],
             [
              0.6666666666666666,
              "#ed7953"
             ],
             [
              0.7777777777777778,
              "#fb9f3a"
             ],
             [
              0.8888888888888888,
              "#fdca26"
             ],
             [
              1,
              "#f0f921"
             ]
            ],
            "type": "heatmap"
           }
          ],
          "heatmapgl": [
           {
            "colorbar": {
             "outlinewidth": 0,
             "ticks": ""
            },
            "colorscale": [
             [
              0,
              "#0d0887"
             ],
             [
              0.1111111111111111,
              "#46039f"
             ],
             [
              0.2222222222222222,
              "#7201a8"
             ],
             [
              0.3333333333333333,
              "#9c179e"
             ],
             [
              0.4444444444444444,
              "#bd3786"
             ],
             [
              0.5555555555555556,
              "#d8576b"
             ],
             [
              0.6666666666666666,
              "#ed7953"
             ],
             [
              0.7777777777777778,
              "#fb9f3a"
             ],
             [
              0.8888888888888888,
              "#fdca26"
             ],
             [
              1,
              "#f0f921"
             ]
            ],
            "type": "heatmapgl"
           }
          ],
          "histogram": [
           {
            "marker": {
             "pattern": {
              "fillmode": "overlay",
              "size": 10,
              "solidity": 0.2
             }
            },
            "type": "histogram"
           }
          ],
          "histogram2d": [
           {
            "colorbar": {
             "outlinewidth": 0,
             "ticks": ""
            },
            "colorscale": [
             [
              0,
              "#0d0887"
             ],
             [
              0.1111111111111111,
              "#46039f"
             ],
             [
              0.2222222222222222,
              "#7201a8"
             ],
             [
              0.3333333333333333,
              "#9c179e"
             ],
             [
              0.4444444444444444,
              "#bd3786"
             ],
             [
              0.5555555555555556,
              "#d8576b"
             ],
             [
              0.6666666666666666,
              "#ed7953"
             ],
             [
              0.7777777777777778,
              "#fb9f3a"
             ],
             [
              0.8888888888888888,
              "#fdca26"
             ],
             [
              1,
              "#f0f921"
             ]
            ],
            "type": "histogram2d"
           }
          ],
          "histogram2dcontour": [
           {
            "colorbar": {
             "outlinewidth": 0,
             "ticks": ""
            },
            "colorscale": [
             [
              0,
              "#0d0887"
             ],
             [
              0.1111111111111111,
              "#46039f"
             ],
             [
              0.2222222222222222,
              "#7201a8"
             ],
             [
              0.3333333333333333,
              "#9c179e"
             ],
             [
              0.4444444444444444,
              "#bd3786"
             ],
             [
              0.5555555555555556,
              "#d8576b"
             ],
             [
              0.6666666666666666,
              "#ed7953"
             ],
             [
              0.7777777777777778,
              "#fb9f3a"
             ],
             [
              0.8888888888888888,
              "#fdca26"
             ],
             [
              1,
              "#f0f921"
             ]
            ],
            "type": "histogram2dcontour"
           }
          ],
          "mesh3d": [
           {
            "colorbar": {
             "outlinewidth": 0,
             "ticks": ""
            },
            "type": "mesh3d"
           }
          ],
          "parcoords": [
           {
            "line": {
             "colorbar": {
              "outlinewidth": 0,
              "ticks": ""
             }
            },
            "type": "parcoords"
           }
          ],
          "pie": [
           {
            "automargin": true,
            "type": "pie"
           }
          ],
          "scatter": [
           {
            "fillpattern": {
             "fillmode": "overlay",
             "size": 10,
             "solidity": 0.2
            },
            "type": "scatter"
           }
          ],
          "scatter3d": [
           {
            "line": {
             "colorbar": {
              "outlinewidth": 0,
              "ticks": ""
             }
            },
            "marker": {
             "colorbar": {
              "outlinewidth": 0,
              "ticks": ""
             }
            },
            "type": "scatter3d"
           }
          ],
          "scattercarpet": [
           {
            "marker": {
             "colorbar": {
              "outlinewidth": 0,
              "ticks": ""
             }
            },
            "type": "scattercarpet"
           }
          ],
          "scattergeo": [
           {
            "marker": {
             "colorbar": {
              "outlinewidth": 0,
              "ticks": ""
             }
            },
            "type": "scattergeo"
           }
          ],
          "scattergl": [
           {
            "marker": {
             "colorbar": {
              "outlinewidth": 0,
              "ticks": ""
             }
            },
            "type": "scattergl"
           }
          ],
          "scattermapbox": [
           {
            "marker": {
             "colorbar": {
              "outlinewidth": 0,
              "ticks": ""
             }
            },
            "type": "scattermapbox"
           }
          ],
          "scatterpolar": [
           {
            "marker": {
             "colorbar": {
              "outlinewidth": 0,
              "ticks": ""
             }
            },
            "type": "scatterpolar"
           }
          ],
          "scatterpolargl": [
           {
            "marker": {
             "colorbar": {
              "outlinewidth": 0,
              "ticks": ""
             }
            },
            "type": "scatterpolargl"
           }
          ],
          "scatterternary": [
           {
            "marker": {
             "colorbar": {
              "outlinewidth": 0,
              "ticks": ""
             }
            },
            "type": "scatterternary"
           }
          ],
          "surface": [
           {
            "colorbar": {
             "outlinewidth": 0,
             "ticks": ""
            },
            "colorscale": [
             [
              0,
              "#0d0887"
             ],
             [
              0.1111111111111111,
              "#46039f"
             ],
             [
              0.2222222222222222,
              "#7201a8"
             ],
             [
              0.3333333333333333,
              "#9c179e"
             ],
             [
              0.4444444444444444,
              "#bd3786"
             ],
             [
              0.5555555555555556,
              "#d8576b"
             ],
             [
              0.6666666666666666,
              "#ed7953"
             ],
             [
              0.7777777777777778,
              "#fb9f3a"
             ],
             [
              0.8888888888888888,
              "#fdca26"
             ],
             [
              1,
              "#f0f921"
             ]
            ],
            "type": "surface"
           }
          ],
          "table": [
           {
            "cells": {
             "fill": {
              "color": "#EBF0F8"
             },
             "line": {
              "color": "white"
             }
            },
            "header": {
             "fill": {
              "color": "#C8D4E3"
             },
             "line": {
              "color": "white"
             }
            },
            "type": "table"
           }
          ]
         },
         "layout": {
          "annotationdefaults": {
           "arrowcolor": "#2a3f5f",
           "arrowhead": 0,
           "arrowwidth": 1
          },
          "autotypenumbers": "strict",
          "coloraxis": {
           "colorbar": {
            "outlinewidth": 0,
            "ticks": ""
           }
          },
          "colorscale": {
           "diverging": [
            [
             0,
             "#8e0152"
            ],
            [
             0.1,
             "#c51b7d"
            ],
            [
             0.2,
             "#de77ae"
            ],
            [
             0.3,
             "#f1b6da"
            ],
            [
             0.4,
             "#fde0ef"
            ],
            [
             0.5,
             "#f7f7f7"
            ],
            [
             0.6,
             "#e6f5d0"
            ],
            [
             0.7,
             "#b8e186"
            ],
            [
             0.8,
             "#7fbc41"
            ],
            [
             0.9,
             "#4d9221"
            ],
            [
             1,
             "#276419"
            ]
           ],
           "sequential": [
            [
             0,
             "#0d0887"
            ],
            [
             0.1111111111111111,
             "#46039f"
            ],
            [
             0.2222222222222222,
             "#7201a8"
            ],
            [
             0.3333333333333333,
             "#9c179e"
            ],
            [
             0.4444444444444444,
             "#bd3786"
            ],
            [
             0.5555555555555556,
             "#d8576b"
            ],
            [
             0.6666666666666666,
             "#ed7953"
            ],
            [
             0.7777777777777778,
             "#fb9f3a"
            ],
            [
             0.8888888888888888,
             "#fdca26"
            ],
            [
             1,
             "#f0f921"
            ]
           ],
           "sequentialminus": [
            [
             0,
             "#0d0887"
            ],
            [
             0.1111111111111111,
             "#46039f"
            ],
            [
             0.2222222222222222,
             "#7201a8"
            ],
            [
             0.3333333333333333,
             "#9c179e"
            ],
            [
             0.4444444444444444,
             "#bd3786"
            ],
            [
             0.5555555555555556,
             "#d8576b"
            ],
            [
             0.6666666666666666,
             "#ed7953"
            ],
            [
             0.7777777777777778,
             "#fb9f3a"
            ],
            [
             0.8888888888888888,
             "#fdca26"
            ],
            [
             1,
             "#f0f921"
            ]
           ]
          },
          "colorway": [
           "#636efa",
           "#EF553B",
           "#00cc96",
           "#ab63fa",
           "#FFA15A",
           "#19d3f3",
           "#FF6692",
           "#B6E880",
           "#FF97FF",
           "#FECB52"
          ],
          "font": {
           "color": "#2a3f5f"
          },
          "geo": {
           "bgcolor": "white",
           "lakecolor": "white",
           "landcolor": "#E5ECF6",
           "showlakes": true,
           "showland": true,
           "subunitcolor": "white"
          },
          "hoverlabel": {
           "align": "left"
          },
          "hovermode": "closest",
          "mapbox": {
           "style": "light"
          },
          "paper_bgcolor": "white",
          "plot_bgcolor": "#E5ECF6",
          "polar": {
           "angularaxis": {
            "gridcolor": "white",
            "linecolor": "white",
            "ticks": ""
           },
           "bgcolor": "#E5ECF6",
           "radialaxis": {
            "gridcolor": "white",
            "linecolor": "white",
            "ticks": ""
           }
          },
          "scene": {
           "xaxis": {
            "backgroundcolor": "#E5ECF6",
            "gridcolor": "white",
            "gridwidth": 2,
            "linecolor": "white",
            "showbackground": true,
            "ticks": "",
            "zerolinecolor": "white"
           },
           "yaxis": {
            "backgroundcolor": "#E5ECF6",
            "gridcolor": "white",
            "gridwidth": 2,
            "linecolor": "white",
            "showbackground": true,
            "ticks": "",
            "zerolinecolor": "white"
           },
           "zaxis": {
            "backgroundcolor": "#E5ECF6",
            "gridcolor": "white",
            "gridwidth": 2,
            "linecolor": "white",
            "showbackground": true,
            "ticks": "",
            "zerolinecolor": "white"
           }
          },
          "shapedefaults": {
           "line": {
            "color": "#2a3f5f"
           }
          },
          "ternary": {
           "aaxis": {
            "gridcolor": "white",
            "linecolor": "white",
            "ticks": ""
           },
           "baxis": {
            "gridcolor": "white",
            "linecolor": "white",
            "ticks": ""
           },
           "bgcolor": "#E5ECF6",
           "caxis": {
            "gridcolor": "white",
            "linecolor": "white",
            "ticks": ""
           }
          },
          "title": {
           "x": 0.05
          },
          "xaxis": {
           "automargin": true,
           "gridcolor": "white",
           "linecolor": "white",
           "ticks": "",
           "title": {
            "standoff": 15
           },
           "zerolinecolor": "white",
           "zerolinewidth": 2
          },
          "yaxis": {
           "automargin": true,
           "gridcolor": "white",
           "linecolor": "white",
           "ticks": "",
           "title": {
            "standoff": 15
           },
           "zerolinecolor": "white",
           "zerolinewidth": 2
          }
         }
        },
        "ternary": {
         "aaxis": {
          "layer": "below traces",
          "showgrid": true,
          "showticklabels": true,
          "tickfont": {
           "size": 7
          },
          "title": {
           "font": {
            "size": 24
           },
           "text": "Fe"
          }
         },
         "baxis": {
          "layer": "below traces",
          "min": 0,
          "showgrid": true,
          "showticklabels": true,
          "tickfont": {
           "size": 7
          },
          "title": {
           "font": {
            "size": 24
           },
           "text": "C"
          }
         },
         "caxis": {
          "layer": "below traces",
          "min": 0,
          "showgrid": true,
          "showticklabels": true,
          "tickfont": {
           "size": 7
          },
          "title": {
           "font": {
            "size": 24
           },
           "text": "O"
          }
         },
         "sum": 1
        },
        "width": 800
       },
       "_py2js_addTraces": {},
       "_py2js_animate": {},
       "_py2js_deleteTraces": {},
       "_py2js_moveTraces": {},
       "_py2js_relayout": {},
       "_py2js_removeTraceProps": {},
       "_py2js_restyle": {},
       "_py2js_update": {},
       "_view_count": 1
      }
     },
     "439b6e2681af4b8b8e36a792bf4dcf8c": {
      "model_module": "@jupyter-widgets/controls",
      "model_module_version": "1.5.0",
      "model_name": "DescriptionStyleModel",
      "state": {
       "description_width": ""
      }
     },
     "43d4f8c3da0e4217a802ebdc585b5f3d": {
      "model_module": "@jupyter-widgets/controls",
      "model_module_version": "1.5.0",
      "model_name": "DescriptionStyleModel",
      "state": {
       "description_width": ""
      }
     },
     "44e2c5814c11411599584bab16e9f2e6": {
      "model_module": "@jupyter-widgets/controls",
      "model_module_version": "1.5.0",
      "model_name": "DescriptionStyleModel",
      "state": {
       "description_width": ""
      }
     },
     "451423f40f6e4c5aae87ef121f6652b4": {
      "model_module": "@jupyter-widgets/controls",
      "model_module_version": "1.5.0",
      "model_name": "HBoxModel",
      "state": {
       "children": [
        "IPY_MODEL_77a5bd7cefb14acfa6d90537c058648b",
        "IPY_MODEL_1c1ba43c34b64c7a982643971970442a"
       ],
       "layout": "IPY_MODEL_b62c9c0a1d664257aaac354652a68be2"
      }
     },
     "45dbf2ae7348489cadb03bd54a3ad745": {
      "model_module": "@jupyter-widgets/base",
      "model_module_version": "1.2.0",
      "model_name": "LayoutModel",
      "state": {
       "grid_area": "widget032",
       "height": "22px",
       "width": "42px"
      }
     },
     "45e414e85f2544a4b2d30b5b683493ae": {
      "model_module": "@jupyter-widgets/controls",
      "model_module_version": "1.5.0",
      "model_name": "ToggleButtonModel",
      "state": {
       "description": "Np",
       "layout": "IPY_MODEL_56fc35295a2644b5807693815c6ce940",
       "style": "IPY_MODEL_d4e9d3a6adab4eba9460decd098ded9b"
      }
     },
     "4753b5f629724dbfb5a48d2b083a8e31": {
      "model_module": "@jupyter-widgets/controls",
      "model_module_version": "1.5.0",
      "model_name": "ToggleButtonModel",
      "state": {
       "description": "Ho",
       "layout": "IPY_MODEL_1c95fc261507420a9d283b6a3252e01b",
       "style": "IPY_MODEL_44e2c5814c11411599584bab16e9f2e6"
      }
     },
     "4797599e1e9a44228968837d9bb66914": {
      "model_module": "@jupyter-widgets/controls",
      "model_module_version": "1.5.0",
      "model_name": "DescriptionStyleModel",
      "state": {
       "description_width": ""
      }
     },
     "494d68aa26144c87bc42dec96fe7cb93": {
      "model_module": "@jupyter-widgets/controls",
      "model_module_version": "1.5.0",
      "model_name": "ToggleButtonModel",
      "state": {
       "description": "Hs",
       "layout": "IPY_MODEL_a11cae64cdef49219ea3b8528dbadd6a",
       "style": "IPY_MODEL_28528b718447431fbdd7361a4778eeef"
      }
     },
     "4a1a57f8e3d84af9bf450614583ea258": {
      "model_module": "@jupyter-widgets/base",
      "model_module_version": "1.2.0",
      "model_name": "LayoutModel",
      "state": {
       "grid_area": "widget019",
       "height": "22px",
       "width": "42px"
      }
     },
     "4aaea368180d482aa30d03c30889656e": {
      "model_module": "@jupyter-widgets/controls",
      "model_module_version": "1.5.0",
      "model_name": "ToggleButtonModel",
      "state": {
       "description": "Bh",
       "layout": "IPY_MODEL_3577173b762348508df89f8b80c4de71",
       "style": "IPY_MODEL_307607ef5a0149c1a9e88e3926c206a3"
      }
     },
     "4b17b4ff47974c179d13f00b5c2147e3": {
      "model_module": "@jupyter-widgets/controls",
      "model_module_version": "1.5.0",
      "model_name": "DescriptionStyleModel",
      "state": {
       "description_width": ""
      }
     },
     "4b463d81d39542acb3bd4857a4af158b": {
      "model_module": "@jupyter-widgets/controls",
      "model_module_version": "1.5.0",
      "model_name": "ToggleButtonModel",
      "state": {
       "description": "Db",
       "layout": "IPY_MODEL_2cc826401b704f74a1c039cd0152c739",
       "style": "IPY_MODEL_1e1597c87d71421eb21032f32da37829"
      }
     },
     "4ba429a872734c3fbb850bfae6ba8fe0": {
      "model_module": "@jupyter-widgets/controls",
      "model_module_version": "1.5.0",
      "model_name": "DescriptionStyleModel",
      "state": {
       "description_width": ""
      }
     },
     "4c2948e735074d2197ff5df186497a43": {
      "model_module": "@jupyter-widgets/controls",
      "model_module_version": "1.5.0",
      "model_name": "ToggleButtonModel",
      "state": {
       "description": "Pu",
       "layout": "IPY_MODEL_2952ddac66824a448a775338ab8d7107",
       "style": "IPY_MODEL_a03aad16c6f14a06b35c1dcd1d96b342"
      }
     },
     "4c449931d6464f2c90696bae8dae5e48": {
      "model_module": "@jupyter-widgets/base",
      "model_module_version": "1.2.0",
      "model_name": "LayoutModel",
      "state": {
       "grid_area": "widget048",
       "height": "22px",
       "width": "42px"
      }
     },
     "4d7cb512bf7b4011afe4f68c4607911d": {
      "model_module": "@jupyter-widgets/base",
      "model_module_version": "1.2.0",
      "model_name": "LayoutModel",
      "state": {}
     },
     "4dbfae04a9fb43568000023598feada9": {
      "model_module": "@jupyter-widgets/controls",
      "model_module_version": "1.5.0",
      "model_name": "ToggleButtonModel",
      "state": {
       "description": "Y",
       "layout": "IPY_MODEL_86924208ab414f84b7764d829dabfa50",
       "style": "IPY_MODEL_fcd55eb485684797b3b96323c10e20f1"
      }
     },
     "4dc148ce533f4cab94c69d5654423066": {
      "model_module": "@jupyter-widgets/controls",
      "model_module_version": "1.5.0",
      "model_name": "ToggleButtonModel",
      "state": {
       "description": "Cn",
       "layout": "IPY_MODEL_0a1631553cea42ebabdcca2010192d03",
       "style": "IPY_MODEL_aa7c35b5dd7a4f7eb46069dbdb425661"
      }
     },
     "4e43d2ab303e45b58d0535b9dddc9963": {
      "model_module": "@jupyter-widgets/controls",
      "model_module_version": "1.5.0",
      "model_name": "ToggleButtonModel",
      "state": {
       "description": "Ru",
       "layout": "IPY_MODEL_c52bfa58e7b0491285cae759962a5840",
       "style": "IPY_MODEL_29205cd932314940b6106168e132e431"
      }
     },
     "4e6ab06213104928b7d10516cde2f0c0": {
      "model_module": "@jupyter-widgets/controls",
      "model_module_version": "1.5.0",
      "model_name": "ToggleButtonModel",
      "state": {
       "description": "In",
       "layout": "IPY_MODEL_e5f3968b0a1240609eb23e75b5bbc86b",
       "style": "IPY_MODEL_311b967599fa4e9593cd9276958b17c6"
      }
     },
     "4ef77fddc0ce4039adf03a7bd0cfb089": {
      "model_module": "@jupyter-widgets/base",
      "model_module_version": "1.2.0",
      "model_name": "LayoutModel",
      "state": {
       "grid_area": "widget118",
       "height": "22px",
       "width": "42px"
      }
     },
     "4fcdc7c1fdd340919d461d4da6acf8b6": {
      "model_module": "@jupyter-widgets/base",
      "model_module_version": "1.2.0",
      "model_name": "LayoutModel",
      "state": {
       "grid_area": "widget079",
       "height": "22px",
       "width": "42px"
      }
     },
     "5046aa9dfc81478bb6485c5cb39d5ca2": {
      "model_module": "@jupyter-widgets/base",
      "model_module_version": "1.2.0",
      "model_name": "LayoutModel",
      "state": {
       "grid_area": "widget063",
       "height": "22px",
       "width": "42px"
      }
     },
     "5093419939b24af786db64b5ea85b64f": {
      "model_module": "@jupyter-widgets/controls",
      "model_module_version": "1.5.0",
      "model_name": "ToggleButtonModel",
      "state": {
       "description": "Yb",
       "layout": "IPY_MODEL_1c4328164f534fa18dd370dca34cfa24",
       "style": "IPY_MODEL_7043bed856984ba09db80e01b1698b84"
      }
     },
     "513b13ca5ed842f08bb89e946779d3a6": {
      "model_module": "@jupyter-widgets/controls",
      "model_module_version": "1.5.0",
      "model_name": "IntSliderModel",
      "state": {
       "description": "No",
       "layout": "IPY_MODEL_c9e86f5bf3b8456eb857ebedc6f733a6",
       "max": 177,
       "style": "IPY_MODEL_74b4a3a0eee5491e9cbae2d44e23d4c6"
      }
     },
     "515988c94d7f49f9a976b891af08ddb9": {
      "model_module": "@jupyter-widgets/base",
      "model_module_version": "1.2.0",
      "model_name": "LayoutModel",
      "state": {
       "grid_area": "widget030",
       "height": "22px",
       "width": "42px"
      }
     },
     "53a20a30d9ea40cf8f8884e395a7043d": {
      "model_module": "@jupyter-widgets/base",
      "model_module_version": "1.2.0",
      "model_name": "LayoutModel",
      "state": {
       "grid_area": "widget056",
       "height": "22px",
       "width": "42px"
      }
     },
     "53d2697ed0b543cabe28182e536c70f3": {
      "model_module": "@jupyter-widgets/controls",
      "model_module_version": "1.5.0",
      "model_name": "DropdownModel",
      "state": {
       "_options_labels": [
        "v6.0.0",
        "v5.0.0",
        "v4.0.0",
        "v3.0.0",
        "v2.0.0",
        "v1.1.0",
        "v1.0.0",
        "v0.0.0",
        "latest"
       ],
       "description": "version",
       "index": 0,
       "layout": "IPY_MODEL_f38e2d194fa74bc9b37c2dc4ba06f521",
       "style": "IPY_MODEL_f5af0512202c4895997f7fbc43466a37"
      }
     },
     "5425d48459054ec1b29536292778cd12": {
      "model_module": "@jupyter-widgets/controls",
      "model_module_version": "1.5.0",
      "model_name": "ToggleButtonModel",
      "state": {
       "description": "Po",
       "layout": "IPY_MODEL_9fe5d17294dd4043b8939dcac8c5a313",
       "style": "IPY_MODEL_80ff23c2cd9b4de7a50d5fb7d4b7eabb"
      }
     },
     "546a4ab0e4174f82905e65f517199907": {
      "model_module": "@jupyter-widgets/controls",
      "model_module_version": "1.5.0",
      "model_name": "DescriptionStyleModel",
      "state": {
       "description_width": ""
      }
     },
     "548ec01fd29648f9873b68a95852dc25": {
      "model_module": "@jupyter-widgets/controls",
      "model_module_version": "1.5.0",
      "model_name": "HBoxModel",
      "state": {
       "children": [
        "IPY_MODEL_d6b1842f797245e19b0e734a96f827ec",
        "IPY_MODEL_513b13ca5ed842f08bb89e946779d3a6"
       ],
       "layout": "IPY_MODEL_c2a81a684f664eb4a2dfaf725bf2243d"
      }
     },
     "54d988d7c465468d8661bccf2e2bc8bc": {
      "model_module": "@jupyter-widgets/base",
      "model_module_version": "1.2.0",
      "model_name": "LayoutModel",
      "state": {
       "grid_area": "widget058",
       "height": "22px",
       "width": "42px"
      }
     },
     "54ff7031c4ba48688db5d82300947a67": {
      "model_module": "@jupyter-widgets/base",
      "model_module_version": "1.2.0",
      "model_name": "LayoutModel",
      "state": {}
     },
     "55b5459507524ce4b462619ff517e7d3": {
      "model_module": "@jupyter-widgets/controls",
      "model_module_version": "1.5.0",
      "model_name": "ToggleButtonModel",
      "state": {
       "description": "Bi",
       "layout": "IPY_MODEL_609d52678c0240df9d9d6b58a303a706",
       "style": "IPY_MODEL_c91630ab799141e8bc192d228fd49c39"
      }
     },
     "563db06458af4482a3aced099c29c893": {
      "model_module": "@jupyter-widgets/controls",
      "model_module_version": "1.5.0",
      "model_name": "ToggleButtonModel",
      "state": {
       "description": "Sr",
       "layout": "IPY_MODEL_117443ec2b5e4a2a951bd6a65b62b056",
       "style": "IPY_MODEL_a99dfb7415c64ca0835e0f6b8f81a8d3"
      }
     },
     "56d4ba47e2e84fdc9ac60647232d08f1": {
      "model_module": "@jupyter-widgets/controls",
      "model_module_version": "1.5.0",
      "model_name": "ToggleButtonModel",
      "state": {
       "description": "Am",
       "layout": "IPY_MODEL_b56db134641047bca76e796568915e2e",
       "style": "IPY_MODEL_76060ee96b424129a18de7ba675c0d06"
      }
     },
     "56fc35295a2644b5807693815c6ce940": {
      "model_module": "@jupyter-widgets/base",
      "model_module_version": "1.2.0",
      "model_name": "LayoutModel",
      "state": {
       "grid_area": "widget093",
       "height": "22px",
       "width": "42px"
      }
     },
     "57070c5aa22a40f3b3b751cc7c25bf39": {
      "model_module": "@jupyter-widgets/base",
      "model_module_version": "1.2.0",
      "model_name": "LayoutModel",
      "state": {
       "height": "27px",
       "width": "80px"
      }
     },
     "571f35924c054aa4ac5416efda3e687e": {
      "model_module": "@jupyter-widgets/base",
      "model_module_version": "1.2.0",
      "model_name": "LayoutModel",
      "state": {
       "grid_area": "widget104",
       "height": "22px",
       "width": "42px"
      }
     },
     "57fe299d91944909819e6e389525a21b": {
      "model_module": "@jupyter-widgets/base",
      "model_module_version": "1.2.0",
      "model_name": "LayoutModel",
      "state": {
       "grid_area": "widget003",
       "height": "22px",
       "width": "42px"
      }
     },
     "58d8c043778746eda5868277e80f83a8": {
      "model_module": "@jupyter-widgets/output",
      "model_module_version": "1.0.0",
      "model_name": "OutputModel",
      "state": {
       "layout": "IPY_MODEL_f409c4471bd24e069d13856dfc556796",
       "outputs": [
        {
         "data": {
          "text/html": "<div>\n<style scoped>\n    .dataframe tbody tr th:only-of-type {\n        vertical-align: middle;\n    }\n\n    .dataframe tbody tr th {\n        vertical-align: top;\n    }\n\n    .dataframe thead th {\n        text-align: right;\n    }\n</style>\n<table border=\"1\" class=\"dataframe\">\n  <thead>\n    <tr style=\"text-align: right;\">\n      <th></th>\n      <th>material_id</th>\n      <th>pretty_formula</th>\n      <th>energy</th>\n      <th>e_above_hull</th>\n    </tr>\n  </thead>\n  <tbody>\n    <tr>\n      <th>0</th>\n      <td>mp-13</td>\n      <td>Fe</td>\n      <td>-8.470009</td>\n      <td>0.000000</td>\n    </tr>\n    <tr>\n      <th>1</th>\n      <td>mp-47</td>\n      <td>C</td>\n      <td>-36.261055</td>\n      <td>0.161517</td>\n    </tr>\n    <tr>\n      <th>2</th>\n      <td>mp-48</td>\n      <td>C</td>\n      <td>-36.881187</td>\n      <td>0.006484</td>\n    </tr>\n    <tr>\n      <th>3</th>\n      <td>mp-66</td>\n      <td>C</td>\n      <td>-18.180737</td>\n      <td>0.136413</td>\n    </tr>\n    <tr>\n      <th>4</th>\n      <td>mp-136</td>\n      <td>Fe</td>\n      <td>-16.744431</td>\n      <td>0.097793</td>\n    </tr>\n    <tr>\n      <th>5</th>\n      <td>mp-150</td>\n      <td>Fe</td>\n      <td>-8.321657</td>\n      <td>0.148352</td>\n    </tr>\n    <tr>\n      <th>6</th>\n      <td>mp-169</td>\n      <td>C</td>\n      <td>-18.450888</td>\n      <td>0.001337</td>\n    </tr>\n    <tr>\n      <th>7</th>\n      <td>mp-1456</td>\n      <td>Fe2O3</td>\n      <td>-1060.786621</td>\n      <td>0.119360</td>\n    </tr>\n    <tr>\n      <th>8</th>\n      <td>mp-1871</td>\n      <td>Fe2C</td>\n      <td>-51.981106</td>\n      <td>0.058749</td>\n    </tr>\n    <tr>\n      <th>9</th>\n      <td>mp-2794</td>\n      <td>Fe5C2</td>\n      <td>-120.786110</td>\n      <td>0.058650</td>\n    </tr>\n  </tbody>\n</table>\n</div>",
          "text/plain": "  material_id pretty_formula       energy  e_above_hull\n0       mp-13             Fe    -8.470009      0.000000\n1       mp-47              C   -36.261055      0.161517\n2       mp-48              C   -36.881187      0.006484\n3       mp-66              C   -18.180737      0.136413\n4      mp-136             Fe   -16.744431      0.097793\n5      mp-150             Fe    -8.321657      0.148352\n6      mp-169              C   -18.450888      0.001337\n7     mp-1456          Fe2O3 -1060.786621      0.119360\n8     mp-1871           Fe2C   -51.981106      0.058749\n9     mp-2794          Fe5C2  -120.786110      0.058650"
         },
         "metadata": {},
         "output_type": "display_data"
        }
       ]
      }
     },
     "5ad74266620e45aa8901f168a0df2616": {
      "model_module": "@jupyter-widgets/controls",
      "model_module_version": "1.5.0",
      "model_name": "ToggleButtonModel",
      "state": {
       "description": "Cm",
       "layout": "IPY_MODEL_9c184823a33945d1bb7c84ce5f26dd28",
       "style": "IPY_MODEL_bbcf66edf7d64d82b0981a14572d53d6"
      }
     },
     "5b0e45a895a044728d327585dbfe4b88": {
      "model_module": "@jupyter-widgets/base",
      "model_module_version": "1.2.0",
      "model_name": "LayoutModel",
      "state": {
       "grid_area": "widget024",
       "height": "22px",
       "width": "42px"
      }
     },
     "5b7cd19d6f7e46d9825c6da9e7f5cd30": {
      "model_module": "@jupyter-widgets/base",
      "model_module_version": "1.2.0",
      "model_name": "LayoutModel",
      "state": {
       "grid_area": "widget076",
       "height": "22px",
       "width": "42px"
      }
     },
     "5b92bfb713d840d9bd31832eba104048": {
      "model_module": "@jupyter-widgets/controls",
      "model_module_version": "1.5.0",
      "model_name": "ToggleButtonModel",
      "state": {
       "description": "Se",
       "layout": "IPY_MODEL_8ed165052c3f44d7b5a29d28fb60df7d",
       "style": "IPY_MODEL_8e422342400f4b229adb42c88304140c"
      }
     },
     "5da1b68d06a9459588af8e788b95fc12": {
      "model_module": "@jupyter-widgets/controls",
      "model_module_version": "1.5.0",
      "model_name": "ToggleButtonModel",
      "state": {
       "description": "At",
       "layout": "IPY_MODEL_7388ce3804e84ce1ae022f3ab7838ad9",
       "style": "IPY_MODEL_4797599e1e9a44228968837d9bb66914"
      }
     },
     "6017c079f8774149bd426b2d83e50399": {
      "model_module": "@jupyter-widgets/base",
      "model_module_version": "1.2.0",
      "model_name": "LayoutModel",
      "state": {
       "grid_area": "widget115",
       "height": "22px",
       "width": "42px"
      }
     },
     "60203b2ed768406bb663bec718a46624": {
      "model_module": "@jupyter-widgets/controls",
      "model_module_version": "1.5.0",
      "model_name": "DescriptionStyleModel",
      "state": {
       "description_width": ""
      }
     },
     "6077855a48a14e019c9b0370ff20df74": {
      "model_module": "@jupyter-widgets/controls",
      "model_module_version": "1.5.0",
      "model_name": "ToggleButtonModel",
      "state": {
       "description": "Cl",
       "layout": "IPY_MODEL_c6cd2f8740414eb3871550406ea958c2",
       "style": "IPY_MODEL_6fbd322bedeb4fb18c092e741f893994"
      }
     },
     "609d52678c0240df9d9d6b58a303a706": {
      "model_module": "@jupyter-widgets/base",
      "model_module_version": "1.2.0",
      "model_name": "LayoutModel",
      "state": {
       "grid_area": "widget083",
       "height": "22px",
       "width": "42px"
      }
     },
     "6104e79806f94d7aad907f09a45bb5cb": {
      "model_module": "@jupyter-widgets/base",
      "model_module_version": "1.2.0",
      "model_name": "LayoutModel",
      "state": {
       "grid_area": "widget068",
       "height": "22px",
       "width": "42px"
      }
     },
     "63587c0d57354410860665bb76cd6829": {
      "model_module": "@jupyter-widgets/base",
      "model_module_version": "1.2.0",
      "model_name": "LayoutModel",
      "state": {
       "grid_area": "widget026",
       "height": "22px",
       "width": "42px"
      }
     },
     "63b51997bd154c00b8699980710699a2": {
      "model_module": "@jupyter-widgets/base",
      "model_module_version": "1.2.0",
      "model_name": "LayoutModel",
      "state": {
       "grid_area": "widget055",
       "height": "22px",
       "width": "42px"
      }
     },
     "6401505102e54c5eb5141481fb2e3f9b": {
      "model_module": "@jupyter-widgets/controls",
      "model_module_version": "1.5.0",
      "model_name": "DescriptionStyleModel",
      "state": {
       "description_width": ""
      }
     },
     "6594e3b3f8354e20b94b261a383230ce": {
      "model_module": "@jupyter-widgets/controls",
      "model_module_version": "1.5.0",
      "model_name": "DescriptionStyleModel",
      "state": {
       "description_width": ""
      }
     },
     "665c484c7dbc4705bd4d0ad46e0c3c6a": {
      "model_module": "@jupyter-widgets/base",
      "model_module_version": "1.2.0",
      "model_name": "LayoutModel",
      "state": {
       "grid_area": "widget036",
       "height": "22px",
       "width": "42px"
      }
     },
     "66ad5f085d9b4242b7acdec93795734b": {
      "model_module": "@jupyter-widgets/controls",
      "model_module_version": "1.5.0",
      "model_name": "DescriptionStyleModel",
      "state": {
       "description_width": ""
      }
     },
     "66dd455bfeea4bf09d25b7341f94a611": {
      "model_module": "@jupyter-widgets/controls",
      "model_module_version": "1.5.0",
      "model_name": "DescriptionStyleModel",
      "state": {
       "description_width": ""
      }
     },
     "67999f1f92fc4363b7107bb56e647b8f": {
      "model_module": "@jupyter-widgets/controls",
      "model_module_version": "1.5.0",
      "model_name": "ToggleButtonModel",
      "state": {
       "description": "Bk",
       "layout": "IPY_MODEL_e2623aad10144d14a90c70692ad1c875",
       "style": "IPY_MODEL_0b328ec02b214d81b8b256363635a40e"
      }
     },
     "67c03615c63a45a9ba1aae8792c26719": {
      "model_module": "@jupyter-widgets/controls",
      "model_module_version": "1.5.0",
      "model_name": "DescriptionStyleModel",
      "state": {
       "description_width": ""
      }
     },
     "6806f3078eb84645b1d8b2cdef24ea33": {
      "model_module": "@jupyter-widgets/controls",
      "model_module_version": "1.5.0",
      "model_name": "ToggleButtonModel",
      "state": {
       "description": "Ca",
       "layout": "IPY_MODEL_aed1b2b8e4224875946723bc21b3d1ff",
       "style": "IPY_MODEL_f60f1f8f870043b897000e4b1b6861da"
      }
     },
     "69f90113ef9241fea9b140ed0d2e9b2f": {
      "model_module": "@jupyter-widgets/controls",
      "model_module_version": "1.5.0",
      "model_name": "ToggleButtonModel",
      "state": {
       "description": "Er",
       "layout": "IPY_MODEL_6104e79806f94d7aad907f09a45bb5cb",
       "style": "IPY_MODEL_38183767e376406ba533465d54e1d2df"
      }
     },
     "6c141ad72e7049caa59053af63c916cf": {
      "model_module": "@jupyter-widgets/controls",
      "model_module_version": "1.5.0",
      "model_name": "ToggleButtonModel",
      "state": {
       "description": "Nh",
       "layout": "IPY_MODEL_28e9260416654df99646fa29c761e5fc",
       "style": "IPY_MODEL_86b2483da6784cec8826164b6884a659"
      }
     },
     "6c54a5a8fcd743e4b44b99fbb8c1ece7": {
      "model_module": "@jupyter-widgets/controls",
      "model_module_version": "1.5.0",
      "model_name": "DescriptionStyleModel",
      "state": {
       "description_width": ""
      }
     },
     "6c7f0db749524fd1848ebdbecf8a86ab": {
      "model_module": "@jupyter-widgets/controls",
      "model_module_version": "1.5.0",
      "model_name": "ToggleButtonModel",
      "state": {
       "description": "Mc",
       "layout": "IPY_MODEL_6017c079f8774149bd426b2d83e50399",
       "style": "IPY_MODEL_7e31db1b87a64281859beda9bb2f4a9a"
      }
     },
     "6d916fd4f90b4e38932cc72eed22fc58": {
      "model_module": "@jupyter-widgets/base",
      "model_module_version": "1.2.0",
      "model_name": "LayoutModel",
      "state": {
       "grid_area": "widget065",
       "height": "22px",
       "width": "42px"
      }
     },
     "6ec9fa7f057b45d982d4a4138e7bd1ad": {
      "model_module": "@jupyter-widgets/controls",
      "model_module_version": "1.5.0",
      "model_name": "DescriptionStyleModel",
      "state": {
       "description_width": ""
      }
     },
     "6f37bf0aff4d48a9bb080d3d7ce8f689": {
      "model_module": "@jupyter-widgets/base",
      "model_module_version": "1.2.0",
      "model_name": "LayoutModel",
      "state": {}
     },
     "6f69e48a83ae460293c254fef93e4ef7": {
      "model_module": "@jupyter-widgets/controls",
      "model_module_version": "1.5.0",
      "model_name": "DescriptionStyleModel",
      "state": {
       "description_width": ""
      }
     },
     "6f9f5c693cdc4bbeaa1623f7b3744c82": {
      "model_module": "@jupyter-widgets/controls",
      "model_module_version": "1.5.0",
      "model_name": "DescriptionStyleModel",
      "state": {
       "description_width": ""
      }
     },
     "6fbd322bedeb4fb18c092e741f893994": {
      "model_module": "@jupyter-widgets/controls",
      "model_module_version": "1.5.0",
      "model_name": "DescriptionStyleModel",
      "state": {
       "description_width": ""
      }
     },
     "7043bed856984ba09db80e01b1698b84": {
      "model_module": "@jupyter-widgets/controls",
      "model_module_version": "1.5.0",
      "model_name": "DescriptionStyleModel",
      "state": {
       "description_width": ""
      }
     },
     "7148a6b533684e898500617ed2b8b4cb": {
      "model_module": "@jupyter-widgets/controls",
      "model_module_version": "1.5.0",
      "model_name": "DescriptionStyleModel",
      "state": {
       "description_width": ""
      }
     },
     "7298679dfc00464e8703bd768dfa11ce": {
      "model_module": "@jupyter-widgets/controls",
      "model_module_version": "1.5.0",
      "model_name": "DescriptionStyleModel",
      "state": {
       "description_width": ""
      }
     },
     "7388ce3804e84ce1ae022f3ab7838ad9": {
      "model_module": "@jupyter-widgets/base",
      "model_module_version": "1.2.0",
      "model_name": "LayoutModel",
      "state": {
       "grid_area": "widget085",
       "height": "22px",
       "width": "42px"
      }
     },
     "742fc9ba775e4889af8f1aa56b7aaf93": {
      "model_module": "@jupyter-widgets/controls",
      "model_module_version": "1.5.0",
      "model_name": "DescriptionStyleModel",
      "state": {
       "description_width": ""
      }
     },
     "7439b1b10d164bf580a1c1b87c3c1af6": {
      "model_module": "@jupyter-widgets/base",
      "model_module_version": "1.2.0",
      "model_name": "LayoutModel",
      "state": {
       "grid_area": "widget101",
       "height": "22px",
       "width": "42px"
      }
     },
     "74b4a3a0eee5491e9cbae2d44e23d4c6": {
      "model_module": "@jupyter-widgets/controls",
      "model_module_version": "1.5.0",
      "model_name": "SliderStyleModel",
      "state": {
       "description_width": ""
      }
     },
     "7503a384b6e24abdb4a3007588714f2d": {
      "model_module": "@jupyter-widgets/controls",
      "model_module_version": "1.5.0",
      "model_name": "ButtonModel",
      "state": {
       "description": "hullview",
       "layout": "IPY_MODEL_57070c5aa22a40f3b3b751cc7c25bf39",
       "style": "IPY_MODEL_95896f88135948f29506d1cba876ed67"
      }
     },
     "7544821218db4f03891f99502caa7197": {
      "model_module": "@jupyter-widgets/base",
      "model_module_version": "1.2.0",
      "model_name": "LayoutModel",
      "state": {
       "grid_area": "widget007",
       "height": "22px",
       "width": "42px"
      }
     },
     "76060ee96b424129a18de7ba675c0d06": {
      "model_module": "@jupyter-widgets/controls",
      "model_module_version": "1.5.0",
      "model_name": "DescriptionStyleModel",
      "state": {
       "description_width": ""
      }
     },
     "7654113c968d423989c1b3cb65b3b363": {
      "model_module": "@jupyter-widgets/controls",
      "model_module_version": "1.5.0",
      "model_name": "ToggleButtonModel",
      "state": {
       "description": "Au",
       "layout": "IPY_MODEL_4fcdc7c1fdd340919d461d4da6acf8b6",
       "style": "IPY_MODEL_66ad5f085d9b4242b7acdec93795734b"
      }
     },
     "76912984fedf4518b82fd9d7d962b32d": {
      "model_module": "@jupyter-widgets/controls",
      "model_module_version": "1.5.0",
      "model_name": "HTMLModel",
      "state": {
       "layout": "IPY_MODEL_4d7cb512bf7b4011afe4f68c4607911d",
       "style": "IPY_MODEL_affaa6f52e984b7187180dba2f6f8c5c",
       "value": "100%"
      }
     },
     "76c324983dc04d0cae0d7ee5a85707b8": {
      "model_module": "@jupyter-widgets/controls",
      "model_module_version": "1.5.0",
      "model_name": "DescriptionStyleModel",
      "state": {
       "description_width": ""
      }
     },
     "76ed0104e83548639a2fbd67b4429ed6": {
      "model_module": "@jupyter-widgets/controls",
      "model_module_version": "1.5.0",
      "model_name": "ToggleButtonModel",
      "state": {
       "description": "O",
       "icon": "check",
       "layout": "IPY_MODEL_95d8e7efd1a4424d84671fd06d76c2e6",
       "style": "IPY_MODEL_0d082663bb984b078b026c612901d1d8",
       "value": true
      }
     },
     "7777513e0af34ecea40d8b583c209917": {
      "model_module": "@jupyter-widgets/controls",
      "model_module_version": "1.5.0",
      "model_name": "ToggleButtonModel",
      "state": {
       "description": "Ne",
       "layout": "IPY_MODEL_f6b57256e383490cb56bed650f8ad612",
       "style": "IPY_MODEL_d610a03529d94fadb99f75a197d7525f"
      }
     },
     "77822032372248078f52e8a6de06a999": {
      "model_module": "@jupyter-widgets/base",
      "model_module_version": "1.2.0",
      "model_name": "LayoutModel",
      "state": {
       "grid_area": "widget075",
       "height": "22px",
       "width": "42px"
      }
     },
     "77a5bd7cefb14acfa6d90537c058648b": {
      "model_module": "@jupyter-widgets/controls",
      "model_module_version": "1.5.0",
      "model_name": "BoxModel",
      "state": {
       "layout": "IPY_MODEL_3036ca0022b04ce49f8e5798bf916e1a"
      }
     },
     "784fd4cc9915456b9d764d6900619dca": {
      "model_module": "@jupyter-widgets/controls",
      "model_module_version": "1.5.0",
      "model_name": "DropdownModel",
      "state": {
       "_options_labels": [
        "within",
        "any",
        "only"
       ],
       "description": "ele option",
       "index": 0,
       "layout": "IPY_MODEL_f38e2d194fa74bc9b37c2dc4ba06f521",
       "style": "IPY_MODEL_cceb2ecc67bb497899d35e3ca1f816e8"
      }
     },
     "786773d44c5542639c9afe72eabf9df0": {
      "model_module": "@jupyter-widgets/controls",
      "model_module_version": "1.5.0",
      "model_name": "ToggleButtonModel",
      "state": {
       "description": "Tb",
       "layout": "IPY_MODEL_6d916fd4f90b4e38932cc72eed22fc58",
       "style": "IPY_MODEL_0fd44515619145aa8404e76587899d15"
      }
     },
     "7975918a6fec44fe844d5473cffa8ca0": {
      "model_module": "nglview-js-widgets",
      "model_module_version": "3.0.1",
      "model_name": "ColormakerRegistryModel",
      "state": {
       "_msg_ar": [],
       "_msg_q": [],
       "_ready": true,
       "layout": "IPY_MODEL_1eeed261445340f6a67176d97bdb5607"
      }
     },
     "79b5d5d8f22e498eaf7a697c050896e0": {
      "model_module": "@jupyter-widgets/controls",
      "model_module_version": "1.5.0",
      "model_name": "ToggleButtonModel",
      "state": {
       "description": "Ag",
       "layout": "IPY_MODEL_ed48915f3f4741eb98a96101e3ccee8d",
       "style": "IPY_MODEL_206bbf2323c34206ad6e189bb334b0b8"
      }
     },
     "7a3f36cbcf9b40fbbcb9fad4bc767434": {
      "model_module": "@jupyter-widgets/controls",
      "model_module_version": "1.5.0",
      "model_name": "DescriptionStyleModel",
      "state": {
       "description_width": ""
      }
     },
     "7a452c79ccf143c78aa88427c735225f": {
      "model_module": "@jupyter-widgets/base",
      "model_module_version": "1.2.0",
      "model_name": "LayoutModel",
      "state": {}
     },
     "7ade3d2cceca4a2eae51497c2a45b72b": {
      "model_module": "@jupyter-widgets/controls",
      "model_module_version": "1.5.0",
      "model_name": "DescriptionStyleModel",
      "state": {
       "description_width": ""
      }
     },
     "7b8e74e9fcff454a8fbb1bbcda51b0a6": {
      "model_module": "@jupyter-widgets/controls",
      "model_module_version": "1.5.0",
      "model_name": "ToggleButtonModel",
      "state": {
       "description": "Ra",
       "layout": "IPY_MODEL_9485f25855164a069ecb34cbf86a47de",
       "style": "IPY_MODEL_e127a0ad72ca4709a1c2247bb7191203"
      }
     },
     "7c1077b2b2fb4ab5b9ff96898971d8c7": {
      "model_module": "@jupyter-widgets/controls",
      "model_module_version": "1.5.0",
      "model_name": "ToggleButtonModel",
      "state": {
       "description": "Os",
       "layout": "IPY_MODEL_5b7cd19d6f7e46d9825c6da9e7f5cd30",
       "style": "IPY_MODEL_a4b42a22b218480ca7c87e57afb273c5"
      }
     },
     "7c7f34ace8054f388b972ef4a2ed72d6": {
      "model_module": "@jupyter-widgets/controls",
      "model_module_version": "1.5.0",
      "model_name": "DescriptionStyleModel",
      "state": {
       "description_width": ""
      }
     },
     "7ca2e352bcb045e1bbcbfdbd9225ae9b": {
      "model_module": "@jupyter-widgets/controls",
      "model_module_version": "1.5.0",
      "model_name": "BoxModel",
      "state": {
       "children": [
        "IPY_MODEL_c9578efa8bec4939a189c8dedafde887"
       ],
       "layout": "IPY_MODEL_94d8a41863e74a09997da68ee035a88f"
      }
     },
     "7cd12f46cd854948b53457124c12b328": {
      "model_module": "@jupyter-widgets/controls",
      "model_module_version": "1.5.0",
      "model_name": "ToggleButtonModel",
      "state": {
       "description": "Gd",
       "layout": "IPY_MODEL_4250f62dfe7341059fff3322c1de14cf",
       "style": "IPY_MODEL_7a3f36cbcf9b40fbbcb9fad4bc767434"
      }
     },
     "7d2f31f3ccb54f6189f04c81d0744336": {
      "model_module": "@jupyter-widgets/controls",
      "model_module_version": "1.5.0",
      "model_name": "DescriptionStyleModel",
      "state": {
       "description_width": ""
      }
     },
     "7d901659bc084fe2b6539461fad72c66": {
      "model_module": "@jupyter-widgets/base",
      "model_module_version": "1.2.0",
      "model_name": "LayoutModel",
      "state": {
       "grid_area": "widget089",
       "height": "22px",
       "width": "42px"
      }
     },
     "7e31db1b87a64281859beda9bb2f4a9a": {
      "model_module": "@jupyter-widgets/controls",
      "model_module_version": "1.5.0",
      "model_name": "DescriptionStyleModel",
      "state": {
       "description_width": ""
      }
     },
     "7e73b35e1fc74d8d82d5f1ea325a7b36": {
      "model_module": "@jupyter-widgets/controls",
      "model_module_version": "1.5.0",
      "model_name": "ToggleButtonModel",
      "state": {
       "description": "Es",
       "layout": "IPY_MODEL_9c777a639a614d25be95b1e11338c20b",
       "style": "IPY_MODEL_c92f75ab36cf450b8d5bded0fe7183c2"
      }
     },
     "7e7cb8d621994e8481a9879e05e975dd": {
      "model_module": "@jupyter-widgets/controls",
      "model_module_version": "1.5.0",
      "model_name": "DescriptionStyleModel",
      "state": {
       "description_width": ""
      }
     },
     "8020cd2d54124fdb9f706b012d9d97fa": {
      "model_module": "@jupyter-widgets/base",
      "model_module_version": "1.2.0",
      "model_name": "LayoutModel",
      "state": {
       "grid_area": "widget016",
       "height": "22px",
       "width": "42px"
      }
     },
     "807ec9a808cb44879a17474d60f5ac81": {
      "model_module": "@jupyter-widgets/base",
      "model_module_version": "1.2.0",
      "model_name": "LayoutModel",
      "state": {
       "grid_area": "widget052",
       "height": "22px",
       "width": "42px"
      }
     },
     "80aa01890fb04160ac1e37cf46001467": {
      "model_module": "@jupyter-widgets/controls",
      "model_module_version": "1.5.0",
      "model_name": "ToggleButtonModel",
      "state": {
       "description": "Nd",
       "layout": "IPY_MODEL_854b140f4f22463c9211e0e87954ba44",
       "style": "IPY_MODEL_c88cb0e272544f208b812ecc4fdaed0d"
      }
     },
     "80ddde80b8d040a5bcc2523cc0015818": {
      "model_module": "@jupyter-widgets/controls",
      "model_module_version": "1.5.0",
      "model_name": "DescriptionStyleModel",
      "state": {
       "description_width": ""
      }
     },
     "80ff23c2cd9b4de7a50d5fb7d4b7eabb": {
      "model_module": "@jupyter-widgets/controls",
      "model_module_version": "1.5.0",
      "model_name": "DescriptionStyleModel",
      "state": {
       "description_width": ""
      }
     },
     "82216674099441a2bf2b39036fffff18": {
      "model_module": "@jupyter-widgets/base",
      "model_module_version": "1.2.0",
      "model_name": "LayoutModel",
      "state": {
       "grid_area": "widget071",
       "height": "22px",
       "width": "42px"
      }
     },
     "841dc1305be643b9a5e12a17ea907c12": {
      "model_module": "@jupyter-widgets/controls",
      "model_module_version": "1.5.0",
      "model_name": "DescriptionStyleModel",
      "state": {
       "description_width": ""
      }
     },
     "854b140f4f22463c9211e0e87954ba44": {
      "model_module": "@jupyter-widgets/base",
      "model_module_version": "1.2.0",
      "model_name": "LayoutModel",
      "state": {
       "grid_area": "widget060",
       "height": "22px",
       "width": "42px"
      }
     },
     "85ad81789c384fe49613faac57373155": {
      "model_module": "@jupyter-widgets/controls",
      "model_module_version": "1.5.0",
      "model_name": "ToggleButtonModel",
      "state": {
       "description": "Be",
       "layout": "IPY_MODEL_21057fe989434b119b83f41dfd3b3d57",
       "style": "IPY_MODEL_27f769ea1beb405994b9bf3cdc273ce8"
      }
     },
     "85b868f0a0c045199ffa2e72c5bc1a1d": {
      "model_module": "@jupyter-widgets/base",
      "model_module_version": "1.2.0",
      "model_name": "LayoutModel",
      "state": {
       "grid_area": "widget100",
       "height": "22px",
       "width": "42px"
      }
     },
     "86924208ab414f84b7764d829dabfa50": {
      "model_module": "@jupyter-widgets/base",
      "model_module_version": "1.2.0",
      "model_name": "LayoutModel",
      "state": {
       "grid_area": "widget039",
       "height": "22px",
       "width": "42px"
      }
     },
     "86a2414006f14abbb51a47d6c0df2a4f": {
      "model_module": "@jupyter-widgets/base",
      "model_module_version": "1.2.0",
      "model_name": "LayoutModel",
      "state": {
       "grid_area": "widget098",
       "height": "22px",
       "width": "42px"
      }
     },
     "86b2483da6784cec8826164b6884a659": {
      "model_module": "@jupyter-widgets/controls",
      "model_module_version": "1.5.0",
      "model_name": "DescriptionStyleModel",
      "state": {
       "description_width": ""
      }
     },
     "8725f62a7c4b4b58b97d64f6e896faeb": {
      "model_module": "@jupyter-widgets/controls",
      "model_module_version": "1.5.0",
      "model_name": "ButtonModel",
      "state": {
       "description": "search",
       "layout": "IPY_MODEL_57070c5aa22a40f3b3b751cc7c25bf39",
       "style": "IPY_MODEL_92fe3e8db80f4650b1c9ac73de7535bc"
      }
     },
     "88f7da073b954b688654857c0a9176a0": {
      "model_module": "@jupyter-widgets/controls",
      "model_module_version": "1.5.0",
      "model_name": "ToggleButtonModel",
      "state": {
       "description": "Ni",
       "layout": "IPY_MODEL_a00d4cfb943e4108a9d51879f410deee",
       "style": "IPY_MODEL_3d84fcf812df4db6906874f486842730"
      }
     },
     "8a2895d1b09e4776afdcb40dceac81b6": {
      "model_module": "@jupyter-widgets/controls",
      "model_module_version": "1.5.0",
      "model_name": "ToggleButtonModel",
      "state": {
       "description": "Xe",
       "layout": "IPY_MODEL_fae06335cfaf44ba8372987a872f5640",
       "style": "IPY_MODEL_4ba429a872734c3fbb850bfae6ba8fe0"
      }
     },
     "8a81251e3ff14812b23ef60c507b6fca": {
      "model_module": "@jupyter-widgets/controls",
      "model_module_version": "1.5.0",
      "model_name": "ToggleButtonModel",
      "state": {
       "description": "Cf",
       "layout": "IPY_MODEL_86a2414006f14abbb51a47d6c0df2a4f",
       "style": "IPY_MODEL_1287ac0ed54f476cb977d2f68e2ce2cc"
      }
     },
     "8a846498dfc64cfba51a7216da10c479": {
      "model_module": "@jupyter-widgets/controls",
      "model_module_version": "1.5.0",
      "model_name": "ToggleButtonModel",
      "state": {
       "description": "As",
       "layout": "IPY_MODEL_32c08494e738414ea678e305d1e83a36",
       "style": "IPY_MODEL_742fc9ba775e4889af8f1aa56b7aaf93"
      }
     },
     "8a9279aa444246789d981878e1959e84": {
      "model_module": "@jupyter-widgets/controls",
      "model_module_version": "1.5.0",
      "model_name": "DescriptionStyleModel",
      "state": {
       "description_width": ""
      }
     },
     "8d664a85fdfe4fad9af550e09b707028": {
      "model_module": "@jupyter-widgets/controls",
      "model_module_version": "1.5.0",
      "model_name": "HBoxModel",
      "state": {
       "children": [
        "IPY_MODEL_76912984fedf4518b82fd9d7d962b32d",
        "IPY_MODEL_b0eb0a96ecae42628e4a4ecdb44423c7",
        "IPY_MODEL_a4b50e3269e9402a88dfc927994358b3"
       ],
       "layout": "IPY_MODEL_420f61a117a34ab2bb1b53705d7fa4e9"
      }
     },
     "8d699173b9e84e86a2a83a01e0197fce": {
      "model_module": "@jupyter-widgets/controls",
      "model_module_version": "1.5.0",
      "model_name": "ProgressStyleModel",
      "state": {
       "description_width": ""
      }
     },
     "8e422342400f4b229adb42c88304140c": {
      "model_module": "@jupyter-widgets/controls",
      "model_module_version": "1.5.0",
      "model_name": "DescriptionStyleModel",
      "state": {
       "description_width": ""
      }
     },
     "8e70c34afd9349bb99e3123c0d02c6ec": {
      "model_module": "@jupyter-widgets/controls",
      "model_module_version": "1.5.0",
      "model_name": "VBoxModel",
      "state": {
       "children": [
        "IPY_MODEL_9a70821373fb46a9996475a96551cc0c",
        "IPY_MODEL_0f76b17a8974437fb8327adad0518525",
        "IPY_MODEL_451423f40f6e4c5aae87ef121f6652b4",
        "IPY_MODEL_7ca2e352bcb045e1bbcbfdbd9225ae9b"
       ],
       "layout": "IPY_MODEL_7a452c79ccf143c78aa88427c735225f"
      }
     },
     "8ed165052c3f44d7b5a29d28fb60df7d": {
      "model_module": "@jupyter-widgets/base",
      "model_module_version": "1.2.0",
      "model_name": "LayoutModel",
      "state": {
       "grid_area": "widget034",
       "height": "22px",
       "width": "42px"
      }
     },
     "8f7f33c67a97479288a2023120f8b011": {
      "model_module": "@jupyter-widgets/controls",
      "model_module_version": "1.5.0",
      "model_name": "ToggleButtonModel",
      "state": {
       "description": "Hg",
       "layout": "IPY_MODEL_25c06bf57f8c4178b1cd78e0b8fcfcec",
       "style": "IPY_MODEL_31920c29c06642eab39dae6a5e2eaa30"
      }
     },
     "8fb15efce4af4acabc40d217cb03c227": {
      "model_module": "@jupyter-widgets/controls",
      "model_module_version": "1.5.0",
      "model_name": "ToggleButtonModel",
      "state": {
       "description": "Pa",
       "layout": "IPY_MODEL_18d78f33d5d44b05aae888c0f2c5524c",
       "style": "IPY_MODEL_d5a6708e98db40cdaa0586e03c30d56b"
      }
     },
     "902c2c6b138746958a908678c375c705": {
      "model_module": "@jupyter-widgets/controls",
      "model_module_version": "1.5.0",
      "model_name": "DescriptionStyleModel",
      "state": {
       "description_width": ""
      }
     },
     "9058edba64db4355bc626f1d06ef7d84": {
      "model_module": "@jupyter-widgets/controls",
      "model_module_version": "1.5.0",
      "model_name": "ToggleButtonModel",
      "state": {
       "description": "I",
       "layout": "IPY_MODEL_236e093f3b334c7e9bea129f6b4b94c3",
       "style": "IPY_MODEL_66dd455bfeea4bf09d25b7341f94a611"
      }
     },
     "90f7c4d88ac840f784c32c4a0188e413": {
      "model_module": "@jupyter-widgets/controls",
      "model_module_version": "1.5.0",
      "model_name": "DescriptionStyleModel",
      "state": {
       "description_width": ""
      }
     },
     "9106745300fa412f98e9a509f64d52d5": {
      "model_module": "@jupyter-widgets/controls",
      "model_module_version": "1.5.0",
      "model_name": "ToggleButtonModel",
      "state": {
       "description": "Zr",
       "layout": "IPY_MODEL_f57a3c16aa8c42bc87012019374d3fa0",
       "style": "IPY_MODEL_6401505102e54c5eb5141481fb2e3f9b"
      }
     },
     "91b713c3d49d44708fd67a8b98cf32da": {
      "model_module": "@jupyter-widgets/controls",
      "model_module_version": "1.5.0",
      "model_name": "DescriptionStyleModel",
      "state": {
       "description_width": ""
      }
     },
     "91e3be34bef24dcb851252a93590d944": {
      "model_module": "@jupyter-widgets/base",
      "model_module_version": "1.2.0",
      "model_name": "LayoutModel",
      "state": {}
     },
     "923c57bfcd634162a61ae7b01b6ae48f": {
      "model_module": "@jupyter-widgets/base",
      "model_module_version": "1.2.0",
      "model_name": "LayoutModel",
      "state": {
       "grid_area": "widget073",
       "height": "22px",
       "width": "42px"
      }
     },
     "9263594bb369417699e67f24bc2a4cef": {
      "model_module": "@jupyter-widgets/controls",
      "model_module_version": "1.5.0",
      "model_name": "ToggleButtonModel",
      "state": {
       "description": "Rh",
       "layout": "IPY_MODEL_f3ee5c96853b4e539d8b2a18b95b909a",
       "style": "IPY_MODEL_f0c6e5312a7b4dc0820dd85a531e5f6e"
      }
     },
     "92cf4a74b7d54c85b26425cf8532fdd3": {
      "model_module": "@jupyter-widgets/controls",
      "model_module_version": "1.5.0",
      "model_name": "ToggleButtonModel",
      "state": {
       "description": "Li",
       "layout": "IPY_MODEL_57fe299d91944909819e6e389525a21b",
       "style": "IPY_MODEL_9cc92adaa47c4b569c457291808fecaf"
      }
     },
     "92fe3e8db80f4650b1c9ac73de7535bc": {
      "model_module": "@jupyter-widgets/controls",
      "model_module_version": "1.5.0",
      "model_name": "ButtonStyleModel",
      "state": {}
     },
     "933efd083c5e495788e6524c7863caf0": {
      "model_module": "@jupyter-widgets/base",
      "model_module_version": "1.2.0",
      "model_name": "LayoutModel",
      "state": {
       "grid_area": "widget103",
       "height": "22px",
       "width": "42px"
      }
     },
     "946e19de015d4c8483eaaddba3f99dd7": {
      "model_module": "@jupyter-widgets/controls",
      "model_module_version": "1.5.0",
      "model_name": "ToggleButtonModel",
      "state": {
       "description": "Ir",
       "layout": "IPY_MODEL_24728f5d76124bb590d29c2ca0b2fe31",
       "style": "IPY_MODEL_7148a6b533684e898500617ed2b8b4cb"
      }
     },
     "9485f25855164a069ecb34cbf86a47de": {
      "model_module": "@jupyter-widgets/base",
      "model_module_version": "1.2.0",
      "model_name": "LayoutModel",
      "state": {
       "grid_area": "widget088",
       "height": "22px",
       "width": "42px"
      }
     },
     "94d8a41863e74a09997da68ee035a88f": {
      "model_module": "@jupyter-widgets/base",
      "model_module_version": "1.2.0",
      "model_name": "LayoutModel",
      "state": {
       "height": "450px"
      }
     },
     "95896f88135948f29506d1cba876ed67": {
      "model_module": "@jupyter-widgets/controls",
      "model_module_version": "1.5.0",
      "model_name": "ButtonStyleModel",
      "state": {}
     },
     "958f43939dda49a18346712dcbcb14b8": {
      "model_module": "@jupyter-widgets/controls",
      "model_module_version": "1.5.0",
      "model_name": "ToggleButtonModel",
      "state": {
       "description": "Lu",
       "layout": "IPY_MODEL_82216674099441a2bf2b39036fffff18",
       "style": "IPY_MODEL_cde672adb14c49b39b421fb77f3d6586"
      }
     },
     "95d8e7efd1a4424d84671fd06d76c2e6": {
      "model_module": "@jupyter-widgets/base",
      "model_module_version": "1.2.0",
      "model_name": "LayoutModel",
      "state": {
       "grid_area": "widget008",
       "height": "22px",
       "width": "42px"
      }
     },
     "9703846d8e264c93b717c68288677d19": {
      "model_module": "@jupyter-widgets/controls",
      "model_module_version": "1.5.0",
      "model_name": "ToggleButtonModel",
      "state": {
       "description": "Md",
       "layout": "IPY_MODEL_7439b1b10d164bf580a1c1b87c3c1af6",
       "style": "IPY_MODEL_0492e247a6cc4b8e916c50f5246d00cb"
      }
     },
     "97ab108641f040b09c0061e316dc9165": {
      "model_module": "@jupyter-widgets/base",
      "model_module_version": "1.2.0",
      "model_name": "LayoutModel",
      "state": {
       "grid_template_areas": "\"widget001 . . . . . . . . . . . . . . . . widget002\"\n\"widget003 widget004 . . . . . . . . . . widget005 widget006 widget007 widget008 widget009 widget010\"\n\"widget011 widget012 . . . . . . . . . . widget013 widget014 widget015 widget016 widget017 widget018\"\n\"widget019 widget020 widget021 widget022 widget023 widget024 widget025 widget026 widget027 widget028 widget029 widget030 widget031 widget032 widget033 widget034 widget035 widget036\"\n\"widget037 widget038 widget039 widget040 widget041 widget042 widget043 widget044 widget045 widget046 widget047 widget048 widget049 widget050 widget051 widget052 widget053 widget054\"\n\"widget055 widget056 . widget072 widget073 widget074 widget075 widget076 widget077 widget078 widget079 widget080 widget081 widget082 widget083 widget084 widget085 widget086\"\n\"widget087 widget088 . widget104 widget105 widget106 widget107 widget108 widget109 widget110 widget111 widget112 widget113 widget114 widget115 widget116 widget117 widget118\"\n\". . . . . . . . . . . . . . . . . .\"\n\". . widget057 widget058 widget059 widget060 widget061 widget062 widget063 widget064 widget065 widget066 widget067 widget068 widget069 widget070 widget071 .\"\n\". . widget089 widget090 widget091 widget092 widget093 widget094 widget095 widget096 widget097 widget098 widget099 widget100 widget101 widget102 widget103 .\"",
       "grid_template_columns": "repeat(18, 1fr)",
       "grid_template_rows": "repeat(10, 1fr)",
       "width": "860px"
      }
     },
     "98c50307e7ae407ab37a22f8ba1891d5": {
      "model_module": "@jupyter-widgets/controls",
      "model_module_version": "1.5.0",
      "model_name": "ToggleButtonModel",
      "state": {
       "description": "Th",
       "layout": "IPY_MODEL_f09d86157e1c4167832ce8635cdc626a",
       "style": "IPY_MODEL_7d2f31f3ccb54f6189f04c81d0744336"
      }
     },
     "98ea8d0f4c0c4a9fb3255a59457636e6": {
      "model_module": "@jupyter-widgets/controls",
      "model_module_version": "1.5.0",
      "model_name": "ToggleButtonModel",
      "state": {
       "description": "He",
       "layout": "IPY_MODEL_dc3b11c4e9e2437e9474e066aae0c986",
       "style": "IPY_MODEL_9a627da261374f07810778b2d814c06a"
      }
     },
     "98ed4293385e4d438bc18bdd1c35c02f": {
      "model_module": "@jupyter-widgets/base",
      "model_module_version": "1.2.0",
      "model_name": "LayoutModel",
      "state": {
       "grid_area": "widget006",
       "height": "22px",
       "width": "42px"
      }
     },
     "998a3aba3da74e0e939cca5e1ce203ae": {
      "model_module": "@jupyter-widgets/base",
      "model_module_version": "1.2.0",
      "model_name": "LayoutModel",
      "state": {
       "grid_area": "widget116",
       "height": "22px",
       "width": "42px"
      }
     },
     "99e7c383f44c45209fc8043a718c0e00": {
      "model_module": "@jupyter-widgets/controls",
      "model_module_version": "1.5.0",
      "model_name": "ToggleButtonModel",
      "state": {
       "description": "Br",
       "layout": "IPY_MODEL_f71b88a6246643c9b418e8d172b353a2",
       "style": "IPY_MODEL_d9801e9b22994be3b445158c8b152f89"
      }
     },
     "9a627da261374f07810778b2d814c06a": {
      "model_module": "@jupyter-widgets/controls",
      "model_module_version": "1.5.0",
      "model_name": "DescriptionStyleModel",
      "state": {
       "description_width": ""
      }
     },
     "9a70821373fb46a9996475a96551cc0c": {
      "model_module": "@jupyter-widgets/controls",
      "model_module_version": "1.5.0",
      "model_name": "GridBoxModel",
      "state": {
       "children": [
        "IPY_MODEL_d5c0e79fc0c949849dddead47a9c4d45",
        "IPY_MODEL_98ea8d0f4c0c4a9fb3255a59457636e6",
        "IPY_MODEL_92cf4a74b7d54c85b26425cf8532fdd3",
        "IPY_MODEL_85ad81789c384fe49613faac57373155",
        "IPY_MODEL_3956a8df092944638149ca74c5d3e81f",
        "IPY_MODEL_c853e3a008d04364aadc6461ac08a82f",
        "IPY_MODEL_b6a5a02115734589a00f09d27d5610bc",
        "IPY_MODEL_76ed0104e83548639a2fbd67b4429ed6",
        "IPY_MODEL_be3e7eeb0e90492f8a8066e6fdc63631",
        "IPY_MODEL_7777513e0af34ecea40d8b583c209917",
        "IPY_MODEL_ea99f3d926ff418e823dac6385465d32",
        "IPY_MODEL_ebee822dad8846cf8ade4b20a48ce77f",
        "IPY_MODEL_b382b710b8e5434ea0cfed227f627dbd",
        "IPY_MODEL_e20b4ca8621b4c8293f57851c65c8de5",
        "IPY_MODEL_0ae01f22fdf8464c953ccc4f07eb804b",
        "IPY_MODEL_f2ed5271606c4e0f8fb7ba0e338941af",
        "IPY_MODEL_6077855a48a14e019c9b0370ff20df74",
        "IPY_MODEL_ff11f72a81444b3f945d2b04892cf820",
        "IPY_MODEL_c0526626d91948abb92f5a3307da1747",
        "IPY_MODEL_6806f3078eb84645b1d8b2cdef24ea33",
        "IPY_MODEL_40ffd641a05241ba8bff016010440790",
        "IPY_MODEL_b9ea3487b5364a079fa375d4f78d2065",
        "IPY_MODEL_13947c13f3db4a73bbd977f6f4987228",
        "IPY_MODEL_eeb33d8369ef4905b92c3fa783300a16",
        "IPY_MODEL_a13c649851eb4742984ca2a6d49b24ce",
        "IPY_MODEL_00b1f93c81ae46c7b8d00a8a80804f00",
        "IPY_MODEL_d622c371df6e4e1c8cf7a5a3b03f9ca0",
        "IPY_MODEL_88f7da073b954b688654857c0a9176a0",
        "IPY_MODEL_3fef640137f5466e9987906bd16f1df3",
        "IPY_MODEL_eeceecb513944e21a4e7fd32a1b4e7f8",
        "IPY_MODEL_d4b7abfa5cf14a23917eebfe8980bfea",
        "IPY_MODEL_27e1e5a5f748493a80cc65cb551088e0",
        "IPY_MODEL_8a846498dfc64cfba51a7216da10c479",
        "IPY_MODEL_5b92bfb713d840d9bd31832eba104048",
        "IPY_MODEL_99e7c383f44c45209fc8043a718c0e00",
        "IPY_MODEL_a48a2ed3abdd45ee96851cc1b42ce246",
        "IPY_MODEL_a28785c0030b4385baf7106f6f65e942",
        "IPY_MODEL_563db06458af4482a3aced099c29c893",
        "IPY_MODEL_4dbfae04a9fb43568000023598feada9",
        "IPY_MODEL_9106745300fa412f98e9a509f64d52d5",
        "IPY_MODEL_10bcc9b2aa8046029b036194ceb083ab",
        "IPY_MODEL_d6e278213b8e4068811ed8f8fc2a7214",
        "IPY_MODEL_f8d554a393e84fe5802f31f39955c7df",
        "IPY_MODEL_4e43d2ab303e45b58d0535b9dddc9963",
        "IPY_MODEL_9263594bb369417699e67f24bc2a4cef",
        "IPY_MODEL_adc34444569441569f94eb0eefbd9582",
        "IPY_MODEL_79b5d5d8f22e498eaf7a697c050896e0",
        "IPY_MODEL_2205d077c7ab40899a59cdf081f24295",
        "IPY_MODEL_4e6ab06213104928b7d10516cde2f0c0",
        "IPY_MODEL_b3ddde72429b41f8bdf4c62b1a7fd7fa",
        "IPY_MODEL_ef7663462b274770a01b0d1ce62d7390",
        "IPY_MODEL_a8250f1b0e014a6ca3b9da359bda769a",
        "IPY_MODEL_9058edba64db4355bc626f1d06ef7d84",
        "IPY_MODEL_8a2895d1b09e4776afdcb40dceac81b6",
        "IPY_MODEL_205740bd16654f49a5015594a8b02ea7",
        "IPY_MODEL_dec05e7553d1456eaa68bd350c6be7c4",
        "IPY_MODEL_164620e4cb6044d4aea74e508cfe6f45",
        "IPY_MODEL_ec35204c971b47f99e70d9eb8f85531c",
        "IPY_MODEL_f452beaf30564dc3be7ddae1be5ed797",
        "IPY_MODEL_80aa01890fb04160ac1e37cf46001467",
        "IPY_MODEL_a885b18f62644213936739202802e03e",
        "IPY_MODEL_d0e62f880f3b4ba9a480d490f21560a7",
        "IPY_MODEL_aae39c0956aa423abe1305bcfd979976",
        "IPY_MODEL_7cd12f46cd854948b53457124c12b328",
        "IPY_MODEL_786773d44c5542639c9afe72eabf9df0",
        "IPY_MODEL_0f36d3ccf99d4cbabd0cef0469c5f469",
        "IPY_MODEL_4753b5f629724dbfb5a48d2b083a8e31",
        "IPY_MODEL_69f90113ef9241fea9b140ed0d2e9b2f",
        "IPY_MODEL_ee4e571e31c44e5c891be14cee7b7eb4",
        "IPY_MODEL_5093419939b24af786db64b5ea85b64f",
        "IPY_MODEL_958f43939dda49a18346712dcbcb14b8",
        "IPY_MODEL_f0c2694370824cb2963238d52c791873",
        "IPY_MODEL_3bca492170d34c25a019b7d742d01608",
        "IPY_MODEL_02c3b742910141bfb6f2db61b9467fe7",
        "IPY_MODEL_c53219fa4c65413483f3937e162a88fd",
        "IPY_MODEL_7c1077b2b2fb4ab5b9ff96898971d8c7",
        "IPY_MODEL_946e19de015d4c8483eaaddba3f99dd7",
        "IPY_MODEL_a22b66872a3d4a78a86b92327904f1c0",
        "IPY_MODEL_7654113c968d423989c1b3cb65b3b363",
        "IPY_MODEL_8f7f33c67a97479288a2023120f8b011",
        "IPY_MODEL_207097dbe4b04a2099ca17ba31c8c9b5",
        "IPY_MODEL_aba40cb1d3ac4938b208be1d5fcc91bc",
        "IPY_MODEL_55b5459507524ce4b462619ff517e7d3",
        "IPY_MODEL_5425d48459054ec1b29536292778cd12",
        "IPY_MODEL_5da1b68d06a9459588af8e788b95fc12",
        "IPY_MODEL_d62b3676de6841b9a1403a1c1df27ea9",
        "IPY_MODEL_ead89898591345b396b90cb2d1c37053",
        "IPY_MODEL_7b8e74e9fcff454a8fbb1bbcda51b0a6",
        "IPY_MODEL_0fded2935eed4c02bbe3f98cb8d3f475",
        "IPY_MODEL_98c50307e7ae407ab37a22f8ba1891d5",
        "IPY_MODEL_8fb15efce4af4acabc40d217cb03c227",
        "IPY_MODEL_9e3c25154f7b47fd8c5ed699de4541f7",
        "IPY_MODEL_45e414e85f2544a4b2d30b5b683493ae",
        "IPY_MODEL_4c2948e735074d2197ff5df186497a43",
        "IPY_MODEL_56d4ba47e2e84fdc9ac60647232d08f1",
        "IPY_MODEL_5ad74266620e45aa8901f168a0df2616",
        "IPY_MODEL_67999f1f92fc4363b7107bb56e647b8f",
        "IPY_MODEL_8a81251e3ff14812b23ef60c507b6fca",
        "IPY_MODEL_7e73b35e1fc74d8d82d5f1ea325a7b36",
        "IPY_MODEL_c45396fd5164411192cea1f5df64eb39",
        "IPY_MODEL_9703846d8e264c93b717c68288677d19",
        "IPY_MODEL_208476f136ee4e24b2fec4f651d0b924",
        "IPY_MODEL_09edc741e9ad4c949536fc064c0a9ea4",
        "IPY_MODEL_ad79496f6ae9456f89cca4558adc4bec",
        "IPY_MODEL_4b463d81d39542acb3bd4857a4af158b",
        "IPY_MODEL_3ba263b4ed10413cb9851dedaa9f758b",
        "IPY_MODEL_4aaea368180d482aa30d03c30889656e",
        "IPY_MODEL_494d68aa26144c87bc42dec96fe7cb93",
        "IPY_MODEL_1b96ff73b31648b09bd8cdeff0c24327",
        "IPY_MODEL_e19e9f869f84448c872a787d64050695",
        "IPY_MODEL_9a725e9a5a5b40cbab2a03afc1c917f2",
        "IPY_MODEL_4dc148ce533f4cab94c69d5654423066",
        "IPY_MODEL_6c141ad72e7049caa59053af63c916cf",
        "IPY_MODEL_f66a69e5410f4b3689eb0895c4b6b180",
        "IPY_MODEL_6c7f0db749524fd1848ebdbecf8a86ab",
        "IPY_MODEL_362c6298a0654b009ae5426b5c2c9a24",
        "IPY_MODEL_18eca2d2f41d491a9fd21ff6472be04d",
        "IPY_MODEL_06fc5c4728c44db09d3bcac9de586a87"
       ],
       "layout": "IPY_MODEL_97ab108641f040b09c0061e316dc9165"
      }
     },
     "9a725e9a5a5b40cbab2a03afc1c917f2": {
      "model_module": "@jupyter-widgets/controls",
      "model_module_version": "1.5.0",
      "model_name": "ToggleButtonModel",
      "state": {
       "description": "Rg",
       "layout": "IPY_MODEL_a199aa4e87d743f28ff73a7bac82bd45",
       "style": "IPY_MODEL_80ddde80b8d040a5bcc2523cc0015818"
      }
     },
     "9af07eb9800a484f9f8fde23229ad432": {
      "model_module": "@jupyter-widgets/controls",
      "model_module_version": "1.5.0",
      "model_name": "DescriptionStyleModel",
      "state": {
       "description_width": ""
      }
     },
     "9c1177c3679047a2820699b22671ba9f": {
      "model_module": "@jupyter-widgets/controls",
      "model_module_version": "1.5.0",
      "model_name": "ButtonModel",
      "state": {
       "description": "support",
       "layout": "IPY_MODEL_57070c5aa22a40f3b3b751cc7c25bf39",
       "style": "IPY_MODEL_320236903f494692a1a5f908af80b1fe"
      }
     },
     "9c184823a33945d1bb7c84ce5f26dd28": {
      "model_module": "@jupyter-widgets/base",
      "model_module_version": "1.2.0",
      "model_name": "LayoutModel",
      "state": {
       "grid_area": "widget096",
       "height": "22px",
       "width": "42px"
      }
     },
     "9c777a639a614d25be95b1e11338c20b": {
      "model_module": "@jupyter-widgets/base",
      "model_module_version": "1.2.0",
      "model_name": "LayoutModel",
      "state": {
       "grid_area": "widget099",
       "height": "22px",
       "width": "42px"
      }
     },
     "9cc92adaa47c4b569c457291808fecaf": {
      "model_module": "@jupyter-widgets/controls",
      "model_module_version": "1.5.0",
      "model_name": "DescriptionStyleModel",
      "state": {
       "description_width": ""
      }
     },
     "9cf33ea0a1694dd68e520f8ef444f234": {
      "model_module": "@jupyter-widgets/controls",
      "model_module_version": "1.5.0",
      "model_name": "DescriptionStyleModel",
      "state": {
       "description_width": ""
      }
     },
     "9e3c25154f7b47fd8c5ed699de4541f7": {
      "model_module": "@jupyter-widgets/controls",
      "model_module_version": "1.5.0",
      "model_name": "ToggleButtonModel",
      "state": {
       "description": "U",
       "layout": "IPY_MODEL_bd296e68dd8340f4bd023c0327be6d56",
       "style": "IPY_MODEL_11a81ca876e84790b07f1eb7bc6b84c3"
      }
     },
     "9ebc2ec4e31744538ce3cd4aa26051cf": {
      "model_module": "@jupyter-widgets/controls",
      "model_module_version": "1.5.0",
      "model_name": "DescriptionStyleModel",
      "state": {
       "description_width": ""
      }
     },
     "9f7faafe8f90403b877f5e7faa4d0422": {
      "model_module": "@jupyter-widgets/base",
      "model_module_version": "1.2.0",
      "model_name": "LayoutModel",
      "state": {
       "grid_area": "widget066",
       "height": "22px",
       "width": "42px"
      }
     },
     "9fe5d17294dd4043b8939dcac8c5a313": {
      "model_module": "@jupyter-widgets/base",
      "model_module_version": "1.2.0",
      "model_name": "LayoutModel",
      "state": {
       "grid_area": "widget084",
       "height": "22px",
       "width": "42px"
      }
     },
     "a00d4cfb943e4108a9d51879f410deee": {
      "model_module": "@jupyter-widgets/base",
      "model_module_version": "1.2.0",
      "model_name": "LayoutModel",
      "state": {
       "grid_area": "widget028",
       "height": "22px",
       "width": "42px"
      }
     },
     "a03aad16c6f14a06b35c1dcd1d96b342": {
      "model_module": "@jupyter-widgets/controls",
      "model_module_version": "1.5.0",
      "model_name": "DescriptionStyleModel",
      "state": {
       "description_width": ""
      }
     },
     "a0c56f4ded554b8eac456314c4a61d66": {
      "model_module": "@jupyter-widgets/controls",
      "model_module_version": "1.5.0",
      "model_name": "DescriptionStyleModel",
      "state": {
       "description_width": ""
      }
     },
     "a11cae64cdef49219ea3b8528dbadd6a": {
      "model_module": "@jupyter-widgets/base",
      "model_module_version": "1.2.0",
      "model_name": "LayoutModel",
      "state": {
       "grid_area": "widget108",
       "height": "22px",
       "width": "42px"
      }
     },
     "a13c649851eb4742984ca2a6d49b24ce": {
      "model_module": "@jupyter-widgets/controls",
      "model_module_version": "1.5.0",
      "model_name": "ToggleButtonModel",
      "state": {
       "description": "Mn",
       "layout": "IPY_MODEL_188cb5d0708f43ec89bf910aef7ea2e9",
       "style": "IPY_MODEL_7e7cb8d621994e8481a9879e05e975dd"
      }
     },
     "a18a118387a34d7e920c3ca7464fd326": {
      "model_module": "@jupyter-widgets/controls",
      "model_module_version": "1.5.0",
      "model_name": "DescriptionStyleModel",
      "state": {
       "description_width": ""
      }
     },
     "a199aa4e87d743f28ff73a7bac82bd45": {
      "model_module": "@jupyter-widgets/base",
      "model_module_version": "1.2.0",
      "model_name": "LayoutModel",
      "state": {
       "grid_area": "widget111",
       "height": "22px",
       "width": "42px"
      }
     },
     "a22b66872a3d4a78a86b92327904f1c0": {
      "model_module": "@jupyter-widgets/controls",
      "model_module_version": "1.5.0",
      "model_name": "ToggleButtonModel",
      "state": {
       "description": "Pt",
       "layout": "IPY_MODEL_3e9cadae96d04588bcd8bb15a9e97b6d",
       "style": "IPY_MODEL_902c2c6b138746958a908678c375c705"
      }
     },
     "a28785c0030b4385baf7106f6f65e942": {
      "model_module": "@jupyter-widgets/controls",
      "model_module_version": "1.5.0",
      "model_name": "ToggleButtonModel",
      "state": {
       "description": "Rb",
       "layout": "IPY_MODEL_ad4ec6ba2b21484b9b537f8570f5b1b6",
       "style": "IPY_MODEL_e3e7004288fd440fa146fe20bd0ac461"
      }
     },
     "a4154fe557594952814433fcad67df52": {
      "model_module": "@jupyter-widgets/base",
      "model_module_version": "1.2.0",
      "model_name": "LayoutModel",
      "state": {
       "grid_area": "widget023",
       "height": "22px",
       "width": "42px"
      }
     },
     "a48a2ed3abdd45ee96851cc1b42ce246": {
      "model_module": "@jupyter-widgets/controls",
      "model_module_version": "1.5.0",
      "model_name": "ToggleButtonModel",
      "state": {
       "description": "Kr",
       "layout": "IPY_MODEL_665c484c7dbc4705bd4d0ad46e0c3c6a",
       "style": "IPY_MODEL_dd1ce89ed9ab44c8ab4bca30ec097e83"
      }
     },
     "a4b42a22b218480ca7c87e57afb273c5": {
      "model_module": "@jupyter-widgets/controls",
      "model_module_version": "1.5.0",
      "model_name": "DescriptionStyleModel",
      "state": {
       "description_width": ""
      }
     },
     "a4b50e3269e9402a88dfc927994358b3": {
      "model_module": "@jupyter-widgets/controls",
      "model_module_version": "1.5.0",
      "model_name": "HTMLModel",
      "state": {
       "layout": "IPY_MODEL_f3ace2d230b9430fba2e2257446b3138",
       "style": "IPY_MODEL_2bb485a804494811852df4b85868eb6c",
       "value": " 178/178 [00:15&lt;00:00, 11.84it/s]"
      }
     },
     "a6facff028354afd8b1aece1398c67d7": {
      "model_module": "@jupyter-widgets/controls",
      "model_module_version": "1.5.0",
      "model_name": "DescriptionStyleModel",
      "state": {
       "description_width": ""
      }
     },
     "a7886ed44d8741cca6db634e83d20d57": {
      "model_module": "@jupyter-widgets/controls",
      "model_module_version": "1.5.0",
      "model_name": "DescriptionStyleModel",
      "state": {
       "description_width": ""
      }
     },
     "a8250f1b0e014a6ca3b9da359bda769a": {
      "model_module": "@jupyter-widgets/controls",
      "model_module_version": "1.5.0",
      "model_name": "ToggleButtonModel",
      "state": {
       "description": "Te",
       "layout": "IPY_MODEL_807ec9a808cb44879a17474d60f5ac81",
       "style": "IPY_MODEL_c0b56d55d2af4801b7c1ef8efa9ddecc"
      }
     },
     "a8620e041bbc4d14bd10b2d4ca93493b": {
      "model_module": "@jupyter-widgets/base",
      "model_module_version": "1.2.0",
      "model_name": "LayoutModel",
      "state": {
       "grid_area": "widget109",
       "height": "22px",
       "width": "42px"
      }
     },
     "a885b18f62644213936739202802e03e": {
      "model_module": "@jupyter-widgets/controls",
      "model_module_version": "1.5.0",
      "model_name": "ToggleButtonModel",
      "state": {
       "description": "Pm",
       "layout": "IPY_MODEL_f77e9979eec24685b7720cbe76876630",
       "style": "IPY_MODEL_439b6e2681af4b8b8e36a792bf4dcf8c"
      }
     },
     "a8bb2d590b1349c9b57e9f8c18920b1b": {
      "model_module": "@jupyter-widgets/base",
      "model_module_version": "1.2.0",
      "model_name": "LayoutModel",
      "state": {
       "grid_area": "widget082",
       "height": "22px",
       "width": "42px"
      }
     },
     "a99dfb7415c64ca0835e0f6b8f81a8d3": {
      "model_module": "@jupyter-widgets/controls",
      "model_module_version": "1.5.0",
      "model_name": "DescriptionStyleModel",
      "state": {
       "description_width": ""
      }
     },
     "a9ba2909b2bb4af89c9fd63e2d66c830": {
      "model_module": "@jupyter-widgets/controls",
      "model_module_version": "1.5.0",
      "model_name": "DescriptionStyleModel",
      "state": {
       "description_width": ""
      }
     },
     "aa7c35b5dd7a4f7eb46069dbdb425661": {
      "model_module": "@jupyter-widgets/controls",
      "model_module_version": "1.5.0",
      "model_name": "DescriptionStyleModel",
      "state": {
       "description_width": ""
      }
     },
     "aac19288d8d94544802b87cec0221842": {
      "model_module": "@jupyter-widgets/controls",
      "model_module_version": "1.5.0",
      "model_name": "DescriptionStyleModel",
      "state": {
       "description_width": ""
      }
     },
     "aae39c0956aa423abe1305bcfd979976": {
      "model_module": "@jupyter-widgets/controls",
      "model_module_version": "1.5.0",
      "model_name": "ToggleButtonModel",
      "state": {
       "description": "Eu",
       "layout": "IPY_MODEL_5046aa9dfc81478bb6485c5cb39d5ca2",
       "style": "IPY_MODEL_351a7579458c4d1987534a5658977f95"
      }
     },
     "aba40cb1d3ac4938b208be1d5fcc91bc": {
      "model_module": "@jupyter-widgets/controls",
      "model_module_version": "1.5.0",
      "model_name": "ToggleButtonModel",
      "state": {
       "description": "Pb",
       "layout": "IPY_MODEL_a8bb2d590b1349c9b57e9f8c18920b1b",
       "style": "IPY_MODEL_ffd9cd84b2f747ee852c8b7ed2eec614"
      }
     },
     "acf3fb3b93934f189b6af013b5652ac4": {
      "model_module": "@jupyter-widgets/base",
      "model_module_version": "1.2.0",
      "model_name": "LayoutModel",
      "state": {
       "grid_area": "widget057",
       "height": "22px",
       "width": "42px"
      }
     },
     "ad4ec6ba2b21484b9b537f8570f5b1b6": {
      "model_module": "@jupyter-widgets/base",
      "model_module_version": "1.2.0",
      "model_name": "LayoutModel",
      "state": {
       "grid_area": "widget037",
       "height": "22px",
       "width": "42px"
      }
     },
     "ad79496f6ae9456f89cca4558adc4bec": {
      "model_module": "@jupyter-widgets/controls",
      "model_module_version": "1.5.0",
      "model_name": "ToggleButtonModel",
      "state": {
       "description": "Rf",
       "layout": "IPY_MODEL_571f35924c054aa4ac5416efda3e687e",
       "style": "IPY_MODEL_ccd51d8187da4a589b02a6520830d32f"
      }
     },
     "adc34444569441569f94eb0eefbd9582": {
      "model_module": "@jupyter-widgets/controls",
      "model_module_version": "1.5.0",
      "model_name": "ToggleButtonModel",
      "state": {
       "description": "Pd",
       "layout": "IPY_MODEL_1a01dc27b3c54318b116e3ae9072a00e",
       "style": "IPY_MODEL_40d4ee7292f44abeb40703eb5d299433"
      }
     },
     "ae1987725ca4499bb7e7cde64957c035": {
      "model_module": "@jupyter-widgets/controls",
      "model_module_version": "1.5.0",
      "model_name": "DescriptionStyleModel",
      "state": {
       "description_width": ""
      }
     },
     "aed1b2b8e4224875946723bc21b3d1ff": {
      "model_module": "@jupyter-widgets/base",
      "model_module_version": "1.2.0",
      "model_name": "LayoutModel",
      "state": {
       "grid_area": "widget020",
       "height": "22px",
       "width": "42px"
      }
     },
     "affaa6f52e984b7187180dba2f6f8c5c": {
      "model_module": "@jupyter-widgets/controls",
      "model_module_version": "1.5.0",
      "model_name": "DescriptionStyleModel",
      "state": {
       "description_width": ""
      }
     },
     "b02bd28e50fd429094fdb6f62c8bf04d": {
      "model_module": "@jupyter-widgets/base",
      "model_module_version": "1.2.0",
      "model_name": "LayoutModel",
      "state": {
       "grid_area": "widget011",
       "height": "22px",
       "width": "42px"
      }
     },
     "b0eb0a96ecae42628e4a4ecdb44423c7": {
      "model_module": "@jupyter-widgets/controls",
      "model_module_version": "1.5.0",
      "model_name": "FloatProgressModel",
      "state": {
       "bar_style": "success",
       "layout": "IPY_MODEL_6f37bf0aff4d48a9bb080d3d7ce8f689",
       "max": 178,
       "style": "IPY_MODEL_8d699173b9e84e86a2a83a01e0197fce",
       "value": 178
      }
     },
     "b2727543dcfa431ba5dd0628a9c86447": {
      "model_module": "@jupyter-widgets/base",
      "model_module_version": "1.2.0",
      "model_name": "LayoutModel",
      "state": {
       "grid_area": "widget001",
       "height": "22px",
       "width": "42px"
      }
     },
     "b382b710b8e5434ea0cfed227f627dbd": {
      "model_module": "@jupyter-widgets/controls",
      "model_module_version": "1.5.0",
      "model_name": "ToggleButtonModel",
      "state": {
       "description": "Al",
       "layout": "IPY_MODEL_f1585e0928f7424497a7ddb12a0664ca",
       "style": "IPY_MODEL_1b896adb8f4d44a98b4725c63cf33d9f"
      }
     },
     "b3ddde72429b41f8bdf4c62b1a7fd7fa": {
      "model_module": "@jupyter-widgets/controls",
      "model_module_version": "1.5.0",
      "model_name": "ToggleButtonModel",
      "state": {
       "description": "Sn",
       "layout": "IPY_MODEL_1a0a0dc03269493983f415446f728fff",
       "style": "IPY_MODEL_6c54a5a8fcd743e4b44b99fbb8c1ece7"
      }
     },
     "b56db134641047bca76e796568915e2e": {
      "model_module": "@jupyter-widgets/base",
      "model_module_version": "1.2.0",
      "model_name": "LayoutModel",
      "state": {
       "grid_area": "widget095",
       "height": "22px",
       "width": "42px"
      }
     },
     "b62c9c0a1d664257aaac354652a68be2": {
      "model_module": "@jupyter-widgets/base",
      "model_module_version": "1.2.0",
      "model_name": "LayoutModel",
      "state": {}
     },
     "b65b5d021d9a485f93738033252676b4": {
      "model_module": "@jupyter-widgets/controls",
      "model_module_version": "1.5.0",
      "model_name": "DescriptionStyleModel",
      "state": {
       "description_width": ""
      }
     },
     "b6a5a02115734589a00f09d27d5610bc": {
      "model_module": "@jupyter-widgets/controls",
      "model_module_version": "1.5.0",
      "model_name": "ToggleButtonModel",
      "state": {
       "description": "N",
       "layout": "IPY_MODEL_7544821218db4f03891f99502caa7197",
       "style": "IPY_MODEL_c69d2ed20f0c498fa5892480bebce379"
      }
     },
     "b7c8789ea7fb4c638c69522c7e4e6a40": {
      "model_module": "@jupyter-widgets/base",
      "model_module_version": "1.2.0",
      "model_name": "LayoutModel",
      "state": {
       "grid_area": "widget043",
       "height": "22px",
       "width": "42px"
      }
     },
     "b9ea3487b5364a079fa375d4f78d2065": {
      "model_module": "@jupyter-widgets/controls",
      "model_module_version": "1.5.0",
      "model_name": "ToggleButtonModel",
      "state": {
       "description": "Ti",
       "layout": "IPY_MODEL_bd52517ed52d4b27af0fc046eae16daf",
       "style": "IPY_MODEL_aac19288d8d94544802b87cec0221842"
      }
     },
     "bbcf66edf7d64d82b0981a14572d53d6": {
      "model_module": "@jupyter-widgets/controls",
      "model_module_version": "1.5.0",
      "model_name": "DescriptionStyleModel",
      "state": {
       "description_width": ""
      }
     },
     "bd296e68dd8340f4bd023c0327be6d56": {
      "model_module": "@jupyter-widgets/base",
      "model_module_version": "1.2.0",
      "model_name": "LayoutModel",
      "state": {
       "grid_area": "widget092",
       "height": "22px",
       "width": "42px"
      }
     },
     "bd52517ed52d4b27af0fc046eae16daf": {
      "model_module": "@jupyter-widgets/base",
      "model_module_version": "1.2.0",
      "model_name": "LayoutModel",
      "state": {
       "grid_area": "widget022",
       "height": "22px",
       "width": "42px"
      }
     },
     "be39fcd05ee849509bad3a6d3d0eba93": {
      "model_module": "@jupyter-widgets/base",
      "model_module_version": "1.2.0",
      "model_name": "LayoutModel",
      "state": {
       "grid_area": "widget005",
       "height": "22px",
       "width": "42px"
      }
     },
     "be3e7eeb0e90492f8a8066e6fdc63631": {
      "model_module": "@jupyter-widgets/controls",
      "model_module_version": "1.5.0",
      "model_name": "ToggleButtonModel",
      "state": {
       "description": "F",
       "layout": "IPY_MODEL_0e1966211f2247d38db41d432efd83d1",
       "style": "IPY_MODEL_dac54377517d49679b33adee3c2784be"
      }
     },
     "c0526626d91948abb92f5a3307da1747": {
      "model_module": "@jupyter-widgets/controls",
      "model_module_version": "1.5.0",
      "model_name": "ToggleButtonModel",
      "state": {
       "description": "K",
       "layout": "IPY_MODEL_4a1a57f8e3d84af9bf450614583ea258",
       "style": "IPY_MODEL_c58ed739ccf440bc9cda2a0152e00c02"
      }
     },
     "c0b56d55d2af4801b7c1ef8efa9ddecc": {
      "model_module": "@jupyter-widgets/controls",
      "model_module_version": "1.5.0",
      "model_name": "DescriptionStyleModel",
      "state": {
       "description_width": ""
      }
     },
     "c2a81a684f664eb4a2dfaf725bf2243d": {
      "model_module": "@jupyter-widgets/base",
      "model_module_version": "1.2.0",
      "model_name": "LayoutModel",
      "state": {}
     },
     "c45396fd5164411192cea1f5df64eb39": {
      "model_module": "@jupyter-widgets/controls",
      "model_module_version": "1.5.0",
      "model_name": "ToggleButtonModel",
      "state": {
       "description": "Fm",
       "layout": "IPY_MODEL_85b868f0a0c045199ffa2e72c5bc1a1d",
       "style": "IPY_MODEL_9af07eb9800a484f9f8fde23229ad432"
      }
     },
     "c52bfa58e7b0491285cae759962a5840": {
      "model_module": "@jupyter-widgets/base",
      "model_module_version": "1.2.0",
      "model_name": "LayoutModel",
      "state": {
       "grid_area": "widget044",
       "height": "22px",
       "width": "42px"
      }
     },
     "c53219fa4c65413483f3937e162a88fd": {
      "model_module": "@jupyter-widgets/controls",
      "model_module_version": "1.5.0",
      "model_name": "ToggleButtonModel",
      "state": {
       "description": "Re",
       "layout": "IPY_MODEL_77822032372248078f52e8a6de06a999",
       "style": "IPY_MODEL_c7472eb881d74547ae74249089001cea"
      }
     },
     "c58ed739ccf440bc9cda2a0152e00c02": {
      "model_module": "@jupyter-widgets/controls",
      "model_module_version": "1.5.0",
      "model_name": "DescriptionStyleModel",
      "state": {
       "description_width": ""
      }
     },
     "c69d2ed20f0c498fa5892480bebce379": {
      "model_module": "@jupyter-widgets/controls",
      "model_module_version": "1.5.0",
      "model_name": "DescriptionStyleModel",
      "state": {
       "description_width": ""
      }
     },
     "c6cd2f8740414eb3871550406ea958c2": {
      "model_module": "@jupyter-widgets/base",
      "model_module_version": "1.2.0",
      "model_name": "LayoutModel",
      "state": {
       "grid_area": "widget017",
       "height": "22px",
       "width": "42px"
      }
     },
     "c7472eb881d74547ae74249089001cea": {
      "model_module": "@jupyter-widgets/controls",
      "model_module_version": "1.5.0",
      "model_name": "DescriptionStyleModel",
      "state": {
       "description_width": ""
      }
     },
     "c83bd2fff4b34f5b99187fc2d3813350": {
      "model_module": "@jupyter-widgets/base",
      "model_module_version": "1.2.0",
      "model_name": "LayoutModel",
      "state": {
       "grid_area": "widget102",
       "height": "22px",
       "width": "42px"
      }
     },
     "c853e3a008d04364aadc6461ac08a82f": {
      "model_module": "@jupyter-widgets/controls",
      "model_module_version": "1.5.0",
      "model_name": "ToggleButtonModel",
      "state": {
       "description": "C",
       "icon": "check",
       "layout": "IPY_MODEL_98ed4293385e4d438bc18bdd1c35c02f",
       "style": "IPY_MODEL_7c7f34ace8054f388b972ef4a2ed72d6",
       "value": true
      }
     },
     "c88cb0e272544f208b812ecc4fdaed0d": {
      "model_module": "@jupyter-widgets/controls",
      "model_module_version": "1.5.0",
      "model_name": "DescriptionStyleModel",
      "state": {
       "description_width": ""
      }
     },
     "c8e78234a0da445c83db21df0a3dac3b": {
      "model_module": "@jupyter-widgets/base",
      "model_module_version": "1.2.0",
      "model_name": "LayoutModel",
      "state": {
       "grid_area": "widget029",
       "height": "22px",
       "width": "42px"
      }
     },
     "c91630ab799141e8bc192d228fd49c39": {
      "model_module": "@jupyter-widgets/controls",
      "model_module_version": "1.5.0",
      "model_name": "DescriptionStyleModel",
      "state": {
       "description_width": ""
      }
     },
     "c92f75ab36cf450b8d5bded0fe7183c2": {
      "model_module": "@jupyter-widgets/controls",
      "model_module_version": "1.5.0",
      "model_name": "DescriptionStyleModel",
      "state": {
       "description_width": ""
      }
     },
     "c9578efa8bec4939a189c8dedafde887": {
      "model_module": "jupyterlab-plotly",
      "model_module_version": "^5.22.0",
      "model_name": "FigureModel",
      "state": {
       "_config": {
        "editSelection": false,
        "plotlyServerURL": "https://plot.ly"
       },
       "_data": [
        {
         "a": [
          0,
          1,
          null,
          0,
          2,
          null,
          4,
          0,
          null,
          0,
          1,
          null,
          0,
          0,
          null,
          2,
          4,
          null,
          0,
          4,
          null,
          4,
          1,
          null,
          0,
          0,
          null,
          2,
          1,
          null
         ],
         "b": [
          4,
          0,
          null,
          4,
          2,
          null,
          0,
          0,
          null,
          4,
          0,
          null,
          4,
          4,
          null,
          2,
          0,
          null,
          4,
          0,
          null,
          0,
          0,
          null,
          4,
          0,
          null,
          2,
          0,
          null
         ],
         "c": [
          8,
          0,
          null,
          8,
          6,
          null,
          6,
          8,
          null,
          0,
          0,
          null,
          8,
          0,
          null,
          6,
          6,
          null,
          8,
          6,
          null,
          6,
          0,
          null,
          8,
          8,
          null,
          6,
          0,
          null
         ],
         "hoverinfo": "none",
         "line": {
          "color": "black",
          "width": 1.5
         },
         "marker": {
          "size": 4
         },
         "mode": "lines",
         "showlegend": false,
         "type": "scatterternary",
         "uid": "dcd540c7-8525-49ba-9817-9a9d57523487"
        },
        {
         "a": [
          0,
          0,
          1
         ],
         "b": [
          4,
          4,
          0
         ],
         "c": [
          0,
          8,
          0
         ],
         "fill": "toself",
         "fillcolor": "#2E91E5",
         "hovertemplate": "<extra></extra>",
         "line": {
          "width": 0
         },
         "marker": {
          "size": 4
         },
         "mode": "lines",
         "name": "C—CO<sub>2</sub>—Fe",
         "opacity": 0.15,
         "showlegend": false,
         "type": "scatterternary",
         "uid": "737ec550-2c5c-4212-8548-7b9e618451a5"
        },
        {
         "a": [
          0,
          4,
          0
         ],
         "b": [
          4,
          0,
          0
         ],
         "c": [
          8,
          6,
          8
         ],
         "fill": "toself",
         "fillcolor": "#E15F99",
         "hovertemplate": "<extra></extra>",
         "line": {
          "width": 0
         },
         "marker": {
          "size": 4
         },
         "mode": "lines",
         "name": "CO<sub>2</sub>—Fe<sub>2</sub>O<sub>3</sub>—O<sub>2</sub>",
         "opacity": 0.15,
         "showlegend": false,
         "type": "scatterternary",
         "uid": "adfc2f95-ee27-4e6c-833b-b5e5637ab48e"
        },
        {
         "a": [
          1,
          4,
          2
         ],
         "b": [
          0,
          0,
          2
         ],
         "c": [
          0,
          6,
          6
         ],
         "fill": "toself",
         "fillcolor": "#1CA71C",
         "hovertemplate": "<extra></extra>",
         "line": {
          "width": 0
         },
         "marker": {
          "size": 4
         },
         "mode": "lines",
         "name": "Fe—Fe<sub>2</sub>O<sub>3</sub>—FeCO<sub>3</sub>",
         "opacity": 0.15,
         "showlegend": false,
         "type": "scatterternary",
         "uid": "246aa44b-946d-45e0-85db-c5684642e810"
        },
        {
         "a": [
          0,
          1,
          2
         ],
         "b": [
          4,
          0,
          2
         ],
         "c": [
          8,
          0,
          6
         ],
         "fill": "toself",
         "fillcolor": "#FB0D0D",
         "hovertemplate": "<extra></extra>",
         "line": {
          "width": 0
         },
         "marker": {
          "size": 4
         },
         "mode": "lines",
         "name": "CO<sub>2</sub>—Fe—FeCO<sub>3</sub>",
         "opacity": 0.15,
         "showlegend": false,
         "type": "scatterternary",
         "uid": "eb3fee95-880f-4575-8ee8-81c211ca91a4"
        },
        {
         "a": [
          0,
          4,
          2
         ],
         "b": [
          4,
          0,
          2
         ],
         "c": [
          8,
          6,
          6
         ],
         "fill": "toself",
         "fillcolor": "#DA16FF",
         "hovertemplate": "<extra></extra>",
         "line": {
          "width": 0
         },
         "marker": {
          "size": 4
         },
         "mode": "lines",
         "name": "CO<sub>2</sub>—Fe<sub>2</sub>O<sub>3</sub>—FeCO<sub>3</sub>",
         "opacity": 0.15,
         "showlegend": false,
         "type": "scatterternary",
         "uid": "5dd0a918-ee25-42ce-93a5-e30dcb29739c"
        },
        {
         "a": [
          0,
          1,
          2,
          4,
          0,
          0
         ],
         "b": [
          4,
          0,
          2,
          0,
          0,
          4
         ],
         "c": [
          8,
          0,
          6,
          6,
          8,
          0
         ],
         "cliponaxis": false,
         "hoverinfo": "text",
         "hoverlabel": {
          "font": {
           "size": 14
          }
         },
         "hovertext": [
          "CO<sub>2</sub> (18) <br> -1.312 eV/atom (Stable)",
          "Fe (0) <br> 0.0 eV/atom (Stable)",
          "FeCO<sub>3</sub> (15) <br> -0.927 eV/atom (Stable)",
          "Fe<sub>2</sub>O<sub>3</sub> (17) <br> -0.392 eV/atom (Stable)",
          "O<sub>2</sub> (11) <br> 0.0 eV/atom (Stable)",
          "C (37) <br> 0.0 eV/atom (Stable)"
         ],
         "marker": {
          "color": "green",
          "line": {
           "color": "black",
           "width": 2
          },
          "size": 4,
          "symbol": "circle"
         },
         "mode": "markers",
         "name": "Stable",
         "showlegend": true,
         "type": "scatterternary",
         "uid": "4120d346-64ba-4a8d-8e77-465cdf3f1ea5"
        },
        {
         "a": [
          0,
          0,
          0,
          0,
          0,
          0,
          0,
          0,
          0,
          0,
          0,
          0,
          0,
          0,
          0,
          0,
          0,
          0,
          0,
          0,
          0,
          0,
          0,
          0,
          0,
          0,
          0,
          0,
          0,
          0,
          0,
          0,
          0,
          0,
          0,
          0,
          0,
          0,
          0,
          0,
          0,
          2,
          1,
          28,
          100,
          2,
          4,
          4,
          2,
          2,
          8,
          8,
          4,
          4,
          4,
          64,
          8,
          16,
          16,
          64,
          16,
          8,
          16,
          16,
          4,
          16,
          4,
          8,
          32,
          32,
          32,
          8,
          4,
          8,
          8,
          4,
          8,
          8,
          6,
          4,
          6,
          6,
          6,
          12,
          12,
          6,
          24,
          24,
          12,
          6,
          12,
          12,
          12,
          3,
          12,
          12,
          12,
          24,
          24,
          24,
          24,
          12,
          12,
          12,
          12,
          6,
          12,
          12,
          12,
          12,
          12,
          8,
          4,
          8,
          5,
          10,
          20,
          5,
          5,
          10,
          20,
          14,
          14,
          28,
          16,
          8,
          9,
          9,
          20,
          10,
          11,
          13,
          21,
          21,
          23,
          23,
          23,
          23,
          41,
          43
         ],
         "b": [
          0,
          0,
          0,
          0,
          0,
          0,
          0,
          0,
          4,
          4,
          2,
          2,
          4,
          4,
          2,
          8,
          10,
          14,
          12,
          8,
          12,
          16,
          2,
          2,
          4,
          2,
          4,
          2,
          8,
          8,
          71,
          16,
          2,
          4,
          2,
          8,
          2,
          4,
          4,
          8,
          48,
          0,
          0,
          0,
          0,
          0,
          0,
          0,
          0,
          0,
          0,
          0,
          0,
          8,
          8,
          0,
          0,
          0,
          0,
          0,
          0,
          0,
          0,
          0,
          0,
          0,
          0,
          0,
          0,
          0,
          0,
          0,
          2,
          4,
          4,
          4,
          8,
          8,
          6,
          6,
          0,
          0,
          0,
          0,
          0,
          0,
          0,
          0,
          0,
          0,
          0,
          0,
          0,
          0,
          0,
          0,
          0,
          0,
          0,
          0,
          0,
          0,
          0,
          0,
          0,
          2,
          4,
          4,
          4,
          4,
          4,
          0,
          1,
          2,
          0,
          0,
          0,
          0,
          0,
          4,
          8,
          0,
          6,
          12,
          0,
          0,
          0,
          0,
          0,
          0,
          0,
          0,
          0,
          0,
          0,
          0,
          0,
          6,
          0,
          0
         ],
         "c": [
          2,
          2,
          2,
          2,
          4,
          8,
          8,
          4,
          0,
          0,
          0,
          0,
          0,
          0,
          0,
          0,
          0,
          0,
          0,
          0,
          0,
          0,
          0,
          0,
          0,
          0,
          0,
          0,
          0,
          0,
          0,
          0,
          4,
          8,
          4,
          16,
          4,
          8,
          8,
          16,
          36,
          0,
          0,
          0,
          0,
          0,
          0,
          0,
          4,
          4,
          16,
          16,
          8,
          24,
          24,
          96,
          12,
          24,
          24,
          96,
          24,
          12,
          24,
          24,
          6,
          24,
          6,
          12,
          48,
          48,
          48,
          12,
          0,
          0,
          20,
          14,
          28,
          28,
          21,
          18,
          8,
          8,
          8,
          16,
          16,
          8,
          32,
          32,
          16,
          8,
          16,
          16,
          16,
          4,
          16,
          16,
          16,
          32,
          32,
          32,
          32,
          16,
          16,
          16,
          16,
          0,
          0,
          0,
          0,
          0,
          0,
          10,
          0,
          0,
          7,
          14,
          32,
          8,
          8,
          0,
          0,
          16,
          0,
          0,
          18,
          9,
          10,
          13,
          22,
          11,
          12,
          15,
          23,
          32,
          25,
          32,
          32,
          0,
          56,
          64
         ],
         "cliponaxis": false,
         "hoverinfo": "text",
         "hoverlabel": {
          "font": {
           "size": 14
          }
         },
         "hovertext": [
          "O<sub>2</sub> (42) <br> 0.124 eV/atom (+0.124 eV/atom)",
          "O<sub>2</sub> (43) <br> 0.012 eV/atom (+0.012 eV/atom)",
          "O<sub>2</sub> (46) <br> 0.01 eV/atom (+0.01 eV/atom)",
          "O<sub>2</sub> (105) <br> 0.002 eV/atom (+0.002 eV/atom)",
          "O<sub>2</sub> (108) <br> 0.126 eV/atom (+0.126 eV/atom)",
          "O<sub>2</sub> (115) <br> 0.018 eV/atom (+0.018 eV/atom)",
          "O<sub>2</sub> (116) <br> 0.001 eV/atom (+0.001 eV/atom)",
          "O<sub>2</sub> (126) <br> 0.03 eV/atom (+0.03 eV/atom)",
          "C (1) <br> 0.162 eV/atom (+0.162 eV/atom)",
          "C (2) <br> 0.006 eV/atom (+0.006 eV/atom)",
          "C (3) <br> 0.136 eV/atom (+0.136 eV/atom)",
          "C (6) <br> 0.001 eV/atom (+0.001 eV/atom)",
          "C (34) <br> 0.006 eV/atom (+0.006 eV/atom)",
          "C (35) <br> 0.006 eV/atom (+0.006 eV/atom)",
          "C (36) <br> 0.01 eV/atom (+0.01 eV/atom)",
          "C (38) <br> 0.028 eV/atom (+0.028 eV/atom)",
          "C (39) <br> 0.145 eV/atom (+0.145 eV/atom)",
          "C (40) <br> 0.144 eV/atom (+0.144 eV/atom)",
          "C (41) <br> 0.008 eV/atom (+0.008 eV/atom)",
          "C (44) <br> 0.146 eV/atom (+0.146 eV/atom)",
          "C (45) <br> 0.143 eV/atom (+0.143 eV/atom)",
          "C (49) <br> 0.141 eV/atom (+0.141 eV/atom)",
          "C (50) <br> 0.012 eV/atom (+0.012 eV/atom)",
          "C (99) <br> 0.004 eV/atom (+0.004 eV/atom)",
          "C (100) <br> 0.008 eV/atom (+0.008 eV/atom)",
          "C (101) <br> 0.007 eV/atom (+0.007 eV/atom)",
          "C (103) <br> 0.008 eV/atom (+0.008 eV/atom)",
          "C (106) <br> 0.008 eV/atom (+0.008 eV/atom)",
          "C (113) <br> 0.266 eV/atom (+0.266 eV/atom)",
          "C (114) <br> 0.299 eV/atom (+0.299 eV/atom)",
          "C (118) <br> 0.116 eV/atom (+0.116 eV/atom)",
          "C (141) <br> 0.291 eV/atom (+0.291 eV/atom)",
          "CO<sub>2</sub> (10) <br> -1.305 eV/atom (+0.007 eV/atom)",
          "CO<sub>2</sub> (32) <br> -1.297 eV/atom (+0.015 eV/atom)",
          "CO<sub>2</sub> (51) <br> -1.301 eV/atom (+0.011 eV/atom)",
          "CO<sub>2</sub> (102) <br> -1.015 eV/atom (+0.297 eV/atom)",
          "CO<sub>2</sub> (110) <br> -1.281 eV/atom (+0.031 eV/atom)",
          "CO<sub>2</sub> (120) <br> -1.295 eV/atom (+0.017 eV/atom)",
          "CO<sub>2</sub> (134) <br> -1.294 eV/atom (+0.018 eV/atom)",
          "CO<sub>2</sub> (142) <br> -1.303 eV/atom (+0.009 eV/atom)",
          "C<sub>4</sub>O<sub>3</sub> (104) <br> -0.607 eV/atom (+0.236 eV/atom)",
          "Fe (4) <br> 0.098 eV/atom (+0.098 eV/atom)",
          "Fe (5) <br> 0.148 eV/atom (+0.148 eV/atom)",
          "Fe (145) <br> 0.175 eV/atom (+0.175 eV/atom)",
          "Fe (160) <br> 0.279 eV/atom (+0.279 eV/atom)",
          "Fe (161) <br> 0.099 eV/atom (+0.099 eV/atom)",
          "Fe (162) <br> 0.017 eV/atom (+0.017 eV/atom)",
          "Fe (163) <br> 0.055 eV/atom (+0.055 eV/atom)",
          "FeO<sub>2</sub> (21) <br> -0.045 eV/atom (+0.282 eV/atom)",
          "FeO<sub>2</sub> (97) <br> -0.067 eV/atom (+0.26 eV/atom)",
          "FeO<sub>2</sub> (131) <br> -0.032 eV/atom (+0.295 eV/atom)",
          "FeO<sub>2</sub> (149) <br> -0.026 eV/atom (+0.301 eV/atom)",
          "FeO<sub>2</sub> (175) <br> -0.033 eV/atom (+0.294 eV/atom)",
          "Fe(CO<sub>3</sub>)<sub>2</sub> (78) <br> -0.876 eV/atom (+0.107 eV/atom)",
          "Fe(CO<sub>3</sub>)<sub>2</sub> (167) <br> -0.874 eV/atom (+0.109 eV/atom)",
          "Fe<sub>2</sub>O<sub>3</sub> (7) <br> -0.273 eV/atom (+0.119 eV/atom)",
          "Fe<sub>2</sub>O<sub>3</sub> (25) <br> -0.262 eV/atom (+0.131 eV/atom)",
          "Fe<sub>2</sub>O<sub>3</sub> (31) <br> -0.277 eV/atom (+0.116 eV/atom)",
          "Fe<sub>2</sub>O<sub>3</sub> (33) <br> -0.321 eV/atom (+0.071 eV/atom)",
          "Fe<sub>2</sub>O<sub>3</sub> (54) <br> -0.167 eV/atom (+0.225 eV/atom)",
          "Fe<sub>2</sub>O<sub>3</sub> (59) <br> -0.233 eV/atom (+0.16 eV/atom)",
          "Fe<sub>2</sub>O<sub>3</sub> (70) <br> -0.259 eV/atom (+0.134 eV/atom)",
          "Fe<sub>2</sub>O<sub>3</sub> (74) <br> -0.315 eV/atom (+0.077 eV/atom)",
          "Fe<sub>2</sub>O<sub>3</sub> (95) <br> -0.269 eV/atom (+0.123 eV/atom)",
          "Fe<sub>2</sub>O<sub>3</sub> (111) <br> -0.156 eV/atom (+0.236 eV/atom)",
          "Fe<sub>2</sub>O<sub>3</sub> (125) <br> -0.28 eV/atom (+0.113 eV/atom)",
          "Fe<sub>2</sub>O<sub>3</sub> (133) <br> -0.224 eV/atom (+0.168 eV/atom)",
          "Fe<sub>2</sub>O<sub>3</sub> (148) <br> -0.215 eV/atom (+0.177 eV/atom)",
          "Fe<sub>2</sub>O<sub>3</sub> (156) <br> -0.103 eV/atom (+0.29 eV/atom)",
          "Fe<sub>2</sub>O<sub>3</sub> (157) <br> -0.119 eV/atom (+0.274 eV/atom)",
          "Fe<sub>2</sub>O<sub>3</sub> (159) <br> -0.104 eV/atom (+0.289 eV/atom)",
          "Fe<sub>2</sub>O<sub>3</sub> (171) <br> -0.117 eV/atom (+0.275 eV/atom)",
          "Fe<sub>2</sub>C (8) <br> 0.059 eV/atom (+0.059 eV/atom)",
          "Fe<sub>2</sub>C (121) <br> 0.178 eV/atom (+0.178 eV/atom)",
          "Fe<sub>2</sub>CO<sub>5</sub> (147) <br> -0.51 eV/atom (+0.227 eV/atom)",
          "Fe<sub>2</sub>C<sub>2</sub>O<sub>7</sub> (77) <br> -0.806 eV/atom (+0.088 eV/atom)",
          "Fe<sub>2</sub>C<sub>2</sub>O<sub>7</sub> (84) <br> -0.798 eV/atom (+0.096 eV/atom)",
          "Fe<sub>2</sub>C<sub>2</sub>O<sub>7</sub> (86) <br> -0.818 eV/atom (+0.077 eV/atom)",
          "Fe<sub>2</sub>C<sub>2</sub>O<sub>7</sub> (88) <br> -0.827 eV/atom (+0.067 eV/atom)",
          "Fe<sub>2</sub>(CO<sub>3</sub>)<sub>3</sub> (85) <br> -0.922 eV/atom (+0.062 eV/atom)",
          "Fe<sub>3</sub>O<sub>4</sub> (14) <br> -0.177 eV/atom (+0.196 eV/atom)",
          "Fe<sub>3</sub>O<sub>4</sub> (16) <br> -0.27 eV/atom (+0.104 eV/atom)",
          "Fe<sub>3</sub>O<sub>4</sub> (22) <br> -0.269 eV/atom (+0.105 eV/atom)",
          "Fe<sub>3</sub>O<sub>4</sub> (24) <br> -0.119 eV/atom (+0.254 eV/atom)",
          "Fe<sub>3</sub>O<sub>4</sub> (26) <br> -0.211 eV/atom (+0.163 eV/atom)",
          "Fe<sub>3</sub>O<sub>4</sub> (47) <br> -0.108 eV/atom (+0.265 eV/atom)",
          "Fe<sub>3</sub>O<sub>4</sub> (53) <br> -0.226 eV/atom (+0.147 eV/atom)",
          "Fe<sub>3</sub>O<sub>4</sub> (56) <br> -0.14 eV/atom (+0.234 eV/atom)",
          "Fe<sub>3</sub>O<sub>4</sub> (69) <br> -0.172 eV/atom (+0.202 eV/atom)",
          "Fe<sub>3</sub>O<sub>4</sub> (72) <br> -0.175 eV/atom (+0.198 eV/atom)",
          "Fe<sub>3</sub>O<sub>4</sub> (73) <br> -0.207 eV/atom (+0.167 eV/atom)",
          "Fe<sub>3</sub>O<sub>4</sub> (75) <br> -0.207 eV/atom (+0.167 eV/atom)",
          "Fe<sub>3</sub>O<sub>4</sub> (76) <br> -0.21 eV/atom (+0.163 eV/atom)",
          "Fe<sub>3</sub>O<sub>4</sub> (127) <br> -0.162 eV/atom (+0.212 eV/atom)",
          "Fe<sub>3</sub>O<sub>4</sub> (128) <br> -0.21 eV/atom (+0.164 eV/atom)",
          "Fe<sub>3</sub>O<sub>4</sub> (129) <br> -0.153 eV/atom (+0.221 eV/atom)",
          "Fe<sub>3</sub>O<sub>4</sub> (130) <br> -0.245 eV/atom (+0.128 eV/atom)",
          "Fe<sub>3</sub>O<sub>4</sub> (132) <br> -0.237 eV/atom (+0.136 eV/atom)",
          "Fe<sub>3</sub>O<sub>4</sub> (135) <br> -0.161 eV/atom (+0.213 eV/atom)",
          "Fe<sub>3</sub>O<sub>4</sub> (136) <br> -0.233 eV/atom (+0.14 eV/atom)",
          "Fe<sub>3</sub>O<sub>4</sub> (139) <br> -0.227 eV/atom (+0.147 eV/atom)",
          "Fe<sub>3</sub>O<sub>4</sub> (143) <br> -0.177 eV/atom (+0.197 eV/atom)",
          "Fe<sub>3</sub>O<sub>4</sub> (164) <br> -0.262 eV/atom (+0.112 eV/atom)",
          "Fe<sub>3</sub>O<sub>4</sub> (168) <br> -0.257 eV/atom (+0.117 eV/atom)",
          "Fe<sub>3</sub>O<sub>4</sub> (169) <br> -0.224 eV/atom (+0.15 eV/atom)",
          "Fe<sub>3</sub>C (12) <br> 0.055 eV/atom (+0.055 eV/atom)",
          "Fe<sub>3</sub>C (27) <br> 0.056 eV/atom (+0.056 eV/atom)",
          "Fe<sub>3</sub>C (48) <br> 0.123 eV/atom (+0.123 eV/atom)",
          "Fe<sub>3</sub>C (138) <br> 0.277 eV/atom (+0.277 eV/atom)",
          "Fe<sub>3</sub>C (150) <br> 0.16 eV/atom (+0.16 eV/atom)",
          "Fe<sub>3</sub>C (151) <br> 0.16 eV/atom (+0.16 eV/atom)",
          "Fe<sub>4</sub>O<sub>5</sub> (140) <br> -0.135 eV/atom (+0.229 eV/atom)",
          "Fe<sub>4</sub>C (109) <br> 0.278 eV/atom (+0.278 eV/atom)",
          "Fe<sub>4</sub>C (112) <br> 0.132 eV/atom (+0.132 eV/atom)",
          "Fe<sub>5</sub>O<sub>7</sub> (117) <br> -0.159 eV/atom (+0.222 eV/atom)",
          "Fe<sub>5</sub>O<sub>7</sub> (172) <br> -0.117 eV/atom (+0.265 eV/atom)",
          "Fe<sub>5</sub>O<sub>8</sub> (28) <br> -0.188 eV/atom (+0.19 eV/atom)",
          "Fe<sub>5</sub>O<sub>8</sub> (154) <br> -0.166 eV/atom (+0.212 eV/atom)",
          "Fe<sub>5</sub>O<sub>8</sub> (155) <br> -0.169 eV/atom (+0.208 eV/atom)",
          "Fe<sub>5</sub>C<sub>2</sub> (9) <br> 0.059 eV/atom (+0.059 eV/atom)",
          "Fe<sub>5</sub>C<sub>2</sub> (52) <br> 0.061 eV/atom (+0.061 eV/atom)",
          "Fe<sub>7</sub>O<sub>8</sub> (71) <br> -0.075 eV/atom (+0.274 eV/atom)",
          "Fe<sub>7</sub>C<sub>3</sub> (13) <br> 0.08 eV/atom (+0.08 eV/atom)",
          "Fe<sub>7</sub>C<sub>3</sub> (19) <br> 0.064 eV/atom (+0.064 eV/atom)",
          "Fe<sub>8</sub>O<sub>9</sub> (64) <br> -0.074 eV/atom (+0.272 eV/atom)",
          "Fe<sub>8</sub>O<sub>9</sub> (90) <br> -0.061 eV/atom (+0.285 eV/atom)",
          "Fe<sub>9</sub>O<sub>10</sub> (87) <br> -0.072 eV/atom (+0.272 eV/atom)",
          "Fe<sub>9</sub>O<sub>13</sub> (174) <br> -0.095 eV/atom (+0.292 eV/atom)",
          "Fe<sub>10</sub>O<sub>11</sub> (62) <br> -0.057 eV/atom (+0.286 eV/atom)",
          "Fe<sub>10</sub>O<sub>11</sub> (89) <br> -0.045 eV/atom (+0.298 eV/atom)",
          "Fe<sub>11</sub>O<sub>12</sub> (57) <br> -0.044 eV/atom (+0.297 eV/atom)",
          "Fe<sub>13</sub>O<sub>15</sub> (82) <br> -0.07 eV/atom (+0.28 eV/atom)",
          "Fe<sub>21</sub>O<sub>23</sub> (66) <br> -0.045 eV/atom (+0.297 eV/atom)",
          "Fe<sub>21</sub>O<sub>32</sub> (29) <br> -0.188 eV/atom (+0.201 eV/atom)",
          "Fe<sub>23</sub>O<sub>25</sub> (61) <br> -0.04 eV/atom (+0.301 eV/atom)",
          "Fe<sub>23</sub>O<sub>32</sub> (93) <br> -0.136 eV/atom (+0.244 eV/atom)",
          "Fe<sub>23</sub>O<sub>32</sub> (94) <br> -0.216 eV/atom (+0.165 eV/atom)",
          "Fe<sub>23</sub>C<sub>6</sub> (144) <br> 0.052 eV/atom (+0.052 eV/atom)",
          "Fe<sub>41</sub>O<sub>56</sub> (83) <br> -0.221 eV/atom (+0.157 eV/atom)",
          "Fe<sub>43</sub>O<sub>64</sub> (30) <br> -0.269 eV/atom (+0.122 eV/atom)"
         ],
         "marker": {
          "color": [
           0.124,
           0.012,
           0.01,
           0.002,
           0.126,
           0.018,
           0.001,
           0.03,
           0.162,
           0.006,
           0.136,
           0.001,
           0.006,
           0.006,
           0.01,
           0.028,
           0.145,
           0.144,
           0.008,
           0.146,
           0.143,
           0.141,
           0.012,
           0.004,
           0.008,
           0.007,
           0.008,
           0.008,
           0.266,
           0.299,
           0.116,
           0.291,
           0.007,
           0.015,
           0.011,
           0.297,
           0.031,
           0.017,
           0.018,
           0.009,
           0.236,
           0.098,
           0.148,
           0.175,
           0.279,
           0.099,
           0.017,
           0.055,
           0.282,
           0.26,
           0.295,
           0.301,
           0.294,
           0.107,
           0.109,
           0.119,
           0.131,
           0.116,
           0.071,
           0.225,
           0.16,
           0.134,
           0.077,
           0.123,
           0.236,
           0.113,
           0.168,
           0.177,
           0.29,
           0.274,
           0.289,
           0.275,
           0.059,
           0.178,
           0.227,
           0.088,
           0.096,
           0.077,
           0.067,
           0.062,
           0.196,
           0.104,
           0.105,
           0.254,
           0.163,
           0.265,
           0.147,
           0.234,
           0.202,
           0.198,
           0.167,
           0.167,
           0.163,
           0.212,
           0.164,
           0.221,
           0.128,
           0.136,
           0.213,
           0.14,
           0.147,
           0.197,
           0.112,
           0.117,
           0.15,
           0.055,
           0.056,
           0.123,
           0.277,
           0.16,
           0.16,
           0.229,
           0.278,
           0.132,
           0.222,
           0.265,
           0.19,
           0.212,
           0.208,
           0.059,
           0.061,
           0.274,
           0.08,
           0.064,
           0.272,
           0.285,
           0.272,
           0.292,
           0.286,
           0.298,
           0.297,
           0.28,
           0.297,
           0.201,
           0.301,
           0.244,
           0.165,
           0.052,
           0.157,
           0.122
          ],
          "colorbar": {
           "len": 0.5,
           "thickness": 0.02,
           "thicknessmode": "fraction",
           "title": {
            "text": "Energy Above Hull<br>(eV/atom)"
           },
           "x": 0,
           "xpad": 0,
           "y": 1,
           "yanchor": "top",
           "ypad": 0
          },
          "colorscale": [
           [
            0,
            "#fff5e3"
           ],
           [
            0.5,
            "#f24324"
           ],
           [
            1,
            "#c40000"
           ]
          ],
          "line": {
           "color": "black",
           "width": 1
          },
          "opacity": 0.8,
          "size": 4,
          "symbol": "diamond"
         },
         "mode": "markers",
         "name": "Above Hull",
         "showlegend": true,
         "type": "scatterternary",
         "uid": "7f1a7f2f-a01e-45e3-88f6-9c63a8b2b869"
        }
       ],
       "_js2py_relayout": {},
       "_js2py_restyle": {},
       "_js2py_update": {},
       "_layout": {
        "autosize": true,
        "coloraxis": {
         "colorbar": {
          "x": 1,
          "y": 0.05,
          "yanchor": "top"
         }
        },
        "height": 400,
        "margin": {
         "b": 40,
         "l": 20,
         "r": 20,
         "t": 40
        },
        "paper_bgcolor": "rgba(0.9.,0.9.,0.9.,0.9)",
        "showlegend": true,
        "template": {
         "data": {
          "bar": [
           {
            "error_x": {
             "color": "#2a3f5f"
            },
            "error_y": {
             "color": "#2a3f5f"
            },
            "marker": {
             "line": {
              "color": "#E5ECF6",
              "width": 0.5
             },
             "pattern": {
              "fillmode": "overlay",
              "size": 10,
              "solidity": 0.2
             }
            },
            "type": "bar"
           }
          ],
          "barpolar": [
           {
            "marker": {
             "line": {
              "color": "#E5ECF6",
              "width": 0.5
             },
             "pattern": {
              "fillmode": "overlay",
              "size": 10,
              "solidity": 0.2
             }
            },
            "type": "barpolar"
           }
          ],
          "carpet": [
           {
            "aaxis": {
             "endlinecolor": "#2a3f5f",
             "gridcolor": "white",
             "linecolor": "white",
             "minorgridcolor": "white",
             "startlinecolor": "#2a3f5f"
            },
            "baxis": {
             "endlinecolor": "#2a3f5f",
             "gridcolor": "white",
             "linecolor": "white",
             "minorgridcolor": "white",
             "startlinecolor": "#2a3f5f"
            },
            "type": "carpet"
           }
          ],
          "choropleth": [
           {
            "colorbar": {
             "outlinewidth": 0,
             "ticks": ""
            },
            "type": "choropleth"
           }
          ],
          "contour": [
           {
            "colorbar": {
             "outlinewidth": 0,
             "ticks": ""
            },
            "colorscale": [
             [
              0,
              "#0d0887"
             ],
             [
              0.1111111111111111,
              "#46039f"
             ],
             [
              0.2222222222222222,
              "#7201a8"
             ],
             [
              0.3333333333333333,
              "#9c179e"
             ],
             [
              0.4444444444444444,
              "#bd3786"
             ],
             [
              0.5555555555555556,
              "#d8576b"
             ],
             [
              0.6666666666666666,
              "#ed7953"
             ],
             [
              0.7777777777777778,
              "#fb9f3a"
             ],
             [
              0.8888888888888888,
              "#fdca26"
             ],
             [
              1,
              "#f0f921"
             ]
            ],
            "type": "contour"
           }
          ],
          "contourcarpet": [
           {
            "colorbar": {
             "outlinewidth": 0,
             "ticks": ""
            },
            "type": "contourcarpet"
           }
          ],
          "heatmap": [
           {
            "colorbar": {
             "outlinewidth": 0,
             "ticks": ""
            },
            "colorscale": [
             [
              0,
              "#0d0887"
             ],
             [
              0.1111111111111111,
              "#46039f"
             ],
             [
              0.2222222222222222,
              "#7201a8"
             ],
             [
              0.3333333333333333,
              "#9c179e"
             ],
             [
              0.4444444444444444,
              "#bd3786"
             ],
             [
              0.5555555555555556,
              "#d8576b"
             ],
             [
              0.6666666666666666,
              "#ed7953"
             ],
             [
              0.7777777777777778,
              "#fb9f3a"
             ],
             [
              0.8888888888888888,
              "#fdca26"
             ],
             [
              1,
              "#f0f921"
             ]
            ],
            "type": "heatmap"
           }
          ],
          "heatmapgl": [
           {
            "colorbar": {
             "outlinewidth": 0,
             "ticks": ""
            },
            "colorscale": [
             [
              0,
              "#0d0887"
             ],
             [
              0.1111111111111111,
              "#46039f"
             ],
             [
              0.2222222222222222,
              "#7201a8"
             ],
             [
              0.3333333333333333,
              "#9c179e"
             ],
             [
              0.4444444444444444,
              "#bd3786"
             ],
             [
              0.5555555555555556,
              "#d8576b"
             ],
             [
              0.6666666666666666,
              "#ed7953"
             ],
             [
              0.7777777777777778,
              "#fb9f3a"
             ],
             [
              0.8888888888888888,
              "#fdca26"
             ],
             [
              1,
              "#f0f921"
             ]
            ],
            "type": "heatmapgl"
           }
          ],
          "histogram": [
           {
            "marker": {
             "pattern": {
              "fillmode": "overlay",
              "size": 10,
              "solidity": 0.2
             }
            },
            "type": "histogram"
           }
          ],
          "histogram2d": [
           {
            "colorbar": {
             "outlinewidth": 0,
             "ticks": ""
            },
            "colorscale": [
             [
              0,
              "#0d0887"
             ],
             [
              0.1111111111111111,
              "#46039f"
             ],
             [
              0.2222222222222222,
              "#7201a8"
             ],
             [
              0.3333333333333333,
              "#9c179e"
             ],
             [
              0.4444444444444444,
              "#bd3786"
             ],
             [
              0.5555555555555556,
              "#d8576b"
             ],
             [
              0.6666666666666666,
              "#ed7953"
             ],
             [
              0.7777777777777778,
              "#fb9f3a"
             ],
             [
              0.8888888888888888,
              "#fdca26"
             ],
             [
              1,
              "#f0f921"
             ]
            ],
            "type": "histogram2d"
           }
          ],
          "histogram2dcontour": [
           {
            "colorbar": {
             "outlinewidth": 0,
             "ticks": ""
            },
            "colorscale": [
             [
              0,
              "#0d0887"
             ],
             [
              0.1111111111111111,
              "#46039f"
             ],
             [
              0.2222222222222222,
              "#7201a8"
             ],
             [
              0.3333333333333333,
              "#9c179e"
             ],
             [
              0.4444444444444444,
              "#bd3786"
             ],
             [
              0.5555555555555556,
              "#d8576b"
             ],
             [
              0.6666666666666666,
              "#ed7953"
             ],
             [
              0.7777777777777778,
              "#fb9f3a"
             ],
             [
              0.8888888888888888,
              "#fdca26"
             ],
             [
              1,
              "#f0f921"
             ]
            ],
            "type": "histogram2dcontour"
           }
          ],
          "mesh3d": [
           {
            "colorbar": {
             "outlinewidth": 0,
             "ticks": ""
            },
            "type": "mesh3d"
           }
          ],
          "parcoords": [
           {
            "line": {
             "colorbar": {
              "outlinewidth": 0,
              "ticks": ""
             }
            },
            "type": "parcoords"
           }
          ],
          "pie": [
           {
            "automargin": true,
            "type": "pie"
           }
          ],
          "scatter": [
           {
            "fillpattern": {
             "fillmode": "overlay",
             "size": 10,
             "solidity": 0.2
            },
            "type": "scatter"
           }
          ],
          "scatter3d": [
           {
            "line": {
             "colorbar": {
              "outlinewidth": 0,
              "ticks": ""
             }
            },
            "marker": {
             "colorbar": {
              "outlinewidth": 0,
              "ticks": ""
             }
            },
            "type": "scatter3d"
           }
          ],
          "scattercarpet": [
           {
            "marker": {
             "colorbar": {
              "outlinewidth": 0,
              "ticks": ""
             }
            },
            "type": "scattercarpet"
           }
          ],
          "scattergeo": [
           {
            "marker": {
             "colorbar": {
              "outlinewidth": 0,
              "ticks": ""
             }
            },
            "type": "scattergeo"
           }
          ],
          "scattergl": [
           {
            "marker": {
             "colorbar": {
              "outlinewidth": 0,
              "ticks": ""
             }
            },
            "type": "scattergl"
           }
          ],
          "scattermapbox": [
           {
            "marker": {
             "colorbar": {
              "outlinewidth": 0,
              "ticks": ""
             }
            },
            "type": "scattermapbox"
           }
          ],
          "scatterpolar": [
           {
            "marker": {
             "colorbar": {
              "outlinewidth": 0,
              "ticks": ""
             }
            },
            "type": "scatterpolar"
           }
          ],
          "scatterpolargl": [
           {
            "marker": {
             "colorbar": {
              "outlinewidth": 0,
              "ticks": ""
             }
            },
            "type": "scatterpolargl"
           }
          ],
          "scatterternary": [
           {
            "marker": {
             "colorbar": {
              "outlinewidth": 0,
              "ticks": ""
             }
            },
            "type": "scatterternary"
           }
          ],
          "surface": [
           {
            "colorbar": {
             "outlinewidth": 0,
             "ticks": ""
            },
            "colorscale": [
             [
              0,
              "#0d0887"
             ],
             [
              0.1111111111111111,
              "#46039f"
             ],
             [
              0.2222222222222222,
              "#7201a8"
             ],
             [
              0.3333333333333333,
              "#9c179e"
             ],
             [
              0.4444444444444444,
              "#bd3786"
             ],
             [
              0.5555555555555556,
              "#d8576b"
             ],
             [
              0.6666666666666666,
              "#ed7953"
             ],
             [
              0.7777777777777778,
              "#fb9f3a"
             ],
             [
              0.8888888888888888,
              "#fdca26"
             ],
             [
              1,
              "#f0f921"
             ]
            ],
            "type": "surface"
           }
          ],
          "table": [
           {
            "cells": {
             "fill": {
              "color": "#EBF0F8"
             },
             "line": {
              "color": "white"
             }
            },
            "header": {
             "fill": {
              "color": "#C8D4E3"
             },
             "line": {
              "color": "white"
             }
            },
            "type": "table"
           }
          ]
         },
         "layout": {
          "annotationdefaults": {
           "arrowcolor": "#2a3f5f",
           "arrowhead": 0,
           "arrowwidth": 1
          },
          "autotypenumbers": "strict",
          "coloraxis": {
           "colorbar": {
            "outlinewidth": 0,
            "ticks": ""
           }
          },
          "colorscale": {
           "diverging": [
            [
             0,
             "#8e0152"
            ],
            [
             0.1,
             "#c51b7d"
            ],
            [
             0.2,
             "#de77ae"
            ],
            [
             0.3,
             "#f1b6da"
            ],
            [
             0.4,
             "#fde0ef"
            ],
            [
             0.5,
             "#f7f7f7"
            ],
            [
             0.6,
             "#e6f5d0"
            ],
            [
             0.7,
             "#b8e186"
            ],
            [
             0.8,
             "#7fbc41"
            ],
            [
             0.9,
             "#4d9221"
            ],
            [
             1,
             "#276419"
            ]
           ],
           "sequential": [
            [
             0,
             "#0d0887"
            ],
            [
             0.1111111111111111,
             "#46039f"
            ],
            [
             0.2222222222222222,
             "#7201a8"
            ],
            [
             0.3333333333333333,
             "#9c179e"
            ],
            [
             0.4444444444444444,
             "#bd3786"
            ],
            [
             0.5555555555555556,
             "#d8576b"
            ],
            [
             0.6666666666666666,
             "#ed7953"
            ],
            [
             0.7777777777777778,
             "#fb9f3a"
            ],
            [
             0.8888888888888888,
             "#fdca26"
            ],
            [
             1,
             "#f0f921"
            ]
           ],
           "sequentialminus": [
            [
             0,
             "#0d0887"
            ],
            [
             0.1111111111111111,
             "#46039f"
            ],
            [
             0.2222222222222222,
             "#7201a8"
            ],
            [
             0.3333333333333333,
             "#9c179e"
            ],
            [
             0.4444444444444444,
             "#bd3786"
            ],
            [
             0.5555555555555556,
             "#d8576b"
            ],
            [
             0.6666666666666666,
             "#ed7953"
            ],
            [
             0.7777777777777778,
             "#fb9f3a"
            ],
            [
             0.8888888888888888,
             "#fdca26"
            ],
            [
             1,
             "#f0f921"
            ]
           ]
          },
          "colorway": [
           "#636efa",
           "#EF553B",
           "#00cc96",
           "#ab63fa",
           "#FFA15A",
           "#19d3f3",
           "#FF6692",
           "#B6E880",
           "#FF97FF",
           "#FECB52"
          ],
          "font": {
           "color": "#2a3f5f"
          },
          "geo": {
           "bgcolor": "white",
           "lakecolor": "white",
           "landcolor": "#E5ECF6",
           "showlakes": true,
           "showland": true,
           "subunitcolor": "white"
          },
          "hoverlabel": {
           "align": "left"
          },
          "hovermode": "closest",
          "mapbox": {
           "style": "light"
          },
          "paper_bgcolor": "white",
          "plot_bgcolor": "#E5ECF6",
          "polar": {
           "angularaxis": {
            "gridcolor": "white",
            "linecolor": "white",
            "ticks": ""
           },
           "bgcolor": "#E5ECF6",
           "radialaxis": {
            "gridcolor": "white",
            "linecolor": "white",
            "ticks": ""
           }
          },
          "scene": {
           "xaxis": {
            "backgroundcolor": "#E5ECF6",
            "gridcolor": "white",
            "gridwidth": 2,
            "linecolor": "white",
            "showbackground": true,
            "ticks": "",
            "zerolinecolor": "white"
           },
           "yaxis": {
            "backgroundcolor": "#E5ECF6",
            "gridcolor": "white",
            "gridwidth": 2,
            "linecolor": "white",
            "showbackground": true,
            "ticks": "",
            "zerolinecolor": "white"
           },
           "zaxis": {
            "backgroundcolor": "#E5ECF6",
            "gridcolor": "white",
            "gridwidth": 2,
            "linecolor": "white",
            "showbackground": true,
            "ticks": "",
            "zerolinecolor": "white"
           }
          },
          "shapedefaults": {
           "line": {
            "color": "#2a3f5f"
           }
          },
          "ternary": {
           "aaxis": {
            "gridcolor": "white",
            "linecolor": "white",
            "ticks": ""
           },
           "baxis": {
            "gridcolor": "white",
            "linecolor": "white",
            "ticks": ""
           },
           "bgcolor": "#E5ECF6",
           "caxis": {
            "gridcolor": "white",
            "linecolor": "white",
            "ticks": ""
           }
          },
          "title": {
           "x": 0.05
          },
          "xaxis": {
           "automargin": true,
           "gridcolor": "white",
           "linecolor": "white",
           "ticks": "",
           "title": {
            "standoff": 15
           },
           "zerolinecolor": "white",
           "zerolinewidth": 2
          },
          "yaxis": {
           "automargin": true,
           "gridcolor": "white",
           "linecolor": "white",
           "ticks": "",
           "title": {
            "standoff": 15
           },
           "zerolinecolor": "white",
           "zerolinewidth": 2
          }
         }
        },
        "ternary": {
         "aaxis": {
          "layer": "below traces",
          "showgrid": true,
          "showticklabels": true,
          "tickfont": {
           "size": 7
          },
          "title": {
           "font": {
            "size": 24
           },
           "text": "Fe"
          }
         },
         "baxis": {
          "layer": "below traces",
          "min": 0,
          "showgrid": true,
          "showticklabels": true,
          "tickfont": {
           "size": 7
          },
          "title": {
           "font": {
            "size": 24
           },
           "text": "C"
          }
         },
         "caxis": {
          "layer": "below traces",
          "min": 0,
          "showgrid": true,
          "showticklabels": true,
          "tickfont": {
           "size": 7
          },
          "title": {
           "font": {
            "size": 24
           },
           "text": "O"
          }
         },
         "sum": 1
        },
        "width": 800
       },
       "_py2js_addTraces": {},
       "_py2js_animate": {},
       "_py2js_deleteTraces": {},
       "_py2js_moveTraces": {},
       "_py2js_relayout": {},
       "_py2js_removeTraceProps": {},
       "_py2js_restyle": {},
       "_py2js_update": {},
       "_view_count": 2
      }
     },
     "c98e8fd0d5f74d9498e0aeae6732c016": {
      "model_module": "@jupyter-widgets/base",
      "model_module_version": "1.2.0",
      "model_name": "LayoutModel",
      "state": {
       "grid_area": "widget074",
       "height": "22px",
       "width": "42px"
      }
     },
     "c9e86f5bf3b8456eb857ebedc6f733a6": {
      "model_module": "@jupyter-widgets/base",
      "model_module_version": "1.2.0",
      "model_name": "LayoutModel",
      "state": {}
     },
     "ca5678da40674dfb86e07cb8b2f5e8e5": {
      "model_module": "@jupyter-widgets/base",
      "model_module_version": "1.2.0",
      "model_name": "LayoutModel",
      "state": {
       "grid_area": "widget114",
       "height": "22px",
       "width": "42px"
      }
     },
     "cc254245fb04442da9fb7be546a5efc3": {
      "model_module": "@jupyter-widgets/controls",
      "model_module_version": "1.5.0",
      "model_name": "DescriptionStyleModel",
      "state": {
       "description_width": ""
      }
     },
     "ccd51d8187da4a589b02a6520830d32f": {
      "model_module": "@jupyter-widgets/controls",
      "model_module_version": "1.5.0",
      "model_name": "DescriptionStyleModel",
      "state": {
       "description_width": ""
      }
     },
     "cceb2ecc67bb497899d35e3ca1f816e8": {
      "model_module": "@jupyter-widgets/controls",
      "model_module_version": "1.5.0",
      "model_name": "DescriptionStyleModel",
      "state": {
       "description_width": ""
      }
     },
     "cdd549eb236545238fdb346e12ec4653": {
      "model_module": "@jupyter-widgets/base",
      "model_module_version": "1.2.0",
      "model_name": "LayoutModel",
      "state": {
       "grid_area": "widget086",
       "height": "22px",
       "width": "42px"
      }
     },
     "cde672adb14c49b39b421fb77f3d6586": {
      "model_module": "@jupyter-widgets/controls",
      "model_module_version": "1.5.0",
      "model_name": "DescriptionStyleModel",
      "state": {
       "description_width": ""
      }
     },
     "cf20363ef90e4740b38f331cdd7b830c": {
      "model_module": "@jupyter-widgets/controls",
      "model_module_version": "1.5.0",
      "model_name": "DescriptionStyleModel",
      "state": {
       "description_width": ""
      }
     },
     "d0e62f880f3b4ba9a480d490f21560a7": {
      "model_module": "@jupyter-widgets/controls",
      "model_module_version": "1.5.0",
      "model_name": "ToggleButtonModel",
      "state": {
       "description": "Sm",
       "layout": "IPY_MODEL_135c8b4136e14756be6c4695114cee44",
       "style": "IPY_MODEL_14b3bab1ec6549ddbda6e73c5b7d6dac"
      }
     },
     "d0f466eee5ae4e1890e1a4a98ec439a4": {
      "model_module": "@jupyter-widgets/controls",
      "model_module_version": "1.5.0",
      "model_name": "DescriptionStyleModel",
      "state": {
       "description_width": ""
      }
     },
     "d261cc512a7040238c249435721942d8": {
      "model_module": "@jupyter-widgets/controls",
      "model_module_version": "1.5.0",
      "model_name": "DescriptionStyleModel",
      "state": {
       "description_width": ""
      }
     },
     "d4b7abfa5cf14a23917eebfe8980bfea": {
      "model_module": "@jupyter-widgets/controls",
      "model_module_version": "1.5.0",
      "model_name": "ToggleButtonModel",
      "state": {
       "description": "Ga",
       "layout": "IPY_MODEL_1f056ee86c364b278c61e2f789a761c7",
       "style": "IPY_MODEL_d6d1dfdb7a9046c09b1f0ac4d407b0b4"
      }
     },
     "d4e9d3a6adab4eba9460decd098ded9b": {
      "model_module": "@jupyter-widgets/controls",
      "model_module_version": "1.5.0",
      "model_name": "DescriptionStyleModel",
      "state": {
       "description_width": ""
      }
     },
     "d5a6708e98db40cdaa0586e03c30d56b": {
      "model_module": "@jupyter-widgets/controls",
      "model_module_version": "1.5.0",
      "model_name": "DescriptionStyleModel",
      "state": {
       "description_width": ""
      }
     },
     "d5c0e79fc0c949849dddead47a9c4d45": {
      "model_module": "@jupyter-widgets/controls",
      "model_module_version": "1.5.0",
      "model_name": "ToggleButtonModel",
      "state": {
       "description": "H",
       "layout": "IPY_MODEL_b2727543dcfa431ba5dd0628a9c86447",
       "style": "IPY_MODEL_f8f22487d66c4e9c9460282da8cac3c4"
      }
     },
     "d607ff9eccfe49cb8c8f8c33f323be48": {
      "model_module": "@jupyter-widgets/base",
      "model_module_version": "1.2.0",
      "model_name": "LayoutModel",
      "state": {
       "grid_area": "widget081",
       "height": "22px",
       "width": "42px"
      }
     },
     "d610a03529d94fadb99f75a197d7525f": {
      "model_module": "@jupyter-widgets/controls",
      "model_module_version": "1.5.0",
      "model_name": "DescriptionStyleModel",
      "state": {
       "description_width": ""
      }
     },
     "d622c371df6e4e1c8cf7a5a3b03f9ca0": {
      "model_module": "@jupyter-widgets/controls",
      "model_module_version": "1.5.0",
      "model_name": "ToggleButtonModel",
      "state": {
       "description": "Co",
       "layout": "IPY_MODEL_dd4c16c966cf48d2b6855d974d0c9e44",
       "style": "IPY_MODEL_294b8482aed64d27889c728a9e5216b4"
      }
     },
     "d62b3676de6841b9a1403a1c1df27ea9": {
      "model_module": "@jupyter-widgets/controls",
      "model_module_version": "1.5.0",
      "model_name": "ToggleButtonModel",
      "state": {
       "description": "Rn",
       "layout": "IPY_MODEL_cdd549eb236545238fdb346e12ec4653",
       "style": "IPY_MODEL_e0741ce8b8e14e9daaace4e8804c861b"
      }
     },
     "d6b1842f797245e19b0e734a96f827ec": {
      "model_module": "@jupyter-widgets/controls",
      "model_module_version": "1.5.0",
      "model_name": "ButtonModel",
      "state": {
       "description": "view",
       "layout": "IPY_MODEL_57070c5aa22a40f3b3b751cc7c25bf39",
       "style": "IPY_MODEL_d6de6e7e190849878994d3184c5a020b"
      }
     },
     "d6d1dfdb7a9046c09b1f0ac4d407b0b4": {
      "model_module": "@jupyter-widgets/controls",
      "model_module_version": "1.5.0",
      "model_name": "DescriptionStyleModel",
      "state": {
       "description_width": ""
      }
     },
     "d6de6e7e190849878994d3184c5a020b": {
      "model_module": "@jupyter-widgets/controls",
      "model_module_version": "1.5.0",
      "model_name": "ButtonStyleModel",
      "state": {}
     },
     "d6e278213b8e4068811ed8f8fc2a7214": {
      "model_module": "@jupyter-widgets/controls",
      "model_module_version": "1.5.0",
      "model_name": "ToggleButtonModel",
      "state": {
       "description": "Mo",
       "layout": "IPY_MODEL_3094fa5b34c34ae5a236edf04c3ec127",
       "style": "IPY_MODEL_d0f466eee5ae4e1890e1a4a98ec439a4"
      }
     },
     "d9801e9b22994be3b445158c8b152f89": {
      "model_module": "@jupyter-widgets/controls",
      "model_module_version": "1.5.0",
      "model_name": "DescriptionStyleModel",
      "state": {
       "description_width": ""
      }
     },
     "dac54377517d49679b33adee3c2784be": {
      "model_module": "@jupyter-widgets/controls",
      "model_module_version": "1.5.0",
      "model_name": "DescriptionStyleModel",
      "state": {
       "description_width": ""
      }
     },
     "db128e5e9139445fa0e24f7d4d0c4e07": {
      "model_module": "@jupyter-widgets/controls",
      "model_module_version": "1.5.0",
      "model_name": "DescriptionStyleModel",
      "state": {
       "description_width": ""
      }
     },
     "db7505281728476ba073f781e1135259": {
      "model_module": "@jupyter-widgets/controls",
      "model_module_version": "1.5.0",
      "model_name": "DescriptionStyleModel",
      "state": {
       "description_width": ""
      }
     },
     "dc3b11c4e9e2437e9474e066aae0c986": {
      "model_module": "@jupyter-widgets/base",
      "model_module_version": "1.2.0",
      "model_name": "LayoutModel",
      "state": {
       "grid_area": "widget002",
       "height": "22px",
       "width": "42px"
      }
     },
     "dd1ce89ed9ab44c8ab4bca30ec097e83": {
      "model_module": "@jupyter-widgets/controls",
      "model_module_version": "1.5.0",
      "model_name": "DescriptionStyleModel",
      "state": {
       "description_width": ""
      }
     },
     "dd4c16c966cf48d2b6855d974d0c9e44": {
      "model_module": "@jupyter-widgets/base",
      "model_module_version": "1.2.0",
      "model_name": "LayoutModel",
      "state": {
       "grid_area": "widget027",
       "height": "22px",
       "width": "42px"
      }
     },
     "de35a47ab2594734b5e268da14317a8b": {
      "model_module": "@jupyter-widgets/controls",
      "model_module_version": "1.5.0",
      "model_name": "DescriptionStyleModel",
      "state": {
       "description_width": ""
      }
     },
     "dec05e7553d1456eaa68bd350c6be7c4": {
      "model_module": "@jupyter-widgets/controls",
      "model_module_version": "1.5.0",
      "model_name": "ToggleButtonModel",
      "state": {
       "description": "Ba",
       "layout": "IPY_MODEL_53a20a30d9ea40cf8f8884e395a7043d",
       "style": "IPY_MODEL_67c03615c63a45a9ba1aae8792c26719"
      }
     },
     "e0741ce8b8e14e9daaace4e8804c861b": {
      "model_module": "@jupyter-widgets/controls",
      "model_module_version": "1.5.0",
      "model_name": "DescriptionStyleModel",
      "state": {
       "description_width": ""
      }
     },
     "e127a0ad72ca4709a1c2247bb7191203": {
      "model_module": "@jupyter-widgets/controls",
      "model_module_version": "1.5.0",
      "model_name": "DescriptionStyleModel",
      "state": {
       "description_width": ""
      }
     },
     "e19e9f869f84448c872a787d64050695": {
      "model_module": "@jupyter-widgets/controls",
      "model_module_version": "1.5.0",
      "model_name": "ToggleButtonModel",
      "state": {
       "description": "Ds",
       "layout": "IPY_MODEL_2924220e34a94fdd99f0a42be185d7a6",
       "style": "IPY_MODEL_6f69e48a83ae460293c254fef93e4ef7"
      }
     },
     "e20b4ca8621b4c8293f57851c65c8de5": {
      "model_module": "@jupyter-widgets/controls",
      "model_module_version": "1.5.0",
      "model_name": "ToggleButtonModel",
      "state": {
       "description": "Si",
       "layout": "IPY_MODEL_e58532e0d0c342ed978b774fdc9e0139",
       "style": "IPY_MODEL_4b17b4ff47974c179d13f00b5c2147e3"
      }
     },
     "e2623aad10144d14a90c70692ad1c875": {
      "model_module": "@jupyter-widgets/base",
      "model_module_version": "1.2.0",
      "model_name": "LayoutModel",
      "state": {
       "grid_area": "widget097",
       "height": "22px",
       "width": "42px"
      }
     },
     "e3e7004288fd440fa146fe20bd0ac461": {
      "model_module": "@jupyter-widgets/controls",
      "model_module_version": "1.5.0",
      "model_name": "DescriptionStyleModel",
      "state": {
       "description_width": ""
      }
     },
     "e58532e0d0c342ed978b774fdc9e0139": {
      "model_module": "@jupyter-widgets/base",
      "model_module_version": "1.2.0",
      "model_name": "LayoutModel",
      "state": {
       "grid_area": "widget014",
       "height": "22px",
       "width": "42px"
      }
     },
     "e5f3968b0a1240609eb23e75b5bbc86b": {
      "model_module": "@jupyter-widgets/base",
      "model_module_version": "1.2.0",
      "model_name": "LayoutModel",
      "state": {
       "grid_area": "widget049",
       "height": "22px",
       "width": "42px"
      }
     },
     "e76cf652e68544b8a0f1692ba95e4ce5": {
      "model_module": "@jupyter-widgets/controls",
      "model_module_version": "1.5.0",
      "model_name": "DescriptionStyleModel",
      "state": {
       "description_width": ""
      }
     },
     "e970eafc197c454fa199a011743d783d": {
      "model_module": "@jupyter-widgets/base",
      "model_module_version": "1.2.0",
      "model_name": "LayoutModel",
      "state": {
       "grid_area": "widget015",
       "height": "22px",
       "width": "42px"
      }
     },
     "ea99f3d926ff418e823dac6385465d32": {
      "model_module": "@jupyter-widgets/controls",
      "model_module_version": "1.5.0",
      "model_name": "ToggleButtonModel",
      "state": {
       "description": "Na",
       "layout": "IPY_MODEL_b02bd28e50fd429094fdb6f62c8bf04d",
       "style": "IPY_MODEL_841dc1305be643b9a5e12a17ea907c12"
      }
     },
     "ead89898591345b396b90cb2d1c37053": {
      "model_module": "@jupyter-widgets/controls",
      "model_module_version": "1.5.0",
      "model_name": "ToggleButtonModel",
      "state": {
       "description": "Fr",
       "layout": "IPY_MODEL_f97ceabc49e84620b41da53647207a56",
       "style": "IPY_MODEL_7298679dfc00464e8703bd768dfa11ce"
      }
     },
     "ebee822dad8846cf8ade4b20a48ce77f": {
      "model_module": "@jupyter-widgets/controls",
      "model_module_version": "1.5.0",
      "model_name": "ToggleButtonModel",
      "state": {
       "description": "Mg",
       "layout": "IPY_MODEL_31c68d1f745b4a87b329e5dabe8bc61b",
       "style": "IPY_MODEL_a0c56f4ded554b8eac456314c4a61d66"
      }
     },
     "ec35204c971b47f99e70d9eb8f85531c": {
      "model_module": "@jupyter-widgets/controls",
      "model_module_version": "1.5.0",
      "model_name": "ToggleButtonModel",
      "state": {
       "description": "Ce",
       "layout": "IPY_MODEL_54d988d7c465468d8661bccf2e2bc8bc",
       "style": "IPY_MODEL_6594e3b3f8354e20b94b261a383230ce"
      }
     },
     "ed48915f3f4741eb98a96101e3ccee8d": {
      "model_module": "@jupyter-widgets/base",
      "model_module_version": "1.2.0",
      "model_name": "LayoutModel",
      "state": {
       "grid_area": "widget047",
       "height": "22px",
       "width": "42px"
      }
     },
     "ee4e571e31c44e5c891be14cee7b7eb4": {
      "model_module": "@jupyter-widgets/controls",
      "model_module_version": "1.5.0",
      "model_name": "ToggleButtonModel",
      "state": {
       "description": "Tm",
       "layout": "IPY_MODEL_31e73fef83f44e84a438cafc803a8bf4",
       "style": "IPY_MODEL_a6facff028354afd8b1aece1398c67d7"
      }
     },
     "ee892d07c8294c70938321127e55da68": {
      "model_module": "@jupyter-widgets/controls",
      "model_module_version": "1.5.0",
      "model_name": "DescriptionStyleModel",
      "state": {
       "description_width": ""
      }
     },
     "eeb33d8369ef4905b92c3fa783300a16": {
      "model_module": "@jupyter-widgets/controls",
      "model_module_version": "1.5.0",
      "model_name": "ToggleButtonModel",
      "state": {
       "description": "Cr",
       "layout": "IPY_MODEL_5b0e45a895a044728d327585dbfe4b88",
       "style": "IPY_MODEL_39b9c86b824046eda2de6101a1ee61aa"
      }
     },
     "eeceecb513944e21a4e7fd32a1b4e7f8": {
      "model_module": "@jupyter-widgets/controls",
      "model_module_version": "1.5.0",
      "model_name": "ToggleButtonModel",
      "state": {
       "description": "Zn",
       "layout": "IPY_MODEL_515988c94d7f49f9a976b891af08ddb9",
       "style": "IPY_MODEL_a7886ed44d8741cca6db634e83d20d57"
      }
     },
     "ef7663462b274770a01b0d1ce62d7390": {
      "model_module": "@jupyter-widgets/controls",
      "model_module_version": "1.5.0",
      "model_name": "ToggleButtonModel",
      "state": {
       "description": "Sb",
       "layout": "IPY_MODEL_09b8e63e880a48efb84d6504bc9b2308",
       "style": "IPY_MODEL_60203b2ed768406bb663bec718a46624"
      }
     },
     "f09d86157e1c4167832ce8635cdc626a": {
      "model_module": "@jupyter-widgets/base",
      "model_module_version": "1.2.0",
      "model_name": "LayoutModel",
      "state": {
       "grid_area": "widget090",
       "height": "22px",
       "width": "42px"
      }
     },
     "f0c2694370824cb2963238d52c791873": {
      "model_module": "@jupyter-widgets/controls",
      "model_module_version": "1.5.0",
      "model_name": "ToggleButtonModel",
      "state": {
       "description": "Hf",
       "layout": "IPY_MODEL_256a142a1b5241d7b04010ebe7196275",
       "style": "IPY_MODEL_43d4f8c3da0e4217a802ebdc585b5f3d"
      }
     },
     "f0c6e5312a7b4dc0820dd85a531e5f6e": {
      "model_module": "@jupyter-widgets/controls",
      "model_module_version": "1.5.0",
      "model_name": "DescriptionStyleModel",
      "state": {
       "description_width": ""
      }
     },
     "f1585e0928f7424497a7ddb12a0664ca": {
      "model_module": "@jupyter-widgets/base",
      "model_module_version": "1.2.0",
      "model_name": "LayoutModel",
      "state": {
       "grid_area": "widget013",
       "height": "22px",
       "width": "42px"
      }
     },
     "f2ed5271606c4e0f8fb7ba0e338941af": {
      "model_module": "@jupyter-widgets/controls",
      "model_module_version": "1.5.0",
      "model_name": "ToggleButtonModel",
      "state": {
       "description": "S",
       "layout": "IPY_MODEL_8020cd2d54124fdb9f706b012d9d97fa",
       "style": "IPY_MODEL_27edb9ef30dc44129e3cbaf124b8c514"
      }
     },
     "f38e2d194fa74bc9b37c2dc4ba06f521": {
      "model_module": "@jupyter-widgets/base",
      "model_module_version": "1.2.0",
      "model_name": "LayoutModel",
      "state": {
       "height": "27px",
       "width": "175px"
      }
     },
     "f3ace2d230b9430fba2e2257446b3138": {
      "model_module": "@jupyter-widgets/base",
      "model_module_version": "1.2.0",
      "model_name": "LayoutModel",
      "state": {}
     },
     "f3ee5c96853b4e539d8b2a18b95b909a": {
      "model_module": "@jupyter-widgets/base",
      "model_module_version": "1.2.0",
      "model_name": "LayoutModel",
      "state": {
       "grid_area": "widget045",
       "height": "22px",
       "width": "42px"
      }
     },
     "f409c4471bd24e069d13856dfc556796": {
      "model_module": "@jupyter-widgets/base",
      "model_module_version": "1.2.0",
      "model_name": "LayoutModel",
      "state": {
       "border": "1px solid black"
      }
     },
     "f452beaf30564dc3be7ddae1be5ed797": {
      "model_module": "@jupyter-widgets/controls",
      "model_module_version": "1.5.0",
      "model_name": "ToggleButtonModel",
      "state": {
       "description": "Pr",
       "layout": "IPY_MODEL_2bf0a2b74fa74bf2bbadcbc16c2d2de4",
       "style": "IPY_MODEL_9cf33ea0a1694dd68e520f8ef444f234"
      }
     },
     "f57a3c16aa8c42bc87012019374d3fa0": {
      "model_module": "@jupyter-widgets/base",
      "model_module_version": "1.2.0",
      "model_name": "LayoutModel",
      "state": {
       "grid_area": "widget040",
       "height": "22px",
       "width": "42px"
      }
     },
     "f5af0512202c4895997f7fbc43466a37": {
      "model_module": "@jupyter-widgets/controls",
      "model_module_version": "1.5.0",
      "model_name": "DescriptionStyleModel",
      "state": {
       "description_width": ""
      }
     },
     "f60f1f8f870043b897000e4b1b6861da": {
      "model_module": "@jupyter-widgets/controls",
      "model_module_version": "1.5.0",
      "model_name": "DescriptionStyleModel",
      "state": {
       "description_width": ""
      }
     },
     "f66a69e5410f4b3689eb0895c4b6b180": {
      "model_module": "@jupyter-widgets/controls",
      "model_module_version": "1.5.0",
      "model_name": "ToggleButtonModel",
      "state": {
       "description": "Fl",
       "layout": "IPY_MODEL_ca5678da40674dfb86e07cb8b2f5e8e5",
       "style": "IPY_MODEL_db7505281728476ba073f781e1135259"
      }
     },
     "f6b57256e383490cb56bed650f8ad612": {
      "model_module": "@jupyter-widgets/base",
      "model_module_version": "1.2.0",
      "model_name": "LayoutModel",
      "state": {
       "grid_area": "widget010",
       "height": "22px",
       "width": "42px"
      }
     },
     "f71b88a6246643c9b418e8d172b353a2": {
      "model_module": "@jupyter-widgets/base",
      "model_module_version": "1.2.0",
      "model_name": "LayoutModel",
      "state": {
       "grid_area": "widget035",
       "height": "22px",
       "width": "42px"
      }
     },
     "f77e9979eec24685b7720cbe76876630": {
      "model_module": "@jupyter-widgets/base",
      "model_module_version": "1.2.0",
      "model_name": "LayoutModel",
      "state": {
       "grid_area": "widget061",
       "height": "22px",
       "width": "42px"
      }
     },
     "f8d554a393e84fe5802f31f39955c7df": {
      "model_module": "@jupyter-widgets/controls",
      "model_module_version": "1.5.0",
      "model_name": "ToggleButtonModel",
      "state": {
       "description": "Tc",
       "layout": "IPY_MODEL_b7c8789ea7fb4c638c69522c7e4e6a40",
       "style": "IPY_MODEL_d261cc512a7040238c249435721942d8"
      }
     },
     "f8f22487d66c4e9c9460282da8cac3c4": {
      "model_module": "@jupyter-widgets/controls",
      "model_module_version": "1.5.0",
      "model_name": "DescriptionStyleModel",
      "state": {
       "description_width": ""
      }
     },
     "f97ceabc49e84620b41da53647207a56": {
      "model_module": "@jupyter-widgets/base",
      "model_module_version": "1.2.0",
      "model_name": "LayoutModel",
      "state": {
       "grid_area": "widget087",
       "height": "22px",
       "width": "42px"
      }
     },
     "fae06335cfaf44ba8372987a872f5640": {
      "model_module": "@jupyter-widgets/base",
      "model_module_version": "1.2.0",
      "model_name": "LayoutModel",
      "state": {
       "grid_area": "widget054",
       "height": "22px",
       "width": "42px"
      }
     },
     "fcd55eb485684797b3b96323c10e20f1": {
      "model_module": "@jupyter-widgets/controls",
      "model_module_version": "1.5.0",
      "model_name": "DescriptionStyleModel",
      "state": {
       "description_width": ""
      }
     },
     "fe5394139948480d9d891452ce23eb53": {
      "model_module": "@jupyter-widgets/base",
      "model_module_version": "1.2.0",
      "model_name": "LayoutModel",
      "state": {
       "grid_area": "widget106",
       "height": "22px",
       "width": "42px"
      }
     },
     "ff11f72a81444b3f945d2b04892cf820": {
      "model_module": "@jupyter-widgets/controls",
      "model_module_version": "1.5.0",
      "model_name": "ToggleButtonModel",
      "state": {
       "description": "Ar",
       "layout": "IPY_MODEL_365745a2e5dd47b09e35c61cdb116003",
       "style": "IPY_MODEL_1864f5a8fa7549a9b8d34a15b527a3f7"
      }
     },
     "ffd9cd84b2f747ee852c8b7ed2eec614": {
      "model_module": "@jupyter-widgets/controls",
      "model_module_version": "1.5.0",
      "model_name": "DescriptionStyleModel",
      "state": {
       "description_width": ""
      }
     }
    },
    "version_major": 2,
    "version_minor": 0
   }
  }
 },
 "nbformat": 4,
 "nbformat_minor": 5
}
