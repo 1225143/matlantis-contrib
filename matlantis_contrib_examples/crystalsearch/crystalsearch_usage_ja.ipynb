{
 "cells": [
  {
   "cell_type": "markdown",
   "id": "11ffbf79-7a05-438b-a6b2-8a669ca2ffe8",
   "metadata": {},
   "source": [
    "Copyright ENEOS, Corp., Preferred Computational Chemistry, Inc. and Preferred Networks, Inc. as contributors to Matlantis contrib project\n",
    "\n",
    "# DFTデータベース（MaterialsProject等）から構造を探索するGUI\n",
    "\n",
    "Matlantis の利用バージョン表示機能もついています #eneos ibuka 2022/10/1\n",
    "\n",
    "`crystalsearch` moduleは内部でMaterials Projectのデータベースを使用しています。\n",
    "\n",
    "\n",
    "Database is from  \n",
    "A. Jain*, S.P. Ong*, G. Hautier, W. Chen, W.D. Richards, S. Dacek, S. Cholia, D. Gunter, D. Skinner, G. Ceder, K.A. Persson (*=equal contributions)  \n",
    "The Materials Project: A materials genome approach to accelerating materials innovation  \n",
    "APL Materials, 2013, 1(1), 011002.  \n",
    "[doi:10.1063/1.4812323](http://dx.doi.org/10.1063/1.4812323)  \n",
    "[[bibtex]](https://materialsproject.org/static/docs/jain_ong2013.349ca3156250.bib)  \n",
    "Licensed under [CC BY 4.0](https://creativecommons.org/licenses/by/4.0/)  "
   ]
  },
  {
   "cell_type": "code",
   "execution_count": 1,
   "id": "b8f8ff89-4b91-4cdd-a578-ea54c5e38389",
   "metadata": {
    "tags": []
   },
   "outputs": [
    {
     "data": {
      "application/vnd.jupyter.widget-view+json": {
       "model_id": "9eee0bcfbcde4eb087c317ea0895abfb",
       "version_major": 2,
       "version_minor": 0
      },
      "text/plain": []
     },
     "metadata": {},
     "output_type": "display_data"
    }
   ],
   "source": [
    "import  crystalsearch as cs"
   ]
  },
  {
   "cell_type": "code",
   "execution_count": 2,
   "id": "397b5902-69db-4514-96da-39f3ba10a9f0",
   "metadata": {
    "tags": []
   },
   "outputs": [
    {
     "data": {
      "text/html": [
       "<style> .widget-gridbox {background-color: #222266;padding: 3px} .widget-toggle-button {padding: 1px; font-size: 12px;border-radius: 6px;}</style>"
      ],
      "text/plain": [
       "<IPython.core.display.HTML object>"
      ]
     },
     "metadata": {},
     "output_type": "display_data"
    },
    {
     "data": {
      "application/vnd.jupyter.widget-view+json": {
       "model_id": "b0fca17b958f48fe8728cc11bd205a75",
       "version_major": 2,
       "version_minor": 0
      },
      "text/plain": [
       "VBox(children=(GridspecLayout(children=(ToggleButton(value=False, description='H', layout=Layout(grid_area='wi…"
      ]
     },
     "metadata": {},
     "output_type": "display_data"
    }
   ],
   "source": [
    "m = cs.Crystalsearch()"
   ]
  },
  {
   "cell_type": "markdown",
   "id": "2f3fc084-a590-4d52-aa06-355768c53c5e",
   "metadata": {},
   "source": [
    "以下[Fe,O,C]を選択し、[hullview] ボタン実施後の動作です。 検索結果は `インスタンス名.cands` で取得できます。"
   ]
  },
  {
   "cell_type": "code",
   "execution_count": 4,
   "id": "2365ea0f-ba25-4a6e-bcfe-305231f010ad",
   "metadata": {
    "tags": []
   },
   "outputs": [],
   "source": [
    "cands = m.cands"
   ]
  },
  {
   "cell_type": "code",
   "execution_count": 5,
   "id": "777243d5-07f4-44c9-9820-531c8a5e4440",
   "metadata": {
    "tags": []
   },
   "outputs": [
    {
     "data": {
      "text/html": [
       "<div>\n",
       "<style scoped>\n",
       "    .dataframe tbody tr th:only-of-type {\n",
       "        vertical-align: middle;\n",
       "    }\n",
       "\n",
       "    .dataframe tbody tr th {\n",
       "        vertical-align: top;\n",
       "    }\n",
       "\n",
       "    .dataframe thead th {\n",
       "        text-align: right;\n",
       "    }\n",
       "</style>\n",
       "<table border=\"1\" class=\"dataframe\">\n",
       "  <thead>\n",
       "    <tr style=\"text-align: right;\">\n",
       "      <th></th>\n",
       "      <th>material_id</th>\n",
       "      <th>pretty_formula</th>\n",
       "      <th>energy</th>\n",
       "      <th>e_above_hull</th>\n",
       "      <th>is_hubbard</th>\n",
       "      <th>elements</th>\n",
       "      <th>atoms</th>\n",
       "    </tr>\n",
       "  </thead>\n",
       "  <tbody>\n",
       "    <tr>\n",
       "      <th>0</th>\n",
       "      <td>mp-13</td>\n",
       "      <td>Fe</td>\n",
       "      <td>-8.470009</td>\n",
       "      <td>0.000000</td>\n",
       "      <td>False</td>\n",
       "      <td>[Fe]</td>\n",
       "      <td>(Atom('Fe', [0.0, 0.0, 0.0], index=0))</td>\n",
       "    </tr>\n",
       "    <tr>\n",
       "      <th>1</th>\n",
       "      <td>mp-47</td>\n",
       "      <td>C</td>\n",
       "      <td>-36.261055</td>\n",
       "      <td>0.161517</td>\n",
       "      <td>False</td>\n",
       "      <td>[C]</td>\n",
       "      <td>(Atom('C', [-1.1144813925056951e-06, 1.4509361...</td>\n",
       "    </tr>\n",
       "    <tr>\n",
       "      <th>2</th>\n",
       "      <td>mp-48</td>\n",
       "      <td>C</td>\n",
       "      <td>-36.881187</td>\n",
       "      <td>0.006484</td>\n",
       "      <td>False</td>\n",
       "      <td>[C]</td>\n",
       "      <td>(Atom('C', [0.0, 0.0, 6.5137786865234375], ind...</td>\n",
       "    </tr>\n",
       "    <tr>\n",
       "      <th>3</th>\n",
       "      <td>mp-66</td>\n",
       "      <td>C</td>\n",
       "      <td>-18.180737</td>\n",
       "      <td>0.136413</td>\n",
       "      <td>False</td>\n",
       "      <td>[C]</td>\n",
       "      <td>(Atom('C', [1.263497233390808, 0.7294805049896...</td>\n",
       "    </tr>\n",
       "    <tr>\n",
       "      <th>4</th>\n",
       "      <td>mp-136</td>\n",
       "      <td>Fe</td>\n",
       "      <td>-16.744431</td>\n",
       "      <td>0.097793</td>\n",
       "      <td>False</td>\n",
       "      <td>[Fe]</td>\n",
       "      <td>(Atom('Fe', [-1.0390743909738376e-06, 1.423605...</td>\n",
       "    </tr>\n",
       "    <tr>\n",
       "      <th>...</th>\n",
       "      <td>...</td>\n",
       "      <td>...</td>\n",
       "      <td>...</td>\n",
       "      <td>...</td>\n",
       "      <td>...</td>\n",
       "      <td>...</td>\n",
       "      <td>...</td>\n",
       "    </tr>\n",
       "    <tr>\n",
       "      <th>173</th>\n",
       "      <td>mvc-12204</td>\n",
       "      <td>FeO2</td>\n",
       "      <td>-218.275894</td>\n",
       "      <td>0.271338</td>\n",
       "      <td>True</td>\n",
       "      <td>[Fe, O]</td>\n",
       "      <td>(Atom('Fe', [6.014296531677246, 3.451520204544...</td>\n",
       "    </tr>\n",
       "    <tr>\n",
       "      <th>174</th>\n",
       "      <td>mvc-12205</td>\n",
       "      <td>Fe9O13</td>\n",
       "      <td>-142.633408</td>\n",
       "      <td>0.263188</td>\n",
       "      <td>True</td>\n",
       "      <td>[Fe, O]</td>\n",
       "      <td>(Atom('Fe', [5.969217777252197, 1.786785602569...</td>\n",
       "    </tr>\n",
       "    <tr>\n",
       "      <th>175</th>\n",
       "      <td>mvc-12905</td>\n",
       "      <td>FeO2</td>\n",
       "      <td>-73.856781</td>\n",
       "      <td>0.179825</td>\n",
       "      <td>True</td>\n",
       "      <td>[Fe, O]</td>\n",
       "      <td>(Atom('Fe', [-1.005743384361267, 1.72052621841...</td>\n",
       "    </tr>\n",
       "    <tr>\n",
       "      <th>176</th>\n",
       "      <td>mvc-13234</td>\n",
       "      <td>FeO2</td>\n",
       "      <td>-218.290543</td>\n",
       "      <td>0.270931</td>\n",
       "      <td>True</td>\n",
       "      <td>[Fe, O]</td>\n",
       "      <td>(Atom('Fe', [4.6083173751831055, 0.87333792448...</td>\n",
       "    </tr>\n",
       "    <tr>\n",
       "      <th>177</th>\n",
       "      <td>mvc-15135</td>\n",
       "      <td>FeO2</td>\n",
       "      <td>-217.965958</td>\n",
       "      <td>0.279947</td>\n",
       "      <td>True</td>\n",
       "      <td>[Fe, O]</td>\n",
       "      <td>(Atom('Fe', [4.428077697753906, 2.556548357009...</td>\n",
       "    </tr>\n",
       "  </tbody>\n",
       "</table>\n",
       "<p>178 rows × 7 columns</p>\n",
       "</div>"
      ],
      "text/plain": [
       "    material_id pretty_formula      energy  e_above_hull  is_hubbard elements  \\\n",
       "0         mp-13             Fe   -8.470009      0.000000       False     [Fe]   \n",
       "1         mp-47              C  -36.261055      0.161517       False      [C]   \n",
       "2         mp-48              C  -36.881187      0.006484       False      [C]   \n",
       "3         mp-66              C  -18.180737      0.136413       False      [C]   \n",
       "4        mp-136             Fe  -16.744431      0.097793       False     [Fe]   \n",
       "..          ...            ...         ...           ...         ...      ...   \n",
       "173   mvc-12204           FeO2 -218.275894      0.271338        True  [Fe, O]   \n",
       "174   mvc-12205         Fe9O13 -142.633408      0.263188        True  [Fe, O]   \n",
       "175   mvc-12905           FeO2  -73.856781      0.179825        True  [Fe, O]   \n",
       "176   mvc-13234           FeO2 -218.290543      0.270931        True  [Fe, O]   \n",
       "177   mvc-15135           FeO2 -217.965958      0.279947        True  [Fe, O]   \n",
       "\n",
       "                                                 atoms  \n",
       "0               (Atom('Fe', [0.0, 0.0, 0.0], index=0))  \n",
       "1    (Atom('C', [-1.1144813925056951e-06, 1.4509361...  \n",
       "2    (Atom('C', [0.0, 0.0, 6.5137786865234375], ind...  \n",
       "3    (Atom('C', [1.263497233390808, 0.7294805049896...  \n",
       "4    (Atom('Fe', [-1.0390743909738376e-06, 1.423605...  \n",
       "..                                                 ...  \n",
       "173  (Atom('Fe', [6.014296531677246, 3.451520204544...  \n",
       "174  (Atom('Fe', [5.969217777252197, 1.786785602569...  \n",
       "175  (Atom('Fe', [-1.005743384361267, 1.72052621841...  \n",
       "176  (Atom('Fe', [4.6083173751831055, 0.87333792448...  \n",
       "177  (Atom('Fe', [4.428077697753906, 2.556548357009...  \n",
       "\n",
       "[178 rows x 7 columns]"
      ]
     },
     "execution_count": 5,
     "metadata": {},
     "output_type": "execute_result"
    }
   ],
   "source": [
    "cands"
   ]
  },
  {
   "cell_type": "markdown",
   "id": "6661b59d-5f6d-42ed-92f7-7db8354e0e71",
   "metadata": {},
   "source": [
    "pfpとMaterials Projectのエネルギーを比較します"
   ]
  },
  {
   "cell_type": "code",
   "execution_count": 6,
   "id": "8ba56604-aa15-4458-a217-3bc5a57a23c0",
   "metadata": {
    "tags": []
   },
   "outputs": [
    {
     "name": "stdout",
     "output_type": "stream",
     "text": [
      "calc 178 cands by pfp v6.0.0\n",
      "[WARNING] 111 / 178 atoms contain Hubbard U correction, its U parameter might be different between Materials project & PFP. Please check carefully.\n"
     ]
    },
    {
     "data": {
      "application/vnd.jupyter.widget-view+json": {
       "model_id": "b76047b949384262902be6dec11c90d6",
       "version_major": 2,
       "version_minor": 0
      },
      "text/plain": [
       "  0%|          | 0/178 [00:00<?, ?it/s]"
      ]
     },
     "metadata": {},
     "output_type": "display_data"
    },
    {
     "name": "stdout",
     "output_type": "stream",
     "text": [
      "end\n"
     ]
    },
    {
     "data": {
      "image/png": "[encoded data removed]",
      "text/plain": [
       "<Figure size 480x480 with 1 Axes>"
      ]
     },
     "metadata": {},
     "output_type": "display_data"
    },
    {
     "data": {
      "text/html": [
       "<div>\n",
       "<style scoped>\n",
       "    .dataframe tbody tr th:only-of-type {\n",
       "        vertical-align: middle;\n",
       "    }\n",
       "\n",
       "    .dataframe tbody tr th {\n",
       "        vertical-align: top;\n",
       "    }\n",
       "\n",
       "    .dataframe thead th {\n",
       "        text-align: right;\n",
       "    }\n",
       "</style>\n",
       "<table border=\"1\" class=\"dataframe\">\n",
       "  <thead>\n",
       "    <tr style=\"text-align: right;\">\n",
       "      <th></th>\n",
       "      <th>material_id</th>\n",
       "      <th>pretty_formula</th>\n",
       "      <th>energy</th>\n",
       "      <th>e_above_hull</th>\n",
       "      <th>is_hubbard</th>\n",
       "      <th>elements</th>\n",
       "      <th>atoms</th>\n",
       "      <th>pfpene</th>\n",
       "      <th>pfpfmax</th>\n",
       "      <th>lenatoms</th>\n",
       "    </tr>\n",
       "  </thead>\n",
       "  <tbody>\n",
       "    <tr>\n",
       "      <th>0</th>\n",
       "      <td>mp-13</td>\n",
       "      <td>Fe</td>\n",
       "      <td>-8.470009</td>\n",
       "      <td>0.000000</td>\n",
       "      <td>False</td>\n",
       "      <td>[Fe]</td>\n",
       "      <td>(Atom('Fe', [0.0, 0.0, 0.0], index=0))</td>\n",
       "      <td>-8.255982</td>\n",
       "      <td>0.00000</td>\n",
       "      <td>1</td>\n",
       "    </tr>\n",
       "    <tr>\n",
       "      <th>1</th>\n",
       "      <td>mp-47</td>\n",
       "      <td>C</td>\n",
       "      <td>-36.261055</td>\n",
       "      <td>0.161517</td>\n",
       "      <td>False</td>\n",
       "      <td>[C]</td>\n",
       "      <td>(Atom('C', [-1.1144813925056951e-06, 1.4509361...</td>\n",
       "      <td>-36.337563</td>\n",
       "      <td>0.00091</td>\n",
       "      <td>4</td>\n",
       "    </tr>\n",
       "    <tr>\n",
       "      <th>2</th>\n",
       "      <td>mp-48</td>\n",
       "      <td>C</td>\n",
       "      <td>-36.881187</td>\n",
       "      <td>0.006484</td>\n",
       "      <td>False</td>\n",
       "      <td>[C]</td>\n",
       "      <td>(Atom('C', [0.0, 0.0, 6.5137786865234375], ind...</td>\n",
       "      <td>-36.896410</td>\n",
       "      <td>0.00008</td>\n",
       "      <td>4</td>\n",
       "    </tr>\n",
       "    <tr>\n",
       "      <th>3</th>\n",
       "      <td>mp-66</td>\n",
       "      <td>C</td>\n",
       "      <td>-18.180737</td>\n",
       "      <td>0.136413</td>\n",
       "      <td>False</td>\n",
       "      <td>[C]</td>\n",
       "      <td>(Atom('C', [1.263497233390808, 0.7294805049896...</td>\n",
       "      <td>-18.185245</td>\n",
       "      <td>0.00000</td>\n",
       "      <td>2</td>\n",
       "    </tr>\n",
       "    <tr>\n",
       "      <th>4</th>\n",
       "      <td>mp-136</td>\n",
       "      <td>Fe</td>\n",
       "      <td>-16.744431</td>\n",
       "      <td>0.097793</td>\n",
       "      <td>False</td>\n",
       "      <td>[Fe]</td>\n",
       "      <td>(Atom('Fe', [-1.0390743909738376e-06, 1.423605...</td>\n",
       "      <td>-16.305622</td>\n",
       "      <td>0.00001</td>\n",
       "      <td>2</td>\n",
       "    </tr>\n",
       "  </tbody>\n",
       "</table>\n",
       "</div>"
      ],
      "text/plain": [
       "  material_id pretty_formula     energy  e_above_hull  is_hubbard elements  \\\n",
       "0       mp-13             Fe  -8.470009      0.000000       False     [Fe]   \n",
       "1       mp-47              C -36.261055      0.161517       False      [C]   \n",
       "2       mp-48              C -36.881187      0.006484       False      [C]   \n",
       "3       mp-66              C -18.180737      0.136413       False      [C]   \n",
       "4      mp-136             Fe -16.744431      0.097793       False     [Fe]   \n",
       "\n",
       "                                               atoms     pfpene  pfpfmax  \\\n",
       "0             (Atom('Fe', [0.0, 0.0, 0.0], index=0))  -8.255982  0.00000   \n",
       "1  (Atom('C', [-1.1144813925056951e-06, 1.4509361... -36.337563  0.00091   \n",
       "2  (Atom('C', [0.0, 0.0, 6.5137786865234375], ind... -36.896410  0.00008   \n",
       "3  (Atom('C', [1.263497233390808, 0.7294805049896... -18.185245  0.00000   \n",
       "4  (Atom('Fe', [-1.0390743909738376e-06, 1.423605... -16.305622  0.00001   \n",
       "\n",
       "   lenatoms  \n",
       "0         1  \n",
       "1         4  \n",
       "2         4  \n",
       "3         2  \n",
       "4         2  "
      ]
     },
     "execution_count": 6,
     "metadata": {},
     "output_type": "execute_result"
    }
   ],
   "source": [
    "pfpdf = m.get_pfp_df()\n",
    "pfpdf.head()"
   ]
  },
  {
   "cell_type": "markdown",
   "id": "97d5968e-d89b-4d6d-968d-603424106349",
   "metadata": {},
   "source": [
    "pfp の結果でphasediagram　を描きます"
   ]
  },
  {
   "cell_type": "code",
   "execution_count": 7,
   "id": "ec9f0da5-cb0a-42e3-81f5-063f701bc93e",
   "metadata": {
    "tags": []
   },
   "outputs": [
    {
     "name": "stdout",
     "output_type": "stream",
     "text": [
      "pfp\n"
     ]
    },
    {
     "data": {
      "application/vnd.jupyter.widget-view+json": {
       "model_id": "ccfe90cfa7754a1c88cd0ec6cc00620f",
       "version_major": 2,
       "version_minor": 0
      },
      "text/plain": [
       "FigureWidget({\n",
       "    'data': [{'a': [0, 0, None, 16.0, 0, None, 0, 1.0, None, 0, 1.0, None, 16.0,\n",
       "                    1.0, None, 0, 0, None, 0, 16.0, None],\n",
       "              'b': [4.0, 0, None, 0, 0, None, 4.0, 0, None, 4.0, 0, None, 0, 0,\n",
       "                    None, 4.0, 4.0, None, 4.0, 0, None],\n",
       "              'c': [8.0, 2.0, None, 24.0, 2.0, None, 8.0, 0, None, 0, 0, None,\n",
       "                    24.0, 0, None, 8.0, 0, None, 8.0, 24.0, None],\n",
       "              'hoverinfo': 'none',\n",
       "              'line': {'color': 'black', 'width': 1.5},\n",
       "              'marker': {'size': 4},\n",
       "              'mode': 'lines',\n",
       "              'showlegend': False,\n",
       "              'type': 'scatterternary',\n",
       "              'uid': 'ecf10d41-1608-4ef8-a888-bf49fe6bfdbe'},\n",
       "             {'a': [0, 0, 1.0],\n",
       "              'b': [4.0, 4.0, 0],\n",
       "              'c': [0, 8.0, 0],\n",
       "              'fill': 'toself',\n",
       "              'fillcolor': '#2E91E5',\n",
       "              'hovertemplate': '<extra></extra>',\n",
       "              'line': {'width': 0},\n",
       "              'marker': {'size': 4},\n",
       "              'mode': 'lines',\n",
       "              'name': 'C—CO<sub>2</sub>—Fe',\n",
       "              'opacity': 0.15,\n",
       "              'showlegend': False,\n",
       "              'type': 'scatterternary',\n",
       "              'uid': 'ce3e5b7c-7132-46dc-8a28-532a0906fbc8'},\n",
       "             {'a': [0, 1.0, 16.0],\n",
       "              'b': [4.0, 0, 0],\n",
       "              'c': [8.0, 0, 24.0],\n",
       "              'fill': 'toself',\n",
       "              'fillcolor': '#E15F99',\n",
       "              'hovertemplate': '<extra></extra>',\n",
       "              'line': {'width': 0},\n",
       "              'marker': {'size': 4},\n",
       "              'mode': 'lines',\n",
       "              'name': 'CO<sub>2</sub>—Fe—Fe<sub>2</sub>O<sub>3</sub>',\n",
       "              'opacity': 0.15,\n",
       "              'showlegend': False,\n",
       "              'type': 'scatterternary',\n",
       "              'uid': '02fa485a-54cc-4edc-86da-97c9c89c42ba'},\n",
       "             {'a': [0, 16.0, 0],\n",
       "              'b': [4.0, 0, 0],\n",
       "              'c': [8.0, 24.0, 2.0],\n",
       "              'fill': 'toself',\n",
       "              'fillcolor': '#1CA71C',\n",
       "              'hovertemplate': '<extra></extra>',\n",
       "              'line': {'width': 0},\n",
       "              'marker': {'size': 4},\n",
       "              'mode': 'lines',\n",
       "              'name': 'CO<sub>2</sub>—Fe<sub>2</sub>O<sub>3</sub>—O<sub>2</sub>',\n",
       "              'opacity': 0.15,\n",
       "              'showlegend': False,\n",
       "              'type': 'scatterternary',\n",
       "              'uid': '1d0baa73-cf30-4087-b7bb-053ae2b9f916'},\n",
       "             {'a': [0, 0, 16.0, 1.0, 0],\n",
       "              'b': [4.0, 0, 0, 0, 4.0],\n",
       "              'c': [8.0, 2.0, 24.0, 0, 0],\n",
       "              'cliponaxis': False,\n",
       "              'hoverinfo': 'text',\n",
       "              'hoverlabel': {'font': {'size': 14}},\n",
       "              'hovertext': [CO<sub>2</sub> (18) <br> -1.314 eV/atom (Stable),\n",
       "                            O<sub>2</sub> (105) <br> 0.0 eV/atom (Stable),\n",
       "                            Fe<sub>2</sub>O<sub>3</sub> (33) <br> -0.335 eV/atom\n",
       "                            (Stable), Fe (0) <br> 0.0 eV/atom (Stable), C (103)\n",
       "                            <br> 0.0 eV/atom (Stable)],\n",
       "              'marker': {'color': 'green', 'line': {'color': 'black', 'width': 2.0}, 'size': 4, 'symbol': 'circle'},\n",
       "              'mode': 'markers',\n",
       "              'name': 'Stable',\n",
       "              'showlegend': True,\n",
       "              'type': 'scatterternary',\n",
       "              'uid': 'e2c50637-077d-4cd8-9bc1-64528f94e53b'},\n",
       "             {'a': [0, 0, 0, 0, 0, 0, 0, 0, 0, 0, 0, 0, 0, 0, 0, 0, 0, 0, 0, 0, 0,\n",
       "                    0, 0, 0, 0, 0, 0, 0, 0, 0, 0, 0, 0, 0, 0, 0, 0, 0, 0, 0, 0,\n",
       "                    2.0, 1.0, 28.0, 100.0, 2.0, 4.0, 4.0, 2.0, 4.0, 2.0, 2.0, 12.0,\n",
       "                    4.0, 12.0, 40.0, 4.0, 4.0, 1.0, 2.0, 4.0, 2.0, 1.0, 2.0, 4.0,\n",
       "                    8.0, 8.0, 1.0, 4.0, 12.0, 4.0, 12.0, 12.0, 2.0, 4.0, 4.0, 64.0,\n",
       "                    4.0, 8.0, 16.0, 64.0, 16.0, 8.0, 16.0, 16.0, 4.0, 16.0, 4.0,\n",
       "                    8.0, 32.0, 32.0, 32.0, 8.0, 4.0, 8.0, 8.0, 4.0, 8.0, 8.0, 6.0,\n",
       "                    4.0, 6.0, 6.0, 6.0, 12.0, 12.0, 6.0, 24.0, 24.0, 12.0, 6.0,\n",
       "                    12.0, 12.0, 12.0, 3.0, 12.0, 12.0, 12.0, 24.0, 24.0, 24.0,\n",
       "                    24.0, 12.0, 12.0, 12.0, 12.0, 6.0, 12.0, 12.0, 12.0, 12.0,\n",
       "                    12.0, 8.0, 4.0, 8.0, 5.0, 10.0, 20.0, 5.0, 5.0, 10.0, 20.0,\n",
       "                    7.0, 14.0, 21.0, 14.0, 28.0, 16.0, 8.0, 16.0, 9.0, 9.0, 20.0,\n",
       "                    10.0, 11.0, 12.0, 13.0, 13.0, 14.0, 15.0, 15.0, 17.0, 21.0,\n",
       "                    21.0, 23.0, 23.0, 23.0, 23.0, 25.0, 32.0, 38.0, 41.0, 43.0],\n",
       "              'b': [0, 0, 0, 0, 0, 0, 0, 0, 4.0, 4.0, 2.0, 2.0, 4.0, 4.0, 2.0,\n",
       "                    4.0, 8.0, 10.0, 14.0, 12.0, 8.0, 12.0, 16.0, 2.0, 2.0, 4.0,\n",
       "                    2.0, 2.0, 8.0, 8.0, 71.0, 16.0, 2.0, 4.0, 2.0, 8.0, 2.0, 4.0,\n",
       "                    4.0, 8.0, 48.0, 0, 0, 0, 0, 0, 0, 0, 0, 0, 0, 0, 0, 0, 0, 0, 0,\n",
       "                    0, 0, 0, 0, 0, 0, 0, 0, 0, 0, 0, 0, 0, 0, 0, 0, 2.0, 8.0, 8.0,\n",
       "                    0, 0, 0, 0, 0, 0, 0, 0, 0, 0, 0, 0, 0, 0, 0, 0, 0, 2.0, 4.0,\n",
       "                    4.0, 4.0, 8.0, 8.0, 6.0, 6.0, 0, 0, 0, 0, 0, 0, 0, 0, 0, 0, 0,\n",
       "                    0, 0, 0, 0, 0, 0, 0, 0, 0, 0, 0, 0, 0, 0, 2.0, 4.0, 4.0, 4.0,\n",
       "                    4.0, 4.0, 0, 1.0, 2.0, 0, 0, 0, 0, 0, 4.0, 8.0, 0, 0, 0, 6.0,\n",
       "                    12.0, 0, 0, 0, 0, 0, 0, 0, 0, 0, 0, 0, 0, 0, 0, 0, 0, 0, 0, 0,\n",
       "                    0, 6.0, 0, 0, 0, 0, 0],\n",
       "              'c': [8.0, 2.0, 2.0, 2.0, 4.0, 8.0, 8.0, 4.0, 0, 0, 0, 0, 0, 0, 0,\n",
       "                    0, 0, 0, 0, 0, 0, 0, 0, 0, 0, 0, 0, 0, 0, 0, 0, 0, 4.0, 8.0,\n",
       "                    4.0, 16.0, 4.0, 8.0, 8.0, 16.0, 36.0, 0, 0, 0, 0, 0, 0, 0, 2.0,\n",
       "                    4.0, 2.0, 2.0, 12.0, 4.0, 12.0, 40.0, 4.0, 4.0, 2.0, 4.0, 8.0,\n",
       "                    4.0, 2.0, 4.0, 8.0, 16.0, 16.0, 2.0, 8.0, 24.0, 8.0, 24.0,\n",
       "                    24.0, 6.0, 24.0, 24.0, 96.0, 6.0, 12.0, 24.0, 96.0, 24.0, 12.0,\n",
       "                    24.0, 24.0, 6.0, 24.0, 6.0, 12.0, 48.0, 48.0, 48.0, 12.0, 0, 0,\n",
       "                    20.0, 14.0, 28.0, 28.0, 21.0, 18.0, 8.0, 8.0, 8.0, 16.0, 16.0,\n",
       "                    8.0, 32.0, 32.0, 16.0, 8.0, 16.0, 16.0, 16.0, 4.0, 16.0, 16.0,\n",
       "                    16.0, 32.0, 32.0, 32.0, 32.0, 16.0, 16.0, 16.0, 16.0, 0, 0, 0,\n",
       "                    0, 0, 0, 10.0, 0, 0, 7.0, 14.0, 32.0, 8.0, 8.0, 0, 0, 8.0,\n",
       "                    16.0, 27.0, 0, 0, 18.0, 9.0, 34.0, 10.0, 13.0, 22.0, 11.0,\n",
       "                    12.0, 13.0, 14.0, 15.0, 15.0, 16.0, 16.0, 18.0, 23.0, 32.0,\n",
       "                    25.0, 32.0, 32.0, 0, 32.0, 35.0, 39.0, 56.0, 64.0],\n",
       "              'cliponaxis': False,\n",
       "              'hoverinfo': 'text',\n",
       "              'hoverlabel': {'font': {'size': 14}},\n",
       "              'hovertext': [O<sub>2</sub> (11) <br> 0.007 eV/atom (+0.007\n",
       "                            eV/atom), O<sub>2</sub> (42) <br> 0.113 eV/atom (+0.113\n",
       "                            eV/atom), O<sub>2</sub> (43) <br> 0.019 eV/atom (+0.019\n",
       "                            eV/atom), O<sub>2</sub> (46) <br> 0.016 eV/atom (+0.016\n",
       "                            eV/atom), O<sub>2</sub> (108) <br> 0.108 eV/atom\n",
       "                            (+0.108 eV/atom), O<sub>2</sub> (115) <br> 0.03 eV/atom\n",
       "                            (+0.03 eV/atom), O<sub>2</sub> (116) <br> 0.008 eV/atom\n",
       "                            (+0.008 eV/atom), O<sub>2</sub> (126) <br> 0.063\n",
       "                            eV/atom (+0.063 eV/atom), C (1) <br> 0.141 eV/atom\n",
       "                            (+0.141 eV/atom), C (2) <br> 0.001 eV/atom (+0.001\n",
       "                            eV/atom), C (3) <br> 0.133 eV/atom (+0.133 eV/atom), C\n",
       "                            (6) <br> 0.003 eV/atom (+0.003 eV/atom), C (34) <br>\n",
       "                            0.003 eV/atom (+0.003 eV/atom), C (35) <br> 0.003\n",
       "                            eV/atom (+0.003 eV/atom), C (36) <br> 0.005 eV/atom\n",
       "                            (+0.005 eV/atom), C (37) <br> 0.004 eV/atom (+0.004\n",
       "                            eV/atom), C (38) <br> 0.007 eV/atom (+0.007 eV/atom), C\n",
       "                            (39) <br> 0.136 eV/atom (+0.136 eV/atom), C (40) <br>\n",
       "                            0.135 eV/atom (+0.135 eV/atom), C (41) <br> 0.004\n",
       "                            eV/atom (+0.004 eV/atom), C (44) <br> 0.137 eV/atom\n",
       "                            (+0.137 eV/atom), C (45) <br> 0.136 eV/atom (+0.136\n",
       "                            eV/atom), C (49) <br> 0.135 eV/atom (+0.135 eV/atom), C\n",
       "                            (50) <br> 0.008 eV/atom (+0.008 eV/atom), C (99) <br>\n",
       "                            0.003 eV/atom (+0.003 eV/atom), C (100) <br> 0.003\n",
       "                            eV/atom (+0.003 eV/atom), C (101) <br> 0.003 eV/atom\n",
       "                            (+0.003 eV/atom), C (106) <br> 0.003 eV/atom (+0.003\n",
       "                            eV/atom), C (113) <br> 0.237 eV/atom (+0.237 eV/atom),\n",
       "                            C (114) <br> 0.33 eV/atom (+0.33 eV/atom), C (118) <br>\n",
       "                            0.104 eV/atom (+0.104 eV/atom), C (141) <br> 0.323\n",
       "                            eV/atom (+0.323 eV/atom), CO<sub>2</sub> (10) <br>\n",
       "                            -1.308 eV/atom (+0.007 eV/atom), CO<sub>2</sub> (32)\n",
       "                            <br> -1.3 eV/atom (+0.015 eV/atom), CO<sub>2</sub> (51)\n",
       "                            <br> -1.304 eV/atom (+0.01 eV/atom), CO<sub>2</sub>\n",
       "                            (102) <br> -1.013 eV/atom (+0.301 eV/atom),\n",
       "                            CO<sub>2</sub> (110) <br> -1.282 eV/atom (+0.033\n",
       "                            eV/atom), CO<sub>2</sub> (120) <br> -1.298 eV/atom\n",
       "                            (+0.016 eV/atom), CO<sub>2</sub> (134) <br> -1.292\n",
       "                            eV/atom (+0.022 eV/atom), CO<sub>2</sub> (142) <br>\n",
       "                            -1.304 eV/atom (+0.01 eV/atom),\n",
       "                            C<sub>4</sub>O<sub>3</sub> (104) <br> -0.616 eV/atom\n",
       "                            (+0.229 eV/atom), Fe (4) <br> 0.103 eV/atom (+0.103\n",
       "                            eV/atom), Fe (5) <br> 0.173 eV/atom (+0.173 eV/atom),\n",
       "                            Fe (145) <br> 0.199 eV/atom (+0.199 eV/atom), Fe (160)\n",
       "                            <br> 0.247 eV/atom (+0.247 eV/atom), Fe (161) <br>\n",
       "                            0.113 eV/atom (+0.113 eV/atom), Fe (162) <br> 0.022\n",
       "                            eV/atom (+0.022 eV/atom), Fe (163) <br> 0.108 eV/atom\n",
       "                            (+0.108 eV/atom), FeO (68) <br> 0.065 eV/atom (+0.344\n",
       "                            eV/atom), FeO (79) <br> 0.108 eV/atom (+0.387 eV/atom),\n",
       "                            FeO (80) <br> 0.157 eV/atom (+0.436 eV/atom), FeO (81)\n",
       "                            <br> 0.156 eV/atom (+0.436 eV/atom), FeO (96) <br>\n",
       "                            0.157 eV/atom (+0.436 eV/atom), FeO (123) <br> 0.055\n",
       "                            eV/atom (+0.335 eV/atom), FeO (124) <br> 0.164 eV/atom\n",
       "                            (+0.443 eV/atom), FeO (158) <br> 0.297 eV/atom (+0.577\n",
       "                            eV/atom), FeO (165) <br> 0.055 eV/atom (+0.335\n",
       "                            eV/atom), FeO (166) <br> 0.056 eV/atom (+0.335\n",
       "                            eV/atom), FeO<sub>2</sub> (20) <br> 0.044 eV/atom\n",
       "                            (+0.323 eV/atom), FeO<sub>2</sub> (21) <br> -0.064\n",
       "                            eV/atom (+0.215 eV/atom), FeO<sub>2</sub> (67) <br>\n",
       "                            0.045 eV/atom (+0.324 eV/atom), FeO<sub>2</sub> (97)\n",
       "                            <br> -0.082 eV/atom (+0.198 eV/atom), FeO<sub>2</sub>\n",
       "                            (107) <br> 0.024 eV/atom (+0.303 eV/atom),\n",
       "                            FeO<sub>2</sub> (119) <br> 0.051 eV/atom (+0.331\n",
       "                            eV/atom), FeO<sub>2</sub> (122) <br> -0.028 eV/atom\n",
       "                            (+0.251 eV/atom), FeO<sub>2</sub> (131) <br> -0.051\n",
       "                            eV/atom (+0.228 eV/atom), FeO<sub>2</sub> (149) <br>\n",
       "                            -0.046 eV/atom (+0.234 eV/atom), FeO<sub>2</sub> (152)\n",
       "                            <br> 0.044 eV/atom (+0.323 eV/atom), FeO<sub>2</sub>\n",
       "                            (170) <br> 0.05 eV/atom (+0.329 eV/atom),\n",
       "                            FeO<sub>2</sub> (173) <br> 0.042 eV/atom (+0.321\n",
       "                            eV/atom), FeO<sub>2</sub> (175) <br> -0.051 eV/atom\n",
       "                            (+0.228 eV/atom), FeO<sub>2</sub> (176) <br> 0.04\n",
       "                            eV/atom (+0.319 eV/atom), FeO<sub>2</sub> (177) <br>\n",
       "                            0.048 eV/atom (+0.327 eV/atom), FeCO<sub>3</sub> (15)\n",
       "                            <br> -0.89 eV/atom (+0.01 eV/atom),\n",
       "                            Fe(CO<sub>3</sub>)<sub>2</sub> (78) <br> -0.877 eV/atom\n",
       "                            (+0.092 eV/atom), Fe(CO<sub>3</sub>)<sub>2</sub> (167)\n",
       "                            <br> -0.878 eV/atom (+0.091 eV/atom),\n",
       "                            Fe<sub>2</sub>O<sub>3</sub> (7) <br> -0.292 eV/atom\n",
       "                            (+0.043 eV/atom), Fe<sub>2</sub>O<sub>3</sub> (17) <br>\n",
       "                            -0.321 eV/atom (+0.014 eV/atom),\n",
       "                            Fe<sub>2</sub>O<sub>3</sub> (25) <br> -0.28 eV/atom\n",
       "                            (+0.055 eV/atom), Fe<sub>2</sub>O<sub>3</sub> (31) <br>\n",
       "                            -0.298 eV/atom (+0.037 eV/atom),\n",
       "                            Fe<sub>2</sub>O<sub>3</sub> (54) <br> -0.276 eV/atom\n",
       "                            (+0.059 eV/atom), Fe<sub>2</sub>O<sub>3</sub> (59) <br>\n",
       "                            -0.256 eV/atom (+0.079 eV/atom),\n",
       "                            Fe<sub>2</sub>O<sub>3</sub> (70) <br> -0.279 eV/atom\n",
       "                            (+0.056 eV/atom), Fe<sub>2</sub>O<sub>3</sub> (74) <br>\n",
       "                            -0.331 eV/atom (+0.004 eV/atom),\n",
       "                            Fe<sub>2</sub>O<sub>3</sub> (95) <br> -0.288 eV/atom\n",
       "                            (+0.047 eV/atom), Fe<sub>2</sub>O<sub>3</sub> (111)\n",
       "                            <br> -0.176 eV/atom (+0.159 eV/atom),\n",
       "                            Fe<sub>2</sub>O<sub>3</sub> (125) <br> -0.295 eV/atom\n",
       "                            (+0.04 eV/atom), Fe<sub>2</sub>O<sub>3</sub> (133) <br>\n",
       "                            -0.246 eV/atom (+0.089 eV/atom),\n",
       "                            Fe<sub>2</sub>O<sub>3</sub> (148) <br> -0.233 eV/atom\n",
       "                            (+0.102 eV/atom), Fe<sub>2</sub>O<sub>3</sub> (156)\n",
       "                            <br> -0.119 eV/atom (+0.217 eV/atom),\n",
       "                            Fe<sub>2</sub>O<sub>3</sub> (157) <br> -0.136 eV/atom\n",
       "                            (+0.199 eV/atom), Fe<sub>2</sub>O<sub>3</sub> (159)\n",
       "                            <br> -0.119 eV/atom (+0.216 eV/atom),\n",
       "                            Fe<sub>2</sub>O<sub>3</sub> (171) <br> -0.142 eV/atom\n",
       "                            (+0.193 eV/atom), Fe<sub>2</sub>C (8) <br> 0.041\n",
       "                            eV/atom (+0.041 eV/atom), Fe<sub>2</sub>C (121) <br>\n",
       "                            0.174 eV/atom (+0.174 eV/atom),\n",
       "                            Fe<sub>2</sub>CO<sub>5</sub> (147) <br> -0.525 eV/atom\n",
       "                            (+0.177 eV/atom),\n",
       "                            Fe<sub>2</sub>C<sub>2</sub>O<sub>7</sub> (77) <br>\n",
       "                            -0.822 eV/atom (+0.047 eV/atom),\n",
       "                            Fe<sub>2</sub>C<sub>2</sub>O<sub>7</sub> (84) <br>\n",
       "                            -0.811 eV/atom (+0.058 eV/atom),\n",
       "                            Fe<sub>2</sub>C<sub>2</sub>O<sub>7</sub> (86) <br>\n",
       "                            -0.804 eV/atom (+0.065 eV/atom),\n",
       "                            Fe<sub>2</sub>C<sub>2</sub>O<sub>7</sub> (88) <br>\n",
       "                            -0.823 eV/atom (+0.046 eV/atom),\n",
       "                            Fe<sub>2</sub>(CO<sub>3</sub>)<sub>3</sub> (85) <br>\n",
       "                            -0.927 eV/atom (+0.038 eV/atom),\n",
       "                            Fe<sub>3</sub>O<sub>4</sub> (14) <br> -0.19 eV/atom\n",
       "                            (+0.13 eV/atom), Fe<sub>3</sub>O<sub>4</sub> (16) <br>\n",
       "                            -0.232 eV/atom (+0.087 eV/atom),\n",
       "                            Fe<sub>3</sub>O<sub>4</sub> (22) <br> -0.239 eV/atom\n",
       "                            (+0.08 eV/atom), Fe<sub>3</sub>O<sub>4</sub> (24) <br>\n",
       "                            -0.132 eV/atom (+0.187 eV/atom),\n",
       "                            Fe<sub>3</sub>O<sub>4</sub> (26) <br> -0.233 eV/atom\n",
       "                            (+0.086 eV/atom), Fe<sub>3</sub>O<sub>4</sub> (47) <br>\n",
       "                            -0.115 eV/atom (+0.204 eV/atom),\n",
       "                            Fe<sub>3</sub>O<sub>4</sub> (53) <br> -0.24 eV/atom\n",
       "                            (+0.079 eV/atom), Fe<sub>3</sub>O<sub>4</sub> (56) <br>\n",
       "                            -0.152 eV/atom (+0.167 eV/atom),\n",
       "                            Fe<sub>3</sub>O<sub>4</sub> (69) <br> -0.184 eV/atom\n",
       "                            (+0.135 eV/atom), Fe<sub>3</sub>O<sub>4</sub> (72) <br>\n",
       "                            -0.188 eV/atom (+0.131 eV/atom),\n",
       "                            Fe<sub>3</sub>O<sub>4</sub> (73) <br> -0.234 eV/atom\n",
       "                            (+0.085 eV/atom), Fe<sub>3</sub>O<sub>4</sub> (75) <br>\n",
       "                            -0.233 eV/atom (+0.086 eV/atom),\n",
       "                            Fe<sub>3</sub>O<sub>4</sub> (76) <br> -0.237 eV/atom\n",
       "                            (+0.082 eV/atom), Fe<sub>3</sub>O<sub>4</sub> (127)\n",
       "                            <br> -0.16 eV/atom (+0.16 eV/atom),\n",
       "                            Fe<sub>3</sub>O<sub>4</sub> (128) <br> -0.236 eV/atom\n",
       "                            (+0.084 eV/atom), Fe<sub>3</sub>O<sub>4</sub> (129)\n",
       "                            <br> -0.163 eV/atom (+0.156 eV/atom),\n",
       "                            Fe<sub>3</sub>O<sub>4</sub> (130) <br> -0.25 eV/atom\n",
       "                            (+0.069 eV/atom), Fe<sub>3</sub>O<sub>4</sub> (132)\n",
       "                            <br> -0.245 eV/atom (+0.074 eV/atom),\n",
       "                            Fe<sub>3</sub>O<sub>4</sub> (135) <br> -0.245 eV/atom\n",
       "                            (+0.075 eV/atom), Fe<sub>3</sub>O<sub>4</sub> (136)\n",
       "                            <br> -0.243 eV/atom (+0.076 eV/atom),\n",
       "                            Fe<sub>3</sub>O<sub>4</sub> (139) <br> -0.241 eV/atom\n",
       "                            (+0.079 eV/atom), Fe<sub>3</sub>O<sub>4</sub> (143)\n",
       "                            <br> -0.189 eV/atom (+0.13 eV/atom),\n",
       "                            Fe<sub>3</sub>O<sub>4</sub> (164) <br> -0.242 eV/atom\n",
       "                            (+0.077 eV/atom), Fe<sub>3</sub>O<sub>4</sub> (168)\n",
       "                            <br> -0.239 eV/atom (+0.08 eV/atom),\n",
       "                            Fe<sub>3</sub>O<sub>4</sub> (169) <br> -0.24 eV/atom\n",
       "                            (+0.079 eV/atom), Fe<sub>3</sub>C (12) <br> 0.046\n",
       "                            eV/atom (+0.046 eV/atom), Fe<sub>3</sub>C (27) <br>\n",
       "                            0.042 eV/atom (+0.042 eV/atom), Fe<sub>3</sub>C (48)\n",
       "                            <br> 0.114 eV/atom (+0.114 eV/atom), Fe<sub>3</sub>C\n",
       "                            (138) <br> 0.238 eV/atom (+0.238 eV/atom),\n",
       "                            Fe<sub>3</sub>C (150) <br> 0.144 eV/atom (+0.144\n",
       "                            eV/atom), Fe<sub>3</sub>C (151) <br> 0.15 eV/atom\n",
       "                            (+0.15 eV/atom), Fe<sub>4</sub>O<sub>5</sub> (140) <br>\n",
       "                            -0.126 eV/atom (+0.185 eV/atom), Fe<sub>4</sub>C (109)\n",
       "                            <br> 0.275 eV/atom (+0.275 eV/atom), Fe<sub>4</sub>C\n",
       "                            (112) <br> 0.111 eV/atom (+0.111 eV/atom),\n",
       "                            Fe<sub>5</sub>O<sub>7</sub> (117) <br> -0.182 eV/atom\n",
       "                            (+0.144 eV/atom), Fe<sub>5</sub>O<sub>7</sub> (172)\n",
       "                            <br> -0.133 eV/atom (+0.193 eV/atom),\n",
       "                            Fe<sub>5</sub>O<sub>8</sub> (28) <br> -0.215 eV/atom\n",
       "                            (+0.107 eV/atom), Fe<sub>5</sub>O<sub>8</sub> (154)\n",
       "                            <br> -0.192 eV/atom (+0.13 eV/atom),\n",
       "                            Fe<sub>5</sub>O<sub>8</sub> (155) <br> -0.2 eV/atom\n",
       "                            (+0.122 eV/atom), Fe<sub>5</sub>C<sub>2</sub> (9) <br>\n",
       "                            0.044 eV/atom (+0.044 eV/atom),\n",
       "                            Fe<sub>5</sub>C<sub>2</sub> (52) <br> 0.046 eV/atom\n",
       "                            (+0.046 eV/atom), Fe<sub>7</sub>O<sub>8</sub> (23) <br>\n",
       "                            -0.046 eV/atom (+0.252 eV/atom),\n",
       "                            Fe<sub>7</sub>O<sub>8</sub> (71) <br> -0.047 eV/atom\n",
       "                            (+0.251 eV/atom), Fe<sub>7</sub>O<sub>9</sub> (63) <br>\n",
       "                            -0.037 eV/atom (+0.277 eV/atom),\n",
       "                            Fe<sub>7</sub>C<sub>3</sub> (13) <br> 0.063 eV/atom\n",
       "                            (+0.063 eV/atom), Fe<sub>7</sub>C<sub>3</sub> (19) <br>\n",
       "                            0.046 eV/atom (+0.046 eV/atom),\n",
       "                            Fe<sub>8</sub>O<sub>9</sub> (64) <br> -0.042 eV/atom\n",
       "                            (+0.254 eV/atom), Fe<sub>8</sub>O<sub>9</sub> (90) <br>\n",
       "                            -0.03 eV/atom (+0.266 eV/atom),\n",
       "                            Fe<sub>8</sub>O<sub>17</sub> (137) <br> 0.062 eV/atom\n",
       "                            (+0.33 eV/atom), Fe<sub>9</sub>O<sub>10</sub> (87) <br>\n",
       "                            -0.033 eV/atom (+0.261 eV/atom),\n",
       "                            Fe<sub>9</sub>O<sub>13</sub> (174) <br> -0.124 eV/atom\n",
       "                            (+0.206 eV/atom), Fe<sub>10</sub>O<sub>11</sub> (62)\n",
       "                            <br> -0.019 eV/atom (+0.273 eV/atom),\n",
       "                            Fe<sub>10</sub>O<sub>11</sub> (89) <br> -0.01 eV/atom\n",
       "                            (+0.283 eV/atom), Fe<sub>11</sub>O<sub>12</sub> (57)\n",
       "                            <br> -0.01 eV/atom (+0.281 eV/atom),\n",
       "                            Fe<sub>12</sub>O<sub>13</sub> (91) <br> -0.004 eV/atom\n",
       "                            (+0.286 eV/atom), Fe<sub>13</sub>O<sub>14</sub> (55)\n",
       "                            <br> 0.003 eV/atom (+0.293 eV/atom),\n",
       "                            Fe<sub>13</sub>O<sub>15</sub> (82) <br> -0.047 eV/atom\n",
       "                            (+0.253 eV/atom), Fe<sub>14</sub>O<sub>15</sub> (92)\n",
       "                            <br> 0.011 eV/atom (+0.3 eV/atom),\n",
       "                            Fe<sub>15</sub>O<sub>16</sub> (60) <br> 0.043 eV/atom\n",
       "                            (+0.332 eV/atom), Fe<sub>15</sub>O<sub>16</sub> (153)\n",
       "                            <br> 0.046 eV/atom (+0.334 eV/atom),\n",
       "                            Fe<sub>17</sub>O<sub>18</sub> (58) <br> 0.016 eV/atom\n",
       "                            (+0.303 eV/atom), Fe<sub>21</sub>O<sub>23</sub> (66)\n",
       "                            <br> -0.011 eV/atom (+0.281 eV/atom),\n",
       "                            Fe<sub>21</sub>O<sub>32</sub> (29) <br> -0.223 eV/atom\n",
       "                            (+0.109 eV/atom), Fe<sub>23</sub>O<sub>25</sub> (61)\n",
       "                            <br> -0.004 eV/atom (+0.287 eV/atom),\n",
       "                            Fe<sub>23</sub>O<sub>32</sub> (93) <br> -0.171 eV/atom\n",
       "                            (+0.154 eV/atom), Fe<sub>23</sub>O<sub>32</sub> (94)\n",
       "                            <br> -0.237 eV/atom (+0.087 eV/atom),\n",
       "                            Fe<sub>23</sub>C<sub>6</sub> (144) <br> 0.024 eV/atom\n",
       "                            (+0.024 eV/atom), Fe<sub>25</sub>O<sub>32</sub> (146)\n",
       "                            <br> -0.067 eV/atom (+0.246 eV/atom),\n",
       "                            Fe<sub>32</sub>O<sub>35</sub> (98) <br> -0.01 eV/atom\n",
       "                            (+0.282 eV/atom), Fe<sub>38</sub>O<sub>39</sub> (65)\n",
       "                            <br> 0.042 eV/atom (+0.325 eV/atom),\n",
       "                            Fe<sub>41</sub>O<sub>56</sub> (83) <br> -0.243 eV/atom\n",
       "                            (+0.079 eV/atom), Fe<sub>43</sub>O<sub>64</sub> (30)\n",
       "                            <br> -0.289 eV/atom (+0.045 eV/atom)],\n",
       "              'marker': {'color': [0.007, 0.113, 0.019, 0.016, 0.108, 0.03, 0.008,\n",
       "                                   0.063, 0.141, 0.001, 0.133, 0.003, 0.003, 0.003,\n",
       "                                   0.005, 0.004, 0.007, 0.136, 0.135, 0.004, 0.137,\n",
       "                                   0.136, 0.135, 0.008, 0.003, 0.003, 0.003, 0.003,\n",
       "                                   0.237, 0.33, 0.104, 0.323, 0.007, 0.015, 0.01,\n",
       "                                   0.301, 0.033, 0.016, 0.022, 0.01, 0.229, 0.103,\n",
       "                                   0.173, 0.199, 0.247, 0.113, 0.022, 0.108, 0.344,\n",
       "                                   0.387, 0.436, 0.436, 0.436, 0.335, 0.443, 0.577,\n",
       "                                   0.335, 0.335, 0.323, 0.215, 0.324, 0.198, 0.303,\n",
       "                                   0.331, 0.251, 0.228, 0.234, 0.323, 0.329, 0.321,\n",
       "                                   0.228, 0.319, 0.327, 0.01, 0.092, 0.091, 0.043,\n",
       "                                   0.014, 0.055, 0.037, 0.059, 0.079, 0.056, 0.004,\n",
       "                                   0.047, 0.159, 0.04, 0.089, 0.102, 0.217, 0.199,\n",
       "                                   0.216, 0.193, 0.041, 0.174, 0.177, 0.047, 0.058,\n",
       "                                   0.065, 0.046, 0.038, 0.13, 0.087, 0.08, 0.187,\n",
       "                                   0.086, 0.204, 0.079, 0.167, 0.135, 0.131, 0.085,\n",
       "                                   0.086, 0.082, 0.16, 0.084, 0.156, 0.069, 0.074,\n",
       "                                   0.075, 0.076, 0.079, 0.13, 0.077, 0.08, 0.079,\n",
       "                                   0.046, 0.042, 0.114, 0.238, 0.144, 0.15, 0.185,\n",
       "                                   0.275, 0.111, 0.144, 0.193, 0.107, 0.13, 0.122,\n",
       "                                   0.044, 0.046, 0.252, 0.251, 0.277, 0.063, 0.046,\n",
       "                                   0.254, 0.266, 0.33, 0.261, 0.206, 0.273, 0.283,\n",
       "                                   0.281, 0.286, 0.293, 0.253, 0.3, 0.332, 0.334,\n",
       "                                   0.303, 0.281, 0.109, 0.287, 0.154, 0.087, 0.024,\n",
       "                                   0.246, 0.282, 0.325, 0.079, 0.045],\n",
       "                         'colorbar': {'len': 0.5,\n",
       "                                      'thickness': 0.02,\n",
       "                                      'thicknessmode': 'fraction',\n",
       "                                      'title': {'text': 'Energy Above Hull<br>(eV/atom)'},\n",
       "                                      'x': 0,\n",
       "                                      'xpad': 0,\n",
       "                                      'y': 1,\n",
       "                                      'yanchor': 'top',\n",
       "                                      'ypad': 0},\n",
       "                         'colorscale': [[0.0, '#fff5e3'], [0.5, '#f24324'], [1.0,\n",
       "                                        '#c40000']],\n",
       "                         'line': {'color': 'black', 'width': 1},\n",
       "                         'opacity': 0.8,\n",
       "                         'size': 4,\n",
       "                         'symbol': 'diamond'},\n",
       "              'mode': 'markers',\n",
       "              'name': 'Above Hull',\n",
       "              'showlegend': True,\n",
       "              'type': 'scatterternary',\n",
       "              'uid': '7245e698-c61e-4c91-b384-b500f4c68d27'}],\n",
       "    'layout': {'autosize': True,\n",
       "               'coloraxis': {'colorbar': {'x': 1, 'y': 0.05, 'yanchor': 'top'}},\n",
       "               'height': 400,\n",
       "               'margin': {'b': 40, 'l': 20, 'r': 20, 't': 40},\n",
       "               'paper_bgcolor': 'rgba(0.9.,0.9.,0.9.,0.9)',\n",
       "               'plot_bgcolor': 'rgba(0,0,0,0)',\n",
       "               'showlegend': True,\n",
       "               'template': '...',\n",
       "               'ternary': {'aaxis': {'layer': 'below traces',\n",
       "                                     'showgrid': True,\n",
       "                                     'showticklabels': True,\n",
       "                                     'tickfont': {'color': 'rgba(0,0,0,0)', 'size': 7},\n",
       "                                     'title': {'font': {'size': 24}, 'text': 'Fe'}},\n",
       "                           'baxis': {'layer': 'below traces',\n",
       "                                     'min': 0,\n",
       "                                     'showgrid': True,\n",
       "                                     'showticklabels': True,\n",
       "                                     'tickfont': {'color': 'rgba(0,0,0,0)', 'size': 7},\n",
       "                                     'title': {'font': {'size': 24}, 'text': 'C'}},\n",
       "                           'caxis': {'layer': 'below traces',\n",
       "                                     'min': 0,\n",
       "                                     'showgrid': True,\n",
       "                                     'showticklabels': True,\n",
       "                                     'tickfont': {'color': 'rgba(0,0,0,0)', 'size': 7},\n",
       "                                     'title': {'font': {'size': 24}, 'text': 'O'}},\n",
       "                           'sum': 1},\n",
       "               'width': 800}\n",
       "})"
      ]
     },
     "metadata": {},
     "output_type": "display_data"
    },
    {
     "name": "stdout",
     "output_type": "stream",
     "text": [
      "Original Materials Project\n"
     ]
    },
    {
     "data": {
      "application/vnd.jupyter.widget-view+json": {
       "model_id": "1861e9c24ad246c0ba7331147547765f",
       "version_major": 2,
       "version_minor": 0
      },
      "text/plain": [
       "FigureWidget({\n",
       "    'data': [{'a': [0, 1.0, None, 0, 2.0, None, 4.0, 0, None, 0, 1.0, None, 0, 0,\n",
       "                    None, 2.0, 4.0, None, 0, 4.0, None, 4.0, 1.0, None, 0, 0, None,\n",
       "                    2.0, 1.0, None],\n",
       "              'b': [4.0, 0, None, 4.0, 2.0, None, 0, 0, None, 4.0, 0, None, 4.0,\n",
       "                    4.0, None, 2.0, 0, None, 4.0, 0, None, 0, 0, None, 4.0, 0,\n",
       "                    None, 2.0, 0, None],\n",
       "              'c': [8.0, 0, None, 8.0, 6.0, None, 6.0, 8.0, None, 0, 0, None, 8.0,\n",
       "                    0, None, 6.0, 6.0, None, 8.0, 6.0, None, 6.0, 0, None, 8.0,\n",
       "                    8.0, None, 6.0, 0, None],\n",
       "              'hoverinfo': 'none',\n",
       "              'line': {'color': 'black', 'width': 1.5},\n",
       "              'marker': {'size': 4},\n",
       "              'mode': 'lines',\n",
       "              'showlegend': False,\n",
       "              'type': 'scatterternary',\n",
       "              'uid': '9b995702-3cda-4bd0-9478-d1d7eaf11c07'},\n",
       "             {'a': [0, 0, 1.0],\n",
       "              'b': [4.0, 4.0, 0],\n",
       "              'c': [0, 8.0, 0],\n",
       "              'fill': 'toself',\n",
       "              'fillcolor': '#2E91E5',\n",
       "              'hovertemplate': '<extra></extra>',\n",
       "              'line': {'width': 0},\n",
       "              'marker': {'size': 4},\n",
       "              'mode': 'lines',\n",
       "              'name': 'C—CO<sub>2</sub>—Fe',\n",
       "              'opacity': 0.15,\n",
       "              'showlegend': False,\n",
       "              'type': 'scatterternary',\n",
       "              'uid': 'db1fcf87-f06a-44ee-b6dc-a087a16b44e3'},\n",
       "             {'a': [0, 4.0, 0],\n",
       "              'b': [4.0, 0, 0],\n",
       "              'c': [8.0, 6.0, 8.0],\n",
       "              'fill': 'toself',\n",
       "              'fillcolor': '#E15F99',\n",
       "              'hovertemplate': '<extra></extra>',\n",
       "              'line': {'width': 0},\n",
       "              'marker': {'size': 4},\n",
       "              'mode': 'lines',\n",
       "              'name': 'CO<sub>2</sub>—Fe<sub>2</sub>O<sub>3</sub>—O<sub>2</sub>',\n",
       "              'opacity': 0.15,\n",
       "              'showlegend': False,\n",
       "              'type': 'scatterternary',\n",
       "              'uid': '7a66ab6b-7312-448b-a43d-80f0eb4b8eb1'},\n",
       "             {'a': [1.0, 4.0, 2.0],\n",
       "              'b': [0, 0, 2.0],\n",
       "              'c': [0, 6.0, 6.0],\n",
       "              'fill': 'toself',\n",
       "              'fillcolor': '#1CA71C',\n",
       "              'hovertemplate': '<extra></extra>',\n",
       "              'line': {'width': 0},\n",
       "              'marker': {'size': 4},\n",
       "              'mode': 'lines',\n",
       "              'name': 'Fe—Fe<sub>2</sub>O<sub>3</sub>—FeCO<sub>3</sub>',\n",
       "              'opacity': 0.15,\n",
       "              'showlegend': False,\n",
       "              'type': 'scatterternary',\n",
       "              'uid': 'cd1670d5-4418-455e-b8c2-ca92c082c5d6'},\n",
       "             {'a': [0, 1.0, 2.0],\n",
       "              'b': [4.0, 0, 2.0],\n",
       "              'c': [8.0, 0, 6.0],\n",
       "              'fill': 'toself',\n",
       "              'fillcolor': '#FB0D0D',\n",
       "              'hovertemplate': '<extra></extra>',\n",
       "              'line': {'width': 0},\n",
       "              'marker': {'size': 4},\n",
       "              'mode': 'lines',\n",
       "              'name': 'CO<sub>2</sub>—Fe—FeCO<sub>3</sub>',\n",
       "              'opacity': 0.15,\n",
       "              'showlegend': False,\n",
       "              'type': 'scatterternary',\n",
       "              'uid': '032458ee-4777-4c6f-926a-caea56809b2d'},\n",
       "             {'a': [0, 4.0, 2.0],\n",
       "              'b': [4.0, 0, 2.0],\n",
       "              'c': [8.0, 6.0, 6.0],\n",
       "              'fill': 'toself',\n",
       "              'fillcolor': '#DA16FF',\n",
       "              'hovertemplate': '<extra></extra>',\n",
       "              'line': {'width': 0},\n",
       "              'marker': {'size': 4},\n",
       "              'mode': 'lines',\n",
       "              'name': 'CO<sub>2</sub>—Fe<sub>2</sub>O<sub>3</sub>—FeCO<sub>3</sub>',\n",
       "              'opacity': 0.15,\n",
       "              'showlegend': False,\n",
       "              'type': 'scatterternary',\n",
       "              'uid': '53dd7f46-4dc2-4797-94fd-968649e98550'},\n",
       "             {'a': [0, 1.0, 2.0, 4.0, 0, 0],\n",
       "              'b': [4.0, 0, 2.0, 0, 0, 4.0],\n",
       "              'c': [8.0, 0, 6.0, 6.0, 8.0, 0],\n",
       "              'cliponaxis': False,\n",
       "              'hoverinfo': 'text',\n",
       "              'hoverlabel': {'font': {'size': 14}},\n",
       "              'hovertext': [CO<sub>2</sub> (18) <br> -1.312 eV/atom (Stable), Fe\n",
       "                            (0) <br> 0.0 eV/atom (Stable), FeCO<sub>3</sub> (15)\n",
       "                            <br> -0.927 eV/atom (Stable),\n",
       "                            Fe<sub>2</sub>O<sub>3</sub> (17) <br> -0.392 eV/atom\n",
       "                            (Stable), O<sub>2</sub> (11) <br> 0.0 eV/atom (Stable),\n",
       "                            C (37) <br> 0.0 eV/atom (Stable)],\n",
       "              'marker': {'color': 'green', 'line': {'color': 'black', 'width': 2.0}, 'size': 4, 'symbol': 'circle'},\n",
       "              'mode': 'markers',\n",
       "              'name': 'Stable',\n",
       "              'showlegend': True,\n",
       "              'type': 'scatterternary',\n",
       "              'uid': 'e56abde6-da1f-4463-bceb-3d1305fce635'},\n",
       "             {'a': [0, 0, 0, 0, 0, 0, 0, 0, 0, 0, 0, 0, 0, 0, 0, 0, 0, 0, 0, 0, 0,\n",
       "                    0, 0, 0, 0, 0, 0, 0, 0, 0, 0, 0, 0, 0, 0, 0, 0, 0, 0, 0, 0,\n",
       "                    2.0, 1.0, 28.0, 100.0, 2.0, 4.0, 4.0, 2.0, 2.0, 8.0, 8.0, 4.0,\n",
       "                    4.0, 4.0, 64.0, 8.0, 16.0, 16.0, 64.0, 16.0, 8.0, 16.0, 16.0,\n",
       "                    4.0, 16.0, 4.0, 8.0, 32.0, 32.0, 32.0, 8.0, 4.0, 8.0, 8.0, 4.0,\n",
       "                    8.0, 8.0, 6.0, 4.0, 6.0, 6.0, 6.0, 12.0, 12.0, 6.0, 24.0, 24.0,\n",
       "                    12.0, 6.0, 12.0, 12.0, 12.0, 3.0, 12.0, 12.0, 12.0, 24.0, 24.0,\n",
       "                    24.0, 24.0, 12.0, 12.0, 12.0, 12.0, 6.0, 12.0, 12.0, 12.0,\n",
       "                    12.0, 12.0, 8.0, 4.0, 8.0, 5.0, 10.0, 20.0, 5.0, 5.0, 10.0,\n",
       "                    20.0, 14.0, 14.0, 28.0, 16.0, 8.0, 9.0, 9.0, 20.0, 10.0, 11.0,\n",
       "                    13.0, 21.0, 21.0, 23.0, 23.0, 23.0, 23.0, 41.0, 43.0],\n",
       "              'b': [0, 0, 0, 0, 0, 0, 0, 0, 4.0, 4.0, 2.0, 2.0, 4.0, 4.0, 2.0,\n",
       "                    8.0, 10.0, 14.0, 12.0, 8.0, 12.0, 16.0, 2.0, 2.0, 4.0, 2.0,\n",
       "                    4.0, 2.0, 8.0, 8.0, 71.0, 16.0, 2.0, 4.0, 2.0, 8.0, 2.0, 4.0,\n",
       "                    4.0, 8.0, 48.0, 0, 0, 0, 0, 0, 0, 0, 0, 0, 0, 0, 0, 8.0, 8.0,\n",
       "                    0, 0, 0, 0, 0, 0, 0, 0, 0, 0, 0, 0, 0, 0, 0, 0, 0, 2.0, 4.0,\n",
       "                    4.0, 4.0, 8.0, 8.0, 6.0, 6.0, 0, 0, 0, 0, 0, 0, 0, 0, 0, 0, 0,\n",
       "                    0, 0, 0, 0, 0, 0, 0, 0, 0, 0, 0, 0, 0, 0, 2.0, 4.0, 4.0, 4.0,\n",
       "                    4.0, 4.0, 0, 1.0, 2.0, 0, 0, 0, 0, 0, 4.0, 8.0, 0, 6.0, 12.0,\n",
       "                    0, 0, 0, 0, 0, 0, 0, 0, 0, 0, 0, 0, 0, 6.0, 0, 0],\n",
       "              'c': [2.0, 2.0, 2.0, 2.0, 4.0, 8.0, 8.0, 4.0, 0, 0, 0, 0, 0, 0, 0,\n",
       "                    0, 0, 0, 0, 0, 0, 0, 0, 0, 0, 0, 0, 0, 0, 0, 0, 0, 4.0, 8.0,\n",
       "                    4.0, 16.0, 4.0, 8.0, 8.0, 16.0, 36.0, 0, 0, 0, 0, 0, 0, 0, 4.0,\n",
       "                    4.0, 16.0, 16.0, 8.0, 24.0, 24.0, 96.0, 12.0, 24.0, 24.0, 96.0,\n",
       "                    24.0, 12.0, 24.0, 24.0, 6.0, 24.0, 6.0, 12.0, 48.0, 48.0, 48.0,\n",
       "                    12.0, 0, 0, 20.0, 14.0, 28.0, 28.0, 21.0, 18.0, 8.0, 8.0, 8.0,\n",
       "                    16.0, 16.0, 8.0, 32.0, 32.0, 16.0, 8.0, 16.0, 16.0, 16.0, 4.0,\n",
       "                    16.0, 16.0, 16.0, 32.0, 32.0, 32.0, 32.0, 16.0, 16.0, 16.0,\n",
       "                    16.0, 0, 0, 0, 0, 0, 0, 10.0, 0, 0, 7.0, 14.0, 32.0, 8.0, 8.0,\n",
       "                    0, 0, 16.0, 0, 0, 18.0, 9.0, 10.0, 13.0, 22.0, 11.0, 12.0,\n",
       "                    15.0, 23.0, 32.0, 25.0, 32.0, 32.0, 0, 56.0, 64.0],\n",
       "              'cliponaxis': False,\n",
       "              'hoverinfo': 'text',\n",
       "              'hoverlabel': {'font': {'size': 14}},\n",
       "              'hovertext': [O<sub>2</sub> (42) <br> 0.124 eV/atom (+0.124\n",
       "                            eV/atom), O<sub>2</sub> (43) <br> 0.012 eV/atom (+0.012\n",
       "                            eV/atom), O<sub>2</sub> (46) <br> 0.01 eV/atom (+0.01\n",
       "                            eV/atom), O<sub>2</sub> (105) <br> 0.002 eV/atom\n",
       "                            (+0.002 eV/atom), O<sub>2</sub> (108) <br> 0.126\n",
       "                            eV/atom (+0.126 eV/atom), O<sub>2</sub> (115) <br>\n",
       "                            0.018 eV/atom (+0.018 eV/atom), O<sub>2</sub> (116)\n",
       "                            <br> 0.001 eV/atom (+0.001 eV/atom), O<sub>2</sub>\n",
       "                            (126) <br> 0.03 eV/atom (+0.03 eV/atom), C (1) <br>\n",
       "                            0.162 eV/atom (+0.162 eV/atom), C (2) <br> 0.006\n",
       "                            eV/atom (+0.006 eV/atom), C (3) <br> 0.136 eV/atom\n",
       "                            (+0.136 eV/atom), C (6) <br> 0.001 eV/atom (+0.001\n",
       "                            eV/atom), C (34) <br> 0.006 eV/atom (+0.006 eV/atom), C\n",
       "                            (35) <br> 0.006 eV/atom (+0.006 eV/atom), C (36) <br>\n",
       "                            0.01 eV/atom (+0.01 eV/atom), C (38) <br> 0.028 eV/atom\n",
       "                            (+0.028 eV/atom), C (39) <br> 0.145 eV/atom (+0.145\n",
       "                            eV/atom), C (40) <br> 0.144 eV/atom (+0.144 eV/atom), C\n",
       "                            (41) <br> 0.008 eV/atom (+0.008 eV/atom), C (44) <br>\n",
       "                            0.146 eV/atom (+0.146 eV/atom), C (45) <br> 0.143\n",
       "                            eV/atom (+0.143 eV/atom), C (49) <br> 0.141 eV/atom\n",
       "                            (+0.141 eV/atom), C (50) <br> 0.012 eV/atom (+0.012\n",
       "                            eV/atom), C (99) <br> 0.004 eV/atom (+0.004 eV/atom), C\n",
       "                            (100) <br> 0.008 eV/atom (+0.008 eV/atom), C (101) <br>\n",
       "                            0.007 eV/atom (+0.007 eV/atom), C (103) <br> 0.008\n",
       "                            eV/atom (+0.008 eV/atom), C (106) <br> 0.008 eV/atom\n",
       "                            (+0.008 eV/atom), C (113) <br> 0.266 eV/atom (+0.266\n",
       "                            eV/atom), C (114) <br> 0.299 eV/atom (+0.299 eV/atom),\n",
       "                            C (118) <br> 0.116 eV/atom (+0.116 eV/atom), C (141)\n",
       "                            <br> 0.291 eV/atom (+0.291 eV/atom), CO<sub>2</sub>\n",
       "                            (10) <br> -1.305 eV/atom (+0.007 eV/atom),\n",
       "                            CO<sub>2</sub> (32) <br> -1.297 eV/atom (+0.015\n",
       "                            eV/atom), CO<sub>2</sub> (51) <br> -1.301 eV/atom\n",
       "                            (+0.011 eV/atom), CO<sub>2</sub> (102) <br> -1.015\n",
       "                            eV/atom (+0.297 eV/atom), CO<sub>2</sub> (110) <br>\n",
       "                            -1.281 eV/atom (+0.031 eV/atom), CO<sub>2</sub> (120)\n",
       "                            <br> -1.295 eV/atom (+0.017 eV/atom), CO<sub>2</sub>\n",
       "                            (134) <br> -1.294 eV/atom (+0.018 eV/atom),\n",
       "                            CO<sub>2</sub> (142) <br> -1.303 eV/atom (+0.009\n",
       "                            eV/atom), C<sub>4</sub>O<sub>3</sub> (104) <br> -0.607\n",
       "                            eV/atom (+0.236 eV/atom), Fe (4) <br> 0.098 eV/atom\n",
       "                            (+0.098 eV/atom), Fe (5) <br> 0.148 eV/atom (+0.148\n",
       "                            eV/atom), Fe (145) <br> 0.175 eV/atom (+0.175 eV/atom),\n",
       "                            Fe (160) <br> 0.279 eV/atom (+0.279 eV/atom), Fe (161)\n",
       "                            <br> 0.099 eV/atom (+0.099 eV/atom), Fe (162) <br>\n",
       "                            0.017 eV/atom (+0.017 eV/atom), Fe (163) <br> 0.055\n",
       "                            eV/atom (+0.055 eV/atom), FeO<sub>2</sub> (21) <br>\n",
       "                            -0.045 eV/atom (+0.282 eV/atom), FeO<sub>2</sub> (97)\n",
       "                            <br> -0.067 eV/atom (+0.26 eV/atom), FeO<sub>2</sub>\n",
       "                            (131) <br> -0.032 eV/atom (+0.295 eV/atom),\n",
       "                            FeO<sub>2</sub> (149) <br> -0.026 eV/atom (+0.301\n",
       "                            eV/atom), FeO<sub>2</sub> (175) <br> -0.033 eV/atom\n",
       "                            (+0.294 eV/atom), Fe(CO<sub>3</sub>)<sub>2</sub> (78)\n",
       "                            <br> -0.876 eV/atom (+0.107 eV/atom),\n",
       "                            Fe(CO<sub>3</sub>)<sub>2</sub> (167) <br> -0.874\n",
       "                            eV/atom (+0.109 eV/atom), Fe<sub>2</sub>O<sub>3</sub>\n",
       "                            (7) <br> -0.273 eV/atom (+0.119 eV/atom),\n",
       "                            Fe<sub>2</sub>O<sub>3</sub> (25) <br> -0.262 eV/atom\n",
       "                            (+0.131 eV/atom), Fe<sub>2</sub>O<sub>3</sub> (31) <br>\n",
       "                            -0.277 eV/atom (+0.116 eV/atom),\n",
       "                            Fe<sub>2</sub>O<sub>3</sub> (33) <br> -0.321 eV/atom\n",
       "                            (+0.071 eV/atom), Fe<sub>2</sub>O<sub>3</sub> (54) <br>\n",
       "                            -0.167 eV/atom (+0.225 eV/atom),\n",
       "                            Fe<sub>2</sub>O<sub>3</sub> (59) <br> -0.233 eV/atom\n",
       "                            (+0.16 eV/atom), Fe<sub>2</sub>O<sub>3</sub> (70) <br>\n",
       "                            -0.259 eV/atom (+0.134 eV/atom),\n",
       "                            Fe<sub>2</sub>O<sub>3</sub> (74) <br> -0.315 eV/atom\n",
       "                            (+0.077 eV/atom), Fe<sub>2</sub>O<sub>3</sub> (95) <br>\n",
       "                            -0.269 eV/atom (+0.123 eV/atom),\n",
       "                            Fe<sub>2</sub>O<sub>3</sub> (111) <br> -0.156 eV/atom\n",
       "                            (+0.236 eV/atom), Fe<sub>2</sub>O<sub>3</sub> (125)\n",
       "                            <br> -0.28 eV/atom (+0.113 eV/atom),\n",
       "                            Fe<sub>2</sub>O<sub>3</sub> (133) <br> -0.224 eV/atom\n",
       "                            (+0.168 eV/atom), Fe<sub>2</sub>O<sub>3</sub> (148)\n",
       "                            <br> -0.215 eV/atom (+0.177 eV/atom),\n",
       "                            Fe<sub>2</sub>O<sub>3</sub> (156) <br> -0.103 eV/atom\n",
       "                            (+0.29 eV/atom), Fe<sub>2</sub>O<sub>3</sub> (157) <br>\n",
       "                            -0.119 eV/atom (+0.274 eV/atom),\n",
       "                            Fe<sub>2</sub>O<sub>3</sub> (159) <br> -0.104 eV/atom\n",
       "                            (+0.289 eV/atom), Fe<sub>2</sub>O<sub>3</sub> (171)\n",
       "                            <br> -0.117 eV/atom (+0.275 eV/atom), Fe<sub>2</sub>C\n",
       "                            (8) <br> 0.059 eV/atom (+0.059 eV/atom),\n",
       "                            Fe<sub>2</sub>C (121) <br> 0.178 eV/atom (+0.178\n",
       "                            eV/atom), Fe<sub>2</sub>CO<sub>5</sub> (147) <br> -0.51\n",
       "                            eV/atom (+0.227 eV/atom),\n",
       "                            Fe<sub>2</sub>C<sub>2</sub>O<sub>7</sub> (77) <br>\n",
       "                            -0.806 eV/atom (+0.088 eV/atom),\n",
       "                            Fe<sub>2</sub>C<sub>2</sub>O<sub>7</sub> (84) <br>\n",
       "                            -0.798 eV/atom (+0.096 eV/atom),\n",
       "                            Fe<sub>2</sub>C<sub>2</sub>O<sub>7</sub> (86) <br>\n",
       "                            -0.818 eV/atom (+0.077 eV/atom),\n",
       "                            Fe<sub>2</sub>C<sub>2</sub>O<sub>7</sub> (88) <br>\n",
       "                            -0.827 eV/atom (+0.067 eV/atom),\n",
       "                            Fe<sub>2</sub>(CO<sub>3</sub>)<sub>3</sub> (85) <br>\n",
       "                            -0.922 eV/atom (+0.062 eV/atom),\n",
       "                            Fe<sub>3</sub>O<sub>4</sub> (14) <br> -0.177 eV/atom\n",
       "                            (+0.196 eV/atom), Fe<sub>3</sub>O<sub>4</sub> (16) <br>\n",
       "                            -0.27 eV/atom (+0.104 eV/atom),\n",
       "                            Fe<sub>3</sub>O<sub>4</sub> (22) <br> -0.269 eV/atom\n",
       "                            (+0.105 eV/atom), Fe<sub>3</sub>O<sub>4</sub> (24) <br>\n",
       "                            -0.119 eV/atom (+0.254 eV/atom),\n",
       "                            Fe<sub>3</sub>O<sub>4</sub> (26) <br> -0.211 eV/atom\n",
       "                            (+0.163 eV/atom), Fe<sub>3</sub>O<sub>4</sub> (47) <br>\n",
       "                            -0.108 eV/atom (+0.265 eV/atom),\n",
       "                            Fe<sub>3</sub>O<sub>4</sub> (53) <br> -0.226 eV/atom\n",
       "                            (+0.147 eV/atom), Fe<sub>3</sub>O<sub>4</sub> (56) <br>\n",
       "                            -0.14 eV/atom (+0.234 eV/atom),\n",
       "                            Fe<sub>3</sub>O<sub>4</sub> (69) <br> -0.172 eV/atom\n",
       "                            (+0.202 eV/atom), Fe<sub>3</sub>O<sub>4</sub> (72) <br>\n",
       "                            -0.175 eV/atom (+0.198 eV/atom),\n",
       "                            Fe<sub>3</sub>O<sub>4</sub> (73) <br> -0.207 eV/atom\n",
       "                            (+0.167 eV/atom), Fe<sub>3</sub>O<sub>4</sub> (75) <br>\n",
       "                            -0.207 eV/atom (+0.167 eV/atom),\n",
       "                            Fe<sub>3</sub>O<sub>4</sub> (76) <br> -0.21 eV/atom\n",
       "                            (+0.163 eV/atom), Fe<sub>3</sub>O<sub>4</sub> (127)\n",
       "                            <br> -0.162 eV/atom (+0.212 eV/atom),\n",
       "                            Fe<sub>3</sub>O<sub>4</sub> (128) <br> -0.21 eV/atom\n",
       "                            (+0.164 eV/atom), Fe<sub>3</sub>O<sub>4</sub> (129)\n",
       "                            <br> -0.153 eV/atom (+0.221 eV/atom),\n",
       "                            Fe<sub>3</sub>O<sub>4</sub> (130) <br> -0.245 eV/atom\n",
       "                            (+0.128 eV/atom), Fe<sub>3</sub>O<sub>4</sub> (132)\n",
       "                            <br> -0.237 eV/atom (+0.136 eV/atom),\n",
       "                            Fe<sub>3</sub>O<sub>4</sub> (135) <br> -0.161 eV/atom\n",
       "                            (+0.213 eV/atom), Fe<sub>3</sub>O<sub>4</sub> (136)\n",
       "                            <br> -0.233 eV/atom (+0.14 eV/atom),\n",
       "                            Fe<sub>3</sub>O<sub>4</sub> (139) <br> -0.227 eV/atom\n",
       "                            (+0.147 eV/atom), Fe<sub>3</sub>O<sub>4</sub> (143)\n",
       "                            <br> -0.177 eV/atom (+0.197 eV/atom),\n",
       "                            Fe<sub>3</sub>O<sub>4</sub> (164) <br> -0.262 eV/atom\n",
       "                            (+0.112 eV/atom), Fe<sub>3</sub>O<sub>4</sub> (168)\n",
       "                            <br> -0.257 eV/atom (+0.117 eV/atom),\n",
       "                            Fe<sub>3</sub>O<sub>4</sub> (169) <br> -0.224 eV/atom\n",
       "                            (+0.15 eV/atom), Fe<sub>3</sub>C (12) <br> 0.055\n",
       "                            eV/atom (+0.055 eV/atom), Fe<sub>3</sub>C (27) <br>\n",
       "                            0.056 eV/atom (+0.056 eV/atom), Fe<sub>3</sub>C (48)\n",
       "                            <br> 0.123 eV/atom (+0.123 eV/atom), Fe<sub>3</sub>C\n",
       "                            (138) <br> 0.277 eV/atom (+0.277 eV/atom),\n",
       "                            Fe<sub>3</sub>C (150) <br> 0.16 eV/atom (+0.16\n",
       "                            eV/atom), Fe<sub>3</sub>C (151) <br> 0.16 eV/atom\n",
       "                            (+0.16 eV/atom), Fe<sub>4</sub>O<sub>5</sub> (140) <br>\n",
       "                            -0.135 eV/atom (+0.229 eV/atom), Fe<sub>4</sub>C (109)\n",
       "                            <br> 0.278 eV/atom (+0.278 eV/atom), Fe<sub>4</sub>C\n",
       "                            (112) <br> 0.132 eV/atom (+0.132 eV/atom),\n",
       "                            Fe<sub>5</sub>O<sub>7</sub> (117) <br> -0.159 eV/atom\n",
       "                            (+0.222 eV/atom), Fe<sub>5</sub>O<sub>7</sub> (172)\n",
       "                            <br> -0.117 eV/atom (+0.265 eV/atom),\n",
       "                            Fe<sub>5</sub>O<sub>8</sub> (28) <br> -0.188 eV/atom\n",
       "                            (+0.19 eV/atom), Fe<sub>5</sub>O<sub>8</sub> (154) <br>\n",
       "                            -0.166 eV/atom (+0.212 eV/atom),\n",
       "                            Fe<sub>5</sub>O<sub>8</sub> (155) <br> -0.169 eV/atom\n",
       "                            (+0.208 eV/atom), Fe<sub>5</sub>C<sub>2</sub> (9) <br>\n",
       "                            0.059 eV/atom (+0.059 eV/atom),\n",
       "                            Fe<sub>5</sub>C<sub>2</sub> (52) <br> 0.061 eV/atom\n",
       "                            (+0.061 eV/atom), Fe<sub>7</sub>O<sub>8</sub> (71) <br>\n",
       "                            -0.075 eV/atom (+0.274 eV/atom),\n",
       "                            Fe<sub>7</sub>C<sub>3</sub> (13) <br> 0.08 eV/atom\n",
       "                            (+0.08 eV/atom), Fe<sub>7</sub>C<sub>3</sub> (19) <br>\n",
       "                            0.064 eV/atom (+0.064 eV/atom),\n",
       "                            Fe<sub>8</sub>O<sub>9</sub> (64) <br> -0.074 eV/atom\n",
       "                            (+0.272 eV/atom), Fe<sub>8</sub>O<sub>9</sub> (90) <br>\n",
       "                            -0.061 eV/atom (+0.285 eV/atom),\n",
       "                            Fe<sub>9</sub>O<sub>10</sub> (87) <br> -0.072 eV/atom\n",
       "                            (+0.272 eV/atom), Fe<sub>9</sub>O<sub>13</sub> (174)\n",
       "                            <br> -0.095 eV/atom (+0.292 eV/atom),\n",
       "                            Fe<sub>10</sub>O<sub>11</sub> (62) <br> -0.057 eV/atom\n",
       "                            (+0.286 eV/atom), Fe<sub>10</sub>O<sub>11</sub> (89)\n",
       "                            <br> -0.045 eV/atom (+0.298 eV/atom),\n",
       "                            Fe<sub>11</sub>O<sub>12</sub> (57) <br> -0.044 eV/atom\n",
       "                            (+0.297 eV/atom), Fe<sub>13</sub>O<sub>15</sub> (82)\n",
       "                            <br> -0.07 eV/atom (+0.28 eV/atom),\n",
       "                            Fe<sub>21</sub>O<sub>23</sub> (66) <br> -0.045 eV/atom\n",
       "                            (+0.297 eV/atom), Fe<sub>21</sub>O<sub>32</sub> (29)\n",
       "                            <br> -0.188 eV/atom (+0.201 eV/atom),\n",
       "                            Fe<sub>23</sub>O<sub>25</sub> (61) <br> -0.04 eV/atom\n",
       "                            (+0.301 eV/atom), Fe<sub>23</sub>O<sub>32</sub> (93)\n",
       "                            <br> -0.136 eV/atom (+0.244 eV/atom),\n",
       "                            Fe<sub>23</sub>O<sub>32</sub> (94) <br> -0.216 eV/atom\n",
       "                            (+0.165 eV/atom), Fe<sub>23</sub>C<sub>6</sub> (144)\n",
       "                            <br> 0.052 eV/atom (+0.052 eV/atom),\n",
       "                            Fe<sub>41</sub>O<sub>56</sub> (83) <br> -0.221 eV/atom\n",
       "                            (+0.157 eV/atom), Fe<sub>43</sub>O<sub>64</sub> (30)\n",
       "                            <br> -0.269 eV/atom (+0.122 eV/atom)],\n",
       "              'marker': {'color': [0.124, 0.012, 0.01, 0.002, 0.126, 0.018, 0.001,\n",
       "                                   0.03, 0.162, 0.006, 0.136, 0.001, 0.006, 0.006,\n",
       "                                   0.01, 0.028, 0.145, 0.144, 0.008, 0.146, 0.143,\n",
       "                                   0.141, 0.012, 0.004, 0.008, 0.007, 0.008, 0.008,\n",
       "                                   0.266, 0.299, 0.116, 0.291, 0.007, 0.015, 0.011,\n",
       "                                   0.297, 0.031, 0.017, 0.018, 0.009, 0.236, 0.098,\n",
       "                                   0.148, 0.175, 0.279, 0.099, 0.017, 0.055, 0.282,\n",
       "                                   0.26, 0.295, 0.301, 0.294, 0.107, 0.109, 0.119,\n",
       "                                   0.131, 0.116, 0.071, 0.225, 0.16, 0.134, 0.077,\n",
       "                                   0.123, 0.236, 0.113, 0.168, 0.177, 0.29, 0.274,\n",
       "                                   0.289, 0.275, 0.059, 0.178, 0.227, 0.088, 0.096,\n",
       "                                   0.077, 0.067, 0.062, 0.196, 0.104, 0.105, 0.254,\n",
       "                                   0.163, 0.265, 0.147, 0.234, 0.202, 0.198, 0.167,\n",
       "                                   0.167, 0.163, 0.212, 0.164, 0.221, 0.128, 0.136,\n",
       "                                   0.213, 0.14, 0.147, 0.197, 0.112, 0.117, 0.15,\n",
       "                                   0.055, 0.056, 0.123, 0.277, 0.16, 0.16, 0.229,\n",
       "                                   0.278, 0.132, 0.222, 0.265, 0.19, 0.212, 0.208,\n",
       "                                   0.059, 0.061, 0.274, 0.08, 0.064, 0.272, 0.285,\n",
       "                                   0.272, 0.292, 0.286, 0.298, 0.297, 0.28, 0.297,\n",
       "                                   0.201, 0.301, 0.244, 0.165, 0.052, 0.157, 0.122],\n",
       "                         'colorbar': {'len': 0.5,\n",
       "                                      'thickness': 0.02,\n",
       "                                      'thicknessmode': 'fraction',\n",
       "                                      'title': {'text': 'Energy Above Hull<br>(eV/atom)'},\n",
       "                                      'x': 0,\n",
       "                                      'xpad': 0,\n",
       "                                      'y': 1,\n",
       "                                      'yanchor': 'top',\n",
       "                                      'ypad': 0},\n",
       "                         'colorscale': [[0.0, '#fff5e3'], [0.5, '#f24324'], [1.0,\n",
       "                                        '#c40000']],\n",
       "                         'line': {'color': 'black', 'width': 1},\n",
       "                         'opacity': 0.8,\n",
       "                         'size': 4,\n",
       "                         'symbol': 'diamond'},\n",
       "              'mode': 'markers',\n",
       "              'name': 'Above Hull',\n",
       "              'showlegend': True,\n",
       "              'type': 'scatterternary',\n",
       "              'uid': '2b1538a5-3ea7-4999-95d4-dd411c69079f'}],\n",
       "    'layout': {'autosize': True,\n",
       "               'coloraxis': {'colorbar': {'x': 1, 'y': 0.05, 'yanchor': 'top'}},\n",
       "               'height': 400,\n",
       "               'margin': {'b': 40, 'l': 20, 'r': 20, 't': 40},\n",
       "               'paper_bgcolor': 'rgba(0.9.,0.9.,0.9.,0.9)',\n",
       "               'showlegend': True,\n",
       "               'template': '...',\n",
       "               'ternary': {'aaxis': {'layer': 'below traces',\n",
       "                                     'showgrid': True,\n",
       "                                     'showticklabels': True,\n",
       "                                     'tickfont': {'size': 7},\n",
       "                                     'title': {'font': {'size': 24}, 'text': 'Fe'}},\n",
       "                           'baxis': {'layer': 'below traces',\n",
       "                                     'min': 0,\n",
       "                                     'showgrid': True,\n",
       "                                     'showticklabels': True,\n",
       "                                     'tickfont': {'size': 7},\n",
       "                                     'title': {'font': {'size': 24}, 'text': 'C'}},\n",
       "                           'caxis': {'layer': 'below traces',\n",
       "                                     'min': 0,\n",
       "                                     'showgrid': True,\n",
       "                                     'showticklabels': True,\n",
       "                                     'tickfont': {'size': 7},\n",
       "                                     'title': {'font': {'size': 24}, 'text': 'O'}},\n",
       "                           'sum': 1},\n",
       "               'width': 800}\n",
       "})"
      ]
     },
     "metadata": {},
     "output_type": "display_data"
    }
   ],
   "source": [
    "pd = cs.get_phasediagram(pfpdf , energy = \"pfpene\")\n",
    "pfppdfig = cs.get_phasediagram_fig(pd, show_unstable=1 )\n",
    "print(\"pfp\")\n",
    "display (pfppdfig)\n",
    "print(\"Original Materials Project\")\n",
    "#1回上記で表示し　2回目の表示でなぜか綺麗（線青）になる\n",
    "display (m.pdfig) "
   ]
  },
  {
   "cell_type": "markdown",
   "id": "b221f150-4d7c-4ef3-a820-b92c511d793f",
   "metadata": {},
   "source": [
    "**Atomsオブジェクトアクセス方法**\n",
    "\n",
    "dfに入っているAtomsオブジェクトはプリミティブセルです。"
   ]
  },
  {
   "cell_type": "code",
   "execution_count": 8,
   "id": "c8d963b3-266c-464e-86c4-42cf4057826c",
   "metadata": {
    "tags": []
   },
   "outputs": [
    {
     "data": {
      "text/plain": [
       "Atoms(symbols='Fe', pbc=True, cell=[[2.577899217605591, 0.0, 0.0], [1.2889496088027954, 2.2325263023376465, 0.0], [1.2889496088027954, 0.744175374507904, 2.1048457622528076]], calculator=ASECalculator(...))"
      ]
     },
     "execution_count": 8,
     "metadata": {},
     "output_type": "execute_result"
    }
   ],
   "source": [
    "cands.loc[5].atoms"
   ]
  },
  {
   "cell_type": "markdown",
   "id": "0695648d-1e63-4e70-b0c5-84f504668391",
   "metadata": {},
   "source": [
    "conventional は以下のとおりアクセスします。"
   ]
  },
  {
   "cell_type": "code",
   "execution_count": 9,
   "id": "b155f648-272a-490b-a0b5-b4b95eafc21b",
   "metadata": {
    "tags": []
   },
   "outputs": [
    {
     "data": {
      "text/plain": [
       "[Atoms(symbols='Fe4', pbc=True, cell=[3.6457000078888497, 3.6457000078888497, 3.6457000078888497])]"
      ]
     },
     "execution_count": 9,
     "metadata": {},
     "output_type": "execute_result"
    }
   ],
   "source": [
    "cs.get_conventional(cands.loc[[5]])"
   ]
  },
  {
   "cell_type": "code",
   "execution_count": 10,
   "id": "ff93a47f-0cd9-4797-9c68-a951e9a33a67",
   "metadata": {
    "tags": []
   },
   "outputs": [
    {
     "data": {
      "text/html": [
       "<div>\n",
       "<style scoped>\n",
       "    .dataframe tbody tr th:only-of-type {\n",
       "        vertical-align: middle;\n",
       "    }\n",
       "\n",
       "    .dataframe tbody tr th {\n",
       "        vertical-align: top;\n",
       "    }\n",
       "\n",
       "    .dataframe thead th {\n",
       "        text-align: right;\n",
       "    }\n",
       "</style>\n",
       "<table border=\"1\" class=\"dataframe\">\n",
       "  <thead>\n",
       "    <tr style=\"text-align: right;\">\n",
       "      <th></th>\n",
       "      <th>material_id</th>\n",
       "      <th>pretty_formula</th>\n",
       "      <th>energy</th>\n",
       "      <th>e_above_hull</th>\n",
       "      <th>is_hubbard</th>\n",
       "      <th>elements</th>\n",
       "      <th>atoms</th>\n",
       "    </tr>\n",
       "  </thead>\n",
       "  <tbody>\n",
       "    <tr>\n",
       "      <th>0</th>\n",
       "      <td>mp-1</td>\n",
       "      <td>Cs</td>\n",
       "      <td>-0.856633</td>\n",
       "      <td>0.038770</td>\n",
       "      <td>False</td>\n",
       "      <td>[Cs]</td>\n",
       "      <td>(Atom('Cs', [0.0, 0.0, 0.0], index=0))</td>\n",
       "    </tr>\n",
       "    <tr>\n",
       "      <th>1</th>\n",
       "      <td>mp-2</td>\n",
       "      <td>Pd</td>\n",
       "      <td>-5.179882</td>\n",
       "      <td>0.000000</td>\n",
       "      <td>False</td>\n",
       "      <td>[Pd]</td>\n",
       "      <td>(Atom('Pd', [0.0, 0.0, 0.0], index=0))</td>\n",
       "    </tr>\n",
       "    <tr>\n",
       "      <th>2</th>\n",
       "      <td>mp-3</td>\n",
       "      <td>Cs</td>\n",
       "      <td>-1.598010</td>\n",
       "      <td>0.096397</td>\n",
       "      <td>False</td>\n",
       "      <td>[Cs]</td>\n",
       "      <td>(Atom('Cs', [3.6706762313842773, 3.38793683052...</td>\n",
       "    </tr>\n",
       "    <tr>\n",
       "      <th>3</th>\n",
       "      <td>mp-4</td>\n",
       "      <td>Nd</td>\n",
       "      <td>-4.628184</td>\n",
       "      <td>0.139959</td>\n",
       "      <td>False</td>\n",
       "      <td>[Nd]</td>\n",
       "      <td>(Atom('Nd', [0.0, 0.0, 0.0], index=0))</td>\n",
       "    </tr>\n",
       "    <tr>\n",
       "      <th>4</th>\n",
       "      <td>mp-7</td>\n",
       "      <td>S</td>\n",
       "      <td>-24.431696</td>\n",
       "      <td>0.064501</td>\n",
       "      <td>False</td>\n",
       "      <td>[S]</td>\n",
       "      <td>(Atom('S', [-2.1066184043884277, -2.1441278457...</td>\n",
       "    </tr>\n",
       "    <tr>\n",
       "      <th>...</th>\n",
       "      <td>...</td>\n",
       "      <td>...</td>\n",
       "      <td>...</td>\n",
       "      <td>...</td>\n",
       "      <td>...</td>\n",
       "      <td>...</td>\n",
       "      <td>...</td>\n",
       "    </tr>\n",
       "    <tr>\n",
       "      <th>139362</th>\n",
       "      <td>mvc-16821</td>\n",
       "      <td>CaCr2O4</td>\n",
       "      <td>-105.019547</td>\n",
       "      <td>0.107777</td>\n",
       "      <td>True</td>\n",
       "      <td>[Cr, O, Ca]</td>\n",
       "      <td>(Atom('Ca', [-1.5691694021224976, 1.5241652727...</td>\n",
       "    </tr>\n",
       "    <tr>\n",
       "      <th>139363</th>\n",
       "      <td>mvc-16832</td>\n",
       "      <td>V2ZnO4</td>\n",
       "      <td>-96.660103</td>\n",
       "      <td>0.161231</td>\n",
       "      <td>True</td>\n",
       "      <td>[Zn, O, V]</td>\n",
       "      <td>(Atom('V', [3.009662389755249, 0.0, 0.0], inde...</td>\n",
       "    </tr>\n",
       "    <tr>\n",
       "      <th>139364</th>\n",
       "      <td>mvc-16833</td>\n",
       "      <td>AlV2O4</td>\n",
       "      <td>-106.922005</td>\n",
       "      <td>0.207305</td>\n",
       "      <td>True</td>\n",
       "      <td>[O, V, Al]</td>\n",
       "      <td>(Atom('Al', [-1.4248672723770142, -1.519302725...</td>\n",
       "    </tr>\n",
       "    <tr>\n",
       "      <th>139365</th>\n",
       "      <td>mvc-16834</td>\n",
       "      <td>MgMn2O4</td>\n",
       "      <td>-98.566040</td>\n",
       "      <td>0.105475</td>\n",
       "      <td>True</td>\n",
       "      <td>[Mg, O, Mn]</td>\n",
       "      <td>(Atom('Mg', [0.0, 0.0, 0.0], index=0), Atom('M...</td>\n",
       "    </tr>\n",
       "    <tr>\n",
       "      <th>139366</th>\n",
       "      <td>mvc-16835</td>\n",
       "      <td>Mg(FeO2)2</td>\n",
       "      <td>-89.655792</td>\n",
       "      <td>0.142727</td>\n",
       "      <td>True</td>\n",
       "      <td>[Fe, Mg, O]</td>\n",
       "      <td>(Atom('Mg', [0.0, 0.0, 0.0], index=0), Atom('M...</td>\n",
       "    </tr>\n",
       "  </tbody>\n",
       "</table>\n",
       "<p>139367 rows × 7 columns</p>\n",
       "</div>"
      ],
      "text/plain": [
       "       material_id pretty_formula      energy  e_above_hull  is_hubbard  \\\n",
       "0             mp-1             Cs   -0.856633      0.038770       False   \n",
       "1             mp-2             Pd   -5.179882      0.000000       False   \n",
       "2             mp-3             Cs   -1.598010      0.096397       False   \n",
       "3             mp-4             Nd   -4.628184      0.139959       False   \n",
       "4             mp-7              S  -24.431696      0.064501       False   \n",
       "...            ...            ...         ...           ...         ...   \n",
       "139362   mvc-16821        CaCr2O4 -105.019547      0.107777        True   \n",
       "139363   mvc-16832         V2ZnO4  -96.660103      0.161231        True   \n",
       "139364   mvc-16833         AlV2O4 -106.922005      0.207305        True   \n",
       "139365   mvc-16834        MgMn2O4  -98.566040      0.105475        True   \n",
       "139366   mvc-16835      Mg(FeO2)2  -89.655792      0.142727        True   \n",
       "\n",
       "           elements                                              atoms  \n",
       "0              [Cs]             (Atom('Cs', [0.0, 0.0, 0.0], index=0))  \n",
       "1              [Pd]             (Atom('Pd', [0.0, 0.0, 0.0], index=0))  \n",
       "2              [Cs]  (Atom('Cs', [3.6706762313842773, 3.38793683052...  \n",
       "3              [Nd]             (Atom('Nd', [0.0, 0.0, 0.0], index=0))  \n",
       "4               [S]  (Atom('S', [-2.1066184043884277, -2.1441278457...  \n",
       "...             ...                                                ...  \n",
       "139362  [Cr, O, Ca]  (Atom('Ca', [-1.5691694021224976, 1.5241652727...  \n",
       "139363   [Zn, O, V]  (Atom('V', [3.009662389755249, 0.0, 0.0], inde...  \n",
       "139364   [O, V, Al]  (Atom('Al', [-1.4248672723770142, -1.519302725...  \n",
       "139365  [Mg, O, Mn]  (Atom('Mg', [0.0, 0.0, 0.0], index=0), Atom('M...  \n",
       "139366  [Fe, Mg, O]  (Atom('Mg', [0.0, 0.0, 0.0], index=0), Atom('M...  \n",
       "\n",
       "[139367 rows x 7 columns]"
      ]
     },
     "execution_count": 10,
     "metadata": {},
     "output_type": "execute_result"
    }
   ],
   "source": [
    "cs.df"
   ]
  },
  {
   "cell_type": "markdown",
   "id": "8c017ba6-8546-4c3d-93f7-c24b75b60a7a",
   "metadata": {},
   "source": [
    "DB全部にアクセスするには以下で可能です。"
   ]
  },
  {
   "cell_type": "code",
   "execution_count": 11,
   "id": "91a9bb5a-aca7-438e-a5a2-d6631d42cd70",
   "metadata": {
    "tags": []
   },
   "outputs": [
    {
     "data": {
      "text/html": [
       "<div>\n",
       "<style scoped>\n",
       "    .dataframe tbody tr th:only-of-type {\n",
       "        vertical-align: middle;\n",
       "    }\n",
       "\n",
       "    .dataframe tbody tr th {\n",
       "        vertical-align: top;\n",
       "    }\n",
       "\n",
       "    .dataframe thead th {\n",
       "        text-align: right;\n",
       "    }\n",
       "</style>\n",
       "<table border=\"1\" class=\"dataframe\">\n",
       "  <thead>\n",
       "    <tr style=\"text-align: right;\">\n",
       "      <th></th>\n",
       "      <th>material_id</th>\n",
       "      <th>pretty_formula</th>\n",
       "      <th>energy</th>\n",
       "      <th>e_above_hull</th>\n",
       "      <th>is_hubbard</th>\n",
       "      <th>elements</th>\n",
       "      <th>atoms</th>\n",
       "    </tr>\n",
       "  </thead>\n",
       "  <tbody>\n",
       "    <tr>\n",
       "      <th>0</th>\n",
       "      <td>mp-1</td>\n",
       "      <td>Cs</td>\n",
       "      <td>-0.856633</td>\n",
       "      <td>0.038770</td>\n",
       "      <td>False</td>\n",
       "      <td>[Cs]</td>\n",
       "      <td>(Atom('Cs', [0.0, 0.0, 0.0], index=0))</td>\n",
       "    </tr>\n",
       "    <tr>\n",
       "      <th>1</th>\n",
       "      <td>mp-2</td>\n",
       "      <td>Pd</td>\n",
       "      <td>-5.179882</td>\n",
       "      <td>0.000000</td>\n",
       "      <td>False</td>\n",
       "      <td>[Pd]</td>\n",
       "      <td>(Atom('Pd', [0.0, 0.0, 0.0], index=0))</td>\n",
       "    </tr>\n",
       "    <tr>\n",
       "      <th>2</th>\n",
       "      <td>mp-3</td>\n",
       "      <td>Cs</td>\n",
       "      <td>-1.598010</td>\n",
       "      <td>0.096397</td>\n",
       "      <td>False</td>\n",
       "      <td>[Cs]</td>\n",
       "      <td>(Atom('Cs', [3.6706762313842773, 3.38793683052...</td>\n",
       "    </tr>\n",
       "    <tr>\n",
       "      <th>3</th>\n",
       "      <td>mp-4</td>\n",
       "      <td>Nd</td>\n",
       "      <td>-4.628184</td>\n",
       "      <td>0.139959</td>\n",
       "      <td>False</td>\n",
       "      <td>[Nd]</td>\n",
       "      <td>(Atom('Nd', [0.0, 0.0, 0.0], index=0))</td>\n",
       "    </tr>\n",
       "    <tr>\n",
       "      <th>4</th>\n",
       "      <td>mp-7</td>\n",
       "      <td>S</td>\n",
       "      <td>-24.431696</td>\n",
       "      <td>0.064501</td>\n",
       "      <td>False</td>\n",
       "      <td>[S]</td>\n",
       "      <td>(Atom('S', [-2.1066184043884277, -2.1441278457...</td>\n",
       "    </tr>\n",
       "    <tr>\n",
       "      <th>...</th>\n",
       "      <td>...</td>\n",
       "      <td>...</td>\n",
       "      <td>...</td>\n",
       "      <td>...</td>\n",
       "      <td>...</td>\n",
       "      <td>...</td>\n",
       "      <td>...</td>\n",
       "    </tr>\n",
       "    <tr>\n",
       "      <th>139362</th>\n",
       "      <td>mvc-16821</td>\n",
       "      <td>CaCr2O4</td>\n",
       "      <td>-105.019547</td>\n",
       "      <td>0.107777</td>\n",
       "      <td>True</td>\n",
       "      <td>[Cr, O, Ca]</td>\n",
       "      <td>(Atom('Ca', [-1.5691694021224976, 1.5241652727...</td>\n",
       "    </tr>\n",
       "    <tr>\n",
       "      <th>139363</th>\n",
       "      <td>mvc-16832</td>\n",
       "      <td>V2ZnO4</td>\n",
       "      <td>-96.660103</td>\n",
       "      <td>0.161231</td>\n",
       "      <td>True</td>\n",
       "      <td>[Zn, O, V]</td>\n",
       "      <td>(Atom('V', [3.009662389755249, 0.0, 0.0], inde...</td>\n",
       "    </tr>\n",
       "    <tr>\n",
       "      <th>139364</th>\n",
       "      <td>mvc-16833</td>\n",
       "      <td>AlV2O4</td>\n",
       "      <td>-106.922005</td>\n",
       "      <td>0.207305</td>\n",
       "      <td>True</td>\n",
       "      <td>[O, V, Al]</td>\n",
       "      <td>(Atom('Al', [-1.4248672723770142, -1.519302725...</td>\n",
       "    </tr>\n",
       "    <tr>\n",
       "      <th>139365</th>\n",
       "      <td>mvc-16834</td>\n",
       "      <td>MgMn2O4</td>\n",
       "      <td>-98.566040</td>\n",
       "      <td>0.105475</td>\n",
       "      <td>True</td>\n",
       "      <td>[Mg, O, Mn]</td>\n",
       "      <td>(Atom('Mg', [0.0, 0.0, 0.0], index=0), Atom('M...</td>\n",
       "    </tr>\n",
       "    <tr>\n",
       "      <th>139366</th>\n",
       "      <td>mvc-16835</td>\n",
       "      <td>Mg(FeO2)2</td>\n",
       "      <td>-89.655792</td>\n",
       "      <td>0.142727</td>\n",
       "      <td>True</td>\n",
       "      <td>[Fe, Mg, O]</td>\n",
       "      <td>(Atom('Mg', [0.0, 0.0, 0.0], index=0), Atom('M...</td>\n",
       "    </tr>\n",
       "  </tbody>\n",
       "</table>\n",
       "<p>139367 rows × 7 columns</p>\n",
       "</div>"
      ],
      "text/plain": [
       "       material_id pretty_formula      energy  e_above_hull  is_hubbard  \\\n",
       "0             mp-1             Cs   -0.856633      0.038770       False   \n",
       "1             mp-2             Pd   -5.179882      0.000000       False   \n",
       "2             mp-3             Cs   -1.598010      0.096397       False   \n",
       "3             mp-4             Nd   -4.628184      0.139959       False   \n",
       "4             mp-7              S  -24.431696      0.064501       False   \n",
       "...            ...            ...         ...           ...         ...   \n",
       "139362   mvc-16821        CaCr2O4 -105.019547      0.107777        True   \n",
       "139363   mvc-16832         V2ZnO4  -96.660103      0.161231        True   \n",
       "139364   mvc-16833         AlV2O4 -106.922005      0.207305        True   \n",
       "139365   mvc-16834        MgMn2O4  -98.566040      0.105475        True   \n",
       "139366   mvc-16835      Mg(FeO2)2  -89.655792      0.142727        True   \n",
       "\n",
       "           elements                                              atoms  \n",
       "0              [Cs]             (Atom('Cs', [0.0, 0.0, 0.0], index=0))  \n",
       "1              [Pd]             (Atom('Pd', [0.0, 0.0, 0.0], index=0))  \n",
       "2              [Cs]  (Atom('Cs', [3.6706762313842773, 3.38793683052...  \n",
       "3              [Nd]             (Atom('Nd', [0.0, 0.0, 0.0], index=0))  \n",
       "4               [S]  (Atom('S', [-2.1066184043884277, -2.1441278457...  \n",
       "...             ...                                                ...  \n",
       "139362  [Cr, O, Ca]  (Atom('Ca', [-1.5691694021224976, 1.5241652727...  \n",
       "139363   [Zn, O, V]  (Atom('V', [3.009662389755249, 0.0, 0.0], inde...  \n",
       "139364   [O, V, Al]  (Atom('Al', [-1.4248672723770142, -1.519302725...  \n",
       "139365  [Mg, O, Mn]  (Atom('Mg', [0.0, 0.0, 0.0], index=0), Atom('M...  \n",
       "139366  [Fe, Mg, O]  (Atom('Mg', [0.0, 0.0, 0.0], index=0), Atom('M...  \n",
       "\n",
       "[139367 rows x 7 columns]"
      ]
     },
     "execution_count": 11,
     "metadata": {},
     "output_type": "execute_result"
    }
   ],
   "source": [
    "cs.df"
   ]
  },
  {
   "cell_type": "code",
   "execution_count": null,
   "id": "26f43115-3d50-4be5-9b33-c2b113a32375",
   "metadata": {},
   "outputs": [],
   "source": []
  }
 ],
 "metadata": {
  "kernelspec": {
   "display_name": "Python 3.9",
   "language": "python",
   "name": "python39"
  },
  "language_info": {
   "codemirror_mode": {
    "name": "ipython",
    "version": 3
   },
   "file_extension": ".py",
   "mimetype": "text/x-python",
   "name": "python",
   "nbconvert_exporter": "python",
   "pygments_lexer": "ipython3",
   "version": "3.9.16"
  },
  "widgets": {
   "application/vnd.jupyter.widget-state+json": {
    "state": {
     "001c51eefc294852b29bcc949a67044d": {
      "model_module": "@jupyter-widgets/base",
      "model_module_version": "1.2.0",
      "model_name": "LayoutModel",
      "state": {
       "grid_area": "widget080",
       "height": "22px",
       "width": "42px"
      }
     },
     "002df3a9103542a7831748f5342bf06b": {
      "model_module": "@jupyter-widgets/base",
      "model_module_version": "1.2.0",
      "model_name": "LayoutModel",
      "state": {
       "grid_area": "widget023",
       "height": "22px",
       "width": "42px"
      }
     },
     "009dc90b3eb14074a3ab86f6e3be093b": {
      "model_module": "@jupyter-widgets/controls",
      "model_module_version": "1.5.0",
      "model_name": "DescriptionStyleModel",
      "state": {
       "description_width": ""
      }
     },
     "00dff91b958a4d57a0bfd214de48457a": {
      "model_module": "@jupyter-widgets/controls",
      "model_module_version": "1.5.0",
      "model_name": "DescriptionStyleModel",
      "state": {
       "description_width": ""
      }
     },
     "02aedc0023844b8a91f557edcb4a48da": {
      "model_module": "@jupyter-widgets/controls",
      "model_module_version": "1.5.0",
      "model_name": "ToggleButtonModel",
      "state": {
       "description": "C",
       "layout": "IPY_MODEL_7d7351f959c44051be65cf5ccd2cd88e",
       "style": "IPY_MODEL_ccdfb3874c254268be33fd5ddf684edc"
      }
     },
     "030b29b86f3a47d8a1239d203c3be0ce": {
      "model_module": "@jupyter-widgets/base",
      "model_module_version": "1.2.0",
      "model_name": "LayoutModel",
      "state": {
       "grid_area": "widget101",
       "height": "22px",
       "width": "42px"
      }
     },
     "03fd12dedad24c3ba4e57116772f1a66": {
      "model_module": "@jupyter-widgets/controls",
      "model_module_version": "1.5.0",
      "model_name": "ToggleButtonModel",
      "state": {
       "description": "Fr",
       "layout": "IPY_MODEL_f8a69d0b44d046f393d5b595eade15e0",
       "style": "IPY_MODEL_a6ab2293748544999a249c4de0989405"
      }
     },
     "046f30e4f93844388851c6eec70a0a35": {
      "model_module": "@jupyter-widgets/controls",
      "model_module_version": "1.5.0",
      "model_name": "DescriptionStyleModel",
      "state": {
       "description_width": ""
      }
     },
     "04b0aa68d99f4e82863d4c31b85f4fb8": {
      "model_module": "@jupyter-widgets/base",
      "model_module_version": "1.2.0",
      "model_name": "LayoutModel",
      "state": {
       "grid_area": "widget075",
       "height": "22px",
       "width": "42px"
      }
     },
     "04e11a43d73a43dcb8732262161b42c1": {
      "model_module": "@jupyter-widgets/controls",
      "model_module_version": "1.5.0",
      "model_name": "ToggleButtonModel",
      "state": {
       "description": "Bh",
       "layout": "IPY_MODEL_6d779b1c935f4591a429340bf14923f1",
       "style": "IPY_MODEL_e521949e1e2943df9bd459a4ff24d6f0"
      }
     },
     "04f52a544e9b438a91e383589e0cccd0": {
      "model_module": "@jupyter-widgets/controls",
      "model_module_version": "1.5.0",
      "model_name": "ToggleButtonModel",
      "state": {
       "description": "Tb",
       "layout": "IPY_MODEL_f8deec53c75b4a58b584743aa7ca5615",
       "style": "IPY_MODEL_d19770a14a2a4edd9e2a61e0b7aff9e5"
      }
     },
     "0517bf75afff43d2b359bfbb09a82e6a": {
      "model_module": "@jupyter-widgets/controls",
      "model_module_version": "1.5.0",
      "model_name": "ToggleButtonModel",
      "state": {
       "description": "Gd",
       "layout": "IPY_MODEL_4576fc01dbf14757a450f24e88de737a",
       "style": "IPY_MODEL_0c35ce400bf04e16abf3f814980589c1"
      }
     },
     "06217cbb6740438cb246a1ccd53b0514": {
      "model_module": "@jupyter-widgets/base",
      "model_module_version": "1.2.0",
      "model_name": "LayoutModel",
      "state": {
       "grid_area": "widget029",
       "height": "22px",
       "width": "42px"
      }
     },
     "062657e7be5b4814aa13559f3640d0b2": {
      "model_module": "@jupyter-widgets/controls",
      "model_module_version": "1.5.0",
      "model_name": "ToggleButtonModel",
      "state": {
       "description": "Si",
       "layout": "IPY_MODEL_5c25a3dd31c741c587fbe1c01ca5fba8",
       "style": "IPY_MODEL_256d7e1bbb5a4e2baf2695fdff2632bc"
      }
     },
     "070f65c3d1a24a08b57aaba80270f4d5": {
      "model_module": "@jupyter-widgets/base",
      "model_module_version": "1.2.0",
      "model_name": "LayoutModel",
      "state": {
       "height": "450px"
      }
     },
     "0711bb1a9b744dab839f73a9dd271d64": {
      "model_module": "@jupyter-widgets/controls",
      "model_module_version": "1.5.0",
      "model_name": "DescriptionStyleModel",
      "state": {
       "description_width": ""
      }
     },
     "071d0e48df2449ea9cc55e73b3703916": {
      "model_module": "@jupyter-widgets/controls",
      "model_module_version": "1.5.0",
      "model_name": "DescriptionStyleModel",
      "state": {
       "description_width": ""
      }
     },
     "072550ada95b43a78f7e9c2d5144d614": {
      "model_module": "@jupyter-widgets/controls",
      "model_module_version": "1.5.0",
      "model_name": "ToggleButtonModel",
      "state": {
       "description": "Tm",
       "layout": "IPY_MODEL_072a698d6b444e1d9b3629c9d4244d49",
       "style": "IPY_MODEL_9caa42887b4b4c37b14c232d08615b67"
      }
     },
     "072a698d6b444e1d9b3629c9d4244d49": {
      "model_module": "@jupyter-widgets/base",
      "model_module_version": "1.2.0",
      "model_name": "LayoutModel",
      "state": {
       "grid_area": "widget069",
       "height": "22px",
       "width": "42px"
      }
     },
     "0741fcd85a744bd8a74eb4a97c5c564b": {
      "model_module": "@jupyter-widgets/controls",
      "model_module_version": "1.5.0",
      "model_name": "DescriptionStyleModel",
      "state": {
       "description_width": ""
      }
     },
     "07a4b86169a94092a85a8a533eaabc84": {
      "model_module": "@jupyter-widgets/base",
      "model_module_version": "1.2.0",
      "model_name": "LayoutModel",
      "state": {
       "grid_area": "widget093",
       "height": "22px",
       "width": "42px"
      }
     },
     "07e3b3b32ce645099465f45e4ccfa67c": {
      "model_module": "@jupyter-widgets/controls",
      "model_module_version": "1.5.0",
      "model_name": "DescriptionStyleModel",
      "state": {
       "description_width": ""
      }
     },
     "08928fff4b3b48aa9b67d1584f38dd12": {
      "model_module": "@jupyter-widgets/controls",
      "model_module_version": "1.5.0",
      "model_name": "ToggleButtonModel",
      "state": {
       "description": "Se",
       "layout": "IPY_MODEL_bc28f81b994b485ba5cd85cbe8e7b304",
       "style": "IPY_MODEL_5d0aa26b9d61486ea341be83c47e2f6d"
      }
     },
     "08c8b9c90b864434b6da638ad72537c4": {
      "model_module": "@jupyter-widgets/controls",
      "model_module_version": "1.5.0",
      "model_name": "DescriptionStyleModel",
      "state": {
       "description_width": ""
      }
     },
     "0a78edef86fd4b8cbd3da33b90237fc3": {
      "model_module": "@jupyter-widgets/controls",
      "model_module_version": "1.5.0",
      "model_name": "ToggleButtonModel",
      "state": {
       "description": "Er",
       "layout": "IPY_MODEL_8a604e4aa153452f83788ee02020a807",
       "style": "IPY_MODEL_ab3264b0fd92433ba961afea17bac6cc"
      }
     },
     "0b00782200da44328063ac97afff2c3e": {
      "model_module": "@jupyter-widgets/base",
      "model_module_version": "1.2.0",
      "model_name": "LayoutModel",
      "state": {
       "grid_area": "widget086",
       "height": "22px",
       "width": "42px"
      }
     },
     "0b629443583a4af9ab6d694fec989e91": {
      "model_module": "@jupyter-widgets/controls",
      "model_module_version": "1.5.0",
      "model_name": "ToggleButtonModel",
      "state": {
       "description": "Ac",
       "layout": "IPY_MODEL_a3ba372ad1fc4761a5ea0a3b1f025009",
       "style": "IPY_MODEL_7099607d2e8c49948b9f6ee1c9b31093"
      }
     },
     "0baf7ff5d81a41b08d5a92b03618e2f4": {
      "model_module": "@jupyter-widgets/controls",
      "model_module_version": "1.5.0",
      "model_name": "DescriptionStyleModel",
      "state": {
       "description_width": ""
      }
     },
     "0c35ce400bf04e16abf3f814980589c1": {
      "model_module": "@jupyter-widgets/controls",
      "model_module_version": "1.5.0",
      "model_name": "DescriptionStyleModel",
      "state": {
       "description_width": ""
      }
     },
     "0cb3705424ec469b8f6ca2e1bf6cd951": {
      "model_module": "@jupyter-widgets/base",
      "model_module_version": "1.2.0",
      "model_name": "LayoutModel",
      "state": {
       "grid_area": "widget096",
       "height": "22px",
       "width": "42px"
      }
     },
     "0e3de9ccf3824ecb9859707a507a77da": {
      "model_module": "@jupyter-widgets/base",
      "model_module_version": "1.2.0",
      "model_name": "LayoutModel",
      "state": {
       "grid_area": "widget053",
       "height": "22px",
       "width": "42px"
      }
     },
     "0ea01fd5103e47b8b70349d826f15a41": {
      "model_module": "@jupyter-widgets/controls",
      "model_module_version": "1.5.0",
      "model_name": "DescriptionStyleModel",
      "state": {
       "description_width": ""
      }
     },
     "0eb047c941f84917a8d62ad5cae81b1f": {
      "model_module": "@jupyter-widgets/base",
      "model_module_version": "1.2.0",
      "model_name": "LayoutModel",
      "state": {
       "grid_area": "widget059",
       "height": "22px",
       "width": "42px"
      }
     },
     "0fbcb775ee504637b6c4cbcd6a9e31e4": {
      "model_module": "@jupyter-widgets/controls",
      "model_module_version": "1.5.0",
      "model_name": "DescriptionStyleModel",
      "state": {
       "description_width": ""
      }
     },
     "1020aabbe7e145b38e5e4b538798707f": {
      "model_module": "@jupyter-widgets/controls",
      "model_module_version": "1.5.0",
      "model_name": "ToggleButtonModel",
      "state": {
       "description": "Pu",
       "layout": "IPY_MODEL_4c3ad3104b34414ca144f708c9b23223",
       "style": "IPY_MODEL_59317761c3a0491ba2b08f8cce9e9cc8"
      }
     },
     "1020d8533711413098ba0a2963abeefb": {
      "model_module": "@jupyter-widgets/controls",
      "model_module_version": "1.5.0",
      "model_name": "ButtonModel",
      "state": {
       "description": "clear",
       "layout": "IPY_MODEL_f41dda301101446580669d15110bbaf2",
       "style": "IPY_MODEL_a5a5fc193b2342589de4fd6b0fe40319"
      }
     },
     "107370bbbc234aa6a8e3501e2ae54d38": {
      "model_module": "@jupyter-widgets/controls",
      "model_module_version": "1.5.0",
      "model_name": "ToggleButtonModel",
      "state": {
       "description": "Sb",
       "layout": "IPY_MODEL_daf705c18e844fe487cb1dc0f0459bba",
       "style": "IPY_MODEL_15c36eac39854b848fdfe22f4cb58775"
      }
     },
     "109d81a45b0c471d96c050d1004de2ad": {
      "model_module": "@jupyter-widgets/controls",
      "model_module_version": "1.5.0",
      "model_name": "ToggleButtonModel",
      "state": {
       "description": "As",
       "layout": "IPY_MODEL_1a6cf64a37274ac987938c9fe3eafa88",
       "style": "IPY_MODEL_071d0e48df2449ea9cc55e73b3703916"
      }
     },
     "1213b6d2b2b84a4da3d15d21f1b44f33": {
      "model_module": "@jupyter-widgets/controls",
      "model_module_version": "1.5.0",
      "model_name": "DescriptionStyleModel",
      "state": {
       "description_width": ""
      }
     },
     "12a4bb3ec42247368b4700c41a88407b": {
      "model_module": "@jupyter-widgets/controls",
      "model_module_version": "1.5.0",
      "model_name": "DescriptionStyleModel",
      "state": {
       "description_width": ""
      }
     },
     "1354bbab3c114a688737fbf5faae1891": {
      "model_module": "@jupyter-widgets/controls",
      "model_module_version": "1.5.0",
      "model_name": "DescriptionStyleModel",
      "state": {
       "description_width": ""
      }
     },
     "1381890c9a59415c9fababd6e8e8bd2e": {
      "model_module": "@jupyter-widgets/controls",
      "model_module_version": "1.5.0",
      "model_name": "DescriptionStyleModel",
      "state": {
       "description_width": ""
      }
     },
     "139db7ef46ba436caa0a86c7e5424049": {
      "model_module": "@jupyter-widgets/controls",
      "model_module_version": "1.5.0",
      "model_name": "ToggleButtonModel",
      "state": {
       "description": "O",
       "layout": "IPY_MODEL_de267d80373a421f99989d37d3490be4",
       "style": "IPY_MODEL_b95ec30b1f894106969b292b370c5509"
      }
     },
     "144924d9041b45d2870fc732ab233260": {
      "model_module": "@jupyter-widgets/controls",
      "model_module_version": "1.5.0",
      "model_name": "DescriptionStyleModel",
      "state": {
       "description_width": ""
      }
     },
     "1471140487af4a248a7b9bde84ae7c26": {
      "model_module": "@jupyter-widgets/base",
      "model_module_version": "1.2.0",
      "model_name": "LayoutModel",
      "state": {}
     },
     "14d8bf7de39e4c2e98eafe17e5723cf4": {
      "model_module": "@jupyter-widgets/controls",
      "model_module_version": "1.5.0",
      "model_name": "ToggleButtonModel",
      "state": {
       "description": "Cr",
       "layout": "IPY_MODEL_93fd6541a0154bb4932ff0a48b988d64",
       "style": "IPY_MODEL_d1cfa09590b04778aa52ab6bc3bcb656"
      }
     },
     "1582374a0d6244ffb94e0eff4f143ede": {
      "model_module": "@jupyter-widgets/base",
      "model_module_version": "1.2.0",
      "model_name": "LayoutModel",
      "state": {
       "grid_area": "widget102",
       "height": "22px",
       "width": "42px"
      }
     },
     "15c36eac39854b848fdfe22f4cb58775": {
      "model_module": "@jupyter-widgets/controls",
      "model_module_version": "1.5.0",
      "model_name": "DescriptionStyleModel",
      "state": {
       "description_width": ""
      }
     },
     "1678bb6da8894f7ebffdbec3682ae779": {
      "model_module": "@jupyter-widgets/controls",
      "model_module_version": "1.5.0",
      "model_name": "ToggleButtonModel",
      "state": {
       "description": "Y",
       "layout": "IPY_MODEL_ed14e03eef184e319ead6c8509d7477b",
       "style": "IPY_MODEL_e4ecda4ff9f34d5f93c6323181a7fc4f"
      }
     },
     "16e93478d8d6466e87b9ca5f8c979a35": {
      "model_module": "@jupyter-widgets/base",
      "model_module_version": "1.2.0",
      "model_name": "LayoutModel",
      "state": {
       "grid_area": "widget083",
       "height": "22px",
       "width": "42px"
      }
     },
     "174421d3ee2147a79d3cdbf4eae88b54": {
      "model_module": "@jupyter-widgets/base",
      "model_module_version": "1.2.0",
      "model_name": "LayoutModel",
      "state": {
       "grid_area": "widget099",
       "height": "22px",
       "width": "42px"
      }
     },
     "1788231446f34d4085f4a2c6a928bca8": {
      "model_module": "@jupyter-widgets/base",
      "model_module_version": "1.2.0",
      "model_name": "LayoutModel",
      "state": {
       "grid_area": "widget037",
       "height": "22px",
       "width": "42px"
      }
     },
     "1a2acf6f53274620ad1225ca424225b8": {
      "model_module": "@jupyter-widgets/base",
      "model_module_version": "1.2.0",
      "model_name": "LayoutModel",
      "state": {
       "height": "27px",
       "width": "175px"
      }
     },
     "1a4b88beda5a4a25ab26f6a03aa3fb49": {
      "model_module": "@jupyter-widgets/controls",
      "model_module_version": "1.5.0",
      "model_name": "DescriptionStyleModel",
      "state": {
       "description_width": ""
      }
     },
     "1a6cf64a37274ac987938c9fe3eafa88": {
      "model_module": "@jupyter-widgets/base",
      "model_module_version": "1.2.0",
      "model_name": "LayoutModel",
      "state": {
       "grid_area": "widget033",
       "height": "22px",
       "width": "42px"
      }
     },
     "1bd50504a10640ed8f58a3ab932bf1ec": {
      "model_module": "@jupyter-widgets/controls",
      "model_module_version": "1.5.0",
      "model_name": "DescriptionStyleModel",
      "state": {
       "description_width": ""
      }
     },
     "1c85bd5571a74536b6570a2b0c5b9447": {
      "model_module": "@jupyter-widgets/controls",
      "model_module_version": "1.5.0",
      "model_name": "ToggleButtonModel",
      "state": {
       "description": "Ga",
       "layout": "IPY_MODEL_82d2b33256834a4cabf7e7fcf1cc9f00",
       "style": "IPY_MODEL_674c261e4dd74b1eb5a04ea3ff9b2d78"
      }
     },
     "1cf979e48ad44fe7b796fd27dbcbe6db": {
      "model_module": "@jupyter-widgets/base",
      "model_module_version": "1.2.0",
      "model_name": "LayoutModel",
      "state": {
       "grid_area": "widget078",
       "height": "22px",
       "width": "42px"
      }
     },
     "1e8e3abeb5f74fec8036aca5aa709179": {
      "model_module": "@jupyter-widgets/base",
      "model_module_version": "1.2.0",
      "model_name": "LayoutModel",
      "state": {
       "grid_area": "widget028",
       "height": "22px",
       "width": "42px"
      }
     },
     "1f711303cc4f417da3fcaa7ba28a4fbb": {
      "model_module": "@jupyter-widgets/controls",
      "model_module_version": "1.5.0",
      "model_name": "DescriptionStyleModel",
      "state": {
       "description_width": ""
      }
     },
     "2199f8b513cc49dfaf99eb4b2287c0f2": {
      "model_module": "@jupyter-widgets/base",
      "model_module_version": "1.2.0",
      "model_name": "LayoutModel",
      "state": {
       "grid_area": "widget105",
       "height": "22px",
       "width": "42px"
      }
     },
     "23269e9357f04ef3a7908d2b59af078c": {
      "model_module": "@jupyter-widgets/base",
      "model_module_version": "1.2.0",
      "model_name": "LayoutModel",
      "state": {
       "grid_area": "widget036",
       "height": "22px",
       "width": "42px"
      }
     },
     "24d8b859a6ed44c99f51718a24f0f3a8": {
      "model_module": "@jupyter-widgets/base",
      "model_module_version": "1.2.0",
      "model_name": "LayoutModel",
      "state": {
       "grid_area": "widget025",
       "height": "22px",
       "width": "42px"
      }
     },
     "256d7e1bbb5a4e2baf2695fdff2632bc": {
      "model_module": "@jupyter-widgets/controls",
      "model_module_version": "1.5.0",
      "model_name": "DescriptionStyleModel",
      "state": {
       "description_width": ""
      }
     },
     "2612195cb2274e5cb7c15011484b8338": {
      "model_module": "@jupyter-widgets/controls",
      "model_module_version": "1.5.0",
      "model_name": "ToggleButtonModel",
      "state": {
       "description": "Db",
       "layout": "IPY_MODEL_2199f8b513cc49dfaf99eb4b2287c0f2",
       "style": "IPY_MODEL_69a04ed8e8c94f1d8cd9d725296ba081"
      }
     },
     "261d25fe06be4ce6bdd0794b51bcd830": {
      "model_module": "@jupyter-widgets/base",
      "model_module_version": "1.2.0",
      "model_name": "LayoutModel",
      "state": {
       "grid_area": "widget009",
       "height": "22px",
       "width": "42px"
      }
     },
     "27ac0965be8545aab74525197f668758": {
      "model_module": "@jupyter-widgets/controls",
      "model_module_version": "1.5.0",
      "model_name": "BoxModel",
      "state": {
       "layout": "IPY_MODEL_070f65c3d1a24a08b57aaba80270f4d5"
      }
     },
     "27b5e2a4cd5a460885d866c827a2cb7a": {
      "model_module": "@jupyter-widgets/controls",
      "model_module_version": "1.5.0",
      "model_name": "DescriptionStyleModel",
      "state": {
       "description_width": ""
      }
     },
     "297adc868b704defbd020a88908e1282": {
      "model_module": "@jupyter-widgets/controls",
      "model_module_version": "1.5.0",
      "model_name": "DescriptionStyleModel",
      "state": {
       "description_width": ""
      }
     },
     "29b9daa73c1f4e3db1e66f46a1b6b8f1": {
      "model_module": "@jupyter-widgets/controls",
      "model_module_version": "1.5.0",
      "model_name": "ToggleButtonModel",
      "state": {
       "description": "Am",
       "layout": "IPY_MODEL_f38960e4987b445da15a8c2e0bb8457b",
       "style": "IPY_MODEL_9d8d9cec01534b00b2e37819d5f374bd"
      }
     },
     "29c9e5a34f784f5a82119fc5b0888459": {
      "model_module": "@jupyter-widgets/base",
      "model_module_version": "1.2.0",
      "model_name": "LayoutModel",
      "state": {
       "grid_area": "widget057",
       "height": "22px",
       "width": "42px"
      }
     },
     "2a1b664c6bae4b9fb0b53adb5ea5443d": {
      "model_module": "@jupyter-widgets/base",
      "model_module_version": "1.2.0",
      "model_name": "LayoutModel",
      "state": {
       "grid_area": "widget092",
       "height": "22px",
       "width": "42px"
      }
     },
     "2abaa10a1b604ac68980c97349a772f8": {
      "model_module": "@jupyter-widgets/controls",
      "model_module_version": "1.5.0",
      "model_name": "ToggleButtonModel",
      "state": {
       "description": "Ir",
       "layout": "IPY_MODEL_f1436ab874a74ce8ad12a6419ae841ba",
       "style": "IPY_MODEL_7cb65c7223fa43528843a86496b8708a"
      }
     },
     "2ae62e381e704d47a0dbf824b0395583": {
      "model_module": "@jupyter-widgets/controls",
      "model_module_version": "1.5.0",
      "model_name": "BoxModel",
      "state": {
       "layout": "IPY_MODEL_9562049b64604a30ab75c24bfa055169"
      }
     },
     "2b72aa87d25a4ce28be284056baaa78a": {
      "model_module": "@jupyter-widgets/controls",
      "model_module_version": "1.5.0",
      "model_name": "DescriptionStyleModel",
      "state": {
       "description_width": ""
      }
     },
     "2c513207ce154b7bba655d76d06226e5": {
      "model_module": "@jupyter-widgets/base",
      "model_module_version": "1.2.0",
      "model_name": "LayoutModel",
      "state": {
       "grid_area": "widget081",
       "height": "22px",
       "width": "42px"
      }
     },
     "2cc9d130559a4e958f62fd4b026a3622": {
      "model_module": "@jupyter-widgets/controls",
      "model_module_version": "1.5.0",
      "model_name": "DescriptionStyleModel",
      "state": {
       "description_width": ""
      }
     },
     "2dac5c3927d7487eaa9edafb6088f30f": {
      "model_module": "@jupyter-widgets/controls",
      "model_module_version": "1.5.0",
      "model_name": "ToggleButtonModel",
      "state": {
       "description": "V",
       "layout": "IPY_MODEL_002df3a9103542a7831748f5342bf06b",
       "style": "IPY_MODEL_a8b48959223f4f0b8915383fdc7eb791"
      }
     },
     "2de1f9a6312145c8a3bfad4164a65a02": {
      "model_module": "@jupyter-widgets/controls",
      "model_module_version": "1.5.0",
      "model_name": "DescriptionStyleModel",
      "state": {
       "description_width": ""
      }
     },
     "2ee9c137f69f4dc0a9581d39d9d599f1": {
      "model_module": "@jupyter-widgets/controls",
      "model_module_version": "1.5.0",
      "model_name": "VBoxModel",
      "state": {
       "children": [
        "IPY_MODEL_caf8bc74755c402586296146175115d8",
        "IPY_MODEL_4daa8a4981354bebb9b47ed605c2284d"
       ],
       "layout": "IPY_MODEL_1471140487af4a248a7b9bde84ae7c26"
      }
     },
     "2f5f72239d69428d856e2a56086fd12d": {
      "model_module": "@jupyter-widgets/controls",
      "model_module_version": "1.5.0",
      "model_name": "DescriptionStyleModel",
      "state": {
       "description_width": ""
      }
     },
     "2fc9608a5f3d49428ba63c55c8baae95": {
      "model_module": "@jupyter-widgets/controls",
      "model_module_version": "1.5.0",
      "model_name": "ToggleButtonModel",
      "state": {
       "description": "Es",
       "layout": "IPY_MODEL_174421d3ee2147a79d3cdbf4eae88b54",
       "style": "IPY_MODEL_f9e533c4a9b94de1a995a6451c132c64"
      }
     },
     "2fee02fb63ba41abb83e06635de647e4": {
      "model_module": "@jupyter-widgets/base",
      "model_module_version": "1.2.0",
      "model_name": "LayoutModel",
      "state": {
       "grid_area": "widget090",
       "height": "22px",
       "width": "42px"
      }
     },
     "2ff53bc1ec134f9c8e257309a01c5c8b": {
      "model_module": "@jupyter-widgets/base",
      "model_module_version": "1.2.0",
      "model_name": "LayoutModel",
      "state": {
       "grid_area": "widget063",
       "height": "22px",
       "width": "42px"
      }
     },
     "30bb2b8597034520bcefa3c5cc0d62c7": {
      "model_module": "@jupyter-widgets/base",
      "model_module_version": "1.2.0",
      "model_name": "LayoutModel",
      "state": {
       "grid_area": "widget004",
       "height": "22px",
       "width": "42px"
      }
     },
     "31dd4ab1a1754e628e256eb1c2875e53": {
      "model_module": "@jupyter-widgets/controls",
      "model_module_version": "1.5.0",
      "model_name": "ToggleButtonModel",
      "state": {
       "description": "Re",
       "layout": "IPY_MODEL_04b0aa68d99f4e82863d4c31b85f4fb8",
       "style": "IPY_MODEL_b76f822a06f34bf9ac934176a230d429"
      }
     },
     "32716ae6d8a54b708bd5f819f746ef9a": {
      "model_module": "@jupyter-widgets/base",
      "model_module_version": "1.2.0",
      "model_name": "LayoutModel",
      "state": {
       "grid_area": "widget032",
       "height": "22px",
       "width": "42px"
      }
     },
     "333b2e6047a04b3899f4640656aec901": {
      "model_module": "@jupyter-widgets/controls",
      "model_module_version": "1.5.0",
      "model_name": "DescriptionStyleModel",
      "state": {
       "description_width": ""
      }
     },
     "34184d87c72e450095eb652b7ea5a2db": {
      "model_module": "@jupyter-widgets/controls",
      "model_module_version": "1.5.0",
      "model_name": "DescriptionStyleModel",
      "state": {
       "description_width": ""
      }
     },
     "34b70b2b18f6490ca19d65e551f82541": {
      "model_module": "@jupyter-widgets/controls",
      "model_module_version": "1.5.0",
      "model_name": "DescriptionStyleModel",
      "state": {
       "description_width": ""
      }
     },
     "34eaf014a76e462aaba08f368ebbd790": {
      "model_module": "@jupyter-widgets/controls",
      "model_module_version": "1.5.0",
      "model_name": "DescriptionStyleModel",
      "state": {
       "description_width": ""
      }
     },
     "35c4cc7a26dc40bcb8465c37a82e7993": {
      "model_module": "@jupyter-widgets/controls",
      "model_module_version": "1.5.0",
      "model_name": "ToggleButtonModel",
      "state": {
       "description": "Cm",
       "layout": "IPY_MODEL_0cb3705424ec469b8f6ca2e1bf6cd951",
       "style": "IPY_MODEL_da43e08a906447a8b7901f6af5b5a5d5"
      }
     },
     "36a370b5ecee42a092ecdbc3309f4634": {
      "model_module": "@jupyter-widgets/base",
      "model_module_version": "1.2.0",
      "model_name": "LayoutModel",
      "state": {
       "grid_area": "widget010",
       "height": "22px",
       "width": "42px"
      }
     },
     "36e8049b513b4ea789d3259ea831cb35": {
      "model_module": "@jupyter-widgets/base",
      "model_module_version": "1.2.0",
      "model_name": "LayoutModel",
      "state": {
       "grid_area": "widget066",
       "height": "22px",
       "width": "42px"
      }
     },
     "37067802258a4dfa8811883afa39e162": {
      "model_module": "@jupyter-widgets/controls",
      "model_module_version": "1.5.0",
      "model_name": "ToggleButtonModel",
      "state": {
       "description": "Ra",
       "layout": "IPY_MODEL_dff24648bca94f9ebbef878075f622b3",
       "style": "IPY_MODEL_db050a7f30044a18ab1d364504ec2fb6"
      }
     },
     "3891e496df1144108ac7503ca6269a9e": {
      "model_module": "@jupyter-widgets/controls",
      "model_module_version": "1.5.0",
      "model_name": "ToggleButtonModel",
      "state": {
       "description": "Lu",
       "layout": "IPY_MODEL_d5d1cfe18b1a49fa9f0d0f3e15988564",
       "style": "IPY_MODEL_433527cb19534e5abfc8afdf9ad0b32a"
      }
     },
     "38a245941608454abb239778e87cbd98": {
      "model_module": "@jupyter-widgets/base",
      "model_module_version": "1.2.0",
      "model_name": "LayoutModel",
      "state": {
       "grid_area": "widget117",
       "height": "22px",
       "width": "42px"
      }
     },
     "38a835cf86524a6193c69e339ed3dedf": {
      "model_module": "@jupyter-widgets/base",
      "model_module_version": "1.2.0",
      "model_name": "LayoutModel",
      "state": {
       "grid_area": "widget098",
       "height": "22px",
       "width": "42px"
      }
     },
     "3901e1fd5ed44adb8de55524c44553e9": {
      "model_module": "@jupyter-widgets/controls",
      "model_module_version": "1.5.0",
      "model_name": "DescriptionStyleModel",
      "state": {
       "description_width": ""
      }
     },
     "3a9b92075bdc44ac94ee729c0ef463c9": {
      "model_module": "@jupyter-widgets/controls",
      "model_module_version": "1.5.0",
      "model_name": "ToggleButtonModel",
      "state": {
       "description": "Al",
       "layout": "IPY_MODEL_775e3674b5f342b18d7bf5f36023e49f",
       "style": "IPY_MODEL_0741fcd85a744bd8a74eb4a97c5c564b"
      }
     },
     "3aae782fc19a45ab9e23158a58c9f64a": {
      "model_module": "@jupyter-widgets/controls",
      "model_module_version": "1.5.0",
      "model_name": "ToggleButtonModel",
      "state": {
       "description": "Cd",
       "layout": "IPY_MODEL_f22e4f9c0640463aa77ba62d3bcd011d",
       "style": "IPY_MODEL_a7868b39683d4aedbc269cbc8d80b2db"
      }
     },
     "3b2415e825ee4a3db82a64ae4bf37f48": {
      "model_module": "@jupyter-widgets/base",
      "model_module_version": "1.2.0",
      "model_name": "LayoutModel",
      "state": {
       "grid_area": "widget005",
       "height": "22px",
       "width": "42px"
      }
     },
     "3b4104e9429d4189bd1c7236b51c8c20": {
      "model_module": "@jupyter-widgets/controls",
      "model_module_version": "1.5.0",
      "model_name": "ToggleButtonModel",
      "state": {
       "description": "No",
       "layout": "IPY_MODEL_1582374a0d6244ffb94e0eff4f143ede",
       "style": "IPY_MODEL_e8b5842c6c304e55bd855a5ae38a8a5e"
      }
     },
     "3cd716234d324fdaa9ef4dae66408a3b": {
      "model_module": "@jupyter-widgets/controls",
      "model_module_version": "1.5.0",
      "model_name": "ToggleButtonModel",
      "state": {
       "description": "Mc",
       "layout": "IPY_MODEL_59c1ec7f2ccc4076bb36a3a01cba1183",
       "style": "IPY_MODEL_7b4c40bbbd294efb91fe39ad39b721ff"
      }
     },
     "40b7e0be138b4621baa582b81d55fd72": {
      "model_module": "@jupyter-widgets/controls",
      "model_module_version": "1.5.0",
      "model_name": "DescriptionStyleModel",
      "state": {
       "description_width": ""
      }
     },
     "41b23211b6bf4b7cad854f68e1e72b99": {
      "model_module": "@jupyter-widgets/base",
      "model_module_version": "1.2.0",
      "model_name": "LayoutModel",
      "state": {
       "grid_area": "widget118",
       "height": "22px",
       "width": "42px"
      }
     },
     "41ce4c8dd50f4f95b60fe880a5a10086": {
      "model_module": "@jupyter-widgets/base",
      "model_module_version": "1.2.0",
      "model_name": "LayoutModel",
      "state": {}
     },
     "42deae176e25422d988cd70b41c0dade": {
      "model_module": "@jupyter-widgets/controls",
      "model_module_version": "1.5.0",
      "model_name": "ToggleButtonModel",
      "state": {
       "description": "Pb",
       "layout": "IPY_MODEL_565056e452f44348a6d43e744012fd6c",
       "style": "IPY_MODEL_2cc9d130559a4e958f62fd4b026a3622"
      }
     },
     "433527cb19534e5abfc8afdf9ad0b32a": {
      "model_module": "@jupyter-widgets/controls",
      "model_module_version": "1.5.0",
      "model_name": "DescriptionStyleModel",
      "state": {
       "description_width": ""
      }
     },
     "4392f12864874f55915992ea4d2cf9e5": {
      "model_module": "@jupyter-widgets/controls",
      "model_module_version": "1.5.0",
      "model_name": "ToggleButtonModel",
      "state": {
       "description": "Nh",
       "layout": "IPY_MODEL_c8a067411eec43138bf564f741ad294d",
       "style": "IPY_MODEL_2de1f9a6312145c8a3bfad4164a65a02"
      }
     },
     "4576fc01dbf14757a450f24e88de737a": {
      "model_module": "@jupyter-widgets/base",
      "model_module_version": "1.2.0",
      "model_name": "LayoutModel",
      "state": {
       "grid_area": "widget064",
       "height": "22px",
       "width": "42px"
      }
     },
     "4876698712ae4d5b9d80ad77444d08df": {
      "model_module": "@jupyter-widgets/controls",
      "model_module_version": "1.5.0",
      "model_name": "ToggleButtonModel",
      "state": {
       "description": "Sr",
       "layout": "IPY_MODEL_d9cd7590309e40e8a952936dd2db0a31",
       "style": "IPY_MODEL_dc0e512bf2694465aaa9441edb6eed90"
      }
     },
     "4945c92918b24921b8e5685e64e9235b": {
      "model_module": "@jupyter-widgets/controls",
      "model_module_version": "1.5.0",
      "model_name": "DescriptionStyleModel",
      "state": {
       "description_width": ""
      }
     },
     "494eb66ad4984cf9ac7aeeaec454ad29": {
      "model_module": "@jupyter-widgets/controls",
      "model_module_version": "1.5.0",
      "model_name": "HBoxModel",
      "state": {
       "children": [
        "IPY_MODEL_f987ea44a63743f2adb5a1a28ebeb1c8",
        "IPY_MODEL_513ca538e1654e77b1f9f692456e9410",
        "IPY_MODEL_4b202c81029c4e2daa43db532a5be035",
        "IPY_MODEL_61cb4c77b34049efbcb8d90e534b3429",
        "IPY_MODEL_1020d8533711413098ba0a2963abeefb",
        "IPY_MODEL_8715572a1ccc44fe9613478a1f48f6a3",
        "IPY_MODEL_723ffb0f69264453912365e3fa1c11c1"
       ],
       "layout": "IPY_MODEL_cf69e9834fc54672b4489f53328a80d3"
      }
     },
     "4b202c81029c4e2daa43db532a5be035": {
      "model_module": "@jupyter-widgets/controls",
      "model_module_version": "1.5.0",
      "model_name": "ButtonModel",
      "state": {
       "description": "search",
       "layout": "IPY_MODEL_f41dda301101446580669d15110bbaf2",
       "style": "IPY_MODEL_ec147622ee8046e1a31675a18d74a10e"
      }
     },
     "4c3ad3104b34414ca144f708c9b23223": {
      "model_module": "@jupyter-widgets/base",
      "model_module_version": "1.2.0",
      "model_name": "LayoutModel",
      "state": {
       "grid_area": "widget094",
       "height": "22px",
       "width": "42px"
      }
     },
     "4daa8a4981354bebb9b47ed605c2284d": {
      "model_module": "@jupyter-widgets/output",
      "model_module_version": "1.0.0",
      "model_name": "OutputModel",
      "state": {
       "layout": "IPY_MODEL_caa8dc9463bd4013a527120f36454e1c"
      }
     },
     "4db46bde21474a3b98ab717e3372d8e0": {
      "model_module": "@jupyter-widgets/base",
      "model_module_version": "1.2.0",
      "model_name": "LayoutModel",
      "state": {
       "grid_area": "widget116",
       "height": "22px",
       "width": "42px"
      }
     },
     "4f088adab2d247e2912146fed2b9cb6e": {
      "model_module": "@jupyter-widgets/base",
      "model_module_version": "1.2.0",
      "model_name": "LayoutModel",
      "state": {
       "grid_area": "widget002",
       "height": "22px",
       "width": "42px"
      }
     },
     "5139acef113d40249650c5d3b186e513": {
      "model_module": "@jupyter-widgets/controls",
      "model_module_version": "1.5.0",
      "model_name": "ToggleButtonModel",
      "state": {
       "description": "Th",
       "layout": "IPY_MODEL_2fee02fb63ba41abb83e06635de647e4",
       "style": "IPY_MODEL_f3ada395934a483c9aad914fdcf6018f"
      }
     },
     "513ca538e1654e77b1f9f692456e9410": {
      "model_module": "@jupyter-widgets/controls",
      "model_module_version": "1.5.0",
      "model_name": "BoundedFloatTextModel",
      "state": {
       "description": "hullabove<",
       "layout": "IPY_MODEL_1a2acf6f53274620ad1225ca424225b8",
       "step": 0.05,
       "style": "IPY_MODEL_6258b93800284e209d536f77304a9c7f",
       "value": 0.3
      }
     },
     "51f652980e654616ac540dae76cb935a": {
      "model_module": "@jupyter-widgets/base",
      "model_module_version": "1.2.0",
      "model_name": "LayoutModel",
      "state": {
       "grid_area": "widget114",
       "height": "22px",
       "width": "42px"
      }
     },
     "522cdbd81e9343b4a3ac71e0b5e98d8e": {
      "model_module": "@jupyter-widgets/base",
      "model_module_version": "1.2.0",
      "model_name": "LayoutModel",
      "state": {
       "grid_area": "widget070",
       "height": "22px",
       "width": "42px"
      }
     },
     "5446d551ec3940639e94436a69ef96fc": {
      "model_module": "@jupyter-widgets/controls",
      "model_module_version": "1.5.0",
      "model_name": "DescriptionStyleModel",
      "state": {
       "description_width": ""
      }
     },
     "54cd7693f2194b608dc6121e09e36354": {
      "model_module": "@jupyter-widgets/base",
      "model_module_version": "1.2.0",
      "model_name": "LayoutModel",
      "state": {
       "grid_area": "widget019",
       "height": "22px",
       "width": "42px"
      }
     },
     "54f6983dacf64e6880b2d9b3082c8fcc": {
      "model_module": "@jupyter-widgets/controls",
      "model_module_version": "1.5.0",
      "model_name": "DescriptionStyleModel",
      "state": {
       "description_width": ""
      }
     },
     "565056e452f44348a6d43e744012fd6c": {
      "model_module": "@jupyter-widgets/base",
      "model_module_version": "1.2.0",
      "model_name": "LayoutModel",
      "state": {
       "grid_area": "widget082",
       "height": "22px",
       "width": "42px"
      }
     },
     "56dfe50228fb48e7999e66f029d75aa1": {
      "model_module": "@jupyter-widgets/controls",
      "model_module_version": "1.5.0",
      "model_name": "ToggleButtonModel",
      "state": {
       "description": "Np",
       "layout": "IPY_MODEL_07a4b86169a94092a85a8a533eaabc84",
       "style": "IPY_MODEL_5e3cb52fdca04411b4043aac3c2581b2"
      }
     },
     "5761b367cca94ffdb7d619a28c158129": {
      "model_module": "@jupyter-widgets/base",
      "model_module_version": "1.2.0",
      "model_name": "LayoutModel",
      "state": {
       "grid_area": "widget007",
       "height": "22px",
       "width": "42px"
      }
     },
     "580acd8b9cc34e6280a4f2365399084e": {
      "model_module": "@jupyter-widgets/controls",
      "model_module_version": "1.5.0",
      "model_name": "ToggleButtonModel",
      "state": {
       "description": "Mo",
       "layout": "IPY_MODEL_6d9325e9966348798b236a764fcb4b45",
       "style": "IPY_MODEL_cb6c8de0241048f99748daaa0b827a03"
      }
     },
     "58159f6030744f568893065653f21192": {
      "model_module": "@jupyter-widgets/controls",
      "model_module_version": "1.5.0",
      "model_name": "ToggleButtonModel",
      "state": {
       "description": "I",
       "layout": "IPY_MODEL_0e3de9ccf3824ecb9859707a507a77da",
       "style": "IPY_MODEL_cbac69ed6bf54f72aa7105a17dbb1d1d"
      }
     },
     "59317761c3a0491ba2b08f8cce9e9cc8": {
      "model_module": "@jupyter-widgets/controls",
      "model_module_version": "1.5.0",
      "model_name": "DescriptionStyleModel",
      "state": {
       "description_width": ""
      }
     },
     "59adeb62e6a748559b253517f1cc6ffe": {
      "model_module": "@jupyter-widgets/controls",
      "model_module_version": "1.5.0",
      "model_name": "HBoxModel",
      "state": {
       "children": [
        "IPY_MODEL_2ae62e381e704d47a0dbf824b0395583",
        "IPY_MODEL_2ee9c137f69f4dc0a9581d39d9d599f1"
       ],
       "layout": "IPY_MODEL_41ce4c8dd50f4f95b60fe880a5a10086"
      }
     },
     "59c1ec7f2ccc4076bb36a3a01cba1183": {
      "model_module": "@jupyter-widgets/base",
      "model_module_version": "1.2.0",
      "model_name": "LayoutModel",
      "state": {
       "grid_area": "widget115",
       "height": "22px",
       "width": "42px"
      }
     },
     "59d788fd164242579b811800dc20e24e": {
      "model_module": "@jupyter-widgets/base",
      "model_module_version": "1.2.0",
      "model_name": "LayoutModel",
      "state": {
       "grid_area": "widget060",
       "height": "22px",
       "width": "42px"
      }
     },
     "5ad21a1c03b4492e986b186b2e129741": {
      "model_module": "@jupyter-widgets/controls",
      "model_module_version": "1.5.0",
      "model_name": "ToggleButtonModel",
      "state": {
       "description": "Xe",
       "layout": "IPY_MODEL_f977f044574d45d69757edd2d01bd7ac",
       "style": "IPY_MODEL_0baf7ff5d81a41b08d5a92b03618e2f4"
      }
     },
     "5b1eb815b29e4fe193e7a734b9a344db": {
      "model_module": "@jupyter-widgets/base",
      "model_module_version": "1.2.0",
      "model_name": "LayoutModel",
      "state": {}
     },
     "5c25a3dd31c741c587fbe1c01ca5fba8": {
      "model_module": "@jupyter-widgets/base",
      "model_module_version": "1.2.0",
      "model_name": "LayoutModel",
      "state": {
       "grid_area": "widget014",
       "height": "22px",
       "width": "42px"
      }
     },
     "5d0aa26b9d61486ea341be83c47e2f6d": {
      "model_module": "@jupyter-widgets/controls",
      "model_module_version": "1.5.0",
      "model_name": "DescriptionStyleModel",
      "state": {
       "description_width": ""
      }
     },
     "5e3cb52fdca04411b4043aac3c2581b2": {
      "model_module": "@jupyter-widgets/controls",
      "model_module_version": "1.5.0",
      "model_name": "DescriptionStyleModel",
      "state": {
       "description_width": ""
      }
     },
     "5ec33541e24a428a8782486af5be82e4": {
      "model_module": "@jupyter-widgets/controls",
      "model_module_version": "1.5.0",
      "model_name": "DescriptionStyleModel",
      "state": {
       "description_width": ""
      }
     },
     "5ed4dda7b7bd471994cf38bb592e0a3c": {
      "model_module": "@jupyter-widgets/base",
      "model_module_version": "1.2.0",
      "model_name": "LayoutModel",
      "state": {
       "grid_area": "widget047",
       "height": "22px",
       "width": "42px"
      }
     },
     "5ed5ff00ef3441959f99d9b7e1dea9ef": {
      "model_module": "@jupyter-widgets/controls",
      "model_module_version": "1.5.0",
      "model_name": "ToggleButtonModel",
      "state": {
       "description": "W",
       "layout": "IPY_MODEL_bdebc2dfeaab4083a2296107d2caf70c",
       "style": "IPY_MODEL_f9a3d5c48e184dde9f4ba10b52ea8a28"
      }
     },
     "5f0a2a23e22f49768d24f87c83b7d203": {
      "model_module": "@jupyter-widgets/base",
      "model_module_version": "1.2.0",
      "model_name": "LayoutModel",
      "state": {
       "grid_area": "widget017",
       "height": "22px",
       "width": "42px"
      }
     },
     "5fd42dc20d594a80b7c9eef0e6cb5462": {
      "model_module": "@jupyter-widgets/controls",
      "model_module_version": "1.5.0",
      "model_name": "ToggleButtonModel",
      "state": {
       "description": "In",
       "layout": "IPY_MODEL_cf88121ba87b47c1885a60b4a29139b0",
       "style": "IPY_MODEL_f3194c276c764f308bef75951ce782b9"
      }
     },
     "5fe95f673a6642239e835660fc82ece3": {
      "model_module": "@jupyter-widgets/controls",
      "model_module_version": "1.5.0",
      "model_name": "GridBoxModel",
      "state": {
       "children": [
        "IPY_MODEL_efe1068e0b5a4f36a13e04e9ad02bf3c",
        "IPY_MODEL_ec296d827d584f2f94cc6ad0a11234f9",
        "IPY_MODEL_fb8077361dc94c6187fa46a0bbce0114",
        "IPY_MODEL_6eeece931e1d411fb1a8efc58752a1fc",
        "IPY_MODEL_c3718a89b5934b8b95099d710385a29b",
        "IPY_MODEL_02aedc0023844b8a91f557edcb4a48da",
        "IPY_MODEL_d51b4eed7d544e34a083fee64f9a873a",
        "IPY_MODEL_139db7ef46ba436caa0a86c7e5424049",
        "IPY_MODEL_f91bc0955e4944aa86b74c7e49366745",
        "IPY_MODEL_9f974d66c4c348168dcded02890e922b",
        "IPY_MODEL_628ca4362b6241a296da67d55e707db1",
        "IPY_MODEL_fcdbc0dd397d439c801d3bb26c846d7f",
        "IPY_MODEL_3a9b92075bdc44ac94ee729c0ef463c9",
        "IPY_MODEL_062657e7be5b4814aa13559f3640d0b2",
        "IPY_MODEL_d981d7c4bec447ab8621e7ec94218e97",
        "IPY_MODEL_8c3f328435e54509a474c9390be3f998",
        "IPY_MODEL_bb5890d0364249ef9ebc972523a463fa",
        "IPY_MODEL_79556ed5d02d4fa885d74b276064b2ff",
        "IPY_MODEL_e0d7aee821c548c38c4a62167bfdde19",
        "IPY_MODEL_de8d3a689ffe420cb87bedd3a6ba5a10",
        "IPY_MODEL_e3e244440130470faf84518fa9b93ac3",
        "IPY_MODEL_b55e861ee3294aceb53db3ab105f6878",
        "IPY_MODEL_2dac5c3927d7487eaa9edafb6088f30f",
        "IPY_MODEL_14d8bf7de39e4c2e98eafe17e5723cf4",
        "IPY_MODEL_7072240de0324208a799591b51792622",
        "IPY_MODEL_7a5c3ad89691458da6afd2483e31b234",
        "IPY_MODEL_e4d7fc68dc494f4a9729a381bb7a1025",
        "IPY_MODEL_d5022c7fa27f453987331a06be4caf3f",
        "IPY_MODEL_f5f25acba86142b1a6a81a5dfbe25a56",
        "IPY_MODEL_bf91e3815702409fb5e135149999369d",
        "IPY_MODEL_1c85bd5571a74536b6570a2b0c5b9447",
        "IPY_MODEL_e5e2c28eb7db42e49f81564f66bba0e0",
        "IPY_MODEL_109d81a45b0c471d96c050d1004de2ad",
        "IPY_MODEL_08928fff4b3b48aa9b67d1584f38dd12",
        "IPY_MODEL_b1635c9284484b728f3df29d4506b866",
        "IPY_MODEL_84184fecd6964507be80b47f47403616",
        "IPY_MODEL_749e25dea8634c8b9170fa6659854643",
        "IPY_MODEL_4876698712ae4d5b9d80ad77444d08df",
        "IPY_MODEL_1678bb6da8894f7ebffdbec3682ae779",
        "IPY_MODEL_a0772ba6add045b98fb9c1bc35159145",
        "IPY_MODEL_ece3e01b5ba04104a087e87ce206e788",
        "IPY_MODEL_580acd8b9cc34e6280a4f2365399084e",
        "IPY_MODEL_f30bca9c678449b9b0b50bdf7ece528b",
        "IPY_MODEL_d14513bb1186415584c7db1529649bd6",
        "IPY_MODEL_cfa5f61114f24174bf93d8256991b6ea",
        "IPY_MODEL_b94ccd35f7964eadbfae3e64f439de97",
        "IPY_MODEL_fe7518f38a1447cfba74dcfabf5dc9f8",
        "IPY_MODEL_3aae782fc19a45ab9e23158a58c9f64a",
        "IPY_MODEL_5fd42dc20d594a80b7c9eef0e6cb5462",
        "IPY_MODEL_fdbe716485f04858869fea82f2cade1b",
        "IPY_MODEL_107370bbbc234aa6a8e3501e2ae54d38",
        "IPY_MODEL_9b896b14400b481fb2f1d35d2b58a840",
        "IPY_MODEL_58159f6030744f568893065653f21192",
        "IPY_MODEL_5ad21a1c03b4492e986b186b2e129741",
        "IPY_MODEL_92b59ca9b58049dc81ece074c72563dc",
        "IPY_MODEL_e867e5677eca4daabe16526f35013d2a",
        "IPY_MODEL_77929892883a4052a966f8a2c2a2bcc8",
        "IPY_MODEL_fb8c267cb4b448ebb301dd714b1612f8",
        "IPY_MODEL_e7ce33fb53934c2889f8fe02e622e572",
        "IPY_MODEL_f67db886b3244ec1b874371052350b6f",
        "IPY_MODEL_7c648c08f3ef426a89534a559b7b9d03",
        "IPY_MODEL_f347f50a848340e196779f57c3a635a4",
        "IPY_MODEL_cb37ce47dd2d448e961e83be942075be",
        "IPY_MODEL_0517bf75afff43d2b359bfbb09a82e6a",
        "IPY_MODEL_04f52a544e9b438a91e383589e0cccd0",
        "IPY_MODEL_f522985a3673436882658d1b750efca7",
        "IPY_MODEL_8781231acb2944e5b13cde594de44a7e",
        "IPY_MODEL_0a78edef86fd4b8cbd3da33b90237fc3",
        "IPY_MODEL_072550ada95b43a78f7e9c2d5144d614",
        "IPY_MODEL_799e925bc44143da8b68bfc8d575e112",
        "IPY_MODEL_3891e496df1144108ac7503ca6269a9e",
        "IPY_MODEL_8dbc14cd1f80485c9b3482b2b6614ed2",
        "IPY_MODEL_90ea3d0cb0e448d89c877061eb626277",
        "IPY_MODEL_5ed5ff00ef3441959f99d9b7e1dea9ef",
        "IPY_MODEL_31dd4ab1a1754e628e256eb1c2875e53",
        "IPY_MODEL_7b0e2949d9184b63b19c341ef69b3072",
        "IPY_MODEL_2abaa10a1b604ac68980c97349a772f8",
        "IPY_MODEL_e0edafc06d3d4f418bb3e62d693b5d54",
        "IPY_MODEL_bb5a06f6ae2b4372b8bc5dc4c5dcc5fa",
        "IPY_MODEL_69a31c67760f4b7e9cfd208b340bef03",
        "IPY_MODEL_6b0524918ee04cf8ae7e800c1d06116f",
        "IPY_MODEL_42deae176e25422d988cd70b41c0dade",
        "IPY_MODEL_76496747d6894813955abcc2b33290e8",
        "IPY_MODEL_c0b4c1ef21eb41ba8563ff7700d2f83b",
        "IPY_MODEL_644adf521a3b4a398e2f30edc6420713",
        "IPY_MODEL_77220ef04637478c94a577ed5db9877a",
        "IPY_MODEL_03fd12dedad24c3ba4e57116772f1a66",
        "IPY_MODEL_37067802258a4dfa8811883afa39e162",
        "IPY_MODEL_0b629443583a4af9ab6d694fec989e91",
        "IPY_MODEL_5139acef113d40249650c5d3b186e513",
        "IPY_MODEL_a4fc72a9de734201af7cee3196332b38",
        "IPY_MODEL_7b66ef0667234a579a71908fb1239923",
        "IPY_MODEL_56dfe50228fb48e7999e66f029d75aa1",
        "IPY_MODEL_1020aabbe7e145b38e5e4b538798707f",
        "IPY_MODEL_29b9daa73c1f4e3db1e66f46a1b6b8f1",
        "IPY_MODEL_35c4cc7a26dc40bcb8465c37a82e7993",
        "IPY_MODEL_b30ecc2b373a436ea86c4e85db64508a",
        "IPY_MODEL_69589c69ae004b5c94c6a0b166c48ec1",
        "IPY_MODEL_2fc9608a5f3d49428ba63c55c8baae95",
        "IPY_MODEL_6ea78f5dfa1a43109f9a96844383c812",
        "IPY_MODEL_d0d43a05c3694dc981ae0b000eea572a",
        "IPY_MODEL_3b4104e9429d4189bd1c7236b51c8c20",
        "IPY_MODEL_b37971f150a347dfade436134c6046e8",
        "IPY_MODEL_f48bdc7526a44ddc9568c5cee44e6e26",
        "IPY_MODEL_2612195cb2274e5cb7c15011484b8338",
        "IPY_MODEL_69f90447ac104722be7dacfdda318c14",
        "IPY_MODEL_04e11a43d73a43dcb8732262161b42c1",
        "IPY_MODEL_8d2da24f93e448978adadb8b64686450",
        "IPY_MODEL_e92de58b1ee341bd88f4b49e9dead560",
        "IPY_MODEL_ac80d9994d1c4741ae7f0ee22d7c4962",
        "IPY_MODEL_e757606302d340c1a27aaa9cc2666220",
        "IPY_MODEL_8465cd0540f4418296b77dcc3e914323",
        "IPY_MODEL_4392f12864874f55915992ea4d2cf9e5",
        "IPY_MODEL_fa812a898379417992fb29c3d3a2d505",
        "IPY_MODEL_3cd716234d324fdaa9ef4dae66408a3b",
        "IPY_MODEL_99d7d18ba6f048a5bbc19b5fc9192657",
        "IPY_MODEL_d849d6e4fa3848bb8b6573f2db376923",
        "IPY_MODEL_c426810c80b74325b2700a63177196e7"
       ],
       "layout": "IPY_MODEL_e9e24fe321b24878bc85a8fa2262fea4"
      }
     },
     "61cab50a25aa4a7aa75f4ff16a515416": {
      "model_module": "@jupyter-widgets/base",
      "model_module_version": "1.2.0",
      "model_name": "LayoutModel",
      "state": {
       "grid_area": "widget018",
       "height": "22px",
       "width": "42px"
      }
     },
     "61cb4c77b34049efbcb8d90e534b3429": {
      "model_module": "@jupyter-widgets/controls",
      "model_module_version": "1.5.0",
      "model_name": "ButtonModel",
      "state": {
       "description": "hullview",
       "layout": "IPY_MODEL_f41dda301101446580669d15110bbaf2",
       "style": "IPY_MODEL_9be2302474634d11a70fac52565b7fb4"
      }
     },
     "6251fd0810884c6aa6d8c4b6b168b3de": {
      "model_module": "@jupyter-widgets/base",
      "model_module_version": "1.2.0",
      "model_name": "LayoutModel",
      "state": {
       "grid_area": "widget079",
       "height": "22px",
       "width": "42px"
      }
     },
     "6258b93800284e209d536f77304a9c7f": {
      "model_module": "@jupyter-widgets/controls",
      "model_module_version": "1.5.0",
      "model_name": "DescriptionStyleModel",
      "state": {
       "description_width": ""
      }
     },
     "628ca4362b6241a296da67d55e707db1": {
      "model_module": "@jupyter-widgets/controls",
      "model_module_version": "1.5.0",
      "model_name": "ToggleButtonModel",
      "state": {
       "description": "Na",
       "layout": "IPY_MODEL_f4b0d99f90cd4b23a852dcdefc54f111",
       "style": "IPY_MODEL_34184d87c72e450095eb652b7ea5a2db"
      }
     },
     "63f5bdcffbbb429abbf842ad32bf1d92": {
      "model_module": "@jupyter-widgets/controls",
      "model_module_version": "1.5.0",
      "model_name": "DescriptionStyleModel",
      "state": {
       "description_width": ""
      }
     },
     "644adf521a3b4a398e2f30edc6420713": {
      "model_module": "@jupyter-widgets/controls",
      "model_module_version": "1.5.0",
      "model_name": "ToggleButtonModel",
      "state": {
       "description": "At",
       "layout": "IPY_MODEL_f269613376ed47b7a9f77b4b4bdd4c09",
       "style": "IPY_MODEL_66ea7ea2b5a0434a803c8c4f7951b53e"
      }
     },
     "6495bcd228bd49e0b58ac099f469035b": {
      "model_module": "@jupyter-widgets/base",
      "model_module_version": "1.2.0",
      "model_name": "LayoutModel",
      "state": {
       "grid_area": "widget026",
       "height": "22px",
       "width": "42px"
      }
     },
     "663761a62637417ebc8e4d209c3fbbd5": {
      "model_module": "@jupyter-widgets/controls",
      "model_module_version": "1.5.0",
      "model_name": "DescriptionStyleModel",
      "state": {
       "description_width": ""
      }
     },
     "66ea7ea2b5a0434a803c8c4f7951b53e": {
      "model_module": "@jupyter-widgets/controls",
      "model_module_version": "1.5.0",
      "model_name": "DescriptionStyleModel",
      "state": {
       "description_width": ""
      }
     },
     "674c261e4dd74b1eb5a04ea3ff9b2d78": {
      "model_module": "@jupyter-widgets/controls",
      "model_module_version": "1.5.0",
      "model_name": "DescriptionStyleModel",
      "state": {
       "description_width": ""
      }
     },
     "69589c69ae004b5c94c6a0b166c48ec1": {
      "model_module": "@jupyter-widgets/controls",
      "model_module_version": "1.5.0",
      "model_name": "ToggleButtonModel",
      "state": {
       "description": "Cf",
       "layout": "IPY_MODEL_38a835cf86524a6193c69e339ed3dedf",
       "style": "IPY_MODEL_815dfdd786964631981bf1261b4d6f22"
      }
     },
     "69a04ed8e8c94f1d8cd9d725296ba081": {
      "model_module": "@jupyter-widgets/controls",
      "model_module_version": "1.5.0",
      "model_name": "DescriptionStyleModel",
      "state": {
       "description_width": ""
      }
     },
     "69a31c67760f4b7e9cfd208b340bef03": {
      "model_module": "@jupyter-widgets/controls",
      "model_module_version": "1.5.0",
      "model_name": "ToggleButtonModel",
      "state": {
       "description": "Hg",
       "layout": "IPY_MODEL_001c51eefc294852b29bcc949a67044d",
       "style": "IPY_MODEL_76ef4017d1c24ea589df684496f55191"
      }
     },
     "69f90447ac104722be7dacfdda318c14": {
      "model_module": "@jupyter-widgets/controls",
      "model_module_version": "1.5.0",
      "model_name": "ToggleButtonModel",
      "state": {
       "description": "Sg",
       "layout": "IPY_MODEL_ae8ca0e4fae4477c9c327def0c0b25a5",
       "style": "IPY_MODEL_ac4c512f499f489eb72e8c107644652f"
      }
     },
     "6a62d191664f481b88dff8f15da1e786": {
      "model_module": "@jupyter-widgets/controls",
      "model_module_version": "1.5.0",
      "model_name": "DescriptionStyleModel",
      "state": {
       "description_width": ""
      }
     },
     "6a9998c2dc3845d28df1b816bd445c8a": {
      "model_module": "@jupyter-widgets/base",
      "model_module_version": "1.2.0",
      "model_name": "LayoutModel",
      "state": {
       "grid_area": "widget104",
       "height": "22px",
       "width": "42px"
      }
     },
     "6b0524918ee04cf8ae7e800c1d06116f": {
      "model_module": "@jupyter-widgets/controls",
      "model_module_version": "1.5.0",
      "model_name": "ToggleButtonModel",
      "state": {
       "description": "Tl",
       "layout": "IPY_MODEL_2c513207ce154b7bba655d76d06226e5",
       "style": "IPY_MODEL_12a4bb3ec42247368b4700c41a88407b"
      }
     },
     "6b83ff3b50ce4cf689661bf71dfa0a4a": {
      "model_module": "@jupyter-widgets/controls",
      "model_module_version": "1.5.0",
      "model_name": "DescriptionStyleModel",
      "state": {
       "description_width": ""
      }
     },
     "6ba9cdd327964c79a914ee14a10d1575": {
      "model_module": "@jupyter-widgets/base",
      "model_module_version": "1.2.0",
      "model_name": "LayoutModel",
      "state": {
       "grid_area": "widget108",
       "height": "22px",
       "width": "42px"
      }
     },
     "6be1da76ee6d4eacae39d938998eafcd": {
      "model_module": "@jupyter-widgets/controls",
      "model_module_version": "1.5.0",
      "model_name": "DescriptionStyleModel",
      "state": {
       "description_width": ""
      }
     },
     "6c2c196aff0c43eeb902930e5c4d9ceb": {
      "model_module": "@jupyter-widgets/base",
      "model_module_version": "1.2.0",
      "model_name": "LayoutModel",
      "state": {
       "grid_area": "widget100",
       "height": "22px",
       "width": "42px"
      }
     },
     "6d779b1c935f4591a429340bf14923f1": {
      "model_module": "@jupyter-widgets/base",
      "model_module_version": "1.2.0",
      "model_name": "LayoutModel",
      "state": {
       "grid_area": "widget107",
       "height": "22px",
       "width": "42px"
      }
     },
     "6d9325e9966348798b236a764fcb4b45": {
      "model_module": "@jupyter-widgets/base",
      "model_module_version": "1.2.0",
      "model_name": "LayoutModel",
      "state": {
       "grid_area": "widget042",
       "height": "22px",
       "width": "42px"
      }
     },
     "6ea78f5dfa1a43109f9a96844383c812": {
      "model_module": "@jupyter-widgets/controls",
      "model_module_version": "1.5.0",
      "model_name": "ToggleButtonModel",
      "state": {
       "description": "Fm",
       "layout": "IPY_MODEL_6c2c196aff0c43eeb902930e5c4d9ceb",
       "style": "IPY_MODEL_bca8b0d5318d4b0aacade38f645a12ec"
      }
     },
     "6eeece931e1d411fb1a8efc58752a1fc": {
      "model_module": "@jupyter-widgets/controls",
      "model_module_version": "1.5.0",
      "model_name": "ToggleButtonModel",
      "state": {
       "description": "Be",
       "layout": "IPY_MODEL_30bb2b8597034520bcefa3c5cc0d62c7",
       "style": "IPY_MODEL_75aec280dcc94b84b58f79fde0c01c51"
      }
     },
     "6ef88eb9e7af4ec69628cc3fdd150302": {
      "model_module": "@jupyter-widgets/controls",
      "model_module_version": "1.5.0",
      "model_name": "DescriptionStyleModel",
      "state": {
       "description_width": ""
      }
     },
     "6fb908c5bc254f008fe6ef6ded693ce5": {
      "model_module": "@jupyter-widgets/base",
      "model_module_version": "1.2.0",
      "model_name": "LayoutModel",
      "state": {
       "grid_area": "widget052",
       "height": "22px",
       "width": "42px"
      }
     },
     "6fcc121317504f0f83986becedd5200c": {
      "model_module": "@jupyter-widgets/controls",
      "model_module_version": "1.5.0",
      "model_name": "DescriptionStyleModel",
      "state": {
       "description_width": ""
      }
     },
     "6fdc7208d12342c18c7bbcb101eb4e46": {
      "model_module": "@jupyter-widgets/base",
      "model_module_version": "1.2.0",
      "model_name": "LayoutModel",
      "state": {
       "grid_area": "widget050",
       "height": "22px",
       "width": "42px"
      }
     },
     "7072240de0324208a799591b51792622": {
      "model_module": "@jupyter-widgets/controls",
      "model_module_version": "1.5.0",
      "model_name": "ToggleButtonModel",
      "state": {
       "description": "Mn",
       "layout": "IPY_MODEL_24d8b859a6ed44c99f51718a24f0f3a8",
       "style": "IPY_MODEL_6ef88eb9e7af4ec69628cc3fdd150302"
      }
     },
     "7099607d2e8c49948b9f6ee1c9b31093": {
      "model_module": "@jupyter-widgets/controls",
      "model_module_version": "1.5.0",
      "model_name": "DescriptionStyleModel",
      "state": {
       "description_width": ""
      }
     },
     "71af44da30f54b229f869b6ba13e02e5": {
      "model_module": "@jupyter-widgets/base",
      "model_module_version": "1.2.0",
      "model_name": "LayoutModel",
      "state": {
       "grid_area": "widget020",
       "height": "22px",
       "width": "42px"
      }
     },
     "7223892fb5a24797a16777c237e41ce0": {
      "model_module": "@jupyter-widgets/controls",
      "model_module_version": "1.5.0",
      "model_name": "DescriptionStyleModel",
      "state": {
       "description_width": ""
      }
     },
     "723ffb0f69264453912365e3fa1c11c1": {
      "model_module": "@jupyter-widgets/controls",
      "model_module_version": "1.5.0",
      "model_name": "ButtonModel",
      "state": {
       "description": "support",
       "layout": "IPY_MODEL_f41dda301101446580669d15110bbaf2",
       "style": "IPY_MODEL_75d59b891d3248b4a8e71624696d4ca3"
      }
     },
     "72693686e27041c69ed9c70a5f14d8af": {
      "model_module": "@jupyter-widgets/controls",
      "model_module_version": "1.5.0",
      "model_name": "DescriptionStyleModel",
      "state": {
       "description_width": ""
      }
     },
     "743be3ca44c74aa6b9f767a0e1cc3b55": {
      "model_module": "@jupyter-widgets/base",
      "model_module_version": "1.2.0",
      "model_name": "LayoutModel",
      "state": {
       "grid_area": "widget109",
       "height": "22px",
       "width": "42px"
      }
     },
     "749e25dea8634c8b9170fa6659854643": {
      "model_module": "@jupyter-widgets/controls",
      "model_module_version": "1.5.0",
      "model_name": "ToggleButtonModel",
      "state": {
       "description": "Rb",
       "layout": "IPY_MODEL_1788231446f34d4085f4a2c6a928bca8",
       "style": "IPY_MODEL_a1840ffad0184af8b033b1bc55995721"
      }
     },
     "75aec280dcc94b84b58f79fde0c01c51": {
      "model_module": "@jupyter-widgets/controls",
      "model_module_version": "1.5.0",
      "model_name": "DescriptionStyleModel",
      "state": {
       "description_width": ""
      }
     },
     "75d59b891d3248b4a8e71624696d4ca3": {
      "model_module": "@jupyter-widgets/controls",
      "model_module_version": "1.5.0",
      "model_name": "ButtonStyleModel",
      "state": {}
     },
     "76496747d6894813955abcc2b33290e8": {
      "model_module": "@jupyter-widgets/controls",
      "model_module_version": "1.5.0",
      "model_name": "ToggleButtonModel",
      "state": {
       "description": "Bi",
       "layout": "IPY_MODEL_16e93478d8d6466e87b9ca5f8c979a35",
       "style": "IPY_MODEL_1bd50504a10640ed8f58a3ab932bf1ec"
      }
     },
     "76ef4017d1c24ea589df684496f55191": {
      "model_module": "@jupyter-widgets/controls",
      "model_module_version": "1.5.0",
      "model_name": "DescriptionStyleModel",
      "state": {
       "description_width": ""
      }
     },
     "76f897c0944a4fd7a7726a9bc948494d": {
      "model_module": "@jupyter-widgets/base",
      "model_module_version": "1.2.0",
      "model_name": "LayoutModel",
      "state": {
       "grid_area": "widget058",
       "height": "22px",
       "width": "42px"
      }
     },
     "77220ef04637478c94a577ed5db9877a": {
      "model_module": "@jupyter-widgets/controls",
      "model_module_version": "1.5.0",
      "model_name": "ToggleButtonModel",
      "state": {
       "description": "Rn",
       "layout": "IPY_MODEL_0b00782200da44328063ac97afff2c3e",
       "style": "IPY_MODEL_e9edec04076548818ffd4fd0d28245a2"
      }
     },
     "775e3674b5f342b18d7bf5f36023e49f": {
      "model_module": "@jupyter-widgets/base",
      "model_module_version": "1.2.0",
      "model_name": "LayoutModel",
      "state": {
       "grid_area": "widget013",
       "height": "22px",
       "width": "42px"
      }
     },
     "77929892883a4052a966f8a2c2a2bcc8": {
      "model_module": "@jupyter-widgets/controls",
      "model_module_version": "1.5.0",
      "model_name": "ToggleButtonModel",
      "state": {
       "description": "La",
       "layout": "IPY_MODEL_29c9e5a34f784f5a82119fc5b0888459",
       "style": "IPY_MODEL_27b5e2a4cd5a460885d866c827a2cb7a"
      }
     },
     "77d36e7430e940809b5af05627babdab": {
      "model_module": "@jupyter-widgets/base",
      "model_module_version": "1.2.0",
      "model_name": "LayoutModel",
      "state": {
       "grid_area": "widget041",
       "height": "22px",
       "width": "42px"
      }
     },
     "79556ed5d02d4fa885d74b276064b2ff": {
      "model_module": "@jupyter-widgets/controls",
      "model_module_version": "1.5.0",
      "model_name": "ToggleButtonModel",
      "state": {
       "description": "Ar",
       "layout": "IPY_MODEL_61cab50a25aa4a7aa75f4ff16a515416",
       "style": "IPY_MODEL_6be1da76ee6d4eacae39d938998eafcd"
      }
     },
     "799e925bc44143da8b68bfc8d575e112": {
      "model_module": "@jupyter-widgets/controls",
      "model_module_version": "1.5.0",
      "model_name": "ToggleButtonModel",
      "state": {
       "description": "Yb",
       "layout": "IPY_MODEL_522cdbd81e9343b4a3ac71e0b5e98d8e",
       "style": "IPY_MODEL_bed9fd8c74b3482c8c911514ed335dd1"
      }
     },
     "7a5c3ad89691458da6afd2483e31b234": {
      "model_module": "@jupyter-widgets/controls",
      "model_module_version": "1.5.0",
      "model_name": "ToggleButtonModel",
      "state": {
       "description": "Fe",
       "layout": "IPY_MODEL_6495bcd228bd49e0b58ac099f469035b",
       "style": "IPY_MODEL_297adc868b704defbd020a88908e1282"
      }
     },
     "7b0e2949d9184b63b19c341ef69b3072": {
      "model_module": "@jupyter-widgets/controls",
      "model_module_version": "1.5.0",
      "model_name": "ToggleButtonModel",
      "state": {
       "description": "Os",
       "layout": "IPY_MODEL_bc104062f4aa44fbbd1b414aae056cdd",
       "style": "IPY_MODEL_e37ef189a9c445e38028983880ef24a1"
      }
     },
     "7b4c40bbbd294efb91fe39ad39b721ff": {
      "model_module": "@jupyter-widgets/controls",
      "model_module_version": "1.5.0",
      "model_name": "DescriptionStyleModel",
      "state": {
       "description_width": ""
      }
     },
     "7b66ef0667234a579a71908fb1239923": {
      "model_module": "@jupyter-widgets/controls",
      "model_module_version": "1.5.0",
      "model_name": "ToggleButtonModel",
      "state": {
       "description": "U",
       "layout": "IPY_MODEL_2a1b664c6bae4b9fb0b53adb5ea5443d",
       "style": "IPY_MODEL_96abf195a9d943d9808648f23feb99bc"
      }
     },
     "7c648c08f3ef426a89534a559b7b9d03": {
      "model_module": "@jupyter-widgets/controls",
      "model_module_version": "1.5.0",
      "model_name": "ToggleButtonModel",
      "state": {
       "description": "Pm",
       "layout": "IPY_MODEL_b869255975ba43278bac9cbf8564d93a",
       "style": "IPY_MODEL_1381890c9a59415c9fababd6e8e8bd2e"
      }
     },
     "7cb65c7223fa43528843a86496b8708a": {
      "model_module": "@jupyter-widgets/controls",
      "model_module_version": "1.5.0",
      "model_name": "DescriptionStyleModel",
      "state": {
       "description_width": ""
      }
     },
     "7d7351f959c44051be65cf5ccd2cd88e": {
      "model_module": "@jupyter-widgets/base",
      "model_module_version": "1.2.0",
      "model_name": "LayoutModel",
      "state": {
       "grid_area": "widget006",
       "height": "22px",
       "width": "42px"
      }
     },
     "7d90c76644324bcc9b185113afdb8417": {
      "model_module": "@jupyter-widgets/controls",
      "model_module_version": "1.5.0",
      "model_name": "DescriptionStyleModel",
      "state": {
       "description_width": ""
      }
     },
     "7da92661abc142618e8d7c8ad0fea4d6": {
      "model_module": "@jupyter-widgets/base",
      "model_module_version": "1.2.0",
      "model_name": "LayoutModel",
      "state": {
       "grid_area": "widget022",
       "height": "22px",
       "width": "42px"
      }
     },
     "7df5ca9b42d64aaca752c45bed371abf": {
      "model_module": "@jupyter-widgets/base",
      "model_module_version": "1.2.0",
      "model_name": "LayoutModel",
      "state": {
       "grid_area": "widget111",
       "height": "22px",
       "width": "42px"
      }
     },
     "7e525960f4374c1f9564d25f0691ca63": {
      "model_module": "@jupyter-widgets/controls",
      "model_module_version": "1.5.0",
      "model_name": "DescriptionStyleModel",
      "state": {
       "description_width": ""
      }
     },
     "7eee7be4e159405ca6875dacaf9c4f02": {
      "model_module": "@jupyter-widgets/base",
      "model_module_version": "1.2.0",
      "model_name": "LayoutModel",
      "state": {
       "grid_area": "widget035",
       "height": "22px",
       "width": "42px"
      }
     },
     "815dfdd786964631981bf1261b4d6f22": {
      "model_module": "@jupyter-widgets/controls",
      "model_module_version": "1.5.0",
      "model_name": "DescriptionStyleModel",
      "state": {
       "description_width": ""
      }
     },
     "82d2b33256834a4cabf7e7fcf1cc9f00": {
      "model_module": "@jupyter-widgets/base",
      "model_module_version": "1.2.0",
      "model_name": "LayoutModel",
      "state": {
       "grid_area": "widget031",
       "height": "22px",
       "width": "42px"
      }
     },
     "8391dd4c971d4ac784a4120a61c12574": {
      "model_module": "@jupyter-widgets/base",
      "model_module_version": "1.2.0",
      "model_name": "LayoutModel",
      "state": {
       "grid_area": "widget030",
       "height": "22px",
       "width": "42px"
      }
     },
     "84184fecd6964507be80b47f47403616": {
      "model_module": "@jupyter-widgets/controls",
      "model_module_version": "1.5.0",
      "model_name": "ToggleButtonModel",
      "state": {
       "description": "Kr",
       "layout": "IPY_MODEL_23269e9357f04ef3a7908d2b59af078c",
       "style": "IPY_MODEL_34eaf014a76e462aaba08f368ebbd790"
      }
     },
     "8465cd0540f4418296b77dcc3e914323": {
      "model_module": "@jupyter-widgets/controls",
      "model_module_version": "1.5.0",
      "model_name": "ToggleButtonModel",
      "state": {
       "description": "Cn",
       "layout": "IPY_MODEL_893e312e948a4b1ab6747c17e4f8a857",
       "style": "IPY_MODEL_f356cd04819d4f139705affd080ce283"
      }
     },
     "84fe80a2b3c34bf9b675aeae27478e82": {
      "model_module": "@jupyter-widgets/base",
      "model_module_version": "1.2.0",
      "model_name": "LayoutModel",
      "state": {
       "grid_area": "widget015",
       "height": "22px",
       "width": "42px"
      }
     },
     "85581e167e0c4335b2c6e7186d5e7b65": {
      "model_module": "@jupyter-widgets/controls",
      "model_module_version": "1.5.0",
      "model_name": "DescriptionStyleModel",
      "state": {
       "description_width": ""
      }
     },
     "8581af8b043f4fe6ad001e3f3c8b1483": {
      "model_module": "@jupyter-widgets/base",
      "model_module_version": "1.2.0",
      "model_name": "LayoutModel",
      "state": {
       "grid_area": "widget062",
       "height": "22px",
       "width": "42px"
      }
     },
     "8715572a1ccc44fe9613478a1f48f6a3": {
      "model_module": "@jupyter-widgets/controls",
      "model_module_version": "1.5.0",
      "model_name": "DropdownModel",
      "state": {
       "_options_labels": [
        "v6.0.0",
        "v5.0.0",
        "v4.0.0",
        "v3.0.0",
        "v2.0.0",
        "v1.1.0",
        "v1.0.0",
        "v0.0.0",
        "latest"
       ],
       "description": "version",
       "index": 0,
       "layout": "IPY_MODEL_1a2acf6f53274620ad1225ca424225b8",
       "style": "IPY_MODEL_bea30f8b82d7439498d26e18b70265a9"
      }
     },
     "8781231acb2944e5b13cde594de44a7e": {
      "model_module": "@jupyter-widgets/controls",
      "model_module_version": "1.5.0",
      "model_name": "ToggleButtonModel",
      "state": {
       "description": "Ho",
       "layout": "IPY_MODEL_ce796e804b9d431889d46dad164fbb99",
       "style": "IPY_MODEL_009dc90b3eb14074a3ab86f6e3be093b"
      }
     },
     "88c8e73f47164a80ab0d0055a9761a01": {
      "model_module": "@jupyter-widgets/base",
      "model_module_version": "1.2.0",
      "model_name": "LayoutModel",
      "state": {
       "grid_area": "widget021",
       "height": "22px",
       "width": "42px"
      }
     },
     "893e312e948a4b1ab6747c17e4f8a857": {
      "model_module": "@jupyter-widgets/base",
      "model_module_version": "1.2.0",
      "model_name": "LayoutModel",
      "state": {
       "grid_area": "widget112",
       "height": "22px",
       "width": "42px"
      }
     },
     "8a604e4aa153452f83788ee02020a807": {
      "model_module": "@jupyter-widgets/base",
      "model_module_version": "1.2.0",
      "model_name": "LayoutModel",
      "state": {
       "grid_area": "widget068",
       "height": "22px",
       "width": "42px"
      }
     },
     "8c3f328435e54509a474c9390be3f998": {
      "model_module": "@jupyter-widgets/controls",
      "model_module_version": "1.5.0",
      "model_name": "ToggleButtonModel",
      "state": {
       "description": "S",
       "layout": "IPY_MODEL_dbe27ac73e904713bbe8d0aa71420a54",
       "style": "IPY_MODEL_07e3b3b32ce645099465f45e4ccfa67c"
      }
     },
     "8d2da24f93e448978adadb8b64686450": {
      "model_module": "@jupyter-widgets/controls",
      "model_module_version": "1.5.0",
      "model_name": "ToggleButtonModel",
      "state": {
       "description": "Hs",
       "layout": "IPY_MODEL_6ba9cdd327964c79a914ee14a10d1575",
       "style": "IPY_MODEL_a58cd7a6ce7e4eeab9f7ec7a999e9cca"
      }
     },
     "8dbc14cd1f80485c9b3482b2b6614ed2": {
      "model_module": "@jupyter-widgets/controls",
      "model_module_version": "1.5.0",
      "model_name": "ToggleButtonModel",
      "state": {
       "description": "Hf",
       "layout": "IPY_MODEL_e0f6bfe7957d44bab3cb0b0fa0c9b703",
       "style": "IPY_MODEL_c904cc6b55e34a3381e50bc82aa904ff"
      }
     },
     "90ea3d0cb0e448d89c877061eb626277": {
      "model_module": "@jupyter-widgets/controls",
      "model_module_version": "1.5.0",
      "model_name": "ToggleButtonModel",
      "state": {
       "description": "Ta",
       "layout": "IPY_MODEL_f40334ed04c64b8cafa3c9d678862877",
       "style": "IPY_MODEL_9b7c28b4637d4df5a0f9031578127892"
      }
     },
     "923dc6e9370645aa92d4bc80a2195918": {
      "model_module": "@jupyter-widgets/controls",
      "model_module_version": "1.5.0",
      "model_name": "DescriptionStyleModel",
      "state": {
       "description_width": ""
      }
     },
     "92b59ca9b58049dc81ece074c72563dc": {
      "model_module": "@jupyter-widgets/controls",
      "model_module_version": "1.5.0",
      "model_name": "ToggleButtonModel",
      "state": {
       "description": "Cs",
       "layout": "IPY_MODEL_9857fb28b07b4761812fc9571fe8d1d8",
       "style": "IPY_MODEL_a69e930a068b4a0f91ae85461946d5d8"
      }
     },
     "93fd6541a0154bb4932ff0a48b988d64": {
      "model_module": "@jupyter-widgets/base",
      "model_module_version": "1.2.0",
      "model_name": "LayoutModel",
      "state": {
       "grid_area": "widget024",
       "height": "22px",
       "width": "42px"
      }
     },
     "9562049b64604a30ab75c24bfa055169": {
      "model_module": "@jupyter-widgets/base",
      "model_module_version": "1.2.0",
      "model_name": "LayoutModel",
      "state": {
       "height": "350px",
       "width": "400px"
      }
     },
     "96abf195a9d943d9808648f23feb99bc": {
      "model_module": "@jupyter-widgets/controls",
      "model_module_version": "1.5.0",
      "model_name": "DescriptionStyleModel",
      "state": {
       "description_width": ""
      }
     },
     "9857fb28b07b4761812fc9571fe8d1d8": {
      "model_module": "@jupyter-widgets/base",
      "model_module_version": "1.2.0",
      "model_name": "LayoutModel",
      "state": {
       "grid_area": "widget055",
       "height": "22px",
       "width": "42px"
      }
     },
     "99d7d18ba6f048a5bbc19b5fc9192657": {
      "model_module": "@jupyter-widgets/controls",
      "model_module_version": "1.5.0",
      "model_name": "ToggleButtonModel",
      "state": {
       "description": "Lv",
       "layout": "IPY_MODEL_4db46bde21474a3b98ab717e3372d8e0",
       "style": "IPY_MODEL_9a57117911584c33900919638c388e82"
      }
     },
     "9a57117911584c33900919638c388e82": {
      "model_module": "@jupyter-widgets/controls",
      "model_module_version": "1.5.0",
      "model_name": "DescriptionStyleModel",
      "state": {
       "description_width": ""
      }
     },
     "9b7c28b4637d4df5a0f9031578127892": {
      "model_module": "@jupyter-widgets/controls",
      "model_module_version": "1.5.0",
      "model_name": "DescriptionStyleModel",
      "state": {
       "description_width": ""
      }
     },
     "9b896b14400b481fb2f1d35d2b58a840": {
      "model_module": "@jupyter-widgets/controls",
      "model_module_version": "1.5.0",
      "model_name": "ToggleButtonModel",
      "state": {
       "description": "Te",
       "layout": "IPY_MODEL_6fb908c5bc254f008fe6ef6ded693ce5",
       "style": "IPY_MODEL_1f711303cc4f417da3fcaa7ba28a4fbb"
      }
     },
     "9be2302474634d11a70fac52565b7fb4": {
      "model_module": "@jupyter-widgets/controls",
      "model_module_version": "1.5.0",
      "model_name": "ButtonStyleModel",
      "state": {}
     },
     "9caa42887b4b4c37b14c232d08615b67": {
      "model_module": "@jupyter-widgets/controls",
      "model_module_version": "1.5.0",
      "model_name": "DescriptionStyleModel",
      "state": {
       "description_width": ""
      }
     },
     "9d8d9cec01534b00b2e37819d5f374bd": {
      "model_module": "@jupyter-widgets/controls",
      "model_module_version": "1.5.0",
      "model_name": "DescriptionStyleModel",
      "state": {
       "description_width": ""
      }
     },
     "9eee0bcfbcde4eb087c317ea0895abfb": {
      "model_module": "nglview-js-widgets",
      "model_module_version": "3.0.1",
      "model_name": "ColormakerRegistryModel",
      "state": {
       "_msg_ar": [],
       "_msg_q": [],
       "_ready": true,
       "layout": "IPY_MODEL_d065d98d1bc048939b2c1fd8f74c6c83"
      }
     },
     "9f974d66c4c348168dcded02890e922b": {
      "model_module": "@jupyter-widgets/controls",
      "model_module_version": "1.5.0",
      "model_name": "ToggleButtonModel",
      "state": {
       "description": "Ne",
       "layout": "IPY_MODEL_36a370b5ecee42a092ecdbc3309f4634",
       "style": "IPY_MODEL_ab518b26c8144e8c80f496c59b8ab00c"
      }
     },
     "a0772ba6add045b98fb9c1bc35159145": {
      "model_module": "@jupyter-widgets/controls",
      "model_module_version": "1.5.0",
      "model_name": "ToggleButtonModel",
      "state": {
       "description": "Zr",
       "layout": "IPY_MODEL_dcebbaf4f84240be8d387e5547d04d92",
       "style": "IPY_MODEL_b2d943529946423aa63348683f7da172"
      }
     },
     "a1840ffad0184af8b033b1bc55995721": {
      "model_module": "@jupyter-widgets/controls",
      "model_module_version": "1.5.0",
      "model_name": "DescriptionStyleModel",
      "state": {
       "description_width": ""
      }
     },
     "a38a972b4a5e46a9b1ec0b917577e6ef": {
      "model_module": "@jupyter-widgets/base",
      "model_module_version": "1.2.0",
      "model_name": "LayoutModel",
      "state": {
       "grid_area": "widget103",
       "height": "22px",
       "width": "42px"
      }
     },
     "a3ba372ad1fc4761a5ea0a3b1f025009": {
      "model_module": "@jupyter-widgets/base",
      "model_module_version": "1.2.0",
      "model_name": "LayoutModel",
      "state": {
       "grid_area": "widget089",
       "height": "22px",
       "width": "42px"
      }
     },
     "a4fc72a9de734201af7cee3196332b38": {
      "model_module": "@jupyter-widgets/controls",
      "model_module_version": "1.5.0",
      "model_name": "ToggleButtonModel",
      "state": {
       "description": "Pa",
       "layout": "IPY_MODEL_f1a22fb84f3944928081228724fe2340",
       "style": "IPY_MODEL_6a62d191664f481b88dff8f15da1e786"
      }
     },
     "a58cd7a6ce7e4eeab9f7ec7a999e9cca": {
      "model_module": "@jupyter-widgets/controls",
      "model_module_version": "1.5.0",
      "model_name": "DescriptionStyleModel",
      "state": {
       "description_width": ""
      }
     },
     "a5a5fc193b2342589de4fd6b0fe40319": {
      "model_module": "@jupyter-widgets/controls",
      "model_module_version": "1.5.0",
      "model_name": "ButtonStyleModel",
      "state": {}
     },
     "a5c77409efd84c599530c0a0273977f9": {
      "model_module": "@jupyter-widgets/controls",
      "model_module_version": "1.5.0",
      "model_name": "DescriptionStyleModel",
      "state": {
       "description_width": ""
      }
     },
     "a69e930a068b4a0f91ae85461946d5d8": {
      "model_module": "@jupyter-widgets/controls",
      "model_module_version": "1.5.0",
      "model_name": "DescriptionStyleModel",
      "state": {
       "description_width": ""
      }
     },
     "a6ab2293748544999a249c4de0989405": {
      "model_module": "@jupyter-widgets/controls",
      "model_module_version": "1.5.0",
      "model_name": "DescriptionStyleModel",
      "state": {
       "description_width": ""
      }
     },
     "a77d9220be1b4b0c859b916953cba7c1": {
      "model_module": "@jupyter-widgets/controls",
      "model_module_version": "1.5.0",
      "model_name": "DescriptionStyleModel",
      "state": {
       "description_width": ""
      }
     },
     "a7868b39683d4aedbc269cbc8d80b2db": {
      "model_module": "@jupyter-widgets/controls",
      "model_module_version": "1.5.0",
      "model_name": "DescriptionStyleModel",
      "state": {
       "description_width": ""
      }
     },
     "a8a3852ea58347bba2e377e05004b661": {
      "model_module": "@jupyter-widgets/controls",
      "model_module_version": "1.5.0",
      "model_name": "DescriptionStyleModel",
      "state": {
       "description_width": ""
      }
     },
     "a8b48959223f4f0b8915383fdc7eb791": {
      "model_module": "@jupyter-widgets/controls",
      "model_module_version": "1.5.0",
      "model_name": "DescriptionStyleModel",
      "state": {
       "description_width": ""
      }
     },
     "a9aded5e4428436eabda77a32b43f77c": {
      "model_module": "@jupyter-widgets/base",
      "model_module_version": "1.2.0",
      "model_name": "LayoutModel",
      "state": {
       "grid_area": "widget046",
       "height": "22px",
       "width": "42px"
      }
     },
     "ab06a307fbb34263a89fac4d8ff7c331": {
      "model_module": "@jupyter-widgets/base",
      "model_module_version": "1.2.0",
      "model_name": "LayoutModel",
      "state": {
       "grid_area": "widget045",
       "height": "22px",
       "width": "42px"
      }
     },
     "ab3264b0fd92433ba961afea17bac6cc": {
      "model_module": "@jupyter-widgets/controls",
      "model_module_version": "1.5.0",
      "model_name": "DescriptionStyleModel",
      "state": {
       "description_width": ""
      }
     },
     "ab33d841112542479c90ae3083c301f5": {
      "model_module": "@jupyter-widgets/controls",
      "model_module_version": "1.5.0",
      "model_name": "DescriptionStyleModel",
      "state": {
       "description_width": ""
      }
     },
     "ab518b26c8144e8c80f496c59b8ab00c": {
      "model_module": "@jupyter-widgets/controls",
      "model_module_version": "1.5.0",
      "model_name": "DescriptionStyleModel",
      "state": {
       "description_width": ""
      }
     },
     "ac4c512f499f489eb72e8c107644652f": {
      "model_module": "@jupyter-widgets/controls",
      "model_module_version": "1.5.0",
      "model_name": "DescriptionStyleModel",
      "state": {
       "description_width": ""
      }
     },
     "ac80d9994d1c4741ae7f0ee22d7c4962": {
      "model_module": "@jupyter-widgets/controls",
      "model_module_version": "1.5.0",
      "model_name": "ToggleButtonModel",
      "state": {
       "description": "Ds",
       "layout": "IPY_MODEL_cba553c4ae70432ca2b0d67e095bbb8a",
       "style": "IPY_MODEL_34b70b2b18f6490ca19d65e551f82541"
      }
     },
     "ae6f694b16204ee6bd1d111abe8ca3e8": {
      "model_module": "@jupyter-widgets/controls",
      "model_module_version": "1.5.0",
      "model_name": "DescriptionStyleModel",
      "state": {
       "description_width": ""
      }
     },
     "ae8ca0e4fae4477c9c327def0c0b25a5": {
      "model_module": "@jupyter-widgets/base",
      "model_module_version": "1.2.0",
      "model_name": "LayoutModel",
      "state": {
       "grid_area": "widget106",
       "height": "22px",
       "width": "42px"
      }
     },
     "aeccbb0761ce4d56989f819caa2ac9a1": {
      "model_module": "@jupyter-widgets/controls",
      "model_module_version": "1.5.0",
      "model_name": "ButtonStyleModel",
      "state": {}
     },
     "af751581d08d47639283131fda935c53": {
      "model_module": "@jupyter-widgets/controls",
      "model_module_version": "1.5.0",
      "model_name": "IntSliderModel",
      "state": {
       "description": "No",
       "layout": "IPY_MODEL_5b1eb815b29e4fe193e7a734b9a344db",
       "max": 3000,
       "style": "IPY_MODEL_b4eb26a3ed764336b4ab6670e911f7b0",
       "value": 1
      }
     },
     "b0fca17b958f48fe8728cc11bd205a75": {
      "model_module": "@jupyter-widgets/controls",
      "model_module_version": "1.5.0",
      "model_name": "VBoxModel",
      "state": {
       "children": [
        "IPY_MODEL_5fe95f673a6642239e835660fc82ece3",
        "IPY_MODEL_494eb66ad4984cf9ac7aeeaec454ad29"
       ],
       "layout": "IPY_MODEL_d3c8a3c106544b52a0314a04e91f565d"
      }
     },
     "b11d0d35613048aea347a99089f9c4af": {
      "model_module": "@jupyter-widgets/controls",
      "model_module_version": "1.5.0",
      "model_name": "DescriptionStyleModel",
      "state": {
       "description_width": ""
      }
     },
     "b1635c9284484b728f3df29d4506b866": {
      "model_module": "@jupyter-widgets/controls",
      "model_module_version": "1.5.0",
      "model_name": "ToggleButtonModel",
      "state": {
       "description": "Br",
       "layout": "IPY_MODEL_7eee7be4e159405ca6875dacaf9c4f02",
       "style": "IPY_MODEL_40b7e0be138b4621baa582b81d55fd72"
      }
     },
     "b2d943529946423aa63348683f7da172": {
      "model_module": "@jupyter-widgets/controls",
      "model_module_version": "1.5.0",
      "model_name": "DescriptionStyleModel",
      "state": {
       "description_width": ""
      }
     },
     "b30ecc2b373a436ea86c4e85db64508a": {
      "model_module": "@jupyter-widgets/controls",
      "model_module_version": "1.5.0",
      "model_name": "ToggleButtonModel",
      "state": {
       "description": "Bk",
       "layout": "IPY_MODEL_c7dfceac112c4ad5be37c661cc54e70d",
       "style": "IPY_MODEL_c417faab1db34f17a5ebf24ac4ed323c"
      }
     },
     "b37971f150a347dfade436134c6046e8": {
      "model_module": "@jupyter-widgets/controls",
      "model_module_version": "1.5.0",
      "model_name": "ToggleButtonModel",
      "state": {
       "description": "Lr",
       "layout": "IPY_MODEL_a38a972b4a5e46a9b1ec0b917577e6ef",
       "style": "IPY_MODEL_1a4b88beda5a4a25ab26f6a03aa3fb49"
      }
     },
     "b4eb26a3ed764336b4ab6670e911f7b0": {
      "model_module": "@jupyter-widgets/controls",
      "model_module_version": "1.5.0",
      "model_name": "SliderStyleModel",
      "state": {
       "description_width": ""
      }
     },
     "b55e861ee3294aceb53db3ab105f6878": {
      "model_module": "@jupyter-widgets/controls",
      "model_module_version": "1.5.0",
      "model_name": "ToggleButtonModel",
      "state": {
       "description": "Ti",
       "layout": "IPY_MODEL_7da92661abc142618e8d7c8ad0fea4d6",
       "style": "IPY_MODEL_f7edb37d20b244b4896843cb89ee47e7"
      }
     },
     "b76f822a06f34bf9ac934176a230d429": {
      "model_module": "@jupyter-widgets/controls",
      "model_module_version": "1.5.0",
      "model_name": "DescriptionStyleModel",
      "state": {
       "description_width": ""
      }
     },
     "b869255975ba43278bac9cbf8564d93a": {
      "model_module": "@jupyter-widgets/base",
      "model_module_version": "1.2.0",
      "model_name": "LayoutModel",
      "state": {
       "grid_area": "widget061",
       "height": "22px",
       "width": "42px"
      }
     },
     "b94ccd35f7964eadbfae3e64f439de97": {
      "model_module": "@jupyter-widgets/controls",
      "model_module_version": "1.5.0",
      "model_name": "ToggleButtonModel",
      "state": {
       "description": "Pd",
       "layout": "IPY_MODEL_a9aded5e4428436eabda77a32b43f77c",
       "style": "IPY_MODEL_85581e167e0c4335b2c6e7186d5e7b65"
      }
     },
     "b95ec30b1f894106969b292b370c5509": {
      "model_module": "@jupyter-widgets/controls",
      "model_module_version": "1.5.0",
      "model_name": "DescriptionStyleModel",
      "state": {
       "description_width": ""
      }
     },
     "bb5890d0364249ef9ebc972523a463fa": {
      "model_module": "@jupyter-widgets/controls",
      "model_module_version": "1.5.0",
      "model_name": "ToggleButtonModel",
      "state": {
       "description": "Cl",
       "layout": "IPY_MODEL_5f0a2a23e22f49768d24f87c83b7d203",
       "style": "IPY_MODEL_663761a62637417ebc8e4d209c3fbbd5"
      }
     },
     "bb5a06f6ae2b4372b8bc5dc4c5dcc5fa": {
      "model_module": "@jupyter-widgets/controls",
      "model_module_version": "1.5.0",
      "model_name": "ToggleButtonModel",
      "state": {
       "description": "Au",
       "layout": "IPY_MODEL_6251fd0810884c6aa6d8c4b6b168b3de",
       "style": "IPY_MODEL_63f5bdcffbbb429abbf842ad32bf1d92"
      }
     },
     "bc104062f4aa44fbbd1b414aae056cdd": {
      "model_module": "@jupyter-widgets/base",
      "model_module_version": "1.2.0",
      "model_name": "LayoutModel",
      "state": {
       "grid_area": "widget076",
       "height": "22px",
       "width": "42px"
      }
     },
     "bc28f81b994b485ba5cd85cbe8e7b304": {
      "model_module": "@jupyter-widgets/base",
      "model_module_version": "1.2.0",
      "model_name": "LayoutModel",
      "state": {
       "grid_area": "widget034",
       "height": "22px",
       "width": "42px"
      }
     },
     "bca8b0d5318d4b0aacade38f645a12ec": {
      "model_module": "@jupyter-widgets/controls",
      "model_module_version": "1.5.0",
      "model_name": "DescriptionStyleModel",
      "state": {
       "description_width": ""
      }
     },
     "bdd487b0654f45d8b6ebb7e02b4efd58": {
      "model_module": "@jupyter-widgets/controls",
      "model_module_version": "1.5.0",
      "model_name": "ButtonModel",
      "state": {
       "description": "view",
       "layout": "IPY_MODEL_f41dda301101446580669d15110bbaf2",
       "style": "IPY_MODEL_aeccbb0761ce4d56989f819caa2ac9a1"
      }
     },
     "bdebc2dfeaab4083a2296107d2caf70c": {
      "model_module": "@jupyter-widgets/base",
      "model_module_version": "1.2.0",
      "model_name": "LayoutModel",
      "state": {
       "grid_area": "widget074",
       "height": "22px",
       "width": "42px"
      }
     },
     "bea30f8b82d7439498d26e18b70265a9": {
      "model_module": "@jupyter-widgets/controls",
      "model_module_version": "1.5.0",
      "model_name": "DescriptionStyleModel",
      "state": {
       "description_width": ""
      }
     },
     "bed9fd8c74b3482c8c911514ed335dd1": {
      "model_module": "@jupyter-widgets/controls",
      "model_module_version": "1.5.0",
      "model_name": "DescriptionStyleModel",
      "state": {
       "description_width": ""
      }
     },
     "bf91e3815702409fb5e135149999369d": {
      "model_module": "@jupyter-widgets/controls",
      "model_module_version": "1.5.0",
      "model_name": "ToggleButtonModel",
      "state": {
       "description": "Zn",
       "layout": "IPY_MODEL_8391dd4c971d4ac784a4120a61c12574",
       "style": "IPY_MODEL_7e525960f4374c1f9564d25f0691ca63"
      }
     },
     "c0b4c1ef21eb41ba8563ff7700d2f83b": {
      "model_module": "@jupyter-widgets/controls",
      "model_module_version": "1.5.0",
      "model_name": "ToggleButtonModel",
      "state": {
       "description": "Po",
       "layout": "IPY_MODEL_dddf34437693474cbde6d9a71731a6d0",
       "style": "IPY_MODEL_333b2e6047a04b3899f4640656aec901"
      }
     },
     "c3718a89b5934b8b95099d710385a29b": {
      "model_module": "@jupyter-widgets/controls",
      "model_module_version": "1.5.0",
      "model_name": "ToggleButtonModel",
      "state": {
       "description": "B",
       "layout": "IPY_MODEL_3b2415e825ee4a3db82a64ae4bf37f48",
       "style": "IPY_MODEL_72693686e27041c69ed9c70a5f14d8af"
      }
     },
     "c417faab1db34f17a5ebf24ac4ed323c": {
      "model_module": "@jupyter-widgets/controls",
      "model_module_version": "1.5.0",
      "model_name": "DescriptionStyleModel",
      "state": {
       "description_width": ""
      }
     },
     "c426810c80b74325b2700a63177196e7": {
      "model_module": "@jupyter-widgets/controls",
      "model_module_version": "1.5.0",
      "model_name": "ToggleButtonModel",
      "state": {
       "description": "Og",
       "layout": "IPY_MODEL_41b23211b6bf4b7cad854f68e1e72b99",
       "style": "IPY_MODEL_144924d9041b45d2870fc732ab233260"
      }
     },
     "c7dfceac112c4ad5be37c661cc54e70d": {
      "model_module": "@jupyter-widgets/base",
      "model_module_version": "1.2.0",
      "model_name": "LayoutModel",
      "state": {
       "grid_area": "widget097",
       "height": "22px",
       "width": "42px"
      }
     },
     "c8a067411eec43138bf564f741ad294d": {
      "model_module": "@jupyter-widgets/base",
      "model_module_version": "1.2.0",
      "model_name": "LayoutModel",
      "state": {
       "grid_area": "widget113",
       "height": "22px",
       "width": "42px"
      }
     },
     "c904cc6b55e34a3381e50bc82aa904ff": {
      "model_module": "@jupyter-widgets/controls",
      "model_module_version": "1.5.0",
      "model_name": "DescriptionStyleModel",
      "state": {
       "description_width": ""
      }
     },
     "caa8dc9463bd4013a527120f36454e1c": {
      "model_module": "@jupyter-widgets/base",
      "model_module_version": "1.2.0",
      "model_name": "LayoutModel",
      "state": {
       "border": "1px solid black"
      }
     },
     "caf8bc74755c402586296146175115d8": {
      "model_module": "@jupyter-widgets/controls",
      "model_module_version": "1.5.0",
      "model_name": "HBoxModel",
      "state": {
       "children": [
        "IPY_MODEL_bdd487b0654f45d8b6ebb7e02b4efd58",
        "IPY_MODEL_af751581d08d47639283131fda935c53"
       ],
       "layout": "IPY_MODEL_eda188fc96804919ba3cf3d846dfa632"
      }
     },
     "cb37ce47dd2d448e961e83be942075be": {
      "model_module": "@jupyter-widgets/controls",
      "model_module_version": "1.5.0",
      "model_name": "ToggleButtonModel",
      "state": {
       "description": "Eu",
       "layout": "IPY_MODEL_2ff53bc1ec134f9c8e257309a01c5c8b",
       "style": "IPY_MODEL_6fcc121317504f0f83986becedd5200c"
      }
     },
     "cb6c8de0241048f99748daaa0b827a03": {
      "model_module": "@jupyter-widgets/controls",
      "model_module_version": "1.5.0",
      "model_name": "DescriptionStyleModel",
      "state": {
       "description_width": ""
      }
     },
     "cba553c4ae70432ca2b0d67e095bbb8a": {
      "model_module": "@jupyter-widgets/base",
      "model_module_version": "1.2.0",
      "model_name": "LayoutModel",
      "state": {
       "grid_area": "widget110",
       "height": "22px",
       "width": "42px"
      }
     },
     "cbac69ed6bf54f72aa7105a17dbb1d1d": {
      "model_module": "@jupyter-widgets/controls",
      "model_module_version": "1.5.0",
      "model_name": "DescriptionStyleModel",
      "state": {
       "description_width": ""
      }
     },
     "ccdfb3874c254268be33fd5ddf684edc": {
      "model_module": "@jupyter-widgets/controls",
      "model_module_version": "1.5.0",
      "model_name": "DescriptionStyleModel",
      "state": {
       "description_width": ""
      }
     },
     "cd3f148c62694fc6b5027865bff71a68": {
      "model_module": "@jupyter-widgets/controls",
      "model_module_version": "1.5.0",
      "model_name": "DescriptionStyleModel",
      "state": {
       "description_width": ""
      }
     },
     "ce796e804b9d431889d46dad164fbb99": {
      "model_module": "@jupyter-widgets/base",
      "model_module_version": "1.2.0",
      "model_name": "LayoutModel",
      "state": {
       "grid_area": "widget067",
       "height": "22px",
       "width": "42px"
      }
     },
     "cf69e9834fc54672b4489f53328a80d3": {
      "model_module": "@jupyter-widgets/base",
      "model_module_version": "1.2.0",
      "model_name": "LayoutModel",
      "state": {}
     },
     "cf88121ba87b47c1885a60b4a29139b0": {
      "model_module": "@jupyter-widgets/base",
      "model_module_version": "1.2.0",
      "model_name": "LayoutModel",
      "state": {
       "grid_area": "widget049",
       "height": "22px",
       "width": "42px"
      }
     },
     "cfa5f61114f24174bf93d8256991b6ea": {
      "model_module": "@jupyter-widgets/controls",
      "model_module_version": "1.5.0",
      "model_name": "ToggleButtonModel",
      "state": {
       "description": "Rh",
       "layout": "IPY_MODEL_ab06a307fbb34263a89fac4d8ff7c331",
       "style": "IPY_MODEL_e47c4118c5784a818c25ebf90a3aff9b"
      }
     },
     "d065d98d1bc048939b2c1fd8f74c6c83": {
      "model_module": "@jupyter-widgets/base",
      "model_module_version": "1.2.0",
      "model_name": "LayoutModel",
      "state": {}
     },
     "d0d43a05c3694dc981ae0b000eea572a": {
      "model_module": "@jupyter-widgets/controls",
      "model_module_version": "1.5.0",
      "model_name": "ToggleButtonModel",
      "state": {
       "description": "Md",
       "layout": "IPY_MODEL_030b29b86f3a47d8a1239d203c3be0ce",
       "style": "IPY_MODEL_f9a83907b1754a3d8afa17f548489d59"
      }
     },
     "d14513bb1186415584c7db1529649bd6": {
      "model_module": "@jupyter-widgets/controls",
      "model_module_version": "1.5.0",
      "model_name": "ToggleButtonModel",
      "state": {
       "description": "Ru",
       "layout": "IPY_MODEL_e17be6fa2b9e421b99b7cebdfbd08023",
       "style": "IPY_MODEL_5446d551ec3940639e94436a69ef96fc"
      }
     },
     "d19770a14a2a4edd9e2a61e0b7aff9e5": {
      "model_module": "@jupyter-widgets/controls",
      "model_module_version": "1.5.0",
      "model_name": "DescriptionStyleModel",
      "state": {
       "description_width": ""
      }
     },
     "d1cfa09590b04778aa52ab6bc3bcb656": {
      "model_module": "@jupyter-widgets/controls",
      "model_module_version": "1.5.0",
      "model_name": "DescriptionStyleModel",
      "state": {
       "description_width": ""
      }
     },
     "d3c8a3c106544b52a0314a04e91f565d": {
      "model_module": "@jupyter-widgets/base",
      "model_module_version": "1.2.0",
      "model_name": "LayoutModel",
      "state": {}
     },
     "d5022c7fa27f453987331a06be4caf3f": {
      "model_module": "@jupyter-widgets/controls",
      "model_module_version": "1.5.0",
      "model_name": "ToggleButtonModel",
      "state": {
       "description": "Ni",
       "layout": "IPY_MODEL_1e8e3abeb5f74fec8036aca5aa709179",
       "style": "IPY_MODEL_1354bbab3c114a688737fbf5faae1891"
      }
     },
     "d51b4eed7d544e34a083fee64f9a873a": {
      "model_module": "@jupyter-widgets/controls",
      "model_module_version": "1.5.0",
      "model_name": "ToggleButtonModel",
      "state": {
       "description": "N",
       "layout": "IPY_MODEL_5761b367cca94ffdb7d619a28c158129",
       "style": "IPY_MODEL_d6aefa08c23b41d6abe7effc82783d79"
      }
     },
     "d5d1cfe18b1a49fa9f0d0f3e15988564": {
      "model_module": "@jupyter-widgets/base",
      "model_module_version": "1.2.0",
      "model_name": "LayoutModel",
      "state": {
       "grid_area": "widget071",
       "height": "22px",
       "width": "42px"
      }
     },
     "d6aefa08c23b41d6abe7effc82783d79": {
      "model_module": "@jupyter-widgets/controls",
      "model_module_version": "1.5.0",
      "model_name": "DescriptionStyleModel",
      "state": {
       "description_width": ""
      }
     },
     "d82cf9dfeb9f4cf6981e6f8ba1ad66df": {
      "model_module": "@jupyter-widgets/base",
      "model_module_version": "1.2.0",
      "model_name": "LayoutModel",
      "state": {
       "grid_area": "widget043",
       "height": "22px",
       "width": "42px"
      }
     },
     "d849d6e4fa3848bb8b6573f2db376923": {
      "model_module": "@jupyter-widgets/controls",
      "model_module_version": "1.5.0",
      "model_name": "ToggleButtonModel",
      "state": {
       "description": "Ts",
       "layout": "IPY_MODEL_38a245941608454abb239778e87cbd98",
       "style": "IPY_MODEL_00dff91b958a4d57a0bfd214de48457a"
      }
     },
     "d981d7c4bec447ab8621e7ec94218e97": {
      "model_module": "@jupyter-widgets/controls",
      "model_module_version": "1.5.0",
      "model_name": "ToggleButtonModel",
      "state": {
       "description": "P",
       "layout": "IPY_MODEL_84fe80a2b3c34bf9b675aeae27478e82",
       "style": "IPY_MODEL_1213b6d2b2b84a4da3d15d21f1b44f33"
      }
     },
     "d9cd7590309e40e8a952936dd2db0a31": {
      "model_module": "@jupyter-widgets/base",
      "model_module_version": "1.2.0",
      "model_name": "LayoutModel",
      "state": {
       "grid_area": "widget038",
       "height": "22px",
       "width": "42px"
      }
     },
     "da43e08a906447a8b7901f6af5b5a5d5": {
      "model_module": "@jupyter-widgets/controls",
      "model_module_version": "1.5.0",
      "model_name": "DescriptionStyleModel",
      "state": {
       "description_width": ""
      }
     },
     "daf705c18e844fe487cb1dc0f0459bba": {
      "model_module": "@jupyter-widgets/base",
      "model_module_version": "1.2.0",
      "model_name": "LayoutModel",
      "state": {
       "grid_area": "widget051",
       "height": "22px",
       "width": "42px"
      }
     },
     "daf741b62e354c25b765d1a3fbb0b402": {
      "model_module": "@jupyter-widgets/base",
      "model_module_version": "1.2.0",
      "model_name": "LayoutModel",
      "state": {
       "grid_area": "widget003",
       "height": "22px",
       "width": "42px"
      }
     },
     "db050a7f30044a18ab1d364504ec2fb6": {
      "model_module": "@jupyter-widgets/controls",
      "model_module_version": "1.5.0",
      "model_name": "DescriptionStyleModel",
      "state": {
       "description_width": ""
      }
     },
     "dba16a7fbef34a4fa5c4e70e2f50216e": {
      "model_module": "@jupyter-widgets/controls",
      "model_module_version": "1.5.0",
      "model_name": "DescriptionStyleModel",
      "state": {
       "description_width": ""
      }
     },
     "dbe27ac73e904713bbe8d0aa71420a54": {
      "model_module": "@jupyter-widgets/base",
      "model_module_version": "1.2.0",
      "model_name": "LayoutModel",
      "state": {
       "grid_area": "widget016",
       "height": "22px",
       "width": "42px"
      }
     },
     "dc0e512bf2694465aaa9441edb6eed90": {
      "model_module": "@jupyter-widgets/controls",
      "model_module_version": "1.5.0",
      "model_name": "DescriptionStyleModel",
      "state": {
       "description_width": ""
      }
     },
     "dcebbaf4f84240be8d387e5547d04d92": {
      "model_module": "@jupyter-widgets/base",
      "model_module_version": "1.2.0",
      "model_name": "LayoutModel",
      "state": {
       "grid_area": "widget040",
       "height": "22px",
       "width": "42px"
      }
     },
     "dddf34437693474cbde6d9a71731a6d0": {
      "model_module": "@jupyter-widgets/base",
      "model_module_version": "1.2.0",
      "model_name": "LayoutModel",
      "state": {
       "grid_area": "widget084",
       "height": "22px",
       "width": "42px"
      }
     },
     "de267d80373a421f99989d37d3490be4": {
      "model_module": "@jupyter-widgets/base",
      "model_module_version": "1.2.0",
      "model_name": "LayoutModel",
      "state": {
       "grid_area": "widget008",
       "height": "22px",
       "width": "42px"
      }
     },
     "de8d3a689ffe420cb87bedd3a6ba5a10": {
      "model_module": "@jupyter-widgets/controls",
      "model_module_version": "1.5.0",
      "model_name": "ToggleButtonModel",
      "state": {
       "description": "Ca",
       "layout": "IPY_MODEL_71af44da30f54b229f869b6ba13e02e5",
       "style": "IPY_MODEL_ed59cc084bb748f3bc4ff43d3b7266f7"
      }
     },
     "deb23b1131f7496da1d0aa8a291c0bcb": {
      "model_module": "@jupyter-widgets/base",
      "model_module_version": "1.2.0",
      "model_name": "LayoutModel",
      "state": {
       "grid_area": "widget027",
       "height": "22px",
       "width": "42px"
      }
     },
     "dff24648bca94f9ebbef878075f622b3": {
      "model_module": "@jupyter-widgets/base",
      "model_module_version": "1.2.0",
      "model_name": "LayoutModel",
      "state": {
       "grid_area": "widget088",
       "height": "22px",
       "width": "42px"
      }
     },
     "e0d7aee821c548c38c4a62167bfdde19": {
      "model_module": "@jupyter-widgets/controls",
      "model_module_version": "1.5.0",
      "model_name": "ToggleButtonModel",
      "state": {
       "description": "K",
       "layout": "IPY_MODEL_54cd7693f2194b608dc6121e09e36354",
       "style": "IPY_MODEL_4945c92918b24921b8e5685e64e9235b"
      }
     },
     "e0edafc06d3d4f418bb3e62d693b5d54": {
      "model_module": "@jupyter-widgets/controls",
      "model_module_version": "1.5.0",
      "model_name": "ToggleButtonModel",
      "state": {
       "description": "Pt",
       "layout": "IPY_MODEL_1cf979e48ad44fe7b796fd27dbcbe6db",
       "style": "IPY_MODEL_b11d0d35613048aea347a99089f9c4af"
      }
     },
     "e0f6bfe7957d44bab3cb0b0fa0c9b703": {
      "model_module": "@jupyter-widgets/base",
      "model_module_version": "1.2.0",
      "model_name": "LayoutModel",
      "state": {
       "grid_area": "widget072",
       "height": "22px",
       "width": "42px"
      }
     },
     "e17be6fa2b9e421b99b7cebdfbd08023": {
      "model_module": "@jupyter-widgets/base",
      "model_module_version": "1.2.0",
      "model_name": "LayoutModel",
      "state": {
       "grid_area": "widget044",
       "height": "22px",
       "width": "42px"
      }
     },
     "e37ef189a9c445e38028983880ef24a1": {
      "model_module": "@jupyter-widgets/controls",
      "model_module_version": "1.5.0",
      "model_name": "DescriptionStyleModel",
      "state": {
       "description_width": ""
      }
     },
     "e3e244440130470faf84518fa9b93ac3": {
      "model_module": "@jupyter-widgets/controls",
      "model_module_version": "1.5.0",
      "model_name": "ToggleButtonModel",
      "state": {
       "description": "Sc",
       "layout": "IPY_MODEL_88c8e73f47164a80ab0d0055a9761a01",
       "style": "IPY_MODEL_0fbcb775ee504637b6c4cbcd6a9e31e4"
      }
     },
     "e47c4118c5784a818c25ebf90a3aff9b": {
      "model_module": "@jupyter-widgets/controls",
      "model_module_version": "1.5.0",
      "model_name": "DescriptionStyleModel",
      "state": {
       "description_width": ""
      }
     },
     "e4d7fc68dc494f4a9729a381bb7a1025": {
      "model_module": "@jupyter-widgets/controls",
      "model_module_version": "1.5.0",
      "model_name": "ToggleButtonModel",
      "state": {
       "description": "Co",
       "layout": "IPY_MODEL_deb23b1131f7496da1d0aa8a291c0bcb",
       "style": "IPY_MODEL_08c8b9c90b864434b6da638ad72537c4"
      }
     },
     "e4ecda4ff9f34d5f93c6323181a7fc4f": {
      "model_module": "@jupyter-widgets/controls",
      "model_module_version": "1.5.0",
      "model_name": "DescriptionStyleModel",
      "state": {
       "description_width": ""
      }
     },
     "e521949e1e2943df9bd459a4ff24d6f0": {
      "model_module": "@jupyter-widgets/controls",
      "model_module_version": "1.5.0",
      "model_name": "DescriptionStyleModel",
      "state": {
       "description_width": ""
      }
     },
     "e5e2c28eb7db42e49f81564f66bba0e0": {
      "model_module": "@jupyter-widgets/controls",
      "model_module_version": "1.5.0",
      "model_name": "ToggleButtonModel",
      "state": {
       "description": "Ge",
       "layout": "IPY_MODEL_32716ae6d8a54b708bd5f819f746ef9a",
       "style": "IPY_MODEL_2f5f72239d69428d856e2a56086fd12d"
      }
     },
     "e6ba3c00dc43427d880fbb18b35183b4": {
      "model_module": "@jupyter-widgets/base",
      "model_module_version": "1.2.0",
      "model_name": "LayoutModel",
      "state": {
       "grid_area": "widget001",
       "height": "22px",
       "width": "42px"
      }
     },
     "e757606302d340c1a27aaa9cc2666220": {
      "model_module": "@jupyter-widgets/controls",
      "model_module_version": "1.5.0",
      "model_name": "ToggleButtonModel",
      "state": {
       "description": "Rg",
       "layout": "IPY_MODEL_7df5ca9b42d64aaca752c45bed371abf",
       "style": "IPY_MODEL_a5c77409efd84c599530c0a0273977f9"
      }
     },
     "e7ce33fb53934c2889f8fe02e622e572": {
      "model_module": "@jupyter-widgets/controls",
      "model_module_version": "1.5.0",
      "model_name": "ToggleButtonModel",
      "state": {
       "description": "Pr",
       "layout": "IPY_MODEL_0eb047c941f84917a8d62ad5cae81b1f",
       "style": "IPY_MODEL_6b83ff3b50ce4cf689661bf71dfa0a4a"
      }
     },
     "e82e72c78414494aa72c66ba0509d0f5": {
      "model_module": "@jupyter-widgets/controls",
      "model_module_version": "1.5.0",
      "model_name": "DescriptionStyleModel",
      "state": {
       "description_width": ""
      }
     },
     "e867e5677eca4daabe16526f35013d2a": {
      "model_module": "@jupyter-widgets/controls",
      "model_module_version": "1.5.0",
      "model_name": "ToggleButtonModel",
      "state": {
       "description": "Ba",
       "layout": "IPY_MODEL_fcf3e4561d6749d398eeb2648ff4e162",
       "style": "IPY_MODEL_2b72aa87d25a4ce28be284056baaa78a"
      }
     },
     "e8b5842c6c304e55bd855a5ae38a8a5e": {
      "model_module": "@jupyter-widgets/controls",
      "model_module_version": "1.5.0",
      "model_name": "DescriptionStyleModel",
      "state": {
       "description_width": ""
      }
     },
     "e92de58b1ee341bd88f4b49e9dead560": {
      "model_module": "@jupyter-widgets/controls",
      "model_module_version": "1.5.0",
      "model_name": "ToggleButtonModel",
      "state": {
       "description": "Mt",
       "layout": "IPY_MODEL_743be3ca44c74aa6b9f767a0e1cc3b55",
       "style": "IPY_MODEL_7d90c76644324bcc9b185113afdb8417"
      }
     },
     "e9e24fe321b24878bc85a8fa2262fea4": {
      "model_module": "@jupyter-widgets/base",
      "model_module_version": "1.2.0",
      "model_name": "LayoutModel",
      "state": {
       "grid_template_areas": "\"widget001 . . . . . . . . . . . . . . . . widget002\"\n\"widget003 widget004 . . . . . . . . . . widget005 widget006 widget007 widget008 widget009 widget010\"\n\"widget011 widget012 . . . . . . . . . . widget013 widget014 widget015 widget016 widget017 widget018\"\n\"widget019 widget020 widget021 widget022 widget023 widget024 widget025 widget026 widget027 widget028 widget029 widget030 widget031 widget032 widget033 widget034 widget035 widget036\"\n\"widget037 widget038 widget039 widget040 widget041 widget042 widget043 widget044 widget045 widget046 widget047 widget048 widget049 widget050 widget051 widget052 widget053 widget054\"\n\"widget055 widget056 . widget072 widget073 widget074 widget075 widget076 widget077 widget078 widget079 widget080 widget081 widget082 widget083 widget084 widget085 widget086\"\n\"widget087 widget088 . widget104 widget105 widget106 widget107 widget108 widget109 widget110 widget111 widget112 widget113 widget114 widget115 widget116 widget117 widget118\"\n\". . . . . . . . . . . . . . . . . .\"\n\". . widget057 widget058 widget059 widget060 widget061 widget062 widget063 widget064 widget065 widget066 widget067 widget068 widget069 widget070 widget071 .\"\n\". . widget089 widget090 widget091 widget092 widget093 widget094 widget095 widget096 widget097 widget098 widget099 widget100 widget101 widget102 widget103 .\"",
       "grid_template_columns": "repeat(18, 1fr)",
       "grid_template_rows": "repeat(10, 1fr)",
       "width": "860px"
      }
     },
     "e9edec04076548818ffd4fd0d28245a2": {
      "model_module": "@jupyter-widgets/controls",
      "model_module_version": "1.5.0",
      "model_name": "DescriptionStyleModel",
      "state": {
       "description_width": ""
      }
     },
     "ec147622ee8046e1a31675a18d74a10e": {
      "model_module": "@jupyter-widgets/controls",
      "model_module_version": "1.5.0",
      "model_name": "ButtonStyleModel",
      "state": {}
     },
     "ec296d827d584f2f94cc6ad0a11234f9": {
      "model_module": "@jupyter-widgets/controls",
      "model_module_version": "1.5.0",
      "model_name": "ToggleButtonModel",
      "state": {
       "description": "He",
       "layout": "IPY_MODEL_4f088adab2d247e2912146fed2b9cb6e",
       "style": "IPY_MODEL_7223892fb5a24797a16777c237e41ce0"
      }
     },
     "ece3e01b5ba04104a087e87ce206e788": {
      "model_module": "@jupyter-widgets/controls",
      "model_module_version": "1.5.0",
      "model_name": "ToggleButtonModel",
      "state": {
       "description": "Nb",
       "layout": "IPY_MODEL_77d36e7430e940809b5af05627babdab",
       "style": "IPY_MODEL_a77d9220be1b4b0c859b916953cba7c1"
      }
     },
     "ed14e03eef184e319ead6c8509d7477b": {
      "model_module": "@jupyter-widgets/base",
      "model_module_version": "1.2.0",
      "model_name": "LayoutModel",
      "state": {
       "grid_area": "widget039",
       "height": "22px",
       "width": "42px"
      }
     },
     "ed59cc084bb748f3bc4ff43d3b7266f7": {
      "model_module": "@jupyter-widgets/controls",
      "model_module_version": "1.5.0",
      "model_name": "DescriptionStyleModel",
      "state": {
       "description_width": ""
      }
     },
     "eda188fc96804919ba3cf3d846dfa632": {
      "model_module": "@jupyter-widgets/base",
      "model_module_version": "1.2.0",
      "model_name": "LayoutModel",
      "state": {}
     },
     "efe1068e0b5a4f36a13e04e9ad02bf3c": {
      "model_module": "@jupyter-widgets/controls",
      "model_module_version": "1.5.0",
      "model_name": "ToggleButtonModel",
      "state": {
       "description": "H",
       "layout": "IPY_MODEL_e6ba3c00dc43427d880fbb18b35183b4",
       "style": "IPY_MODEL_f244771ca7b849a793be150280106d1a"
      }
     },
     "f0222a46541e4e4eba40b278bcd77d57": {
      "model_module": "@jupyter-widgets/base",
      "model_module_version": "1.2.0",
      "model_name": "LayoutModel",
      "state": {
       "grid_area": "widget012",
       "height": "22px",
       "width": "42px"
      }
     },
     "f1436ab874a74ce8ad12a6419ae841ba": {
      "model_module": "@jupyter-widgets/base",
      "model_module_version": "1.2.0",
      "model_name": "LayoutModel",
      "state": {
       "grid_area": "widget077",
       "height": "22px",
       "width": "42px"
      }
     },
     "f1a22fb84f3944928081228724fe2340": {
      "model_module": "@jupyter-widgets/base",
      "model_module_version": "1.2.0",
      "model_name": "LayoutModel",
      "state": {
       "grid_area": "widget091",
       "height": "22px",
       "width": "42px"
      }
     },
     "f22e4f9c0640463aa77ba62d3bcd011d": {
      "model_module": "@jupyter-widgets/base",
      "model_module_version": "1.2.0",
      "model_name": "LayoutModel",
      "state": {
       "grid_area": "widget048",
       "height": "22px",
       "width": "42px"
      }
     },
     "f244771ca7b849a793be150280106d1a": {
      "model_module": "@jupyter-widgets/controls",
      "model_module_version": "1.5.0",
      "model_name": "DescriptionStyleModel",
      "state": {
       "description_width": ""
      }
     },
     "f269613376ed47b7a9f77b4b4bdd4c09": {
      "model_module": "@jupyter-widgets/base",
      "model_module_version": "1.2.0",
      "model_name": "LayoutModel",
      "state": {
       "grid_area": "widget085",
       "height": "22px",
       "width": "42px"
      }
     },
     "f30bca9c678449b9b0b50bdf7ece528b": {
      "model_module": "@jupyter-widgets/controls",
      "model_module_version": "1.5.0",
      "model_name": "ToggleButtonModel",
      "state": {
       "description": "Tc",
       "layout": "IPY_MODEL_d82cf9dfeb9f4cf6981e6f8ba1ad66df",
       "style": "IPY_MODEL_046f30e4f93844388851c6eec70a0a35"
      }
     },
     "f3194c276c764f308bef75951ce782b9": {
      "model_module": "@jupyter-widgets/controls",
      "model_module_version": "1.5.0",
      "model_name": "DescriptionStyleModel",
      "state": {
       "description_width": ""
      }
     },
     "f347f50a848340e196779f57c3a635a4": {
      "model_module": "@jupyter-widgets/controls",
      "model_module_version": "1.5.0",
      "model_name": "ToggleButtonModel",
      "state": {
       "description": "Sm",
       "layout": "IPY_MODEL_8581af8b043f4fe6ad001e3f3c8b1483",
       "style": "IPY_MODEL_54f6983dacf64e6880b2d9b3082c8fcc"
      }
     },
     "f356cd04819d4f139705affd080ce283": {
      "model_module": "@jupyter-widgets/controls",
      "model_module_version": "1.5.0",
      "model_name": "DescriptionStyleModel",
      "state": {
       "description_width": ""
      }
     },
     "f38960e4987b445da15a8c2e0bb8457b": {
      "model_module": "@jupyter-widgets/base",
      "model_module_version": "1.2.0",
      "model_name": "LayoutModel",
      "state": {
       "grid_area": "widget095",
       "height": "22px",
       "width": "42px"
      }
     },
     "f3ada395934a483c9aad914fdcf6018f": {
      "model_module": "@jupyter-widgets/controls",
      "model_module_version": "1.5.0",
      "model_name": "DescriptionStyleModel",
      "state": {
       "description_width": ""
      }
     },
     "f40334ed04c64b8cafa3c9d678862877": {
      "model_module": "@jupyter-widgets/base",
      "model_module_version": "1.2.0",
      "model_name": "LayoutModel",
      "state": {
       "grid_area": "widget073",
       "height": "22px",
       "width": "42px"
      }
     },
     "f41dda301101446580669d15110bbaf2": {
      "model_module": "@jupyter-widgets/base",
      "model_module_version": "1.2.0",
      "model_name": "LayoutModel",
      "state": {
       "height": "27px",
       "width": "80px"
      }
     },
     "f48bdc7526a44ddc9568c5cee44e6e26": {
      "model_module": "@jupyter-widgets/controls",
      "model_module_version": "1.5.0",
      "model_name": "ToggleButtonModel",
      "state": {
       "description": "Rf",
       "layout": "IPY_MODEL_6a9998c2dc3845d28df1b816bd445c8a",
       "style": "IPY_MODEL_cd3f148c62694fc6b5027865bff71a68"
      }
     },
     "f4b0d99f90cd4b23a852dcdefc54f111": {
      "model_module": "@jupyter-widgets/base",
      "model_module_version": "1.2.0",
      "model_name": "LayoutModel",
      "state": {
       "grid_area": "widget011",
       "height": "22px",
       "width": "42px"
      }
     },
     "f522985a3673436882658d1b750efca7": {
      "model_module": "@jupyter-widgets/controls",
      "model_module_version": "1.5.0",
      "model_name": "ToggleButtonModel",
      "state": {
       "description": "Dy",
       "layout": "IPY_MODEL_36e8049b513b4ea789d3259ea831cb35",
       "style": "IPY_MODEL_0ea01fd5103e47b8b70349d826f15a41"
      }
     },
     "f5f25acba86142b1a6a81a5dfbe25a56": {
      "model_module": "@jupyter-widgets/controls",
      "model_module_version": "1.5.0",
      "model_name": "ToggleButtonModel",
      "state": {
       "description": "Cu",
       "layout": "IPY_MODEL_06217cbb6740438cb246a1ccd53b0514",
       "style": "IPY_MODEL_923dc6e9370645aa92d4bc80a2195918"
      }
     },
     "f67db886b3244ec1b874371052350b6f": {
      "model_module": "@jupyter-widgets/controls",
      "model_module_version": "1.5.0",
      "model_name": "ToggleButtonModel",
      "state": {
       "description": "Nd",
       "layout": "IPY_MODEL_59d788fd164242579b811800dc20e24e",
       "style": "IPY_MODEL_e82e72c78414494aa72c66ba0509d0f5"
      }
     },
     "f7edb37d20b244b4896843cb89ee47e7": {
      "model_module": "@jupyter-widgets/controls",
      "model_module_version": "1.5.0",
      "model_name": "DescriptionStyleModel",
      "state": {
       "description_width": ""
      }
     },
     "f8a69d0b44d046f393d5b595eade15e0": {
      "model_module": "@jupyter-widgets/base",
      "model_module_version": "1.2.0",
      "model_name": "LayoutModel",
      "state": {
       "grid_area": "widget087",
       "height": "22px",
       "width": "42px"
      }
     },
     "f8deec53c75b4a58b584743aa7ca5615": {
      "model_module": "@jupyter-widgets/base",
      "model_module_version": "1.2.0",
      "model_name": "LayoutModel",
      "state": {
       "grid_area": "widget065",
       "height": "22px",
       "width": "42px"
      }
     },
     "f91bc0955e4944aa86b74c7e49366745": {
      "model_module": "@jupyter-widgets/controls",
      "model_module_version": "1.5.0",
      "model_name": "ToggleButtonModel",
      "state": {
       "description": "F",
       "layout": "IPY_MODEL_261d25fe06be4ce6bdd0794b51bcd830",
       "style": "IPY_MODEL_ab33d841112542479c90ae3083c301f5"
      }
     },
     "f977f044574d45d69757edd2d01bd7ac": {
      "model_module": "@jupyter-widgets/base",
      "model_module_version": "1.2.0",
      "model_name": "LayoutModel",
      "state": {
       "grid_area": "widget054",
       "height": "22px",
       "width": "42px"
      }
     },
     "f987ea44a63743f2adb5a1a28ebeb1c8": {
      "model_module": "@jupyter-widgets/controls",
      "model_module_version": "1.5.0",
      "model_name": "DropdownModel",
      "state": {
       "_options_labels": [
        "within",
        "any",
        "only"
       ],
       "description": "ele option",
       "index": 0,
       "layout": "IPY_MODEL_1a2acf6f53274620ad1225ca424225b8",
       "style": "IPY_MODEL_5ec33541e24a428a8782486af5be82e4"
      }
     },
     "f9a3d5c48e184dde9f4ba10b52ea8a28": {
      "model_module": "@jupyter-widgets/controls",
      "model_module_version": "1.5.0",
      "model_name": "DescriptionStyleModel",
      "state": {
       "description_width": ""
      }
     },
     "f9a83907b1754a3d8afa17f548489d59": {
      "model_module": "@jupyter-widgets/controls",
      "model_module_version": "1.5.0",
      "model_name": "DescriptionStyleModel",
      "state": {
       "description_width": ""
      }
     },
     "f9e051789d654e9ab17bc974104420a0": {
      "model_module": "@jupyter-widgets/controls",
      "model_module_version": "1.5.0",
      "model_name": "DescriptionStyleModel",
      "state": {
       "description_width": ""
      }
     },
     "f9e533c4a9b94de1a995a6451c132c64": {
      "model_module": "@jupyter-widgets/controls",
      "model_module_version": "1.5.0",
      "model_name": "DescriptionStyleModel",
      "state": {
       "description_width": ""
      }
     },
     "fa812a898379417992fb29c3d3a2d505": {
      "model_module": "@jupyter-widgets/controls",
      "model_module_version": "1.5.0",
      "model_name": "ToggleButtonModel",
      "state": {
       "description": "Fl",
       "layout": "IPY_MODEL_51f652980e654616ac540dae76cb935a",
       "style": "IPY_MODEL_3901e1fd5ed44adb8de55524c44553e9"
      }
     },
     "fb8077361dc94c6187fa46a0bbce0114": {
      "model_module": "@jupyter-widgets/controls",
      "model_module_version": "1.5.0",
      "model_name": "ToggleButtonModel",
      "state": {
       "description": "Li",
       "layout": "IPY_MODEL_daf741b62e354c25b765d1a3fbb0b402",
       "style": "IPY_MODEL_0711bb1a9b744dab839f73a9dd271d64"
      }
     },
     "fb8c267cb4b448ebb301dd714b1612f8": {
      "model_module": "@jupyter-widgets/controls",
      "model_module_version": "1.5.0",
      "model_name": "ToggleButtonModel",
      "state": {
       "description": "Ce",
       "layout": "IPY_MODEL_76f897c0944a4fd7a7726a9bc948494d",
       "style": "IPY_MODEL_f9e051789d654e9ab17bc974104420a0"
      }
     },
     "fcdbc0dd397d439c801d3bb26c846d7f": {
      "model_module": "@jupyter-widgets/controls",
      "model_module_version": "1.5.0",
      "model_name": "ToggleButtonModel",
      "state": {
       "description": "Mg",
       "layout": "IPY_MODEL_f0222a46541e4e4eba40b278bcd77d57",
       "style": "IPY_MODEL_a8a3852ea58347bba2e377e05004b661"
      }
     },
     "fcf3e4561d6749d398eeb2648ff4e162": {
      "model_module": "@jupyter-widgets/base",
      "model_module_version": "1.2.0",
      "model_name": "LayoutModel",
      "state": {
       "grid_area": "widget056",
       "height": "22px",
       "width": "42px"
      }
     },
     "fdbe716485f04858869fea82f2cade1b": {
      "model_module": "@jupyter-widgets/controls",
      "model_module_version": "1.5.0",
      "model_name": "ToggleButtonModel",
      "state": {
       "description": "Sn",
       "layout": "IPY_MODEL_6fdc7208d12342c18c7bbcb101eb4e46",
       "style": "IPY_MODEL_ae6f694b16204ee6bd1d111abe8ca3e8"
      }
     },
     "fe7518f38a1447cfba74dcfabf5dc9f8": {
      "model_module": "@jupyter-widgets/controls",
      "model_module_version": "1.5.0",
      "model_name": "ToggleButtonModel",
      "state": {
       "description": "Ag",
       "layout": "IPY_MODEL_5ed4dda7b7bd471994cf38bb592e0a3c",
       "style": "IPY_MODEL_dba16a7fbef34a4fa5c4e70e2f50216e"
      }
     }
    },
    "version_major": 2,
    "version_minor": 0
   }
  }
 },
 "nbformat": 4,
 "nbformat_minor": 5
}
