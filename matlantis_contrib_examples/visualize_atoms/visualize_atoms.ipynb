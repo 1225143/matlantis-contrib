{
 "cells": [
  {
   "cell_type": "markdown",
   "id": "77b28d14-bf40-48cc-8756-fa9a9bae6a4b",
   "metadata": {},
   "source": [
    "Copyright Preferred Networks, Inc as contributors to Matlantis contrib project"
   ]
  },
  {
   "cell_type": "markdown",
   "id": "553dfc4d-88f2-4c68-8e2f-75fa36b251f0",
   "metadata": {},
   "source": [
    "## これはase.Atomsの可視化のためのtips集です. nglviewの出力はこのnotebookのpreviewには表示されないので注意してください."
   ]
  },
  {
   "cell_type": "code",
   "execution_count": 1,
   "id": "58b6db51-9b35-4610-9e72-d96f36120fe6",
   "metadata": {},
   "outputs": [
    {
     "data": {
      "application/vnd.jupyter.widget-view+json": {
       "model_id": "d11ba2c76b464c5f9e75d5400820a4b5",
       "version_major": 2,
       "version_minor": 0
      },
      "text/plain": []
     },
     "metadata": {},
     "output_type": "display_data"
    }
   ],
   "source": [
    "import numpy as np\n",
    "import nglview as nv\n",
    "import tempfile\n",
    "from ase.build import diamond100, molecule, bulk\n",
    "from ase.io import read"
   ]
  },
  {
   "cell_type": "markdown",
   "id": "cecc4f30",
   "metadata": {},
   "source": [
    "# 分子と各原子のindexを同時に描画する関数\n",
    "各原子の位置にその元素名とindexを描画する関数です."
   ]
  },
  {
   "cell_type": "code",
   "execution_count": 2,
   "id": "82b7358f",
   "metadata": {},
   "outputs": [],
   "source": [
    "def view_with_atomindex(atoms, label_color: str = \"blue\", label_scale: float = 1.0):\n",
    "    v = nv.show_ase(atoms, viewer=\"ngl\")\n",
    "    v.add_label(\n",
    "        color=label_color, labelType=\"text\",\n",
    "        labelText=[atoms[i].symbol + str(i) for i in range(atoms.get_global_number_of_atoms())],\n",
    "        zOffset=1.0, attachment='middle_center', radius=label_scale\n",
    "    )\n",
    "    return v"
   ]
  },
  {
   "cell_type": "code",
   "execution_count": 3,
   "id": "f77a3a89",
   "metadata": {},
   "outputs": [
    {
     "data": {
      "application/vnd.jupyter.widget-view+json": {
       "model_id": "05a54b5c867a44a5beb29c65e19bfeae",
       "version_major": 2,
       "version_minor": 0
      },
      "text/plain": [
       "NGLWidget()"
      ]
     },
     "metadata": {},
     "output_type": "display_data"
    }
   ],
   "source": [
    "formula = \"C60\"\n",
    "atoms = molecule(formula)\n",
    "view_with_atomindex(atoms)"
   ]
  },
  {
   "cell_type": "code",
   "execution_count": 4,
   "id": "3f36811f",
   "metadata": {},
   "outputs": [
    {
     "data": {
      "application/vnd.jupyter.widget-view+json": {
       "model_id": "7d7879d3870a4503be0b0e06ff7408b6",
       "version_major": 2,
       "version_minor": 0
      },
      "text/plain": [
       "NGLWidget()"
      ]
     },
     "metadata": {},
     "output_type": "display_data"
    }
   ],
   "source": [
    "atoms = diamond100('C', size=(4,4,4),vacuum=10.0)\n",
    "view_with_atomindex(atoms)"
   ]
  },
  {
   "cell_type": "code",
   "execution_count": 5,
   "id": "f3c2036e-18f6-437d-8a19-2a05faa16125",
   "metadata": {},
   "outputs": [
    {
     "data": {
      "application/vnd.jupyter.widget-view+json": {
       "model_id": "fcd8960968074b16a723529b5f70deba",
       "version_major": 2,
       "version_minor": 0
      },
      "text/plain": [
       "NGLWidget()"
      ]
     },
     "metadata": {},
     "output_type": "display_data"
    }
   ],
   "source": [
    "atoms = bulk('Pt', \"fcc\") * (4,4,4)\n",
    "view_with_atomindex(atoms)"
   ]
  },
  {
   "cell_type": "markdown",
   "id": "cf29f476",
   "metadata": {},
   "source": [
    "# 各原子の座標を表示する関数\n",
    "\n",
    "各原子の位置にマウスカーソルを合わせると座標が表示される関数です."
   ]
  },
  {
   "cell_type": "code",
   "execution_count": 6,
   "id": "b98a64d2",
   "metadata": {},
   "outputs": [],
   "source": [
    "darkgrey = [0.6, 0.6, 0.6]\n",
    "def view_with_atomcoordinate(atoms, radius=0.5):\n",
    "    v = nv.show_ase(atoms, viewer=\"ngl\")\n",
    "    with tempfile.TemporaryDirectory() as td:\n",
    "        atoms.write(td+\"/atoms.pdb\")\n",
    "        atoms_pdb = read(td+\"/atoms.pdb\")\n",
    "        for i in range(len(atoms)):\n",
    "            v.shape.add_sphere(atoms_pdb[i].position.tolist(), darkgrey, radius, f\"x:{atoms[i].position[0]}, y:{atoms[i].position[1]}, z:{atoms[i].position[2]}\")\n",
    "    return v"
   ]
  },
  {
   "cell_type": "code",
   "execution_count": 7,
   "id": "5d4d3985",
   "metadata": {},
   "outputs": [
    {
     "data": {
      "application/vnd.jupyter.widget-view+json": {
       "model_id": "90d2b7c0b7544dcab70474434f36fe56",
       "version_major": 2,
       "version_minor": 0
      },
      "text/plain": [
       "NGLWidget()"
      ]
     },
     "metadata": {},
     "output_type": "display_data"
    }
   ],
   "source": [
    "formula = \"C60\"\n",
    "atoms = molecule(formula)\n",
    "view_with_atomcoordinate(atoms)"
   ]
  },
  {
   "cell_type": "code",
   "execution_count": 8,
   "id": "f25f1f28",
   "metadata": {},
   "outputs": [
    {
     "data": {
      "application/vnd.jupyter.widget-view+json": {
       "model_id": "2ed484c1f60144559a42cce0ad56fba8",
       "version_major": 2,
       "version_minor": 0
      },
      "text/plain": [
       "NGLWidget()"
      ]
     },
     "metadata": {},
     "output_type": "display_data"
    }
   ],
   "source": [
    "atoms = diamond100('C', size=(4,4,4),vacuum=10.0)\n",
    "view_with_atomcoordinate(atoms)"
   ]
  },
  {
   "cell_type": "code",
   "execution_count": 9,
   "id": "fc679745-0a86-427b-9653-f569539ea708",
   "metadata": {},
   "outputs": [
    {
     "data": {
      "application/vnd.jupyter.widget-view+json": {
       "model_id": "2cc0325c559341168788e4e89d75afd6",
       "version_major": 2,
       "version_minor": 0
      },
      "text/plain": [
       "NGLWidget()"
      ]
     },
     "metadata": {},
     "output_type": "display_data"
    }
   ],
   "source": [
    "atoms = bulk('Pt', \"fcc\") * (4,4,4)\n",
    "view_with_atomcoordinate(atoms)"
   ]
  },
  {
   "cell_type": "markdown",
   "id": "e6f75c9e",
   "metadata": {},
   "source": [
    "# 各原子の座標を表示し, indexと座標軸を描画する関数\n",
    "\n",
    "view_with_atomindex, view_with_atomcoordinateの内容に加えてxyz座標軸を描画する関数です."
   ]
  },
  {
   "cell_type": "code",
   "execution_count": 10,
   "id": "77b74287",
   "metadata": {},
   "outputs": [],
   "source": [
    "darkgrey = [0.6, 0.6, 0.6]\n",
    "grey = [0.8, 0.8, 0.8]\n",
    "black = [0.0, 0.0, 0.0]\n",
    "\n",
    "def view_with_axis(atoms, x_origin=None, y_origin=None, z_origin=None, length=None):\n",
    "    min_pos = np.min(atoms.get_positions(), axis=0)\n",
    "    max_diff = max(np.max(atoms.get_positions(), axis=0) - min_pos) + 0.5\n",
    "    x_origin_auto, y_origin_auto, z_origin_auto =  min_pos - max_diff * 0.2\n",
    "    length_auto = max_diff * 0.3\n",
    "    x_origin = x_origin_auto if x_origin is None else x_origin\n",
    "    y_origin = y_origin_auto if y_origin is None else y_origin\n",
    "    z_origin = z_origin_auto if z_origin is None else z_origin\n",
    "    length = length_auto if length is None else length\n",
    "\n",
    "    v = nv.show_ase(atoms, viewer=\"ngl\")\n",
    "    v.shape.add_arrow([x_origin, y_origin, z_origin], [x_origin+length, y_origin, z_origin], grey, 0.3, \"x-axis\")\n",
    "    v.shape.add_arrow([x_origin, y_origin, z_origin], [x_origin, y_origin+length, z_origin], grey, 0.3, \"y-axis\")\n",
    "    v.shape.add_arrow([x_origin, y_origin, z_origin], [x_origin, y_origin, z_origin+length], grey, 0.3, \"z-axis\")\n",
    "    v.shape.add_label([x_origin+length, y_origin, z_origin], black, 2, 'x')\n",
    "    v.shape.add_label([x_origin, y_origin+length, z_origin], black, 2, 'y')\n",
    "    v.shape.add_label([x_origin, y_origin, z_origin+length], black, 2, 'z')\n",
    "    v.add_label(\n",
    "        color=\"blue\", labelType=\"text\",\n",
    "        labelText=[atoms[i].symbol + str(i) for i in range(atoms.get_global_number_of_atoms())],\n",
    "        zOffset=1.0, attachment='middle_center', radius=1.0\n",
    "    )\n",
    "    with tempfile.TemporaryDirectory() as td:\n",
    "        atoms.write(td+\"/atoms.pdb\")\n",
    "        atoms_pdb = read(td+\"/atoms.pdb\")\n",
    "        for i in range(len(atoms)):\n",
    "            v.shape.add_sphere(atoms_pdb[i].position.tolist(), darkgrey, 0.5, f\"x:{atoms[i].position[0]}, y:{atoms[i].position[1]}, z:{atoms[i].position[2]}\")\n",
    "    return v"
   ]
  },
  {
   "cell_type": "code",
   "execution_count": 11,
   "id": "3365f0ed",
   "metadata": {
    "scrolled": true
   },
   "outputs": [
    {
     "data": {
      "application/vnd.jupyter.widget-view+json": {
       "model_id": "a408707a6ef1424497c4f4ad40bc742f",
       "version_major": 2,
       "version_minor": 0
      },
      "text/plain": [
       "NGLWidget()"
      ]
     },
     "metadata": {},
     "output_type": "display_data"
    }
   ],
   "source": [
    "formula = \"C60\"\n",
    "atoms = molecule(formula)\n",
    "view_with_axis(atoms)"
   ]
  },
  {
   "cell_type": "code",
   "execution_count": 12,
   "id": "8df6717d",
   "metadata": {},
   "outputs": [
    {
     "data": {
      "application/vnd.jupyter.widget-view+json": {
       "model_id": "8bc2ec57e9bb4aac860f18a22e54880f",
       "version_major": 2,
       "version_minor": 0
      },
      "text/plain": [
       "NGLWidget()"
      ]
     },
     "metadata": {},
     "output_type": "display_data"
    }
   ],
   "source": [
    "atoms = diamond100('C', size=(4,4,4),vacuum=10.0)\n",
    "view_with_axis(atoms)"
   ]
  },
  {
   "cell_type": "code",
   "execution_count": 13,
   "id": "5859c9d0-19c0-44a1-8b66-6015b5770d04",
   "metadata": {},
   "outputs": [
    {
     "data": {
      "application/vnd.jupyter.widget-view+json": {
       "model_id": "ee305b5eac51459dbee03e25cfbce059",
       "version_major": 2,
       "version_minor": 0
      },
      "text/plain": [
       "NGLWidget()"
      ]
     },
     "metadata": {},
     "output_type": "display_data"
    }
   ],
   "source": [
    "atoms = bulk('Pt', \"fcc\") * (4,4,4)\n",
    "view_with_axis(atoms)"
   ]
  }
 ],
 "metadata": {
  "kernelspec": {
   "display_name": "Python 3.7",
   "language": "python",
   "name": "python37"
  },
  "language_info": {
   "codemirror_mode": {
    "name": "ipython",
    "version": 3
   },
   "file_extension": ".py",
   "mimetype": "text/x-python",
   "name": "python",
   "nbconvert_exporter": "python",
   "pygments_lexer": "ipython3",
   "version": "3.7.10"
  }
 },
 "nbformat": 4,
 "nbformat_minor": 5
}
