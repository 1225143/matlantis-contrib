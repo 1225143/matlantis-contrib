{
 "cells": [
  {
   "cell_type": "markdown",
   "id": "11ffbf79-7a05-438b-a6b2-8a669ca2ffe8",
   "metadata": {},
   "source": [
    "Copyright ENEOS, Corp., Preferred Computational Chemistry, Inc. and Preferred Networks, Inc. as contributors to Matlantis contrib project\n",
    "\n",
    "# moldraw\n",
    "\n",
    "JSMEを用いて分子を描画しASE　atomsを返すUIツールです。  #eneos ibuka 2022/12/8"
   ]
  },
  {
   "cell_type": "markdown",
   "id": "b322243f-651c-4560-86b7-e5e81fcf7de4",
   "metadata": {},
   "source": [
    "## セットアップ\n",
    "\n",
    "### JSMEインストール\n",
    "\n",
    "JSMEはサーバ通信なしで分子構造描画ができJ-GLOBALでも採用されているBSD licenseソフトです。（https://jsme-editor.github.io/)<br/>\n",
    "以下ではgitを用いてソースコードをダウンロードし使用しています。\n",
    " \n",
    "### pfcc-extrasのインストール\n",
    "\n",
    "Matlantis内のPackage Launcherから `pfcc-extras` をインストールしてください。\n",
    "\n",
    "### autodEのインストール\n",
    "\n",
    "SMILESからASE Atomsへの変換に、`autode` packageを使います。\n",
    " - https://github.com/duartegroup/autodE\n",
    "\n",
    "autodEは [v1.2.3](https://github.com/duartegroup/autodE/releases/tag/v1.2.3) での動作を確認しています。"
   ]
  },
  {
   "cell_type": "code",
   "execution_count": 1,
   "id": "6d0f0e77-c9ea-478c-b8a7-1a03ecb328b5",
   "metadata": {},
   "outputs": [
    {
     "name": "stdout",
     "output_type": "stream",
     "text": [
      "fatal: destination path 'jsme-editor.github.io' already exists and is not an empty directory.\n",
      "HEAD is now at 198ef9b Release 2022-02-26\n"
     ]
    }
   ],
   "source": [
    "!git clone https://github.com/jsme-editor/jsme-editor.github.io.git\n",
    "\n",
    "# Change from \"master\" branch to \"2022-02-26\" release\n",
    "!cd jsme-editor.github.io && git reset --hard 198ef9be65dd1e05846affff7a2dee17de3e267b"
   ]
  },
  {
   "cell_type": "code",
   "execution_count": null,
   "id": "1c3702f6-0521-4a69-83f7-3c451db30980",
   "metadata": {},
   "outputs": [],
   "source": [
    "# Install `cython` and `scikit-learn` beforehand.\n",
    "!pip install cython scikit-learn\n",
    "\n",
    "# Install autode==1.2.3\n",
    "!pip install git+https://github.com/duartegroup/autodE.git@v1.2.3\n",
    "\n",
    "# Install autode master branch\n",
    "#!pip install git+https://github.com/duartegroup/autodE.git"
   ]
  },
  {
   "cell_type": "code",
   "execution_count": null,
   "id": "7b3487fc-640c-41a0-90e7-0073f41798f4",
   "metadata": {},
   "outputs": [],
   "source": [
    "# Install ipywidget v7.7.1 (Latest version may not work as of 2022 Dec.)\n",
    "!pip install \"ipywidgets==7.7.1\""
   ]
  },
  {
   "cell_type": "markdown",
   "id": "865bb104-041d-41e1-ab6c-3f9a80c831bf",
   "metadata": {},
   "source": [
    "## 実行スクリプト"
   ]
  },
  {
   "cell_type": "code",
   "execution_count": 3,
   "id": "b8f8ff89-4b91-4cdd-a578-ea54c5e38389",
   "metadata": {},
   "outputs": [
    {
     "data": {
      "application/vnd.jupyter.widget-view+json": {
       "model_id": "1a23d4bc800b4fb787535e999d685f2b",
       "version_major": 2,
       "version_minor": 0
      },
      "text/plain": []
     },
     "metadata": {},
     "output_type": "display_data"
    }
   ],
   "source": [
    "import moldraw\n",
    "from moldraw import Moldraw"
   ]
  },
  {
   "cell_type": "code",
   "execution_count": 4,
   "id": "05d65fa6-0982-40e9-822e-db60af780611",
   "metadata": {},
   "outputs": [
    {
     "data": {
      "application/vnd.jupyter.widget-view+json": {
       "model_id": "a5de3e366f2b4e49a276a07eaa3aad98",
       "version_major": 2,
       "version_minor": 0
      },
      "text/plain": [
       "VBox(children=(HBox(children=(VBox(children=(VBox(children=(Output(layout=Layout(height='290px', width='440px'…"
      ]
     },
     "metadata": {},
     "output_type": "display_data"
    }
   ],
   "source": [
    "m = Moldraw()"
   ]
  },
  {
   "cell_type": "markdown",
   "id": "f801d99f-8bc0-42d7-a226-ef5bd254770b",
   "metadata": {},
   "source": [
    "TIPS:　 ▼▲の一番下のメニューから　SMILES→図構造ができる。左回転ボタンでUNDOができる。\n",
    "\n",
    "登録した分子はdf経由でアクセス可能。"
   ]
  },
  {
   "cell_type": "code",
   "execution_count": 5,
   "id": "4727c30a-d461-450b-a78f-ae897543ce0e",
   "metadata": {},
   "outputs": [
    {
     "data": {
      "text/html": [
       "<div>\n",
       "<style scoped>\n",
       "    .dataframe tbody tr th:only-of-type {\n",
       "        vertical-align: middle;\n",
       "    }\n",
       "\n",
       "    .dataframe tbody tr th {\n",
       "        vertical-align: top;\n",
       "    }\n",
       "\n",
       "    .dataframe thead th {\n",
       "        text-align: right;\n",
       "    }\n",
       "</style>\n",
       "<table border=\"1\" class=\"dataframe\">\n",
       "  <thead>\n",
       "    <tr style=\"text-align: right;\">\n",
       "      <th></th>\n",
       "      <th>SMILES</th>\n",
       "      <th>formula</th>\n",
       "      <th>atoms</th>\n",
       "      <th>energy</th>\n",
       "      <th>maxforce</th>\n",
       "      <th>opt</th>\n",
       "      <th>conf_no</th>\n",
       "    </tr>\n",
       "  </thead>\n",
       "  <tbody>\n",
       "    <tr>\n",
       "      <th>0</th>\n",
       "      <td>c1ccccc1</td>\n",
       "      <td>C6H6</td>\n",
       "      <td>(Atom('C', [-0.2995, -1.35...</td>\n",
       "      <td>-60.979326</td>\n",
       "      <td>1.092970</td>\n",
       "      <td>False</td>\n",
       "      <td>NaN</td>\n",
       "    </tr>\n",
       "    <tr>\n",
       "      <th>1</th>\n",
       "      <td>c1ccccc1</td>\n",
       "      <td>C6H6</td>\n",
       "      <td>(Atom('C', [0.7943, -1.149...</td>\n",
       "      <td>-60.971435</td>\n",
       "      <td>1.564314</td>\n",
       "      <td>False</td>\n",
       "      <td>0.0</td>\n",
       "    </tr>\n",
       "  </tbody>\n",
       "</table>\n",
       "</div>"
      ],
      "text/plain": [
       "     SMILES formula                          atoms     energy  maxforce  \\\n",
       "0  c1ccccc1    C6H6  (Atom('C', [-0.2995, -1.35... -60.979326  1.092970   \n",
       "1  c1ccccc1    C6H6  (Atom('C', [0.7943, -1.149... -60.971435  1.564314   \n",
       "\n",
       "     opt  conf_no  \n",
       "0  False      NaN  \n",
       "1  False      0.0  "
      ]
     },
     "metadata": {},
     "output_type": "display_data"
    },
    {
     "data": {
      "text/plain": [
       "Atoms(symbols='C6H6', pbc=False)"
      ]
     },
     "execution_count": 5,
     "metadata": {},
     "output_type": "execute_result"
    }
   ],
   "source": [
    "display(m.df)\n",
    "\n",
    "# atomsへアクセス\n",
    "m.df.iloc[0].atoms"
   ]
  },
  {
   "cell_type": "markdown",
   "id": "e4043353-38f4-471e-980f-90b20d67f0e6",
   "metadata": {},
   "source": [
    "イテレータでfor loopを用いてもアクセス可能"
   ]
  },
  {
   "cell_type": "code",
   "execution_count": 6,
   "id": "74ed0968-63fb-4f69-8dfd-5c7755757fde",
   "metadata": {},
   "outputs": [
    {
     "name": "stdout",
     "output_type": "stream",
     "text": [
      "0 Atoms(symbols='C6H6', pbc=False, calculator=ASECalculator(...))\n",
      "1 Atoms(symbols='C6H6', pbc=False)\n",
      "2 Atoms(symbols='C6H6', pbc=False)\n"
     ]
    }
   ],
   "source": [
    "for i, atoms in enumerate(m):\n",
    "    print(i, atoms)"
   ]
  },
  {
   "cell_type": "markdown",
   "id": "9c55ac1b-9a55-4690-9e9e-97da2f99bbfb",
   "metadata": {},
   "source": [
    "## SMILESからのConformaer search\n",
    "\n",
    "`get_conformersdf` 関数を使うことで、SMILES指定をしての直接コンフォーマ探索も可能"
   ]
  },
  {
   "cell_type": "code",
   "execution_count": 7,
   "id": "ff2649f8-8eff-4e59-afab-f766a706d937",
   "metadata": {},
   "outputs": [
    {
     "name": "stdout",
     "output_type": "stream",
     "text": [
      "6 conformers found (n_confs:100 n_atoms:17,rmsd_threshold:0.22)\n",
      "start opt top 3 conformers\n",
      " CCCCC 1 / 3 opt 18 steps done\n",
      " CCCCC 2 / 3 opt 34 steps done\n",
      " CCCCC 3 / 3 opt 48 steps done\n"
     ]
    },
    {
     "data": {
      "text/html": [
       "<div>\n",
       "<style scoped>\n",
       "    .dataframe tbody tr th:only-of-type {\n",
       "        vertical-align: middle;\n",
       "    }\n",
       "\n",
       "    .dataframe tbody tr th {\n",
       "        vertical-align: top;\n",
       "    }\n",
       "\n",
       "    .dataframe thead th {\n",
       "        text-align: right;\n",
       "    }\n",
       "</style>\n",
       "<table border=\"1\" class=\"dataframe\">\n",
       "  <thead>\n",
       "    <tr style=\"text-align: right;\">\n",
       "      <th></th>\n",
       "      <th>SMILES</th>\n",
       "      <th>formula</th>\n",
       "      <th>atoms</th>\n",
       "      <th>energy</th>\n",
       "      <th>maxforce</th>\n",
       "      <th>opt</th>\n",
       "      <th>conf_no</th>\n",
       "      <th>conf_no_opt</th>\n",
       "    </tr>\n",
       "  </thead>\n",
       "  <tbody>\n",
       "    <tr>\n",
       "      <th>0</th>\n",
       "      <td>CCCCC</td>\n",
       "      <td>C5H12</td>\n",
       "      <td>(Atom('C', [2.470870565774...</td>\n",
       "      <td>-69.823287</td>\n",
       "      <td>0.047633</td>\n",
       "      <td>True</td>\n",
       "      <td>2</td>\n",
       "      <td>0</td>\n",
       "    </tr>\n",
       "    <tr>\n",
       "      <th>1</th>\n",
       "      <td>CCCCC</td>\n",
       "      <td>C5H12</td>\n",
       "      <td>(Atom('C', [2.249248203787...</td>\n",
       "      <td>-69.786550</td>\n",
       "      <td>0.047131</td>\n",
       "      <td>True</td>\n",
       "      <td>1</td>\n",
       "      <td>1</td>\n",
       "    </tr>\n",
       "    <tr>\n",
       "      <th>2</th>\n",
       "      <td>CCCCC</td>\n",
       "      <td>C5H12</td>\n",
       "      <td>(Atom('C', [-1.84982451094...</td>\n",
       "      <td>-69.753729</td>\n",
       "      <td>0.048612</td>\n",
       "      <td>True</td>\n",
       "      <td>0</td>\n",
       "      <td>2</td>\n",
       "    </tr>\n",
       "    <tr>\n",
       "      <th>3</th>\n",
       "      <td>CCCCC</td>\n",
       "      <td>C5H12</td>\n",
       "      <td>(Atom('C', [-2.2796, -0.41...</td>\n",
       "      <td>-69.416529</td>\n",
       "      <td>1.598282</td>\n",
       "      <td>False</td>\n",
       "      <td>3</td>\n",
       "      <td>3</td>\n",
       "    </tr>\n",
       "    <tr>\n",
       "      <th>4</th>\n",
       "      <td>CCCCC</td>\n",
       "      <td>C5H12</td>\n",
       "      <td>(Atom('C', [-1.7815, -0.27...</td>\n",
       "      <td>-69.399912</td>\n",
       "      <td>1.880761</td>\n",
       "      <td>False</td>\n",
       "      <td>4</td>\n",
       "      <td>4</td>\n",
       "    </tr>\n",
       "    <tr>\n",
       "      <th>5</th>\n",
       "      <td>CCCCC</td>\n",
       "      <td>C5H12</td>\n",
       "      <td>(Atom('C', [-1.4002, 0.945...</td>\n",
       "      <td>-69.070781</td>\n",
       "      <td>3.001104</td>\n",
       "      <td>False</td>\n",
       "      <td>5</td>\n",
       "      <td>5</td>\n",
       "    </tr>\n",
       "  </tbody>\n",
       "</table>\n",
       "</div>"
      ],
      "text/plain": [
       "  SMILES formula                          atoms     energy  maxforce    opt  \\\n",
       "0  CCCCC   C5H12  (Atom('C', [2.470870565774... -69.823287  0.047633   True   \n",
       "1  CCCCC   C5H12  (Atom('C', [2.249248203787... -69.786550  0.047131   True   \n",
       "2  CCCCC   C5H12  (Atom('C', [-1.84982451094... -69.753729  0.048612   True   \n",
       "3  CCCCC   C5H12  (Atom('C', [-2.2796, -0.41... -69.416529  1.598282  False   \n",
       "4  CCCCC   C5H12  (Atom('C', [-1.7815, -0.27... -69.399912  1.880761  False   \n",
       "5  CCCCC   C5H12  (Atom('C', [-1.4002, 0.945... -69.070781  3.001104  False   \n",
       "\n",
       "   conf_no  conf_no_opt  \n",
       "0        2            0  \n",
       "1        1            1  \n",
       "2        0            2  \n",
       "3        3            3  \n",
       "4        4            4  \n",
       "5        5            5  "
      ]
     },
     "execution_count": 7,
     "metadata": {},
     "output_type": "execute_result"
    }
   ],
   "source": [
    "from moldraw import get_conformersdf\n",
    "\n",
    "confo = get_conformersdf(\"CCCCC\", top=3, opt=True)\n",
    "confo "
   ]
  },
  {
   "cell_type": "markdown",
   "id": "262b9386-faeb-4b92-bff8-86496400b5c9",
   "metadata": {},
   "source": [
    "コンフォーマーは直接関数でも実行可能。大分子では遅い。"
   ]
  },
  {
   "cell_type": "code",
   "execution_count": 8,
   "id": "47b954e1-69a7-4b2d-8551-78cf8be3765c",
   "metadata": {},
   "outputs": [
    {
     "name": "stdout",
     "output_type": "stream",
     "text": [
      "74 conformers found (n_confs:100 n_atoms:53,rmsd_threshold:0.5800000000000001)\n",
      "CPU times: user 26.4 s, sys: 267 ms, total: 26.6 s\n",
      "Wall time: 35.9 s\n"
     ]
    },
    {
     "data": {
      "text/html": [
       "<div>\n",
       "<style scoped>\n",
       "    .dataframe tbody tr th:only-of-type {\n",
       "        vertical-align: middle;\n",
       "    }\n",
       "\n",
       "    .dataframe tbody tr th {\n",
       "        vertical-align: top;\n",
       "    }\n",
       "\n",
       "    .dataframe thead th {\n",
       "        text-align: right;\n",
       "    }\n",
       "</style>\n",
       "<table border=\"1\" class=\"dataframe\">\n",
       "  <thead>\n",
       "    <tr style=\"text-align: right;\">\n",
       "      <th></th>\n",
       "      <th>SMILES</th>\n",
       "      <th>formula</th>\n",
       "      <th>atoms</th>\n",
       "      <th>energy</th>\n",
       "      <th>maxforce</th>\n",
       "      <th>opt</th>\n",
       "      <th>conf_no</th>\n",
       "    </tr>\n",
       "  </thead>\n",
       "  <tbody>\n",
       "    <tr>\n",
       "      <th>0</th>\n",
       "      <td>CCCCCCCCCCCCCCCCC</td>\n",
       "      <td>C17H36</td>\n",
       "      <td>(Atom('C', [-7.2858, -1.41...</td>\n",
       "      <td>-223.595428</td>\n",
       "      <td>1.952171</td>\n",
       "      <td>False</td>\n",
       "      <td>0</td>\n",
       "    </tr>\n",
       "    <tr>\n",
       "      <th>1</th>\n",
       "      <td>CCCCCCCCCCCCCCCCC</td>\n",
       "      <td>C17H36</td>\n",
       "      <td>(Atom('C', [7.4447, 1.1146...</td>\n",
       "      <td>-223.547362</td>\n",
       "      <td>2.171364</td>\n",
       "      <td>False</td>\n",
       "      <td>1</td>\n",
       "    </tr>\n",
       "    <tr>\n",
       "      <th>2</th>\n",
       "      <td>CCCCCCCCCCCCCCCCC</td>\n",
       "      <td>C17H36</td>\n",
       "      <td>(Atom('C', [-7.8914, 0.908...</td>\n",
       "      <td>-223.541111</td>\n",
       "      <td>1.876209</td>\n",
       "      <td>False</td>\n",
       "      <td>2</td>\n",
       "    </tr>\n",
       "    <tr>\n",
       "      <th>3</th>\n",
       "      <td>CCCCCCCCCCCCCCCCC</td>\n",
       "      <td>C17H36</td>\n",
       "      <td>(Atom('C', [7.1748, 0.8913...</td>\n",
       "      <td>-223.538949</td>\n",
       "      <td>2.248127</td>\n",
       "      <td>False</td>\n",
       "      <td>3</td>\n",
       "    </tr>\n",
       "    <tr>\n",
       "      <th>4</th>\n",
       "      <td>CCCCCCCCCCCCCCCCC</td>\n",
       "      <td>C17H36</td>\n",
       "      <td>(Atom('C', [5.9921, 3.2658...</td>\n",
       "      <td>-223.534888</td>\n",
       "      <td>1.828305</td>\n",
       "      <td>False</td>\n",
       "      <td>4</td>\n",
       "    </tr>\n",
       "    <tr>\n",
       "      <th>...</th>\n",
       "      <td>...</td>\n",
       "      <td>...</td>\n",
       "      <td>...</td>\n",
       "      <td>...</td>\n",
       "      <td>...</td>\n",
       "      <td>...</td>\n",
       "      <td>...</td>\n",
       "    </tr>\n",
       "    <tr>\n",
       "      <th>69</th>\n",
       "      <td>CCCCCCCCCCCCCCCCC</td>\n",
       "      <td>C17H36</td>\n",
       "      <td>(Atom('C', [-6.1874, -0.74...</td>\n",
       "      <td>-222.292065</td>\n",
       "      <td>4.881649</td>\n",
       "      <td>False</td>\n",
       "      <td>69</td>\n",
       "    </tr>\n",
       "    <tr>\n",
       "      <th>70</th>\n",
       "      <td>CCCCCCCCCCCCCCCCC</td>\n",
       "      <td>C17H36</td>\n",
       "      <td>(Atom('C', [-5.0137, 1.999...</td>\n",
       "      <td>-222.145402</td>\n",
       "      <td>4.249954</td>\n",
       "      <td>False</td>\n",
       "      <td>70</td>\n",
       "    </tr>\n",
       "    <tr>\n",
       "      <th>71</th>\n",
       "      <td>CCCCCCCCCCCCCCCCC</td>\n",
       "      <td>C17H36</td>\n",
       "      <td>(Atom('C', [-6.2536, 1.649...</td>\n",
       "      <td>-222.117444</td>\n",
       "      <td>4.485596</td>\n",
       "      <td>False</td>\n",
       "      <td>71</td>\n",
       "    </tr>\n",
       "    <tr>\n",
       "      <th>72</th>\n",
       "      <td>CCCCCCCCCCCCCCCCC</td>\n",
       "      <td>C17H36</td>\n",
       "      <td>(Atom('C', [-6.8244, 0.532...</td>\n",
       "      <td>-221.490776</td>\n",
       "      <td>6.003201</td>\n",
       "      <td>False</td>\n",
       "      <td>72</td>\n",
       "    </tr>\n",
       "    <tr>\n",
       "      <th>73</th>\n",
       "      <td>CCCCCCCCCCCCCCCCC</td>\n",
       "      <td>C17H36</td>\n",
       "      <td>(Atom('C', [-6.2444, -0.07...</td>\n",
       "      <td>-221.364418</td>\n",
       "      <td>5.682019</td>\n",
       "      <td>False</td>\n",
       "      <td>73</td>\n",
       "    </tr>\n",
       "  </tbody>\n",
       "</table>\n",
       "<p>74 rows × 7 columns</p>\n",
       "</div>"
      ],
      "text/plain": [
       "               SMILES formula                          atoms      energy  \\\n",
       "0   CCCCCCCCCCCCCCCCC  C17H36  (Atom('C', [-7.2858, -1.41... -223.595428   \n",
       "1   CCCCCCCCCCCCCCCCC  C17H36  (Atom('C', [7.4447, 1.1146... -223.547362   \n",
       "2   CCCCCCCCCCCCCCCCC  C17H36  (Atom('C', [-7.8914, 0.908... -223.541111   \n",
       "3   CCCCCCCCCCCCCCCCC  C17H36  (Atom('C', [7.1748, 0.8913... -223.538949   \n",
       "4   CCCCCCCCCCCCCCCCC  C17H36  (Atom('C', [5.9921, 3.2658... -223.534888   \n",
       "..                ...     ...                            ...         ...   \n",
       "69  CCCCCCCCCCCCCCCCC  C17H36  (Atom('C', [-6.1874, -0.74... -222.292065   \n",
       "70  CCCCCCCCCCCCCCCCC  C17H36  (Atom('C', [-5.0137, 1.999... -222.145402   \n",
       "71  CCCCCCCCCCCCCCCCC  C17H36  (Atom('C', [-6.2536, 1.649... -222.117444   \n",
       "72  CCCCCCCCCCCCCCCCC  C17H36  (Atom('C', [-6.8244, 0.532... -221.490776   \n",
       "73  CCCCCCCCCCCCCCCCC  C17H36  (Atom('C', [-6.2444, -0.07... -221.364418   \n",
       "\n",
       "    maxforce    opt  conf_no  \n",
       "0   1.952171  False        0  \n",
       "1   2.171364  False        1  \n",
       "2   1.876209  False        2  \n",
       "3   2.248127  False        3  \n",
       "4   1.828305  False        4  \n",
       "..       ...    ...      ...  \n",
       "69  4.881649  False       69  \n",
       "70  4.249954  False       70  \n",
       "71  4.485596  False       71  \n",
       "72  6.003201  False       72  \n",
       "73  5.682019  False       73  \n",
       "\n",
       "[74 rows x 7 columns]"
      ]
     },
     "execution_count": 8,
     "metadata": {},
     "output_type": "execute_result"
    }
   ],
   "source": [
    "%%time\n",
    "\n",
    "confo2 = get_conformersdf(\"CCCCCCCCCCCCCCCCC\", opt=False)\n",
    "confo2"
   ]
  },
  {
   "cell_type": "markdown",
   "id": "8e8ae9b2-ebe7-4003-9a37-5d30f287ca13",
   "metadata": {},
   "source": [
    "## DataFrameに対するグラフ描画ツール\n",
    "\n",
    "DataFrameに対して汎用的に使えるグラフ用のUIを提供するクラス`Dfplot`。\n",
    "\n",
    "引数にDataFrameを入れることで、x軸・y軸を指定しての描画が可能です。"
   ]
  },
  {
   "cell_type": "code",
   "execution_count": 9,
   "id": "8fea148d-1462-4ad6-b0cc-8f12247406cc",
   "metadata": {},
   "outputs": [
    {
     "data": {
      "application/vnd.jupyter.widget-view+json": {
       "model_id": "069d2b3ae18347fda24460ee8a41762a",
       "version_major": 2,
       "version_minor": 0
      },
      "text/plain": [
       "VBox(children=(HBox(children=(Select(description='col1:', layout=Layout(border='0px', height='27px', width='20…"
      ]
     },
     "metadata": {},
     "output_type": "display_data"
    }
   ],
   "source": [
    "from moldraw import Dfplot\n",
    "\n",
    "p = Dfplot(confo2)"
   ]
  }
 ],
 "metadata": {
  "kernelspec": {
   "display_name": "Python 3.7",
   "language": "python",
   "name": "python37"
  },
  "language_info": {
   "codemirror_mode": {
    "name": "ipython",
    "version": 3
   },
   "file_extension": ".py",
   "mimetype": "text/x-python",
   "name": "python",
   "nbconvert_exporter": "python",
   "pygments_lexer": "ipython3",
   "version": "3.7.13"
  },
  "widgets": {
   "application/vnd.jupyter.widget-state+json": {
    "state": {
     "01e0f71e9ab94ff29cdcfd46f20d6f25": {
      "model_module": "@jupyter-widgets/base",
      "model_module_version": "1.2.0",
      "model_name": "LayoutModel",
      "state": {}
     },
     "03e17ff6b1f74497813015525dc8ebe7": {
      "model_module": "nglview-js-widgets",
      "model_module_version": "3.0.1",
      "model_name": "NGLModel",
      "state": {
       "_camera_orientation": [
        17.609338127856184,
        0,
        0,
        0,
        0,
        17.609338127856184,
        0,
        0,
        0,
        0,
        17.609338127856184,
        0,
        0.004500031471252441,
        -0.0054999589920043945,
        -0.0005000010132789612,
        1
       ],
       "_camera_str": "orthographic",
       "_gui_theme": null,
       "_ibtn_fullscreen": "IPY_MODEL_77147fbf69a44cfab09a79b73bd99b24",
       "_igui": null,
       "_iplayer": "IPY_MODEL_37c03366b03d43428b36cea3389a2d16",
       "_ngl_color_dict": {},
       "_ngl_coordinate_resource": {},
       "_ngl_full_stage_parameters": {
        "ambientColor": 14540253,
        "ambientIntensity": 0.2,
        "backgroundColor": "white",
        "cameraEyeSep": 0.3,
        "cameraFov": 40,
        "cameraType": "perspective",
        "clipDist": 10,
        "clipFar": 100,
        "clipNear": 0,
        "fogFar": 100,
        "fogNear": 50,
        "hoverTimeout": 0,
        "impostor": true,
        "lightColor": 14540253,
        "lightIntensity": 1,
        "mousePreset": "default",
        "panSpeed": 1,
        "quality": "medium",
        "rotateSpeed": 2,
        "sampleLevel": 0,
        "tooltip": true,
        "workerDefault": true,
        "zoomSpeed": 1.2
       },
       "_ngl_msg_archive": [
        {
         "args": [
          {
           "binary": false,
           "data": "MODEL     1\nATOM      1    C MOL     1      -0.299  -1.351   0.014  1.00  0.00           C  \nATOM      2    C MOL     1      -1.306  -0.403   0.043  1.00  0.00           C  \nATOM      3    C MOL     1      -1.031   0.950   0.029  1.00  0.00           C  \nATOM      4    C MOL     1       0.304   1.343  -0.014  1.00  0.00           C  \nATOM      5    C MOL     1       1.298   0.393  -0.043  1.00  0.00           C  \nATOM      6    C MOL     1       1.021  -0.963  -0.029  1.00  0.00           C  \nATOM      7    H MOL     1      -0.503  -2.401   0.024  1.00  0.00           H  \nATOM      8    H MOL     1      -2.338  -0.724   0.077  1.00  0.00           H  \nATOM      9    H MOL     1      -1.830   1.679   0.052  1.00  0.00           H  \nATOM     10    H MOL     1       0.506   2.412  -0.024  1.00  0.00           H  \nATOM     11    H MOL     1       2.329   0.722  -0.076  1.00  0.00           H  \nATOM     12    H MOL     1       1.849  -1.656  -0.053  1.00  0.00           H  \nENDMDL\n",
           "type": "blob"
          }
         ],
         "kwargs": {
          "defaultRepresentation": true,
          "ext": "pdb"
         },
         "methodName": "loadFile",
         "reconstruc_color_scheme": false,
         "target": "Stage",
         "type": "call_method"
        },
        {
         "args": [
          "this._Q = [[1.0, 0.0, 0.0], [0.0, 1.0, 0.0], [0.0, 0.0, 1.0]]\n    var tooltip = document.createElement('div');\n    Object.assign(tooltip.style, {\n      display: 'none',\n      position: 'fixed',\n      zIndex: 10,\n      pointerEvents: 'none',\n      backgroundColor: 'rgba( 0, 0, 0, 0.6 )',\n      color: 'lightgrey',\n      padding: '8px',\n      fontFamily: 'sans-serif'\n    });\n    document.body.appendChild(tooltip);\n\n    var that = this;\n    this.stage.mouseControls.remove('hoverPick');\n    this.stage.signals.hovered.add(function (pickingProxy) {\n      if (pickingProxy && (pickingProxy.atom || pickingProxy.bond)) {\n        var atom = pickingProxy.atom || pickingProxy.closestBondAtom\n        var mp = pickingProxy.mouse.position\n        //tooltip.innerText = atom.element + ' i=' + atom.index + ' (' + atom.x.toFixed(2) +  ', ' + atom.y.toFixed(2) +  ', ' + atom.z.toFixed(2) + ')'\n        //var pos = that._atoms_pos[atom.index]\n        var Q = that._Q\n        var pos_x = Q[0][0] * atom.x + Q[0][1] * atom.y + Q[0][2] * atom.z \n        var pos_y = Q[1][0] * atom.x + Q[1][1] * atom.y + Q[1][2] * atom.z\n        var pos_z = Q[2][0] * atom.x + Q[2][1] * atom.y + Q[2][2] * atom.z\n        tooltip.innerText = 'i=' + atom.index + ' ' + atom.element + ' (' + pos_x.toFixed(2) +  ', ' + pos_y.toFixed(2) +  ', ' + pos_z.toFixed(2) + ')'\n        tooltip.style.bottom = window.innerHeight - mp.y + 3 + 'px'\n        tooltip.style.left = mp.x + 3 + 'px'\n        tooltip.style.display = 'block'\n      } else {\n        tooltip.style.display = 'none'\n      }\n    });\n    this.stage.tooltip = tooltip;\n    "
         ],
         "kwargs": {},
         "methodName": "executeCode",
         "reconstruc_color_scheme": false,
         "target": "Widget",
         "type": "call_method"
        },
        {
         "args": [
          "label",
          0
         ],
         "kwargs": {},
         "methodName": "removeRepresentationsByName",
         "reconstruc_color_scheme": false,
         "target": "Widget",
         "type": "call_method"
        },
        {
         "args": [
          "label",
          0
         ],
         "kwargs": {},
         "methodName": "removeRepresentationsByName",
         "reconstruc_color_scheme": false,
         "target": "Widget",
         "type": "call_method"
        },
        {
         "args": [
          "label",
          0
         ],
         "kwargs": {},
         "methodName": "removeRepresentationsByName",
         "reconstruc_color_scheme": false,
         "target": "Widget",
         "type": "call_method"
        }
       ],
       "_ngl_original_stage_parameters": {
        "ambientColor": 14540253,
        "ambientIntensity": 0.2,
        "backgroundColor": "white",
        "cameraEyeSep": 0.3,
        "cameraFov": 40,
        "cameraType": "perspective",
        "clipDist": 10,
        "clipFar": 100,
        "clipNear": 0,
        "fogFar": 100,
        "fogNear": 50,
        "hoverTimeout": 0,
        "impostor": true,
        "lightColor": 14540253,
        "lightIntensity": 1,
        "mousePreset": "default",
        "panSpeed": 1,
        "quality": "medium",
        "rotateSpeed": 2,
        "sampleLevel": 0,
        "tooltip": true,
        "workerDefault": true,
        "zoomSpeed": 1.2
       },
       "_ngl_repr_dict": {
        "0": {
         "0": {
          "params": {
           "aspectRatio": 1.5,
           "assembly": "default",
           "bondScale": 0.3,
           "bondSpacing": 0.75,
           "clipCenter": {
            "x": 0,
            "y": 0,
            "z": 0
           },
           "clipNear": 0,
           "clipRadius": 0,
           "colorMode": "hcl",
           "colorReverse": false,
           "colorScale": "",
           "colorScheme": "element",
           "colorValue": 9474192,
           "cylinderOnly": false,
           "defaultAssembly": "",
           "depthWrite": true,
           "diffuse": 16777215,
           "diffuseInterior": false,
           "disableImpostor": false,
           "disablePicking": false,
           "flatShaded": false,
           "interiorColor": 2236962,
           "interiorDarkening": 0,
           "lazy": false,
           "lineOnly": false,
           "linewidth": 2,
           "matrix": {
            "elements": [
             1,
             0,
             0,
             0,
             0,
             1,
             0,
             0,
             0,
             0,
             1,
             0,
             0,
             0,
             0,
             1
            ]
           },
           "metalness": 0,
           "multipleBond": "off",
           "opacity": 1,
           "openEnded": true,
           "quality": "high",
           "radialSegments": 20,
           "radiusData": {},
           "radiusScale": 2,
           "radiusSize": 0.15,
           "radiusType": "size",
           "roughness": 0.4,
           "sele": "",
           "side": "double",
           "sphereDetail": 2,
           "useInteriorColor": true,
           "visible": true,
           "wireframe": false
          },
          "type": "ball+stick"
         }
        }
       },
       "_ngl_serialize": false,
       "_ngl_version": "2.0.0-dev.36",
       "_ngl_view_id": [
        "95630D2D-0A30-49C3-B321-1CB7FC9DA6EC"
       ],
       "_player_dict": {},
       "_scene_position": {},
       "_scene_rotation": {},
       "_synced_model_ids": [],
       "_synced_repr_model_ids": [],
       "_view_height": "340px",
       "_view_width": "400px",
       "background": "white",
       "frame": 0,
       "gui_style": null,
       "layout": "IPY_MODEL_adf99807059b4143bb2c2142c0dd783b",
       "max_frame": 0,
       "n_components": 1,
       "picked": {}
      }
     },
     "05c980d38ad14f1690233e056dc79ba0": {
      "model_module": "@jupyter-widgets/base",
      "model_module_version": "1.2.0",
      "model_name": "LayoutModel",
      "state": {}
     },
     "069d2b3ae18347fda24460ee8a41762a": {
      "model_module": "@jupyter-widgets/controls",
      "model_module_version": "1.5.0",
      "model_name": "VBoxModel",
      "state": {
       "children": [
        "IPY_MODEL_bd92e333ed8541b88a11d99b49ee3e48",
        "IPY_MODEL_e00a3fd8f1764de886aadb3970e6d694"
       ],
       "layout": "IPY_MODEL_49dc21084ee5430abb1260ecdd783375"
      }
     },
     "07c285268d51482b839a9d8931b9aa0a": {
      "model_module": "@jupyter-widgets/controls",
      "model_module_version": "1.5.0",
      "model_name": "ButtonStyleModel",
      "state": {}
     },
     "089f62df0bb94b6280478db61bb0731b": {
      "model_module": "@jupyter-widgets/base",
      "model_module_version": "1.2.0",
      "model_name": "LayoutModel",
      "state": {
       "width": "80px"
      }
     },
     "0b9a3a49b560412daec9e635a30ff332": {
      "model_module": "@jupyter-widgets/base",
      "model_module_version": "1.2.0",
      "model_name": "LayoutModel",
      "state": {
       "height": "38px",
       "width": "250px"
      }
     },
     "0e1c795876174bd49500efc64e8e690f": {
      "model_module": "@jupyter-widgets/base",
      "model_module_version": "1.2.0",
      "model_name": "LayoutModel",
      "state": {
       "border": "0px",
       "height": "27px",
       "width": "200px"
      }
     },
     "154229f84ec3408faadf4e86e592229c": {
      "model_module": "@jupyter-widgets/controls",
      "model_module_version": "1.5.0",
      "model_name": "DescriptionStyleModel",
      "state": {
       "description_width": "30px"
      }
     },
     "1930e2d650a44f5eb3afebe23d94470d": {
      "model_module": "@jupyter-widgets/base",
      "model_module_version": "1.2.0",
      "model_name": "LayoutModel",
      "state": {
       "height": "45px",
       "width": "430px"
      }
     },
     "1a23d4bc800b4fb787535e999d685f2b": {
      "model_module": "nglview-js-widgets",
      "model_module_version": "3.0.1",
      "model_name": "ColormakerRegistryModel",
      "state": {
       "_msg_ar": [],
       "_msg_q": [],
       "_ready": true,
       "layout": "IPY_MODEL_db58fba8bcca44709fa0170fa1fcadfc"
      }
     },
     "1c58b47035c742b699fe86b556640feb": {
      "model_module": "@jupyter-widgets/base",
      "model_module_version": "1.2.0",
      "model_name": "LayoutModel",
      "state": {
       "width": "80px"
      }
     },
     "1c6cad8b02244b7db9be5e1635ac1254": {
      "model_module": "@jupyter-widgets/output",
      "model_module_version": "1.0.0",
      "model_name": "OutputModel",
      "state": {
       "layout": "IPY_MODEL_54a248455b3747c1a703b5e9aa2cc091",
       "outputs": [
        {
         "data": {
          "text/html": "<div>\n<style scoped>\n    .dataframe tbody tr th:only-of-type {\n        vertical-align: middle;\n    }\n\n    .dataframe tbody tr th {\n        vertical-align: top;\n    }\n\n    .dataframe thead th {\n        text-align: right;\n    }\n</style>\n<table border=\"1\" class=\"dataframe\">\n  <thead>\n    <tr style=\"text-align: right;\">\n      <th></th>\n      <th>SMILES</th>\n      <th>formula</th>\n      <th>atoms</th>\n      <th>energy</th>\n      <th>maxforce</th>\n      <th>opt</th>\n      <th>conf_no</th>\n    </tr>\n  </thead>\n  <tbody>\n    <tr>\n      <th>0</th>\n      <td>c1ccccc1</td>\n      <td>C6H6</td>\n      <td>(Atom('C', [-0.2995, -1.35...</td>\n      <td>-60.979326</td>\n      <td>1.092970</td>\n      <td>False</td>\n      <td>NaN</td>\n    </tr>\n    <tr>\n      <th>1</th>\n      <td>c1ccccc1</td>\n      <td>C6H6</td>\n      <td>(Atom('C', [0.7943, -1.149...</td>\n      <td>-60.971435</td>\n      <td>1.564314</td>\n      <td>False</td>\n      <td>0.0</td>\n    </tr>\n  </tbody>\n</table>\n</div>",
          "text/plain": "     SMILES formula                          atoms     energy  maxforce  \\\n0  c1ccccc1    C6H6  (Atom('C', [-0.2995, -1.35... -60.979326  1.092970   \n1  c1ccccc1    C6H6  (Atom('C', [0.7943, -1.149... -60.971435  1.564314   \n\n     opt  conf_no  \n0  False      NaN  \n1  False      0.0  "
         },
         "metadata": {},
         "output_type": "display_data"
        }
       ]
      }
     },
     "20c02d1e6be64f1fbd18127806da05c9": {
      "model_module": "@jupyter-widgets/base",
      "model_module_version": "1.2.0",
      "model_name": "LayoutModel",
      "state": {
       "width": "140px"
      }
     },
     "23270800081947f4b8aca7a38827eddc": {
      "model_module": "@jupyter-widgets/controls",
      "model_module_version": "1.5.0",
      "model_name": "SliderStyleModel",
      "state": {
       "description_width": "40px"
      }
     },
     "241307b99fc84292b24a47c97d8d8615": {
      "model_module": "@jupyter-widgets/controls",
      "model_module_version": "1.5.0",
      "model_name": "ButtonStyleModel",
      "state": {}
     },
     "2a434ae8b3814f708f9756d13813a225": {
      "model_module": "@jupyter-widgets/controls",
      "model_module_version": "1.5.0",
      "model_name": "ButtonStyleModel",
      "state": {}
     },
     "37c03366b03d43428b36cea3389a2d16": {
      "model_module": "@jupyter-widgets/controls",
      "model_module_version": "1.5.0",
      "model_name": "HBoxModel",
      "state": {
       "children": [
        "IPY_MODEL_61646d19e3ed47cc9f821ebe7e374069",
        "IPY_MODEL_75fc3f7a94c44c2e97515da0e2187835"
       ],
       "layout": "IPY_MODEL_53a35317eca04c9e94086287b0557934"
      }
     },
     "3a2b5158a18445948071ecc41efc3d5f": {
      "model_module": "@jupyter-widgets/controls",
      "model_module_version": "1.5.0",
      "model_name": "HBoxModel",
      "state": {
       "children": [
        "IPY_MODEL_f6b2f821bacb43c0ad4ca7ecf9b2c798",
        "IPY_MODEL_e12adef6102543dbba6738e0b270fd6a",
        "IPY_MODEL_eaf7505546724da59341883ed0f96576",
        "IPY_MODEL_87b135a159ea4bb4b443bf1ccf4d7fb4"
       ],
       "layout": "IPY_MODEL_0b9a3a49b560412daec9e635a30ff332"
      }
     },
     "3a6d027ea42e4251baf02e1020e0655a": {
      "model_module": "@jupyter-widgets/controls",
      "model_module_version": "1.5.0",
      "model_name": "CheckboxModel",
      "state": {
       "description": "OPT",
       "disabled": false,
       "indent": false,
       "layout": "IPY_MODEL_089f62df0bb94b6280478db61bb0731b",
       "style": "IPY_MODEL_fd3f28349d4743e19ac40d15953c53b4",
       "value": false
      }
     },
     "3f480944c717400fbc0346b68aa21ee8": {
      "model_module": "@jupyter-widgets/controls",
      "model_module_version": "1.5.0",
      "model_name": "DescriptionStyleModel",
      "state": {
       "description_width": ""
      }
     },
     "457892f14fb246f6a9ce06f8235a61a1": {
      "model_module": "@jupyter-widgets/base",
      "model_module_version": "1.2.0",
      "model_name": "LayoutModel",
      "state": {
       "width": "80px"
      }
     },
     "46d56a80647942fe835729996cb4ca4c": {
      "model_module": "@jupyter-widgets/controls",
      "model_module_version": "1.5.0",
      "model_name": "DescriptionStyleModel",
      "state": {
       "description_width": ""
      }
     },
     "49dc21084ee5430abb1260ecdd783375": {
      "model_module": "@jupyter-widgets/base",
      "model_module_version": "1.2.0",
      "model_name": "LayoutModel",
      "state": {}
     },
     "4e22f26015ce4f1bba354576199bcffc": {
      "model_module": "@jupyter-widgets/base",
      "model_module_version": "1.2.0",
      "model_name": "LayoutModel",
      "state": {
       "width": "140px"
      }
     },
     "5298e401fe004d89bff2eac30238a2f2": {
      "model_module": "@jupyter-widgets/base",
      "model_module_version": "1.2.0",
      "model_name": "LayoutModel",
      "state": {}
     },
     "53a35317eca04c9e94086287b0557934": {
      "model_module": "@jupyter-widgets/base",
      "model_module_version": "1.2.0",
      "model_name": "LayoutModel",
      "state": {}
     },
     "54a248455b3747c1a703b5e9aa2cc091": {
      "model_module": "@jupyter-widgets/base",
      "model_module_version": "1.2.0",
      "model_name": "LayoutModel",
      "state": {
       "border": "1px solid black",
       "height": "330px",
       "width": "600px"
      }
     },
     "5b67c66e43154a10b8600c197659a398": {
      "model_module": "@jupyter-widgets/controls",
      "model_module_version": "1.5.0",
      "model_name": "VBoxModel",
      "state": {
       "children": [
        "IPY_MODEL_da0a20b13e344f0c8c6044b05ac9efe0",
        "IPY_MODEL_f8c1d2b86ccf478cb868d611a3e99985"
       ],
       "layout": "IPY_MODEL_6db8fc3682104f14a8d23428eac5c697"
      }
     },
     "5d29b11a5d4342cdb2487d89d35db88d": {
      "model_module": "@jupyter-widgets/controls",
      "model_module_version": "1.5.0",
      "model_name": "DescriptionStyleModel",
      "state": {
       "description_width": ""
      }
     },
     "5fa578a8b8b44f3cbb0c5465a625af32": {
      "model_module": "@jupyter-widgets/controls",
      "model_module_version": "1.5.0",
      "model_name": "LinkModel",
      "state": {
       "source": [
        "IPY_MODEL_61646d19e3ed47cc9f821ebe7e374069",
        "value"
       ],
       "target": [
        "IPY_MODEL_75fc3f7a94c44c2e97515da0e2187835",
        "value"
       ]
      }
     },
     "61646d19e3ed47cc9f821ebe7e374069": {
      "model_module": "@jupyter-widgets/controls",
      "model_module_version": "1.5.0",
      "model_name": "PlayModel",
      "state": {
       "layout": "IPY_MODEL_ed4a6e7531e04ae7b216333e953c831f",
       "max": 0,
       "style": "IPY_MODEL_46d56a80647942fe835729996cb4ca4c"
      }
     },
     "658266e632d842a39b0d3bdfbb84e5db": {
      "model_module": "@jupyter-widgets/controls",
      "model_module_version": "1.5.0",
      "model_name": "ButtonModel",
      "state": {
       "description": "ADD IT",
       "layout": "IPY_MODEL_20c02d1e6be64f1fbd18127806da05c9",
       "style": "IPY_MODEL_241307b99fc84292b24a47c97d8d8615"
      }
     },
     "6868d54cb82e46cbada7fccc976461e2": {
      "model_module": "@jupyter-widgets/base",
      "model_module_version": "1.2.0",
      "model_name": "LayoutModel",
      "state": {}
     },
     "6d1b954c20f34bc6a7ed00a411d363cd": {
      "model_module": "@jupyter-widgets/controls",
      "model_module_version": "1.5.0",
      "model_name": "LinkModel",
      "state": {
       "source": [
        "IPY_MODEL_61646d19e3ed47cc9f821ebe7e374069",
        "value"
       ],
       "target": [
        "IPY_MODEL_03e17ff6b1f74497813015525dc8ebe7",
        "frame"
       ]
      }
     },
     "6d50469503424ac89176dc43e4552a33": {
      "model_module": "@jupyter-widgets/controls",
      "model_module_version": "1.5.0",
      "model_name": "DescriptionStyleModel",
      "state": {
       "description_width": ""
      }
     },
     "6db8fc3682104f14a8d23428eac5c697": {
      "model_module": "@jupyter-widgets/base",
      "model_module_version": "1.2.0",
      "model_name": "LayoutModel",
      "state": {}
     },
     "70fee08f7df14f98acecdf5d5304dd32": {
      "model_module": "@jupyter-widgets/controls",
      "model_module_version": "1.5.0",
      "model_name": "IntSliderModel",
      "state": {
       "description": "0",
       "layout": "IPY_MODEL_f4e60aa7e8fe4f5d9fbc23b20020e4a1",
       "max": 0,
       "min": -1,
       "orientation": "vertical",
       "style": "IPY_MODEL_b50be665b0c443c2b6093b1459105d4b"
      }
     },
     "732e7a653d6242e382691a25ce1073de": {
      "model_module": "@jupyter-widgets/controls",
      "model_module_version": "1.5.0",
      "model_name": "ButtonModel",
      "state": {
       "description": "plot",
       "layout": "IPY_MODEL_b2027eb453bf4fb6b5b583f3c8b8b85f",
       "style": "IPY_MODEL_07c285268d51482b839a9d8931b9aa0a"
      }
     },
     "73bba387b00e4d348939ae892ec6164b": {
      "model_module": "@jupyter-widgets/controls",
      "model_module_version": "1.5.0",
      "model_name": "HBoxModel",
      "state": {
       "children": [
        "IPY_MODEL_70fee08f7df14f98acecdf5d5304dd32",
        "IPY_MODEL_b14c3c1c5d8a4f54a60bd990584a574b"
       ],
       "layout": "IPY_MODEL_cc7d77f9d2bb4dc3987761a81bd00aaf"
      }
     },
     "75c694cec49f400b913badd69130e745": {
      "model_module": "@jupyter-widgets/base",
      "model_module_version": "1.2.0",
      "model_name": "LayoutModel",
      "state": {
       "width": "80px"
      }
     },
     "75fc3f7a94c44c2e97515da0e2187835": {
      "model_module": "@jupyter-widgets/controls",
      "model_module_version": "1.5.0",
      "model_name": "IntSliderModel",
      "state": {
       "layout": "IPY_MODEL_6868d54cb82e46cbada7fccc976461e2",
       "max": 0,
       "style": "IPY_MODEL_d612e50f652840cb8606e06802228853"
      }
     },
     "76e518588aec4b67b270fff0684bd571": {
      "model_module": "@jupyter-widgets/controls",
      "model_module_version": "1.5.0",
      "model_name": "DescriptionStyleModel",
      "state": {
       "description_width": ""
      }
     },
     "77147fbf69a44cfab09a79b73bd99b24": {
      "model_module": "@jupyter-widgets/controls",
      "model_module_version": "1.5.0",
      "model_name": "ButtonModel",
      "state": {
       "icon": "compress",
       "layout": "IPY_MODEL_e92f6bd6bf5c47108a7c33d49517de84",
       "style": "IPY_MODEL_2a434ae8b3814f708f9756d13813a225"
      }
     },
     "782d9a96e80d484495b366a62af86dca": {
      "model_module": "@jupyter-widgets/base",
      "model_module_version": "1.2.0",
      "model_name": "LayoutModel",
      "state": {
       "width": "80px"
      }
     },
     "7ea0a1cdc97b4d29a966c3c2797a969b": {
      "model_module": "@jupyter-widgets/controls",
      "model_module_version": "1.5.0",
      "model_name": "DescriptionStyleModel",
      "state": {
       "description_width": "30px"
      }
     },
     "83f593002b444dd9a011d7fcc31d032e": {
      "model_module": "@jupyter-widgets/controls",
      "model_module_version": "1.5.0",
      "model_name": "CheckboxModel",
      "state": {
       "description": "yy ploy",
       "disabled": false,
       "layout": "IPY_MODEL_fef27b5713db4002b4b485e1cf661d61",
       "style": "IPY_MODEL_7ea0a1cdc97b4d29a966c3c2797a969b",
       "value": false
      }
     },
     "86896a40e6104df8a66dce3db3bf0f57": {
      "model_module": "@jupyter-widgets/controls",
      "model_module_version": "1.5.0",
      "model_name": "LinkModel",
      "state": {
       "source": [
        "IPY_MODEL_61646d19e3ed47cc9f821ebe7e374069",
        "max"
       ],
       "target": [
        "IPY_MODEL_03e17ff6b1f74497813015525dc8ebe7",
        "max_frame"
       ]
      }
     },
     "87196b48a7f447b2ae2f643de20bb5e2": {
      "model_module": "@jupyter-widgets/base",
      "model_module_version": "1.2.0",
      "model_name": "LayoutModel",
      "state": {}
     },
     "87b135a159ea4bb4b443bf1ccf4d7fb4": {
      "model_module": "@jupyter-widgets/controls",
      "model_module_version": "1.5.0",
      "model_name": "CheckboxModel",
      "state": {
       "description": "chage",
       "disabled": false,
       "indent": false,
       "layout": "IPY_MODEL_75c694cec49f400b913badd69130e745",
       "style": "IPY_MODEL_6d50469503424ac89176dc43e4552a33",
       "value": false
      }
     },
     "90a22f76a152403eac528cc75389767b": {
      "model_module": "@jupyter-widgets/controls",
      "model_module_version": "1.5.0",
      "model_name": "ButtonStyleModel",
      "state": {}
     },
     "910bf43a10974fce9b68bc779c537857": {
      "model_module": "@jupyter-widgets/controls",
      "model_module_version": "1.5.0",
      "model_name": "TextModel",
      "state": {
       "description": "SMILES",
       "layout": "IPY_MODEL_1930e2d650a44f5eb3afebe23d94470d",
       "placeholder": "20221219151120",
       "style": "IPY_MODEL_d697d07a4ca145d798c65bef5ef25282",
       "value": "c1ccccc1"
      }
     },
     "91197d1d7da4417f97b0148b71b0efb5": {
      "model_module": "@jupyter-widgets/base",
      "model_module_version": "1.2.0",
      "model_name": "LayoutModel",
      "state": {}
     },
     "925bdd818b2f4170bce439e2ef87d912": {
      "model_module": "@jupyter-widgets/base",
      "model_module_version": "1.2.0",
      "model_name": "LayoutModel",
      "state": {}
     },
     "99b001afb4844c3fbcd0fe2eb134c39b": {
      "model_module": "@jupyter-widgets/controls",
      "model_module_version": "1.5.0",
      "model_name": "HBoxModel",
      "state": {
       "children": [
        "IPY_MODEL_5b67c66e43154a10b8600c197659a398",
        "IPY_MODEL_febbbdd1e34443939bb6320e32356a94"
       ],
       "layout": "IPY_MODEL_925bdd818b2f4170bce439e2ef87d912"
      }
     },
     "9b0414822dbe4494abf4acec52ec807a": {
      "model_module": "@jupyter-widgets/controls",
      "model_module_version": "1.5.0",
      "model_name": "ButtonModel",
      "state": {
       "description": "Confomer serach",
       "layout": "IPY_MODEL_4e22f26015ce4f1bba354576199bcffc",
       "style": "IPY_MODEL_90a22f76a152403eac528cc75389767b"
      }
     },
     "9bdb0c2679674b6ba1550ac0992ee66e": {
      "model_module": "@jupyter-widgets/controls",
      "model_module_version": "1.5.0",
      "model_name": "ImageModel",
      "state": {
       "layout": "IPY_MODEL_05c980d38ad14f1690233e056dc79ba0",
       "width": "900.0"
      }
     },
     "a18c9b15ecbd4725a40099c8c4f01af0": {
      "model_module": "@jupyter-widgets/base",
      "model_module_version": "1.2.0",
      "model_name": "LayoutModel",
      "state": {}
     },
     "a5de3e366f2b4e49a276a07eaa3aad98": {
      "model_module": "@jupyter-widgets/controls",
      "model_module_version": "1.5.0",
      "model_name": "VBoxModel",
      "state": {
       "children": [
        "IPY_MODEL_99b001afb4844c3fbcd0fe2eb134c39b",
        "IPY_MODEL_73bba387b00e4d348939ae892ec6164b"
       ],
       "layout": "IPY_MODEL_91197d1d7da4417f97b0148b71b0efb5"
      }
     },
     "ab0cd5d426de4721b91bfb9da48ce54b": {
      "model_module": "@jupyter-widgets/controls",
      "model_module_version": "1.5.0",
      "model_name": "SelectModel",
      "state": {
       "_options_labels": [
        "SMILES",
        "formula",
        "atoms",
        "energy",
        "maxforce",
        "opt",
        "conf_no"
       ],
       "description": "col1:",
       "index": 4,
       "layout": "IPY_MODEL_0e1c795876174bd49500efc64e8e690f",
       "rows": 1,
       "style": "IPY_MODEL_154229f84ec3408faadf4e86e592229c"
      }
     },
     "adf99807059b4143bb2c2142c0dd783b": {
      "model_module": "@jupyter-widgets/base",
      "model_module_version": "1.2.0",
      "model_name": "LayoutModel",
      "state": {}
     },
     "afd15a7cec9b48799326ce086aa88a2c": {
      "model_module": "@jupyter-widgets/base",
      "model_module_version": "1.2.0",
      "model_name": "LayoutModel",
      "state": {
       "border": "1px solid gray",
       "height": "450px",
       "width": "550px"
      }
     },
     "b14c3c1c5d8a4f54a60bd990584a574b": {
      "model_module": "@jupyter-widgets/controls",
      "model_module_version": "1.5.0",
      "model_name": "VBoxModel",
      "state": {
       "children": [
        "IPY_MODEL_f332dfa1b7d8493e8168c846b827340a",
        "IPY_MODEL_1c6cad8b02244b7db9be5e1635ac1254"
       ],
       "layout": "IPY_MODEL_5298e401fe004d89bff2eac30238a2f2"
      }
     },
     "b2027eb453bf4fb6b5b583f3c8b8b85f": {
      "model_module": "@jupyter-widgets/base",
      "model_module_version": "1.2.0",
      "model_name": "LayoutModel",
      "state": {
       "width": "100px"
      }
     },
     "b50be665b0c443c2b6093b1459105d4b": {
      "model_module": "@jupyter-widgets/controls",
      "model_module_version": "1.5.0",
      "model_name": "SliderStyleModel",
      "state": {
       "description_width": ""
      }
     },
     "b85fc2455e114ae68812a833834825cb": {
      "model_module": "@jupyter-widgets/base",
      "model_module_version": "1.2.0",
      "model_name": "LayoutModel",
      "state": {}
     },
     "bd0077405c4842f98d5d8021b9b4d585": {
      "model_module": "@jupyter-widgets/base",
      "model_module_version": "1.2.0",
      "model_name": "LayoutModel",
      "state": {}
     },
     "bd92e333ed8541b88a11d99b49ee3e48": {
      "model_module": "@jupyter-widgets/controls",
      "model_module_version": "1.5.0",
      "model_name": "HBoxModel",
      "state": {
       "children": [
        "IPY_MODEL_ab0cd5d426de4721b91bfb9da48ce54b",
        "IPY_MODEL_ead8a1156ebc45f0b42c00ec105beb05",
        "IPY_MODEL_83f593002b444dd9a011d7fcc31d032e",
        "IPY_MODEL_732e7a653d6242e382691a25ce1073de"
       ],
       "layout": "IPY_MODEL_a18c9b15ecbd4725a40099c8c4f01af0"
      }
     },
     "cc7d77f9d2bb4dc3987761a81bd00aaf": {
      "model_module": "@jupyter-widgets/base",
      "model_module_version": "1.2.0",
      "model_name": "LayoutModel",
      "state": {}
     },
     "d42b93ff15824fe1907778743442e005": {
      "model_module": "@jupyter-widgets/base",
      "model_module_version": "1.2.0",
      "model_name": "LayoutModel",
      "state": {
       "height": "290px",
       "width": "440px"
      }
     },
     "d612e50f652840cb8606e06802228853": {
      "model_module": "@jupyter-widgets/controls",
      "model_module_version": "1.5.0",
      "model_name": "SliderStyleModel",
      "state": {
       "description_width": ""
      }
     },
     "d697d07a4ca145d798c65bef5ef25282": {
      "model_module": "@jupyter-widgets/controls",
      "model_module_version": "1.5.0",
      "model_name": "DescriptionStyleModel",
      "state": {
       "description_width": "45px"
      }
     },
     "da0a20b13e344f0c8c6044b05ac9efe0": {
      "model_module": "@jupyter-widgets/controls",
      "model_module_version": "1.5.0",
      "model_name": "VBoxModel",
      "state": {
       "children": [
        "IPY_MODEL_f602c58140fc4665bf1350af63b266da",
        "IPY_MODEL_910bf43a10974fce9b68bc779c537857"
       ],
       "layout": "IPY_MODEL_01e0f71e9ab94ff29cdcfd46f20d6f25"
      }
     },
     "db58fba8bcca44709fa0170fa1fcadfc": {
      "model_module": "@jupyter-widgets/base",
      "model_module_version": "1.2.0",
      "model_name": "LayoutModel",
      "state": {}
     },
     "de8dbd2ed06145b7965eabc0663c80b6": {
      "model_module": "@jupyter-widgets/controls",
      "model_module_version": "1.5.0",
      "model_name": "DescriptionStyleModel",
      "state": {
       "description_width": "30px"
      }
     },
     "e00a3fd8f1764de886aadb3970e6d694": {
      "model_module": "@jupyter-widgets/output",
      "model_module_version": "1.0.0",
      "model_name": "OutputModel",
      "state": {
       "layout": "IPY_MODEL_afd15a7cec9b48799326ce086aa88a2c",
       "outputs": [
        {
         "data": {
          "image/png": "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\n",
          "text/plain": "<Figure size 550x450 with 1 Axes>"
         },
         "metadata": {},
         "output_type": "display_data"
        }
       ]
      }
     },
     "e12adef6102543dbba6738e0b270fd6a": {
      "model_module": "@jupyter-widgets/controls",
      "model_module_version": "1.5.0",
      "model_name": "CheckboxModel",
      "state": {
       "description": "axes",
       "disabled": false,
       "indent": false,
       "layout": "IPY_MODEL_1c58b47035c742b699fe86b556640feb",
       "style": "IPY_MODEL_3f480944c717400fbc0346b68aa21ee8",
       "value": false
      }
     },
     "e92f6bd6bf5c47108a7c33d49517de84": {
      "model_module": "@jupyter-widgets/base",
      "model_module_version": "1.2.0",
      "model_name": "LayoutModel",
      "state": {
       "width": "34px"
      }
     },
     "ead8a1156ebc45f0b42c00ec105beb05": {
      "model_module": "@jupyter-widgets/controls",
      "model_module_version": "1.5.0",
      "model_name": "SelectModel",
      "state": {
       "_options_labels": [
        "energy",
        "maxforce",
        "conf_no",
        "histplot col1"
       ],
       "description": "col2:",
       "index": 0,
       "layout": "IPY_MODEL_0e1c795876174bd49500efc64e8e690f",
       "rows": 1,
       "style": "IPY_MODEL_de8dbd2ed06145b7965eabc0663c80b6"
      }
     },
     "eaf7505546724da59341883ed0f96576": {
      "model_module": "@jupyter-widgets/controls",
      "model_module_version": "1.5.0",
      "model_name": "CheckboxModel",
      "state": {
       "description": "force",
       "disabled": false,
       "indent": false,
       "layout": "IPY_MODEL_457892f14fb246f6a9ce06f8235a61a1",
       "style": "IPY_MODEL_76e518588aec4b67b270fff0684bd571",
       "value": false
      }
     },
     "ed4a6e7531e04ae7b216333e953c831f": {
      "model_module": "@jupyter-widgets/base",
      "model_module_version": "1.2.0",
      "model_name": "LayoutModel",
      "state": {}
     },
     "f332dfa1b7d8493e8168c846b827340a": {
      "model_module": "@jupyter-widgets/controls",
      "model_module_version": "1.5.0",
      "model_name": "IntSliderModel",
      "state": {
       "description": "(2, 7)",
       "layout": "IPY_MODEL_b85fc2455e114ae68812a833834825cb",
       "max": 6,
       "style": "IPY_MODEL_23270800081947f4b8aca7a38827eddc"
      }
     },
     "f4e60aa7e8fe4f5d9fbc23b20020e4a1": {
      "model_module": "@jupyter-widgets/base",
      "model_module_version": "1.2.0",
      "model_name": "LayoutModel",
      "state": {}
     },
     "f602c58140fc4665bf1350af63b266da": {
      "model_module": "@jupyter-widgets/output",
      "model_module_version": "1.0.0",
      "model_name": "OutputModel",
      "state": {
       "layout": "IPY_MODEL_d42b93ff15824fe1907778743442e005",
       "outputs": [
        {
         "data": {
          "text/html": "\n        <html><head>\n        <script type=\"text/javascript\" language=\"javascript\" src=\"https://pfcc.matlantis.com/nb/q3my6ejpy7j7op18/default/files//archive/codes/20220803_JSME/JSME/jsme-editor.github.io/dist/jsme/jsme.nocache.js\"></script>\n        <script>    \n        function jsmeOnLoad() {  jsmeApplet = new JSApplet.JSME(\"20221219151120\", \"430px\",\"285px\");           \n        jsmeApplet.setCallBack(\"AfterStructureModified\", show_smiles);        }        \n        function show_smiles(event) {\n         smiles = event.src.smiles();            \n         el = document.querySelector(\"input[placeholder='20221219151120']\");           \n         el.value = smiles.replace(\"/\\[([A-Za-z][a-z]?)H?\\d*:\\d+\\]/g\",smiles);           \n         el.dispatchEvent(new Event('input',{'bubbles': true,'cancelable': true}));        \n        }\n        </script></head><body><div id=\"20221219151120\"></div></body></html>\n        ",
          "text/plain": "<IPython.core.display.HTML object>"
         },
         "metadata": {},
         "output_type": "display_data"
        }
       ]
      }
     },
     "f6b2f821bacb43c0ad4ca7ecf9b2c798": {
      "model_module": "@jupyter-widgets/controls",
      "model_module_version": "1.5.0",
      "model_name": "CheckboxModel",
      "state": {
       "description": "index",
       "disabled": false,
       "indent": false,
       "layout": "IPY_MODEL_782d9a96e80d484495b366a62af86dca",
       "style": "IPY_MODEL_5d29b11a5d4342cdb2487d89d35db88d",
       "value": false
      }
     },
     "f8c1d2b86ccf478cb868d611a3e99985": {
      "model_module": "@jupyter-widgets/controls",
      "model_module_version": "1.5.0",
      "model_name": "HBoxModel",
      "state": {
       "children": [
        "IPY_MODEL_3a6d027ea42e4251baf02e1020e0655a",
        "IPY_MODEL_658266e632d842a39b0d3bdfbb84e5db",
        "IPY_MODEL_9b0414822dbe4494abf4acec52ec807a"
       ],
       "layout": "IPY_MODEL_87196b48a7f447b2ae2f643de20bb5e2"
      }
     },
     "fd3f28349d4743e19ac40d15953c53b4": {
      "model_module": "@jupyter-widgets/controls",
      "model_module_version": "1.5.0",
      "model_name": "DescriptionStyleModel",
      "state": {
       "description_width": ""
      }
     },
     "febbbdd1e34443939bb6320e32356a94": {
      "model_module": "@jupyter-widgets/controls",
      "model_module_version": "1.5.0",
      "model_name": "VBoxModel",
      "state": {
       "children": [
        "IPY_MODEL_03e17ff6b1f74497813015525dc8ebe7",
        "IPY_MODEL_3a2b5158a18445948071ecc41efc3d5f"
       ],
       "layout": "IPY_MODEL_bd0077405c4842f98d5d8021b9b4d585"
      }
     },
     "fef27b5713db4002b4b485e1cf661d61": {
      "model_module": "@jupyter-widgets/base",
      "model_module_version": "1.2.0",
      "model_name": "LayoutModel",
      "state": {
       "width": "100px"
      }
     },
     "ffddeddaf66b4ff6a9dee5a1bd7046aa": {
      "model_module": "@jupyter-widgets/controls",
      "model_module_version": "1.5.0",
      "model_name": "LinkModel",
      "state": {
       "source": [
        "IPY_MODEL_75fc3f7a94c44c2e97515da0e2187835",
        "max"
       ],
       "target": [
        "IPY_MODEL_03e17ff6b1f74497813015525dc8ebe7",
        "max_frame"
       ]
      }
     }
    },
    "version_major": 2,
    "version_minor": 0
   }
  }
 },
 "nbformat": 4,
 "nbformat_minor": 5
}
