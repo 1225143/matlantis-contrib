{
 "cells": [
  {
   "cell_type": "markdown",
   "id": "11ffbf79-7a05-438b-a6b2-8a669ca2ffe8",
   "metadata": {},
   "source": [
    "Copyright ENEOS, Corp., Preferred Computational Chemistry, Inc. and Preferred Networks, Inc. as contributors to Matlantis contrib project\n",
    "\n",
    "# moldraw\n",
    "\n",
    "JSMEを用いて分子を描画しASE　atomsを返すUIツールです。  #eneos ibuka 2022/12/8\n",
    "\n",
    "v0.1.0 2023/10/25 　Pandasバージョンアップ対応 パッケージ化対応,　引数からcalculator 設定可能に変更　3.8,3.9で動作確認"
   ]
  },
  {
   "cell_type": "markdown",
   "id": "b322243f-651c-4560-86b7-e5e81fcf7de4",
   "metadata": {},
   "source": [
    "## セットアップ\n",
    " Install.ipynb を開き実行してください。一度実行すれば他のフォルダでも実行できます。\n",
    " python3.8,3.9で動作確認しています。利用バージョンそれぞれでのinstallが必要です。"
   ]
  },
  {
   "cell_type": "code",
   "execution_count": 1,
   "id": "b8f8ff89-4b91-4cdd-a578-ea54c5e38389",
   "metadata": {
    "tags": []
   },
   "outputs": [
    {
     "data": {
      "application/vnd.jupyter.widget-view+json": {
       "model_id": "038573262bc3491da187082ad9b9273d",
       "version_major": 2,
       "version_minor": 0
      },
      "text/plain": []
     },
     "metadata": {},
     "output_type": "display_data"
    }
   ],
   "source": [
    "import moldraw"
   ]
  },
  {
   "cell_type": "code",
   "execution_count": 2,
   "id": "9058f0fe-030e-4057-8d26-18052a6c62fb",
   "metadata": {
    "tags": []
   },
   "outputs": [
    {
     "data": {
      "application/vnd.jupyter.widget-view+json": {
       "model_id": "4bf0fc42acdc4170b7a9a1b971fae49c",
       "version_major": 2,
       "version_minor": 0
      },
      "text/plain": [
       "VBox(children=(HBox(children=(VBox(children=(VBox(children=(Output(layout=Layout(height='290px', width='440px'…"
      ]
     },
     "metadata": {},
     "output_type": "display_data"
    }
   ],
   "source": [
    "m = moldraw.Moldraw()"
   ]
  },
  {
   "cell_type": "markdown",
   "id": "f801d99f-8bc0-42d7-a226-ef5bd254770b",
   "metadata": {},
   "source": [
    "TIPS:　 ▼▲の一番下のメニューから　SMILES→図構造ができる。左回転ボタンでUNDOができる。\n",
    "\n",
    "登録した分子はdf経由でアクセス可能。"
   ]
  },
  {
   "cell_type": "code",
   "execution_count": 3,
   "id": "4727c30a-d461-450b-a78f-ae897543ce0e",
   "metadata": {
    "tags": []
   },
   "outputs": [
    {
     "data": {
      "text/html": [
       "<div>\n",
       "<style scoped>\n",
       "    .dataframe tbody tr th:only-of-type {\n",
       "        vertical-align: middle;\n",
       "    }\n",
       "\n",
       "    .dataframe tbody tr th {\n",
       "        vertical-align: top;\n",
       "    }\n",
       "\n",
       "    .dataframe thead th {\n",
       "        text-align: right;\n",
       "    }\n",
       "</style>\n",
       "<table border=\"1\" class=\"dataframe\">\n",
       "  <thead>\n",
       "    <tr style=\"text-align: right;\">\n",
       "      <th></th>\n",
       "      <th>SMILES</th>\n",
       "      <th>formula</th>\n",
       "      <th>atoms</th>\n",
       "      <th>energy</th>\n",
       "      <th>maxforce</th>\n",
       "      <th>opt</th>\n",
       "      <th>conf_no</th>\n",
       "    </tr>\n",
       "  </thead>\n",
       "  <tbody>\n",
       "    <tr>\n",
       "      <th>0</th>\n",
       "      <td>c1ccccc1</td>\n",
       "      <td>C6H6</td>\n",
       "      <td>(Atom('C', [-0.2995, -1.35...</td>\n",
       "      <td>-60.97546</td>\n",
       "      <td>1.115038</td>\n",
       "      <td>False</td>\n",
       "      <td>NaN</td>\n",
       "    </tr>\n",
       "    <tr>\n",
       "      <th>1</th>\n",
       "      <td>c1ccccc1</td>\n",
       "      <td>C6H6</td>\n",
       "      <td>(Atom('C', [0.7943, -1.149...</td>\n",
       "      <td>-60.96755</td>\n",
       "      <td>1.540152</td>\n",
       "      <td>False</td>\n",
       "      <td>0.0</td>\n",
       "    </tr>\n",
       "  </tbody>\n",
       "</table>\n",
       "</div>"
      ],
      "text/plain": [
       "     SMILES formula                          atoms    energy  maxforce    opt  \\\n",
       "0  c1ccccc1    C6H6  (Atom('C', [-0.2995, -1.35... -60.97546  1.115038  False   \n",
       "1  c1ccccc1    C6H6  (Atom('C', [0.7943, -1.149... -60.96755  1.540152  False   \n",
       "\n",
       "   conf_no  \n",
       "0      NaN  \n",
       "1      0.0  "
      ]
     },
     "metadata": {},
     "output_type": "display_data"
    },
    {
     "data": {
      "text/plain": [
       "Atoms(symbols='C6H6', pbc=False)"
      ]
     },
     "execution_count": 3,
     "metadata": {},
     "output_type": "execute_result"
    }
   ],
   "source": [
    "display(m.df)\n",
    "# atomsへアクセス\n",
    "m.df.iloc[0].atoms"
   ]
  },
  {
   "cell_type": "markdown",
   "id": "e4043353-38f4-471e-980f-90b20d67f0e6",
   "metadata": {},
   "source": [
    "イテレータでfor loopを用いてもアクセス可能"
   ]
  },
  {
   "cell_type": "code",
   "execution_count": 4,
   "id": "74ed0968-63fb-4f69-8dfd-5c7755757fde",
   "metadata": {
    "tags": []
   },
   "outputs": [
    {
     "name": "stdout",
     "output_type": "stream",
     "text": [
      "0 Atoms(symbols='C6H6', pbc=False, calculator=ASECalculator(...))\n",
      "1 Atoms(symbols='C6H6', pbc=False)\n",
      "2 Atoms(symbols='C6H6', pbc=False)\n"
     ]
    }
   ],
   "source": [
    "for i, atoms in enumerate(m):\n",
    "    print(i, atoms)"
   ]
  },
  {
   "cell_type": "markdown",
   "id": "9c55ac1b-9a55-4690-9e9e-97da2f99bbfb",
   "metadata": {},
   "source": [
    "## SMILESからのConformaer search\n",
    "\n",
    "`get_conformersdf` 関数を使うことで、SMILES指定をしての直接コンフォーマ探索も可能"
   ]
  },
  {
   "cell_type": "code",
   "execution_count": 5,
   "id": "ff2649f8-8eff-4e59-afab-f766a706d937",
   "metadata": {
    "tags": []
   },
   "outputs": [
    {
     "name": "stdout",
     "output_type": "stream",
     "text": [
      "6 conformers found (n_confs:100 n_atoms:17,rmsd_threshold:0.22)\n",
      "start opt top 3 conformers\n",
      " CCCCC 1 / 3 opt 36 steps done\n",
      " CCCCC 2 / 3 opt 46 steps done\n",
      " CCCCC 3 / 3 opt 32 steps done\n"
     ]
    },
    {
     "data": {
      "text/html": [
       "<div>\n",
       "<style scoped>\n",
       "    .dataframe tbody tr th:only-of-type {\n",
       "        vertical-align: middle;\n",
       "    }\n",
       "\n",
       "    .dataframe tbody tr th {\n",
       "        vertical-align: top;\n",
       "    }\n",
       "\n",
       "    .dataframe thead th {\n",
       "        text-align: right;\n",
       "    }\n",
       "</style>\n",
       "<table border=\"1\" class=\"dataframe\">\n",
       "  <thead>\n",
       "    <tr style=\"text-align: right;\">\n",
       "      <th></th>\n",
       "      <th>SMILES</th>\n",
       "      <th>formula</th>\n",
       "      <th>atoms</th>\n",
       "      <th>energy</th>\n",
       "      <th>maxforce</th>\n",
       "      <th>opt</th>\n",
       "      <th>conf_no</th>\n",
       "      <th>conf_no_opt</th>\n",
       "    </tr>\n",
       "  </thead>\n",
       "  <tbody>\n",
       "    <tr>\n",
       "      <th>0</th>\n",
       "      <td>CCCCC</td>\n",
       "      <td>C5H12</td>\n",
       "      <td>(Atom('C', [2.573962872795...</td>\n",
       "      <td>-69.826895</td>\n",
       "      <td>0.040378</td>\n",
       "      <td>True</td>\n",
       "      <td>0</td>\n",
       "      <td>0</td>\n",
       "    </tr>\n",
       "    <tr>\n",
       "      <th>1</th>\n",
       "      <td>CCCCC</td>\n",
       "      <td>C5H12</td>\n",
       "      <td>(Atom('C', [-2.39375624465...</td>\n",
       "      <td>-69.786662</td>\n",
       "      <td>0.049567</td>\n",
       "      <td>True</td>\n",
       "      <td>1</td>\n",
       "      <td>1</td>\n",
       "    </tr>\n",
       "    <tr>\n",
       "      <th>2</th>\n",
       "      <td>CCCCC</td>\n",
       "      <td>C5H12</td>\n",
       "      <td>(Atom('C', [2.372965376100...</td>\n",
       "      <td>-69.779179</td>\n",
       "      <td>0.045156</td>\n",
       "      <td>True</td>\n",
       "      <td>2</td>\n",
       "      <td>2</td>\n",
       "    </tr>\n",
       "    <tr>\n",
       "      <th>3</th>\n",
       "      <td>CCCCC</td>\n",
       "      <td>C5H12</td>\n",
       "      <td>(Atom('C', [1.7747, -0.788...</td>\n",
       "      <td>-69.373104</td>\n",
       "      <td>2.622761</td>\n",
       "      <td>False</td>\n",
       "      <td>3</td>\n",
       "      <td>3</td>\n",
       "    </tr>\n",
       "    <tr>\n",
       "      <th>4</th>\n",
       "      <td>CCCCC</td>\n",
       "      <td>C5H12</td>\n",
       "      <td>(Atom('C', [-1.8406, -0.26...</td>\n",
       "      <td>-69.348328</td>\n",
       "      <td>2.297797</td>\n",
       "      <td>False</td>\n",
       "      <td>4</td>\n",
       "      <td>4</td>\n",
       "    </tr>\n",
       "    <tr>\n",
       "      <th>5</th>\n",
       "      <td>CCCCC</td>\n",
       "      <td>C5H12</td>\n",
       "      <td>(Atom('C', [1.5662, 0.0888...</td>\n",
       "      <td>-69.146562</td>\n",
       "      <td>2.633826</td>\n",
       "      <td>False</td>\n",
       "      <td>5</td>\n",
       "      <td>5</td>\n",
       "    </tr>\n",
       "  </tbody>\n",
       "</table>\n",
       "</div>"
      ],
      "text/plain": [
       "  SMILES formula                          atoms     energy  maxforce    opt  \\\n",
       "0  CCCCC   C5H12  (Atom('C', [2.573962872795... -69.826895  0.040378   True   \n",
       "1  CCCCC   C5H12  (Atom('C', [-2.39375624465... -69.786662  0.049567   True   \n",
       "2  CCCCC   C5H12  (Atom('C', [2.372965376100... -69.779179  0.045156   True   \n",
       "3  CCCCC   C5H12  (Atom('C', [1.7747, -0.788... -69.373104  2.622761  False   \n",
       "4  CCCCC   C5H12  (Atom('C', [-1.8406, -0.26... -69.348328  2.297797  False   \n",
       "5  CCCCC   C5H12  (Atom('C', [1.5662, 0.0888... -69.146562  2.633826  False   \n",
       "\n",
       "   conf_no  conf_no_opt  \n",
       "0        0            0  \n",
       "1        1            1  \n",
       "2        2            2  \n",
       "3        3            3  \n",
       "4        4            4  \n",
       "5        5            5  "
      ]
     },
     "execution_count": 5,
     "metadata": {},
     "output_type": "execute_result"
    }
   ],
   "source": [
    "from moldraw.moldraw import get_conformersdf\n",
    "\n",
    "confo = get_conformersdf(\"CCCCC\", top=3, opt=True)\n",
    "confo "
   ]
  },
  {
   "cell_type": "markdown",
   "id": "262b9386-faeb-4b92-bff8-86496400b5c9",
   "metadata": {},
   "source": [
    "コンフォーマーは直接関数でも実行可能。大分子では遅い。"
   ]
  },
  {
   "cell_type": "code",
   "execution_count": 6,
   "id": "47b954e1-69a7-4b2d-8551-78cf8be3765c",
   "metadata": {
    "tags": []
   },
   "outputs": [
    {
     "name": "stdout",
     "output_type": "stream",
     "text": [
      "25 conformers found (n_confs:100 n_atoms:23,rmsd_threshold:0.28)\n",
      "CPU times: user 1.99 s, sys: 536 ms, total: 2.53 s\n",
      "Wall time: 4.52 s\n"
     ]
    },
    {
     "data": {
      "text/html": [
       "<div>\n",
       "<style scoped>\n",
       "    .dataframe tbody tr th:only-of-type {\n",
       "        vertical-align: middle;\n",
       "    }\n",
       "\n",
       "    .dataframe tbody tr th {\n",
       "        vertical-align: top;\n",
       "    }\n",
       "\n",
       "    .dataframe thead th {\n",
       "        text-align: right;\n",
       "    }\n",
       "</style>\n",
       "<table border=\"1\" class=\"dataframe\">\n",
       "  <thead>\n",
       "    <tr style=\"text-align: right;\">\n",
       "      <th></th>\n",
       "      <th>SMILES</th>\n",
       "      <th>formula</th>\n",
       "      <th>atoms</th>\n",
       "      <th>energy</th>\n",
       "      <th>maxforce</th>\n",
       "      <th>opt</th>\n",
       "      <th>conf_no</th>\n",
       "    </tr>\n",
       "  </thead>\n",
       "  <tbody>\n",
       "    <tr>\n",
       "      <th>0</th>\n",
       "      <td>CCCCCCC</td>\n",
       "      <td>C7H16</td>\n",
       "      <td>(Atom('C', [3.1262, 0.1417...</td>\n",
       "      <td>-95.186902</td>\n",
       "      <td>2.073040</td>\n",
       "      <td>False</td>\n",
       "      <td>0</td>\n",
       "    </tr>\n",
       "    <tr>\n",
       "      <th>1</th>\n",
       "      <td>CCCCCCC</td>\n",
       "      <td>C7H16</td>\n",
       "      <td>(Atom('C', [-2.8209, -0.42...</td>\n",
       "      <td>-95.166704</td>\n",
       "      <td>1.845676</td>\n",
       "      <td>False</td>\n",
       "      <td>1</td>\n",
       "    </tr>\n",
       "    <tr>\n",
       "      <th>2</th>\n",
       "      <td>CCCCCCC</td>\n",
       "      <td>C7H16</td>\n",
       "      <td>(Atom('C', [-2.781, 1.2439...</td>\n",
       "      <td>-95.147992</td>\n",
       "      <td>1.424633</td>\n",
       "      <td>False</td>\n",
       "      <td>2</td>\n",
       "    </tr>\n",
       "    <tr>\n",
       "      <th>3</th>\n",
       "      <td>CCCCCCC</td>\n",
       "      <td>C7H16</td>\n",
       "      <td>(Atom('C', [3.569, 0.1564,...</td>\n",
       "      <td>-95.142429</td>\n",
       "      <td>1.780890</td>\n",
       "      <td>False</td>\n",
       "      <td>3</td>\n",
       "    </tr>\n",
       "    <tr>\n",
       "      <th>4</th>\n",
       "      <td>CCCCCCC</td>\n",
       "      <td>C7H16</td>\n",
       "      <td>(Atom('C', [-2.6159, -0.15...</td>\n",
       "      <td>-95.130356</td>\n",
       "      <td>1.795929</td>\n",
       "      <td>False</td>\n",
       "      <td>4</td>\n",
       "    </tr>\n",
       "    <tr>\n",
       "      <th>5</th>\n",
       "      <td>CCCCCCC</td>\n",
       "      <td>C7H16</td>\n",
       "      <td>(Atom('C', [2.731, 1.0508,...</td>\n",
       "      <td>-95.124852</td>\n",
       "      <td>1.902729</td>\n",
       "      <td>False</td>\n",
       "      <td>5</td>\n",
       "    </tr>\n",
       "    <tr>\n",
       "      <th>6</th>\n",
       "      <td>CCCCCCC</td>\n",
       "      <td>C7H16</td>\n",
       "      <td>(Atom('C', [-2.8554, 0.007...</td>\n",
       "      <td>-95.105848</td>\n",
       "      <td>1.855395</td>\n",
       "      <td>False</td>\n",
       "      <td>6</td>\n",
       "    </tr>\n",
       "    <tr>\n",
       "      <th>7</th>\n",
       "      <td>CCCCCCC</td>\n",
       "      <td>C7H16</td>\n",
       "      <td>(Atom('C', [-3.5235, -0.42...</td>\n",
       "      <td>-95.101927</td>\n",
       "      <td>1.861386</td>\n",
       "      <td>False</td>\n",
       "      <td>7</td>\n",
       "    </tr>\n",
       "    <tr>\n",
       "      <th>8</th>\n",
       "      <td>CCCCCCC</td>\n",
       "      <td>C7H16</td>\n",
       "      <td>(Atom('C', [2.8141, 1.0146...</td>\n",
       "      <td>-95.073047</td>\n",
       "      <td>1.621446</td>\n",
       "      <td>False</td>\n",
       "      <td>8</td>\n",
       "    </tr>\n",
       "    <tr>\n",
       "      <th>9</th>\n",
       "      <td>CCCCCCC</td>\n",
       "      <td>C7H16</td>\n",
       "      <td>(Atom('C', [-2.9278, 0.448...</td>\n",
       "      <td>-95.069335</td>\n",
       "      <td>2.097057</td>\n",
       "      <td>False</td>\n",
       "      <td>9</td>\n",
       "    </tr>\n",
       "    <tr>\n",
       "      <th>10</th>\n",
       "      <td>CCCCCCC</td>\n",
       "      <td>C7H16</td>\n",
       "      <td>(Atom('C', [3.7123, -0.064...</td>\n",
       "      <td>-95.067109</td>\n",
       "      <td>1.901971</td>\n",
       "      <td>False</td>\n",
       "      <td>10</td>\n",
       "    </tr>\n",
       "    <tr>\n",
       "      <th>11</th>\n",
       "      <td>CCCCCCC</td>\n",
       "      <td>C7H16</td>\n",
       "      <td>(Atom('C', [2.1378, 1.0463...</td>\n",
       "      <td>-95.067095</td>\n",
       "      <td>1.967215</td>\n",
       "      <td>False</td>\n",
       "      <td>11</td>\n",
       "    </tr>\n",
       "    <tr>\n",
       "      <th>12</th>\n",
       "      <td>CCCCCCC</td>\n",
       "      <td>C7H16</td>\n",
       "      <td>(Atom('C', [3.4119, 0.1057...</td>\n",
       "      <td>-95.017548</td>\n",
       "      <td>1.423544</td>\n",
       "      <td>False</td>\n",
       "      <td>12</td>\n",
       "    </tr>\n",
       "    <tr>\n",
       "      <th>13</th>\n",
       "      <td>CCCCCCC</td>\n",
       "      <td>C7H16</td>\n",
       "      <td>(Atom('C', [3.4199, -0.111...</td>\n",
       "      <td>-95.011299</td>\n",
       "      <td>1.934434</td>\n",
       "      <td>False</td>\n",
       "      <td>13</td>\n",
       "    </tr>\n",
       "    <tr>\n",
       "      <th>14</th>\n",
       "      <td>CCCCCCC</td>\n",
       "      <td>C7H16</td>\n",
       "      <td>(Atom('C', [-2.7396, -0.22...</td>\n",
       "      <td>-94.984482</td>\n",
       "      <td>1.808125</td>\n",
       "      <td>False</td>\n",
       "      <td>14</td>\n",
       "    </tr>\n",
       "    <tr>\n",
       "      <th>15</th>\n",
       "      <td>CCCCCCC</td>\n",
       "      <td>C7H16</td>\n",
       "      <td>(Atom('C', [2.9296, -1.134...</td>\n",
       "      <td>-94.944889</td>\n",
       "      <td>2.153117</td>\n",
       "      <td>False</td>\n",
       "      <td>15</td>\n",
       "    </tr>\n",
       "    <tr>\n",
       "      <th>16</th>\n",
       "      <td>CCCCCCC</td>\n",
       "      <td>C7H16</td>\n",
       "      <td>(Atom('C', [-2.6008, -0.40...</td>\n",
       "      <td>-94.943989</td>\n",
       "      <td>1.951802</td>\n",
       "      <td>False</td>\n",
       "      <td>16</td>\n",
       "    </tr>\n",
       "    <tr>\n",
       "      <th>17</th>\n",
       "      <td>CCCCCCC</td>\n",
       "      <td>C7H16</td>\n",
       "      <td>(Atom('C', [-2.6142, 0.667...</td>\n",
       "      <td>-94.932814</td>\n",
       "      <td>2.050968</td>\n",
       "      <td>False</td>\n",
       "      <td>17</td>\n",
       "    </tr>\n",
       "    <tr>\n",
       "      <th>18</th>\n",
       "      <td>CCCCCCC</td>\n",
       "      <td>C7H16</td>\n",
       "      <td>(Atom('C', [-2.7207, -0.19...</td>\n",
       "      <td>-94.925487</td>\n",
       "      <td>1.604887</td>\n",
       "      <td>False</td>\n",
       "      <td>18</td>\n",
       "    </tr>\n",
       "    <tr>\n",
       "      <th>19</th>\n",
       "      <td>CCCCCCC</td>\n",
       "      <td>C7H16</td>\n",
       "      <td>(Atom('C', [-2.1879, 1.309...</td>\n",
       "      <td>-94.910040</td>\n",
       "      <td>2.521500</td>\n",
       "      <td>False</td>\n",
       "      <td>19</td>\n",
       "    </tr>\n",
       "    <tr>\n",
       "      <th>20</th>\n",
       "      <td>CCCCCCC</td>\n",
       "      <td>C7H16</td>\n",
       "      <td>(Atom('C', [-1.9826, 1.417...</td>\n",
       "      <td>-94.754874</td>\n",
       "      <td>3.535223</td>\n",
       "      <td>False</td>\n",
       "      <td>20</td>\n",
       "    </tr>\n",
       "    <tr>\n",
       "      <th>21</th>\n",
       "      <td>CCCCCCC</td>\n",
       "      <td>C7H16</td>\n",
       "      <td>(Atom('C', [2.4726, 0.6282...</td>\n",
       "      <td>-94.669979</td>\n",
       "      <td>3.534907</td>\n",
       "      <td>False</td>\n",
       "      <td>21</td>\n",
       "    </tr>\n",
       "    <tr>\n",
       "      <th>22</th>\n",
       "      <td>CCCCCCC</td>\n",
       "      <td>C7H16</td>\n",
       "      <td>(Atom('C', [-1.729, -0.812...</td>\n",
       "      <td>-94.591812</td>\n",
       "      <td>3.556740</td>\n",
       "      <td>False</td>\n",
       "      <td>22</td>\n",
       "    </tr>\n",
       "    <tr>\n",
       "      <th>23</th>\n",
       "      <td>CCCCCCC</td>\n",
       "      <td>C7H16</td>\n",
       "      <td>(Atom('C', [-2.3894, 0.250...</td>\n",
       "      <td>-94.576384</td>\n",
       "      <td>4.205362</td>\n",
       "      <td>False</td>\n",
       "      <td>23</td>\n",
       "    </tr>\n",
       "    <tr>\n",
       "      <th>24</th>\n",
       "      <td>CCCCCCC</td>\n",
       "      <td>C7H16</td>\n",
       "      <td>(Atom('C', [2.0665, -0.021...</td>\n",
       "      <td>-94.553474</td>\n",
       "      <td>4.005065</td>\n",
       "      <td>False</td>\n",
       "      <td>24</td>\n",
       "    </tr>\n",
       "  </tbody>\n",
       "</table>\n",
       "</div>"
      ],
      "text/plain": [
       "     SMILES formula                          atoms     energy  maxforce  \\\n",
       "0   CCCCCCC   C7H16  (Atom('C', [3.1262, 0.1417... -95.186902  2.073040   \n",
       "1   CCCCCCC   C7H16  (Atom('C', [-2.8209, -0.42... -95.166704  1.845676   \n",
       "2   CCCCCCC   C7H16  (Atom('C', [-2.781, 1.2439... -95.147992  1.424633   \n",
       "3   CCCCCCC   C7H16  (Atom('C', [3.569, 0.1564,... -95.142429  1.780890   \n",
       "4   CCCCCCC   C7H16  (Atom('C', [-2.6159, -0.15... -95.130356  1.795929   \n",
       "5   CCCCCCC   C7H16  (Atom('C', [2.731, 1.0508,... -95.124852  1.902729   \n",
       "6   CCCCCCC   C7H16  (Atom('C', [-2.8554, 0.007... -95.105848  1.855395   \n",
       "7   CCCCCCC   C7H16  (Atom('C', [-3.5235, -0.42... -95.101927  1.861386   \n",
       "8   CCCCCCC   C7H16  (Atom('C', [2.8141, 1.0146... -95.073047  1.621446   \n",
       "9   CCCCCCC   C7H16  (Atom('C', [-2.9278, 0.448... -95.069335  2.097057   \n",
       "10  CCCCCCC   C7H16  (Atom('C', [3.7123, -0.064... -95.067109  1.901971   \n",
       "11  CCCCCCC   C7H16  (Atom('C', [2.1378, 1.0463... -95.067095  1.967215   \n",
       "12  CCCCCCC   C7H16  (Atom('C', [3.4119, 0.1057... -95.017548  1.423544   \n",
       "13  CCCCCCC   C7H16  (Atom('C', [3.4199, -0.111... -95.011299  1.934434   \n",
       "14  CCCCCCC   C7H16  (Atom('C', [-2.7396, -0.22... -94.984482  1.808125   \n",
       "15  CCCCCCC   C7H16  (Atom('C', [2.9296, -1.134... -94.944889  2.153117   \n",
       "16  CCCCCCC   C7H16  (Atom('C', [-2.6008, -0.40... -94.943989  1.951802   \n",
       "17  CCCCCCC   C7H16  (Atom('C', [-2.6142, 0.667... -94.932814  2.050968   \n",
       "18  CCCCCCC   C7H16  (Atom('C', [-2.7207, -0.19... -94.925487  1.604887   \n",
       "19  CCCCCCC   C7H16  (Atom('C', [-2.1879, 1.309... -94.910040  2.521500   \n",
       "20  CCCCCCC   C7H16  (Atom('C', [-1.9826, 1.417... -94.754874  3.535223   \n",
       "21  CCCCCCC   C7H16  (Atom('C', [2.4726, 0.6282... -94.669979  3.534907   \n",
       "22  CCCCCCC   C7H16  (Atom('C', [-1.729, -0.812... -94.591812  3.556740   \n",
       "23  CCCCCCC   C7H16  (Atom('C', [-2.3894, 0.250... -94.576384  4.205362   \n",
       "24  CCCCCCC   C7H16  (Atom('C', [2.0665, -0.021... -94.553474  4.005065   \n",
       "\n",
       "      opt  conf_no  \n",
       "0   False        0  \n",
       "1   False        1  \n",
       "2   False        2  \n",
       "3   False        3  \n",
       "4   False        4  \n",
       "5   False        5  \n",
       "6   False        6  \n",
       "7   False        7  \n",
       "8   False        8  \n",
       "9   False        9  \n",
       "10  False       10  \n",
       "11  False       11  \n",
       "12  False       12  \n",
       "13  False       13  \n",
       "14  False       14  \n",
       "15  False       15  \n",
       "16  False       16  \n",
       "17  False       17  \n",
       "18  False       18  \n",
       "19  False       19  \n",
       "20  False       20  \n",
       "21  False       21  \n",
       "22  False       22  \n",
       "23  False       23  \n",
       "24  False       24  "
      ]
     },
     "execution_count": 6,
     "metadata": {},
     "output_type": "execute_result"
    }
   ],
   "source": [
    "%%time\n",
    "confo2 = get_conformersdf(\"CCCCCCC\", opt=False)\n",
    "confo2"
   ]
  },
  {
   "cell_type": "markdown",
   "id": "8e8ae9b2-ebe7-4003-9a37-5d30f287ca13",
   "metadata": {},
   "source": [
    "## DataFrameに対するグラフ描画ツール\n",
    "\n",
    "DataFrameに対して汎用的に使えるグラフ用のUIを提供するクラス`Dfplot`。\n",
    "\n",
    "引数にDataFrameを入れることで、x軸・y軸を指定しての描画が可能です。"
   ]
  },
  {
   "cell_type": "code",
   "execution_count": 7,
   "id": "8fea148d-1462-4ad6-b0cc-8f12247406cc",
   "metadata": {
    "tags": []
   },
   "outputs": [
    {
     "data": {
      "application/vnd.jupyter.widget-view+json": {
       "model_id": "edc1fd405bfd43b79c58080d189d2c7a",
       "version_major": 2,
       "version_minor": 0
      },
      "text/plain": [
       "VBox(children=(HBox(children=(Select(description='col1:', layout=Layout(border='0px', height='27px', width='20…"
      ]
     },
     "metadata": {},
     "output_type": "display_data"
    }
   ],
   "source": [
    "from moldraw import Dfplot\n",
    "p = Dfplot(confo2)"
   ]
  },
  {
   "cell_type": "code",
   "execution_count": null,
   "id": "29547c9f-7975-421d-a95f-752daa5c45d8",
   "metadata": {},
   "outputs": [],
   "source": []
  }
 ],
 "metadata": {
  "kernelspec": {
   "display_name": "Python 3.9",
   "language": "python",
   "name": "python39"
  },
  "language_info": {
   "codemirror_mode": {
    "name": "ipython",
    "version": 3
   },
   "file_extension": ".py",
   "mimetype": "text/x-python",
   "name": "python",
   "nbconvert_exporter": "python",
   "pygments_lexer": "ipython3",
   "version": "3.9.16"
  },
  "widgets": {
   "application/vnd.jupyter.widget-state+json": {
    "state": {
     "009841ee6ae246d18a03f068d2c4221f": {
      "model_module": "@jupyter-widgets/controls",
      "model_module_version": "1.5.0",
      "model_name": "CheckboxModel",
      "state": {
       "description": "yy ploy",
       "disabled": false,
       "layout": "IPY_MODEL_80df47f6ed2c4285bb082a55d1b1eacf",
       "style": "IPY_MODEL_a9004377ead44872895cb191fa0ac8b0",
       "value": false
      }
     },
     "038573262bc3491da187082ad9b9273d": {
      "model_module": "nglview-js-widgets",
      "model_module_version": "3.0.1",
      "model_name": "ColormakerRegistryModel",
      "state": {
       "_msg_ar": [],
       "_msg_q": [],
       "_ready": true,
       "layout": "IPY_MODEL_f39dd96c6bbe4b45b9ad7d7681824397"
      }
     },
     "0d9eac2cf922427d8275026714417b74": {
      "model_module": "@jupyter-widgets/base",
      "model_module_version": "1.2.0",
      "model_name": "LayoutModel",
      "state": {
       "width": "80px"
      }
     },
     "0ded2b76c56345998e69f9ae17556f4a": {
      "model_module": "@jupyter-widgets/controls",
      "model_module_version": "1.5.0",
      "model_name": "HBoxModel",
      "state": {
       "children": [
        "IPY_MODEL_35b7443225f64cc0be4a32e7a2a42f48",
        "IPY_MODEL_600730d7decd427e94742db6e66fa187",
        "IPY_MODEL_6b0043d962dc49539a5f70ef28764e45"
       ],
       "layout": "IPY_MODEL_ada204bf4288403ba0e2566a533c84b8"
      }
     },
     "1f78ef0ec47a4b47b6df57b1b26f656b": {
      "model_module": "@jupyter-widgets/output",
      "model_module_version": "1.0.0",
      "model_name": "OutputModel",
      "state": {
       "layout": "IPY_MODEL_c11abf77737244629933f1650b42293a",
       "outputs": [
        {
         "data": {
          "text/html": "<div>\n<style scoped>\n    .dataframe tbody tr th:only-of-type {\n        vertical-align: middle;\n    }\n\n    .dataframe tbody tr th {\n        vertical-align: top;\n    }\n\n    .dataframe thead th {\n        text-align: right;\n    }\n</style>\n<table border=\"1\" class=\"dataframe\">\n  <thead>\n    <tr style=\"text-align: right;\">\n      <th></th>\n      <th>SMILES</th>\n      <th>formula</th>\n      <th>atoms</th>\n      <th>energy</th>\n      <th>maxforce</th>\n      <th>opt</th>\n      <th>conf_no</th>\n    </tr>\n  </thead>\n  <tbody>\n    <tr>\n      <th>0</th>\n      <td>c1ccccc1</td>\n      <td>C6H6</td>\n      <td>(Atom('C', [-0.2995, -1.35...</td>\n      <td>-60.97546</td>\n      <td>1.115038</td>\n      <td>False</td>\n      <td>NaN</td>\n    </tr>\n    <tr>\n      <th>1</th>\n      <td>c1ccccc1</td>\n      <td>C6H6</td>\n      <td>(Atom('C', [0.7943, -1.149...</td>\n      <td>-60.96755</td>\n      <td>1.540152</td>\n      <td>False</td>\n      <td>0.0</td>\n    </tr>\n  </tbody>\n</table>\n</div>",
          "text/plain": "     SMILES formula                          atoms    energy  maxforce    opt  \\\n0  c1ccccc1    C6H6  (Atom('C', [-0.2995, -1.35... -60.97546  1.115038  False   \n1  c1ccccc1    C6H6  (Atom('C', [0.7943, -1.149... -60.96755  1.540152  False   \n\n   conf_no  \n0      NaN  \n1      0.0  "
         },
         "metadata": {},
         "output_type": "display_data"
        }
       ]
      }
     },
     "21b02a8fd93b4caea056ba830d28dd9c": {
      "model_module": "@jupyter-widgets/base",
      "model_module_version": "1.2.0",
      "model_name": "LayoutModel",
      "state": {}
     },
     "289105f25ca341c78d0ae3cb33e5f9ec": {
      "model_module": "@jupyter-widgets/base",
      "model_module_version": "1.2.0",
      "model_name": "LayoutModel",
      "state": {}
     },
     "297169957cf349d189ebd45299b1b545": {
      "model_module": "@jupyter-widgets/output",
      "model_module_version": "1.0.0",
      "model_name": "OutputModel",
      "state": {
       "layout": "IPY_MODEL_a92f23f131e84124b0f800801ab52106",
       "outputs": [
        {
         "data": {
          "text/html": "\n        <html><head>\n        <script type=\"text/javascript\" language=\"javascript\" src=\"https://pfcc.matlantis.com/nb/4de55fn39i8b0xgl/default/files/.py39/lib/python3.9/site-packages/moldraw/data/jsme/jsme.nocache.js\"></script>\n        <script>    \n        function jsmeOnLoad() {  jsmeApplet = new JSApplet.JSME(\"20240704162322\", \"380px\",\"285px\");           \n        jsmeApplet.setCallBack(\"AfterStructureModified\", show_smiles);        }        \n        function show_smiles(event) {\n         smiles = event.src.smiles();            \n         el = document.querySelector(\"input[placeholder='20240704162322']\");           \n         el.value = smiles.replace(\"/\\[([A-Za-z][a-z]?)H?\\d*:\\d+\\]/g\",smiles);           \n         el.dispatchEvent(new Event('input',{'bubbles': true,'cancelable': true}));        \n        }\n        </script></head><body><div id=\"20240704162322\"></div></body></html>\n        ",
          "text/plain": "<IPython.core.display.HTML object>"
         },
         "metadata": {},
         "output_type": "display_data"
        }
       ]
      }
     },
     "2b41f14ac9764b68b89481c9688cb646": {
      "model_module": "@jupyter-widgets/base",
      "model_module_version": "1.2.0",
      "model_name": "LayoutModel",
      "state": {}
     },
     "2be9502d4a2e478b932eca590f843ade": {
      "model_module": "@jupyter-widgets/controls",
      "model_module_version": "1.5.0",
      "model_name": "IntSliderModel",
      "state": {
       "layout": "IPY_MODEL_d100184c6ecf4c35a17de5ded1fe8ceb",
       "max": 0,
       "style": "IPY_MODEL_ec4fd6b67cea42bb82c91a538d71528c"
      }
     },
     "2ca92eaef0e64c0890cfb3b1712b931b": {
      "model_module": "@jupyter-widgets/base",
      "model_module_version": "1.2.0",
      "model_name": "LayoutModel",
      "state": {}
     },
     "30729040c4c049968cdddf9621d81fd4": {
      "model_module": "@jupyter-widgets/controls",
      "model_module_version": "1.5.0",
      "model_name": "DescriptionStyleModel",
      "state": {
       "description_width": ""
      }
     },
     "334ad6fda092476398bde0dfada87d78": {
      "model_module": "@jupyter-widgets/controls",
      "model_module_version": "1.5.0",
      "model_name": "VBoxModel",
      "state": {
       "children": [
        "IPY_MODEL_9a90b2fc5b5742da866599841c41fab6",
        "IPY_MODEL_1f78ef0ec47a4b47b6df57b1b26f656b"
       ],
       "layout": "IPY_MODEL_fa453660ab694a289b467df7bfe85550"
      }
     },
     "34728d9691e5467586cadb35ea0b8b29": {
      "model_module": "@jupyter-widgets/controls",
      "model_module_version": "1.5.0",
      "model_name": "DescriptionStyleModel",
      "state": {
       "description_width": ""
      }
     },
     "35b7443225f64cc0be4a32e7a2a42f48": {
      "model_module": "@jupyter-widgets/controls",
      "model_module_version": "1.5.0",
      "model_name": "CheckboxModel",
      "state": {
       "description": "OPT",
       "disabled": false,
       "indent": false,
       "layout": "IPY_MODEL_ba7420bf37894c65bd958606e6f14570",
       "style": "IPY_MODEL_44ba5fdb50d64128acfa80ec7e6c6aed",
       "value": false
      }
     },
     "3f252aa9dcfd4e56bb9f1d3db941c164": {
      "model_module": "@jupyter-widgets/base",
      "model_module_version": "1.2.0",
      "model_name": "LayoutModel",
      "state": {
       "border": "0px",
       "height": "27px",
       "width": "200px"
      }
     },
     "44833e517fe849f0aeb5727408e27862": {
      "model_module": "@jupyter-widgets/base",
      "model_module_version": "1.2.0",
      "model_name": "LayoutModel",
      "state": {}
     },
     "44ba5fdb50d64128acfa80ec7e6c6aed": {
      "model_module": "@jupyter-widgets/controls",
      "model_module_version": "1.5.0",
      "model_name": "DescriptionStyleModel",
      "state": {
       "description_width": ""
      }
     },
     "4bf0fc42acdc4170b7a9a1b971fae49c": {
      "model_module": "@jupyter-widgets/controls",
      "model_module_version": "1.5.0",
      "model_name": "VBoxModel",
      "state": {
       "children": [
        "IPY_MODEL_6fc824e478704d42ba10cbeb32fed8e2",
        "IPY_MODEL_caf348ada8c44c23b800f80793b68d62"
       ],
       "layout": "IPY_MODEL_289105f25ca341c78d0ae3cb33e5f9ec"
      }
     },
     "4c962739665f49fb95091a1fbcd958f1": {
      "model_module": "@jupyter-widgets/controls",
      "model_module_version": "1.5.0",
      "model_name": "VBoxModel",
      "state": {
       "children": [
        "IPY_MODEL_297169957cf349d189ebd45299b1b545",
        "IPY_MODEL_9a458375ee1848f1926c0d175df1c78e"
       ],
       "layout": "IPY_MODEL_bbdaa81aa8e94e5793f48033af94fd40"
      }
     },
     "4efea309447f4469b7802da5800a7bd7": {
      "model_module": "@jupyter-widgets/controls",
      "model_module_version": "1.5.0",
      "model_name": "HBoxModel",
      "state": {
       "children": [
        "IPY_MODEL_ded69810ab204352a6ae49f8765b4517",
        "IPY_MODEL_b63e9dce47274cde900903743a90cebc",
        "IPY_MODEL_009841ee6ae246d18a03f068d2c4221f",
        "IPY_MODEL_7f4537a1c276457a9fb81b2b7011a916"
       ],
       "layout": "IPY_MODEL_ee680fcb51d341f3b7b5e3c2e3457682"
      }
     },
     "50eae50edca64460a8a29f02e2c44ba3": {
      "model_module": "@jupyter-widgets/controls",
      "model_module_version": "1.5.0",
      "model_name": "CheckboxModel",
      "state": {
       "description": "index",
       "disabled": false,
       "indent": false,
       "layout": "IPY_MODEL_8a43419ba3cc45e28a7a563eec8ad1f7",
       "style": "IPY_MODEL_7effff5e8de04b14a110e5e6078e1a94",
       "value": false
      }
     },
     "54a7a30a7a0e405d9c025ca8aa4ea460": {
      "model_module": "@jupyter-widgets/base",
      "model_module_version": "1.2.0",
      "model_name": "LayoutModel",
      "state": {
       "width": "100px"
      }
     },
     "580ab9786e7d44d3a90ef0d4abd0e8d4": {
      "model_module": "@jupyter-widgets/controls",
      "model_module_version": "1.5.0",
      "model_name": "CheckboxModel",
      "state": {
       "description": "chage",
       "disabled": false,
       "indent": false,
       "layout": "IPY_MODEL_0d9eac2cf922427d8275026714417b74",
       "style": "IPY_MODEL_30729040c4c049968cdddf9621d81fd4",
       "value": false
      }
     },
     "5ec3a6d992f7466ebe571b583a0d4a59": {
      "model_module": "@jupyter-widgets/controls",
      "model_module_version": "1.5.0",
      "model_name": "LinkModel",
      "state": {
       "source": [
        "IPY_MODEL_c3b7c557f804486baf224fb881ab4565",
        "max"
       ],
       "target": [
        "IPY_MODEL_61099c17f6ae475f9bf8cd0f1b3432fa",
        "max_frame"
       ]
      }
     },
     "5f5a1183109749ee9c17c8be90ed6e34": {
      "model_module": "@jupyter-widgets/controls",
      "model_module_version": "1.5.0",
      "model_name": "DescriptionStyleModel",
      "state": {
       "description_width": "30px"
      }
     },
     "600730d7decd427e94742db6e66fa187": {
      "model_module": "@jupyter-widgets/controls",
      "model_module_version": "1.5.0",
      "model_name": "ButtonModel",
      "state": {
       "description": "ADD IT",
       "layout": "IPY_MODEL_f7ff9ac66a5147059f8979eb54e7a86a",
       "style": "IPY_MODEL_681de43704394e51b1a7e4923f60989d"
      }
     },
     "61099c17f6ae475f9bf8cd0f1b3432fa": {
      "model_module": "nglview-js-widgets",
      "model_module_version": "3.0.1",
      "model_name": "NGLModel",
      "state": {
       "_camera_orientation": [
        15.43122181371969,
        -1.6163078357410556,
        1.3945406616730256,
        0,
        1.691311308164448,
        15.465951290252193,
        -0.7896949332353765,
        0,
        -1.302559302224833,
        0.9336492964837607,
        15.495529664923323,
        0,
        0.004999995231628418,
        -0.20099997520446777,
        -0.07999998331069946,
        1
       ],
       "_camera_str": "orthographic",
       "_gui_theme": null,
       "_ibtn_fullscreen": "IPY_MODEL_98b1143f205c480e94b52b978d8008cd",
       "_igui": null,
       "_iplayer": "IPY_MODEL_f196d68031184d4dbd9e496cdde9d727",
       "_ngl_color_dict": {},
       "_ngl_coordinate_resource": {},
       "_ngl_full_stage_parameters": {
        "ambientColor": 14540253,
        "ambientIntensity": 0.2,
        "backgroundColor": "white",
        "cameraEyeSep": 0.3,
        "cameraFov": 40,
        "cameraType": "perspective",
        "clipDist": 10,
        "clipFar": 100,
        "clipNear": 0,
        "fogFar": 100,
        "fogNear": 50,
        "hoverTimeout": 0,
        "impostor": true,
        "lightColor": 14540253,
        "lightIntensity": 1,
        "mousePreset": "default",
        "panSpeed": 1,
        "quality": "medium",
        "rotateSpeed": 2,
        "sampleLevel": 0,
        "tooltip": true,
        "workerDefault": true,
        "zoomSpeed": 1.2
       },
       "_ngl_msg_archive": [
        {
         "args": [
          {
           "binary": false,
           "data": "MODEL     1\nATOM      1    C MOL     1       0.759  -0.061   0.048  1.00  0.00           C  \nATOM      2    C MOL     1      -0.732   0.045  -0.077  1.00  0.00           C  \nATOM      3    H MOL     1       1.246  -0.620  -0.759  1.00  0.00           H  \nATOM      4    H MOL     1       1.216   0.955   0.154  1.00  0.00           H  \nATOM      5    H MOL     1       0.964  -0.631   0.992  1.00  0.00           H  \nATOM      6    H MOL     1      -1.040   1.063  -0.429  1.00  0.00           H  \nATOM      7    H MOL     1      -1.256  -0.090   0.903  1.00  0.00           H  \nATOM      8    H MOL     1      -1.159  -0.661  -0.832  1.00  0.00           H  \nENDMDL\n",
           "type": "blob"
          }
         ],
         "kwargs": {
          "defaultRepresentation": true,
          "ext": "pdb"
         },
         "methodName": "loadFile",
         "reconstruc_color_scheme": false,
         "target": "Stage",
         "type": "call_method"
        },
        {
         "args": [
          "this._Q = [[1.0, 0.0, 0.0], [0.0, 1.0, 0.0], [0.0, 0.0, 1.0]]\n    var tooltip = document.createElement('div');\n    Object.assign(tooltip.style, {\n      display: 'none',\n      position: 'fixed',\n      zIndex: 10,\n      pointerEvents: 'none',\n      backgroundColor: 'rgba( 0, 0, 0, 0.6 )',\n      color: 'lightgrey',\n      padding: '8px',\n      fontFamily: 'sans-serif'\n    });\n    document.body.appendChild(tooltip);\n\n    var that = this;\n    this.stage.mouseControls.remove('hoverPick');\n    this.stage.signals.hovered.add(function (pickingProxy) {\n      if (pickingProxy && (pickingProxy.atom || pickingProxy.bond)) {\n        var atom = pickingProxy.atom || pickingProxy.closestBondAtom\n        var mp = pickingProxy.mouse.position\n        //tooltip.innerText = atom.element + ' i=' + atom.index + ' (' + atom.x.toFixed(2) +  ', ' + atom.y.toFixed(2) +  ', ' + atom.z.toFixed(2) + ')'\n        //var pos = that._atoms_pos[atom.index]\n        var Q = that._Q\n        var pos_x = Q[0][0] * atom.x + Q[0][1] * atom.y + Q[0][2] * atom.z \n        var pos_y = Q[1][0] * atom.x + Q[1][1] * atom.y + Q[1][2] * atom.z\n        var pos_z = Q[2][0] * atom.x + Q[2][1] * atom.y + Q[2][2] * atom.z\n        tooltip.innerText = 'i=' + atom.index + ' ' + atom.element + ' (' + pos_x.toFixed(2) +  ', ' + pos_y.toFixed(2) +  ', ' + pos_z.toFixed(2) + ')'\n        tooltip.style.bottom = window.innerHeight - mp.y + 3 + 'px'\n        tooltip.style.left = mp.x + 3 + 'px'\n        tooltip.style.display = 'block'\n      } else {\n        tooltip.style.display = 'none'\n      }\n    });\n    this.stage.tooltip = tooltip;\n    "
         ],
         "kwargs": {},
         "methodName": "executeCode",
         "reconstruc_color_scheme": false,
         "target": "Widget",
         "type": "call_method"
        },
        {
         "args": [
          "label",
          0
         ],
         "kwargs": {},
         "methodName": "removeRepresentationsByName",
         "reconstruc_color_scheme": false,
         "target": "Widget",
         "type": "call_method"
        },
        {
         "args": [
          "label",
          0
         ],
         "kwargs": {},
         "methodName": "removeRepresentationsByName",
         "reconstruc_color_scheme": false,
         "target": "Widget",
         "type": "call_method"
        },
        {
         "args": [
          "label",
          0
         ],
         "kwargs": {},
         "methodName": "removeRepresentationsByName",
         "reconstruc_color_scheme": false,
         "target": "Widget",
         "type": "call_method"
        },
        {
         "args": [
          {
           "data": "MODEL     1\nATOM      1    C MOL     1      -1.261   0.176  -0.027  1.00  0.00           C  \nATOM      2    C MOL     1       0.031  -0.529   0.222  1.00  0.00           C  \nATOM      3    C MOL     1       1.243   0.261  -0.157  1.00  0.00           C  \nATOM      4    H MOL     1      -1.139   1.229  -0.352  1.00  0.00           H  \nATOM      5    H MOL     1      -1.894  -0.353  -0.792  1.00  0.00           H  \nATOM      6    H MOL     1      -1.908   0.207   0.893  1.00  0.00           H  \nATOM      7    H MOL     1       0.034  -1.469  -0.359  1.00  0.00           H  \nATOM      8    H MOL     1       0.090  -0.808   1.304  1.00  0.00           H  \nATOM      9    H MOL     1       1.130   1.351  -0.019  1.00  0.00           H  \nATOM     10    H MOL     1       2.109  -0.061   0.488  1.00  0.00           H  \nATOM     11    H MOL     1       1.565  -0.004  -1.202  1.00  0.00           H  \nENDMDL\n",
           "ext": "pdb"
          }
         ],
         "kwargs": {},
         "methodName": "replaceStructure",
         "reconstruc_color_scheme": false,
         "target": "Widget",
         "type": "call_method"
        },
        {
         "args": [
          "this._Q = [[1.0, 0.0, 0.0], [0.0, 1.0, 0.0], [0.0, 0.0, 1.0]]\n    var tooltip = document.createElement('div');\n    Object.assign(tooltip.style, {\n      display: 'none',\n      position: 'fixed',\n      zIndex: 10,\n      pointerEvents: 'none',\n      backgroundColor: 'rgba( 0, 0, 0, 0.6 )',\n      color: 'lightgrey',\n      padding: '8px',\n      fontFamily: 'sans-serif'\n    });\n    document.body.appendChild(tooltip);\n\n    var that = this;\n    this.stage.mouseControls.remove('hoverPick');\n    this.stage.signals.hovered.add(function (pickingProxy) {\n      if (pickingProxy && (pickingProxy.atom || pickingProxy.bond)) {\n        var atom = pickingProxy.atom || pickingProxy.closestBondAtom\n        var mp = pickingProxy.mouse.position\n        //tooltip.innerText = atom.element + ' i=' + atom.index + ' (' + atom.x.toFixed(2) +  ', ' + atom.y.toFixed(2) +  ', ' + atom.z.toFixed(2) + ')'\n        //var pos = that._atoms_pos[atom.index]\n        var Q = that._Q\n        var pos_x = Q[0][0] * atom.x + Q[0][1] * atom.y + Q[0][2] * atom.z \n        var pos_y = Q[1][0] * atom.x + Q[1][1] * atom.y + Q[1][2] * atom.z\n        var pos_z = Q[2][0] * atom.x + Q[2][1] * atom.y + Q[2][2] * atom.z\n        tooltip.innerText = 'i=' + atom.index + ' ' + atom.element + ' (' + pos_x.toFixed(2) +  ', ' + pos_y.toFixed(2) +  ', ' + pos_z.toFixed(2) + ')'\n        tooltip.style.bottom = window.innerHeight - mp.y + 3 + 'px'\n        tooltip.style.left = mp.x + 3 + 'px'\n        tooltip.style.display = 'block'\n      } else {\n        tooltip.style.display = 'none'\n      }\n    });\n    this.stage.tooltip = tooltip;\n    "
         ],
         "kwargs": {},
         "methodName": "executeCode",
         "reconstruc_color_scheme": false,
         "target": "Widget",
         "type": "call_method"
        },
        {
         "args": [
          "label",
          0
         ],
         "kwargs": {},
         "methodName": "removeRepresentationsByName",
         "reconstruc_color_scheme": false,
         "target": "Widget",
         "type": "call_method"
        },
        {
         "args": [
          "label",
          0
         ],
         "kwargs": {},
         "methodName": "removeRepresentationsByName",
         "reconstruc_color_scheme": false,
         "target": "Widget",
         "type": "call_method"
        },
        {
         "args": [
          "label",
          0
         ],
         "kwargs": {},
         "methodName": "removeRepresentationsByName",
         "reconstruc_color_scheme": false,
         "target": "Widget",
         "type": "call_method"
        },
        {
         "args": [
          {
           "data": "MODEL     1\nATOM      1    C MOL     1      -0.299  -1.351   0.014  1.00  0.00           C  \nATOM      2    C MOL     1      -1.306  -0.403   0.043  1.00  0.00           C  \nATOM      3    C MOL     1      -1.031   0.950   0.029  1.00  0.00           C  \nATOM      4    C MOL     1       0.304   1.343  -0.014  1.00  0.00           C  \nATOM      5    C MOL     1       1.298   0.393  -0.043  1.00  0.00           C  \nATOM      6    C MOL     1       1.021  -0.963  -0.029  1.00  0.00           C  \nATOM      7    H MOL     1      -0.503  -2.401   0.024  1.00  0.00           H  \nATOM      8    H MOL     1      -2.338  -0.724   0.077  1.00  0.00           H  \nATOM      9    H MOL     1      -1.830   1.679   0.052  1.00  0.00           H  \nATOM     10    H MOL     1       0.506   2.412  -0.024  1.00  0.00           H  \nATOM     11    H MOL     1       2.329   0.722  -0.076  1.00  0.00           H  \nATOM     12    H MOL     1       1.849  -1.656  -0.053  1.00  0.00           H  \nENDMDL\n",
           "ext": "pdb"
          }
         ],
         "kwargs": {},
         "methodName": "replaceStructure",
         "reconstruc_color_scheme": false,
         "target": "Widget",
         "type": "call_method"
        },
        {
         "args": [
          "this._Q = [[1.0, 0.0, 0.0], [0.0, 1.0, 0.0], [0.0, 0.0, 1.0]]\n    var tooltip = document.createElement('div');\n    Object.assign(tooltip.style, {\n      display: 'none',\n      position: 'fixed',\n      zIndex: 10,\n      pointerEvents: 'none',\n      backgroundColor: 'rgba( 0, 0, 0, 0.6 )',\n      color: 'lightgrey',\n      padding: '8px',\n      fontFamily: 'sans-serif'\n    });\n    document.body.appendChild(tooltip);\n\n    var that = this;\n    this.stage.mouseControls.remove('hoverPick');\n    this.stage.signals.hovered.add(function (pickingProxy) {\n      if (pickingProxy && (pickingProxy.atom || pickingProxy.bond)) {\n        var atom = pickingProxy.atom || pickingProxy.closestBondAtom\n        var mp = pickingProxy.mouse.position\n        //tooltip.innerText = atom.element + ' i=' + atom.index + ' (' + atom.x.toFixed(2) +  ', ' + atom.y.toFixed(2) +  ', ' + atom.z.toFixed(2) + ')'\n        //var pos = that._atoms_pos[atom.index]\n        var Q = that._Q\n        var pos_x = Q[0][0] * atom.x + Q[0][1] * atom.y + Q[0][2] * atom.z \n        var pos_y = Q[1][0] * atom.x + Q[1][1] * atom.y + Q[1][2] * atom.z\n        var pos_z = Q[2][0] * atom.x + Q[2][1] * atom.y + Q[2][2] * atom.z\n        tooltip.innerText = 'i=' + atom.index + ' ' + atom.element + ' (' + pos_x.toFixed(2) +  ', ' + pos_y.toFixed(2) +  ', ' + pos_z.toFixed(2) + ')'\n        tooltip.style.bottom = window.innerHeight - mp.y + 3 + 'px'\n        tooltip.style.left = mp.x + 3 + 'px'\n        tooltip.style.display = 'block'\n      } else {\n        tooltip.style.display = 'none'\n      }\n    });\n    this.stage.tooltip = tooltip;\n    "
         ],
         "kwargs": {},
         "methodName": "executeCode",
         "reconstruc_color_scheme": false,
         "target": "Widget",
         "type": "call_method"
        },
        {
         "args": [
          "label",
          0
         ],
         "kwargs": {},
         "methodName": "removeRepresentationsByName",
         "reconstruc_color_scheme": false,
         "target": "Widget",
         "type": "call_method"
        },
        {
         "args": [
          "label",
          0
         ],
         "kwargs": {},
         "methodName": "removeRepresentationsByName",
         "reconstruc_color_scheme": false,
         "target": "Widget",
         "type": "call_method"
        },
        {
         "args": [
          "label",
          0
         ],
         "kwargs": {},
         "methodName": "removeRepresentationsByName",
         "reconstruc_color_scheme": false,
         "target": "Widget",
         "type": "call_method"
        }
       ],
       "_ngl_original_stage_parameters": {
        "ambientColor": 14540253,
        "ambientIntensity": 0.2,
        "backgroundColor": "white",
        "cameraEyeSep": 0.3,
        "cameraFov": 40,
        "cameraType": "perspective",
        "clipDist": 10,
        "clipFar": 100,
        "clipNear": 0,
        "fogFar": 100,
        "fogNear": 50,
        "hoverTimeout": 0,
        "impostor": true,
        "lightColor": 14540253,
        "lightIntensity": 1,
        "mousePreset": "default",
        "panSpeed": 1,
        "quality": "medium",
        "rotateSpeed": 2,
        "sampleLevel": 0,
        "tooltip": true,
        "workerDefault": true,
        "zoomSpeed": 1.2
       },
       "_ngl_repr_dict": {
        "0": {
         "0": {
          "params": {
           "aspectRatio": 1.5,
           "assembly": "default",
           "bondScale": 0.3,
           "bondSpacing": 0.75,
           "clipCenter": {
            "x": 0,
            "y": 0,
            "z": 0
           },
           "clipNear": 0,
           "clipRadius": 0,
           "colorMode": "hcl",
           "colorReverse": false,
           "colorScale": "",
           "colorScheme": "element",
           "colorValue": 9474192,
           "cylinderOnly": false,
           "defaultAssembly": "",
           "depthWrite": true,
           "diffuse": 16777215,
           "diffuseInterior": false,
           "disableImpostor": false,
           "disablePicking": false,
           "flatShaded": false,
           "interiorColor": 2236962,
           "interiorDarkening": 0,
           "lazy": false,
           "lineOnly": false,
           "linewidth": 2,
           "matrix": {
            "elements": [
             1,
             0,
             0,
             0,
             0,
             1,
             0,
             0,
             0,
             0,
             1,
             0,
             0,
             0,
             0,
             1
            ]
           },
           "metalness": 0,
           "multipleBond": "off",
           "opacity": 1,
           "openEnded": true,
           "quality": "high",
           "radialSegments": 20,
           "radiusData": {},
           "radiusScale": 2,
           "radiusSize": 0.15,
           "radiusType": "size",
           "roughness": 0.4,
           "sele": "",
           "side": "double",
           "sphereDetail": 2,
           "useInteriorColor": true,
           "visible": true,
           "wireframe": false
          },
          "type": "ball+stick"
         }
        }
       },
       "_ngl_serialize": false,
       "_ngl_version": "2.0.0-dev.36",
       "_ngl_view_id": [
        "A1018C82-D788-4909-99D6-A21B68D6039E"
       ],
       "_player_dict": {},
       "_scene_position": {},
       "_scene_rotation": {},
       "_synced_model_ids": [],
       "_synced_repr_model_ids": [],
       "_view_height": "340px",
       "_view_width": "400px",
       "background": "white",
       "frame": 0,
       "gui_style": null,
       "layout": "IPY_MODEL_d3760a9f8d8b4d4a8e0f6251c663c3ef",
       "max_frame": 0,
       "n_components": 1,
       "picked": {}
      }
     },
     "63917ee1d59845cd8fe4c899c7759b70": {
      "model_module": "@jupyter-widgets/controls",
      "model_module_version": "1.5.0",
      "model_name": "LinkModel",
      "state": {
       "source": [
        "IPY_MODEL_2be9502d4a2e478b932eca590f843ade",
        "max"
       ],
       "target": [
        "IPY_MODEL_61099c17f6ae475f9bf8cd0f1b3432fa",
        "max_frame"
       ]
      }
     },
     "65a295f728bc48d780c3099169cf36b7": {
      "model_module": "@jupyter-widgets/base",
      "model_module_version": "1.2.0",
      "model_name": "LayoutModel",
      "state": {
       "width": "80px"
      }
     },
     "681de43704394e51b1a7e4923f60989d": {
      "model_module": "@jupyter-widgets/controls",
      "model_module_version": "1.5.0",
      "model_name": "ButtonStyleModel",
      "state": {}
     },
     "6969ce1f8cf64cffaab5e2bf2cb94c1a": {
      "model_module": "@jupyter-widgets/controls",
      "model_module_version": "1.5.0",
      "model_name": "SliderStyleModel",
      "state": {
       "description_width": ""
      }
     },
     "6b0043d962dc49539a5f70ef28764e45": {
      "model_module": "@jupyter-widgets/controls",
      "model_module_version": "1.5.0",
      "model_name": "ButtonModel",
      "state": {
       "description": "Confomer serach",
       "layout": "IPY_MODEL_c55c2be9604043a4a6730a76d978abdc",
       "style": "IPY_MODEL_e6971d5f464140648a56fb716e3302c6"
      }
     },
     "6fc824e478704d42ba10cbeb32fed8e2": {
      "model_module": "@jupyter-widgets/controls",
      "model_module_version": "1.5.0",
      "model_name": "HBoxModel",
      "state": {
       "children": [
        "IPY_MODEL_aba7e41179764c5c9bddfb45b717700d",
        "IPY_MODEL_911b304794244d5bb382de1f68fd81e1"
       ],
       "layout": "IPY_MODEL_c4c2426617d84612b51a42a10eadf070"
      }
     },
     "71315773fcf943e981c0e57272adecc0": {
      "model_module": "@jupyter-widgets/controls",
      "model_module_version": "1.5.0",
      "model_name": "ButtonStyleModel",
      "state": {}
     },
     "74bfcb58d93043f78222ab0aaaefb17e": {
      "model_module": "@jupyter-widgets/base",
      "model_module_version": "1.2.0",
      "model_name": "LayoutModel",
      "state": {
       "width": "34px"
      }
     },
     "7d4fcf26e88a43c0adb1b91f1ded70a0": {
      "model_module": "@jupyter-widgets/base",
      "model_module_version": "1.2.0",
      "model_name": "LayoutModel",
      "state": {}
     },
     "7effff5e8de04b14a110e5e6078e1a94": {
      "model_module": "@jupyter-widgets/controls",
      "model_module_version": "1.5.0",
      "model_name": "DescriptionStyleModel",
      "state": {
       "description_width": ""
      }
     },
     "7f4537a1c276457a9fb81b2b7011a916": {
      "model_module": "@jupyter-widgets/controls",
      "model_module_version": "1.5.0",
      "model_name": "ButtonModel",
      "state": {
       "description": "plot",
       "layout": "IPY_MODEL_54a7a30a7a0e405d9c025ca8aa4ea460",
       "style": "IPY_MODEL_71315773fcf943e981c0e57272adecc0"
      }
     },
     "80532fe178064b2da34b16563cace696": {
      "model_module": "@jupyter-widgets/controls",
      "model_module_version": "1.5.0",
      "model_name": "DescriptionStyleModel",
      "state": {
       "description_width": "45px"
      }
     },
     "80df47f6ed2c4285bb082a55d1b1eacf": {
      "model_module": "@jupyter-widgets/base",
      "model_module_version": "1.2.0",
      "model_name": "LayoutModel",
      "state": {
       "width": "100px"
      }
     },
     "8860499c36d6488ea4d56f8436d437ef": {
      "model_module": "@jupyter-widgets/controls",
      "model_module_version": "1.5.0",
      "model_name": "DescriptionStyleModel",
      "state": {
       "description_width": "30px"
      }
     },
     "8a43419ba3cc45e28a7a563eec8ad1f7": {
      "model_module": "@jupyter-widgets/base",
      "model_module_version": "1.2.0",
      "model_name": "LayoutModel",
      "state": {
       "width": "80px"
      }
     },
     "8ac09693ce3d434cbbbd432d6e8a3716": {
      "model_module": "@jupyter-widgets/controls",
      "model_module_version": "1.5.0",
      "model_name": "SliderStyleModel",
      "state": {
       "description_width": "40px"
      }
     },
     "8ce3e1a2771146f3a2ad54ad34e9029c": {
      "model_module": "@jupyter-widgets/controls",
      "model_module_version": "1.5.0",
      "model_name": "ImageModel",
      "state": {
       "layout": "IPY_MODEL_df4a0f1168c148f8b76db8a924f6eecc",
       "width": "900.0"
      }
     },
     "911b304794244d5bb382de1f68fd81e1": {
      "model_module": "@jupyter-widgets/controls",
      "model_module_version": "1.5.0",
      "model_name": "VBoxModel",
      "state": {
       "children": [
        "IPY_MODEL_61099c17f6ae475f9bf8cd0f1b3432fa",
        "IPY_MODEL_dc44e31a98bb40298c9f44ee2681fe5c"
       ],
       "layout": "IPY_MODEL_21b02a8fd93b4caea056ba830d28dd9c"
      }
     },
     "9708ecbea51240c69a649f38dda189d3": {
      "model_module": "@jupyter-widgets/base",
      "model_module_version": "1.2.0",
      "model_name": "LayoutModel",
      "state": {
       "width": "80px"
      }
     },
     "97fdbb73cb374c9082ad81656f09a6f2": {
      "model_module": "@jupyter-widgets/controls",
      "model_module_version": "1.5.0",
      "model_name": "DescriptionStyleModel",
      "state": {
       "description_width": ""
      }
     },
     "98b1143f205c480e94b52b978d8008cd": {
      "model_module": "@jupyter-widgets/controls",
      "model_module_version": "1.5.0",
      "model_name": "ButtonModel",
      "state": {
       "icon": "compress",
       "layout": "IPY_MODEL_74bfcb58d93043f78222ab0aaaefb17e",
       "style": "IPY_MODEL_e7c2b57603864ef4b01b6cca124dbb6a"
      }
     },
     "9a458375ee1848f1926c0d175df1c78e": {
      "model_module": "@jupyter-widgets/controls",
      "model_module_version": "1.5.0",
      "model_name": "TextModel",
      "state": {
       "description": "SMILES",
       "layout": "IPY_MODEL_ea07f27c42074660871db973ae4922f2",
       "placeholder": "20240704162322",
       "style": "IPY_MODEL_80532fe178064b2da34b16563cace696",
       "value": "c1ccccc1"
      }
     },
     "9a90b2fc5b5742da866599841c41fab6": {
      "model_module": "@jupyter-widgets/controls",
      "model_module_version": "1.5.0",
      "model_name": "IntSliderModel",
      "state": {
       "description": "(2, 7)",
       "layout": "IPY_MODEL_fa68e5873cba4cbca27f36f805b9b5ba",
       "max": 6,
       "style": "IPY_MODEL_8ac09693ce3d434cbbbd432d6e8a3716"
      }
     },
     "a9004377ead44872895cb191fa0ac8b0": {
      "model_module": "@jupyter-widgets/controls",
      "model_module_version": "1.5.0",
      "model_name": "DescriptionStyleModel",
      "state": {
       "description_width": "30px"
      }
     },
     "a92f23f131e84124b0f800801ab52106": {
      "model_module": "@jupyter-widgets/base",
      "model_module_version": "1.2.0",
      "model_name": "LayoutModel",
      "state": {
       "height": "290px",
       "width": "440px"
      }
     },
     "aba7e41179764c5c9bddfb45b717700d": {
      "model_module": "@jupyter-widgets/controls",
      "model_module_version": "1.5.0",
      "model_name": "VBoxModel",
      "state": {
       "children": [
        "IPY_MODEL_4c962739665f49fb95091a1fbcd958f1",
        "IPY_MODEL_0ded2b76c56345998e69f9ae17556f4a"
       ],
       "layout": "IPY_MODEL_b9f636a2d6224b58955b9035431c7b2b"
      }
     },
     "ada204bf4288403ba0e2566a533c84b8": {
      "model_module": "@jupyter-widgets/base",
      "model_module_version": "1.2.0",
      "model_name": "LayoutModel",
      "state": {}
     },
     "b54d1da6bcb5400e88a0f1b69bc6f981": {
      "model_module": "@jupyter-widgets/controls",
      "model_module_version": "1.5.0",
      "model_name": "LinkModel",
      "state": {
       "source": [
        "IPY_MODEL_c3b7c557f804486baf224fb881ab4565",
        "value"
       ],
       "target": [
        "IPY_MODEL_2be9502d4a2e478b932eca590f843ade",
        "value"
       ]
      }
     },
     "b63e9dce47274cde900903743a90cebc": {
      "model_module": "@jupyter-widgets/controls",
      "model_module_version": "1.5.0",
      "model_name": "SelectModel",
      "state": {
       "_options_labels": [
        "energy",
        "maxforce",
        "conf_no",
        "histplot col1"
       ],
       "description": "col2:",
       "index": 1,
       "layout": "IPY_MODEL_3f252aa9dcfd4e56bb9f1d3db941c164",
       "rows": 1,
       "style": "IPY_MODEL_5f5a1183109749ee9c17c8be90ed6e34"
      }
     },
     "b75b05da3dfd4b1a8773ab8a6d6e2a9f": {
      "model_module": "@jupyter-widgets/controls",
      "model_module_version": "1.5.0",
      "model_name": "LinkModel",
      "state": {
       "source": [
        "IPY_MODEL_c3b7c557f804486baf224fb881ab4565",
        "value"
       ],
       "target": [
        "IPY_MODEL_61099c17f6ae475f9bf8cd0f1b3432fa",
        "frame"
       ]
      }
     },
     "b9f636a2d6224b58955b9035431c7b2b": {
      "model_module": "@jupyter-widgets/base",
      "model_module_version": "1.2.0",
      "model_name": "LayoutModel",
      "state": {}
     },
     "ba7420bf37894c65bd958606e6f14570": {
      "model_module": "@jupyter-widgets/base",
      "model_module_version": "1.2.0",
      "model_name": "LayoutModel",
      "state": {
       "width": "80px"
      }
     },
     "bbdaa81aa8e94e5793f48033af94fd40": {
      "model_module": "@jupyter-widgets/base",
      "model_module_version": "1.2.0",
      "model_name": "LayoutModel",
      "state": {}
     },
     "c11abf77737244629933f1650b42293a": {
      "model_module": "@jupyter-widgets/base",
      "model_module_version": "1.2.0",
      "model_name": "LayoutModel",
      "state": {
       "border": "1px solid black",
       "height": "330px",
       "width": "600px"
      }
     },
     "c135d600c8284a67b7eb6c2e60848d90": {
      "model_module": "@jupyter-widgets/controls",
      "model_module_version": "1.5.0",
      "model_name": "CheckboxModel",
      "state": {
       "description": "axes",
       "disabled": false,
       "indent": false,
       "layout": "IPY_MODEL_9708ecbea51240c69a649f38dda189d3",
       "style": "IPY_MODEL_ea5dff2229fc43cb8caf5ab016aec593",
       "value": false
      }
     },
     "c3b7c557f804486baf224fb881ab4565": {
      "model_module": "@jupyter-widgets/controls",
      "model_module_version": "1.5.0",
      "model_name": "PlayModel",
      "state": {
       "layout": "IPY_MODEL_f8846bb0b2eb436983c90fab47ecf625",
       "max": 0,
       "style": "IPY_MODEL_34728d9691e5467586cadb35ea0b8b29"
      }
     },
     "c4c2426617d84612b51a42a10eadf070": {
      "model_module": "@jupyter-widgets/base",
      "model_module_version": "1.2.0",
      "model_name": "LayoutModel",
      "state": {}
     },
     "c55c2be9604043a4a6730a76d978abdc": {
      "model_module": "@jupyter-widgets/base",
      "model_module_version": "1.2.0",
      "model_name": "LayoutModel",
      "state": {
       "width": "140px"
      }
     },
     "caf348ada8c44c23b800f80793b68d62": {
      "model_module": "@jupyter-widgets/controls",
      "model_module_version": "1.5.0",
      "model_name": "HBoxModel",
      "state": {
       "children": [
        "IPY_MODEL_ff0344f00f684e0fb3efd80ea438280d",
        "IPY_MODEL_334ad6fda092476398bde0dfada87d78"
       ],
       "layout": "IPY_MODEL_7d4fcf26e88a43c0adb1b91f1ded70a0"
      }
     },
     "cd4b7e88c5374501b9d70e89539985bc": {
      "model_module": "@jupyter-widgets/base",
      "model_module_version": "1.2.0",
      "model_name": "LayoutModel",
      "state": {
       "height": "38px",
       "width": "250px"
      }
     },
     "d100184c6ecf4c35a17de5ded1fe8ceb": {
      "model_module": "@jupyter-widgets/base",
      "model_module_version": "1.2.0",
      "model_name": "LayoutModel",
      "state": {}
     },
     "d3760a9f8d8b4d4a8e0f6251c663c3ef": {
      "model_module": "@jupyter-widgets/base",
      "model_module_version": "1.2.0",
      "model_name": "LayoutModel",
      "state": {}
     },
     "d469d02dbb0d4c79bdee91631e49cf7a": {
      "model_module": "@jupyter-widgets/controls",
      "model_module_version": "1.5.0",
      "model_name": "CheckboxModel",
      "state": {
       "description": "force",
       "disabled": false,
       "indent": false,
       "layout": "IPY_MODEL_65a295f728bc48d780c3099169cf36b7",
       "style": "IPY_MODEL_97fdbb73cb374c9082ad81656f09a6f2",
       "value": false
      }
     },
     "dc44e31a98bb40298c9f44ee2681fe5c": {
      "model_module": "@jupyter-widgets/controls",
      "model_module_version": "1.5.0",
      "model_name": "HBoxModel",
      "state": {
       "children": [
        "IPY_MODEL_50eae50edca64460a8a29f02e2c44ba3",
        "IPY_MODEL_c135d600c8284a67b7eb6c2e60848d90",
        "IPY_MODEL_d469d02dbb0d4c79bdee91631e49cf7a",
        "IPY_MODEL_580ab9786e7d44d3a90ef0d4abd0e8d4"
       ],
       "layout": "IPY_MODEL_cd4b7e88c5374501b9d70e89539985bc"
      }
     },
     "dd7414c1a19641f1ab15aa13d4aeb875": {
      "model_module": "@jupyter-widgets/base",
      "model_module_version": "1.2.0",
      "model_name": "LayoutModel",
      "state": {
       "border": "1px solid gray",
       "height": "450px",
       "width": "550px"
      }
     },
     "ded69810ab204352a6ae49f8765b4517": {
      "model_module": "@jupyter-widgets/controls",
      "model_module_version": "1.5.0",
      "model_name": "SelectModel",
      "state": {
       "_options_labels": [
        "SMILES",
        "formula",
        "atoms",
        "energy",
        "maxforce",
        "opt",
        "conf_no"
       ],
       "description": "col1:",
       "index": 3,
       "layout": "IPY_MODEL_3f252aa9dcfd4e56bb9f1d3db941c164",
       "rows": 1,
       "style": "IPY_MODEL_8860499c36d6488ea4d56f8436d437ef"
      }
     },
     "df4a0f1168c148f8b76db8a924f6eecc": {
      "model_module": "@jupyter-widgets/base",
      "model_module_version": "1.2.0",
      "model_name": "LayoutModel",
      "state": {}
     },
     "e6971d5f464140648a56fb716e3302c6": {
      "model_module": "@jupyter-widgets/controls",
      "model_module_version": "1.5.0",
      "model_name": "ButtonStyleModel",
      "state": {}
     },
     "e7c2b57603864ef4b01b6cca124dbb6a": {
      "model_module": "@jupyter-widgets/controls",
      "model_module_version": "1.5.0",
      "model_name": "ButtonStyleModel",
      "state": {}
     },
     "ea07f27c42074660871db973ae4922f2": {
      "model_module": "@jupyter-widgets/base",
      "model_module_version": "1.2.0",
      "model_name": "LayoutModel",
      "state": {
       "height": "45px",
       "width": "430px"
      }
     },
     "ea5dff2229fc43cb8caf5ab016aec593": {
      "model_module": "@jupyter-widgets/controls",
      "model_module_version": "1.5.0",
      "model_name": "DescriptionStyleModel",
      "state": {
       "description_width": ""
      }
     },
     "ec4fd6b67cea42bb82c91a538d71528c": {
      "model_module": "@jupyter-widgets/controls",
      "model_module_version": "1.5.0",
      "model_name": "SliderStyleModel",
      "state": {
       "description_width": ""
      }
     },
     "eca8258c9df04704a03db2b31d6d9cbd": {
      "model_module": "@jupyter-widgets/output",
      "model_module_version": "1.0.0",
      "model_name": "OutputModel",
      "state": {
       "layout": "IPY_MODEL_dd7414c1a19641f1ab15aa13d4aeb875",
       "outputs": [
        {
         "data": {
          "image/png": "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\n",
          "text/plain": "<Figure size 550x450 with 1 Axes>"
         },
         "metadata": {},
         "output_type": "display_data"
        }
       ]
      }
     },
     "edc1fd405bfd43b79c58080d189d2c7a": {
      "model_module": "@jupyter-widgets/controls",
      "model_module_version": "1.5.0",
      "model_name": "VBoxModel",
      "state": {
       "children": [
        "IPY_MODEL_4efea309447f4469b7802da5800a7bd7",
        "IPY_MODEL_eca8258c9df04704a03db2b31d6d9cbd"
       ],
       "layout": "IPY_MODEL_2ca92eaef0e64c0890cfb3b1712b931b"
      }
     },
     "ee680fcb51d341f3b7b5e3c2e3457682": {
      "model_module": "@jupyter-widgets/base",
      "model_module_version": "1.2.0",
      "model_name": "LayoutModel",
      "state": {}
     },
     "f196d68031184d4dbd9e496cdde9d727": {
      "model_module": "@jupyter-widgets/controls",
      "model_module_version": "1.5.0",
      "model_name": "HBoxModel",
      "state": {
       "children": [
        "IPY_MODEL_c3b7c557f804486baf224fb881ab4565",
        "IPY_MODEL_2be9502d4a2e478b932eca590f843ade"
       ],
       "layout": "IPY_MODEL_2b41f14ac9764b68b89481c9688cb646"
      }
     },
     "f39dd96c6bbe4b45b9ad7d7681824397": {
      "model_module": "@jupyter-widgets/base",
      "model_module_version": "1.2.0",
      "model_name": "LayoutModel",
      "state": {}
     },
     "f7ff9ac66a5147059f8979eb54e7a86a": {
      "model_module": "@jupyter-widgets/base",
      "model_module_version": "1.2.0",
      "model_name": "LayoutModel",
      "state": {
       "width": "140px"
      }
     },
     "f8846bb0b2eb436983c90fab47ecf625": {
      "model_module": "@jupyter-widgets/base",
      "model_module_version": "1.2.0",
      "model_name": "LayoutModel",
      "state": {}
     },
     "fa453660ab694a289b467df7bfe85550": {
      "model_module": "@jupyter-widgets/base",
      "model_module_version": "1.2.0",
      "model_name": "LayoutModel",
      "state": {}
     },
     "fa68e5873cba4cbca27f36f805b9b5ba": {
      "model_module": "@jupyter-widgets/base",
      "model_module_version": "1.2.0",
      "model_name": "LayoutModel",
      "state": {}
     },
     "ff0344f00f684e0fb3efd80ea438280d": {
      "model_module": "@jupyter-widgets/controls",
      "model_module_version": "1.5.0",
      "model_name": "IntSliderModel",
      "state": {
       "description": "0",
       "layout": "IPY_MODEL_44833e517fe849f0aeb5727408e27862",
       "max": 0,
       "min": -1,
       "orientation": "vertical",
       "style": "IPY_MODEL_6969ce1f8cf64cffaab5e2bf2cb94c1a"
      }
     }
    },
    "version_major": 2,
    "version_minor": 0
   }
  }
 },
 "nbformat": 4,
 "nbformat_minor": 5
}
