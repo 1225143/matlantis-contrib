{
 "cells": [
  {
   "cell_type": "markdown",
   "id": "11ffbf79-7a05-438b-a6b2-8a669ca2ffe8",
   "metadata": {},
   "source": [
    "Copyright ENEOS, Corp., Preferred Computational Chemistry, Inc. and Preferred Networks, Inc. as contributors to Matlantis contrib project\n",
    "\n",
    "This document has been machine translated from Japanese to English.\n",
    "\n",
    "# moldraw\n",
    "\n",
    "This is a UI tool that uses JSME to draw molecules and returns ASE atoms.  #eneos ibuka 2022/12/8\\\n",
    "#v0.1.0 2023/10/25  Pandas version upgraded, package support, arguments from the calculator can be changed, checked to work on 3.8, 3.9"
   ]
  },
  {
   "cell_type": "markdown",
   "id": "b322243f-651c-4560-86b7-e5e81fcf7de4",
   "metadata": {},
   "source": [
    "## Setup\n",
    "\n",
    "### Installation of pfcc-extras\n",
    "\n",
    "Please install pfcc-extras from the Package Launcher within Matlantis.\n",
    "\n",
    "### JSME Installation... Can be executed in the cell below\n",
    "\n",
    "JSME is a BSD license software adopted in J-GLOBAL that can draw molecular structures without server communication. (https://jsme-editor.github.io/)\n",
    "Below we use git to download and use the source code.\n",
    "\n",
    "### Installation of autodE... Can be executed in the cell below\n",
    "\n",
    "We use the autodE package to convert from SMILES to ASE Atoms.\n",
    " - https://github.com/duartegroup/autodE"
   ]
  },
  {
   "cell_type": "code",
   "execution_count": 1,
   "id": "bec3823a-8fd5-4d46-bd6e-115bd30cf4df",
   "metadata": {
    "tags": []
   },
   "outputs": [
    {
     "name": "stdout",
     "output_type": "stream",
     "text": [
      "Cloning into 'jsme-editor.github.io'...\n",
      "remote: Enumerating objects: 1334, done.\u001b[K\n",
      "remote: Counting objects: 100% (753/753), done.\u001b[K\n",
      "remote: Compressing objects: 100% (500/500), done.\u001b[K\n",
      "remote: Total 1334 (delta 332), reused 617 (delta 245), pack-reused 581\u001b[K\n",
      "Receiving objects: 100% (1334/1334), 32.86 MiB | 23.51 MiB/s, done.\n",
      "Resolving deltas: 100% (565/565), done.\n",
      "HEAD is now at 198ef9b Release 2022-02-26\n"
     ]
    }
   ],
   "source": [
    "# JSME is a BSD licensed software that allows for molecular structure drawing without server communication and is also adopted by J-GLOBAL. (https://jsme-editor.github.io/)\n",
    "# Below, we are using git to download the source code.\n",
    "# It is recommended to execute the following even if you have already done so since it also copies to package files (it should take less than 2 minutes).\n",
    "!git clone https://github.com/jsme-editor/jsme-editor.github.io.git\n",
    "# Change from \"master\" branch to \"2022-02-26\" release\n",
    "!cd jsme-editor.github.io && git reset --hard 198ef9be65dd1e05846affff7a2dee17de3e267b\n",
    "!mkdir -p ../moldraw/data/jsme/\n",
    "!cp -r ./jsme-editor.github.io/dist/jsme/* ../moldraw/data/jsme/\n",
    "# Unnecessary parts will be deleted.\n",
    "!rm -rf ./jsme-editor.github.io"
   ]
  },
  {
   "cell_type": "code",
   "execution_count": 2,
   "id": "2d1036cc-939c-46a5-ae5a-f01a0ded9c6e",
   "metadata": {
    "tags": []
   },
   "outputs": [
    {
     "name": "stdout",
     "output_type": "stream",
     "text": [
      "Looking in indexes: https://pypi.org/simple, http://pypi.artifact.svc:8080/simple\n",
      "Collecting git+https://github.com/duartegroup/autodE.git\n",
      "  Cloning https://github.com/duartegroup/autodE.git to /tmp/pip-req-build-q_r9bcjd\n",
      "  Running command git clone --filter=blob:none --quiet https://github.com/duartegroup/autodE.git /tmp/pip-req-build-q_r9bcjd\n",
      "  Resolved https://github.com/duartegroup/autodE.git to commit 2f3af32fc7806b7175133220506f0eb54c66ab13\n",
      "  Installing build dependencies ... \u001b[?25ldone\n",
      "\u001b[?25h  Getting requirements to build wheel ... \u001b[?25ldone\n",
      "\u001b[?25h  Preparing metadata (pyproject.toml) ... \u001b[?25ldone\n",
      "\u001b[?25h\u001b[33mWARNING: You are using pip version 22.0.4; however, version 24.0 is available.\n",
      "You should consider upgrading via the '/home/jovyan/.py39/bin/python -m pip install --upgrade pip' command.\u001b[0m\u001b[33m\n",
      "\u001b[0m"
     ]
    }
   ],
   "source": [
    "# autodE is used when creating molecular structures from SMILES.\n",
    "!pip install git+https://github.com/duartegroup/autodE.git"
   ]
  },
  {
   "cell_type": "code",
   "execution_count": 3,
   "id": "4b4cb95c-7c49-4cde-b754-2f910e8a4b96",
   "metadata": {
    "tags": []
   },
   "outputs": [
    {
     "name": "stdout",
     "output_type": "stream",
     "text": [
      "Looking in indexes: https://pypi.org/simple, http://pypi.artifact.svc:8080/simple\n",
      "Processing /home/jovyan/tmp/matlantis-contrib/matlantis_contrib_examples/moldraw\n",
      "  Preparing metadata (setup.py) ... \u001b[?25ldone\n",
      "\u001b[?25hRequirement already satisfied: pfcc_extras in /home/jovyan/pfcc-extras-v0.7.1 (from moldraw==0.1.0) (0.7.1)\n",
      "Requirement already satisfied: pfp_api_client in /home/jovyan/.py39/lib/python3.9/site-packages (from moldraw==0.1.0) (1.15.0)\n",
      "Requirement already satisfied: scikit-learn in /home/jovyan/.py39/lib/python3.9/site-packages (from moldraw==0.1.0) (1.5.0)\n",
      "Requirement already satisfied: autode in /home/jovyan/.py39/lib/python3.9/site-packages (from moldraw==0.1.0) (1.4.3)\n",
      "Requirement already satisfied: ase<4.0.0,>=3.18 in /home/jovyan/.py39/lib/python3.9/site-packages (from pfcc_extras->moldraw==0.1.0) (3.22.1)\n",
      "Requirement already satisfied: matplotlib>=3.5.0 in /home/jovyan/.py39/lib/python3.9/site-packages (from pfcc_extras->moldraw==0.1.0) (3.9.0)\n",
      "Requirement already satisfied: nglview in /usr/local/pyenv/versions/3.9.16/envs/python39/lib/python3.9/site-packages (from pfcc_extras->moldraw==0.1.0) (3.0.1)\n",
      "Requirement already satisfied: rdkit-pypi in /home/jovyan/.py39/lib/python3.9/site-packages (from pfcc_extras->moldraw==0.1.0) (2022.9.5)\n",
      "Requirement already satisfied: tqdm in /home/jovyan/.py39/lib/python3.9/site-packages (from pfcc_extras->moldraw==0.1.0) (4.66.4)\n",
      "Requirement already satisfied: ipywidgets in /usr/local/pyenv/versions/3.9.16/envs/python39/lib/python3.9/site-packages (from pfcc_extras->moldraw==0.1.0) (7.7.1)\n",
      "Requirement already satisfied: spglib in /home/jovyan/.py39/lib/python3.9/site-packages (from pfcc_extras->moldraw==0.1.0) (2.4.0)\n",
      "Requirement already satisfied: numpngw in /home/jovyan/.py39/lib/python3.9/site-packages (from pfcc_extras->moldraw==0.1.0) (0.1.4)\n",
      "Requirement already satisfied: joblib in /home/jovyan/.py39/lib/python3.9/site-packages (from pfcc_extras->moldraw==0.1.0) (1.4.2)\n",
      "Requirement already satisfied: pandas in /home/jovyan/.py39/lib/python3.9/site-packages (from pfcc_extras->moldraw==0.1.0) (2.2.2)\n",
      "Requirement already satisfied: plotly in /home/jovyan/.py39/lib/python3.9/site-packages (from pfcc_extras->moldraw==0.1.0) (5.22.0)\n",
      "Requirement already satisfied: scipy in /home/jovyan/.py39/lib/python3.9/site-packages (from pfcc_extras->moldraw==0.1.0) (1.13.1)\n",
      "Requirement already satisfied: networkx in /home/jovyan/.py39/lib/python3.9/site-packages (from pfcc_extras->moldraw==0.1.0) (3.2.1)\n",
      "Requirement already satisfied: optuna in /home/jovyan/.py39/lib/python3.9/site-packages (from pfcc_extras->moldraw==0.1.0) (3.6.1)\n",
      "Requirement already satisfied: pymatgen in /home/jovyan/.py39/lib/python3.9/site-packages (from pfcc_extras->moldraw==0.1.0) (2023.12.18)\n",
      "Requirement already satisfied: googleapis-common-protos<2.0.0,>=1.60.0 in /home/jovyan/.py39/lib/python3.9/site-packages (from pfp_api_client->moldraw==0.1.0) (1.63.1)\n",
      "Requirement already satisfied: numpy<2.0.0,>=1.20.3 in /home/jovyan/.py39/lib/python3.9/site-packages (from pfp_api_client->moldraw==0.1.0) (1.26.4)\n",
      "Requirement already satisfied: protobuf<4.0.0,>=3.20.0 in /home/jovyan/.py39/lib/python3.9/site-packages (from pfp_api_client->moldraw==0.1.0) (3.20.3)\n",
      "Requirement already satisfied: grpcio<2.0.0,>=1.35.0 in /home/jovyan/.py39/lib/python3.9/site-packages (from pfp_api_client->moldraw==0.1.0) (1.64.1)\n",
      "Requirement already satisfied: threadpoolctl>=3.1.0 in /home/jovyan/.py39/lib/python3.9/site-packages (from scikit-learn->moldraw==0.1.0) (3.5.0)\n",
      "Requirement already satisfied: python-dateutil>=2.7 in /home/jovyan/.py39/lib/python3.9/site-packages (from matplotlib>=3.5.0->pfcc_extras->moldraw==0.1.0) (2.9.0.post0)\n",
      "Requirement already satisfied: fonttools>=4.22.0 in /home/jovyan/.py39/lib/python3.9/site-packages (from matplotlib>=3.5.0->pfcc_extras->moldraw==0.1.0) (4.53.0)\n",
      "Requirement already satisfied: contourpy>=1.0.1 in /home/jovyan/.py39/lib/python3.9/site-packages (from matplotlib>=3.5.0->pfcc_extras->moldraw==0.1.0) (1.2.1)\n",
      "Requirement already satisfied: pyparsing>=2.3.1 in /home/jovyan/.py39/lib/python3.9/site-packages (from matplotlib>=3.5.0->pfcc_extras->moldraw==0.1.0) (3.1.2)\n",
      "Requirement already satisfied: pillow>=8 in /home/jovyan/.py39/lib/python3.9/site-packages (from matplotlib>=3.5.0->pfcc_extras->moldraw==0.1.0) (10.3.0)\n",
      "Requirement already satisfied: importlib-resources>=3.2.0 in /home/jovyan/.py39/lib/python3.9/site-packages (from matplotlib>=3.5.0->pfcc_extras->moldraw==0.1.0) (6.4.0)\n",
      "Requirement already satisfied: packaging>=20.0 in /home/jovyan/.py39/lib/python3.9/site-packages (from matplotlib>=3.5.0->pfcc_extras->moldraw==0.1.0) (24.1)\n",
      "Requirement already satisfied: kiwisolver>=1.3.1 in /home/jovyan/.py39/lib/python3.9/site-packages (from matplotlib>=3.5.0->pfcc_extras->moldraw==0.1.0) (1.4.5)\n",
      "Requirement already satisfied: cycler>=0.10 in /home/jovyan/.py39/lib/python3.9/site-packages (from matplotlib>=3.5.0->pfcc_extras->moldraw==0.1.0) (0.12.1)\n",
      "Requirement already satisfied: traitlets>=4.3.1 in /usr/local/pyenv/versions/3.9.16/envs/python39/lib/python3.9/site-packages (from ipywidgets->pfcc_extras->moldraw==0.1.0) (5.14.1)\n",
      "Requirement already satisfied: ipykernel>=4.5.1 in /usr/local/pyenv/versions/3.9.16/envs/python39/lib/python3.9/site-packages (from ipywidgets->pfcc_extras->moldraw==0.1.0) (6.29.2)\n",
      "Requirement already satisfied: widgetsnbextension~=3.6.0 in /usr/local/pyenv/versions/3.9.16/envs/python39/lib/python3.9/site-packages (from ipywidgets->pfcc_extras->moldraw==0.1.0) (3.6.1)\n",
      "Requirement already satisfied: ipython-genutils~=0.2.0 in /usr/local/pyenv/versions/3.9.16/envs/python39/lib/python3.9/site-packages (from ipywidgets->pfcc_extras->moldraw==0.1.0) (0.2.0)\n",
      "Requirement already satisfied: ipython>=4.0.0 in /usr/local/pyenv/versions/3.9.16/envs/python39/lib/python3.9/site-packages (from ipywidgets->pfcc_extras->moldraw==0.1.0) (7.34.0)\n",
      "Requirement already satisfied: jupyterlab-widgets>=1.0.0 in /usr/local/pyenv/versions/3.9.16/envs/python39/lib/python3.9/site-packages (from ipywidgets->pfcc_extras->moldraw==0.1.0) (1.1.1)\n",
      "Requirement already satisfied: alembic>=1.5.0 in /home/jovyan/.py39/lib/python3.9/site-packages (from optuna->pfcc_extras->moldraw==0.1.0) (1.13.1)\n",
      "Requirement already satisfied: PyYAML in /home/jovyan/.py39/lib/python3.9/site-packages (from optuna->pfcc_extras->moldraw==0.1.0) (6.0.1)\n",
      "Requirement already satisfied: sqlalchemy>=1.3.0 in /home/jovyan/.py39/lib/python3.9/site-packages (from optuna->pfcc_extras->moldraw==0.1.0) (2.0.30)\n",
      "Requirement already satisfied: colorlog in /home/jovyan/.py39/lib/python3.9/site-packages (from optuna->pfcc_extras->moldraw==0.1.0) (6.8.2)\n",
      "Requirement already satisfied: pytz>=2020.1 in /home/jovyan/.py39/lib/python3.9/site-packages (from pandas->pfcc_extras->moldraw==0.1.0) (2024.1)\n",
      "Requirement already satisfied: tzdata>=2022.7 in /home/jovyan/.py39/lib/python3.9/site-packages (from pandas->pfcc_extras->moldraw==0.1.0) (2024.1)\n",
      "Requirement already satisfied: tenacity>=6.2.0 in /home/jovyan/.py39/lib/python3.9/site-packages (from plotly->pfcc_extras->moldraw==0.1.0) (8.4.1)\n",
      "Requirement already satisfied: sympy in /home/jovyan/.py39/lib/python3.9/site-packages (from pymatgen->pfcc_extras->moldraw==0.1.0) (1.12.1)\n",
      "Requirement already satisfied: palettable>=3.1.1 in /home/jovyan/.py39/lib/python3.9/site-packages (from pymatgen->pfcc_extras->moldraw==0.1.0) (3.3.3)\n",
      "Requirement already satisfied: ruamel.yaml>=0.17.0 in /home/jovyan/.py39/lib/python3.9/site-packages (from pymatgen->pfcc_extras->moldraw==0.1.0) (0.18.6)\n",
      "Requirement already satisfied: monty>=3.0.2 in /home/jovyan/.py39/lib/python3.9/site-packages (from pymatgen->pfcc_extras->moldraw==0.1.0) (2024.5.24)\n",
      "Requirement already satisfied: uncertainties>=3.1.4 in /home/jovyan/.py39/lib/python3.9/site-packages (from pymatgen->pfcc_extras->moldraw==0.1.0) (3.2.1)\n",
      "Requirement already satisfied: tabulate in /home/jovyan/.py39/lib/python3.9/site-packages (from pymatgen->pfcc_extras->moldraw==0.1.0) (0.9.0)\n",
      "Requirement already satisfied: requests in /home/jovyan/.py39/lib/python3.9/site-packages (from pymatgen->pfcc_extras->moldraw==0.1.0) (2.32.3)\n",
      "Requirement already satisfied: pybtex in /home/jovyan/.py39/lib/python3.9/site-packages (from pymatgen->pfcc_extras->moldraw==0.1.0) (0.24.0)\n",
      "Requirement already satisfied: typing-extensions>=4 in /home/jovyan/.py39/lib/python3.9/site-packages (from alembic>=1.5.0->optuna->pfcc_extras->moldraw==0.1.0) (4.12.2)\n",
      "Requirement already satisfied: Mako in /home/jovyan/.py39/lib/python3.9/site-packages (from alembic>=1.5.0->optuna->pfcc_extras->moldraw==0.1.0) (1.3.5)\n",
      "Requirement already satisfied: zipp>=3.1.0 in /home/jovyan/.py39/lib/python3.9/site-packages (from importlib-resources>=3.2.0->matplotlib>=3.5.0->pfcc_extras->moldraw==0.1.0) (3.19.2)\n",
      "Requirement already satisfied: matplotlib-inline>=0.1 in /usr/local/pyenv/versions/3.9.16/envs/python39/lib/python3.9/site-packages (from ipykernel>=4.5.1->ipywidgets->pfcc_extras->moldraw==0.1.0) (0.1.6)\n",
      "Requirement already satisfied: debugpy>=1.6.5 in /usr/local/pyenv/versions/3.9.16/envs/python39/lib/python3.9/site-packages (from ipykernel>=4.5.1->ipywidgets->pfcc_extras->moldraw==0.1.0) (1.8.0)\n",
      "Requirement already satisfied: psutil in /usr/local/pyenv/versions/3.9.16/envs/python39/lib/python3.9/site-packages (from ipykernel>=4.5.1->ipywidgets->pfcc_extras->moldraw==0.1.0) (5.9.1)\n",
      "Requirement already satisfied: pyzmq>=24 in /usr/local/pyenv/versions/3.9.16/envs/python39/lib/python3.9/site-packages (from ipykernel>=4.5.1->ipywidgets->pfcc_extras->moldraw==0.1.0) (25.1.2)\n",
      "Requirement already satisfied: comm>=0.1.1 in /usr/local/pyenv/versions/3.9.16/envs/python39/lib/python3.9/site-packages (from ipykernel>=4.5.1->ipywidgets->pfcc_extras->moldraw==0.1.0) (0.2.1)\n",
      "Requirement already satisfied: jupyter-core!=5.0.*,>=4.12 in /usr/local/pyenv/versions/3.9.16/envs/python39/lib/python3.9/site-packages (from ipykernel>=4.5.1->ipywidgets->pfcc_extras->moldraw==0.1.0) (5.7.1)\n",
      "Requirement already satisfied: tornado>=6.1 in /usr/local/pyenv/versions/3.9.16/envs/python39/lib/python3.9/site-packages (from ipykernel>=4.5.1->ipywidgets->pfcc_extras->moldraw==0.1.0) (6.3.2)\n",
      "Requirement already satisfied: nest-asyncio in /usr/local/pyenv/versions/3.9.16/envs/python39/lib/python3.9/site-packages (from ipykernel>=4.5.1->ipywidgets->pfcc_extras->moldraw==0.1.0) (1.5.5)\n",
      "Requirement already satisfied: jupyter-client>=6.1.12 in /usr/local/pyenv/versions/3.9.16/envs/python39/lib/python3.9/site-packages (from ipykernel>=4.5.1->ipywidgets->pfcc_extras->moldraw==0.1.0) (7.3.4)\n",
      "Requirement already satisfied: pygments in /usr/local/pyenv/versions/3.9.16/envs/python39/lib/python3.9/site-packages (from ipython>=4.0.0->ipywidgets->pfcc_extras->moldraw==0.1.0) (2.13.0)\n",
      "Requirement already satisfied: pickleshare in /usr/local/pyenv/versions/3.9.16/envs/python39/lib/python3.9/site-packages (from ipython>=4.0.0->ipywidgets->pfcc_extras->moldraw==0.1.0) (0.7.5)\n",
      "Requirement already satisfied: setuptools>=18.5 in /home/jovyan/.py39/lib/python3.9/site-packages (from ipython>=4.0.0->ipywidgets->pfcc_extras->moldraw==0.1.0) (58.1.0)\n",
      "Requirement already satisfied: prompt-toolkit!=3.0.0,!=3.0.1,<3.1.0,>=2.0.0 in /usr/local/pyenv/versions/3.9.16/envs/python39/lib/python3.9/site-packages (from ipython>=4.0.0->ipywidgets->pfcc_extras->moldraw==0.1.0) (3.0.30)\n",
      "Requirement already satisfied: backcall in /usr/local/pyenv/versions/3.9.16/envs/python39/lib/python3.9/site-packages (from ipython>=4.0.0->ipywidgets->pfcc_extras->moldraw==0.1.0) (0.2.0)\n",
      "Requirement already satisfied: pexpect>4.3 in /usr/local/pyenv/versions/3.9.16/envs/python39/lib/python3.9/site-packages (from ipython>=4.0.0->ipywidgets->pfcc_extras->moldraw==0.1.0) (4.8.0)\n",
      "Requirement already satisfied: jedi>=0.16 in /usr/local/pyenv/versions/3.9.16/envs/python39/lib/python3.9/site-packages (from ipython>=4.0.0->ipywidgets->pfcc_extras->moldraw==0.1.0) (0.18.1)\n",
      "Requirement already satisfied: decorator in /usr/local/pyenv/versions/3.9.16/envs/python39/lib/python3.9/site-packages (from ipython>=4.0.0->ipywidgets->pfcc_extras->moldraw==0.1.0) (5.1.1)\n",
      "Requirement already satisfied: six>=1.5 in /home/jovyan/.py39/lib/python3.9/site-packages (from python-dateutil>=2.7->matplotlib>=3.5.0->pfcc_extras->moldraw==0.1.0) (1.16.0)\n",
      "Requirement already satisfied: ruamel.yaml.clib>=0.2.7 in /home/jovyan/.py39/lib/python3.9/site-packages (from ruamel.yaml>=0.17.0->pymatgen->pfcc_extras->moldraw==0.1.0) (0.2.8)\n",
      "Requirement already satisfied: greenlet!=0.4.17 in /home/jovyan/.py39/lib/python3.9/site-packages (from sqlalchemy>=1.3.0->optuna->pfcc_extras->moldraw==0.1.0) (3.0.3)\n",
      "Requirement already satisfied: notebook>=4.4.1 in /usr/local/pyenv/versions/3.9.16/envs/python39/lib/python3.9/site-packages (from widgetsnbextension~=3.6.0->ipywidgets->pfcc_extras->moldraw==0.1.0) (6.4.12)\n",
      "Requirement already satisfied: latexcodec>=1.0.4 in /home/jovyan/.py39/lib/python3.9/site-packages (from pybtex->pymatgen->pfcc_extras->moldraw==0.1.0) (3.0.0)\n",
      "Requirement already satisfied: charset-normalizer<4,>=2 in /home/jovyan/.py39/lib/python3.9/site-packages (from requests->pymatgen->pfcc_extras->moldraw==0.1.0) (3.3.2)\n",
      "Requirement already satisfied: idna<4,>=2.5 in /home/jovyan/.py39/lib/python3.9/site-packages (from requests->pymatgen->pfcc_extras->moldraw==0.1.0) (3.7)\n",
      "Requirement already satisfied: certifi>=2017.4.17 in /home/jovyan/.py39/lib/python3.9/site-packages (from requests->pymatgen->pfcc_extras->moldraw==0.1.0) (2024.6.2)\n",
      "Requirement already satisfied: urllib3<3,>=1.21.1 in /home/jovyan/.py39/lib/python3.9/site-packages (from requests->pymatgen->pfcc_extras->moldraw==0.1.0) (2.2.2)\n",
      "Requirement already satisfied: mpmath<1.4.0,>=1.1.0 in /home/jovyan/.py39/lib/python3.9/site-packages (from sympy->pymatgen->pfcc_extras->moldraw==0.1.0) (1.3.0)\n",
      "Requirement already satisfied: parso<0.9.0,>=0.8.0 in /usr/local/pyenv/versions/3.9.16/envs/python39/lib/python3.9/site-packages (from jedi>=0.16->ipython>=4.0.0->ipywidgets->pfcc_extras->moldraw==0.1.0) (0.8.3)\n",
      "Requirement already satisfied: entrypoints in /usr/local/pyenv/versions/3.9.16/envs/python39/lib/python3.9/site-packages (from jupyter-client>=6.1.12->ipykernel>=4.5.1->ipywidgets->pfcc_extras->moldraw==0.1.0) (0.4)\n",
      "Requirement already satisfied: platformdirs>=2.5 in /usr/local/pyenv/versions/3.9.16/envs/python39/lib/python3.9/site-packages (from jupyter-core!=5.0.*,>=4.12->ipykernel>=4.5.1->ipywidgets->pfcc_extras->moldraw==0.1.0) (4.2.0)\n",
      "Requirement already satisfied: Send2Trash>=1.8.0 in /usr/local/pyenv/versions/3.9.16/envs/python39/lib/python3.9/site-packages (from notebook>=4.4.1->widgetsnbextension~=3.6.0->ipywidgets->pfcc_extras->moldraw==0.1.0) (1.8.0)\n",
      "Requirement already satisfied: prometheus-client in /usr/local/pyenv/versions/3.9.16/envs/python39/lib/python3.9/site-packages (from notebook>=4.4.1->widgetsnbextension~=3.6.0->ipywidgets->pfcc_extras->moldraw==0.1.0) (0.14.1)\n",
      "Requirement already satisfied: argon2-cffi in /usr/local/pyenv/versions/3.9.16/envs/python39/lib/python3.9/site-packages (from notebook>=4.4.1->widgetsnbextension~=3.6.0->ipywidgets->pfcc_extras->moldraw==0.1.0) (21.3.0)\n",
      "Requirement already satisfied: nbformat in /usr/local/pyenv/versions/3.9.16/envs/python39/lib/python3.9/site-packages (from notebook>=4.4.1->widgetsnbextension~=3.6.0->ipywidgets->pfcc_extras->moldraw==0.1.0) (5.4.0)\n",
      "Requirement already satisfied: nbconvert>=5 in /usr/local/pyenv/versions/3.9.16/envs/python39/lib/python3.9/site-packages (from notebook>=4.4.1->widgetsnbextension~=3.6.0->ipywidgets->pfcc_extras->moldraw==0.1.0) (6.5.3)\n",
      "Requirement already satisfied: jinja2 in /usr/local/pyenv/versions/3.9.16/envs/python39/lib/python3.9/site-packages (from notebook>=4.4.1->widgetsnbextension~=3.6.0->ipywidgets->pfcc_extras->moldraw==0.1.0) (3.1.2)\n",
      "Requirement already satisfied: terminado>=0.8.3 in /usr/local/pyenv/versions/3.9.16/envs/python39/lib/python3.9/site-packages (from notebook>=4.4.1->widgetsnbextension~=3.6.0->ipywidgets->pfcc_extras->moldraw==0.1.0) (0.15.0)\n",
      "Requirement already satisfied: ptyprocess>=0.5 in /usr/local/pyenv/versions/3.9.16/envs/python39/lib/python3.9/site-packages (from pexpect>4.3->ipython>=4.0.0->ipywidgets->pfcc_extras->moldraw==0.1.0) (0.7.0)\n",
      "Requirement already satisfied: wcwidth in /usr/local/pyenv/versions/3.9.16/envs/python39/lib/python3.9/site-packages (from prompt-toolkit!=3.0.0,!=3.0.1,<3.1.0,>=2.0.0->ipython>=4.0.0->ipywidgets->pfcc_extras->moldraw==0.1.0) (0.2.5)\n",
      "Requirement already satisfied: MarkupSafe>=0.9.2 in /usr/local/pyenv/versions/3.9.16/envs/python39/lib/python3.9/site-packages (from Mako->alembic>=1.5.0->optuna->pfcc_extras->moldraw==0.1.0) (2.1.1)\n",
      "Requirement already satisfied: bleach in /usr/local/pyenv/versions/3.9.16/envs/python39/lib/python3.9/site-packages (from nbconvert>=5->notebook>=4.4.1->widgetsnbextension~=3.6.0->ipywidgets->pfcc_extras->moldraw==0.1.0) (5.0.1)\n",
      "Requirement already satisfied: mistune<2,>=0.8.1 in /usr/local/pyenv/versions/3.9.16/envs/python39/lib/python3.9/site-packages (from nbconvert>=5->notebook>=4.4.1->widgetsnbextension~=3.6.0->ipywidgets->pfcc_extras->moldraw==0.1.0) (0.8.4)\n",
      "Requirement already satisfied: pandocfilters>=1.4.1 in /usr/local/pyenv/versions/3.9.16/envs/python39/lib/python3.9/site-packages (from nbconvert>=5->notebook>=4.4.1->widgetsnbextension~=3.6.0->ipywidgets->pfcc_extras->moldraw==0.1.0) (1.5.0)\n",
      "Requirement already satisfied: lxml in /usr/local/pyenv/versions/3.9.16/envs/python39/lib/python3.9/site-packages (from nbconvert>=5->notebook>=4.4.1->widgetsnbextension~=3.6.0->ipywidgets->pfcc_extras->moldraw==0.1.0) (4.9.1)\n",
      "Requirement already satisfied: beautifulsoup4 in /usr/local/pyenv/versions/3.9.16/envs/python39/lib/python3.9/site-packages (from nbconvert>=5->notebook>=4.4.1->widgetsnbextension~=3.6.0->ipywidgets->pfcc_extras->moldraw==0.1.0) (4.11.1)\n",
      "Requirement already satisfied: jupyterlab-pygments in /usr/local/pyenv/versions/3.9.16/envs/python39/lib/python3.9/site-packages (from nbconvert>=5->notebook>=4.4.1->widgetsnbextension~=3.6.0->ipywidgets->pfcc_extras->moldraw==0.1.0) (0.2.2)\n",
      "Requirement already satisfied: nbclient>=0.5.0 in /usr/local/pyenv/versions/3.9.16/envs/python39/lib/python3.9/site-packages (from nbconvert>=5->notebook>=4.4.1->widgetsnbextension~=3.6.0->ipywidgets->pfcc_extras->moldraw==0.1.0) (0.6.7)\n",
      "Requirement already satisfied: tinycss2 in /usr/local/pyenv/versions/3.9.16/envs/python39/lib/python3.9/site-packages (from nbconvert>=5->notebook>=4.4.1->widgetsnbextension~=3.6.0->ipywidgets->pfcc_extras->moldraw==0.1.0) (1.1.1)\n",
      "Requirement already satisfied: defusedxml in /usr/local/pyenv/versions/3.9.16/envs/python39/lib/python3.9/site-packages (from nbconvert>=5->notebook>=4.4.1->widgetsnbextension~=3.6.0->ipywidgets->pfcc_extras->moldraw==0.1.0) (0.7.1)\n",
      "Requirement already satisfied: jsonschema>=2.6 in /usr/local/pyenv/versions/3.9.16/envs/python39/lib/python3.9/site-packages (from nbformat->notebook>=4.4.1->widgetsnbextension~=3.6.0->ipywidgets->pfcc_extras->moldraw==0.1.0) (4.10.2)\n",
      "Requirement already satisfied: fastjsonschema in /usr/local/pyenv/versions/3.9.16/envs/python39/lib/python3.9/site-packages (from nbformat->notebook>=4.4.1->widgetsnbextension~=3.6.0->ipywidgets->pfcc_extras->moldraw==0.1.0) (2.16.1)\n",
      "Requirement already satisfied: argon2-cffi-bindings in /usr/local/pyenv/versions/3.9.16/envs/python39/lib/python3.9/site-packages (from argon2-cffi->notebook>=4.4.1->widgetsnbextension~=3.6.0->ipywidgets->pfcc_extras->moldraw==0.1.0) (21.2.0)\n",
      "Requirement already satisfied: attrs>=17.4.0 in /usr/local/pyenv/versions/3.9.16/envs/python39/lib/python3.9/site-packages (from jsonschema>=2.6->nbformat->notebook>=4.4.1->widgetsnbextension~=3.6.0->ipywidgets->pfcc_extras->moldraw==0.1.0) (22.1.0)\n",
      "Requirement already satisfied: pyrsistent!=0.17.0,!=0.17.1,!=0.17.2,>=0.14.0 in /usr/local/pyenv/versions/3.9.16/envs/python39/lib/python3.9/site-packages (from jsonschema>=2.6->nbformat->notebook>=4.4.1->widgetsnbextension~=3.6.0->ipywidgets->pfcc_extras->moldraw==0.1.0) (0.18.1)\n",
      "Requirement already satisfied: cffi>=1.0.1 in /usr/local/pyenv/versions/3.9.16/envs/python39/lib/python3.9/site-packages (from argon2-cffi-bindings->argon2-cffi->notebook>=4.4.1->widgetsnbextension~=3.6.0->ipywidgets->pfcc_extras->moldraw==0.1.0) (1.15.1)\n",
      "Requirement already satisfied: soupsieve>1.2 in /usr/local/pyenv/versions/3.9.16/envs/python39/lib/python3.9/site-packages (from beautifulsoup4->nbconvert>=5->notebook>=4.4.1->widgetsnbextension~=3.6.0->ipywidgets->pfcc_extras->moldraw==0.1.0) (2.3.2.post1)\n",
      "Requirement already satisfied: webencodings in /usr/local/pyenv/versions/3.9.16/envs/python39/lib/python3.9/site-packages (from bleach->nbconvert>=5->notebook>=4.4.1->widgetsnbextension~=3.6.0->ipywidgets->pfcc_extras->moldraw==0.1.0) (0.5.1)\n",
      "Requirement already satisfied: pycparser in /usr/local/pyenv/versions/3.9.16/envs/python39/lib/python3.9/site-packages (from cffi>=1.0.1->argon2-cffi-bindings->argon2-cffi->notebook>=4.4.1->widgetsnbextension~=3.6.0->ipywidgets->pfcc_extras->moldraw==0.1.0) (2.21)\n",
      "Using legacy 'setup.py install' for moldraw, since package 'wheel' is not installed.\n",
      "Installing collected packages: moldraw\n",
      "  Running setup.py install for moldraw ... \u001b[?25ldone\n",
      "\u001b[?25hSuccessfully installed moldraw-0.1.0\n",
      "\u001b[33mWARNING: You are using pip version 22.0.4; however, version 24.0 is available.\n",
      "You should consider upgrading via the '/home/jovyan/.py39/bin/python -m pip install --upgrade pip' command.\u001b[0m\u001b[33m\n",
      "\u001b[0m"
     ]
    }
   ],
   "source": [
    "!pip install ..  # To enable import from other folders"
   ]
  },
  {
   "cell_type": "code",
   "execution_count": 4,
   "id": "1728d1e6-5cd7-4f52-8b0f-b41a102611a5",
   "metadata": {
    "tags": []
   },
   "outputs": [
    {
     "data": {
      "application/vnd.jupyter.widget-view+json": {
       "model_id": "bf89494de8854dff85176e220fbafda6",
       "version_major": 2,
       "version_minor": 0
      },
      "text/plain": []
     },
     "metadata": {},
     "output_type": "display_data"
    },
    {
     "data": {
      "text/plain": [
       "('0.1.0', '/home/jovyan/.py39/lib/python3.9/site-packages/moldraw/__init__.py')"
      ]
     },
     "execution_count": 4,
     "metadata": {},
     "output_type": "execute_result"
    }
   ],
   "source": [
    "# Operation Verification\n",
    "import moldraw\n",
    "moldraw.__version__ , moldraw.__file__ #Confirm that it is saved as a package (for different Python versions)"
   ]
  },
  {
   "cell_type": "code",
   "execution_count": null,
   "id": "9b4dd6f3-b0f5-447e-9de9-ac51f3bc6f21",
   "metadata": {},
   "outputs": [],
   "source": []
  }
 ],
 "metadata": {
  "kernelspec": {
   "display_name": "Python 3.9",
   "language": "python",
   "name": "python39"
  },
  "language_info": {
   "codemirror_mode": {
    "name": "ipython",
    "version": 3
   },
   "file_extension": ".py",
   "mimetype": "text/x-python",
   "name": "python",
   "nbconvert_exporter": "python",
   "pygments_lexer": "ipython3",
   "version": "3.9.16"
  },
  "widgets": {
   "application/vnd.jupyter.widget-state+json": {
    "state": {
     "3f3bf8f1643745ee9e4662f680c9d8b7": {
      "model_module": "@jupyter-widgets/base",
      "model_module_version": "1.2.0",
      "model_name": "LayoutModel",
      "state": {}
     },
     "bf89494de8854dff85176e220fbafda6": {
      "model_module": "nglview-js-widgets",
      "model_module_version": "3.0.1",
      "model_name": "ColormakerRegistryModel",
      "state": {
       "_msg_ar": [],
       "_msg_q": [],
       "_ready": true,
       "layout": "IPY_MODEL_3f3bf8f1643745ee9e4662f680c9d8b7"
      }
     }
    },
    "version_major": 2,
    "version_minor": 0
   }
  }
 },
 "nbformat": 4,
 "nbformat_minor": 5
}
