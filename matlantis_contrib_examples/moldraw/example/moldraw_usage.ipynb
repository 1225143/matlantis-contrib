{
 "cells": [
  {
   "cell_type": "markdown",
   "id": "11ffbf79-7a05-438b-a6b2-8a669ca2ffe8",
   "metadata": {},
   "source": [
    "Copyright ENEOS, Corp., Preferred Computational Chemistry, Inc. and Preferred Networks, Inc. as contributors to Matlantis contrib project\n",
    "\n",
    "# moldraw\n",
    "\n",
    "JSMEを用いて分子を描画しASE　atomsを返すUIツールです。  #eneos ibuka 2022/12/8  \n",
    "#v0.1.0 2023/10/25 　Pandasバージョンアップ対応 パッケージ化対応,　引数からcalculator 設定可能に変更　3.8,3.9で動作確認"
   ]
  },
  {
   "cell_type": "markdown",
   "id": "b322243f-651c-4560-86b7-e5e81fcf7de4",
   "metadata": {},
   "source": [
    "## セットアップ\n",
    " Install.ipynb を開き実行してください。一度実行すれば他のフォルダでも実行できます。\n",
    " python3.8,3.9で動作確認しています。利用バージョンそれぞれでのinstallが必要です。"
   ]
  },
  {
   "cell_type": "code",
   "execution_count": 1,
   "id": "b8f8ff89-4b91-4cdd-a578-ea54c5e38389",
   "metadata": {
    "tags": []
   },
   "outputs": [
    {
     "data": {
      "application/vnd.jupyter.widget-view+json": {
       "model_id": "804212e24ba0446b9074eb414bf1ce34",
       "version_major": 2,
       "version_minor": 0
      },
      "text/plain": []
     },
     "metadata": {},
     "output_type": "display_data"
    }
   ],
   "source": [
    "import moldraw"
   ]
  },
  {
   "cell_type": "code",
   "execution_count": null,
   "id": "9058f0fe-030e-4057-8d26-18052a6c62fb",
   "metadata": {
    "tags": []
   },
   "outputs": [],
   "source": [
    "m = moldraw.Moldraw()"
   ]
  },
  {
   "cell_type": "markdown",
   "id": "f801d99f-8bc0-42d7-a226-ef5bd254770b",
   "metadata": {},
   "source": [
    "TIPS:　 ▼▲の一番下のメニューから　SMILES→図構造ができる。左回転ボタンでUNDOができる。\n",
    "\n",
    "登録した分子はdf経由でアクセス可能。"
   ]
  },
  {
   "cell_type": "code",
   "execution_count": 3,
   "id": "4727c30a-d461-450b-a78f-ae897543ce0e",
   "metadata": {},
   "outputs": [
    {
     "data": {
      "text/html": [
       "<div>\n",
       "<style scoped>\n",
       "    .dataframe tbody tr th:only-of-type {\n",
       "        vertical-align: middle;\n",
       "    }\n",
       "\n",
       "    .dataframe tbody tr th {\n",
       "        vertical-align: top;\n",
       "    }\n",
       "\n",
       "    .dataframe thead th {\n",
       "        text-align: right;\n",
       "    }\n",
       "</style>\n",
       "<table border=\"1\" class=\"dataframe\">\n",
       "  <thead>\n",
       "    <tr style=\"text-align: right;\">\n",
       "      <th></th>\n",
       "      <th>SMILES</th>\n",
       "      <th>formula</th>\n",
       "      <th>atoms</th>\n",
       "      <th>energy</th>\n",
       "      <th>maxforce</th>\n",
       "      <th>opt</th>\n",
       "      <th>conf_no</th>\n",
       "    </tr>\n",
       "  </thead>\n",
       "  <tbody>\n",
       "    <tr>\n",
       "      <th>0</th>\n",
       "      <td>CCC</td>\n",
       "      <td>C3H8</td>\n",
       "      <td>(Atom('C', [-1.2607, 0.176...</td>\n",
       "      <td>-43.633385</td>\n",
       "      <td>2.343911</td>\n",
       "      <td>False</td>\n",
       "      <td>NaN</td>\n",
       "    </tr>\n",
       "    <tr>\n",
       "      <th>1</th>\n",
       "      <td>CCC</td>\n",
       "      <td>C3H8</td>\n",
       "      <td>(Atom('C', [1.2552, 0.1131...</td>\n",
       "      <td>-43.703284</td>\n",
       "      <td>1.424860</td>\n",
       "      <td>False</td>\n",
       "      <td>0.0</td>\n",
       "    </tr>\n",
       "    <tr>\n",
       "      <th>2</th>\n",
       "      <td>CCC</td>\n",
       "      <td>C3H8</td>\n",
       "      <td>(Atom('C', [-1.28274285991...</td>\n",
       "      <td>-43.986961</td>\n",
       "      <td>0.033113</td>\n",
       "      <td>True</td>\n",
       "      <td>NaN</td>\n",
       "    </tr>\n",
       "  </tbody>\n",
       "</table>\n",
       "</div>"
      ],
      "text/plain": [
       "  SMILES formula                          atoms     energy  maxforce    opt  \\\n",
       "0    CCC    C3H8  (Atom('C', [-1.2607, 0.176... -43.633385  2.343911  False   \n",
       "1    CCC    C3H8  (Atom('C', [1.2552, 0.1131... -43.703284  1.424860  False   \n",
       "2    CCC    C3H8  (Atom('C', [-1.28274285991... -43.986961  0.033113   True   \n",
       "\n",
       "   conf_no  \n",
       "0      NaN  \n",
       "1      0.0  \n",
       "2      NaN  "
      ]
     },
     "metadata": {},
     "output_type": "display_data"
    },
    {
     "data": {
      "text/plain": [
       "Atoms(symbols='C3H8', pbc=False)"
      ]
     },
     "execution_count": 3,
     "metadata": {},
     "output_type": "execute_result"
    }
   ],
   "source": [
    "display(m.df)\n",
    "# atomsへアクセス\n",
    "m.df.iloc[0].atoms"
   ]
  },
  {
   "cell_type": "markdown",
   "id": "e4043353-38f4-471e-980f-90b20d67f0e6",
   "metadata": {},
   "source": [
    "イテレータでfor loopを用いてもアクセス可能"
   ]
  },
  {
   "cell_type": "code",
   "execution_count": 4,
   "id": "74ed0968-63fb-4f69-8dfd-5c7755757fde",
   "metadata": {},
   "outputs": [
    {
     "name": "stdout",
     "output_type": "stream",
     "text": [
      "0 Atoms(symbols='C3H8', pbc=False, calculator=ASECalculator(...))\n",
      "1 Atoms(symbols='C3H8', pbc=False)\n",
      "2 Atoms(symbols='C3H8', pbc=False)\n",
      "3 Atoms(symbols='C3H8', pbc=False, calculator=ASECalculator(...))\n"
     ]
    }
   ],
   "source": [
    "for i, atoms in enumerate(m):\n",
    "    print(i, atoms)"
   ]
  },
  {
   "cell_type": "markdown",
   "id": "9c55ac1b-9a55-4690-9e9e-97da2f99bbfb",
   "metadata": {},
   "source": [
    "## SMILESからのConformaer search\n",
    "\n",
    "`get_conformersdf` 関数を使うことで、SMILES指定をしての直接コンフォーマ探索も可能"
   ]
  },
  {
   "cell_type": "code",
   "execution_count": 5,
   "id": "ff2649f8-8eff-4e59-afab-f766a706d937",
   "metadata": {
    "tags": []
   },
   "outputs": [
    {
     "name": "stdout",
     "output_type": "stream",
     "text": [
      "6 conformers found (n_confs:100 n_atoms:17,rmsd_threshold:0.22)\n",
      "start opt top 3 conformers\n",
      " CCCCC 1 / 3 opt 28 steps done\n",
      " CCCCC 2 / 3 opt 34 steps done\n",
      " CCCCC 3 / 3 opt 29 steps done\n"
     ]
    },
    {
     "data": {
      "text/html": [
       "<div>\n",
       "<style scoped>\n",
       "    .dataframe tbody tr th:only-of-type {\n",
       "        vertical-align: middle;\n",
       "    }\n",
       "\n",
       "    .dataframe tbody tr th {\n",
       "        vertical-align: top;\n",
       "    }\n",
       "\n",
       "    .dataframe thead th {\n",
       "        text-align: right;\n",
       "    }\n",
       "</style>\n",
       "<table border=\"1\" class=\"dataframe\">\n",
       "  <thead>\n",
       "    <tr style=\"text-align: right;\">\n",
       "      <th></th>\n",
       "      <th>SMILES</th>\n",
       "      <th>formula</th>\n",
       "      <th>atoms</th>\n",
       "      <th>energy</th>\n",
       "      <th>maxforce</th>\n",
       "      <th>opt</th>\n",
       "      <th>conf_no</th>\n",
       "      <th>conf_no_opt</th>\n",
       "    </tr>\n",
       "  </thead>\n",
       "  <tbody>\n",
       "    <tr>\n",
       "      <th>0</th>\n",
       "      <td>CCCCC</td>\n",
       "      <td>C5H12</td>\n",
       "      <td>(Atom('C', [-2.40014872210...</td>\n",
       "      <td>-69.791359</td>\n",
       "      <td>0.047656</td>\n",
       "      <td>True</td>\n",
       "      <td>0</td>\n",
       "      <td>0</td>\n",
       "    </tr>\n",
       "    <tr>\n",
       "      <th>1</th>\n",
       "      <td>CCCCC</td>\n",
       "      <td>C5H12</td>\n",
       "      <td>(Atom('C', [2.169036775028...</td>\n",
       "      <td>-69.790689</td>\n",
       "      <td>0.048306</td>\n",
       "      <td>True</td>\n",
       "      <td>1</td>\n",
       "      <td>1</td>\n",
       "    </tr>\n",
       "    <tr>\n",
       "      <th>2</th>\n",
       "      <td>CCCCC</td>\n",
       "      <td>C5H12</td>\n",
       "      <td>(Atom('C', [-2.55664391505...</td>\n",
       "      <td>-69.713731</td>\n",
       "      <td>0.047837</td>\n",
       "      <td>True</td>\n",
       "      <td>2</td>\n",
       "      <td>2</td>\n",
       "    </tr>\n",
       "    <tr>\n",
       "      <th>3</th>\n",
       "      <td>CCCCC</td>\n",
       "      <td>C5H12</td>\n",
       "      <td>(Atom('C', [-1.8193, 0.604...</td>\n",
       "      <td>-69.374345</td>\n",
       "      <td>2.205715</td>\n",
       "      <td>False</td>\n",
       "      <td>3</td>\n",
       "      <td>3</td>\n",
       "    </tr>\n",
       "    <tr>\n",
       "      <th>4</th>\n",
       "      <td>CCCCC</td>\n",
       "      <td>C5H12</td>\n",
       "      <td>(Atom('C', [-1.8426, 0.467...</td>\n",
       "      <td>-69.256363</td>\n",
       "      <td>2.864849</td>\n",
       "      <td>False</td>\n",
       "      <td>4</td>\n",
       "      <td>4</td>\n",
       "    </tr>\n",
       "    <tr>\n",
       "      <th>5</th>\n",
       "      <td>CCCCC</td>\n",
       "      <td>C5H12</td>\n",
       "      <td>(Atom('C', [-1.3419, 1.111...</td>\n",
       "      <td>-69.135935</td>\n",
       "      <td>2.812093</td>\n",
       "      <td>False</td>\n",
       "      <td>5</td>\n",
       "      <td>5</td>\n",
       "    </tr>\n",
       "  </tbody>\n",
       "</table>\n",
       "</div>"
      ],
      "text/plain": [
       "  SMILES formula                          atoms     energy  maxforce    opt  \\\n",
       "0  CCCCC   C5H12  (Atom('C', [-2.40014872210... -69.791359  0.047656   True   \n",
       "1  CCCCC   C5H12  (Atom('C', [2.169036775028... -69.790689  0.048306   True   \n",
       "2  CCCCC   C5H12  (Atom('C', [-2.55664391505... -69.713731  0.047837   True   \n",
       "3  CCCCC   C5H12  (Atom('C', [-1.8193, 0.604... -69.374345  2.205715  False   \n",
       "4  CCCCC   C5H12  (Atom('C', [-1.8426, 0.467... -69.256363  2.864849  False   \n",
       "5  CCCCC   C5H12  (Atom('C', [-1.3419, 1.111... -69.135935  2.812093  False   \n",
       "\n",
       "   conf_no  conf_no_opt  \n",
       "0        0            0  \n",
       "1        1            1  \n",
       "2        2            2  \n",
       "3        3            3  \n",
       "4        4            4  \n",
       "5        5            5  "
      ]
     },
     "execution_count": 5,
     "metadata": {},
     "output_type": "execute_result"
    }
   ],
   "source": [
    "from moldraw.moldraw import get_conformersdf\n",
    "\n",
    "confo = get_conformersdf(\"CCCCC\", top=3, opt=True)\n",
    "confo "
   ]
  },
  {
   "cell_type": "markdown",
   "id": "262b9386-faeb-4b92-bff8-86496400b5c9",
   "metadata": {},
   "source": [
    "コンフォーマーは直接関数でも実行可能。大分子では遅い。"
   ]
  },
  {
   "cell_type": "code",
   "execution_count": 6,
   "id": "47b954e1-69a7-4b2d-8551-78cf8be3765c",
   "metadata": {
    "tags": []
   },
   "outputs": [
    {
     "name": "stdout",
     "output_type": "stream",
     "text": [
      "23 conformers found (n_confs:100 n_atoms:23,rmsd_threshold:0.28)\n",
      "CPU times: user 2.14 s, sys: 560 ms, total: 2.7 s\n",
      "Wall time: 5.01 s\n"
     ]
    },
    {
     "data": {
      "text/html": [
       "<div>\n",
       "<style scoped>\n",
       "    .dataframe tbody tr th:only-of-type {\n",
       "        vertical-align: middle;\n",
       "    }\n",
       "\n",
       "    .dataframe tbody tr th {\n",
       "        vertical-align: top;\n",
       "    }\n",
       "\n",
       "    .dataframe thead th {\n",
       "        text-align: right;\n",
       "    }\n",
       "</style>\n",
       "<table border=\"1\" class=\"dataframe\">\n",
       "  <thead>\n",
       "    <tr style=\"text-align: right;\">\n",
       "      <th></th>\n",
       "      <th>SMILES</th>\n",
       "      <th>formula</th>\n",
       "      <th>atoms</th>\n",
       "      <th>energy</th>\n",
       "      <th>maxforce</th>\n",
       "      <th>opt</th>\n",
       "      <th>conf_no</th>\n",
       "    </tr>\n",
       "  </thead>\n",
       "  <tbody>\n",
       "    <tr>\n",
       "      <th>0</th>\n",
       "      <td>CCCCCCC</td>\n",
       "      <td>C7H16</td>\n",
       "      <td>(Atom('C', [2.8186, 0.0026...</td>\n",
       "      <td>-95.178745</td>\n",
       "      <td>1.445245</td>\n",
       "      <td>False</td>\n",
       "      <td>0</td>\n",
       "    </tr>\n",
       "    <tr>\n",
       "      <th>1</th>\n",
       "      <td>CCCCCCC</td>\n",
       "      <td>C7H16</td>\n",
       "      <td>(Atom('C', [-2.9068, 0.408...</td>\n",
       "      <td>-95.167705</td>\n",
       "      <td>1.774549</td>\n",
       "      <td>False</td>\n",
       "      <td>1</td>\n",
       "    </tr>\n",
       "    <tr>\n",
       "      <th>2</th>\n",
       "      <td>CCCCCCC</td>\n",
       "      <td>C7H16</td>\n",
       "      <td>(Atom('C', [3.365, -0.3486...</td>\n",
       "      <td>-95.152782</td>\n",
       "      <td>1.858741</td>\n",
       "      <td>False</td>\n",
       "      <td>2</td>\n",
       "    </tr>\n",
       "    <tr>\n",
       "      <th>3</th>\n",
       "      <td>CCCCCCC</td>\n",
       "      <td>C7H16</td>\n",
       "      <td>(Atom('C', [-2.7773, -0.63...</td>\n",
       "      <td>-95.149337</td>\n",
       "      <td>2.093510</td>\n",
       "      <td>False</td>\n",
       "      <td>3</td>\n",
       "    </tr>\n",
       "    <tr>\n",
       "      <th>4</th>\n",
       "      <td>CCCCCCC</td>\n",
       "      <td>C7H16</td>\n",
       "      <td>(Atom('C', [-2.5676, 0.054...</td>\n",
       "      <td>-95.141377</td>\n",
       "      <td>1.517699</td>\n",
       "      <td>False</td>\n",
       "      <td>4</td>\n",
       "    </tr>\n",
       "    <tr>\n",
       "      <th>5</th>\n",
       "      <td>CCCCCCC</td>\n",
       "      <td>C7H16</td>\n",
       "      <td>(Atom('C', [-3.1371, -0.19...</td>\n",
       "      <td>-95.139993</td>\n",
       "      <td>2.057882</td>\n",
       "      <td>False</td>\n",
       "      <td>5</td>\n",
       "    </tr>\n",
       "    <tr>\n",
       "      <th>6</th>\n",
       "      <td>CCCCCCC</td>\n",
       "      <td>C7H16</td>\n",
       "      <td>(Atom('C', [-2.2425, 1.140...</td>\n",
       "      <td>-95.132479</td>\n",
       "      <td>1.509374</td>\n",
       "      <td>False</td>\n",
       "      <td>6</td>\n",
       "    </tr>\n",
       "    <tr>\n",
       "      <th>7</th>\n",
       "      <td>CCCCCCC</td>\n",
       "      <td>C7H16</td>\n",
       "      <td>(Atom('C', [-2.9023, 0.742...</td>\n",
       "      <td>-95.113738</td>\n",
       "      <td>1.717709</td>\n",
       "      <td>False</td>\n",
       "      <td>7</td>\n",
       "    </tr>\n",
       "    <tr>\n",
       "      <th>8</th>\n",
       "      <td>CCCCCCC</td>\n",
       "      <td>C7H16</td>\n",
       "      <td>(Atom('C', [-3.0051, 0.545...</td>\n",
       "      <td>-95.112170</td>\n",
       "      <td>1.832664</td>\n",
       "      <td>False</td>\n",
       "      <td>8</td>\n",
       "    </tr>\n",
       "    <tr>\n",
       "      <th>9</th>\n",
       "      <td>CCCCCCC</td>\n",
       "      <td>C7H16</td>\n",
       "      <td>(Atom('C', [-3.1206, -0.60...</td>\n",
       "      <td>-95.108509</td>\n",
       "      <td>2.054592</td>\n",
       "      <td>False</td>\n",
       "      <td>9</td>\n",
       "    </tr>\n",
       "    <tr>\n",
       "      <th>10</th>\n",
       "      <td>CCCCCCC</td>\n",
       "      <td>C7H16</td>\n",
       "      <td>(Atom('C', [-3.0573, 0.390...</td>\n",
       "      <td>-95.105982</td>\n",
       "      <td>1.596557</td>\n",
       "      <td>False</td>\n",
       "      <td>10</td>\n",
       "    </tr>\n",
       "    <tr>\n",
       "      <th>11</th>\n",
       "      <td>CCCCCCC</td>\n",
       "      <td>C7H16</td>\n",
       "      <td>(Atom('C', [-2.9829, 0.361...</td>\n",
       "      <td>-95.087320</td>\n",
       "      <td>2.046987</td>\n",
       "      <td>False</td>\n",
       "      <td>11</td>\n",
       "    </tr>\n",
       "    <tr>\n",
       "      <th>12</th>\n",
       "      <td>CCCCCCC</td>\n",
       "      <td>C7H16</td>\n",
       "      <td>(Atom('C', [2.9608, -0.559...</td>\n",
       "      <td>-95.079348</td>\n",
       "      <td>2.198664</td>\n",
       "      <td>False</td>\n",
       "      <td>12</td>\n",
       "    </tr>\n",
       "    <tr>\n",
       "      <th>13</th>\n",
       "      <td>CCCCCCC</td>\n",
       "      <td>C7H16</td>\n",
       "      <td>(Atom('C', [2.846, 0.6008,...</td>\n",
       "      <td>-95.078460</td>\n",
       "      <td>1.651988</td>\n",
       "      <td>False</td>\n",
       "      <td>13</td>\n",
       "    </tr>\n",
       "    <tr>\n",
       "      <th>14</th>\n",
       "      <td>CCCCCCC</td>\n",
       "      <td>C7H16</td>\n",
       "      <td>(Atom('C', [3.6567, 0.1664...</td>\n",
       "      <td>-95.068425</td>\n",
       "      <td>1.657276</td>\n",
       "      <td>False</td>\n",
       "      <td>14</td>\n",
       "    </tr>\n",
       "    <tr>\n",
       "      <th>15</th>\n",
       "      <td>CCCCCCC</td>\n",
       "      <td>C7H16</td>\n",
       "      <td>(Atom('C', [-3.3594, -0.21...</td>\n",
       "      <td>-95.064663</td>\n",
       "      <td>2.686778</td>\n",
       "      <td>False</td>\n",
       "      <td>15</td>\n",
       "    </tr>\n",
       "    <tr>\n",
       "      <th>16</th>\n",
       "      <td>CCCCCCC</td>\n",
       "      <td>C7H16</td>\n",
       "      <td>(Atom('C', [-2.6128, 1.011...</td>\n",
       "      <td>-95.044411</td>\n",
       "      <td>2.712385</td>\n",
       "      <td>False</td>\n",
       "      <td>16</td>\n",
       "    </tr>\n",
       "    <tr>\n",
       "      <th>17</th>\n",
       "      <td>CCCCCCC</td>\n",
       "      <td>C7H16</td>\n",
       "      <td>(Atom('C', [2.6351, 0.2638...</td>\n",
       "      <td>-95.041829</td>\n",
       "      <td>1.931353</td>\n",
       "      <td>False</td>\n",
       "      <td>17</td>\n",
       "    </tr>\n",
       "    <tr>\n",
       "      <th>18</th>\n",
       "      <td>CCCCCCC</td>\n",
       "      <td>C7H16</td>\n",
       "      <td>(Atom('C', [2.4076, 0.7628...</td>\n",
       "      <td>-95.002338</td>\n",
       "      <td>2.374899</td>\n",
       "      <td>False</td>\n",
       "      <td>18</td>\n",
       "    </tr>\n",
       "    <tr>\n",
       "      <th>19</th>\n",
       "      <td>CCCCCCC</td>\n",
       "      <td>C7H16</td>\n",
       "      <td>(Atom('C', [3.2525, 0.5649...</td>\n",
       "      <td>-94.965967</td>\n",
       "      <td>1.906038</td>\n",
       "      <td>False</td>\n",
       "      <td>19</td>\n",
       "    </tr>\n",
       "    <tr>\n",
       "      <th>20</th>\n",
       "      <td>CCCCCCC</td>\n",
       "      <td>C7H16</td>\n",
       "      <td>(Atom('C', [1.8934, 1.0455...</td>\n",
       "      <td>-94.597808</td>\n",
       "      <td>4.340437</td>\n",
       "      <td>False</td>\n",
       "      <td>20</td>\n",
       "    </tr>\n",
       "    <tr>\n",
       "      <th>21</th>\n",
       "      <td>CCCCCCC</td>\n",
       "      <td>C7H16</td>\n",
       "      <td>(Atom('C', [-2.12, 0.9279,...</td>\n",
       "      <td>-94.590634</td>\n",
       "      <td>3.402914</td>\n",
       "      <td>False</td>\n",
       "      <td>21</td>\n",
       "    </tr>\n",
       "    <tr>\n",
       "      <th>22</th>\n",
       "      <td>CCCCCCC</td>\n",
       "      <td>C7H16</td>\n",
       "      <td>(Atom('C', [2.9971, 0.9889...</td>\n",
       "      <td>-94.522684</td>\n",
       "      <td>4.060266</td>\n",
       "      <td>False</td>\n",
       "      <td>22</td>\n",
       "    </tr>\n",
       "  </tbody>\n",
       "</table>\n",
       "</div>"
      ],
      "text/plain": [
       "     SMILES formula                          atoms     energy  maxforce  \\\n",
       "0   CCCCCCC   C7H16  (Atom('C', [2.8186, 0.0026... -95.178745  1.445245   \n",
       "1   CCCCCCC   C7H16  (Atom('C', [-2.9068, 0.408... -95.167705  1.774549   \n",
       "2   CCCCCCC   C7H16  (Atom('C', [3.365, -0.3486... -95.152782  1.858741   \n",
       "3   CCCCCCC   C7H16  (Atom('C', [-2.7773, -0.63... -95.149337  2.093510   \n",
       "4   CCCCCCC   C7H16  (Atom('C', [-2.5676, 0.054... -95.141377  1.517699   \n",
       "5   CCCCCCC   C7H16  (Atom('C', [-3.1371, -0.19... -95.139993  2.057882   \n",
       "6   CCCCCCC   C7H16  (Atom('C', [-2.2425, 1.140... -95.132479  1.509374   \n",
       "7   CCCCCCC   C7H16  (Atom('C', [-2.9023, 0.742... -95.113738  1.717709   \n",
       "8   CCCCCCC   C7H16  (Atom('C', [-3.0051, 0.545... -95.112170  1.832664   \n",
       "9   CCCCCCC   C7H16  (Atom('C', [-3.1206, -0.60... -95.108509  2.054592   \n",
       "10  CCCCCCC   C7H16  (Atom('C', [-3.0573, 0.390... -95.105982  1.596557   \n",
       "11  CCCCCCC   C7H16  (Atom('C', [-2.9829, 0.361... -95.087320  2.046987   \n",
       "12  CCCCCCC   C7H16  (Atom('C', [2.9608, -0.559... -95.079348  2.198664   \n",
       "13  CCCCCCC   C7H16  (Atom('C', [2.846, 0.6008,... -95.078460  1.651988   \n",
       "14  CCCCCCC   C7H16  (Atom('C', [3.6567, 0.1664... -95.068425  1.657276   \n",
       "15  CCCCCCC   C7H16  (Atom('C', [-3.3594, -0.21... -95.064663  2.686778   \n",
       "16  CCCCCCC   C7H16  (Atom('C', [-2.6128, 1.011... -95.044411  2.712385   \n",
       "17  CCCCCCC   C7H16  (Atom('C', [2.6351, 0.2638... -95.041829  1.931353   \n",
       "18  CCCCCCC   C7H16  (Atom('C', [2.4076, 0.7628... -95.002338  2.374899   \n",
       "19  CCCCCCC   C7H16  (Atom('C', [3.2525, 0.5649... -94.965967  1.906038   \n",
       "20  CCCCCCC   C7H16  (Atom('C', [1.8934, 1.0455... -94.597808  4.340437   \n",
       "21  CCCCCCC   C7H16  (Atom('C', [-2.12, 0.9279,... -94.590634  3.402914   \n",
       "22  CCCCCCC   C7H16  (Atom('C', [2.9971, 0.9889... -94.522684  4.060266   \n",
       "\n",
       "      opt  conf_no  \n",
       "0   False        0  \n",
       "1   False        1  \n",
       "2   False        2  \n",
       "3   False        3  \n",
       "4   False        4  \n",
       "5   False        5  \n",
       "6   False        6  \n",
       "7   False        7  \n",
       "8   False        8  \n",
       "9   False        9  \n",
       "10  False       10  \n",
       "11  False       11  \n",
       "12  False       12  \n",
       "13  False       13  \n",
       "14  False       14  \n",
       "15  False       15  \n",
       "16  False       16  \n",
       "17  False       17  \n",
       "18  False       18  \n",
       "19  False       19  \n",
       "20  False       20  \n",
       "21  False       21  \n",
       "22  False       22  "
      ]
     },
     "execution_count": 6,
     "metadata": {},
     "output_type": "execute_result"
    }
   ],
   "source": [
    "%%time\n",
    "confo2 = get_conformersdf(\"CCCCCCC\", opt=False)\n",
    "confo2"
   ]
  },
  {
   "cell_type": "markdown",
   "id": "8e8ae9b2-ebe7-4003-9a37-5d30f287ca13",
   "metadata": {},
   "source": [
    "## DataFrameに対するグラフ描画ツール\n",
    "\n",
    "DataFrameに対して汎用的に使えるグラフ用のUIを提供するクラス`Dfplot`。\n",
    "\n",
    "引数にDataFrameを入れることで、x軸・y軸を指定しての描画が可能です。"
   ]
  },
  {
   "cell_type": "code",
   "execution_count": 7,
   "id": "8fea148d-1462-4ad6-b0cc-8f12247406cc",
   "metadata": {
    "tags": []
   },
   "outputs": [
    {
     "data": {
      "application/vnd.jupyter.widget-view+json": {
       "model_id": "f064f0e1ca0b4c03933825d0fd8aeb0f",
       "version_major": 2,
       "version_minor": 0
      },
      "text/plain": [
       "VBox(children=(HBox(children=(Select(description='col1:', layout=Layout(border='0px', height='27px', width='20…"
      ]
     },
     "metadata": {},
     "output_type": "display_data"
    }
   ],
   "source": [
    "from moldraw import Dfplot\n",
    "p = Dfplot(confo2)"
   ]
  },
  {
   "cell_type": "code",
   "execution_count": null,
   "id": "29547c9f-7975-421d-a95f-752daa5c45d8",
   "metadata": {},
   "outputs": [],
   "source": []
  }
 ],
 "metadata": {
  "kernelspec": {
   "display_name": "Python 3.8",
   "language": "python",
   "name": "python38"
  },
  "language_info": {
   "codemirror_mode": {
    "name": "ipython",
    "version": 3
   },
   "file_extension": ".py",
   "mimetype": "text/x-python",
   "name": "python",
   "nbconvert_exporter": "python",
   "pygments_lexer": "ipython3",
   "version": "3.8.13"
  },
  "widgets": {
   "application/vnd.jupyter.widget-state+json": {
    "state": {
     "07538bf1234d44949d1af2fed499fd40": {
      "model_module": "@jupyter-widgets/controls",
      "model_module_version": "1.5.0",
      "model_name": "IntSliderModel",
      "state": {
       "description": "0",
       "layout": "IPY_MODEL_5930b1a4073d4bc9a84bb83809575ac3",
       "max": 0,
       "min": -2,
       "orientation": "vertical",
       "style": "IPY_MODEL_2da09497d85248ff873b277f98ba982f"
      }
     },
     "08bd959507c2409ba67f9b49cf2b3eb5": {
      "model_module": "@jupyter-widgets/controls",
      "model_module_version": "1.5.0",
      "model_name": "ButtonStyleModel",
      "state": {}
     },
     "120ea4cc3b8f4c56a9a8ac021895f1d9": {
      "model_module": "@jupyter-widgets/base",
      "model_module_version": "1.2.0",
      "model_name": "LayoutModel",
      "state": {
       "width": "80px"
      }
     },
     "18a18b205d09428b991c36b5da0ea60a": {
      "model_module": "@jupyter-widgets/controls",
      "model_module_version": "1.5.0",
      "model_name": "HBoxModel",
      "state": {
       "children": [
        "IPY_MODEL_b8eceee39409499db4fa52520dd41bdf",
        "IPY_MODEL_6377b980e579401c813aee344d2186e4"
       ],
       "layout": "IPY_MODEL_e55d863fe4134fd29cb299c2f881d651"
      }
     },
     "1c508c363f434f2887954753f521487b": {
      "model_module": "@jupyter-widgets/controls",
      "model_module_version": "1.5.0",
      "model_name": "ButtonStyleModel",
      "state": {}
     },
     "1c87283a5f5f434e86beca8c5aa2581d": {
      "model_module": "@jupyter-widgets/base",
      "model_module_version": "1.2.0",
      "model_name": "LayoutModel",
      "state": {
       "height": "45px",
       "width": "430px"
      }
     },
     "1f587950e4044b66ac235e8e1d106eec": {
      "model_module": "@jupyter-widgets/base",
      "model_module_version": "1.2.0",
      "model_name": "LayoutModel",
      "state": {}
     },
     "2045c0dc706f40f89d56da9687869e0f": {
      "model_module": "@jupyter-widgets/base",
      "model_module_version": "1.2.0",
      "model_name": "LayoutModel",
      "state": {}
     },
     "20d761863f684992bb90153ded0bd66d": {
      "model_module": "@jupyter-widgets/controls",
      "model_module_version": "1.5.0",
      "model_name": "HBoxModel",
      "state": {
       "children": [
        "IPY_MODEL_cdcbb2416c1744428a79c19e3a181cfc",
        "IPY_MODEL_9c38737f11eb4d98a5e1f13f16c8279c",
        "IPY_MODEL_9da0299625e845c5aa81ae9837868313",
        "IPY_MODEL_9c907550a0564b8190384d284d454bc9"
       ],
       "layout": "IPY_MODEL_337d18c5dff845dfbc9b85ad12d8f467"
      }
     },
     "21b8912bbd9046ba8d76d73f21c9421b": {
      "model_module": "@jupyter-widgets/controls",
      "model_module_version": "1.5.0",
      "model_name": "DescriptionStyleModel",
      "state": {
       "description_width": "45px"
      }
     },
     "2239040a9cbb46d48f0831b434cef23c": {
      "model_module": "@jupyter-widgets/controls",
      "model_module_version": "1.5.0",
      "model_name": "ImageModel",
      "state": {
       "layout": "IPY_MODEL_2045c0dc706f40f89d56da9687869e0f",
       "width": "900.0"
      }
     },
     "256dd52cc43e41c69fa2c3c3b1dbdb46": {
      "model_module": "@jupyter-widgets/controls",
      "model_module_version": "1.5.0",
      "model_name": "SelectModel",
      "state": {
       "_options_labels": [
        "energy",
        "maxforce",
        "conf_no",
        "histplot col1"
       ],
       "description": "col2:",
       "index": 2,
       "layout": "IPY_MODEL_58be15e2e2b84be1ad1811fe2ab50956",
       "rows": 1,
       "style": "IPY_MODEL_759cabfa03344252920abe482238437e"
      }
     },
     "290db8d4c31144fc9353944e1dfb88db": {
      "model_module": "@jupyter-widgets/controls",
      "model_module_version": "1.5.0",
      "model_name": "DescriptionStyleModel",
      "state": {
       "description_width": ""
      }
     },
     "2b05623ebfe3411d8efe57fe4fb46c48": {
      "model_module": "@jupyter-widgets/base",
      "model_module_version": "1.2.0",
      "model_name": "LayoutModel",
      "state": {}
     },
     "2da09497d85248ff873b277f98ba982f": {
      "model_module": "@jupyter-widgets/controls",
      "model_module_version": "1.5.0",
      "model_name": "SliderStyleModel",
      "state": {
       "description_width": ""
      }
     },
     "320470f4032046099482246bd96e4467": {
      "model_module": "@jupyter-widgets/controls",
      "model_module_version": "1.5.0",
      "model_name": "ButtonModel",
      "state": {
       "icon": "compress",
       "layout": "IPY_MODEL_49c4239aaab84683a5505658bfe53c6d",
       "style": "IPY_MODEL_86450bd13765431ea0abf0f9a6bcdbb9"
      }
     },
     "337d18c5dff845dfbc9b85ad12d8f467": {
      "model_module": "@jupyter-widgets/base",
      "model_module_version": "1.2.0",
      "model_name": "LayoutModel",
      "state": {
       "height": "38px",
       "width": "250px"
      }
     },
     "34a2055db50d4f58a380c4722b59f6e6": {
      "model_module": "@jupyter-widgets/controls",
      "model_module_version": "1.5.0",
      "model_name": "LinkModel",
      "state": {
       "source": [
        "IPY_MODEL_5d82b7cfe838451ea0d963b01b774bc8",
        "value"
       ],
       "target": [
        "IPY_MODEL_936a824432ef4c4ba66e216aef13471b",
        "value"
       ]
      }
     },
     "3a47b44d6dd44283970dd37d80d3ce46": {
      "model_module": "@jupyter-widgets/base",
      "model_module_version": "1.2.0",
      "model_name": "LayoutModel",
      "state": {}
     },
     "3de5ee16f2734f558673880ec450eba0": {
      "model_module": "@jupyter-widgets/controls",
      "model_module_version": "1.5.0",
      "model_name": "SliderStyleModel",
      "state": {
       "description_width": "40px"
      }
     },
     "41fd7d1e7af84350a3e22c6512ea6ef7": {
      "model_module": "@jupyter-widgets/output",
      "model_module_version": "1.0.0",
      "model_name": "OutputModel",
      "state": {
       "layout": "IPY_MODEL_9fbc2efd422f442c93ef1d121f6d7bfb",
       "outputs": [
        {
         "data": {
          "text/html": "\n        <html><head>\n        <script type=\"text/javascript\" language=\"javascript\" src=\"https://eneos.matlantis.com/nb/py4r2l043qj6mo91/default/files/.py38/lib/python3.8/site-packages/moldraw/data/jsme/jsme.nocache.js\"></script>\n        <script>    \n        function jsmeOnLoad() {  jsmeApplet = new JSApplet.JSME(\"20231026111954\", \"380px\",\"285px\");           \n        jsmeApplet.setCallBack(\"AfterStructureModified\", show_smiles);        }        \n        function show_smiles(event) {\n         smiles = event.src.smiles();            \n         el = document.querySelector(\"input[placeholder='20231026111954']\");           \n         el.value = smiles.replace(\"/\\[([A-Za-z][a-z]?)H?\\d*:\\d+\\]/g\",smiles);           \n         el.dispatchEvent(new Event('input',{'bubbles': true,'cancelable': true}));        \n        }\n        </script></head><body><div id=\"20231026111954\"></div></body></html>\n        ",
          "text/plain": "<IPython.core.display.HTML object>"
         },
         "metadata": {},
         "output_type": "display_data"
        }
       ]
      }
     },
     "438fb54fffd64410a8645330eae639a1": {
      "model_module": "@jupyter-widgets/base",
      "model_module_version": "1.2.0",
      "model_name": "LayoutModel",
      "state": {}
     },
     "46dc33bef38442bfb4fec245a89937ee": {
      "model_module": "@jupyter-widgets/controls",
      "model_module_version": "1.5.0",
      "model_name": "IntSliderModel",
      "state": {
       "description": "(3, 7)",
       "layout": "IPY_MODEL_fb63ece9cb7c4efd9dfcf250eeb82cbf",
       "max": 6,
       "style": "IPY_MODEL_3de5ee16f2734f558673880ec450eba0"
      }
     },
     "49c4239aaab84683a5505658bfe53c6d": {
      "model_module": "@jupyter-widgets/base",
      "model_module_version": "1.2.0",
      "model_name": "LayoutModel",
      "state": {
       "width": "34px"
      }
     },
     "4ef35119ce2a41248cc7cdbfab736578": {
      "model_module": "@jupyter-widgets/controls",
      "model_module_version": "1.5.0",
      "model_name": "DescriptionStyleModel",
      "state": {
       "description_width": ""
      }
     },
     "569ae63b9af448fcb90ccba0101d33e6": {
      "model_module": "@jupyter-widgets/output",
      "model_module_version": "1.0.0",
      "model_name": "OutputModel",
      "state": {
       "layout": "IPY_MODEL_c3b7917d0cce40898f3e9eee94584cd1",
       "outputs": [
        {
         "data": {
          "text/html": "<div>\n<style scoped>\n    .dataframe tbody tr th:only-of-type {\n        vertical-align: middle;\n    }\n\n    .dataframe tbody tr th {\n        vertical-align: top;\n    }\n\n    .dataframe thead th {\n        text-align: right;\n    }\n</style>\n<table border=\"1\" class=\"dataframe\">\n  <thead>\n    <tr style=\"text-align: right;\">\n      <th></th>\n      <th>SMILES</th>\n      <th>formula</th>\n      <th>atoms</th>\n      <th>energy</th>\n      <th>maxforce</th>\n      <th>opt</th>\n      <th>conf_no</th>\n    </tr>\n  </thead>\n  <tbody>\n    <tr>\n      <th>0</th>\n      <td>CCC</td>\n      <td>C3H8</td>\n      <td>(Atom('C', [-1.2607, 0.176...</td>\n      <td>-43.633385</td>\n      <td>2.343911</td>\n      <td>False</td>\n      <td>NaN</td>\n    </tr>\n    <tr>\n      <th>1</th>\n      <td>CCC</td>\n      <td>C3H8</td>\n      <td>(Atom('C', [1.2552, 0.1131...</td>\n      <td>-43.703284</td>\n      <td>1.424860</td>\n      <td>False</td>\n      <td>0.0</td>\n    </tr>\n    <tr>\n      <th>2</th>\n      <td>CCC</td>\n      <td>C3H8</td>\n      <td>(Atom('C', [-1.28274285991...</td>\n      <td>-43.986961</td>\n      <td>0.033113</td>\n      <td>True</td>\n      <td>NaN</td>\n    </tr>\n  </tbody>\n</table>\n</div>",
          "text/plain": "  SMILES formula                          atoms     energy  maxforce    opt  \\\n0    CCC    C3H8  (Atom('C', [-1.2607, 0.176... -43.633385  2.343911  False   \n1    CCC    C3H8  (Atom('C', [1.2552, 0.1131... -43.703284  1.424860  False   \n2    CCC    C3H8  (Atom('C', [-1.28274285991... -43.986961  0.033113   True   \n\n   conf_no  \n0      NaN  \n1      0.0  \n2      NaN  "
         },
         "metadata": {},
         "output_type": "display_data"
        }
       ]
      }
     },
     "58be15e2e2b84be1ad1811fe2ab50956": {
      "model_module": "@jupyter-widgets/base",
      "model_module_version": "1.2.0",
      "model_name": "LayoutModel",
      "state": {
       "border": "0px",
       "height": "27px",
       "width": "200px"
      }
     },
     "5930b1a4073d4bc9a84bb83809575ac3": {
      "model_module": "@jupyter-widgets/base",
      "model_module_version": "1.2.0",
      "model_name": "LayoutModel",
      "state": {}
     },
     "593c5954c679410883469eada1d863c4": {
      "model_module": "@jupyter-widgets/base",
      "model_module_version": "1.2.0",
      "model_name": "LayoutModel",
      "state": {
       "border": "1px solid gray",
       "height": "450px",
       "width": "550px"
      }
     },
     "5c1255f6a6b543ee8d5866208d9670cd": {
      "model_module": "@jupyter-widgets/base",
      "model_module_version": "1.2.0",
      "model_name": "LayoutModel",
      "state": {}
     },
     "5d82b7cfe838451ea0d963b01b774bc8": {
      "model_module": "@jupyter-widgets/controls",
      "model_module_version": "1.5.0",
      "model_name": "PlayModel",
      "state": {
       "layout": "IPY_MODEL_a166220ce20c42b08f3d2d78ae9d4daa",
       "max": 0,
       "style": "IPY_MODEL_7fd7b984345b4086a756db1253261fdd"
      }
     },
     "62a30a6f1ee84be887c00c8a306e94a3": {
      "model_module": "@jupyter-widgets/base",
      "model_module_version": "1.2.0",
      "model_name": "LayoutModel",
      "state": {
       "width": "80px"
      }
     },
     "6377b980e579401c813aee344d2186e4": {
      "model_module": "@jupyter-widgets/controls",
      "model_module_version": "1.5.0",
      "model_name": "VBoxModel",
      "state": {
       "children": [
        "IPY_MODEL_ba7a8173ebc44db586190ea604a999d7",
        "IPY_MODEL_20d761863f684992bb90153ded0bd66d"
       ],
       "layout": "IPY_MODEL_e82b5d447fcc4a9e816264c24d7a4344"
      }
     },
     "65aed039fdf34840b00dc58fe86f1cc4": {
      "model_module": "@jupyter-widgets/controls",
      "model_module_version": "1.5.0",
      "model_name": "DescriptionStyleModel",
      "state": {
       "description_width": ""
      }
     },
     "660277257c0f4ffb88e6d7d6b6b525bf": {
      "model_module": "@jupyter-widgets/controls",
      "model_module_version": "1.5.0",
      "model_name": "VBoxModel",
      "state": {
       "children": [
        "IPY_MODEL_18a18b205d09428b991c36b5da0ea60a",
        "IPY_MODEL_b7b81ce97e6345cf9a226ab90153bc3b"
       ],
       "layout": "IPY_MODEL_ac01b5f5564245388ee0508454814243"
      }
     },
     "6d1beb1896064d73bff1e1f8a5d78972": {
      "model_module": "@jupyter-widgets/base",
      "model_module_version": "1.2.0",
      "model_name": "LayoutModel",
      "state": {
       "width": "140px"
      }
     },
     "738fa7d63c0d4a5eb77e0888b4773cfd": {
      "model_module": "@jupyter-widgets/controls",
      "model_module_version": "1.5.0",
      "model_name": "DescriptionStyleModel",
      "state": {
       "description_width": "30px"
      }
     },
     "759cabfa03344252920abe482238437e": {
      "model_module": "@jupyter-widgets/controls",
      "model_module_version": "1.5.0",
      "model_name": "DescriptionStyleModel",
      "state": {
       "description_width": "30px"
      }
     },
     "7a132aa2d4d34bc9b584465799331817": {
      "model_module": "@jupyter-widgets/controls",
      "model_module_version": "1.5.0",
      "model_name": "DescriptionStyleModel",
      "state": {
       "description_width": ""
      }
     },
     "7f1eadc48d9f40c88e6a1ce4916d4546": {
      "model_module": "@jupyter-widgets/controls",
      "model_module_version": "1.5.0",
      "model_name": "SliderStyleModel",
      "state": {
       "description_width": ""
      }
     },
     "7fd7b984345b4086a756db1253261fdd": {
      "model_module": "@jupyter-widgets/controls",
      "model_module_version": "1.5.0",
      "model_name": "DescriptionStyleModel",
      "state": {
       "description_width": ""
      }
     },
     "804212e24ba0446b9074eb414bf1ce34": {
      "model_module": "nglview-js-widgets",
      "model_module_version": "3.0.1",
      "model_name": "ColormakerRegistryModel",
      "state": {
       "_msg_ar": [],
       "_msg_q": [],
       "_ready": true,
       "layout": "IPY_MODEL_3a47b44d6dd44283970dd37d80d3ce46"
      }
     },
     "86450bd13765431ea0abf0f9a6bcdbb9": {
      "model_module": "@jupyter-widgets/controls",
      "model_module_version": "1.5.0",
      "model_name": "ButtonStyleModel",
      "state": {}
     },
     "8686795a06d0401a85d9eed63ab679af": {
      "model_module": "@jupyter-widgets/controls",
      "model_module_version": "1.5.0",
      "model_name": "LinkModel",
      "state": {
       "source": [
        "IPY_MODEL_936a824432ef4c4ba66e216aef13471b",
        "max"
       ],
       "target": [
        "IPY_MODEL_ba7a8173ebc44db586190ea604a999d7",
        "max_frame"
       ]
      }
     },
     "8c1067cb4f2f4e8d9e1ede70a6202c60": {
      "model_module": "@jupyter-widgets/controls",
      "model_module_version": "1.5.0",
      "model_name": "ButtonModel",
      "state": {
       "description": "plot",
       "layout": "IPY_MODEL_a9f9277ffe134322860a9cf26f437360",
       "style": "IPY_MODEL_1c508c363f434f2887954753f521487b"
      }
     },
     "91209484f5d3453493a1bc37a91b2249": {
      "model_module": "@jupyter-widgets/controls",
      "model_module_version": "1.5.0",
      "model_name": "LinkModel",
      "state": {
       "source": [
        "IPY_MODEL_5d82b7cfe838451ea0d963b01b774bc8",
        "value"
       ],
       "target": [
        "IPY_MODEL_ba7a8173ebc44db586190ea604a999d7",
        "frame"
       ]
      }
     },
     "9343175e10cf4c779f1a7aec38d99f00": {
      "model_module": "@jupyter-widgets/base",
      "model_module_version": "1.2.0",
      "model_name": "LayoutModel",
      "state": {}
     },
     "936a824432ef4c4ba66e216aef13471b": {
      "model_module": "@jupyter-widgets/controls",
      "model_module_version": "1.5.0",
      "model_name": "IntSliderModel",
      "state": {
       "layout": "IPY_MODEL_5c1255f6a6b543ee8d5866208d9670cd",
       "max": 0,
       "style": "IPY_MODEL_7f1eadc48d9f40c88e6a1ce4916d4546"
      }
     },
     "98c3c96160d94983827a3faf614516c5": {
      "model_module": "@jupyter-widgets/controls",
      "model_module_version": "1.5.0",
      "model_name": "HBoxModel",
      "state": {
       "children": [
        "IPY_MODEL_d6767401a7ff4102b69377d1f4ace9d4",
        "IPY_MODEL_dc10a4ebda984e7d9a14c0c0b626a288",
        "IPY_MODEL_d9a6f5bfbd6c40f1b3fe70e5ee046832"
       ],
       "layout": "IPY_MODEL_1f587950e4044b66ac235e8e1d106eec"
      }
     },
     "99cbc64d3b2341849371023b574ae09e": {
      "model_module": "@jupyter-widgets/controls",
      "model_module_version": "1.5.0",
      "model_name": "LinkModel",
      "state": {
       "source": [
        "IPY_MODEL_5d82b7cfe838451ea0d963b01b774bc8",
        "max"
       ],
       "target": [
        "IPY_MODEL_ba7a8173ebc44db586190ea604a999d7",
        "max_frame"
       ]
      }
     },
     "9c38737f11eb4d98a5e1f13f16c8279c": {
      "model_module": "@jupyter-widgets/controls",
      "model_module_version": "1.5.0",
      "model_name": "CheckboxModel",
      "state": {
       "description": "axes",
       "disabled": false,
       "indent": false,
       "layout": "IPY_MODEL_120ea4cc3b8f4c56a9a8ac021895f1d9",
       "style": "IPY_MODEL_7a132aa2d4d34bc9b584465799331817",
       "value": false
      }
     },
     "9c907550a0564b8190384d284d454bc9": {
      "model_module": "@jupyter-widgets/controls",
      "model_module_version": "1.5.0",
      "model_name": "CheckboxModel",
      "state": {
       "description": "chage",
       "disabled": false,
       "indent": false,
       "layout": "IPY_MODEL_d38f894f3c94436594f0c5fbaaa95eff",
       "style": "IPY_MODEL_290db8d4c31144fc9353944e1dfb88db",
       "value": false
      }
     },
     "9da0299625e845c5aa81ae9837868313": {
      "model_module": "@jupyter-widgets/controls",
      "model_module_version": "1.5.0",
      "model_name": "CheckboxModel",
      "state": {
       "description": "force",
       "disabled": false,
       "indent": false,
       "layout": "IPY_MODEL_62a30a6f1ee84be887c00c8a306e94a3",
       "style": "IPY_MODEL_4ef35119ce2a41248cc7cdbfab736578",
       "value": false
      }
     },
     "9fbc2efd422f442c93ef1d121f6d7bfb": {
      "model_module": "@jupyter-widgets/base",
      "model_module_version": "1.2.0",
      "model_name": "LayoutModel",
      "state": {
       "height": "290px",
       "width": "440px"
      }
     },
     "9fce1d640f174365a50d4385d23ab506": {
      "model_module": "@jupyter-widgets/base",
      "model_module_version": "1.2.0",
      "model_name": "LayoutModel",
      "state": {}
     },
     "a166220ce20c42b08f3d2d78ae9d4daa": {
      "model_module": "@jupyter-widgets/base",
      "model_module_version": "1.2.0",
      "model_name": "LayoutModel",
      "state": {}
     },
     "a347812efe8c47048c160954fd02ef33": {
      "model_module": "@jupyter-widgets/controls",
      "model_module_version": "1.5.0",
      "model_name": "DescriptionStyleModel",
      "state": {
       "description_width": ""
      }
     },
     "a6d6703ef4ad49fab6bd7a467cce9561": {
      "model_module": "@jupyter-widgets/base",
      "model_module_version": "1.2.0",
      "model_name": "LayoutModel",
      "state": {
       "width": "80px"
      }
     },
     "a9f9277ffe134322860a9cf26f437360": {
      "model_module": "@jupyter-widgets/base",
      "model_module_version": "1.2.0",
      "model_name": "LayoutModel",
      "state": {
       "width": "100px"
      }
     },
     "ac01b5f5564245388ee0508454814243": {
      "model_module": "@jupyter-widgets/base",
      "model_module_version": "1.2.0",
      "model_name": "LayoutModel",
      "state": {}
     },
     "b7b81ce97e6345cf9a226ab90153bc3b": {
      "model_module": "@jupyter-widgets/controls",
      "model_module_version": "1.5.0",
      "model_name": "HBoxModel",
      "state": {
       "children": [
        "IPY_MODEL_07538bf1234d44949d1af2fed499fd40",
        "IPY_MODEL_f10f089dc92c409e8a3fae265ee58662"
       ],
       "layout": "IPY_MODEL_2b05623ebfe3411d8efe57fe4fb46c48"
      }
     },
     "b8eceee39409499db4fa52520dd41bdf": {
      "model_module": "@jupyter-widgets/controls",
      "model_module_version": "1.5.0",
      "model_name": "VBoxModel",
      "state": {
       "children": [
        "IPY_MODEL_cfc8c0bac03e4be7b963e9d49ddd9f36",
        "IPY_MODEL_98c3c96160d94983827a3faf614516c5"
       ],
       "layout": "IPY_MODEL_9fce1d640f174365a50d4385d23ab506"
      }
     },
     "ba7a8173ebc44db586190ea604a999d7": {
      "model_module": "nglview-js-widgets",
      "model_module_version": "3.0.1",
      "model_name": "NGLModel",
      "state": {
       "_camera_orientation": [
        13.048371873257803,
        0.829678529684933,
        0.8758541062196048,
        0,
        -1.172371239964711,
        10.964829914847254,
        7.079092175907972,
        0,
        -0.2846621747009941,
        -7.127386189668538,
        10.992489662057642,
        0,
        0.004999995231628418,
        -0.20099997520446777,
        -0.07999998331069946,
        1
       ],
       "_camera_str": "orthographic",
       "_gui_theme": null,
       "_ibtn_fullscreen": "IPY_MODEL_320470f4032046099482246bd96e4467",
       "_igui": null,
       "_iplayer": "IPY_MODEL_de2d4bd127674977ba63ddb6ab0a03c3",
       "_ngl_color_dict": {},
       "_ngl_coordinate_resource": {},
       "_ngl_full_stage_parameters": {
        "ambientColor": 14540253,
        "ambientIntensity": 0.2,
        "backgroundColor": "white",
        "cameraEyeSep": 0.3,
        "cameraFov": 40,
        "cameraType": "perspective",
        "clipDist": 10,
        "clipFar": 100,
        "clipNear": 0,
        "fogFar": 100,
        "fogNear": 50,
        "hoverTimeout": 0,
        "impostor": true,
        "lightColor": 14540253,
        "lightIntensity": 1,
        "mousePreset": "default",
        "panSpeed": 1,
        "quality": "medium",
        "rotateSpeed": 2,
        "sampleLevel": 0,
        "tooltip": true,
        "workerDefault": true,
        "zoomSpeed": 1.2
       },
       "_ngl_msg_archive": [
        {
         "args": [
          {
           "binary": false,
           "data": "MODEL     1\nATOM      1    C MOL     1       0.759  -0.061   0.048  1.00  0.00           C  \nATOM      2    C MOL     1      -0.732   0.045  -0.077  1.00  0.00           C  \nATOM      3    H MOL     1       1.246  -0.620  -0.759  1.00  0.00           H  \nATOM      4    H MOL     1       1.216   0.955   0.154  1.00  0.00           H  \nATOM      5    H MOL     1       0.964  -0.631   0.992  1.00  0.00           H  \nATOM      6    H MOL     1      -1.040   1.063  -0.429  1.00  0.00           H  \nATOM      7    H MOL     1      -1.256  -0.090   0.903  1.00  0.00           H  \nATOM      8    H MOL     1      -1.159  -0.661  -0.832  1.00  0.00           H  \nENDMDL\n",
           "type": "blob"
          }
         ],
         "kwargs": {
          "defaultRepresentation": true,
          "ext": "pdb"
         },
         "methodName": "loadFile",
         "reconstruc_color_scheme": false,
         "target": "Stage",
         "type": "call_method"
        },
        {
         "args": [
          "this._Q = [[1.0, 0.0, 0.0], [0.0, 1.0, 0.0], [0.0, 0.0, 1.0]]\n    var tooltip = document.createElement('div');\n    Object.assign(tooltip.style, {\n      display: 'none',\n      position: 'fixed',\n      zIndex: 10,\n      pointerEvents: 'none',\n      backgroundColor: 'rgba( 0, 0, 0, 0.6 )',\n      color: 'lightgrey',\n      padding: '8px',\n      fontFamily: 'sans-serif'\n    });\n    document.body.appendChild(tooltip);\n\n    var that = this;\n    this.stage.mouseControls.remove('hoverPick');\n    this.stage.signals.hovered.add(function (pickingProxy) {\n      if (pickingProxy && (pickingProxy.atom || pickingProxy.bond)) {\n        var atom = pickingProxy.atom || pickingProxy.closestBondAtom\n        var mp = pickingProxy.mouse.position\n        //tooltip.innerText = atom.element + ' i=' + atom.index + ' (' + atom.x.toFixed(2) +  ', ' + atom.y.toFixed(2) +  ', ' + atom.z.toFixed(2) + ')'\n        //var pos = that._atoms_pos[atom.index]\n        var Q = that._Q\n        var pos_x = Q[0][0] * atom.x + Q[0][1] * atom.y + Q[0][2] * atom.z \n        var pos_y = Q[1][0] * atom.x + Q[1][1] * atom.y + Q[1][2] * atom.z\n        var pos_z = Q[2][0] * atom.x + Q[2][1] * atom.y + Q[2][2] * atom.z\n        tooltip.innerText = 'i=' + atom.index + ' ' + atom.element + ' (' + pos_x.toFixed(2) +  ', ' + pos_y.toFixed(2) +  ', ' + pos_z.toFixed(2) + ')'\n        tooltip.style.bottom = window.innerHeight - mp.y + 3 + 'px'\n        tooltip.style.left = mp.x + 3 + 'px'\n        tooltip.style.display = 'block'\n      } else {\n        tooltip.style.display = 'none'\n      }\n    });\n    this.stage.tooltip = tooltip;\n    "
         ],
         "kwargs": {},
         "methodName": "executeCode",
         "reconstruc_color_scheme": false,
         "target": "Widget",
         "type": "call_method"
        },
        {
         "args": [
          "label",
          0
         ],
         "kwargs": {},
         "methodName": "removeRepresentationsByName",
         "reconstruc_color_scheme": false,
         "target": "Widget",
         "type": "call_method"
        },
        {
         "args": [
          "label",
          0
         ],
         "kwargs": {},
         "methodName": "removeRepresentationsByName",
         "reconstruc_color_scheme": false,
         "target": "Widget",
         "type": "call_method"
        },
        {
         "args": [
          "label",
          0
         ],
         "kwargs": {},
         "methodName": "removeRepresentationsByName",
         "reconstruc_color_scheme": false,
         "target": "Widget",
         "type": "call_method"
        },
        {
         "args": [
          {
           "data": "MODEL     1\nATOM      1    C MOL     1      -1.261   0.176  -0.027  1.00  0.00           C  \nATOM      2    C MOL     1       0.031  -0.529   0.222  1.00  0.00           C  \nATOM      3    C MOL     1       1.243   0.261  -0.157  1.00  0.00           C  \nATOM      4    H MOL     1      -1.139   1.229  -0.352  1.00  0.00           H  \nATOM      5    H MOL     1      -1.894  -0.353  -0.792  1.00  0.00           H  \nATOM      6    H MOL     1      -1.908   0.207   0.893  1.00  0.00           H  \nATOM      7    H MOL     1       0.034  -1.469  -0.359  1.00  0.00           H  \nATOM      8    H MOL     1       0.090  -0.808   1.304  1.00  0.00           H  \nATOM      9    H MOL     1       1.130   1.351  -0.019  1.00  0.00           H  \nATOM     10    H MOL     1       2.109  -0.061   0.488  1.00  0.00           H  \nATOM     11    H MOL     1       1.565  -0.004  -1.202  1.00  0.00           H  \nENDMDL\n",
           "ext": "pdb"
          }
         ],
         "kwargs": {},
         "methodName": "replaceStructure",
         "reconstruc_color_scheme": false,
         "target": "Widget",
         "type": "call_method"
        },
        {
         "args": [
          "this._Q = [[1.0, 0.0, 0.0], [0.0, 1.0, 0.0], [0.0, 0.0, 1.0]]\n    var tooltip = document.createElement('div');\n    Object.assign(tooltip.style, {\n      display: 'none',\n      position: 'fixed',\n      zIndex: 10,\n      pointerEvents: 'none',\n      backgroundColor: 'rgba( 0, 0, 0, 0.6 )',\n      color: 'lightgrey',\n      padding: '8px',\n      fontFamily: 'sans-serif'\n    });\n    document.body.appendChild(tooltip);\n\n    var that = this;\n    this.stage.mouseControls.remove('hoverPick');\n    this.stage.signals.hovered.add(function (pickingProxy) {\n      if (pickingProxy && (pickingProxy.atom || pickingProxy.bond)) {\n        var atom = pickingProxy.atom || pickingProxy.closestBondAtom\n        var mp = pickingProxy.mouse.position\n        //tooltip.innerText = atom.element + ' i=' + atom.index + ' (' + atom.x.toFixed(2) +  ', ' + atom.y.toFixed(2) +  ', ' + atom.z.toFixed(2) + ')'\n        //var pos = that._atoms_pos[atom.index]\n        var Q = that._Q\n        var pos_x = Q[0][0] * atom.x + Q[0][1] * atom.y + Q[0][2] * atom.z \n        var pos_y = Q[1][0] * atom.x + Q[1][1] * atom.y + Q[1][2] * atom.z\n        var pos_z = Q[2][0] * atom.x + Q[2][1] * atom.y + Q[2][2] * atom.z\n        tooltip.innerText = 'i=' + atom.index + ' ' + atom.element + ' (' + pos_x.toFixed(2) +  ', ' + pos_y.toFixed(2) +  ', ' + pos_z.toFixed(2) + ')'\n        tooltip.style.bottom = window.innerHeight - mp.y + 3 + 'px'\n        tooltip.style.left = mp.x + 3 + 'px'\n        tooltip.style.display = 'block'\n      } else {\n        tooltip.style.display = 'none'\n      }\n    });\n    this.stage.tooltip = tooltip;\n    "
         ],
         "kwargs": {},
         "methodName": "executeCode",
         "reconstruc_color_scheme": false,
         "target": "Widget",
         "type": "call_method"
        },
        {
         "args": [
          "label",
          0
         ],
         "kwargs": {},
         "methodName": "removeRepresentationsByName",
         "reconstruc_color_scheme": false,
         "target": "Widget",
         "type": "call_method"
        },
        {
         "args": [
          "label",
          0
         ],
         "kwargs": {},
         "methodName": "removeRepresentationsByName",
         "reconstruc_color_scheme": false,
         "target": "Widget",
         "type": "call_method"
        },
        {
         "args": [
          "label",
          0
         ],
         "kwargs": {},
         "methodName": "removeRepresentationsByName",
         "reconstruc_color_scheme": false,
         "target": "Widget",
         "type": "call_method"
        },
        {
         "args": [
          "label",
          0
         ],
         "kwargs": {},
         "methodName": "removeRepresentationsByName",
         "reconstruc_color_scheme": false,
         "target": "Widget",
         "type": "call_method"
        },
        {
         "args": [
          "label",
          0
         ],
         "kwargs": {},
         "methodName": "removeRepresentationsByName",
         "reconstruc_color_scheme": false,
         "target": "Widget",
         "type": "call_method"
        },
        {
         "args": [
          "label",
          0
         ],
         "kwargs": {},
         "methodName": "removeRepresentationsByName",
         "reconstruc_color_scheme": false,
         "target": "Widget",
         "type": "call_method"
        },
        {
         "args": [
          "label",
          0
         ],
         "kwargs": {},
         "methodName": "removeRepresentationsByName",
         "reconstruc_color_scheme": false,
         "target": "Widget",
         "type": "call_method"
        },
        {
         "args": [
          "label",
          0
         ],
         "kwargs": {},
         "methodName": "removeRepresentationsByName",
         "reconstruc_color_scheme": false,
         "target": "Widget",
         "type": "call_method"
        },
        {
         "args": [
          "label",
          0
         ],
         "kwargs": {},
         "methodName": "removeRepresentationsByName",
         "reconstruc_color_scheme": false,
         "target": "Widget",
         "type": "call_method"
        },
        {
         "args": [
          "label",
          0
         ],
         "kwargs": {},
         "methodName": "removeRepresentationsByName",
         "reconstruc_color_scheme": false,
         "target": "Widget",
         "type": "call_method"
        },
        {
         "args": [
          "label",
          0
         ],
         "kwargs": {},
         "methodName": "removeRepresentationsByName",
         "reconstruc_color_scheme": false,
         "target": "Widget",
         "type": "call_method"
        },
        {
         "args": [
          "label",
          0
         ],
         "kwargs": {},
         "methodName": "removeRepresentationsByName",
         "reconstruc_color_scheme": false,
         "target": "Widget",
         "type": "call_method"
        },
        {
         "args": [
          "label",
          0
         ],
         "kwargs": {},
         "methodName": "removeRepresentationsByName",
         "reconstruc_color_scheme": false,
         "target": "Widget",
         "type": "call_method"
        },
        {
         "args": [
          "label",
          0
         ],
         "kwargs": {},
         "methodName": "removeRepresentationsByName",
         "reconstruc_color_scheme": false,
         "target": "Widget",
         "type": "call_method"
        },
        {
         "args": [
          "label",
          0
         ],
         "kwargs": {},
         "methodName": "removeRepresentationsByName",
         "reconstruc_color_scheme": false,
         "target": "Widget",
         "type": "call_method"
        },
        {
         "args": [
          "label",
          0
         ],
         "kwargs": {},
         "methodName": "removeRepresentationsByName",
         "reconstruc_color_scheme": false,
         "target": "Widget",
         "type": "call_method"
        },
        {
         "args": [
          "label",
          0
         ],
         "kwargs": {},
         "methodName": "removeRepresentationsByName",
         "reconstruc_color_scheme": false,
         "target": "Widget",
         "type": "call_method"
        },
        {
         "args": [
          "label",
          0
         ],
         "kwargs": {},
         "methodName": "removeRepresentationsByName",
         "reconstruc_color_scheme": false,
         "target": "Widget",
         "type": "call_method"
        },
        {
         "args": [
          "label",
          0
         ],
         "kwargs": {},
         "methodName": "removeRepresentationsByName",
         "reconstruc_color_scheme": false,
         "target": "Widget",
         "type": "call_method"
        },
        {
         "args": [
          "label"
         ],
         "component_index": 0,
         "kwargs": {
          "attachment": "middle_center",
          "color": "blue",
          "labelText": [
           "",
           "",
           "",
           "",
           "",
           "",
           "",
           "",
           "",
           "",
           ""
          ],
          "labelType": "text",
          "radius": 1.2,
          "sele": "all",
          "zOffset": 2
         },
         "methodName": "addRepresentation",
         "reconstruc_color_scheme": false,
         "target": "compList",
         "type": "call_method"
        },
        {
         "args": [
          "label"
         ],
         "component_index": 0,
         "kwargs": {
          "attachment": "middle_center",
          "color": "rgb(255, 180, 180)",
          "labelText": [
           "-0.1",
           "",
           "-0.1",
           "",
           "",
           "",
           "",
           "",
           "",
           "",
           ""
          ],
          "labelType": "text",
          "radius": 1.2,
          "sele": "all",
          "zOffset": 2
         },
         "methodName": "addRepresentation",
         "reconstruc_color_scheme": false,
         "target": "compList",
         "type": "call_method"
        },
        {
         "args": [
          "label",
          0
         ],
         "kwargs": {},
         "methodName": "removeRepresentationsByName",
         "reconstruc_color_scheme": false,
         "target": "Widget",
         "type": "call_method"
        },
        {
         "args": [
          "label",
          0
         ],
         "kwargs": {},
         "methodName": "removeRepresentationsByName",
         "reconstruc_color_scheme": false,
         "target": "Widget",
         "type": "call_method"
        },
        {
         "args": [
          "label",
          0
         ],
         "kwargs": {},
         "methodName": "removeRepresentationsByName",
         "reconstruc_color_scheme": false,
         "target": "Widget",
         "type": "call_method"
        },
        {
         "args": [
          "label",
          0
         ],
         "kwargs": {},
         "methodName": "removeRepresentationsByName",
         "reconstruc_color_scheme": false,
         "target": "Widget",
         "type": "call_method"
        },
        {
         "args": [
          "label",
          0
         ],
         "kwargs": {},
         "methodName": "removeRepresentationsByName",
         "reconstruc_color_scheme": false,
         "target": "Widget",
         "type": "call_method"
        },
        {
         "args": [
          "label",
          0
         ],
         "kwargs": {},
         "methodName": "removeRepresentationsByName",
         "reconstruc_color_scheme": false,
         "target": "Widget",
         "type": "call_method"
        },
        {
         "args": [
          "label",
          0
         ],
         "kwargs": {},
         "methodName": "removeRepresentationsByName",
         "reconstruc_color_scheme": false,
         "target": "Widget",
         "type": "call_method"
        },
        {
         "args": [
          "label",
          0
         ],
         "kwargs": {},
         "methodName": "removeRepresentationsByName",
         "reconstruc_color_scheme": false,
         "target": "Widget",
         "type": "call_method"
        },
        {
         "args": [
          "label",
          0
         ],
         "kwargs": {},
         "methodName": "removeRepresentationsByName",
         "reconstruc_color_scheme": false,
         "target": "Widget",
         "type": "call_method"
        },
        {
         "args": [
          "label",
          0
         ],
         "kwargs": {},
         "methodName": "removeRepresentationsByName",
         "reconstruc_color_scheme": false,
         "target": "Widget",
         "type": "call_method"
        },
        {
         "args": [
          "label",
          0
         ],
         "kwargs": {},
         "methodName": "removeRepresentationsByName",
         "reconstruc_color_scheme": false,
         "target": "Widget",
         "type": "call_method"
        },
        {
         "args": [
          "label",
          0
         ],
         "kwargs": {},
         "methodName": "removeRepresentationsByName",
         "reconstruc_color_scheme": false,
         "target": "Widget",
         "type": "call_method"
        },
        {
         "args": [
          "label",
          0
         ],
         "kwargs": {},
         "methodName": "removeRepresentationsByName",
         "reconstruc_color_scheme": false,
         "target": "Widget",
         "type": "call_method"
        },
        {
         "args": [
          "label"
         ],
         "component_index": 0,
         "kwargs": {
          "attachment": "middle_center",
          "color": "black",
          "labelText": [
           "0",
           "1",
           "2",
           "3",
           "4",
           "5",
           "6",
           "7",
           "8",
           "9",
           "10"
          ],
          "labelType": "text",
          "radius": 1.5,
          "sele": "all",
          "zOffset": 1
         },
         "methodName": "addRepresentation",
         "reconstruc_color_scheme": false,
         "target": "compList",
         "type": "call_method"
        },
        {
         "args": [
          "label",
          0
         ],
         "kwargs": {},
         "methodName": "removeRepresentationsByName",
         "reconstruc_color_scheme": false,
         "target": "Widget",
         "type": "call_method"
        },
        {
         "args": [
          "label",
          0
         ],
         "kwargs": {},
         "methodName": "removeRepresentationsByName",
         "reconstruc_color_scheme": false,
         "target": "Widget",
         "type": "call_method"
        },
        {
         "args": [
          "label",
          0
         ],
         "kwargs": {},
         "methodName": "removeRepresentationsByName",
         "reconstruc_color_scheme": false,
         "target": "Widget",
         "type": "call_method"
        }
       ],
       "_ngl_original_stage_parameters": {
        "ambientColor": 14540253,
        "ambientIntensity": 0.2,
        "backgroundColor": "white",
        "cameraEyeSep": 0.3,
        "cameraFov": 40,
        "cameraType": "perspective",
        "clipDist": 10,
        "clipFar": 100,
        "clipNear": 0,
        "fogFar": 100,
        "fogNear": 50,
        "hoverTimeout": 0,
        "impostor": true,
        "lightColor": 14540253,
        "lightIntensity": 1,
        "mousePreset": "default",
        "panSpeed": 1,
        "quality": "medium",
        "rotateSpeed": 2,
        "sampleLevel": 0,
        "tooltip": true,
        "workerDefault": true,
        "zoomSpeed": 1.2
       },
       "_ngl_repr_dict": {
        "0": {
         "0": {
          "params": {
           "aspectRatio": 1.5,
           "assembly": "default",
           "bondScale": 0.3,
           "bondSpacing": 0.75,
           "clipCenter": {
            "x": 0,
            "y": 0,
            "z": 0
           },
           "clipNear": 0,
           "clipRadius": 0,
           "colorMode": "hcl",
           "colorReverse": false,
           "colorScale": "",
           "colorScheme": "element",
           "colorValue": 9474192,
           "cylinderOnly": false,
           "defaultAssembly": "",
           "depthWrite": true,
           "diffuse": 16777215,
           "diffuseInterior": false,
           "disableImpostor": false,
           "disablePicking": false,
           "flatShaded": false,
           "interiorColor": 2236962,
           "interiorDarkening": 0,
           "lazy": false,
           "lineOnly": false,
           "linewidth": 2,
           "matrix": {
            "elements": [
             1,
             0,
             0,
             0,
             0,
             1,
             0,
             0,
             0,
             0,
             1,
             0,
             0,
             0,
             0,
             1
            ]
           },
           "metalness": 0,
           "multipleBond": "off",
           "opacity": 1,
           "openEnded": true,
           "quality": "high",
           "radialSegments": 20,
           "radiusData": {},
           "radiusScale": 2,
           "radiusSize": 0.15,
           "radiusType": "size",
           "roughness": 0.4,
           "sele": "",
           "side": "double",
           "sphereDetail": 2,
           "useInteriorColor": true,
           "visible": true,
           "wireframe": false
          },
          "type": "ball+stick"
         }
        }
       },
       "_ngl_serialize": false,
       "_ngl_version": "2.0.0-dev.36",
       "_ngl_view_id": [
        "6F555EEE-C46E-47B7-82BC-C4C3222C579C"
       ],
       "_player_dict": {},
       "_scene_position": {},
       "_scene_rotation": {},
       "_synced_model_ids": [],
       "_synced_repr_model_ids": [],
       "_view_height": "340px",
       "_view_width": "400px",
       "background": "white",
       "frame": 0,
       "gui_style": null,
       "layout": "IPY_MODEL_9343175e10cf4c779f1a7aec38d99f00",
       "max_frame": 0,
       "n_components": 1,
       "picked": {}
      }
     },
     "c11a77a08290438c85c25aa91d9ba676": {
      "model_module": "@jupyter-widgets/base",
      "model_module_version": "1.2.0",
      "model_name": "LayoutModel",
      "state": {
       "width": "140px"
      }
     },
     "c3b7917d0cce40898f3e9eee94584cd1": {
      "model_module": "@jupyter-widgets/base",
      "model_module_version": "1.2.0",
      "model_name": "LayoutModel",
      "state": {
       "border": "1px solid black",
       "height": "330px",
       "width": "600px"
      }
     },
     "cd080501faa44a2a83b84fed7c9e1c75": {
      "model_module": "@jupyter-widgets/controls",
      "model_module_version": "1.5.0",
      "model_name": "SelectModel",
      "state": {
       "_options_labels": [
        "SMILES",
        "formula",
        "atoms",
        "energy",
        "maxforce",
        "opt",
        "conf_no"
       ],
       "description": "col1:",
       "index": 3,
       "layout": "IPY_MODEL_58be15e2e2b84be1ad1811fe2ab50956",
       "rows": 1,
       "style": "IPY_MODEL_f6650a1c987140219f50e853761f56b3"
      }
     },
     "cd4f17bd719942d0a9ac7a04c709e010": {
      "model_module": "@jupyter-widgets/base",
      "model_module_version": "1.2.0",
      "model_name": "LayoutModel",
      "state": {}
     },
     "cdcbb2416c1744428a79c19e3a181cfc": {
      "model_module": "@jupyter-widgets/controls",
      "model_module_version": "1.5.0",
      "model_name": "CheckboxModel",
      "state": {
       "description": "index",
       "disabled": false,
       "indent": false,
       "layout": "IPY_MODEL_a6d6703ef4ad49fab6bd7a467cce9561",
       "style": "IPY_MODEL_65aed039fdf34840b00dc58fe86f1cc4",
       "value": false
      }
     },
     "cfc8c0bac03e4be7b963e9d49ddd9f36": {
      "model_module": "@jupyter-widgets/controls",
      "model_module_version": "1.5.0",
      "model_name": "VBoxModel",
      "state": {
       "children": [
        "IPY_MODEL_41fd7d1e7af84350a3e22c6512ea6ef7",
        "IPY_MODEL_ffb12cf62daf43ef8281d453fc7c0438"
       ],
       "layout": "IPY_MODEL_d0967c2935274d39973b7313095f5b3d"
      }
     },
     "d0967c2935274d39973b7313095f5b3d": {
      "model_module": "@jupyter-widgets/base",
      "model_module_version": "1.2.0",
      "model_name": "LayoutModel",
      "state": {}
     },
     "d38f894f3c94436594f0c5fbaaa95eff": {
      "model_module": "@jupyter-widgets/base",
      "model_module_version": "1.2.0",
      "model_name": "LayoutModel",
      "state": {
       "width": "80px"
      }
     },
     "d6767401a7ff4102b69377d1f4ace9d4": {
      "model_module": "@jupyter-widgets/controls",
      "model_module_version": "1.5.0",
      "model_name": "CheckboxModel",
      "state": {
       "description": "OPT",
       "disabled": false,
       "indent": false,
       "layout": "IPY_MODEL_f88c967cf3c04eafac6314862e0b5981",
       "style": "IPY_MODEL_a347812efe8c47048c160954fd02ef33",
       "value": true
      }
     },
     "d6e80ce41bdb4586a606b43e68616765": {
      "model_module": "@jupyter-widgets/controls",
      "model_module_version": "1.5.0",
      "model_name": "HBoxModel",
      "state": {
       "children": [
        "IPY_MODEL_cd080501faa44a2a83b84fed7c9e1c75",
        "IPY_MODEL_256dd52cc43e41c69fa2c3c3b1dbdb46",
        "IPY_MODEL_df9c0b5302fe479baff6ecf8fb3ecb9f",
        "IPY_MODEL_8c1067cb4f2f4e8d9e1ede70a6202c60"
       ],
       "layout": "IPY_MODEL_dff470bf00174cfeac54c89fe9a17e35"
      }
     },
     "d9a6f5bfbd6c40f1b3fe70e5ee046832": {
      "model_module": "@jupyter-widgets/controls",
      "model_module_version": "1.5.0",
      "model_name": "ButtonModel",
      "state": {
       "description": "Confomer serach",
       "layout": "IPY_MODEL_c11a77a08290438c85c25aa91d9ba676",
       "style": "IPY_MODEL_08bd959507c2409ba67f9b49cf2b3eb5"
      }
     },
     "dc10a4ebda984e7d9a14c0c0b626a288": {
      "model_module": "@jupyter-widgets/controls",
      "model_module_version": "1.5.0",
      "model_name": "ButtonModel",
      "state": {
       "description": "ADD IT",
       "layout": "IPY_MODEL_6d1beb1896064d73bff1e1f8a5d78972",
       "style": "IPY_MODEL_df12ac96a2db48faba4297a727b21d39"
      }
     },
     "dd98a993c5484ffea9de1ed104f79415": {
      "model_module": "@jupyter-widgets/output",
      "model_module_version": "1.0.0",
      "model_name": "OutputModel",
      "state": {
       "layout": "IPY_MODEL_593c5954c679410883469eada1d863c4",
       "outputs": [
        {
         "data": {
          "image/png": "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\n",
          "text/plain": "<Figure size 550x450 with 1 Axes>"
         },
         "metadata": {},
         "output_type": "display_data"
        }
       ]
      }
     },
     "de2d4bd127674977ba63ddb6ab0a03c3": {
      "model_module": "@jupyter-widgets/controls",
      "model_module_version": "1.5.0",
      "model_name": "HBoxModel",
      "state": {
       "children": [
        "IPY_MODEL_5d82b7cfe838451ea0d963b01b774bc8",
        "IPY_MODEL_936a824432ef4c4ba66e216aef13471b"
       ],
       "layout": "IPY_MODEL_f68a888ece554de3acb90de3d99b6756"
      }
     },
     "df12ac96a2db48faba4297a727b21d39": {
      "model_module": "@jupyter-widgets/controls",
      "model_module_version": "1.5.0",
      "model_name": "ButtonStyleModel",
      "state": {}
     },
     "df9c0b5302fe479baff6ecf8fb3ecb9f": {
      "model_module": "@jupyter-widgets/controls",
      "model_module_version": "1.5.0",
      "model_name": "CheckboxModel",
      "state": {
       "description": "yy ploy",
       "disabled": false,
       "layout": "IPY_MODEL_f03fcd5fe995425cbe261bd89cd8027d",
       "style": "IPY_MODEL_738fa7d63c0d4a5eb77e0888b4773cfd",
       "value": false
      }
     },
     "dff470bf00174cfeac54c89fe9a17e35": {
      "model_module": "@jupyter-widgets/base",
      "model_module_version": "1.2.0",
      "model_name": "LayoutModel",
      "state": {}
     },
     "e55d863fe4134fd29cb299c2f881d651": {
      "model_module": "@jupyter-widgets/base",
      "model_module_version": "1.2.0",
      "model_name": "LayoutModel",
      "state": {}
     },
     "e82b5d447fcc4a9e816264c24d7a4344": {
      "model_module": "@jupyter-widgets/base",
      "model_module_version": "1.2.0",
      "model_name": "LayoutModel",
      "state": {}
     },
     "f03fcd5fe995425cbe261bd89cd8027d": {
      "model_module": "@jupyter-widgets/base",
      "model_module_version": "1.2.0",
      "model_name": "LayoutModel",
      "state": {
       "width": "100px"
      }
     },
     "f064f0e1ca0b4c03933825d0fd8aeb0f": {
      "model_module": "@jupyter-widgets/controls",
      "model_module_version": "1.5.0",
      "model_name": "VBoxModel",
      "state": {
       "children": [
        "IPY_MODEL_d6e80ce41bdb4586a606b43e68616765",
        "IPY_MODEL_dd98a993c5484ffea9de1ed104f79415"
       ],
       "layout": "IPY_MODEL_cd4f17bd719942d0a9ac7a04c709e010"
      }
     },
     "f10f089dc92c409e8a3fae265ee58662": {
      "model_module": "@jupyter-widgets/controls",
      "model_module_version": "1.5.0",
      "model_name": "VBoxModel",
      "state": {
       "children": [
        "IPY_MODEL_46dc33bef38442bfb4fec245a89937ee",
        "IPY_MODEL_569ae63b9af448fcb90ccba0101d33e6"
       ],
       "layout": "IPY_MODEL_438fb54fffd64410a8645330eae639a1"
      }
     },
     "f6650a1c987140219f50e853761f56b3": {
      "model_module": "@jupyter-widgets/controls",
      "model_module_version": "1.5.0",
      "model_name": "DescriptionStyleModel",
      "state": {
       "description_width": "30px"
      }
     },
     "f68a888ece554de3acb90de3d99b6756": {
      "model_module": "@jupyter-widgets/base",
      "model_module_version": "1.2.0",
      "model_name": "LayoutModel",
      "state": {}
     },
     "f88c967cf3c04eafac6314862e0b5981": {
      "model_module": "@jupyter-widgets/base",
      "model_module_version": "1.2.0",
      "model_name": "LayoutModel",
      "state": {
       "width": "80px"
      }
     },
     "fb63ece9cb7c4efd9dfcf250eeb82cbf": {
      "model_module": "@jupyter-widgets/base",
      "model_module_version": "1.2.0",
      "model_name": "LayoutModel",
      "state": {}
     },
     "ffb12cf62daf43ef8281d453fc7c0438": {
      "model_module": "@jupyter-widgets/controls",
      "model_module_version": "1.5.0",
      "model_name": "TextModel",
      "state": {
       "description": "SMILES",
       "layout": "IPY_MODEL_1c87283a5f5f434e86beca8c5aa2581d",
       "placeholder": "20231026111954",
       "style": "IPY_MODEL_21b8912bbd9046ba8d76d73f21c9421b",
       "value": "CCC"
      }
     }
    },
    "version_major": 2,
    "version_minor": 0
   }
  }
 },
 "nbformat": 4,
 "nbformat_minor": 5
}
