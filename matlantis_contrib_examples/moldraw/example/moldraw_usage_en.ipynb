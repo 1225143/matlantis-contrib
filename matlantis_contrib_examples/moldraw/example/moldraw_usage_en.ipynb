{
 "cells": [
  {
   "cell_type": "markdown",
   "id": "11ffbf79-7a05-438b-a6b2-8a669ca2ffe8",
   "metadata": {},
   "source": [
    "Copyright ENEOS, Corp., Preferred Computational Chemistry, Inc. and Preferred Networks, Inc. as contributors to Matlantis contrib project\n",
    "\n",
    "This document was machine translated from Japanese to English.\n",
    "\n",
    "# moldraw\n",
    "\n",
    "This is a UI tool that uses JSME to draw molecules and return ASE atoms.  #eneos ibuka 2022/12/8\\\n",
    "v0.1.0 2023/10/25  Compatibility with upgraded Pandas version, package support, changes to allow calculator settings from arguments, confirmed to work on Python 3.8 and 3.9"
   ]
  },
  {
   "cell_type": "markdown",
   "id": "b322243f-651c-4560-86b7-e5e81fcf7de4",
   "metadata": {},
   "source": [
    "## Setup\n",
    "Please open and run Install.ipynb. Once executed, it can be run in other folders as well.\\\n",
    "Tested and operational on Python 3.8 and 3.9. Installation is required for each version you are using."
   ]
  },
  {
   "cell_type": "code",
   "execution_count": 1,
   "id": "b8f8ff89-4b91-4cdd-a578-ea54c5e38389",
   "metadata": {
    "tags": []
   },
   "outputs": [
    {
     "data": {
      "application/vnd.jupyter.widget-view+json": {
       "model_id": "a70030b85c9a4fe797c7e026a0c7ef04",
       "version_major": 2,
       "version_minor": 0
      },
      "text/plain": []
     },
     "metadata": {},
     "output_type": "display_data"
    }
   ],
   "source": [
    "import moldraw"
   ]
  },
  {
   "cell_type": "code",
   "execution_count": 2,
   "id": "9058f0fe-030e-4057-8d26-18052a6c62fb",
   "metadata": {
    "tags": []
   },
   "outputs": [
    {
     "data": {
      "application/vnd.jupyter.widget-view+json": {
       "model_id": "d659d750ff0540f29ab084fabeb362df",
       "version_major": 2,
       "version_minor": 0
      },
      "text/plain": [
       "VBox(children=(HBox(children=(VBox(children=(VBox(children=(Output(layout=Layout(height='290px', width='440px'…"
      ]
     },
     "metadata": {},
     "output_type": "display_data"
    }
   ],
   "source": [
    "m = moldraw.Moldraw()"
   ]
  },
  {
   "cell_type": "markdown",
   "id": "f801d99f-8bc0-42d7-a226-ef5bd254770b",
   "metadata": {},
   "source": [
    "TIPS: From the bottom menu of ▼▲, you can convert SMILES to graphical structures. The rotate-left button can be used for UNDO.\n",
    "\n",
    "Registered molecules can be accessed via df (DataFrame)."
   ]
  },
  {
   "cell_type": "code",
   "execution_count": 3,
   "id": "4727c30a-d461-450b-a78f-ae897543ce0e",
   "metadata": {
    "tags": []
   },
   "outputs": [
    {
     "data": {
      "text/html": [
       "<div>\n",
       "<style scoped>\n",
       "    .dataframe tbody tr th:only-of-type {\n",
       "        vertical-align: middle;\n",
       "    }\n",
       "\n",
       "    .dataframe tbody tr th {\n",
       "        vertical-align: top;\n",
       "    }\n",
       "\n",
       "    .dataframe thead th {\n",
       "        text-align: right;\n",
       "    }\n",
       "</style>\n",
       "<table border=\"1\" class=\"dataframe\">\n",
       "  <thead>\n",
       "    <tr style=\"text-align: right;\">\n",
       "      <th></th>\n",
       "      <th>SMILES</th>\n",
       "      <th>formula</th>\n",
       "      <th>atoms</th>\n",
       "      <th>energy</th>\n",
       "      <th>maxforce</th>\n",
       "      <th>opt</th>\n",
       "      <th>conf_no</th>\n",
       "    </tr>\n",
       "  </thead>\n",
       "  <tbody>\n",
       "    <tr>\n",
       "      <th>0</th>\n",
       "      <td>c1ccccc1</td>\n",
       "      <td>C6H6</td>\n",
       "      <td>(Atom('C', [-0.2995, -1.35...</td>\n",
       "      <td>-60.975460</td>\n",
       "      <td>1.115038</td>\n",
       "      <td>False</td>\n",
       "      <td>NaN</td>\n",
       "    </tr>\n",
       "    <tr>\n",
       "      <th>1</th>\n",
       "      <td>c1ccccc1</td>\n",
       "      <td>C6H6</td>\n",
       "      <td>(Atom('C', [0.7943, -1.149...</td>\n",
       "      <td>-60.967554</td>\n",
       "      <td>1.540152</td>\n",
       "      <td>False</td>\n",
       "      <td>0.0</td>\n",
       "    </tr>\n",
       "  </tbody>\n",
       "</table>\n",
       "</div>"
      ],
      "text/plain": [
       "     SMILES formula                          atoms     energy  maxforce  \\\n",
       "0  c1ccccc1    C6H6  (Atom('C', [-0.2995, -1.35... -60.975460  1.115038   \n",
       "1  c1ccccc1    C6H6  (Atom('C', [0.7943, -1.149... -60.967554  1.540152   \n",
       "\n",
       "     opt  conf_no  \n",
       "0  False      NaN  \n",
       "1  False      0.0  "
      ]
     },
     "metadata": {},
     "output_type": "display_data"
    },
    {
     "data": {
      "text/plain": [
       "Atoms(symbols='C6H6', pbc=False)"
      ]
     },
     "execution_count": 3,
     "metadata": {},
     "output_type": "execute_result"
    }
   ],
   "source": [
    "display(m.df)\n",
    "# access to atoms\n",
    "m.df.iloc[0].atoms"
   ]
  },
  {
   "cell_type": "markdown",
   "id": "e4043353-38f4-471e-980f-90b20d67f0e6",
   "metadata": {},
   "source": [
    "They can also be accessed using a for loop with an iterator."
   ]
  },
  {
   "cell_type": "code",
   "execution_count": 4,
   "id": "74ed0968-63fb-4f69-8dfd-5c7755757fde",
   "metadata": {
    "tags": []
   },
   "outputs": [
    {
     "name": "stdout",
     "output_type": "stream",
     "text": [
      "0 Atoms(symbols='C6H6', pbc=False, calculator=ASECalculator(...))\n",
      "1 Atoms(symbols='C6H6', pbc=False)\n",
      "2 Atoms(symbols='C6H6', pbc=False)\n"
     ]
    }
   ],
   "source": [
    "for i, atoms in enumerate(m):\n",
    "    print(i, atoms)"
   ]
  },
  {
   "cell_type": "markdown",
   "id": "9c55ac1b-9a55-4690-9e9e-97da2f99bbfb",
   "metadata": {},
   "source": [
    "## Conformer Search from SMILES\n",
    "\n",
    "With the `get_conformersdf` function, it is possible to search for conformers directly by specifying SMILES."
   ]
  },
  {
   "cell_type": "code",
   "execution_count": 5,
   "id": "ff2649f8-8eff-4e59-afab-f766a706d937",
   "metadata": {
    "tags": []
   },
   "outputs": [
    {
     "name": "stdout",
     "output_type": "stream",
     "text": [
      "6 conformers found (n_confs:100 n_atoms:17,rmsd_threshold:0.22)\n",
      "start opt top 3 conformers\n",
      " CCCCC 1 / 3 opt 41 steps done\n",
      " CCCCC 2 / 3 opt 36 steps done\n",
      " CCCCC 3 / 3 opt 27 steps done\n"
     ]
    },
    {
     "data": {
      "text/html": [
       "<div>\n",
       "<style scoped>\n",
       "    .dataframe tbody tr th:only-of-type {\n",
       "        vertical-align: middle;\n",
       "    }\n",
       "\n",
       "    .dataframe tbody tr th {\n",
       "        vertical-align: top;\n",
       "    }\n",
       "\n",
       "    .dataframe thead th {\n",
       "        text-align: right;\n",
       "    }\n",
       "</style>\n",
       "<table border=\"1\" class=\"dataframe\">\n",
       "  <thead>\n",
       "    <tr style=\"text-align: right;\">\n",
       "      <th></th>\n",
       "      <th>SMILES</th>\n",
       "      <th>formula</th>\n",
       "      <th>atoms</th>\n",
       "      <th>energy</th>\n",
       "      <th>maxforce</th>\n",
       "      <th>opt</th>\n",
       "      <th>conf_no</th>\n",
       "      <th>conf_no_opt</th>\n",
       "    </tr>\n",
       "  </thead>\n",
       "  <tbody>\n",
       "    <tr>\n",
       "      <th>0</th>\n",
       "      <td>CCCCC</td>\n",
       "      <td>C5H12</td>\n",
       "      <td>(Atom('C', [2.573962630838...</td>\n",
       "      <td>-69.826892</td>\n",
       "      <td>0.040382</td>\n",
       "      <td>True</td>\n",
       "      <td>1</td>\n",
       "      <td>0</td>\n",
       "    </tr>\n",
       "    <tr>\n",
       "      <th>1</th>\n",
       "      <td>CCCCC</td>\n",
       "      <td>C5H12</td>\n",
       "      <td>(Atom('C', [2.401559446940...</td>\n",
       "      <td>-69.788789</td>\n",
       "      <td>0.048081</td>\n",
       "      <td>True</td>\n",
       "      <td>2</td>\n",
       "      <td>1</td>\n",
       "    </tr>\n",
       "    <tr>\n",
       "      <th>2</th>\n",
       "      <td>CCCCC</td>\n",
       "      <td>C5H12</td>\n",
       "      <td>(Atom('C', [2.156167905246...</td>\n",
       "      <td>-69.785988</td>\n",
       "      <td>0.047738</td>\n",
       "      <td>True</td>\n",
       "      <td>0</td>\n",
       "      <td>2</td>\n",
       "    </tr>\n",
       "    <tr>\n",
       "      <th>3</th>\n",
       "      <td>CCCCC</td>\n",
       "      <td>C5H12</td>\n",
       "      <td>(Atom('C', [1.7125, 0.7129...</td>\n",
       "      <td>-69.404598</td>\n",
       "      <td>1.647818</td>\n",
       "      <td>False</td>\n",
       "      <td>3</td>\n",
       "      <td>3</td>\n",
       "    </tr>\n",
       "    <tr>\n",
       "      <th>4</th>\n",
       "      <td>CCCCC</td>\n",
       "      <td>C5H12</td>\n",
       "      <td>(Atom('C', [-1.8406, -0.26...</td>\n",
       "      <td>-69.348326</td>\n",
       "      <td>2.297799</td>\n",
       "      <td>False</td>\n",
       "      <td>4</td>\n",
       "      <td>4</td>\n",
       "    </tr>\n",
       "    <tr>\n",
       "      <th>5</th>\n",
       "      <td>CCCCC</td>\n",
       "      <td>C5H12</td>\n",
       "      <td>(Atom('C', [1.4854, -0.512...</td>\n",
       "      <td>-69.117978</td>\n",
       "      <td>2.761790</td>\n",
       "      <td>False</td>\n",
       "      <td>5</td>\n",
       "      <td>5</td>\n",
       "    </tr>\n",
       "  </tbody>\n",
       "</table>\n",
       "</div>"
      ],
      "text/plain": [
       "  SMILES formula                          atoms     energy  maxforce    opt  \\\n",
       "0  CCCCC   C5H12  (Atom('C', [2.573962630838... -69.826892  0.040382   True   \n",
       "1  CCCCC   C5H12  (Atom('C', [2.401559446940... -69.788789  0.048081   True   \n",
       "2  CCCCC   C5H12  (Atom('C', [2.156167905246... -69.785988  0.047738   True   \n",
       "3  CCCCC   C5H12  (Atom('C', [1.7125, 0.7129... -69.404598  1.647818  False   \n",
       "4  CCCCC   C5H12  (Atom('C', [-1.8406, -0.26... -69.348326  2.297799  False   \n",
       "5  CCCCC   C5H12  (Atom('C', [1.4854, -0.512... -69.117978  2.761790  False   \n",
       "\n",
       "   conf_no  conf_no_opt  \n",
       "0        1            0  \n",
       "1        2            1  \n",
       "2        0            2  \n",
       "3        3            3  \n",
       "4        4            4  \n",
       "5        5            5  "
      ]
     },
     "execution_count": 5,
     "metadata": {},
     "output_type": "execute_result"
    }
   ],
   "source": [
    "from moldraw.moldraw import get_conformersdf\n",
    "\n",
    "confo = get_conformersdf(\"CCCCC\", top=3, opt=True)\n",
    "confo "
   ]
  },
  {
   "cell_type": "markdown",
   "id": "262b9386-faeb-4b92-bff8-86496400b5c9",
   "metadata": {},
   "source": [
    "Conformer searches can also be performed directly by function but may be slow for large molecules."
   ]
  },
  {
   "cell_type": "code",
   "execution_count": 6,
   "id": "47b954e1-69a7-4b2d-8551-78cf8be3765c",
   "metadata": {
    "tags": []
   },
   "outputs": [
    {
     "name": "stdout",
     "output_type": "stream",
     "text": [
      "25 conformers found (n_confs:100 n_atoms:23,rmsd_threshold:0.28)\n",
      "CPU times: user 2.14 s, sys: 514 ms, total: 2.65 s\n",
      "Wall time: 4.72 s\n"
     ]
    },
    {
     "data": {
      "text/html": [
       "<div>\n",
       "<style scoped>\n",
       "    .dataframe tbody tr th:only-of-type {\n",
       "        vertical-align: middle;\n",
       "    }\n",
       "\n",
       "    .dataframe tbody tr th {\n",
       "        vertical-align: top;\n",
       "    }\n",
       "\n",
       "    .dataframe thead th {\n",
       "        text-align: right;\n",
       "    }\n",
       "</style>\n",
       "<table border=\"1\" class=\"dataframe\">\n",
       "  <thead>\n",
       "    <tr style=\"text-align: right;\">\n",
       "      <th></th>\n",
       "      <th>SMILES</th>\n",
       "      <th>formula</th>\n",
       "      <th>atoms</th>\n",
       "      <th>energy</th>\n",
       "      <th>maxforce</th>\n",
       "      <th>opt</th>\n",
       "      <th>conf_no</th>\n",
       "    </tr>\n",
       "  </thead>\n",
       "  <tbody>\n",
       "    <tr>\n",
       "      <th>0</th>\n",
       "      <td>CCCCCCC</td>\n",
       "      <td>C7H16</td>\n",
       "      <td>(Atom('C', [-2.4383, 0.924...</td>\n",
       "      <td>-95.163679</td>\n",
       "      <td>1.865529</td>\n",
       "      <td>False</td>\n",
       "      <td>0</td>\n",
       "    </tr>\n",
       "    <tr>\n",
       "      <th>1</th>\n",
       "      <td>CCCCCCC</td>\n",
       "      <td>C7H16</td>\n",
       "      <td>(Atom('C', [2.9214, -0.590...</td>\n",
       "      <td>-95.162525</td>\n",
       "      <td>1.548329</td>\n",
       "      <td>False</td>\n",
       "      <td>1</td>\n",
       "    </tr>\n",
       "    <tr>\n",
       "      <th>2</th>\n",
       "      <td>CCCCCCC</td>\n",
       "      <td>C7H16</td>\n",
       "      <td>(Atom('C', [3.3602, -0.023...</td>\n",
       "      <td>-95.139146</td>\n",
       "      <td>1.410574</td>\n",
       "      <td>False</td>\n",
       "      <td>2</td>\n",
       "    </tr>\n",
       "    <tr>\n",
       "      <th>3</th>\n",
       "      <td>CCCCCCC</td>\n",
       "      <td>C7H16</td>\n",
       "      <td>(Atom('C', [2.7, 0.0861, 1...</td>\n",
       "      <td>-95.136687</td>\n",
       "      <td>2.435996</td>\n",
       "      <td>False</td>\n",
       "      <td>3</td>\n",
       "    </tr>\n",
       "    <tr>\n",
       "      <th>4</th>\n",
       "      <td>CCCCCCC</td>\n",
       "      <td>C7H16</td>\n",
       "      <td>(Atom('C', [-3.0015, 0.416...</td>\n",
       "      <td>-95.134508</td>\n",
       "      <td>1.821919</td>\n",
       "      <td>False</td>\n",
       "      <td>4</td>\n",
       "    </tr>\n",
       "    <tr>\n",
       "      <th>5</th>\n",
       "      <td>CCCCCCC</td>\n",
       "      <td>C7H16</td>\n",
       "      <td>(Atom('C', [2.9233, 0.6054...</td>\n",
       "      <td>-95.121170</td>\n",
       "      <td>1.598243</td>\n",
       "      <td>False</td>\n",
       "      <td>5</td>\n",
       "    </tr>\n",
       "    <tr>\n",
       "      <th>6</th>\n",
       "      <td>CCCCCCC</td>\n",
       "      <td>C7H16</td>\n",
       "      <td>(Atom('C', [2.9914, 0.3562...</td>\n",
       "      <td>-95.108793</td>\n",
       "      <td>1.674675</td>\n",
       "      <td>False</td>\n",
       "      <td>6</td>\n",
       "    </tr>\n",
       "    <tr>\n",
       "      <th>7</th>\n",
       "      <td>CCCCCCC</td>\n",
       "      <td>C7H16</td>\n",
       "      <td>(Atom('C', [3.4282, 0.2119...</td>\n",
       "      <td>-95.103641</td>\n",
       "      <td>1.411650</td>\n",
       "      <td>False</td>\n",
       "      <td>7</td>\n",
       "    </tr>\n",
       "    <tr>\n",
       "      <th>8</th>\n",
       "      <td>CCCCCCC</td>\n",
       "      <td>C7H16</td>\n",
       "      <td>(Atom('C', [-3.5214, 0.427...</td>\n",
       "      <td>-95.092793</td>\n",
       "      <td>1.634745</td>\n",
       "      <td>False</td>\n",
       "      <td>8</td>\n",
       "    </tr>\n",
       "    <tr>\n",
       "      <th>9</th>\n",
       "      <td>CCCCCCC</td>\n",
       "      <td>C7H16</td>\n",
       "      <td>(Atom('C', [-2.8946, 0.969...</td>\n",
       "      <td>-95.073194</td>\n",
       "      <td>1.749503</td>\n",
       "      <td>False</td>\n",
       "      <td>9</td>\n",
       "    </tr>\n",
       "    <tr>\n",
       "      <th>10</th>\n",
       "      <td>CCCCCCC</td>\n",
       "      <td>C7H16</td>\n",
       "      <td>(Atom('C', [2.8532, -0.117...</td>\n",
       "      <td>-95.061858</td>\n",
       "      <td>1.836290</td>\n",
       "      <td>False</td>\n",
       "      <td>10</td>\n",
       "    </tr>\n",
       "    <tr>\n",
       "      <th>11</th>\n",
       "      <td>CCCCCCC</td>\n",
       "      <td>C7H16</td>\n",
       "      <td>(Atom('C', [2.3997, -0.213...</td>\n",
       "      <td>-95.056258</td>\n",
       "      <td>1.928527</td>\n",
       "      <td>False</td>\n",
       "      <td>11</td>\n",
       "    </tr>\n",
       "    <tr>\n",
       "      <th>12</th>\n",
       "      <td>CCCCCCC</td>\n",
       "      <td>C7H16</td>\n",
       "      <td>(Atom('C', [2.8288, -0.190...</td>\n",
       "      <td>-95.040316</td>\n",
       "      <td>1.739341</td>\n",
       "      <td>False</td>\n",
       "      <td>12</td>\n",
       "    </tr>\n",
       "    <tr>\n",
       "      <th>13</th>\n",
       "      <td>CCCCCCC</td>\n",
       "      <td>C7H16</td>\n",
       "      <td>(Atom('C', [3.4725, 0.6758...</td>\n",
       "      <td>-95.029408</td>\n",
       "      <td>2.639873</td>\n",
       "      <td>False</td>\n",
       "      <td>13</td>\n",
       "    </tr>\n",
       "    <tr>\n",
       "      <th>14</th>\n",
       "      <td>CCCCCCC</td>\n",
       "      <td>C7H16</td>\n",
       "      <td>(Atom('C', [-2.8702, 0.031...</td>\n",
       "      <td>-95.020582</td>\n",
       "      <td>1.602290</td>\n",
       "      <td>False</td>\n",
       "      <td>14</td>\n",
       "    </tr>\n",
       "    <tr>\n",
       "      <th>15</th>\n",
       "      <td>CCCCCCC</td>\n",
       "      <td>C7H16</td>\n",
       "      <td>(Atom('C', [3.737, -0.3052...</td>\n",
       "      <td>-95.008443</td>\n",
       "      <td>2.477289</td>\n",
       "      <td>False</td>\n",
       "      <td>15</td>\n",
       "    </tr>\n",
       "    <tr>\n",
       "      <th>16</th>\n",
       "      <td>CCCCCCC</td>\n",
       "      <td>C7H16</td>\n",
       "      <td>(Atom('C', [-3.4536, 0.036...</td>\n",
       "      <td>-94.997794</td>\n",
       "      <td>2.129340</td>\n",
       "      <td>False</td>\n",
       "      <td>16</td>\n",
       "    </tr>\n",
       "    <tr>\n",
       "      <th>17</th>\n",
       "      <td>CCCCCCC</td>\n",
       "      <td>C7H16</td>\n",
       "      <td>(Atom('C', [2.0172, 1.0868...</td>\n",
       "      <td>-94.953708</td>\n",
       "      <td>2.597958</td>\n",
       "      <td>False</td>\n",
       "      <td>17</td>\n",
       "    </tr>\n",
       "    <tr>\n",
       "      <th>18</th>\n",
       "      <td>CCCCCCC</td>\n",
       "      <td>C7H16</td>\n",
       "      <td>(Atom('C', [2.8287, 0.8954...</td>\n",
       "      <td>-94.916741</td>\n",
       "      <td>2.290222</td>\n",
       "      <td>False</td>\n",
       "      <td>18</td>\n",
       "    </tr>\n",
       "    <tr>\n",
       "      <th>19</th>\n",
       "      <td>CCCCCCC</td>\n",
       "      <td>C7H16</td>\n",
       "      <td>(Atom('C', [-2.7702, 1.350...</td>\n",
       "      <td>-94.857218</td>\n",
       "      <td>2.842336</td>\n",
       "      <td>False</td>\n",
       "      <td>19</td>\n",
       "    </tr>\n",
       "    <tr>\n",
       "      <th>20</th>\n",
       "      <td>CCCCCCC</td>\n",
       "      <td>C7H16</td>\n",
       "      <td>(Atom('C', [2.2535, 0.8377...</td>\n",
       "      <td>-94.808415</td>\n",
       "      <td>3.028416</td>\n",
       "      <td>False</td>\n",
       "      <td>20</td>\n",
       "    </tr>\n",
       "    <tr>\n",
       "      <th>21</th>\n",
       "      <td>CCCCCCC</td>\n",
       "      <td>C7H16</td>\n",
       "      <td>(Atom('C', [-1.9049, 0.984...</td>\n",
       "      <td>-94.772039</td>\n",
       "      <td>3.579049</td>\n",
       "      <td>False</td>\n",
       "      <td>21</td>\n",
       "    </tr>\n",
       "    <tr>\n",
       "      <th>22</th>\n",
       "      <td>CCCCCCC</td>\n",
       "      <td>C7H16</td>\n",
       "      <td>(Atom('C', [2.5979, -0.958...</td>\n",
       "      <td>-94.742959</td>\n",
       "      <td>4.021185</td>\n",
       "      <td>False</td>\n",
       "      <td>22</td>\n",
       "    </tr>\n",
       "    <tr>\n",
       "      <th>23</th>\n",
       "      <td>CCCCCCC</td>\n",
       "      <td>C7H16</td>\n",
       "      <td>(Atom('C', [-2.0492, 0.542...</td>\n",
       "      <td>-94.669723</td>\n",
       "      <td>2.995696</td>\n",
       "      <td>False</td>\n",
       "      <td>23</td>\n",
       "    </tr>\n",
       "    <tr>\n",
       "      <th>24</th>\n",
       "      <td>CCCCCCC</td>\n",
       "      <td>C7H16</td>\n",
       "      <td>(Atom('C', [-2.8987, -0.56...</td>\n",
       "      <td>-94.628564</td>\n",
       "      <td>3.306763</td>\n",
       "      <td>False</td>\n",
       "      <td>24</td>\n",
       "    </tr>\n",
       "  </tbody>\n",
       "</table>\n",
       "</div>"
      ],
      "text/plain": [
       "     SMILES formula                          atoms     energy  maxforce  \\\n",
       "0   CCCCCCC   C7H16  (Atom('C', [-2.4383, 0.924... -95.163679  1.865529   \n",
       "1   CCCCCCC   C7H16  (Atom('C', [2.9214, -0.590... -95.162525  1.548329   \n",
       "2   CCCCCCC   C7H16  (Atom('C', [3.3602, -0.023... -95.139146  1.410574   \n",
       "3   CCCCCCC   C7H16  (Atom('C', [2.7, 0.0861, 1... -95.136687  2.435996   \n",
       "4   CCCCCCC   C7H16  (Atom('C', [-3.0015, 0.416... -95.134508  1.821919   \n",
       "5   CCCCCCC   C7H16  (Atom('C', [2.9233, 0.6054... -95.121170  1.598243   \n",
       "6   CCCCCCC   C7H16  (Atom('C', [2.9914, 0.3562... -95.108793  1.674675   \n",
       "7   CCCCCCC   C7H16  (Atom('C', [3.4282, 0.2119... -95.103641  1.411650   \n",
       "8   CCCCCCC   C7H16  (Atom('C', [-3.5214, 0.427... -95.092793  1.634745   \n",
       "9   CCCCCCC   C7H16  (Atom('C', [-2.8946, 0.969... -95.073194  1.749503   \n",
       "10  CCCCCCC   C7H16  (Atom('C', [2.8532, -0.117... -95.061858  1.836290   \n",
       "11  CCCCCCC   C7H16  (Atom('C', [2.3997, -0.213... -95.056258  1.928527   \n",
       "12  CCCCCCC   C7H16  (Atom('C', [2.8288, -0.190... -95.040316  1.739341   \n",
       "13  CCCCCCC   C7H16  (Atom('C', [3.4725, 0.6758... -95.029408  2.639873   \n",
       "14  CCCCCCC   C7H16  (Atom('C', [-2.8702, 0.031... -95.020582  1.602290   \n",
       "15  CCCCCCC   C7H16  (Atom('C', [3.737, -0.3052... -95.008443  2.477289   \n",
       "16  CCCCCCC   C7H16  (Atom('C', [-3.4536, 0.036... -94.997794  2.129340   \n",
       "17  CCCCCCC   C7H16  (Atom('C', [2.0172, 1.0868... -94.953708  2.597958   \n",
       "18  CCCCCCC   C7H16  (Atom('C', [2.8287, 0.8954... -94.916741  2.290222   \n",
       "19  CCCCCCC   C7H16  (Atom('C', [-2.7702, 1.350... -94.857218  2.842336   \n",
       "20  CCCCCCC   C7H16  (Atom('C', [2.2535, 0.8377... -94.808415  3.028416   \n",
       "21  CCCCCCC   C7H16  (Atom('C', [-1.9049, 0.984... -94.772039  3.579049   \n",
       "22  CCCCCCC   C7H16  (Atom('C', [2.5979, -0.958... -94.742959  4.021185   \n",
       "23  CCCCCCC   C7H16  (Atom('C', [-2.0492, 0.542... -94.669723  2.995696   \n",
       "24  CCCCCCC   C7H16  (Atom('C', [-2.8987, -0.56... -94.628564  3.306763   \n",
       "\n",
       "      opt  conf_no  \n",
       "0   False        0  \n",
       "1   False        1  \n",
       "2   False        2  \n",
       "3   False        3  \n",
       "4   False        4  \n",
       "5   False        5  \n",
       "6   False        6  \n",
       "7   False        7  \n",
       "8   False        8  \n",
       "9   False        9  \n",
       "10  False       10  \n",
       "11  False       11  \n",
       "12  False       12  \n",
       "13  False       13  \n",
       "14  False       14  \n",
       "15  False       15  \n",
       "16  False       16  \n",
       "17  False       17  \n",
       "18  False       18  \n",
       "19  False       19  \n",
       "20  False       20  \n",
       "21  False       21  \n",
       "22  False       22  \n",
       "23  False       23  \n",
       "24  False       24  "
      ]
     },
     "execution_count": 6,
     "metadata": {},
     "output_type": "execute_result"
    }
   ],
   "source": [
    "%%time\n",
    "confo2 = get_conformersdf(\"CCCCCCC\", opt=False)\n",
    "confo2"
   ]
  },
  {
   "cell_type": "markdown",
   "id": "8e8ae9b2-ebe7-4003-9a37-5d30f287ca13",
   "metadata": {},
   "source": [
    "## Graph Drawing Tools for DataFrame\n",
    "\n",
    "The class `Dfplot` provides a UI suitable for creating graphs from DataFrames in a versatile manner.\n",
    "By providing a DataFrame as an argument, you can specify x-axis and y-axis parameters for the graph drawing."
   ]
  },
  {
   "cell_type": "code",
   "execution_count": 7,
   "id": "8fea148d-1462-4ad6-b0cc-8f12247406cc",
   "metadata": {
    "tags": []
   },
   "outputs": [
    {
     "data": {
      "application/vnd.jupyter.widget-view+json": {
       "model_id": "53463c6200954bfcbeed3ecdfb10bf7f",
       "version_major": 2,
       "version_minor": 0
      },
      "text/plain": [
       "VBox(children=(HBox(children=(Select(description='col1:', layout=Layout(border='0px', height='27px', width='20…"
      ]
     },
     "metadata": {},
     "output_type": "display_data"
    }
   ],
   "source": [
    "from moldraw import Dfplot\n",
    "p = Dfplot(confo2)"
   ]
  }
 ],
 "metadata": {
  "kernelspec": {
   "display_name": "Python 3.9",
   "language": "python",
   "name": "python39"
  },
  "language_info": {
   "codemirror_mode": {
    "name": "ipython",
    "version": 3
   },
   "file_extension": ".py",
   "mimetype": "text/x-python",
   "name": "python",
   "nbconvert_exporter": "python",
   "pygments_lexer": "ipython3",
   "version": "3.9.16"
  },
  "widgets": {
   "application/vnd.jupyter.widget-state+json": {
    "state": {
     "010dbfabdb1d42849ab03926d9e36398": {
      "model_module": "@jupyter-widgets/controls",
      "model_module_version": "1.5.0",
      "model_name": "IntSliderModel",
      "state": {
       "description": "(2, 7)",
       "layout": "IPY_MODEL_0600e31790d645da9138d8ae21e4dd29",
       "max": 6,
       "style": "IPY_MODEL_97f0b7c1171245708fc79f1de552872b"
      }
     },
     "01a49fca09034c00954766bffe712e31": {
      "model_module": "@jupyter-widgets/base",
      "model_module_version": "1.2.0",
      "model_name": "LayoutModel",
      "state": {}
     },
     "029c33a0aa564c538ae7e479cd711e12": {
      "model_module": "@jupyter-widgets/controls",
      "model_module_version": "1.5.0",
      "model_name": "ImageModel",
      "state": {
       "layout": "IPY_MODEL_a59ad7dc58784ddea65196a46c95cc23",
       "width": "900.0"
      }
     },
     "0600e31790d645da9138d8ae21e4dd29": {
      "model_module": "@jupyter-widgets/base",
      "model_module_version": "1.2.0",
      "model_name": "LayoutModel",
      "state": {}
     },
     "071362d9f8f5474981e32f82769bf8c2": {
      "model_module": "@jupyter-widgets/controls",
      "model_module_version": "1.5.0",
      "model_name": "CheckboxModel",
      "state": {
       "description": "index",
       "disabled": false,
       "indent": false,
       "layout": "IPY_MODEL_fdc9d07d11f64cbf9ab49a09e0686b39",
       "style": "IPY_MODEL_91fd4e79671b48d1a6d3c31db610ebf6",
       "value": false
      }
     },
     "090643837d3f4e06ae065f65006437d0": {
      "model_module": "@jupyter-widgets/controls",
      "model_module_version": "1.5.0",
      "model_name": "ButtonStyleModel",
      "state": {}
     },
     "0c46e31eef3c4f04b55ede60e9bfcb5c": {
      "model_module": "@jupyter-widgets/base",
      "model_module_version": "1.2.0",
      "model_name": "LayoutModel",
      "state": {}
     },
     "0f260c12a825483294c766cdecbaa8eb": {
      "model_module": "@jupyter-widgets/base",
      "model_module_version": "1.2.0",
      "model_name": "LayoutModel",
      "state": {
       "width": "100px"
      }
     },
     "0f529df9e9154de58da57f1e1746a6b7": {
      "model_module": "@jupyter-widgets/controls",
      "model_module_version": "1.5.0",
      "model_name": "DescriptionStyleModel",
      "state": {
       "description_width": ""
      }
     },
     "13f559dbe7644198b1ad2fae93746046": {
      "model_module": "nglview-js-widgets",
      "model_module_version": "3.0.1",
      "model_name": "NGLModel",
      "state": {
       "_camera_orientation": [
        17.609338127856184,
        0,
        0,
        0,
        0,
        17.609338127856184,
        0,
        0,
        0,
        0,
        17.609338127856184,
        0,
        0.004500031471252441,
        -0.0054999589920043945,
        -0.0005000010132789612,
        1
       ],
       "_camera_str": "orthographic",
       "_gui_theme": null,
       "_ibtn_fullscreen": "IPY_MODEL_6137af9209c141c381f2920debf6695f",
       "_igui": null,
       "_iplayer": "IPY_MODEL_e66a24ad47e5425597056ccf6ef7796f",
       "_ngl_color_dict": {},
       "_ngl_coordinate_resource": {},
       "_ngl_full_stage_parameters": {
        "ambientColor": 14540253,
        "ambientIntensity": 0.2,
        "backgroundColor": "white",
        "cameraEyeSep": 0.3,
        "cameraFov": 40,
        "cameraType": "perspective",
        "clipDist": 10,
        "clipFar": 100,
        "clipNear": 0,
        "fogFar": 100,
        "fogNear": 50,
        "hoverTimeout": 0,
        "impostor": true,
        "lightColor": 14540253,
        "lightIntensity": 1,
        "mousePreset": "default",
        "panSpeed": 1,
        "quality": "medium",
        "rotateSpeed": 2,
        "sampleLevel": 0,
        "tooltip": true,
        "workerDefault": true,
        "zoomSpeed": 1.2
       },
       "_ngl_msg_archive": [
        {
         "args": [
          {
           "binary": false,
           "data": "MODEL     1\nATOM      1    C MOL     1      -0.299  -1.351   0.014  1.00  0.00           C  \nATOM      2    C MOL     1      -1.306  -0.403   0.043  1.00  0.00           C  \nATOM      3    C MOL     1      -1.031   0.950   0.029  1.00  0.00           C  \nATOM      4    C MOL     1       0.304   1.343  -0.014  1.00  0.00           C  \nATOM      5    C MOL     1       1.298   0.393  -0.043  1.00  0.00           C  \nATOM      6    C MOL     1       1.021  -0.963  -0.029  1.00  0.00           C  \nATOM      7    H MOL     1      -0.503  -2.401   0.024  1.00  0.00           H  \nATOM      8    H MOL     1      -2.338  -0.724   0.077  1.00  0.00           H  \nATOM      9    H MOL     1      -1.830   1.679   0.052  1.00  0.00           H  \nATOM     10    H MOL     1       0.506   2.412  -0.024  1.00  0.00           H  \nATOM     11    H MOL     1       2.329   0.722  -0.076  1.00  0.00           H  \nATOM     12    H MOL     1       1.849  -1.656  -0.053  1.00  0.00           H  \nENDMDL\n",
           "type": "blob"
          }
         ],
         "kwargs": {
          "defaultRepresentation": true,
          "ext": "pdb"
         },
         "methodName": "loadFile",
         "reconstruc_color_scheme": false,
         "target": "Stage",
         "type": "call_method"
        },
        {
         "args": [
          "this._Q = [[1.0, 0.0, 0.0], [0.0, 1.0, 0.0], [0.0, 0.0, 1.0]]\n    var tooltip = document.createElement('div');\n    Object.assign(tooltip.style, {\n      display: 'none',\n      position: 'fixed',\n      zIndex: 10,\n      pointerEvents: 'none',\n      backgroundColor: 'rgba( 0, 0, 0, 0.6 )',\n      color: 'lightgrey',\n      padding: '8px',\n      fontFamily: 'sans-serif'\n    });\n    document.body.appendChild(tooltip);\n\n    var that = this;\n    this.stage.mouseControls.remove('hoverPick');\n    this.stage.signals.hovered.add(function (pickingProxy) {\n      if (pickingProxy && (pickingProxy.atom || pickingProxy.bond)) {\n        var atom = pickingProxy.atom || pickingProxy.closestBondAtom\n        var mp = pickingProxy.mouse.position\n        //tooltip.innerText = atom.element + ' i=' + atom.index + ' (' + atom.x.toFixed(2) +  ', ' + atom.y.toFixed(2) +  ', ' + atom.z.toFixed(2) + ')'\n        //var pos = that._atoms_pos[atom.index]\n        var Q = that._Q\n        var pos_x = Q[0][0] * atom.x + Q[0][1] * atom.y + Q[0][2] * atom.z \n        var pos_y = Q[1][0] * atom.x + Q[1][1] * atom.y + Q[1][2] * atom.z\n        var pos_z = Q[2][0] * atom.x + Q[2][1] * atom.y + Q[2][2] * atom.z\n        tooltip.innerText = 'i=' + atom.index + ' ' + atom.element + ' (' + pos_x.toFixed(2) +  ', ' + pos_y.toFixed(2) +  ', ' + pos_z.toFixed(2) + ')'\n        tooltip.style.bottom = window.innerHeight - mp.y + 3 + 'px'\n        tooltip.style.left = mp.x + 3 + 'px'\n        tooltip.style.display = 'block'\n      } else {\n        tooltip.style.display = 'none'\n      }\n    });\n    this.stage.tooltip = tooltip;\n    "
         ],
         "kwargs": {},
         "methodName": "executeCode",
         "reconstruc_color_scheme": false,
         "target": "Widget",
         "type": "call_method"
        },
        {
         "args": [
          "label",
          0
         ],
         "kwargs": {},
         "methodName": "removeRepresentationsByName",
         "reconstruc_color_scheme": false,
         "target": "Widget",
         "type": "call_method"
        },
        {
         "args": [
          "label",
          0
         ],
         "kwargs": {},
         "methodName": "removeRepresentationsByName",
         "reconstruc_color_scheme": false,
         "target": "Widget",
         "type": "call_method"
        },
        {
         "args": [
          "label",
          0
         ],
         "kwargs": {},
         "methodName": "removeRepresentationsByName",
         "reconstruc_color_scheme": false,
         "target": "Widget",
         "type": "call_method"
        }
       ],
       "_ngl_original_stage_parameters": {
        "ambientColor": 14540253,
        "ambientIntensity": 0.2,
        "backgroundColor": "white",
        "cameraEyeSep": 0.3,
        "cameraFov": 40,
        "cameraType": "perspective",
        "clipDist": 10,
        "clipFar": 100,
        "clipNear": 0,
        "fogFar": 100,
        "fogNear": 50,
        "hoverTimeout": 0,
        "impostor": true,
        "lightColor": 14540253,
        "lightIntensity": 1,
        "mousePreset": "default",
        "panSpeed": 1,
        "quality": "medium",
        "rotateSpeed": 2,
        "sampleLevel": 0,
        "tooltip": true,
        "workerDefault": true,
        "zoomSpeed": 1.2
       },
       "_ngl_repr_dict": {
        "0": {
         "0": {
          "params": {
           "aspectRatio": 1.5,
           "assembly": "default",
           "bondScale": 0.3,
           "bondSpacing": 0.75,
           "clipCenter": {
            "x": 0,
            "y": 0,
            "z": 0
           },
           "clipNear": 0,
           "clipRadius": 0,
           "colorMode": "hcl",
           "colorReverse": false,
           "colorScale": "",
           "colorScheme": "element",
           "colorValue": 9474192,
           "cylinderOnly": false,
           "defaultAssembly": "",
           "depthWrite": true,
           "diffuse": 16777215,
           "diffuseInterior": false,
           "disableImpostor": false,
           "disablePicking": false,
           "flatShaded": false,
           "interiorColor": 2236962,
           "interiorDarkening": 0,
           "lazy": false,
           "lineOnly": false,
           "linewidth": 2,
           "matrix": {
            "elements": [
             1,
             0,
             0,
             0,
             0,
             1,
             0,
             0,
             0,
             0,
             1,
             0,
             0,
             0,
             0,
             1
            ]
           },
           "metalness": 0,
           "multipleBond": "off",
           "opacity": 1,
           "openEnded": true,
           "quality": "high",
           "radialSegments": 20,
           "radiusData": {},
           "radiusScale": 2,
           "radiusSize": 0.15,
           "radiusType": "size",
           "roughness": 0.4,
           "sele": "",
           "side": "double",
           "sphereDetail": 2,
           "useInteriorColor": true,
           "visible": true,
           "wireframe": false
          },
          "type": "ball+stick"
         }
        }
       },
       "_ngl_serialize": false,
       "_ngl_version": "2.0.0-dev.36",
       "_ngl_view_id": [
        "020D4503-67A7-4913-9BBC-6CEF9AA8A467"
       ],
       "_player_dict": {},
       "_scene_position": {},
       "_scene_rotation": {},
       "_synced_model_ids": [],
       "_synced_repr_model_ids": [],
       "_view_height": "340px",
       "_view_width": "400px",
       "background": "white",
       "frame": 0,
       "gui_style": null,
       "layout": "IPY_MODEL_1a02f2285cbf4b8d8daaad7dfa155805",
       "max_frame": 0,
       "n_components": 1,
       "picked": {}
      }
     },
     "149e4de13ef54706ba88dc27d71d1a83": {
      "model_module": "@jupyter-widgets/output",
      "model_module_version": "1.0.0",
      "model_name": "OutputModel",
      "state": {
       "layout": "IPY_MODEL_c422eba959784d41b3e9380eb1184fe1",
       "outputs": [
        {
         "data": {
          "image/png": "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\n",
          "text/plain": "<Figure size 550x450 with 1 Axes>"
         },
         "metadata": {},
         "output_type": "display_data"
        }
       ]
      }
     },
     "17aeda5feda04e49bbd010f611cef2b4": {
      "model_module": "@jupyter-widgets/controls",
      "model_module_version": "1.5.0",
      "model_name": "CheckboxModel",
      "state": {
       "description": "force",
       "disabled": false,
       "indent": false,
       "layout": "IPY_MODEL_24f45ad4d8c74bdea4f850cfc516ec06",
       "style": "IPY_MODEL_ad6e5d95f2354349851d85e4a6aadd76",
       "value": false
      }
     },
     "1a02f2285cbf4b8d8daaad7dfa155805": {
      "model_module": "@jupyter-widgets/base",
      "model_module_version": "1.2.0",
      "model_name": "LayoutModel",
      "state": {}
     },
     "1b794954b3aa444fbb76368c396c2847": {
      "model_module": "@jupyter-widgets/controls",
      "model_module_version": "1.5.0",
      "model_name": "CheckboxModel",
      "state": {
       "description": "OPT",
       "disabled": false,
       "indent": false,
       "layout": "IPY_MODEL_38c50808df3348288c950dc928b854d4",
       "style": "IPY_MODEL_9853daba47744ed0a681e4009770f8fa",
       "value": false
      }
     },
     "1d150c7232e644bc964f31c390c14271": {
      "model_module": "@jupyter-widgets/controls",
      "model_module_version": "1.5.0",
      "model_name": "DescriptionStyleModel",
      "state": {
       "description_width": "30px"
      }
     },
     "20ede434fda74a579b182dd79d82fccd": {
      "model_module": "@jupyter-widgets/controls",
      "model_module_version": "1.5.0",
      "model_name": "ButtonModel",
      "state": {
       "description": "Confomer serach",
       "layout": "IPY_MODEL_7ebb1d880cc54b978804cdb4bc7d58dc",
       "style": "IPY_MODEL_40cfe23fd796497fb61aff9b3c9b9356"
      }
     },
     "2280e694aebd452f873f6b87217907ba": {
      "model_module": "@jupyter-widgets/controls",
      "model_module_version": "1.5.0",
      "model_name": "IntSliderModel",
      "state": {
       "layout": "IPY_MODEL_ea4e86f0d8554c408c66c66ba4eb5b3a",
       "max": 0,
       "style": "IPY_MODEL_2ed9912b7be4428281153eb21df3ed80"
      }
     },
     "22b892ce96a1476cbd7a557368135a83": {
      "model_module": "@jupyter-widgets/controls",
      "model_module_version": "1.5.0",
      "model_name": "SelectModel",
      "state": {
       "_options_labels": [
        "SMILES",
        "formula",
        "atoms",
        "energy",
        "maxforce",
        "opt",
        "conf_no"
       ],
       "description": "col1:",
       "index": 3,
       "layout": "IPY_MODEL_aff27b40537647b9b052c07f6940dd9c",
       "rows": 1,
       "style": "IPY_MODEL_6172439bf27e4e0f83c49156413218f0"
      }
     },
     "24f45ad4d8c74bdea4f850cfc516ec06": {
      "model_module": "@jupyter-widgets/base",
      "model_module_version": "1.2.0",
      "model_name": "LayoutModel",
      "state": {
       "width": "80px"
      }
     },
     "27cdb05066a745eb8d7ba071b92f7205": {
      "model_module": "@jupyter-widgets/base",
      "model_module_version": "1.2.0",
      "model_name": "LayoutModel",
      "state": {}
     },
     "2a6aeb5940e74c679816e895774430c0": {
      "model_module": "@jupyter-widgets/base",
      "model_module_version": "1.2.0",
      "model_name": "LayoutModel",
      "state": {
       "height": "38px",
       "width": "250px"
      }
     },
     "2a823a586229482daaf2c18befb8c538": {
      "model_module": "@jupyter-widgets/base",
      "model_module_version": "1.2.0",
      "model_name": "LayoutModel",
      "state": {
       "width": "80px"
      }
     },
     "2cf8e58c24fd4da692db092a029734ab": {
      "model_module": "@jupyter-widgets/controls",
      "model_module_version": "1.5.0",
      "model_name": "CheckboxModel",
      "state": {
       "description": "axes",
       "disabled": false,
       "indent": false,
       "layout": "IPY_MODEL_2a823a586229482daaf2c18befb8c538",
       "style": "IPY_MODEL_e9ea3a6bbcd74b91bd2190deb21319cb",
       "value": false
      }
     },
     "2ddfd5081d264de39cd02e24e1f02150": {
      "model_module": "@jupyter-widgets/controls",
      "model_module_version": "1.5.0",
      "model_name": "VBoxModel",
      "state": {
       "children": [
        "IPY_MODEL_13f559dbe7644198b1ad2fae93746046",
        "IPY_MODEL_78f6d189c82c48f78d2715b8ed7a054d"
       ],
       "layout": "IPY_MODEL_3802d2b2b9ba4ac6baf9d9a0c6317099"
      }
     },
     "2ed9912b7be4428281153eb21df3ed80": {
      "model_module": "@jupyter-widgets/controls",
      "model_module_version": "1.5.0",
      "model_name": "SliderStyleModel",
      "state": {
       "description_width": ""
      }
     },
     "356ccc9e1db24caf8f351017afe464f2": {
      "model_module": "@jupyter-widgets/output",
      "model_module_version": "1.0.0",
      "model_name": "OutputModel",
      "state": {
       "layout": "IPY_MODEL_9e361607fdc24ba08e1a020a18f003b9",
       "outputs": [
        {
         "data": {
          "text/html": "<div>\n<style scoped>\n    .dataframe tbody tr th:only-of-type {\n        vertical-align: middle;\n    }\n\n    .dataframe tbody tr th {\n        vertical-align: top;\n    }\n\n    .dataframe thead th {\n        text-align: right;\n    }\n</style>\n<table border=\"1\" class=\"dataframe\">\n  <thead>\n    <tr style=\"text-align: right;\">\n      <th></th>\n      <th>SMILES</th>\n      <th>formula</th>\n      <th>atoms</th>\n      <th>energy</th>\n      <th>maxforce</th>\n      <th>opt</th>\n      <th>conf_no</th>\n    </tr>\n  </thead>\n  <tbody>\n    <tr>\n      <th>0</th>\n      <td>c1ccccc1</td>\n      <td>C6H6</td>\n      <td>(Atom('C', [-0.2995, -1.35...</td>\n      <td>-60.975460</td>\n      <td>1.115038</td>\n      <td>False</td>\n      <td>NaN</td>\n    </tr>\n    <tr>\n      <th>1</th>\n      <td>c1ccccc1</td>\n      <td>C6H6</td>\n      <td>(Atom('C', [0.7943, -1.149...</td>\n      <td>-60.967554</td>\n      <td>1.540152</td>\n      <td>False</td>\n      <td>0.0</td>\n    </tr>\n  </tbody>\n</table>\n</div>",
          "text/plain": "     SMILES formula                          atoms     energy  maxforce  \\\n0  c1ccccc1    C6H6  (Atom('C', [-0.2995, -1.35... -60.975460  1.115038   \n1  c1ccccc1    C6H6  (Atom('C', [0.7943, -1.149... -60.967554  1.540152   \n\n     opt  conf_no  \n0  False      NaN  \n1  False      0.0  "
         },
         "metadata": {},
         "output_type": "display_data"
        }
       ]
      }
     },
     "36e17769beae4e7b9a85842e249870ed": {
      "model_module": "@jupyter-widgets/controls",
      "model_module_version": "1.5.0",
      "model_name": "HBoxModel",
      "state": {
       "children": [
        "IPY_MODEL_22b892ce96a1476cbd7a557368135a83",
        "IPY_MODEL_de5ba67522544d869baeea4f2dfd30a4",
        "IPY_MODEL_cf8b1e05752045b6b9ccad7471892e62",
        "IPY_MODEL_6fd1ba2864b74ff5b26cbc4fce2b9a19"
       ],
       "layout": "IPY_MODEL_748198983e534a14ae87bd745e3f9917"
      }
     },
     "3802d2b2b9ba4ac6baf9d9a0c6317099": {
      "model_module": "@jupyter-widgets/base",
      "model_module_version": "1.2.0",
      "model_name": "LayoutModel",
      "state": {}
     },
     "38c50808df3348288c950dc928b854d4": {
      "model_module": "@jupyter-widgets/base",
      "model_module_version": "1.2.0",
      "model_name": "LayoutModel",
      "state": {
       "width": "80px"
      }
     },
     "3bfa3b42f0234722b166c7c4098cd625": {
      "model_module": "@jupyter-widgets/controls",
      "model_module_version": "1.5.0",
      "model_name": "LinkModel",
      "state": {
       "source": [
        "IPY_MODEL_6a889ae6f0034f39a7cf5ef62b6445af",
        "value"
       ],
       "target": [
        "IPY_MODEL_13f559dbe7644198b1ad2fae93746046",
        "frame"
       ]
      }
     },
     "3fdba9934db0423dac3cae9d9946899f": {
      "model_module": "@jupyter-widgets/controls",
      "model_module_version": "1.5.0",
      "model_name": "ButtonModel",
      "state": {
       "description": "ADD IT",
       "layout": "IPY_MODEL_7189bf33ff374981a1c63d8d6d594849",
       "style": "IPY_MODEL_090643837d3f4e06ae065f65006437d0"
      }
     },
     "40cfe23fd796497fb61aff9b3c9b9356": {
      "model_module": "@jupyter-widgets/controls",
      "model_module_version": "1.5.0",
      "model_name": "ButtonStyleModel",
      "state": {}
     },
     "41f93b19d16342208375452c93c6aba5": {
      "model_module": "@jupyter-widgets/base",
      "model_module_version": "1.2.0",
      "model_name": "LayoutModel",
      "state": {
       "width": "80px"
      }
     },
     "4a558fe66e784e9086be181dd367d9d6": {
      "model_module": "@jupyter-widgets/base",
      "model_module_version": "1.2.0",
      "model_name": "LayoutModel",
      "state": {}
     },
     "4b03c3be3d40406a965cbb3e96678921": {
      "model_module": "@jupyter-widgets/controls",
      "model_module_version": "1.5.0",
      "model_name": "DescriptionStyleModel",
      "state": {
       "description_width": "45px"
      }
     },
     "4cfe5eb453b446748d5dbacf81f20748": {
      "model_module": "@jupyter-widgets/base",
      "model_module_version": "1.2.0",
      "model_name": "LayoutModel",
      "state": {}
     },
     "4de16d7b43524cbc9b08a0d939c4d18a": {
      "model_module": "@jupyter-widgets/base",
      "model_module_version": "1.2.0",
      "model_name": "LayoutModel",
      "state": {}
     },
     "4eb61eed7889457e90c1bb85d70d08e3": {
      "model_module": "@jupyter-widgets/controls",
      "model_module_version": "1.5.0",
      "model_name": "DescriptionStyleModel",
      "state": {
       "description_width": "30px"
      }
     },
     "4f9ef8e45755409c9cb94a9e42493fef": {
      "model_module": "@jupyter-widgets/controls",
      "model_module_version": "1.5.0",
      "model_name": "LinkModel",
      "state": {
       "source": [
        "IPY_MODEL_2280e694aebd452f873f6b87217907ba",
        "max"
       ],
       "target": [
        "IPY_MODEL_13f559dbe7644198b1ad2fae93746046",
        "max_frame"
       ]
      }
     },
     "53463c6200954bfcbeed3ecdfb10bf7f": {
      "model_module": "@jupyter-widgets/controls",
      "model_module_version": "1.5.0",
      "model_name": "VBoxModel",
      "state": {
       "children": [
        "IPY_MODEL_36e17769beae4e7b9a85842e249870ed",
        "IPY_MODEL_149e4de13ef54706ba88dc27d71d1a83"
       ],
       "layout": "IPY_MODEL_c8d348e9653e47ccb12d2739987b40fd"
      }
     },
     "5c2a3d3d848e44ada7341135e4a9687b": {
      "model_module": "@jupyter-widgets/base",
      "model_module_version": "1.2.0",
      "model_name": "LayoutModel",
      "state": {}
     },
     "5d9c9aceab5c413bbd499f57204e34e5": {
      "model_module": "@jupyter-widgets/base",
      "model_module_version": "1.2.0",
      "model_name": "LayoutModel",
      "state": {
       "width": "100px"
      }
     },
     "6083c13537cb4299b8014b1f003091db": {
      "model_module": "@jupyter-widgets/controls",
      "model_module_version": "1.5.0",
      "model_name": "VBoxModel",
      "state": {
       "children": [
        "IPY_MODEL_da16b5c4fddd4e719b113d56589c6055",
        "IPY_MODEL_7459cb45b14d4729a5fd57ded0d4937b"
       ],
       "layout": "IPY_MODEL_01a49fca09034c00954766bffe712e31"
      }
     },
     "6137af9209c141c381f2920debf6695f": {
      "model_module": "@jupyter-widgets/controls",
      "model_module_version": "1.5.0",
      "model_name": "ButtonModel",
      "state": {
       "icon": "compress",
       "layout": "IPY_MODEL_b332ed1edcf843b8aab7063c534a537a",
       "style": "IPY_MODEL_a423541587104c6190634cff6fb233c8"
      }
     },
     "6172439bf27e4e0f83c49156413218f0": {
      "model_module": "@jupyter-widgets/controls",
      "model_module_version": "1.5.0",
      "model_name": "DescriptionStyleModel",
      "state": {
       "description_width": "30px"
      }
     },
     "67c17b99eebd4327986b9a8457c162cd": {
      "model_module": "@jupyter-widgets/controls",
      "model_module_version": "1.5.0",
      "model_name": "HBoxModel",
      "state": {
       "children": [
        "IPY_MODEL_1b794954b3aa444fbb76368c396c2847",
        "IPY_MODEL_3fdba9934db0423dac3cae9d9946899f",
        "IPY_MODEL_20ede434fda74a579b182dd79d82fccd"
       ],
       "layout": "IPY_MODEL_ea1aad2ede9943159a6d35733eaa5f35"
      }
     },
     "6a889ae6f0034f39a7cf5ef62b6445af": {
      "model_module": "@jupyter-widgets/controls",
      "model_module_version": "1.5.0",
      "model_name": "PlayModel",
      "state": {
       "layout": "IPY_MODEL_27cdb05066a745eb8d7ba071b92f7205",
       "max": 0,
       "style": "IPY_MODEL_e21c3ca445ba4091a09aedc7b976972d"
      }
     },
     "6fd1ba2864b74ff5b26cbc4fce2b9a19": {
      "model_module": "@jupyter-widgets/controls",
      "model_module_version": "1.5.0",
      "model_name": "ButtonModel",
      "state": {
       "description": "plot",
       "layout": "IPY_MODEL_5d9c9aceab5c413bbd499f57204e34e5",
       "style": "IPY_MODEL_ccf3686c68a141e9bf4c367f7034be7e"
      }
     },
     "6fd6e5093f344a48a9ce3acf1931a36a": {
      "model_module": "@jupyter-widgets/base",
      "model_module_version": "1.2.0",
      "model_name": "LayoutModel",
      "state": {
       "height": "45px",
       "width": "430px"
      }
     },
     "7189bf33ff374981a1c63d8d6d594849": {
      "model_module": "@jupyter-widgets/base",
      "model_module_version": "1.2.0",
      "model_name": "LayoutModel",
      "state": {
       "width": "140px"
      }
     },
     "7459cb45b14d4729a5fd57ded0d4937b": {
      "model_module": "@jupyter-widgets/controls",
      "model_module_version": "1.5.0",
      "model_name": "TextModel",
      "state": {
       "description": "SMILES",
       "layout": "IPY_MODEL_6fd6e5093f344a48a9ce3acf1931a36a",
       "placeholder": "20240704162658",
       "style": "IPY_MODEL_4b03c3be3d40406a965cbb3e96678921",
       "value": "c1ccccc1"
      }
     },
     "748198983e534a14ae87bd745e3f9917": {
      "model_module": "@jupyter-widgets/base",
      "model_module_version": "1.2.0",
      "model_name": "LayoutModel",
      "state": {}
     },
     "78f6d189c82c48f78d2715b8ed7a054d": {
      "model_module": "@jupyter-widgets/controls",
      "model_module_version": "1.5.0",
      "model_name": "HBoxModel",
      "state": {
       "children": [
        "IPY_MODEL_071362d9f8f5474981e32f82769bf8c2",
        "IPY_MODEL_2cf8e58c24fd4da692db092a029734ab",
        "IPY_MODEL_17aeda5feda04e49bbd010f611cef2b4",
        "IPY_MODEL_d6b25162b44b4a3690f3a37ac2decac1"
       ],
       "layout": "IPY_MODEL_2a6aeb5940e74c679816e895774430c0"
      }
     },
     "7b6e6ee52279436abe6914e3fc614ce2": {
      "model_module": "@jupyter-widgets/controls",
      "model_module_version": "1.5.0",
      "model_name": "IntSliderModel",
      "state": {
       "description": "0",
       "layout": "IPY_MODEL_4de16d7b43524cbc9b08a0d939c4d18a",
       "max": 0,
       "min": -1,
       "orientation": "vertical",
       "style": "IPY_MODEL_9bcd5c8e8e4e418db8d6204642023046"
      }
     },
     "7ebb1d880cc54b978804cdb4bc7d58dc": {
      "model_module": "@jupyter-widgets/base",
      "model_module_version": "1.2.0",
      "model_name": "LayoutModel",
      "state": {
       "width": "140px"
      }
     },
     "7f340940254542ba88418c0ad1e14684": {
      "model_module": "@jupyter-widgets/controls",
      "model_module_version": "1.5.0",
      "model_name": "LinkModel",
      "state": {
       "source": [
        "IPY_MODEL_6a889ae6f0034f39a7cf5ef62b6445af",
        "value"
       ],
       "target": [
        "IPY_MODEL_2280e694aebd452f873f6b87217907ba",
        "value"
       ]
      }
     },
     "84cfa1c47dcd4761ad41b5b85a6a4f8f": {
      "model_module": "@jupyter-widgets/base",
      "model_module_version": "1.2.0",
      "model_name": "LayoutModel",
      "state": {}
     },
     "90b170ef8f054ab19a5550a31b555020": {
      "model_module": "@jupyter-widgets/controls",
      "model_module_version": "1.5.0",
      "model_name": "VBoxModel",
      "state": {
       "children": [
        "IPY_MODEL_010dbfabdb1d42849ab03926d9e36398",
        "IPY_MODEL_356ccc9e1db24caf8f351017afe464f2"
       ],
       "layout": "IPY_MODEL_9a4bf20df09547ee957947080af83e45"
      }
     },
     "91fd4e79671b48d1a6d3c31db610ebf6": {
      "model_module": "@jupyter-widgets/controls",
      "model_module_version": "1.5.0",
      "model_name": "DescriptionStyleModel",
      "state": {
       "description_width": ""
      }
     },
     "97f0b7c1171245708fc79f1de552872b": {
      "model_module": "@jupyter-widgets/controls",
      "model_module_version": "1.5.0",
      "model_name": "SliderStyleModel",
      "state": {
       "description_width": "40px"
      }
     },
     "9853daba47744ed0a681e4009770f8fa": {
      "model_module": "@jupyter-widgets/controls",
      "model_module_version": "1.5.0",
      "model_name": "DescriptionStyleModel",
      "state": {
       "description_width": ""
      }
     },
     "99cdf5f3be004e03a23e50fbbc0e590d": {
      "model_module": "@jupyter-widgets/base",
      "model_module_version": "1.2.0",
      "model_name": "LayoutModel",
      "state": {}
     },
     "9a4bf20df09547ee957947080af83e45": {
      "model_module": "@jupyter-widgets/base",
      "model_module_version": "1.2.0",
      "model_name": "LayoutModel",
      "state": {}
     },
     "9bcd5c8e8e4e418db8d6204642023046": {
      "model_module": "@jupyter-widgets/controls",
      "model_module_version": "1.5.0",
      "model_name": "SliderStyleModel",
      "state": {
       "description_width": ""
      }
     },
     "9e361607fdc24ba08e1a020a18f003b9": {
      "model_module": "@jupyter-widgets/base",
      "model_module_version": "1.2.0",
      "model_name": "LayoutModel",
      "state": {
       "border": "1px solid black",
       "height": "330px",
       "width": "600px"
      }
     },
     "a423541587104c6190634cff6fb233c8": {
      "model_module": "@jupyter-widgets/controls",
      "model_module_version": "1.5.0",
      "model_name": "ButtonStyleModel",
      "state": {}
     },
     "a5330cd444994fe193484b520344c286": {
      "model_module": "@jupyter-widgets/controls",
      "model_module_version": "1.5.0",
      "model_name": "HBoxModel",
      "state": {
       "children": [
        "IPY_MODEL_7b6e6ee52279436abe6914e3fc614ce2",
        "IPY_MODEL_90b170ef8f054ab19a5550a31b555020"
       ],
       "layout": "IPY_MODEL_0c46e31eef3c4f04b55ede60e9bfcb5c"
      }
     },
     "a59ad7dc58784ddea65196a46c95cc23": {
      "model_module": "@jupyter-widgets/base",
      "model_module_version": "1.2.0",
      "model_name": "LayoutModel",
      "state": {}
     },
     "a70030b85c9a4fe797c7e026a0c7ef04": {
      "model_module": "nglview-js-widgets",
      "model_module_version": "3.0.1",
      "model_name": "ColormakerRegistryModel",
      "state": {
       "_msg_ar": [],
       "_msg_q": [],
       "_ready": true,
       "layout": "IPY_MODEL_4cfe5eb453b446748d5dbacf81f20748"
      }
     },
     "ad6e5d95f2354349851d85e4a6aadd76": {
      "model_module": "@jupyter-widgets/controls",
      "model_module_version": "1.5.0",
      "model_name": "DescriptionStyleModel",
      "state": {
       "description_width": ""
      }
     },
     "aff27b40537647b9b052c07f6940dd9c": {
      "model_module": "@jupyter-widgets/base",
      "model_module_version": "1.2.0",
      "model_name": "LayoutModel",
      "state": {
       "border": "0px",
       "height": "27px",
       "width": "200px"
      }
     },
     "b332ed1edcf843b8aab7063c534a537a": {
      "model_module": "@jupyter-widgets/base",
      "model_module_version": "1.2.0",
      "model_name": "LayoutModel",
      "state": {
       "width": "34px"
      }
     },
     "c422eba959784d41b3e9380eb1184fe1": {
      "model_module": "@jupyter-widgets/base",
      "model_module_version": "1.2.0",
      "model_name": "LayoutModel",
      "state": {
       "border": "1px solid gray",
       "height": "450px",
       "width": "550px"
      }
     },
     "c8d348e9653e47ccb12d2739987b40fd": {
      "model_module": "@jupyter-widgets/base",
      "model_module_version": "1.2.0",
      "model_name": "LayoutModel",
      "state": {}
     },
     "ccf3686c68a141e9bf4c367f7034be7e": {
      "model_module": "@jupyter-widgets/controls",
      "model_module_version": "1.5.0",
      "model_name": "ButtonStyleModel",
      "state": {}
     },
     "cf8b1e05752045b6b9ccad7471892e62": {
      "model_module": "@jupyter-widgets/controls",
      "model_module_version": "1.5.0",
      "model_name": "CheckboxModel",
      "state": {
       "description": "yy ploy",
       "disabled": false,
       "layout": "IPY_MODEL_0f260c12a825483294c766cdecbaa8eb",
       "style": "IPY_MODEL_4eb61eed7889457e90c1bb85d70d08e3",
       "value": false
      }
     },
     "d659d750ff0540f29ab084fabeb362df": {
      "model_module": "@jupyter-widgets/controls",
      "model_module_version": "1.5.0",
      "model_name": "VBoxModel",
      "state": {
       "children": [
        "IPY_MODEL_d7c57396596d438d8534c3b68f1c4a75",
        "IPY_MODEL_a5330cd444994fe193484b520344c286"
       ],
       "layout": "IPY_MODEL_4a558fe66e784e9086be181dd367d9d6"
      }
     },
     "d6b25162b44b4a3690f3a37ac2decac1": {
      "model_module": "@jupyter-widgets/controls",
      "model_module_version": "1.5.0",
      "model_name": "CheckboxModel",
      "state": {
       "description": "chage",
       "disabled": false,
       "indent": false,
       "layout": "IPY_MODEL_41f93b19d16342208375452c93c6aba5",
       "style": "IPY_MODEL_0f529df9e9154de58da57f1e1746a6b7",
       "value": false
      }
     },
     "d7c57396596d438d8534c3b68f1c4a75": {
      "model_module": "@jupyter-widgets/controls",
      "model_module_version": "1.5.0",
      "model_name": "HBoxModel",
      "state": {
       "children": [
        "IPY_MODEL_d89c6b1ed4a64e6c8973365231107f36",
        "IPY_MODEL_2ddfd5081d264de39cd02e24e1f02150"
       ],
       "layout": "IPY_MODEL_84cfa1c47dcd4761ad41b5b85a6a4f8f"
      }
     },
     "d89c6b1ed4a64e6c8973365231107f36": {
      "model_module": "@jupyter-widgets/controls",
      "model_module_version": "1.5.0",
      "model_name": "VBoxModel",
      "state": {
       "children": [
        "IPY_MODEL_6083c13537cb4299b8014b1f003091db",
        "IPY_MODEL_67c17b99eebd4327986b9a8457c162cd"
       ],
       "layout": "IPY_MODEL_99cdf5f3be004e03a23e50fbbc0e590d"
      }
     },
     "da16b5c4fddd4e719b113d56589c6055": {
      "model_module": "@jupyter-widgets/output",
      "model_module_version": "1.0.0",
      "model_name": "OutputModel",
      "state": {
       "layout": "IPY_MODEL_eb56886857324dfe957fc3be3d985d9d",
       "outputs": [
        {
         "data": {
          "text/html": "\n        <html><head>\n        <script type=\"text/javascript\" language=\"javascript\" src=\"https://pfcc.matlantis.com/nb/4de55fn39i8b0xgl/default/files/.py39/lib/python3.9/site-packages/moldraw/data/jsme/jsme.nocache.js\"></script>\n        <script>    \n        function jsmeOnLoad() {  jsmeApplet = new JSApplet.JSME(\"20240704162658\", \"380px\",\"285px\");           \n        jsmeApplet.setCallBack(\"AfterStructureModified\", show_smiles);        }        \n        function show_smiles(event) {\n         smiles = event.src.smiles();            \n         el = document.querySelector(\"input[placeholder='20240704162658']\");           \n         el.value = smiles.replace(\"/\\[([A-Za-z][a-z]?)H?\\d*:\\d+\\]/g\",smiles);           \n         el.dispatchEvent(new Event('input',{'bubbles': true,'cancelable': true}));        \n        }\n        </script></head><body><div id=\"20240704162658\"></div></body></html>\n        ",
          "text/plain": "<IPython.core.display.HTML object>"
         },
         "metadata": {},
         "output_type": "display_data"
        }
       ]
      }
     },
     "ddcf7255cd8a4098a964b64ea4a089db": {
      "model_module": "@jupyter-widgets/controls",
      "model_module_version": "1.5.0",
      "model_name": "LinkModel",
      "state": {
       "source": [
        "IPY_MODEL_6a889ae6f0034f39a7cf5ef62b6445af",
        "max"
       ],
       "target": [
        "IPY_MODEL_13f559dbe7644198b1ad2fae93746046",
        "max_frame"
       ]
      }
     },
     "de5ba67522544d869baeea4f2dfd30a4": {
      "model_module": "@jupyter-widgets/controls",
      "model_module_version": "1.5.0",
      "model_name": "SelectModel",
      "state": {
       "_options_labels": [
        "energy",
        "maxforce",
        "conf_no",
        "histplot col1"
       ],
       "description": "col2:",
       "index": 1,
       "layout": "IPY_MODEL_aff27b40537647b9b052c07f6940dd9c",
       "rows": 1,
       "style": "IPY_MODEL_1d150c7232e644bc964f31c390c14271"
      }
     },
     "e21c3ca445ba4091a09aedc7b976972d": {
      "model_module": "@jupyter-widgets/controls",
      "model_module_version": "1.5.0",
      "model_name": "DescriptionStyleModel",
      "state": {
       "description_width": ""
      }
     },
     "e66a24ad47e5425597056ccf6ef7796f": {
      "model_module": "@jupyter-widgets/controls",
      "model_module_version": "1.5.0",
      "model_name": "HBoxModel",
      "state": {
       "children": [
        "IPY_MODEL_6a889ae6f0034f39a7cf5ef62b6445af",
        "IPY_MODEL_2280e694aebd452f873f6b87217907ba"
       ],
       "layout": "IPY_MODEL_5c2a3d3d848e44ada7341135e4a9687b"
      }
     },
     "e9ea3a6bbcd74b91bd2190deb21319cb": {
      "model_module": "@jupyter-widgets/controls",
      "model_module_version": "1.5.0",
      "model_name": "DescriptionStyleModel",
      "state": {
       "description_width": ""
      }
     },
     "ea1aad2ede9943159a6d35733eaa5f35": {
      "model_module": "@jupyter-widgets/base",
      "model_module_version": "1.2.0",
      "model_name": "LayoutModel",
      "state": {}
     },
     "ea4e86f0d8554c408c66c66ba4eb5b3a": {
      "model_module": "@jupyter-widgets/base",
      "model_module_version": "1.2.0",
      "model_name": "LayoutModel",
      "state": {}
     },
     "eb56886857324dfe957fc3be3d985d9d": {
      "model_module": "@jupyter-widgets/base",
      "model_module_version": "1.2.0",
      "model_name": "LayoutModel",
      "state": {
       "height": "290px",
       "width": "440px"
      }
     },
     "fdc9d07d11f64cbf9ab49a09e0686b39": {
      "model_module": "@jupyter-widgets/base",
      "model_module_version": "1.2.0",
      "model_name": "LayoutModel",
      "state": {
       "width": "80px"
      }
     }
    },
    "version_major": 2,
    "version_minor": 0
   }
  }
 },
 "nbformat": 4,
 "nbformat_minor": 5
}
