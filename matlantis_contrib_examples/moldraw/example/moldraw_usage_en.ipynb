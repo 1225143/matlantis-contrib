{
 "cells": [
  {
   "cell_type": "markdown",
   "id": "11ffbf79-7a05-438b-a6b2-8a669ca2ffe8",
   "metadata": {},
   "source": [
    "Copyright ENEOS, Corp., Preferred Computational Chemistry, Inc. and Preferred Networks, Inc. as contributors to Matlantis contrib project\n",
    "\n",
    "This document was machine translated from Japanese to English.\n",
    "\n",
    "# moldraw\n",
    "\n",
    "This is a UI tool that uses JSME to draw molecules and return ASE atoms.  #eneos ibuka 2022/12/8\\\n",
    "#v0.1.0 2023/10/25  Compatibility with upgraded Pandas version, package support, changes to allow calculator settings from arguments, confirmed to work on Python 3.8 and 3.9"
   ]
  },
  {
   "cell_type": "markdown",
   "id": "b322243f-651c-4560-86b7-e5e81fcf7de4",
   "metadata": {},
   "source": [
    "## Setup\n",
    "Please open and run Install.ipynb. Once executed, it can be run in other folders as well.\\\n",
    "Tested and operational on Python 3.8 and 3.9. Installation is required for each version you are using."
   ]
  },
  {
   "cell_type": "code",
   "execution_count": 1,
   "id": "b8f8ff89-4b91-4cdd-a578-ea54c5e38389",
   "metadata": {
    "tags": []
   },
   "outputs": [
    {
     "data": {
      "application/vnd.jupyter.widget-view+json": {
       "model_id": "c61b0ef2f00c42ab9bf1e521cd7af7ab",
       "version_major": 2,
       "version_minor": 0
      },
      "text/plain": []
     },
     "metadata": {},
     "output_type": "display_data"
    }
   ],
   "source": [
    "import moldraw"
   ]
  },
  {
   "cell_type": "code",
   "execution_count": 2,
   "id": "9058f0fe-030e-4057-8d26-18052a6c62fb",
   "metadata": {
    "tags": []
   },
   "outputs": [
    {
     "data": {
      "application/vnd.jupyter.widget-view+json": {
       "model_id": "59b38d8ea6a941479cfec1b7e3cbf201",
       "version_major": 2,
       "version_minor": 0
      },
      "text/plain": [
       "VBox(children=(HBox(children=(VBox(children=(VBox(children=(Output(layout=Layout(height='290px', width='440px'…"
      ]
     },
     "metadata": {},
     "output_type": "display_data"
    }
   ],
   "source": [
    "m = moldraw.Moldraw()"
   ]
  },
  {
   "cell_type": "markdown",
   "id": "f801d99f-8bc0-42d7-a226-ef5bd254770b",
   "metadata": {},
   "source": [
    "TIPS: From the bottom menu of ▼▲, you can convert SMILES to graphical structures. The rotate-left button can be used for UNDO.\n",
    "\n",
    "Registered molecules can be accessed via df (DataFrame)."
   ]
  },
  {
   "cell_type": "code",
   "execution_count": 3,
   "id": "4727c30a-d461-450b-a78f-ae897543ce0e",
   "metadata": {
    "tags": []
   },
   "outputs": [
    {
     "data": {
      "text/html": [
       "<div>\n",
       "<style scoped>\n",
       "    .dataframe tbody tr th:only-of-type {\n",
       "        vertical-align: middle;\n",
       "    }\n",
       "\n",
       "    .dataframe tbody tr th {\n",
       "        vertical-align: top;\n",
       "    }\n",
       "\n",
       "    .dataframe thead th {\n",
       "        text-align: right;\n",
       "    }\n",
       "</style>\n",
       "<table border=\"1\" class=\"dataframe\">\n",
       "  <thead>\n",
       "    <tr style=\"text-align: right;\">\n",
       "      <th></th>\n",
       "      <th>SMILES</th>\n",
       "      <th>formula</th>\n",
       "      <th>atoms</th>\n",
       "      <th>energy</th>\n",
       "      <th>maxforce</th>\n",
       "      <th>opt</th>\n",
       "    </tr>\n",
       "  </thead>\n",
       "  <tbody>\n",
       "    <tr>\n",
       "      <th>0</th>\n",
       "      <td>CCC</td>\n",
       "      <td>C3H8</td>\n",
       "      <td>(Atom('C', [-1.28308657006...</td>\n",
       "      <td>-43.982771</td>\n",
       "      <td>0.03546</td>\n",
       "      <td>True</td>\n",
       "    </tr>\n",
       "  </tbody>\n",
       "</table>\n",
       "</div>"
      ],
      "text/plain": [
       "  SMILES formula                          atoms     energy  maxforce   opt\n",
       "0    CCC    C3H8  (Atom('C', [-1.28308657006... -43.982771   0.03546  True"
      ]
     },
     "metadata": {},
     "output_type": "display_data"
    },
    {
     "data": {
      "text/plain": [
       "Atoms(symbols='C3H8', pbc=False)"
      ]
     },
     "execution_count": 3,
     "metadata": {},
     "output_type": "execute_result"
    }
   ],
   "source": [
    "display(m.df)\n",
    "# access to atoms\n",
    "m.df.iloc[0].atoms"
   ]
  },
  {
   "cell_type": "markdown",
   "id": "e4043353-38f4-471e-980f-90b20d67f0e6",
   "metadata": {},
   "source": [
    "They can also be accessed using a for loop with an iterator."
   ]
  },
  {
   "cell_type": "code",
   "execution_count": 4,
   "id": "74ed0968-63fb-4f69-8dfd-5c7755757fde",
   "metadata": {
    "tags": []
   },
   "outputs": [
    {
     "name": "stdout",
     "output_type": "stream",
     "text": [
      "0 Atoms(symbols='C3H8', pbc=False, calculator=ASECalculator(...))\n"
     ]
    }
   ],
   "source": [
    "for i, atoms in enumerate(m):\n",
    "    print(i, atoms)"
   ]
  },
  {
   "cell_type": "markdown",
   "id": "9c55ac1b-9a55-4690-9e9e-97da2f99bbfb",
   "metadata": {},
   "source": [
    "## Conformer Search from SMILES\n",
    "\n",
    "With the `get_conformersdf` function, it is possible to search for conformers directly by specifying SMILES."
   ]
  },
  {
   "cell_type": "code",
   "execution_count": 5,
   "id": "ff2649f8-8eff-4e59-afab-f766a706d937",
   "metadata": {
    "tags": []
   },
   "outputs": [
    {
     "name": "stdout",
     "output_type": "stream",
     "text": [
      "6 conformers found (n_confs:100 n_atoms:17,rmsd_threshold:0.22)\n",
      "start opt top 3 conformers\n",
      " CCCCC 1 / 3 opt 27 steps done\n",
      " CCCCC 2 / 3 opt 23 steps done\n",
      " CCCCC 3 / 3 opt 52 steps done\n"
     ]
    },
    {
     "data": {
      "text/html": [
       "<div>\n",
       "<style scoped>\n",
       "    .dataframe tbody tr th:only-of-type {\n",
       "        vertical-align: middle;\n",
       "    }\n",
       "\n",
       "    .dataframe tbody tr th {\n",
       "        vertical-align: top;\n",
       "    }\n",
       "\n",
       "    .dataframe thead th {\n",
       "        text-align: right;\n",
       "    }\n",
       "</style>\n",
       "<table border=\"1\" class=\"dataframe\">\n",
       "  <thead>\n",
       "    <tr style=\"text-align: right;\">\n",
       "      <th></th>\n",
       "      <th>SMILES</th>\n",
       "      <th>formula</th>\n",
       "      <th>atoms</th>\n",
       "      <th>energy</th>\n",
       "      <th>maxforce</th>\n",
       "      <th>opt</th>\n",
       "      <th>conf_no</th>\n",
       "      <th>conf_no_opt</th>\n",
       "    </tr>\n",
       "  </thead>\n",
       "  <tbody>\n",
       "    <tr>\n",
       "      <th>0</th>\n",
       "      <td>CCCCC</td>\n",
       "      <td>C5H12</td>\n",
       "      <td>(Atom('C', [-2.17330455214...</td>\n",
       "      <td>-69.790535</td>\n",
       "      <td>0.049119</td>\n",
       "      <td>True</td>\n",
       "      <td>2</td>\n",
       "      <td>0</td>\n",
       "    </tr>\n",
       "    <tr>\n",
       "      <th>1</th>\n",
       "      <td>CCCCC</td>\n",
       "      <td>C5H12</td>\n",
       "      <td>(Atom('C', [-2.12112930898...</td>\n",
       "      <td>-69.781777</td>\n",
       "      <td>0.042006</td>\n",
       "      <td>True</td>\n",
       "      <td>1</td>\n",
       "      <td>1</td>\n",
       "    </tr>\n",
       "    <tr>\n",
       "      <th>2</th>\n",
       "      <td>CCCCC</td>\n",
       "      <td>C5H12</td>\n",
       "      <td>(Atom('C', [1.825696402789...</td>\n",
       "      <td>-69.751799</td>\n",
       "      <td>0.047127</td>\n",
       "      <td>True</td>\n",
       "      <td>0</td>\n",
       "      <td>2</td>\n",
       "    </tr>\n",
       "    <tr>\n",
       "      <th>3</th>\n",
       "      <td>CCCCC</td>\n",
       "      <td>C5H12</td>\n",
       "      <td>(Atom('C', [1.7735, 0.738,...</td>\n",
       "      <td>-69.367553</td>\n",
       "      <td>2.098271</td>\n",
       "      <td>False</td>\n",
       "      <td>3</td>\n",
       "      <td>3</td>\n",
       "    </tr>\n",
       "    <tr>\n",
       "      <th>4</th>\n",
       "      <td>CCCCC</td>\n",
       "      <td>C5H12</td>\n",
       "      <td>(Atom('C', [2.422, 0.4017,...</td>\n",
       "      <td>-69.354566</td>\n",
       "      <td>1.762582</td>\n",
       "      <td>False</td>\n",
       "      <td>4</td>\n",
       "      <td>4</td>\n",
       "    </tr>\n",
       "    <tr>\n",
       "      <th>5</th>\n",
       "      <td>CCCCC</td>\n",
       "      <td>C5H12</td>\n",
       "      <td>(Atom('C', [-1.4253, 0.818...</td>\n",
       "      <td>-69.082644</td>\n",
       "      <td>3.113458</td>\n",
       "      <td>False</td>\n",
       "      <td>5</td>\n",
       "      <td>5</td>\n",
       "    </tr>\n",
       "  </tbody>\n",
       "</table>\n",
       "</div>"
      ],
      "text/plain": [
       "  SMILES formula                          atoms     energy  maxforce    opt  \\\n",
       "0  CCCCC   C5H12  (Atom('C', [-2.17330455214... -69.790535  0.049119   True   \n",
       "1  CCCCC   C5H12  (Atom('C', [-2.12112930898... -69.781777  0.042006   True   \n",
       "2  CCCCC   C5H12  (Atom('C', [1.825696402789... -69.751799  0.047127   True   \n",
       "3  CCCCC   C5H12  (Atom('C', [1.7735, 0.738,... -69.367553  2.098271  False   \n",
       "4  CCCCC   C5H12  (Atom('C', [2.422, 0.4017,... -69.354566  1.762582  False   \n",
       "5  CCCCC   C5H12  (Atom('C', [-1.4253, 0.818... -69.082644  3.113458  False   \n",
       "\n",
       "   conf_no  conf_no_opt  \n",
       "0        2            0  \n",
       "1        1            1  \n",
       "2        0            2  \n",
       "3        3            3  \n",
       "4        4            4  \n",
       "5        5            5  "
      ]
     },
     "execution_count": 5,
     "metadata": {},
     "output_type": "execute_result"
    }
   ],
   "source": [
    "from moldraw.moldraw import get_conformersdf\n",
    "\n",
    "confo = get_conformersdf(\"CCCCC\", top=3, opt=True)\n",
    "confo "
   ]
  },
  {
   "cell_type": "markdown",
   "id": "262b9386-faeb-4b92-bff8-86496400b5c9",
   "metadata": {},
   "source": [
    "Conformer searches can also be performed directly by function but may be slow for large molecules."
   ]
  },
  {
   "cell_type": "code",
   "execution_count": 6,
   "id": "47b954e1-69a7-4b2d-8551-78cf8be3765c",
   "metadata": {
    "tags": []
   },
   "outputs": [
    {
     "name": "stdout",
     "output_type": "stream",
     "text": [
      "27 conformers found (n_confs:100 n_atoms:23,rmsd_threshold:0.28)\n",
      "CPU times: user 2.18 s, sys: 502 ms, total: 2.68 s\n",
      "Wall time: 5.03 s\n"
     ]
    },
    {
     "data": {
      "text/html": [
       "<div>\n",
       "<style scoped>\n",
       "    .dataframe tbody tr th:only-of-type {\n",
       "        vertical-align: middle;\n",
       "    }\n",
       "\n",
       "    .dataframe tbody tr th {\n",
       "        vertical-align: top;\n",
       "    }\n",
       "\n",
       "    .dataframe thead th {\n",
       "        text-align: right;\n",
       "    }\n",
       "</style>\n",
       "<table border=\"1\" class=\"dataframe\">\n",
       "  <thead>\n",
       "    <tr style=\"text-align: right;\">\n",
       "      <th></th>\n",
       "      <th>SMILES</th>\n",
       "      <th>formula</th>\n",
       "      <th>atoms</th>\n",
       "      <th>energy</th>\n",
       "      <th>maxforce</th>\n",
       "      <th>opt</th>\n",
       "      <th>conf_no</th>\n",
       "    </tr>\n",
       "  </thead>\n",
       "  <tbody>\n",
       "    <tr>\n",
       "      <th>0</th>\n",
       "      <td>CCCCCCC</td>\n",
       "      <td>C7H16</td>\n",
       "      <td>(Atom('C', [3.0053, -0.002...</td>\n",
       "      <td>-95.237531</td>\n",
       "      <td>1.762287</td>\n",
       "      <td>False</td>\n",
       "      <td>0</td>\n",
       "    </tr>\n",
       "    <tr>\n",
       "      <th>1</th>\n",
       "      <td>CCCCCCC</td>\n",
       "      <td>C7H16</td>\n",
       "      <td>(Atom('C', [2.898, 0.7816,...</td>\n",
       "      <td>-95.188905</td>\n",
       "      <td>2.008807</td>\n",
       "      <td>False</td>\n",
       "      <td>1</td>\n",
       "    </tr>\n",
       "    <tr>\n",
       "      <th>2</th>\n",
       "      <td>CCCCCCC</td>\n",
       "      <td>C7H16</td>\n",
       "      <td>(Atom('C', [-3.5877, -0.18...</td>\n",
       "      <td>-95.185779</td>\n",
       "      <td>1.745843</td>\n",
       "      <td>False</td>\n",
       "      <td>2</td>\n",
       "    </tr>\n",
       "    <tr>\n",
       "      <th>3</th>\n",
       "      <td>CCCCCCC</td>\n",
       "      <td>C7H16</td>\n",
       "      <td>(Atom('C', [-3.2504, 0.697...</td>\n",
       "      <td>-95.147516</td>\n",
       "      <td>1.550519</td>\n",
       "      <td>False</td>\n",
       "      <td>3</td>\n",
       "    </tr>\n",
       "    <tr>\n",
       "      <th>4</th>\n",
       "      <td>CCCCCCC</td>\n",
       "      <td>C7H16</td>\n",
       "      <td>(Atom('C', [-2.9247, 0.769...</td>\n",
       "      <td>-95.135836</td>\n",
       "      <td>2.009774</td>\n",
       "      <td>False</td>\n",
       "      <td>4</td>\n",
       "    </tr>\n",
       "    <tr>\n",
       "      <th>5</th>\n",
       "      <td>CCCCCCC</td>\n",
       "      <td>C7H16</td>\n",
       "      <td>(Atom('C', [3.4377, -0.246...</td>\n",
       "      <td>-95.125578</td>\n",
       "      <td>2.087549</td>\n",
       "      <td>False</td>\n",
       "      <td>5</td>\n",
       "    </tr>\n",
       "    <tr>\n",
       "      <th>6</th>\n",
       "      <td>CCCCCCC</td>\n",
       "      <td>C7H16</td>\n",
       "      <td>(Atom('C', [-2.9441, -0.42...</td>\n",
       "      <td>-95.106928</td>\n",
       "      <td>1.703763</td>\n",
       "      <td>False</td>\n",
       "      <td>6</td>\n",
       "    </tr>\n",
       "    <tr>\n",
       "      <th>7</th>\n",
       "      <td>CCCCCCC</td>\n",
       "      <td>C7H16</td>\n",
       "      <td>(Atom('C', [2.8702, 0.8548...</td>\n",
       "      <td>-95.097490</td>\n",
       "      <td>1.634864</td>\n",
       "      <td>False</td>\n",
       "      <td>7</td>\n",
       "    </tr>\n",
       "    <tr>\n",
       "      <th>8</th>\n",
       "      <td>CCCCCCC</td>\n",
       "      <td>C7H16</td>\n",
       "      <td>(Atom('C', [2.8183, 0.0132...</td>\n",
       "      <td>-95.093091</td>\n",
       "      <td>1.924926</td>\n",
       "      <td>False</td>\n",
       "      <td>8</td>\n",
       "    </tr>\n",
       "    <tr>\n",
       "      <th>9</th>\n",
       "      <td>CCCCCCC</td>\n",
       "      <td>C7H16</td>\n",
       "      <td>(Atom('C', [2.8857, 0.2618...</td>\n",
       "      <td>-95.084690</td>\n",
       "      <td>1.579711</td>\n",
       "      <td>False</td>\n",
       "      <td>9</td>\n",
       "    </tr>\n",
       "    <tr>\n",
       "      <th>10</th>\n",
       "      <td>CCCCCCC</td>\n",
       "      <td>C7H16</td>\n",
       "      <td>(Atom('C', [-2.2611, -0.48...</td>\n",
       "      <td>-95.083218</td>\n",
       "      <td>2.448189</td>\n",
       "      <td>False</td>\n",
       "      <td>10</td>\n",
       "    </tr>\n",
       "    <tr>\n",
       "      <th>11</th>\n",
       "      <td>CCCCCCC</td>\n",
       "      <td>C7H16</td>\n",
       "      <td>(Atom('C', [2.6251, 0.6503...</td>\n",
       "      <td>-95.079964</td>\n",
       "      <td>2.177544</td>\n",
       "      <td>False</td>\n",
       "      <td>11</td>\n",
       "    </tr>\n",
       "    <tr>\n",
       "      <th>12</th>\n",
       "      <td>CCCCCCC</td>\n",
       "      <td>C7H16</td>\n",
       "      <td>(Atom('C', [-3.3872, 0.452...</td>\n",
       "      <td>-95.075848</td>\n",
       "      <td>1.562142</td>\n",
       "      <td>False</td>\n",
       "      <td>12</td>\n",
       "    </tr>\n",
       "    <tr>\n",
       "      <th>13</th>\n",
       "      <td>CCCCCCC</td>\n",
       "      <td>C7H16</td>\n",
       "      <td>(Atom('C', [3.5755, -0.081...</td>\n",
       "      <td>-95.049469</td>\n",
       "      <td>2.129741</td>\n",
       "      <td>False</td>\n",
       "      <td>13</td>\n",
       "    </tr>\n",
       "    <tr>\n",
       "      <th>14</th>\n",
       "      <td>CCCCCCC</td>\n",
       "      <td>C7H16</td>\n",
       "      <td>(Atom('C', [-2.744, -0.122...</td>\n",
       "      <td>-95.039986</td>\n",
       "      <td>2.556027</td>\n",
       "      <td>False</td>\n",
       "      <td>14</td>\n",
       "    </tr>\n",
       "    <tr>\n",
       "      <th>15</th>\n",
       "      <td>CCCCCCC</td>\n",
       "      <td>C7H16</td>\n",
       "      <td>(Atom('C', [2.6185, 0.251,...</td>\n",
       "      <td>-95.035803</td>\n",
       "      <td>1.583172</td>\n",
       "      <td>False</td>\n",
       "      <td>15</td>\n",
       "    </tr>\n",
       "    <tr>\n",
       "      <th>16</th>\n",
       "      <td>CCCCCCC</td>\n",
       "      <td>C7H16</td>\n",
       "      <td>(Atom('C', [-2.219, 1.3671...</td>\n",
       "      <td>-95.031449</td>\n",
       "      <td>1.543519</td>\n",
       "      <td>False</td>\n",
       "      <td>16</td>\n",
       "    </tr>\n",
       "    <tr>\n",
       "      <th>17</th>\n",
       "      <td>CCCCCCC</td>\n",
       "      <td>C7H16</td>\n",
       "      <td>(Atom('C', [2.625, 0.7925,...</td>\n",
       "      <td>-94.998560</td>\n",
       "      <td>2.640372</td>\n",
       "      <td>False</td>\n",
       "      <td>17</td>\n",
       "    </tr>\n",
       "    <tr>\n",
       "      <th>18</th>\n",
       "      <td>CCCCCCC</td>\n",
       "      <td>C7H16</td>\n",
       "      <td>(Atom('C', [2.7181, 0.8765...</td>\n",
       "      <td>-94.957185</td>\n",
       "      <td>2.739365</td>\n",
       "      <td>False</td>\n",
       "      <td>18</td>\n",
       "    </tr>\n",
       "    <tr>\n",
       "      <th>19</th>\n",
       "      <td>CCCCCCC</td>\n",
       "      <td>C7H16</td>\n",
       "      <td>(Atom('C', [2.9804, -0.168...</td>\n",
       "      <td>-94.947811</td>\n",
       "      <td>1.408048</td>\n",
       "      <td>False</td>\n",
       "      <td>19</td>\n",
       "    </tr>\n",
       "    <tr>\n",
       "      <th>20</th>\n",
       "      <td>CCCCCCC</td>\n",
       "      <td>C7H16</td>\n",
       "      <td>(Atom('C', [3.1239, 0.2652...</td>\n",
       "      <td>-94.902716</td>\n",
       "      <td>1.735454</td>\n",
       "      <td>False</td>\n",
       "      <td>20</td>\n",
       "    </tr>\n",
       "    <tr>\n",
       "      <th>21</th>\n",
       "      <td>CCCCCCC</td>\n",
       "      <td>C7H16</td>\n",
       "      <td>(Atom('C', [-1.6787, 1.137...</td>\n",
       "      <td>-94.761990</td>\n",
       "      <td>3.276809</td>\n",
       "      <td>False</td>\n",
       "      <td>21</td>\n",
       "    </tr>\n",
       "    <tr>\n",
       "      <th>22</th>\n",
       "      <td>CCCCCCC</td>\n",
       "      <td>C7H16</td>\n",
       "      <td>(Atom('C', [2.5889, 0.4687...</td>\n",
       "      <td>-94.725500</td>\n",
       "      <td>3.525693</td>\n",
       "      <td>False</td>\n",
       "      <td>22</td>\n",
       "    </tr>\n",
       "    <tr>\n",
       "      <th>23</th>\n",
       "      <td>CCCCCCC</td>\n",
       "      <td>C7H16</td>\n",
       "      <td>(Atom('C', [2.9102, 0.2405...</td>\n",
       "      <td>-94.669802</td>\n",
       "      <td>2.801065</td>\n",
       "      <td>False</td>\n",
       "      <td>23</td>\n",
       "    </tr>\n",
       "    <tr>\n",
       "      <th>24</th>\n",
       "      <td>CCCCCCC</td>\n",
       "      <td>C7H16</td>\n",
       "      <td>(Atom('C', [-3.1505, 0.577...</td>\n",
       "      <td>-94.611667</td>\n",
       "      <td>4.235835</td>\n",
       "      <td>False</td>\n",
       "      <td>24</td>\n",
       "    </tr>\n",
       "    <tr>\n",
       "      <th>25</th>\n",
       "      <td>CCCCCCC</td>\n",
       "      <td>C7H16</td>\n",
       "      <td>(Atom('C', [2.9373, 1.1513...</td>\n",
       "      <td>-94.591993</td>\n",
       "      <td>3.473413</td>\n",
       "      <td>False</td>\n",
       "      <td>25</td>\n",
       "    </tr>\n",
       "    <tr>\n",
       "      <th>26</th>\n",
       "      <td>CCCCCCC</td>\n",
       "      <td>C7H16</td>\n",
       "      <td>(Atom('C', [-2.12, -0.1442...</td>\n",
       "      <td>-94.343792</td>\n",
       "      <td>3.291382</td>\n",
       "      <td>False</td>\n",
       "      <td>26</td>\n",
       "    </tr>\n",
       "  </tbody>\n",
       "</table>\n",
       "</div>"
      ],
      "text/plain": [
       "     SMILES formula                          atoms     energy  maxforce  \\\n",
       "0   CCCCCCC   C7H16  (Atom('C', [3.0053, -0.002... -95.237531  1.762287   \n",
       "1   CCCCCCC   C7H16  (Atom('C', [2.898, 0.7816,... -95.188905  2.008807   \n",
       "2   CCCCCCC   C7H16  (Atom('C', [-3.5877, -0.18... -95.185779  1.745843   \n",
       "3   CCCCCCC   C7H16  (Atom('C', [-3.2504, 0.697... -95.147516  1.550519   \n",
       "4   CCCCCCC   C7H16  (Atom('C', [-2.9247, 0.769... -95.135836  2.009774   \n",
       "5   CCCCCCC   C7H16  (Atom('C', [3.4377, -0.246... -95.125578  2.087549   \n",
       "6   CCCCCCC   C7H16  (Atom('C', [-2.9441, -0.42... -95.106928  1.703763   \n",
       "7   CCCCCCC   C7H16  (Atom('C', [2.8702, 0.8548... -95.097490  1.634864   \n",
       "8   CCCCCCC   C7H16  (Atom('C', [2.8183, 0.0132... -95.093091  1.924926   \n",
       "9   CCCCCCC   C7H16  (Atom('C', [2.8857, 0.2618... -95.084690  1.579711   \n",
       "10  CCCCCCC   C7H16  (Atom('C', [-2.2611, -0.48... -95.083218  2.448189   \n",
       "11  CCCCCCC   C7H16  (Atom('C', [2.6251, 0.6503... -95.079964  2.177544   \n",
       "12  CCCCCCC   C7H16  (Atom('C', [-3.3872, 0.452... -95.075848  1.562142   \n",
       "13  CCCCCCC   C7H16  (Atom('C', [3.5755, -0.081... -95.049469  2.129741   \n",
       "14  CCCCCCC   C7H16  (Atom('C', [-2.744, -0.122... -95.039986  2.556027   \n",
       "15  CCCCCCC   C7H16  (Atom('C', [2.6185, 0.251,... -95.035803  1.583172   \n",
       "16  CCCCCCC   C7H16  (Atom('C', [-2.219, 1.3671... -95.031449  1.543519   \n",
       "17  CCCCCCC   C7H16  (Atom('C', [2.625, 0.7925,... -94.998560  2.640372   \n",
       "18  CCCCCCC   C7H16  (Atom('C', [2.7181, 0.8765... -94.957185  2.739365   \n",
       "19  CCCCCCC   C7H16  (Atom('C', [2.9804, -0.168... -94.947811  1.408048   \n",
       "20  CCCCCCC   C7H16  (Atom('C', [3.1239, 0.2652... -94.902716  1.735454   \n",
       "21  CCCCCCC   C7H16  (Atom('C', [-1.6787, 1.137... -94.761990  3.276809   \n",
       "22  CCCCCCC   C7H16  (Atom('C', [2.5889, 0.4687... -94.725500  3.525693   \n",
       "23  CCCCCCC   C7H16  (Atom('C', [2.9102, 0.2405... -94.669802  2.801065   \n",
       "24  CCCCCCC   C7H16  (Atom('C', [-3.1505, 0.577... -94.611667  4.235835   \n",
       "25  CCCCCCC   C7H16  (Atom('C', [2.9373, 1.1513... -94.591993  3.473413   \n",
       "26  CCCCCCC   C7H16  (Atom('C', [-2.12, -0.1442... -94.343792  3.291382   \n",
       "\n",
       "      opt  conf_no  \n",
       "0   False        0  \n",
       "1   False        1  \n",
       "2   False        2  \n",
       "3   False        3  \n",
       "4   False        4  \n",
       "5   False        5  \n",
       "6   False        6  \n",
       "7   False        7  \n",
       "8   False        8  \n",
       "9   False        9  \n",
       "10  False       10  \n",
       "11  False       11  \n",
       "12  False       12  \n",
       "13  False       13  \n",
       "14  False       14  \n",
       "15  False       15  \n",
       "16  False       16  \n",
       "17  False       17  \n",
       "18  False       18  \n",
       "19  False       19  \n",
       "20  False       20  \n",
       "21  False       21  \n",
       "22  False       22  \n",
       "23  False       23  \n",
       "24  False       24  \n",
       "25  False       25  \n",
       "26  False       26  "
      ]
     },
     "execution_count": 6,
     "metadata": {},
     "output_type": "execute_result"
    }
   ],
   "source": [
    "%%time\n",
    "confo2 = get_conformersdf(\"CCCCCCC\", opt=False)\n",
    "confo2"
   ]
  },
  {
   "cell_type": "markdown",
   "id": "8e8ae9b2-ebe7-4003-9a37-5d30f287ca13",
   "metadata": {},
   "source": [
    "## Graph Drawing Tools for DataFrame\n",
    "\n",
    "The class `Dfplot` provides a UI suitable for creating graphs from DataFrames in a versatile manner.\n",
    "By providing a DataFrame as an argument, you can specify x-axis and y-axis parameters for the graph drawing."
   ]
  },
  {
   "cell_type": "code",
   "execution_count": 9,
   "id": "8fea148d-1462-4ad6-b0cc-8f12247406cc",
   "metadata": {
    "tags": []
   },
   "outputs": [
    {
     "data": {
      "application/vnd.jupyter.widget-view+json": {
       "model_id": "3b644b5c7e234e1db71388ce92544e22",
       "version_major": 2,
       "version_minor": 0
      },
      "text/plain": [
       "VBox(children=(HBox(children=(Select(description='col1:', layout=Layout(border='0px', height='27px', width='20…"
      ]
     },
     "metadata": {},
     "output_type": "display_data"
    }
   ],
   "source": [
    "from moldraw import Dfplot\n",
    "p = Dfplot(confo2)"
   ]
  },
  {
   "cell_type": "code",
   "execution_count": null,
   "id": "3b5e64b0-cc27-4326-90ef-f02eef26570b",
   "metadata": {},
   "outputs": [],
   "source": []
  }
 ],
 "metadata": {
  "kernelspec": {
   "display_name": "Python 3.9",
   "language": "python",
   "name": "python39"
  },
  "language_info": {
   "codemirror_mode": {
    "name": "ipython",
    "version": 3
   },
   "file_extension": ".py",
   "mimetype": "text/x-python",
   "name": "python",
   "nbconvert_exporter": "python",
   "pygments_lexer": "ipython3",
   "version": "3.9.16"
  },
  "widgets": {
   "application/vnd.jupyter.widget-state+json": {
    "state": {
     "01b5360a932a40c6a6c19bc1625a7b66": {
      "model_module": "nglview-js-widgets",
      "model_module_version": "3.0.1",
      "model_name": "NGLModel",
      "state": {
       "_camera_orientation": [
        15.502365482342672,
        0,
        -0.3100886559035534,
        0,
        0,
        15.505466472268727,
        0,
        0,
        0.3100886559035534,
        0,
        15.502365482342672,
        0,
        -0.18599998950958252,
        -0.06350001692771912,
        -0.32350002229213715,
        1
       ],
       "_camera_str": "orthographic",
       "_gui_theme": null,
       "_ibtn_fullscreen": "IPY_MODEL_b35ca797e3ff42e5b2e035481527e228",
       "_igui": null,
       "_iplayer": "IPY_MODEL_15b4e01f3d054b96b6eb2921c65cf281",
       "_ngl_color_dict": {},
       "_ngl_coordinate_resource": {},
       "_ngl_full_stage_parameters": {
        "ambientColor": 14540253,
        "ambientIntensity": 0.2,
        "backgroundColor": "white",
        "cameraEyeSep": 0.3,
        "cameraFov": 40,
        "cameraType": "perspective",
        "clipDist": 10,
        "clipFar": 100,
        "clipNear": 0,
        "fogFar": 100,
        "fogNear": 50,
        "hoverTimeout": 0,
        "impostor": true,
        "lightColor": 14540253,
        "lightIntensity": 1,
        "mousePreset": "default",
        "panSpeed": 1,
        "quality": "medium",
        "rotateSpeed": 2,
        "sampleLevel": 0,
        "tooltip": true,
        "workerDefault": true,
        "zoomSpeed": 1.2
       },
       "_ngl_msg_archive": [
        {
         "args": [
          {
           "binary": false,
           "data": "MODEL     1\nATOM      1    C MOL     1       0.001   0.004  -0.020  1.00  0.00           C  \nATOM      2    H MOL     1      -0.658  -0.848  -0.321  1.00  0.00           H  \nATOM      3    H MOL     1      -0.459   0.975  -0.306  1.00  0.00           H  \nATOM      4    H MOL     1       0.085  -0.025   1.080  1.00  0.00           H  \nATOM      5    H MOL     1       1.030  -0.106  -0.433  1.00  0.00           H  \nENDMDL\n",
           "type": "blob"
          }
         ],
         "kwargs": {
          "defaultRepresentation": true,
          "ext": "pdb"
         },
         "methodName": "loadFile",
         "reconstruc_color_scheme": false,
         "target": "Stage",
         "type": "call_method"
        },
        {
         "args": [
          "this._Q = [[1.0, 0.0, 0.0], [0.0, 1.0, 0.0], [0.0, 0.0, 1.0]]\n    var tooltip = document.createElement('div');\n    Object.assign(tooltip.style, {\n      display: 'none',\n      position: 'fixed',\n      zIndex: 10,\n      pointerEvents: 'none',\n      backgroundColor: 'rgba( 0, 0, 0, 0.6 )',\n      color: 'lightgrey',\n      padding: '8px',\n      fontFamily: 'sans-serif'\n    });\n    document.body.appendChild(tooltip);\n\n    var that = this;\n    this.stage.mouseControls.remove('hoverPick');\n    this.stage.signals.hovered.add(function (pickingProxy) {\n      if (pickingProxy && (pickingProxy.atom || pickingProxy.bond)) {\n        var atom = pickingProxy.atom || pickingProxy.closestBondAtom\n        var mp = pickingProxy.mouse.position\n        //tooltip.innerText = atom.element + ' i=' + atom.index + ' (' + atom.x.toFixed(2) +  ', ' + atom.y.toFixed(2) +  ', ' + atom.z.toFixed(2) + ')'\n        //var pos = that._atoms_pos[atom.index]\n        var Q = that._Q\n        var pos_x = Q[0][0] * atom.x + Q[0][1] * atom.y + Q[0][2] * atom.z \n        var pos_y = Q[1][0] * atom.x + Q[1][1] * atom.y + Q[1][2] * atom.z\n        var pos_z = Q[2][0] * atom.x + Q[2][1] * atom.y + Q[2][2] * atom.z\n        tooltip.innerText = 'i=' + atom.index + ' ' + atom.element + ' (' + pos_x.toFixed(2) +  ', ' + pos_y.toFixed(2) +  ', ' + pos_z.toFixed(2) + ')'\n        tooltip.style.bottom = window.innerHeight - mp.y + 3 + 'px'\n        tooltip.style.left = mp.x + 3 + 'px'\n        tooltip.style.display = 'block'\n      } else {\n        tooltip.style.display = 'none'\n      }\n    });\n    this.stage.tooltip = tooltip;\n    "
         ],
         "kwargs": {},
         "methodName": "executeCode",
         "reconstruc_color_scheme": false,
         "target": "Widget",
         "type": "call_method"
        },
        {
         "args": [
          "label",
          0
         ],
         "kwargs": {},
         "methodName": "removeRepresentationsByName",
         "reconstruc_color_scheme": false,
         "target": "Widget",
         "type": "call_method"
        },
        {
         "args": [
          "label",
          0
         ],
         "kwargs": {},
         "methodName": "removeRepresentationsByName",
         "reconstruc_color_scheme": false,
         "target": "Widget",
         "type": "call_method"
        },
        {
         "args": [
          "label",
          0
         ],
         "kwargs": {},
         "methodName": "removeRepresentationsByName",
         "reconstruc_color_scheme": false,
         "target": "Widget",
         "type": "call_method"
        },
        {
         "args": [
          {
           "data": "MODEL     1\nATOM      1    C MOL     1       0.759  -0.061   0.048  1.00  0.00           C  \nATOM      2    C MOL     1      -0.732   0.045  -0.077  1.00  0.00           C  \nATOM      3    H MOL     1       1.246  -0.620  -0.759  1.00  0.00           H  \nATOM      4    H MOL     1       1.216   0.955   0.154  1.00  0.00           H  \nATOM      5    H MOL     1       0.964  -0.631   0.992  1.00  0.00           H  \nATOM      6    H MOL     1      -1.040   1.063  -0.429  1.00  0.00           H  \nATOM      7    H MOL     1      -1.256  -0.090   0.903  1.00  0.00           H  \nATOM      8    H MOL     1      -1.159  -0.661  -0.832  1.00  0.00           H  \nENDMDL\n",
           "ext": "pdb"
          }
         ],
         "kwargs": {},
         "methodName": "replaceStructure",
         "reconstruc_color_scheme": false,
         "target": "Widget",
         "type": "call_method"
        },
        {
         "args": [
          "this._Q = [[1.0, 0.0, 0.0], [0.0, 1.0, 0.0], [0.0, 0.0, 1.0]]\n    var tooltip = document.createElement('div');\n    Object.assign(tooltip.style, {\n      display: 'none',\n      position: 'fixed',\n      zIndex: 10,\n      pointerEvents: 'none',\n      backgroundColor: 'rgba( 0, 0, 0, 0.6 )',\n      color: 'lightgrey',\n      padding: '8px',\n      fontFamily: 'sans-serif'\n    });\n    document.body.appendChild(tooltip);\n\n    var that = this;\n    this.stage.mouseControls.remove('hoverPick');\n    this.stage.signals.hovered.add(function (pickingProxy) {\n      if (pickingProxy && (pickingProxy.atom || pickingProxy.bond)) {\n        var atom = pickingProxy.atom || pickingProxy.closestBondAtom\n        var mp = pickingProxy.mouse.position\n        //tooltip.innerText = atom.element + ' i=' + atom.index + ' (' + atom.x.toFixed(2) +  ', ' + atom.y.toFixed(2) +  ', ' + atom.z.toFixed(2) + ')'\n        //var pos = that._atoms_pos[atom.index]\n        var Q = that._Q\n        var pos_x = Q[0][0] * atom.x + Q[0][1] * atom.y + Q[0][2] * atom.z \n        var pos_y = Q[1][0] * atom.x + Q[1][1] * atom.y + Q[1][2] * atom.z\n        var pos_z = Q[2][0] * atom.x + Q[2][1] * atom.y + Q[2][2] * atom.z\n        tooltip.innerText = 'i=' + atom.index + ' ' + atom.element + ' (' + pos_x.toFixed(2) +  ', ' + pos_y.toFixed(2) +  ', ' + pos_z.toFixed(2) + ')'\n        tooltip.style.bottom = window.innerHeight - mp.y + 3 + 'px'\n        tooltip.style.left = mp.x + 3 + 'px'\n        tooltip.style.display = 'block'\n      } else {\n        tooltip.style.display = 'none'\n      }\n    });\n    this.stage.tooltip = tooltip;\n    "
         ],
         "kwargs": {},
         "methodName": "executeCode",
         "reconstruc_color_scheme": false,
         "target": "Widget",
         "type": "call_method"
        },
        {
         "args": [
          "label",
          0
         ],
         "kwargs": {},
         "methodName": "removeRepresentationsByName",
         "reconstruc_color_scheme": false,
         "target": "Widget",
         "type": "call_method"
        },
        {
         "args": [
          "label",
          0
         ],
         "kwargs": {},
         "methodName": "removeRepresentationsByName",
         "reconstruc_color_scheme": false,
         "target": "Widget",
         "type": "call_method"
        },
        {
         "args": [
          "label",
          0
         ],
         "kwargs": {},
         "methodName": "removeRepresentationsByName",
         "reconstruc_color_scheme": false,
         "target": "Widget",
         "type": "call_method"
        },
        {
         "args": [
          {
           "data": "MODEL     1\nATOM      1    C MOL     1      -1.261   0.176  -0.027  1.00  0.00           C  \nATOM      2    C MOL     1       0.031  -0.529   0.222  1.00  0.00           C  \nATOM      3    C MOL     1       1.243   0.261  -0.157  1.00  0.00           C  \nATOM      4    H MOL     1      -1.139   1.229  -0.352  1.00  0.00           H  \nATOM      5    H MOL     1      -1.894  -0.353  -0.792  1.00  0.00           H  \nATOM      6    H MOL     1      -1.908   0.207   0.893  1.00  0.00           H  \nATOM      7    H MOL     1       0.034  -1.469  -0.359  1.00  0.00           H  \nATOM      8    H MOL     1       0.090  -0.808   1.304  1.00  0.00           H  \nATOM      9    H MOL     1       1.130   1.351  -0.019  1.00  0.00           H  \nATOM     10    H MOL     1       2.109  -0.061   0.488  1.00  0.00           H  \nATOM     11    H MOL     1       1.565  -0.004  -1.202  1.00  0.00           H  \nENDMDL\n",
           "ext": "pdb"
          }
         ],
         "kwargs": {},
         "methodName": "replaceStructure",
         "reconstruc_color_scheme": false,
         "target": "Widget",
         "type": "call_method"
        },
        {
         "args": [
          "this._Q = [[1.0, 0.0, 0.0], [0.0, 1.0, 0.0], [0.0, 0.0, 1.0]]\n    var tooltip = document.createElement('div');\n    Object.assign(tooltip.style, {\n      display: 'none',\n      position: 'fixed',\n      zIndex: 10,\n      pointerEvents: 'none',\n      backgroundColor: 'rgba( 0, 0, 0, 0.6 )',\n      color: 'lightgrey',\n      padding: '8px',\n      fontFamily: 'sans-serif'\n    });\n    document.body.appendChild(tooltip);\n\n    var that = this;\n    this.stage.mouseControls.remove('hoverPick');\n    this.stage.signals.hovered.add(function (pickingProxy) {\n      if (pickingProxy && (pickingProxy.atom || pickingProxy.bond)) {\n        var atom = pickingProxy.atom || pickingProxy.closestBondAtom\n        var mp = pickingProxy.mouse.position\n        //tooltip.innerText = atom.element + ' i=' + atom.index + ' (' + atom.x.toFixed(2) +  ', ' + atom.y.toFixed(2) +  ', ' + atom.z.toFixed(2) + ')'\n        //var pos = that._atoms_pos[atom.index]\n        var Q = that._Q\n        var pos_x = Q[0][0] * atom.x + Q[0][1] * atom.y + Q[0][2] * atom.z \n        var pos_y = Q[1][0] * atom.x + Q[1][1] * atom.y + Q[1][2] * atom.z\n        var pos_z = Q[2][0] * atom.x + Q[2][1] * atom.y + Q[2][2] * atom.z\n        tooltip.innerText = 'i=' + atom.index + ' ' + atom.element + ' (' + pos_x.toFixed(2) +  ', ' + pos_y.toFixed(2) +  ', ' + pos_z.toFixed(2) + ')'\n        tooltip.style.bottom = window.innerHeight - mp.y + 3 + 'px'\n        tooltip.style.left = mp.x + 3 + 'px'\n        tooltip.style.display = 'block'\n      } else {\n        tooltip.style.display = 'none'\n      }\n    });\n    this.stage.tooltip = tooltip;\n    "
         ],
         "kwargs": {},
         "methodName": "executeCode",
         "reconstruc_color_scheme": false,
         "target": "Widget",
         "type": "call_method"
        },
        {
         "args": [
          "label",
          0
         ],
         "kwargs": {},
         "methodName": "removeRepresentationsByName",
         "reconstruc_color_scheme": false,
         "target": "Widget",
         "type": "call_method"
        },
        {
         "args": [
          "label",
          0
         ],
         "kwargs": {},
         "methodName": "removeRepresentationsByName",
         "reconstruc_color_scheme": false,
         "target": "Widget",
         "type": "call_method"
        },
        {
         "args": [
          "label",
          0
         ],
         "kwargs": {},
         "methodName": "removeRepresentationsByName",
         "reconstruc_color_scheme": false,
         "target": "Widget",
         "type": "call_method"
        },
        {
         "args": [
          {
           "data": "MODEL     1\nATOM      1    C MOL     1       1.862  -0.072   0.328  1.00  0.00           C  \nATOM      2    C MOL     1       0.527   0.459  -0.126  1.00  0.00           C  \nATOM      3    C MOL     1      -0.533  -0.462   0.494  1.00  0.00           C  \nATOM      4    C MOL     1      -1.874   0.093   0.023  1.00  0.00           C  \nATOM      5    H MOL     1       1.921  -0.100   1.450  1.00  0.00           H  \nATOM      6    H MOL     1       2.702   0.485  -0.116  1.00  0.00           H  \nATOM      7    H MOL     1       1.942  -1.115  -0.063  1.00  0.00           H  \nATOM      8    H MOL     1       0.495   0.342  -1.234  1.00  0.00           H  \nATOM      9    H MOL     1       0.342   1.498   0.125  1.00  0.00           H  \nATOM     10    H MOL     1      -0.439  -0.373   1.586  1.00  0.00           H  \nATOM     11    H MOL     1      -0.377  -1.502   0.196  1.00  0.00           H  \nATOM     12    H MOL     1      -1.770   0.535  -0.998  1.00  0.00           H  \nATOM     13    H MOL     1      -2.626  -0.707  -0.065  1.00  0.00           H  \nATOM     14    H MOL     1      -2.174   0.919   0.695  1.00  0.00           H  \nENDMDL\n",
           "ext": "pdb"
          }
         ],
         "kwargs": {},
         "methodName": "replaceStructure",
         "reconstruc_color_scheme": false,
         "target": "Widget",
         "type": "call_method"
        },
        {
         "args": [
          "this._Q = [[1.0, 0.0, 0.0], [0.0, 1.0, 0.0], [0.0, 0.0, 1.0]]\n    var tooltip = document.createElement('div');\n    Object.assign(tooltip.style, {\n      display: 'none',\n      position: 'fixed',\n      zIndex: 10,\n      pointerEvents: 'none',\n      backgroundColor: 'rgba( 0, 0, 0, 0.6 )',\n      color: 'lightgrey',\n      padding: '8px',\n      fontFamily: 'sans-serif'\n    });\n    document.body.appendChild(tooltip);\n\n    var that = this;\n    this.stage.mouseControls.remove('hoverPick');\n    this.stage.signals.hovered.add(function (pickingProxy) {\n      if (pickingProxy && (pickingProxy.atom || pickingProxy.bond)) {\n        var atom = pickingProxy.atom || pickingProxy.closestBondAtom\n        var mp = pickingProxy.mouse.position\n        //tooltip.innerText = atom.element + ' i=' + atom.index + ' (' + atom.x.toFixed(2) +  ', ' + atom.y.toFixed(2) +  ', ' + atom.z.toFixed(2) + ')'\n        //var pos = that._atoms_pos[atom.index]\n        var Q = that._Q\n        var pos_x = Q[0][0] * atom.x + Q[0][1] * atom.y + Q[0][2] * atom.z \n        var pos_y = Q[1][0] * atom.x + Q[1][1] * atom.y + Q[1][2] * atom.z\n        var pos_z = Q[2][0] * atom.x + Q[2][1] * atom.y + Q[2][2] * atom.z\n        tooltip.innerText = 'i=' + atom.index + ' ' + atom.element + ' (' + pos_x.toFixed(2) +  ', ' + pos_y.toFixed(2) +  ', ' + pos_z.toFixed(2) + ')'\n        tooltip.style.bottom = window.innerHeight - mp.y + 3 + 'px'\n        tooltip.style.left = mp.x + 3 + 'px'\n        tooltip.style.display = 'block'\n      } else {\n        tooltip.style.display = 'none'\n      }\n    });\n    this.stage.tooltip = tooltip;\n    "
         ],
         "kwargs": {},
         "methodName": "executeCode",
         "reconstruc_color_scheme": false,
         "target": "Widget",
         "type": "call_method"
        },
        {
         "args": [
          "label",
          0
         ],
         "kwargs": {},
         "methodName": "removeRepresentationsByName",
         "reconstruc_color_scheme": false,
         "target": "Widget",
         "type": "call_method"
        },
        {
         "args": [
          "label",
          0
         ],
         "kwargs": {},
         "methodName": "removeRepresentationsByName",
         "reconstruc_color_scheme": false,
         "target": "Widget",
         "type": "call_method"
        },
        {
         "args": [
          "label",
          0
         ],
         "kwargs": {},
         "methodName": "removeRepresentationsByName",
         "reconstruc_color_scheme": false,
         "target": "Widget",
         "type": "call_method"
        },
        {
         "args": [
          {
           "data": "MODEL     1\nATOM      1    C MOL     1      -2.186  -0.688   0.107  1.00  0.00           C  \nATOM      2    C MOL     1      -0.757  -0.399   0.429  1.00  0.00           C  \nATOM      3    C MOL     1      -0.251   0.668  -0.523  1.00  0.00           C  \nATOM      4    C MOL     1       1.218   0.994  -0.222  1.00  0.00           C  \nATOM      5    C MOL     1       2.083  -0.224  -0.378  1.00  0.00           C  \nATOM      6    H MOL     1      -2.608   0.057  -0.622  1.00  0.00           H  \nATOM      7    H MOL     1      -2.857  -0.598   1.011  1.00  0.00           H  \nATOM      8    H MOL     1      -2.339  -1.729  -0.254  1.00  0.00           H  \nATOM      9    H MOL     1      -0.093  -1.285   0.295  1.00  0.00           H  \nATOM     10    H MOL     1      -0.667  -0.095   1.481  1.00  0.00           H  \nATOM     11    H MOL     1      -0.868   1.578  -0.518  1.00  0.00           H  \nATOM     12    H MOL     1      -0.254   0.282  -1.562  1.00  0.00           H  \nATOM     13    H MOL     1       1.276   1.350   0.813  1.00  0.00           H  \nATOM     14    H MOL     1       1.532   1.753  -0.953  1.00  0.00           H  \nATOM     15    H MOL     1       3.018  -0.012  -0.949  1.00  0.00           H  \nATOM     16    H MOL     1       2.273  -0.676   0.609  1.00  0.00           H  \nATOM     17    H MOL     1       1.480  -0.975  -0.967  1.00  0.00           H  \nENDMDL\n",
           "ext": "pdb"
          }
         ],
         "kwargs": {},
         "methodName": "replaceStructure",
         "reconstruc_color_scheme": false,
         "target": "Widget",
         "type": "call_method"
        },
        {
         "args": [
          "this._Q = [[1.0, 0.0, 0.0], [0.0, 1.0, 0.0], [0.0, 0.0, 1.0]]\n    var tooltip = document.createElement('div');\n    Object.assign(tooltip.style, {\n      display: 'none',\n      position: 'fixed',\n      zIndex: 10,\n      pointerEvents: 'none',\n      backgroundColor: 'rgba( 0, 0, 0, 0.6 )',\n      color: 'lightgrey',\n      padding: '8px',\n      fontFamily: 'sans-serif'\n    });\n    document.body.appendChild(tooltip);\n\n    var that = this;\n    this.stage.mouseControls.remove('hoverPick');\n    this.stage.signals.hovered.add(function (pickingProxy) {\n      if (pickingProxy && (pickingProxy.atom || pickingProxy.bond)) {\n        var atom = pickingProxy.atom || pickingProxy.closestBondAtom\n        var mp = pickingProxy.mouse.position\n        //tooltip.innerText = atom.element + ' i=' + atom.index + ' (' + atom.x.toFixed(2) +  ', ' + atom.y.toFixed(2) +  ', ' + atom.z.toFixed(2) + ')'\n        //var pos = that._atoms_pos[atom.index]\n        var Q = that._Q\n        var pos_x = Q[0][0] * atom.x + Q[0][1] * atom.y + Q[0][2] * atom.z \n        var pos_y = Q[1][0] * atom.x + Q[1][1] * atom.y + Q[1][2] * atom.z\n        var pos_z = Q[2][0] * atom.x + Q[2][1] * atom.y + Q[2][2] * atom.z\n        tooltip.innerText = 'i=' + atom.index + ' ' + atom.element + ' (' + pos_x.toFixed(2) +  ', ' + pos_y.toFixed(2) +  ', ' + pos_z.toFixed(2) + ')'\n        tooltip.style.bottom = window.innerHeight - mp.y + 3 + 'px'\n        tooltip.style.left = mp.x + 3 + 'px'\n        tooltip.style.display = 'block'\n      } else {\n        tooltip.style.display = 'none'\n      }\n    });\n    this.stage.tooltip = tooltip;\n    "
         ],
         "kwargs": {},
         "methodName": "executeCode",
         "reconstruc_color_scheme": false,
         "target": "Widget",
         "type": "call_method"
        },
        {
         "args": [
          "label",
          0
         ],
         "kwargs": {},
         "methodName": "removeRepresentationsByName",
         "reconstruc_color_scheme": false,
         "target": "Widget",
         "type": "call_method"
        },
        {
         "args": [
          "label",
          0
         ],
         "kwargs": {},
         "methodName": "removeRepresentationsByName",
         "reconstruc_color_scheme": false,
         "target": "Widget",
         "type": "call_method"
        },
        {
         "args": [
          "label",
          0
         ],
         "kwargs": {},
         "methodName": "removeRepresentationsByName",
         "reconstruc_color_scheme": false,
         "target": "Widget",
         "type": "call_method"
        },
        {
         "args": [
          {
           "data": "MODEL     1\nATOM      1    C MOL     1       1.862  -0.072   0.328  1.00  0.00           C  \nATOM      2    C MOL     1       0.527   0.459  -0.126  1.00  0.00           C  \nATOM      3    C MOL     1      -0.533  -0.462   0.494  1.00  0.00           C  \nATOM      4    C MOL     1      -1.874   0.093   0.023  1.00  0.00           C  \nATOM      5    H MOL     1       1.921  -0.100   1.450  1.00  0.00           H  \nATOM      6    H MOL     1       2.702   0.485  -0.116  1.00  0.00           H  \nATOM      7    H MOL     1       1.942  -1.115  -0.063  1.00  0.00           H  \nATOM      8    H MOL     1       0.495   0.342  -1.234  1.00  0.00           H  \nATOM      9    H MOL     1       0.342   1.498   0.125  1.00  0.00           H  \nATOM     10    H MOL     1      -0.439  -0.373   1.586  1.00  0.00           H  \nATOM     11    H MOL     1      -0.377  -1.502   0.196  1.00  0.00           H  \nATOM     12    H MOL     1      -1.770   0.535  -0.998  1.00  0.00           H  \nATOM     13    H MOL     1      -2.626  -0.707  -0.065  1.00  0.00           H  \nATOM     14    H MOL     1      -2.174   0.919   0.695  1.00  0.00           H  \nENDMDL\n",
           "ext": "pdb"
          }
         ],
         "kwargs": {},
         "methodName": "replaceStructure",
         "reconstruc_color_scheme": false,
         "target": "Widget",
         "type": "call_method"
        },
        {
         "args": [
          "this._Q = [[1.0, 0.0, 0.0], [0.0, 1.0, 0.0], [0.0, 0.0, 1.0]]\n    var tooltip = document.createElement('div');\n    Object.assign(tooltip.style, {\n      display: 'none',\n      position: 'fixed',\n      zIndex: 10,\n      pointerEvents: 'none',\n      backgroundColor: 'rgba( 0, 0, 0, 0.6 )',\n      color: 'lightgrey',\n      padding: '8px',\n      fontFamily: 'sans-serif'\n    });\n    document.body.appendChild(tooltip);\n\n    var that = this;\n    this.stage.mouseControls.remove('hoverPick');\n    this.stage.signals.hovered.add(function (pickingProxy) {\n      if (pickingProxy && (pickingProxy.atom || pickingProxy.bond)) {\n        var atom = pickingProxy.atom || pickingProxy.closestBondAtom\n        var mp = pickingProxy.mouse.position\n        //tooltip.innerText = atom.element + ' i=' + atom.index + ' (' + atom.x.toFixed(2) +  ', ' + atom.y.toFixed(2) +  ', ' + atom.z.toFixed(2) + ')'\n        //var pos = that._atoms_pos[atom.index]\n        var Q = that._Q\n        var pos_x = Q[0][0] * atom.x + Q[0][1] * atom.y + Q[0][2] * atom.z \n        var pos_y = Q[1][0] * atom.x + Q[1][1] * atom.y + Q[1][2] * atom.z\n        var pos_z = Q[2][0] * atom.x + Q[2][1] * atom.y + Q[2][2] * atom.z\n        tooltip.innerText = 'i=' + atom.index + ' ' + atom.element + ' (' + pos_x.toFixed(2) +  ', ' + pos_y.toFixed(2) +  ', ' + pos_z.toFixed(2) + ')'\n        tooltip.style.bottom = window.innerHeight - mp.y + 3 + 'px'\n        tooltip.style.left = mp.x + 3 + 'px'\n        tooltip.style.display = 'block'\n      } else {\n        tooltip.style.display = 'none'\n      }\n    });\n    this.stage.tooltip = tooltip;\n    "
         ],
         "kwargs": {},
         "methodName": "executeCode",
         "reconstruc_color_scheme": false,
         "target": "Widget",
         "type": "call_method"
        },
        {
         "args": [
          "label",
          0
         ],
         "kwargs": {},
         "methodName": "removeRepresentationsByName",
         "reconstruc_color_scheme": false,
         "target": "Widget",
         "type": "call_method"
        },
        {
         "args": [
          "label",
          0
         ],
         "kwargs": {},
         "methodName": "removeRepresentationsByName",
         "reconstruc_color_scheme": false,
         "target": "Widget",
         "type": "call_method"
        },
        {
         "args": [
          "label",
          0
         ],
         "kwargs": {},
         "methodName": "removeRepresentationsByName",
         "reconstruc_color_scheme": false,
         "target": "Widget",
         "type": "call_method"
        },
        {
         "args": [
          {
           "data": "MODEL     1\nATOM      1    C MOL     1      -1.261   0.176  -0.027  1.00  0.00           C  \nATOM      2    C MOL     1       0.031  -0.529   0.222  1.00  0.00           C  \nATOM      3    C MOL     1       1.243   0.261  -0.157  1.00  0.00           C  \nATOM      4    H MOL     1      -1.139   1.229  -0.352  1.00  0.00           H  \nATOM      5    H MOL     1      -1.894  -0.353  -0.792  1.00  0.00           H  \nATOM      6    H MOL     1      -1.908   0.207   0.893  1.00  0.00           H  \nATOM      7    H MOL     1       0.034  -1.469  -0.359  1.00  0.00           H  \nATOM      8    H MOL     1       0.090  -0.808   1.304  1.00  0.00           H  \nATOM      9    H MOL     1       1.130   1.351  -0.019  1.00  0.00           H  \nATOM     10    H MOL     1       2.109  -0.061   0.488  1.00  0.00           H  \nATOM     11    H MOL     1       1.565  -0.004  -1.202  1.00  0.00           H  \nENDMDL\n",
           "ext": "pdb"
          }
         ],
         "kwargs": {},
         "methodName": "replaceStructure",
         "reconstruc_color_scheme": false,
         "target": "Widget",
         "type": "call_method"
        },
        {
         "args": [
          "this._Q = [[1.0, 0.0, 0.0], [0.0, 1.0, 0.0], [0.0, 0.0, 1.0]]\n    var tooltip = document.createElement('div');\n    Object.assign(tooltip.style, {\n      display: 'none',\n      position: 'fixed',\n      zIndex: 10,\n      pointerEvents: 'none',\n      backgroundColor: 'rgba( 0, 0, 0, 0.6 )',\n      color: 'lightgrey',\n      padding: '8px',\n      fontFamily: 'sans-serif'\n    });\n    document.body.appendChild(tooltip);\n\n    var that = this;\n    this.stage.mouseControls.remove('hoverPick');\n    this.stage.signals.hovered.add(function (pickingProxy) {\n      if (pickingProxy && (pickingProxy.atom || pickingProxy.bond)) {\n        var atom = pickingProxy.atom || pickingProxy.closestBondAtom\n        var mp = pickingProxy.mouse.position\n        //tooltip.innerText = atom.element + ' i=' + atom.index + ' (' + atom.x.toFixed(2) +  ', ' + atom.y.toFixed(2) +  ', ' + atom.z.toFixed(2) + ')'\n        //var pos = that._atoms_pos[atom.index]\n        var Q = that._Q\n        var pos_x = Q[0][0] * atom.x + Q[0][1] * atom.y + Q[0][2] * atom.z \n        var pos_y = Q[1][0] * atom.x + Q[1][1] * atom.y + Q[1][2] * atom.z\n        var pos_z = Q[2][0] * atom.x + Q[2][1] * atom.y + Q[2][2] * atom.z\n        tooltip.innerText = 'i=' + atom.index + ' ' + atom.element + ' (' + pos_x.toFixed(2) +  ', ' + pos_y.toFixed(2) +  ', ' + pos_z.toFixed(2) + ')'\n        tooltip.style.bottom = window.innerHeight - mp.y + 3 + 'px'\n        tooltip.style.left = mp.x + 3 + 'px'\n        tooltip.style.display = 'block'\n      } else {\n        tooltip.style.display = 'none'\n      }\n    });\n    this.stage.tooltip = tooltip;\n    "
         ],
         "kwargs": {},
         "methodName": "executeCode",
         "reconstruc_color_scheme": false,
         "target": "Widget",
         "type": "call_method"
        },
        {
         "args": [
          "label",
          0
         ],
         "kwargs": {},
         "methodName": "removeRepresentationsByName",
         "reconstruc_color_scheme": false,
         "target": "Widget",
         "type": "call_method"
        },
        {
         "args": [
          "label",
          0
         ],
         "kwargs": {},
         "methodName": "removeRepresentationsByName",
         "reconstruc_color_scheme": false,
         "target": "Widget",
         "type": "call_method"
        },
        {
         "args": [
          "label",
          0
         ],
         "kwargs": {},
         "methodName": "removeRepresentationsByName",
         "reconstruc_color_scheme": false,
         "target": "Widget",
         "type": "call_method"
        }
       ],
       "_ngl_original_stage_parameters": {
        "ambientColor": 14540253,
        "ambientIntensity": 0.2,
        "backgroundColor": "white",
        "cameraEyeSep": 0.3,
        "cameraFov": 40,
        "cameraType": "perspective",
        "clipDist": 10,
        "clipFar": 100,
        "clipNear": 0,
        "fogFar": 100,
        "fogNear": 50,
        "hoverTimeout": 0,
        "impostor": true,
        "lightColor": 14540253,
        "lightIntensity": 1,
        "mousePreset": "default",
        "panSpeed": 1,
        "quality": "medium",
        "rotateSpeed": 2,
        "sampleLevel": 0,
        "tooltip": true,
        "workerDefault": true,
        "zoomSpeed": 1.2
       },
       "_ngl_repr_dict": {
        "0": {
         "0": {
          "params": {
           "aspectRatio": 1.5,
           "assembly": "default",
           "bondScale": 0.3,
           "bondSpacing": 0.75,
           "clipCenter": {
            "x": 0,
            "y": 0,
            "z": 0
           },
           "clipNear": 0,
           "clipRadius": 0,
           "colorMode": "hcl",
           "colorReverse": false,
           "colorScale": "",
           "colorScheme": "element",
           "colorValue": 9474192,
           "cylinderOnly": false,
           "defaultAssembly": "",
           "depthWrite": true,
           "diffuse": 16777215,
           "diffuseInterior": false,
           "disableImpostor": false,
           "disablePicking": false,
           "flatShaded": false,
           "interiorColor": 2236962,
           "interiorDarkening": 0,
           "lazy": false,
           "lineOnly": false,
           "linewidth": 2,
           "matrix": {
            "elements": [
             1,
             0,
             0,
             0,
             0,
             1,
             0,
             0,
             0,
             0,
             1,
             0,
             0,
             0,
             0,
             1
            ]
           },
           "metalness": 0,
           "multipleBond": "off",
           "opacity": 1,
           "openEnded": true,
           "quality": "high",
           "radialSegments": 20,
           "radiusData": {},
           "radiusScale": 2,
           "radiusSize": 0.15,
           "radiusType": "size",
           "roughness": 0.4,
           "sele": "",
           "side": "double",
           "sphereDetail": 2,
           "useInteriorColor": true,
           "visible": true,
           "wireframe": false
          },
          "type": "ball+stick"
         }
        }
       },
       "_ngl_serialize": false,
       "_ngl_version": "2.0.0-dev.36",
       "_ngl_view_id": [
        "A6428B54-5E51-44BA-9EAC-F6FCFB0EDBD0"
       ],
       "_player_dict": {},
       "_scene_position": {},
       "_scene_rotation": {},
       "_synced_model_ids": [],
       "_synced_repr_model_ids": [],
       "_view_height": "340px",
       "_view_width": "400px",
       "background": "white",
       "frame": 0,
       "gui_style": null,
       "layout": "IPY_MODEL_7dd14aa812f44b1b84afe60410c130df",
       "max_frame": 0,
       "n_components": 1,
       "picked": {}
      }
     },
     "066967afe6884e9db36491c2f2e72741": {
      "model_module": "@jupyter-widgets/controls",
      "model_module_version": "1.5.0",
      "model_name": "SelectModel",
      "state": {
       "_options_labels": [
        "energy",
        "maxforce",
        "conf_no",
        "histplot col1"
       ],
       "description": "col2:",
       "index": 0,
       "layout": "IPY_MODEL_7db38f653e8c4e0e956f94eed7e7f0af",
       "rows": 1,
       "style": "IPY_MODEL_55512518c0db425ea35a65cc275baed3"
      }
     },
     "06f5b817bf764feb887d9e150c827fb4": {
      "model_module": "@jupyter-widgets/controls",
      "model_module_version": "1.5.0",
      "model_name": "HBoxModel",
      "state": {
       "children": [
        "IPY_MODEL_3860c334f06f41f591c9abf471688d09",
        "IPY_MODEL_906dd5b0113e484685b8b709e2a3872c",
        "IPY_MODEL_a2c96df8b4a44099958a23f3e83bbf3d",
        "IPY_MODEL_7c68d54134fa4c6ba66b88c906a9c2de"
       ],
       "layout": "IPY_MODEL_b0ed00c1a33748c5860fb36011a31aa2"
      }
     },
     "07ee24688a474f369f199d2c919b0ca6": {
      "model_module": "@jupyter-widgets/controls",
      "model_module_version": "1.5.0",
      "model_name": "DescriptionStyleModel",
      "state": {
       "description_width": "30px"
      }
     },
     "0a2e2ebbebf64d54816dc1760c965c30": {
      "model_module": "@jupyter-widgets/base",
      "model_module_version": "1.2.0",
      "model_name": "LayoutModel",
      "state": {
       "width": "80px"
      }
     },
     "0a8798c2af184b9cb6018768eb7c8255": {
      "model_module": "@jupyter-widgets/controls",
      "model_module_version": "1.5.0",
      "model_name": "VBoxModel",
      "state": {
       "children": [
        "IPY_MODEL_3f288438a0b74a39a7ba6ec80c4bbe4b",
        "IPY_MODEL_9da6370b5b16491ebdb34b08e9e8c4cf"
       ],
       "layout": "IPY_MODEL_3b00b35b0df04f6a89b275c86cdc8ce8"
      }
     },
     "0f3495cdb51b4343a6f210d2a34ae935": {
      "model_module": "@jupyter-widgets/controls",
      "model_module_version": "1.5.0",
      "model_name": "IntSliderModel",
      "state": {
       "description": "0",
       "layout": "IPY_MODEL_7cda1db671ca4243a6803897f9d05cb9",
       "max": 0,
       "orientation": "vertical",
       "style": "IPY_MODEL_e29aedd224a842f9a9d4a1f82a54feb2"
      }
     },
     "13719511119146a69ffc4a4ecffd5e0e": {
      "model_module": "@jupyter-widgets/controls",
      "model_module_version": "1.5.0",
      "model_name": "DescriptionStyleModel",
      "state": {
       "description_width": "30px"
      }
     },
     "15b4e01f3d054b96b6eb2921c65cf281": {
      "model_module": "@jupyter-widgets/controls",
      "model_module_version": "1.5.0",
      "model_name": "HBoxModel",
      "state": {
       "children": [
        "IPY_MODEL_3289b4c153ae446cb0514df7409b3785",
        "IPY_MODEL_97d3bc4774d84a6f9b0a7d11da30b81c"
       ],
       "layout": "IPY_MODEL_dd13dcf18354408986656e16971019d1"
      }
     },
     "1c79542a4bb64e72b0c8b96f23506d44": {
      "model_module": "@jupyter-widgets/controls",
      "model_module_version": "1.5.0",
      "model_name": "DescriptionStyleModel",
      "state": {
       "description_width": ""
      }
     },
     "1f75e649c56c466e8da2b1c607d7f3da": {
      "model_module": "@jupyter-widgets/controls",
      "model_module_version": "1.5.0",
      "model_name": "VBoxModel",
      "state": {
       "children": [
        "IPY_MODEL_496132abeffd4de89affc119b13156b5",
        "IPY_MODEL_be6eaeb4e0f44d2eaabba56981a7caa3"
       ],
       "layout": "IPY_MODEL_612709044e9d4ff0bee3824f817eb568"
      }
     },
     "207748b66bfc4f1282ac1691da2e5c6a": {
      "model_module": "@jupyter-widgets/base",
      "model_module_version": "1.2.0",
      "model_name": "LayoutModel",
      "state": {
       "width": "140px"
      }
     },
     "249b80f66f2b4c0b929df30e4b1bba06": {
      "model_module": "@jupyter-widgets/controls",
      "model_module_version": "1.5.0",
      "model_name": "DescriptionStyleModel",
      "state": {
       "description_width": "45px"
      }
     },
     "250164c2f99a4fad8d9d293e1175c749": {
      "model_module": "@jupyter-widgets/output",
      "model_module_version": "1.0.0",
      "model_name": "OutputModel",
      "state": {
       "layout": "IPY_MODEL_bf445d27bd2c4f6f955fae0b558bf957",
       "outputs": [
        {
         "data": {
          "text/html": "\n        <html><head>\n        <script type=\"text/javascript\" language=\"javascript\" src=\"https://pfcc.matlantis.com/nb/4de55fn39i8b0xgl/default/files/.py39/lib/python3.9/site-packages/moldraw/data/jsme/jsme.nocache.js\"></script>\n        <script>    \n        function jsmeOnLoad() {  jsmeApplet = new JSApplet.JSME(\"20240621150013\", \"380px\",\"285px\");           \n        jsmeApplet.setCallBack(\"AfterStructureModified\", show_smiles);        }        \n        function show_smiles(event) {\n         smiles = event.src.smiles();            \n         el = document.querySelector(\"input[placeholder='20240621150013']\");           \n         el.value = smiles.replace(\"/\\[([A-Za-z][a-z]?)H?\\d*:\\d+\\]/g\",smiles);           \n         el.dispatchEvent(new Event('input',{'bubbles': true,'cancelable': true}));        \n        }\n        </script></head><body><div id=\"20240621150013\"></div></body></html>\n        ",
          "text/plain": "<IPython.core.display.HTML object>"
         },
         "metadata": {},
         "output_type": "display_data"
        }
       ]
      }
     },
     "256477847f574cebac299d12832949b4": {
      "model_module": "@jupyter-widgets/base",
      "model_module_version": "1.2.0",
      "model_name": "LayoutModel",
      "state": {}
     },
     "257a3737316e4781bf10c1df3265e0be": {
      "model_module": "@jupyter-widgets/controls",
      "model_module_version": "1.5.0",
      "model_name": "LinkModel",
      "state": {
       "source": [
        "IPY_MODEL_3289b4c153ae446cb0514df7409b3785",
        "value"
       ],
       "target": [
        "IPY_MODEL_01b5360a932a40c6a6c19bc1625a7b66",
        "frame"
       ]
      }
     },
     "28f4f931a5ee46cb8422054324b45c33": {
      "model_module": "@jupyter-widgets/base",
      "model_module_version": "1.2.0",
      "model_name": "LayoutModel",
      "state": {}
     },
     "2d5905adcf374e4b84159456f718b6c7": {
      "model_module": "@jupyter-widgets/controls",
      "model_module_version": "1.5.0",
      "model_name": "SliderStyleModel",
      "state": {
       "description_width": "40px"
      }
     },
     "2de25462407b4234b09b46b5aff1e548": {
      "model_module": "@jupyter-widgets/controls",
      "model_module_version": "1.5.0",
      "model_name": "ButtonModel",
      "state": {
       "description": "plot",
       "layout": "IPY_MODEL_8bcd6556a05648ad958d2d0be22857a5",
       "style": "IPY_MODEL_3c3e7e7855634741aa5618aabf321cb3"
      }
     },
     "2f4bf6f3b20b4fbd83ad9229702c45b3": {
      "model_module": "@jupyter-widgets/controls",
      "model_module_version": "1.5.0",
      "model_name": "LinkModel",
      "state": {
       "source": [
        "IPY_MODEL_97d3bc4774d84a6f9b0a7d11da30b81c",
        "max"
       ],
       "target": [
        "IPY_MODEL_01b5360a932a40c6a6c19bc1625a7b66",
        "max_frame"
       ]
      }
     },
     "30457deb5aa540e383e8b7e0814e320c": {
      "model_module": "@jupyter-widgets/controls",
      "model_module_version": "1.5.0",
      "model_name": "DescriptionStyleModel",
      "state": {
       "description_width": ""
      }
     },
     "3289b4c153ae446cb0514df7409b3785": {
      "model_module": "@jupyter-widgets/controls",
      "model_module_version": "1.5.0",
      "model_name": "PlayModel",
      "state": {
       "layout": "IPY_MODEL_c0e85dc07d0d4f6fb67adc5d04e0277e",
       "max": 0,
       "style": "IPY_MODEL_6f6caab919bc4aa782ae44060701982a"
      }
     },
     "33717c4b89c04f3ebf84112a863adbcb": {
      "model_module": "@jupyter-widgets/controls",
      "model_module_version": "1.5.0",
      "model_name": "ButtonStyleModel",
      "state": {}
     },
     "3860c334f06f41f591c9abf471688d09": {
      "model_module": "@jupyter-widgets/controls",
      "model_module_version": "1.5.0",
      "model_name": "CheckboxModel",
      "state": {
       "description": "index",
       "disabled": false,
       "indent": false,
       "layout": "IPY_MODEL_3baefa099ad54f8599d3fab3df59507e",
       "style": "IPY_MODEL_3eab656c5bd74e5e919828940695b4e9",
       "value": false
      }
     },
     "3b00b35b0df04f6a89b275c86cdc8ce8": {
      "model_module": "@jupyter-widgets/base",
      "model_module_version": "1.2.0",
      "model_name": "LayoutModel",
      "state": {}
     },
     "3b644b5c7e234e1db71388ce92544e22": {
      "model_module": "@jupyter-widgets/controls",
      "model_module_version": "1.5.0",
      "model_name": "VBoxModel",
      "state": {
       "children": [
        "IPY_MODEL_6aa47f4c473840d9bb164d53de1b01aa",
        "IPY_MODEL_c1095ab86d8a4ff4be5b9f83ccca2eab"
       ],
       "layout": "IPY_MODEL_28f4f931a5ee46cb8422054324b45c33"
      }
     },
     "3baefa099ad54f8599d3fab3df59507e": {
      "model_module": "@jupyter-widgets/base",
      "model_module_version": "1.2.0",
      "model_name": "LayoutModel",
      "state": {
       "width": "80px"
      }
     },
     "3c3e7e7855634741aa5618aabf321cb3": {
      "model_module": "@jupyter-widgets/controls",
      "model_module_version": "1.5.0",
      "model_name": "ButtonStyleModel",
      "state": {}
     },
     "3eab656c5bd74e5e919828940695b4e9": {
      "model_module": "@jupyter-widgets/controls",
      "model_module_version": "1.5.0",
      "model_name": "DescriptionStyleModel",
      "state": {
       "description_width": ""
      }
     },
     "3f288438a0b74a39a7ba6ec80c4bbe4b": {
      "model_module": "@jupyter-widgets/controls",
      "model_module_version": "1.5.0",
      "model_name": "IntSliderModel",
      "state": {
       "description": "(1, 6)",
       "layout": "IPY_MODEL_69530a6d05554714b31b7f7b3c0cab11",
       "max": 5,
       "style": "IPY_MODEL_2d5905adcf374e4b84159456f718b6c7"
      }
     },
     "47581e61a4f1440b81afe567f711dd1d": {
      "model_module": "@jupyter-widgets/base",
      "model_module_version": "1.2.0",
      "model_name": "LayoutModel",
      "state": {
       "width": "80px"
      }
     },
     "496132abeffd4de89affc119b13156b5": {
      "model_module": "@jupyter-widgets/controls",
      "model_module_version": "1.5.0",
      "model_name": "VBoxModel",
      "state": {
       "children": [
        "IPY_MODEL_250164c2f99a4fad8d9d293e1175c749",
        "IPY_MODEL_b511ad21c26b4190bb4524927451762b"
       ],
       "layout": "IPY_MODEL_574067013bd84abeb28f43b53e8ff5ef"
      }
     },
     "4aa4ab54342245d2878be06424316ae8": {
      "model_module": "@jupyter-widgets/base",
      "model_module_version": "1.2.0",
      "model_name": "LayoutModel",
      "state": {
       "border": "1px solid gray",
       "height": "450px",
       "width": "550px"
      }
     },
     "4bfa254d5cb04795bf0347e32ba0b710": {
      "model_module": "@jupyter-widgets/controls",
      "model_module_version": "1.5.0",
      "model_name": "DescriptionStyleModel",
      "state": {
       "description_width": ""
      }
     },
     "5372f794dc38433c8c5976eff82e5d51": {
      "model_module": "@jupyter-widgets/controls",
      "model_module_version": "1.5.0",
      "model_name": "SliderStyleModel",
      "state": {
       "description_width": ""
      }
     },
     "55512518c0db425ea35a65cc275baed3": {
      "model_module": "@jupyter-widgets/controls",
      "model_module_version": "1.5.0",
      "model_name": "DescriptionStyleModel",
      "state": {
       "description_width": "30px"
      }
     },
     "569c519c16c74d4093b49deb80f38b7e": {
      "model_module": "@jupyter-widgets/base",
      "model_module_version": "1.2.0",
      "model_name": "LayoutModel",
      "state": {
       "width": "80px"
      }
     },
     "572f460b227b45078738c4c80bcad09b": {
      "model_module": "@jupyter-widgets/controls",
      "model_module_version": "1.5.0",
      "model_name": "ImageModel",
      "state": {
       "layout": "IPY_MODEL_8d9d1f8cee2942f1b81f7d47a50f5afc",
       "width": "900.0"
      }
     },
     "574067013bd84abeb28f43b53e8ff5ef": {
      "model_module": "@jupyter-widgets/base",
      "model_module_version": "1.2.0",
      "model_name": "LayoutModel",
      "state": {}
     },
     "5772787de062449b81b23260c911d486": {
      "model_module": "@jupyter-widgets/base",
      "model_module_version": "1.2.0",
      "model_name": "LayoutModel",
      "state": {
       "height": "45px",
       "width": "430px"
      }
     },
     "59b38d8ea6a941479cfec1b7e3cbf201": {
      "model_module": "@jupyter-widgets/controls",
      "model_module_version": "1.5.0",
      "model_name": "VBoxModel",
      "state": {
       "children": [
        "IPY_MODEL_b6ecaed7ccc342628af138d8fb37064a",
        "IPY_MODEL_74256b22bd9d49d4b67b46b832808c37"
       ],
       "layout": "IPY_MODEL_746aa25a0d994afc9996f38c9cfc18e3"
      }
     },
     "5fa1cebf90f14d78bb5e6c87378d437b": {
      "model_module": "@jupyter-widgets/controls",
      "model_module_version": "1.5.0",
      "model_name": "SelectModel",
      "state": {
       "_options_labels": [
        "SMILES",
        "formula",
        "atoms",
        "energy",
        "maxforce",
        "opt",
        "conf_no"
       ],
       "description": "col1:",
       "index": 0,
       "layout": "IPY_MODEL_65173079b2144686942c13aa05d21fbb",
       "rows": 1,
       "style": "IPY_MODEL_13719511119146a69ffc4a4ecffd5e0e"
      }
     },
     "608a5aa91a644251ba360358426fad90": {
      "model_module": "@jupyter-widgets/controls",
      "model_module_version": "1.5.0",
      "model_name": "ButtonStyleModel",
      "state": {}
     },
     "60da7daa5fc9423c8e1bbd65eec333f5": {
      "model_module": "@jupyter-widgets/controls",
      "model_module_version": "1.5.0",
      "model_name": "ButtonModel",
      "state": {
       "description": "ADD IT",
       "layout": "IPY_MODEL_c18cad66b3884df98bcba7ead75fe034",
       "style": "IPY_MODEL_33717c4b89c04f3ebf84112a863adbcb"
      }
     },
     "612709044e9d4ff0bee3824f817eb568": {
      "model_module": "@jupyter-widgets/base",
      "model_module_version": "1.2.0",
      "model_name": "LayoutModel",
      "state": {}
     },
     "65173079b2144686942c13aa05d21fbb": {
      "model_module": "@jupyter-widgets/base",
      "model_module_version": "1.2.0",
      "model_name": "LayoutModel",
      "state": {
       "border": "0px",
       "height": "27px",
       "width": "200px"
      }
     },
     "69530a6d05554714b31b7f7b3c0cab11": {
      "model_module": "@jupyter-widgets/base",
      "model_module_version": "1.2.0",
      "model_name": "LayoutModel",
      "state": {}
     },
     "6aa47f4c473840d9bb164d53de1b01aa": {
      "model_module": "@jupyter-widgets/controls",
      "model_module_version": "1.5.0",
      "model_name": "HBoxModel",
      "state": {
       "children": [
        "IPY_MODEL_5fa1cebf90f14d78bb5e6c87378d437b",
        "IPY_MODEL_fd16cb53aa6f44819f5e326bcebd807c",
        "IPY_MODEL_c15edfd4e231490faaf84d7f4d927c0b",
        "IPY_MODEL_2de25462407b4234b09b46b5aff1e548"
       ],
       "layout": "IPY_MODEL_901f22440cbc47c292fb9fcafc3c9670"
      }
     },
     "6f6caab919bc4aa782ae44060701982a": {
      "model_module": "@jupyter-widgets/controls",
      "model_module_version": "1.5.0",
      "model_name": "DescriptionStyleModel",
      "state": {
       "description_width": ""
      }
     },
     "72251a78cdd24650ba141769dd21ea2f": {
      "model_module": "@jupyter-widgets/base",
      "model_module_version": "1.2.0",
      "model_name": "LayoutModel",
      "state": {}
     },
     "72efd25d6ddc459695f1c397456298fc": {
      "model_module": "@jupyter-widgets/controls",
      "model_module_version": "1.5.0",
      "model_name": "ButtonModel",
      "state": {
       "description": "plot",
       "layout": "IPY_MODEL_b8a96a4ca8a048beb57dc323b223b49c",
       "style": "IPY_MODEL_7f235da1b10448828dc7f391f02f7951"
      }
     },
     "74256b22bd9d49d4b67b46b832808c37": {
      "model_module": "@jupyter-widgets/controls",
      "model_module_version": "1.5.0",
      "model_name": "HBoxModel",
      "state": {
       "children": [
        "IPY_MODEL_0f3495cdb51b4343a6f210d2a34ae935",
        "IPY_MODEL_0a8798c2af184b9cb6018768eb7c8255"
       ],
       "layout": "IPY_MODEL_cf83668810df4c2382f7f35e1f0bab9d"
      }
     },
     "746aa25a0d994afc9996f38c9cfc18e3": {
      "model_module": "@jupyter-widgets/base",
      "model_module_version": "1.2.0",
      "model_name": "LayoutModel",
      "state": {}
     },
     "78bc9b6cd9614cc4b87998cdb0c93a73": {
      "model_module": "@jupyter-widgets/controls",
      "model_module_version": "1.5.0",
      "model_name": "CheckboxModel",
      "state": {
       "description": "OPT",
       "disabled": false,
       "indent": false,
       "layout": "IPY_MODEL_47581e61a4f1440b81afe567f711dd1d",
       "style": "IPY_MODEL_30457deb5aa540e383e8b7e0814e320c",
       "value": true
      }
     },
     "7c68d54134fa4c6ba66b88c906a9c2de": {
      "model_module": "@jupyter-widgets/controls",
      "model_module_version": "1.5.0",
      "model_name": "CheckboxModel",
      "state": {
       "description": "chage",
       "disabled": false,
       "indent": false,
       "layout": "IPY_MODEL_569c519c16c74d4093b49deb80f38b7e",
       "style": "IPY_MODEL_af3e77189608477c8f887b84e922c030",
       "value": false
      }
     },
     "7cda1db671ca4243a6803897f9d05cb9": {
      "model_module": "@jupyter-widgets/base",
      "model_module_version": "1.2.0",
      "model_name": "LayoutModel",
      "state": {}
     },
     "7db38f653e8c4e0e956f94eed7e7f0af": {
      "model_module": "@jupyter-widgets/base",
      "model_module_version": "1.2.0",
      "model_name": "LayoutModel",
      "state": {
       "border": "0px",
       "height": "27px",
       "width": "200px"
      }
     },
     "7dd14aa812f44b1b84afe60410c130df": {
      "model_module": "@jupyter-widgets/base",
      "model_module_version": "1.2.0",
      "model_name": "LayoutModel",
      "state": {}
     },
     "7f235da1b10448828dc7f391f02f7951": {
      "model_module": "@jupyter-widgets/controls",
      "model_module_version": "1.5.0",
      "model_name": "ButtonStyleModel",
      "state": {}
     },
     "8996229661b34c3b9e5cb27303562e49": {
      "model_module": "@jupyter-widgets/controls",
      "model_module_version": "1.5.0",
      "model_name": "ButtonModel",
      "state": {
       "description": "Confomer serach",
       "layout": "IPY_MODEL_207748b66bfc4f1282ac1691da2e5c6a",
       "style": "IPY_MODEL_608a5aa91a644251ba360358426fad90"
      }
     },
     "8a2e3beec5df4c27aeba22f912a0e57c": {
      "model_module": "@jupyter-widgets/base",
      "model_module_version": "1.2.0",
      "model_name": "LayoutModel",
      "state": {
       "width": "100px"
      }
     },
     "8bcd6556a05648ad958d2d0be22857a5": {
      "model_module": "@jupyter-widgets/base",
      "model_module_version": "1.2.0",
      "model_name": "LayoutModel",
      "state": {
       "width": "100px"
      }
     },
     "8d9d1f8cee2942f1b81f7d47a50f5afc": {
      "model_module": "@jupyter-widgets/base",
      "model_module_version": "1.2.0",
      "model_name": "LayoutModel",
      "state": {}
     },
     "901f22440cbc47c292fb9fcafc3c9670": {
      "model_module": "@jupyter-widgets/base",
      "model_module_version": "1.2.0",
      "model_name": "LayoutModel",
      "state": {}
     },
     "906dd5b0113e484685b8b709e2a3872c": {
      "model_module": "@jupyter-widgets/controls",
      "model_module_version": "1.5.0",
      "model_name": "CheckboxModel",
      "state": {
       "description": "axes",
       "disabled": false,
       "indent": false,
       "layout": "IPY_MODEL_f5e5fd5f7bc9414593d8b46fc4bed83a",
       "style": "IPY_MODEL_1c79542a4bb64e72b0c8b96f23506d44",
       "value": false
      }
     },
     "937cc031630d4d6e8128d5a58a88f5f4": {
      "model_module": "@jupyter-widgets/controls",
      "model_module_version": "1.5.0",
      "model_name": "DescriptionStyleModel",
      "state": {
       "description_width": "30px"
      }
     },
     "97d3bc4774d84a6f9b0a7d11da30b81c": {
      "model_module": "@jupyter-widgets/controls",
      "model_module_version": "1.5.0",
      "model_name": "IntSliderModel",
      "state": {
       "layout": "IPY_MODEL_bf9a8fb389f941eca4a7eadbd1081473",
       "max": 0,
       "style": "IPY_MODEL_5372f794dc38433c8c5976eff82e5d51"
      }
     },
     "983c3d39cb4a4a3d959f6a117b2dd6c5": {
      "model_module": "@jupyter-widgets/controls",
      "model_module_version": "1.5.0",
      "model_name": "VBoxModel",
      "state": {
       "children": [
        "IPY_MODEL_d47aea34fe9b412a9db37628d116d955",
        "IPY_MODEL_f9a9d504ad704c1da5309e56282b35fd"
       ],
       "layout": "IPY_MODEL_72251a78cdd24650ba141769dd21ea2f"
      }
     },
     "9a1881744c3d4aa0b965d81d37a653bc": {
      "model_module": "@jupyter-widgets/controls",
      "model_module_version": "1.5.0",
      "model_name": "LinkModel",
      "state": {
       "source": [
        "IPY_MODEL_3289b4c153ae446cb0514df7409b3785",
        "value"
       ],
       "target": [
        "IPY_MODEL_97d3bc4774d84a6f9b0a7d11da30b81c",
        "value"
       ]
      }
     },
     "9da6370b5b16491ebdb34b08e9e8c4cf": {
      "model_module": "@jupyter-widgets/output",
      "model_module_version": "1.0.0",
      "model_name": "OutputModel",
      "state": {
       "layout": "IPY_MODEL_c6a0b38297cc4678bbf825212a777bef",
       "outputs": [
        {
         "data": {
          "text/html": "<div>\n<style scoped>\n    .dataframe tbody tr th:only-of-type {\n        vertical-align: middle;\n    }\n\n    .dataframe tbody tr th {\n        vertical-align: top;\n    }\n\n    .dataframe thead th {\n        text-align: right;\n    }\n</style>\n<table border=\"1\" class=\"dataframe\">\n  <thead>\n    <tr style=\"text-align: right;\">\n      <th></th>\n      <th>SMILES</th>\n      <th>formula</th>\n      <th>atoms</th>\n      <th>energy</th>\n      <th>maxforce</th>\n      <th>opt</th>\n    </tr>\n  </thead>\n  <tbody>\n    <tr>\n      <th>0</th>\n      <td>CCC</td>\n      <td>C3H8</td>\n      <td>(Atom('C', [-1.28308657006...</td>\n      <td>-43.982771</td>\n      <td>0.03546</td>\n      <td>True</td>\n    </tr>\n  </tbody>\n</table>\n</div>",
          "text/plain": "  SMILES formula                          atoms     energy  maxforce   opt\n0    CCC    C3H8  (Atom('C', [-1.28308657006... -43.982771   0.03546  True"
         },
         "metadata": {},
         "output_type": "display_data"
        }
       ]
      }
     },
     "a2c96df8b4a44099958a23f3e83bbf3d": {
      "model_module": "@jupyter-widgets/controls",
      "model_module_version": "1.5.0",
      "model_name": "CheckboxModel",
      "state": {
       "description": "force",
       "disabled": false,
       "indent": false,
       "layout": "IPY_MODEL_0a2e2ebbebf64d54816dc1760c965c30",
       "style": "IPY_MODEL_4bfa254d5cb04795bf0347e32ba0b710",
       "value": false
      }
     },
     "aa20dc4ae3a04fe49dd1cc347563a23d": {
      "model_module": "@jupyter-widgets/base",
      "model_module_version": "1.2.0",
      "model_name": "LayoutModel",
      "state": {}
     },
     "af3e77189608477c8f887b84e922c030": {
      "model_module": "@jupyter-widgets/controls",
      "model_module_version": "1.5.0",
      "model_name": "DescriptionStyleModel",
      "state": {
       "description_width": ""
      }
     },
     "afd5a7c17ee54f62932f75b8a3e2236e": {
      "model_module": "@jupyter-widgets/controls",
      "model_module_version": "1.5.0",
      "model_name": "ButtonStyleModel",
      "state": {}
     },
     "b0ed00c1a33748c5860fb36011a31aa2": {
      "model_module": "@jupyter-widgets/base",
      "model_module_version": "1.2.0",
      "model_name": "LayoutModel",
      "state": {
       "height": "38px",
       "width": "250px"
      }
     },
     "b35ca797e3ff42e5b2e035481527e228": {
      "model_module": "@jupyter-widgets/controls",
      "model_module_version": "1.5.0",
      "model_name": "ButtonModel",
      "state": {
       "icon": "compress",
       "layout": "IPY_MODEL_f91bd604d12143fab90a1ca0c5a3a124",
       "style": "IPY_MODEL_afd5a7c17ee54f62932f75b8a3e2236e"
      }
     },
     "b511ad21c26b4190bb4524927451762b": {
      "model_module": "@jupyter-widgets/controls",
      "model_module_version": "1.5.0",
      "model_name": "TextModel",
      "state": {
       "description": "SMILES",
       "layout": "IPY_MODEL_5772787de062449b81b23260c911d486",
       "placeholder": "20240621150013",
       "style": "IPY_MODEL_249b80f66f2b4c0b929df30e4b1bba06",
       "value": "CCC"
      }
     },
     "b6ecaed7ccc342628af138d8fb37064a": {
      "model_module": "@jupyter-widgets/controls",
      "model_module_version": "1.5.0",
      "model_name": "HBoxModel",
      "state": {
       "children": [
        "IPY_MODEL_1f75e649c56c466e8da2b1c607d7f3da",
        "IPY_MODEL_bc3283f5172b4be18ea243546caeafd5"
       ],
       "layout": "IPY_MODEL_ca693681ebc0411d9e7a5991614b3d14"
      }
     },
     "b8520ab39fbf4573983dc40c3bdbee8f": {
      "model_module": "@jupyter-widgets/controls",
      "model_module_version": "1.5.0",
      "model_name": "CheckboxModel",
      "state": {
       "description": "yy ploy",
       "disabled": false,
       "layout": "IPY_MODEL_fb9702fa829b4600955867e3c638657e",
       "style": "IPY_MODEL_c9605474085742cdbacdcf6d70b08cf2",
       "value": true
      }
     },
     "b8a96a4ca8a048beb57dc323b223b49c": {
      "model_module": "@jupyter-widgets/base",
      "model_module_version": "1.2.0",
      "model_name": "LayoutModel",
      "state": {
       "width": "100px"
      }
     },
     "b93eb663454e4dcea2c529e8941f8234": {
      "model_module": "@jupyter-widgets/controls",
      "model_module_version": "1.5.0",
      "model_name": "SelectModel",
      "state": {
       "_options_labels": [
        "SMILES",
        "formula",
        "atoms",
        "energy",
        "maxforce",
        "opt",
        "conf_no"
       ],
       "description": "col1:",
       "index": 2,
       "layout": "IPY_MODEL_7db38f653e8c4e0e956f94eed7e7f0af",
       "rows": 1,
       "style": "IPY_MODEL_937cc031630d4d6e8128d5a58a88f5f4"
      }
     },
     "bc3283f5172b4be18ea243546caeafd5": {
      "model_module": "@jupyter-widgets/controls",
      "model_module_version": "1.5.0",
      "model_name": "VBoxModel",
      "state": {
       "children": [
        "IPY_MODEL_01b5360a932a40c6a6c19bc1625a7b66",
        "IPY_MODEL_06f5b817bf764feb887d9e150c827fb4"
       ],
       "layout": "IPY_MODEL_aa20dc4ae3a04fe49dd1cc347563a23d"
      }
     },
     "be6eaeb4e0f44d2eaabba56981a7caa3": {
      "model_module": "@jupyter-widgets/controls",
      "model_module_version": "1.5.0",
      "model_name": "HBoxModel",
      "state": {
       "children": [
        "IPY_MODEL_78bc9b6cd9614cc4b87998cdb0c93a73",
        "IPY_MODEL_60da7daa5fc9423c8e1bbd65eec333f5",
        "IPY_MODEL_8996229661b34c3b9e5cb27303562e49"
       ],
       "layout": "IPY_MODEL_f46ec29ae9db4b11a4c83c442a70ff82"
      }
     },
     "bf445d27bd2c4f6f955fae0b558bf957": {
      "model_module": "@jupyter-widgets/base",
      "model_module_version": "1.2.0",
      "model_name": "LayoutModel",
      "state": {
       "height": "290px",
       "width": "440px"
      }
     },
     "bf9a8fb389f941eca4a7eadbd1081473": {
      "model_module": "@jupyter-widgets/base",
      "model_module_version": "1.2.0",
      "model_name": "LayoutModel",
      "state": {}
     },
     "c0e85dc07d0d4f6fb67adc5d04e0277e": {
      "model_module": "@jupyter-widgets/base",
      "model_module_version": "1.2.0",
      "model_name": "LayoutModel",
      "state": {}
     },
     "c1095ab86d8a4ff4be5b9f83ccca2eab": {
      "model_module": "@jupyter-widgets/output",
      "model_module_version": "1.0.0",
      "model_name": "OutputModel",
      "state": {
       "layout": "IPY_MODEL_4aa4ab54342245d2878be06424316ae8",
       "outputs": [
        {
         "data": {
          "image/png": "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\n",
          "text/plain": "<Figure size 550x450 with 1 Axes>"
         },
         "metadata": {},
         "output_type": "display_data"
        }
       ]
      }
     },
     "c15edfd4e231490faaf84d7f4d927c0b": {
      "model_module": "@jupyter-widgets/controls",
      "model_module_version": "1.5.0",
      "model_name": "CheckboxModel",
      "state": {
       "description": "yy ploy",
       "disabled": false,
       "layout": "IPY_MODEL_8a2e3beec5df4c27aeba22f912a0e57c",
       "style": "IPY_MODEL_e51f66d261f64de28b233e207855048d",
       "value": false
      }
     },
     "c18cad66b3884df98bcba7ead75fe034": {
      "model_module": "@jupyter-widgets/base",
      "model_module_version": "1.2.0",
      "model_name": "LayoutModel",
      "state": {
       "width": "140px"
      }
     },
     "c61b0ef2f00c42ab9bf1e521cd7af7ab": {
      "model_module": "nglview-js-widgets",
      "model_module_version": "3.0.1",
      "model_name": "ColormakerRegistryModel",
      "state": {
       "_msg_ar": [],
       "_msg_q": [],
       "_ready": true,
       "layout": "IPY_MODEL_d343ed2ffcd8468387ba52e81965f230"
      }
     },
     "c6a0b38297cc4678bbf825212a777bef": {
      "model_module": "@jupyter-widgets/base",
      "model_module_version": "1.2.0",
      "model_name": "LayoutModel",
      "state": {
       "border": "1px solid black",
       "height": "330px",
       "width": "600px"
      }
     },
     "c9605474085742cdbacdcf6d70b08cf2": {
      "model_module": "@jupyter-widgets/controls",
      "model_module_version": "1.5.0",
      "model_name": "DescriptionStyleModel",
      "state": {
       "description_width": "30px"
      }
     },
     "ca693681ebc0411d9e7a5991614b3d14": {
      "model_module": "@jupyter-widgets/base",
      "model_module_version": "1.2.0",
      "model_name": "LayoutModel",
      "state": {}
     },
     "cf83668810df4c2382f7f35e1f0bab9d": {
      "model_module": "@jupyter-widgets/base",
      "model_module_version": "1.2.0",
      "model_name": "LayoutModel",
      "state": {}
     },
     "d343ed2ffcd8468387ba52e81965f230": {
      "model_module": "@jupyter-widgets/base",
      "model_module_version": "1.2.0",
      "model_name": "LayoutModel",
      "state": {}
     },
     "d47aea34fe9b412a9db37628d116d955": {
      "model_module": "@jupyter-widgets/controls",
      "model_module_version": "1.5.0",
      "model_name": "HBoxModel",
      "state": {
       "children": [
        "IPY_MODEL_b93eb663454e4dcea2c529e8941f8234",
        "IPY_MODEL_066967afe6884e9db36491c2f2e72741",
        "IPY_MODEL_b8520ab39fbf4573983dc40c3bdbee8f",
        "IPY_MODEL_72efd25d6ddc459695f1c397456298fc"
       ],
       "layout": "IPY_MODEL_256477847f574cebac299d12832949b4"
      }
     },
     "dd13dcf18354408986656e16971019d1": {
      "model_module": "@jupyter-widgets/base",
      "model_module_version": "1.2.0",
      "model_name": "LayoutModel",
      "state": {}
     },
     "e29aedd224a842f9a9d4a1f82a54feb2": {
      "model_module": "@jupyter-widgets/controls",
      "model_module_version": "1.5.0",
      "model_name": "SliderStyleModel",
      "state": {
       "description_width": ""
      }
     },
     "e51f66d261f64de28b233e207855048d": {
      "model_module": "@jupyter-widgets/controls",
      "model_module_version": "1.5.0",
      "model_name": "DescriptionStyleModel",
      "state": {
       "description_width": "30px"
      }
     },
     "ec4be90d9ab24b0a9c8f247522d0577e": {
      "model_module": "@jupyter-widgets/base",
      "model_module_version": "1.2.0",
      "model_name": "LayoutModel",
      "state": {
       "border": "1px solid gray",
       "height": "450px",
       "width": "550px"
      }
     },
     "f46ec29ae9db4b11a4c83c442a70ff82": {
      "model_module": "@jupyter-widgets/base",
      "model_module_version": "1.2.0",
      "model_name": "LayoutModel",
      "state": {}
     },
     "f5e5fd5f7bc9414593d8b46fc4bed83a": {
      "model_module": "@jupyter-widgets/base",
      "model_module_version": "1.2.0",
      "model_name": "LayoutModel",
      "state": {
       "width": "80px"
      }
     },
     "f91bd604d12143fab90a1ca0c5a3a124": {
      "model_module": "@jupyter-widgets/base",
      "model_module_version": "1.2.0",
      "model_name": "LayoutModel",
      "state": {
       "width": "34px"
      }
     },
     "f9a9d504ad704c1da5309e56282b35fd": {
      "model_module": "@jupyter-widgets/output",
      "model_module_version": "1.0.0",
      "model_name": "OutputModel",
      "state": {
       "layout": "IPY_MODEL_ec4be90d9ab24b0a9c8f247522d0577e",
       "outputs": [
        {
         "ename": "ValueError",
         "evalue": "setting an array element with a sequence.",
         "output_type": "error",
         "traceback": [
          "\u001b[0;31m---------------------------------------------------------------------------\u001b[0m",
          "\u001b[0;31mTypeError\u001b[0m                                 Traceback (most recent call last)",
          "\u001b[0;31mTypeError\u001b[0m: float() argument must be a string or a number, not 'Atoms'",
          "\nThe above exception was the direct cause of the following exception:\n",
          "\u001b[0;31mValueError\u001b[0m                                Traceback (most recent call last)",
          "\u001b[0;32m~/.py39/lib/python3.9/site-packages/moldraw/moldraw.py\u001b[0m in \u001b[0;36mshow_plot\u001b[0;34m(self, change)\u001b[0m\n\u001b[1;32m    288\u001b[0m                     \u001b[0myydf\u001b[0m \u001b[0;34m=\u001b[0m \u001b[0mdf\u001b[0m\u001b[0;34m[\u001b[0m\u001b[0;34m[\u001b[0m\u001b[0mcol1\u001b[0m\u001b[0;34m,\u001b[0m \u001b[0mcol2\u001b[0m\u001b[0;34m]\u001b[0m\u001b[0;34m]\u001b[0m\u001b[0;34m.\u001b[0m\u001b[0mdropna\u001b[0m\u001b[0;34m(\u001b[0m\u001b[0;34m)\u001b[0m\u001b[0;34m\u001b[0m\u001b[0;34m\u001b[0m\u001b[0m\n\u001b[1;32m    289\u001b[0m                     \u001b[0myydf\u001b[0m \u001b[0;34m=\u001b[0m \u001b[0myydf\u001b[0m\u001b[0;34m.\u001b[0m\u001b[0mloc\u001b[0m\u001b[0;34m[\u001b[0m\u001b[0;34m:\u001b[0m\u001b[0;34m,\u001b[0m \u001b[0;34m~\u001b[0m\u001b[0myydf\u001b[0m\u001b[0;34m.\u001b[0m\u001b[0mcolumns\u001b[0m\u001b[0;34m.\u001b[0m\u001b[0mduplicated\u001b[0m\u001b[0;34m(\u001b[0m\u001b[0;34m)\u001b[0m\u001b[0;34m]\u001b[0m\u001b[0;34m\u001b[0m\u001b[0;34m\u001b[0m\u001b[0m\n\u001b[0;32m--> 290\u001b[0;31m                     \u001b[0mMAE\u001b[0m \u001b[0;34m=\u001b[0m \u001b[0mmean_absolute_error\u001b[0m\u001b[0;34m(\u001b[0m\u001b[0myydf\u001b[0m\u001b[0;34m[\u001b[0m\u001b[0mcol1\u001b[0m\u001b[0;34m]\u001b[0m\u001b[0;34m,\u001b[0m \u001b[0myydf\u001b[0m\u001b[0;34m[\u001b[0m\u001b[0mcol2\u001b[0m\u001b[0;34m]\u001b[0m\u001b[0;34m)\u001b[0m\u001b[0;34m\u001b[0m\u001b[0;34m\u001b[0m\u001b[0m\n\u001b[0m\u001b[1;32m    291\u001b[0m                     \u001b[0mRMSE\u001b[0m \u001b[0;34m=\u001b[0m \u001b[0mmean_squared_error\u001b[0m\u001b[0;34m(\u001b[0m\u001b[0myydf\u001b[0m\u001b[0;34m[\u001b[0m\u001b[0mcol1\u001b[0m\u001b[0;34m]\u001b[0m\u001b[0;34m,\u001b[0m \u001b[0myydf\u001b[0m\u001b[0;34m[\u001b[0m\u001b[0mcol2\u001b[0m\u001b[0;34m]\u001b[0m\u001b[0;34m,\u001b[0m \u001b[0msquared\u001b[0m\u001b[0;34m=\u001b[0m\u001b[0;32mFalse\u001b[0m\u001b[0;34m)\u001b[0m\u001b[0;34m\u001b[0m\u001b[0;34m\u001b[0m\u001b[0m\n\u001b[1;32m    292\u001b[0m                     \u001b[0mR2\u001b[0m \u001b[0;34m=\u001b[0m \u001b[0mr2_score\u001b[0m\u001b[0;34m(\u001b[0m\u001b[0myydf\u001b[0m\u001b[0;34m[\u001b[0m\u001b[0mcol1\u001b[0m\u001b[0;34m]\u001b[0m\u001b[0;34m,\u001b[0m \u001b[0myydf\u001b[0m\u001b[0;34m[\u001b[0m\u001b[0mcol2\u001b[0m\u001b[0;34m]\u001b[0m\u001b[0;34m)\u001b[0m\u001b[0;34m\u001b[0m\u001b[0;34m\u001b[0m\u001b[0m\n",
          "\u001b[0;32m~/.py39/lib/python3.9/site-packages/sklearn/utils/_param_validation.py\u001b[0m in \u001b[0;36mwrapper\u001b[0;34m(*args, **kwargs)\u001b[0m\n\u001b[1;32m    211\u001b[0m                     )\n\u001b[1;32m    212\u001b[0m                 ):\n\u001b[0;32m--> 213\u001b[0;31m                     \u001b[0;32mreturn\u001b[0m \u001b[0mfunc\u001b[0m\u001b[0;34m(\u001b[0m\u001b[0;34m*\u001b[0m\u001b[0margs\u001b[0m\u001b[0;34m,\u001b[0m \u001b[0;34m**\u001b[0m\u001b[0mkwargs\u001b[0m\u001b[0;34m)\u001b[0m\u001b[0;34m\u001b[0m\u001b[0;34m\u001b[0m\u001b[0m\n\u001b[0m\u001b[1;32m    214\u001b[0m             \u001b[0;32mexcept\u001b[0m \u001b[0mInvalidParameterError\u001b[0m \u001b[0;32mas\u001b[0m \u001b[0me\u001b[0m\u001b[0;34m:\u001b[0m\u001b[0;34m\u001b[0m\u001b[0;34m\u001b[0m\u001b[0m\n\u001b[1;32m    215\u001b[0m                 \u001b[0;31m# When the function is just a wrapper around an estimator, we allow\u001b[0m\u001b[0;34m\u001b[0m\u001b[0;34m\u001b[0m\u001b[0m\n",
          "\u001b[0;32m~/.py39/lib/python3.9/site-packages/sklearn/metrics/_regression.py\u001b[0m in \u001b[0;36mmean_absolute_error\u001b[0;34m(y_true, y_pred, sample_weight, multioutput)\u001b[0m\n\u001b[1;32m    214\u001b[0m     \u001b[0;36m0.85\u001b[0m\u001b[0;34m...\u001b[0m\u001b[0;34m\u001b[0m\u001b[0;34m\u001b[0m\u001b[0m\n\u001b[1;32m    215\u001b[0m     \"\"\"\n\u001b[0;32m--> 216\u001b[0;31m     y_type, y_true, y_pred, multioutput = _check_reg_targets(\n\u001b[0m\u001b[1;32m    217\u001b[0m         \u001b[0my_true\u001b[0m\u001b[0;34m,\u001b[0m \u001b[0my_pred\u001b[0m\u001b[0;34m,\u001b[0m \u001b[0mmultioutput\u001b[0m\u001b[0;34m\u001b[0m\u001b[0;34m\u001b[0m\u001b[0m\n\u001b[1;32m    218\u001b[0m     )\n",
          "\u001b[0;32m~/.py39/lib/python3.9/site-packages/sklearn/metrics/_regression.py\u001b[0m in \u001b[0;36m_check_reg_targets\u001b[0;34m(y_true, y_pred, multioutput, dtype, xp)\u001b[0m\n\u001b[1;32m    110\u001b[0m \u001b[0;34m\u001b[0m\u001b[0m\n\u001b[1;32m    111\u001b[0m     \u001b[0mcheck_consistent_length\u001b[0m\u001b[0;34m(\u001b[0m\u001b[0my_true\u001b[0m\u001b[0;34m,\u001b[0m \u001b[0my_pred\u001b[0m\u001b[0;34m)\u001b[0m\u001b[0;34m\u001b[0m\u001b[0;34m\u001b[0m\u001b[0m\n\u001b[0;32m--> 112\u001b[0;31m     \u001b[0my_true\u001b[0m \u001b[0;34m=\u001b[0m \u001b[0mcheck_array\u001b[0m\u001b[0;34m(\u001b[0m\u001b[0my_true\u001b[0m\u001b[0;34m,\u001b[0m \u001b[0mensure_2d\u001b[0m\u001b[0;34m=\u001b[0m\u001b[0;32mFalse\u001b[0m\u001b[0;34m,\u001b[0m \u001b[0mdtype\u001b[0m\u001b[0;34m=\u001b[0m\u001b[0mdtype\u001b[0m\u001b[0;34m)\u001b[0m\u001b[0;34m\u001b[0m\u001b[0;34m\u001b[0m\u001b[0m\n\u001b[0m\u001b[1;32m    113\u001b[0m     \u001b[0my_pred\u001b[0m \u001b[0;34m=\u001b[0m \u001b[0mcheck_array\u001b[0m\u001b[0;34m(\u001b[0m\u001b[0my_pred\u001b[0m\u001b[0;34m,\u001b[0m \u001b[0mensure_2d\u001b[0m\u001b[0;34m=\u001b[0m\u001b[0;32mFalse\u001b[0m\u001b[0;34m,\u001b[0m \u001b[0mdtype\u001b[0m\u001b[0;34m=\u001b[0m\u001b[0mdtype\u001b[0m\u001b[0;34m)\u001b[0m\u001b[0;34m\u001b[0m\u001b[0;34m\u001b[0m\u001b[0m\n\u001b[1;32m    114\u001b[0m \u001b[0;34m\u001b[0m\u001b[0m\n",
          "\u001b[0;32m~/.py39/lib/python3.9/site-packages/sklearn/utils/validation.py\u001b[0m in \u001b[0;36mcheck_array\u001b[0;34m(array, accept_sparse, accept_large_sparse, dtype, order, copy, force_all_finite, ensure_2d, allow_nd, ensure_min_samples, ensure_min_features, estimator, input_name)\u001b[0m\n\u001b[1;32m   1005\u001b[0m                     \u001b[0marray\u001b[0m \u001b[0;34m=\u001b[0m \u001b[0mxp\u001b[0m\u001b[0;34m.\u001b[0m\u001b[0mastype\u001b[0m\u001b[0;34m(\u001b[0m\u001b[0marray\u001b[0m\u001b[0;34m,\u001b[0m \u001b[0mdtype\u001b[0m\u001b[0;34m,\u001b[0m \u001b[0mcopy\u001b[0m\u001b[0;34m=\u001b[0m\u001b[0;32mFalse\u001b[0m\u001b[0;34m)\u001b[0m\u001b[0;34m\u001b[0m\u001b[0;34m\u001b[0m\u001b[0m\n\u001b[1;32m   1006\u001b[0m                 \u001b[0;32melse\u001b[0m\u001b[0;34m:\u001b[0m\u001b[0;34m\u001b[0m\u001b[0;34m\u001b[0m\u001b[0m\n\u001b[0;32m-> 1007\u001b[0;31m                     \u001b[0marray\u001b[0m \u001b[0;34m=\u001b[0m \u001b[0m_asarray_with_order\u001b[0m\u001b[0;34m(\u001b[0m\u001b[0marray\u001b[0m\u001b[0;34m,\u001b[0m \u001b[0morder\u001b[0m\u001b[0;34m=\u001b[0m\u001b[0morder\u001b[0m\u001b[0;34m,\u001b[0m \u001b[0mdtype\u001b[0m\u001b[0;34m=\u001b[0m\u001b[0mdtype\u001b[0m\u001b[0;34m,\u001b[0m \u001b[0mxp\u001b[0m\u001b[0;34m=\u001b[0m\u001b[0mxp\u001b[0m\u001b[0;34m)\u001b[0m\u001b[0;34m\u001b[0m\u001b[0;34m\u001b[0m\u001b[0m\n\u001b[0m\u001b[1;32m   1008\u001b[0m             \u001b[0;32mexcept\u001b[0m \u001b[0mComplexWarning\u001b[0m \u001b[0;32mas\u001b[0m \u001b[0mcomplex_warning\u001b[0m\u001b[0;34m:\u001b[0m\u001b[0;34m\u001b[0m\u001b[0;34m\u001b[0m\u001b[0m\n\u001b[1;32m   1009\u001b[0m                 raise ValueError(\n",
          "\u001b[0;32m~/.py39/lib/python3.9/site-packages/sklearn/utils/_array_api.py\u001b[0m in \u001b[0;36m_asarray_with_order\u001b[0;34m(array, dtype, order, copy, xp, device)\u001b[0m\n\u001b[1;32m    744\u001b[0m             \u001b[0marray\u001b[0m \u001b[0;34m=\u001b[0m \u001b[0mnumpy\u001b[0m\u001b[0;34m.\u001b[0m\u001b[0marray\u001b[0m\u001b[0;34m(\u001b[0m\u001b[0marray\u001b[0m\u001b[0;34m,\u001b[0m \u001b[0morder\u001b[0m\u001b[0;34m=\u001b[0m\u001b[0morder\u001b[0m\u001b[0;34m,\u001b[0m \u001b[0mdtype\u001b[0m\u001b[0;34m=\u001b[0m\u001b[0mdtype\u001b[0m\u001b[0;34m)\u001b[0m\u001b[0;34m\u001b[0m\u001b[0;34m\u001b[0m\u001b[0m\n\u001b[1;32m    745\u001b[0m         \u001b[0;32melse\u001b[0m\u001b[0;34m:\u001b[0m\u001b[0;34m\u001b[0m\u001b[0;34m\u001b[0m\u001b[0m\n\u001b[0;32m--> 746\u001b[0;31m             \u001b[0marray\u001b[0m \u001b[0;34m=\u001b[0m \u001b[0mnumpy\u001b[0m\u001b[0;34m.\u001b[0m\u001b[0masarray\u001b[0m\u001b[0;34m(\u001b[0m\u001b[0marray\u001b[0m\u001b[0;34m,\u001b[0m \u001b[0morder\u001b[0m\u001b[0;34m=\u001b[0m\u001b[0morder\u001b[0m\u001b[0;34m,\u001b[0m \u001b[0mdtype\u001b[0m\u001b[0;34m=\u001b[0m\u001b[0mdtype\u001b[0m\u001b[0;34m)\u001b[0m\u001b[0;34m\u001b[0m\u001b[0;34m\u001b[0m\u001b[0m\n\u001b[0m\u001b[1;32m    747\u001b[0m \u001b[0;34m\u001b[0m\u001b[0m\n\u001b[1;32m    748\u001b[0m         \u001b[0;31m# At this point array is a NumPy ndarray. We convert it to an array\u001b[0m\u001b[0;34m\u001b[0m\u001b[0;34m\u001b[0m\u001b[0m\n",
          "\u001b[0;32m~/.py39/lib/python3.9/site-packages/pandas/core/series.py\u001b[0m in \u001b[0;36m__array__\u001b[0;34m(self, dtype, copy)\u001b[0m\n\u001b[1;32m   1029\u001b[0m         \"\"\"\n\u001b[1;32m   1030\u001b[0m         \u001b[0mvalues\u001b[0m \u001b[0;34m=\u001b[0m \u001b[0mself\u001b[0m\u001b[0;34m.\u001b[0m\u001b[0m_values\u001b[0m\u001b[0;34m\u001b[0m\u001b[0;34m\u001b[0m\u001b[0m\n\u001b[0;32m-> 1031\u001b[0;31m         \u001b[0marr\u001b[0m \u001b[0;34m=\u001b[0m \u001b[0mnp\u001b[0m\u001b[0;34m.\u001b[0m\u001b[0masarray\u001b[0m\u001b[0;34m(\u001b[0m\u001b[0mvalues\u001b[0m\u001b[0;34m,\u001b[0m \u001b[0mdtype\u001b[0m\u001b[0;34m=\u001b[0m\u001b[0mdtype\u001b[0m\u001b[0;34m)\u001b[0m\u001b[0;34m\u001b[0m\u001b[0;34m\u001b[0m\u001b[0m\n\u001b[0m\u001b[1;32m   1032\u001b[0m         \u001b[0;32mif\u001b[0m \u001b[0musing_copy_on_write\u001b[0m\u001b[0;34m(\u001b[0m\u001b[0;34m)\u001b[0m \u001b[0;32mand\u001b[0m \u001b[0mastype_is_view\u001b[0m\u001b[0;34m(\u001b[0m\u001b[0mvalues\u001b[0m\u001b[0;34m.\u001b[0m\u001b[0mdtype\u001b[0m\u001b[0;34m,\u001b[0m \u001b[0marr\u001b[0m\u001b[0;34m.\u001b[0m\u001b[0mdtype\u001b[0m\u001b[0;34m)\u001b[0m\u001b[0;34m:\u001b[0m\u001b[0;34m\u001b[0m\u001b[0;34m\u001b[0m\u001b[0m\n\u001b[1;32m   1033\u001b[0m             \u001b[0marr\u001b[0m \u001b[0;34m=\u001b[0m \u001b[0marr\u001b[0m\u001b[0;34m.\u001b[0m\u001b[0mview\u001b[0m\u001b[0;34m(\u001b[0m\u001b[0;34m)\u001b[0m\u001b[0;34m\u001b[0m\u001b[0;34m\u001b[0m\u001b[0m\n",
          "\u001b[0;31mValueError\u001b[0m: setting an array element with a sequence."
         ]
        }
       ]
      }
     },
     "fb9702fa829b4600955867e3c638657e": {
      "model_module": "@jupyter-widgets/base",
      "model_module_version": "1.2.0",
      "model_name": "LayoutModel",
      "state": {
       "width": "100px"
      }
     },
     "fc6f9416b3e94704a6c1b966e2cc19dc": {
      "model_module": "@jupyter-widgets/controls",
      "model_module_version": "1.5.0",
      "model_name": "LinkModel",
      "state": {
       "source": [
        "IPY_MODEL_3289b4c153ae446cb0514df7409b3785",
        "max"
       ],
       "target": [
        "IPY_MODEL_01b5360a932a40c6a6c19bc1625a7b66",
        "max_frame"
       ]
      }
     },
     "fd16cb53aa6f44819f5e326bcebd807c": {
      "model_module": "@jupyter-widgets/controls",
      "model_module_version": "1.5.0",
      "model_name": "SelectModel",
      "state": {
       "_options_labels": [
        "energy",
        "maxforce",
        "conf_no",
        "histplot col1"
       ],
       "description": "col2:",
       "index": 0,
       "layout": "IPY_MODEL_65173079b2144686942c13aa05d21fbb",
       "rows": 1,
       "style": "IPY_MODEL_07ee24688a474f369f199d2c919b0ca6"
      }
     }
    },
    "version_major": 2,
    "version_minor": 0
   }
  }
 },
 "nbformat": 4,
 "nbformat_minor": 5
}
