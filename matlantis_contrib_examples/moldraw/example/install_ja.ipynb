{
 "cells": [
  {
   "cell_type": "markdown",
   "id": "11ffbf79-7a05-438b-a6b2-8a669ca2ffe8",
   "metadata": {},
   "source": [
    "Copyright ENEOS, Corp., Preferred Computational Chemistry, Inc. and Preferred Networks, Inc. as contributors to Matlantis contrib project\n",
    "\n",
    "# moldraw\n",
    "\n",
    "JSMEを用いて分子を描画しASE　atomsを返すUIツールです。  #eneos ibuka 2022/12/8  \n",
    "#v0.1.0 2023/10/25 　Pandasバージョンアップ対応 パッケージ化対応,　引数からcalculator 設定可能に変更　3.8,3.9で動作確認\n"
   ]
  },
  {
   "cell_type": "markdown",
   "id": "b322243f-651c-4560-86b7-e5e81fcf7de4",
   "metadata": {},
   "source": [
    "## セットアップ\n",
    "\n",
    "### pfcc-extrasのインストール\n",
    "\n",
    "Matlantis内のPackage Launcherから `pfcc-extras` をインストールしてください。\n",
    "\n",
    "### JSMEインストール ・・・下セルで実行できます\n",
    "\n",
    "JSMEはサーバ通信なしで分子構造描画ができJ-GLOBALでも採用されているBSD licenseソフトです。（https://jsme-editor.github.io/)<br/>\n",
    "以下ではgitを用いてソースコードをダウンロードし使用しています。\n",
    "\n",
    "### autodEのインストール　・・下セルで実行できます\n",
    "\n",
    "\n",
    "SMILESからASE Atomsへの変換に、`autode` packageを使います。\n",
    " - https://github.com/duartegroup/autodE\n",
    "\n"
   ]
  },
  {
   "cell_type": "code",
   "execution_count": null,
   "id": "bec3823a-8fd5-4d46-bd6e-115bd30cf4df",
   "metadata": {
    "tags": []
   },
   "outputs": [],
   "source": [
    "#JSMEはサーバ通信なしで分子構造描画ができJ-GLOBALでも採用されているBSD licenseソフトです。（https://jsme-editor.github.io/)\n",
    "#以下ではgitを用いてソースコードをダウンロードしています。\n",
    "#パッケージファイルにもコピーするため既に実施している場合も以下実行をお勧めします（2分以内です）\n",
    "!git clone https://github.com/jsme-editor/jsme-editor.github.io.git\n",
    "# Change from \"master\" branch to \"2022-02-26\" release\n",
    "!cd jsme-editor.github.io && git reset --hard 198ef9be65dd1e05846affff7a2dee17de3e267b\n",
    "!mkdir -p ../moldraw/data/jsme/\n",
    "!cp -r ./jsme-editor.github.io/dist/jsme/* ../moldraw/data/jsme/\n",
    "#必要ない部分は削除します。\n",
    "!rm -rf ./jsme-editor.github.io"
   ]
  },
  {
   "cell_type": "code",
   "execution_count": null,
   "id": "2d1036cc-939c-46a5-ae5a-f01a0ded9c6e",
   "metadata": {},
   "outputs": [],
   "source": [
    "#autodEはsmiles から分子構造作成する際に利用します。\n",
    "!pip install git+https://github.com/duartegroup/autodE.git"
   ]
  },
  {
   "cell_type": "code",
   "execution_count": null,
   "id": "4b4cb95c-7c49-4cde-b754-2f910e8a4b96",
   "metadata": {
    "tags": []
   },
   "outputs": [],
   "source": [
    "!pip install ..  # To enable import from other folders"
   ]
  },
  {
   "cell_type": "code",
   "execution_count": 19,
   "id": "1728d1e6-5cd7-4f52-8b0f-b41a102611a5",
   "metadata": {
    "tags": []
   },
   "outputs": [
    {
     "data": {
      "text/plain": [
       "('0.1.0', '/home/jovyan/.py38/lib/python3.8/site-packages/moldraw/__init__.py')"
      ]
     },
     "execution_count": 19,
     "metadata": {},
     "output_type": "execute_result"
    }
   ],
   "source": [
    "#動作確認\n",
    "import moldraw\n",
    "moldraw.__version__ , moldraw.__file__ #パッケージとして保存されていることを確認（pythonバージョン別）"
   ]
  }
 ],
 "metadata": {
  "kernelspec": {
   "display_name": "Python 3.8",
   "language": "python",
   "name": "python38"
  },
  "language_info": {
   "codemirror_mode": {
    "name": "ipython",
    "version": 3
   },
   "file_extension": ".py",
   "mimetype": "text/x-python",
   "name": "python",
   "nbconvert_exporter": "python",
   "pygments_lexer": "ipython3",
   "version": "3.8.13"
  },
  "widgets": {
   "application/vnd.jupyter.widget-state+json": {
    "state": {
     "74406f5a071c4dea9a6bc2eb38f64999": {
      "model_module": "nglview-js-widgets",
      "model_module_version": "3.0.1",
      "model_name": "ColormakerRegistryModel",
      "state": {
       "_msg_ar": [],
       "_msg_q": [],
       "_ready": true,
       "layout": "IPY_MODEL_a4e2771d8aee467cb1f779b80b0ebf51"
      }
     },
     "a4e2771d8aee467cb1f779b80b0ebf51": {
      "model_module": "@jupyter-widgets/base",
      "model_module_version": "1.2.0",
      "model_name": "LayoutModel",
      "state": {}
     }
    },
    "version_major": 2,
    "version_minor": 0
   }
  }
 },
 "nbformat": 4,
 "nbformat_minor": 5
}
