{
 "cells": [
  {
   "attachments": {},
   "cell_type": "markdown",
   "id": "d5a08cc4-e0e6-4e34-9bfe-ac4ddfd4ddf0",
   "metadata": {},
   "source": [
    "### Fast Liquid Genaration by Packmol\n",
    "[LiquidGenerator](https://github.com/matlantis-pfcc/matlantis-contrib/tree/main/matlantis_contrib_examples/liquid_generator) was provided to create the initial liquid structure.\n",
    "PackmolLiquidGenerator uses Packmol as its engine, making it possible to generate liquid structures more than 10 times faster, even for large models."
   ]
  },
  {
   "attachments": {},
   "cell_type": "markdown",
   "id": "1773584a-4eb3-4290-800e-9bcbd80c2a9d",
   "metadata": {},
   "source": [
    "### Install packmol\n",
    "Clone the source code from git and build packmol."
   ]
  },
  {
   "cell_type": "code",
   "execution_count": 7,
   "id": "b9947a7e-36eb-4be2-afb0-560bd4e3d437",
   "metadata": {},
   "outputs": [
    {
     "name": "stdout",
     "output_type": "stream",
     "text": [
      "fatal: destination path 'packmol' already exists and is not an empty directory.\n",
      "Setting compiler to /usr/bin/gfortran\n",
      " ------------------------------------------------------ \n",
      " Compiling packmol with /usr/bin/gfortran \n",
      " Flags: -O3 --fast-math -march=native -funroll-loops \n",
      " ------------------------------------------------------ \n",
      " ------------------------------------------------------ \n",
      " Packmol succesfully built.\n",
      " ------------------------------------------------------ \n"
     ]
    }
   ],
   "source": [
    "!git clone https://github.com/m3g/packmol.git\n",
    "!cd packmol && ./configure && make"
   ]
  },
  {
   "attachments": {},
   "cell_type": "markdown",
   "id": "b97aa494-4fbc-4564-976f-5f7d4b2757cd",
   "metadata": {},
   "source": [
    "### `PackmolLiquidGenerator` class\n",
    "Although packmol can create and run its own scripts and xyz files, the `PackmolLiquidGenerator` class can be used to create ASE Atoms from multiple SMILES."
   ]
  },
  {
   "cell_type": "code",
   "execution_count": 8,
   "id": "1d5ae699-dc3f-4ae6-8bc8-48cc116cdd22",
   "metadata": {},
   "outputs": [],
   "source": [
    "import os\n",
    "import subprocess as sub\n",
    "from dataclasses import dataclass, field\n",
    "from pathlib import Path\n",
    "from typing import List, Optional, TypedDict, Tuple\n",
    "import warnings\n",
    "\n",
    "import numpy as np\n",
    "from ase import Atoms\n",
    "from ase.io import read, write\n",
    "from ase.units import _Nav\n",
    "from rdkit import Chem\n",
    "from rdkit.Chem import AllChem\n",
    "from rdkit.Chem.Descriptors import ExactMolWt\n",
    "\n",
    "\n",
    "class Composition(TypedDict):\n",
    "    name: str\n",
    "    smiles: str\n",
    "    number: int\n",
    "\n",
    "\n",
    "class Cell(TypedDict):\n",
    "    lx: float\n",
    "    ly: float\n",
    "    lz: float\n",
    "\n",
    "@dataclass\n",
    "class PackmolLiquidGenerator:\n",
    "    outputname: str = \"packmol.xyz\"\n",
    "    outputdir: Path = \"output\"\n",
    "    composition: List[Composition] = field(default_factory=list)\n",
    "    density: float = 0.5\n",
    "    \"\"\" target density in g/cm^3 \"\"\"\n",
    "    pbc: Tuple[bool, bool, bool] = (True, True, True)\n",
    "    packmol_bin: Path = Path(\"packmol/packmol\")\n",
    "    inputname: str = \"packmol.inp\"\n",
    "    filetype: str = \"xyz\"\n",
    "    \"\"\" same as filetype in packmol. Please see https://m3g.github.io/packmol/userguide.shtml \"\"\"\n",
    "    tolerance: float = 2.0\n",
    "    \"\"\" same as tolerance in packmol. Please see https://m3g.github.io/packmol/userguide.shtml \"\"\"\n",
    "    margin: float = 1.0\n",
    "    \"\"\" margin for box and atom \"\"\"\n",
    "    cell: Optional[Cell] = None\n",
    "    verbose: bool = False\n",
    "\n",
    "    def __post_init__(self) -> None:\n",
    "        if not os.path.isdir(self.outputdir):\n",
    "            os.makedirs(self.outputdir)\n",
    "\n",
    "        if not self.cell:\n",
    "            total_mass = 0\n",
    "            for props in self.composition:\n",
    "                mol = Chem.MolFromSmiles(props[\"smiles\"])\n",
    "                mol = AllChem.AddHs(mol)\n",
    "                total_mass += props[\"number\"] * ExactMolWt(mol)\n",
    "            total_mass /= _Nav\n",
    "            l = round((total_mass / self.density) ** (1 / 3) * 10**8, 2)\n",
    "            self.cell = {\"lx\": l, \"ly\": l, \"lz\": l}\n",
    "\n",
    "    def _smiles_to_atoms(self, smiles: str) -> Atoms:\n",
    "        mol = Chem.MolFromSmiles(smiles)\n",
    "        mol = Chem.AddHs(mol)\n",
    "        AllChem.EmbedMolecule(mol)\n",
    "        atoms = Atoms(\n",
    "            positions=mol.GetConformer().GetPositions(),\n",
    "            numbers=np.array([a.GetAtomicNum() for a in mol.GetAtoms()]),\n",
    "        )\n",
    "        return atoms\n",
    "\n",
    "    def run(self) -> Atoms:\n",
    "        assert self.cell is not None\n",
    "        assert self.packmol_bin.exists()\n",
    "\n",
    "        with open(os.path.join(self.outputdir, self.inputname), \"w\") as f:\n",
    "            print(\n",
    "                f\"tolerance {self.tolerance}\",\n",
    "                f\"filetype {self.filetype}\",\n",
    "                f\"output {os.path.join(self.outputdir, self.outputname)}\",\n",
    "                sep=\"\\n\",\n",
    "                end=\"\\n\\n\",\n",
    "                file=f,\n",
    "            )\n",
    "            for props in self.composition:\n",
    "                fname = os.path.join(self.outputdir, props[\"name\"] + \".\" + self.filetype)\n",
    "                atoms = self._smiles_to_atoms(props[\"smiles\"])\n",
    "                write(fname, atoms)\n",
    "                print(\n",
    "                    f\"structure {fname}\",\n",
    "                    f\"  number {props['number']}\",\n",
    "                    f\"  inside box {self.margin} {self.margin} {self.margin} {self.cell['lx']-self.margin} {self.cell['ly']-self.margin} {self.cell['lz']-self.margin}\",\n",
    "                    \"end structure\",\n",
    "                    sep=\"\\n\",\n",
    "                    end=\"\\n\\n\",\n",
    "                    file=f,\n",
    "                )\n",
    "\n",
    "        cmd = [self.packmol_bin]\n",
    "        stdout = None if self.verbose else sub.DEVNULL\n",
    "\n",
    "        with open(os.path.join(self.outputdir, self.inputname), \"rt\") as f:\n",
    "            sub.run(cmd, text=True, stdout=stdout, stdin=f)\n",
    "\n",
    "        packed_atoms = read(os.path.join(self.outputdir, self.outputname))\n",
    "        packed_atoms.set_cell([self.cell[\"lx\"], self.cell[\"ly\"], self.cell[\"lz\"]])\n",
    "        packed_atoms.set_pbc(self.pbc)\n",
    "\n",
    "        write(os.path.join(self.outputdir, self.outputname), packed_atoms)\n",
    "\n",
    "        return packed_atoms"
   ]
  },
  {
   "attachments": {},
   "cell_type": "markdown",
   "id": "e29d7315-03c3-420c-b64f-2891adfe0f39",
   "metadata": {},
   "source": [
    "### Example: Mixture of 1000 water moleculs and 1000 ethanol molecules"
   ]
  },
  {
   "cell_type": "code",
   "execution_count": 9,
   "id": "cbe8187f-9021-4269-8690-b537430c5c82",
   "metadata": {},
   "outputs": [],
   "source": [
    "liq_generator = PackmolLiquidGenerator(\n",
    "    density=1.0,\n",
    "    composition=[\n",
    "        {\"name\": \"water\", \"smiles\": \"O\", \"number\": 1000},\n",
    "        {\"name\": \"ehtanol\", \"smiles\": \"CCO\", \"number\": 1000},\n",
    "    ],\n",
    "    outputname=\"mixture.xyz\",\n",
    "    outputdir=\"output\"\n",
    ")\n",
    "atoms = liq_generator.run()"
   ]
  },
  {
   "cell_type": "code",
   "execution_count": 10,
   "id": "42406027-3f4e-41d4-8d1b-665f3f337da1",
   "metadata": {},
   "outputs": [
    {
     "data": {
      "text/plain": [
       "Atoms(symbols='C2000H8000O2000', pbc=True, cell=[47.38, 47.38, 47.38])"
      ]
     },
     "execution_count": 10,
     "metadata": {},
     "output_type": "execute_result"
    }
   ],
   "source": [
    "atoms"
   ]
  },
  {
   "cell_type": "code",
   "execution_count": 11,
   "id": "002806bd",
   "metadata": {},
   "outputs": [
    {
     "data": {
      "application/vnd.jupyter.widget-view+json": {
       "model_id": "4a96ac1107244bf0ae99b590729b9de9",
       "version_major": 2,
       "version_minor": 0
      },
      "text/plain": [
       "HBox(children=(NGLWidget(), VBox(children=(Dropdown(description='Show', options=('All', 'O', 'H', 'C'), value=…"
      ]
     },
     "metadata": {},
     "output_type": "display_data"
    }
   ],
   "source": [
    "from ase.visualize import view\n",
    "view(atoms, viewer=\"ngl\")"
   ]
  },
  {
   "cell_type": "code",
   "execution_count": null,
   "id": "f54cdcad",
   "metadata": {},
   "outputs": [],
   "source": []
  }
 ],
 "metadata": {
  "kernelspec": {
   "display_name": "polymerreaction-S0NvZNQ5-py3.9",
   "language": "python",
   "name": "python3"
  },
  "language_info": {
   "codemirror_mode": {
    "name": "ipython",
    "version": 3
   },
   "file_extension": ".py",
   "mimetype": "text/x-python",
   "name": "python",
   "nbconvert_exporter": "python",
   "pygments_lexer": "ipython3",
   "version": "3.9.17"
  }
 },
 "nbformat": 4,
 "nbformat_minor": 5
}
