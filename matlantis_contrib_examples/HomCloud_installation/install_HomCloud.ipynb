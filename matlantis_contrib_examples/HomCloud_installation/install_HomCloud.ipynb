{
 "cells": [
  {
   "cell_type": "markdown",
   "id": "84749a04",
   "metadata": {},
   "source": [
    "Copyright Preferred Computational Chemistry, Inc. as contributors to Matlantis contrib project"
   ]
  },
  {
   "cell_type": "markdown",
   "id": "1b392ca8-5e5b-450e-a894-0bff397cd381",
   "metadata": {},
   "source": [
    "# Persistent homology analysis using HomCloud.\n",
    "\n",
    "**Persistent homology (PH)** is a tool from topological data analysis. PH is used to characterize the complex structural features of point clouds withoud clear periodicity, such as the atomic positions of amorphous solids, porous materials and polymers. In PH analysis, rings (2D) and cages (3D) can be identified with increasing the sphare radii of points. PH tracks the scale at which these features appear (are \"born\") and disappear (are \"die\"). These birth-death events are represented in a Persistent Diagram (PD). The PD can then be analyzed to gain chemical and physical insites into the structural properties.\n",
    "In this example, `HomCloud`, an python package for PH calculations, will be installed on Matlantis.\n",
    "\n",
    "## References\n",
    "* https://homcloud.dev/index.en.html\n",
    "* I. Obayashi, J. Phys. Soc. Jpn. 91, 091013 (2022) https://journals.jps.jp/doi/10.7566/JPSJ.91.091013"
   ]
  },
  {
   "cell_type": "markdown",
   "id": "404c4fca-93e9-4b6f-b2e1-50d1ce19e2a5",
   "metadata": {},
   "source": [
    "## Install HomCloud\n",
    "\n",
    "Before installing `HomCloud`, please download and install the necessary packages `GNU MPFR` and `CGAL`.\n",
    "\n",
    "1. Download the latest source archive `mpfr-4.2.X.tar.xz` of `GNU MPFR` from [the official website](https://www.mpfr.org/) and upload to your home directory on Matlantis.\n",
    "\n",
    "2. Run the cell below. It will download the source archive `CGAL-v5.6.X` with *wget* and build `GNU MPFR` and `CGAL`. \n",
    "\n",
    "3. Install `HomCloud` with *pip*.\n",
    "\n",
    "GNU MPFR https://www.mpfr.org/ \\\n",
    "Dlownload: https://www.mpfr.org/mpfr-current/#download\n",
    "\n",
    "CGAL https://www.cgal.org \\\n",
    "Github repositry: https://github.com/CGAL/cgal"
   ]
  },
  {
   "cell_type": "code",
   "execution_count": null,
   "id": "cc86745a-13a4-4b1a-9085-168e98637db8",
   "metadata": {
    "tags": []
   },
   "outputs": [],
   "source": [
    "cgal_version = '5.6.1'\n",
    "mpfr_version = '4.2.1'"
   ]
  },
  {
   "cell_type": "code",
   "execution_count": null,
   "id": "a39bef0f-d7fb-476b-bb35-fb50736f95e3",
   "metadata": {
    "tags": []
   },
   "outputs": [],
   "source": [
    "%%time\n",
    "import os\n",
    "from subprocess import run, PIPE\n",
    "\n",
    "lines = f\"\"\"\n",
    "wget https://github.com/CGAL/cgal/releases/download/v{cgal_version}/CGAL-{cgal_version}.tar.xz\n",
    "\n",
    "mkdir -p ~/cgal_install\n",
    "tar Jxfv CGAL-{cgal_version}.tar.xz\n",
    "cd CGAL-{cgal_version}\n",
    "mkdir -p build\n",
    "cd build\n",
    "cmake -DCMAKE_INSTALL_PREFIX=~/cgal_install ..\n",
    "make\n",
    "make install\n",
    "\n",
    "cd \n",
    "\n",
    "tar Jxfv mpfr-{mpfr_version}.tar.xz\n",
    "cd mpfr-{mpfr_version}\n",
    "./configure --prefix=$HOME/mpfr_install\n",
    "make\n",
    "make install\n",
    "\n",
    "export LD_LIBRARY_PATH=/home/jovyan/mpfr_install/lib:/home/jovyan/cgal_install/lib:/home/jovyan/mpfr_install/lib\n",
    "export CFLAGS=\"-I$HOME/mpfr_install/include -I$HOME/cgal_install/include -L$HOME/mpfr_install/lib\"\n",
    "\"\"\"\n",
    "with open('install_homcloud.sh', 'w') as f:\n",
    "    f.write(lines)\n",
    "cmd = 'bash install_homcloud.sh'.split()\n",
    "p = run(cmd)"
   ]
  },
  {
   "cell_type": "code",
   "execution_count": null,
   "id": "97a23e93-be18-4270-b680-111d25854701",
   "metadata": {},
   "outputs": [],
   "source": [
    "!pip3 install 'homcloud==4.2.1'"
   ]
  },
  {
   "cell_type": "code",
   "execution_count": null,
   "id": "5a4e005a-c311-4097-83dd-1085175a6066",
   "metadata": {
    "tags": []
   },
   "outputs": [],
   "source": [
    "! pip install  homcloud"
   ]
  },
  {
   "cell_type": "markdown",
   "id": "310fa511-284e-4de3-85a6-dc499347a2aa",
   "metadata": {
    "tags": []
   },
   "source": [
    "## Make a random point cloud.\n",
    "\n",
    "In this example, a random point cloud is used for the input data. "
   ]
  },
  {
   "cell_type": "code",
   "execution_count": null,
   "id": "14607630-bb6e-4a14-a62b-747c0953fc85",
   "metadata": {
    "tags": []
   },
   "outputs": [],
   "source": [
    "import numpy as np\n",
    "import matplotlib.pyplot as plt\n",
    "%matplotlib inline\n",
    "\n",
    "# Generate random points in 3D.\n",
    "rng = np.random.default_rng() \n",
    "pointcloud = rng.random((1000,3))\n",
    "\n",
    "# Display the points.\n",
    "fig = plt.figure()\n",
    "ax = fig.add_subplot(projection='3d')\n",
    "\n",
    "x, y, z = pointcloud.T\n",
    "ax.scatter(x, y, z)"
   ]
  },
  {
   "cell_type": "markdown",
   "id": "015b1b2e-7990-4714-ba2d-f57412fe1890",
   "metadata": {},
   "source": [
    "## Calculate the persistent diagram using HomCloud."
   ]
  },
  {
   "cell_type": "code",
   "execution_count": null,
   "id": "105fbaa2-1e1d-4e8a-9831-31ae6479c973",
   "metadata": {},
   "outputs": [],
   "source": [
    "%%time\n",
    "import homcloud\n",
    "import homcloud.interface as hc\n",
    "\n",
    "# Calculate the persistent homology.\n",
    "print(f'HomCloud version : {homcloud.version.__version__}')\n",
    "hc.PDList.from_alpha_filtration(pointcloud, \n",
    "                                save_to=\"pointcloud.pdgm\",\n",
    "                                save_boundary_map=True)"
   ]
  },
  {
   "cell_type": "code",
   "execution_count": null,
   "id": "4514a415-1db0-4cc8-a0b2-1b25d93954f0",
   "metadata": {
    "tags": []
   },
   "outputs": [],
   "source": [
    "pdlist = hc.PDList(\"pointcloud.pdgm\")\n",
    "pd1 = pdlist.dth_diagram(1)\n",
    "pd1.histogram().plot()"
   ]
  }
 ],
 "metadata": {
  "kernelspec": {
   "display_name": "Python 3.9",
   "language": "python",
   "name": "python39"
  },
  "language_info": {
   "codemirror_mode": {
    "name": "ipython",
    "version": 3
   },
   "file_extension": ".py",
   "mimetype": "text/x-python",
   "name": "python",
   "nbconvert_exporter": "python",
   "pygments_lexer": "ipython3",
   "version": "3.9.16"
  },
  "widgets": {
   "application/vnd.jupyter.widget-state+json": {
    "state": {},
    "version_major": 2,
    "version_minor": 0
   }
  }
 },
 "nbformat": 4,
 "nbformat_minor": 5
}
