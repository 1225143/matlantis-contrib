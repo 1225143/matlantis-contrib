{
 "cells": [
  {
   "attachments": {},
   "cell_type": "markdown",
   "id": "d5a08cc4-e0e6-4e34-9bfe-ac4ddfd4ddf0",
   "metadata": {},
   "source": [
    "### Fast Liquid Genaration by Packmol\n",
    "[LiquidGenerator](https://github.com/matlantis-pfcc/matlantis-contrib/tree/main/matlantis_contrib_examples/liquid_generator) was provided to create the initial liquid structure.\n",
    "FastLiquidGenerator uses Packmol as its engine, making it possible to generate liquid structures more than 10 times faster, even for large models."
   ]
  },
  {
   "attachments": {},
   "cell_type": "markdown",
   "id": "1773584a-4eb3-4290-800e-9bcbd80c2a9d",
   "metadata": {},
   "source": [
    "### Install packmol\n",
    "Clone the source code from git and build packmol."
   ]
  },
  {
   "cell_type": "code",
   "execution_count": 36,
   "id": "b9947a7e-36eb-4be2-afb0-560bd4e3d437",
   "metadata": {},
   "outputs": [
    {
     "name": "stdout",
     "output_type": "stream",
     "text": [
      "Cloning into 'packmol'...\n",
      "remote: Enumerating objects: 1932, done.\u001b[K\n",
      "remote: Counting objects: 100% (479/479), done.\u001b[K\n",
      "remote: Compressing objects: 100% (218/218), done.\u001b[K\n",
      "remote: Total 1932 (delta 249), reused 399 (delta 221), pack-reused 1453\u001b[K\n",
      "Receiving objects: 100% (1932/1932), 10.84 MiB | 20.56 MiB/s, done.\n",
      "Resolving deltas: 100% (1069/1069), done.\n",
      "Setting compiler to /usr/bin/gfortran\n",
      " ------------------------------------------------------ \n",
      " Compiling packmol with /usr/bin/gfortran \n",
      " Flags: -O3 --fast-math -march=native -funroll-loops \n",
      " ------------------------------------------------------ \n",
      " ------------------------------------------------------ \n",
      " Packmol succesfully built.\n",
      " ------------------------------------------------------ \n"
     ]
    }
   ],
   "source": [
    "!git clone https://github.com/m3g/packmol.git\n",
    "!cd packmol && ./configure && make"
   ]
  },
  {
   "attachments": {},
   "cell_type": "markdown",
   "id": "b97aa494-4fbc-4564-976f-5f7d4b2757cd",
   "metadata": {},
   "source": [
    "### `FastLiquidGenerator` class\n",
    "Although packmol can create and run its own scripts and xyz files, the `FastliquidGenerator` class can be used to create ASE Atoms from multiple SMILES."
   ]
  },
  {
   "cell_type": "code",
   "execution_count": 37,
   "id": "1d5ae699-dc3f-4ae6-8bc8-48cc116cdd22",
   "metadata": {},
   "outputs": [],
   "source": [
    "import os\n",
    "import subprocess as sub\n",
    "from dataclasses import dataclass, field\n",
    "from pathlib import Path\n",
    "from typing import Dict, List, Literal, Optional\n",
    "\n",
    "import numpy as np\n",
    "from ase import Atoms\n",
    "from ase.io import read, write\n",
    "from ase.units import _Nav\n",
    "from rdkit import Chem\n",
    "from rdkit.Chem import AllChem\n",
    "from rdkit.Chem.Descriptors import ExactMolWt\n",
    "from typing_extensions import TypedDict\n",
    "\n",
    "\n",
    "class Composition(TypedDict):\n",
    "    name: str\n",
    "    smiles: str\n",
    "    number: int\n",
    "\n",
    "\n",
    "@dataclass\n",
    "class FastLiquidGenerator:\n",
    "    outputname: str = \"packmol.xyz\"\n",
    "    outputdir: str = \"output\"\n",
    "    composition: Dict[str, Composition] = field(default_factory=dict)\n",
    "    density: float = 0.5  # units:g/cm^3\n",
    "    pbc: Optional[List[bool]] = field(default_factory=lambda: [True, True, True])\n",
    "    packmol_bin: Optional[Path] = \"packmol/packmol\"\n",
    "    inputname: Optional[str] = \"packmol.inp\"\n",
    "    filetype: Optional[\n",
    "        str\n",
    "    ] = \"xyz\"  # same as filetype in packmol. Please see https://m3g.github.io/packmol/userguide.shtml\n",
    "    tolerance: Optional[\n",
    "        float\n",
    "    ] = 2.0  # same as tolerance in packmol. Please see https://m3g.github.io/packmol/userguide.shtml\n",
    "    margin: Optional[float] = 1.0  # margin for box and atom\n",
    "    cell: Optional[Dict[Literal[\"lx\", \"ly\", \"lz\"], float]] = field(default_factory=dict)\n",
    "    verbose: Optional[bool] = False\n",
    "\n",
    "    def __post_init__(self) -> None:\n",
    "        if not os.path.isdir(self.outputdir):\n",
    "            os.makedirs(self.outputdir)\n",
    "\n",
    "        if not self.cell:\n",
    "            total_mass = 0\n",
    "            for name, props in self.composition.items():\n",
    "                mol = Chem.MolFromSmiles(props[\"smiles\"])\n",
    "                mol = AllChem.AddHs(mol)\n",
    "                total_mass += props[\"number\"] * ExactMolWt(mol)\n",
    "            total_mass /= _Nav\n",
    "            l = round((total_mass / self.density) ** (1 / 3) * 10**8, 2)\n",
    "            self.cell = {\"lx\": l, \"ly\": l, \"lz\": l}\n",
    "\n",
    "    def _smiles_to_atoms(self, smiles: str) -> Atoms:\n",
    "        mol = Chem.MolFromSmiles(smiles)\n",
    "        mol = Chem.AddHs(mol)\n",
    "        AllChem.EmbedMolecule(mol)\n",
    "        atoms = Atoms(\n",
    "            positions=mol.GetConformer().GetPositions(),\n",
    "            numbers=np.array([a.GetAtomicNum() for a in mol.GetAtoms()]),\n",
    "        )\n",
    "        return atoms\n",
    "\n",
    "    def run(self) -> Atoms:\n",
    "        with open(os.path.join(self.outputdir, self.inputname), \"w\") as f:\n",
    "            f.write(f\"tolerance {self.tolerance}\\n\")\n",
    "            f.write(f\"filetype {self.filetype}\\n\")\n",
    "            f.write(f\"output {os.path.join(self.outputdir, self.outputname)}\\n\")\n",
    "            f.write(f\"\\n\")\n",
    "            for name, props in self.composition.items():\n",
    "                structure_path = os.path.join(self.outputdir, name + \".\" + self.filetype)\n",
    "                f.write(f\"structure {structure_path}\\n\")\n",
    "                f.write(f\"  number {props['number']}\\n\")\n",
    "                f.write(\n",
    "                    f\"  inside box {self.margin} {self.margin} {self.margin} {self.cell['lx']-self.margin} {self.cell['ly']-self.margin} {self.cell['lz']-self.margin}\\n\"\n",
    "                )\n",
    "                f.write(f\"end structure\\n\")\n",
    "                atoms = self._smiles_to_atoms(props[\"smiles\"])\n",
    "                write(structure_path, atoms)\n",
    "\n",
    "        cmd = [self.packmol_bin]\n",
    "        stdout = None if self.verbose else sub.DEVNULL\n",
    "\n",
    "        with open(os.path.join(self.outputdir, self.inputname), \"rt\") as f:\n",
    "            sub.run(cmd, text=True, stdout=stdout, stdin=f)\n",
    "\n",
    "        packed_atoms = read(os.path.join(self.outputdir, self.outputname))\n",
    "        packed_atoms.set_cell([self.cell[\"lx\"], self.cell[\"ly\"], self.cell[\"lz\"]])\n",
    "        packed_atoms.set_pbc(self.pbc)\n",
    "\n",
    "        write(os.path.join(self.outputdir, self.outputname), packed_atoms)\n",
    "\n",
    "        return packed_atoms"
   ]
  },
  {
   "attachments": {},
   "cell_type": "markdown",
   "id": "e29d7315-03c3-420c-b64f-2891adfe0f39",
   "metadata": {},
   "source": [
    "### Example: Mixture of 1000 water moleculs and 1000 ethanol molecules"
   ]
  },
  {
   "cell_type": "code",
   "execution_count": 38,
   "id": "cbe8187f-9021-4269-8690-b537430c5c82",
   "metadata": {},
   "outputs": [],
   "source": [
    "liq_generator = FastLiquidGenerator(\n",
    "    density=1.0,\n",
    "    composition={\n",
    "        \"water\": {\"smiles\": \"O\", \"number\": 1000},\n",
    "        \"ehtanol\": {\"smiles\": \"CCO\", \"number\": 1000},\n",
    "    },\n",
    "    outputname=\"mixture.xyz\",\n",
    "    filetype=\"xyz\",\n",
    "    outputdir=\"output\"\n",
    ")\n",
    "atoms = liq_generator.run()"
   ]
  },
  {
   "cell_type": "code",
   "execution_count": 39,
   "id": "42406027-3f4e-41d4-8d1b-665f3f337da1",
   "metadata": {},
   "outputs": [
    {
     "data": {
      "text/plain": [
       "Atoms(symbols='C2000H8000O2000', pbc=True, cell=[47.38, 47.38, 47.38])"
      ]
     },
     "execution_count": 39,
     "metadata": {},
     "output_type": "execute_result"
    }
   ],
   "source": [
    "atoms"
   ]
  },
  {
   "cell_type": "code",
   "execution_count": null,
   "id": "80a86f1e",
   "metadata": {},
   "outputs": [],
   "source": []
  }
 ],
 "metadata": {
  "kernelspec": {
   "display_name": "polymerreaction-S0NvZNQ5-py3.9",
   "language": "python",
   "name": "python3"
  },
  "language_info": {
   "codemirror_mode": {
    "name": "ipython",
    "version": 3
   },
   "file_extension": ".py",
   "mimetype": "text/x-python",
   "name": "python",
   "nbconvert_exporter": "python",
   "pygments_lexer": "ipython3",
   "version": "3.9.13"
  }
 },
 "nbformat": 4,
 "nbformat_minor": 5
}
