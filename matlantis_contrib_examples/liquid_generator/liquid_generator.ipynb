{
 "cells": [
  {
   "cell_type": "markdown",
   "id": "ee558100",
   "metadata": {},
   "source": [
    "Copyright Preferred Networks, Inc. as contributors to Matlantis contrib project\n",
    "\n",
    "# Generate the liquid structure \n",
    "Atomic simulation with the liquid phase is complicated compared to solid materials. Solid materials usually have a clear and well-defined structure, which can be obtained experimentally. Liquid is formed by molecules. The position and orientation of each molecule are random in the liquid. To simulate a liquid phase, we need to spend more time preparing the initial structure. A standard method is to simulate the melting procedure: run high-temperature molecular dynamics from a solid phase until it reaches the liquid status. \n",
    "Here we proposed a new method by randomly put the molecule into a simulation box, and then optimize the initial guess of molecular position and orientation by minimizing the overlap among molecules using the backward function within PyTorch.\n"
   ]
  },
  {
   "cell_type": "code",
   "execution_count": null,
   "id": "0929828e-9757-4d7c-ad4f-0c12a8447d76",
   "metadata": {},
   "outputs": [],
   "source": [
    "!pip install pfp_api_client\n",
    "!pip install ase matplotlib torch\n",
    "\n",
    "# # 初回使用時のみ、ライブラリのインストールをお願いします。"
   ]
  },
  {
   "cell_type": "code",
   "execution_count": 1,
   "id": "105b4767",
   "metadata": {},
   "outputs": [],
   "source": [
    "from typing import List, Optional\n",
    "\n",
    "import numpy as np\n",
    "import torch\n",
    "from ase import Atoms, units\n",
    "from ase.data import atomic_masses\n",
    "from torch import nn\n",
    "from torch.optim.adam import Adam\n",
    "\n",
    "\n",
    "class LiquidGenerator(nn.Module):\n",
    "    def __init__(\n",
    "        self, atoms_list: List[Atoms], cell: Optional[np.ndarray] = None, density: Optional[float] = 0.7, \n",
    "        cubic_cell: bool = True, wall:bool = False,\n",
    "    ) -> None:\n",
    "        \"\"\"\n",
    "        args:\n",
    "            atoms_list (List[Atoms]): The atoms to be filled into the simulation box.\n",
    "            cell (np.ndarray or None, optional): The cell shape of simulation box. Default to None.\n",
    "            density (float or None, optional): Create the simulation box from the density. If the cell is provided, this parameter will be \n",
    "                ignored. Defalt to 0.7.\n",
    "            cubic_cell (bool, optional): Create the cubic simulation box. If false, the cell length is allow to change (orthogonal cell). \n",
    "                Default to False.\n",
    "            wall (bool, optional): Add additional constraints to refrine the molecule to cross the periodical boundary along z axis. This \n",
    "                can be used to generate a liquid / soild interface. Default to False\n",
    "        \"\"\"\n",
    "        super(LiquidGenerator, self).__init__()\n",
    "        self.mol = None\n",
    "        self.density = density\n",
    "        self.cubic_cell = cubic_cell\n",
    "        self.idx = np.array(\n",
    "            [i + 1 for i, a in enumerate(atoms_list) for j in range(len(a))]\n",
    "        )\n",
    "        self.num_of_mols = len(atoms_list)\n",
    "\n",
    "        positions = np.vstack([a.get_positions() for a in atoms_list])\n",
    "        self.register_buffer(\"positions\", torch.tensor(positions, dtype=torch.float32))\n",
    "\n",
    "        self.numbers = np.concatenate([a.get_atomic_numbers() for a in atoms_list])\n",
    "        self.mass = atomic_masses[self.numbers].sum()\n",
    "        \n",
    "        if cell is None:\n",
    "            self.length = (self.mass / units.kg / self.density * 1e27) ** (1 / 3.0)\n",
    "            if self.cubic_cell:\n",
    "                cell = torch.eye(3, dtype=torch.float32) * self.length\n",
    "                self.register_buffer(\"_cell\", cell)\n",
    "            else:\n",
    "                self.length_a = nn.Parameter(torch.tensor(self.length, dtype=torch.float32))\n",
    "                self.length_b = nn.Parameter(torch.tensor(self.length, dtype=torch.float32))\n",
    "        else:\n",
    "            self.length = np.linalg.norm(cell, axis=1).mean()\n",
    "            cell = torch.tensor(cell, dtype=torch.float32)\n",
    "            self.register_buffer(\"_cell\", cell)\n",
    "\n",
    "        self.translation = nn.Parameter(torch.rand([self.num_of_mols, 3]) * self.length)\n",
    "        self.rotation = nn.Parameter(torch.rand([self.num_of_mols, 3]) * np.pi)\n",
    "        self.wall = wall\n",
    "\n",
    "    def fit(self, epochs=50, lr=0.1):\n",
    "        optimizer = Adam(self.parameters(), lr=0.1)\n",
    "        print(\"step  score  cell_x  cell_y  cell_z\")\n",
    "        for i in range(epochs):\n",
    "            optimizer.zero_grad()\n",
    "            score = self.score()\n",
    "            score.backward()\n",
    "            optimizer.step()\n",
    "            print(\n",
    "                f\" {i:3d} {score.item():10.2f}\"\n",
    "                f\" {self.cell[0,0]:5.2f} {self.cell[1,1]:5.2f} {self.cell[2,2]:5.2f}\"\n",
    "            )\n",
    "\n",
    "    @property\n",
    "    def cell(self) -> None:\n",
    "        if hasattr(self, \"_cell\"):\n",
    "            return self._cell\n",
    "        else:\n",
    "            length_c = self.length ** 3 / self.length_a / self.length_b\n",
    "            return torch.eye(\n",
    "                3, device=self.length_a.device, dtype=torch.float32\n",
    "            ) * torch.stack([self.length_a, self.length_b, length_c])\n",
    "\n",
    "    def _generate(self) -> List[np.ndarray]:\n",
    "        mol_positions = [\n",
    "            self.positions[self.idx == i + 1] for i in range(self.num_of_mols)\n",
    "        ]\n",
    "        translation = torch.mm(torch.remainder(self.translation, 1), self.cell)  # wrap\n",
    "\n",
    "        gen_positions = [\n",
    "            translation_and_rotation(pos, vec, rot)\n",
    "            for pos, vec, rot in zip(mol_positions, translation, self.rotation)\n",
    "        ]\n",
    "        return gen_positions\n",
    "\n",
    "    def to_atoms(self) -> Atoms:\n",
    "        gen_positions = self._generate()\n",
    "        positions = np.empty([len(self.positions), 3])\n",
    "        for i in range(self.num_of_mols):\n",
    "            positions[self.idx == i + 1] = gen_positions[i].detach().cpu().numpy()\n",
    "        atoms = Atoms(\n",
    "            positions=positions,\n",
    "            cell=self.cell.detach().cpu().numpy(),\n",
    "            numbers=self.numbers,\n",
    "            pbc=[1, 1, 1],\n",
    "        )\n",
    "        return atoms\n",
    "\n",
    "    def score(self) -> float:\n",
    "        dist = distance_matrix(self._generate(), self.cell)\n",
    "        s = torch.sum((3.0 - dist[dist < 3.0]) ** 2)\n",
    "        if self.wall:\n",
    "            wdist = wall_dist(self._generate(), self.cell)\n",
    "            s += 10 * torch.sum(wdist)**2\n",
    "        return s\n",
    "    "
   ]
  },
  {
   "cell_type": "code",
   "execution_count": 2,
   "id": "063987be",
   "metadata": {},
   "outputs": [],
   "source": [
    "from torch import Tensor\n",
    "\n",
    "def translation_and_rotation(positions: Tensor, vec: Tensor, rot: Tensor) -> Tensor:\n",
    "    device = positions.device\n",
    "    alpha, beta, gamma = rot\n",
    "\n",
    "    rotation_x = torch.stack(\n",
    "        [\n",
    "            torch.tensor([1., 0., 0.], device=device),\n",
    "            torch.stack([torch.tensor(0.0, device=device), torch.cos(alpha), -torch.sin(alpha)]),\n",
    "            torch.stack([torch.tensor(0.0, device=device), torch.sin(alpha), torch.cos(alpha)]),\n",
    "        ]\n",
    "    )\n",
    "\n",
    "    rotation_y = torch.stack(\n",
    "        [\n",
    "            torch.stack([torch.cos(beta), torch.tensor(0.0, device=device), -torch.sin(beta)]),\n",
    "            torch.tensor([0.0, 1.0, 0.0], device=device),\n",
    "            torch.stack([torch.sin(beta), torch.tensor(0.0, device=device), torch.cos(beta)]),\n",
    "        ]\n",
    "    )\n",
    "\n",
    "    rotation_z = torch.stack(\n",
    "        [\n",
    "            torch.stack([torch.cos(gamma), -torch.sin(gamma), torch.tensor(0.0, device=device)]),\n",
    "            torch.stack([torch.sin(gamma), torch.cos(gamma), torch.tensor(0.0, device=device)]),\n",
    "            torch.tensor([0.0, 0.0, 1.0], device=device),\n",
    "        ]\n",
    "    )\n",
    "\n",
    "    return torch.mm(\n",
    "        torch.mm(torch.mm(positions, rotation_x), rotation_y), rotation_z\n",
    "    ) + vec.view([1, 3])\n",
    "\n",
    "\n",
    "def make_supercell(positions: Tensor, cell: Tensor) -> Tensor:\n",
    "    device = positions.device\n",
    "    vecs = torch.mm(\n",
    "        torch.stack(torch.meshgrid([torch.tensor([-1.0, 0.0, 1.0], device=device)] * 3))\n",
    "        .view([3, -1])\n",
    "        .T,\n",
    "        cell,\n",
    "    )\n",
    "    return (positions.unsqueeze(axis=0) + vecs.unsqueeze(axis=1)).view([-1, 3])\n",
    "\n",
    "\n",
    "def distance_matrix(list_of_positions: List[Tensor], cell: Tensor) -> Tensor:\n",
    "    positions = torch.cat(list_of_positions, axis=0)\n",
    "    supercell = make_supercell(positions, cell)\n",
    "    # TO FIX backward problem in torch.cdist in torch 1.5\n",
    "    dist = torch.sqrt(\n",
    "        torch.sum(\n",
    "            torch.square(positions.unsqueeze(axis=1) - supercell.unsqueeze(axis=0)),\n",
    "            axis=2,\n",
    "        )\n",
    "        + 1e-16\n",
    "    )\n",
    "    return dist\n",
    "\n",
    "def wall_dist(list_of_positions: List[Tensor], cell: Tensor) -> Tensor:\n",
    "    positions_z = torch.cat(list_of_positions, axis=0)[:,2]\n",
    "    return torch.cat([-positions_z[positions_z < 0], positions_z[positions_z>cell[2,2]]-cell[2,2]])\n",
    "    "
   ]
  },
  {
   "cell_type": "code",
   "execution_count": 3,
   "id": "9acc286a",
   "metadata": {},
   "outputs": [],
   "source": [
    "from ase import Atoms\n",
    "from rdkit import Chem\n",
    "from rdkit.Chem import AllChem\n",
    "\n",
    "def smiles_to_atoms(smiles: str) -> Atoms:\n",
    "  mol = Chem.MolFromSmiles(smiles)\n",
    "  mol = Chem.AddHs(mol)\n",
    "  AllChem.EmbedMolecule(mol)\n",
    "  atoms = Atoms(\n",
    "      positions = mol.GetConformer().GetPositions(),\n",
    "      numbers = np.array([a.GetAtomicNum() for a in mol.GetAtoms()])\n",
    "  )\n",
    "  return atoms"
   ]
  },
  {
   "cell_type": "markdown",
   "id": "6506096f",
   "metadata": {},
   "source": [
    "## Example 1\n",
    "* We generate the mixture of two kind of molecules.\n",
    "* We can set initial guess of density as 0.7 g/cm3."
   ]
  },
  {
   "cell_type": "code",
   "execution_count": 4,
   "id": "993ff048",
   "metadata": {},
   "outputs": [
    {
     "name": "stdout",
     "output_type": "stream",
     "text": [
      "step  score  cell_x  cell_y  cell_z\n",
      "   0    4706.90 13.92 13.92 13.92\n",
      "   1    4544.93 13.92 13.92 13.92\n",
      "   2    4403.74 13.92 13.92 13.92\n",
      "   3    4222.19 13.92 13.92 13.92\n",
      "   4    4177.13 13.92 13.92 13.92\n",
      "   5    4148.86 13.92 13.92 13.92\n",
      "   6    4091.17 13.92 13.92 13.92\n",
      "   7    4012.30 13.92 13.92 13.92\n",
      "   8    4003.91 13.92 13.92 13.92\n",
      "   9    3970.52 13.92 13.92 13.92\n",
      "  10    3945.15 13.92 13.92 13.92\n",
      "  11    3966.13 13.92 13.92 13.92\n",
      "  12    3961.27 13.92 13.92 13.92\n",
      "  13    3940.00 13.92 13.92 13.92\n",
      "  14    3923.20 13.92 13.92 13.92\n",
      "  15    3903.97 13.92 13.92 13.92\n",
      "  16    3885.64 13.92 13.92 13.92\n",
      "  17    3885.33 13.92 13.92 13.92\n",
      "  18    3895.37 13.92 13.92 13.92\n",
      "  19    3894.15 13.92 13.92 13.92\n",
      "  20    3880.65 13.92 13.92 13.92\n",
      "  21    3868.64 13.92 13.92 13.92\n",
      "  22    3863.88 13.92 13.92 13.92\n",
      "  23    3863.83 13.92 13.92 13.92\n",
      "  24    3865.55 13.92 13.92 13.92\n",
      "  25    3865.66 13.92 13.92 13.92\n",
      "  26    3864.62 13.92 13.92 13.92\n",
      "  27    3862.31 13.92 13.92 13.92\n",
      "  28    3858.47 13.92 13.92 13.92\n",
      "  29    3855.05 13.92 13.92 13.92\n",
      "  30    3854.71 13.92 13.92 13.92\n",
      "  31    3854.87 13.92 13.92 13.92\n",
      "  32    3855.52 13.92 13.92 13.92\n",
      "  33    3855.05 13.92 13.92 13.92\n",
      "  34    3852.11 13.92 13.92 13.92\n",
      "  35    3848.97 13.92 13.92 13.92\n",
      "  36    3847.40 13.92 13.92 13.92\n",
      "  37    3846.18 13.92 13.92 13.92\n",
      "  38    3845.68 13.92 13.92 13.92\n",
      "  39    3845.69 13.92 13.92 13.92\n",
      "  40    3846.13 13.92 13.92 13.92\n",
      "  41    3846.37 13.92 13.92 13.92\n",
      "  42    3845.24 13.92 13.92 13.92\n",
      "  43    3843.32 13.92 13.92 13.92\n",
      "  44    3842.22 13.92 13.92 13.92\n",
      "  45    3842.09 13.92 13.92 13.92\n",
      "  46    3842.62 13.92 13.92 13.92\n",
      "  47    3843.21 13.92 13.92 13.92\n",
      "  48    3842.69 13.92 13.92 13.92\n",
      "  49    3841.56 13.92 13.92 13.92\n",
      "  50    3841.07 13.92 13.92 13.92\n",
      "  51    3840.82 13.92 13.92 13.92\n",
      "  52    3840.33 13.92 13.92 13.92\n",
      "  53    3839.91 13.92 13.92 13.92\n",
      "  54    3839.69 13.92 13.92 13.92\n",
      "  55    3839.65 13.92 13.92 13.92\n",
      "  56    3839.70 13.92 13.92 13.92\n",
      "  57    3839.54 13.92 13.92 13.92\n",
      "  58    3839.24 13.92 13.92 13.92\n",
      "  59    3839.14 13.92 13.92 13.92\n",
      "  60    3839.20 13.92 13.92 13.92\n",
      "  61    3839.13 13.92 13.92 13.92\n",
      "  62    3838.89 13.92 13.92 13.92\n",
      "  63    3838.68 13.92 13.92 13.92\n",
      "  64    3838.60 13.92 13.92 13.92\n",
      "  65    3838.51 13.92 13.92 13.92\n",
      "  66    3838.33 13.92 13.92 13.92\n",
      "  67    3838.19 13.92 13.92 13.92\n",
      "  68    3838.15 13.92 13.92 13.92\n",
      "  69    3838.12 13.92 13.92 13.92\n",
      "  70    3838.06 13.92 13.92 13.92\n",
      "  71    3837.95 13.92 13.92 13.92\n",
      "  72    3837.83 13.92 13.92 13.92\n",
      "  73    3837.72 13.92 13.92 13.92\n",
      "  74    3837.62 13.92 13.92 13.92\n",
      "  75    3837.53 13.92 13.92 13.92\n",
      "  76    3837.47 13.92 13.92 13.92\n",
      "  77    3837.43 13.92 13.92 13.92\n",
      "  78    3837.38 13.92 13.92 13.92\n",
      "  79    3837.31 13.92 13.92 13.92\n",
      "  80    3837.25 13.92 13.92 13.92\n",
      "  81    3837.22 13.92 13.92 13.92\n",
      "  82    3837.20 13.92 13.92 13.92\n",
      "  83    3837.17 13.92 13.92 13.92\n",
      "  84    3837.14 13.92 13.92 13.92\n",
      "  85    3837.12 13.92 13.92 13.92\n",
      "  86    3837.09 13.92 13.92 13.92\n",
      "  87    3837.06 13.92 13.92 13.92\n",
      "  88    3837.02 13.92 13.92 13.92\n",
      "  89    3837.00 13.92 13.92 13.92\n",
      "  90    3836.98 13.92 13.92 13.92\n",
      "  91    3836.95 13.92 13.92 13.92\n",
      "  92    3836.93 13.92 13.92 13.92\n",
      "  93    3836.91 13.92 13.92 13.92\n",
      "  94    3836.90 13.92 13.92 13.92\n",
      "  95    3836.88 13.92 13.92 13.92\n",
      "  96    3836.86 13.92 13.92 13.92\n",
      "  97    3836.85 13.92 13.92 13.92\n",
      "  98    3836.83 13.92 13.92 13.92\n",
      "  99    3836.81 13.92 13.92 13.92\n"
     ]
    }
   ],
   "source": [
    "atoms_mol_1 = smiles_to_atoms(\"CCCC(CCC)CCC(=O)O\")\n",
    "atoms_mol_2 = smiles_to_atoms(\"c1ccc(C)cc1\")\n",
    "\n",
    "atoms_list = [atoms_mol_1] * 5 + [atoms_mol_2] * 3\n",
    "generator = LiquidGenerator(atoms_list, density=0.7)\n",
    "generator.fit(epochs=100, lr=0.1)\n",
    "\n",
    "atoms_mixture = generator.to_atoms()\n"
   ]
  },
  {
   "cell_type": "markdown",
   "id": "9a76f993",
   "metadata": {},
   "source": [
    "* view of the generated structure."
   ]
  },
  {
   "cell_type": "code",
   "execution_count": 5,
   "id": "d57d929d",
   "metadata": {},
   "outputs": [
    {
     "data": {
      "application/vnd.jupyter.widget-view+json": {
       "model_id": "40042a9755594611979f719e362187b4",
       "version_major": 2,
       "version_minor": 0
      },
      "text/plain": []
     },
     "metadata": {},
     "output_type": "display_data"
    },
    {
     "data": {
      "application/vnd.jupyter.widget-view+json": {
       "model_id": "e75f26e2afa2475ab081e147d3cfa8ba",
       "version_major": 2,
       "version_minor": 0
      },
      "text/plain": [
       "HBox(children=(NGLWidget(), VBox(children=(Dropdown(description='Show', options=('All', 'O', 'C', 'H'), value=…"
      ]
     },
     "metadata": {},
     "output_type": "display_data"
    }
   ],
   "source": [
    "from ase.visualize import view\n",
    "view(atoms_mixture, viewer=\"ngl\")"
   ]
  },
  {
   "cell_type": "markdown",
   "id": "1e86486f",
   "metadata": {},
   "source": [
    "## Example 2\n",
    "* Generate a liquid structure of ethylene carbonate (EC).\n",
    "* We can set the `wall=True` so that the generated structure can be directly stacked to the slab to make a liquid/solid structure."
   ]
  },
  {
   "cell_type": "code",
   "execution_count": 6,
   "id": "70dd57e7",
   "metadata": {},
   "outputs": [
    {
     "name": "stdout",
     "output_type": "stream",
     "text": [
      "step  score  cell_x  cell_y  cell_z\n",
      "   0   26000.95 22.17 19.20  9.00\n",
      "   1   14871.46 22.17 19.20  9.00\n",
      "   2   14921.08 22.17 19.20  9.00\n",
      "   3   14714.07 22.17 19.20  9.00\n",
      "   4   13724.31 22.17 19.20  9.00\n",
      "   5   13542.29 22.17 19.20  9.00\n",
      "   6   12946.75 22.17 19.20  9.00\n",
      "   7   12676.95 22.17 19.20  9.00\n",
      "   8   12621.05 22.17 19.20  9.00\n",
      "   9   12347.27 22.17 19.20  9.00\n",
      "  10   12347.55 22.17 19.20  9.00\n",
      "  11   11917.09 22.17 19.20  9.00\n",
      "  12   11808.87 22.17 19.20  9.00\n",
      "  13   11707.11 22.17 19.20  9.00\n",
      "  14   11373.92 22.17 19.20  9.00\n",
      "  15   11378.53 22.17 19.20  9.00\n",
      "  16   11296.46 22.17 19.20  9.00\n",
      "  17   11109.66 22.17 19.20  9.00\n",
      "  18   10927.98 22.17 19.20  9.00\n",
      "  19   10762.53 22.17 19.20  9.00\n",
      "  20   10765.41 22.17 19.20  9.00\n",
      "  21   10701.62 22.17 19.20  9.00\n",
      "  22   10562.56 22.17 19.20  9.00\n",
      "  23   10465.88 22.17 19.20  9.00\n",
      "  24   10396.75 22.17 19.20  9.00\n",
      "  25   10358.52 22.17 19.20  9.00\n",
      "  26   10295.70 22.17 19.20  9.00\n",
      "  27   10252.50 22.17 19.20  9.00\n",
      "  28   10212.16 22.17 19.20  9.00\n",
      "  29   10155.90 22.17 19.20  9.00\n",
      "  30   10107.90 22.17 19.20  9.00\n",
      "  31   10052.33 22.17 19.20  9.00\n",
      "  32   10004.21 22.17 19.20  9.00\n",
      "  33    9994.02 22.17 19.20  9.00\n",
      "  34    9959.44 22.17 19.20  9.00\n",
      "  35    9910.40 22.17 19.20  9.00\n",
      "  36    9888.13 22.17 19.20  9.00\n",
      "  37    9873.21 22.17 19.20  9.00\n",
      "  38    9854.45 22.17 19.20  9.00\n",
      "  39    9817.17 22.17 19.20  9.00\n",
      "  40    9789.30 22.17 19.20  9.00\n",
      "  41    9789.02 22.17 19.20  9.00\n",
      "  42    9769.96 22.17 19.20  9.00\n",
      "  43    9745.56 22.17 19.20  9.00\n",
      "  44    9729.56 22.17 19.20  9.00\n",
      "  45    9722.17 22.17 19.20  9.00\n",
      "  46    9712.62 22.17 19.20  9.00\n",
      "  47    9692.64 22.17 19.20  9.00\n",
      "  48    9684.34 22.17 19.20  9.00\n",
      "  49    9681.49 22.17 19.20  9.00\n"
     ]
    }
   ],
   "source": [
    "atoms_mol_ec = smiles_to_atoms(\"C1COC(=O)O1\")\n",
    "\n",
    "atoms_list = [atoms_mol_ec] * 50\n",
    "generator = LiquidGenerator(atoms_list, cell = [[22.17486865801013, 0.0, 0.0], [11.087434329005065, 19.203999583420114, 0.0], [0.0, 0.0, 9.0]], wall=True)\n",
    "generator.fit()\n",
    "\n",
    "atoms = generator.to_atoms()"
   ]
  },
  {
   "cell_type": "markdown",
   "id": "dd1ea4d1",
   "metadata": {},
   "source": [
    "* view of the generated structure."
   ]
  },
  {
   "cell_type": "code",
   "execution_count": 7,
   "id": "6384f56a",
   "metadata": {},
   "outputs": [
    {
     "data": {
      "application/vnd.jupyter.widget-view+json": {
       "model_id": "4757c36cd3aa4fc580d712454976d67f",
       "version_major": 2,
       "version_minor": 0
      },
      "text/plain": [
       "HBox(children=(NGLWidget(), VBox(children=(Dropdown(description='Show', options=('All', 'O', 'C', 'H'), value=…"
      ]
     },
     "metadata": {},
     "output_type": "display_data"
    }
   ],
   "source": [
    "from ase.visualize import view\n",
    "view(atoms, viewer=\"ngl\")"
   ]
  },
  {
   "cell_type": "markdown",
   "id": "cce8897c",
   "metadata": {},
   "source": [
    "* stack the EC to the Pt (111) slab."
   ]
  },
  {
   "cell_type": "code",
   "execution_count": 8,
   "id": "63b1bfda",
   "metadata": {},
   "outputs": [],
   "source": [
    "from ase.build import fcc111\n",
    "from ase.build.tools import stack\n",
    "\n",
    "slab = fcc111(\"Pt\", size=(8,8,5), vacuum=2.0)\n",
    "surface = stack(atoms, slab)"
   ]
  },
  {
   "cell_type": "markdown",
   "id": "24daab13",
   "metadata": {},
   "source": [
    "* view of the generated structure."
   ]
  },
  {
   "cell_type": "code",
   "execution_count": 9,
   "id": "a89765dd",
   "metadata": {},
   "outputs": [
    {
     "data": {
      "application/vnd.jupyter.widget-view+json": {
       "model_id": "78acbe59054b4d4780082614f275e339",
       "version_major": 2,
       "version_minor": 0
      },
      "text/plain": [
       "HBox(children=(NGLWidget(), VBox(children=(Dropdown(description='Show', options=('All', 'O', 'C', 'Pt', 'H'), …"
      ]
     },
     "metadata": {},
     "output_type": "display_data"
    }
   ],
   "source": [
    "view(surface, viewer=\"ngl\")"
   ]
  },
  {
   "cell_type": "markdown",
   "id": "9d60dece-aa47-4920-9711-2975ec83cc6e",
   "metadata": {},
   "source": [
    "## Relaxation after structure generation\n",
    "\n",
    "Once structure is geneated, it is common practice to further relax the structure before main simulation.<br/>\n",
    "Here, we proceed with 1. FIRE relaxation and 2. NPT relaxation.<br/>\n",
    "\n",
    "For 1. it is necessary to avoid big force in atoms, but we apply a loose force convergence (fmax=0.2) here. For 2., it is useful to let atoms align to specific orientation etc.\n",
    "\n",
    "### 1. FIRE relaxation\n",
    "\n",
    "Here we optimize both position and cell of atoms. <br/>\n",
    "`ExpCellFilter` is used to optimize cell, and `hydrostatic_strain=True` is used to keep cell length ratio."
   ]
  },
  {
   "cell_type": "code",
   "execution_count": null,
   "id": "c705c817-a91b-43cd-a8ec-2c6dfe11900f",
   "metadata": {},
   "outputs": [],
   "source": [
    "!pip install pfp-api-client"
   ]
  },
  {
   "cell_type": "code",
   "execution_count": 10,
   "id": "e4bb2edf-db0b-4123-b821-f2bc1b08f170",
   "metadata": {},
   "outputs": [
    {
     "name": "stdout",
     "output_type": "stream",
     "text": [
      "      Step     Time          Energy         fmax\n",
      "*Force-consistent energies used in optimization.\n",
      "FIRE:    0 06:22:38     -908.994592*      15.4019\n",
      "FIRE:    1 06:22:38     -876.603539*     260.0209\n",
      "FIRE:    2 06:22:38     -905.580940*     127.6730\n",
      "FIRE:    3 06:22:39     -899.513803*     161.9644\n",
      "FIRE:    4 06:22:39     -908.882040*      80.6560\n",
      "FIRE:    5 06:22:39     -910.409143*      59.5212\n",
      "FIRE:    6 06:22:40     -910.799287*      50.2485\n",
      "FIRE:    7 06:22:40     -911.350695*      33.3635\n",
      "FIRE:    8 06:22:40     -911.748572*      11.8129\n",
      "FIRE:    9 06:22:41     -911.788821*      10.5736\n",
      "FIRE:   10 06:22:41     -911.793758*      10.1856\n",
      "FIRE:   11 06:22:41     -911.803182*       9.4237\n",
      "FIRE:   12 06:22:42     -911.816199*       8.3159\n",
      "FIRE:   13 06:22:42     -911.831637*       6.9066\n",
      "FIRE:   14 06:22:42     -911.848246*       5.2557\n",
      "FIRE:   15 06:22:42     -911.864932*       3.4423\n",
      "FIRE:   16 06:22:43     -911.880891*       2.2492\n",
      "FIRE:   17 06:22:43     -911.897509*       2.2390\n",
      "FIRE:   18 06:22:43     -911.915132*       2.3993\n",
      "FIRE:   19 06:22:44     -911.935497*       4.0748\n",
      "FIRE:   20 06:22:44     -911.961271*       5.1955\n",
      "FIRE:   21 06:22:44     -911.995847*       5.4985\n",
      "FIRE:   22 06:22:45     -912.041506*       4.7755\n",
      "FIRE:   23 06:22:45     -912.097958*       2.9643\n",
      "FIRE:   24 06:22:45     -912.162292*       2.0382\n",
      "FIRE:   25 06:22:45     -912.232912*       2.3914\n",
      "FIRE:   26 06:22:46     -912.314943*       3.9666\n",
      "FIRE:   27 06:22:46     -912.416303*       3.4280\n",
      "FIRE:   28 06:22:46     -912.535421*       1.8236\n",
      "FIRE:   29 06:22:46     -912.663304*       2.8125\n",
      "FIRE:   30 06:22:47     -912.806898*       3.5993\n",
      "FIRE:   31 06:22:47     -912.969747*       1.6100\n",
      "FIRE:   32 06:22:47     -913.134703*       3.3122\n",
      "FIRE:   33 06:22:48     -913.312323*       1.4155\n",
      "FIRE:   34 06:22:48     -913.480673*       3.9321\n",
      "FIRE:   35 06:22:48     -913.650064*       1.1437\n",
      "FIRE:   36 06:22:48     -913.801622*       2.4662\n",
      "FIRE:   37 06:22:49     -913.932430*       5.5045\n",
      "FIRE:   38 06:22:49     -914.053586*       6.7200\n",
      "FIRE:   39 06:22:49     -914.168145*       8.3269\n",
      "FIRE:   40 06:22:49     -914.247119*      14.2524\n",
      "FIRE:   41 06:22:50     -914.338879*       1.8619\n",
      "FIRE:   42 06:22:50     -914.306284*      11.6851\n",
      "FIRE:   43 06:22:51     -914.330288*       9.0837\n",
      "FIRE:   44 06:22:51     -914.360026*       4.4862\n",
      "FIRE:   45 06:22:51     -914.374894*       0.9979\n",
      "FIRE:   46 06:22:51     -914.372949*       5.5251\n",
      "FIRE:   47 06:22:52     -914.374832*       5.2241\n",
      "FIRE:   48 06:22:52     -914.378225*       4.6388\n",
      "FIRE:   49 06:22:52     -914.382712*       3.8027\n",
      "FIRE:   50 06:22:53     -914.387596*       2.7667\n",
      "FIRE:   51 06:22:53     -914.392374*       1.6010\n",
      "FIRE:   52 06:22:53     -914.396705*       0.8292\n",
      "FIRE:   53 06:22:54     -914.400473*       0.8235\n",
      "FIRE:   54 06:22:54     -914.404464*       1.7495\n",
      "FIRE:   55 06:22:54     -914.409367*       2.5159\n",
      "FIRE:   56 06:22:54     -914.416139*       2.8715\n",
      "FIRE:   57 06:22:55     -914.425619*       2.6847\n",
      "FIRE:   58 06:22:55     -914.437918*       1.8838\n",
      "FIRE:   59 06:22:55     -914.452194*       0.7545\n",
      "FIRE:   60 06:22:55     -914.467509*       1.0068\n",
      "FIRE:   61 06:22:56     -914.484751*       2.0865\n",
      "FIRE:   62 06:22:56     -914.506357*       2.0826\n",
      "FIRE:   63 06:22:56     -914.532789*       0.7722\n",
      "FIRE:   64 06:22:56     -914.561206*       1.1859\n",
      "FIRE:   65 06:22:57     -914.592790*       1.9747\n",
      "FIRE:   66 06:22:57     -914.630144*       0.6897\n",
      "FIRE:   67 06:22:57     -914.668648*       1.7161\n",
      "FIRE:   68 06:22:57     -914.711782*       0.9728\n",
      "FIRE:   69 06:22:58     -914.755490*       2.0115\n",
      "FIRE:   70 06:22:58     -914.803461*       0.6201\n",
      "FIRE:   71 06:22:58     -914.851062*       2.1640\n",
      "FIRE:   72 06:22:58     -914.901960*       2.8499\n",
      "FIRE:   73 06:22:59     -914.958493*       2.5658\n",
      "FIRE:   74 06:22:59     -915.019706*       3.5330\n",
      "FIRE:   75 06:22:59     -915.074223*       7.5008\n",
      "FIRE:   76 06:23:00     -915.015091*      20.3307\n",
      "FIRE:   77 06:23:00     -915.180988*       2.2351\n",
      "FIRE:   78 06:23:00     -915.182758*       1.6115\n",
      "FIRE:   79 06:23:01     -915.185195*       0.5921\n",
      "FIRE:   80 06:23:01     -915.187451*       0.6251\n",
      "FIRE:   81 06:23:01     -915.189805*       1.4556\n",
      "FIRE:   82 06:23:01     -915.193203*       1.6733\n",
      "FIRE:   83 06:23:02     -915.197859*       1.2454\n",
      "FIRE:   84 06:23:02     -915.203144*       0.5672\n",
      "FIRE:   85 06:23:02     -915.208847*       0.6978\n",
      "FIRE:   86 06:23:03     -915.215589*       1.2560\n",
      "FIRE:   87 06:23:03     -915.224575*       0.8230\n",
      "FIRE:   88 06:23:03     -915.235011*       0.5352\n",
      "FIRE:   89 06:23:03     -915.246637*       1.1876\n",
      "FIRE:   90 06:23:04     -915.261121*       0.5100\n",
      "FIRE:   91 06:23:04     -915.276704*       1.1023\n",
      "FIRE:   92 06:23:04     -915.295211*       0.4771\n",
      "FIRE:   93 06:23:05     -915.315116*       1.2583\n",
      "FIRE:   94 06:23:05     -915.337766*       1.1485\n",
      "FIRE:   95 06:23:05     -915.363283*       0.7325\n",
      "FIRE:   96 06:23:06     -915.392118*       0.7610\n",
      "FIRE:   97 06:23:06     -915.424095*       2.0298\n",
      "FIRE:   98 06:23:06     -915.446763*       6.4299\n",
      "FIRE:   99 06:23:06     -915.464845*       0.3272\n",
      "FIRE:  100 06:23:07     -915.453934*       5.8111\n",
      "FIRE:  101 06:23:07     -915.460146*       4.3666\n",
      "FIRE:  102 06:23:08     -915.467030*       1.8451\n",
      "FIRE:  103 06:23:08     -915.468784*       1.0897\n",
      "FIRE:  104 06:23:08     -915.468895*       1.0219\n",
      "FIRE:  105 06:23:08     -915.469180*       0.8907\n",
      "FIRE:  106 06:23:09     -915.469456*       0.7050\n",
      "FIRE:  107 06:23:09     -915.469886*       0.4789\n",
      "FIRE:  108 06:23:09     -915.470269*       0.3283\n",
      "FIRE:  109 06:23:09     -915.470756*       0.3266\n",
      "FIRE:  110 06:23:10     -915.471158*       0.3250\n",
      "FIRE:  111 06:23:10     -915.471755*       0.4279\n",
      "FIRE:  112 06:23:10     -915.472492*       0.5524\n",
      "FIRE:  113 06:23:11     -915.473434*       0.5774\n",
      "FIRE:  114 06:23:11     -915.474638*       0.4774\n",
      "FIRE:  115 06:23:11     -915.476128*       0.3249\n",
      "FIRE:  116 06:23:11     -915.477898*       0.3270\n",
      "FIRE:  117 06:23:12     -915.479999*       0.3347\n",
      "FIRE:  118 06:23:12     -915.482621*       0.4415\n",
      "FIRE:  119 06:23:12     -915.485817*       0.3283\n",
      "FIRE:  120 06:23:13     -915.489685*       0.3254\n",
      "FIRE:  121 06:23:13     -915.494222*       0.3941\n",
      "FIRE:  122 06:23:13     -915.499763*       0.3233\n",
      "FIRE:  123 06:23:13     -915.506303*       0.3261\n",
      "FIRE:  124 06:23:14     -915.514005*       0.3321\n",
      "FIRE:  125 06:23:14     -915.523147*       0.3205\n",
      "FIRE:  126 06:23:14     -915.533840*       0.3176\n",
      "FIRE:  127 06:23:14     -915.546368*       0.4127\n",
      "FIRE:  128 06:23:15     -915.560983*       0.3391\n",
      "FIRE:  129 06:23:15     -915.578040*       0.3071\n",
      "FIRE:  130 06:23:16     -915.597857*       0.5310\n",
      "FIRE:  131 06:23:16     -915.619664*       1.7063\n",
      "FIRE:  132 06:23:16     -915.632687*       5.7959\n",
      "FIRE:  133 06:23:17     -915.646797*       0.2676\n",
      "FIRE:  134 06:23:17     -915.646951*       0.2671\n",
      "FIRE:  135 06:23:17     -915.647231*       0.2662\n",
      "FIRE:  136 06:23:18     -915.647624*       0.2651\n",
      "FIRE:  137 06:23:18     -915.648186*       0.2641\n",
      "FIRE:  138 06:23:18     -915.648896*       0.2632\n",
      "FIRE:  139 06:23:18     -915.649732*       0.2625\n",
      "FIRE:  140 06:23:19     -915.650662*       0.2620\n",
      "FIRE:  141 06:23:19     -915.651881*       0.2614\n",
      "FIRE:  142 06:23:19     -915.653378*       0.2603\n",
      "FIRE:  143 06:23:19     -915.655296*       0.2582\n",
      "FIRE:  144 06:23:20     -915.657646*       0.2551\n",
      "FIRE:  145 06:23:20     -915.660511*       0.2518\n",
      "FIRE:  146 06:23:20     -915.664066*       0.2488\n",
      "FIRE:  147 06:23:21     -915.668359*       0.2455\n",
      "FIRE:  148 06:23:21     -915.673560*       0.2403\n",
      "FIRE:  149 06:23:21     -915.679845*       0.2338\n",
      "FIRE:  150 06:23:22     -915.687361*       0.2285\n",
      "FIRE:  151 06:23:22     -915.696365*       0.2201\n",
      "FIRE:  152 06:23:22     -915.707019*       0.2126\n",
      "FIRE:  153 06:23:23     -915.719622*       0.2018\n",
      "FIRE:  154 06:23:23     -915.734196*       0.7244\n",
      "FIRE:  155 06:23:23     -915.745869*       3.5968\n",
      "FIRE:  156 06:23:24     -915.683465*      14.3997\n",
      "FIRE:  157 06:23:24     -915.759442*       4.9803\n",
      "FIRE:  158 06:23:24     -915.765212*       3.2900\n",
      "FIRE:  159 06:23:24     -915.769732*       0.4927\n",
      "FIRE:  160 06:23:25     -915.767907*       2.3583\n",
      "FIRE:  161 06:23:25     -915.768278*       2.1589\n",
      "FIRE:  162 06:23:25     -915.768969*       1.7770\n",
      "FIRE:  163 06:23:26     -915.769709*       1.2449\n",
      "FIRE:  164 06:23:26     -915.770285*       0.6102\n",
      "FIRE:  165 06:23:26     -915.770587*       0.1702\n"
     ]
    },
    {
     "data": {
      "text/plain": [
       "True"
      ]
     },
     "execution_count": 10,
     "metadata": {},
     "output_type": "execute_result"
    }
   ],
   "source": [
    "from ase.optimize import FIRE\n",
    "from ase.constraints import ExpCellFilter\n",
    "\n",
    "from pfp_api_client.pfp.calculators.ase_calculator import ASECalculator\n",
    "from pfp_api_client.pfp.estimator import Estimator\n",
    "\n",
    "atoms = atoms_mixture.copy()\n",
    "\n",
    "estimator = Estimator()\n",
    "calculator = ASECalculator(estimator)\n",
    "atoms.calc = calculator\n",
    "\n",
    "atoms_ecf = ExpCellFilter(atoms, hydrostatic_strain=True)\n",
    "opt = FIRE(atoms_ecf)\n",
    "opt.run(fmax=0.2)"
   ]
  },
  {
   "cell_type": "markdown",
   "id": "e5a67355-fab9-4298-a60f-be0c5cfce750",
   "metadata": {},
   "source": [
    "You can see cell length has changed, but its shape is kept cubic."
   ]
  },
  {
   "cell_type": "code",
   "execution_count": 11,
   "id": "998f843b-ebac-423d-bc2d-79ebf83bc05c",
   "metadata": {},
   "outputs": [
    {
     "name": "stdout",
     "output_type": "stream",
     "text": [
      "Before: Cell([13.923047065734863, 13.923047065734863, 13.923047065734863])\n",
      "After : Cell([14.132228031737046, 14.132228031737046, 14.132228031737046])\n"
     ]
    }
   ],
   "source": [
    "print(f\"Before: {atoms_mixture.cell}\")\n",
    "print(f\"After : {atoms.cell}\")"
   ]
  },
  {
   "cell_type": "code",
   "execution_count": 12,
   "id": "6dcceb2a-388c-457a-b6af-74a7538d2fb3",
   "metadata": {},
   "outputs": [
    {
     "data": {
      "application/vnd.jupyter.widget-view+json": {
       "model_id": "0edf1fb0cd204ba5b3860d794388722c",
       "version_major": 2,
       "version_minor": 0
      },
      "text/plain": [
       "HBox(children=(NGLWidget(), VBox(children=(Dropdown(description='Show', options=('All', 'O', 'C', 'H'), value=…"
      ]
     },
     "metadata": {},
     "output_type": "display_data"
    }
   ],
   "source": [
    "# View structure after relaxation\n",
    "from ase.visualize import view\n",
    "view(atoms, viewer=\"ngl\")"
   ]
  },
  {
   "cell_type": "markdown",
   "id": "0d4f9f1d-65b6-4c54-8183-8847806d5c98",
   "metadata": {},
   "source": [
    "### 2. NPT relaxation\n",
    "\n",
    "Please change `target_temp`, `target_pressure` and `steps` based on your problem.<br/>\n",
    "Run longer `steps` for more relaxation (this is demo so small value is used, but please increase this value in your real problem)."
   ]
  },
  {
   "cell_type": "code",
   "execution_count": 13,
   "id": "0ecac026-c4b5-471c-8852-0b5263e24fdb",
   "metadata": {},
   "outputs": [
    {
     "name": "stdout",
     "output_type": "stream",
     "text": [
      "Dyn  step:  10, E_tot: -906.718,  E_pot: -912.444,  density: 0.073,  T: 216.1K, elapsed_time: 1.37 sec\n",
      "Dyn  step:  20, E_tot: -900.497,  E_pot: -909.109,  density: 0.073,  T: 325.0K, elapsed_time: 2.61 sec\n",
      "Dyn  step:  30, E_tot: -897.640,  E_pot: -908.140,  density: 0.073,  T: 396.3K, elapsed_time: 3.94 sec\n",
      "Dyn  step:  40, E_tot: -903.022,  E_pot: -910.413,  density: 0.073,  T: 278.9K, elapsed_time: 5.14 sec\n",
      "Dyn  step:  50, E_tot: -906.466,  E_pot: -912.674,  density: 0.073,  T: 234.3K, elapsed_time: 6.61 sec\n",
      "Dyn  step:  60, E_tot: -906.439,  E_pot: -912.398,  density: 0.073,  T: 224.9K, elapsed_time: 8.01 sec\n",
      "Dyn  step:  70, E_tot: -902.962,  E_pot: -910.787,  density: 0.073,  T: 295.3K, elapsed_time: 9.36 sec\n",
      "Dyn  step:  80, E_tot: -898.511,  E_pot: -909.626,  density: 0.073,  T: 419.5K, elapsed_time: 10.67 sec\n",
      "Dyn  step:  90, E_tot: -899.581,  E_pot: -909.164,  density: 0.073,  T: 361.7K, elapsed_time: 11.70 sec\n",
      "Dyn  step: 100, E_tot: -903.858,  E_pot: -910.639,  density: 0.073,  T: 255.9K, elapsed_time: 12.89 sec\n"
     ]
    }
   ],
   "source": [
    "from ase.md.velocitydistribution import MaxwellBoltzmannDistribution, Stationary\n",
    "from ase.md.verlet import VelocityVerlet\n",
    "from ase.md.npt import NPT\n",
    "from ase.md.nptberendsen import NPTBerendsen\n",
    "from ase.md.nvtberendsen import NVTBerendsen\n",
    "from ase.io import Trajectory\n",
    "from ase import units\n",
    "\n",
    "from pfp_api_client.pfp.estimator import Estimator\n",
    "from pfp_api_client.pfp.calculators.ase_calculator import ASECalculator\n",
    "\n",
    "from time import perf_counter\n",
    "import numpy as np\n",
    "import os\n",
    "\n",
    "\n",
    "os.makedirs(\"output\", exist_ok=True)\n",
    "\n",
    "# --- parameters ----\n",
    "# Please change based on configuration\n",
    "target_temp = 300\n",
    "target_pressure = 101325 * units.Pascal\n",
    "steps = 100\n",
    "# ------------------\n",
    "\n",
    "MaxwellBoltzmannDistribution(\n",
    "    atoms,\n",
    "    temperature_K=target_temp\n",
    ")\n",
    "Stationary(atoms)\n",
    "dyn = NPT(\n",
    "    atoms,\n",
    "    1.0 * units.fs,\n",
    "    temperature_K=target_temp,\n",
    "    externalstress=target_pressure,\n",
    "    mask=np.eye(3),\n",
    "    ttime=10 * units.fs,\n",
    "    pfactor=100 * units.fs,\n",
    "    logfile=\"output/md.log\",\n",
    "    trajectory=\"output/md.traj\"\n",
    ")\n",
    "\n",
    "start_time = perf_counter()\n",
    "\n",
    "def print_dyn():\n",
    "    print(f\"Dyn  step: {dyn.get_number_of_steps(): >3}, E_tot: {atoms.get_total_energy():.3f}, \",\n",
    "          f\"E_pot: {atoms.get_potential_energy():.3f}, \",\n",
    "          f\"density: {atoms.get_global_number_of_atoms() / atoms.get_volume():.3f}, \",\n",
    "          f\"T: {atoms.get_temperature():.1f}K, elapsed_time: {perf_counter() - start_time:.2f} sec\")\n",
    "\n",
    "dyn.attach(print_dyn, interval=10)\n",
    "dyn.run(steps)"
   ]
  },
  {
   "cell_type": "code",
   "execution_count": 14,
   "id": "dbca9fe8-b515-42f3-9e98-91a98870137d",
   "metadata": {},
   "outputs": [
    {
     "data": {
      "application/vnd.jupyter.widget-view+json": {
       "model_id": "245fb68fe8ab45198f3d2941dd0dea36",
       "version_major": 2,
       "version_minor": 0
      },
      "text/plain": [
       "HBox(children=(NGLWidget(max_frame=99), VBox(children=(Dropdown(description='Show', options=('All', 'O', 'C', …"
      ]
     },
     "metadata": {},
     "output_type": "display_data"
    }
   ],
   "source": [
    "# View NPT relaxation\n",
    "from ase.io import Trajectory\n",
    "from ase.visualize import view\n",
    "\n",
    "traj = Trajectory(\"output/md.traj\")\n",
    "view(traj, viewer=\"ngl\")"
   ]
  },
  {
   "cell_type": "markdown",
   "id": "101a6b23-d876-484c-a0a6-4fadda3c0708",
   "metadata": {},
   "source": [
    "Plot potential temperature, energy and density.\n",
    "\n",
    "Please increase NPT `steps` if these values are not converged."
   ]
  },
  {
   "cell_type": "code",
   "execution_count": 15,
   "id": "c0dd7d46-c1d1-4c70-bd99-a7aeb8ee1e38",
   "metadata": {},
   "outputs": [
    {
     "data": {
      "image/png": "[encoded data removed]",
      "text/plain": [
       "<Figure size 720x720 with 4 Axes>"
      ]
     },
     "metadata": {
      "needs_background": "light"
     },
     "output_type": "display_data"
    }
   ],
   "source": [
    "import matplotlib.pyplot as plt\n",
    "\n",
    "volume_list = [atoms.get_volume() for atoms in traj]\n",
    "density_list = [atoms.get_global_number_of_atoms() / atoms.get_volume() for atoms in traj]\n",
    "energy_list = [atoms.get_potential_energy() for atoms in traj]\n",
    "temperature_list = [atoms.get_temperature() for atoms in traj]\n",
    "\n",
    "fig, axes = plt.subplots(4, 1, sharex=True, figsize=(10, 10))\n",
    "\n",
    "axes[0].plot(volume_list)\n",
    "axes[0].set_title(\"Volume history\")\n",
    "\n",
    "axes[1].plot(density_list)\n",
    "axes[1].set_title(\"Density history\")\n",
    "\n",
    "axes[2].plot(energy_list)\n",
    "axes[2].set_title(\"Energy history\")\n",
    "\n",
    "axes[3].plot(temperature_list)\n",
    "axes[3].set_title(\"Temperature history\")\n",
    "axes[3].set_xlabel(\"step\")\n",
    "\n",
    "fig.savefig(\"output/md_stats_history.png\")"
   ]
  }
 ],
 "metadata": {
  "kernelspec": {
   "display_name": "Python 3.7",
   "language": "python",
   "name": "python37"
  },
  "language_info": {
   "codemirror_mode": {
    "name": "ipython",
    "version": 3
   },
   "file_extension": ".py",
   "mimetype": "text/x-python",
   "name": "python",
   "nbconvert_exporter": "python",
   "pygments_lexer": "ipython3",
   "version": "3.7.10"
  }
 },
 "nbformat": 4,
 "nbformat_minor": 5
}
