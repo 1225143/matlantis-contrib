{
 "cells": [
  {
   "cell_type": "markdown",
   "id": "fbb893c4-ac3e-4377-8ac0-5d62ab61822c",
   "metadata": {
    "papermill": {
     "duration": 0.089484,
     "end_time": "2023-10-06T00:36:01.442934",
     "exception": false,
     "start_time": "2023-10-06T00:36:01.353450",
     "status": "completed"
    },
    "tags": []
   },
   "source": [
    "# Notebook for calculating the Stress-Strain Curve\n",
    "\n",
    "In this notebook, we will perform an MD simulation on a metal slab and resin model to derive the stress-strain curve."
   ]
  },
  {
   "cell_type": "markdown",
   "id": "252c8b85-0a41-4fd0-aaa9-02125b4783be",
   "metadata": {
    "papermill": {
     "duration": 0.079195,
     "end_time": "2023-10-06T00:36:01.594854",
     "exception": false,
     "start_time": "2023-10-06T00:36:01.515659",
     "status": "completed"
    },
    "tags": []
   },
   "source": [
    "## Initial Setup\n",
    "\n",
    "First, let's install the necessary packages:"
   ]
  },
  {
   "cell_type": "code",
   "execution_count": 1,
   "id": "2457f221-e0e9-4da1-ac49-988abde1d4b3",
   "metadata": {
    "papermill": {
     "duration": 0.181646,
     "end_time": "2023-10-06T00:36:01.853991",
     "exception": false,
     "start_time": "2023-10-06T00:36:01.672345",
     "status": "completed"
    },
    "tags": []
   },
   "outputs": [],
   "source": [
    "# ! pip install pfp-api-client\n",
    "# ! pip install matlantis-features"
   ]
  },
  {
   "cell_type": "markdown",
   "id": "19b32b83-4362-4928-a211-8f7829f6115c",
   "metadata": {
    "papermill": {
     "duration": 0.063019,
     "end_time": "2023-10-06T00:36:02.045744",
     "exception": false,
     "start_time": "2023-10-06T00:36:01.982725",
     "status": "completed"
    },
    "tags": []
   },
   "source": [
    "## 1. Import packages, define functions"
   ]
  },
  {
   "cell_type": "code",
   "execution_count": 2,
   "id": "98dbe031-3650-46af-8ca4-f35d70af97ea",
   "metadata": {
    "papermill": {
     "duration": 10.612785,
     "end_time": "2023-10-06T00:36:12.725946",
     "exception": false,
     "start_time": "2023-10-06T00:36:02.113161",
     "status": "completed"
    },
    "tags": []
   },
   "outputs": [
    {
     "data": {
      "application/vnd.jupyter.widget-view+json": {
       "model_id": "9bfca96fc2b647f3aaa1b6e83a77348c",
       "version_major": 2,
       "version_minor": 0
      },
      "text/plain": []
     },
     "metadata": {},
     "output_type": "display_data"
    }
   ],
   "source": [
    "import os\n",
    "import numpy as np\n",
    "import random\n",
    "import pathlib\n",
    "import matplotlib.pyplot as plt\n",
    "from scipy.spatial.transform import Rotation\n",
    "\n",
    "from ase import Atoms\n",
    "from ase import units\n",
    "from ase.io import read, write, Trajectory\n",
    "from ase.build import bulk, surface, sort\n",
    "from ase.units import Pascal\n",
    "from ase.visualize import view\n",
    "from ase.spacegroup.symmetrize import FixSymmetry\n",
    "from ase import neighborlist\n",
    "from ase.constraints import FixAtoms\n",
    "\n",
    "from rdkit import Chem\n",
    "from rdkit.Chem import AllChem\n",
    "\n",
    "from matlantis_features.utils.atoms_util import convert_atoms_to_upper\n",
    "from matlantis_features.atoms import MatlantisAtoms\n",
    "from matlantis_features.features.common.opt import LBFGSASEOptFeature, FireLBFGSASEOptFeature\n",
    "from matlantis_features.features.md import ASEMDSystem, LangevinIntegrator, MDFeature, MDExtensionBase, NPTIntegrator\n",
    "from matlantis_features.features.md.md_extensions import DeformScheduler\n",
    "from matlantis_features.utils.calculators import get_calculator, pfp_estimator_fn\n",
    "\n",
    "from pfp_api_client.pfp.estimator import Estimator, EstimatorCalcMode\n",
    "from pfp_api_client.pfp.calculators.ase_calculator import ASECalculator\n",
    "estimator_fn = pfp_estimator_fn(model_version='v5.0.0', calc_mode='crystal_u0_plus_d3')\n",
    "\n",
    "from pfcc_extras.visualize.view import view_ngl\n",
    "from pfcc_extras.structure.ase_rdkit_converter import smiles_to_atoms\n",
    "from pfcc_extras.structure.surface import makesurface\n",
    "\n",
    "def density(atoms):\n",
    "    vol = atoms.get_cell().volume *(1e-8)**3   # as cm3\n",
    "    wt = sum(atoms.get_masses())    # as g/mol\n",
    "    dens = wt / units.mol / vol\n",
    "    return(dens)\n",
    "\n",
    "class PrintCellShape(MDExtensionBase):\n",
    "    def __init__(self, cell_log=None):\n",
    "        self.cell_log = cell_log\n",
    "    def __call__(self, system, integrator) -> None:\n",
    "        cell_par = system.ase_atoms.get_cell_lengths_and_angles()\n",
    "        istep = system.current_total_step\n",
    "        print(f\"Dyn step {istep:4d} a {cell_par[0]:3.2f} b {cell_par[1]:3.2f} c {cell_par[2]:3.2f} alpha {cell_par[3]:3.2f} beta {cell_par[4]:3.2f} gamma {cell_par[5]:3.2f} \")\n",
    "        if self.cell_log is not None:\n",
    "            self.cell_log.append(cell_par)\n",
    "            \n",
    "try:\n",
    "    dir_path = pathlib.Path(__file__).parent\n",
    "except:\n",
    "    dir_path = pathlib.Path(\"\").resolve()\n",
    "    \n",
    "input_dir = dir_path / \"input\"\n",
    "output_dir = dir_path / \"output\""
   ]
  },
  {
   "cell_type": "markdown",
   "id": "ba954b22-9f83-4930-8a6b-2cb466ddcca3",
   "metadata": {
    "papermill": {
     "duration": 0.071597,
     "end_time": "2023-10-06T00:36:12.874740",
     "exception": false,
     "start_time": "2023-10-06T00:36:12.803143",
     "status": "completed"
    },
    "tags": []
   },
   "source": [
    "## 2. Model Preparation\n",
    "\n",
    "Create a metal slab model sandwiched between vacuum layers, with a resin inserted in between. By compressing the model along the z-axis, we can achieve the desired initial structure."
   ]
  },
  {
   "cell_type": "markdown",
   "id": "90f952a3-eeea-4e64-b4bb-1185a3a9dcec",
   "metadata": {
    "papermill": {
     "duration": 0.08168,
     "end_time": "2023-10-06T00:36:13.059015",
     "exception": false,
     "start_time": "2023-10-06T00:36:12.977335",
     "status": "completed"
    },
    "tags": []
   },
   "source": [
    "### 2-1. File Paths for I/O"
   ]
  },
  {
   "cell_type": "code",
   "execution_count": 3,
   "id": "d81ac3bd-641f-4dec-adc5-7c4caf7c85b0",
   "metadata": {
    "tags": []
   },
   "outputs": [],
   "source": [
    "# input file\n",
    "# resin\n",
    "resin_path = input_dir / \"PEO.xyz\"\n",
    "\n",
    "# output file\n",
    "# metal slab\n",
    "metal_opt_path = output_dir / \"model\" / \"slab_Fe.xyz\"\n",
    "# relaxed resin\n",
    "resin_opt_path = output_dir / \"model\" / \"resin_opt.xyz\"\n",
    "# metal slab and resin\n",
    "slab_opt_path = output_dir / \"model\" / \"slab.xyz\"\n",
    "# trajectory for high-T, compressing NPT simulation\n",
    "npt1_path = output_dir / \"md\" / \"npt1.traj\"\n",
    "# trajectory for room temperature NPT simulation\n",
    "npt2_path = output_dir / \"md\" / \"npt2.traj\"\n",
    "# tensile simulation\n",
    "tensile_path = output_dir / \"md\" / \"tensile.traj\"\n",
    "# figure of sscurve\n",
    "ss_path = output_dir / \"figure\" / \"ss.png\"\n",
    "\n",
    "# make directories\n",
    "os.makedirs(output_dir / \"model\", exist_ok = True)\n",
    "os.makedirs(output_dir / \"md\", exist_ok = True)\n",
    "os.makedirs(output_dir / \"figure\", exist_ok = True)"
   ]
  },
  {
   "cell_type": "markdown",
   "id": "e1fc952a-44fb-4525-ae27-3fd2b1bcb3ac",
   "metadata": {
    "tags": []
   },
   "source": [
    "### 2-2. Generate Metal Slab Model with Vacuum Layer"
   ]
  },
  {
   "cell_type": "code",
   "execution_count": 4,
   "id": "972a45da-bc5d-40e4-bead-a46e0b4b987b",
   "metadata": {
    "tags": []
   },
   "outputs": [
    {
     "name": "stdout",
     "output_type": "stream",
     "text": [
      "Relaxation of bulk structure\n"
     ]
    },
    {
     "data": {
      "application/vnd.jupyter.widget-view+json": {
       "model_id": "64177b721028449091b82423038406b5",
       "version_major": 2,
       "version_minor": 0
      },
      "text/plain": [
       "  0%|          | 0/10001 [00:00<?, ?it/s]"
      ]
     },
     "metadata": {},
     "output_type": "display_data"
    }
   ],
   "source": [
    "# relax of the bulk structure\n",
    "print(\"Relaxation of bulk structure\")\n",
    "blk = bulk(\"Fe\", \"bcc\")\n",
    "blk.set_constraint([FixSymmetry(blk)])\n",
    "opt = LBFGSASEOptFeature(n_run = 10000, fmax = 0.01, filter=True,\n",
    "                         show_progress_bar=True, estimator_fn = estimator_fn)\n",
    "result_opt = opt(blk)\n",
    "\n",
    "# generate a slab model with a vacuum layer\n",
    "vacuum = 500\n",
    "slab = result_opt.atoms.ase_atoms.copy()\n",
    "slab.set_constraint([])\n",
    "# slab.set_constraint()\n",
    "slab = makesurface(slab, miller_indices=(1,0,0), layers=10, rep=[8,8,1], vacuum=vacuum)"
   ]
  },
  {
   "cell_type": "code",
   "execution_count": 5,
   "id": "beec0292-ea35-4b34-a618-61ee1495ddf4",
   "metadata": {
    "tags": []
   },
   "outputs": [
    {
     "name": "stdout",
     "output_type": "stream",
     "text": [
      "Relaxation of surface structure\n"
     ]
    },
    {
     "data": {
      "application/vnd.jupyter.widget-view+json": {
       "model_id": "683c1df4c0e244bd8e8c9b5ff1863b61",
       "version_major": 2,
       "version_minor": 0
      },
      "text/plain": [
       "  0%|          | 0/10001 [00:00<?, ?it/s]"
      ]
     },
     "metadata": {},
     "output_type": "display_data"
    },
    {
     "data": {
      "application/vnd.jupyter.widget-view+json": {
       "model_id": "25423cb1b907476fadd09b411b7c5703",
       "version_major": 2,
       "version_minor": 0
      },
      "text/plain": [
       "HBox(children=(NGLWidget(), VBox(children=(Dropdown(description='Show', options=('All', 'Fe'), value='All'), D…"
      ]
     },
     "metadata": {},
     "output_type": "display_data"
    }
   ],
   "source": [
    "# shift by the half width of layers\n",
    "atoms = slab.copy()\n",
    "# Sort atoms by their z-coordinate\n",
    "z_coordinates = [atom.position[2] for atom in atoms]\n",
    "unique_layers = np.unique(np.round(z_coordinates, decimals=3))\n",
    "layer_z_value = unique_layers[int(len(unique_layers) / 2)]\n",
    "atoms_in_layer = [atom for atom in slab if np.round(atom.position[2], decimals=3) == layer_z_value]\n",
    "z_coor = atoms_in_layer[0].position[2]\n",
    "slab_2 = slab.copy()\n",
    "slab_2.positions += [0,0,-z_coor]\n",
    "slab_2.wrap()\n",
    "\n",
    "# relaxation of surface structure\n",
    "print(\"Relaxation of surface structure\")\n",
    "indices = [atom.index for atom in slab_2 if atom.position[2] <= 3]  # fix below 3A\n",
    "slab_2.set_constraint(FixAtoms(indices))\n",
    "result_opt_2 = opt(slab_2)\n",
    "os.makedirs(\"output\", exist_ok=True)\n",
    "write(metal_opt_path, result_opt_2.atoms.ase_atoms, format='extxyz')\n",
    "\n",
    "# visualization\n",
    "v = view_ngl(result_opt_2.atoms.ase_atoms, representations=[\"ball+stick\"])\n",
    "v.view.control.spin([1,0,0], np.deg2rad(-90))\n",
    "display(v)"
   ]
  },
  {
   "cell_type": "markdown",
   "id": "46154a9e-50cc-4dfe-922b-5a3f6f59e733",
   "metadata": {
    "papermill": {
     "duration": 0.06948,
     "end_time": "2023-10-06T00:36:13.362966",
     "exception": false,
     "start_time": "2023-10-06T00:36:13.293486",
     "status": "completed"
    },
    "tags": []
   },
   "source": [
    "### 2-3. Insert Resin"
   ]
  },
  {
   "cell_type": "code",
   "execution_count": 6,
   "id": "e3701618-fa90-4fe3-bfd2-0fdc4ba8aa4a",
   "metadata": {
    "tags": []
   },
   "outputs": [
    {
     "name": "stdout",
     "output_type": "stream",
     "text": [
      "Relaxation of resin\n"
     ]
    },
    {
     "data": {
      "application/vnd.jupyter.widget-view+json": {
       "model_id": "fc550611a7b140bcb026634f6d2d3b9c",
       "version_major": 2,
       "version_minor": 0
      },
      "text/plain": [
       "  0%|          | 0/10001 [00:00<?, ?it/s]"
      ]
     },
     "metadata": {},
     "output_type": "display_data"
    },
    {
     "data": {
      "application/vnd.jupyter.widget-view+json": {
       "model_id": "5f9c0591167844eeaf410a3803749f32",
       "version_major": 2,
       "version_minor": 0
      },
      "text/plain": [
       "HBox(children=(NGLWidget(), VBox(children=(Dropdown(description='Show', options=('All', 'H', 'O', 'C'), value=…"
      ]
     },
     "execution_count": 6,
     "metadata": {},
     "output_type": "execute_result"
    }
   ],
   "source": [
    "atoms_organic = read(resin_path)\n",
    "\n",
    "print(\"Relaxation of resin\")\n",
    "opt = LBFGSASEOptFeature(n_run = 10000, fmax = 0.01, filter=False,\n",
    "                         show_progress_bar=True, estimator_fn = estimator_fn)\n",
    "result_opt_organic = opt(atoms_organic)\n",
    "write(resin_opt_path, result_opt_organic.atoms.ase_atoms, format='xyz')\n",
    "\n",
    "view_ngl(result_opt_organic.atoms.ase_atoms)"
   ]
  },
  {
   "cell_type": "code",
   "execution_count": 7,
   "id": "5b25c358-632b-47bb-94a3-4e6e2c24d27d",
   "metadata": {
    "papermill": {
     "duration": 0.111128,
     "end_time": "2023-10-06T00:36:13.545975",
     "exception": false,
     "start_time": "2023-10-06T00:36:13.434847",
     "status": "completed"
    },
    "tags": []
   },
   "outputs": [
    {
     "name": "stdout",
     "output_type": "stream",
     "text": [
      "liquid phase initial density = 0.093 g/cm3\n",
      "slab + resin atoms = 2336\n",
      "No_of_atoms = 852 , including slab 640 atoms\n",
      "No_of_atoms = 1064 , including slab 640 atoms\n",
      "No_of_atoms = 1276 , including slab 640 atoms\n",
      "No_of_atoms = 1488 , including slab 640 atoms\n",
      "No_of_atoms = 1700 , including slab 640 atoms\n",
      "No_of_atoms = 1912 , including slab 640 atoms\n",
      "No_of_atoms = 2124 , including slab 640 atoms\n",
      "No_of_atoms = 2336 , including slab 640 atoms\n"
     ]
    }
   ],
   "source": [
    "# generate a vacuum cell same with the vacuum laer\n",
    "empty_cell = slab_2.copy()\n",
    "slab_height = empty_cell.cell.cellpar()[2] - vacuum\n",
    "slabatoms = len(empty_cell)\n",
    "cellsize = empty_cell.cell.cellpar()[:3]\n",
    "cellsize[2] = vacuum\n",
    "\n",
    "vacuum_cell = Atoms(symbols=\"\", \n",
    "                  pbc=True, \n",
    "                  cell=cellsize)\n",
    "\n",
    "NoAtoms0=len(atoms_organic)\n",
    "\n",
    "# confirm the density and number of atoms packing molecule\n",
    "target_density = 0.10 # unit = g/cm3\n",
    "sum_mass = atoms_organic.get_masses().sum()\n",
    "sum_atoms = len(atoms_organic)\n",
    "vac_vol = vacuum_cell.get_volume()*(1e-8)**3 # as cm3\n",
    "d0 = sum_mass / units.mol / vac_vol # density estimation packing molecules\n",
    "mlp = int(np.floor(target_density / d0)) # estimate how many molecules are packed\n",
    "t_atoms = NoAtoms0 * mlp + slabatoms\n",
    "print (\"liquid phase initial density =\", np.round(d0*mlp, 3), \"g/cm3\")\n",
    "print (\"slab + resin atoms =\", t_atoms)\n",
    "\n",
    "# fill resin in the vacuum layer\n",
    "target_atoms = t_atoms    \n",
    "vac_vol = empty_cell.get_volume()*(1e-8)**3 # as cm3\n",
    "\n",
    "filled_cell = empty_cell.copy()\n",
    "No_atoms, n = 0, 0\n",
    "while No_atoms < target_atoms:\n",
    "    # determine the posiiton of inserted molecule randomly\n",
    "    ranx = random.uniform(0,1)\n",
    "    rany = random.uniform(0,1)\n",
    "    ranz = random.uniform(0.04,0.96)                           # remove the range of slab\n",
    "    xyz_position=np.matmul([ranx,rany,ranz], filled_cell.cell)\n",
    "    # determine the rotational angle of molecule\n",
    "    phi, theta, psi = Rotation.random().as_euler('zxz', degrees=True)\n",
    "    \n",
    "    # translation and rotation of molecule\n",
    "    # molNo = n\n",
    "    # m = mol_list[molNo]\n",
    "    m = result_opt_organic.atoms.ase_atoms\n",
    "    m1 = m.copy()\n",
    "    m1.euler_rotate(phi=phi, theta=theta, psi=psi)\n",
    "    m1.positions += xyz_position\n",
    "    \n",
    "    # insert molecule if the maximum force is below a threathold\n",
    "    Fcheck = filled_cell + m1\n",
    "    Fcheck.calc = get_calculator(estimator_fn)\n",
    "    if (np.sum(Fcheck.get_forces()**2, axis=1)**0.5).max() <= 100:\n",
    "        filled_cell = filled_cell + m1\n",
    "        n+=1\n",
    "        No_atoms = len(filled_cell)\n",
    "        print(\"No_of_atoms =\", No_atoms, \", including slab\", len(empty_cell), \"atoms\")    \n",
    "    else:\n",
    "        n+=0\n",
    "\n",
    "assert mlp == n"
   ]
  },
  {
   "cell_type": "code",
   "execution_count": 8,
   "id": "d0a5b496-3188-4e96-9b31-5477427c01f9",
   "metadata": {
    "tags": []
   },
   "outputs": [
    {
     "data": {
      "application/vnd.jupyter.widget-view+json": {
       "model_id": "7bda96a9d9a94b09b639a0612d8f6275",
       "version_major": 2,
       "version_minor": 0
      },
      "text/plain": [
       "  0%|          | 0/10001 [00:00<?, ?it/s]"
      ]
     },
     "metadata": {},
     "output_type": "display_data"
    },
    {
     "name": "stderr",
     "output_type": "stream",
     "text": [
      "/home/jovyan/.py38/lib/python3.8/site-packages/ase/io/extxyz.py:1000: UserWarning: write_xyz() overwriting array \"forces\" present in atoms.arrays with stored results from calculator\n",
      "  warnings.warn('write_xyz() overwriting array \"{0}\" present '\n"
     ]
    },
    {
     "data": {
      "application/vnd.jupyter.widget-view+json": {
       "model_id": "0b68d885ef8b46cea8502b6b4c9d4aec",
       "version_major": 2,
       "version_minor": 0
      },
      "text/plain": [
       "HBox(children=(NGLWidget(), VBox(children=(Dropdown(description='Show', options=('All', 'C', 'H', 'O', 'Fe'), …"
      ]
     },
     "metadata": {},
     "output_type": "display_data"
    }
   ],
   "source": [
    "# optimize the filled structure\n",
    "indices = [atom.index for atom in filled_cell if atom.position[2] <= 3.0]\n",
    "c = FixAtoms(indices)\n",
    "filled_cell.set_constraint(c)\n",
    "\n",
    "opt = LBFGSASEOptFeature(n_run = 10000, fmax = 0.1, filter=True,\n",
    "                         show_progress_bar=True, estimator_fn = estimator_fn)\n",
    "result_opt_filled = opt(filled_cell)\n",
    "\n",
    "# save the optimized structure\n",
    "result_opt_filled.atoms.ase_atoms.set_initial_charges()\n",
    "write(slab_opt_path, result_opt_filled.atoms.ase_atoms, format='extxyz')\n",
    "\n",
    "# visualization\n",
    "v = view_ngl(result_opt_filled.atoms.ase_atoms, representations=[\"ball+stick\"])\n",
    "v.view.control.spin([1,0,0], np.deg2rad(-90))\n",
    "display(v)"
   ]
  },
  {
   "cell_type": "markdown",
   "id": "d2504eab-a424-43dd-93a6-f54d7529db86",
   "metadata": {
    "papermill": {
     "duration": 0.070666,
     "end_time": "2023-10-06T00:36:13.885383",
     "exception": false,
     "start_time": "2023-10-06T00:36:13.814717",
     "status": "completed"
    },
    "tags": []
   },
   "source": [
    "### 2-4. Compression Along the Z-Axis"
   ]
  },
  {
   "cell_type": "code",
   "execution_count": null,
   "id": "0a772a28-d289-48ad-b521-8c8e40d1efa8",
   "metadata": {
    "papermill": {
     "duration": 35231.267257,
     "end_time": "2023-10-06T10:23:25.227464",
     "exception": false,
     "start_time": "2023-10-06T00:36:13.960207",
     "status": "completed"
    },
    "tags": []
   },
   "outputs": [
    {
     "name": "stderr",
     "output_type": "stream",
     "text": [
      "The MD trajectory will be saved at /home/jovyan/work/2023/sscurve/contrib/output_en/md/npt1.traj.\n",
      "Note: The max disk size of /home/jovyan is about 99G.\n",
      "WARNING: NPT: Setting the center-of-mass momentum to zero (was 70.5044 -20.214 31.869)\n",
      "/home/jovyan/.py38/lib/python3.8/site-packages/ase/utils/__init__.py:62: FutureWarning: Please use atoms.cell.cellpar() instead\n",
      "  warnings.warn(warning)\n"
     ]
    },
    {
     "name": "stdout",
     "output_type": "stream",
     "text": [
      "Dyn step    0 a 19.45 b 19.45 c 517.89 alpha 90.00 beta 90.00 gamma 109.49 \n",
      "Dyn step 1000 a 19.45 b 19.45 c 506.59 alpha 90.00 beta 90.00 gamma 109.49 \n",
      "Dyn step 2000 a 19.45 b 19.45 c 473.00 alpha 90.00 beta 90.00 gamma 109.49 \n",
      "Dyn step 3000 a 19.45 b 19.45 c 423.41 alpha 90.00 beta 90.00 gamma 109.49 \n",
      "Dyn step 4000 a 19.45 b 19.45 c 365.13 alpha 90.00 beta 90.00 gamma 109.49 \n",
      "Dyn step 5000 a 19.45 b 19.45 c 305.13 alpha 90.00 beta 90.00 gamma 109.49 \n",
      "Dyn step 6000 a 19.45 b 19.45 c 248.63 alpha 90.00 beta 90.00 gamma 109.49 \n",
      "Dyn step 7000 a 19.45 b 19.45 c 198.45 alpha 90.00 beta 90.00 gamma 109.49 \n",
      "Dyn step 8000 a 19.45 b 19.45 c 156.26 alpha 90.00 beta 90.00 gamma 109.49 \n",
      "Dyn step 9000 a 19.45 b 19.45 c 122.12 alpha 90.00 beta 90.00 gamma 109.49 \n",
      "Dyn step 10000 a 19.45 b 19.45 c 96.55 alpha 90.00 beta 90.00 gamma 109.49 \n",
      "Dyn step 11000 a 19.45 b 19.45 c 80.15 alpha 90.00 beta 90.00 gamma 109.49 \n",
      "Dyn step 12000 a 19.45 b 19.45 c 69.31 alpha 90.00 beta 90.00 gamma 109.49 \n",
      "Dyn step 13000 a 19.45 b 19.45 c 63.86 alpha 90.00 beta 90.00 gamma 109.49 \n"
     ]
    }
   ],
   "source": [
    "ase_atoms =read(slab_opt_path)\n",
    "indices = [atom.index for atom in ase_atoms if atom.position[2] <= 3]\n",
    "c = FixAtoms(indices)\n",
    "ase_atoms.set_constraint(c)\n",
    "\n",
    "atoms = MatlantisAtoms.from_ase_atoms(ase_atoms)\n",
    "atoms.rotate_atoms_to_upper()\n",
    "\n",
    "# NPT\n",
    "t_step = 1     # as fs\n",
    "press = 0.000101325 * 1000 # as GPa 1000times larger than atomspheric pressure\n",
    "temperature = 473.0\n",
    "\n",
    "system = ASEMDSystem(atoms)\n",
    "system.init_temperature(temperature)\n",
    "\n",
    "integrator = NPTIntegrator(timestep=t_step,\n",
    "                           temperature=temperature,\n",
    "                           pressure=press * units.GPa,\n",
    "                           ttime=20*units.fs,\n",
    "                           pfactor=2e6*units.GPa*(units.fs**2),\n",
    "                           mask=np.array([[0,0,0], [0,0,0], [0,0,1]]))\n",
    "\n",
    "info = PrintCellShape()\n",
    "\n",
    "md = MDFeature(integrator, n_run=75000, traj_file_name=npt1_path,\n",
    "               traj_freq=100, estimator_fn = estimator_fn)\n",
    "\n",
    "md(system, extensions=[(info, 1000)])"
   ]
  },
  {
   "cell_type": "code",
   "execution_count": null,
   "id": "f9f0965c-b357-44c5-871a-878ed512796f",
   "metadata": {
    "papermill": {
     "duration": 0.137129,
     "end_time": "2023-10-06T10:23:25.523847",
     "exception": false,
     "start_time": "2023-10-06T10:23:25.386718",
     "status": "completed"
    },
    "tags": []
   },
   "outputs": [],
   "source": [
    "# check the change of the length of c-axis and final structure \n",
    "traj = read(npt1_path, \"::1\")\n",
    "\n",
    "c_length = [atoms.cell.cellpar()[2] for atoms in traj]\n",
    "plt.plot(c_length)\n",
    "plt.ylabel(\"c-axis (Å)\")\n",
    "plt.xlabel(\"MD steps (×100)\")\n",
    "plt.show()\n",
    "\n",
    "v = view_ngl(traj[-1], representations=[\"ball+stick\"])\n",
    "v.view.control.spin([1,0,0], np.deg2rad(-90))\n",
    "display(v)"
   ]
  },
  {
   "cell_type": "markdown",
   "id": "9f478f57-835f-4804-b4a2-9401b6e13081",
   "metadata": {
    "papermill": {
     "duration": 0.165059,
     "end_time": "2023-10-06T10:23:25.849552",
     "exception": false,
     "start_time": "2023-10-06T10:23:25.684493",
     "status": "completed"
    },
    "tags": []
   },
   "source": [
    "## 3. Equilibration at Room Temperature"
   ]
  },
  {
   "cell_type": "code",
   "execution_count": null,
   "id": "050c5f9d-6dea-4559-bc78-fc45b42b1af1",
   "metadata": {
    "papermill": {
     "duration": 19725.456615,
     "end_time": "2023-10-06T15:52:11.442237",
     "exception": false,
     "start_time": "2023-10-06T10:23:25.985622",
     "status": "completed"
    },
    "scrolled": true,
    "tags": []
   },
   "outputs": [],
   "source": [
    "ase_atoms = read(npt1_path, \"-1\")\n",
    "atoms = MatlantisAtoms.from_ase_atoms(ase_atoms)\n",
    "atoms.rotate_atoms_to_upper()\n",
    "\n",
    "# NPT\n",
    "t_step = 1     # as fs\n",
    "temperature = 300.0\n",
    "\n",
    "system = ASEMDSystem(atoms)\n",
    "system.init_temperature(temperature)\n",
    "\n",
    "integrator = NPTIntegrator(timestep=1.0,\n",
    "                           temperature=temperature,\n",
    "                           pressure=units.bar,\n",
    "                           ttime=20*units.fs,\n",
    "                           pfactor=2e6*units.GPa*(units.fs**2),\n",
    "                           mask=np.array([[0,0,0], [0,0,0], [0,0,1]]))\n",
    "\n",
    "info = PrintCellShape()\n",
    "\n",
    "md = MDFeature(integrator, n_run=50000, traj_file_name=npt2_path,\n",
    "               traj_freq=100, estimator_fn = estimator_fn)\n",
    "md(system, extensions=[(info, 1000)])"
   ]
  },
  {
   "cell_type": "markdown",
   "id": "67333203-8340-4160-9a87-bf08b80c8548",
   "metadata": {
    "papermill": {
     "duration": 0.150492,
     "end_time": "2023-10-06T15:52:11.729354",
     "exception": false,
     "start_time": "2023-10-06T15:52:11.578862",
     "status": "completed"
    },
    "tags": []
   },
   "source": [
    "## 4. Tensile Simulation"
   ]
  },
  {
   "cell_type": "code",
   "execution_count": null,
   "id": "fcf41f57-be1a-48e2-a583-155bcaf1f508",
   "metadata": {
    "papermill": {
     "duration": 32781.082997,
     "end_time": "2023-10-07T00:58:32.934426",
     "exception": false,
     "start_time": "2023-10-06T15:52:11.851429",
     "status": "completed"
    },
    "tags": []
   },
   "outputs": [],
   "source": [
    "ase_atoms = read(npt2_path, \"-1\")\n",
    "atoms = MatlantisAtoms.from_ase_atoms(ase_atoms)\n",
    "atoms.rotate_atoms_to_upper()\n",
    "\n",
    "system = ASEMDSystem(atoms)\n",
    "system.init_temperature(temperature)\n",
    "\n",
    "# extend the unit cell by 150% along with z-axis\n",
    "latt = np.array(system.ase_atoms.cell)\n",
    "latt[2,2] = latt[2,2]*1.5\n",
    "\n",
    "# 引っ張り計算。\n",
    "integrator = LangevinIntegrator(timestep=1.0, temperature=300.0)\n",
    "\n",
    "info = PrintCellShape()\n",
    "deform = DeformScheduler(latt, 50000)\n",
    "\n",
    "md = MDFeature(integrator, n_run=50000, traj_file_name=tensile_path,\n",
    "               traj_freq=100, estimator_fn = estimator_fn)\n",
    "md(system, extensions=[(info, 1000), (deform, 1)])"
   ]
  },
  {
   "cell_type": "markdown",
   "id": "cc09ba70-be27-4d0b-99cc-40acd70b648c",
   "metadata": {
    "papermill": {
     "duration": 0.273296,
     "end_time": "2023-10-07T00:58:33.444316",
     "exception": false,
     "start_time": "2023-10-07T00:58:33.171020",
     "status": "completed"
    },
    "tags": []
   },
   "source": [
    "## 5. Plotting the Stress-Strain Curve"
   ]
  },
  {
   "cell_type": "code",
   "execution_count": null,
   "id": "b4c0acf3-ecb4-4f28-a6c8-1327461a8608",
   "metadata": {
    "papermill": {
     "duration": 1.450727,
     "end_time": "2023-10-07T00:58:35.137254",
     "exception": false,
     "start_time": "2023-10-07T00:58:33.686527",
     "status": "completed"
    },
    "tags": []
   },
   "outputs": [],
   "source": [
    "traj = Trajectory(tensile_path)\n",
    "\n",
    "stress = []\n",
    "zlen = []\n",
    "for i in traj:\n",
    "    stress.append(i.get_stress()[2])\n",
    "    zlen.append(i.cell.cellpar()[2])\n",
    "zlen = np.array(zlen)\n",
    "strain = (zlen-zlen[0])/zlen[0]\n",
    "\n",
    "os.makedirs(\"output/figure\", exist_ok = True)\n",
    "\n",
    "plt.scatter(strain,np.array(stress)/Pascal/10e6)\n",
    "plt.xlabel(\"strain\")\n",
    "plt.ylabel(\"stress [MPa]\")\n",
    "plt.grid(True)\n",
    "plt.savefig(ss_path)"
   ]
  }
 ],
 "metadata": {
  "kernelspec": {
   "display_name": "Python 3.8",
   "language": "python",
   "name": "python38"
  },
  "language_info": {
   "codemirror_mode": {
    "name": "ipython",
    "version": 3
   },
   "file_extension": ".py",
   "mimetype": "text/x-python",
   "name": "python",
   "nbconvert_exporter": "python",
   "pygments_lexer": "ipython3",
   "version": "3.8.13"
  },
  "papermill": {
   "default_parameters": {},
   "duration": 87758.575812,
   "end_time": "2023-10-07T00:58:38.264273",
   "environment_variables": {},
   "exception": null,
   "input_path": "/home/jovyan/.local/share/matlantis/jobs/mtl_bg_run_kbx8u8_v.ipynb",
   "output_path": "/home/jovyan/work/2023/sscurve/contrib/calculate_sscurve_rev2_results_2023-10-06_093557.ipynb",
   "parameters": {},
   "start_time": "2023-10-06T00:35:59.688461",
   "version": "2.3.4"
  },
  "widgets": {
   "application/vnd.jupyter.widget-state+json": {
    "state": {
     "0039b609cdbb41ecbe9c5aedbb0725e5": {
      "model_module": "@jupyter-widgets/controls",
      "model_module_version": "2.0.0",
      "model_name": "HTMLModel",
      "state": {
       "layout": "IPY_MODEL_ef96e964d6614844b15c3840589f3ff7",
       "style": "IPY_MODEL_cf9b7a7d04a14e148f7ed052b523adb0",
       "value": " 10001/10001 [00:00&lt;00:00,  9.08it/s]"
      }
     },
     "0157184e9a32469286d9482fd4348602": {
      "model_module": "@jupyter-widgets/controls",
      "model_module_version": "2.0.0",
      "model_name": "LinkModel",
      "state": {
       "source": [
        "IPY_MODEL_2060231ae7b94bc8a20e2670056671d6",
        "value"
       ],
       "target": [
        "IPY_MODEL_575c7a577676473cbe6785eb0dff343e",
        "frame"
       ]
      }
     },
     "0202a97f3f4a41ff992309348cd301e0": {
      "model_module": "@jupyter-widgets/base",
      "model_module_version": "2.0.0",
      "model_name": "LayoutModel",
      "state": {}
     },
     "0643ddd07dd141309646766ec0bdf47d": {
      "model_module": "@jupyter-widgets/controls",
      "model_module_version": "2.0.0",
      "model_name": "ButtonStyleModel",
      "state": {
       "font_family": null,
       "font_size": null,
       "font_style": null,
       "font_variant": null,
       "font_weight": null,
       "text_color": null,
       "text_decoration": null
      }
     },
     "071fcfe107534cec9045d360a9e1054a": {
      "model_module": "@jupyter-widgets/controls",
      "model_module_version": "2.0.0",
      "model_name": "SliderStyleModel",
      "state": {
       "description_width": ""
      }
     },
     "085ac12c358743bf8828d128404b5c33": {
      "model_module": "@jupyter-widgets/controls",
      "model_module_version": "2.0.0",
      "model_name": "HBoxModel",
      "state": {
       "children": [
        "IPY_MODEL_4bdf40f524ce4516babd59de6dd1c686",
        "IPY_MODEL_860ab31af0644d61821dea2d7b3d5c71"
       ],
       "layout": "IPY_MODEL_dfd62f4e9bac4d80aa621efb56273984"
      }
     },
     "08666a02b7084795b3bced4a322e01b3": {
      "model_module": "@jupyter-widgets/base",
      "model_module_version": "2.0.0",
      "model_name": "LayoutModel",
      "state": {}
     },
     "08a8fc144b3b4c7183adddbf0c93d604": {
      "model_module": "@jupyter-widgets/base",
      "model_module_version": "2.0.0",
      "model_name": "LayoutModel",
      "state": {}
     },
     "09e47b6a897146709cd37879d5531194": {
      "model_module": "@jupyter-widgets/controls",
      "model_module_version": "2.0.0",
      "model_name": "ButtonModel",
      "state": {
       "description": "Save image",
       "layout": "IPY_MODEL_4170c86978b6497fb37599c5c152fa13",
       "style": "IPY_MODEL_90579e0feb4f48b7805857587795fc04",
       "tooltip": "Save current frame to file.\nCurrently .png and .html are supported.\nIt takes a bit time, please be patient."
      }
     },
     "0a61bf949224495b99509df611b69010": {
      "model_module": "@jupyter-widgets/base",
      "model_module_version": "2.0.0",
      "model_name": "LayoutModel",
      "state": {}
     },
     "0b68d885ef8b46cea8502b6b4c9d4aec": {
      "model_module": "@jupyter-widgets/controls",
      "model_module_version": "2.0.0",
      "model_name": "HBoxModel",
      "state": {
       "children": [
        "IPY_MODEL_5e57383cf54b42c39341b33d5ad8f902",
        "IPY_MODEL_ebb0633fd94e45a2a7dc55194d20cc30"
       ],
       "layout": "IPY_MODEL_924c504f7a9c49aeb9d58168418f718b"
      }
     },
     "0dcace01ec9448c3a819e6f2144db4b0": {
      "model_module": "@jupyter-widgets/controls",
      "model_module_version": "2.0.0",
      "model_name": "TextModel",
      "state": {
       "description": "Filename: ",
       "layout": "IPY_MODEL_b43ccb40228c4d96b1fd984c730f365d",
       "style": "IPY_MODEL_15ef54579dee408d998c01c8fa775fe8",
       "value": "screenshot.png"
      }
     },
     "0e3c50a60c4540fe82daa508fb24d41f": {
      "model_module": "@jupyter-widgets/controls",
      "model_module_version": "2.0.0",
      "model_name": "DropdownModel",
      "state": {
       "_options_labels": [
        "All",
        "C",
        "H",
        "O",
        "Fe"
       ],
       "description": "Show",
       "index": 0,
       "layout": "IPY_MODEL_821830aa057c4d1dbb11d7e46f2276f3",
       "style": "IPY_MODEL_3087b4b05b534c48b2be33aefe6be348"
      }
     },
     "103d8fd18eaa4d43a398e7744eda02ef": {
      "model_module": "@jupyter-widgets/controls",
      "model_module_version": "2.0.0",
      "model_name": "CheckboxModel",
      "state": {
       "description": "Show charge",
       "disabled": false,
       "layout": "IPY_MODEL_f9ff29e7c07b48df89cd2c276ca0f130",
       "style": "IPY_MODEL_efd3e447af614f0e8108d0dac34e6422",
       "value": false
      }
     },
     "10ca93f2d07c4cfc8743aefc0cc2d9c3": {
      "model_module": "@jupyter-widgets/controls",
      "model_module_version": "2.0.0",
      "model_name": "DropdownModel",
      "state": {
       "_options_labels": [
        "All",
        "Fe"
       ],
       "description": "Show",
       "index": 0,
       "layout": "IPY_MODEL_833f0ed35d95495389778361e7ca1881",
       "style": "IPY_MODEL_fb86718ef3894a629a18513be9cb8711"
      }
     },
     "1370f8a915b04fe0b844f2a847998e3f": {
      "model_module": "@jupyter-widgets/base",
      "model_module_version": "2.0.0",
      "model_name": "LayoutModel",
      "state": {}
     },
     "139154a171d646c69a1e766752750a65": {
      "model_module": "@jupyter-widgets/controls",
      "model_module_version": "2.0.0",
      "model_name": "DescriptionStyleModel",
      "state": {
       "description_width": ""
      }
     },
     "13c180d7254143a0b3ea875a4cc04703": {
      "model_module": "@jupyter-widgets/controls",
      "model_module_version": "2.0.0",
      "model_name": "FloatSliderModel",
      "state": {
       "behavior": "drag-tap",
       "description": "Force scale",
       "layout": "IPY_MODEL_4dce678ded4c4bd787482e9dea59a6d6",
       "step": 0.1,
       "style": "IPY_MODEL_f227081f0a9141a8ae8ef08ba09b4e3c",
       "value": 0.5
      }
     },
     "15ef54579dee408d998c01c8fa775fe8": {
      "model_module": "@jupyter-widgets/controls",
      "model_module_version": "2.0.0",
      "model_name": "TextStyleModel",
      "state": {
       "description_width": "",
       "font_size": null,
       "text_color": null
      }
     },
     "183a283cd327406eb320f1d5c99abdcf": {
      "model_module": "@jupyter-widgets/base",
      "model_module_version": "2.0.0",
      "model_name": "LayoutModel",
      "state": {}
     },
     "1992ded16cb24681b09659712577d4c9": {
      "model_module": "@jupyter-widgets/base",
      "model_module_version": "2.0.0",
      "model_name": "LayoutModel",
      "state": {}
     },
     "19b67c8e377e40aa90ed67d7992138e7": {
      "model_module": "@jupyter-widgets/base",
      "model_module_version": "2.0.0",
      "model_name": "LayoutModel",
      "state": {
       "border_bottom": "0px solid black",
       "border_left": "0px solid black",
       "border_right": "0px solid black",
       "border_top": "0px solid black"
      }
     },
     "1aacb302f2ef40b7bca7b3d054e3c44d": {
      "model_module": "@jupyter-widgets/base",
      "model_module_version": "2.0.0",
      "model_name": "LayoutModel",
      "state": {}
     },
     "1af865f178d2432f8be7b982bbdd8ba6": {
      "model_module": "@jupyter-widgets/controls",
      "model_module_version": "2.0.0",
      "model_name": "CheckboxModel",
      "state": {
       "description": "Show force",
       "disabled": false,
       "layout": "IPY_MODEL_e782724bfd5248b39564caf177070c3c",
       "style": "IPY_MODEL_976b62a806c64f90b82667c843db94a5",
       "value": false
      }
     },
     "1c39964d29b74e3484ad110d816edc47": {
      "model_module": "@jupyter-widgets/controls",
      "model_module_version": "2.0.0",
      "model_name": "DescriptionStyleModel",
      "state": {
       "description_width": ""
      }
     },
     "1cb61bdeead5427681078e5783d52410": {
      "model_module": "@jupyter-widgets/base",
      "model_module_version": "2.0.0",
      "model_name": "LayoutModel",
      "state": {}
     },
     "1e646d182162411dbc4cc02dff36165e": {
      "model_module": "nglview-js-widgets",
      "model_module_version": "3.0.6",
      "model_name": "NGLModel",
      "state": {
       "_camera_orientation": [],
       "_camera_str": "orthographic",
       "_gui_theme": null,
       "_ibtn_fullscreen": "IPY_MODEL_43ff62368f054beebd8e753b823db13f",
       "_igui": null,
       "_iplayer": "IPY_MODEL_e2edd9b886fc4b7881db7355183ae3b5",
       "_ngl_color_dict": {},
       "_ngl_coordinate_resource": {},
       "_ngl_full_stage_parameters": {
        "ambientColor": 14540253,
        "ambientIntensity": 0.2,
        "backgroundColor": "white",
        "cameraEyeSep": 0.3,
        "cameraFov": 40,
        "cameraType": "perspective",
        "clipDist": 10,
        "clipFar": 100,
        "clipMode": "scene",
        "clipNear": 0,
        "clipScale": "relative",
        "fogFar": 100,
        "fogNear": 50,
        "hoverTimeout": 0,
        "impostor": true,
        "lightColor": 14540253,
        "lightIntensity": 1,
        "mousePreset": "default",
        "panSpeed": 1,
        "quality": "medium",
        "rotateSpeed": 2,
        "sampleLevel": 0,
        "tooltip": true,
        "workerDefault": true,
        "zoomSpeed": 1.2
       },
       "_ngl_msg_archive": [
        {
         "args": [
          {
           "binary": false,
           "data": "CRYST1   19.457   19.457  518.442  90.00  90.00 110.22 P 1\nMODEL     1\nATOM      1   Fe MOL     1      -0.000   0.000 508.441  1.00  0.00          FE  \nATOM      2   Fe MOL     1       0.796   1.141 510.447  1.00  0.00          FE  \nATOM      3   Fe MOL     1       0.000  -0.000 512.458  1.00  0.00          FE  \nATOM      4   Fe MOL     1       0.796   1.141 514.456  1.00  0.00          FE  \nATOM      5   Fe MOL     1       0.000  -0.000 516.450  1.00  0.00          FE  \nATOM      6   Fe MOL     1       0.796   1.141  -0.000  1.00  0.00          FE  \nATOM      7   Fe MOL     1      -0.000  -0.000   1.987  1.00  0.00          FE  \nATOM      8   Fe MOL     1       0.796   1.141   3.985  1.00  0.00          FE  \nATOM      9   Fe MOL     1      -0.000   0.000   5.996  1.00  0.00          FE  \nATOM     10   Fe MOL     1       0.796   1.141   8.002  1.00  0.00          FE  \nATOM     11   Fe MOL     1      -0.840   2.283 508.441  1.00  0.00          FE  \nATOM     12   Fe MOL     1      -0.045   3.423 510.447  1.00  0.00          FE  \nATOM     13   Fe MOL     1      -0.840   2.282 512.458  1.00  0.00          FE  \nATOM     14   Fe MOL     1      -0.045   3.423 514.456  1.00  0.00          FE  \nATOM     15   Fe MOL     1      -0.840   2.282 516.450  1.00  0.00          FE  \nATOM     16   Fe MOL     1      -0.045   3.423   0.000  1.00  0.00          FE  \nATOM     17   Fe MOL     1      -0.840   2.282   1.987  1.00  0.00          FE  \nATOM     18   Fe MOL     1      -0.045   3.423   3.985  1.00  0.00          FE  \nATOM     19   Fe MOL     1      -0.840   2.283   5.996  1.00  0.00          FE  \nATOM     20   Fe MOL     1      -0.045   3.423   8.003  1.00  0.00          FE  \nATOM     21   Fe MOL     1      -1.681   4.565 508.441  1.00  0.00          FE  \nATOM     22   Fe MOL     1      -0.885   5.706 510.447  1.00  0.00          FE  \nATOM     23   Fe MOL     1      -1.681   4.565 512.458  1.00  0.00          FE  \nATOM     24   Fe MOL     1      -0.885   5.706 514.456  1.00  0.00          FE  \nATOM     25   Fe MOL     1      -1.681   4.565 516.450  1.00  0.00          FE  \nATOM     26   Fe MOL     1      -0.885   5.706   0.000  1.00  0.00          FE  \nATOM     27   Fe MOL     1      -1.681   4.565   1.987  1.00  0.00          FE  \nATOM     28   Fe MOL     1      -0.885   5.705   3.985  1.00  0.00          FE  \nATOM     29   Fe MOL     1      -1.681   4.565   5.996  1.00  0.00          FE  \nATOM     30   Fe MOL     1      -0.885   5.706   8.002  1.00  0.00          FE  \nATOM     31   Fe MOL     1      -2.522   6.847 508.441  1.00  0.00          FE  \nATOM     32   Fe MOL     1      -1.726   7.988 510.447  1.00  0.00          FE  \nATOM     33   Fe MOL     1      -2.522   6.847 512.458  1.00  0.00          FE  \nATOM     34   Fe MOL     1      -1.726   7.988 514.456  1.00  0.00          FE  \nATOM     35   Fe MOL     1      -2.522   6.847 516.450  1.00  0.00          FE  \nATOM     36   Fe MOL     1      -1.726   7.988   0.000  1.00  0.00          FE  \nATOM     37   Fe MOL     1      -2.521   6.847   1.987  1.00  0.00          FE  \nATOM     38   Fe MOL     1      -1.725   7.988   3.985  1.00  0.00          FE  \nATOM     39   Fe MOL     1      -2.522   6.847   5.996  1.00  0.00          FE  \nATOM     40   Fe MOL     1      -1.726   7.988   8.002  1.00  0.00          FE  \nATOM     41   Fe MOL     1      -3.362   9.129 508.440  1.00  0.00          FE  \nATOM     42   Fe MOL     1      -2.566  10.270 510.447  1.00  0.00          FE  \nATOM     43   Fe MOL     1      -3.362   9.129 512.458  1.00  0.00          FE  \nATOM     44   Fe MOL     1      -2.566  10.270 514.456  1.00  0.00          FE  \nATOM     45   Fe MOL     1      -3.362   9.129 516.450  1.00  0.00          FE  \nATOM     46   Fe MOL     1      -2.566  10.270   0.000  1.00  0.00          FE  \nATOM     47   Fe MOL     1      -3.362   9.129   1.987  1.00  0.00          FE  \nATOM     48   Fe MOL     1      -2.566  10.270   3.985  1.00  0.00          FE  \nATOM     49   Fe MOL     1      -3.362   9.129   5.996  1.00  0.00          FE  \nATOM     50   Fe MOL     1      -2.566  10.270   8.002  1.00  0.00          FE  \nATOM     51   Fe MOL     1      -4.202  11.411 508.440  1.00  0.00          FE  \nATOM     52   Fe MOL     1      -3.407  12.552 510.447  1.00  0.00          FE  \nATOM     53   Fe MOL     1      -4.202  11.411 512.459  1.00  0.00          FE  \nATOM     54   Fe MOL     1      -3.407  12.552 514.456  1.00  0.00          FE  \nATOM     55   Fe MOL     1      -4.202  11.411 516.450  1.00  0.00          FE  \nATOM     56   Fe MOL     1      -3.407  12.552   0.000  1.00  0.00          FE  \nATOM     57   Fe MOL     1      -4.202  11.411   1.987  1.00  0.00          FE  \nATOM     58   Fe MOL     1      -3.406  12.552   3.985  1.00  0.00          FE  \nATOM     59   Fe MOL     1      -4.202  11.411   5.996  1.00  0.00          FE  \nATOM     60   Fe MOL     1      -3.407  12.553   8.002  1.00  0.00          FE  \nATOM     61   Fe MOL     1      -5.043  13.693 508.442  1.00  0.00          FE  \nATOM     62   Fe MOL     1      -4.247  14.835 510.447  1.00  0.00          FE  \nATOM     63   Fe MOL     1      -5.043  13.693 512.459  1.00  0.00          FE  \nATOM     64   Fe MOL     1      -4.247  14.834 514.456  1.00  0.00          FE  \nATOM     65   Fe MOL     1      -5.043  13.694 516.450  1.00  0.00          FE  \nATOM     66   Fe MOL     1      -4.247  14.835   0.000  1.00  0.00          FE  \nATOM     67   Fe MOL     1      -5.043  13.694   1.987  1.00  0.00          FE  \nATOM     68   Fe MOL     1      -4.247  14.835   3.985  1.00  0.00          FE  \nATOM     69   Fe MOL     1      -5.043  13.694   5.996  1.00  0.00          FE  \nATOM     70   Fe MOL     1      -4.247  14.835   8.002  1.00  0.00          FE  \nATOM     71   Fe MOL     1      -5.883  15.976 508.441  1.00  0.00          FE  \nATOM     72   Fe MOL     1      -5.088  17.117 510.447  1.00  0.00          FE  \nATOM     73   Fe MOL     1      -5.884  15.976 512.458  1.00  0.00          FE  \nATOM     74   Fe MOL     1      -5.088  17.117 514.456  1.00  0.00          FE  \nATOM     75   Fe MOL     1      -5.883  15.976 516.450  1.00  0.00          FE  \nATOM     76   Fe MOL     1      -5.088  17.117   0.000  1.00  0.00          FE  \nATOM     77   Fe MOL     1      -5.883  15.976   1.987  1.00  0.00          FE  \nATOM     78   Fe MOL     1      -5.088  17.117   3.985  1.00  0.00          FE  \nATOM     79   Fe MOL     1      -5.884  15.976   5.996  1.00  0.00          FE  \nATOM     80   Fe MOL     1      -5.088  17.117   8.002  1.00  0.00          FE  \nATOM     81   Fe MOL     1       2.432   0.000 508.441  1.00  0.00          FE  \nATOM     82   Fe MOL     1       3.228   1.141 510.447  1.00  0.00          FE  \nATOM     83   Fe MOL     1       2.432  -0.000 512.459  1.00  0.00          FE  \nATOM     84   Fe MOL     1       3.228   1.141 514.456  1.00  0.00          FE  \nATOM     85   Fe MOL     1       2.432  -0.000 516.450  1.00  0.00          FE  \nATOM     86   Fe MOL     1       3.228   1.141  -0.000  1.00  0.00          FE  \nATOM     87   Fe MOL     1       2.432  -0.000   1.987  1.00  0.00          FE  \nATOM     88   Fe MOL     1       3.228   1.141   3.985  1.00  0.00          FE  \nATOM     89   Fe MOL     1       2.432   0.000   5.996  1.00  0.00          FE  \nATOM     90   Fe MOL     1       3.228   1.141   8.002  1.00  0.00          FE  \nATOM     91   Fe MOL     1       1.591   2.283 508.441  1.00  0.00          FE  \nATOM     92   Fe MOL     1       2.387   3.423 510.447  1.00  0.00          FE  \nATOM     93   Fe MOL     1       1.592   2.282 512.459  1.00  0.00          FE  \nATOM     94   Fe MOL     1       2.388   3.423 514.456  1.00  0.00          FE  \nATOM     95   Fe MOL     1       1.592   2.282 516.450  1.00  0.00          FE  \nATOM     96   Fe MOL     1       2.387   3.423  -0.000  1.00  0.00          FE  \nATOM     97   Fe MOL     1       1.592   2.282   1.987  1.00  0.00          FE  \nATOM     98   Fe MOL     1       2.388   3.423   3.985  1.00  0.00          FE  \nATOM     99   Fe MOL     1       1.591   2.282   5.996  1.00  0.00          FE  \nATOM    100   Fe MOL     1       2.387   3.423   8.003  1.00  0.00          FE  \nATOM    101   Fe MOL     1       0.751   4.565 508.440  1.00  0.00          FE  \nATOM    102   Fe MOL     1       1.547   5.706 510.447  1.00  0.00          FE  \nATOM    103   Fe MOL     1       0.751   4.564 512.458  1.00  0.00          FE  \nATOM    104   Fe MOL     1       1.547   5.705 514.456  1.00  0.00          FE  \nATOM    105   Fe MOL     1       0.751   4.565 516.450  1.00  0.00          FE  \nATOM    106   Fe MOL     1       1.547   5.706  -0.000  1.00  0.00          FE  \nATOM    107   Fe MOL     1       0.751   4.565   1.987  1.00  0.00          FE  \nATOM    108   Fe MOL     1       1.547   5.705   3.985  1.00  0.00          FE  \nATOM    109   Fe MOL     1       0.751   4.565   5.996  1.00  0.00          FE  \nATOM    110   Fe MOL     1       1.547   5.705   8.002  1.00  0.00          FE  \nATOM    111   Fe MOL     1      -0.090   6.847 508.441  1.00  0.00          FE  \nATOM    112   Fe MOL     1       0.706   7.988 510.447  1.00  0.00          FE  \nATOM    113   Fe MOL     1      -0.090   6.847 512.458  1.00  0.00          FE  \nATOM    114   Fe MOL     1       0.706   7.988 514.456  1.00  0.00          FE  \nATOM    115   Fe MOL     1      -0.089   6.847 516.450  1.00  0.00          FE  \nATOM    116   Fe MOL     1       0.706   7.988  -0.000  1.00  0.00          FE  \nATOM    117   Fe MOL     1      -0.089   6.847   1.987  1.00  0.00          FE  \nATOM    118   Fe MOL     1       0.707   7.988   3.985  1.00  0.00          FE  \nATOM    119   Fe MOL     1      -0.089   6.847   5.996  1.00  0.00          FE  \nATOM    120   Fe MOL     1       0.706   7.987   8.002  1.00  0.00          FE  \nATOM    121   Fe MOL     1      -0.930   9.129 508.441  1.00  0.00          FE  \nATOM    122   Fe MOL     1      -0.134  10.270 510.447  1.00  0.00          FE  \nATOM    123   Fe MOL     1      -0.930   9.129 512.458  1.00  0.00          FE  \nATOM    124   Fe MOL     1      -0.134  10.270 514.456  1.00  0.00          FE  \nATOM    125   Fe MOL     1      -0.930   9.129 516.450  1.00  0.00          FE  \nATOM    126   Fe MOL     1      -0.134  10.270   0.000  1.00  0.00          FE  \nATOM    127   Fe MOL     1      -0.930   9.129   1.987  1.00  0.00          FE  \nATOM    128   Fe MOL     1      -0.134  10.270   3.985  1.00  0.00          FE  \nATOM    129   Fe MOL     1      -0.930   9.129   5.996  1.00  0.00          FE  \nATOM    130   Fe MOL     1      -0.134  10.270   8.002  1.00  0.00          FE  \nATOM    131   Fe MOL     1      -1.770  11.411 508.441  1.00  0.00          FE  \nATOM    132   Fe MOL     1      -0.975  12.552 510.447  1.00  0.00          FE  \nATOM    133   Fe MOL     1      -1.770  11.411 512.459  1.00  0.00          FE  \nATOM    134   Fe MOL     1      -0.974  12.552 514.456  1.00  0.00          FE  \nATOM    135   Fe MOL     1      -1.770  11.411 516.450  1.00  0.00          FE  \nATOM    136   Fe MOL     1      -0.974  12.552   0.000  1.00  0.00          FE  \nATOM    137   Fe MOL     1      -1.770  11.411   1.987  1.00  0.00          FE  \nATOM    138   Fe MOL     1      -0.974  12.552   3.985  1.00  0.00          FE  \nATOM    139   Fe MOL     1      -1.770  11.411   5.996  1.00  0.00          FE  \nATOM    140   Fe MOL     1      -0.975  12.553   8.002  1.00  0.00          FE  \nATOM    141   Fe MOL     1      -2.611  13.693 508.441  1.00  0.00          FE  \nATOM    142   Fe MOL     1      -1.815  14.834 510.447  1.00  0.00          FE  \nATOM    143   Fe MOL     1      -2.611  13.693 512.458  1.00  0.00          FE  \nATOM    144   Fe MOL     1      -1.815  14.835 514.456  1.00  0.00          FE  \nATOM    145   Fe MOL     1      -2.611  13.694 516.450  1.00  0.00          FE  \nATOM    146   Fe MOL     1      -1.815  14.835   0.000  1.00  0.00          FE  \nATOM    147   Fe MOL     1      -2.611  13.694   1.987  1.00  0.00          FE  \nATOM    148   Fe MOL     1      -1.815  14.834   3.985  1.00  0.00          FE  \nATOM    149   Fe MOL     1      -2.611  13.693   5.996  1.00  0.00          FE  \nATOM    150   Fe MOL     1      -1.815  14.835   8.002  1.00  0.00          FE  \nATOM    151   Fe MOL     1      -3.451  15.976 508.440  1.00  0.00          FE  \nATOM    152   Fe MOL     1      -2.656  17.117 510.446  1.00  0.00          FE  \nATOM    153   Fe MOL     1      -3.452  15.976 512.458  1.00  0.00          FE  \nATOM    154   Fe MOL     1      -2.656  17.117 514.456  1.00  0.00          FE  \nATOM    155   Fe MOL     1      -3.451  15.976 516.450  1.00  0.00          FE  \nATOM    156   Fe MOL     1      -2.655  17.117   0.000  1.00  0.00          FE  \nATOM    157   Fe MOL     1      -3.451  15.976   1.987  1.00  0.00          FE  \nATOM    158   Fe MOL     1      -2.656  17.117   3.985  1.00  0.00          FE  \nATOM    159   Fe MOL     1      -3.451  15.976   5.996  1.00  0.00          FE  \nATOM    160   Fe MOL     1      -2.656  17.117   8.003  1.00  0.00          FE  \nATOM    161   Fe MOL     1       4.864  -0.000 508.440  1.00  0.00          FE  \nATOM    162   Fe MOL     1       5.660   1.141 510.447  1.00  0.00          FE  \nATOM    163   Fe MOL     1       4.864  -0.000 512.458  1.00  0.00          FE  \nATOM    164   Fe MOL     1       5.660   1.141 514.456  1.00  0.00          FE  \nATOM    165   Fe MOL     1       4.864  -0.000 516.450  1.00  0.00          FE  \nATOM    166   Fe MOL     1       5.660   1.141  -0.000  1.00  0.00          FE  \nATOM    167   Fe MOL     1       4.864  -0.000   1.987  1.00  0.00          FE  \nATOM    168   Fe MOL     1       5.660   1.141   3.985  1.00  0.00          FE  \nATOM    169   Fe MOL     1       4.864  -0.000   5.997  1.00  0.00          FE  \nATOM    170   Fe MOL     1       5.660   1.141   8.003  1.00  0.00          FE  \nATOM    171   Fe MOL     1       4.023   2.282 508.441  1.00  0.00          FE  \nATOM    172   Fe MOL     1       4.819   3.423 510.447  1.00  0.00          FE  \nATOM    173   Fe MOL     1       4.024   2.282 512.459  1.00  0.00          FE  \nATOM    174   Fe MOL     1       4.820   3.423 514.456  1.00  0.00          FE  \nATOM    175   Fe MOL     1       4.024   2.282 516.450  1.00  0.00          FE  \nATOM    176   Fe MOL     1       4.820   3.423  -0.000  1.00  0.00          FE  \nATOM    177   Fe MOL     1       4.024   2.282   1.987  1.00  0.00          FE  \nATOM    178   Fe MOL     1       4.820   3.423   3.985  1.00  0.00          FE  \nATOM    179   Fe MOL     1       4.024   2.282   5.996  1.00  0.00          FE  \nATOM    180   Fe MOL     1       4.819   3.423   8.002  1.00  0.00          FE  \nATOM    181   Fe MOL     1       3.183   4.564 508.440  1.00  0.00          FE  \nATOM    182   Fe MOL     1       3.979   5.705 510.447  1.00  0.00          FE  \nATOM    183   Fe MOL     1       3.183   4.564 512.458  1.00  0.00          FE  \nATOM    184   Fe MOL     1       3.979   5.705 514.456  1.00  0.00          FE  \nATOM    185   Fe MOL     1       3.183   4.564 516.450  1.00  0.00          FE  \nATOM    186   Fe MOL     1       3.979   5.706  -0.000  1.00  0.00          FE  \nATOM    187   Fe MOL     1       3.183   4.565   1.987  1.00  0.00          FE  \nATOM    188   Fe MOL     1       3.979   5.706   3.985  1.00  0.00          FE  \nATOM    189   Fe MOL     1       3.183   4.564   5.996  1.00  0.00          FE  \nATOM    190   Fe MOL     1       3.979   5.706   8.002  1.00  0.00          FE  \nATOM    191   Fe MOL     1       2.343   6.847 508.441  1.00  0.00          FE  \nATOM    192   Fe MOL     1       3.138   7.988 510.447  1.00  0.00          FE  \nATOM    193   Fe MOL     1       2.343   6.847 512.458  1.00  0.00          FE  \nATOM    194   Fe MOL     1       3.138   7.988 514.456  1.00  0.00          FE  \nATOM    195   Fe MOL     1       2.343   6.847 516.450  1.00  0.00          FE  \nATOM    196   Fe MOL     1       3.139   7.988  -0.000  1.00  0.00          FE  \nATOM    197   Fe MOL     1       2.343   6.847   1.987  1.00  0.00          FE  \nATOM    198   Fe MOL     1       3.139   7.988   3.985  1.00  0.00          FE  \nATOM    199   Fe MOL     1       2.343   6.847   5.996  1.00  0.00          FE  \nATOM    200   Fe MOL     1       3.138   7.988   8.002  1.00  0.00          FE  \nATOM    201   Fe MOL     1       1.502   9.129 508.440  1.00  0.00          FE  \nATOM    202   Fe MOL     1       2.298  10.270 510.447  1.00  0.00          FE  \nATOM    203   Fe MOL     1       1.502   9.129 512.458  1.00  0.00          FE  \nATOM    204   Fe MOL     1       2.298  10.270 514.456  1.00  0.00          FE  \nATOM    205   Fe MOL     1       1.502   9.129 516.450  1.00  0.00          FE  \nATOM    206   Fe MOL     1       2.298  10.270  -0.000  1.00  0.00          FE  \nATOM    207   Fe MOL     1       1.502   9.129   1.987  1.00  0.00          FE  \nATOM    208   Fe MOL     1       2.298  10.270   3.985  1.00  0.00          FE  \nATOM    209   Fe MOL     1       1.502   9.129   5.996  1.00  0.00          FE  \nATOM    210   Fe MOL     1       2.298  10.270   8.003  1.00  0.00          FE  \nATOM    211   Fe MOL     1       0.661  11.411 508.441  1.00  0.00          FE  \nATOM    212   Fe MOL     1       1.457  12.553 510.447  1.00  0.00          FE  \nATOM    213   Fe MOL     1       0.662  11.412 512.458  1.00  0.00          FE  \nATOM    214   Fe MOL     1       1.458  12.553 514.456  1.00  0.00          FE  \nATOM    215   Fe MOL     1       0.662  11.411 516.450  1.00  0.00          FE  \nATOM    216   Fe MOL     1       1.458  12.552  -0.000  1.00  0.00          FE  \nATOM    217   Fe MOL     1       0.662  11.411   1.987  1.00  0.00          FE  \nATOM    218   Fe MOL     1       1.458  12.552   3.985  1.00  0.00          FE  \nATOM    219   Fe MOL     1       0.662  11.411   5.996  1.00  0.00          FE  \nATOM    220   Fe MOL     1       1.457  12.552   8.003  1.00  0.00          FE  \nATOM    221   Fe MOL     1      -0.179  13.693 508.441  1.00  0.00          FE  \nATOM    222   Fe MOL     1       0.617  14.835 510.447  1.00  0.00          FE  \nATOM    223   Fe MOL     1      -0.179  13.694 512.459  1.00  0.00          FE  \nATOM    224   Fe MOL     1       0.617  14.835 514.456  1.00  0.00          FE  \nATOM    225   Fe MOL     1      -0.179  13.694 516.450  1.00  0.00          FE  \nATOM    226   Fe MOL     1       0.617  14.835  -0.000  1.00  0.00          FE  \nATOM    227   Fe MOL     1      -0.179  13.694   1.987  1.00  0.00          FE  \nATOM    228   Fe MOL     1       0.617  14.834   3.985  1.00  0.00          FE  \nATOM    229   Fe MOL     1      -0.179  13.693   5.996  1.00  0.00          FE  \nATOM    230   Fe MOL     1       0.617  14.835   8.002  1.00  0.00          FE  \nATOM    231   Fe MOL     1      -1.019  15.976 508.441  1.00  0.00          FE  \nATOM    232   Fe MOL     1      -0.223  17.117 510.447  1.00  0.00          FE  \nATOM    233   Fe MOL     1      -1.019  15.976 512.458  1.00  0.00          FE  \nATOM    234   Fe MOL     1      -0.223  17.117 514.456  1.00  0.00          FE  \nATOM    235   Fe MOL     1      -1.019  15.976 516.450  1.00  0.00          FE  \nATOM    236   Fe MOL     1      -0.223  17.117  -0.000  1.00  0.00          FE  \nATOM    237   Fe MOL     1      -1.019  15.976   1.987  1.00  0.00          FE  \nATOM    238   Fe MOL     1      -0.224  17.117   3.985  1.00  0.00          FE  \nATOM    239   Fe MOL     1      -1.019  15.976   5.996  1.00  0.00          FE  \nATOM    240   Fe MOL     1      -0.223  17.117   8.002  1.00  0.00          FE  \nATOM    241   Fe MOL     1       7.296  -0.000 508.441  1.00  0.00          FE  \nATOM    242   Fe MOL     1       8.092   1.141 510.447  1.00  0.00          FE  \nATOM    243   Fe MOL     1       7.296  -0.000 512.458  1.00  0.00          FE  \nATOM    244   Fe MOL     1       8.092   1.141 514.456  1.00  0.00          FE  \nATOM    245   Fe MOL     1       7.296  -0.000 516.450  1.00  0.00          FE  \nATOM    246   Fe MOL     1       8.092   1.141  -0.000  1.00  0.00          FE  \nATOM    247   Fe MOL     1       7.296  -0.000   1.987  1.00  0.00          FE  \nATOM    248   Fe MOL     1       8.092   1.141   3.985  1.00  0.00          FE  \nATOM    249   Fe MOL     1       7.296  -0.000   5.996  1.00  0.00          FE  \nATOM    250   Fe MOL     1       8.092   1.141   8.002  1.00  0.00          FE  \nATOM    251   Fe MOL     1       6.456   2.282 508.441  1.00  0.00          FE  \nATOM    252   Fe MOL     1       7.252   3.423 510.447  1.00  0.00          FE  \nATOM    253   Fe MOL     1       6.456   2.282 512.458  1.00  0.00          FE  \nATOM    254   Fe MOL     1       7.252   3.423 514.456  1.00  0.00          FE  \nATOM    255   Fe MOL     1       6.456   2.282 516.450  1.00  0.00          FE  \nATOM    256   Fe MOL     1       7.252   3.423  -0.000  1.00  0.00          FE  \nATOM    257   Fe MOL     1       6.456   2.282   1.987  1.00  0.00          FE  \nATOM    258   Fe MOL     1       7.252   3.423   3.985  1.00  0.00          FE  \nATOM    259   Fe MOL     1       6.456   2.282   5.996  1.00  0.00          FE  \nATOM    260   Fe MOL     1       7.252   3.424   8.002  1.00  0.00          FE  \nATOM    261   Fe MOL     1       5.615   4.564 508.441  1.00  0.00          FE  \nATOM    262   Fe MOL     1       6.411   5.705 510.447  1.00  0.00          FE  \nATOM    263   Fe MOL     1       5.615   4.564 512.458  1.00  0.00          FE  \nATOM    264   Fe MOL     1       6.411   5.706 514.456  1.00  0.00          FE  \nATOM    265   Fe MOL     1       5.615   4.565 516.450  1.00  0.00          FE  \nATOM    266   Fe MOL     1       6.411   5.706  -0.000  1.00  0.00          FE  \nATOM    267   Fe MOL     1       5.615   4.565   1.987  1.00  0.00          FE  \nATOM    268   Fe MOL     1       6.411   5.706   3.985  1.00  0.00          FE  \nATOM    269   Fe MOL     1       5.615   4.565   5.996  1.00  0.00          FE  \nATOM    270   Fe MOL     1       6.411   5.706   8.002  1.00  0.00          FE  \nATOM    271   Fe MOL     1       4.775   6.847 508.441  1.00  0.00          FE  \nATOM    272   Fe MOL     1       5.570   7.988 510.447  1.00  0.00          FE  \nATOM    273   Fe MOL     1       4.775   6.847 512.458  1.00  0.00          FE  \nATOM    274   Fe MOL     1       5.570   7.988 514.456  1.00  0.00          FE  \nATOM    275   Fe MOL     1       4.775   6.847 516.450  1.00  0.00          FE  \nATOM    276   Fe MOL     1       5.571   7.988  -0.000  1.00  0.00          FE  \nATOM    277   Fe MOL     1       4.775   6.847   1.987  1.00  0.00          FE  \nATOM    278   Fe MOL     1       5.571   7.988   3.985  1.00  0.00          FE  \nATOM    279   Fe MOL     1       4.775   6.847   5.996  1.00  0.00          FE  \nATOM    280   Fe MOL     1       5.570   7.988   8.003  1.00  0.00          FE  \nATOM    281   Fe MOL     1       3.934   9.129 508.441  1.00  0.00          FE  \nATOM    282   Fe MOL     1       4.730  10.270 510.447  1.00  0.00          FE  \nATOM    283   Fe MOL     1       3.934   9.129 512.458  1.00  0.00          FE  \nATOM    284   Fe MOL     1       4.730  10.270 514.456  1.00  0.00          FE  \nATOM    285   Fe MOL     1       3.934   9.129 516.450  1.00  0.00          FE  \nATOM    286   Fe MOL     1       4.730  10.270  -0.000  1.00  0.00          FE  \nATOM    287   Fe MOL     1       3.934   9.129   1.987  1.00  0.00          FE  \nATOM    288   Fe MOL     1       4.730  10.270   3.985  1.00  0.00          FE  \nATOM    289   Fe MOL     1       3.935   9.129   5.996  1.00  0.00          FE  \nATOM    290   Fe MOL     1       4.730  10.271   8.002  1.00  0.00          FE  \nATOM    291   Fe MOL     1       3.093  11.411 508.440  1.00  0.00          FE  \nATOM    292   Fe MOL     1       3.889  12.552 510.447  1.00  0.00          FE  \nATOM    293   Fe MOL     1       3.094  11.412 512.458  1.00  0.00          FE  \nATOM    294   Fe MOL     1       3.890  12.553 514.456  1.00  0.00          FE  \nATOM    295   Fe MOL     1       3.094  11.411 516.450  1.00  0.00          FE  \nATOM    296   Fe MOL     1       3.890  12.552  -0.000  1.00  0.00          FE  \nATOM    297   Fe MOL     1       3.094  11.411   1.987  1.00  0.00          FE  \nATOM    298   Fe MOL     1       3.890  12.552   3.985  1.00  0.00          FE  \nATOM    299   Fe MOL     1       3.094  11.411   5.996  1.00  0.00          FE  \nATOM    300   Fe MOL     1       3.890  12.553   8.002  1.00  0.00          FE  \nATOM    301   Fe MOL     1       2.253  13.693 508.441  1.00  0.00          FE  \nATOM    302   Fe MOL     1       3.049  14.834 510.447  1.00  0.00          FE  \nATOM    303   Fe MOL     1       2.253  13.694 512.459  1.00  0.00          FE  \nATOM    304   Fe MOL     1       3.049  14.835 514.456  1.00  0.00          FE  \nATOM    305   Fe MOL     1       2.253  13.694 516.450  1.00  0.00          FE  \nATOM    306   Fe MOL     1       3.049  14.835  -0.000  1.00  0.00          FE  \nATOM    307   Fe MOL     1       2.253  13.694   1.987  1.00  0.00          FE  \nATOM    308   Fe MOL     1       3.049  14.834   3.985  1.00  0.00          FE  \nATOM    309   Fe MOL     1       2.253  13.693   5.996  1.00  0.00          FE  \nATOM    310   Fe MOL     1       3.049  14.835   8.002  1.00  0.00          FE  \nATOM    311   Fe MOL     1       1.413  15.976 508.441  1.00  0.00          FE  \nATOM    312   Fe MOL     1       2.209  17.117 510.447  1.00  0.00          FE  \nATOM    313   Fe MOL     1       1.413  15.976 512.458  1.00  0.00          FE  \nATOM    314   Fe MOL     1       2.209  17.117 514.456  1.00  0.00          FE  \nATOM    315   Fe MOL     1       1.413  15.976 516.450  1.00  0.00          FE  \nATOM    316   Fe MOL     1       2.209  17.117  -0.000  1.00  0.00          FE  \nATOM    317   Fe MOL     1       1.413  15.976   1.987  1.00  0.00          FE  \nATOM    318   Fe MOL     1       2.209  17.117   3.985  1.00  0.00          FE  \nATOM    319   Fe MOL     1       1.413  15.976   5.996  1.00  0.00          FE  \nATOM    320   Fe MOL     1       2.209  17.117   8.003  1.00  0.00          FE  \nATOM    321   Fe MOL     1       9.728  -0.000 508.441  1.00  0.00          FE  \nATOM    322   Fe MOL     1      10.524   1.141 510.447  1.00  0.00          FE  \nATOM    323   Fe MOL     1       9.729  -0.000 512.458  1.00  0.00          FE  \nATOM    324   Fe MOL     1      10.524   1.141 514.456  1.00  0.00          FE  \nATOM    325   Fe MOL     1       9.728  -0.000 516.450  1.00  0.00          FE  \nATOM    326   Fe MOL     1      10.524   1.141  -0.000  1.00  0.00          FE  \nATOM    327   Fe MOL     1       9.728  -0.000   1.987  1.00  0.00          FE  \nATOM    328   Fe MOL     1      10.524   1.141   3.985  1.00  0.00          FE  \nATOM    329   Fe MOL     1       9.728  -0.000   5.996  1.00  0.00          FE  \nATOM    330   Fe MOL     1      10.524   1.141   8.002  1.00  0.00          FE  \nATOM    331   Fe MOL     1       8.888   2.282 508.441  1.00  0.00          FE  \nATOM    332   Fe MOL     1       9.684   3.423 510.447  1.00  0.00          FE  \nATOM    333   Fe MOL     1       8.888   2.282 512.459  1.00  0.00          FE  \nATOM    334   Fe MOL     1       9.684   3.423 514.456  1.00  0.00          FE  \nATOM    335   Fe MOL     1       8.888   2.282 516.450  1.00  0.00          FE  \nATOM    336   Fe MOL     1       9.684   3.423  -0.000  1.00  0.00          FE  \nATOM    337   Fe MOL     1       8.888   2.282   1.987  1.00  0.00          FE  \nATOM    338   Fe MOL     1       9.684   3.423   3.985  1.00  0.00          FE  \nATOM    339   Fe MOL     1       8.888   2.282   5.996  1.00  0.00          FE  \nATOM    340   Fe MOL     1       9.684   3.423   8.002  1.00  0.00          FE  \nATOM    341   Fe MOL     1       8.047   4.565 508.441  1.00  0.00          FE  \nATOM    342   Fe MOL     1       8.843   5.706 510.447  1.00  0.00          FE  \nATOM    343   Fe MOL     1       8.047   4.564 512.459  1.00  0.00          FE  \nATOM    344   Fe MOL     1       8.843   5.706 514.456  1.00  0.00          FE  \nATOM    345   Fe MOL     1       8.047   4.565 516.450  1.00  0.00          FE  \nATOM    346   Fe MOL     1       8.843   5.706  -0.000  1.00  0.00          FE  \nATOM    347   Fe MOL     1       8.047   4.565   1.987  1.00  0.00          FE  \nATOM    348   Fe MOL     1       8.843   5.706   3.985  1.00  0.00          FE  \nATOM    349   Fe MOL     1       8.047   4.565   5.996  1.00  0.00          FE  \nATOM    350   Fe MOL     1       8.843   5.706   8.002  1.00  0.00          FE  \nATOM    351   Fe MOL     1       7.207   6.847 508.441  1.00  0.00          FE  \nATOM    352   Fe MOL     1       8.003   7.988 510.447  1.00  0.00          FE  \nATOM    353   Fe MOL     1       7.207   6.847 512.458  1.00  0.00          FE  \nATOM    354   Fe MOL     1       8.003   7.988 514.456  1.00  0.00          FE  \nATOM    355   Fe MOL     1       7.207   6.847 516.450  1.00  0.00          FE  \nATOM    356   Fe MOL     1       8.003   7.988  -0.000  1.00  0.00          FE  \nATOM    357   Fe MOL     1       7.207   6.847   1.987  1.00  0.00          FE  \nATOM    358   Fe MOL     1       8.003   7.988   3.985  1.00  0.00          FE  \nATOM    359   Fe MOL     1       7.207   6.847   5.996  1.00  0.00          FE  \nATOM    360   Fe MOL     1       8.003   7.988   8.002  1.00  0.00          FE  \nATOM    361   Fe MOL     1       6.367   9.129 508.441  1.00  0.00          FE  \nATOM    362   Fe MOL     1       7.162  10.270 510.447  1.00  0.00          FE  \nATOM    363   Fe MOL     1       6.366   9.129 512.458  1.00  0.00          FE  \nATOM    364   Fe MOL     1       7.162  10.270 514.456  1.00  0.00          FE  \nATOM    365   Fe MOL     1       6.366   9.129 516.450  1.00  0.00          FE  \nATOM    366   Fe MOL     1       7.162  10.270  -0.000  1.00  0.00          FE  \nATOM    367   Fe MOL     1       6.366   9.129   1.987  1.00  0.00          FE  \nATOM    368   Fe MOL     1       7.162  10.270   3.985  1.00  0.00          FE  \nATOM    369   Fe MOL     1       6.367   9.129   5.996  1.00  0.00          FE  \nATOM    370   Fe MOL     1       7.162  10.270   8.002  1.00  0.00          FE  \nATOM    371   Fe MOL     1       5.526  11.411 508.441  1.00  0.00          FE  \nATOM    372   Fe MOL     1       6.322  12.553 510.447  1.00  0.00          FE  \nATOM    373   Fe MOL     1       5.526  11.411 512.458  1.00  0.00          FE  \nATOM    374   Fe MOL     1       6.322  12.553 514.456  1.00  0.00          FE  \nATOM    375   Fe MOL     1       5.526  11.411 516.450  1.00  0.00          FE  \nATOM    376   Fe MOL     1       6.322  12.552  -0.000  1.00  0.00          FE  \nATOM    377   Fe MOL     1       5.526  11.411   1.987  1.00  0.00          FE  \nATOM    378   Fe MOL     1       6.322  12.552   3.985  1.00  0.00          FE  \nATOM    379   Fe MOL     1       5.526  11.411   5.996  1.00  0.00          FE  \nATOM    380   Fe MOL     1       6.322  12.552   8.003  1.00  0.00          FE  \nATOM    381   Fe MOL     1       4.685  13.693 508.441  1.00  0.00          FE  \nATOM    382   Fe MOL     1       5.481  14.835 510.447  1.00  0.00          FE  \nATOM    383   Fe MOL     1       4.685  13.694 512.458  1.00  0.00          FE  \nATOM    384   Fe MOL     1       5.481  14.835 514.456  1.00  0.00          FE  \nATOM    385   Fe MOL     1       4.685  13.694 516.450  1.00  0.00          FE  \nATOM    386   Fe MOL     1       5.481  14.835  -0.000  1.00  0.00          FE  \nATOM    387   Fe MOL     1       4.686  13.694   1.987  1.00  0.00          FE  \nATOM    388   Fe MOL     1       5.481  14.835   3.985  1.00  0.00          FE  \nATOM    389   Fe MOL     1       4.686  13.693   5.996  1.00  0.00          FE  \nATOM    390   Fe MOL     1       5.482  14.835   8.002  1.00  0.00          FE  \nATOM    391   Fe MOL     1       3.845  15.975 508.441  1.00  0.00          FE  \nATOM    392   Fe MOL     1       4.641  17.117 510.447  1.00  0.00          FE  \nATOM    393   Fe MOL     1       3.845  15.976 512.458  1.00  0.00          FE  \nATOM    394   Fe MOL     1       4.641  17.117 514.456  1.00  0.00          FE  \nATOM    395   Fe MOL     1       3.845  15.976 516.450  1.00  0.00          FE  \nATOM    396   Fe MOL     1       4.641  17.117  -0.000  1.00  0.00          FE  \nATOM    397   Fe MOL     1       3.845  15.976   1.987  1.00  0.00          FE  \nATOM    398   Fe MOL     1       4.641  17.117   3.985  1.00  0.00          FE  \nATOM    399   Fe MOL     1       3.845  15.976   5.996  1.00  0.00          FE  \nATOM    400   Fe MOL     1       4.641  17.117   8.002  1.00  0.00          FE  \nATOM    401   Fe MOL     1      12.161   0.000 508.441  1.00  0.00          FE  \nATOM    402   Fe MOL     1      12.956   1.141 510.447  1.00  0.00          FE  \nATOM    403   Fe MOL     1      12.161   0.000 512.458  1.00  0.00          FE  \nATOM    404   Fe MOL     1      12.956   1.141 514.456  1.00  0.00          FE  \nATOM    405   Fe MOL     1      12.160  -0.000 516.450  1.00  0.00          FE  \nATOM    406   Fe MOL     1      12.956   1.141  -0.000  1.00  0.00          FE  \nATOM    407   Fe MOL     1      12.160  -0.000   1.987  1.00  0.00          FE  \nATOM    408   Fe MOL     1      12.956   1.141   3.985  1.00  0.00          FE  \nATOM    409   Fe MOL     1      12.161  -0.000   5.996  1.00  0.00          FE  \nATOM    410   Fe MOL     1      12.957   1.141   8.002  1.00  0.00          FE  \nATOM    411   Fe MOL     1      11.320   2.282 508.441  1.00  0.00          FE  \nATOM    412   Fe MOL     1      12.116   3.423 510.447  1.00  0.00          FE  \nATOM    413   Fe MOL     1      11.320   2.282 512.459  1.00  0.00          FE  \nATOM    414   Fe MOL     1      12.116   3.423 514.456  1.00  0.00          FE  \nATOM    415   Fe MOL     1      11.320   2.282 516.450  1.00  0.00          FE  \nATOM    416   Fe MOL     1      12.116   3.423  -0.000  1.00  0.00          FE  \nATOM    417   Fe MOL     1      11.320   2.282   1.987  1.00  0.00          FE  \nATOM    418   Fe MOL     1      12.116   3.423   3.985  1.00  0.00          FE  \nATOM    419   Fe MOL     1      11.320   2.282   5.996  1.00  0.00          FE  \nATOM    420   Fe MOL     1      12.116   3.423   8.002  1.00  0.00          FE  \nATOM    421   Fe MOL     1      10.480   4.564 508.441  1.00  0.00          FE  \nATOM    422   Fe MOL     1      11.275   5.706 510.447  1.00  0.00          FE  \nATOM    423   Fe MOL     1      10.479   4.564 512.459  1.00  0.00          FE  \nATOM    424   Fe MOL     1      11.275   5.706 514.456  1.00  0.00          FE  \nATOM    425   Fe MOL     1      10.480   4.564 516.450  1.00  0.00          FE  \nATOM    426   Fe MOL     1      11.275   5.706  -0.000  1.00  0.00          FE  \nATOM    427   Fe MOL     1      10.480   4.565   1.987  1.00  0.00          FE  \nATOM    428   Fe MOL     1      11.275   5.706   3.985  1.00  0.00          FE  \nATOM    429   Fe MOL     1      10.479   4.564   5.996  1.00  0.00          FE  \nATOM    430   Fe MOL     1      11.275   5.706   8.002  1.00  0.00          FE  \nATOM    431   Fe MOL     1       9.639   6.847 508.441  1.00  0.00          FE  \nATOM    432   Fe MOL     1      10.435   7.988 510.447  1.00  0.00          FE  \nATOM    433   Fe MOL     1       9.639   6.847 512.458  1.00  0.00          FE  \nATOM    434   Fe MOL     1      10.435   7.988 514.456  1.00  0.00          FE  \nATOM    435   Fe MOL     1       9.639   6.847 516.450  1.00  0.00          FE  \nATOM    436   Fe MOL     1      10.435   7.988  -0.000  1.00  0.00          FE  \nATOM    437   Fe MOL     1       9.639   6.847   1.987  1.00  0.00          FE  \nATOM    438   Fe MOL     1      10.435   7.988   3.985  1.00  0.00          FE  \nATOM    439   Fe MOL     1       9.639   6.847   5.996  1.00  0.00          FE  \nATOM    440   Fe MOL     1      10.435   7.988   8.002  1.00  0.00          FE  \nATOM    441   Fe MOL     1       8.799   9.129 508.441  1.00  0.00          FE  \nATOM    442   Fe MOL     1       9.595  10.270 510.447  1.00  0.00          FE  \nATOM    443   Fe MOL     1       8.798   9.129 512.458  1.00  0.00          FE  \nATOM    444   Fe MOL     1       9.594  10.270 514.456  1.00  0.00          FE  \nATOM    445   Fe MOL     1       8.798   9.129 516.450  1.00  0.00          FE  \nATOM    446   Fe MOL     1       9.594  10.270  -0.000  1.00  0.00          FE  \nATOM    447   Fe MOL     1       8.799   9.129   1.987  1.00  0.00          FE  \nATOM    448   Fe MOL     1       9.595  10.270   3.985  1.00  0.00          FE  \nATOM    449   Fe MOL     1       8.799   9.129   5.996  1.00  0.00          FE  \nATOM    450   Fe MOL     1       9.594  10.270   8.002  1.00  0.00          FE  \nATOM    451   Fe MOL     1       7.958  11.411 508.441  1.00  0.00          FE  \nATOM    452   Fe MOL     1       8.754  12.552 510.447  1.00  0.00          FE  \nATOM    453   Fe MOL     1       7.958  11.411 512.458  1.00  0.00          FE  \nATOM    454   Fe MOL     1       8.754  12.552 514.456  1.00  0.00          FE  \nATOM    455   Fe MOL     1       7.958  11.411 516.450  1.00  0.00          FE  \nATOM    456   Fe MOL     1       8.754  12.552  -0.000  1.00  0.00          FE  \nATOM    457   Fe MOL     1       7.958  11.411   1.987  1.00  0.00          FE  \nATOM    458   Fe MOL     1       8.754  12.552   3.985  1.00  0.00          FE  \nATOM    459   Fe MOL     1       7.958  11.411   5.996  1.00  0.00          FE  \nATOM    460   Fe MOL     1       8.754  12.552   8.002  1.00  0.00          FE  \nATOM    461   Fe MOL     1       7.118  13.694 508.441  1.00  0.00          FE  \nATOM    462   Fe MOL     1       7.913  14.835 510.447  1.00  0.00          FE  \nATOM    463   Fe MOL     1       7.117  13.694 512.458  1.00  0.00          FE  \nATOM    464   Fe MOL     1       7.913  14.835 514.456  1.00  0.00          FE  \nATOM    465   Fe MOL     1       7.118  13.694 516.450  1.00  0.00          FE  \nATOM    466   Fe MOL     1       7.913  14.835  -0.000  1.00  0.00          FE  \nATOM    467   Fe MOL     1       7.118  13.694   1.987  1.00  0.00          FE  \nATOM    468   Fe MOL     1       7.913  14.835   3.985  1.00  0.00          FE  \nATOM    469   Fe MOL     1       7.117  13.693   5.996  1.00  0.00          FE  \nATOM    470   Fe MOL     1       7.914  14.834   8.001  1.00  0.00          FE  \nATOM    471   Fe MOL     1       6.277  15.976 508.441  1.00  0.00          FE  \nATOM    472   Fe MOL     1       7.073  17.117 510.446  1.00  0.00          FE  \nATOM    473   Fe MOL     1       6.277  15.976 512.458  1.00  0.00          FE  \nATOM    474   Fe MOL     1       7.073  17.117 514.456  1.00  0.00          FE  \nATOM    475   Fe MOL     1       6.277  15.976 516.450  1.00  0.00          FE  \nATOM    476   Fe MOL     1       7.073  17.117  -0.000  1.00  0.00          FE  \nATOM    477   Fe MOL     1       6.277  15.976   1.987  1.00  0.00          FE  \nATOM    478   Fe MOL     1       7.073  17.117   3.985  1.00  0.00          FE  \nATOM    479   Fe MOL     1       6.277  15.976   5.996  1.00  0.00          FE  \nATOM    480   Fe MOL     1       7.073  17.117   8.002  1.00  0.00          FE  \nATOM    481   Fe MOL     1      14.593   0.000 508.440  1.00  0.00          FE  \nATOM    482   Fe MOL     1      15.389   1.141 510.447  1.00  0.00          FE  \nATOM    483   Fe MOL     1      14.593   0.000 512.458  1.00  0.00          FE  \nATOM    484   Fe MOL     1      15.389   1.141 514.456  1.00  0.00          FE  \nATOM    485   Fe MOL     1      14.593   0.000 516.450  1.00  0.00          FE  \nATOM    486   Fe MOL     1      15.388   1.141  -0.000  1.00  0.00          FE  \nATOM    487   Fe MOL     1      14.593  -0.000   1.987  1.00  0.00          FE  \nATOM    488   Fe MOL     1      15.388   1.141   3.985  1.00  0.00          FE  \nATOM    489   Fe MOL     1      14.593   0.000   5.996  1.00  0.00          FE  \nATOM    490   Fe MOL     1      15.389   1.141   8.002  1.00  0.00          FE  \nATOM    491   Fe MOL     1      13.752   2.283 508.441  1.00  0.00          FE  \nATOM    492   Fe MOL     1      14.548   3.423 510.447  1.00  0.00          FE  \nATOM    493   Fe MOL     1      13.752   2.282 512.459  1.00  0.00          FE  \nATOM    494   Fe MOL     1      14.548   3.423 514.456  1.00  0.00          FE  \nATOM    495   Fe MOL     1      13.752   2.282 516.450  1.00  0.00          FE  \nATOM    496   Fe MOL     1      14.548   3.423  -0.000  1.00  0.00          FE  \nATOM    497   Fe MOL     1      13.752   2.282   1.987  1.00  0.00          FE  \nATOM    498   Fe MOL     1      14.548   3.423   3.985  1.00  0.00          FE  \nATOM    499   Fe MOL     1      13.752   2.282   5.996  1.00  0.00          FE  \nATOM    500   Fe MOL     1      14.548   3.423   8.002  1.00  0.00          FE  \nATOM    501   Fe MOL     1      12.912   4.565 508.441  1.00  0.00          FE  \nATOM    502   Fe MOL     1      13.707   5.706 510.447  1.00  0.00          FE  \nATOM    503   Fe MOL     1      12.911   4.564 512.458  1.00  0.00          FE  \nATOM    504   Fe MOL     1      13.707   5.706 514.456  1.00  0.00          FE  \nATOM    505   Fe MOL     1      12.912   4.565 516.450  1.00  0.00          FE  \nATOM    506   Fe MOL     1      13.707   5.706  -0.000  1.00  0.00          FE  \nATOM    507   Fe MOL     1      12.912   4.565   1.987  1.00  0.00          FE  \nATOM    508   Fe MOL     1      13.707   5.706   3.985  1.00  0.00          FE  \nATOM    509   Fe MOL     1      12.911   4.564   5.996  1.00  0.00          FE  \nATOM    510   Fe MOL     1      13.708   5.706   8.002  1.00  0.00          FE  \nATOM    511   Fe MOL     1      12.071   6.847 508.441  1.00  0.00          FE  \nATOM    512   Fe MOL     1      12.867   7.988 510.447  1.00  0.00          FE  \nATOM    513   Fe MOL     1      12.071   6.847 512.458  1.00  0.00          FE  \nATOM    514   Fe MOL     1      12.867   7.988 514.456  1.00  0.00          FE  \nATOM    515   Fe MOL     1      12.071   6.847 516.450  1.00  0.00          FE  \nATOM    516   Fe MOL     1      12.867   7.988  -0.000  1.00  0.00          FE  \nATOM    517   Fe MOL     1      12.071   6.847   1.987  1.00  0.00          FE  \nATOM    518   Fe MOL     1      12.867   7.988   3.985  1.00  0.00          FE  \nATOM    519   Fe MOL     1      12.071   6.847   5.996  1.00  0.00          FE  \nATOM    520   Fe MOL     1      12.867   7.988   8.002  1.00  0.00          FE  \nATOM    521   Fe MOL     1      11.231   9.129 508.440  1.00  0.00          FE  \nATOM    522   Fe MOL     1      12.027  10.270 510.447  1.00  0.00          FE  \nATOM    523   Fe MOL     1      11.231   9.129 512.458  1.00  0.00          FE  \nATOM    524   Fe MOL     1      12.026  10.270 514.456  1.00  0.00          FE  \nATOM    525   Fe MOL     1      11.231   9.129 516.450  1.00  0.00          FE  \nATOM    526   Fe MOL     1      12.026  10.270  -0.000  1.00  0.00          FE  \nATOM    527   Fe MOL     1      11.231   9.129   1.987  1.00  0.00          FE  \nATOM    528   Fe MOL     1      12.027  10.270   3.985  1.00  0.00          FE  \nATOM    529   Fe MOL     1      11.231   9.129   5.996  1.00  0.00          FE  \nATOM    530   Fe MOL     1      12.026  10.270   8.002  1.00  0.00          FE  \nATOM    531   Fe MOL     1      10.390  11.411 508.441  1.00  0.00          FE  \nATOM    532   Fe MOL     1      11.186  12.552 510.447  1.00  0.00          FE  \nATOM    533   Fe MOL     1      10.390  11.411 512.458  1.00  0.00          FE  \nATOM    534   Fe MOL     1      11.186  12.553 514.456  1.00  0.00          FE  \nATOM    535   Fe MOL     1      10.390  11.411 516.450  1.00  0.00          FE  \nATOM    536   Fe MOL     1      11.186  12.552  -0.000  1.00  0.00          FE  \nATOM    537   Fe MOL     1      10.390  11.411   1.987  1.00  0.00          FE  \nATOM    538   Fe MOL     1      11.186  12.553   3.985  1.00  0.00          FE  \nATOM    539   Fe MOL     1      10.390  11.411   5.996  1.00  0.00          FE  \nATOM    540   Fe MOL     1      11.186  12.552   8.002  1.00  0.00          FE  \nATOM    541   Fe MOL     1       9.550  13.693 508.442  1.00  0.00          FE  \nATOM    542   Fe MOL     1      10.345  14.834 510.447  1.00  0.00          FE  \nATOM    543   Fe MOL     1       9.549  13.693 512.459  1.00  0.00          FE  \nATOM    544   Fe MOL     1      10.345  14.835 514.456  1.00  0.00          FE  \nATOM    545   Fe MOL     1       9.550  13.694 516.450  1.00  0.00          FE  \nATOM    546   Fe MOL     1      10.346  14.835  -0.000  1.00  0.00          FE  \nATOM    547   Fe MOL     1       9.550  13.694   1.987  1.00  0.00          FE  \nATOM    548   Fe MOL     1      10.345  14.835   3.985  1.00  0.00          FE  \nATOM    549   Fe MOL     1       9.550  13.694   5.996  1.00  0.00          FE  \nATOM    550   Fe MOL     1      10.346  14.835   8.003  1.00  0.00          FE  \nATOM    551   Fe MOL     1       8.709  15.975 508.441  1.00  0.00          FE  \nATOM    552   Fe MOL     1       9.505  17.117 510.447  1.00  0.00          FE  \nATOM    553   Fe MOL     1       8.709  15.976 512.458  1.00  0.00          FE  \nATOM    554   Fe MOL     1       9.505  17.117 514.456  1.00  0.00          FE  \nATOM    555   Fe MOL     1       8.709  15.976 516.450  1.00  0.00          FE  \nATOM    556   Fe MOL     1       9.505  17.117  -0.000  1.00  0.00          FE  \nATOM    557   Fe MOL     1       8.709  15.976   1.987  1.00  0.00          FE  \nATOM    558   Fe MOL     1       9.505  17.117   3.985  1.00  0.00          FE  \nATOM    559   Fe MOL     1       8.709  15.976   5.996  1.00  0.00          FE  \nATOM    560   Fe MOL     1       9.506  17.117   8.002  1.00  0.00          FE  \nATOM    561   Fe MOL     1      17.025  -0.000 508.441  1.00  0.00          FE  \nATOM    562   Fe MOL     1      17.821   1.141 510.447  1.00  0.00          FE  \nATOM    563   Fe MOL     1      17.025  -0.000 512.458  1.00  0.00          FE  \nATOM    564   Fe MOL     1      17.821   1.141 514.456  1.00  0.00          FE  \nATOM    565   Fe MOL     1      17.025  -0.000 516.450  1.00  0.00          FE  \nATOM    566   Fe MOL     1      17.820   1.141  -0.000  1.00  0.00          FE  \nATOM    567   Fe MOL     1      17.025  -0.000   1.987  1.00  0.00          FE  \nATOM    568   Fe MOL     1      17.821   1.141   3.985  1.00  0.00          FE  \nATOM    569   Fe MOL     1      17.025   0.000   5.996  1.00  0.00          FE  \nATOM    570   Fe MOL     1      17.821   1.141   8.002  1.00  0.00          FE  \nATOM    571   Fe MOL     1      16.184   2.282 508.441  1.00  0.00          FE  \nATOM    572   Fe MOL     1      16.980   3.423 510.447  1.00  0.00          FE  \nATOM    573   Fe MOL     1      16.184   2.282 512.458  1.00  0.00          FE  \nATOM    574   Fe MOL     1      16.980   3.423 514.456  1.00  0.00          FE  \nATOM    575   Fe MOL     1      16.184   2.282 516.450  1.00  0.00          FE  \nATOM    576   Fe MOL     1      16.980   3.423  -0.000  1.00  0.00          FE  \nATOM    577   Fe MOL     1      16.184   2.282   1.987  1.00  0.00          FE  \nATOM    578   Fe MOL     1      16.980   3.423   3.985  1.00  0.00          FE  \nATOM    579   Fe MOL     1      16.184   2.282   5.996  1.00  0.00          FE  \nATOM    580   Fe MOL     1      16.980   3.423   8.002  1.00  0.00          FE  \nATOM    581   Fe MOL     1      15.344   4.565 508.441  1.00  0.00          FE  \nATOM    582   Fe MOL     1      16.139   5.706 510.447  1.00  0.00          FE  \nATOM    583   Fe MOL     1      15.344   4.564 512.458  1.00  0.00          FE  \nATOM    584   Fe MOL     1      16.139   5.706 514.456  1.00  0.00          FE  \nATOM    585   Fe MOL     1      15.344   4.565 516.450  1.00  0.00          FE  \nATOM    586   Fe MOL     1      16.140   5.706  -0.000  1.00  0.00          FE  \nATOM    587   Fe MOL     1      15.344   4.565   1.987  1.00  0.00          FE  \nATOM    588   Fe MOL     1      16.139   5.706   3.985  1.00  0.00          FE  \nATOM    589   Fe MOL     1      15.343   4.564   5.996  1.00  0.00          FE  \nATOM    590   Fe MOL     1      16.140   5.706   8.002  1.00  0.00          FE  \nATOM    591   Fe MOL     1      14.503   6.847 508.440  1.00  0.00          FE  \nATOM    592   Fe MOL     1      15.299   7.988 510.447  1.00  0.00          FE  \nATOM    593   Fe MOL     1      14.503   6.847 512.458  1.00  0.00          FE  \nATOM    594   Fe MOL     1      15.299   7.988 514.456  1.00  0.00          FE  \nATOM    595   Fe MOL     1      14.503   6.847 516.450  1.00  0.00          FE  \nATOM    596   Fe MOL     1      15.299   7.988  -0.000  1.00  0.00          FE  \nATOM    597   Fe MOL     1      14.503   6.847   1.987  1.00  0.00          FE  \nATOM    598   Fe MOL     1      15.299   7.988   3.985  1.00  0.00          FE  \nATOM    599   Fe MOL     1      14.503   6.847   5.996  1.00  0.00          FE  \nATOM    600   Fe MOL     1      15.299   7.988   8.002  1.00  0.00          FE  \nATOM    601   Fe MOL     1      13.663   9.130 508.441  1.00  0.00          FE  \nATOM    602   Fe MOL     1      14.459  10.270 510.447  1.00  0.00          FE  \nATOM    603   Fe MOL     1      13.663   9.129 512.458  1.00  0.00          FE  \nATOM    604   Fe MOL     1      14.459  10.270 514.456  1.00  0.00          FE  \nATOM    605   Fe MOL     1      13.663   9.129 516.450  1.00  0.00          FE  \nATOM    606   Fe MOL     1      14.459  10.270  -0.000  1.00  0.00          FE  \nATOM    607   Fe MOL     1      13.663   9.129   1.987  1.00  0.00          FE  \nATOM    608   Fe MOL     1      14.459  10.270   3.985  1.00  0.00          FE  \nATOM    609   Fe MOL     1      13.663   9.129   5.996  1.00  0.00          FE  \nATOM    610   Fe MOL     1      14.459  10.270   8.002  1.00  0.00          FE  \nATOM    611   Fe MOL     1      12.822  11.411 508.441  1.00  0.00          FE  \nATOM    612   Fe MOL     1      13.618  12.552 510.447  1.00  0.00          FE  \nATOM    613   Fe MOL     1      12.822  11.411 512.458  1.00  0.00          FE  \nATOM    614   Fe MOL     1      13.618  12.553 514.456  1.00  0.00          FE  \nATOM    615   Fe MOL     1      12.822  11.411 516.450  1.00  0.00          FE  \nATOM    616   Fe MOL     1      13.618  12.552  -0.000  1.00  0.00          FE  \nATOM    617   Fe MOL     1      12.822  11.411   1.987  1.00  0.00          FE  \nATOM    618   Fe MOL     1      13.618  12.553   3.985  1.00  0.00          FE  \nATOM    619   Fe MOL     1      12.822  11.411   5.996  1.00  0.00          FE  \nATOM    620   Fe MOL     1      13.618  12.553   8.002  1.00  0.00          FE  \nATOM    621   Fe MOL     1      11.982  13.693 508.440  1.00  0.00          FE  \nATOM    622   Fe MOL     1      12.777  14.834 510.447  1.00  0.00          FE  \nATOM    623   Fe MOL     1      11.982  13.693 512.458  1.00  0.00          FE  \nATOM    624   Fe MOL     1      12.777  14.835 514.456  1.00  0.00          FE  \nATOM    625   Fe MOL     1      11.982  13.694 516.450  1.00  0.00          FE  \nATOM    626   Fe MOL     1      12.778  14.835  -0.000  1.00  0.00          FE  \nATOM    627   Fe MOL     1      11.982  13.694   1.987  1.00  0.00          FE  \nATOM    628   Fe MOL     1      12.777  14.835   3.985  1.00  0.00          FE  \nATOM    629   Fe MOL     1      11.982  13.694   5.996  1.00  0.00          FE  \nATOM    630   Fe MOL     1      12.778  14.835   8.002  1.00  0.00          FE  \nATOM    631   Fe MOL     1      11.141  15.976 508.441  1.00  0.00          FE  \nATOM    632   Fe MOL     1      11.937  17.117 510.447  1.00  0.00          FE  \nATOM    633   Fe MOL     1      11.141  15.975 512.458  1.00  0.00          FE  \nATOM    634   Fe MOL     1      11.937  17.117 514.456  1.00  0.00          FE  \nATOM    635   Fe MOL     1      11.141  15.976 516.450  1.00  0.00          FE  \nATOM    636   Fe MOL     1      11.937  17.117  -0.000  1.00  0.00          FE  \nATOM    637   Fe MOL     1      11.141  15.976   1.987  1.00  0.00          FE  \nATOM    638   Fe MOL     1      11.937  17.117   3.985  1.00  0.00          FE  \nATOM    639   Fe MOL     1      11.141  15.976   5.996  1.00  0.00          FE  \nATOM    640   Fe MOL     1      11.938  17.117   8.002  1.00  0.00          FE  \nENDMDL\n",
           "type": "blob"
          }
         ],
         "kwargs": {
          "defaultRepresentation": false,
          "ext": "pdb"
         },
         "methodName": "loadFile",
         "reconstruc_color_scheme": false,
         "target": "Stage",
         "type": "call_method"
        },
        {
         "args": [
          "500px",
          "500px"
         ],
         "kwargs": {},
         "methodName": "setSize",
         "reconstruc_color_scheme": false,
         "target": "Widget",
         "type": "call_method"
        },
        {
         "args": [
          "unitcell"
         ],
         "component_index": 0,
         "kwargs": {
          "sele": "all"
         },
         "methodName": "addRepresentation",
         "reconstruc_color_scheme": false,
         "target": "compList",
         "type": "call_method"
        },
        {
         "args": [
          "spacefill"
         ],
         "component_index": 0,
         "kwargs": {
          "sele": "all"
         },
         "methodName": "addRepresentation",
         "reconstruc_color_scheme": false,
         "target": "compList",
         "type": "call_method"
        },
        {
         "args": [],
         "kwargs": {
          "cameraType": "orthographic"
         },
         "methodName": "setParameters",
         "reconstruc_color_scheme": false,
         "target": "Stage",
         "type": "call_method"
        },
        {
         "args": [
          {
           "clipDist": 0
          }
         ],
         "kwargs": {},
         "methodName": "setParameters",
         "reconstruc_color_scheme": false,
         "target": "Widget",
         "type": "call_method"
        },
        {
         "args": [
          "spacefill",
          0
         ],
         "kwargs": {
          "colorScale": "rainbow",
          "colorScheme": "element",
          "radiusScale": 0.5,
          "radiusType": "covalent"
         },
         "methodName": "updateRepresentationsByName",
         "reconstruc_color_scheme": false,
         "target": "Widget",
         "type": "call_method"
        },
        {
         "args": [
          "this._Q = [[0.999978815397708, -0.006509128650935866, -4.6030954535128585e-08], [0.006509128650935745, 0.999978815397709, -2.788189858620802e-09], [4.6048128074156687e-08, 2.4885093869330063e-09, 0.9999999999999989]]\n    var tooltip = document.createElement('div');\n    Object.assign(tooltip.style, {\n      display: 'none',\n      position: 'fixed',\n      zIndex: 10,\n      pointerEvents: 'none',\n      backgroundColor: 'rgba( 0, 0, 0, 0.6 )',\n      color: 'lightgrey',\n      padding: '8px',\n      fontFamily: 'sans-serif'\n    });\n    document.body.appendChild(tooltip);\n\n    var that = this;\n    this.stage.mouseControls.remove('hoverPick');\n    this.stage.signals.hovered.add(function (pickingProxy) {\n      if (pickingProxy && (pickingProxy.atom || pickingProxy.bond)) {\n        var atom = pickingProxy.atom || pickingProxy.closestBondAtom\n        var mp = pickingProxy.mouse.position\n        //tooltip.innerText = atom.element + ' i=' + atom.index + ' (' + atom.x.toFixed(2) +  ', ' + atom.y.toFixed(2) +  ', ' + atom.z.toFixed(2) + ')'\n        //var pos = that._atoms_pos[atom.index]\n        var Q = that._Q\n        var pos_x = Q[0][0] * atom.x + Q[0][1] * atom.y + Q[0][2] * atom.z \n        var pos_y = Q[1][0] * atom.x + Q[1][1] * atom.y + Q[1][2] * atom.z\n        var pos_z = Q[2][0] * atom.x + Q[2][1] * atom.y + Q[2][2] * atom.z\n        tooltip.innerText = 'i=' + atom.index + ' ' + atom.element + ' (' + pos_x.toFixed(2) +  ', ' + pos_y.toFixed(2) +  ', ' + pos_z.toFixed(2) + ')'\n        tooltip.style.bottom = window.innerHeight - mp.y + 3 + 'px'\n        tooltip.style.left = mp.x + 3 + 'px'\n        tooltip.style.display = 'block'\n      } else {\n        tooltip.style.display = 'none'\n      }\n    });\n    this.stage.tooltip = tooltip;\n    "
         ],
         "kwargs": {},
         "methodName": "executeCode",
         "reconstruc_color_scheme": false,
         "target": "Widget",
         "type": "call_method"
        },
        {
         "args": [
          "ball+stick"
         ],
         "component_index": 0,
         "kwargs": {
          "sele": "all"
         },
         "methodName": "addRepresentation",
         "reconstruc_color_scheme": false,
         "target": "compList",
         "type": "call_method"
        },
        {
         "args": [
          [
           1,
           0,
           0
          ],
          -1.5707963267948966
         ],
         "kwargs": {},
         "methodName": "spin",
         "reconstruc_color_scheme": false,
         "target": "viewerControls",
         "type": "call_method"
        }
       ],
       "_ngl_original_stage_parameters": {
        "ambientColor": 14540253,
        "ambientIntensity": 0.2,
        "backgroundColor": "white",
        "cameraEyeSep": 0.3,
        "cameraFov": 40,
        "cameraType": "perspective",
        "clipDist": 10,
        "clipFar": 100,
        "clipMode": "scene",
        "clipNear": 0,
        "clipScale": "relative",
        "fogFar": 100,
        "fogNear": 50,
        "hoverTimeout": 0,
        "impostor": true,
        "lightColor": 14540253,
        "lightIntensity": 1,
        "mousePreset": "default",
        "panSpeed": 1,
        "quality": "medium",
        "rotateSpeed": 2,
        "sampleLevel": 0,
        "tooltip": true,
        "workerDefault": true,
        "zoomSpeed": 1.2
       },
       "_ngl_repr_dict": {},
       "_ngl_serialize": false,
       "_ngl_version": "2.0.0-dev.39",
       "_ngl_view_id": [
        "C00268E5-32C1-4794-AB5C-B2611D5196DA"
       ],
       "_player_dict": {},
       "_scene_position": {},
       "_scene_rotation": {},
       "_synced_model_ids": [],
       "_synced_repr_model_ids": [],
       "_view_height": "",
       "_view_width": "",
       "background": "white",
       "frame": 0,
       "gui_style": null,
       "layout": "IPY_MODEL_a6788fbf90e34ad5b041dc0d7244cbd4",
       "max_frame": 0,
       "n_components": 0,
       "picked": {}
      }
     },
     "1ede3d0699c844a09e76c8843961e307": {
      "model_module": "@jupyter-widgets/controls",
      "model_module_version": "2.0.0",
      "model_name": "SliderStyleModel",
      "state": {
       "description_width": ""
      }
     },
     "2060231ae7b94bc8a20e2670056671d6": {
      "model_module": "@jupyter-widgets/controls",
      "model_module_version": "2.0.0",
      "model_name": "PlayModel",
      "state": {
       "layout": "IPY_MODEL_f702ba23183c4279ba33f5ac508e7ead",
       "max": 0,
       "style": "IPY_MODEL_8ef9d44a19dd44ca8acf9861f3b9111d"
      }
     },
     "20c140f48b6d4ffca2e2a7c22c5daa52": {
      "model_module": "@jupyter-widgets/base",
      "model_module_version": "2.0.0",
      "model_name": "LayoutModel",
      "state": {}
     },
     "218ae7ef54714044bce195c745ddceed": {
      "model_module": "@jupyter-widgets/controls",
      "model_module_version": "2.0.0",
      "model_name": "CheckboxStyleModel",
      "state": {
       "description_width": ""
      }
     },
     "21e646be174b47a0a750273e95486d1b": {
      "model_module": "@jupyter-widgets/controls",
      "model_module_version": "2.0.0",
      "model_name": "TextModel",
      "state": {
       "description": "Filename: ",
       "layout": "IPY_MODEL_ce65d5957585463a8917ced5b14c67d5",
       "style": "IPY_MODEL_f10300d9792243b5864a6fc5a57334c4",
       "value": "screenshot.png"
      }
     },
     "222762fc68154b169fc89fc976728fea": {
      "model_module": "@jupyter-widgets/base",
      "model_module_version": "2.0.0",
      "model_name": "LayoutModel",
      "state": {}
     },
     "23212b8f88054b1a890143bbe3a867d8": {
      "model_module": "@jupyter-widgets/controls",
      "model_module_version": "2.0.0",
      "model_name": "ButtonModel",
      "state": {
       "icon": "compress",
       "layout": "IPY_MODEL_deada1afc0d74e0ea546e11c3c4041a3",
       "style": "IPY_MODEL_8a65d2470f2c4326812137a7678e53ad",
       "tooltip": null
      }
     },
     "2391c549f3534372ab3ff5abf5d01c00": {
      "model_module": "@jupyter-widgets/base",
      "model_module_version": "2.0.0",
      "model_name": "LayoutModel",
      "state": {}
     },
     "25423cb1b907476fadd09b411b7c5703": {
      "model_module": "@jupyter-widgets/controls",
      "model_module_version": "2.0.0",
      "model_name": "HBoxModel",
      "state": {
       "children": [
        "IPY_MODEL_1e646d182162411dbc4cc02dff36165e",
        "IPY_MODEL_5274a779cfeb41ebb23115062f58feea"
       ],
       "layout": "IPY_MODEL_bcbb5ffe935a4413b6e0cd0ad8369d16"
      }
     },
     "265206248da94389b61289affce9ad22": {
      "model_module": "@jupyter-widgets/base",
      "model_module_version": "2.0.0",
      "model_name": "LayoutModel",
      "state": {}
     },
     "26739d0eb46d4e1e9422438db5c95082": {
      "model_module": "@jupyter-widgets/controls",
      "model_module_version": "2.0.0",
      "model_name": "CheckboxStyleModel",
      "state": {
       "description_width": ""
      }
     },
     "28cac76d3dc9430b8ced3057f4da7873": {
      "model_module": "@jupyter-widgets/base",
      "model_module_version": "2.0.0",
      "model_name": "LayoutModel",
      "state": {}
     },
     "2975aeedeed14acda62dbc8ec408687c": {
      "model_module": "@jupyter-widgets/controls",
      "model_module_version": "2.0.0",
      "model_name": "HTMLModel",
      "state": {
       "layout": "IPY_MODEL_a882312733fb4083a89a8219440ebbbc",
       "style": "IPY_MODEL_8a8ce0895e3246459660efb28a3d2a68",
       "value": "100%"
      }
     },
     "2ac77d429ec24a8abc123bfe6ec04ca2": {
      "model_module": "@jupyter-widgets/controls",
      "model_module_version": "2.0.0",
      "model_name": "FloatSliderModel",
      "state": {
       "behavior": "drag-tap",
       "description": "Charge scale",
       "layout": "IPY_MODEL_4ecc872d03fb47efbd6fbe4a14414f4e",
       "step": 0.1,
       "style": "IPY_MODEL_d4f17407b69c4da984d99e76d840f784",
       "value": 1
      }
     },
     "2e3f1a6d91d3469ea486d55164e49f8e": {
      "model_module": "@jupyter-widgets/base",
      "model_module_version": "2.0.0",
      "model_name": "LayoutModel",
      "state": {}
     },
     "3022460ffb284d6682de697c24aa94f2": {
      "model_module": "@jupyter-widgets/base",
      "model_module_version": "2.0.0",
      "model_name": "LayoutModel",
      "state": {}
     },
     "3087b4b05b534c48b2be33aefe6be348": {
      "model_module": "@jupyter-widgets/controls",
      "model_module_version": "2.0.0",
      "model_name": "DescriptionStyleModel",
      "state": {
       "description_width": ""
      }
     },
     "34cda73f11924ab7a13cc2c8712216ca": {
      "model_module": "@jupyter-widgets/base",
      "model_module_version": "2.0.0",
      "model_name": "LayoutModel",
      "state": {}
     },
     "35045515e0cf494180eb968507e29779": {
      "model_module": "@jupyter-widgets/base",
      "model_module_version": "2.0.0",
      "model_name": "LayoutModel",
      "state": {}
     },
     "35fdb2865536426e93aaf2f171e3d6bb": {
      "model_module": "@jupyter-widgets/controls",
      "model_module_version": "2.0.0",
      "model_name": "HBoxModel",
      "state": {
       "children": [
        "IPY_MODEL_fa58f8667d904302abf2f04b9918621a",
        "IPY_MODEL_745e9a45fd6f4433817745a490dcf5b9"
       ],
       "layout": "IPY_MODEL_447eead729874913b37330832d80f384"
      }
     },
     "39678d8bd40948a2ae3fbf3ca66b7fff": {
      "model_module": "@jupyter-widgets/base",
      "model_module_version": "2.0.0",
      "model_name": "LayoutModel",
      "state": {}
     },
     "4170c86978b6497fb37599c5c152fa13": {
      "model_module": "@jupyter-widgets/base",
      "model_module_version": "2.0.0",
      "model_name": "LayoutModel",
      "state": {}
     },
     "43ff62368f054beebd8e753b823db13f": {
      "model_module": "@jupyter-widgets/controls",
      "model_module_version": "2.0.0",
      "model_name": "ButtonModel",
      "state": {
       "icon": "compress",
       "layout": "IPY_MODEL_adeff5c3069d46cfa9302522c0b9d322",
       "style": "IPY_MODEL_68c31eb7dcbc4e3e8af714e72428e98b",
       "tooltip": null
      }
     },
     "447eead729874913b37330832d80f384": {
      "model_module": "@jupyter-widgets/base",
      "model_module_version": "2.0.0",
      "model_name": "LayoutModel",
      "state": {}
     },
     "448008209b3c4c5f9524ae09697ae0f2": {
      "model_module": "@jupyter-widgets/controls",
      "model_module_version": "2.0.0",
      "model_name": "HBoxModel",
      "state": {
       "children": [
        "IPY_MODEL_aac61809cda24aa9b58502d15a9b01f5",
        "IPY_MODEL_09e47b6a897146709cd37879d5531194"
       ],
       "layout": "IPY_MODEL_a3c7c8746a004eca98a7588eee2c478b"
      }
     },
     "456844b4c0c64d1abfc30ec5aeef56a3": {
      "model_module": "@jupyter-widgets/controls",
      "model_module_version": "2.0.0",
      "model_name": "ImageModel",
      "state": {
       "layout": "IPY_MODEL_cd56d11a719f4452a65f0ef8a2d0dcfa",
       "width": "900.0"
      }
     },
     "45c35aec1c2b46088efa78f9b6d29d88": {
      "model_module": "@jupyter-widgets/base",
      "model_module_version": "2.0.0",
      "model_name": "LayoutModel",
      "state": {}
     },
     "46836f62aefc42f3b2f3bedde2093814": {
      "model_module": "@jupyter-widgets/controls",
      "model_module_version": "2.0.0",
      "model_name": "DescriptionStyleModel",
      "state": {
       "description_width": ""
      }
     },
     "472b93c45bb94d0a969a34aa632e5c65": {
      "model_module": "@jupyter-widgets/controls",
      "model_module_version": "2.0.0",
      "model_name": "HBoxModel",
      "state": {
       "children": [
        "IPY_MODEL_2060231ae7b94bc8a20e2670056671d6",
        "IPY_MODEL_9c2176bb0398430c9291c6bf6adad553"
       ],
       "layout": "IPY_MODEL_697a86b56ae3482c9f9bb643cd390517"
      }
     },
     "49205811ff574811ac8b7cd5af1d9c9f": {
      "model_module": "@jupyter-widgets/controls",
      "model_module_version": "2.0.0",
      "model_name": "ButtonStyleModel",
      "state": {
       "font_family": null,
       "font_size": null,
       "font_style": null,
       "font_variant": null,
       "font_weight": null,
       "text_color": null,
       "text_decoration": null
      }
     },
     "4bdf40f524ce4516babd59de6dd1c686": {
      "model_module": "@jupyter-widgets/controls",
      "model_module_version": "2.0.0",
      "model_name": "ButtonModel",
      "state": {
       "description": "Download image",
       "layout": "IPY_MODEL_8de3f6394188416e9e88b41764e4e5ff",
       "style": "IPY_MODEL_984a72003a18471facbdc5d7bf3fb374",
       "tooltip": "Download current frame to your local PC"
      }
     },
     "4dce678ded4c4bd787482e9dea59a6d6": {
      "model_module": "@jupyter-widgets/base",
      "model_module_version": "2.0.0",
      "model_name": "LayoutModel",
      "state": {}
     },
     "4ecc872d03fb47efbd6fbe4a14414f4e": {
      "model_module": "@jupyter-widgets/base",
      "model_module_version": "2.0.0",
      "model_name": "LayoutModel",
      "state": {}
     },
     "5274a779cfeb41ebb23115062f58feea": {
      "model_module": "@jupyter-widgets/controls",
      "model_module_version": "2.0.0",
      "model_name": "VBoxModel",
      "state": {
       "children": [
        "IPY_MODEL_10ca93f2d07c4cfc8743aefc0cc2d9c3",
        "IPY_MODEL_53ee3b0b994e40388302080ef6168e53",
        "IPY_MODEL_6615cbc454a24db1a625d2bd5c79f16b",
        "IPY_MODEL_70c9b5c02dba4aec81abe216f76772e9",
        "IPY_MODEL_77eb9afa337f40339801420c25c11697",
        "IPY_MODEL_c927c72d3b334fde9047f60cd308cf97",
        "IPY_MODEL_e426a31b3f244b98bb317244b307cfd0",
        "IPY_MODEL_acd4e68f6a0141bf8b6cc715b1a8c11d",
        "IPY_MODEL_2ac77d429ec24a8abc123bfe6ec04ca2",
        "IPY_MODEL_a7646026cc324c568072c65e3415ee57"
       ],
       "layout": "IPY_MODEL_84ad9b2ac7d944bfb0f3ef2f8dec0a33"
      }
     },
     "53ee3b0b994e40388302080ef6168e53": {
      "model_module": "@jupyter-widgets/controls",
      "model_module_version": "2.0.0",
      "model_name": "DropdownModel",
      "state": {
       "_options_labels": [
        " ",
        "picking",
        "random",
        "uniform",
        "atomindex",
        "residueindex",
        "chainindex",
        "modelindex",
        "sstruc",
        "element",
        "resname",
        "bfactor",
        "hydrophobicity",
        "value",
        "volume",
        "occupancy"
       ],
       "description": "Color scheme",
       "index": 9,
       "layout": "IPY_MODEL_6e02591f61824a3b8ccf3084fe43aeed",
       "style": "IPY_MODEL_1c39964d29b74e3484ad110d816edc47"
      }
     },
     "551ab0b9ff65460883ad8a630d5bfb38": {
      "model_module": "@jupyter-widgets/controls",
      "model_module_version": "2.0.0",
      "model_name": "HTMLModel",
      "state": {
       "layout": "IPY_MODEL_ce72875be4c4410c946d8d542ba78ece",
       "style": "IPY_MODEL_d08ff0762ccd4c43b3aef4f83fc51b01",
       "value": " 10001/10001 [00:17&lt;00:00,  4.56it/s]"
      }
     },
     "575c7a577676473cbe6785eb0dff343e": {
      "model_module": "nglview-js-widgets",
      "model_module_version": "3.0.6",
      "model_name": "NGLModel",
      "state": {
       "_camera_orientation": [],
       "_camera_str": "orthographic",
       "_gui_theme": null,
       "_ibtn_fullscreen": "IPY_MODEL_82d04f39d9cf42539f3b1c19c081f361",
       "_igui": null,
       "_iplayer": "IPY_MODEL_472b93c45bb94d0a969a34aa632e5c65",
       "_ngl_color_dict": {},
       "_ngl_coordinate_resource": {},
       "_ngl_full_stage_parameters": {
        "ambientColor": 14540253,
        "ambientIntensity": 0.2,
        "backgroundColor": "white",
        "cameraEyeSep": 0.3,
        "cameraFov": 40,
        "cameraType": "perspective",
        "clipDist": 10,
        "clipFar": 100,
        "clipMode": "scene",
        "clipNear": 0,
        "clipScale": "relative",
        "fogFar": 100,
        "fogNear": 50,
        "hoverTimeout": 0,
        "impostor": true,
        "lightColor": 14540253,
        "lightIntensity": 1,
        "mousePreset": "default",
        "panSpeed": 1,
        "quality": "medium",
        "rotateSpeed": 2,
        "sampleLevel": 0,
        "tooltip": true,
        "workerDefault": true,
        "zoomSpeed": 1.2
       },
       "_ngl_msg_archive": [
        {
         "args": [
          {
           "binary": false,
           "data": "MODEL     1\nATOM      1    O MOL     1     -15.897   2.331   2.369  1.00  0.00           O  \nATOM      2    C MOL     1     -15.891   1.905   3.738  1.00  0.00           C  \nATOM      3    C MOL     1     -15.890   0.388   3.793  1.00  0.00           C  \nATOM      4    O MOL     1     -14.652  -0.209   3.422  1.00  0.00           O  \nATOM      5    C MOL     1     -14.522  -0.495   2.028  1.00  0.00           C  \nATOM      6    C MOL     1     -13.189  -1.203   1.848  1.00  0.00           C  \nATOM      7    O MOL     1     -13.044  -1.484   0.461  1.00  0.00           O  \nATOM      8    C MOL     1     -11.891  -2.253   0.149  1.00  0.00           C  \nATOM      9    C MOL     1     -10.578  -1.491   0.220  1.00  0.00           C  \nATOM     10    O MOL     1     -10.554  -0.499  -0.795  1.00  0.00           O  \nATOM     11    C MOL     1      -9.395   0.318  -0.730  1.00  0.00           C  \nATOM     12    C MOL     1      -9.517   1.370  -1.828  1.00  0.00           C  \nATOM     13    O MOL     1      -8.448   2.308  -1.811  1.00  0.00           O  \nATOM     14    C MOL     1      -7.217   1.840  -2.365  1.00  0.00           C  \nATOM     15    C MOL     1      -6.140   1.772  -1.288  1.00  0.00           C  \nATOM     16    O MOL     1      -4.915   1.447  -1.938  1.00  0.00           O  \nATOM     17    C MOL     1      -3.793   1.361  -1.060  1.00  0.00           C  \nATOM     18    C MOL     1      -3.702  -0.016  -0.391  1.00  0.00           C  \nATOM     19    O MOL     1      -2.543  -0.112   0.439  1.00  0.00           O  \nATOM     20    C MOL     1      -1.486  -0.902  -0.093  1.00  0.00           C  \nATOM     21    C MOL     1      -0.818  -0.347  -1.351  1.00  0.00           C  \nATOM     22    O MOL     1      -0.336   0.989  -1.243  1.00  0.00           O  \nATOM     23    C MOL     1       0.652   1.212  -0.242  1.00  0.00           C  \nATOM     24    C MOL     1       1.924   0.374  -0.393  1.00  0.00           C  \nATOM     25    O MOL     1       2.507   0.408  -1.689  1.00  0.00           O  \nATOM     26    C MOL     1       3.017   1.686  -2.056  1.00  0.00           C  \nATOM     27    C MOL     1       3.753   1.578  -3.379  1.00  0.00           C  \nATOM     28    O MOL     1       4.962   0.831  -3.296  1.00  0.00           O  \nATOM     29    C MOL     1       4.830  -0.545  -3.656  1.00  0.00           C  \nATOM     30    C MOL     1       6.178  -1.204  -3.383  1.00  0.00           C  \nATOM     31    O MOL     1       6.212  -2.544  -3.882  1.00  0.00           O  \nATOM     32    C MOL     1       5.678  -3.537  -3.007  1.00  0.00           C  \nATOM     33    C MOL     1       6.716  -4.121  -2.065  1.00  0.00           C  \nATOM     34    O MOL     1       6.954  -3.209  -0.991  1.00  0.00           O  \nATOM     35    C MOL     1       8.201  -3.395  -0.328  1.00  0.00           C  \nATOM     36    C MOL     1       9.295  -2.530  -0.970  1.00  0.00           C  \nATOM     37    O MOL     1      10.552  -2.698  -0.312  1.00  0.00           O  \nATOM     38    C MOL     1      10.711  -1.907   0.867  1.00  0.00           C  \nATOM     39    C MOL     1      11.314  -0.532   0.549  1.00  0.00           C  \nATOM     40    O MOL     1      11.425   0.274   1.720  1.00  0.00           O  \nATOM     41    C MOL     1      12.583  -0.005   2.499  1.00  0.00           C  \nATOM     42    C MOL     1      12.542   0.830   3.768  1.00  0.00           C  \nATOM     43    O MOL     1      12.717   2.229   3.557  1.00  0.00           O  \nATOM     44    C MOL     1      14.077   2.637   3.429  1.00  0.00           C  \nATOM     45    C MOL     1      14.723   2.841   4.797  1.00  0.00           C  \nATOM     46    H MOL     1     -15.772   3.294   2.346  1.00  0.00           H  \nATOM     47    H MOL     1     -14.998   2.283   4.268  1.00  0.00           H  \nATOM     48    H MOL     1     -16.792   2.269   4.268  1.00  0.00           H  \nATOM     49    H MOL     1     -16.076   0.084   4.835  1.00  0.00           H  \nATOM     50    H MOL     1     -16.714  -0.006   3.169  1.00  0.00           H  \nATOM     51    H MOL     1     -14.547   0.426   1.424  1.00  0.00           H  \nATOM     52    H MOL     1     -15.346  -1.152   1.692  1.00  0.00           H  \nATOM     53    H MOL     1     -12.379  -0.550   2.222  1.00  0.00           H  \nATOM     54    H MOL     1     -13.171  -2.139   2.440  1.00  0.00           H  \nATOM     55    H MOL     1     -11.820  -3.132   0.821  1.00  0.00           H  \nATOM     56    H MOL     1     -12.043  -2.614  -0.879  1.00  0.00           H  \nATOM     57    H MOL     1     -10.445  -1.023   1.215  1.00  0.00           H  \nATOM     58    H MOL     1      -9.743  -2.210   0.083  1.00  0.00           H  \nATOM     59    H MOL     1      -9.320   0.817   0.256  1.00  0.00           H  \nATOM     60    H MOL     1      -8.480  -0.295  -0.868  1.00  0.00           H  \nATOM     61    H MOL     1      -9.594   0.874  -2.813  1.00  0.00           H  \nATOM     62    H MOL     1     -10.439   1.947  -1.667  1.00  0.00           H  \nATOM     63    H MOL     1      -7.346   0.851  -2.837  1.00  0.00           H  \nATOM     64    H MOL     1      -6.895   2.546  -3.148  1.00  0.00           H  \nATOM     65    H MOL     1      -6.061   2.752  -0.782  1.00  0.00           H  \nATOM     66    H MOL     1      -6.413   1.020  -0.524  1.00  0.00           H  \nATOM     67    H MOL     1      -2.897   1.543  -1.667  1.00  0.00           H  \nATOM     68    H MOL     1      -3.836   2.148  -0.284  1.00  0.00           H  \nATOM     69    H MOL     1      -4.577  -0.185   0.257  1.00  0.00           H  \nATOM     70    H MOL     1      -3.704  -0.803  -1.166  1.00  0.00           H  \nATOM     71    H MOL     1      -0.761  -0.999   0.728  1.00  0.00           H  \nATOM     72    H MOL     1      -1.845  -1.924  -0.335  1.00  0.00           H  \nATOM     73    H MOL     1      -1.534  -0.317  -2.186  1.00  0.00           H  \nATOM     74    H MOL     1      -0.010  -1.043  -1.646  1.00  0.00           H  \nATOM     75    H MOL     1       0.247   1.039   0.773  1.00  0.00           H  \nATOM     76    H MOL     1       0.882   2.284  -0.315  1.00  0.00           H  \nATOM     77    H MOL     1       2.647   0.724   0.372  1.00  0.00           H  \nATOM     78    H MOL     1       1.724  -0.689  -0.194  1.00  0.00           H  \nATOM     79    H MOL     1       3.710   2.056  -1.275  1.00  0.00           H  \nATOM     80    H MOL     1       2.198   2.422  -2.172  1.00  0.00           H  \nATOM     81    H MOL     1       4.027   2.597  -3.698  1.00  0.00           H  \nATOM     82    H MOL     1       3.082   1.150  -4.146  1.00  0.00           H  \nATOM     83    H MOL     1       4.025  -1.022  -3.072  1.00  0.00           H  \nATOM     84    H MOL     1       4.585  -0.638  -4.732  1.00  0.00           H  \nATOM     85    H MOL     1       6.962  -0.654  -3.925  1.00  0.00           H  \nATOM     86    H MOL     1       6.411  -1.171  -2.308  1.00  0.00           H  \nATOM     87    H MOL     1       5.300  -4.344  -3.654  1.00  0.00           H  \nATOM     88    H MOL     1       4.830  -3.145  -2.419  1.00  0.00           H  \nATOM     89    H MOL     1       6.350  -5.086  -1.660  1.00  0.00           H  \nATOM     90    H MOL     1       7.643  -4.317  -2.634  1.00  0.00           H  \nATOM     91    H MOL     1       8.509  -4.456  -0.337  1.00  0.00           H  \nATOM     92    H MOL     1       8.045  -3.100   0.721  1.00  0.00           H  \nATOM     93    H MOL     1       8.969  -1.475  -0.971  1.00  0.00           H  \nATOM     94    H MOL     1       9.450  -2.834  -2.015  1.00  0.00           H  \nATOM     95    H MOL     1       9.754  -1.765   1.399  1.00  0.00           H  \nATOM     96    H MOL     1      11.381  -2.475   1.530  1.00  0.00           H  \nATOM     97    H MOL     1      12.295  -0.657   0.055  1.00  0.00           H  \nATOM     98    H MOL     1      10.656   0.020  -0.139  1.00  0.00           H  \nATOM     99    H MOL     1      13.498   0.207   1.910  1.00  0.00           H  \nATOM    100    H MOL     1      12.625  -1.071   2.797  1.00  0.00           H  \nATOM    101    H MOL     1      13.299   0.433   4.470  1.00  0.00           H  \nATOM    102    H MOL     1      11.553   0.717   4.235  1.00  0.00           H  \nATOM    103    H MOL     1      14.673   1.911   2.849  1.00  0.00           H  \nATOM    104    H MOL     1      14.070   3.585   2.873  1.00  0.00           H  \nATOM    105    H MOL     1      14.185   3.629   5.359  1.00  0.00           H  \nATOM    106    H MOL     1      14.657   1.906   5.384  1.00  0.00           H  \nATOM    107    O MOL     1      16.078   3.217   4.581  1.00  0.00           O  \nATOM    108    C MOL     1      16.860   3.271   5.772  1.00  0.00           C  \nATOM    109    C MOL     1      17.275   1.911   6.332  1.00  0.00           C  \nATOM    110    O MOL     1      18.211   1.203   5.530  1.00  0.00           O  \nATOM    111    C MOL     1      17.641   0.519   4.412  1.00  0.00           C  \nATOM    112    C MOL     1      18.740  -0.349   3.823  1.00  0.00           C  \nATOM    113    O MOL     1      18.245  -0.894   2.607  1.00  0.00           O  \nATOM    114    C MOL     1      19.081  -1.897   2.044  1.00  0.00           C  \nATOM    115    C MOL     1      20.446  -1.410   1.587  1.00  0.00           C  \nATOM    116    O MOL     1      20.292  -0.474   0.531  1.00  0.00           O  \nATOM    117    C MOL     1      21.489   0.241   0.259  1.00  0.00           C  \nATOM    118    C MOL     1      21.193   1.204  -0.889  1.00  0.00           C  \nATOM    119    O MOL     1      22.216   2.171  -1.090  1.00  0.00           O  \nATOM    120    C MOL     1      23.418   1.678  -1.684  1.00  0.00           C  \nATOM    121    C MOL     1      24.541   1.603  -0.655  1.00  0.00           C  \nATOM    122    O MOL     1      25.733   1.251  -1.350  1.00  0.00           O  \nATOM    123    C MOL     1      26.872   1.103  -0.503  1.00  0.00           C  \nATOM    124    C MOL     1      26.956  -0.316   0.074  1.00  0.00           C  \nATOM    125    O MOL     1      28.071  -0.458   0.955  1.00  0.00           O  \nATOM    126    C MOL     1      29.179  -1.173   0.422  1.00  0.00           C  \nATOM    127    C MOL     1      29.904  -0.492  -0.739  1.00  0.00           C  \nATOM    128    O MOL     1      30.298   0.857  -0.503  1.00  0.00           O  \nATOM    129    C MOL     1      31.146   1.067   0.622  1.00  0.00           C  \nATOM    130    C MOL     1      32.461   0.285   0.596  1.00  0.00           C  \nATOM    131    O MOL     1      33.200   0.400  -0.612  1.00  0.00           O  \nATOM    132    C MOL     1      33.686   1.716  -0.865  1.00  0.00           C  \nATOM    133    C MOL     1      34.659   1.680  -2.030  1.00  0.00           C  \nATOM    134    O MOL     1      35.870   0.994  -1.730  1.00  0.00           O  \nATOM    135    C MOL     1      35.875  -0.379  -2.126  1.00  0.00           C  \nATOM    136    C MOL     1      37.152  -1.007  -1.579  1.00  0.00           C  \nATOM    137    O MOL     1      37.301  -2.349  -2.050  1.00  0.00           O  \nATOM    138    C MOL     1      36.616  -3.340  -1.281  1.00  0.00           C  \nATOM    139    C MOL     1      37.534  -4.029  -0.289  1.00  0.00           C  \nATOM    140    O MOL     1      37.817  -3.150   0.802  1.00  0.00           O  \nATOM    141    C MOL     1      39.117  -3.308   1.365  1.00  0.00           C  \nATOM    142    C MOL     1      40.139  -2.436   0.625  1.00  0.00           C  \nATOM    143    O MOL     1      41.456  -2.608   1.153  1.00  0.00           O  \nATOM    144    C MOL     1      41.767  -1.757   2.258  1.00  0.00           C  \nATOM    145    C MOL     1      42.268  -0.387   1.781  1.00  0.00           C  \nATOM    146    O MOL     1      42.600   0.473   2.867  1.00  0.00           O  \nATOM    147    C MOL     1      43.904   0.260   3.394  1.00  0.00           C  \nATOM    148    C MOL     1      44.194   1.329   4.437  1.00  0.00           C  \nATOM    149    O MOL     1      44.321   2.640   3.899  1.00  0.00           O  \nATOM    150    C MOL     1      45.620   2.944   3.382  1.00  0.00           C  \nATOM    151    C MOL     1      46.609   3.358   4.467  1.00  0.00           C  \nATOM    152    H MOL     1      17.764   3.839   5.509  1.00  0.00           H  \nATOM    153    H MOL     1      16.318   3.828   6.563  1.00  0.00           H  \nATOM    154    H MOL     1      17.777   2.086   7.297  1.00  0.00           H  \nATOM    155    H MOL     1      16.389   1.277   6.531  1.00  0.00           H  \nATOM    156    H MOL     1      17.278   1.227   3.650  1.00  0.00           H  \nATOM    157    H MOL     1      16.786  -0.105   4.739  1.00  0.00           H  \nATOM    158    H MOL     1      19.632   0.280   3.656  1.00  0.00           H  \nATOM    159    H MOL     1      19.019  -1.155   4.530  1.00  0.00           H  \nATOM    160    H MOL     1      19.239  -2.720   2.771  1.00  0.00           H  \nATOM    161    H MOL     1      18.524  -2.294   1.184  1.00  0.00           H  \nATOM    162    H MOL     1      20.997  -0.946   2.428  1.00  0.00           H  \nATOM    163    H MOL     1      21.042  -2.285   1.253  1.00  0.00           H  \nATOM    164    H MOL     1      21.808   0.817   1.150  1.00  0.00           H  \nATOM    165    H MOL     1      22.308  -0.459  -0.002  1.00  0.00           H  \nATOM    166    H MOL     1      21.000   0.637  -1.818  1.00  0.00           H  \nATOM    167    H MOL     1      20.284   1.768  -0.639  1.00  0.00           H  \nATOM    168    H MOL     1      23.255   0.689  -2.147  1.00  0.00           H  \nATOM    169    H MOL     1      23.713   2.378  -2.481  1.00  0.00           H  \nATOM    170    H MOL     1      24.656   2.589  -0.166  1.00  0.00           H  \nATOM    171    H MOL     1      24.294   0.866   0.132  1.00  0.00           H  \nATOM    172    H MOL     1      27.758   1.321  -1.113  1.00  0.00           H  \nATOM    173    H MOL     1      26.850   1.836   0.324  1.00  0.00           H  \nATOM    174    H MOL     1      26.050  -0.536   0.663  1.00  0.00           H  \nATOM    175    H MOL     1      27.003  -1.050  -0.750  1.00  0.00           H  \nATOM    176    H MOL     1      29.856  -1.324   1.276  1.00  0.00           H  \nATOM    177    H MOL     1      28.866  -2.178   0.072  1.00  0.00           H  \nATOM    178    H MOL     1      29.252  -0.439  -1.624  1.00  0.00           H  \nATOM    179    H MOL     1      30.772  -1.121  -1.014  1.00  0.00           H  \nATOM    180    H MOL     1      30.626   0.832   1.570  1.00  0.00           H  \nATOM    181    H MOL     1      31.340   2.150   0.623  1.00  0.00           H  \nATOM    182    H MOL     1      33.068   0.625   1.460  1.00  0.00           H  \nATOM    183    H MOL     1      32.284  -0.793   0.724  1.00  0.00           H  \nATOM    184    H MOL     1      34.201   2.108   0.033  1.00  0.00           H  \nATOM    185    H MOL     1      32.855   2.403  -1.120  1.00  0.00           H  \nATOM    186    H MOL     1      34.930   2.719  -2.278  1.00  0.00           H  \nATOM    187    H MOL     1      34.167   1.236  -2.914  1.00  0.00           H  \nATOM    188    H MOL     1      34.982  -0.896  -1.736  1.00  0.00           H  \nATOM    189    H MOL     1      35.872  -0.459  -3.231  1.00  0.00           H  \nATOM    190    H MOL     1      38.023  -0.448  -1.951  1.00  0.00           H  \nATOM    191    H MOL     1      37.159  -0.968  -0.478  1.00  0.00           H  \nATOM    192    H MOL     1      36.234  -4.093  -1.989  1.00  0.00           H  \nATOM    193    H MOL     1      35.752  -2.906  -0.749  1.00  0.00           H  \nATOM    194    H MOL     1      37.047  -4.950   0.091  1.00  0.00           H  \nATOM    195    H MOL     1      38.462  -4.324  -0.810  1.00  0.00           H  \nATOM    196    H MOL     1      39.442  -4.363   1.343  1.00  0.00           H  \nATOM    197    H MOL     1      39.039  -3.001   2.419  1.00  0.00           H  \nATOM    198    H MOL     1      39.814  -1.381   0.665  1.00  0.00           H  \nATOM    199    H MOL     1      40.184  -2.729  -0.435  1.00  0.00           H  \nATOM    200    H MOL     1      40.900  -1.621   2.927  1.00  0.00           H  \nATOM    201    H MOL     1      42.553  -2.274   2.828  1.00  0.00           H  \nATOM    202    H MOL     1      43.133  -0.527   1.106  1.00  0.00           H  \nATOM    203    H MOL     1      41.477   0.130   1.217  1.00  0.00           H  \nATOM    204    H MOL     1      44.652   0.291   2.577  1.00  0.00           H  \nATOM    205    H MOL     1      43.990  -0.732   3.882  1.00  0.00           H  \nATOM    206    H MOL     1      45.099   1.035   5.001  1.00  0.00           H  \nATOM    207    H MOL     1      43.353   1.369   5.145  1.00  0.00           H  \nATOM    208    H MOL     1      46.017   2.091   2.801  1.00  0.00           H  \nATOM    209    H MOL     1      45.462   3.772   2.676  1.00  0.00           H  \nATOM    210    H MOL     1      46.220   4.215   5.032  1.00  0.00           H  \nATOM    211    H MOL     1      46.808   2.540   5.174  1.00  0.00           H  \nATOM    212    H MOL     1      47.570   3.646   4.015  1.00  0.00           H  \nENDMDL\n",
           "type": "blob"
          }
         ],
         "kwargs": {
          "defaultRepresentation": false,
          "ext": "pdb"
         },
         "methodName": "loadFile",
         "reconstruc_color_scheme": false,
         "target": "Stage",
         "type": "call_method"
        },
        {
         "args": [
          "500px",
          "500px"
         ],
         "kwargs": {},
         "methodName": "setSize",
         "reconstruc_color_scheme": false,
         "target": "Widget",
         "type": "call_method"
        },
        {
         "args": [
          "unitcell"
         ],
         "component_index": 0,
         "kwargs": {
          "sele": "all"
         },
         "methodName": "addRepresentation",
         "reconstruc_color_scheme": false,
         "target": "compList",
         "type": "call_method"
        },
        {
         "args": [
          "spacefill"
         ],
         "component_index": 0,
         "kwargs": {
          "sele": "all"
         },
         "methodName": "addRepresentation",
         "reconstruc_color_scheme": false,
         "target": "compList",
         "type": "call_method"
        },
        {
         "args": [],
         "kwargs": {
          "cameraType": "orthographic"
         },
         "methodName": "setParameters",
         "reconstruc_color_scheme": false,
         "target": "Stage",
         "type": "call_method"
        },
        {
         "args": [
          {
           "clipDist": 0
          }
         ],
         "kwargs": {},
         "methodName": "setParameters",
         "reconstruc_color_scheme": false,
         "target": "Widget",
         "type": "call_method"
        },
        {
         "args": [
          "spacefill",
          0
         ],
         "kwargs": {
          "colorScale": "rainbow",
          "colorScheme": "element",
          "radiusScale": 0.5,
          "radiusType": "covalent"
         },
         "methodName": "updateRepresentationsByName",
         "reconstruc_color_scheme": false,
         "target": "Widget",
         "type": "call_method"
        },
        {
         "args": [
          "this._Q = [[1.0, 0.0, 0.0], [0.0, 1.0, 0.0], [0.0, 0.0, 1.0]]\n    var tooltip = document.createElement('div');\n    Object.assign(tooltip.style, {\n      display: 'none',\n      position: 'fixed',\n      zIndex: 10,\n      pointerEvents: 'none',\n      backgroundColor: 'rgba( 0, 0, 0, 0.6 )',\n      color: 'lightgrey',\n      padding: '8px',\n      fontFamily: 'sans-serif'\n    });\n    document.body.appendChild(tooltip);\n\n    var that = this;\n    this.stage.mouseControls.remove('hoverPick');\n    this.stage.signals.hovered.add(function (pickingProxy) {\n      if (pickingProxy && (pickingProxy.atom || pickingProxy.bond)) {\n        var atom = pickingProxy.atom || pickingProxy.closestBondAtom\n        var mp = pickingProxy.mouse.position\n        //tooltip.innerText = atom.element + ' i=' + atom.index + ' (' + atom.x.toFixed(2) +  ', ' + atom.y.toFixed(2) +  ', ' + atom.z.toFixed(2) + ')'\n        //var pos = that._atoms_pos[atom.index]\n        var Q = that._Q\n        var pos_x = Q[0][0] * atom.x + Q[0][1] * atom.y + Q[0][2] * atom.z \n        var pos_y = Q[1][0] * atom.x + Q[1][1] * atom.y + Q[1][2] * atom.z\n        var pos_z = Q[2][0] * atom.x + Q[2][1] * atom.y + Q[2][2] * atom.z\n        tooltip.innerText = 'i=' + atom.index + ' ' + atom.element + ' (' + pos_x.toFixed(2) +  ', ' + pos_y.toFixed(2) +  ', ' + pos_z.toFixed(2) + ')'\n        tooltip.style.bottom = window.innerHeight - mp.y + 3 + 'px'\n        tooltip.style.left = mp.x + 3 + 'px'\n        tooltip.style.display = 'block'\n      } else {\n        tooltip.style.display = 'none'\n      }\n    });\n    this.stage.tooltip = tooltip;\n    "
         ],
         "kwargs": {},
         "methodName": "executeCode",
         "reconstruc_color_scheme": false,
         "target": "Widget",
         "type": "call_method"
        }
       ],
       "_ngl_original_stage_parameters": {
        "ambientColor": 14540253,
        "ambientIntensity": 0.2,
        "backgroundColor": "white",
        "cameraEyeSep": 0.3,
        "cameraFov": 40,
        "cameraType": "perspective",
        "clipDist": 10,
        "clipFar": 100,
        "clipMode": "scene",
        "clipNear": 0,
        "clipScale": "relative",
        "fogFar": 100,
        "fogNear": 50,
        "hoverTimeout": 0,
        "impostor": true,
        "lightColor": 14540253,
        "lightIntensity": 1,
        "mousePreset": "default",
        "panSpeed": 1,
        "quality": "medium",
        "rotateSpeed": 2,
        "sampleLevel": 0,
        "tooltip": true,
        "workerDefault": true,
        "zoomSpeed": 1.2
       },
       "_ngl_repr_dict": {},
       "_ngl_serialize": false,
       "_ngl_version": "2.0.0-dev.39",
       "_ngl_view_id": [
        "1E8BCBDE-EB89-4936-9DA2-60475B153A20"
       ],
       "_player_dict": {},
       "_scene_position": {},
       "_scene_rotation": {},
       "_synced_model_ids": [],
       "_synced_repr_model_ids": [],
       "_view_height": "",
       "_view_width": "",
       "background": "white",
       "frame": 0,
       "gui_style": null,
       "layout": "IPY_MODEL_bea3fe54da2b4d33b3b1498852297272",
       "max_frame": 0,
       "n_components": 0,
       "picked": {}
      }
     },
     "59f92e719f5849f5994ad02bc93e6f71": {
      "model_module": "@jupyter-widgets/base",
      "model_module_version": "2.0.0",
      "model_name": "LayoutModel",
      "state": {}
     },
     "5ac35f63edf741b6832769aebb879ab2": {
      "model_module": "@jupyter-widgets/controls",
      "model_module_version": "2.0.0",
      "model_name": "HTMLModel",
      "state": {
       "layout": "IPY_MODEL_183a283cd327406eb320f1d5c99abdcf",
       "style": "IPY_MODEL_fa4aed0f1be5453392846e5fe9f5d953",
       "value": "100%"
      }
     },
     "5b70e485e645422b98b6b74b0fe8de12": {
      "model_module": "@jupyter-widgets/controls",
      "model_module_version": "2.0.0",
      "model_name": "ButtonStyleModel",
      "state": {
       "font_family": null,
       "font_size": null,
       "font_style": null,
       "font_variant": null,
       "font_weight": null,
       "text_color": null,
       "text_decoration": null
      }
     },
     "5c11c4729210422bb97c6bcd83270102": {
      "model_module": "@jupyter-widgets/base",
      "model_module_version": "2.0.0",
      "model_name": "LayoutModel",
      "state": {}
     },
     "5d7cd70aa80c4a88be6ff6e71cf2c837": {
      "model_module": "@jupyter-widgets/controls",
      "model_module_version": "2.0.0",
      "model_name": "SliderStyleModel",
      "state": {
       "description_width": ""
      }
     },
     "5dad6461c8524f97a545cb5e0beac067": {
      "model_module": "@jupyter-widgets/base",
      "model_module_version": "2.0.0",
      "model_name": "LayoutModel",
      "state": {}
     },
     "5daf7adf895147d19382481ddb910279": {
      "model_module": "@jupyter-widgets/base",
      "model_module_version": "2.0.0",
      "model_name": "LayoutModel",
      "state": {}
     },
     "5dffb611f35446fa947e29fb11a0a239": {
      "model_module": "@jupyter-widgets/controls",
      "model_module_version": "2.0.0",
      "model_name": "LinkModel",
      "state": {
       "source": [
        "IPY_MODEL_e492c20cfe564ed8b18c8fa5f3c952d9",
        "value"
       ],
       "target": [
        "IPY_MODEL_1e646d182162411dbc4cc02dff36165e",
        "frame"
       ]
      }
     },
     "5e57383cf54b42c39341b33d5ad8f902": {
      "model_module": "nglview-js-widgets",
      "model_module_version": "3.0.6",
      "model_name": "NGLModel",
      "state": {
       "_camera_orientation": [
        106.28861574758129,
        0,
        0,
        0,
        0,
        106.28861574758129,
        0,
        0,
        0,
        0,
        106.28861574758129,
        0,
        0,
        0,
        0,
        1
       ],
       "_camera_str": "orthographic",
       "_gui_theme": null,
       "_ibtn_fullscreen": "IPY_MODEL_23212b8f88054b1a890143bbe3a867d8",
       "_igui": null,
       "_iplayer": "IPY_MODEL_35fdb2865536426e93aaf2f171e3d6bb",
       "_ngl_color_dict": {},
       "_ngl_coordinate_resource": {},
       "_ngl_full_stage_parameters": {
        "ambientColor": 14540253,
        "ambientIntensity": 0.2,
        "backgroundColor": "white",
        "cameraEyeSep": 0.3,
        "cameraFov": 40,
        "cameraType": "perspective",
        "clipDist": 10,
        "clipFar": 100,
        "clipMode": "scene",
        "clipNear": 0,
        "clipScale": "relative",
        "fogFar": 100,
        "fogNear": 50,
        "hoverTimeout": 0,
        "impostor": true,
        "lightColor": 14540253,
        "lightIntensity": 1,
        "mousePreset": "default",
        "panSpeed": 1,
        "quality": "medium",
        "rotateSpeed": 2,
        "sampleLevel": 0,
        "tooltip": true,
        "workerDefault": true,
        "zoomSpeed": 1.2
       },
       "_ngl_msg_archive": [
        {
         "args": [
          {
           "binary": false,
           "data": "CRYST1   19.450   19.450  517.891  90.00  90.00 109.49 P 1\nMODEL     1\nATOM      1   Fe MOL     1      -0.002  -0.001 507.918  1.00  0.00          FE  \nATOM      2   Fe MOL     1       0.808   1.145 509.919  1.00  0.00          FE  \nATOM      3   Fe MOL     1      -0.002  -0.001 511.926  1.00  0.00          FE  \nATOM      4   Fe MOL     1       0.808   1.145 513.919  1.00  0.00          FE  \nATOM      5   Fe MOL     1      -0.002  -0.001 515.907  1.00  0.00          FE  \nATOM      6   Fe MOL     1       0.810   1.146  -0.000  1.00  0.00          FE  \nATOM      7   Fe MOL     1      -0.000  -0.000   1.985  1.00  0.00          FE  \nATOM      8   Fe MOL     1       0.810   1.146   3.978  1.00  0.00          FE  \nATOM      9   Fe MOL     1      -0.000  -0.000   5.985  1.00  0.00          FE  \nATOM     10   Fe MOL     1       0.810   1.146   7.985  1.00  0.00          FE  \nATOM     11   Fe MOL     1      -0.813   2.291 507.918  1.00  0.00          FE  \nATOM     12   Fe MOL     1      -0.003   3.437 509.919  1.00  0.00          FE  \nATOM     13   Fe MOL     1      -0.813   2.291 511.926  1.00  0.00          FE  \nATOM     14   Fe MOL     1      -0.003   3.437 513.919  1.00  0.00          FE  \nATOM     15   Fe MOL     1      -0.813   2.291 515.907  1.00  0.00          FE  \nATOM     16   Fe MOL     1      -0.001   3.438  -0.000  1.00  0.00          FE  \nATOM     17   Fe MOL     1      -0.811   2.292   1.985  1.00  0.00          FE  \nATOM     18   Fe MOL     1      -0.001   3.438   3.978  1.00  0.00          FE  \nATOM     19   Fe MOL     1      -0.811   2.292   5.985  1.00  0.00          FE  \nATOM     20   Fe MOL     1      -0.001   3.438   7.985  1.00  0.00          FE  \nATOM     21   Fe MOL     1      -1.624   4.582 507.918  1.00  0.00          FE  \nATOM     22   Fe MOL     1      -0.814   5.728 509.919  1.00  0.00          FE  \nATOM     23   Fe MOL     1      -1.624   4.582 511.926  1.00  0.00          FE  \nATOM     24   Fe MOL     1      -0.814   5.728 513.919  1.00  0.00          FE  \nATOM     25   Fe MOL     1      -1.624   4.582 515.907  1.00  0.00          FE  \nATOM     26   Fe MOL     1      -0.813   5.730  -0.000  1.00  0.00          FE  \nATOM     27   Fe MOL     1      -1.623   4.584   1.985  1.00  0.00          FE  \nATOM     28   Fe MOL     1      -0.813   5.730   3.978  1.00  0.00          FE  \nATOM     29   Fe MOL     1      -1.623   4.584   5.985  1.00  0.00          FE  \nATOM     30   Fe MOL     1      -0.813   5.730   7.985  1.00  0.00          FE  \nATOM     31   Fe MOL     1      -2.436   6.874 507.918  1.00  0.00          FE  \nATOM     32   Fe MOL     1      -1.626   8.020 509.919  1.00  0.00          FE  \nATOM     33   Fe MOL     1      -2.436   6.874 511.926  1.00  0.00          FE  \nATOM     34   Fe MOL     1      -1.626   8.020 513.919  1.00  0.00          FE  \nATOM     35   Fe MOL     1      -2.436   6.874 515.907  1.00  0.00          FE  \nATOM     36   Fe MOL     1      -1.624   8.022  -0.000  1.00  0.00          FE  \nATOM     37   Fe MOL     1      -2.434   6.876   1.985  1.00  0.00          FE  \nATOM     38   Fe MOL     1      -1.624   8.022   3.978  1.00  0.00          FE  \nATOM     39   Fe MOL     1      -2.434   6.876   5.985  1.00  0.00          FE  \nATOM     40   Fe MOL     1      -1.624   8.022   7.985  1.00  0.00          FE  \nATOM     41   Fe MOL     1      -3.247   9.166 507.918  1.00  0.00          FE  \nATOM     42   Fe MOL     1      -2.437  10.312 509.919  1.00  0.00          FE  \nATOM     43   Fe MOL     1      -3.247   9.166 511.926  1.00  0.00          FE  \nATOM     44   Fe MOL     1      -2.437  10.312 513.919  1.00  0.00          FE  \nATOM     45   Fe MOL     1      -3.247   9.166 515.907  1.00  0.00          FE  \nATOM     46   Fe MOL     1      -2.435  10.313  -0.000  1.00  0.00          FE  \nATOM     47   Fe MOL     1      -3.245   9.167   1.985  1.00  0.00          FE  \nATOM     48   Fe MOL     1      -2.435  10.313   3.978  1.00  0.00          FE  \nATOM     49   Fe MOL     1      -3.245   9.167   5.985  1.00  0.00          FE  \nATOM     50   Fe MOL     1      -2.435  10.313   7.985  1.00  0.00          FE  \nATOM     51   Fe MOL     1      -4.058  11.458 507.918  1.00  0.00          FE  \nATOM     52   Fe MOL     1      -3.248  12.604 509.919  1.00  0.00          FE  \nATOM     53   Fe MOL     1      -4.058  11.458 511.926  1.00  0.00          FE  \nATOM     54   Fe MOL     1      -3.248  12.604 513.919  1.00  0.00          FE  \nATOM     55   Fe MOL     1      -4.058  11.458 515.907  1.00  0.00          FE  \nATOM     56   Fe MOL     1      -3.247  12.605  -0.000  1.00  0.00          FE  \nATOM     57   Fe MOL     1      -4.057  11.459   1.985  1.00  0.00          FE  \nATOM     58   Fe MOL     1      -3.247  12.605   3.978  1.00  0.00          FE  \nATOM     59   Fe MOL     1      -4.057  11.459   5.985  1.00  0.00          FE  \nATOM     60   Fe MOL     1      -3.247  12.605   7.985  1.00  0.00          FE  \nATOM     61   Fe MOL     1      -4.870  13.750 507.918  1.00  0.00          FE  \nATOM     62   Fe MOL     1      -4.060  14.896 509.919  1.00  0.00          FE  \nATOM     63   Fe MOL     1      -4.870  13.750 511.926  1.00  0.00          FE  \nATOM     64   Fe MOL     1      -4.060  14.896 513.919  1.00  0.00          FE  \nATOM     65   Fe MOL     1      -4.870  13.750 515.907  1.00  0.00          FE  \nATOM     66   Fe MOL     1      -4.058  14.897  -0.000  1.00  0.00          FE  \nATOM     67   Fe MOL     1      -4.868  13.751   1.985  1.00  0.00          FE  \nATOM     68   Fe MOL     1      -4.058  14.897   3.978  1.00  0.00          FE  \nATOM     69   Fe MOL     1      -4.868  13.751   5.985  1.00  0.00          FE  \nATOM     70   Fe MOL     1      -4.058  14.897   7.985  1.00  0.00          FE  \nATOM     71   Fe MOL     1      -5.681  16.042 507.918  1.00  0.00          FE  \nATOM     72   Fe MOL     1      -4.871  17.188 509.919  1.00  0.00          FE  \nATOM     73   Fe MOL     1      -5.681  16.042 511.926  1.00  0.00          FE  \nATOM     74   Fe MOL     1      -4.871  17.188 513.919  1.00  0.00          FE  \nATOM     75   Fe MOL     1      -5.681  16.042 515.907  1.00  0.00          FE  \nATOM     76   Fe MOL     1      -4.869  17.189  -0.000  1.00  0.00          FE  \nATOM     77   Fe MOL     1      -5.679  16.043   1.985  1.00  0.00          FE  \nATOM     78   Fe MOL     1      -4.869  17.189   3.978  1.00  0.00          FE  \nATOM     79   Fe MOL     1      -5.679  16.043   5.985  1.00  0.00          FE  \nATOM     80   Fe MOL     1      -4.869  17.189   7.985  1.00  0.00          FE  \nATOM     81   Fe MOL     1       2.430  -0.001 507.918  1.00  0.00          FE  \nATOM     82   Fe MOL     1       3.240   1.145 509.919  1.00  0.00          FE  \nATOM     83   Fe MOL     1       2.430  -0.001 511.926  1.00  0.00          FE  \nATOM     84   Fe MOL     1       3.240   1.145 513.919  1.00  0.00          FE  \nATOM     85   Fe MOL     1       2.430  -0.001 515.907  1.00  0.00          FE  \nATOM     86   Fe MOL     1       3.241   1.146  -0.000  1.00  0.00          FE  \nATOM     87   Fe MOL     1       2.431  -0.000   1.985  1.00  0.00          FE  \nATOM     88   Fe MOL     1       3.241   1.146   3.978  1.00  0.00          FE  \nATOM     89   Fe MOL     1       2.431  -0.000   5.985  1.00  0.00          FE  \nATOM     90   Fe MOL     1       3.241   1.146   7.985  1.00  0.00          FE  \nATOM     91   Fe MOL     1       1.618   2.291 507.918  1.00  0.00          FE  \nATOM     92   Fe MOL     1       2.428   3.437 509.919  1.00  0.00          FE  \nATOM     93   Fe MOL     1       1.618   2.291 511.926  1.00  0.00          FE  \nATOM     94   Fe MOL     1       2.428   3.437 513.919  1.00  0.00          FE  \nATOM     95   Fe MOL     1       1.618   2.291 515.907  1.00  0.00          FE  \nATOM     96   Fe MOL     1       2.430   3.438  -0.000  1.00  0.00          FE  \nATOM     97   Fe MOL     1       1.620   2.292   1.985  1.00  0.00          FE  \nATOM     98   Fe MOL     1       2.430   3.438   3.978  1.00  0.00          FE  \nATOM     99   Fe MOL     1       1.620   2.292   5.985  1.00  0.00          FE  \nATOM    100   Fe MOL     1       2.430   3.438   7.985  1.00  0.00          FE  \nATOM    101   Fe MOL     1       0.807   4.582 507.918  1.00  0.00          FE  \nATOM    102   Fe MOL     1       1.617   5.728 509.919  1.00  0.00          FE  \nATOM    103   Fe MOL     1       0.807   4.582 511.926  1.00  0.00          FE  \nATOM    104   Fe MOL     1       1.617   5.728 513.919  1.00  0.00          FE  \nATOM    105   Fe MOL     1       0.807   4.582 515.907  1.00  0.00          FE  \nATOM    106   Fe MOL     1       1.619   5.730  -0.000  1.00  0.00          FE  \nATOM    107   Fe MOL     1       0.809   4.584   1.985  1.00  0.00          FE  \nATOM    108   Fe MOL     1       1.619   5.730   3.978  1.00  0.00          FE  \nATOM    109   Fe MOL     1       0.809   4.584   5.985  1.00  0.00          FE  \nATOM    110   Fe MOL     1       1.619   5.730   7.985  1.00  0.00          FE  \nATOM    111   Fe MOL     1      -0.004   6.874 507.918  1.00  0.00          FE  \nATOM    112   Fe MOL     1       0.806   8.020 509.919  1.00  0.00          FE  \nATOM    113   Fe MOL     1      -0.004   6.874 511.926  1.00  0.00          FE  \nATOM    114   Fe MOL     1       0.806   8.020 513.919  1.00  0.00          FE  \nATOM    115   Fe MOL     1      -0.004   6.874 515.907  1.00  0.00          FE  \nATOM    116   Fe MOL     1       0.807   8.022  -0.000  1.00  0.00          FE  \nATOM    117   Fe MOL     1      -0.003   6.876   1.985  1.00  0.00          FE  \nATOM    118   Fe MOL     1       0.807   8.022   3.978  1.00  0.00          FE  \nATOM    119   Fe MOL     1      -0.003   6.876   5.985  1.00  0.00          FE  \nATOM    120   Fe MOL     1       0.807   8.022   7.985  1.00  0.00          FE  \nATOM    121   Fe MOL     1      -0.816   9.166 507.918  1.00  0.00          FE  \nATOM    122   Fe MOL     1      -0.006  10.312 509.919  1.00  0.00          FE  \nATOM    123   Fe MOL     1      -0.816   9.166 511.926  1.00  0.00          FE  \nATOM    124   Fe MOL     1      -0.006  10.312 513.919  1.00  0.00          FE  \nATOM    125   Fe MOL     1      -0.816   9.166 515.907  1.00  0.00          FE  \nATOM    126   Fe MOL     1      -0.004  10.313  -0.000  1.00  0.00          FE  \nATOM    127   Fe MOL     1      -0.814   9.167   1.985  1.00  0.00          FE  \nATOM    128   Fe MOL     1      -0.004  10.313   3.978  1.00  0.00          FE  \nATOM    129   Fe MOL     1      -0.814   9.167   5.985  1.00  0.00          FE  \nATOM    130   Fe MOL     1      -0.004  10.313   7.985  1.00  0.00          FE  \nATOM    131   Fe MOL     1      -1.627  11.458 507.918  1.00  0.00          FE  \nATOM    132   Fe MOL     1      -0.817  12.604 509.919  1.00  0.00          FE  \nATOM    133   Fe MOL     1      -1.627  11.458 511.926  1.00  0.00          FE  \nATOM    134   Fe MOL     1      -0.817  12.604 513.919  1.00  0.00          FE  \nATOM    135   Fe MOL     1      -1.627  11.458 515.907  1.00  0.00          FE  \nATOM    136   Fe MOL     1      -0.815  12.605  -0.000  1.00  0.00          FE  \nATOM    137   Fe MOL     1      -1.625  11.459   1.985  1.00  0.00          FE  \nATOM    138   Fe MOL     1      -0.815  12.605   3.978  1.00  0.00          FE  \nATOM    139   Fe MOL     1      -1.625  11.459   5.985  1.00  0.00          FE  \nATOM    140   Fe MOL     1      -0.815  12.605   7.985  1.00  0.00          FE  \nATOM    141   Fe MOL     1      -2.438  13.750 507.918  1.00  0.00          FE  \nATOM    142   Fe MOL     1      -1.628  14.896 509.919  1.00  0.00          FE  \nATOM    143   Fe MOL     1      -2.438  13.750 511.926  1.00  0.00          FE  \nATOM    144   Fe MOL     1      -1.628  14.896 513.919  1.00  0.00          FE  \nATOM    145   Fe MOL     1      -2.438  13.750 515.907  1.00  0.00          FE  \nATOM    146   Fe MOL     1      -1.627  14.897  -0.000  1.00  0.00          FE  \nATOM    147   Fe MOL     1      -2.437  13.751   1.985  1.00  0.00          FE  \nATOM    148   Fe MOL     1      -1.627  14.897   3.978  1.00  0.00          FE  \nATOM    149   Fe MOL     1      -2.437  13.751   5.985  1.00  0.00          FE  \nATOM    150   Fe MOL     1      -1.627  14.897   7.985  1.00  0.00          FE  \nATOM    151   Fe MOL     1      -3.250  16.042 507.918  1.00  0.00          FE  \nATOM    152   Fe MOL     1      -2.440  17.188 509.919  1.00  0.00          FE  \nATOM    153   Fe MOL     1      -3.250  16.042 511.926  1.00  0.00          FE  \nATOM    154   Fe MOL     1      -2.440  17.188 513.919  1.00  0.00          FE  \nATOM    155   Fe MOL     1      -3.250  16.042 515.907  1.00  0.00          FE  \nATOM    156   Fe MOL     1      -2.438  17.189  -0.000  1.00  0.00          FE  \nATOM    157   Fe MOL     1      -3.248  16.043   1.985  1.00  0.00          FE  \nATOM    158   Fe MOL     1      -2.438  17.189   3.978  1.00  0.00          FE  \nATOM    159   Fe MOL     1      -3.248  16.043   5.985  1.00  0.00          FE  \nATOM    160   Fe MOL     1      -2.438  17.189   7.985  1.00  0.00          FE  \nATOM    161   Fe MOL     1       4.861  -0.001 507.918  1.00  0.00          FE  \nATOM    162   Fe MOL     1       5.671   1.145 509.919  1.00  0.00          FE  \nATOM    163   Fe MOL     1       4.861  -0.001 511.926  1.00  0.00          FE  \nATOM    164   Fe MOL     1       5.671   1.145 513.919  1.00  0.00          FE  \nATOM    165   Fe MOL     1       4.861  -0.001 515.907  1.00  0.00          FE  \nATOM    166   Fe MOL     1       5.673   1.146  -0.000  1.00  0.00          FE  \nATOM    167   Fe MOL     1       4.863  -0.000   1.985  1.00  0.00          FE  \nATOM    168   Fe MOL     1       5.672   1.146   3.978  1.00  0.00          FE  \nATOM    169   Fe MOL     1       4.863  -0.000   5.985  1.00  0.00          FE  \nATOM    170   Fe MOL     1       5.672   1.146   7.985  1.00  0.00          FE  \nATOM    171   Fe MOL     1       4.050   2.291 507.918  1.00  0.00          FE  \nATOM    172   Fe MOL     1       4.860   3.437 509.919  1.00  0.00          FE  \nATOM    173   Fe MOL     1       4.050   2.291 511.926  1.00  0.00          FE  \nATOM    174   Fe MOL     1       4.860   3.437 513.919  1.00  0.00          FE  \nATOM    175   Fe MOL     1       4.050   2.291 515.907  1.00  0.00          FE  \nATOM    176   Fe MOL     1       4.861   3.438  -0.000  1.00  0.00          FE  \nATOM    177   Fe MOL     1       4.051   2.292   1.985  1.00  0.00          FE  \nATOM    178   Fe MOL     1       4.861   3.438   3.978  1.00  0.00          FE  \nATOM    179   Fe MOL     1       4.051   2.292   5.985  1.00  0.00          FE  \nATOM    180   Fe MOL     1       4.861   3.438   7.985  1.00  0.00          FE  \nATOM    181   Fe MOL     1       3.238   4.582 507.918  1.00  0.00          FE  \nATOM    182   Fe MOL     1       4.048   5.728 509.919  1.00  0.00          FE  \nATOM    183   Fe MOL     1       3.238   4.582 511.926  1.00  0.00          FE  \nATOM    184   Fe MOL     1       4.048   5.728 513.919  1.00  0.00          FE  \nATOM    185   Fe MOL     1       3.238   4.582 515.907  1.00  0.00          FE  \nATOM    186   Fe MOL     1       4.050   5.730  -0.000  1.00  0.00          FE  \nATOM    187   Fe MOL     1       3.240   4.584   1.985  1.00  0.00          FE  \nATOM    188   Fe MOL     1       4.050   5.730   3.978  1.00  0.00          FE  \nATOM    189   Fe MOL     1       3.240   4.584   5.985  1.00  0.00          FE  \nATOM    190   Fe MOL     1       4.050   5.730   7.985  1.00  0.00          FE  \nATOM    191   Fe MOL     1       2.427   6.874 507.918  1.00  0.00          FE  \nATOM    192   Fe MOL     1       3.237   8.020 509.919  1.00  0.00          FE  \nATOM    193   Fe MOL     1       2.427   6.874 511.926  1.00  0.00          FE  \nATOM    194   Fe MOL     1       3.237   8.020 513.919  1.00  0.00          FE  \nATOM    195   Fe MOL     1       2.427   6.874 515.907  1.00  0.00          FE  \nATOM    196   Fe MOL     1       3.238   8.022  -0.000  1.00  0.00          FE  \nATOM    197   Fe MOL     1       2.428   6.876   1.985  1.00  0.00          FE  \nATOM    198   Fe MOL     1       3.238   8.022   3.978  1.00  0.00          FE  \nATOM    199   Fe MOL     1       2.429   6.876   5.985  1.00  0.00          FE  \nATOM    200   Fe MOL     1       3.238   8.022   7.985  1.00  0.00          FE  \nATOM    201   Fe MOL     1       1.616   9.166 507.918  1.00  0.00          FE  \nATOM    202   Fe MOL     1       2.426  10.312 509.919  1.00  0.00          FE  \nATOM    203   Fe MOL     1       1.616   9.166 511.926  1.00  0.00          FE  \nATOM    204   Fe MOL     1       2.426  10.312 513.919  1.00  0.00          FE  \nATOM    205   Fe MOL     1       1.616   9.166 515.907  1.00  0.00          FE  \nATOM    206   Fe MOL     1       2.427  10.313  -0.000  1.00  0.00          FE  \nATOM    207   Fe MOL     1       1.617   9.167   1.985  1.00  0.00          FE  \nATOM    208   Fe MOL     1       2.427  10.313   3.978  1.00  0.00          FE  \nATOM    209   Fe MOL     1       1.617   9.167   5.985  1.00  0.00          FE  \nATOM    210   Fe MOL     1       2.427  10.313   7.985  1.00  0.00          FE  \nATOM    211   Fe MOL     1       0.804  11.458 507.918  1.00  0.00          FE  \nATOM    212   Fe MOL     1       1.614  12.604 509.919  1.00  0.00          FE  \nATOM    213   Fe MOL     1       0.804  11.458 511.926  1.00  0.00          FE  \nATOM    214   Fe MOL     1       1.614  12.604 513.919  1.00  0.00          FE  \nATOM    215   Fe MOL     1       0.804  11.458 515.907  1.00  0.00          FE  \nATOM    216   Fe MOL     1       1.616  12.605  -0.000  1.00  0.00          FE  \nATOM    217   Fe MOL     1       0.806  11.459   1.985  1.00  0.00          FE  \nATOM    218   Fe MOL     1       1.616  12.605   3.978  1.00  0.00          FE  \nATOM    219   Fe MOL     1       0.806  11.459   5.985  1.00  0.00          FE  \nATOM    220   Fe MOL     1       1.616  12.605   7.985  1.00  0.00          FE  \nATOM    221   Fe MOL     1      -0.007  13.750 507.918  1.00  0.00          FE  \nATOM    222   Fe MOL     1       0.803  14.896 509.919  1.00  0.00          FE  \nATOM    223   Fe MOL     1      -0.007  13.750 511.926  1.00  0.00          FE  \nATOM    224   Fe MOL     1       0.803  14.896 513.919  1.00  0.00          FE  \nATOM    225   Fe MOL     1      -0.007  13.750 515.907  1.00  0.00          FE  \nATOM    226   Fe MOL     1       0.804  14.897  -0.000  1.00  0.00          FE  \nATOM    227   Fe MOL     1      -0.006  13.751   1.985  1.00  0.00          FE  \nATOM    228   Fe MOL     1       0.804  14.897   3.978  1.00  0.00          FE  \nATOM    229   Fe MOL     1      -0.006  13.751   5.985  1.00  0.00          FE  \nATOM    230   Fe MOL     1       0.804  14.897   7.985  1.00  0.00          FE  \nATOM    231   Fe MOL     1      -0.818  16.042 507.918  1.00  0.00          FE  \nATOM    232   Fe MOL     1      -0.008  17.188 509.919  1.00  0.00          FE  \nATOM    233   Fe MOL     1      -0.818  16.042 511.926  1.00  0.00          FE  \nATOM    234   Fe MOL     1      -0.008  17.188 513.919  1.00  0.00          FE  \nATOM    235   Fe MOL     1      -0.818  16.042 515.907  1.00  0.00          FE  \nATOM    236   Fe MOL     1      -0.007  17.189  -0.000  1.00  0.00          FE  \nATOM    237   Fe MOL     1      -0.817  16.043   1.985  1.00  0.00          FE  \nATOM    238   Fe MOL     1      -0.007  17.189   3.978  1.00  0.00          FE  \nATOM    239   Fe MOL     1      -0.817  16.043   5.985  1.00  0.00          FE  \nATOM    240   Fe MOL     1      -0.007  17.189   7.985  1.00  0.00          FE  \nATOM    241   Fe MOL     1       7.292  -0.001 507.918  1.00  0.00          FE  \nATOM    242   Fe MOL     1       8.102   1.145 509.919  1.00  0.00          FE  \nATOM    243   Fe MOL     1       7.292  -0.001 511.926  1.00  0.00          FE  \nATOM    244   Fe MOL     1       8.102   1.145 513.919  1.00  0.00          FE  \nATOM    245   Fe MOL     1       7.292  -0.001 515.907  1.00  0.00          FE  \nATOM    246   Fe MOL     1       8.104   1.146  -0.000  1.00  0.00          FE  \nATOM    247   Fe MOL     1       7.294  -0.000   1.985  1.00  0.00          FE  \nATOM    248   Fe MOL     1       8.104   1.146   3.978  1.00  0.00          FE  \nATOM    249   Fe MOL     1       7.294  -0.000   5.985  1.00  0.00          FE  \nATOM    250   Fe MOL     1       8.104   1.146   7.985  1.00  0.00          FE  \nATOM    251   Fe MOL     1       6.481   2.291 507.918  1.00  0.00          FE  \nATOM    252   Fe MOL     1       7.291   3.437 509.919  1.00  0.00          FE  \nATOM    253   Fe MOL     1       6.481   2.291 511.926  1.00  0.00          FE  \nATOM    254   Fe MOL     1       7.291   3.437 513.919  1.00  0.00          FE  \nATOM    255   Fe MOL     1       6.481   2.291 515.907  1.00  0.00          FE  \nATOM    256   Fe MOL     1       7.292   3.438  -0.000  1.00  0.00          FE  \nATOM    257   Fe MOL     1       6.482   2.292   1.985  1.00  0.00          FE  \nATOM    258   Fe MOL     1       7.292   3.438   3.978  1.00  0.00          FE  \nATOM    259   Fe MOL     1       6.482   2.292   5.985  1.00  0.00          FE  \nATOM    260   Fe MOL     1       7.292   3.438   7.985  1.00  0.00          FE  \nATOM    261   Fe MOL     1       5.670   4.582 507.918  1.00  0.00          FE  \nATOM    262   Fe MOL     1       6.480   5.728 509.919  1.00  0.00          FE  \nATOM    263   Fe MOL     1       5.670   4.582 511.926  1.00  0.00          FE  \nATOM    264   Fe MOL     1       6.480   5.728 513.919  1.00  0.00          FE  \nATOM    265   Fe MOL     1       5.670   4.582 515.907  1.00  0.00          FE  \nATOM    266   Fe MOL     1       6.481   5.730  -0.000  1.00  0.00          FE  \nATOM    267   Fe MOL     1       5.671   4.584   1.985  1.00  0.00          FE  \nATOM    268   Fe MOL     1       6.481   5.730   3.978  1.00  0.00          FE  \nATOM    269   Fe MOL     1       5.671   4.584   5.985  1.00  0.00          FE  \nATOM    270   Fe MOL     1       6.481   5.730   7.985  1.00  0.00          FE  \nATOM    271   Fe MOL     1       4.858   6.874 507.918  1.00  0.00          FE  \nATOM    272   Fe MOL     1       5.668   8.020 509.919  1.00  0.00          FE  \nATOM    273   Fe MOL     1       4.858   6.874 511.926  1.00  0.00          FE  \nATOM    274   Fe MOL     1       5.668   8.020 513.919  1.00  0.00          FE  \nATOM    275   Fe MOL     1       4.858   6.874 515.907  1.00  0.00          FE  \nATOM    276   Fe MOL     1       5.670   8.022  -0.000  1.00  0.00          FE  \nATOM    277   Fe MOL     1       4.860   6.876   1.985  1.00  0.00          FE  \nATOM    278   Fe MOL     1       5.670   8.022   3.978  1.00  0.00          FE  \nATOM    279   Fe MOL     1       4.860   6.876   5.985  1.00  0.00          FE  \nATOM    280   Fe MOL     1       5.670   8.022   7.985  1.00  0.00          FE  \nATOM    281   Fe MOL     1       4.047   9.166 507.918  1.00  0.00          FE  \nATOM    282   Fe MOL     1       4.857  10.312 509.919  1.00  0.00          FE  \nATOM    283   Fe MOL     1       4.047   9.166 511.926  1.00  0.00          FE  \nATOM    284   Fe MOL     1       4.857  10.312 513.919  1.00  0.00          FE  \nATOM    285   Fe MOL     1       4.047   9.166 515.907  1.00  0.00          FE  \nATOM    286   Fe MOL     1       4.858  10.313  -0.000  1.00  0.00          FE  \nATOM    287   Fe MOL     1       4.048   9.167   1.985  1.00  0.00          FE  \nATOM    288   Fe MOL     1       4.858  10.313   3.978  1.00  0.00          FE  \nATOM    289   Fe MOL     1       4.048   9.167   5.985  1.00  0.00          FE  \nATOM    290   Fe MOL     1       4.858  10.313   7.985  1.00  0.00          FE  \nATOM    291   Fe MOL     1       3.236  11.458 507.918  1.00  0.00          FE  \nATOM    292   Fe MOL     1       4.045  12.604 509.919  1.00  0.00          FE  \nATOM    293   Fe MOL     1       3.236  11.458 511.926  1.00  0.00          FE  \nATOM    294   Fe MOL     1       4.045  12.604 513.919  1.00  0.00          FE  \nATOM    295   Fe MOL     1       3.236  11.458 515.907  1.00  0.00          FE  \nATOM    296   Fe MOL     1       4.047  12.605  -0.000  1.00  0.00          FE  \nATOM    297   Fe MOL     1       3.237  11.459   1.985  1.00  0.00          FE  \nATOM    298   Fe MOL     1       4.047  12.605   3.978  1.00  0.00          FE  \nATOM    299   Fe MOL     1       3.237  11.459   5.985  1.00  0.00          FE  \nATOM    300   Fe MOL     1       4.047  12.605   7.985  1.00  0.00          FE  \nATOM    301   Fe MOL     1       2.424  13.750 507.918  1.00  0.00          FE  \nATOM    302   Fe MOL     1       3.234  14.896 509.919  1.00  0.00          FE  \nATOM    303   Fe MOL     1       2.424  13.750 511.926  1.00  0.00          FE  \nATOM    304   Fe MOL     1       3.234  14.896 513.919  1.00  0.00          FE  \nATOM    305   Fe MOL     1       2.424  13.750 515.907  1.00  0.00          FE  \nATOM    306   Fe MOL     1       3.236  14.897  -0.000  1.00  0.00          FE  \nATOM    307   Fe MOL     1       2.426  13.751   1.985  1.00  0.00          FE  \nATOM    308   Fe MOL     1       3.236  14.897   3.978  1.00  0.00          FE  \nATOM    309   Fe MOL     1       2.426  13.751   5.985  1.00  0.00          FE  \nATOM    310   Fe MOL     1       3.236  14.897   7.985  1.00  0.00          FE  \nATOM    311   Fe MOL     1       1.613  16.042 507.918  1.00  0.00          FE  \nATOM    312   Fe MOL     1       2.423  17.188 509.919  1.00  0.00          FE  \nATOM    313   Fe MOL     1       1.613  16.042 511.926  1.00  0.00          FE  \nATOM    314   Fe MOL     1       2.423  17.188 513.919  1.00  0.00          FE  \nATOM    315   Fe MOL     1       1.613  16.042 515.907  1.00  0.00          FE  \nATOM    316   Fe MOL     1       2.424  17.189  -0.000  1.00  0.00          FE  \nATOM    317   Fe MOL     1       1.614  16.043   1.985  1.00  0.00          FE  \nATOM    318   Fe MOL     1       2.424  17.189   3.978  1.00  0.00          FE  \nATOM    319   Fe MOL     1       1.614  16.043   5.985  1.00  0.00          FE  \nATOM    320   Fe MOL     1       2.424  17.189   7.985  1.00  0.00          FE  \nATOM    321   Fe MOL     1       9.724  -0.001 507.918  1.00  0.00          FE  \nATOM    322   Fe MOL     1      10.533   1.145 509.919  1.00  0.00          FE  \nATOM    323   Fe MOL     1       9.724  -0.001 511.926  1.00  0.00          FE  \nATOM    324   Fe MOL     1      10.533   1.145 513.919  1.00  0.00          FE  \nATOM    325   Fe MOL     1       9.724  -0.001 515.907  1.00  0.00          FE  \nATOM    326   Fe MOL     1      10.535   1.146  -0.000  1.00  0.00          FE  \nATOM    327   Fe MOL     1       9.725  -0.000   1.985  1.00  0.00          FE  \nATOM    328   Fe MOL     1      10.535   1.146   3.978  1.00  0.00          FE  \nATOM    329   Fe MOL     1       9.725  -0.000   5.985  1.00  0.00          FE  \nATOM    330   Fe MOL     1      10.535   1.146   7.985  1.00  0.00          FE  \nATOM    331   Fe MOL     1       8.912   2.291 507.918  1.00  0.00          FE  \nATOM    332   Fe MOL     1       9.722   3.437 509.919  1.00  0.00          FE  \nATOM    333   Fe MOL     1       8.912   2.291 511.926  1.00  0.00          FE  \nATOM    334   Fe MOL     1       9.722   3.437 513.919  1.00  0.00          FE  \nATOM    335   Fe MOL     1       8.912   2.291 515.907  1.00  0.00          FE  \nATOM    336   Fe MOL     1       9.724   3.438  -0.000  1.00  0.00          FE  \nATOM    337   Fe MOL     1       8.914   2.292   1.985  1.00  0.00          FE  \nATOM    338   Fe MOL     1       9.724   3.438   3.978  1.00  0.00          FE  \nATOM    339   Fe MOL     1       8.914   2.292   5.985  1.00  0.00          FE  \nATOM    340   Fe MOL     1       9.724   3.438   7.985  1.00  0.00          FE  \nATOM    341   Fe MOL     1       8.101   4.582 507.918  1.00  0.00          FE  \nATOM    342   Fe MOL     1       8.911   5.728 509.919  1.00  0.00          FE  \nATOM    343   Fe MOL     1       8.101   4.582 511.926  1.00  0.00          FE  \nATOM    344   Fe MOL     1       8.911   5.728 513.919  1.00  0.00          FE  \nATOM    345   Fe MOL     1       8.101   4.582 515.907  1.00  0.00          FE  \nATOM    346   Fe MOL     1       8.912   5.730  -0.000  1.00  0.00          FE  \nATOM    347   Fe MOL     1       8.102   4.584   1.985  1.00  0.00          FE  \nATOM    348   Fe MOL     1       8.912   5.730   3.978  1.00  0.00          FE  \nATOM    349   Fe MOL     1       8.102   4.584   5.985  1.00  0.00          FE  \nATOM    350   Fe MOL     1       8.912   5.730   7.985  1.00  0.00          FE  \nATOM    351   Fe MOL     1       7.289   6.874 507.918  1.00  0.00          FE  \nATOM    352   Fe MOL     1       8.099   8.020 509.919  1.00  0.00          FE  \nATOM    353   Fe MOL     1       7.289   6.874 511.926  1.00  0.00          FE  \nATOM    354   Fe MOL     1       8.099   8.020 513.919  1.00  0.00          FE  \nATOM    355   Fe MOL     1       7.289   6.874 515.907  1.00  0.00          FE  \nATOM    356   Fe MOL     1       8.101   8.022  -0.000  1.00  0.00          FE  \nATOM    357   Fe MOL     1       7.291   6.876   1.985  1.00  0.00          FE  \nATOM    358   Fe MOL     1       8.101   8.022   3.978  1.00  0.00          FE  \nATOM    359   Fe MOL     1       7.291   6.876   5.985  1.00  0.00          FE  \nATOM    360   Fe MOL     1       8.101   8.022   7.985  1.00  0.00          FE  \nATOM    361   Fe MOL     1       6.478   9.166 507.918  1.00  0.00          FE  \nATOM    362   Fe MOL     1       7.288  10.312 509.919  1.00  0.00          FE  \nATOM    363   Fe MOL     1       6.478   9.166 511.926  1.00  0.00          FE  \nATOM    364   Fe MOL     1       7.288  10.312 513.919  1.00  0.00          FE  \nATOM    365   Fe MOL     1       6.478   9.166 515.907  1.00  0.00          FE  \nATOM    366   Fe MOL     1       7.290  10.313  -0.000  1.00  0.00          FE  \nATOM    367   Fe MOL     1       6.480   9.167   1.985  1.00  0.00          FE  \nATOM    368   Fe MOL     1       7.290  10.313   3.978  1.00  0.00          FE  \nATOM    369   Fe MOL     1       6.480   9.167   5.985  1.00  0.00          FE  \nATOM    370   Fe MOL     1       7.290  10.313   7.985  1.00  0.00          FE  \nATOM    371   Fe MOL     1       5.667  11.458 507.918  1.00  0.00          FE  \nATOM    372   Fe MOL     1       6.477  12.604 509.919  1.00  0.00          FE  \nATOM    373   Fe MOL     1       5.667  11.458 511.926  1.00  0.00          FE  \nATOM    374   Fe MOL     1       6.477  12.604 513.919  1.00  0.00          FE  \nATOM    375   Fe MOL     1       5.667  11.458 515.907  1.00  0.00          FE  \nATOM    376   Fe MOL     1       6.478  12.605  -0.000  1.00  0.00          FE  \nATOM    377   Fe MOL     1       5.668  11.459   1.985  1.00  0.00          FE  \nATOM    378   Fe MOL     1       6.478  12.605   3.978  1.00  0.00          FE  \nATOM    379   Fe MOL     1       5.668  11.459   5.985  1.00  0.00          FE  \nATOM    380   Fe MOL     1       6.478  12.605   7.985  1.00  0.00          FE  \nATOM    381   Fe MOL     1       4.855  13.750 507.918  1.00  0.00          FE  \nATOM    382   Fe MOL     1       5.665  14.896 509.919  1.00  0.00          FE  \nATOM    383   Fe MOL     1       4.855  13.750 511.926  1.00  0.00          FE  \nATOM    384   Fe MOL     1       5.665  14.896 513.919  1.00  0.00          FE  \nATOM    385   Fe MOL     1       4.855  13.750 515.907  1.00  0.00          FE  \nATOM    386   Fe MOL     1       5.667  14.897  -0.000  1.00  0.00          FE  \nATOM    387   Fe MOL     1       4.857  13.751   1.985  1.00  0.00          FE  \nATOM    388   Fe MOL     1       5.667  14.897   3.978  1.00  0.00          FE  \nATOM    389   Fe MOL     1       4.857  13.751   5.985  1.00  0.00          FE  \nATOM    390   Fe MOL     1       5.667  14.897   7.985  1.00  0.00          FE  \nATOM    391   Fe MOL     1       4.044  16.042 507.918  1.00  0.00          FE  \nATOM    392   Fe MOL     1       4.854  17.188 509.919  1.00  0.00          FE  \nATOM    393   Fe MOL     1       4.044  16.042 511.926  1.00  0.00          FE  \nATOM    394   Fe MOL     1       4.854  17.188 513.919  1.00  0.00          FE  \nATOM    395   Fe MOL     1       4.044  16.042 515.907  1.00  0.00          FE  \nATOM    396   Fe MOL     1       4.856  17.189  -0.000  1.00  0.00          FE  \nATOM    397   Fe MOL     1       4.046  16.043   1.985  1.00  0.00          FE  \nATOM    398   Fe MOL     1       4.856  17.189   3.978  1.00  0.00          FE  \nATOM    399   Fe MOL     1       4.046  16.043   5.985  1.00  0.00          FE  \nATOM    400   Fe MOL     1       4.856  17.189   7.985  1.00  0.00          FE  \nATOM    401   Fe MOL     1      12.155  -0.001 507.918  1.00  0.00          FE  \nATOM    402   Fe MOL     1      12.965   1.145 509.919  1.00  0.00          FE  \nATOM    403   Fe MOL     1      12.155  -0.001 511.926  1.00  0.00          FE  \nATOM    404   Fe MOL     1      12.965   1.145 513.919  1.00  0.00          FE  \nATOM    405   Fe MOL     1      12.155  -0.001 515.907  1.00  0.00          FE  \nATOM    406   Fe MOL     1      12.966   1.146  -0.000  1.00  0.00          FE  \nATOM    407   Fe MOL     1      12.156  -0.000   1.985  1.00  0.00          FE  \nATOM    408   Fe MOL     1      12.966   1.146   3.978  1.00  0.00          FE  \nATOM    409   Fe MOL     1      12.156  -0.000   5.985  1.00  0.00          FE  \nATOM    410   Fe MOL     1      12.966   1.146   7.985  1.00  0.00          FE  \nATOM    411   Fe MOL     1      11.343   2.291 507.918  1.00  0.00          FE  \nATOM    412   Fe MOL     1      12.153   3.437 509.919  1.00  0.00          FE  \nATOM    413   Fe MOL     1      11.343   2.291 511.926  1.00  0.00          FE  \nATOM    414   Fe MOL     1      12.153   3.437 513.919  1.00  0.00          FE  \nATOM    415   Fe MOL     1      11.343   2.291 515.907  1.00  0.00          FE  \nATOM    416   Fe MOL     1      12.155   3.438   0.000  1.00  0.00          FE  \nATOM    417   Fe MOL     1      11.345   2.292   1.985  1.00  0.00          FE  \nATOM    418   Fe MOL     1      12.155   3.438   3.978  1.00  0.00          FE  \nATOM    419   Fe MOL     1      11.345   2.292   5.985  1.00  0.00          FE  \nATOM    420   Fe MOL     1      12.155   3.438   7.985  1.00  0.00          FE  \nATOM    421   Fe MOL     1      10.532   4.582 507.918  1.00  0.00          FE  \nATOM    422   Fe MOL     1      11.342   5.728 509.919  1.00  0.00          FE  \nATOM    423   Fe MOL     1      10.532   4.582 511.926  1.00  0.00          FE  \nATOM    424   Fe MOL     1      11.342   5.728 513.919  1.00  0.00          FE  \nATOM    425   Fe MOL     1      10.532   4.582 515.907  1.00  0.00          FE  \nATOM    426   Fe MOL     1      11.344   5.730  -0.000  1.00  0.00          FE  \nATOM    427   Fe MOL     1      10.534   4.584   1.985  1.00  0.00          FE  \nATOM    428   Fe MOL     1      11.344   5.730   3.978  1.00  0.00          FE  \nATOM    429   Fe MOL     1      10.534   4.584   5.985  1.00  0.00          FE  \nATOM    430   Fe MOL     1      11.344   5.730   7.985  1.00  0.00          FE  \nATOM    431   Fe MOL     1       9.721   6.874 507.918  1.00  0.00          FE  \nATOM    432   Fe MOL     1      10.531   8.020 509.919  1.00  0.00          FE  \nATOM    433   Fe MOL     1       9.721   6.874 511.926  1.00  0.00          FE  \nATOM    434   Fe MOL     1      10.531   8.020 513.919  1.00  0.00          FE  \nATOM    435   Fe MOL     1       9.721   6.874 515.907  1.00  0.00          FE  \nATOM    436   Fe MOL     1      10.532   8.022  -0.000  1.00  0.00          FE  \nATOM    437   Fe MOL     1       9.722   6.876   1.985  1.00  0.00          FE  \nATOM    438   Fe MOL     1      10.532   8.022   3.978  1.00  0.00          FE  \nATOM    439   Fe MOL     1       9.722   6.876   5.985  1.00  0.00          FE  \nATOM    440   Fe MOL     1      10.532   8.022   7.985  1.00  0.00          FE  \nATOM    441   Fe MOL     1       8.909   9.166 507.918  1.00  0.00          FE  \nATOM    442   Fe MOL     1       9.719  10.312 509.919  1.00  0.00          FE  \nATOM    443   Fe MOL     1       8.909   9.166 511.926  1.00  0.00          FE  \nATOM    444   Fe MOL     1       9.719  10.312 513.919  1.00  0.00          FE  \nATOM    445   Fe MOL     1       8.909   9.166 515.907  1.00  0.00          FE  \nATOM    446   Fe MOL     1       9.721  10.313  -0.000  1.00  0.00          FE  \nATOM    447   Fe MOL     1       8.911   9.167   1.985  1.00  0.00          FE  \nATOM    448   Fe MOL     1       9.721  10.313   3.978  1.00  0.00          FE  \nATOM    449   Fe MOL     1       8.911   9.167   5.985  1.00  0.00          FE  \nATOM    450   Fe MOL     1       9.721  10.313   7.985  1.00  0.00          FE  \nATOM    451   Fe MOL     1       8.098  11.458 507.918  1.00  0.00          FE  \nATOM    452   Fe MOL     1       8.908  12.604 509.919  1.00  0.00          FE  \nATOM    453   Fe MOL     1       8.098  11.458 511.926  1.00  0.00          FE  \nATOM    454   Fe MOL     1       8.908  12.604 513.919  1.00  0.00          FE  \nATOM    455   Fe MOL     1       8.098  11.458 515.907  1.00  0.00          FE  \nATOM    456   Fe MOL     1       8.910  12.605  -0.000  1.00  0.00          FE  \nATOM    457   Fe MOL     1       8.100  11.459   1.985  1.00  0.00          FE  \nATOM    458   Fe MOL     1       8.910  12.605   3.978  1.00  0.00          FE  \nATOM    459   Fe MOL     1       8.100  11.459   5.985  1.00  0.00          FE  \nATOM    460   Fe MOL     1       8.910  12.605   7.985  1.00  0.00          FE  \nATOM    461   Fe MOL     1       7.287  13.750 507.918  1.00  0.00          FE  \nATOM    462   Fe MOL     1       8.097  14.896 509.919  1.00  0.00          FE  \nATOM    463   Fe MOL     1       7.287  13.750 511.926  1.00  0.00          FE  \nATOM    464   Fe MOL     1       8.097  14.896 513.919  1.00  0.00          FE  \nATOM    465   Fe MOL     1       7.287  13.750 515.907  1.00  0.00          FE  \nATOM    466   Fe MOL     1       8.098  14.897  -0.000  1.00  0.00          FE  \nATOM    467   Fe MOL     1       7.288  13.751   1.985  1.00  0.00          FE  \nATOM    468   Fe MOL     1       8.098  14.897   3.978  1.00  0.00          FE  \nATOM    469   Fe MOL     1       7.288  13.751   5.985  1.00  0.00          FE  \nATOM    470   Fe MOL     1       8.098  14.897   7.985  1.00  0.00          FE  \nATOM    471   Fe MOL     1       6.475  16.042 507.918  1.00  0.00          FE  \nATOM    472   Fe MOL     1       7.285  17.188 509.919  1.00  0.00          FE  \nATOM    473   Fe MOL     1       6.475  16.042 511.926  1.00  0.00          FE  \nATOM    474   Fe MOL     1       7.285  17.188 513.919  1.00  0.00          FE  \nATOM    475   Fe MOL     1       6.475  16.042 515.907  1.00  0.00          FE  \nATOM    476   Fe MOL     1       7.287  17.189  -0.000  1.00  0.00          FE  \nATOM    477   Fe MOL     1       6.477  16.043   1.985  1.00  0.00          FE  \nATOM    478   Fe MOL     1       7.287  17.189   3.978  1.00  0.00          FE  \nATOM    479   Fe MOL     1       6.477  16.043   5.985  1.00  0.00          FE  \nATOM    480   Fe MOL     1       7.287  17.189   7.985  1.00  0.00          FE  \nATOM    481   Fe MOL     1      14.586  -0.001 507.918  1.00  0.00          FE  \nATOM    482   Fe MOL     1      15.396   1.145 509.919  1.00  0.00          FE  \nATOM    483   Fe MOL     1      14.586  -0.001 511.926  1.00  0.00          FE  \nATOM    484   Fe MOL     1      15.396   1.145 513.919  1.00  0.00          FE  \nATOM    485   Fe MOL     1      14.586  -0.001 515.907  1.00  0.00          FE  \nATOM    486   Fe MOL     1      15.398   1.146  -0.000  1.00  0.00          FE  \nATOM    487   Fe MOL     1      14.588  -0.000   1.985  1.00  0.00          FE  \nATOM    488   Fe MOL     1      15.398   1.146   3.978  1.00  0.00          FE  \nATOM    489   Fe MOL     1      14.588  -0.000   5.985  1.00  0.00          FE  \nATOM    490   Fe MOL     1      15.398   1.146   7.985  1.00  0.00          FE  \nATOM    491   Fe MOL     1      13.775   2.291 507.918  1.00  0.00          FE  \nATOM    492   Fe MOL     1      14.585   3.437 509.919  1.00  0.00          FE  \nATOM    493   Fe MOL     1      13.775   2.291 511.926  1.00  0.00          FE  \nATOM    494   Fe MOL     1      14.585   3.437 513.919  1.00  0.00          FE  \nATOM    495   Fe MOL     1      13.775   2.291 515.907  1.00  0.00          FE  \nATOM    496   Fe MOL     1      14.586   3.438  -0.000  1.00  0.00          FE  \nATOM    497   Fe MOL     1      13.776   2.292   1.985  1.00  0.00          FE  \nATOM    498   Fe MOL     1      14.586   3.438   3.978  1.00  0.00          FE  \nATOM    499   Fe MOL     1      13.776   2.292   5.985  1.00  0.00          FE  \nATOM    500   Fe MOL     1      14.586   3.438   7.985  1.00  0.00          FE  \nATOM    501   Fe MOL     1      12.963   4.582 507.918  1.00  0.00          FE  \nATOM    502   Fe MOL     1      13.773   5.728 509.919  1.00  0.00          FE  \nATOM    503   Fe MOL     1      12.963   4.582 511.926  1.00  0.00          FE  \nATOM    504   Fe MOL     1      13.773   5.728 513.919  1.00  0.00          FE  \nATOM    505   Fe MOL     1      12.963   4.582 515.907  1.00  0.00          FE  \nATOM    506   Fe MOL     1      13.775   5.730  -0.000  1.00  0.00          FE  \nATOM    507   Fe MOL     1      12.965   4.584   1.985  1.00  0.00          FE  \nATOM    508   Fe MOL     1      13.775   5.730   3.978  1.00  0.00          FE  \nATOM    509   Fe MOL     1      12.965   4.584   5.985  1.00  0.00          FE  \nATOM    510   Fe MOL     1      13.775   5.730   7.985  1.00  0.00          FE  \nATOM    511   Fe MOL     1      12.152   6.874 507.918  1.00  0.00          FE  \nATOM    512   Fe MOL     1      12.962   8.020 509.919  1.00  0.00          FE  \nATOM    513   Fe MOL     1      12.152   6.874 511.926  1.00  0.00          FE  \nATOM    514   Fe MOL     1      12.962   8.020 513.919  1.00  0.00          FE  \nATOM    515   Fe MOL     1      12.152   6.874 515.907  1.00  0.00          FE  \nATOM    516   Fe MOL     1      12.964   8.022  -0.000  1.00  0.00          FE  \nATOM    517   Fe MOL     1      12.154   6.876   1.985  1.00  0.00          FE  \nATOM    518   Fe MOL     1      12.964   8.022   3.978  1.00  0.00          FE  \nATOM    519   Fe MOL     1      12.154   6.876   5.985  1.00  0.00          FE  \nATOM    520   Fe MOL     1      12.964   8.022   7.985  1.00  0.00          FE  \nATOM    521   Fe MOL     1      11.341   9.166 507.918  1.00  0.00          FE  \nATOM    522   Fe MOL     1      12.151  10.312 509.919  1.00  0.00          FE  \nATOM    523   Fe MOL     1      11.341   9.166 511.926  1.00  0.00          FE  \nATOM    524   Fe MOL     1      12.151  10.312 513.919  1.00  0.00          FE  \nATOM    525   Fe MOL     1      11.341   9.166 515.907  1.00  0.00          FE  \nATOM    526   Fe MOL     1      12.152  10.313  -0.000  1.00  0.00          FE  \nATOM    527   Fe MOL     1      11.342   9.167   1.985  1.00  0.00          FE  \nATOM    528   Fe MOL     1      12.152  10.313   3.978  1.00  0.00          FE  \nATOM    529   Fe MOL     1      11.342   9.167   5.985  1.00  0.00          FE  \nATOM    530   Fe MOL     1      12.152  10.313   7.985  1.00  0.00          FE  \nATOM    531   Fe MOL     1      10.529  11.458 507.918  1.00  0.00          FE  \nATOM    532   Fe MOL     1      11.339  12.604 509.919  1.00  0.00          FE  \nATOM    533   Fe MOL     1      10.529  11.458 511.926  1.00  0.00          FE  \nATOM    534   Fe MOL     1      11.339  12.604 513.919  1.00  0.00          FE  \nATOM    535   Fe MOL     1      10.529  11.458 515.907  1.00  0.00          FE  \nATOM    536   Fe MOL     1      11.341  12.605  -0.000  1.00  0.00          FE  \nATOM    537   Fe MOL     1      10.531  11.459   1.985  1.00  0.00          FE  \nATOM    538   Fe MOL     1      11.341  12.605   3.978  1.00  0.00          FE  \nATOM    539   Fe MOL     1      10.531  11.459   5.985  1.00  0.00          FE  \nATOM    540   Fe MOL     1      11.341  12.605   7.985  1.00  0.00          FE  \nATOM    541   Fe MOL     1       9.718  13.750 507.918  1.00  0.00          FE  \nATOM    542   Fe MOL     1      10.528  14.896 509.919  1.00  0.00          FE  \nATOM    543   Fe MOL     1       9.718  13.750 511.926  1.00  0.00          FE  \nATOM    544   Fe MOL     1      10.528  14.896 513.919  1.00  0.00          FE  \nATOM    545   Fe MOL     1       9.718  13.750 515.907  1.00  0.00          FE  \nATOM    546   Fe MOL     1      10.530  14.897  -0.000  1.00  0.00          FE  \nATOM    547   Fe MOL     1       9.720  13.751   1.985  1.00  0.00          FE  \nATOM    548   Fe MOL     1      10.530  14.897   3.978  1.00  0.00          FE  \nATOM    549   Fe MOL     1       9.720  13.751   5.985  1.00  0.00          FE  \nATOM    550   Fe MOL     1      10.530  14.897   7.985  1.00  0.00          FE  \nATOM    551   Fe MOL     1       8.907  16.042 507.918  1.00  0.00          FE  \nATOM    552   Fe MOL     1       9.717  17.188 509.919  1.00  0.00          FE  \nATOM    553   Fe MOL     1       8.907  16.042 511.926  1.00  0.00          FE  \nATOM    554   Fe MOL     1       9.717  17.188 513.919  1.00  0.00          FE  \nATOM    555   Fe MOL     1       8.907  16.042 515.907  1.00  0.00          FE  \nATOM    556   Fe MOL     1       9.718  17.189  -0.000  1.00  0.00          FE  \nATOM    557   Fe MOL     1       8.908  16.043   1.985  1.00  0.00          FE  \nATOM    558   Fe MOL     1       9.718  17.189   3.978  1.00  0.00          FE  \nATOM    559   Fe MOL     1       8.908  16.043   5.985  1.00  0.00          FE  \nATOM    560   Fe MOL     1       9.718  17.189   7.985  1.00  0.00          FE  \nATOM    561   Fe MOL     1      17.017  -0.001 507.918  1.00  0.00          FE  \nATOM    562   Fe MOL     1      17.827   1.145 509.919  1.00  0.00          FE  \nATOM    563   Fe MOL     1      17.017  -0.001 511.926  1.00  0.00          FE  \nATOM    564   Fe MOL     1      17.827   1.145 513.919  1.00  0.00          FE  \nATOM    565   Fe MOL     1      17.017  -0.001 515.907  1.00  0.00          FE  \nATOM    566   Fe MOL     1      17.829   1.146  -0.000  1.00  0.00          FE  \nATOM    567   Fe MOL     1      17.019  -0.000   1.985  1.00  0.00          FE  \nATOM    568   Fe MOL     1      17.829   1.146   3.978  1.00  0.00          FE  \nATOM    569   Fe MOL     1      17.019  -0.000   5.985  1.00  0.00          FE  \nATOM    570   Fe MOL     1      17.829   1.146   7.985  1.00  0.00          FE  \nATOM    571   Fe MOL     1      16.206   2.291 507.918  1.00  0.00          FE  \nATOM    572   Fe MOL     1      17.016   3.437 509.919  1.00  0.00          FE  \nATOM    573   Fe MOL     1      16.206   2.291 511.926  1.00  0.00          FE  \nATOM    574   Fe MOL     1      17.016   3.437 513.919  1.00  0.00          FE  \nATOM    575   Fe MOL     1      16.206   2.291 515.907  1.00  0.00          FE  \nATOM    576   Fe MOL     1      17.018   3.438  -0.000  1.00  0.00          FE  \nATOM    577   Fe MOL     1      16.208   2.292   1.985  1.00  0.00          FE  \nATOM    578   Fe MOL     1      17.017   3.438   3.978  1.00  0.00          FE  \nATOM    579   Fe MOL     1      16.208   2.292   5.985  1.00  0.00          FE  \nATOM    580   Fe MOL     1      17.018   3.438   7.985  1.00  0.00          FE  \nATOM    581   Fe MOL     1      15.395   4.582 507.918  1.00  0.00          FE  \nATOM    582   Fe MOL     1      16.205   5.728 509.919  1.00  0.00          FE  \nATOM    583   Fe MOL     1      15.395   4.582 511.926  1.00  0.00          FE  \nATOM    584   Fe MOL     1      16.205   5.728 513.919  1.00  0.00          FE  \nATOM    585   Fe MOL     1      15.395   4.582 515.907  1.00  0.00          FE  \nATOM    586   Fe MOL     1      16.206   5.730  -0.000  1.00  0.00          FE  \nATOM    587   Fe MOL     1      15.396   4.584   1.985  1.00  0.00          FE  \nATOM    588   Fe MOL     1      16.206   5.730   3.978  1.00  0.00          FE  \nATOM    589   Fe MOL     1      15.396   4.584   5.985  1.00  0.00          FE  \nATOM    590   Fe MOL     1      16.206   5.730   7.985  1.00  0.00          FE  \nATOM    591   Fe MOL     1      14.583   6.874 507.918  1.00  0.00          FE  \nATOM    592   Fe MOL     1      15.393   8.020 509.919  1.00  0.00          FE  \nATOM    593   Fe MOL     1      14.583   6.874 511.926  1.00  0.00          FE  \nATOM    594   Fe MOL     1      15.393   8.020 513.919  1.00  0.00          FE  \nATOM    595   Fe MOL     1      14.583   6.874 515.907  1.00  0.00          FE  \nATOM    596   Fe MOL     1      15.395   8.022  -0.000  1.00  0.00          FE  \nATOM    597   Fe MOL     1      14.585   6.876   1.985  1.00  0.00          FE  \nATOM    598   Fe MOL     1      15.395   8.022   3.978  1.00  0.00          FE  \nATOM    599   Fe MOL     1      14.585   6.876   5.985  1.00  0.00          FE  \nATOM    600   Fe MOL     1      15.395   8.022   7.985  1.00  0.00          FE  \nATOM    601   Fe MOL     1      13.772   9.166 507.918  1.00  0.00          FE  \nATOM    602   Fe MOL     1      14.582  10.312 509.919  1.00  0.00          FE  \nATOM    603   Fe MOL     1      13.772   9.166 511.926  1.00  0.00          FE  \nATOM    604   Fe MOL     1      14.582  10.312 513.919  1.00  0.00          FE  \nATOM    605   Fe MOL     1      13.772   9.166 515.907  1.00  0.00          FE  \nATOM    606   Fe MOL     1      14.583  10.313  -0.000  1.00  0.00          FE  \nATOM    607   Fe MOL     1      13.773   9.167   1.985  1.00  0.00          FE  \nATOM    608   Fe MOL     1      14.583  10.313   3.978  1.00  0.00          FE  \nATOM    609   Fe MOL     1      13.774   9.167   5.985  1.00  0.00          FE  \nATOM    610   Fe MOL     1      14.583  10.313   7.985  1.00  0.00          FE  \nATOM    611   Fe MOL     1      12.961  11.458 507.918  1.00  0.00          FE  \nATOM    612   Fe MOL     1      13.771  12.604 509.919  1.00  0.00          FE  \nATOM    613   Fe MOL     1      12.961  11.458 511.926  1.00  0.00          FE  \nATOM    614   Fe MOL     1      13.771  12.604 513.919  1.00  0.00          FE  \nATOM    615   Fe MOL     1      12.961  11.458 515.907  1.00  0.00          FE  \nATOM    616   Fe MOL     1      13.772  12.605  -0.000  1.00  0.00          FE  \nATOM    617   Fe MOL     1      12.962  11.459   1.985  1.00  0.00          FE  \nATOM    618   Fe MOL     1      13.772  12.605   3.978  1.00  0.00          FE  \nATOM    619   Fe MOL     1      12.962  11.459   5.985  1.00  0.00          FE  \nATOM    620   Fe MOL     1      13.772  12.605   7.985  1.00  0.00          FE  \nATOM    621   Fe MOL     1      12.149  13.750 507.918  1.00  0.00          FE  \nATOM    622   Fe MOL     1      12.959  14.896 509.919  1.00  0.00          FE  \nATOM    623   Fe MOL     1      12.149  13.750 511.926  1.00  0.00          FE  \nATOM    624   Fe MOL     1      12.959  14.896 513.919  1.00  0.00          FE  \nATOM    625   Fe MOL     1      12.149  13.750 515.907  1.00  0.00          FE  \nATOM    626   Fe MOL     1      12.961  14.897  -0.000  1.00  0.00          FE  \nATOM    627   Fe MOL     1      12.151  13.751   1.985  1.00  0.00          FE  \nATOM    628   Fe MOL     1      12.961  14.897   3.978  1.00  0.00          FE  \nATOM    629   Fe MOL     1      12.151  13.751   5.985  1.00  0.00          FE  \nATOM    630   Fe MOL     1      12.961  14.897   7.985  1.00  0.00          FE  \nATOM    631   Fe MOL     1      11.338  16.042 507.918  1.00  0.00          FE  \nATOM    632   Fe MOL     1      12.148  17.188 509.919  1.00  0.00          FE  \nATOM    633   Fe MOL     1      11.338  16.042 511.926  1.00  0.00          FE  \nATOM    634   Fe MOL     1      12.148  17.188 513.919  1.00  0.00          FE  \nATOM    635   Fe MOL     1      11.338  16.042 515.907  1.00  0.00          FE  \nATOM    636   Fe MOL     1      12.149  17.189  -0.000  1.00  0.00          FE  \nATOM    637   Fe MOL     1      11.339  16.043   1.985  1.00  0.00          FE  \nATOM    638   Fe MOL     1      12.149  17.189   3.978  1.00  0.00          FE  \nATOM    639   Fe MOL     1      11.339  16.043   5.985  1.00  0.00          FE  \nATOM    640   Fe MOL     1      12.149  17.189   7.985  1.00  0.00          FE  \nATOM    641    O MOL     1       9.238  18.160 361.327  1.00  0.00           O  \nATOM    642    C MOL     1       8.309  17.164 361.774  1.00  0.00           C  \nATOM    643    C MOL     1       6.960  17.812 362.027  1.00  0.00           C  \nATOM    644    O MOL     1       6.259  18.177 360.844  1.00  0.00           O  \nATOM    645    C MOL     1       6.531  19.498 360.372  1.00  0.00           C  \nATOM    646    C MOL     1       5.634  19.725 359.167  1.00  0.00           C  \nATOM    647    O MOL     1       5.907  21.032 358.677  1.00  0.00           O  \nATOM    648    C MOL     1       5.052  21.438 357.618  1.00  0.00           C  \nATOM    649    C MOL     1       5.336  20.776 356.279  1.00  0.00           C  \nATOM    650    O MOL     1       6.609  21.192 355.808  1.00  0.00           O  \nATOM    651    C MOL     1       6.981  20.548 354.599  1.00  0.00           C  \nATOM    652    C MOL     1       8.383  21.034 354.239  1.00  0.00           C  \nATOM    653    O MOL     1       8.910  20.387 353.086  1.00  0.00           O  \nATOM    654    C MOL     1       8.401  20.859 351.837  1.00  0.00           C  \nATOM    655    C MOL     1       7.615  19.760 351.134  1.00  0.00           C  \nATOM    656    O MOL     1       7.258  20.257 349.848  1.00  0.00           O  \nATOM    657    C MOL     1       6.518  19.334 349.050  1.00  0.00           C  \nATOM    658    C MOL     1       5.021  19.372 349.385  1.00  0.00           C  \nATOM    659    O MOL     1       4.281  18.481 348.549  1.00  0.00           O  \nATOM    660    C MOL     1       3.529  19.107 347.516  1.00  0.00           C  \nATOM    661    C MOL     1       4.351  19.811 346.437  1.00  0.00           C  \nATOM    662    O MOL     1       5.344  19.005 345.810  1.00  0.00           O  \nATOM    663    C MOL     1       4.862  17.854 345.123  1.00  0.00           C  \nATOM    664    C MOL     1       3.859  18.146 344.004  1.00  0.00           C  \nATOM    665    O MOL     1       4.270  19.148 343.084  1.00  0.00           O  \nATOM    666    C MOL     1       5.402  18.780 342.300  1.00  0.00           C  \nATOM    667    C MOL     1       5.639  19.831 341.231  1.00  0.00           C  \nATOM    668    O MOL     1       4.625  19.861 340.232  1.00  0.00           O  \nATOM    669    C MOL     1       3.596  20.824 340.469  1.00  0.00           C  \nATOM    670    C MOL     1       2.552  20.637 339.373  1.00  0.00           C  \nATOM    671    O MOL     1       1.577  21.685 339.403  1.00  0.00           O  \nATOM    672    C MOL     1       0.495  21.490 340.312  1.00  0.00           C  \nATOM    673    C MOL     1      -0.676  20.747 339.695  1.00  0.00           C  \nATOM    674    O MOL     1      -0.383  19.349 339.640  1.00  0.00           O  \nATOM    675    C MOL     1      -1.158  18.626 338.687  1.00  0.00           C  \nATOM    676    C MOL     1      -0.438  18.568 337.333  1.00  0.00           C  \nATOM    677    O MOL     1      -1.200  17.849 336.363  1.00  0.00           O  \nATOM    678    C MOL     1      -1.035  16.431 336.420  1.00  0.00           C  \nATOM    679    C MOL     1       0.139  15.965 335.547  1.00  0.00           C  \nATOM    680    O MOL     1       0.342  14.558 335.648  1.00  0.00           O  \nATOM    681    C MOL     1      -0.520  13.790 334.817  1.00  0.00           C  \nATOM    682    C MOL     1      -0.269  12.314 335.075  1.00  0.00           C  \nATOM    683    O MOL     1       0.996  11.845 334.612  1.00  0.00           O  \nATOM    684    C MOL     1       1.024  11.510 333.227  1.00  0.00           C  \nATOM    685    C MOL     1       0.507  10.092 332.992  1.00  0.00           C  \nATOM    686    H MOL     1      10.053  17.716 361.041  1.00  0.00           H  \nATOM    687    H MOL     1       8.186  16.367 361.018  1.00  0.00           H  \nATOM    688    H MOL     1       8.654  16.699 362.718  1.00  0.00           H  \nATOM    689    H MOL     1       6.323  17.080 362.549  1.00  0.00           H  \nATOM    690    H MOL     1       7.089  18.688 362.690  1.00  0.00           H  \nATOM    691    H MOL     1       7.588  19.613 360.085  1.00  0.00           H  \nATOM    692    H MOL     1       6.303  20.241 361.159  1.00  0.00           H  \nATOM    693    H MOL     1       5.844  18.949 358.408  1.00  0.00           H  \nATOM    694    H MOL     1       4.569  19.633 359.461  1.00  0.00           H  \nATOM    695    H MOL     1       3.992  21.249 357.883  1.00  0.00           H  \nATOM    696    H MOL     1       5.196  22.524 357.519  1.00  0.00           H  \nATOM    697    H MOL     1       5.302  19.673 356.366  1.00  0.00           H  \nATOM    698    H MOL     1       4.540  21.071 355.563  1.00  0.00           H  \nATOM    699    H MOL     1       6.990  19.448 354.726  1.00  0.00           H  \nATOM    700    H MOL     1       6.257  20.789 353.793  1.00  0.00           H  \nATOM    701    H MOL     1       8.374  22.132 354.109  1.00  0.00           H  \nATOM    702    H MOL     1       9.065  20.796 355.067  1.00  0.00           H  \nATOM    703    H MOL     1       7.764  21.749 351.978  1.00  0.00           H  \nATOM    704    H MOL     1       9.253  21.153 351.202  1.00  0.00           H  \nATOM    705    H MOL     1       8.245  18.855 351.038  1.00  0.00           H  \nATOM    706    H MOL     1       6.725  19.488 351.732  1.00  0.00           H  \nATOM    707    H MOL     1       6.677  19.619 348.002  1.00  0.00           H  \nATOM    708    H MOL     1       6.901  18.305 349.178  1.00  0.00           H  \nATOM    709    H MOL     1       4.854  19.050 350.425  1.00  0.00           H  \nATOM    710    H MOL     1       4.649  20.407 349.291  1.00  0.00           H  \nATOM    711    H MOL     1       2.917  18.303 347.082  1.00  0.00           H  \nATOM    712    H MOL     1       2.830  19.857 347.941  1.00  0.00           H  \nATOM    713    H MOL     1       4.908  20.657 346.865  1.00  0.00           H  \nATOM    714    H MOL     1       3.647  20.233 345.694  1.00  0.00           H  \nATOM    715    H MOL     1       4.397  17.130 345.819  1.00  0.00           H  \nATOM    716    H MOL     1       5.765  17.375 344.719  1.00  0.00           H  \nATOM    717    H MOL     1       3.657  17.190 343.478  1.00  0.00           H  \nATOM    718    H MOL     1       2.903  18.504 344.413  1.00  0.00           H  \nATOM    719    H MOL     1       5.228  17.797 341.822  1.00  0.00           H  \nATOM    720    H MOL     1       6.312  18.707 342.927  1.00  0.00           H  \nATOM    721    H MOL     1       6.585  19.587 340.720  1.00  0.00           H  \nATOM    722    H MOL     1       5.754  20.824 341.701  1.00  0.00           H  \nATOM    723    H MOL     1       3.156  20.679 341.470  1.00  0.00           H  \nATOM    724    H MOL     1       4.009  21.849 340.412  1.00  0.00           H  \nATOM    725    H MOL     1       3.046  20.706 338.393  1.00  0.00           H  \nATOM    726    H MOL     1       2.078  19.648 339.456  1.00  0.00           H  \nATOM    727    H MOL     1       0.155  22.497 340.603  1.00  0.00           H  \nATOM    728    H MOL     1       0.823  20.965 341.227  1.00  0.00           H  \nATOM    729    H MOL     1      -1.586  20.914 340.308  1.00  0.00           H  \nATOM    730    H MOL     1      -0.864  21.154 338.686  1.00  0.00           H  \nATOM    731    H MOL     1      -2.161  19.072 338.559  1.00  0.00           H  \nATOM    732    H MOL     1      -1.290  17.612 339.094  1.00  0.00           H  \nATOM    733    H MOL     1       0.566  18.129 337.475  1.00  0.00           H  \nATOM    734    H MOL     1      -0.304  19.584 336.933  1.00  0.00           H  \nATOM    735    H MOL     1      -0.875  16.077 337.453  1.00  0.00           H  \nATOM    736    H MOL     1      -1.980  15.997 336.059  1.00  0.00           H  \nATOM    737    H MOL     1      -0.029  16.271 334.498  1.00  0.00           H  \nATOM    738    H MOL     1       1.073  16.433 335.891  1.00  0.00           H  \nATOM    739    H MOL     1      -0.350  14.044 333.752  1.00  0.00           H  \nATOM    740    H MOL     1      -1.587  13.997 335.038  1.00  0.00           H  \nATOM    741    H MOL     1      -1.098  11.735 334.626  1.00  0.00           H  \nATOM    742    H MOL     1      -0.280  12.137 336.161  1.00  0.00           H  \nATOM    743    H MOL     1       0.435  12.219 332.619  1.00  0.00           H  \nATOM    744    H MOL     1       2.072  11.584 332.906  1.00  0.00           H  \nATOM    745    H MOL     1       1.140   9.361 333.531  1.00  0.00           H  \nATOM    746    H MOL     1      -0.521  10.000 333.388  1.00  0.00           H  \nATOM    747    O MOL     1       0.544   9.850 331.590  1.00  0.00           O  \nATOM    748    C MOL     1      -0.100   8.639 331.197  1.00  0.00           C  \nATOM    749    C MOL     1      -1.627   8.698 331.185  1.00  0.00           C  \nATOM    750    O MOL     1      -2.175   9.543 330.182  1.00  0.00           O  \nATOM    751    C MOL     1      -2.182  10.933 330.511  1.00  0.00           C  \nATOM    752    C MOL     1      -2.989  11.635 329.432  1.00  0.00           C  \nATOM    753    O MOL     1      -2.852  13.035 329.640  1.00  0.00           O  \nATOM    754    C MOL     1      -3.722  13.823 328.837  1.00  0.00           C  \nATOM    755    C MOL     1      -3.469  13.737 327.341  1.00  0.00           C  \nATOM    756    O MOL     1      -2.179  14.250 327.042  1.00  0.00           O  \nATOM    757    C MOL     1      -1.770  13.952 325.715  1.00  0.00           C  \nATOM    758    C MOL     1      -0.382  14.559 325.519  1.00  0.00           C  \nATOM    759    O MOL     1       0.267  14.111 324.336  1.00  0.00           O  \nATOM    760    C MOL     1      -0.251  14.641 323.115  1.00  0.00           C  \nATOM    761    C MOL     1      -1.029  13.576 322.350  1.00  0.00           C  \nATOM    762    O MOL     1      -1.371  14.125 321.081  1.00  0.00           O  \nATOM    763    C MOL     1      -2.150  13.248 320.267  1.00  0.00           C  \nATOM    764    C MOL     1      -3.644  13.371 320.590  1.00  0.00           C  \nATOM    765    O MOL     1      -4.424  12.458 319.816  1.00  0.00           O  \nATOM    766    C MOL     1      -5.138  13.038 318.731  1.00  0.00           C  \nATOM    767    C MOL     1      -4.276  13.601 317.601  1.00  0.00           C  \nATOM    768    O MOL     1      -3.299  12.705 317.078  1.00  0.00           O  \nATOM    769    C MOL     1      -3.800  11.475 316.564  1.00  0.00           C  \nATOM    770    C MOL     1      -4.825  11.617 315.436  1.00  0.00           C  \nATOM    771    O MOL     1      -4.426  12.469 314.372  1.00  0.00           O  \nATOM    772    C MOL     1      -3.313  11.980 313.627  1.00  0.00           C  \nATOM    773    C MOL     1      -3.133  12.825 312.379  1.00  0.00           C  \nATOM    774    O MOL     1      -4.182  12.659 311.430  1.00  0.00           O  \nATOM    775    C MOL     1      -5.229  13.626 311.542  1.00  0.00           C  \nATOM    776    C MOL     1      -6.339  13.205 310.585  1.00  0.00           C  \nATOM    777    O MOL     1      -7.364  14.199 310.524  1.00  0.00           O  \nATOM    778    C MOL     1      -8.355  14.109 311.549  1.00  0.00           C  \nATOM    779    C MOL     1      -9.604  13.386 311.078  1.00  0.00           C  \nATOM    780    O MOL     1      -9.346  11.983 310.983  1.00  0.00           O  \nATOM    781    C MOL     1     -10.050  11.323 309.934  1.00  0.00           C  \nATOM    782    C MOL     1      -9.261  11.391 308.620  1.00  0.00           C  \nATOM    783    O MOL     1      -9.974  10.768 307.550  1.00  0.00           O  \nATOM    784    C MOL     1      -9.756   9.360 307.436  1.00  0.00           C  \nATOM    785    C MOL     1      -8.505   9.057 306.600  1.00  0.00           C  \nATOM    786    O MOL     1      -8.269   7.658 306.471  1.00  0.00           O  \nATOM    787    C MOL     1      -9.029   7.037 305.441  1.00  0.00           C  \nATOM    788    C MOL     1      -8.581   5.590 305.303  1.00  0.00           C  \nATOM    789    O MOL     1      -7.259   5.439 304.801  1.00  0.00           O  \nATOM    790    C MOL     1      -7.155   5.509 303.376  1.00  0.00           C  \nATOM    791    C MOL     1      -7.501   4.191 302.690  1.00  0.00           C  \nATOM    792    H MOL     1       0.256   8.431 330.177  1.00  0.00           H  \nATOM    793    H MOL     1       0.218   7.804 331.853  1.00  0.00           H  \nATOM    794    H MOL     1      -1.999   7.685 330.963  1.00  0.00           H  \nATOM    795    H MOL     1      -2.020   8.985 332.180  1.00  0.00           H  \nATOM    796    H MOL     1      -1.161  11.345 330.537  1.00  0.00           H  \nATOM    797    H MOL     1      -2.644  11.090 331.505  1.00  0.00           H  \nATOM    798    H MOL     1      -2.597  11.329 328.446  1.00  0.00           H  \nATOM    799    H MOL     1      -4.054  11.331 329.484  1.00  0.00           H  \nATOM    800    H MOL     1      -4.779  13.541 329.021  1.00  0.00           H  \nATOM    801    H MOL     1      -3.575  14.858 329.176  1.00  0.00           H  \nATOM    802    H MOL     1      -3.552  12.690 326.990  1.00  0.00           H  \nATOM    803    H MOL     1      -4.255  14.317 326.815  1.00  0.00           H  \nATOM    804    H MOL     1      -1.717  12.855 325.562  1.00  0.00           H  \nATOM    805    H MOL     1      -2.496  14.361 324.984  1.00  0.00           H  \nATOM    806    H MOL     1      -0.447  15.663 325.538  1.00  0.00           H  \nATOM    807    H MOL     1       0.255  14.241 326.356  1.00  0.00           H  \nATOM    808    H MOL     1      -0.888  15.522 323.303  1.00  0.00           H  \nATOM    809    H MOL     1       0.602  14.968 322.499  1.00  0.00           H  \nATOM    810    H MOL     1      -0.394  12.678 322.224  1.00  0.00           H  \nATOM    811    H MOL     1      -1.928  13.274 322.918  1.00  0.00           H  \nATOM    812    H MOL     1      -1.959  13.525 319.222  1.00  0.00           H  \nATOM    813    H MOL     1      -1.830  12.198 320.396  1.00  0.00           H  \nATOM    814    H MOL     1      -3.821  13.123 321.649  1.00  0.00           H  \nATOM    815    H MOL     1      -3.976  14.412 320.431  1.00  0.00           H  \nATOM    816    H MOL     1      -5.793  12.235 318.362  1.00  0.00           H  \nATOM    817    H MOL     1      -5.794  13.859 319.086  1.00  0.00           H  \nATOM    818    H MOL     1      -3.697  14.469 317.950  1.00  0.00           H  \nATOM    819    H MOL     1      -4.955  13.964 316.805  1.00  0.00           H  \nATOM    820    H MOL     1      -4.253  10.857 317.363  1.00  0.00           H  \nATOM    821    H MOL     1      -2.908  10.939 316.211  1.00  0.00           H  \nATOM    822    H MOL     1      -5.050  10.598 315.059  1.00  0.00           H  \nATOM    823    H MOL     1      -5.768  12.044 315.810  1.00  0.00           H  \nATOM    824    H MOL     1      -3.486  10.925 313.337  1.00  0.00           H  \nATOM    825    H MOL     1      -2.384  12.030 314.226  1.00  0.00           H  \nATOM    826    H MOL     1      -2.201  12.506 311.885  1.00  0.00           H  \nATOM    827    H MOL     1      -3.023  13.888 312.659  1.00  0.00           H  \nATOM    828    H MOL     1      -5.599  13.675 312.579  1.00  0.00           H  \nATOM    829    H MOL     1      -4.857  14.628 311.255  1.00  0.00           H  \nATOM    830    H MOL     1      -5.929  13.117 309.568  1.00  0.00           H  \nATOM    831    H MOL     1      -6.751  12.226 310.878  1.00  0.00           H  \nATOM    832    H MOL     1      -8.629  15.140 311.824  1.00  0.00           H  \nATOM    833    H MOL     1      -7.956  13.612 312.449  1.00  0.00           H  \nATOM    834    H MOL     1     -10.429  13.566 311.796  1.00  0.00           H  \nATOM    835    H MOL     1      -9.906  13.799 310.100  1.00  0.00           H  \nATOM    836    H MOL     1     -11.056  11.756 309.786  1.00  0.00           H  \nATOM    837    H MOL     1     -10.176  10.278 310.253  1.00  0.00           H  \nATOM    838    H MOL     1      -8.265  10.938 308.770  1.00  0.00           H  \nATOM    839    H MOL     1      -9.107  12.440 308.327  1.00  0.00           H  \nATOM    840    H MOL     1      -9.662   8.878 308.425  1.00  0.00           H  \nATOM    841    H MOL     1     -10.652   8.951 306.947  1.00  0.00           H  \nATOM    842    H MOL     1      -8.600   9.537 305.608  1.00  0.00           H  \nATOM    843    H MOL     1      -7.612   9.470 307.092  1.00  0.00           H  \nATOM    844    H MOL     1      -8.893   7.586 304.489  1.00  0.00           H  \nATOM    845    H MOL     1     -10.113   7.044 305.674  1.00  0.00           H  \nATOM    846    H MOL     1      -9.316   5.053 304.673  1.00  0.00           H  \nATOM    847    H MOL     1      -8.585   5.121 306.299  1.00  0.00           H  \nATOM    848    H MOL     1      -7.783   6.328 302.979  1.00  0.00           H  \nATOM    849    H MOL     1      -6.107   5.777 303.177  1.00  0.00           H  \nATOM    850    H MOL     1      -6.858   3.384 303.067  1.00  0.00           H  \nATOM    851    H MOL     1      -8.549   3.905 302.857  1.00  0.00           H  \nATOM    852    H MOL     1      -7.349   4.278 301.604  1.00  0.00           H  \nATOM    853    O MOL     1      19.961  17.651 178.110  1.00  0.00           O  \nATOM    854    C MOL     1      19.641  19.016 178.408  1.00  0.00           C  \nATOM    855    C MOL     1      18.413  19.428 177.617  1.00  0.00           C  \nATOM    856    O MOL     1      17.197  18.863 178.094  1.00  0.00           O  \nATOM    857    C MOL     1      16.852  17.606 177.508  1.00  0.00           C  \nATOM    858    C MOL     1      15.499  17.216 178.076  1.00  0.00           C  \nATOM    859    O MOL     1      15.151  15.956 177.513  1.00  0.00           O  \nATOM    860    C MOL     1      13.846  15.514 177.858  1.00  0.00           C  \nATOM    861    C MOL     1      13.697  15.019 179.287  1.00  0.00           C  \nATOM    862    O MOL     1      14.466  13.839 179.460  1.00  0.00           O  \nATOM    863    C MOL     1      14.443  13.364 180.798  1.00  0.00           C  \nATOM    864    C MOL     1      15.351  12.137 180.859  1.00  0.00           C  \nATOM    865    O MOL     1      15.486  11.618 182.177  1.00  0.00           O  \nATOM    866    C MOL     1      14.377  10.849 182.645  1.00  0.00           C  \nATOM    867    C MOL     1      13.710  11.543 183.827  1.00  0.00           C  \nATOM    868    O MOL     1      12.708  10.660 184.320  1.00  0.00           O  \nATOM    869    C MOL     1      11.990  11.164 185.447  1.00  0.00           C  \nATOM    870    C MOL     1      10.843  12.088 185.018  1.00  0.00           C  \nATOM    871    O MOL     1      10.099  12.548 186.148  1.00  0.00           O  \nATOM    872    C MOL     1       8.832  11.928 186.328  1.00  0.00           C  \nATOM    873    C MOL     1       8.869  10.438 186.666  1.00  0.00           C  \nATOM    874    O MOL     1       9.676  10.091 187.787  1.00  0.00           O  \nATOM    875    C MOL     1       9.292  10.673 189.028  1.00  0.00           C  \nATOM    876    C MOL     1       7.866  10.344 189.479  1.00  0.00           C  \nATOM    877    O MOL     1       7.537   8.963 189.447  1.00  0.00           O  \nATOM    878    C MOL     1       8.271   8.173 190.379  1.00  0.00           C  \nATOM    879    C MOL     1       7.714   6.762 190.394  1.00  0.00           C  \nATOM    880    O MOL     1       6.405   6.675 190.948  1.00  0.00           O  \nATOM    881    C MOL     1       5.354   6.716 189.980  1.00  0.00           C  \nATOM    882    C MOL     1       4.039   6.727 190.752  1.00  0.00           C  \nATOM    883    O MOL     1       2.922   6.565 189.873  1.00  0.00           O  \nATOM    884    C MOL     1       2.444   7.762 189.261  1.00  0.00           C  \nATOM    885    C MOL     1       1.384   8.472 190.085  1.00  0.00           C  \nATOM    886    O MOL     1       2.007   9.187 191.154  1.00  0.00           O  \nATOM    887    C MOL     1       1.135   9.490 192.241  1.00  0.00           C  \nATOM    888    C MOL     1       1.182   8.380 193.300  1.00  0.00           C  \nATOM    889    O MOL     1       0.313   8.664 194.397  1.00  0.00           O  \nATOM    890    C MOL     1       0.880   9.522 195.389  1.00  0.00           C  \nATOM    891    C MOL     1       1.638   8.723 196.458  1.00  0.00           C  \nATOM    892    O MOL     1       2.253   9.580 197.416  1.00  0.00           O  \nATOM    893    C MOL     1       1.372  10.026 198.441  1.00  0.00           C  \nATOM    894    C MOL     1       2.115  10.995 199.345  1.00  0.00           C  \nATOM    895    O MOL     1       3.130  10.389 200.143  1.00  0.00           O  \nATOM    896    C MOL     1       2.650   9.788 201.343  1.00  0.00           C  \nATOM    897    C MOL     1       2.506  10.821 202.458  1.00  0.00           C  \nATOM    898    H MOL     1      20.660  17.358 178.718  1.00  0.00           H  \nATOM    899    H MOL     1      19.434  19.151 179.484  1.00  0.00           H  \nATOM    900    H MOL     1      20.476  19.687 178.127  1.00  0.00           H  \nATOM    901    H MOL     1      18.300  20.521 177.706  1.00  0.00           H  \nATOM    902    H MOL     1      18.562  19.186 176.548  1.00  0.00           H  \nATOM    903    H MOL     1      17.600  16.834 177.743  1.00  0.00           H  \nATOM    904    H MOL     1      16.788  17.701 176.407  1.00  0.00           H  \nATOM    905    H MOL     1      15.569  17.167 179.178  1.00  0.00           H  \nATOM    906    H MOL     1      14.740  17.981 177.818  1.00  0.00           H  \nATOM    907    H MOL     1      13.107  16.323 177.690  1.00  0.00           H  \nATOM    908    H MOL     1      13.620  14.688 177.167  1.00  0.00           H  \nATOM    909    H MOL     1      14.018  15.794 180.011  1.00  0.00           H  \nATOM    910    H MOL     1      12.623  14.817 179.481  1.00  0.00           H  \nATOM    911    H MOL     1      14.817  14.138 181.497  1.00  0.00           H  \nATOM    912    H MOL     1      13.407  13.108 181.101  1.00  0.00           H  \nATOM    913    H MOL     1      14.976  11.363 180.164  1.00  0.00           H  \nATOM    914    H MOL     1      16.360  12.425 180.534  1.00  0.00           H  \nATOM    915    H MOL     1      13.641  10.682 181.841  1.00  0.00           H  \nATOM    916    H MOL     1      14.748   9.864 182.971  1.00  0.00           H  \nATOM    917    H MOL     1      14.464  11.750 184.610  1.00  0.00           H  \nATOM    918    H MOL     1      13.284  12.513 183.507  1.00  0.00           H  \nATOM    919    H MOL     1      11.592  10.294 185.986  1.00  0.00           H  \nATOM    920    H MOL     1      12.664  11.703 186.137  1.00  0.00           H  \nATOM    921    H MOL     1      11.241  12.980 184.509  1.00  0.00           H  \nATOM    922    H MOL     1      10.191  11.558 184.301  1.00  0.00           H  \nATOM    923    H MOL     1       8.347  12.501 187.134  1.00  0.00           H  \nATOM    924    H MOL     1       8.205  12.045 185.420  1.00  0.00           H  \nATOM    925    H MOL     1       9.292   9.863 185.829  1.00  0.00           H  \nATOM    926    H MOL     1       7.826  10.093 186.798  1.00  0.00           H  \nATOM    927    H MOL     1       9.399  11.775 189.011  1.00  0.00           H  \nATOM    928    H MOL     1      10.025  10.292 189.752  1.00  0.00           H  \nATOM    929    H MOL     1       7.736  10.755 190.502  1.00  0.00           H  \nATOM    930    H MOL     1       7.123  10.834 188.833  1.00  0.00           H  \nATOM    931    H MOL     1       8.192   8.614 191.392  1.00  0.00           H  \nATOM    932    H MOL     1       9.341   8.125 190.101  1.00  0.00           H  \nATOM    933    H MOL     1       8.371   6.146 191.029  1.00  0.00           H  \nATOM    934    H MOL     1       7.735   6.340 189.373  1.00  0.00           H  \nATOM    935    H MOL     1       5.452   7.609 189.341  1.00  0.00           H  \nATOM    936    H MOL     1       5.394   5.817 189.334  1.00  0.00           H  \nATOM    937    H MOL     1       4.018   5.866 191.436  1.00  0.00           H  \nATOM    938    H MOL     1       3.949   7.648 191.348  1.00  0.00           H  \nATOM    939    H MOL     1       1.994   7.458 188.303  1.00  0.00           H  \nATOM    940    H MOL     1       3.269   8.462 189.041  1.00  0.00           H  \nATOM    941    H MOL     1       0.824   9.178 189.440  1.00  0.00           H  \nATOM    942    H MOL     1       0.671   7.721 190.470  1.00  0.00           H  \nATOM    943    H MOL     1       0.096   9.635 191.897  1.00  0.00           H  \nATOM    944    H MOL     1       1.485  10.442 192.668  1.00  0.00           H  \nATOM    945    H MOL     1       2.227   8.237 193.630  1.00  0.00           H  \nATOM    946    H MOL     1       0.836   7.430 192.867  1.00  0.00           H  \nATOM    947    H MOL     1       1.564  10.266 194.945  1.00  0.00           H  \nATOM    948    H MOL     1       0.037  10.067 195.840  1.00  0.00           H  \nATOM    949    H MOL     1       0.954   8.004 196.945  1.00  0.00           H  \nATOM    950    H MOL     1       2.454   8.151 195.993  1.00  0.00           H  \nATOM    951    H MOL     1       0.986   9.160 199.014  1.00  0.00           H  \nATOM    952    H MOL     1       0.496  10.559 198.019  1.00  0.00           H  \nATOM    953    H MOL     1       1.374  11.523 199.974  1.00  0.00           H  \nATOM    954    H MOL     1       2.626  11.742 198.721  1.00  0.00           H  \nATOM    955    H MOL     1       1.682   9.279 201.190  1.00  0.00           H  \nATOM    956    H MOL     1       3.387   9.026 201.632  1.00  0.00           H  \nATOM    957    H MOL     1       3.488  11.282 202.680  1.00  0.00           H  \nATOM    958    H MOL     1       1.823  11.628 202.134  1.00  0.00           H  \nATOM    959    O MOL     1       2.000  10.147 203.605  1.00  0.00           O  \nATOM    960    C MOL     1       1.621  11.019 204.668  1.00  0.00           C  \nATOM    961    C MOL     1       0.292  11.745 204.461  1.00  0.00           C  \nATOM    962    O MOL     1      -0.850  10.899 204.488  1.00  0.00           O  \nATOM    963    C MOL     1      -1.106  10.203 203.268  1.00  0.00           C  \nATOM    964    C MOL     1      -2.463   9.536 203.420  1.00  0.00           C  \nATOM    965    O MOL     1      -2.651   8.690 202.293  1.00  0.00           O  \nATOM    966    C MOL     1      -3.966   8.158 202.186  1.00  0.00           C  \nATOM    967    C MOL     1      -4.372   7.219 203.310  1.00  0.00           C  \nATOM    968    O MOL     1      -3.542   6.067 203.296  1.00  0.00           O  \nATOM    969    C MOL     1      -3.681   5.284 204.473  1.00  0.00           C  \nATOM    970    C MOL     1      -2.749   4.082 204.332  1.00  0.00           C  \nATOM    971    O MOL     1      -2.578   3.356 205.543  1.00  0.00           O  \nATOM    972    C MOL     1      -3.700   2.571 205.950  1.00  0.00           C  \nATOM    973    C MOL     1      -4.396   3.203 207.151  1.00  0.00           C  \nATOM    974    O MOL     1      -5.393   2.289 207.597  1.00  0.00           O  \nATOM    975    C MOL     1      -6.164   2.773 208.697  1.00  0.00           C  \nATOM    976    C MOL     1      -7.338   3.635 208.216  1.00  0.00           C  \nATOM    977    O MOL     1      -8.083   4.165 209.314  1.00  0.00           O  \nATOM    978    C MOL     1      -9.327   3.526 209.568  1.00  0.00           C  \nATOM    979    C MOL     1      -9.238   2.076 210.045  1.00  0.00           C  \nATOM    980    O MOL     1      -8.374   1.855 211.157  1.00  0.00           O  \nATOM    981    C MOL     1      -8.678   2.598 212.333  1.00  0.00           C  \nATOM    982    C MOL     1     -10.084   2.371 212.895  1.00  0.00           C  \nATOM    983    O MOL     1     -10.444   1.008 213.068  1.00  0.00           O  \nATOM    984    C MOL     1      -9.675   0.328 214.057  1.00  0.00           C  \nATOM    985    C MOL     1     -10.299  -1.027 214.337  1.00  0.00           C  \nATOM    986    O MOL     1     -11.561  -0.941 214.992  1.00  0.00           O  \nATOM    987    C MOL     1     -12.682  -0.967 214.106  1.00  0.00           C  \nATOM    988    C MOL     1     -13.927  -0.691 214.942  1.00  0.00           C  \nATOM    989    O MOL     1     -15.113  -0.846 214.158  1.00  0.00           O  \nATOM    990    C MOL     1     -15.492   0.305 213.402  1.00  0.00           C  \nATOM    991    C MOL     1     -16.560   1.125 214.101  1.00  0.00           C  \nATOM    992    O MOL     1     -15.983   1.838 215.198  1.00  0.00           O  \nATOM    993    C MOL     1     -16.854   2.009 216.314  1.00  0.00           C  \nATOM    994    C MOL     1     -16.766   0.807 217.264  1.00  0.00           C  \nATOM    995    O MOL     1     -17.663   0.947 218.367  1.00  0.00           O  \nATOM    996    C MOL     1     -17.128   1.673 219.475  1.00  0.00           C  \nATOM    997    C MOL     1     -16.334   0.753 220.412  1.00  0.00           C  \nATOM    998    O MOL     1     -15.793   1.455 221.526  1.00  0.00           O  \nATOM    999    C MOL     1     -16.714   1.640 222.595  1.00  0.00           C  \nATOM   1000    C MOL     1     -15.981   2.262 223.774  1.00  0.00           C  \nATOM   1001    O MOL     1     -15.023   1.401 224.380  1.00  0.00           O  \nATOM   1002    C MOL     1     -15.571   0.479 225.327  1.00  0.00           C  \nATOM   1003    C MOL     1     -15.791   1.101 226.702  1.00  0.00           C  \nATOM   1004    H MOL     1       1.544  10.382 205.561  1.00  0.00           H  \nATOM   1005    H MOL     1       2.414  11.774 204.847  1.00  0.00           H  \nATOM   1006    H MOL     1       0.164  12.452 205.295  1.00  0.00           H  \nATOM   1007    H MOL     1       0.305  12.336 203.524  1.00  0.00           H  \nATOM   1008    H MOL     1      -0.337   9.439 203.071  1.00  0.00           H  \nATOM   1009    H MOL     1      -1.116  10.911 202.417  1.00  0.00           H  \nATOM   1010    H MOL     1      -2.467   8.962 204.365  1.00  0.00           H  \nATOM   1011    H MOL     1      -3.265  10.297 203.480  1.00  0.00           H  \nATOM   1012    H MOL     1      -4.711   8.978 202.141  1.00  0.00           H  \nATOM   1013    H MOL     1      -3.985   7.617 201.229  1.00  0.00           H  \nATOM   1014    H MOL     1      -4.299   7.729 204.291  1.00  0.00           H  \nATOM   1015    H MOL     1      -5.436   6.939 203.169  1.00  0.00           H  \nATOM   1016    H MOL     1      -3.392   5.871 205.367  1.00  0.00           H  \nATOM   1017    H MOL     1      -4.735   4.964 204.603  1.00  0.00           H  \nATOM   1018    H MOL     1      -3.109   3.418 203.524  1.00  0.00           H  \nATOM   1019    H MOL     1      -1.751   4.449 204.053  1.00  0.00           H  \nATOM   1020    H MOL     1      -4.413   2.437 205.119  1.00  0.00           H  \nATOM   1021    H MOL     1      -3.328   1.575 206.239  1.00  0.00           H  \nATOM   1022    H MOL     1      -3.653   3.386 207.950  1.00  0.00           H  \nATOM   1023    H MOL     1      -4.834   4.179 206.871  1.00  0.00           H  \nATOM   1024    H MOL     1      -6.532   1.894 209.243  1.00  0.00           H  \nATOM   1025    H MOL     1      -5.538   3.359 209.393  1.00  0.00           H  \nATOM   1026    H MOL     1      -6.961   4.496 207.640  1.00  0.00           H  \nATOM   1027    H MOL     1      -7.986   3.043 207.545  1.00  0.00           H  \nATOM   1028    H MOL     1      -9.821   4.157 210.322  1.00  0.00           H  \nATOM   1029    H MOL     1      -9.967   3.536 208.662  1.00  0.00           H  \nATOM   1030    H MOL     1      -8.837   1.430 209.250  1.00  0.00           H  \nATOM   1031    H MOL     1     -10.266   1.725 210.259  1.00  0.00           H  \nATOM   1032    H MOL     1      -8.545   3.685 212.170  1.00  0.00           H  \nATOM   1033    H MOL     1      -7.916   2.287 213.062  1.00  0.00           H  \nATOM   1034    H MOL     1     -10.151   2.919 213.857  1.00  0.00           H  \nATOM   1035    H MOL     1     -10.849   2.789 212.225  1.00  0.00           H  \nATOM   1036    H MOL     1      -9.650   0.923 214.991  1.00  0.00           H  \nATOM   1037    H MOL     1      -8.634   0.174 213.714  1.00  0.00           H  \nATOM   1038    H MOL     1      -9.625  -1.579 215.012  1.00  0.00           H  \nATOM   1039    H MOL     1     -10.385  -1.601 213.397  1.00  0.00           H  \nATOM   1040    H MOL     1     -12.564  -0.211 213.312  1.00  0.00           H  \nATOM   1041    H MOL     1     -12.772  -1.963 213.631  1.00  0.00           H  \nATOM   1042    H MOL     1     -13.992  -1.430 215.754  1.00  0.00           H  \nATOM   1043    H MOL     1     -13.876   0.313 215.391  1.00  0.00           H  \nATOM   1044    H MOL     1     -15.899  -0.058 212.444  1.00  0.00           H  \nATOM   1045    H MOL     1     -14.619   0.944 213.180  1.00  0.00           H  \nATOM   1046    H MOL     1     -17.007   1.841 213.384  1.00  0.00           H  \nATOM   1047    H MOL     1     -17.358   0.446 214.448  1.00  0.00           H  \nATOM   1048    H MOL     1     -17.901   2.154 215.993  1.00  0.00           H  \nATOM   1049    H MOL     1     -16.529   2.928 216.825  1.00  0.00           H  \nATOM   1050    H MOL     1     -15.721   0.682 217.596  1.00  0.00           H  \nATOM   1051    H MOL     1     -17.058  -0.112 216.735  1.00  0.00           H  \nATOM   1052    H MOL     1     -16.483   2.507 219.147  1.00  0.00           H  \nATOM   1053    H MOL     1     -17.992   2.104 220.003  1.00  0.00           H  \nATOM   1054    H MOL     1     -16.980  -0.081 220.744  1.00  0.00           H  \nATOM   1055    H MOL     1     -15.473   0.323 219.878  1.00  0.00           H  \nATOM   1056    H MOL     1     -17.164   0.668 222.877  1.00  0.00           H  \nATOM   1057    H MOL     1     -17.543   2.316 222.306  1.00  0.00           H  \nATOM   1058    H MOL     1     -16.731   2.611 224.509  1.00  0.00           H  \nATOM   1059    H MOL     1     -15.422   3.141 223.421  1.00  0.00           H  \nATOM   1060    H MOL     1     -16.512   0.041 224.945  1.00  0.00           H  \nATOM   1061    H MOL     1     -14.836  -0.336 225.392  1.00  0.00           H  \nATOM   1062    H MOL     1     -14.850   1.513 227.090  1.00  0.00           H  \nATOM   1063    H MOL     1     -16.535   1.910 226.672  1.00  0.00           H  \nATOM   1064    H MOL     1     -16.155   0.340 227.408  1.00  0.00           H  \nATOM   1065    O MOL     1       3.130  17.012  24.141  1.00  0.00           O  \nATOM   1066    C MOL     1       2.231  16.881  23.032  1.00  0.00           C  \nATOM   1067    C MOL     1       2.961  16.237  21.867  1.00  0.00           C  \nATOM   1068    O MOL     1       3.225  14.849  22.042  1.00  0.00           O  \nATOM   1069    C MOL     1       4.479  14.554  22.660  1.00  0.00           C  \nATOM   1070    C MOL     1       4.615  13.041  22.674  1.00  0.00           C  \nATOM   1071    O MOL     1       5.858  12.737  23.296  1.00  0.00           O  \nATOM   1072    C MOL     1       6.187  11.355  23.280  1.00  0.00           C  \nATOM   1073    C MOL     1       5.358  10.491  24.215  1.00  0.00           C  \nATOM   1074    O MOL     1       5.608  10.874  25.560  1.00  0.00           O  \nATOM   1075    C MOL     1       4.786  10.172  26.479  1.00  0.00           C  \nATOM   1076    C MOL     1       5.099  10.699  27.877  1.00  0.00           C  \nATOM   1077    O MOL     1       4.265  10.119  28.874  1.00  0.00           O  \nATOM   1078    C MOL     1       4.616   8.793  29.265  1.00  0.00           C  \nATOM   1079    C MOL     1       3.528   7.806  28.859  1.00  0.00           C  \nATOM   1080    O MOL     1       3.882   6.539  29.407  1.00  0.00           O  \nATOM   1081    C MOL     1       2.919   5.509  29.170  1.00  0.00           C  \nATOM   1082    C MOL     1       3.104   4.849  27.798  1.00  0.00           C  \nATOM   1083    O MOL     1       2.189   3.766  27.628  1.00  0.00           O  \nATOM   1084    C MOL     1       2.746   2.470  27.819  1.00  0.00           C  \nATOM   1085    C MOL     1       3.241   2.160  29.231  1.00  0.00           C  \nATOM   1086    O MOL     1       2.280   2.341  30.266  1.00  0.00           O  \nATOM   1087    C MOL     1       1.119   1.521  30.185  1.00  0.00           C  \nATOM   1088    C MOL     1       1.390   0.016  30.119  1.00  0.00           C  \nATOM   1089    O MOL     1       2.277  -0.478  31.114  1.00  0.00           O  \nATOM   1090    C MOL     1       1.760  -0.399  32.440  1.00  0.00           C  \nATOM   1091    C MOL     1       2.651  -1.195  33.376  1.00  0.00           C  \nATOM   1092    O MOL     1       2.591  -2.601  33.157  1.00  0.00           O  \nATOM   1093    C MOL     1       3.619  -3.111  32.306  1.00  0.00           C  \nATOM   1094    C MOL     1       3.346  -4.601  32.121  1.00  0.00           C  \nATOM   1095    O MOL     1       4.428  -5.245  31.442  1.00  0.00           O  \nATOM   1096    C MOL     1       4.390  -5.175  30.017  1.00  0.00           C  \nATOM   1097    C MOL     1       3.633  -6.328  29.382  1.00  0.00           C  \nATOM   1098    O MOL     1       2.227  -6.101  29.497  1.00  0.00           O  \nATOM   1099    C MOL     1       1.432  -7.276  29.358  1.00  0.00           C  \nATOM   1100    C MOL     1       1.179  -7.925  30.725  1.00  0.00           C  \nATOM   1101    O MOL     1       0.384  -9.106  30.608  1.00  0.00           O  \nATOM   1102    C MOL     1      -1.024  -8.867  30.558  1.00  0.00           C  \nATOM   1103    C MOL     1      -1.638  -8.813  31.964  1.00  0.00           C  \nATOM   1104    O MOL     1      -3.040  -8.561  31.915  1.00  0.00           O  \nATOM   1105    C MOL     1      -3.824  -9.728  31.696  1.00  0.00           C  \nATOM   1106    C MOL     1      -5.288  -9.334  31.591  1.00  0.00           C  \nATOM   1107    O MOL     1      -5.856  -8.850  32.806  1.00  0.00           O  \nATOM   1108    C MOL     1      -6.292  -9.871  33.702  1.00  0.00           C  \nATOM   1109    C MOL     1      -7.689 -10.364  33.335  1.00  0.00           C  \nATOM   1110    H MOL     1       2.623  17.300  24.917  1.00  0.00           H  \nATOM   1111    H MOL     1       1.360  16.256  23.297  1.00  0.00           H  \nATOM   1112    H MOL     1       1.862  17.872  22.704  1.00  0.00           H  \nATOM   1113    H MOL     1       2.320  16.318  20.975  1.00  0.00           H  \nATOM   1114    H MOL     1       3.899  16.788  21.667  1.00  0.00           H  \nATOM   1115    H MOL     1       4.524  14.949  23.687  1.00  0.00           H  \nATOM   1116    H MOL     1       5.308  15.003  22.081  1.00  0.00           H  \nATOM   1117    H MOL     1       3.763  12.606  23.227  1.00  0.00           H  \nATOM   1118    H MOL     1       4.588  12.645  21.640  1.00  0.00           H  \nATOM   1119    H MOL     1       6.089  10.945  22.254  1.00  0.00           H  \nATOM   1120    H MOL     1       7.244  11.299  23.576  1.00  0.00           H  \nATOM   1121    H MOL     1       4.278  10.582  23.988  1.00  0.00           H  \nATOM   1122    H MOL     1       5.636   9.428  24.055  1.00  0.00           H  \nATOM   1123    H MOL     1       3.714  10.339  26.254  1.00  0.00           H  \nATOM   1124    H MOL     1       4.978   9.082  26.415  1.00  0.00           H  \nATOM   1125    H MOL     1       6.168  10.533  28.109  1.00  0.00           H  \nATOM   1126    H MOL     1       4.909  11.780  27.906  1.00  0.00           H  \nATOM   1127    H MOL     1       5.583   8.491  28.828  1.00  0.00           H  \nATOM   1128    H MOL     1       4.722   8.775  30.362  1.00  0.00           H  \nATOM   1129    H MOL     1       2.554   8.143  29.262  1.00  0.00           H  \nATOM   1130    H MOL     1       3.440   7.766  27.758  1.00  0.00           H  \nATOM   1131    H MOL     1       3.051   4.763  29.963  1.00  0.00           H  \nATOM   1132    H MOL     1       1.891   5.906  29.253  1.00  0.00           H  \nATOM   1133    H MOL     1       2.898   5.572  26.993  1.00  0.00           H  \nATOM   1134    H MOL     1       4.150   4.510  27.688  1.00  0.00           H  \nATOM   1135    H MOL     1       1.947   1.775  27.521  1.00  0.00           H  \nATOM   1136    H MOL     1       3.597   2.307  27.127  1.00  0.00           H  \nATOM   1137    H MOL     1       4.075   2.823  29.505  1.00  0.00           H  \nATOM   1138    H MOL     1       3.641   1.128  29.233  1.00  0.00           H  \nATOM   1139    H MOL     1       0.492   1.791  29.312  1.00  0.00           H  \nATOM   1140    H MOL     1       0.541   1.772  31.085  1.00  0.00           H  \nATOM   1141    H MOL     1       0.410  -0.501  30.177  1.00  0.00           H  \nATOM   1142    H MOL     1       1.850  -0.261  29.159  1.00  0.00           H  \nATOM   1143    H MOL     1       0.732  -0.812  32.470  1.00  0.00           H  \nATOM   1144    H MOL     1       1.726   0.651  32.790  1.00  0.00           H  \nATOM   1145    H MOL     1       2.303  -1.018  34.407  1.00  0.00           H  \nATOM   1146    H MOL     1       3.692  -0.831  33.301  1.00  0.00           H  \nATOM   1147    H MOL     1       3.621  -2.580  31.339  1.00  0.00           H  \nATOM   1148    H MOL     1       4.611  -2.977  32.781  1.00  0.00           H  \nATOM   1149    H MOL     1       3.278  -5.077  33.109  1.00  0.00           H  \nATOM   1150    H MOL     1       2.393  -4.756  31.592  1.00  0.00           H  \nATOM   1151    H MOL     1       5.437  -5.219  29.680  1.00  0.00           H  \nATOM   1152    H MOL     1       3.961  -4.219  29.669  1.00  0.00           H  \nATOM   1153    H MOL     1       3.911  -6.410  28.311  1.00  0.00           H  \nATOM   1154    H MOL     1       3.927  -7.267  29.884  1.00  0.00           H  \nATOM   1155    H MOL     1       1.906  -8.007  28.678  1.00  0.00           H  \nATOM   1156    H MOL     1       0.481  -6.961  28.902  1.00  0.00           H  \nATOM   1157    H MOL     1       0.715  -7.182  31.399  1.00  0.00           H  \nATOM   1158    H MOL     1       2.132  -8.237  31.178  1.00  0.00           H  \nATOM   1159    H MOL     1      -1.263  -7.931  30.024  1.00  0.00           H  \nATOM   1160    H MOL     1      -1.456  -9.699  29.984  1.00  0.00           H  \nATOM   1161    H MOL     1      -1.419  -9.754  32.503  1.00  0.00           H  \nATOM   1162    H MOL     1      -1.198  -7.985  32.538  1.00  0.00           H  \nATOM   1163    H MOL     1      -3.663 -10.453  32.518  1.00  0.00           H  \nATOM   1164    H MOL     1      -3.543 -10.234  30.751  1.00  0.00           H  \nATOM   1165    H MOL     1      -5.851 -10.203  31.202  1.00  0.00           H  \nATOM   1166    H MOL     1      -5.386  -8.513  30.866  1.00  0.00           H  \nATOM   1167    H MOL     1      -5.593 -10.726  33.725  1.00  0.00           H  \nATOM   1168    H MOL     1      -6.305  -9.422  34.705  1.00  0.00           H  \nATOM   1169    H MOL     1      -8.410  -9.524  33.375  1.00  0.00           H  \nATOM   1170    H MOL     1      -7.687 -10.756  32.301  1.00  0.00           H  \nATOM   1171    O MOL     1      -8.047 -11.377  34.266  1.00  0.00           O  \nATOM   1172    C MOL     1      -9.306 -11.993  33.990  1.00  0.00           C  \nATOM   1173    C MOL     1      -9.321 -12.920  32.776  1.00  0.00           C  \nATOM   1174    O MOL     1      -8.545 -14.104  32.934  1.00  0.00           O  \nATOM   1175    C MOL     1      -7.146 -13.928  32.711  1.00  0.00           C  \nATOM   1176    C MOL     1      -6.528 -15.316  32.719  1.00  0.00           C  \nATOM   1177    O MOL     1      -5.115 -15.157  32.754  1.00  0.00           O  \nATOM   1178    C MOL     1      -4.392 -16.371  32.595  1.00  0.00           C  \nATOM   1179    C MOL     1      -4.645 -17.415  33.672  1.00  0.00           C  \nATOM   1180    O MOL     1      -4.237 -16.911  34.935  1.00  0.00           O  \nATOM   1181    C MOL     1      -4.714 -17.701  36.016  1.00  0.00           C  \nATOM   1182    C MOL     1      -4.235 -17.043  37.308  1.00  0.00           C  \nATOM   1183    O MOL     1      -4.896 -17.532  38.470  1.00  0.00           O  \nATOM   1184    C MOL     1      -4.494 -18.828  38.909  1.00  0.00           C  \nATOM   1185    C MOL     1      -5.544 -19.879  38.566  1.00  0.00           C  \nATOM   1186    O MOL     1      -5.124 -21.109  39.152  1.00  0.00           O  \nATOM   1187    C MOL     1      -6.028 -22.190  38.919  1.00  0.00           C  \nATOM   1188    C MOL     1      -5.789 -22.840  37.549  1.00  0.00           C  \nATOM   1189    O MOL     1      -6.747 -23.866  37.285  1.00  0.00           O  \nATOM   1190    C MOL     1      -6.264 -25.197  37.419  1.00  0.00           C  \nATOM   1191    C MOL     1      -5.877 -25.617  38.837  1.00  0.00           C  \nATOM   1192    O MOL     1      -6.870 -25.383  39.831  1.00  0.00           O  \nATOM   1193    C MOL     1      -8.129 -26.012  39.608  1.00  0.00           C  \nATOM   1194    C MOL     1      -8.075 -27.535  39.477  1.00  0.00           C  \nATOM   1195    O MOL     1      -7.373 -28.199  40.518  1.00  0.00           O  \nATOM   1196    C MOL     1      -7.996 -28.091  41.796  1.00  0.00           C  \nATOM   1197    C MOL     1      -7.312 -29.033  42.770  1.00  0.00           C  \nATOM   1198    O MOL     1      -7.539 -30.409  42.478  1.00  0.00           O  \nATOM   1199    C MOL     1      -6.518 -31.012  41.680  1.00  0.00           C  \nATOM   1200    C MOL     1      -6.996 -32.413  41.316  1.00  0.00           C  \nATOM   1201    O MOL     1      -5.969 -33.144  40.640  1.00  0.00           O  \nATOM   1202    C MOL     1      -5.891 -32.916  39.232  1.00  0.00           C  \nATOM   1203    C MOL     1      -6.604 -33.993  38.436  1.00  0.00           C  \nATOM   1204    O MOL     1      -8.019 -33.823  38.548  1.00  0.00           O  \nATOM   1205    C MOL     1      -8.762 -35.039  38.535  1.00  0.00           C  \nATOM   1206    C MOL     1      -8.878 -35.623  39.949  1.00  0.00           C  \nATOM   1207    O MOL     1      -9.589 -36.862  39.946  1.00  0.00           O  \nATOM   1208    C MOL     1     -11.007 -36.729  40.062  1.00  0.00           C  \nATOM   1209    C MOL     1     -11.437 -36.633  41.533  1.00  0.00           C  \nATOM   1210    O MOL     1     -12.844 -36.479  41.677  1.00  0.00           O  \nATOM   1211    C MOL     1     -13.574 -37.698  41.596  1.00  0.00           C  \nATOM   1212    C MOL     1     -15.034 -37.417  41.912  1.00  0.00           C  \nATOM   1213    O MOL     1     -15.275 -37.070  43.271  1.00  0.00           O  \nATOM   1214    C MOL     1     -15.431 -38.190  44.148  1.00  0.00           C  \nATOM   1215    C MOL     1     -16.821 -38.813  44.079  1.00  0.00           C  \nATOM   1216    H MOL     1      -9.551 -12.574  34.891  1.00  0.00           H  \nATOM   1217    H MOL     1     -10.086 -11.217  33.850  1.00  0.00           H  \nATOM   1218    H MOL     1     -10.358 -13.260  32.628  1.00  0.00           H  \nATOM   1219    H MOL     1      -9.018 -12.383  31.858  1.00  0.00           H  \nATOM   1220    H MOL     1      -6.685 -13.317  33.505  1.00  0.00           H  \nATOM   1221    H MOL     1      -6.972 -13.424  31.741  1.00  0.00           H  \nATOM   1222    H MOL     1      -6.897 -15.852  33.612  1.00  0.00           H  \nATOM   1223    H MOL     1      -6.839 -15.889  31.824  1.00  0.00           H  \nATOM   1224    H MOL     1      -4.624 -16.835  31.614  1.00  0.00           H  \nATOM   1225    H MOL     1      -3.332 -16.083  32.601  1.00  0.00           H  \nATOM   1226    H MOL     1      -5.717 -17.693  33.703  1.00  0.00           H  \nATOM   1227    H MOL     1      -4.080 -18.334  33.412  1.00  0.00           H  \nATOM   1228    H MOL     1      -5.822 -17.733  36.011  1.00  0.00           H  \nATOM   1229    H MOL     1      -4.344 -18.742  35.929  1.00  0.00           H  \nATOM   1230    H MOL     1      -3.139 -17.151  37.408  1.00  0.00           H  \nATOM   1231    H MOL     1      -4.468 -15.971  37.254  1.00  0.00           H  \nATOM   1232    H MOL     1      -3.516 -19.108  38.477  1.00  0.00           H  \nATOM   1233    H MOL     1      -4.381 -18.787  40.003  1.00  0.00           H  \nATOM   1234    H MOL     1      -6.522 -19.569  38.980  1.00  0.00           H  \nATOM   1235    H MOL     1      -5.657 -19.969  37.470  1.00  0.00           H  \nATOM   1236    H MOL     1      -5.869 -22.919  39.723  1.00  0.00           H  \nATOM   1237    H MOL     1      -7.077 -21.848  38.982  1.00  0.00           H  \nATOM   1238    H MOL     1      -5.901 -22.087  36.752  1.00  0.00           H  \nATOM   1239    H MOL     1      -4.758 -23.233  37.494  1.00  0.00           H  \nATOM   1240    H MOL     1      -7.074 -25.832  37.029  1.00  0.00           H  \nATOM   1241    H MOL     1      -5.379 -25.361  36.771  1.00  0.00           H  \nATOM   1242    H MOL     1      -5.000 -25.050  39.183  1.00  0.00           H  \nATOM   1243    H MOL     1      -5.581 -26.684  38.807  1.00  0.00           H  \nATOM   1244    H MOL     1      -8.628 -25.607  38.706  1.00  0.00           H  \nATOM   1245    H MOL     1      -8.741 -25.719  40.473  1.00  0.00           H  \nATOM   1246    H MOL     1      -9.121 -27.902  39.415  1.00  0.00           H  \nATOM   1247    H MOL     1      -7.567 -27.835  38.549  1.00  0.00           H  \nATOM   1248    H MOL     1      -9.069 -28.356  41.717  1.00  0.00           H  \nATOM   1249    H MOL     1      -7.919 -27.059  42.188  1.00  0.00           H  \nATOM   1250    H MOL     1      -7.730 -28.847  43.773  1.00  0.00           H  \nATOM   1251    H MOL     1      -6.230 -28.814  42.806  1.00  0.00           H  \nATOM   1252    H MOL     1      -6.330 -30.411  40.775  1.00  0.00           H  \nATOM   1253    H MOL     1      -5.574 -31.084  42.255  1.00  0.00           H  \nATOM   1254    H MOL     1      -7.221 -32.972  42.236  1.00  0.00           H  \nATOM   1255    H MOL     1      -7.913 -32.362  40.708  1.00  0.00           H  \nATOM   1256    H MOL     1      -4.822 -32.928  38.962  1.00  0.00           H  \nATOM   1257    H MOL     1      -6.297 -31.925  38.964  1.00  0.00           H  \nATOM   1258    H MOL     1      -6.303 -33.927  37.371  1.00  0.00           H  \nATOM   1259    H MOL     1      -6.293 -34.981  38.818  1.00  0.00           H  \nATOM   1260    H MOL     1      -8.306 -35.786  37.861  1.00  0.00           H  \nATOM   1261    H MOL     1      -9.758 -34.791  38.139  1.00  0.00           H  \nATOM   1262    H MOL     1      -9.352 -34.878  40.612  1.00  0.00           H  \nATOM   1263    H MOL     1      -7.877 -35.835  40.353  1.00  0.00           H  \nATOM   1264    H MOL     1     -11.383 -35.848  39.513  1.00  0.00           H  \nATOM   1265    H MOL     1     -11.437 -37.626  39.594  1.00  0.00           H  \nATOM   1266    H MOL     1     -11.076 -37.524  42.080  1.00  0.00           H  \nATOM   1267    H MOL     1     -10.986 -35.744  41.999  1.00  0.00           H  \nATOM   1268    H MOL     1     -13.151 -38.439  42.303  1.00  0.00           H  \nATOM   1269    H MOL     1     -13.517 -38.140  40.580  1.00  0.00           H  \nATOM   1270    H MOL     1     -15.638 -38.291  41.604  1.00  0.00           H  \nATOM   1271    H MOL     1     -15.362 -36.553  41.314  1.00  0.00           H  \nATOM   1272    H MOL     1     -14.654 -38.952  43.948  1.00  0.00           H  \nATOM   1273    H MOL     1     -15.244 -37.791  45.155  1.00  0.00           H  \nATOM   1274    H MOL     1     -17.589 -38.059  44.297  1.00  0.00           H  \nATOM   1275    H MOL     1     -17.031 -39.245  43.090  1.00  0.00           H  \nATOM   1276    H MOL     1     -16.908 -39.622  44.819  1.00  0.00           H  \nATOM   1277    O MOL     1       0.517   2.029  62.838  1.00  0.00           O  \nATOM   1278    C MOL     1      -0.084   1.586  64.062  1.00  0.00           C  \nATOM   1279    C MOL     1       0.410   0.189  64.387  1.00  0.00           C  \nATOM   1280    O MOL     1       1.761   0.139  64.835  1.00  0.00           O  \nATOM   1281    C MOL     1       2.728  -0.026  63.797  1.00  0.00           C  \nATOM   1282    C MOL     1       4.082  -0.142  64.475  1.00  0.00           C  \nATOM   1283    O MOL     1       5.058  -0.289  63.451  1.00  0.00           O  \nATOM   1284    C MOL     1       6.370  -0.534  63.938  1.00  0.00           C  \nATOM   1285    C MOL     1       7.059   0.676  64.549  1.00  0.00           C  \nATOM   1286    O MOL     1       7.293   1.644  63.537  1.00  0.00           O  \nATOM   1287    C MOL     1       7.860   2.841  64.049  1.00  0.00           C  \nATOM   1288    C MOL     1       8.003   3.812  62.879  1.00  0.00           C  \nATOM   1289    O MOL     1       8.478   5.091  63.281  1.00  0.00           O  \nATOM   1290    C MOL     1       9.880   5.165  63.542  1.00  0.00           C  \nATOM   1291    C MOL     1      10.131   5.475  65.013  1.00  0.00           C  \nATOM   1292    O MOL     1      11.534   5.666  65.168  1.00  0.00           O  \nATOM   1293    C MOL     1      11.937   5.977  66.501  1.00  0.00           C  \nATOM   1294    C MOL     1      12.103   4.711  67.351  1.00  0.00           C  \nATOM   1295    O MOL     1      12.553   5.027  68.670  1.00  0.00           O  \nATOM   1296    C MOL     1      13.924   4.742  68.923  1.00  0.00           C  \nATOM   1297    C MOL     1      14.928   5.575  68.127  1.00  0.00           C  \nATOM   1298    O MOL     1      14.761   6.986  68.229  1.00  0.00           O  \nATOM   1299    C MOL     1      14.887   7.529  69.539  1.00  0.00           C  \nATOM   1300    C MOL     1      16.232   7.264  70.220  1.00  0.00           C  \nATOM   1301    O MOL     1      17.370   7.581  69.430  1.00  0.00           O  \nATOM   1302    C MOL     1      17.511   8.972  69.156  1.00  0.00           C  \nATOM   1303    C MOL     1      18.844   9.220  68.475  1.00  0.00           C  \nATOM   1304    O MOL     1      19.965   9.004  69.327  1.00  0.00           O  \nATOM   1305    C MOL     1      20.539   7.699  69.222  1.00  0.00           C  \nATOM   1306    C MOL     1      21.639   7.612  70.274  1.00  0.00           C  \nATOM   1307    O MOL     1      22.411   6.417  70.119  1.00  0.00           O  \nATOM   1308    C MOL     1      21.873   5.254  70.749  1.00  0.00           C  \nATOM   1309    C MOL     1      22.339   5.083  72.184  1.00  0.00           C  \nATOM   1310    O MOL     1      21.606   5.964  73.036  1.00  0.00           O  \nATOM   1311    C MOL     1      22.243   6.241  74.280  1.00  0.00           C  \nATOM   1312    C MOL     1      23.119   7.497  74.174  1.00  0.00           C  \nATOM   1313    O MOL     1      23.769   7.790  75.412  1.00  0.00           O  \nATOM   1314    C MOL     1      22.967   8.529  76.336  1.00  0.00           C  \nATOM   1315    C MOL     1      23.123  10.042  76.132  1.00  0.00           C  \nATOM   1316    O MOL     1      22.284  10.781  77.017  1.00  0.00           O  \nATOM   1317    C MOL     1      22.831  10.954  78.319  1.00  0.00           C  \nATOM   1318    C MOL     1      21.815  11.673  79.191  1.00  0.00           C  \nATOM   1319    O MOL     1      21.605  13.040  78.839  1.00  0.00           O  \nATOM   1320    C MOL     1      22.563  13.940  79.390  1.00  0.00           C  \nATOM   1321    C MOL     1      22.187  14.344  80.814  1.00  0.00           C  \nATOM   1322    H MOL     1       0.301   2.968  62.710  1.00  0.00           H  \nATOM   1323    H MOL     1       0.175   2.260  64.899  1.00  0.00           H  \nATOM   1324    H MOL     1      -1.187   1.552  63.970  1.00  0.00           H  \nATOM   1325    H MOL     1      -0.203  -0.206  65.213  1.00  0.00           H  \nATOM   1326    H MOL     1       0.267  -0.469  63.510  1.00  0.00           H  \nATOM   1327    H MOL     1       2.723   0.829  63.103  1.00  0.00           H  \nATOM   1328    H MOL     1       2.516  -0.944  63.216  1.00  0.00           H  \nATOM   1329    H MOL     1       4.260   0.763  65.085  1.00  0.00           H  \nATOM   1330    H MOL     1       4.095  -1.017  65.155  1.00  0.00           H  \nATOM   1331    H MOL     1       6.356  -1.346  64.693  1.00  0.00           H  \nATOM   1332    H MOL     1       6.950  -0.878  63.070  1.00  0.00           H  \nATOM   1333    H MOL     1       6.448   1.113  65.362  1.00  0.00           H  \nATOM   1334    H MOL     1       8.017   0.345  65.002  1.00  0.00           H  \nATOM   1335    H MOL     1       7.205   3.286  64.824  1.00  0.00           H  \nATOM   1336    H MOL     1       8.845   2.635  64.517  1.00  0.00           H  \nATOM   1337    H MOL     1       8.659   3.369  62.107  1.00  0.00           H  \nATOM   1338    H MOL     1       7.013   3.976  62.430  1.00  0.00           H  \nATOM   1339    H MOL     1      10.387   4.226  63.262  1.00  0.00           H  \nATOM   1340    H MOL     1      10.308   5.974  62.928  1.00  0.00           H  \nATOM   1341    H MOL     1       9.582   6.392  65.298  1.00  0.00           H  \nATOM   1342    H MOL     1       9.755   4.648  65.645  1.00  0.00           H  \nATOM   1343    H MOL     1      12.894   6.510  66.429  1.00  0.00           H  \nATOM   1344    H MOL     1      11.212   6.657  66.985  1.00  0.00           H  \nATOM   1345    H MOL     1      11.136   4.192  67.457  1.00  0.00           H  \nATOM   1346    H MOL     1      12.800   4.018  66.848  1.00  0.00           H  \nATOM   1347    H MOL     1      14.052   4.901  70.004  1.00  0.00           H  \nATOM   1348    H MOL     1      14.146   3.675  68.720  1.00  0.00           H  \nATOM   1349    H MOL     1      14.842   5.361  67.051  1.00  0.00           H  \nATOM   1350    H MOL     1      15.946   5.267  68.435  1.00  0.00           H  \nATOM   1351    H MOL     1      14.085   7.163  70.210  1.00  0.00           H  \nATOM   1352    H MOL     1      14.725   8.609  69.408  1.00  0.00           H  \nATOM   1353    H MOL     1      16.244   7.834  71.172  1.00  0.00           H  \nATOM   1354    H MOL     1      16.343   6.199  70.474  1.00  0.00           H  \nATOM   1355    H MOL     1      17.463   9.550  70.100  1.00  0.00           H  \nATOM   1356    H MOL     1      16.704   9.328  68.488  1.00  0.00           H  \nATOM   1357    H MOL     1      18.876  10.278  68.168  1.00  0.00           H  \nATOM   1358    H MOL     1      18.920   8.599  67.565  1.00  0.00           H  \nATOM   1359    H MOL     1      19.770   6.925  69.381  1.00  0.00           H  \nATOM   1360    H MOL     1      20.979   7.554  68.217  1.00  0.00           H  \nATOM   1361    H MOL     1      22.338   8.449  70.131  1.00  0.00           H  \nATOM   1362    H MOL     1      21.212   7.684  71.286  1.00  0.00           H  \nATOM   1363    H MOL     1      22.232   4.395  70.161  1.00  0.00           H  \nATOM   1364    H MOL     1      20.769   5.250  70.718  1.00  0.00           H  \nATOM   1365    H MOL     1      22.177   4.034  72.503  1.00  0.00           H  \nATOM   1366    H MOL     1      23.423   5.292  72.233  1.00  0.00           H  \nATOM   1367    H MOL     1      22.854   5.386  74.620  1.00  0.00           H  \nATOM   1368    H MOL     1      21.441   6.395  75.018  1.00  0.00           H  \nATOM   1369    H MOL     1      22.500   8.342  73.825  1.00  0.00           H  \nATOM   1370    H MOL     1      23.917   7.339  73.434  1.00  0.00           H  \nATOM   1371    H MOL     1      21.899   8.264  76.256  1.00  0.00           H  \nATOM   1372    H MOL     1      23.311   8.239  77.341  1.00  0.00           H  \nATOM   1373    H MOL     1      24.184  10.330  76.252  1.00  0.00           H  \nATOM   1374    H MOL     1      22.810  10.319  75.114  1.00  0.00           H  \nATOM   1375    H MOL     1      23.781  11.520  78.262  1.00  0.00           H  \nATOM   1376    H MOL     1      23.057   9.979  78.796  1.00  0.00           H  \nATOM   1377    H MOL     1      22.132  11.577  80.247  1.00  0.00           H  \nATOM   1378    H MOL     1      20.840  11.178  79.082  1.00  0.00           H  \nATOM   1379    H MOL     1      23.581  13.512  79.389  1.00  0.00           H  \nATOM   1380    H MOL     1      22.572  14.827  78.741  1.00  0.00           H  \nATOM   1381    H MOL     1      21.198  14.843  80.820  1.00  0.00           H  \nATOM   1382    H MOL     1      22.111  13.442  81.450  1.00  0.00           H  \nATOM   1383    O MOL     1      23.196  15.228  81.290  1.00  0.00           O  \nATOM   1384    C MOL     1      23.095  15.530  82.680  1.00  0.00           C  \nATOM   1385    C MOL     1      23.573  14.419  83.615  1.00  0.00           C  \nATOM   1386    O MOL     1      24.972  14.170  83.566  1.00  0.00           O  \nATOM   1387    C MOL     1      25.393  13.349  82.475  1.00  0.00           C  \nATOM   1388    C MOL     1      26.854  13.010  82.716  1.00  0.00           C  \nATOM   1389    O MOL     1      27.337  12.356  81.549  1.00  0.00           O  \nATOM   1390    C MOL     1      28.631  11.785  81.702  1.00  0.00           C  \nATOM   1391    C MOL     1      29.750  12.785  81.942  1.00  0.00           C  \nATOM   1392    O MOL     1      29.890  13.628  80.808  1.00  0.00           O  \nATOM   1393    C MOL     1      30.721  14.752  81.067  1.00  0.00           C  \nATOM   1394    C MOL     1      30.795  15.569  79.779  1.00  0.00           C  \nATOM   1395    O MOL     1      31.362  16.861  79.963  1.00  0.00           O  \nATOM   1396    C MOL     1      32.773  16.885  80.181  1.00  0.00           C  \nATOM   1397    C MOL     1      33.091  17.217  81.635  1.00  0.00           C  \nATOM   1398    O MOL     1      34.502  17.385  81.737  1.00  0.00           O  \nATOM   1399    C MOL     1      34.954  17.656  83.064  1.00  0.00           C  \nATOM   1400    C MOL     1      35.170  16.358  83.852  1.00  0.00           C  \nATOM   1401    O MOL     1      35.578  16.623  85.196  1.00  0.00           O  \nATOM   1402    C MOL     1      36.957  16.408  85.466  1.00  0.00           C  \nATOM   1403    C MOL     1      37.923  17.358  84.757  1.00  0.00           C  \nATOM   1404    O MOL     1      37.632  18.743  84.910  1.00  0.00           O  \nATOM   1405    C MOL     1      37.577  19.220  86.252  1.00  0.00           C  \nATOM   1406    C MOL     1      38.858  19.011  87.062  1.00  0.00           C  \nATOM   1407    O MOL     1      40.046  19.461  86.425  1.00  0.00           O  \nATOM   1408    C MOL     1      40.105  20.875  86.249  1.00  0.00           C  \nATOM   1409    C MOL     1      41.501  21.269  85.802  1.00  0.00           C  \nATOM   1410    O MOL     1      42.490  21.076  86.809  1.00  0.00           O  \nATOM   1411    C MOL     1      43.166  19.820  86.730  1.00  0.00           C  \nATOM   1412    C MOL     1      44.029  19.692  87.982  1.00  0.00           C  \nATOM   1413    O MOL     1      44.863  18.533  87.917  1.00  0.00           O  \nATOM   1414    C MOL     1      44.233  17.314  88.316  1.00  0.00           C  \nATOM   1415    C MOL     1      44.573  16.933  89.744  1.00  0.00           C  \nATOM   1416    O MOL     1      43.890  17.797  90.656  1.00  0.00           O  \nATOM   1417    C MOL     1      44.657  18.180  91.794  1.00  0.00           C  \nATOM   1418    C MOL     1      45.601  19.346  91.473  1.00  0.00           C  \nATOM   1419    O MOL     1      46.312  19.760  92.643  1.00  0.00           O  \nATOM   1420    C MOL     1      45.659  20.795  93.376  1.00  0.00           C  \nATOM   1421    C MOL     1      45.969  22.176  92.784  1.00  0.00           C  \nATOM   1422    O MOL     1      45.289  23.220  93.477  1.00  0.00           O  \nATOM   1423    C MOL     1      45.961  23.638  94.657  1.00  0.00           C  \nATOM   1424    C MOL     1      45.186  24.757  95.328  1.00  0.00           C  \nATOM   1425    O MOL     1      45.219  26.007  94.649  1.00  0.00           O  \nATOM   1426    C MOL     1      46.257  26.894  95.084  1.00  0.00           C  \nATOM   1427    C MOL     1      46.087  27.404  96.513  1.00  0.00           C  \nATOM   1428    H MOL     1      23.721  16.421  82.836  1.00  0.00           H  \nATOM   1429    H MOL     1      22.050  15.791  82.943  1.00  0.00           H  \nATOM   1430    H MOL     1      23.359  14.736  84.648  1.00  0.00           H  \nATOM   1431    H MOL     1      23.014  13.481  83.434  1.00  0.00           H  \nATOM   1432    H MOL     1      25.289  13.875  81.513  1.00  0.00           H  \nATOM   1433    H MOL     1      24.783  12.425  82.432  1.00  0.00           H  \nATOM   1434    H MOL     1      27.404  13.948  82.915  1.00  0.00           H  \nATOM   1435    H MOL     1      26.960  12.358  83.605  1.00  0.00           H  \nATOM   1436    H MOL     1      28.636  11.060  82.542  1.00  0.00           H  \nATOM   1437    H MOL     1      28.820  11.236  80.768  1.00  0.00           H  \nATOM   1438    H MOL     1      29.545  13.392  82.845  1.00  0.00           H  \nATOM   1439    H MOL     1      30.689  12.225  82.134  1.00  0.00           H  \nATOM   1440    H MOL     1      30.289  15.375  81.875  1.00  0.00           H  \nATOM   1441    H MOL     1      31.728  14.422  81.394  1.00  0.00           H  \nATOM   1442    H MOL     1      31.348  15.005  79.004  1.00  0.00           H  \nATOM   1443    H MOL     1      29.772  15.734  79.415  1.00  0.00           H  \nATOM   1444    H MOL     1      33.236  15.924  79.897  1.00  0.00           H  \nATOM   1445    H MOL     1      33.202  17.669  79.537  1.00  0.00           H  \nATOM   1446    H MOL     1      32.569  18.150  81.920  1.00  0.00           H  \nATOM   1447    H MOL     1      32.727  16.413  82.302  1.00  0.00           H  \nATOM   1448    H MOL     1      35.897  18.212  82.975  1.00  0.00           H  \nATOM   1449    H MOL     1      34.238  18.300  83.604  1.00  0.00           H  \nATOM   1450    H MOL     1      34.227  15.792  83.910  1.00  0.00           H  \nATOM   1451    H MOL     1      35.908  15.723  83.331  1.00  0.00           H  \nATOM   1452    H MOL     1      37.049  16.499  86.558  1.00  0.00           H  \nATOM   1453    H MOL     1      37.253  15.373  85.197  1.00  0.00           H  \nATOM   1454    H MOL     1      37.904  17.189  83.670  1.00  0.00           H  \nATOM   1455    H MOL     1      38.948  17.121  85.104  1.00  0.00           H  \nATOM   1456    H MOL     1      36.739  18.760  86.809  1.00  0.00           H  \nATOM   1457    H MOL     1      37.350  20.291  86.155  1.00  0.00           H  \nATOM   1458    H MOL     1      38.722  19.519  88.039  1.00  0.00           H  \nATOM   1459    H MOL     1      39.027  17.944  87.268  1.00  0.00           H  \nATOM   1460    H MOL     1      39.867  21.384  87.204  1.00  0.00           H  \nATOM   1461    H MOL     1      39.379  21.211  85.484  1.00  0.00           H  \nATOM   1462    H MOL     1      41.491  22.345  85.564  1.00  0.00           H  \nATOM   1463    H MOL     1      41.769  20.720  84.881  1.00  0.00           H  \nATOM   1464    H MOL     1      42.438  18.994  86.667  1.00  0.00           H  \nATOM   1465    H MOL     1      43.813  19.788  85.832  1.00  0.00           H  \nATOM   1466    H MOL     1      44.705  20.557  88.047  1.00  0.00           H  \nATOM   1467    H MOL     1      43.396  19.677  88.884  1.00  0.00           H  \nATOM   1468    H MOL     1      44.599  16.522  87.641  1.00  0.00           H  \nATOM   1469    H MOL     1      43.137  17.377  88.204  1.00  0.00           H  \nATOM   1470    H MOL     1      44.270  15.883  89.928  1.00  0.00           H  \nATOM   1471    H MOL     1      45.665  17.000  89.885  1.00  0.00           H  \nATOM   1472    H MOL     1      45.238  17.329  92.193  1.00  0.00           H  \nATOM   1473    H MOL     1      43.933  18.487  92.564  1.00  0.00           H  \nATOM   1474    H MOL     1      45.018  20.175  91.038  1.00  0.00           H  \nATOM   1475    H MOL     1      46.354  19.047  90.729  1.00  0.00           H  \nATOM   1476    H MOL     1      44.564  20.649  93.404  1.00  0.00           H  \nATOM   1477    H MOL     1      46.036  20.726  94.407  1.00  0.00           H  \nATOM   1478    H MOL     1      47.063  22.339  92.790  1.00  0.00           H  \nATOM   1479    H MOL     1      45.622  22.225  91.742  1.00  0.00           H  \nATOM   1480    H MOL     1      46.990  23.957  94.406  1.00  0.00           H  \nATOM   1481    H MOL     1      46.049  22.806  95.387  1.00  0.00           H  \nATOM   1482    H MOL     1      45.573  24.866  96.356  1.00  0.00           H  \nATOM   1483    H MOL     1      44.127  24.458  95.389  1.00  0.00           H  \nATOM   1484    H MOL     1      47.249  26.422  94.974  1.00  0.00           H  \nATOM   1485    H MOL     1      46.211  27.736  94.380  1.00  0.00           H  \nATOM   1486    H MOL     1      45.060  27.757  96.680  1.00  0.00           H  \nATOM   1487    H MOL     1      46.324  26.637  97.263  1.00  0.00           H  \nATOM   1488    H MOL     1      46.769  28.250  96.683  1.00  0.00           H  \nATOM   1489    O MOL     1       5.409  -5.273 455.379  1.00  0.00           O  \nATOM   1490    C MOL     1       6.076  -4.612 456.463  1.00  0.00           C  \nATOM   1491    C MOL     1       7.574  -4.640 456.224  1.00  0.00           C  \nATOM   1492    O MOL     1       8.016  -3.762 455.194  1.00  0.00           O  \nATOM   1493    C MOL     1       8.043  -4.340 453.888  1.00  0.00           C  \nATOM   1494    C MOL     1       8.618  -3.286 452.957  1.00  0.00           C  \nATOM   1495    O MOL     1       8.638  -3.843 451.649  1.00  0.00           O  \nATOM   1496    C MOL     1       9.265  -3.014 450.680  1.00  0.00           C  \nATOM   1497    C MOL     1       8.449  -1.805 450.252  1.00  0.00           C  \nATOM   1498    O MOL     1       7.286  -2.244 449.565  1.00  0.00           O  \nATOM   1499    C MOL     1       6.425  -1.173 449.207  1.00  0.00           C  \nATOM   1500    C MOL     1       5.197  -1.787 448.539  1.00  0.00           C  \nATOM   1501    O MOL     1       4.205  -0.821 448.214  1.00  0.00           O  \nATOM   1502    C MOL     1       4.480  -0.032 447.055  1.00  0.00           C  \nATOM   1503    C MOL     1       4.678   1.428 447.442  1.00  0.00           C  \nATOM   1504    O MOL     1       4.802   2.170 446.233  1.00  0.00           O  \nATOM   1505    C MOL     1       4.984   3.572 446.427  1.00  0.00           C  \nATOM   1506    C MOL     1       6.457   3.918 446.682  1.00  0.00           C  \nATOM   1507    O MOL     1       6.648   5.329 446.802  1.00  0.00           O  \nATOM   1508    C MOL     1       7.204   5.956 445.655  1.00  0.00           C  \nATOM   1509    C MOL     1       6.327   5.950 444.404  1.00  0.00           C  \nATOM   1510    O MOL     1       5.031   6.518 444.573  1.00  0.00           O  \nATOM   1511    C MOL     1       5.005   7.887 444.963  1.00  0.00           C  \nATOM   1512    C MOL     1       5.762   8.838 444.032  1.00  0.00           C  \nATOM   1513    O MOL     1       5.458   8.690 442.652  1.00  0.00           O  \nATOM   1514    C MOL     1       4.109   9.019 442.324  1.00  0.00           C  \nATOM   1515    C MOL     1       3.944   9.034 440.816  1.00  0.00           C  \nATOM   1516    O MOL     1       4.633  10.105 440.181  1.00  0.00           O  \nATOM   1517    C MOL     1       5.930   9.762 439.688  1.00  0.00           C  \nATOM   1518    C MOL     1       6.545  11.041 439.130  1.00  0.00           C  \nATOM   1519    O MOL     1       7.771  10.769 438.443  1.00  0.00           O  \nATOM   1520    C MOL     1       8.935  10.706 439.267  1.00  0.00           C  \nATOM   1521    C MOL     1       9.606  12.055 439.454  1.00  0.00           C  \nATOM   1522    O MOL     1       8.879  12.824 440.415  1.00  0.00           O  \nATOM   1523    C MOL     1       9.112  14.230 440.345  1.00  0.00           C  \nATOM   1524    C MOL     1       8.061  14.912 439.458  1.00  0.00           C  \nATOM   1525    O MOL     1       8.276  16.322 439.381  1.00  0.00           O  \nATOM   1526    C MOL     1       7.709  17.067 440.461  1.00  0.00           C  \nATOM   1527    C MOL     1       6.269  17.501 440.150  1.00  0.00           C  \nATOM   1528    O MOL     1       5.684  18.210 441.240  1.00  0.00           O  \nATOM   1529    C MOL     1       6.022  19.592 441.277  1.00  0.00           C  \nATOM   1530    C MOL     1       5.423  20.218 442.527  1.00  0.00           C  \nATOM   1531    O MOL     1       4.002  20.349 442.498  1.00  0.00           O  \nATOM   1532    C MOL     1       3.532  21.512 441.824  1.00  0.00           C  \nATOM   1533    C MOL     1       3.535  22.728 442.748  1.00  0.00           C  \nATOM   1534    H MOL     1       4.453  -5.132 455.473  1.00  0.00           H  \nATOM   1535    H MOL     1       5.748  -3.561 456.550  1.00  0.00           H  \nATOM   1536    H MOL     1       5.868  -5.122 457.424  1.00  0.00           H  \nATOM   1537    H MOL     1       8.073  -4.307 457.148  1.00  0.00           H  \nATOM   1538    H MOL     1       7.897  -5.678 456.015  1.00  0.00           H  \nATOM   1539    H MOL     1       7.035  -4.632 453.556  1.00  0.00           H  \nATOM   1540    H MOL     1       8.685  -5.241 453.880  1.00  0.00           H  \nATOM   1541    H MOL     1       7.989  -2.378 453.006  1.00  0.00           H  \nATOM   1542    H MOL     1       9.641  -3.008 453.278  1.00  0.00           H  \nATOM   1543    H MOL     1      10.246  -2.658 451.053  1.00  0.00           H  \nATOM   1544    H MOL     1       9.438  -3.657 449.805  1.00  0.00           H  \nATOM   1545    H MOL     1       8.165  -1.186 451.126  1.00  0.00           H  \nATOM   1546    H MOL     1       9.076  -1.170 449.592  1.00  0.00           H  \nATOM   1547    H MOL     1       6.115  -0.601 450.103  1.00  0.00           H  \nATOM   1548    H MOL     1       6.944  -0.472 448.521  1.00  0.00           H  \nATOM   1549    H MOL     1       5.507  -2.354 447.642  1.00  0.00           H  \nATOM   1550    H MOL     1       4.727  -2.490 449.240  1.00  0.00           H  \nATOM   1551    H MOL     1       5.369  -0.407 446.521  1.00  0.00           H  \nATOM   1552    H MOL     1       3.619  -0.107 446.370  1.00  0.00           H  \nATOM   1553    H MOL     1       3.804   1.780 448.024  1.00  0.00           H  \nATOM   1554    H MOL     1       5.573   1.533 448.084  1.00  0.00           H  \nATOM   1555    H MOL     1       4.631   4.067 445.514  1.00  0.00           H  \nATOM   1556    H MOL     1       4.364   3.940 447.265  1.00  0.00           H  \nATOM   1557    H MOL     1       6.797   3.468 447.628  1.00  0.00           H  \nATOM   1558    H MOL     1       7.079   3.501 445.870  1.00  0.00           H  \nATOM   1559    H MOL     1       7.429   6.986 445.972  1.00  0.00           H  \nATOM   1560    H MOL     1       8.169   5.480 445.383  1.00  0.00           H  \nATOM   1561    H MOL     1       6.142   4.920 444.067  1.00  0.00           H  \nATOM   1562    H MOL     1       6.882   6.454 443.591  1.00  0.00           H  \nATOM   1563    H MOL     1       5.403   8.025 445.987  1.00  0.00           H  \nATOM   1564    H MOL     1       3.938   8.146 444.997  1.00  0.00           H  \nATOM   1565    H MOL     1       5.552   9.874 444.371  1.00  0.00           H  \nATOM   1566    H MOL     1       6.849   8.683 444.106  1.00  0.00           H  \nATOM   1567    H MOL     1       3.854  10.015 442.735  1.00  0.00           H  \nATOM   1568    H MOL     1       3.408   8.275 442.748  1.00  0.00           H  \nATOM   1569    H MOL     1       2.873   9.167 440.595  1.00  0.00           H  \nATOM   1570    H MOL     1       4.260   8.062 440.395  1.00  0.00           H  \nATOM   1571    H MOL     1       6.551   9.337 440.495  1.00  0.00           H  \nATOM   1572    H MOL     1       5.846   9.011 438.879  1.00  0.00           H  \nATOM   1573    H MOL     1       5.862  11.470 438.383  1.00  0.00           H  \nATOM   1574    H MOL     1       6.692  11.779 439.932  1.00  0.00           H  \nATOM   1575    H MOL     1       9.639  10.033 438.753  1.00  0.00           H  \nATOM   1576    H MOL     1       8.710  10.266 440.254  1.00  0.00           H  \nATOM   1577    H MOL     1      10.646  11.903 439.807  1.00  0.00           H  \nATOM   1578    H MOL     1       9.645  12.573 438.478  1.00  0.00           H  \nATOM   1579    H MOL     1      10.125  14.453 439.964  1.00  0.00           H  \nATOM   1580    H MOL     1       9.049  14.612 441.375  1.00  0.00           H  \nATOM   1581    H MOL     1       7.053  14.671 439.839  1.00  0.00           H  \nATOM   1582    H MOL     1       8.130  14.529 438.429  1.00  0.00           H  \nATOM   1583    H MOL     1       7.716  16.492 441.403  1.00  0.00           H  \nATOM   1584    H MOL     1       8.354  17.948 440.600  1.00  0.00           H  \nATOM   1585    H MOL     1       6.252  18.106 439.224  1.00  0.00           H  \nATOM   1586    H MOL     1       5.637  16.616 439.987  1.00  0.00           H  \nATOM   1587    H MOL     1       5.655  20.098 440.362  1.00  0.00           H  \nATOM   1588    H MOL     1       7.119  19.740 441.317  1.00  0.00           H  \nATOM   1589    H MOL     1       5.909  21.198 442.692  1.00  0.00           H  \nATOM   1590    H MOL     1       5.651  19.575 443.389  1.00  0.00           H  \nATOM   1591    H MOL     1       4.130  21.736 440.923  1.00  0.00           H  \nATOM   1592    H MOL     1       2.505  21.296 441.499  1.00  0.00           H  \nATOM   1593    H MOL     1       2.893  22.533 443.630  1.00  0.00           H  \nATOM   1594    H MOL     1       4.559  22.920 443.116  1.00  0.00           H  \nATOM   1595    O MOL     1       3.038  23.835 442.002  1.00  0.00           O  \nATOM   1596    C MOL     1       3.192  25.095 442.652  1.00  0.00           C  \nATOM   1597    C MOL     1       4.606  25.671 442.621  1.00  0.00           C  \nATOM   1598    O MOL     1       5.054  26.060 441.329  1.00  0.00           O  \nATOM   1599    C MOL     1       5.558  24.989 440.530  1.00  0.00           C  \nATOM   1600    C MOL     1       6.225  25.621 439.320  1.00  0.00           C  \nATOM   1601    O MOL     1       6.593  24.570 438.439  1.00  0.00           O  \nATOM   1602    C MOL     1       7.416  24.989 437.356  1.00  0.00           C  \nATOM   1603    C MOL     1       6.760  25.971 436.400  1.00  0.00           C  \nATOM   1604    O MOL     1       5.640  25.357 435.780  1.00  0.00           O  \nATOM   1605    C MOL     1       4.812  26.292 435.103  1.00  0.00           C  \nATOM   1606    C MOL     1       3.677  25.503 434.453  1.00  0.00           C  \nATOM   1607    O MOL     1       2.632  26.327 433.951  1.00  0.00           O  \nATOM   1608    C MOL     1       2.948  27.064 432.769  1.00  0.00           C  \nATOM   1609    C MOL     1       3.144  28.543 433.085  1.00  0.00           C  \nATOM   1610    O MOL     1       3.283  29.227 431.843  1.00  0.00           O  \nATOM   1611    C MOL     1       3.535  30.626 431.983  1.00  0.00           C  \nATOM   1612    C MOL     1       5.033  30.907 432.158  1.00  0.00           C  \nATOM   1613    O MOL     1       5.283  32.301 432.352  1.00  0.00           O  \nATOM   1614    C MOL     1       5.804  32.988 431.222  1.00  0.00           C  \nATOM   1615    C MOL     1       4.862  33.096 430.022  1.00  0.00           C  \nATOM   1616    O MOL     1       3.566  33.612 430.310  1.00  0.00           O  \nATOM   1617    C MOL     1       3.532  34.909 430.897  1.00  0.00           C  \nATOM   1618    C MOL     1       4.217  36.006 430.078  1.00  0.00           C  \nATOM   1619    O MOL     1       3.824  36.066 428.714  1.00  0.00           O  \nATOM   1620    C MOL     1       2.461  36.435 428.520  1.00  0.00           C  \nATOM   1621    C MOL     1       2.221  36.719 427.049  1.00  0.00           C  \nATOM   1622    O MOL     1       2.881  37.893 426.586  1.00  0.00           O  \nATOM   1623    C MOL     1       4.162  37.652 426.001  1.00  0.00           C  \nATOM   1624    C MOL     1       4.797  39.010 425.723  1.00  0.00           C  \nATOM   1625    O MOL     1       6.022  38.863 425.001  1.00  0.00           O  \nATOM   1626    C MOL     1       7.173  38.609 425.807  1.00  0.00           C  \nATOM   1627    C MOL     1       7.968  39.871 426.086  1.00  0.00           C  \nATOM   1628    O MOL     1       7.278  40.677 427.045  1.00  0.00           O  \nATOM   1629    C MOL     1       7.445  42.082 426.865  1.00  0.00           C  \nATOM   1630    C MOL     1       6.392  42.636 425.896  1.00  0.00           C  \nATOM   1631    O MOL     1       6.570  44.037 425.677  1.00  0.00           O  \nATOM   1632    C MOL     1       5.914  44.873 426.632  1.00  0.00           C  \nATOM   1633    C MOL     1       4.457  45.140 426.229  1.00  0.00           C  \nATOM   1634    O MOL     1       3.784  45.977 427.164  1.00  0.00           O  \nATOM   1635    C MOL     1       4.022  47.366 426.971  1.00  0.00           C  \nATOM   1636    C MOL     1       3.148  48.156 427.933  1.00  0.00           C  \nATOM   1637    O MOL     1       1.754  48.074 427.654  1.00  0.00           O  \nATOM   1638    C MOL     1       1.303  48.970 426.634  1.00  0.00           C  \nATOM   1639    C MOL     1       1.032  50.375 427.159  1.00  0.00           C  \nATOM   1640    H MOL     1       2.511  25.783 442.128  1.00  0.00           H  \nATOM   1641    H MOL     1       2.869  25.026 443.710  1.00  0.00           H  \nATOM   1642    H MOL     1       4.607  26.587 443.232  1.00  0.00           H  \nATOM   1643    H MOL     1       5.329  24.968 443.077  1.00  0.00           H  \nATOM   1644    H MOL     1       4.749  24.317 440.201  1.00  0.00           H  \nATOM   1645    H MOL     1       6.291  24.393 441.106  1.00  0.00           H  \nATOM   1646    H MOL     1       5.509  26.318 438.847  1.00  0.00           H  \nATOM   1647    H MOL     1       7.113  26.206 439.632  1.00  0.00           H  \nATOM   1648    H MOL     1       8.348  25.454 437.738  1.00  0.00           H  \nATOM   1649    H MOL     1       7.681  24.068 436.819  1.00  0.00           H  \nATOM   1650    H MOL     1       6.445  26.887 436.935  1.00  0.00           H  \nATOM   1651    H MOL     1       7.509  26.281 435.642  1.00  0.00           H  \nATOM   1652    H MOL     1       4.390  27.027 435.817  1.00  0.00           H  \nATOM   1653    H MOL     1       5.398  26.851 434.346  1.00  0.00           H  \nATOM   1654    H MOL     1       4.082  24.852 433.655  1.00  0.00           H  \nATOM   1655    H MOL     1       3.218  24.861 435.217  1.00  0.00           H  \nATOM   1656    H MOL     1       3.846  26.654 432.275  1.00  0.00           H  \nATOM   1657    H MOL     1       2.103  26.960 432.071  1.00  0.00           H  \nATOM   1658    H MOL     1       2.263  28.919 433.639  1.00  0.00           H  \nATOM   1659    H MOL     1       4.031  28.686 433.730  1.00  0.00           H  \nATOM   1660    H MOL     1       3.156  31.113 431.075  1.00  0.00           H  \nATOM   1661    H MOL     1       2.979  31.045 432.841  1.00  0.00           H  \nATOM   1662    H MOL     1       5.410  30.388 433.054  1.00  0.00           H  \nATOM   1663    H MOL     1       5.591  30.520 431.288  1.00  0.00           H  \nATOM   1664    H MOL     1       6.076  33.985 431.598  1.00  0.00           H  \nATOM   1665    H MOL     1       6.737  32.505 430.864  1.00  0.00           H  \nATOM   1666    H MOL     1       4.675  32.102 429.588  1.00  0.00           H  \nATOM   1667    H MOL     1       5.371  33.697 429.245  1.00  0.00           H  \nATOM   1668    H MOL     1       3.982  34.906 431.909  1.00  0.00           H  \nATOM   1669    H MOL     1       2.462  35.129 431.020  1.00  0.00           H  \nATOM   1670    H MOL     1       4.019  36.973 430.585  1.00  0.00           H  \nATOM   1671    H MOL     1       5.307  35.863 430.058  1.00  0.00           H  \nATOM   1672    H MOL     1       2.226  37.340 429.114  1.00  0.00           H  \nATOM   1673    H MOL     1       1.781  35.621 428.840  1.00  0.00           H  \nATOM   1674    H MOL     1       1.140  36.883 426.906  1.00  0.00           H  \nATOM   1675    H MOL     1       2.514  35.842 426.445  1.00  0.00           H  \nATOM   1676    H MOL     1       4.791  37.053 426.681  1.00  0.00           H  \nATOM   1677    H MOL     1       4.050  37.097 425.049  1.00  0.00           H  \nATOM   1678    H MOL     1       4.126  39.601 425.082  1.00  0.00           H  \nATOM   1679    H MOL     1       4.954  39.562 426.663  1.00  0.00           H  \nATOM   1680    H MOL     1       7.813  37.909 425.246  1.00  0.00           H  \nATOM   1681    H MOL     1       6.895  38.126 426.760  1.00  0.00           H  \nATOM   1682    H MOL     1       8.968  39.600 426.478  1.00  0.00           H  \nATOM   1683    H MOL     1       8.109  40.419 425.138  1.00  0.00           H  \nATOM   1684    H MOL     1       8.457  42.325 426.495  1.00  0.00           H  \nATOM   1685    H MOL     1       7.330  42.539 427.859  1.00  0.00           H  \nATOM   1686    H MOL     1       5.384  42.405 426.282  1.00  0.00           H  \nATOM   1687    H MOL     1       6.491  42.149 424.914  1.00  0.00           H  \nATOM   1688    H MOL     1       5.940  44.436 427.646  1.00  0.00           H  \nATOM   1689    H MOL     1       6.483  45.814 426.657  1.00  0.00           H  \nATOM   1690    H MOL     1       4.431  45.577 425.213  1.00  0.00           H  \nATOM   1691    H MOL     1       3.893  44.196 426.205  1.00  0.00           H  \nATOM   1692    H MOL     1       3.806  47.643 425.920  1.00  0.00           H  \nATOM   1693    H MOL     1       5.080  47.630 427.170  1.00  0.00           H  \nATOM   1694    H MOL     1       3.496  49.206 427.942  1.00  0.00           H  \nATOM   1695    H MOL     1       3.279  47.749 428.947  1.00  0.00           H  \nATOM   1696    H MOL     1       2.024  49.003 425.796  1.00  0.00           H  \nATOM   1697    H MOL     1       0.376  48.524 426.246  1.00  0.00           H  \nATOM   1698    H MOL     1       0.294  50.340 427.972  1.00  0.00           H  \nATOM   1699    H MOL     1       1.944  50.854 427.541  1.00  0.00           H  \nATOM   1700    H MOL     1       0.631  51.012 426.357  1.00  0.00           H  \nATOM   1701    O MOL     1       7.809  28.946 141.978  1.00  0.00           O  \nATOM   1702    C MOL     1       6.413  28.852 141.666  1.00  0.00           C  \nATOM   1703    C MOL     1       6.248  28.244 140.285  1.00  0.00           C  \nATOM   1704    O MOL     1       6.557  26.855 140.226  1.00  0.00           O  \nATOM   1705    C MOL     1       7.911  26.561 139.876  1.00  0.00           C  \nATOM   1706    C MOL     1       8.017  25.049 139.766  1.00  0.00           C  \nATOM   1707    O MOL     1       9.368  24.743 139.446  1.00  0.00           O  \nATOM   1708    C MOL     1       9.600  23.365 139.190  1.00  0.00           C  \nATOM   1709    C MOL     1       9.570  22.475 140.422  1.00  0.00           C  \nATOM   1710    O MOL     1      10.653  22.815 141.274  1.00  0.00           O  \nATOM   1711    C MOL     1      10.635  22.090 142.496  1.00  0.00           C  \nATOM   1712    C MOL     1      11.816  22.579 143.330  1.00  0.00           C  \nATOM   1713    O MOL     1      11.862  21.982 144.621  1.00  0.00           O  \nATOM   1714    C MOL     1      12.364  20.645 144.655  1.00  0.00           C  \nATOM   1715    C MOL     1      11.273  19.679 145.103  1.00  0.00           C  \nATOM   1716    O MOL     1      11.880  18.399 145.245  1.00  0.00           O  \nATOM   1717    C MOL     1      10.985  17.373 145.672  1.00  0.00           C  \nATOM   1718    C MOL     1      10.206  16.776 144.493  1.00  0.00           C  \nATOM   1719    O MOL     1       9.349  15.716 144.920  1.00  0.00           O  \nATOM   1720    C MOL     1       9.802  14.407 144.598  1.00  0.00           C  \nATOM   1721    C MOL     1      11.088  13.965 145.297  1.00  0.00           C  \nATOM   1722    O MOL     1      11.075  14.077 146.716  1.00  0.00           O  \nATOM   1723    C MOL     1      10.084  13.306 147.388  1.00  0.00           C  \nATOM   1724    C MOL     1      10.163  11.798 147.135  1.00  0.00           C  \nATOM   1725    O MOL     1      11.454  11.234 147.320  1.00  0.00           O  \nATOM   1726    C MOL     1      11.906  11.265 148.672  1.00  0.00           C  \nATOM   1727    C MOL     1      13.194  10.473 148.794  1.00  0.00           C  \nATOM   1728    O MOL     1      13.022   9.074 148.594  1.00  0.00           O  \nATOM   1729    C MOL     1      13.267   8.637 147.256  1.00  0.00           C  \nATOM   1730    C MOL     1      12.942   7.148 147.206  1.00  0.00           C  \nATOM   1731    O MOL     1      13.339   6.576 145.955  1.00  0.00           O  \nATOM   1732    C MOL     1      12.391   6.699 144.895  1.00  0.00           C  \nATOM   1733    C MOL     1      11.392   5.557 144.851  1.00  0.00           C  \nATOM   1734    O MOL     1      10.390   5.757 145.851  1.00  0.00           O  \nATOM   1735    C MOL     1       9.691   4.573 146.227  1.00  0.00           C  \nATOM   1736    C MOL     1      10.389   3.882 147.407  1.00  0.00           C  \nATOM   1737    O MOL     1       9.714   2.684 147.793  1.00  0.00           O  \nATOM   1738    C MOL     1       8.594   2.893 148.654  1.00  0.00           C  \nATOM   1739    C MOL     1       9.008   2.910 150.132  1.00  0.00           C  \nATOM   1740    O MOL     1       7.915   3.256 150.978  1.00  0.00           O  \nATOM   1741    C MOL     1       7.040   2.172 151.262  1.00  0.00           C  \nATOM   1742    C MOL     1       5.856   2.689 152.062  1.00  0.00           C  \nATOM   1743    O MOL     1       6.181   3.132 153.380  1.00  0.00           O  \nATOM   1744    C MOL     1       6.328   2.081 154.329  1.00  0.00           C  \nATOM   1745    C MOL     1       4.975   1.621 154.862  1.00  0.00           C  \nATOM   1746    H MOL     1       7.902  29.177 142.917  1.00  0.00           H  \nATOM   1747    H MOL     1       5.883  28.220 142.402  1.00  0.00           H  \nATOM   1748    H MOL     1       5.941  29.855 141.663  1.00  0.00           H  \nATOM   1749    H MOL     1       5.191  28.342 139.993  1.00  0.00           H  \nATOM   1750    H MOL     1       6.858  28.809 139.556  1.00  0.00           H  \nATOM   1751    H MOL     1       8.613  26.936 140.636  1.00  0.00           H  \nATOM   1752    H MOL     1       8.167  27.029 138.906  1.00  0.00           H  \nATOM   1753    H MOL     1       7.709  24.595 140.726  1.00  0.00           H  \nATOM   1754    H MOL     1       7.334  24.674 138.978  1.00  0.00           H  \nATOM   1755    H MOL     1       8.860  22.977 138.462  1.00  0.00           H  \nATOM   1756    H MOL     1      10.598  23.312 138.732  1.00  0.00           H  \nATOM   1757    H MOL     1       8.610  22.579 140.964  1.00  0.00           H  \nATOM   1758    H MOL     1       9.647  21.416 140.096  1.00  0.00           H  \nATOM   1759    H MOL     1       9.691  22.269 143.046  1.00  0.00           H  \nATOM   1760    H MOL     1      10.711  21.000 142.300  1.00  0.00           H  \nATOM   1761    H MOL     1      12.758  22.404 142.778  1.00  0.00           H  \nATOM   1762    H MOL     1      11.714  23.661 143.493  1.00  0.00           H  \nATOM   1763    H MOL     1      12.755  20.342 143.669  1.00  0.00           H  \nATOM   1764    H MOL     1      13.197  20.603 145.375  1.00  0.00           H  \nATOM   1765    H MOL     1      10.852  20.018 146.069  1.00  0.00           H  \nATOM   1766    H MOL     1      10.450  19.666 144.365  1.00  0.00           H  \nATOM   1767    H MOL     1      11.595  16.597 146.152  1.00  0.00           H  \nATOM   1768    H MOL     1      10.276  17.756 146.430  1.00  0.00           H  \nATOM   1769    H MOL     1       9.563  17.544 144.032  1.00  0.00           H  \nATOM   1770    H MOL     1      10.916  16.428 143.721  1.00  0.00           H  \nATOM   1771    H MOL     1       8.965  13.743 144.862  1.00  0.00           H  \nATOM   1772    H MOL     1       9.968  14.307 143.506  1.00  0.00           H  \nATOM   1773    H MOL     1      11.936  14.589 144.976  1.00  0.00           H  \nATOM   1774    H MOL     1      11.311  12.929 144.976  1.00  0.00           H  \nATOM   1775    H MOL     1       9.062  13.644 147.128  1.00  0.00           H  \nATOM   1776    H MOL     1      10.234  13.529 148.453  1.00  0.00           H  \nATOM   1777    H MOL     1       9.422  11.307 147.798  1.00  0.00           H  \nATOM   1778    H MOL     1       9.887  11.556 146.098  1.00  0.00           H  \nATOM   1779    H MOL     1      11.136  10.827 149.337  1.00  0.00           H  \nATOM   1780    H MOL     1      12.100  12.304 149.001  1.00  0.00           H  \nATOM   1781    H MOL     1      13.577  10.605 149.819  1.00  0.00           H  \nATOM   1782    H MOL     1      13.950  10.876 148.095  1.00  0.00           H  \nATOM   1783    H MOL     1      12.644   9.206 146.545  1.00  0.00           H  \nATOM   1784    H MOL     1      14.331   8.790 146.992  1.00  0.00           H  \nATOM   1785    H MOL     1      13.523   6.628 147.981  1.00  0.00           H  \nATOM   1786    H MOL     1      11.872   6.980 147.401  1.00  0.00           H  \nATOM   1787    H MOL     1      12.975   6.692 143.961  1.00  0.00           H  \nATOM   1788    H MOL     1      11.847   7.659 144.948  1.00  0.00           H  \nATOM   1789    H MOL     1      10.917   5.518 143.850  1.00  0.00           H  \nATOM   1790    H MOL     1      11.931   4.606 145.012  1.00  0.00           H  \nATOM   1791    H MOL     1       9.602   3.869 145.380  1.00  0.00           H  \nATOM   1792    H MOL     1       8.676   4.888 146.512  1.00  0.00           H  \nATOM   1793    H MOL     1      10.472   4.595 148.247  1.00  0.00           H  \nATOM   1794    H MOL     1      11.408   3.584 147.121  1.00  0.00           H  \nATOM   1795    H MOL     1       8.069   3.837 148.424  1.00  0.00           H  \nATOM   1796    H MOL     1       7.897   2.065 148.456  1.00  0.00           H  \nATOM   1797    H MOL     1       9.442   1.933 150.417  1.00  0.00           H  \nATOM   1798    H MOL     1       9.775   3.681 150.298  1.00  0.00           H  \nATOM   1799    H MOL     1       7.583   1.377 151.811  1.00  0.00           H  \nATOM   1800    H MOL     1       6.641   1.714 150.335  1.00  0.00           H  \nATOM   1801    H MOL     1       5.081   1.899 152.083  1.00  0.00           H  \nATOM   1802    H MOL     1       5.435   3.564 151.549  1.00  0.00           H  \nATOM   1803    H MOL     1       6.866   1.213 153.909  1.00  0.00           H  \nATOM   1804    H MOL     1       6.937   2.484 155.151  1.00  0.00           H  \nATOM   1805    H MOL     1       4.473   2.450 155.399  1.00  0.00           H  \nATOM   1806    H MOL     1       4.321   1.325 154.020  1.00  0.00           H  \nATOM   1807    O MOL     1       5.212   0.528 155.739  1.00  0.00           O  \nATOM   1808    C MOL     1       4.024  -0.095 156.221  1.00  0.00           C  \nATOM   1809    C MOL     1       3.331  -1.022 155.222  1.00  0.00           C  \nATOM   1810    O MOL     1       4.035  -2.226 154.941  1.00  0.00           O  \nATOM   1811    C MOL     1       5.096  -2.099 153.992  1.00  0.00           C  \nATOM   1812    C MOL     1       5.562  -3.510 153.666  1.00  0.00           C  \nATOM   1813    O MOL     1       6.742  -3.400 152.883  1.00  0.00           O  \nATOM   1814    C MOL     1       7.178  -4.629 152.313  1.00  0.00           C  \nATOM   1815    C MOL     1       7.621  -5.682 153.316  1.00  0.00           C  \nATOM   1816    O MOL     1       8.768  -5.225 154.016  1.00  0.00           O  \nATOM   1817    C MOL     1       9.096  -6.055 155.122  1.00  0.00           C  \nATOM   1818    C MOL     1      10.333  -5.458 155.789  1.00  0.00           C  \nATOM   1819    O MOL     1      10.612  -6.024 157.064  1.00  0.00           O  \nATOM   1820    C MOL     1      11.150  -7.347 157.044  1.00  0.00           C  \nATOM   1821    C MOL     1      10.112  -8.363 157.508  1.00  0.00           C  \nATOM   1822    O MOL     1      10.770  -9.621 157.628  1.00  0.00           O  \nATOM   1823    C MOL     1       9.906 -10.689 158.016  1.00  0.00           C  \nATOM   1824    C MOL     1       9.218 -11.318 156.799  1.00  0.00           C  \nATOM   1825    O MOL     1       8.314 -12.354 157.188  1.00  0.00           O  \nATOM   1826    C MOL     1       8.769 -13.680 156.953  1.00  0.00           C  \nATOM   1827    C MOL     1       9.962 -14.129 157.798  1.00  0.00           C  \nATOM   1828    O MOL     1       9.816 -13.949 159.203  1.00  0.00           O  \nATOM   1829    C MOL     1       8.687 -14.583 159.797  1.00  0.00           C  \nATOM   1830    C MOL     1       8.614 -16.100 159.601  1.00  0.00           C  \nATOM   1831    O MOL     1       9.803 -16.808 159.925  1.00  0.00           O  \nATOM   1832    C MOL     1      10.185 -16.691 161.296  1.00  0.00           C  \nATOM   1833    C MOL     1      11.295 -17.679 161.601  1.00  0.00           C  \nATOM   1834    O MOL     1      10.857 -19.036 161.611  1.00  0.00           O  \nATOM   1835    C MOL     1      11.083 -19.725 160.381  1.00  0.00           C  \nATOM   1836    C MOL     1      10.434 -21.102 160.493  1.00  0.00           C  \nATOM   1837    O MOL     1      10.796 -21.933 159.390  1.00  0.00           O  \nATOM   1838    C MOL     1      10.121 -21.635 158.164  1.00  0.00           C  \nATOM   1839    C MOL     1       9.063 -22.665 157.832  1.00  0.00           C  \nATOM   1840    O MOL     1       7.946 -22.512 158.714  1.00  0.00           O  \nATOM   1841    C MOL     1       7.386 -23.736 159.179  1.00  0.00           C  \nATOM   1842    C MOL     1       8.178 -24.294 160.368  1.00  0.00           C  \nATOM   1843    O MOL     1       7.631 -25.536 160.818  1.00  0.00           O  \nATOM   1844    C MOL     1       6.595 -25.405 161.790  1.00  0.00           C  \nATOM   1845    C MOL     1       7.175 -25.262 163.204  1.00  0.00           C  \nATOM   1846    O MOL     1       6.163 -25.126 164.196  1.00  0.00           O  \nATOM   1847    C MOL     1       5.560 -26.358 164.572  1.00  0.00           C  \nATOM   1848    C MOL     1       4.618 -26.110 165.740  1.00  0.00           C  \nATOM   1849    O MOL     1       5.274 -25.744 166.949  1.00  0.00           O  \nATOM   1850    C MOL     1       5.803 -26.845 167.693  1.00  0.00           C  \nATOM   1851    C MOL     1       4.751 -27.554 168.539  1.00  0.00           C  \nATOM   1852    H MOL     1       4.331  -0.675 157.101  1.00  0.00           H  \nATOM   1853    H MOL     1       3.295   0.671 156.556  1.00  0.00           H  \nATOM   1854    H MOL     1       2.371  -1.332 155.664  1.00  0.00           H  \nATOM   1855    H MOL     1       3.103  -0.487 154.279  1.00  0.00           H  \nATOM   1856    H MOL     1       5.936  -1.516 154.402  1.00  0.00           H  \nATOM   1857    H MOL     1       4.734  -1.589 153.078  1.00  0.00           H  \nATOM   1858    H MOL     1       5.751  -4.045 154.615  1.00  0.00           H  \nATOM   1859    H MOL     1       4.774  -4.061 153.116  1.00  0.00           H  \nATOM   1860    H MOL     1       6.374  -5.070 151.689  1.00  0.00           H  \nATOM   1861    H MOL     1       8.021  -4.365 151.660  1.00  0.00           H  \nATOM   1862    H MOL     1       6.807  -5.914 154.030  1.00  0.00           H  \nATOM   1863    H MOL     1       7.845  -6.619 152.765  1.00  0.00           H  \nATOM   1864    H MOL     1       8.261  -6.080 155.850  1.00  0.00           H  \nATOM   1865    H MOL     1       9.283  -7.094 154.783  1.00  0.00           H  \nATOM   1866    H MOL     1      11.208  -5.551 155.119  1.00  0.00           H  \nATOM   1867    H MOL     1      10.150  -4.389 155.964  1.00  0.00           H  \nATOM   1868    H MOL     1      11.522  -7.609 156.039  1.00  0.00           H  \nATOM   1869    H MOL     1      12.006  -7.374 157.738  1.00  0.00           H  \nATOM   1870    H MOL     1       9.702  -8.046 158.487  1.00  0.00           H  \nATOM   1871    H MOL     1       9.271  -8.410 156.792  1.00  0.00           H  \nATOM   1872    H MOL     1      10.526 -11.433 158.533  1.00  0.00           H  \nATOM   1873    H MOL     1       9.140 -10.340 158.732  1.00  0.00           H  \nATOM   1874    H MOL     1       8.623 -10.557 156.267  1.00  0.00           H  \nATOM   1875    H MOL     1       9.979 -11.699 156.094  1.00  0.00           H  \nATOM   1876    H MOL     1       7.892 -14.318 157.142  1.00  0.00           H  \nATOM   1877    H MOL     1       9.050 -13.816 155.888  1.00  0.00           H  \nATOM   1878    H MOL     1      10.861 -13.553 157.534  1.00  0.00           H  \nATOM   1879    H MOL     1      10.174 -15.188 157.551  1.00  0.00           H  \nATOM   1880    H MOL     1       7.739 -14.146 159.429  1.00  0.00           H  \nATOM   1881    H MOL     1       8.761 -14.335 160.865  1.00  0.00           H  \nATOM   1882    H MOL     1       7.762 -16.469 160.209  1.00  0.00           H  \nATOM   1883    H MOL     1       8.403 -16.355 158.552  1.00  0.00           H  \nATOM   1884    H MOL     1       9.316 -16.901 161.950  1.00  0.00           H  \nATOM   1885    H MOL     1      10.550 -15.670 161.515  1.00  0.00           H  \nATOM   1886    H MOL     1      11.678 -17.458 162.610  1.00  0.00           H  \nATOM   1887    H MOL     1      12.124 -17.542 160.884  1.00  0.00           H  \nATOM   1888    H MOL     1      10.655 -19.153 159.541  1.00  0.00           H  \nATOM   1889    H MOL     1      12.168 -19.849 160.202  1.00  0.00           H  \nATOM   1890    H MOL     1      10.811 -21.607 161.394  1.00  0.00           H  \nATOM   1891    H MOL     1       9.338 -21.007 160.578  1.00  0.00           H  \nATOM   1892    H MOL     1      10.867 -21.613 157.353  1.00  0.00           H  \nATOM   1893    H MOL     1       9.643 -20.641 158.210  1.00  0.00           H  \nATOM   1894    H MOL     1       8.734 -22.523 156.785  1.00  0.00           H  \nATOM   1895    H MOL     1       9.497 -23.676 157.917  1.00  0.00           H  \nATOM   1896    H MOL     1       7.344 -24.493 158.374  1.00  0.00           H  \nATOM   1897    H MOL     1       6.353 -23.507 159.480  1.00  0.00           H  \nATOM   1898    H MOL     1       8.206 -23.540 161.173  1.00  0.00           H  \nATOM   1899    H MOL     1       9.217 -24.497 160.070  1.00  0.00           H  \nATOM   1900    H MOL     1       5.934 -24.546 161.575  1.00  0.00           H  \nATOM   1901    H MOL     1       5.990 -26.321 161.715  1.00  0.00           H  \nATOM   1902    H MOL     1       7.829 -26.128 163.420  1.00  0.00           H  \nATOM   1903    H MOL     1       7.787 -24.351 163.270  1.00  0.00           H  \nATOM   1904    H MOL     1       6.344 -27.094 164.841  1.00  0.00           H  \nATOM   1905    H MOL     1       4.971 -26.794 163.740  1.00  0.00           H  \nATOM   1906    H MOL     1       3.988 -27.009 165.879  1.00  0.00           H  \nATOM   1907    H MOL     1       3.956 -25.269 165.488  1.00  0.00           H  \nATOM   1908    H MOL     1       6.306 -27.564 167.020  1.00  0.00           H  \nATOM   1909    H MOL     1       6.579 -26.408 168.338  1.00  0.00           H  \nATOM   1910    H MOL     1       4.272 -26.845 169.228  1.00  0.00           H  \nATOM   1911    H MOL     1       3.969 -28.017 167.921  1.00  0.00           H  \nATOM   1912    H MOL     1       5.220 -28.353 169.133  1.00  0.00           H  \nATOM   1913    O MOL     1     -11.237   4.404 116.694  1.00  0.00           O  \nATOM   1914    C MOL     1     -11.406   3.041 116.282  1.00  0.00           C  \nATOM   1915    C MOL     1     -11.938   3.010 114.861  1.00  0.00           C  \nATOM   1916    O MOL     1     -10.978   3.374 113.873  1.00  0.00           O  \nATOM   1917    C MOL     1     -10.947   4.764 113.548  1.00  0.00           C  \nATOM   1918    C MOL     1      -9.917   4.926 112.443  1.00  0.00           C  \nATOM   1919    O MOL     1      -9.860   6.307 112.105  1.00  0.00           O  \nATOM   1920    C MOL     1      -9.010   6.590 110.999  1.00  0.00           C  \nATOM   1921    C MOL     1      -7.522   6.457 111.283  1.00  0.00           C  \nATOM   1922    O MOL     1      -7.125   7.443 112.225  1.00  0.00           O  \nATOM   1923    C MOL     1      -5.761   7.318 112.600  1.00  0.00           C  \nATOM   1924    C MOL     1      -5.472   8.391 113.647  1.00  0.00           C  \nATOM   1925    O MOL     1      -4.148   8.308 114.163  1.00  0.00           O  \nATOM   1926    C MOL     1      -3.131   8.849 113.318  1.00  0.00           C  \nATOM   1927    C MOL     1      -2.160   7.755 112.893  1.00  0.00           C  \nATOM   1928    O MOL     1      -1.110   8.384 112.164  1.00  0.00           O  \nATOM   1929    C MOL     1      -0.114   7.484 111.678  1.00  0.00           C  \nATOM   1930    C MOL     1      -0.534   6.848 110.346  1.00  0.00           C  \nATOM   1931    O MOL     1       0.474   5.966 109.847  1.00  0.00           O  \nATOM   1932    C MOL     1       1.241   6.475 108.762  1.00  0.00           C  \nATOM   1933    C MOL     1       2.132   7.674 109.089  1.00  0.00           C  \nATOM   1934    O MOL     1       3.012   7.490 110.193  1.00  0.00           O  \nATOM   1935    C MOL     1       4.013   6.490 110.030  1.00  0.00           C  \nATOM   1936    C MOL     1       4.978   6.721 108.862  1.00  0.00           C  \nATOM   1937    O MOL     1       5.568   8.013 108.819  1.00  0.00           O  \nATOM   1938    C MOL     1       6.481   8.260 109.886  1.00  0.00           C  \nATOM   1939    C MOL     1       7.118   9.627 109.712  1.00  0.00           C  \nATOM   1940    O MOL     1       8.099   9.709 108.682  1.00  0.00           O  \nATOM   1941    C MOL     1       7.596  10.149 107.418  1.00  0.00           C  \nATOM   1942    C MOL     1       8.800  10.347 106.504  1.00  0.00           C  \nATOM   1943    O MOL     1       8.440  10.990 105.276  1.00  0.00           O  \nATOM   1944    C MOL     1       7.827  10.179 104.276  1.00  0.00           C  \nATOM   1945    C MOL     1       8.787   9.301 103.494  1.00  0.00           C  \nATOM   1946    O MOL     1       9.099   8.149 104.282  1.00  0.00           O  \nATOM   1947    C MOL     1      10.038   7.268 103.669  1.00  0.00           C  \nATOM   1948    C MOL     1      11.466   7.572 104.132  1.00  0.00           C  \nATOM   1949    O MOL     1      12.410   6.729 103.464  1.00  0.00           O  \nATOM   1950    C MOL     1      12.573   5.437 104.053  1.00  0.00           C  \nATOM   1951    C MOL     1      13.672   5.474 105.126  1.00  0.00           C  \nATOM   1952    O MOL     1      13.899   4.204 105.727  1.00  0.00           O  \nATOM   1953    C MOL     1      14.777   3.373 104.979  1.00  0.00           C  \nATOM   1954    C MOL     1      15.008   2.089 105.757  1.00  0.00           C  \nATOM   1955    O MOL     1      15.675   2.278 107.002  1.00  0.00           O  \nATOM   1956    C MOL     1      17.091   2.403 106.903  1.00  0.00           C  \nATOM   1957    C MOL     1      17.771   1.037 106.914  1.00  0.00           C  \nATOM   1958    H MOL     1     -10.780   4.413 117.551  1.00  0.00           H  \nATOM   1959    H MOL     1     -10.448   2.493 116.318  1.00  0.00           H  \nATOM   1960    H MOL     1     -12.132   2.519 116.935  1.00  0.00           H  \nATOM   1961    H MOL     1     -12.238   1.975 114.632  1.00  0.00           H  \nATOM   1962    H MOL     1     -12.835   3.652 114.786  1.00  0.00           H  \nATOM   1963    H MOL     1     -10.669   5.376 114.420  1.00  0.00           H  \nATOM   1964    H MOL     1     -11.941   5.098 113.193  1.00  0.00           H  \nATOM   1965    H MOL     1      -8.942   4.552 112.804  1.00  0.00           H  \nATOM   1966    H MOL     1     -10.207   4.320 111.561  1.00  0.00           H  \nATOM   1967    H MOL     1      -9.257   5.927 110.145  1.00  0.00           H  \nATOM   1968    H MOL     1      -9.234   7.626 110.708  1.00  0.00           H  \nATOM   1969    H MOL     1      -7.279   5.446 111.665  1.00  0.00           H  \nATOM   1970    H MOL     1      -6.970   6.585 110.329  1.00  0.00           H  \nATOM   1971    H MOL     1      -5.561   6.317 113.031  1.00  0.00           H  \nATOM   1972    H MOL     1      -5.103   7.441 111.715  1.00  0.00           H  \nATOM   1973    H MOL     1      -5.671   9.391 113.221  1.00  0.00           H  \nATOM   1974    H MOL     1      -6.148   8.246 114.502  1.00  0.00           H  \nATOM   1975    H MOL     1      -3.568   9.332 112.428  1.00  0.00           H  \nATOM   1976    H MOL     1      -2.579   9.620 113.882  1.00  0.00           H  \nATOM   1977    H MOL     1      -1.758   7.244 113.789  1.00  0.00           H  \nATOM   1978    H MOL     1      -2.688   6.997 112.283  1.00  0.00           H  \nATOM   1979    H MOL     1       0.805   8.069 111.545  1.00  0.00           H  \nATOM   1980    H MOL     1       0.099   6.692 112.418  1.00  0.00           H  \nATOM   1981    H MOL     1      -1.446   6.244 110.486  1.00  0.00           H  \nATOM   1982    H MOL     1      -0.769   7.642 109.615  1.00  0.00           H  \nATOM   1983    H MOL     1       1.842   5.621 108.415  1.00  0.00           H  \nATOM   1984    H MOL     1       0.580   6.774 107.923  1.00  0.00           H  \nATOM   1985    H MOL     1       1.520   8.546 109.363  1.00  0.00           H  \nATOM   1986    H MOL     1       2.687   7.947 108.171  1.00  0.00           H  \nATOM   1987    H MOL     1       3.566   5.485 109.907  1.00  0.00           H  \nATOM   1988    H MOL     1       4.553   6.484 110.987  1.00  0.00           H  \nATOM   1989    H MOL     1       5.761   5.936 108.920  1.00  0.00           H  \nATOM   1990    H MOL     1       4.465   6.604 107.897  1.00  0.00           H  \nATOM   1991    H MOL     1       7.260   7.473 109.910  1.00  0.00           H  \nATOM   1992    H MOL     1       5.963   8.256 110.865  1.00  0.00           H  \nATOM   1993    H MOL     1       7.634   9.879 110.651  1.00  0.00           H  \nATOM   1994    H MOL     1       6.320  10.374 109.545  1.00  0.00           H  \nATOM   1995    H MOL     1       6.888   9.411 107.004  1.00  0.00           H  \nATOM   1996    H MOL     1       7.067  11.113 107.540  1.00  0.00           H  \nATOM   1997    H MOL     1       9.501  11.038 106.991  1.00  0.00           H  \nATOM   1998    H MOL     1       9.307   9.386 106.327  1.00  0.00           H  \nATOM   1999    H MOL     1       7.349  10.891 103.587  1.00  0.00           H  \nATOM   2000    H MOL     1       7.027   9.539 104.689  1.00  0.00           H  \nATOM   2001    H MOL     1       8.300   8.982 102.550  1.00  0.00           H  \nATOM   2002    H MOL     1       9.697   9.875 103.232  1.00  0.00           H  \nATOM   2003    H MOL     1       9.980   7.322 102.568  1.00  0.00           H  \nATOM   2004    H MOL     1       9.751   6.249 103.975  1.00  0.00           H  \nATOM   2005    H MOL     1      11.528   7.476 105.232  1.00  0.00           H  \nATOM   2006    H MOL     1      11.738   8.608 103.878  1.00  0.00           H  \nATOM   2007    H MOL     1      11.630   5.057 104.489  1.00  0.00           H  \nATOM   2008    H MOL     1      12.856   4.756 103.233  1.00  0.00           H  \nATOM   2009    H MOL     1      14.599   5.878 104.673  1.00  0.00           H  \nATOM   2010    H MOL     1      13.382   6.152 105.942  1.00  0.00           H  \nATOM   2011    H MOL     1      15.727   3.908 104.781  1.00  0.00           H  \nATOM   2012    H MOL     1      14.345   3.104 103.993  1.00  0.00           H  \nATOM   2013    H MOL     1      15.555   1.382 105.106  1.00  0.00           H  \nATOM   2014    H MOL     1      14.032   1.646 106.004  1.00  0.00           H  \nATOM   2015    H MOL     1      17.396   2.947 105.993  1.00  0.00           H  \nATOM   2016    H MOL     1      17.423   2.991 107.771  1.00  0.00           H  \nATOM   2017    H MOL     1      17.573   0.516 107.871  1.00  0.00           H  \nATOM   2018    H MOL     1      17.361   0.409 106.101  1.00  0.00           H  \nATOM   2019    O MOL     1      19.166   1.264 106.745  1.00  0.00           O  \nATOM   2020    C MOL     1      19.931   0.081 106.526  1.00  0.00           C  \nATOM   2021    C MOL     1      19.804  -0.514 105.124  1.00  0.00           C  \nATOM   2022    O MOL     1      20.338   0.301 104.088  1.00  0.00           O  \nATOM   2023    C MOL     1      19.447   1.307 103.607  1.00  0.00           C  \nATOM   2024    C MOL     1      20.090   1.916 102.372  1.00  0.00           C  \nATOM   2025    O MOL     1      19.290   3.021 101.970  1.00  0.00           O  \nATOM   2026    C MOL     1      19.679   3.606 100.731  1.00  0.00           C  \nATOM   2027    C MOL     1      21.136   4.040 100.650  1.00  0.00           C  \nATOM   2028    O MOL     1      21.425   4.965 101.689  1.00  0.00           O  \nATOM   2029    C MOL     1      22.821   5.155 101.879  1.00  0.00           C  \nATOM   2030    C MOL     1      22.977   6.222 102.964  1.00  0.00           C  \nATOM   2031    O MOL     1      24.299   6.342 103.476  1.00  0.00           O  \nATOM   2032    C MOL     1      25.277   6.842 102.566  1.00  0.00           C  \nATOM   2033    C MOL     1      26.214   5.724 102.116  1.00  0.00           C  \nATOM   2034    O MOL     1      27.252   6.320 101.338  1.00  0.00           O  \nATOM   2035    C MOL     1      28.232   5.392 100.867  1.00  0.00           C  \nATOM   2036    C MOL     1      28.004   5.025  99.401  1.00  0.00           C  \nATOM   2037    O MOL     1      29.097   4.236  98.926  1.00  0.00           O  \nATOM   2038    C MOL     1      30.057   4.944  98.149  1.00  0.00           C  \nATOM   2039    C MOL     1      30.778   6.109  98.833  1.00  0.00           C  \nATOM   2040    O MOL     1      31.485   5.819 100.035  1.00  0.00           O  \nATOM   2041    C MOL     1      32.477   4.799  99.973  1.00  0.00           C  \nATOM   2042    C MOL     1      33.433   4.864  98.785  1.00  0.00           C  \nATOM   2043    O MOL     1      34.198   6.058  98.669  1.00  0.00           O  \nATOM   2044    C MOL     1      35.232   6.166  99.647  1.00  0.00           C  \nATOM   2045    C MOL     1      36.270   7.178  99.201  1.00  0.00           C  \nATOM   2046    O MOL     1      37.084   6.727  98.120  1.00  0.00           O  \nATOM   2047    C MOL     1      36.668   7.171  96.828  1.00  0.00           C  \nATOM   2048    C MOL     1      37.757   6.743  95.843  1.00  0.00           C  \nATOM   2049    O MOL     1      37.610   7.367  94.565  1.00  0.00           O  \nATOM   2050    C MOL     1      36.596   6.812  93.729  1.00  0.00           C  \nATOM   2051    C MOL     1      37.125   5.822  92.709  1.00  0.00           C  \nATOM   2052    O MOL     1      37.525   4.616  93.363  1.00  0.00           O  \nATOM   2053    C MOL     1      38.666   3.987  92.781  1.00  0.00           C  \nATOM   2054    C MOL     1      39.959   4.657  93.262  1.00  0.00           C  \nATOM   2055    O MOL     1      41.110   4.074  92.651  1.00  0.00           O  \nATOM   2056    C MOL     1      41.667   2.977  93.376  1.00  0.00           C  \nATOM   2057    C MOL     1      42.608   3.467  94.486  1.00  0.00           C  \nATOM   2058    O MOL     1      43.186   2.394  95.220  1.00  0.00           O  \nATOM   2059    C MOL     1      44.317   1.807  94.586  1.00  0.00           C  \nATOM   2060    C MOL     1      44.937   0.789  95.530  1.00  0.00           C  \nATOM   2061    O MOL     1      45.550   1.361  96.680  1.00  0.00           O  \nATOM   2062    C MOL     1      46.888   1.824  96.471  1.00  0.00           C  \nATOM   2063    C MOL     1      47.916   0.698  96.481  1.00  0.00           C  \nATOM   2064    H MOL     1      20.978   0.369 106.701  1.00  0.00           H  \nATOM   2065    H MOL     1      19.660  -0.701 107.264  1.00  0.00           H  \nATOM   2066    H MOL     1      20.384  -1.450 105.102  1.00  0.00           H  \nATOM   2067    H MOL     1      18.752  -0.770 104.896  1.00  0.00           H  \nATOM   2068    H MOL     1      19.279   2.091 104.363  1.00  0.00           H  \nATOM   2069    H MOL     1      18.468   0.860 103.347  1.00  0.00           H  \nATOM   2070    H MOL     1      21.114   2.235 102.636  1.00  0.00           H  \nATOM   2071    H MOL     1      20.164   1.160 101.566  1.00  0.00           H  \nATOM   2072    H MOL     1      19.498   2.901  99.893  1.00  0.00           H  \nATOM   2073    H MOL     1      19.021   4.477 100.598  1.00  0.00           H  \nATOM   2074    H MOL     1      21.805   3.161 100.733  1.00  0.00           H  \nATOM   2075    H MOL     1      21.311   4.499  99.655  1.00  0.00           H  \nATOM   2076    H MOL     1      23.300   4.208 102.199  1.00  0.00           H  \nATOM   2077    H MOL     1      23.293   5.471 100.927  1.00  0.00           H  \nATOM   2078    H MOL     1      22.601   7.192 102.584  1.00  0.00           H  \nATOM   2079    H MOL     1      22.359   5.930 103.824  1.00  0.00           H  \nATOM   2080    H MOL     1      24.801   7.315 101.689  1.00  0.00           H  \nATOM   2081    H MOL     1      25.874   7.603 103.094  1.00  0.00           H  \nATOM   2082    H MOL     1      26.641   5.229 103.010  1.00  0.00           H  \nATOM   2083    H MOL     1      25.663   4.959 101.534  1.00  0.00           H  \nATOM   2084    H MOL     1      29.219   5.860 100.977  1.00  0.00           H  \nATOM   2085    H MOL     1      28.240   4.472 101.478  1.00  0.00           H  \nATOM   2086    H MOL     1      27.090   4.424  99.285  1.00  0.00           H  \nATOM   2087    H MOL     1      27.872   5.943  98.803  1.00  0.00           H  \nATOM   2088    H MOL     1      30.771   4.172  97.826  1.00  0.00           H  \nATOM   2089    H MOL     1      29.585   5.359  97.233  1.00  0.00           H  \nATOM   2090    H MOL     1      30.057   6.889  99.123  1.00  0.00           H  \nATOM   2091    H MOL     1      31.449   6.568  98.085  1.00  0.00           H  \nATOM   2092    H MOL     1      32.010   3.795  99.971  1.00  0.00           H  \nATOM   2093    H MOL     1      33.031   4.898 100.917  1.00  0.00           H  \nATOM   2094    H MOL     1      34.105   3.987  98.852  1.00  0.00           H  \nATOM   2095    H MOL     1      32.880   4.777  97.841  1.00  0.00           H  \nATOM   2096    H MOL     1      35.723   5.183  99.780  1.00  0.00           H  \nATOM   2097    H MOL     1      34.819   6.484 100.624  1.00  0.00           H  \nATOM   2098    H MOL     1      36.947   7.359 100.052  1.00  0.00           H  \nATOM   2099    H MOL     1      35.785   8.137  98.945  1.00  0.00           H  \nATOM   2100    H MOL     1      35.684   6.741  96.569  1.00  0.00           H  \nATOM   2101    H MOL     1      36.577   8.274  96.813  1.00  0.00           H  \nATOM   2102    H MOL     1      38.725   7.088  96.234  1.00  0.00           H  \nATOM   2103    H MOL     1      37.787   5.645  95.751  1.00  0.00           H  \nATOM   2104    H MOL     1      36.124   7.649  93.189  1.00  0.00           H  \nATOM   2105    H MOL     1      35.816   6.322  94.334  1.00  0.00           H  \nATOM   2106    H MOL     1      36.324   5.602  91.975  1.00  0.00           H  \nATOM   2107    H MOL     1      37.968   6.276  92.162  1.00  0.00           H  \nATOM   2108    H MOL     1      38.622   4.010  91.677  1.00  0.00           H  \nATOM   2109    H MOL     1      38.633   2.935  93.099  1.00  0.00           H  \nATOM   2110    H MOL     1      40.006   4.605  94.364  1.00  0.00           H  \nATOM   2111    H MOL     1      39.958   5.721  92.984  1.00  0.00           H  \nATOM   2112    H MOL     1      40.882   2.335  93.814  1.00  0.00           H  \nATOM   2113    H MOL     1      42.221   2.377  92.639  1.00  0.00           H  \nATOM   2114    H MOL     1      43.389   4.113  94.043  1.00  0.00           H  \nATOM   2115    H MOL     1      42.047   4.067  95.218  1.00  0.00           H  \nATOM   2116    H MOL     1      45.049   2.595  94.317  1.00  0.00           H  \nATOM   2117    H MOL     1      44.033   1.286  93.650  1.00  0.00           H  \nATOM   2118    H MOL     1      45.652   0.169  94.958  1.00  0.00           H  \nATOM   2119    H MOL     1      44.143   0.126  95.905  1.00  0.00           H  \nATOM   2120    H MOL     1      46.956   2.402  95.529  1.00  0.00           H  \nATOM   2121    H MOL     1      47.088   2.521  97.297  1.00  0.00           H  \nATOM   2122    H MOL     1      47.849   0.130  97.419  1.00  0.00           H  \nATOM   2123    H MOL     1      47.778   0.001  95.643  1.00  0.00           H  \nATOM   2124    H MOL     1      48.932   1.115  96.404  1.00  0.00           H  \nATOM   2125    O MOL     1       9.915  -9.071 229.416  1.00  0.00           O  \nATOM   2126    C MOL     1       9.012  -9.863 230.199  1.00  0.00           C  \nATOM   2127    C MOL     1       9.727 -10.358 231.443  1.00  0.00           C  \nATOM   2128    O MOL     1       9.960  -9.350 232.421  1.00  0.00           O  \nATOM   2129    C MOL     1      11.203  -8.659 232.283  1.00  0.00           C  \nATOM   2130    C MOL     1      11.302  -7.701 233.457  1.00  0.00           C  \nATOM   2131    O MOL     1      12.528  -6.993 233.325  1.00  0.00           O  \nATOM   2132    C MOL     1      12.814  -6.129 234.416  1.00  0.00           C  \nATOM   2133    C MOL     1      11.973  -4.863 234.468  1.00  0.00           C  \nATOM   2134    O MOL     1      12.284  -4.045 233.350  1.00  0.00           O  \nATOM   2135    C MOL     1      11.474  -2.880 233.285  1.00  0.00           C  \nATOM   2136    C MOL     1      11.865  -2.124 232.018  1.00  0.00           C  \nATOM   2137    O MOL     1      11.055  -0.976 231.792  1.00  0.00           O  \nATOM   2138    C MOL     1      11.377   0.164 232.591  1.00  0.00           C  \nATOM   2139    C MOL     1      10.219   0.505 233.521  1.00  0.00           C  \nATOM   2140    O MOL     1      10.557   1.719 234.184  1.00  0.00           O  \nATOM   2141    C MOL     1       9.561   2.184 235.094  1.00  0.00           C  \nATOM   2142    C MOL     1       9.684   1.503 236.463  1.00  0.00           C  \nATOM   2143    O MOL     1       8.712   2.007 237.381  1.00  0.00           O  \nATOM   2144    C MOL     1       9.220   2.895 238.369  1.00  0.00           C  \nATOM   2145    C MOL     1       9.755   4.228 237.845  1.00  0.00           C  \nATOM   2146    O MOL     1       8.849   4.968 237.033  1.00  0.00           O  \nATOM   2147    C MOL     1       7.632   5.357 237.661  1.00  0.00           C  \nATOM   2148    C MOL     1       7.802   6.226 238.910  1.00  0.00           C  \nATOM   2149    O MOL     1       8.657   7.348 238.741  1.00  0.00           O  \nATOM   2150    C MOL     1       8.150   8.334 237.846  1.00  0.00           C  \nATOM   2151    C MOL     1       9.040   9.562 237.894  1.00  0.00           C  \nATOM   2152    O MOL     1       8.971  10.263 239.131  1.00  0.00           O  \nATOM   2153    C MOL     1       9.989   9.903 240.068  1.00  0.00           C  \nATOM   2154    C MOL     1       9.690  10.654 241.361  1.00  0.00           C  \nATOM   2155    O MOL     1      10.764  10.522 242.297  1.00  0.00           O  \nATOM   2156    C MOL     1      10.727   9.353 243.116  1.00  0.00           C  \nATOM   2157    C MOL     1       9.957   9.555 244.410  1.00  0.00           C  \nATOM   2158    O MOL     1       8.554   9.491 244.150  1.00  0.00           O  \nATOM   2159    C MOL     1       7.744  10.116 245.144  1.00  0.00           C  \nATOM   2160    C MOL     1       7.489  11.586 244.785  1.00  0.00           C  \nATOM   2161    O MOL     1       6.670  12.234 245.759  1.00  0.00           O  \nATOM   2162    C MOL     1       5.267  12.037 245.570  1.00  0.00           C  \nATOM   2163    C MOL     1       4.668  13.106 244.646  1.00  0.00           C  \nATOM   2164    O MOL     1       3.280  12.881 244.413  1.00  0.00           O  \nATOM   2165    C MOL     1       2.435  13.369 245.448  1.00  0.00           C  \nATOM   2166    C MOL     1       0.997  12.988 245.135  1.00  0.00           C  \nATOM   2167    O MOL     1       0.437  13.684 244.023  1.00  0.00           O  \nATOM   2168    C MOL     1      -0.076  14.975 244.339  1.00  0.00           C  \nATOM   2169    C MOL     1      -1.495  14.886 244.895  1.00  0.00           C  \nATOM   2170    H MOL     1       9.414  -8.655 228.695  1.00  0.00           H  \nATOM   2171    H MOL     1       8.129  -9.275 230.505  1.00  0.00           H  \nATOM   2172    H MOL     1       8.662 -10.744 229.626  1.00  0.00           H  \nATOM   2173    H MOL     1       9.087 -11.114 231.926  1.00  0.00           H  \nATOM   2174    H MOL     1      10.677 -10.847 231.155  1.00  0.00           H  \nATOM   2175    H MOL     1      11.251  -8.102 231.334  1.00  0.00           H  \nATOM   2176    H MOL     1      12.045  -9.376 232.306  1.00  0.00           H  \nATOM   2177    H MOL     1      10.431  -7.020 233.443  1.00  0.00           H  \nATOM   2178    H MOL     1      11.277  -8.263 234.412  1.00  0.00           H  \nATOM   2179    H MOL     1      12.692  -6.668 235.378  1.00  0.00           H  \nATOM   2180    H MOL     1      13.873  -5.852 234.306  1.00  0.00           H  \nATOM   2181    H MOL     1      10.892  -5.105 234.475  1.00  0.00           H  \nATOM   2182    H MOL     1      12.195  -4.330 235.416  1.00  0.00           H  \nATOM   2183    H MOL     1      10.401  -3.150 233.240  1.00  0.00           H  \nATOM   2184    H MOL     1      11.627  -2.251 234.186  1.00  0.00           H  \nATOM   2185    H MOL     1      12.935  -1.851 232.061  1.00  0.00           H  \nATOM   2186    H MOL     1      11.718  -2.782 231.150  1.00  0.00           H  \nATOM   2187    H MOL     1      12.294  -0.009 233.179  1.00  0.00           H  \nATOM   2188    H MOL     1      11.563   1.019 231.922  1.00  0.00           H  \nATOM   2189    H MOL     1       9.292   0.632 232.929  1.00  0.00           H  \nATOM   2190    H MOL     1      10.049  -0.322 234.236  1.00  0.00           H  \nATOM   2191    H MOL     1       9.706   3.268 235.198  1.00  0.00           H  \nATOM   2192    H MOL     1       8.546   2.021 234.688  1.00  0.00           H  \nATOM   2193    H MOL     1       9.505   0.420 236.367  1.00  0.00           H  \nATOM   2194    H MOL     1      10.708   1.640 236.852  1.00  0.00           H  \nATOM   2195    H MOL     1       8.382   3.055 239.065  1.00  0.00           H  \nATOM   2196    H MOL     1      10.037   2.415 238.945  1.00  0.00           H  \nATOM   2197    H MOL     1      10.635   4.066 237.205  1.00  0.00           H  \nATOM   2198    H MOL     1      10.096   4.823 238.714  1.00  0.00           H  \nATOM   2199    H MOL     1       7.018   4.478 237.937  1.00  0.00           H  \nATOM   2200    H MOL     1       7.080   5.902 236.882  1.00  0.00           H  \nATOM   2201    H MOL     1       6.791   6.550 239.233  1.00  0.00           H  \nATOM   2202    H MOL     1       8.241   5.649 239.737  1.00  0.00           H  \nATOM   2203    H MOL     1       7.118   8.613 238.136  1.00  0.00           H  \nATOM   2204    H MOL     1       8.129   7.953 236.807  1.00  0.00           H  \nATOM   2205    H MOL     1       8.699  10.259 237.111  1.00  0.00           H  \nATOM   2206    H MOL     1      10.082   9.277 237.663  1.00  0.00           H  \nATOM   2207    H MOL     1       9.996   8.812 240.231  1.00  0.00           H  \nATOM   2208    H MOL     1      10.984  10.207 239.689  1.00  0.00           H  \nATOM   2209    H MOL     1       9.606  11.728 241.139  1.00  0.00           H  \nATOM   2210    H MOL     1       8.737  10.313 241.795  1.00  0.00           H  \nATOM   2211    H MOL     1      11.774   9.121 243.366  1.00  0.00           H  \nATOM   2212    H MOL     1      10.308   8.489 242.569  1.00  0.00           H  \nATOM   2213    H MOL     1      10.239   8.765 245.135  1.00  0.00           H  \nATOM   2214    H MOL     1      10.239  10.532 244.841  1.00  0.00           H  \nATOM   2215    H MOL     1       8.206  10.047 246.145  1.00  0.00           H  \nATOM   2216    H MOL     1       6.796   9.558 245.172  1.00  0.00           H  \nATOM   2217    H MOL     1       7.045  11.639 243.774  1.00  0.00           H  \nATOM   2218    H MOL     1       8.439  12.140 244.761  1.00  0.00           H  \nATOM   2219    H MOL     1       5.045  11.039 245.154  1.00  0.00           H  \nATOM   2220    H MOL     1       4.812  12.092 246.570  1.00  0.00           H  \nATOM   2221    H MOL     1       4.844  14.112 245.072  1.00  0.00           H  \nATOM   2222    H MOL     1       5.153  13.067 243.660  1.00  0.00           H  \nATOM   2223    H MOL     1       2.546  14.467 245.544  1.00  0.00           H  \nATOM   2224    H MOL     1       2.697  12.925 246.429  1.00  0.00           H  \nATOM   2225    H MOL     1       0.390  13.138 246.047  1.00  0.00           H  \nATOM   2226    H MOL     1       0.962  11.920 244.874  1.00  0.00           H  \nATOM   2227    H MOL     1       0.566  15.508 245.063  1.00  0.00           H  \nATOM   2228    H MOL     1      -0.076  15.552 243.404  1.00  0.00           H  \nATOM   2229    H MOL     1      -2.171  14.430 244.146  1.00  0.00           H  \nATOM   2230    H MOL     1      -1.504  14.238 245.792  1.00  0.00           H  \nATOM   2231    O MOL     1      -1.916  16.208 245.210  1.00  0.00           O  \nATOM   2232    C MOL     1      -3.146  16.267 245.930  1.00  0.00           C  \nATOM   2233    C MOL     1      -3.041  15.909 247.412  1.00  0.00           C  \nATOM   2234    O MOL     1      -2.315  16.849 248.194  1.00  0.00           O  \nATOM   2235    C MOL     1      -0.895  16.715 248.124  1.00  0.00           C  \nATOM   2236    C MOL     1      -0.315  17.644 249.177  1.00  0.00           C  \nATOM   2237    O MOL     1       1.096  17.666 248.997  1.00  0.00           O  \nATOM   2238    C MOL     1       1.799  18.329 250.040  1.00  0.00           C  \nATOM   2239    C MOL     1       1.509  19.816 250.168  1.00  0.00           C  \nATOM   2240    O MOL     1       1.939  20.491 248.995  1.00  0.00           O  \nATOM   2241    C MOL     1       1.455  21.825 248.925  1.00  0.00           C  \nATOM   2242    C MOL     1       1.987  22.432 247.628  1.00  0.00           C  \nATOM   2243    O MOL     1       1.355  23.658 247.277  1.00  0.00           O  \nATOM   2244    C MOL     1       1.736  24.791 248.058  1.00  0.00           C  \nATOM   2245    C MOL     1       0.613  25.197 249.006  1.00  0.00           C  \nATOM   2246    O MOL     1       1.004  26.411 249.642  1.00  0.00           O  \nATOM   2247    C MOL     1       0.062  26.880 250.607  1.00  0.00           C  \nATOM   2248    C MOL     1       0.280  26.214 251.971  1.00  0.00           C  \nATOM   2249    O MOL     1      -0.705  26.630 252.919  1.00  0.00           O  \nATOM   2250    C MOL     1      -0.255  27.564 253.893  1.00  0.00           C  \nATOM   2251    C MOL     1       0.128  28.943 253.354  1.00  0.00           C  \nATOM   2252    O MOL     1      -0.857  29.569 252.537  1.00  0.00           O  \nATOM   2253    C MOL     1      -2.128  29.773 253.146  1.00  0.00           C  \nATOM   2254    C MOL     1      -2.105  30.622 254.419  1.00  0.00           C  \nATOM   2255    O MOL     1      -1.418  31.860 254.297  1.00  0.00           O  \nATOM   2256    C MOL     1      -2.041  32.783 253.408  1.00  0.00           C  \nATOM   2257    C MOL     1      -1.377  34.141 253.547  1.00  0.00           C  \nATOM   2258    O MOL     1      -1.629  34.766 254.802  1.00  0.00           O  \nATOM   2259    C MOL     1      -0.619  34.528 255.786  1.00  0.00           C  \nATOM   2260    C MOL     1      -1.122  35.110 257.102  1.00  0.00           C  \nATOM   2261    O MOL     1      -0.109  35.046 258.109  1.00  0.00           O  \nATOM   2262    C MOL     1      -0.035  33.807 258.815  1.00  0.00           C  \nATOM   2263    C MOL     1      -0.771  33.856 260.140  1.00  0.00           C  \nATOM   2264    O MOL     1      -2.182  33.825 259.913  1.00  0.00           O  \nATOM   2265    C MOL     1      -2.949  34.568 260.858  1.00  0.00           C  \nATOM   2266    C MOL     1      -3.078  36.034 260.424  1.00  0.00           C  \nATOM   2267    O MOL     1      -3.813  36.799 261.381  1.00  0.00           O  \nATOM   2268    C MOL     1      -5.229  36.776 261.194  1.00  0.00           C  \nATOM   2269    C MOL     1      -5.676  37.848 260.190  1.00  0.00           C  \nATOM   2270    O MOL     1      -7.086  37.844 259.990  1.00  0.00           O  \nATOM   2271    C MOL     1      -7.812  38.562 260.980  1.00  0.00           C  \nATOM   2272    C MOL     1      -9.277  38.613 260.576  1.00  0.00           C  \nATOM   2273    O MOL     1      -9.532  39.402 259.420  1.00  0.00           O  \nATOM   2274    C MOL     1      -9.650  40.805 259.675  1.00  0.00           C  \nATOM   2275    C MOL     1     -11.034  41.203 260.176  1.00  0.00           C  \nATOM   2276    H MOL     1      -3.494  17.306 245.838  1.00  0.00           H  \nATOM   2277    H MOL     1      -3.900  15.605 245.458  1.00  0.00           H  \nATOM   2278    H MOL     1      -4.061  15.897 247.826  1.00  0.00           H  \nATOM   2279    H MOL     1      -2.617  14.895 247.546  1.00  0.00           H  \nATOM   2280    H MOL     1      -0.512  16.995 247.129  1.00  0.00           H  \nATOM   2281    H MOL     1      -0.598  15.667 248.325  1.00  0.00           H  \nATOM   2282    H MOL     1      -0.758  18.647 249.041  1.00  0.00           H  \nATOM   2283    H MOL     1      -0.576  17.290 250.193  1.00  0.00           H  \nATOM   2284    H MOL     1       1.578  17.853 251.018  1.00  0.00           H  \nATOM   2285    H MOL     1       2.865  18.180 249.814  1.00  0.00           H  \nATOM   2286    H MOL     1       0.428  19.990 250.333  1.00  0.00           H  \nATOM   2287    H MOL     1       2.039  20.203 251.062  1.00  0.00           H  \nATOM   2288    H MOL     1       0.347  21.834 248.909  1.00  0.00           H  \nATOM   2289    H MOL     1       1.787  22.405 249.809  1.00  0.00           H  \nATOM   2290    H MOL     1       3.083  22.560 247.691  1.00  0.00           H  \nATOM   2291    H MOL     1       1.772  21.734 246.807  1.00  0.00           H  \nATOM   2292    H MOL     1       2.662  24.591 248.624  1.00  0.00           H  \nATOM   2293    H MOL     1       1.937  25.625 247.366  1.00  0.00           H  \nATOM   2294    H MOL     1      -0.319  25.346 248.429  1.00  0.00           H  \nATOM   2295    H MOL     1       0.426  24.394 249.742  1.00  0.00           H  \nATOM   2296    H MOL     1       0.196  27.967 250.685  1.00  0.00           H  \nATOM   2297    H MOL     1      -0.975  26.697 250.271  1.00  0.00           H  \nATOM   2298    H MOL     1       0.188  25.120 251.874  1.00  0.00           H  \nATOM   2299    H MOL     1       1.300  26.431 252.336  1.00  0.00           H  \nATOM   2300    H MOL     1      -1.082  27.640 254.614  1.00  0.00           H  \nATOM   2301    H MOL     1       0.623  27.167 254.442  1.00  0.00           H  \nATOM   2302    H MOL     1       1.018  28.874 252.712  1.00  0.00           H  \nATOM   2303    H MOL     1       0.400  29.581 254.217  1.00  0.00           H  \nATOM   2304    H MOL     1      -2.621  28.811 253.385  1.00  0.00           H  \nATOM   2305    H MOL     1      -2.733  30.259 252.367  1.00  0.00           H  \nATOM   2306    H MOL     1      -3.157  30.788 254.729  1.00  0.00           H  \nATOM   2307    H MOL     1      -1.600  30.091 255.239  1.00  0.00           H  \nATOM   2308    H MOL     1      -3.119  32.872 253.650  1.00  0.00           H  \nATOM   2309    H MOL     1      -1.946  32.448 252.357  1.00  0.00           H  \nATOM   2310    H MOL     1      -1.793  34.804 252.771  1.00  0.00           H  \nATOM   2311    H MOL     1      -0.291  34.047 253.368  1.00  0.00           H  \nATOM   2312    H MOL     1      -0.421  33.447 255.882  1.00  0.00           H  \nATOM   2313    H MOL     1       0.323  35.032 255.497  1.00  0.00           H  \nATOM   2314    H MOL     1      -1.356  36.176 256.963  1.00  0.00           H  \nATOM   2315    H MOL     1      -2.039  34.594 257.428  1.00  0.00           H  \nATOM   2316    H MOL     1       1.032  33.611 259.013  1.00  0.00           H  \nATOM   2317    H MOL     1      -0.425  32.974 258.204  1.00  0.00           H  \nATOM   2318    H MOL     1      -0.474  32.988 260.762  1.00  0.00           H  \nATOM   2319    H MOL     1      -0.478  34.776 260.675  1.00  0.00           H  \nATOM   2320    H MOL     1      -2.507  34.516 261.869  1.00  0.00           H  \nATOM   2321    H MOL     1      -3.940  34.090 260.899  1.00  0.00           H  \nATOM   2322    H MOL     1      -3.538  36.077 259.421  1.00  0.00           H  \nATOM   2323    H MOL     1      -2.081  36.493 260.351  1.00  0.00           H  \nATOM   2324    H MOL     1      -5.582  35.786 260.854  1.00  0.00           H  \nATOM   2325    H MOL     1      -5.671  36.969 262.183  1.00  0.00           H  \nATOM   2326    H MOL     1      -5.326  38.840 260.531  1.00  0.00           H  \nATOM   2327    H MOL     1      -5.229  37.651 259.204  1.00  0.00           H  \nATOM   2328    H MOL     1      -7.395  39.583 261.087  1.00  0.00           H  \nATOM   2329    H MOL     1      -7.742  38.072 261.972  1.00  0.00           H  \nATOM   2330    H MOL     1      -9.869  38.966 261.443  1.00  0.00           H  \nATOM   2331    H MOL     1      -9.613  37.595 260.331  1.00  0.00           H  \nATOM   2332    H MOL     1      -8.870  41.140 260.384  1.00  0.00           H  \nATOM   2333    H MOL     1      -9.442  41.291 258.710  1.00  0.00           H  \nATOM   2334    H MOL     1     -11.805  40.893 259.458  1.00  0.00           H  \nATOM   2335    H MOL     1     -11.265  40.746 261.149  1.00  0.00           H  \nATOM   2336    H MOL     1     -11.093  42.294 260.300  1.00  0.00           H  \nENDMDL\n",
           "type": "blob"
          }
         ],
         "kwargs": {
          "defaultRepresentation": false,
          "ext": "pdb"
         },
         "methodName": "loadFile",
         "reconstruc_color_scheme": false,
         "target": "Stage",
         "type": "call_method"
        },
        {
         "args": [
          "500px",
          "500px"
         ],
         "kwargs": {},
         "methodName": "setSize",
         "reconstruc_color_scheme": false,
         "target": "Widget",
         "type": "call_method"
        },
        {
         "args": [
          "unitcell"
         ],
         "component_index": 0,
         "kwargs": {
          "sele": "all"
         },
         "methodName": "addRepresentation",
         "reconstruc_color_scheme": false,
         "target": "compList",
         "type": "call_method"
        },
        {
         "args": [
          "spacefill"
         ],
         "component_index": 0,
         "kwargs": {
          "sele": "all"
         },
         "methodName": "addRepresentation",
         "reconstruc_color_scheme": false,
         "target": "compList",
         "type": "call_method"
        },
        {
         "args": [],
         "kwargs": {
          "cameraType": "orthographic"
         },
         "methodName": "setParameters",
         "reconstruc_color_scheme": false,
         "target": "Stage",
         "type": "call_method"
        },
        {
         "args": [
          {
           "clipDist": 0
          }
         ],
         "kwargs": {},
         "methodName": "setParameters",
         "reconstruc_color_scheme": false,
         "target": "Widget",
         "type": "call_method"
        },
        {
         "args": [
          "spacefill",
          0
         ],
         "kwargs": {
          "colorScale": "rainbow",
          "colorScheme": "element",
          "radiusScale": 0.5,
          "radiusType": "covalent"
         },
         "methodName": "updateRepresentationsByName",
         "reconstruc_color_scheme": false,
         "target": "Widget",
         "type": "call_method"
        },
        {
         "args": [
          "this._Q = [[0.9999999797691967, -0.00020114501981768906, -1.5123608932488988e-06], [0.0002011450179005777, 0.9999999797695371, -1.2676734790947004e-06], [1.5126158488602128e-06, 1.2673692495897027e-06, 0.9999999999980528]]\n    var tooltip = document.createElement('div');\n    Object.assign(tooltip.style, {\n      display: 'none',\n      position: 'fixed',\n      zIndex: 10,\n      pointerEvents: 'none',\n      backgroundColor: 'rgba( 0, 0, 0, 0.6 )',\n      color: 'lightgrey',\n      padding: '8px',\n      fontFamily: 'sans-serif'\n    });\n    document.body.appendChild(tooltip);\n\n    var that = this;\n    this.stage.mouseControls.remove('hoverPick');\n    this.stage.signals.hovered.add(function (pickingProxy) {\n      if (pickingProxy && (pickingProxy.atom || pickingProxy.bond)) {\n        var atom = pickingProxy.atom || pickingProxy.closestBondAtom\n        var mp = pickingProxy.mouse.position\n        //tooltip.innerText = atom.element + ' i=' + atom.index + ' (' + atom.x.toFixed(2) +  ', ' + atom.y.toFixed(2) +  ', ' + atom.z.toFixed(2) + ')'\n        //var pos = that._atoms_pos[atom.index]\n        var Q = that._Q\n        var pos_x = Q[0][0] * atom.x + Q[0][1] * atom.y + Q[0][2] * atom.z \n        var pos_y = Q[1][0] * atom.x + Q[1][1] * atom.y + Q[1][2] * atom.z\n        var pos_z = Q[2][0] * atom.x + Q[2][1] * atom.y + Q[2][2] * atom.z\n        tooltip.innerText = 'i=' + atom.index + ' ' + atom.element + ' (' + pos_x.toFixed(2) +  ', ' + pos_y.toFixed(2) +  ', ' + pos_z.toFixed(2) + ')'\n        tooltip.style.bottom = window.innerHeight - mp.y + 3 + 'px'\n        tooltip.style.left = mp.x + 3 + 'px'\n        tooltip.style.display = 'block'\n      } else {\n        tooltip.style.display = 'none'\n      }\n    });\n    this.stage.tooltip = tooltip;\n    "
         ],
         "kwargs": {},
         "methodName": "executeCode",
         "reconstruc_color_scheme": false,
         "target": "Widget",
         "type": "call_method"
        },
        {
         "args": [
          "ball+stick"
         ],
         "component_index": 0,
         "kwargs": {
          "sele": "all"
         },
         "methodName": "addRepresentation",
         "reconstruc_color_scheme": false,
         "target": "compList",
         "type": "call_method"
        },
        {
         "args": [
          [
           1,
           0,
           0
          ],
          -1.5707963267948966
         ],
         "kwargs": {},
         "methodName": "spin",
         "reconstruc_color_scheme": false,
         "target": "viewerControls",
         "type": "call_method"
        }
       ],
       "_ngl_original_stage_parameters": {
        "ambientColor": 14540253,
        "ambientIntensity": 0.2,
        "backgroundColor": "white",
        "cameraEyeSep": 0.3,
        "cameraFov": 40,
        "cameraType": "perspective",
        "clipDist": 10,
        "clipFar": 100,
        "clipMode": "scene",
        "clipNear": 0,
        "clipScale": "relative",
        "fogFar": 100,
        "fogNear": 50,
        "hoverTimeout": 0,
        "impostor": true,
        "lightColor": 14540253,
        "lightIntensity": 1,
        "mousePreset": "default",
        "panSpeed": 1,
        "quality": "medium",
        "rotateSpeed": 2,
        "sampleLevel": 0,
        "tooltip": true,
        "workerDefault": true,
        "zoomSpeed": 1.2
       },
       "_ngl_repr_dict": {},
       "_ngl_serialize": false,
       "_ngl_version": "2.0.0-dev.39",
       "_ngl_view_id": [
        "CEDDBA23-EBEF-44D6-A169-76C412591B39"
       ],
       "_player_dict": {},
       "_scene_position": {},
       "_scene_rotation": {},
       "_synced_model_ids": [],
       "_synced_repr_model_ids": [],
       "_view_height": "",
       "_view_width": "",
       "background": "white",
       "frame": 0,
       "gui_style": null,
       "layout": "IPY_MODEL_8e53ff52f9e947919115bc1dc1726002",
       "max_frame": 0,
       "n_components": 0,
       "picked": {}
      }
     },
     "5ef57deff8434eeb8b963c72c7486191": {
      "model_module": "@jupyter-widgets/base",
      "model_module_version": "2.0.0",
      "model_name": "LayoutModel",
      "state": {}
     },
     "5f9c0591167844eeaf410a3803749f32": {
      "model_module": "@jupyter-widgets/controls",
      "model_module_version": "2.0.0",
      "model_name": "HBoxModel",
      "state": {
       "children": [
        "IPY_MODEL_575c7a577676473cbe6785eb0dff343e",
        "IPY_MODEL_957e70fbf84a4bc887d73f1990026038"
       ],
       "layout": "IPY_MODEL_1992ded16cb24681b09659712577d4c9"
      }
     },
     "600157eb954446b9920f15762ac02bde": {
      "model_module": "@jupyter-widgets/controls",
      "model_module_version": "2.0.0",
      "model_name": "HTMLStyleModel",
      "state": {
       "description_width": "",
       "font_size": null,
       "text_color": null
      }
     },
     "604891b2388c4ef295776b6eb6d63cf7": {
      "model_module": "@jupyter-widgets/controls",
      "model_module_version": "2.0.0",
      "model_name": "ImageModel",
      "state": {
       "layout": "IPY_MODEL_76208905362445d8970857e65bbf9fdb",
       "width": "900.0"
      }
     },
     "64177b721028449091b82423038406b5": {
      "model_module": "@jupyter-widgets/controls",
      "model_module_version": "2.0.0",
      "model_name": "HBoxModel",
      "state": {
       "children": [
        "IPY_MODEL_5ac35f63edf741b6832769aebb879ab2",
        "IPY_MODEL_d0538e7f37b349e7810483c94d5549fe",
        "IPY_MODEL_0039b609cdbb41ecbe9c5aedbb0725e5"
       ],
       "layout": "IPY_MODEL_c9488d104dd14df5bf60be044e4b3e15"
      }
     },
     "651b932adeb649ca9d566f50acd34abd": {
      "model_module": "@jupyter-widgets/controls",
      "model_module_version": "2.0.0",
      "model_name": "LinkModel",
      "state": {
       "source": [
        "IPY_MODEL_fa58f8667d904302abf2f04b9918621a",
        "value"
       ],
       "target": [
        "IPY_MODEL_745e9a45fd6f4433817745a490dcf5b9",
        "value"
       ]
      }
     },
     "6615cbc454a24db1a625d2bd5c79f16b": {
      "model_module": "@jupyter-widgets/controls",
      "model_module_version": "2.0.0",
      "model_name": "FloatSliderModel",
      "state": {
       "behavior": "drag-tap",
       "description": "Ball size",
       "layout": "IPY_MODEL_08666a02b7084795b3bced4a322e01b3",
       "max": 1.5,
       "step": 0.01,
       "style": "IPY_MODEL_1ede3d0699c844a09e76c8843961e307",
       "value": 0.49999999999999994
      }
     },
     "683c1df4c0e244bd8e8c9b5ff1863b61": {
      "model_module": "@jupyter-widgets/controls",
      "model_module_version": "2.0.0",
      "model_name": "HBoxModel",
      "state": {
       "children": [
        "IPY_MODEL_bb1e0a0ef44543dda57cf65ebbbeafb4",
        "IPY_MODEL_7d1b4d619b7a4146919ede87ca000fbe",
        "IPY_MODEL_a1349b80abd24f438237bf3142bbf2be"
       ],
       "layout": "IPY_MODEL_5c11c4729210422bb97c6bcd83270102"
      }
     },
     "68c31eb7dcbc4e3e8af714e72428e98b": {
      "model_module": "@jupyter-widgets/controls",
      "model_module_version": "2.0.0",
      "model_name": "ButtonStyleModel",
      "state": {
       "font_family": null,
       "font_size": null,
       "font_style": null,
       "font_variant": null,
       "font_weight": null,
       "text_color": null,
       "text_decoration": null
      }
     },
     "697a86b56ae3482c9f9bb643cd390517": {
      "model_module": "@jupyter-widgets/base",
      "model_module_version": "2.0.0",
      "model_name": "LayoutModel",
      "state": {}
     },
     "6d28a4ca368447cbaaf24c67d6d80aab": {
      "model_module": "@jupyter-widgets/controls",
      "model_module_version": "2.0.0",
      "model_name": "LinkModel",
      "state": {
       "source": [
        "IPY_MODEL_fa58f8667d904302abf2f04b9918621a",
        "value"
       ],
       "target": [
        "IPY_MODEL_5e57383cf54b42c39341b33d5ad8f902",
        "frame"
       ]
      }
     },
     "6e02591f61824a3b8ccf3084fe43aeed": {
      "model_module": "@jupyter-widgets/base",
      "model_module_version": "2.0.0",
      "model_name": "LayoutModel",
      "state": {}
     },
     "6ed14231d23c470c968f4358a2cc1984": {
      "model_module": "@jupyter-widgets/controls",
      "model_module_version": "2.0.0",
      "model_name": "HTMLStyleModel",
      "state": {
       "description_width": "",
       "font_size": null,
       "text_color": null
      }
     },
     "6f20f0c59df24298989f9b2944e50fdd": {
      "model_module": "@jupyter-widgets/controls",
      "model_module_version": "2.0.0",
      "model_name": "DescriptionStyleModel",
      "state": {
       "description_width": ""
      }
     },
     "70c9b5c02dba4aec81abe216f76772e9": {
      "model_module": "@jupyter-widgets/controls",
      "model_module_version": "2.0.0",
      "model_name": "TextModel",
      "state": {
       "description": "Filename: ",
       "layout": "IPY_MODEL_9360f0dc24704fae9b4abb1722fdcc5d",
       "style": "IPY_MODEL_78a2b982f1384868865713f7c23d3dff",
       "value": "screenshot.png"
      }
     },
     "72ad40db78074fb48b0e38f19be95d79": {
      "model_module": "@jupyter-widgets/base",
      "model_module_version": "2.0.0",
      "model_name": "LayoutModel",
      "state": {}
     },
     "745e9a45fd6f4433817745a490dcf5b9": {
      "model_module": "@jupyter-widgets/controls",
      "model_module_version": "2.0.0",
      "model_name": "IntSliderModel",
      "state": {
       "behavior": "drag-tap",
       "layout": "IPY_MODEL_3022460ffb284d6682de697c24aa94f2",
       "max": 0,
       "style": "IPY_MODEL_b2fe59711844448580fc73662eab0b96"
      }
     },
     "7617c419fbc64cf3941fa29b540a3dc5": {
      "model_module": "@jupyter-widgets/controls",
      "model_module_version": "2.0.0",
      "model_name": "LinkModel",
      "state": {
       "source": [
        "IPY_MODEL_9c2176bb0398430c9291c6bf6adad553",
        "max"
       ],
       "target": [
        "IPY_MODEL_575c7a577676473cbe6785eb0dff343e",
        "max_frame"
       ]
      }
     },
     "76208905362445d8970857e65bbf9fdb": {
      "model_module": "@jupyter-widgets/base",
      "model_module_version": "2.0.0",
      "model_name": "LayoutModel",
      "state": {}
     },
     "7727545ca1fc4289a86434b4f078759a": {
      "model_module": "@jupyter-widgets/controls",
      "model_module_version": "2.0.0",
      "model_name": "HTMLStyleModel",
      "state": {
       "description_width": "",
       "font_size": null,
       "text_color": null
      }
     },
     "77eb9afa337f40339801420c25c11697": {
      "model_module": "@jupyter-widgets/controls",
      "model_module_version": "2.0.0",
      "model_name": "HBoxModel",
      "state": {
       "children": [
        "IPY_MODEL_7d68eb9928d44481952d43c8a573696f",
        "IPY_MODEL_a7222047a1064f2b8cbb5796f870eb88"
       ],
       "layout": "IPY_MODEL_b280b1286dd9494aa1d3a3d904c6af1a"
      }
     },
     "7890541ac3b44c18914e537bfc1fca06": {
      "model_module": "@jupyter-widgets/output",
      "model_module_version": "1.0.0",
      "model_name": "OutputModel",
      "state": {
       "layout": "IPY_MODEL_19b67c8e377e40aa90ed67d7992138e7"
      }
     },
     "78a2b982f1384868865713f7c23d3dff": {
      "model_module": "@jupyter-widgets/controls",
      "model_module_version": "2.0.0",
      "model_name": "TextStyleModel",
      "state": {
       "description_width": "",
       "font_size": null,
       "text_color": null
      }
     },
     "79e8e38539844b26a16f2dd8fc77e85d": {
      "model_module": "@jupyter-widgets/controls",
      "model_module_version": "2.0.0",
      "model_name": "LinkModel",
      "state": {
       "source": [
        "IPY_MODEL_e492c20cfe564ed8b18c8fa5f3c952d9",
        "max"
       ],
       "target": [
        "IPY_MODEL_1e646d182162411dbc4cc02dff36165e",
        "max_frame"
       ]
      }
     },
     "7bda96a9d9a94b09b639a0612d8f6275": {
      "model_module": "@jupyter-widgets/controls",
      "model_module_version": "2.0.0",
      "model_name": "HBoxModel",
      "state": {
       "children": [
        "IPY_MODEL_2975aeedeed14acda62dbc8ec408687c",
        "IPY_MODEL_bd5eb3b93e1f4b04b6f367e245bce4de",
        "IPY_MODEL_551ab0b9ff65460883ad8a630d5bfb38"
       ],
       "layout": "IPY_MODEL_b5df78a4542c444ba9ba8eafc37bde0d"
      }
     },
     "7d1b4d619b7a4146919ede87ca000fbe": {
      "model_module": "@jupyter-widgets/controls",
      "model_module_version": "2.0.0",
      "model_name": "FloatProgressModel",
      "state": {
       "bar_style": "success",
       "layout": "IPY_MODEL_5dad6461c8524f97a545cb5e0beac067",
       "max": 10001,
       "style": "IPY_MODEL_8d4b28cb6110444a9e58c433fc9a6950",
       "value": 10001
      }
     },
     "7d68eb9928d44481952d43c8a573696f": {
      "model_module": "@jupyter-widgets/controls",
      "model_module_version": "2.0.0",
      "model_name": "ButtonModel",
      "state": {
       "description": "Download image",
       "layout": "IPY_MODEL_e4dbd494b89840338dd6700d2f57f721",
       "style": "IPY_MODEL_0643ddd07dd141309646766ec0bdf47d",
       "tooltip": "Download current frame to your local PC"
      }
     },
     "7f50b0d296dd4cc5b73211b87630fcdc": {
      "model_module": "@jupyter-widgets/controls",
      "model_module_version": "2.0.0",
      "model_name": "LinkModel",
      "state": {
       "source": [
        "IPY_MODEL_fa58f8667d904302abf2f04b9918621a",
        "max"
       ],
       "target": [
        "IPY_MODEL_5e57383cf54b42c39341b33d5ad8f902",
        "max_frame"
       ]
      }
     },
     "821830aa057c4d1dbb11d7e46f2276f3": {
      "model_module": "@jupyter-widgets/base",
      "model_module_version": "2.0.0",
      "model_name": "LayoutModel",
      "state": {}
     },
     "82d04f39d9cf42539f3b1c19c081f361": {
      "model_module": "@jupyter-widgets/controls",
      "model_module_version": "2.0.0",
      "model_name": "ButtonModel",
      "state": {
       "icon": "compress",
       "layout": "IPY_MODEL_f1dcad9074f948619ead3b9fa505eaa3",
       "style": "IPY_MODEL_c85b235fbba845fbb1fb73aad7268265",
       "tooltip": null
      }
     },
     "833f0ed35d95495389778361e7ca1881": {
      "model_module": "@jupyter-widgets/base",
      "model_module_version": "2.0.0",
      "model_name": "LayoutModel",
      "state": {}
     },
     "84ad9b2ac7d944bfb0f3ef2f8dec0a33": {
      "model_module": "@jupyter-widgets/base",
      "model_module_version": "2.0.0",
      "model_name": "LayoutModel",
      "state": {}
     },
     "859f3bc2d3f64865a18059325c656730": {
      "model_module": "@jupyter-widgets/controls",
      "model_module_version": "2.0.0",
      "model_name": "DescriptionStyleModel",
      "state": {
       "description_width": ""
      }
     },
     "860ab31af0644d61821dea2d7b3d5c71": {
      "model_module": "@jupyter-widgets/controls",
      "model_module_version": "2.0.0",
      "model_name": "ButtonModel",
      "state": {
       "description": "Save image",
       "layout": "IPY_MODEL_39678d8bd40948a2ae3fbf3ca66b7fff",
       "style": "IPY_MODEL_49205811ff574811ac8b7cd5af1d9c9f",
       "tooltip": "Save current frame to file.\nCurrently .png and .html are supported.\nIt takes a bit time, please be patient."
      }
     },
     "86583f4e481340d5ac501b44ff31d3f9": {
      "model_module": "@jupyter-widgets/base",
      "model_module_version": "2.0.0",
      "model_name": "LayoutModel",
      "state": {}
     },
     "8796f4ae40584fae9ad8414133166bd4": {
      "model_module": "@jupyter-widgets/base",
      "model_module_version": "2.0.0",
      "model_name": "LayoutModel",
      "state": {}
     },
     "8a65d2470f2c4326812137a7678e53ad": {
      "model_module": "@jupyter-widgets/controls",
      "model_module_version": "2.0.0",
      "model_name": "ButtonStyleModel",
      "state": {
       "font_family": null,
       "font_size": null,
       "font_style": null,
       "font_variant": null,
       "font_weight": null,
       "text_color": null,
       "text_decoration": null
      }
     },
     "8a8ce0895e3246459660efb28a3d2a68": {
      "model_module": "@jupyter-widgets/controls",
      "model_module_version": "2.0.0",
      "model_name": "HTMLStyleModel",
      "state": {
       "description_width": "",
       "font_size": null,
       "text_color": null
      }
     },
     "8cca74e9bb944c5cb470396348cc16b0": {
      "model_module": "@jupyter-widgets/controls",
      "model_module_version": "2.0.0",
      "model_name": "ImageModel",
      "state": {
       "layout": "IPY_MODEL_2e3f1a6d91d3469ea486d55164e49f8e",
       "width": "900.0"
      }
     },
     "8d4b28cb6110444a9e58c433fc9a6950": {
      "model_module": "@jupyter-widgets/controls",
      "model_module_version": "2.0.0",
      "model_name": "ProgressStyleModel",
      "state": {
       "description_width": ""
      }
     },
     "8de3f6394188416e9e88b41764e4e5ff": {
      "model_module": "@jupyter-widgets/base",
      "model_module_version": "2.0.0",
      "model_name": "LayoutModel",
      "state": {}
     },
     "8e53ff52f9e947919115bc1dc1726002": {
      "model_module": "@jupyter-widgets/base",
      "model_module_version": "2.0.0",
      "model_name": "LayoutModel",
      "state": {}
     },
     "8ed0913fba47405fad21273d0dc950a9": {
      "model_module": "@jupyter-widgets/controls",
      "model_module_version": "2.0.0",
      "model_name": "SliderStyleModel",
      "state": {
       "description_width": ""
      }
     },
     "8ef9d44a19dd44ca8acf9861f3b9111d": {
      "model_module": "@jupyter-widgets/controls",
      "model_module_version": "2.0.0",
      "model_name": "DescriptionStyleModel",
      "state": {
       "description_width": ""
      }
     },
     "8f0fee8763fc496ea676b8ca11f85174": {
      "model_module": "@jupyter-widgets/base",
      "model_module_version": "2.0.0",
      "model_name": "LayoutModel",
      "state": {
       "border_bottom": "0px solid black",
       "border_left": "0px solid black",
       "border_right": "0px solid black",
       "border_top": "0px solid black"
      }
     },
     "90579e0feb4f48b7805857587795fc04": {
      "model_module": "@jupyter-widgets/controls",
      "model_module_version": "2.0.0",
      "model_name": "ButtonStyleModel",
      "state": {
       "font_family": null,
       "font_size": null,
       "font_style": null,
       "font_variant": null,
       "font_weight": null,
       "text_color": null,
       "text_decoration": null
      }
     },
     "9082baf6cc714772a517694d240c66c8": {
      "model_module": "@jupyter-widgets/controls",
      "model_module_version": "2.0.0",
      "model_name": "DropdownModel",
      "state": {
       "_options_labels": [
        " ",
        "picking",
        "random",
        "uniform",
        "atomindex",
        "residueindex",
        "chainindex",
        "modelindex",
        "sstruc",
        "element",
        "resname",
        "bfactor",
        "hydrophobicity",
        "value",
        "volume",
        "occupancy"
       ],
       "description": "Color scheme",
       "index": 9,
       "layout": "IPY_MODEL_222762fc68154b169fc89fc976728fea",
       "style": "IPY_MODEL_859f3bc2d3f64865a18059325c656730"
      }
     },
     "924264b20eaf4800b9fc90aefa757af9": {
      "model_module": "@jupyter-widgets/output",
      "model_module_version": "1.0.0",
      "model_name": "OutputModel",
      "state": {
       "layout": "IPY_MODEL_ce9f324731dc42dd98d4ffffd8fb2c1c"
      }
     },
     "924c504f7a9c49aeb9d58168418f718b": {
      "model_module": "@jupyter-widgets/base",
      "model_module_version": "2.0.0",
      "model_name": "LayoutModel",
      "state": {}
     },
     "9360f0dc24704fae9b4abb1722fdcc5d": {
      "model_module": "@jupyter-widgets/base",
      "model_module_version": "2.0.0",
      "model_name": "LayoutModel",
      "state": {}
     },
     "957e70fbf84a4bc887d73f1990026038": {
      "model_module": "@jupyter-widgets/controls",
      "model_module_version": "2.0.0",
      "model_name": "VBoxModel",
      "state": {
       "children": [
        "IPY_MODEL_988d9ddec9574282af6e9adc939a9eb4",
        "IPY_MODEL_a9d48106190d4a7c9b84a6a27c52a18d",
        "IPY_MODEL_f925782769794419b0e44f4d64462849",
        "IPY_MODEL_0dcace01ec9448c3a819e6f2144db4b0",
        "IPY_MODEL_085ac12c358743bf8828d128404b5c33",
        "IPY_MODEL_9998aaef1cba4f4bbd998a725fa9a41b",
        "IPY_MODEL_13c180d7254143a0b3ea875a4cc04703",
        "IPY_MODEL_d3955f9794fc4a0999344d0d117a6cf3",
        "IPY_MODEL_bb83a1091f474fc0bc7a5e7dee305ea2",
        "IPY_MODEL_924264b20eaf4800b9fc90aefa757af9"
       ],
       "layout": "IPY_MODEL_1aacb302f2ef40b7bca7b3d054e3c44d"
      }
     },
     "95eeda117ffc4c8d830ed25f3eefbfab": {
      "model_module": "@jupyter-widgets/controls",
      "model_module_version": "2.0.0",
      "model_name": "ButtonStyleModel",
      "state": {
       "font_family": null,
       "font_size": null,
       "font_style": null,
       "font_variant": null,
       "font_weight": null,
       "text_color": null,
       "text_decoration": null
      }
     },
     "976b62a806c64f90b82667c843db94a5": {
      "model_module": "@jupyter-widgets/controls",
      "model_module_version": "2.0.0",
      "model_name": "CheckboxStyleModel",
      "state": {
       "description_width": ""
      }
     },
     "984a72003a18471facbdc5d7bf3fb374": {
      "model_module": "@jupyter-widgets/controls",
      "model_module_version": "2.0.0",
      "model_name": "ButtonStyleModel",
      "state": {
       "font_family": null,
       "font_size": null,
       "font_style": null,
       "font_variant": null,
       "font_weight": null,
       "text_color": null,
       "text_decoration": null
      }
     },
     "988d9ddec9574282af6e9adc939a9eb4": {
      "model_module": "@jupyter-widgets/controls",
      "model_module_version": "2.0.0",
      "model_name": "DropdownModel",
      "state": {
       "_options_labels": [
        "All",
        "H",
        "O",
        "C"
       ],
       "description": "Show",
       "index": 0,
       "layout": "IPY_MODEL_eefd28c47d1b459489ff4edea64140f7",
       "style": "IPY_MODEL_139154a171d646c69a1e766752750a65"
      }
     },
     "98f8c462305942ff8ad4b8f30bcc0676": {
      "model_module": "@jupyter-widgets/controls",
      "model_module_version": "2.0.0",
      "model_name": "FloatSliderModel",
      "state": {
       "behavior": "drag-tap",
       "description": "Ball size",
       "layout": "IPY_MODEL_5daf7adf895147d19382481ddb910279",
       "max": 1.5,
       "step": 0.01,
       "style": "IPY_MODEL_d0eb58f33cc54d95a18cece197123564",
       "value": 0.49999999999999994
      }
     },
     "9998aaef1cba4f4bbd998a725fa9a41b": {
      "model_module": "@jupyter-widgets/controls",
      "model_module_version": "2.0.0",
      "model_name": "CheckboxModel",
      "state": {
       "description": "Show force",
       "disabled": false,
       "layout": "IPY_MODEL_265206248da94389b61289affce9ad22",
       "style": "IPY_MODEL_aa83c19ac6d94e878b8fcad75188505c",
       "value": false
      }
     },
     "9b5bee82de4d450aaf9b255236e764fc": {
      "model_module": "@jupyter-widgets/controls",
      "model_module_version": "2.0.0",
      "model_name": "DescriptionStyleModel",
      "state": {
       "description_width": ""
      }
     },
     "9bfca96fc2b647f3aaa1b6e83a77348c": {
      "model_module": "nglview-js-widgets",
      "model_module_version": "3.0.6",
      "model_name": "ColormakerRegistryModel",
      "state": {
       "_msg_ar": [],
       "_msg_q": [],
       "_ready": true,
       "layout": "IPY_MODEL_86583f4e481340d5ac501b44ff31d3f9"
      }
     },
     "9c2176bb0398430c9291c6bf6adad553": {
      "model_module": "@jupyter-widgets/controls",
      "model_module_version": "2.0.0",
      "model_name": "IntSliderModel",
      "state": {
       "behavior": "drag-tap",
       "layout": "IPY_MODEL_bb659f9c90d0491db7f0fc79431a5b09",
       "max": 0,
       "style": "IPY_MODEL_e1918d4b936948d0b82bc518e6ad3e24"
      }
     },
     "9d5403f2a70e4c29b71d5ba8e543afe5": {
      "model_module": "@jupyter-widgets/controls",
      "model_module_version": "2.0.0",
      "model_name": "LinkModel",
      "state": {
       "source": [
        "IPY_MODEL_2060231ae7b94bc8a20e2670056671d6",
        "value"
       ],
       "target": [
        "IPY_MODEL_9c2176bb0398430c9291c6bf6adad553",
        "value"
       ]
      }
     },
     "9e57c0ba5b134f2ebaa97a3a114aff3a": {
      "model_module": "@jupyter-widgets/controls",
      "model_module_version": "2.0.0",
      "model_name": "CheckboxStyleModel",
      "state": {
       "description_width": ""
      }
     },
     "9f77789c37bb4fe69a48149cdd4c46f7": {
      "model_module": "@jupyter-widgets/base",
      "model_module_version": "2.0.0",
      "model_name": "LayoutModel",
      "state": {}
     },
     "a1349b80abd24f438237bf3142bbf2be": {
      "model_module": "@jupyter-widgets/controls",
      "model_module_version": "2.0.0",
      "model_name": "HTMLModel",
      "state": {
       "layout": "IPY_MODEL_ebefef4bde3e4f448b118486dd04bf3a",
       "style": "IPY_MODEL_d276349aea0d418eb3e92d43a3b47155",
       "value": " 10001/10001 [00:11&lt;00:00,  4.90it/s]"
      }
     },
     "a3128f3d98ee4835aac8d95cc40f0fa1": {
      "model_module": "@jupyter-widgets/controls",
      "model_module_version": "2.0.0",
      "model_name": "ProgressStyleModel",
      "state": {
       "description_width": ""
      }
     },
     "a3c7c8746a004eca98a7588eee2c478b": {
      "model_module": "@jupyter-widgets/base",
      "model_module_version": "2.0.0",
      "model_name": "LayoutModel",
      "state": {}
     },
     "a6788fbf90e34ad5b041dc0d7244cbd4": {
      "model_module": "@jupyter-widgets/base",
      "model_module_version": "2.0.0",
      "model_name": "LayoutModel",
      "state": {}
     },
     "a7222047a1064f2b8cbb5796f870eb88": {
      "model_module": "@jupyter-widgets/controls",
      "model_module_version": "2.0.0",
      "model_name": "ButtonModel",
      "state": {
       "description": "Save image",
       "layout": "IPY_MODEL_08a8fc144b3b4c7183adddbf0c93d604",
       "style": "IPY_MODEL_95eeda117ffc4c8d830ed25f3eefbfab",
       "tooltip": "Save current frame to file.\nCurrently .png and .html are supported.\nIt takes a bit time, please be patient."
      }
     },
     "a7646026cc324c568072c65e3415ee57": {
      "model_module": "@jupyter-widgets/output",
      "model_module_version": "1.0.0",
      "model_name": "OutputModel",
      "state": {
       "layout": "IPY_MODEL_8f0fee8763fc496ea676b8ca11f85174"
      }
     },
     "a882312733fb4083a89a8219440ebbbc": {
      "model_module": "@jupyter-widgets/base",
      "model_module_version": "2.0.0",
      "model_name": "LayoutModel",
      "state": {}
     },
     "a9d48106190d4a7c9b84a6a27c52a18d": {
      "model_module": "@jupyter-widgets/controls",
      "model_module_version": "2.0.0",
      "model_name": "DropdownModel",
      "state": {
       "_options_labels": [
        " ",
        "picking",
        "random",
        "uniform",
        "atomindex",
        "residueindex",
        "chainindex",
        "modelindex",
        "sstruc",
        "element",
        "resname",
        "bfactor",
        "hydrophobicity",
        "value",
        "volume",
        "occupancy"
       ],
       "description": "Color scheme",
       "index": 9,
       "layout": "IPY_MODEL_c9e7ed6280564b2998898fe8be8b3780",
       "style": "IPY_MODEL_6f20f0c59df24298989f9b2944e50fdd"
      }
     },
     "a9fa87b9374948ff96e98fb0a066e159": {
      "model_module": "@jupyter-widgets/controls",
      "model_module_version": "2.0.0",
      "model_name": "SliderStyleModel",
      "state": {
       "description_width": ""
      }
     },
     "aa83c19ac6d94e878b8fcad75188505c": {
      "model_module": "@jupyter-widgets/controls",
      "model_module_version": "2.0.0",
      "model_name": "CheckboxStyleModel",
      "state": {
       "description_width": ""
      }
     },
     "aac61809cda24aa9b58502d15a9b01f5": {
      "model_module": "@jupyter-widgets/controls",
      "model_module_version": "2.0.0",
      "model_name": "ButtonModel",
      "state": {
       "description": "Download image",
       "layout": "IPY_MODEL_1cb61bdeead5427681078e5783d52410",
       "style": "IPY_MODEL_5b70e485e645422b98b6b74b0fe8de12",
       "tooltip": "Download current frame to your local PC"
      }
     },
     "acd4e68f6a0141bf8b6cc715b1a8c11d": {
      "model_module": "@jupyter-widgets/controls",
      "model_module_version": "2.0.0",
      "model_name": "CheckboxModel",
      "state": {
       "description": "Show charge",
       "disabled": false,
       "layout": "IPY_MODEL_d240f005f0fd4078a58c49e3a496ba00",
       "style": "IPY_MODEL_9e57c0ba5b134f2ebaa97a3a114aff3a",
       "value": false
      }
     },
     "adeff5c3069d46cfa9302522c0b9d322": {
      "model_module": "@jupyter-widgets/base",
      "model_module_version": "2.0.0",
      "model_name": "LayoutModel",
      "state": {
       "width": "34px"
      }
     },
     "b280b1286dd9494aa1d3a3d904c6af1a": {
      "model_module": "@jupyter-widgets/base",
      "model_module_version": "2.0.0",
      "model_name": "LayoutModel",
      "state": {}
     },
     "b2fe59711844448580fc73662eab0b96": {
      "model_module": "@jupyter-widgets/controls",
      "model_module_version": "2.0.0",
      "model_name": "SliderStyleModel",
      "state": {
       "description_width": ""
      }
     },
     "b43ccb40228c4d96b1fd984c730f365d": {
      "model_module": "@jupyter-widgets/base",
      "model_module_version": "2.0.0",
      "model_name": "LayoutModel",
      "state": {}
     },
     "b5df78a4542c444ba9ba8eafc37bde0d": {
      "model_module": "@jupyter-widgets/base",
      "model_module_version": "2.0.0",
      "model_name": "LayoutModel",
      "state": {}
     },
     "b5df8b1b8e6340bf89ecc95359bc1664": {
      "model_module": "@jupyter-widgets/base",
      "model_module_version": "2.0.0",
      "model_name": "LayoutModel",
      "state": {}
     },
     "b702df03e78243c48b644a694fe9fd97": {
      "model_module": "@jupyter-widgets/base",
      "model_module_version": "2.0.0",
      "model_name": "LayoutModel",
      "state": {}
     },
     "b97d2608c94e44c6b4c277da276633da": {
      "model_module": "@jupyter-widgets/controls",
      "model_module_version": "2.0.0",
      "model_name": "SliderStyleModel",
      "state": {
       "description_width": ""
      }
     },
     "ba29d8fbead84a17b1707d7d0a840f1a": {
      "model_module": "@jupyter-widgets/controls",
      "model_module_version": "2.0.0",
      "model_name": "LinkModel",
      "state": {
       "source": [
        "IPY_MODEL_bd9abeb64bae43fdbe1d3d0c04c2a832",
        "max"
       ],
       "target": [
        "IPY_MODEL_1e646d182162411dbc4cc02dff36165e",
        "max_frame"
       ]
      }
     },
     "bb1e0a0ef44543dda57cf65ebbbeafb4": {
      "model_module": "@jupyter-widgets/controls",
      "model_module_version": "2.0.0",
      "model_name": "HTMLModel",
      "state": {
       "layout": "IPY_MODEL_5ef57deff8434eeb8b963c72c7486191",
       "style": "IPY_MODEL_6ed14231d23c470c968f4358a2cc1984",
       "value": "100%"
      }
     },
     "bb659f9c90d0491db7f0fc79431a5b09": {
      "model_module": "@jupyter-widgets/base",
      "model_module_version": "2.0.0",
      "model_name": "LayoutModel",
      "state": {}
     },
     "bb83a1091f474fc0bc7a5e7dee305ea2": {
      "model_module": "@jupyter-widgets/controls",
      "model_module_version": "2.0.0",
      "model_name": "FloatSliderModel",
      "state": {
       "behavior": "drag-tap",
       "description": "Charge scale",
       "layout": "IPY_MODEL_9f77789c37bb4fe69a48149cdd4c46f7",
       "step": 0.1,
       "style": "IPY_MODEL_5d7cd70aa80c4a88be6ff6e71cf2c837",
       "value": 1
      }
     },
     "bcbb5ffe935a4413b6e0cd0ad8369d16": {
      "model_module": "@jupyter-widgets/base",
      "model_module_version": "2.0.0",
      "model_name": "LayoutModel",
      "state": {}
     },
     "bd5eb3b93e1f4b04b6f367e245bce4de": {
      "model_module": "@jupyter-widgets/controls",
      "model_module_version": "2.0.0",
      "model_name": "FloatProgressModel",
      "state": {
       "bar_style": "success",
       "layout": "IPY_MODEL_59f92e719f5849f5994ad02bc93e6f71",
       "max": 10001,
       "style": "IPY_MODEL_d823376164454190bbb4c6fd844cd637",
       "value": 10001
      }
     },
     "bd9abeb64bae43fdbe1d3d0c04c2a832": {
      "model_module": "@jupyter-widgets/controls",
      "model_module_version": "2.0.0",
      "model_name": "IntSliderModel",
      "state": {
       "behavior": "drag-tap",
       "layout": "IPY_MODEL_b5df8b1b8e6340bf89ecc95359bc1664",
       "max": 0,
       "style": "IPY_MODEL_071fcfe107534cec9045d360a9e1054a"
      }
     },
     "bea3fe54da2b4d33b3b1498852297272": {
      "model_module": "@jupyter-widgets/base",
      "model_module_version": "2.0.0",
      "model_name": "LayoutModel",
      "state": {}
     },
     "bf8d1883eba54ae8b2f9a429a7940c4c": {
      "model_module": "@jupyter-widgets/controls",
      "model_module_version": "2.0.0",
      "model_name": "LinkModel",
      "state": {
       "source": [
        "IPY_MODEL_745e9a45fd6f4433817745a490dcf5b9",
        "max"
       ],
       "target": [
        "IPY_MODEL_5e57383cf54b42c39341b33d5ad8f902",
        "max_frame"
       ]
      }
     },
     "c1c3eec115ad4f608ba47b844084a665": {
      "model_module": "@jupyter-widgets/controls",
      "model_module_version": "2.0.0",
      "model_name": "FloatProgressModel",
      "state": {
       "bar_style": "success",
       "layout": "IPY_MODEL_ed9a4b54da16472f84aee8639dd2fb22",
       "max": 10001,
       "style": "IPY_MODEL_d89978e03a9d4b5495e357174b590851",
       "value": 10001
      }
     },
     "c40b5317cf804ca3a2372057f34c00f2": {
      "model_module": "@jupyter-widgets/controls",
      "model_module_version": "2.0.0",
      "model_name": "HTMLModel",
      "state": {
       "layout": "IPY_MODEL_35045515e0cf494180eb968507e29779",
       "style": "IPY_MODEL_7727545ca1fc4289a86434b4f078759a",
       "value": "100%"
      }
     },
     "c561386b84974a5493426325bc01955f": {
      "model_module": "@jupyter-widgets/controls",
      "model_module_version": "2.0.0",
      "model_name": "LinkModel",
      "state": {
       "source": [
        "IPY_MODEL_2060231ae7b94bc8a20e2670056671d6",
        "max"
       ],
       "target": [
        "IPY_MODEL_575c7a577676473cbe6785eb0dff343e",
        "max_frame"
       ]
      }
     },
     "c85b235fbba845fbb1fb73aad7268265": {
      "model_module": "@jupyter-widgets/controls",
      "model_module_version": "2.0.0",
      "model_name": "ButtonStyleModel",
      "state": {
       "font_family": null,
       "font_size": null,
       "font_style": null,
       "font_variant": null,
       "font_weight": null,
       "text_color": null,
       "text_decoration": null
      }
     },
     "c927c72d3b334fde9047f60cd308cf97": {
      "model_module": "@jupyter-widgets/controls",
      "model_module_version": "2.0.0",
      "model_name": "CheckboxModel",
      "state": {
       "description": "Show force",
       "disabled": false,
       "layout": "IPY_MODEL_daee49dcbb2845e8bd82045dc4e12cfd",
       "style": "IPY_MODEL_218ae7ef54714044bce195c745ddceed",
       "value": false
      }
     },
     "c9488d104dd14df5bf60be044e4b3e15": {
      "model_module": "@jupyter-widgets/base",
      "model_module_version": "2.0.0",
      "model_name": "LayoutModel",
      "state": {}
     },
     "c9e7ed6280564b2998898fe8be8b3780": {
      "model_module": "@jupyter-widgets/base",
      "model_module_version": "2.0.0",
      "model_name": "LayoutModel",
      "state": {}
     },
     "cd56d11a719f4452a65f0ef8a2d0dcfa": {
      "model_module": "@jupyter-widgets/base",
      "model_module_version": "2.0.0",
      "model_name": "LayoutModel",
      "state": {}
     },
     "ce65d5957585463a8917ced5b14c67d5": {
      "model_module": "@jupyter-widgets/base",
      "model_module_version": "2.0.0",
      "model_name": "LayoutModel",
      "state": {}
     },
     "ce72875be4c4410c946d8d542ba78ece": {
      "model_module": "@jupyter-widgets/base",
      "model_module_version": "2.0.0",
      "model_name": "LayoutModel",
      "state": {}
     },
     "ce9f324731dc42dd98d4ffffd8fb2c1c": {
      "model_module": "@jupyter-widgets/base",
      "model_module_version": "2.0.0",
      "model_name": "LayoutModel",
      "state": {
       "border_bottom": "0px solid black",
       "border_left": "0px solid black",
       "border_right": "0px solid black",
       "border_top": "0px solid black"
      }
     },
     "cf9b7a7d04a14e148f7ed052b523adb0": {
      "model_module": "@jupyter-widgets/controls",
      "model_module_version": "2.0.0",
      "model_name": "HTMLStyleModel",
      "state": {
       "description_width": "",
       "font_size": null,
       "text_color": null
      }
     },
     "d0538e7f37b349e7810483c94d5549fe": {
      "model_module": "@jupyter-widgets/controls",
      "model_module_version": "2.0.0",
      "model_name": "FloatProgressModel",
      "state": {
       "bar_style": "success",
       "layout": "IPY_MODEL_ee0dbf796de741078ee84099be5c1bee",
       "max": 10001,
       "style": "IPY_MODEL_a3128f3d98ee4835aac8d95cc40f0fa1",
       "value": 10001
      }
     },
     "d08ff0762ccd4c43b3aef4f83fc51b01": {
      "model_module": "@jupyter-widgets/controls",
      "model_module_version": "2.0.0",
      "model_name": "HTMLStyleModel",
      "state": {
       "description_width": "",
       "font_size": null,
       "text_color": null
      }
     },
     "d0eb58f33cc54d95a18cece197123564": {
      "model_module": "@jupyter-widgets/controls",
      "model_module_version": "2.0.0",
      "model_name": "SliderStyleModel",
      "state": {
       "description_width": ""
      }
     },
     "d240f005f0fd4078a58c49e3a496ba00": {
      "model_module": "@jupyter-widgets/base",
      "model_module_version": "2.0.0",
      "model_name": "LayoutModel",
      "state": {}
     },
     "d276349aea0d418eb3e92d43a3b47155": {
      "model_module": "@jupyter-widgets/controls",
      "model_module_version": "2.0.0",
      "model_name": "HTMLStyleModel",
      "state": {
       "description_width": "",
       "font_size": null,
       "text_color": null
      }
     },
     "d3955f9794fc4a0999344d0d117a6cf3": {
      "model_module": "@jupyter-widgets/controls",
      "model_module_version": "2.0.0",
      "model_name": "CheckboxModel",
      "state": {
       "description": "Show charge",
       "disabled": false,
       "layout": "IPY_MODEL_8796f4ae40584fae9ad8414133166bd4",
       "style": "IPY_MODEL_26739d0eb46d4e1e9422438db5c95082",
       "value": false
      }
     },
     "d4f17407b69c4da984d99e76d840f784": {
      "model_module": "@jupyter-widgets/controls",
      "model_module_version": "2.0.0",
      "model_name": "SliderStyleModel",
      "state": {
       "description_width": ""
      }
     },
     "d53872aa778d48bf8d507927ca051b67": {
      "model_module": "@jupyter-widgets/controls",
      "model_module_version": "2.0.0",
      "model_name": "LinkModel",
      "state": {
       "source": [
        "IPY_MODEL_e492c20cfe564ed8b18c8fa5f3c952d9",
        "value"
       ],
       "target": [
        "IPY_MODEL_bd9abeb64bae43fdbe1d3d0c04c2a832",
        "value"
       ]
      }
     },
     "d823376164454190bbb4c6fd844cd637": {
      "model_module": "@jupyter-widgets/controls",
      "model_module_version": "2.0.0",
      "model_name": "ProgressStyleModel",
      "state": {
       "description_width": ""
      }
     },
     "d89978e03a9d4b5495e357174b590851": {
      "model_module": "@jupyter-widgets/controls",
      "model_module_version": "2.0.0",
      "model_name": "ProgressStyleModel",
      "state": {
       "description_width": ""
      }
     },
     "daee49dcbb2845e8bd82045dc4e12cfd": {
      "model_module": "@jupyter-widgets/base",
      "model_module_version": "2.0.0",
      "model_name": "LayoutModel",
      "state": {}
     },
     "deada1afc0d74e0ea546e11c3c4041a3": {
      "model_module": "@jupyter-widgets/base",
      "model_module_version": "2.0.0",
      "model_name": "LayoutModel",
      "state": {
       "width": "34px"
      }
     },
     "dfd62f4e9bac4d80aa621efb56273984": {
      "model_module": "@jupyter-widgets/base",
      "model_module_version": "2.0.0",
      "model_name": "LayoutModel",
      "state": {}
     },
     "e139e90fd52444e29ebc6e62b6cad6a9": {
      "model_module": "@jupyter-widgets/controls",
      "model_module_version": "2.0.0",
      "model_name": "HTMLModel",
      "state": {
       "layout": "IPY_MODEL_1370f8a915b04fe0b844f2a847998e3f",
       "style": "IPY_MODEL_600157eb954446b9920f15762ac02bde",
       "value": " 10001/10001 [00:48&lt;00:00, 15.46it/s]"
      }
     },
     "e1918d4b936948d0b82bc518e6ad3e24": {
      "model_module": "@jupyter-widgets/controls",
      "model_module_version": "2.0.0",
      "model_name": "SliderStyleModel",
      "state": {
       "description_width": ""
      }
     },
     "e2edd9b886fc4b7881db7355183ae3b5": {
      "model_module": "@jupyter-widgets/controls",
      "model_module_version": "2.0.0",
      "model_name": "HBoxModel",
      "state": {
       "children": [
        "IPY_MODEL_e492c20cfe564ed8b18c8fa5f3c952d9",
        "IPY_MODEL_bd9abeb64bae43fdbe1d3d0c04c2a832"
       ],
       "layout": "IPY_MODEL_45c35aec1c2b46088efa78f9b6d29d88"
      }
     },
     "e426a31b3f244b98bb317244b307cfd0": {
      "model_module": "@jupyter-widgets/controls",
      "model_module_version": "2.0.0",
      "model_name": "FloatSliderModel",
      "state": {
       "behavior": "drag-tap",
       "description": "Force scale",
       "layout": "IPY_MODEL_0a61bf949224495b99509df611b69010",
       "step": 0.1,
       "style": "IPY_MODEL_f44c8f47b974486893d45c027c4f0415",
       "value": 0.5
      }
     },
     "e492c20cfe564ed8b18c8fa5f3c952d9": {
      "model_module": "@jupyter-widgets/controls",
      "model_module_version": "2.0.0",
      "model_name": "PlayModel",
      "state": {
       "layout": "IPY_MODEL_0202a97f3f4a41ff992309348cd301e0",
       "max": 0,
       "style": "IPY_MODEL_46836f62aefc42f3b2f3bedde2093814"
      }
     },
     "e4dbd494b89840338dd6700d2f57f721": {
      "model_module": "@jupyter-widgets/base",
      "model_module_version": "2.0.0",
      "model_name": "LayoutModel",
      "state": {}
     },
     "e782724bfd5248b39564caf177070c3c": {
      "model_module": "@jupyter-widgets/base",
      "model_module_version": "2.0.0",
      "model_name": "LayoutModel",
      "state": {}
     },
     "ebb0633fd94e45a2a7dc55194d20cc30": {
      "model_module": "@jupyter-widgets/controls",
      "model_module_version": "2.0.0",
      "model_name": "VBoxModel",
      "state": {
       "children": [
        "IPY_MODEL_0e3c50a60c4540fe82daa508fb24d41f",
        "IPY_MODEL_9082baf6cc714772a517694d240c66c8",
        "IPY_MODEL_98f8c462305942ff8ad4b8f30bcc0676",
        "IPY_MODEL_21e646be174b47a0a750273e95486d1b",
        "IPY_MODEL_448008209b3c4c5f9524ae09697ae0f2",
        "IPY_MODEL_1af865f178d2432f8be7b982bbdd8ba6",
        "IPY_MODEL_fbe537f8fa144e4a9bb3d9ca776b6d03",
        "IPY_MODEL_103d8fd18eaa4d43a398e7744eda02ef",
        "IPY_MODEL_ef5f1434a50045428b2583f92d2c87d2",
        "IPY_MODEL_7890541ac3b44c18914e537bfc1fca06"
       ],
       "layout": "IPY_MODEL_b702df03e78243c48b644a694fe9fd97"
      }
     },
     "ebefef4bde3e4f448b118486dd04bf3a": {
      "model_module": "@jupyter-widgets/base",
      "model_module_version": "2.0.0",
      "model_name": "LayoutModel",
      "state": {}
     },
     "ed9a4b54da16472f84aee8639dd2fb22": {
      "model_module": "@jupyter-widgets/base",
      "model_module_version": "2.0.0",
      "model_name": "LayoutModel",
      "state": {}
     },
     "ee0dbf796de741078ee84099be5c1bee": {
      "model_module": "@jupyter-widgets/base",
      "model_module_version": "2.0.0",
      "model_name": "LayoutModel",
      "state": {}
     },
     "eefd28c47d1b459489ff4edea64140f7": {
      "model_module": "@jupyter-widgets/base",
      "model_module_version": "2.0.0",
      "model_name": "LayoutModel",
      "state": {}
     },
     "ef5f1434a50045428b2583f92d2c87d2": {
      "model_module": "@jupyter-widgets/controls",
      "model_module_version": "2.0.0",
      "model_name": "FloatSliderModel",
      "state": {
       "behavior": "drag-tap",
       "description": "Charge scale",
       "layout": "IPY_MODEL_72ad40db78074fb48b0e38f19be95d79",
       "step": 0.1,
       "style": "IPY_MODEL_a9fa87b9374948ff96e98fb0a066e159",
       "value": 1
      }
     },
     "ef96e964d6614844b15c3840589f3ff7": {
      "model_module": "@jupyter-widgets/base",
      "model_module_version": "2.0.0",
      "model_name": "LayoutModel",
      "state": {}
     },
     "efd3e447af614f0e8108d0dac34e6422": {
      "model_module": "@jupyter-widgets/controls",
      "model_module_version": "2.0.0",
      "model_name": "CheckboxStyleModel",
      "state": {
       "description_width": ""
      }
     },
     "f10300d9792243b5864a6fc5a57334c4": {
      "model_module": "@jupyter-widgets/controls",
      "model_module_version": "2.0.0",
      "model_name": "TextStyleModel",
      "state": {
       "description_width": "",
       "font_size": null,
       "text_color": null
      }
     },
     "f1dcad9074f948619ead3b9fa505eaa3": {
      "model_module": "@jupyter-widgets/base",
      "model_module_version": "2.0.0",
      "model_name": "LayoutModel",
      "state": {
       "width": "34px"
      }
     },
     "f227081f0a9141a8ae8ef08ba09b4e3c": {
      "model_module": "@jupyter-widgets/controls",
      "model_module_version": "2.0.0",
      "model_name": "SliderStyleModel",
      "state": {
       "description_width": ""
      }
     },
     "f44c8f47b974486893d45c027c4f0415": {
      "model_module": "@jupyter-widgets/controls",
      "model_module_version": "2.0.0",
      "model_name": "SliderStyleModel",
      "state": {
       "description_width": ""
      }
     },
     "f702ba23183c4279ba33f5ac508e7ead": {
      "model_module": "@jupyter-widgets/base",
      "model_module_version": "2.0.0",
      "model_name": "LayoutModel",
      "state": {}
     },
     "f925782769794419b0e44f4d64462849": {
      "model_module": "@jupyter-widgets/controls",
      "model_module_version": "2.0.0",
      "model_name": "FloatSliderModel",
      "state": {
       "behavior": "drag-tap",
       "description": "Ball size",
       "layout": "IPY_MODEL_28cac76d3dc9430b8ced3057f4da7873",
       "max": 1.5,
       "step": 0.01,
       "style": "IPY_MODEL_8ed0913fba47405fad21273d0dc950a9",
       "value": 0.49999999999999994
      }
     },
     "f9ff29e7c07b48df89cd2c276ca0f130": {
      "model_module": "@jupyter-widgets/base",
      "model_module_version": "2.0.0",
      "model_name": "LayoutModel",
      "state": {}
     },
     "fa4aed0f1be5453392846e5fe9f5d953": {
      "model_module": "@jupyter-widgets/controls",
      "model_module_version": "2.0.0",
      "model_name": "HTMLStyleModel",
      "state": {
       "description_width": "",
       "font_size": null,
       "text_color": null
      }
     },
     "fa58f8667d904302abf2f04b9918621a": {
      "model_module": "@jupyter-widgets/controls",
      "model_module_version": "2.0.0",
      "model_name": "PlayModel",
      "state": {
       "layout": "IPY_MODEL_20c140f48b6d4ffca2e2a7c22c5daa52",
       "max": 0,
       "style": "IPY_MODEL_9b5bee82de4d450aaf9b255236e764fc"
      }
     },
     "fb86718ef3894a629a18513be9cb8711": {
      "model_module": "@jupyter-widgets/controls",
      "model_module_version": "2.0.0",
      "model_name": "DescriptionStyleModel",
      "state": {
       "description_width": ""
      }
     },
     "fbe537f8fa144e4a9bb3d9ca776b6d03": {
      "model_module": "@jupyter-widgets/controls",
      "model_module_version": "2.0.0",
      "model_name": "FloatSliderModel",
      "state": {
       "behavior": "drag-tap",
       "description": "Force scale",
       "layout": "IPY_MODEL_34cda73f11924ab7a13cc2c8712216ca",
       "step": 0.1,
       "style": "IPY_MODEL_b97d2608c94e44c6b4c277da276633da",
       "value": 0.5
      }
     },
     "fc550611a7b140bcb026634f6d2d3b9c": {
      "model_module": "@jupyter-widgets/controls",
      "model_module_version": "2.0.0",
      "model_name": "HBoxModel",
      "state": {
       "children": [
        "IPY_MODEL_c40b5317cf804ca3a2372057f34c00f2",
        "IPY_MODEL_c1c3eec115ad4f608ba47b844084a665",
        "IPY_MODEL_e139e90fd52444e29ebc6e62b6cad6a9"
       ],
       "layout": "IPY_MODEL_2391c549f3534372ab3ff5abf5d01c00"
      }
     }
    },
    "version_major": 2,
    "version_minor": 0
   }
  }
 },
 "nbformat": 4,
 "nbformat_minor": 5
}
