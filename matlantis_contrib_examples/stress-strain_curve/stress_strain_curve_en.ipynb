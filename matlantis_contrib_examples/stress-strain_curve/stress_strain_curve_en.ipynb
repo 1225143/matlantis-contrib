{
 "cells": [
  {
   "cell_type": "markdown",
   "id": "fbb893c4-ac3e-4377-8ac0-5d62ab61822c",
   "metadata": {
    "papermill": {
     "duration": 0.089484,
     "end_time": "2023-10-06T00:36:01.442934",
     "exception": false,
     "start_time": "2023-10-06T00:36:01.353450",
     "status": "completed"
    },
    "tags": []
   },
   "source": [
    "# Notebook for calculating the Stress-Strain Curve\n",
    "\n",
    "In this notebook, we will perform an MD simulation on a metal slab and resin model to derive the stress-strain curve."
   ]
  },
  {
   "cell_type": "markdown",
   "id": "252c8b85-0a41-4fd0-aaa9-02125b4783be",
   "metadata": {
    "papermill": {
     "duration": 0.079195,
     "end_time": "2023-10-06T00:36:01.594854",
     "exception": false,
     "start_time": "2023-10-06T00:36:01.515659",
     "status": "completed"
    },
    "tags": []
   },
   "source": [
    "## Initial Setup\n",
    "\n",
    "First, let's install the necessary packages:"
   ]
  },
  {
   "cell_type": "code",
   "execution_count": 1,
   "id": "2457f221-e0e9-4da1-ac49-988abde1d4b3",
   "metadata": {
    "papermill": {
     "duration": 0.181646,
     "end_time": "2023-10-06T00:36:01.853991",
     "exception": false,
     "start_time": "2023-10-06T00:36:01.672345",
     "status": "completed"
    },
    "tags": []
   },
   "outputs": [],
   "source": [
    "# ! pip install -U pfp-api-client\n",
    "# ! pip install -U matlantis-features"
   ]
  },
  {
   "cell_type": "markdown",
   "id": "19b32b83-4362-4928-a211-8f7829f6115c",
   "metadata": {
    "papermill": {
     "duration": 0.063019,
     "end_time": "2023-10-06T00:36:02.045744",
     "exception": false,
     "start_time": "2023-10-06T00:36:01.982725",
     "status": "completed"
    },
    "tags": []
   },
   "source": [
    "## 1. Import packages, define functions"
   ]
  },
  {
   "cell_type": "code",
   "execution_count": 2,
   "id": "98dbe031-3650-46af-8ca4-f35d70af97ea",
   "metadata": {
    "papermill": {
     "duration": 10.612785,
     "end_time": "2023-10-06T00:36:12.725946",
     "exception": false,
     "start_time": "2023-10-06T00:36:02.113161",
     "status": "completed"
    },
    "tags": []
   },
   "outputs": [
    {
     "data": {
      "application/vnd.jupyter.widget-view+json": {
       "model_id": "f06ff2daf104497c9345a87c121e794f",
       "version_major": 2,
       "version_minor": 0
      },
      "text/plain": []
     },
     "metadata": {},
     "output_type": "display_data"
    }
   ],
   "source": [
    "import os\n",
    "import numpy as np\n",
    "import pandas as pd\n",
    "import random\n",
    "import pathlib\n",
    "import matplotlib.pyplot as plt\n",
    "from scipy.spatial.transform import Rotation\n",
    "from sklearn.linear_model import LinearRegression\n",
    "\n",
    "from ase import Atoms\n",
    "from ase import units\n",
    "from ase.io import read, write, Trajectory\n",
    "from ase.build import bulk, surface, sort\n",
    "from ase.units import Pascal\n",
    "from ase.visualize import view\n",
    "from ase.spacegroup.symmetrize import FixSymmetry\n",
    "from ase import neighborlist\n",
    "from ase.constraints import FixAtoms\n",
    "\n",
    "from rdkit import Chem\n",
    "from rdkit.Chem import AllChem\n",
    "\n",
    "from matlantis_features.utils.atoms_util import convert_atoms_to_upper\n",
    "from matlantis_features.atoms import MatlantisAtoms\n",
    "from matlantis_features.features.common.opt import LBFGSASEOptFeature, FireLBFGSASEOptFeature\n",
    "from matlantis_features.features.md import ASEMDSystem, LangevinIntegrator, MDFeature, MDExtensionBase, NPTIntegrator\n",
    "from matlantis_features.features.md.md_extensions import DeformScheduler\n",
    "from matlantis_features.utils.calculators import get_calculator, pfp_estimator_fn\n",
    "\n",
    "from pfp_api_client.pfp.estimator import Estimator, EstimatorCalcMode\n",
    "from pfp_api_client.pfp.calculators.ase_calculator import ASECalculator\n",
    "estimator_fn = pfp_estimator_fn(model_version='v5.0.0', calc_mode='crystal_u0_plus_d3')\n",
    "\n",
    "from pfcc_extras.visualize.view import view_ngl\n",
    "from pfcc_extras.structure.ase_rdkit_converter import smiles_to_atoms\n",
    "from pfcc_extras.structure.surface import makesurface\n",
    "\n",
    "def density(atoms):\n",
    "    vol = atoms.get_cell().volume *(1e-8)**3   # as cm3\n",
    "    wt = sum(atoms.get_masses())    # as g/mol\n",
    "    dens = wt / units.mol / vol\n",
    "    return(dens)\n",
    "\n",
    "class PrintCellShape(MDExtensionBase):\n",
    "    def __init__(self, cell_log=None):\n",
    "        self.cell_log = cell_log\n",
    "    def __call__(self, system, integrator) -> None:\n",
    "        cell_par = system.ase_atoms.get_cell_lengths_and_angles()\n",
    "        istep = system.current_total_step\n",
    "        print(f\"Dyn step {istep:4d} a {cell_par[0]:3.2f} b {cell_par[1]:3.2f} c {cell_par[2]:3.2f} alpha {cell_par[3]:3.2f} beta {cell_par[4]:3.2f} gamma {cell_par[5]:3.2f} \")\n",
    "        if self.cell_log is not None:\n",
    "            self.cell_log.append(cell_par)\n",
    "            \n",
    "try:\n",
    "    dir_path = pathlib.Path(__file__).parent\n",
    "except:\n",
    "    dir_path = pathlib.Path(\"\").resolve()\n",
    "    \n",
    "input_dir = dir_path / \"input\"\n",
    "output_dir = dir_path / \"output\""
   ]
  },
  {
   "cell_type": "markdown",
   "id": "ba954b22-9f83-4930-8a6b-2cb466ddcca3",
   "metadata": {
    "papermill": {
     "duration": 0.071597,
     "end_time": "2023-10-06T00:36:12.874740",
     "exception": false,
     "start_time": "2023-10-06T00:36:12.803143",
     "status": "completed"
    },
    "tags": []
   },
   "source": [
    "## 2. Model Preparation\n",
    "\n",
    "Create a metal slab model sandwiched between vacuum layers, with a resin inserted in between. By compressing the model along the z-axis, we can achieve the desired initial structure."
   ]
  },
  {
   "cell_type": "markdown",
   "id": "90f952a3-eeea-4e64-b4bb-1185a3a9dcec",
   "metadata": {
    "papermill": {
     "duration": 0.08168,
     "end_time": "2023-10-06T00:36:13.059015",
     "exception": false,
     "start_time": "2023-10-06T00:36:12.977335",
     "status": "completed"
    },
    "tags": []
   },
   "source": [
    "### 2-1. File Paths for I/O"
   ]
  },
  {
   "cell_type": "code",
   "execution_count": 3,
   "id": "d81ac3bd-641f-4dec-adc5-7c4caf7c85b0",
   "metadata": {
    "tags": []
   },
   "outputs": [],
   "source": [
    "# input file\n",
    "# resin\n",
    "resin_path = input_dir / \"PEO.xyz\"\n",
    "\n",
    "# output file\n",
    "# metal slab\n",
    "metal_opt_path = output_dir / \"model\" / \"slab_Fe.xyz\"\n",
    "# relaxed resin\n",
    "resin_opt_path = output_dir / \"model\" / \"resin_opt.xyz\"\n",
    "# metal slab and resin\n",
    "slab_opt_path = output_dir / \"model\" / \"slab.xyz\"\n",
    "# trajectory for high-T, compressing NPT simulation\n",
    "npt1_path = output_dir / \"md\" / \"npt1.traj\"\n",
    "# trajectory for room temperature NPT simulation\n",
    "npt2_path = output_dir / \"md\" / \"npt2.traj\"\n",
    "# tensile simulation\n",
    "tensile_path = output_dir / \"md\" / \"tensile.traj\"\n",
    "# figure of sscurve\n",
    "ss_path = output_dir / \"figure\" / \"ss.png\"\n",
    "\n",
    "# make directories\n",
    "os.makedirs(output_dir / \"model\", exist_ok = True)\n",
    "os.makedirs(output_dir / \"md\", exist_ok = True)\n",
    "os.makedirs(output_dir / \"figure\", exist_ok = True)"
   ]
  },
  {
   "cell_type": "markdown",
   "id": "e1fc952a-44fb-4525-ae27-3fd2b1bcb3ac",
   "metadata": {
    "tags": []
   },
   "source": [
    "### 2-2. Generate Metal Slab Model with Vacuum Layer"
   ]
  },
  {
   "cell_type": "code",
   "execution_count": 4,
   "id": "972a45da-bc5d-40e4-bead-a46e0b4b987b",
   "metadata": {
    "tags": []
   },
   "outputs": [
    {
     "name": "stdout",
     "output_type": "stream",
     "text": [
      "Relaxation of bulk structure\n"
     ]
    },
    {
     "data": {
      "application/vnd.jupyter.widget-view+json": {
       "model_id": "64177b721028449091b82423038406b5",
       "version_major": 2,
       "version_minor": 0
      },
      "text/plain": [
       "  0%|          | 0/10001 [00:00<?, ?it/s]"
      ]
     },
     "metadata": {},
     "output_type": "display_data"
    }
   ],
   "source": [
    "# relax of the bulk structure\n",
    "print(\"Relaxation of bulk structure\")\n",
    "blk = bulk(\"Fe\", \"bcc\")\n",
    "blk.set_constraint([FixSymmetry(blk)])\n",
    "opt = LBFGSASEOptFeature(n_run = 10000, fmax = 0.01, filter=True,\n",
    "                         show_progress_bar=True, estimator_fn = estimator_fn)\n",
    "result_opt = opt(blk)\n",
    "\n",
    "# generate a slab model with a vacuum layer\n",
    "vacuum = 500\n",
    "slab = result_opt.atoms.ase_atoms.copy()\n",
    "slab.set_constraint([])\n",
    "# slab.set_constraint()\n",
    "slab = makesurface(slab, miller_indices=(1,0,0), layers=10, rep=[8,8,1], vacuum=vacuum)"
   ]
  },
  {
   "cell_type": "code",
   "execution_count": 5,
   "id": "beec0292-ea35-4b34-a618-61ee1495ddf4",
   "metadata": {
    "tags": []
   },
   "outputs": [
    {
     "name": "stdout",
     "output_type": "stream",
     "text": [
      "Relaxation of surface structure\n"
     ]
    },
    {
     "data": {
      "application/vnd.jupyter.widget-view+json": {
       "model_id": "683c1df4c0e244bd8e8c9b5ff1863b61",
       "version_major": 2,
       "version_minor": 0
      },
      "text/plain": [
       "  0%|          | 0/10001 [00:00<?, ?it/s]"
      ]
     },
     "metadata": {},
     "output_type": "display_data"
    },
    {
     "data": {
      "application/vnd.jupyter.widget-view+json": {
       "model_id": "25423cb1b907476fadd09b411b7c5703",
       "version_major": 2,
       "version_minor": 0
      },
      "text/plain": [
       "HBox(children=(NGLWidget(), VBox(children=(Dropdown(description='Show', options=('All', 'Fe'), value='All'), D…"
      ]
     },
     "metadata": {},
     "output_type": "display_data"
    }
   ],
   "source": [
    "# shift by the half width of layers\n",
    "atoms = slab.copy()\n",
    "# Sort atoms by their z-coordinate\n",
    "z_coordinates = [atom.position[2] for atom in atoms]\n",
    "unique_layers = np.unique(np.round(z_coordinates, decimals=3))\n",
    "layer_z_value = unique_layers[int(len(unique_layers) / 2)]\n",
    "atoms_in_layer = [atom for atom in slab if np.round(atom.position[2], decimals=3) == layer_z_value]\n",
    "z_coor = atoms_in_layer[0].position[2]\n",
    "slab_2 = slab.copy()\n",
    "slab_2.positions += [0,0,-z_coor]\n",
    "slab_2.wrap()\n",
    "\n",
    "# relaxation of surface structure\n",
    "print(\"Relaxation of surface structure\")\n",
    "indices = [atom.index for atom in slab_2 if atom.position[2] <= 3]  # fix below 3A\n",
    "slab_2.set_constraint(FixAtoms(indices))\n",
    "result_opt_2 = opt(slab_2)\n",
    "os.makedirs(\"output\", exist_ok=True)\n",
    "write(metal_opt_path, result_opt_2.atoms.ase_atoms, format='extxyz')\n",
    "\n",
    "# visualization\n",
    "v = view_ngl(result_opt_2.atoms.ase_atoms, representations=[\"ball+stick\"])\n",
    "v.view.control.spin([1,0,0], np.deg2rad(-90))\n",
    "display(v)"
   ]
  },
  {
   "cell_type": "markdown",
   "id": "46154a9e-50cc-4dfe-922b-5a3f6f59e733",
   "metadata": {
    "papermill": {
     "duration": 0.06948,
     "end_time": "2023-10-06T00:36:13.362966",
     "exception": false,
     "start_time": "2023-10-06T00:36:13.293486",
     "status": "completed"
    },
    "tags": []
   },
   "source": [
    "### 2-3. Insert Resin"
   ]
  },
  {
   "cell_type": "code",
   "execution_count": 6,
   "id": "e3701618-fa90-4fe3-bfd2-0fdc4ba8aa4a",
   "metadata": {
    "tags": []
   },
   "outputs": [
    {
     "name": "stdout",
     "output_type": "stream",
     "text": [
      "Relaxation of resin\n"
     ]
    },
    {
     "data": {
      "application/vnd.jupyter.widget-view+json": {
       "model_id": "fc550611a7b140bcb026634f6d2d3b9c",
       "version_major": 2,
       "version_minor": 0
      },
      "text/plain": [
       "  0%|          | 0/10001 [00:00<?, ?it/s]"
      ]
     },
     "metadata": {},
     "output_type": "display_data"
    },
    {
     "data": {
      "application/vnd.jupyter.widget-view+json": {
       "model_id": "5f9c0591167844eeaf410a3803749f32",
       "version_major": 2,
       "version_minor": 0
      },
      "text/plain": [
       "HBox(children=(NGLWidget(), VBox(children=(Dropdown(description='Show', options=('All', 'H', 'O', 'C'), value=…"
      ]
     },
     "execution_count": 6,
     "metadata": {},
     "output_type": "execute_result"
    }
   ],
   "source": [
    "atoms_organic = read(resin_path)\n",
    "\n",
    "print(\"Relaxation of resin\")\n",
    "opt = LBFGSASEOptFeature(n_run = 10000, fmax = 0.01, filter=False,\n",
    "                         show_progress_bar=True, estimator_fn = estimator_fn)\n",
    "result_opt_organic = opt(atoms_organic)\n",
    "write(resin_opt_path, result_opt_organic.atoms.ase_atoms, format='xyz')\n",
    "\n",
    "view_ngl(result_opt_organic.atoms.ase_atoms)"
   ]
  },
  {
   "cell_type": "code",
   "execution_count": 7,
   "id": "5b25c358-632b-47bb-94a3-4e6e2c24d27d",
   "metadata": {
    "papermill": {
     "duration": 0.111128,
     "end_time": "2023-10-06T00:36:13.545975",
     "exception": false,
     "start_time": "2023-10-06T00:36:13.434847",
     "status": "completed"
    },
    "tags": []
   },
   "outputs": [
    {
     "name": "stdout",
     "output_type": "stream",
     "text": [
      "liquid phase initial density = 0.093 g/cm3\n",
      "slab + resin atoms = 2336\n",
      "No_of_atoms = 852 , including slab 640 atoms\n",
      "No_of_atoms = 1064 , including slab 640 atoms\n",
      "No_of_atoms = 1276 , including slab 640 atoms\n",
      "No_of_atoms = 1488 , including slab 640 atoms\n",
      "No_of_atoms = 1700 , including slab 640 atoms\n",
      "No_of_atoms = 1912 , including slab 640 atoms\n",
      "No_of_atoms = 2124 , including slab 640 atoms\n",
      "No_of_atoms = 2336 , including slab 640 atoms\n"
     ]
    }
   ],
   "source": [
    "# generate a vacuum cell same with the vacuum laer\n",
    "empty_cell = slab_2.copy()\n",
    "slab_height = empty_cell.cell.cellpar()[2] - vacuum\n",
    "slabatoms = len(empty_cell)\n",
    "cellsize = empty_cell.cell.cellpar()[:3]\n",
    "cellsize[2] = vacuum\n",
    "\n",
    "vacuum_cell = Atoms(symbols=\"\", \n",
    "                  pbc=True, \n",
    "                  cell=cellsize)\n",
    "\n",
    "NoAtoms0=len(atoms_organic)\n",
    "\n",
    "# confirm the density and number of atoms packing molecule\n",
    "target_density = 0.10 # unit = g/cm3\n",
    "sum_mass = atoms_organic.get_masses().sum()\n",
    "sum_atoms = len(atoms_organic)\n",
    "vac_vol = vacuum_cell.get_volume()*(1e-8)**3 # as cm3\n",
    "d0 = sum_mass / units.mol / vac_vol # density estimation packing molecules\n",
    "mlp = int(np.floor(target_density / d0)) # estimate how many molecules are packed\n",
    "t_atoms = NoAtoms0 * mlp + slabatoms\n",
    "print (\"liquid phase initial density =\", np.round(d0*mlp, 3), \"g/cm3\")\n",
    "print (\"slab + resin atoms =\", t_atoms)\n",
    "\n",
    "# fill resin in the vacuum layer\n",
    "target_atoms = t_atoms    \n",
    "vac_vol = empty_cell.get_volume()*(1e-8)**3 # as cm3\n",
    "\n",
    "filled_cell = empty_cell.copy()\n",
    "No_atoms, n = 0, 0\n",
    "while No_atoms < target_atoms:\n",
    "    # determine the posiiton of inserted molecule randomly\n",
    "    ranx = random.uniform(0,1)\n",
    "    rany = random.uniform(0,1)\n",
    "    ranz = random.uniform(0.04,0.96)                           # remove the range of slab\n",
    "    xyz_position=np.matmul([ranx,rany,ranz], filled_cell.cell)\n",
    "    # determine the rotational angle of molecule\n",
    "    phi, theta, psi = Rotation.random().as_euler('zxz', degrees=True)\n",
    "    \n",
    "    # translation and rotation of molecule\n",
    "    # molNo = n\n",
    "    # m = mol_list[molNo]\n",
    "    m = result_opt_organic.atoms.ase_atoms\n",
    "    m1 = m.copy()\n",
    "    m1.euler_rotate(phi=phi, theta=theta, psi=psi)\n",
    "    m1.positions += xyz_position\n",
    "    \n",
    "    # insert molecule if the maximum force is below a threathold\n",
    "    Fcheck = filled_cell + m1\n",
    "    Fcheck.calc = get_calculator(estimator_fn)\n",
    "    if (np.sum(Fcheck.get_forces()**2, axis=1)**0.5).max() <= 100:\n",
    "        filled_cell = filled_cell + m1\n",
    "        n+=1\n",
    "        No_atoms = len(filled_cell)\n",
    "        print(\"No_of_atoms =\", No_atoms, \", including slab\", len(empty_cell), \"atoms\")    \n",
    "    else:\n",
    "        n+=0\n",
    "\n",
    "assert mlp == n"
   ]
  },
  {
   "cell_type": "code",
   "execution_count": 8,
   "id": "d0a5b496-3188-4e96-9b31-5477427c01f9",
   "metadata": {
    "tags": []
   },
   "outputs": [
    {
     "data": {
      "application/vnd.jupyter.widget-view+json": {
       "model_id": "7bda96a9d9a94b09b639a0612d8f6275",
       "version_major": 2,
       "version_minor": 0
      },
      "text/plain": [
       "  0%|          | 0/10001 [00:00<?, ?it/s]"
      ]
     },
     "metadata": {},
     "output_type": "display_data"
    },
    {
     "name": "stderr",
     "output_type": "stream",
     "text": [
      "/home/jovyan/.py38/lib/python3.8/site-packages/ase/io/extxyz.py:1000: UserWarning: write_xyz() overwriting array \"forces\" present in atoms.arrays with stored results from calculator\n",
      "  warnings.warn('write_xyz() overwriting array \"{0}\" present '\n"
     ]
    },
    {
     "data": {
      "application/vnd.jupyter.widget-view+json": {
       "model_id": "0b68d885ef8b46cea8502b6b4c9d4aec",
       "version_major": 2,
       "version_minor": 0
      },
      "text/plain": [
       "HBox(children=(NGLWidget(), VBox(children=(Dropdown(description='Show', options=('All', 'C', 'H', 'O', 'Fe'), …"
      ]
     },
     "metadata": {},
     "output_type": "display_data"
    }
   ],
   "source": [
    "# optimize the filled structure\n",
    "indices = [atom.index for atom in filled_cell if atom.position[2] <= 3.0]\n",
    "c = FixAtoms(indices)\n",
    "filled_cell.set_constraint(c)\n",
    "\n",
    "opt = LBFGSASEOptFeature(n_run = 10000, fmax = 0.1, filter=True,\n",
    "                         show_progress_bar=True, estimator_fn = estimator_fn)\n",
    "result_opt_filled = opt(filled_cell)\n",
    "\n",
    "# save the optimized structure\n",
    "result_opt_filled.atoms.ase_atoms.set_initial_charges()\n",
    "write(slab_opt_path, result_opt_filled.atoms.ase_atoms, format='extxyz')\n",
    "\n",
    "# visualization\n",
    "v = view_ngl(result_opt_filled.atoms.ase_atoms, representations=[\"ball+stick\"])\n",
    "v.view.control.spin([1,0,0], np.deg2rad(-90))\n",
    "display(v)"
   ]
  },
  {
   "cell_type": "markdown",
   "id": "d2504eab-a424-43dd-93a6-f54d7529db86",
   "metadata": {
    "papermill": {
     "duration": 0.070666,
     "end_time": "2023-10-06T00:36:13.885383",
     "exception": false,
     "start_time": "2023-10-06T00:36:13.814717",
     "status": "completed"
    },
    "tags": []
   },
   "source": [
    "### 2-4. Compression Along the Z-Axis"
   ]
  },
  {
   "cell_type": "code",
   "execution_count": 9,
   "id": "0a772a28-d289-48ad-b521-8c8e40d1efa8",
   "metadata": {
    "papermill": {
     "duration": 35231.267257,
     "end_time": "2023-10-06T10:23:25.227464",
     "exception": false,
     "start_time": "2023-10-06T00:36:13.960207",
     "status": "completed"
    },
    "tags": []
   },
   "outputs": [
    {
     "name": "stderr",
     "output_type": "stream",
     "text": [
      "The MD trajectory will be saved at /home/jovyan/work/2023/sscurve/contrib/output_en/md/npt1.traj.\n",
      "Note: The max disk size of /home/jovyan is about 99G.\n",
      "WARNING: NPT: Setting the center-of-mass momentum to zero (was 70.5044 -20.214 31.869)\n",
      "/home/jovyan/.py38/lib/python3.8/site-packages/ase/utils/__init__.py:62: FutureWarning: Please use atoms.cell.cellpar() instead\n",
      "  warnings.warn(warning)\n"
     ]
    },
    {
     "name": "stdout",
     "output_type": "stream",
     "text": [
      "Dyn step    0 a 19.45 b 19.45 c 517.89 alpha 90.00 beta 90.00 gamma 109.49 \n",
      "Dyn step 1000 a 19.45 b 19.45 c 506.59 alpha 90.00 beta 90.00 gamma 109.49 \n",
      "Dyn step 2000 a 19.45 b 19.45 c 473.00 alpha 90.00 beta 90.00 gamma 109.49 \n",
      "Dyn step 3000 a 19.45 b 19.45 c 423.41 alpha 90.00 beta 90.00 gamma 109.49 \n",
      "Dyn step 4000 a 19.45 b 19.45 c 365.13 alpha 90.00 beta 90.00 gamma 109.49 \n",
      "Dyn step 5000 a 19.45 b 19.45 c 305.13 alpha 90.00 beta 90.00 gamma 109.49 \n",
      "Dyn step 6000 a 19.45 b 19.45 c 248.63 alpha 90.00 beta 90.00 gamma 109.49 \n",
      "Dyn step 7000 a 19.45 b 19.45 c 198.45 alpha 90.00 beta 90.00 gamma 109.49 \n",
      "Dyn step 8000 a 19.45 b 19.45 c 156.26 alpha 90.00 beta 90.00 gamma 109.49 \n",
      "Dyn step 9000 a 19.45 b 19.45 c 122.12 alpha 90.00 beta 90.00 gamma 109.49 \n",
      "Dyn step 10000 a 19.45 b 19.45 c 96.55 alpha 90.00 beta 90.00 gamma 109.49 \n",
      "Dyn step 11000 a 19.45 b 19.45 c 80.15 alpha 90.00 beta 90.00 gamma 109.49 \n",
      "Dyn step 12000 a 19.45 b 19.45 c 69.31 alpha 90.00 beta 90.00 gamma 109.49 \n",
      "Dyn step 13000 a 19.45 b 19.45 c 63.86 alpha 90.00 beta 90.00 gamma 109.49 \n",
      "Dyn step 14000 a 19.45 b 19.45 c 63.34 alpha 90.00 beta 90.00 gamma 109.49 \n",
      "Dyn step 15000 a 19.45 b 19.45 c 66.33 alpha 90.00 beta 90.00 gamma 109.49 \n",
      "Dyn step 16000 a 19.45 b 19.45 c 71.03 alpha 90.00 beta 90.00 gamma 109.49 \n",
      "Dyn step 17000 a 19.45 b 19.45 c 76.15 alpha 90.00 beta 90.00 gamma 109.49 \n",
      "Dyn step 18000 a 19.45 b 19.45 c 80.91 alpha 90.00 beta 90.00 gamma 109.49 \n",
      "Dyn step 19000 a 19.45 b 19.45 c 85.03 alpha 90.00 beta 90.00 gamma 109.49 \n",
      "Dyn step 20000 a 19.45 b 19.45 c 88.25 alpha 90.00 beta 90.00 gamma 109.49 \n",
      "Dyn step 21000 a 19.45 b 19.45 c 90.27 alpha 90.00 beta 90.00 gamma 109.49 \n",
      "Dyn step 22000 a 19.45 b 19.45 c 91.36 alpha 90.00 beta 90.00 gamma 109.49 \n",
      "Dyn step 23000 a 19.45 b 19.45 c 91.35 alpha 90.00 beta 90.00 gamma 109.49 \n",
      "Dyn step 24000 a 19.45 b 19.45 c 90.59 alpha 90.00 beta 90.00 gamma 109.49 \n",
      "Dyn step 25000 a 19.45 b 19.45 c 89.19 alpha 90.00 beta 90.00 gamma 109.49 \n",
      "Dyn step 26000 a 19.45 b 19.45 c 86.86 alpha 90.00 beta 90.00 gamma 109.49 \n",
      "Dyn step 27000 a 19.45 b 19.45 c 83.83 alpha 90.00 beta 90.00 gamma 109.49 \n",
      "Dyn step 28000 a 19.45 b 19.45 c 80.39 alpha 90.00 beta 90.00 gamma 109.49 \n",
      "Dyn step 29000 a 19.45 b 19.45 c 76.57 alpha 90.00 beta 90.00 gamma 109.49 \n",
      "Dyn step 30000 a 19.45 b 19.45 c 72.82 alpha 90.00 beta 90.00 gamma 109.49 \n",
      "Dyn step 31000 a 19.45 b 19.45 c 69.40 alpha 90.00 beta 90.00 gamma 109.49 \n",
      "Dyn step 32000 a 19.45 b 19.45 c 66.90 alpha 90.00 beta 90.00 gamma 109.49 \n",
      "Dyn step 33000 a 19.45 b 19.45 c 65.95 alpha 90.00 beta 90.00 gamma 109.49 \n",
      "Dyn step 34000 a 19.45 b 19.45 c 66.35 alpha 90.00 beta 90.00 gamma 109.49 \n",
      "Dyn step 35000 a 19.45 b 19.45 c 67.88 alpha 90.00 beta 90.00 gamma 109.49 \n",
      "Dyn step 36000 a 19.45 b 19.45 c 69.89 alpha 90.00 beta 90.00 gamma 109.49 \n",
      "Dyn step 37000 a 19.45 b 19.45 c 71.98 alpha 90.00 beta 90.00 gamma 109.49 \n",
      "Dyn step 38000 a 19.45 b 19.45 c 73.59 alpha 90.00 beta 90.00 gamma 109.49 \n",
      "Dyn step 39000 a 19.45 b 19.45 c 74.64 alpha 90.00 beta 90.00 gamma 109.49 \n",
      "Dyn step 40000 a 19.45 b 19.45 c 75.34 alpha 90.00 beta 90.00 gamma 109.49 \n",
      "Dyn step 41000 a 19.45 b 19.45 c 75.55 alpha 90.00 beta 90.00 gamma 109.49 \n",
      "Dyn step 42000 a 19.45 b 19.45 c 75.16 alpha 90.00 beta 90.00 gamma 109.49 \n",
      "Dyn step 43000 a 19.45 b 19.45 c 74.21 alpha 90.00 beta 90.00 gamma 109.49 \n",
      "Dyn step 44000 a 19.45 b 19.45 c 72.90 alpha 90.00 beta 90.00 gamma 109.49 \n",
      "Dyn step 45000 a 19.45 b 19.45 c 71.49 alpha 90.00 beta 90.00 gamma 109.49 \n",
      "Dyn step 46000 a 19.45 b 19.45 c 70.23 alpha 90.00 beta 90.00 gamma 109.49 \n",
      "Dyn step 47000 a 19.45 b 19.45 c 69.13 alpha 90.00 beta 90.00 gamma 109.49 \n",
      "Dyn step 48000 a 19.45 b 19.45 c 68.57 alpha 90.00 beta 90.00 gamma 109.49 \n",
      "Dyn step 49000 a 19.45 b 19.45 c 68.76 alpha 90.00 beta 90.00 gamma 109.49 \n",
      "Dyn step 50000 a 19.45 b 19.45 c 69.34 alpha 90.00 beta 90.00 gamma 109.49 \n",
      "Dyn step 51000 a 19.45 b 19.45 c 70.04 alpha 90.00 beta 90.00 gamma 109.49 \n",
      "Dyn step 52000 a 19.45 b 19.45 c 70.42 alpha 90.00 beta 90.00 gamma 109.49 \n",
      "Dyn step 53000 a 19.45 b 19.45 c 70.73 alpha 90.00 beta 90.00 gamma 109.49 \n",
      "Dyn step 54000 a 19.45 b 19.45 c 70.85 alpha 90.00 beta 90.00 gamma 109.49 \n",
      "Dyn step 55000 a 19.45 b 19.45 c 70.84 alpha 90.00 beta 90.00 gamma 109.49 \n",
      "Dyn step 56000 a 19.45 b 19.45 c 70.72 alpha 90.00 beta 90.00 gamma 109.49 \n",
      "Dyn step 57000 a 19.45 b 19.45 c 70.37 alpha 90.00 beta 90.00 gamma 109.49 \n",
      "Dyn step 58000 a 19.45 b 19.45 c 69.97 alpha 90.00 beta 90.00 gamma 109.49 \n",
      "Dyn step 59000 a 19.45 b 19.45 c 69.65 alpha 90.00 beta 90.00 gamma 109.49 \n",
      "Dyn step 60000 a 19.45 b 19.45 c 69.50 alpha 90.00 beta 90.00 gamma 109.49 \n",
      "Dyn step 61000 a 19.45 b 19.45 c 69.60 alpha 90.00 beta 90.00 gamma 109.49 \n",
      "Dyn step 62000 a 19.45 b 19.45 c 69.79 alpha 90.00 beta 90.00 gamma 109.49 \n",
      "Dyn step 63000 a 19.45 b 19.45 c 69.87 alpha 90.00 beta 90.00 gamma 109.49 \n",
      "Dyn step 64000 a 19.45 b 19.45 c 70.20 alpha 90.00 beta 90.00 gamma 109.49 \n",
      "Dyn step 65000 a 19.45 b 19.45 c 70.66 alpha 90.00 beta 90.00 gamma 109.49 \n",
      "Dyn step 66000 a 19.45 b 19.45 c 71.18 alpha 90.00 beta 90.00 gamma 109.49 \n",
      "Dyn step 67000 a 19.45 b 19.45 c 71.42 alpha 90.00 beta 90.00 gamma 109.49 \n",
      "Dyn step 68000 a 19.45 b 19.45 c 71.62 alpha 90.00 beta 90.00 gamma 109.49 \n",
      "Dyn step 69000 a 19.45 b 19.45 c 71.41 alpha 90.00 beta 90.00 gamma 109.49 \n",
      "Dyn step 70000 a 19.45 b 19.45 c 70.93 alpha 90.00 beta 90.00 gamma 109.49 \n",
      "Dyn step 71000 a 19.45 b 19.45 c 70.28 alpha 90.00 beta 90.00 gamma 109.49 \n",
      "Dyn step 72000 a 19.45 b 19.45 c 69.45 alpha 90.00 beta 90.00 gamma 109.49 \n",
      "Dyn step 73000 a 19.45 b 19.45 c 68.74 alpha 90.00 beta 90.00 gamma 109.49 \n",
      "Dyn step 74000 a 19.45 b 19.45 c 68.53 alpha 90.00 beta 90.00 gamma 109.49 \n",
      "Dyn step 75000 a 19.45 b 19.45 c 68.69 alpha 90.00 beta 90.00 gamma 109.49 \n"
     ]
    },
    {
     "data": {
      "text/plain": [
       "MDFeatureResult(traj_path=PosixPath('/home/jovyan/work/2023/sscurve/contrib/output_en/md/npt1.traj'), checkpoint_path='/tmp/matlantis_rp0s3d_m/tmpk31fbw2w.chkp', temp_dir=<TemporaryDirectory '/tmp/matlantis_rp0s3d_m'>)"
      ]
     },
     "execution_count": 9,
     "metadata": {},
     "output_type": "execute_result"
    }
   ],
   "source": [
    "ase_atoms =read(slab_opt_path)\n",
    "indices = [atom.index for atom in ase_atoms if atom.position[2] <= 3]\n",
    "c = FixAtoms(indices)\n",
    "ase_atoms.set_constraint(c)\n",
    "\n",
    "atoms = MatlantisAtoms.from_ase_atoms(ase_atoms)\n",
    "atoms.rotate_atoms_to_upper()\n",
    "\n",
    "# NPT\n",
    "t_step = 1     # as fs\n",
    "press = 0.000101325 * 1000 # as GPa 1000times larger than atomspheric pressure\n",
    "temperature = 473.0\n",
    "\n",
    "system = ASEMDSystem(atoms)\n",
    "system.init_temperature(temperature)\n",
    "\n",
    "integrator = NPTIntegrator(timestep=t_step,\n",
    "                           temperature=temperature,\n",
    "                           pressure=press * units.GPa,\n",
    "                           ttime=20*units.fs,\n",
    "                           pfactor=2e6*units.GPa*(units.fs**2),\n",
    "                           mask=np.array([[0,0,0], [0,0,0], [0,0,1]]))\n",
    "\n",
    "info = PrintCellShape()\n",
    "\n",
    "md = MDFeature(integrator, n_run=75000, traj_file_name=npt1_path,\n",
    "               traj_freq=100, estimator_fn = estimator_fn)\n",
    "\n",
    "md(system, extensions=[(info, 1000)])"
   ]
  },
  {
   "cell_type": "code",
   "execution_count": 10,
   "id": "f9f0965c-b357-44c5-871a-878ed512796f",
   "metadata": {
    "papermill": {
     "duration": 0.137129,
     "end_time": "2023-10-06T10:23:25.523847",
     "exception": false,
     "start_time": "2023-10-06T10:23:25.386718",
     "status": "completed"
    },
    "tags": []
   },
   "outputs": [
    {
     "data": {
      "image/png": "[encoded data removed]",
      "text/plain": [
       "<Figure size 640x480 with 1 Axes>"
      ]
     },
     "metadata": {},
     "output_type": "display_data"
    },
    {
     "data": {
      "application/vnd.jupyter.widget-view+json": {
       "model_id": "f1e1cbaec8c641dfa58c1dd2ae7f5858",
       "version_major": 2,
       "version_minor": 0
      },
      "text/plain": [
       "HBox(children=(NGLWidget(), VBox(children=(Dropdown(description='Show', options=('All', 'C', 'H', 'O', 'Fe'), …"
      ]
     },
     "metadata": {},
     "output_type": "display_data"
    }
   ],
   "source": [
    "# check the change of the length of c-axis and final structure \n",
    "traj = read(npt1_path, \"::1\")\n",
    "\n",
    "c_length = [atoms.cell.cellpar()[2] for atoms in traj]\n",
    "plt.plot(c_length)\n",
    "plt.ylabel(\"c-axis (Å)\")\n",
    "plt.xlabel(\"MD steps (×100)\")\n",
    "plt.show()\n",
    "\n",
    "v = view_ngl(traj[-1], representations=[\"ball+stick\"])\n",
    "v.view.control.spin([1,0,0], np.deg2rad(-90))\n",
    "display(v)"
   ]
  },
  {
   "cell_type": "markdown",
   "id": "9f478f57-835f-4804-b4a2-9401b6e13081",
   "metadata": {
    "papermill": {
     "duration": 0.165059,
     "end_time": "2023-10-06T10:23:25.849552",
     "exception": false,
     "start_time": "2023-10-06T10:23:25.684493",
     "status": "completed"
    },
    "tags": []
   },
   "source": [
    "## 3. Equilibration at Room Temperature"
   ]
  },
  {
   "cell_type": "code",
   "execution_count": 11,
   "id": "050c5f9d-6dea-4559-bc78-fc45b42b1af1",
   "metadata": {
    "papermill": {
     "duration": 19725.456615,
     "end_time": "2023-10-06T15:52:11.442237",
     "exception": false,
     "start_time": "2023-10-06T10:23:25.985622",
     "status": "completed"
    },
    "scrolled": true,
    "tags": []
   },
   "outputs": [
    {
     "name": "stderr",
     "output_type": "stream",
     "text": [
      "The MD trajectory will be saved at /home/jovyan/work/2023/sscurve/contrib/output_en/md/npt2.traj.\n",
      "Note: The max disk size of /home/jovyan is about 99G.\n",
      "WARNING: NPT: Setting the center-of-mass momentum to zero (was -27.2417 23.7933 0.642675)\n",
      "/home/jovyan/.py38/lib/python3.8/site-packages/ase/utils/__init__.py:62: FutureWarning: Please use atoms.cell.cellpar() instead\n",
      "  warnings.warn(warning)\n"
     ]
    },
    {
     "name": "stdout",
     "output_type": "stream",
     "text": [
      "Dyn step    0 a 19.45 b 19.45 c 68.69 alpha 90.00 beta 90.00 gamma 109.49 \n",
      "Dyn step 1000 a 19.45 b 19.45 c 68.62 alpha 90.00 beta 90.00 gamma 109.49 \n",
      "Dyn step 2000 a 19.45 b 19.45 c 68.59 alpha 90.00 beta 90.00 gamma 109.49 \n",
      "Dyn step 3000 a 19.45 b 19.45 c 68.65 alpha 90.00 beta 90.00 gamma 109.49 \n",
      "Dyn step 4000 a 19.45 b 19.45 c 68.20 alpha 90.00 beta 90.00 gamma 109.49 \n",
      "Dyn step 5000 a 19.45 b 19.45 c 68.60 alpha 90.00 beta 90.00 gamma 109.49 \n",
      "Dyn step 6000 a 19.45 b 19.45 c 68.88 alpha 90.00 beta 90.00 gamma 109.49 \n",
      "Dyn step 7000 a 19.45 b 19.45 c 68.84 alpha 90.00 beta 90.00 gamma 109.49 \n",
      "Dyn step 8000 a 19.45 b 19.45 c 68.06 alpha 90.00 beta 90.00 gamma 109.49 \n",
      "Dyn step 9000 a 19.45 b 19.45 c 67.47 alpha 90.00 beta 90.00 gamma 109.49 \n",
      "Dyn step 10000 a 19.45 b 19.45 c 67.90 alpha 90.00 beta 90.00 gamma 109.49 \n",
      "Dyn step 11000 a 19.45 b 19.45 c 69.00 alpha 90.00 beta 90.00 gamma 109.49 \n",
      "Dyn step 12000 a 19.45 b 19.45 c 69.32 alpha 90.00 beta 90.00 gamma 109.49 \n",
      "Dyn step 13000 a 19.45 b 19.45 c 68.04 alpha 90.00 beta 90.00 gamma 109.49 \n",
      "Dyn step 14000 a 19.45 b 19.45 c 67.11 alpha 90.00 beta 90.00 gamma 109.49 \n",
      "Dyn step 15000 a 19.45 b 19.45 c 67.57 alpha 90.00 beta 90.00 gamma 109.49 \n",
      "Dyn step 16000 a 19.45 b 19.45 c 68.61 alpha 90.00 beta 90.00 gamma 109.49 \n",
      "Dyn step 17000 a 19.45 b 19.45 c 68.10 alpha 90.00 beta 90.00 gamma 109.49 \n",
      "Dyn step 18000 a 19.45 b 19.45 c 67.83 alpha 90.00 beta 90.00 gamma 109.49 \n",
      "Dyn step 19000 a 19.45 b 19.45 c 68.06 alpha 90.00 beta 90.00 gamma 109.49 \n",
      "Dyn step 20000 a 19.45 b 19.45 c 67.87 alpha 90.00 beta 90.00 gamma 109.49 \n",
      "Dyn step 21000 a 19.45 b 19.45 c 67.93 alpha 90.00 beta 90.00 gamma 109.49 \n",
      "Dyn step 22000 a 19.45 b 19.45 c 68.48 alpha 90.00 beta 90.00 gamma 109.49 \n",
      "Dyn step 23000 a 19.45 b 19.45 c 68.24 alpha 90.00 beta 90.00 gamma 109.49 \n",
      "Dyn step 24000 a 19.45 b 19.45 c 67.87 alpha 90.00 beta 90.00 gamma 109.49 \n",
      "Dyn step 25000 a 19.45 b 19.45 c 68.04 alpha 90.00 beta 90.00 gamma 109.49 \n",
      "Dyn step 26000 a 19.45 b 19.45 c 68.78 alpha 90.00 beta 90.00 gamma 109.49 \n",
      "Dyn step 27000 a 19.45 b 19.45 c 68.46 alpha 90.00 beta 90.00 gamma 109.49 \n",
      "Dyn step 28000 a 19.45 b 19.45 c 68.06 alpha 90.00 beta 90.00 gamma 109.49 \n",
      "Dyn step 29000 a 19.45 b 19.45 c 67.88 alpha 90.00 beta 90.00 gamma 109.49 \n",
      "Dyn step 30000 a 19.45 b 19.45 c 67.65 alpha 90.00 beta 90.00 gamma 109.49 \n",
      "Dyn step 31000 a 19.45 b 19.45 c 68.01 alpha 90.00 beta 90.00 gamma 109.49 \n",
      "Dyn step 32000 a 19.45 b 19.45 c 67.83 alpha 90.00 beta 90.00 gamma 109.49 \n",
      "Dyn step 33000 a 19.45 b 19.45 c 67.97 alpha 90.00 beta 90.00 gamma 109.49 \n",
      "Dyn step 34000 a 19.45 b 19.45 c 68.38 alpha 90.00 beta 90.00 gamma 109.49 \n",
      "Dyn step 35000 a 19.45 b 19.45 c 68.11 alpha 90.00 beta 90.00 gamma 109.49 \n",
      "Dyn step 36000 a 19.45 b 19.45 c 67.78 alpha 90.00 beta 90.00 gamma 109.49 \n",
      "Dyn step 37000 a 19.45 b 19.45 c 68.10 alpha 90.00 beta 90.00 gamma 109.49 \n",
      "Dyn step 38000 a 19.45 b 19.45 c 68.27 alpha 90.00 beta 90.00 gamma 109.49 \n",
      "Dyn step 39000 a 19.45 b 19.45 c 68.01 alpha 90.00 beta 90.00 gamma 109.49 \n",
      "Dyn step 40000 a 19.45 b 19.45 c 68.44 alpha 90.00 beta 90.00 gamma 109.49 \n",
      "Dyn step 41000 a 19.45 b 19.45 c 68.67 alpha 90.00 beta 90.00 gamma 109.49 \n",
      "Dyn step 42000 a 19.45 b 19.45 c 68.78 alpha 90.00 beta 90.00 gamma 109.49 \n",
      "Dyn step 43000 a 19.45 b 19.45 c 68.53 alpha 90.00 beta 90.00 gamma 109.49 \n",
      "Dyn step 44000 a 19.45 b 19.45 c 67.94 alpha 90.00 beta 90.00 gamma 109.49 \n",
      "Dyn step 45000 a 19.45 b 19.45 c 67.46 alpha 90.00 beta 90.00 gamma 109.49 \n",
      "Dyn step 46000 a 19.45 b 19.45 c 67.02 alpha 90.00 beta 90.00 gamma 109.49 \n",
      "Dyn step 47000 a 19.45 b 19.45 c 66.93 alpha 90.00 beta 90.00 gamma 109.49 \n",
      "Dyn step 48000 a 19.45 b 19.45 c 67.23 alpha 90.00 beta 90.00 gamma 109.49 \n",
      "Dyn step 49000 a 19.45 b 19.45 c 67.75 alpha 90.00 beta 90.00 gamma 109.49 \n",
      "Dyn step 50000 a 19.45 b 19.45 c 67.36 alpha 90.00 beta 90.00 gamma 109.49 \n"
     ]
    },
    {
     "data": {
      "text/plain": [
       "MDFeatureResult(traj_path=PosixPath('/home/jovyan/work/2023/sscurve/contrib/output_en/md/npt2.traj'), checkpoint_path='/tmp/matlantis_jrh5t2pj/tmpmpag1bc8.chkp', temp_dir=<TemporaryDirectory '/tmp/matlantis_jrh5t2pj'>)"
      ]
     },
     "execution_count": 11,
     "metadata": {},
     "output_type": "execute_result"
    }
   ],
   "source": [
    "ase_atoms = read(npt1_path, \"-1\")\n",
    "atoms = MatlantisAtoms.from_ase_atoms(ase_atoms)\n",
    "atoms.rotate_atoms_to_upper()\n",
    "\n",
    "# NPT\n",
    "t_step = 1     # as fs\n",
    "temperature = 300.0\n",
    "\n",
    "system = ASEMDSystem(atoms)\n",
    "system.init_temperature(temperature)\n",
    "\n",
    "integrator = NPTIntegrator(timestep=1.0,\n",
    "                           temperature=temperature,\n",
    "                           pressure=units.bar,\n",
    "                           ttime=20*units.fs,\n",
    "                           pfactor=2e6*units.GPa*(units.fs**2),\n",
    "                           mask=np.array([[0,0,0], [0,0,0], [0,0,1]]))\n",
    "\n",
    "info = PrintCellShape()\n",
    "\n",
    "md = MDFeature(integrator, n_run=50000, traj_file_name=npt2_path,\n",
    "               traj_freq=100, estimator_fn = estimator_fn)\n",
    "md(system, extensions=[(info, 1000)])"
   ]
  },
  {
   "cell_type": "markdown",
   "id": "67333203-8340-4160-9a87-bf08b80c8548",
   "metadata": {
    "papermill": {
     "duration": 0.150492,
     "end_time": "2023-10-06T15:52:11.729354",
     "exception": false,
     "start_time": "2023-10-06T15:52:11.578862",
     "status": "completed"
    },
    "tags": []
   },
   "source": [
    "## 4. Tensile Simulation"
   ]
  },
  {
   "cell_type": "code",
   "execution_count": 12,
   "id": "fcf41f57-be1a-48e2-a583-155bcaf1f508",
   "metadata": {
    "papermill": {
     "duration": 32781.082997,
     "end_time": "2023-10-07T00:58:32.934426",
     "exception": false,
     "start_time": "2023-10-06T15:52:11.851429",
     "status": "completed"
    },
    "tags": []
   },
   "outputs": [
    {
     "name": "stderr",
     "output_type": "stream",
     "text": [
      "The MD trajectory will be saved at /home/jovyan/work/2023/sscurve/contrib/output_en/md/tensile.traj.\n",
      "Note: The max disk size of /home/jovyan is about 99G.\n",
      "/home/jovyan/.py38/lib/python3.8/site-packages/ase/utils/__init__.py:62: FutureWarning: Please use atoms.cell.cellpar() instead\n",
      "  warnings.warn(warning)\n"
     ]
    },
    {
     "name": "stdout",
     "output_type": "stream",
     "text": [
      "Dyn step    0 a 19.45 b 19.45 c 67.36 alpha 90.00 beta 90.00 gamma 109.49 \n",
      "Dyn step 1000 a 19.45 b 19.45 c 68.03 alpha 90.00 beta 90.00 gamma 109.49 \n",
      "Dyn step 2000 a 19.45 b 19.45 c 68.70 alpha 90.00 beta 90.00 gamma 109.49 \n",
      "Dyn step 3000 a 19.45 b 19.45 c 69.38 alpha 90.00 beta 90.00 gamma 109.49 \n",
      "Dyn step 4000 a 19.45 b 19.45 c 70.05 alpha 90.00 beta 90.00 gamma 109.49 \n",
      "Dyn step 5000 a 19.45 b 19.45 c 70.73 alpha 90.00 beta 90.00 gamma 109.49 \n",
      "Dyn step 6000 a 19.45 b 19.45 c 71.40 alpha 90.00 beta 90.00 gamma 109.49 \n",
      "Dyn step 7000 a 19.45 b 19.45 c 72.07 alpha 90.00 beta 90.00 gamma 109.49 \n",
      "Dyn step 8000 a 19.45 b 19.45 c 72.75 alpha 90.00 beta 90.00 gamma 109.49 \n",
      "Dyn step 9000 a 19.45 b 19.45 c 73.42 alpha 90.00 beta 90.00 gamma 109.49 \n",
      "Dyn step 10000 a 19.45 b 19.45 c 74.09 alpha 90.00 beta 90.00 gamma 109.49 \n",
      "Dyn step 11000 a 19.45 b 19.45 c 74.77 alpha 90.00 beta 90.00 gamma 109.49 \n",
      "Dyn step 12000 a 19.45 b 19.45 c 75.44 alpha 90.00 beta 90.00 gamma 109.49 \n",
      "Dyn step 13000 a 19.45 b 19.45 c 76.11 alpha 90.00 beta 90.00 gamma 109.49 \n",
      "Dyn step 14000 a 19.45 b 19.45 c 76.79 alpha 90.00 beta 90.00 gamma 109.49 \n",
      "Dyn step 15000 a 19.45 b 19.45 c 77.46 alpha 90.00 beta 90.00 gamma 109.49 \n",
      "Dyn step 16000 a 19.45 b 19.45 c 78.14 alpha 90.00 beta 90.00 gamma 109.49 \n",
      "Dyn step 17000 a 19.45 b 19.45 c 78.81 alpha 90.00 beta 90.00 gamma 109.49 \n",
      "Dyn step 18000 a 19.45 b 19.45 c 79.48 alpha 90.00 beta 90.00 gamma 109.49 \n",
      "Dyn step 19000 a 19.45 b 19.45 c 80.16 alpha 90.00 beta 90.00 gamma 109.49 \n",
      "Dyn step 20000 a 19.45 b 19.45 c 80.83 alpha 90.00 beta 90.00 gamma 109.49 \n",
      "Dyn step 21000 a 19.45 b 19.45 c 81.50 alpha 90.00 beta 90.00 gamma 109.49 \n",
      "Dyn step 22000 a 19.45 b 19.45 c 82.18 alpha 90.00 beta 90.00 gamma 109.49 \n",
      "Dyn step 23000 a 19.45 b 19.45 c 82.85 alpha 90.00 beta 90.00 gamma 109.49 \n",
      "Dyn step 24000 a 19.45 b 19.45 c 83.52 alpha 90.00 beta 90.00 gamma 109.49 \n",
      "Dyn step 25000 a 19.45 b 19.45 c 84.20 alpha 90.00 beta 90.00 gamma 109.49 \n",
      "Dyn step 26000 a 19.45 b 19.45 c 84.87 alpha 90.00 beta 90.00 gamma 109.49 \n",
      "Dyn step 27000 a 19.45 b 19.45 c 85.54 alpha 90.00 beta 90.00 gamma 109.49 \n",
      "Dyn step 28000 a 19.45 b 19.45 c 86.22 alpha 90.00 beta 90.00 gamma 109.49 \n",
      "Dyn step 29000 a 19.45 b 19.45 c 86.89 alpha 90.00 beta 90.00 gamma 109.49 \n",
      "Dyn step 30000 a 19.45 b 19.45 c 87.57 alpha 90.00 beta 90.00 gamma 109.49 \n",
      "Dyn step 31000 a 19.45 b 19.45 c 88.24 alpha 90.00 beta 90.00 gamma 109.49 \n",
      "Dyn step 32000 a 19.45 b 19.45 c 88.91 alpha 90.00 beta 90.00 gamma 109.49 \n",
      "Dyn step 33000 a 19.45 b 19.45 c 89.59 alpha 90.00 beta 90.00 gamma 109.49 \n",
      "Dyn step 34000 a 19.45 b 19.45 c 90.26 alpha 90.00 beta 90.00 gamma 109.49 \n",
      "Dyn step 35000 a 19.45 b 19.45 c 90.93 alpha 90.00 beta 90.00 gamma 109.49 \n",
      "Dyn step 36000 a 19.45 b 19.45 c 91.61 alpha 90.00 beta 90.00 gamma 109.49 \n",
      "Dyn step 37000 a 19.45 b 19.45 c 92.28 alpha 90.00 beta 90.00 gamma 109.49 \n",
      "Dyn step 38000 a 19.45 b 19.45 c 92.95 alpha 90.00 beta 90.00 gamma 109.49 \n",
      "Dyn step 39000 a 19.45 b 19.45 c 93.63 alpha 90.00 beta 90.00 gamma 109.49 \n",
      "Dyn step 40000 a 19.45 b 19.45 c 94.30 alpha 90.00 beta 90.00 gamma 109.49 \n",
      "Dyn step 41000 a 19.45 b 19.45 c 94.97 alpha 90.00 beta 90.00 gamma 109.49 \n",
      "Dyn step 42000 a 19.45 b 19.45 c 95.65 alpha 90.00 beta 90.00 gamma 109.49 \n",
      "Dyn step 43000 a 19.45 b 19.45 c 96.32 alpha 90.00 beta 90.00 gamma 109.49 \n",
      "Dyn step 44000 a 19.45 b 19.45 c 97.00 alpha 90.00 beta 90.00 gamma 109.49 \n",
      "Dyn step 45000 a 19.45 b 19.45 c 97.67 alpha 90.00 beta 90.00 gamma 109.49 \n",
      "Dyn step 46000 a 19.45 b 19.45 c 98.34 alpha 90.00 beta 90.00 gamma 109.49 \n",
      "Dyn step 47000 a 19.45 b 19.45 c 99.02 alpha 90.00 beta 90.00 gamma 109.49 \n",
      "Dyn step 48000 a 19.45 b 19.45 c 99.69 alpha 90.00 beta 90.00 gamma 109.49 \n",
      "Dyn step 49000 a 19.45 b 19.45 c 100.36 alpha 90.00 beta 90.00 gamma 109.49 \n",
      "Dyn step 50000 a 19.45 b 19.45 c 101.04 alpha 90.00 beta 90.00 gamma 109.49 \n"
     ]
    },
    {
     "data": {
      "text/plain": [
       "MDFeatureResult(traj_path=PosixPath('/home/jovyan/work/2023/sscurve/contrib/output_en/md/tensile.traj'), checkpoint_path='/tmp/matlantis_lsjm_e6l/tmpy1ima6ld.chkp', temp_dir=<TemporaryDirectory '/tmp/matlantis_lsjm_e6l'>)"
      ]
     },
     "execution_count": 12,
     "metadata": {},
     "output_type": "execute_result"
    }
   ],
   "source": [
    "ase_atoms = read(npt2_path, \"-1\")\n",
    "atoms = MatlantisAtoms.from_ase_atoms(ase_atoms)\n",
    "atoms.rotate_atoms_to_upper()\n",
    "\n",
    "system = ASEMDSystem(atoms)\n",
    "system.init_temperature(temperature)\n",
    "\n",
    "# extend the unit cell by 150% along with z-axis\n",
    "latt = np.array(system.ase_atoms.cell)\n",
    "latt[2,2] = latt[2,2]*1.5\n",
    "\n",
    "# 引っ張り計算。\n",
    "integrator = LangevinIntegrator(timestep=1.0, temperature=300.0)\n",
    "\n",
    "info = PrintCellShape()\n",
    "deform = DeformScheduler(latt, 50000)\n",
    "\n",
    "md = MDFeature(integrator, n_run=50000, traj_file_name=tensile_path,\n",
    "               traj_freq=100, estimator_fn = estimator_fn)\n",
    "md(system, extensions=[(info, 1000), (deform, 1)])"
   ]
  },
  {
   "cell_type": "markdown",
   "id": "cc09ba70-be27-4d0b-99cc-40acd70b648c",
   "metadata": {
    "papermill": {
     "duration": 0.273296,
     "end_time": "2023-10-07T00:58:33.444316",
     "exception": false,
     "start_time": "2023-10-07T00:58:33.171020",
     "status": "completed"
    },
    "tags": []
   },
   "source": [
    "## 5. Plotting the Stress-Strain Curve"
   ]
  },
  {
   "cell_type": "code",
   "execution_count": 4,
   "id": "b4c0acf3-ecb4-4f28-a6c8-1327461a8608",
   "metadata": {
    "papermill": {
     "duration": 1.450727,
     "end_time": "2023-10-07T00:58:35.137254",
     "exception": false,
     "start_time": "2023-10-07T00:58:33.686527",
     "status": "completed"
    },
    "tags": []
   },
   "outputs": [
    {
     "ename": "FileNotFoundError",
     "evalue": "[Errno 2] No such file or directory: '/home/jovyan/tmp3/matlantis-contrib/matlantis_contrib_examples/stress-strain_curve/output/md/tensile.traj'",
     "output_type": "error",
     "traceback": [
      "\u001b[0;31m---------------------------------------------------------------------------\u001b[0m",
      "\u001b[0;31mFileNotFoundError\u001b[0m                         Traceback (most recent call last)",
      "\u001b[0;32m/tmp/ipykernel_13353/105740468.py\u001b[0m in \u001b[0;36m<cell line: 1>\u001b[0;34m()\u001b[0m\n\u001b[0;32m----> 1\u001b[0;31m \u001b[0mtraj\u001b[0m \u001b[0;34m=\u001b[0m \u001b[0mTrajectory\u001b[0m\u001b[0;34m(\u001b[0m\u001b[0mtensile_path\u001b[0m\u001b[0;34m)\u001b[0m\u001b[0;34m\u001b[0m\u001b[0;34m\u001b[0m\u001b[0m\n\u001b[0m\u001b[1;32m      2\u001b[0m \u001b[0;34m\u001b[0m\u001b[0m\n\u001b[1;32m      3\u001b[0m \u001b[0mstress\u001b[0m \u001b[0;34m=\u001b[0m \u001b[0;34m[\u001b[0m\u001b[0;34m]\u001b[0m\u001b[0;34m\u001b[0m\u001b[0;34m\u001b[0m\u001b[0m\n\u001b[1;32m      4\u001b[0m \u001b[0mzlen\u001b[0m \u001b[0;34m=\u001b[0m \u001b[0;34m[\u001b[0m\u001b[0;34m]\u001b[0m\u001b[0;34m\u001b[0m\u001b[0;34m\u001b[0m\u001b[0m\n\u001b[1;32m      5\u001b[0m \u001b[0;32mfor\u001b[0m \u001b[0mi\u001b[0m \u001b[0;32min\u001b[0m \u001b[0mtraj\u001b[0m\u001b[0;34m:\u001b[0m\u001b[0;34m\u001b[0m\u001b[0;34m\u001b[0m\u001b[0m\n",
      "\u001b[0;32m~/.py38/lib/python3.8/site-packages/ase/io/trajectory.py\u001b[0m in \u001b[0;36mTrajectory\u001b[0;34m(filename, mode, atoms, properties, master)\u001b[0m\n\u001b[1;32m     48\u001b[0m     \"\"\"\n\u001b[1;32m     49\u001b[0m     \u001b[0;32mif\u001b[0m \u001b[0mmode\u001b[0m \u001b[0;34m==\u001b[0m \u001b[0;34m'r'\u001b[0m\u001b[0;34m:\u001b[0m\u001b[0;34m\u001b[0m\u001b[0;34m\u001b[0m\u001b[0m\n\u001b[0;32m---> 50\u001b[0;31m         \u001b[0;32mreturn\u001b[0m \u001b[0mTrajectoryReader\u001b[0m\u001b[0;34m(\u001b[0m\u001b[0mfilename\u001b[0m\u001b[0;34m)\u001b[0m\u001b[0;34m\u001b[0m\u001b[0;34m\u001b[0m\u001b[0m\n\u001b[0m\u001b[1;32m     51\u001b[0m     \u001b[0;32mreturn\u001b[0m \u001b[0mTrajectoryWriter\u001b[0m\u001b[0;34m(\u001b[0m\u001b[0mfilename\u001b[0m\u001b[0;34m,\u001b[0m \u001b[0mmode\u001b[0m\u001b[0;34m,\u001b[0m \u001b[0matoms\u001b[0m\u001b[0;34m,\u001b[0m \u001b[0mproperties\u001b[0m\u001b[0;34m,\u001b[0m \u001b[0mmaster\u001b[0m\u001b[0;34m=\u001b[0m\u001b[0mmaster\u001b[0m\u001b[0;34m)\u001b[0m\u001b[0;34m\u001b[0m\u001b[0;34m\u001b[0m\u001b[0m\n\u001b[1;32m     52\u001b[0m \u001b[0;34m\u001b[0m\u001b[0m\n",
      "\u001b[0;32m~/.py38/lib/python3.8/site-packages/ase/io/trajectory.py\u001b[0m in \u001b[0;36m__init__\u001b[0;34m(self, filename)\u001b[0m\n\u001b[1;32m    223\u001b[0m         \u001b[0mself\u001b[0m\u001b[0;34m.\u001b[0m\u001b[0mmasses\u001b[0m \u001b[0;34m=\u001b[0m \u001b[0;32mNone\u001b[0m\u001b[0;34m\u001b[0m\u001b[0;34m\u001b[0m\u001b[0m\n\u001b[1;32m    224\u001b[0m \u001b[0;34m\u001b[0m\u001b[0m\n\u001b[0;32m--> 225\u001b[0;31m         \u001b[0mself\u001b[0m\u001b[0;34m.\u001b[0m\u001b[0m_open\u001b[0m\u001b[0;34m(\u001b[0m\u001b[0mfilename\u001b[0m\u001b[0;34m)\u001b[0m\u001b[0;34m\u001b[0m\u001b[0;34m\u001b[0m\u001b[0m\n\u001b[0m\u001b[1;32m    226\u001b[0m \u001b[0;34m\u001b[0m\u001b[0m\n\u001b[1;32m    227\u001b[0m     \u001b[0;32mdef\u001b[0m \u001b[0m__enter__\u001b[0m\u001b[0;34m(\u001b[0m\u001b[0mself\u001b[0m\u001b[0;34m)\u001b[0m\u001b[0;34m:\u001b[0m\u001b[0;34m\u001b[0m\u001b[0;34m\u001b[0m\u001b[0m\n",
      "\u001b[0;32m~/.py38/lib/python3.8/site-packages/ase/io/trajectory.py\u001b[0m in \u001b[0;36m_open\u001b[0;34m(self, filename)\u001b[0m\n\u001b[1;32m    233\u001b[0m     \u001b[0;32mdef\u001b[0m \u001b[0m_open\u001b[0m\u001b[0;34m(\u001b[0m\u001b[0mself\u001b[0m\u001b[0;34m,\u001b[0m \u001b[0mfilename\u001b[0m\u001b[0;34m)\u001b[0m\u001b[0;34m:\u001b[0m\u001b[0;34m\u001b[0m\u001b[0;34m\u001b[0m\u001b[0m\n\u001b[1;32m    234\u001b[0m         \u001b[0;32mimport\u001b[0m \u001b[0mase\u001b[0m\u001b[0;34m.\u001b[0m\u001b[0mio\u001b[0m\u001b[0;34m.\u001b[0m\u001b[0mulm\u001b[0m \u001b[0;32mas\u001b[0m \u001b[0mulm\u001b[0m\u001b[0;34m\u001b[0m\u001b[0;34m\u001b[0m\u001b[0m\n\u001b[0;32m--> 235\u001b[0;31m         \u001b[0mself\u001b[0m\u001b[0;34m.\u001b[0m\u001b[0mbackend\u001b[0m \u001b[0;34m=\u001b[0m \u001b[0mulm\u001b[0m\u001b[0;34m.\u001b[0m\u001b[0mopen\u001b[0m\u001b[0;34m(\u001b[0m\u001b[0mfilename\u001b[0m\u001b[0;34m,\u001b[0m \u001b[0;34m'r'\u001b[0m\u001b[0;34m)\u001b[0m\u001b[0;34m\u001b[0m\u001b[0;34m\u001b[0m\u001b[0m\n\u001b[0m\u001b[1;32m    236\u001b[0m         \u001b[0mself\u001b[0m\u001b[0;34m.\u001b[0m\u001b[0m_read_header\u001b[0m\u001b[0;34m(\u001b[0m\u001b[0;34m)\u001b[0m\u001b[0;34m\u001b[0m\u001b[0;34m\u001b[0m\u001b[0m\n\u001b[1;32m    237\u001b[0m \u001b[0;34m\u001b[0m\u001b[0m\n",
      "\u001b[0;32m~/.py38/lib/python3.8/site-packages/ase/io/ulm.py\u001b[0m in \u001b[0;36mopen\u001b[0;34m(filename, mode, index, tag)\u001b[0m\n\u001b[1;32m    154\u001b[0m     \u001b[0;32mif\u001b[0m \u001b[0mmode\u001b[0m \u001b[0;34m==\u001b[0m \u001b[0;34m'r'\u001b[0m\u001b[0;34m:\u001b[0m\u001b[0;34m\u001b[0m\u001b[0;34m\u001b[0m\u001b[0m\n\u001b[1;32m    155\u001b[0m         \u001b[0;32massert\u001b[0m \u001b[0mtag\u001b[0m \u001b[0;32mis\u001b[0m \u001b[0;32mNone\u001b[0m\u001b[0;34m\u001b[0m\u001b[0;34m\u001b[0m\u001b[0m\n\u001b[0;32m--> 156\u001b[0;31m         \u001b[0;32mreturn\u001b[0m \u001b[0mReader\u001b[0m\u001b[0;34m(\u001b[0m\u001b[0mfilename\u001b[0m\u001b[0;34m,\u001b[0m \u001b[0mindex\u001b[0m \u001b[0;32mor\u001b[0m \u001b[0;36m0\u001b[0m\u001b[0;34m)\u001b[0m\u001b[0;34m\u001b[0m\u001b[0;34m\u001b[0m\u001b[0m\n\u001b[0m\u001b[1;32m    157\u001b[0m     \u001b[0;32mif\u001b[0m \u001b[0mmode\u001b[0m \u001b[0;32mnot\u001b[0m \u001b[0;32min\u001b[0m \u001b[0;34m'wa'\u001b[0m\u001b[0;34m:\u001b[0m\u001b[0;34m\u001b[0m\u001b[0;34m\u001b[0m\u001b[0m\n\u001b[1;32m    158\u001b[0m         \u001b[0;36m2\u001b[0m \u001b[0;34m/\u001b[0m \u001b[0;36m0\u001b[0m\u001b[0;34m\u001b[0m\u001b[0;34m\u001b[0m\u001b[0m\n",
      "\u001b[0;32m~/.py38/lib/python3.8/site-packages/ase/io/ulm.py\u001b[0m in \u001b[0;36m__init__\u001b[0;34m(self, fd, index, data, _little_endian)\u001b[0m\n\u001b[1;32m    475\u001b[0m \u001b[0;34m\u001b[0m\u001b[0m\n\u001b[1;32m    476\u001b[0m         \u001b[0;32mif\u001b[0m \u001b[0;32mnot\u001b[0m \u001b[0mhasattr\u001b[0m\u001b[0;34m(\u001b[0m\u001b[0mfd\u001b[0m\u001b[0;34m,\u001b[0m \u001b[0;34m'read'\u001b[0m\u001b[0;34m)\u001b[0m\u001b[0;34m:\u001b[0m\u001b[0;34m\u001b[0m\u001b[0;34m\u001b[0m\u001b[0m\n\u001b[0;32m--> 477\u001b[0;31m             \u001b[0mfd\u001b[0m \u001b[0;34m=\u001b[0m \u001b[0mPath\u001b[0m\u001b[0;34m(\u001b[0m\u001b[0mfd\u001b[0m\u001b[0;34m)\u001b[0m\u001b[0;34m.\u001b[0m\u001b[0mopen\u001b[0m\u001b[0;34m(\u001b[0m\u001b[0;34m'rb'\u001b[0m\u001b[0;34m)\u001b[0m\u001b[0;34m\u001b[0m\u001b[0;34m\u001b[0m\u001b[0m\n\u001b[0m\u001b[1;32m    478\u001b[0m \u001b[0;34m\u001b[0m\u001b[0m\n\u001b[1;32m    479\u001b[0m         \u001b[0mself\u001b[0m\u001b[0;34m.\u001b[0m\u001b[0m_fd\u001b[0m \u001b[0;34m=\u001b[0m \u001b[0mfd\u001b[0m\u001b[0;34m\u001b[0m\u001b[0;34m\u001b[0m\u001b[0m\n",
      "\u001b[0;32m/usr/local/pyenv/versions/3.8.13/lib/python3.8/pathlib.py\u001b[0m in \u001b[0;36mopen\u001b[0;34m(self, mode, buffering, encoding, errors, newline)\u001b[0m\n\u001b[1;32m   1220\u001b[0m         \u001b[0;32mif\u001b[0m \u001b[0mself\u001b[0m\u001b[0;34m.\u001b[0m\u001b[0m_closed\u001b[0m\u001b[0;34m:\u001b[0m\u001b[0;34m\u001b[0m\u001b[0;34m\u001b[0m\u001b[0m\n\u001b[1;32m   1221\u001b[0m             \u001b[0mself\u001b[0m\u001b[0;34m.\u001b[0m\u001b[0m_raise_closed\u001b[0m\u001b[0;34m(\u001b[0m\u001b[0;34m)\u001b[0m\u001b[0;34m\u001b[0m\u001b[0;34m\u001b[0m\u001b[0m\n\u001b[0;32m-> 1222\u001b[0;31m         return io.open(self, mode, buffering, encoding, errors, newline,\n\u001b[0m\u001b[1;32m   1223\u001b[0m                        opener=self._opener)\n\u001b[1;32m   1224\u001b[0m \u001b[0;34m\u001b[0m\u001b[0m\n",
      "\u001b[0;32m/usr/local/pyenv/versions/3.8.13/lib/python3.8/pathlib.py\u001b[0m in \u001b[0;36m_opener\u001b[0;34m(self, name, flags, mode)\u001b[0m\n\u001b[1;32m   1076\u001b[0m     \u001b[0;32mdef\u001b[0m \u001b[0m_opener\u001b[0m\u001b[0;34m(\u001b[0m\u001b[0mself\u001b[0m\u001b[0;34m,\u001b[0m \u001b[0mname\u001b[0m\u001b[0;34m,\u001b[0m \u001b[0mflags\u001b[0m\u001b[0;34m,\u001b[0m \u001b[0mmode\u001b[0m\u001b[0;34m=\u001b[0m\u001b[0;36m0o666\u001b[0m\u001b[0;34m)\u001b[0m\u001b[0;34m:\u001b[0m\u001b[0;34m\u001b[0m\u001b[0;34m\u001b[0m\u001b[0m\n\u001b[1;32m   1077\u001b[0m         \u001b[0;31m# A stub for the opener argument to built-in open()\u001b[0m\u001b[0;34m\u001b[0m\u001b[0;34m\u001b[0m\u001b[0;34m\u001b[0m\u001b[0m\n\u001b[0;32m-> 1078\u001b[0;31m         \u001b[0;32mreturn\u001b[0m \u001b[0mself\u001b[0m\u001b[0;34m.\u001b[0m\u001b[0m_accessor\u001b[0m\u001b[0;34m.\u001b[0m\u001b[0mopen\u001b[0m\u001b[0;34m(\u001b[0m\u001b[0mself\u001b[0m\u001b[0;34m,\u001b[0m \u001b[0mflags\u001b[0m\u001b[0;34m,\u001b[0m \u001b[0mmode\u001b[0m\u001b[0;34m)\u001b[0m\u001b[0;34m\u001b[0m\u001b[0;34m\u001b[0m\u001b[0m\n\u001b[0m\u001b[1;32m   1079\u001b[0m \u001b[0;34m\u001b[0m\u001b[0m\n\u001b[1;32m   1080\u001b[0m     \u001b[0;32mdef\u001b[0m \u001b[0m_raw_open\u001b[0m\u001b[0;34m(\u001b[0m\u001b[0mself\u001b[0m\u001b[0;34m,\u001b[0m \u001b[0mflags\u001b[0m\u001b[0;34m,\u001b[0m \u001b[0mmode\u001b[0m\u001b[0;34m=\u001b[0m\u001b[0;36m0o777\u001b[0m\u001b[0;34m)\u001b[0m\u001b[0;34m:\u001b[0m\u001b[0;34m\u001b[0m\u001b[0;34m\u001b[0m\u001b[0m\n",
      "\u001b[0;31mFileNotFoundError\u001b[0m: [Errno 2] No such file or directory: '/home/jovyan/tmp3/matlantis-contrib/matlantis_contrib_examples/stress-strain_curve/output/md/tensile.traj'"
     ]
    }
   ],
   "source": [
    "traj = Trajectory(tensile_path)\n",
    "\n",
    "stress = []\n",
    "zlen = []\n",
    "for i in traj:\n",
    "    stress.append(i.get_stress()[2])\n",
    "    zlen.append(i.cell.cellpar()[2])\n",
    "zlen = np.array(zlen)\n",
    "strain = (zlen-zlen[0])/zlen[0]\n",
    "stress = np.array(stress)/Pascal/10e6\n",
    "\n",
    "concatenated_columns = np.concatenate((strain.reshape(-1, 1), stress.reshape(-1, 1)), axis=1)\n",
    "data = pd.DataFrame(concatenated_columns, columns=['strain', 'stress'])\n",
    "\n",
    "os.makedirs(\"output/figure\", exist_ok = True)\n",
    "\n",
    "window_size = 20\n",
    "data['moving_average'] = data['stress'].rolling(window=window_size).mean()\n",
    "\n",
    "# Linear regression with no intercept in specified strain range\n",
    "linear_range_data = data[(data['strain'] >= 0.0) & (data['strain'] <= 0.025)]\n",
    "X = linear_range_data[['strain']]\n",
    "y = linear_range_data['stress']\n",
    "linear_model_no_intercept = LinearRegression(fit_intercept=False).fit(X, y)\n",
    "linear_fit = linear_model_no_intercept.predict(X)\n",
    "\n",
    "# Youngs Modulus\n",
    "youngs_modulus = linear_model_no_intercept.coef_[0]\n",
    "print(f\"Youngs modulus:{youngs_modulus / 1000:.4f}(GPa)\")\n",
    "\n",
    "# Plot\n",
    "plt.scatter(data['strain'], data['stress'], label='Original Data', alpha=0.25, s = 10)\n",
    "plt.plot(data['strain'], data['moving_average'], label='Moving Average (20 points)', color='green')\n",
    "plt.plot(linear_range_data['strain'], linear_fit, label='Linear Fit through Origin', color='red', linewidth=2)\n",
    "plt.title('Stress-Strain Curve with Moving Average and Linear Fit')\n",
    "plt.xlabel('Strain')\n",
    "plt.ylabel('Stress (MPa)')\n",
    "plt.legend()\n",
    "plt.grid(True)\n",
    "plt.show()\n",
    "plt.savefig(ss_path)"
   ]
  },
  {
   "cell_type": "code",
   "execution_count": null,
   "id": "a8aa35f2-1281-4684-b173-21b38ee29c07",
   "metadata": {},
   "outputs": [],
   "source": []
  }
 ],
 "metadata": {
  "kernelspec": {
   "display_name": "Python 3.8",
   "language": "python",
   "name": "python38"
  },
  "language_info": {
   "codemirror_mode": {
    "name": "ipython",
    "version": 3
   },
   "file_extension": ".py",
   "mimetype": "text/x-python",
   "name": "python",
   "nbconvert_exporter": "python",
   "pygments_lexer": "ipython3",
   "version": "3.8.13"
  },
  "papermill": {
   "default_parameters": {},
   "duration": 87758.575812,
   "end_time": "2023-10-07T00:58:38.264273",
   "environment_variables": {},
   "exception": null,
   "input_path": "/home/jovyan/.local/share/matlantis/jobs/mtl_bg_run_kbx8u8_v.ipynb",
   "output_path": "/home/jovyan/work/2023/sscurve/contrib/calculate_sscurve_rev2_results_2023-10-06_093557.ipynb",
   "parameters": {},
   "start_time": "2023-10-06T00:35:59.688461",
   "version": "2.3.4"
  },
  "widgets": {
   "application/vnd.jupyter.widget-state+json": {
    "state": {},
    "version_major": 2,
    "version_minor": 0
   }
  }
 },
 "nbformat": 4,
 "nbformat_minor": 5
}
