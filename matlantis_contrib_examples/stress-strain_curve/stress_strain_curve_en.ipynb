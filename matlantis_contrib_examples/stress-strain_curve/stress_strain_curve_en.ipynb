{
 "cells": [
  {
   "cell_type": "markdown",
   "id": "fbb893c4-ac3e-4377-8ac0-5d62ab61822c",
   "metadata": {
    "papermill": {
     "duration": 0.089484,
     "end_time": "2023-10-06T00:36:01.442934",
     "exception": false,
     "start_time": "2023-10-06T00:36:01.353450",
     "status": "completed"
    },
    "tags": []
   },
   "source": [
    "# Notebook for calculating the Stress-Strain Curve\n",
    "\n",
    "In this notebook, we will perform an MD simulation on a metal slab and resin model to derive the stress-strain curve."
   ]
  },
  {
   "cell_type": "markdown",
   "id": "252c8b85-0a41-4fd0-aaa9-02125b4783be",
   "metadata": {
    "papermill": {
     "duration": 0.079195,
     "end_time": "2023-10-06T00:36:01.594854",
     "exception": false,
     "start_time": "2023-10-06T00:36:01.515659",
     "status": "completed"
    },
    "tags": []
   },
   "source": [
    "## Initial Setup\n",
    "\n",
    "First, let's install the necessary packages:"
   ]
  },
  {
   "cell_type": "code",
   "execution_count": 1,
   "id": "2457f221-e0e9-4da1-ac49-988abde1d4b3",
   "metadata": {
    "papermill": {
     "duration": 0.181646,
     "end_time": "2023-10-06T00:36:01.853991",
     "exception": false,
     "start_time": "2023-10-06T00:36:01.672345",
     "status": "completed"
    },
    "tags": []
   },
   "outputs": [],
   "source": [
    "# ! pip install pfp-api-client\n",
    "# ! pip install matlantis-features"
   ]
  },
  {
   "cell_type": "markdown",
   "id": "19b32b83-4362-4928-a211-8f7829f6115c",
   "metadata": {
    "papermill": {
     "duration": 0.063019,
     "end_time": "2023-10-06T00:36:02.045744",
     "exception": false,
     "start_time": "2023-10-06T00:36:01.982725",
     "status": "completed"
    },
    "tags": []
   },
   "source": [
    "## 1. Import packages, define functions"
   ]
  },
  {
   "cell_type": "code",
   "execution_count": 2,
   "id": "98dbe031-3650-46af-8ca4-f35d70af97ea",
   "metadata": {
    "papermill": {
     "duration": 10.612785,
     "end_time": "2023-10-06T00:36:12.725946",
     "exception": false,
     "start_time": "2023-10-06T00:36:02.113161",
     "status": "completed"
    },
    "tags": []
   },
   "outputs": [
    {
     "data": {
      "application/vnd.jupyter.widget-view+json": {
       "model_id": "9bfca96fc2b647f3aaa1b6e83a77348c",
       "version_major": 2,
       "version_minor": 0
      },
      "text/plain": []
     },
     "metadata": {},
     "output_type": "display_data"
    }
   ],
   "source": [
    "import os\n",
    "import numpy as np\n",
    "import random\n",
    "import pathlib\n",
    "import matplotlib.pyplot as plt\n",
    "from scipy.spatial.transform import Rotation\n",
    "\n",
    "from ase import Atoms\n",
    "from ase import units\n",
    "from ase.io import read, write, Trajectory\n",
    "from ase.build import bulk, surface, sort\n",
    "from ase.units import Pascal\n",
    "from ase.visualize import view\n",
    "from ase.spacegroup.symmetrize import FixSymmetry\n",
    "from ase import neighborlist\n",
    "from ase.constraints import FixAtoms\n",
    "\n",
    "from rdkit import Chem\n",
    "from rdkit.Chem import AllChem\n",
    "\n",
    "from matlantis_features.utils.atoms_util import convert_atoms_to_upper\n",
    "from matlantis_features.atoms import MatlantisAtoms\n",
    "from matlantis_features.features.common.opt import LBFGSASEOptFeature, FireLBFGSASEOptFeature\n",
    "from matlantis_features.features.md import ASEMDSystem, LangevinIntegrator, MDFeature, MDExtensionBase, NPTIntegrator\n",
    "from matlantis_features.features.md.md_extensions import DeformScheduler\n",
    "from matlantis_features.utils.calculators import get_calculator, pfp_estimator_fn\n",
    "\n",
    "from pfp_api_client.pfp.estimator import Estimator, EstimatorCalcMode\n",
    "from pfp_api_client.pfp.calculators.ase_calculator import ASECalculator\n",
    "estimator_fn = pfp_estimator_fn(model_version='v5.0.0', calc_mode='crystal_u0_plus_d3')\n",
    "\n",
    "from pfcc_extras.visualize.view import view_ngl\n",
    "from pfcc_extras.structure.ase_rdkit_converter import smiles_to_atoms\n",
    "from pfcc_extras.structure.surface import makesurface\n",
    "\n",
    "def density(atoms):\n",
    "    vol = atoms.get_cell().volume *(1e-8)**3   # as cm3\n",
    "    wt = sum(atoms.get_masses())    # as g/mol\n",
    "    dens = wt / units.mol / vol\n",
    "    return(dens)\n",
    "\n",
    "class PrintCellShape(MDExtensionBase):\n",
    "    def __init__(self, cell_log=None):\n",
    "        self.cell_log = cell_log\n",
    "    def __call__(self, system, integrator) -> None:\n",
    "        cell_par = system.ase_atoms.get_cell_lengths_and_angles()\n",
    "        istep = system.current_total_step\n",
    "        print(f\"Dyn step {istep:4d} a {cell_par[0]:3.2f} b {cell_par[1]:3.2f} c {cell_par[2]:3.2f} alpha {cell_par[3]:3.2f} beta {cell_par[4]:3.2f} gamma {cell_par[5]:3.2f} \")\n",
    "        if self.cell_log is not None:\n",
    "            self.cell_log.append(cell_par)\n",
    "            \n",
    "try:\n",
    "    dir_path = pathlib.Path(__file__).parent\n",
    "except:\n",
    "    dir_path = pathlib.Path(\"\").resolve()\n",
    "    \n",
    "input_dir = dir_path / \"input\"\n",
    "output_dir = dir_path / \"output\""
   ]
  },
  {
   "cell_type": "markdown",
   "id": "ba954b22-9f83-4930-8a6b-2cb466ddcca3",
   "metadata": {
    "papermill": {
     "duration": 0.071597,
     "end_time": "2023-10-06T00:36:12.874740",
     "exception": false,
     "start_time": "2023-10-06T00:36:12.803143",
     "status": "completed"
    },
    "tags": []
   },
   "source": [
    "## 2. Model Preparation\n",
    "\n",
    "Create a metal slab model sandwiched between vacuum layers, with a resin inserted in between. By compressing the model along the z-axis, we can achieve the desired initial structure."
   ]
  },
  {
   "cell_type": "markdown",
   "id": "90f952a3-eeea-4e64-b4bb-1185a3a9dcec",
   "metadata": {
    "papermill": {
     "duration": 0.08168,
     "end_time": "2023-10-06T00:36:13.059015",
     "exception": false,
     "start_time": "2023-10-06T00:36:12.977335",
     "status": "completed"
    },
    "tags": []
   },
   "source": [
    "### 2-1. File Paths for I/O"
   ]
  },
  {
   "cell_type": "code",
   "execution_count": 3,
   "id": "d81ac3bd-641f-4dec-adc5-7c4caf7c85b0",
   "metadata": {
    "tags": []
   },
   "outputs": [],
   "source": [
    "# input file\n",
    "# resin\n",
    "resin_path = input_dir / \"PEO.xyz\"\n",
    "\n",
    "# output file\n",
    "# metal slab\n",
    "metal_opt_path = output_dir / \"model\" / \"slab_Fe.xyz\"\n",
    "# relaxed resin\n",
    "resin_opt_path = output_dir / \"model\" / \"resin_opt.xyz\"\n",
    "# metal slab and resin\n",
    "slab_opt_path = output_dir / \"model\" / \"slab.xyz\"\n",
    "# trajectory for high-T, compressing NPT simulation\n",
    "npt1_path = output_dir / \"md\" / \"npt1.traj\"\n",
    "# trajectory for room temperature NPT simulation\n",
    "npt2_path = output_dir / \"md\" / \"npt2.traj\"\n",
    "# tensile simulation\n",
    "tensile_path = output_dir / \"md\" / \"tensile.traj\"\n",
    "# figure of sscurve\n",
    "ss_path = output_dir / \"figure\" / \"ss.png\"\n",
    "\n",
    "# make directories\n",
    "os.makedirs(output_dir / \"model\", exist_ok = True)\n",
    "os.makedirs(output_dir / \"md\", exist_ok = True)\n",
    "os.makedirs(output_dir / \"figure\", exist_ok = True)"
   ]
  },
  {
   "cell_type": "markdown",
   "id": "e1fc952a-44fb-4525-ae27-3fd2b1bcb3ac",
   "metadata": {
    "tags": []
   },
   "source": [
    "### 2-2. Generate Metal Slab Model with Vacuum Layer"
   ]
  },
  {
   "cell_type": "code",
   "execution_count": 4,
   "id": "972a45da-bc5d-40e4-bead-a46e0b4b987b",
   "metadata": {
    "tags": []
   },
   "outputs": [
    {
     "name": "stdout",
     "output_type": "stream",
     "text": [
      "Relaxation of bulk structure\n"
     ]
    },
    {
     "data": {
      "application/vnd.jupyter.widget-view+json": {
       "model_id": "64177b721028449091b82423038406b5",
       "version_major": 2,
       "version_minor": 0
      },
      "text/plain": [
       "  0%|          | 0/10001 [00:00<?, ?it/s]"
      ]
     },
     "metadata": {},
     "output_type": "display_data"
    }
   ],
   "source": [
    "# relax of the bulk structure\n",
    "print(\"Relaxation of bulk structure\")\n",
    "blk = bulk(\"Fe\", \"bcc\")\n",
    "blk.set_constraint([FixSymmetry(blk)])\n",
    "opt = LBFGSASEOptFeature(n_run = 10000, fmax = 0.01, filter=True,\n",
    "                         show_progress_bar=True, estimator_fn = estimator_fn)\n",
    "result_opt = opt(blk)\n",
    "\n",
    "# generate a slab model with a vacuum layer\n",
    "vacuum = 500\n",
    "slab = result_opt.atoms.ase_atoms.copy()\n",
    "slab.set_constraint([])\n",
    "# slab.set_constraint()\n",
    "slab = makesurface(slab, miller_indices=(1,0,0), layers=10, rep=[8,8,1], vacuum=vacuum)"
   ]
  },
  {
   "cell_type": "code",
   "execution_count": 5,
   "id": "beec0292-ea35-4b34-a618-61ee1495ddf4",
   "metadata": {
    "tags": []
   },
   "outputs": [
    {
     "name": "stdout",
     "output_type": "stream",
     "text": [
      "Relaxation of surface structure\n"
     ]
    },
    {
     "data": {
      "application/vnd.jupyter.widget-view+json": {
       "model_id": "683c1df4c0e244bd8e8c9b5ff1863b61",
       "version_major": 2,
       "version_minor": 0
      },
      "text/plain": [
       "  0%|          | 0/10001 [00:00<?, ?it/s]"
      ]
     },
     "metadata": {},
     "output_type": "display_data"
    },
    {
     "data": {
      "application/vnd.jupyter.widget-view+json": {
       "model_id": "25423cb1b907476fadd09b411b7c5703",
       "version_major": 2,
       "version_minor": 0
      },
      "text/plain": [
       "HBox(children=(NGLWidget(), VBox(children=(Dropdown(description='Show', options=('All', 'Fe'), value='All'), D…"
      ]
     },
     "metadata": {},
     "output_type": "display_data"
    }
   ],
   "source": [
    "# shift by the half width of layers\n",
    "atoms = slab.copy()\n",
    "# Sort atoms by their z-coordinate\n",
    "z_coordinates = [atom.position[2] for atom in atoms]\n",
    "unique_layers = np.unique(np.round(z_coordinates, decimals=3))\n",
    "layer_z_value = unique_layers[int(len(unique_layers) / 2)]\n",
    "atoms_in_layer = [atom for atom in slab if np.round(atom.position[2], decimals=3) == layer_z_value]\n",
    "z_coor = atoms_in_layer[0].position[2]\n",
    "slab_2 = slab.copy()\n",
    "slab_2.positions += [0,0,-z_coor]\n",
    "slab_2.wrap()\n",
    "\n",
    "# relaxation of surface structure\n",
    "print(\"Relaxation of surface structure\")\n",
    "indices = [atom.index for atom in slab_2 if atom.position[2] <= 3]  # fix below 3A\n",
    "slab_2.set_constraint(FixAtoms(indices))\n",
    "result_opt_2 = opt(slab_2)\n",
    "os.makedirs(\"output\", exist_ok=True)\n",
    "write(metal_opt_path, result_opt_2.atoms.ase_atoms, format='extxyz')\n",
    "\n",
    "# visualization\n",
    "v = view_ngl(result_opt_2.atoms.ase_atoms, representations=[\"ball+stick\"])\n",
    "v.view.control.spin([1,0,0], np.deg2rad(-90))\n",
    "display(v)"
   ]
  },
  {
   "cell_type": "markdown",
   "id": "46154a9e-50cc-4dfe-922b-5a3f6f59e733",
   "metadata": {
    "papermill": {
     "duration": 0.06948,
     "end_time": "2023-10-06T00:36:13.362966",
     "exception": false,
     "start_time": "2023-10-06T00:36:13.293486",
     "status": "completed"
    },
    "tags": []
   },
   "source": [
    "### 2-3. Insert Resin"
   ]
  },
  {
   "cell_type": "code",
   "execution_count": 6,
   "id": "e3701618-fa90-4fe3-bfd2-0fdc4ba8aa4a",
   "metadata": {
    "tags": []
   },
   "outputs": [
    {
     "name": "stdout",
     "output_type": "stream",
     "text": [
      "Relaxation of resin\n"
     ]
    },
    {
     "data": {
      "application/vnd.jupyter.widget-view+json": {
       "model_id": "fc550611a7b140bcb026634f6d2d3b9c",
       "version_major": 2,
       "version_minor": 0
      },
      "text/plain": [
       "  0%|          | 0/10001 [00:00<?, ?it/s]"
      ]
     },
     "metadata": {},
     "output_type": "display_data"
    },
    {
     "data": {
      "application/vnd.jupyter.widget-view+json": {
       "model_id": "5f9c0591167844eeaf410a3803749f32",
       "version_major": 2,
       "version_minor": 0
      },
      "text/plain": [
       "HBox(children=(NGLWidget(), VBox(children=(Dropdown(description='Show', options=('All', 'H', 'O', 'C'), value=…"
      ]
     },
     "execution_count": 6,
     "metadata": {},
     "output_type": "execute_result"
    }
   ],
   "source": [
    "atoms_organic = read(resin_path)\n",
    "\n",
    "print(\"Relaxation of resin\")\n",
    "opt = LBFGSASEOptFeature(n_run = 10000, fmax = 0.01, filter=False,\n",
    "                         show_progress_bar=True, estimator_fn = estimator_fn)\n",
    "result_opt_organic = opt(atoms_organic)\n",
    "write(resin_opt_path, result_opt_organic.atoms.ase_atoms, format='xyz')\n",
    "\n",
    "view_ngl(result_opt_organic.atoms.ase_atoms)"
   ]
  },
  {
   "cell_type": "code",
   "execution_count": 7,
   "id": "5b25c358-632b-47bb-94a3-4e6e2c24d27d",
   "metadata": {
    "papermill": {
     "duration": 0.111128,
     "end_time": "2023-10-06T00:36:13.545975",
     "exception": false,
     "start_time": "2023-10-06T00:36:13.434847",
     "status": "completed"
    },
    "tags": []
   },
   "outputs": [
    {
     "name": "stdout",
     "output_type": "stream",
     "text": [
      "liquid phase initial density = 0.093 g/cm3\n",
      "slab + resin atoms = 2336\n",
      "No_of_atoms = 852 , including slab 640 atoms\n",
      "No_of_atoms = 1064 , including slab 640 atoms\n",
      "No_of_atoms = 1276 , including slab 640 atoms\n",
      "No_of_atoms = 1488 , including slab 640 atoms\n",
      "No_of_atoms = 1700 , including slab 640 atoms\n",
      "No_of_atoms = 1912 , including slab 640 atoms\n",
      "No_of_atoms = 2124 , including slab 640 atoms\n",
      "No_of_atoms = 2336 , including slab 640 atoms\n"
     ]
    }
   ],
   "source": [
    "# generate a vacuum cell same with the vacuum laer\n",
    "empty_cell = slab_2.copy()\n",
    "slab_height = empty_cell.cell.cellpar()[2] - vacuum\n",
    "slabatoms = len(empty_cell)\n",
    "cellsize = empty_cell.cell.cellpar()[:3]\n",
    "cellsize[2] = vacuum\n",
    "\n",
    "vacuum_cell = Atoms(symbols=\"\", \n",
    "                  pbc=True, \n",
    "                  cell=cellsize)\n",
    "\n",
    "NoAtoms0=len(atoms_organic)\n",
    "\n",
    "# confirm the density and number of atoms packing molecule\n",
    "target_density = 0.10 # unit = g/cm3\n",
    "sum_mass = atoms_organic.get_masses().sum()\n",
    "sum_atoms = len(atoms_organic)\n",
    "vac_vol = vacuum_cell.get_volume()*(1e-8)**3 # as cm3\n",
    "d0 = sum_mass / units.mol / vac_vol # density estimation packing molecules\n",
    "mlp = int(np.floor(target_density / d0)) # estimate how many molecules are packed\n",
    "t_atoms = NoAtoms0 * mlp + slabatoms\n",
    "print (\"liquid phase initial density =\", np.round(d0*mlp, 3), \"g/cm3\")\n",
    "print (\"slab + resin atoms =\", t_atoms)\n",
    "\n",
    "# fill resin in the vacuum layer\n",
    "target_atoms = t_atoms    \n",
    "vac_vol = empty_cell.get_volume()*(1e-8)**3 # as cm3\n",
    "\n",
    "filled_cell = empty_cell.copy()\n",
    "No_atoms, n = 0, 0\n",
    "while No_atoms < target_atoms:\n",
    "    # determine the posiiton of inserted molecule randomly\n",
    "    ranx = random.uniform(0,1)\n",
    "    rany = random.uniform(0,1)\n",
    "    ranz = random.uniform(0.04,0.96)                           # remove the range of slab\n",
    "    xyz_position=np.matmul([ranx,rany,ranz], filled_cell.cell)\n",
    "    # determine the rotational angle of molecule\n",
    "    phi, theta, psi = Rotation.random().as_euler('zxz', degrees=True)\n",
    "    \n",
    "    # translation and rotation of molecule\n",
    "    # molNo = n\n",
    "    # m = mol_list[molNo]\n",
    "    m = result_opt_organic.atoms.ase_atoms\n",
    "    m1 = m.copy()\n",
    "    m1.euler_rotate(phi=phi, theta=theta, psi=psi)\n",
    "    m1.positions += xyz_position\n",
    "    \n",
    "    # insert molecule if the maximum force is below a threathold\n",
    "    Fcheck = filled_cell + m1\n",
    "    Fcheck.calc = get_calculator(estimator_fn)\n",
    "    if (np.sum(Fcheck.get_forces()**2, axis=1)**0.5).max() <= 100:\n",
    "        filled_cell = filled_cell + m1\n",
    "        n+=1\n",
    "        No_atoms = len(filled_cell)\n",
    "        print(\"No_of_atoms =\", No_atoms, \", including slab\", len(empty_cell), \"atoms\")    \n",
    "    else:\n",
    "        n+=0\n",
    "\n",
    "assert mlp == n"
   ]
  },
  {
   "cell_type": "code",
   "execution_count": 8,
   "id": "d0a5b496-3188-4e96-9b31-5477427c01f9",
   "metadata": {
    "tags": []
   },
   "outputs": [
    {
     "data": {
      "application/vnd.jupyter.widget-view+json": {
       "model_id": "7bda96a9d9a94b09b639a0612d8f6275",
       "version_major": 2,
       "version_minor": 0
      },
      "text/plain": [
       "  0%|          | 0/10001 [00:00<?, ?it/s]"
      ]
     },
     "metadata": {},
     "output_type": "display_data"
    },
    {
     "name": "stderr",
     "output_type": "stream",
     "text": [
      "/home/jovyan/.py38/lib/python3.8/site-packages/ase/io/extxyz.py:1000: UserWarning: write_xyz() overwriting array \"forces\" present in atoms.arrays with stored results from calculator\n",
      "  warnings.warn('write_xyz() overwriting array \"{0}\" present '\n"
     ]
    },
    {
     "data": {
      "application/vnd.jupyter.widget-view+json": {
       "model_id": "0b68d885ef8b46cea8502b6b4c9d4aec",
       "version_major": 2,
       "version_minor": 0
      },
      "text/plain": [
       "HBox(children=(NGLWidget(), VBox(children=(Dropdown(description='Show', options=('All', 'C', 'H', 'O', 'Fe'), …"
      ]
     },
     "metadata": {},
     "output_type": "display_data"
    }
   ],
   "source": [
    "# optimize the filled structure\n",
    "indices = [atom.index for atom in filled_cell if atom.position[2] <= 3.0]\n",
    "c = FixAtoms(indices)\n",
    "filled_cell.set_constraint(c)\n",
    "\n",
    "opt = LBFGSASEOptFeature(n_run = 10000, fmax = 0.1, filter=True,\n",
    "                         show_progress_bar=True, estimator_fn = estimator_fn)\n",
    "result_opt_filled = opt(filled_cell)\n",
    "\n",
    "# save the optimized structure\n",
    "result_opt_filled.atoms.ase_atoms.set_initial_charges()\n",
    "write(slab_opt_path, result_opt_filled.atoms.ase_atoms, format='extxyz')\n",
    "\n",
    "# visualization\n",
    "v = view_ngl(result_opt_filled.atoms.ase_atoms, representations=[\"ball+stick\"])\n",
    "v.view.control.spin([1,0,0], np.deg2rad(-90))\n",
    "display(v)"
   ]
  },
  {
   "cell_type": "markdown",
   "id": "d2504eab-a424-43dd-93a6-f54d7529db86",
   "metadata": {
    "papermill": {
     "duration": 0.070666,
     "end_time": "2023-10-06T00:36:13.885383",
     "exception": false,
     "start_time": "2023-10-06T00:36:13.814717",
     "status": "completed"
    },
    "tags": []
   },
   "source": [
    "### 2-4. Compression Along the Z-Axis"
   ]
  },
  {
   "cell_type": "code",
   "execution_count": 9,
   "id": "0a772a28-d289-48ad-b521-8c8e40d1efa8",
   "metadata": {
    "papermill": {
     "duration": 35231.267257,
     "end_time": "2023-10-06T10:23:25.227464",
     "exception": false,
     "start_time": "2023-10-06T00:36:13.960207",
     "status": "completed"
    },
    "tags": []
   },
   "outputs": [
    {
     "name": "stderr",
     "output_type": "stream",
     "text": [
      "The MD trajectory will be saved at /home/jovyan/work/2023/sscurve/contrib/output_en/md/npt1.traj.\n",
      "Note: The max disk size of /home/jovyan is about 99G.\n",
      "WARNING: NPT: Setting the center-of-mass momentum to zero (was 70.5044 -20.214 31.869)\n",
      "/home/jovyan/.py38/lib/python3.8/site-packages/ase/utils/__init__.py:62: FutureWarning: Please use atoms.cell.cellpar() instead\n",
      "  warnings.warn(warning)\n"
     ]
    },
    {
     "name": "stdout",
     "output_type": "stream",
     "text": [
      "Dyn step    0 a 19.45 b 19.45 c 517.89 alpha 90.00 beta 90.00 gamma 109.49 \n",
      "Dyn step 1000 a 19.45 b 19.45 c 506.59 alpha 90.00 beta 90.00 gamma 109.49 \n",
      "Dyn step 2000 a 19.45 b 19.45 c 473.00 alpha 90.00 beta 90.00 gamma 109.49 \n",
      "Dyn step 3000 a 19.45 b 19.45 c 423.41 alpha 90.00 beta 90.00 gamma 109.49 \n",
      "Dyn step 4000 a 19.45 b 19.45 c 365.13 alpha 90.00 beta 90.00 gamma 109.49 \n",
      "Dyn step 5000 a 19.45 b 19.45 c 305.13 alpha 90.00 beta 90.00 gamma 109.49 \n",
      "Dyn step 6000 a 19.45 b 19.45 c 248.63 alpha 90.00 beta 90.00 gamma 109.49 \n",
      "Dyn step 7000 a 19.45 b 19.45 c 198.45 alpha 90.00 beta 90.00 gamma 109.49 \n",
      "Dyn step 8000 a 19.45 b 19.45 c 156.26 alpha 90.00 beta 90.00 gamma 109.49 \n",
      "Dyn step 9000 a 19.45 b 19.45 c 122.12 alpha 90.00 beta 90.00 gamma 109.49 \n",
      "Dyn step 10000 a 19.45 b 19.45 c 96.55 alpha 90.00 beta 90.00 gamma 109.49 \n",
      "Dyn step 11000 a 19.45 b 19.45 c 80.15 alpha 90.00 beta 90.00 gamma 109.49 \n",
      "Dyn step 12000 a 19.45 b 19.45 c 69.31 alpha 90.00 beta 90.00 gamma 109.49 \n",
      "Dyn step 13000 a 19.45 b 19.45 c 63.86 alpha 90.00 beta 90.00 gamma 109.49 \n",
      "Dyn step 14000 a 19.45 b 19.45 c 63.34 alpha 90.00 beta 90.00 gamma 109.49 \n",
      "Dyn step 15000 a 19.45 b 19.45 c 66.33 alpha 90.00 beta 90.00 gamma 109.49 \n",
      "Dyn step 16000 a 19.45 b 19.45 c 71.03 alpha 90.00 beta 90.00 gamma 109.49 \n",
      "Dyn step 17000 a 19.45 b 19.45 c 76.15 alpha 90.00 beta 90.00 gamma 109.49 \n",
      "Dyn step 18000 a 19.45 b 19.45 c 80.91 alpha 90.00 beta 90.00 gamma 109.49 \n",
      "Dyn step 19000 a 19.45 b 19.45 c 85.03 alpha 90.00 beta 90.00 gamma 109.49 \n",
      "Dyn step 20000 a 19.45 b 19.45 c 88.25 alpha 90.00 beta 90.00 gamma 109.49 \n",
      "Dyn step 21000 a 19.45 b 19.45 c 90.27 alpha 90.00 beta 90.00 gamma 109.49 \n",
      "Dyn step 22000 a 19.45 b 19.45 c 91.36 alpha 90.00 beta 90.00 gamma 109.49 \n",
      "Dyn step 23000 a 19.45 b 19.45 c 91.35 alpha 90.00 beta 90.00 gamma 109.49 \n",
      "Dyn step 24000 a 19.45 b 19.45 c 90.59 alpha 90.00 beta 90.00 gamma 109.49 \n",
      "Dyn step 25000 a 19.45 b 19.45 c 89.19 alpha 90.00 beta 90.00 gamma 109.49 \n",
      "Dyn step 26000 a 19.45 b 19.45 c 86.86 alpha 90.00 beta 90.00 gamma 109.49 \n",
      "Dyn step 27000 a 19.45 b 19.45 c 83.83 alpha 90.00 beta 90.00 gamma 109.49 \n",
      "Dyn step 28000 a 19.45 b 19.45 c 80.39 alpha 90.00 beta 90.00 gamma 109.49 \n",
      "Dyn step 29000 a 19.45 b 19.45 c 76.57 alpha 90.00 beta 90.00 gamma 109.49 \n",
      "Dyn step 30000 a 19.45 b 19.45 c 72.82 alpha 90.00 beta 90.00 gamma 109.49 \n",
      "Dyn step 31000 a 19.45 b 19.45 c 69.40 alpha 90.00 beta 90.00 gamma 109.49 \n",
      "Dyn step 32000 a 19.45 b 19.45 c 66.90 alpha 90.00 beta 90.00 gamma 109.49 \n",
      "Dyn step 33000 a 19.45 b 19.45 c 65.95 alpha 90.00 beta 90.00 gamma 109.49 \n",
      "Dyn step 34000 a 19.45 b 19.45 c 66.35 alpha 90.00 beta 90.00 gamma 109.49 \n",
      "Dyn step 35000 a 19.45 b 19.45 c 67.88 alpha 90.00 beta 90.00 gamma 109.49 \n",
      "Dyn step 36000 a 19.45 b 19.45 c 69.89 alpha 90.00 beta 90.00 gamma 109.49 \n",
      "Dyn step 37000 a 19.45 b 19.45 c 71.98 alpha 90.00 beta 90.00 gamma 109.49 \n",
      "Dyn step 38000 a 19.45 b 19.45 c 73.59 alpha 90.00 beta 90.00 gamma 109.49 \n",
      "Dyn step 39000 a 19.45 b 19.45 c 74.64 alpha 90.00 beta 90.00 gamma 109.49 \n",
      "Dyn step 40000 a 19.45 b 19.45 c 75.34 alpha 90.00 beta 90.00 gamma 109.49 \n",
      "Dyn step 41000 a 19.45 b 19.45 c 75.55 alpha 90.00 beta 90.00 gamma 109.49 \n",
      "Dyn step 42000 a 19.45 b 19.45 c 75.16 alpha 90.00 beta 90.00 gamma 109.49 \n",
      "Dyn step 43000 a 19.45 b 19.45 c 74.21 alpha 90.00 beta 90.00 gamma 109.49 \n",
      "Dyn step 44000 a 19.45 b 19.45 c 72.90 alpha 90.00 beta 90.00 gamma 109.49 \n",
      "Dyn step 45000 a 19.45 b 19.45 c 71.49 alpha 90.00 beta 90.00 gamma 109.49 \n",
      "Dyn step 46000 a 19.45 b 19.45 c 70.23 alpha 90.00 beta 90.00 gamma 109.49 \n",
      "Dyn step 47000 a 19.45 b 19.45 c 69.13 alpha 90.00 beta 90.00 gamma 109.49 \n",
      "Dyn step 48000 a 19.45 b 19.45 c 68.57 alpha 90.00 beta 90.00 gamma 109.49 \n",
      "Dyn step 49000 a 19.45 b 19.45 c 68.76 alpha 90.00 beta 90.00 gamma 109.49 \n",
      "Dyn step 50000 a 19.45 b 19.45 c 69.34 alpha 90.00 beta 90.00 gamma 109.49 \n",
      "Dyn step 51000 a 19.45 b 19.45 c 70.04 alpha 90.00 beta 90.00 gamma 109.49 \n",
      "Dyn step 52000 a 19.45 b 19.45 c 70.42 alpha 90.00 beta 90.00 gamma 109.49 \n",
      "Dyn step 53000 a 19.45 b 19.45 c 70.73 alpha 90.00 beta 90.00 gamma 109.49 \n",
      "Dyn step 54000 a 19.45 b 19.45 c 70.85 alpha 90.00 beta 90.00 gamma 109.49 \n",
      "Dyn step 55000 a 19.45 b 19.45 c 70.84 alpha 90.00 beta 90.00 gamma 109.49 \n",
      "Dyn step 56000 a 19.45 b 19.45 c 70.72 alpha 90.00 beta 90.00 gamma 109.49 \n",
      "Dyn step 57000 a 19.45 b 19.45 c 70.37 alpha 90.00 beta 90.00 gamma 109.49 \n",
      "Dyn step 58000 a 19.45 b 19.45 c 69.97 alpha 90.00 beta 90.00 gamma 109.49 \n",
      "Dyn step 59000 a 19.45 b 19.45 c 69.65 alpha 90.00 beta 90.00 gamma 109.49 \n",
      "Dyn step 60000 a 19.45 b 19.45 c 69.50 alpha 90.00 beta 90.00 gamma 109.49 \n",
      "Dyn step 61000 a 19.45 b 19.45 c 69.60 alpha 90.00 beta 90.00 gamma 109.49 \n",
      "Dyn step 62000 a 19.45 b 19.45 c 69.79 alpha 90.00 beta 90.00 gamma 109.49 \n",
      "Dyn step 63000 a 19.45 b 19.45 c 69.87 alpha 90.00 beta 90.00 gamma 109.49 \n",
      "Dyn step 64000 a 19.45 b 19.45 c 70.20 alpha 90.00 beta 90.00 gamma 109.49 \n",
      "Dyn step 65000 a 19.45 b 19.45 c 70.66 alpha 90.00 beta 90.00 gamma 109.49 \n",
      "Dyn step 66000 a 19.45 b 19.45 c 71.18 alpha 90.00 beta 90.00 gamma 109.49 \n",
      "Dyn step 67000 a 19.45 b 19.45 c 71.42 alpha 90.00 beta 90.00 gamma 109.49 \n",
      "Dyn step 68000 a 19.45 b 19.45 c 71.62 alpha 90.00 beta 90.00 gamma 109.49 \n",
      "Dyn step 69000 a 19.45 b 19.45 c 71.41 alpha 90.00 beta 90.00 gamma 109.49 \n",
      "Dyn step 70000 a 19.45 b 19.45 c 70.93 alpha 90.00 beta 90.00 gamma 109.49 \n",
      "Dyn step 71000 a 19.45 b 19.45 c 70.28 alpha 90.00 beta 90.00 gamma 109.49 \n",
      "Dyn step 72000 a 19.45 b 19.45 c 69.45 alpha 90.00 beta 90.00 gamma 109.49 \n",
      "Dyn step 73000 a 19.45 b 19.45 c 68.74 alpha 90.00 beta 90.00 gamma 109.49 \n",
      "Dyn step 74000 a 19.45 b 19.45 c 68.53 alpha 90.00 beta 90.00 gamma 109.49 \n",
      "Dyn step 75000 a 19.45 b 19.45 c 68.69 alpha 90.00 beta 90.00 gamma 109.49 \n"
     ]
    },
    {
     "data": {
      "text/plain": [
       "MDFeatureResult(traj_path=PosixPath('/home/jovyan/work/2023/sscurve/contrib/output_en/md/npt1.traj'), checkpoint_path='/tmp/matlantis_rp0s3d_m/tmpk31fbw2w.chkp', temp_dir=<TemporaryDirectory '/tmp/matlantis_rp0s3d_m'>)"
      ]
     },
     "execution_count": 9,
     "metadata": {},
     "output_type": "execute_result"
    }
   ],
   "source": [
    "ase_atoms =read(slab_opt_path)\n",
    "indices = [atom.index for atom in ase_atoms if atom.position[2] <= 3]\n",
    "c = FixAtoms(indices)\n",
    "ase_atoms.set_constraint(c)\n",
    "\n",
    "atoms = MatlantisAtoms.from_ase_atoms(ase_atoms)\n",
    "atoms.rotate_atoms_to_upper()\n",
    "\n",
    "# NPT\n",
    "t_step = 1     # as fs\n",
    "press = 0.000101325 * 1000 # as GPa 1000times larger than atomspheric pressure\n",
    "temperature = 473.0\n",
    "\n",
    "system = ASEMDSystem(atoms)\n",
    "system.init_temperature(temperature)\n",
    "\n",
    "integrator = NPTIntegrator(timestep=t_step,\n",
    "                           temperature=temperature,\n",
    "                           pressure=press * units.GPa,\n",
    "                           ttime=20*units.fs,\n",
    "                           pfactor=2e6*units.GPa*(units.fs**2),\n",
    "                           mask=np.array([[0,0,0], [0,0,0], [0,0,1]]))\n",
    "\n",
    "info = PrintCellShape()\n",
    "\n",
    "md = MDFeature(integrator, n_run=75000, traj_file_name=npt1_path,\n",
    "               traj_freq=100, estimator_fn = estimator_fn)\n",
    "\n",
    "md(system, extensions=[(info, 1000)])"
   ]
  },
  {
   "cell_type": "code",
   "execution_count": 10,
   "id": "f9f0965c-b357-44c5-871a-878ed512796f",
   "metadata": {
    "papermill": {
     "duration": 0.137129,
     "end_time": "2023-10-06T10:23:25.523847",
     "exception": false,
     "start_time": "2023-10-06T10:23:25.386718",
     "status": "completed"
    },
    "tags": []
   },
   "outputs": [
    {
     "data": {
      "image/png": "[encoded data removed]",
      "text/plain": [
       "<Figure size 640x480 with 1 Axes>"
      ]
     },
     "metadata": {},
     "output_type": "display_data"
    },
    {
     "data": {
      "application/vnd.jupyter.widget-view+json": {
       "model_id": "f1e1cbaec8c641dfa58c1dd2ae7f5858",
       "version_major": 2,
       "version_minor": 0
      },
      "text/plain": [
       "HBox(children=(NGLWidget(), VBox(children=(Dropdown(description='Show', options=('All', 'C', 'H', 'O', 'Fe'), …"
      ]
     },
     "metadata": {},
     "output_type": "display_data"
    }
   ],
   "source": [
    "# check the change of the length of c-axis and final structure \n",
    "traj = read(npt1_path, \"::1\")\n",
    "\n",
    "c_length = [atoms.cell.cellpar()[2] for atoms in traj]\n",
    "plt.plot(c_length)\n",
    "plt.ylabel(\"c-axis (Å)\")\n",
    "plt.xlabel(\"MD steps (×100)\")\n",
    "plt.show()\n",
    "\n",
    "v = view_ngl(traj[-1], representations=[\"ball+stick\"])\n",
    "v.view.control.spin([1,0,0], np.deg2rad(-90))\n",
    "display(v)"
   ]
  },
  {
   "cell_type": "markdown",
   "id": "9f478f57-835f-4804-b4a2-9401b6e13081",
   "metadata": {
    "papermill": {
     "duration": 0.165059,
     "end_time": "2023-10-06T10:23:25.849552",
     "exception": false,
     "start_time": "2023-10-06T10:23:25.684493",
     "status": "completed"
    },
    "tags": []
   },
   "source": [
    "## 3. Equilibration at Room Temperature"
   ]
  },
  {
   "cell_type": "code",
   "execution_count": 11,
   "id": "050c5f9d-6dea-4559-bc78-fc45b42b1af1",
   "metadata": {
    "papermill": {
     "duration": 19725.456615,
     "end_time": "2023-10-06T15:52:11.442237",
     "exception": false,
     "start_time": "2023-10-06T10:23:25.985622",
     "status": "completed"
    },
    "scrolled": true,
    "tags": []
   },
   "outputs": [
    {
     "name": "stderr",
     "output_type": "stream",
     "text": [
      "The MD trajectory will be saved at /home/jovyan/work/2023/sscurve/contrib/output_en/md/npt2.traj.\n",
      "Note: The max disk size of /home/jovyan is about 99G.\n",
      "WARNING: NPT: Setting the center-of-mass momentum to zero (was -27.2417 23.7933 0.642675)\n",
      "/home/jovyan/.py38/lib/python3.8/site-packages/ase/utils/__init__.py:62: FutureWarning: Please use atoms.cell.cellpar() instead\n",
      "  warnings.warn(warning)\n"
     ]
    },
    {
     "name": "stdout",
     "output_type": "stream",
     "text": [
      "Dyn step    0 a 19.45 b 19.45 c 68.69 alpha 90.00 beta 90.00 gamma 109.49 \n",
      "Dyn step 1000 a 19.45 b 19.45 c 68.62 alpha 90.00 beta 90.00 gamma 109.49 \n",
      "Dyn step 2000 a 19.45 b 19.45 c 68.59 alpha 90.00 beta 90.00 gamma 109.49 \n",
      "Dyn step 3000 a 19.45 b 19.45 c 68.65 alpha 90.00 beta 90.00 gamma 109.49 \n",
      "Dyn step 4000 a 19.45 b 19.45 c 68.20 alpha 90.00 beta 90.00 gamma 109.49 \n",
      "Dyn step 5000 a 19.45 b 19.45 c 68.60 alpha 90.00 beta 90.00 gamma 109.49 \n",
      "Dyn step 6000 a 19.45 b 19.45 c 68.88 alpha 90.00 beta 90.00 gamma 109.49 \n",
      "Dyn step 7000 a 19.45 b 19.45 c 68.84 alpha 90.00 beta 90.00 gamma 109.49 \n",
      "Dyn step 8000 a 19.45 b 19.45 c 68.06 alpha 90.00 beta 90.00 gamma 109.49 \n",
      "Dyn step 9000 a 19.45 b 19.45 c 67.47 alpha 90.00 beta 90.00 gamma 109.49 \n",
      "Dyn step 10000 a 19.45 b 19.45 c 67.90 alpha 90.00 beta 90.00 gamma 109.49 \n",
      "Dyn step 11000 a 19.45 b 19.45 c 69.00 alpha 90.00 beta 90.00 gamma 109.49 \n",
      "Dyn step 12000 a 19.45 b 19.45 c 69.32 alpha 90.00 beta 90.00 gamma 109.49 \n",
      "Dyn step 13000 a 19.45 b 19.45 c 68.04 alpha 90.00 beta 90.00 gamma 109.49 \n",
      "Dyn step 14000 a 19.45 b 19.45 c 67.11 alpha 90.00 beta 90.00 gamma 109.49 \n",
      "Dyn step 15000 a 19.45 b 19.45 c 67.57 alpha 90.00 beta 90.00 gamma 109.49 \n",
      "Dyn step 16000 a 19.45 b 19.45 c 68.61 alpha 90.00 beta 90.00 gamma 109.49 \n",
      "Dyn step 17000 a 19.45 b 19.45 c 68.10 alpha 90.00 beta 90.00 gamma 109.49 \n",
      "Dyn step 18000 a 19.45 b 19.45 c 67.83 alpha 90.00 beta 90.00 gamma 109.49 \n",
      "Dyn step 19000 a 19.45 b 19.45 c 68.06 alpha 90.00 beta 90.00 gamma 109.49 \n",
      "Dyn step 20000 a 19.45 b 19.45 c 67.87 alpha 90.00 beta 90.00 gamma 109.49 \n",
      "Dyn step 21000 a 19.45 b 19.45 c 67.93 alpha 90.00 beta 90.00 gamma 109.49 \n",
      "Dyn step 22000 a 19.45 b 19.45 c 68.48 alpha 90.00 beta 90.00 gamma 109.49 \n",
      "Dyn step 23000 a 19.45 b 19.45 c 68.24 alpha 90.00 beta 90.00 gamma 109.49 \n",
      "Dyn step 24000 a 19.45 b 19.45 c 67.87 alpha 90.00 beta 90.00 gamma 109.49 \n",
      "Dyn step 25000 a 19.45 b 19.45 c 68.04 alpha 90.00 beta 90.00 gamma 109.49 \n",
      "Dyn step 26000 a 19.45 b 19.45 c 68.78 alpha 90.00 beta 90.00 gamma 109.49 \n",
      "Dyn step 27000 a 19.45 b 19.45 c 68.46 alpha 90.00 beta 90.00 gamma 109.49 \n",
      "Dyn step 28000 a 19.45 b 19.45 c 68.06 alpha 90.00 beta 90.00 gamma 109.49 \n",
      "Dyn step 29000 a 19.45 b 19.45 c 67.88 alpha 90.00 beta 90.00 gamma 109.49 \n",
      "Dyn step 30000 a 19.45 b 19.45 c 67.65 alpha 90.00 beta 90.00 gamma 109.49 \n",
      "Dyn step 31000 a 19.45 b 19.45 c 68.01 alpha 90.00 beta 90.00 gamma 109.49 \n",
      "Dyn step 32000 a 19.45 b 19.45 c 67.83 alpha 90.00 beta 90.00 gamma 109.49 \n",
      "Dyn step 33000 a 19.45 b 19.45 c 67.97 alpha 90.00 beta 90.00 gamma 109.49 \n",
      "Dyn step 34000 a 19.45 b 19.45 c 68.38 alpha 90.00 beta 90.00 gamma 109.49 \n",
      "Dyn step 35000 a 19.45 b 19.45 c 68.11 alpha 90.00 beta 90.00 gamma 109.49 \n",
      "Dyn step 36000 a 19.45 b 19.45 c 67.78 alpha 90.00 beta 90.00 gamma 109.49 \n",
      "Dyn step 37000 a 19.45 b 19.45 c 68.10 alpha 90.00 beta 90.00 gamma 109.49 \n",
      "Dyn step 38000 a 19.45 b 19.45 c 68.27 alpha 90.00 beta 90.00 gamma 109.49 \n",
      "Dyn step 39000 a 19.45 b 19.45 c 68.01 alpha 90.00 beta 90.00 gamma 109.49 \n",
      "Dyn step 40000 a 19.45 b 19.45 c 68.44 alpha 90.00 beta 90.00 gamma 109.49 \n",
      "Dyn step 41000 a 19.45 b 19.45 c 68.67 alpha 90.00 beta 90.00 gamma 109.49 \n",
      "Dyn step 42000 a 19.45 b 19.45 c 68.78 alpha 90.00 beta 90.00 gamma 109.49 \n",
      "Dyn step 43000 a 19.45 b 19.45 c 68.53 alpha 90.00 beta 90.00 gamma 109.49 \n",
      "Dyn step 44000 a 19.45 b 19.45 c 67.94 alpha 90.00 beta 90.00 gamma 109.49 \n",
      "Dyn step 45000 a 19.45 b 19.45 c 67.46 alpha 90.00 beta 90.00 gamma 109.49 \n",
      "Dyn step 46000 a 19.45 b 19.45 c 67.02 alpha 90.00 beta 90.00 gamma 109.49 \n",
      "Dyn step 47000 a 19.45 b 19.45 c 66.93 alpha 90.00 beta 90.00 gamma 109.49 \n",
      "Dyn step 48000 a 19.45 b 19.45 c 67.23 alpha 90.00 beta 90.00 gamma 109.49 \n",
      "Dyn step 49000 a 19.45 b 19.45 c 67.75 alpha 90.00 beta 90.00 gamma 109.49 \n",
      "Dyn step 50000 a 19.45 b 19.45 c 67.36 alpha 90.00 beta 90.00 gamma 109.49 \n"
     ]
    },
    {
     "data": {
      "text/plain": [
       "MDFeatureResult(traj_path=PosixPath('/home/jovyan/work/2023/sscurve/contrib/output_en/md/npt2.traj'), checkpoint_path='/tmp/matlantis_jrh5t2pj/tmpmpag1bc8.chkp', temp_dir=<TemporaryDirectory '/tmp/matlantis_jrh5t2pj'>)"
      ]
     },
     "execution_count": 11,
     "metadata": {},
     "output_type": "execute_result"
    }
   ],
   "source": [
    "ase_atoms = read(npt1_path, \"-1\")\n",
    "atoms = MatlantisAtoms.from_ase_atoms(ase_atoms)\n",
    "atoms.rotate_atoms_to_upper()\n",
    "\n",
    "# NPT\n",
    "t_step = 1     # as fs\n",
    "temperature = 300.0\n",
    "\n",
    "system = ASEMDSystem(atoms)\n",
    "system.init_temperature(temperature)\n",
    "\n",
    "integrator = NPTIntegrator(timestep=1.0,\n",
    "                           temperature=temperature,\n",
    "                           pressure=units.bar,\n",
    "                           ttime=20*units.fs,\n",
    "                           pfactor=2e6*units.GPa*(units.fs**2),\n",
    "                           mask=np.array([[0,0,0], [0,0,0], [0,0,1]]))\n",
    "\n",
    "info = PrintCellShape()\n",
    "\n",
    "md = MDFeature(integrator, n_run=50000, traj_file_name=npt2_path,\n",
    "               traj_freq=100, estimator_fn = estimator_fn)\n",
    "md(system, extensions=[(info, 1000)])"
   ]
  },
  {
   "cell_type": "markdown",
   "id": "67333203-8340-4160-9a87-bf08b80c8548",
   "metadata": {
    "papermill": {
     "duration": 0.150492,
     "end_time": "2023-10-06T15:52:11.729354",
     "exception": false,
     "start_time": "2023-10-06T15:52:11.578862",
     "status": "completed"
    },
    "tags": []
   },
   "source": [
    "## 4. Tensile Simulation"
   ]
  },
  {
   "cell_type": "code",
   "execution_count": 12,
   "id": "fcf41f57-be1a-48e2-a583-155bcaf1f508",
   "metadata": {
    "papermill": {
     "duration": 32781.082997,
     "end_time": "2023-10-07T00:58:32.934426",
     "exception": false,
     "start_time": "2023-10-06T15:52:11.851429",
     "status": "completed"
    },
    "tags": []
   },
   "outputs": [
    {
     "name": "stderr",
     "output_type": "stream",
     "text": [
      "The MD trajectory will be saved at /home/jovyan/work/2023/sscurve/contrib/output_en/md/tensile.traj.\n",
      "Note: The max disk size of /home/jovyan is about 99G.\n",
      "/home/jovyan/.py38/lib/python3.8/site-packages/ase/utils/__init__.py:62: FutureWarning: Please use atoms.cell.cellpar() instead\n",
      "  warnings.warn(warning)\n"
     ]
    },
    {
     "name": "stdout",
     "output_type": "stream",
     "text": [
      "Dyn step    0 a 19.45 b 19.45 c 67.36 alpha 90.00 beta 90.00 gamma 109.49 \n",
      "Dyn step 1000 a 19.45 b 19.45 c 68.03 alpha 90.00 beta 90.00 gamma 109.49 \n",
      "Dyn step 2000 a 19.45 b 19.45 c 68.70 alpha 90.00 beta 90.00 gamma 109.49 \n",
      "Dyn step 3000 a 19.45 b 19.45 c 69.38 alpha 90.00 beta 90.00 gamma 109.49 \n",
      "Dyn step 4000 a 19.45 b 19.45 c 70.05 alpha 90.00 beta 90.00 gamma 109.49 \n",
      "Dyn step 5000 a 19.45 b 19.45 c 70.73 alpha 90.00 beta 90.00 gamma 109.49 \n",
      "Dyn step 6000 a 19.45 b 19.45 c 71.40 alpha 90.00 beta 90.00 gamma 109.49 \n",
      "Dyn step 7000 a 19.45 b 19.45 c 72.07 alpha 90.00 beta 90.00 gamma 109.49 \n",
      "Dyn step 8000 a 19.45 b 19.45 c 72.75 alpha 90.00 beta 90.00 gamma 109.49 \n",
      "Dyn step 9000 a 19.45 b 19.45 c 73.42 alpha 90.00 beta 90.00 gamma 109.49 \n",
      "Dyn step 10000 a 19.45 b 19.45 c 74.09 alpha 90.00 beta 90.00 gamma 109.49 \n",
      "Dyn step 11000 a 19.45 b 19.45 c 74.77 alpha 90.00 beta 90.00 gamma 109.49 \n",
      "Dyn step 12000 a 19.45 b 19.45 c 75.44 alpha 90.00 beta 90.00 gamma 109.49 \n",
      "Dyn step 13000 a 19.45 b 19.45 c 76.11 alpha 90.00 beta 90.00 gamma 109.49 \n",
      "Dyn step 14000 a 19.45 b 19.45 c 76.79 alpha 90.00 beta 90.00 gamma 109.49 \n",
      "Dyn step 15000 a 19.45 b 19.45 c 77.46 alpha 90.00 beta 90.00 gamma 109.49 \n",
      "Dyn step 16000 a 19.45 b 19.45 c 78.14 alpha 90.00 beta 90.00 gamma 109.49 \n",
      "Dyn step 17000 a 19.45 b 19.45 c 78.81 alpha 90.00 beta 90.00 gamma 109.49 \n",
      "Dyn step 18000 a 19.45 b 19.45 c 79.48 alpha 90.00 beta 90.00 gamma 109.49 \n",
      "Dyn step 19000 a 19.45 b 19.45 c 80.16 alpha 90.00 beta 90.00 gamma 109.49 \n",
      "Dyn step 20000 a 19.45 b 19.45 c 80.83 alpha 90.00 beta 90.00 gamma 109.49 \n",
      "Dyn step 21000 a 19.45 b 19.45 c 81.50 alpha 90.00 beta 90.00 gamma 109.49 \n",
      "Dyn step 22000 a 19.45 b 19.45 c 82.18 alpha 90.00 beta 90.00 gamma 109.49 \n",
      "Dyn step 23000 a 19.45 b 19.45 c 82.85 alpha 90.00 beta 90.00 gamma 109.49 \n",
      "Dyn step 24000 a 19.45 b 19.45 c 83.52 alpha 90.00 beta 90.00 gamma 109.49 \n",
      "Dyn step 25000 a 19.45 b 19.45 c 84.20 alpha 90.00 beta 90.00 gamma 109.49 \n",
      "Dyn step 26000 a 19.45 b 19.45 c 84.87 alpha 90.00 beta 90.00 gamma 109.49 \n",
      "Dyn step 27000 a 19.45 b 19.45 c 85.54 alpha 90.00 beta 90.00 gamma 109.49 \n",
      "Dyn step 28000 a 19.45 b 19.45 c 86.22 alpha 90.00 beta 90.00 gamma 109.49 \n",
      "Dyn step 29000 a 19.45 b 19.45 c 86.89 alpha 90.00 beta 90.00 gamma 109.49 \n",
      "Dyn step 30000 a 19.45 b 19.45 c 87.57 alpha 90.00 beta 90.00 gamma 109.49 \n",
      "Dyn step 31000 a 19.45 b 19.45 c 88.24 alpha 90.00 beta 90.00 gamma 109.49 \n",
      "Dyn step 32000 a 19.45 b 19.45 c 88.91 alpha 90.00 beta 90.00 gamma 109.49 \n",
      "Dyn step 33000 a 19.45 b 19.45 c 89.59 alpha 90.00 beta 90.00 gamma 109.49 \n",
      "Dyn step 34000 a 19.45 b 19.45 c 90.26 alpha 90.00 beta 90.00 gamma 109.49 \n",
      "Dyn step 35000 a 19.45 b 19.45 c 90.93 alpha 90.00 beta 90.00 gamma 109.49 \n",
      "Dyn step 36000 a 19.45 b 19.45 c 91.61 alpha 90.00 beta 90.00 gamma 109.49 \n",
      "Dyn step 37000 a 19.45 b 19.45 c 92.28 alpha 90.00 beta 90.00 gamma 109.49 \n",
      "Dyn step 38000 a 19.45 b 19.45 c 92.95 alpha 90.00 beta 90.00 gamma 109.49 \n",
      "Dyn step 39000 a 19.45 b 19.45 c 93.63 alpha 90.00 beta 90.00 gamma 109.49 \n",
      "Dyn step 40000 a 19.45 b 19.45 c 94.30 alpha 90.00 beta 90.00 gamma 109.49 \n",
      "Dyn step 41000 a 19.45 b 19.45 c 94.97 alpha 90.00 beta 90.00 gamma 109.49 \n",
      "Dyn step 42000 a 19.45 b 19.45 c 95.65 alpha 90.00 beta 90.00 gamma 109.49 \n",
      "Dyn step 43000 a 19.45 b 19.45 c 96.32 alpha 90.00 beta 90.00 gamma 109.49 \n",
      "Dyn step 44000 a 19.45 b 19.45 c 97.00 alpha 90.00 beta 90.00 gamma 109.49 \n",
      "Dyn step 45000 a 19.45 b 19.45 c 97.67 alpha 90.00 beta 90.00 gamma 109.49 \n",
      "Dyn step 46000 a 19.45 b 19.45 c 98.34 alpha 90.00 beta 90.00 gamma 109.49 \n",
      "Dyn step 47000 a 19.45 b 19.45 c 99.02 alpha 90.00 beta 90.00 gamma 109.49 \n",
      "Dyn step 48000 a 19.45 b 19.45 c 99.69 alpha 90.00 beta 90.00 gamma 109.49 \n",
      "Dyn step 49000 a 19.45 b 19.45 c 100.36 alpha 90.00 beta 90.00 gamma 109.49 \n",
      "Dyn step 50000 a 19.45 b 19.45 c 101.04 alpha 90.00 beta 90.00 gamma 109.49 \n"
     ]
    },
    {
     "data": {
      "text/plain": [
       "MDFeatureResult(traj_path=PosixPath('/home/jovyan/work/2023/sscurve/contrib/output_en/md/tensile.traj'), checkpoint_path='/tmp/matlantis_lsjm_e6l/tmpy1ima6ld.chkp', temp_dir=<TemporaryDirectory '/tmp/matlantis_lsjm_e6l'>)"
      ]
     },
     "execution_count": 12,
     "metadata": {},
     "output_type": "execute_result"
    }
   ],
   "source": [
    "ase_atoms = read(npt2_path, \"-1\")\n",
    "atoms = MatlantisAtoms.from_ase_atoms(ase_atoms)\n",
    "atoms.rotate_atoms_to_upper()\n",
    "\n",
    "system = ASEMDSystem(atoms)\n",
    "system.init_temperature(temperature)\n",
    "\n",
    "# extend the unit cell by 150% along with z-axis\n",
    "latt = np.array(system.ase_atoms.cell)\n",
    "latt[2,2] = latt[2,2]*1.5\n",
    "\n",
    "# 引っ張り計算。\n",
    "integrator = LangevinIntegrator(timestep=1.0, temperature=300.0)\n",
    "\n",
    "info = PrintCellShape()\n",
    "deform = DeformScheduler(latt, 50000)\n",
    "\n",
    "md = MDFeature(integrator, n_run=50000, traj_file_name=tensile_path,\n",
    "               traj_freq=100, estimator_fn = estimator_fn)\n",
    "md(system, extensions=[(info, 1000), (deform, 1)])"
   ]
  },
  {
   "cell_type": "markdown",
   "id": "cc09ba70-be27-4d0b-99cc-40acd70b648c",
   "metadata": {
    "papermill": {
     "duration": 0.273296,
     "end_time": "2023-10-07T00:58:33.444316",
     "exception": false,
     "start_time": "2023-10-07T00:58:33.171020",
     "status": "completed"
    },
    "tags": []
   },
   "source": [
    "## 5. Plotting the Stress-Strain Curve"
   ]
  },
  {
   "cell_type": "code",
   "execution_count": 13,
   "id": "b4c0acf3-ecb4-4f28-a6c8-1327461a8608",
   "metadata": {
    "papermill": {
     "duration": 1.450727,
     "end_time": "2023-10-07T00:58:35.137254",
     "exception": false,
     "start_time": "2023-10-07T00:58:33.686527",
     "status": "completed"
    },
    "tags": []
   },
   "outputs": [
    {
     "data": {
      "image/png": "[encoded data removed]",
      "text/plain": [
       "<Figure size 640x480 with 1 Axes>"
      ]
     },
     "metadata": {},
     "output_type": "display_data"
    }
   ],
   "source": [
    "traj = Trajectory(tensile_path)\n",
    "\n",
    "stress = []\n",
    "zlen = []\n",
    "for i in traj:\n",
    "    stress.append(i.get_stress()[2])\n",
    "    zlen.append(i.cell.cellpar()[2])\n",
    "zlen = np.array(zlen)\n",
    "strain = (zlen-zlen[0])/zlen[0]\n",
    "\n",
    "os.makedirs(\"output/figure\", exist_ok = True)\n",
    "\n",
    "plt.scatter(strain,np.array(stress)/Pascal/10e6)\n",
    "plt.xlabel(\"strain\")\n",
    "plt.ylabel(\"stress [MPa]\")\n",
    "plt.grid(True)\n",
    "plt.savefig(ss_path)"
   ]
  }
 ],
 "metadata": {
  "kernelspec": {
   "display_name": "Python 3.8",
   "language": "python",
   "name": "python38"
  },
  "language_info": {
   "codemirror_mode": {
    "name": "ipython",
    "version": 3
   },
   "file_extension": ".py",
   "mimetype": "text/x-python",
   "name": "python",
   "nbconvert_exporter": "python",
   "pygments_lexer": "ipython3",
   "version": "3.8.13"
  },
  "papermill": {
   "default_parameters": {},
   "duration": 87758.575812,
   "end_time": "2023-10-07T00:58:38.264273",
   "environment_variables": {},
   "exception": null,
   "input_path": "/home/jovyan/.local/share/matlantis/jobs/mtl_bg_run_kbx8u8_v.ipynb",
   "output_path": "/home/jovyan/work/2023/sscurve/contrib/calculate_sscurve_rev2_results_2023-10-06_093557.ipynb",
   "parameters": {},
   "start_time": "2023-10-06T00:35:59.688461",
   "version": "2.3.4"
  },
  "widgets": {
   "application/vnd.jupyter.widget-state+json": {
    "state": {
     "0039b609cdbb41ecbe9c5aedbb0725e5": {
      "model_module": "@jupyter-widgets/controls",
      "model_module_version": "2.0.0",
      "model_name": "HTMLModel",
      "state": {
       "layout": "IPY_MODEL_ef96e964d6614844b15c3840589f3ff7",
       "style": "IPY_MODEL_cf9b7a7d04a14e148f7ed052b523adb0",
       "value": " 10001/10001 [00:00&lt;00:00,  9.08it/s]"
      }
     },
     "008c588666df4c59a553db5196ee038b": {
      "model_module": "@jupyter-widgets/controls",
      "model_module_version": "2.0.0",
      "model_name": "CheckboxModel",
      "state": {
       "description": "Show force",
       "disabled": false,
       "layout": "IPY_MODEL_8684446a2ded4489b3ada4000eb380fb",
       "style": "IPY_MODEL_6075667448be4a61a0360c2788844d56",
       "value": false
      }
     },
     "0157184e9a32469286d9482fd4348602": {
      "model_module": "@jupyter-widgets/controls",
      "model_module_version": "2.0.0",
      "model_name": "LinkModel",
      "state": {
       "source": [
        "IPY_MODEL_2060231ae7b94bc8a20e2670056671d6",
        "value"
       ],
       "target": [
        "IPY_MODEL_575c7a577676473cbe6785eb0dff343e",
        "frame"
       ]
      }
     },
     "0202a97f3f4a41ff992309348cd301e0": {
      "model_module": "@jupyter-widgets/base",
      "model_module_version": "2.0.0",
      "model_name": "LayoutModel",
      "state": {}
     },
     "0643ddd07dd141309646766ec0bdf47d": {
      "model_module": "@jupyter-widgets/controls",
      "model_module_version": "2.0.0",
      "model_name": "ButtonStyleModel",
      "state": {
       "font_family": null,
       "font_size": null,
       "font_style": null,
       "font_variant": null,
       "font_weight": null,
       "text_color": null,
       "text_decoration": null
      }
     },
     "06b1098764f7430f95aa21edda2a4482": {
      "model_module": "@jupyter-widgets/controls",
      "model_module_version": "2.0.0",
      "model_name": "ButtonStyleModel",
      "state": {
       "font_family": null,
       "font_size": null,
       "font_style": null,
       "font_variant": null,
       "font_weight": null,
       "text_color": null,
       "text_decoration": null
      }
     },
     "071fcfe107534cec9045d360a9e1054a": {
      "model_module": "@jupyter-widgets/controls",
      "model_module_version": "2.0.0",
      "model_name": "SliderStyleModel",
      "state": {
       "description_width": ""
      }
     },
     "085ac12c358743bf8828d128404b5c33": {
      "model_module": "@jupyter-widgets/controls",
      "model_module_version": "2.0.0",
      "model_name": "HBoxModel",
      "state": {
       "children": [
        "IPY_MODEL_4bdf40f524ce4516babd59de6dd1c686",
        "IPY_MODEL_860ab31af0644d61821dea2d7b3d5c71"
       ],
       "layout": "IPY_MODEL_dfd62f4e9bac4d80aa621efb56273984"
      }
     },
     "08666a02b7084795b3bced4a322e01b3": {
      "model_module": "@jupyter-widgets/base",
      "model_module_version": "2.0.0",
      "model_name": "LayoutModel",
      "state": {}
     },
     "08a8fc144b3b4c7183adddbf0c93d604": {
      "model_module": "@jupyter-widgets/base",
      "model_module_version": "2.0.0",
      "model_name": "LayoutModel",
      "state": {}
     },
     "09e47b6a897146709cd37879d5531194": {
      "model_module": "@jupyter-widgets/controls",
      "model_module_version": "2.0.0",
      "model_name": "ButtonModel",
      "state": {
       "description": "Save image",
       "layout": "IPY_MODEL_4170c86978b6497fb37599c5c152fa13",
       "style": "IPY_MODEL_90579e0feb4f48b7805857587795fc04",
       "tooltip": "Save current frame to file.\nCurrently .png and .html are supported.\nIt takes a bit time, please be patient."
      }
     },
     "0a61bf949224495b99509df611b69010": {
      "model_module": "@jupyter-widgets/base",
      "model_module_version": "2.0.0",
      "model_name": "LayoutModel",
      "state": {}
     },
     "0b68d885ef8b46cea8502b6b4c9d4aec": {
      "model_module": "@jupyter-widgets/controls",
      "model_module_version": "2.0.0",
      "model_name": "HBoxModel",
      "state": {
       "children": [
        "IPY_MODEL_5e57383cf54b42c39341b33d5ad8f902",
        "IPY_MODEL_ebb0633fd94e45a2a7dc55194d20cc30"
       ],
       "layout": "IPY_MODEL_924c504f7a9c49aeb9d58168418f718b"
      }
     },
     "0d907bd8963e4288baa2557558702e06": {
      "model_module": "@jupyter-widgets/base",
      "model_module_version": "2.0.0",
      "model_name": "LayoutModel",
      "state": {}
     },
     "0dcace01ec9448c3a819e6f2144db4b0": {
      "model_module": "@jupyter-widgets/controls",
      "model_module_version": "2.0.0",
      "model_name": "TextModel",
      "state": {
       "description": "Filename: ",
       "layout": "IPY_MODEL_b43ccb40228c4d96b1fd984c730f365d",
       "style": "IPY_MODEL_15ef54579dee408d998c01c8fa775fe8",
       "value": "screenshot.png"
      }
     },
     "0e3c50a60c4540fe82daa508fb24d41f": {
      "model_module": "@jupyter-widgets/controls",
      "model_module_version": "2.0.0",
      "model_name": "DropdownModel",
      "state": {
       "_options_labels": [
        "All",
        "C",
        "H",
        "O",
        "Fe"
       ],
       "description": "Show",
       "index": 0,
       "layout": "IPY_MODEL_821830aa057c4d1dbb11d7e46f2276f3",
       "style": "IPY_MODEL_3087b4b05b534c48b2be33aefe6be348"
      }
     },
     "103d8fd18eaa4d43a398e7744eda02ef": {
      "model_module": "@jupyter-widgets/controls",
      "model_module_version": "2.0.0",
      "model_name": "CheckboxModel",
      "state": {
       "description": "Show charge",
       "disabled": false,
       "layout": "IPY_MODEL_f9ff29e7c07b48df89cd2c276ca0f130",
       "style": "IPY_MODEL_efd3e447af614f0e8108d0dac34e6422",
       "value": false
      }
     },
     "10ca93f2d07c4cfc8743aefc0cc2d9c3": {
      "model_module": "@jupyter-widgets/controls",
      "model_module_version": "2.0.0",
      "model_name": "DropdownModel",
      "state": {
       "_options_labels": [
        "All",
        "Fe"
       ],
       "description": "Show",
       "index": 0,
       "layout": "IPY_MODEL_833f0ed35d95495389778361e7ca1881",
       "style": "IPY_MODEL_fb86718ef3894a629a18513be9cb8711"
      }
     },
     "118e9b69618042deaadc41a669e01c03": {
      "model_module": "@jupyter-widgets/controls",
      "model_module_version": "2.0.0",
      "model_name": "ButtonModel",
      "state": {
       "icon": "compress",
       "layout": "IPY_MODEL_cf5950e73489437dbe12bef1df28ab34",
       "style": "IPY_MODEL_c5aa5718d2eb44a7b179a4ab8f292561",
       "tooltip": null
      }
     },
     "128fab6f19424e84b10b3d56ee2fb177": {
      "model_module": "@jupyter-widgets/base",
      "model_module_version": "2.0.0",
      "model_name": "LayoutModel",
      "state": {
       "border_bottom": "0px solid black",
       "border_left": "0px solid black",
       "border_right": "0px solid black",
       "border_top": "0px solid black"
      }
     },
     "1370f8a915b04fe0b844f2a847998e3f": {
      "model_module": "@jupyter-widgets/base",
      "model_module_version": "2.0.0",
      "model_name": "LayoutModel",
      "state": {}
     },
     "139154a171d646c69a1e766752750a65": {
      "model_module": "@jupyter-widgets/controls",
      "model_module_version": "2.0.0",
      "model_name": "DescriptionStyleModel",
      "state": {
       "description_width": ""
      }
     },
     "13c180d7254143a0b3ea875a4cc04703": {
      "model_module": "@jupyter-widgets/controls",
      "model_module_version": "2.0.0",
      "model_name": "FloatSliderModel",
      "state": {
       "behavior": "drag-tap",
       "description": "Force scale",
       "layout": "IPY_MODEL_4dce678ded4c4bd787482e9dea59a6d6",
       "step": 0.1,
       "style": "IPY_MODEL_f227081f0a9141a8ae8ef08ba09b4e3c",
       "value": 0.5
      }
     },
     "15ef54579dee408d998c01c8fa775fe8": {
      "model_module": "@jupyter-widgets/controls",
      "model_module_version": "2.0.0",
      "model_name": "TextStyleModel",
      "state": {
       "description_width": "",
       "font_size": null,
       "text_color": null
      }
     },
     "168634fb12344565997fa07cc94de6a4": {
      "model_module": "@jupyter-widgets/controls",
      "model_module_version": "2.0.0",
      "model_name": "LinkModel",
      "state": {
       "source": [
        "IPY_MODEL_5a532e26605940e1bf330f896481d9c0",
        "max"
       ],
       "target": [
        "IPY_MODEL_476dc7cf80d64545a218a99c6a208265",
        "max_frame"
       ]
      }
     },
     "183a283cd327406eb320f1d5c99abdcf": {
      "model_module": "@jupyter-widgets/base",
      "model_module_version": "2.0.0",
      "model_name": "LayoutModel",
      "state": {}
     },
     "1992ded16cb24681b09659712577d4c9": {
      "model_module": "@jupyter-widgets/base",
      "model_module_version": "2.0.0",
      "model_name": "LayoutModel",
      "state": {}
     },
     "19b67c8e377e40aa90ed67d7992138e7": {
      "model_module": "@jupyter-widgets/base",
      "model_module_version": "2.0.0",
      "model_name": "LayoutModel",
      "state": {
       "border_bottom": "0px solid black",
       "border_left": "0px solid black",
       "border_right": "0px solid black",
       "border_top": "0px solid black"
      }
     },
     "1aacb302f2ef40b7bca7b3d054e3c44d": {
      "model_module": "@jupyter-widgets/base",
      "model_module_version": "2.0.0",
      "model_name": "LayoutModel",
      "state": {}
     },
     "1af865f178d2432f8be7b982bbdd8ba6": {
      "model_module": "@jupyter-widgets/controls",
      "model_module_version": "2.0.0",
      "model_name": "CheckboxModel",
      "state": {
       "description": "Show force",
       "disabled": false,
       "layout": "IPY_MODEL_e782724bfd5248b39564caf177070c3c",
       "style": "IPY_MODEL_976b62a806c64f90b82667c843db94a5",
       "value": false
      }
     },
     "1c39964d29b74e3484ad110d816edc47": {
      "model_module": "@jupyter-widgets/controls",
      "model_module_version": "2.0.0",
      "model_name": "DescriptionStyleModel",
      "state": {
       "description_width": ""
      }
     },
     "1cb61bdeead5427681078e5783d52410": {
      "model_module": "@jupyter-widgets/base",
      "model_module_version": "2.0.0",
      "model_name": "LayoutModel",
      "state": {}
     },
     "1e646d182162411dbc4cc02dff36165e": {
      "model_module": "nglview-js-widgets",
      "model_module_version": "3.0.6",
      "model_name": "NGLModel",
      "state": {
       "_camera_orientation": [
        761.185409961371,
        0,
        0,
        0,
        0,
        761.185409961371,
        0,
        0,
        0,
        0,
        761.185409961371,
        0,
        -5.968499660491943,
        -8.558500289916992,
        -258.2250061035156,
        1
       ],
       "_camera_str": "orthographic",
       "_gui_theme": null,
       "_ibtn_fullscreen": "IPY_MODEL_43ff62368f054beebd8e753b823db13f",
       "_igui": null,
       "_iplayer": "IPY_MODEL_e2edd9b886fc4b7881db7355183ae3b5",
       "_ngl_color_dict": {},
       "_ngl_coordinate_resource": {},
       "_ngl_full_stage_parameters": {
        "ambientColor": 14540253,
        "ambientIntensity": 0.2,
        "backgroundColor": "white",
        "cameraEyeSep": 0.3,
        "cameraFov": 40,
        "cameraType": "orthographic",
        "clipDist": 0,
        "clipFar": 100,
        "clipMode": "scene",
        "clipNear": 0,
        "clipScale": "relative",
        "fogFar": 100,
        "fogNear": 50,
        "hoverTimeout": 0,
        "impostor": true,
        "lightColor": 14540253,
        "lightIntensity": 1,
        "mousePreset": "default",
        "panSpeed": 1,
        "quality": "medium",
        "rotateSpeed": 2,
        "sampleLevel": 0,
        "tooltip": true,
        "workerDefault": true,
        "zoomSpeed": 1.2
       },
       "_ngl_msg_archive": [
        {
         "args": [
          {
           "binary": false,
           "data": "CRYST1   19.457   19.457  518.442  90.00  90.00 110.22 P 1\nMODEL     1\nATOM      1   Fe MOL     1      -0.000   0.000 508.441  1.00  0.00          FE  \nATOM      2   Fe MOL     1       0.796   1.141 510.447  1.00  0.00          FE  \nATOM      3   Fe MOL     1       0.000  -0.000 512.458  1.00  0.00          FE  \nATOM      4   Fe MOL     1       0.796   1.141 514.456  1.00  0.00          FE  \nATOM      5   Fe MOL     1       0.000  -0.000 516.450  1.00  0.00          FE  \nATOM      6   Fe MOL     1       0.796   1.141  -0.000  1.00  0.00          FE  \nATOM      7   Fe MOL     1      -0.000  -0.000   1.987  1.00  0.00          FE  \nATOM      8   Fe MOL     1       0.796   1.141   3.985  1.00  0.00          FE  \nATOM      9   Fe MOL     1      -0.000   0.000   5.996  1.00  0.00          FE  \nATOM     10   Fe MOL     1       0.796   1.141   8.002  1.00  0.00          FE  \nATOM     11   Fe MOL     1      -0.840   2.283 508.441  1.00  0.00          FE  \nATOM     12   Fe MOL     1      -0.045   3.423 510.447  1.00  0.00          FE  \nATOM     13   Fe MOL     1      -0.840   2.282 512.458  1.00  0.00          FE  \nATOM     14   Fe MOL     1      -0.045   3.423 514.456  1.00  0.00          FE  \nATOM     15   Fe MOL     1      -0.840   2.282 516.450  1.00  0.00          FE  \nATOM     16   Fe MOL     1      -0.045   3.423   0.000  1.00  0.00          FE  \nATOM     17   Fe MOL     1      -0.840   2.282   1.987  1.00  0.00          FE  \nATOM     18   Fe MOL     1      -0.045   3.423   3.985  1.00  0.00          FE  \nATOM     19   Fe MOL     1      -0.840   2.283   5.996  1.00  0.00          FE  \nATOM     20   Fe MOL     1      -0.045   3.423   8.003  1.00  0.00          FE  \nATOM     21   Fe MOL     1      -1.681   4.565 508.441  1.00  0.00          FE  \nATOM     22   Fe MOL     1      -0.885   5.706 510.447  1.00  0.00          FE  \nATOM     23   Fe MOL     1      -1.681   4.565 512.458  1.00  0.00          FE  \nATOM     24   Fe MOL     1      -0.885   5.706 514.456  1.00  0.00          FE  \nATOM     25   Fe MOL     1      -1.681   4.565 516.450  1.00  0.00          FE  \nATOM     26   Fe MOL     1      -0.885   5.706   0.000  1.00  0.00          FE  \nATOM     27   Fe MOL     1      -1.681   4.565   1.987  1.00  0.00          FE  \nATOM     28   Fe MOL     1      -0.885   5.705   3.985  1.00  0.00          FE  \nATOM     29   Fe MOL     1      -1.681   4.565   5.996  1.00  0.00          FE  \nATOM     30   Fe MOL     1      -0.885   5.706   8.002  1.00  0.00          FE  \nATOM     31   Fe MOL     1      -2.522   6.847 508.441  1.00  0.00          FE  \nATOM     32   Fe MOL     1      -1.726   7.988 510.447  1.00  0.00          FE  \nATOM     33   Fe MOL     1      -2.522   6.847 512.458  1.00  0.00          FE  \nATOM     34   Fe MOL     1      -1.726   7.988 514.456  1.00  0.00          FE  \nATOM     35   Fe MOL     1      -2.522   6.847 516.450  1.00  0.00          FE  \nATOM     36   Fe MOL     1      -1.726   7.988   0.000  1.00  0.00          FE  \nATOM     37   Fe MOL     1      -2.521   6.847   1.987  1.00  0.00          FE  \nATOM     38   Fe MOL     1      -1.725   7.988   3.985  1.00  0.00          FE  \nATOM     39   Fe MOL     1      -2.522   6.847   5.996  1.00  0.00          FE  \nATOM     40   Fe MOL     1      -1.726   7.988   8.002  1.00  0.00          FE  \nATOM     41   Fe MOL     1      -3.362   9.129 508.440  1.00  0.00          FE  \nATOM     42   Fe MOL     1      -2.566  10.270 510.447  1.00  0.00          FE  \nATOM     43   Fe MOL     1      -3.362   9.129 512.458  1.00  0.00          FE  \nATOM     44   Fe MOL     1      -2.566  10.270 514.456  1.00  0.00          FE  \nATOM     45   Fe MOL     1      -3.362   9.129 516.450  1.00  0.00          FE  \nATOM     46   Fe MOL     1      -2.566  10.270   0.000  1.00  0.00          FE  \nATOM     47   Fe MOL     1      -3.362   9.129   1.987  1.00  0.00          FE  \nATOM     48   Fe MOL     1      -2.566  10.270   3.985  1.00  0.00          FE  \nATOM     49   Fe MOL     1      -3.362   9.129   5.996  1.00  0.00          FE  \nATOM     50   Fe MOL     1      -2.566  10.270   8.002  1.00  0.00          FE  \nATOM     51   Fe MOL     1      -4.202  11.411 508.440  1.00  0.00          FE  \nATOM     52   Fe MOL     1      -3.407  12.552 510.447  1.00  0.00          FE  \nATOM     53   Fe MOL     1      -4.202  11.411 512.459  1.00  0.00          FE  \nATOM     54   Fe MOL     1      -3.407  12.552 514.456  1.00  0.00          FE  \nATOM     55   Fe MOL     1      -4.202  11.411 516.450  1.00  0.00          FE  \nATOM     56   Fe MOL     1      -3.407  12.552   0.000  1.00  0.00          FE  \nATOM     57   Fe MOL     1      -4.202  11.411   1.987  1.00  0.00          FE  \nATOM     58   Fe MOL     1      -3.406  12.552   3.985  1.00  0.00          FE  \nATOM     59   Fe MOL     1      -4.202  11.411   5.996  1.00  0.00          FE  \nATOM     60   Fe MOL     1      -3.407  12.553   8.002  1.00  0.00          FE  \nATOM     61   Fe MOL     1      -5.043  13.693 508.442  1.00  0.00          FE  \nATOM     62   Fe MOL     1      -4.247  14.835 510.447  1.00  0.00          FE  \nATOM     63   Fe MOL     1      -5.043  13.693 512.459  1.00  0.00          FE  \nATOM     64   Fe MOL     1      -4.247  14.834 514.456  1.00  0.00          FE  \nATOM     65   Fe MOL     1      -5.043  13.694 516.450  1.00  0.00          FE  \nATOM     66   Fe MOL     1      -4.247  14.835   0.000  1.00  0.00          FE  \nATOM     67   Fe MOL     1      -5.043  13.694   1.987  1.00  0.00          FE  \nATOM     68   Fe MOL     1      -4.247  14.835   3.985  1.00  0.00          FE  \nATOM     69   Fe MOL     1      -5.043  13.694   5.996  1.00  0.00          FE  \nATOM     70   Fe MOL     1      -4.247  14.835   8.002  1.00  0.00          FE  \nATOM     71   Fe MOL     1      -5.883  15.976 508.441  1.00  0.00          FE  \nATOM     72   Fe MOL     1      -5.088  17.117 510.447  1.00  0.00          FE  \nATOM     73   Fe MOL     1      -5.884  15.976 512.458  1.00  0.00          FE  \nATOM     74   Fe MOL     1      -5.088  17.117 514.456  1.00  0.00          FE  \nATOM     75   Fe MOL     1      -5.883  15.976 516.450  1.00  0.00          FE  \nATOM     76   Fe MOL     1      -5.088  17.117   0.000  1.00  0.00          FE  \nATOM     77   Fe MOL     1      -5.883  15.976   1.987  1.00  0.00          FE  \nATOM     78   Fe MOL     1      -5.088  17.117   3.985  1.00  0.00          FE  \nATOM     79   Fe MOL     1      -5.884  15.976   5.996  1.00  0.00          FE  \nATOM     80   Fe MOL     1      -5.088  17.117   8.002  1.00  0.00          FE  \nATOM     81   Fe MOL     1       2.432   0.000 508.441  1.00  0.00          FE  \nATOM     82   Fe MOL     1       3.228   1.141 510.447  1.00  0.00          FE  \nATOM     83   Fe MOL     1       2.432  -0.000 512.459  1.00  0.00          FE  \nATOM     84   Fe MOL     1       3.228   1.141 514.456  1.00  0.00          FE  \nATOM     85   Fe MOL     1       2.432  -0.000 516.450  1.00  0.00          FE  \nATOM     86   Fe MOL     1       3.228   1.141  -0.000  1.00  0.00          FE  \nATOM     87   Fe MOL     1       2.432  -0.000   1.987  1.00  0.00          FE  \nATOM     88   Fe MOL     1       3.228   1.141   3.985  1.00  0.00          FE  \nATOM     89   Fe MOL     1       2.432   0.000   5.996  1.00  0.00          FE  \nATOM     90   Fe MOL     1       3.228   1.141   8.002  1.00  0.00          FE  \nATOM     91   Fe MOL     1       1.591   2.283 508.441  1.00  0.00          FE  \nATOM     92   Fe MOL     1       2.387   3.423 510.447  1.00  0.00          FE  \nATOM     93   Fe MOL     1       1.592   2.282 512.459  1.00  0.00          FE  \nATOM     94   Fe MOL     1       2.388   3.423 514.456  1.00  0.00          FE  \nATOM     95   Fe MOL     1       1.592   2.282 516.450  1.00  0.00          FE  \nATOM     96   Fe MOL     1       2.387   3.423  -0.000  1.00  0.00          FE  \nATOM     97   Fe MOL     1       1.592   2.282   1.987  1.00  0.00          FE  \nATOM     98   Fe MOL     1       2.388   3.423   3.985  1.00  0.00          FE  \nATOM     99   Fe MOL     1       1.591   2.282   5.996  1.00  0.00          FE  \nATOM    100   Fe MOL     1       2.387   3.423   8.003  1.00  0.00          FE  \nATOM    101   Fe MOL     1       0.751   4.565 508.440  1.00  0.00          FE  \nATOM    102   Fe MOL     1       1.547   5.706 510.447  1.00  0.00          FE  \nATOM    103   Fe MOL     1       0.751   4.564 512.458  1.00  0.00          FE  \nATOM    104   Fe MOL     1       1.547   5.705 514.456  1.00  0.00          FE  \nATOM    105   Fe MOL     1       0.751   4.565 516.450  1.00  0.00          FE  \nATOM    106   Fe MOL     1       1.547   5.706  -0.000  1.00  0.00          FE  \nATOM    107   Fe MOL     1       0.751   4.565   1.987  1.00  0.00          FE  \nATOM    108   Fe MOL     1       1.547   5.705   3.985  1.00  0.00          FE  \nATOM    109   Fe MOL     1       0.751   4.565   5.996  1.00  0.00          FE  \nATOM    110   Fe MOL     1       1.547   5.705   8.002  1.00  0.00          FE  \nATOM    111   Fe MOL     1      -0.090   6.847 508.441  1.00  0.00          FE  \nATOM    112   Fe MOL     1       0.706   7.988 510.447  1.00  0.00          FE  \nATOM    113   Fe MOL     1      -0.090   6.847 512.458  1.00  0.00          FE  \nATOM    114   Fe MOL     1       0.706   7.988 514.456  1.00  0.00          FE  \nATOM    115   Fe MOL     1      -0.089   6.847 516.450  1.00  0.00          FE  \nATOM    116   Fe MOL     1       0.706   7.988  -0.000  1.00  0.00          FE  \nATOM    117   Fe MOL     1      -0.089   6.847   1.987  1.00  0.00          FE  \nATOM    118   Fe MOL     1       0.707   7.988   3.985  1.00  0.00          FE  \nATOM    119   Fe MOL     1      -0.089   6.847   5.996  1.00  0.00          FE  \nATOM    120   Fe MOL     1       0.706   7.987   8.002  1.00  0.00          FE  \nATOM    121   Fe MOL     1      -0.930   9.129 508.441  1.00  0.00          FE  \nATOM    122   Fe MOL     1      -0.134  10.270 510.447  1.00  0.00          FE  \nATOM    123   Fe MOL     1      -0.930   9.129 512.458  1.00  0.00          FE  \nATOM    124   Fe MOL     1      -0.134  10.270 514.456  1.00  0.00          FE  \nATOM    125   Fe MOL     1      -0.930   9.129 516.450  1.00  0.00          FE  \nATOM    126   Fe MOL     1      -0.134  10.270   0.000  1.00  0.00          FE  \nATOM    127   Fe MOL     1      -0.930   9.129   1.987  1.00  0.00          FE  \nATOM    128   Fe MOL     1      -0.134  10.270   3.985  1.00  0.00          FE  \nATOM    129   Fe MOL     1      -0.930   9.129   5.996  1.00  0.00          FE  \nATOM    130   Fe MOL     1      -0.134  10.270   8.002  1.00  0.00          FE  \nATOM    131   Fe MOL     1      -1.770  11.411 508.441  1.00  0.00          FE  \nATOM    132   Fe MOL     1      -0.975  12.552 510.447  1.00  0.00          FE  \nATOM    133   Fe MOL     1      -1.770  11.411 512.459  1.00  0.00          FE  \nATOM    134   Fe MOL     1      -0.974  12.552 514.456  1.00  0.00          FE  \nATOM    135   Fe MOL     1      -1.770  11.411 516.450  1.00  0.00          FE  \nATOM    136   Fe MOL     1      -0.974  12.552   0.000  1.00  0.00          FE  \nATOM    137   Fe MOL     1      -1.770  11.411   1.987  1.00  0.00          FE  \nATOM    138   Fe MOL     1      -0.974  12.552   3.985  1.00  0.00          FE  \nATOM    139   Fe MOL     1      -1.770  11.411   5.996  1.00  0.00          FE  \nATOM    140   Fe MOL     1      -0.975  12.553   8.002  1.00  0.00          FE  \nATOM    141   Fe MOL     1      -2.611  13.693 508.441  1.00  0.00          FE  \nATOM    142   Fe MOL     1      -1.815  14.834 510.447  1.00  0.00          FE  \nATOM    143   Fe MOL     1      -2.611  13.693 512.458  1.00  0.00          FE  \nATOM    144   Fe MOL     1      -1.815  14.835 514.456  1.00  0.00          FE  \nATOM    145   Fe MOL     1      -2.611  13.694 516.450  1.00  0.00          FE  \nATOM    146   Fe MOL     1      -1.815  14.835   0.000  1.00  0.00          FE  \nATOM    147   Fe MOL     1      -2.611  13.694   1.987  1.00  0.00          FE  \nATOM    148   Fe MOL     1      -1.815  14.834   3.985  1.00  0.00          FE  \nATOM    149   Fe MOL     1      -2.611  13.693   5.996  1.00  0.00          FE  \nATOM    150   Fe MOL     1      -1.815  14.835   8.002  1.00  0.00          FE  \nATOM    151   Fe MOL     1      -3.451  15.976 508.440  1.00  0.00          FE  \nATOM    152   Fe MOL     1      -2.656  17.117 510.446  1.00  0.00          FE  \nATOM    153   Fe MOL     1      -3.452  15.976 512.458  1.00  0.00          FE  \nATOM    154   Fe MOL     1      -2.656  17.117 514.456  1.00  0.00          FE  \nATOM    155   Fe MOL     1      -3.451  15.976 516.450  1.00  0.00          FE  \nATOM    156   Fe MOL     1      -2.655  17.117   0.000  1.00  0.00          FE  \nATOM    157   Fe MOL     1      -3.451  15.976   1.987  1.00  0.00          FE  \nATOM    158   Fe MOL     1      -2.656  17.117   3.985  1.00  0.00          FE  \nATOM    159   Fe MOL     1      -3.451  15.976   5.996  1.00  0.00          FE  \nATOM    160   Fe MOL     1      -2.656  17.117   8.003  1.00  0.00          FE  \nATOM    161   Fe MOL     1       4.864  -0.000 508.440  1.00  0.00          FE  \nATOM    162   Fe MOL     1       5.660   1.141 510.447  1.00  0.00          FE  \nATOM    163   Fe MOL     1       4.864  -0.000 512.458  1.00  0.00          FE  \nATOM    164   Fe MOL     1       5.660   1.141 514.456  1.00  0.00          FE  \nATOM    165   Fe MOL     1       4.864  -0.000 516.450  1.00  0.00          FE  \nATOM    166   Fe MOL     1       5.660   1.141  -0.000  1.00  0.00          FE  \nATOM    167   Fe MOL     1       4.864  -0.000   1.987  1.00  0.00          FE  \nATOM    168   Fe MOL     1       5.660   1.141   3.985  1.00  0.00          FE  \nATOM    169   Fe MOL     1       4.864  -0.000   5.997  1.00  0.00          FE  \nATOM    170   Fe MOL     1       5.660   1.141   8.003  1.00  0.00          FE  \nATOM    171   Fe MOL     1       4.023   2.282 508.441  1.00  0.00          FE  \nATOM    172   Fe MOL     1       4.819   3.423 510.447  1.00  0.00          FE  \nATOM    173   Fe MOL     1       4.024   2.282 512.459  1.00  0.00          FE  \nATOM    174   Fe MOL     1       4.820   3.423 514.456  1.00  0.00          FE  \nATOM    175   Fe MOL     1       4.024   2.282 516.450  1.00  0.00          FE  \nATOM    176   Fe MOL     1       4.820   3.423  -0.000  1.00  0.00          FE  \nATOM    177   Fe MOL     1       4.024   2.282   1.987  1.00  0.00          FE  \nATOM    178   Fe MOL     1       4.820   3.423   3.985  1.00  0.00          FE  \nATOM    179   Fe MOL     1       4.024   2.282   5.996  1.00  0.00          FE  \nATOM    180   Fe MOL     1       4.819   3.423   8.002  1.00  0.00          FE  \nATOM    181   Fe MOL     1       3.183   4.564 508.440  1.00  0.00          FE  \nATOM    182   Fe MOL     1       3.979   5.705 510.447  1.00  0.00          FE  \nATOM    183   Fe MOL     1       3.183   4.564 512.458  1.00  0.00          FE  \nATOM    184   Fe MOL     1       3.979   5.705 514.456  1.00  0.00          FE  \nATOM    185   Fe MOL     1       3.183   4.564 516.450  1.00  0.00          FE  \nATOM    186   Fe MOL     1       3.979   5.706  -0.000  1.00  0.00          FE  \nATOM    187   Fe MOL     1       3.183   4.565   1.987  1.00  0.00          FE  \nATOM    188   Fe MOL     1       3.979   5.706   3.985  1.00  0.00          FE  \nATOM    189   Fe MOL     1       3.183   4.564   5.996  1.00  0.00          FE  \nATOM    190   Fe MOL     1       3.979   5.706   8.002  1.00  0.00          FE  \nATOM    191   Fe MOL     1       2.343   6.847 508.441  1.00  0.00          FE  \nATOM    192   Fe MOL     1       3.138   7.988 510.447  1.00  0.00          FE  \nATOM    193   Fe MOL     1       2.343   6.847 512.458  1.00  0.00          FE  \nATOM    194   Fe MOL     1       3.138   7.988 514.456  1.00  0.00          FE  \nATOM    195   Fe MOL     1       2.343   6.847 516.450  1.00  0.00          FE  \nATOM    196   Fe MOL     1       3.139   7.988  -0.000  1.00  0.00          FE  \nATOM    197   Fe MOL     1       2.343   6.847   1.987  1.00  0.00          FE  \nATOM    198   Fe MOL     1       3.139   7.988   3.985  1.00  0.00          FE  \nATOM    199   Fe MOL     1       2.343   6.847   5.996  1.00  0.00          FE  \nATOM    200   Fe MOL     1       3.138   7.988   8.002  1.00  0.00          FE  \nATOM    201   Fe MOL     1       1.502   9.129 508.440  1.00  0.00          FE  \nATOM    202   Fe MOL     1       2.298  10.270 510.447  1.00  0.00          FE  \nATOM    203   Fe MOL     1       1.502   9.129 512.458  1.00  0.00          FE  \nATOM    204   Fe MOL     1       2.298  10.270 514.456  1.00  0.00          FE  \nATOM    205   Fe MOL     1       1.502   9.129 516.450  1.00  0.00          FE  \nATOM    206   Fe MOL     1       2.298  10.270  -0.000  1.00  0.00          FE  \nATOM    207   Fe MOL     1       1.502   9.129   1.987  1.00  0.00          FE  \nATOM    208   Fe MOL     1       2.298  10.270   3.985  1.00  0.00          FE  \nATOM    209   Fe MOL     1       1.502   9.129   5.996  1.00  0.00          FE  \nATOM    210   Fe MOL     1       2.298  10.270   8.003  1.00  0.00          FE  \nATOM    211   Fe MOL     1       0.661  11.411 508.441  1.00  0.00          FE  \nATOM    212   Fe MOL     1       1.457  12.553 510.447  1.00  0.00          FE  \nATOM    213   Fe MOL     1       0.662  11.412 512.458  1.00  0.00          FE  \nATOM    214   Fe MOL     1       1.458  12.553 514.456  1.00  0.00          FE  \nATOM    215   Fe MOL     1       0.662  11.411 516.450  1.00  0.00          FE  \nATOM    216   Fe MOL     1       1.458  12.552  -0.000  1.00  0.00          FE  \nATOM    217   Fe MOL     1       0.662  11.411   1.987  1.00  0.00          FE  \nATOM    218   Fe MOL     1       1.458  12.552   3.985  1.00  0.00          FE  \nATOM    219   Fe MOL     1       0.662  11.411   5.996  1.00  0.00          FE  \nATOM    220   Fe MOL     1       1.457  12.552   8.003  1.00  0.00          FE  \nATOM    221   Fe MOL     1      -0.179  13.693 508.441  1.00  0.00          FE  \nATOM    222   Fe MOL     1       0.617  14.835 510.447  1.00  0.00          FE  \nATOM    223   Fe MOL     1      -0.179  13.694 512.459  1.00  0.00          FE  \nATOM    224   Fe MOL     1       0.617  14.835 514.456  1.00  0.00          FE  \nATOM    225   Fe MOL     1      -0.179  13.694 516.450  1.00  0.00          FE  \nATOM    226   Fe MOL     1       0.617  14.835  -0.000  1.00  0.00          FE  \nATOM    227   Fe MOL     1      -0.179  13.694   1.987  1.00  0.00          FE  \nATOM    228   Fe MOL     1       0.617  14.834   3.985  1.00  0.00          FE  \nATOM    229   Fe MOL     1      -0.179  13.693   5.996  1.00  0.00          FE  \nATOM    230   Fe MOL     1       0.617  14.835   8.002  1.00  0.00          FE  \nATOM    231   Fe MOL     1      -1.019  15.976 508.441  1.00  0.00          FE  \nATOM    232   Fe MOL     1      -0.223  17.117 510.447  1.00  0.00          FE  \nATOM    233   Fe MOL     1      -1.019  15.976 512.458  1.00  0.00          FE  \nATOM    234   Fe MOL     1      -0.223  17.117 514.456  1.00  0.00          FE  \nATOM    235   Fe MOL     1      -1.019  15.976 516.450  1.00  0.00          FE  \nATOM    236   Fe MOL     1      -0.223  17.117  -0.000  1.00  0.00          FE  \nATOM    237   Fe MOL     1      -1.019  15.976   1.987  1.00  0.00          FE  \nATOM    238   Fe MOL     1      -0.224  17.117   3.985  1.00  0.00          FE  \nATOM    239   Fe MOL     1      -1.019  15.976   5.996  1.00  0.00          FE  \nATOM    240   Fe MOL     1      -0.223  17.117   8.002  1.00  0.00          FE  \nATOM    241   Fe MOL     1       7.296  -0.000 508.441  1.00  0.00          FE  \nATOM    242   Fe MOL     1       8.092   1.141 510.447  1.00  0.00          FE  \nATOM    243   Fe MOL     1       7.296  -0.000 512.458  1.00  0.00          FE  \nATOM    244   Fe MOL     1       8.092   1.141 514.456  1.00  0.00          FE  \nATOM    245   Fe MOL     1       7.296  -0.000 516.450  1.00  0.00          FE  \nATOM    246   Fe MOL     1       8.092   1.141  -0.000  1.00  0.00          FE  \nATOM    247   Fe MOL     1       7.296  -0.000   1.987  1.00  0.00          FE  \nATOM    248   Fe MOL     1       8.092   1.141   3.985  1.00  0.00          FE  \nATOM    249   Fe MOL     1       7.296  -0.000   5.996  1.00  0.00          FE  \nATOM    250   Fe MOL     1       8.092   1.141   8.002  1.00  0.00          FE  \nATOM    251   Fe MOL     1       6.456   2.282 508.441  1.00  0.00          FE  \nATOM    252   Fe MOL     1       7.252   3.423 510.447  1.00  0.00          FE  \nATOM    253   Fe MOL     1       6.456   2.282 512.458  1.00  0.00          FE  \nATOM    254   Fe MOL     1       7.252   3.423 514.456  1.00  0.00          FE  \nATOM    255   Fe MOL     1       6.456   2.282 516.450  1.00  0.00          FE  \nATOM    256   Fe MOL     1       7.252   3.423  -0.000  1.00  0.00          FE  \nATOM    257   Fe MOL     1       6.456   2.282   1.987  1.00  0.00          FE  \nATOM    258   Fe MOL     1       7.252   3.423   3.985  1.00  0.00          FE  \nATOM    259   Fe MOL     1       6.456   2.282   5.996  1.00  0.00          FE  \nATOM    260   Fe MOL     1       7.252   3.424   8.002  1.00  0.00          FE  \nATOM    261   Fe MOL     1       5.615   4.564 508.441  1.00  0.00          FE  \nATOM    262   Fe MOL     1       6.411   5.705 510.447  1.00  0.00          FE  \nATOM    263   Fe MOL     1       5.615   4.564 512.458  1.00  0.00          FE  \nATOM    264   Fe MOL     1       6.411   5.706 514.456  1.00  0.00          FE  \nATOM    265   Fe MOL     1       5.615   4.565 516.450  1.00  0.00          FE  \nATOM    266   Fe MOL     1       6.411   5.706  -0.000  1.00  0.00          FE  \nATOM    267   Fe MOL     1       5.615   4.565   1.987  1.00  0.00          FE  \nATOM    268   Fe MOL     1       6.411   5.706   3.985  1.00  0.00          FE  \nATOM    269   Fe MOL     1       5.615   4.565   5.996  1.00  0.00          FE  \nATOM    270   Fe MOL     1       6.411   5.706   8.002  1.00  0.00          FE  \nATOM    271   Fe MOL     1       4.775   6.847 508.441  1.00  0.00          FE  \nATOM    272   Fe MOL     1       5.570   7.988 510.447  1.00  0.00          FE  \nATOM    273   Fe MOL     1       4.775   6.847 512.458  1.00  0.00          FE  \nATOM    274   Fe MOL     1       5.570   7.988 514.456  1.00  0.00          FE  \nATOM    275   Fe MOL     1       4.775   6.847 516.450  1.00  0.00          FE  \nATOM    276   Fe MOL     1       5.571   7.988  -0.000  1.00  0.00          FE  \nATOM    277   Fe MOL     1       4.775   6.847   1.987  1.00  0.00          FE  \nATOM    278   Fe MOL     1       5.571   7.988   3.985  1.00  0.00          FE  \nATOM    279   Fe MOL     1       4.775   6.847   5.996  1.00  0.00          FE  \nATOM    280   Fe MOL     1       5.570   7.988   8.003  1.00  0.00          FE  \nATOM    281   Fe MOL     1       3.934   9.129 508.441  1.00  0.00          FE  \nATOM    282   Fe MOL     1       4.730  10.270 510.447  1.00  0.00          FE  \nATOM    283   Fe MOL     1       3.934   9.129 512.458  1.00  0.00          FE  \nATOM    284   Fe MOL     1       4.730  10.270 514.456  1.00  0.00          FE  \nATOM    285   Fe MOL     1       3.934   9.129 516.450  1.00  0.00          FE  \nATOM    286   Fe MOL     1       4.730  10.270  -0.000  1.00  0.00          FE  \nATOM    287   Fe MOL     1       3.934   9.129   1.987  1.00  0.00          FE  \nATOM    288   Fe MOL     1       4.730  10.270   3.985  1.00  0.00          FE  \nATOM    289   Fe MOL     1       3.935   9.129   5.996  1.00  0.00          FE  \nATOM    290   Fe MOL     1       4.730  10.271   8.002  1.00  0.00          FE  \nATOM    291   Fe MOL     1       3.093  11.411 508.440  1.00  0.00          FE  \nATOM    292   Fe MOL     1       3.889  12.552 510.447  1.00  0.00          FE  \nATOM    293   Fe MOL     1       3.094  11.412 512.458  1.00  0.00          FE  \nATOM    294   Fe MOL     1       3.890  12.553 514.456  1.00  0.00          FE  \nATOM    295   Fe MOL     1       3.094  11.411 516.450  1.00  0.00          FE  \nATOM    296   Fe MOL     1       3.890  12.552  -0.000  1.00  0.00          FE  \nATOM    297   Fe MOL     1       3.094  11.411   1.987  1.00  0.00          FE  \nATOM    298   Fe MOL     1       3.890  12.552   3.985  1.00  0.00          FE  \nATOM    299   Fe MOL     1       3.094  11.411   5.996  1.00  0.00          FE  \nATOM    300   Fe MOL     1       3.890  12.553   8.002  1.00  0.00          FE  \nATOM    301   Fe MOL     1       2.253  13.693 508.441  1.00  0.00          FE  \nATOM    302   Fe MOL     1       3.049  14.834 510.447  1.00  0.00          FE  \nATOM    303   Fe MOL     1       2.253  13.694 512.459  1.00  0.00          FE  \nATOM    304   Fe MOL     1       3.049  14.835 514.456  1.00  0.00          FE  \nATOM    305   Fe MOL     1       2.253  13.694 516.450  1.00  0.00          FE  \nATOM    306   Fe MOL     1       3.049  14.835  -0.000  1.00  0.00          FE  \nATOM    307   Fe MOL     1       2.253  13.694   1.987  1.00  0.00          FE  \nATOM    308   Fe MOL     1       3.049  14.834   3.985  1.00  0.00          FE  \nATOM    309   Fe MOL     1       2.253  13.693   5.996  1.00  0.00          FE  \nATOM    310   Fe MOL     1       3.049  14.835   8.002  1.00  0.00          FE  \nATOM    311   Fe MOL     1       1.413  15.976 508.441  1.00  0.00          FE  \nATOM    312   Fe MOL     1       2.209  17.117 510.447  1.00  0.00          FE  \nATOM    313   Fe MOL     1       1.413  15.976 512.458  1.00  0.00          FE  \nATOM    314   Fe MOL     1       2.209  17.117 514.456  1.00  0.00          FE  \nATOM    315   Fe MOL     1       1.413  15.976 516.450  1.00  0.00          FE  \nATOM    316   Fe MOL     1       2.209  17.117  -0.000  1.00  0.00          FE  \nATOM    317   Fe MOL     1       1.413  15.976   1.987  1.00  0.00          FE  \nATOM    318   Fe MOL     1       2.209  17.117   3.985  1.00  0.00          FE  \nATOM    319   Fe MOL     1       1.413  15.976   5.996  1.00  0.00          FE  \nATOM    320   Fe MOL     1       2.209  17.117   8.003  1.00  0.00          FE  \nATOM    321   Fe MOL     1       9.728  -0.000 508.441  1.00  0.00          FE  \nATOM    322   Fe MOL     1      10.524   1.141 510.447  1.00  0.00          FE  \nATOM    323   Fe MOL     1       9.729  -0.000 512.458  1.00  0.00          FE  \nATOM    324   Fe MOL     1      10.524   1.141 514.456  1.00  0.00          FE  \nATOM    325   Fe MOL     1       9.728  -0.000 516.450  1.00  0.00          FE  \nATOM    326   Fe MOL     1      10.524   1.141  -0.000  1.00  0.00          FE  \nATOM    327   Fe MOL     1       9.728  -0.000   1.987  1.00  0.00          FE  \nATOM    328   Fe MOL     1      10.524   1.141   3.985  1.00  0.00          FE  \nATOM    329   Fe MOL     1       9.728  -0.000   5.996  1.00  0.00          FE  \nATOM    330   Fe MOL     1      10.524   1.141   8.002  1.00  0.00          FE  \nATOM    331   Fe MOL     1       8.888   2.282 508.441  1.00  0.00          FE  \nATOM    332   Fe MOL     1       9.684   3.423 510.447  1.00  0.00          FE  \nATOM    333   Fe MOL     1       8.888   2.282 512.459  1.00  0.00          FE  \nATOM    334   Fe MOL     1       9.684   3.423 514.456  1.00  0.00          FE  \nATOM    335   Fe MOL     1       8.888   2.282 516.450  1.00  0.00          FE  \nATOM    336   Fe MOL     1       9.684   3.423  -0.000  1.00  0.00          FE  \nATOM    337   Fe MOL     1       8.888   2.282   1.987  1.00  0.00          FE  \nATOM    338   Fe MOL     1       9.684   3.423   3.985  1.00  0.00          FE  \nATOM    339   Fe MOL     1       8.888   2.282   5.996  1.00  0.00          FE  \nATOM    340   Fe MOL     1       9.684   3.423   8.002  1.00  0.00          FE  \nATOM    341   Fe MOL     1       8.047   4.565 508.441  1.00  0.00          FE  \nATOM    342   Fe MOL     1       8.843   5.706 510.447  1.00  0.00          FE  \nATOM    343   Fe MOL     1       8.047   4.564 512.459  1.00  0.00          FE  \nATOM    344   Fe MOL     1       8.843   5.706 514.456  1.00  0.00          FE  \nATOM    345   Fe MOL     1       8.047   4.565 516.450  1.00  0.00          FE  \nATOM    346   Fe MOL     1       8.843   5.706  -0.000  1.00  0.00          FE  \nATOM    347   Fe MOL     1       8.047   4.565   1.987  1.00  0.00          FE  \nATOM    348   Fe MOL     1       8.843   5.706   3.985  1.00  0.00          FE  \nATOM    349   Fe MOL     1       8.047   4.565   5.996  1.00  0.00          FE  \nATOM    350   Fe MOL     1       8.843   5.706   8.002  1.00  0.00          FE  \nATOM    351   Fe MOL     1       7.207   6.847 508.441  1.00  0.00          FE  \nATOM    352   Fe MOL     1       8.003   7.988 510.447  1.00  0.00          FE  \nATOM    353   Fe MOL     1       7.207   6.847 512.458  1.00  0.00          FE  \nATOM    354   Fe MOL     1       8.003   7.988 514.456  1.00  0.00          FE  \nATOM    355   Fe MOL     1       7.207   6.847 516.450  1.00  0.00          FE  \nATOM    356   Fe MOL     1       8.003   7.988  -0.000  1.00  0.00          FE  \nATOM    357   Fe MOL     1       7.207   6.847   1.987  1.00  0.00          FE  \nATOM    358   Fe MOL     1       8.003   7.988   3.985  1.00  0.00          FE  \nATOM    359   Fe MOL     1       7.207   6.847   5.996  1.00  0.00          FE  \nATOM    360   Fe MOL     1       8.003   7.988   8.002  1.00  0.00          FE  \nATOM    361   Fe MOL     1       6.367   9.129 508.441  1.00  0.00          FE  \nATOM    362   Fe MOL     1       7.162  10.270 510.447  1.00  0.00          FE  \nATOM    363   Fe MOL     1       6.366   9.129 512.458  1.00  0.00          FE  \nATOM    364   Fe MOL     1       7.162  10.270 514.456  1.00  0.00          FE  \nATOM    365   Fe MOL     1       6.366   9.129 516.450  1.00  0.00          FE  \nATOM    366   Fe MOL     1       7.162  10.270  -0.000  1.00  0.00          FE  \nATOM    367   Fe MOL     1       6.366   9.129   1.987  1.00  0.00          FE  \nATOM    368   Fe MOL     1       7.162  10.270   3.985  1.00  0.00          FE  \nATOM    369   Fe MOL     1       6.367   9.129   5.996  1.00  0.00          FE  \nATOM    370   Fe MOL     1       7.162  10.270   8.002  1.00  0.00          FE  \nATOM    371   Fe MOL     1       5.526  11.411 508.441  1.00  0.00          FE  \nATOM    372   Fe MOL     1       6.322  12.553 510.447  1.00  0.00          FE  \nATOM    373   Fe MOL     1       5.526  11.411 512.458  1.00  0.00          FE  \nATOM    374   Fe MOL     1       6.322  12.553 514.456  1.00  0.00          FE  \nATOM    375   Fe MOL     1       5.526  11.411 516.450  1.00  0.00          FE  \nATOM    376   Fe MOL     1       6.322  12.552  -0.000  1.00  0.00          FE  \nATOM    377   Fe MOL     1       5.526  11.411   1.987  1.00  0.00          FE  \nATOM    378   Fe MOL     1       6.322  12.552   3.985  1.00  0.00          FE  \nATOM    379   Fe MOL     1       5.526  11.411   5.996  1.00  0.00          FE  \nATOM    380   Fe MOL     1       6.322  12.552   8.003  1.00  0.00          FE  \nATOM    381   Fe MOL     1       4.685  13.693 508.441  1.00  0.00          FE  \nATOM    382   Fe MOL     1       5.481  14.835 510.447  1.00  0.00          FE  \nATOM    383   Fe MOL     1       4.685  13.694 512.458  1.00  0.00          FE  \nATOM    384   Fe MOL     1       5.481  14.835 514.456  1.00  0.00          FE  \nATOM    385   Fe MOL     1       4.685  13.694 516.450  1.00  0.00          FE  \nATOM    386   Fe MOL     1       5.481  14.835  -0.000  1.00  0.00          FE  \nATOM    387   Fe MOL     1       4.686  13.694   1.987  1.00  0.00          FE  \nATOM    388   Fe MOL     1       5.481  14.835   3.985  1.00  0.00          FE  \nATOM    389   Fe MOL     1       4.686  13.693   5.996  1.00  0.00          FE  \nATOM    390   Fe MOL     1       5.482  14.835   8.002  1.00  0.00          FE  \nATOM    391   Fe MOL     1       3.845  15.975 508.441  1.00  0.00          FE  \nATOM    392   Fe MOL     1       4.641  17.117 510.447  1.00  0.00          FE  \nATOM    393   Fe MOL     1       3.845  15.976 512.458  1.00  0.00          FE  \nATOM    394   Fe MOL     1       4.641  17.117 514.456  1.00  0.00          FE  \nATOM    395   Fe MOL     1       3.845  15.976 516.450  1.00  0.00          FE  \nATOM    396   Fe MOL     1       4.641  17.117  -0.000  1.00  0.00          FE  \nATOM    397   Fe MOL     1       3.845  15.976   1.987  1.00  0.00          FE  \nATOM    398   Fe MOL     1       4.641  17.117   3.985  1.00  0.00          FE  \nATOM    399   Fe MOL     1       3.845  15.976   5.996  1.00  0.00          FE  \nATOM    400   Fe MOL     1       4.641  17.117   8.002  1.00  0.00          FE  \nATOM    401   Fe MOL     1      12.161   0.000 508.441  1.00  0.00          FE  \nATOM    402   Fe MOL     1      12.956   1.141 510.447  1.00  0.00          FE  \nATOM    403   Fe MOL     1      12.161   0.000 512.458  1.00  0.00          FE  \nATOM    404   Fe MOL     1      12.956   1.141 514.456  1.00  0.00          FE  \nATOM    405   Fe MOL     1      12.160  -0.000 516.450  1.00  0.00          FE  \nATOM    406   Fe MOL     1      12.956   1.141  -0.000  1.00  0.00          FE  \nATOM    407   Fe MOL     1      12.160  -0.000   1.987  1.00  0.00          FE  \nATOM    408   Fe MOL     1      12.956   1.141   3.985  1.00  0.00          FE  \nATOM    409   Fe MOL     1      12.161  -0.000   5.996  1.00  0.00          FE  \nATOM    410   Fe MOL     1      12.957   1.141   8.002  1.00  0.00          FE  \nATOM    411   Fe MOL     1      11.320   2.282 508.441  1.00  0.00          FE  \nATOM    412   Fe MOL     1      12.116   3.423 510.447  1.00  0.00          FE  \nATOM    413   Fe MOL     1      11.320   2.282 512.459  1.00  0.00          FE  \nATOM    414   Fe MOL     1      12.116   3.423 514.456  1.00  0.00          FE  \nATOM    415   Fe MOL     1      11.320   2.282 516.450  1.00  0.00          FE  \nATOM    416   Fe MOL     1      12.116   3.423  -0.000  1.00  0.00          FE  \nATOM    417   Fe MOL     1      11.320   2.282   1.987  1.00  0.00          FE  \nATOM    418   Fe MOL     1      12.116   3.423   3.985  1.00  0.00          FE  \nATOM    419   Fe MOL     1      11.320   2.282   5.996  1.00  0.00          FE  \nATOM    420   Fe MOL     1      12.116   3.423   8.002  1.00  0.00          FE  \nATOM    421   Fe MOL     1      10.480   4.564 508.441  1.00  0.00          FE  \nATOM    422   Fe MOL     1      11.275   5.706 510.447  1.00  0.00          FE  \nATOM    423   Fe MOL     1      10.479   4.564 512.459  1.00  0.00          FE  \nATOM    424   Fe MOL     1      11.275   5.706 514.456  1.00  0.00          FE  \nATOM    425   Fe MOL     1      10.480   4.564 516.450  1.00  0.00          FE  \nATOM    426   Fe MOL     1      11.275   5.706  -0.000  1.00  0.00          FE  \nATOM    427   Fe MOL     1      10.480   4.565   1.987  1.00  0.00          FE  \nATOM    428   Fe MOL     1      11.275   5.706   3.985  1.00  0.00          FE  \nATOM    429   Fe MOL     1      10.479   4.564   5.996  1.00  0.00          FE  \nATOM    430   Fe MOL     1      11.275   5.706   8.002  1.00  0.00          FE  \nATOM    431   Fe MOL     1       9.639   6.847 508.441  1.00  0.00          FE  \nATOM    432   Fe MOL     1      10.435   7.988 510.447  1.00  0.00          FE  \nATOM    433   Fe MOL     1       9.639   6.847 512.458  1.00  0.00          FE  \nATOM    434   Fe MOL     1      10.435   7.988 514.456  1.00  0.00          FE  \nATOM    435   Fe MOL     1       9.639   6.847 516.450  1.00  0.00          FE  \nATOM    436   Fe MOL     1      10.435   7.988  -0.000  1.00  0.00          FE  \nATOM    437   Fe MOL     1       9.639   6.847   1.987  1.00  0.00          FE  \nATOM    438   Fe MOL     1      10.435   7.988   3.985  1.00  0.00          FE  \nATOM    439   Fe MOL     1       9.639   6.847   5.996  1.00  0.00          FE  \nATOM    440   Fe MOL     1      10.435   7.988   8.002  1.00  0.00          FE  \nATOM    441   Fe MOL     1       8.799   9.129 508.441  1.00  0.00          FE  \nATOM    442   Fe MOL     1       9.595  10.270 510.447  1.00  0.00          FE  \nATOM    443   Fe MOL     1       8.798   9.129 512.458  1.00  0.00          FE  \nATOM    444   Fe MOL     1       9.594  10.270 514.456  1.00  0.00          FE  \nATOM    445   Fe MOL     1       8.798   9.129 516.450  1.00  0.00          FE  \nATOM    446   Fe MOL     1       9.594  10.270  -0.000  1.00  0.00          FE  \nATOM    447   Fe MOL     1       8.799   9.129   1.987  1.00  0.00          FE  \nATOM    448   Fe MOL     1       9.595  10.270   3.985  1.00  0.00          FE  \nATOM    449   Fe MOL     1       8.799   9.129   5.996  1.00  0.00          FE  \nATOM    450   Fe MOL     1       9.594  10.270   8.002  1.00  0.00          FE  \nATOM    451   Fe MOL     1       7.958  11.411 508.441  1.00  0.00          FE  \nATOM    452   Fe MOL     1       8.754  12.552 510.447  1.00  0.00          FE  \nATOM    453   Fe MOL     1       7.958  11.411 512.458  1.00  0.00          FE  \nATOM    454   Fe MOL     1       8.754  12.552 514.456  1.00  0.00          FE  \nATOM    455   Fe MOL     1       7.958  11.411 516.450  1.00  0.00          FE  \nATOM    456   Fe MOL     1       8.754  12.552  -0.000  1.00  0.00          FE  \nATOM    457   Fe MOL     1       7.958  11.411   1.987  1.00  0.00          FE  \nATOM    458   Fe MOL     1       8.754  12.552   3.985  1.00  0.00          FE  \nATOM    459   Fe MOL     1       7.958  11.411   5.996  1.00  0.00          FE  \nATOM    460   Fe MOL     1       8.754  12.552   8.002  1.00  0.00          FE  \nATOM    461   Fe MOL     1       7.118  13.694 508.441  1.00  0.00          FE  \nATOM    462   Fe MOL     1       7.913  14.835 510.447  1.00  0.00          FE  \nATOM    463   Fe MOL     1       7.117  13.694 512.458  1.00  0.00          FE  \nATOM    464   Fe MOL     1       7.913  14.835 514.456  1.00  0.00          FE  \nATOM    465   Fe MOL     1       7.118  13.694 516.450  1.00  0.00          FE  \nATOM    466   Fe MOL     1       7.913  14.835  -0.000  1.00  0.00          FE  \nATOM    467   Fe MOL     1       7.118  13.694   1.987  1.00  0.00          FE  \nATOM    468   Fe MOL     1       7.913  14.835   3.985  1.00  0.00          FE  \nATOM    469   Fe MOL     1       7.117  13.693   5.996  1.00  0.00          FE  \nATOM    470   Fe MOL     1       7.914  14.834   8.001  1.00  0.00          FE  \nATOM    471   Fe MOL     1       6.277  15.976 508.441  1.00  0.00          FE  \nATOM    472   Fe MOL     1       7.073  17.117 510.446  1.00  0.00          FE  \nATOM    473   Fe MOL     1       6.277  15.976 512.458  1.00  0.00          FE  \nATOM    474   Fe MOL     1       7.073  17.117 514.456  1.00  0.00          FE  \nATOM    475   Fe MOL     1       6.277  15.976 516.450  1.00  0.00          FE  \nATOM    476   Fe MOL     1       7.073  17.117  -0.000  1.00  0.00          FE  \nATOM    477   Fe MOL     1       6.277  15.976   1.987  1.00  0.00          FE  \nATOM    478   Fe MOL     1       7.073  17.117   3.985  1.00  0.00          FE  \nATOM    479   Fe MOL     1       6.277  15.976   5.996  1.00  0.00          FE  \nATOM    480   Fe MOL     1       7.073  17.117   8.002  1.00  0.00          FE  \nATOM    481   Fe MOL     1      14.593   0.000 508.440  1.00  0.00          FE  \nATOM    482   Fe MOL     1      15.389   1.141 510.447  1.00  0.00          FE  \nATOM    483   Fe MOL     1      14.593   0.000 512.458  1.00  0.00          FE  \nATOM    484   Fe MOL     1      15.389   1.141 514.456  1.00  0.00          FE  \nATOM    485   Fe MOL     1      14.593   0.000 516.450  1.00  0.00          FE  \nATOM    486   Fe MOL     1      15.388   1.141  -0.000  1.00  0.00          FE  \nATOM    487   Fe MOL     1      14.593  -0.000   1.987  1.00  0.00          FE  \nATOM    488   Fe MOL     1      15.388   1.141   3.985  1.00  0.00          FE  \nATOM    489   Fe MOL     1      14.593   0.000   5.996  1.00  0.00          FE  \nATOM    490   Fe MOL     1      15.389   1.141   8.002  1.00  0.00          FE  \nATOM    491   Fe MOL     1      13.752   2.283 508.441  1.00  0.00          FE  \nATOM    492   Fe MOL     1      14.548   3.423 510.447  1.00  0.00          FE  \nATOM    493   Fe MOL     1      13.752   2.282 512.459  1.00  0.00          FE  \nATOM    494   Fe MOL     1      14.548   3.423 514.456  1.00  0.00          FE  \nATOM    495   Fe MOL     1      13.752   2.282 516.450  1.00  0.00          FE  \nATOM    496   Fe MOL     1      14.548   3.423  -0.000  1.00  0.00          FE  \nATOM    497   Fe MOL     1      13.752   2.282   1.987  1.00  0.00          FE  \nATOM    498   Fe MOL     1      14.548   3.423   3.985  1.00  0.00          FE  \nATOM    499   Fe MOL     1      13.752   2.282   5.996  1.00  0.00          FE  \nATOM    500   Fe MOL     1      14.548   3.423   8.002  1.00  0.00          FE  \nATOM    501   Fe MOL     1      12.912   4.565 508.441  1.00  0.00          FE  \nATOM    502   Fe MOL     1      13.707   5.706 510.447  1.00  0.00          FE  \nATOM    503   Fe MOL     1      12.911   4.564 512.458  1.00  0.00          FE  \nATOM    504   Fe MOL     1      13.707   5.706 514.456  1.00  0.00          FE  \nATOM    505   Fe MOL     1      12.912   4.565 516.450  1.00  0.00          FE  \nATOM    506   Fe MOL     1      13.707   5.706  -0.000  1.00  0.00          FE  \nATOM    507   Fe MOL     1      12.912   4.565   1.987  1.00  0.00          FE  \nATOM    508   Fe MOL     1      13.707   5.706   3.985  1.00  0.00          FE  \nATOM    509   Fe MOL     1      12.911   4.564   5.996  1.00  0.00          FE  \nATOM    510   Fe MOL     1      13.708   5.706   8.002  1.00  0.00          FE  \nATOM    511   Fe MOL     1      12.071   6.847 508.441  1.00  0.00          FE  \nATOM    512   Fe MOL     1      12.867   7.988 510.447  1.00  0.00          FE  \nATOM    513   Fe MOL     1      12.071   6.847 512.458  1.00  0.00          FE  \nATOM    514   Fe MOL     1      12.867   7.988 514.456  1.00  0.00          FE  \nATOM    515   Fe MOL     1      12.071   6.847 516.450  1.00  0.00          FE  \nATOM    516   Fe MOL     1      12.867   7.988  -0.000  1.00  0.00          FE  \nATOM    517   Fe MOL     1      12.071   6.847   1.987  1.00  0.00          FE  \nATOM    518   Fe MOL     1      12.867   7.988   3.985  1.00  0.00          FE  \nATOM    519   Fe MOL     1      12.071   6.847   5.996  1.00  0.00          FE  \nATOM    520   Fe MOL     1      12.867   7.988   8.002  1.00  0.00          FE  \nATOM    521   Fe MOL     1      11.231   9.129 508.440  1.00  0.00          FE  \nATOM    522   Fe MOL     1      12.027  10.270 510.447  1.00  0.00          FE  \nATOM    523   Fe MOL     1      11.231   9.129 512.458  1.00  0.00          FE  \nATOM    524   Fe MOL     1      12.026  10.270 514.456  1.00  0.00          FE  \nATOM    525   Fe MOL     1      11.231   9.129 516.450  1.00  0.00          FE  \nATOM    526   Fe MOL     1      12.026  10.270  -0.000  1.00  0.00          FE  \nATOM    527   Fe MOL     1      11.231   9.129   1.987  1.00  0.00          FE  \nATOM    528   Fe MOL     1      12.027  10.270   3.985  1.00  0.00          FE  \nATOM    529   Fe MOL     1      11.231   9.129   5.996  1.00  0.00          FE  \nATOM    530   Fe MOL     1      12.026  10.270   8.002  1.00  0.00          FE  \nATOM    531   Fe MOL     1      10.390  11.411 508.441  1.00  0.00          FE  \nATOM    532   Fe MOL     1      11.186  12.552 510.447  1.00  0.00          FE  \nATOM    533   Fe MOL     1      10.390  11.411 512.458  1.00  0.00          FE  \nATOM    534   Fe MOL     1      11.186  12.553 514.456  1.00  0.00          FE  \nATOM    535   Fe MOL     1      10.390  11.411 516.450  1.00  0.00          FE  \nATOM    536   Fe MOL     1      11.186  12.552  -0.000  1.00  0.00          FE  \nATOM    537   Fe MOL     1      10.390  11.411   1.987  1.00  0.00          FE  \nATOM    538   Fe MOL     1      11.186  12.553   3.985  1.00  0.00          FE  \nATOM    539   Fe MOL     1      10.390  11.411   5.996  1.00  0.00          FE  \nATOM    540   Fe MOL     1      11.186  12.552   8.002  1.00  0.00          FE  \nATOM    541   Fe MOL     1       9.550  13.693 508.442  1.00  0.00          FE  \nATOM    542   Fe MOL     1      10.345  14.834 510.447  1.00  0.00          FE  \nATOM    543   Fe MOL     1       9.549  13.693 512.459  1.00  0.00          FE  \nATOM    544   Fe MOL     1      10.345  14.835 514.456  1.00  0.00          FE  \nATOM    545   Fe MOL     1       9.550  13.694 516.450  1.00  0.00          FE  \nATOM    546   Fe MOL     1      10.346  14.835  -0.000  1.00  0.00          FE  \nATOM    547   Fe MOL     1       9.550  13.694   1.987  1.00  0.00          FE  \nATOM    548   Fe MOL     1      10.345  14.835   3.985  1.00  0.00          FE  \nATOM    549   Fe MOL     1       9.550  13.694   5.996  1.00  0.00          FE  \nATOM    550   Fe MOL     1      10.346  14.835   8.003  1.00  0.00          FE  \nATOM    551   Fe MOL     1       8.709  15.975 508.441  1.00  0.00          FE  \nATOM    552   Fe MOL     1       9.505  17.117 510.447  1.00  0.00          FE  \nATOM    553   Fe MOL     1       8.709  15.976 512.458  1.00  0.00          FE  \nATOM    554   Fe MOL     1       9.505  17.117 514.456  1.00  0.00          FE  \nATOM    555   Fe MOL     1       8.709  15.976 516.450  1.00  0.00          FE  \nATOM    556   Fe MOL     1       9.505  17.117  -0.000  1.00  0.00          FE  \nATOM    557   Fe MOL     1       8.709  15.976   1.987  1.00  0.00          FE  \nATOM    558   Fe MOL     1       9.505  17.117   3.985  1.00  0.00          FE  \nATOM    559   Fe MOL     1       8.709  15.976   5.996  1.00  0.00          FE  \nATOM    560   Fe MOL     1       9.506  17.117   8.002  1.00  0.00          FE  \nATOM    561   Fe MOL     1      17.025  -0.000 508.441  1.00  0.00          FE  \nATOM    562   Fe MOL     1      17.821   1.141 510.447  1.00  0.00          FE  \nATOM    563   Fe MOL     1      17.025  -0.000 512.458  1.00  0.00          FE  \nATOM    564   Fe MOL     1      17.821   1.141 514.456  1.00  0.00          FE  \nATOM    565   Fe MOL     1      17.025  -0.000 516.450  1.00  0.00          FE  \nATOM    566   Fe MOL     1      17.820   1.141  -0.000  1.00  0.00          FE  \nATOM    567   Fe MOL     1      17.025  -0.000   1.987  1.00  0.00          FE  \nATOM    568   Fe MOL     1      17.821   1.141   3.985  1.00  0.00          FE  \nATOM    569   Fe MOL     1      17.025   0.000   5.996  1.00  0.00          FE  \nATOM    570   Fe MOL     1      17.821   1.141   8.002  1.00  0.00          FE  \nATOM    571   Fe MOL     1      16.184   2.282 508.441  1.00  0.00          FE  \nATOM    572   Fe MOL     1      16.980   3.423 510.447  1.00  0.00          FE  \nATOM    573   Fe MOL     1      16.184   2.282 512.458  1.00  0.00          FE  \nATOM    574   Fe MOL     1      16.980   3.423 514.456  1.00  0.00          FE  \nATOM    575   Fe MOL     1      16.184   2.282 516.450  1.00  0.00          FE  \nATOM    576   Fe MOL     1      16.980   3.423  -0.000  1.00  0.00          FE  \nATOM    577   Fe MOL     1      16.184   2.282   1.987  1.00  0.00          FE  \nATOM    578   Fe MOL     1      16.980   3.423   3.985  1.00  0.00          FE  \nATOM    579   Fe MOL     1      16.184   2.282   5.996  1.00  0.00          FE  \nATOM    580   Fe MOL     1      16.980   3.423   8.002  1.00  0.00          FE  \nATOM    581   Fe MOL     1      15.344   4.565 508.441  1.00  0.00          FE  \nATOM    582   Fe MOL     1      16.139   5.706 510.447  1.00  0.00          FE  \nATOM    583   Fe MOL     1      15.344   4.564 512.458  1.00  0.00          FE  \nATOM    584   Fe MOL     1      16.139   5.706 514.456  1.00  0.00          FE  \nATOM    585   Fe MOL     1      15.344   4.565 516.450  1.00  0.00          FE  \nATOM    586   Fe MOL     1      16.140   5.706  -0.000  1.00  0.00          FE  \nATOM    587   Fe MOL     1      15.344   4.565   1.987  1.00  0.00          FE  \nATOM    588   Fe MOL     1      16.139   5.706   3.985  1.00  0.00          FE  \nATOM    589   Fe MOL     1      15.343   4.564   5.996  1.00  0.00          FE  \nATOM    590   Fe MOL     1      16.140   5.706   8.002  1.00  0.00          FE  \nATOM    591   Fe MOL     1      14.503   6.847 508.440  1.00  0.00          FE  \nATOM    592   Fe MOL     1      15.299   7.988 510.447  1.00  0.00          FE  \nATOM    593   Fe MOL     1      14.503   6.847 512.458  1.00  0.00          FE  \nATOM    594   Fe MOL     1      15.299   7.988 514.456  1.00  0.00          FE  \nATOM    595   Fe MOL     1      14.503   6.847 516.450  1.00  0.00          FE  \nATOM    596   Fe MOL     1      15.299   7.988  -0.000  1.00  0.00          FE  \nATOM    597   Fe MOL     1      14.503   6.847   1.987  1.00  0.00          FE  \nATOM    598   Fe MOL     1      15.299   7.988   3.985  1.00  0.00          FE  \nATOM    599   Fe MOL     1      14.503   6.847   5.996  1.00  0.00          FE  \nATOM    600   Fe MOL     1      15.299   7.988   8.002  1.00  0.00          FE  \nATOM    601   Fe MOL     1      13.663   9.130 508.441  1.00  0.00          FE  \nATOM    602   Fe MOL     1      14.459  10.270 510.447  1.00  0.00          FE  \nATOM    603   Fe MOL     1      13.663   9.129 512.458  1.00  0.00          FE  \nATOM    604   Fe MOL     1      14.459  10.270 514.456  1.00  0.00          FE  \nATOM    605   Fe MOL     1      13.663   9.129 516.450  1.00  0.00          FE  \nATOM    606   Fe MOL     1      14.459  10.270  -0.000  1.00  0.00          FE  \nATOM    607   Fe MOL     1      13.663   9.129   1.987  1.00  0.00          FE  \nATOM    608   Fe MOL     1      14.459  10.270   3.985  1.00  0.00          FE  \nATOM    609   Fe MOL     1      13.663   9.129   5.996  1.00  0.00          FE  \nATOM    610   Fe MOL     1      14.459  10.270   8.002  1.00  0.00          FE  \nATOM    611   Fe MOL     1      12.822  11.411 508.441  1.00  0.00          FE  \nATOM    612   Fe MOL     1      13.618  12.552 510.447  1.00  0.00          FE  \nATOM    613   Fe MOL     1      12.822  11.411 512.458  1.00  0.00          FE  \nATOM    614   Fe MOL     1      13.618  12.553 514.456  1.00  0.00          FE  \nATOM    615   Fe MOL     1      12.822  11.411 516.450  1.00  0.00          FE  \nATOM    616   Fe MOL     1      13.618  12.552  -0.000  1.00  0.00          FE  \nATOM    617   Fe MOL     1      12.822  11.411   1.987  1.00  0.00          FE  \nATOM    618   Fe MOL     1      13.618  12.553   3.985  1.00  0.00          FE  \nATOM    619   Fe MOL     1      12.822  11.411   5.996  1.00  0.00          FE  \nATOM    620   Fe MOL     1      13.618  12.553   8.002  1.00  0.00          FE  \nATOM    621   Fe MOL     1      11.982  13.693 508.440  1.00  0.00          FE  \nATOM    622   Fe MOL     1      12.777  14.834 510.447  1.00  0.00          FE  \nATOM    623   Fe MOL     1      11.982  13.693 512.458  1.00  0.00          FE  \nATOM    624   Fe MOL     1      12.777  14.835 514.456  1.00  0.00          FE  \nATOM    625   Fe MOL     1      11.982  13.694 516.450  1.00  0.00          FE  \nATOM    626   Fe MOL     1      12.778  14.835  -0.000  1.00  0.00          FE  \nATOM    627   Fe MOL     1      11.982  13.694   1.987  1.00  0.00          FE  \nATOM    628   Fe MOL     1      12.777  14.835   3.985  1.00  0.00          FE  \nATOM    629   Fe MOL     1      11.982  13.694   5.996  1.00  0.00          FE  \nATOM    630   Fe MOL     1      12.778  14.835   8.002  1.00  0.00          FE  \nATOM    631   Fe MOL     1      11.141  15.976 508.441  1.00  0.00          FE  \nATOM    632   Fe MOL     1      11.937  17.117 510.447  1.00  0.00          FE  \nATOM    633   Fe MOL     1      11.141  15.975 512.458  1.00  0.00          FE  \nATOM    634   Fe MOL     1      11.937  17.117 514.456  1.00  0.00          FE  \nATOM    635   Fe MOL     1      11.141  15.976 516.450  1.00  0.00          FE  \nATOM    636   Fe MOL     1      11.937  17.117  -0.000  1.00  0.00          FE  \nATOM    637   Fe MOL     1      11.141  15.976   1.987  1.00  0.00          FE  \nATOM    638   Fe MOL     1      11.937  17.117   3.985  1.00  0.00          FE  \nATOM    639   Fe MOL     1      11.141  15.976   5.996  1.00  0.00          FE  \nATOM    640   Fe MOL     1      11.938  17.117   8.002  1.00  0.00          FE  \nENDMDL\n",
           "type": "blob"
          }
         ],
         "kwargs": {
          "defaultRepresentation": false,
          "ext": "pdb"
         },
         "methodName": "loadFile",
         "reconstruc_color_scheme": false,
         "target": "Stage",
         "type": "call_method"
        },
        {
         "args": [
          "500px",
          "500px"
         ],
         "kwargs": {},
         "methodName": "setSize",
         "reconstruc_color_scheme": false,
         "target": "Widget",
         "type": "call_method"
        },
        {
         "args": [
          "unitcell"
         ],
         "component_index": 0,
         "kwargs": {
          "sele": "all"
         },
         "methodName": "addRepresentation",
         "reconstruc_color_scheme": false,
         "target": "compList",
         "type": "call_method"
        },
        {
         "args": [
          "spacefill"
         ],
         "component_index": 0,
         "kwargs": {
          "sele": "all"
         },
         "methodName": "addRepresentation",
         "reconstruc_color_scheme": false,
         "target": "compList",
         "type": "call_method"
        },
        {
         "args": [],
         "kwargs": {
          "cameraType": "orthographic"
         },
         "methodName": "setParameters",
         "reconstruc_color_scheme": false,
         "target": "Stage",
         "type": "call_method"
        },
        {
         "args": [
          {
           "clipDist": 0
          }
         ],
         "kwargs": {},
         "methodName": "setParameters",
         "reconstruc_color_scheme": false,
         "target": "Widget",
         "type": "call_method"
        },
        {
         "args": [
          "spacefill",
          0
         ],
         "kwargs": {
          "colorScale": "rainbow",
          "colorScheme": "element",
          "radiusScale": 0.5,
          "radiusType": "covalent"
         },
         "methodName": "updateRepresentationsByName",
         "reconstruc_color_scheme": false,
         "target": "Widget",
         "type": "call_method"
        },
        {
         "args": [
          "this._Q = [[0.999978815397708, -0.006509128650935866, -4.6030954535128585e-08], [0.006509128650935745, 0.999978815397709, -2.788189858620802e-09], [4.6048128074156687e-08, 2.4885093869330063e-09, 0.9999999999999989]]\n    var tooltip = document.createElement('div');\n    Object.assign(tooltip.style, {\n      display: 'none',\n      position: 'fixed',\n      zIndex: 10,\n      pointerEvents: 'none',\n      backgroundColor: 'rgba( 0, 0, 0, 0.6 )',\n      color: 'lightgrey',\n      padding: '8px',\n      fontFamily: 'sans-serif'\n    });\n    document.body.appendChild(tooltip);\n\n    var that = this;\n    this.stage.mouseControls.remove('hoverPick');\n    this.stage.signals.hovered.add(function (pickingProxy) {\n      if (pickingProxy && (pickingProxy.atom || pickingProxy.bond)) {\n        var atom = pickingProxy.atom || pickingProxy.closestBondAtom\n        var mp = pickingProxy.mouse.position\n        //tooltip.innerText = atom.element + ' i=' + atom.index + ' (' + atom.x.toFixed(2) +  ', ' + atom.y.toFixed(2) +  ', ' + atom.z.toFixed(2) + ')'\n        //var pos = that._atoms_pos[atom.index]\n        var Q = that._Q\n        var pos_x = Q[0][0] * atom.x + Q[0][1] * atom.y + Q[0][2] * atom.z \n        var pos_y = Q[1][0] * atom.x + Q[1][1] * atom.y + Q[1][2] * atom.z\n        var pos_z = Q[2][0] * atom.x + Q[2][1] * atom.y + Q[2][2] * atom.z\n        tooltip.innerText = 'i=' + atom.index + ' ' + atom.element + ' (' + pos_x.toFixed(2) +  ', ' + pos_y.toFixed(2) +  ', ' + pos_z.toFixed(2) + ')'\n        tooltip.style.bottom = window.innerHeight - mp.y + 3 + 'px'\n        tooltip.style.left = mp.x + 3 + 'px'\n        tooltip.style.display = 'block'\n      } else {\n        tooltip.style.display = 'none'\n      }\n    });\n    this.stage.tooltip = tooltip;\n    "
         ],
         "kwargs": {},
         "methodName": "executeCode",
         "reconstruc_color_scheme": false,
         "target": "Widget",
         "type": "call_method"
        },
        {
         "args": [
          "ball+stick"
         ],
         "component_index": 0,
         "kwargs": {
          "sele": "all"
         },
         "methodName": "addRepresentation",
         "reconstruc_color_scheme": false,
         "target": "compList",
         "type": "call_method"
        },
        {
         "args": [
          [
           1,
           0,
           0
          ],
          -1.5707963267948966
         ],
         "kwargs": {},
         "methodName": "spin",
         "reconstruc_color_scheme": false,
         "target": "viewerControls",
         "type": "call_method"
        },
        {
         "args": [
          "spacefill",
          0
         ],
         "kwargs": {
          "colorScale": "rainbow",
          "colorScheme": "element",
          "radiusScale": 0.5,
          "radiusType": "covalent"
         },
         "methodName": "updateRepresentationsByName",
         "reconstruc_color_scheme": false,
         "target": "Widget",
         "type": "call_method"
        },
        {
         "args": [
          "spacefill",
          0
         ],
         "kwargs": {
          "colorScale": "rainbow",
          "colorScheme": "element",
          "radiusScale": 0.49999999999999994,
          "radiusType": "covalent"
         },
         "methodName": "updateRepresentationsByName",
         "reconstruc_color_scheme": false,
         "target": "Widget",
         "type": "call_method"
        },
        {
         "args": [
          "spacefill",
          0
         ],
         "kwargs": {
          "colorScale": "rainbow",
          "colorScheme": "element",
          "radiusScale": 0.49999999999999994,
          "radiusType": "covalent"
         },
         "methodName": "updateRepresentationsByName",
         "reconstruc_color_scheme": false,
         "target": "Widget",
         "type": "call_method"
        }
       ],
       "_ngl_original_stage_parameters": {
        "ambientColor": 14540253,
        "ambientIntensity": 0.2,
        "backgroundColor": "white",
        "cameraEyeSep": 0.3,
        "cameraFov": 40,
        "cameraType": "perspective",
        "clipDist": 10,
        "clipFar": 100,
        "clipMode": "scene",
        "clipNear": 0,
        "clipScale": "relative",
        "fogFar": 100,
        "fogNear": 50,
        "hoverTimeout": 0,
        "impostor": true,
        "lightColor": 14540253,
        "lightIntensity": 1,
        "mousePreset": "default",
        "panSpeed": 1,
        "quality": "medium",
        "rotateSpeed": 2,
        "sampleLevel": 0,
        "tooltip": true,
        "workerDefault": true,
        "zoomSpeed": 1.2
       },
       "_ngl_repr_dict": {
        "0": {
         "0": {
          "params": {
           "clipCenter": {
            "x": 0,
            "y": 0,
            "z": 0
           },
           "clipNear": 0,
           "clipRadius": 0,
           "colorMode": "hcl",
           "colorReverse": false,
           "colorScale": "",
           "colorScheme": "element",
           "colorValue": "orange",
           "defaultAssembly": "",
           "depthWrite": true,
           "diffuse": 16777215,
           "diffuseInterior": false,
           "disableImpostor": false,
           "disablePicking": false,
           "flatShaded": false,
           "interiorColor": 2236962,
           "interiorDarkening": 0,
           "lazy": false,
           "matrix": {
            "elements": [
             1,
             0,
             0,
             0,
             0,
             1,
             0,
             0,
             0,
             0,
             1,
             0,
             0,
             0,
             0,
             1
            ]
           },
           "metalness": 0,
           "opacity": 1,
           "quality": "medium",
           "radialSegments": 10,
           "radiusData": {},
           "radiusScale": 1,
           "radiusSize": 0.2844887189197081,
           "radiusType": "vdw",
           "roughness": 0.4,
           "sele": "all",
           "side": "double",
           "sphereDetail": 1,
           "useInteriorColor": true,
           "visible": true,
           "wireframe": false
          },
          "type": "unitcell"
         },
         "1": {
          "params": {
           "assembly": "default",
           "clipCenter": {
            "x": 0,
            "y": 0,
            "z": 0
           },
           "clipNear": 0,
           "clipRadius": 0,
           "colorMode": "hcl",
           "colorReverse": false,
           "colorScale": "rainbow",
           "colorScheme": "element",
           "colorValue": 9474192,
           "defaultAssembly": "",
           "depthWrite": true,
           "diffuse": 16777215,
           "diffuseInterior": false,
           "disableImpostor": false,
           "disablePicking": false,
           "flatShaded": false,
           "interiorColor": 2236962,
           "interiorDarkening": 0,
           "lazy": false,
           "matrix": {
            "elements": [
             1,
             0,
             0,
             0,
             0,
             1,
             0,
             0,
             0,
             0,
             1,
             0,
             0,
             0,
             0,
             1
            ]
           },
           "metalness": 0,
           "opacity": 1,
           "quality": "medium",
           "radiusData": {},
           "radiusScale": 0.5,
           "radiusSize": 1,
           "radiusType": "covalent",
           "roughness": 0.4,
           "sele": "all",
           "side": "double",
           "sphereDetail": 1,
           "useInteriorColor": true,
           "visible": true,
           "wireframe": false
          },
          "type": "spacefill"
         },
         "2": {
          "params": {
           "aspectRatio": 2,
           "assembly": "default",
           "bondScale": 0.4,
           "bondSpacing": 1,
           "clipCenter": {
            "x": 0,
            "y": 0,
            "z": 0
           },
           "clipNear": 0,
           "clipRadius": 0,
           "colorMode": "hcl",
           "colorReverse": false,
           "colorScale": "",
           "colorScheme": "element",
           "colorValue": 9474192,
           "cylinderOnly": false,
           "defaultAssembly": "",
           "depthWrite": true,
           "diffuse": 16777215,
           "diffuseInterior": false,
           "disableImpostor": false,
           "disablePicking": false,
           "flatShaded": false,
           "interiorColor": 2236962,
           "interiorDarkening": 0,
           "lazy": false,
           "lineOnly": false,
           "linewidth": 2,
           "matrix": {
            "elements": [
             1,
             0,
             0,
             0,
             0,
             1,
             0,
             0,
             0,
             0,
             1,
             0,
             0,
             0,
             0,
             1
            ]
           },
           "metalness": 0,
           "multipleBond": "off",
           "opacity": 1,
           "openEnded": true,
           "quality": "medium",
           "radialSegments": 10,
           "radiusData": {},
           "radiusScale": 1,
           "radiusSize": 0.15,
           "radiusType": "size",
           "roughness": 0.4,
           "sele": "all",
           "side": "double",
           "sphereDetail": 1,
           "useInteriorColor": true,
           "visible": true,
           "wireframe": false
          },
          "type": "ball+stick"
         }
        }
       },
       "_ngl_serialize": false,
       "_ngl_version": "2.0.0-dev.39",
       "_ngl_view_id": [
        "C00268E5-32C1-4794-AB5C-B2611D5196DA"
       ],
       "_player_dict": {},
       "_scene_position": {},
       "_scene_rotation": {},
       "_synced_model_ids": [],
       "_synced_repr_model_ids": [],
       "_view_height": "",
       "_view_width": "",
       "background": "white",
       "frame": 0,
       "gui_style": null,
       "layout": "IPY_MODEL_a6788fbf90e34ad5b041dc0d7244cbd4",
       "max_frame": 0,
       "n_components": 1,
       "picked": {}
      }
     },
     "1ede3d0699c844a09e76c8843961e307": {
      "model_module": "@jupyter-widgets/controls",
      "model_module_version": "2.0.0",
      "model_name": "SliderStyleModel",
      "state": {
       "description_width": ""
      }
     },
     "2060231ae7b94bc8a20e2670056671d6": {
      "model_module": "@jupyter-widgets/controls",
      "model_module_version": "2.0.0",
      "model_name": "PlayModel",
      "state": {
       "layout": "IPY_MODEL_f702ba23183c4279ba33f5ac508e7ead",
       "max": 0,
       "style": "IPY_MODEL_8ef9d44a19dd44ca8acf9861f3b9111d"
      }
     },
     "20c140f48b6d4ffca2e2a7c22c5daa52": {
      "model_module": "@jupyter-widgets/base",
      "model_module_version": "2.0.0",
      "model_name": "LayoutModel",
      "state": {}
     },
     "218ae7ef54714044bce195c745ddceed": {
      "model_module": "@jupyter-widgets/controls",
      "model_module_version": "2.0.0",
      "model_name": "CheckboxStyleModel",
      "state": {
       "description_width": ""
      }
     },
     "21e646be174b47a0a750273e95486d1b": {
      "model_module": "@jupyter-widgets/controls",
      "model_module_version": "2.0.0",
      "model_name": "TextModel",
      "state": {
       "description": "Filename: ",
       "layout": "IPY_MODEL_ce65d5957585463a8917ced5b14c67d5",
       "style": "IPY_MODEL_f10300d9792243b5864a6fc5a57334c4",
       "value": "screenshot.png"
      }
     },
     "222762fc68154b169fc89fc976728fea": {
      "model_module": "@jupyter-widgets/base",
      "model_module_version": "2.0.0",
      "model_name": "LayoutModel",
      "state": {}
     },
     "23209ce31e8e425599d17cd90614d9ec": {
      "model_module": "@jupyter-widgets/controls",
      "model_module_version": "2.0.0",
      "model_name": "DescriptionStyleModel",
      "state": {
       "description_width": ""
      }
     },
     "23212b8f88054b1a890143bbe3a867d8": {
      "model_module": "@jupyter-widgets/controls",
      "model_module_version": "2.0.0",
      "model_name": "ButtonModel",
      "state": {
       "icon": "compress",
       "layout": "IPY_MODEL_deada1afc0d74e0ea546e11c3c4041a3",
       "style": "IPY_MODEL_8a65d2470f2c4326812137a7678e53ad",
       "tooltip": null
      }
     },
     "237331b00baa42c5a9c3df950d33eb90": {
      "model_module": "@jupyter-widgets/base",
      "model_module_version": "2.0.0",
      "model_name": "LayoutModel",
      "state": {}
     },
     "2391c549f3534372ab3ff5abf5d01c00": {
      "model_module": "@jupyter-widgets/base",
      "model_module_version": "2.0.0",
      "model_name": "LayoutModel",
      "state": {}
     },
     "25423cb1b907476fadd09b411b7c5703": {
      "model_module": "@jupyter-widgets/controls",
      "model_module_version": "2.0.0",
      "model_name": "HBoxModel",
      "state": {
       "children": [
        "IPY_MODEL_1e646d182162411dbc4cc02dff36165e",
        "IPY_MODEL_5274a779cfeb41ebb23115062f58feea"
       ],
       "layout": "IPY_MODEL_bcbb5ffe935a4413b6e0cd0ad8369d16"
      }
     },
     "25a2633b64fa41a786f117866e086b1b": {
      "model_module": "@jupyter-widgets/controls",
      "model_module_version": "2.0.0",
      "model_name": "FloatSliderModel",
      "state": {
       "behavior": "drag-tap",
       "description": "Ball size",
       "layout": "IPY_MODEL_b810d42d4b824d1dbb33d9a1bba73816",
       "max": 1.5,
       "step": 0.01,
       "style": "IPY_MODEL_a639da9d1b1b4564aff8e0cee6ca8a6b",
       "value": 0.49999999999999994
      }
     },
     "265206248da94389b61289affce9ad22": {
      "model_module": "@jupyter-widgets/base",
      "model_module_version": "2.0.0",
      "model_name": "LayoutModel",
      "state": {}
     },
     "26739d0eb46d4e1e9422438db5c95082": {
      "model_module": "@jupyter-widgets/controls",
      "model_module_version": "2.0.0",
      "model_name": "CheckboxStyleModel",
      "state": {
       "description_width": ""
      }
     },
     "28cac76d3dc9430b8ced3057f4da7873": {
      "model_module": "@jupyter-widgets/base",
      "model_module_version": "2.0.0",
      "model_name": "LayoutModel",
      "state": {}
     },
     "2975aeedeed14acda62dbc8ec408687c": {
      "model_module": "@jupyter-widgets/controls",
      "model_module_version": "2.0.0",
      "model_name": "HTMLModel",
      "state": {
       "layout": "IPY_MODEL_a882312733fb4083a89a8219440ebbbc",
       "style": "IPY_MODEL_8a8ce0895e3246459660efb28a3d2a68",
       "value": "100%"
      }
     },
     "2ac77d429ec24a8abc123bfe6ec04ca2": {
      "model_module": "@jupyter-widgets/controls",
      "model_module_version": "2.0.0",
      "model_name": "FloatSliderModel",
      "state": {
       "behavior": "drag-tap",
       "description": "Charge scale",
       "layout": "IPY_MODEL_4ecc872d03fb47efbd6fbe4a14414f4e",
       "step": 0.1,
       "style": "IPY_MODEL_d4f17407b69c4da984d99e76d840f784",
       "value": 1
      }
     },
     "2e3f1a6d91d3469ea486d55164e49f8e": {
      "model_module": "@jupyter-widgets/base",
      "model_module_version": "2.0.0",
      "model_name": "LayoutModel",
      "state": {}
     },
     "3022460ffb284d6682de697c24aa94f2": {
      "model_module": "@jupyter-widgets/base",
      "model_module_version": "2.0.0",
      "model_name": "LayoutModel",
      "state": {}
     },
     "3087b4b05b534c48b2be33aefe6be348": {
      "model_module": "@jupyter-widgets/controls",
      "model_module_version": "2.0.0",
      "model_name": "DescriptionStyleModel",
      "state": {
       "description_width": ""
      }
     },
     "34cda73f11924ab7a13cc2c8712216ca": {
      "model_module": "@jupyter-widgets/base",
      "model_module_version": "2.0.0",
      "model_name": "LayoutModel",
      "state": {}
     },
     "35045515e0cf494180eb968507e29779": {
      "model_module": "@jupyter-widgets/base",
      "model_module_version": "2.0.0",
      "model_name": "LayoutModel",
      "state": {}
     },
     "35fdb2865536426e93aaf2f171e3d6bb": {
      "model_module": "@jupyter-widgets/controls",
      "model_module_version": "2.0.0",
      "model_name": "HBoxModel",
      "state": {
       "children": [
        "IPY_MODEL_fa58f8667d904302abf2f04b9918621a",
        "IPY_MODEL_745e9a45fd6f4433817745a490dcf5b9"
       ],
       "layout": "IPY_MODEL_447eead729874913b37330832d80f384"
      }
     },
     "36e7e3e6264b42a2a347e82683ca33f0": {
      "model_module": "@jupyter-widgets/controls",
      "model_module_version": "2.0.0",
      "model_name": "LinkModel",
      "state": {
       "source": [
        "IPY_MODEL_5a532e26605940e1bf330f896481d9c0",
        "value"
       ],
       "target": [
        "IPY_MODEL_476dc7cf80d64545a218a99c6a208265",
        "frame"
       ]
      }
     },
     "39185918e881416ba28d36e4788cf371": {
      "model_module": "@jupyter-widgets/controls",
      "model_module_version": "2.0.0",
      "model_name": "FloatSliderModel",
      "state": {
       "behavior": "drag-tap",
       "description": "Force scale",
       "layout": "IPY_MODEL_b56c34c9490b499a9e320548890097b4",
       "step": 0.1,
       "style": "IPY_MODEL_4c0868c8301e486099179a5795d667f2",
       "value": 0.5
      }
     },
     "39678d8bd40948a2ae3fbf3ca66b7fff": {
      "model_module": "@jupyter-widgets/base",
      "model_module_version": "2.0.0",
      "model_name": "LayoutModel",
      "state": {}
     },
     "3a9df9cc02be473ebdf9b2fdf1f3b51a": {
      "model_module": "@jupyter-widgets/controls",
      "model_module_version": "2.0.0",
      "model_name": "CheckboxStyleModel",
      "state": {
       "description_width": ""
      }
     },
     "3cecaf9f9a8847c7a5f7fe4222b0b89a": {
      "model_module": "@jupyter-widgets/controls",
      "model_module_version": "2.0.0",
      "model_name": "ButtonModel",
      "state": {
       "description": "Download image",
       "layout": "IPY_MODEL_85eb7c2107e84398a36fe79acc3b6cea",
       "style": "IPY_MODEL_91b6aa35b3084c36b8ada38b2e080f78",
       "tooltip": "Download current frame to your local PC"
      }
     },
     "4170c86978b6497fb37599c5c152fa13": {
      "model_module": "@jupyter-widgets/base",
      "model_module_version": "2.0.0",
      "model_name": "LayoutModel",
      "state": {}
     },
     "425df5dbabf445d780278e45e238aca8": {
      "model_module": "@jupyter-widgets/controls",
      "model_module_version": "2.0.0",
      "model_name": "LinkModel",
      "state": {
       "source": [
        "IPY_MODEL_71f7ebbdd79b4401af0a1028ecceb7c9",
        "max"
       ],
       "target": [
        "IPY_MODEL_476dc7cf80d64545a218a99c6a208265",
        "max_frame"
       ]
      }
     },
     "43ff62368f054beebd8e753b823db13f": {
      "model_module": "@jupyter-widgets/controls",
      "model_module_version": "2.0.0",
      "model_name": "ButtonModel",
      "state": {
       "icon": "compress",
       "layout": "IPY_MODEL_adeff5c3069d46cfa9302522c0b9d322",
       "style": "IPY_MODEL_68c31eb7dcbc4e3e8af714e72428e98b",
       "tooltip": null
      }
     },
     "447eead729874913b37330832d80f384": {
      "model_module": "@jupyter-widgets/base",
      "model_module_version": "2.0.0",
      "model_name": "LayoutModel",
      "state": {}
     },
     "448008209b3c4c5f9524ae09697ae0f2": {
      "model_module": "@jupyter-widgets/controls",
      "model_module_version": "2.0.0",
      "model_name": "HBoxModel",
      "state": {
       "children": [
        "IPY_MODEL_aac61809cda24aa9b58502d15a9b01f5",
        "IPY_MODEL_09e47b6a897146709cd37879d5531194"
       ],
       "layout": "IPY_MODEL_a3c7c8746a004eca98a7588eee2c478b"
      }
     },
     "456844b4c0c64d1abfc30ec5aeef56a3": {
      "model_module": "@jupyter-widgets/controls",
      "model_module_version": "2.0.0",
      "model_name": "ImageModel",
      "state": {
       "layout": "IPY_MODEL_cd56d11a719f4452a65f0ef8a2d0dcfa",
       "width": "900.0"
      }
     },
     "45c35aec1c2b46088efa78f9b6d29d88": {
      "model_module": "@jupyter-widgets/base",
      "model_module_version": "2.0.0",
      "model_name": "LayoutModel",
      "state": {}
     },
     "46836f62aefc42f3b2f3bedde2093814": {
      "model_module": "@jupyter-widgets/controls",
      "model_module_version": "2.0.0",
      "model_name": "DescriptionStyleModel",
      "state": {
       "description_width": ""
      }
     },
     "46bf0f0bbf8d49508036c35674d2cae6": {
      "model_module": "@jupyter-widgets/base",
      "model_module_version": "2.0.0",
      "model_name": "LayoutModel",
      "state": {}
     },
     "472b93c45bb94d0a969a34aa632e5c65": {
      "model_module": "@jupyter-widgets/controls",
      "model_module_version": "2.0.0",
      "model_name": "HBoxModel",
      "state": {
       "children": [
        "IPY_MODEL_2060231ae7b94bc8a20e2670056671d6",
        "IPY_MODEL_9c2176bb0398430c9291c6bf6adad553"
       ],
       "layout": "IPY_MODEL_697a86b56ae3482c9f9bb643cd390517"
      }
     },
     "476dc7cf80d64545a218a99c6a208265": {
      "model_module": "nglview-js-widgets",
      "model_module_version": "3.0.6",
      "model_name": "NGLModel",
      "state": {
       "_camera_orientation": [
        124.40658172504077,
        0,
        0,
        0,
        0,
        124.40658172504077,
        0,
        0,
        0,
        0,
        124.40658172504077,
        0,
        -5.170499801635742,
        0.7014999389648438,
        -33.41299819946289,
        1
       ],
       "_camera_str": "orthographic",
       "_gui_theme": null,
       "_ibtn_fullscreen": "IPY_MODEL_118e9b69618042deaadc41a669e01c03",
       "_igui": null,
       "_iplayer": "IPY_MODEL_d74bfa12cf7643f0b6cc70e047584a95",
       "_ngl_color_dict": {},
       "_ngl_coordinate_resource": {},
       "_ngl_full_stage_parameters": {
        "ambientColor": 14540253,
        "ambientIntensity": 0.2,
        "backgroundColor": "white",
        "cameraEyeSep": 0.3,
        "cameraFov": 40,
        "cameraType": "orthographic",
        "clipDist": 0,
        "clipFar": 100,
        "clipMode": "scene",
        "clipNear": 0,
        "clipScale": "relative",
        "fogFar": 100,
        "fogNear": 50,
        "hoverTimeout": 0,
        "impostor": true,
        "lightColor": 14540253,
        "lightIntensity": 1,
        "mousePreset": "default",
        "panSpeed": 1,
        "quality": "medium",
        "rotateSpeed": 2,
        "sampleLevel": 0,
        "tooltip": true,
        "workerDefault": true,
        "zoomSpeed": 1.2
       },
       "_ngl_msg_archive": [
        {
         "args": [
          {
           "binary": false,
           "data": "CRYST1   19.450   19.450   68.691  90.00  90.00 109.49 P 1\nMODEL     1\nATOM      1   Fe MOL     1       0.073  -0.092  58.798  1.00  0.00          FE  \nATOM      2   Fe MOL     1       0.772   1.023  60.842  1.00  0.00          FE  \nATOM      3   Fe MOL     1      -0.082  -0.040  62.683  1.00  0.00          FE  \nATOM      4   Fe MOL     1       0.833   1.123  64.734  1.00  0.00          FE  \nATOM      5   Fe MOL     1       0.092   0.085  66.676  1.00  0.00          FE  \nATOM      6   Fe MOL     1       0.810   1.146  -0.000  1.00  0.00          FE  \nATOM      7   Fe MOL     1      -0.000  -0.000   1.985  1.00  0.00          FE  \nATOM      8   Fe MOL     1       0.767   1.061   3.953  1.00  0.00          FE  \nATOM      9   Fe MOL     1      -0.089  -0.109   6.022  1.00  0.00          FE  \nATOM     10   Fe MOL     1       0.656   1.194   7.893  1.00  0.00          FE  \nATOM     11   Fe MOL     1      -0.842   2.205  58.853  1.00  0.00          FE  \nATOM     12   Fe MOL     1      -0.055   3.372  60.695  1.00  0.00          FE  \nATOM     13   Fe MOL     1      -0.826   2.289  62.697  1.00  0.00          FE  \nATOM     14   Fe MOL     1       0.041   3.517  64.598  1.00  0.00          FE  \nATOM     15   Fe MOL     1      -0.711   2.258  66.586  1.00  0.00          FE  \nATOM     16   Fe MOL     1      -0.001   3.438  -0.000  1.00  0.00          FE  \nATOM     17   Fe MOL     1      -0.811   2.292   1.985  1.00  0.00          FE  \nATOM     18   Fe MOL     1      -0.009   3.369   4.091  1.00  0.00          FE  \nATOM     19   Fe MOL     1      -0.854   2.177   6.095  1.00  0.00          FE  \nATOM     20   Fe MOL     1       0.136   3.487   7.988  1.00  0.00          FE  \nATOM     21   Fe MOL     1      -1.592   4.552  58.593  1.00  0.00          FE  \nATOM     22   Fe MOL     1      -0.750   5.740  60.528  1.00  0.00          FE  \nATOM     23   Fe MOL     1      -1.501   4.700  62.639  1.00  0.00          FE  \nATOM     24   Fe MOL     1      -0.766   5.880  64.609  1.00  0.00          FE  \nATOM     25   Fe MOL     1      -1.639   4.532  66.630  1.00  0.00          FE  \nATOM     26   Fe MOL     1      -0.813   5.730  -0.000  1.00  0.00          FE  \nATOM     27   Fe MOL     1      -1.623   4.584   1.985  1.00  0.00          FE  \nATOM     28   Fe MOL     1      -0.760   5.795   3.969  1.00  0.00          FE  \nATOM     29   Fe MOL     1      -1.576   4.570   5.991  1.00  0.00          FE  \nATOM     30   Fe MOL     1      -0.669   5.814   7.846  1.00  0.00          FE  \nATOM     31   Fe MOL     1      -2.444   6.941  58.552  1.00  0.00          FE  \nATOM     32   Fe MOL     1      -1.591   7.986  60.608  1.00  0.00          FE  \nATOM     33   Fe MOL     1      -2.371   6.880  62.626  1.00  0.00          FE  \nATOM     34   Fe MOL     1      -1.591   8.036  64.705  1.00  0.00          FE  \nATOM     35   Fe MOL     1      -2.438   6.951  66.593  1.00  0.00          FE  \nATOM     36   Fe MOL     1      -1.624   8.022  -0.000  1.00  0.00          FE  \nATOM     37   Fe MOL     1      -2.434   6.876   1.985  1.00  0.00          FE  \nATOM     38   Fe MOL     1      -1.417   8.085   3.904  1.00  0.00          FE  \nATOM     39   Fe MOL     1      -2.421   6.852   5.977  1.00  0.00          FE  \nATOM     40   Fe MOL     1      -1.800   8.049   7.935  1.00  0.00          FE  \nATOM     41   Fe MOL     1      -3.327   9.155  58.699  1.00  0.00          FE  \nATOM     42   Fe MOL     1      -2.366  10.342  60.753  1.00  0.00          FE  \nATOM     43   Fe MOL     1      -3.280   9.170  62.522  1.00  0.00          FE  \nATOM     44   Fe MOL     1      -2.318  10.358  64.692  1.00  0.00          FE  \nATOM     45   Fe MOL     1      -3.262   9.311  66.616  1.00  0.00          FE  \nATOM     46   Fe MOL     1      -2.435  10.313  -0.000  1.00  0.00          FE  \nATOM     47   Fe MOL     1      -3.245   9.167   1.985  1.00  0.00          FE  \nATOM     48   Fe MOL     1      -2.457  10.278   3.983  1.00  0.00          FE  \nATOM     49   Fe MOL     1      -3.268   9.292   5.934  1.00  0.00          FE  \nATOM     50   Fe MOL     1      -2.508  10.343   8.043  1.00  0.00          FE  \nATOM     51   Fe MOL     1      -3.912  11.500  58.582  1.00  0.00          FE  \nATOM     52   Fe MOL     1      -3.293  12.519  60.682  1.00  0.00          FE  \nATOM     53   Fe MOL     1      -3.957  11.472  62.721  1.00  0.00          FE  \nATOM     54   Fe MOL     1      -3.046  12.602  64.721  1.00  0.00          FE  \nATOM     55   Fe MOL     1      -4.124  11.545  66.700  1.00  0.00          FE  \nATOM     56   Fe MOL     1      -3.247  12.605  -0.000  1.00  0.00          FE  \nATOM     57   Fe MOL     1      -4.057  11.459   1.985  1.00  0.00          FE  \nATOM     58   Fe MOL     1      -3.243  12.561   4.007  1.00  0.00          FE  \nATOM     59   Fe MOL     1      -4.074  11.525   6.018  1.00  0.00          FE  \nATOM     60   Fe MOL     1      -3.369  12.565   8.025  1.00  0.00          FE  \nATOM     61   Fe MOL     1      -4.852  13.829  58.831  1.00  0.00          FE  \nATOM     62   Fe MOL     1      -3.949  14.794  60.751  1.00  0.00          FE  \nATOM     63   Fe MOL     1      -4.818  13.666  62.721  1.00  0.00          FE  \nATOM     64   Fe MOL     1      -3.980  14.856  64.709  1.00  0.00          FE  \nATOM     65   Fe MOL     1      -4.927  13.676  66.764  1.00  0.00          FE  \nATOM     66   Fe MOL     1      -4.058  14.897  -0.000  1.00  0.00          FE  \nATOM     67   Fe MOL     1      -4.868  13.751   1.985  1.00  0.00          FE  \nATOM     68   Fe MOL     1      -3.913  14.817   4.056  1.00  0.00          FE  \nATOM     69   Fe MOL     1      -4.895  13.935   6.004  1.00  0.00          FE  \nATOM     70   Fe MOL     1      -4.178  14.949   8.125  1.00  0.00          FE  \nATOM     71   Fe MOL     1      -5.676  16.054  58.624  1.00  0.00          FE  \nATOM     72   Fe MOL     1      -4.899  17.151  60.654  1.00  0.00          FE  \nATOM     73   Fe MOL     1      -5.566  16.109  62.717  1.00  0.00          FE  \nATOM     74   Fe MOL     1      -4.908  17.209  64.770  1.00  0.00          FE  \nATOM     75   Fe MOL     1      -5.729  16.025  66.767  1.00  0.00          FE  \nATOM     76   Fe MOL     1      -4.869  17.189  -0.000  1.00  0.00          FE  \nATOM     77   Fe MOL     1      -5.679  16.043   1.985  1.00  0.00          FE  \nATOM     78   Fe MOL     1      -4.850  17.187   3.955  1.00  0.00          FE  \nATOM     79   Fe MOL     1      -5.731  15.978   5.936  1.00  0.00          FE  \nATOM     80   Fe MOL     1      -4.850  17.248   7.963  1.00  0.00          FE  \nATOM     81   Fe MOL     1       2.303   0.085  58.600  1.00  0.00          FE  \nATOM     82   Fe MOL     1       3.129   1.099  60.738  1.00  0.00          FE  \nATOM     83   Fe MOL     1       2.433   0.037  62.820  1.00  0.00          FE  \nATOM     84   Fe MOL     1       3.244   1.089  64.700  1.00  0.00          FE  \nATOM     85   Fe MOL     1       2.487  -0.002  66.705  1.00  0.00          FE  \nATOM     86   Fe MOL     1       3.241   1.146  -0.000  1.00  0.00          FE  \nATOM     87   Fe MOL     1       2.431  -0.000   1.985  1.00  0.00          FE  \nATOM     88   Fe MOL     1       3.102   1.089   3.975  1.00  0.00          FE  \nATOM     89   Fe MOL     1       2.362   0.009   6.008  1.00  0.00          FE  \nATOM     90   Fe MOL     1       3.068   1.118   8.014  1.00  0.00          FE  \nATOM     91   Fe MOL     1       1.700   2.158  58.859  1.00  0.00          FE  \nATOM     92   Fe MOL     1       2.421   3.419  60.743  1.00  0.00          FE  \nATOM     93   Fe MOL     1       1.561   2.219  62.748  1.00  0.00          FE  \nATOM     94   Fe MOL     1       2.445   3.473  64.826  1.00  0.00          FE  \nATOM     95   Fe MOL     1       1.785   2.269  66.778  1.00  0.00          FE  \nATOM     96   Fe MOL     1       2.430   3.438  -0.000  1.00  0.00          FE  \nATOM     97   Fe MOL     1       1.620   2.292   1.985  1.00  0.00          FE  \nATOM     98   Fe MOL     1       2.434   3.380   4.011  1.00  0.00          FE  \nATOM     99   Fe MOL     1       1.602   2.399   5.996  1.00  0.00          FE  \nATOM    100   Fe MOL     1       2.439   3.541   7.856  1.00  0.00          FE  \nATOM    101   Fe MOL     1       0.805   4.438  58.552  1.00  0.00          FE  \nATOM    102   Fe MOL     1       1.565   5.714  60.493  1.00  0.00          FE  \nATOM    103   Fe MOL     1       0.907   4.734  62.530  1.00  0.00          FE  \nATOM    104   Fe MOL     1       1.635   5.725  64.657  1.00  0.00          FE  \nATOM    105   Fe MOL     1       0.715   4.620  66.742  1.00  0.00          FE  \nATOM    106   Fe MOL     1       1.619   5.730  -0.000  1.00  0.00          FE  \nATOM    107   Fe MOL     1       0.809   4.584   1.985  1.00  0.00          FE  \nATOM    108   Fe MOL     1       1.787   5.607   3.901  1.00  0.00          FE  \nATOM    109   Fe MOL     1       0.764   4.785   5.851  1.00  0.00          FE  \nATOM    110   Fe MOL     1       1.630   5.648   7.977  1.00  0.00          FE  \nATOM    111   Fe MOL     1       0.032   6.832  58.391  1.00  0.00          FE  \nATOM    112   Fe MOL     1       0.792   7.971  60.520  1.00  0.00          FE  \nATOM    113   Fe MOL     1       0.056   6.833  62.585  1.00  0.00          FE  \nATOM    114   Fe MOL     1       0.704   7.954  64.759  1.00  0.00          FE  \nATOM    115   Fe MOL     1      -0.043   6.941  66.641  1.00  0.00          FE  \nATOM    116   Fe MOL     1       0.807   8.022  -0.000  1.00  0.00          FE  \nATOM    117   Fe MOL     1      -0.003   6.876   1.985  1.00  0.00          FE  \nATOM    118   Fe MOL     1       0.860   8.019   3.932  1.00  0.00          FE  \nATOM    119   Fe MOL     1       0.060   7.069   5.941  1.00  0.00          FE  \nATOM    120   Fe MOL     1       0.749   8.086   7.880  1.00  0.00          FE  \nATOM    121   Fe MOL     1      -0.899   9.235  58.454  1.00  0.00          FE  \nATOM    122   Fe MOL     1      -0.004  10.305  60.598  1.00  0.00          FE  \nATOM    123   Fe MOL     1      -0.876   9.026  62.558  1.00  0.00          FE  \nATOM    124   Fe MOL     1      -0.037  10.328  64.599  1.00  0.00          FE  \nATOM    125   Fe MOL     1      -0.925   9.339  66.684  1.00  0.00          FE  \nATOM    126   Fe MOL     1      -0.004  10.313  -0.000  1.00  0.00          FE  \nATOM    127   Fe MOL     1      -0.814   9.167   1.985  1.00  0.00          FE  \nATOM    128   Fe MOL     1       0.081  10.248   3.871  1.00  0.00          FE  \nATOM    129   Fe MOL     1      -0.702   9.266   5.876  1.00  0.00          FE  \nATOM    130   Fe MOL     1      -0.148  10.325   7.987  1.00  0.00          FE  \nATOM    131   Fe MOL     1      -1.714  11.561  58.734  1.00  0.00          FE  \nATOM    132   Fe MOL     1      -0.774  12.672  60.563  1.00  0.00          FE  \nATOM    133   Fe MOL     1      -1.550  11.390  62.563  1.00  0.00          FE  \nATOM    134   Fe MOL     1      -0.717  12.720  64.607  1.00  0.00          FE  \nATOM    135   Fe MOL     1      -1.619  11.471  66.585  1.00  0.00          FE  \nATOM    136   Fe MOL     1      -0.815  12.605  -0.000  1.00  0.00          FE  \nATOM    137   Fe MOL     1      -1.625  11.459   1.985  1.00  0.00          FE  \nATOM    138   Fe MOL     1      -0.774  12.599   3.956  1.00  0.00          FE  \nATOM    139   Fe MOL     1      -1.621  11.491   5.941  1.00  0.00          FE  \nATOM    140   Fe MOL     1      -1.033  12.513   8.072  1.00  0.00          FE  \nATOM    141   Fe MOL     1      -2.377  13.889  58.587  1.00  0.00          FE  \nATOM    142   Fe MOL     1      -1.599  14.834  60.803  1.00  0.00          FE  \nATOM    143   Fe MOL     1      -2.417  13.701  62.774  1.00  0.00          FE  \nATOM    144   Fe MOL     1      -1.475  15.058  64.814  1.00  0.00          FE  \nATOM    145   Fe MOL     1      -2.396  13.714  66.676  1.00  0.00          FE  \nATOM    146   Fe MOL     1      -1.627  14.897  -0.000  1.00  0.00          FE  \nATOM    147   Fe MOL     1      -2.437  13.751   1.985  1.00  0.00          FE  \nATOM    148   Fe MOL     1      -1.708  14.929   4.044  1.00  0.00          FE  \nATOM    149   Fe MOL     1      -2.492  13.797   6.074  1.00  0.00          FE  \nATOM    150   Fe MOL     1      -1.692  14.968   8.092  1.00  0.00          FE  \nATOM    151   Fe MOL     1      -3.378  16.063  58.591  1.00  0.00          FE  \nATOM    152   Fe MOL     1      -2.537  17.043  60.718  1.00  0.00          FE  \nATOM    153   Fe MOL     1      -3.124  15.922  62.731  1.00  0.00          FE  \nATOM    154   Fe MOL     1      -2.425  17.167  64.709  1.00  0.00          FE  \nATOM    155   Fe MOL     1      -3.213  15.984  66.660  1.00  0.00          FE  \nATOM    156   Fe MOL     1      -2.438  17.189  -0.000  1.00  0.00          FE  \nATOM    157   Fe MOL     1      -3.248  16.043   1.985  1.00  0.00          FE  \nATOM    158   Fe MOL     1      -2.512  17.281   4.101  1.00  0.00          FE  \nATOM    159   Fe MOL     1      -3.291  16.005   6.095  1.00  0.00          FE  \nATOM    160   Fe MOL     1      -2.457  17.258   8.016  1.00  0.00          FE  \nATOM    161   Fe MOL     1       4.846   0.053  58.686  1.00  0.00          FE  \nATOM    162   Fe MOL     1       5.677   1.081  60.569  1.00  0.00          FE  \nATOM    163   Fe MOL     1       4.871   0.016  62.588  1.00  0.00          FE  \nATOM    164   Fe MOL     1       5.751   1.125  64.627  1.00  0.00          FE  \nATOM    165   Fe MOL     1       4.989  -0.082  66.578  1.00  0.00          FE  \nATOM    166   Fe MOL     1       5.673   1.146  -0.000  1.00  0.00          FE  \nATOM    167   Fe MOL     1       4.863  -0.000   1.985  1.00  0.00          FE  \nATOM    168   Fe MOL     1       5.627   1.300   4.020  1.00  0.00          FE  \nATOM    169   Fe MOL     1       4.853  -0.032   6.016  1.00  0.00          FE  \nATOM    170   Fe MOL     1       5.680   1.198   7.991  1.00  0.00          FE  \nATOM    171   Fe MOL     1       4.015   2.291  58.855  1.00  0.00          FE  \nATOM    172   Fe MOL     1       4.756   3.451  60.739  1.00  0.00          FE  \nATOM    173   Fe MOL     1       4.032   2.183  62.785  1.00  0.00          FE  \nATOM    174   Fe MOL     1       4.783   3.385  64.700  1.00  0.00          FE  \nATOM    175   Fe MOL     1       4.216   2.206  66.776  1.00  0.00          FE  \nATOM    176   Fe MOL     1       4.861   3.438  -0.000  1.00  0.00          FE  \nATOM    177   Fe MOL     1       4.051   2.292   1.985  1.00  0.00          FE  \nATOM    178   Fe MOL     1       4.909   3.463   3.986  1.00  0.00          FE  \nATOM    179   Fe MOL     1       4.041   2.189   6.146  1.00  0.00          FE  \nATOM    180   Fe MOL     1       4.827   3.426   7.945  1.00  0.00          FE  \nATOM    181   Fe MOL     1       3.264   4.625  58.941  1.00  0.00          FE  \nATOM    182   Fe MOL     1       4.034   5.865  60.753  1.00  0.00          FE  \nATOM    183   Fe MOL     1       3.259   4.616  62.818  1.00  0.00          FE  \nATOM    184   Fe MOL     1       4.096   5.684  64.812  1.00  0.00          FE  \nATOM    185   Fe MOL     1       3.105   4.582  66.762  1.00  0.00          FE  \nATOM    186   Fe MOL     1       4.050   5.730  -0.000  1.00  0.00          FE  \nATOM    187   Fe MOL     1       3.240   4.584   1.985  1.00  0.00          FE  \nATOM    188   Fe MOL     1       4.014   5.820   3.869  1.00  0.00          FE  \nATOM    189   Fe MOL     1       3.308   4.564   5.950  1.00  0.00          FE  \nATOM    190   Fe MOL     1       4.006   5.811   8.061  1.00  0.00          FE  \nATOM    191   Fe MOL     1       2.306   6.941  58.591  1.00  0.00          FE  \nATOM    192   Fe MOL     1       3.096   8.110  60.788  1.00  0.00          FE  \nATOM    193   Fe MOL     1       2.397   6.858  62.789  1.00  0.00          FE  \nATOM    194   Fe MOL     1       3.256   8.120  64.769  1.00  0.00          FE  \nATOM    195   Fe MOL     1       2.435   6.913  66.759  1.00  0.00          FE  \nATOM    196   Fe MOL     1       3.238   8.022  -0.000  1.00  0.00          FE  \nATOM    197   Fe MOL     1       2.429   6.876   1.985  1.00  0.00          FE  \nATOM    198   Fe MOL     1       3.329   8.160   4.000  1.00  0.00          FE  \nATOM    199   Fe MOL     1       2.385   6.808   6.095  1.00  0.00          FE  \nATOM    200   Fe MOL     1       3.175   8.085   7.927  1.00  0.00          FE  \nATOM    201   Fe MOL     1       1.584   9.260  58.476  1.00  0.00          FE  \nATOM    202   Fe MOL     1       2.479  10.331  60.607  1.00  0.00          FE  \nATOM    203   Fe MOL     1       1.596   9.214  62.705  1.00  0.00          FE  \nATOM    204   Fe MOL     1       2.354  10.302  64.653  1.00  0.00          FE  \nATOM    205   Fe MOL     1       1.564   9.091  66.605  1.00  0.00          FE  \nATOM    206   Fe MOL     1       2.427  10.313  -0.000  1.00  0.00          FE  \nATOM    207   Fe MOL     1       1.617   9.167   1.985  1.00  0.00          FE  \nATOM    208   Fe MOL     1       2.425  10.327   3.910  1.00  0.00          FE  \nATOM    209   Fe MOL     1       1.624   8.966   5.835  1.00  0.00          FE  \nATOM    210   Fe MOL     1       2.392  10.244   7.887  1.00  0.00          FE  \nATOM    211   Fe MOL     1       0.764  11.609  58.660  1.00  0.00          FE  \nATOM    212   Fe MOL     1       1.575  12.726  60.607  1.00  0.00          FE  \nATOM    213   Fe MOL     1       0.762  11.604  62.705  1.00  0.00          FE  \nATOM    214   Fe MOL     1       1.647  12.625  64.586  1.00  0.00          FE  \nATOM    215   Fe MOL     1       0.794  11.576  66.694  1.00  0.00          FE  \nATOM    216   Fe MOL     1       1.616  12.605  -0.000  1.00  0.00          FE  \nATOM    217   Fe MOL     1       0.806  11.459   1.985  1.00  0.00          FE  \nATOM    218   Fe MOL     1       1.636  12.555   4.038  1.00  0.00          FE  \nATOM    219   Fe MOL     1       0.779  11.345   5.934  1.00  0.00          FE  \nATOM    220   Fe MOL     1       1.519  12.611   8.232  1.00  0.00          FE  \nATOM    221   Fe MOL     1      -0.013  13.988  58.683  1.00  0.00          FE  \nATOM    222   Fe MOL     1       0.815  15.009  60.639  1.00  0.00          FE  \nATOM    223   Fe MOL     1       0.029  13.856  62.634  1.00  0.00          FE  \nATOM    224   Fe MOL     1       0.866  14.934  64.671  1.00  0.00          FE  \nATOM    225   Fe MOL     1      -0.010  13.730  66.668  1.00  0.00          FE  \nATOM    226   Fe MOL     1       0.804  14.897  -0.000  1.00  0.00          FE  \nATOM    227   Fe MOL     1      -0.006  13.751   1.985  1.00  0.00          FE  \nATOM    228   Fe MOL     1       0.650  14.902   3.897  1.00  0.00          FE  \nATOM    229   Fe MOL     1      -0.017  13.759   6.147  1.00  0.00          FE  \nATOM    230   Fe MOL     1       0.866  14.920   8.038  1.00  0.00          FE  \nATOM    231   Fe MOL     1      -0.866  16.196  58.476  1.00  0.00          FE  \nATOM    232   Fe MOL     1       0.016  17.220  60.558  1.00  0.00          FE  \nATOM    233   Fe MOL     1      -0.853  16.121  62.629  1.00  0.00          FE  \nATOM    234   Fe MOL     1      -0.029  17.190  64.663  1.00  0.00          FE  \nATOM    235   Fe MOL     1      -0.760  16.153  66.631  1.00  0.00          FE  \nATOM    236   Fe MOL     1      -0.007  17.189  -0.000  1.00  0.00          FE  \nATOM    237   Fe MOL     1      -0.817  16.043   1.985  1.00  0.00          FE  \nATOM    238   Fe MOL     1      -0.032  17.413   3.990  1.00  0.00          FE  \nATOM    239   Fe MOL     1      -0.981  16.006   6.015  1.00  0.00          FE  \nATOM    240   Fe MOL     1      -0.174  17.232   7.960  1.00  0.00          FE  \nATOM    241   Fe MOL     1       7.374   0.041  58.809  1.00  0.00          FE  \nATOM    242   Fe MOL     1       8.039   1.314  60.732  1.00  0.00          FE  \nATOM    243   Fe MOL     1       7.389   0.103  62.869  1.00  0.00          FE  \nATOM    244   Fe MOL     1       8.203   1.234  64.698  1.00  0.00          FE  \nATOM    245   Fe MOL     1       7.385  -0.034  66.725  1.00  0.00          FE  \nATOM    246   Fe MOL     1       8.104   1.146  -0.000  1.00  0.00          FE  \nATOM    247   Fe MOL     1       7.294  -0.000   1.985  1.00  0.00          FE  \nATOM    248   Fe MOL     1       7.959   1.155   4.019  1.00  0.00          FE  \nATOM    249   Fe MOL     1       7.210   0.044   6.168  1.00  0.00          FE  \nATOM    250   Fe MOL     1       8.043   1.136   7.973  1.00  0.00          FE  \nATOM    251   Fe MOL     1       6.443   2.297  58.522  1.00  0.00          FE  \nATOM    252   Fe MOL     1       7.202   3.504  60.688  1.00  0.00          FE  \nATOM    253   Fe MOL     1       6.405   2.420  62.704  1.00  0.00          FE  \nATOM    254   Fe MOL     1       7.237   3.539  64.714  1.00  0.00          FE  \nATOM    255   Fe MOL     1       6.577   2.199  66.664  1.00  0.00          FE  \nATOM    256   Fe MOL     1       7.292   3.438  -0.000  1.00  0.00          FE  \nATOM    257   Fe MOL     1       6.482   2.292   1.985  1.00  0.00          FE  \nATOM    258   Fe MOL     1       7.338   3.409   4.033  1.00  0.00          FE  \nATOM    259   Fe MOL     1       6.405   2.271   6.036  1.00  0.00          FE  \nATOM    260   Fe MOL     1       7.068   3.439   7.957  1.00  0.00          FE  \nATOM    261   Fe MOL     1       5.657   4.669  58.751  1.00  0.00          FE  \nATOM    262   Fe MOL     1       6.385   5.741  60.796  1.00  0.00          FE  \nATOM    263   Fe MOL     1       5.567   4.471  62.698  1.00  0.00          FE  \nATOM    264   Fe MOL     1       6.454   5.711  64.669  1.00  0.00          FE  \nATOM    265   Fe MOL     1       5.726   4.570  66.669  1.00  0.00          FE  \nATOM    266   Fe MOL     1       6.481   5.730  -0.000  1.00  0.00          FE  \nATOM    267   Fe MOL     1       5.671   4.584   1.985  1.00  0.00          FE  \nATOM    268   Fe MOL     1       6.471   5.763   3.963  1.00  0.00          FE  \nATOM    269   Fe MOL     1       5.562   4.612   5.960  1.00  0.00          FE  \nATOM    270   Fe MOL     1       6.388   5.770   7.779  1.00  0.00          FE  \nATOM    271   Fe MOL     1       4.791   6.941  58.603  1.00  0.00          FE  \nATOM    272   Fe MOL     1       5.538   8.012  60.708  1.00  0.00          FE  \nATOM    273   Fe MOL     1       4.806   6.841  62.735  1.00  0.00          FE  \nATOM    274   Fe MOL     1       5.698   7.941  64.758  1.00  0.00          FE  \nATOM    275   Fe MOL     1       4.870   6.805  66.709  1.00  0.00          FE  \nATOM    276   Fe MOL     1       5.670   8.022  -0.000  1.00  0.00          FE  \nATOM    277   Fe MOL     1       4.860   6.876   1.985  1.00  0.00          FE  \nATOM    278   Fe MOL     1       5.650   8.041   3.950  1.00  0.00          FE  \nATOM    279   Fe MOL     1       4.785   6.793   5.879  1.00  0.00          FE  \nATOM    280   Fe MOL     1       5.560   7.929   8.163  1.00  0.00          FE  \nATOM    281   Fe MOL     1       4.088   9.246  58.710  1.00  0.00          FE  \nATOM    282   Fe MOL     1       4.986  10.286  60.660  1.00  0.00          FE  \nATOM    283   Fe MOL     1       4.082   9.197  62.649  1.00  0.00          FE  \nATOM    284   Fe MOL     1       4.781  10.386  64.637  1.00  0.00          FE  \nATOM    285   Fe MOL     1       3.997   9.178  66.699  1.00  0.00          FE  \nATOM    286   Fe MOL     1       4.858  10.313  -0.000  1.00  0.00          FE  \nATOM    287   Fe MOL     1       4.048   9.167   1.985  1.00  0.00          FE  \nATOM    288   Fe MOL     1       4.908  10.427   3.982  1.00  0.00          FE  \nATOM    289   Fe MOL     1       3.976   9.022   5.901  1.00  0.00          FE  \nATOM    290   Fe MOL     1       4.863  10.207   7.888  1.00  0.00          FE  \nATOM    291   Fe MOL     1       3.130  11.483  58.519  1.00  0.00          FE  \nATOM    292   Fe MOL     1       3.948  12.605  60.676  1.00  0.00          FE  \nATOM    293   Fe MOL     1       3.320  11.536  62.630  1.00  0.00          FE  \nATOM    294   Fe MOL     1       4.093  12.569  64.695  1.00  0.00          FE  \nATOM    295   Fe MOL     1       3.259  11.466  66.728  1.00  0.00          FE  \nATOM    296   Fe MOL     1       4.047  12.605  -0.000  1.00  0.00          FE  \nATOM    297   Fe MOL     1       3.237  11.459   1.985  1.00  0.00          FE  \nATOM    298   Fe MOL     1       4.100  12.608   4.059  1.00  0.00          FE  \nATOM    299   Fe MOL     1       3.330  11.386   6.009  1.00  0.00          FE  \nATOM    300   Fe MOL     1       4.007  12.585   8.078  1.00  0.00          FE  \nATOM    301   Fe MOL     1       2.422  13.897  58.785  1.00  0.00          FE  \nATOM    302   Fe MOL     1       3.105  14.934  60.745  1.00  0.00          FE  \nATOM    303   Fe MOL     1       2.460  13.796  62.783  1.00  0.00          FE  \nATOM    304   Fe MOL     1       3.205  14.880  64.754  1.00  0.00          FE  \nATOM    305   Fe MOL     1       2.347  13.755  66.721  1.00  0.00          FE  \nATOM    306   Fe MOL     1       3.236  14.897  -0.000  1.00  0.00          FE  \nATOM    307   Fe MOL     1       2.426  13.751   1.985  1.00  0.00          FE  \nATOM    308   Fe MOL     1       3.188  14.798   3.982  1.00  0.00          FE  \nATOM    309   Fe MOL     1       2.370  13.723   6.061  1.00  0.00          FE  \nATOM    310   Fe MOL     1       3.181  14.872   7.899  1.00  0.00          FE  \nATOM    311   Fe MOL     1       1.638  16.103  58.581  1.00  0.00          FE  \nATOM    312   Fe MOL     1       2.464  17.226  60.484  1.00  0.00          FE  \nATOM    313   Fe MOL     1       1.453  16.039  62.607  1.00  0.00          FE  \nATOM    314   Fe MOL     1       2.513  17.116  64.548  1.00  0.00          FE  \nATOM    315   Fe MOL     1       1.545  16.024  66.719  1.00  0.00          FE  \nATOM    316   Fe MOL     1       2.424  17.189  -0.000  1.00  0.00          FE  \nATOM    317   Fe MOL     1       1.614  16.043   1.985  1.00  0.00          FE  \nATOM    318   Fe MOL     1       2.337  17.120   3.986  1.00  0.00          FE  \nATOM    319   Fe MOL     1       1.493  16.014   5.958  1.00  0.00          FE  \nATOM    320   Fe MOL     1       2.317  17.088   7.977  1.00  0.00          FE  \nATOM    321   Fe MOL     1       9.752   0.186  58.601  1.00  0.00          FE  \nATOM    322   Fe MOL     1      10.518   1.261  60.727  1.00  0.00          FE  \nATOM    323   Fe MOL     1       9.711  -0.016  62.611  1.00  0.00          FE  \nATOM    324   Fe MOL     1      10.474   1.226  64.697  1.00  0.00          FE  \nATOM    325   Fe MOL     1       9.814   0.093  66.724  1.00  0.00          FE  \nATOM    326   Fe MOL     1      10.535   1.146  -0.000  1.00  0.00          FE  \nATOM    327   Fe MOL     1       9.725  -0.000   1.985  1.00  0.00          FE  \nATOM    328   Fe MOL     1      10.488   1.129   4.027  1.00  0.00          FE  \nATOM    329   Fe MOL     1       9.631   0.008   5.946  1.00  0.00          FE  \nATOM    330   Fe MOL     1      10.337   1.191   8.052  1.00  0.00          FE  \nATOM    331   Fe MOL     1       8.833   2.315  58.772  1.00  0.00          FE  \nATOM    332   Fe MOL     1       9.677   3.415  60.631  1.00  0.00          FE  \nATOM    333   Fe MOL     1       8.920   2.329  62.672  1.00  0.00          FE  \nATOM    334   Fe MOL     1       9.652   3.500  64.588  1.00  0.00          FE  \nATOM    335   Fe MOL     1       8.949   2.239  66.652  1.00  0.00          FE  \nATOM    336   Fe MOL     1       9.724   3.438  -0.000  1.00  0.00          FE  \nATOM    337   Fe MOL     1       8.914   2.292   1.985  1.00  0.00          FE  \nATOM    338   Fe MOL     1       9.819   3.411   4.022  1.00  0.00          FE  \nATOM    339   Fe MOL     1       8.860   2.296   6.046  1.00  0.00          FE  \nATOM    340   Fe MOL     1       9.655   3.408   8.047  1.00  0.00          FE  \nATOM    341   Fe MOL     1       8.229   4.705  58.626  1.00  0.00          FE  \nATOM    342   Fe MOL     1       8.829   5.632  60.613  1.00  0.00          FE  \nATOM    343   Fe MOL     1       8.092   4.565  62.710  1.00  0.00          FE  \nATOM    344   Fe MOL     1       8.858   5.719  64.758  1.00  0.00          FE  \nATOM    345   Fe MOL     1       8.107   4.598  66.728  1.00  0.00          FE  \nATOM    346   Fe MOL     1       8.912   5.730  -0.000  1.00  0.00          FE  \nATOM    347   Fe MOL     1       8.102   4.584   1.985  1.00  0.00          FE  \nATOM    348   Fe MOL     1       8.975   5.635   4.043  1.00  0.00          FE  \nATOM    349   Fe MOL     1       7.891   4.567   6.007  1.00  0.00          FE  \nATOM    350   Fe MOL     1       8.849   5.608   7.894  1.00  0.00          FE  \nATOM    351   Fe MOL     1       7.203   6.882  58.775  1.00  0.00          FE  \nATOM    352   Fe MOL     1       8.016   7.985  60.745  1.00  0.00          FE  \nATOM    353   Fe MOL     1       7.296   6.995  62.810  1.00  0.00          FE  \nATOM    354   Fe MOL     1       8.032   8.085  64.796  1.00  0.00          FE  \nATOM    355   Fe MOL     1       7.385   6.738  66.702  1.00  0.00          FE  \nATOM    356   Fe MOL     1       8.101   8.022  -0.000  1.00  0.00          FE  \nATOM    357   Fe MOL     1       7.291   6.876   1.985  1.00  0.00          FE  \nATOM    358   Fe MOL     1       8.046   7.997   3.971  1.00  0.00          FE  \nATOM    359   Fe MOL     1       7.218   6.943   5.934  1.00  0.00          FE  \nATOM    360   Fe MOL     1       8.012   8.146   7.956  1.00  0.00          FE  \nATOM    361   Fe MOL     1       6.489   9.176  58.763  1.00  0.00          FE  \nATOM    362   Fe MOL     1       7.278  10.531  60.553  1.00  0.00          FE  \nATOM    363   Fe MOL     1       6.499   9.162  62.745  1.00  0.00          FE  \nATOM    364   Fe MOL     1       7.371  10.327  64.650  1.00  0.00          FE  \nATOM    365   Fe MOL     1       6.674   9.145  66.710  1.00  0.00          FE  \nATOM    366   Fe MOL     1       7.290  10.313  -0.000  1.00  0.00          FE  \nATOM    367   Fe MOL     1       6.480   9.167   1.985  1.00  0.00          FE  \nATOM    368   Fe MOL     1       7.254  10.274   4.030  1.00  0.00          FE  \nATOM    369   Fe MOL     1       6.528   9.298   6.153  1.00  0.00          FE  \nATOM    370   Fe MOL     1       7.448  10.495   8.111  1.00  0.00          FE  \nATOM    371   Fe MOL     1       5.615  11.397  58.593  1.00  0.00          FE  \nATOM    372   Fe MOL     1       6.372  12.773  60.529  1.00  0.00          FE  \nATOM    373   Fe MOL     1       5.723  11.514  62.540  1.00  0.00          FE  \nATOM    374   Fe MOL     1       6.420  12.708  64.670  1.00  0.00          FE  \nATOM    375   Fe MOL     1       5.611  11.341  66.725  1.00  0.00          FE  \nATOM    376   Fe MOL     1       6.478  12.605  -0.000  1.00  0.00          FE  \nATOM    377   Fe MOL     1       5.668  11.459   1.985  1.00  0.00          FE  \nATOM    378   Fe MOL     1       6.427  12.603   3.911  1.00  0.00          FE  \nATOM    379   Fe MOL     1       5.771  11.692   6.027  1.00  0.00          FE  \nATOM    380   Fe MOL     1       6.426  12.660   8.170  1.00  0.00          FE  \nATOM    381   Fe MOL     1       4.901  13.706  58.561  1.00  0.00          FE  \nATOM    382   Fe MOL     1       5.569  14.859  60.651  1.00  0.00          FE  \nATOM    383   Fe MOL     1       4.846  13.817  62.646  1.00  0.00          FE  \nATOM    384   Fe MOL     1       5.601  15.014  64.646  1.00  0.00          FE  \nATOM    385   Fe MOL     1       4.793  13.888  66.645  1.00  0.00          FE  \nATOM    386   Fe MOL     1       5.667  14.897  -0.000  1.00  0.00          FE  \nATOM    387   Fe MOL     1       4.857  13.751   1.985  1.00  0.00          FE  \nATOM    388   Fe MOL     1       5.599  14.931   3.933  1.00  0.00          FE  \nATOM    389   Fe MOL     1       4.772  13.834   6.041  1.00  0.00          FE  \nATOM    390   Fe MOL     1       5.525  14.937   8.120  1.00  0.00          FE  \nATOM    391   Fe MOL     1       4.073  16.152  58.628  1.00  0.00          FE  \nATOM    392   Fe MOL     1       4.771  17.199  60.549  1.00  0.00          FE  \nATOM    393   Fe MOL     1       3.948  16.009  62.759  1.00  0.00          FE  \nATOM    394   Fe MOL     1       4.814  17.255  64.711  1.00  0.00          FE  \nATOM    395   Fe MOL     1       3.980  16.127  66.666  1.00  0.00          FE  \nATOM    396   Fe MOL     1       4.856  17.189  -0.000  1.00  0.00          FE  \nATOM    397   Fe MOL     1       4.046  16.043   1.985  1.00  0.00          FE  \nATOM    398   Fe MOL     1       4.775  17.303   4.058  1.00  0.00          FE  \nATOM    399   Fe MOL     1       3.949  16.023   6.005  1.00  0.00          FE  \nATOM    400   Fe MOL     1       4.752  17.190   7.917  1.00  0.00          FE  \nATOM    401   Fe MOL     1      12.120   0.052  58.609  1.00  0.00          FE  \nATOM    402   Fe MOL     1      12.933   1.254  60.665  1.00  0.00          FE  \nATOM    403   Fe MOL     1      12.064  -0.012  62.602  1.00  0.00          FE  \nATOM    404   Fe MOL     1      12.997   1.048  64.626  1.00  0.00          FE  \nATOM    405   Fe MOL     1      12.136   0.007  66.656  1.00  0.00          FE  \nATOM    406   Fe MOL     1      12.966   1.146  -0.000  1.00  0.00          FE  \nATOM    407   Fe MOL     1      12.156  -0.000   1.985  1.00  0.00          FE  \nATOM    408   Fe MOL     1      12.957   1.128   4.052  1.00  0.00          FE  \nATOM    409   Fe MOL     1      12.143   0.012   5.970  1.00  0.00          FE  \nATOM    410   Fe MOL     1      12.785   1.022   8.236  1.00  0.00          FE  \nATOM    411   Fe MOL     1      11.337   2.351  58.860  1.00  0.00          FE  \nATOM    412   Fe MOL     1      12.006   3.579  60.664  1.00  0.00          FE  \nATOM    413   Fe MOL     1      11.295   2.360  62.818  1.00  0.00          FE  \nATOM    414   Fe MOL     1      12.112   3.438  64.671  1.00  0.00          FE  \nATOM    415   Fe MOL     1      11.438   2.317  66.647  1.00  0.00          FE  \nATOM    416   Fe MOL     1      12.155   3.438  -0.000  1.00  0.00          FE  \nATOM    417   Fe MOL     1      11.345   2.292   1.985  1.00  0.00          FE  \nATOM    418   Fe MOL     1      12.225   3.355   4.069  1.00  0.00          FE  \nATOM    419   Fe MOL     1      11.297   2.201   6.015  1.00  0.00          FE  \nATOM    420   Fe MOL     1      12.107   3.487   7.940  1.00  0.00          FE  \nATOM    421   Fe MOL     1      10.615   4.730  58.639  1.00  0.00          FE  \nATOM    422   Fe MOL     1      11.296   5.793  60.646  1.00  0.00          FE  \nATOM    423   Fe MOL     1      10.495   4.567  62.595  1.00  0.00          FE  \nATOM    424   Fe MOL     1      11.365   5.789  64.724  1.00  0.00          FE  \nATOM    425   Fe MOL     1      10.484   4.661  66.705  1.00  0.00          FE  \nATOM    426   Fe MOL     1      11.344   5.730  -0.000  1.00  0.00          FE  \nATOM    427   Fe MOL     1      10.534   4.584   1.985  1.00  0.00          FE  \nATOM    428   Fe MOL     1      11.367   5.723   4.028  1.00  0.00          FE  \nATOM    429   Fe MOL     1      10.668   4.575   6.082  1.00  0.00          FE  \nATOM    430   Fe MOL     1      11.287   5.898   8.046  1.00  0.00          FE  \nATOM    431   Fe MOL     1       9.730   6.887  58.806  1.00  0.00          FE  \nATOM    432   Fe MOL     1      10.554   8.093  60.685  1.00  0.00          FE  \nATOM    433   Fe MOL     1       9.736   6.816  62.716  1.00  0.00          FE  \nATOM    434   Fe MOL     1      10.572   7.913  64.693  1.00  0.00          FE  \nATOM    435   Fe MOL     1       9.691   6.901  66.625  1.00  0.00          FE  \nATOM    436   Fe MOL     1      10.532   8.022  -0.000  1.00  0.00          FE  \nATOM    437   Fe MOL     1       9.722   6.876   1.985  1.00  0.00          FE  \nATOM    438   Fe MOL     1      10.595   8.037   4.038  1.00  0.00          FE  \nATOM    439   Fe MOL     1       9.676   6.770   5.931  1.00  0.00          FE  \nATOM    440   Fe MOL     1      10.422   7.939   7.791  1.00  0.00          FE  \nATOM    441   Fe MOL     1       8.947   9.154  58.755  1.00  0.00          FE  \nATOM    442   Fe MOL     1       9.722  10.336  60.615  1.00  0.00          FE  \nATOM    443   Fe MOL     1       8.950   9.254  62.614  1.00  0.00          FE  \nATOM    444   Fe MOL     1       9.759  10.199  64.725  1.00  0.00          FE  \nATOM    445   Fe MOL     1       8.964   9.207  66.826  1.00  0.00          FE  \nATOM    446   Fe MOL     1       9.721  10.313  -0.000  1.00  0.00          FE  \nATOM    447   Fe MOL     1       8.911   9.167   1.985  1.00  0.00          FE  \nATOM    448   Fe MOL     1       9.709  10.303   4.103  1.00  0.00          FE  \nATOM    449   Fe MOL     1       8.812   9.098   6.005  1.00  0.00          FE  \nATOM    450   Fe MOL     1       9.820  10.222   7.981  1.00  0.00          FE  \nATOM    451   Fe MOL     1       8.242  11.506  58.434  1.00  0.00          FE  \nATOM    452   Fe MOL     1       8.915  12.595  60.602  1.00  0.00          FE  \nATOM    453   Fe MOL     1       8.056  11.509  62.627  1.00  0.00          FE  \nATOM    454   Fe MOL     1       8.894  12.588  64.568  1.00  0.00          FE  \nATOM    455   Fe MOL     1       8.154  11.439  66.661  1.00  0.00          FE  \nATOM    456   Fe MOL     1       8.910  12.605  -0.000  1.00  0.00          FE  \nATOM    457   Fe MOL     1       8.100  11.459   1.985  1.00  0.00          FE  \nATOM    458   Fe MOL     1       8.838  12.613   4.038  1.00  0.00          FE  \nATOM    459   Fe MOL     1       8.140  11.409   6.130  1.00  0.00          FE  \nATOM    460   Fe MOL     1       8.731  12.729   8.049  1.00  0.00          FE  \nATOM    461   Fe MOL     1       7.342  13.775  58.579  1.00  0.00          FE  \nATOM    462   Fe MOL     1       8.125  14.955  60.559  1.00  0.00          FE  \nATOM    463   Fe MOL     1       7.282  13.748  62.631  1.00  0.00          FE  \nATOM    464   Fe MOL     1       8.055  14.878  64.678  1.00  0.00          FE  \nATOM    465   Fe MOL     1       7.264  13.705  66.749  1.00  0.00          FE  \nATOM    466   Fe MOL     1       8.098  14.897  -0.000  1.00  0.00          FE  \nATOM    467   Fe MOL     1       7.288  13.751   1.985  1.00  0.00          FE  \nATOM    468   Fe MOL     1       8.208  14.944   4.039  1.00  0.00          FE  \nATOM    469   Fe MOL     1       7.278  13.847   6.087  1.00  0.00          FE  \nATOM    470   Fe MOL     1       8.118  14.979   8.114  1.00  0.00          FE  \nATOM    471   Fe MOL     1       6.478  16.043  58.774  1.00  0.00          FE  \nATOM    472   Fe MOL     1       7.249  17.098  60.661  1.00  0.00          FE  \nATOM    473   Fe MOL     1       6.438  16.098  62.591  1.00  0.00          FE  \nATOM    474   Fe MOL     1       7.258  17.176  64.682  1.00  0.00          FE  \nATOM    475   Fe MOL     1       6.413  16.066  66.641  1.00  0.00          FE  \nATOM    476   Fe MOL     1       7.287  17.189  -0.000  1.00  0.00          FE  \nATOM    477   Fe MOL     1       6.477  16.043   1.985  1.00  0.00          FE  \nATOM    478   Fe MOL     1       7.254  17.168   3.889  1.00  0.00          FE  \nATOM    479   Fe MOL     1       6.464  16.057   6.006  1.00  0.00          FE  \nATOM    480   Fe MOL     1       7.163  17.149   7.937  1.00  0.00          FE  \nATOM    481   Fe MOL     1      14.532  -0.013  58.629  1.00  0.00          FE  \nATOM    482   Fe MOL     1      15.387   1.198  60.604  1.00  0.00          FE  \nATOM    483   Fe MOL     1      14.582  -0.097  62.673  1.00  0.00          FE  \nATOM    484   Fe MOL     1      15.400   1.168  64.727  1.00  0.00          FE  \nATOM    485   Fe MOL     1      14.643  -0.021  66.665  1.00  0.00          FE  \nATOM    486   Fe MOL     1      15.398   1.146  -0.000  1.00  0.00          FE  \nATOM    487   Fe MOL     1      14.588  -0.000   1.985  1.00  0.00          FE  \nATOM    488   Fe MOL     1      15.361   1.149   4.027  1.00  0.00          FE  \nATOM    489   Fe MOL     1      14.670  -0.075   6.019  1.00  0.00          FE  \nATOM    490   Fe MOL     1      15.361   1.258   7.919  1.00  0.00          FE  \nATOM    491   Fe MOL     1      13.779   2.318  58.654  1.00  0.00          FE  \nATOM    492   Fe MOL     1      14.621   3.454  60.689  1.00  0.00          FE  \nATOM    493   Fe MOL     1      13.641   2.287  62.602  1.00  0.00          FE  \nATOM    494   Fe MOL     1      14.567   3.453  64.602  1.00  0.00          FE  \nATOM    495   Fe MOL     1      13.770   2.454  66.609  1.00  0.00          FE  \nATOM    496   Fe MOL     1      14.586   3.438  -0.000  1.00  0.00          FE  \nATOM    497   Fe MOL     1      13.776   2.292   1.985  1.00  0.00          FE  \nATOM    498   Fe MOL     1      14.532   3.340   4.126  1.00  0.00          FE  \nATOM    499   Fe MOL     1      13.618   2.264   6.089  1.00  0.00          FE  \nATOM    500   Fe MOL     1      14.488   3.397   8.062  1.00  0.00          FE  \nATOM    501   Fe MOL     1      12.983   4.557  58.562  1.00  0.00          FE  \nATOM    502   Fe MOL     1      13.842   5.665  60.574  1.00  0.00          FE  \nATOM    503   Fe MOL     1      12.981   4.649  62.567  1.00  0.00          FE  \nATOM    504   Fe MOL     1      13.762   5.725  64.665  1.00  0.00          FE  \nATOM    505   Fe MOL     1      13.053   4.645  66.698  1.00  0.00          FE  \nATOM    506   Fe MOL     1      13.775   5.730  -0.000  1.00  0.00          FE  \nATOM    507   Fe MOL     1      12.965   4.584   1.985  1.00  0.00          FE  \nATOM    508   Fe MOL     1      13.895   5.701   3.854  1.00  0.00          FE  \nATOM    509   Fe MOL     1      13.032   4.577   5.877  1.00  0.00          FE  \nATOM    510   Fe MOL     1      13.717   5.745   8.013  1.00  0.00          FE  \nATOM    511   Fe MOL     1      12.205   6.875  58.697  1.00  0.00          FE  \nATOM    512   Fe MOL     1      12.971   8.037  60.635  1.00  0.00          FE  \nATOM    513   Fe MOL     1      12.160   6.910  62.664  1.00  0.00          FE  \nATOM    514   Fe MOL     1      13.019   8.044  64.624  1.00  0.00          FE  \nATOM    515   Fe MOL     1      12.102   6.922  66.705  1.00  0.00          FE  \nATOM    516   Fe MOL     1      12.964   8.022  -0.000  1.00  0.00          FE  \nATOM    517   Fe MOL     1      12.154   6.876   1.985  1.00  0.00          FE  \nATOM    518   Fe MOL     1      12.877   8.046   4.083  1.00  0.00          FE  \nATOM    519   Fe MOL     1      12.113   6.838   6.121  1.00  0.00          FE  \nATOM    520   Fe MOL     1      12.938   8.048   8.052  1.00  0.00          FE  \nATOM    521   Fe MOL     1      11.402   9.033  58.615  1.00  0.00          FE  \nATOM    522   Fe MOL     1      12.157  10.273  60.614  1.00  0.00          FE  \nATOM    523   Fe MOL     1      11.307   9.250  62.730  1.00  0.00          FE  \nATOM    524   Fe MOL     1      12.194  10.402  64.686  1.00  0.00          FE  \nATOM    525   Fe MOL     1      11.357   9.230  66.737  1.00  0.00          FE  \nATOM    526   Fe MOL     1      12.152  10.313  -0.000  1.00  0.00          FE  \nATOM    527   Fe MOL     1      11.342   9.167   1.985  1.00  0.00          FE  \nATOM    528   Fe MOL     1      12.215  10.244   4.032  1.00  0.00          FE  \nATOM    529   Fe MOL     1      11.368   9.132   5.889  1.00  0.00          FE  \nATOM    530   Fe MOL     1      12.208  10.306   8.119  1.00  0.00          FE  \nATOM    531   Fe MOL     1      10.603  11.314  58.590  1.00  0.00          FE  \nATOM    532   Fe MOL     1      11.354  12.643  60.639  1.00  0.00          FE  \nATOM    533   Fe MOL     1      10.614  11.341  62.783  1.00  0.00          FE  \nATOM    534   Fe MOL     1      11.387  12.678  64.715  1.00  0.00          FE  \nATOM    535   Fe MOL     1      10.521  11.459  66.774  1.00  0.00          FE  \nATOM    536   Fe MOL     1      11.341  12.605  -0.000  1.00  0.00          FE  \nATOM    537   Fe MOL     1      10.531  11.459   1.985  1.00  0.00          FE  \nATOM    538   Fe MOL     1      11.433  12.613   3.900  1.00  0.00          FE  \nATOM    539   Fe MOL     1      10.589  11.518   6.121  1.00  0.00          FE  \nATOM    540   Fe MOL     1      11.391  12.678   8.237  1.00  0.00          FE  \nATOM    541   Fe MOL     1       9.792  13.792  58.453  1.00  0.00          FE  \nATOM    542   Fe MOL     1      10.505  14.896  60.615  1.00  0.00          FE  \nATOM    543   Fe MOL     1       9.725  13.713  62.810  1.00  0.00          FE  \nATOM    544   Fe MOL     1      10.486  14.797  64.763  1.00  0.00          FE  \nATOM    545   Fe MOL     1       9.610  13.783  66.603  1.00  0.00          FE  \nATOM    546   Fe MOL     1      10.530  14.897  -0.000  1.00  0.00          FE  \nATOM    547   Fe MOL     1       9.720  13.751   1.985  1.00  0.00          FE  \nATOM    548   Fe MOL     1      10.526  14.950   3.990  1.00  0.00          FE  \nATOM    549   Fe MOL     1       9.745  13.827   6.072  1.00  0.00          FE  \nATOM    550   Fe MOL     1      10.593  14.842   7.931  1.00  0.00          FE  \nATOM    551   Fe MOL     1       8.790  16.099  58.339  1.00  0.00          FE  \nATOM    552   Fe MOL     1       9.750  17.114  60.532  1.00  0.00          FE  \nATOM    553   Fe MOL     1       9.010  16.077  62.699  1.00  0.00          FE  \nATOM    554   Fe MOL     1       9.677  17.170  64.732  1.00  0.00          FE  \nATOM    555   Fe MOL     1       8.862  16.074  66.760  1.00  0.00          FE  \nATOM    556   Fe MOL     1       9.718  17.189  -0.000  1.00  0.00          FE  \nATOM    557   Fe MOL     1       8.908  16.043   1.985  1.00  0.00          FE  \nATOM    558   Fe MOL     1       9.656  17.118   4.055  1.00  0.00          FE  \nATOM    559   Fe MOL     1       8.810  16.043   6.050  1.00  0.00          FE  \nATOM    560   Fe MOL     1       9.742  17.069   7.868  1.00  0.00          FE  \nATOM    561   Fe MOL     1      17.189   0.030  58.714  1.00  0.00          FE  \nATOM    562   Fe MOL     1      17.715   1.025  60.777  1.00  0.00          FE  \nATOM    563   Fe MOL     1      16.930  -0.071  62.719  1.00  0.00          FE  \nATOM    564   Fe MOL     1      17.883   1.153  64.705  1.00  0.00          FE  \nATOM    565   Fe MOL     1      17.000   0.011  66.615  1.00  0.00          FE  \nATOM    566   Fe MOL     1      17.829   1.146  -0.000  1.00  0.00          FE  \nATOM    567   Fe MOL     1      17.019  -0.000   1.985  1.00  0.00          FE  \nATOM    568   Fe MOL     1      17.747   1.195   3.998  1.00  0.00          FE  \nATOM    569   Fe MOL     1      16.998   0.054   6.026  1.00  0.00          FE  \nATOM    570   Fe MOL     1      17.860   1.100   8.160  1.00  0.00          FE  \nATOM    571   Fe MOL     1      16.202   2.246  58.710  1.00  0.00          FE  \nATOM    572   Fe MOL     1      17.026   3.387  60.739  1.00  0.00          FE  \nATOM    573   Fe MOL     1      16.079   2.156  62.692  1.00  0.00          FE  \nATOM    574   Fe MOL     1      16.989   3.369  64.724  1.00  0.00          FE  \nATOM    575   Fe MOL     1      16.216   2.383  66.665  1.00  0.00          FE  \nATOM    576   Fe MOL     1      17.018   3.438  -0.000  1.00  0.00          FE  \nATOM    577   Fe MOL     1      16.208   2.292   1.985  1.00  0.00          FE  \nATOM    578   Fe MOL     1      16.972   3.481   3.984  1.00  0.00          FE  \nATOM    579   Fe MOL     1      16.065   2.384   5.949  1.00  0.00          FE  \nATOM    580   Fe MOL     1      17.161   3.515   7.823  1.00  0.00          FE  \nATOM    581   Fe MOL     1      15.436   4.555  58.704  1.00  0.00          FE  \nATOM    582   Fe MOL     1      16.404   5.711  60.561  1.00  0.00          FE  \nATOM    583   Fe MOL     1      15.442   4.503  62.542  1.00  0.00          FE  \nATOM    584   Fe MOL     1      16.221   5.684  64.670  1.00  0.00          FE  \nATOM    585   Fe MOL     1      15.392   4.552  66.689  1.00  0.00          FE  \nATOM    586   Fe MOL     1      16.206   5.730  -0.000  1.00  0.00          FE  \nATOM    587   Fe MOL     1      15.396   4.584   1.985  1.00  0.00          FE  \nATOM    588   Fe MOL     1      16.255   5.860   4.090  1.00  0.00          FE  \nATOM    589   Fe MOL     1      15.310   4.618   5.962  1.00  0.00          FE  \nATOM    590   Fe MOL     1      16.175   5.835   7.903  1.00  0.00          FE  \nATOM    591   Fe MOL     1      14.533   6.825  58.673  1.00  0.00          FE  \nATOM    592   Fe MOL     1      15.337   8.081  60.601  1.00  0.00          FE  \nATOM    593   Fe MOL     1      14.572   6.790  62.689  1.00  0.00          FE  \nATOM    594   Fe MOL     1      15.486   8.055  64.519  1.00  0.00          FE  \nATOM    595   Fe MOL     1      14.618   6.932  66.668  1.00  0.00          FE  \nATOM    596   Fe MOL     1      15.395   8.022  -0.000  1.00  0.00          FE  \nATOM    597   Fe MOL     1      14.585   6.876   1.985  1.00  0.00          FE  \nATOM    598   Fe MOL     1      15.425   8.039   4.051  1.00  0.00          FE  \nATOM    599   Fe MOL     1      14.646   6.949   5.994  1.00  0.00          FE  \nATOM    600   Fe MOL     1      15.260   8.181   8.016  1.00  0.00          FE  \nATOM    601   Fe MOL     1      13.835   9.156  58.623  1.00  0.00          FE  \nATOM    602   Fe MOL     1      14.544  10.391  60.648  1.00  0.00          FE  \nATOM    603   Fe MOL     1      13.664   9.211  62.652  1.00  0.00          FE  \nATOM    604   Fe MOL     1      14.549  10.275  64.770  1.00  0.00          FE  \nATOM    605   Fe MOL     1      13.856   9.215  66.651  1.00  0.00          FE  \nATOM    606   Fe MOL     1      14.583  10.313  -0.000  1.00  0.00          FE  \nATOM    607   Fe MOL     1      13.774   9.167   1.985  1.00  0.00          FE  \nATOM    608   Fe MOL     1      14.569  10.300   3.934  1.00  0.00          FE  \nATOM    609   Fe MOL     1      13.767   9.186   5.996  1.00  0.00          FE  \nATOM    610   Fe MOL     1      14.528  10.365   8.038  1.00  0.00          FE  \nATOM    611   Fe MOL     1      12.967  11.504  58.693  1.00  0.00          FE  \nATOM    612   Fe MOL     1      13.758  12.514  60.659  1.00  0.00          FE  \nATOM    613   Fe MOL     1      12.993  11.560  62.693  1.00  0.00          FE  \nATOM    614   Fe MOL     1      13.835  12.601  64.685  1.00  0.00          FE  \nATOM    615   Fe MOL     1      12.928  11.436  66.656  1.00  0.00          FE  \nATOM    616   Fe MOL     1      13.772  12.605  -0.000  1.00  0.00          FE  \nATOM    617   Fe MOL     1      12.962  11.459   1.985  1.00  0.00          FE  \nATOM    618   Fe MOL     1      13.780  12.627   3.927  1.00  0.00          FE  \nATOM    619   Fe MOL     1      13.024  11.607   6.023  1.00  0.00          FE  \nATOM    620   Fe MOL     1      13.773  12.748   8.163  1.00  0.00          FE  \nATOM    621   Fe MOL     1      12.141  13.788  58.789  1.00  0.00          FE  \nATOM    622   Fe MOL     1      12.992  14.835  60.755  1.00  0.00          FE  \nATOM    623   Fe MOL     1      12.074  13.823  62.686  1.00  0.00          FE  \nATOM    624   Fe MOL     1      13.018  14.857  64.620  1.00  0.00          FE  \nATOM    625   Fe MOL     1      12.077  13.688  66.642  1.00  0.00          FE  \nATOM    626   Fe MOL     1      12.961  14.897  -0.000  1.00  0.00          FE  \nATOM    627   Fe MOL     1      12.151  13.751   1.985  1.00  0.00          FE  \nATOM    628   Fe MOL     1      12.940  14.966   3.974  1.00  0.00          FE  \nATOM    629   Fe MOL     1      12.066  13.774   6.064  1.00  0.00          FE  \nATOM    630   Fe MOL     1      12.915  14.939   7.977  1.00  0.00          FE  \nATOM    631   Fe MOL     1      11.267  16.026  58.555  1.00  0.00          FE  \nATOM    632   Fe MOL     1      12.099  17.036  60.633  1.00  0.00          FE  \nATOM    633   Fe MOL     1      11.432  15.963  62.607  1.00  0.00          FE  \nATOM    634   Fe MOL     1      12.083  17.127  64.669  1.00  0.00          FE  \nATOM    635   Fe MOL     1      11.321  16.163  66.756  1.00  0.00          FE  \nATOM    636   Fe MOL     1      12.149  17.189  -0.000  1.00  0.00          FE  \nATOM    637   Fe MOL     1      11.339  16.043   1.985  1.00  0.00          FE  \nATOM    638   Fe MOL     1      12.120  17.143   4.044  1.00  0.00          FE  \nATOM    639   Fe MOL     1      11.195  16.082   6.077  1.00  0.00          FE  \nATOM    640   Fe MOL     1      12.092  17.113   8.098  1.00  0.00          FE  \nATOM    641    O MOL     1     -22.376  21.705  46.685  1.00  0.00           O  \nATOM    642    C MOL     1     -21.866  21.538  48.000  1.00  0.00           C  \nATOM    643    C MOL     1     -20.478  22.024  48.049  1.00  0.00           C  \nATOM    644    O MOL     1     -19.805  21.958  49.329  1.00  0.00           O  \nATOM    645    C MOL     1     -19.945  20.619  49.915  1.00  0.00           C  \nATOM    646    C MOL     1     -19.385  20.537  51.328  1.00  0.00           C  \nATOM    647    O MOL     1     -18.010  20.970  51.292  1.00  0.00           O  \nATOM    648    C MOL     1     -17.798  22.339  51.588  1.00  0.00           C  \nATOM    649    C MOL     1     -16.478  22.725  51.148  1.00  0.00           C  \nATOM    650    O MOL     1     -15.573  21.904  51.771  1.00  0.00           O  \nATOM    651    C MOL     1     -14.204  22.290  51.772  1.00  0.00           C  \nATOM    652    C MOL     1     -13.406  21.873  50.608  1.00  0.00           C  \nATOM    653    O MOL     1     -13.288  20.417  50.754  1.00  0.00           O  \nATOM    654    C MOL     1     -14.372  19.594  50.403  1.00  0.00           C  \nATOM    655    C MOL     1     -14.602  19.286  48.949  1.00  0.00           C  \nATOM    656    O MOL     1     -13.538  18.716  48.099  1.00  0.00           O  \nATOM    657    C MOL     1     -12.647  17.615  48.377  1.00  0.00           C  \nATOM    658    C MOL     1     -11.322  18.047  49.150  1.00  0.00           C  \nATOM    659    O MOL     1     -10.575  16.847  49.473  1.00  0.00           O  \nATOM    660    C MOL     1      -9.488  17.060  50.291  1.00  0.00           C  \nATOM    661    C MOL     1      -8.730  15.788  50.673  1.00  0.00           C  \nATOM    662    O MOL     1      -9.354  14.982  51.700  1.00  0.00           O  \nATOM    663    C MOL     1     -10.516  14.284  51.174  1.00  0.00           C  \nATOM    664    C MOL     1     -10.542  12.758  51.397  1.00  0.00           C  \nATOM    665    O MOL     1      -9.242  12.233  51.111  1.00  0.00           O  \nATOM    666    C MOL     1      -9.005  10.907  50.522  1.00  0.00           C  \nATOM    667    C MOL     1     -10.321  10.085  50.439  1.00  0.00           C  \nATOM    668    O MOL     1     -11.248  10.418  49.439  1.00  0.00           O  \nATOM    669    C MOL     1     -10.718   9.900  48.155  1.00  0.00           C  \nATOM    670    C MOL     1     -11.824   9.838  47.147  1.00  0.00           C  \nATOM    671    O MOL     1     -12.628   8.672  47.384  1.00  0.00           O  \nATOM    672    C MOL     1     -13.900   8.719  46.702  1.00  0.00           C  \nATOM    673    C MOL     1     -14.585   7.556  47.476  1.00  0.00           C  \nATOM    674    O MOL     1     -15.843   7.507  47.033  1.00  0.00           O  \nATOM    675    C MOL     1     -16.709   6.675  47.878  1.00  0.00           C  \nATOM    676    C MOL     1     -18.169   7.201  47.905  1.00  0.00           C  \nATOM    677    O MOL     1     -18.208   8.399  48.636  1.00  0.00           O  \nATOM    678    C MOL     1     -18.814   9.524  48.078  1.00  0.00           C  \nATOM    679    C MOL     1     -20.389   9.419  48.219  1.00  0.00           C  \nATOM    680    O MOL     1     -20.720   9.268  49.640  1.00  0.00           O  \nATOM    681    C MOL     1     -20.482  10.268  50.545  1.00  0.00           C  \nATOM    682    C MOL     1     -21.218  11.593  50.132  1.00  0.00           C  \nATOM    683    O MOL     1     -22.604  11.274  49.845  1.00  0.00           O  \nATOM    684    C MOL     1     -23.557  11.473  50.890  1.00  0.00           C  \nATOM    685    C MOL     1     -24.876  12.012  50.383  1.00  0.00           C  \nATOM    686    H MOL     1     -23.296  21.405  46.721  1.00  0.00           H  \nATOM    687    H MOL     1     -22.458  22.176  48.746  1.00  0.00           H  \nATOM    688    H MOL     1     -22.088  20.477  48.261  1.00  0.00           H  \nATOM    689    H MOL     1     -19.896  21.440  47.286  1.00  0.00           H  \nATOM    690    H MOL     1     -20.465  23.031  47.770  1.00  0.00           H  \nATOM    691    H MOL     1     -19.318  19.926  49.297  1.00  0.00           H  \nATOM    692    H MOL     1     -21.061  20.556  50.069  1.00  0.00           H  \nATOM    693    H MOL     1     -19.928  21.096  52.126  1.00  0.00           H  \nATOM    694    H MOL     1     -19.549  19.523  51.670  1.00  0.00           H  \nATOM    695    H MOL     1     -18.543  22.977  51.128  1.00  0.00           H  \nATOM    696    H MOL     1     -17.795  22.485  52.678  1.00  0.00           H  \nATOM    697    H MOL     1     -16.426  22.495  50.045  1.00  0.00           H  \nATOM    698    H MOL     1     -16.301  23.839  51.316  1.00  0.00           H  \nATOM    699    H MOL     1     -14.012  23.425  52.169  1.00  0.00           H  \nATOM    700    H MOL     1     -13.699  21.629  52.533  1.00  0.00           H  \nATOM    701    H MOL     1     -13.807  22.046  49.563  1.00  0.00           H  \nATOM    702    H MOL     1     -12.398  22.243  50.555  1.00  0.00           H  \nATOM    703    H MOL     1     -14.220  18.666  50.978  1.00  0.00           H  \nATOM    704    H MOL     1     -15.296  20.037  50.713  1.00  0.00           H  \nATOM    705    H MOL     1     -15.397  18.502  48.909  1.00  0.00           H  \nATOM    706    H MOL     1     -14.997  20.107  48.400  1.00  0.00           H  \nATOM    707    H MOL     1     -13.146  16.819  48.896  1.00  0.00           H  \nATOM    708    H MOL     1     -12.462  17.254  47.371  1.00  0.00           H  \nATOM    709    H MOL     1     -10.800  18.789  48.483  1.00  0.00           H  \nATOM    710    H MOL     1     -11.570  18.559  50.046  1.00  0.00           H  \nATOM    711    H MOL     1      -8.762  17.843  49.795  1.00  0.00           H  \nATOM    712    H MOL     1      -9.764  17.501  51.331  1.00  0.00           H  \nATOM    713    H MOL     1      -7.704  16.151  51.198  1.00  0.00           H  \nATOM    714    H MOL     1      -8.474  15.044  49.918  1.00  0.00           H  \nATOM    715    H MOL     1     -10.652  14.506  50.129  1.00  0.00           H  \nATOM    716    H MOL     1     -11.544  14.719  51.509  1.00  0.00           H  \nATOM    717    H MOL     1     -10.693  12.732  52.462  1.00  0.00           H  \nATOM    718    H MOL     1     -11.331  12.276  50.689  1.00  0.00           H  \nATOM    719    H MOL     1      -8.332  10.263  51.065  1.00  0.00           H  \nATOM    720    H MOL     1      -8.510  11.068  49.491  1.00  0.00           H  \nATOM    721    H MOL     1     -10.804   9.781  51.383  1.00  0.00           H  \nATOM    722    H MOL     1      -9.873   9.113  50.157  1.00  0.00           H  \nATOM    723    H MOL     1      -9.876  10.545  47.713  1.00  0.00           H  \nATOM    724    H MOL     1     -10.271   8.940  48.319  1.00  0.00           H  \nATOM    725    H MOL     1     -12.472  10.720  47.334  1.00  0.00           H  \nATOM    726    H MOL     1     -11.412   9.994  46.121  1.00  0.00           H  \nATOM    727    H MOL     1     -13.831   8.660  45.584  1.00  0.00           H  \nATOM    728    H MOL     1     -14.379   9.645  46.963  1.00  0.00           H  \nATOM    729    H MOL     1     -13.965   6.607  47.338  1.00  0.00           H  \nATOM    730    H MOL     1     -14.660   7.764  48.565  1.00  0.00           H  \nATOM    731    H MOL     1     -16.296   6.756  48.868  1.00  0.00           H  \nATOM    732    H MOL     1     -16.754   5.696  47.427  1.00  0.00           H  \nATOM    733    H MOL     1     -18.769   6.344  48.346  1.00  0.00           H  \nATOM    734    H MOL     1     -18.496   7.460  46.912  1.00  0.00           H  \nATOM    735    H MOL     1     -18.411  10.437  48.560  1.00  0.00           H  \nATOM    736    H MOL     1     -18.605   9.574  47.004  1.00  0.00           H  \nATOM    737    H MOL     1     -20.800  10.244  47.711  1.00  0.00           H  \nATOM    738    H MOL     1     -20.807   8.576  47.699  1.00  0.00           H  \nATOM    739    H MOL     1     -19.417  10.609  50.821  1.00  0.00           H  \nATOM    740    H MOL     1     -20.825   9.846  51.497  1.00  0.00           H  \nATOM    741    H MOL     1     -20.818  12.074  49.242  1.00  0.00           H  \nATOM    742    H MOL     1     -21.112  12.269  51.082  1.00  0.00           H  \nATOM    743    H MOL     1     -23.795  10.566  51.436  1.00  0.00           H  \nATOM    744    H MOL     1     -23.162  12.211  51.624  1.00  0.00           H  \nATOM    745    H MOL     1     -25.128  11.421  49.517  1.00  0.00           H  \nATOM    746    H MOL     1     -25.664  11.813  51.075  1.00  0.00           H  \nATOM    747    O MOL     1     -24.921  13.335  49.884  1.00  0.00           O  \nATOM    748    C MOL     1     -24.878  14.209  51.085  1.00  0.00           C  \nATOM    749    C MOL     1     -24.682  15.688  50.588  1.00  0.00           C  \nATOM    750    O MOL     1     -23.307  16.211  50.380  1.00  0.00           O  \nATOM    751    C MOL     1     -22.318  16.132  51.321  1.00  0.00           C  \nATOM    752    C MOL     1     -20.999  16.293  50.668  1.00  0.00           C  \nATOM    753    O MOL     1     -20.049  16.768  51.643  1.00  0.00           O  \nATOM    754    C MOL     1     -18.704  16.447  51.469  1.00  0.00           C  \nATOM    755    C MOL     1     -18.116  16.303  50.110  1.00  0.00           C  \nATOM    756    O MOL     1     -18.166  14.942  49.562  1.00  0.00           O  \nATOM    757    C MOL     1     -17.290  14.889  48.338  1.00  0.00           C  \nATOM    758    C MOL     1     -17.802  13.796  47.479  1.00  0.00           C  \nATOM    759    O MOL     1     -17.047  12.598  47.855  1.00  0.00           O  \nATOM    760    C MOL     1     -16.804  11.845  46.648  1.00  0.00           C  \nATOM    761    C MOL     1     -15.825  12.515  45.588  1.00  0.00           C  \nATOM    762    O MOL     1     -14.427  12.311  46.019  1.00  0.00           O  \nATOM    763    C MOL     1     -13.961  13.304  47.009  1.00  0.00           C  \nATOM    764    C MOL     1     -13.679  14.667  46.394  1.00  0.00           C  \nATOM    765    O MOL     1     -14.880  15.350  46.266  1.00  0.00           O  \nATOM    766    C MOL     1     -14.528  16.503  45.465  1.00  0.00           C  \nATOM    767    C MOL     1     -15.717  17.005  44.583  1.00  0.00           C  \nATOM    768    O MOL     1     -16.763  17.320  45.504  1.00  0.00           O  \nATOM    769    C MOL     1     -17.359  18.687  45.389  1.00  0.00           C  \nATOM    770    C MOL     1     -17.934  19.247  46.583  1.00  0.00           C  \nATOM    771    O MOL     1     -18.949  18.436  47.185  1.00  0.00           O  \nATOM    772    C MOL     1     -20.128  18.316  46.352  1.00  0.00           C  \nATOM    773    C MOL     1     -20.229  16.711  45.971  1.00  0.00           C  \nATOM    774    O MOL     1     -21.551  16.455  45.504  1.00  0.00           O  \nATOM    775    C MOL     1     -22.372  15.716  46.410  1.00  0.00           C  \nATOM    776    C MOL     1     -23.921  16.228  46.648  1.00  0.00           C  \nATOM    777    O MOL     1     -24.160  17.357  47.604  1.00  0.00           O  \nATOM    778    C MOL     1     -24.482  18.448  46.728  1.00  0.00           C  \nATOM    779    C MOL     1     -24.729  19.650  47.639  1.00  0.00           C  \nATOM    780    O MOL     1     -24.867  20.809  46.901  1.00  0.00           O  \nATOM    781    C MOL     1     -26.176  21.238  46.381  1.00  0.00           C  \nATOM    782    C MOL     1     -27.230  21.222  47.403  1.00  0.00           C  \nATOM    783    O MOL     1     -26.966  22.310  48.286  1.00  0.00           O  \nATOM    784    C MOL     1     -28.044  22.577  49.090  1.00  0.00           C  \nATOM    785    C MOL     1     -28.654  23.894  48.771  1.00  0.00           C  \nATOM    786    O MOL     1     -29.648  24.194  49.744  1.00  0.00           O  \nATOM    787    C MOL     1     -30.707  25.136  49.340  1.00  0.00           C  \nATOM    788    C MOL     1     -30.556  26.389  48.569  1.00  0.00           C  \nATOM    789    O MOL     1     -30.296  26.214  47.155  1.00  0.00           O  \nATOM    790    C MOL     1     -31.458  25.557  46.458  1.00  0.00           C  \nATOM    791    C MOL     1     -32.504  26.410  45.868  1.00  0.00           C  \nATOM    792    H MOL     1     -25.863  14.209  51.543  1.00  0.00           H  \nATOM    793    H MOL     1     -24.218  13.781  51.830  1.00  0.00           H  \nATOM    794    H MOL     1     -25.016  15.991  49.692  1.00  0.00           H  \nATOM    795    H MOL     1     -25.162  16.348  51.344  1.00  0.00           H  \nATOM    796    H MOL     1     -22.464  15.233  51.912  1.00  0.00           H  \nATOM    797    H MOL     1     -22.443  16.971  52.068  1.00  0.00           H  \nATOM    798    H MOL     1     -20.598  15.350  50.451  1.00  0.00           H  \nATOM    799    H MOL     1     -21.157  16.879  49.767  1.00  0.00           H  \nATOM    800    H MOL     1     -18.164  17.312  51.870  1.00  0.00           H  \nATOM    801    H MOL     1     -18.471  15.522  52.000  1.00  0.00           H  \nATOM    802    H MOL     1     -18.444  16.934  49.334  1.00  0.00           H  \nATOM    803    H MOL     1     -16.965  16.448  50.171  1.00  0.00           H  \nATOM    804    H MOL     1     -17.592  15.825  47.571  1.00  0.00           H  \nATOM    805    H MOL     1     -16.291  14.790  48.515  1.00  0.00           H  \nATOM    806    H MOL     1     -18.904  13.587  47.612  1.00  0.00           H  \nATOM    807    H MOL     1     -17.612  14.023  46.357  1.00  0.00           H  \nATOM    808    H MOL     1     -16.330  10.872  46.884  1.00  0.00           H  \nATOM    809    H MOL     1     -17.692  11.666  46.125  1.00  0.00           H  \nATOM    810    H MOL     1     -16.070  12.030  44.643  1.00  0.00           H  \nATOM    811    H MOL     1     -15.872  13.515  45.667  1.00  0.00           H  \nATOM    812    H MOL     1     -14.765  13.419  47.835  1.00  0.00           H  \nATOM    813    H MOL     1     -13.037  12.970  47.421  1.00  0.00           H  \nATOM    814    H MOL     1     -12.835  15.208  47.016  1.00  0.00           H  \nATOM    815    H MOL     1     -13.230  14.431  45.324  1.00  0.00           H  \nATOM    816    H MOL     1     -14.315  17.277  46.217  1.00  0.00           H  \nATOM    817    H MOL     1     -13.611  16.221  44.879  1.00  0.00           H  \nATOM    818    H MOL     1     -16.037  16.087  43.996  1.00  0.00           H  \nATOM    819    H MOL     1     -15.530  17.914  43.996  1.00  0.00           H  \nATOM    820    H MOL     1     -18.310  18.535  44.739  1.00  0.00           H  \nATOM    821    H MOL     1     -16.585  19.269  44.842  1.00  0.00           H  \nATOM    822    H MOL     1     -17.190  19.324  47.346  1.00  0.00           H  \nATOM    823    H MOL     1     -18.297  20.447  46.345  1.00  0.00           H  \nATOM    824    H MOL     1     -20.143  18.892  45.507  1.00  0.00           H  \nATOM    825    H MOL     1     -20.987  18.425  46.895  1.00  0.00           H  \nATOM    826    H MOL     1     -19.727  16.295  46.825  1.00  0.00           H  \nATOM    827    H MOL     1     -19.704  16.604  44.996  1.00  0.00           H  \nATOM    828    H MOL     1     -22.324  14.601  45.955  1.00  0.00           H  \nATOM    829    H MOL     1     -21.956  15.594  47.428  1.00  0.00           H  \nATOM    830    H MOL     1     -24.309  16.619  45.717  1.00  0.00           H  \nATOM    831    H MOL     1     -24.430  15.342  46.992  1.00  0.00           H  \nATOM    832    H MOL     1     -25.126  18.101  45.941  1.00  0.00           H  \nATOM    833    H MOL     1     -23.494  18.634  46.110  1.00  0.00           H  \nATOM    834    H MOL     1     -25.493  19.436  48.394  1.00  0.00           H  \nATOM    835    H MOL     1     -23.848  19.769  48.290  1.00  0.00           H  \nATOM    836    H MOL     1     -26.546  20.539  45.621  1.00  0.00           H  \nATOM    837    H MOL     1     -26.212  22.228  45.883  1.00  0.00           H  \nATOM    838    H MOL     1     -27.220  20.124  47.979  1.00  0.00           H  \nATOM    839    H MOL     1     -28.211  21.361  46.873  1.00  0.00           H  \nATOM    840    H MOL     1     -28.867  21.864  49.138  1.00  0.00           H  \nATOM    841    H MOL     1     -27.645  22.528  50.108  1.00  0.00           H  \nATOM    842    H MOL     1     -27.859  24.663  48.825  1.00  0.00           H  \nATOM    843    H MOL     1     -29.051  23.965  47.703  1.00  0.00           H  \nATOM    844    H MOL     1     -31.180  25.446  50.353  1.00  0.00           H  \nATOM    845    H MOL     1     -31.400  24.516  48.777  1.00  0.00           H  \nATOM    846    H MOL     1     -29.732  26.940  49.058  1.00  0.00           H  \nATOM    847    H MOL     1     -31.426  27.014  48.843  1.00  0.00           H  \nATOM    848    H MOL     1     -30.892  24.994  45.668  1.00  0.00           H  \nATOM    849    H MOL     1     -31.922  24.876  47.189  1.00  0.00           H  \nATOM    850    H MOL     1     -33.076  26.825  46.721  1.00  0.00           H  \nATOM    851    H MOL     1     -32.081  27.249  45.231  1.00  0.00           H  \nATOM    852    H MOL     1     -33.284  25.805  45.343  1.00  0.00           H  \nATOM    853    O MOL     1     -27.336   1.516  45.345  1.00  0.00           O  \nATOM    854    C MOL     1     -27.210   2.962  45.103  1.00  0.00           C  \nATOM    855    C MOL     1     -27.449   3.506  43.745  1.00  0.00           C  \nATOM    856    O MOL     1     -26.523   3.090  42.726  1.00  0.00           O  \nATOM    857    C MOL     1     -27.047   3.583  41.447  1.00  0.00           C  \nATOM    858    C MOL     1     -26.263   2.792  40.357  1.00  0.00           C  \nATOM    859    O MOL     1     -26.982   1.595  40.012  1.00  0.00           O  \nATOM    860    C MOL     1     -26.442   0.846  38.936  1.00  0.00           C  \nATOM    861    C MOL     1     -27.072  -0.577  38.908  1.00  0.00           C  \nATOM    862    O MOL     1     -26.141  -1.478  38.272  1.00  0.00           O  \nATOM    863    C MOL     1     -26.782  -2.676  37.960  1.00  0.00           C  \nATOM    864    C MOL     1     -25.795  -3.625  37.423  1.00  0.00           C  \nATOM    865    O MOL     1     -25.595  -3.590  35.988  1.00  0.00           O  \nATOM    866    C MOL     1     -24.530  -2.957  35.354  1.00  0.00           C  \nATOM    867    C MOL     1     -23.179  -3.728  35.428  1.00  0.00           C  \nATOM    868    O MOL     1     -22.934  -4.889  34.646  1.00  0.00           O  \nATOM    869    C MOL     1     -24.080  -5.806  34.436  1.00  0.00           C  \nATOM    870    C MOL     1     -23.538  -7.175  34.202  1.00  0.00           C  \nATOM    871    O MOL     1     -24.458  -7.803  33.232  1.00  0.00           O  \nATOM    872    C MOL     1     -24.057  -9.264  33.047  1.00  0.00           C  \nATOM    873    C MOL     1     -24.334 -10.108  34.264  1.00  0.00           C  \nATOM    874    O MOL     1     -24.245 -11.488  33.793  1.00  0.00           O  \nATOM    875    C MOL     1     -23.874 -12.419  34.769  1.00  0.00           C  \nATOM    876    C MOL     1     -22.424 -12.508  35.302  1.00  0.00           C  \nATOM    877    O MOL     1     -22.273 -11.559  36.292  1.00  0.00           O  \nATOM    878    C MOL     1     -21.016 -11.534  37.014  1.00  0.00           C  \nATOM    879    C MOL     1     -21.036 -10.266  37.823  1.00  0.00           C  \nATOM    880    O MOL     1     -21.319  -9.111  37.007  1.00  0.00           O  \nATOM    881    C MOL     1     -20.184  -8.865  36.224  1.00  0.00           C  \nATOM    882    C MOL     1     -19.887  -7.391  36.037  1.00  0.00           C  \nATOM    883    O MOL     1     -19.654  -6.586  37.226  1.00  0.00           O  \nATOM    884    C MOL     1     -18.711  -5.605  36.833  1.00  0.00           C  \nATOM    885    C MOL     1     -18.526  -4.619  37.893  1.00  0.00           C  \nATOM    886    O MOL     1     -17.680  -3.741  37.066  1.00  0.00           O  \nATOM    887    C MOL     1     -17.489  -2.346  37.519  1.00  0.00           C  \nATOM    888    C MOL     1     -18.584  -1.439  37.074  1.00  0.00           C  \nATOM    889    O MOL     1     -18.364  -1.184  35.730  1.00  0.00           O  \nATOM    890    C MOL     1     -18.828   0.113  35.254  1.00  0.00           C  \nATOM    891    C MOL     1     -20.336   0.240  35.371  1.00  0.00           C  \nATOM    892    O MOL     1     -20.676   0.541  36.756  1.00  0.00           O  \nATOM    893    C MOL     1     -22.067   0.177  37.188  1.00  0.00           C  \nATOM    894    C MOL     1     -23.158   1.001  36.661  1.00  0.00           C  \nATOM    895    O MOL     1     -23.157   0.845  35.211  1.00  0.00           O  \nATOM    896    C MOL     1     -23.178   1.917  34.260  1.00  0.00           C  \nATOM    897    C MOL     1     -24.496   2.822  34.579  1.00  0.00           C  \nATOM    898    H MOL     1     -26.986   1.302  46.252  1.00  0.00           H  \nATOM    899    H MOL     1     -28.070   3.439  45.593  1.00  0.00           H  \nATOM    900    H MOL     1     -26.235   3.219  45.543  1.00  0.00           H  \nATOM    901    H MOL     1     -28.443   3.204  43.364  1.00  0.00           H  \nATOM    902    H MOL     1     -27.509   4.636  43.714  1.00  0.00           H  \nATOM    903    H MOL     1     -26.823   4.722  41.422  1.00  0.00           H  \nATOM    904    H MOL     1     -28.130   3.429  41.492  1.00  0.00           H  \nATOM    905    H MOL     1     -26.189   3.519  39.479  1.00  0.00           H  \nATOM    906    H MOL     1     -25.229   2.571  40.581  1.00  0.00           H  \nATOM    907    H MOL     1     -26.616   1.255  37.987  1.00  0.00           H  \nATOM    908    H MOL     1     -25.381   0.810  38.991  1.00  0.00           H  \nATOM    909    H MOL     1     -27.427  -0.929  39.944  1.00  0.00           H  \nATOM    910    H MOL     1     -28.013  -0.620  38.368  1.00  0.00           H  \nATOM    911    H MOL     1     -27.177  -3.100  38.837  1.00  0.00           H  \nATOM    912    H MOL     1     -27.664  -2.617  37.340  1.00  0.00           H  \nATOM    913    H MOL     1     -24.917  -3.436  38.026  1.00  0.00           H  \nATOM    914    H MOL     1     -26.188  -4.600  37.617  1.00  0.00           H  \nATOM    915    H MOL     1     -24.764  -3.006  34.321  1.00  0.00           H  \nATOM    916    H MOL     1     -24.517  -1.899  35.656  1.00  0.00           H  \nATOM    917    H MOL     1     -22.394  -2.995  35.242  1.00  0.00           H  \nATOM    918    H MOL     1     -23.122  -4.029  36.483  1.00  0.00           H  \nATOM    919    H MOL     1     -24.486  -5.656  35.423  1.00  0.00           H  \nATOM    920    H MOL     1     -24.677  -5.500  33.558  1.00  0.00           H  \nATOM    921    H MOL     1     -22.543  -7.033  33.678  1.00  0.00           H  \nATOM    922    H MOL     1     -23.134  -7.566  35.236  1.00  0.00           H  \nATOM    923    H MOL     1     -24.624  -9.745  32.326  1.00  0.00           H  \nATOM    924    H MOL     1     -23.073  -9.122  32.514  1.00  0.00           H  \nATOM    925    H MOL     1     -25.374  -9.855  34.543  1.00  0.00           H  \nATOM    926    H MOL     1     -23.636  -9.876  35.059  1.00  0.00           H  \nATOM    927    H MOL     1     -24.013 -13.392  34.350  1.00  0.00           H  \nATOM    928    H MOL     1     -24.551 -12.081  35.706  1.00  0.00           H  \nATOM    929    H MOL     1     -22.197 -13.543  35.598  1.00  0.00           H  \nATOM    930    H MOL     1     -21.831 -12.364  34.397  1.00  0.00           H  \nATOM    931    H MOL     1     -20.156 -11.532  36.234  1.00  0.00           H  \nATOM    932    H MOL     1     -21.028 -12.355  37.811  1.00  0.00           H  \nATOM    933    H MOL     1     -20.154 -10.049  38.537  1.00  0.00           H  \nATOM    934    H MOL     1     -21.880 -10.330  38.562  1.00  0.00           H  \nATOM    935    H MOL     1     -19.363  -9.277  36.815  1.00  0.00           H  \nATOM    936    H MOL     1     -20.114  -9.328  35.096  1.00  0.00           H  \nATOM    937    H MOL     1     -19.064  -7.395  35.292  1.00  0.00           H  \nATOM    938    H MOL     1     -20.804  -6.955  35.501  1.00  0.00           H  \nATOM    939    H MOL     1     -18.985  -4.988  35.888  1.00  0.00           H  \nATOM    940    H MOL     1     -17.758  -6.130  36.566  1.00  0.00           H  \nATOM    941    H MOL     1     -19.544  -4.040  38.033  1.00  0.00           H  \nATOM    942    H MOL     1     -18.048  -4.879  38.872  1.00  0.00           H  \nATOM    943    H MOL     1     -16.493  -1.882  37.157  1.00  0.00           H  \nATOM    944    H MOL     1     -17.496  -2.374  38.607  1.00  0.00           H  \nATOM    945    H MOL     1     -18.466  -0.474  37.644  1.00  0.00           H  \nATOM    946    H MOL     1     -19.610  -1.821  37.192  1.00  0.00           H  \nATOM    947    H MOL     1     -18.358   0.927  35.827  1.00  0.00           H  \nATOM    948    H MOL     1     -18.544   0.164  34.160  1.00  0.00           H  \nATOM    949    H MOL     1     -20.676   1.089  34.822  1.00  0.00           H  \nATOM    950    H MOL     1     -20.978  -0.635  35.035  1.00  0.00           H  \nATOM    951    H MOL     1     -21.971   0.275  38.281  1.00  0.00           H  \nATOM    952    H MOL     1     -22.427  -0.844  36.791  1.00  0.00           H  \nATOM    953    H MOL     1     -23.025   2.081  36.950  1.00  0.00           H  \nATOM    954    H MOL     1     -24.149   0.730  37.130  1.00  0.00           H  \nATOM    955    H MOL     1     -22.180   2.634  34.419  1.00  0.00           H  \nATOM    956    H MOL     1     -23.190   1.536  33.250  1.00  0.00           H  \nATOM    957    H MOL     1     -24.814   3.490  33.729  1.00  0.00           H  \nATOM    958    H MOL     1     -25.260   2.079  34.845  1.00  0.00           H  \nATOM    959    O MOL     1     -24.291   3.767  35.768  1.00  0.00           O  \nATOM    960    C MOL     1     -23.865   5.128  35.272  1.00  0.00           C  \nATOM    961    C MOL     1     -23.763   6.074  36.499  1.00  0.00           C  \nATOM    962    O MOL     1     -23.785   7.442  36.188  1.00  0.00           O  \nATOM    963    C MOL     1     -22.533   7.993  35.656  1.00  0.00           C  \nATOM    964    C MOL     1     -22.753   9.440  35.462  1.00  0.00           C  \nATOM    965    O MOL     1     -23.168   9.722  34.108  1.00  0.00           O  \nATOM    966    C MOL     1     -22.173  10.039  33.063  1.00  0.00           C  \nATOM    967    C MOL     1     -21.944  11.473  32.821  1.00  0.00           C  \nATOM    968    O MOL     1     -20.999  12.085  33.664  1.00  0.00           O  \nATOM    969    C MOL     1     -20.867  13.460  33.729  1.00  0.00           C  \nATOM    970    C MOL     1     -22.185  14.254  33.946  1.00  0.00           C  \nATOM    971    O MOL     1     -22.360  14.953  32.652  1.00  0.00           O  \nATOM    972    C MOL     1     -23.493  15.716  32.451  1.00  0.00           C  \nATOM    973    C MOL     1     -23.547  16.963  31.477  1.00  0.00           C  \nATOM    974    O MOL     1     -23.040  18.172  32.090  1.00  0.00           O  \nATOM    975    C MOL     1     -21.725  18.381  32.323  1.00  0.00           C  \nATOM    976    C MOL     1     -21.173  18.345  33.742  1.00  0.00           C  \nATOM    977    O MOL     1     -21.291  19.591  34.432  1.00  0.00           O  \nATOM    978    C MOL     1     -21.426  19.444  35.843  1.00  0.00           C  \nATOM    979    C MOL     1     -20.471  18.520  36.609  1.00  0.00           C  \nATOM    980    O MOL     1     -19.284  19.291  36.922  1.00  0.00           O  \nATOM    981    C MOL     1     -18.106  18.893  36.286  1.00  0.00           C  \nATOM    982    C MOL     1     -17.542  17.496  36.828  1.00  0.00           C  \nATOM    983    O MOL     1     -18.239  16.354  36.331  1.00  0.00           O  \nATOM    984    C MOL     1     -17.593  15.293  35.657  1.00  0.00           C  \nATOM    985    C MOL     1     -17.190  14.152  36.544  1.00  0.00           C  \nATOM    986    O MOL     1     -18.360  13.425  36.862  1.00  0.00           O  \nATOM    987    C MOL     1     -18.099  12.162  37.353  1.00  0.00           C  \nATOM    988    C MOL     1     -19.356  11.497  37.756  1.00  0.00           C  \nATOM    989    O MOL     1     -19.958  11.940  38.964  1.00  0.00           O  \nATOM    990    C MOL     1     -21.231  12.627  38.759  1.00  0.00           C  \nATOM    991    C MOL     1     -21.081  14.191  38.662  1.00  0.00           C  \nATOM    992    O MOL     1     -20.390  14.584  39.920  1.00  0.00           O  \nATOM    993    C MOL     1     -20.057  15.892  40.161  1.00  0.00           C  \nATOM    994    C MOL     1     -18.680  15.900  40.963  1.00  0.00           C  \nATOM    995    O MOL     1     -18.729  14.900  42.027  1.00  0.00           O  \nATOM    996    C MOL     1     -17.384  14.545  42.305  1.00  0.00           C  \nATOM    997    C MOL     1     -16.797  13.466  41.309  1.00  0.00           C  \nATOM    998    O MOL     1     -15.682  12.780  41.900  1.00  0.00           O  \nATOM    999    C MOL     1     -14.465  13.443  42.053  1.00  0.00           C  \nATOM   1000    C MOL     1     -13.246  12.434  41.987  1.00  0.00           C  \nATOM   1001    O MOL     1     -12.036  13.033  42.404  1.00  0.00           O  \nATOM   1002    C MOL     1     -11.698  12.659  43.704  1.00  0.00           C  \nATOM   1003    C MOL     1     -10.719  11.438  43.501  1.00  0.00           C  \nATOM   1004    H MOL     1     -22.867   5.123  34.832  1.00  0.00           H  \nATOM   1005    H MOL     1     -24.679   5.438  34.561  1.00  0.00           H  \nATOM   1006    H MOL     1     -24.627   5.954  37.237  1.00  0.00           H  \nATOM   1007    H MOL     1     -22.830   5.813  36.991  1.00  0.00           H  \nATOM   1008    H MOL     1     -22.373   7.491  34.669  1.00  0.00           H  \nATOM   1009    H MOL     1     -21.683   7.805  36.323  1.00  0.00           H  \nATOM   1010    H MOL     1     -23.558   9.812  36.146  1.00  0.00           H  \nATOM   1011    H MOL     1     -21.840   9.972  35.845  1.00  0.00           H  \nATOM   1012    H MOL     1     -21.267   9.500  33.214  1.00  0.00           H  \nATOM   1013    H MOL     1     -22.738   9.593  32.223  1.00  0.00           H  \nATOM   1014    H MOL     1     -21.522  11.498  31.805  1.00  0.00           H  \nATOM   1015    H MOL     1     -22.834  11.965  33.006  1.00  0.00           H  \nATOM   1016    H MOL     1     -20.110  13.627  34.541  1.00  0.00           H  \nATOM   1017    H MOL     1     -20.471  13.936  32.801  1.00  0.00           H  \nATOM   1018    H MOL     1     -23.036  13.688  34.213  1.00  0.00           H  \nATOM   1019    H MOL     1     -22.089  15.078  34.660  1.00  0.00           H  \nATOM   1020    H MOL     1     -24.327  15.088  32.053  1.00  0.00           H  \nATOM   1021    H MOL     1     -23.831  16.165  33.378  1.00  0.00           H  \nATOM   1022    H MOL     1     -23.096  16.760  30.467  1.00  0.00           H  \nATOM   1023    H MOL     1     -24.594  17.263  31.182  1.00  0.00           H  \nATOM   1024    H MOL     1     -20.987  17.708  31.746  1.00  0.00           H  \nATOM   1025    H MOL     1     -21.472  19.398  31.982  1.00  0.00           H  \nATOM   1026    H MOL     1     -21.594  17.431  34.202  1.00  0.00           H  \nATOM   1027    H MOL     1     -20.171  18.042  33.558  1.00  0.00           H  \nATOM   1028    H MOL     1     -21.230  20.487  36.155  1.00  0.00           H  \nATOM   1029    H MOL     1     -22.517  19.122  35.983  1.00  0.00           H  \nATOM   1030    H MOL     1     -20.204  17.550  36.083  1.00  0.00           H  \nATOM   1031    H MOL     1     -20.999  18.177  37.450  1.00  0.00           H  \nATOM   1032    H MOL     1     -17.294  19.552  36.393  1.00  0.00           H  \nATOM   1033    H MOL     1     -18.280  18.696  35.278  1.00  0.00           H  \nATOM   1034    H MOL     1     -16.452  17.496  36.716  1.00  0.00           H  \nATOM   1035    H MOL     1     -17.677  17.549  37.952  1.00  0.00           H  \nATOM   1036    H MOL     1     -16.750  15.669  35.045  1.00  0.00           H  \nATOM   1037    H MOL     1     -18.380  14.933  34.919  1.00  0.00           H  \nATOM   1038    H MOL     1     -16.692  14.475  37.449  1.00  0.00           H  \nATOM   1039    H MOL     1     -16.567  13.393  36.022  1.00  0.00           H  \nATOM   1040    H MOL     1     -17.514  11.508  36.686  1.00  0.00           H  \nATOM   1041    H MOL     1     -17.477  12.238  38.232  1.00  0.00           H  \nATOM   1042    H MOL     1     -20.079  11.640  36.909  1.00  0.00           H  \nATOM   1043    H MOL     1     -19.219  10.377  37.723  1.00  0.00           H  \nATOM   1044    H MOL     1     -21.970  12.192  39.482  1.00  0.00           H  \nATOM   1045    H MOL     1     -21.660  12.261  37.719  1.00  0.00           H  \nATOM   1046    H MOL     1     -20.474  14.593  37.799  1.00  0.00           H  \nATOM   1047    H MOL     1     -22.069  14.671  38.565  1.00  0.00           H  \nATOM   1048    H MOL     1     -20.790  16.428  40.786  1.00  0.00           H  \nATOM   1049    H MOL     1     -19.847  16.525  39.266  1.00  0.00           H  \nATOM   1050    H MOL     1     -18.428  16.900  41.474  1.00  0.00           H  \nATOM   1051    H MOL     1     -18.019  15.504  40.180  1.00  0.00           H  \nATOM   1052    H MOL     1     -16.782  15.617  42.095  1.00  0.00           H  \nATOM   1053    H MOL     1     -17.191  14.396  43.347  1.00  0.00           H  \nATOM   1054    H MOL     1     -17.484  12.649  41.082  1.00  0.00           H  \nATOM   1055    H MOL     1     -16.471  13.938  40.419  1.00  0.00           H  \nATOM   1056    H MOL     1     -14.440  13.947  43.068  1.00  0.00           H  \nATOM   1057    H MOL     1     -14.167  14.155  41.234  1.00  0.00           H  \nATOM   1058    H MOL     1     -12.955  12.038  41.015  1.00  0.00           H  \nATOM   1059    H MOL     1     -13.491  11.502  42.543  1.00  0.00           H  \nATOM   1060    H MOL     1     -11.182  13.517  44.068  1.00  0.00           H  \nATOM   1061    H MOL     1     -12.617  12.496  44.346  1.00  0.00           H  \nATOM   1062    H MOL     1      -9.988  11.840  42.725  1.00  0.00           H  \nATOM   1063    H MOL     1     -10.114  11.285  44.433  1.00  0.00           H  \nATOM   1064    H MOL     1     -11.124  10.465  43.064  1.00  0.00           H  \nATOM   1065    O MOL     1      -1.405   0.561  10.351  1.00  0.00           O  \nATOM   1066    C MOL     1      -0.207   1.096  11.164  1.00  0.00           C  \nATOM   1067    C MOL     1       0.888   0.092  11.119  1.00  0.00           C  \nATOM   1068    O MOL     1       0.466  -1.061  11.815  1.00  0.00           O  \nATOM   1069    C MOL     1       1.239  -2.163  11.376  1.00  0.00           C  \nATOM   1070    C MOL     1       0.901  -3.436  12.211  1.00  0.00           C  \nATOM   1071    O MOL     1      -0.506  -3.582  12.327  1.00  0.00           O  \nATOM   1072    C MOL     1      -1.107  -4.735  11.839  1.00  0.00           C  \nATOM   1073    C MOL     1      -2.586  -4.601  12.041  1.00  0.00           C  \nATOM   1074    O MOL     1      -3.295  -3.807  11.038  1.00  0.00           O  \nATOM   1075    C MOL     1      -3.067  -2.405  10.967  1.00  0.00           C  \nATOM   1076    C MOL     1      -3.698  -1.583  12.157  1.00  0.00           C  \nATOM   1077    O MOL     1      -3.738  -0.195  11.932  1.00  0.00           O  \nATOM   1078    C MOL     1      -4.843   0.461  11.219  1.00  0.00           C  \nATOM   1079    C MOL     1      -6.202   0.253  11.719  1.00  0.00           C  \nATOM   1080    O MOL     1      -7.131   0.969  10.883  1.00  0.00           O  \nATOM   1081    C MOL     1      -8.409   1.367  11.436  1.00  0.00           C  \nATOM   1082    C MOL     1      -9.373   0.214  11.547  1.00  0.00           C  \nATOM   1083    O MOL     1      -8.947  -0.747  12.511  1.00  0.00           O  \nATOM   1084    C MOL     1     -10.118  -1.503  13.016  1.00  0.00           C  \nATOM   1085    C MOL     1     -10.377  -2.577  11.982  1.00  0.00           C  \nATOM   1086    O MOL     1     -11.595  -3.249  12.293  1.00  0.00           O  \nATOM   1087    C MOL     1     -12.660  -3.116  11.299  1.00  0.00           C  \nATOM   1088    C MOL     1     -13.707  -4.142  11.764  1.00  0.00           C  \nATOM   1089    O MOL     1     -14.546  -4.527  10.608  1.00  0.00           O  \nATOM   1090    C MOL     1     -15.560  -5.433  11.168  1.00  0.00           C  \nATOM   1091    C MOL     1     -15.014  -6.877  11.200  1.00  0.00           C  \nATOM   1092    O MOL     1     -16.047  -7.740  11.509  1.00  0.00           O  \nATOM   1093    C MOL     1     -16.026  -8.466  12.689  1.00  0.00           C  \nATOM   1094    C MOL     1     -17.106  -9.500  12.595  1.00  0.00           C  \nATOM   1095    O MOL     1     -18.164  -9.203  13.390  1.00  0.00           O  \nATOM   1096    C MOL     1     -19.337  -8.554  12.928  1.00  0.00           C  \nATOM   1097    C MOL     1     -20.063  -9.192  11.765  1.00  0.00           C  \nATOM   1098    O MOL     1     -20.219 -10.604  11.960  1.00  0.00           O  \nATOM   1099    C MOL     1     -21.344 -11.074  11.324  1.00  0.00           C  \nATOM   1100    C MOL     1     -21.449 -12.620  11.153  1.00  0.00           C  \nATOM   1101    O MOL     1     -20.424 -13.208  10.294  1.00  0.00           O  \nATOM   1102    C MOL     1     -19.349 -13.461  11.238  1.00  0.00           C  \nATOM   1103    C MOL     1     -17.995 -13.685  10.665  1.00  0.00           C  \nATOM   1104    O MOL     1     -17.058 -13.888  11.732  1.00  0.00           O  \nATOM   1105    C MOL     1     -15.878 -14.511  11.309  1.00  0.00           C  \nATOM   1106    C MOL     1     -14.837 -14.648  12.389  1.00  0.00           C  \nATOM   1107    O MOL     1     -15.207 -15.726  13.329  1.00  0.00           O  \nATOM   1108    C MOL     1     -15.605 -15.517  14.614  1.00  0.00           C  \nATOM   1109    C MOL     1     -14.528 -15.825  15.746  1.00  0.00           C  \nATOM   1110    H MOL     1      -2.184   0.037  10.966  1.00  0.00           H  \nATOM   1111    H MOL     1       0.209   2.007  10.785  1.00  0.00           H  \nATOM   1112    H MOL     1      -0.527   1.133  12.269  1.00  0.00           H  \nATOM   1113    H MOL     1       1.178  -0.153  10.076  1.00  0.00           H  \nATOM   1114    H MOL     1       1.805   0.487  11.510  1.00  0.00           H  \nATOM   1115    H MOL     1       2.284  -2.034  11.459  1.00  0.00           H  \nATOM   1116    H MOL     1       1.013  -2.430  10.343  1.00  0.00           H  \nATOM   1117    H MOL     1       1.402  -4.298  11.721  1.00  0.00           H  \nATOM   1118    H MOL     1       1.397  -3.316  13.266  1.00  0.00           H  \nATOM   1119    H MOL     1      -0.931  -4.706  10.702  1.00  0.00           H  \nATOM   1120    H MOL     1      -0.714  -5.595  12.356  1.00  0.00           H  \nATOM   1121    H MOL     1      -3.111  -5.580  12.167  1.00  0.00           H  \nATOM   1122    H MOL     1      -2.804  -4.064  12.944  1.00  0.00           H  \nATOM   1123    H MOL     1      -2.039  -2.212  10.842  1.00  0.00           H  \nATOM   1124    H MOL     1      -3.692  -2.306   9.955  1.00  0.00           H  \nATOM   1125    H MOL     1      -4.667  -2.052  12.515  1.00  0.00           H  \nATOM   1126    H MOL     1      -3.058  -1.610  13.014  1.00  0.00           H  \nATOM   1127    H MOL     1      -4.412   1.447  11.148  1.00  0.00           H  \nATOM   1128    H MOL     1      -4.971   0.135  10.206  1.00  0.00           H  \nATOM   1129    H MOL     1      -6.260  -0.856  11.711  1.00  0.00           H  \nATOM   1130    H MOL     1      -6.497   0.481  12.768  1.00  0.00           H  \nATOM   1131    H MOL     1      -8.226   1.778  12.537  1.00  0.00           H  \nATOM   1132    H MOL     1      -8.825   2.117  10.758  1.00  0.00           H  \nATOM   1133    H MOL     1     -10.281   0.653  11.860  1.00  0.00           H  \nATOM   1134    H MOL     1      -9.446  -0.131  10.525  1.00  0.00           H  \nATOM   1135    H MOL     1      -9.876  -1.873  14.028  1.00  0.00           H  \nATOM   1136    H MOL     1     -10.979  -0.742  13.169  1.00  0.00           H  \nATOM   1137    H MOL     1      -9.661  -3.396  11.989  1.00  0.00           H  \nATOM   1138    H MOL     1     -10.464  -2.322  10.881  1.00  0.00           H  \nATOM   1139    H MOL     1     -12.242  -3.427  10.318  1.00  0.00           H  \nATOM   1140    H MOL     1     -13.057  -2.078  11.359  1.00  0.00           H  \nATOM   1141    H MOL     1     -13.097  -5.047  12.075  1.00  0.00           H  \nATOM   1142    H MOL     1     -14.370  -3.843  12.629  1.00  0.00           H  \nATOM   1143    H MOL     1     -16.485  -5.422  10.585  1.00  0.00           H  \nATOM   1144    H MOL     1     -15.833  -5.060  12.238  1.00  0.00           H  \nATOM   1145    H MOL     1     -14.251  -6.912  11.921  1.00  0.00           H  \nATOM   1146    H MOL     1     -14.508  -6.873  10.113  1.00  0.00           H  \nATOM   1147    H MOL     1     -14.994  -8.979  12.643  1.00  0.00           H  \nATOM   1148    H MOL     1     -16.195  -7.929  13.638  1.00  0.00           H  \nATOM   1149    H MOL     1     -17.361  -9.935  11.601  1.00  0.00           H  \nATOM   1150    H MOL     1     -16.640 -10.463  13.016  1.00  0.00           H  \nATOM   1151    H MOL     1     -19.130  -7.493  12.705  1.00  0.00           H  \nATOM   1152    H MOL     1     -20.029  -8.569  13.805  1.00  0.00           H  \nATOM   1153    H MOL     1     -21.090  -8.803  11.556  1.00  0.00           H  \nATOM   1154    H MOL     1     -19.579  -9.069  10.822  1.00  0.00           H  \nATOM   1155    H MOL     1     -21.398 -10.725  10.164  1.00  0.00           H  \nATOM   1156    H MOL     1     -22.272 -10.661  11.730  1.00  0.00           H  \nATOM   1157    H MOL     1     -22.509 -12.966  10.839  1.00  0.00           H  \nATOM   1158    H MOL     1     -21.358 -13.176  12.145  1.00  0.00           H  \nATOM   1159    H MOL     1     -19.253 -12.526  11.898  1.00  0.00           H  \nATOM   1160    H MOL     1     -19.714 -14.243  11.871  1.00  0.00           H  \nATOM   1161    H MOL     1     -17.974 -14.644  10.218  1.00  0.00           H  \nATOM   1162    H MOL     1     -17.806 -12.730   9.969  1.00  0.00           H  \nATOM   1163    H MOL     1     -15.428 -13.967  10.358  1.00  0.00           H  \nATOM   1164    H MOL     1     -15.941 -15.546  10.927  1.00  0.00           H  \nATOM   1165    H MOL     1     -14.776 -13.711  13.115  1.00  0.00           H  \nATOM   1166    H MOL     1     -13.899 -14.950  11.992  1.00  0.00           H  \nATOM   1167    H MOL     1     -16.156 -14.540  14.725  1.00  0.00           H  \nATOM   1168    H MOL     1     -16.442 -16.282  14.783  1.00  0.00           H  \nATOM   1169    H MOL     1     -13.742 -15.006  16.008  1.00  0.00           H  \nATOM   1170    H MOL     1     -15.072 -16.026  16.650  1.00  0.00           H  \nATOM   1171    O MOL     1     -13.795 -17.051  15.356  1.00  0.00           O  \nATOM   1172    C MOL     1     -14.491 -18.220  15.483  1.00  0.00           C  \nATOM   1173    C MOL     1     -14.094 -19.030  16.866  1.00  0.00           C  \nATOM   1174    O MOL     1     -13.762 -20.361  16.515  1.00  0.00           O  \nATOM   1175    C MOL     1     -14.849 -21.350  16.314  1.00  0.00           C  \nATOM   1176    C MOL     1     -14.338 -22.598  15.621  1.00  0.00           C  \nATOM   1177    O MOL     1     -13.105 -23.166  16.240  1.00  0.00           O  \nATOM   1178    C MOL     1     -11.987 -23.450  15.418  1.00  0.00           C  \nATOM   1179    C MOL     1     -11.221 -24.639  16.054  1.00  0.00           C  \nATOM   1180    O MOL     1      -9.927 -24.326  15.592  1.00  0.00           O  \nATOM   1181    C MOL     1      -8.773 -24.879  16.198  1.00  0.00           C  \nATOM   1182    C MOL     1      -7.654 -24.509  15.180  1.00  0.00           C  \nATOM   1183    O MOL     1      -7.342 -25.696  14.287  1.00  0.00           O  \nATOM   1184    C MOL     1      -6.172 -26.437  14.724  1.00  0.00           C  \nATOM   1185    C MOL     1      -5.985 -27.875  14.056  1.00  0.00           C  \nATOM   1186    O MOL     1      -6.230 -27.590  12.650  1.00  0.00           O  \nATOM   1187    C MOL     1      -6.950 -28.654  12.011  1.00  0.00           C  \nATOM   1188    C MOL     1      -6.002 -29.440  11.165  1.00  0.00           C  \nATOM   1189    O MOL     1      -5.197 -30.297  11.907  1.00  0.00           O  \nATOM   1190    C MOL     1      -4.653 -31.355  11.093  1.00  0.00           C  \nATOM   1191    C MOL     1      -4.356 -32.461  12.015  1.00  0.00           C  \nATOM   1192    O MOL     1      -3.302 -32.069  12.892  1.00  0.00           O  \nATOM   1193    C MOL     1      -3.542 -32.189  14.311  1.00  0.00           C  \nATOM   1194    C MOL     1      -3.304 -33.607  14.758  1.00  0.00           C  \nATOM   1195    O MOL     1      -2.034 -33.881  15.411  1.00  0.00           O  \nATOM   1196    C MOL     1      -2.313 -34.152  16.788  1.00  0.00           C  \nATOM   1197    C MOL     1      -2.617 -35.624  17.058  1.00  0.00           C  \nATOM   1198    O MOL     1      -1.660 -36.581  16.477  1.00  0.00           O  \nATOM   1199    C MOL     1      -2.106 -37.592  15.706  1.00  0.00           C  \nATOM   1200    C MOL     1      -2.611 -37.200  14.262  1.00  0.00           C  \nATOM   1201    O MOL     1      -1.721 -36.408  13.549  1.00  0.00           O  \nATOM   1202    C MOL     1      -1.720 -36.738  12.199  1.00  0.00           C  \nATOM   1203    C MOL     1      -0.495 -36.521  11.409  1.00  0.00           C  \nATOM   1204    O MOL     1      -0.360 -35.221  10.761  1.00  0.00           O  \nATOM   1205    C MOL     1      -0.395 -33.895  11.498  1.00  0.00           C  \nATOM   1206    C MOL     1       1.094 -33.681  11.904  1.00  0.00           C  \nATOM   1207    O MOL     1       1.435 -32.472  12.521  1.00  0.00           O  \nATOM   1208    C MOL     1       0.396 -32.132  13.517  1.00  0.00           C  \nATOM   1209    C MOL     1       0.880 -31.009  14.378  1.00  0.00           C  \nATOM   1210    O MOL     1       1.874 -31.488  15.365  1.00  0.00           O  \nATOM   1211    C MOL     1       1.313 -31.776  16.566  1.00  0.00           C  \nATOM   1212    C MOL     1       2.460 -31.950  17.518  1.00  0.00           C  \nATOM   1213    O MOL     1       2.343 -33.215  18.243  1.00  0.00           O  \nATOM   1214    C MOL     1       1.316 -33.329  19.255  1.00  0.00           C  \nATOM   1215    C MOL     1       1.721 -32.590  20.438  1.00  0.00           C  \nATOM   1216    H MOL     1     -15.600 -18.291  15.271  1.00  0.00           H  \nATOM   1217    H MOL     1     -14.085 -18.868  14.751  1.00  0.00           H  \nATOM   1218    H MOL     1     -13.166 -18.469  17.266  1.00  0.00           H  \nATOM   1219    H MOL     1     -14.876 -18.995  17.561  1.00  0.00           H  \nATOM   1220    H MOL     1     -15.686 -20.825  15.884  1.00  0.00           H  \nATOM   1221    H MOL     1     -15.200 -21.830  17.249  1.00  0.00           H  \nATOM   1222    H MOL     1     -15.120 -23.363  15.590  1.00  0.00           H  \nATOM   1223    H MOL     1     -14.143 -22.331  14.565  1.00  0.00           H  \nATOM   1224    H MOL     1     -12.364 -23.712  14.426  1.00  0.00           H  \nATOM   1225    H MOL     1     -11.321 -22.536  15.603  1.00  0.00           H  \nATOM   1226    H MOL     1     -11.315 -24.557  17.119  1.00  0.00           H  \nATOM   1227    H MOL     1     -11.672 -25.607  15.601  1.00  0.00           H  \nATOM   1228    H MOL     1      -8.657 -24.186  17.083  1.00  0.00           H  \nATOM   1229    H MOL     1      -8.860 -25.926  16.261  1.00  0.00           H  \nATOM   1230    H MOL     1      -8.125 -23.729  14.591  1.00  0.00           H  \nATOM   1231    H MOL     1      -6.800 -24.260  15.714  1.00  0.00           H  \nATOM   1232    H MOL     1      -5.234 -25.825  14.365  1.00  0.00           H  \nATOM   1233    H MOL     1      -6.114 -26.685  15.795  1.00  0.00           H  \nATOM   1234    H MOL     1      -4.939 -28.098  14.249  1.00  0.00           H  \nATOM   1235    H MOL     1      -6.644 -28.577  14.428  1.00  0.00           H  \nATOM   1236    H MOL     1      -7.535 -29.321  12.614  1.00  0.00           H  \nATOM   1237    H MOL     1      -7.623 -28.121  11.291  1.00  0.00           H  \nATOM   1238    H MOL     1      -6.518 -30.083  10.356  1.00  0.00           H  \nATOM   1239    H MOL     1      -5.448 -28.635  10.476  1.00  0.00           H  \nATOM   1240    H MOL     1      -5.200 -31.804  10.256  1.00  0.00           H  \nATOM   1241    H MOL     1      -3.688 -31.061  10.687  1.00  0.00           H  \nATOM   1242    H MOL     1      -4.123 -33.338  11.346  1.00  0.00           H  \nATOM   1243    H MOL     1      -5.341 -32.667  12.617  1.00  0.00           H  \nATOM   1244    H MOL     1      -4.455 -31.780  14.659  1.00  0.00           H  \nATOM   1245    H MOL     1      -2.720 -31.687  14.703  1.00  0.00           H  \nATOM   1246    H MOL     1      -4.203 -33.957  15.412  1.00  0.00           H  \nATOM   1247    H MOL     1      -3.343 -34.265  13.932  1.00  0.00           H  \nATOM   1248    H MOL     1      -3.266 -33.543  17.161  1.00  0.00           H  \nATOM   1249    H MOL     1      -1.470 -33.893  17.414  1.00  0.00           H  \nATOM   1250    H MOL     1      -3.619 -35.737  16.701  1.00  0.00           H  \nATOM   1251    H MOL     1      -2.681 -35.941  18.129  1.00  0.00           H  \nATOM   1252    H MOL     1      -1.183 -38.269  15.540  1.00  0.00           H  \nATOM   1253    H MOL     1      -2.881 -38.215  16.253  1.00  0.00           H  \nATOM   1254    H MOL     1      -2.925 -38.120  13.812  1.00  0.00           H  \nATOM   1255    H MOL     1      -3.632 -36.733  14.462  1.00  0.00           H  \nATOM   1256    H MOL     1      -2.472 -36.219  11.633  1.00  0.00           H  \nATOM   1257    H MOL     1      -1.860 -37.831  11.982  1.00  0.00           H  \nATOM   1258    H MOL     1       0.484 -36.820  11.719  1.00  0.00           H  \nATOM   1259    H MOL     1      -0.778 -37.243  10.538  1.00  0.00           H  \nATOM   1260    H MOL     1      -1.131 -33.895  12.366  1.00  0.00           H  \nATOM   1261    H MOL     1      -0.670 -33.234  10.699  1.00  0.00           H  \nATOM   1262    H MOL     1       1.784 -33.747  11.055  1.00  0.00           H  \nATOM   1263    H MOL     1       1.474 -34.518  12.511  1.00  0.00           H  \nATOM   1264    H MOL     1      -0.524 -31.874  12.988  1.00  0.00           H  \nATOM   1265    H MOL     1       0.287 -33.015  14.207  1.00  0.00           H  \nATOM   1266    H MOL     1       1.476 -30.402  13.736  1.00  0.00           H  \nATOM   1267    H MOL     1       0.003 -30.489  14.856  1.00  0.00           H  \nATOM   1268    H MOL     1       0.826 -32.758  16.593  1.00  0.00           H  \nATOM   1269    H MOL     1       0.513 -31.101  16.874  1.00  0.00           H  \nATOM   1270    H MOL     1       2.457 -31.169  18.296  1.00  0.00           H  \nATOM   1271    H MOL     1       3.408 -31.916  16.951  1.00  0.00           H  \nATOM   1272    H MOL     1       0.392 -32.825  18.954  1.00  0.00           H  \nATOM   1273    H MOL     1       1.356 -34.503  19.341  1.00  0.00           H  \nATOM   1274    H MOL     1       2.192 -33.304  21.174  1.00  0.00           H  \nATOM   1275    H MOL     1       2.619 -31.891  20.247  1.00  0.00           H  \nATOM   1276    H MOL     1       0.966 -32.002  20.948  1.00  0.00           H  \nATOM   1277    O MOL     1      14.540   1.770  18.568  1.00  0.00           O  \nATOM   1278    C MOL     1      14.258   2.576  17.341  1.00  0.00           C  \nATOM   1279    C MOL     1      13.891   1.637  16.084  1.00  0.00           C  \nATOM   1280    O MOL     1      12.617   1.117  16.229  1.00  0.00           O  \nATOM   1281    C MOL     1      11.630   1.924  15.457  1.00  0.00           C  \nATOM   1282    C MOL     1      10.317   1.681  16.089  1.00  0.00           C  \nATOM   1283    O MOL     1       9.846   0.313  15.943  1.00  0.00           O  \nATOM   1284    C MOL     1       8.693   0.247  16.707  1.00  0.00           C  \nATOM   1285    C MOL     1       8.333  -1.170  17.037  1.00  0.00           C  \nATOM   1286    O MOL     1       8.561  -1.655  18.331  1.00  0.00           O  \nATOM   1287    C MOL     1       9.972  -1.629  18.723  1.00  0.00           C  \nATOM   1288    C MOL     1      10.265  -0.338  19.551  1.00  0.00           C  \nATOM   1289    O MOL     1      11.693  -0.291  19.977  1.00  0.00           O  \nATOM   1290    C MOL     1      11.949   0.953  20.522  1.00  0.00           C  \nATOM   1291    C MOL     1      12.659   0.680  21.871  1.00  0.00           C  \nATOM   1292    O MOL     1      13.404   1.751  22.507  1.00  0.00           O  \nATOM   1293    C MOL     1      14.486   1.267  23.411  1.00  0.00           C  \nATOM   1294    C MOL     1      15.052   2.546  24.079  1.00  0.00           C  \nATOM   1295    O MOL     1      15.368   3.409  23.012  1.00  0.00           O  \nATOM   1296    C MOL     1      14.679   4.616  23.025  1.00  0.00           C  \nATOM   1297    C MOL     1      14.373   5.100  21.569  1.00  0.00           C  \nATOM   1298    O MOL     1      13.196   5.884  21.407  1.00  0.00           O  \nATOM   1299    C MOL     1      12.048   5.008  21.170  1.00  0.00           C  \nATOM   1300    C MOL     1      12.123   4.472  19.777  1.00  0.00           C  \nATOM   1301    O MOL     1      11.688   5.443  18.810  1.00  0.00           O  \nATOM   1302    C MOL     1      12.599   6.419  18.372  1.00  0.00           C  \nATOM   1303    C MOL     1      12.996   6.244  16.833  1.00  0.00           C  \nATOM   1304    O MOL     1      14.381   6.109  16.570  1.00  0.00           O  \nATOM   1305    C MOL     1      15.143   7.253  16.243  1.00  0.00           C  \nATOM   1306    C MOL     1      15.186   8.357  17.315  1.00  0.00           C  \nATOM   1307    O MOL     1      15.931   7.920  18.529  1.00  0.00           O  \nATOM   1308    C MOL     1      17.219   7.525  18.326  1.00  0.00           C  \nATOM   1309    C MOL     1      17.953   7.946  19.670  1.00  0.00           C  \nATOM   1310    O MOL     1      19.333   8.081  19.678  1.00  0.00           O  \nATOM   1311    C MOL     1      19.817   9.224  18.934  1.00  0.00           C  \nATOM   1312    C MOL     1      20.962   9.962  19.771  1.00  0.00           C  \nATOM   1313    O MOL     1      21.436  11.009  18.960  1.00  0.00           O  \nATOM   1314    C MOL     1      22.858  10.931  18.522  1.00  0.00           C  \nATOM   1315    C MOL     1      23.135  12.292  17.797  1.00  0.00           C  \nATOM   1316    O MOL     1      23.658  12.265  16.410  1.00  0.00           O  \nATOM   1317    C MOL     1      22.557  12.313  15.485  1.00  0.00           C  \nATOM   1318    C MOL     1      22.328  13.756  15.183  1.00  0.00           C  \nATOM   1319    O MOL     1      23.294  14.464  14.497  1.00  0.00           O  \nATOM   1320    C MOL     1      24.613  14.575  15.074  1.00  0.00           C  \nATOM   1321    C MOL     1      25.554  15.128  14.017  1.00  0.00           C  \nATOM   1322    H MOL     1      14.397   0.873  18.201  1.00  0.00           H  \nATOM   1323    H MOL     1      13.280   3.118  17.496  1.00  0.00           H  \nATOM   1324    H MOL     1      15.027   3.337  17.170  1.00  0.00           H  \nATOM   1325    H MOL     1      14.125   2.181  15.147  1.00  0.00           H  \nATOM   1326    H MOL     1      14.510   0.692  16.049  1.00  0.00           H  \nATOM   1327    H MOL     1      11.681   1.736  14.420  1.00  0.00           H  \nATOM   1328    H MOL     1      11.852   2.969  15.621  1.00  0.00           H  \nATOM   1329    H MOL     1      10.278   1.983  17.174  1.00  0.00           H  \nATOM   1330    H MOL     1       9.583   2.298  15.548  1.00  0.00           H  \nATOM   1331    H MOL     1       8.773   0.771  17.709  1.00  0.00           H  \nATOM   1332    H MOL     1       7.867   0.688  16.239  1.00  0.00           H  \nATOM   1333    H MOL     1       7.192  -1.262  16.794  1.00  0.00           H  \nATOM   1334    H MOL     1       8.954  -1.847  16.456  1.00  0.00           H  \nATOM   1335    H MOL     1      10.113  -2.482  19.377  1.00  0.00           H  \nATOM   1336    H MOL     1      10.595  -1.431  17.788  1.00  0.00           H  \nATOM   1337    H MOL     1      10.045   0.665  19.034  1.00  0.00           H  \nATOM   1338    H MOL     1       9.593  -0.471  20.536  1.00  0.00           H  \nATOM   1339    H MOL     1      12.708   1.561  19.946  1.00  0.00           H  \nATOM   1340    H MOL     1      10.993   1.462  20.466  1.00  0.00           H  \nATOM   1341    H MOL     1      12.106   0.027  22.590  1.00  0.00           H  \nATOM   1342    H MOL     1      13.415  -0.156  21.480  1.00  0.00           H  \nATOM   1343    H MOL     1      14.040   0.509  24.095  1.00  0.00           H  \nATOM   1344    H MOL     1      15.299   0.917  22.683  1.00  0.00           H  \nATOM   1345    H MOL     1      14.346   2.963  24.736  1.00  0.00           H  \nATOM   1346    H MOL     1      15.949   2.393  24.673  1.00  0.00           H  \nATOM   1347    H MOL     1      13.797   4.504  23.686  1.00  0.00           H  \nATOM   1348    H MOL     1      15.375   5.347  23.423  1.00  0.00           H  \nATOM   1349    H MOL     1      14.289   4.219  20.893  1.00  0.00           H  \nATOM   1350    H MOL     1      15.158   5.862  21.180  1.00  0.00           H  \nATOM   1351    H MOL     1      11.073   5.533  21.418  1.00  0.00           H  \nATOM   1352    H MOL     1      12.186   4.153  21.804  1.00  0.00           H  \nATOM   1353    H MOL     1      13.178   4.019  19.570  1.00  0.00           H  \nATOM   1354    H MOL     1      11.429   3.671  19.532  1.00  0.00           H  \nATOM   1355    H MOL     1      13.484   6.538  18.937  1.00  0.00           H  \nATOM   1356    H MOL     1      12.092   7.466  18.549  1.00  0.00           H  \nATOM   1357    H MOL     1      12.617   7.030  16.173  1.00  0.00           H  \nATOM   1358    H MOL     1      12.533   5.297  16.446  1.00  0.00           H  \nATOM   1359    H MOL     1      16.190   6.967  15.948  1.00  0.00           H  \nATOM   1360    H MOL     1      14.764   7.689  15.313  1.00  0.00           H  \nATOM   1361    H MOL     1      15.828   9.192  17.026  1.00  0.00           H  \nATOM   1362    H MOL     1      14.272   8.632  17.685  1.00  0.00           H  \nATOM   1363    H MOL     1      17.738   7.673  17.384  1.00  0.00           H  \nATOM   1364    H MOL     1      17.177   6.392  18.229  1.00  0.00           H  \nATOM   1365    H MOL     1      17.435   8.862  19.997  1.00  0.00           H  \nATOM   1366    H MOL     1      17.740   7.148  20.395  1.00  0.00           H  \nATOM   1367    H MOL     1      18.940   9.932  18.936  1.00  0.00           H  \nATOM   1368    H MOL     1      20.132   8.789  17.905  1.00  0.00           H  \nATOM   1369    H MOL     1      21.773   9.241  20.030  1.00  0.00           H  \nATOM   1370    H MOL     1      20.425  10.503  20.556  1.00  0.00           H  \nATOM   1371    H MOL     1      23.376  10.847  19.520  1.00  0.00           H  \nATOM   1372    H MOL     1      22.980  10.033  17.894  1.00  0.00           H  \nATOM   1373    H MOL     1      22.237  12.865  17.803  1.00  0.00           H  \nATOM   1374    H MOL     1      23.890  12.840  18.346  1.00  0.00           H  \nATOM   1375    H MOL     1      21.697  11.657  15.849  1.00  0.00           H  \nATOM   1376    H MOL     1      22.963  11.657  14.634  1.00  0.00           H  \nATOM   1377    H MOL     1      21.978  14.174  16.156  1.00  0.00           H  \nATOM   1378    H MOL     1      21.468  13.827  14.474  1.00  0.00           H  \nATOM   1379    H MOL     1      24.522  15.368  15.863  1.00  0.00           H  \nATOM   1380    H MOL     1      24.824  13.666  15.610  1.00  0.00           H  \nATOM   1381    H MOL     1      24.983  15.745  13.303  1.00  0.00           H  \nATOM   1382    H MOL     1      26.374  15.489  14.597  1.00  0.00           H  \nATOM   1383    O MOL     1      25.840  13.891  13.076  1.00  0.00           O  \nATOM   1384    C MOL     1      25.541  14.073  11.768  1.00  0.00           C  \nATOM   1385    C MOL     1      25.049  12.782  11.150  1.00  0.00           C  \nATOM   1386    O MOL     1      23.654  12.808  10.416  1.00  0.00           O  \nATOM   1387    C MOL     1      22.456  12.428  11.240  1.00  0.00           C  \nATOM   1388    C MOL     1      22.360  10.948  11.396  1.00  0.00           C  \nATOM   1389    O MOL     1      23.557  10.341  11.779  1.00  0.00           O  \nATOM   1390    C MOL     1      23.447   8.976  12.041  1.00  0.00           C  \nATOM   1391    C MOL     1      23.579   8.014  10.912  1.00  0.00           C  \nATOM   1392    O MOL     1      24.895   7.765  10.364  1.00  0.00           O  \nATOM   1393    C MOL     1      25.816   6.844  11.138  1.00  0.00           C  \nATOM   1394    C MOL     1      27.132   7.619  11.464  1.00  0.00           C  \nATOM   1395    O MOL     1      26.873   8.642  12.360  1.00  0.00           O  \nATOM   1396    C MOL     1      26.766  10.095  11.808  1.00  0.00           C  \nATOM   1397    C MOL     1      28.223  10.682  11.660  1.00  0.00           C  \nATOM   1398    O MOL     1      28.714  11.076  12.903  1.00  0.00           O  \nATOM   1399    C MOL     1      28.865  10.124  13.925  1.00  0.00           C  \nATOM   1400    C MOL     1      29.817  10.826  14.940  1.00  0.00           C  \nATOM   1401    O MOL     1      30.545   9.954  15.788  1.00  0.00           O  \nATOM   1402    C MOL     1      29.599   9.118  16.551  1.00  0.00           C  \nATOM   1403    C MOL     1      28.752   9.866  17.557  1.00  0.00           C  \nATOM   1404    O MOL     1      27.629  10.436  16.943  1.00  0.00           O  \nATOM   1405    C MOL     1      26.777  11.125  17.724  1.00  0.00           C  \nATOM   1406    C MOL     1      27.154  12.564  17.695  1.00  0.00           C  \nATOM   1407    O MOL     1      26.174  13.329  18.637  1.00  0.00           O  \nATOM   1408    C MOL     1      26.709  14.693  18.581  1.00  0.00           C  \nATOM   1409    C MOL     1      28.204  14.793  19.394  1.00  0.00           C  \nATOM   1410    O MOL     1      28.126  16.019  20.008  1.00  0.00           O  \nATOM   1411    C MOL     1      28.925  16.130  21.178  1.00  0.00           C  \nATOM   1412    C MOL     1      30.367  16.013  20.700  1.00  0.00           C  \nATOM   1413    O MOL     1      31.333  16.516  21.612  1.00  0.00           O  \nATOM   1414    C MOL     1      31.886  17.850  21.239  1.00  0.00           C  \nATOM   1415    C MOL     1      30.955  19.045  21.693  1.00  0.00           C  \nATOM   1416    O MOL     1      29.863  19.447  20.881  1.00  0.00           O  \nATOM   1417    C MOL     1      30.210  20.223  19.704  1.00  0.00           C  \nATOM   1418    C MOL     1      30.291  21.677  20.001  1.00  0.00           C  \nATOM   1419    O MOL     1      31.163  22.467  19.171  1.00  0.00           O  \nATOM   1420    C MOL     1      32.585  22.336  19.418  1.00  0.00           C  \nATOM   1421    C MOL     1      33.148  22.770  18.015  1.00  0.00           C  \nATOM   1422    O MOL     1      34.515  23.143  17.909  1.00  0.00           O  \nATOM   1423    C MOL     1      34.858  24.369  18.630  1.00  0.00           C  \nATOM   1424    C MOL     1      36.180  24.746  18.141  1.00  0.00           C  \nATOM   1425    O MOL     1      35.929  25.369  16.875  1.00  0.00           O  \nATOM   1426    C MOL     1      37.036  26.160  16.454  1.00  0.00           C  \nATOM   1427    C MOL     1      36.654  27.273  15.603  1.00  0.00           C  \nATOM   1428    H MOL     1      24.787  14.928  11.607  1.00  0.00           H  \nATOM   1429    H MOL     1      26.380  14.502  11.238  1.00  0.00           H  \nATOM   1430    H MOL     1      25.697  12.390  10.342  1.00  0.00           H  \nATOM   1431    H MOL     1      25.160  12.029  11.949  1.00  0.00           H  \nATOM   1432    H MOL     1      21.744  12.949  10.654  1.00  0.00           H  \nATOM   1433    H MOL     1      22.558  12.817  12.318  1.00  0.00           H  \nATOM   1434    H MOL     1      21.472  10.712  12.051  1.00  0.00           H  \nATOM   1435    H MOL     1      22.126  10.571  10.271  1.00  0.00           H  \nATOM   1436    H MOL     1      24.309   8.671  12.590  1.00  0.00           H  \nATOM   1437    H MOL     1      22.503   8.729  12.517  1.00  0.00           H  \nATOM   1438    H MOL     1      23.307   7.059  11.287  1.00  0.00           H  \nATOM   1439    H MOL     1      22.946   8.149   9.928  1.00  0.00           H  \nATOM   1440    H MOL     1      25.319   6.591  12.088  1.00  0.00           H  \nATOM   1441    H MOL     1      26.192   5.997  10.530  1.00  0.00           H  \nATOM   1442    H MOL     1      27.757   6.796  11.844  1.00  0.00           H  \nATOM   1443    H MOL     1      27.596   8.069  10.599  1.00  0.00           H  \nATOM   1444    H MOL     1      26.380  10.234  10.774  1.00  0.00           H  \nATOM   1445    H MOL     1      26.190  10.673  12.563  1.00  0.00           H  \nATOM   1446    H MOL     1      28.835  10.024  11.047  1.00  0.00           H  \nATOM   1447    H MOL     1      28.376  11.644  11.054  1.00  0.00           H  \nATOM   1448    H MOL     1      27.925   9.764  14.447  1.00  0.00           H  \nATOM   1449    H MOL     1      29.554   9.294  13.662  1.00  0.00           H  \nATOM   1450    H MOL     1      30.590  11.133  14.217  1.00  0.00           H  \nATOM   1451    H MOL     1      29.279  11.607  15.594  1.00  0.00           H  \nATOM   1452    H MOL     1      28.952   8.478  15.926  1.00  0.00           H  \nATOM   1453    H MOL     1      30.234   8.414  17.180  1.00  0.00           H  \nATOM   1454    H MOL     1      29.350  10.537  18.193  1.00  0.00           H  \nATOM   1455    H MOL     1      28.462   9.080  18.279  1.00  0.00           H  \nATOM   1456    H MOL     1      26.552  10.706  18.741  1.00  0.00           H  \nATOM   1457    H MOL     1      25.800  11.102  17.173  1.00  0.00           H  \nATOM   1458    H MOL     1      28.174  12.750  18.038  1.00  0.00           H  \nATOM   1459    H MOL     1      26.939  13.095  16.760  1.00  0.00           H  \nATOM   1460    H MOL     1      25.998  15.286  19.030  1.00  0.00           H  \nATOM   1461    H MOL     1      26.906  14.938  17.527  1.00  0.00           H  \nATOM   1462    H MOL     1      28.854  14.752  18.548  1.00  0.00           H  \nATOM   1463    H MOL     1      28.534  13.978  20.203  1.00  0.00           H  \nATOM   1464    H MOL     1      28.722  17.235  21.486  1.00  0.00           H  \nATOM   1465    H MOL     1      28.598  15.458  21.842  1.00  0.00           H  \nATOM   1466    H MOL     1      30.667  14.989  20.428  1.00  0.00           H  \nATOM   1467    H MOL     1      30.653  16.447  19.717  1.00  0.00           H  \nATOM   1468    H MOL     1      32.095  17.766  20.172  1.00  0.00           H  \nATOM   1469    H MOL     1      32.813  17.842  21.783  1.00  0.00           H  \nATOM   1470    H MOL     1      30.741  18.760  22.748  1.00  0.00           H  \nATOM   1471    H MOL     1      31.605  19.939  21.806  1.00  0.00           H  \nATOM   1472    H MOL     1      29.445  20.015  19.060  1.00  0.00           H  \nATOM   1473    H MOL     1      31.230  19.832  19.305  1.00  0.00           H  \nATOM   1474    H MOL     1      30.616  21.988  21.047  1.00  0.00           H  \nATOM   1475    H MOL     1      29.216  22.090  19.853  1.00  0.00           H  \nATOM   1476    H MOL     1      32.998  23.137  20.152  1.00  0.00           H  \nATOM   1477    H MOL     1      32.762  21.278  19.621  1.00  0.00           H  \nATOM   1478    H MOL     1      33.095  21.899  17.387  1.00  0.00           H  \nATOM   1479    H MOL     1      32.508  23.562  17.539  1.00  0.00           H  \nATOM   1480    H MOL     1      35.056  23.963  19.631  1.00  0.00           H  \nATOM   1481    H MOL     1      33.995  25.045  18.526  1.00  0.00           H  \nATOM   1482    H MOL     1      36.836  23.819  18.062  1.00  0.00           H  \nATOM   1483    H MOL     1      36.717  25.416  18.863  1.00  0.00           H  \nATOM   1484    H MOL     1      37.626  26.536  17.386  1.00  0.00           H  \nATOM   1485    H MOL     1      37.774  25.606  15.985  1.00  0.00           H  \nATOM   1486    H MOL     1      36.286  27.115  14.539  1.00  0.00           H  \nATOM   1487    H MOL     1      35.821  27.799  16.083  1.00  0.00           H  \nATOM   1488    H MOL     1      37.632  27.904  15.495  1.00  0.00           H  \nATOM   1489    O MOL     1      16.643   6.765  52.572  1.00  0.00           O  \nATOM   1490    C MOL     1      17.998   7.149  52.331  1.00  0.00           C  \nATOM   1491    C MOL     1      18.937   6.167  52.888  1.00  0.00           C  \nATOM   1492    O MOL     1      18.592   6.336  54.281  1.00  0.00           O  \nATOM   1493    C MOL     1      19.716   6.549  55.066  1.00  0.00           C  \nATOM   1494    C MOL     1      20.268   8.067  55.084  1.00  0.00           C  \nATOM   1495    O MOL     1      21.396   8.101  55.955  1.00  0.00           O  \nATOM   1496    C MOL     1      22.755   8.375  55.601  1.00  0.00           C  \nATOM   1497    C MOL     1      22.938   9.548  54.724  1.00  0.00           C  \nATOM   1498    O MOL     1      22.533  10.719  55.541  1.00  0.00           O  \nATOM   1499    C MOL     1      22.187  11.765  54.602  1.00  0.00           C  \nATOM   1500    C MOL     1      21.459  12.781  55.458  1.00  0.00           C  \nATOM   1501    O MOL     1      21.514  14.045  54.902  1.00  0.00           O  \nATOM   1502    C MOL     1      20.768  15.159  55.448  1.00  0.00           C  \nATOM   1503    C MOL     1      19.537  15.372  54.729  1.00  0.00           C  \nATOM   1504    O MOL     1      18.431  15.245  55.584  1.00  0.00           O  \nATOM   1505    C MOL     1      17.253  15.278  54.811  1.00  0.00           C  \nATOM   1506    C MOL     1      16.277  14.105  54.947  1.00  0.00           C  \nATOM   1507    O MOL     1      16.671  12.920  54.423  1.00  0.00           O  \nATOM   1508    C MOL     1      17.308  12.072  55.346  1.00  0.00           C  \nATOM   1509    C MOL     1      17.557  10.718  54.794  1.00  0.00           C  \nATOM   1510    O MOL     1      16.246  10.257  54.365  1.00  0.00           O  \nATOM   1511    C MOL     1      15.672   9.028  55.128  1.00  0.00           C  \nATOM   1512    C MOL     1      14.385   9.421  55.771  1.00  0.00           C  \nATOM   1513    O MOL     1      13.427   9.730  54.637  1.00  0.00           O  \nATOM   1514    C MOL     1      12.100   9.714  55.103  1.00  0.00           C  \nATOM   1515    C MOL     1      11.418  11.009  55.341  1.00  0.00           C  \nATOM   1516    O MOL     1      12.063  11.964  56.247  1.00  0.00           O  \nATOM   1517    C MOL     1      12.955  12.993  55.542  1.00  0.00           C  \nATOM   1518    C MOL     1      12.244  14.277  55.112  1.00  0.00           C  \nATOM   1519    O MOL     1      13.052  15.024  54.124  1.00  0.00           O  \nATOM   1520    C MOL     1      13.508  16.351  54.422  1.00  0.00           C  \nATOM   1521    C MOL     1      12.386  17.274  54.234  1.00  0.00           C  \nATOM   1522    O MOL     1      12.937  18.577  54.332  1.00  0.00           O  \nATOM   1523    C MOL     1      12.853  19.264  55.523  1.00  0.00           C  \nATOM   1524    C MOL     1      13.304  20.694  55.463  1.00  0.00           C  \nATOM   1525    O MOL     1      14.719  20.730  55.744  1.00  0.00           O  \nATOM   1526    C MOL     1      15.232  22.090  55.501  1.00  0.00           C  \nATOM   1527    C MOL     1      16.816  22.061  55.636  1.00  0.00           C  \nATOM   1528    O MOL     1      17.450  21.099  54.881  1.00  0.00           O  \nATOM   1529    C MOL     1      17.389  19.717  55.304  1.00  0.00           C  \nATOM   1530    C MOL     1      18.714  19.044  55.246  1.00  0.00           C  \nATOM   1531    O MOL     1      19.734  19.684  56.098  1.00  0.00           O  \nATOM   1532    C MOL     1      20.886  20.264  55.343  1.00  0.00           C  \nATOM   1533    C MOL     1      22.024  19.194  55.034  1.00  0.00           C  \nATOM   1534    H MOL     1      16.333   6.336  51.753  1.00  0.00           H  \nATOM   1535    H MOL     1      18.234   7.335  51.282  1.00  0.00           H  \nATOM   1536    H MOL     1      18.106   8.148  52.819  1.00  0.00           H  \nATOM   1537    H MOL     1      18.604   5.225  52.441  1.00  0.00           H  \nATOM   1538    H MOL     1      19.955   6.378  52.729  1.00  0.00           H  \nATOM   1539    H MOL     1      20.495   5.935  54.790  1.00  0.00           H  \nATOM   1540    H MOL     1      19.399   6.217  56.137  1.00  0.00           H  \nATOM   1541    H MOL     1      20.551   8.301  54.018  1.00  0.00           H  \nATOM   1542    H MOL     1      19.488   8.847  55.507  1.00  0.00           H  \nATOM   1543    H MOL     1      23.325   8.753  56.516  1.00  0.00           H  \nATOM   1544    H MOL     1      23.145   7.390  55.352  1.00  0.00           H  \nATOM   1545    H MOL     1      23.940   9.703  54.472  1.00  0.00           H  \nATOM   1546    H MOL     1      22.321   9.540  53.781  1.00  0.00           H  \nATOM   1547    H MOL     1      23.018  12.280  54.004  1.00  0.00           H  \nATOM   1548    H MOL     1      21.478  11.437  53.847  1.00  0.00           H  \nATOM   1549    H MOL     1      20.508  12.428  55.661  1.00  0.00           H  \nATOM   1550    H MOL     1      21.973  12.869  56.456  1.00  0.00           H  \nATOM   1551    H MOL     1      20.435  14.998  56.497  1.00  0.00           H  \nATOM   1552    H MOL     1      21.416  15.993  55.504  1.00  0.00           H  \nATOM   1553    H MOL     1      19.481  16.374  54.246  1.00  0.00           H  \nATOM   1554    H MOL     1      19.474  14.682  53.889  1.00  0.00           H  \nATOM   1555    H MOL     1      16.450  16.246  55.164  1.00  0.00           H  \nATOM   1556    H MOL     1      17.669  15.619  53.840  1.00  0.00           H  \nATOM   1557    H MOL     1      15.993  14.158  56.047  1.00  0.00           H  \nATOM   1558    H MOL     1      15.317  14.411  54.364  1.00  0.00           H  \nATOM   1559    H MOL     1      18.216  12.582  55.792  1.00  0.00           H  \nATOM   1560    H MOL     1      16.713  11.824  56.311  1.00  0.00           H  \nATOM   1561    H MOL     1      18.034  10.273  55.693  1.00  0.00           H  \nATOM   1562    H MOL     1      18.117  10.849  53.875  1.00  0.00           H  \nATOM   1563    H MOL     1      16.520   8.891  55.898  1.00  0.00           H  \nATOM   1564    H MOL     1      15.608   8.264  54.257  1.00  0.00           H  \nATOM   1565    H MOL     1      13.954   8.520  56.294  1.00  0.00           H  \nATOM   1566    H MOL     1      14.245  10.221  56.515  1.00  0.00           H  \nATOM   1567    H MOL     1      11.968   9.232  56.128  1.00  0.00           H  \nATOM   1568    H MOL     1      11.463   9.161  54.370  1.00  0.00           H  \nATOM   1569    H MOL     1      10.560  10.647  55.974  1.00  0.00           H  \nATOM   1570    H MOL     1      11.045  11.584  54.439  1.00  0.00           H  \nATOM   1571    H MOL     1      13.763  13.178  56.155  1.00  0.00           H  \nATOM   1572    H MOL     1      13.334  12.545  54.618  1.00  0.00           H  \nATOM   1573    H MOL     1      11.203  14.061  54.765  1.00  0.00           H  \nATOM   1574    H MOL     1      12.345  14.945  56.046  1.00  0.00           H  \nATOM   1575    H MOL     1      14.299  16.601  53.643  1.00  0.00           H  \nATOM   1576    H MOL     1      13.886  16.528  55.462  1.00  0.00           H  \nATOM   1577    H MOL     1      11.702  17.123  53.399  1.00  0.00           H  \nATOM   1578    H MOL     1      11.701  17.109  55.144  1.00  0.00           H  \nATOM   1579    H MOL     1      13.283  18.793  56.428  1.00  0.00           H  \nATOM   1580    H MOL     1      11.803  19.358  55.716  1.00  0.00           H  \nATOM   1581    H MOL     1      12.736  21.320  56.220  1.00  0.00           H  \nATOM   1582    H MOL     1      13.121  21.177  54.486  1.00  0.00           H  \nATOM   1583    H MOL     1      15.056  22.285  54.469  1.00  0.00           H  \nATOM   1584    H MOL     1      14.805  22.810  56.154  1.00  0.00           H  \nATOM   1585    H MOL     1      17.225  23.079  55.226  1.00  0.00           H  \nATOM   1586    H MOL     1      17.069  21.931  56.754  1.00  0.00           H  \nATOM   1587    H MOL     1      16.827  19.101  54.524  1.00  0.00           H  \nATOM   1588    H MOL     1      17.104  19.723  56.348  1.00  0.00           H  \nATOM   1589    H MOL     1      19.039  18.998  54.225  1.00  0.00           H  \nATOM   1590    H MOL     1      18.516  18.030  55.535  1.00  0.00           H  \nATOM   1591    H MOL     1      20.463  20.770  54.480  1.00  0.00           H  \nATOM   1592    H MOL     1      21.218  20.999  56.042  1.00  0.00           H  \nATOM   1593    H MOL     1      21.445  18.290  55.222  1.00  0.00           H  \nATOM   1594    H MOL     1      22.231  19.319  53.991  1.00  0.00           H  \nATOM   1595    O MOL     1      23.223  18.903  55.821  1.00  0.00           O  \nATOM   1596    C MOL     1      24.291  19.904  55.616  1.00  0.00           C  \nATOM   1597    C MOL     1      25.422  19.108  54.991  1.00  0.00           C  \nATOM   1598    O MOL     1      25.993  18.125  55.869  1.00  0.00           O  \nATOM   1599    C MOL     1      27.452  18.085  55.792  1.00  0.00           C  \nATOM   1600    C MOL     1      28.148  17.794  54.391  1.00  0.00           C  \nATOM   1601    O MOL     1      27.713  18.825  53.353  1.00  0.00           O  \nATOM   1602    C MOL     1      28.772  19.732  53.018  1.00  0.00           C  \nATOM   1603    C MOL     1      28.670  21.104  53.546  1.00  0.00           C  \nATOM   1604    O MOL     1      28.818  21.236  55.074  1.00  0.00           O  \nATOM   1605    C MOL     1      29.635  22.391  55.375  1.00  0.00           C  \nATOM   1606    C MOL     1      28.953  23.668  55.395  1.00  0.00           C  \nATOM   1607    O MOL     1      27.735  23.666  56.230  1.00  0.00           O  \nATOM   1608    C MOL     1      26.462  23.527  55.614  1.00  0.00           C  \nATOM   1609    C MOL     1      25.901  24.782  54.927  1.00  0.00           C  \nATOM   1610    O MOL     1      24.590  24.580  54.521  1.00  0.00           O  \nATOM   1611    C MOL     1      23.511  24.927  55.440  1.00  0.00           C  \nATOM   1612    C MOL     1      22.549  23.681  55.560  1.00  0.00           C  \nATOM   1613    O MOL     1      21.337  24.167  55.975  1.00  0.00           O  \nATOM   1614    C MOL     1      20.308  24.066  54.997  1.00  0.00           C  \nATOM   1615    C MOL     1      19.091  24.945  55.317  1.00  0.00           C  \nATOM   1616    O MOL     1      19.121  26.378  55.094  1.00  0.00           O  \nATOM   1617    C MOL     1      20.464  27.041  55.261  1.00  0.00           C  \nATOM   1618    C MOL     1      19.865  28.411  55.699  1.00  0.00           C  \nATOM   1619    O MOL     1      20.942  29.231  55.977  1.00  0.00           O  \nATOM   1620    C MOL     1      20.944  30.466  55.126  1.00  0.00           C  \nATOM   1621    C MOL     1      19.704  31.194  54.856  1.00  0.00           C  \nATOM   1622    O MOL     1      19.435  32.139  55.942  1.00  0.00           O  \nATOM   1623    C MOL     1      19.328  33.504  55.446  1.00  0.00           C  \nATOM   1624    C MOL     1      17.918  33.682  54.820  1.00  0.00           C  \nATOM   1625    O MOL     1      17.873  32.927  53.609  1.00  0.00           O  \nATOM   1626    C MOL     1      16.940  33.405  52.603  1.00  0.00           C  \nATOM   1627    C MOL     1      17.439  32.909  51.302  1.00  0.00           C  \nATOM   1628    O MOL     1      17.935  31.481  51.280  1.00  0.00           O  \nATOM   1629    C MOL     1      17.030  30.494  50.743  1.00  0.00           C  \nATOM   1630    C MOL     1      17.702  29.124  50.532  1.00  0.00           C  \nATOM   1631    O MOL     1      18.121  28.529  51.808  1.00  0.00           O  \nATOM   1632    C MOL     1      18.295  27.169  51.788  1.00  0.00           C  \nATOM   1633    C MOL     1      17.072  26.157  51.549  1.00  0.00           C  \nATOM   1634    O MOL     1      17.601  24.893  52.192  1.00  0.00           O  \nATOM   1635    C MOL     1      16.771  23.884  52.485  1.00  0.00           C  \nATOM   1636    C MOL     1      16.105  23.295  51.279  1.00  0.00           C  \nATOM   1637    O MOL     1      14.951  22.459  51.570  1.00  0.00           O  \nATOM   1638    C MOL     1      15.071  21.036  51.803  1.00  0.00           C  \nATOM   1639    C MOL     1      13.783  20.234  51.804  1.00  0.00           C  \nATOM   1640    H MOL     1      23.921  20.711  54.922  1.00  0.00           H  \nATOM   1641    H MOL     1      24.694  20.305  56.611  1.00  0.00           H  \nATOM   1642    H MOL     1      25.010  18.728  54.052  1.00  0.00           H  \nATOM   1643    H MOL     1      26.193  19.833  54.680  1.00  0.00           H  \nATOM   1644    H MOL     1      27.554  17.246  56.484  1.00  0.00           H  \nATOM   1645    H MOL     1      27.815  19.014  56.257  1.00  0.00           H  \nATOM   1646    H MOL     1      29.229  17.831  54.506  1.00  0.00           H  \nATOM   1647    H MOL     1      27.864  16.873  53.976  1.00  0.00           H  \nATOM   1648    H MOL     1      29.663  19.226  53.226  1.00  0.00           H  \nATOM   1649    H MOL     1      28.818  19.794  51.973  1.00  0.00           H  \nATOM   1650    H MOL     1      29.574  21.798  53.229  1.00  0.00           H  \nATOM   1651    H MOL     1      27.874  21.676  53.177  1.00  0.00           H  \nATOM   1652    H MOL     1      29.968  22.192  56.399  1.00  0.00           H  \nATOM   1653    H MOL     1      30.519  22.528  54.673  1.00  0.00           H  \nATOM   1654    H MOL     1      29.535  24.451  56.053  1.00  0.00           H  \nATOM   1655    H MOL     1      28.832  24.253  54.491  1.00  0.00           H  \nATOM   1656    H MOL     1      26.549  22.721  54.886  1.00  0.00           H  \nATOM   1657    H MOL     1      25.684  23.339  56.428  1.00  0.00           H  \nATOM   1658    H MOL     1      26.014  25.513  55.754  1.00  0.00           H  \nATOM   1659    H MOL     1      26.409  25.277  54.052  1.00  0.00           H  \nATOM   1660    H MOL     1      23.792  25.342  56.425  1.00  0.00           H  \nATOM   1661    H MOL     1      22.973  25.715  54.852  1.00  0.00           H  \nATOM   1662    H MOL     1      22.513  22.902  54.790  1.00  0.00           H  \nATOM   1663    H MOL     1      22.832  23.016  56.434  1.00  0.00           H  \nATOM   1664    H MOL     1      20.514  24.347  54.035  1.00  0.00           H  \nATOM   1665    H MOL     1      20.105  22.955  54.914  1.00  0.00           H  \nATOM   1666    H MOL     1      18.557  24.755  56.282  1.00  0.00           H  \nATOM   1667    H MOL     1      18.453  24.608  54.481  1.00  0.00           H  \nATOM   1668    H MOL     1      21.070  27.279  54.346  1.00  0.00           H  \nATOM   1669    H MOL     1      21.022  26.466  56.036  1.00  0.00           H  \nATOM   1670    H MOL     1      19.156  28.708  54.930  1.00  0.00           H  \nATOM   1671    H MOL     1      19.206  28.343  56.609  1.00  0.00           H  \nATOM   1672    H MOL     1      21.516  30.204  54.225  1.00  0.00           H  \nATOM   1673    H MOL     1      21.685  31.135  55.700  1.00  0.00           H  \nATOM   1674    H MOL     1      18.884  30.567  54.915  1.00  0.00           H  \nATOM   1675    H MOL     1      19.574  31.664  53.876  1.00  0.00           H  \nATOM   1676    H MOL     1      19.590  34.288  56.199  1.00  0.00           H  \nATOM   1677    H MOL     1      20.124  33.616  54.701  1.00  0.00           H  \nATOM   1678    H MOL     1      17.058  33.167  55.456  1.00  0.00           H  \nATOM   1679    H MOL     1      17.631  34.761  54.714  1.00  0.00           H  \nATOM   1680    H MOL     1      16.988  34.453  52.633  1.00  0.00           H  \nATOM   1681    H MOL     1      15.873  33.264  52.890  1.00  0.00           H  \nATOM   1682    H MOL     1      16.591  33.062  50.652  1.00  0.00           H  \nATOM   1683    H MOL     1      18.434  33.327  51.071  1.00  0.00           H  \nATOM   1684    H MOL     1      16.587  30.901  49.877  1.00  0.00           H  \nATOM   1685    H MOL     1      16.278  30.347  51.581  1.00  0.00           H  \nATOM   1686    H MOL     1      18.598  29.305  49.999  1.00  0.00           H  \nATOM   1687    H MOL     1      16.928  28.393  50.110  1.00  0.00           H  \nATOM   1688    H MOL     1      18.969  26.919  50.991  1.00  0.00           H  \nATOM   1689    H MOL     1      18.799  26.887  52.646  1.00  0.00           H  \nATOM   1690    H MOL     1      16.091  26.330  51.957  1.00  0.00           H  \nATOM   1691    H MOL     1      16.945  25.942  50.563  1.00  0.00           H  \nATOM   1692    H MOL     1      16.025  24.198  53.285  1.00  0.00           H  \nATOM   1693    H MOL     1      17.332  23.137  53.013  1.00  0.00           H  \nATOM   1694    H MOL     1      16.769  22.665  50.738  1.00  0.00           H  \nATOM   1695    H MOL     1      15.683  24.044  50.600  1.00  0.00           H  \nATOM   1696    H MOL     1      15.712  20.466  51.049  1.00  0.00           H  \nATOM   1697    H MOL     1      15.469  20.820  52.899  1.00  0.00           H  \nATOM   1698    H MOL     1      12.970  20.717  52.405  1.00  0.00           H  \nATOM   1699    H MOL     1      13.255  20.274  50.803  1.00  0.00           H  \nATOM   1700    H MOL     1      14.053  19.319  52.320  1.00  0.00           H  \nATOM   1701    O MOL     1      20.793  12.444  31.044  1.00  0.00           O  \nATOM   1702    C MOL     1      20.198  12.869  29.755  1.00  0.00           C  \nATOM   1703    C MOL     1      20.944  13.814  28.840  1.00  0.00           C  \nATOM   1704    O MOL     1      20.594  15.105  29.497  1.00  0.00           O  \nATOM   1705    C MOL     1      20.149  16.146  28.662  1.00  0.00           C  \nATOM   1706    C MOL     1      21.132  17.329  28.588  1.00  0.00           C  \nATOM   1707    O MOL     1      21.372  17.815  29.926  1.00  0.00           O  \nATOM   1708    C MOL     1      20.831  19.217  29.868  1.00  0.00           C  \nATOM   1709    C MOL     1      20.656  19.461  31.358  1.00  0.00           C  \nATOM   1710    O MOL     1      20.744  20.886  31.676  1.00  0.00           O  \nATOM   1711    C MOL     1      20.198  21.222  32.977  1.00  0.00           C  \nATOM   1712    C MOL     1      19.589  22.561  32.722  1.00  0.00           C  \nATOM   1713    O MOL     1      18.462  22.491  31.806  1.00  0.00           O  \nATOM   1714    C MOL     1      17.286  23.088  32.267  1.00  0.00           C  \nATOM   1715    C MOL     1      16.365  23.450  31.115  1.00  0.00           C  \nATOM   1716    O MOL     1      16.976  24.150  30.061  1.00  0.00           O  \nATOM   1717    C MOL     1      18.112  24.888  30.372  1.00  0.00           C  \nATOM   1718    C MOL     1      18.371  26.085  29.453  1.00  0.00           C  \nATOM   1719    O MOL     1      17.531  27.252  29.633  1.00  0.00           O  \nATOM   1720    C MOL     1      16.582  27.476  28.493  1.00  0.00           C  \nATOM   1721    C MOL     1      15.309  27.988  29.129  1.00  0.00           C  \nATOM   1722    O MOL     1      14.363  28.231  28.073  1.00  0.00           O  \nATOM   1723    C MOL     1      13.961  27.096  27.234  1.00  0.00           C  \nATOM   1724    C MOL     1      12.562  27.530  26.581  1.00  0.00           C  \nATOM   1725    O MOL     1      12.654  28.097  25.320  1.00  0.00           O  \nATOM   1726    C MOL     1      12.587  29.481  25.226  1.00  0.00           C  \nATOM   1727    C MOL     1      11.432  30.231  25.660  1.00  0.00           C  \nATOM   1728    O MOL     1      11.156  30.278  27.070  1.00  0.00           O  \nATOM   1729    C MOL     1       9.968  30.807  27.336  1.00  0.00           C  \nATOM   1730    C MOL     1       9.533  30.656  28.861  1.00  0.00           C  \nATOM   1731    O MOL     1       9.670  29.287  29.318  1.00  0.00           O  \nATOM   1732    C MOL     1       8.582  28.487  28.878  1.00  0.00           C  \nATOM   1733    C MOL     1       8.729  27.311  29.780  1.00  0.00           C  \nATOM   1734    O MOL     1       7.947  27.529  31.004  1.00  0.00           O  \nATOM   1735    C MOL     1       7.543  26.274  31.595  1.00  0.00           C  \nATOM   1736    C MOL     1       6.046  26.253  31.679  1.00  0.00           C  \nATOM   1737    O MOL     1       5.739  24.902  31.660  1.00  0.00           O  \nATOM   1738    C MOL     1       4.260  24.712  31.819  1.00  0.00           C  \nATOM   1739    C MOL     1       3.940  23.220  31.793  1.00  0.00           C  \nATOM   1740    O MOL     1       4.288  22.587  33.082  1.00  0.00           O  \nATOM   1741    C MOL     1       4.588  21.106  32.948  1.00  0.00           C  \nATOM   1742    C MOL     1       4.420  20.396  34.300  1.00  0.00           C  \nATOM   1743    O MOL     1       5.129  19.212  34.332  1.00  0.00           O  \nATOM   1744    C MOL     1       4.244  18.116  33.801  1.00  0.00           C  \nATOM   1745    C MOL     1       5.127  16.861  33.624  1.00  0.00           C  \nATOM   1746    H MOL     1      20.805  13.226  31.666  1.00  0.00           H  \nATOM   1747    H MOL     1      20.023  11.878  29.248  1.00  0.00           H  \nATOM   1748    H MOL     1      19.100  13.093  29.711  1.00  0.00           H  \nATOM   1749    H MOL     1      21.988  13.635  28.740  1.00  0.00           H  \nATOM   1750    H MOL     1      20.627  13.692  27.804  1.00  0.00           H  \nATOM   1751    H MOL     1      19.086  16.476  28.986  1.00  0.00           H  \nATOM   1752    H MOL     1      20.234  15.862  27.620  1.00  0.00           H  \nATOM   1753    H MOL     1      22.139  16.921  28.083  1.00  0.00           H  \nATOM   1754    H MOL     1      20.705  18.176  27.984  1.00  0.00           H  \nATOM   1755    H MOL     1      21.700  19.867  29.452  1.00  0.00           H  \nATOM   1756    H MOL     1      19.825  19.360  29.281  1.00  0.00           H  \nATOM   1757    H MOL     1      19.636  19.168  31.754  1.00  0.00           H  \nATOM   1758    H MOL     1      21.262  18.840  32.049  1.00  0.00           H  \nATOM   1759    H MOL     1      19.477  20.472  33.280  1.00  0.00           H  \nATOM   1760    H MOL     1      21.087  21.155  33.634  1.00  0.00           H  \nATOM   1761    H MOL     1      19.224  22.985  33.688  1.00  0.00           H  \nATOM   1762    H MOL     1      20.249  23.469  32.392  1.00  0.00           H  \nATOM   1763    H MOL     1      16.794  22.459  32.962  1.00  0.00           H  \nATOM   1764    H MOL     1      17.690  23.954  32.919  1.00  0.00           H  \nATOM   1765    H MOL     1      15.973  22.616  30.607  1.00  0.00           H  \nATOM   1766    H MOL     1      15.522  23.933  31.667  1.00  0.00           H  \nATOM   1767    H MOL     1      17.917  25.522  31.391  1.00  0.00           H  \nATOM   1768    H MOL     1      19.120  24.340  30.289  1.00  0.00           H  \nATOM   1769    H MOL     1      19.401  26.303  29.819  1.00  0.00           H  \nATOM   1770    H MOL     1      18.491  25.783  28.416  1.00  0.00           H  \nATOM   1771    H MOL     1      17.050  28.246  27.888  1.00  0.00           H  \nATOM   1772    H MOL     1      16.465  26.576  27.884  1.00  0.00           H  \nATOM   1773    H MOL     1      15.457  28.928  29.657  1.00  0.00           H  \nATOM   1774    H MOL     1      14.839  27.276  29.887  1.00  0.00           H  \nATOM   1775    H MOL     1      13.647  26.146  27.824  1.00  0.00           H  \nATOM   1776    H MOL     1      14.685  26.934  26.342  1.00  0.00           H  \nATOM   1777    H MOL     1      11.924  26.709  26.546  1.00  0.00           H  \nATOM   1778    H MOL     1      12.215  28.118  27.363  1.00  0.00           H  \nATOM   1779    H MOL     1      12.679  29.629  24.125  1.00  0.00           H  \nATOM   1780    H MOL     1      13.514  29.982  25.634  1.00  0.00           H  \nATOM   1781    H MOL     1      10.532  29.905  24.988  1.00  0.00           H  \nATOM   1782    H MOL     1      11.643  31.267  25.353  1.00  0.00           H  \nATOM   1783    H MOL     1       9.837  31.846  27.228  1.00  0.00           H  \nATOM   1784    H MOL     1       9.191  30.328  26.698  1.00  0.00           H  \nATOM   1785    H MOL     1      10.277  31.238  29.333  1.00  0.00           H  \nATOM   1786    H MOL     1       8.526  30.971  28.894  1.00  0.00           H  \nATOM   1787    H MOL     1       8.643  28.247  27.873  1.00  0.00           H  \nATOM   1788    H MOL     1       7.537  28.940  28.920  1.00  0.00           H  \nATOM   1789    H MOL     1       8.283  26.364  29.316  1.00  0.00           H  \nATOM   1790    H MOL     1       9.784  26.870  29.964  1.00  0.00           H  \nATOM   1791    H MOL     1       8.068  26.032  32.539  1.00  0.00           H  \nATOM   1792    H MOL     1       7.937  25.441  30.883  1.00  0.00           H  \nATOM   1793    H MOL     1       5.663  26.719  30.725  1.00  0.00           H  \nATOM   1794    H MOL     1       5.869  26.968  32.474  1.00  0.00           H  \nATOM   1795    H MOL     1       4.136  24.967  32.945  1.00  0.00           H  \nATOM   1796    H MOL     1       3.710  25.376  31.029  1.00  0.00           H  \nATOM   1797    H MOL     1       2.846  22.931  31.578  1.00  0.00           H  \nATOM   1798    H MOL     1       4.388  22.719  30.914  1.00  0.00           H  \nATOM   1799    H MOL     1       5.670  21.013  32.668  1.00  0.00           H  \nATOM   1800    H MOL     1       4.002  20.528  32.187  1.00  0.00           H  \nATOM   1801    H MOL     1       3.310  20.204  34.471  1.00  0.00           H  \nATOM   1802    H MOL     1       4.738  21.139  34.972  1.00  0.00           H  \nATOM   1803    H MOL     1       3.427  17.724  34.446  1.00  0.00           H  \nATOM   1804    H MOL     1       3.938  18.340  32.782  1.00  0.00           H  \nATOM   1805    H MOL     1       5.894  17.208  32.907  1.00  0.00           H  \nATOM   1806    H MOL     1       5.628  16.531  34.555  1.00  0.00           H  \nATOM   1807    O MOL     1       4.376  15.861  33.107  1.00  0.00           O  \nATOM   1808    C MOL     1       5.201  14.731  33.126  1.00  0.00           C  \nATOM   1809    C MOL     1       4.361  13.587  32.590  1.00  0.00           C  \nATOM   1810    O MOL     1       5.114  12.443  32.395  1.00  0.00           O  \nATOM   1811    C MOL     1       4.388  11.237  32.020  1.00  0.00           C  \nATOM   1812    C MOL     1       4.050  10.237  33.043  1.00  0.00           C  \nATOM   1813    O MOL     1       3.070  10.411  34.022  1.00  0.00           O  \nATOM   1814    C MOL     1       1.768  10.382  33.382  1.00  0.00           C  \nATOM   1815    C MOL     1       0.735  10.073  34.449  1.00  0.00           C  \nATOM   1816    O MOL     1       0.124   8.785  34.449  1.00  0.00           O  \nATOM   1817    C MOL     1       0.948   7.763  34.817  1.00  0.00           C  \nATOM   1818    C MOL     1       0.316   6.363  34.464  1.00  0.00           C  \nATOM   1819    O MOL     1       0.457   5.885  33.135  1.00  0.00           O  \nATOM   1820    C MOL     1      -0.289   6.718  32.143  1.00  0.00           C  \nATOM   1821    C MOL     1      -0.734   5.727  30.859  1.00  0.00           C  \nATOM   1822    O MOL     1      -1.687   4.693  31.226  1.00  0.00           O  \nATOM   1823    C MOL     1      -3.011   5.095  31.357  1.00  0.00           C  \nATOM   1824    C MOL     1      -3.686   5.106  29.979  1.00  0.00           C  \nATOM   1825    O MOL     1      -5.023   4.484  29.865  1.00  0.00           O  \nATOM   1826    C MOL     1      -5.207   3.245  30.438  1.00  0.00           C  \nATOM   1827    C MOL     1      -6.199   2.511  29.459  1.00  0.00           C  \nATOM   1828    O MOL     1      -6.555   1.243  30.150  1.00  0.00           O  \nATOM   1829    C MOL     1      -6.186   0.088  29.420  1.00  0.00           C  \nATOM   1830    C MOL     1      -7.010  -1.045  29.934  1.00  0.00           C  \nATOM   1831    O MOL     1      -7.287  -1.875  28.817  1.00  0.00           O  \nATOM   1832    C MOL     1      -7.787  -3.166  29.190  1.00  0.00           C  \nATOM   1833    C MOL     1      -6.751  -4.309  29.085  1.00  0.00           C  \nATOM   1834    O MOL     1      -5.801  -4.113  30.043  1.00  0.00           O  \nATOM   1835    C MOL     1      -4.695  -5.109  29.842  1.00  0.00           C  \nATOM   1836    C MOL     1      -3.626  -5.170  30.914  1.00  0.00           C  \nATOM   1837    O MOL     1      -2.858  -3.984  30.961  1.00  0.00           O  \nATOM   1838    C MOL     1      -1.484  -4.049  31.463  1.00  0.00           C  \nATOM   1839    C MOL     1      -1.195  -2.644  31.942  1.00  0.00           C  \nATOM   1840    O MOL     1      -1.079  -1.785  30.765  1.00  0.00           O  \nATOM   1841    C MOL     1      -1.516  -0.474  30.986  1.00  0.00           C  \nATOM   1842    C MOL     1      -0.691   0.684  30.154  1.00  0.00           C  \nATOM   1843    O MOL     1      -1.397   1.201  29.126  1.00  0.00           O  \nATOM   1844    C MOL     1      -0.555   2.085  28.255  1.00  0.00           C  \nATOM   1845    C MOL     1      -0.962   3.550  28.332  1.00  0.00           C  \nATOM   1846    O MOL     1      -1.053   4.164  27.069  1.00  0.00           O  \nATOM   1847    C MOL     1       0.151   4.731  26.457  1.00  0.00           C  \nATOM   1848    C MOL     1       0.051   4.721  24.969  1.00  0.00           C  \nATOM   1849    O MOL     1      -1.014   5.550  24.523  1.00  0.00           O  \nATOM   1850    C MOL     1      -0.547   6.455  23.603  1.00  0.00           C  \nATOM   1851    C MOL     1      -1.571   7.616  23.384  1.00  0.00           C  \nATOM   1852    H MOL     1       6.080  14.812  32.488  1.00  0.00           H  \nATOM   1853    H MOL     1       5.517  14.451  34.201  1.00  0.00           H  \nATOM   1854    H MOL     1       3.619  13.326  33.291  1.00  0.00           H  \nATOM   1855    H MOL     1       3.869  13.824  31.641  1.00  0.00           H  \nATOM   1856    H MOL     1       5.265  10.698  31.502  1.00  0.00           H  \nATOM   1857    H MOL     1       3.599  11.554  31.355  1.00  0.00           H  \nATOM   1858    H MOL     1       3.791   9.287  32.425  1.00  0.00           H  \nATOM   1859    H MOL     1       5.028  10.110  33.567  1.00  0.00           H  \nATOM   1860    H MOL     1       1.514  11.436  32.978  1.00  0.00           H  \nATOM   1861    H MOL     1       1.743   9.869  32.476  1.00  0.00           H  \nATOM   1862    H MOL     1       1.140  10.374  35.380  1.00  0.00           H  \nATOM   1863    H MOL     1      -0.058  10.811  34.241  1.00  0.00           H  \nATOM   1864    H MOL     1       2.030   7.861  34.377  1.00  0.00           H  \nATOM   1865    H MOL     1       1.033   7.732  35.925  1.00  0.00           H  \nATOM   1866    H MOL     1       0.699   5.592  35.054  1.00  0.00           H  \nATOM   1867    H MOL     1      -0.759   6.483  34.689  1.00  0.00           H  \nATOM   1868    H MOL     1      -1.200   7.198  32.564  1.00  0.00           H  \nATOM   1869    H MOL     1       0.261   7.585  31.843  1.00  0.00           H  \nATOM   1870    H MOL     1      -1.029   6.390  29.952  1.00  0.00           H  \nATOM   1871    H MOL     1       0.166   5.379  30.458  1.00  0.00           H  \nATOM   1872    H MOL     1      -3.469   4.200  31.919  1.00  0.00           H  \nATOM   1873    H MOL     1      -3.049   6.048  31.852  1.00  0.00           H  \nATOM   1874    H MOL     1      -3.849   6.010  29.440  1.00  0.00           H  \nATOM   1875    H MOL     1      -2.865   4.541  29.486  1.00  0.00           H  \nATOM   1876    H MOL     1      -4.296   2.725  30.459  1.00  0.00           H  \nATOM   1877    H MOL     1      -5.741   3.225  31.437  1.00  0.00           H  \nATOM   1878    H MOL     1      -5.731   2.287  28.485  1.00  0.00           H  \nATOM   1879    H MOL     1      -7.144   3.102  29.365  1.00  0.00           H  \nATOM   1880    H MOL     1      -5.046  -0.060  29.459  1.00  0.00           H  \nATOM   1881    H MOL     1      -6.539   0.281  28.337  1.00  0.00           H  \nATOM   1882    H MOL     1      -6.353  -1.554  30.716  1.00  0.00           H  \nATOM   1883    H MOL     1      -7.802  -0.588  30.540  1.00  0.00           H  \nATOM   1884    H MOL     1      -8.790  -3.378  28.656  1.00  0.00           H  \nATOM   1885    H MOL     1      -8.043  -3.059  30.219  1.00  0.00           H  \nATOM   1886    H MOL     1      -6.465  -4.262  28.029  1.00  0.00           H  \nATOM   1887    H MOL     1      -7.307  -5.297  29.045  1.00  0.00           H  \nATOM   1888    H MOL     1      -5.166  -6.041  29.847  1.00  0.00           H  \nATOM   1889    H MOL     1      -4.226  -4.784  28.920  1.00  0.00           H  \nATOM   1890    H MOL     1      -4.061  -5.367  31.870  1.00  0.00           H  \nATOM   1891    H MOL     1      -2.967  -6.076  30.697  1.00  0.00           H  \nATOM   1892    H MOL     1      -0.717  -4.332  30.747  1.00  0.00           H  \nATOM   1893    H MOL     1      -1.735  -4.729  32.359  1.00  0.00           H  \nATOM   1894    H MOL     1      -1.956  -2.362  32.570  1.00  0.00           H  \nATOM   1895    H MOL     1      -0.191  -2.574  32.376  1.00  0.00           H  \nATOM   1896    H MOL     1      -1.347  -0.295  32.080  1.00  0.00           H  \nATOM   1897    H MOL     1      -2.584  -0.288  30.788  1.00  0.00           H  \nATOM   1898    H MOL     1       0.212   0.048  29.792  1.00  0.00           H  \nATOM   1899    H MOL     1      -0.446   1.460  30.936  1.00  0.00           H  \nATOM   1900    H MOL     1       0.593   1.914  28.518  1.00  0.00           H  \nATOM   1901    H MOL     1      -0.598   1.697  27.226  1.00  0.00           H  \nATOM   1902    H MOL     1      -2.017   3.514  28.679  1.00  0.00           H  \nATOM   1903    H MOL     1      -0.327   3.963  29.103  1.00  0.00           H  \nATOM   1904    H MOL     1       0.926   4.115  26.751  1.00  0.00           H  \nATOM   1905    H MOL     1       0.352   5.709  26.839  1.00  0.00           H  \nATOM   1906    H MOL     1      -0.411   3.679  24.669  1.00  0.00           H  \nATOM   1907    H MOL     1       0.983   4.944  24.444  1.00  0.00           H  \nATOM   1908    H MOL     1       0.394   6.904  24.067  1.00  0.00           H  \nATOM   1909    H MOL     1      -0.380   6.001  22.589  1.00  0.00           H  \nATOM   1910    H MOL     1      -2.511   7.215  23.530  1.00  0.00           H  \nATOM   1911    H MOL     1      -1.389   8.468  24.126  1.00  0.00           H  \nATOM   1912    H MOL     1      -1.474   8.149  22.431  1.00  0.00           H  \nATOM   1913    O MOL     1      24.818  13.529  22.570  1.00  0.00           O  \nATOM   1914    C MOL     1      25.859  12.543  22.252  1.00  0.00           C  \nATOM   1915    C MOL     1      27.107  12.811  23.116  1.00  0.00           C  \nATOM   1916    O MOL     1      28.301  12.756  22.360  1.00  0.00           O  \nATOM   1917    C MOL     1      29.138  11.606  22.402  1.00  0.00           C  \nATOM   1918    C MOL     1      28.753  10.345  21.668  1.00  0.00           C  \nATOM   1919    O MOL     1      27.591   9.787  22.355  1.00  0.00           O  \nATOM   1920    C MOL     1      27.342   8.462  21.811  1.00  0.00           C  \nATOM   1921    C MOL     1      28.249   7.327  22.350  1.00  0.00           C  \nATOM   1922    O MOL     1      27.809   7.077  23.729  1.00  0.00           O  \nATOM   1923    C MOL     1      28.107   5.681  24.254  1.00  0.00           C  \nATOM   1924    C MOL     1      28.137   5.652  25.695  1.00  0.00           C  \nATOM   1925    O MOL     1      26.768   5.704  26.221  1.00  0.00           O  \nATOM   1926    C MOL     1      26.491   4.989  27.346  1.00  0.00           C  \nATOM   1927    C MOL     1      25.102   4.449  27.370  1.00  0.00           C  \nATOM   1928    O MOL     1      24.987   3.152  26.777  1.00  0.00           O  \nATOM   1929    C MOL     1      23.524   2.983  26.743  1.00  0.00           C  \nATOM   1930    C MOL     1      23.218   1.489  26.645  1.00  0.00           C  \nATOM   1931    O MOL     1      22.708   1.053  25.332  1.00  0.00           O  \nATOM   1932    C MOL     1      21.249   1.344  25.368  1.00  0.00           C  \nATOM   1933    C MOL     1      20.776   1.351  23.927  1.00  0.00           C  \nATOM   1934    O MOL     1      21.443   2.472  23.319  1.00  0.00           O  \nATOM   1935    C MOL     1      21.700   2.473  21.937  1.00  0.00           C  \nATOM   1936    C MOL     1      23.122   3.119  21.596  1.00  0.00           C  \nATOM   1937    O MOL     1      22.989   4.490  21.839  1.00  0.00           O  \nATOM   1938    C MOL     1      24.136   5.270  21.925  1.00  0.00           C  \nATOM   1939    C MOL     1      23.974   6.508  22.810  1.00  0.00           C  \nATOM   1940    O MOL     1      23.752   7.711  22.089  1.00  0.00           O  \nATOM   1941    C MOL     1      22.836   8.797  22.444  1.00  0.00           C  \nATOM   1942    C MOL     1      22.815   9.254  23.839  1.00  0.00           C  \nATOM   1943    O MOL     1      23.811  10.074  24.230  1.00  0.00           O  \nATOM   1944    C MOL     1      23.613  10.819  25.420  1.00  0.00           C  \nATOM   1945    C MOL     1      24.852  11.332  26.143  1.00  0.00           C  \nATOM   1946    O MOL     1      25.622  10.430  26.932  1.00  0.00           O  \nATOM   1947    C MOL     1      26.588   9.685  26.192  1.00  0.00           C  \nATOM   1948    C MOL     1      27.984  10.341  26.367  1.00  0.00           C  \nATOM   1949    O MOL     1      28.567  10.024  27.554  1.00  0.00           O  \nATOM   1950    C MOL     1      29.857  10.578  27.855  1.00  0.00           C  \nATOM   1951    C MOL     1      30.876   9.706  27.234  1.00  0.00           C  \nATOM   1952    O MOL     1      31.176   8.666  28.191  1.00  0.00           O  \nATOM   1953    C MOL     1      31.031   7.313  27.877  1.00  0.00           C  \nATOM   1954    C MOL     1      32.025   6.886  26.758  1.00  0.00           C  \nATOM   1955    O MOL     1      31.501   5.697  26.203  1.00  0.00           O  \nATOM   1956    C MOL     1      31.989   4.560  26.828  1.00  0.00           C  \nATOM   1957    C MOL     1      31.298   3.306  26.268  1.00  0.00           C  \nATOM   1958    H MOL     1      23.906  13.299  22.515  1.00  0.00           H  \nATOM   1959    H MOL     1      25.598  11.442  22.309  1.00  0.00           H  \nATOM   1960    H MOL     1      26.100  12.714  21.180  1.00  0.00           H  \nATOM   1961    H MOL     1      26.886  13.959  23.164  1.00  0.00           H  \nATOM   1962    H MOL     1      27.072  12.252  24.039  1.00  0.00           H  \nATOM   1963    H MOL     1      29.164  11.159  23.406  1.00  0.00           H  \nATOM   1964    H MOL     1      30.155  12.038  22.384  1.00  0.00           H  \nATOM   1965    H MOL     1      28.603  10.431  20.607  1.00  0.00           H  \nATOM   1966    H MOL     1      29.564   9.615  21.788  1.00  0.00           H  \nATOM   1967    H MOL     1      26.242   8.160  22.054  1.00  0.00           H  \nATOM   1968    H MOL     1      27.529   8.563  20.765  1.00  0.00           H  \nATOM   1969    H MOL     1      28.205   6.529  21.585  1.00  0.00           H  \nATOM   1970    H MOL     1      29.324   7.734  22.352  1.00  0.00           H  \nATOM   1971    H MOL     1      27.474   4.943  23.706  1.00  0.00           H  \nATOM   1972    H MOL     1      29.099   5.408  23.845  1.00  0.00           H  \nATOM   1973    H MOL     1      28.710   4.689  25.958  1.00  0.00           H  \nATOM   1974    H MOL     1      28.730   6.504  26.047  1.00  0.00           H  \nATOM   1975    H MOL     1      27.122   4.121  27.538  1.00  0.00           H  \nATOM   1976    H MOL     1      26.615   5.530  28.356  1.00  0.00           H  \nATOM   1977    H MOL     1      24.998   4.343  28.478  1.00  0.00           H  \nATOM   1978    H MOL     1      24.354   5.090  26.821  1.00  0.00           H  \nATOM   1979    H MOL     1      22.975   3.516  27.534  1.00  0.00           H  \nATOM   1980    H MOL     1      23.220   3.453  25.766  1.00  0.00           H  \nATOM   1981    H MOL     1      24.149   0.940  26.790  1.00  0.00           H  \nATOM   1982    H MOL     1      22.597   1.077  27.460  1.00  0.00           H  \nATOM   1983    H MOL     1      20.736   0.632  26.095  1.00  0.00           H  \nATOM   1984    H MOL     1      21.010   2.426  25.732  1.00  0.00           H  \nATOM   1985    H MOL     1      19.637   1.530  23.986  1.00  0.00           H  \nATOM   1986    H MOL     1      20.907   0.447  23.246  1.00  0.00           H  \nATOM   1987    H MOL     1      20.927   2.919  21.293  1.00  0.00           H  \nATOM   1988    H MOL     1      21.765   1.386  21.588  1.00  0.00           H  \nATOM   1989    H MOL     1      23.999   2.701  22.227  1.00  0.00           H  \nATOM   1990    H MOL     1      23.276   3.001  20.484  1.00  0.00           H  \nATOM   1991    H MOL     1      24.436   5.575  20.911  1.00  0.00           H  \nATOM   1992    H MOL     1      24.927   4.620  22.379  1.00  0.00           H  \nATOM   1993    H MOL     1      24.937   6.510  23.457  1.00  0.00           H  \nATOM   1994    H MOL     1      23.149   6.405  23.466  1.00  0.00           H  \nATOM   1995    H MOL     1      23.204   9.703  21.830  1.00  0.00           H  \nATOM   1996    H MOL     1      21.851   8.564  22.093  1.00  0.00           H  \nATOM   1997    H MOL     1      21.795   9.630  23.982  1.00  0.00           H  \nATOM   1998    H MOL     1      22.845   8.326  24.443  1.00  0.00           H  \nATOM   1999    H MOL     1      22.872  10.278  26.065  1.00  0.00           H  \nATOM   2000    H MOL     1      23.073  11.799  25.173  1.00  0.00           H  \nATOM   2001    H MOL     1      25.443  11.828  25.397  1.00  0.00           H  \nATOM   2002    H MOL     1      24.379  12.021  26.814  1.00  0.00           H  \nATOM   2003    H MOL     1      26.202   9.635  25.208  1.00  0.00           H  \nATOM   2004    H MOL     1      26.809   8.655  26.518  1.00  0.00           H  \nATOM   2005    H MOL     1      27.749  11.460  26.285  1.00  0.00           H  \nATOM   2006    H MOL     1      28.655  10.072  25.406  1.00  0.00           H  \nATOM   2007    H MOL     1      29.840  11.658  27.490  1.00  0.00           H  \nATOM   2008    H MOL     1      29.906  10.574  28.985  1.00  0.00           H  \nATOM   2009    H MOL     1      30.460   9.382  26.301  1.00  0.00           H  \nATOM   2010    H MOL     1      31.810  10.289  26.962  1.00  0.00           H  \nATOM   2011    H MOL     1      29.986   6.951  27.439  1.00  0.00           H  \nATOM   2012    H MOL     1      31.235   6.689  28.791  1.00  0.00           H  \nATOM   2013    H MOL     1      33.100   6.772  27.183  1.00  0.00           H  \nATOM   2014    H MOL     1      32.107   7.664  26.029  1.00  0.00           H  \nATOM   2015    H MOL     1      33.100   4.386  26.737  1.00  0.00           H  \nATOM   2016    H MOL     1      31.650   4.477  27.835  1.00  0.00           H  \nATOM   2017    H MOL     1      31.148   3.303  25.123  1.00  0.00           H  \nATOM   2018    H MOL     1      31.987   2.444  26.246  1.00  0.00           H  \nATOM   2019    O MOL     1      30.111   2.999  26.863  1.00  0.00           O  \nATOM   2020    C MOL     1      29.709   1.548  26.502  1.00  0.00           C  \nATOM   2021    C MOL     1      29.355   1.263  25.046  1.00  0.00           C  \nATOM   2022    O MOL     1      28.140   0.465  25.034  1.00  0.00           O  \nATOM   2023    C MOL     1      26.940   1.164  25.207  1.00  0.00           C  \nATOM   2024    C MOL     1      25.891   0.209  24.692  1.00  0.00           C  \nATOM   2025    O MOL     1      25.957   0.106  23.297  1.00  0.00           O  \nATOM   2026    C MOL     1      25.058  -0.573  22.518  1.00  0.00           C  \nATOM   2027    C MOL     1      25.777  -0.814  21.243  1.00  0.00           C  \nATOM   2028    O MOL     1      26.782  -1.816  21.540  1.00  0.00           O  \nATOM   2029    C MOL     1      26.485  -3.040  20.942  1.00  0.00           C  \nATOM   2030    C MOL     1      27.496  -4.097  20.986  1.00  0.00           C  \nATOM   2031    O MOL     1      27.620  -4.638  22.392  1.00  0.00           O  \nATOM   2032    C MOL     1      27.733  -3.631  23.446  1.00  0.00           C  \nATOM   2033    C MOL     1      28.191  -4.257  24.735  1.00  0.00           C  \nATOM   2034    O MOL     1      29.562  -4.075  25.210  1.00  0.00           O  \nATOM   2035    C MOL     1      29.648  -2.788  25.912  1.00  0.00           C  \nATOM   2036    C MOL     1      30.980  -2.124  25.672  1.00  0.00           C  \nATOM   2037    O MOL     1      32.060  -3.035  25.803  1.00  0.00           O  \nATOM   2038    C MOL     1      33.285  -2.547  25.384  1.00  0.00           C  \nATOM   2039    C MOL     1      33.972  -1.917  26.650  1.00  0.00           C  \nATOM   2040    O MOL     1      35.464  -2.165  26.611  1.00  0.00           O  \nATOM   2041    C MOL     1      36.064  -2.734  27.810  1.00  0.00           C  \nATOM   2042    C MOL     1      36.745  -3.997  27.650  1.00  0.00           C  \nATOM   2043    O MOL     1      38.017  -4.148  26.924  1.00  0.00           O  \nATOM   2044    C MOL     1      39.017  -3.446  27.687  1.00  0.00           C  \nATOM   2045    C MOL     1      39.418  -1.989  27.280  1.00  0.00           C  \nATOM   2046    O MOL     1      39.945  -1.762  25.999  1.00  0.00           O  \nATOM   2047    C MOL     1      39.334  -2.182  24.755  1.00  0.00           C  \nATOM   2048    C MOL     1      40.368  -2.287  23.675  1.00  0.00           C  \nATOM   2049    O MOL     1      41.058  -3.557  24.121  1.00  0.00           O  \nATOM   2050    C MOL     1      42.322  -3.591  23.540  1.00  0.00           C  \nATOM   2051    C MOL     1      42.475  -3.934  22.095  1.00  0.00           C  \nATOM   2052    O MOL     1      41.932  -2.980  21.175  1.00  0.00           O  \nATOM   2053    C MOL     1      41.671  -3.334  19.802  1.00  0.00           C  \nATOM   2054    C MOL     1      40.219  -3.643  19.565  1.00  0.00           C  \nATOM   2055    O MOL     1      39.838  -4.745  20.394  1.00  0.00           O  \nATOM   2056    C MOL     1      38.646  -5.486  19.818  1.00  0.00           C  \nATOM   2057    C MOL     1      38.882  -6.860  19.469  1.00  0.00           C  \nATOM   2058    O MOL     1      38.578  -7.673  20.608  1.00  0.00           O  \nATOM   2059    C MOL     1      39.443  -8.840  20.779  1.00  0.00           C  \nATOM   2060    C MOL     1      39.221  -9.346  22.168  1.00  0.00           C  \nATOM   2061    O MOL     1      39.868  -8.588  23.172  1.00  0.00           O  \nATOM   2062    C MOL     1      39.246  -7.386  23.573  1.00  0.00           C  \nATOM   2063    C MOL     1      40.237  -6.728  24.469  1.00  0.00           C  \nATOM   2064    H MOL     1      30.544   0.894  26.953  1.00  0.00           H  \nATOM   2065    H MOL     1      28.767   1.292  26.924  1.00  0.00           H  \nATOM   2066    H MOL     1      29.035   2.102  24.455  1.00  0.00           H  \nATOM   2067    H MOL     1      30.179   0.700  24.474  1.00  0.00           H  \nATOM   2068    H MOL     1      26.852   2.160  24.671  1.00  0.00           H  \nATOM   2069    H MOL     1      26.634   1.381  26.214  1.00  0.00           H  \nATOM   2070    H MOL     1      25.803  -0.803  25.094  1.00  0.00           H  \nATOM   2071    H MOL     1      24.954   0.761  25.009  1.00  0.00           H  \nATOM   2072    H MOL     1      24.631  -1.557  22.932  1.00  0.00           H  \nATOM   2073    H MOL     1      24.087   0.110  22.395  1.00  0.00           H  \nATOM   2074    H MOL     1      25.134  -1.058  20.323  1.00  0.00           H  \nATOM   2075    H MOL     1      26.289   0.056  20.976  1.00  0.00           H  \nATOM   2076    H MOL     1      25.631  -3.496  21.335  1.00  0.00           H  \nATOM   2077    H MOL     1      26.270  -2.792  19.856  1.00  0.00           H  \nATOM   2078    H MOL     1      27.320  -4.968  20.281  1.00  0.00           H  \nATOM   2079    H MOL     1      28.412  -3.491  20.782  1.00  0.00           H  \nATOM   2080    H MOL     1      28.452  -2.936  23.059  1.00  0.00           H  \nATOM   2081    H MOL     1      26.831  -3.092  23.623  1.00  0.00           H  \nATOM   2082    H MOL     1      27.555  -3.805  25.559  1.00  0.00           H  \nATOM   2083    H MOL     1      28.155  -5.328  24.775  1.00  0.00           H  \nATOM   2084    H MOL     1      28.801  -2.165  25.577  1.00  0.00           H  \nATOM   2085    H MOL     1      29.664  -2.974  27.068  1.00  0.00           H  \nATOM   2086    H MOL     1      31.007  -1.641  24.646  1.00  0.00           H  \nATOM   2087    H MOL     1      31.135  -1.290  26.343  1.00  0.00           H  \nATOM   2088    H MOL     1      33.958  -3.361  25.097  1.00  0.00           H  \nATOM   2089    H MOL     1      33.482  -1.649  24.710  1.00  0.00           H  \nATOM   2090    H MOL     1      33.651  -2.482  27.531  1.00  0.00           H  \nATOM   2091    H MOL     1      33.738  -0.851  26.746  1.00  0.00           H  \nATOM   2092    H MOL     1      35.223  -2.756  28.576  1.00  0.00           H  \nATOM   2093    H MOL     1      36.765  -1.842  28.029  1.00  0.00           H  \nATOM   2094    H MOL     1      36.854  -4.573  28.548  1.00  0.00           H  \nATOM   2095    H MOL     1      36.211  -4.659  26.992  1.00  0.00           H  \nATOM   2096    H MOL     1      39.860  -4.112  27.648  1.00  0.00           H  \nATOM   2097    H MOL     1      38.862  -3.611  28.810  1.00  0.00           H  \nATOM   2098    H MOL     1      40.242  -1.724  27.928  1.00  0.00           H  \nATOM   2099    H MOL     1      38.613  -1.337  27.405  1.00  0.00           H  \nATOM   2100    H MOL     1      38.666  -3.135  24.853  1.00  0.00           H  \nATOM   2101    H MOL     1      38.583  -1.389  24.382  1.00  0.00           H  \nATOM   2102    H MOL     1      39.899  -2.576  22.663  1.00  0.00           H  \nATOM   2103    H MOL     1      41.007  -1.366  23.418  1.00  0.00           H  \nATOM   2104    H MOL     1      42.939  -4.517  24.057  1.00  0.00           H  \nATOM   2105    H MOL     1      42.847  -2.638  23.707  1.00  0.00           H  \nATOM   2106    H MOL     1      43.625  -4.093  21.925  1.00  0.00           H  \nATOM   2107    H MOL     1      42.044  -4.935  21.855  1.00  0.00           H  \nATOM   2108    H MOL     1      42.116  -4.308  19.624  1.00  0.00           H  \nATOM   2109    H MOL     1      42.061  -2.548  19.089  1.00  0.00           H  \nATOM   2110    H MOL     1      40.036  -3.829  18.536  1.00  0.00           H  \nATOM   2111    H MOL     1      39.576  -2.669  19.750  1.00  0.00           H  \nATOM   2112    H MOL     1      37.978  -5.465  20.657  1.00  0.00           H  \nATOM   2113    H MOL     1      38.176  -4.974  18.985  1.00  0.00           H  \nATOM   2114    H MOL     1      38.420  -7.187  18.502  1.00  0.00           H  \nATOM   2115    H MOL     1      40.008  -6.869  19.365  1.00  0.00           H  \nATOM   2116    H MOL     1      40.547  -8.611  20.721  1.00  0.00           H  \nATOM   2117    H MOL     1      39.343  -9.672  20.057  1.00  0.00           H  \nATOM   2118    H MOL     1      39.482 -10.399  22.305  1.00  0.00           H  \nATOM   2119    H MOL     1      38.124  -9.314  22.146  1.00  0.00           H  \nATOM   2120    H MOL     1      39.107  -6.835  22.699  1.00  0.00           H  \nATOM   2121    H MOL     1      38.292  -7.654  23.993  1.00  0.00           H  \nATOM   2122    H MOL     1      40.004  -5.585  24.692  1.00  0.00           H  \nATOM   2123    H MOL     1      40.471  -7.125  25.438  1.00  0.00           H  \nATOM   2124    H MOL     1      41.278  -6.689  24.112  1.00  0.00           H  \nATOM   2125    O MOL     1       8.337   6.173  46.112  1.00  0.00           O  \nATOM   2126    C MOL     1       8.249   5.067  45.234  1.00  0.00           C  \nATOM   2127    C MOL     1       7.830   5.480  43.734  1.00  0.00           C  \nATOM   2128    O MOL     1       8.944   5.907  42.904  1.00  0.00           O  \nATOM   2129    C MOL     1       9.266   7.261  43.288  1.00  0.00           C  \nATOM   2130    C MOL     1      10.316   7.993  42.387  1.00  0.00           C  \nATOM   2131    O MOL     1       9.601   8.659  41.319  1.00  0.00           O  \nATOM   2132    C MOL     1      10.485   9.569  40.716  1.00  0.00           C  \nATOM   2133    C MOL     1       9.704  10.659  39.862  1.00  0.00           C  \nATOM   2134    O MOL     1       8.392  10.191  39.415  1.00  0.00           O  \nATOM   2135    C MOL     1       8.025  11.085  38.286  1.00  0.00           C  \nATOM   2136    C MOL     1       6.900  10.324  37.494  1.00  0.00           C  \nATOM   2137    O MOL     1       5.760  10.303  38.349  1.00  0.00           O  \nATOM   2138    C MOL     1       4.731   9.438  37.936  1.00  0.00           C  \nATOM   2139    C MOL     1       3.649   9.389  38.987  1.00  0.00           C  \nATOM   2140    O MOL     1       3.877   8.472  40.000  1.00  0.00           O  \nATOM   2141    C MOL     1       5.197   8.690  40.693  1.00  0.00           C  \nATOM   2142    C MOL     1       5.579   7.461  41.528  1.00  0.00           C  \nATOM   2143    O MOL     1       5.177   7.649  43.012  1.00  0.00           O  \nATOM   2144    C MOL     1       3.798   7.339  43.228  1.00  0.00           C  \nATOM   2145    C MOL     1       3.168   5.958  42.692  1.00  0.00           C  \nATOM   2146    O MOL     1       3.973   4.889  42.933  1.00  0.00           O  \nATOM   2147    C MOL     1       3.657   3.668  42.264  1.00  0.00           C  \nATOM   2148    C MOL     1       4.407   2.589  43.025  1.00  0.00           C  \nATOM   2149    O MOL     1       5.822   2.540  42.691  1.00  0.00           O  \nATOM   2150    C MOL     1       6.194   1.984  41.397  1.00  0.00           C  \nATOM   2151    C MOL     1       7.713   1.954  41.351  1.00  0.00           C  \nATOM   2152    O MOL     1       8.288   3.161  40.771  1.00  0.00           O  \nATOM   2153    C MOL     1       8.539   3.014  39.428  1.00  0.00           C  \nATOM   2154    C MOL     1       8.100   4.073  38.541  1.00  0.00           C  \nATOM   2155    O MOL     1       6.734   4.158  38.580  1.00  0.00           O  \nATOM   2156    C MOL     1       6.215   4.368  37.201  1.00  0.00           C  \nATOM   2157    C MOL     1       4.792   4.681  37.441  1.00  0.00           C  \nATOM   2158    O MOL     1       4.070   3.530  37.847  1.00  0.00           O  \nATOM   2159    C MOL     1       2.768   3.385  37.731  1.00  0.00           C  \nATOM   2160    C MOL     1       1.806   4.238  38.542  1.00  0.00           C  \nATOM   2161    O MOL     1       1.792   5.707  38.194  1.00  0.00           O  \nATOM   2162    C MOL     1       0.491   6.291  38.456  1.00  0.00           C  \nATOM   2163    C MOL     1       0.241   6.487  40.028  1.00  0.00           C  \nATOM   2164    O MOL     1      -0.836   7.156  40.413  1.00  0.00           O  \nATOM   2165    C MOL     1      -0.747   8.455  39.996  1.00  0.00           C  \nATOM   2166    C MOL     1      -2.032   9.285  40.185  1.00  0.00           C  \nATOM   2167    O MOL     1      -3.043   8.861  39.354  1.00  0.00           O  \nATOM   2168    C MOL     1      -4.369   8.716  39.891  1.00  0.00           C  \nATOM   2169    C MOL     1      -5.222  10.045  39.648  1.00  0.00           C  \nATOM   2170    H MOL     1       7.374   6.485  46.144  1.00  0.00           H  \nATOM   2171    H MOL     1       9.165   4.501  45.234  1.00  0.00           H  \nATOM   2172    H MOL     1       7.338   4.337  45.574  1.00  0.00           H  \nATOM   2173    H MOL     1       7.499   4.491  43.276  1.00  0.00           H  \nATOM   2174    H MOL     1       7.047   6.258  43.648  1.00  0.00           H  \nATOM   2175    H MOL     1       9.565   7.274  44.378  1.00  0.00           H  \nATOM   2176    H MOL     1       8.395   7.873  43.338  1.00  0.00           H  \nATOM   2177    H MOL     1      10.950   8.712  43.061  1.00  0.00           H  \nATOM   2178    H MOL     1      11.029   7.250  41.959  1.00  0.00           H  \nATOM   2179    H MOL     1      10.839  10.123  41.538  1.00  0.00           H  \nATOM   2180    H MOL     1      11.305   9.090  40.115  1.00  0.00           H  \nATOM   2181    H MOL     1       9.505  11.662  40.416  1.00  0.00           H  \nATOM   2182    H MOL     1      10.473  10.764  38.894  1.00  0.00           H  \nATOM   2183    H MOL     1       7.855  11.993  38.910  1.00  0.00           H  \nATOM   2184    H MOL     1       8.901  11.104  37.598  1.00  0.00           H  \nATOM   2185    H MOL     1       6.636  10.682  36.344  1.00  0.00           H  \nATOM   2186    H MOL     1       7.252   9.271  37.237  1.00  0.00           H  \nATOM   2187    H MOL     1       4.353   9.738  36.890  1.00  0.00           H  \nATOM   2188    H MOL     1       5.136   8.385  37.842  1.00  0.00           H  \nATOM   2189    H MOL     1       3.338  10.473  39.138  1.00  0.00           H  \nATOM   2190    H MOL     1       2.773   8.926  38.404  1.00  0.00           H  \nATOM   2191    H MOL     1       5.949   9.021  40.061  1.00  0.00           H  \nATOM   2192    H MOL     1       5.104   9.637  41.302  1.00  0.00           H  \nATOM   2193    H MOL     1       5.209   6.493  41.080  1.00  0.00           H  \nATOM   2194    H MOL     1       6.707   7.450  41.684  1.00  0.00           H  \nATOM   2195    H MOL     1       3.739   7.410  44.318  1.00  0.00           H  \nATOM   2196    H MOL     1       3.088   8.091  42.849  1.00  0.00           H  \nATOM   2197    H MOL     1       2.978   6.033  41.616  1.00  0.00           H  \nATOM   2198    H MOL     1       2.099   5.906  43.065  1.00  0.00           H  \nATOM   2199    H MOL     1       3.990   3.768  41.169  1.00  0.00           H  \nATOM   2200    H MOL     1       2.593   3.390  42.304  1.00  0.00           H  \nATOM   2201    H MOL     1       4.322   2.655  44.147  1.00  0.00           H  \nATOM   2202    H MOL     1       3.881   1.643  42.798  1.00  0.00           H  \nATOM   2203    H MOL     1       5.704   2.551  40.609  1.00  0.00           H  \nATOM   2204    H MOL     1       5.806   0.921  41.273  1.00  0.00           H  \nATOM   2205    H MOL     1       7.950   1.104  40.680  1.00  0.00           H  \nATOM   2206    H MOL     1       8.275   1.871  42.366  1.00  0.00           H  \nATOM   2207    H MOL     1       9.674   2.953  39.366  1.00  0.00           H  \nATOM   2208    H MOL     1       8.176   2.072  38.950  1.00  0.00           H  \nATOM   2209    H MOL     1       8.539   5.093  38.661  1.00  0.00           H  \nATOM   2210    H MOL     1       8.582   3.842  37.605  1.00  0.00           H  \nATOM   2211    H MOL     1       6.393   3.450  36.692  1.00  0.00           H  \nATOM   2212    H MOL     1       6.651   5.215  36.559  1.00  0.00           H  \nATOM   2213    H MOL     1       4.646   5.480  38.106  1.00  0.00           H  \nATOM   2214    H MOL     1       4.261   5.033  36.513  1.00  0.00           H  \nATOM   2215    H MOL     1       2.533   2.301  37.955  1.00  0.00           H  \nATOM   2216    H MOL     1       2.509   3.579  36.600  1.00  0.00           H  \nATOM   2217    H MOL     1       2.059   4.092  39.559  1.00  0.00           H  \nATOM   2218    H MOL     1       0.833   3.715  38.453  1.00  0.00           H  \nATOM   2219    H MOL     1       0.431   7.069  37.761  1.00  0.00           H  \nATOM   2220    H MOL     1      -0.379   5.620  38.245  1.00  0.00           H  \nATOM   2221    H MOL     1       0.319   5.477  40.560  1.00  0.00           H  \nATOM   2222    H MOL     1       1.288   6.924  40.343  1.00  0.00           H  \nATOM   2223    H MOL     1      -0.578   8.582  38.954  1.00  0.00           H  \nATOM   2224    H MOL     1       0.123   9.023  40.388  1.00  0.00           H  \nATOM   2225    H MOL     1      -1.759  10.285  39.903  1.00  0.00           H  \nATOM   2226    H MOL     1      -2.436   9.212  41.267  1.00  0.00           H  \nATOM   2227    H MOL     1      -4.684   7.828  39.282  1.00  0.00           H  \nATOM   2228    H MOL     1      -4.196   8.239  40.921  1.00  0.00           H  \nATOM   2229    H MOL     1      -5.260  10.166  38.567  1.00  0.00           H  \nATOM   2230    H MOL     1      -6.250   9.795  39.952  1.00  0.00           H  \nATOM   2231    O MOL     1      -4.734  11.291  40.188  1.00  0.00           O  \nATOM   2232    C MOL     1      -4.681  11.367  41.575  1.00  0.00           C  \nATOM   2233    C MOL     1      -5.299  12.726  42.039  1.00  0.00           C  \nATOM   2234    O MOL     1      -4.693  13.932  41.629  1.00  0.00           O  \nATOM   2235    C MOL     1      -3.370  14.192  42.265  1.00  0.00           C  \nATOM   2236    C MOL     1      -3.277  15.474  43.054  1.00  0.00           C  \nATOM   2237    O MOL     1      -3.189  16.610  42.246  1.00  0.00           O  \nATOM   2238    C MOL     1      -4.479  16.913  41.771  1.00  0.00           C  \nATOM   2239    C MOL     1      -5.355  17.870  42.761  1.00  0.00           C  \nATOM   2240    O MOL     1      -6.553  18.290  42.258  1.00  0.00           O  \nATOM   2241    C MOL     1      -6.574  19.140  41.050  1.00  0.00           C  \nATOM   2242    C MOL     1      -8.068  19.488  40.730  1.00  0.00           C  \nATOM   2243    O MOL     1      -8.720  20.048  41.850  1.00  0.00           O  \nATOM   2244    C MOL     1      -9.260  21.335  41.884  1.00  0.00           C  \nATOM   2245    C MOL     1      -9.140  21.682  43.453  1.00  0.00           C  \nATOM   2246    O MOL     1      -9.085  23.122  43.734  1.00  0.00           O  \nATOM   2247    C MOL     1      -7.775  23.722  43.562  1.00  0.00           C  \nATOM   2248    C MOL     1      -7.870  25.160  43.991  1.00  0.00           C  \nATOM   2249    O MOL     1      -6.601  25.720  43.596  1.00  0.00           O  \nATOM   2250    C MOL     1      -6.351  26.997  44.115  1.00  0.00           C  \nATOM   2251    C MOL     1      -6.123  28.117  43.101  1.00  0.00           C  \nATOM   2252    O MOL     1      -5.839  29.345  43.825  1.00  0.00           O  \nATOM   2253    C MOL     1      -6.714  30.460  43.508  1.00  0.00           C  \nATOM   2254    C MOL     1      -7.766  30.515  44.574  1.00  0.00           C  \nATOM   2255    O MOL     1      -8.938  29.889  44.110  1.00  0.00           O  \nATOM   2256    C MOL     1      -9.607  29.019  44.958  1.00  0.00           C  \nATOM   2257    C MOL     1     -10.529  29.396  46.111  1.00  0.00           C  \nATOM   2258    O MOL     1     -11.961  29.487  45.709  1.00  0.00           O  \nATOM   2259    C MOL     1     -12.783  29.698  46.783  1.00  0.00           C  \nATOM   2260    C MOL     1     -14.131  30.159  46.111  1.00  0.00           C  \nATOM   2261    O MOL     1     -15.029  30.351  47.180  1.00  0.00           O  \nATOM   2262    C MOL     1     -15.271  31.647  47.709  1.00  0.00           C  \nATOM   2263    C MOL     1     -15.987  32.654  46.859  1.00  0.00           C  \nATOM   2264    O MOL     1     -15.115  33.151  45.858  1.00  0.00           O  \nATOM   2265    C MOL     1     -14.032  34.010  46.172  1.00  0.00           C  \nATOM   2266    C MOL     1     -14.563  35.342  46.638  1.00  0.00           C  \nATOM   2267    O MOL     1     -14.988  36.440  45.804  1.00  0.00           O  \nATOM   2268    C MOL     1     -15.721  35.957  44.596  1.00  0.00           C  \nATOM   2269    C MOL     1     -17.200  35.579  45.045  1.00  0.00           C  \nATOM   2270    O MOL     1     -17.984  35.026  43.954  1.00  0.00           O  \nATOM   2271    C MOL     1     -18.212  35.929  42.774  1.00  0.00           C  \nATOM   2272    C MOL     1     -18.376  35.042  41.442  1.00  0.00           C  \nATOM   2273    O MOL     1     -17.109  34.588  40.899  1.00  0.00           O  \nATOM   2274    C MOL     1     -16.532  33.338  41.384  1.00  0.00           C  \nATOM   2275    C MOL     1     -15.484  32.965  40.356  1.00  0.00           C  \nATOM   2276    H MOL     1      -5.227  10.494  42.047  1.00  0.00           H  \nATOM   2277    H MOL     1      -3.679  11.415  41.999  1.00  0.00           H  \nATOM   2278    H MOL     1      -6.251  12.813  41.533  1.00  0.00           H  \nATOM   2279    H MOL     1      -5.405  12.667  43.101  1.00  0.00           H  \nATOM   2280    H MOL     1      -2.665  14.151  41.412  1.00  0.00           H  \nATOM   2281    H MOL     1      -3.122  13.354  42.949  1.00  0.00           H  \nATOM   2282    H MOL     1      -4.163  15.481  43.755  1.00  0.00           H  \nATOM   2283    H MOL     1      -2.490  15.366  43.747  1.00  0.00           H  \nATOM   2284    H MOL     1      -4.396  17.354  40.761  1.00  0.00           H  \nATOM   2285    H MOL     1      -5.007  16.020  41.568  1.00  0.00           H  \nATOM   2286    H MOL     1      -5.693  17.284  43.663  1.00  0.00           H  \nATOM   2287    H MOL     1      -4.663  18.756  43.111  1.00  0.00           H  \nATOM   2288    H MOL     1      -5.901  20.014  41.348  1.00  0.00           H  \nATOM   2289    H MOL     1      -6.315  18.570  40.133  1.00  0.00           H  \nATOM   2290    H MOL     1      -8.086  20.085  39.816  1.00  0.00           H  \nATOM   2291    H MOL     1      -8.528  18.550  40.452  1.00  0.00           H  \nATOM   2292    H MOL     1      -8.761  22.151  41.178  1.00  0.00           H  \nATOM   2293    H MOL     1     -10.398  21.364  41.481  1.00  0.00           H  \nATOM   2294    H MOL     1     -10.056  21.263  43.897  1.00  0.00           H  \nATOM   2295    H MOL     1      -8.149  21.210  43.722  1.00  0.00           H  \nATOM   2296    H MOL     1      -7.054  23.225  44.262  1.00  0.00           H  \nATOM   2297    H MOL     1      -7.422  23.494  42.528  1.00  0.00           H  \nATOM   2298    H MOL     1      -8.686  25.740  43.572  1.00  0.00           H  \nATOM   2299    H MOL     1      -8.031  25.246  45.064  1.00  0.00           H  \nATOM   2300    H MOL     1      -7.180  27.199  44.804  1.00  0.00           H  \nATOM   2301    H MOL     1      -5.444  26.806  44.746  1.00  0.00           H  \nATOM   2302    H MOL     1      -7.129  28.163  42.601  1.00  0.00           H  \nATOM   2303    H MOL     1      -5.248  27.833  42.464  1.00  0.00           H  \nATOM   2304    H MOL     1      -7.228  30.400  42.497  1.00  0.00           H  \nATOM   2305    H MOL     1      -6.048  31.384  43.592  1.00  0.00           H  \nATOM   2306    H MOL     1      -7.510  30.003  45.508  1.00  0.00           H  \nATOM   2307    H MOL     1      -7.905  31.560  44.882  1.00  0.00           H  \nATOM   2308    H MOL     1      -8.967  28.264  45.423  1.00  0.00           H  \nATOM   2309    H MOL     1     -10.257  28.463  44.236  1.00  0.00           H  \nATOM   2310    H MOL     1     -10.256  30.360  46.743  1.00  0.00           H  \nATOM   2311    H MOL     1     -10.593  28.677  46.977  1.00  0.00           H  \nATOM   2312    H MOL     1     -12.826  28.832  47.437  1.00  0.00           H  \nATOM   2313    H MOL     1     -12.496  30.615  47.408  1.00  0.00           H  \nATOM   2314    H MOL     1     -13.851  31.107  45.490  1.00  0.00           H  \nATOM   2315    H MOL     1     -14.503  29.369  45.380  1.00  0.00           H  \nATOM   2316    H MOL     1     -14.220  32.015  48.098  1.00  0.00           H  \nATOM   2317    H MOL     1     -15.901  31.468  48.643  1.00  0.00           H  \nATOM   2318    H MOL     1     -17.041  32.374  46.447  1.00  0.00           H  \nATOM   2319    H MOL     1     -16.258  33.451  47.592  1.00  0.00           H  \nATOM   2320    H MOL     1     -13.352  33.887  45.318  1.00  0.00           H  \nATOM   2321    H MOL     1     -13.667  33.772  47.183  1.00  0.00           H  \nATOM   2322    H MOL     1     -13.824  35.772  47.273  1.00  0.00           H  \nATOM   2323    H MOL     1     -15.422  35.079  47.360  1.00  0.00           H  \nATOM   2324    H MOL     1     -15.606  36.866  43.920  1.00  0.00           H  \nATOM   2325    H MOL     1     -15.086  35.221  44.134  1.00  0.00           H  \nATOM   2326    H MOL     1     -17.195  34.692  45.843  1.00  0.00           H  \nATOM   2327    H MOL     1     -17.828  36.435  45.605  1.00  0.00           H  \nATOM   2328    H MOL     1     -17.230  36.618  42.623  1.00  0.00           H  \nATOM   2329    H MOL     1     -19.146  36.430  42.968  1.00  0.00           H  \nATOM   2330    H MOL     1     -18.736  35.846  40.681  1.00  0.00           H  \nATOM   2331    H MOL     1     -19.011  34.129  41.685  1.00  0.00           H  \nATOM   2332    H MOL     1     -16.138  33.446  42.389  1.00  0.00           H  \nATOM   2333    H MOL     1     -17.414  32.685  41.669  1.00  0.00           H  \nATOM   2334    H MOL     1     -15.156  31.939  40.376  1.00  0.00           H  \nATOM   2335    H MOL     1     -15.753  33.172  39.330  1.00  0.00           H  \nATOM   2336    H MOL     1     -14.495  33.416  40.568  1.00  0.00           H  \nENDMDL\n",
           "type": "blob"
          }
         ],
         "kwargs": {
          "defaultRepresentation": false,
          "ext": "pdb"
         },
         "methodName": "loadFile",
         "reconstruc_color_scheme": false,
         "target": "Stage",
         "type": "call_method"
        },
        {
         "args": [
          "500px",
          "500px"
         ],
         "kwargs": {},
         "methodName": "setSize",
         "reconstruc_color_scheme": false,
         "target": "Widget",
         "type": "call_method"
        },
        {
         "args": [
          "unitcell"
         ],
         "component_index": 0,
         "kwargs": {
          "sele": "all"
         },
         "methodName": "addRepresentation",
         "reconstruc_color_scheme": false,
         "target": "compList",
         "type": "call_method"
        },
        {
         "args": [
          "spacefill"
         ],
         "component_index": 0,
         "kwargs": {
          "sele": "all"
         },
         "methodName": "addRepresentation",
         "reconstruc_color_scheme": false,
         "target": "compList",
         "type": "call_method"
        },
        {
         "args": [],
         "kwargs": {
          "cameraType": "orthographic"
         },
         "methodName": "setParameters",
         "reconstruc_color_scheme": false,
         "target": "Stage",
         "type": "call_method"
        },
        {
         "args": [
          {
           "clipDist": 0
          }
         ],
         "kwargs": {},
         "methodName": "setParameters",
         "reconstruc_color_scheme": false,
         "target": "Widget",
         "type": "call_method"
        },
        {
         "args": [
          "spacefill",
          0
         ],
         "kwargs": {
          "colorScale": "rainbow",
          "colorScheme": "element",
          "radiusScale": 0.5,
          "radiusType": "covalent"
         },
         "methodName": "updateRepresentationsByName",
         "reconstruc_color_scheme": false,
         "target": "Widget",
         "type": "call_method"
        },
        {
         "args": [
          "this._Q = [[0.9426736886158911, -0.333715922291923, -4.010598300781195e-07], [0.33371592229180397, 0.9426736886159588, -3.360950253086706e-07], [4.902288107240409e-07, 1.8298788614446203e-07, 0.999999999999863]]\n    var tooltip = document.createElement('div');\n    Object.assign(tooltip.style, {\n      display: 'none',\n      position: 'fixed',\n      zIndex: 10,\n      pointerEvents: 'none',\n      backgroundColor: 'rgba( 0, 0, 0, 0.6 )',\n      color: 'lightgrey',\n      padding: '8px',\n      fontFamily: 'sans-serif'\n    });\n    document.body.appendChild(tooltip);\n\n    var that = this;\n    this.stage.mouseControls.remove('hoverPick');\n    this.stage.signals.hovered.add(function (pickingProxy) {\n      if (pickingProxy && (pickingProxy.atom || pickingProxy.bond)) {\n        var atom = pickingProxy.atom || pickingProxy.closestBondAtom\n        var mp = pickingProxy.mouse.position\n        //tooltip.innerText = atom.element + ' i=' + atom.index + ' (' + atom.x.toFixed(2) +  ', ' + atom.y.toFixed(2) +  ', ' + atom.z.toFixed(2) + ')'\n        //var pos = that._atoms_pos[atom.index]\n        var Q = that._Q\n        var pos_x = Q[0][0] * atom.x + Q[0][1] * atom.y + Q[0][2] * atom.z \n        var pos_y = Q[1][0] * atom.x + Q[1][1] * atom.y + Q[1][2] * atom.z\n        var pos_z = Q[2][0] * atom.x + Q[2][1] * atom.y + Q[2][2] * atom.z\n        tooltip.innerText = 'i=' + atom.index + ' ' + atom.element + ' (' + pos_x.toFixed(2) +  ', ' + pos_y.toFixed(2) +  ', ' + pos_z.toFixed(2) + ')'\n        tooltip.style.bottom = window.innerHeight - mp.y + 3 + 'px'\n        tooltip.style.left = mp.x + 3 + 'px'\n        tooltip.style.display = 'block'\n      } else {\n        tooltip.style.display = 'none'\n      }\n    });\n    this.stage.tooltip = tooltip;\n    "
         ],
         "kwargs": {},
         "methodName": "executeCode",
         "reconstruc_color_scheme": false,
         "target": "Widget",
         "type": "call_method"
        },
        {
         "args": [
          "ball+stick"
         ],
         "component_index": 0,
         "kwargs": {
          "sele": "all"
         },
         "methodName": "addRepresentation",
         "reconstruc_color_scheme": false,
         "target": "compList",
         "type": "call_method"
        },
        {
         "args": [
          [
           1,
           0,
           0
          ],
          -1.5707963267948966
         ],
         "kwargs": {},
         "methodName": "spin",
         "reconstruc_color_scheme": false,
         "target": "viewerControls",
         "type": "call_method"
        },
        {
         "args": [
          "spacefill",
          0
         ],
         "kwargs": {
          "colorScale": "rainbow",
          "colorScheme": "element",
          "radiusScale": 0.5,
          "radiusType": "covalent"
         },
         "methodName": "updateRepresentationsByName",
         "reconstruc_color_scheme": false,
         "target": "Widget",
         "type": "call_method"
        },
        {
         "args": [
          "spacefill",
          0
         ],
         "kwargs": {
          "colorScale": "rainbow",
          "colorScheme": "element",
          "radiusScale": 0.49999999999999994,
          "radiusType": "covalent"
         },
         "methodName": "updateRepresentationsByName",
         "reconstruc_color_scheme": false,
         "target": "Widget",
         "type": "call_method"
        },
        {
         "args": [
          "spacefill",
          0
         ],
         "kwargs": {
          "colorScale": "rainbow",
          "colorScheme": "element",
          "radiusScale": 0.49999999999999994,
          "radiusType": "covalent"
         },
         "methodName": "updateRepresentationsByName",
         "reconstruc_color_scheme": false,
         "target": "Widget",
         "type": "call_method"
        }
       ],
       "_ngl_original_stage_parameters": {
        "ambientColor": 14540253,
        "ambientIntensity": 0.2,
        "backgroundColor": "white",
        "cameraEyeSep": 0.3,
        "cameraFov": 40,
        "cameraType": "perspective",
        "clipDist": 10,
        "clipFar": 100,
        "clipMode": "scene",
        "clipNear": 0,
        "clipScale": "relative",
        "fogFar": 100,
        "fogNear": 50,
        "hoverTimeout": 0,
        "impostor": true,
        "lightColor": 14540253,
        "lightIntensity": 1,
        "mousePreset": "default",
        "panSpeed": 1,
        "quality": "medium",
        "rotateSpeed": 2,
        "sampleLevel": 0,
        "tooltip": true,
        "workerDefault": true,
        "zoomSpeed": 1.2
       },
       "_ngl_repr_dict": {
        "0": {
         "0": {
          "params": {
           "clipCenter": {
            "x": 0,
            "y": 0,
            "z": 0
           },
           "clipNear": 0,
           "clipRadius": 0,
           "colorMode": "hcl",
           "colorReverse": false,
           "colorScale": "",
           "colorScheme": "element",
           "colorValue": "orange",
           "defaultAssembly": "",
           "depthWrite": true,
           "diffuse": 16777215,
           "diffuseInterior": false,
           "disableImpostor": false,
           "disablePicking": false,
           "flatShaded": false,
           "interiorColor": 2236962,
           "interiorDarkening": 0,
           "lazy": false,
           "matrix": {
            "elements": [
             1,
             0,
             0,
             0,
             0,
             1,
             0,
             0,
             0,
             0,
             1,
             0,
             0,
             0,
             0,
             1
            ]
           },
           "metalness": 0,
           "opacity": 1,
           "quality": "medium",
           "radialSegments": 10,
           "radiusData": {},
           "radiusScale": 1,
           "radiusSize": 0.14521982988586513,
           "radiusType": "vdw",
           "roughness": 0.4,
           "sele": "all",
           "side": "double",
           "sphereDetail": 1,
           "useInteriorColor": true,
           "visible": true,
           "wireframe": false
          },
          "type": "unitcell"
         },
         "1": {
          "params": {
           "assembly": "default",
           "clipCenter": {
            "x": 0,
            "y": 0,
            "z": 0
           },
           "clipNear": 0,
           "clipRadius": 0,
           "colorMode": "hcl",
           "colorReverse": false,
           "colorScale": "rainbow",
           "colorScheme": "element",
           "colorValue": 9474192,
           "defaultAssembly": "",
           "depthWrite": true,
           "diffuse": 16777215,
           "diffuseInterior": false,
           "disableImpostor": false,
           "disablePicking": false,
           "flatShaded": false,
           "interiorColor": 2236962,
           "interiorDarkening": 0,
           "lazy": false,
           "matrix": {
            "elements": [
             1,
             0,
             0,
             0,
             0,
             1,
             0,
             0,
             0,
             0,
             1,
             0,
             0,
             0,
             0,
             1
            ]
           },
           "metalness": 0,
           "opacity": 1,
           "quality": "medium",
           "radiusData": {},
           "radiusScale": 0.5,
           "radiusSize": 1,
           "radiusType": "covalent",
           "roughness": 0.4,
           "sele": "all",
           "side": "double",
           "sphereDetail": 1,
           "useInteriorColor": true,
           "visible": true,
           "wireframe": false
          },
          "type": "spacefill"
         },
         "2": {
          "params": {
           "aspectRatio": 2,
           "assembly": "default",
           "bondScale": 0.4,
           "bondSpacing": 1,
           "clipCenter": {
            "x": 0,
            "y": 0,
            "z": 0
           },
           "clipNear": 0,
           "clipRadius": 0,
           "colorMode": "hcl",
           "colorReverse": false,
           "colorScale": "",
           "colorScheme": "element",
           "colorValue": 9474192,
           "cylinderOnly": false,
           "defaultAssembly": "",
           "depthWrite": true,
           "diffuse": 16777215,
           "diffuseInterior": false,
           "disableImpostor": false,
           "disablePicking": false,
           "flatShaded": false,
           "interiorColor": 2236962,
           "interiorDarkening": 0,
           "lazy": false,
           "lineOnly": false,
           "linewidth": 2,
           "matrix": {
            "elements": [
             1,
             0,
             0,
             0,
             0,
             1,
             0,
             0,
             0,
             0,
             1,
             0,
             0,
             0,
             0,
             1
            ]
           },
           "metalness": 0,
           "multipleBond": "off",
           "opacity": 1,
           "openEnded": true,
           "quality": "medium",
           "radialSegments": 10,
           "radiusData": {},
           "radiusScale": 1,
           "radiusSize": 0.15,
           "radiusType": "size",
           "roughness": 0.4,
           "sele": "all",
           "side": "double",
           "sphereDetail": 1,
           "useInteriorColor": true,
           "visible": true,
           "wireframe": false
          },
          "type": "ball+stick"
         }
        }
       },
       "_ngl_serialize": false,
       "_ngl_version": "2.0.0-dev.39",
       "_ngl_view_id": [
        "731A7423-90AA-48CE-86C8-302F6B182708"
       ],
       "_player_dict": {},
       "_scene_position": {},
       "_scene_rotation": {},
       "_synced_model_ids": [],
       "_synced_repr_model_ids": [],
       "_view_height": "",
       "_view_width": "",
       "background": "white",
       "frame": 0,
       "gui_style": null,
       "layout": "IPY_MODEL_dcdf9c161691449d8be3788d4dd1afb9",
       "max_frame": 0,
       "n_components": 1,
       "picked": {}
      }
     },
     "49205811ff574811ac8b7cd5af1d9c9f": {
      "model_module": "@jupyter-widgets/controls",
      "model_module_version": "2.0.0",
      "model_name": "ButtonStyleModel",
      "state": {
       "font_family": null,
       "font_size": null,
       "font_style": null,
       "font_variant": null,
       "font_weight": null,
       "text_color": null,
       "text_decoration": null
      }
     },
     "4bdf40f524ce4516babd59de6dd1c686": {
      "model_module": "@jupyter-widgets/controls",
      "model_module_version": "2.0.0",
      "model_name": "ButtonModel",
      "state": {
       "description": "Download image",
       "layout": "IPY_MODEL_8de3f6394188416e9e88b41764e4e5ff",
       "style": "IPY_MODEL_984a72003a18471facbdc5d7bf3fb374",
       "tooltip": "Download current frame to your local PC"
      }
     },
     "4c0868c8301e486099179a5795d667f2": {
      "model_module": "@jupyter-widgets/controls",
      "model_module_version": "2.0.0",
      "model_name": "SliderStyleModel",
      "state": {
       "description_width": ""
      }
     },
     "4dce678ded4c4bd787482e9dea59a6d6": {
      "model_module": "@jupyter-widgets/base",
      "model_module_version": "2.0.0",
      "model_name": "LayoutModel",
      "state": {}
     },
     "4e6848fd449a4854a78fa7091ccfacec": {
      "model_module": "@jupyter-widgets/controls",
      "model_module_version": "2.0.0",
      "model_name": "TextModel",
      "state": {
       "description": "Filename: ",
       "layout": "IPY_MODEL_c53e316e2c144a61a31003ecbe154e5a",
       "style": "IPY_MODEL_b4ce8267714340fcada9704b3066dda6",
       "value": "screenshot.png"
      }
     },
     "4ecc872d03fb47efbd6fbe4a14414f4e": {
      "model_module": "@jupyter-widgets/base",
      "model_module_version": "2.0.0",
      "model_name": "LayoutModel",
      "state": {}
     },
     "5274a779cfeb41ebb23115062f58feea": {
      "model_module": "@jupyter-widgets/controls",
      "model_module_version": "2.0.0",
      "model_name": "VBoxModel",
      "state": {
       "children": [
        "IPY_MODEL_10ca93f2d07c4cfc8743aefc0cc2d9c3",
        "IPY_MODEL_53ee3b0b994e40388302080ef6168e53",
        "IPY_MODEL_6615cbc454a24db1a625d2bd5c79f16b",
        "IPY_MODEL_70c9b5c02dba4aec81abe216f76772e9",
        "IPY_MODEL_77eb9afa337f40339801420c25c11697",
        "IPY_MODEL_c927c72d3b334fde9047f60cd308cf97",
        "IPY_MODEL_e426a31b3f244b98bb317244b307cfd0",
        "IPY_MODEL_acd4e68f6a0141bf8b6cc715b1a8c11d",
        "IPY_MODEL_2ac77d429ec24a8abc123bfe6ec04ca2",
        "IPY_MODEL_a7646026cc324c568072c65e3415ee57"
       ],
       "layout": "IPY_MODEL_84ad9b2ac7d944bfb0f3ef2f8dec0a33"
      }
     },
     "53ee3b0b994e40388302080ef6168e53": {
      "model_module": "@jupyter-widgets/controls",
      "model_module_version": "2.0.0",
      "model_name": "DropdownModel",
      "state": {
       "_options_labels": [
        " ",
        "picking",
        "random",
        "uniform",
        "atomindex",
        "residueindex",
        "chainindex",
        "modelindex",
        "sstruc",
        "element",
        "resname",
        "bfactor",
        "hydrophobicity",
        "value",
        "volume",
        "occupancy"
       ],
       "description": "Color scheme",
       "index": 9,
       "layout": "IPY_MODEL_6e02591f61824a3b8ccf3084fe43aeed",
       "style": "IPY_MODEL_1c39964d29b74e3484ad110d816edc47"
      }
     },
     "551ab0b9ff65460883ad8a630d5bfb38": {
      "model_module": "@jupyter-widgets/controls",
      "model_module_version": "2.0.0",
      "model_name": "HTMLModel",
      "state": {
       "layout": "IPY_MODEL_ce72875be4c4410c946d8d542ba78ece",
       "style": "IPY_MODEL_d08ff0762ccd4c43b3aef4f83fc51b01",
       "value": " 10001/10001 [00:17&lt;00:00,  4.56it/s]"
      }
     },
     "575c7a577676473cbe6785eb0dff343e": {
      "model_module": "nglview-js-widgets",
      "model_module_version": "3.0.6",
      "model_name": "NGLModel",
      "state": {
       "_camera_orientation": [
        98.56722416850704,
        0,
        0,
        0,
        0,
        98.56722416850704,
        0,
        0,
        0,
        0,
        98.56722416850704,
        0,
        -15.388999938964844,
        0.435499906539917,
        -1.2825000286102295,
        1
       ],
       "_camera_str": "orthographic",
       "_gui_theme": null,
       "_ibtn_fullscreen": "IPY_MODEL_82d04f39d9cf42539f3b1c19c081f361",
       "_igui": null,
       "_iplayer": "IPY_MODEL_472b93c45bb94d0a969a34aa632e5c65",
       "_ngl_color_dict": {},
       "_ngl_coordinate_resource": {},
       "_ngl_full_stage_parameters": {
        "ambientColor": 14540253,
        "ambientIntensity": 0.2,
        "backgroundColor": "white",
        "cameraEyeSep": 0.3,
        "cameraFov": 40,
        "cameraType": "orthographic",
        "clipDist": 0,
        "clipFar": 100,
        "clipMode": "scene",
        "clipNear": 0,
        "clipScale": "relative",
        "fogFar": 100,
        "fogNear": 50,
        "hoverTimeout": 0,
        "impostor": true,
        "lightColor": 14540253,
        "lightIntensity": 1,
        "mousePreset": "default",
        "panSpeed": 1,
        "quality": "medium",
        "rotateSpeed": 2,
        "sampleLevel": 0,
        "tooltip": true,
        "workerDefault": true,
        "zoomSpeed": 1.2
       },
       "_ngl_msg_archive": [
        {
         "args": [
          {
           "binary": false,
           "data": "MODEL     1\nATOM      1    O MOL     1     -15.897   2.331   2.369  1.00  0.00           O  \nATOM      2    C MOL     1     -15.891   1.905   3.738  1.00  0.00           C  \nATOM      3    C MOL     1     -15.890   0.388   3.793  1.00  0.00           C  \nATOM      4    O MOL     1     -14.652  -0.209   3.422  1.00  0.00           O  \nATOM      5    C MOL     1     -14.522  -0.495   2.028  1.00  0.00           C  \nATOM      6    C MOL     1     -13.189  -1.203   1.848  1.00  0.00           C  \nATOM      7    O MOL     1     -13.044  -1.484   0.461  1.00  0.00           O  \nATOM      8    C MOL     1     -11.891  -2.253   0.149  1.00  0.00           C  \nATOM      9    C MOL     1     -10.578  -1.491   0.220  1.00  0.00           C  \nATOM     10    O MOL     1     -10.554  -0.499  -0.795  1.00  0.00           O  \nATOM     11    C MOL     1      -9.395   0.318  -0.730  1.00  0.00           C  \nATOM     12    C MOL     1      -9.517   1.370  -1.828  1.00  0.00           C  \nATOM     13    O MOL     1      -8.448   2.308  -1.811  1.00  0.00           O  \nATOM     14    C MOL     1      -7.217   1.840  -2.365  1.00  0.00           C  \nATOM     15    C MOL     1      -6.140   1.772  -1.288  1.00  0.00           C  \nATOM     16    O MOL     1      -4.915   1.447  -1.938  1.00  0.00           O  \nATOM     17    C MOL     1      -3.793   1.361  -1.060  1.00  0.00           C  \nATOM     18    C MOL     1      -3.702  -0.016  -0.391  1.00  0.00           C  \nATOM     19    O MOL     1      -2.543  -0.112   0.439  1.00  0.00           O  \nATOM     20    C MOL     1      -1.486  -0.902  -0.093  1.00  0.00           C  \nATOM     21    C MOL     1      -0.818  -0.347  -1.351  1.00  0.00           C  \nATOM     22    O MOL     1      -0.336   0.989  -1.243  1.00  0.00           O  \nATOM     23    C MOL     1       0.652   1.212  -0.242  1.00  0.00           C  \nATOM     24    C MOL     1       1.924   0.374  -0.393  1.00  0.00           C  \nATOM     25    O MOL     1       2.507   0.408  -1.689  1.00  0.00           O  \nATOM     26    C MOL     1       3.017   1.686  -2.056  1.00  0.00           C  \nATOM     27    C MOL     1       3.753   1.578  -3.379  1.00  0.00           C  \nATOM     28    O MOL     1       4.962   0.831  -3.296  1.00  0.00           O  \nATOM     29    C MOL     1       4.830  -0.545  -3.656  1.00  0.00           C  \nATOM     30    C MOL     1       6.178  -1.204  -3.383  1.00  0.00           C  \nATOM     31    O MOL     1       6.212  -2.544  -3.882  1.00  0.00           O  \nATOM     32    C MOL     1       5.678  -3.537  -3.007  1.00  0.00           C  \nATOM     33    C MOL     1       6.716  -4.121  -2.065  1.00  0.00           C  \nATOM     34    O MOL     1       6.954  -3.209  -0.991  1.00  0.00           O  \nATOM     35    C MOL     1       8.201  -3.395  -0.328  1.00  0.00           C  \nATOM     36    C MOL     1       9.295  -2.530  -0.970  1.00  0.00           C  \nATOM     37    O MOL     1      10.552  -2.698  -0.312  1.00  0.00           O  \nATOM     38    C MOL     1      10.711  -1.907   0.867  1.00  0.00           C  \nATOM     39    C MOL     1      11.314  -0.532   0.549  1.00  0.00           C  \nATOM     40    O MOL     1      11.425   0.274   1.720  1.00  0.00           O  \nATOM     41    C MOL     1      12.583  -0.005   2.499  1.00  0.00           C  \nATOM     42    C MOL     1      12.542   0.830   3.768  1.00  0.00           C  \nATOM     43    O MOL     1      12.717   2.229   3.557  1.00  0.00           O  \nATOM     44    C MOL     1      14.077   2.637   3.429  1.00  0.00           C  \nATOM     45    C MOL     1      14.723   2.841   4.797  1.00  0.00           C  \nATOM     46    H MOL     1     -15.772   3.294   2.346  1.00  0.00           H  \nATOM     47    H MOL     1     -14.998   2.283   4.268  1.00  0.00           H  \nATOM     48    H MOL     1     -16.792   2.269   4.268  1.00  0.00           H  \nATOM     49    H MOL     1     -16.076   0.084   4.835  1.00  0.00           H  \nATOM     50    H MOL     1     -16.714  -0.006   3.169  1.00  0.00           H  \nATOM     51    H MOL     1     -14.547   0.426   1.424  1.00  0.00           H  \nATOM     52    H MOL     1     -15.346  -1.152   1.692  1.00  0.00           H  \nATOM     53    H MOL     1     -12.379  -0.550   2.222  1.00  0.00           H  \nATOM     54    H MOL     1     -13.171  -2.139   2.440  1.00  0.00           H  \nATOM     55    H MOL     1     -11.820  -3.132   0.821  1.00  0.00           H  \nATOM     56    H MOL     1     -12.043  -2.614  -0.879  1.00  0.00           H  \nATOM     57    H MOL     1     -10.445  -1.023   1.215  1.00  0.00           H  \nATOM     58    H MOL     1      -9.743  -2.210   0.083  1.00  0.00           H  \nATOM     59    H MOL     1      -9.320   0.817   0.256  1.00  0.00           H  \nATOM     60    H MOL     1      -8.480  -0.295  -0.868  1.00  0.00           H  \nATOM     61    H MOL     1      -9.594   0.874  -2.813  1.00  0.00           H  \nATOM     62    H MOL     1     -10.439   1.947  -1.667  1.00  0.00           H  \nATOM     63    H MOL     1      -7.346   0.851  -2.837  1.00  0.00           H  \nATOM     64    H MOL     1      -6.895   2.546  -3.148  1.00  0.00           H  \nATOM     65    H MOL     1      -6.061   2.752  -0.782  1.00  0.00           H  \nATOM     66    H MOL     1      -6.413   1.020  -0.524  1.00  0.00           H  \nATOM     67    H MOL     1      -2.897   1.543  -1.667  1.00  0.00           H  \nATOM     68    H MOL     1      -3.836   2.148  -0.284  1.00  0.00           H  \nATOM     69    H MOL     1      -4.577  -0.185   0.257  1.00  0.00           H  \nATOM     70    H MOL     1      -3.704  -0.803  -1.166  1.00  0.00           H  \nATOM     71    H MOL     1      -0.761  -0.999   0.728  1.00  0.00           H  \nATOM     72    H MOL     1      -1.845  -1.924  -0.335  1.00  0.00           H  \nATOM     73    H MOL     1      -1.534  -0.317  -2.186  1.00  0.00           H  \nATOM     74    H MOL     1      -0.010  -1.043  -1.646  1.00  0.00           H  \nATOM     75    H MOL     1       0.247   1.039   0.773  1.00  0.00           H  \nATOM     76    H MOL     1       0.882   2.284  -0.315  1.00  0.00           H  \nATOM     77    H MOL     1       2.647   0.724   0.372  1.00  0.00           H  \nATOM     78    H MOL     1       1.724  -0.689  -0.194  1.00  0.00           H  \nATOM     79    H MOL     1       3.710   2.056  -1.275  1.00  0.00           H  \nATOM     80    H MOL     1       2.198   2.422  -2.172  1.00  0.00           H  \nATOM     81    H MOL     1       4.027   2.597  -3.698  1.00  0.00           H  \nATOM     82    H MOL     1       3.082   1.150  -4.146  1.00  0.00           H  \nATOM     83    H MOL     1       4.025  -1.022  -3.072  1.00  0.00           H  \nATOM     84    H MOL     1       4.585  -0.638  -4.732  1.00  0.00           H  \nATOM     85    H MOL     1       6.962  -0.654  -3.925  1.00  0.00           H  \nATOM     86    H MOL     1       6.411  -1.171  -2.308  1.00  0.00           H  \nATOM     87    H MOL     1       5.300  -4.344  -3.654  1.00  0.00           H  \nATOM     88    H MOL     1       4.830  -3.145  -2.419  1.00  0.00           H  \nATOM     89    H MOL     1       6.350  -5.086  -1.660  1.00  0.00           H  \nATOM     90    H MOL     1       7.643  -4.317  -2.634  1.00  0.00           H  \nATOM     91    H MOL     1       8.509  -4.456  -0.337  1.00  0.00           H  \nATOM     92    H MOL     1       8.045  -3.100   0.721  1.00  0.00           H  \nATOM     93    H MOL     1       8.969  -1.475  -0.971  1.00  0.00           H  \nATOM     94    H MOL     1       9.450  -2.834  -2.015  1.00  0.00           H  \nATOM     95    H MOL     1       9.754  -1.765   1.399  1.00  0.00           H  \nATOM     96    H MOL     1      11.381  -2.475   1.530  1.00  0.00           H  \nATOM     97    H MOL     1      12.295  -0.657   0.055  1.00  0.00           H  \nATOM     98    H MOL     1      10.656   0.020  -0.139  1.00  0.00           H  \nATOM     99    H MOL     1      13.498   0.207   1.910  1.00  0.00           H  \nATOM    100    H MOL     1      12.625  -1.071   2.797  1.00  0.00           H  \nATOM    101    H MOL     1      13.299   0.433   4.470  1.00  0.00           H  \nATOM    102    H MOL     1      11.553   0.717   4.235  1.00  0.00           H  \nATOM    103    H MOL     1      14.673   1.911   2.849  1.00  0.00           H  \nATOM    104    H MOL     1      14.070   3.585   2.873  1.00  0.00           H  \nATOM    105    H MOL     1      14.185   3.629   5.359  1.00  0.00           H  \nATOM    106    H MOL     1      14.657   1.906   5.384  1.00  0.00           H  \nATOM    107    O MOL     1      16.078   3.217   4.581  1.00  0.00           O  \nATOM    108    C MOL     1      16.860   3.271   5.772  1.00  0.00           C  \nATOM    109    C MOL     1      17.275   1.911   6.332  1.00  0.00           C  \nATOM    110    O MOL     1      18.211   1.203   5.530  1.00  0.00           O  \nATOM    111    C MOL     1      17.641   0.519   4.412  1.00  0.00           C  \nATOM    112    C MOL     1      18.740  -0.349   3.823  1.00  0.00           C  \nATOM    113    O MOL     1      18.245  -0.894   2.607  1.00  0.00           O  \nATOM    114    C MOL     1      19.081  -1.897   2.044  1.00  0.00           C  \nATOM    115    C MOL     1      20.446  -1.410   1.587  1.00  0.00           C  \nATOM    116    O MOL     1      20.292  -0.474   0.531  1.00  0.00           O  \nATOM    117    C MOL     1      21.489   0.241   0.259  1.00  0.00           C  \nATOM    118    C MOL     1      21.193   1.204  -0.889  1.00  0.00           C  \nATOM    119    O MOL     1      22.216   2.171  -1.090  1.00  0.00           O  \nATOM    120    C MOL     1      23.418   1.678  -1.684  1.00  0.00           C  \nATOM    121    C MOL     1      24.541   1.603  -0.655  1.00  0.00           C  \nATOM    122    O MOL     1      25.733   1.251  -1.350  1.00  0.00           O  \nATOM    123    C MOL     1      26.872   1.103  -0.503  1.00  0.00           C  \nATOM    124    C MOL     1      26.956  -0.316   0.074  1.00  0.00           C  \nATOM    125    O MOL     1      28.071  -0.458   0.955  1.00  0.00           O  \nATOM    126    C MOL     1      29.179  -1.173   0.422  1.00  0.00           C  \nATOM    127    C MOL     1      29.904  -0.492  -0.739  1.00  0.00           C  \nATOM    128    O MOL     1      30.298   0.857  -0.503  1.00  0.00           O  \nATOM    129    C MOL     1      31.146   1.067   0.622  1.00  0.00           C  \nATOM    130    C MOL     1      32.461   0.285   0.596  1.00  0.00           C  \nATOM    131    O MOL     1      33.200   0.400  -0.612  1.00  0.00           O  \nATOM    132    C MOL     1      33.686   1.716  -0.865  1.00  0.00           C  \nATOM    133    C MOL     1      34.659   1.680  -2.030  1.00  0.00           C  \nATOM    134    O MOL     1      35.870   0.994  -1.730  1.00  0.00           O  \nATOM    135    C MOL     1      35.875  -0.379  -2.126  1.00  0.00           C  \nATOM    136    C MOL     1      37.152  -1.007  -1.579  1.00  0.00           C  \nATOM    137    O MOL     1      37.301  -2.349  -2.050  1.00  0.00           O  \nATOM    138    C MOL     1      36.616  -3.340  -1.281  1.00  0.00           C  \nATOM    139    C MOL     1      37.534  -4.029  -0.289  1.00  0.00           C  \nATOM    140    O MOL     1      37.817  -3.150   0.802  1.00  0.00           O  \nATOM    141    C MOL     1      39.117  -3.308   1.365  1.00  0.00           C  \nATOM    142    C MOL     1      40.139  -2.436   0.625  1.00  0.00           C  \nATOM    143    O MOL     1      41.456  -2.608   1.153  1.00  0.00           O  \nATOM    144    C MOL     1      41.767  -1.757   2.258  1.00  0.00           C  \nATOM    145    C MOL     1      42.268  -0.387   1.781  1.00  0.00           C  \nATOM    146    O MOL     1      42.600   0.473   2.867  1.00  0.00           O  \nATOM    147    C MOL     1      43.904   0.260   3.394  1.00  0.00           C  \nATOM    148    C MOL     1      44.194   1.329   4.437  1.00  0.00           C  \nATOM    149    O MOL     1      44.321   2.640   3.899  1.00  0.00           O  \nATOM    150    C MOL     1      45.620   2.944   3.382  1.00  0.00           C  \nATOM    151    C MOL     1      46.609   3.358   4.467  1.00  0.00           C  \nATOM    152    H MOL     1      17.764   3.839   5.509  1.00  0.00           H  \nATOM    153    H MOL     1      16.318   3.828   6.563  1.00  0.00           H  \nATOM    154    H MOL     1      17.777   2.086   7.297  1.00  0.00           H  \nATOM    155    H MOL     1      16.389   1.277   6.531  1.00  0.00           H  \nATOM    156    H MOL     1      17.278   1.227   3.650  1.00  0.00           H  \nATOM    157    H MOL     1      16.786  -0.105   4.739  1.00  0.00           H  \nATOM    158    H MOL     1      19.632   0.280   3.656  1.00  0.00           H  \nATOM    159    H MOL     1      19.019  -1.155   4.530  1.00  0.00           H  \nATOM    160    H MOL     1      19.239  -2.720   2.771  1.00  0.00           H  \nATOM    161    H MOL     1      18.524  -2.294   1.184  1.00  0.00           H  \nATOM    162    H MOL     1      20.997  -0.946   2.428  1.00  0.00           H  \nATOM    163    H MOL     1      21.042  -2.285   1.253  1.00  0.00           H  \nATOM    164    H MOL     1      21.808   0.817   1.150  1.00  0.00           H  \nATOM    165    H MOL     1      22.308  -0.459  -0.002  1.00  0.00           H  \nATOM    166    H MOL     1      21.000   0.637  -1.818  1.00  0.00           H  \nATOM    167    H MOL     1      20.284   1.768  -0.639  1.00  0.00           H  \nATOM    168    H MOL     1      23.255   0.689  -2.147  1.00  0.00           H  \nATOM    169    H MOL     1      23.713   2.378  -2.481  1.00  0.00           H  \nATOM    170    H MOL     1      24.656   2.589  -0.166  1.00  0.00           H  \nATOM    171    H MOL     1      24.294   0.866   0.132  1.00  0.00           H  \nATOM    172    H MOL     1      27.758   1.321  -1.113  1.00  0.00           H  \nATOM    173    H MOL     1      26.850   1.836   0.324  1.00  0.00           H  \nATOM    174    H MOL     1      26.050  -0.536   0.663  1.00  0.00           H  \nATOM    175    H MOL     1      27.003  -1.050  -0.750  1.00  0.00           H  \nATOM    176    H MOL     1      29.856  -1.324   1.276  1.00  0.00           H  \nATOM    177    H MOL     1      28.866  -2.178   0.072  1.00  0.00           H  \nATOM    178    H MOL     1      29.252  -0.439  -1.624  1.00  0.00           H  \nATOM    179    H MOL     1      30.772  -1.121  -1.014  1.00  0.00           H  \nATOM    180    H MOL     1      30.626   0.832   1.570  1.00  0.00           H  \nATOM    181    H MOL     1      31.340   2.150   0.623  1.00  0.00           H  \nATOM    182    H MOL     1      33.068   0.625   1.460  1.00  0.00           H  \nATOM    183    H MOL     1      32.284  -0.793   0.724  1.00  0.00           H  \nATOM    184    H MOL     1      34.201   2.108   0.033  1.00  0.00           H  \nATOM    185    H MOL     1      32.855   2.403  -1.120  1.00  0.00           H  \nATOM    186    H MOL     1      34.930   2.719  -2.278  1.00  0.00           H  \nATOM    187    H MOL     1      34.167   1.236  -2.914  1.00  0.00           H  \nATOM    188    H MOL     1      34.982  -0.896  -1.736  1.00  0.00           H  \nATOM    189    H MOL     1      35.872  -0.459  -3.231  1.00  0.00           H  \nATOM    190    H MOL     1      38.023  -0.448  -1.951  1.00  0.00           H  \nATOM    191    H MOL     1      37.159  -0.968  -0.478  1.00  0.00           H  \nATOM    192    H MOL     1      36.234  -4.093  -1.989  1.00  0.00           H  \nATOM    193    H MOL     1      35.752  -2.906  -0.749  1.00  0.00           H  \nATOM    194    H MOL     1      37.047  -4.950   0.091  1.00  0.00           H  \nATOM    195    H MOL     1      38.462  -4.324  -0.810  1.00  0.00           H  \nATOM    196    H MOL     1      39.442  -4.363   1.343  1.00  0.00           H  \nATOM    197    H MOL     1      39.039  -3.001   2.419  1.00  0.00           H  \nATOM    198    H MOL     1      39.814  -1.381   0.665  1.00  0.00           H  \nATOM    199    H MOL     1      40.184  -2.729  -0.435  1.00  0.00           H  \nATOM    200    H MOL     1      40.900  -1.621   2.927  1.00  0.00           H  \nATOM    201    H MOL     1      42.553  -2.274   2.828  1.00  0.00           H  \nATOM    202    H MOL     1      43.133  -0.527   1.106  1.00  0.00           H  \nATOM    203    H MOL     1      41.477   0.130   1.217  1.00  0.00           H  \nATOM    204    H MOL     1      44.652   0.291   2.577  1.00  0.00           H  \nATOM    205    H MOL     1      43.990  -0.732   3.882  1.00  0.00           H  \nATOM    206    H MOL     1      45.099   1.035   5.001  1.00  0.00           H  \nATOM    207    H MOL     1      43.353   1.369   5.145  1.00  0.00           H  \nATOM    208    H MOL     1      46.017   2.091   2.801  1.00  0.00           H  \nATOM    209    H MOL     1      45.462   3.772   2.676  1.00  0.00           H  \nATOM    210    H MOL     1      46.220   4.215   5.032  1.00  0.00           H  \nATOM    211    H MOL     1      46.808   2.540   5.174  1.00  0.00           H  \nATOM    212    H MOL     1      47.570   3.646   4.015  1.00  0.00           H  \nENDMDL\n",
           "type": "blob"
          }
         ],
         "kwargs": {
          "defaultRepresentation": false,
          "ext": "pdb"
         },
         "methodName": "loadFile",
         "reconstruc_color_scheme": false,
         "target": "Stage",
         "type": "call_method"
        },
        {
         "args": [
          "500px",
          "500px"
         ],
         "kwargs": {},
         "methodName": "setSize",
         "reconstruc_color_scheme": false,
         "target": "Widget",
         "type": "call_method"
        },
        {
         "args": [
          "unitcell"
         ],
         "component_index": 0,
         "kwargs": {
          "sele": "all"
         },
         "methodName": "addRepresentation",
         "reconstruc_color_scheme": false,
         "target": "compList",
         "type": "call_method"
        },
        {
         "args": [
          "spacefill"
         ],
         "component_index": 0,
         "kwargs": {
          "sele": "all"
         },
         "methodName": "addRepresentation",
         "reconstruc_color_scheme": false,
         "target": "compList",
         "type": "call_method"
        },
        {
         "args": [],
         "kwargs": {
          "cameraType": "orthographic"
         },
         "methodName": "setParameters",
         "reconstruc_color_scheme": false,
         "target": "Stage",
         "type": "call_method"
        },
        {
         "args": [
          {
           "clipDist": 0
          }
         ],
         "kwargs": {},
         "methodName": "setParameters",
         "reconstruc_color_scheme": false,
         "target": "Widget",
         "type": "call_method"
        },
        {
         "args": [
          "spacefill",
          0
         ],
         "kwargs": {
          "colorScale": "rainbow",
          "colorScheme": "element",
          "radiusScale": 0.5,
          "radiusType": "covalent"
         },
         "methodName": "updateRepresentationsByName",
         "reconstruc_color_scheme": false,
         "target": "Widget",
         "type": "call_method"
        },
        {
         "args": [
          "this._Q = [[1.0, 0.0, 0.0], [0.0, 1.0, 0.0], [0.0, 0.0, 1.0]]\n    var tooltip = document.createElement('div');\n    Object.assign(tooltip.style, {\n      display: 'none',\n      position: 'fixed',\n      zIndex: 10,\n      pointerEvents: 'none',\n      backgroundColor: 'rgba( 0, 0, 0, 0.6 )',\n      color: 'lightgrey',\n      padding: '8px',\n      fontFamily: 'sans-serif'\n    });\n    document.body.appendChild(tooltip);\n\n    var that = this;\n    this.stage.mouseControls.remove('hoverPick');\n    this.stage.signals.hovered.add(function (pickingProxy) {\n      if (pickingProxy && (pickingProxy.atom || pickingProxy.bond)) {\n        var atom = pickingProxy.atom || pickingProxy.closestBondAtom\n        var mp = pickingProxy.mouse.position\n        //tooltip.innerText = atom.element + ' i=' + atom.index + ' (' + atom.x.toFixed(2) +  ', ' + atom.y.toFixed(2) +  ', ' + atom.z.toFixed(2) + ')'\n        //var pos = that._atoms_pos[atom.index]\n        var Q = that._Q\n        var pos_x = Q[0][0] * atom.x + Q[0][1] * atom.y + Q[0][2] * atom.z \n        var pos_y = Q[1][0] * atom.x + Q[1][1] * atom.y + Q[1][2] * atom.z\n        var pos_z = Q[2][0] * atom.x + Q[2][1] * atom.y + Q[2][2] * atom.z\n        tooltip.innerText = 'i=' + atom.index + ' ' + atom.element + ' (' + pos_x.toFixed(2) +  ', ' + pos_y.toFixed(2) +  ', ' + pos_z.toFixed(2) + ')'\n        tooltip.style.bottom = window.innerHeight - mp.y + 3 + 'px'\n        tooltip.style.left = mp.x + 3 + 'px'\n        tooltip.style.display = 'block'\n      } else {\n        tooltip.style.display = 'none'\n      }\n    });\n    this.stage.tooltip = tooltip;\n    "
         ],
         "kwargs": {},
         "methodName": "executeCode",
         "reconstruc_color_scheme": false,
         "target": "Widget",
         "type": "call_method"
        },
        {
         "args": [
          "spacefill",
          0
         ],
         "kwargs": {
          "colorScale": "rainbow",
          "colorScheme": "element",
          "radiusScale": 0.5,
          "radiusType": "covalent"
         },
         "methodName": "updateRepresentationsByName",
         "reconstruc_color_scheme": false,
         "target": "Widget",
         "type": "call_method"
        },
        {
         "args": [
          "spacefill",
          0
         ],
         "kwargs": {
          "colorScale": "rainbow",
          "colorScheme": "element",
          "radiusScale": 0.49999999999999994,
          "radiusType": "covalent"
         },
         "methodName": "updateRepresentationsByName",
         "reconstruc_color_scheme": false,
         "target": "Widget",
         "type": "call_method"
        },
        {
         "args": [
          "spacefill",
          0
         ],
         "kwargs": {
          "colorScale": "rainbow",
          "colorScheme": "element",
          "radiusScale": 0.49999999999999994,
          "radiusType": "covalent"
         },
         "methodName": "updateRepresentationsByName",
         "reconstruc_color_scheme": false,
         "target": "Widget",
         "type": "call_method"
        }
       ],
       "_ngl_original_stage_parameters": {
        "ambientColor": 14540253,
        "ambientIntensity": 0.2,
        "backgroundColor": "white",
        "cameraEyeSep": 0.3,
        "cameraFov": 40,
        "cameraType": "perspective",
        "clipDist": 10,
        "clipFar": 100,
        "clipMode": "scene",
        "clipNear": 0,
        "clipScale": "relative",
        "fogFar": 100,
        "fogNear": 50,
        "hoverTimeout": 0,
        "impostor": true,
        "lightColor": 14540253,
        "lightIntensity": 1,
        "mousePreset": "default",
        "panSpeed": 1,
        "quality": "medium",
        "rotateSpeed": 2,
        "sampleLevel": 0,
        "tooltip": true,
        "workerDefault": true,
        "zoomSpeed": 1.2
       },
       "_ngl_repr_dict": {
        "0": {
         "0": {
          "params": {
           "clipCenter": {
            "x": 0,
            "y": 0,
            "z": 0
           },
           "clipNear": 0,
           "clipRadius": 0,
           "colorMode": "hcl",
           "colorReverse": false,
           "colorScale": "",
           "colorScheme": "element",
           "colorValue": "orange",
           "defaultAssembly": "",
           "depthWrite": true,
           "diffuse": 16777215,
           "diffuseInterior": false,
           "disableImpostor": false,
           "disablePicking": false,
           "flatShaded": false,
           "interiorColor": 2236962,
           "interiorDarkening": 0,
           "lazy": false,
           "matrix": {
            "elements": [
             1,
             0,
             0,
             0,
             0,
             1,
             0,
             0,
             0,
             0,
             1,
             0,
             0,
             0,
             0,
             1
            ]
           },
           "metalness": 0,
           "opacity": 1,
           "quality": "medium",
           "radialSegments": 10,
           "radiusData": {},
           "radiusScale": 1,
           "radiusSize": 0.5,
           "radiusType": "vdw",
           "roughness": 0.4,
           "sele": "all",
           "side": "double",
           "sphereDetail": 1,
           "useInteriorColor": true,
           "visible": true,
           "wireframe": false
          },
          "type": "unitcell"
         },
         "1": {
          "params": {
           "assembly": "default",
           "clipCenter": {
            "x": 0,
            "y": 0,
            "z": 0
           },
           "clipNear": 0,
           "clipRadius": 0,
           "colorMode": "hcl",
           "colorReverse": false,
           "colorScale": "rainbow",
           "colorScheme": "element",
           "colorValue": 9474192,
           "defaultAssembly": "",
           "depthWrite": true,
           "diffuse": 16777215,
           "diffuseInterior": false,
           "disableImpostor": false,
           "disablePicking": false,
           "flatShaded": false,
           "interiorColor": 2236962,
           "interiorDarkening": 0,
           "lazy": false,
           "matrix": {
            "elements": [
             1,
             0,
             0,
             0,
             0,
             1,
             0,
             0,
             0,
             0,
             1,
             0,
             0,
             0,
             0,
             1
            ]
           },
           "metalness": 0,
           "opacity": 1,
           "quality": "medium",
           "radiusData": {},
           "radiusScale": 0.5,
           "radiusSize": 1,
           "radiusType": "covalent",
           "roughness": 0.4,
           "sele": "all",
           "side": "double",
           "sphereDetail": 1,
           "useInteriorColor": true,
           "visible": true,
           "wireframe": false
          },
          "type": "spacefill"
         }
        }
       },
       "_ngl_serialize": false,
       "_ngl_version": "2.0.0-dev.39",
       "_ngl_view_id": [
        "1E8BCBDE-EB89-4936-9DA2-60475B153A20"
       ],
       "_player_dict": {},
       "_scene_position": {},
       "_scene_rotation": {},
       "_synced_model_ids": [],
       "_synced_repr_model_ids": [],
       "_view_height": "",
       "_view_width": "",
       "background": "white",
       "frame": 0,
       "gui_style": null,
       "layout": "IPY_MODEL_bea3fe54da2b4d33b3b1498852297272",
       "max_frame": 0,
       "n_components": 1,
       "picked": {}
      }
     },
     "57ff51fd315a438d98ecab86f28ac8fe": {
      "model_module": "@jupyter-widgets/base",
      "model_module_version": "2.0.0",
      "model_name": "LayoutModel",
      "state": {}
     },
     "59f92e719f5849f5994ad02bc93e6f71": {
      "model_module": "@jupyter-widgets/base",
      "model_module_version": "2.0.0",
      "model_name": "LayoutModel",
      "state": {}
     },
     "5a532e26605940e1bf330f896481d9c0": {
      "model_module": "@jupyter-widgets/controls",
      "model_module_version": "2.0.0",
      "model_name": "PlayModel",
      "state": {
       "layout": "IPY_MODEL_7f131dba3c2e4cafb52c0ca290e2df1c",
       "max": 0,
       "style": "IPY_MODEL_f1d4b9b49e9e4a12b8574eb86e344d19"
      }
     },
     "5ac35f63edf741b6832769aebb879ab2": {
      "model_module": "@jupyter-widgets/controls",
      "model_module_version": "2.0.0",
      "model_name": "HTMLModel",
      "state": {
       "layout": "IPY_MODEL_183a283cd327406eb320f1d5c99abdcf",
       "style": "IPY_MODEL_fa4aed0f1be5453392846e5fe9f5d953",
       "value": "100%"
      }
     },
     "5b70e485e645422b98b6b74b0fe8de12": {
      "model_module": "@jupyter-widgets/controls",
      "model_module_version": "2.0.0",
      "model_name": "ButtonStyleModel",
      "state": {
       "font_family": null,
       "font_size": null,
       "font_style": null,
       "font_variant": null,
       "font_weight": null,
       "text_color": null,
       "text_decoration": null
      }
     },
     "5c11c4729210422bb97c6bcd83270102": {
      "model_module": "@jupyter-widgets/base",
      "model_module_version": "2.0.0",
      "model_name": "LayoutModel",
      "state": {}
     },
     "5d7cd70aa80c4a88be6ff6e71cf2c837": {
      "model_module": "@jupyter-widgets/controls",
      "model_module_version": "2.0.0",
      "model_name": "SliderStyleModel",
      "state": {
       "description_width": ""
      }
     },
     "5dad6461c8524f97a545cb5e0beac067": {
      "model_module": "@jupyter-widgets/base",
      "model_module_version": "2.0.0",
      "model_name": "LayoutModel",
      "state": {}
     },
     "5daf7adf895147d19382481ddb910279": {
      "model_module": "@jupyter-widgets/base",
      "model_module_version": "2.0.0",
      "model_name": "LayoutModel",
      "state": {}
     },
     "5dffb611f35446fa947e29fb11a0a239": {
      "model_module": "@jupyter-widgets/controls",
      "model_module_version": "2.0.0",
      "model_name": "LinkModel",
      "state": {
       "source": [
        "IPY_MODEL_e492c20cfe564ed8b18c8fa5f3c952d9",
        "value"
       ],
       "target": [
        "IPY_MODEL_1e646d182162411dbc4cc02dff36165e",
        "frame"
       ]
      }
     },
     "5e57383cf54b42c39341b33d5ad8f902": {
      "model_module": "nglview-js-widgets",
      "model_module_version": "3.0.6",
      "model_name": "NGLModel",
      "state": {
       "_camera_orientation": [
        766.3035923399349,
        0,
        0,
        0,
        0,
        766.3035923399349,
        0,
        0,
        0,
        0,
        766.3035923399349,
        0,
        -15.469999313354492,
        -5.694999694824219,
        -257.9534912109375,
        1
       ],
       "_camera_str": "orthographic",
       "_gui_theme": null,
       "_ibtn_fullscreen": "IPY_MODEL_23212b8f88054b1a890143bbe3a867d8",
       "_igui": null,
       "_iplayer": "IPY_MODEL_35fdb2865536426e93aaf2f171e3d6bb",
       "_ngl_color_dict": {},
       "_ngl_coordinate_resource": {},
       "_ngl_full_stage_parameters": {
        "ambientColor": 14540253,
        "ambientIntensity": 0.2,
        "backgroundColor": "white",
        "cameraEyeSep": 0.3,
        "cameraFov": 40,
        "cameraType": "orthographic",
        "clipDist": 0,
        "clipFar": 100,
        "clipMode": "scene",
        "clipNear": 0,
        "clipScale": "relative",
        "fogFar": 100,
        "fogNear": 50,
        "hoverTimeout": 0,
        "impostor": true,
        "lightColor": 14540253,
        "lightIntensity": 1,
        "mousePreset": "default",
        "panSpeed": 1,
        "quality": "medium",
        "rotateSpeed": 2,
        "sampleLevel": 0,
        "tooltip": true,
        "workerDefault": true,
        "zoomSpeed": 1.2
       },
       "_ngl_msg_archive": [
        {
         "args": [
          {
           "binary": false,
           "data": "CRYST1   19.450   19.450  517.891  90.00  90.00 109.49 P 1\nMODEL     1\nATOM      1   Fe MOL     1      -0.002  -0.001 507.918  1.00  0.00          FE  \nATOM      2   Fe MOL     1       0.808   1.145 509.919  1.00  0.00          FE  \nATOM      3   Fe MOL     1      -0.002  -0.001 511.926  1.00  0.00          FE  \nATOM      4   Fe MOL     1       0.808   1.145 513.919  1.00  0.00          FE  \nATOM      5   Fe MOL     1      -0.002  -0.001 515.907  1.00  0.00          FE  \nATOM      6   Fe MOL     1       0.810   1.146  -0.000  1.00  0.00          FE  \nATOM      7   Fe MOL     1      -0.000  -0.000   1.985  1.00  0.00          FE  \nATOM      8   Fe MOL     1       0.810   1.146   3.978  1.00  0.00          FE  \nATOM      9   Fe MOL     1      -0.000  -0.000   5.985  1.00  0.00          FE  \nATOM     10   Fe MOL     1       0.810   1.146   7.985  1.00  0.00          FE  \nATOM     11   Fe MOL     1      -0.813   2.291 507.918  1.00  0.00          FE  \nATOM     12   Fe MOL     1      -0.003   3.437 509.919  1.00  0.00          FE  \nATOM     13   Fe MOL     1      -0.813   2.291 511.926  1.00  0.00          FE  \nATOM     14   Fe MOL     1      -0.003   3.437 513.919  1.00  0.00          FE  \nATOM     15   Fe MOL     1      -0.813   2.291 515.907  1.00  0.00          FE  \nATOM     16   Fe MOL     1      -0.001   3.438  -0.000  1.00  0.00          FE  \nATOM     17   Fe MOL     1      -0.811   2.292   1.985  1.00  0.00          FE  \nATOM     18   Fe MOL     1      -0.001   3.438   3.978  1.00  0.00          FE  \nATOM     19   Fe MOL     1      -0.811   2.292   5.985  1.00  0.00          FE  \nATOM     20   Fe MOL     1      -0.001   3.438   7.985  1.00  0.00          FE  \nATOM     21   Fe MOL     1      -1.624   4.582 507.918  1.00  0.00          FE  \nATOM     22   Fe MOL     1      -0.814   5.728 509.919  1.00  0.00          FE  \nATOM     23   Fe MOL     1      -1.624   4.582 511.926  1.00  0.00          FE  \nATOM     24   Fe MOL     1      -0.814   5.728 513.919  1.00  0.00          FE  \nATOM     25   Fe MOL     1      -1.624   4.582 515.907  1.00  0.00          FE  \nATOM     26   Fe MOL     1      -0.813   5.730  -0.000  1.00  0.00          FE  \nATOM     27   Fe MOL     1      -1.623   4.584   1.985  1.00  0.00          FE  \nATOM     28   Fe MOL     1      -0.813   5.730   3.978  1.00  0.00          FE  \nATOM     29   Fe MOL     1      -1.623   4.584   5.985  1.00  0.00          FE  \nATOM     30   Fe MOL     1      -0.813   5.730   7.985  1.00  0.00          FE  \nATOM     31   Fe MOL     1      -2.436   6.874 507.918  1.00  0.00          FE  \nATOM     32   Fe MOL     1      -1.626   8.020 509.919  1.00  0.00          FE  \nATOM     33   Fe MOL     1      -2.436   6.874 511.926  1.00  0.00          FE  \nATOM     34   Fe MOL     1      -1.626   8.020 513.919  1.00  0.00          FE  \nATOM     35   Fe MOL     1      -2.436   6.874 515.907  1.00  0.00          FE  \nATOM     36   Fe MOL     1      -1.624   8.022  -0.000  1.00  0.00          FE  \nATOM     37   Fe MOL     1      -2.434   6.876   1.985  1.00  0.00          FE  \nATOM     38   Fe MOL     1      -1.624   8.022   3.978  1.00  0.00          FE  \nATOM     39   Fe MOL     1      -2.434   6.876   5.985  1.00  0.00          FE  \nATOM     40   Fe MOL     1      -1.624   8.022   7.985  1.00  0.00          FE  \nATOM     41   Fe MOL     1      -3.247   9.166 507.918  1.00  0.00          FE  \nATOM     42   Fe MOL     1      -2.437  10.312 509.919  1.00  0.00          FE  \nATOM     43   Fe MOL     1      -3.247   9.166 511.926  1.00  0.00          FE  \nATOM     44   Fe MOL     1      -2.437  10.312 513.919  1.00  0.00          FE  \nATOM     45   Fe MOL     1      -3.247   9.166 515.907  1.00  0.00          FE  \nATOM     46   Fe MOL     1      -2.435  10.313  -0.000  1.00  0.00          FE  \nATOM     47   Fe MOL     1      -3.245   9.167   1.985  1.00  0.00          FE  \nATOM     48   Fe MOL     1      -2.435  10.313   3.978  1.00  0.00          FE  \nATOM     49   Fe MOL     1      -3.245   9.167   5.985  1.00  0.00          FE  \nATOM     50   Fe MOL     1      -2.435  10.313   7.985  1.00  0.00          FE  \nATOM     51   Fe MOL     1      -4.058  11.458 507.918  1.00  0.00          FE  \nATOM     52   Fe MOL     1      -3.248  12.604 509.919  1.00  0.00          FE  \nATOM     53   Fe MOL     1      -4.058  11.458 511.926  1.00  0.00          FE  \nATOM     54   Fe MOL     1      -3.248  12.604 513.919  1.00  0.00          FE  \nATOM     55   Fe MOL     1      -4.058  11.458 515.907  1.00  0.00          FE  \nATOM     56   Fe MOL     1      -3.247  12.605  -0.000  1.00  0.00          FE  \nATOM     57   Fe MOL     1      -4.057  11.459   1.985  1.00  0.00          FE  \nATOM     58   Fe MOL     1      -3.247  12.605   3.978  1.00  0.00          FE  \nATOM     59   Fe MOL     1      -4.057  11.459   5.985  1.00  0.00          FE  \nATOM     60   Fe MOL     1      -3.247  12.605   7.985  1.00  0.00          FE  \nATOM     61   Fe MOL     1      -4.870  13.750 507.918  1.00  0.00          FE  \nATOM     62   Fe MOL     1      -4.060  14.896 509.919  1.00  0.00          FE  \nATOM     63   Fe MOL     1      -4.870  13.750 511.926  1.00  0.00          FE  \nATOM     64   Fe MOL     1      -4.060  14.896 513.919  1.00  0.00          FE  \nATOM     65   Fe MOL     1      -4.870  13.750 515.907  1.00  0.00          FE  \nATOM     66   Fe MOL     1      -4.058  14.897  -0.000  1.00  0.00          FE  \nATOM     67   Fe MOL     1      -4.868  13.751   1.985  1.00  0.00          FE  \nATOM     68   Fe MOL     1      -4.058  14.897   3.978  1.00  0.00          FE  \nATOM     69   Fe MOL     1      -4.868  13.751   5.985  1.00  0.00          FE  \nATOM     70   Fe MOL     1      -4.058  14.897   7.985  1.00  0.00          FE  \nATOM     71   Fe MOL     1      -5.681  16.042 507.918  1.00  0.00          FE  \nATOM     72   Fe MOL     1      -4.871  17.188 509.919  1.00  0.00          FE  \nATOM     73   Fe MOL     1      -5.681  16.042 511.926  1.00  0.00          FE  \nATOM     74   Fe MOL     1      -4.871  17.188 513.919  1.00  0.00          FE  \nATOM     75   Fe MOL     1      -5.681  16.042 515.907  1.00  0.00          FE  \nATOM     76   Fe MOL     1      -4.869  17.189  -0.000  1.00  0.00          FE  \nATOM     77   Fe MOL     1      -5.679  16.043   1.985  1.00  0.00          FE  \nATOM     78   Fe MOL     1      -4.869  17.189   3.978  1.00  0.00          FE  \nATOM     79   Fe MOL     1      -5.679  16.043   5.985  1.00  0.00          FE  \nATOM     80   Fe MOL     1      -4.869  17.189   7.985  1.00  0.00          FE  \nATOM     81   Fe MOL     1       2.430  -0.001 507.918  1.00  0.00          FE  \nATOM     82   Fe MOL     1       3.240   1.145 509.919  1.00  0.00          FE  \nATOM     83   Fe MOL     1       2.430  -0.001 511.926  1.00  0.00          FE  \nATOM     84   Fe MOL     1       3.240   1.145 513.919  1.00  0.00          FE  \nATOM     85   Fe MOL     1       2.430  -0.001 515.907  1.00  0.00          FE  \nATOM     86   Fe MOL     1       3.241   1.146  -0.000  1.00  0.00          FE  \nATOM     87   Fe MOL     1       2.431  -0.000   1.985  1.00  0.00          FE  \nATOM     88   Fe MOL     1       3.241   1.146   3.978  1.00  0.00          FE  \nATOM     89   Fe MOL     1       2.431  -0.000   5.985  1.00  0.00          FE  \nATOM     90   Fe MOL     1       3.241   1.146   7.985  1.00  0.00          FE  \nATOM     91   Fe MOL     1       1.618   2.291 507.918  1.00  0.00          FE  \nATOM     92   Fe MOL     1       2.428   3.437 509.919  1.00  0.00          FE  \nATOM     93   Fe MOL     1       1.618   2.291 511.926  1.00  0.00          FE  \nATOM     94   Fe MOL     1       2.428   3.437 513.919  1.00  0.00          FE  \nATOM     95   Fe MOL     1       1.618   2.291 515.907  1.00  0.00          FE  \nATOM     96   Fe MOL     1       2.430   3.438  -0.000  1.00  0.00          FE  \nATOM     97   Fe MOL     1       1.620   2.292   1.985  1.00  0.00          FE  \nATOM     98   Fe MOL     1       2.430   3.438   3.978  1.00  0.00          FE  \nATOM     99   Fe MOL     1       1.620   2.292   5.985  1.00  0.00          FE  \nATOM    100   Fe MOL     1       2.430   3.438   7.985  1.00  0.00          FE  \nATOM    101   Fe MOL     1       0.807   4.582 507.918  1.00  0.00          FE  \nATOM    102   Fe MOL     1       1.617   5.728 509.919  1.00  0.00          FE  \nATOM    103   Fe MOL     1       0.807   4.582 511.926  1.00  0.00          FE  \nATOM    104   Fe MOL     1       1.617   5.728 513.919  1.00  0.00          FE  \nATOM    105   Fe MOL     1       0.807   4.582 515.907  1.00  0.00          FE  \nATOM    106   Fe MOL     1       1.619   5.730  -0.000  1.00  0.00          FE  \nATOM    107   Fe MOL     1       0.809   4.584   1.985  1.00  0.00          FE  \nATOM    108   Fe MOL     1       1.619   5.730   3.978  1.00  0.00          FE  \nATOM    109   Fe MOL     1       0.809   4.584   5.985  1.00  0.00          FE  \nATOM    110   Fe MOL     1       1.619   5.730   7.985  1.00  0.00          FE  \nATOM    111   Fe MOL     1      -0.004   6.874 507.918  1.00  0.00          FE  \nATOM    112   Fe MOL     1       0.806   8.020 509.919  1.00  0.00          FE  \nATOM    113   Fe MOL     1      -0.004   6.874 511.926  1.00  0.00          FE  \nATOM    114   Fe MOL     1       0.806   8.020 513.919  1.00  0.00          FE  \nATOM    115   Fe MOL     1      -0.004   6.874 515.907  1.00  0.00          FE  \nATOM    116   Fe MOL     1       0.807   8.022  -0.000  1.00  0.00          FE  \nATOM    117   Fe MOL     1      -0.003   6.876   1.985  1.00  0.00          FE  \nATOM    118   Fe MOL     1       0.807   8.022   3.978  1.00  0.00          FE  \nATOM    119   Fe MOL     1      -0.003   6.876   5.985  1.00  0.00          FE  \nATOM    120   Fe MOL     1       0.807   8.022   7.985  1.00  0.00          FE  \nATOM    121   Fe MOL     1      -0.816   9.166 507.918  1.00  0.00          FE  \nATOM    122   Fe MOL     1      -0.006  10.312 509.919  1.00  0.00          FE  \nATOM    123   Fe MOL     1      -0.816   9.166 511.926  1.00  0.00          FE  \nATOM    124   Fe MOL     1      -0.006  10.312 513.919  1.00  0.00          FE  \nATOM    125   Fe MOL     1      -0.816   9.166 515.907  1.00  0.00          FE  \nATOM    126   Fe MOL     1      -0.004  10.313  -0.000  1.00  0.00          FE  \nATOM    127   Fe MOL     1      -0.814   9.167   1.985  1.00  0.00          FE  \nATOM    128   Fe MOL     1      -0.004  10.313   3.978  1.00  0.00          FE  \nATOM    129   Fe MOL     1      -0.814   9.167   5.985  1.00  0.00          FE  \nATOM    130   Fe MOL     1      -0.004  10.313   7.985  1.00  0.00          FE  \nATOM    131   Fe MOL     1      -1.627  11.458 507.918  1.00  0.00          FE  \nATOM    132   Fe MOL     1      -0.817  12.604 509.919  1.00  0.00          FE  \nATOM    133   Fe MOL     1      -1.627  11.458 511.926  1.00  0.00          FE  \nATOM    134   Fe MOL     1      -0.817  12.604 513.919  1.00  0.00          FE  \nATOM    135   Fe MOL     1      -1.627  11.458 515.907  1.00  0.00          FE  \nATOM    136   Fe MOL     1      -0.815  12.605  -0.000  1.00  0.00          FE  \nATOM    137   Fe MOL     1      -1.625  11.459   1.985  1.00  0.00          FE  \nATOM    138   Fe MOL     1      -0.815  12.605   3.978  1.00  0.00          FE  \nATOM    139   Fe MOL     1      -1.625  11.459   5.985  1.00  0.00          FE  \nATOM    140   Fe MOL     1      -0.815  12.605   7.985  1.00  0.00          FE  \nATOM    141   Fe MOL     1      -2.438  13.750 507.918  1.00  0.00          FE  \nATOM    142   Fe MOL     1      -1.628  14.896 509.919  1.00  0.00          FE  \nATOM    143   Fe MOL     1      -2.438  13.750 511.926  1.00  0.00          FE  \nATOM    144   Fe MOL     1      -1.628  14.896 513.919  1.00  0.00          FE  \nATOM    145   Fe MOL     1      -2.438  13.750 515.907  1.00  0.00          FE  \nATOM    146   Fe MOL     1      -1.627  14.897  -0.000  1.00  0.00          FE  \nATOM    147   Fe MOL     1      -2.437  13.751   1.985  1.00  0.00          FE  \nATOM    148   Fe MOL     1      -1.627  14.897   3.978  1.00  0.00          FE  \nATOM    149   Fe MOL     1      -2.437  13.751   5.985  1.00  0.00          FE  \nATOM    150   Fe MOL     1      -1.627  14.897   7.985  1.00  0.00          FE  \nATOM    151   Fe MOL     1      -3.250  16.042 507.918  1.00  0.00          FE  \nATOM    152   Fe MOL     1      -2.440  17.188 509.919  1.00  0.00          FE  \nATOM    153   Fe MOL     1      -3.250  16.042 511.926  1.00  0.00          FE  \nATOM    154   Fe MOL     1      -2.440  17.188 513.919  1.00  0.00          FE  \nATOM    155   Fe MOL     1      -3.250  16.042 515.907  1.00  0.00          FE  \nATOM    156   Fe MOL     1      -2.438  17.189  -0.000  1.00  0.00          FE  \nATOM    157   Fe MOL     1      -3.248  16.043   1.985  1.00  0.00          FE  \nATOM    158   Fe MOL     1      -2.438  17.189   3.978  1.00  0.00          FE  \nATOM    159   Fe MOL     1      -3.248  16.043   5.985  1.00  0.00          FE  \nATOM    160   Fe MOL     1      -2.438  17.189   7.985  1.00  0.00          FE  \nATOM    161   Fe MOL     1       4.861  -0.001 507.918  1.00  0.00          FE  \nATOM    162   Fe MOL     1       5.671   1.145 509.919  1.00  0.00          FE  \nATOM    163   Fe MOL     1       4.861  -0.001 511.926  1.00  0.00          FE  \nATOM    164   Fe MOL     1       5.671   1.145 513.919  1.00  0.00          FE  \nATOM    165   Fe MOL     1       4.861  -0.001 515.907  1.00  0.00          FE  \nATOM    166   Fe MOL     1       5.673   1.146  -0.000  1.00  0.00          FE  \nATOM    167   Fe MOL     1       4.863  -0.000   1.985  1.00  0.00          FE  \nATOM    168   Fe MOL     1       5.672   1.146   3.978  1.00  0.00          FE  \nATOM    169   Fe MOL     1       4.863  -0.000   5.985  1.00  0.00          FE  \nATOM    170   Fe MOL     1       5.672   1.146   7.985  1.00  0.00          FE  \nATOM    171   Fe MOL     1       4.050   2.291 507.918  1.00  0.00          FE  \nATOM    172   Fe MOL     1       4.860   3.437 509.919  1.00  0.00          FE  \nATOM    173   Fe MOL     1       4.050   2.291 511.926  1.00  0.00          FE  \nATOM    174   Fe MOL     1       4.860   3.437 513.919  1.00  0.00          FE  \nATOM    175   Fe MOL     1       4.050   2.291 515.907  1.00  0.00          FE  \nATOM    176   Fe MOL     1       4.861   3.438  -0.000  1.00  0.00          FE  \nATOM    177   Fe MOL     1       4.051   2.292   1.985  1.00  0.00          FE  \nATOM    178   Fe MOL     1       4.861   3.438   3.978  1.00  0.00          FE  \nATOM    179   Fe MOL     1       4.051   2.292   5.985  1.00  0.00          FE  \nATOM    180   Fe MOL     1       4.861   3.438   7.985  1.00  0.00          FE  \nATOM    181   Fe MOL     1       3.238   4.582 507.918  1.00  0.00          FE  \nATOM    182   Fe MOL     1       4.048   5.728 509.919  1.00  0.00          FE  \nATOM    183   Fe MOL     1       3.238   4.582 511.926  1.00  0.00          FE  \nATOM    184   Fe MOL     1       4.048   5.728 513.919  1.00  0.00          FE  \nATOM    185   Fe MOL     1       3.238   4.582 515.907  1.00  0.00          FE  \nATOM    186   Fe MOL     1       4.050   5.730  -0.000  1.00  0.00          FE  \nATOM    187   Fe MOL     1       3.240   4.584   1.985  1.00  0.00          FE  \nATOM    188   Fe MOL     1       4.050   5.730   3.978  1.00  0.00          FE  \nATOM    189   Fe MOL     1       3.240   4.584   5.985  1.00  0.00          FE  \nATOM    190   Fe MOL     1       4.050   5.730   7.985  1.00  0.00          FE  \nATOM    191   Fe MOL     1       2.427   6.874 507.918  1.00  0.00          FE  \nATOM    192   Fe MOL     1       3.237   8.020 509.919  1.00  0.00          FE  \nATOM    193   Fe MOL     1       2.427   6.874 511.926  1.00  0.00          FE  \nATOM    194   Fe MOL     1       3.237   8.020 513.919  1.00  0.00          FE  \nATOM    195   Fe MOL     1       2.427   6.874 515.907  1.00  0.00          FE  \nATOM    196   Fe MOL     1       3.238   8.022  -0.000  1.00  0.00          FE  \nATOM    197   Fe MOL     1       2.428   6.876   1.985  1.00  0.00          FE  \nATOM    198   Fe MOL     1       3.238   8.022   3.978  1.00  0.00          FE  \nATOM    199   Fe MOL     1       2.429   6.876   5.985  1.00  0.00          FE  \nATOM    200   Fe MOL     1       3.238   8.022   7.985  1.00  0.00          FE  \nATOM    201   Fe MOL     1       1.616   9.166 507.918  1.00  0.00          FE  \nATOM    202   Fe MOL     1       2.426  10.312 509.919  1.00  0.00          FE  \nATOM    203   Fe MOL     1       1.616   9.166 511.926  1.00  0.00          FE  \nATOM    204   Fe MOL     1       2.426  10.312 513.919  1.00  0.00          FE  \nATOM    205   Fe MOL     1       1.616   9.166 515.907  1.00  0.00          FE  \nATOM    206   Fe MOL     1       2.427  10.313  -0.000  1.00  0.00          FE  \nATOM    207   Fe MOL     1       1.617   9.167   1.985  1.00  0.00          FE  \nATOM    208   Fe MOL     1       2.427  10.313   3.978  1.00  0.00          FE  \nATOM    209   Fe MOL     1       1.617   9.167   5.985  1.00  0.00          FE  \nATOM    210   Fe MOL     1       2.427  10.313   7.985  1.00  0.00          FE  \nATOM    211   Fe MOL     1       0.804  11.458 507.918  1.00  0.00          FE  \nATOM    212   Fe MOL     1       1.614  12.604 509.919  1.00  0.00          FE  \nATOM    213   Fe MOL     1       0.804  11.458 511.926  1.00  0.00          FE  \nATOM    214   Fe MOL     1       1.614  12.604 513.919  1.00  0.00          FE  \nATOM    215   Fe MOL     1       0.804  11.458 515.907  1.00  0.00          FE  \nATOM    216   Fe MOL     1       1.616  12.605  -0.000  1.00  0.00          FE  \nATOM    217   Fe MOL     1       0.806  11.459   1.985  1.00  0.00          FE  \nATOM    218   Fe MOL     1       1.616  12.605   3.978  1.00  0.00          FE  \nATOM    219   Fe MOL     1       0.806  11.459   5.985  1.00  0.00          FE  \nATOM    220   Fe MOL     1       1.616  12.605   7.985  1.00  0.00          FE  \nATOM    221   Fe MOL     1      -0.007  13.750 507.918  1.00  0.00          FE  \nATOM    222   Fe MOL     1       0.803  14.896 509.919  1.00  0.00          FE  \nATOM    223   Fe MOL     1      -0.007  13.750 511.926  1.00  0.00          FE  \nATOM    224   Fe MOL     1       0.803  14.896 513.919  1.00  0.00          FE  \nATOM    225   Fe MOL     1      -0.007  13.750 515.907  1.00  0.00          FE  \nATOM    226   Fe MOL     1       0.804  14.897  -0.000  1.00  0.00          FE  \nATOM    227   Fe MOL     1      -0.006  13.751   1.985  1.00  0.00          FE  \nATOM    228   Fe MOL     1       0.804  14.897   3.978  1.00  0.00          FE  \nATOM    229   Fe MOL     1      -0.006  13.751   5.985  1.00  0.00          FE  \nATOM    230   Fe MOL     1       0.804  14.897   7.985  1.00  0.00          FE  \nATOM    231   Fe MOL     1      -0.818  16.042 507.918  1.00  0.00          FE  \nATOM    232   Fe MOL     1      -0.008  17.188 509.919  1.00  0.00          FE  \nATOM    233   Fe MOL     1      -0.818  16.042 511.926  1.00  0.00          FE  \nATOM    234   Fe MOL     1      -0.008  17.188 513.919  1.00  0.00          FE  \nATOM    235   Fe MOL     1      -0.818  16.042 515.907  1.00  0.00          FE  \nATOM    236   Fe MOL     1      -0.007  17.189  -0.000  1.00  0.00          FE  \nATOM    237   Fe MOL     1      -0.817  16.043   1.985  1.00  0.00          FE  \nATOM    238   Fe MOL     1      -0.007  17.189   3.978  1.00  0.00          FE  \nATOM    239   Fe MOL     1      -0.817  16.043   5.985  1.00  0.00          FE  \nATOM    240   Fe MOL     1      -0.007  17.189   7.985  1.00  0.00          FE  \nATOM    241   Fe MOL     1       7.292  -0.001 507.918  1.00  0.00          FE  \nATOM    242   Fe MOL     1       8.102   1.145 509.919  1.00  0.00          FE  \nATOM    243   Fe MOL     1       7.292  -0.001 511.926  1.00  0.00          FE  \nATOM    244   Fe MOL     1       8.102   1.145 513.919  1.00  0.00          FE  \nATOM    245   Fe MOL     1       7.292  -0.001 515.907  1.00  0.00          FE  \nATOM    246   Fe MOL     1       8.104   1.146  -0.000  1.00  0.00          FE  \nATOM    247   Fe MOL     1       7.294  -0.000   1.985  1.00  0.00          FE  \nATOM    248   Fe MOL     1       8.104   1.146   3.978  1.00  0.00          FE  \nATOM    249   Fe MOL     1       7.294  -0.000   5.985  1.00  0.00          FE  \nATOM    250   Fe MOL     1       8.104   1.146   7.985  1.00  0.00          FE  \nATOM    251   Fe MOL     1       6.481   2.291 507.918  1.00  0.00          FE  \nATOM    252   Fe MOL     1       7.291   3.437 509.919  1.00  0.00          FE  \nATOM    253   Fe MOL     1       6.481   2.291 511.926  1.00  0.00          FE  \nATOM    254   Fe MOL     1       7.291   3.437 513.919  1.00  0.00          FE  \nATOM    255   Fe MOL     1       6.481   2.291 515.907  1.00  0.00          FE  \nATOM    256   Fe MOL     1       7.292   3.438  -0.000  1.00  0.00          FE  \nATOM    257   Fe MOL     1       6.482   2.292   1.985  1.00  0.00          FE  \nATOM    258   Fe MOL     1       7.292   3.438   3.978  1.00  0.00          FE  \nATOM    259   Fe MOL     1       6.482   2.292   5.985  1.00  0.00          FE  \nATOM    260   Fe MOL     1       7.292   3.438   7.985  1.00  0.00          FE  \nATOM    261   Fe MOL     1       5.670   4.582 507.918  1.00  0.00          FE  \nATOM    262   Fe MOL     1       6.480   5.728 509.919  1.00  0.00          FE  \nATOM    263   Fe MOL     1       5.670   4.582 511.926  1.00  0.00          FE  \nATOM    264   Fe MOL     1       6.480   5.728 513.919  1.00  0.00          FE  \nATOM    265   Fe MOL     1       5.670   4.582 515.907  1.00  0.00          FE  \nATOM    266   Fe MOL     1       6.481   5.730  -0.000  1.00  0.00          FE  \nATOM    267   Fe MOL     1       5.671   4.584   1.985  1.00  0.00          FE  \nATOM    268   Fe MOL     1       6.481   5.730   3.978  1.00  0.00          FE  \nATOM    269   Fe MOL     1       5.671   4.584   5.985  1.00  0.00          FE  \nATOM    270   Fe MOL     1       6.481   5.730   7.985  1.00  0.00          FE  \nATOM    271   Fe MOL     1       4.858   6.874 507.918  1.00  0.00          FE  \nATOM    272   Fe MOL     1       5.668   8.020 509.919  1.00  0.00          FE  \nATOM    273   Fe MOL     1       4.858   6.874 511.926  1.00  0.00          FE  \nATOM    274   Fe MOL     1       5.668   8.020 513.919  1.00  0.00          FE  \nATOM    275   Fe MOL     1       4.858   6.874 515.907  1.00  0.00          FE  \nATOM    276   Fe MOL     1       5.670   8.022  -0.000  1.00  0.00          FE  \nATOM    277   Fe MOL     1       4.860   6.876   1.985  1.00  0.00          FE  \nATOM    278   Fe MOL     1       5.670   8.022   3.978  1.00  0.00          FE  \nATOM    279   Fe MOL     1       4.860   6.876   5.985  1.00  0.00          FE  \nATOM    280   Fe MOL     1       5.670   8.022   7.985  1.00  0.00          FE  \nATOM    281   Fe MOL     1       4.047   9.166 507.918  1.00  0.00          FE  \nATOM    282   Fe MOL     1       4.857  10.312 509.919  1.00  0.00          FE  \nATOM    283   Fe MOL     1       4.047   9.166 511.926  1.00  0.00          FE  \nATOM    284   Fe MOL     1       4.857  10.312 513.919  1.00  0.00          FE  \nATOM    285   Fe MOL     1       4.047   9.166 515.907  1.00  0.00          FE  \nATOM    286   Fe MOL     1       4.858  10.313  -0.000  1.00  0.00          FE  \nATOM    287   Fe MOL     1       4.048   9.167   1.985  1.00  0.00          FE  \nATOM    288   Fe MOL     1       4.858  10.313   3.978  1.00  0.00          FE  \nATOM    289   Fe MOL     1       4.048   9.167   5.985  1.00  0.00          FE  \nATOM    290   Fe MOL     1       4.858  10.313   7.985  1.00  0.00          FE  \nATOM    291   Fe MOL     1       3.236  11.458 507.918  1.00  0.00          FE  \nATOM    292   Fe MOL     1       4.045  12.604 509.919  1.00  0.00          FE  \nATOM    293   Fe MOL     1       3.236  11.458 511.926  1.00  0.00          FE  \nATOM    294   Fe MOL     1       4.045  12.604 513.919  1.00  0.00          FE  \nATOM    295   Fe MOL     1       3.236  11.458 515.907  1.00  0.00          FE  \nATOM    296   Fe MOL     1       4.047  12.605  -0.000  1.00  0.00          FE  \nATOM    297   Fe MOL     1       3.237  11.459   1.985  1.00  0.00          FE  \nATOM    298   Fe MOL     1       4.047  12.605   3.978  1.00  0.00          FE  \nATOM    299   Fe MOL     1       3.237  11.459   5.985  1.00  0.00          FE  \nATOM    300   Fe MOL     1       4.047  12.605   7.985  1.00  0.00          FE  \nATOM    301   Fe MOL     1       2.424  13.750 507.918  1.00  0.00          FE  \nATOM    302   Fe MOL     1       3.234  14.896 509.919  1.00  0.00          FE  \nATOM    303   Fe MOL     1       2.424  13.750 511.926  1.00  0.00          FE  \nATOM    304   Fe MOL     1       3.234  14.896 513.919  1.00  0.00          FE  \nATOM    305   Fe MOL     1       2.424  13.750 515.907  1.00  0.00          FE  \nATOM    306   Fe MOL     1       3.236  14.897  -0.000  1.00  0.00          FE  \nATOM    307   Fe MOL     1       2.426  13.751   1.985  1.00  0.00          FE  \nATOM    308   Fe MOL     1       3.236  14.897   3.978  1.00  0.00          FE  \nATOM    309   Fe MOL     1       2.426  13.751   5.985  1.00  0.00          FE  \nATOM    310   Fe MOL     1       3.236  14.897   7.985  1.00  0.00          FE  \nATOM    311   Fe MOL     1       1.613  16.042 507.918  1.00  0.00          FE  \nATOM    312   Fe MOL     1       2.423  17.188 509.919  1.00  0.00          FE  \nATOM    313   Fe MOL     1       1.613  16.042 511.926  1.00  0.00          FE  \nATOM    314   Fe MOL     1       2.423  17.188 513.919  1.00  0.00          FE  \nATOM    315   Fe MOL     1       1.613  16.042 515.907  1.00  0.00          FE  \nATOM    316   Fe MOL     1       2.424  17.189  -0.000  1.00  0.00          FE  \nATOM    317   Fe MOL     1       1.614  16.043   1.985  1.00  0.00          FE  \nATOM    318   Fe MOL     1       2.424  17.189   3.978  1.00  0.00          FE  \nATOM    319   Fe MOL     1       1.614  16.043   5.985  1.00  0.00          FE  \nATOM    320   Fe MOL     1       2.424  17.189   7.985  1.00  0.00          FE  \nATOM    321   Fe MOL     1       9.724  -0.001 507.918  1.00  0.00          FE  \nATOM    322   Fe MOL     1      10.533   1.145 509.919  1.00  0.00          FE  \nATOM    323   Fe MOL     1       9.724  -0.001 511.926  1.00  0.00          FE  \nATOM    324   Fe MOL     1      10.533   1.145 513.919  1.00  0.00          FE  \nATOM    325   Fe MOL     1       9.724  -0.001 515.907  1.00  0.00          FE  \nATOM    326   Fe MOL     1      10.535   1.146  -0.000  1.00  0.00          FE  \nATOM    327   Fe MOL     1       9.725  -0.000   1.985  1.00  0.00          FE  \nATOM    328   Fe MOL     1      10.535   1.146   3.978  1.00  0.00          FE  \nATOM    329   Fe MOL     1       9.725  -0.000   5.985  1.00  0.00          FE  \nATOM    330   Fe MOL     1      10.535   1.146   7.985  1.00  0.00          FE  \nATOM    331   Fe MOL     1       8.912   2.291 507.918  1.00  0.00          FE  \nATOM    332   Fe MOL     1       9.722   3.437 509.919  1.00  0.00          FE  \nATOM    333   Fe MOL     1       8.912   2.291 511.926  1.00  0.00          FE  \nATOM    334   Fe MOL     1       9.722   3.437 513.919  1.00  0.00          FE  \nATOM    335   Fe MOL     1       8.912   2.291 515.907  1.00  0.00          FE  \nATOM    336   Fe MOL     1       9.724   3.438  -0.000  1.00  0.00          FE  \nATOM    337   Fe MOL     1       8.914   2.292   1.985  1.00  0.00          FE  \nATOM    338   Fe MOL     1       9.724   3.438   3.978  1.00  0.00          FE  \nATOM    339   Fe MOL     1       8.914   2.292   5.985  1.00  0.00          FE  \nATOM    340   Fe MOL     1       9.724   3.438   7.985  1.00  0.00          FE  \nATOM    341   Fe MOL     1       8.101   4.582 507.918  1.00  0.00          FE  \nATOM    342   Fe MOL     1       8.911   5.728 509.919  1.00  0.00          FE  \nATOM    343   Fe MOL     1       8.101   4.582 511.926  1.00  0.00          FE  \nATOM    344   Fe MOL     1       8.911   5.728 513.919  1.00  0.00          FE  \nATOM    345   Fe MOL     1       8.101   4.582 515.907  1.00  0.00          FE  \nATOM    346   Fe MOL     1       8.912   5.730  -0.000  1.00  0.00          FE  \nATOM    347   Fe MOL     1       8.102   4.584   1.985  1.00  0.00          FE  \nATOM    348   Fe MOL     1       8.912   5.730   3.978  1.00  0.00          FE  \nATOM    349   Fe MOL     1       8.102   4.584   5.985  1.00  0.00          FE  \nATOM    350   Fe MOL     1       8.912   5.730   7.985  1.00  0.00          FE  \nATOM    351   Fe MOL     1       7.289   6.874 507.918  1.00  0.00          FE  \nATOM    352   Fe MOL     1       8.099   8.020 509.919  1.00  0.00          FE  \nATOM    353   Fe MOL     1       7.289   6.874 511.926  1.00  0.00          FE  \nATOM    354   Fe MOL     1       8.099   8.020 513.919  1.00  0.00          FE  \nATOM    355   Fe MOL     1       7.289   6.874 515.907  1.00  0.00          FE  \nATOM    356   Fe MOL     1       8.101   8.022  -0.000  1.00  0.00          FE  \nATOM    357   Fe MOL     1       7.291   6.876   1.985  1.00  0.00          FE  \nATOM    358   Fe MOL     1       8.101   8.022   3.978  1.00  0.00          FE  \nATOM    359   Fe MOL     1       7.291   6.876   5.985  1.00  0.00          FE  \nATOM    360   Fe MOL     1       8.101   8.022   7.985  1.00  0.00          FE  \nATOM    361   Fe MOL     1       6.478   9.166 507.918  1.00  0.00          FE  \nATOM    362   Fe MOL     1       7.288  10.312 509.919  1.00  0.00          FE  \nATOM    363   Fe MOL     1       6.478   9.166 511.926  1.00  0.00          FE  \nATOM    364   Fe MOL     1       7.288  10.312 513.919  1.00  0.00          FE  \nATOM    365   Fe MOL     1       6.478   9.166 515.907  1.00  0.00          FE  \nATOM    366   Fe MOL     1       7.290  10.313  -0.000  1.00  0.00          FE  \nATOM    367   Fe MOL     1       6.480   9.167   1.985  1.00  0.00          FE  \nATOM    368   Fe MOL     1       7.290  10.313   3.978  1.00  0.00          FE  \nATOM    369   Fe MOL     1       6.480   9.167   5.985  1.00  0.00          FE  \nATOM    370   Fe MOL     1       7.290  10.313   7.985  1.00  0.00          FE  \nATOM    371   Fe MOL     1       5.667  11.458 507.918  1.00  0.00          FE  \nATOM    372   Fe MOL     1       6.477  12.604 509.919  1.00  0.00          FE  \nATOM    373   Fe MOL     1       5.667  11.458 511.926  1.00  0.00          FE  \nATOM    374   Fe MOL     1       6.477  12.604 513.919  1.00  0.00          FE  \nATOM    375   Fe MOL     1       5.667  11.458 515.907  1.00  0.00          FE  \nATOM    376   Fe MOL     1       6.478  12.605  -0.000  1.00  0.00          FE  \nATOM    377   Fe MOL     1       5.668  11.459   1.985  1.00  0.00          FE  \nATOM    378   Fe MOL     1       6.478  12.605   3.978  1.00  0.00          FE  \nATOM    379   Fe MOL     1       5.668  11.459   5.985  1.00  0.00          FE  \nATOM    380   Fe MOL     1       6.478  12.605   7.985  1.00  0.00          FE  \nATOM    381   Fe MOL     1       4.855  13.750 507.918  1.00  0.00          FE  \nATOM    382   Fe MOL     1       5.665  14.896 509.919  1.00  0.00          FE  \nATOM    383   Fe MOL     1       4.855  13.750 511.926  1.00  0.00          FE  \nATOM    384   Fe MOL     1       5.665  14.896 513.919  1.00  0.00          FE  \nATOM    385   Fe MOL     1       4.855  13.750 515.907  1.00  0.00          FE  \nATOM    386   Fe MOL     1       5.667  14.897  -0.000  1.00  0.00          FE  \nATOM    387   Fe MOL     1       4.857  13.751   1.985  1.00  0.00          FE  \nATOM    388   Fe MOL     1       5.667  14.897   3.978  1.00  0.00          FE  \nATOM    389   Fe MOL     1       4.857  13.751   5.985  1.00  0.00          FE  \nATOM    390   Fe MOL     1       5.667  14.897   7.985  1.00  0.00          FE  \nATOM    391   Fe MOL     1       4.044  16.042 507.918  1.00  0.00          FE  \nATOM    392   Fe MOL     1       4.854  17.188 509.919  1.00  0.00          FE  \nATOM    393   Fe MOL     1       4.044  16.042 511.926  1.00  0.00          FE  \nATOM    394   Fe MOL     1       4.854  17.188 513.919  1.00  0.00          FE  \nATOM    395   Fe MOL     1       4.044  16.042 515.907  1.00  0.00          FE  \nATOM    396   Fe MOL     1       4.856  17.189  -0.000  1.00  0.00          FE  \nATOM    397   Fe MOL     1       4.046  16.043   1.985  1.00  0.00          FE  \nATOM    398   Fe MOL     1       4.856  17.189   3.978  1.00  0.00          FE  \nATOM    399   Fe MOL     1       4.046  16.043   5.985  1.00  0.00          FE  \nATOM    400   Fe MOL     1       4.856  17.189   7.985  1.00  0.00          FE  \nATOM    401   Fe MOL     1      12.155  -0.001 507.918  1.00  0.00          FE  \nATOM    402   Fe MOL     1      12.965   1.145 509.919  1.00  0.00          FE  \nATOM    403   Fe MOL     1      12.155  -0.001 511.926  1.00  0.00          FE  \nATOM    404   Fe MOL     1      12.965   1.145 513.919  1.00  0.00          FE  \nATOM    405   Fe MOL     1      12.155  -0.001 515.907  1.00  0.00          FE  \nATOM    406   Fe MOL     1      12.966   1.146  -0.000  1.00  0.00          FE  \nATOM    407   Fe MOL     1      12.156  -0.000   1.985  1.00  0.00          FE  \nATOM    408   Fe MOL     1      12.966   1.146   3.978  1.00  0.00          FE  \nATOM    409   Fe MOL     1      12.156  -0.000   5.985  1.00  0.00          FE  \nATOM    410   Fe MOL     1      12.966   1.146   7.985  1.00  0.00          FE  \nATOM    411   Fe MOL     1      11.343   2.291 507.918  1.00  0.00          FE  \nATOM    412   Fe MOL     1      12.153   3.437 509.919  1.00  0.00          FE  \nATOM    413   Fe MOL     1      11.343   2.291 511.926  1.00  0.00          FE  \nATOM    414   Fe MOL     1      12.153   3.437 513.919  1.00  0.00          FE  \nATOM    415   Fe MOL     1      11.343   2.291 515.907  1.00  0.00          FE  \nATOM    416   Fe MOL     1      12.155   3.438   0.000  1.00  0.00          FE  \nATOM    417   Fe MOL     1      11.345   2.292   1.985  1.00  0.00          FE  \nATOM    418   Fe MOL     1      12.155   3.438   3.978  1.00  0.00          FE  \nATOM    419   Fe MOL     1      11.345   2.292   5.985  1.00  0.00          FE  \nATOM    420   Fe MOL     1      12.155   3.438   7.985  1.00  0.00          FE  \nATOM    421   Fe MOL     1      10.532   4.582 507.918  1.00  0.00          FE  \nATOM    422   Fe MOL     1      11.342   5.728 509.919  1.00  0.00          FE  \nATOM    423   Fe MOL     1      10.532   4.582 511.926  1.00  0.00          FE  \nATOM    424   Fe MOL     1      11.342   5.728 513.919  1.00  0.00          FE  \nATOM    425   Fe MOL     1      10.532   4.582 515.907  1.00  0.00          FE  \nATOM    426   Fe MOL     1      11.344   5.730  -0.000  1.00  0.00          FE  \nATOM    427   Fe MOL     1      10.534   4.584   1.985  1.00  0.00          FE  \nATOM    428   Fe MOL     1      11.344   5.730   3.978  1.00  0.00          FE  \nATOM    429   Fe MOL     1      10.534   4.584   5.985  1.00  0.00          FE  \nATOM    430   Fe MOL     1      11.344   5.730   7.985  1.00  0.00          FE  \nATOM    431   Fe MOL     1       9.721   6.874 507.918  1.00  0.00          FE  \nATOM    432   Fe MOL     1      10.531   8.020 509.919  1.00  0.00          FE  \nATOM    433   Fe MOL     1       9.721   6.874 511.926  1.00  0.00          FE  \nATOM    434   Fe MOL     1      10.531   8.020 513.919  1.00  0.00          FE  \nATOM    435   Fe MOL     1       9.721   6.874 515.907  1.00  0.00          FE  \nATOM    436   Fe MOL     1      10.532   8.022  -0.000  1.00  0.00          FE  \nATOM    437   Fe MOL     1       9.722   6.876   1.985  1.00  0.00          FE  \nATOM    438   Fe MOL     1      10.532   8.022   3.978  1.00  0.00          FE  \nATOM    439   Fe MOL     1       9.722   6.876   5.985  1.00  0.00          FE  \nATOM    440   Fe MOL     1      10.532   8.022   7.985  1.00  0.00          FE  \nATOM    441   Fe MOL     1       8.909   9.166 507.918  1.00  0.00          FE  \nATOM    442   Fe MOL     1       9.719  10.312 509.919  1.00  0.00          FE  \nATOM    443   Fe MOL     1       8.909   9.166 511.926  1.00  0.00          FE  \nATOM    444   Fe MOL     1       9.719  10.312 513.919  1.00  0.00          FE  \nATOM    445   Fe MOL     1       8.909   9.166 515.907  1.00  0.00          FE  \nATOM    446   Fe MOL     1       9.721  10.313  -0.000  1.00  0.00          FE  \nATOM    447   Fe MOL     1       8.911   9.167   1.985  1.00  0.00          FE  \nATOM    448   Fe MOL     1       9.721  10.313   3.978  1.00  0.00          FE  \nATOM    449   Fe MOL     1       8.911   9.167   5.985  1.00  0.00          FE  \nATOM    450   Fe MOL     1       9.721  10.313   7.985  1.00  0.00          FE  \nATOM    451   Fe MOL     1       8.098  11.458 507.918  1.00  0.00          FE  \nATOM    452   Fe MOL     1       8.908  12.604 509.919  1.00  0.00          FE  \nATOM    453   Fe MOL     1       8.098  11.458 511.926  1.00  0.00          FE  \nATOM    454   Fe MOL     1       8.908  12.604 513.919  1.00  0.00          FE  \nATOM    455   Fe MOL     1       8.098  11.458 515.907  1.00  0.00          FE  \nATOM    456   Fe MOL     1       8.910  12.605  -0.000  1.00  0.00          FE  \nATOM    457   Fe MOL     1       8.100  11.459   1.985  1.00  0.00          FE  \nATOM    458   Fe MOL     1       8.910  12.605   3.978  1.00  0.00          FE  \nATOM    459   Fe MOL     1       8.100  11.459   5.985  1.00  0.00          FE  \nATOM    460   Fe MOL     1       8.910  12.605   7.985  1.00  0.00          FE  \nATOM    461   Fe MOL     1       7.287  13.750 507.918  1.00  0.00          FE  \nATOM    462   Fe MOL     1       8.097  14.896 509.919  1.00  0.00          FE  \nATOM    463   Fe MOL     1       7.287  13.750 511.926  1.00  0.00          FE  \nATOM    464   Fe MOL     1       8.097  14.896 513.919  1.00  0.00          FE  \nATOM    465   Fe MOL     1       7.287  13.750 515.907  1.00  0.00          FE  \nATOM    466   Fe MOL     1       8.098  14.897  -0.000  1.00  0.00          FE  \nATOM    467   Fe MOL     1       7.288  13.751   1.985  1.00  0.00          FE  \nATOM    468   Fe MOL     1       8.098  14.897   3.978  1.00  0.00          FE  \nATOM    469   Fe MOL     1       7.288  13.751   5.985  1.00  0.00          FE  \nATOM    470   Fe MOL     1       8.098  14.897   7.985  1.00  0.00          FE  \nATOM    471   Fe MOL     1       6.475  16.042 507.918  1.00  0.00          FE  \nATOM    472   Fe MOL     1       7.285  17.188 509.919  1.00  0.00          FE  \nATOM    473   Fe MOL     1       6.475  16.042 511.926  1.00  0.00          FE  \nATOM    474   Fe MOL     1       7.285  17.188 513.919  1.00  0.00          FE  \nATOM    475   Fe MOL     1       6.475  16.042 515.907  1.00  0.00          FE  \nATOM    476   Fe MOL     1       7.287  17.189  -0.000  1.00  0.00          FE  \nATOM    477   Fe MOL     1       6.477  16.043   1.985  1.00  0.00          FE  \nATOM    478   Fe MOL     1       7.287  17.189   3.978  1.00  0.00          FE  \nATOM    479   Fe MOL     1       6.477  16.043   5.985  1.00  0.00          FE  \nATOM    480   Fe MOL     1       7.287  17.189   7.985  1.00  0.00          FE  \nATOM    481   Fe MOL     1      14.586  -0.001 507.918  1.00  0.00          FE  \nATOM    482   Fe MOL     1      15.396   1.145 509.919  1.00  0.00          FE  \nATOM    483   Fe MOL     1      14.586  -0.001 511.926  1.00  0.00          FE  \nATOM    484   Fe MOL     1      15.396   1.145 513.919  1.00  0.00          FE  \nATOM    485   Fe MOL     1      14.586  -0.001 515.907  1.00  0.00          FE  \nATOM    486   Fe MOL     1      15.398   1.146  -0.000  1.00  0.00          FE  \nATOM    487   Fe MOL     1      14.588  -0.000   1.985  1.00  0.00          FE  \nATOM    488   Fe MOL     1      15.398   1.146   3.978  1.00  0.00          FE  \nATOM    489   Fe MOL     1      14.588  -0.000   5.985  1.00  0.00          FE  \nATOM    490   Fe MOL     1      15.398   1.146   7.985  1.00  0.00          FE  \nATOM    491   Fe MOL     1      13.775   2.291 507.918  1.00  0.00          FE  \nATOM    492   Fe MOL     1      14.585   3.437 509.919  1.00  0.00          FE  \nATOM    493   Fe MOL     1      13.775   2.291 511.926  1.00  0.00          FE  \nATOM    494   Fe MOL     1      14.585   3.437 513.919  1.00  0.00          FE  \nATOM    495   Fe MOL     1      13.775   2.291 515.907  1.00  0.00          FE  \nATOM    496   Fe MOL     1      14.586   3.438  -0.000  1.00  0.00          FE  \nATOM    497   Fe MOL     1      13.776   2.292   1.985  1.00  0.00          FE  \nATOM    498   Fe MOL     1      14.586   3.438   3.978  1.00  0.00          FE  \nATOM    499   Fe MOL     1      13.776   2.292   5.985  1.00  0.00          FE  \nATOM    500   Fe MOL     1      14.586   3.438   7.985  1.00  0.00          FE  \nATOM    501   Fe MOL     1      12.963   4.582 507.918  1.00  0.00          FE  \nATOM    502   Fe MOL     1      13.773   5.728 509.919  1.00  0.00          FE  \nATOM    503   Fe MOL     1      12.963   4.582 511.926  1.00  0.00          FE  \nATOM    504   Fe MOL     1      13.773   5.728 513.919  1.00  0.00          FE  \nATOM    505   Fe MOL     1      12.963   4.582 515.907  1.00  0.00          FE  \nATOM    506   Fe MOL     1      13.775   5.730  -0.000  1.00  0.00          FE  \nATOM    507   Fe MOL     1      12.965   4.584   1.985  1.00  0.00          FE  \nATOM    508   Fe MOL     1      13.775   5.730   3.978  1.00  0.00          FE  \nATOM    509   Fe MOL     1      12.965   4.584   5.985  1.00  0.00          FE  \nATOM    510   Fe MOL     1      13.775   5.730   7.985  1.00  0.00          FE  \nATOM    511   Fe MOL     1      12.152   6.874 507.918  1.00  0.00          FE  \nATOM    512   Fe MOL     1      12.962   8.020 509.919  1.00  0.00          FE  \nATOM    513   Fe MOL     1      12.152   6.874 511.926  1.00  0.00          FE  \nATOM    514   Fe MOL     1      12.962   8.020 513.919  1.00  0.00          FE  \nATOM    515   Fe MOL     1      12.152   6.874 515.907  1.00  0.00          FE  \nATOM    516   Fe MOL     1      12.964   8.022  -0.000  1.00  0.00          FE  \nATOM    517   Fe MOL     1      12.154   6.876   1.985  1.00  0.00          FE  \nATOM    518   Fe MOL     1      12.964   8.022   3.978  1.00  0.00          FE  \nATOM    519   Fe MOL     1      12.154   6.876   5.985  1.00  0.00          FE  \nATOM    520   Fe MOL     1      12.964   8.022   7.985  1.00  0.00          FE  \nATOM    521   Fe MOL     1      11.341   9.166 507.918  1.00  0.00          FE  \nATOM    522   Fe MOL     1      12.151  10.312 509.919  1.00  0.00          FE  \nATOM    523   Fe MOL     1      11.341   9.166 511.926  1.00  0.00          FE  \nATOM    524   Fe MOL     1      12.151  10.312 513.919  1.00  0.00          FE  \nATOM    525   Fe MOL     1      11.341   9.166 515.907  1.00  0.00          FE  \nATOM    526   Fe MOL     1      12.152  10.313  -0.000  1.00  0.00          FE  \nATOM    527   Fe MOL     1      11.342   9.167   1.985  1.00  0.00          FE  \nATOM    528   Fe MOL     1      12.152  10.313   3.978  1.00  0.00          FE  \nATOM    529   Fe MOL     1      11.342   9.167   5.985  1.00  0.00          FE  \nATOM    530   Fe MOL     1      12.152  10.313   7.985  1.00  0.00          FE  \nATOM    531   Fe MOL     1      10.529  11.458 507.918  1.00  0.00          FE  \nATOM    532   Fe MOL     1      11.339  12.604 509.919  1.00  0.00          FE  \nATOM    533   Fe MOL     1      10.529  11.458 511.926  1.00  0.00          FE  \nATOM    534   Fe MOL     1      11.339  12.604 513.919  1.00  0.00          FE  \nATOM    535   Fe MOL     1      10.529  11.458 515.907  1.00  0.00          FE  \nATOM    536   Fe MOL     1      11.341  12.605  -0.000  1.00  0.00          FE  \nATOM    537   Fe MOL     1      10.531  11.459   1.985  1.00  0.00          FE  \nATOM    538   Fe MOL     1      11.341  12.605   3.978  1.00  0.00          FE  \nATOM    539   Fe MOL     1      10.531  11.459   5.985  1.00  0.00          FE  \nATOM    540   Fe MOL     1      11.341  12.605   7.985  1.00  0.00          FE  \nATOM    541   Fe MOL     1       9.718  13.750 507.918  1.00  0.00          FE  \nATOM    542   Fe MOL     1      10.528  14.896 509.919  1.00  0.00          FE  \nATOM    543   Fe MOL     1       9.718  13.750 511.926  1.00  0.00          FE  \nATOM    544   Fe MOL     1      10.528  14.896 513.919  1.00  0.00          FE  \nATOM    545   Fe MOL     1       9.718  13.750 515.907  1.00  0.00          FE  \nATOM    546   Fe MOL     1      10.530  14.897  -0.000  1.00  0.00          FE  \nATOM    547   Fe MOL     1       9.720  13.751   1.985  1.00  0.00          FE  \nATOM    548   Fe MOL     1      10.530  14.897   3.978  1.00  0.00          FE  \nATOM    549   Fe MOL     1       9.720  13.751   5.985  1.00  0.00          FE  \nATOM    550   Fe MOL     1      10.530  14.897   7.985  1.00  0.00          FE  \nATOM    551   Fe MOL     1       8.907  16.042 507.918  1.00  0.00          FE  \nATOM    552   Fe MOL     1       9.717  17.188 509.919  1.00  0.00          FE  \nATOM    553   Fe MOL     1       8.907  16.042 511.926  1.00  0.00          FE  \nATOM    554   Fe MOL     1       9.717  17.188 513.919  1.00  0.00          FE  \nATOM    555   Fe MOL     1       8.907  16.042 515.907  1.00  0.00          FE  \nATOM    556   Fe MOL     1       9.718  17.189  -0.000  1.00  0.00          FE  \nATOM    557   Fe MOL     1       8.908  16.043   1.985  1.00  0.00          FE  \nATOM    558   Fe MOL     1       9.718  17.189   3.978  1.00  0.00          FE  \nATOM    559   Fe MOL     1       8.908  16.043   5.985  1.00  0.00          FE  \nATOM    560   Fe MOL     1       9.718  17.189   7.985  1.00  0.00          FE  \nATOM    561   Fe MOL     1      17.017  -0.001 507.918  1.00  0.00          FE  \nATOM    562   Fe MOL     1      17.827   1.145 509.919  1.00  0.00          FE  \nATOM    563   Fe MOL     1      17.017  -0.001 511.926  1.00  0.00          FE  \nATOM    564   Fe MOL     1      17.827   1.145 513.919  1.00  0.00          FE  \nATOM    565   Fe MOL     1      17.017  -0.001 515.907  1.00  0.00          FE  \nATOM    566   Fe MOL     1      17.829   1.146  -0.000  1.00  0.00          FE  \nATOM    567   Fe MOL     1      17.019  -0.000   1.985  1.00  0.00          FE  \nATOM    568   Fe MOL     1      17.829   1.146   3.978  1.00  0.00          FE  \nATOM    569   Fe MOL     1      17.019  -0.000   5.985  1.00  0.00          FE  \nATOM    570   Fe MOL     1      17.829   1.146   7.985  1.00  0.00          FE  \nATOM    571   Fe MOL     1      16.206   2.291 507.918  1.00  0.00          FE  \nATOM    572   Fe MOL     1      17.016   3.437 509.919  1.00  0.00          FE  \nATOM    573   Fe MOL     1      16.206   2.291 511.926  1.00  0.00          FE  \nATOM    574   Fe MOL     1      17.016   3.437 513.919  1.00  0.00          FE  \nATOM    575   Fe MOL     1      16.206   2.291 515.907  1.00  0.00          FE  \nATOM    576   Fe MOL     1      17.018   3.438  -0.000  1.00  0.00          FE  \nATOM    577   Fe MOL     1      16.208   2.292   1.985  1.00  0.00          FE  \nATOM    578   Fe MOL     1      17.017   3.438   3.978  1.00  0.00          FE  \nATOM    579   Fe MOL     1      16.208   2.292   5.985  1.00  0.00          FE  \nATOM    580   Fe MOL     1      17.018   3.438   7.985  1.00  0.00          FE  \nATOM    581   Fe MOL     1      15.395   4.582 507.918  1.00  0.00          FE  \nATOM    582   Fe MOL     1      16.205   5.728 509.919  1.00  0.00          FE  \nATOM    583   Fe MOL     1      15.395   4.582 511.926  1.00  0.00          FE  \nATOM    584   Fe MOL     1      16.205   5.728 513.919  1.00  0.00          FE  \nATOM    585   Fe MOL     1      15.395   4.582 515.907  1.00  0.00          FE  \nATOM    586   Fe MOL     1      16.206   5.730  -0.000  1.00  0.00          FE  \nATOM    587   Fe MOL     1      15.396   4.584   1.985  1.00  0.00          FE  \nATOM    588   Fe MOL     1      16.206   5.730   3.978  1.00  0.00          FE  \nATOM    589   Fe MOL     1      15.396   4.584   5.985  1.00  0.00          FE  \nATOM    590   Fe MOL     1      16.206   5.730   7.985  1.00  0.00          FE  \nATOM    591   Fe MOL     1      14.583   6.874 507.918  1.00  0.00          FE  \nATOM    592   Fe MOL     1      15.393   8.020 509.919  1.00  0.00          FE  \nATOM    593   Fe MOL     1      14.583   6.874 511.926  1.00  0.00          FE  \nATOM    594   Fe MOL     1      15.393   8.020 513.919  1.00  0.00          FE  \nATOM    595   Fe MOL     1      14.583   6.874 515.907  1.00  0.00          FE  \nATOM    596   Fe MOL     1      15.395   8.022  -0.000  1.00  0.00          FE  \nATOM    597   Fe MOL     1      14.585   6.876   1.985  1.00  0.00          FE  \nATOM    598   Fe MOL     1      15.395   8.022   3.978  1.00  0.00          FE  \nATOM    599   Fe MOL     1      14.585   6.876   5.985  1.00  0.00          FE  \nATOM    600   Fe MOL     1      15.395   8.022   7.985  1.00  0.00          FE  \nATOM    601   Fe MOL     1      13.772   9.166 507.918  1.00  0.00          FE  \nATOM    602   Fe MOL     1      14.582  10.312 509.919  1.00  0.00          FE  \nATOM    603   Fe MOL     1      13.772   9.166 511.926  1.00  0.00          FE  \nATOM    604   Fe MOL     1      14.582  10.312 513.919  1.00  0.00          FE  \nATOM    605   Fe MOL     1      13.772   9.166 515.907  1.00  0.00          FE  \nATOM    606   Fe MOL     1      14.583  10.313  -0.000  1.00  0.00          FE  \nATOM    607   Fe MOL     1      13.773   9.167   1.985  1.00  0.00          FE  \nATOM    608   Fe MOL     1      14.583  10.313   3.978  1.00  0.00          FE  \nATOM    609   Fe MOL     1      13.774   9.167   5.985  1.00  0.00          FE  \nATOM    610   Fe MOL     1      14.583  10.313   7.985  1.00  0.00          FE  \nATOM    611   Fe MOL     1      12.961  11.458 507.918  1.00  0.00          FE  \nATOM    612   Fe MOL     1      13.771  12.604 509.919  1.00  0.00          FE  \nATOM    613   Fe MOL     1      12.961  11.458 511.926  1.00  0.00          FE  \nATOM    614   Fe MOL     1      13.771  12.604 513.919  1.00  0.00          FE  \nATOM    615   Fe MOL     1      12.961  11.458 515.907  1.00  0.00          FE  \nATOM    616   Fe MOL     1      13.772  12.605  -0.000  1.00  0.00          FE  \nATOM    617   Fe MOL     1      12.962  11.459   1.985  1.00  0.00          FE  \nATOM    618   Fe MOL     1      13.772  12.605   3.978  1.00  0.00          FE  \nATOM    619   Fe MOL     1      12.962  11.459   5.985  1.00  0.00          FE  \nATOM    620   Fe MOL     1      13.772  12.605   7.985  1.00  0.00          FE  \nATOM    621   Fe MOL     1      12.149  13.750 507.918  1.00  0.00          FE  \nATOM    622   Fe MOL     1      12.959  14.896 509.919  1.00  0.00          FE  \nATOM    623   Fe MOL     1      12.149  13.750 511.926  1.00  0.00          FE  \nATOM    624   Fe MOL     1      12.959  14.896 513.919  1.00  0.00          FE  \nATOM    625   Fe MOL     1      12.149  13.750 515.907  1.00  0.00          FE  \nATOM    626   Fe MOL     1      12.961  14.897  -0.000  1.00  0.00          FE  \nATOM    627   Fe MOL     1      12.151  13.751   1.985  1.00  0.00          FE  \nATOM    628   Fe MOL     1      12.961  14.897   3.978  1.00  0.00          FE  \nATOM    629   Fe MOL     1      12.151  13.751   5.985  1.00  0.00          FE  \nATOM    630   Fe MOL     1      12.961  14.897   7.985  1.00  0.00          FE  \nATOM    631   Fe MOL     1      11.338  16.042 507.918  1.00  0.00          FE  \nATOM    632   Fe MOL     1      12.148  17.188 509.919  1.00  0.00          FE  \nATOM    633   Fe MOL     1      11.338  16.042 511.926  1.00  0.00          FE  \nATOM    634   Fe MOL     1      12.148  17.188 513.919  1.00  0.00          FE  \nATOM    635   Fe MOL     1      11.338  16.042 515.907  1.00  0.00          FE  \nATOM    636   Fe MOL     1      12.149  17.189  -0.000  1.00  0.00          FE  \nATOM    637   Fe MOL     1      11.339  16.043   1.985  1.00  0.00          FE  \nATOM    638   Fe MOL     1      12.149  17.189   3.978  1.00  0.00          FE  \nATOM    639   Fe MOL     1      11.339  16.043   5.985  1.00  0.00          FE  \nATOM    640   Fe MOL     1      12.149  17.189   7.985  1.00  0.00          FE  \nATOM    641    O MOL     1       9.238  18.160 361.327  1.00  0.00           O  \nATOM    642    C MOL     1       8.309  17.164 361.774  1.00  0.00           C  \nATOM    643    C MOL     1       6.960  17.812 362.027  1.00  0.00           C  \nATOM    644    O MOL     1       6.259  18.177 360.844  1.00  0.00           O  \nATOM    645    C MOL     1       6.531  19.498 360.372  1.00  0.00           C  \nATOM    646    C MOL     1       5.634  19.725 359.167  1.00  0.00           C  \nATOM    647    O MOL     1       5.907  21.032 358.677  1.00  0.00           O  \nATOM    648    C MOL     1       5.052  21.438 357.618  1.00  0.00           C  \nATOM    649    C MOL     1       5.336  20.776 356.279  1.00  0.00           C  \nATOM    650    O MOL     1       6.609  21.192 355.808  1.00  0.00           O  \nATOM    651    C MOL     1       6.981  20.548 354.599  1.00  0.00           C  \nATOM    652    C MOL     1       8.383  21.034 354.239  1.00  0.00           C  \nATOM    653    O MOL     1       8.910  20.387 353.086  1.00  0.00           O  \nATOM    654    C MOL     1       8.401  20.859 351.837  1.00  0.00           C  \nATOM    655    C MOL     1       7.615  19.760 351.134  1.00  0.00           C  \nATOM    656    O MOL     1       7.258  20.257 349.848  1.00  0.00           O  \nATOM    657    C MOL     1       6.518  19.334 349.050  1.00  0.00           C  \nATOM    658    C MOL     1       5.021  19.372 349.385  1.00  0.00           C  \nATOM    659    O MOL     1       4.281  18.481 348.549  1.00  0.00           O  \nATOM    660    C MOL     1       3.529  19.107 347.516  1.00  0.00           C  \nATOM    661    C MOL     1       4.351  19.811 346.437  1.00  0.00           C  \nATOM    662    O MOL     1       5.344  19.005 345.810  1.00  0.00           O  \nATOM    663    C MOL     1       4.862  17.854 345.123  1.00  0.00           C  \nATOM    664    C MOL     1       3.859  18.146 344.004  1.00  0.00           C  \nATOM    665    O MOL     1       4.270  19.148 343.084  1.00  0.00           O  \nATOM    666    C MOL     1       5.402  18.780 342.300  1.00  0.00           C  \nATOM    667    C MOL     1       5.639  19.831 341.231  1.00  0.00           C  \nATOM    668    O MOL     1       4.625  19.861 340.232  1.00  0.00           O  \nATOM    669    C MOL     1       3.596  20.824 340.469  1.00  0.00           C  \nATOM    670    C MOL     1       2.552  20.637 339.373  1.00  0.00           C  \nATOM    671    O MOL     1       1.577  21.685 339.403  1.00  0.00           O  \nATOM    672    C MOL     1       0.495  21.490 340.312  1.00  0.00           C  \nATOM    673    C MOL     1      -0.676  20.747 339.695  1.00  0.00           C  \nATOM    674    O MOL     1      -0.383  19.349 339.640  1.00  0.00           O  \nATOM    675    C MOL     1      -1.158  18.626 338.687  1.00  0.00           C  \nATOM    676    C MOL     1      -0.438  18.568 337.333  1.00  0.00           C  \nATOM    677    O MOL     1      -1.200  17.849 336.363  1.00  0.00           O  \nATOM    678    C MOL     1      -1.035  16.431 336.420  1.00  0.00           C  \nATOM    679    C MOL     1       0.139  15.965 335.547  1.00  0.00           C  \nATOM    680    O MOL     1       0.342  14.558 335.648  1.00  0.00           O  \nATOM    681    C MOL     1      -0.520  13.790 334.817  1.00  0.00           C  \nATOM    682    C MOL     1      -0.269  12.314 335.075  1.00  0.00           C  \nATOM    683    O MOL     1       0.996  11.845 334.612  1.00  0.00           O  \nATOM    684    C MOL     1       1.024  11.510 333.227  1.00  0.00           C  \nATOM    685    C MOL     1       0.507  10.092 332.992  1.00  0.00           C  \nATOM    686    H MOL     1      10.053  17.716 361.041  1.00  0.00           H  \nATOM    687    H MOL     1       8.186  16.367 361.018  1.00  0.00           H  \nATOM    688    H MOL     1       8.654  16.699 362.718  1.00  0.00           H  \nATOM    689    H MOL     1       6.323  17.080 362.549  1.00  0.00           H  \nATOM    690    H MOL     1       7.089  18.688 362.690  1.00  0.00           H  \nATOM    691    H MOL     1       7.588  19.613 360.085  1.00  0.00           H  \nATOM    692    H MOL     1       6.303  20.241 361.159  1.00  0.00           H  \nATOM    693    H MOL     1       5.844  18.949 358.408  1.00  0.00           H  \nATOM    694    H MOL     1       4.569  19.633 359.461  1.00  0.00           H  \nATOM    695    H MOL     1       3.992  21.249 357.883  1.00  0.00           H  \nATOM    696    H MOL     1       5.196  22.524 357.519  1.00  0.00           H  \nATOM    697    H MOL     1       5.302  19.673 356.366  1.00  0.00           H  \nATOM    698    H MOL     1       4.540  21.071 355.563  1.00  0.00           H  \nATOM    699    H MOL     1       6.990  19.448 354.726  1.00  0.00           H  \nATOM    700    H MOL     1       6.257  20.789 353.793  1.00  0.00           H  \nATOM    701    H MOL     1       8.374  22.132 354.109  1.00  0.00           H  \nATOM    702    H MOL     1       9.065  20.796 355.067  1.00  0.00           H  \nATOM    703    H MOL     1       7.764  21.749 351.978  1.00  0.00           H  \nATOM    704    H MOL     1       9.253  21.153 351.202  1.00  0.00           H  \nATOM    705    H MOL     1       8.245  18.855 351.038  1.00  0.00           H  \nATOM    706    H MOL     1       6.725  19.488 351.732  1.00  0.00           H  \nATOM    707    H MOL     1       6.677  19.619 348.002  1.00  0.00           H  \nATOM    708    H MOL     1       6.901  18.305 349.178  1.00  0.00           H  \nATOM    709    H MOL     1       4.854  19.050 350.425  1.00  0.00           H  \nATOM    710    H MOL     1       4.649  20.407 349.291  1.00  0.00           H  \nATOM    711    H MOL     1       2.917  18.303 347.082  1.00  0.00           H  \nATOM    712    H MOL     1       2.830  19.857 347.941  1.00  0.00           H  \nATOM    713    H MOL     1       4.908  20.657 346.865  1.00  0.00           H  \nATOM    714    H MOL     1       3.647  20.233 345.694  1.00  0.00           H  \nATOM    715    H MOL     1       4.397  17.130 345.819  1.00  0.00           H  \nATOM    716    H MOL     1       5.765  17.375 344.719  1.00  0.00           H  \nATOM    717    H MOL     1       3.657  17.190 343.478  1.00  0.00           H  \nATOM    718    H MOL     1       2.903  18.504 344.413  1.00  0.00           H  \nATOM    719    H MOL     1       5.228  17.797 341.822  1.00  0.00           H  \nATOM    720    H MOL     1       6.312  18.707 342.927  1.00  0.00           H  \nATOM    721    H MOL     1       6.585  19.587 340.720  1.00  0.00           H  \nATOM    722    H MOL     1       5.754  20.824 341.701  1.00  0.00           H  \nATOM    723    H MOL     1       3.156  20.679 341.470  1.00  0.00           H  \nATOM    724    H MOL     1       4.009  21.849 340.412  1.00  0.00           H  \nATOM    725    H MOL     1       3.046  20.706 338.393  1.00  0.00           H  \nATOM    726    H MOL     1       2.078  19.648 339.456  1.00  0.00           H  \nATOM    727    H MOL     1       0.155  22.497 340.603  1.00  0.00           H  \nATOM    728    H MOL     1       0.823  20.965 341.227  1.00  0.00           H  \nATOM    729    H MOL     1      -1.586  20.914 340.308  1.00  0.00           H  \nATOM    730    H MOL     1      -0.864  21.154 338.686  1.00  0.00           H  \nATOM    731    H MOL     1      -2.161  19.072 338.559  1.00  0.00           H  \nATOM    732    H MOL     1      -1.290  17.612 339.094  1.00  0.00           H  \nATOM    733    H MOL     1       0.566  18.129 337.475  1.00  0.00           H  \nATOM    734    H MOL     1      -0.304  19.584 336.933  1.00  0.00           H  \nATOM    735    H MOL     1      -0.875  16.077 337.453  1.00  0.00           H  \nATOM    736    H MOL     1      -1.980  15.997 336.059  1.00  0.00           H  \nATOM    737    H MOL     1      -0.029  16.271 334.498  1.00  0.00           H  \nATOM    738    H MOL     1       1.073  16.433 335.891  1.00  0.00           H  \nATOM    739    H MOL     1      -0.350  14.044 333.752  1.00  0.00           H  \nATOM    740    H MOL     1      -1.587  13.997 335.038  1.00  0.00           H  \nATOM    741    H MOL     1      -1.098  11.735 334.626  1.00  0.00           H  \nATOM    742    H MOL     1      -0.280  12.137 336.161  1.00  0.00           H  \nATOM    743    H MOL     1       0.435  12.219 332.619  1.00  0.00           H  \nATOM    744    H MOL     1       2.072  11.584 332.906  1.00  0.00           H  \nATOM    745    H MOL     1       1.140   9.361 333.531  1.00  0.00           H  \nATOM    746    H MOL     1      -0.521  10.000 333.388  1.00  0.00           H  \nATOM    747    O MOL     1       0.544   9.850 331.590  1.00  0.00           O  \nATOM    748    C MOL     1      -0.100   8.639 331.197  1.00  0.00           C  \nATOM    749    C MOL     1      -1.627   8.698 331.185  1.00  0.00           C  \nATOM    750    O MOL     1      -2.175   9.543 330.182  1.00  0.00           O  \nATOM    751    C MOL     1      -2.182  10.933 330.511  1.00  0.00           C  \nATOM    752    C MOL     1      -2.989  11.635 329.432  1.00  0.00           C  \nATOM    753    O MOL     1      -2.852  13.035 329.640  1.00  0.00           O  \nATOM    754    C MOL     1      -3.722  13.823 328.837  1.00  0.00           C  \nATOM    755    C MOL     1      -3.469  13.737 327.341  1.00  0.00           C  \nATOM    756    O MOL     1      -2.179  14.250 327.042  1.00  0.00           O  \nATOM    757    C MOL     1      -1.770  13.952 325.715  1.00  0.00           C  \nATOM    758    C MOL     1      -0.382  14.559 325.519  1.00  0.00           C  \nATOM    759    O MOL     1       0.267  14.111 324.336  1.00  0.00           O  \nATOM    760    C MOL     1      -0.251  14.641 323.115  1.00  0.00           C  \nATOM    761    C MOL     1      -1.029  13.576 322.350  1.00  0.00           C  \nATOM    762    O MOL     1      -1.371  14.125 321.081  1.00  0.00           O  \nATOM    763    C MOL     1      -2.150  13.248 320.267  1.00  0.00           C  \nATOM    764    C MOL     1      -3.644  13.371 320.590  1.00  0.00           C  \nATOM    765    O MOL     1      -4.424  12.458 319.816  1.00  0.00           O  \nATOM    766    C MOL     1      -5.138  13.038 318.731  1.00  0.00           C  \nATOM    767    C MOL     1      -4.276  13.601 317.601  1.00  0.00           C  \nATOM    768    O MOL     1      -3.299  12.705 317.078  1.00  0.00           O  \nATOM    769    C MOL     1      -3.800  11.475 316.564  1.00  0.00           C  \nATOM    770    C MOL     1      -4.825  11.617 315.436  1.00  0.00           C  \nATOM    771    O MOL     1      -4.426  12.469 314.372  1.00  0.00           O  \nATOM    772    C MOL     1      -3.313  11.980 313.627  1.00  0.00           C  \nATOM    773    C MOL     1      -3.133  12.825 312.379  1.00  0.00           C  \nATOM    774    O MOL     1      -4.182  12.659 311.430  1.00  0.00           O  \nATOM    775    C MOL     1      -5.229  13.626 311.542  1.00  0.00           C  \nATOM    776    C MOL     1      -6.339  13.205 310.585  1.00  0.00           C  \nATOM    777    O MOL     1      -7.364  14.199 310.524  1.00  0.00           O  \nATOM    778    C MOL     1      -8.355  14.109 311.549  1.00  0.00           C  \nATOM    779    C MOL     1      -9.604  13.386 311.078  1.00  0.00           C  \nATOM    780    O MOL     1      -9.346  11.983 310.983  1.00  0.00           O  \nATOM    781    C MOL     1     -10.050  11.323 309.934  1.00  0.00           C  \nATOM    782    C MOL     1      -9.261  11.391 308.620  1.00  0.00           C  \nATOM    783    O MOL     1      -9.974  10.768 307.550  1.00  0.00           O  \nATOM    784    C MOL     1      -9.756   9.360 307.436  1.00  0.00           C  \nATOM    785    C MOL     1      -8.505   9.057 306.600  1.00  0.00           C  \nATOM    786    O MOL     1      -8.269   7.658 306.471  1.00  0.00           O  \nATOM    787    C MOL     1      -9.029   7.037 305.441  1.00  0.00           C  \nATOM    788    C MOL     1      -8.581   5.590 305.303  1.00  0.00           C  \nATOM    789    O MOL     1      -7.259   5.439 304.801  1.00  0.00           O  \nATOM    790    C MOL     1      -7.155   5.509 303.376  1.00  0.00           C  \nATOM    791    C MOL     1      -7.501   4.191 302.690  1.00  0.00           C  \nATOM    792    H MOL     1       0.256   8.431 330.177  1.00  0.00           H  \nATOM    793    H MOL     1       0.218   7.804 331.853  1.00  0.00           H  \nATOM    794    H MOL     1      -1.999   7.685 330.963  1.00  0.00           H  \nATOM    795    H MOL     1      -2.020   8.985 332.180  1.00  0.00           H  \nATOM    796    H MOL     1      -1.161  11.345 330.537  1.00  0.00           H  \nATOM    797    H MOL     1      -2.644  11.090 331.505  1.00  0.00           H  \nATOM    798    H MOL     1      -2.597  11.329 328.446  1.00  0.00           H  \nATOM    799    H MOL     1      -4.054  11.331 329.484  1.00  0.00           H  \nATOM    800    H MOL     1      -4.779  13.541 329.021  1.00  0.00           H  \nATOM    801    H MOL     1      -3.575  14.858 329.176  1.00  0.00           H  \nATOM    802    H MOL     1      -3.552  12.690 326.990  1.00  0.00           H  \nATOM    803    H MOL     1      -4.255  14.317 326.815  1.00  0.00           H  \nATOM    804    H MOL     1      -1.717  12.855 325.562  1.00  0.00           H  \nATOM    805    H MOL     1      -2.496  14.361 324.984  1.00  0.00           H  \nATOM    806    H MOL     1      -0.447  15.663 325.538  1.00  0.00           H  \nATOM    807    H MOL     1       0.255  14.241 326.356  1.00  0.00           H  \nATOM    808    H MOL     1      -0.888  15.522 323.303  1.00  0.00           H  \nATOM    809    H MOL     1       0.602  14.968 322.499  1.00  0.00           H  \nATOM    810    H MOL     1      -0.394  12.678 322.224  1.00  0.00           H  \nATOM    811    H MOL     1      -1.928  13.274 322.918  1.00  0.00           H  \nATOM    812    H MOL     1      -1.959  13.525 319.222  1.00  0.00           H  \nATOM    813    H MOL     1      -1.830  12.198 320.396  1.00  0.00           H  \nATOM    814    H MOL     1      -3.821  13.123 321.649  1.00  0.00           H  \nATOM    815    H MOL     1      -3.976  14.412 320.431  1.00  0.00           H  \nATOM    816    H MOL     1      -5.793  12.235 318.362  1.00  0.00           H  \nATOM    817    H MOL     1      -5.794  13.859 319.086  1.00  0.00           H  \nATOM    818    H MOL     1      -3.697  14.469 317.950  1.00  0.00           H  \nATOM    819    H MOL     1      -4.955  13.964 316.805  1.00  0.00           H  \nATOM    820    H MOL     1      -4.253  10.857 317.363  1.00  0.00           H  \nATOM    821    H MOL     1      -2.908  10.939 316.211  1.00  0.00           H  \nATOM    822    H MOL     1      -5.050  10.598 315.059  1.00  0.00           H  \nATOM    823    H MOL     1      -5.768  12.044 315.810  1.00  0.00           H  \nATOM    824    H MOL     1      -3.486  10.925 313.337  1.00  0.00           H  \nATOM    825    H MOL     1      -2.384  12.030 314.226  1.00  0.00           H  \nATOM    826    H MOL     1      -2.201  12.506 311.885  1.00  0.00           H  \nATOM    827    H MOL     1      -3.023  13.888 312.659  1.00  0.00           H  \nATOM    828    H MOL     1      -5.599  13.675 312.579  1.00  0.00           H  \nATOM    829    H MOL     1      -4.857  14.628 311.255  1.00  0.00           H  \nATOM    830    H MOL     1      -5.929  13.117 309.568  1.00  0.00           H  \nATOM    831    H MOL     1      -6.751  12.226 310.878  1.00  0.00           H  \nATOM    832    H MOL     1      -8.629  15.140 311.824  1.00  0.00           H  \nATOM    833    H MOL     1      -7.956  13.612 312.449  1.00  0.00           H  \nATOM    834    H MOL     1     -10.429  13.566 311.796  1.00  0.00           H  \nATOM    835    H MOL     1      -9.906  13.799 310.100  1.00  0.00           H  \nATOM    836    H MOL     1     -11.056  11.756 309.786  1.00  0.00           H  \nATOM    837    H MOL     1     -10.176  10.278 310.253  1.00  0.00           H  \nATOM    838    H MOL     1      -8.265  10.938 308.770  1.00  0.00           H  \nATOM    839    H MOL     1      -9.107  12.440 308.327  1.00  0.00           H  \nATOM    840    H MOL     1      -9.662   8.878 308.425  1.00  0.00           H  \nATOM    841    H MOL     1     -10.652   8.951 306.947  1.00  0.00           H  \nATOM    842    H MOL     1      -8.600   9.537 305.608  1.00  0.00           H  \nATOM    843    H MOL     1      -7.612   9.470 307.092  1.00  0.00           H  \nATOM    844    H MOL     1      -8.893   7.586 304.489  1.00  0.00           H  \nATOM    845    H MOL     1     -10.113   7.044 305.674  1.00  0.00           H  \nATOM    846    H MOL     1      -9.316   5.053 304.673  1.00  0.00           H  \nATOM    847    H MOL     1      -8.585   5.121 306.299  1.00  0.00           H  \nATOM    848    H MOL     1      -7.783   6.328 302.979  1.00  0.00           H  \nATOM    849    H MOL     1      -6.107   5.777 303.177  1.00  0.00           H  \nATOM    850    H MOL     1      -6.858   3.384 303.067  1.00  0.00           H  \nATOM    851    H MOL     1      -8.549   3.905 302.857  1.00  0.00           H  \nATOM    852    H MOL     1      -7.349   4.278 301.604  1.00  0.00           H  \nATOM    853    O MOL     1      19.961  17.651 178.110  1.00  0.00           O  \nATOM    854    C MOL     1      19.641  19.016 178.408  1.00  0.00           C  \nATOM    855    C MOL     1      18.413  19.428 177.617  1.00  0.00           C  \nATOM    856    O MOL     1      17.197  18.863 178.094  1.00  0.00           O  \nATOM    857    C MOL     1      16.852  17.606 177.508  1.00  0.00           C  \nATOM    858    C MOL     1      15.499  17.216 178.076  1.00  0.00           C  \nATOM    859    O MOL     1      15.151  15.956 177.513  1.00  0.00           O  \nATOM    860    C MOL     1      13.846  15.514 177.858  1.00  0.00           C  \nATOM    861    C MOL     1      13.697  15.019 179.287  1.00  0.00           C  \nATOM    862    O MOL     1      14.466  13.839 179.460  1.00  0.00           O  \nATOM    863    C MOL     1      14.443  13.364 180.798  1.00  0.00           C  \nATOM    864    C MOL     1      15.351  12.137 180.859  1.00  0.00           C  \nATOM    865    O MOL     1      15.486  11.618 182.177  1.00  0.00           O  \nATOM    866    C MOL     1      14.377  10.849 182.645  1.00  0.00           C  \nATOM    867    C MOL     1      13.710  11.543 183.827  1.00  0.00           C  \nATOM    868    O MOL     1      12.708  10.660 184.320  1.00  0.00           O  \nATOM    869    C MOL     1      11.990  11.164 185.447  1.00  0.00           C  \nATOM    870    C MOL     1      10.843  12.088 185.018  1.00  0.00           C  \nATOM    871    O MOL     1      10.099  12.548 186.148  1.00  0.00           O  \nATOM    872    C MOL     1       8.832  11.928 186.328  1.00  0.00           C  \nATOM    873    C MOL     1       8.869  10.438 186.666  1.00  0.00           C  \nATOM    874    O MOL     1       9.676  10.091 187.787  1.00  0.00           O  \nATOM    875    C MOL     1       9.292  10.673 189.028  1.00  0.00           C  \nATOM    876    C MOL     1       7.866  10.344 189.479  1.00  0.00           C  \nATOM    877    O MOL     1       7.537   8.963 189.447  1.00  0.00           O  \nATOM    878    C MOL     1       8.271   8.173 190.379  1.00  0.00           C  \nATOM    879    C MOL     1       7.714   6.762 190.394  1.00  0.00           C  \nATOM    880    O MOL     1       6.405   6.675 190.948  1.00  0.00           O  \nATOM    881    C MOL     1       5.354   6.716 189.980  1.00  0.00           C  \nATOM    882    C MOL     1       4.039   6.727 190.752  1.00  0.00           C  \nATOM    883    O MOL     1       2.922   6.565 189.873  1.00  0.00           O  \nATOM    884    C MOL     1       2.444   7.762 189.261  1.00  0.00           C  \nATOM    885    C MOL     1       1.384   8.472 190.085  1.00  0.00           C  \nATOM    886    O MOL     1       2.007   9.187 191.154  1.00  0.00           O  \nATOM    887    C MOL     1       1.135   9.490 192.241  1.00  0.00           C  \nATOM    888    C MOL     1       1.182   8.380 193.300  1.00  0.00           C  \nATOM    889    O MOL     1       0.313   8.664 194.397  1.00  0.00           O  \nATOM    890    C MOL     1       0.880   9.522 195.389  1.00  0.00           C  \nATOM    891    C MOL     1       1.638   8.723 196.458  1.00  0.00           C  \nATOM    892    O MOL     1       2.253   9.580 197.416  1.00  0.00           O  \nATOM    893    C MOL     1       1.372  10.026 198.441  1.00  0.00           C  \nATOM    894    C MOL     1       2.115  10.995 199.345  1.00  0.00           C  \nATOM    895    O MOL     1       3.130  10.389 200.143  1.00  0.00           O  \nATOM    896    C MOL     1       2.650   9.788 201.343  1.00  0.00           C  \nATOM    897    C MOL     1       2.506  10.821 202.458  1.00  0.00           C  \nATOM    898    H MOL     1      20.660  17.358 178.718  1.00  0.00           H  \nATOM    899    H MOL     1      19.434  19.151 179.484  1.00  0.00           H  \nATOM    900    H MOL     1      20.476  19.687 178.127  1.00  0.00           H  \nATOM    901    H MOL     1      18.300  20.521 177.706  1.00  0.00           H  \nATOM    902    H MOL     1      18.562  19.186 176.548  1.00  0.00           H  \nATOM    903    H MOL     1      17.600  16.834 177.743  1.00  0.00           H  \nATOM    904    H MOL     1      16.788  17.701 176.407  1.00  0.00           H  \nATOM    905    H MOL     1      15.569  17.167 179.178  1.00  0.00           H  \nATOM    906    H MOL     1      14.740  17.981 177.818  1.00  0.00           H  \nATOM    907    H MOL     1      13.107  16.323 177.690  1.00  0.00           H  \nATOM    908    H MOL     1      13.620  14.688 177.167  1.00  0.00           H  \nATOM    909    H MOL     1      14.018  15.794 180.011  1.00  0.00           H  \nATOM    910    H MOL     1      12.623  14.817 179.481  1.00  0.00           H  \nATOM    911    H MOL     1      14.817  14.138 181.497  1.00  0.00           H  \nATOM    912    H MOL     1      13.407  13.108 181.101  1.00  0.00           H  \nATOM    913    H MOL     1      14.976  11.363 180.164  1.00  0.00           H  \nATOM    914    H MOL     1      16.360  12.425 180.534  1.00  0.00           H  \nATOM    915    H MOL     1      13.641  10.682 181.841  1.00  0.00           H  \nATOM    916    H MOL     1      14.748   9.864 182.971  1.00  0.00           H  \nATOM    917    H MOL     1      14.464  11.750 184.610  1.00  0.00           H  \nATOM    918    H MOL     1      13.284  12.513 183.507  1.00  0.00           H  \nATOM    919    H MOL     1      11.592  10.294 185.986  1.00  0.00           H  \nATOM    920    H MOL     1      12.664  11.703 186.137  1.00  0.00           H  \nATOM    921    H MOL     1      11.241  12.980 184.509  1.00  0.00           H  \nATOM    922    H MOL     1      10.191  11.558 184.301  1.00  0.00           H  \nATOM    923    H MOL     1       8.347  12.501 187.134  1.00  0.00           H  \nATOM    924    H MOL     1       8.205  12.045 185.420  1.00  0.00           H  \nATOM    925    H MOL     1       9.292   9.863 185.829  1.00  0.00           H  \nATOM    926    H MOL     1       7.826  10.093 186.798  1.00  0.00           H  \nATOM    927    H MOL     1       9.399  11.775 189.011  1.00  0.00           H  \nATOM    928    H MOL     1      10.025  10.292 189.752  1.00  0.00           H  \nATOM    929    H MOL     1       7.736  10.755 190.502  1.00  0.00           H  \nATOM    930    H MOL     1       7.123  10.834 188.833  1.00  0.00           H  \nATOM    931    H MOL     1       8.192   8.614 191.392  1.00  0.00           H  \nATOM    932    H MOL     1       9.341   8.125 190.101  1.00  0.00           H  \nATOM    933    H MOL     1       8.371   6.146 191.029  1.00  0.00           H  \nATOM    934    H MOL     1       7.735   6.340 189.373  1.00  0.00           H  \nATOM    935    H MOL     1       5.452   7.609 189.341  1.00  0.00           H  \nATOM    936    H MOL     1       5.394   5.817 189.334  1.00  0.00           H  \nATOM    937    H MOL     1       4.018   5.866 191.436  1.00  0.00           H  \nATOM    938    H MOL     1       3.949   7.648 191.348  1.00  0.00           H  \nATOM    939    H MOL     1       1.994   7.458 188.303  1.00  0.00           H  \nATOM    940    H MOL     1       3.269   8.462 189.041  1.00  0.00           H  \nATOM    941    H MOL     1       0.824   9.178 189.440  1.00  0.00           H  \nATOM    942    H MOL     1       0.671   7.721 190.470  1.00  0.00           H  \nATOM    943    H MOL     1       0.096   9.635 191.897  1.00  0.00           H  \nATOM    944    H MOL     1       1.485  10.442 192.668  1.00  0.00           H  \nATOM    945    H MOL     1       2.227   8.237 193.630  1.00  0.00           H  \nATOM    946    H MOL     1       0.836   7.430 192.867  1.00  0.00           H  \nATOM    947    H MOL     1       1.564  10.266 194.945  1.00  0.00           H  \nATOM    948    H MOL     1       0.037  10.067 195.840  1.00  0.00           H  \nATOM    949    H MOL     1       0.954   8.004 196.945  1.00  0.00           H  \nATOM    950    H MOL     1       2.454   8.151 195.993  1.00  0.00           H  \nATOM    951    H MOL     1       0.986   9.160 199.014  1.00  0.00           H  \nATOM    952    H MOL     1       0.496  10.559 198.019  1.00  0.00           H  \nATOM    953    H MOL     1       1.374  11.523 199.974  1.00  0.00           H  \nATOM    954    H MOL     1       2.626  11.742 198.721  1.00  0.00           H  \nATOM    955    H MOL     1       1.682   9.279 201.190  1.00  0.00           H  \nATOM    956    H MOL     1       3.387   9.026 201.632  1.00  0.00           H  \nATOM    957    H MOL     1       3.488  11.282 202.680  1.00  0.00           H  \nATOM    958    H MOL     1       1.823  11.628 202.134  1.00  0.00           H  \nATOM    959    O MOL     1       2.000  10.147 203.605  1.00  0.00           O  \nATOM    960    C MOL     1       1.621  11.019 204.668  1.00  0.00           C  \nATOM    961    C MOL     1       0.292  11.745 204.461  1.00  0.00           C  \nATOM    962    O MOL     1      -0.850  10.899 204.488  1.00  0.00           O  \nATOM    963    C MOL     1      -1.106  10.203 203.268  1.00  0.00           C  \nATOM    964    C MOL     1      -2.463   9.536 203.420  1.00  0.00           C  \nATOM    965    O MOL     1      -2.651   8.690 202.293  1.00  0.00           O  \nATOM    966    C MOL     1      -3.966   8.158 202.186  1.00  0.00           C  \nATOM    967    C MOL     1      -4.372   7.219 203.310  1.00  0.00           C  \nATOM    968    O MOL     1      -3.542   6.067 203.296  1.00  0.00           O  \nATOM    969    C MOL     1      -3.681   5.284 204.473  1.00  0.00           C  \nATOM    970    C MOL     1      -2.749   4.082 204.332  1.00  0.00           C  \nATOM    971    O MOL     1      -2.578   3.356 205.543  1.00  0.00           O  \nATOM    972    C MOL     1      -3.700   2.571 205.950  1.00  0.00           C  \nATOM    973    C MOL     1      -4.396   3.203 207.151  1.00  0.00           C  \nATOM    974    O MOL     1      -5.393   2.289 207.597  1.00  0.00           O  \nATOM    975    C MOL     1      -6.164   2.773 208.697  1.00  0.00           C  \nATOM    976    C MOL     1      -7.338   3.635 208.216  1.00  0.00           C  \nATOM    977    O MOL     1      -8.083   4.165 209.314  1.00  0.00           O  \nATOM    978    C MOL     1      -9.327   3.526 209.568  1.00  0.00           C  \nATOM    979    C MOL     1      -9.238   2.076 210.045  1.00  0.00           C  \nATOM    980    O MOL     1      -8.374   1.855 211.157  1.00  0.00           O  \nATOM    981    C MOL     1      -8.678   2.598 212.333  1.00  0.00           C  \nATOM    982    C MOL     1     -10.084   2.371 212.895  1.00  0.00           C  \nATOM    983    O MOL     1     -10.444   1.008 213.068  1.00  0.00           O  \nATOM    984    C MOL     1      -9.675   0.328 214.057  1.00  0.00           C  \nATOM    985    C MOL     1     -10.299  -1.027 214.337  1.00  0.00           C  \nATOM    986    O MOL     1     -11.561  -0.941 214.992  1.00  0.00           O  \nATOM    987    C MOL     1     -12.682  -0.967 214.106  1.00  0.00           C  \nATOM    988    C MOL     1     -13.927  -0.691 214.942  1.00  0.00           C  \nATOM    989    O MOL     1     -15.113  -0.846 214.158  1.00  0.00           O  \nATOM    990    C MOL     1     -15.492   0.305 213.402  1.00  0.00           C  \nATOM    991    C MOL     1     -16.560   1.125 214.101  1.00  0.00           C  \nATOM    992    O MOL     1     -15.983   1.838 215.198  1.00  0.00           O  \nATOM    993    C MOL     1     -16.854   2.009 216.314  1.00  0.00           C  \nATOM    994    C MOL     1     -16.766   0.807 217.264  1.00  0.00           C  \nATOM    995    O MOL     1     -17.663   0.947 218.367  1.00  0.00           O  \nATOM    996    C MOL     1     -17.128   1.673 219.475  1.00  0.00           C  \nATOM    997    C MOL     1     -16.334   0.753 220.412  1.00  0.00           C  \nATOM    998    O MOL     1     -15.793   1.455 221.526  1.00  0.00           O  \nATOM    999    C MOL     1     -16.714   1.640 222.595  1.00  0.00           C  \nATOM   1000    C MOL     1     -15.981   2.262 223.774  1.00  0.00           C  \nATOM   1001    O MOL     1     -15.023   1.401 224.380  1.00  0.00           O  \nATOM   1002    C MOL     1     -15.571   0.479 225.327  1.00  0.00           C  \nATOM   1003    C MOL     1     -15.791   1.101 226.702  1.00  0.00           C  \nATOM   1004    H MOL     1       1.544  10.382 205.561  1.00  0.00           H  \nATOM   1005    H MOL     1       2.414  11.774 204.847  1.00  0.00           H  \nATOM   1006    H MOL     1       0.164  12.452 205.295  1.00  0.00           H  \nATOM   1007    H MOL     1       0.305  12.336 203.524  1.00  0.00           H  \nATOM   1008    H MOL     1      -0.337   9.439 203.071  1.00  0.00           H  \nATOM   1009    H MOL     1      -1.116  10.911 202.417  1.00  0.00           H  \nATOM   1010    H MOL     1      -2.467   8.962 204.365  1.00  0.00           H  \nATOM   1011    H MOL     1      -3.265  10.297 203.480  1.00  0.00           H  \nATOM   1012    H MOL     1      -4.711   8.978 202.141  1.00  0.00           H  \nATOM   1013    H MOL     1      -3.985   7.617 201.229  1.00  0.00           H  \nATOM   1014    H MOL     1      -4.299   7.729 204.291  1.00  0.00           H  \nATOM   1015    H MOL     1      -5.436   6.939 203.169  1.00  0.00           H  \nATOM   1016    H MOL     1      -3.392   5.871 205.367  1.00  0.00           H  \nATOM   1017    H MOL     1      -4.735   4.964 204.603  1.00  0.00           H  \nATOM   1018    H MOL     1      -3.109   3.418 203.524  1.00  0.00           H  \nATOM   1019    H MOL     1      -1.751   4.449 204.053  1.00  0.00           H  \nATOM   1020    H MOL     1      -4.413   2.437 205.119  1.00  0.00           H  \nATOM   1021    H MOL     1      -3.328   1.575 206.239  1.00  0.00           H  \nATOM   1022    H MOL     1      -3.653   3.386 207.950  1.00  0.00           H  \nATOM   1023    H MOL     1      -4.834   4.179 206.871  1.00  0.00           H  \nATOM   1024    H MOL     1      -6.532   1.894 209.243  1.00  0.00           H  \nATOM   1025    H MOL     1      -5.538   3.359 209.393  1.00  0.00           H  \nATOM   1026    H MOL     1      -6.961   4.496 207.640  1.00  0.00           H  \nATOM   1027    H MOL     1      -7.986   3.043 207.545  1.00  0.00           H  \nATOM   1028    H MOL     1      -9.821   4.157 210.322  1.00  0.00           H  \nATOM   1029    H MOL     1      -9.967   3.536 208.662  1.00  0.00           H  \nATOM   1030    H MOL     1      -8.837   1.430 209.250  1.00  0.00           H  \nATOM   1031    H MOL     1     -10.266   1.725 210.259  1.00  0.00           H  \nATOM   1032    H MOL     1      -8.545   3.685 212.170  1.00  0.00           H  \nATOM   1033    H MOL     1      -7.916   2.287 213.062  1.00  0.00           H  \nATOM   1034    H MOL     1     -10.151   2.919 213.857  1.00  0.00           H  \nATOM   1035    H MOL     1     -10.849   2.789 212.225  1.00  0.00           H  \nATOM   1036    H MOL     1      -9.650   0.923 214.991  1.00  0.00           H  \nATOM   1037    H MOL     1      -8.634   0.174 213.714  1.00  0.00           H  \nATOM   1038    H MOL     1      -9.625  -1.579 215.012  1.00  0.00           H  \nATOM   1039    H MOL     1     -10.385  -1.601 213.397  1.00  0.00           H  \nATOM   1040    H MOL     1     -12.564  -0.211 213.312  1.00  0.00           H  \nATOM   1041    H MOL     1     -12.772  -1.963 213.631  1.00  0.00           H  \nATOM   1042    H MOL     1     -13.992  -1.430 215.754  1.00  0.00           H  \nATOM   1043    H MOL     1     -13.876   0.313 215.391  1.00  0.00           H  \nATOM   1044    H MOL     1     -15.899  -0.058 212.444  1.00  0.00           H  \nATOM   1045    H MOL     1     -14.619   0.944 213.180  1.00  0.00           H  \nATOM   1046    H MOL     1     -17.007   1.841 213.384  1.00  0.00           H  \nATOM   1047    H MOL     1     -17.358   0.446 214.448  1.00  0.00           H  \nATOM   1048    H MOL     1     -17.901   2.154 215.993  1.00  0.00           H  \nATOM   1049    H MOL     1     -16.529   2.928 216.825  1.00  0.00           H  \nATOM   1050    H MOL     1     -15.721   0.682 217.596  1.00  0.00           H  \nATOM   1051    H MOL     1     -17.058  -0.112 216.735  1.00  0.00           H  \nATOM   1052    H MOL     1     -16.483   2.507 219.147  1.00  0.00           H  \nATOM   1053    H MOL     1     -17.992   2.104 220.003  1.00  0.00           H  \nATOM   1054    H MOL     1     -16.980  -0.081 220.744  1.00  0.00           H  \nATOM   1055    H MOL     1     -15.473   0.323 219.878  1.00  0.00           H  \nATOM   1056    H MOL     1     -17.164   0.668 222.877  1.00  0.00           H  \nATOM   1057    H MOL     1     -17.543   2.316 222.306  1.00  0.00           H  \nATOM   1058    H MOL     1     -16.731   2.611 224.509  1.00  0.00           H  \nATOM   1059    H MOL     1     -15.422   3.141 223.421  1.00  0.00           H  \nATOM   1060    H MOL     1     -16.512   0.041 224.945  1.00  0.00           H  \nATOM   1061    H MOL     1     -14.836  -0.336 225.392  1.00  0.00           H  \nATOM   1062    H MOL     1     -14.850   1.513 227.090  1.00  0.00           H  \nATOM   1063    H MOL     1     -16.535   1.910 226.672  1.00  0.00           H  \nATOM   1064    H MOL     1     -16.155   0.340 227.408  1.00  0.00           H  \nATOM   1065    O MOL     1       3.130  17.012  24.141  1.00  0.00           O  \nATOM   1066    C MOL     1       2.231  16.881  23.032  1.00  0.00           C  \nATOM   1067    C MOL     1       2.961  16.237  21.867  1.00  0.00           C  \nATOM   1068    O MOL     1       3.225  14.849  22.042  1.00  0.00           O  \nATOM   1069    C MOL     1       4.479  14.554  22.660  1.00  0.00           C  \nATOM   1070    C MOL     1       4.615  13.041  22.674  1.00  0.00           C  \nATOM   1071    O MOL     1       5.858  12.737  23.296  1.00  0.00           O  \nATOM   1072    C MOL     1       6.187  11.355  23.280  1.00  0.00           C  \nATOM   1073    C MOL     1       5.358  10.491  24.215  1.00  0.00           C  \nATOM   1074    O MOL     1       5.608  10.874  25.560  1.00  0.00           O  \nATOM   1075    C MOL     1       4.786  10.172  26.479  1.00  0.00           C  \nATOM   1076    C MOL     1       5.099  10.699  27.877  1.00  0.00           C  \nATOM   1077    O MOL     1       4.265  10.119  28.874  1.00  0.00           O  \nATOM   1078    C MOL     1       4.616   8.793  29.265  1.00  0.00           C  \nATOM   1079    C MOL     1       3.528   7.806  28.859  1.00  0.00           C  \nATOM   1080    O MOL     1       3.882   6.539  29.407  1.00  0.00           O  \nATOM   1081    C MOL     1       2.919   5.509  29.170  1.00  0.00           C  \nATOM   1082    C MOL     1       3.104   4.849  27.798  1.00  0.00           C  \nATOM   1083    O MOL     1       2.189   3.766  27.628  1.00  0.00           O  \nATOM   1084    C MOL     1       2.746   2.470  27.819  1.00  0.00           C  \nATOM   1085    C MOL     1       3.241   2.160  29.231  1.00  0.00           C  \nATOM   1086    O MOL     1       2.280   2.341  30.266  1.00  0.00           O  \nATOM   1087    C MOL     1       1.119   1.521  30.185  1.00  0.00           C  \nATOM   1088    C MOL     1       1.390   0.016  30.119  1.00  0.00           C  \nATOM   1089    O MOL     1       2.277  -0.478  31.114  1.00  0.00           O  \nATOM   1090    C MOL     1       1.760  -0.399  32.440  1.00  0.00           C  \nATOM   1091    C MOL     1       2.651  -1.195  33.376  1.00  0.00           C  \nATOM   1092    O MOL     1       2.591  -2.601  33.157  1.00  0.00           O  \nATOM   1093    C MOL     1       3.619  -3.111  32.306  1.00  0.00           C  \nATOM   1094    C MOL     1       3.346  -4.601  32.121  1.00  0.00           C  \nATOM   1095    O MOL     1       4.428  -5.245  31.442  1.00  0.00           O  \nATOM   1096    C MOL     1       4.390  -5.175  30.017  1.00  0.00           C  \nATOM   1097    C MOL     1       3.633  -6.328  29.382  1.00  0.00           C  \nATOM   1098    O MOL     1       2.227  -6.101  29.497  1.00  0.00           O  \nATOM   1099    C MOL     1       1.432  -7.276  29.358  1.00  0.00           C  \nATOM   1100    C MOL     1       1.179  -7.925  30.725  1.00  0.00           C  \nATOM   1101    O MOL     1       0.384  -9.106  30.608  1.00  0.00           O  \nATOM   1102    C MOL     1      -1.024  -8.867  30.558  1.00  0.00           C  \nATOM   1103    C MOL     1      -1.638  -8.813  31.964  1.00  0.00           C  \nATOM   1104    O MOL     1      -3.040  -8.561  31.915  1.00  0.00           O  \nATOM   1105    C MOL     1      -3.824  -9.728  31.696  1.00  0.00           C  \nATOM   1106    C MOL     1      -5.288  -9.334  31.591  1.00  0.00           C  \nATOM   1107    O MOL     1      -5.856  -8.850  32.806  1.00  0.00           O  \nATOM   1108    C MOL     1      -6.292  -9.871  33.702  1.00  0.00           C  \nATOM   1109    C MOL     1      -7.689 -10.364  33.335  1.00  0.00           C  \nATOM   1110    H MOL     1       2.623  17.300  24.917  1.00  0.00           H  \nATOM   1111    H MOL     1       1.360  16.256  23.297  1.00  0.00           H  \nATOM   1112    H MOL     1       1.862  17.872  22.704  1.00  0.00           H  \nATOM   1113    H MOL     1       2.320  16.318  20.975  1.00  0.00           H  \nATOM   1114    H MOL     1       3.899  16.788  21.667  1.00  0.00           H  \nATOM   1115    H MOL     1       4.524  14.949  23.687  1.00  0.00           H  \nATOM   1116    H MOL     1       5.308  15.003  22.081  1.00  0.00           H  \nATOM   1117    H MOL     1       3.763  12.606  23.227  1.00  0.00           H  \nATOM   1118    H MOL     1       4.588  12.645  21.640  1.00  0.00           H  \nATOM   1119    H MOL     1       6.089  10.945  22.254  1.00  0.00           H  \nATOM   1120    H MOL     1       7.244  11.299  23.576  1.00  0.00           H  \nATOM   1121    H MOL     1       4.278  10.582  23.988  1.00  0.00           H  \nATOM   1122    H MOL     1       5.636   9.428  24.055  1.00  0.00           H  \nATOM   1123    H MOL     1       3.714  10.339  26.254  1.00  0.00           H  \nATOM   1124    H MOL     1       4.978   9.082  26.415  1.00  0.00           H  \nATOM   1125    H MOL     1       6.168  10.533  28.109  1.00  0.00           H  \nATOM   1126    H MOL     1       4.909  11.780  27.906  1.00  0.00           H  \nATOM   1127    H MOL     1       5.583   8.491  28.828  1.00  0.00           H  \nATOM   1128    H MOL     1       4.722   8.775  30.362  1.00  0.00           H  \nATOM   1129    H MOL     1       2.554   8.143  29.262  1.00  0.00           H  \nATOM   1130    H MOL     1       3.440   7.766  27.758  1.00  0.00           H  \nATOM   1131    H MOL     1       3.051   4.763  29.963  1.00  0.00           H  \nATOM   1132    H MOL     1       1.891   5.906  29.253  1.00  0.00           H  \nATOM   1133    H MOL     1       2.898   5.572  26.993  1.00  0.00           H  \nATOM   1134    H MOL     1       4.150   4.510  27.688  1.00  0.00           H  \nATOM   1135    H MOL     1       1.947   1.775  27.521  1.00  0.00           H  \nATOM   1136    H MOL     1       3.597   2.307  27.127  1.00  0.00           H  \nATOM   1137    H MOL     1       4.075   2.823  29.505  1.00  0.00           H  \nATOM   1138    H MOL     1       3.641   1.128  29.233  1.00  0.00           H  \nATOM   1139    H MOL     1       0.492   1.791  29.312  1.00  0.00           H  \nATOM   1140    H MOL     1       0.541   1.772  31.085  1.00  0.00           H  \nATOM   1141    H MOL     1       0.410  -0.501  30.177  1.00  0.00           H  \nATOM   1142    H MOL     1       1.850  -0.261  29.159  1.00  0.00           H  \nATOM   1143    H MOL     1       0.732  -0.812  32.470  1.00  0.00           H  \nATOM   1144    H MOL     1       1.726   0.651  32.790  1.00  0.00           H  \nATOM   1145    H MOL     1       2.303  -1.018  34.407  1.00  0.00           H  \nATOM   1146    H MOL     1       3.692  -0.831  33.301  1.00  0.00           H  \nATOM   1147    H MOL     1       3.621  -2.580  31.339  1.00  0.00           H  \nATOM   1148    H MOL     1       4.611  -2.977  32.781  1.00  0.00           H  \nATOM   1149    H MOL     1       3.278  -5.077  33.109  1.00  0.00           H  \nATOM   1150    H MOL     1       2.393  -4.756  31.592  1.00  0.00           H  \nATOM   1151    H MOL     1       5.437  -5.219  29.680  1.00  0.00           H  \nATOM   1152    H MOL     1       3.961  -4.219  29.669  1.00  0.00           H  \nATOM   1153    H MOL     1       3.911  -6.410  28.311  1.00  0.00           H  \nATOM   1154    H MOL     1       3.927  -7.267  29.884  1.00  0.00           H  \nATOM   1155    H MOL     1       1.906  -8.007  28.678  1.00  0.00           H  \nATOM   1156    H MOL     1       0.481  -6.961  28.902  1.00  0.00           H  \nATOM   1157    H MOL     1       0.715  -7.182  31.399  1.00  0.00           H  \nATOM   1158    H MOL     1       2.132  -8.237  31.178  1.00  0.00           H  \nATOM   1159    H MOL     1      -1.263  -7.931  30.024  1.00  0.00           H  \nATOM   1160    H MOL     1      -1.456  -9.699  29.984  1.00  0.00           H  \nATOM   1161    H MOL     1      -1.419  -9.754  32.503  1.00  0.00           H  \nATOM   1162    H MOL     1      -1.198  -7.985  32.538  1.00  0.00           H  \nATOM   1163    H MOL     1      -3.663 -10.453  32.518  1.00  0.00           H  \nATOM   1164    H MOL     1      -3.543 -10.234  30.751  1.00  0.00           H  \nATOM   1165    H MOL     1      -5.851 -10.203  31.202  1.00  0.00           H  \nATOM   1166    H MOL     1      -5.386  -8.513  30.866  1.00  0.00           H  \nATOM   1167    H MOL     1      -5.593 -10.726  33.725  1.00  0.00           H  \nATOM   1168    H MOL     1      -6.305  -9.422  34.705  1.00  0.00           H  \nATOM   1169    H MOL     1      -8.410  -9.524  33.375  1.00  0.00           H  \nATOM   1170    H MOL     1      -7.687 -10.756  32.301  1.00  0.00           H  \nATOM   1171    O MOL     1      -8.047 -11.377  34.266  1.00  0.00           O  \nATOM   1172    C MOL     1      -9.306 -11.993  33.990  1.00  0.00           C  \nATOM   1173    C MOL     1      -9.321 -12.920  32.776  1.00  0.00           C  \nATOM   1174    O MOL     1      -8.545 -14.104  32.934  1.00  0.00           O  \nATOM   1175    C MOL     1      -7.146 -13.928  32.711  1.00  0.00           C  \nATOM   1176    C MOL     1      -6.528 -15.316  32.719  1.00  0.00           C  \nATOM   1177    O MOL     1      -5.115 -15.157  32.754  1.00  0.00           O  \nATOM   1178    C MOL     1      -4.392 -16.371  32.595  1.00  0.00           C  \nATOM   1179    C MOL     1      -4.645 -17.415  33.672  1.00  0.00           C  \nATOM   1180    O MOL     1      -4.237 -16.911  34.935  1.00  0.00           O  \nATOM   1181    C MOL     1      -4.714 -17.701  36.016  1.00  0.00           C  \nATOM   1182    C MOL     1      -4.235 -17.043  37.308  1.00  0.00           C  \nATOM   1183    O MOL     1      -4.896 -17.532  38.470  1.00  0.00           O  \nATOM   1184    C MOL     1      -4.494 -18.828  38.909  1.00  0.00           C  \nATOM   1185    C MOL     1      -5.544 -19.879  38.566  1.00  0.00           C  \nATOM   1186    O MOL     1      -5.124 -21.109  39.152  1.00  0.00           O  \nATOM   1187    C MOL     1      -6.028 -22.190  38.919  1.00  0.00           C  \nATOM   1188    C MOL     1      -5.789 -22.840  37.549  1.00  0.00           C  \nATOM   1189    O MOL     1      -6.747 -23.866  37.285  1.00  0.00           O  \nATOM   1190    C MOL     1      -6.264 -25.197  37.419  1.00  0.00           C  \nATOM   1191    C MOL     1      -5.877 -25.617  38.837  1.00  0.00           C  \nATOM   1192    O MOL     1      -6.870 -25.383  39.831  1.00  0.00           O  \nATOM   1193    C MOL     1      -8.129 -26.012  39.608  1.00  0.00           C  \nATOM   1194    C MOL     1      -8.075 -27.535  39.477  1.00  0.00           C  \nATOM   1195    O MOL     1      -7.373 -28.199  40.518  1.00  0.00           O  \nATOM   1196    C MOL     1      -7.996 -28.091  41.796  1.00  0.00           C  \nATOM   1197    C MOL     1      -7.312 -29.033  42.770  1.00  0.00           C  \nATOM   1198    O MOL     1      -7.539 -30.409  42.478  1.00  0.00           O  \nATOM   1199    C MOL     1      -6.518 -31.012  41.680  1.00  0.00           C  \nATOM   1200    C MOL     1      -6.996 -32.413  41.316  1.00  0.00           C  \nATOM   1201    O MOL     1      -5.969 -33.144  40.640  1.00  0.00           O  \nATOM   1202    C MOL     1      -5.891 -32.916  39.232  1.00  0.00           C  \nATOM   1203    C MOL     1      -6.604 -33.993  38.436  1.00  0.00           C  \nATOM   1204    O MOL     1      -8.019 -33.823  38.548  1.00  0.00           O  \nATOM   1205    C MOL     1      -8.762 -35.039  38.535  1.00  0.00           C  \nATOM   1206    C MOL     1      -8.878 -35.623  39.949  1.00  0.00           C  \nATOM   1207    O MOL     1      -9.589 -36.862  39.946  1.00  0.00           O  \nATOM   1208    C MOL     1     -11.007 -36.729  40.062  1.00  0.00           C  \nATOM   1209    C MOL     1     -11.437 -36.633  41.533  1.00  0.00           C  \nATOM   1210    O MOL     1     -12.844 -36.479  41.677  1.00  0.00           O  \nATOM   1211    C MOL     1     -13.574 -37.698  41.596  1.00  0.00           C  \nATOM   1212    C MOL     1     -15.034 -37.417  41.912  1.00  0.00           C  \nATOM   1213    O MOL     1     -15.275 -37.070  43.271  1.00  0.00           O  \nATOM   1214    C MOL     1     -15.431 -38.190  44.148  1.00  0.00           C  \nATOM   1215    C MOL     1     -16.821 -38.813  44.079  1.00  0.00           C  \nATOM   1216    H MOL     1      -9.551 -12.574  34.891  1.00  0.00           H  \nATOM   1217    H MOL     1     -10.086 -11.217  33.850  1.00  0.00           H  \nATOM   1218    H MOL     1     -10.358 -13.260  32.628  1.00  0.00           H  \nATOM   1219    H MOL     1      -9.018 -12.383  31.858  1.00  0.00           H  \nATOM   1220    H MOL     1      -6.685 -13.317  33.505  1.00  0.00           H  \nATOM   1221    H MOL     1      -6.972 -13.424  31.741  1.00  0.00           H  \nATOM   1222    H MOL     1      -6.897 -15.852  33.612  1.00  0.00           H  \nATOM   1223    H MOL     1      -6.839 -15.889  31.824  1.00  0.00           H  \nATOM   1224    H MOL     1      -4.624 -16.835  31.614  1.00  0.00           H  \nATOM   1225    H MOL     1      -3.332 -16.083  32.601  1.00  0.00           H  \nATOM   1226    H MOL     1      -5.717 -17.693  33.703  1.00  0.00           H  \nATOM   1227    H MOL     1      -4.080 -18.334  33.412  1.00  0.00           H  \nATOM   1228    H MOL     1      -5.822 -17.733  36.011  1.00  0.00           H  \nATOM   1229    H MOL     1      -4.344 -18.742  35.929  1.00  0.00           H  \nATOM   1230    H MOL     1      -3.139 -17.151  37.408  1.00  0.00           H  \nATOM   1231    H MOL     1      -4.468 -15.971  37.254  1.00  0.00           H  \nATOM   1232    H MOL     1      -3.516 -19.108  38.477  1.00  0.00           H  \nATOM   1233    H MOL     1      -4.381 -18.787  40.003  1.00  0.00           H  \nATOM   1234    H MOL     1      -6.522 -19.569  38.980  1.00  0.00           H  \nATOM   1235    H MOL     1      -5.657 -19.969  37.470  1.00  0.00           H  \nATOM   1236    H MOL     1      -5.869 -22.919  39.723  1.00  0.00           H  \nATOM   1237    H MOL     1      -7.077 -21.848  38.982  1.00  0.00           H  \nATOM   1238    H MOL     1      -5.901 -22.087  36.752  1.00  0.00           H  \nATOM   1239    H MOL     1      -4.758 -23.233  37.494  1.00  0.00           H  \nATOM   1240    H MOL     1      -7.074 -25.832  37.029  1.00  0.00           H  \nATOM   1241    H MOL     1      -5.379 -25.361  36.771  1.00  0.00           H  \nATOM   1242    H MOL     1      -5.000 -25.050  39.183  1.00  0.00           H  \nATOM   1243    H MOL     1      -5.581 -26.684  38.807  1.00  0.00           H  \nATOM   1244    H MOL     1      -8.628 -25.607  38.706  1.00  0.00           H  \nATOM   1245    H MOL     1      -8.741 -25.719  40.473  1.00  0.00           H  \nATOM   1246    H MOL     1      -9.121 -27.902  39.415  1.00  0.00           H  \nATOM   1247    H MOL     1      -7.567 -27.835  38.549  1.00  0.00           H  \nATOM   1248    H MOL     1      -9.069 -28.356  41.717  1.00  0.00           H  \nATOM   1249    H MOL     1      -7.919 -27.059  42.188  1.00  0.00           H  \nATOM   1250    H MOL     1      -7.730 -28.847  43.773  1.00  0.00           H  \nATOM   1251    H MOL     1      -6.230 -28.814  42.806  1.00  0.00           H  \nATOM   1252    H MOL     1      -6.330 -30.411  40.775  1.00  0.00           H  \nATOM   1253    H MOL     1      -5.574 -31.084  42.255  1.00  0.00           H  \nATOM   1254    H MOL     1      -7.221 -32.972  42.236  1.00  0.00           H  \nATOM   1255    H MOL     1      -7.913 -32.362  40.708  1.00  0.00           H  \nATOM   1256    H MOL     1      -4.822 -32.928  38.962  1.00  0.00           H  \nATOM   1257    H MOL     1      -6.297 -31.925  38.964  1.00  0.00           H  \nATOM   1258    H MOL     1      -6.303 -33.927  37.371  1.00  0.00           H  \nATOM   1259    H MOL     1      -6.293 -34.981  38.818  1.00  0.00           H  \nATOM   1260    H MOL     1      -8.306 -35.786  37.861  1.00  0.00           H  \nATOM   1261    H MOL     1      -9.758 -34.791  38.139  1.00  0.00           H  \nATOM   1262    H MOL     1      -9.352 -34.878  40.612  1.00  0.00           H  \nATOM   1263    H MOL     1      -7.877 -35.835  40.353  1.00  0.00           H  \nATOM   1264    H MOL     1     -11.383 -35.848  39.513  1.00  0.00           H  \nATOM   1265    H MOL     1     -11.437 -37.626  39.594  1.00  0.00           H  \nATOM   1266    H MOL     1     -11.076 -37.524  42.080  1.00  0.00           H  \nATOM   1267    H MOL     1     -10.986 -35.744  41.999  1.00  0.00           H  \nATOM   1268    H MOL     1     -13.151 -38.439  42.303  1.00  0.00           H  \nATOM   1269    H MOL     1     -13.517 -38.140  40.580  1.00  0.00           H  \nATOM   1270    H MOL     1     -15.638 -38.291  41.604  1.00  0.00           H  \nATOM   1271    H MOL     1     -15.362 -36.553  41.314  1.00  0.00           H  \nATOM   1272    H MOL     1     -14.654 -38.952  43.948  1.00  0.00           H  \nATOM   1273    H MOL     1     -15.244 -37.791  45.155  1.00  0.00           H  \nATOM   1274    H MOL     1     -17.589 -38.059  44.297  1.00  0.00           H  \nATOM   1275    H MOL     1     -17.031 -39.245  43.090  1.00  0.00           H  \nATOM   1276    H MOL     1     -16.908 -39.622  44.819  1.00  0.00           H  \nATOM   1277    O MOL     1       0.517   2.029  62.838  1.00  0.00           O  \nATOM   1278    C MOL     1      -0.084   1.586  64.062  1.00  0.00           C  \nATOM   1279    C MOL     1       0.410   0.189  64.387  1.00  0.00           C  \nATOM   1280    O MOL     1       1.761   0.139  64.835  1.00  0.00           O  \nATOM   1281    C MOL     1       2.728  -0.026  63.797  1.00  0.00           C  \nATOM   1282    C MOL     1       4.082  -0.142  64.475  1.00  0.00           C  \nATOM   1283    O MOL     1       5.058  -0.289  63.451  1.00  0.00           O  \nATOM   1284    C MOL     1       6.370  -0.534  63.938  1.00  0.00           C  \nATOM   1285    C MOL     1       7.059   0.676  64.549  1.00  0.00           C  \nATOM   1286    O MOL     1       7.293   1.644  63.537  1.00  0.00           O  \nATOM   1287    C MOL     1       7.860   2.841  64.049  1.00  0.00           C  \nATOM   1288    C MOL     1       8.003   3.812  62.879  1.00  0.00           C  \nATOM   1289    O MOL     1       8.478   5.091  63.281  1.00  0.00           O  \nATOM   1290    C MOL     1       9.880   5.165  63.542  1.00  0.00           C  \nATOM   1291    C MOL     1      10.131   5.475  65.013  1.00  0.00           C  \nATOM   1292    O MOL     1      11.534   5.666  65.168  1.00  0.00           O  \nATOM   1293    C MOL     1      11.937   5.977  66.501  1.00  0.00           C  \nATOM   1294    C MOL     1      12.103   4.711  67.351  1.00  0.00           C  \nATOM   1295    O MOL     1      12.553   5.027  68.670  1.00  0.00           O  \nATOM   1296    C MOL     1      13.924   4.742  68.923  1.00  0.00           C  \nATOM   1297    C MOL     1      14.928   5.575  68.127  1.00  0.00           C  \nATOM   1298    O MOL     1      14.761   6.986  68.229  1.00  0.00           O  \nATOM   1299    C MOL     1      14.887   7.529  69.539  1.00  0.00           C  \nATOM   1300    C MOL     1      16.232   7.264  70.220  1.00  0.00           C  \nATOM   1301    O MOL     1      17.370   7.581  69.430  1.00  0.00           O  \nATOM   1302    C MOL     1      17.511   8.972  69.156  1.00  0.00           C  \nATOM   1303    C MOL     1      18.844   9.220  68.475  1.00  0.00           C  \nATOM   1304    O MOL     1      19.965   9.004  69.327  1.00  0.00           O  \nATOM   1305    C MOL     1      20.539   7.699  69.222  1.00  0.00           C  \nATOM   1306    C MOL     1      21.639   7.612  70.274  1.00  0.00           C  \nATOM   1307    O MOL     1      22.411   6.417  70.119  1.00  0.00           O  \nATOM   1308    C MOL     1      21.873   5.254  70.749  1.00  0.00           C  \nATOM   1309    C MOL     1      22.339   5.083  72.184  1.00  0.00           C  \nATOM   1310    O MOL     1      21.606   5.964  73.036  1.00  0.00           O  \nATOM   1311    C MOL     1      22.243   6.241  74.280  1.00  0.00           C  \nATOM   1312    C MOL     1      23.119   7.497  74.174  1.00  0.00           C  \nATOM   1313    O MOL     1      23.769   7.790  75.412  1.00  0.00           O  \nATOM   1314    C MOL     1      22.967   8.529  76.336  1.00  0.00           C  \nATOM   1315    C MOL     1      23.123  10.042  76.132  1.00  0.00           C  \nATOM   1316    O MOL     1      22.284  10.781  77.017  1.00  0.00           O  \nATOM   1317    C MOL     1      22.831  10.954  78.319  1.00  0.00           C  \nATOM   1318    C MOL     1      21.815  11.673  79.191  1.00  0.00           C  \nATOM   1319    O MOL     1      21.605  13.040  78.839  1.00  0.00           O  \nATOM   1320    C MOL     1      22.563  13.940  79.390  1.00  0.00           C  \nATOM   1321    C MOL     1      22.187  14.344  80.814  1.00  0.00           C  \nATOM   1322    H MOL     1       0.301   2.968  62.710  1.00  0.00           H  \nATOM   1323    H MOL     1       0.175   2.260  64.899  1.00  0.00           H  \nATOM   1324    H MOL     1      -1.187   1.552  63.970  1.00  0.00           H  \nATOM   1325    H MOL     1      -0.203  -0.206  65.213  1.00  0.00           H  \nATOM   1326    H MOL     1       0.267  -0.469  63.510  1.00  0.00           H  \nATOM   1327    H MOL     1       2.723   0.829  63.103  1.00  0.00           H  \nATOM   1328    H MOL     1       2.516  -0.944  63.216  1.00  0.00           H  \nATOM   1329    H MOL     1       4.260   0.763  65.085  1.00  0.00           H  \nATOM   1330    H MOL     1       4.095  -1.017  65.155  1.00  0.00           H  \nATOM   1331    H MOL     1       6.356  -1.346  64.693  1.00  0.00           H  \nATOM   1332    H MOL     1       6.950  -0.878  63.070  1.00  0.00           H  \nATOM   1333    H MOL     1       6.448   1.113  65.362  1.00  0.00           H  \nATOM   1334    H MOL     1       8.017   0.345  65.002  1.00  0.00           H  \nATOM   1335    H MOL     1       7.205   3.286  64.824  1.00  0.00           H  \nATOM   1336    H MOL     1       8.845   2.635  64.517  1.00  0.00           H  \nATOM   1337    H MOL     1       8.659   3.369  62.107  1.00  0.00           H  \nATOM   1338    H MOL     1       7.013   3.976  62.430  1.00  0.00           H  \nATOM   1339    H MOL     1      10.387   4.226  63.262  1.00  0.00           H  \nATOM   1340    H MOL     1      10.308   5.974  62.928  1.00  0.00           H  \nATOM   1341    H MOL     1       9.582   6.392  65.298  1.00  0.00           H  \nATOM   1342    H MOL     1       9.755   4.648  65.645  1.00  0.00           H  \nATOM   1343    H MOL     1      12.894   6.510  66.429  1.00  0.00           H  \nATOM   1344    H MOL     1      11.212   6.657  66.985  1.00  0.00           H  \nATOM   1345    H MOL     1      11.136   4.192  67.457  1.00  0.00           H  \nATOM   1346    H MOL     1      12.800   4.018  66.848  1.00  0.00           H  \nATOM   1347    H MOL     1      14.052   4.901  70.004  1.00  0.00           H  \nATOM   1348    H MOL     1      14.146   3.675  68.720  1.00  0.00           H  \nATOM   1349    H MOL     1      14.842   5.361  67.051  1.00  0.00           H  \nATOM   1350    H MOL     1      15.946   5.267  68.435  1.00  0.00           H  \nATOM   1351    H MOL     1      14.085   7.163  70.210  1.00  0.00           H  \nATOM   1352    H MOL     1      14.725   8.609  69.408  1.00  0.00           H  \nATOM   1353    H MOL     1      16.244   7.834  71.172  1.00  0.00           H  \nATOM   1354    H MOL     1      16.343   6.199  70.474  1.00  0.00           H  \nATOM   1355    H MOL     1      17.463   9.550  70.100  1.00  0.00           H  \nATOM   1356    H MOL     1      16.704   9.328  68.488  1.00  0.00           H  \nATOM   1357    H MOL     1      18.876  10.278  68.168  1.00  0.00           H  \nATOM   1358    H MOL     1      18.920   8.599  67.565  1.00  0.00           H  \nATOM   1359    H MOL     1      19.770   6.925  69.381  1.00  0.00           H  \nATOM   1360    H MOL     1      20.979   7.554  68.217  1.00  0.00           H  \nATOM   1361    H MOL     1      22.338   8.449  70.131  1.00  0.00           H  \nATOM   1362    H MOL     1      21.212   7.684  71.286  1.00  0.00           H  \nATOM   1363    H MOL     1      22.232   4.395  70.161  1.00  0.00           H  \nATOM   1364    H MOL     1      20.769   5.250  70.718  1.00  0.00           H  \nATOM   1365    H MOL     1      22.177   4.034  72.503  1.00  0.00           H  \nATOM   1366    H MOL     1      23.423   5.292  72.233  1.00  0.00           H  \nATOM   1367    H MOL     1      22.854   5.386  74.620  1.00  0.00           H  \nATOM   1368    H MOL     1      21.441   6.395  75.018  1.00  0.00           H  \nATOM   1369    H MOL     1      22.500   8.342  73.825  1.00  0.00           H  \nATOM   1370    H MOL     1      23.917   7.339  73.434  1.00  0.00           H  \nATOM   1371    H MOL     1      21.899   8.264  76.256  1.00  0.00           H  \nATOM   1372    H MOL     1      23.311   8.239  77.341  1.00  0.00           H  \nATOM   1373    H MOL     1      24.184  10.330  76.252  1.00  0.00           H  \nATOM   1374    H MOL     1      22.810  10.319  75.114  1.00  0.00           H  \nATOM   1375    H MOL     1      23.781  11.520  78.262  1.00  0.00           H  \nATOM   1376    H MOL     1      23.057   9.979  78.796  1.00  0.00           H  \nATOM   1377    H MOL     1      22.132  11.577  80.247  1.00  0.00           H  \nATOM   1378    H MOL     1      20.840  11.178  79.082  1.00  0.00           H  \nATOM   1379    H MOL     1      23.581  13.512  79.389  1.00  0.00           H  \nATOM   1380    H MOL     1      22.572  14.827  78.741  1.00  0.00           H  \nATOM   1381    H MOL     1      21.198  14.843  80.820  1.00  0.00           H  \nATOM   1382    H MOL     1      22.111  13.442  81.450  1.00  0.00           H  \nATOM   1383    O MOL     1      23.196  15.228  81.290  1.00  0.00           O  \nATOM   1384    C MOL     1      23.095  15.530  82.680  1.00  0.00           C  \nATOM   1385    C MOL     1      23.573  14.419  83.615  1.00  0.00           C  \nATOM   1386    O MOL     1      24.972  14.170  83.566  1.00  0.00           O  \nATOM   1387    C MOL     1      25.393  13.349  82.475  1.00  0.00           C  \nATOM   1388    C MOL     1      26.854  13.010  82.716  1.00  0.00           C  \nATOM   1389    O MOL     1      27.337  12.356  81.549  1.00  0.00           O  \nATOM   1390    C MOL     1      28.631  11.785  81.702  1.00  0.00           C  \nATOM   1391    C MOL     1      29.750  12.785  81.942  1.00  0.00           C  \nATOM   1392    O MOL     1      29.890  13.628  80.808  1.00  0.00           O  \nATOM   1393    C MOL     1      30.721  14.752  81.067  1.00  0.00           C  \nATOM   1394    C MOL     1      30.795  15.569  79.779  1.00  0.00           C  \nATOM   1395    O MOL     1      31.362  16.861  79.963  1.00  0.00           O  \nATOM   1396    C MOL     1      32.773  16.885  80.181  1.00  0.00           C  \nATOM   1397    C MOL     1      33.091  17.217  81.635  1.00  0.00           C  \nATOM   1398    O MOL     1      34.502  17.385  81.737  1.00  0.00           O  \nATOM   1399    C MOL     1      34.954  17.656  83.064  1.00  0.00           C  \nATOM   1400    C MOL     1      35.170  16.358  83.852  1.00  0.00           C  \nATOM   1401    O MOL     1      35.578  16.623  85.196  1.00  0.00           O  \nATOM   1402    C MOL     1      36.957  16.408  85.466  1.00  0.00           C  \nATOM   1403    C MOL     1      37.923  17.358  84.757  1.00  0.00           C  \nATOM   1404    O MOL     1      37.632  18.743  84.910  1.00  0.00           O  \nATOM   1405    C MOL     1      37.577  19.220  86.252  1.00  0.00           C  \nATOM   1406    C MOL     1      38.858  19.011  87.062  1.00  0.00           C  \nATOM   1407    O MOL     1      40.046  19.461  86.425  1.00  0.00           O  \nATOM   1408    C MOL     1      40.105  20.875  86.249  1.00  0.00           C  \nATOM   1409    C MOL     1      41.501  21.269  85.802  1.00  0.00           C  \nATOM   1410    O MOL     1      42.490  21.076  86.809  1.00  0.00           O  \nATOM   1411    C MOL     1      43.166  19.820  86.730  1.00  0.00           C  \nATOM   1412    C MOL     1      44.029  19.692  87.982  1.00  0.00           C  \nATOM   1413    O MOL     1      44.863  18.533  87.917  1.00  0.00           O  \nATOM   1414    C MOL     1      44.233  17.314  88.316  1.00  0.00           C  \nATOM   1415    C MOL     1      44.573  16.933  89.744  1.00  0.00           C  \nATOM   1416    O MOL     1      43.890  17.797  90.656  1.00  0.00           O  \nATOM   1417    C MOL     1      44.657  18.180  91.794  1.00  0.00           C  \nATOM   1418    C MOL     1      45.601  19.346  91.473  1.00  0.00           C  \nATOM   1419    O MOL     1      46.312  19.760  92.643  1.00  0.00           O  \nATOM   1420    C MOL     1      45.659  20.795  93.376  1.00  0.00           C  \nATOM   1421    C MOL     1      45.969  22.176  92.784  1.00  0.00           C  \nATOM   1422    O MOL     1      45.289  23.220  93.477  1.00  0.00           O  \nATOM   1423    C MOL     1      45.961  23.638  94.657  1.00  0.00           C  \nATOM   1424    C MOL     1      45.186  24.757  95.328  1.00  0.00           C  \nATOM   1425    O MOL     1      45.219  26.007  94.649  1.00  0.00           O  \nATOM   1426    C MOL     1      46.257  26.894  95.084  1.00  0.00           C  \nATOM   1427    C MOL     1      46.087  27.404  96.513  1.00  0.00           C  \nATOM   1428    H MOL     1      23.721  16.421  82.836  1.00  0.00           H  \nATOM   1429    H MOL     1      22.050  15.791  82.943  1.00  0.00           H  \nATOM   1430    H MOL     1      23.359  14.736  84.648  1.00  0.00           H  \nATOM   1431    H MOL     1      23.014  13.481  83.434  1.00  0.00           H  \nATOM   1432    H MOL     1      25.289  13.875  81.513  1.00  0.00           H  \nATOM   1433    H MOL     1      24.783  12.425  82.432  1.00  0.00           H  \nATOM   1434    H MOL     1      27.404  13.948  82.915  1.00  0.00           H  \nATOM   1435    H MOL     1      26.960  12.358  83.605  1.00  0.00           H  \nATOM   1436    H MOL     1      28.636  11.060  82.542  1.00  0.00           H  \nATOM   1437    H MOL     1      28.820  11.236  80.768  1.00  0.00           H  \nATOM   1438    H MOL     1      29.545  13.392  82.845  1.00  0.00           H  \nATOM   1439    H MOL     1      30.689  12.225  82.134  1.00  0.00           H  \nATOM   1440    H MOL     1      30.289  15.375  81.875  1.00  0.00           H  \nATOM   1441    H MOL     1      31.728  14.422  81.394  1.00  0.00           H  \nATOM   1442    H MOL     1      31.348  15.005  79.004  1.00  0.00           H  \nATOM   1443    H MOL     1      29.772  15.734  79.415  1.00  0.00           H  \nATOM   1444    H MOL     1      33.236  15.924  79.897  1.00  0.00           H  \nATOM   1445    H MOL     1      33.202  17.669  79.537  1.00  0.00           H  \nATOM   1446    H MOL     1      32.569  18.150  81.920  1.00  0.00           H  \nATOM   1447    H MOL     1      32.727  16.413  82.302  1.00  0.00           H  \nATOM   1448    H MOL     1      35.897  18.212  82.975  1.00  0.00           H  \nATOM   1449    H MOL     1      34.238  18.300  83.604  1.00  0.00           H  \nATOM   1450    H MOL     1      34.227  15.792  83.910  1.00  0.00           H  \nATOM   1451    H MOL     1      35.908  15.723  83.331  1.00  0.00           H  \nATOM   1452    H MOL     1      37.049  16.499  86.558  1.00  0.00           H  \nATOM   1453    H MOL     1      37.253  15.373  85.197  1.00  0.00           H  \nATOM   1454    H MOL     1      37.904  17.189  83.670  1.00  0.00           H  \nATOM   1455    H MOL     1      38.948  17.121  85.104  1.00  0.00           H  \nATOM   1456    H MOL     1      36.739  18.760  86.809  1.00  0.00           H  \nATOM   1457    H MOL     1      37.350  20.291  86.155  1.00  0.00           H  \nATOM   1458    H MOL     1      38.722  19.519  88.039  1.00  0.00           H  \nATOM   1459    H MOL     1      39.027  17.944  87.268  1.00  0.00           H  \nATOM   1460    H MOL     1      39.867  21.384  87.204  1.00  0.00           H  \nATOM   1461    H MOL     1      39.379  21.211  85.484  1.00  0.00           H  \nATOM   1462    H MOL     1      41.491  22.345  85.564  1.00  0.00           H  \nATOM   1463    H MOL     1      41.769  20.720  84.881  1.00  0.00           H  \nATOM   1464    H MOL     1      42.438  18.994  86.667  1.00  0.00           H  \nATOM   1465    H MOL     1      43.813  19.788  85.832  1.00  0.00           H  \nATOM   1466    H MOL     1      44.705  20.557  88.047  1.00  0.00           H  \nATOM   1467    H MOL     1      43.396  19.677  88.884  1.00  0.00           H  \nATOM   1468    H MOL     1      44.599  16.522  87.641  1.00  0.00           H  \nATOM   1469    H MOL     1      43.137  17.377  88.204  1.00  0.00           H  \nATOM   1470    H MOL     1      44.270  15.883  89.928  1.00  0.00           H  \nATOM   1471    H MOL     1      45.665  17.000  89.885  1.00  0.00           H  \nATOM   1472    H MOL     1      45.238  17.329  92.193  1.00  0.00           H  \nATOM   1473    H MOL     1      43.933  18.487  92.564  1.00  0.00           H  \nATOM   1474    H MOL     1      45.018  20.175  91.038  1.00  0.00           H  \nATOM   1475    H MOL     1      46.354  19.047  90.729  1.00  0.00           H  \nATOM   1476    H MOL     1      44.564  20.649  93.404  1.00  0.00           H  \nATOM   1477    H MOL     1      46.036  20.726  94.407  1.00  0.00           H  \nATOM   1478    H MOL     1      47.063  22.339  92.790  1.00  0.00           H  \nATOM   1479    H MOL     1      45.622  22.225  91.742  1.00  0.00           H  \nATOM   1480    H MOL     1      46.990  23.957  94.406  1.00  0.00           H  \nATOM   1481    H MOL     1      46.049  22.806  95.387  1.00  0.00           H  \nATOM   1482    H MOL     1      45.573  24.866  96.356  1.00  0.00           H  \nATOM   1483    H MOL     1      44.127  24.458  95.389  1.00  0.00           H  \nATOM   1484    H MOL     1      47.249  26.422  94.974  1.00  0.00           H  \nATOM   1485    H MOL     1      46.211  27.736  94.380  1.00  0.00           H  \nATOM   1486    H MOL     1      45.060  27.757  96.680  1.00  0.00           H  \nATOM   1487    H MOL     1      46.324  26.637  97.263  1.00  0.00           H  \nATOM   1488    H MOL     1      46.769  28.250  96.683  1.00  0.00           H  \nATOM   1489    O MOL     1       5.409  -5.273 455.379  1.00  0.00           O  \nATOM   1490    C MOL     1       6.076  -4.612 456.463  1.00  0.00           C  \nATOM   1491    C MOL     1       7.574  -4.640 456.224  1.00  0.00           C  \nATOM   1492    O MOL     1       8.016  -3.762 455.194  1.00  0.00           O  \nATOM   1493    C MOL     1       8.043  -4.340 453.888  1.00  0.00           C  \nATOM   1494    C MOL     1       8.618  -3.286 452.957  1.00  0.00           C  \nATOM   1495    O MOL     1       8.638  -3.843 451.649  1.00  0.00           O  \nATOM   1496    C MOL     1       9.265  -3.014 450.680  1.00  0.00           C  \nATOM   1497    C MOL     1       8.449  -1.805 450.252  1.00  0.00           C  \nATOM   1498    O MOL     1       7.286  -2.244 449.565  1.00  0.00           O  \nATOM   1499    C MOL     1       6.425  -1.173 449.207  1.00  0.00           C  \nATOM   1500    C MOL     1       5.197  -1.787 448.539  1.00  0.00           C  \nATOM   1501    O MOL     1       4.205  -0.821 448.214  1.00  0.00           O  \nATOM   1502    C MOL     1       4.480  -0.032 447.055  1.00  0.00           C  \nATOM   1503    C MOL     1       4.678   1.428 447.442  1.00  0.00           C  \nATOM   1504    O MOL     1       4.802   2.170 446.233  1.00  0.00           O  \nATOM   1505    C MOL     1       4.984   3.572 446.427  1.00  0.00           C  \nATOM   1506    C MOL     1       6.457   3.918 446.682  1.00  0.00           C  \nATOM   1507    O MOL     1       6.648   5.329 446.802  1.00  0.00           O  \nATOM   1508    C MOL     1       7.204   5.956 445.655  1.00  0.00           C  \nATOM   1509    C MOL     1       6.327   5.950 444.404  1.00  0.00           C  \nATOM   1510    O MOL     1       5.031   6.518 444.573  1.00  0.00           O  \nATOM   1511    C MOL     1       5.005   7.887 444.963  1.00  0.00           C  \nATOM   1512    C MOL     1       5.762   8.838 444.032  1.00  0.00           C  \nATOM   1513    O MOL     1       5.458   8.690 442.652  1.00  0.00           O  \nATOM   1514    C MOL     1       4.109   9.019 442.324  1.00  0.00           C  \nATOM   1515    C MOL     1       3.944   9.034 440.816  1.00  0.00           C  \nATOM   1516    O MOL     1       4.633  10.105 440.181  1.00  0.00           O  \nATOM   1517    C MOL     1       5.930   9.762 439.688  1.00  0.00           C  \nATOM   1518    C MOL     1       6.545  11.041 439.130  1.00  0.00           C  \nATOM   1519    O MOL     1       7.771  10.769 438.443  1.00  0.00           O  \nATOM   1520    C MOL     1       8.935  10.706 439.267  1.00  0.00           C  \nATOM   1521    C MOL     1       9.606  12.055 439.454  1.00  0.00           C  \nATOM   1522    O MOL     1       8.879  12.824 440.415  1.00  0.00           O  \nATOM   1523    C MOL     1       9.112  14.230 440.345  1.00  0.00           C  \nATOM   1524    C MOL     1       8.061  14.912 439.458  1.00  0.00           C  \nATOM   1525    O MOL     1       8.276  16.322 439.381  1.00  0.00           O  \nATOM   1526    C MOL     1       7.709  17.067 440.461  1.00  0.00           C  \nATOM   1527    C MOL     1       6.269  17.501 440.150  1.00  0.00           C  \nATOM   1528    O MOL     1       5.684  18.210 441.240  1.00  0.00           O  \nATOM   1529    C MOL     1       6.022  19.592 441.277  1.00  0.00           C  \nATOM   1530    C MOL     1       5.423  20.218 442.527  1.00  0.00           C  \nATOM   1531    O MOL     1       4.002  20.349 442.498  1.00  0.00           O  \nATOM   1532    C MOL     1       3.532  21.512 441.824  1.00  0.00           C  \nATOM   1533    C MOL     1       3.535  22.728 442.748  1.00  0.00           C  \nATOM   1534    H MOL     1       4.453  -5.132 455.473  1.00  0.00           H  \nATOM   1535    H MOL     1       5.748  -3.561 456.550  1.00  0.00           H  \nATOM   1536    H MOL     1       5.868  -5.122 457.424  1.00  0.00           H  \nATOM   1537    H MOL     1       8.073  -4.307 457.148  1.00  0.00           H  \nATOM   1538    H MOL     1       7.897  -5.678 456.015  1.00  0.00           H  \nATOM   1539    H MOL     1       7.035  -4.632 453.556  1.00  0.00           H  \nATOM   1540    H MOL     1       8.685  -5.241 453.880  1.00  0.00           H  \nATOM   1541    H MOL     1       7.989  -2.378 453.006  1.00  0.00           H  \nATOM   1542    H MOL     1       9.641  -3.008 453.278  1.00  0.00           H  \nATOM   1543    H MOL     1      10.246  -2.658 451.053  1.00  0.00           H  \nATOM   1544    H MOL     1       9.438  -3.657 449.805  1.00  0.00           H  \nATOM   1545    H MOL     1       8.165  -1.186 451.126  1.00  0.00           H  \nATOM   1546    H MOL     1       9.076  -1.170 449.592  1.00  0.00           H  \nATOM   1547    H MOL     1       6.115  -0.601 450.103  1.00  0.00           H  \nATOM   1548    H MOL     1       6.944  -0.472 448.521  1.00  0.00           H  \nATOM   1549    H MOL     1       5.507  -2.354 447.642  1.00  0.00           H  \nATOM   1550    H MOL     1       4.727  -2.490 449.240  1.00  0.00           H  \nATOM   1551    H MOL     1       5.369  -0.407 446.521  1.00  0.00           H  \nATOM   1552    H MOL     1       3.619  -0.107 446.370  1.00  0.00           H  \nATOM   1553    H MOL     1       3.804   1.780 448.024  1.00  0.00           H  \nATOM   1554    H MOL     1       5.573   1.533 448.084  1.00  0.00           H  \nATOM   1555    H MOL     1       4.631   4.067 445.514  1.00  0.00           H  \nATOM   1556    H MOL     1       4.364   3.940 447.265  1.00  0.00           H  \nATOM   1557    H MOL     1       6.797   3.468 447.628  1.00  0.00           H  \nATOM   1558    H MOL     1       7.079   3.501 445.870  1.00  0.00           H  \nATOM   1559    H MOL     1       7.429   6.986 445.972  1.00  0.00           H  \nATOM   1560    H MOL     1       8.169   5.480 445.383  1.00  0.00           H  \nATOM   1561    H MOL     1       6.142   4.920 444.067  1.00  0.00           H  \nATOM   1562    H MOL     1       6.882   6.454 443.591  1.00  0.00           H  \nATOM   1563    H MOL     1       5.403   8.025 445.987  1.00  0.00           H  \nATOM   1564    H MOL     1       3.938   8.146 444.997  1.00  0.00           H  \nATOM   1565    H MOL     1       5.552   9.874 444.371  1.00  0.00           H  \nATOM   1566    H MOL     1       6.849   8.683 444.106  1.00  0.00           H  \nATOM   1567    H MOL     1       3.854  10.015 442.735  1.00  0.00           H  \nATOM   1568    H MOL     1       3.408   8.275 442.748  1.00  0.00           H  \nATOM   1569    H MOL     1       2.873   9.167 440.595  1.00  0.00           H  \nATOM   1570    H MOL     1       4.260   8.062 440.395  1.00  0.00           H  \nATOM   1571    H MOL     1       6.551   9.337 440.495  1.00  0.00           H  \nATOM   1572    H MOL     1       5.846   9.011 438.879  1.00  0.00           H  \nATOM   1573    H MOL     1       5.862  11.470 438.383  1.00  0.00           H  \nATOM   1574    H MOL     1       6.692  11.779 439.932  1.00  0.00           H  \nATOM   1575    H MOL     1       9.639  10.033 438.753  1.00  0.00           H  \nATOM   1576    H MOL     1       8.710  10.266 440.254  1.00  0.00           H  \nATOM   1577    H MOL     1      10.646  11.903 439.807  1.00  0.00           H  \nATOM   1578    H MOL     1       9.645  12.573 438.478  1.00  0.00           H  \nATOM   1579    H MOL     1      10.125  14.453 439.964  1.00  0.00           H  \nATOM   1580    H MOL     1       9.049  14.612 441.375  1.00  0.00           H  \nATOM   1581    H MOL     1       7.053  14.671 439.839  1.00  0.00           H  \nATOM   1582    H MOL     1       8.130  14.529 438.429  1.00  0.00           H  \nATOM   1583    H MOL     1       7.716  16.492 441.403  1.00  0.00           H  \nATOM   1584    H MOL     1       8.354  17.948 440.600  1.00  0.00           H  \nATOM   1585    H MOL     1       6.252  18.106 439.224  1.00  0.00           H  \nATOM   1586    H MOL     1       5.637  16.616 439.987  1.00  0.00           H  \nATOM   1587    H MOL     1       5.655  20.098 440.362  1.00  0.00           H  \nATOM   1588    H MOL     1       7.119  19.740 441.317  1.00  0.00           H  \nATOM   1589    H MOL     1       5.909  21.198 442.692  1.00  0.00           H  \nATOM   1590    H MOL     1       5.651  19.575 443.389  1.00  0.00           H  \nATOM   1591    H MOL     1       4.130  21.736 440.923  1.00  0.00           H  \nATOM   1592    H MOL     1       2.505  21.296 441.499  1.00  0.00           H  \nATOM   1593    H MOL     1       2.893  22.533 443.630  1.00  0.00           H  \nATOM   1594    H MOL     1       4.559  22.920 443.116  1.00  0.00           H  \nATOM   1595    O MOL     1       3.038  23.835 442.002  1.00  0.00           O  \nATOM   1596    C MOL     1       3.192  25.095 442.652  1.00  0.00           C  \nATOM   1597    C MOL     1       4.606  25.671 442.621  1.00  0.00           C  \nATOM   1598    O MOL     1       5.054  26.060 441.329  1.00  0.00           O  \nATOM   1599    C MOL     1       5.558  24.989 440.530  1.00  0.00           C  \nATOM   1600    C MOL     1       6.225  25.621 439.320  1.00  0.00           C  \nATOM   1601    O MOL     1       6.593  24.570 438.439  1.00  0.00           O  \nATOM   1602    C MOL     1       7.416  24.989 437.356  1.00  0.00           C  \nATOM   1603    C MOL     1       6.760  25.971 436.400  1.00  0.00           C  \nATOM   1604    O MOL     1       5.640  25.357 435.780  1.00  0.00           O  \nATOM   1605    C MOL     1       4.812  26.292 435.103  1.00  0.00           C  \nATOM   1606    C MOL     1       3.677  25.503 434.453  1.00  0.00           C  \nATOM   1607    O MOL     1       2.632  26.327 433.951  1.00  0.00           O  \nATOM   1608    C MOL     1       2.948  27.064 432.769  1.00  0.00           C  \nATOM   1609    C MOL     1       3.144  28.543 433.085  1.00  0.00           C  \nATOM   1610    O MOL     1       3.283  29.227 431.843  1.00  0.00           O  \nATOM   1611    C MOL     1       3.535  30.626 431.983  1.00  0.00           C  \nATOM   1612    C MOL     1       5.033  30.907 432.158  1.00  0.00           C  \nATOM   1613    O MOL     1       5.283  32.301 432.352  1.00  0.00           O  \nATOM   1614    C MOL     1       5.804  32.988 431.222  1.00  0.00           C  \nATOM   1615    C MOL     1       4.862  33.096 430.022  1.00  0.00           C  \nATOM   1616    O MOL     1       3.566  33.612 430.310  1.00  0.00           O  \nATOM   1617    C MOL     1       3.532  34.909 430.897  1.00  0.00           C  \nATOM   1618    C MOL     1       4.217  36.006 430.078  1.00  0.00           C  \nATOM   1619    O MOL     1       3.824  36.066 428.714  1.00  0.00           O  \nATOM   1620    C MOL     1       2.461  36.435 428.520  1.00  0.00           C  \nATOM   1621    C MOL     1       2.221  36.719 427.049  1.00  0.00           C  \nATOM   1622    O MOL     1       2.881  37.893 426.586  1.00  0.00           O  \nATOM   1623    C MOL     1       4.162  37.652 426.001  1.00  0.00           C  \nATOM   1624    C MOL     1       4.797  39.010 425.723  1.00  0.00           C  \nATOM   1625    O MOL     1       6.022  38.863 425.001  1.00  0.00           O  \nATOM   1626    C MOL     1       7.173  38.609 425.807  1.00  0.00           C  \nATOM   1627    C MOL     1       7.968  39.871 426.086  1.00  0.00           C  \nATOM   1628    O MOL     1       7.278  40.677 427.045  1.00  0.00           O  \nATOM   1629    C MOL     1       7.445  42.082 426.865  1.00  0.00           C  \nATOM   1630    C MOL     1       6.392  42.636 425.896  1.00  0.00           C  \nATOM   1631    O MOL     1       6.570  44.037 425.677  1.00  0.00           O  \nATOM   1632    C MOL     1       5.914  44.873 426.632  1.00  0.00           C  \nATOM   1633    C MOL     1       4.457  45.140 426.229  1.00  0.00           C  \nATOM   1634    O MOL     1       3.784  45.977 427.164  1.00  0.00           O  \nATOM   1635    C MOL     1       4.022  47.366 426.971  1.00  0.00           C  \nATOM   1636    C MOL     1       3.148  48.156 427.933  1.00  0.00           C  \nATOM   1637    O MOL     1       1.754  48.074 427.654  1.00  0.00           O  \nATOM   1638    C MOL     1       1.303  48.970 426.634  1.00  0.00           C  \nATOM   1639    C MOL     1       1.032  50.375 427.159  1.00  0.00           C  \nATOM   1640    H MOL     1       2.511  25.783 442.128  1.00  0.00           H  \nATOM   1641    H MOL     1       2.869  25.026 443.710  1.00  0.00           H  \nATOM   1642    H MOL     1       4.607  26.587 443.232  1.00  0.00           H  \nATOM   1643    H MOL     1       5.329  24.968 443.077  1.00  0.00           H  \nATOM   1644    H MOL     1       4.749  24.317 440.201  1.00  0.00           H  \nATOM   1645    H MOL     1       6.291  24.393 441.106  1.00  0.00           H  \nATOM   1646    H MOL     1       5.509  26.318 438.847  1.00  0.00           H  \nATOM   1647    H MOL     1       7.113  26.206 439.632  1.00  0.00           H  \nATOM   1648    H MOL     1       8.348  25.454 437.738  1.00  0.00           H  \nATOM   1649    H MOL     1       7.681  24.068 436.819  1.00  0.00           H  \nATOM   1650    H MOL     1       6.445  26.887 436.935  1.00  0.00           H  \nATOM   1651    H MOL     1       7.509  26.281 435.642  1.00  0.00           H  \nATOM   1652    H MOL     1       4.390  27.027 435.817  1.00  0.00           H  \nATOM   1653    H MOL     1       5.398  26.851 434.346  1.00  0.00           H  \nATOM   1654    H MOL     1       4.082  24.852 433.655  1.00  0.00           H  \nATOM   1655    H MOL     1       3.218  24.861 435.217  1.00  0.00           H  \nATOM   1656    H MOL     1       3.846  26.654 432.275  1.00  0.00           H  \nATOM   1657    H MOL     1       2.103  26.960 432.071  1.00  0.00           H  \nATOM   1658    H MOL     1       2.263  28.919 433.639  1.00  0.00           H  \nATOM   1659    H MOL     1       4.031  28.686 433.730  1.00  0.00           H  \nATOM   1660    H MOL     1       3.156  31.113 431.075  1.00  0.00           H  \nATOM   1661    H MOL     1       2.979  31.045 432.841  1.00  0.00           H  \nATOM   1662    H MOL     1       5.410  30.388 433.054  1.00  0.00           H  \nATOM   1663    H MOL     1       5.591  30.520 431.288  1.00  0.00           H  \nATOM   1664    H MOL     1       6.076  33.985 431.598  1.00  0.00           H  \nATOM   1665    H MOL     1       6.737  32.505 430.864  1.00  0.00           H  \nATOM   1666    H MOL     1       4.675  32.102 429.588  1.00  0.00           H  \nATOM   1667    H MOL     1       5.371  33.697 429.245  1.00  0.00           H  \nATOM   1668    H MOL     1       3.982  34.906 431.909  1.00  0.00           H  \nATOM   1669    H MOL     1       2.462  35.129 431.020  1.00  0.00           H  \nATOM   1670    H MOL     1       4.019  36.973 430.585  1.00  0.00           H  \nATOM   1671    H MOL     1       5.307  35.863 430.058  1.00  0.00           H  \nATOM   1672    H MOL     1       2.226  37.340 429.114  1.00  0.00           H  \nATOM   1673    H MOL     1       1.781  35.621 428.840  1.00  0.00           H  \nATOM   1674    H MOL     1       1.140  36.883 426.906  1.00  0.00           H  \nATOM   1675    H MOL     1       2.514  35.842 426.445  1.00  0.00           H  \nATOM   1676    H MOL     1       4.791  37.053 426.681  1.00  0.00           H  \nATOM   1677    H MOL     1       4.050  37.097 425.049  1.00  0.00           H  \nATOM   1678    H MOL     1       4.126  39.601 425.082  1.00  0.00           H  \nATOM   1679    H MOL     1       4.954  39.562 426.663  1.00  0.00           H  \nATOM   1680    H MOL     1       7.813  37.909 425.246  1.00  0.00           H  \nATOM   1681    H MOL     1       6.895  38.126 426.760  1.00  0.00           H  \nATOM   1682    H MOL     1       8.968  39.600 426.478  1.00  0.00           H  \nATOM   1683    H MOL     1       8.109  40.419 425.138  1.00  0.00           H  \nATOM   1684    H MOL     1       8.457  42.325 426.495  1.00  0.00           H  \nATOM   1685    H MOL     1       7.330  42.539 427.859  1.00  0.00           H  \nATOM   1686    H MOL     1       5.384  42.405 426.282  1.00  0.00           H  \nATOM   1687    H MOL     1       6.491  42.149 424.914  1.00  0.00           H  \nATOM   1688    H MOL     1       5.940  44.436 427.646  1.00  0.00           H  \nATOM   1689    H MOL     1       6.483  45.814 426.657  1.00  0.00           H  \nATOM   1690    H MOL     1       4.431  45.577 425.213  1.00  0.00           H  \nATOM   1691    H MOL     1       3.893  44.196 426.205  1.00  0.00           H  \nATOM   1692    H MOL     1       3.806  47.643 425.920  1.00  0.00           H  \nATOM   1693    H MOL     1       5.080  47.630 427.170  1.00  0.00           H  \nATOM   1694    H MOL     1       3.496  49.206 427.942  1.00  0.00           H  \nATOM   1695    H MOL     1       3.279  47.749 428.947  1.00  0.00           H  \nATOM   1696    H MOL     1       2.024  49.003 425.796  1.00  0.00           H  \nATOM   1697    H MOL     1       0.376  48.524 426.246  1.00  0.00           H  \nATOM   1698    H MOL     1       0.294  50.340 427.972  1.00  0.00           H  \nATOM   1699    H MOL     1       1.944  50.854 427.541  1.00  0.00           H  \nATOM   1700    H MOL     1       0.631  51.012 426.357  1.00  0.00           H  \nATOM   1701    O MOL     1       7.809  28.946 141.978  1.00  0.00           O  \nATOM   1702    C MOL     1       6.413  28.852 141.666  1.00  0.00           C  \nATOM   1703    C MOL     1       6.248  28.244 140.285  1.00  0.00           C  \nATOM   1704    O MOL     1       6.557  26.855 140.226  1.00  0.00           O  \nATOM   1705    C MOL     1       7.911  26.561 139.876  1.00  0.00           C  \nATOM   1706    C MOL     1       8.017  25.049 139.766  1.00  0.00           C  \nATOM   1707    O MOL     1       9.368  24.743 139.446  1.00  0.00           O  \nATOM   1708    C MOL     1       9.600  23.365 139.190  1.00  0.00           C  \nATOM   1709    C MOL     1       9.570  22.475 140.422  1.00  0.00           C  \nATOM   1710    O MOL     1      10.653  22.815 141.274  1.00  0.00           O  \nATOM   1711    C MOL     1      10.635  22.090 142.496  1.00  0.00           C  \nATOM   1712    C MOL     1      11.816  22.579 143.330  1.00  0.00           C  \nATOM   1713    O MOL     1      11.862  21.982 144.621  1.00  0.00           O  \nATOM   1714    C MOL     1      12.364  20.645 144.655  1.00  0.00           C  \nATOM   1715    C MOL     1      11.273  19.679 145.103  1.00  0.00           C  \nATOM   1716    O MOL     1      11.880  18.399 145.245  1.00  0.00           O  \nATOM   1717    C MOL     1      10.985  17.373 145.672  1.00  0.00           C  \nATOM   1718    C MOL     1      10.206  16.776 144.493  1.00  0.00           C  \nATOM   1719    O MOL     1       9.349  15.716 144.920  1.00  0.00           O  \nATOM   1720    C MOL     1       9.802  14.407 144.598  1.00  0.00           C  \nATOM   1721    C MOL     1      11.088  13.965 145.297  1.00  0.00           C  \nATOM   1722    O MOL     1      11.075  14.077 146.716  1.00  0.00           O  \nATOM   1723    C MOL     1      10.084  13.306 147.388  1.00  0.00           C  \nATOM   1724    C MOL     1      10.163  11.798 147.135  1.00  0.00           C  \nATOM   1725    O MOL     1      11.454  11.234 147.320  1.00  0.00           O  \nATOM   1726    C MOL     1      11.906  11.265 148.672  1.00  0.00           C  \nATOM   1727    C MOL     1      13.194  10.473 148.794  1.00  0.00           C  \nATOM   1728    O MOL     1      13.022   9.074 148.594  1.00  0.00           O  \nATOM   1729    C MOL     1      13.267   8.637 147.256  1.00  0.00           C  \nATOM   1730    C MOL     1      12.942   7.148 147.206  1.00  0.00           C  \nATOM   1731    O MOL     1      13.339   6.576 145.955  1.00  0.00           O  \nATOM   1732    C MOL     1      12.391   6.699 144.895  1.00  0.00           C  \nATOM   1733    C MOL     1      11.392   5.557 144.851  1.00  0.00           C  \nATOM   1734    O MOL     1      10.390   5.757 145.851  1.00  0.00           O  \nATOM   1735    C MOL     1       9.691   4.573 146.227  1.00  0.00           C  \nATOM   1736    C MOL     1      10.389   3.882 147.407  1.00  0.00           C  \nATOM   1737    O MOL     1       9.714   2.684 147.793  1.00  0.00           O  \nATOM   1738    C MOL     1       8.594   2.893 148.654  1.00  0.00           C  \nATOM   1739    C MOL     1       9.008   2.910 150.132  1.00  0.00           C  \nATOM   1740    O MOL     1       7.915   3.256 150.978  1.00  0.00           O  \nATOM   1741    C MOL     1       7.040   2.172 151.262  1.00  0.00           C  \nATOM   1742    C MOL     1       5.856   2.689 152.062  1.00  0.00           C  \nATOM   1743    O MOL     1       6.181   3.132 153.380  1.00  0.00           O  \nATOM   1744    C MOL     1       6.328   2.081 154.329  1.00  0.00           C  \nATOM   1745    C MOL     1       4.975   1.621 154.862  1.00  0.00           C  \nATOM   1746    H MOL     1       7.902  29.177 142.917  1.00  0.00           H  \nATOM   1747    H MOL     1       5.883  28.220 142.402  1.00  0.00           H  \nATOM   1748    H MOL     1       5.941  29.855 141.663  1.00  0.00           H  \nATOM   1749    H MOL     1       5.191  28.342 139.993  1.00  0.00           H  \nATOM   1750    H MOL     1       6.858  28.809 139.556  1.00  0.00           H  \nATOM   1751    H MOL     1       8.613  26.936 140.636  1.00  0.00           H  \nATOM   1752    H MOL     1       8.167  27.029 138.906  1.00  0.00           H  \nATOM   1753    H MOL     1       7.709  24.595 140.726  1.00  0.00           H  \nATOM   1754    H MOL     1       7.334  24.674 138.978  1.00  0.00           H  \nATOM   1755    H MOL     1       8.860  22.977 138.462  1.00  0.00           H  \nATOM   1756    H MOL     1      10.598  23.312 138.732  1.00  0.00           H  \nATOM   1757    H MOL     1       8.610  22.579 140.964  1.00  0.00           H  \nATOM   1758    H MOL     1       9.647  21.416 140.096  1.00  0.00           H  \nATOM   1759    H MOL     1       9.691  22.269 143.046  1.00  0.00           H  \nATOM   1760    H MOL     1      10.711  21.000 142.300  1.00  0.00           H  \nATOM   1761    H MOL     1      12.758  22.404 142.778  1.00  0.00           H  \nATOM   1762    H MOL     1      11.714  23.661 143.493  1.00  0.00           H  \nATOM   1763    H MOL     1      12.755  20.342 143.669  1.00  0.00           H  \nATOM   1764    H MOL     1      13.197  20.603 145.375  1.00  0.00           H  \nATOM   1765    H MOL     1      10.852  20.018 146.069  1.00  0.00           H  \nATOM   1766    H MOL     1      10.450  19.666 144.365  1.00  0.00           H  \nATOM   1767    H MOL     1      11.595  16.597 146.152  1.00  0.00           H  \nATOM   1768    H MOL     1      10.276  17.756 146.430  1.00  0.00           H  \nATOM   1769    H MOL     1       9.563  17.544 144.032  1.00  0.00           H  \nATOM   1770    H MOL     1      10.916  16.428 143.721  1.00  0.00           H  \nATOM   1771    H MOL     1       8.965  13.743 144.862  1.00  0.00           H  \nATOM   1772    H MOL     1       9.968  14.307 143.506  1.00  0.00           H  \nATOM   1773    H MOL     1      11.936  14.589 144.976  1.00  0.00           H  \nATOM   1774    H MOL     1      11.311  12.929 144.976  1.00  0.00           H  \nATOM   1775    H MOL     1       9.062  13.644 147.128  1.00  0.00           H  \nATOM   1776    H MOL     1      10.234  13.529 148.453  1.00  0.00           H  \nATOM   1777    H MOL     1       9.422  11.307 147.798  1.00  0.00           H  \nATOM   1778    H MOL     1       9.887  11.556 146.098  1.00  0.00           H  \nATOM   1779    H MOL     1      11.136  10.827 149.337  1.00  0.00           H  \nATOM   1780    H MOL     1      12.100  12.304 149.001  1.00  0.00           H  \nATOM   1781    H MOL     1      13.577  10.605 149.819  1.00  0.00           H  \nATOM   1782    H MOL     1      13.950  10.876 148.095  1.00  0.00           H  \nATOM   1783    H MOL     1      12.644   9.206 146.545  1.00  0.00           H  \nATOM   1784    H MOL     1      14.331   8.790 146.992  1.00  0.00           H  \nATOM   1785    H MOL     1      13.523   6.628 147.981  1.00  0.00           H  \nATOM   1786    H MOL     1      11.872   6.980 147.401  1.00  0.00           H  \nATOM   1787    H MOL     1      12.975   6.692 143.961  1.00  0.00           H  \nATOM   1788    H MOL     1      11.847   7.659 144.948  1.00  0.00           H  \nATOM   1789    H MOL     1      10.917   5.518 143.850  1.00  0.00           H  \nATOM   1790    H MOL     1      11.931   4.606 145.012  1.00  0.00           H  \nATOM   1791    H MOL     1       9.602   3.869 145.380  1.00  0.00           H  \nATOM   1792    H MOL     1       8.676   4.888 146.512  1.00  0.00           H  \nATOM   1793    H MOL     1      10.472   4.595 148.247  1.00  0.00           H  \nATOM   1794    H MOL     1      11.408   3.584 147.121  1.00  0.00           H  \nATOM   1795    H MOL     1       8.069   3.837 148.424  1.00  0.00           H  \nATOM   1796    H MOL     1       7.897   2.065 148.456  1.00  0.00           H  \nATOM   1797    H MOL     1       9.442   1.933 150.417  1.00  0.00           H  \nATOM   1798    H MOL     1       9.775   3.681 150.298  1.00  0.00           H  \nATOM   1799    H MOL     1       7.583   1.377 151.811  1.00  0.00           H  \nATOM   1800    H MOL     1       6.641   1.714 150.335  1.00  0.00           H  \nATOM   1801    H MOL     1       5.081   1.899 152.083  1.00  0.00           H  \nATOM   1802    H MOL     1       5.435   3.564 151.549  1.00  0.00           H  \nATOM   1803    H MOL     1       6.866   1.213 153.909  1.00  0.00           H  \nATOM   1804    H MOL     1       6.937   2.484 155.151  1.00  0.00           H  \nATOM   1805    H MOL     1       4.473   2.450 155.399  1.00  0.00           H  \nATOM   1806    H MOL     1       4.321   1.325 154.020  1.00  0.00           H  \nATOM   1807    O MOL     1       5.212   0.528 155.739  1.00  0.00           O  \nATOM   1808    C MOL     1       4.024  -0.095 156.221  1.00  0.00           C  \nATOM   1809    C MOL     1       3.331  -1.022 155.222  1.00  0.00           C  \nATOM   1810    O MOL     1       4.035  -2.226 154.941  1.00  0.00           O  \nATOM   1811    C MOL     1       5.096  -2.099 153.992  1.00  0.00           C  \nATOM   1812    C MOL     1       5.562  -3.510 153.666  1.00  0.00           C  \nATOM   1813    O MOL     1       6.742  -3.400 152.883  1.00  0.00           O  \nATOM   1814    C MOL     1       7.178  -4.629 152.313  1.00  0.00           C  \nATOM   1815    C MOL     1       7.621  -5.682 153.316  1.00  0.00           C  \nATOM   1816    O MOL     1       8.768  -5.225 154.016  1.00  0.00           O  \nATOM   1817    C MOL     1       9.096  -6.055 155.122  1.00  0.00           C  \nATOM   1818    C MOL     1      10.333  -5.458 155.789  1.00  0.00           C  \nATOM   1819    O MOL     1      10.612  -6.024 157.064  1.00  0.00           O  \nATOM   1820    C MOL     1      11.150  -7.347 157.044  1.00  0.00           C  \nATOM   1821    C MOL     1      10.112  -8.363 157.508  1.00  0.00           C  \nATOM   1822    O MOL     1      10.770  -9.621 157.628  1.00  0.00           O  \nATOM   1823    C MOL     1       9.906 -10.689 158.016  1.00  0.00           C  \nATOM   1824    C MOL     1       9.218 -11.318 156.799  1.00  0.00           C  \nATOM   1825    O MOL     1       8.314 -12.354 157.188  1.00  0.00           O  \nATOM   1826    C MOL     1       8.769 -13.680 156.953  1.00  0.00           C  \nATOM   1827    C MOL     1       9.962 -14.129 157.798  1.00  0.00           C  \nATOM   1828    O MOL     1       9.816 -13.949 159.203  1.00  0.00           O  \nATOM   1829    C MOL     1       8.687 -14.583 159.797  1.00  0.00           C  \nATOM   1830    C MOL     1       8.614 -16.100 159.601  1.00  0.00           C  \nATOM   1831    O MOL     1       9.803 -16.808 159.925  1.00  0.00           O  \nATOM   1832    C MOL     1      10.185 -16.691 161.296  1.00  0.00           C  \nATOM   1833    C MOL     1      11.295 -17.679 161.601  1.00  0.00           C  \nATOM   1834    O MOL     1      10.857 -19.036 161.611  1.00  0.00           O  \nATOM   1835    C MOL     1      11.083 -19.725 160.381  1.00  0.00           C  \nATOM   1836    C MOL     1      10.434 -21.102 160.493  1.00  0.00           C  \nATOM   1837    O MOL     1      10.796 -21.933 159.390  1.00  0.00           O  \nATOM   1838    C MOL     1      10.121 -21.635 158.164  1.00  0.00           C  \nATOM   1839    C MOL     1       9.063 -22.665 157.832  1.00  0.00           C  \nATOM   1840    O MOL     1       7.946 -22.512 158.714  1.00  0.00           O  \nATOM   1841    C MOL     1       7.386 -23.736 159.179  1.00  0.00           C  \nATOM   1842    C MOL     1       8.178 -24.294 160.368  1.00  0.00           C  \nATOM   1843    O MOL     1       7.631 -25.536 160.818  1.00  0.00           O  \nATOM   1844    C MOL     1       6.595 -25.405 161.790  1.00  0.00           C  \nATOM   1845    C MOL     1       7.175 -25.262 163.204  1.00  0.00           C  \nATOM   1846    O MOL     1       6.163 -25.126 164.196  1.00  0.00           O  \nATOM   1847    C MOL     1       5.560 -26.358 164.572  1.00  0.00           C  \nATOM   1848    C MOL     1       4.618 -26.110 165.740  1.00  0.00           C  \nATOM   1849    O MOL     1       5.274 -25.744 166.949  1.00  0.00           O  \nATOM   1850    C MOL     1       5.803 -26.845 167.693  1.00  0.00           C  \nATOM   1851    C MOL     1       4.751 -27.554 168.539  1.00  0.00           C  \nATOM   1852    H MOL     1       4.331  -0.675 157.101  1.00  0.00           H  \nATOM   1853    H MOL     1       3.295   0.671 156.556  1.00  0.00           H  \nATOM   1854    H MOL     1       2.371  -1.332 155.664  1.00  0.00           H  \nATOM   1855    H MOL     1       3.103  -0.487 154.279  1.00  0.00           H  \nATOM   1856    H MOL     1       5.936  -1.516 154.402  1.00  0.00           H  \nATOM   1857    H MOL     1       4.734  -1.589 153.078  1.00  0.00           H  \nATOM   1858    H MOL     1       5.751  -4.045 154.615  1.00  0.00           H  \nATOM   1859    H MOL     1       4.774  -4.061 153.116  1.00  0.00           H  \nATOM   1860    H MOL     1       6.374  -5.070 151.689  1.00  0.00           H  \nATOM   1861    H MOL     1       8.021  -4.365 151.660  1.00  0.00           H  \nATOM   1862    H MOL     1       6.807  -5.914 154.030  1.00  0.00           H  \nATOM   1863    H MOL     1       7.845  -6.619 152.765  1.00  0.00           H  \nATOM   1864    H MOL     1       8.261  -6.080 155.850  1.00  0.00           H  \nATOM   1865    H MOL     1       9.283  -7.094 154.783  1.00  0.00           H  \nATOM   1866    H MOL     1      11.208  -5.551 155.119  1.00  0.00           H  \nATOM   1867    H MOL     1      10.150  -4.389 155.964  1.00  0.00           H  \nATOM   1868    H MOL     1      11.522  -7.609 156.039  1.00  0.00           H  \nATOM   1869    H MOL     1      12.006  -7.374 157.738  1.00  0.00           H  \nATOM   1870    H MOL     1       9.702  -8.046 158.487  1.00  0.00           H  \nATOM   1871    H MOL     1       9.271  -8.410 156.792  1.00  0.00           H  \nATOM   1872    H MOL     1      10.526 -11.433 158.533  1.00  0.00           H  \nATOM   1873    H MOL     1       9.140 -10.340 158.732  1.00  0.00           H  \nATOM   1874    H MOL     1       8.623 -10.557 156.267  1.00  0.00           H  \nATOM   1875    H MOL     1       9.979 -11.699 156.094  1.00  0.00           H  \nATOM   1876    H MOL     1       7.892 -14.318 157.142  1.00  0.00           H  \nATOM   1877    H MOL     1       9.050 -13.816 155.888  1.00  0.00           H  \nATOM   1878    H MOL     1      10.861 -13.553 157.534  1.00  0.00           H  \nATOM   1879    H MOL     1      10.174 -15.188 157.551  1.00  0.00           H  \nATOM   1880    H MOL     1       7.739 -14.146 159.429  1.00  0.00           H  \nATOM   1881    H MOL     1       8.761 -14.335 160.865  1.00  0.00           H  \nATOM   1882    H MOL     1       7.762 -16.469 160.209  1.00  0.00           H  \nATOM   1883    H MOL     1       8.403 -16.355 158.552  1.00  0.00           H  \nATOM   1884    H MOL     1       9.316 -16.901 161.950  1.00  0.00           H  \nATOM   1885    H MOL     1      10.550 -15.670 161.515  1.00  0.00           H  \nATOM   1886    H MOL     1      11.678 -17.458 162.610  1.00  0.00           H  \nATOM   1887    H MOL     1      12.124 -17.542 160.884  1.00  0.00           H  \nATOM   1888    H MOL     1      10.655 -19.153 159.541  1.00  0.00           H  \nATOM   1889    H MOL     1      12.168 -19.849 160.202  1.00  0.00           H  \nATOM   1890    H MOL     1      10.811 -21.607 161.394  1.00  0.00           H  \nATOM   1891    H MOL     1       9.338 -21.007 160.578  1.00  0.00           H  \nATOM   1892    H MOL     1      10.867 -21.613 157.353  1.00  0.00           H  \nATOM   1893    H MOL     1       9.643 -20.641 158.210  1.00  0.00           H  \nATOM   1894    H MOL     1       8.734 -22.523 156.785  1.00  0.00           H  \nATOM   1895    H MOL     1       9.497 -23.676 157.917  1.00  0.00           H  \nATOM   1896    H MOL     1       7.344 -24.493 158.374  1.00  0.00           H  \nATOM   1897    H MOL     1       6.353 -23.507 159.480  1.00  0.00           H  \nATOM   1898    H MOL     1       8.206 -23.540 161.173  1.00  0.00           H  \nATOM   1899    H MOL     1       9.217 -24.497 160.070  1.00  0.00           H  \nATOM   1900    H MOL     1       5.934 -24.546 161.575  1.00  0.00           H  \nATOM   1901    H MOL     1       5.990 -26.321 161.715  1.00  0.00           H  \nATOM   1902    H MOL     1       7.829 -26.128 163.420  1.00  0.00           H  \nATOM   1903    H MOL     1       7.787 -24.351 163.270  1.00  0.00           H  \nATOM   1904    H MOL     1       6.344 -27.094 164.841  1.00  0.00           H  \nATOM   1905    H MOL     1       4.971 -26.794 163.740  1.00  0.00           H  \nATOM   1906    H MOL     1       3.988 -27.009 165.879  1.00  0.00           H  \nATOM   1907    H MOL     1       3.956 -25.269 165.488  1.00  0.00           H  \nATOM   1908    H MOL     1       6.306 -27.564 167.020  1.00  0.00           H  \nATOM   1909    H MOL     1       6.579 -26.408 168.338  1.00  0.00           H  \nATOM   1910    H MOL     1       4.272 -26.845 169.228  1.00  0.00           H  \nATOM   1911    H MOL     1       3.969 -28.017 167.921  1.00  0.00           H  \nATOM   1912    H MOL     1       5.220 -28.353 169.133  1.00  0.00           H  \nATOM   1913    O MOL     1     -11.237   4.404 116.694  1.00  0.00           O  \nATOM   1914    C MOL     1     -11.406   3.041 116.282  1.00  0.00           C  \nATOM   1915    C MOL     1     -11.938   3.010 114.861  1.00  0.00           C  \nATOM   1916    O MOL     1     -10.978   3.374 113.873  1.00  0.00           O  \nATOM   1917    C MOL     1     -10.947   4.764 113.548  1.00  0.00           C  \nATOM   1918    C MOL     1      -9.917   4.926 112.443  1.00  0.00           C  \nATOM   1919    O MOL     1      -9.860   6.307 112.105  1.00  0.00           O  \nATOM   1920    C MOL     1      -9.010   6.590 110.999  1.00  0.00           C  \nATOM   1921    C MOL     1      -7.522   6.457 111.283  1.00  0.00           C  \nATOM   1922    O MOL     1      -7.125   7.443 112.225  1.00  0.00           O  \nATOM   1923    C MOL     1      -5.761   7.318 112.600  1.00  0.00           C  \nATOM   1924    C MOL     1      -5.472   8.391 113.647  1.00  0.00           C  \nATOM   1925    O MOL     1      -4.148   8.308 114.163  1.00  0.00           O  \nATOM   1926    C MOL     1      -3.131   8.849 113.318  1.00  0.00           C  \nATOM   1927    C MOL     1      -2.160   7.755 112.893  1.00  0.00           C  \nATOM   1928    O MOL     1      -1.110   8.384 112.164  1.00  0.00           O  \nATOM   1929    C MOL     1      -0.114   7.484 111.678  1.00  0.00           C  \nATOM   1930    C MOL     1      -0.534   6.848 110.346  1.00  0.00           C  \nATOM   1931    O MOL     1       0.474   5.966 109.847  1.00  0.00           O  \nATOM   1932    C MOL     1       1.241   6.475 108.762  1.00  0.00           C  \nATOM   1933    C MOL     1       2.132   7.674 109.089  1.00  0.00           C  \nATOM   1934    O MOL     1       3.012   7.490 110.193  1.00  0.00           O  \nATOM   1935    C MOL     1       4.013   6.490 110.030  1.00  0.00           C  \nATOM   1936    C MOL     1       4.978   6.721 108.862  1.00  0.00           C  \nATOM   1937    O MOL     1       5.568   8.013 108.819  1.00  0.00           O  \nATOM   1938    C MOL     1       6.481   8.260 109.886  1.00  0.00           C  \nATOM   1939    C MOL     1       7.118   9.627 109.712  1.00  0.00           C  \nATOM   1940    O MOL     1       8.099   9.709 108.682  1.00  0.00           O  \nATOM   1941    C MOL     1       7.596  10.149 107.418  1.00  0.00           C  \nATOM   1942    C MOL     1       8.800  10.347 106.504  1.00  0.00           C  \nATOM   1943    O MOL     1       8.440  10.990 105.276  1.00  0.00           O  \nATOM   1944    C MOL     1       7.827  10.179 104.276  1.00  0.00           C  \nATOM   1945    C MOL     1       8.787   9.301 103.494  1.00  0.00           C  \nATOM   1946    O MOL     1       9.099   8.149 104.282  1.00  0.00           O  \nATOM   1947    C MOL     1      10.038   7.268 103.669  1.00  0.00           C  \nATOM   1948    C MOL     1      11.466   7.572 104.132  1.00  0.00           C  \nATOM   1949    O MOL     1      12.410   6.729 103.464  1.00  0.00           O  \nATOM   1950    C MOL     1      12.573   5.437 104.053  1.00  0.00           C  \nATOM   1951    C MOL     1      13.672   5.474 105.126  1.00  0.00           C  \nATOM   1952    O MOL     1      13.899   4.204 105.727  1.00  0.00           O  \nATOM   1953    C MOL     1      14.777   3.373 104.979  1.00  0.00           C  \nATOM   1954    C MOL     1      15.008   2.089 105.757  1.00  0.00           C  \nATOM   1955    O MOL     1      15.675   2.278 107.002  1.00  0.00           O  \nATOM   1956    C MOL     1      17.091   2.403 106.903  1.00  0.00           C  \nATOM   1957    C MOL     1      17.771   1.037 106.914  1.00  0.00           C  \nATOM   1958    H MOL     1     -10.780   4.413 117.551  1.00  0.00           H  \nATOM   1959    H MOL     1     -10.448   2.493 116.318  1.00  0.00           H  \nATOM   1960    H MOL     1     -12.132   2.519 116.935  1.00  0.00           H  \nATOM   1961    H MOL     1     -12.238   1.975 114.632  1.00  0.00           H  \nATOM   1962    H MOL     1     -12.835   3.652 114.786  1.00  0.00           H  \nATOM   1963    H MOL     1     -10.669   5.376 114.420  1.00  0.00           H  \nATOM   1964    H MOL     1     -11.941   5.098 113.193  1.00  0.00           H  \nATOM   1965    H MOL     1      -8.942   4.552 112.804  1.00  0.00           H  \nATOM   1966    H MOL     1     -10.207   4.320 111.561  1.00  0.00           H  \nATOM   1967    H MOL     1      -9.257   5.927 110.145  1.00  0.00           H  \nATOM   1968    H MOL     1      -9.234   7.626 110.708  1.00  0.00           H  \nATOM   1969    H MOL     1      -7.279   5.446 111.665  1.00  0.00           H  \nATOM   1970    H MOL     1      -6.970   6.585 110.329  1.00  0.00           H  \nATOM   1971    H MOL     1      -5.561   6.317 113.031  1.00  0.00           H  \nATOM   1972    H MOL     1      -5.103   7.441 111.715  1.00  0.00           H  \nATOM   1973    H MOL     1      -5.671   9.391 113.221  1.00  0.00           H  \nATOM   1974    H MOL     1      -6.148   8.246 114.502  1.00  0.00           H  \nATOM   1975    H MOL     1      -3.568   9.332 112.428  1.00  0.00           H  \nATOM   1976    H MOL     1      -2.579   9.620 113.882  1.00  0.00           H  \nATOM   1977    H MOL     1      -1.758   7.244 113.789  1.00  0.00           H  \nATOM   1978    H MOL     1      -2.688   6.997 112.283  1.00  0.00           H  \nATOM   1979    H MOL     1       0.805   8.069 111.545  1.00  0.00           H  \nATOM   1980    H MOL     1       0.099   6.692 112.418  1.00  0.00           H  \nATOM   1981    H MOL     1      -1.446   6.244 110.486  1.00  0.00           H  \nATOM   1982    H MOL     1      -0.769   7.642 109.615  1.00  0.00           H  \nATOM   1983    H MOL     1       1.842   5.621 108.415  1.00  0.00           H  \nATOM   1984    H MOL     1       0.580   6.774 107.923  1.00  0.00           H  \nATOM   1985    H MOL     1       1.520   8.546 109.363  1.00  0.00           H  \nATOM   1986    H MOL     1       2.687   7.947 108.171  1.00  0.00           H  \nATOM   1987    H MOL     1       3.566   5.485 109.907  1.00  0.00           H  \nATOM   1988    H MOL     1       4.553   6.484 110.987  1.00  0.00           H  \nATOM   1989    H MOL     1       5.761   5.936 108.920  1.00  0.00           H  \nATOM   1990    H MOL     1       4.465   6.604 107.897  1.00  0.00           H  \nATOM   1991    H MOL     1       7.260   7.473 109.910  1.00  0.00           H  \nATOM   1992    H MOL     1       5.963   8.256 110.865  1.00  0.00           H  \nATOM   1993    H MOL     1       7.634   9.879 110.651  1.00  0.00           H  \nATOM   1994    H MOL     1       6.320  10.374 109.545  1.00  0.00           H  \nATOM   1995    H MOL     1       6.888   9.411 107.004  1.00  0.00           H  \nATOM   1996    H MOL     1       7.067  11.113 107.540  1.00  0.00           H  \nATOM   1997    H MOL     1       9.501  11.038 106.991  1.00  0.00           H  \nATOM   1998    H MOL     1       9.307   9.386 106.327  1.00  0.00           H  \nATOM   1999    H MOL     1       7.349  10.891 103.587  1.00  0.00           H  \nATOM   2000    H MOL     1       7.027   9.539 104.689  1.00  0.00           H  \nATOM   2001    H MOL     1       8.300   8.982 102.550  1.00  0.00           H  \nATOM   2002    H MOL     1       9.697   9.875 103.232  1.00  0.00           H  \nATOM   2003    H MOL     1       9.980   7.322 102.568  1.00  0.00           H  \nATOM   2004    H MOL     1       9.751   6.249 103.975  1.00  0.00           H  \nATOM   2005    H MOL     1      11.528   7.476 105.232  1.00  0.00           H  \nATOM   2006    H MOL     1      11.738   8.608 103.878  1.00  0.00           H  \nATOM   2007    H MOL     1      11.630   5.057 104.489  1.00  0.00           H  \nATOM   2008    H MOL     1      12.856   4.756 103.233  1.00  0.00           H  \nATOM   2009    H MOL     1      14.599   5.878 104.673  1.00  0.00           H  \nATOM   2010    H MOL     1      13.382   6.152 105.942  1.00  0.00           H  \nATOM   2011    H MOL     1      15.727   3.908 104.781  1.00  0.00           H  \nATOM   2012    H MOL     1      14.345   3.104 103.993  1.00  0.00           H  \nATOM   2013    H MOL     1      15.555   1.382 105.106  1.00  0.00           H  \nATOM   2014    H MOL     1      14.032   1.646 106.004  1.00  0.00           H  \nATOM   2015    H MOL     1      17.396   2.947 105.993  1.00  0.00           H  \nATOM   2016    H MOL     1      17.423   2.991 107.771  1.00  0.00           H  \nATOM   2017    H MOL     1      17.573   0.516 107.871  1.00  0.00           H  \nATOM   2018    H MOL     1      17.361   0.409 106.101  1.00  0.00           H  \nATOM   2019    O MOL     1      19.166   1.264 106.745  1.00  0.00           O  \nATOM   2020    C MOL     1      19.931   0.081 106.526  1.00  0.00           C  \nATOM   2021    C MOL     1      19.804  -0.514 105.124  1.00  0.00           C  \nATOM   2022    O MOL     1      20.338   0.301 104.088  1.00  0.00           O  \nATOM   2023    C MOL     1      19.447   1.307 103.607  1.00  0.00           C  \nATOM   2024    C MOL     1      20.090   1.916 102.372  1.00  0.00           C  \nATOM   2025    O MOL     1      19.290   3.021 101.970  1.00  0.00           O  \nATOM   2026    C MOL     1      19.679   3.606 100.731  1.00  0.00           C  \nATOM   2027    C MOL     1      21.136   4.040 100.650  1.00  0.00           C  \nATOM   2028    O MOL     1      21.425   4.965 101.689  1.00  0.00           O  \nATOM   2029    C MOL     1      22.821   5.155 101.879  1.00  0.00           C  \nATOM   2030    C MOL     1      22.977   6.222 102.964  1.00  0.00           C  \nATOM   2031    O MOL     1      24.299   6.342 103.476  1.00  0.00           O  \nATOM   2032    C MOL     1      25.277   6.842 102.566  1.00  0.00           C  \nATOM   2033    C MOL     1      26.214   5.724 102.116  1.00  0.00           C  \nATOM   2034    O MOL     1      27.252   6.320 101.338  1.00  0.00           O  \nATOM   2035    C MOL     1      28.232   5.392 100.867  1.00  0.00           C  \nATOM   2036    C MOL     1      28.004   5.025  99.401  1.00  0.00           C  \nATOM   2037    O MOL     1      29.097   4.236  98.926  1.00  0.00           O  \nATOM   2038    C MOL     1      30.057   4.944  98.149  1.00  0.00           C  \nATOM   2039    C MOL     1      30.778   6.109  98.833  1.00  0.00           C  \nATOM   2040    O MOL     1      31.485   5.819 100.035  1.00  0.00           O  \nATOM   2041    C MOL     1      32.477   4.799  99.973  1.00  0.00           C  \nATOM   2042    C MOL     1      33.433   4.864  98.785  1.00  0.00           C  \nATOM   2043    O MOL     1      34.198   6.058  98.669  1.00  0.00           O  \nATOM   2044    C MOL     1      35.232   6.166  99.647  1.00  0.00           C  \nATOM   2045    C MOL     1      36.270   7.178  99.201  1.00  0.00           C  \nATOM   2046    O MOL     1      37.084   6.727  98.120  1.00  0.00           O  \nATOM   2047    C MOL     1      36.668   7.171  96.828  1.00  0.00           C  \nATOM   2048    C MOL     1      37.757   6.743  95.843  1.00  0.00           C  \nATOM   2049    O MOL     1      37.610   7.367  94.565  1.00  0.00           O  \nATOM   2050    C MOL     1      36.596   6.812  93.729  1.00  0.00           C  \nATOM   2051    C MOL     1      37.125   5.822  92.709  1.00  0.00           C  \nATOM   2052    O MOL     1      37.525   4.616  93.363  1.00  0.00           O  \nATOM   2053    C MOL     1      38.666   3.987  92.781  1.00  0.00           C  \nATOM   2054    C MOL     1      39.959   4.657  93.262  1.00  0.00           C  \nATOM   2055    O MOL     1      41.110   4.074  92.651  1.00  0.00           O  \nATOM   2056    C MOL     1      41.667   2.977  93.376  1.00  0.00           C  \nATOM   2057    C MOL     1      42.608   3.467  94.486  1.00  0.00           C  \nATOM   2058    O MOL     1      43.186   2.394  95.220  1.00  0.00           O  \nATOM   2059    C MOL     1      44.317   1.807  94.586  1.00  0.00           C  \nATOM   2060    C MOL     1      44.937   0.789  95.530  1.00  0.00           C  \nATOM   2061    O MOL     1      45.550   1.361  96.680  1.00  0.00           O  \nATOM   2062    C MOL     1      46.888   1.824  96.471  1.00  0.00           C  \nATOM   2063    C MOL     1      47.916   0.698  96.481  1.00  0.00           C  \nATOM   2064    H MOL     1      20.978   0.369 106.701  1.00  0.00           H  \nATOM   2065    H MOL     1      19.660  -0.701 107.264  1.00  0.00           H  \nATOM   2066    H MOL     1      20.384  -1.450 105.102  1.00  0.00           H  \nATOM   2067    H MOL     1      18.752  -0.770 104.896  1.00  0.00           H  \nATOM   2068    H MOL     1      19.279   2.091 104.363  1.00  0.00           H  \nATOM   2069    H MOL     1      18.468   0.860 103.347  1.00  0.00           H  \nATOM   2070    H MOL     1      21.114   2.235 102.636  1.00  0.00           H  \nATOM   2071    H MOL     1      20.164   1.160 101.566  1.00  0.00           H  \nATOM   2072    H MOL     1      19.498   2.901  99.893  1.00  0.00           H  \nATOM   2073    H MOL     1      19.021   4.477 100.598  1.00  0.00           H  \nATOM   2074    H MOL     1      21.805   3.161 100.733  1.00  0.00           H  \nATOM   2075    H MOL     1      21.311   4.499  99.655  1.00  0.00           H  \nATOM   2076    H MOL     1      23.300   4.208 102.199  1.00  0.00           H  \nATOM   2077    H MOL     1      23.293   5.471 100.927  1.00  0.00           H  \nATOM   2078    H MOL     1      22.601   7.192 102.584  1.00  0.00           H  \nATOM   2079    H MOL     1      22.359   5.930 103.824  1.00  0.00           H  \nATOM   2080    H MOL     1      24.801   7.315 101.689  1.00  0.00           H  \nATOM   2081    H MOL     1      25.874   7.603 103.094  1.00  0.00           H  \nATOM   2082    H MOL     1      26.641   5.229 103.010  1.00  0.00           H  \nATOM   2083    H MOL     1      25.663   4.959 101.534  1.00  0.00           H  \nATOM   2084    H MOL     1      29.219   5.860 100.977  1.00  0.00           H  \nATOM   2085    H MOL     1      28.240   4.472 101.478  1.00  0.00           H  \nATOM   2086    H MOL     1      27.090   4.424  99.285  1.00  0.00           H  \nATOM   2087    H MOL     1      27.872   5.943  98.803  1.00  0.00           H  \nATOM   2088    H MOL     1      30.771   4.172  97.826  1.00  0.00           H  \nATOM   2089    H MOL     1      29.585   5.359  97.233  1.00  0.00           H  \nATOM   2090    H MOL     1      30.057   6.889  99.123  1.00  0.00           H  \nATOM   2091    H MOL     1      31.449   6.568  98.085  1.00  0.00           H  \nATOM   2092    H MOL     1      32.010   3.795  99.971  1.00  0.00           H  \nATOM   2093    H MOL     1      33.031   4.898 100.917  1.00  0.00           H  \nATOM   2094    H MOL     1      34.105   3.987  98.852  1.00  0.00           H  \nATOM   2095    H MOL     1      32.880   4.777  97.841  1.00  0.00           H  \nATOM   2096    H MOL     1      35.723   5.183  99.780  1.00  0.00           H  \nATOM   2097    H MOL     1      34.819   6.484 100.624  1.00  0.00           H  \nATOM   2098    H MOL     1      36.947   7.359 100.052  1.00  0.00           H  \nATOM   2099    H MOL     1      35.785   8.137  98.945  1.00  0.00           H  \nATOM   2100    H MOL     1      35.684   6.741  96.569  1.00  0.00           H  \nATOM   2101    H MOL     1      36.577   8.274  96.813  1.00  0.00           H  \nATOM   2102    H MOL     1      38.725   7.088  96.234  1.00  0.00           H  \nATOM   2103    H MOL     1      37.787   5.645  95.751  1.00  0.00           H  \nATOM   2104    H MOL     1      36.124   7.649  93.189  1.00  0.00           H  \nATOM   2105    H MOL     1      35.816   6.322  94.334  1.00  0.00           H  \nATOM   2106    H MOL     1      36.324   5.602  91.975  1.00  0.00           H  \nATOM   2107    H MOL     1      37.968   6.276  92.162  1.00  0.00           H  \nATOM   2108    H MOL     1      38.622   4.010  91.677  1.00  0.00           H  \nATOM   2109    H MOL     1      38.633   2.935  93.099  1.00  0.00           H  \nATOM   2110    H MOL     1      40.006   4.605  94.364  1.00  0.00           H  \nATOM   2111    H MOL     1      39.958   5.721  92.984  1.00  0.00           H  \nATOM   2112    H MOL     1      40.882   2.335  93.814  1.00  0.00           H  \nATOM   2113    H MOL     1      42.221   2.377  92.639  1.00  0.00           H  \nATOM   2114    H MOL     1      43.389   4.113  94.043  1.00  0.00           H  \nATOM   2115    H MOL     1      42.047   4.067  95.218  1.00  0.00           H  \nATOM   2116    H MOL     1      45.049   2.595  94.317  1.00  0.00           H  \nATOM   2117    H MOL     1      44.033   1.286  93.650  1.00  0.00           H  \nATOM   2118    H MOL     1      45.652   0.169  94.958  1.00  0.00           H  \nATOM   2119    H MOL     1      44.143   0.126  95.905  1.00  0.00           H  \nATOM   2120    H MOL     1      46.956   2.402  95.529  1.00  0.00           H  \nATOM   2121    H MOL     1      47.088   2.521  97.297  1.00  0.00           H  \nATOM   2122    H MOL     1      47.849   0.130  97.419  1.00  0.00           H  \nATOM   2123    H MOL     1      47.778   0.001  95.643  1.00  0.00           H  \nATOM   2124    H MOL     1      48.932   1.115  96.404  1.00  0.00           H  \nATOM   2125    O MOL     1       9.915  -9.071 229.416  1.00  0.00           O  \nATOM   2126    C MOL     1       9.012  -9.863 230.199  1.00  0.00           C  \nATOM   2127    C MOL     1       9.727 -10.358 231.443  1.00  0.00           C  \nATOM   2128    O MOL     1       9.960  -9.350 232.421  1.00  0.00           O  \nATOM   2129    C MOL     1      11.203  -8.659 232.283  1.00  0.00           C  \nATOM   2130    C MOL     1      11.302  -7.701 233.457  1.00  0.00           C  \nATOM   2131    O MOL     1      12.528  -6.993 233.325  1.00  0.00           O  \nATOM   2132    C MOL     1      12.814  -6.129 234.416  1.00  0.00           C  \nATOM   2133    C MOL     1      11.973  -4.863 234.468  1.00  0.00           C  \nATOM   2134    O MOL     1      12.284  -4.045 233.350  1.00  0.00           O  \nATOM   2135    C MOL     1      11.474  -2.880 233.285  1.00  0.00           C  \nATOM   2136    C MOL     1      11.865  -2.124 232.018  1.00  0.00           C  \nATOM   2137    O MOL     1      11.055  -0.976 231.792  1.00  0.00           O  \nATOM   2138    C MOL     1      11.377   0.164 232.591  1.00  0.00           C  \nATOM   2139    C MOL     1      10.219   0.505 233.521  1.00  0.00           C  \nATOM   2140    O MOL     1      10.557   1.719 234.184  1.00  0.00           O  \nATOM   2141    C MOL     1       9.561   2.184 235.094  1.00  0.00           C  \nATOM   2142    C MOL     1       9.684   1.503 236.463  1.00  0.00           C  \nATOM   2143    O MOL     1       8.712   2.007 237.381  1.00  0.00           O  \nATOM   2144    C MOL     1       9.220   2.895 238.369  1.00  0.00           C  \nATOM   2145    C MOL     1       9.755   4.228 237.845  1.00  0.00           C  \nATOM   2146    O MOL     1       8.849   4.968 237.033  1.00  0.00           O  \nATOM   2147    C MOL     1       7.632   5.357 237.661  1.00  0.00           C  \nATOM   2148    C MOL     1       7.802   6.226 238.910  1.00  0.00           C  \nATOM   2149    O MOL     1       8.657   7.348 238.741  1.00  0.00           O  \nATOM   2150    C MOL     1       8.150   8.334 237.846  1.00  0.00           C  \nATOM   2151    C MOL     1       9.040   9.562 237.894  1.00  0.00           C  \nATOM   2152    O MOL     1       8.971  10.263 239.131  1.00  0.00           O  \nATOM   2153    C MOL     1       9.989   9.903 240.068  1.00  0.00           C  \nATOM   2154    C MOL     1       9.690  10.654 241.361  1.00  0.00           C  \nATOM   2155    O MOL     1      10.764  10.522 242.297  1.00  0.00           O  \nATOM   2156    C MOL     1      10.727   9.353 243.116  1.00  0.00           C  \nATOM   2157    C MOL     1       9.957   9.555 244.410  1.00  0.00           C  \nATOM   2158    O MOL     1       8.554   9.491 244.150  1.00  0.00           O  \nATOM   2159    C MOL     1       7.744  10.116 245.144  1.00  0.00           C  \nATOM   2160    C MOL     1       7.489  11.586 244.785  1.00  0.00           C  \nATOM   2161    O MOL     1       6.670  12.234 245.759  1.00  0.00           O  \nATOM   2162    C MOL     1       5.267  12.037 245.570  1.00  0.00           C  \nATOM   2163    C MOL     1       4.668  13.106 244.646  1.00  0.00           C  \nATOM   2164    O MOL     1       3.280  12.881 244.413  1.00  0.00           O  \nATOM   2165    C MOL     1       2.435  13.369 245.448  1.00  0.00           C  \nATOM   2166    C MOL     1       0.997  12.988 245.135  1.00  0.00           C  \nATOM   2167    O MOL     1       0.437  13.684 244.023  1.00  0.00           O  \nATOM   2168    C MOL     1      -0.076  14.975 244.339  1.00  0.00           C  \nATOM   2169    C MOL     1      -1.495  14.886 244.895  1.00  0.00           C  \nATOM   2170    H MOL     1       9.414  -8.655 228.695  1.00  0.00           H  \nATOM   2171    H MOL     1       8.129  -9.275 230.505  1.00  0.00           H  \nATOM   2172    H MOL     1       8.662 -10.744 229.626  1.00  0.00           H  \nATOM   2173    H MOL     1       9.087 -11.114 231.926  1.00  0.00           H  \nATOM   2174    H MOL     1      10.677 -10.847 231.155  1.00  0.00           H  \nATOM   2175    H MOL     1      11.251  -8.102 231.334  1.00  0.00           H  \nATOM   2176    H MOL     1      12.045  -9.376 232.306  1.00  0.00           H  \nATOM   2177    H MOL     1      10.431  -7.020 233.443  1.00  0.00           H  \nATOM   2178    H MOL     1      11.277  -8.263 234.412  1.00  0.00           H  \nATOM   2179    H MOL     1      12.692  -6.668 235.378  1.00  0.00           H  \nATOM   2180    H MOL     1      13.873  -5.852 234.306  1.00  0.00           H  \nATOM   2181    H MOL     1      10.892  -5.105 234.475  1.00  0.00           H  \nATOM   2182    H MOL     1      12.195  -4.330 235.416  1.00  0.00           H  \nATOM   2183    H MOL     1      10.401  -3.150 233.240  1.00  0.00           H  \nATOM   2184    H MOL     1      11.627  -2.251 234.186  1.00  0.00           H  \nATOM   2185    H MOL     1      12.935  -1.851 232.061  1.00  0.00           H  \nATOM   2186    H MOL     1      11.718  -2.782 231.150  1.00  0.00           H  \nATOM   2187    H MOL     1      12.294  -0.009 233.179  1.00  0.00           H  \nATOM   2188    H MOL     1      11.563   1.019 231.922  1.00  0.00           H  \nATOM   2189    H MOL     1       9.292   0.632 232.929  1.00  0.00           H  \nATOM   2190    H MOL     1      10.049  -0.322 234.236  1.00  0.00           H  \nATOM   2191    H MOL     1       9.706   3.268 235.198  1.00  0.00           H  \nATOM   2192    H MOL     1       8.546   2.021 234.688  1.00  0.00           H  \nATOM   2193    H MOL     1       9.505   0.420 236.367  1.00  0.00           H  \nATOM   2194    H MOL     1      10.708   1.640 236.852  1.00  0.00           H  \nATOM   2195    H MOL     1       8.382   3.055 239.065  1.00  0.00           H  \nATOM   2196    H MOL     1      10.037   2.415 238.945  1.00  0.00           H  \nATOM   2197    H MOL     1      10.635   4.066 237.205  1.00  0.00           H  \nATOM   2198    H MOL     1      10.096   4.823 238.714  1.00  0.00           H  \nATOM   2199    H MOL     1       7.018   4.478 237.937  1.00  0.00           H  \nATOM   2200    H MOL     1       7.080   5.902 236.882  1.00  0.00           H  \nATOM   2201    H MOL     1       6.791   6.550 239.233  1.00  0.00           H  \nATOM   2202    H MOL     1       8.241   5.649 239.737  1.00  0.00           H  \nATOM   2203    H MOL     1       7.118   8.613 238.136  1.00  0.00           H  \nATOM   2204    H MOL     1       8.129   7.953 236.807  1.00  0.00           H  \nATOM   2205    H MOL     1       8.699  10.259 237.111  1.00  0.00           H  \nATOM   2206    H MOL     1      10.082   9.277 237.663  1.00  0.00           H  \nATOM   2207    H MOL     1       9.996   8.812 240.231  1.00  0.00           H  \nATOM   2208    H MOL     1      10.984  10.207 239.689  1.00  0.00           H  \nATOM   2209    H MOL     1       9.606  11.728 241.139  1.00  0.00           H  \nATOM   2210    H MOL     1       8.737  10.313 241.795  1.00  0.00           H  \nATOM   2211    H MOL     1      11.774   9.121 243.366  1.00  0.00           H  \nATOM   2212    H MOL     1      10.308   8.489 242.569  1.00  0.00           H  \nATOM   2213    H MOL     1      10.239   8.765 245.135  1.00  0.00           H  \nATOM   2214    H MOL     1      10.239  10.532 244.841  1.00  0.00           H  \nATOM   2215    H MOL     1       8.206  10.047 246.145  1.00  0.00           H  \nATOM   2216    H MOL     1       6.796   9.558 245.172  1.00  0.00           H  \nATOM   2217    H MOL     1       7.045  11.639 243.774  1.00  0.00           H  \nATOM   2218    H MOL     1       8.439  12.140 244.761  1.00  0.00           H  \nATOM   2219    H MOL     1       5.045  11.039 245.154  1.00  0.00           H  \nATOM   2220    H MOL     1       4.812  12.092 246.570  1.00  0.00           H  \nATOM   2221    H MOL     1       4.844  14.112 245.072  1.00  0.00           H  \nATOM   2222    H MOL     1       5.153  13.067 243.660  1.00  0.00           H  \nATOM   2223    H MOL     1       2.546  14.467 245.544  1.00  0.00           H  \nATOM   2224    H MOL     1       2.697  12.925 246.429  1.00  0.00           H  \nATOM   2225    H MOL     1       0.390  13.138 246.047  1.00  0.00           H  \nATOM   2226    H MOL     1       0.962  11.920 244.874  1.00  0.00           H  \nATOM   2227    H MOL     1       0.566  15.508 245.063  1.00  0.00           H  \nATOM   2228    H MOL     1      -0.076  15.552 243.404  1.00  0.00           H  \nATOM   2229    H MOL     1      -2.171  14.430 244.146  1.00  0.00           H  \nATOM   2230    H MOL     1      -1.504  14.238 245.792  1.00  0.00           H  \nATOM   2231    O MOL     1      -1.916  16.208 245.210  1.00  0.00           O  \nATOM   2232    C MOL     1      -3.146  16.267 245.930  1.00  0.00           C  \nATOM   2233    C MOL     1      -3.041  15.909 247.412  1.00  0.00           C  \nATOM   2234    O MOL     1      -2.315  16.849 248.194  1.00  0.00           O  \nATOM   2235    C MOL     1      -0.895  16.715 248.124  1.00  0.00           C  \nATOM   2236    C MOL     1      -0.315  17.644 249.177  1.00  0.00           C  \nATOM   2237    O MOL     1       1.096  17.666 248.997  1.00  0.00           O  \nATOM   2238    C MOL     1       1.799  18.329 250.040  1.00  0.00           C  \nATOM   2239    C MOL     1       1.509  19.816 250.168  1.00  0.00           C  \nATOM   2240    O MOL     1       1.939  20.491 248.995  1.00  0.00           O  \nATOM   2241    C MOL     1       1.455  21.825 248.925  1.00  0.00           C  \nATOM   2242    C MOL     1       1.987  22.432 247.628  1.00  0.00           C  \nATOM   2243    O MOL     1       1.355  23.658 247.277  1.00  0.00           O  \nATOM   2244    C MOL     1       1.736  24.791 248.058  1.00  0.00           C  \nATOM   2245    C MOL     1       0.613  25.197 249.006  1.00  0.00           C  \nATOM   2246    O MOL     1       1.004  26.411 249.642  1.00  0.00           O  \nATOM   2247    C MOL     1       0.062  26.880 250.607  1.00  0.00           C  \nATOM   2248    C MOL     1       0.280  26.214 251.971  1.00  0.00           C  \nATOM   2249    O MOL     1      -0.705  26.630 252.919  1.00  0.00           O  \nATOM   2250    C MOL     1      -0.255  27.564 253.893  1.00  0.00           C  \nATOM   2251    C MOL     1       0.128  28.943 253.354  1.00  0.00           C  \nATOM   2252    O MOL     1      -0.857  29.569 252.537  1.00  0.00           O  \nATOM   2253    C MOL     1      -2.128  29.773 253.146  1.00  0.00           C  \nATOM   2254    C MOL     1      -2.105  30.622 254.419  1.00  0.00           C  \nATOM   2255    O MOL     1      -1.418  31.860 254.297  1.00  0.00           O  \nATOM   2256    C MOL     1      -2.041  32.783 253.408  1.00  0.00           C  \nATOM   2257    C MOL     1      -1.377  34.141 253.547  1.00  0.00           C  \nATOM   2258    O MOL     1      -1.629  34.766 254.802  1.00  0.00           O  \nATOM   2259    C MOL     1      -0.619  34.528 255.786  1.00  0.00           C  \nATOM   2260    C MOL     1      -1.122  35.110 257.102  1.00  0.00           C  \nATOM   2261    O MOL     1      -0.109  35.046 258.109  1.00  0.00           O  \nATOM   2262    C MOL     1      -0.035  33.807 258.815  1.00  0.00           C  \nATOM   2263    C MOL     1      -0.771  33.856 260.140  1.00  0.00           C  \nATOM   2264    O MOL     1      -2.182  33.825 259.913  1.00  0.00           O  \nATOM   2265    C MOL     1      -2.949  34.568 260.858  1.00  0.00           C  \nATOM   2266    C MOL     1      -3.078  36.034 260.424  1.00  0.00           C  \nATOM   2267    O MOL     1      -3.813  36.799 261.381  1.00  0.00           O  \nATOM   2268    C MOL     1      -5.229  36.776 261.194  1.00  0.00           C  \nATOM   2269    C MOL     1      -5.676  37.848 260.190  1.00  0.00           C  \nATOM   2270    O MOL     1      -7.086  37.844 259.990  1.00  0.00           O  \nATOM   2271    C MOL     1      -7.812  38.562 260.980  1.00  0.00           C  \nATOM   2272    C MOL     1      -9.277  38.613 260.576  1.00  0.00           C  \nATOM   2273    O MOL     1      -9.532  39.402 259.420  1.00  0.00           O  \nATOM   2274    C MOL     1      -9.650  40.805 259.675  1.00  0.00           C  \nATOM   2275    C MOL     1     -11.034  41.203 260.176  1.00  0.00           C  \nATOM   2276    H MOL     1      -3.494  17.306 245.838  1.00  0.00           H  \nATOM   2277    H MOL     1      -3.900  15.605 245.458  1.00  0.00           H  \nATOM   2278    H MOL     1      -4.061  15.897 247.826  1.00  0.00           H  \nATOM   2279    H MOL     1      -2.617  14.895 247.546  1.00  0.00           H  \nATOM   2280    H MOL     1      -0.512  16.995 247.129  1.00  0.00           H  \nATOM   2281    H MOL     1      -0.598  15.667 248.325  1.00  0.00           H  \nATOM   2282    H MOL     1      -0.758  18.647 249.041  1.00  0.00           H  \nATOM   2283    H MOL     1      -0.576  17.290 250.193  1.00  0.00           H  \nATOM   2284    H MOL     1       1.578  17.853 251.018  1.00  0.00           H  \nATOM   2285    H MOL     1       2.865  18.180 249.814  1.00  0.00           H  \nATOM   2286    H MOL     1       0.428  19.990 250.333  1.00  0.00           H  \nATOM   2287    H MOL     1       2.039  20.203 251.062  1.00  0.00           H  \nATOM   2288    H MOL     1       0.347  21.834 248.909  1.00  0.00           H  \nATOM   2289    H MOL     1       1.787  22.405 249.809  1.00  0.00           H  \nATOM   2290    H MOL     1       3.083  22.560 247.691  1.00  0.00           H  \nATOM   2291    H MOL     1       1.772  21.734 246.807  1.00  0.00           H  \nATOM   2292    H MOL     1       2.662  24.591 248.624  1.00  0.00           H  \nATOM   2293    H MOL     1       1.937  25.625 247.366  1.00  0.00           H  \nATOM   2294    H MOL     1      -0.319  25.346 248.429  1.00  0.00           H  \nATOM   2295    H MOL     1       0.426  24.394 249.742  1.00  0.00           H  \nATOM   2296    H MOL     1       0.196  27.967 250.685  1.00  0.00           H  \nATOM   2297    H MOL     1      -0.975  26.697 250.271  1.00  0.00           H  \nATOM   2298    H MOL     1       0.188  25.120 251.874  1.00  0.00           H  \nATOM   2299    H MOL     1       1.300  26.431 252.336  1.00  0.00           H  \nATOM   2300    H MOL     1      -1.082  27.640 254.614  1.00  0.00           H  \nATOM   2301    H MOL     1       0.623  27.167 254.442  1.00  0.00           H  \nATOM   2302    H MOL     1       1.018  28.874 252.712  1.00  0.00           H  \nATOM   2303    H MOL     1       0.400  29.581 254.217  1.00  0.00           H  \nATOM   2304    H MOL     1      -2.621  28.811 253.385  1.00  0.00           H  \nATOM   2305    H MOL     1      -2.733  30.259 252.367  1.00  0.00           H  \nATOM   2306    H MOL     1      -3.157  30.788 254.729  1.00  0.00           H  \nATOM   2307    H MOL     1      -1.600  30.091 255.239  1.00  0.00           H  \nATOM   2308    H MOL     1      -3.119  32.872 253.650  1.00  0.00           H  \nATOM   2309    H MOL     1      -1.946  32.448 252.357  1.00  0.00           H  \nATOM   2310    H MOL     1      -1.793  34.804 252.771  1.00  0.00           H  \nATOM   2311    H MOL     1      -0.291  34.047 253.368  1.00  0.00           H  \nATOM   2312    H MOL     1      -0.421  33.447 255.882  1.00  0.00           H  \nATOM   2313    H MOL     1       0.323  35.032 255.497  1.00  0.00           H  \nATOM   2314    H MOL     1      -1.356  36.176 256.963  1.00  0.00           H  \nATOM   2315    H MOL     1      -2.039  34.594 257.428  1.00  0.00           H  \nATOM   2316    H MOL     1       1.032  33.611 259.013  1.00  0.00           H  \nATOM   2317    H MOL     1      -0.425  32.974 258.204  1.00  0.00           H  \nATOM   2318    H MOL     1      -0.474  32.988 260.762  1.00  0.00           H  \nATOM   2319    H MOL     1      -0.478  34.776 260.675  1.00  0.00           H  \nATOM   2320    H MOL     1      -2.507  34.516 261.869  1.00  0.00           H  \nATOM   2321    H MOL     1      -3.940  34.090 260.899  1.00  0.00           H  \nATOM   2322    H MOL     1      -3.538  36.077 259.421  1.00  0.00           H  \nATOM   2323    H MOL     1      -2.081  36.493 260.351  1.00  0.00           H  \nATOM   2324    H MOL     1      -5.582  35.786 260.854  1.00  0.00           H  \nATOM   2325    H MOL     1      -5.671  36.969 262.183  1.00  0.00           H  \nATOM   2326    H MOL     1      -5.326  38.840 260.531  1.00  0.00           H  \nATOM   2327    H MOL     1      -5.229  37.651 259.204  1.00  0.00           H  \nATOM   2328    H MOL     1      -7.395  39.583 261.087  1.00  0.00           H  \nATOM   2329    H MOL     1      -7.742  38.072 261.972  1.00  0.00           H  \nATOM   2330    H MOL     1      -9.869  38.966 261.443  1.00  0.00           H  \nATOM   2331    H MOL     1      -9.613  37.595 260.331  1.00  0.00           H  \nATOM   2332    H MOL     1      -8.870  41.140 260.384  1.00  0.00           H  \nATOM   2333    H MOL     1      -9.442  41.291 258.710  1.00  0.00           H  \nATOM   2334    H MOL     1     -11.805  40.893 259.458  1.00  0.00           H  \nATOM   2335    H MOL     1     -11.265  40.746 261.149  1.00  0.00           H  \nATOM   2336    H MOL     1     -11.093  42.294 260.300  1.00  0.00           H  \nENDMDL\n",
           "type": "blob"
          }
         ],
         "kwargs": {
          "defaultRepresentation": false,
          "ext": "pdb"
         },
         "methodName": "loadFile",
         "reconstruc_color_scheme": false,
         "target": "Stage",
         "type": "call_method"
        },
        {
         "args": [
          "500px",
          "500px"
         ],
         "kwargs": {},
         "methodName": "setSize",
         "reconstruc_color_scheme": false,
         "target": "Widget",
         "type": "call_method"
        },
        {
         "args": [
          "unitcell"
         ],
         "component_index": 0,
         "kwargs": {
          "sele": "all"
         },
         "methodName": "addRepresentation",
         "reconstruc_color_scheme": false,
         "target": "compList",
         "type": "call_method"
        },
        {
         "args": [
          "spacefill"
         ],
         "component_index": 0,
         "kwargs": {
          "sele": "all"
         },
         "methodName": "addRepresentation",
         "reconstruc_color_scheme": false,
         "target": "compList",
         "type": "call_method"
        },
        {
         "args": [],
         "kwargs": {
          "cameraType": "orthographic"
         },
         "methodName": "setParameters",
         "reconstruc_color_scheme": false,
         "target": "Stage",
         "type": "call_method"
        },
        {
         "args": [
          {
           "clipDist": 0
          }
         ],
         "kwargs": {},
         "methodName": "setParameters",
         "reconstruc_color_scheme": false,
         "target": "Widget",
         "type": "call_method"
        },
        {
         "args": [
          "spacefill",
          0
         ],
         "kwargs": {
          "colorScale": "rainbow",
          "colorScheme": "element",
          "radiusScale": 0.5,
          "radiusType": "covalent"
         },
         "methodName": "updateRepresentationsByName",
         "reconstruc_color_scheme": false,
         "target": "Widget",
         "type": "call_method"
        },
        {
         "args": [
          "this._Q = [[0.9999999797691967, -0.00020114501981768906, -1.5123608932488988e-06], [0.0002011450179005777, 0.9999999797695371, -1.2676734790947004e-06], [1.5126158488602128e-06, 1.2673692495897027e-06, 0.9999999999980528]]\n    var tooltip = document.createElement('div');\n    Object.assign(tooltip.style, {\n      display: 'none',\n      position: 'fixed',\n      zIndex: 10,\n      pointerEvents: 'none',\n      backgroundColor: 'rgba( 0, 0, 0, 0.6 )',\n      color: 'lightgrey',\n      padding: '8px',\n      fontFamily: 'sans-serif'\n    });\n    document.body.appendChild(tooltip);\n\n    var that = this;\n    this.stage.mouseControls.remove('hoverPick');\n    this.stage.signals.hovered.add(function (pickingProxy) {\n      if (pickingProxy && (pickingProxy.atom || pickingProxy.bond)) {\n        var atom = pickingProxy.atom || pickingProxy.closestBondAtom\n        var mp = pickingProxy.mouse.position\n        //tooltip.innerText = atom.element + ' i=' + atom.index + ' (' + atom.x.toFixed(2) +  ', ' + atom.y.toFixed(2) +  ', ' + atom.z.toFixed(2) + ')'\n        //var pos = that._atoms_pos[atom.index]\n        var Q = that._Q\n        var pos_x = Q[0][0] * atom.x + Q[0][1] * atom.y + Q[0][2] * atom.z \n        var pos_y = Q[1][0] * atom.x + Q[1][1] * atom.y + Q[1][2] * atom.z\n        var pos_z = Q[2][0] * atom.x + Q[2][1] * atom.y + Q[2][2] * atom.z\n        tooltip.innerText = 'i=' + atom.index + ' ' + atom.element + ' (' + pos_x.toFixed(2) +  ', ' + pos_y.toFixed(2) +  ', ' + pos_z.toFixed(2) + ')'\n        tooltip.style.bottom = window.innerHeight - mp.y + 3 + 'px'\n        tooltip.style.left = mp.x + 3 + 'px'\n        tooltip.style.display = 'block'\n      } else {\n        tooltip.style.display = 'none'\n      }\n    });\n    this.stage.tooltip = tooltip;\n    "
         ],
         "kwargs": {},
         "methodName": "executeCode",
         "reconstruc_color_scheme": false,
         "target": "Widget",
         "type": "call_method"
        },
        {
         "args": [
          "ball+stick"
         ],
         "component_index": 0,
         "kwargs": {
          "sele": "all"
         },
         "methodName": "addRepresentation",
         "reconstruc_color_scheme": false,
         "target": "compList",
         "type": "call_method"
        },
        {
         "args": [
          [
           1,
           0,
           0
          ],
          -1.5707963267948966
         ],
         "kwargs": {},
         "methodName": "spin",
         "reconstruc_color_scheme": false,
         "target": "viewerControls",
         "type": "call_method"
        },
        {
         "args": [
          "spacefill",
          0
         ],
         "kwargs": {
          "colorScale": "rainbow",
          "colorScheme": "element",
          "radiusScale": 0.5,
          "radiusType": "covalent"
         },
         "methodName": "updateRepresentationsByName",
         "reconstruc_color_scheme": false,
         "target": "Widget",
         "type": "call_method"
        },
        {
         "args": [
          "spacefill",
          0
         ],
         "kwargs": {
          "colorScale": "rainbow",
          "colorScheme": "element",
          "radiusScale": 0.49999999999999994,
          "radiusType": "covalent"
         },
         "methodName": "updateRepresentationsByName",
         "reconstruc_color_scheme": false,
         "target": "Widget",
         "type": "call_method"
        },
        {
         "args": [
          "spacefill",
          0
         ],
         "kwargs": {
          "colorScale": "rainbow",
          "colorScheme": "element",
          "radiusScale": 0.49999999999999994,
          "radiusType": "covalent"
         },
         "methodName": "updateRepresentationsByName",
         "reconstruc_color_scheme": false,
         "target": "Widget",
         "type": "call_method"
        }
       ],
       "_ngl_original_stage_parameters": {
        "ambientColor": 14540253,
        "ambientIntensity": 0.2,
        "backgroundColor": "white",
        "cameraEyeSep": 0.3,
        "cameraFov": 40,
        "cameraType": "perspective",
        "clipDist": 10,
        "clipFar": 100,
        "clipMode": "scene",
        "clipNear": 0,
        "clipScale": "relative",
        "fogFar": 100,
        "fogNear": 50,
        "hoverTimeout": 0,
        "impostor": true,
        "lightColor": 14540253,
        "lightIntensity": 1,
        "mousePreset": "default",
        "panSpeed": 1,
        "quality": "medium",
        "rotateSpeed": 2,
        "sampleLevel": 0,
        "tooltip": true,
        "workerDefault": true,
        "zoomSpeed": 1.2
       },
       "_ngl_repr_dict": {
        "0": {
         "0": {
          "params": {
           "clipCenter": {
            "x": 0,
            "y": 0,
            "z": 0
           },
           "clipNear": 0,
           "clipRadius": 0,
           "colorMode": "hcl",
           "colorReverse": false,
           "colorScale": "",
           "colorScheme": "element",
           "colorValue": "orange",
           "defaultAssembly": "",
           "depthWrite": true,
           "diffuse": 16777215,
           "diffuseInterior": false,
           "disableImpostor": false,
           "disablePicking": false,
           "flatShaded": false,
           "interiorColor": 2236962,
           "interiorDarkening": 0,
           "lazy": false,
           "matrix": {
            "elements": [
             1,
             0,
             0,
             0,
             0,
             1,
             0,
             0,
             0,
             0,
             1,
             0,
             0,
             0,
             0,
             1
            ]
           },
           "metalness": 0,
           "opacity": 1,
           "quality": "medium",
           "radialSegments": 10,
           "radiusData": {},
           "radiusScale": 1,
           "radiusSize": 0.284755485261236,
           "radiusType": "vdw",
           "roughness": 0.4,
           "sele": "all",
           "side": "double",
           "sphereDetail": 1,
           "useInteriorColor": true,
           "visible": true,
           "wireframe": false
          },
          "type": "unitcell"
         },
         "1": {
          "params": {
           "assembly": "default",
           "clipCenter": {
            "x": 0,
            "y": 0,
            "z": 0
           },
           "clipNear": 0,
           "clipRadius": 0,
           "colorMode": "hcl",
           "colorReverse": false,
           "colorScale": "rainbow",
           "colorScheme": "element",
           "colorValue": 9474192,
           "defaultAssembly": "",
           "depthWrite": true,
           "diffuse": 16777215,
           "diffuseInterior": false,
           "disableImpostor": false,
           "disablePicking": false,
           "flatShaded": false,
           "interiorColor": 2236962,
           "interiorDarkening": 0,
           "lazy": false,
           "matrix": {
            "elements": [
             1,
             0,
             0,
             0,
             0,
             1,
             0,
             0,
             0,
             0,
             1,
             0,
             0,
             0,
             0,
             1
            ]
           },
           "metalness": 0,
           "opacity": 1,
           "quality": "medium",
           "radiusData": {},
           "radiusScale": 0.5,
           "radiusSize": 1,
           "radiusType": "covalent",
           "roughness": 0.4,
           "sele": "all",
           "side": "double",
           "sphereDetail": 1,
           "useInteriorColor": true,
           "visible": true,
           "wireframe": false
          },
          "type": "spacefill"
         },
         "2": {
          "params": {
           "aspectRatio": 2,
           "assembly": "default",
           "bondScale": 0.4,
           "bondSpacing": 1,
           "clipCenter": {
            "x": 0,
            "y": 0,
            "z": 0
           },
           "clipNear": 0,
           "clipRadius": 0,
           "colorMode": "hcl",
           "colorReverse": false,
           "colorScale": "",
           "colorScheme": "element",
           "colorValue": 9474192,
           "cylinderOnly": false,
           "defaultAssembly": "",
           "depthWrite": true,
           "diffuse": 16777215,
           "diffuseInterior": false,
           "disableImpostor": false,
           "disablePicking": false,
           "flatShaded": false,
           "interiorColor": 2236962,
           "interiorDarkening": 0,
           "lazy": false,
           "lineOnly": false,
           "linewidth": 2,
           "matrix": {
            "elements": [
             1,
             0,
             0,
             0,
             0,
             1,
             0,
             0,
             0,
             0,
             1,
             0,
             0,
             0,
             0,
             1
            ]
           },
           "metalness": 0,
           "multipleBond": "off",
           "opacity": 1,
           "openEnded": true,
           "quality": "medium",
           "radialSegments": 10,
           "radiusData": {},
           "radiusScale": 1,
           "radiusSize": 0.15,
           "radiusType": "size",
           "roughness": 0.4,
           "sele": "all",
           "side": "double",
           "sphereDetail": 1,
           "useInteriorColor": true,
           "visible": true,
           "wireframe": false
          },
          "type": "ball+stick"
         }
        }
       },
       "_ngl_serialize": false,
       "_ngl_version": "2.0.0-dev.39",
       "_ngl_view_id": [
        "CEDDBA23-EBEF-44D6-A169-76C412591B39"
       ],
       "_player_dict": {},
       "_scene_position": {},
       "_scene_rotation": {},
       "_synced_model_ids": [],
       "_synced_repr_model_ids": [],
       "_view_height": "",
       "_view_width": "",
       "background": "white",
       "frame": 0,
       "gui_style": null,
       "layout": "IPY_MODEL_8e53ff52f9e947919115bc1dc1726002",
       "max_frame": 0,
       "n_components": 1,
       "picked": {}
      }
     },
     "5ef57deff8434eeb8b963c72c7486191": {
      "model_module": "@jupyter-widgets/base",
      "model_module_version": "2.0.0",
      "model_name": "LayoutModel",
      "state": {}
     },
     "5f9c0591167844eeaf410a3803749f32": {
      "model_module": "@jupyter-widgets/controls",
      "model_module_version": "2.0.0",
      "model_name": "HBoxModel",
      "state": {
       "children": [
        "IPY_MODEL_575c7a577676473cbe6785eb0dff343e",
        "IPY_MODEL_957e70fbf84a4bc887d73f1990026038"
       ],
       "layout": "IPY_MODEL_1992ded16cb24681b09659712577d4c9"
      }
     },
     "600157eb954446b9920f15762ac02bde": {
      "model_module": "@jupyter-widgets/controls",
      "model_module_version": "2.0.0",
      "model_name": "HTMLStyleModel",
      "state": {
       "description_width": "",
       "font_size": null,
       "text_color": null
      }
     },
     "604891b2388c4ef295776b6eb6d63cf7": {
      "model_module": "@jupyter-widgets/controls",
      "model_module_version": "2.0.0",
      "model_name": "ImageModel",
      "state": {
       "layout": "IPY_MODEL_76208905362445d8970857e65bbf9fdb",
       "width": "900.0"
      }
     },
     "606b9c27aefd4f8f86ccdf32d91bddad": {
      "model_module": "@jupyter-widgets/controls",
      "model_module_version": "2.0.0",
      "model_name": "ImageModel",
      "state": {
       "layout": "IPY_MODEL_74c0231a209048d480f04864fb2430bb",
       "width": "900.0"
      }
     },
     "6075667448be4a61a0360c2788844d56": {
      "model_module": "@jupyter-widgets/controls",
      "model_module_version": "2.0.0",
      "model_name": "CheckboxStyleModel",
      "state": {
       "description_width": ""
      }
     },
     "64177b721028449091b82423038406b5": {
      "model_module": "@jupyter-widgets/controls",
      "model_module_version": "2.0.0",
      "model_name": "HBoxModel",
      "state": {
       "children": [
        "IPY_MODEL_5ac35f63edf741b6832769aebb879ab2",
        "IPY_MODEL_d0538e7f37b349e7810483c94d5549fe",
        "IPY_MODEL_0039b609cdbb41ecbe9c5aedbb0725e5"
       ],
       "layout": "IPY_MODEL_c9488d104dd14df5bf60be044e4b3e15"
      }
     },
     "651b932adeb649ca9d566f50acd34abd": {
      "model_module": "@jupyter-widgets/controls",
      "model_module_version": "2.0.0",
      "model_name": "LinkModel",
      "state": {
       "source": [
        "IPY_MODEL_fa58f8667d904302abf2f04b9918621a",
        "value"
       ],
       "target": [
        "IPY_MODEL_745e9a45fd6f4433817745a490dcf5b9",
        "value"
       ]
      }
     },
     "6615cbc454a24db1a625d2bd5c79f16b": {
      "model_module": "@jupyter-widgets/controls",
      "model_module_version": "2.0.0",
      "model_name": "FloatSliderModel",
      "state": {
       "behavior": "drag-tap",
       "description": "Ball size",
       "layout": "IPY_MODEL_08666a02b7084795b3bced4a322e01b3",
       "max": 1.5,
       "step": 0.01,
       "style": "IPY_MODEL_1ede3d0699c844a09e76c8843961e307",
       "value": 0.49999999999999994
      }
     },
     "683c1df4c0e244bd8e8c9b5ff1863b61": {
      "model_module": "@jupyter-widgets/controls",
      "model_module_version": "2.0.0",
      "model_name": "HBoxModel",
      "state": {
       "children": [
        "IPY_MODEL_bb1e0a0ef44543dda57cf65ebbbeafb4",
        "IPY_MODEL_7d1b4d619b7a4146919ede87ca000fbe",
        "IPY_MODEL_a1349b80abd24f438237bf3142bbf2be"
       ],
       "layout": "IPY_MODEL_5c11c4729210422bb97c6bcd83270102"
      }
     },
     "68c31eb7dcbc4e3e8af714e72428e98b": {
      "model_module": "@jupyter-widgets/controls",
      "model_module_version": "2.0.0",
      "model_name": "ButtonStyleModel",
      "state": {
       "font_family": null,
       "font_size": null,
       "font_style": null,
       "font_variant": null,
       "font_weight": null,
       "text_color": null,
       "text_decoration": null
      }
     },
     "69571df1e6194f2da1e3917dd1fe3de0": {
      "model_module": "@jupyter-widgets/controls",
      "model_module_version": "2.0.0",
      "model_name": "CheckboxModel",
      "state": {
       "description": "Show charge",
       "disabled": false,
       "layout": "IPY_MODEL_75077413a89442f4a51e924b75b3638a",
       "style": "IPY_MODEL_3a9df9cc02be473ebdf9b2fdf1f3b51a",
       "value": false
      }
     },
     "697a86b56ae3482c9f9bb643cd390517": {
      "model_module": "@jupyter-widgets/base",
      "model_module_version": "2.0.0",
      "model_name": "LayoutModel",
      "state": {}
     },
     "6d28a4ca368447cbaaf24c67d6d80aab": {
      "model_module": "@jupyter-widgets/controls",
      "model_module_version": "2.0.0",
      "model_name": "LinkModel",
      "state": {
       "source": [
        "IPY_MODEL_fa58f8667d904302abf2f04b9918621a",
        "value"
       ],
       "target": [
        "IPY_MODEL_5e57383cf54b42c39341b33d5ad8f902",
        "frame"
       ]
      }
     },
     "6d70bba927204146a01e57139a34e827": {
      "model_module": "@jupyter-widgets/base",
      "model_module_version": "2.0.0",
      "model_name": "LayoutModel",
      "state": {}
     },
     "6e02591f61824a3b8ccf3084fe43aeed": {
      "model_module": "@jupyter-widgets/base",
      "model_module_version": "2.0.0",
      "model_name": "LayoutModel",
      "state": {}
     },
     "6ed14231d23c470c968f4358a2cc1984": {
      "model_module": "@jupyter-widgets/controls",
      "model_module_version": "2.0.0",
      "model_name": "HTMLStyleModel",
      "state": {
       "description_width": "",
       "font_size": null,
       "text_color": null
      }
     },
     "6f20f0c59df24298989f9b2944e50fdd": {
      "model_module": "@jupyter-widgets/controls",
      "model_module_version": "2.0.0",
      "model_name": "DescriptionStyleModel",
      "state": {
       "description_width": ""
      }
     },
     "70c9b5c02dba4aec81abe216f76772e9": {
      "model_module": "@jupyter-widgets/controls",
      "model_module_version": "2.0.0",
      "model_name": "TextModel",
      "state": {
       "description": "Filename: ",
       "layout": "IPY_MODEL_9360f0dc24704fae9b4abb1722fdcc5d",
       "style": "IPY_MODEL_78a2b982f1384868865713f7c23d3dff",
       "value": "screenshot.png"
      }
     },
     "711a6bf959dc4ddf8f72ee3c5797825a": {
      "model_module": "@jupyter-widgets/controls",
      "model_module_version": "2.0.0",
      "model_name": "DropdownModel",
      "state": {
       "_options_labels": [
        "All",
        "C",
        "H",
        "O",
        "Fe"
       ],
       "description": "Show",
       "index": 0,
       "layout": "IPY_MODEL_6d70bba927204146a01e57139a34e827",
       "style": "IPY_MODEL_9cb8c2a86a384c958f9fb4ac2bebb505"
      }
     },
     "71f7ebbdd79b4401af0a1028ecceb7c9": {
      "model_module": "@jupyter-widgets/controls",
      "model_module_version": "2.0.0",
      "model_name": "IntSliderModel",
      "state": {
       "behavior": "drag-tap",
       "layout": "IPY_MODEL_fd79dba9eac34ffc955169077cce773a",
       "max": 0,
       "style": "IPY_MODEL_9eb05d6d9f5d4bf092996183d670998d"
      }
     },
     "72ad40db78074fb48b0e38f19be95d79": {
      "model_module": "@jupyter-widgets/base",
      "model_module_version": "2.0.0",
      "model_name": "LayoutModel",
      "state": {}
     },
     "745e9a45fd6f4433817745a490dcf5b9": {
      "model_module": "@jupyter-widgets/controls",
      "model_module_version": "2.0.0",
      "model_name": "IntSliderModel",
      "state": {
       "behavior": "drag-tap",
       "layout": "IPY_MODEL_3022460ffb284d6682de697c24aa94f2",
       "max": 0,
       "style": "IPY_MODEL_b2fe59711844448580fc73662eab0b96"
      }
     },
     "74bee96128024dc1a54e11c245530f03": {
      "model_module": "@jupyter-widgets/controls",
      "model_module_version": "2.0.0",
      "model_name": "LinkModel",
      "state": {
       "source": [
        "IPY_MODEL_5a532e26605940e1bf330f896481d9c0",
        "value"
       ],
       "target": [
        "IPY_MODEL_71f7ebbdd79b4401af0a1028ecceb7c9",
        "value"
       ]
      }
     },
     "74c0231a209048d480f04864fb2430bb": {
      "model_module": "@jupyter-widgets/base",
      "model_module_version": "2.0.0",
      "model_name": "LayoutModel",
      "state": {}
     },
     "75077413a89442f4a51e924b75b3638a": {
      "model_module": "@jupyter-widgets/base",
      "model_module_version": "2.0.0",
      "model_name": "LayoutModel",
      "state": {}
     },
     "7617c419fbc64cf3941fa29b540a3dc5": {
      "model_module": "@jupyter-widgets/controls",
      "model_module_version": "2.0.0",
      "model_name": "LinkModel",
      "state": {
       "source": [
        "IPY_MODEL_9c2176bb0398430c9291c6bf6adad553",
        "max"
       ],
       "target": [
        "IPY_MODEL_575c7a577676473cbe6785eb0dff343e",
        "max_frame"
       ]
      }
     },
     "76208905362445d8970857e65bbf9fdb": {
      "model_module": "@jupyter-widgets/base",
      "model_module_version": "2.0.0",
      "model_name": "LayoutModel",
      "state": {}
     },
     "7727545ca1fc4289a86434b4f078759a": {
      "model_module": "@jupyter-widgets/controls",
      "model_module_version": "2.0.0",
      "model_name": "HTMLStyleModel",
      "state": {
       "description_width": "",
       "font_size": null,
       "text_color": null
      }
     },
     "77eb9afa337f40339801420c25c11697": {
      "model_module": "@jupyter-widgets/controls",
      "model_module_version": "2.0.0",
      "model_name": "HBoxModel",
      "state": {
       "children": [
        "IPY_MODEL_7d68eb9928d44481952d43c8a573696f",
        "IPY_MODEL_a7222047a1064f2b8cbb5796f870eb88"
       ],
       "layout": "IPY_MODEL_b280b1286dd9494aa1d3a3d904c6af1a"
      }
     },
     "7890541ac3b44c18914e537bfc1fca06": {
      "model_module": "@jupyter-widgets/output",
      "model_module_version": "1.0.0",
      "model_name": "OutputModel",
      "state": {
       "layout": "IPY_MODEL_19b67c8e377e40aa90ed67d7992138e7"
      }
     },
     "78a2b982f1384868865713f7c23d3dff": {
      "model_module": "@jupyter-widgets/controls",
      "model_module_version": "2.0.0",
      "model_name": "TextStyleModel",
      "state": {
       "description_width": "",
       "font_size": null,
       "text_color": null
      }
     },
     "79e8e38539844b26a16f2dd8fc77e85d": {
      "model_module": "@jupyter-widgets/controls",
      "model_module_version": "2.0.0",
      "model_name": "LinkModel",
      "state": {
       "source": [
        "IPY_MODEL_e492c20cfe564ed8b18c8fa5f3c952d9",
        "max"
       ],
       "target": [
        "IPY_MODEL_1e646d182162411dbc4cc02dff36165e",
        "max_frame"
       ]
      }
     },
     "7bda96a9d9a94b09b639a0612d8f6275": {
      "model_module": "@jupyter-widgets/controls",
      "model_module_version": "2.0.0",
      "model_name": "HBoxModel",
      "state": {
       "children": [
        "IPY_MODEL_2975aeedeed14acda62dbc8ec408687c",
        "IPY_MODEL_bd5eb3b93e1f4b04b6f367e245bce4de",
        "IPY_MODEL_551ab0b9ff65460883ad8a630d5bfb38"
       ],
       "layout": "IPY_MODEL_b5df78a4542c444ba9ba8eafc37bde0d"
      }
     },
     "7d1b4d619b7a4146919ede87ca000fbe": {
      "model_module": "@jupyter-widgets/controls",
      "model_module_version": "2.0.0",
      "model_name": "FloatProgressModel",
      "state": {
       "bar_style": "success",
       "layout": "IPY_MODEL_5dad6461c8524f97a545cb5e0beac067",
       "max": 10001,
       "style": "IPY_MODEL_8d4b28cb6110444a9e58c433fc9a6950",
       "value": 10001
      }
     },
     "7d68eb9928d44481952d43c8a573696f": {
      "model_module": "@jupyter-widgets/controls",
      "model_module_version": "2.0.0",
      "model_name": "ButtonModel",
      "state": {
       "description": "Download image",
       "layout": "IPY_MODEL_e4dbd494b89840338dd6700d2f57f721",
       "style": "IPY_MODEL_0643ddd07dd141309646766ec0bdf47d",
       "tooltip": "Download current frame to your local PC"
      }
     },
     "7f131dba3c2e4cafb52c0ca290e2df1c": {
      "model_module": "@jupyter-widgets/base",
      "model_module_version": "2.0.0",
      "model_name": "LayoutModel",
      "state": {}
     },
     "7f50b0d296dd4cc5b73211b87630fcdc": {
      "model_module": "@jupyter-widgets/controls",
      "model_module_version": "2.0.0",
      "model_name": "LinkModel",
      "state": {
       "source": [
        "IPY_MODEL_fa58f8667d904302abf2f04b9918621a",
        "max"
       ],
       "target": [
        "IPY_MODEL_5e57383cf54b42c39341b33d5ad8f902",
        "max_frame"
       ]
      }
     },
     "80071e4f04ce4b8c999d63e1729490eb": {
      "model_module": "@jupyter-widgets/controls",
      "model_module_version": "2.0.0",
      "model_name": "FloatSliderModel",
      "state": {
       "behavior": "drag-tap",
       "description": "Charge scale",
       "layout": "IPY_MODEL_83f0aea6d29c468ca0b44e853e4d9e53",
       "step": 0.1,
       "style": "IPY_MODEL_b3949cb4cf31407cbf44381c33152369",
       "value": 1
      }
     },
     "821830aa057c4d1dbb11d7e46f2276f3": {
      "model_module": "@jupyter-widgets/base",
      "model_module_version": "2.0.0",
      "model_name": "LayoutModel",
      "state": {}
     },
     "82d04f39d9cf42539f3b1c19c081f361": {
      "model_module": "@jupyter-widgets/controls",
      "model_module_version": "2.0.0",
      "model_name": "ButtonModel",
      "state": {
       "icon": "compress",
       "layout": "IPY_MODEL_f1dcad9074f948619ead3b9fa505eaa3",
       "style": "IPY_MODEL_c85b235fbba845fbb1fb73aad7268265",
       "tooltip": null
      }
     },
     "833f0ed35d95495389778361e7ca1881": {
      "model_module": "@jupyter-widgets/base",
      "model_module_version": "2.0.0",
      "model_name": "LayoutModel",
      "state": {}
     },
     "83f0aea6d29c468ca0b44e853e4d9e53": {
      "model_module": "@jupyter-widgets/base",
      "model_module_version": "2.0.0",
      "model_name": "LayoutModel",
      "state": {}
     },
     "84ad9b2ac7d944bfb0f3ef2f8dec0a33": {
      "model_module": "@jupyter-widgets/base",
      "model_module_version": "2.0.0",
      "model_name": "LayoutModel",
      "state": {}
     },
     "859f3bc2d3f64865a18059325c656730": {
      "model_module": "@jupyter-widgets/controls",
      "model_module_version": "2.0.0",
      "model_name": "DescriptionStyleModel",
      "state": {
       "description_width": ""
      }
     },
     "85eb7c2107e84398a36fe79acc3b6cea": {
      "model_module": "@jupyter-widgets/base",
      "model_module_version": "2.0.0",
      "model_name": "LayoutModel",
      "state": {}
     },
     "860ab31af0644d61821dea2d7b3d5c71": {
      "model_module": "@jupyter-widgets/controls",
      "model_module_version": "2.0.0",
      "model_name": "ButtonModel",
      "state": {
       "description": "Save image",
       "layout": "IPY_MODEL_39678d8bd40948a2ae3fbf3ca66b7fff",
       "style": "IPY_MODEL_49205811ff574811ac8b7cd5af1d9c9f",
       "tooltip": "Save current frame to file.\nCurrently .png and .html are supported.\nIt takes a bit time, please be patient."
      }
     },
     "86583f4e481340d5ac501b44ff31d3f9": {
      "model_module": "@jupyter-widgets/base",
      "model_module_version": "2.0.0",
      "model_name": "LayoutModel",
      "state": {}
     },
     "8684446a2ded4489b3ada4000eb380fb": {
      "model_module": "@jupyter-widgets/base",
      "model_module_version": "2.0.0",
      "model_name": "LayoutModel",
      "state": {}
     },
     "8796f4ae40584fae9ad8414133166bd4": {
      "model_module": "@jupyter-widgets/base",
      "model_module_version": "2.0.0",
      "model_name": "LayoutModel",
      "state": {}
     },
     "89fd1a3dd50841b3b0f98f1147da1742": {
      "model_module": "@jupyter-widgets/controls",
      "model_module_version": "2.0.0",
      "model_name": "HBoxModel",
      "state": {
       "children": [
        "IPY_MODEL_3cecaf9f9a8847c7a5f7fe4222b0b89a",
        "IPY_MODEL_dc73edfe04c44dfb91659fdc2ce66632"
       ],
       "layout": "IPY_MODEL_0d907bd8963e4288baa2557558702e06"
      }
     },
     "8a65d2470f2c4326812137a7678e53ad": {
      "model_module": "@jupyter-widgets/controls",
      "model_module_version": "2.0.0",
      "model_name": "ButtonStyleModel",
      "state": {
       "font_family": null,
       "font_size": null,
       "font_style": null,
       "font_variant": null,
       "font_weight": null,
       "text_color": null,
       "text_decoration": null
      }
     },
     "8a8ce0895e3246459660efb28a3d2a68": {
      "model_module": "@jupyter-widgets/controls",
      "model_module_version": "2.0.0",
      "model_name": "HTMLStyleModel",
      "state": {
       "description_width": "",
       "font_size": null,
       "text_color": null
      }
     },
     "8cca74e9bb944c5cb470396348cc16b0": {
      "model_module": "@jupyter-widgets/controls",
      "model_module_version": "2.0.0",
      "model_name": "ImageModel",
      "state": {
       "layout": "IPY_MODEL_2e3f1a6d91d3469ea486d55164e49f8e",
       "width": "900.0"
      }
     },
     "8d4b28cb6110444a9e58c433fc9a6950": {
      "model_module": "@jupyter-widgets/controls",
      "model_module_version": "2.0.0",
      "model_name": "ProgressStyleModel",
      "state": {
       "description_width": ""
      }
     },
     "8de3f6394188416e9e88b41764e4e5ff": {
      "model_module": "@jupyter-widgets/base",
      "model_module_version": "2.0.0",
      "model_name": "LayoutModel",
      "state": {}
     },
     "8e53ff52f9e947919115bc1dc1726002": {
      "model_module": "@jupyter-widgets/base",
      "model_module_version": "2.0.0",
      "model_name": "LayoutModel",
      "state": {}
     },
     "8ed0913fba47405fad21273d0dc950a9": {
      "model_module": "@jupyter-widgets/controls",
      "model_module_version": "2.0.0",
      "model_name": "SliderStyleModel",
      "state": {
       "description_width": ""
      }
     },
     "8ef9d44a19dd44ca8acf9861f3b9111d": {
      "model_module": "@jupyter-widgets/controls",
      "model_module_version": "2.0.0",
      "model_name": "DescriptionStyleModel",
      "state": {
       "description_width": ""
      }
     },
     "8f0fee8763fc496ea676b8ca11f85174": {
      "model_module": "@jupyter-widgets/base",
      "model_module_version": "2.0.0",
      "model_name": "LayoutModel",
      "state": {
       "border_bottom": "0px solid black",
       "border_left": "0px solid black",
       "border_right": "0px solid black",
       "border_top": "0px solid black"
      }
     },
     "90579e0feb4f48b7805857587795fc04": {
      "model_module": "@jupyter-widgets/controls",
      "model_module_version": "2.0.0",
      "model_name": "ButtonStyleModel",
      "state": {
       "font_family": null,
       "font_size": null,
       "font_style": null,
       "font_variant": null,
       "font_weight": null,
       "text_color": null,
       "text_decoration": null
      }
     },
     "9082baf6cc714772a517694d240c66c8": {
      "model_module": "@jupyter-widgets/controls",
      "model_module_version": "2.0.0",
      "model_name": "DropdownModel",
      "state": {
       "_options_labels": [
        " ",
        "picking",
        "random",
        "uniform",
        "atomindex",
        "residueindex",
        "chainindex",
        "modelindex",
        "sstruc",
        "element",
        "resname",
        "bfactor",
        "hydrophobicity",
        "value",
        "volume",
        "occupancy"
       ],
       "description": "Color scheme",
       "index": 9,
       "layout": "IPY_MODEL_222762fc68154b169fc89fc976728fea",
       "style": "IPY_MODEL_859f3bc2d3f64865a18059325c656730"
      }
     },
     "91b6aa35b3084c36b8ada38b2e080f78": {
      "model_module": "@jupyter-widgets/controls",
      "model_module_version": "2.0.0",
      "model_name": "ButtonStyleModel",
      "state": {
       "font_family": null,
       "font_size": null,
       "font_style": null,
       "font_variant": null,
       "font_weight": null,
       "text_color": null,
       "text_decoration": null
      }
     },
     "924264b20eaf4800b9fc90aefa757af9": {
      "model_module": "@jupyter-widgets/output",
      "model_module_version": "1.0.0",
      "model_name": "OutputModel",
      "state": {
       "layout": "IPY_MODEL_ce9f324731dc42dd98d4ffffd8fb2c1c"
      }
     },
     "924c504f7a9c49aeb9d58168418f718b": {
      "model_module": "@jupyter-widgets/base",
      "model_module_version": "2.0.0",
      "model_name": "LayoutModel",
      "state": {}
     },
     "9360f0dc24704fae9b4abb1722fdcc5d": {
      "model_module": "@jupyter-widgets/base",
      "model_module_version": "2.0.0",
      "model_name": "LayoutModel",
      "state": {}
     },
     "941eaa7c97314b489572958ab8b3f242": {
      "model_module": "@jupyter-widgets/base",
      "model_module_version": "2.0.0",
      "model_name": "LayoutModel",
      "state": {}
     },
     "957e70fbf84a4bc887d73f1990026038": {
      "model_module": "@jupyter-widgets/controls",
      "model_module_version": "2.0.0",
      "model_name": "VBoxModel",
      "state": {
       "children": [
        "IPY_MODEL_988d9ddec9574282af6e9adc939a9eb4",
        "IPY_MODEL_a9d48106190d4a7c9b84a6a27c52a18d",
        "IPY_MODEL_f925782769794419b0e44f4d64462849",
        "IPY_MODEL_0dcace01ec9448c3a819e6f2144db4b0",
        "IPY_MODEL_085ac12c358743bf8828d128404b5c33",
        "IPY_MODEL_9998aaef1cba4f4bbd998a725fa9a41b",
        "IPY_MODEL_13c180d7254143a0b3ea875a4cc04703",
        "IPY_MODEL_d3955f9794fc4a0999344d0d117a6cf3",
        "IPY_MODEL_bb83a1091f474fc0bc7a5e7dee305ea2",
        "IPY_MODEL_924264b20eaf4800b9fc90aefa757af9"
       ],
       "layout": "IPY_MODEL_1aacb302f2ef40b7bca7b3d054e3c44d"
      }
     },
     "95eeda117ffc4c8d830ed25f3eefbfab": {
      "model_module": "@jupyter-widgets/controls",
      "model_module_version": "2.0.0",
      "model_name": "ButtonStyleModel",
      "state": {
       "font_family": null,
       "font_size": null,
       "font_style": null,
       "font_variant": null,
       "font_weight": null,
       "text_color": null,
       "text_decoration": null
      }
     },
     "976b62a806c64f90b82667c843db94a5": {
      "model_module": "@jupyter-widgets/controls",
      "model_module_version": "2.0.0",
      "model_name": "CheckboxStyleModel",
      "state": {
       "description_width": ""
      }
     },
     "984a72003a18471facbdc5d7bf3fb374": {
      "model_module": "@jupyter-widgets/controls",
      "model_module_version": "2.0.0",
      "model_name": "ButtonStyleModel",
      "state": {
       "font_family": null,
       "font_size": null,
       "font_style": null,
       "font_variant": null,
       "font_weight": null,
       "text_color": null,
       "text_decoration": null
      }
     },
     "988d9ddec9574282af6e9adc939a9eb4": {
      "model_module": "@jupyter-widgets/controls",
      "model_module_version": "2.0.0",
      "model_name": "DropdownModel",
      "state": {
       "_options_labels": [
        "All",
        "H",
        "O",
        "C"
       ],
       "description": "Show",
       "index": 0,
       "layout": "IPY_MODEL_eefd28c47d1b459489ff4edea64140f7",
       "style": "IPY_MODEL_139154a171d646c69a1e766752750a65"
      }
     },
     "98f8c462305942ff8ad4b8f30bcc0676": {
      "model_module": "@jupyter-widgets/controls",
      "model_module_version": "2.0.0",
      "model_name": "FloatSliderModel",
      "state": {
       "behavior": "drag-tap",
       "description": "Ball size",
       "layout": "IPY_MODEL_5daf7adf895147d19382481ddb910279",
       "max": 1.5,
       "step": 0.01,
       "style": "IPY_MODEL_d0eb58f33cc54d95a18cece197123564",
       "value": 0.49999999999999994
      }
     },
     "9998aaef1cba4f4bbd998a725fa9a41b": {
      "model_module": "@jupyter-widgets/controls",
      "model_module_version": "2.0.0",
      "model_name": "CheckboxModel",
      "state": {
       "description": "Show force",
       "disabled": false,
       "layout": "IPY_MODEL_265206248da94389b61289affce9ad22",
       "style": "IPY_MODEL_aa83c19ac6d94e878b8fcad75188505c",
       "value": false
      }
     },
     "9b5bee82de4d450aaf9b255236e764fc": {
      "model_module": "@jupyter-widgets/controls",
      "model_module_version": "2.0.0",
      "model_name": "DescriptionStyleModel",
      "state": {
       "description_width": ""
      }
     },
     "9bfca96fc2b647f3aaa1b6e83a77348c": {
      "model_module": "nglview-js-widgets",
      "model_module_version": "3.0.6",
      "model_name": "ColormakerRegistryModel",
      "state": {
       "_msg_ar": [],
       "_msg_q": [],
       "_ready": true,
       "layout": "IPY_MODEL_86583f4e481340d5ac501b44ff31d3f9"
      }
     },
     "9c2176bb0398430c9291c6bf6adad553": {
      "model_module": "@jupyter-widgets/controls",
      "model_module_version": "2.0.0",
      "model_name": "IntSliderModel",
      "state": {
       "behavior": "drag-tap",
       "layout": "IPY_MODEL_bb659f9c90d0491db7f0fc79431a5b09",
       "max": 0,
       "style": "IPY_MODEL_e1918d4b936948d0b82bc518e6ad3e24"
      }
     },
     "9cb8c2a86a384c958f9fb4ac2bebb505": {
      "model_module": "@jupyter-widgets/controls",
      "model_module_version": "2.0.0",
      "model_name": "DescriptionStyleModel",
      "state": {
       "description_width": ""
      }
     },
     "9d5403f2a70e4c29b71d5ba8e543afe5": {
      "model_module": "@jupyter-widgets/controls",
      "model_module_version": "2.0.0",
      "model_name": "LinkModel",
      "state": {
       "source": [
        "IPY_MODEL_2060231ae7b94bc8a20e2670056671d6",
        "value"
       ],
       "target": [
        "IPY_MODEL_9c2176bb0398430c9291c6bf6adad553",
        "value"
       ]
      }
     },
     "9e57c0ba5b134f2ebaa97a3a114aff3a": {
      "model_module": "@jupyter-widgets/controls",
      "model_module_version": "2.0.0",
      "model_name": "CheckboxStyleModel",
      "state": {
       "description_width": ""
      }
     },
     "9eb05d6d9f5d4bf092996183d670998d": {
      "model_module": "@jupyter-widgets/controls",
      "model_module_version": "2.0.0",
      "model_name": "SliderStyleModel",
      "state": {
       "description_width": ""
      }
     },
     "9f77789c37bb4fe69a48149cdd4c46f7": {
      "model_module": "@jupyter-widgets/base",
      "model_module_version": "2.0.0",
      "model_name": "LayoutModel",
      "state": {}
     },
     "a1349b80abd24f438237bf3142bbf2be": {
      "model_module": "@jupyter-widgets/controls",
      "model_module_version": "2.0.0",
      "model_name": "HTMLModel",
      "state": {
       "layout": "IPY_MODEL_ebefef4bde3e4f448b118486dd04bf3a",
       "style": "IPY_MODEL_d276349aea0d418eb3e92d43a3b47155",
       "value": " 10001/10001 [00:11&lt;00:00,  4.90it/s]"
      }
     },
     "a3128f3d98ee4835aac8d95cc40f0fa1": {
      "model_module": "@jupyter-widgets/controls",
      "model_module_version": "2.0.0",
      "model_name": "ProgressStyleModel",
      "state": {
       "description_width": ""
      }
     },
     "a3c7c8746a004eca98a7588eee2c478b": {
      "model_module": "@jupyter-widgets/base",
      "model_module_version": "2.0.0",
      "model_name": "LayoutModel",
      "state": {}
     },
     "a639da9d1b1b4564aff8e0cee6ca8a6b": {
      "model_module": "@jupyter-widgets/controls",
      "model_module_version": "2.0.0",
      "model_name": "SliderStyleModel",
      "state": {
       "description_width": ""
      }
     },
     "a6788fbf90e34ad5b041dc0d7244cbd4": {
      "model_module": "@jupyter-widgets/base",
      "model_module_version": "2.0.0",
      "model_name": "LayoutModel",
      "state": {}
     },
     "a7222047a1064f2b8cbb5796f870eb88": {
      "model_module": "@jupyter-widgets/controls",
      "model_module_version": "2.0.0",
      "model_name": "ButtonModel",
      "state": {
       "description": "Save image",
       "layout": "IPY_MODEL_08a8fc144b3b4c7183adddbf0c93d604",
       "style": "IPY_MODEL_95eeda117ffc4c8d830ed25f3eefbfab",
       "tooltip": "Save current frame to file.\nCurrently .png and .html are supported.\nIt takes a bit time, please be patient."
      }
     },
     "a7646026cc324c568072c65e3415ee57": {
      "model_module": "@jupyter-widgets/output",
      "model_module_version": "1.0.0",
      "model_name": "OutputModel",
      "state": {
       "layout": "IPY_MODEL_8f0fee8763fc496ea676b8ca11f85174"
      }
     },
     "a882312733fb4083a89a8219440ebbbc": {
      "model_module": "@jupyter-widgets/base",
      "model_module_version": "2.0.0",
      "model_name": "LayoutModel",
      "state": {}
     },
     "a9d48106190d4a7c9b84a6a27c52a18d": {
      "model_module": "@jupyter-widgets/controls",
      "model_module_version": "2.0.0",
      "model_name": "DropdownModel",
      "state": {
       "_options_labels": [
        " ",
        "picking",
        "random",
        "uniform",
        "atomindex",
        "residueindex",
        "chainindex",
        "modelindex",
        "sstruc",
        "element",
        "resname",
        "bfactor",
        "hydrophobicity",
        "value",
        "volume",
        "occupancy"
       ],
       "description": "Color scheme",
       "index": 9,
       "layout": "IPY_MODEL_c9e7ed6280564b2998898fe8be8b3780",
       "style": "IPY_MODEL_6f20f0c59df24298989f9b2944e50fdd"
      }
     },
     "a9fa87b9374948ff96e98fb0a066e159": {
      "model_module": "@jupyter-widgets/controls",
      "model_module_version": "2.0.0",
      "model_name": "SliderStyleModel",
      "state": {
       "description_width": ""
      }
     },
     "aa69986183e0473f94558046189c894b": {
      "model_module": "@jupyter-widgets/base",
      "model_module_version": "2.0.0",
      "model_name": "LayoutModel",
      "state": {}
     },
     "aa83c19ac6d94e878b8fcad75188505c": {
      "model_module": "@jupyter-widgets/controls",
      "model_module_version": "2.0.0",
      "model_name": "CheckboxStyleModel",
      "state": {
       "description_width": ""
      }
     },
     "aac61809cda24aa9b58502d15a9b01f5": {
      "model_module": "@jupyter-widgets/controls",
      "model_module_version": "2.0.0",
      "model_name": "ButtonModel",
      "state": {
       "description": "Download image",
       "layout": "IPY_MODEL_1cb61bdeead5427681078e5783d52410",
       "style": "IPY_MODEL_5b70e485e645422b98b6b74b0fe8de12",
       "tooltip": "Download current frame to your local PC"
      }
     },
     "acd4e68f6a0141bf8b6cc715b1a8c11d": {
      "model_module": "@jupyter-widgets/controls",
      "model_module_version": "2.0.0",
      "model_name": "CheckboxModel",
      "state": {
       "description": "Show charge",
       "disabled": false,
       "layout": "IPY_MODEL_d240f005f0fd4078a58c49e3a496ba00",
       "style": "IPY_MODEL_9e57c0ba5b134f2ebaa97a3a114aff3a",
       "value": false
      }
     },
     "adeff5c3069d46cfa9302522c0b9d322": {
      "model_module": "@jupyter-widgets/base",
      "model_module_version": "2.0.0",
      "model_name": "LayoutModel",
      "state": {
       "width": "34px"
      }
     },
     "b280b1286dd9494aa1d3a3d904c6af1a": {
      "model_module": "@jupyter-widgets/base",
      "model_module_version": "2.0.0",
      "model_name": "LayoutModel",
      "state": {}
     },
     "b2fe59711844448580fc73662eab0b96": {
      "model_module": "@jupyter-widgets/controls",
      "model_module_version": "2.0.0",
      "model_name": "SliderStyleModel",
      "state": {
       "description_width": ""
      }
     },
     "b3949cb4cf31407cbf44381c33152369": {
      "model_module": "@jupyter-widgets/controls",
      "model_module_version": "2.0.0",
      "model_name": "SliderStyleModel",
      "state": {
       "description_width": ""
      }
     },
     "b43ccb40228c4d96b1fd984c730f365d": {
      "model_module": "@jupyter-widgets/base",
      "model_module_version": "2.0.0",
      "model_name": "LayoutModel",
      "state": {}
     },
     "b4ce8267714340fcada9704b3066dda6": {
      "model_module": "@jupyter-widgets/controls",
      "model_module_version": "2.0.0",
      "model_name": "TextStyleModel",
      "state": {
       "description_width": "",
       "font_size": null,
       "text_color": null
      }
     },
     "b56c34c9490b499a9e320548890097b4": {
      "model_module": "@jupyter-widgets/base",
      "model_module_version": "2.0.0",
      "model_name": "LayoutModel",
      "state": {}
     },
     "b5df78a4542c444ba9ba8eafc37bde0d": {
      "model_module": "@jupyter-widgets/base",
      "model_module_version": "2.0.0",
      "model_name": "LayoutModel",
      "state": {}
     },
     "b5df8b1b8e6340bf89ecc95359bc1664": {
      "model_module": "@jupyter-widgets/base",
      "model_module_version": "2.0.0",
      "model_name": "LayoutModel",
      "state": {}
     },
     "b702df03e78243c48b644a694fe9fd97": {
      "model_module": "@jupyter-widgets/base",
      "model_module_version": "2.0.0",
      "model_name": "LayoutModel",
      "state": {}
     },
     "b810d42d4b824d1dbb33d9a1bba73816": {
      "model_module": "@jupyter-widgets/base",
      "model_module_version": "2.0.0",
      "model_name": "LayoutModel",
      "state": {}
     },
     "b97d2608c94e44c6b4c277da276633da": {
      "model_module": "@jupyter-widgets/controls",
      "model_module_version": "2.0.0",
      "model_name": "SliderStyleModel",
      "state": {
       "description_width": ""
      }
     },
     "ba29d8fbead84a17b1707d7d0a840f1a": {
      "model_module": "@jupyter-widgets/controls",
      "model_module_version": "2.0.0",
      "model_name": "LinkModel",
      "state": {
       "source": [
        "IPY_MODEL_bd9abeb64bae43fdbe1d3d0c04c2a832",
        "max"
       ],
       "target": [
        "IPY_MODEL_1e646d182162411dbc4cc02dff36165e",
        "max_frame"
       ]
      }
     },
     "bb1e0a0ef44543dda57cf65ebbbeafb4": {
      "model_module": "@jupyter-widgets/controls",
      "model_module_version": "2.0.0",
      "model_name": "HTMLModel",
      "state": {
       "layout": "IPY_MODEL_5ef57deff8434eeb8b963c72c7486191",
       "style": "IPY_MODEL_6ed14231d23c470c968f4358a2cc1984",
       "value": "100%"
      }
     },
     "bb659f9c90d0491db7f0fc79431a5b09": {
      "model_module": "@jupyter-widgets/base",
      "model_module_version": "2.0.0",
      "model_name": "LayoutModel",
      "state": {}
     },
     "bb83a1091f474fc0bc7a5e7dee305ea2": {
      "model_module": "@jupyter-widgets/controls",
      "model_module_version": "2.0.0",
      "model_name": "FloatSliderModel",
      "state": {
       "behavior": "drag-tap",
       "description": "Charge scale",
       "layout": "IPY_MODEL_9f77789c37bb4fe69a48149cdd4c46f7",
       "step": 0.1,
       "style": "IPY_MODEL_5d7cd70aa80c4a88be6ff6e71cf2c837",
       "value": 1
      }
     },
     "bcbb5ffe935a4413b6e0cd0ad8369d16": {
      "model_module": "@jupyter-widgets/base",
      "model_module_version": "2.0.0",
      "model_name": "LayoutModel",
      "state": {}
     },
     "bd5eb3b93e1f4b04b6f367e245bce4de": {
      "model_module": "@jupyter-widgets/controls",
      "model_module_version": "2.0.0",
      "model_name": "FloatProgressModel",
      "state": {
       "bar_style": "success",
       "layout": "IPY_MODEL_59f92e719f5849f5994ad02bc93e6f71",
       "max": 10001,
       "style": "IPY_MODEL_d823376164454190bbb4c6fd844cd637",
       "value": 10001
      }
     },
     "bd9abeb64bae43fdbe1d3d0c04c2a832": {
      "model_module": "@jupyter-widgets/controls",
      "model_module_version": "2.0.0",
      "model_name": "IntSliderModel",
      "state": {
       "behavior": "drag-tap",
       "layout": "IPY_MODEL_b5df8b1b8e6340bf89ecc95359bc1664",
       "max": 0,
       "style": "IPY_MODEL_071fcfe107534cec9045d360a9e1054a"
      }
     },
     "bea3fe54da2b4d33b3b1498852297272": {
      "model_module": "@jupyter-widgets/base",
      "model_module_version": "2.0.0",
      "model_name": "LayoutModel",
      "state": {}
     },
     "bf8d1883eba54ae8b2f9a429a7940c4c": {
      "model_module": "@jupyter-widgets/controls",
      "model_module_version": "2.0.0",
      "model_name": "LinkModel",
      "state": {
       "source": [
        "IPY_MODEL_745e9a45fd6f4433817745a490dcf5b9",
        "max"
       ],
       "target": [
        "IPY_MODEL_5e57383cf54b42c39341b33d5ad8f902",
        "max_frame"
       ]
      }
     },
     "c1c3eec115ad4f608ba47b844084a665": {
      "model_module": "@jupyter-widgets/controls",
      "model_module_version": "2.0.0",
      "model_name": "FloatProgressModel",
      "state": {
       "bar_style": "success",
       "layout": "IPY_MODEL_ed9a4b54da16472f84aee8639dd2fb22",
       "max": 10001,
       "style": "IPY_MODEL_d89978e03a9d4b5495e357174b590851",
       "value": 10001
      }
     },
     "c40b5317cf804ca3a2372057f34c00f2": {
      "model_module": "@jupyter-widgets/controls",
      "model_module_version": "2.0.0",
      "model_name": "HTMLModel",
      "state": {
       "layout": "IPY_MODEL_35045515e0cf494180eb968507e29779",
       "style": "IPY_MODEL_7727545ca1fc4289a86434b4f078759a",
       "value": "100%"
      }
     },
     "c53e316e2c144a61a31003ecbe154e5a": {
      "model_module": "@jupyter-widgets/base",
      "model_module_version": "2.0.0",
      "model_name": "LayoutModel",
      "state": {}
     },
     "c561386b84974a5493426325bc01955f": {
      "model_module": "@jupyter-widgets/controls",
      "model_module_version": "2.0.0",
      "model_name": "LinkModel",
      "state": {
       "source": [
        "IPY_MODEL_2060231ae7b94bc8a20e2670056671d6",
        "max"
       ],
       "target": [
        "IPY_MODEL_575c7a577676473cbe6785eb0dff343e",
        "max_frame"
       ]
      }
     },
     "c5aa5718d2eb44a7b179a4ab8f292561": {
      "model_module": "@jupyter-widgets/controls",
      "model_module_version": "2.0.0",
      "model_name": "ButtonStyleModel",
      "state": {
       "font_family": null,
       "font_size": null,
       "font_style": null,
       "font_variant": null,
       "font_weight": null,
       "text_color": null,
       "text_decoration": null
      }
     },
     "c85b235fbba845fbb1fb73aad7268265": {
      "model_module": "@jupyter-widgets/controls",
      "model_module_version": "2.0.0",
      "model_name": "ButtonStyleModel",
      "state": {
       "font_family": null,
       "font_size": null,
       "font_style": null,
       "font_variant": null,
       "font_weight": null,
       "text_color": null,
       "text_decoration": null
      }
     },
     "c927c72d3b334fde9047f60cd308cf97": {
      "model_module": "@jupyter-widgets/controls",
      "model_module_version": "2.0.0",
      "model_name": "CheckboxModel",
      "state": {
       "description": "Show force",
       "disabled": false,
       "layout": "IPY_MODEL_daee49dcbb2845e8bd82045dc4e12cfd",
       "style": "IPY_MODEL_218ae7ef54714044bce195c745ddceed",
       "value": false
      }
     },
     "c9488d104dd14df5bf60be044e4b3e15": {
      "model_module": "@jupyter-widgets/base",
      "model_module_version": "2.0.0",
      "model_name": "LayoutModel",
      "state": {}
     },
     "c9e7ed6280564b2998898fe8be8b3780": {
      "model_module": "@jupyter-widgets/base",
      "model_module_version": "2.0.0",
      "model_name": "LayoutModel",
      "state": {}
     },
     "cd56d11a719f4452a65f0ef8a2d0dcfa": {
      "model_module": "@jupyter-widgets/base",
      "model_module_version": "2.0.0",
      "model_name": "LayoutModel",
      "state": {}
     },
     "ce65d5957585463a8917ced5b14c67d5": {
      "model_module": "@jupyter-widgets/base",
      "model_module_version": "2.0.0",
      "model_name": "LayoutModel",
      "state": {}
     },
     "ce72875be4c4410c946d8d542ba78ece": {
      "model_module": "@jupyter-widgets/base",
      "model_module_version": "2.0.0",
      "model_name": "LayoutModel",
      "state": {}
     },
     "ce9f324731dc42dd98d4ffffd8fb2c1c": {
      "model_module": "@jupyter-widgets/base",
      "model_module_version": "2.0.0",
      "model_name": "LayoutModel",
      "state": {
       "border_bottom": "0px solid black",
       "border_left": "0px solid black",
       "border_right": "0px solid black",
       "border_top": "0px solid black"
      }
     },
     "cf5950e73489437dbe12bef1df28ab34": {
      "model_module": "@jupyter-widgets/base",
      "model_module_version": "2.0.0",
      "model_name": "LayoutModel",
      "state": {
       "width": "34px"
      }
     },
     "cf9b7a7d04a14e148f7ed052b523adb0": {
      "model_module": "@jupyter-widgets/controls",
      "model_module_version": "2.0.0",
      "model_name": "HTMLStyleModel",
      "state": {
       "description_width": "",
       "font_size": null,
       "text_color": null
      }
     },
     "d0538e7f37b349e7810483c94d5549fe": {
      "model_module": "@jupyter-widgets/controls",
      "model_module_version": "2.0.0",
      "model_name": "FloatProgressModel",
      "state": {
       "bar_style": "success",
       "layout": "IPY_MODEL_ee0dbf796de741078ee84099be5c1bee",
       "max": 10001,
       "style": "IPY_MODEL_a3128f3d98ee4835aac8d95cc40f0fa1",
       "value": 10001
      }
     },
     "d08ff0762ccd4c43b3aef4f83fc51b01": {
      "model_module": "@jupyter-widgets/controls",
      "model_module_version": "2.0.0",
      "model_name": "HTMLStyleModel",
      "state": {
       "description_width": "",
       "font_size": null,
       "text_color": null
      }
     },
     "d0eb58f33cc54d95a18cece197123564": {
      "model_module": "@jupyter-widgets/controls",
      "model_module_version": "2.0.0",
      "model_name": "SliderStyleModel",
      "state": {
       "description_width": ""
      }
     },
     "d240f005f0fd4078a58c49e3a496ba00": {
      "model_module": "@jupyter-widgets/base",
      "model_module_version": "2.0.0",
      "model_name": "LayoutModel",
      "state": {}
     },
     "d276349aea0d418eb3e92d43a3b47155": {
      "model_module": "@jupyter-widgets/controls",
      "model_module_version": "2.0.0",
      "model_name": "HTMLStyleModel",
      "state": {
       "description_width": "",
       "font_size": null,
       "text_color": null
      }
     },
     "d3955f9794fc4a0999344d0d117a6cf3": {
      "model_module": "@jupyter-widgets/controls",
      "model_module_version": "2.0.0",
      "model_name": "CheckboxModel",
      "state": {
       "description": "Show charge",
       "disabled": false,
       "layout": "IPY_MODEL_8796f4ae40584fae9ad8414133166bd4",
       "style": "IPY_MODEL_26739d0eb46d4e1e9422438db5c95082",
       "value": false
      }
     },
     "d43bc396197c44209f5e795ddbf39d71": {
      "model_module": "@jupyter-widgets/controls",
      "model_module_version": "2.0.0",
      "model_name": "DropdownModel",
      "state": {
       "_options_labels": [
        " ",
        "picking",
        "random",
        "uniform",
        "atomindex",
        "residueindex",
        "chainindex",
        "modelindex",
        "sstruc",
        "element",
        "resname",
        "bfactor",
        "hydrophobicity",
        "value",
        "volume",
        "occupancy"
       ],
       "description": "Color scheme",
       "index": 9,
       "layout": "IPY_MODEL_57ff51fd315a438d98ecab86f28ac8fe",
       "style": "IPY_MODEL_23209ce31e8e425599d17cd90614d9ec"
      }
     },
     "d4f17407b69c4da984d99e76d840f784": {
      "model_module": "@jupyter-widgets/controls",
      "model_module_version": "2.0.0",
      "model_name": "SliderStyleModel",
      "state": {
       "description_width": ""
      }
     },
     "d53872aa778d48bf8d507927ca051b67": {
      "model_module": "@jupyter-widgets/controls",
      "model_module_version": "2.0.0",
      "model_name": "LinkModel",
      "state": {
       "source": [
        "IPY_MODEL_e492c20cfe564ed8b18c8fa5f3c952d9",
        "value"
       ],
       "target": [
        "IPY_MODEL_bd9abeb64bae43fdbe1d3d0c04c2a832",
        "value"
       ]
      }
     },
     "d74bfa12cf7643f0b6cc70e047584a95": {
      "model_module": "@jupyter-widgets/controls",
      "model_module_version": "2.0.0",
      "model_name": "HBoxModel",
      "state": {
       "children": [
        "IPY_MODEL_5a532e26605940e1bf330f896481d9c0",
        "IPY_MODEL_71f7ebbdd79b4401af0a1028ecceb7c9"
       ],
       "layout": "IPY_MODEL_aa69986183e0473f94558046189c894b"
      }
     },
     "d823376164454190bbb4c6fd844cd637": {
      "model_module": "@jupyter-widgets/controls",
      "model_module_version": "2.0.0",
      "model_name": "ProgressStyleModel",
      "state": {
       "description_width": ""
      }
     },
     "d89978e03a9d4b5495e357174b590851": {
      "model_module": "@jupyter-widgets/controls",
      "model_module_version": "2.0.0",
      "model_name": "ProgressStyleModel",
      "state": {
       "description_width": ""
      }
     },
     "daee49dcbb2845e8bd82045dc4e12cfd": {
      "model_module": "@jupyter-widgets/base",
      "model_module_version": "2.0.0",
      "model_name": "LayoutModel",
      "state": {}
     },
     "dc73edfe04c44dfb91659fdc2ce66632": {
      "model_module": "@jupyter-widgets/controls",
      "model_module_version": "2.0.0",
      "model_name": "ButtonModel",
      "state": {
       "description": "Save image",
       "layout": "IPY_MODEL_237331b00baa42c5a9c3df950d33eb90",
       "style": "IPY_MODEL_06b1098764f7430f95aa21edda2a4482",
       "tooltip": "Save current frame to file.\nCurrently .png and .html are supported.\nIt takes a bit time, please be patient."
      }
     },
     "dcdf9c161691449d8be3788d4dd1afb9": {
      "model_module": "@jupyter-widgets/base",
      "model_module_version": "2.0.0",
      "model_name": "LayoutModel",
      "state": {}
     },
     "de9f6acf582141fc94b82d90dfc9adbe": {
      "model_module": "@jupyter-widgets/output",
      "model_module_version": "1.0.0",
      "model_name": "OutputModel",
      "state": {
       "layout": "IPY_MODEL_128fab6f19424e84b10b3d56ee2fb177"
      }
     },
     "deada1afc0d74e0ea546e11c3c4041a3": {
      "model_module": "@jupyter-widgets/base",
      "model_module_version": "2.0.0",
      "model_name": "LayoutModel",
      "state": {
       "width": "34px"
      }
     },
     "dfd62f4e9bac4d80aa621efb56273984": {
      "model_module": "@jupyter-widgets/base",
      "model_module_version": "2.0.0",
      "model_name": "LayoutModel",
      "state": {}
     },
     "e139e90fd52444e29ebc6e62b6cad6a9": {
      "model_module": "@jupyter-widgets/controls",
      "model_module_version": "2.0.0",
      "model_name": "HTMLModel",
      "state": {
       "layout": "IPY_MODEL_1370f8a915b04fe0b844f2a847998e3f",
       "style": "IPY_MODEL_600157eb954446b9920f15762ac02bde",
       "value": " 10001/10001 [00:48&lt;00:00, 15.46it/s]"
      }
     },
     "e1918d4b936948d0b82bc518e6ad3e24": {
      "model_module": "@jupyter-widgets/controls",
      "model_module_version": "2.0.0",
      "model_name": "SliderStyleModel",
      "state": {
       "description_width": ""
      }
     },
     "e2edd9b886fc4b7881db7355183ae3b5": {
      "model_module": "@jupyter-widgets/controls",
      "model_module_version": "2.0.0",
      "model_name": "HBoxModel",
      "state": {
       "children": [
        "IPY_MODEL_e492c20cfe564ed8b18c8fa5f3c952d9",
        "IPY_MODEL_bd9abeb64bae43fdbe1d3d0c04c2a832"
       ],
       "layout": "IPY_MODEL_45c35aec1c2b46088efa78f9b6d29d88"
      }
     },
     "e426a31b3f244b98bb317244b307cfd0": {
      "model_module": "@jupyter-widgets/controls",
      "model_module_version": "2.0.0",
      "model_name": "FloatSliderModel",
      "state": {
       "behavior": "drag-tap",
       "description": "Force scale",
       "layout": "IPY_MODEL_0a61bf949224495b99509df611b69010",
       "step": 0.1,
       "style": "IPY_MODEL_f44c8f47b974486893d45c027c4f0415",
       "value": 0.5
      }
     },
     "e492c20cfe564ed8b18c8fa5f3c952d9": {
      "model_module": "@jupyter-widgets/controls",
      "model_module_version": "2.0.0",
      "model_name": "PlayModel",
      "state": {
       "layout": "IPY_MODEL_0202a97f3f4a41ff992309348cd301e0",
       "max": 0,
       "style": "IPY_MODEL_46836f62aefc42f3b2f3bedde2093814"
      }
     },
     "e4dbd494b89840338dd6700d2f57f721": {
      "model_module": "@jupyter-widgets/base",
      "model_module_version": "2.0.0",
      "model_name": "LayoutModel",
      "state": {}
     },
     "e782724bfd5248b39564caf177070c3c": {
      "model_module": "@jupyter-widgets/base",
      "model_module_version": "2.0.0",
      "model_name": "LayoutModel",
      "state": {}
     },
     "ebb0633fd94e45a2a7dc55194d20cc30": {
      "model_module": "@jupyter-widgets/controls",
      "model_module_version": "2.0.0",
      "model_name": "VBoxModel",
      "state": {
       "children": [
        "IPY_MODEL_0e3c50a60c4540fe82daa508fb24d41f",
        "IPY_MODEL_9082baf6cc714772a517694d240c66c8",
        "IPY_MODEL_98f8c462305942ff8ad4b8f30bcc0676",
        "IPY_MODEL_21e646be174b47a0a750273e95486d1b",
        "IPY_MODEL_448008209b3c4c5f9524ae09697ae0f2",
        "IPY_MODEL_1af865f178d2432f8be7b982bbdd8ba6",
        "IPY_MODEL_fbe537f8fa144e4a9bb3d9ca776b6d03",
        "IPY_MODEL_103d8fd18eaa4d43a398e7744eda02ef",
        "IPY_MODEL_ef5f1434a50045428b2583f92d2c87d2",
        "IPY_MODEL_7890541ac3b44c18914e537bfc1fca06"
       ],
       "layout": "IPY_MODEL_b702df03e78243c48b644a694fe9fd97"
      }
     },
     "ebefef4bde3e4f448b118486dd04bf3a": {
      "model_module": "@jupyter-widgets/base",
      "model_module_version": "2.0.0",
      "model_name": "LayoutModel",
      "state": {}
     },
     "ed9a4b54da16472f84aee8639dd2fb22": {
      "model_module": "@jupyter-widgets/base",
      "model_module_version": "2.0.0",
      "model_name": "LayoutModel",
      "state": {}
     },
     "ee0dbf796de741078ee84099be5c1bee": {
      "model_module": "@jupyter-widgets/base",
      "model_module_version": "2.0.0",
      "model_name": "LayoutModel",
      "state": {}
     },
     "eefd28c47d1b459489ff4edea64140f7": {
      "model_module": "@jupyter-widgets/base",
      "model_module_version": "2.0.0",
      "model_name": "LayoutModel",
      "state": {}
     },
     "ef5f1434a50045428b2583f92d2c87d2": {
      "model_module": "@jupyter-widgets/controls",
      "model_module_version": "2.0.0",
      "model_name": "FloatSliderModel",
      "state": {
       "behavior": "drag-tap",
       "description": "Charge scale",
       "layout": "IPY_MODEL_72ad40db78074fb48b0e38f19be95d79",
       "step": 0.1,
       "style": "IPY_MODEL_a9fa87b9374948ff96e98fb0a066e159",
       "value": 1
      }
     },
     "ef96e964d6614844b15c3840589f3ff7": {
      "model_module": "@jupyter-widgets/base",
      "model_module_version": "2.0.0",
      "model_name": "LayoutModel",
      "state": {}
     },
     "efd3e447af614f0e8108d0dac34e6422": {
      "model_module": "@jupyter-widgets/controls",
      "model_module_version": "2.0.0",
      "model_name": "CheckboxStyleModel",
      "state": {
       "description_width": ""
      }
     },
     "f10300d9792243b5864a6fc5a57334c4": {
      "model_module": "@jupyter-widgets/controls",
      "model_module_version": "2.0.0",
      "model_name": "TextStyleModel",
      "state": {
       "description_width": "",
       "font_size": null,
       "text_color": null
      }
     },
     "f1d4b9b49e9e4a12b8574eb86e344d19": {
      "model_module": "@jupyter-widgets/controls",
      "model_module_version": "2.0.0",
      "model_name": "DescriptionStyleModel",
      "state": {
       "description_width": ""
      }
     },
     "f1dcad9074f948619ead3b9fa505eaa3": {
      "model_module": "@jupyter-widgets/base",
      "model_module_version": "2.0.0",
      "model_name": "LayoutModel",
      "state": {
       "width": "34px"
      }
     },
     "f1e1cbaec8c641dfa58c1dd2ae7f5858": {
      "model_module": "@jupyter-widgets/controls",
      "model_module_version": "2.0.0",
      "model_name": "HBoxModel",
      "state": {
       "children": [
        "IPY_MODEL_476dc7cf80d64545a218a99c6a208265",
        "IPY_MODEL_fba200fdb25348c28939e9cee10b80f5"
       ],
       "layout": "IPY_MODEL_46bf0f0bbf8d49508036c35674d2cae6"
      }
     },
     "f227081f0a9141a8ae8ef08ba09b4e3c": {
      "model_module": "@jupyter-widgets/controls",
      "model_module_version": "2.0.0",
      "model_name": "SliderStyleModel",
      "state": {
       "description_width": ""
      }
     },
     "f44c8f47b974486893d45c027c4f0415": {
      "model_module": "@jupyter-widgets/controls",
      "model_module_version": "2.0.0",
      "model_name": "SliderStyleModel",
      "state": {
       "description_width": ""
      }
     },
     "f702ba23183c4279ba33f5ac508e7ead": {
      "model_module": "@jupyter-widgets/base",
      "model_module_version": "2.0.0",
      "model_name": "LayoutModel",
      "state": {}
     },
     "f925782769794419b0e44f4d64462849": {
      "model_module": "@jupyter-widgets/controls",
      "model_module_version": "2.0.0",
      "model_name": "FloatSliderModel",
      "state": {
       "behavior": "drag-tap",
       "description": "Ball size",
       "layout": "IPY_MODEL_28cac76d3dc9430b8ced3057f4da7873",
       "max": 1.5,
       "step": 0.01,
       "style": "IPY_MODEL_8ed0913fba47405fad21273d0dc950a9",
       "value": 0.49999999999999994
      }
     },
     "f9ff29e7c07b48df89cd2c276ca0f130": {
      "model_module": "@jupyter-widgets/base",
      "model_module_version": "2.0.0",
      "model_name": "LayoutModel",
      "state": {}
     },
     "fa4aed0f1be5453392846e5fe9f5d953": {
      "model_module": "@jupyter-widgets/controls",
      "model_module_version": "2.0.0",
      "model_name": "HTMLStyleModel",
      "state": {
       "description_width": "",
       "font_size": null,
       "text_color": null
      }
     },
     "fa58f8667d904302abf2f04b9918621a": {
      "model_module": "@jupyter-widgets/controls",
      "model_module_version": "2.0.0",
      "model_name": "PlayModel",
      "state": {
       "layout": "IPY_MODEL_20c140f48b6d4ffca2e2a7c22c5daa52",
       "max": 0,
       "style": "IPY_MODEL_9b5bee82de4d450aaf9b255236e764fc"
      }
     },
     "fb86718ef3894a629a18513be9cb8711": {
      "model_module": "@jupyter-widgets/controls",
      "model_module_version": "2.0.0",
      "model_name": "DescriptionStyleModel",
      "state": {
       "description_width": ""
      }
     },
     "fba200fdb25348c28939e9cee10b80f5": {
      "model_module": "@jupyter-widgets/controls",
      "model_module_version": "2.0.0",
      "model_name": "VBoxModel",
      "state": {
       "children": [
        "IPY_MODEL_711a6bf959dc4ddf8f72ee3c5797825a",
        "IPY_MODEL_d43bc396197c44209f5e795ddbf39d71",
        "IPY_MODEL_25a2633b64fa41a786f117866e086b1b",
        "IPY_MODEL_4e6848fd449a4854a78fa7091ccfacec",
        "IPY_MODEL_89fd1a3dd50841b3b0f98f1147da1742",
        "IPY_MODEL_008c588666df4c59a553db5196ee038b",
        "IPY_MODEL_39185918e881416ba28d36e4788cf371",
        "IPY_MODEL_69571df1e6194f2da1e3917dd1fe3de0",
        "IPY_MODEL_80071e4f04ce4b8c999d63e1729490eb",
        "IPY_MODEL_de9f6acf582141fc94b82d90dfc9adbe"
       ],
       "layout": "IPY_MODEL_941eaa7c97314b489572958ab8b3f242"
      }
     },
     "fbe537f8fa144e4a9bb3d9ca776b6d03": {
      "model_module": "@jupyter-widgets/controls",
      "model_module_version": "2.0.0",
      "model_name": "FloatSliderModel",
      "state": {
       "behavior": "drag-tap",
       "description": "Force scale",
       "layout": "IPY_MODEL_34cda73f11924ab7a13cc2c8712216ca",
       "step": 0.1,
       "style": "IPY_MODEL_b97d2608c94e44c6b4c277da276633da",
       "value": 0.5
      }
     },
     "fc550611a7b140bcb026634f6d2d3b9c": {
      "model_module": "@jupyter-widgets/controls",
      "model_module_version": "2.0.0",
      "model_name": "HBoxModel",
      "state": {
       "children": [
        "IPY_MODEL_c40b5317cf804ca3a2372057f34c00f2",
        "IPY_MODEL_c1c3eec115ad4f608ba47b844084a665",
        "IPY_MODEL_e139e90fd52444e29ebc6e62b6cad6a9"
       ],
       "layout": "IPY_MODEL_2391c549f3534372ab3ff5abf5d01c00"
      }
     },
     "fd79dba9eac34ffc955169077cce773a": {
      "model_module": "@jupyter-widgets/base",
      "model_module_version": "2.0.0",
      "model_name": "LayoutModel",
      "state": {}
     }
    },
    "version_major": 2,
    "version_minor": 0
   }
  }
 },
 "nbformat": 4,
 "nbformat_minor": 5
}
