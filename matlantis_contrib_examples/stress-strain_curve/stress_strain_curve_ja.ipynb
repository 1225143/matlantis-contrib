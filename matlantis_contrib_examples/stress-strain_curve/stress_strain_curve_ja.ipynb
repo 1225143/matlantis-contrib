{
 "cells": [
  {
   "cell_type": "markdown",
   "id": "fbb893c4-ac3e-4377-8ac0-5d62ab61822c",
   "metadata": {
    "papermill": {
     "duration": 0.007504,
     "end_time": "2023-10-11T08:23:32.798967",
     "exception": false,
     "start_time": "2023-10-11T08:23:32.791463",
     "status": "completed"
    },
    "tags": []
   },
   "source": [
    "# 応力-ひずみ曲線計算ノートブック\n",
    "\n",
    "本ノートブックでは、金属スラブに挟まれた樹脂の引っ張りシミュレーションを実行し、応力-ひずみ曲線を作成します。"
   ]
  },
  {
   "cell_type": "markdown",
   "id": "252c8b85-0a41-4fd0-aaa9-02125b4783be",
   "metadata": {
    "papermill": {
     "duration": 0.003837,
     "end_time": "2023-10-11T08:23:32.806829",
     "exception": false,
     "start_time": "2023-10-11T08:23:32.802992",
     "status": "completed"
    },
    "tags": []
   },
   "source": [
    "## 事前セットアップ\n",
    "\n",
    "pfp-api-client, matlantis-featuresをインストールします。"
   ]
  },
  {
   "cell_type": "code",
   "execution_count": 1,
   "id": "2457f221-e0e9-4da1-ac49-988abde1d4b3",
   "metadata": {
    "papermill": {
     "duration": 0.013747,
     "end_time": "2023-10-11T08:23:32.824414",
     "exception": false,
     "start_time": "2023-10-11T08:23:32.810667",
     "status": "completed"
    },
    "tags": []
   },
   "outputs": [],
   "source": [
    "# ! pip install pfp-api-client\n",
    "# ! pip install matlantis-features"
   ]
  },
  {
   "cell_type": "markdown",
   "id": "19b32b83-4362-4928-a211-8f7829f6115c",
   "metadata": {
    "papermill": {
     "duration": 0.005075,
     "end_time": "2023-10-11T08:23:32.833280",
     "exception": false,
     "start_time": "2023-10-11T08:23:32.828205",
     "status": "completed"
    },
    "tags": []
   },
   "source": [
    "### 1. パッケージのインポート、クラス・関数の定義"
   ]
  },
  {
   "cell_type": "code",
   "execution_count": 2,
   "id": "98dbe031-3650-46af-8ca4-f35d70af97ea",
   "metadata": {
    "papermill": {
     "duration": 8.054537,
     "end_time": "2023-10-11T08:23:40.892084",
     "exception": false,
     "start_time": "2023-10-11T08:23:32.837547",
     "status": "completed"
    },
    "tags": []
   },
   "outputs": [
    {
     "data": {
      "application/vnd.jupyter.widget-view+json": {
       "model_id": "b88cd223c72743c4ace13c5dad961530",
       "version_major": 2,
       "version_minor": 0
      },
      "text/plain": []
     },
     "metadata": {},
     "output_type": "display_data"
    }
   ],
   "source": [
    "import os\n",
    "import numpy as np\n",
    "import random\n",
    "import pathlib\n",
    "import matplotlib.pyplot as plt\n",
    "from scipy.spatial.transform import Rotation\n",
    "\n",
    "from ase import Atoms\n",
    "from ase import units\n",
    "from ase.io import read, write, Trajectory\n",
    "from ase.build import bulk, surface, sort\n",
    "from ase.units import Pascal\n",
    "from ase.visualize import view\n",
    "from ase.spacegroup.symmetrize import FixSymmetry\n",
    "from ase import neighborlist\n",
    "from ase.constraints import FixAtoms\n",
    "\n",
    "from rdkit import Chem\n",
    "from rdkit.Chem import AllChem\n",
    "\n",
    "from matlantis_features.utils.atoms_util import convert_atoms_to_upper\n",
    "from matlantis_features.atoms import MatlantisAtoms\n",
    "from matlantis_features.features.common.opt import LBFGSASEOptFeature, FireLBFGSASEOptFeature\n",
    "from matlantis_features.features.md import ASEMDSystem, LangevinIntegrator, MDFeature, MDExtensionBase, NPTIntegrator\n",
    "from matlantis_features.features.md.md_extensions import DeformScheduler\n",
    "from matlantis_features.utils.calculators import get_calculator, pfp_estimator_fn\n",
    "\n",
    "from pfp_api_client.pfp.estimator import Estimator, EstimatorCalcMode\n",
    "from pfp_api_client.pfp.calculators.ase_calculator import ASECalculator\n",
    "estimator_fn = pfp_estimator_fn(model_version='v5.0.0', calc_mode='crystal_u0_plus_d3')\n",
    "\n",
    "from pfcc_extras.visualize.view import view_ngl\n",
    "from pfcc_extras.structure.ase_rdkit_converter import smiles_to_atoms\n",
    "from pfcc_extras.structure.surface import makesurface\n",
    "\n",
    "def density(atoms):\n",
    "    vol = atoms.get_cell().volume *(1e-8)**3   # as cm3\n",
    "    wt = sum(atoms.get_masses())    # as g/mol\n",
    "    dens = wt / units.mol / vol\n",
    "    return(dens)\n",
    "\n",
    "class PrintCellShape(MDExtensionBase):\n",
    "    def __init__(self, cell_log=None):\n",
    "        self.cell_log = cell_log\n",
    "    def __call__(self, system, integrator) -> None:\n",
    "        cell_par = system.ase_atoms.get_cell_lengths_and_angles()\n",
    "        istep = system.current_total_step\n",
    "        print(f\"Dyn step {istep:4d} a {cell_par[0]:3.2f} b {cell_par[1]:3.2f} c {cell_par[2]:3.2f} alpha {cell_par[3]:3.2f} beta {cell_par[4]:3.2f} gamma {cell_par[5]:3.2f} \")\n",
    "        if self.cell_log is not None:\n",
    "            self.cell_log.append(cell_par)\n",
    "            \n",
    "try:\n",
    "    dir_path = pathlib.Path(__file__).parent\n",
    "except:\n",
    "    dir_path = pathlib.Path(\"\").resolve()\n",
    "    \n",
    "input_dir = dir_path / \"input\"\n",
    "output_dir = dir_path / \"output\""
   ]
  },
  {
   "cell_type": "markdown",
   "id": "ba954b22-9f83-4930-8a6b-2cb466ddcca3",
   "metadata": {
    "papermill": {
     "duration": 0.005852,
     "end_time": "2023-10-11T08:23:40.902506",
     "exception": false,
     "start_time": "2023-10-11T08:23:40.896654",
     "status": "completed"
    },
    "tags": []
   },
   "source": [
    "## 2. 構造作成\n",
    "\n",
    "真空層で挟まれた金属スラブモデルを作成し、樹脂を充填します。その構造を圧着することで初期構造を生成します。"
   ]
  },
  {
   "cell_type": "markdown",
   "id": "8daceb26-47ab-4559-b901-9d8f7011e0e4",
   "metadata": {
    "papermill": {
     "duration": 0.004029,
     "end_time": "2023-10-11T08:23:40.910427",
     "exception": false,
     "start_time": "2023-10-11T08:23:40.906398",
     "status": "completed"
    },
    "tags": []
   },
   "source": [
    "### 2-1 入出力ファイルパス"
   ]
  },
  {
   "cell_type": "code",
   "execution_count": 3,
   "id": "aea84e3f-bca7-4383-a22f-c3ef30306252",
   "metadata": {
    "papermill": {
     "duration": 0.013396,
     "end_time": "2023-10-11T08:23:40.927640",
     "exception": false,
     "start_time": "2023-10-11T08:23:40.914244",
     "status": "completed"
    },
    "tags": []
   },
   "outputs": [],
   "source": [
    "# input file\n",
    "# 樹脂構造\n",
    "resin_path = input_dir / \"PEO.xyz\"\n",
    "\n",
    "# output file\n",
    "# 保存先ディレクトリ\n",
    "results = \"output_ja\"\n",
    "# 金属スラブ\n",
    "metal_opt_path = output_dir / \"model\" / \"slab_Fe.xyz\"\n",
    "# 最適後樹脂構造\n",
    "resin_opt_path = output_dir / \"model\" / \"resin_opt.xyz\"\n",
    "# 金属スラブ及び樹脂構造\n",
    "slab_opt_path = output_dir / \"model\" / \"slab.xyz\"\n",
    "# 高温圧着MDトラジェクトリ\n",
    "npt1_path = output_dir / \"md\" / \"npt1.traj\"\n",
    "# 室温平衡化MDトラジェクトリ\n",
    "npt2_path = output_dir / \"md\" / \"npt2.traj\"\n",
    "# 引っ張りMDトラジェクトリ\n",
    "tensile_path = output_dir / \"md\" / \"tensile.traj\"\n",
    "# 応力-ひずみ曲線図\n",
    "ss_path = output_dir / \"figure\" / \"ss.png\"\n",
    "\n",
    "# ディレクトリ作成\n",
    "os.makedirs(output_dir / \"model\", exist_ok = True)\n",
    "os.makedirs(output_dir / \"md\", exist_ok = True)\n",
    "os.makedirs(output_dir / \"figure\", exist_ok = True)"
   ]
  },
  {
   "cell_type": "markdown",
   "id": "90f952a3-eeea-4e64-b4bb-1185a3a9dcec",
   "metadata": {
    "papermill": {
     "duration": 0.00404,
     "end_time": "2023-10-11T08:23:40.954645",
     "exception": false,
     "start_time": "2023-10-11T08:23:40.950605",
     "status": "completed"
    },
    "tags": []
   },
   "source": [
    "### 2-2. 真空層を有する金属スラブ作成"
   ]
  },
  {
   "cell_type": "code",
   "execution_count": 4,
   "id": "90aad8b7-0176-4d4f-97b0-f4e2d1e86551",
   "metadata": {
    "papermill": {
     "duration": 0.013554,
     "end_time": "2023-10-11T08:23:40.972451",
     "exception": false,
     "start_time": "2023-10-11T08:23:40.958897",
     "status": "completed"
    },
    "tags": []
   },
   "outputs": [
    {
     "name": "stdout",
     "output_type": "stream",
     "text": [
      "バルク構造の緩和\n"
     ]
    },
    {
     "data": {
      "application/vnd.jupyter.widget-view+json": {
       "model_id": "33a2ad780f5649d193727393b68e3f6f",
       "version_major": 2,
       "version_minor": 0
      },
      "text/plain": [
       "  0%|          | 0/10001 [00:00<?, ?it/s]"
      ]
     },
     "metadata": {},
     "output_type": "display_data"
    }
   ],
   "source": [
    "# バルク構造の緩和\n",
    "print(\"バルク構造の緩和\")\n",
    "blk = bulk(\"Fe\", \"bcc\")\n",
    "blk.set_constraint([FixSymmetry(blk)])\n",
    "opt = LBFGSASEOptFeature(n_run = 10000, fmax = 0.01, filter=True,\n",
    "                         show_progress_bar=True, estimator_fn = estimator_fn)\n",
    "result_opt = opt(blk)\n",
    "\n",
    "# 真空層を有する表面モデルの作成\n",
    "vacuum = 500\n",
    "slab = result_opt.atoms.ase_atoms.copy()\n",
    "slab.set_constraint([])\n",
    "slab = makesurface(slab, miller_indices=(1,0,0), layers=10, rep=[8,8,1], vacuum=vacuum)"
   ]
  },
  {
   "cell_type": "code",
   "execution_count": 5,
   "id": "f612d1ad-8f10-4b74-851f-253ac81ffcee",
   "metadata": {
    "papermill": {
     "duration": 0.013492,
     "end_time": "2023-10-11T08:23:40.990214",
     "exception": false,
     "start_time": "2023-10-11T08:23:40.976722",
     "status": "completed"
    },
    "tags": []
   },
   "outputs": [
    {
     "name": "stdout",
     "output_type": "stream",
     "text": [
      "表面構造の緩和\n"
     ]
    },
    {
     "data": {
      "application/vnd.jupyter.widget-view+json": {
       "model_id": "58f6b7f2f3444beda0e21eef6fa8e9f3",
       "version_major": 2,
       "version_minor": 0
      },
      "text/plain": [
       "  0%|          | 0/10001 [00:00<?, ?it/s]"
      ]
     },
     "metadata": {},
     "output_type": "display_data"
    },
    {
     "data": {
      "application/vnd.jupyter.widget-view+json": {
       "model_id": "313a7f2062144924ac37cfb3ff6d5730",
       "version_major": 2,
       "version_minor": 0
      },
      "text/plain": [
       "HBox(children=(NGLWidget(), VBox(children=(Dropdown(description='Show', options=('All', 'Fe'), value='All'), D…"
      ]
     },
     "metadata": {},
     "output_type": "display_data"
    }
   ],
   "source": [
    "# 層数の半分だけ下方にシフト\n",
    "atoms = slab.copy()\n",
    "# Sort atoms by their z-coordinate\n",
    "z_coordinates = [atom.position[2] for atom in atoms]\n",
    "unique_layers = np.unique(np.round(z_coordinates, decimals=3))\n",
    "layer_z_value = unique_layers[int(len(unique_layers) / 2)]\n",
    "atoms_in_layer = [atom for atom in slab if np.round(atom.position[2], decimals=3) == layer_z_value]\n",
    "z_coor = atoms_in_layer[0].position[2]\n",
    "slab_2 = slab.copy()\n",
    "slab_2.positions += [0,0,-z_coor]\n",
    "slab_2.wrap()\n",
    "\n",
    "# 表面構造の緩和\n",
    "print(\"表面構造の緩和\")\n",
    "indices = [atom.index for atom in slab_2 if atom.position[2] <= 3]  # 3A以下を固定\n",
    "slab_2.set_constraint(FixAtoms(indices))\n",
    "result_opt_2 = opt(slab_2)\n",
    "os.makedirs(\"output\", exist_ok=True)\n",
    "write(metal_opt_path, result_opt_2.atoms.ase_atoms, format='extxyz')\n",
    "\n",
    "# 構造の可視化\n",
    "v = view_ngl(result_opt_2.atoms.ase_atoms, representations=[\"ball+stick\"])\n",
    "v.view.control.spin([1,0,0], np.deg2rad(-90))\n",
    "display(v)"
   ]
  },
  {
   "cell_type": "markdown",
   "id": "46154a9e-50cc-4dfe-922b-5a3f6f59e733",
   "metadata": {
    "papermill": {
     "duration": 0.00392,
     "end_time": "2023-10-11T08:23:40.998273",
     "exception": false,
     "start_time": "2023-10-11T08:23:40.994353",
     "status": "completed"
    },
    "tags": []
   },
   "source": [
    "### 2-3. 樹脂の挿入"
   ]
  },
  {
   "cell_type": "code",
   "execution_count": 6,
   "id": "5b25c358-632b-47bb-94a3-4e6e2c24d27d",
   "metadata": {
    "papermill": {
     "duration": 0.012725,
     "end_time": "2023-10-11T08:23:41.015141",
     "exception": false,
     "start_time": "2023-10-11T08:23:41.002416",
     "status": "completed"
    },
    "tags": []
   },
   "outputs": [
    {
     "name": "stdout",
     "output_type": "stream",
     "text": [
      "樹脂構造の緩和\n"
     ]
    },
    {
     "data": {
      "application/vnd.jupyter.widget-view+json": {
       "model_id": "d0d8a28529bf491794866940054db883",
       "version_major": 2,
       "version_minor": 0
      },
      "text/plain": [
       "  0%|          | 0/10001 [00:00<?, ?it/s]"
      ]
     },
     "metadata": {},
     "output_type": "display_data"
    },
    {
     "data": {
      "application/vnd.jupyter.widget-view+json": {
       "model_id": "edacad0228f44c2a80567a2b73b2493c",
       "version_major": 2,
       "version_minor": 0
      },
      "text/plain": [
       "HBox(children=(NGLWidget(), VBox(children=(Dropdown(description='Show', options=('All', 'O', 'H', 'C'), value=…"
      ]
     },
     "execution_count": 6,
     "metadata": {},
     "output_type": "execute_result"
    }
   ],
   "source": [
    "atoms_organic = read(resin_path)\n",
    "\n",
    "print(\"樹脂構造の緩和\")\n",
    "opt = LBFGSASEOptFeature(n_run = 10000, fmax = 0.01, filter=False,\n",
    "                         show_progress_bar=True, estimator_fn = estimator_fn)\n",
    "result_opt_organic = opt(atoms_organic)\n",
    "write(resin_opt_path, result_opt_organic.atoms.ase_atoms, format='xyz')\n",
    "\n",
    "view_ngl(result_opt_organic.atoms.ase_atoms)"
   ]
  },
  {
   "cell_type": "code",
   "execution_count": 7,
   "id": "e8e536ba-3368-4f98-92ba-1776328dedc3",
   "metadata": {
    "papermill": {
     "duration": 0.014606,
     "end_time": "2023-10-11T08:23:41.033912",
     "exception": false,
     "start_time": "2023-10-11T08:23:41.019306",
     "status": "completed"
    },
    "tags": []
   },
   "outputs": [
    {
     "name": "stdout",
     "output_type": "stream",
     "text": [
      "liquid phase initial density = 0.093 g/cm3\n",
      "slab + resin atoms = 2336\n",
      "No_of_atoms = 852 , including slab 640 atoms\n",
      "No_of_atoms = 1064 , including slab 640 atoms\n",
      "No_of_atoms = 1276 , including slab 640 atoms\n",
      "No_of_atoms = 1488 , including slab 640 atoms\n",
      "No_of_atoms = 1700 , including slab 640 atoms\n",
      "No_of_atoms = 1912 , including slab 640 atoms\n",
      "No_of_atoms = 2124 , including slab 640 atoms\n",
      "No_of_atoms = 2336 , including slab 640 atoms\n"
     ]
    }
   ],
   "source": [
    "# 真空層と同サイズの真空層セル (`vacuum_cell`)を作成\n",
    "empty_cell = slab_2.copy()\n",
    "slab_height = empty_cell.cell.cellpar()[2] - vacuum\n",
    "slabatoms = len(empty_cell)\n",
    "cellsize = empty_cell.cell.cellpar()[:3]\n",
    "cellsize[2] = vacuum\n",
    "\n",
    "vacuum_cell = Atoms(symbols=\"\", \n",
    "                  pbc=True, \n",
    "                  cell=cellsize)\n",
    "\n",
    "NoAtoms0=len(atoms_organic)\n",
    "\n",
    "# 分子を詰め込んだときの密度と原子数を確認\n",
    "target_density = 0.10 # unit = g/cm3\n",
    "sum_mass = atoms_organic.get_masses().sum()\n",
    "sum_atoms = len(atoms_organic)\n",
    "vac_vol = vacuum_cell.get_volume()*(1e-8)**3 # as cm3\n",
    "d0 = sum_mass / units.mol / vac_vol # 真空層に分子を詰め込んだ時の推定密度\n",
    "mlp = int(np.floor(target_density / d0)) # 有機分子を何個挿入するかを計算\n",
    "t_atoms = NoAtoms0 * mlp + slabatoms\n",
    "print (\"liquid phase initial density =\", np.round(d0*mlp, 3), \"g/cm3\")\n",
    "print (\"slab + resin atoms =\", t_atoms)\n",
    "\n",
    "# 真空層セル (`vacuum_cell`)に樹脂を充填\n",
    "target_atoms = t_atoms    \n",
    "vac_vol = empty_cell.get_volume()*(1e-8)**3 # as cm3\n",
    "\n",
    "filled_cell = empty_cell.copy()\n",
    "No_atoms, n = 0, 0\n",
    "while No_atoms < target_atoms:\n",
    "    # 真空層における分子の挿入座標をランダムに決定\n",
    "    ranx = random.uniform(0,1)\n",
    "    rany = random.uniform(0,1)\n",
    "    ranz = random.uniform(0.04,0.96)                           # slabのz軸範囲を除外。\n",
    "    xyz_position=np.matmul([ranx,rany,ranz], filled_cell.cell)\n",
    "    # 分子の回転角をランダムに決定\n",
    "    phi, theta, psi = Rotation.random().as_euler('zxz', degrees=True)\n",
    "    \n",
    "    # 挿入分子を読み込み、並進移動+回転\n",
    "    # molNo = n\n",
    "    # m = mol_list[molNo]\n",
    "    m = result_opt_organic.atoms.ase_atoms\n",
    "    m1 = m.copy()\n",
    "    m1.euler_rotate(phi=phi, theta=theta, psi=psi)\n",
    "    m1.positions += xyz_position\n",
    "    \n",
    "    # 力が閾値以下であれば挿入\n",
    "    Fcheck = filled_cell + m1\n",
    "    Fcheck.calc = get_calculator(estimator_fn)\n",
    "    if (np.sum(Fcheck.get_forces()**2, axis=1)**0.5).max() <= 100:\n",
    "        filled_cell = filled_cell + m1\n",
    "        n+=1\n",
    "        No_atoms = len(filled_cell)\n",
    "        print(\"No_of_atoms =\", No_atoms, \", including slab\", len(empty_cell), \"atoms\")    \n",
    "    else:\n",
    "        n+=0\n",
    "\n",
    "assert mlp == n"
   ]
  },
  {
   "cell_type": "code",
   "execution_count": 8,
   "id": "a68a4643-ac37-409f-8971-7376c8f4115f",
   "metadata": {
    "papermill": {
     "duration": 0.0142,
     "end_time": "2023-10-11T08:23:41.052865",
     "exception": false,
     "start_time": "2023-10-11T08:23:41.038665",
     "status": "completed"
    },
    "tags": []
   },
   "outputs": [
    {
     "data": {
      "application/vnd.jupyter.widget-view+json": {
       "model_id": "927d474262164c5f832327cee0af8b4b",
       "version_major": 2,
       "version_minor": 0
      },
      "text/plain": [
       "  0%|          | 0/10001 [00:00<?, ?it/s]"
      ]
     },
     "metadata": {},
     "output_type": "display_data"
    },
    {
     "name": "stderr",
     "output_type": "stream",
     "text": [
      "/home/jovyan/.py38/lib/python3.8/site-packages/ase/io/extxyz.py:1000: UserWarning: write_xyz() overwriting array \"forces\" present in atoms.arrays with stored results from calculator\n",
      "  warnings.warn('write_xyz() overwriting array \"{0}\" present '\n"
     ]
    },
    {
     "data": {
      "application/vnd.jupyter.widget-view+json": {
       "model_id": "0c0c2f5e1e8a4f6bb4e7a3f8b97236f9",
       "version_major": 2,
       "version_minor": 0
      },
      "text/plain": [
       "HBox(children=(NGLWidget(), VBox(children=(Dropdown(description='Show', options=('All', 'O', 'H', 'Fe', 'C'), …"
      ]
     },
     "metadata": {},
     "output_type": "display_data"
    }
   ],
   "source": [
    "# 充填構造の最適化\n",
    "indices = [atom.index for atom in filled_cell if atom.position[2] <= 3.0]\n",
    "c = FixAtoms(indices)\n",
    "filled_cell.set_constraint(c)\n",
    "\n",
    "opt = LBFGSASEOptFeature(n_run = 10000, fmax = 0.1, filter = True,\n",
    "                         show_progress_bar=True, estimator_fn = estimator_fn)\n",
    "result_opt_filled = opt(filled_cell)\n",
    "\n",
    "# 構造の保存\n",
    "result_opt_filled.atoms.ase_atoms.set_initial_charges()\n",
    "write(slab_opt_path, result_opt_filled.atoms.ase_atoms, format='extxyz')\n",
    "\n",
    "# 構造の可視化\n",
    "v = view_ngl(result_opt_filled.atoms.ase_atoms, representations=[\"ball+stick\"])\n",
    "v.view.control.spin([1,0,0], np.deg2rad(-90))\n",
    "display(v)"
   ]
  },
  {
   "cell_type": "markdown",
   "id": "d2504eab-a424-43dd-93a6-f54d7529db86",
   "metadata": {
    "papermill": {
     "duration": 0.004109,
     "end_time": "2023-10-11T08:23:41.061284",
     "exception": false,
     "start_time": "2023-10-11T08:23:41.057175",
     "status": "completed"
    },
    "tags": []
   },
   "source": [
    "### 2-4. 圧着シミュレーション"
   ]
  },
  {
   "cell_type": "code",
   "execution_count": null,
   "id": "0a772a28-d289-48ad-b521-8c8e40d1efa8",
   "metadata": {
    "papermill": {
     "duration": 26107.246711,
     "end_time": "2023-10-11T15:38:48.312061",
     "exception": false,
     "start_time": "2023-10-11T08:23:41.065350",
     "status": "completed"
    },
    "tags": []
   },
   "outputs": [
    {
     "name": "stderr",
     "output_type": "stream",
     "text": [
      "The MD trajectory will be saved at /home/jovyan/work/2023/sscurve/contrib/output_ja/md/npt1.traj.\n",
      "Note: The max disk size of /home/jovyan is about 99G.\n",
      "WARNING: NPT: Setting the center-of-mass momentum to zero (was 13.6739 25.2356 -22.7151)\n",
      "/home/jovyan/.py38/lib/python3.8/site-packages/ase/utils/__init__.py:62: FutureWarning: Please use atoms.cell.cellpar() instead\n",
      "  warnings.warn(warning)\n"
     ]
    },
    {
     "name": "stdout",
     "output_type": "stream",
     "text": [
      "Dyn step    0 a 19.45 b 19.45 c 517.89 alpha 90.00 beta 90.00 gamma 109.50 \n",
      "Dyn step 1000 a 19.45 b 19.45 c 505.81 alpha 90.00 beta 90.00 gamma 109.50 \n",
      "Dyn step 2000 a 19.45 b 19.45 c 470.82 alpha 90.00 beta 90.00 gamma 109.50 \n",
      "Dyn step 3000 a 19.45 b 19.45 c 419.98 alpha 90.00 beta 90.00 gamma 109.50 \n",
      "Dyn step 4000 a 19.45 b 19.45 c 361.05 alpha 90.00 beta 90.00 gamma 109.50 \n",
      "Dyn step 5000 a 19.45 b 19.45 c 300.88 alpha 90.00 beta 90.00 gamma 109.50 \n",
      "Dyn step 6000 a 19.45 b 19.45 c 244.74 alpha 90.00 beta 90.00 gamma 109.50 \n",
      "Dyn step 7000 a 19.45 b 19.45 c 195.28 alpha 90.00 beta 90.00 gamma 109.50 \n",
      "Dyn step 8000 a 19.45 b 19.45 c 153.42 alpha 90.00 beta 90.00 gamma 109.50 \n",
      "Dyn step 9000 a 19.45 b 19.45 c 119.34 alpha 90.00 beta 90.00 gamma 109.50 \n",
      "Dyn step 10000 a 19.45 b 19.45 c 93.07 alpha 90.00 beta 90.00 gamma 109.50 \n",
      "Dyn step 11000 a 19.45 b 19.45 c 74.56 alpha 90.00 beta 90.00 gamma 109.50 \n",
      "Dyn step 12000 a 19.45 b 19.45 c 63.65 alpha 90.00 beta 90.00 gamma 109.50 \n",
      "Dyn step 13000 a 19.45 b 19.45 c 59.61 alpha 90.00 beta 90.00 gamma 109.50 \n"
     ]
    }
   ],
   "source": [
    "ase_atoms =read(slab_opt_path)\n",
    "indices = [atom.index for atom in ase_atoms if atom.position[2] <= 3]\n",
    "c = FixAtoms(indices)\n",
    "ase_atoms.set_constraint(c)\n",
    "\n",
    "atoms = MatlantisAtoms.from_ase_atoms(ase_atoms)\n",
    "atoms.rotate_atoms_to_upper()\n",
    "\n",
    "# NPT\n",
    "t_step = 1     # as fs\n",
    "press = 0.000101325 * 1000 # as GPa 大気圧の1000倍\n",
    "temperature = 473.0\n",
    "\n",
    "system = ASEMDSystem(atoms)\n",
    "system.init_temperature(temperature)\n",
    "\n",
    "integrator = NPTIntegrator(timestep=t_step,\n",
    "                           temperature=temperature,\n",
    "                           pressure=press * units.GPa,\n",
    "                           ttime=20*units.fs,\n",
    "                           pfactor=2e6*units.GPa*(units.fs**2),\n",
    "                           mask=np.array([[0,0,0], [0,0,0], [0,0,1]]))\n",
    "\n",
    "info = PrintCellShape()\n",
    "\n",
    "md = MDFeature(integrator, n_run=75000, traj_file_name=npt1_path,\n",
    "               traj_freq=100, estimator_fn = estimator_fn)\n",
    "\n",
    "md(system, extensions=[(info, 1000)])"
   ]
  },
  {
   "cell_type": "code",
   "execution_count": null,
   "id": "f9f0965c-b357-44c5-871a-878ed512796f",
   "metadata": {
    "papermill": {
     "duration": 1.402288,
     "end_time": "2023-10-11T15:38:49.723359",
     "exception": false,
     "start_time": "2023-10-11T15:38:48.321071",
     "status": "completed"
    },
    "tags": []
   },
   "outputs": [],
   "source": [
    "# 圧着時のc軸長の推移と最終構造を確認\n",
    "traj = read(npt1_path, \"::1\")\n",
    "\n",
    "c_length = [atoms.cell.cellpar()[2] for atoms in traj]\n",
    "plt.plot(c_length)\n",
    "plt.ylabel(\"c-axis (Å)\")\n",
    "plt.xlabel(\"MD steps (×100)\")\n",
    "plt.show()\n",
    "\n",
    "v = view_ngl(traj[-1], representations=[\"ball+stick\"])\n",
    "v.view.control.spin([1,0,0], np.deg2rad(-90))\n",
    "display(v)"
   ]
  },
  {
   "cell_type": "markdown",
   "id": "9f478f57-835f-4804-b4a2-9401b6e13081",
   "metadata": {
    "papermill": {
     "duration": 0.009799,
     "end_time": "2023-10-11T15:38:49.742221",
     "exception": false,
     "start_time": "2023-10-11T15:38:49.732422",
     "status": "completed"
    },
    "tags": []
   },
   "source": [
    "## 3. 室温NPTシミュレーション"
   ]
  },
  {
   "cell_type": "code",
   "execution_count": null,
   "id": "050c5f9d-6dea-4559-bc78-fc45b42b1af1",
   "metadata": {
    "papermill": {
     "duration": 18625.923763,
     "end_time": "2023-10-11T20:49:15.674445",
     "exception": false,
     "start_time": "2023-10-11T15:38:49.750682",
     "status": "completed"
    },
    "scrolled": true,
    "tags": []
   },
   "outputs": [],
   "source": [
    "ase_atoms = read(npt1_path, \"-1\")\n",
    "atoms = MatlantisAtoms.from_ase_atoms(ase_atoms)\n",
    "atoms.rotate_atoms_to_upper()\n",
    "\n",
    "# NPT\n",
    "t_step = 1     # as fs\n",
    "temperature = 300.0\n",
    "\n",
    "system = ASEMDSystem(atoms)\n",
    "system.init_temperature(temperature)\n",
    "\n",
    "integrator = NPTIntegrator(timestep=1.0,\n",
    "                           temperature=temperature,\n",
    "                           pressure=units.bar,\n",
    "                           ttime=20*units.fs,\n",
    "                           pfactor=2e6*units.GPa*(units.fs**2),\n",
    "                           mask=np.array([[0,0,0], [0,0,0], [0,0,1]]))\n",
    "\n",
    "info = PrintCellShape()\n",
    "\n",
    "md = MDFeature(integrator, n_run=50000, traj_file_name=npt2_path,\n",
    "               traj_freq=100, estimator_fn=estimator_fn)\n",
    "md(system, extensions=[(info, 1000)])"
   ]
  },
  {
   "cell_type": "markdown",
   "id": "67333203-8340-4160-9a87-bf08b80c8548",
   "metadata": {
    "papermill": {
     "duration": 0.013192,
     "end_time": "2023-10-11T20:49:15.701023",
     "exception": false,
     "start_time": "2023-10-11T20:49:15.687831",
     "status": "completed"
    },
    "tags": []
   },
   "source": [
    "## 4. 引張り試験のMDシミュレーション技術"
   ]
  },
  {
   "cell_type": "code",
   "execution_count": null,
   "id": "fcf41f57-be1a-48e2-a583-155bcaf1f508",
   "metadata": {
    "papermill": {
     "duration": 34705.213703,
     "end_time": "2023-10-12T06:27:40.926436",
     "exception": false,
     "start_time": "2023-10-11T20:49:15.712733",
     "status": "completed"
    },
    "tags": []
   },
   "outputs": [],
   "source": [
    "ase_atoms = read(npt2_path, \"-1\")\n",
    "atoms = MatlantisAtoms.from_ase_atoms(ase_atoms)\n",
    "atoms.rotate_atoms_to_upper()\n",
    "\n",
    "system = ASEMDSystem(atoms)\n",
    "system.init_temperature(temperature)\n",
    "\n",
    "# z軸方向に20%引っ張ります。\n",
    "latt = np.array(system.ase_atoms.cell)\n",
    "latt[2,2] = latt[2,2]*1.5\n",
    "\n",
    "# 引っ張り計算。\n",
    "integrator = LangevinIntegrator(timestep=1.0, temperature=300.0)\n",
    "\n",
    "info = PrintCellShape()\n",
    "deform = DeformScheduler(latt, 50000)\n",
    "\n",
    "md = MDFeature(integrator, n_run=50000, traj_file_name=tensile_path,\n",
    "               traj_freq=100, estimator_fn = estimator_fn)\n",
    "md(system, extensions=[(info, 1000), (deform, 1)])"
   ]
  },
  {
   "cell_type": "markdown",
   "id": "cc09ba70-be27-4d0b-99cc-40acd70b648c",
   "metadata": {
    "papermill": {
     "duration": 0.017968,
     "end_time": "2023-10-12T06:27:40.961485",
     "exception": false,
     "start_time": "2023-10-12T06:27:40.943517",
     "status": "completed"
    },
    "tags": []
   },
   "source": [
    "## 4. 応力-ひずみ曲線のプロット"
   ]
  },
  {
   "cell_type": "code",
   "execution_count": null,
   "id": "b4c0acf3-ecb4-4f28-a6c8-1327461a8608",
   "metadata": {
    "papermill": {
     "duration": 1.499182,
     "end_time": "2023-10-12T06:27:42.477462",
     "exception": true,
     "start_time": "2023-10-12T06:27:40.978280",
     "status": "failed"
    },
    "tags": []
   },
   "outputs": [],
   "source": [
    "import  matplotlib.pyplot as plt\n",
    "import os\n",
    "\n",
    "traj = Trajectory(tensile_path)\n",
    "\n",
    "stress = []\n",
    "zlen = []\n",
    "for i in traj:\n",
    "    stress.append(i.get_stress()[2])\n",
    "    zlen.append(i.cell.cellpar()[2])\n",
    "zlen = np.array(zlen)\n",
    "strain = (zlen-zlen[0])/zlen[0]\n",
    "\n",
    "os.makedirs(\"output/figure\", exist_ok = True)\n",
    "\n",
    "plt.scatter(strain,np.array(stress)/Pascal/10e6)\n",
    "plt.xlabel(\"strain\")\n",
    "plt.ylabel(\"stress [MPa]\")\n",
    "plt.grid(True)\n",
    "plt.savefig(ss_path)"
   ]
  }
 ],
 "metadata": {
  "kernelspec": {
   "display_name": "Python 3.8",
   "language": "python",
   "name": "python38"
  },
  "language_info": {
   "codemirror_mode": {
    "name": "ipython",
    "version": 3
   },
   "file_extension": ".py",
   "mimetype": "text/x-python",
   "name": "python",
   "nbconvert_exporter": "python",
   "pygments_lexer": "ipython3",
   "version": "3.8.13"
  },
  "papermill": {
   "default_parameters": {},
   "duration": 79452.992036,
   "end_time": "2023-10-12T06:27:44.139700",
   "environment_variables": {},
   "exception": true,
   "input_path": "/home/jovyan/.local/share/matlantis/jobs/mtl_bg_run_zg4yywue.ipynb",
   "output_path": "/home/jovyan/work/2023/sscurve/contrib/calculate_sscurve_ja_results_v5.ipynb",
   "parameters": {},
   "start_time": "2023-10-11T08:23:31.147664",
   "version": "2.3.4"
  },
  "widgets": {
   "application/vnd.jupyter.widget-state+json": {
    "state": {
     "02df0fc4346a40b3972b6955d9a2de54": {
      "model_module": "@jupyter-widgets/base",
      "model_module_version": "2.0.0",
      "model_name": "LayoutModel",
      "state": {}
     },
     "03c5fc75f3e94d109423e0a8f9868c0a": {
      "model_module": "@jupyter-widgets/controls",
      "model_module_version": "2.0.0",
      "model_name": "ButtonModel",
      "state": {
       "description": "Save image",
       "layout": "IPY_MODEL_dd1a16a5b44e4860ab9f5d8dc89eed13",
       "style": "IPY_MODEL_f2a87a2aa6e34185a57f631a35268123",
       "tooltip": "Save current frame to file.\nCurrently .png and .html are supported.\nIt takes a bit time, please be patient."
      }
     },
     "0589d49a725a4b5ba3e11321531880f6": {
      "model_module": "@jupyter-widgets/base",
      "model_module_version": "2.0.0",
      "model_name": "LayoutModel",
      "state": {}
     },
     "05a8961bb04d41d7b391a04529b6d2bb": {
      "model_module": "@jupyter-widgets/controls",
      "model_module_version": "2.0.0",
      "model_name": "HTMLModel",
      "state": {
       "layout": "IPY_MODEL_e60af00a8772483cb0670125143d8afa",
       "style": "IPY_MODEL_e239e4be9c634429b3168ce7a585d8ce",
       "value": " 10001/10001 [00:48&lt;00:00, 12.04it/s]"
      }
     },
     "07e03c43f0664a8cad4cc29f0cbe4651": {
      "model_module": "@jupyter-widgets/controls",
      "model_module_version": "2.0.0",
      "model_name": "ButtonStyleModel",
      "state": {
       "font_family": null,
       "font_size": null,
       "font_style": null,
       "font_variant": null,
       "font_weight": null,
       "text_color": null,
       "text_decoration": null
      }
     },
     "097fe21dea6f4deb8258be70ef06a0ce": {
      "model_module": "@jupyter-widgets/controls",
      "model_module_version": "2.0.0",
      "model_name": "LinkModel",
      "state": {
       "source": [
        "IPY_MODEL_16ed1676f19c45b0a258498d8684f5af",
        "value"
       ],
       "target": [
        "IPY_MODEL_bf1faf2428e140c7a1d51f256b39a972",
        "frame"
       ]
      }
     },
     "09d07ac82c0a44859a10f29a85a08451": {
      "model_module": "@jupyter-widgets/base",
      "model_module_version": "2.0.0",
      "model_name": "LayoutModel",
      "state": {}
     },
     "0c0c2f5e1e8a4f6bb4e7a3f8b97236f9": {
      "model_module": "@jupyter-widgets/controls",
      "model_module_version": "2.0.0",
      "model_name": "HBoxModel",
      "state": {
       "children": [
        "IPY_MODEL_bf1faf2428e140c7a1d51f256b39a972",
        "IPY_MODEL_71cf743b62884582bbd4f9297883e905"
       ],
       "layout": "IPY_MODEL_973af0926ebc48a8b4fd180037dbfa35"
      }
     },
     "0cd96476a6cd42b7ad935f74aee22b16": {
      "model_module": "@jupyter-widgets/controls",
      "model_module_version": "2.0.0",
      "model_name": "HTMLModel",
      "state": {
       "layout": "IPY_MODEL_174c1f1c57844b22a9149e33e00bb0d5",
       "style": "IPY_MODEL_879ef41ff85944d89d6a10cef13bcc79",
       "value": " 10001/10001 [00:00&lt;00:00, 14.20it/s]"
      }
     },
     "0d92d87fea7349ea9870773260dec54c": {
      "model_module": "@jupyter-widgets/base",
      "model_module_version": "2.0.0",
      "model_name": "LayoutModel",
      "state": {}
     },
     "0f819fb5d0924b6e892b27f7a63b6d51": {
      "model_module": "@jupyter-widgets/controls",
      "model_module_version": "2.0.0",
      "model_name": "ButtonStyleModel",
      "state": {
       "font_family": null,
       "font_size": null,
       "font_style": null,
       "font_variant": null,
       "font_weight": null,
       "text_color": null,
       "text_decoration": null
      }
     },
     "0fa1ab495e084d18ba446a94a12908f9": {
      "model_module": "@jupyter-widgets/controls",
      "model_module_version": "2.0.0",
      "model_name": "LinkModel",
      "state": {
       "source": [
        "IPY_MODEL_3cef0dcc85c440fab5c59e1993ac56a2",
        "value"
       ],
       "target": [
        "IPY_MODEL_5f71dd343bec426188265c5c3d973c85",
        "value"
       ]
      }
     },
     "1036d0fc45274f96a391daa447919acd": {
      "model_module": "@jupyter-widgets/controls",
      "model_module_version": "2.0.0",
      "model_name": "FloatProgressModel",
      "state": {
       "bar_style": "success",
       "layout": "IPY_MODEL_5fcf8b1246cf4ce8bb22bb00b0898e88",
       "max": 10001,
       "style": "IPY_MODEL_42d6af7218bf465d9a97e1df607b2b25",
       "value": 10001
      }
     },
     "12878803684a4054808f32f88fa1a828": {
      "model_module": "@jupyter-widgets/controls",
      "model_module_version": "2.0.0",
      "model_name": "TextModel",
      "state": {
       "description": "Filename: ",
       "layout": "IPY_MODEL_5ca9cf253db649deb126675007bac62c",
       "style": "IPY_MODEL_66038e71adc8454c986186db13f07ee5",
       "value": "screenshot.png"
      }
     },
     "129c4eee17fd45228d46d48f7071a7ea": {
      "model_module": "@jupyter-widgets/base",
      "model_module_version": "2.0.0",
      "model_name": "LayoutModel",
      "state": {}
     },
     "1315e5b29be540008bb452904284f7b1": {
      "model_module": "@jupyter-widgets/controls",
      "model_module_version": "2.0.0",
      "model_name": "HTMLStyleModel",
      "state": {
       "description_width": "",
       "font_size": null,
       "text_color": null
      }
     },
     "15bab258b55e495b847ad5c8d5faac4d": {
      "model_module": "@jupyter-widgets/controls",
      "model_module_version": "2.0.0",
      "model_name": "SliderStyleModel",
      "state": {
       "description_width": ""
      }
     },
     "1697912fd3cc4491846589151aab2770": {
      "model_module": "@jupyter-widgets/controls",
      "model_module_version": "2.0.0",
      "model_name": "HBoxModel",
      "state": {
       "children": [
        "IPY_MODEL_f992807d8ff5485ea0e44e2606bde6ca",
        "IPY_MODEL_367d8ebb53b94071a875da8e468f6c02"
       ],
       "layout": "IPY_MODEL_c39186dcfdd44780b21f8fa0ad883c7e"
      }
     },
     "16ed1676f19c45b0a258498d8684f5af": {
      "model_module": "@jupyter-widgets/controls",
      "model_module_version": "2.0.0",
      "model_name": "PlayModel",
      "state": {
       "layout": "IPY_MODEL_8a78c6f58bdc4a7a9bd31aed367d06a0",
       "max": 0,
       "style": "IPY_MODEL_1cd369f10618455ebfaa9644606d7183"
      }
     },
     "174c1f1c57844b22a9149e33e00bb0d5": {
      "model_module": "@jupyter-widgets/base",
      "model_module_version": "2.0.0",
      "model_name": "LayoutModel",
      "state": {}
     },
     "17bb9af81c1744838ada62625b439a94": {
      "model_module": "nglview-js-widgets",
      "model_module_version": "3.0.6",
      "model_name": "NGLModel",
      "state": {
       "_camera_orientation": [],
       "_camera_str": "orthographic",
       "_gui_theme": null,
       "_ibtn_fullscreen": "IPY_MODEL_688fa43edf3e4c0cb5f48ba8241b30dc",
       "_igui": null,
       "_iplayer": "IPY_MODEL_96d631b77808457ab8a2b57624cdfd8d",
       "_ngl_color_dict": {},
       "_ngl_coordinate_resource": {},
       "_ngl_full_stage_parameters": {
        "ambientColor": 14540253,
        "ambientIntensity": 0.2,
        "backgroundColor": "white",
        "cameraEyeSep": 0.3,
        "cameraFov": 40,
        "cameraType": "perspective",
        "clipDist": 10,
        "clipFar": 100,
        "clipMode": "scene",
        "clipNear": 0,
        "clipScale": "relative",
        "fogFar": 100,
        "fogNear": 50,
        "hoverTimeout": 0,
        "impostor": true,
        "lightColor": 14540253,
        "lightIntensity": 1,
        "mousePreset": "default",
        "panSpeed": 1,
        "quality": "medium",
        "rotateSpeed": 2,
        "sampleLevel": 0,
        "tooltip": true,
        "workerDefault": true,
        "zoomSpeed": 1.2
       },
       "_ngl_msg_archive": [
        {
         "args": [
          {
           "binary": false,
           "data": "MODEL     1\nATOM      1    O MOL     1     -15.894   2.339   2.350  1.00  0.00           O  \nATOM      2    C MOL     1     -15.881   1.921   3.722  1.00  0.00           C  \nATOM      3    C MOL     1     -15.884   0.404   3.785  1.00  0.00           C  \nATOM      4    O MOL     1     -14.646  -0.195   3.419  1.00  0.00           O  \nATOM      5    C MOL     1     -14.517  -0.494   2.028  1.00  0.00           C  \nATOM      6    C MOL     1     -13.185  -1.204   1.852  1.00  0.00           C  \nATOM      7    O MOL     1     -13.039  -1.488   0.466  1.00  0.00           O  \nATOM      8    C MOL     1     -11.887  -2.258   0.155  1.00  0.00           C  \nATOM      9    C MOL     1     -10.572  -1.497   0.223  1.00  0.00           C  \nATOM     10    O MOL     1     -10.548  -0.507  -0.794  1.00  0.00           O  \nATOM     11    C MOL     1      -9.386   0.307  -0.735  1.00  0.00           C  \nATOM     12    C MOL     1      -9.510   1.358  -1.836  1.00  0.00           C  \nATOM     13    O MOL     1      -8.440   2.296  -1.825  1.00  0.00           O  \nATOM     14    C MOL     1      -7.208   1.824  -2.372  1.00  0.00           C  \nATOM     15    C MOL     1      -6.136   1.760  -1.291  1.00  0.00           C  \nATOM     16    O MOL     1      -4.910   1.431  -1.936  1.00  0.00           O  \nATOM     17    C MOL     1      -3.789   1.350  -1.056  1.00  0.00           C  \nATOM     18    C MOL     1      -3.698  -0.027  -0.384  1.00  0.00           C  \nATOM     19    O MOL     1      -2.541  -0.122   0.449  1.00  0.00           O  \nATOM     20    C MOL     1      -1.477  -0.902  -0.081  1.00  0.00           C  \nATOM     21    C MOL     1      -0.806  -0.339  -1.335  1.00  0.00           C  \nATOM     22    O MOL     1      -0.332   0.999  -1.221  1.00  0.00           O  \nATOM     23    C MOL     1       0.653   1.225  -0.218  1.00  0.00           C  \nATOM     24    C MOL     1       1.927   0.387  -0.363  1.00  0.00           C  \nATOM     25    O MOL     1       2.513   0.418  -1.657  1.00  0.00           O  \nATOM     26    C MOL     1       3.029   1.694  -2.025  1.00  0.00           C  \nATOM     27    C MOL     1       3.755   1.581  -3.353  1.00  0.00           C  \nATOM     28    O MOL     1       4.966   0.837  -3.273  1.00  0.00           O  \nATOM     29    C MOL     1       4.836  -0.538  -3.639  1.00  0.00           C  \nATOM     30    C MOL     1       6.183  -1.202  -3.371  1.00  0.00           C  \nATOM     31    O MOL     1       6.208  -2.540  -3.877  1.00  0.00           O  \nATOM     32    C MOL     1       5.669  -3.536  -3.008  1.00  0.00           C  \nATOM     33    C MOL     1       6.701  -4.124  -2.063  1.00  0.00           C  \nATOM     34    O MOL     1       6.936  -3.216  -0.985  1.00  0.00           O  \nATOM     35    C MOL     1       8.186  -3.399  -0.325  1.00  0.00           C  \nATOM     36    C MOL     1       9.276  -2.533  -0.971  1.00  0.00           C  \nATOM     37    O MOL     1      10.534  -2.697  -0.314  1.00  0.00           O  \nATOM     38    C MOL     1      10.691  -1.901   0.862  1.00  0.00           C  \nATOM     39    C MOL     1      11.307  -0.533   0.538  1.00  0.00           C  \nATOM     40    O MOL     1      11.419   0.280   1.704  1.00  0.00           O  \nATOM     41    C MOL     1      12.571  -0.002   2.491  1.00  0.00           C  \nATOM     42    C MOL     1      12.532   0.846   3.751  1.00  0.00           C  \nATOM     43    O MOL     1      12.724   2.242   3.525  1.00  0.00           O  \nATOM     44    C MOL     1      14.089   2.634   3.404  1.00  0.00           C  \nATOM     45    C MOL     1      14.727   2.850   4.775  1.00  0.00           C  \nATOM     46    H MOL     1     -15.736   3.297   2.317  1.00  0.00           H  \nATOM     47    H MOL     1     -14.983   2.298   4.244  1.00  0.00           H  \nATOM     48    H MOL     1     -16.777   2.293   4.256  1.00  0.00           H  \nATOM     49    H MOL     1     -16.074   0.107   4.828  1.00  0.00           H  \nATOM     50    H MOL     1     -16.706   0.009   3.160  1.00  0.00           H  \nATOM     51    H MOL     1     -14.543   0.421   1.416  1.00  0.00           H  \nATOM     52    H MOL     1     -15.343  -1.153   1.699  1.00  0.00           H  \nATOM     53    H MOL     1     -12.375  -0.552   2.226  1.00  0.00           H  \nATOM     54    H MOL     1     -13.169  -2.140   2.445  1.00  0.00           H  \nATOM     55    H MOL     1     -11.815  -3.136   0.829  1.00  0.00           H  \nATOM     56    H MOL     1     -12.039  -2.620  -0.871  1.00  0.00           H  \nATOM     57    H MOL     1     -10.436  -1.027   1.217  1.00  0.00           H  \nATOM     58    H MOL     1      -9.739  -2.217   0.086  1.00  0.00           H  \nATOM     59    H MOL     1      -9.305   0.806   0.250  1.00  0.00           H  \nATOM     60    H MOL     1      -8.474  -0.309  -0.877  1.00  0.00           H  \nATOM     61    H MOL     1      -9.590   0.859  -2.819  1.00  0.00           H  \nATOM     62    H MOL     1     -10.429   1.938  -1.672  1.00  0.00           H  \nATOM     63    H MOL     1      -7.334   0.832  -2.839  1.00  0.00           H  \nATOM     64    H MOL     1      -6.883   2.527  -3.157  1.00  0.00           H  \nATOM     65    H MOL     1      -6.059   2.744  -0.789  1.00  0.00           H  \nATOM     66    H MOL     1      -6.414   1.013  -0.523  1.00  0.00           H  \nATOM     67    H MOL     1      -2.893   1.531  -1.664  1.00  0.00           H  \nATOM     68    H MOL     1      -3.834   2.140  -0.284  1.00  0.00           H  \nATOM     69    H MOL     1      -4.575  -0.196   0.262  1.00  0.00           H  \nATOM     70    H MOL     1      -3.697  -0.814  -1.159  1.00  0.00           H  \nATOM     71    H MOL     1      -0.753  -0.994   0.742  1.00  0.00           H  \nATOM     72    H MOL     1      -1.826  -1.926  -0.327  1.00  0.00           H  \nATOM     73    H MOL     1      -1.516  -0.313  -2.175  1.00  0.00           H  \nATOM     74    H MOL     1       0.008  -1.032  -1.624  1.00  0.00           H  \nATOM     75    H MOL     1       0.246   1.057   0.798  1.00  0.00           H  \nATOM     76    H MOL     1       0.885   2.297  -0.296  1.00  0.00           H  \nATOM     77    H MOL     1       2.647   0.740   0.404  1.00  0.00           H  \nATOM     78    H MOL     1       1.726  -0.676  -0.160  1.00  0.00           H  \nATOM     79    H MOL     1       3.729   2.059  -1.248  1.00  0.00           H  \nATOM     80    H MOL     1       2.213   2.435  -2.134  1.00  0.00           H  \nATOM     81    H MOL     1       4.023   2.598  -3.681  1.00  0.00           H  \nATOM     82    H MOL     1       3.078   1.147  -4.110  1.00  0.00           H  \nATOM     83    H MOL     1       4.032  -1.019  -3.056  1.00  0.00           H  \nATOM     84    H MOL     1       4.592  -0.628  -4.715  1.00  0.00           H  \nATOM     85    H MOL     1       6.969  -0.655  -3.912  1.00  0.00           H  \nATOM     86    H MOL     1       6.418  -1.177  -2.296  1.00  0.00           H  \nATOM     87    H MOL     1       5.293  -4.339  -3.661  1.00  0.00           H  \nATOM     88    H MOL     1       4.817  -3.145  -2.424  1.00  0.00           H  \nATOM     89    H MOL     1       6.331  -5.090  -1.663  1.00  0.00           H  \nATOM     90    H MOL     1       7.630  -4.321  -2.628  1.00  0.00           H  \nATOM     91    H MOL     1       8.497  -4.459  -0.331  1.00  0.00           H  \nATOM     92    H MOL     1       8.034  -3.100   0.723  1.00  0.00           H  \nATOM     93    H MOL     1       8.948  -1.477  -0.972  1.00  0.00           H  \nATOM     94    H MOL     1       9.431  -2.836  -2.017  1.00  0.00           H  \nATOM     95    H MOL     1       9.731  -1.745   1.383  1.00  0.00           H  \nATOM     96    H MOL     1      11.349  -2.471   1.536  1.00  0.00           H  \nATOM     97    H MOL     1      12.289  -0.669   0.049  1.00  0.00           H  \nATOM     98    H MOL     1      10.656   0.018  -0.157  1.00  0.00           H  \nATOM     99    H MOL     1      13.489   0.196   1.904  1.00  0.00           H  \nATOM    100    H MOL     1      12.601  -1.066   2.800  1.00  0.00           H  \nATOM    101    H MOL     1      13.284   0.449   4.459  1.00  0.00           H  \nATOM    102    H MOL     1      11.541   0.748   4.216  1.00  0.00           H  \nATOM    103    H MOL     1      14.682   1.894   2.839  1.00  0.00           H  \nATOM    104    H MOL     1      14.097   3.574   2.836  1.00  0.00           H  \nATOM    105    H MOL     1      14.193   3.650   5.324  1.00  0.00           H  \nATOM    106    H MOL     1      14.649   1.923   5.374  1.00  0.00           H  \nATOM    107    O MOL     1      16.086   3.212   4.559  1.00  0.00           O  \nATOM    108    C MOL     1      16.869   3.263   5.750  1.00  0.00           C  \nATOM    109    C MOL     1      17.271   1.901   6.315  1.00  0.00           C  \nATOM    110    O MOL     1      18.202   1.184   5.516  1.00  0.00           O  \nATOM    111    C MOL     1      17.630   0.512   4.393  1.00  0.00           C  \nATOM    112    C MOL     1      18.724  -0.362   3.802  1.00  0.00           C  \nATOM    113    O MOL     1      18.230  -0.892   2.578  1.00  0.00           O  \nATOM    114    C MOL     1      19.060  -1.897   2.009  1.00  0.00           C  \nATOM    115    C MOL     1      20.431  -1.418   1.560  1.00  0.00           C  \nATOM    116    O MOL     1      20.287  -0.472   0.511  1.00  0.00           O  \nATOM    117    C MOL     1      21.492   0.232   0.243  1.00  0.00           C  \nATOM    118    C MOL     1      21.204   1.210  -0.894  1.00  0.00           C  \nATOM    119    O MOL     1      22.235   2.171  -1.086  1.00  0.00           O  \nATOM    120    C MOL     1      23.435   1.673  -1.680  1.00  0.00           C  \nATOM    121    C MOL     1      24.555   1.591  -0.648  1.00  0.00           C  \nATOM    122    O MOL     1      25.751   1.243  -1.339  1.00  0.00           O  \nATOM    123    C MOL     1      26.885   1.093  -0.485  1.00  0.00           C  \nATOM    124    C MOL     1      26.965  -0.325   0.095  1.00  0.00           C  \nATOM    125    O MOL     1      28.080  -0.465   0.978  1.00  0.00           O  \nATOM    126    C MOL     1      29.191  -1.176   0.446  1.00  0.00           C  \nATOM    127    C MOL     1      29.919  -0.495  -0.713  1.00  0.00           C  \nATOM    128    O MOL     1      30.311   0.855  -0.477  1.00  0.00           O  \nATOM    129    C MOL     1      31.157   1.069   0.648  1.00  0.00           C  \nATOM    130    C MOL     1      32.477   0.294   0.621  1.00  0.00           C  \nATOM    131    O MOL     1      33.213   0.411  -0.589  1.00  0.00           O  \nATOM    132    C MOL     1      33.695   1.728  -0.846  1.00  0.00           C  \nATOM    133    C MOL     1      34.653   1.690  -2.022  1.00  0.00           C  \nATOM    134    O MOL     1      35.869   1.005  -1.735  1.00  0.00           O  \nATOM    135    C MOL     1      35.872  -0.368  -2.131  1.00  0.00           C  \nATOM    136    C MOL     1      37.152  -0.994  -1.588  1.00  0.00           C  \nATOM    137    O MOL     1      37.303  -2.336  -2.057  1.00  0.00           O  \nATOM    138    C MOL     1      36.614  -3.326  -1.292  1.00  0.00           C  \nATOM    139    C MOL     1      37.528  -4.025  -0.302  1.00  0.00           C  \nATOM    140    O MOL     1      37.810  -3.154   0.796  1.00  0.00           O  \nATOM    141    C MOL     1      39.112  -3.312   1.356  1.00  0.00           C  \nATOM    142    C MOL     1      40.134  -2.435   0.619  1.00  0.00           C  \nATOM    143    O MOL     1      41.448  -2.603   1.155  1.00  0.00           O  \nATOM    144    C MOL     1      41.747  -1.752   2.263  1.00  0.00           C  \nATOM    145    C MOL     1      42.245  -0.378   1.793  1.00  0.00           C  \nATOM    146    O MOL     1      42.583   0.474   2.883  1.00  0.00           O  \nATOM    147    C MOL     1      43.892   0.261   3.399  1.00  0.00           C  \nATOM    148    C MOL     1      44.188   1.322   4.447  1.00  0.00           C  \nATOM    149    O MOL     1      44.306   2.638   3.918  1.00  0.00           O  \nATOM    150    C MOL     1      45.593   2.948   3.376  1.00  0.00           C  \nATOM    151    C MOL     1      46.609   3.342   4.442  1.00  0.00           C  \nATOM    152    H MOL     1      17.780   3.819   5.482  1.00  0.00           H  \nATOM    153    H MOL     1      16.334   3.832   6.537  1.00  0.00           H  \nATOM    154    H MOL     1      17.771   2.074   7.281  1.00  0.00           H  \nATOM    155    H MOL     1      16.379   1.276   6.512  1.00  0.00           H  \nATOM    156    H MOL     1      17.275   1.226   3.633  1.00  0.00           H  \nATOM    157    H MOL     1      16.771  -0.109   4.714  1.00  0.00           H  \nATOM    158    H MOL     1      19.623   0.261   3.643  1.00  0.00           H  \nATOM    159    H MOL     1      18.992  -1.177   4.503  1.00  0.00           H  \nATOM    160    H MOL     1      19.208  -2.729   2.729  1.00  0.00           H  \nATOM    161    H MOL     1      18.502  -2.281   1.144  1.00  0.00           H  \nATOM    162    H MOL     1      20.984  -0.967   2.407  1.00  0.00           H  \nATOM    163    H MOL     1      21.018  -2.297   1.222  1.00  0.00           H  \nATOM    164    H MOL     1      21.821   0.794   1.139  1.00  0.00           H  \nATOM    165    H MOL     1      22.302  -0.475  -0.030  1.00  0.00           H  \nATOM    166    H MOL     1      21.007   0.653  -1.830  1.00  0.00           H  \nATOM    167    H MOL     1      20.300   1.781  -0.640  1.00  0.00           H  \nATOM    168    H MOL     1      23.270   0.687  -2.146  1.00  0.00           H  \nATOM    169    H MOL     1      23.734   2.376  -2.474  1.00  0.00           H  \nATOM    170    H MOL     1      24.667   2.573  -0.150  1.00  0.00           H  \nATOM    171    H MOL     1      24.304   0.848   0.132  1.00  0.00           H  \nATOM    172    H MOL     1      27.775   1.309  -1.091  1.00  0.00           H  \nATOM    173    H MOL     1      26.859   1.828   0.340  1.00  0.00           H  \nATOM    174    H MOL     1      26.060  -0.543   0.685  1.00  0.00           H  \nATOM    175    H MOL     1      27.014  -1.062  -0.726  1.00  0.00           H  \nATOM    176    H MOL     1      29.868  -1.323   1.301  1.00  0.00           H  \nATOM    177    H MOL     1      28.882  -2.182   0.095  1.00  0.00           H  \nATOM    178    H MOL     1      29.272  -0.444  -1.602  1.00  0.00           H  \nATOM    179    H MOL     1      30.789  -1.125  -0.982  1.00  0.00           H  \nATOM    180    H MOL     1      30.639   0.830   1.596  1.00  0.00           H  \nATOM    181    H MOL     1      31.346   2.152   0.649  1.00  0.00           H  \nATOM    182    H MOL     1      33.083   0.640   1.483  1.00  0.00           H  \nATOM    183    H MOL     1      32.306  -0.785   0.751  1.00  0.00           H  \nATOM    184    H MOL     1      34.220   2.120   0.047  1.00  0.00           H  \nATOM    185    H MOL     1      32.861   2.414  -1.090  1.00  0.00           H  \nATOM    186    H MOL     1      34.920   2.728  -2.278  1.00  0.00           H  \nATOM    187    H MOL     1      34.151   1.244  -2.899  1.00  0.00           H  \nATOM    188    H MOL     1      34.982  -0.885  -1.736  1.00  0.00           H  \nATOM    189    H MOL     1      35.864  -0.449  -3.235  1.00  0.00           H  \nATOM    190    H MOL     1      38.021  -0.434  -1.964  1.00  0.00           H  \nATOM    191    H MOL     1      37.164  -0.955  -0.487  1.00  0.00           H  \nATOM    192    H MOL     1      36.229  -4.074  -2.004  1.00  0.00           H  \nATOM    193    H MOL     1      35.753  -2.891  -0.757  1.00  0.00           H  \nATOM    194    H MOL     1      37.035  -4.946   0.069  1.00  0.00           H  \nATOM    195    H MOL     1      38.456  -4.319  -0.822  1.00  0.00           H  \nATOM    196    H MOL     1      39.439  -4.367   1.330  1.00  0.00           H  \nATOM    197    H MOL     1      39.037  -3.008   2.411  1.00  0.00           H  \nATOM    198    H MOL     1      39.803  -1.382   0.660  1.00  0.00           H  \nATOM    199    H MOL     1      40.186  -2.726  -0.440  1.00  0.00           H  \nATOM    200    H MOL     1      40.873  -1.619   2.925  1.00  0.00           H  \nATOM    201    H MOL     1      42.530  -2.266   2.839  1.00  0.00           H  \nATOM    202    H MOL     1      43.106  -0.514   1.112  1.00  0.00           H  \nATOM    203    H MOL     1      41.451   0.142   1.237  1.00  0.00           H  \nATOM    204    H MOL     1      44.632   0.301   2.576  1.00  0.00           H  \nATOM    205    H MOL     1      43.984  -0.735   3.877  1.00  0.00           H  \nATOM    206    H MOL     1      45.099   1.026   5.001  1.00  0.00           H  \nATOM    207    H MOL     1      43.355   1.356   5.165  1.00  0.00           H  \nATOM    208    H MOL     1      45.974   2.105   2.769  1.00  0.00           H  \nATOM    209    H MOL     1      45.419   3.789   2.689  1.00  0.00           H  \nATOM    210    H MOL     1      46.238   4.195   5.026  1.00  0.00           H  \nATOM    211    H MOL     1      46.818   2.515   5.135  1.00  0.00           H  \nATOM    212    H MOL     1      47.560   3.630   3.971  1.00  0.00           H  \nENDMDL\n",
           "type": "blob"
          }
         ],
         "kwargs": {
          "defaultRepresentation": false,
          "ext": "pdb"
         },
         "methodName": "loadFile",
         "reconstruc_color_scheme": false,
         "target": "Stage",
         "type": "call_method"
        },
        {
         "args": [
          "500px",
          "500px"
         ],
         "kwargs": {},
         "methodName": "setSize",
         "reconstruc_color_scheme": false,
         "target": "Widget",
         "type": "call_method"
        },
        {
         "args": [
          "unitcell"
         ],
         "component_index": 0,
         "kwargs": {
          "sele": "all"
         },
         "methodName": "addRepresentation",
         "reconstruc_color_scheme": false,
         "target": "compList",
         "type": "call_method"
        },
        {
         "args": [
          "spacefill"
         ],
         "component_index": 0,
         "kwargs": {
          "sele": "all"
         },
         "methodName": "addRepresentation",
         "reconstruc_color_scheme": false,
         "target": "compList",
         "type": "call_method"
        },
        {
         "args": [],
         "kwargs": {
          "cameraType": "orthographic"
         },
         "methodName": "setParameters",
         "reconstruc_color_scheme": false,
         "target": "Stage",
         "type": "call_method"
        },
        {
         "args": [
          {
           "clipDist": 0
          }
         ],
         "kwargs": {},
         "methodName": "setParameters",
         "reconstruc_color_scheme": false,
         "target": "Widget",
         "type": "call_method"
        },
        {
         "args": [
          "spacefill",
          0
         ],
         "kwargs": {
          "colorScale": "rainbow",
          "colorScheme": "element",
          "radiusScale": 0.5,
          "radiusType": "covalent"
         },
         "methodName": "updateRepresentationsByName",
         "reconstruc_color_scheme": false,
         "target": "Widget",
         "type": "call_method"
        },
        {
         "args": [
          "this._Q = [[1.0, 0.0, 0.0], [0.0, 1.0, 0.0], [0.0, 0.0, 1.0]]\n    var tooltip = document.createElement('div');\n    Object.assign(tooltip.style, {\n      display: 'none',\n      position: 'fixed',\n      zIndex: 10,\n      pointerEvents: 'none',\n      backgroundColor: 'rgba( 0, 0, 0, 0.6 )',\n      color: 'lightgrey',\n      padding: '8px',\n      fontFamily: 'sans-serif'\n    });\n    document.body.appendChild(tooltip);\n\n    var that = this;\n    this.stage.mouseControls.remove('hoverPick');\n    this.stage.signals.hovered.add(function (pickingProxy) {\n      if (pickingProxy && (pickingProxy.atom || pickingProxy.bond)) {\n        var atom = pickingProxy.atom || pickingProxy.closestBondAtom\n        var mp = pickingProxy.mouse.position\n        //tooltip.innerText = atom.element + ' i=' + atom.index + ' (' + atom.x.toFixed(2) +  ', ' + atom.y.toFixed(2) +  ', ' + atom.z.toFixed(2) + ')'\n        //var pos = that._atoms_pos[atom.index]\n        var Q = that._Q\n        var pos_x = Q[0][0] * atom.x + Q[0][1] * atom.y + Q[0][2] * atom.z \n        var pos_y = Q[1][0] * atom.x + Q[1][1] * atom.y + Q[1][2] * atom.z\n        var pos_z = Q[2][0] * atom.x + Q[2][1] * atom.y + Q[2][2] * atom.z\n        tooltip.innerText = 'i=' + atom.index + ' ' + atom.element + ' (' + pos_x.toFixed(2) +  ', ' + pos_y.toFixed(2) +  ', ' + pos_z.toFixed(2) + ')'\n        tooltip.style.bottom = window.innerHeight - mp.y + 3 + 'px'\n        tooltip.style.left = mp.x + 3 + 'px'\n        tooltip.style.display = 'block'\n      } else {\n        tooltip.style.display = 'none'\n      }\n    });\n    this.stage.tooltip = tooltip;\n    "
         ],
         "kwargs": {},
         "methodName": "executeCode",
         "reconstruc_color_scheme": false,
         "target": "Widget",
         "type": "call_method"
        }
       ],
       "_ngl_original_stage_parameters": {
        "ambientColor": 14540253,
        "ambientIntensity": 0.2,
        "backgroundColor": "white",
        "cameraEyeSep": 0.3,
        "cameraFov": 40,
        "cameraType": "perspective",
        "clipDist": 10,
        "clipFar": 100,
        "clipMode": "scene",
        "clipNear": 0,
        "clipScale": "relative",
        "fogFar": 100,
        "fogNear": 50,
        "hoverTimeout": 0,
        "impostor": true,
        "lightColor": 14540253,
        "lightIntensity": 1,
        "mousePreset": "default",
        "panSpeed": 1,
        "quality": "medium",
        "rotateSpeed": 2,
        "sampleLevel": 0,
        "tooltip": true,
        "workerDefault": true,
        "zoomSpeed": 1.2
       },
       "_ngl_repr_dict": {},
       "_ngl_serialize": false,
       "_ngl_version": "2.0.0-dev.39",
       "_ngl_view_id": [
        "0CDBFAE3-0758-4BC0-818B-75AFAA201017"
       ],
       "_player_dict": {},
       "_scene_position": {},
       "_scene_rotation": {},
       "_synced_model_ids": [],
       "_synced_repr_model_ids": [],
       "_view_height": "",
       "_view_width": "",
       "background": "white",
       "frame": 0,
       "gui_style": null,
       "layout": "IPY_MODEL_de81beb9ab604341ac4b48bcb0bfcd56",
       "max_frame": 0,
       "n_components": 0,
       "picked": {}
      }
     },
     "182dcc425abd494d94eb6bf7abc33aaf": {
      "model_module": "@jupyter-widgets/base",
      "model_module_version": "2.0.0",
      "model_name": "LayoutModel",
      "state": {}
     },
     "182ec5e2930040b89ce6124ebaad1977": {
      "model_module": "@jupyter-widgets/controls",
      "model_module_version": "2.0.0",
      "model_name": "SliderStyleModel",
      "state": {
       "description_width": ""
      }
     },
     "19566b0703ab40a59d9916eb233ae2fc": {
      "model_module": "@jupyter-widgets/base",
      "model_module_version": "2.0.0",
      "model_name": "LayoutModel",
      "state": {}
     },
     "1bb76a7c741242e994b0489f4e42da79": {
      "model_module": "@jupyter-widgets/controls",
      "model_module_version": "2.0.0",
      "model_name": "SliderStyleModel",
      "state": {
       "description_width": ""
      }
     },
     "1cd369f10618455ebfaa9644606d7183": {
      "model_module": "@jupyter-widgets/controls",
      "model_module_version": "2.0.0",
      "model_name": "DescriptionStyleModel",
      "state": {
       "description_width": ""
      }
     },
     "1edacda19d434639b14e194192c7c04c": {
      "model_module": "@jupyter-widgets/controls",
      "model_module_version": "2.0.0",
      "model_name": "VBoxModel",
      "state": {
       "children": [
        "IPY_MODEL_f3c73d5aa8c14acea23414fd0ce7ed98",
        "IPY_MODEL_c83ed61c2b8d495c8e0caf298fecb4dd",
        "IPY_MODEL_8c1db4d7df5442d4bd329297ecc52682",
        "IPY_MODEL_db1856457e63438f8ca6f15d62ecaced",
        "IPY_MODEL_6527d45268354aeb986cc86065c65815",
        "IPY_MODEL_e3b1ea1f58124319973ee5bd053d1cd0",
        "IPY_MODEL_543e06cefcbc4ec39b3e31f6f5727324",
        "IPY_MODEL_81560599cf8a410a991514533f9048e8",
        "IPY_MODEL_a235b8034df448aca6c65824393ffa6c",
        "IPY_MODEL_f53951c6d87143ecb7b74d1b4f97fc0f"
       ],
       "layout": "IPY_MODEL_02df0fc4346a40b3972b6955d9a2de54"
      }
     },
     "1f24a8bc11534666b0e5b46dd7470cf0": {
      "model_module": "@jupyter-widgets/base",
      "model_module_version": "2.0.0",
      "model_name": "LayoutModel",
      "state": {}
     },
     "1ffbd680eef94e3c8081ee3dabe8262e": {
      "model_module": "@jupyter-widgets/controls",
      "model_module_version": "2.0.0",
      "model_name": "ButtonModel",
      "state": {
       "description": "Download image",
       "layout": "IPY_MODEL_c8f9d0808b834e7d883b70236b473ac9",
       "style": "IPY_MODEL_db22155907b44f70a9986d17f7f504d1",
       "tooltip": "Download current frame to your local PC"
      }
     },
     "2054e983c5124881bba3be5e3e339d67": {
      "model_module": "@jupyter-widgets/base",
      "model_module_version": "2.0.0",
      "model_name": "LayoutModel",
      "state": {}
     },
     "206f4113f41b49b1aa66ec4225720e99": {
      "model_module": "@jupyter-widgets/controls",
      "model_module_version": "2.0.0",
      "model_name": "ButtonStyleModel",
      "state": {
       "font_family": null,
       "font_size": null,
       "font_style": null,
       "font_variant": null,
       "font_weight": null,
       "text_color": null,
       "text_decoration": null
      }
     },
     "230d7eb5b29e4eaba7aaa4f0a66d1b14": {
      "model_module": "@jupyter-widgets/base",
      "model_module_version": "2.0.0",
      "model_name": "LayoutModel",
      "state": {}
     },
     "24d1bf6ffda24e44ab40f59e42b42eaf": {
      "model_module": "@jupyter-widgets/base",
      "model_module_version": "2.0.0",
      "model_name": "LayoutModel",
      "state": {}
     },
     "251318ef90e245ba9556c7fdfe6c9973": {
      "model_module": "@jupyter-widgets/base",
      "model_module_version": "2.0.0",
      "model_name": "LayoutModel",
      "state": {}
     },
     "29267e3599a34b8baab7884f7af1629d": {
      "model_module": "@jupyter-widgets/controls",
      "model_module_version": "2.0.0",
      "model_name": "ProgressStyleModel",
      "state": {
       "description_width": ""
      }
     },
     "2acafc0d14a7453ba8a8cfcc9d073518": {
      "model_module": "@jupyter-widgets/controls",
      "model_module_version": "2.0.0",
      "model_name": "FloatSliderModel",
      "state": {
       "behavior": "drag-tap",
       "description": "Ball size",
       "layout": "IPY_MODEL_2054e983c5124881bba3be5e3e339d67",
       "max": 1.5,
       "step": 0.01,
       "style": "IPY_MODEL_15bab258b55e495b847ad5c8d5faac4d",
       "value": 0.49999999999999994
      }
     },
     "2c9dbc81693f4e188be1ec8edc5919cb": {
      "model_module": "@jupyter-widgets/controls",
      "model_module_version": "2.0.0",
      "model_name": "LinkModel",
      "state": {
       "source": [
        "IPY_MODEL_639c48df8f494707952e320bde15f2f5",
        "max"
       ],
       "target": [
        "IPY_MODEL_17bb9af81c1744838ada62625b439a94",
        "max_frame"
       ]
      }
     },
     "2ea3e41798db47e099af25c7065f80fa": {
      "model_module": "@jupyter-widgets/base",
      "model_module_version": "2.0.0",
      "model_name": "LayoutModel",
      "state": {}
     },
     "2ef0d454c47f44f9ab5e8cb557a045c5": {
      "model_module": "@jupyter-widgets/controls",
      "model_module_version": "2.0.0",
      "model_name": "FloatSliderModel",
      "state": {
       "behavior": "drag-tap",
       "description": "Force scale",
       "layout": "IPY_MODEL_bd6d4466ff8743e88463cf0280227ba2",
       "step": 0.1,
       "style": "IPY_MODEL_9707153486154b369c10a2738fb20c66",
       "value": 0.5
      }
     },
     "3103e70a23b94bfe9665635f7bd831ce": {
      "model_module": "@jupyter-widgets/controls",
      "model_module_version": "2.0.0",
      "model_name": "CheckboxModel",
      "state": {
       "description": "Show charge",
       "disabled": false,
       "layout": "IPY_MODEL_1f24a8bc11534666b0e5b46dd7470cf0",
       "style": "IPY_MODEL_57b7ae0f5f8541e8b7b60a56e0a46b97",
       "value": false
      }
     },
     "313a7f2062144924ac37cfb3ff6d5730": {
      "model_module": "@jupyter-widgets/controls",
      "model_module_version": "2.0.0",
      "model_name": "HBoxModel",
      "state": {
       "children": [
        "IPY_MODEL_6255683e4c0e4ebf9ce73227cf83a956",
        "IPY_MODEL_1edacda19d434639b14e194192c7c04c"
       ],
       "layout": "IPY_MODEL_54ddb5ecf01a49449f7302290a06c635"
      }
     },
     "33a2ad780f5649d193727393b68e3f6f": {
      "model_module": "@jupyter-widgets/controls",
      "model_module_version": "2.0.0",
      "model_name": "HBoxModel",
      "state": {
       "children": [
        "IPY_MODEL_c5291035b6df402aaf35f87d1691778b",
        "IPY_MODEL_f39785ac4b4a48f8855cb397b6ce3653",
        "IPY_MODEL_0cd96476a6cd42b7ad935f74aee22b16"
       ],
       "layout": "IPY_MODEL_c65d8efc78c74ddf96d77c1505b4ea57"
      }
     },
     "367d8ebb53b94071a875da8e468f6c02": {
      "model_module": "@jupyter-widgets/controls",
      "model_module_version": "2.0.0",
      "model_name": "ButtonModel",
      "state": {
       "description": "Save image",
       "layout": "IPY_MODEL_abc767a3ce404b75bd26ed3993b9966a",
       "style": "IPY_MODEL_5c86ca6fb0a840b79b2822bf22793886",
       "tooltip": "Save current frame to file.\nCurrently .png and .html are supported.\nIt takes a bit time, please be patient."
      }
     },
     "394ba9273fa14062b7e67b3ee07f747d": {
      "model_module": "@jupyter-widgets/controls",
      "model_module_version": "2.0.0",
      "model_name": "FloatProgressModel",
      "state": {
       "bar_style": "success",
       "layout": "IPY_MODEL_ae9708bf5bbd41d8be177a47ec8aece2",
       "max": 10001,
       "style": "IPY_MODEL_99e6827686204612afae049e071503fd",
       "value": 10001
      }
     },
     "3b724030b04c46c38e7890d41e6ac341": {
      "model_module": "@jupyter-widgets/base",
      "model_module_version": "2.0.0",
      "model_name": "LayoutModel",
      "state": {}
     },
     "3c4e04b851ef4690ac746d571bd19c2e": {
      "model_module": "@jupyter-widgets/controls",
      "model_module_version": "2.0.0",
      "model_name": "SliderStyleModel",
      "state": {
       "description_width": ""
      }
     },
     "3cef0dcc85c440fab5c59e1993ac56a2": {
      "model_module": "@jupyter-widgets/controls",
      "model_module_version": "2.0.0",
      "model_name": "PlayModel",
      "state": {
       "layout": "IPY_MODEL_f670452e60f6411bbe397144adcb1463",
       "max": 0,
       "style": "IPY_MODEL_f2249d5f48d94d03b30f3c703ae4056a"
      }
     },
     "3e00fb27c1c147148a3930eda240de57": {
      "model_module": "@jupyter-widgets/controls",
      "model_module_version": "2.0.0",
      "model_name": "DescriptionStyleModel",
      "state": {
       "description_width": ""
      }
     },
     "3e631d092b384827a3334b9377576f5b": {
      "model_module": "@jupyter-widgets/base",
      "model_module_version": "2.0.0",
      "model_name": "LayoutModel",
      "state": {}
     },
     "40d32e75c13043e883c4dbfa623c66e6": {
      "model_module": "@jupyter-widgets/output",
      "model_module_version": "1.0.0",
      "model_name": "OutputModel",
      "state": {
       "layout": "IPY_MODEL_68cc64292b384e7cbeec3e1b4f7fa586"
      }
     },
     "42d6af7218bf465d9a97e1df607b2b25": {
      "model_module": "@jupyter-widgets/controls",
      "model_module_version": "2.0.0",
      "model_name": "ProgressStyleModel",
      "state": {
       "description_width": ""
      }
     },
     "43d50985dc0d4c8cbc6d920974789934": {
      "model_module": "@jupyter-widgets/controls",
      "model_module_version": "2.0.0",
      "model_name": "LinkModel",
      "state": {
       "source": [
        "IPY_MODEL_639c48df8f494707952e320bde15f2f5",
        "value"
       ],
       "target": [
        "IPY_MODEL_e03a310454b448feb2b40972461665b0",
        "value"
       ]
      }
     },
     "46a4b05409e349e8b235fa5cc82a4a99": {
      "model_module": "@jupyter-widgets/base",
      "model_module_version": "2.0.0",
      "model_name": "LayoutModel",
      "state": {}
     },
     "4721820fa76e4530bce8302d045c31d5": {
      "model_module": "@jupyter-widgets/base",
      "model_module_version": "2.0.0",
      "model_name": "LayoutModel",
      "state": {}
     },
     "48a5076aae3343c8ad54743ec20f056c": {
      "model_module": "@jupyter-widgets/base",
      "model_module_version": "2.0.0",
      "model_name": "LayoutModel",
      "state": {}
     },
     "48f566780ffb481fb00c9ac69e5d4235": {
      "model_module": "@jupyter-widgets/controls",
      "model_module_version": "2.0.0",
      "model_name": "LinkModel",
      "state": {
       "source": [
        "IPY_MODEL_16ed1676f19c45b0a258498d8684f5af",
        "max"
       ],
       "target": [
        "IPY_MODEL_bf1faf2428e140c7a1d51f256b39a972",
        "max_frame"
       ]
      }
     },
     "49108524e5f14a8a879caa85fafae7c5": {
      "model_module": "@jupyter-widgets/base",
      "model_module_version": "2.0.0",
      "model_name": "LayoutModel",
      "state": {}
     },
     "4af556ed89bb4f1b9312aec0c08bde8a": {
      "model_module": "@jupyter-widgets/controls",
      "model_module_version": "2.0.0",
      "model_name": "HTMLStyleModel",
      "state": {
       "description_width": "",
       "font_size": null,
       "text_color": null
      }
     },
     "4b9527f83b21432ab4a95ef4d5de555e": {
      "model_module": "@jupyter-widgets/controls",
      "model_module_version": "2.0.0",
      "model_name": "HTMLStyleModel",
      "state": {
       "description_width": "",
       "font_size": null,
       "text_color": null
      }
     },
     "4d7568df4d3a4f50a22bae15bcc7432f": {
      "model_module": "@jupyter-widgets/base",
      "model_module_version": "2.0.0",
      "model_name": "LayoutModel",
      "state": {}
     },
     "4ef8f8602e87444092dcc2221594ce8a": {
      "model_module": "@jupyter-widgets/controls",
      "model_module_version": "2.0.0",
      "model_name": "LinkModel",
      "state": {
       "source": [
        "IPY_MODEL_3cef0dcc85c440fab5c59e1993ac56a2",
        "value"
       ],
       "target": [
        "IPY_MODEL_6255683e4c0e4ebf9ce73227cf83a956",
        "frame"
       ]
      }
     },
     "522d28bb34a9470da5115e51ac9c5dcf": {
      "model_module": "@jupyter-widgets/controls",
      "model_module_version": "2.0.0",
      "model_name": "DropdownModel",
      "state": {
       "_options_labels": [
        "All",
        "O",
        "H",
        "Fe",
        "C"
       ],
       "description": "Show",
       "index": 0,
       "layout": "IPY_MODEL_5bef6c4e457e433cacb5385402c2249f",
       "style": "IPY_MODEL_f3f20db88f2a43309daae21f603840bc"
      }
     },
     "5363a59e107e46999a36912ce0c6c86a": {
      "model_module": "@jupyter-widgets/controls",
      "model_module_version": "2.0.0",
      "model_name": "FloatSliderModel",
      "state": {
       "behavior": "drag-tap",
       "description": "Ball size",
       "layout": "IPY_MODEL_d26eaa8663e6401bb2d8952a7d3b5c92",
       "max": 1.5,
       "step": 0.01,
       "style": "IPY_MODEL_182ec5e2930040b89ce6124ebaad1977",
       "value": 0.49999999999999994
      }
     },
     "543e06cefcbc4ec39b3e31f6f5727324": {
      "model_module": "@jupyter-widgets/controls",
      "model_module_version": "2.0.0",
      "model_name": "FloatSliderModel",
      "state": {
       "behavior": "drag-tap",
       "description": "Force scale",
       "layout": "IPY_MODEL_fe68a5912a6a4d709d400f5b73615213",
       "step": 0.1,
       "style": "IPY_MODEL_5cc63c5326864cee86feb79a686c2b80",
       "value": 0.5
      }
     },
     "546c833c1e0d4f52913e9663ba6a1c98": {
      "model_module": "@jupyter-widgets/controls",
      "model_module_version": "2.0.0",
      "model_name": "DescriptionStyleModel",
      "state": {
       "description_width": ""
      }
     },
     "54ddb5ecf01a49449f7302290a06c635": {
      "model_module": "@jupyter-widgets/base",
      "model_module_version": "2.0.0",
      "model_name": "LayoutModel",
      "state": {}
     },
     "57b7ae0f5f8541e8b7b60a56e0a46b97": {
      "model_module": "@jupyter-widgets/controls",
      "model_module_version": "2.0.0",
      "model_name": "CheckboxStyleModel",
      "state": {
       "description_width": ""
      }
     },
     "57f5c87fb67f4bb4a9e4379ec283073f": {
      "model_module": "@jupyter-widgets/controls",
      "model_module_version": "2.0.0",
      "model_name": "LinkModel",
      "state": {
       "source": [
        "IPY_MODEL_639c48df8f494707952e320bde15f2f5",
        "value"
       ],
       "target": [
        "IPY_MODEL_17bb9af81c1744838ada62625b439a94",
        "frame"
       ]
      }
     },
     "58f6b7f2f3444beda0e21eef6fa8e9f3": {
      "model_module": "@jupyter-widgets/controls",
      "model_module_version": "2.0.0",
      "model_name": "HBoxModel",
      "state": {
       "children": [
        "IPY_MODEL_dd2e444fef4140649d63dff2e79b4a5b",
        "IPY_MODEL_ed6228899192494eb52419c5a25704fd",
        "IPY_MODEL_74bbf8817238456799fdd683dd3d34b5"
       ],
       "layout": "IPY_MODEL_a142b9fd2d364d7b9beae6c0d6d459d4"
      }
     },
     "5a7e28aaeb664464a702eb374fc90af1": {
      "model_module": "@jupyter-widgets/base",
      "model_module_version": "2.0.0",
      "model_name": "LayoutModel",
      "state": {}
     },
     "5bef6c4e457e433cacb5385402c2249f": {
      "model_module": "@jupyter-widgets/base",
      "model_module_version": "2.0.0",
      "model_name": "LayoutModel",
      "state": {}
     },
     "5c3a59e690d64c38bb44ddd06771b190": {
      "model_module": "@jupyter-widgets/base",
      "model_module_version": "2.0.0",
      "model_name": "LayoutModel",
      "state": {}
     },
     "5c50a780b04648e797061668f7908d2c": {
      "model_module": "@jupyter-widgets/controls",
      "model_module_version": "2.0.0",
      "model_name": "CheckboxModel",
      "state": {
       "description": "Show charge",
       "disabled": false,
       "layout": "IPY_MODEL_5dcfafc20f674e86a7a7f112fea6440e",
       "style": "IPY_MODEL_9f468f703b6a41c8b20dca4bdd4dd815",
       "value": false
      }
     },
     "5c86ca6fb0a840b79b2822bf22793886": {
      "model_module": "@jupyter-widgets/controls",
      "model_module_version": "2.0.0",
      "model_name": "ButtonStyleModel",
      "state": {
       "font_family": null,
       "font_size": null,
       "font_style": null,
       "font_variant": null,
       "font_weight": null,
       "text_color": null,
       "text_decoration": null
      }
     },
     "5ca1226beda44f6da3ce82ec50a29117": {
      "model_module": "@jupyter-widgets/base",
      "model_module_version": "2.0.0",
      "model_name": "LayoutModel",
      "state": {}
     },
     "5ca9cf253db649deb126675007bac62c": {
      "model_module": "@jupyter-widgets/base",
      "model_module_version": "2.0.0",
      "model_name": "LayoutModel",
      "state": {}
     },
     "5cc63c5326864cee86feb79a686c2b80": {
      "model_module": "@jupyter-widgets/controls",
      "model_module_version": "2.0.0",
      "model_name": "SliderStyleModel",
      "state": {
       "description_width": ""
      }
     },
     "5dcfafc20f674e86a7a7f112fea6440e": {
      "model_module": "@jupyter-widgets/base",
      "model_module_version": "2.0.0",
      "model_name": "LayoutModel",
      "state": {}
     },
     "5e2b449862e94039a699936a12560a2a": {
      "model_module": "@jupyter-widgets/controls",
      "model_module_version": "2.0.0",
      "model_name": "ImageModel",
      "state": {
       "layout": "IPY_MODEL_97c2468a971e44a3903228d2d51ace45",
       "width": "900.0"
      }
     },
     "5e450fcb5cb7481ca124a7250f9676c1": {
      "model_module": "@jupyter-widgets/base",
      "model_module_version": "2.0.0",
      "model_name": "LayoutModel",
      "state": {}
     },
     "5f71dd343bec426188265c5c3d973c85": {
      "model_module": "@jupyter-widgets/controls",
      "model_module_version": "2.0.0",
      "model_name": "IntSliderModel",
      "state": {
       "behavior": "drag-tap",
       "layout": "IPY_MODEL_49108524e5f14a8a879caa85fafae7c5",
       "max": 0,
       "style": "IPY_MODEL_1bb76a7c741242e994b0489f4e42da79"
      }
     },
     "5fcf8b1246cf4ce8bb22bb00b0898e88": {
      "model_module": "@jupyter-widgets/base",
      "model_module_version": "2.0.0",
      "model_name": "LayoutModel",
      "state": {}
     },
     "604d61595c04432fa4ada96acaada4db": {
      "model_module": "@jupyter-widgets/controls",
      "model_module_version": "2.0.0",
      "model_name": "DropdownModel",
      "state": {
       "_options_labels": [
        "All",
        "O",
        "H",
        "C"
       ],
       "description": "Show",
       "index": 0,
       "layout": "IPY_MODEL_5a7e28aaeb664464a702eb374fc90af1",
       "style": "IPY_MODEL_7854f346bae748fb897343eb00813dca"
      }
     },
     "61b0dc4570814f1fae45728e55474bd5": {
      "model_module": "@jupyter-widgets/controls",
      "model_module_version": "2.0.0",
      "model_name": "ButtonModel",
      "state": {
       "description": "Save image",
       "layout": "IPY_MODEL_f396edd73064483ebb7b29a65f7026f1",
       "style": "IPY_MODEL_07e03c43f0664a8cad4cc29f0cbe4651",
       "tooltip": "Save current frame to file.\nCurrently .png and .html are supported.\nIt takes a bit time, please be patient."
      }
     },
     "6255683e4c0e4ebf9ce73227cf83a956": {
      "model_module": "nglview-js-widgets",
      "model_module_version": "3.0.6",
      "model_name": "NGLModel",
      "state": {
       "_camera_orientation": [
        127.5078459624674,
        0,
        0,
        0,
        0,
        127.5078459624674,
        0,
        0,
        0,
        0,
        127.5078459624674,
        0,
        0,
        0,
        0,
        1
       ],
       "_camera_str": "orthographic",
       "_gui_theme": null,
       "_ibtn_fullscreen": "IPY_MODEL_6c4dc7b8f0b847eba745351d96de43fb",
       "_igui": null,
       "_iplayer": "IPY_MODEL_8e543648161544028487a3c70d7d461c",
       "_ngl_color_dict": {},
       "_ngl_coordinate_resource": {},
       "_ngl_full_stage_parameters": {
        "ambientColor": 14540253,
        "ambientIntensity": 0.2,
        "backgroundColor": "white",
        "cameraEyeSep": 0.3,
        "cameraFov": 40,
        "cameraType": "perspective",
        "clipDist": 10,
        "clipFar": 100,
        "clipMode": "scene",
        "clipNear": 0,
        "clipScale": "relative",
        "fogFar": 100,
        "fogNear": 50,
        "hoverTimeout": 0,
        "impostor": true,
        "lightColor": 14540253,
        "lightIntensity": 1,
        "mousePreset": "default",
        "panSpeed": 1,
        "quality": "medium",
        "rotateSpeed": 2,
        "sampleLevel": 0,
        "tooltip": true,
        "workerDefault": true,
        "zoomSpeed": 1.2
       },
       "_ngl_msg_archive": [
        {
         "args": [
          {
           "binary": false,
           "data": "CRYST1   19.457   19.457  518.443  90.00  90.00 110.22 P 1\nMODEL     1\nATOM      1   Fe MOL     1       0.000   0.000 508.442  1.00  0.00          FE  \nATOM      2   Fe MOL     1       0.796   1.141 510.448  1.00  0.00          FE  \nATOM      3   Fe MOL     1       0.000  -0.000 512.459  1.00  0.00          FE  \nATOM      4   Fe MOL     1       0.796   1.141 514.457  1.00  0.00          FE  \nATOM      5   Fe MOL     1       0.000  -0.000 516.451  1.00  0.00          FE  \nATOM      6   Fe MOL     1       0.796   1.141   0.000  1.00  0.00          FE  \nATOM      7   Fe MOL     1       2.432  -0.000   1.987  1.00  0.00          FE  \nATOM      8   Fe MOL     1       0.796   1.141   3.985  1.00  0.00          FE  \nATOM      9   Fe MOL     1      -0.000   0.000   5.996  1.00  0.00          FE  \nATOM     10   Fe MOL     1       0.796   1.141   8.002  1.00  0.00          FE  \nATOM     11   Fe MOL     1      -0.840   2.282 508.442  1.00  0.00          FE  \nATOM     12   Fe MOL     1      -0.045   3.423 510.448  1.00  0.00          FE  \nATOM     13   Fe MOL     1      -0.840   2.282 512.460  1.00  0.00          FE  \nATOM     14   Fe MOL     1      -0.045   3.423 514.457  1.00  0.00          FE  \nATOM     15   Fe MOL     1      -0.841   2.282 516.451  1.00  0.00          FE  \nATOM     16   Fe MOL     1      -0.045   3.423   0.000  1.00  0.00          FE  \nATOM     17   Fe MOL     1       1.592   2.282   1.987  1.00  0.00          FE  \nATOM     18   Fe MOL     1      -0.045   3.423   3.985  1.00  0.00          FE  \nATOM     19   Fe MOL     1      -0.840   2.283   5.996  1.00  0.00          FE  \nATOM     20   Fe MOL     1      -0.044   3.423   8.002  1.00  0.00          FE  \nATOM     21   Fe MOL     1      -1.681   4.564 508.442  1.00  0.00          FE  \nATOM     22   Fe MOL     1      -0.885   5.706 510.448  1.00  0.00          FE  \nATOM     23   Fe MOL     1      -1.681   4.565 512.459  1.00  0.00          FE  \nATOM     24   Fe MOL     1      -0.885   5.706 514.457  1.00  0.00          FE  \nATOM     25   Fe MOL     1      -1.681   4.565 516.451  1.00  0.00          FE  \nATOM     26   Fe MOL     1      -0.885   5.706   0.000  1.00  0.00          FE  \nATOM     27   Fe MOL     1       0.751   4.565   1.987  1.00  0.00          FE  \nATOM     28   Fe MOL     1      -0.885   5.706   3.985  1.00  0.00          FE  \nATOM     29   Fe MOL     1      -1.681   4.565   5.996  1.00  0.00          FE  \nATOM     30   Fe MOL     1      -0.885   5.705   8.003  1.00  0.00          FE  \nATOM     31   Fe MOL     1      -2.522   6.847 508.442  1.00  0.00          FE  \nATOM     32   Fe MOL     1      -1.726   7.988 510.448  1.00  0.00          FE  \nATOM     33   Fe MOL     1      -2.521   6.847 512.459  1.00  0.00          FE  \nATOM     34   Fe MOL     1      -1.726   7.988 514.457  1.00  0.00          FE  \nATOM     35   Fe MOL     1      -2.521   6.847 516.451  1.00  0.00          FE  \nATOM     36   Fe MOL     1      -1.726   7.988   0.000  1.00  0.00          FE  \nATOM     37   Fe MOL     1      -0.089   6.847   1.987  1.00  0.00          FE  \nATOM     38   Fe MOL     1      -1.726   7.988   3.985  1.00  0.00          FE  \nATOM     39   Fe MOL     1      -2.521   6.847   5.996  1.00  0.00          FE  \nATOM     40   Fe MOL     1      -1.726   7.988   8.001  1.00  0.00          FE  \nATOM     41   Fe MOL     1      -3.362   9.129 508.442  1.00  0.00          FE  \nATOM     42   Fe MOL     1      -2.566  10.270 510.448  1.00  0.00          FE  \nATOM     43   Fe MOL     1      -3.362   9.129 512.460  1.00  0.00          FE  \nATOM     44   Fe MOL     1      -2.566  10.270 514.457  1.00  0.00          FE  \nATOM     45   Fe MOL     1      -3.362   9.129 516.451  1.00  0.00          FE  \nATOM     46   Fe MOL     1      -2.566  10.270  -0.000  1.00  0.00          FE  \nATOM     47   Fe MOL     1      -0.930   9.129   1.987  1.00  0.00          FE  \nATOM     48   Fe MOL     1      -2.566  10.270   3.985  1.00  0.00          FE  \nATOM     49   Fe MOL     1      -3.362   9.129   5.996  1.00  0.00          FE  \nATOM     50   Fe MOL     1      -2.566  10.270   8.003  1.00  0.00          FE  \nATOM     51   Fe MOL     1      -4.202  11.412 508.442  1.00  0.00          FE  \nATOM     52   Fe MOL     1      -3.407  12.553 510.448  1.00  0.00          FE  \nATOM     53   Fe MOL     1      -4.202  11.411 512.460  1.00  0.00          FE  \nATOM     54   Fe MOL     1      -3.407  12.552 514.457  1.00  0.00          FE  \nATOM     55   Fe MOL     1      -4.202  11.411 516.452  1.00  0.00          FE  \nATOM     56   Fe MOL     1      -3.407  12.552  -0.000  1.00  0.00          FE  \nATOM     57   Fe MOL     1      -1.770  11.411   1.987  1.00  0.00          FE  \nATOM     58   Fe MOL     1      -3.407  12.553   3.985  1.00  0.00          FE  \nATOM     59   Fe MOL     1      -4.202  11.411   5.996  1.00  0.00          FE  \nATOM     60   Fe MOL     1      -3.407  12.552   8.003  1.00  0.00          FE  \nATOM     61   Fe MOL     1      -5.043  13.694 508.442  1.00  0.00          FE  \nATOM     62   Fe MOL     1      -4.247  14.835 510.448  1.00  0.00          FE  \nATOM     63   Fe MOL     1      -5.043  13.693 512.460  1.00  0.00          FE  \nATOM     64   Fe MOL     1      -4.247  14.835 514.457  1.00  0.00          FE  \nATOM     65   Fe MOL     1      -5.043  13.694 516.451  1.00  0.00          FE  \nATOM     66   Fe MOL     1      -4.247  14.835   0.000  1.00  0.00          FE  \nATOM     67   Fe MOL     1      -2.611  13.694   1.987  1.00  0.00          FE  \nATOM     68   Fe MOL     1      -4.247  14.835   3.985  1.00  0.00          FE  \nATOM     69   Fe MOL     1      -5.043  13.694   5.996  1.00  0.00          FE  \nATOM     70   Fe MOL     1      -4.247  14.835   8.003  1.00  0.00          FE  \nATOM     71   Fe MOL     1      -5.884  15.976 508.442  1.00  0.00          FE  \nATOM     72   Fe MOL     1      -5.088  17.117 510.448  1.00  0.00          FE  \nATOM     73   Fe MOL     1      -5.883  15.976 512.459  1.00  0.00          FE  \nATOM     74   Fe MOL     1      -5.087  17.117 514.457  1.00  0.00          FE  \nATOM     75   Fe MOL     1      -5.883  15.976 516.451  1.00  0.00          FE  \nATOM     76   Fe MOL     1      -5.088  17.117   0.000  1.00  0.00          FE  \nATOM     77   Fe MOL     1      -3.451  15.976   1.987  1.00  0.00          FE  \nATOM     78   Fe MOL     1      -5.088  17.117   3.985  1.00  0.00          FE  \nATOM     79   Fe MOL     1      -5.884  15.976   5.996  1.00  0.00          FE  \nATOM     80   Fe MOL     1      -5.088  17.117   8.002  1.00  0.00          FE  \nATOM     81   Fe MOL     1       2.432   0.000 508.443  1.00  0.00          FE  \nATOM     82   Fe MOL     1       3.228   1.141 510.448  1.00  0.00          FE  \nATOM     83   Fe MOL     1       2.432  -0.000 512.459  1.00  0.00          FE  \nATOM     84   Fe MOL     1       3.228   1.141 514.457  1.00  0.00          FE  \nATOM     85   Fe MOL     1       2.432   0.000 516.451  1.00  0.00          FE  \nATOM     86   Fe MOL     1       3.228   1.141   0.000  1.00  0.00          FE  \nATOM     87   Fe MOL     1       4.864  -0.000   1.987  1.00  0.00          FE  \nATOM     88   Fe MOL     1       3.228   1.141   3.985  1.00  0.00          FE  \nATOM     89   Fe MOL     1       2.432   0.000   5.996  1.00  0.00          FE  \nATOM     90   Fe MOL     1       3.228   1.141   8.002  1.00  0.00          FE  \nATOM     91   Fe MOL     1       1.592   2.282 508.441  1.00  0.00          FE  \nATOM     92   Fe MOL     1       2.387   3.423 510.448  1.00  0.00          FE  \nATOM     93   Fe MOL     1       1.592   2.282 512.460  1.00  0.00          FE  \nATOM     94   Fe MOL     1       2.387   3.424 514.457  1.00  0.00          FE  \nATOM     95   Fe MOL     1       1.592   2.282 516.451  1.00  0.00          FE  \nATOM     96   Fe MOL     1       2.387   3.423   0.000  1.00  0.00          FE  \nATOM     97   Fe MOL     1       4.024   2.282   1.987  1.00  0.00          FE  \nATOM     98   Fe MOL     1       2.387   3.423   3.985  1.00  0.00          FE  \nATOM     99   Fe MOL     1       1.592   2.282   5.996  1.00  0.00          FE  \nATOM    100   Fe MOL     1       2.388   3.424   8.002  1.00  0.00          FE  \nATOM    101   Fe MOL     1       0.751   4.565 508.442  1.00  0.00          FE  \nATOM    102   Fe MOL     1       1.547   5.705 510.448  1.00  0.00          FE  \nATOM    103   Fe MOL     1       0.751   4.564 512.460  1.00  0.00          FE  \nATOM    104   Fe MOL     1       1.547   5.706 514.457  1.00  0.00          FE  \nATOM    105   Fe MOL     1       0.751   4.565 516.451  1.00  0.00          FE  \nATOM    106   Fe MOL     1       1.547   5.706   0.000  1.00  0.00          FE  \nATOM    107   Fe MOL     1       3.183   4.565   1.987  1.00  0.00          FE  \nATOM    108   Fe MOL     1       1.547   5.706   3.985  1.00  0.00          FE  \nATOM    109   Fe MOL     1       0.751   4.565   5.996  1.00  0.00          FE  \nATOM    110   Fe MOL     1       1.547   5.706   8.002  1.00  0.00          FE  \nATOM    111   Fe MOL     1      -0.089   6.847 508.442  1.00  0.00          FE  \nATOM    112   Fe MOL     1       0.707   7.988 510.448  1.00  0.00          FE  \nATOM    113   Fe MOL     1      -0.089   6.847 512.459  1.00  0.00          FE  \nATOM    114   Fe MOL     1       0.706   7.988 514.457  1.00  0.00          FE  \nATOM    115   Fe MOL     1      -0.089   6.847 516.451  1.00  0.00          FE  \nATOM    116   Fe MOL     1       0.706   7.988   0.000  1.00  0.00          FE  \nATOM    117   Fe MOL     1       2.343   6.847   1.987  1.00  0.00          FE  \nATOM    118   Fe MOL     1       0.706   7.988   3.985  1.00  0.00          FE  \nATOM    119   Fe MOL     1      -0.089   6.847   5.996  1.00  0.00          FE  \nATOM    120   Fe MOL     1       0.707   7.988   8.002  1.00  0.00          FE  \nATOM    121   Fe MOL     1      -0.930   9.129 508.442  1.00  0.00          FE  \nATOM    122   Fe MOL     1      -0.134  10.270 510.448  1.00  0.00          FE  \nATOM    123   Fe MOL     1      -0.930   9.129 512.459  1.00  0.00          FE  \nATOM    124   Fe MOL     1      -0.134  10.270 514.457  1.00  0.00          FE  \nATOM    125   Fe MOL     1      -0.930   9.129 516.451  1.00  0.00          FE  \nATOM    126   Fe MOL     1      -0.134  10.270   0.000  1.00  0.00          FE  \nATOM    127   Fe MOL     1       1.502   9.129   1.987  1.00  0.00          FE  \nATOM    128   Fe MOL     1      -0.134  10.270   3.985  1.00  0.00          FE  \nATOM    129   Fe MOL     1      -0.930   9.129   5.996  1.00  0.00          FE  \nATOM    130   Fe MOL     1      -0.134  10.270   8.002  1.00  0.00          FE  \nATOM    131   Fe MOL     1      -1.770  11.411 508.442  1.00  0.00          FE  \nATOM    132   Fe MOL     1      -0.975  12.552 510.448  1.00  0.00          FE  \nATOM    133   Fe MOL     1      -1.770  11.411 512.460  1.00  0.00          FE  \nATOM    134   Fe MOL     1      -0.974  12.552 514.457  1.00  0.00          FE  \nATOM    135   Fe MOL     1      -1.770  11.411 516.451  1.00  0.00          FE  \nATOM    136   Fe MOL     1      -0.975  12.552   0.000  1.00  0.00          FE  \nATOM    137   Fe MOL     1       0.662  11.411   1.987  1.00  0.00          FE  \nATOM    138   Fe MOL     1      -0.975  12.553   3.985  1.00  0.00          FE  \nATOM    139   Fe MOL     1      -1.771  11.411   5.996  1.00  0.00          FE  \nATOM    140   Fe MOL     1      -0.974  12.552   8.002  1.00  0.00          FE  \nATOM    141   Fe MOL     1      -2.611  13.694 508.442  1.00  0.00          FE  \nATOM    142   Fe MOL     1      -1.815  14.834 510.448  1.00  0.00          FE  \nATOM    143   Fe MOL     1      -2.611  13.693 512.460  1.00  0.00          FE  \nATOM    144   Fe MOL     1      -1.815  14.835 514.457  1.00  0.00          FE  \nATOM    145   Fe MOL     1      -2.611  13.694 516.451  1.00  0.00          FE  \nATOM    146   Fe MOL     1      -1.815  14.835   0.000  1.00  0.00          FE  \nATOM    147   Fe MOL     1      -0.179  13.694   1.987  1.00  0.00          FE  \nATOM    148   Fe MOL     1      -1.815  14.835   3.985  1.00  0.00          FE  \nATOM    149   Fe MOL     1      -2.611  13.693   5.996  1.00  0.00          FE  \nATOM    150   Fe MOL     1      -1.815  14.835   8.002  1.00  0.00          FE  \nATOM    151   Fe MOL     1      -3.452  15.976 508.442  1.00  0.00          FE  \nATOM    152   Fe MOL     1      -2.656  17.117 510.448  1.00  0.00          FE  \nATOM    153   Fe MOL     1      -3.451  15.976 512.460  1.00  0.00          FE  \nATOM    154   Fe MOL     1      -2.655  17.117 514.457  1.00  0.00          FE  \nATOM    155   Fe MOL     1      -3.451  15.976 516.451  1.00  0.00          FE  \nATOM    156   Fe MOL     1      -2.656  17.117   0.000  1.00  0.00          FE  \nATOM    157   Fe MOL     1      -1.019  15.976   1.987  1.00  0.00          FE  \nATOM    158   Fe MOL     1      -2.656  17.117   3.985  1.00  0.00          FE  \nATOM    159   Fe MOL     1      -3.452  15.976   5.996  1.00  0.00          FE  \nATOM    160   Fe MOL     1      -2.656  17.117   8.002  1.00  0.00          FE  \nATOM    161   Fe MOL     1       4.864   0.000 508.442  1.00  0.00          FE  \nATOM    162   Fe MOL     1       5.660   1.141 510.448  1.00  0.00          FE  \nATOM    163   Fe MOL     1       4.864   0.000 512.459  1.00  0.00          FE  \nATOM    164   Fe MOL     1       5.660   1.141 514.457  1.00  0.00          FE  \nATOM    165   Fe MOL     1       4.864   0.000 516.451  1.00  0.00          FE  \nATOM    166   Fe MOL     1       5.660   1.141   0.000  1.00  0.00          FE  \nATOM    167   Fe MOL     1       7.296  -0.000   1.987  1.00  0.00          FE  \nATOM    168   Fe MOL     1       5.660   1.141   3.985  1.00  0.00          FE  \nATOM    169   Fe MOL     1       4.864  -0.000   5.996  1.00  0.00          FE  \nATOM    170   Fe MOL     1       5.660   1.141   8.002  1.00  0.00          FE  \nATOM    171   Fe MOL     1       4.024   2.283 508.442  1.00  0.00          FE  \nATOM    172   Fe MOL     1       4.820   3.423 510.448  1.00  0.00          FE  \nATOM    173   Fe MOL     1       4.024   2.282 512.460  1.00  0.00          FE  \nATOM    174   Fe MOL     1       4.819   3.423 514.457  1.00  0.00          FE  \nATOM    175   Fe MOL     1       4.024   2.282 516.451  1.00  0.00          FE  \nATOM    176   Fe MOL     1       4.820   3.423   0.000  1.00  0.00          FE  \nATOM    177   Fe MOL     1       6.456   2.282   1.987  1.00  0.00          FE  \nATOM    178   Fe MOL     1       4.819   3.423   3.985  1.00  0.00          FE  \nATOM    179   Fe MOL     1       4.024   2.282   5.996  1.00  0.00          FE  \nATOM    180   Fe MOL     1       4.820   3.423   8.002  1.00  0.00          FE  \nATOM    181   Fe MOL     1       3.183   4.565 508.442  1.00  0.00          FE  \nATOM    182   Fe MOL     1       3.979   5.706 510.448  1.00  0.00          FE  \nATOM    183   Fe MOL     1       3.183   4.564 512.459  1.00  0.00          FE  \nATOM    184   Fe MOL     1       3.979   5.706 514.457  1.00  0.00          FE  \nATOM    185   Fe MOL     1       3.183   4.565 516.451  1.00  0.00          FE  \nATOM    186   Fe MOL     1       3.979   5.706   0.000  1.00  0.00          FE  \nATOM    187   Fe MOL     1       5.615   4.565   1.987  1.00  0.00          FE  \nATOM    188   Fe MOL     1       3.979   5.706   3.985  1.00  0.00          FE  \nATOM    189   Fe MOL     1       3.183   4.565   5.996  1.00  0.00          FE  \nATOM    190   Fe MOL     1       3.979   5.706   8.003  1.00  0.00          FE  \nATOM    191   Fe MOL     1       2.343   6.847 508.442  1.00  0.00          FE  \nATOM    192   Fe MOL     1       3.139   7.988 510.448  1.00  0.00          FE  \nATOM    193   Fe MOL     1       2.343   6.847 512.459  1.00  0.00          FE  \nATOM    194   Fe MOL     1       3.138   7.988 514.457  1.00  0.00          FE  \nATOM    195   Fe MOL     1       2.343   6.847 516.451  1.00  0.00          FE  \nATOM    196   Fe MOL     1       3.139   7.988   0.000  1.00  0.00          FE  \nATOM    197   Fe MOL     1       4.775   6.847   1.987  1.00  0.00          FE  \nATOM    198   Fe MOL     1       3.138   7.988   3.985  1.00  0.00          FE  \nATOM    199   Fe MOL     1       2.343   6.847   5.996  1.00  0.00          FE  \nATOM    200   Fe MOL     1       3.139   7.988   8.002  1.00  0.00          FE  \nATOM    201   Fe MOL     1       1.502   9.129 508.442  1.00  0.00          FE  \nATOM    202   Fe MOL     1       2.298  10.270 510.448  1.00  0.00          FE  \nATOM    203   Fe MOL     1       1.502   9.129 512.459  1.00  0.00          FE  \nATOM    204   Fe MOL     1       2.298  10.270 514.457  1.00  0.00          FE  \nATOM    205   Fe MOL     1       1.502   9.129 516.451  1.00  0.00          FE  \nATOM    206   Fe MOL     1       2.298  10.270   0.000  1.00  0.00          FE  \nATOM    207   Fe MOL     1       3.934   9.129   1.987  1.00  0.00          FE  \nATOM    208   Fe MOL     1       2.298  10.270   3.985  1.00  0.00          FE  \nATOM    209   Fe MOL     1       1.502   9.129   5.996  1.00  0.00          FE  \nATOM    210   Fe MOL     1       2.298  10.270   8.003  1.00  0.00          FE  \nATOM    211   Fe MOL     1       0.662  11.411 508.442  1.00  0.00          FE  \nATOM    212   Fe MOL     1       1.457  12.552 510.448  1.00  0.00          FE  \nATOM    213   Fe MOL     1       0.662  11.411 512.459  1.00  0.00          FE  \nATOM    214   Fe MOL     1       1.458  12.552 514.457  1.00  0.00          FE  \nATOM    215   Fe MOL     1       0.662  11.411 516.451  1.00  0.00          FE  \nATOM    216   Fe MOL     1       1.458  12.552   0.000  1.00  0.00          FE  \nATOM    217   Fe MOL     1       3.094  11.411   1.987  1.00  0.00          FE  \nATOM    218   Fe MOL     1       1.457  12.553   3.985  1.00  0.00          FE  \nATOM    219   Fe MOL     1       0.662  11.411   5.996  1.00  0.00          FE  \nATOM    220   Fe MOL     1       1.458  12.552   8.002  1.00  0.00          FE  \nATOM    221   Fe MOL     1      -0.178  13.693 508.442  1.00  0.00          FE  \nATOM    222   Fe MOL     1       0.617  14.834 510.448  1.00  0.00          FE  \nATOM    223   Fe MOL     1      -0.179  13.693 512.460  1.00  0.00          FE  \nATOM    224   Fe MOL     1       0.617  14.835 514.457  1.00  0.00          FE  \nATOM    225   Fe MOL     1      -0.179  13.694 516.451  1.00  0.00          FE  \nATOM    226   Fe MOL     1       0.617  14.835   0.000  1.00  0.00          FE  \nATOM    227   Fe MOL     1       2.253  13.694   1.987  1.00  0.00          FE  \nATOM    228   Fe MOL     1       0.617  14.835   3.985  1.00  0.00          FE  \nATOM    229   Fe MOL     1      -0.179  13.694   5.996  1.00  0.00          FE  \nATOM    230   Fe MOL     1       0.617  14.835   8.002  1.00  0.00          FE  \nATOM    231   Fe MOL     1      -1.019  15.976 508.441  1.00  0.00          FE  \nATOM    232   Fe MOL     1      -0.224  17.117 510.448  1.00  0.00          FE  \nATOM    233   Fe MOL     1      -1.019  15.976 512.459  1.00  0.00          FE  \nATOM    234   Fe MOL     1      -0.223  17.117 514.457  1.00  0.00          FE  \nATOM    235   Fe MOL     1      -1.019  15.976 516.451  1.00  0.00          FE  \nATOM    236   Fe MOL     1      -0.223  17.117   0.000  1.00  0.00          FE  \nATOM    237   Fe MOL     1       1.413  15.976   1.987  1.00  0.00          FE  \nATOM    238   Fe MOL     1      -0.223  17.117   3.985  1.00  0.00          FE  \nATOM    239   Fe MOL     1      -1.019  15.976   5.996  1.00  0.00          FE  \nATOM    240   Fe MOL     1      -0.224  17.117   8.002  1.00  0.00          FE  \nATOM    241   Fe MOL     1       7.296  -0.000 508.442  1.00  0.00          FE  \nATOM    242   Fe MOL     1       8.092   1.141 510.448  1.00  0.00          FE  \nATOM    243   Fe MOL     1       7.296   0.000 512.459  1.00  0.00          FE  \nATOM    244   Fe MOL     1       8.092   1.141 514.457  1.00  0.00          FE  \nATOM    245   Fe MOL     1       7.296   0.000 516.451  1.00  0.00          FE  \nATOM    246   Fe MOL     1       8.092   1.141   0.000  1.00  0.00          FE  \nATOM    247   Fe MOL     1       9.728  -0.000   1.987  1.00  0.00          FE  \nATOM    248   Fe MOL     1       8.092   1.141   3.985  1.00  0.00          FE  \nATOM    249   Fe MOL     1       7.296   0.000   5.996  1.00  0.00          FE  \nATOM    250   Fe MOL     1       8.092   1.141   8.003  1.00  0.00          FE  \nATOM    251   Fe MOL     1       6.456   2.282 508.442  1.00  0.00          FE  \nATOM    252   Fe MOL     1       7.252   3.423 510.448  1.00  0.00          FE  \nATOM    253   Fe MOL     1       6.456   2.282 512.459  1.00  0.00          FE  \nATOM    254   Fe MOL     1       7.251   3.423 514.457  1.00  0.00          FE  \nATOM    255   Fe MOL     1       6.456   2.282 516.451  1.00  0.00          FE  \nATOM    256   Fe MOL     1       7.252   3.423   0.000  1.00  0.00          FE  \nATOM    257   Fe MOL     1       8.888   2.282   1.987  1.00  0.00          FE  \nATOM    258   Fe MOL     1       7.252   3.423   3.985  1.00  0.00          FE  \nATOM    259   Fe MOL     1       6.456   2.282   5.996  1.00  0.00          FE  \nATOM    260   Fe MOL     1       7.252   3.423   8.002  1.00  0.00          FE  \nATOM    261   Fe MOL     1       5.615   4.565 508.442  1.00  0.00          FE  \nATOM    262   Fe MOL     1       6.411   5.706 510.448  1.00  0.00          FE  \nATOM    263   Fe MOL     1       5.615   4.565 512.460  1.00  0.00          FE  \nATOM    264   Fe MOL     1       6.411   5.706 514.457  1.00  0.00          FE  \nATOM    265   Fe MOL     1       5.615   4.565 516.451  1.00  0.00          FE  \nATOM    266   Fe MOL     1       6.411   5.706   0.000  1.00  0.00          FE  \nATOM    267   Fe MOL     1       8.047   4.565   1.987  1.00  0.00          FE  \nATOM    268   Fe MOL     1       6.411   5.706   3.985  1.00  0.00          FE  \nATOM    269   Fe MOL     1       5.615   4.564   5.996  1.00  0.00          FE  \nATOM    270   Fe MOL     1       6.411   5.705   8.002  1.00  0.00          FE  \nATOM    271   Fe MOL     1       4.775   6.847 508.442  1.00  0.00          FE  \nATOM    272   Fe MOL     1       5.571   7.988 510.448  1.00  0.00          FE  \nATOM    273   Fe MOL     1       4.775   6.847 512.459  1.00  0.00          FE  \nATOM    274   Fe MOL     1       5.571   7.988 514.457  1.00  0.00          FE  \nATOM    275   Fe MOL     1       4.775   6.847 516.451  1.00  0.00          FE  \nATOM    276   Fe MOL     1       5.571   7.988   0.000  1.00  0.00          FE  \nATOM    277   Fe MOL     1       7.207   6.847   1.987  1.00  0.00          FE  \nATOM    278   Fe MOL     1       5.570   7.988   3.985  1.00  0.00          FE  \nATOM    279   Fe MOL     1       4.775   6.847   5.996  1.00  0.00          FE  \nATOM    280   Fe MOL     1       5.571   7.988   8.002  1.00  0.00          FE  \nATOM    281   Fe MOL     1       3.934   9.129 508.442  1.00  0.00          FE  \nATOM    282   Fe MOL     1       4.730  10.270 510.448  1.00  0.00          FE  \nATOM    283   Fe MOL     1       3.934   9.129 512.460  1.00  0.00          FE  \nATOM    284   Fe MOL     1       4.730  10.270 514.457  1.00  0.00          FE  \nATOM    285   Fe MOL     1       3.934   9.129 516.451  1.00  0.00          FE  \nATOM    286   Fe MOL     1       4.730  10.270   0.000  1.00  0.00          FE  \nATOM    287   Fe MOL     1       6.366   9.129   1.987  1.00  0.00          FE  \nATOM    288   Fe MOL     1       4.730  10.270   3.985  1.00  0.00          FE  \nATOM    289   Fe MOL     1       3.934   9.129   5.996  1.00  0.00          FE  \nATOM    290   Fe MOL     1       4.731  10.270   8.002  1.00  0.00          FE  \nATOM    291   Fe MOL     1       3.094  11.411 508.442  1.00  0.00          FE  \nATOM    292   Fe MOL     1       3.890  12.552 510.448  1.00  0.00          FE  \nATOM    293   Fe MOL     1       3.094  11.411 512.459  1.00  0.00          FE  \nATOM    294   Fe MOL     1       3.890  12.552 514.457  1.00  0.00          FE  \nATOM    295   Fe MOL     1       3.094  11.411 516.451  1.00  0.00          FE  \nATOM    296   Fe MOL     1       3.890  12.552   0.000  1.00  0.00          FE  \nATOM    297   Fe MOL     1       5.526  11.411   1.987  1.00  0.00          FE  \nATOM    298   Fe MOL     1       3.890  12.552   3.985  1.00  0.00          FE  \nATOM    299   Fe MOL     1       3.094  11.411   5.996  1.00  0.00          FE  \nATOM    300   Fe MOL     1       3.890  12.553   8.002  1.00  0.00          FE  \nATOM    301   Fe MOL     1       2.254  13.693 508.442  1.00  0.00          FE  \nATOM    302   Fe MOL     1       3.049  14.835 510.448  1.00  0.00          FE  \nATOM    303   Fe MOL     1       2.253  13.693 512.459  1.00  0.00          FE  \nATOM    304   Fe MOL     1       3.049  14.835 514.457  1.00  0.00          FE  \nATOM    305   Fe MOL     1       2.253  13.694 516.451  1.00  0.00          FE  \nATOM    306   Fe MOL     1       3.049  14.835   0.000  1.00  0.00          FE  \nATOM    307   Fe MOL     1       4.685  13.694   1.987  1.00  0.00          FE  \nATOM    308   Fe MOL     1       3.049  14.835   3.985  1.00  0.00          FE  \nATOM    309   Fe MOL     1       2.253  13.694   5.996  1.00  0.00          FE  \nATOM    310   Fe MOL     1       3.049  14.835   8.002  1.00  0.00          FE  \nATOM    311   Fe MOL     1       1.413  15.976 508.442  1.00  0.00          FE  \nATOM    312   Fe MOL     1       2.209  17.117 510.448  1.00  0.00          FE  \nATOM    313   Fe MOL     1       1.413  15.976 512.459  1.00  0.00          FE  \nATOM    314   Fe MOL     1       2.209  17.117 514.457  1.00  0.00          FE  \nATOM    315   Fe MOL     1       1.413  15.976 516.451  1.00  0.00          FE  \nATOM    316   Fe MOL     1       2.209  17.117   0.000  1.00  0.00          FE  \nATOM    317   Fe MOL     1       3.845  15.976   1.987  1.00  0.00          FE  \nATOM    318   Fe MOL     1       2.209  17.117   3.985  1.00  0.00          FE  \nATOM    319   Fe MOL     1       1.413  15.976   5.996  1.00  0.00          FE  \nATOM    320   Fe MOL     1       2.209  17.117   8.003  1.00  0.00          FE  \nATOM    321   Fe MOL     1       9.728  -0.000 508.442  1.00  0.00          FE  \nATOM    322   Fe MOL     1      10.524   1.141 510.448  1.00  0.00          FE  \nATOM    323   Fe MOL     1       9.728   0.000 512.459  1.00  0.00          FE  \nATOM    324   Fe MOL     1      10.524   1.141 514.457  1.00  0.00          FE  \nATOM    325   Fe MOL     1       9.729  -0.000 516.451  1.00  0.00          FE  \nATOM    326   Fe MOL     1      10.524   1.141   0.000  1.00  0.00          FE  \nATOM    327   Fe MOL     1      12.161  -0.000   1.987  1.00  0.00          FE  \nATOM    328   Fe MOL     1      10.524   1.141   3.985  1.00  0.00          FE  \nATOM    329   Fe MOL     1       9.728   0.000   5.996  1.00  0.00          FE  \nATOM    330   Fe MOL     1      10.524   1.141   8.002  1.00  0.00          FE  \nATOM    331   Fe MOL     1       8.888   2.282 508.442  1.00  0.00          FE  \nATOM    332   Fe MOL     1       9.684   3.423 510.448  1.00  0.00          FE  \nATOM    333   Fe MOL     1       8.888   2.282 512.460  1.00  0.00          FE  \nATOM    334   Fe MOL     1       9.684   3.423 514.457  1.00  0.00          FE  \nATOM    335   Fe MOL     1       8.888   2.282 516.451  1.00  0.00          FE  \nATOM    336   Fe MOL     1       9.684   3.423   0.000  1.00  0.00          FE  \nATOM    337   Fe MOL     1      11.320   2.282   1.987  1.00  0.00          FE  \nATOM    338   Fe MOL     1       9.684   3.423   3.985  1.00  0.00          FE  \nATOM    339   Fe MOL     1       8.888   2.282   5.996  1.00  0.00          FE  \nATOM    340   Fe MOL     1       9.683   3.423   8.002  1.00  0.00          FE  \nATOM    341   Fe MOL     1       8.047   4.564 508.442  1.00  0.00          FE  \nATOM    342   Fe MOL     1       8.843   5.706 510.448  1.00  0.00          FE  \nATOM    343   Fe MOL     1       8.047   4.565 512.459  1.00  0.00          FE  \nATOM    344   Fe MOL     1       8.843   5.706 514.457  1.00  0.00          FE  \nATOM    345   Fe MOL     1       8.047   4.564 516.451  1.00  0.00          FE  \nATOM    346   Fe MOL     1       8.843   5.706   0.000  1.00  0.00          FE  \nATOM    347   Fe MOL     1      10.480   4.565   1.987  1.00  0.00          FE  \nATOM    348   Fe MOL     1       8.843   5.706   3.985  1.00  0.00          FE  \nATOM    349   Fe MOL     1       8.047   4.564   5.996  1.00  0.00          FE  \nATOM    350   Fe MOL     1       8.843   5.706   8.002  1.00  0.00          FE  \nATOM    351   Fe MOL     1       7.207   6.847 508.442  1.00  0.00          FE  \nATOM    352   Fe MOL     1       8.003   7.988 510.448  1.00  0.00          FE  \nATOM    353   Fe MOL     1       7.207   6.847 512.459  1.00  0.00          FE  \nATOM    354   Fe MOL     1       8.003   7.988 514.457  1.00  0.00          FE  \nATOM    355   Fe MOL     1       7.207   6.847 516.451  1.00  0.00          FE  \nATOM    356   Fe MOL     1       8.003   7.988   0.000  1.00  0.00          FE  \nATOM    357   Fe MOL     1       9.639   6.847   1.987  1.00  0.00          FE  \nATOM    358   Fe MOL     1       8.003   7.988   3.985  1.00  0.00          FE  \nATOM    359   Fe MOL     1       7.207   6.847   5.996  1.00  0.00          FE  \nATOM    360   Fe MOL     1       8.003   7.988   8.002  1.00  0.00          FE  \nATOM    361   Fe MOL     1       6.366   9.129 508.441  1.00  0.00          FE  \nATOM    362   Fe MOL     1       7.162  10.270 510.448  1.00  0.00          FE  \nATOM    363   Fe MOL     1       6.366   9.129 512.459  1.00  0.00          FE  \nATOM    364   Fe MOL     1       7.162  10.270 514.457  1.00  0.00          FE  \nATOM    365   Fe MOL     1       6.366   9.129 516.451  1.00  0.00          FE  \nATOM    366   Fe MOL     1       7.162  10.270   0.000  1.00  0.00          FE  \nATOM    367   Fe MOL     1       8.799   9.129   1.987  1.00  0.00          FE  \nATOM    368   Fe MOL     1       7.162  10.270   3.985  1.00  0.00          FE  \nATOM    369   Fe MOL     1       6.366   9.129   5.996  1.00  0.00          FE  \nATOM    370   Fe MOL     1       7.162  10.270   8.003  1.00  0.00          FE  \nATOM    371   Fe MOL     1       5.526  11.412 508.442  1.00  0.00          FE  \nATOM    372   Fe MOL     1       6.322  12.553 510.448  1.00  0.00          FE  \nATOM    373   Fe MOL     1       5.526  11.411 512.459  1.00  0.00          FE  \nATOM    374   Fe MOL     1       6.322  12.552 514.457  1.00  0.00          FE  \nATOM    375   Fe MOL     1       5.526  11.411 516.451  1.00  0.00          FE  \nATOM    376   Fe MOL     1       6.322  12.552   0.000  1.00  0.00          FE  \nATOM    377   Fe MOL     1       7.958  11.411   1.987  1.00  0.00          FE  \nATOM    378   Fe MOL     1       6.322  12.552   3.985  1.00  0.00          FE  \nATOM    379   Fe MOL     1       5.526  11.411   5.996  1.00  0.00          FE  \nATOM    380   Fe MOL     1       6.322  12.552   8.002  1.00  0.00          FE  \nATOM    381   Fe MOL     1       4.686  13.694 508.442  1.00  0.00          FE  \nATOM    382   Fe MOL     1       5.481  14.835 510.448  1.00  0.00          FE  \nATOM    383   Fe MOL     1       4.685  13.694 512.459  1.00  0.00          FE  \nATOM    384   Fe MOL     1       5.481  14.835 514.457  1.00  0.00          FE  \nATOM    385   Fe MOL     1       4.685  13.694 516.451  1.00  0.00          FE  \nATOM    386   Fe MOL     1       5.481  14.835   0.000  1.00  0.00          FE  \nATOM    387   Fe MOL     1       7.118  13.694   1.987  1.00  0.00          FE  \nATOM    388   Fe MOL     1       5.481  14.835   3.985  1.00  0.00          FE  \nATOM    389   Fe MOL     1       4.685  13.693   5.996  1.00  0.00          FE  \nATOM    390   Fe MOL     1       5.481  14.835   8.002  1.00  0.00          FE  \nATOM    391   Fe MOL     1       3.845  15.976 508.442  1.00  0.00          FE  \nATOM    392   Fe MOL     1       4.641  17.117 510.448  1.00  0.00          FE  \nATOM    393   Fe MOL     1       3.845  15.976 512.459  1.00  0.00          FE  \nATOM    394   Fe MOL     1       4.641  17.117 514.457  1.00  0.00          FE  \nATOM    395   Fe MOL     1       3.845  15.976 516.451  1.00  0.00          FE  \nATOM    396   Fe MOL     1       4.641  17.117   0.000  1.00  0.00          FE  \nATOM    397   Fe MOL     1       6.277  15.976   1.987  1.00  0.00          FE  \nATOM    398   Fe MOL     1       4.641  17.117   3.985  1.00  0.00          FE  \nATOM    399   Fe MOL     1       3.845  15.976   5.996  1.00  0.00          FE  \nATOM    400   Fe MOL     1       4.641  17.117   8.002  1.00  0.00          FE  \nATOM    401   Fe MOL     1      12.160   0.000 508.442  1.00  0.00          FE  \nATOM    402   Fe MOL     1      12.956   1.141 510.448  1.00  0.00          FE  \nATOM    403   Fe MOL     1      12.161   0.000 512.459  1.00  0.00          FE  \nATOM    404   Fe MOL     1      12.956   1.141 514.457  1.00  0.00          FE  \nATOM    405   Fe MOL     1      12.161  -0.000 516.451  1.00  0.00          FE  \nATOM    406   Fe MOL     1      12.956   1.141   0.000  1.00  0.00          FE  \nATOM    407   Fe MOL     1      14.593  -0.000   1.987  1.00  0.00          FE  \nATOM    408   Fe MOL     1      12.956   1.141   3.985  1.00  0.00          FE  \nATOM    409   Fe MOL     1      12.160  -0.000   5.996  1.00  0.00          FE  \nATOM    410   Fe MOL     1      12.956   1.141   8.002  1.00  0.00          FE  \nATOM    411   Fe MOL     1      11.320   2.282 508.442  1.00  0.00          FE  \nATOM    412   Fe MOL     1      12.116   3.423 510.448  1.00  0.00          FE  \nATOM    413   Fe MOL     1      11.320   2.282 512.459  1.00  0.00          FE  \nATOM    414   Fe MOL     1      12.116   3.423 514.457  1.00  0.00          FE  \nATOM    415   Fe MOL     1      11.320   2.282 516.451  1.00  0.00          FE  \nATOM    416   Fe MOL     1      12.116   3.423   0.000  1.00  0.00          FE  \nATOM    417   Fe MOL     1      13.752   2.282   1.987  1.00  0.00          FE  \nATOM    418   Fe MOL     1      12.116   3.423   3.985  1.00  0.00          FE  \nATOM    419   Fe MOL     1      11.320   2.282   5.996  1.00  0.00          FE  \nATOM    420   Fe MOL     1      12.116   3.423   8.002  1.00  0.00          FE  \nATOM    421   Fe MOL     1      10.480   4.565 508.443  1.00  0.00          FE  \nATOM    422   Fe MOL     1      11.276   5.706 510.448  1.00  0.00          FE  \nATOM    423   Fe MOL     1      10.480   4.565 512.460  1.00  0.00          FE  \nATOM    424   Fe MOL     1      11.275   5.706 514.457  1.00  0.00          FE  \nATOM    425   Fe MOL     1      10.479   4.564 516.451  1.00  0.00          FE  \nATOM    426   Fe MOL     1      11.275   5.706  -0.000  1.00  0.00          FE  \nATOM    427   Fe MOL     1      12.912   4.565   1.987  1.00  0.00          FE  \nATOM    428   Fe MOL     1      11.275   5.706   3.985  1.00  0.00          FE  \nATOM    429   Fe MOL     1      10.479   4.565   5.996  1.00  0.00          FE  \nATOM    430   Fe MOL     1      11.275   5.706   8.002  1.00  0.00          FE  \nATOM    431   Fe MOL     1       9.639   6.847 508.441  1.00  0.00          FE  \nATOM    432   Fe MOL     1      10.435   7.988 510.448  1.00  0.00          FE  \nATOM    433   Fe MOL     1       9.639   6.847 512.459  1.00  0.00          FE  \nATOM    434   Fe MOL     1      10.435   7.988 514.457  1.00  0.00          FE  \nATOM    435   Fe MOL     1       9.639   6.847 516.451  1.00  0.00          FE  \nATOM    436   Fe MOL     1      10.435   7.988   0.000  1.00  0.00          FE  \nATOM    437   Fe MOL     1      12.071   6.847   1.987  1.00  0.00          FE  \nATOM    438   Fe MOL     1      10.435   7.988   3.985  1.00  0.00          FE  \nATOM    439   Fe MOL     1       9.639   6.847   5.996  1.00  0.00          FE  \nATOM    440   Fe MOL     1      10.435   7.988   8.002  1.00  0.00          FE  \nATOM    441   Fe MOL     1       8.798   9.129 508.442  1.00  0.00          FE  \nATOM    442   Fe MOL     1       9.594  10.270 510.448  1.00  0.00          FE  \nATOM    443   Fe MOL     1       8.798   9.129 512.460  1.00  0.00          FE  \nATOM    444   Fe MOL     1       9.594  10.270 514.457  1.00  0.00          FE  \nATOM    445   Fe MOL     1       8.798   9.129 516.451  1.00  0.00          FE  \nATOM    446   Fe MOL     1       9.594  10.270   0.000  1.00  0.00          FE  \nATOM    447   Fe MOL     1      11.231   9.129   1.987  1.00  0.00          FE  \nATOM    448   Fe MOL     1       9.594  10.270   3.985  1.00  0.00          FE  \nATOM    449   Fe MOL     1       8.798   9.129   5.996  1.00  0.00          FE  \nATOM    450   Fe MOL     1       9.594  10.270   8.002  1.00  0.00          FE  \nATOM    451   Fe MOL     1       7.958  11.411 508.442  1.00  0.00          FE  \nATOM    452   Fe MOL     1       8.754  12.552 510.448  1.00  0.00          FE  \nATOM    453   Fe MOL     1       7.958  11.411 512.459  1.00  0.00          FE  \nATOM    454   Fe MOL     1       8.754  12.552 514.457  1.00  0.00          FE  \nATOM    455   Fe MOL     1       7.958  11.411 516.451  1.00  0.00          FE  \nATOM    456   Fe MOL     1       8.754  12.552   0.000  1.00  0.00          FE  \nATOM    457   Fe MOL     1      10.390  11.411   1.987  1.00  0.00          FE  \nATOM    458   Fe MOL     1       8.754  12.552   3.985  1.00  0.00          FE  \nATOM    459   Fe MOL     1       7.958  11.411   5.997  1.00  0.00          FE  \nATOM    460   Fe MOL     1       8.754  12.553   8.002  1.00  0.00          FE  \nATOM    461   Fe MOL     1       7.118  13.694 508.442  1.00  0.00          FE  \nATOM    462   Fe MOL     1       7.913  14.835 510.448  1.00  0.00          FE  \nATOM    463   Fe MOL     1       7.117  13.694 512.459  1.00  0.00          FE  \nATOM    464   Fe MOL     1       7.913  14.835 514.457  1.00  0.00          FE  \nATOM    465   Fe MOL     1       7.117  13.694 516.451  1.00  0.00          FE  \nATOM    466   Fe MOL     1       7.913  14.835   0.000  1.00  0.00          FE  \nATOM    467   Fe MOL     1       9.550  13.694   1.987  1.00  0.00          FE  \nATOM    468   Fe MOL     1       7.913  14.835   3.985  1.00  0.00          FE  \nATOM    469   Fe MOL     1       7.118  13.694   5.996  1.00  0.00          FE  \nATOM    470   Fe MOL     1       7.914  14.835   8.003  1.00  0.00          FE  \nATOM    471   Fe MOL     1       6.277  15.976 508.442  1.00  0.00          FE  \nATOM    472   Fe MOL     1       7.073  17.117 510.448  1.00  0.00          FE  \nATOM    473   Fe MOL     1       6.277  15.976 512.460  1.00  0.00          FE  \nATOM    474   Fe MOL     1       7.073  17.117 514.457  1.00  0.00          FE  \nATOM    475   Fe MOL     1       6.277  15.976 516.451  1.00  0.00          FE  \nATOM    476   Fe MOL     1       7.073  17.117   0.000  1.00  0.00          FE  \nATOM    477   Fe MOL     1       8.709  15.976   1.987  1.00  0.00          FE  \nATOM    478   Fe MOL     1       7.073  17.117   3.985  1.00  0.00          FE  \nATOM    479   Fe MOL     1       6.277  15.976   5.996  1.00  0.00          FE  \nATOM    480   Fe MOL     1       7.073  17.117   8.002  1.00  0.00          FE  \nATOM    481   Fe MOL     1      14.593  -0.000 508.442  1.00  0.00          FE  \nATOM    482   Fe MOL     1      15.389   1.141 510.448  1.00  0.00          FE  \nATOM    483   Fe MOL     1      14.593  -0.000 512.459  1.00  0.00          FE  \nATOM    484   Fe MOL     1      15.389   1.141 514.457  1.00  0.00          FE  \nATOM    485   Fe MOL     1      14.593  -0.000 516.451  1.00  0.00          FE  \nATOM    486   Fe MOL     1      15.388   1.141   0.000  1.00  0.00          FE  \nATOM    487   Fe MOL     1      17.025  -0.000   1.987  1.00  0.00          FE  \nATOM    488   Fe MOL     1      15.388   1.141   3.985  1.00  0.00          FE  \nATOM    489   Fe MOL     1      14.593  -0.000   5.996  1.00  0.00          FE  \nATOM    490   Fe MOL     1      15.388   1.141   8.002  1.00  0.00          FE  \nATOM    491   Fe MOL     1      13.752   2.282 508.442  1.00  0.00          FE  \nATOM    492   Fe MOL     1      14.548   3.423 510.448  1.00  0.00          FE  \nATOM    493   Fe MOL     1      13.752   2.282 512.459  1.00  0.00          FE  \nATOM    494   Fe MOL     1      14.548   3.423 514.457  1.00  0.00          FE  \nATOM    495   Fe MOL     1      13.752   2.282 516.451  1.00  0.00          FE  \nATOM    496   Fe MOL     1      14.548   3.423   0.000  1.00  0.00          FE  \nATOM    497   Fe MOL     1      16.184   2.282   1.987  1.00  0.00          FE  \nATOM    498   Fe MOL     1      14.548   3.423   3.985  1.00  0.00          FE  \nATOM    499   Fe MOL     1      13.752   2.282   5.996  1.00  0.00          FE  \nATOM    500   Fe MOL     1      14.548   3.423   8.002  1.00  0.00          FE  \nATOM    501   Fe MOL     1      12.912   4.565 508.442  1.00  0.00          FE  \nATOM    502   Fe MOL     1      13.708   5.706 510.448  1.00  0.00          FE  \nATOM    503   Fe MOL     1      12.912   4.564 512.459  1.00  0.00          FE  \nATOM    504   Fe MOL     1      13.707   5.706 514.457  1.00  0.00          FE  \nATOM    505   Fe MOL     1      12.912   4.564 516.451  1.00  0.00          FE  \nATOM    506   Fe MOL     1      13.707   5.706  -0.000  1.00  0.00          FE  \nATOM    507   Fe MOL     1      15.344   4.565   1.987  1.00  0.00          FE  \nATOM    508   Fe MOL     1      13.708   5.706   3.985  1.00  0.00          FE  \nATOM    509   Fe MOL     1      12.912   4.564   5.996  1.00  0.00          FE  \nATOM    510   Fe MOL     1      13.707   5.706   8.002  1.00  0.00          FE  \nATOM    511   Fe MOL     1      12.071   6.847 508.442  1.00  0.00          FE  \nATOM    512   Fe MOL     1      12.867   7.988 510.448  1.00  0.00          FE  \nATOM    513   Fe MOL     1      12.071   6.847 512.460  1.00  0.00          FE  \nATOM    514   Fe MOL     1      12.867   7.988 514.457  1.00  0.00          FE  \nATOM    515   Fe MOL     1      12.071   6.847 516.451  1.00  0.00          FE  \nATOM    516   Fe MOL     1      12.867   7.988  -0.000  1.00  0.00          FE  \nATOM    517   Fe MOL     1      14.503   6.847   1.987  1.00  0.00          FE  \nATOM    518   Fe MOL     1      12.867   7.988   3.985  1.00  0.00          FE  \nATOM    519   Fe MOL     1      12.071   6.847   5.996  1.00  0.00          FE  \nATOM    520   Fe MOL     1      12.867   7.988   8.002  1.00  0.00          FE  \nATOM    521   Fe MOL     1      11.230   9.129 508.442  1.00  0.00          FE  \nATOM    522   Fe MOL     1      12.026  10.270 510.448  1.00  0.00          FE  \nATOM    523   Fe MOL     1      11.231   9.129 512.460  1.00  0.00          FE  \nATOM    524   Fe MOL     1      12.026  10.270 514.457  1.00  0.00          FE  \nATOM    525   Fe MOL     1      11.231   9.129 516.451  1.00  0.00          FE  \nATOM    526   Fe MOL     1      12.026  10.270   0.000  1.00  0.00          FE  \nATOM    527   Fe MOL     1      13.663   9.129   1.987  1.00  0.00          FE  \nATOM    528   Fe MOL     1      12.026  10.270   3.985  1.00  0.00          FE  \nATOM    529   Fe MOL     1      11.231   9.129   5.996  1.00  0.00          FE  \nATOM    530   Fe MOL     1      12.026  10.270   8.002  1.00  0.00          FE  \nATOM    531   Fe MOL     1      10.390  11.411 508.442  1.00  0.00          FE  \nATOM    532   Fe MOL     1      11.186  12.552 510.448  1.00  0.00          FE  \nATOM    533   Fe MOL     1      10.390  11.411 512.460  1.00  0.00          FE  \nATOM    534   Fe MOL     1      11.186  12.553 514.457  1.00  0.00          FE  \nATOM    535   Fe MOL     1      10.390  11.411 516.451  1.00  0.00          FE  \nATOM    536   Fe MOL     1      11.186  12.552   0.000  1.00  0.00          FE  \nATOM    537   Fe MOL     1      12.822  11.411   1.987  1.00  0.00          FE  \nATOM    538   Fe MOL     1      11.186  12.552   3.985  1.00  0.00          FE  \nATOM    539   Fe MOL     1      10.390  11.411   5.996  1.00  0.00          FE  \nATOM    540   Fe MOL     1      11.186  12.552   8.002  1.00  0.00          FE  \nATOM    541   Fe MOL     1       9.550  13.693 508.442  1.00  0.00          FE  \nATOM    542   Fe MOL     1      10.345  14.834 510.448  1.00  0.00          FE  \nATOM    543   Fe MOL     1       9.550  13.694 512.460  1.00  0.00          FE  \nATOM    544   Fe MOL     1      10.345  14.835 514.457  1.00  0.00          FE  \nATOM    545   Fe MOL     1       9.549  13.694 516.451  1.00  0.00          FE  \nATOM    546   Fe MOL     1      10.345  14.835   0.000  1.00  0.00          FE  \nATOM    547   Fe MOL     1      11.982  13.694   1.987  1.00  0.00          FE  \nATOM    548   Fe MOL     1      10.346  14.835   3.985  1.00  0.00          FE  \nATOM    549   Fe MOL     1       9.550  13.693   5.996  1.00  0.00          FE  \nATOM    550   Fe MOL     1      10.346  14.835   8.002  1.00  0.00          FE  \nATOM    551   Fe MOL     1       8.709  15.975 508.442  1.00  0.00          FE  \nATOM    552   Fe MOL     1       9.505  17.117 510.448  1.00  0.00          FE  \nATOM    553   Fe MOL     1       8.709  15.976 512.459  1.00  0.00          FE  \nATOM    554   Fe MOL     1       9.505  17.117 514.457  1.00  0.00          FE  \nATOM    555   Fe MOL     1       8.709  15.976 516.451  1.00  0.00          FE  \nATOM    556   Fe MOL     1       9.505  17.117   0.000  1.00  0.00          FE  \nATOM    557   Fe MOL     1      11.141  15.976   1.987  1.00  0.00          FE  \nATOM    558   Fe MOL     1       9.505  17.117   3.985  1.00  0.00          FE  \nATOM    559   Fe MOL     1       8.709  15.976   5.996  1.00  0.00          FE  \nATOM    560   Fe MOL     1       9.505  17.117   8.002  1.00  0.00          FE  \nATOM    561   Fe MOL     1      17.025  -0.000 508.442  1.00  0.00          FE  \nATOM    562   Fe MOL     1      17.821   1.141 510.448  1.00  0.00          FE  \nATOM    563   Fe MOL     1      17.025  -0.000 512.460  1.00  0.00          FE  \nATOM    564   Fe MOL     1      17.821   1.141 514.457  1.00  0.00          FE  \nATOM    565   Fe MOL     1      17.025  -0.000 516.451  1.00  0.00          FE  \nATOM    566   Fe MOL     1      17.821   1.141   0.000  1.00  0.00          FE  \nATOM    567   Fe MOL     1      -0.000  -0.000   1.987  1.00  0.00          FE  \nATOM    568   Fe MOL     1      17.821   1.141   3.985  1.00  0.00          FE  \nATOM    569   Fe MOL     1      17.025  -0.000   5.996  1.00  0.00          FE  \nATOM    570   Fe MOL     1      17.820   1.141   8.002  1.00  0.00          FE  \nATOM    571   Fe MOL     1      16.184   2.282 508.442  1.00  0.00          FE  \nATOM    572   Fe MOL     1      16.980   3.423 510.448  1.00  0.00          FE  \nATOM    573   Fe MOL     1      16.184   2.282 512.460  1.00  0.00          FE  \nATOM    574   Fe MOL     1      16.980   3.423 514.457  1.00  0.00          FE  \nATOM    575   Fe MOL     1      16.184   2.282 516.451  1.00  0.00          FE  \nATOM    576   Fe MOL     1      16.980   3.423   0.000  1.00  0.00          FE  \nATOM    577   Fe MOL     1      -0.840   2.282   1.987  1.00  0.00          FE  \nATOM    578   Fe MOL     1      16.980   3.423   3.985  1.00  0.00          FE  \nATOM    579   Fe MOL     1      16.184   2.282   5.996  1.00  0.00          FE  \nATOM    580   Fe MOL     1      16.980   3.423   8.002  1.00  0.00          FE  \nATOM    581   Fe MOL     1      15.344   4.564 508.442  1.00  0.00          FE  \nATOM    582   Fe MOL     1      16.140   5.706 510.448  1.00  0.00          FE  \nATOM    583   Fe MOL     1      15.344   4.564 512.459  1.00  0.00          FE  \nATOM    584   Fe MOL     1      16.139   5.706 514.457  1.00  0.00          FE  \nATOM    585   Fe MOL     1      15.344   4.564 516.451  1.00  0.00          FE  \nATOM    586   Fe MOL     1      16.140   5.706   0.000  1.00  0.00          FE  \nATOM    587   Fe MOL     1      -1.681   4.565   1.987  1.00  0.00          FE  \nATOM    588   Fe MOL     1      16.140   5.706   3.985  1.00  0.00          FE  \nATOM    589   Fe MOL     1      15.344   4.564   5.996  1.00  0.00          FE  \nATOM    590   Fe MOL     1      16.140   5.706   8.002  1.00  0.00          FE  \nATOM    591   Fe MOL     1      14.503   6.847 508.442  1.00  0.00          FE  \nATOM    592   Fe MOL     1      15.299   7.988 510.448  1.00  0.00          FE  \nATOM    593   Fe MOL     1      14.503   6.847 512.460  1.00  0.00          FE  \nATOM    594   Fe MOL     1      15.299   7.988 514.457  1.00  0.00          FE  \nATOM    595   Fe MOL     1      14.503   6.847 516.451  1.00  0.00          FE  \nATOM    596   Fe MOL     1      15.299   7.988   0.000  1.00  0.00          FE  \nATOM    597   Fe MOL     1      -2.521   6.847   1.987  1.00  0.00          FE  \nATOM    598   Fe MOL     1      15.299   7.988   3.985  1.00  0.00          FE  \nATOM    599   Fe MOL     1      14.503   6.847   5.996  1.00  0.00          FE  \nATOM    600   Fe MOL     1      15.299   7.988   8.002  1.00  0.00          FE  \nATOM    601   Fe MOL     1      13.663   9.129 508.442  1.00  0.00          FE  \nATOM    602   Fe MOL     1      14.459  10.270 510.448  1.00  0.00          FE  \nATOM    603   Fe MOL     1      13.663   9.129 512.460  1.00  0.00          FE  \nATOM    604   Fe MOL     1      14.459  10.270 514.457  1.00  0.00          FE  \nATOM    605   Fe MOL     1      13.663   9.129 516.451  1.00  0.00          FE  \nATOM    606   Fe MOL     1      14.459  10.270   0.000  1.00  0.00          FE  \nATOM    607   Fe MOL     1      -3.362   9.129   1.987  1.00  0.00          FE  \nATOM    608   Fe MOL     1      14.459  10.270   3.985  1.00  0.00          FE  \nATOM    609   Fe MOL     1      13.663   9.129   5.996  1.00  0.00          FE  \nATOM    610   Fe MOL     1      14.458  10.270   8.002  1.00  0.00          FE  \nATOM    611   Fe MOL     1      12.822  11.411 508.442  1.00  0.00          FE  \nATOM    612   Fe MOL     1      13.618  12.552 510.448  1.00  0.00          FE  \nATOM    613   Fe MOL     1      12.822  11.412 512.460  1.00  0.00          FE  \nATOM    614   Fe MOL     1      13.618  12.553 514.457  1.00  0.00          FE  \nATOM    615   Fe MOL     1      12.822  11.411 516.451  1.00  0.00          FE  \nATOM    616   Fe MOL     1      13.618  12.552   0.000  1.00  0.00          FE  \nATOM    617   Fe MOL     1      -4.202  11.411   1.987  1.00  0.00          FE  \nATOM    618   Fe MOL     1      13.618  12.553   3.985  1.00  0.00          FE  \nATOM    619   Fe MOL     1      12.822  11.411   5.996  1.00  0.00          FE  \nATOM    620   Fe MOL     1      13.618  12.553   8.002  1.00  0.00          FE  \nATOM    621   Fe MOL     1      11.982  13.693 508.441  1.00  0.00          FE  \nATOM    622   Fe MOL     1      12.777  14.835 510.448  1.00  0.00          FE  \nATOM    623   Fe MOL     1      11.982  13.694 512.459  1.00  0.00          FE  \nATOM    624   Fe MOL     1      12.778  14.835 514.457  1.00  0.00          FE  \nATOM    625   Fe MOL     1      11.982  13.694 516.451  1.00  0.00          FE  \nATOM    626   Fe MOL     1      12.778  14.835   0.000  1.00  0.00          FE  \nATOM    627   Fe MOL     1      -5.043  13.694   1.987  1.00  0.00          FE  \nATOM    628   Fe MOL     1      12.778  14.835   3.985  1.00  0.00          FE  \nATOM    629   Fe MOL     1      11.982  13.693   5.996  1.00  0.00          FE  \nATOM    630   Fe MOL     1      12.777  14.835   8.002  1.00  0.00          FE  \nATOM    631   Fe MOL     1      11.141  15.976 508.442  1.00  0.00          FE  \nATOM    632   Fe MOL     1      11.937  17.117 510.448  1.00  0.00          FE  \nATOM    633   Fe MOL     1      11.141  15.976 512.460  1.00  0.00          FE  \nATOM    634   Fe MOL     1      11.937  17.117 514.457  1.00  0.00          FE  \nATOM    635   Fe MOL     1      11.141  15.976 516.451  1.00  0.00          FE  \nATOM    636   Fe MOL     1      11.937  17.117   0.000  1.00  0.00          FE  \nATOM    637   Fe MOL     1      -5.883  15.976   1.987  1.00  0.00          FE  \nATOM    638   Fe MOL     1      11.937  17.117   3.985  1.00  0.00          FE  \nATOM    639   Fe MOL     1      11.141  15.976   5.996  1.00  0.00          FE  \nATOM    640   Fe MOL     1      11.937  17.117   8.002  1.00  0.00          FE  \nENDMDL\n",
           "type": "blob"
          }
         ],
         "kwargs": {
          "defaultRepresentation": false,
          "ext": "pdb"
         },
         "methodName": "loadFile",
         "reconstruc_color_scheme": false,
         "target": "Stage",
         "type": "call_method"
        },
        {
         "args": [
          "500px",
          "500px"
         ],
         "kwargs": {},
         "methodName": "setSize",
         "reconstruc_color_scheme": false,
         "target": "Widget",
         "type": "call_method"
        },
        {
         "args": [
          "unitcell"
         ],
         "component_index": 0,
         "kwargs": {
          "sele": "all"
         },
         "methodName": "addRepresentation",
         "reconstruc_color_scheme": false,
         "target": "compList",
         "type": "call_method"
        },
        {
         "args": [
          "spacefill"
         ],
         "component_index": 0,
         "kwargs": {
          "sele": "all"
         },
         "methodName": "addRepresentation",
         "reconstruc_color_scheme": false,
         "target": "compList",
         "type": "call_method"
        },
        {
         "args": [],
         "kwargs": {
          "cameraType": "orthographic"
         },
         "methodName": "setParameters",
         "reconstruc_color_scheme": false,
         "target": "Stage",
         "type": "call_method"
        },
        {
         "args": [
          {
           "clipDist": 0
          }
         ],
         "kwargs": {},
         "methodName": "setParameters",
         "reconstruc_color_scheme": false,
         "target": "Widget",
         "type": "call_method"
        },
        {
         "args": [
          "spacefill",
          0
         ],
         "kwargs": {
          "colorScale": "rainbow",
          "colorScheme": "element",
          "radiusScale": 0.5,
          "radiusType": "covalent"
         },
         "methodName": "updateRepresentationsByName",
         "reconstruc_color_scheme": false,
         "target": "Widget",
         "type": "call_method"
        },
        {
         "args": [
          "this._Q = [[0.9999788051088838, -0.0065107091018516946, -1.9079190080203355e-08], [0.006510709101851693, 0.9999788051088838, -1.6805124209792615e-10], [1.9079879831598525e-08, 4.3828623759009407e-11, 0.9999999999999998]]\n    var tooltip = document.createElement('div');\n    Object.assign(tooltip.style, {\n      display: 'none',\n      position: 'fixed',\n      zIndex: 10,\n      pointerEvents: 'none',\n      backgroundColor: 'rgba( 0, 0, 0, 0.6 )',\n      color: 'lightgrey',\n      padding: '8px',\n      fontFamily: 'sans-serif'\n    });\n    document.body.appendChild(tooltip);\n\n    var that = this;\n    this.stage.mouseControls.remove('hoverPick');\n    this.stage.signals.hovered.add(function (pickingProxy) {\n      if (pickingProxy && (pickingProxy.atom || pickingProxy.bond)) {\n        var atom = pickingProxy.atom || pickingProxy.closestBondAtom\n        var mp = pickingProxy.mouse.position\n        //tooltip.innerText = atom.element + ' i=' + atom.index + ' (' + atom.x.toFixed(2) +  ', ' + atom.y.toFixed(2) +  ', ' + atom.z.toFixed(2) + ')'\n        //var pos = that._atoms_pos[atom.index]\n        var Q = that._Q\n        var pos_x = Q[0][0] * atom.x + Q[0][1] * atom.y + Q[0][2] * atom.z \n        var pos_y = Q[1][0] * atom.x + Q[1][1] * atom.y + Q[1][2] * atom.z\n        var pos_z = Q[2][0] * atom.x + Q[2][1] * atom.y + Q[2][2] * atom.z\n        tooltip.innerText = 'i=' + atom.index + ' ' + atom.element + ' (' + pos_x.toFixed(2) +  ', ' + pos_y.toFixed(2) +  ', ' + pos_z.toFixed(2) + ')'\n        tooltip.style.bottom = window.innerHeight - mp.y + 3 + 'px'\n        tooltip.style.left = mp.x + 3 + 'px'\n        tooltip.style.display = 'block'\n      } else {\n        tooltip.style.display = 'none'\n      }\n    });\n    this.stage.tooltip = tooltip;\n    "
         ],
         "kwargs": {},
         "methodName": "executeCode",
         "reconstruc_color_scheme": false,
         "target": "Widget",
         "type": "call_method"
        },
        {
         "args": [
          "ball+stick"
         ],
         "component_index": 0,
         "kwargs": {
          "sele": "all"
         },
         "methodName": "addRepresentation",
         "reconstruc_color_scheme": false,
         "target": "compList",
         "type": "call_method"
        },
        {
         "args": [
          [
           1,
           0,
           0
          ],
          -1.5707963267948966
         ],
         "kwargs": {},
         "methodName": "spin",
         "reconstruc_color_scheme": false,
         "target": "viewerControls",
         "type": "call_method"
        }
       ],
       "_ngl_original_stage_parameters": {
        "ambientColor": 14540253,
        "ambientIntensity": 0.2,
        "backgroundColor": "white",
        "cameraEyeSep": 0.3,
        "cameraFov": 40,
        "cameraType": "perspective",
        "clipDist": 10,
        "clipFar": 100,
        "clipMode": "scene",
        "clipNear": 0,
        "clipScale": "relative",
        "fogFar": 100,
        "fogNear": 50,
        "hoverTimeout": 0,
        "impostor": true,
        "lightColor": 14540253,
        "lightIntensity": 1,
        "mousePreset": "default",
        "panSpeed": 1,
        "quality": "medium",
        "rotateSpeed": 2,
        "sampleLevel": 0,
        "tooltip": true,
        "workerDefault": true,
        "zoomSpeed": 1.2
       },
       "_ngl_repr_dict": {},
       "_ngl_serialize": false,
       "_ngl_version": "2.0.0-dev.39",
       "_ngl_view_id": [
        "CA20BC11-226A-4835-993B-D5B25E589862"
       ],
       "_player_dict": {},
       "_scene_position": {},
       "_scene_rotation": {},
       "_synced_model_ids": [],
       "_synced_repr_model_ids": [],
       "_view_height": "",
       "_view_width": "",
       "background": "white",
       "frame": 0,
       "gui_style": null,
       "layout": "IPY_MODEL_f6687b75125a4598b2705daa16c19963",
       "max_frame": 0,
       "n_components": 0,
       "picked": {}
      }
     },
     "639c48df8f494707952e320bde15f2f5": {
      "model_module": "@jupyter-widgets/controls",
      "model_module_version": "2.0.0",
      "model_name": "PlayModel",
      "state": {
       "layout": "IPY_MODEL_b5505c32faf546ddb815d9ff3367126e",
       "max": 0,
       "style": "IPY_MODEL_546c833c1e0d4f52913e9663ba6a1c98"
      }
     },
     "6527d45268354aeb986cc86065c65815": {
      "model_module": "@jupyter-widgets/controls",
      "model_module_version": "2.0.0",
      "model_name": "HBoxModel",
      "state": {
       "children": [
        "IPY_MODEL_72f9f79ba6a742c4be0b37b369d00d99",
        "IPY_MODEL_03c5fc75f3e94d109423e0a8f9868c0a"
       ],
       "layout": "IPY_MODEL_0589d49a725a4b5ba3e11321531880f6"
      }
     },
     "66038e71adc8454c986186db13f07ee5": {
      "model_module": "@jupyter-widgets/controls",
      "model_module_version": "2.0.0",
      "model_name": "TextStyleModel",
      "state": {
       "description_width": "",
       "font_size": null,
       "text_color": null
      }
     },
     "688fa43edf3e4c0cb5f48ba8241b30dc": {
      "model_module": "@jupyter-widgets/controls",
      "model_module_version": "2.0.0",
      "model_name": "ButtonModel",
      "state": {
       "icon": "compress",
       "layout": "IPY_MODEL_f7717f1f170a47ab8fee97fe01dc2862",
       "style": "IPY_MODEL_0f819fb5d0924b6e892b27f7a63b6d51",
       "tooltip": null
      }
     },
     "68cc64292b384e7cbeec3e1b4f7fa586": {
      "model_module": "@jupyter-widgets/base",
      "model_module_version": "2.0.0",
      "model_name": "LayoutModel",
      "state": {
       "border_bottom": "0px solid black",
       "border_left": "0px solid black",
       "border_right": "0px solid black",
       "border_top": "0px solid black"
      }
     },
     "6b592587b8b34a95a0bc959fa59e31a7": {
      "model_module": "@jupyter-widgets/controls",
      "model_module_version": "2.0.0",
      "model_name": "TextStyleModel",
      "state": {
       "description_width": "",
       "font_size": null,
       "text_color": null
      }
     },
     "6bdaf3843ac1497c8ee9e502b204084f": {
      "model_module": "@jupyter-widgets/base",
      "model_module_version": "2.0.0",
      "model_name": "LayoutModel",
      "state": {}
     },
     "6c4dc7b8f0b847eba745351d96de43fb": {
      "model_module": "@jupyter-widgets/controls",
      "model_module_version": "2.0.0",
      "model_name": "ButtonModel",
      "state": {
       "icon": "compress",
       "layout": "IPY_MODEL_f1ab600008e1430591b6b7d3fa100e62",
       "style": "IPY_MODEL_206f4113f41b49b1aa66ec4225720e99",
       "tooltip": null
      }
     },
     "6f16d13341504f9ea87f2bf13de800b3": {
      "model_module": "@jupyter-widgets/controls",
      "model_module_version": "2.0.0",
      "model_name": "ButtonModel",
      "state": {
       "icon": "compress",
       "layout": "IPY_MODEL_8b89cf14316648e6b62551560476410c",
       "style": "IPY_MODEL_efc32d4384ef439f8da856d9cd5a14a5",
       "tooltip": null
      }
     },
     "702eaea22cf646aa858e1c2daaf043fc": {
      "model_module": "@jupyter-widgets/controls",
      "model_module_version": "2.0.0",
      "model_name": "HTMLStyleModel",
      "state": {
       "description_width": "",
       "font_size": null,
       "text_color": null
      }
     },
     "71cf743b62884582bbd4f9297883e905": {
      "model_module": "@jupyter-widgets/controls",
      "model_module_version": "2.0.0",
      "model_name": "VBoxModel",
      "state": {
       "children": [
        "IPY_MODEL_522d28bb34a9470da5115e51ac9c5dcf",
        "IPY_MODEL_b6edd2468fea4a36a700ca23e42c69a3",
        "IPY_MODEL_2acafc0d14a7453ba8a8cfcc9d073518",
        "IPY_MODEL_c9fa39c0608945d3b80e9b69d0cafd6a",
        "IPY_MODEL_e4397cfeb0544eddba04f3f122fb936a",
        "IPY_MODEL_7ab56e7143df415e866226b0dba1100f",
        "IPY_MODEL_2ef0d454c47f44f9ab5e8cb557a045c5",
        "IPY_MODEL_5c50a780b04648e797061668f7908d2c",
        "IPY_MODEL_781ebb0bcab8424bb0b18df3ddab3468",
        "IPY_MODEL_dff8829b369940c48086bb94fdafd54d"
       ],
       "layout": "IPY_MODEL_798ea7103c5c48e8a8503cb65306c74d"
      }
     },
     "71e49072b73f4c51aee20faf0739eca4": {
      "model_module": "@jupyter-widgets/controls",
      "model_module_version": "2.0.0",
      "model_name": "SliderStyleModel",
      "state": {
       "description_width": ""
      }
     },
     "720207069fe34c87a96a3accf52c6383": {
      "model_module": "@jupyter-widgets/controls",
      "model_module_version": "2.0.0",
      "model_name": "HTMLModel",
      "state": {
       "layout": "IPY_MODEL_2ea3e41798db47e099af25c7065f80fa",
       "style": "IPY_MODEL_4af556ed89bb4f1b9312aec0c08bde8a",
       "value": "100%"
      }
     },
     "72f9f79ba6a742c4be0b37b369d00d99": {
      "model_module": "@jupyter-widgets/controls",
      "model_module_version": "2.0.0",
      "model_name": "ButtonModel",
      "state": {
       "description": "Download image",
       "layout": "IPY_MODEL_6bdaf3843ac1497c8ee9e502b204084f",
       "style": "IPY_MODEL_9e1a401a1ae44a419d5b32bb4ec5227f",
       "tooltip": "Download current frame to your local PC"
      }
     },
     "7423a6efa195466bb85d0e959b1f2ce5": {
      "model_module": "@jupyter-widgets/base",
      "model_module_version": "2.0.0",
      "model_name": "LayoutModel",
      "state": {}
     },
     "74bbf8817238456799fdd683dd3d34b5": {
      "model_module": "@jupyter-widgets/controls",
      "model_module_version": "2.0.0",
      "model_name": "HTMLModel",
      "state": {
       "layout": "IPY_MODEL_776b04b29566402ea2242a40b2e5b80f",
       "style": "IPY_MODEL_4b9527f83b21432ab4a95ef4d5de555e",
       "value": " 10001/10001 [00:10&lt;00:00,  6.24it/s]"
      }
     },
     "764c2cc4746a479f89c56a47658090ed": {
      "model_module": "@jupyter-widgets/controls",
      "model_module_version": "2.0.0",
      "model_name": "LinkModel",
      "state": {
       "source": [
        "IPY_MODEL_e03a310454b448feb2b40972461665b0",
        "max"
       ],
       "target": [
        "IPY_MODEL_17bb9af81c1744838ada62625b439a94",
        "max_frame"
       ]
      }
     },
     "776b04b29566402ea2242a40b2e5b80f": {
      "model_module": "@jupyter-widgets/base",
      "model_module_version": "2.0.0",
      "model_name": "LayoutModel",
      "state": {}
     },
     "781ebb0bcab8424bb0b18df3ddab3468": {
      "model_module": "@jupyter-widgets/controls",
      "model_module_version": "2.0.0",
      "model_name": "FloatSliderModel",
      "state": {
       "behavior": "drag-tap",
       "description": "Charge scale",
       "layout": "IPY_MODEL_0d92d87fea7349ea9870773260dec54c",
       "step": 0.1,
       "style": "IPY_MODEL_f29c66e250d44f24b7d30c39872daaba",
       "value": 1
      }
     },
     "782a930e82ef453e8991e9f89f1ec267": {
      "model_module": "@jupyter-widgets/controls",
      "model_module_version": "2.0.0",
      "model_name": "HTMLStyleModel",
      "state": {
       "description_width": "",
       "font_size": null,
       "text_color": null
      }
     },
     "7854f346bae748fb897343eb00813dca": {
      "model_module": "@jupyter-widgets/controls",
      "model_module_version": "2.0.0",
      "model_name": "DescriptionStyleModel",
      "state": {
       "description_width": ""
      }
     },
     "7952ac50f9c54e40ba07106aa0454c3e": {
      "model_module": "@jupyter-widgets/controls",
      "model_module_version": "2.0.0",
      "model_name": "CheckboxStyleModel",
      "state": {
       "description_width": ""
      }
     },
     "798ea7103c5c48e8a8503cb65306c74d": {
      "model_module": "@jupyter-widgets/base",
      "model_module_version": "2.0.0",
      "model_name": "LayoutModel",
      "state": {}
     },
     "7ab56e7143df415e866226b0dba1100f": {
      "model_module": "@jupyter-widgets/controls",
      "model_module_version": "2.0.0",
      "model_name": "CheckboxModel",
      "state": {
       "description": "Show force",
       "disabled": false,
       "layout": "IPY_MODEL_dd344d09017c41d8b9ceb2553dc3426c",
       "style": "IPY_MODEL_bfe58dd25bb941208f74c649fa676d75",
       "value": false
      }
     },
     "7bdeb6a026814e9bbe50dc7ee1fe1269": {
      "model_module": "@jupyter-widgets/controls",
      "model_module_version": "2.0.0",
      "model_name": "IntSliderModel",
      "state": {
       "behavior": "drag-tap",
       "layout": "IPY_MODEL_09d07ac82c0a44859a10f29a85a08451",
       "max": 0,
       "style": "IPY_MODEL_ca61b2de66484d4397357bf0d74c3c21"
      }
     },
     "7ec5f7701ed649498cf1cac41eef18a5": {
      "model_module": "@jupyter-widgets/base",
      "model_module_version": "2.0.0",
      "model_name": "LayoutModel",
      "state": {}
     },
     "81560599cf8a410a991514533f9048e8": {
      "model_module": "@jupyter-widgets/controls",
      "model_module_version": "2.0.0",
      "model_name": "CheckboxModel",
      "state": {
       "description": "Show charge",
       "disabled": false,
       "layout": "IPY_MODEL_ef1a920a88d84907a4abe1474df1dd56",
       "style": "IPY_MODEL_d1de476eea5c4161945cfab8d09b5f1c",
       "value": false
      }
     },
     "829eab86abde46f3bfc99f4d16cdd1f7": {
      "model_module": "@jupyter-widgets/base",
      "model_module_version": "2.0.0",
      "model_name": "LayoutModel",
      "state": {}
     },
     "842d22c316e44aaf905bb32606294efe": {
      "model_module": "@jupyter-widgets/controls",
      "model_module_version": "2.0.0",
      "model_name": "TextStyleModel",
      "state": {
       "description_width": "",
       "font_size": null,
       "text_color": null
      }
     },
     "861bda10776041c888ed23ba1e123618": {
      "model_module": "@jupyter-widgets/base",
      "model_module_version": "2.0.0",
      "model_name": "LayoutModel",
      "state": {}
     },
     "879ef41ff85944d89d6a10cef13bcc79": {
      "model_module": "@jupyter-widgets/controls",
      "model_module_version": "2.0.0",
      "model_name": "HTMLStyleModel",
      "state": {
       "description_width": "",
       "font_size": null,
       "text_color": null
      }
     },
     "8a78c6f58bdc4a7a9bd31aed367d06a0": {
      "model_module": "@jupyter-widgets/base",
      "model_module_version": "2.0.0",
      "model_name": "LayoutModel",
      "state": {}
     },
     "8b89cf14316648e6b62551560476410c": {
      "model_module": "@jupyter-widgets/base",
      "model_module_version": "2.0.0",
      "model_name": "LayoutModel",
      "state": {
       "width": "34px"
      }
     },
     "8c1db4d7df5442d4bd329297ecc52682": {
      "model_module": "@jupyter-widgets/controls",
      "model_module_version": "2.0.0",
      "model_name": "FloatSliderModel",
      "state": {
       "behavior": "drag-tap",
       "description": "Ball size",
       "layout": "IPY_MODEL_e750a41754e7489ba8926fd84a58b312",
       "max": 1.5,
       "step": 0.01,
       "style": "IPY_MODEL_dd63380308cc4d35aaaa4848c6551819",
       "value": 0.49999999999999994
      }
     },
     "8e543648161544028487a3c70d7d461c": {
      "model_module": "@jupyter-widgets/controls",
      "model_module_version": "2.0.0",
      "model_name": "HBoxModel",
      "state": {
       "children": [
        "IPY_MODEL_3cef0dcc85c440fab5c59e1993ac56a2",
        "IPY_MODEL_5f71dd343bec426188265c5c3d973c85"
       ],
       "layout": "IPY_MODEL_b222f5ee47d44abda41031d48f0b06fd"
      }
     },
     "90c4c1c9b73b45fc8f349ec7a550fe92": {
      "model_module": "@jupyter-widgets/controls",
      "model_module_version": "2.0.0",
      "model_name": "ProgressStyleModel",
      "state": {
       "description_width": ""
      }
     },
     "927d474262164c5f832327cee0af8b4b": {
      "model_module": "@jupyter-widgets/controls",
      "model_module_version": "2.0.0",
      "model_name": "HBoxModel",
      "state": {
       "children": [
        "IPY_MODEL_720207069fe34c87a96a3accf52c6383",
        "IPY_MODEL_1036d0fc45274f96a391daa447919acd",
        "IPY_MODEL_9fff71b678b841a4ac8785ff4c1c9acd"
       ],
       "layout": "IPY_MODEL_4721820fa76e4530bce8302d045c31d5"
      }
     },
     "93011d25cff84568ba616ce2ccbbeb3c": {
      "model_module": "@jupyter-widgets/base",
      "model_module_version": "2.0.0",
      "model_name": "LayoutModel",
      "state": {}
     },
     "94df06a43b2047d192e78b740759f461": {
      "model_module": "@jupyter-widgets/controls",
      "model_module_version": "2.0.0",
      "model_name": "ButtonStyleModel",
      "state": {
       "font_family": null,
       "font_size": null,
       "font_style": null,
       "font_variant": null,
       "font_weight": null,
       "text_color": null,
       "text_decoration": null
      }
     },
     "96d631b77808457ab8a2b57624cdfd8d": {
      "model_module": "@jupyter-widgets/controls",
      "model_module_version": "2.0.0",
      "model_name": "HBoxModel",
      "state": {
       "children": [
        "IPY_MODEL_639c48df8f494707952e320bde15f2f5",
        "IPY_MODEL_e03a310454b448feb2b40972461665b0"
       ],
       "layout": "IPY_MODEL_230d7eb5b29e4eaba7aaa4f0a66d1b14"
      }
     },
     "9707153486154b369c10a2738fb20c66": {
      "model_module": "@jupyter-widgets/controls",
      "model_module_version": "2.0.0",
      "model_name": "SliderStyleModel",
      "state": {
       "description_width": ""
      }
     },
     "973af0926ebc48a8b4fd180037dbfa35": {
      "model_module": "@jupyter-widgets/base",
      "model_module_version": "2.0.0",
      "model_name": "LayoutModel",
      "state": {}
     },
     "97c2468a971e44a3903228d2d51ace45": {
      "model_module": "@jupyter-widgets/base",
      "model_module_version": "2.0.0",
      "model_name": "LayoutModel",
      "state": {}
     },
     "99e6827686204612afae049e071503fd": {
      "model_module": "@jupyter-widgets/controls",
      "model_module_version": "2.0.0",
      "model_name": "ProgressStyleModel",
      "state": {
       "description_width": ""
      }
     },
     "9aed04a5f01346c7aa3aa4136d3b9268": {
      "model_module": "@jupyter-widgets/base",
      "model_module_version": "2.0.0",
      "model_name": "LayoutModel",
      "state": {}
     },
     "9be6edcc01824d34a7b4c1da596d7f5e": {
      "model_module": "@jupyter-widgets/controls",
      "model_module_version": "2.0.0",
      "model_name": "LinkModel",
      "state": {
       "source": [
        "IPY_MODEL_7bdeb6a026814e9bbe50dc7ee1fe1269",
        "max"
       ],
       "target": [
        "IPY_MODEL_bf1faf2428e140c7a1d51f256b39a972",
        "max_frame"
       ]
      }
     },
     "9e1a401a1ae44a419d5b32bb4ec5227f": {
      "model_module": "@jupyter-widgets/controls",
      "model_module_version": "2.0.0",
      "model_name": "ButtonStyleModel",
      "state": {
       "font_family": null,
       "font_size": null,
       "font_style": null,
       "font_variant": null,
       "font_weight": null,
       "text_color": null,
       "text_decoration": null
      }
     },
     "9eed8762a32a4260a9606df25147f5ff": {
      "model_module": "@jupyter-widgets/controls",
      "model_module_version": "2.0.0",
      "model_name": "LinkModel",
      "state": {
       "source": [
        "IPY_MODEL_3cef0dcc85c440fab5c59e1993ac56a2",
        "max"
       ],
       "target": [
        "IPY_MODEL_6255683e4c0e4ebf9ce73227cf83a956",
        "max_frame"
       ]
      }
     },
     "9f468f703b6a41c8b20dca4bdd4dd815": {
      "model_module": "@jupyter-widgets/controls",
      "model_module_version": "2.0.0",
      "model_name": "CheckboxStyleModel",
      "state": {
       "description_width": ""
      }
     },
     "9fff71b678b841a4ac8785ff4c1c9acd": {
      "model_module": "@jupyter-widgets/controls",
      "model_module_version": "2.0.0",
      "model_name": "HTMLModel",
      "state": {
       "layout": "IPY_MODEL_f350fadeed1043cc8085411761d5d636",
       "style": "IPY_MODEL_782a930e82ef453e8991e9f89f1ec267",
       "value": " 10001/10001 [00:21&lt;00:00,  4.66it/s]"
      }
     },
     "a142b9fd2d364d7b9beae6c0d6d459d4": {
      "model_module": "@jupyter-widgets/base",
      "model_module_version": "2.0.0",
      "model_name": "LayoutModel",
      "state": {}
     },
     "a235b8034df448aca6c65824393ffa6c": {
      "model_module": "@jupyter-widgets/controls",
      "model_module_version": "2.0.0",
      "model_name": "FloatSliderModel",
      "state": {
       "behavior": "drag-tap",
       "description": "Charge scale",
       "layout": "IPY_MODEL_bb5270f487df426ca87494d92c92ed74",
       "step": 0.1,
       "style": "IPY_MODEL_a6fdaa98a3ba495586698e14f08dc38a",
       "value": 1
      }
     },
     "a5f09b8163aa488c98c0468d85b84acf": {
      "model_module": "@jupyter-widgets/controls",
      "model_module_version": "2.0.0",
      "model_name": "DescriptionStyleModel",
      "state": {
       "description_width": ""
      }
     },
     "a6fdaa98a3ba495586698e14f08dc38a": {
      "model_module": "@jupyter-widgets/controls",
      "model_module_version": "2.0.0",
      "model_name": "SliderStyleModel",
      "state": {
       "description_width": ""
      }
     },
     "a993ea9b3b8c4d149761d696e1c813a8": {
      "model_module": "@jupyter-widgets/base",
      "model_module_version": "2.0.0",
      "model_name": "LayoutModel",
      "state": {}
     },
     "ab857f97491540cf8544c4b791fd4e71": {
      "model_module": "@jupyter-widgets/base",
      "model_module_version": "2.0.0",
      "model_name": "LayoutModel",
      "state": {}
     },
     "abc767a3ce404b75bd26ed3993b9966a": {
      "model_module": "@jupyter-widgets/base",
      "model_module_version": "2.0.0",
      "model_name": "LayoutModel",
      "state": {}
     },
     "ae9708bf5bbd41d8be177a47ec8aece2": {
      "model_module": "@jupyter-widgets/base",
      "model_module_version": "2.0.0",
      "model_name": "LayoutModel",
      "state": {}
     },
     "b0bc0a6db2674314a981ccd6f90c4c6e": {
      "model_module": "@jupyter-widgets/controls",
      "model_module_version": "2.0.0",
      "model_name": "FloatSliderModel",
      "state": {
       "behavior": "drag-tap",
       "description": "Charge scale",
       "layout": "IPY_MODEL_7423a6efa195466bb85d0e959b1f2ce5",
       "step": 0.1,
       "style": "IPY_MODEL_3c4e04b851ef4690ac746d571bd19c2e",
       "value": 1
      }
     },
     "b1ad4f956bc243a38098734b9b6676d3": {
      "model_module": "@jupyter-widgets/controls",
      "model_module_version": "2.0.0",
      "model_name": "VBoxModel",
      "state": {
       "children": [
        "IPY_MODEL_604d61595c04432fa4ada96acaada4db",
        "IPY_MODEL_cc01bf3f3510431dbe6abfd8c0eaf34a",
        "IPY_MODEL_5363a59e107e46999a36912ce0c6c86a",
        "IPY_MODEL_12878803684a4054808f32f88fa1a828",
        "IPY_MODEL_1697912fd3cc4491846589151aab2770",
        "IPY_MODEL_c0d0ed2275af470dada6a12988e4b8d9",
        "IPY_MODEL_c9009c942cda42289b963f6098be2775",
        "IPY_MODEL_3103e70a23b94bfe9665635f7bd831ce",
        "IPY_MODEL_b0bc0a6db2674314a981ccd6f90c4c6e",
        "IPY_MODEL_40d32e75c13043e883c4dbfa623c66e6"
       ],
       "layout": "IPY_MODEL_5e450fcb5cb7481ca124a7250f9676c1"
      }
     },
     "b222f5ee47d44abda41031d48f0b06fd": {
      "model_module": "@jupyter-widgets/base",
      "model_module_version": "2.0.0",
      "model_name": "LayoutModel",
      "state": {}
     },
     "b39d8b98c6414066a836dea5658d7052": {
      "model_module": "@jupyter-widgets/controls",
      "model_module_version": "2.0.0",
      "model_name": "HTMLModel",
      "state": {
       "layout": "IPY_MODEL_c0e160ca0aff47dda90d8d4c32e8fb74",
       "style": "IPY_MODEL_1315e5b29be540008bb452904284f7b1",
       "value": "100%"
      }
     },
     "b5505c32faf546ddb815d9ff3367126e": {
      "model_module": "@jupyter-widgets/base",
      "model_module_version": "2.0.0",
      "model_name": "LayoutModel",
      "state": {}
     },
     "b6edd2468fea4a36a700ca23e42c69a3": {
      "model_module": "@jupyter-widgets/controls",
      "model_module_version": "2.0.0",
      "model_name": "DropdownModel",
      "state": {
       "_options_labels": [
        " ",
        "picking",
        "random",
        "uniform",
        "atomindex",
        "residueindex",
        "chainindex",
        "modelindex",
        "sstruc",
        "element",
        "resname",
        "bfactor",
        "hydrophobicity",
        "value",
        "volume",
        "occupancy"
       ],
       "description": "Color scheme",
       "index": 9,
       "layout": "IPY_MODEL_3e631d092b384827a3334b9377576f5b",
       "style": "IPY_MODEL_e1bad6ab83274399aef2191e09536fa1"
      }
     },
     "b88cd223c72743c4ace13c5dad961530": {
      "model_module": "nglview-js-widgets",
      "model_module_version": "3.0.6",
      "model_name": "ColormakerRegistryModel",
      "state": {
       "_msg_ar": [],
       "_msg_q": [],
       "_ready": true,
       "layout": "IPY_MODEL_7ec5f7701ed649498cf1cac41eef18a5"
      }
     },
     "b9b54bff26f1457cb437143cd93df462": {
      "model_module": "@jupyter-widgets/controls",
      "model_module_version": "2.0.0",
      "model_name": "HTMLStyleModel",
      "state": {
       "description_width": "",
       "font_size": null,
       "text_color": null
      }
     },
     "bb5270f487df426ca87494d92c92ed74": {
      "model_module": "@jupyter-widgets/base",
      "model_module_version": "2.0.0",
      "model_name": "LayoutModel",
      "state": {}
     },
     "bb6d90360500424c8c13a11b719e068d": {
      "model_module": "@jupyter-widgets/controls",
      "model_module_version": "2.0.0",
      "model_name": "LinkModel",
      "state": {
       "source": [
        "IPY_MODEL_5f71dd343bec426188265c5c3d973c85",
        "max"
       ],
       "target": [
        "IPY_MODEL_6255683e4c0e4ebf9ce73227cf83a956",
        "max_frame"
       ]
      }
     },
     "bd6d4466ff8743e88463cf0280227ba2": {
      "model_module": "@jupyter-widgets/base",
      "model_module_version": "2.0.0",
      "model_name": "LayoutModel",
      "state": {}
     },
     "bf1faf2428e140c7a1d51f256b39a972": {
      "model_module": "nglview-js-widgets",
      "model_module_version": "3.0.6",
      "model_name": "NGLModel",
      "state": {
       "_camera_orientation": [
        55.18958248447998,
        0,
        0,
        0,
        0,
        55.18958248447998,
        0,
        0,
        0,
        0,
        55.18958248447998,
        0,
        0,
        0,
        0,
        1
       ],
       "_camera_str": "orthographic",
       "_gui_theme": null,
       "_ibtn_fullscreen": "IPY_MODEL_6f16d13341504f9ea87f2bf13de800b3",
       "_igui": null,
       "_iplayer": "IPY_MODEL_c766f1db73134eef982e217e364f8f0a",
       "_ngl_color_dict": {},
       "_ngl_coordinate_resource": {},
       "_ngl_full_stage_parameters": {
        "ambientColor": 14540253,
        "ambientIntensity": 0.2,
        "backgroundColor": "white",
        "cameraEyeSep": 0.3,
        "cameraFov": 40,
        "cameraType": "perspective",
        "clipDist": 10,
        "clipFar": 100,
        "clipMode": "scene",
        "clipNear": 0,
        "clipScale": "relative",
        "fogFar": 100,
        "fogNear": 50,
        "hoverTimeout": 0,
        "impostor": true,
        "lightColor": 14540253,
        "lightIntensity": 1,
        "mousePreset": "default",
        "panSpeed": 1,
        "quality": "medium",
        "rotateSpeed": 2,
        "sampleLevel": 0,
        "tooltip": true,
        "workerDefault": true,
        "zoomSpeed": 1.2
       },
       "_ngl_msg_archive": [
        {
         "args": [
          {
           "binary": false,
           "data": "CRYST1   19.450   19.451  517.892  90.00  90.00 109.50 P 1\nMODEL     1\nATOM      1   Fe MOL     1      -0.012  -0.003 507.911  1.00  0.00          FE  \nATOM      2   Fe MOL     1       0.798   1.143 509.913  1.00  0.00          FE  \nATOM      3   Fe MOL     1      -0.012  -0.003 511.920  1.00  0.00          FE  \nATOM      4   Fe MOL     1       0.798   1.143 513.914  1.00  0.00          FE  \nATOM      5   Fe MOL     1      -0.012  -0.003 515.904  1.00  0.00          FE  \nATOM      6   Fe MOL     1       0.810   1.146  -0.000  1.00  0.00          FE  \nATOM      7   Fe MOL     1       2.431  -0.000   1.985  1.00  0.00          FE  \nATOM      8   Fe MOL     1       0.810   1.146   3.979  1.00  0.00          FE  \nATOM      9   Fe MOL     1      -0.000  -0.000   5.986  1.00  0.00          FE  \nATOM     10   Fe MOL     1       0.810   1.146   7.987  1.00  0.00          FE  \nATOM     11   Fe MOL     1      -0.824   2.289 507.911  1.00  0.00          FE  \nATOM     12   Fe MOL     1      -0.014   3.435 509.913  1.00  0.00          FE  \nATOM     13   Fe MOL     1      -0.824   2.289 511.920  1.00  0.00          FE  \nATOM     14   Fe MOL     1      -0.014   3.435 513.914  1.00  0.00          FE  \nATOM     15   Fe MOL     1      -0.824   2.289 515.904  1.00  0.00          FE  \nATOM     16   Fe MOL     1      -0.002   3.438  -0.000  1.00  0.00          FE  \nATOM     17   Fe MOL     1       1.620   2.292   1.985  1.00  0.00          FE  \nATOM     18   Fe MOL     1      -0.002   3.438   3.979  1.00  0.00          FE  \nATOM     19   Fe MOL     1      -0.812   2.292   5.986  1.00  0.00          FE  \nATOM     20   Fe MOL     1      -0.002   3.438   7.987  1.00  0.00          FE  \nATOM     21   Fe MOL     1      -1.635   4.581 507.911  1.00  0.00          FE  \nATOM     22   Fe MOL     1      -0.826   5.727 509.913  1.00  0.00          FE  \nATOM     23   Fe MOL     1      -1.635   4.581 511.920  1.00  0.00          FE  \nATOM     24   Fe MOL     1      -0.826   5.727 513.914  1.00  0.00          FE  \nATOM     25   Fe MOL     1      -1.635   4.581 515.904  1.00  0.00          FE  \nATOM     26   Fe MOL     1      -0.813   5.730  -0.000  1.00  0.00          FE  \nATOM     27   Fe MOL     1       0.808   4.584   1.985  1.00  0.00          FE  \nATOM     28   Fe MOL     1      -0.813   5.730   3.979  1.00  0.00          FE  \nATOM     29   Fe MOL     1      -1.623   4.584   5.986  1.00  0.00          FE  \nATOM     30   Fe MOL     1      -0.813   5.730   7.987  1.00  0.00          FE  \nATOM     31   Fe MOL     1      -2.447   6.873 507.911  1.00  0.00          FE  \nATOM     32   Fe MOL     1      -1.637   8.019 509.913  1.00  0.00          FE  \nATOM     33   Fe MOL     1      -2.447   6.873 511.920  1.00  0.00          FE  \nATOM     34   Fe MOL     1      -1.637   8.019 513.914  1.00  0.00          FE  \nATOM     35   Fe MOL     1      -2.447   6.873 515.904  1.00  0.00          FE  \nATOM     36   Fe MOL     1      -1.625   8.022  -0.000  1.00  0.00          FE  \nATOM     37   Fe MOL     1      -0.003   6.876   1.985  1.00  0.00          FE  \nATOM     38   Fe MOL     1      -1.625   8.022   3.979  1.00  0.00          FE  \nATOM     39   Fe MOL     1      -2.435   6.876   5.986  1.00  0.00          FE  \nATOM     40   Fe MOL     1      -1.625   8.022   7.987  1.00  0.00          FE  \nATOM     41   Fe MOL     1      -3.259   9.165 507.911  1.00  0.00          FE  \nATOM     42   Fe MOL     1      -2.449  10.311 509.913  1.00  0.00          FE  \nATOM     43   Fe MOL     1      -3.259   9.165 511.920  1.00  0.00          FE  \nATOM     44   Fe MOL     1      -2.449  10.311 513.914  1.00  0.00          FE  \nATOM     45   Fe MOL     1      -3.259   9.165 515.904  1.00  0.00          FE  \nATOM     46   Fe MOL     1      -2.436  10.314  -0.000  1.00  0.00          FE  \nATOM     47   Fe MOL     1      -0.815   9.168   1.985  1.00  0.00          FE  \nATOM     48   Fe MOL     1      -2.436  10.314   3.979  1.00  0.00          FE  \nATOM     49   Fe MOL     1      -3.246   9.168   5.986  1.00  0.00          FE  \nATOM     50   Fe MOL     1      -2.436  10.314   7.987  1.00  0.00          FE  \nATOM     51   Fe MOL     1      -4.070  11.456 507.911  1.00  0.00          FE  \nATOM     52   Fe MOL     1      -3.260  12.602 509.913  1.00  0.00          FE  \nATOM     53   Fe MOL     1      -4.070  11.456 511.920  1.00  0.00          FE  \nATOM     54   Fe MOL     1      -3.260  12.602 513.914  1.00  0.00          FE  \nATOM     55   Fe MOL     1      -4.070  11.456 515.904  1.00  0.00          FE  \nATOM     56   Fe MOL     1      -3.248  12.605  -0.000  1.00  0.00          FE  \nATOM     57   Fe MOL     1      -1.627  11.459   1.985  1.00  0.00          FE  \nATOM     58   Fe MOL     1      -3.248  12.605   3.979  1.00  0.00          FE  \nATOM     59   Fe MOL     1      -4.058  11.459   5.986  1.00  0.00          FE  \nATOM     60   Fe MOL     1      -3.248  12.605   7.987  1.00  0.00          FE  \nATOM     61   Fe MOL     1      -4.882  13.748 507.911  1.00  0.00          FE  \nATOM     62   Fe MOL     1      -4.072  14.894 509.913  1.00  0.00          FE  \nATOM     63   Fe MOL     1      -4.882  13.748 511.920  1.00  0.00          FE  \nATOM     64   Fe MOL     1      -4.072  14.894 513.914  1.00  0.00          FE  \nATOM     65   Fe MOL     1      -4.882  13.748 515.904  1.00  0.00          FE  \nATOM     66   Fe MOL     1      -4.059  14.897  -0.000  1.00  0.00          FE  \nATOM     67   Fe MOL     1      -2.438  13.751   1.985  1.00  0.00          FE  \nATOM     68   Fe MOL     1      -4.060  14.897   3.979  1.00  0.00          FE  \nATOM     69   Fe MOL     1      -4.869  13.751   5.986  1.00  0.00          FE  \nATOM     70   Fe MOL     1      -4.060  14.897   7.987  1.00  0.00          FE  \nATOM     71   Fe MOL     1      -5.693  16.040 507.911  1.00  0.00          FE  \nATOM     72   Fe MOL     1      -4.883  17.186 509.913  1.00  0.00          FE  \nATOM     73   Fe MOL     1      -5.693  16.040 511.920  1.00  0.00          FE  \nATOM     74   Fe MOL     1      -4.883  17.186 513.914  1.00  0.00          FE  \nATOM     75   Fe MOL     1      -5.693  16.040 515.904  1.00  0.00          FE  \nATOM     76   Fe MOL     1      -4.871  17.189  -0.000  1.00  0.00          FE  \nATOM     77   Fe MOL     1      -3.250  16.043   1.985  1.00  0.00          FE  \nATOM     78   Fe MOL     1      -4.871  17.189   3.979  1.00  0.00          FE  \nATOM     79   Fe MOL     1      -5.681  16.043   5.986  1.00  0.00          FE  \nATOM     80   Fe MOL     1      -4.871  17.189   7.987  1.00  0.00          FE  \nATOM     81   Fe MOL     1       2.419  -0.003 507.911  1.00  0.00          FE  \nATOM     82   Fe MOL     1       3.229   1.143 509.913  1.00  0.00          FE  \nATOM     83   Fe MOL     1       2.419  -0.003 511.920  1.00  0.00          FE  \nATOM     84   Fe MOL     1       3.229   1.143 513.914  1.00  0.00          FE  \nATOM     85   Fe MOL     1       2.419  -0.003 515.904  1.00  0.00          FE  \nATOM     86   Fe MOL     1       3.241   1.146  -0.000  1.00  0.00          FE  \nATOM     87   Fe MOL     1       4.863  -0.000   1.985  1.00  0.00          FE  \nATOM     88   Fe MOL     1       3.241   1.146   3.979  1.00  0.00          FE  \nATOM     89   Fe MOL     1       2.431  -0.000   5.986  1.00  0.00          FE  \nATOM     90   Fe MOL     1       3.241   1.146   7.987  1.00  0.00          FE  \nATOM     91   Fe MOL     1       1.607   2.289 507.911  1.00  0.00          FE  \nATOM     92   Fe MOL     1       2.417   3.435 509.913  1.00  0.00          FE  \nATOM     93   Fe MOL     1       1.607   2.289 511.920  1.00  0.00          FE  \nATOM     94   Fe MOL     1       2.417   3.435 513.914  1.00  0.00          FE  \nATOM     95   Fe MOL     1       1.607   2.289 515.904  1.00  0.00          FE  \nATOM     96   Fe MOL     1       2.430   3.438  -0.000  1.00  0.00          FE  \nATOM     97   Fe MOL     1       4.051   2.292   1.985  1.00  0.00          FE  \nATOM     98   Fe MOL     1       2.430   3.438   3.979  1.00  0.00          FE  \nATOM     99   Fe MOL     1       1.620   2.292   5.986  1.00  0.00          FE  \nATOM    100   Fe MOL     1       2.430   3.438   7.987  1.00  0.00          FE  \nATOM    101   Fe MOL     1       0.796   4.581 507.911  1.00  0.00          FE  \nATOM    102   Fe MOL     1       1.606   5.727 509.913  1.00  0.00          FE  \nATOM    103   Fe MOL     1       0.796   4.581 511.920  1.00  0.00          FE  \nATOM    104   Fe MOL     1       1.606   5.727 513.914  1.00  0.00          FE  \nATOM    105   Fe MOL     1       0.796   4.581 515.904  1.00  0.00          FE  \nATOM    106   Fe MOL     1       1.618   5.730  -0.000  1.00  0.00          FE  \nATOM    107   Fe MOL     1       3.239   4.584   1.985  1.00  0.00          FE  \nATOM    108   Fe MOL     1       1.618   5.730   3.979  1.00  0.00          FE  \nATOM    109   Fe MOL     1       0.808   4.584   5.986  1.00  0.00          FE  \nATOM    110   Fe MOL     1       1.618   5.730   7.987  1.00  0.00          FE  \nATOM    111   Fe MOL     1      -0.016   6.873 507.911  1.00  0.00          FE  \nATOM    112   Fe MOL     1       0.794   8.019 509.913  1.00  0.00          FE  \nATOM    113   Fe MOL     1      -0.016   6.873 511.920  1.00  0.00          FE  \nATOM    114   Fe MOL     1       0.794   8.019 513.914  1.00  0.00          FE  \nATOM    115   Fe MOL     1      -0.016   6.873 515.904  1.00  0.00          FE  \nATOM    116   Fe MOL     1       0.806   8.022  -0.000  1.00  0.00          FE  \nATOM    117   Fe MOL     1       2.428   6.876   1.985  1.00  0.00          FE  \nATOM    118   Fe MOL     1       0.806   8.022   3.979  1.00  0.00          FE  \nATOM    119   Fe MOL     1      -0.003   6.876   5.986  1.00  0.00          FE  \nATOM    120   Fe MOL     1       0.806   8.022   7.987  1.00  0.00          FE  \nATOM    121   Fe MOL     1      -0.827   9.165 507.911  1.00  0.00          FE  \nATOM    122   Fe MOL     1      -0.017  10.311 509.913  1.00  0.00          FE  \nATOM    123   Fe MOL     1      -0.827   9.165 511.920  1.00  0.00          FE  \nATOM    124   Fe MOL     1      -0.017  10.311 513.914  1.00  0.00          FE  \nATOM    125   Fe MOL     1      -0.827   9.165 515.904  1.00  0.00          FE  \nATOM    126   Fe MOL     1      -0.005  10.314  -0.000  1.00  0.00          FE  \nATOM    127   Fe MOL     1       1.616   9.168   1.985  1.00  0.00          FE  \nATOM    128   Fe MOL     1      -0.005  10.314   3.979  1.00  0.00          FE  \nATOM    129   Fe MOL     1      -0.815   9.168   5.986  1.00  0.00          FE  \nATOM    130   Fe MOL     1      -0.005  10.314   7.987  1.00  0.00          FE  \nATOM    131   Fe MOL     1      -1.639  11.456 507.911  1.00  0.00          FE  \nATOM    132   Fe MOL     1      -0.829  12.602 509.913  1.00  0.00          FE  \nATOM    133   Fe MOL     1      -1.639  11.456 511.920  1.00  0.00          FE  \nATOM    134   Fe MOL     1      -0.829  12.602 513.914  1.00  0.00          FE  \nATOM    135   Fe MOL     1      -1.639  11.456 515.904  1.00  0.00          FE  \nATOM    136   Fe MOL     1      -0.817  12.605  -0.000  1.00  0.00          FE  \nATOM    137   Fe MOL     1       0.805  11.459   1.985  1.00  0.00          FE  \nATOM    138   Fe MOL     1      -0.817  12.605   3.979  1.00  0.00          FE  \nATOM    139   Fe MOL     1      -1.627  11.459   5.986  1.00  0.00          FE  \nATOM    140   Fe MOL     1      -0.817  12.605   7.987  1.00  0.00          FE  \nATOM    141   Fe MOL     1      -2.450  13.748 507.911  1.00  0.00          FE  \nATOM    142   Fe MOL     1      -1.640  14.894 509.913  1.00  0.00          FE  \nATOM    143   Fe MOL     1      -2.450  13.748 511.920  1.00  0.00          FE  \nATOM    144   Fe MOL     1      -1.640  14.894 513.914  1.00  0.00          FE  \nATOM    145   Fe MOL     1      -2.450  13.748 515.904  1.00  0.00          FE  \nATOM    146   Fe MOL     1      -1.628  14.897  -0.000  1.00  0.00          FE  \nATOM    147   Fe MOL     1      -0.007  13.751   1.985  1.00  0.00          FE  \nATOM    148   Fe MOL     1      -1.628  14.897   3.979  1.00  0.00          FE  \nATOM    149   Fe MOL     1      -2.438  13.751   5.986  1.00  0.00          FE  \nATOM    150   Fe MOL     1      -1.628  14.897   7.987  1.00  0.00          FE  \nATOM    151   Fe MOL     1      -3.262  16.040 507.911  1.00  0.00          FE  \nATOM    152   Fe MOL     1      -2.452  17.186 509.913  1.00  0.00          FE  \nATOM    153   Fe MOL     1      -3.262  16.040 511.920  1.00  0.00          FE  \nATOM    154   Fe MOL     1      -2.452  17.186 513.914  1.00  0.00          FE  \nATOM    155   Fe MOL     1      -3.262  16.040 515.904  1.00  0.00          FE  \nATOM    156   Fe MOL     1      -2.440  17.189  -0.000  1.00  0.00          FE  \nATOM    157   Fe MOL     1      -0.818  16.043   1.985  1.00  0.00          FE  \nATOM    158   Fe MOL     1      -2.440  17.189   3.979  1.00  0.00          FE  \nATOM    159   Fe MOL     1      -3.250  16.043   5.986  1.00  0.00          FE  \nATOM    160   Fe MOL     1      -2.440  17.189   7.987  1.00  0.00          FE  \nATOM    161   Fe MOL     1       4.850  -0.003 507.911  1.00  0.00          FE  \nATOM    162   Fe MOL     1       5.660   1.143 509.913  1.00  0.00          FE  \nATOM    163   Fe MOL     1       4.850  -0.003 511.920  1.00  0.00          FE  \nATOM    164   Fe MOL     1       5.660   1.143 513.914  1.00  0.00          FE  \nATOM    165   Fe MOL     1       4.850  -0.003 515.904  1.00  0.00          FE  \nATOM    166   Fe MOL     1       5.672   1.146  -0.000  1.00  0.00          FE  \nATOM    167   Fe MOL     1       7.294  -0.000   1.985  1.00  0.00          FE  \nATOM    168   Fe MOL     1       5.672   1.146   3.979  1.00  0.00          FE  \nATOM    169   Fe MOL     1       4.863  -0.000   5.986  1.00  0.00          FE  \nATOM    170   Fe MOL     1       5.672   1.146   7.987  1.00  0.00          FE  \nATOM    171   Fe MOL     1       4.039   2.289 507.911  1.00  0.00          FE  \nATOM    172   Fe MOL     1       4.849   3.435 509.913  1.00  0.00          FE  \nATOM    173   Fe MOL     1       4.039   2.289 511.920  1.00  0.00          FE  \nATOM    174   Fe MOL     1       4.849   3.435 513.914  1.00  0.00          FE  \nATOM    175   Fe MOL     1       4.039   2.289 515.904  1.00  0.00          FE  \nATOM    176   Fe MOL     1       4.861   3.438  -0.000  1.00  0.00          FE  \nATOM    177   Fe MOL     1       6.482   2.292   1.985  1.00  0.00          FE  \nATOM    178   Fe MOL     1       4.861   3.438   3.979  1.00  0.00          FE  \nATOM    179   Fe MOL     1       4.051   2.292   5.986  1.00  0.00          FE  \nATOM    180   Fe MOL     1       4.861   3.438   7.987  1.00  0.00          FE  \nATOM    181   Fe MOL     1       3.227   4.581 507.911  1.00  0.00          FE  \nATOM    182   Fe MOL     1       4.037   5.727 509.913  1.00  0.00          FE  \nATOM    183   Fe MOL     1       3.227   4.581 511.920  1.00  0.00          FE  \nATOM    184   Fe MOL     1       4.037   5.727 513.914  1.00  0.00          FE  \nATOM    185   Fe MOL     1       3.227   4.581 515.904  1.00  0.00          FE  \nATOM    186   Fe MOL     1       4.049   5.730  -0.000  1.00  0.00          FE  \nATOM    187   Fe MOL     1       5.671   4.584   1.985  1.00  0.00          FE  \nATOM    188   Fe MOL     1       4.049   5.730   3.979  1.00  0.00          FE  \nATOM    189   Fe MOL     1       3.239   4.584   5.986  1.00  0.00          FE  \nATOM    190   Fe MOL     1       4.049   5.730   7.987  1.00  0.00          FE  \nATOM    191   Fe MOL     1       2.416   6.873 507.911  1.00  0.00          FE  \nATOM    192   Fe MOL     1       3.225   8.019 509.913  1.00  0.00          FE  \nATOM    193   Fe MOL     1       2.416   6.873 511.920  1.00  0.00          FE  \nATOM    194   Fe MOL     1       3.225   8.019 513.914  1.00  0.00          FE  \nATOM    195   Fe MOL     1       2.416   6.873 515.904  1.00  0.00          FE  \nATOM    196   Fe MOL     1       3.238   8.022  -0.000  1.00  0.00          FE  \nATOM    197   Fe MOL     1       4.859   6.876   1.985  1.00  0.00          FE  \nATOM    198   Fe MOL     1       3.238   8.022   3.979  1.00  0.00          FE  \nATOM    199   Fe MOL     1       2.428   6.876   5.986  1.00  0.00          FE  \nATOM    200   Fe MOL     1       3.238   8.022   7.987  1.00  0.00          FE  \nATOM    201   Fe MOL     1       1.604   9.165 507.911  1.00  0.00          FE  \nATOM    202   Fe MOL     1       2.414  10.311 509.913  1.00  0.00          FE  \nATOM    203   Fe MOL     1       1.604   9.165 511.920  1.00  0.00          FE  \nATOM    204   Fe MOL     1       2.414  10.311 513.914  1.00  0.00          FE  \nATOM    205   Fe MOL     1       1.604   9.165 515.904  1.00  0.00          FE  \nATOM    206   Fe MOL     1       2.426  10.314  -0.000  1.00  0.00          FE  \nATOM    207   Fe MOL     1       4.048   9.168   1.985  1.00  0.00          FE  \nATOM    208   Fe MOL     1       2.426  10.314   3.979  1.00  0.00          FE  \nATOM    209   Fe MOL     1       1.616   9.168   5.986  1.00  0.00          FE  \nATOM    210   Fe MOL     1       2.426  10.314   7.987  1.00  0.00          FE  \nATOM    211   Fe MOL     1       0.793  11.456 507.911  1.00  0.00          FE  \nATOM    212   Fe MOL     1       1.602  12.602 509.913  1.00  0.00          FE  \nATOM    213   Fe MOL     1       0.792  11.456 511.920  1.00  0.00          FE  \nATOM    214   Fe MOL     1       1.602  12.602 513.914  1.00  0.00          FE  \nATOM    215   Fe MOL     1       0.792  11.456 515.904  1.00  0.00          FE  \nATOM    216   Fe MOL     1       1.615  12.605  -0.000  1.00  0.00          FE  \nATOM    217   Fe MOL     1       3.236  11.459   1.985  1.00  0.00          FE  \nATOM    218   Fe MOL     1       1.615  12.605   3.979  1.00  0.00          FE  \nATOM    219   Fe MOL     1       0.805  11.459   5.986  1.00  0.00          FE  \nATOM    220   Fe MOL     1       1.615  12.605   7.987  1.00  0.00          FE  \nATOM    221   Fe MOL     1      -0.019  13.748 507.911  1.00  0.00          FE  \nATOM    222   Fe MOL     1       0.791  14.894 509.913  1.00  0.00          FE  \nATOM    223   Fe MOL     1      -0.019  13.748 511.920  1.00  0.00          FE  \nATOM    224   Fe MOL     1       0.791  14.894 513.914  1.00  0.00          FE  \nATOM    225   Fe MOL     1      -0.019  13.748 515.904  1.00  0.00          FE  \nATOM    226   Fe MOL     1       0.803  14.897  -0.000  1.00  0.00          FE  \nATOM    227   Fe MOL     1       2.424  13.751   1.985  1.00  0.00          FE  \nATOM    228   Fe MOL     1       0.803  14.897   3.979  1.00  0.00          FE  \nATOM    229   Fe MOL     1      -0.007  13.751   5.986  1.00  0.00          FE  \nATOM    230   Fe MOL     1       0.803  14.897   7.987  1.00  0.00          FE  \nATOM    231   Fe MOL     1      -0.831  16.040 507.911  1.00  0.00          FE  \nATOM    232   Fe MOL     1      -0.021  17.186 509.913  1.00  0.00          FE  \nATOM    233   Fe MOL     1      -0.831  16.040 511.920  1.00  0.00          FE  \nATOM    234   Fe MOL     1      -0.021  17.186 513.914  1.00  0.00          FE  \nATOM    235   Fe MOL     1      -0.831  16.040 515.904  1.00  0.00          FE  \nATOM    236   Fe MOL     1      -0.008  17.189  -0.000  1.00  0.00          FE  \nATOM    237   Fe MOL     1       1.613  16.043   1.985  1.00  0.00          FE  \nATOM    238   Fe MOL     1      -0.009  17.189   3.979  1.00  0.00          FE  \nATOM    239   Fe MOL     1      -0.818  16.043   5.986  1.00  0.00          FE  \nATOM    240   Fe MOL     1      -0.009  17.189   7.987  1.00  0.00          FE  \nATOM    241   Fe MOL     1       7.282  -0.003 507.911  1.00  0.00          FE  \nATOM    242   Fe MOL     1       8.091   1.143 509.913  1.00  0.00          FE  \nATOM    243   Fe MOL     1       7.282  -0.003 511.920  1.00  0.00          FE  \nATOM    244   Fe MOL     1       8.091   1.143 513.914  1.00  0.00          FE  \nATOM    245   Fe MOL     1       7.282  -0.003 515.904  1.00  0.00          FE  \nATOM    246   Fe MOL     1       8.104   1.146   0.000  1.00  0.00          FE  \nATOM    247   Fe MOL     1       9.725  -0.000   1.985  1.00  0.00          FE  \nATOM    248   Fe MOL     1       8.104   1.146   3.979  1.00  0.00          FE  \nATOM    249   Fe MOL     1       7.294  -0.000   5.986  1.00  0.00          FE  \nATOM    250   Fe MOL     1       8.104   1.146   7.987  1.00  0.00          FE  \nATOM    251   Fe MOL     1       6.470   2.289 507.911  1.00  0.00          FE  \nATOM    252   Fe MOL     1       7.280   3.435 509.913  1.00  0.00          FE  \nATOM    253   Fe MOL     1       6.470   2.289 511.920  1.00  0.00          FE  \nATOM    254   Fe MOL     1       7.280   3.435 513.914  1.00  0.00          FE  \nATOM    255   Fe MOL     1       6.470   2.289 515.904  1.00  0.00          FE  \nATOM    256   Fe MOL     1       7.292   3.438  -0.000  1.00  0.00          FE  \nATOM    257   Fe MOL     1       8.914   2.292   1.985  1.00  0.00          FE  \nATOM    258   Fe MOL     1       7.292   3.438   3.979  1.00  0.00          FE  \nATOM    259   Fe MOL     1       6.482   2.292   5.986  1.00  0.00          FE  \nATOM    260   Fe MOL     1       7.292   3.438   7.987  1.00  0.00          FE  \nATOM    261   Fe MOL     1       5.658   4.581 507.911  1.00  0.00          FE  \nATOM    262   Fe MOL     1       6.468   5.727 509.913  1.00  0.00          FE  \nATOM    263   Fe MOL     1       5.658   4.581 511.920  1.00  0.00          FE  \nATOM    264   Fe MOL     1       6.468   5.727 513.914  1.00  0.00          FE  \nATOM    265   Fe MOL     1       5.658   4.581 515.904  1.00  0.00          FE  \nATOM    266   Fe MOL     1       6.481   5.730  -0.000  1.00  0.00          FE  \nATOM    267   Fe MOL     1       8.102   4.584   1.985  1.00  0.00          FE  \nATOM    268   Fe MOL     1       6.481   5.730   3.979  1.00  0.00          FE  \nATOM    269   Fe MOL     1       5.671   4.584   5.986  1.00  0.00          FE  \nATOM    270   Fe MOL     1       6.481   5.730   7.987  1.00  0.00          FE  \nATOM    271   Fe MOL     1       4.847   6.873 507.911  1.00  0.00          FE  \nATOM    272   Fe MOL     1       5.657   8.019 509.913  1.00  0.00          FE  \nATOM    273   Fe MOL     1       4.847   6.873 511.920  1.00  0.00          FE  \nATOM    274   Fe MOL     1       5.657   8.019 513.914  1.00  0.00          FE  \nATOM    275   Fe MOL     1       4.847   6.873 515.904  1.00  0.00          FE  \nATOM    276   Fe MOL     1       5.669   8.022  -0.000  1.00  0.00          FE  \nATOM    277   Fe MOL     1       7.290   6.876   1.985  1.00  0.00          FE  \nATOM    278   Fe MOL     1       5.669   8.022   3.979  1.00  0.00          FE  \nATOM    279   Fe MOL     1       4.859   6.876   5.986  1.00  0.00          FE  \nATOM    280   Fe MOL     1       5.669   8.022   7.987  1.00  0.00          FE  \nATOM    281   Fe MOL     1       4.035   9.165 507.911  1.00  0.00          FE  \nATOM    282   Fe MOL     1       4.845  10.311 509.913  1.00  0.00          FE  \nATOM    283   Fe MOL     1       4.035   9.165 511.920  1.00  0.00          FE  \nATOM    284   Fe MOL     1       4.845  10.311 513.914  1.00  0.00          FE  \nATOM    285   Fe MOL     1       4.035   9.165 515.904  1.00  0.00          FE  \nATOM    286   Fe MOL     1       4.857  10.314  -0.000  1.00  0.00          FE  \nATOM    287   Fe MOL     1       6.479   9.168   1.985  1.00  0.00          FE  \nATOM    288   Fe MOL     1       4.857  10.314   3.979  1.00  0.00          FE  \nATOM    289   Fe MOL     1       4.048   9.168   5.986  1.00  0.00          FE  \nATOM    290   Fe MOL     1       4.857  10.314   7.987  1.00  0.00          FE  \nATOM    291   Fe MOL     1       3.224  11.456 507.911  1.00  0.00          FE  \nATOM    292   Fe MOL     1       4.034  12.602 509.913  1.00  0.00          FE  \nATOM    293   Fe MOL     1       3.224  11.456 511.920  1.00  0.00          FE  \nATOM    294   Fe MOL     1       4.034  12.602 513.914  1.00  0.00          FE  \nATOM    295   Fe MOL     1       3.224  11.456 515.904  1.00  0.00          FE  \nATOM    296   Fe MOL     1       4.046  12.605  -0.000  1.00  0.00          FE  \nATOM    297   Fe MOL     1       5.667  11.459   1.985  1.00  0.00          FE  \nATOM    298   Fe MOL     1       4.046  12.605   3.979  1.00  0.00          FE  \nATOM    299   Fe MOL     1       3.236  11.459   5.986  1.00  0.00          FE  \nATOM    300   Fe MOL     1       4.046  12.605   7.987  1.00  0.00          FE  \nATOM    301   Fe MOL     1       2.412  13.748 507.911  1.00  0.00          FE  \nATOM    302   Fe MOL     1       3.222  14.894 509.913  1.00  0.00          FE  \nATOM    303   Fe MOL     1       2.412  13.748 511.920  1.00  0.00          FE  \nATOM    304   Fe MOL     1       3.222  14.894 513.914  1.00  0.00          FE  \nATOM    305   Fe MOL     1       2.412  13.748 515.904  1.00  0.00          FE  \nATOM    306   Fe MOL     1       3.234  14.897  -0.000  1.00  0.00          FE  \nATOM    307   Fe MOL     1       4.856  13.751   1.985  1.00  0.00          FE  \nATOM    308   Fe MOL     1       3.234  14.897   3.979  1.00  0.00          FE  \nATOM    309   Fe MOL     1       2.424  13.751   5.986  1.00  0.00          FE  \nATOM    310   Fe MOL     1       3.234  14.897   7.987  1.00  0.00          FE  \nATOM    311   Fe MOL     1       1.601  16.040 507.911  1.00  0.00          FE  \nATOM    312   Fe MOL     1       2.411  17.186 509.913  1.00  0.00          FE  \nATOM    313   Fe MOL     1       1.601  16.040 511.920  1.00  0.00          FE  \nATOM    314   Fe MOL     1       2.411  17.186 513.914  1.00  0.00          FE  \nATOM    315   Fe MOL     1       1.601  16.040 515.904  1.00  0.00          FE  \nATOM    316   Fe MOL     1       2.423  17.189  -0.000  1.00  0.00          FE  \nATOM    317   Fe MOL     1       4.044  16.043   1.985  1.00  0.00          FE  \nATOM    318   Fe MOL     1       2.423  17.189   3.979  1.00  0.00          FE  \nATOM    319   Fe MOL     1       1.613  16.043   5.986  1.00  0.00          FE  \nATOM    320   Fe MOL     1       2.423  17.189   7.987  1.00  0.00          FE  \nATOM    321   Fe MOL     1       9.713  -0.003 507.911  1.00  0.00          FE  \nATOM    322   Fe MOL     1      10.523   1.143 509.913  1.00  0.00          FE  \nATOM    323   Fe MOL     1       9.713  -0.003 511.920  1.00  0.00          FE  \nATOM    324   Fe MOL     1      10.523   1.143 513.914  1.00  0.00          FE  \nATOM    325   Fe MOL     1       9.713  -0.003 515.904  1.00  0.00          FE  \nATOM    326   Fe MOL     1      10.535   1.146   0.000  1.00  0.00          FE  \nATOM    327   Fe MOL     1      12.156  -0.000   1.985  1.00  0.00          FE  \nATOM    328   Fe MOL     1      10.535   1.146   3.979  1.00  0.00          FE  \nATOM    329   Fe MOL     1       9.725  -0.000   5.986  1.00  0.00          FE  \nATOM    330   Fe MOL     1      10.535   1.146   7.987  1.00  0.00          FE  \nATOM    331   Fe MOL     1       8.901   2.289 507.911  1.00  0.00          FE  \nATOM    332   Fe MOL     1       9.711   3.435 509.913  1.00  0.00          FE  \nATOM    333   Fe MOL     1       8.901   2.289 511.920  1.00  0.00          FE  \nATOM    334   Fe MOL     1       9.711   3.435 513.914  1.00  0.00          FE  \nATOM    335   Fe MOL     1       8.901   2.289 515.904  1.00  0.00          FE  \nATOM    336   Fe MOL     1       9.723   3.438  -0.000  1.00  0.00          FE  \nATOM    337   Fe MOL     1      11.345   2.292   1.985  1.00  0.00          FE  \nATOM    338   Fe MOL     1       9.723   3.438   3.979  1.00  0.00          FE  \nATOM    339   Fe MOL     1       8.914   2.292   5.986  1.00  0.00          FE  \nATOM    340   Fe MOL     1       9.723   3.438   7.987  1.00  0.00          FE  \nATOM    341   Fe MOL     1       8.090   4.581 507.911  1.00  0.00          FE  \nATOM    342   Fe MOL     1       8.900   5.727 509.913  1.00  0.00          FE  \nATOM    343   Fe MOL     1       8.090   4.581 511.920  1.00  0.00          FE  \nATOM    344   Fe MOL     1       8.900   5.727 513.914  1.00  0.00          FE  \nATOM    345   Fe MOL     1       8.090   4.581 515.904  1.00  0.00          FE  \nATOM    346   Fe MOL     1       8.912   5.730  -0.000  1.00  0.00          FE  \nATOM    347   Fe MOL     1      10.533   4.584   1.985  1.00  0.00          FE  \nATOM    348   Fe MOL     1       8.912   5.730   3.979  1.00  0.00          FE  \nATOM    349   Fe MOL     1       8.102   4.584   5.986  1.00  0.00          FE  \nATOM    350   Fe MOL     1       8.912   5.730   7.987  1.00  0.00          FE  \nATOM    351   Fe MOL     1       7.278   6.873 507.911  1.00  0.00          FE  \nATOM    352   Fe MOL     1       8.088   8.019 509.913  1.00  0.00          FE  \nATOM    353   Fe MOL     1       7.278   6.873 511.920  1.00  0.00          FE  \nATOM    354   Fe MOL     1       8.088   8.019 513.914  1.00  0.00          FE  \nATOM    355   Fe MOL     1       7.278   6.873 515.904  1.00  0.00          FE  \nATOM    356   Fe MOL     1       8.100   8.022  -0.000  1.00  0.00          FE  \nATOM    357   Fe MOL     1       9.722   6.876   1.985  1.00  0.00          FE  \nATOM    358   Fe MOL     1       8.100   8.022   3.979  1.00  0.00          FE  \nATOM    359   Fe MOL     1       7.290   6.876   5.986  1.00  0.00          FE  \nATOM    360   Fe MOL     1       8.100   8.022   7.987  1.00  0.00          FE  \nATOM    361   Fe MOL     1       6.467   9.165 507.911  1.00  0.00          FE  \nATOM    362   Fe MOL     1       7.277  10.311 509.913  1.00  0.00          FE  \nATOM    363   Fe MOL     1       6.467   9.165 511.920  1.00  0.00          FE  \nATOM    364   Fe MOL     1       7.276  10.311 513.914  1.00  0.00          FE  \nATOM    365   Fe MOL     1       6.467   9.165 515.904  1.00  0.00          FE  \nATOM    366   Fe MOL     1       7.289  10.314  -0.000  1.00  0.00          FE  \nATOM    367   Fe MOL     1       8.910   9.168   1.985  1.00  0.00          FE  \nATOM    368   Fe MOL     1       7.289  10.314   3.979  1.00  0.00          FE  \nATOM    369   Fe MOL     1       6.479   9.168   5.986  1.00  0.00          FE  \nATOM    370   Fe MOL     1       7.289  10.314   7.987  1.00  0.00          FE  \nATOM    371   Fe MOL     1       5.655  11.456 507.911  1.00  0.00          FE  \nATOM    372   Fe MOL     1       6.465  12.602 509.913  1.00  0.00          FE  \nATOM    373   Fe MOL     1       5.655  11.456 511.920  1.00  0.00          FE  \nATOM    374   Fe MOL     1       6.465  12.602 513.914  1.00  0.00          FE  \nATOM    375   Fe MOL     1       5.655  11.456 515.904  1.00  0.00          FE  \nATOM    376   Fe MOL     1       6.477  12.605  -0.000  1.00  0.00          FE  \nATOM    377   Fe MOL     1       8.099  11.459   1.985  1.00  0.00          FE  \nATOM    378   Fe MOL     1       6.477  12.605   3.979  1.00  0.00          FE  \nATOM    379   Fe MOL     1       5.667  11.459   5.986  1.00  0.00          FE  \nATOM    380   Fe MOL     1       6.477  12.605   7.987  1.00  0.00          FE  \nATOM    381   Fe MOL     1       4.844  13.748 507.911  1.00  0.00          FE  \nATOM    382   Fe MOL     1       5.653  14.894 509.913  1.00  0.00          FE  \nATOM    383   Fe MOL     1       4.844  13.748 511.920  1.00  0.00          FE  \nATOM    384   Fe MOL     1       5.653  14.894 513.914  1.00  0.00          FE  \nATOM    385   Fe MOL     1       4.843  13.748 515.904  1.00  0.00          FE  \nATOM    386   Fe MOL     1       5.666  14.897  -0.000  1.00  0.00          FE  \nATOM    387   Fe MOL     1       7.287  13.751   1.985  1.00  0.00          FE  \nATOM    388   Fe MOL     1       5.666  14.897   3.979  1.00  0.00          FE  \nATOM    389   Fe MOL     1       4.856  13.751   5.986  1.00  0.00          FE  \nATOM    390   Fe MOL     1       5.666  14.897   7.987  1.00  0.00          FE  \nATOM    391   Fe MOL     1       4.032  16.040 507.911  1.00  0.00          FE  \nATOM    392   Fe MOL     1       4.842  17.186 509.913  1.00  0.00          FE  \nATOM    393   Fe MOL     1       4.032  16.040 511.920  1.00  0.00          FE  \nATOM    394   Fe MOL     1       4.842  17.186 513.914  1.00  0.00          FE  \nATOM    395   Fe MOL     1       4.032  16.040 515.904  1.00  0.00          FE  \nATOM    396   Fe MOL     1       4.854  17.189  -0.000  1.00  0.00          FE  \nATOM    397   Fe MOL     1       6.475  16.043   1.985  1.00  0.00          FE  \nATOM    398   Fe MOL     1       4.854  17.189   3.979  1.00  0.00          FE  \nATOM    399   Fe MOL     1       4.044  16.043   5.986  1.00  0.00          FE  \nATOM    400   Fe MOL     1       4.854  17.189   7.987  1.00  0.00          FE  \nATOM    401   Fe MOL     1      12.144  -0.003 507.911  1.00  0.00          FE  \nATOM    402   Fe MOL     1      12.954   1.143 509.913  1.00  0.00          FE  \nATOM    403   Fe MOL     1      12.144  -0.003 511.920  1.00  0.00          FE  \nATOM    404   Fe MOL     1      12.954   1.143 513.914  1.00  0.00          FE  \nATOM    405   Fe MOL     1      12.144  -0.003 515.904  1.00  0.00          FE  \nATOM    406   Fe MOL     1      12.966   1.146  -0.000  1.00  0.00          FE  \nATOM    407   Fe MOL     1      14.588  -0.000   1.985  1.00  0.00          FE  \nATOM    408   Fe MOL     1      12.966   1.146   3.979  1.00  0.00          FE  \nATOM    409   Fe MOL     1      12.156  -0.000   5.986  1.00  0.00          FE  \nATOM    410   Fe MOL     1      12.966   1.146   7.987  1.00  0.00          FE  \nATOM    411   Fe MOL     1      11.333   2.289 507.911  1.00  0.00          FE  \nATOM    412   Fe MOL     1      12.142   3.435 509.913  1.00  0.00          FE  \nATOM    413   Fe MOL     1      11.333   2.289 511.920  1.00  0.00          FE  \nATOM    414   Fe MOL     1      12.142   3.435 513.914  1.00  0.00          FE  \nATOM    415   Fe MOL     1      11.333   2.289 515.904  1.00  0.00          FE  \nATOM    416   Fe MOL     1      12.155   3.438  -0.000  1.00  0.00          FE  \nATOM    417   Fe MOL     1      13.776   2.292   1.985  1.00  0.00          FE  \nATOM    418   Fe MOL     1      12.155   3.438   3.979  1.00  0.00          FE  \nATOM    419   Fe MOL     1      11.345   2.292   5.986  1.00  0.00          FE  \nATOM    420   Fe MOL     1      12.155   3.438   7.987  1.00  0.00          FE  \nATOM    421   Fe MOL     1      10.521   4.581 507.911  1.00  0.00          FE  \nATOM    422   Fe MOL     1      11.331   5.727 509.913  1.00  0.00          FE  \nATOM    423   Fe MOL     1      10.521   4.581 511.920  1.00  0.00          FE  \nATOM    424   Fe MOL     1      11.331   5.727 513.914  1.00  0.00          FE  \nATOM    425   Fe MOL     1      10.521   4.581 515.904  1.00  0.00          FE  \nATOM    426   Fe MOL     1      11.343   5.730  -0.000  1.00  0.00          FE  \nATOM    427   Fe MOL     1      12.965   4.584   1.985  1.00  0.00          FE  \nATOM    428   Fe MOL     1      11.343   5.730   3.979  1.00  0.00          FE  \nATOM    429   Fe MOL     1      10.533   4.584   5.986  1.00  0.00          FE  \nATOM    430   Fe MOL     1      11.343   5.730   7.987  1.00  0.00          FE  \nATOM    431   Fe MOL     1       9.709   6.873 507.911  1.00  0.00          FE  \nATOM    432   Fe MOL     1      10.519   8.019 509.913  1.00  0.00          FE  \nATOM    433   Fe MOL     1       9.709   6.873 511.920  1.00  0.00          FE  \nATOM    434   Fe MOL     1      10.519   8.019 513.914  1.00  0.00          FE  \nATOM    435   Fe MOL     1       9.709   6.873 515.904  1.00  0.00          FE  \nATOM    436   Fe MOL     1      10.532   8.022  -0.000  1.00  0.00          FE  \nATOM    437   Fe MOL     1      12.153   6.876   1.985  1.00  0.00          FE  \nATOM    438   Fe MOL     1      10.532   8.022   3.979  1.00  0.00          FE  \nATOM    439   Fe MOL     1       9.722   6.876   5.986  1.00  0.00          FE  \nATOM    440   Fe MOL     1      10.532   8.022   7.987  1.00  0.00          FE  \nATOM    441   Fe MOL     1       8.898   9.165 507.911  1.00  0.00          FE  \nATOM    442   Fe MOL     1       9.708  10.311 509.913  1.00  0.00          FE  \nATOM    443   Fe MOL     1       8.898   9.165 511.920  1.00  0.00          FE  \nATOM    444   Fe MOL     1       9.708  10.311 513.914  1.00  0.00          FE  \nATOM    445   Fe MOL     1       8.898   9.165 515.904  1.00  0.00          FE  \nATOM    446   Fe MOL     1       9.720  10.314  -0.000  1.00  0.00          FE  \nATOM    447   Fe MOL     1      11.341   9.168   1.985  1.00  0.00          FE  \nATOM    448   Fe MOL     1       9.720  10.314   3.979  1.00  0.00          FE  \nATOM    449   Fe MOL     1       8.910   9.168   5.986  1.00  0.00          FE  \nATOM    450   Fe MOL     1       9.720  10.314   7.987  1.00  0.00          FE  \nATOM    451   Fe MOL     1       8.086  11.456 507.911  1.00  0.00          FE  \nATOM    452   Fe MOL     1       8.896  12.602 509.913  1.00  0.00          FE  \nATOM    453   Fe MOL     1       8.086  11.456 511.920  1.00  0.00          FE  \nATOM    454   Fe MOL     1       8.896  12.602 513.914  1.00  0.00          FE  \nATOM    455   Fe MOL     1       8.086  11.456 515.904  1.00  0.00          FE  \nATOM    456   Fe MOL     1       8.909  12.605  -0.000  1.00  0.00          FE  \nATOM    457   Fe MOL     1      10.530  11.459   1.985  1.00  0.00          FE  \nATOM    458   Fe MOL     1       8.908  12.605   3.979  1.00  0.00          FE  \nATOM    459   Fe MOL     1       8.099  11.459   5.986  1.00  0.00          FE  \nATOM    460   Fe MOL     1       8.908  12.605   7.987  1.00  0.00          FE  \nATOM    461   Fe MOL     1       7.275  13.748 507.911  1.00  0.00          FE  \nATOM    462   Fe MOL     1       8.085  14.894 509.913  1.00  0.00          FE  \nATOM    463   Fe MOL     1       7.275  13.748 511.920  1.00  0.00          FE  \nATOM    464   Fe MOL     1       8.085  14.894 513.914  1.00  0.00          FE  \nATOM    465   Fe MOL     1       7.275  13.748 515.904  1.00  0.00          FE  \nATOM    466   Fe MOL     1       8.097  14.897  -0.000  1.00  0.00          FE  \nATOM    467   Fe MOL     1       9.718  13.751   1.985  1.00  0.00          FE  \nATOM    468   Fe MOL     1       8.097  14.897   3.979  1.00  0.00          FE  \nATOM    469   Fe MOL     1       7.287  13.751   5.986  1.00  0.00          FE  \nATOM    470   Fe MOL     1       8.097  14.897   7.987  1.00  0.00          FE  \nATOM    471   Fe MOL     1       6.463  16.040 507.911  1.00  0.00          FE  \nATOM    472   Fe MOL     1       7.273  17.186 509.913  1.00  0.00          FE  \nATOM    473   Fe MOL     1       6.463  16.040 511.920  1.00  0.00          FE  \nATOM    474   Fe MOL     1       7.273  17.186 513.914  1.00  0.00          FE  \nATOM    475   Fe MOL     1       6.463  16.040 515.904  1.00  0.00          FE  \nATOM    476   Fe MOL     1       7.285  17.189  -0.000  1.00  0.00          FE  \nATOM    477   Fe MOL     1       8.907  16.043   1.985  1.00  0.00          FE  \nATOM    478   Fe MOL     1       7.285  17.189   3.979  1.00  0.00          FE  \nATOM    479   Fe MOL     1       6.475  16.043   5.986  1.00  0.00          FE  \nATOM    480   Fe MOL     1       7.285  17.189   7.987  1.00  0.00          FE  \nATOM    481   Fe MOL     1      14.575  -0.003 507.911  1.00  0.00          FE  \nATOM    482   Fe MOL     1      15.385   1.143 509.913  1.00  0.00          FE  \nATOM    483   Fe MOL     1      14.575  -0.003 511.920  1.00  0.00          FE  \nATOM    484   Fe MOL     1      15.385   1.143 513.914  1.00  0.00          FE  \nATOM    485   Fe MOL     1      14.575  -0.003 515.904  1.00  0.00          FE  \nATOM    486   Fe MOL     1      15.398   1.146  -0.000  1.00  0.00          FE  \nATOM    487   Fe MOL     1      17.019  -0.000   1.985  1.00  0.00          FE  \nATOM    488   Fe MOL     1      15.398   1.146   3.979  1.00  0.00          FE  \nATOM    489   Fe MOL     1      14.588  -0.000   5.986  1.00  0.00          FE  \nATOM    490   Fe MOL     1      15.398   1.146   7.987  1.00  0.00          FE  \nATOM    491   Fe MOL     1      13.764   2.289 507.911  1.00  0.00          FE  \nATOM    492   Fe MOL     1      14.574   3.435 509.913  1.00  0.00          FE  \nATOM    493   Fe MOL     1      13.764   2.289 511.920  1.00  0.00          FE  \nATOM    494   Fe MOL     1      14.574   3.435 513.914  1.00  0.00          FE  \nATOM    495   Fe MOL     1      13.764   2.289 515.904  1.00  0.00          FE  \nATOM    496   Fe MOL     1      14.586   3.438  -0.000  1.00  0.00          FE  \nATOM    497   Fe MOL     1      16.207   2.292   1.985  1.00  0.00          FE  \nATOM    498   Fe MOL     1      14.586   3.438   3.979  1.00  0.00          FE  \nATOM    499   Fe MOL     1      13.776   2.292   5.986  1.00  0.00          FE  \nATOM    500   Fe MOL     1      14.586   3.438   7.987  1.00  0.00          FE  \nATOM    501   Fe MOL     1      12.952   4.581 507.911  1.00  0.00          FE  \nATOM    502   Fe MOL     1      13.762   5.727 509.913  1.00  0.00          FE  \nATOM    503   Fe MOL     1      12.952   4.581 511.920  1.00  0.00          FE  \nATOM    504   Fe MOL     1      13.762   5.727 513.914  1.00  0.00          FE  \nATOM    505   Fe MOL     1      12.952   4.581 515.904  1.00  0.00          FE  \nATOM    506   Fe MOL     1      13.774   5.730   0.000  1.00  0.00          FE  \nATOM    507   Fe MOL     1      15.396   4.584   1.985  1.00  0.00          FE  \nATOM    508   Fe MOL     1      13.774   5.730   3.979  1.00  0.00          FE  \nATOM    509   Fe MOL     1      12.965   4.584   5.986  1.00  0.00          FE  \nATOM    510   Fe MOL     1      13.774   5.730   7.987  1.00  0.00          FE  \nATOM    511   Fe MOL     1      12.141   6.873 507.911  1.00  0.00          FE  \nATOM    512   Fe MOL     1      12.951   8.019 509.913  1.00  0.00          FE  \nATOM    513   Fe MOL     1      12.141   6.873 511.920  1.00  0.00          FE  \nATOM    514   Fe MOL     1      12.951   8.019 513.914  1.00  0.00          FE  \nATOM    515   Fe MOL     1      12.141   6.873 515.904  1.00  0.00          FE  \nATOM    516   Fe MOL     1      12.963   8.022  -0.000  1.00  0.00          FE  \nATOM    517   Fe MOL     1      14.584   6.876   1.985  1.00  0.00          FE  \nATOM    518   Fe MOL     1      12.963   8.022   3.979  1.00  0.00          FE  \nATOM    519   Fe MOL     1      12.153   6.876   5.986  1.00  0.00          FE  \nATOM    520   Fe MOL     1      12.963   8.022   7.987  1.00  0.00          FE  \nATOM    521   Fe MOL     1      11.329   9.165 507.911  1.00  0.00          FE  \nATOM    522   Fe MOL     1      12.139  10.311 509.913  1.00  0.00          FE  \nATOM    523   Fe MOL     1      11.329   9.165 511.920  1.00  0.00          FE  \nATOM    524   Fe MOL     1      12.139  10.311 513.914  1.00  0.00          FE  \nATOM    525   Fe MOL     1      11.329   9.165 515.904  1.00  0.00          FE  \nATOM    526   Fe MOL     1      12.151  10.314  -0.000  1.00  0.00          FE  \nATOM    527   Fe MOL     1      13.773   9.168   1.985  1.00  0.00          FE  \nATOM    528   Fe MOL     1      12.151  10.314   3.979  1.00  0.00          FE  \nATOM    529   Fe MOL     1      11.341   9.168   5.986  1.00  0.00          FE  \nATOM    530   Fe MOL     1      12.151  10.314   7.987  1.00  0.00          FE  \nATOM    531   Fe MOL     1      10.518  11.456 507.911  1.00  0.00          FE  \nATOM    532   Fe MOL     1      11.328  12.602 509.913  1.00  0.00          FE  \nATOM    533   Fe MOL     1      10.518  11.456 511.920  1.00  0.00          FE  \nATOM    534   Fe MOL     1      11.328  12.602 513.914  1.00  0.00          FE  \nATOM    535   Fe MOL     1      10.518  11.456 515.904  1.00  0.00          FE  \nATOM    536   Fe MOL     1      11.340  12.605  -0.000  1.00  0.00          FE  \nATOM    537   Fe MOL     1      12.961  11.459   1.985  1.00  0.00          FE  \nATOM    538   Fe MOL     1      11.340  12.605   3.979  1.00  0.00          FE  \nATOM    539   Fe MOL     1      10.530  11.459   5.986  1.00  0.00          FE  \nATOM    540   Fe MOL     1      11.340  12.605   7.987  1.00  0.00          FE  \nATOM    541   Fe MOL     1       9.706  13.748 507.911  1.00  0.00          FE  \nATOM    542   Fe MOL     1      10.516  14.894 509.913  1.00  0.00          FE  \nATOM    543   Fe MOL     1       9.706  13.748 511.920  1.00  0.00          FE  \nATOM    544   Fe MOL     1      10.516  14.894 513.914  1.00  0.00          FE  \nATOM    545   Fe MOL     1       9.706  13.748 515.904  1.00  0.00          FE  \nATOM    546   Fe MOL     1      10.528  14.897  -0.000  1.00  0.00          FE  \nATOM    547   Fe MOL     1      12.150  13.751   1.985  1.00  0.00          FE  \nATOM    548   Fe MOL     1      10.528  14.897   3.979  1.00  0.00          FE  \nATOM    549   Fe MOL     1       9.718  13.751   5.986  1.00  0.00          FE  \nATOM    550   Fe MOL     1      10.528  14.897   7.987  1.00  0.00          FE  \nATOM    551   Fe MOL     1       8.895  16.040 507.911  1.00  0.00          FE  \nATOM    552   Fe MOL     1       9.704  17.186 509.913  1.00  0.00          FE  \nATOM    553   Fe MOL     1       8.895  16.040 511.920  1.00  0.00          FE  \nATOM    554   Fe MOL     1       9.704  17.186 513.914  1.00  0.00          FE  \nATOM    555   Fe MOL     1       8.895  16.040 515.904  1.00  0.00          FE  \nATOM    556   Fe MOL     1       9.717  17.189  -0.000  1.00  0.00          FE  \nATOM    557   Fe MOL     1      11.338  16.043   1.985  1.00  0.00          FE  \nATOM    558   Fe MOL     1       9.717  17.189   3.979  1.00  0.00          FE  \nATOM    559   Fe MOL     1       8.907  16.043   5.986  1.00  0.00          FE  \nATOM    560   Fe MOL     1       9.717  17.189   7.987  1.00  0.00          FE  \nATOM    561   Fe MOL     1      17.007  -0.003 507.911  1.00  0.00          FE  \nATOM    562   Fe MOL     1      17.817   1.143 509.913  1.00  0.00          FE  \nATOM    563   Fe MOL     1      17.007  -0.003 511.920  1.00  0.00          FE  \nATOM    564   Fe MOL     1      17.817   1.143 513.914  1.00  0.00          FE  \nATOM    565   Fe MOL     1      17.007  -0.003 515.904  1.00  0.00          FE  \nATOM    566   Fe MOL     1      17.829   1.146  -0.000  1.00  0.00          FE  \nATOM    567   Fe MOL     1      -0.000  -0.000   1.985  1.00  0.00          FE  \nATOM    568   Fe MOL     1      17.829   1.146   3.979  1.00  0.00          FE  \nATOM    569   Fe MOL     1      17.019  -0.000   5.986  1.00  0.00          FE  \nATOM    570   Fe MOL     1      17.829   1.146   7.987  1.00  0.00          FE  \nATOM    571   Fe MOL     1      16.195   2.289 507.911  1.00  0.00          FE  \nATOM    572   Fe MOL     1      17.005   3.435 509.913  1.00  0.00          FE  \nATOM    573   Fe MOL     1      16.195   2.289 511.920  1.00  0.00          FE  \nATOM    574   Fe MOL     1      17.005   3.435 513.914  1.00  0.00          FE  \nATOM    575   Fe MOL     1      16.195   2.289 515.904  1.00  0.00          FE  \nATOM    576   Fe MOL     1      17.017   3.438  -0.000  1.00  0.00          FE  \nATOM    577   Fe MOL     1      -0.812   2.292   1.985  1.00  0.00          FE  \nATOM    578   Fe MOL     1      17.017   3.438   3.979  1.00  0.00          FE  \nATOM    579   Fe MOL     1      16.207   2.292   5.986  1.00  0.00          FE  \nATOM    580   Fe MOL     1      17.017   3.438   7.987  1.00  0.00          FE  \nATOM    581   Fe MOL     1      15.384   4.581 507.911  1.00  0.00          FE  \nATOM    582   Fe MOL     1      16.193   5.727 509.913  1.00  0.00          FE  \nATOM    583   Fe MOL     1      15.384   4.581 511.920  1.00  0.00          FE  \nATOM    584   Fe MOL     1      16.193   5.727 513.914  1.00  0.00          FE  \nATOM    585   Fe MOL     1      15.384   4.581 515.904  1.00  0.00          FE  \nATOM    586   Fe MOL     1      16.206   5.730  -0.000  1.00  0.00          FE  \nATOM    587   Fe MOL     1      -1.623   4.584   1.985  1.00  0.00          FE  \nATOM    588   Fe MOL     1      16.206   5.730   3.979  1.00  0.00          FE  \nATOM    589   Fe MOL     1      15.396   4.584   5.986  1.00  0.00          FE  \nATOM    590   Fe MOL     1      16.206   5.730   7.987  1.00  0.00          FE  \nATOM    591   Fe MOL     1      14.572   6.873 507.911  1.00  0.00          FE  \nATOM    592   Fe MOL     1      15.382   8.019 509.913  1.00  0.00          FE  \nATOM    593   Fe MOL     1      14.572   6.873 511.920  1.00  0.00          FE  \nATOM    594   Fe MOL     1      15.382   8.019 513.914  1.00  0.00          FE  \nATOM    595   Fe MOL     1      14.572   6.873 515.904  1.00  0.00          FE  \nATOM    596   Fe MOL     1      15.394   8.022  -0.000  1.00  0.00          FE  \nATOM    597   Fe MOL     1      -2.435   6.876   1.985  1.00  0.00          FE  \nATOM    598   Fe MOL     1      15.394   8.022   3.979  1.00  0.00          FE  \nATOM    599   Fe MOL     1      14.584   6.876   5.986  1.00  0.00          FE  \nATOM    600   Fe MOL     1      15.394   8.022   7.987  1.00  0.00          FE  \nATOM    601   Fe MOL     1      13.761   9.165 507.911  1.00  0.00          FE  \nATOM    602   Fe MOL     1      14.570  10.311 509.913  1.00  0.00          FE  \nATOM    603   Fe MOL     1      13.760   9.165 511.920  1.00  0.00          FE  \nATOM    604   Fe MOL     1      14.570  10.311 513.914  1.00  0.00          FE  \nATOM    605   Fe MOL     1      13.760   9.165 515.904  1.00  0.00          FE  \nATOM    606   Fe MOL     1      14.583  10.314  -0.000  1.00  0.00          FE  \nATOM    607   Fe MOL     1      -3.246   9.168   1.985  1.00  0.00          FE  \nATOM    608   Fe MOL     1      14.583  10.314   3.979  1.00  0.00          FE  \nATOM    609   Fe MOL     1      13.773   9.168   5.986  1.00  0.00          FE  \nATOM    610   Fe MOL     1      14.583  10.314   7.987  1.00  0.00          FE  \nATOM    611   Fe MOL     1      12.949  11.456 507.911  1.00  0.00          FE  \nATOM    612   Fe MOL     1      13.759  12.602 509.913  1.00  0.00          FE  \nATOM    613   Fe MOL     1      12.949  11.456 511.920  1.00  0.00          FE  \nATOM    614   Fe MOL     1      13.759  12.602 513.914  1.00  0.00          FE  \nATOM    615   Fe MOL     1      12.949  11.456 515.904  1.00  0.00          FE  \nATOM    616   Fe MOL     1      13.771  12.605  -0.000  1.00  0.00          FE  \nATOM    617   Fe MOL     1      -4.058  11.459   1.985  1.00  0.00          FE  \nATOM    618   Fe MOL     1      13.771  12.605   3.979  1.00  0.00          FE  \nATOM    619   Fe MOL     1      12.961  11.459   5.986  1.00  0.00          FE  \nATOM    620   Fe MOL     1      13.771  12.605   7.987  1.00  0.00          FE  \nATOM    621   Fe MOL     1      12.137  13.748 507.911  1.00  0.00          FE  \nATOM    622   Fe MOL     1      12.947  14.894 509.913  1.00  0.00          FE  \nATOM    623   Fe MOL     1      12.137  13.748 511.920  1.00  0.00          FE  \nATOM    624   Fe MOL     1      12.947  14.894 513.914  1.00  0.00          FE  \nATOM    625   Fe MOL     1      12.137  13.748 515.904  1.00  0.00          FE  \nATOM    626   Fe MOL     1      12.960  14.897  -0.000  1.00  0.00          FE  \nATOM    627   Fe MOL     1      -4.869  13.751   1.985  1.00  0.00          FE  \nATOM    628   Fe MOL     1      12.959  14.897   3.979  1.00  0.00          FE  \nATOM    629   Fe MOL     1      12.150  13.751   5.986  1.00  0.00          FE  \nATOM    630   Fe MOL     1      12.959  14.897   7.987  1.00  0.00          FE  \nATOM    631   Fe MOL     1      11.326  16.040 507.911  1.00  0.00          FE  \nATOM    632   Fe MOL     1      12.136  17.186 509.913  1.00  0.00          FE  \nATOM    633   Fe MOL     1      11.326  16.040 511.920  1.00  0.00          FE  \nATOM    634   Fe MOL     1      12.136  17.186 513.914  1.00  0.00          FE  \nATOM    635   Fe MOL     1      11.326  16.040 515.904  1.00  0.00          FE  \nATOM    636   Fe MOL     1      12.148  17.189   0.000  1.00  0.00          FE  \nATOM    637   Fe MOL     1      -5.681  16.043   1.985  1.00  0.00          FE  \nATOM    638   Fe MOL     1      12.148  17.189   3.979  1.00  0.00          FE  \nATOM    639   Fe MOL     1      11.338  16.043   5.986  1.00  0.00          FE  \nATOM    640   Fe MOL     1      12.148  17.189   7.987  1.00  0.00          FE  \nATOM    641    O MOL     1      19.772   1.726 177.680  1.00  0.00           O  \nATOM    642    C MOL     1      18.403   1.492 177.322  1.00  0.00           C  \nATOM    643    C MOL     1      18.057   0.038 177.584  1.00  0.00           C  \nATOM    644    O MOL     1      17.928  -0.290 178.963  1.00  0.00           O  \nATOM    645    C MOL     1      19.137  -0.720 179.590  1.00  0.00           C  \nATOM    646    C MOL     1      18.779  -1.099 181.017  1.00  0.00           C  \nATOM    647    O MOL     1      19.979  -1.513 181.658  1.00  0.00           O  \nATOM    648    C MOL     1      19.784  -2.017 182.972  1.00  0.00           C  \nATOM    649    C MOL     1      19.476  -0.960 184.021  1.00  0.00           C  \nATOM    650    O MOL     1      20.608  -0.120 184.189  1.00  0.00           O  \nATOM    651    C MOL     1      20.366   0.947 185.094  1.00  0.00           C  \nATOM    652    C MOL     1      21.632   1.800 185.138  1.00  0.00           C  \nATOM    653    O MOL     1      21.484   2.962 185.946  1.00  0.00           O  \nATOM    654    C MOL     1      21.559   2.736 187.355  1.00  0.00           C  \nATOM    655    C MOL     1      20.225   3.057 188.018  1.00  0.00           C  \nATOM    656    O MOL     1      20.418   2.943 189.424  1.00  0.00           O  \nATOM    657    C MOL     1      19.252   3.226 190.197  1.00  0.00           C  \nATOM    658    C MOL     1      18.339   1.999 190.311  1.00  0.00           C  \nATOM    659    O MOL     1      17.197   2.276 191.124  1.00  0.00           O  \nATOM    660    C MOL     1      17.236   1.713 192.429  1.00  0.00           C  \nATOM    661    C MOL     1      18.320   2.267 193.354  1.00  0.00           C  \nATOM    662    O MOL     1      18.323   3.684 193.501  1.00  0.00           O  \nATOM    663    C MOL     1      17.138   4.251 194.049  1.00  0.00           C  \nATOM    664    C MOL     1      16.761   3.733 195.440  1.00  0.00           C  \nATOM    665    O MOL     1      17.819   3.755 196.388  1.00  0.00           O  \nATOM    666    C MOL     1      18.256   5.067 196.733  1.00  0.00           C  \nATOM    667    C MOL     1      19.253   4.982 197.875  1.00  0.00           C  \nATOM    668    O MOL     1      18.671   4.563 199.105  1.00  0.00           O  \nATOM    669    C MOL     1      18.781   3.161 199.358  1.00  0.00           C  \nATOM    670    C MOL     1      18.011   2.879 200.644  1.00  0.00           C  \nATOM    671    O MOL     1      18.227   1.538 201.093  1.00  0.00           O  \nATOM    672    C MOL     1      17.383   0.550 200.503  1.00  0.00           C  \nATOM    673    C MOL     1      16.086   0.342 201.265  1.00  0.00           C  \nATOM    674    O MOL     1      15.174   1.399 200.958  1.00  0.00           O  \nATOM    675    C MOL     1      14.148   1.588 201.929  1.00  0.00           C  \nATOM    676    C MOL     1      14.583   2.611 202.987  1.00  0.00           C  \nATOM    677    O MOL     1      13.567   2.814 203.969  1.00  0.00           O  \nATOM    678    C MOL     1      12.565   3.760 203.591  1.00  0.00           C  \nATOM    679    C MOL     1      12.957   5.187 203.999  1.00  0.00           C  \nATOM    680    O MOL     1      11.989   6.141 203.571  1.00  0.00           O  \nATOM    681    C MOL     1      10.865   6.250 204.437  1.00  0.00           C  \nATOM    682    C MOL     1       9.873   7.233 203.839  1.00  0.00           C  \nATOM    683    O MOL     1      10.316   8.589 203.845  1.00  0.00           O  \nATOM    684    C MOL     1      10.096   9.269 205.078  1.00  0.00           C  \nATOM    685    C MOL     1       8.675   9.821 205.158  1.00  0.00           C  \nATOM    686    H MOL     1      19.943   2.681 177.639  1.00  0.00           H  \nATOM    687    H MOL     1      17.723   2.132 177.911  1.00  0.00           H  \nATOM    688    H MOL     1      18.235   1.701 176.247  1.00  0.00           H  \nATOM    689    H MOL     1      17.076  -0.167 177.125  1.00  0.00           H  \nATOM    690    H MOL     1      18.806  -0.615 177.097  1.00  0.00           H  \nATOM    691    H MOL     1      19.897   0.077 179.588  1.00  0.00           H  \nATOM    692    H MOL     1      19.555  -1.597 179.059  1.00  0.00           H  \nATOM    693    H MOL     1      18.325  -0.225 181.520  1.00  0.00           H  \nATOM    694    H MOL     1      18.033  -1.918 181.019  1.00  0.00           H  \nATOM    695    H MOL     1      18.966  -2.765 182.982  1.00  0.00           H  \nATOM    696    H MOL     1      20.722  -2.525 183.239  1.00  0.00           H  \nATOM    697    H MOL     1      18.593  -0.358 183.732  1.00  0.00           H  \nATOM    698    H MOL     1      19.225  -1.471 184.974  1.00  0.00           H  \nATOM    699    H MOL     1      19.512   1.565 184.754  1.00  0.00           H  \nATOM    700    H MOL     1      20.118   0.552 186.101  1.00  0.00           H  \nATOM    701    H MOL     1      22.484   1.185 185.480  1.00  0.00           H  \nATOM    702    H MOL     1      21.856   2.156 184.122  1.00  0.00           H  \nATOM    703    H MOL     1      21.851   1.696 187.576  1.00  0.00           H  \nATOM    704    H MOL     1      22.335   3.399 187.773  1.00  0.00           H  \nATOM    705    H MOL     1      19.916   4.086 187.751  1.00  0.00           H  \nATOM    706    H MOL     1      19.443   2.366 187.651  1.00  0.00           H  \nATOM    707    H MOL     1      19.597   3.534 191.193  1.00  0.00           H  \nATOM    708    H MOL     1      18.686   4.072 189.765  1.00  0.00           H  \nATOM    709    H MOL     1      17.963   1.709 189.316  1.00  0.00           H  \nATOM    710    H MOL     1      18.916   1.146 190.712  1.00  0.00           H  \nATOM    711    H MOL     1      16.234   1.893 192.847  1.00  0.00           H  \nATOM    712    H MOL     1      17.377   0.613 192.378  1.00  0.00           H  \nATOM    713    H MOL     1      19.320   2.024 192.966  1.00  0.00           H  \nATOM    714    H MOL     1      18.223   1.761 194.334  1.00  0.00           H  \nATOM    715    H MOL     1      16.269   4.100 193.380  1.00  0.00           H  \nATOM    716    H MOL     1      17.336   5.332 194.078  1.00  0.00           H  \nATOM    717    H MOL     1      15.900   4.335 195.799  1.00  0.00           H  \nATOM    718    H MOL     1      16.433   2.685 195.396  1.00  0.00           H  \nATOM    719    H MOL     1      17.390   5.685 197.041  1.00  0.00           H  \nATOM    720    H MOL     1      18.748   5.560 195.873  1.00  0.00           H  \nATOM    721    H MOL     1      19.662   5.992 198.042  1.00  0.00           H  \nATOM    722    H MOL     1      20.089   4.319 197.592  1.00  0.00           H  \nATOM    723    H MOL     1      18.372   2.583 198.511  1.00  0.00           H  \nATOM    724    H MOL     1      19.842   2.878 199.495  1.00  0.00           H  \nATOM    725    H MOL     1      18.393   3.535 201.440  1.00  0.00           H  \nATOM    726    H MOL     1      16.939   3.086 200.505  1.00  0.00           H  \nATOM    727    H MOL     1      17.954  -0.392 200.524  1.00  0.00           H  \nATOM    728    H MOL     1      17.156   0.787 199.449  1.00  0.00           H  \nATOM    729    H MOL     1      15.639  -0.631 200.977  1.00  0.00           H  \nATOM    730    H MOL     1      16.309   0.310 202.346  1.00  0.00           H  \nATOM    731    H MOL     1      13.875   0.636 202.419  1.00  0.00           H  \nATOM    732    H MOL     1      13.264   1.952 201.385  1.00  0.00           H  \nATOM    733    H MOL     1      14.864   3.554 202.485  1.00  0.00           H  \nATOM    734    H MOL     1      15.469   2.244 203.527  1.00  0.00           H  \nATOM    735    H MOL     1      12.370   3.738 202.504  1.00  0.00           H  \nATOM    736    H MOL     1      11.642   3.452 204.104  1.00  0.00           H  \nATOM    737    H MOL     1      13.111   5.235 205.093  1.00  0.00           H  \nATOM    738    H MOL     1      13.901   5.471 203.511  1.00  0.00           H  \nATOM    739    H MOL     1      11.191   6.574 205.445  1.00  0.00           H  \nATOM    740    H MOL     1      10.349   5.276 204.556  1.00  0.00           H  \nATOM    741    H MOL     1       8.910   7.125 204.372  1.00  0.00           H  \nATOM    742    H MOL     1       9.709   6.973 202.783  1.00  0.00           H  \nATOM    743    H MOL     1      10.284   8.617 205.949  1.00  0.00           H  \nATOM    744    H MOL     1      10.820  10.095 205.116  1.00  0.00           H  \nATOM    745    H MOL     1       8.498  10.539 204.334  1.00  0.00           H  \nATOM    746    H MOL     1       7.948   8.995 205.043  1.00  0.00           H  \nATOM    747    O MOL     1       8.532  10.461 206.421  1.00  0.00           O  \nATOM    748    C MOL     1       7.191  10.837 206.730  1.00  0.00           C  \nATOM    749    C MOL     1       6.288   9.686 207.172  1.00  0.00           C  \nATOM    750    O MOL     1       6.626   9.124 208.433  1.00  0.00           O  \nATOM    751    C MOL     1       7.706   8.190 208.399  1.00  0.00           C  \nATOM    752    C MOL     1       7.776   7.549 209.774  1.00  0.00           C  \nATOM    753    O MOL     1       8.956   6.757 209.816  1.00  0.00           O  \nATOM    754    C MOL     1       9.052   5.927 210.967  1.00  0.00           C  \nATOM    755    C MOL     1       9.167   6.672 212.287  1.00  0.00           C  \nATOM    756    O MOL     1      10.374   7.419 212.312  1.00  0.00           O  \nATOM    757    C MOL     1      10.415   8.349 213.386  1.00  0.00           C  \nATOM    758    C MOL     1      11.755   9.076 213.306  1.00  0.00           C  \nATOM    759    O MOL     1      11.826  10.219 214.151  1.00  0.00           O  \nATOM    760    C MOL     1      11.942   9.942 215.547  1.00  0.00           C  \nATOM    761    C MOL     1      10.639  10.260 216.272  1.00  0.00           C  \nATOM    762    O MOL     1      10.880  10.117 217.669  1.00  0.00           O  \nATOM    763    C MOL     1       9.728  10.353 218.478  1.00  0.00           C  \nATOM    764    C MOL     1       8.879   9.084 218.619  1.00  0.00           C  \nATOM    765    O MOL     1       7.693   9.329 219.379  1.00  0.00           O  \nATOM    766    C MOL     1       7.717   8.842 220.715  1.00  0.00           C  \nATOM    767    C MOL     1       8.712   9.532 221.649  1.00  0.00           C  \nATOM    768    O MOL     1       8.628  10.954 221.681  1.00  0.00           O  \nATOM    769    C MOL     1       7.361  11.491 222.047  1.00  0.00           C  \nATOM    770    C MOL     1       6.850  11.056 223.422  1.00  0.00           C  \nATOM    771    O MOL     1       7.787  11.208 224.480  1.00  0.00           O  \nATOM    772    C MOL     1       8.124  12.561 224.767  1.00  0.00           C  \nATOM    773    C MOL     1       8.944  12.616 226.043  1.00  0.00           C  \nATOM    774    O MOL     1       8.201  12.259 227.203  1.00  0.00           O  \nATOM    775    C MOL     1       8.325  10.886 227.582  1.00  0.00           C  \nATOM    776    C MOL     1       7.325  10.639 228.706  1.00  0.00           C  \nATOM    777    O MOL     1       7.463   9.320 229.236  1.00  0.00           O  \nATOM    778    C MOL     1       6.746   8.309 228.525  1.00  0.00           C  \nATOM    779    C MOL     1       5.429   7.959 229.194  1.00  0.00           C  \nATOM    780    O MOL     1       4.471   8.998 228.986  1.00  0.00           O  \nATOM    781    C MOL     1       3.702   9.342 230.139  1.00  0.00           C  \nATOM    782    C MOL     1       4.459  10.346 231.020  1.00  0.00           C  \nATOM    783    O MOL     1       3.758  10.622 232.235  1.00  0.00           O  \nATOM    784    C MOL     1       2.691  11.562 232.094  1.00  0.00           C  \nATOM    785    C MOL     1       3.185  13.002 232.276  1.00  0.00           C  \nATOM    786    O MOL     1       2.138  13.954 232.092  1.00  0.00           O  \nATOM    787    C MOL     1       1.296  14.117 233.228  1.00  0.00           C  \nATOM    788    C MOL     1       0.288  15.217 232.937  1.00  0.00           C  \nATOM    789    O MOL     1       0.854  16.522 232.895  1.00  0.00           O  \nATOM    790    C MOL     1       0.992  17.145 234.177  1.00  0.00           C  \nATOM    791    C MOL     1      -0.298  17.795 234.665  1.00  0.00           C  \nATOM    792    H MOL     1       7.269  11.564 207.551  1.00  0.00           H  \nATOM    793    H MOL     1       6.723  11.342 205.861  1.00  0.00           H  \nATOM    794    H MOL     1       5.268  10.085 207.283  1.00  0.00           H  \nATOM    795    H MOL     1       6.251   8.893 206.400  1.00  0.00           H  \nATOM    796    H MOL     1       8.663   8.688 208.173  1.00  0.00           H  \nATOM    797    H MOL     1       7.525   7.422 207.621  1.00  0.00           H  \nATOM    798    H MOL     1       7.797   8.351 210.534  1.00  0.00           H  \nATOM    799    H MOL     1       6.878   6.928 209.959  1.00  0.00           H  \nATOM    800    H MOL     1       8.172   5.253 211.032  1.00  0.00           H  \nATOM    801    H MOL     1       9.949   5.312 210.811  1.00  0.00           H  \nATOM    802    H MOL     1       8.300   7.344 212.434  1.00  0.00           H  \nATOM    803    H MOL     1       9.146   5.931 213.114  1.00  0.00           H  \nATOM    804    H MOL     1       9.590   9.083 213.296  1.00  0.00           H  \nATOM    805    H MOL     1      10.298   7.825 214.356  1.00  0.00           H  \nATOM    806    H MOL     1      12.581   8.374 213.526  1.00  0.00           H  \nATOM    807    H MOL     1      11.887   9.447 212.280  1.00  0.00           H  \nATOM    808    H MOL     1      12.232   8.891 215.721  1.00  0.00           H  \nATOM    809    H MOL     1      12.740  10.583 215.954  1.00  0.00           H  \nATOM    810    H MOL     1      10.333  11.297 216.037  1.00  0.00           H  \nATOM    811    H MOL     1       9.832   9.587 215.927  1.00  0.00           H  \nATOM    812    H MOL     1      10.088  10.686 219.460  1.00  0.00           H  \nATOM    813    H MOL     1       9.108  11.166 218.059  1.00  0.00           H  \nATOM    814    H MOL     1       8.555   8.737 217.625  1.00  0.00           H  \nATOM    815    H MOL     1       9.482   8.278 219.073  1.00  0.00           H  \nATOM    816    H MOL     1       6.686   8.965 221.079  1.00  0.00           H  \nATOM    817    H MOL     1       7.944   7.757 220.734  1.00  0.00           H  \nATOM    818    H MOL     1       9.745   9.322 221.338  1.00  0.00           H  \nATOM    819    H MOL     1       8.584   9.099 222.660  1.00  0.00           H  \nATOM    820    H MOL     1       6.584  11.243 221.299  1.00  0.00           H  \nATOM    821    H MOL     1       7.502  12.581 222.012  1.00  0.00           H  \nATOM    822    H MOL     1       5.924  11.629 223.634  1.00  0.00           H  \nATOM    823    H MOL     1       6.584   9.989 223.426  1.00  0.00           H  \nATOM    824    H MOL     1       7.199  13.159 224.898  1.00  0.00           H  \nATOM    825    H MOL     1       8.716  13.007 223.944  1.00  0.00           H  \nATOM    826    H MOL     1       9.282  13.656 226.186  1.00  0.00           H  \nATOM    827    H MOL     1       9.840  11.979 225.939  1.00  0.00           H  \nATOM    828    H MOL     1       8.121  10.227 226.721  1.00  0.00           H  \nATOM    829    H MOL     1       9.350  10.680 227.946  1.00  0.00           H  \nATOM    830    H MOL     1       7.528  11.334 229.534  1.00  0.00           H  \nATOM    831    H MOL     1       6.298  10.817 228.348  1.00  0.00           H  \nATOM    832    H MOL     1       7.384   7.410 228.505  1.00  0.00           H  \nATOM    833    H MOL     1       6.558   8.616 227.481  1.00  0.00           H  \nATOM    834    H MOL     1       5.043   7.013 228.766  1.00  0.00           H  \nATOM    835    H MOL     1       5.606   7.797 230.271  1.00  0.00           H  \nATOM    836    H MOL     1       3.452   8.446 230.736  1.00  0.00           H  \nATOM    837    H MOL     1       2.765   9.778 229.763  1.00  0.00           H  \nATOM    838    H MOL     1       4.654  11.267 230.440  1.00  0.00           H  \nATOM    839    H MOL     1       5.433   9.927 231.312  1.00  0.00           H  \nATOM    840    H MOL     1       2.193  11.474 231.113  1.00  0.00           H  \nATOM    841    H MOL     1       1.955  11.307 232.873  1.00  0.00           H  \nATOM    842    H MOL     1       3.655  13.117 233.270  1.00  0.00           H  \nATOM    843    H MOL     1       3.942  13.237 231.513  1.00  0.00           H  \nATOM    844    H MOL     1       1.904  14.360 234.121  1.00  0.00           H  \nATOM    845    H MOL     1       0.737  13.187 233.457  1.00  0.00           H  \nATOM    846    H MOL     1      -0.532  15.151 233.676  1.00  0.00           H  \nATOM    847    H MOL     1      -0.141  15.039 231.938  1.00  0.00           H  \nATOM    848    H MOL     1       1.365  16.419 234.924  1.00  0.00           H  \nATOM    849    H MOL     1       1.774  17.906 234.046  1.00  0.00           H  \nATOM    850    H MOL     1      -0.647  18.544 233.941  1.00  0.00           H  \nATOM    851    H MOL     1      -1.098  17.057 234.812  1.00  0.00           H  \nATOM    852    H MOL     1      -0.128  18.299 235.628  1.00  0.00           H  \nATOM    853    O MOL     1     -12.460  11.068 431.870  1.00  0.00           O  \nATOM    854    C MOL     1     -12.381   9.732 432.391  1.00  0.00           C  \nATOM    855    C MOL     1     -11.431   8.909 431.540  1.00  0.00           C  \nATOM    856    O MOL     1     -10.057   9.210 431.749  1.00  0.00           O  \nATOM    857    C MOL     1      -9.535  10.247 430.917  1.00  0.00           C  \nATOM    858    C MOL     1      -8.059  10.354 431.253  1.00  0.00           C  \nATOM    859    O MOL     1      -7.516  11.415 430.480  1.00  0.00           O  \nATOM    860    C MOL     1      -6.109  11.566 430.647  1.00  0.00           C  \nATOM    861    C MOL     1      -5.703  12.193 431.971  1.00  0.00           C  \nATOM    862    O MOL     1      -6.053  13.573 431.962  1.00  0.00           O  \nATOM    863    C MOL     1      -5.931  14.177 433.244  1.00  0.00           C  \nATOM    864    C MOL     1      -6.225  15.668 433.099  1.00  0.00           C  \nATOM    865    O MOL     1      -5.974  16.356 434.325  1.00  0.00           O  \nATOM    866    C MOL     1      -4.641  16.838 434.496  1.00  0.00           C  \nATOM    867    C MOL     1      -4.205  16.611 435.936  1.00  0.00           C  \nATOM    868    O MOL     1      -2.964  17.302 436.114  1.00  0.00           O  \nATOM    869    C MOL     1      -2.120  16.742 437.122  1.00  0.00           C  \nATOM    870    C MOL     1      -1.375  15.534 436.554  1.00  0.00           C  \nATOM    871    O MOL     1      -0.694  14.795 437.571  1.00  0.00           O  \nATOM    872    C MOL     1       0.726  14.775 437.464  1.00  0.00           C  \nATOM    873    C MOL     1       1.394  16.140 437.624  1.00  0.00           C  \nATOM    874    O MOL     1       1.028  16.860 438.795  1.00  0.00           O  \nATOM    875    C MOL     1       1.496  16.328 440.029  1.00  0.00           C  \nATOM    876    C MOL     1       3.021  16.289 440.181  1.00  0.00           C  \nATOM    877    O MOL     1       3.688  17.495 439.834  1.00  0.00           O  \nATOM    878    C MOL     1       3.413  18.590 440.705  1.00  0.00           C  \nATOM    879    C MOL     1       4.219  19.801 440.267  1.00  0.00           C  \nATOM    880    O MOL     1       5.616  19.693 440.523  1.00  0.00           O  \nATOM    881    C MOL     1       6.367  19.099 439.461  1.00  0.00           C  \nATOM    882    C MOL     1       7.787  18.903 439.984  1.00  0.00           C  \nATOM    883    O MOL     1       8.664  18.391 438.975  1.00  0.00           O  \nATOM    884    C MOL     1       8.529  16.998 438.696  1.00  0.00           C  \nATOM    885    C MOL     1       9.313  16.099 439.635  1.00  0.00           C  \nATOM    886    O MOL     1       8.627  15.968 440.879  1.00  0.00           O  \nATOM    887    C MOL     1       9.469  15.539 441.953  1.00  0.00           C  \nATOM    888    C MOL     1      10.137  16.757 442.617  1.00  0.00           C  \nATOM    889    O MOL     1      11.194  16.403 443.510  1.00  0.00           O  \nATOM    890    C MOL     1      10.761  15.835 444.747  1.00  0.00           C  \nATOM    891    C MOL     1      10.435  16.919 445.785  1.00  0.00           C  \nATOM    892    O MOL     1       9.849  16.366 446.960  1.00  0.00           O  \nATOM    893    C MOL     1      10.786  15.815 447.877  1.00  0.00           C  \nATOM    894    C MOL     1      10.024  15.248 449.063  1.00  0.00           C  \nATOM    895    O MOL     1       9.372  16.236 449.859  1.00  0.00           O  \nATOM    896    C MOL     1      10.208  16.853 450.834  1.00  0.00           C  \nATOM    897    C MOL     1      10.259  16.021 452.114  1.00  0.00           C  \nATOM    898    H MOL     1     -12.835  11.645 432.555  1.00  0.00           H  \nATOM    899    H MOL     1     -12.014   9.734 433.431  1.00  0.00           H  \nATOM    900    H MOL     1     -13.377   9.249 432.374  1.00  0.00           H  \nATOM    901    H MOL     1     -11.557   7.851 431.816  1.00  0.00           H  \nATOM    902    H MOL     1     -11.697   9.019 430.472  1.00  0.00           H  \nATOM    903    H MOL     1     -10.037  11.209 431.105  1.00  0.00           H  \nATOM    904    H MOL     1      -9.668   9.989 429.849  1.00  0.00           H  \nATOM    905    H MOL     1      -7.954  10.540 432.337  1.00  0.00           H  \nATOM    906    H MOL     1      -7.543   9.400 431.024  1.00  0.00           H  \nATOM    907    H MOL     1      -5.607  10.583 430.551  1.00  0.00           H  \nATOM    908    H MOL     1      -5.774  12.212 429.822  1.00  0.00           H  \nATOM    909    H MOL     1      -6.207  11.675 432.811  1.00  0.00           H  \nATOM    910    H MOL     1      -4.614  12.068 432.130  1.00  0.00           H  \nATOM    911    H MOL     1      -6.655  13.726 433.952  1.00  0.00           H  \nATOM    912    H MOL     1      -4.919  14.021 433.663  1.00  0.00           H  \nATOM    913    H MOL     1      -5.633  16.082 432.264  1.00  0.00           H  \nATOM    914    H MOL     1      -7.286  15.820 432.859  1.00  0.00           H  \nATOM    915    H MOL     1      -3.937  16.333 433.812  1.00  0.00           H  \nATOM    916    H MOL     1      -4.596  17.922 434.281  1.00  0.00           H  \nATOM    917    H MOL     1      -4.972  17.026 436.617  1.00  0.00           H  \nATOM    918    H MOL     1      -4.106  15.533 436.142  1.00  0.00           H  \nATOM    919    H MOL     1      -1.423  17.534 437.433  1.00  0.00           H  \nATOM    920    H MOL     1      -2.704  16.439 438.008  1.00  0.00           H  \nATOM    921    H MOL     1      -2.113  14.862 436.089  1.00  0.00           H  \nATOM    922    H MOL     1      -0.686  15.853 435.756  1.00  0.00           H  \nATOM    923    H MOL     1       1.062  14.070 438.239  1.00  0.00           H  \nATOM    924    H MOL     1       1.043  14.369 436.482  1.00  0.00           H  \nATOM    925    H MOL     1       1.104  16.796 436.792  1.00  0.00           H  \nATOM    926    H MOL     1       2.489  15.999 437.556  1.00  0.00           H  \nATOM    927    H MOL     1       1.111  15.305 440.207  1.00  0.00           H  \nATOM    928    H MOL     1       1.046  16.977 440.793  1.00  0.00           H  \nATOM    929    H MOL     1       3.240  16.004 441.231  1.00  0.00           H  \nATOM    930    H MOL     1       3.461  15.518 439.530  1.00  0.00           H  \nATOM    931    H MOL     1       3.676  18.324 441.749  1.00  0.00           H  \nATOM    932    H MOL     1       2.340  18.857 440.674  1.00  0.00           H  \nATOM    933    H MOL     1       3.865  20.669 440.845  1.00  0.00           H  \nATOM    934    H MOL     1       4.030  20.002 439.197  1.00  0.00           H  \nATOM    935    H MOL     1       5.917  18.139 439.164  1.00  0.00           H  \nATOM    936    H MOL     1       6.378  19.767 438.577  1.00  0.00           H  \nATOM    937    H MOL     1       8.203  19.878 440.276  1.00  0.00           H  \nATOM    938    H MOL     1       7.770  18.249 440.869  1.00  0.00           H  \nATOM    939    H MOL     1       8.926  16.861 437.679  1.00  0.00           H  \nATOM    940    H MOL     1       7.470  16.687 438.691  1.00  0.00           H  \nATOM    941    H MOL     1       9.434  15.100 439.167  1.00  0.00           H  \nATOM    942    H MOL     1      10.321  16.526 439.779  1.00  0.00           H  \nATOM    943    H MOL     1      10.242  14.828 441.614  1.00  0.00           H  \nATOM    944    H MOL     1       8.814  15.011 442.661  1.00  0.00           H  \nATOM    945    H MOL     1       9.368  17.377 443.114  1.00  0.00           H  \nATOM    946    H MOL     1      10.608  17.380 441.842  1.00  0.00           H  \nATOM    947    H MOL     1       9.876  15.188 444.620  1.00  0.00           H  \nATOM    948    H MOL     1      11.589  15.198 445.093  1.00  0.00           H  \nATOM    949    H MOL     1      11.344  17.502 446.026  1.00  0.00           H  \nATOM    950    H MOL     1       9.689  17.616 445.376  1.00  0.00           H  \nATOM    951    H MOL     1      11.506  16.594 448.197  1.00  0.00           H  \nATOM    952    H MOL     1      11.372  14.991 447.422  1.00  0.00           H  \nATOM    953    H MOL     1      10.722  14.640 449.669  1.00  0.00           H  \nATOM    954    H MOL     1       9.230  14.585 448.691  1.00  0.00           H  \nATOM    955    H MOL     1      11.234  17.010 450.457  1.00  0.00           H  \nATOM    956    H MOL     1       9.773  17.840 451.046  1.00  0.00           H  \nATOM    957    H MOL     1       9.244  15.926 452.546  1.00  0.00           H  \nATOM    958    H MOL     1      10.622  15.003 451.878  1.00  0.00           H  \nATOM    959    O MOL     1      11.131  16.681 453.025  1.00  0.00           O  \nATOM    960    C MOL     1      11.439  15.912 454.186  1.00  0.00           C  \nATOM    961    C MOL     1      12.440  14.779 453.959  1.00  0.00           C  \nATOM    962    O MOL     1      13.754  15.213 453.631  1.00  0.00           O  \nATOM    963    C MOL     1      13.935  15.554 452.257  1.00  0.00           C  \nATOM    964    C MOL     1      15.418  15.810 452.056  1.00  0.00           C  \nATOM    965    O MOL     1      15.582  16.308 450.735  1.00  0.00           O  \nATOM    966    C MOL     1      16.940  16.462 450.342  1.00  0.00           C  \nATOM    967    C MOL     1      17.737  17.447 451.180  1.00  0.00           C  \nATOM    968    O MOL     1      17.192  18.753 451.044  1.00  0.00           O  \nATOM    969    C MOL     1      17.674  19.640 452.045  1.00  0.00           C  \nATOM    970    C MOL     1      17.213  21.049 451.677  1.00  0.00           C  \nATOM    971    O MOL     1      17.592  22.042 452.627  1.00  0.00           O  \nATOM    972    C MOL     1      19.003  22.238 452.758  1.00  0.00           C  \nATOM    973    C MOL     1      19.485  21.685 454.097  1.00  0.00           C  \nATOM    974    O MOL     1      20.892  21.459 454.036  1.00  0.00           O  \nATOM    975    C MOL     1      21.457  21.237 455.324  1.00  0.00           C  \nATOM    976    C MOL     1      22.443  20.076 455.302  1.00  0.00           C  \nATOM    977    O MOL     1      22.682  19.749 456.670  1.00  0.00           O  \nATOM    978    C MOL     1      23.943  19.162 456.956  1.00  0.00           C  \nATOM    979    C MOL     1      25.060  20.193 457.093  1.00  0.00           C  \nATOM    980    O MOL     1      24.807  21.152 458.113  1.00  0.00           O  \nATOM    981    C MOL     1      25.405  20.887 459.377  1.00  0.00           C  \nATOM    982    C MOL     1      26.860  21.338 459.449  1.00  0.00           C  \nATOM    983    O MOL     1      27.053  22.696 459.087  1.00  0.00           O  \nATOM    984    C MOL     1      26.496  23.649 459.995  1.00  0.00           C  \nATOM    985    C MOL     1      27.150  25.006 459.786  1.00  0.00           C  \nATOM    986    O MOL     1      28.540  25.026 460.097  1.00  0.00           O  \nATOM    987    C MOL     1      29.376  24.657 458.996  1.00  0.00           C  \nATOM    988    C MOL     1      30.793  24.485 459.526  1.00  0.00           C  \nATOM    989    O MOL     1      31.700  24.216 458.452  1.00  0.00           O  \nATOM    990    C MOL     1      31.903  22.833 458.168  1.00  0.00           C  \nATOM    991    C MOL     1      33.031  22.214 458.976  1.00  0.00           C  \nATOM    992    O MOL     1      32.603  22.013 460.319  1.00  0.00           O  \nATOM    993    C MOL     1      33.643  21.637 461.226  1.00  0.00           C  \nATOM    994    C MOL     1      33.952  22.809 462.163  1.00  0.00           C  \nATOM    995    O MOL     1      34.923  22.446 463.154  1.00  0.00           O  \nATOM    996    C MOL     1      34.366  21.895 464.348  1.00  0.00           C  \nATOM    997    C MOL     1      33.848  22.990 465.291  1.00  0.00           C  \nATOM    998    O MOL     1      33.353  22.460 466.516  1.00  0.00           O  \nATOM    999    C MOL     1      34.369  22.145 467.461  1.00  0.00           C  \nATOM   1000    C MOL     1      33.722  21.891 468.814  1.00  0.00           C  \nATOM   1001    O MOL     1      33.148  23.050 469.407  1.00  0.00           O  \nATOM   1002    C MOL     1      34.088  23.898 470.075  1.00  0.00           C  \nATOM   1003    C MOL     1      34.422  23.425 471.485  1.00  0.00           C  \nATOM   1004    H MOL     1      11.863  16.623 454.910  1.00  0.00           H  \nATOM   1005    H MOL     1      10.514  15.484 454.622  1.00  0.00           H  \nATOM   1006    H MOL     1      12.531  14.218 454.902  1.00  0.00           H  \nATOM   1007    H MOL     1      12.072  14.073 453.190  1.00  0.00           H  \nATOM   1008    H MOL     1      13.367  16.459 451.989  1.00  0.00           H  \nATOM   1009    H MOL     1      13.595  14.724 451.608  1.00  0.00           H  \nATOM   1010    H MOL     1      15.750  16.545 452.811  1.00  0.00           H  \nATOM   1011    H MOL     1      16.002  14.879 452.206  1.00  0.00           H  \nATOM   1012    H MOL     1      17.468  15.487 450.375  1.00  0.00           H  \nATOM   1013    H MOL     1      16.907  16.803 449.297  1.00  0.00           H  \nATOM   1014    H MOL     1      17.736  17.142 452.244  1.00  0.00           H  \nATOM   1015    H MOL     1      18.794  17.430 450.842  1.00  0.00           H  \nATOM   1016    H MOL     1      17.278  19.354 453.040  1.00  0.00           H  \nATOM   1017    H MOL     1      18.780  19.595 452.094  1.00  0.00           H  \nATOM   1018    H MOL     1      17.601  21.307 450.675  1.00  0.00           H  \nATOM   1019    H MOL     1      16.116  21.077 451.639  1.00  0.00           H  \nATOM   1020    H MOL     1      19.555  21.746 451.940  1.00  0.00           H  \nATOM   1021    H MOL     1      19.205  23.319 452.695  1.00  0.00           H  \nATOM   1022    H MOL     1      19.239  22.396 454.906  1.00  0.00           H  \nATOM   1023    H MOL     1      18.961  20.737 454.317  1.00  0.00           H  \nATOM   1024    H MOL     1      21.953  22.157 455.676  1.00  0.00           H  \nATOM   1025    H MOL     1      20.674  20.978 456.056  1.00  0.00           H  \nATOM   1026    H MOL     1      21.994  19.217 454.766  1.00  0.00           H  \nATOM   1027    H MOL     1      23.378  20.347 454.782  1.00  0.00           H  \nATOM   1028    H MOL     1      23.809  18.611 457.901  1.00  0.00           H  \nATOM   1029    H MOL     1      24.244  18.432 456.177  1.00  0.00           H  \nATOM   1030    H MOL     1      25.161  20.752 456.149  1.00  0.00           H  \nATOM   1031    H MOL     1      26.012  19.654 457.258  1.00  0.00           H  \nATOM   1032    H MOL     1      25.338  19.815 459.640  1.00  0.00           H  \nATOM   1033    H MOL     1      24.810  21.440 460.117  1.00  0.00           H  \nATOM   1034    H MOL     1      27.239  21.143 460.473  1.00  0.00           H  \nATOM   1035    H MOL     1      27.481  20.762 458.749  1.00  0.00           H  \nATOM   1036    H MOL     1      26.667  23.313 461.036  1.00  0.00           H  \nATOM   1037    H MOL     1      25.409  23.768 459.828  1.00  0.00           H  \nATOM   1038    H MOL     1      26.665  25.713 460.477  1.00  0.00           H  \nATOM   1039    H MOL     1      26.971  25.371 458.759  1.00  0.00           H  \nATOM   1040    H MOL     1      29.014  23.719 458.547  1.00  0.00           H  \nATOM   1041    H MOL     1      29.359  25.445 458.218  1.00  0.00           H  \nATOM   1042    H MOL     1      31.131  25.419 459.998  1.00  0.00           H  \nATOM   1043    H MOL     1      30.827  23.687 460.282  1.00  0.00           H  \nATOM   1044    H MOL     1      32.169  22.770 457.101  1.00  0.00           H  \nATOM   1045    H MOL     1      30.977  22.250 458.320  1.00  0.00           H  \nATOM   1046    H MOL     1      33.318  21.243 458.524  1.00  0.00           H  \nATOM   1047    H MOL     1      33.910  22.884 458.945  1.00  0.00           H  \nATOM   1048    H MOL     1      34.561  21.344 460.687  1.00  0.00           H  \nATOM   1049    H MOL     1      33.303  20.754 461.789  1.00  0.00           H  \nATOM   1050    H MOL     1      33.014  23.166 462.624  1.00  0.00           H  \nATOM   1051    H MOL     1      34.379  23.651 461.599  1.00  0.00           H  \nATOM   1052    H MOL     1      33.556  21.173 464.129  1.00  0.00           H  \nATOM   1053    H MOL     1      35.185  21.344 464.834  1.00  0.00           H  \nATOM   1054    H MOL     1      34.654  23.726 465.477  1.00  0.00           H  \nATOM   1055    H MOL     1      33.002  23.523 464.834  1.00  0.00           H  \nATOM   1056    H MOL     1      35.097  22.977 467.523  1.00  0.00           H  \nATOM   1057    H MOL     1      34.930  21.235 467.166  1.00  0.00           H  \nATOM   1058    H MOL     1      34.473  21.426 469.481  1.00  0.00           H  \nATOM   1059    H MOL     1      32.896  21.176 468.687  1.00  0.00           H  \nATOM   1060    H MOL     1      35.010  24.006 469.476  1.00  0.00           H  \nATOM   1061    H MOL     1      33.608  24.887 470.110  1.00  0.00           H  \nATOM   1062    H MOL     1      33.509  23.347 472.090  1.00  0.00           H  \nATOM   1063    H MOL     1      34.919  22.444 471.483  1.00  0.00           H  \nATOM   1064    H MOL     1      35.103  24.140 471.971  1.00  0.00           H  \nATOM   1065    O MOL     1      23.909  16.529 423.920  1.00  0.00           O  \nATOM   1066    C MOL     1      23.556  15.389 423.124  1.00  0.00           C  \nATOM   1067    C MOL     1      24.380  14.193 423.566  1.00  0.00           C  \nATOM   1068    O MOL     1      23.998  13.654 424.827  1.00  0.00           O  \nATOM   1069    C MOL     1      24.690  14.215 425.945  1.00  0.00           C  \nATOM   1070    C MOL     1      24.217  13.465 427.178  1.00  0.00           C  \nATOM   1071    O MOL     1      24.899  14.018 428.297  1.00  0.00           O  \nATOM   1072    C MOL     1      24.600  13.370 429.528  1.00  0.00           C  \nATOM   1073    C MOL     1      23.206  13.651 430.063  1.00  0.00           C  \nATOM   1074    O MOL     1      23.097  15.016 430.445  1.00  0.00           O  \nATOM   1075    C MOL     1      21.754  15.392 430.720  1.00  0.00           C  \nATOM   1076    C MOL     1      21.783  16.812 431.281  1.00  0.00           C  \nATOM   1077    O MOL     1      20.498  17.303 431.654  1.00  0.00           O  \nATOM   1078    C MOL     1      19.929  16.678 432.806  1.00  0.00           C  \nATOM   1079    C MOL     1      18.799  15.714 432.424  1.00  0.00           C  \nATOM   1080    O MOL     1      18.835  14.590 433.306  1.00  0.00           O  \nATOM   1081    C MOL     1      17.647  13.811 433.227  1.00  0.00           C  \nATOM   1082    C MOL     1      17.752  12.691 434.252  1.00  0.00           C  \nATOM   1083    O MOL     1      16.461  12.088 434.345  1.00  0.00           O  \nATOM   1084    C MOL     1      16.244  11.315 435.522  1.00  0.00           C  \nATOM   1085    C MOL     1      16.078  12.140 436.799  1.00  0.00           C  \nATOM   1086    O MOL     1      15.067  13.142 436.721  1.00  0.00           O  \nATOM   1087    C MOL     1      13.724  12.673 436.704  1.00  0.00           C  \nATOM   1088    C MOL     1      13.265  11.984 437.993  1.00  0.00           C  \nATOM   1089    O MOL     1      13.544  12.711 439.181  1.00  0.00           O  \nATOM   1090    C MOL     1      12.857  13.954 439.272  1.00  0.00           C  \nATOM   1091    C MOL     1      13.062  14.525 440.660  1.00  0.00           C  \nATOM   1092    O MOL     1      12.400  13.749 441.651  1.00  0.00           O  \nATOM   1093    C MOL     1      13.274  12.965 442.458  1.00  0.00           C  \nATOM   1094    C MOL     1      12.399  12.038 443.291  1.00  0.00           C  \nATOM   1095    O MOL     1      13.184  11.273 444.209  1.00  0.00           O  \nATOM   1096    C MOL     1      13.760  10.084 443.664  1.00  0.00           C  \nATOM   1097    C MOL     1      12.876   8.863 443.844  1.00  0.00           C  \nATOM   1098    O MOL     1      11.806   8.901 442.898  1.00  0.00           O  \nATOM   1099    C MOL     1      10.688   8.092 443.257  1.00  0.00           C  \nATOM   1100    C MOL     1       9.674   8.897 444.081  1.00  0.00           C  \nATOM   1101    O MOL     1       8.575   8.085 444.496  1.00  0.00           O  \nATOM   1102    C MOL     1       7.545   7.935 443.517  1.00  0.00           C  \nATOM   1103    C MOL     1       6.474   9.025 443.658  1.00  0.00           C  \nATOM   1104    O MOL     1       5.462   8.900 442.662  1.00  0.00           O  \nATOM   1105    C MOL     1       4.454   7.948 442.982  1.00  0.00           C  \nATOM   1106    C MOL     1       3.478   7.852 441.821  1.00  0.00           C  \nATOM   1107    O MOL     1       2.662   9.009 441.644  1.00  0.00           O  \nATOM   1108    C MOL     1       1.507   9.043 442.478  1.00  0.00           C  \nATOM   1109    C MOL     1       0.357   8.251 441.861  1.00  0.00           C  \nATOM   1110    H MOL     1      23.282  17.245 423.726  1.00  0.00           H  \nATOM   1111    H MOL     1      22.484  15.145 423.232  1.00  0.00           H  \nATOM   1112    H MOL     1      23.765  15.575 422.053  1.00  0.00           H  \nATOM   1113    H MOL     1      24.235  13.388 422.829  1.00  0.00           H  \nATOM   1114    H MOL     1      25.451  14.465 423.570  1.00  0.00           H  \nATOM   1115    H MOL     1      24.476  15.290 426.051  1.00  0.00           H  \nATOM   1116    H MOL     1      25.782  14.088 425.822  1.00  0.00           H  \nATOM   1117    H MOL     1      23.121  13.580 427.270  1.00  0.00           H  \nATOM   1118    H MOL     1      24.436  12.383 427.080  1.00  0.00           H  \nATOM   1119    H MOL     1      24.722  12.273 429.434  1.00  0.00           H  \nATOM   1120    H MOL     1      25.351  13.732 430.246  1.00  0.00           H  \nATOM   1121    H MOL     1      22.441  13.407 429.301  1.00  0.00           H  \nATOM   1122    H MOL     1      23.017  12.991 430.935  1.00  0.00           H  \nATOM   1123    H MOL     1      21.143  15.355 429.795  1.00  0.00           H  \nATOM   1124    H MOL     1      21.300  14.695 431.452  1.00  0.00           H  \nATOM   1125    H MOL     1      22.479  16.842 432.140  1.00  0.00           H  \nATOM   1126    H MOL     1      22.160  17.507 430.518  1.00  0.00           H  \nATOM   1127    H MOL     1      20.698  16.120 433.369  1.00  0.00           H  \nATOM   1128    H MOL     1      19.549  17.479 433.460  1.00  0.00           H  \nATOM   1129    H MOL     1      17.813  16.213 432.496  1.00  0.00           H  \nATOM   1130    H MOL     1      18.934  15.388 431.376  1.00  0.00           H  \nATOM   1131    H MOL     1      16.761  14.430 433.467  1.00  0.00           H  \nATOM   1132    H MOL     1      17.496  13.409 432.206  1.00  0.00           H  \nATOM   1133    H MOL     1      18.516  11.950 433.950  1.00  0.00           H  \nATOM   1134    H MOL     1      18.075  13.129 435.211  1.00  0.00           H  \nATOM   1135    H MOL     1      15.331  10.737 435.323  1.00  0.00           H  \nATOM   1136    H MOL     1      17.062  10.581 435.675  1.00  0.00           H  \nATOM   1137    H MOL     1      17.002  12.683 437.038  1.00  0.00           H  \nATOM   1138    H MOL     1      15.889  11.439 437.634  1.00  0.00           H  \nATOM   1139    H MOL     1      13.540  11.983 435.858  1.00  0.00           H  \nATOM   1140    H MOL     1      13.122  13.571 436.510  1.00  0.00           H  \nATOM   1141    H MOL     1      12.176  11.785 437.902  1.00  0.00           H  \nATOM   1142    H MOL     1      13.764  11.014 438.127  1.00  0.00           H  \nATOM   1143    H MOL     1      11.773  13.809 439.094  1.00  0.00           H  \nATOM   1144    H MOL     1      13.237  14.676 438.525  1.00  0.00           H  \nATOM   1145    H MOL     1      12.641  15.544 440.692  1.00  0.00           H  \nATOM   1146    H MOL     1      14.141  14.597 440.875  1.00  0.00           H  \nATOM   1147    H MOL     1      13.964  12.388 441.820  1.00  0.00           H  \nATOM   1148    H MOL     1      13.872  13.617 443.123  1.00  0.00           H  \nATOM   1149    H MOL     1      11.708  12.640 443.900  1.00  0.00           H  \nATOM   1150    H MOL     1      11.805  11.387 442.633  1.00  0.00           H  \nATOM   1151    H MOL     1      14.703   9.917 444.208  1.00  0.00           H  \nATOM   1152    H MOL     1      14.001  10.209 442.593  1.00  0.00           H  \nATOM   1153    H MOL     1      13.478   7.942 443.693  1.00  0.00           H  \nATOM   1154    H MOL     1      12.490   8.851 444.879  1.00  0.00           H  \nATOM   1155    H MOL     1      11.002   7.199 443.825  1.00  0.00           H  \nATOM   1156    H MOL     1      10.233   7.750 442.314  1.00  0.00           H  \nATOM   1157    H MOL     1       9.340   9.774 443.499  1.00  0.00           H  \nATOM   1158    H MOL     1      10.148   9.269 445.001  1.00  0.00           H  \nATOM   1159    H MOL     1       7.949   7.957 442.490  1.00  0.00           H  \nATOM   1160    H MOL     1       7.105   6.940 443.682  1.00  0.00           H  \nATOM   1161    H MOL     1       6.041   8.994 444.675  1.00  0.00           H  \nATOM   1162    H MOL     1       6.926  10.018 443.513  1.00  0.00           H  \nATOM   1163    H MOL     1       3.936   8.242 443.916  1.00  0.00           H  \nATOM   1164    H MOL     1       4.886   6.941 443.147  1.00  0.00           H  \nATOM   1165    H MOL     1       2.860   6.945 441.959  1.00  0.00           H  \nATOM   1166    H MOL     1       4.048   7.736 440.887  1.00  0.00           H  \nATOM   1167    H MOL     1       1.717   8.654 443.490  1.00  0.00           H  \nATOM   1168    H MOL     1       1.221  10.099 442.578  1.00  0.00           H  \nATOM   1169    H MOL     1       0.084   8.679 440.877  1.00  0.00           H  \nATOM   1170    H MOL     1       0.672   7.204 441.695  1.00  0.00           H  \nATOM   1171    O MOL     1      -0.745   8.322 442.761  1.00  0.00           O  \nATOM   1172    C MOL     1      -1.828   7.461 442.416  1.00  0.00           C  \nATOM   1173    C MOL     1      -1.610   5.987 442.755  1.00  0.00           C  \nATOM   1174    O MOL     1      -1.567   5.703 444.147  1.00  0.00           O  \nATOM   1175    C MOL     1      -0.304   5.950 444.768  1.00  0.00           C  \nATOM   1176    C MOL     1      -0.384   5.378 446.174  1.00  0.00           C  \nATOM   1177    O MOL     1       0.811   5.744 446.852  1.00  0.00           O  \nATOM   1178    C MOL     1       0.937   5.176 448.151  1.00  0.00           C  \nATOM   1179    C MOL     1      -0.088   5.661 449.165  1.00  0.00           C  \nATOM   1180    O MOL     1       0.062   7.056 449.374  1.00  0.00           O  \nATOM   1181    C MOL     1      -1.063   7.629 450.026  1.00  0.00           C  \nATOM   1182    C MOL     1      -0.769   9.116 450.200  1.00  0.00           C  \nATOM   1183    O MOL     1      -1.907   9.878 450.586  1.00  0.00           O  \nATOM   1184    C MOL     1      -2.316   9.686 451.942  1.00  0.00           C  \nATOM   1185    C MOL     1      -3.592   8.854 452.003  1.00  0.00           C  \nATOM   1186    O MOL     1      -4.004   8.788 453.364  1.00  0.00           O  \nATOM   1187    C MOL     1      -5.184   8.013 453.569  1.00  0.00           C  \nATOM   1188    C MOL     1      -4.907   6.506 453.573  1.00  0.00           C  \nATOM   1189    O MOL     1      -6.147   5.809 453.690  1.00  0.00           O  \nATOM   1190    C MOL     1      -6.359   5.123 454.917  1.00  0.00           C  \nATOM   1191    C MOL     1      -6.364   5.973 456.184  1.00  0.00           C  \nATOM   1192    O MOL     1      -7.329   7.024 456.215  1.00  0.00           O  \nATOM   1193    C MOL     1      -8.687   6.595 456.138  1.00  0.00           C  \nATOM   1194    C MOL     1      -9.171   5.686 457.269  1.00  0.00           C  \nATOM   1195    O MOL     1      -9.234   6.288 458.562  1.00  0.00           O  \nATOM   1196    C MOL     1     -10.314   7.208 458.697  1.00  0.00           C  \nATOM   1197    C MOL     1     -10.777   7.314 460.139  1.00  0.00           C  \nATOM   1198    O MOL     1     -11.376   6.129 460.655  1.00  0.00           O  \nATOM   1199    C MOL     1     -10.452   5.215 461.247  1.00  0.00           C  \nATOM   1200    C MOL     1     -11.240   4.065 461.869  1.00  0.00           C  \nATOM   1201    O MOL     1     -10.381   3.287 462.708  1.00  0.00           O  \nATOM   1202    C MOL     1      -9.742   2.173 462.088  1.00  0.00           C  \nATOM   1203    C MOL     1     -10.454   0.871 462.392  1.00  0.00           C  \nATOM   1204    O MOL     1     -11.604   0.764 461.554  1.00  0.00           O  \nATOM   1205    C MOL     1     -12.532  -0.229 461.988  1.00  0.00           C  \nATOM   1206    C MOL     1     -13.581   0.388 462.923  1.00  0.00           C  \nATOM   1207    O MOL     1     -14.464  -0.602 463.457  1.00  0.00           O  \nATOM   1208    C MOL     1     -15.659  -0.801 462.704  1.00  0.00           C  \nATOM   1209    C MOL     1     -16.720   0.253 463.036  1.00  0.00           C  \nATOM   1210    O MOL     1     -17.893   0.060 462.248  1.00  0.00           O  \nATOM   1211    C MOL     1     -18.934  -0.662 462.892  1.00  0.00           C  \nATOM   1212    C MOL     1     -20.172  -0.619 462.009  1.00  0.00           C  \nATOM   1213    O MOL     1     -20.615   0.701 461.717  1.00  0.00           O  \nATOM   1214    C MOL     1     -21.419   1.306 462.732  1.00  0.00           C  \nATOM   1215    C MOL     1     -22.900   0.992 462.543  1.00  0.00           C  \nATOM   1216    H MOL     1      -2.696   7.833 442.982  1.00  0.00           H  \nATOM   1217    H MOL     1      -2.058   7.545 441.335  1.00  0.00           H  \nATOM   1218    H MOL     1      -2.467   5.421 442.356  1.00  0.00           H  \nATOM   1219    H MOL     1      -0.698   5.599 442.260  1.00  0.00           H  \nATOM   1220    H MOL     1      -0.085   7.028 444.817  1.00  0.00           H  \nATOM   1221    H MOL     1       0.506   5.458 444.196  1.00  0.00           H  \nATOM   1222    H MOL     1      -1.279   5.793 446.671  1.00  0.00           H  \nATOM   1223    H MOL     1      -0.495   4.276 446.139  1.00  0.00           H  \nATOM   1224    H MOL     1       0.863   4.070 448.100  1.00  0.00           H  \nATOM   1225    H MOL     1       1.949   5.442 448.489  1.00  0.00           H  \nATOM   1226    H MOL     1      -1.115   5.438 448.816  1.00  0.00           H  \nATOM   1227    H MOL     1       0.063   5.103 450.112  1.00  0.00           H  \nATOM   1228    H MOL     1      -1.975   7.495 449.413  1.00  0.00           H  \nATOM   1229    H MOL     1      -1.238   7.136 451.003  1.00  0.00           H  \nATOM   1230    H MOL     1       0.053   9.251 450.926  1.00  0.00           H  \nATOM   1231    H MOL     1      -0.439   9.517 449.232  1.00  0.00           H  \nATOM   1232    H MOL     1      -1.516   9.200 452.528  1.00  0.00           H  \nATOM   1233    H MOL     1      -2.502  10.679 452.382  1.00  0.00           H  \nATOM   1234    H MOL     1      -4.377   9.329 451.383  1.00  0.00           H  \nATOM   1235    H MOL     1      -3.399   7.848 451.587  1.00  0.00           H  \nATOM   1236    H MOL     1      -5.598   8.322 454.538  1.00  0.00           H  \nATOM   1237    H MOL     1      -5.946   8.234 452.798  1.00  0.00           H  \nATOM   1238    H MOL     1      -4.433   6.194 452.627  1.00  0.00           H  \nATOM   1239    H MOL     1      -4.210   6.244 454.387  1.00  0.00           H  \nATOM   1240    H MOL     1      -7.331   4.628 454.783  1.00  0.00           H  \nATOM   1241    H MOL     1      -5.600   4.325 455.059  1.00  0.00           H  \nATOM   1242    H MOL     1      -5.397   6.476 456.320  1.00  0.00           H  \nATOM   1243    H MOL     1      -6.471   5.285 457.042  1.00  0.00           H  \nATOM   1244    H MOL     1      -8.882   6.074 455.178  1.00  0.00           H  \nATOM   1245    H MOL     1      -9.267   7.530 456.125  1.00  0.00           H  \nATOM   1246    H MOL     1     -10.180   5.328 456.983  1.00  0.00           H  \nATOM   1247    H MOL     1      -8.538   4.794 457.389  1.00  0.00           H  \nATOM   1248    H MOL     1     -11.166   6.869 458.080  1.00  0.00           H  \nATOM   1249    H MOL     1     -10.019   8.218 458.353  1.00  0.00           H  \nATOM   1250    H MOL     1     -11.561   8.087 460.170  1.00  0.00           H  \nATOM   1251    H MOL     1      -9.949   7.645 460.793  1.00  0.00           H  \nATOM   1252    H MOL     1      -9.741   4.843 460.489  1.00  0.00           H  \nATOM   1253    H MOL     1      -9.877   5.719 462.048  1.00  0.00           H  \nATOM   1254    H MOL     1     -12.036   4.471 462.512  1.00  0.00           H  \nATOM   1255    H MOL     1     -11.712   3.436 461.098  1.00  0.00           H  \nATOM   1256    H MOL     1      -8.719   2.125 462.494  1.00  0.00           H  \nATOM   1257    H MOL     1      -9.671   2.305 460.995  1.00  0.00           H  \nATOM   1258    H MOL     1      -9.772   0.016 462.211  1.00  0.00           H  \nATOM   1259    H MOL     1     -10.736   0.864 463.461  1.00  0.00           H  \nATOM   1260    H MOL     1     -12.017  -1.059 462.507  1.00  0.00           H  \nATOM   1261    H MOL     1     -13.008  -0.634 461.082  1.00  0.00           H  \nATOM   1262    H MOL     1     -14.133   1.179 462.386  1.00  0.00           H  \nATOM   1263    H MOL     1     -13.077   0.860 463.779  1.00  0.00           H  \nATOM   1264    H MOL     1     -15.474  -0.793 461.615  1.00  0.00           H  \nATOM   1265    H MOL     1     -16.024  -1.801 462.977  1.00  0.00           H  \nATOM   1266    H MOL     1     -16.960   0.218 464.114  1.00  0.00           H  \nATOM   1267    H MOL     1     -16.343   1.262 462.809  1.00  0.00           H  \nATOM   1268    H MOL     1     -19.142  -0.223 463.887  1.00  0.00           H  \nATOM   1269    H MOL     1     -18.656  -1.721 463.057  1.00  0.00           H  \nATOM   1270    H MOL     1     -20.964  -1.225 462.491  1.00  0.00           H  \nATOM   1271    H MOL     1     -19.943  -1.079 461.037  1.00  0.00           H  \nATOM   1272    H MOL     1     -21.081   0.996 463.738  1.00  0.00           H  \nATOM   1273    H MOL     1     -21.241   2.391 462.650  1.00  0.00           H  \nATOM   1274    H MOL     1     -23.218   1.308 461.540  1.00  0.00           H  \nATOM   1275    H MOL     1     -23.105  -0.085 462.644  1.00  0.00           H  \nATOM   1276    H MOL     1     -23.511   1.525 463.289  1.00  0.00           H  \nATOM   1277    O MOL     1      13.314   2.034 107.509  1.00  0.00           O  \nATOM   1278    C MOL     1      12.719   1.497 108.700  1.00  0.00           C  \nATOM   1279    C MOL     1      13.256   2.235 109.911  1.00  0.00           C  \nATOM   1280    O MOL     1      12.796   3.581 110.006  1.00  0.00           O  \nATOM   1281    C MOL     1      13.697   4.555 109.480  1.00  0.00           C  \nATOM   1282    C MOL     1      13.098   5.917 109.783  1.00  0.00           C  \nATOM   1283    O MOL     1      13.993   6.900 109.281  1.00  0.00           O  \nATOM   1284    C MOL     1      13.650   8.228 109.659  1.00  0.00           C  \nATOM   1285    C MOL     1      12.450   8.807 108.929  1.00  0.00           C  \nATOM   1286    O MOL     1      12.781   8.996 107.562  1.00  0.00           O  \nATOM   1287    C MOL     1      11.655   9.297 106.748  1.00  0.00           C  \nATOM   1288    C MOL     1      12.151   9.319 105.305  1.00  0.00           C  \nATOM   1289    O MOL     1      11.103   9.483 104.360  1.00  0.00           O  \nATOM   1290    C MOL     1      10.663  10.824 104.146  1.00  0.00           C  \nATOM   1291    C MOL     1       9.190  10.961 104.500  1.00  0.00           C  \nATOM   1292    O MOL     1       8.821  12.299 104.183  1.00  0.00           O  \nATOM   1293    C MOL     1       7.511  12.663 104.614  1.00  0.00           C  \nATOM   1294    C MOL     1       7.515  13.096 106.086  1.00  0.00           C  \nATOM   1295    O MOL     1       6.236  13.584 106.498  1.00  0.00           O  \nATOM   1296    C MOL     1       6.141  14.998 106.608  1.00  0.00           C  \nATOM   1297    C MOL     1       6.283  15.769 105.295  1.00  0.00           C  \nATOM   1298    O MOL     1       5.443  15.320 104.236  1.00  0.00           O  \nATOM   1299    C MOL     1       4.046  15.321 104.511  1.00  0.00           C  \nATOM   1300    C MOL     1       3.472  16.692 104.875  1.00  0.00           C  \nATOM   1301    O MOL     1       3.852  17.739 103.991  1.00  0.00           O  \nATOM   1302    C MOL     1       3.304  17.614 102.682  1.00  0.00           C  \nATOM   1303    C MOL     1       3.683  18.836 101.867  1.00  0.00           C  \nATOM   1304    O MOL     1       3.106  20.039 102.360  1.00  0.00           O  \nATOM   1305    C MOL     1       3.960  20.789 103.227  1.00  0.00           C  \nATOM   1306    C MOL     1       3.089  21.822 103.926  1.00  0.00           C  \nATOM   1307    O MOL     1       3.904  22.701 104.711  1.00  0.00           O  \nATOM   1308    C MOL     1       3.862  22.475 106.118  1.00  0.00           C  \nATOM   1309    C MOL     1       2.698  23.161 106.809  1.00  0.00           C  \nATOM   1310    O MOL     1       1.507  22.403 106.595  1.00  0.00           O  \nATOM   1311    C MOL     1       0.296  23.115 106.847  1.00  0.00           C  \nATOM   1312    C MOL     1      -0.263  23.715 105.549  1.00  0.00           C  \nATOM   1313    O MOL     1      -1.497  24.396 105.775  1.00  0.00           O  \nATOM   1314    C MOL     1      -2.643  23.541 105.823  1.00  0.00           C  \nATOM   1315    C MOL     1      -3.303  23.410 104.442  1.00  0.00           C  \nATOM   1316    O MOL     1      -4.362  22.456 104.447  1.00  0.00           O  \nATOM   1317    C MOL     1      -5.593  22.953 104.962  1.00  0.00           C  \nATOM   1318    C MOL     1      -6.596  21.812 105.047  1.00  0.00           C  \nATOM   1319    O MOL     1      -7.090  21.363 103.783  1.00  0.00           O  \nATOM   1320    C MOL     1      -8.187  22.127 103.286  1.00  0.00           C  \nATOM   1321    C MOL     1      -9.509  21.646 103.884  1.00  0.00           C  \nATOM   1322    H MOL     1      12.876   1.630 106.742  1.00  0.00           H  \nATOM   1323    H MOL     1      11.620   1.605 108.673  1.00  0.00           H  \nATOM   1324    H MOL     1      12.962   0.422 108.813  1.00  0.00           H  \nATOM   1325    H MOL     1      12.899   1.713 110.813  1.00  0.00           H  \nATOM   1326    H MOL     1      14.361   2.201 109.913  1.00  0.00           H  \nATOM   1327    H MOL     1      13.832   4.429 108.394  1.00  0.00           H  \nATOM   1328    H MOL     1      14.688   4.466 109.963  1.00  0.00           H  \nATOM   1329    H MOL     1      12.101   5.992 109.312  1.00  0.00           H  \nATOM   1330    H MOL     1      12.964   6.033 110.876  1.00  0.00           H  \nATOM   1331    H MOL     1      13.453   8.276 110.748  1.00  0.00           H  \nATOM   1332    H MOL     1      14.538   8.839 109.440  1.00  0.00           H  \nATOM   1333    H MOL     1      11.576   8.133 109.018  1.00  0.00           H  \nATOM   1334    H MOL     1      12.171   9.769 109.405  1.00  0.00           H  \nATOM   1335    H MOL     1      10.875   8.517 106.857  1.00  0.00           H  \nATOM   1336    H MOL     1      11.206  10.269 107.038  1.00  0.00           H  \nATOM   1337    H MOL     1      12.913  10.112 105.189  1.00  0.00           H  \nATOM   1338    H MOL     1      12.626   8.352 105.091  1.00  0.00           H  \nATOM   1339    H MOL     1      11.259  11.534 104.744  1.00  0.00           H  \nATOM   1340    H MOL     1      10.806  11.077 103.082  1.00  0.00           H  \nATOM   1341    H MOL     1       8.595  10.238 103.912  1.00  0.00           H  \nATOM   1342    H MOL     1       9.045  10.736 105.574  1.00  0.00           H  \nATOM   1343    H MOL     1       7.187  13.498 103.979  1.00  0.00           H  \nATOM   1344    H MOL     1       6.796  11.834 104.465  1.00  0.00           H  \nATOM   1345    H MOL     1       7.754  12.241 106.739  1.00  0.00           H  \nATOM   1346    H MOL     1       8.297  13.861 106.238  1.00  0.00           H  \nATOM   1347    H MOL     1       5.158  15.182 107.068  1.00  0.00           H  \nATOM   1348    H MOL     1       6.909  15.389 107.306  1.00  0.00           H  \nATOM   1349    H MOL     1       7.304  15.676 104.898  1.00  0.00           H  \nATOM   1350    H MOL     1       6.117  16.843 105.512  1.00  0.00           H  \nATOM   1351    H MOL     1       3.791  14.611 105.321  1.00  0.00           H  \nATOM   1352    H MOL     1       3.583  14.937 103.591  1.00  0.00           H  \nATOM   1353    H MOL     1       2.368  16.598 104.922  1.00  0.00           H  \nATOM   1354    H MOL     1       3.817  17.013 105.869  1.00  0.00           H  \nATOM   1355    H MOL     1       2.201  17.530 102.742  1.00  0.00           H  \nATOM   1356    H MOL     1       3.695  16.714 102.170  1.00  0.00           H  \nATOM   1357    H MOL     1       3.309  18.692 100.840  1.00  0.00           H  \nATOM   1358    H MOL     1       4.784  18.922 101.818  1.00  0.00           H  \nATOM   1359    H MOL     1       4.439  20.126 103.969  1.00  0.00           H  \nATOM   1360    H MOL     1       4.748  21.300 102.641  1.00  0.00           H  \nATOM   1361    H MOL     1       2.569  22.428 103.167  1.00  0.00           H  \nATOM   1362    H MOL     1       2.326  21.329 104.543  1.00  0.00           H  \nATOM   1363    H MOL     1       4.797  22.889 106.527  1.00  0.00           H  \nATOM   1364    H MOL     1       3.841  21.394 106.349  1.00  0.00           H  \nATOM   1365    H MOL     1       2.908  23.234 107.896  1.00  0.00           H  \nATOM   1366    H MOL     1       2.598  24.186 106.405  1.00  0.00           H  \nATOM   1367    H MOL     1       0.445  23.911 107.597  1.00  0.00           H  \nATOM   1368    H MOL     1      -0.415  22.387 107.266  1.00  0.00           H  \nATOM   1369    H MOL     1      -0.369  22.913 104.795  1.00  0.00           H  \nATOM   1370    H MOL     1       0.435  24.464 105.146  1.00  0.00           H  \nATOM   1371    H MOL     1      -2.386  22.533 106.190  1.00  0.00           H  \nATOM   1372    H MOL     1      -3.338  23.995 106.546  1.00  0.00           H  \nATOM   1373    H MOL     1      -3.657  24.400 104.097  1.00  0.00           H  \nATOM   1374    H MOL     1      -2.566  23.042 103.713  1.00  0.00           H  \nATOM   1375    H MOL     1      -5.973  23.772 104.319  1.00  0.00           H  \nATOM   1376    H MOL     1      -5.466  23.367 105.982  1.00  0.00           H  \nATOM   1377    H MOL     1      -7.426  22.126 105.706  1.00  0.00           H  \nATOM   1378    H MOL     1      -6.104  20.944 105.508  1.00  0.00           H  \nATOM   1379    H MOL     1      -8.064  23.205 103.493  1.00  0.00           H  \nATOM   1380    H MOL     1      -8.197  21.997 102.195  1.00  0.00           H  \nATOM   1381    H MOL     1      -9.676  20.582 103.625  1.00  0.00           H  \nATOM   1382    H MOL     1      -9.466  21.711 104.986  1.00  0.00           H  \nATOM   1383    O MOL     1     -10.555  22.459 103.362  1.00  0.00           O  \nATOM   1384    C MOL     1     -11.753  22.425 104.143  1.00  0.00           C  \nATOM   1385    C MOL     1     -11.698  23.270 105.411  1.00  0.00           C  \nATOM   1386    O MOL     1     -11.594  24.666 105.156  1.00  0.00           O  \nATOM   1387    C MOL     1     -10.260  25.175 105.125  1.00  0.00           C  \nATOM   1388    C MOL     1     -10.378  26.689 105.098  1.00  0.00           C  \nATOM   1389    O MOL     1      -9.074  27.235 104.946  1.00  0.00           O  \nATOM   1390    C MOL     1      -9.009  28.623 105.252  1.00  0.00           C  \nATOM   1391    C MOL     1      -9.900  29.514 104.401  1.00  0.00           C  \nATOM   1392    O MOL     1      -9.505  29.441 103.040  1.00  0.00           O  \nATOM   1393    C MOL     1     -10.451  30.049 102.170  1.00  0.00           C  \nATOM   1394    C MOL     1      -9.894  29.953 100.752  1.00  0.00           C  \nATOM   1395    O MOL     1     -10.836  30.329  99.755  1.00  0.00           O  \nATOM   1396    C MOL     1     -11.090  31.730  99.649  1.00  0.00           C  \nATOM   1397    C MOL     1     -12.493  32.063 100.147  1.00  0.00           C  \nATOM   1398    O MOL     1     -12.744  33.428  99.832  1.00  0.00           O  \nATOM   1399    C MOL     1     -14.015  33.901 100.281  1.00  0.00           C  \nATOM   1400    C MOL     1     -13.937  34.409 101.727  1.00  0.00           C  \nATOM   1401    O MOL     1     -15.207  34.870 102.193  1.00  0.00           O  \nATOM   1402    C MOL     1     -15.362  36.284 102.233  1.00  0.00           C  \nATOM   1403    C MOL     1     -15.354  36.984 100.874  1.00  0.00           C  \nATOM   1404    O MOL     1     -16.250  36.441  99.909  1.00  0.00           O  \nATOM   1405    C MOL     1     -17.626  36.439 100.275  1.00  0.00           C  \nATOM   1406    C MOL     1     -18.218  37.823 100.548  1.00  0.00           C  \nATOM   1407    O MOL     1     -18.018  38.771  99.511  1.00  0.00           O  \nATOM   1408    C MOL     1     -18.713  38.470  98.303  1.00  0.00           C  \nATOM   1409    C MOL     1     -18.619  39.656  97.359  1.00  0.00           C  \nATOM   1410    O MOL     1     -19.365  40.788  97.787  1.00  0.00           O  \nATOM   1411    C MOL     1     -18.621  41.701  98.600  1.00  0.00           C  \nATOM   1412    C MOL     1     -19.583  42.785  99.071  1.00  0.00           C  \nATOM   1413    O MOL     1     -18.892  43.766  99.851  1.00  0.00           O  \nATOM   1414    C MOL     1     -18.714  43.418 101.227  1.00  0.00           C  \nATOM   1415    C MOL     1     -19.858  43.877 102.108  1.00  0.00           C  \nATOM   1416    O MOL     1     -21.011  43.066 101.860  1.00  0.00           O  \nATOM   1417    C MOL     1     -22.220  43.629 102.370  1.00  0.00           C  \nATOM   1418    C MOL     1     -22.842  44.578 101.338  1.00  0.00           C  \nATOM   1419    O MOL     1     -24.062  45.172 101.800  1.00  0.00           O  \nATOM   1420    C MOL     1     -25.211  44.330 101.709  1.00  0.00           C  \nATOM   1421    C MOL     1     -25.758  44.235 100.276  1.00  0.00           C  \nATOM   1422    O MOL     1     -26.960  43.474 100.217  1.00  0.00           O  \nATOM   1423    C MOL     1     -28.131  44.222 100.524  1.00  0.00           C  \nATOM   1424    C MOL     1     -29.355  43.364 100.241  1.00  0.00           C  \nATOM   1425    O MOL     1     -29.540  43.054  98.865  1.00  0.00           O  \nATOM   1426    C MOL     1     -30.163  44.088  98.097  1.00  0.00           C  \nATOM   1427    C MOL     1     -31.682  44.102  98.233  1.00  0.00           C  \nATOM   1428    H MOL     1     -12.553  22.805 103.493  1.00  0.00           H  \nATOM   1429    H MOL     1     -12.005  21.381 104.421  1.00  0.00           H  \nATOM   1430    H MOL     1     -12.643  23.113 105.952  1.00  0.00           H  \nATOM   1431    H MOL     1     -10.883  22.942 106.082  1.00  0.00           H  \nATOM   1432    H MOL     1      -9.717  24.822 104.232  1.00  0.00           H  \nATOM   1433    H MOL     1      -9.705  24.852 106.026  1.00  0.00           H  \nATOM   1434    H MOL     1     -11.027  26.979 104.251  1.00  0.00           H  \nATOM   1435    H MOL     1     -10.853  27.041 106.032  1.00  0.00           H  \nATOM   1436    H MOL     1      -9.285  28.793 106.313  1.00  0.00           H  \nATOM   1437    H MOL     1      -7.957  28.907 105.115  1.00  0.00           H  \nATOM   1438    H MOL     1     -10.961  29.215 104.505  1.00  0.00           H  \nATOM   1439    H MOL     1      -9.820  30.555 104.779  1.00  0.00           H  \nATOM   1440    H MOL     1     -11.424  29.520 102.224  1.00  0.00           H  \nATOM   1441    H MOL     1     -10.622  31.105 102.463  1.00  0.00           H  \nATOM   1442    H MOL     1      -8.971  30.557 100.672  1.00  0.00           H  \nATOM   1443    H MOL     1      -9.636  28.904 100.548  1.00  0.00           H  \nATOM   1444    H MOL     1     -10.336  32.315 100.203  1.00  0.00           H  \nATOM   1445    H MOL     1     -11.018  32.010  98.586  1.00  0.00           H  \nATOM   1446    H MOL     1     -13.225  31.406  99.639  1.00  0.00           H  \nATOM   1447    H MOL     1     -12.571  31.873 101.235  1.00  0.00           H  \nATOM   1448    H MOL     1     -14.313  34.713  99.604  1.00  0.00           H  \nATOM   1449    H MOL     1     -14.782  33.110 100.207  1.00  0.00           H  \nATOM   1450    H MOL     1     -13.631  33.589 102.396  1.00  0.00           H  \nATOM   1451    H MOL     1     -13.175  35.204 101.800  1.00  0.00           H  \nATOM   1452    H MOL     1     -16.319  36.446 102.751  1.00  0.00           H  \nATOM   1453    H MOL     1     -14.570  36.754 102.851  1.00  0.00           H  \nATOM   1454    H MOL     1     -14.362  36.911 100.406  1.00  0.00           H  \nATOM   1455    H MOL     1     -15.551  38.060 101.045  1.00  0.00           H  \nATOM   1456    H MOL     1     -17.810  35.802 101.161  1.00  0.00           H  \nATOM   1457    H MOL     1     -18.138  35.962  99.427  1.00  0.00           H  \nATOM   1458    H MOL     1     -19.301  37.687 100.750  1.00  0.00           H  \nATOM   1459    H MOL     1     -17.774  38.278 101.446  1.00  0.00           H  \nATOM   1460    H MOL     1     -19.777  38.254  98.522  1.00  0.00           H  \nATOM   1461    H MOL     1     -18.273  37.586  97.803  1.00  0.00           H  \nATOM   1462    H MOL     1     -19.036  39.351  96.387  1.00  0.00           H  \nATOM   1463    H MOL     1     -17.557  39.924  97.205  1.00  0.00           H  \nATOM   1464    H MOL     1     -18.173  41.176  99.459  1.00  0.00           H  \nATOM   1465    H MOL     1     -17.806  42.159  98.008  1.00  0.00           H  \nATOM   1466    H MOL     1     -19.998  43.316  98.202  1.00  0.00           H  \nATOM   1467    H MOL     1     -20.416  42.341  99.637  1.00  0.00           H  \nATOM   1468    H MOL     1     -17.798  43.930 101.562  1.00  0.00           H  \nATOM   1469    H MOL     1     -18.550  42.334 101.351  1.00  0.00           H  \nATOM   1470    H MOL     1     -19.557  43.789 103.170  1.00  0.00           H  \nATOM   1471    H MOL     1     -20.069  44.941 101.899  1.00  0.00           H  \nATOM   1472    H MOL     1     -22.044  44.168 103.314  1.00  0.00           H  \nATOM   1473    H MOL     1     -22.893  42.784 102.570  1.00  0.00           H  \nATOM   1474    H MOL     1     -22.985  44.038 100.386  1.00  0.00           H  \nATOM   1475    H MOL     1     -22.162  45.419 101.141  1.00  0.00           H  \nATOM   1476    H MOL     1     -25.009  43.313 102.091  1.00  0.00           H  \nATOM   1477    H MOL     1     -25.963  44.788 102.369  1.00  0.00           H  \nATOM   1478    H MOL     1     -25.912  45.254  99.873  1.00  0.00           H  \nATOM   1479    H MOL     1     -25.041  43.716  99.623  1.00  0.00           H  \nATOM   1480    H MOL     1     -28.151  45.152  99.922  1.00  0.00           H  \nATOM   1481    H MOL     1     -28.157  44.521 101.592  1.00  0.00           H  \nATOM   1482    H MOL     1     -30.243  43.871 100.665  1.00  0.00           H  \nATOM   1483    H MOL     1     -29.242  42.399 100.756  1.00  0.00           H  \nATOM   1484    H MOL     1     -29.742  45.077  98.360  1.00  0.00           H  \nATOM   1485    H MOL     1     -29.878  43.881  97.055  1.00  0.00           H  \nATOM   1486    H MOL     1     -32.100  43.126  97.950  1.00  0.00           H  \nATOM   1487    H MOL     1     -32.001  44.331  99.259  1.00  0.00           H  \nATOM   1488    H MOL     1     -32.112  44.869  97.572  1.00  0.00           H  \nATOM   1489    O MOL     1      -4.450   0.394 249.205  1.00  0.00           O  \nATOM   1490    C MOL     1      -3.633  -0.009 248.099  1.00  0.00           C  \nATOM   1491    C MOL     1      -3.120   1.224 247.378  1.00  0.00           C  \nATOM   1492    O MOL     1      -2.107   1.931 248.084  1.00  0.00           O  \nATOM   1493    C MOL     1      -2.590   2.946 248.966  1.00  0.00           C  \nATOM   1494    C MOL     1      -1.368   3.632 249.553  1.00  0.00           C  \nATOM   1495    O MOL     1      -1.834   4.631 250.451  1.00  0.00           O  \nATOM   1496    C MOL     1      -0.802   5.443 250.994  1.00  0.00           C  \nATOM   1497    C MOL     1       0.061   4.761 252.043  1.00  0.00           C  \nATOM   1498    O MOL     1      -0.728   4.473 253.187  1.00  0.00           O  \nATOM   1499    C MOL     1      -0.010   3.753 254.177  1.00  0.00           C  \nATOM   1500    C MOL     1      -0.981   3.455 255.317  1.00  0.00           C  \nATOM   1501    O MOL     1      -0.399   2.651 256.337  1.00  0.00           O  \nATOM   1502    C MOL     1       0.475   3.341 257.232  1.00  0.00           C  \nATOM   1503    C MOL     1       1.898   2.814 257.099  1.00  0.00           C  \nATOM   1504    O MOL     1       2.671   3.430 258.123  1.00  0.00           O  \nATOM   1505    C MOL     1       4.044   3.040 258.135  1.00  0.00           C  \nATOM   1506    C MOL     1       4.875   3.879 257.156  1.00  0.00           C  \nATOM   1507    O MOL     1       6.264   3.553 257.234  1.00  0.00           O  \nATOM   1508    C MOL     1       7.062   4.489 257.949  1.00  0.00           C  \nATOM   1509    C MOL     1       6.773   4.601 259.445  1.00  0.00           C  \nATOM   1510    O MOL     1       6.824   3.367 260.162  1.00  0.00           O  \nATOM   1511    C MOL     1       8.071   2.682 260.121  1.00  0.00           C  \nATOM   1512    C MOL     1       9.273   3.500 260.606  1.00  0.00           C  \nATOM   1513    O MOL     1       9.074   4.173 261.840  1.00  0.00           O  \nATOM   1514    C MOL     1       8.891   3.305 262.953  1.00  0.00           C  \nATOM   1515    C MOL     1       8.874   4.128 264.227  1.00  0.00           C  \nATOM   1516    O MOL     1      10.132   4.720 264.535  1.00  0.00           O  \nATOM   1517    C MOL     1      10.284   6.060 264.058  1.00  0.00           C  \nATOM   1518    C MOL     1      11.725   6.468 264.347  1.00  0.00           C  \nATOM   1519    O MOL     1      11.928   7.861 264.079  1.00  0.00           O  \nATOM   1520    C MOL     1      12.287   8.179 262.735  1.00  0.00           C  \nATOM   1521    C MOL     1      13.785   8.148 262.486  1.00  0.00           C  \nATOM   1522    O MOL     1      14.217   6.796 262.328  1.00  0.00           O  \nATOM   1523    C MOL     1      15.622   6.609 262.484  1.00  0.00           C  \nATOM   1524    C MOL     1      15.961   6.235 263.933  1.00  0.00           C  \nATOM   1525    O MOL     1      17.364   6.037 264.112  1.00  0.00           O  \nATOM   1526    C MOL     1      17.823   4.730 263.759  1.00  0.00           C  \nATOM   1527    C MOL     1      17.725   3.759 264.944  1.00  0.00           C  \nATOM   1528    O MOL     1      18.119   2.440 264.574  1.00  0.00           O  \nATOM   1529    C MOL     1      19.526   2.228 264.604  1.00  0.00           C  \nATOM   1530    C MOL     1      19.820   0.819 264.116  1.00  0.00           C  \nATOM   1531    O MOL     1      19.402  -0.204 265.018  1.00  0.00           O  \nATOM   1532    C MOL     1      20.355  -0.511 266.032  1.00  0.00           C  \nATOM   1533    C MOL     1      21.383  -1.523 265.532  1.00  0.00           C  \nATOM   1534    H MOL     1      -4.675  -0.393 249.729  1.00  0.00           H  \nATOM   1535    H MOL     1      -2.769  -0.608 248.439  1.00  0.00           H  \nATOM   1536    H MOL     1      -4.216  -0.615 247.378  1.00  0.00           H  \nATOM   1537    H MOL     1      -2.665   0.900 246.429  1.00  0.00           H  \nATOM   1538    H MOL     1      -3.969   1.893 247.141  1.00  0.00           H  \nATOM   1539    H MOL     1      -3.209   2.520 249.771  1.00  0.00           H  \nATOM   1540    H MOL     1      -3.204   3.679 248.409  1.00  0.00           H  \nATOM   1541    H MOL     1      -0.743   2.878 250.066  1.00  0.00           H  \nATOM   1542    H MOL     1      -0.759   4.086 248.746  1.00  0.00           H  \nATOM   1543    H MOL     1      -0.139   5.816 250.186  1.00  0.00           H  \nATOM   1544    H MOL     1      -1.310   6.304 251.451  1.00  0.00           H  \nATOM   1545    H MOL     1       0.510   3.830 251.645  1.00  0.00           H  \nATOM   1546    H MOL     1       0.899   5.440 252.308  1.00  0.00           H  \nATOM   1547    H MOL     1       0.381   2.801 253.765  1.00  0.00           H  \nATOM   1548    H MOL     1       0.856   4.346 254.537  1.00  0.00           H  \nATOM   1549    H MOL     1      -1.369   4.403 255.733  1.00  0.00           H  \nATOM   1550    H MOL     1      -1.832   2.885 254.921  1.00  0.00           H  \nATOM   1551    H MOL     1       0.455   4.429 257.046  1.00  0.00           H  \nATOM   1552    H MOL     1       0.126   3.170 258.263  1.00  0.00           H  \nATOM   1553    H MOL     1       1.898   1.714 257.223  1.00  0.00           H  \nATOM   1554    H MOL     1       2.295   3.038 256.091  1.00  0.00           H  \nATOM   1555    H MOL     1       4.408   3.187 259.161  1.00  0.00           H  \nATOM   1556    H MOL     1       4.153   1.967 257.895  1.00  0.00           H  \nATOM   1557    H MOL     1       4.558   3.682 256.119  1.00  0.00           H  \nATOM   1558    H MOL     1       4.708   4.952 257.359  1.00  0.00           H  \nATOM   1559    H MOL     1       8.100   4.171 257.771  1.00  0.00           H  \nATOM   1560    H MOL     1       6.953   5.504 257.515  1.00  0.00           H  \nATOM   1561    H MOL     1       5.753   4.977 259.613  1.00  0.00           H  \nATOM   1562    H MOL     1       7.461   5.348 259.882  1.00  0.00           H  \nATOM   1563    H MOL     1       8.300   2.313 259.102  1.00  0.00           H  \nATOM   1564    H MOL     1       7.923   1.798 260.756  1.00  0.00           H  \nATOM   1565    H MOL     1      10.142   2.813 260.668  1.00  0.00           H  \nATOM   1566    H MOL     1       9.529   4.290 259.885  1.00  0.00           H  \nATOM   1567    H MOL     1       9.716   2.567 262.999  1.00  0.00           H  \nATOM   1568    H MOL     1       7.933   2.754 262.876  1.00  0.00           H  \nATOM   1569    H MOL     1       8.627   3.451 265.062  1.00  0.00           H  \nATOM   1570    H MOL     1       8.084   4.898 264.168  1.00  0.00           H  \nATOM   1571    H MOL     1      10.062   6.115 262.979  1.00  0.00           H  \nATOM   1572    H MOL     1       9.592   6.737 264.595  1.00  0.00           H  \nATOM   1573    H MOL     1      11.931   6.326 265.418  1.00  0.00           H  \nATOM   1574    H MOL     1      12.426   5.846 263.772  1.00  0.00           H  \nATOM   1575    H MOL     1      11.928   9.205 262.559  1.00  0.00           H  \nATOM   1576    H MOL     1      11.783   7.511 262.013  1.00  0.00           H  \nATOM   1577    H MOL     1      14.018   8.725 261.568  1.00  0.00           H  \nATOM   1578    H MOL     1      14.297   8.634 263.337  1.00  0.00           H  \nATOM   1579    H MOL     1      16.185   7.512 262.188  1.00  0.00           H  \nATOM   1580    H MOL     1      15.910   5.795 261.801  1.00  0.00           H  \nATOM   1581    H MOL     1      15.379   5.341 264.221  1.00  0.00           H  \nATOM   1582    H MOL     1      15.673   7.053 264.610  1.00  0.00           H  \nATOM   1583    H MOL     1      17.259   4.313 262.906  1.00  0.00           H  \nATOM   1584    H MOL     1      18.870   4.849 263.444  1.00  0.00           H  \nATOM   1585    H MOL     1      18.329   4.135 265.790  1.00  0.00           H  \nATOM   1586    H MOL     1      16.681   3.681 265.281  1.00  0.00           H  \nATOM   1587    H MOL     1      19.912   2.382 265.631  1.00  0.00           H  \nATOM   1588    H MOL     1      20.058   2.938 263.940  1.00  0.00           H  \nATOM   1589    H MOL     1      20.903   0.741 263.901  1.00  0.00           H  \nATOM   1590    H MOL     1      19.272   0.646 263.179  1.00  0.00           H  \nATOM   1591    H MOL     1      20.878   0.393 266.392  1.00  0.00           H  \nATOM   1592    H MOL     1      19.795  -0.932 266.878  1.00  0.00           H  \nATOM   1593    H MOL     1      20.879  -2.465 265.245  1.00  0.00           H  \nATOM   1594    H MOL     1      21.890  -1.128 264.631  1.00  0.00           H  \nATOM   1595    O MOL     1      22.306  -1.754 266.591  1.00  0.00           O  \nATOM   1596    C MOL     1      23.405  -2.588 266.230  1.00  0.00           C  \nATOM   1597    C MOL     1      24.501  -1.899 265.418  1.00  0.00           C  \nATOM   1598    O MOL     1      25.240  -0.921 266.139  1.00  0.00           O  \nATOM   1599    C MOL     1      24.601   0.353 266.228  1.00  0.00           C  \nATOM   1600    C MOL     1      25.597   1.301 266.879  1.00  0.00           C  \nATOM   1601    O MOL     1      24.923   2.535 267.092  1.00  0.00           O  \nATOM   1602    C MOL     1      25.760   3.587 267.553  1.00  0.00           C  \nATOM   1603    C MOL     1      26.363   3.373 268.933  1.00  0.00           C  \nATOM   1604    O MOL     1      25.331   3.273 269.901  1.00  0.00           O  \nATOM   1605    C MOL     1      25.830   2.959 271.195  1.00  0.00           C  \nATOM   1606    C MOL     1      24.652   3.005 272.167  1.00  0.00           C  \nATOM   1607    O MOL     1      24.937   2.402 273.425  1.00  0.00           O  \nATOM   1608    C MOL     1      25.774   3.161 274.300  1.00  0.00           C  \nATOM   1609    C MOL     1      27.193   2.602 274.329  1.00  0.00           C  \nATOM   1610    O MOL     1      27.906   3.291 275.352  1.00  0.00           O  \nATOM   1611    C MOL     1      29.290   2.942 275.420  1.00  0.00           C  \nATOM   1612    C MOL     1      30.122   3.793 274.452  1.00  0.00           C  \nATOM   1613    O MOL     1      31.495   3.397 274.448  1.00  0.00           O  \nATOM   1614    C MOL     1      32.382   4.269 275.138  1.00  0.00           C  \nATOM   1615    C MOL     1      32.199   4.325 276.655  1.00  0.00           C  \nATOM   1616    O MOL     1      32.208   3.061 277.312  1.00  0.00           O  \nATOM   1617    C MOL     1      33.388   2.283 277.141  1.00  0.00           C  \nATOM   1618    C MOL     1      34.679   2.951 277.620  1.00  0.00           C  \nATOM   1619    O MOL     1      34.628   3.468 278.943  1.00  0.00           O  \nATOM   1620    C MOL     1      34.480   2.469 279.949  1.00  0.00           C  \nATOM   1621    C MOL     1      34.668   3.098 281.318  1.00  0.00           C  \nATOM   1622    O MOL     1      36.005   3.517 281.572  1.00  0.00           O  \nATOM   1623    C MOL     1      36.258   4.885 281.246  1.00  0.00           C  \nATOM   1624    C MOL     1      37.758   5.119 281.386  1.00  0.00           C  \nATOM   1625    O MOL     1      38.080   6.494 281.161  1.00  0.00           O  \nATOM   1626    C MOL     1      38.207   6.862 279.787  1.00  0.00           C  \nATOM   1627    C MOL     1      39.653   6.893 279.333  1.00  0.00           C  \nATOM   1628    O MOL     1      40.149   5.561 279.198  1.00  0.00           O  \nATOM   1629    C MOL     1      41.552   5.433 279.422  1.00  0.00           C  \nATOM   1630    C MOL     1      41.838   5.221 280.914  1.00  0.00           C  \nATOM   1631    O MOL     1      43.237   5.088 281.177  1.00  0.00           O  \nATOM   1632    C MOL     1      43.751   3.768 280.982  1.00  0.00           C  \nATOM   1633    C MOL     1      43.499   2.876 282.205  1.00  0.00           C  \nATOM   1634    O MOL     1      43.999   1.556 282.018  1.00  0.00           O  \nATOM   1635    C MOL     1      45.387   1.415 282.301  1.00  0.00           C  \nATOM   1636    C MOL     1      45.757  -0.058 282.234  1.00  0.00           C  \nATOM   1637    O MOL     1      45.178  -0.850 283.265  1.00  0.00           O  \nATOM   1638    C MOL     1      45.886  -0.813 284.508  1.00  0.00           C  \nATOM   1639    C MOL     1      47.096  -1.740 284.533  1.00  0.00           C  \nATOM   1640    H MOL     1      23.834  -2.940 267.179  1.00  0.00           H  \nATOM   1641    H MOL     1      23.047  -3.472 265.665  1.00  0.00           H  \nATOM   1642    H MOL     1      25.229  -2.671 265.123  1.00  0.00           H  \nATOM   1643    H MOL     1      24.090  -1.458 264.489  1.00  0.00           H  \nATOM   1644    H MOL     1      23.684   0.301 266.836  1.00  0.00           H  \nATOM   1645    H MOL     1      24.326   0.715 265.217  1.00  0.00           H  \nATOM   1646    H MOL     1      25.941   0.854 267.830  1.00  0.00           H  \nATOM   1647    H MOL     1      26.483   1.439 266.226  1.00  0.00           H  \nATOM   1648    H MOL     1      26.598   3.760 266.847  1.00  0.00           H  \nATOM   1649    H MOL     1      25.125   4.484 267.553  1.00  0.00           H  \nATOM   1650    H MOL     1      26.996   2.465 268.954  1.00  0.00           H  \nATOM   1651    H MOL     1      27.026   4.234 269.158  1.00  0.00           H  \nATOM   1652    H MOL     1      26.279   1.946 271.207  1.00  0.00           H  \nATOM   1653    H MOL     1      26.618   3.684 271.480  1.00  0.00           H  \nATOM   1654    H MOL     1      24.308   4.048 272.300  1.00  0.00           H  \nATOM   1655    H MOL     1      23.825   2.427 271.732  1.00  0.00           H  \nATOM   1656    H MOL     1      25.784   4.227 274.014  1.00  0.00           H  \nATOM   1657    H MOL     1      25.346   3.088 275.312  1.00  0.00           H  \nATOM   1658    H MOL     1      27.154   1.517 274.549  1.00  0.00           H  \nATOM   1659    H MOL     1      27.679   2.726 273.344  1.00  0.00           H  \nATOM   1660    H MOL     1      29.613   3.110 276.457  1.00  0.00           H  \nATOM   1661    H MOL     1      29.443   1.872 275.194  1.00  0.00           H  \nATOM   1662    H MOL     1      29.748   3.661 273.424  1.00  0.00           H  \nATOM   1663    H MOL     1      30.017   4.862 274.709  1.00  0.00           H  \nATOM   1664    H MOL     1      33.390   3.913 274.877  1.00  0.00           H  \nATOM   1665    H MOL     1      32.291   5.306 274.754  1.00  0.00           H  \nATOM   1666    H MOL     1      31.224   4.765 276.911  1.00  0.00           H  \nATOM   1667    H MOL     1      32.975   4.999 277.067  1.00  0.00           H  \nATOM   1668    H MOL     1      33.529   1.987 276.083  1.00  0.00           H  \nATOM   1669    H MOL     1      33.196   1.361 277.708  1.00  0.00           H  \nATOM   1670    H MOL     1      35.496   2.207 277.522  1.00  0.00           H  \nATOM   1671    H MOL     1      34.939   3.810 276.984  1.00  0.00           H  \nATOM   1672    H MOL     1      35.234   1.671 279.803  1.00  0.00           H  \nATOM   1673    H MOL     1      33.473   2.012 279.907  1.00  0.00           H  \nATOM   1674    H MOL     1      34.423   2.339 282.078  1.00  0.00           H  \nATOM   1675    H MOL     1      33.964   3.942 281.442  1.00  0.00           H  \nATOM   1676    H MOL     1      35.920   5.105 280.219  1.00  0.00           H  \nATOM   1677    H MOL     1      35.713   5.552 281.943  1.00  0.00           H  \nATOM   1678    H MOL     1      38.073   4.891 282.414  1.00  0.00           H  \nATOM   1679    H MOL     1      38.315   4.462 280.698  1.00  0.00           H  \nATOM   1680    H MOL     1      37.785   7.874 279.680  1.00  0.00           H  \nATOM   1681    H MOL     1      37.630   6.183 279.136  1.00  0.00           H  \nATOM   1682    H MOL     1      39.721   7.418 278.359  1.00  0.00           H  \nATOM   1683    H MOL     1      40.246   7.462 280.071  1.00  0.00           H  \nATOM   1684    H MOL     1      42.105   6.315 279.051  1.00  0.00           H  \nATOM   1685    H MOL     1      41.879   4.559 278.840  1.00  0.00           H  \nATOM   1686    H MOL     1      41.266   4.346 281.268  1.00  0.00           H  \nATOM   1687    H MOL     1      41.497   6.093 281.491  1.00  0.00           H  \nATOM   1688    H MOL     1      43.320   3.288 280.085  1.00  0.00           H  \nATOM   1689    H MOL     1      44.831   3.889 280.811  1.00  0.00           H  \nATOM   1690    H MOL     1      43.943   3.345 283.103  1.00  0.00           H  \nATOM   1691    H MOL     1      42.419   2.767 282.378  1.00  0.00           H  \nATOM   1692    H MOL     1      45.610   1.834 283.303  1.00  0.00           H  \nATOM   1693    H MOL     1      46.010   1.965 281.567  1.00  0.00           H  \nATOM   1694    H MOL     1      46.860  -0.143 282.230  1.00  0.00           H  \nATOM   1695    H MOL     1      45.384  -0.475 281.286  1.00  0.00           H  \nATOM   1696    H MOL     1      46.186   0.222 284.756  1.00  0.00           H  \nATOM   1697    H MOL     1      45.152  -1.127 285.264  1.00  0.00           H  \nATOM   1698    H MOL     1      46.793  -2.772 284.310  1.00  0.00           H  \nATOM   1699    H MOL     1      47.860  -1.439 283.802  1.00  0.00           H  \nATOM   1700    H MOL     1      47.565  -1.724 285.528  1.00  0.00           H  \nATOM   1701    O MOL     1       4.575  15.674 223.258  1.00  0.00           O  \nATOM   1702    C MOL     1       4.602  17.100 223.411  1.00  0.00           C  \nATOM   1703    C MOL     1       3.274  17.684 222.964  1.00  0.00           C  \nATOM   1704    O MOL     1       2.202  17.440 223.868  1.00  0.00           O  \nATOM   1705    C MOL     1       1.454  16.254 223.599  1.00  0.00           C  \nATOM   1706    C MOL     1       0.330  16.200 224.620  1.00  0.00           C  \nATOM   1707    O MOL     1      -0.411  15.014 224.364  1.00  0.00           O  \nATOM   1708    C MOL     1      -1.576  14.879 225.164  1.00  0.00           C  \nATOM   1709    C MOL     1      -1.315  14.511 226.616  1.00  0.00           C  \nATOM   1710    O MOL     1      -0.743  13.212 226.677  1.00  0.00           O  \nATOM   1711    C MOL     1      -0.498  12.797 228.013  1.00  0.00           C  \nATOM   1712    C MOL     1       0.095  11.391 227.952  1.00  0.00           C  \nATOM   1713    O MOL     1       0.539  10.912 229.219  1.00  0.00           O  \nATOM   1714    C MOL     1      -0.464  10.355 230.069  1.00  0.00           C  \nATOM   1715    C MOL     1      -0.975  11.360 231.098  1.00  0.00           C  \nATOM   1716    O MOL     1      -1.755  10.638 232.049  1.00  0.00           O  \nATOM   1717    C MOL     1      -1.883  11.291 233.309  1.00  0.00           C  \nATOM   1718    C MOL     1      -2.787  12.527 233.244  1.00  0.00           C  \nATOM   1719    O MOL     1      -2.817  13.207 234.501  1.00  0.00           O  \nATOM   1720    C MOL     1      -3.986  12.986 235.283  1.00  0.00           C  \nATOM   1721    C MOL     1      -4.167  11.563 235.812  1.00  0.00           C  \nATOM   1722    O MOL     1      -3.068  11.056 236.561  1.00  0.00           O  \nATOM   1723    C MOL     1      -2.780  11.747 237.774  1.00  0.00           C  \nATOM   1724    C MOL     1      -3.931  11.778 238.783  1.00  0.00           C  \nATOM   1725    O MOL     1      -4.516  10.512 239.052  1.00  0.00           O  \nATOM   1726    C MOL     1      -3.661   9.622 239.764  1.00  0.00           C  \nATOM   1727    C MOL     1      -4.424   8.355 240.104  1.00  0.00           C  \nATOM   1728    O MOL     1      -5.464   8.559 241.054  1.00  0.00           O  \nATOM   1729    C MOL     1      -6.756   8.754 240.476  1.00  0.00           C  \nATOM   1730    C MOL     1      -7.711   9.084 241.619  1.00  0.00           C  \nATOM   1731    O MOL     1      -9.070   9.093 241.172  1.00  0.00           O  \nATOM   1732    C MOL     1      -9.517  10.315 240.587  1.00  0.00           C  \nATOM   1733    C MOL     1     -10.099  11.284 241.601  1.00  0.00           C  \nATOM   1734    O MOL     1      -9.040  11.934 242.308  1.00  0.00           O  \nATOM   1735    C MOL     1      -9.425  12.479 243.568  1.00  0.00           C  \nATOM   1736    C MOL     1      -9.202  11.457 244.691  1.00  0.00           C  \nATOM   1737    O MOL     1      -9.581  11.986 245.963  1.00  0.00           O  \nATOM   1738    C MOL     1      -8.570  12.773 246.595  1.00  0.00           C  \nATOM   1739    C MOL     1      -7.643  11.908 247.461  1.00  0.00           C  \nATOM   1740    O MOL     1      -6.600  12.681 248.049  1.00  0.00           O  \nATOM   1741    C MOL     1      -6.989  13.368 249.232  1.00  0.00           C  \nATOM   1742    C MOL     1      -5.822  14.212 249.719  1.00  0.00           C  \nATOM   1743    O MOL     1      -4.726  13.455 250.229  1.00  0.00           O  \nATOM   1744    C MOL     1      -4.872  13.058 251.590  1.00  0.00           C  \nATOM   1745    C MOL     1      -4.438  14.173 252.539  1.00  0.00           C  \nATOM   1746    H MOL     1       5.348  15.302 223.715  1.00  0.00           H  \nATOM   1747    H MOL     1       4.779  17.383 224.463  1.00  0.00           H  \nATOM   1748    H MOL     1       5.404  17.546 222.790  1.00  0.00           H  \nATOM   1749    H MOL     1       3.387  18.778 222.905  1.00  0.00           H  \nATOM   1750    H MOL     1       3.024  17.312 221.953  1.00  0.00           H  \nATOM   1751    H MOL     1       2.082  15.353 223.682  1.00  0.00           H  \nATOM   1752    H MOL     1       1.032  16.290 222.576  1.00  0.00           H  \nATOM   1753    H MOL     1       0.763  16.205 225.637  1.00  0.00           H  \nATOM   1754    H MOL     1      -0.319  17.092 224.523  1.00  0.00           H  \nATOM   1755    H MOL     1      -2.171  15.814 225.144  1.00  0.00           H  \nATOM   1756    H MOL     1      -2.168  14.080 224.696  1.00  0.00           H  \nATOM   1757    H MOL     1      -0.645  15.248 227.102  1.00  0.00           H  \nATOM   1758    H MOL     1      -2.280  14.536 227.164  1.00  0.00           H  \nATOM   1759    H MOL     1       0.214  13.478 228.519  1.00  0.00           H  \nATOM   1760    H MOL     1      -1.444  12.807 228.589  1.00  0.00           H  \nATOM   1761    H MOL     1      -0.637  10.693 227.506  1.00  0.00           H  \nATOM   1762    H MOL     1       0.979  11.410 227.299  1.00  0.00           H  \nATOM   1763    H MOL     1      -1.297   9.947 229.472  1.00  0.00           H  \nATOM   1764    H MOL     1       0.008   9.522 230.611  1.00  0.00           H  \nATOM   1765    H MOL     1      -0.115  11.849 231.587  1.00  0.00           H  \nATOM   1766    H MOL     1      -1.571  12.150 230.611  1.00  0.00           H  \nATOM   1767    H MOL     1      -2.289  10.549 234.008  1.00  0.00           H  \nATOM   1768    H MOL     1      -0.892  11.599 233.695  1.00  0.00           H  \nATOM   1769    H MOL     1      -2.393  13.244 232.506  1.00  0.00           H  \nATOM   1770    H MOL     1      -3.803  12.237 232.920  1.00  0.00           H  \nATOM   1771    H MOL     1      -3.909  13.706 236.111  1.00  0.00           H  \nATOM   1772    H MOL     1      -4.895  13.247 234.704  1.00  0.00           H  \nATOM   1773    H MOL     1      -4.292  10.856 234.980  1.00  0.00           H  \nATOM   1774    H MOL     1      -5.105  11.529 236.399  1.00  0.00           H  \nATOM   1775    H MOL     1      -2.465  12.790 237.581  1.00  0.00           H  \nATOM   1776    H MOL     1      -1.910  11.222 238.193  1.00  0.00           H  \nATOM   1777    H MOL     1      -3.547  12.242 239.715  1.00  0.00           H  \nATOM   1778    H MOL     1      -4.756  12.409 238.421  1.00  0.00           H  \nATOM   1779    H MOL     1      -3.306  10.104 240.695  1.00  0.00           H  \nATOM   1780    H MOL     1      -2.778   9.346 239.156  1.00  0.00           H  \nATOM   1781    H MOL     1      -3.713   7.642 240.553  1.00  0.00           H  \nATOM   1782    H MOL     1      -4.823   7.900 239.179  1.00  0.00           H  \nATOM   1783    H MOL     1      -6.727   9.568 239.731  1.00  0.00           H  \nATOM   1784    H MOL     1      -7.095   7.829 239.971  1.00  0.00           H  \nATOM   1785    H MOL     1      -7.643   8.294 242.381  1.00  0.00           H  \nATOM   1786    H MOL     1      -7.438  10.043 242.085  1.00  0.00           H  \nATOM   1787    H MOL     1     -10.309  10.041 239.873  1.00  0.00           H  \nATOM   1788    H MOL     1      -8.708  10.814 240.025  1.00  0.00           H  \nATOM   1789    H MOL     1     -10.718  12.041 241.079  1.00  0.00           H  \nATOM   1790    H MOL     1     -10.754  10.724 242.293  1.00  0.00           H  \nATOM   1791    H MOL     1     -10.480  12.806 243.562  1.00  0.00           H  \nATOM   1792    H MOL     1      -8.797  13.368 243.730  1.00  0.00           H  \nATOM   1793    H MOL     1      -8.147  11.130 244.680  1.00  0.00           H  \nATOM   1794    H MOL     1      -9.829  10.569 244.525  1.00  0.00           H  \nATOM   1795    H MOL     1      -7.961  13.327 245.860  1.00  0.00           H  \nATOM   1796    H MOL     1      -9.099  13.512 247.216  1.00  0.00           H  \nATOM   1797    H MOL     1      -8.235  11.381 248.233  1.00  0.00           H  \nATOM   1798    H MOL     1      -7.147  11.150 246.838  1.00  0.00           H  \nATOM   1799    H MOL     1      -7.308  12.643 250.007  1.00  0.00           H  \nATOM   1800    H MOL     1      -7.844  14.048 249.044  1.00  0.00           H  \nATOM   1801    H MOL     1      -6.200  14.927 250.474  1.00  0.00           H  \nATOM   1802    H MOL     1      -5.425  14.790 248.872  1.00  0.00           H  \nATOM   1803    H MOL     1      -5.909  12.761 251.824  1.00  0.00           H  \nATOM   1804    H MOL     1      -4.231  12.176 251.731  1.00  0.00           H  \nATOM   1805    H MOL     1      -3.374  14.426 252.369  1.00  0.00           H  \nATOM   1806    H MOL     1      -5.035  15.083 252.341  1.00  0.00           H  \nATOM   1807    O MOL     1      -4.636  13.707 253.869  1.00  0.00           O  \nATOM   1808    C MOL     1      -4.487  14.718 254.864  1.00  0.00           C  \nATOM   1809    C MOL     1      -5.671  15.677 254.987  1.00  0.00           C  \nATOM   1810    O MOL     1      -6.859  15.079 255.491  1.00  0.00           O  \nATOM   1811    C MOL     1      -7.619  14.357 254.522  1.00  0.00           C  \nATOM   1812    C MOL     1      -8.936  13.986 255.184  1.00  0.00           C  \nATOM   1813    O MOL     1      -9.628  13.117 254.295  1.00  0.00           O  \nATOM   1814    C MOL     1     -10.969  12.846 254.681  1.00  0.00           C  \nATOM   1815    C MOL     1     -11.119  12.095 255.994  1.00  0.00           C  \nATOM   1816    O MOL     1     -10.518  10.813 255.881  1.00  0.00           O  \nATOM   1817    C MOL     1     -10.354  10.175 257.138  1.00  0.00           C  \nATOM   1818    C MOL     1      -9.663   8.837 256.880  1.00  0.00           C  \nATOM   1819    O MOL     1      -9.177   8.217 258.067  1.00  0.00           O  \nATOM   1820    C MOL     1     -10.174   7.631 258.899  1.00  0.00           C  \nATOM   1821    C MOL     1     -10.399   8.457 260.161  1.00  0.00           C  \nATOM   1822    O MOL     1     -11.315   7.734 260.977  1.00  0.00           O  \nATOM   1823    C MOL     1     -11.606   8.371 262.222  1.00  0.00           C  \nATOM   1824    C MOL     1     -12.693   9.441 262.061  1.00  0.00           C  \nATOM   1825    O MOL     1     -12.916  10.147 263.282  1.00  0.00           O  \nATOM   1826    C MOL     1     -14.119   9.820 263.967  1.00  0.00           C  \nATOM   1827    C MOL     1     -14.157   8.433 264.608  1.00  0.00           C  \nATOM   1828    O MOL     1     -13.061   8.121 265.465  1.00  0.00           O  \nATOM   1829    C MOL     1     -12.789   9.068 266.496  1.00  0.00           C  \nATOM   1830    C MOL     1     -13.930   9.304 267.485  1.00  0.00           C  \nATOM   1831    O MOL     1     -14.350   8.148 268.199  1.00  0.00           O  \nATOM   1832    C MOL     1     -13.464   7.775 269.252  1.00  0.00           C  \nATOM   1833    C MOL     1     -14.055   6.627 270.047  1.00  0.00           C  \nATOM   1834    O MOL     1     -15.148   6.990 270.880  1.00  0.00           O  \nATOM   1835    C MOL     1     -16.426   6.910 270.246  1.00  0.00           C  \nATOM   1836    C MOL     1     -17.447   7.372 271.275  1.00  0.00           C  \nATOM   1837    O MOL     1     -18.786   7.237 270.790  1.00  0.00           O  \nATOM   1838    C MOL     1     -19.284   8.352 270.050  1.00  0.00           C  \nATOM   1839    C MOL     1     -19.928   9.406 270.935  1.00  0.00           C  \nATOM   1840    O MOL     1     -18.925  10.186 271.595  1.00  0.00           O  \nATOM   1841    C MOL     1     -19.251  10.567 272.929  1.00  0.00           C  \nATOM   1842    C MOL     1     -18.871   9.460 273.922  1.00  0.00           C  \nATOM   1843    O MOL     1     -19.203   9.822 275.264  1.00  0.00           O  \nATOM   1844    C MOL     1     -18.188  10.560 275.946  1.00  0.00           C  \nATOM   1845    C MOL     1     -17.094   9.636 276.504  1.00  0.00           C  \nATOM   1846    O MOL     1     -16.185  10.316 277.362  1.00  0.00           O  \nATOM   1847    C MOL     1     -16.704  10.579 278.663  1.00  0.00           C  \nATOM   1848    C MOL     1     -15.558  10.973 279.581  1.00  0.00           C  \nATOM   1849    O MOL     1     -14.697   9.889 279.912  1.00  0.00           O  \nATOM   1850    C MOL     1     -15.116   9.133 281.053  1.00  0.00           C  \nATOM   1851    C MOL     1     -14.729   9.793 282.372  1.00  0.00           C  \nATOM   1852    H MOL     1      -4.362  14.181 255.816  1.00  0.00           H  \nATOM   1853    H MOL     1      -3.568  15.310 254.676  1.00  0.00           H  \nATOM   1854    H MOL     1      -5.397  16.460 255.711  1.00  0.00           H  \nATOM   1855    H MOL     1      -5.878  16.177 254.022  1.00  0.00           H  \nATOM   1856    H MOL     1      -7.096  13.442 254.200  1.00  0.00           H  \nATOM   1857    H MOL     1      -7.799  14.985 253.628  1.00  0.00           H  \nATOM   1858    H MOL     1      -8.717  13.492 256.148  1.00  0.00           H  \nATOM   1859    H MOL     1      -9.535  14.894 255.393  1.00  0.00           H  \nATOM   1860    H MOL     1     -11.547  13.790 254.761  1.00  0.00           H  \nATOM   1861    H MOL     1     -11.393  12.249 253.862  1.00  0.00           H  \nATOM   1862    H MOL     1     -10.654  12.661 256.823  1.00  0.00           H  \nATOM   1863    H MOL     1     -12.200  12.004 256.228  1.00  0.00           H  \nATOM   1864    H MOL     1      -9.721  10.790 257.808  1.00  0.00           H  \nATOM   1865    H MOL     1     -11.336  10.034 257.635  1.00  0.00           H  \nATOM   1866    H MOL     1     -10.344   8.157 256.335  1.00  0.00           H  \nATOM   1867    H MOL     1      -8.784   9.019 256.248  1.00  0.00           H  \nATOM   1868    H MOL     1     -11.126   7.510 258.353  1.00  0.00           H  \nATOM   1869    H MOL     1      -9.823   6.628 259.191  1.00  0.00           H  \nATOM   1870    H MOL     1      -9.436   8.594 260.688  1.00  0.00           H  \nATOM   1871    H MOL     1     -10.784   9.460 259.899  1.00  0.00           H  \nATOM   1872    H MOL     1     -11.939   7.583 262.909  1.00  0.00           H  \nATOM   1873    H MOL     1     -10.697   8.827 262.653  1.00  0.00           H  \nATOM   1874    H MOL     1     -12.376  10.186 261.313  1.00  0.00           H  \nATOM   1875    H MOL     1     -13.626   8.976 261.696  1.00  0.00           H  \nATOM   1876    H MOL     1     -14.235  10.607 264.726  1.00  0.00           H  \nATOM   1877    H MOL     1     -14.990   9.894 263.286  1.00  0.00           H  \nATOM   1878    H MOL     1     -14.136   7.649 263.837  1.00  0.00           H  \nATOM   1879    H MOL     1     -15.125   8.338 265.138  1.00  0.00           H  \nATOM   1880    H MOL     1     -12.497  10.046 266.071  1.00  0.00           H  \nATOM   1881    H MOL     1     -11.908   8.668 267.018  1.00  0.00           H  \nATOM   1882    H MOL     1     -13.606  10.095 268.192  1.00  0.00           H  \nATOM   1883    H MOL     1     -14.827   9.678 266.967  1.00  0.00           H  \nATOM   1884    H MOL     1     -13.282   8.643 269.915  1.00  0.00           H  \nATOM   1885    H MOL     1     -12.490   7.443 268.846  1.00  0.00           H  \nATOM   1886    H MOL     1     -13.272   6.241 270.720  1.00  0.00           H  \nATOM   1887    H MOL     1     -14.344   5.807 269.369  1.00  0.00           H  \nATOM   1888    H MOL     1     -16.453   7.545 269.346  1.00  0.00           H  \nATOM   1889    H MOL     1     -16.639   5.870 269.941  1.00  0.00           H  \nATOM   1890    H MOL     1     -17.370   6.735 272.169  1.00  0.00           H  \nATOM   1891    H MOL     1     -17.235   8.410 271.571  1.00  0.00           H  \nATOM   1892    H MOL     1     -20.052   7.949 269.370  1.00  0.00           H  \nATOM   1893    H MOL     1     -18.494   8.815 269.431  1.00  0.00           H  \nATOM   1894    H MOL     1     -20.562  10.072 270.317  1.00  0.00           H  \nATOM   1895    H MOL     1     -20.579   8.897 271.667  1.00  0.00           H  \nATOM   1896    H MOL     1     -20.323  10.812 273.030  1.00  0.00           H  \nATOM   1897    H MOL     1     -18.675  11.482 273.136  1.00  0.00           H  \nATOM   1898    H MOL     1     -17.797   9.229 273.813  1.00  0.00           H  \nATOM   1899    H MOL     1     -19.432   8.540 273.697  1.00  0.00           H  \nATOM   1900    H MOL     1     -17.734  11.331 275.298  1.00  0.00           H  \nATOM   1901    H MOL     1     -18.700  11.075 276.772  1.00  0.00           H  \nATOM   1902    H MOL     1     -17.576   8.793 277.034  1.00  0.00           H  \nATOM   1903    H MOL     1     -16.481   9.220 275.691  1.00  0.00           H  \nATOM   1904    H MOL     1     -17.220   9.680 279.053  1.00  0.00           H  \nATOM   1905    H MOL     1     -17.442  11.405 278.645  1.00  0.00           H  \nATOM   1906    H MOL     1     -15.980  11.444 280.489  1.00  0.00           H  \nATOM   1907    H MOL     1     -14.937  11.724 279.070  1.00  0.00           H  \nATOM   1908    H MOL     1     -16.208   8.952 281.020  1.00  0.00           H  \nATOM   1909    H MOL     1     -14.623   8.155 280.955  1.00  0.00           H  \nATOM   1910    H MOL     1     -13.645   9.966 282.406  1.00  0.00           H  \nATOM   1911    H MOL     1     -15.237  10.758 282.514  1.00  0.00           H  \nATOM   1912    H MOL     1     -15.004   9.144 283.216  1.00  0.00           H  \nATOM   1913    O MOL     1      21.991   2.180 352.865  1.00  0.00           O  \nATOM   1914    C MOL     1      22.841   1.537 353.825  1.00  0.00           C  \nATOM   1915    C MOL     1      23.860   2.537 354.342  1.00  0.00           C  \nATOM   1916    O MOL     1      23.319   3.514 355.225  1.00  0.00           O  \nATOM   1917    C MOL     1      22.844   4.699 354.586  1.00  0.00           C  \nATOM   1918    C MOL     1      22.390   5.639 355.689  1.00  0.00           C  \nATOM   1919    O MOL     1      21.898   6.819 355.064  1.00  0.00           O  \nATOM   1920    C MOL     1      21.547   7.849 355.977  1.00  0.00           C  \nATOM   1921    C MOL     1      20.258   7.607 356.746  1.00  0.00           C  \nATOM   1922    O MOL     1      19.162   7.620 355.845  1.00  0.00           O  \nATOM   1923    C MOL     1      17.929   7.316 356.480  1.00  0.00           C  \nATOM   1924    C MOL     1      16.852   7.305 355.399  1.00  0.00           C  \nATOM   1925    O MOL     1      15.576   6.920 355.897  1.00  0.00           O  \nATOM   1926    C MOL     1      14.873   7.932 356.620  1.00  0.00           C  \nATOM   1927    C MOL     1      14.700   7.523 358.077  1.00  0.00           C  \nATOM   1928    O MOL     1      13.878   8.509 358.694  1.00  0.00           O  \nATOM   1929    C MOL     1      13.609   8.263 360.074  1.00  0.00           C  \nATOM   1930    C MOL     1      14.744   8.775 360.970  1.00  0.00           C  \nATOM   1931    O MOL     1      14.447   8.567 362.352  1.00  0.00           O  \nATOM   1932    C MOL     1      14.064   9.734 363.069  1.00  0.00           C  \nATOM   1933    C MOL     1      12.740  10.366 362.639  1.00  0.00           C  \nATOM   1934    O MOL     1      11.622   9.484 362.634  1.00  0.00           O  \nATOM   1935    C MOL     1      11.287   8.903 363.890  1.00  0.00           C  \nATOM   1936    C MOL     1      10.961   9.909 364.997  1.00  0.00           C  \nATOM   1937    O MOL     1      10.019  10.908 364.633  1.00  0.00           O  \nATOM   1938    C MOL     1       8.711  10.402 364.381  1.00  0.00           C  \nATOM   1939    C MOL     1       7.751  11.560 364.181  1.00  0.00           C  \nATOM   1940    O MOL     1       7.520  12.316 365.365  1.00  0.00           O  \nATOM   1941    C MOL     1       8.351  13.472 365.494  1.00  0.00           C  \nATOM   1942    C MOL     1       8.051  14.085 366.858  1.00  0.00           C  \nATOM   1943    O MOL     1       8.683  15.360 367.003  1.00  0.00           O  \nATOM   1944    C MOL     1      10.041  15.325 367.441  1.00  0.00           C  \nATOM   1945    C MOL     1      10.181  15.352 368.953  1.00  0.00           C  \nATOM   1946    O MOL     1       9.907  14.054 369.483  1.00  0.00           O  \nATOM   1947    C MOL     1       9.540  14.049 370.861  1.00  0.00           C  \nATOM   1948    C MOL     1       8.017  14.158 371.018  1.00  0.00           C  \nATOM   1949    O MOL     1       7.631  14.155 372.393  1.00  0.00           O  \nATOM   1950    C MOL     1       7.511  12.852 372.966  1.00  0.00           C  \nATOM   1951    C MOL     1       6.098  12.283 372.779  1.00  0.00           C  \nATOM   1952    O MOL     1       5.990  10.959 373.296  1.00  0.00           O  \nATOM   1953    C MOL     1       5.778  10.906 374.702  1.00  0.00           C  \nATOM   1954    C MOL     1       5.759   9.452 375.144  1.00  0.00           C  \nATOM   1955    O MOL     1       4.619   8.720 374.698  1.00  0.00           O  \nATOM   1956    C MOL     1       3.464   8.881 375.518  1.00  0.00           C  \nATOM   1957    C MOL     1       3.501   7.934 376.715  1.00  0.00           C  \nATOM   1958    H MOL     1      21.263   1.576 352.644  1.00  0.00           H  \nATOM   1959    H MOL     1      22.256   1.150 354.678  1.00  0.00           H  \nATOM   1960    H MOL     1      23.388   0.692 353.363  1.00  0.00           H  \nATOM   1961    H MOL     1      24.616   1.984 354.921  1.00  0.00           H  \nATOM   1962    H MOL     1      24.369   3.023 353.489  1.00  0.00           H  \nATOM   1963    H MOL     1      22.007   4.481 353.904  1.00  0.00           H  \nATOM   1964    H MOL     1      23.655   5.170 353.998  1.00  0.00           H  \nATOM   1965    H MOL     1      21.610   5.139 356.292  1.00  0.00           H  \nATOM   1966    H MOL     1      23.238   5.878 356.361  1.00  0.00           H  \nATOM   1967    H MOL     1      22.364   8.013 356.708  1.00  0.00           H  \nATOM   1968    H MOL     1      21.437   8.759 355.370  1.00  0.00           H  \nATOM   1969    H MOL     1      20.295   6.642 357.289  1.00  0.00           H  \nATOM   1970    H MOL     1      20.146   8.406 357.509  1.00  0.00           H  \nATOM   1971    H MOL     1      17.974   6.323 356.970  1.00  0.00           H  \nATOM   1972    H MOL     1      17.700   8.068 357.262  1.00  0.00           H  \nATOM   1973    H MOL     1      16.804   8.296 354.911  1.00  0.00           H  \nATOM   1974    H MOL     1      17.122   6.564 354.634  1.00  0.00           H  \nATOM   1975    H MOL     1      15.398   8.901 356.559  1.00  0.00           H  \nATOM   1976    H MOL     1      13.878   8.060 356.163  1.00  0.00           H  \nATOM   1977    H MOL     1      14.217   6.528 358.128  1.00  0.00           H  \nATOM   1978    H MOL     1      15.687   7.443 358.569  1.00  0.00           H  \nATOM   1979    H MOL     1      12.673   8.785 360.314  1.00  0.00           H  \nATOM   1980    H MOL     1      13.445   7.185 360.260  1.00  0.00           H  \nATOM   1981    H MOL     1      15.676   8.228 360.755  1.00  0.00           H  \nATOM   1982    H MOL     1      14.927   9.843 360.759  1.00  0.00           H  \nATOM   1983    H MOL     1      14.025   9.421 364.123  1.00  0.00           H  \nATOM   1984    H MOL     1      14.845  10.517 362.988  1.00  0.00           H  \nATOM   1985    H MOL     1      12.806  10.738 361.607  1.00  0.00           H  \nATOM   1986    H MOL     1      12.556  11.245 363.287  1.00  0.00           H  \nATOM   1987    H MOL     1      12.092   8.238 364.258  1.00  0.00           H  \nATOM   1988    H MOL     1      10.417   8.266 363.677  1.00  0.00           H  \nATOM   1989    H MOL     1      10.604   9.335 365.877  1.00  0.00           H  \nATOM   1990    H MOL     1      11.861  10.460 365.308  1.00  0.00           H  \nATOM   1991    H MOL     1       8.374   9.784 365.236  1.00  0.00           H  \nATOM   1992    H MOL     1       8.698   9.774 363.470  1.00  0.00           H  \nATOM   1993    H MOL     1       6.778  11.144 363.872  1.00  0.00           H  \nATOM   1994    H MOL     1       8.116  12.212 363.366  1.00  0.00           H  \nATOM   1995    H MOL     1       9.415  13.195 365.405  1.00  0.00           H  \nATOM   1996    H MOL     1       8.112  14.206 364.701  1.00  0.00           H  \nATOM   1997    H MOL     1       6.969  14.268 366.938  1.00  0.00           H  \nATOM   1998    H MOL     1       8.348  13.397 367.664  1.00  0.00           H  \nATOM   1999    H MOL     1      10.518  16.229 367.031  1.00  0.00           H  \nATOM   2000    H MOL     1      10.574  14.446 367.038  1.00  0.00           H  \nATOM   2001    H MOL     1      11.212  15.656 369.225  1.00  0.00           H  \nATOM   2002    H MOL     1       9.482  16.104 369.361  1.00  0.00           H  \nATOM   2003    H MOL     1      10.033  14.869 371.413  1.00  0.00           H  \nATOM   2004    H MOL     1       9.901  13.097 371.279  1.00  0.00           H  \nATOM   2005    H MOL     1       7.535  13.339 370.454  1.00  0.00           H  \nATOM   2006    H MOL     1       7.660  15.109 370.597  1.00  0.00           H  \nATOM   2007    H MOL     1       8.242  12.145 372.535  1.00  0.00           H  \nATOM   2008    H MOL     1       7.743  12.964 374.036  1.00  0.00           H  \nATOM   2009    H MOL     1       5.357  12.958 373.247  1.00  0.00           H  \nATOM   2010    H MOL     1       5.860  12.212 371.708  1.00  0.00           H  \nATOM   2011    H MOL     1       4.830  11.416 374.965  1.00  0.00           H  \nATOM   2012    H MOL     1       6.591  11.418 375.255  1.00  0.00           H  \nATOM   2013    H MOL     1       5.848   9.421 376.246  1.00  0.00           H  \nATOM   2014    H MOL     1       6.634   8.940 374.717  1.00  0.00           H  \nATOM   2015    H MOL     1       3.354   9.920 375.877  1.00  0.00           H  \nATOM   2016    H MOL     1       2.595   8.651 374.886  1.00  0.00           H  \nATOM   2017    H MOL     1       3.530   6.883 376.369  1.00  0.00           H  \nATOM   2018    H MOL     1       4.417   8.118 377.307  1.00  0.00           H  \nATOM   2019    O MOL     1       2.331   8.175 377.489  1.00  0.00           O  \nATOM   2020    C MOL     1       2.331   7.518 378.756  1.00  0.00           C  \nATOM   2021    C MOL     1       3.212   8.174 379.818  1.00  0.00           C  \nATOM   2022    O MOL     1       2.753   9.444 380.261  1.00  0.00           O  \nATOM   2023    C MOL     1       3.083  10.531 379.396  1.00  0.00           C  \nATOM   2024    C MOL     1       2.703  11.807 380.130  1.00  0.00           C  \nATOM   2025    O MOL     1       2.851  12.885 379.215  1.00  0.00           O  \nATOM   2026    C MOL     1       2.734  14.169 379.814  1.00  0.00           C  \nATOM   2027    C MOL     1       1.366  14.482 380.398  1.00  0.00           C  \nATOM   2028    O MOL     1       0.397  14.508 379.361  1.00  0.00           O  \nATOM   2029    C MOL     1      -0.933  14.519 379.860  1.00  0.00           C  \nATOM   2030    C MOL     1      -1.871  14.554 378.655  1.00  0.00           C  \nATOM   2031    O MOL     1      -3.230  14.297 378.991  1.00  0.00           O  \nATOM   2032    C MOL     1      -3.901  15.355 379.676  1.00  0.00           C  \nATOM   2033    C MOL     1      -4.120  14.998 381.143  1.00  0.00           C  \nATOM   2034    O MOL     1      -4.931  16.019 381.715  1.00  0.00           O  \nATOM   2035    C MOL     1      -5.189  15.835 383.107  1.00  0.00           C  \nATOM   2036    C MOL     1      -4.060  16.419 383.965  1.00  0.00           C  \nATOM   2037    O MOL     1      -4.286  16.189 385.357  1.00  0.00           O  \nATOM   2038    C MOL     1      -4.735  17.319 386.093  1.00  0.00           C  \nATOM   2039    C MOL     1      -6.128  17.833 385.728  1.00  0.00           C  \nATOM   2040    O MOL     1      -7.157  16.849 385.729  1.00  0.00           O  \nATOM   2041    C MOL     1      -7.349  16.155 386.958  1.00  0.00           C  \nATOM   2042    C MOL     1      -7.679  17.047 388.158  1.00  0.00           C  \nATOM   2043    O MOL     1      -8.737  17.969 387.941  1.00  0.00           O  \nATOM   2044    C MOL     1     -10.008  17.354 387.742  1.00  0.00           C  \nATOM   2045    C MOL     1     -11.091  18.416 387.768  1.00  0.00           C  \nATOM   2046    O MOL     1     -11.274  19.003 389.053  1.00  0.00           O  \nATOM   2047    C MOL     1     -10.539  20.212 389.253  1.00  0.00           C  \nATOM   2048    C MOL     1     -10.700  20.603 390.718  1.00  0.00           C  \nATOM   2049    O MOL     1     -10.114  21.882 390.971  1.00  0.00           O  \nATOM   2050    C MOL     1      -8.711  21.863 391.238  1.00  0.00           C  \nATOM   2051    C MOL     1      -8.408  21.887 392.724  1.00  0.00           C  \nATOM   2052    O MOL     1      -8.695  20.609 393.299  1.00  0.00           O  \nATOM   2053    C MOL     1      -9.175  20.660 394.640  1.00  0.00           C  \nATOM   2054    C MOL     1     -10.700  20.831 394.667  1.00  0.00           C  \nATOM   2055    O MOL     1     -11.192  20.926 396.005  1.00  0.00           O  \nATOM   2056    C MOL     1     -11.471  19.668 396.622  1.00  0.00           C  \nATOM   2057    C MOL     1     -12.884  19.179 396.277  1.00  0.00           C  \nATOM   2058    O MOL     1     -13.187  17.929 396.887  1.00  0.00           O  \nATOM   2059    C MOL     1     -13.622  18.035 398.237  1.00  0.00           C  \nATOM   2060    C MOL     1     -14.061  16.662 398.724  1.00  0.00           C  \nATOM   2061    O MOL     1     -15.235  16.170 398.088  1.00  0.00           O  \nATOM   2062    C MOL     1     -16.459  16.664 398.641  1.00  0.00           C  \nATOM   2063    C MOL     1     -16.888  15.917 399.899  1.00  0.00           C  \nATOM   2064    H MOL     1       1.286   7.535 379.099  1.00  0.00           H  \nATOM   2065    H MOL     1       2.642   6.460 378.640  1.00  0.00           H  \nATOM   2066    H MOL     1       3.204   7.523 380.707  1.00  0.00           H  \nATOM   2067    H MOL     1       4.261   8.249 379.473  1.00  0.00           H  \nATOM   2068    H MOL     1       2.529  10.472 378.445  1.00  0.00           H  \nATOM   2069    H MOL     1       4.166  10.524 379.165  1.00  0.00           H  \nATOM   2070    H MOL     1       1.660  11.711 380.482  1.00  0.00           H  \nATOM   2071    H MOL     1       3.351  11.952 381.017  1.00  0.00           H  \nATOM   2072    H MOL     1       3.484  14.287 380.623  1.00  0.00           H  \nATOM   2073    H MOL     1       2.967  14.887 379.016  1.00  0.00           H  \nATOM   2074    H MOL     1       1.085  13.732 381.162  1.00  0.00           H  \nATOM   2075    H MOL     1       1.417  15.464 380.912  1.00  0.00           H  \nATOM   2076    H MOL     1      -1.132  13.606 380.455  1.00  0.00           H  \nATOM   2077    H MOL     1      -1.092  15.395 380.520  1.00  0.00           H  \nATOM   2078    H MOL     1      -1.773  15.522 378.128  1.00  0.00           H  \nATOM   2079    H MOL     1      -1.573  13.756 377.961  1.00  0.00           H  \nATOM   2080    H MOL     1      -3.341  16.302 379.591  1.00  0.00           H  \nATOM   2081    H MOL     1      -4.882  15.500 379.197  1.00  0.00           H  \nATOM   2082    H MOL     1      -4.628  14.018 381.209  1.00  0.00           H  \nATOM   2083    H MOL     1      -3.149  14.907 381.665  1.00  0.00           H  \nATOM   2084    H MOL     1      -6.139  16.340 383.327  1.00  0.00           H  \nATOM   2085    H MOL     1      -5.318  14.764 383.348  1.00  0.00           H  \nATOM   2086    H MOL     1      -3.105  15.931 383.711  1.00  0.00           H  \nATOM   2087    H MOL     1      -3.949  17.497 383.753  1.00  0.00           H  \nATOM   2088    H MOL     1      -4.697  17.004 387.147  1.00  0.00           H  \nATOM   2089    H MOL     1      -4.030  18.168 385.980  1.00  0.00           H  \nATOM   2090    H MOL     1      -6.135  18.241 384.707  1.00  0.00           H  \nATOM   2091    H MOL     1      -6.371  18.670 386.412  1.00  0.00           H  \nATOM   2092    H MOL     1      -6.464  15.543 387.219  1.00  0.00           H  \nATOM   2093    H MOL     1      -8.174  15.457 386.756  1.00  0.00           H  \nATOM   2094    H MOL     1      -7.908  16.381 389.015  1.00  0.00           H  \nATOM   2095    H MOL     1      -6.813  17.662 388.443  1.00  0.00           H  \nATOM   2096    H MOL     1     -10.198  16.612 388.542  1.00  0.00           H  \nATOM   2097    H MOL     1     -10.047  16.833 386.766  1.00  0.00           H  \nATOM   2098    H MOL     1     -12.045  17.936 387.496  1.00  0.00           H  \nATOM   2099    H MOL     1     -10.874  19.192 387.012  1.00  0.00           H  \nATOM   2100    H MOL     1      -9.476  20.063 388.999  1.00  0.00           H  \nATOM   2101    H MOL     1     -10.944  21.017 388.611  1.00  0.00           H  \nATOM   2102    H MOL     1     -11.770  20.698 390.955  1.00  0.00           H  \nATOM   2103    H MOL     1     -10.267  19.831 391.374  1.00  0.00           H  \nATOM   2104    H MOL     1      -8.282  22.768 390.778  1.00  0.00           H  \nATOM   2105    H MOL     1      -8.228  20.985 390.774  1.00  0.00           H  \nATOM   2106    H MOL     1      -7.339  22.135 392.881  1.00  0.00           H  \nATOM   2107    H MOL     1      -9.015  22.678 393.197  1.00  0.00           H  \nATOM   2108    H MOL     1      -8.700  21.478 395.211  1.00  0.00           H  \nATOM   2109    H MOL     1      -8.887  19.708 395.111  1.00  0.00           H  \nATOM   2110    H MOL     1     -11.169  19.999 394.113  1.00  0.00           H  \nATOM   2111    H MOL     1     -10.982  21.766 394.160  1.00  0.00           H  \nATOM   2112    H MOL     1     -10.735  18.897 396.333  1.00  0.00           H  \nATOM   2113    H MOL     1     -11.376  19.832 397.706  1.00  0.00           H  \nATOM   2114    H MOL     1     -13.621  19.952 396.568  1.00  0.00           H  \nATOM   2115    H MOL     1     -12.973  19.017 395.193  1.00  0.00           H  \nATOM   2116    H MOL     1     -14.453  18.765 398.309  1.00  0.00           H  \nATOM   2117    H MOL     1     -12.810  18.395 398.901  1.00  0.00           H  \nATOM   2118    H MOL     1     -14.182  16.702 399.823  1.00  0.00           H  \nATOM   2119    H MOL     1     -13.266  15.936 398.499  1.00  0.00           H  \nATOM   2120    H MOL     1     -16.387  17.749 398.840  1.00  0.00           H  \nATOM   2121    H MOL     1     -17.207  16.529 397.846  1.00  0.00           H  \nATOM   2122    H MOL     1     -16.981  14.842 399.693  1.00  0.00           H  \nATOM   2123    H MOL     1     -16.170  16.050 400.720  1.00  0.00           H  \nATOM   2124    H MOL     1     -17.862  16.290 400.247  1.00  0.00           H  \nATOM   2125    O MOL     1      15.659   0.947 301.854  1.00  0.00           O  \nATOM   2126    C MOL     1      15.480  -0.469 301.993  1.00  0.00           C  \nATOM   2127    C MOL     1      16.459  -1.001 303.024  1.00  0.00           C  \nATOM   2128    O MOL     1      16.131  -0.659 304.367  1.00  0.00           O  \nATOM   2129    C MOL     1      16.696   0.571 304.824  1.00  0.00           C  \nATOM   2130    C MOL     1      16.305   0.715 306.285  1.00  0.00           C  \nATOM   2131    O MOL     1      16.848   1.946 306.748  1.00  0.00           O  \nATOM   2132    C MOL     1      16.667   2.165 308.140  1.00  0.00           C  \nATOM   2133    C MOL     1      15.249   2.527 308.551  1.00  0.00           C  \nATOM   2134    O MOL     1      14.909   3.792 308.004  1.00  0.00           O  \nATOM   2135    C MOL     1      13.565   4.160 308.274  1.00  0.00           C  \nATOM   2136    C MOL     1      13.313   5.499 307.586  1.00  0.00           C  \nATOM   2137    O MOL     1      11.964   5.935 307.707  1.00  0.00           O  \nATOM   2138    C MOL     1      11.617   6.495 308.974  1.00  0.00           C  \nATOM   2139    C MOL     1      10.579   5.626 309.674  1.00  0.00           C  \nATOM   2140    O MOL     1      10.184   6.315 310.856  1.00  0.00           O  \nATOM   2141    C MOL     1       9.197   5.631 311.627  1.00  0.00           C  \nATOM   2142    C MOL     1       9.831   4.585 312.554  1.00  0.00           C  \nATOM   2143    O MOL     1       8.842   3.936 313.356  1.00  0.00           O  \nATOM   2144    C MOL     1       8.804   4.349 314.717  1.00  0.00           C  \nATOM   2145    C MOL     1       8.382   5.798 314.954  1.00  0.00           C  \nATOM   2146    O MOL     1       7.142   6.172 314.361  1.00  0.00           O  \nATOM   2147    C MOL     1       6.000   5.447 314.806  1.00  0.00           C  \nATOM   2148    C MOL     1       5.733   5.529 316.311  1.00  0.00           C  \nATOM   2149    O MOL     1       5.736   6.846 316.844  1.00  0.00           O  \nATOM   2150    C MOL     1       4.668   7.662 316.369  1.00  0.00           C  \nATOM   2151    C MOL     1       4.658   8.974 317.130  1.00  0.00           C  \nATOM   2152    O MOL     1       4.296   8.832 318.500  1.00  0.00           O  \nATOM   2153    C MOL     1       5.408   8.717 319.391  1.00  0.00           C  \nATOM   2154    C MOL     1       4.837   8.457 320.781  1.00  0.00           C  \nATOM   2155    O MOL     1       5.859   8.526 321.781  1.00  0.00           O  \nATOM   2156    C MOL     1       6.602   7.325 321.983  1.00  0.00           C  \nATOM   2157    C MOL     1       5.983   6.408 323.023  1.00  0.00           C  \nATOM   2158    O MOL     1       4.878   5.707 322.449  1.00  0.00           O  \nATOM   2159    C MOL     1       3.942   5.208 323.401  1.00  0.00           C  \nATOM   2160    C MOL     1       2.829   6.232 323.658  1.00  0.00           C  \nATOM   2161    O MOL     1       1.880   5.747 324.609  1.00  0.00           O  \nATOM   2162    C MOL     1       0.862   4.913 324.050  1.00  0.00           C  \nATOM   2163    C MOL     1      -0.344   5.738 323.579  1.00  0.00           C  \nATOM   2164    O MOL     1      -1.336   4.918 322.968  1.00  0.00           O  \nATOM   2165    C MOL     1      -2.200   4.270 323.896  1.00  0.00           C  \nATOM   2166    C MOL     1      -3.157   3.370 323.133  1.00  0.00           C  \nATOM   2167    O MOL     1      -4.123   4.071 322.352  1.00  0.00           O  \nATOM   2168    C MOL     1      -5.268   4.500 323.085  1.00  0.00           C  \nATOM   2169    C MOL     1      -6.300   3.380 323.202  1.00  0.00           C  \nATOM   2170    H MOL     1      14.943   1.296 301.299  1.00  0.00           H  \nATOM   2171    H MOL     1      14.453  -0.710 302.318  1.00  0.00           H  \nATOM   2172    H MOL     1      15.673  -0.987 301.033  1.00  0.00           H  \nATOM   2173    H MOL     1      16.442  -2.101 302.974  1.00  0.00           H  \nATOM   2174    H MOL     1      17.481  -0.662 302.775  1.00  0.00           H  \nATOM   2175    H MOL     1      16.319   1.428 304.244  1.00  0.00           H  \nATOM   2176    H MOL     1      17.798   0.547 304.728  1.00  0.00           H  \nATOM   2177    H MOL     1      15.203   0.695 306.368  1.00  0.00           H  \nATOM   2178    H MOL     1      16.705  -0.134 306.874  1.00  0.00           H  \nATOM   2179    H MOL     1      16.979   1.270 308.716  1.00  0.00           H  \nATOM   2180    H MOL     1      17.339   2.996 308.400  1.00  0.00           H  \nATOM   2181    H MOL     1      14.528   1.757 308.212  1.00  0.00           H  \nATOM   2182    H MOL     1      15.198   2.555 309.660  1.00  0.00           H  \nATOM   2183    H MOL     1      12.862   3.400 307.879  1.00  0.00           H  \nATOM   2184    H MOL     1      13.397   4.237 309.368  1.00  0.00           H  \nATOM   2185    H MOL     1      14.012   6.258 307.982  1.00  0.00           H  \nATOM   2186    H MOL     1      13.508   5.388 306.510  1.00  0.00           H  \nATOM   2187    H MOL     1      12.507   6.611 309.615  1.00  0.00           H  \nATOM   2188    H MOL     1      11.190   7.498 308.807  1.00  0.00           H  \nATOM   2189    H MOL     1       9.710   5.474 309.005  1.00  0.00           H  \nATOM   2190    H MOL     1      11.007   4.631 309.899  1.00  0.00           H  \nATOM   2191    H MOL     1       8.672   6.391 312.220  1.00  0.00           H  \nATOM   2192    H MOL     1       8.450   5.144 310.974  1.00  0.00           H  \nATOM   2193    H MOL     1      10.329   3.801 311.960  1.00  0.00           H  \nATOM   2194    H MOL     1      10.600   5.067 313.183  1.00  0.00           H  \nATOM   2195    H MOL     1       8.108   3.652 315.206  1.00  0.00           H  \nATOM   2196    H MOL     1       9.796   4.211 315.195  1.00  0.00           H  \nATOM   2197    H MOL     1       9.118   6.491 314.521  1.00  0.00           H  \nATOM   2198    H MOL     1       8.376   5.977 316.047  1.00  0.00           H  \nATOM   2199    H MOL     1       6.065   4.377 314.528  1.00  0.00           H  \nATOM   2200    H MOL     1       5.162   5.875 314.239  1.00  0.00           H  \nATOM   2201    H MOL     1       4.762   5.029 316.507  1.00  0.00           H  \nATOM   2202    H MOL     1       6.502   4.986 316.880  1.00  0.00           H  \nATOM   2203    H MOL     1       3.701   7.141 316.514  1.00  0.00           H  \nATOM   2204    H MOL     1       4.787   7.882 315.290  1.00  0.00           H  \nATOM   2205    H MOL     1       3.903   9.629 316.666  1.00  0.00           H  \nATOM   2206    H MOL     1       5.641   9.469 317.035  1.00  0.00           H  \nATOM   2207    H MOL     1       6.075   7.899 319.072  1.00  0.00           H  \nATOM   2208    H MOL     1       5.989   9.659 319.402  1.00  0.00           H  \nATOM   2209    H MOL     1       4.115   9.250 321.026  1.00  0.00           H  \nATOM   2210    H MOL     1       4.315   7.489 320.809  1.00  0.00           H  \nATOM   2211    H MOL     1       7.596   7.636 322.340  1.00  0.00           H  \nATOM   2212    H MOL     1       6.739   6.769 321.038  1.00  0.00           H  \nATOM   2213    H MOL     1       6.743   5.682 323.377  1.00  0.00           H  \nATOM   2214    H MOL     1       5.663   7.017 323.888  1.00  0.00           H  \nATOM   2215    H MOL     1       4.435   4.944 324.353  1.00  0.00           H  \nATOM   2216    H MOL     1       3.521   4.285 322.973  1.00  0.00           H  \nATOM   2217    H MOL     1       2.350   6.497 322.698  1.00  0.00           H  \nATOM   2218    H MOL     1       3.253   7.153 324.084  1.00  0.00           H  \nATOM   2219    H MOL     1       1.241   4.316 323.202  1.00  0.00           H  \nATOM   2220    H MOL     1       0.565   4.215 324.846  1.00  0.00           H  \nATOM   2221    H MOL     1      -0.763   6.308 324.429  1.00  0.00           H  \nATOM   2222    H MOL     1      -0.029   6.459 322.810  1.00  0.00           H  \nATOM   2223    H MOL     1      -2.750   5.024 324.494  1.00  0.00           H  \nATOM   2224    H MOL     1      -1.631   3.637 324.606  1.00  0.00           H  \nATOM   2225    H MOL     1      -3.646   2.690 323.856  1.00  0.00           H  \nATOM   2226    H MOL     1      -2.581   2.758 322.425  1.00  0.00           H  \nATOM   2227    H MOL     1      -5.001   4.858 324.095  1.00  0.00           H  \nATOM   2228    H MOL     1      -5.697   5.348 322.532  1.00  0.00           H  \nATOM   2229    H MOL     1      -6.636   3.066 322.195  1.00  0.00           H  \nATOM   2230    H MOL     1      -5.841   2.501 323.692  1.00  0.00           H  \nATOM   2231    O MOL     1      -7.394   3.882 323.961  1.00  0.00           O  \nATOM   2232    C MOL     1      -8.340   2.883 324.340  1.00  0.00           C  \nATOM   2233    C MOL     1      -7.899   1.988 325.498  1.00  0.00           C  \nATOM   2234    O MOL     1      -7.805   2.651 326.751  1.00  0.00           O  \nATOM   2235    C MOL     1      -6.602   3.396 326.943  1.00  0.00           C  \nATOM   2236    C MOL     1      -6.591   3.845 328.395  1.00  0.00           C  \nATOM   2237    O MOL     1      -5.499   4.741 328.555  1.00  0.00           O  \nATOM   2238    C MOL     1      -5.231   5.086 329.909  1.00  0.00           C  \nATOM   2239    C MOL     1      -6.338   5.862 330.605  1.00  0.00           C  \nATOM   2240    O MOL     1      -6.515   7.118 329.967  1.00  0.00           O  \nATOM   2241    C MOL     1      -7.705   7.775 330.381  1.00  0.00           C  \nATOM   2242    C MOL     1      -7.774   9.106 329.636  1.00  0.00           C  \nATOM   2243    O MOL     1      -9.039   9.747 329.745  1.00  0.00           O  \nATOM   2244    C MOL     1      -9.323  10.328 331.019  1.00  0.00           C  \nATOM   2245    C MOL     1     -10.371   9.509 331.765  1.00  0.00           C  \nATOM   2246    O MOL     1     -10.718  10.231 332.942  1.00  0.00           O  \nATOM   2247    C MOL     1     -11.672   9.561 333.767  1.00  0.00           C  \nATOM   2248    C MOL     1     -10.988   8.574 334.720  1.00  0.00           C  \nATOM   2249    O MOL     1     -11.942   7.861 335.509  1.00  0.00           O  \nATOM   2250    C MOL     1     -12.055   8.291 336.860  1.00  0.00           C  \nATOM   2251    C MOL     1     -12.618   9.698 337.058  1.00  0.00           C  \nATOM   2252    O MOL     1     -13.848   9.959 336.390  1.00  0.00           O  \nATOM   2253    C MOL     1     -14.930   9.097 336.727  1.00  0.00           C  \nATOM   2254    C MOL     1     -15.303   9.080 338.211  1.00  0.00           C  \nATOM   2255    O MOL     1     -15.494  10.362 338.793  1.00  0.00           O  \nATOM   2256    C MOL     1     -16.615  11.071 338.271  1.00  0.00           C  \nATOM   2257    C MOL     1     -16.872  12.302 339.122  1.00  0.00           C  \nATOM   2258    O MOL     1     -17.334  11.994 340.434  1.00  0.00           O  \nATOM   2259    C MOL     1     -16.299  11.930 341.417  1.00  0.00           C  \nATOM   2260    C MOL     1     -16.930  11.418 342.707  1.00  0.00           C  \nATOM   2261    O MOL     1     -15.992  11.462 343.786  1.00  0.00           O  \nATOM   2262    C MOL     1     -15.127  10.330 343.882  1.00  0.00           C  \nATOM   2263    C MOL     1     -15.621   9.314 344.895  1.00  0.00           C  \nATOM   2264    O MOL     1     -16.745   8.607 344.365  1.00  0.00           O  \nATOM   2265    C MOL     1     -17.717   8.230 345.338  1.00  0.00           C  \nATOM   2266    C MOL     1     -18.736   9.355 345.556  1.00  0.00           C  \nATOM   2267    O MOL     1     -19.693   9.007 346.559  1.00  0.00           O  \nATOM   2268    C MOL     1     -20.822   8.281 346.072  1.00  0.00           C  \nATOM   2269    C MOL     1     -21.911   9.229 345.551  1.00  0.00           C  \nATOM   2270    O MOL     1     -23.051   8.527 345.066  1.00  0.00           O  \nATOM   2271    C MOL     1     -23.967   8.139 346.083  1.00  0.00           C  \nATOM   2272    C MOL     1     -25.205   7.542 345.431  1.00  0.00           C  \nATOM   2273    O MOL     1     -25.983   8.481 344.698  1.00  0.00           O  \nATOM   2274    C MOL     1     -26.882   9.258 345.497  1.00  0.00           C  \nATOM   2275    C MOL     1     -28.176   8.521 345.824  1.00  0.00           C  \nATOM   2276    H MOL     1      -9.246   3.431 324.639  1.00  0.00           H  \nATOM   2277    H MOL     1      -8.591   2.242 323.471  1.00  0.00           H  \nATOM   2278    H MOL     1      -8.664   1.206 325.626  1.00  0.00           H  \nATOM   2279    H MOL     1      -6.943   1.480 325.264  1.00  0.00           H  \nATOM   2280    H MOL     1      -6.564   4.277 326.283  1.00  0.00           H  \nATOM   2281    H MOL     1      -5.720   2.763 326.726  1.00  0.00           H  \nATOM   2282    H MOL     1      -7.556   4.334 328.618  1.00  0.00           H  \nATOM   2283    H MOL     1      -6.487   2.973 329.070  1.00  0.00           H  \nATOM   2284    H MOL     1      -5.028   4.173 330.506  1.00  0.00           H  \nATOM   2285    H MOL     1      -4.316   5.694 329.880  1.00  0.00           H  \nATOM   2286    H MOL     1      -7.286   5.291 330.590  1.00  0.00           H  \nATOM   2287    H MOL     1      -6.058   5.998 331.670  1.00  0.00           H  \nATOM   2288    H MOL     1      -8.594   7.163 330.128  1.00  0.00           H  \nATOM   2289    H MOL     1      -7.701   7.928 331.480  1.00  0.00           H  \nATOM   2290    H MOL     1      -6.963   9.774 329.980  1.00  0.00           H  \nATOM   2291    H MOL     1      -7.623   8.911 328.565  1.00  0.00           H  \nATOM   2292    H MOL     1      -8.406  10.422 331.625  1.00  0.00           H  \nATOM   2293    H MOL     1      -9.720  11.341 330.848  1.00  0.00           H  \nATOM   2294    H MOL     1     -11.259   9.374 331.118  1.00  0.00           H  \nATOM   2295    H MOL     1      -9.975   8.504 332.004  1.00  0.00           H  \nATOM   2296    H MOL     1     -12.206  10.335 334.334  1.00  0.00           H  \nATOM   2297    H MOL     1     -12.418   9.024 333.154  1.00  0.00           H  \nATOM   2298    H MOL     1     -10.425   7.823 334.142  1.00  0.00           H  \nATOM   2299    H MOL     1     -10.265   9.112 335.360  1.00  0.00           H  \nATOM   2300    H MOL     1     -12.698   7.540 337.343  1.00  0.00           H  \nATOM   2301    H MOL     1     -11.070   8.254 337.368  1.00  0.00           H  \nATOM   2302    H MOL     1     -11.922  10.453 336.663  1.00  0.00           H  \nATOM   2303    H MOL     1     -12.705   9.879 338.147  1.00  0.00           H  \nATOM   2304    H MOL     1     -14.730   8.055 336.411  1.00  0.00           H  \nATOM   2305    H MOL     1     -15.773   9.460 336.121  1.00  0.00           H  \nATOM   2306    H MOL     1     -16.218   8.461 338.318  1.00  0.00           H  \nATOM   2307    H MOL     1     -14.513   8.605 338.812  1.00  0.00           H  \nATOM   2308    H MOL     1     -17.512  10.421 338.282  1.00  0.00           H  \nATOM   2309    H MOL     1     -16.430  11.394 337.229  1.00  0.00           H  \nATOM   2310    H MOL     1     -17.664  12.893 338.634  1.00  0.00           H  \nATOM   2311    H MOL     1     -15.961  12.924 339.165  1.00  0.00           H  \nATOM   2312    H MOL     1     -15.488  11.262 341.081  1.00  0.00           H  \nATOM   2313    H MOL     1     -15.873  12.937 341.591  1.00  0.00           H  \nATOM   2314    H MOL     1     -17.763  12.077 342.992  1.00  0.00           H  \nATOM   2315    H MOL     1     -17.325  10.400 342.566  1.00  0.00           H  \nATOM   2316    H MOL     1     -14.143  10.703 344.210  1.00  0.00           H  \nATOM   2317    H MOL     1     -14.996   9.842 342.900  1.00  0.00           H  \nATOM   2318    H MOL     1     -14.807   8.598 345.129  1.00  0.00           H  \nATOM   2319    H MOL     1     -15.889   9.842 345.826  1.00  0.00           H  \nATOM   2320    H MOL     1     -17.244   7.964 346.301  1.00  0.00           H  \nATOM   2321    H MOL     1     -18.215   7.330 344.948  1.00  0.00           H  \nATOM   2322    H MOL     1     -19.219   9.600 344.594  1.00  0.00           H  \nATOM   2323    H MOL     1     -18.225  10.262 345.910  1.00  0.00           H  \nATOM   2324    H MOL     1     -20.541   7.572 345.273  1.00  0.00           H  \nATOM   2325    H MOL     1     -21.199   7.695 346.924  1.00  0.00           H  \nATOM   2326    H MOL     1     -22.193   9.939 346.352  1.00  0.00           H  \nATOM   2327    H MOL     1     -21.529   9.812 344.700  1.00  0.00           H  \nATOM   2328    H MOL     1     -24.231   9.016 346.707  1.00  0.00           H  \nATOM   2329    H MOL     1     -23.528   7.375 346.757  1.00  0.00           H  \nATOM   2330    H MOL     1     -25.807   7.042 346.214  1.00  0.00           H  \nATOM   2331    H MOL     1     -24.890   6.777 344.707  1.00  0.00           H  \nATOM   2332    H MOL     1     -26.385   9.598 346.424  1.00  0.00           H  \nATOM   2333    H MOL     1     -27.096  10.154 344.896  1.00  0.00           H  \nATOM   2334    H MOL     1     -28.680   8.205 344.901  1.00  0.00           H  \nATOM   2335    H MOL     1     -27.995   7.629 346.441  1.00  0.00           H  \nATOM   2336    H MOL     1     -28.855   9.180 346.384  1.00  0.00           H  \nENDMDL\n",
           "type": "blob"
          }
         ],
         "kwargs": {
          "defaultRepresentation": false,
          "ext": "pdb"
         },
         "methodName": "loadFile",
         "reconstruc_color_scheme": false,
         "target": "Stage",
         "type": "call_method"
        },
        {
         "args": [
          "500px",
          "500px"
         ],
         "kwargs": {},
         "methodName": "setSize",
         "reconstruc_color_scheme": false,
         "target": "Widget",
         "type": "call_method"
        },
        {
         "args": [
          "unitcell"
         ],
         "component_index": 0,
         "kwargs": {
          "sele": "all"
         },
         "methodName": "addRepresentation",
         "reconstruc_color_scheme": false,
         "target": "compList",
         "type": "call_method"
        },
        {
         "args": [
          "spacefill"
         ],
         "component_index": 0,
         "kwargs": {
          "sele": "all"
         },
         "methodName": "addRepresentation",
         "reconstruc_color_scheme": false,
         "target": "compList",
         "type": "call_method"
        },
        {
         "args": [],
         "kwargs": {
          "cameraType": "orthographic"
         },
         "methodName": "setParameters",
         "reconstruc_color_scheme": false,
         "target": "Stage",
         "type": "call_method"
        },
        {
         "args": [
          {
           "clipDist": 0
          }
         ],
         "kwargs": {},
         "methodName": "setParameters",
         "reconstruc_color_scheme": false,
         "target": "Widget",
         "type": "call_method"
        },
        {
         "args": [
          "spacefill",
          0
         ],
         "kwargs": {
          "colorScale": "rainbow",
          "colorScheme": "element",
          "radiusScale": 0.5,
          "radiusType": "covalent"
         },
         "methodName": "updateRepresentationsByName",
         "reconstruc_color_scheme": false,
         "target": "Widget",
         "type": "call_method"
        },
        {
         "args": [
          "this._Q = [[0.9999999695859341, -0.00024634684725826744, -1.1889547533998835e-05], [0.00024634681311631765, 0.9999999696524963, -2.872972753313096e-06], [1.1890254920960786e-05, 2.8700437137899185e-06, 0.9999999999251923]]\n    var tooltip = document.createElement('div');\n    Object.assign(tooltip.style, {\n      display: 'none',\n      position: 'fixed',\n      zIndex: 10,\n      pointerEvents: 'none',\n      backgroundColor: 'rgba( 0, 0, 0, 0.6 )',\n      color: 'lightgrey',\n      padding: '8px',\n      fontFamily: 'sans-serif'\n    });\n    document.body.appendChild(tooltip);\n\n    var that = this;\n    this.stage.mouseControls.remove('hoverPick');\n    this.stage.signals.hovered.add(function (pickingProxy) {\n      if (pickingProxy && (pickingProxy.atom || pickingProxy.bond)) {\n        var atom = pickingProxy.atom || pickingProxy.closestBondAtom\n        var mp = pickingProxy.mouse.position\n        //tooltip.innerText = atom.element + ' i=' + atom.index + ' (' + atom.x.toFixed(2) +  ', ' + atom.y.toFixed(2) +  ', ' + atom.z.toFixed(2) + ')'\n        //var pos = that._atoms_pos[atom.index]\n        var Q = that._Q\n        var pos_x = Q[0][0] * atom.x + Q[0][1] * atom.y + Q[0][2] * atom.z \n        var pos_y = Q[1][0] * atom.x + Q[1][1] * atom.y + Q[1][2] * atom.z\n        var pos_z = Q[2][0] * atom.x + Q[2][1] * atom.y + Q[2][2] * atom.z\n        tooltip.innerText = 'i=' + atom.index + ' ' + atom.element + ' (' + pos_x.toFixed(2) +  ', ' + pos_y.toFixed(2) +  ', ' + pos_z.toFixed(2) + ')'\n        tooltip.style.bottom = window.innerHeight - mp.y + 3 + 'px'\n        tooltip.style.left = mp.x + 3 + 'px'\n        tooltip.style.display = 'block'\n      } else {\n        tooltip.style.display = 'none'\n      }\n    });\n    this.stage.tooltip = tooltip;\n    "
         ],
         "kwargs": {},
         "methodName": "executeCode",
         "reconstruc_color_scheme": false,
         "target": "Widget",
         "type": "call_method"
        },
        {
         "args": [
          "ball+stick"
         ],
         "component_index": 0,
         "kwargs": {
          "sele": "all"
         },
         "methodName": "addRepresentation",
         "reconstruc_color_scheme": false,
         "target": "compList",
         "type": "call_method"
        },
        {
         "args": [
          [
           1,
           0,
           0
          ],
          -1.5707963267948966
         ],
         "kwargs": {},
         "methodName": "spin",
         "reconstruc_color_scheme": false,
         "target": "viewerControls",
         "type": "call_method"
        }
       ],
       "_ngl_original_stage_parameters": {
        "ambientColor": 14540253,
        "ambientIntensity": 0.2,
        "backgroundColor": "white",
        "cameraEyeSep": 0.3,
        "cameraFov": 40,
        "cameraType": "perspective",
        "clipDist": 10,
        "clipFar": 100,
        "clipMode": "scene",
        "clipNear": 0,
        "clipScale": "relative",
        "fogFar": 100,
        "fogNear": 50,
        "hoverTimeout": 0,
        "impostor": true,
        "lightColor": 14540253,
        "lightIntensity": 1,
        "mousePreset": "default",
        "panSpeed": 1,
        "quality": "medium",
        "rotateSpeed": 2,
        "sampleLevel": 0,
        "tooltip": true,
        "workerDefault": true,
        "zoomSpeed": 1.2
       },
       "_ngl_repr_dict": {},
       "_ngl_serialize": false,
       "_ngl_version": "2.0.0-dev.39",
       "_ngl_view_id": [
        "497E4E25-74AC-4CF3-BD02-3607EE7276CD"
       ],
       "_player_dict": {},
       "_scene_position": {},
       "_scene_rotation": {},
       "_synced_model_ids": [],
       "_synced_repr_model_ids": [],
       "_view_height": "",
       "_view_width": "",
       "background": "white",
       "frame": 0,
       "gui_style": null,
       "layout": "IPY_MODEL_4d7568df4d3a4f50a22bae15bcc7432f",
       "max_frame": 0,
       "n_components": 0,
       "picked": {}
      }
     },
     "bfe58dd25bb941208f74c649fa676d75": {
      "model_module": "@jupyter-widgets/controls",
      "model_module_version": "2.0.0",
      "model_name": "CheckboxStyleModel",
      "state": {
       "description_width": ""
      }
     },
     "c0d0ed2275af470dada6a12988e4b8d9": {
      "model_module": "@jupyter-widgets/controls",
      "model_module_version": "2.0.0",
      "model_name": "CheckboxModel",
      "state": {
       "description": "Show force",
       "disabled": false,
       "layout": "IPY_MODEL_5c3a59e690d64c38bb44ddd06771b190",
       "style": "IPY_MODEL_c294f7848a5b4e4ab01abeb654608633",
       "value": false
      }
     },
     "c0e160ca0aff47dda90d8d4c32e8fb74": {
      "model_module": "@jupyter-widgets/base",
      "model_module_version": "2.0.0",
      "model_name": "LayoutModel",
      "state": {}
     },
     "c294f7848a5b4e4ab01abeb654608633": {
      "model_module": "@jupyter-widgets/controls",
      "model_module_version": "2.0.0",
      "model_name": "CheckboxStyleModel",
      "state": {
       "description_width": ""
      }
     },
     "c39186dcfdd44780b21f8fa0ad883c7e": {
      "model_module": "@jupyter-widgets/base",
      "model_module_version": "2.0.0",
      "model_name": "LayoutModel",
      "state": {}
     },
     "c48ceaae7b764d4082b4d268e7664297": {
      "model_module": "@jupyter-widgets/base",
      "model_module_version": "2.0.0",
      "model_name": "LayoutModel",
      "state": {}
     },
     "c5291035b6df402aaf35f87d1691778b": {
      "model_module": "@jupyter-widgets/controls",
      "model_module_version": "2.0.0",
      "model_name": "HTMLModel",
      "state": {
       "layout": "IPY_MODEL_182dcc425abd494d94eb6bf7abc33aaf",
       "style": "IPY_MODEL_702eaea22cf646aa858e1c2daaf043fc",
       "value": "100%"
      }
     },
     "c63c17b7266a40dc98313fddb0c9dce7": {
      "model_module": "@jupyter-widgets/controls",
      "model_module_version": "2.0.0",
      "model_name": "LinkModel",
      "state": {
       "source": [
        "IPY_MODEL_16ed1676f19c45b0a258498d8684f5af",
        "value"
       ],
       "target": [
        "IPY_MODEL_7bdeb6a026814e9bbe50dc7ee1fe1269",
        "value"
       ]
      }
     },
     "c65d8efc78c74ddf96d77c1505b4ea57": {
      "model_module": "@jupyter-widgets/base",
      "model_module_version": "2.0.0",
      "model_name": "LayoutModel",
      "state": {}
     },
     "c766f1db73134eef982e217e364f8f0a": {
      "model_module": "@jupyter-widgets/controls",
      "model_module_version": "2.0.0",
      "model_name": "HBoxModel",
      "state": {
       "children": [
        "IPY_MODEL_16ed1676f19c45b0a258498d8684f5af",
        "IPY_MODEL_7bdeb6a026814e9bbe50dc7ee1fe1269"
       ],
       "layout": "IPY_MODEL_861bda10776041c888ed23ba1e123618"
      }
     },
     "c83ed61c2b8d495c8e0caf298fecb4dd": {
      "model_module": "@jupyter-widgets/controls",
      "model_module_version": "2.0.0",
      "model_name": "DropdownModel",
      "state": {
       "_options_labels": [
        " ",
        "picking",
        "random",
        "uniform",
        "atomindex",
        "residueindex",
        "chainindex",
        "modelindex",
        "sstruc",
        "element",
        "resname",
        "bfactor",
        "hydrophobicity",
        "value",
        "volume",
        "occupancy"
       ],
       "description": "Color scheme",
       "index": 9,
       "layout": "IPY_MODEL_93011d25cff84568ba616ce2ccbbeb3c",
       "style": "IPY_MODEL_a5f09b8163aa488c98c0468d85b84acf"
      }
     },
     "c8f9d0808b834e7d883b70236b473ac9": {
      "model_module": "@jupyter-widgets/base",
      "model_module_version": "2.0.0",
      "model_name": "LayoutModel",
      "state": {}
     },
     "c9009c942cda42289b963f6098be2775": {
      "model_module": "@jupyter-widgets/controls",
      "model_module_version": "2.0.0",
      "model_name": "FloatSliderModel",
      "state": {
       "behavior": "drag-tap",
       "description": "Force scale",
       "layout": "IPY_MODEL_febaff8f0a7b41e88b38acea52097241",
       "step": 0.1,
       "style": "IPY_MODEL_d53cb7c02f1d4cda908973418a7317ce",
       "value": 0.5
      }
     },
     "c9fa39c0608945d3b80e9b69d0cafd6a": {
      "model_module": "@jupyter-widgets/controls",
      "model_module_version": "2.0.0",
      "model_name": "TextModel",
      "state": {
       "description": "Filename: ",
       "layout": "IPY_MODEL_ab857f97491540cf8544c4b791fd4e71",
       "style": "IPY_MODEL_6b592587b8b34a95a0bc959fa59e31a7",
       "value": "screenshot.png"
      }
     },
     "ca61b2de66484d4397357bf0d74c3c21": {
      "model_module": "@jupyter-widgets/controls",
      "model_module_version": "2.0.0",
      "model_name": "SliderStyleModel",
      "state": {
       "description_width": ""
      }
     },
     "cc01bf3f3510431dbe6abfd8c0eaf34a": {
      "model_module": "@jupyter-widgets/controls",
      "model_module_version": "2.0.0",
      "model_name": "DropdownModel",
      "state": {
       "_options_labels": [
        " ",
        "picking",
        "random",
        "uniform",
        "atomindex",
        "residueindex",
        "chainindex",
        "modelindex",
        "sstruc",
        "element",
        "resname",
        "bfactor",
        "hydrophobicity",
        "value",
        "volume",
        "occupancy"
       ],
       "description": "Color scheme",
       "index": 9,
       "layout": "IPY_MODEL_46a4b05409e349e8b235fa5cc82a4a99",
       "style": "IPY_MODEL_e199f9f80d974d26a7fda401ceaf2930"
      }
     },
     "d0d8a28529bf491794866940054db883": {
      "model_module": "@jupyter-widgets/controls",
      "model_module_version": "2.0.0",
      "model_name": "HBoxModel",
      "state": {
       "children": [
        "IPY_MODEL_b39d8b98c6414066a836dea5658d7052",
        "IPY_MODEL_394ba9273fa14062b7e67b3ee07f747d",
        "IPY_MODEL_05a8961bb04d41d7b391a04529b6d2bb"
       ],
       "layout": "IPY_MODEL_3b724030b04c46c38e7890d41e6ac341"
      }
     },
     "d1de476eea5c4161945cfab8d09b5f1c": {
      "model_module": "@jupyter-widgets/controls",
      "model_module_version": "2.0.0",
      "model_name": "CheckboxStyleModel",
      "state": {
       "description_width": ""
      }
     },
     "d26eaa8663e6401bb2d8952a7d3b5c92": {
      "model_module": "@jupyter-widgets/base",
      "model_module_version": "2.0.0",
      "model_name": "LayoutModel",
      "state": {}
     },
     "d4ed26b80511470982510e978423d179": {
      "model_module": "@jupyter-widgets/base",
      "model_module_version": "2.0.0",
      "model_name": "LayoutModel",
      "state": {
       "border_bottom": "0px solid black",
       "border_left": "0px solid black",
       "border_right": "0px solid black",
       "border_top": "0px solid black"
      }
     },
     "d53cb7c02f1d4cda908973418a7317ce": {
      "model_module": "@jupyter-widgets/controls",
      "model_module_version": "2.0.0",
      "model_name": "SliderStyleModel",
      "state": {
       "description_width": ""
      }
     },
     "db1856457e63438f8ca6f15d62ecaced": {
      "model_module": "@jupyter-widgets/controls",
      "model_module_version": "2.0.0",
      "model_name": "TextModel",
      "state": {
       "description": "Filename: ",
       "layout": "IPY_MODEL_c48ceaae7b764d4082b4d268e7664297",
       "style": "IPY_MODEL_842d22c316e44aaf905bb32606294efe",
       "value": "screenshot.png"
      }
     },
     "db22155907b44f70a9986d17f7f504d1": {
      "model_module": "@jupyter-widgets/controls",
      "model_module_version": "2.0.0",
      "model_name": "ButtonStyleModel",
      "state": {
       "font_family": null,
       "font_size": null,
       "font_style": null,
       "font_variant": null,
       "font_weight": null,
       "text_color": null,
       "text_decoration": null
      }
     },
     "dd1a16a5b44e4860ab9f5d8dc89eed13": {
      "model_module": "@jupyter-widgets/base",
      "model_module_version": "2.0.0",
      "model_name": "LayoutModel",
      "state": {}
     },
     "dd2e444fef4140649d63dff2e79b4a5b": {
      "model_module": "@jupyter-widgets/controls",
      "model_module_version": "2.0.0",
      "model_name": "HTMLModel",
      "state": {
       "layout": "IPY_MODEL_24d1bf6ffda24e44ab40f59e42b42eaf",
       "style": "IPY_MODEL_b9b54bff26f1457cb437143cd93df462",
       "value": "100%"
      }
     },
     "dd344d09017c41d8b9ceb2553dc3426c": {
      "model_module": "@jupyter-widgets/base",
      "model_module_version": "2.0.0",
      "model_name": "LayoutModel",
      "state": {}
     },
     "dd63380308cc4d35aaaa4848c6551819": {
      "model_module": "@jupyter-widgets/controls",
      "model_module_version": "2.0.0",
      "model_name": "SliderStyleModel",
      "state": {
       "description_width": ""
      }
     },
     "de81beb9ab604341ac4b48bcb0bfcd56": {
      "model_module": "@jupyter-widgets/base",
      "model_module_version": "2.0.0",
      "model_name": "LayoutModel",
      "state": {}
     },
     "dff8829b369940c48086bb94fdafd54d": {
      "model_module": "@jupyter-widgets/output",
      "model_module_version": "1.0.0",
      "model_name": "OutputModel",
      "state": {
       "layout": "IPY_MODEL_fd712b9f133e46ba8a7077c72e00dc7f"
      }
     },
     "e03a310454b448feb2b40972461665b0": {
      "model_module": "@jupyter-widgets/controls",
      "model_module_version": "2.0.0",
      "model_name": "IntSliderModel",
      "state": {
       "behavior": "drag-tap",
       "layout": "IPY_MODEL_829eab86abde46f3bfc99f4d16cdd1f7",
       "max": 0,
       "style": "IPY_MODEL_71e49072b73f4c51aee20faf0739eca4"
      }
     },
     "e199f9f80d974d26a7fda401ceaf2930": {
      "model_module": "@jupyter-widgets/controls",
      "model_module_version": "2.0.0",
      "model_name": "DescriptionStyleModel",
      "state": {
       "description_width": ""
      }
     },
     "e1bad6ab83274399aef2191e09536fa1": {
      "model_module": "@jupyter-widgets/controls",
      "model_module_version": "2.0.0",
      "model_name": "DescriptionStyleModel",
      "state": {
       "description_width": ""
      }
     },
     "e239e4be9c634429b3168ce7a585d8ce": {
      "model_module": "@jupyter-widgets/controls",
      "model_module_version": "2.0.0",
      "model_name": "HTMLStyleModel",
      "state": {
       "description_width": "",
       "font_size": null,
       "text_color": null
      }
     },
     "e3b1ea1f58124319973ee5bd053d1cd0": {
      "model_module": "@jupyter-widgets/controls",
      "model_module_version": "2.0.0",
      "model_name": "CheckboxModel",
      "state": {
       "description": "Show force",
       "disabled": false,
       "layout": "IPY_MODEL_19566b0703ab40a59d9916eb233ae2fc",
       "style": "IPY_MODEL_7952ac50f9c54e40ba07106aa0454c3e",
       "value": false
      }
     },
     "e4397cfeb0544eddba04f3f122fb936a": {
      "model_module": "@jupyter-widgets/controls",
      "model_module_version": "2.0.0",
      "model_name": "HBoxModel",
      "state": {
       "children": [
        "IPY_MODEL_1ffbd680eef94e3c8081ee3dabe8262e",
        "IPY_MODEL_61b0dc4570814f1fae45728e55474bd5"
       ],
       "layout": "IPY_MODEL_9aed04a5f01346c7aa3aa4136d3b9268"
      }
     },
     "e60af00a8772483cb0670125143d8afa": {
      "model_module": "@jupyter-widgets/base",
      "model_module_version": "2.0.0",
      "model_name": "LayoutModel",
      "state": {}
     },
     "e750a41754e7489ba8926fd84a58b312": {
      "model_module": "@jupyter-widgets/base",
      "model_module_version": "2.0.0",
      "model_name": "LayoutModel",
      "state": {}
     },
     "ed6228899192494eb52419c5a25704fd": {
      "model_module": "@jupyter-widgets/controls",
      "model_module_version": "2.0.0",
      "model_name": "FloatProgressModel",
      "state": {
       "bar_style": "success",
       "layout": "IPY_MODEL_251318ef90e245ba9556c7fdfe6c9973",
       "max": 10001,
       "style": "IPY_MODEL_90c4c1c9b73b45fc8f349ec7a550fe92",
       "value": 10001
      }
     },
     "edacad0228f44c2a80567a2b73b2493c": {
      "model_module": "@jupyter-widgets/controls",
      "model_module_version": "2.0.0",
      "model_name": "HBoxModel",
      "state": {
       "children": [
        "IPY_MODEL_17bb9af81c1744838ada62625b439a94",
        "IPY_MODEL_b1ad4f956bc243a38098734b9b6676d3"
       ],
       "layout": "IPY_MODEL_129c4eee17fd45228d46d48f7071a7ea"
      }
     },
     "ee9cee78f6744cc8b3e74e56a012732a": {
      "model_module": "@jupyter-widgets/controls",
      "model_module_version": "2.0.0",
      "model_name": "ImageModel",
      "state": {
       "layout": "IPY_MODEL_5ca1226beda44f6da3ce82ec50a29117",
       "width": "900.0"
      }
     },
     "ef1a920a88d84907a4abe1474df1dd56": {
      "model_module": "@jupyter-widgets/base",
      "model_module_version": "2.0.0",
      "model_name": "LayoutModel",
      "state": {}
     },
     "efc32d4384ef439f8da856d9cd5a14a5": {
      "model_module": "@jupyter-widgets/controls",
      "model_module_version": "2.0.0",
      "model_name": "ButtonStyleModel",
      "state": {
       "font_family": null,
       "font_size": null,
       "font_style": null,
       "font_variant": null,
       "font_weight": null,
       "text_color": null,
       "text_decoration": null
      }
     },
     "f1ab600008e1430591b6b7d3fa100e62": {
      "model_module": "@jupyter-widgets/base",
      "model_module_version": "2.0.0",
      "model_name": "LayoutModel",
      "state": {
       "width": "34px"
      }
     },
     "f2249d5f48d94d03b30f3c703ae4056a": {
      "model_module": "@jupyter-widgets/controls",
      "model_module_version": "2.0.0",
      "model_name": "DescriptionStyleModel",
      "state": {
       "description_width": ""
      }
     },
     "f24b7333ac4d45e295b07dc0252ae331": {
      "model_module": "@jupyter-widgets/base",
      "model_module_version": "2.0.0",
      "model_name": "LayoutModel",
      "state": {}
     },
     "f29c66e250d44f24b7d30c39872daaba": {
      "model_module": "@jupyter-widgets/controls",
      "model_module_version": "2.0.0",
      "model_name": "SliderStyleModel",
      "state": {
       "description_width": ""
      }
     },
     "f2a87a2aa6e34185a57f631a35268123": {
      "model_module": "@jupyter-widgets/controls",
      "model_module_version": "2.0.0",
      "model_name": "ButtonStyleModel",
      "state": {
       "font_family": null,
       "font_size": null,
       "font_style": null,
       "font_variant": null,
       "font_weight": null,
       "text_color": null,
       "text_decoration": null
      }
     },
     "f350fadeed1043cc8085411761d5d636": {
      "model_module": "@jupyter-widgets/base",
      "model_module_version": "2.0.0",
      "model_name": "LayoutModel",
      "state": {}
     },
     "f396edd73064483ebb7b29a65f7026f1": {
      "model_module": "@jupyter-widgets/base",
      "model_module_version": "2.0.0",
      "model_name": "LayoutModel",
      "state": {}
     },
     "f39785ac4b4a48f8855cb397b6ce3653": {
      "model_module": "@jupyter-widgets/controls",
      "model_module_version": "2.0.0",
      "model_name": "FloatProgressModel",
      "state": {
       "bar_style": "success",
       "layout": "IPY_MODEL_48a5076aae3343c8ad54743ec20f056c",
       "max": 10001,
       "style": "IPY_MODEL_29267e3599a34b8baab7884f7af1629d",
       "value": 10001
      }
     },
     "f3c73d5aa8c14acea23414fd0ce7ed98": {
      "model_module": "@jupyter-widgets/controls",
      "model_module_version": "2.0.0",
      "model_name": "DropdownModel",
      "state": {
       "_options_labels": [
        "All",
        "Fe"
       ],
       "description": "Show",
       "index": 0,
       "layout": "IPY_MODEL_fc991b4b34b24ec7adf92391197cff2f",
       "style": "IPY_MODEL_3e00fb27c1c147148a3930eda240de57"
      }
     },
     "f3f20db88f2a43309daae21f603840bc": {
      "model_module": "@jupyter-widgets/controls",
      "model_module_version": "2.0.0",
      "model_name": "DescriptionStyleModel",
      "state": {
       "description_width": ""
      }
     },
     "f53951c6d87143ecb7b74d1b4f97fc0f": {
      "model_module": "@jupyter-widgets/output",
      "model_module_version": "1.0.0",
      "model_name": "OutputModel",
      "state": {
       "layout": "IPY_MODEL_d4ed26b80511470982510e978423d179"
      }
     },
     "f6687b75125a4598b2705daa16c19963": {
      "model_module": "@jupyter-widgets/base",
      "model_module_version": "2.0.0",
      "model_name": "LayoutModel",
      "state": {}
     },
     "f670452e60f6411bbe397144adcb1463": {
      "model_module": "@jupyter-widgets/base",
      "model_module_version": "2.0.0",
      "model_name": "LayoutModel",
      "state": {}
     },
     "f7717f1f170a47ab8fee97fe01dc2862": {
      "model_module": "@jupyter-widgets/base",
      "model_module_version": "2.0.0",
      "model_name": "LayoutModel",
      "state": {
       "width": "34px"
      }
     },
     "f992807d8ff5485ea0e44e2606bde6ca": {
      "model_module": "@jupyter-widgets/controls",
      "model_module_version": "2.0.0",
      "model_name": "ButtonModel",
      "state": {
       "description": "Download image",
       "layout": "IPY_MODEL_a993ea9b3b8c4d149761d696e1c813a8",
       "style": "IPY_MODEL_94df06a43b2047d192e78b740759f461",
       "tooltip": "Download current frame to your local PC"
      }
     },
     "fc991b4b34b24ec7adf92391197cff2f": {
      "model_module": "@jupyter-widgets/base",
      "model_module_version": "2.0.0",
      "model_name": "LayoutModel",
      "state": {}
     },
     "fd712b9f133e46ba8a7077c72e00dc7f": {
      "model_module": "@jupyter-widgets/base",
      "model_module_version": "2.0.0",
      "model_name": "LayoutModel",
      "state": {
       "border_bottom": "0px solid black",
       "border_left": "0px solid black",
       "border_right": "0px solid black",
       "border_top": "0px solid black"
      }
     },
     "fe68a5912a6a4d709d400f5b73615213": {
      "model_module": "@jupyter-widgets/base",
      "model_module_version": "2.0.0",
      "model_name": "LayoutModel",
      "state": {}
     },
     "febaff8f0a7b41e88b38acea52097241": {
      "model_module": "@jupyter-widgets/base",
      "model_module_version": "2.0.0",
      "model_name": "LayoutModel",
      "state": {}
     },
     "fec4f83a1d01449888c5f150afc59455": {
      "model_module": "@jupyter-widgets/controls",
      "model_module_version": "2.0.0",
      "model_name": "ImageModel",
      "state": {
       "layout": "IPY_MODEL_f24b7333ac4d45e295b07dc0252ae331",
       "width": "900.0"
      }
     }
    },
    "version_major": 2,
    "version_minor": 0
   }
  }
 },
 "nbformat": 4,
 "nbformat_minor": 5
}
