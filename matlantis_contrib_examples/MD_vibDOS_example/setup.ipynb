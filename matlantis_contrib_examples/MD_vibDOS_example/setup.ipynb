{
 "cells": [
  {
   "cell_type": "markdown",
   "id": "6f14f193-7f46-4bbc-9ac1-58f9df76251f",
   "metadata": {},
   "source": [
    "Copyright ENEOS Corporation as contributors to Matlantis contrib project."
   ]
  },
  {
   "cell_type": "code",
   "execution_count": 1,
   "id": "6ca86300-b6ba-430b-9c64-1179307f672d",
   "metadata": {},
   "outputs": [],
   "source": [
    "import os\n",
    "from pathlib import Path\n",
    "import numpy as np\n",
    "import pandas as pd\n",
    "import yaml\n",
    "\n",
    "from ase import Atoms, units\n",
    "from ase.build import bulk\n",
    "from ase.optimize import BFGS\n",
    "from ase.constraints import ExpCellFilter"
   ]
  },
  {
   "cell_type": "code",
   "execution_count": 2,
   "id": "6442aeef-c0c9-4e65-8886-6632ffbc2a2f",
   "metadata": {},
   "outputs": [
    {
     "data": {
      "application/vnd.jupyter.widget-view+json": {
       "model_id": "b4f79318b0c14185a25ab59cd84bb7bc",
       "version_major": 2,
       "version_minor": 0
      },
      "text/plain": []
     },
     "metadata": {},
     "output_type": "display_data"
    },
    {
     "name": "stderr",
     "output_type": "stream",
     "text": [
      "/home/jovyan/.local/lib/python3.7/site-packages/pfp_api_client/__init__.py:36: UserWarning: New version of pfp-api-client is available. Please consider upgrading by `pip install -U pfp-api-client`.\n",
      "  f\"New version of {package_name} is available. Please consider\"\n"
     ]
    }
   ],
   "source": [
    "from pfcc_extras.visualize.view import view_ngl\n",
    "from pfcc_extras.structure.ase_rdkit_converter import smiles_to_atoms\n",
    "from pfp_api_client.pfp.calculators.ase_calculator import ASECalculator\n",
    "from pfp_api_client.pfp.estimator import Estimator, EstimatorCalcMode"
   ]
  },
  {
   "cell_type": "code",
   "execution_count": 5,
   "id": "7f6b751a-66a1-47c4-9118-940699016524",
   "metadata": {},
   "outputs": [],
   "source": [
    "MODEL_VERSION='v3.0.0'\n",
    "CALC_MODE=EstimatorCalcMode.CRYSTAL_PLUS_D3\n",
    "\n",
    "def get_calculator(model_version=MODEL_VERSION, calc_mode=CALC_MODE):\n",
    "    estimator = Estimator(model_version=model_version, calc_mode=calc_mode)\n",
    "    calculator = ASECalculator(estimator)\n",
    "    return calculator"
   ]
  },
  {
   "cell_type": "code",
   "execution_count": 3,
   "id": "256cdd96-b604-4cef-96eb-1b9dcadcb53d",
   "metadata": {},
   "outputs": [],
   "source": [
    "# --- System settings\n",
    "molecule_name = 'DMSO'\n",
    "nmols = 50\n",
    "name_smiles = {'DMSO':'CS(=O)C'}\n",
    "bulk_name = 'Si'\n",
    "\n",
    "repeat_mol = [3,3,3]\n",
    "repeat_solid = [3,3,3]\n",
    "\n",
    "# --- Initial geometry settings\n",
    "fmax_opt = 0.03\n",
    "steps_opt = 200\n",
    "fmax_isolated = 0.01\n",
    "fmax_liquid = 0.1\n",
    "mol_cell = [5.0, 5.0, 5.0]\n",
    "\n",
    "# --- MD settings ----\n",
    "# Please change based on configuration\n",
    "target_temp = 300\n",
    "target_pressure = 101325 * units.Pascal\n",
    "#steps_equilib = 1000000\n",
    "#steps_product = 1000000\n",
    "steps_equilib = 10000\n",
    "steps_product = 10000\n",
    "timestep_solid = 2.0\n",
    "timestep_mol = 1.0\n",
    "temperature = 300\n",
    "log_interval = 10\n",
    "traj_interval = 1\n",
    "# --- Parameters\n",
    "mass_density_factor = units._amu * 1e30 \n",
    "huge = 999.0\n",
    "# ------------------"
   ]
  },
  {
   "cell_type": "code",
   "execution_count": 4,
   "id": "17e944f8-0dcf-4b14-b2ca-0ec74976a8eb",
   "metadata": {},
   "outputs": [],
   "source": [
    "inputdir = Path('./input')\n",
    "os.makedirs(str(inputdir), exist_ok=True)"
   ]
  },
  {
   "cell_type": "code",
   "execution_count": 6,
   "id": "0e3233ca-1f2c-4762-94c9-3afd832e2860",
   "metadata": {},
   "outputs": [
    {
     "name": "stdout",
     "output_type": "stream",
     "text": [
      "Number of atoms in the solid unit cell (Atoms(symbols='Si8', pbc=True, cell=[5.43, 5.43, 5.43])): 8\n",
      "Number of atoms per molecule (Atoms(symbols='CSOCH6', pbc=True, cell=[5.0, 5.0, 5.0])): 10\n"
     ]
    }
   ],
   "source": [
    "solid = bulk(bulk_name, cubic=True)\n",
    "\n",
    "mol = smiles_to_atoms(name_smiles[molecule_name])\n",
    "mol.cell = mol_cell\n",
    "mol.pbc = True\n",
    "mol.center()\n",
    "\n",
    "mass_molecule = mol.get_masses().sum()\n",
    "print(f'Number of atoms in the solid unit cell ({solid}): {len(solid)}')\n",
    "print(f'Number of atoms per molecule ({mol}): {len(mol)}')"
   ]
  },
  {
   "cell_type": "code",
   "execution_count": 7,
   "id": "744fa8d8-7782-4b99-923f-46640e5a2d48",
   "metadata": {},
   "outputs": [
    {
     "name": "stdout",
     "output_type": "stream",
     "text": [
      "      Step     Time          Energy         fmax\n",
      "BFGS:    0 04:07:54      -38.938724        0.4838\n",
      "BFGS:    1 04:07:54      -38.928702        1.4746\n",
      "BFGS:    2 04:07:54      -38.940001        0.0132\n",
      "      Step     Time          Energy         fmax\n",
      "BFGS:    0 04:07:54      -33.408620        4.3725\n",
      "BFGS:    1 04:07:54      -34.298702        5.0293\n",
      "BFGS:    2 04:07:54      -35.776867        5.2553\n",
      "BFGS:    3 04:07:55      -36.432342        3.7929\n",
      "BFGS:    4 04:07:55      -36.840864        2.0869\n",
      "BFGS:    5 04:07:55      -37.023653        2.4049\n",
      "BFGS:    6 04:07:55      -37.141657        1.4355\n",
      "BFGS:    7 04:07:55      -37.506547        1.4637\n",
      "BFGS:    8 04:07:55      -37.636930        1.6686\n",
      "BFGS:    9 04:07:55      -37.737400        1.1619\n",
      "BFGS:   10 04:07:55      -37.839687        0.8001\n",
      "BFGS:   11 04:07:55      -37.936608        0.9405\n",
      "BFGS:   12 04:07:56      -38.016223        0.8348\n",
      "BFGS:   13 04:07:56      -38.057030        0.5160\n",
      "BFGS:   14 04:07:56      -38.082287        0.4186\n",
      "BFGS:   15 04:07:56      -38.100063        0.4422\n",
      "BFGS:   16 04:07:56      -38.120375        0.7647\n",
      "BFGS:   17 04:07:56      -38.145242        0.7620\n",
      "BFGS:   18 04:07:56      -38.170256        0.6364\n",
      "BFGS:   19 04:07:57      -38.194301        0.5034\n",
      "BFGS:   20 04:07:57      -38.221518        0.4773\n",
      "BFGS:   21 04:07:57      -38.253348        0.7132\n",
      "BFGS:   22 04:07:57      -38.283411        0.7605\n",
      "BFGS:   23 04:07:57      -38.315774        0.6882\n",
      "BFGS:   24 04:07:57      -38.337540        0.3512\n",
      "BFGS:   25 04:07:57      -38.349865        0.2535\n",
      "BFGS:   26 04:07:58      -38.358638        0.3694\n",
      "BFGS:   27 04:07:58      -38.370882        0.3330\n",
      "BFGS:   28 04:07:58      -38.381901        0.2831\n",
      "BFGS:   29 04:07:58      -38.389700        0.3095\n",
      "BFGS:   30 04:07:58      -38.399951        0.2576\n",
      "BFGS:   31 04:07:58      -38.412806        0.3183\n",
      "BFGS:   32 04:07:58      -38.422222        0.2816\n",
      "BFGS:   33 04:07:58      -38.429248        0.2132\n",
      "BFGS:   34 04:07:58      -38.434364        0.1953\n",
      "BFGS:   35 04:07:59      -38.437887        0.1659\n",
      "BFGS:   36 04:07:59      -38.440596        0.1565\n",
      "BFGS:   37 04:07:59      -38.442471        0.1384\n",
      "BFGS:   38 04:07:59      -38.443960        0.1433\n",
      "BFGS:   39 04:07:59      -38.446024        0.1530\n",
      "BFGS:   40 04:07:59      -38.448433        0.1260\n",
      "BFGS:   41 04:07:59      -38.450434        0.1257\n",
      "BFGS:   42 04:07:59      -38.451813        0.1237\n",
      "BFGS:   43 04:07:59      -38.453163        0.1369\n",
      "BFGS:   44 04:07:59      -38.454980        0.1731\n",
      "BFGS:   45 04:07:59      -38.457545        0.1536\n",
      "BFGS:   46 04:07:59      -38.460220        0.1398\n",
      "BFGS:   47 04:07:59      -38.462400        0.1160\n",
      "BFGS:   48 04:08:00      -38.464238        0.1225\n",
      "BFGS:   49 04:08:00      -38.466194        0.1341\n",
      "BFGS:   50 04:08:00      -38.469199        0.1398\n",
      "BFGS:   51 04:08:00      -38.472863        0.1431\n",
      "BFGS:   52 04:08:00      -38.475411        0.1260\n",
      "BFGS:   53 04:08:00      -38.477369        0.1309\n",
      "BFGS:   54 04:08:01      -38.478164        0.0899\n",
      "BFGS:   55 04:08:01      -38.478765        0.0549\n",
      "BFGS:   56 04:08:01      -38.479544        0.0484\n",
      "BFGS:   57 04:08:01      -38.479852        0.0477\n",
      "BFGS:   58 04:08:01      -38.480050        0.0384\n",
      "BFGS:   59 04:08:01      -38.480149        0.0370\n",
      "BFGS:   60 04:08:01      -38.480265        0.0328\n",
      "BFGS:   61 04:08:01      -38.480426        0.0423\n",
      "BFGS:   62 04:08:01      -38.480655        0.0436\n",
      "BFGS:   63 04:08:02      -38.480903        0.0375\n",
      "BFGS:   64 04:08:02      -38.481107        0.0405\n",
      "BFGS:   65 04:08:02      -38.481270        0.0380\n",
      "BFGS:   66 04:08:02      -38.481412        0.0355\n",
      "BFGS:   67 04:08:02      -38.481527        0.0253\n"
     ]
    },
    {
     "data": {
      "text/plain": [
       "True"
      ]
     },
     "execution_count": 7,
     "metadata": {},
     "output_type": "execute_result"
    }
   ],
   "source": [
    "solid.calc = get_calculator()\n",
    "ecf = ExpCellFilter(solid)\n",
    "opt = BFGS(ecf)\n",
    "opt.run(fmax=fmax_opt, steps=steps_opt)\n",
    "solid.cell = np.diag(solid.cell)\n",
    "\n",
    "mol.calc = get_calculator()\n",
    "opt = BFGS(mol)\n",
    "opt.run(fmax=fmax_opt, steps=steps_opt)"
   ]
  },
  {
   "cell_type": "code",
   "execution_count": 8,
   "id": "be4d3783-560a-4697-8dc6-01d93058fe9a",
   "metadata": {},
   "outputs": [
    {
     "data": {
      "application/vnd.jupyter.widget-view+json": {
       "model_id": "7122f42258c74ce88b7da6a32d13000e",
       "version_major": 2,
       "version_minor": 0
      },
      "text/plain": [
       "HBox(children=(NGLWidget(max_frame=1), VBox(children=(Dropdown(description='Show', options=('All', 'O', 'H', '…"
      ]
     },
     "metadata": {},
     "output_type": "display_data"
    }
   ],
   "source": [
    "v = view_ngl([mol, solid], ['ball+stick'], h=300,replace_structure=True)\n",
    "display(v)"
   ]
  },
  {
   "cell_type": "code",
   "execution_count": 9,
   "id": "417d7434-78e9-439b-8959-db27e29fc6a1",
   "metadata": {},
   "outputs": [],
   "source": [
    "solid.write(str(inputdir/\"solid_initial.traj\"))\n",
    "mol.write(str(inputdir/\"mol_initial.traj\"))"
   ]
  }
 ],
 "metadata": {
  "kernelspec": {
   "display_name": "Python 3.7",
   "language": "python",
   "name": "python37"
  },
  "language_info": {
   "codemirror_mode": {
    "name": "ipython",
    "version": 3
   },
   "file_extension": ".py",
   "mimetype": "text/x-python",
   "name": "python",
   "nbconvert_exporter": "python",
   "pygments_lexer": "ipython3",
   "version": "3.7.13"
  }
 },
 "nbformat": 4,
 "nbformat_minor": 5
}
