{
 "cells": [
  {
   "cell_type": "markdown",
   "id": "4de820f9-1d45-4a3e-8251-3f404c513c06",
   "metadata": {},
   "source": [
    "Copyright ENEOS Corporation as contributors to Matlantis contrib project."
   ]
  },
  {
   "cell_type": "code",
   "execution_count": 1,
   "id": "dbdc79d3-ab77-4021-840a-c252b89cb743",
   "metadata": {},
   "outputs": [
    {
     "data": {
      "application/vnd.jupyter.widget-view+json": {
       "model_id": "fd60d26c10894156b6abc2d0f6fd4b13",
       "version_major": 2,
       "version_minor": 0
      },
      "text/plain": []
     },
     "metadata": {},
     "output_type": "display_data"
    }
   ],
   "source": [
    "import os\n",
    "import sys\n",
    "import glob\n",
    "import shutil\n",
    "\n",
    "from pathlib import Path\n",
    "from io import StringIO\n",
    "from time import perf_counter\n",
    "\n",
    "import joblib\n",
    "import numpy as np\n",
    "import pandas as pd\n",
    "import matplotlib.pyplot as plt\n",
    "\n",
    "from ase import Atoms, units\n",
    "from ase.io import read, write, Trajectory\n",
    "from ase.md.velocitydistribution import MaxwellBoltzmannDistribution, Stationary\n",
    "from ase.md.verlet import VelocityVerlet\n",
    "from ase.md.npt import NPT\n",
    "from ase.md.nptberendsen import NPTBerendsen\n",
    "from ase.md.nvtberendsen import NVTBerendsen\n",
    "from ase.md.logger import MDLogger\n",
    "\n",
    "from IPython.display import display"
   ]
  },
  {
   "cell_type": "code",
   "execution_count": 2,
   "id": "d7c18db8-b6b7-42d5-bc53-8d8cbeae3fbf",
   "metadata": {},
   "outputs": [
    {
     "name": "stderr",
     "output_type": "stream",
     "text": [
      "/home/jovyan/.local/lib/python3.7/site-packages/pfp_api_client/__init__.py:36: UserWarning: New version of pfp-api-client is available. Please consider upgrading by `pip install -U pfp-api-client`.\n",
      "  f\"New version of {package_name} is available. Please consider\"\n"
     ]
    }
   ],
   "source": [
    "from pfcc_extras.visualize.view import view_ngl\n",
    "from pfcc_extras.structure.ase_rdkit_converter import smiles_to_atoms\n",
    "from pfp_api_client.pfp.calculators.ase_calculator import ASECalculator\n",
    "from pfp_api_client.pfp.estimator import Estimator, EstimatorCalcMode"
   ]
  },
  {
   "cell_type": "code",
   "execution_count": 3,
   "id": "ca1cdcc2",
   "metadata": {},
   "outputs": [],
   "source": [
    "MODEL_VERSION='v3.0.0'\n",
    "CALC_MODE=EstimatorCalcMode.CRYSTAL_PLUS_D3\n",
    "\n",
    "def get_calculator(model_version=MODEL_VERSION, calc_mode=CALC_MODE):\n",
    "    estimator = Estimator(model_version=model_version, calc_mode=calc_mode)\n",
    "    calculator = ASECalculator(estimator)\n",
    "    return calculator\n",
    "    "
   ]
  },
  {
   "cell_type": "code",
   "execution_count": 4,
   "id": "08accd6a-c35e-4e95-a204-d9343bf0a5b2",
   "metadata": {},
   "outputs": [],
   "source": [
    "# --- System settings\n",
    "molecule_name = 'DMSO'\n",
    "nmols = 50\n",
    "name_smiles = {'DMSO':'CS(=O)C'}\n",
    "bulk_name = 'Si'\n",
    "\n",
    "repeat_mol = [3,3,3]\n",
    "repeat_solid = [3,3,3]\n",
    "\n",
    "# --- Initial geometry settings\n",
    "fmax_opt = 0.03\n",
    "steps_opt = 200\n",
    "fmax_isolated = 0.01\n",
    "fmax_liquid = 0.1\n",
    "mol_cell = [5.0, 5.0, 5.0]\n",
    "\n",
    "# --- MD settings ----\n",
    "# Please change based on configuration\n",
    "target_temp = 300\n",
    "target_pressure = 101325 * units.Pascal\n",
    "#steps_equilib = 1000000\n",
    "#steps_product = 1000000\n",
    "steps_equilib = 10000\n",
    "steps_product = 10000\n",
    "timestep_solid = 2.0\n",
    "timestep_mol = 1.0\n",
    "temperature = 300\n",
    "log_interval = 10\n",
    "traj_interval = 1\n",
    "# --- Parameters\n",
    "mass_density_factor = units._amu * 1e30 \n",
    "huge = 999.0\n",
    "# ------------------"
   ]
  },
  {
   "cell_type": "code",
   "execution_count": 5,
   "id": "79ff5869-41b8-42d1-b003-b574674f3990",
   "metadata": {},
   "outputs": [],
   "source": [
    "inputdir = './input'\n",
    "outputdir = './output'\n",
    "os.makedirs(outputdir, exist_ok=True)"
   ]
  },
  {
   "cell_type": "code",
   "execution_count": 6,
   "id": "82bcc12f-e86c-40bc-8b03-a1d39f511335",
   "metadata": {},
   "outputs": [
    {
     "name": "stdout",
     "output_type": "stream",
     "text": [
      "Number of atoms in the solid unit cell (Atoms(symbols='Si8', pbc=True, cell=[5.420735127923755, 5.420735031387806, 5.420735088761772], calculator=SinglePointCalculator(...))): 8\n",
      "Number of atoms per molecule (Atoms(symbols='CSOCH6', pbc=True, cell=[5.0, 5.0, 5.0], calculator=SinglePointCalculator(...))): 10\n"
     ]
    }
   ],
   "source": [
    "solid_initial = read(os.path.join(inputdir, 'solid_initial.traj'))\n",
    "mol_initial = read(os.path.join(inputdir, 'mol_initial.traj'))\n",
    "\n",
    "mass_molecule = mol_initial.get_masses().sum()\n",
    "print(f'Number of atoms in the solid unit cell ({solid_initial}): {len(solid_initial)}')\n",
    "print(f'Number of atoms per molecule ({mol_initial}): {len(mol_initial)}')"
   ]
  },
  {
   "cell_type": "code",
   "execution_count": 7,
   "id": "3b20fd54-35d4-4182-94b1-a7214500bb90",
   "metadata": {},
   "outputs": [
    {
     "data": {
      "application/vnd.jupyter.widget-view+json": {
       "model_id": "7ce033655bbd4577a4865aced9ca48cd",
       "version_major": 2,
       "version_minor": 0
      },
      "text/plain": [
       "HBox(children=(NGLWidget(max_frame=1), VBox(children=(Dropdown(description='Show', options=('All', 'H', 'C', '…"
      ]
     },
     "metadata": {},
     "output_type": "display_data"
    }
   ],
   "source": [
    "v = view_ngl([mol_initial, solid_initial], ['ball+stick'], h=300,replace_structure=True)\n",
    "display(v)"
   ]
  },
  {
   "cell_type": "code",
   "execution_count": 8,
   "id": "c51910f2-f2e4-4374-97c3-7150f2203f53",
   "metadata": {},
   "outputs": [],
   "source": [
    "mol = mol_initial * repeat_mol\n",
    "solid = solid_initial * repeat_solid"
   ]
  },
  {
   "cell_type": "code",
   "execution_count": 9,
   "id": "406c5f74-765e-40d1-af9d-c39958f87f49",
   "metadata": {},
   "outputs": [],
   "source": [
    "def run_md(atoms,\n",
    "    time_step    = 2.0,    # fsec\n",
    "    temperature = 300,    # Kelvin\n",
    "    num_md_steps = 100000, \n",
    "    log_interval = 10,\n",
    "    traj_interval = 1,\n",
    "    sigma   = 1.0,     # External pressure in bar\n",
    "    ttime   = 20.0,    # Time constant in fs\n",
    "    pfactor = 2e6,     # Barostat parameter in GPa\n",
    "    prefix = 'md',\n",
    "    outputdir = './outout',\n",
    "    print_md=False,\n",
    "    mask = None,\n",
    "    print_interval=100,\n",
    "    fix_shellshape=False,\n",
    "     ):\n",
    "\n",
    "    \n",
    "    # run MD\n",
    "    print(\"temperature = \",temperature)\n",
    "    print(f\"sigma = {sigma:.1e} bar\")\n",
    "    print(f\"ttime = {ttime:.3f} fs\")\n",
    "    print(f\"pfactor = {pfactor:.3e} GPa*fs^2\")\n",
    "\n",
    "    output_filename = os.path.join(outputdir, f\"{prefix}_{temperature}K\")\n",
    "    log_filename = output_filename + \".log\"\n",
    "    traj_filename = output_filename + \".traj\"\n",
    "\n",
    "    print(\"log_filename = \",log_filename)\n",
    "    print(\"traj_filename = \",traj_filename)\n",
    "\n",
    "    atoms = atoms.copy()\n",
    "    atoms.calc = get_calculator()\n",
    "\n",
    "    # Set the momenta corresponding to T=300K\n",
    "    MaxwellBoltzmannDistribution(atoms, temperature_K=temperature,force_temp=True)\n",
    "    Stationary(atoms)\n",
    "\n",
    "    dyn = NPT(atoms,\n",
    "          time_step*units.fs,\n",
    "          temperature_K = temperature,\n",
    "          externalstress = sigma*units.bar,\n",
    "          ttime = ttime*units.fs,\n",
    "          pfactor = pfactor*units.GPa*(units.fs**2),\n",
    "          trajectory = traj_filename,\n",
    "          # loginterval argument affects both traj and log interval. Thus, I attach MDLogger later.\n",
    "#          logfile = log_filename,\n",
    "#          loginterval=log_interval, \n",
    "          logfile = None,\n",
    "          loginterval=traj_interval,\n",
    "          mask=mask,\n",
    "          )\n",
    "    if fix_shellshape:\n",
    "        dyn.set_fraction_traceless(0)\n",
    "        \n",
    "    # Print statements\n",
    "    # atttch logger with less/more frequent log_interval than traj_interval\n",
    "    dyn.attach(MDLogger(dyn, atoms, log_filename, header=True, stress=False, peratom=True, mode=\"a\"), interval=log_interval)\n",
    "    if print_md:\n",
    "        def print_dyn():\n",
    "            imd = dyn.get_number_of_steps()\n",
    "            etot  = atoms.get_total_energy()\n",
    "            temp_K = atoms.get_temperature()\n",
    "            stress = atoms.get_stress(include_ideal_gas=True)/units.GPa\n",
    "            volume = atoms.get_volume()\n",
    "            lx, ly, lz, alpha, beta, gamma = atoms.cell.cellpar()\n",
    "\n",
    "            stress_ave = (stress[0]+stress[1]+stress[2])/3.0 \n",
    "            elapsed_time = perf_counter() - start_time\n",
    "            #print(f\"  {imd: >3}   {etot:.3f}    {temp_K:.2f}    {stress_ave:.2f}  {stress[0]:.2f}  {stress[1]:.2f}  {stress[2]:.2f}  {stress[3]:.2f}  {stress[4]:.2f}  {stress[5]:.2f}    {elapsed_time:.3f}\")\n",
    "            print(f\"  {imd: >3}   {etot:.3f}    {temp_K:.2f} {volume:.2f} {lx:.2f} {ly:.2f} {lz:.2f} {alpha} {beta} {gamma} {elapsed_time:.3f}\")\n",
    "        dyn.attach(print_dyn, interval=print_interval)\n",
    "\n",
    "    # Run the dynamics\n",
    "    start_time = perf_counter()\n",
    "    dyn.run(num_md_steps)\n",
    "\n",
    "    return atoms, dyn"
   ]
  },
  {
   "cell_type": "code",
   "execution_count": 10,
   "id": "e09c7ac0-47f9-475e-ac7b-5a74acc8fecb",
   "metadata": {},
   "outputs": [
    {
     "name": "stdout",
     "output_type": "stream",
     "text": [
      "temperature =  300\n",
      "sigma = 1.0e+00 bar\n",
      "ttime = 20.000 fs\n",
      "pfactor = 2.000e+06 GPa*fs^2\n",
      "log_filename =  ./output/mol_equil10ps_300K.log\n",
      "traj_filename =  ./output/mol_equil10ps_300K.traj\n",
      "Elapsed time (equilib): 1515.3264671945944\n",
      "temperature =  300\n",
      "sigma = 1.0e+00 bar\n",
      "ttime = 20.000 fs\n",
      "pfactor = 2.000e+06 GPa*fs^2\n",
      "log_filename =  ./output/mol_product10ps_300K.log\n",
      "traj_filename =  ./output/mol_product10ps_300K.traj\n",
      "Elapsed time (product): 1547.582180276513\n",
      "Elapsed time (total)  : 3062.9086474711075\n"
     ]
    }
   ],
   "source": [
    "t0 = perf_counter()\n",
    "\n",
    "timestep = timestep_mol\n",
    "temperature = target_temp\n",
    "mask = [1, 1, 1]\n",
    "print_interval = 10\n",
    "\n",
    "prefix = 'mol'\n",
    "prefix_equil = f'{prefix}_equil{int(timestep*steps_equilib/1000)}ps'\n",
    "prefix_product = f'{prefix}_product{int(timestep*steps_equilib/1000)}ps'\n",
    "\n",
    "# Equilibration\n",
    "mol, dyn = run_md(mol, time_step=timestep, temperature=temperature, \n",
    "                  num_md_steps=steps_equilib, prefix=prefix_equil, \n",
    "                  log_interval=log_interval, traj_interval=traj_interval,\n",
    "                  outputdir=outputdir, fix_shellshape=True, mask=mask)\n",
    "t1 = perf_counter()\n",
    "print(f'Elapsed time (equilib): {t1-t0}')\n",
    "\n",
    "# Product run\n",
    "mol, dyn = run_md(mol, time_step=timestep, temperature=temperature, \n",
    "                  num_md_steps=steps_product, prefix=prefix_product, \n",
    "                  log_interval=log_interval, traj_interval=traj_interval,\n",
    "                  outputdir=outputdir, fix_shellshape=True, mask=mask)\n",
    "t2 = perf_counter()\n",
    "print(f'Elapsed time (product): {t2-t1}')\n",
    "print(f'Elapsed time (total)  : {t2-t0}')"
   ]
  },
  {
   "cell_type": "code",
   "execution_count": 11,
   "id": "5d1e2cd1-2b7d-443f-b966-aa1ffcb4d5d8",
   "metadata": {
    "tags": []
   },
   "outputs": [
    {
     "name": "stdout",
     "output_type": "stream",
     "text": [
      "temperature =  300\n",
      "sigma = 1.0e+00 bar\n",
      "ttime = 20.000 fs\n",
      "pfactor = 2.000e+06 GPa*fs^2\n",
      "log_filename =  ./output/solid_equil20ps_300K.log\n",
      "traj_filename =  ./output/solid_equil20ps_300K.traj\n",
      "Elapsed time (equilib): 1401.480807280168\n",
      "temperature =  300\n",
      "sigma = 1.0e+00 bar\n",
      "ttime = 20.000 fs\n",
      "pfactor = 2.000e+06 GPa*fs^2\n",
      "log_filename =  ./output/solid_product20ps_300K.log\n",
      "traj_filename =  ./output/solid_product20ps_300K.traj\n",
      "Elapsed time (product): 1573.7805970581248\n",
      "Elapsed time (total)  : 2975.261404338293\n"
     ]
    }
   ],
   "source": [
    "t0 = perf_counter()\n",
    "\n",
    "timestep = timestep_solid\n",
    "temperature = target_temp\n",
    "mask = None\n",
    "print_interval = 10\n",
    "\n",
    "prefix = 'solid'\n",
    "prefix_equil = f'{prefix}_equil{int(timestep*steps_equilib/1000)}ps'\n",
    "prefix_product = f'{prefix}_product{int(timestep*steps_equilib/1000)}ps'\n",
    "\n",
    "# Equilibration\n",
    "solid, dyn = run_md(solid, time_step=timestep, temperature=temperature, \n",
    "                    num_md_steps=steps_equilib, prefix=prefix_equil, \n",
    "                    log_interval=log_interval, traj_interval=traj_interval,\n",
    "                    outputdir=outputdir, mask=mask)\n",
    "t1 = perf_counter()\n",
    "print(f'Elapsed time (equilib): {t1-t0}')\n",
    "\n",
    "# Product run\n",
    "solid, dyn = run_md(solid, time_step=timestep, temperature=temperature, \n",
    "                    num_md_steps=steps_product, prefix=prefix_product, \n",
    "                    log_interval=log_interval, traj_interval=traj_interval,\n",
    "                    outputdir=outputdir, mask=mask)\n",
    "t2 = perf_counter()\n",
    "print(f'Elapsed time (product): {t2-t1}')\n",
    "print(f'Elapsed time (total)  : {t2-t0}')"
   ]
  }
 ],
 "metadata": {
  "kernelspec": {
   "display_name": "Python 3.7",
   "language": "python",
   "name": "python37"
  },
  "language_info": {
   "codemirror_mode": {
    "name": "ipython",
    "version": 3
   },
   "file_extension": ".py",
   "mimetype": "text/x-python",
   "name": "python",
   "nbconvert_exporter": "python",
   "pygments_lexer": "ipython3",
   "version": "3.7.13"
  },
  "vscode": {
   "interpreter": {
    "hash": "c234fce11f2837fac9d5905a5a3f629cc63d237c9357fcd422f1c8717e73452c"
   }
  }
 },
 "nbformat": 4,
 "nbformat_minor": 5
}
