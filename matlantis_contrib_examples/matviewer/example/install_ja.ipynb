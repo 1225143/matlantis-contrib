{
 "cells": [
  {
   "cell_type": "markdown",
   "id": "9490edfe-54b9-46ed-b69b-3a21f991515d",
   "metadata": {},
   "source": [
    "Copyright ENEOS, Corp. and  Preferred Computational Chemistry as contributors to Matlantis contrib project\n",
    "# How to install matviewer\n",
    "\n",
    "execute below commands. 　(Python3.8 or 3.9)"
   ]
  },
  {
   "cell_type": "markdown",
   "id": "d3f0acea-47a9-40a8-955b-a1f6242d6287",
   "metadata": {},
   "source": [
    "pfcc-extrasのインストール  \n",
    "　・Matlantis内のPackage Launcherから `pfcc-extras` をインストールしてください。  \n",
    "JSMEインストール ・・・下セルで実行できます  \n",
    "　・JSMEはサーバ通信なしで分子構造描画ができるBSD licenseソフトです。  \n",
    "autodEのインストール ・・・下セルで実行できます  \n",
    "　・SMILESからASE Atomsへの変換に、`autode` packageを使います。"
   ]
  },
  {
   "cell_type": "code",
   "execution_count": 1,
   "id": "657baba3-b9af-413b-a94c-f9e481629b31",
   "metadata": {
    "tags": []
   },
   "outputs": [
    {
     "name": "stdout",
     "output_type": "stream",
     "text": [
      "Cloning into 'jsme-editor.github.io'...\n",
      "remote: Enumerating objects: 1334, done.\u001b[K\n",
      "remote: Counting objects: 100% (753/753), done.\u001b[K\n",
      "remote: Compressing objects: 100% (500/500), done.\u001b[K\n",
      "remote: Total 1334 (delta 332), reused 617 (delta 245), pack-reused 581\u001b[K\n",
      "Receiving objects: 100% (1334/1334), 32.86 MiB | 14.97 MiB/s, done.\n",
      "Resolving deltas: 100% (565/565), done.\n",
      "HEAD is now at 198ef9b Release 2022-02-26\n",
      "Looking in indexes: https://pypi.org/simple, http://pypi.artifact.svc:8080/simple\n",
      "Collecting git+https://github.com/duartegroup/autodE.git\n",
      "  Cloning https://github.com/duartegroup/autodE.git to /tmp/pip-req-build-m2vseqaa\n",
      "  Running command git clone --filter=blob:none --quiet https://github.com/duartegroup/autodE.git /tmp/pip-req-build-m2vseqaa\n",
      "  Resolved https://github.com/duartegroup/autodE.git to commit 2f3af32fc7806b7175133220506f0eb54c66ab13\n",
      "  Installing build dependencies ... \u001b[?25ldone\n",
      "\u001b[?25h  Getting requirements to build wheel ... \u001b[?25ldone\n",
      "\u001b[?25h  Preparing metadata (pyproject.toml) ... \u001b[?25ldone\n",
      "\u001b[?25hBuilding wheels for collected packages: autode\n",
      "  Building wheel for autode (pyproject.toml) ... \u001b[?25ldone\n",
      "\u001b[?25h  Created wheel for autode: filename=autode-1.4.3-cp39-cp39-linux_x86_64.whl size=2260467 sha256=f30c2bae4fbe7c99d73ba6ef5196a4c611c839fc7c0640295b957871659b0c0a\n",
      "  Stored in directory: /tmp/pip-ephem-wheel-cache-ywej_dqq/wheels/16/80/97/59af98b577eb01eaee528165693521b01f7d3c5ac15daca4ee\n",
      "Successfully built autode\n",
      "Installing collected packages: autode\n",
      "Successfully installed autode-1.4.3\n",
      "\u001b[33mWARNING: You are using pip version 22.0.4; however, version 24.0 is available.\n",
      "You should consider upgrading via the '/home/jovyan/.py39/bin/python -m pip install --upgrade pip' command.\u001b[0m\u001b[33m\n",
      "\u001b[0m"
     ]
    }
   ],
   "source": [
    "#JSMEはサーバ通信なしで分子構造描画ができJ-GLOBALでも採用されているBSD licenseソフトです。（https://jsme-editor.github.io/)\n",
    "!git clone https://github.com/jsme-editor/jsme-editor.github.io.git\n",
    "# Change from \"master\" branch to \"2022-02-26\" release\n",
    "!cd jsme-editor.github.io && git reset --hard 198ef9be65dd1e05846affff7a2dee17de3e267b\n",
    "!mkdir -p ../matviewer/data/jsme/\n",
    "!cp -r ./jsme-editor.github.io/dist/jsme/* ../matviewer/data/jsme/\n",
    "!rm -rf ./jsme-editor.github.io\n",
    "#autodEはsmiles から分子構造作成する際に利用します。\n",
    "!pip install git+https://github.com/duartegroup/autodE.git"
   ]
  },
  {
   "cell_type": "code",
   "execution_count": 1,
   "id": "c9289852-ea55-4ba7-9535-38ac56fad25d",
   "metadata": {
    "tags": []
   },
   "outputs": [
    {
     "name": "stdout",
     "output_type": "stream",
     "text": [
      "Looking in indexes: https://pypi.org/simple, http://pypi.artifact.svc:8080/simple\n",
      "Processing /home/jovyan/tmp/matlantis-contrib/matlantis_contrib_examples/matviewer\n",
      "  Preparing metadata (setup.py) ... \u001b[?25ldone\n",
      "\u001b[?25hRequirement already satisfied: pfcc-extras in /home/jovyan/pfcc-extras-v0.7.1 (from matviewer==0.1.1) (0.7.1)\n",
      "Collecting torch\n",
      "  Downloading torch-2.3.1-cp39-cp39-manylinux1_x86_64.whl (779.1 MB)\n",
      "\u001b[2K     \u001b[90m━━━━━━━━━━━━━━━━━━━━━━━━━━━━━━━━━━━━━━━\u001b[0m \u001b[32m779.1/779.1 MB\u001b[0m \u001b[31m1.5 MB/s\u001b[0m eta \u001b[36m0:00:00\u001b[0m00:01\u001b[0m00:01\u001b[0m\n",
      "\u001b[?25hCollecting cython\n",
      "  Using cached Cython-3.0.10-cp39-cp39-manylinux_2_17_x86_64.manylinux2014_x86_64.whl (3.6 MB)\n",
      "Requirement already satisfied: scikit-learn in /home/jovyan/.py39/lib/python3.9/site-packages (from matviewer==0.1.1) (1.5.0)\n",
      "Requirement already satisfied: autode in /home/jovyan/.py39/lib/python3.9/site-packages (from matviewer==0.1.1) (1.4.3)\n",
      "Requirement already satisfied: ase<4.0.0,>=3.18 in /home/jovyan/.py39/lib/python3.9/site-packages (from pfcc-extras->matviewer==0.1.1) (3.22.1)\n",
      "Requirement already satisfied: matplotlib>=3.5.0 in /home/jovyan/.py39/lib/python3.9/site-packages (from pfcc-extras->matviewer==0.1.1) (3.9.0)\n",
      "Requirement already satisfied: nglview in /usr/local/pyenv/versions/3.9.16/envs/python39/lib/python3.9/site-packages (from pfcc-extras->matviewer==0.1.1) (3.0.1)\n",
      "Requirement already satisfied: rdkit-pypi in /home/jovyan/.py39/lib/python3.9/site-packages (from pfcc-extras->matviewer==0.1.1) (2022.9.5)\n",
      "Requirement already satisfied: tqdm in /home/jovyan/.py39/lib/python3.9/site-packages (from pfcc-extras->matviewer==0.1.1) (4.66.4)\n",
      "Requirement already satisfied: ipywidgets in /usr/local/pyenv/versions/3.9.16/envs/python39/lib/python3.9/site-packages (from pfcc-extras->matviewer==0.1.1) (7.7.1)\n",
      "Requirement already satisfied: spglib in /home/jovyan/.py39/lib/python3.9/site-packages (from pfcc-extras->matviewer==0.1.1) (2.4.0)\n",
      "Requirement already satisfied: numpngw in /home/jovyan/.py39/lib/python3.9/site-packages (from pfcc-extras->matviewer==0.1.1) (0.1.4)\n",
      "Requirement already satisfied: joblib in /home/jovyan/.py39/lib/python3.9/site-packages (from pfcc-extras->matviewer==0.1.1) (1.4.2)\n",
      "Requirement already satisfied: pandas in /home/jovyan/.py39/lib/python3.9/site-packages (from pfcc-extras->matviewer==0.1.1) (2.2.2)\n",
      "Requirement already satisfied: plotly in /home/jovyan/.py39/lib/python3.9/site-packages (from pfcc-extras->matviewer==0.1.1) (5.22.0)\n",
      "Requirement already satisfied: scipy in /home/jovyan/.py39/lib/python3.9/site-packages (from pfcc-extras->matviewer==0.1.1) (1.13.1)\n",
      "Requirement already satisfied: networkx in /home/jovyan/.py39/lib/python3.9/site-packages (from pfcc-extras->matviewer==0.1.1) (3.2.1)\n",
      "Requirement already satisfied: optuna in /home/jovyan/.py39/lib/python3.9/site-packages (from pfcc-extras->matviewer==0.1.1) (3.6.1)\n",
      "Requirement already satisfied: pymatgen in /home/jovyan/.py39/lib/python3.9/site-packages (from pfcc-extras->matviewer==0.1.1) (2023.12.18)\n",
      "Requirement already satisfied: threadpoolctl>=3.1.0 in /home/jovyan/.py39/lib/python3.9/site-packages (from scikit-learn->matviewer==0.1.1) (3.5.0)\n",
      "Requirement already satisfied: numpy>=1.19.5 in /home/jovyan/.py39/lib/python3.9/site-packages (from scikit-learn->matviewer==0.1.1) (1.26.4)\n",
      "Requirement already satisfied: sympy in /home/jovyan/.py39/lib/python3.9/site-packages (from torch->matviewer==0.1.1) (1.12.1)\n",
      "Requirement already satisfied: fsspec in /home/jovyan/.py39/lib/python3.9/site-packages (from torch->matviewer==0.1.1) (2022.11.0)\n",
      "Collecting nvidia-cuda-nvrtc-cu12==12.1.105\n",
      "  Downloading nvidia_cuda_nvrtc_cu12-12.1.105-py3-none-manylinux1_x86_64.whl (23.7 MB)\n",
      "\u001b[2K     \u001b[90m━━━━━━━━━━━━━━━━━━━━━━━━━━━━━━━━━━━━━━━━\u001b[0m \u001b[32m23.7/23.7 MB\u001b[0m \u001b[31m44.0 MB/s\u001b[0m eta \u001b[36m0:00:00\u001b[0m00:01\u001b[0m00:01\u001b[0m\n",
      "\u001b[?25hCollecting nvidia-cuda-runtime-cu12==12.1.105\n",
      "  Downloading nvidia_cuda_runtime_cu12-12.1.105-py3-none-manylinux1_x86_64.whl (823 kB)\n",
      "\u001b[2K     \u001b[90m━━━━━━━━━━━━━━━━━━━━━━━━━━━━━━━━━━━━━━\u001b[0m \u001b[32m823.6/823.6 KB\u001b[0m \u001b[31m61.4 MB/s\u001b[0m eta \u001b[36m0:00:00\u001b[0m\n",
      "\u001b[?25hRequirement already satisfied: jinja2 in /usr/local/pyenv/versions/3.9.16/envs/python39/lib/python3.9/site-packages (from torch->matviewer==0.1.1) (3.1.2)\n",
      "Requirement already satisfied: filelock in /home/jovyan/.py39/lib/python3.9/site-packages (from torch->matviewer==0.1.1) (3.15.1)\n",
      "Collecting nvidia-curand-cu12==10.3.2.106\n",
      "  Downloading nvidia_curand_cu12-10.3.2.106-py3-none-manylinux1_x86_64.whl (56.5 MB)\n",
      "\u001b[2K     \u001b[90m━━━━━━━━━━━━━━━━━━━━━━━━━━━━━━━━━━━━━━━━\u001b[0m \u001b[32m56.5/56.5 MB\u001b[0m \u001b[31m22.3 MB/s\u001b[0m eta \u001b[36m0:00:00\u001b[0m00:01\u001b[0m00:01\u001b[0m\n",
      "\u001b[?25hCollecting nvidia-cusparse-cu12==12.1.0.106\n",
      "  Downloading nvidia_cusparse_cu12-12.1.0.106-py3-none-manylinux1_x86_64.whl (196.0 MB)\n",
      "\u001b[2K     \u001b[90m━━━━━━━━━━━━━━━━━━━━━━━━━━━━━━━━━━━━━━━\u001b[0m \u001b[32m196.0/196.0 MB\u001b[0m \u001b[31m7.6 MB/s\u001b[0m eta \u001b[36m0:00:00\u001b[0m00:01\u001b[0m00:01\u001b[0m\n",
      "\u001b[?25hRequirement already satisfied: typing-extensions>=4.8.0 in /home/jovyan/.py39/lib/python3.9/site-packages (from torch->matviewer==0.1.1) (4.12.2)\n",
      "Collecting nvidia-cudnn-cu12==8.9.2.26\n",
      "  Downloading nvidia_cudnn_cu12-8.9.2.26-py3-none-manylinux1_x86_64.whl (731.7 MB)\n",
      "\u001b[2K     \u001b[90m━━━━━━━━━━━━━━━━━━━━━━━━━━━━━━━━━━━━━━━\u001b[0m \u001b[32m731.7/731.7 MB\u001b[0m \u001b[31m1.6 MB/s\u001b[0m eta \u001b[36m0:00:00\u001b[0m00:01\u001b[0m00:01\u001b[0m\n",
      "\u001b[?25hCollecting nvidia-cufft-cu12==11.0.2.54\n",
      "  Downloading nvidia_cufft_cu12-11.0.2.54-py3-none-manylinux1_x86_64.whl (121.6 MB)\n",
      "\u001b[2K     \u001b[90m━━━━━━━━━━━━━━━━━━━━━━━━━━━━━━━━━━━━━━\u001b[0m \u001b[32m121.6/121.6 MB\u001b[0m \u001b[31m11.5 MB/s\u001b[0m eta \u001b[36m0:00:00\u001b[0m00:01\u001b[0m00:01\u001b[0m\n",
      "\u001b[?25hCollecting nvidia-cuda-cupti-cu12==12.1.105\n",
      "  Downloading nvidia_cuda_cupti_cu12-12.1.105-py3-none-manylinux1_x86_64.whl (14.1 MB)\n",
      "\u001b[2K     \u001b[90m━━━━━━━━━━━━━━━━━━━━━━━━━━━━━━━━━━━━━━━━\u001b[0m \u001b[32m14.1/14.1 MB\u001b[0m \u001b[31m61.1 MB/s\u001b[0m eta \u001b[36m0:00:00\u001b[0m00:01\u001b[0m00:01\u001b[0m\n",
      "\u001b[?25hCollecting nvidia-cusolver-cu12==11.4.5.107\n",
      "  Downloading nvidia_cusolver_cu12-11.4.5.107-py3-none-manylinux1_x86_64.whl (124.2 MB)\n",
      "\u001b[2K     \u001b[90m━━━━━━━━━━━━━━━━━━━━━━━━━━━━━━━━━━━━━━\u001b[0m \u001b[32m124.2/124.2 MB\u001b[0m \u001b[31m10.8 MB/s\u001b[0m eta \u001b[36m0:00:00\u001b[0m00:01\u001b[0m00:01\u001b[0m\n",
      "\u001b[?25hCollecting nvidia-nvtx-cu12==12.1.105\n",
      "  Downloading nvidia_nvtx_cu12-12.1.105-py3-none-manylinux1_x86_64.whl (99 kB)\n",
      "\u001b[2K     \u001b[90m━━━━━━━━━━━━━━━━━━━━━━━━━━━━━━━━━━━━━━━━\u001b[0m \u001b[32m99.1/99.1 KB\u001b[0m \u001b[31m13.6 MB/s\u001b[0m eta \u001b[36m0:00:00\u001b[0m\n",
      "\u001b[?25hCollecting nvidia-nccl-cu12==2.20.5\n",
      "  Downloading nvidia_nccl_cu12-2.20.5-py3-none-manylinux2014_x86_64.whl (176.2 MB)\n",
      "\u001b[2K     \u001b[90m━━━━━━━━━━━━━━━━━━━━━━━━━━━━━━━━━━━━━━━\u001b[0m \u001b[32m176.2/176.2 MB\u001b[0m \u001b[31m7.2 MB/s\u001b[0m eta \u001b[36m0:00:00\u001b[0m00:01\u001b[0m00:01\u001b[0m\n",
      "\u001b[?25hCollecting triton==2.3.1\n",
      "  Downloading triton-2.3.1-cp39-cp39-manylinux_2_17_x86_64.manylinux2014_x86_64.whl (168.1 MB)\n",
      "\u001b[2K     \u001b[90m━━━━━━━━━━━━━━━━━━━━━━━━━━━━━━━━━━━━━━━\u001b[0m \u001b[32m168.1/168.1 MB\u001b[0m \u001b[31m9.1 MB/s\u001b[0m eta \u001b[36m0:00:00\u001b[0m00:01\u001b[0m00:01\u001b[0m\n",
      "\u001b[?25hCollecting nvidia-cublas-cu12==12.1.3.1\n",
      "  Downloading nvidia_cublas_cu12-12.1.3.1-py3-none-manylinux1_x86_64.whl (410.6 MB)\n",
      "\u001b[2K     \u001b[90m━━━━━━━━━━━━━━━━━━━━━━━━━━━━━━━━━━━━━━━\u001b[0m \u001b[32m410.6/410.6 MB\u001b[0m \u001b[31m3.4 MB/s\u001b[0m eta \u001b[36m0:00:00\u001b[0m00:01\u001b[0m00:01\u001b[0m\n",
      "\u001b[?25hCollecting nvidia-nvjitlink-cu12\n",
      "  Downloading nvidia_nvjitlink_cu12-12.5.40-py3-none-manylinux2014_x86_64.whl (21.3 MB)\n",
      "\u001b[2K     \u001b[90m━━━━━━━━━━━━━━━━━━━━━━━━━━━━━━━━━━━━━━━━\u001b[0m \u001b[32m21.3/21.3 MB\u001b[0m \u001b[31m52.1 MB/s\u001b[0m eta \u001b[36m0:00:00\u001b[0m00:01\u001b[0m00:01\u001b[0m\n",
      "\u001b[?25hRequirement already satisfied: pillow>=8 in /home/jovyan/.py39/lib/python3.9/site-packages (from matplotlib>=3.5.0->pfcc-extras->matviewer==0.1.1) (10.3.0)\n",
      "Requirement already satisfied: kiwisolver>=1.3.1 in /home/jovyan/.py39/lib/python3.9/site-packages (from matplotlib>=3.5.0->pfcc-extras->matviewer==0.1.1) (1.4.5)\n",
      "Requirement already satisfied: cycler>=0.10 in /home/jovyan/.py39/lib/python3.9/site-packages (from matplotlib>=3.5.0->pfcc-extras->matviewer==0.1.1) (0.12.1)\n",
      "Requirement already satisfied: fonttools>=4.22.0 in /home/jovyan/.py39/lib/python3.9/site-packages (from matplotlib>=3.5.0->pfcc-extras->matviewer==0.1.1) (4.53.0)\n",
      "Requirement already satisfied: packaging>=20.0 in /home/jovyan/.py39/lib/python3.9/site-packages (from matplotlib>=3.5.0->pfcc-extras->matviewer==0.1.1) (24.1)\n",
      "Requirement already satisfied: pyparsing>=2.3.1 in /home/jovyan/.py39/lib/python3.9/site-packages (from matplotlib>=3.5.0->pfcc-extras->matviewer==0.1.1) (3.1.2)\n",
      "Requirement already satisfied: importlib-resources>=3.2.0 in /home/jovyan/.py39/lib/python3.9/site-packages (from matplotlib>=3.5.0->pfcc-extras->matviewer==0.1.1) (6.4.0)\n",
      "Requirement already satisfied: python-dateutil>=2.7 in /home/jovyan/.py39/lib/python3.9/site-packages (from matplotlib>=3.5.0->pfcc-extras->matviewer==0.1.1) (2.9.0.post0)\n",
      "Requirement already satisfied: contourpy>=1.0.1 in /home/jovyan/.py39/lib/python3.9/site-packages (from matplotlib>=3.5.0->pfcc-extras->matviewer==0.1.1) (1.2.1)\n",
      "Requirement already satisfied: ipykernel>=4.5.1 in /usr/local/pyenv/versions/3.9.16/envs/python39/lib/python3.9/site-packages (from ipywidgets->pfcc-extras->matviewer==0.1.1) (6.29.2)\n",
      "Requirement already satisfied: ipython>=4.0.0 in /usr/local/pyenv/versions/3.9.16/envs/python39/lib/python3.9/site-packages (from ipywidgets->pfcc-extras->matviewer==0.1.1) (7.34.0)\n",
      "Requirement already satisfied: widgetsnbextension~=3.6.0 in /usr/local/pyenv/versions/3.9.16/envs/python39/lib/python3.9/site-packages (from ipywidgets->pfcc-extras->matviewer==0.1.1) (3.6.1)\n",
      "Requirement already satisfied: jupyterlab-widgets>=1.0.0 in /usr/local/pyenv/versions/3.9.16/envs/python39/lib/python3.9/site-packages (from ipywidgets->pfcc-extras->matviewer==0.1.1) (1.1.1)\n",
      "Requirement already satisfied: traitlets>=4.3.1 in /usr/local/pyenv/versions/3.9.16/envs/python39/lib/python3.9/site-packages (from ipywidgets->pfcc-extras->matviewer==0.1.1) (5.14.1)\n",
      "Requirement already satisfied: ipython-genutils~=0.2.0 in /usr/local/pyenv/versions/3.9.16/envs/python39/lib/python3.9/site-packages (from ipywidgets->pfcc-extras->matviewer==0.1.1) (0.2.0)\n",
      "Requirement already satisfied: MarkupSafe>=2.0 in /usr/local/pyenv/versions/3.9.16/envs/python39/lib/python3.9/site-packages (from jinja2->torch->matviewer==0.1.1) (2.1.1)\n",
      "Requirement already satisfied: colorlog in /home/jovyan/.py39/lib/python3.9/site-packages (from optuna->pfcc-extras->matviewer==0.1.1) (6.8.2)\n",
      "Requirement already satisfied: PyYAML in /home/jovyan/.py39/lib/python3.9/site-packages (from optuna->pfcc-extras->matviewer==0.1.1) (6.0.1)\n",
      "Requirement already satisfied: alembic>=1.5.0 in /home/jovyan/.py39/lib/python3.9/site-packages (from optuna->pfcc-extras->matviewer==0.1.1) (1.13.1)\n",
      "Requirement already satisfied: sqlalchemy>=1.3.0 in /home/jovyan/.py39/lib/python3.9/site-packages (from optuna->pfcc-extras->matviewer==0.1.1) (2.0.30)\n",
      "Requirement already satisfied: pytz>=2020.1 in /home/jovyan/.py39/lib/python3.9/site-packages (from pandas->pfcc-extras->matviewer==0.1.1) (2024.1)\n",
      "Requirement already satisfied: tzdata>=2022.7 in /home/jovyan/.py39/lib/python3.9/site-packages (from pandas->pfcc-extras->matviewer==0.1.1) (2024.1)\n",
      "Requirement already satisfied: tenacity>=6.2.0 in /home/jovyan/.py39/lib/python3.9/site-packages (from plotly->pfcc-extras->matviewer==0.1.1) (8.4.1)\n",
      "Requirement already satisfied: ruamel.yaml>=0.17.0 in /home/jovyan/.py39/lib/python3.9/site-packages (from pymatgen->pfcc-extras->matviewer==0.1.1) (0.18.6)\n",
      "Requirement already satisfied: uncertainties>=3.1.4 in /home/jovyan/.py39/lib/python3.9/site-packages (from pymatgen->pfcc-extras->matviewer==0.1.1) (3.2.1)\n",
      "Requirement already satisfied: pybtex in /home/jovyan/.py39/lib/python3.9/site-packages (from pymatgen->pfcc-extras->matviewer==0.1.1) (0.24.0)\n",
      "Requirement already satisfied: tabulate in /home/jovyan/.py39/lib/python3.9/site-packages (from pymatgen->pfcc-extras->matviewer==0.1.1) (0.9.0)\n",
      "Requirement already satisfied: requests in /home/jovyan/.py39/lib/python3.9/site-packages (from pymatgen->pfcc-extras->matviewer==0.1.1) (2.32.3)\n",
      "Requirement already satisfied: monty>=3.0.2 in /home/jovyan/.py39/lib/python3.9/site-packages (from pymatgen->pfcc-extras->matviewer==0.1.1) (2024.5.24)\n",
      "Requirement already satisfied: palettable>=3.1.1 in /home/jovyan/.py39/lib/python3.9/site-packages (from pymatgen->pfcc-extras->matviewer==0.1.1) (3.3.3)\n",
      "Requirement already satisfied: mpmath<1.4.0,>=1.1.0 in /home/jovyan/.py39/lib/python3.9/site-packages (from sympy->torch->matviewer==0.1.1) (1.3.0)\n",
      "Requirement already satisfied: Mako in /home/jovyan/.py39/lib/python3.9/site-packages (from alembic>=1.5.0->optuna->pfcc-extras->matviewer==0.1.1) (1.3.5)\n",
      "Requirement already satisfied: zipp>=3.1.0 in /home/jovyan/.py39/lib/python3.9/site-packages (from importlib-resources>=3.2.0->matplotlib>=3.5.0->pfcc-extras->matviewer==0.1.1) (3.19.2)\n",
      "Requirement already satisfied: pyzmq>=24 in /usr/local/pyenv/versions/3.9.16/envs/python39/lib/python3.9/site-packages (from ipykernel>=4.5.1->ipywidgets->pfcc-extras->matviewer==0.1.1) (25.1.2)\n",
      "Requirement already satisfied: jupyter-client>=6.1.12 in /usr/local/pyenv/versions/3.9.16/envs/python39/lib/python3.9/site-packages (from ipykernel>=4.5.1->ipywidgets->pfcc-extras->matviewer==0.1.1) (7.3.4)\n",
      "Requirement already satisfied: comm>=0.1.1 in /usr/local/pyenv/versions/3.9.16/envs/python39/lib/python3.9/site-packages (from ipykernel>=4.5.1->ipywidgets->pfcc-extras->matviewer==0.1.1) (0.2.1)\n",
      "Requirement already satisfied: jupyter-core!=5.0.*,>=4.12 in /usr/local/pyenv/versions/3.9.16/envs/python39/lib/python3.9/site-packages (from ipykernel>=4.5.1->ipywidgets->pfcc-extras->matviewer==0.1.1) (5.7.1)\n",
      "Requirement already satisfied: matplotlib-inline>=0.1 in /usr/local/pyenv/versions/3.9.16/envs/python39/lib/python3.9/site-packages (from ipykernel>=4.5.1->ipywidgets->pfcc-extras->matviewer==0.1.1) (0.1.6)\n",
      "Requirement already satisfied: tornado>=6.1 in /usr/local/pyenv/versions/3.9.16/envs/python39/lib/python3.9/site-packages (from ipykernel>=4.5.1->ipywidgets->pfcc-extras->matviewer==0.1.1) (6.3.2)\n",
      "Requirement already satisfied: psutil in /usr/local/pyenv/versions/3.9.16/envs/python39/lib/python3.9/site-packages (from ipykernel>=4.5.1->ipywidgets->pfcc-extras->matviewer==0.1.1) (5.9.1)\n",
      "Requirement already satisfied: debugpy>=1.6.5 in /usr/local/pyenv/versions/3.9.16/envs/python39/lib/python3.9/site-packages (from ipykernel>=4.5.1->ipywidgets->pfcc-extras->matviewer==0.1.1) (1.8.0)\n",
      "Requirement already satisfied: nest-asyncio in /usr/local/pyenv/versions/3.9.16/envs/python39/lib/python3.9/site-packages (from ipykernel>=4.5.1->ipywidgets->pfcc-extras->matviewer==0.1.1) (1.5.5)\n",
      "Requirement already satisfied: pexpect>4.3 in /usr/local/pyenv/versions/3.9.16/envs/python39/lib/python3.9/site-packages (from ipython>=4.0.0->ipywidgets->pfcc-extras->matviewer==0.1.1) (4.8.0)\n",
      "Requirement already satisfied: setuptools>=18.5 in /home/jovyan/.py39/lib/python3.9/site-packages (from ipython>=4.0.0->ipywidgets->pfcc-extras->matviewer==0.1.1) (58.1.0)\n",
      "Requirement already satisfied: prompt-toolkit!=3.0.0,!=3.0.1,<3.1.0,>=2.0.0 in /usr/local/pyenv/versions/3.9.16/envs/python39/lib/python3.9/site-packages (from ipython>=4.0.0->ipywidgets->pfcc-extras->matviewer==0.1.1) (3.0.30)\n",
      "Requirement already satisfied: jedi>=0.16 in /usr/local/pyenv/versions/3.9.16/envs/python39/lib/python3.9/site-packages (from ipython>=4.0.0->ipywidgets->pfcc-extras->matviewer==0.1.1) (0.18.1)\n",
      "Requirement already satisfied: pickleshare in /usr/local/pyenv/versions/3.9.16/envs/python39/lib/python3.9/site-packages (from ipython>=4.0.0->ipywidgets->pfcc-extras->matviewer==0.1.1) (0.7.5)\n",
      "Requirement already satisfied: pygments in /usr/local/pyenv/versions/3.9.16/envs/python39/lib/python3.9/site-packages (from ipython>=4.0.0->ipywidgets->pfcc-extras->matviewer==0.1.1) (2.13.0)\n",
      "Requirement already satisfied: backcall in /usr/local/pyenv/versions/3.9.16/envs/python39/lib/python3.9/site-packages (from ipython>=4.0.0->ipywidgets->pfcc-extras->matviewer==0.1.1) (0.2.0)\n",
      "Requirement already satisfied: decorator in /usr/local/pyenv/versions/3.9.16/envs/python39/lib/python3.9/site-packages (from ipython>=4.0.0->ipywidgets->pfcc-extras->matviewer==0.1.1) (5.1.1)\n",
      "Requirement already satisfied: six>=1.5 in /home/jovyan/.py39/lib/python3.9/site-packages (from python-dateutil>=2.7->matplotlib>=3.5.0->pfcc-extras->matviewer==0.1.1) (1.16.0)\n",
      "Requirement already satisfied: ruamel.yaml.clib>=0.2.7 in /home/jovyan/.py39/lib/python3.9/site-packages (from ruamel.yaml>=0.17.0->pymatgen->pfcc-extras->matviewer==0.1.1) (0.2.8)\n",
      "Requirement already satisfied: greenlet!=0.4.17 in /home/jovyan/.py39/lib/python3.9/site-packages (from sqlalchemy>=1.3.0->optuna->pfcc-extras->matviewer==0.1.1) (3.0.3)\n",
      "Requirement already satisfied: notebook>=4.4.1 in /usr/local/pyenv/versions/3.9.16/envs/python39/lib/python3.9/site-packages (from widgetsnbextension~=3.6.0->ipywidgets->pfcc-extras->matviewer==0.1.1) (6.4.12)\n",
      "Requirement already satisfied: latexcodec>=1.0.4 in /home/jovyan/.py39/lib/python3.9/site-packages (from pybtex->pymatgen->pfcc-extras->matviewer==0.1.1) (3.0.0)\n",
      "Requirement already satisfied: idna<4,>=2.5 in /home/jovyan/.py39/lib/python3.9/site-packages (from requests->pymatgen->pfcc-extras->matviewer==0.1.1) (3.7)\n",
      "Requirement already satisfied: urllib3<3,>=1.21.1 in /home/jovyan/.py39/lib/python3.9/site-packages (from requests->pymatgen->pfcc-extras->matviewer==0.1.1) (2.2.2)\n",
      "Requirement already satisfied: charset-normalizer<4,>=2 in /home/jovyan/.py39/lib/python3.9/site-packages (from requests->pymatgen->pfcc-extras->matviewer==0.1.1) (3.3.2)\n",
      "Requirement already satisfied: certifi>=2017.4.17 in /home/jovyan/.py39/lib/python3.9/site-packages (from requests->pymatgen->pfcc-extras->matviewer==0.1.1) (2024.6.2)\n",
      "Requirement already satisfied: parso<0.9.0,>=0.8.0 in /usr/local/pyenv/versions/3.9.16/envs/python39/lib/python3.9/site-packages (from jedi>=0.16->ipython>=4.0.0->ipywidgets->pfcc-extras->matviewer==0.1.1) (0.8.3)\n",
      "Requirement already satisfied: entrypoints in /usr/local/pyenv/versions/3.9.16/envs/python39/lib/python3.9/site-packages (from jupyter-client>=6.1.12->ipykernel>=4.5.1->ipywidgets->pfcc-extras->matviewer==0.1.1) (0.4)\n",
      "Requirement already satisfied: platformdirs>=2.5 in /usr/local/pyenv/versions/3.9.16/envs/python39/lib/python3.9/site-packages (from jupyter-core!=5.0.*,>=4.12->ipykernel>=4.5.1->ipywidgets->pfcc-extras->matviewer==0.1.1) (4.2.0)\n",
      "Requirement already satisfied: prometheus-client in /usr/local/pyenv/versions/3.9.16/envs/python39/lib/python3.9/site-packages (from notebook>=4.4.1->widgetsnbextension~=3.6.0->ipywidgets->pfcc-extras->matviewer==0.1.1) (0.14.1)\n",
      "Requirement already satisfied: argon2-cffi in /usr/local/pyenv/versions/3.9.16/envs/python39/lib/python3.9/site-packages (from notebook>=4.4.1->widgetsnbextension~=3.6.0->ipywidgets->pfcc-extras->matviewer==0.1.1) (21.3.0)\n",
      "Requirement already satisfied: Send2Trash>=1.8.0 in /usr/local/pyenv/versions/3.9.16/envs/python39/lib/python3.9/site-packages (from notebook>=4.4.1->widgetsnbextension~=3.6.0->ipywidgets->pfcc-extras->matviewer==0.1.1) (1.8.0)\n",
      "Requirement already satisfied: nbformat in /usr/local/pyenv/versions/3.9.16/envs/python39/lib/python3.9/site-packages (from notebook>=4.4.1->widgetsnbextension~=3.6.0->ipywidgets->pfcc-extras->matviewer==0.1.1) (5.4.0)\n",
      "Requirement already satisfied: terminado>=0.8.3 in /usr/local/pyenv/versions/3.9.16/envs/python39/lib/python3.9/site-packages (from notebook>=4.4.1->widgetsnbextension~=3.6.0->ipywidgets->pfcc-extras->matviewer==0.1.1) (0.15.0)\n",
      "Requirement already satisfied: nbconvert>=5 in /usr/local/pyenv/versions/3.9.16/envs/python39/lib/python3.9/site-packages (from notebook>=4.4.1->widgetsnbextension~=3.6.0->ipywidgets->pfcc-extras->matviewer==0.1.1) (6.5.3)\n",
      "Requirement already satisfied: ptyprocess>=0.5 in /usr/local/pyenv/versions/3.9.16/envs/python39/lib/python3.9/site-packages (from pexpect>4.3->ipython>=4.0.0->ipywidgets->pfcc-extras->matviewer==0.1.1) (0.7.0)\n",
      "Requirement already satisfied: wcwidth in /usr/local/pyenv/versions/3.9.16/envs/python39/lib/python3.9/site-packages (from prompt-toolkit!=3.0.0,!=3.0.1,<3.1.0,>=2.0.0->ipython>=4.0.0->ipywidgets->pfcc-extras->matviewer==0.1.1) (0.2.5)\n",
      "Requirement already satisfied: mistune<2,>=0.8.1 in /usr/local/pyenv/versions/3.9.16/envs/python39/lib/python3.9/site-packages (from nbconvert>=5->notebook>=4.4.1->widgetsnbextension~=3.6.0->ipywidgets->pfcc-extras->matviewer==0.1.1) (0.8.4)\n",
      "Requirement already satisfied: beautifulsoup4 in /usr/local/pyenv/versions/3.9.16/envs/python39/lib/python3.9/site-packages (from nbconvert>=5->notebook>=4.4.1->widgetsnbextension~=3.6.0->ipywidgets->pfcc-extras->matviewer==0.1.1) (4.11.1)\n",
      "Requirement already satisfied: nbclient>=0.5.0 in /usr/local/pyenv/versions/3.9.16/envs/python39/lib/python3.9/site-packages (from nbconvert>=5->notebook>=4.4.1->widgetsnbextension~=3.6.0->ipywidgets->pfcc-extras->matviewer==0.1.1) (0.6.7)\n",
      "Requirement already satisfied: pandocfilters>=1.4.1 in /usr/local/pyenv/versions/3.9.16/envs/python39/lib/python3.9/site-packages (from nbconvert>=5->notebook>=4.4.1->widgetsnbextension~=3.6.0->ipywidgets->pfcc-extras->matviewer==0.1.1) (1.5.0)\n",
      "Requirement already satisfied: jupyterlab-pygments in /usr/local/pyenv/versions/3.9.16/envs/python39/lib/python3.9/site-packages (from nbconvert>=5->notebook>=4.4.1->widgetsnbextension~=3.6.0->ipywidgets->pfcc-extras->matviewer==0.1.1) (0.2.2)\n",
      "Requirement already satisfied: bleach in /usr/local/pyenv/versions/3.9.16/envs/python39/lib/python3.9/site-packages (from nbconvert>=5->notebook>=4.4.1->widgetsnbextension~=3.6.0->ipywidgets->pfcc-extras->matviewer==0.1.1) (5.0.1)\n",
      "Requirement already satisfied: defusedxml in /usr/local/pyenv/versions/3.9.16/envs/python39/lib/python3.9/site-packages (from nbconvert>=5->notebook>=4.4.1->widgetsnbextension~=3.6.0->ipywidgets->pfcc-extras->matviewer==0.1.1) (0.7.1)\n",
      "Requirement already satisfied: tinycss2 in /usr/local/pyenv/versions/3.9.16/envs/python39/lib/python3.9/site-packages (from nbconvert>=5->notebook>=4.4.1->widgetsnbextension~=3.6.0->ipywidgets->pfcc-extras->matviewer==0.1.1) (1.1.1)\n",
      "Requirement already satisfied: lxml in /usr/local/pyenv/versions/3.9.16/envs/python39/lib/python3.9/site-packages (from nbconvert>=5->notebook>=4.4.1->widgetsnbextension~=3.6.0->ipywidgets->pfcc-extras->matviewer==0.1.1) (4.9.1)\n",
      "Requirement already satisfied: jsonschema>=2.6 in /usr/local/pyenv/versions/3.9.16/envs/python39/lib/python3.9/site-packages (from nbformat->notebook>=4.4.1->widgetsnbextension~=3.6.0->ipywidgets->pfcc-extras->matviewer==0.1.1) (4.10.2)\n",
      "Requirement already satisfied: fastjsonschema in /usr/local/pyenv/versions/3.9.16/envs/python39/lib/python3.9/site-packages (from nbformat->notebook>=4.4.1->widgetsnbextension~=3.6.0->ipywidgets->pfcc-extras->matviewer==0.1.1) (2.16.1)\n",
      "Requirement already satisfied: argon2-cffi-bindings in /usr/local/pyenv/versions/3.9.16/envs/python39/lib/python3.9/site-packages (from argon2-cffi->notebook>=4.4.1->widgetsnbextension~=3.6.0->ipywidgets->pfcc-extras->matviewer==0.1.1) (21.2.0)\n",
      "Requirement already satisfied: attrs>=17.4.0 in /usr/local/pyenv/versions/3.9.16/envs/python39/lib/python3.9/site-packages (from jsonschema>=2.6->nbformat->notebook>=4.4.1->widgetsnbextension~=3.6.0->ipywidgets->pfcc-extras->matviewer==0.1.1) (22.1.0)\n",
      "Requirement already satisfied: pyrsistent!=0.17.0,!=0.17.1,!=0.17.2,>=0.14.0 in /usr/local/pyenv/versions/3.9.16/envs/python39/lib/python3.9/site-packages (from jsonschema>=2.6->nbformat->notebook>=4.4.1->widgetsnbextension~=3.6.0->ipywidgets->pfcc-extras->matviewer==0.1.1) (0.18.1)\n",
      "Requirement already satisfied: cffi>=1.0.1 in /usr/local/pyenv/versions/3.9.16/envs/python39/lib/python3.9/site-packages (from argon2-cffi-bindings->argon2-cffi->notebook>=4.4.1->widgetsnbextension~=3.6.0->ipywidgets->pfcc-extras->matviewer==0.1.1) (1.15.1)\n",
      "Requirement already satisfied: soupsieve>1.2 in /usr/local/pyenv/versions/3.9.16/envs/python39/lib/python3.9/site-packages (from beautifulsoup4->nbconvert>=5->notebook>=4.4.1->widgetsnbextension~=3.6.0->ipywidgets->pfcc-extras->matviewer==0.1.1) (2.3.2.post1)\n",
      "Requirement already satisfied: webencodings in /usr/local/pyenv/versions/3.9.16/envs/python39/lib/python3.9/site-packages (from bleach->nbconvert>=5->notebook>=4.4.1->widgetsnbextension~=3.6.0->ipywidgets->pfcc-extras->matviewer==0.1.1) (0.5.1)\n",
      "Requirement already satisfied: pycparser in /usr/local/pyenv/versions/3.9.16/envs/python39/lib/python3.9/site-packages (from cffi>=1.0.1->argon2-cffi-bindings->argon2-cffi->notebook>=4.4.1->widgetsnbextension~=3.6.0->ipywidgets->pfcc-extras->matviewer==0.1.1) (2.21)\n",
      "Using legacy 'setup.py install' for matviewer, since package 'wheel' is not installed.\n",
      "Installing collected packages: triton, nvidia-nvtx-cu12, nvidia-nvjitlink-cu12, nvidia-nccl-cu12, nvidia-curand-cu12, nvidia-cufft-cu12, nvidia-cuda-runtime-cu12, nvidia-cuda-nvrtc-cu12, nvidia-cuda-cupti-cu12, nvidia-cublas-cu12, cython, nvidia-cusparse-cu12, nvidia-cudnn-cu12, nvidia-cusolver-cu12, torch, matviewer\n",
      "  Running setup.py install for matviewer ... \u001b[?25ldone\n",
      "\u001b[?25hSuccessfully installed cython-3.0.10 matviewer-0.1.1 nvidia-cublas-cu12-12.1.3.1 nvidia-cuda-cupti-cu12-12.1.105 nvidia-cuda-nvrtc-cu12-12.1.105 nvidia-cuda-runtime-cu12-12.1.105 nvidia-cudnn-cu12-8.9.2.26 nvidia-cufft-cu12-11.0.2.54 nvidia-curand-cu12-10.3.2.106 nvidia-cusolver-cu12-11.4.5.107 nvidia-cusparse-cu12-12.1.0.106 nvidia-nccl-cu12-2.20.5 nvidia-nvjitlink-cu12-12.5.40 nvidia-nvtx-cu12-12.1.105 torch-2.3.1 triton-2.3.1\n",
      "\u001b[33mWARNING: You are using pip version 22.0.4; however, version 24.0 is available.\n",
      "You should consider upgrading via the '/home/jovyan/.py39/bin/python -m pip install --upgrade pip' command.\u001b[0m\u001b[33m\n",
      "\u001b[0m"
     ]
    }
   ],
   "source": [
    "!pip install  .. # To enable import from other folders"
   ]
  },
  {
   "cell_type": "markdown",
   "id": "e3ba46e6-ae9c-46e3-aee8-80e362265caf",
   "metadata": {
    "tags": []
   },
   "source": [
    "## Check install\n",
    "Please restart this kernel before executing following cells.<br>\n",
    "It is correctly installed when version is printed."
   ]
  },
  {
   "cell_type": "code",
   "execution_count": 2,
   "id": "378657e5-b730-4dc7-90f4-14c8973be6f2",
   "metadata": {
    "tags": []
   },
   "outputs": [
    {
     "data": {
      "application/vnd.jupyter.widget-view+json": {
       "model_id": "74356d3ee51c496e9816348557a96c68",
       "version_major": 2,
       "version_minor": 0
      },
      "text/plain": []
     },
     "metadata": {},
     "output_type": "display_data"
    },
    {
     "name": "stdout",
     "output_type": "stream",
     "text": [
      "matviewer version:  0.1.1\n"
     ]
    }
   ],
   "source": [
    "import matviewer\n",
    "print(\"matviewer version: \", matviewer.__version__)"
   ]
  },
  {
   "cell_type": "markdown",
   "id": "53fd3548-0529-45d5-87f9-6eb66483d2c7",
   "metadata": {
    "tags": []
   },
   "source": [
    "##  For uninstall\n"
   ]
  },
  {
   "cell_type": "code",
   "execution_count": null,
   "id": "6cbe264d-ce36-43db-8fa6-7f8c56997a0d",
   "metadata": {},
   "outputs": [],
   "source": [
    "#!pip uninstall matviewer -y"
   ]
  }
 ],
 "metadata": {
  "kernelspec": {
   "display_name": "Python 3.9",
   "language": "python",
   "name": "python39"
  },
  "language_info": {
   "codemirror_mode": {
    "name": "ipython",
    "version": 3
   },
   "file_extension": ".py",
   "mimetype": "text/x-python",
   "name": "python",
   "nbconvert_exporter": "python",
   "pygments_lexer": "ipython3",
   "version": "3.9.16"
  },
  "widgets": {
   "application/vnd.jupyter.widget-state+json": {
    "state": {
     "0d801925d2394e43885c703f4890d88a": {
      "model_module": "@jupyter-widgets/base",
      "model_module_version": "1.2.0",
      "model_name": "LayoutModel",
      "state": {}
     },
     "38c08e217e4f42dd834fbc40b4910bc2": {
      "model_module": "@jupyter-widgets/base",
      "model_module_version": "1.2.0",
      "model_name": "LayoutModel",
      "state": {}
     },
     "4d4f814da8a240ac93a05b930b646c82": {
      "model_module": "@jupyter-widgets/base",
      "model_module_version": "1.2.0",
      "model_name": "LayoutModel",
      "state": {}
     },
     "582cbd8617d74ac5bc018bfee11c938a": {
      "model_module": "@jupyter-widgets/controls",
      "model_module_version": "1.5.0",
      "model_name": "ButtonModel",
      "state": {
       "layout": "IPY_MODEL_38c08e217e4f42dd834fbc40b4910bc2",
       "style": "IPY_MODEL_952c529e997347438d2dbe62d1992db5"
      }
     },
     "6b427de3066e416385a4d80bf9d036bf": {
      "model_module": "@jupyter-widgets/controls",
      "model_module_version": "1.5.0",
      "model_name": "ButtonStyleModel",
      "state": {}
     },
     "715eceea71124b84abc4cef9fb75c6f8": {
      "model_module": "@jupyter-widgets/base",
      "model_module_version": "1.2.0",
      "model_name": "LayoutModel",
      "state": {}
     },
     "74356d3ee51c496e9816348557a96c68": {
      "model_module": "nglview-js-widgets",
      "model_module_version": "3.0.1",
      "model_name": "ColormakerRegistryModel",
      "state": {
       "_msg_ar": [],
       "_msg_q": [],
       "_ready": true,
       "layout": "IPY_MODEL_715eceea71124b84abc4cef9fb75c6f8"
      }
     },
     "952c529e997347438d2dbe62d1992db5": {
      "model_module": "@jupyter-widgets/controls",
      "model_module_version": "1.5.0",
      "model_name": "ButtonStyleModel",
      "state": {}
     },
     "98614672f2b74d4c998ccc5186258841": {
      "model_module": "@jupyter-widgets/controls",
      "model_module_version": "1.5.0",
      "model_name": "ButtonModel",
      "state": {
       "layout": "IPY_MODEL_aeaeac9fd5eb4a07a8990d8ade8d594d",
       "style": "IPY_MODEL_efcc1dae4b6e4adb9b40472180e0d723"
      }
     },
     "9e34083cd22f41829de558a60f81c14e": {
      "model_module": "@jupyter-widgets/controls",
      "model_module_version": "1.5.0",
      "model_name": "ButtonModel",
      "state": {
       "layout": "IPY_MODEL_0d801925d2394e43885c703f4890d88a",
       "style": "IPY_MODEL_6b427de3066e416385a4d80bf9d036bf"
      }
     },
     "aeaeac9fd5eb4a07a8990d8ade8d594d": {
      "model_module": "@jupyter-widgets/base",
      "model_module_version": "1.2.0",
      "model_name": "LayoutModel",
      "state": {}
     },
     "d93550f2a5cb4d25bd974cedc6f1f72e": {
      "model_module": "@jupyter-widgets/controls",
      "model_module_version": "1.5.0",
      "model_name": "ButtonModel",
      "state": {
       "layout": "IPY_MODEL_4d4f814da8a240ac93a05b930b646c82",
       "style": "IPY_MODEL_ecb06debf8c54e2ba5ffc3eeebf6906c"
      }
     },
     "ecb06debf8c54e2ba5ffc3eeebf6906c": {
      "model_module": "@jupyter-widgets/controls",
      "model_module_version": "1.5.0",
      "model_name": "ButtonStyleModel",
      "state": {}
     },
     "efcc1dae4b6e4adb9b40472180e0d723": {
      "model_module": "@jupyter-widgets/controls",
      "model_module_version": "1.5.0",
      "model_name": "ButtonStyleModel",
      "state": {}
     }
    },
    "version_major": 2,
    "version_minor": 0
   }
  }
 },
 "nbformat": 4,
 "nbformat_minor": 5
}
