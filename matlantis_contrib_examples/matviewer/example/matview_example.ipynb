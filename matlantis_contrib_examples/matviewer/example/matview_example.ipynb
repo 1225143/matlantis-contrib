{
 "cells": [
  {
   "cell_type": "markdown",
   "id": "dbf87237-524d-4782-b5e8-de6f0a2c56a9",
   "metadata": {
    "tags": []
   },
   "source": [
    "Copyright ENEOS, Corp. and  Preferred Computational Chemistry as contributors to Matlantis contrib project :2023/10/30 ENEOS Ibuka  \n",
    "### Matviewer  \n",
    " Matlantis で分子、結晶構造の取得、加工、OPT,NEB,VIB などの解析をGUIで行うツールです。  \n",
    " インストールをInstall.ipynbで一度実行すれば他のフォルダでも実行出来ます。  Python3.8,3.9に対応しています"
   ]
  },
  {
   "cell_type": "markdown",
   "id": "5d6126fc-5c15-41a3-b9ab-7c9fc23930a9",
   "metadata": {},
   "source": [
    "機能説明  "
   ]
  },
  {
   "cell_type": "markdown",
   "id": "2f6deb85-bccd-4021-98a6-264510f54ef5",
   "metadata": {
    "jupyter": {
     "source_hidden": true
    },
    "tags": []
   },
   "source": [
    "・全体  \n",
    "　　・初期左側　[Setting] が表示されCalc,面サイズ,色を設定できます。全画面モードも対応しています  \n",
    "　　・MatviewerではTraj番号#　とTraj内のimage番号##で表示、編集、計算を管理しています  \n",
    "　　・複数の構造を管理するためにはAdd# Add##　ボタンで更新領域Noを確保します。  \n",
    "　　　Del#,Del##で表示されている領域を削除できます。  \n",
    "　　・複数の##を持つTraj#ではplot ボタンを押すことでepot ,force を表示できます。  \n",
    "　　・[Save]  現在の登録すべてが保存されます。　次回起動するときはこれが読み込まれます。(zip化も同時にされ過去復元も可能）  \n",
    "　　・下のチェックボックスcalcで現在のenergy と max forceが表示されます。  \n",
    "　　　setボタンで登録した値との差分dEも表示されるのでNEBや吸着で便利です  \n",
    "  \n",
    "・ADD MENU  \n",
    "　　[FILE] 既存のAtoms または　traj ファイルを読込みます。複数構造に対応しています  \n",
    "　　[SILES or Draw]    JSMEによる分子描画またはSMILESからAtoms作成できます。  \n",
    "　　　　Conformer ボタンで同一SMILESでの他の構造を探索できます。  \n",
    "　　[Crystal]   Materials Project のデータ（mp.gz)から検索読込できます。serach後　view ボタンclick で表示読込できます。  \n",
    "  \n",
    "・EDIT MENU  \n",
    "　　[Move] 指定したindexの原子を移動、回転できます。　また原子距離を指定した移動もできます。　undo 対応しています  \n",
    "  　　　　index指定方法はpotistion index また conectでは指定番号とつながった分子の設定ができます（-1で最終原子指定可能）  \n",
    "  　　　　mult で接続判定値を制御できます  \n",
    "　　[Utiledit]  原子置換、削除が可能です。また番号のソートやwrap も可能です。   \n",
    "　　[Repeat]    atoms.repeat の機能です。　pbc=False の分子の場合自動で設定されますが、allowanceでサイズを設定できます   \n",
    "　　[Cell]    Cell の情報表示と設定が可能です  \n",
    "　　[Surface]  pymatgenのSlabGeneratorの機能です。 x,yは小さいスラブができるのでその後Repeat([2,2,1])等行うとよいです  \n",
    "　　[Attach]  Atoms0のa0 とAtoms1 のa1 の距離を指定して合体したAtoms を作成します。  \n",
    "　　　　他の原子同士の干渉ができるだけ無いように自動回転・移動した構造が作成されます。  \n",
    "　　　　NEBの初終構造作成や　モノマー→ダイマー→オリゴマー作成, スラブへの分子追加等で利用できます。  \n",
    "　　　　OPTを1以上の数設定すると距離固定のoptをすることができます。単純にA＋B(cellはAを踏襲）することもできます  \n",
    "　　[Liquid] 分子と数および密度を指定し液体構造を作成します。PFN社が開発liquid_generator Matlantis contribt を利用しています \n",
    "　　[Traj] Traj番号# image番号##を指定したコピー追加やスワップができます。\n",
    "\n",
    "  ・CALC MENU  \n",
    "　　[Setting]    Calcの設定　や画面サイズ（右側）、色（アプリ全体　NGL）設定できます。　全画面モードも対応しています。         \n",
    "　　[OPT]    LGBFS での構造最適化を行います。cellopt も選択可能。結果は./output/optにも保存.constraint はFixAtomsのみに対応\n",
    "　　[VIB]  　振動解析を行います。 view で指定した振動モードの動きも確認できます。温度も設定できます。  \n",
    "　　　　　前回実施したatoms および./output/vib/内のtrajではVIB情報をREAD可能です。  \n",
    "　　[Thermo]  VIB設定されているatoms でThermo、HARMONIC条件でのエネルギー計算が可能です。  \n",
    "　　[MD_NVT]  NVTができます。数千イタレーション以内での実行のみ動作確認しています。  "
   ]
  },
  {
   "cell_type": "code",
   "execution_count": null,
   "id": "1d5ae962-571e-4cff-8bec-8cd9d5b230e1",
   "metadata": {
    "tags": []
   },
   "outputs": [],
   "source": [
    "import matviewer "
   ]
  },
  {
   "cell_type": "code",
   "execution_count": null,
   "id": "73c3477c-c8f9-4cfa-93e5-e5fd669a5398",
   "metadata": {},
   "outputs": [],
   "source": [
    "matv = matviewer.Matviewer()"
   ]
  },
  {
   "cell_type": "code",
   "execution_count": null,
   "id": "44eee976-61fe-453c-ae1c-26c753b5ace5",
   "metadata": {
    "tags": []
   },
   "outputs": [],
   "source": [
    "matv"
   ]
  },
  {
   "cell_type": "code",
   "execution_count": 4,
   "id": "cb7644b7-85ee-4365-b314-8ce2f0eb355f",
   "metadata": {
    "tags": []
   },
   "outputs": [
    {
     "data": {
      "text/plain": [
       "Atoms(symbols='Au', pbc=False)"
      ]
     },
     "execution_count": 4,
     "metadata": {},
     "output_type": "execute_result"
    }
   ],
   "source": [
    "#表示しているatoms\n",
    "matv.atoms"
   ]
  },
  {
   "cell_type": "code",
   "execution_count": 5,
   "id": "21b1bab8-a8db-4551-9df2-3bdaad46988d",
   "metadata": {
    "tags": []
   },
   "outputs": [
    {
     "data": {
      "text/plain": [
       "Atoms(symbols='Au', pbc=False)"
      ]
     },
     "execution_count": 5,
     "metadata": {},
     "output_type": "execute_result"
    }
   ],
   "source": [
    "#latoms_list　ADD# ##で登録したAtoms のリストのリスト\n",
    "matv.latoms_list[-1][0]"
   ]
  },
  {
   "cell_type": "code",
   "execution_count": 6,
   "id": "eb165644-7514-47b0-bf29-0d2b8d1c5c22",
   "metadata": {
    "tags": []
   },
   "outputs": [],
   "source": [
    "#別作業からのAtomsの追加\n",
    "import ase\n",
    "o2 = ase.Atoms(\"O2\",[[0,0,0],[0,0,1]])\n",
    "matv + o2 \n",
    "#matv.add_atoms(o2) 　でも可能"
   ]
  },
  {
   "cell_type": "code",
   "execution_count": 7,
   "id": "df414776-52ff-4a06-ad5c-9691f0532124",
   "metadata": {
    "tags": []
   },
   "outputs": [],
   "source": [
    "#別作業からのAtoms listの追加\n",
    "h2 = ase.Atoms(\"H2\",[[0,0,0],[0,0,0.75]])\n",
    "matv.add_atoms([h2,o2])\n",
    "#matv + [o2,h2] 出も可能"
   ]
  },
  {
   "cell_type": "code",
   "execution_count": 8,
   "id": "5c98d09b-239d-4346-9590-51476793c6de",
   "metadata": {
    "tags": []
   },
   "outputs": [
    {
     "data": {
      "text/plain": [
       "'results'"
      ]
     },
     "metadata": {},
     "output_type": "display_data"
    },
    {
     "data": {
      "text/html": [
       "<div>\n",
       "<style scoped>\n",
       "    .dataframe tbody tr th:only-of-type {\n",
       "        vertical-align: middle;\n",
       "    }\n",
       "\n",
       "    .dataframe tbody tr th {\n",
       "        vertical-align: top;\n",
       "    }\n",
       "\n",
       "    .dataframe thead th {\n",
       "        text-align: right;\n",
       "    }\n",
       "</style>\n",
       "<table border=\"1\" class=\"dataframe\">\n",
       "  <thead>\n",
       "    <tr style=\"text-align: right;\">\n",
       "      <th></th>\n",
       "      <th>material_id</th>\n",
       "      <th>pretty_formula</th>\n",
       "      <th>energy</th>\n",
       "      <th>e_above_hull</th>\n",
       "      <th>is_hubbard</th>\n",
       "      <th>elements</th>\n",
       "      <th>atoms</th>\n",
       "    </tr>\n",
       "  </thead>\n",
       "  <tbody>\n",
       "    <tr>\n",
       "      <th>0</th>\n",
       "      <td>mp-13</td>\n",
       "      <td>Fe</td>\n",
       "      <td>-8.4700</td>\n",
       "      <td>0.0000</td>\n",
       "      <td>False</td>\n",
       "      <td>[Fe]</td>\n",
       "      <td>(Atom('Fe', [0.0, 0.0, 0.0...</td>\n",
       "    </tr>\n",
       "    <tr>\n",
       "      <th>1</th>\n",
       "      <td>mp-136</td>\n",
       "      <td>Fe</td>\n",
       "      <td>-16.7444</td>\n",
       "      <td>0.0978</td>\n",
       "      <td>False</td>\n",
       "      <td>[Fe]</td>\n",
       "      <td>(Atom('Fe', [-1.0390743909...</td>\n",
       "    </tr>\n",
       "    <tr>\n",
       "      <th>2</th>\n",
       "      <td>mp-150</td>\n",
       "      <td>Fe</td>\n",
       "      <td>-8.3217</td>\n",
       "      <td>0.1484</td>\n",
       "      <td>False</td>\n",
       "      <td>[Fe]</td>\n",
       "      <td>(Atom('Fe', [0.0, 0.0, 0.0...</td>\n",
       "    </tr>\n",
       "    <tr>\n",
       "      <th>3</th>\n",
       "      <td>mp-1456</td>\n",
       "      <td>Fe2O3</td>\n",
       "      <td>-1060.7866</td>\n",
       "      <td>0.1194</td>\n",
       "      <td>True</td>\n",
       "      <td>[Fe, O]</td>\n",
       "      <td>(Atom('Fe', [2.10901045799...</td>\n",
       "    </tr>\n",
       "    <tr>\n",
       "      <th>4</th>\n",
       "      <td>mp-12957</td>\n",
       "      <td>O2</td>\n",
       "      <td>-39.5837</td>\n",
       "      <td>0.0000</td>\n",
       "      <td>False</td>\n",
       "      <td>[O]</td>\n",
       "      <td>(Atom('O', [4.521114349365...</td>\n",
       "    </tr>\n",
       "  </tbody>\n",
       "</table>\n",
       "</div>"
      ],
      "text/plain": [
       "  material_id pretty_formula     energy  e_above_hull  is_hubbard elements  \\\n",
       "0       mp-13             Fe    -8.4700        0.0000       False     [Fe]   \n",
       "1      mp-136             Fe   -16.7444        0.0978       False     [Fe]   \n",
       "2      mp-150             Fe    -8.3217        0.1484       False     [Fe]   \n",
       "3     mp-1456          Fe2O3 -1060.7866        0.1194        True  [Fe, O]   \n",
       "4    mp-12957             O2   -39.5837        0.0000       False      [O]   \n",
       "\n",
       "                           atoms  \n",
       "0  (Atom('Fe', [0.0, 0.0, 0.0...  \n",
       "1  (Atom('Fe', [-1.0390743909...  \n",
       "2  (Atom('Fe', [0.0, 0.0, 0.0...  \n",
       "3  (Atom('Fe', [2.10901045799...  \n",
       "4  (Atom('O', [4.521114349365...  "
      ]
     },
     "metadata": {},
     "output_type": "display_data"
    },
    {
     "data": {
      "text/plain": [
       "'mp-db all'"
      ]
     },
     "metadata": {},
     "output_type": "display_data"
    },
    {
     "data": {
      "text/html": [
       "<div>\n",
       "<style scoped>\n",
       "    .dataframe tbody tr th:only-of-type {\n",
       "        vertical-align: middle;\n",
       "    }\n",
       "\n",
       "    .dataframe tbody tr th {\n",
       "        vertical-align: top;\n",
       "    }\n",
       "\n",
       "    .dataframe thead th {\n",
       "        text-align: right;\n",
       "    }\n",
       "</style>\n",
       "<table border=\"1\" class=\"dataframe\">\n",
       "  <thead>\n",
       "    <tr style=\"text-align: right;\">\n",
       "      <th></th>\n",
       "      <th>material_id</th>\n",
       "      <th>pretty_formula</th>\n",
       "      <th>energy</th>\n",
       "      <th>e_above_hull</th>\n",
       "      <th>is_hubbard</th>\n",
       "      <th>elements</th>\n",
       "      <th>atoms</th>\n",
       "    </tr>\n",
       "  </thead>\n",
       "  <tbody>\n",
       "    <tr>\n",
       "      <th>0</th>\n",
       "      <td>mp-1</td>\n",
       "      <td>Cs</td>\n",
       "      <td>-0.8566</td>\n",
       "      <td>0.0388</td>\n",
       "      <td>False</td>\n",
       "      <td>[Cs]</td>\n",
       "      <td>(Atom('Cs', [0.0, 0.0, 0.0...</td>\n",
       "    </tr>\n",
       "    <tr>\n",
       "      <th>1</th>\n",
       "      <td>mp-2</td>\n",
       "      <td>Pd</td>\n",
       "      <td>-5.1799</td>\n",
       "      <td>0.0000</td>\n",
       "      <td>False</td>\n",
       "      <td>[Pd]</td>\n",
       "      <td>(Atom('Pd', [0.0, 0.0, 0.0...</td>\n",
       "    </tr>\n",
       "    <tr>\n",
       "      <th>2</th>\n",
       "      <td>mp-3</td>\n",
       "      <td>Cs</td>\n",
       "      <td>-1.5980</td>\n",
       "      <td>0.0964</td>\n",
       "      <td>False</td>\n",
       "      <td>[Cs]</td>\n",
       "      <td>(Atom('Cs', [3.67067623138...</td>\n",
       "    </tr>\n",
       "    <tr>\n",
       "      <th>3</th>\n",
       "      <td>mp-4</td>\n",
       "      <td>Nd</td>\n",
       "      <td>-4.6282</td>\n",
       "      <td>0.1400</td>\n",
       "      <td>False</td>\n",
       "      <td>[Nd]</td>\n",
       "      <td>(Atom('Nd', [0.0, 0.0, 0.0...</td>\n",
       "    </tr>\n",
       "    <tr>\n",
       "      <th>4</th>\n",
       "      <td>mp-7</td>\n",
       "      <td>S</td>\n",
       "      <td>-24.4317</td>\n",
       "      <td>0.0645</td>\n",
       "      <td>False</td>\n",
       "      <td>[S]</td>\n",
       "      <td>(Atom('S', [-2.10661840438...</td>\n",
       "    </tr>\n",
       "  </tbody>\n",
       "</table>\n",
       "</div>"
      ],
      "text/plain": [
       "  material_id pretty_formula   energy  e_above_hull  is_hubbard elements  \\\n",
       "0        mp-1             Cs  -0.8566        0.0388       False     [Cs]   \n",
       "1        mp-2             Pd  -5.1799        0.0000       False     [Pd]   \n",
       "2        mp-3             Cs  -1.5980        0.0964       False     [Cs]   \n",
       "3        mp-4             Nd  -4.6282        0.1400       False     [Nd]   \n",
       "4        mp-7              S -24.4317        0.0645       False      [S]   \n",
       "\n",
       "                           atoms  \n",
       "0  (Atom('Cs', [0.0, 0.0, 0.0...  \n",
       "1  (Atom('Pd', [0.0, 0.0, 0.0...  \n",
       "2  (Atom('Cs', [3.67067623138...  \n",
       "3  (Atom('Nd', [0.0, 0.0, 0.0...  \n",
       "4  (Atom('S', [-2.10661840438...  "
      ]
     },
     "metadata": {},
     "output_type": "display_data"
    }
   ],
   "source": [
    "#ADD-Crystal で検索後\n",
    "display(\"results\",matv.crystalsearch.cands.head())\n",
    "display(\"mp-db all\",matv.crystalsearch.df.head())"
   ]
  },
  {
   "cell_type": "code",
   "execution_count": 12,
   "id": "ac3db7f1-d040-48b0-a54c-1f84db0abb38",
   "metadata": {
    "tags": []
   },
   "outputs": [
    {
     "data": {
      "text/plain": [
       "'results'"
      ]
     },
     "metadata": {},
     "output_type": "display_data"
    },
    {
     "data": {
      "text/html": [
       "<div>\n",
       "<style scoped>\n",
       "    .dataframe tbody tr th:only-of-type {\n",
       "        vertical-align: middle;\n",
       "    }\n",
       "\n",
       "    .dataframe tbody tr th {\n",
       "        vertical-align: top;\n",
       "    }\n",
       "\n",
       "    .dataframe thead th {\n",
       "        text-align: right;\n",
       "    }\n",
       "</style>\n",
       "<table border=\"1\" class=\"dataframe\">\n",
       "  <thead>\n",
       "    <tr style=\"text-align: right;\">\n",
       "      <th></th>\n",
       "      <th>qmof_id</th>\n",
       "      <th>name</th>\n",
       "      <th>formula</th>\n",
       "      <th>smiles</th>\n",
       "      <th>pbe</th>\n",
       "      <th>pfp5_U0D3</th>\n",
       "      <th>atoms</th>\n",
       "      <th>elements</th>\n",
       "    </tr>\n",
       "  </thead>\n",
       "  <tbody>\n",
       "    <tr>\n",
       "      <th>0</th>\n",
       "      <td>qmof-644aab4</td>\n",
       "      <td>ABAXUZ_FSR</td>\n",
       "      <td>Zn2C50H32N6O8S4</td>\n",
       "      <td>[O-]C(=O)c1cccc(c1)c1nccs1...</td>\n",
       "      <td>-6.8708</td>\n",
       "      <td>-6.8703</td>\n",
       "      <td>(Atom('Zn', [5.67668749641...</td>\n",
       "      <td>[Zn, C, H, N, S, O]</td>\n",
       "    </tr>\n",
       "    <tr>\n",
       "      <th>1</th>\n",
       "      <td>qmof-f364177</td>\n",
       "      <td>ABAZAF01_FSR</td>\n",
       "      <td>Zn4C104H76N12O20</td>\n",
       "      <td>Oc1cc(cc(c1)C(=O)[O-])C(=O...</td>\n",
       "      <td>-6.8378</td>\n",
       "      <td>-6.8369</td>\n",
       "      <td>(Atom('Zn', [7.55787377436...</td>\n",
       "      <td>[Zn, C, H, N, O]</td>\n",
       "    </tr>\n",
       "    <tr>\n",
       "      <th>2</th>\n",
       "      <td>qmof-d2e3fe6</td>\n",
       "      <td>ABAZAF_FSR</td>\n",
       "      <td>Zn4C104H76N12O20</td>\n",
       "      <td>Oc1cc(cc(c1)C(=O)[O-])C(=O...</td>\n",
       "      <td>-6.8368</td>\n",
       "      <td>-6.8356</td>\n",
       "      <td>(Atom('Zn', [7.25302010411...</td>\n",
       "      <td>[Zn, C, H, N, O]</td>\n",
       "    </tr>\n",
       "    <tr>\n",
       "      <th>3</th>\n",
       "      <td>qmof-6c434d5</td>\n",
       "      <td>ACENIF_FSR</td>\n",
       "      <td>Zn12C76H80N8O40</td>\n",
       "      <td>[O-]C(=O)C.[O]C(c1ccccn1)(...</td>\n",
       "      <td>-6.3192</td>\n",
       "      <td>-6.3177</td>\n",
       "      <td>(Atom('Zn', [-5.3284594199...</td>\n",
       "      <td>[Zn, C, H, N, O]</td>\n",
       "    </tr>\n",
       "    <tr>\n",
       "      <th>4</th>\n",
       "      <td>qmof-9b03351</td>\n",
       "      <td>ACIKAA_FSR</td>\n",
       "      <td>Zn2C26H40N8O18S4</td>\n",
       "      <td>[O-]C(=O)C[NH](CC(=O)O)CCC...</td>\n",
       "      <td>-6.1440</td>\n",
       "      <td>-6.1451</td>\n",
       "      <td>(Atom('Zn', [1.80082631229...</td>\n",
       "      <td>[Zn, C, H, N, S, O]</td>\n",
       "    </tr>\n",
       "  </tbody>\n",
       "</table>\n",
       "</div>"
      ],
      "text/plain": [
       "        qmof_id          name           formula  \\\n",
       "0  qmof-644aab4    ABAXUZ_FSR   Zn2C50H32N6O8S4   \n",
       "1  qmof-f364177  ABAZAF01_FSR  Zn4C104H76N12O20   \n",
       "2  qmof-d2e3fe6    ABAZAF_FSR  Zn4C104H76N12O20   \n",
       "3  qmof-6c434d5    ACENIF_FSR   Zn12C76H80N8O40   \n",
       "4  qmof-9b03351    ACIKAA_FSR  Zn2C26H40N8O18S4   \n",
       "\n",
       "                          smiles     pbe  pfp5_U0D3  \\\n",
       "0  [O-]C(=O)c1cccc(c1)c1nccs1... -6.8708    -6.8703   \n",
       "1  Oc1cc(cc(c1)C(=O)[O-])C(=O... -6.8378    -6.8369   \n",
       "2  Oc1cc(cc(c1)C(=O)[O-])C(=O... -6.8368    -6.8356   \n",
       "3  [O-]C(=O)C.[O]C(c1ccccn1)(... -6.3192    -6.3177   \n",
       "4  [O-]C(=O)C[NH](CC(=O)O)CCC... -6.1440    -6.1451   \n",
       "\n",
       "                           atoms             elements  \n",
       "0  (Atom('Zn', [5.67668749641...  [Zn, C, H, N, S, O]  \n",
       "1  (Atom('Zn', [7.55787377436...     [Zn, C, H, N, O]  \n",
       "2  (Atom('Zn', [7.25302010411...     [Zn, C, H, N, O]  \n",
       "3  (Atom('Zn', [-5.3284594199...     [Zn, C, H, N, O]  \n",
       "4  (Atom('Zn', [1.80082631229...  [Zn, C, H, N, S, O]  "
      ]
     },
     "metadata": {},
     "output_type": "display_data"
    },
    {
     "data": {
      "text/plain": [
       "'mof-db all'"
      ]
     },
     "metadata": {},
     "output_type": "display_data"
    },
    {
     "data": {
      "text/html": [
       "<div>\n",
       "<style scoped>\n",
       "    .dataframe tbody tr th:only-of-type {\n",
       "        vertical-align: middle;\n",
       "    }\n",
       "\n",
       "    .dataframe tbody tr th {\n",
       "        vertical-align: top;\n",
       "    }\n",
       "\n",
       "    .dataframe thead th {\n",
       "        text-align: right;\n",
       "    }\n",
       "</style>\n",
       "<table border=\"1\" class=\"dataframe\">\n",
       "  <thead>\n",
       "    <tr style=\"text-align: right;\">\n",
       "      <th></th>\n",
       "      <th>qmof_id</th>\n",
       "      <th>name</th>\n",
       "      <th>formula</th>\n",
       "      <th>smiles</th>\n",
       "      <th>pbe</th>\n",
       "      <th>pfp5_U0D3</th>\n",
       "      <th>atoms</th>\n",
       "      <th>elements</th>\n",
       "    </tr>\n",
       "  </thead>\n",
       "  <tbody>\n",
       "    <tr>\n",
       "      <th>0</th>\n",
       "      <td>qmof-8a95c27</td>\n",
       "      <td>ABACUF01_FSR</td>\n",
       "      <td>Ba2CuC6H14O16</td>\n",
       "      <td>O.[Ba].[Cu].[O-]C=O</td>\n",
       "      <td>-6.1195</td>\n",
       "      <td>-6.1238</td>\n",
       "      <td>(Atom('Ba', [2.44733698313...</td>\n",
       "      <td>[C, H, Cu, O, Ba]</td>\n",
       "    </tr>\n",
       "    <tr>\n",
       "      <th>1</th>\n",
       "      <td>qmof-019ba28</td>\n",
       "      <td>ABALOF_FSR</td>\n",
       "      <td>Cu12C36H56I16N4S4</td>\n",
       "      <td>None</td>\n",
       "      <td>-5.2504</td>\n",
       "      <td>-5.2527</td>\n",
       "      <td>(Atom('Cu', [5.32810000616...</td>\n",
       "      <td>[C, H, I, N, S, Cu]</td>\n",
       "    </tr>\n",
       "    <tr>\n",
       "      <th>2</th>\n",
       "      <td>qmof-830ed1c</td>\n",
       "      <td>ABAVIJ_FSR</td>\n",
       "      <td>Co4C48H32N8O16</td>\n",
       "      <td>[Co].[O-]C(=O)c1ccncc1</td>\n",
       "      <td>-7.0370</td>\n",
       "      <td>-7.0359</td>\n",
       "      <td>(Atom('Co', [5.26454985649...</td>\n",
       "      <td>[Co, C, H, N, O]</td>\n",
       "    </tr>\n",
       "    <tr>\n",
       "      <th>3</th>\n",
       "      <td>qmof-5bd4a24</td>\n",
       "      <td>ABAVOP_FSR</td>\n",
       "      <td>Co4C48H32N8O16</td>\n",
       "      <td>[Co].[O-]C(=O)c1ccncc1</td>\n",
       "      <td>-7.0380</td>\n",
       "      <td>-7.0366</td>\n",
       "      <td>(Atom('Co', [0.00014692393...</td>\n",
       "      <td>[Co, C, H, N, O]</td>\n",
       "    </tr>\n",
       "    <tr>\n",
       "      <th>4</th>\n",
       "      <td>qmof-644aab4</td>\n",
       "      <td>ABAXUZ_FSR</td>\n",
       "      <td>Zn2C50H32N6O8S4</td>\n",
       "      <td>[O-]C(=O)c1cccc(c1)c1nccs1...</td>\n",
       "      <td>-6.8708</td>\n",
       "      <td>-6.8703</td>\n",
       "      <td>(Atom('Zn', [5.67668749641...</td>\n",
       "      <td>[Zn, C, H, N, S, O]</td>\n",
       "    </tr>\n",
       "  </tbody>\n",
       "</table>\n",
       "</div>"
      ],
      "text/plain": [
       "        qmof_id          name            formula  \\\n",
       "0  qmof-8a95c27  ABACUF01_FSR      Ba2CuC6H14O16   \n",
       "1  qmof-019ba28    ABALOF_FSR  Cu12C36H56I16N4S4   \n",
       "2  qmof-830ed1c    ABAVIJ_FSR     Co4C48H32N8O16   \n",
       "3  qmof-5bd4a24    ABAVOP_FSR     Co4C48H32N8O16   \n",
       "4  qmof-644aab4    ABAXUZ_FSR    Zn2C50H32N6O8S4   \n",
       "\n",
       "                          smiles     pbe  pfp5_U0D3  \\\n",
       "0            O.[Ba].[Cu].[O-]C=O -6.1195    -6.1238   \n",
       "1                           None -5.2504    -5.2527   \n",
       "2         [Co].[O-]C(=O)c1ccncc1 -7.0370    -7.0359   \n",
       "3         [Co].[O-]C(=O)c1ccncc1 -7.0380    -7.0366   \n",
       "4  [O-]C(=O)c1cccc(c1)c1nccs1... -6.8708    -6.8703   \n",
       "\n",
       "                           atoms             elements  \n",
       "0  (Atom('Ba', [2.44733698313...    [C, H, Cu, O, Ba]  \n",
       "1  (Atom('Cu', [5.32810000616...  [C, H, I, N, S, Cu]  \n",
       "2  (Atom('Co', [5.26454985649...     [Co, C, H, N, O]  \n",
       "3  (Atom('Co', [0.00014692393...     [Co, C, H, N, O]  \n",
       "4  (Atom('Zn', [5.67668749641...  [Zn, C, H, N, S, O]  "
      ]
     },
     "metadata": {},
     "output_type": "display_data"
    }
   ],
   "source": [
    "#ADD-MOF で検索後\n",
    "display(\"results\",matv.mofsearch.cands.head())\n",
    "display(\"mof-db all\",matv.mofsearch.df.head())"
   ]
  },
  {
   "cell_type": "code",
   "execution_count": null,
   "id": "a44b6db0-fb05-46a2-9bc1-8a6663cf78ef",
   "metadata": {},
   "outputs": [],
   "source": []
  },
  {
   "cell_type": "markdown",
   "id": "fdc1e03a-c5c5-4d67-9e2d-dd4a60646d38",
   "metadata": {},
   "source": [
    "更新履歴"
   ]
  },
  {
   "cell_type": "markdown",
   "id": "95a5d05d-50e6-4059-9dec-6174a729eaee",
   "metadata": {
    "jupyter": {
     "source_hidden": true
    },
    "tags": []
   },
   "source": [
    "8/1  :v0.0.1 初回リリース  \n",
    "8/16 :v0.0.2  \n",
    "・[Setting] Calcの設定　や画面サイズ,全画面モード,色対応、LightMode可視対応  \n",
    "・Installer autodE およびcython もない人が入るように 追加  \n",
    "・Liquidgenerator を別ファイルに（torch  import メモリが大きく必要なときのみ実行）   \n",
    "8/18 :v0.0.3  \n",
    "・OPTにfixbond 追加、　画面各種微修正、nglview メモリ削除し、動作重くなる問題回避  \n",
    "8/24 :v0.0.4:  \n",
    "・画面修正　trajあるもののみスライダー表示するようにし　そこにplotボタンも追加  \n",
    "・OPT,NEB,グラフ表示機能追加　、特に速さを体感する上でも価値あり。またTrajのplotも並列計算で高速化   \n",
    "・plotly 一回目遅い問題回避のため、treadバックグラウンド実行  \n",
    "・AttachのPBC対応 触媒表面吸着でも利用できるように  \n",
    "9/12 :V0.1.0  \n",
    " ・OOM対応最大値設定 Atoms:20000原子:Traj数500:ファイル表示500,500MB Liq:1000原子,vib500原子  \n",
    " ・分子　SMILES conformer 対応  \n",
    " ・vib 保存・読込機能　（Atoms の atoms.info にdeltaやH等書き込み  \n",
    " ・thermo 対応 IDEAL と HARMO （CRYSTALは未）　グラフも表示  \n",
    " ・EDITにULITEDIT:wrap機能,EDIT CELL設定機能,Traj:Traj編集機能,Attach:A＋B（Aセル保持）を追加  \n",
    " ・複数のイメージを返す処理は　Ｔraj# を追加し、それ以外は　# ## を上書きするように設定   \n",
    "10/30 :V0.1.1  \n",
    "  ・Python3.9に対応（Pandas pikcle 互換)  \n",
    "  ・Crystal IDやFormulaでも検索可能とした  \n",
    "  ・MOFS追加  "
   ]
  },
  {
   "cell_type": "markdown",
   "id": "d2ea2130-a779-418e-a378-1ce84e6c6cc2",
   "metadata": {},
   "source": [
    "既知の問題\n",
    "  ・メモリ１G以上程度消費します。エラー処理は不十分。自己責任にてご利用ください"
   ]
  },
  {
   "cell_type": "code",
   "execution_count": null,
   "id": "eaa8ec5d-556f-4bd3-bfdc-a281c8a97d2f",
   "metadata": {},
   "outputs": [],
   "source": []
  }
 ],
 "metadata": {
  "kernelspec": {
   "display_name": "Python 3.8",
   "language": "python",
   "name": "python38"
  },
  "language_info": {
   "codemirror_mode": {
    "name": "ipython",
    "version": 3
   },
   "file_extension": ".py",
   "mimetype": "text/x-python",
   "name": "python",
   "nbconvert_exporter": "python",
   "pygments_lexer": "ipython3",
   "version": "3.8.13"
  },
  "widgets": {
   "application/vnd.jupyter.widget-state+json": {
    "state": {
     "00401ced4250434da65f2d085182c377": {
      "model_module": "@jupyter-widgets/controls",
      "model_module_version": "1.5.0",
      "model_name": "CheckboxModel",
      "state": {
       "description": "pbc",
       "disabled": false,
       "indent": false,
       "layout": "IPY_MODEL_3ffcc3acf5e949019f7cbd50bd39e888",
       "style": "IPY_MODEL_fbc1178272bd4ee2b61740a7edc27170",
       "value": true
      }
     },
     "00abc219297540ffa1a5a5cc4a53515a": {
      "model_module": "@jupyter-widgets/base",
      "model_module_version": "1.2.0",
      "model_name": "LayoutModel",
      "state": {
       "width": "100px"
      }
     },
     "00d3efee0b2d4473a43407ddb86a9650": {
      "model_module": "@jupyter-widgets/controls",
      "model_module_version": "1.5.0",
      "model_name": "HBoxModel",
      "state": {
       "children": [
        "IPY_MODEL_0d1ea6372af949c4b988423bd8ae1921",
        "IPY_MODEL_7f010e65a6c749dfa51e7d5cce2d4811"
       ],
       "layout": "IPY_MODEL_d31f0b2f27e94714ae0e6892eddd5697"
      }
     },
     "01ef1c91370548c084041f3f341d50ba": {
      "model_module": "@jupyter-widgets/base",
      "model_module_version": "1.2.0",
      "model_name": "LayoutModel",
      "state": {
       "width": "130px"
      }
     },
     "0271d2d6006149dbbf04b67a69eea86d": {
      "model_module": "@jupyter-widgets/controls",
      "model_module_version": "1.5.0",
      "model_name": "ButtonModel",
      "state": {
       "description": "Insert allB after A[##]",
       "layout": "IPY_MODEL_f62f7841880e46e5a471f46d9e86ee4f",
       "style": "IPY_MODEL_92c15e65d54749d687df04e5ce7c5789"
      }
     },
     "02ed66544d3c41c4a16b1bcdc176da3a": {
      "model_module": "@jupyter-widgets/controls",
      "model_module_version": "1.5.0",
      "model_name": "VBoxModel",
      "state": {
       "children": [
        "IPY_MODEL_6bf34dad99074f109c2577a5490c5679",
        "IPY_MODEL_35892248e2174674a050ecfa8b15a435"
       ],
       "layout": "IPY_MODEL_37809fbe524042aca6d92264dcd254bb"
      }
     },
     "0323db12e4a84e16834a0cedd48e8bf3": {
      "model_module": "@jupyter-widgets/controls",
      "model_module_version": "1.5.0",
      "model_name": "HBoxModel",
      "state": {
       "children": [
        "IPY_MODEL_13404a434f0e4f69b974430bc5f07342",
        "IPY_MODEL_dea9769be3604072bf235b4c0a213ac3"
       ],
       "layout": "IPY_MODEL_ad30226b8ef64d999fa95845e1d93b9f"
      }
     },
     "0398c0f032ec4f74a547030ddab7670d": {
      "model_module": "@jupyter-widgets/controls",
      "model_module_version": "1.5.0",
      "model_name": "LabelModel",
      "state": {
       "layout": "IPY_MODEL_77cbd3c192344bf08e4a154706de53de",
       "style": "IPY_MODEL_264137170fa94dc19f98ed4a9c9505af",
       "value": "PFP setting"
      }
     },
     "03a4dfc378664f3e9915152660d754b1": {
      "model_module": "@jupyter-widgets/controls",
      "model_module_version": "1.5.0",
      "model_name": "DescriptionStyleModel",
      "state": {
       "description_width": ""
      }
     },
     "03a93b6da1cf49469b62ee49858ca95d": {
      "model_module": "@jupyter-widgets/base",
      "model_module_version": "1.2.0",
      "model_name": "LayoutModel",
      "state": {
       "width": "110px"
      }
     },
     "041da5fe1a234f779423bb26c20b90ee": {
      "model_module": "@jupyter-widgets/controls",
      "model_module_version": "1.5.0",
      "model_name": "ButtonModel",
      "state": {
       "description": " Center",
       "icon": "bullseye",
       "layout": "IPY_MODEL_b718dd88f344412fb0e402b07fabb101",
       "style": "IPY_MODEL_d2056fc053fd4f8e9598eebc6d9fb8b0"
      }
     },
     "044c6e0828504a10b85b921635b82340": {
      "model_module": "@jupyter-widgets/controls",
      "model_module_version": "1.5.0",
      "model_name": "HBoxModel",
      "state": {
       "children": [
        "IPY_MODEL_a3c9ff79ac904d748c2fc16074bc8510",
        "IPY_MODEL_1fa23c14055d43289f00526ceb89fd7d"
       ],
       "layout": "IPY_MODEL_6efaf4f4c97345e096f2a2a68b72e512"
      }
     },
     "047723f898804ffe803931c8a19232ab": {
      "model_module": "@jupyter-widgets/base",
      "model_module_version": "1.2.0",
      "model_name": "LayoutModel",
      "state": {}
     },
     "04af0f8a5b754aa787ccfd99d5476541": {
      "model_module": "@jupyter-widgets/controls",
      "model_module_version": "1.5.0",
      "model_name": "ButtonStyleModel",
      "state": {}
     },
     "04d9742085594b769c9c8e837e4d0e83": {
      "model_module": "@jupyter-widgets/controls",
      "model_module_version": "1.5.0",
      "model_name": "DescriptionStyleModel",
      "state": {
       "description_width": ""
      }
     },
     "0500a186e71e461986a4b4596facddde": {
      "model_module": "@jupyter-widgets/controls",
      "model_module_version": "1.5.0",
      "model_name": "DescriptionStyleModel",
      "state": {
       "description_width": ""
      }
     },
     "0573e7a5ce9543c690ea889f3ad75f82": {
      "model_module": "@jupyter-widgets/base",
      "model_module_version": "1.2.0",
      "model_name": "LayoutModel",
      "state": {
       "height": "30px",
       "width": "57px"
      }
     },
     "057dfd52833a45889096f9e6223f9572": {
      "model_module": "@jupyter-widgets/controls",
      "model_module_version": "1.5.0",
      "model_name": "DropdownModel",
      "state": {
       "_options_labels": [
        "x",
        "y",
        "z"
       ],
       "description": "direction",
       "index": 0,
       "layout": "IPY_MODEL_e340b7cdd8ae4ea09ca8e311d6673cea",
       "style": "IPY_MODEL_9ff7817561b6470b847e9e334bd43c2e"
      }
     },
     "061974b5b7a1479c996f1b62655f8cb8": {
      "model_module": "@jupyter-widgets/base",
      "model_module_version": "1.2.0",
      "model_name": "LayoutModel",
      "state": {
       "width": "380px"
      }
     },
     "062afaa619e645a1b88f786e54074a8e": {
      "model_module": "@jupyter-widgets/base",
      "model_module_version": "1.2.0",
      "model_name": "LayoutModel",
      "state": {
       "height": "40px"
      }
     },
     "067371bac4e949a182257d8c773514d1": {
      "model_module": "@jupyter-widgets/controls",
      "model_module_version": "1.5.0",
      "model_name": "VBoxModel",
      "state": {
       "children": [
        "IPY_MODEL_89960ac976e44a9196622c6a2119a365",
        "IPY_MODEL_64da7de71afb4fbf8ab04e21e8ecd6a5",
        "IPY_MODEL_28f73d1092d840f3a2c9d157bf469ff4",
        "IPY_MODEL_78ac3b5b82ca4521aa1507ba09b2a154",
        "IPY_MODEL_141cdf46cc9d4929a8f03394277acced",
        "IPY_MODEL_21bfa602fdb04a6ca3283c7d79908b51",
        "IPY_MODEL_f51deeea5e564aa7a4d9f82ca8dc814f",
        "IPY_MODEL_6ff4440a89bb4fed8173e255fe4a24c1",
        "IPY_MODEL_949cd4a9a56348dcbdab3a82e7668d5a"
       ],
       "layout": "IPY_MODEL_08612d2d01f84ef7bbaf31965de2e9e8"
      }
     },
     "0679165b46574f509b311c74a87a10a5": {
      "model_module": "@jupyter-widgets/controls",
      "model_module_version": "1.5.0",
      "model_name": "DescriptionStyleModel",
      "state": {
       "description_width": ""
      }
     },
     "06fb25b8c9f3449587e83bfbab756f17": {
      "model_module": "@jupyter-widgets/base",
      "model_module_version": "1.2.0",
      "model_name": "LayoutModel",
      "state": {
       "height": "30px",
       "width": "60px"
      }
     },
     "07f1857e7de048e0ba57a2c2112f3e17": {
      "model_module": "@jupyter-widgets/controls",
      "model_module_version": "1.5.0",
      "model_name": "FloatSliderModel",
      "state": {
       "layout": "IPY_MODEL_1f37789334594143803b194b6d16000b",
       "readout_format": ".1f",
       "step": 0.1,
       "style": "IPY_MODEL_990cfaa4a6ef48e296d0acaf65518f56",
       "value": 5
      }
     },
     "0810c6d60a3341a18f162c19cce2bdbc": {
      "model_module": "@jupyter-widgets/controls",
      "model_module_version": "1.5.0",
      "model_name": "DescriptionStyleModel",
      "state": {
       "description_width": ""
      }
     },
     "08612d2d01f84ef7bbaf31965de2e9e8": {
      "model_module": "@jupyter-widgets/base",
      "model_module_version": "1.2.0",
      "model_name": "LayoutModel",
      "state": {}
     },
     "08cafab2f2a44fd28bddb1afa9a2325d": {
      "model_module": "@jupyter-widgets/controls",
      "model_module_version": "1.5.0",
      "model_name": "HBoxModel",
      "state": {
       "children": [
        "IPY_MODEL_0a8022e8107849a3be7cea28ba424c80",
        "IPY_MODEL_548dd137be9a48b6af88520d1e13dbe5"
       ],
       "layout": "IPY_MODEL_8dccb656b6ee47468f78e2df4402d215"
      }
     },
     "08cba6e0ba704b44bef674b52a237d55": {
      "model_module": "@jupyter-widgets/controls",
      "model_module_version": "1.5.0",
      "model_name": "DescriptionStyleModel",
      "state": {
       "description_width": ""
      }
     },
     "08d99ef0575443c29e523d9e6ed1bb55": {
      "model_module": "@jupyter-widgets/controls",
      "model_module_version": "1.5.0",
      "model_name": "LabelModel",
      "state": {
       "layout": "IPY_MODEL_e0188513a4a747179874441b87a14f96",
       "style": "IPY_MODEL_79c6404c819745719c870f0dacc0ab0e",
       "value": "To change traj (latoms_list)"
      }
     },
     "09539a8066854ff5963ddac54df46afa": {
      "model_module": "@jupyter-widgets/base",
      "model_module_version": "1.2.0",
      "model_name": "LayoutModel",
      "state": {
       "width": "170px"
      }
     },
     "095aeb4de4404863a77b65a0ea301b62": {
      "model_module": "@jupyter-widgets/controls",
      "model_module_version": "1.5.0",
      "model_name": "FloatSliderModel",
      "state": {
       "layout": "IPY_MODEL_bba993d6ec4f4664a68fe4ea345b15f6",
       "readout_format": ".1f",
       "step": 0.1,
       "style": "IPY_MODEL_dcb51b2ccdef4ec88f32997eb7b46537",
       "value": 5
      }
     },
     "097ccbe7ff0648dc9a51c70740ffad65": {
      "model_module": "@jupyter-widgets/controls",
      "model_module_version": "1.5.0",
      "model_name": "DescriptionStyleModel",
      "state": {
       "description_width": "100px"
      }
     },
     "0a10ec1a799f4c4694f5f3a2b61db762": {
      "model_module": "@jupyter-widgets/controls",
      "model_module_version": "1.5.0",
      "model_name": "DescriptionStyleModel",
      "state": {
       "description_width": ""
      }
     },
     "0a24a31d0bc84afd814fa5ed091da6df": {
      "model_module": "@jupyter-widgets/controls",
      "model_module_version": "1.5.0",
      "model_name": "IntTextModel",
      "state": {
       "description": "A#",
       "layout": "IPY_MODEL_4597c9183a4e40faa8d161da9f54c243",
       "step": 1,
       "style": "IPY_MODEL_2240b77b2add4b28b26a3711531a210c"
      }
     },
     "0a8022e8107849a3be7cea28ba424c80": {
      "model_module": "@jupyter-widgets/controls",
      "model_module_version": "1.5.0",
      "model_name": "TextareaModel",
      "state": {
       "layout": "IPY_MODEL_833625e9bd5645f6a57bc25013418db6",
       "style": "IPY_MODEL_d0541d80b70343e2ac466f0ea3b174e3",
       "value": "Fe,O"
      }
     },
     "0ad8ac3848bb4e65bffdff3e39d8d0d7": {
      "model_module": "@jupyter-widgets/controls",
      "model_module_version": "1.5.0",
      "model_name": "DescriptionStyleModel",
      "state": {
       "description_width": "55px"
      }
     },
     "0b09de522ed543f6b747f79688516a49": {
      "model_module": "@jupyter-widgets/controls",
      "model_module_version": "1.5.0",
      "model_name": "ButtonModel",
      "state": {
       "layout": "IPY_MODEL_75b99809bea74eacabe1c9cc5470a227",
       "style": "IPY_MODEL_67f3fe23a330481a893222db94d30d37"
      }
     },
     "0b3ddaf996664f92a6edf1f41687ec1f": {
      "model_module": "@jupyter-widgets/controls",
      "model_module_version": "1.5.0",
      "model_name": "ButtonStyleModel",
      "state": {}
     },
     "0c2185c98c8a432d8538e6345d16ad9b": {
      "model_module": "@jupyter-widgets/base",
      "model_module_version": "1.2.0",
      "model_name": "LayoutModel",
      "state": {}
     },
     "0c440444c7794caca87917283bd1ea52": {
      "model_module": "@jupyter-widgets/controls",
      "model_module_version": "1.5.0",
      "model_name": "FloatTextModel",
      "state": {
       "description": "mult",
       "layout": "IPY_MODEL_3e64c72528134b6ebd40b48fe2c126a9",
       "step": 0.05,
       "style": "IPY_MODEL_ee4317ac02864eba8bb8eec26bb6022d",
       "value": 1
      }
     },
     "0ca58c40eb9e4bdeb442e4cdb6ee4590": {
      "model_module": "@jupyter-widgets/controls",
      "model_module_version": "1.5.0",
      "model_name": "VBoxModel",
      "state": {
       "children": [
        "IPY_MODEL_7a2764f49cdb42a39d0e3bd62de2c6d2",
        "IPY_MODEL_55dbd45079784e8e93ac08505045ae53",
        "IPY_MODEL_4ca01a4855424028bf785b0f905bf734",
        "IPY_MODEL_1361c570bd3749619d9b917c987be9e1",
        "IPY_MODEL_2bf1f5fc001d457e8dfdd6fec075652c",
        "IPY_MODEL_d5e32be6dfbd45659749a94b24a95d6f",
        "IPY_MODEL_5a2012f0446d490a8c50176a64f55c46",
        "IPY_MODEL_1aedcfacfadf4deaa805ba27e74b831e"
       ],
       "layout": "IPY_MODEL_0e3834f604b045bbb9c4b3d9f1cf0a3d"
      }
     },
     "0ce76ffeb7ee4f6090a65d40aa66bccd": {
      "model_module": "@jupyter-widgets/controls",
      "model_module_version": "1.5.0",
      "model_name": "DropdownModel",
      "state": {
       "_options_labels": [
        "x",
        "y",
        "z",
        "i"
       ],
       "index": 2,
       "layout": "IPY_MODEL_cfa7eae312e94bf093d4530521f5adfa",
       "style": "IPY_MODEL_0ce846cf83d34de69bae12ce2f8ccda8"
      }
     },
     "0ce846cf83d34de69bae12ce2f8ccda8": {
      "model_module": "@jupyter-widgets/controls",
      "model_module_version": "1.5.0",
      "model_name": "DescriptionStyleModel",
      "state": {
       "description_width": ""
      }
     },
     "0d069cb3ed624ad0b620b38ad759bf17": {
      "model_module": "@jupyter-widgets/controls",
      "model_module_version": "1.5.0",
      "model_name": "LabelModel",
      "state": {
       "layout": "IPY_MODEL_77de59bf67414167bd62abfb85c088e8",
       "style": "IPY_MODEL_999a92100fd947efa67a0f02cdd2cf5f",
       "value": "delay"
      }
     },
     "0d1ea6372af949c4b988423bd8ae1921": {
      "model_module": "@jupyter-widgets/controls",
      "model_module_version": "1.5.0",
      "model_name": "DropdownModel",
      "state": {
       "_options_labels": [
        "within",
        "any",
        "only"
       ],
       "description": "ele option",
       "index": 0,
       "layout": "IPY_MODEL_833625e9bd5645f6a57bc25013418db6",
       "style": "IPY_MODEL_21e7840ae90f4e429b11afe6262189c3"
      }
     },
     "0d6525458f954298b88f6911fcd7eae0": {
      "model_module": "@jupyter-widgets/controls",
      "model_module_version": "1.5.0",
      "model_name": "IntTextModel",
      "state": {
       "description": "height",
       "layout": "IPY_MODEL_b699783bb7084039a382edc7f5be5cea",
       "step": 50,
       "style": "IPY_MODEL_cd788f64fa9c48ff88aa00e7bfc89cef",
       "value": 500
      }
     },
     "0e3834f604b045bbb9c4b3d9f1cf0a3d": {
      "model_module": "@jupyter-widgets/base",
      "model_module_version": "1.2.0",
      "model_name": "LayoutModel",
      "state": {}
     },
     "0e88d542dc144d8fb1a6ceaeb6e9112e": {
      "model_module": "@jupyter-widgets/controls",
      "model_module_version": "1.5.0",
      "model_name": "DropdownModel",
      "state": {
       "_options_labels": [
        "v5.0.0",
        "v4.0.0",
        "v3.0.0",
        "v2.0.0",
        "v1.1.0",
        "v1.0.0",
        "v0.0.0",
        "latest"
       ],
       "description": "version",
       "index": 0,
       "layout": "IPY_MODEL_30c92c19827944bab2bc1716abe423c7",
       "style": "IPY_MODEL_93ed085bb7ed480e96cfb13857800094"
      }
     },
     "0e8a76c50236451f962e9bb85fa8cf32": {
      "model_module": "@jupyter-widgets/controls",
      "model_module_version": "1.5.0",
      "model_name": "DescriptionStyleModel",
      "state": {
       "description_width": ""
      }
     },
     "0fa0f8627f4c4d3e826e2ee3273313ce": {
      "model_module": "@jupyter-widgets/base",
      "model_module_version": "1.2.0",
      "model_name": "LayoutModel",
      "state": {}
     },
     "1026d225ed724513a852387a8bdca45b": {
      "model_module": "@jupyter-widgets/base",
      "model_module_version": "1.2.0",
      "model_name": "LayoutModel",
      "state": {
       "height": "350px",
       "width": "390px"
      }
     },
     "10902cf08b6c44b1875dea7f64daccaa": {
      "model_module": "@jupyter-widgets/controls",
      "model_module_version": "1.5.0",
      "model_name": "DescriptionStyleModel",
      "state": {
       "description_width": "40px"
      }
     },
     "1132e91f052c4f2786d173e075963471": {
      "model_module": "@jupyter-widgets/base",
      "model_module_version": "1.2.0",
      "model_name": "LayoutModel",
      "state": {
       "width": "80px"
      }
     },
     "11b735555b9c4e34a68190904de4dbca": {
      "model_module": "@jupyter-widgets/base",
      "model_module_version": "1.2.0",
      "model_name": "LayoutModel",
      "state": {
       "width": "140px"
      }
     },
     "11d1d4ca74dd4f359a6fef8a131161ee": {
      "model_module": "@jupyter-widgets/base",
      "model_module_version": "1.2.0",
      "model_name": "LayoutModel",
      "state": {
       "width": "100px"
      }
     },
     "11fb5412a27c4a31b6f5f1c2111ed802": {
      "model_module": "@jupyter-widgets/base",
      "model_module_version": "1.2.0",
      "model_name": "LayoutModel",
      "state": {}
     },
     "120997183af94945b1d076dcb09ca344": {
      "model_module": "@jupyter-widgets/base",
      "model_module_version": "1.2.0",
      "model_name": "LayoutModel",
      "state": {
       "width": "170px"
      }
     },
     "120ef38237c5435ca5c6f66d01ff114b": {
      "model_module": "@jupyter-widgets/base",
      "model_module_version": "1.2.0",
      "model_name": "LayoutModel",
      "state": {
       "width": "140px"
      }
     },
     "12b0120b617c4f9fbf39a2474e2411a7": {
      "model_module": "@jupyter-widgets/controls",
      "model_module_version": "1.5.0",
      "model_name": "FloatSliderModel",
      "state": {
       "layout": "IPY_MODEL_120997183af94945b1d076dcb09ca344",
       "readout_format": ".1f",
       "step": 0.1,
       "style": "IPY_MODEL_1ae4e70b09b74965b874e6236ca11538",
       "value": 5
      }
     },
     "133c0301b32049c88fa50892719e2478": {
      "model_module": "@jupyter-widgets/controls",
      "model_module_version": "1.5.0",
      "model_name": "DescriptionStyleModel",
      "state": {
       "description_width": ""
      }
     },
     "13404a434f0e4f69b974430bc5f07342": {
      "model_module": "@jupyter-widgets/controls",
      "model_module_version": "1.5.0",
      "model_name": "ButtonModel",
      "state": {
       "description": "Idealgas ",
       "layout": "IPY_MODEL_dd66f22d16994ecabc6949447d756044",
       "style": "IPY_MODEL_b89a961e8a1b455c926361eadcf4be9a"
      }
     },
     "1361c570bd3749619d9b917c987be9e1": {
      "model_module": "@jupyter-widgets/controls",
      "model_module_version": "1.5.0",
      "model_name": "DropdownModel",
      "state": {
       "_options_labels": [
        "0",
        "1",
        "2",
        "3",
        "4",
        "5",
        "6",
        "7",
        "8",
        "9",
        "10",
        "11",
        "12",
        "13",
        "14",
        "15",
        "16",
        "17",
        "18",
        "19"
       ],
       "description": "Atoms1",
       "index": 0,
       "layout": "IPY_MODEL_1a03e576629e4e2ba029ba51eb1a911b",
       "style": "IPY_MODEL_675f7ae660f040139f398fe9ee13e72b"
      }
     },
     "139ce2d40d084a5f8647e0852f16cfd8": {
      "model_module": "@jupyter-widgets/base",
      "model_module_version": "1.2.0",
      "model_name": "LayoutModel",
      "state": {}
     },
     "13ae37eaf5e3426392a7b16685901a27": {
      "model_module": "@jupyter-widgets/controls",
      "model_module_version": "1.5.0",
      "model_name": "DescriptionStyleModel",
      "state": {
       "description_width": ""
      }
     },
     "13c8db49205542b78f61b0ca1b2e9214": {
      "model_module": "@jupyter-widgets/controls",
      "model_module_version": "1.5.0",
      "model_name": "DescriptionStyleModel",
      "state": {
       "description_width": ""
      }
     },
     "141cdf46cc9d4929a8f03394277acced": {
      "model_module": "@jupyter-widgets/controls",
      "model_module_version": "1.5.0",
      "model_name": "IntTextModel",
      "state": {
       "description": "interval",
       "layout": "IPY_MODEL_ca83dbe2abb540c094aa18a6c5733e55",
       "step": 50,
       "style": "IPY_MODEL_50a85f58466245988115bd355cf0f3d5",
       "value": 50
      }
     },
     "141d8732f1d649859f90ffc76cdd045b": {
      "model_module": "@jupyter-widgets/controls",
      "model_module_version": "1.5.0",
      "model_name": "DropdownModel",
      "state": {
       "_options_labels": [
        "1",
        "2",
        "3",
        "4",
        "5"
       ],
       "description": "z",
       "index": 0,
       "layout": "IPY_MODEL_1879943a77e44c51be87d8d8bc850033",
       "style": "IPY_MODEL_3621a38d079b4db5b56d039cf03b9d9b"
      }
     },
     "14acb71f919c4929bf14e4cfc548a676": {
      "model_module": "@jupyter-widgets/controls",
      "model_module_version": "1.5.0",
      "model_name": "ButtonModel",
      "state": {
       "description": "SET",
       "layout": "IPY_MODEL_e88ef4e28e184b2080e66cf52745d548",
       "style": "IPY_MODEL_c47dfb1848f74430b11be3477ce829c4"
      }
     },
     "1506fa6acf644d2f985d01a9391180d0": {
      "model_module": "@jupyter-widgets/base",
      "model_module_version": "1.2.0",
      "model_name": "LayoutModel",
      "state": {}
     },
     "15101ece7a1b4d97988b720116291c5c": {
      "model_module": "@jupyter-widgets/controls",
      "model_module_version": "1.5.0",
      "model_name": "CheckboxModel",
      "state": {
       "description": "index",
       "disabled": false,
       "indent": false,
       "layout": "IPY_MODEL_1132e91f052c4f2786d173e075963471",
       "style": "IPY_MODEL_04d9742085594b769c9c8e837e4d0e83",
       "value": true
      }
     },
     "1541d63946cf43bfa9cf9a362f745500": {
      "model_module": "@jupyter-widgets/controls",
      "model_module_version": "1.5.0",
      "model_name": "CheckboxModel",
      "state": {
       "description": "scale atoms",
       "disabled": false,
       "layout": "IPY_MODEL_f2b89843cc0244d79c1b989e4fba3f51",
       "style": "IPY_MODEL_097ccbe7ff0648dc9a51c70740ffad65",
       "value": false
      }
     },
     "158a5be2c6514a0dbf8f2b9c734d5814": {
      "model_module": "@jupyter-widgets/controls",
      "model_module_version": "1.5.0",
      "model_name": "DescriptionStyleModel",
      "state": {
       "description_width": ""
      }
     },
     "15d16cdb0e954c20826c7d2d54a365f4": {
      "model_module": "@jupyter-widgets/base",
      "model_module_version": "1.2.0",
      "model_name": "LayoutModel",
      "state": {
       "width": "100px"
      }
     },
     "160a002a9cbe4b9fb7c99506e4160041": {
      "model_module": "@jupyter-widgets/controls",
      "model_module_version": "1.5.0",
      "model_name": "DropdownModel",
      "state": {
       "_options_labels": [
        "x",
        "y",
        "z",
        "i"
       ],
       "index": 2,
       "layout": "IPY_MODEL_e779141fd68745d2ba239ed594211085",
       "style": "IPY_MODEL_2b2ecf7576044ee4b5c2d5d11db0ec6a"
      }
     },
     "161f37d666904b86956be8d4f97600ef": {
      "model_module": "@jupyter-widgets/controls",
      "model_module_version": "1.5.0",
      "model_name": "DescriptionStyleModel",
      "state": {
       "description_width": "80px"
      }
     },
     "1688228376834059bc7f4c8ef235d923": {
      "model_module": "@jupyter-widgets/base",
      "model_module_version": "1.2.0",
      "model_name": "LayoutModel",
      "state": {}
     },
     "168e11d4979d4dc8bc23b02c34f8196c": {
      "model_module": "@jupyter-widgets/controls",
      "model_module_version": "1.5.0",
      "model_name": "BoxModel",
      "state": {
       "children": [
        "IPY_MODEL_488358cef5364c6b83a489fe224c84eb"
       ],
       "layout": "IPY_MODEL_fa0a1b45d97542228ddfa3ae064ce4d8"
      }
     },
     "169474ff56374d61a0d369937ea6a8c0": {
      "model_module": "@jupyter-widgets/base",
      "model_module_version": "1.2.0",
      "model_name": "LayoutModel",
      "state": {}
     },
     "16f4402c50314cd986c721095acdf678": {
      "model_module": "@jupyter-widgets/controls",
      "model_module_version": "1.5.0",
      "model_name": "DescriptionStyleModel",
      "state": {
       "description_width": "30px"
      }
     },
     "171c67ed350840909a322587bc740081": {
      "model_module": "@jupyter-widgets/controls",
      "model_module_version": "1.5.0",
      "model_name": "ButtonModel",
      "state": {
       "description": "conects",
       "layout": "IPY_MODEL_d1e2ceba78914abc83cac78717ef52f1",
       "style": "IPY_MODEL_1e80e5eca13d48cd909c48818d1138d6"
      }
     },
     "1737c41a1c9c441a9d317d05a1215e0b": {
      "model_module": "@jupyter-widgets/controls",
      "model_module_version": "1.5.0",
      "model_name": "DescriptionStyleModel",
      "state": {
       "description_width": ""
      }
     },
     "177b1455313448e58d0dd431b515db6b": {
      "model_module": "@jupyter-widgets/controls",
      "model_module_version": "1.5.0",
      "model_name": "TextareaModel",
      "state": {
       "layout": "IPY_MODEL_e892268438394d4eb6eca51fca5af556",
       "style": "IPY_MODEL_43b10ac4e8954761b6cd0259542ba359"
      }
     },
     "185718b67d8841c698c571de963cd676": {
      "model_module": "@jupyter-widgets/controls",
      "model_module_version": "1.5.0",
      "model_name": "IntTextModel",
      "state": {
       "description": "move",
       "layout": "IPY_MODEL_551f0ff564164773875ef5f5ae82a3ff",
       "step": 1,
       "style": "IPY_MODEL_3c41edbedb604bee89bfb00e16337960"
      }
     },
     "1879943a77e44c51be87d8d8bc850033": {
      "model_module": "@jupyter-widgets/base",
      "model_module_version": "1.2.0",
      "model_name": "LayoutModel",
      "state": {
       "width": "80px"
      }
     },
     "18890a8b1e4a457c9a1de1fdb8f75fed": {
      "model_module": "@jupyter-widgets/controls",
      "model_module_version": "1.5.0",
      "model_name": "DescriptionStyleModel",
      "state": {
       "description_width": ""
      }
     },
     "18b015c5da174dd4bcff55eeb50eaaa5": {
      "model_module": "@jupyter-widgets/controls",
      "model_module_version": "1.5.0",
      "model_name": "VBoxModel",
      "state": {
       "children": [
        "IPY_MODEL_d0078d9162be421babf217490b393caf",
        "IPY_MODEL_b28832a6b4ea4a8eb24480cf69628866",
        "IPY_MODEL_847f44b28fdc4330bc124e5e2d050683"
       ],
       "layout": "IPY_MODEL_3b3530e58e544edba742cdfd6429689c"
      }
     },
     "18e7ed7654b34102b46b3c21cf3d9230": {
      "model_module": "@jupyter-widgets/controls",
      "model_module_version": "1.5.0",
      "model_name": "FloatTextModel",
      "state": {
       "description": "mult",
       "layout": "IPY_MODEL_00abc219297540ffa1a5a5cc4a53515a",
       "step": 0.05,
       "style": "IPY_MODEL_844c22b52f984eef8d55b6f001423a6b",
       "value": 1
      }
     },
     "191240722a424aa8b4e80072f0ac9def": {
      "model_module": "@jupyter-widgets/base",
      "model_module_version": "1.2.0",
      "model_name": "LayoutModel",
      "state": {
       "width": "140px"
      }
     },
     "1988959a30684177b355ec3a4c9bfa1e": {
      "model_module": "@jupyter-widgets/base",
      "model_module_version": "1.2.0",
      "model_name": "LayoutModel",
      "state": {
       "width": "140px"
      }
     },
     "19af32e3a5ee4bc3ab4f1b7df3cad6e3": {
      "model_module": "@jupyter-widgets/output",
      "model_module_version": "1.0.0",
      "model_name": "OutputModel",
      "state": {
       "layout": "IPY_MODEL_1026d225ed724513a852387a8bdca45b"
      }
     },
     "1a03e576629e4e2ba029ba51eb1a911b": {
      "model_module": "@jupyter-widgets/base",
      "model_module_version": "1.2.0",
      "model_name": "LayoutModel",
      "state": {
       "width": "180px"
      }
     },
     "1a50d2e286d44556846f691184541dd6": {
      "model_module": "@jupyter-widgets/controls",
      "model_module_version": "1.5.0",
      "model_name": "SliderStyleModel",
      "state": {
       "description_width": ""
      }
     },
     "1ae4e70b09b74965b874e6236ca11538": {
      "model_module": "@jupyter-widgets/controls",
      "model_module_version": "1.5.0",
      "model_name": "SliderStyleModel",
      "state": {
       "description_width": ""
      }
     },
     "1ae7e5192b43402aad77c2df84930564": {
      "model_module": "@jupyter-widgets/controls",
      "model_module_version": "1.5.0",
      "model_name": "HBoxModel",
      "state": {
       "children": [
        "IPY_MODEL_6477f409a35e4e45883640d65a5fe59e",
        "IPY_MODEL_7721b3c21eec40d38d453cd24444ba16"
       ],
       "layout": "IPY_MODEL_660e0948fe8c48a3ab14e1556a5a3806"
      }
     },
     "1aedcfacfadf4deaa805ba27e74b831e": {
      "model_module": "@jupyter-widgets/output",
      "model_module_version": "1.0.0",
      "model_name": "OutputModel",
      "state": {
       "layout": "IPY_MODEL_e358d34bb7be4220979fe89f58740bc4"
      }
     },
     "1afd9d4c04aa4a17bbb42f5ca31325f0": {
      "model_module": "@jupyter-widgets/base",
      "model_module_version": "1.2.0",
      "model_name": "LayoutModel",
      "state": {}
     },
     "1b0d6437be4e4ddb8e93bbeae37dfc98": {
      "model_module": "@jupyter-widgets/controls",
      "model_module_version": "1.5.0",
      "model_name": "FloatTextModel",
      "state": {
       "description": "tempK",
       "layout": "IPY_MODEL_4a4078c165de4928a5280ace2f4bd57c",
       "step": null,
       "style": "IPY_MODEL_ab035fec669849568b5274586fe9d664",
       "value": 297.15
      }
     },
     "1b4ec21133434eceb739b3fbf05952c0": {
      "model_module": "@jupyter-widgets/base",
      "model_module_version": "1.2.0",
      "model_name": "LayoutModel",
      "state": {}
     },
     "1b653d054c2f45c887648827c09b52ac": {
      "model_module": "@jupyter-widgets/base",
      "model_module_version": "1.2.0",
      "model_name": "LayoutModel",
      "state": {
       "height": "500px",
       "width": "900px"
      }
     },
     "1c551aac748044b188dc643feea37cd5": {
      "model_module": "@jupyter-widgets/controls",
      "model_module_version": "1.5.0",
      "model_name": "LabelModel",
      "state": {
       "layout": "IPY_MODEL_3845e97816244493862187f384e09c7d",
       "style": "IPY_MODEL_76f60b5a22fa4ada9fafa6ae5cac2854",
       "value": "FIX Atoms indices"
      }
     },
     "1c62a98917b94d1aabbb21dc6a85021a": {
      "model_module": "@jupyter-widgets/base",
      "model_module_version": "1.2.0",
      "model_name": "LayoutModel",
      "state": {
       "width": "180px"
      }
     },
     "1d8f79ecf3504717a43a78aa5a5edd29": {
      "model_module": "@jupyter-widgets/controls",
      "model_module_version": "1.5.0",
      "model_name": "DescriptionStyleModel",
      "state": {
       "description_width": ""
      }
     },
     "1d9401c22ed9487f999481a8c9d80cfd": {
      "model_module": "@jupyter-widgets/base",
      "model_module_version": "1.2.0",
      "model_name": "LayoutModel",
      "state": {
       "width": "140px"
      }
     },
     "1d9ba9ecaa3c48119aa0c6ad87ca7222": {
      "model_module": "@jupyter-widgets/controls",
      "model_module_version": "1.5.0",
      "model_name": "ButtonStyleModel",
      "state": {}
     },
     "1dbc51a3c769473195fdd67f435ed045": {
      "model_module": "@jupyter-widgets/controls",
      "model_module_version": "1.5.0",
      "model_name": "DescriptionStyleModel",
      "state": {
       "description_width": "35px"
      }
     },
     "1e0de7a07ee74ee3ba73e1872728c651": {
      "model_module": "@jupyter-widgets/controls",
      "model_module_version": "1.5.0",
      "model_name": "IntSliderModel",
      "state": {
       "layout": "IPY_MODEL_4da0640789bd4288a12c55c8b7d1da55",
       "min": -100,
       "style": "IPY_MODEL_a5814ebc518e4f43bbebce703a906c8d",
       "value": 1
      }
     },
     "1e0df09ca7094a2fb2fd594da80e5429": {
      "model_module": "@jupyter-widgets/controls",
      "model_module_version": "1.5.0",
      "model_name": "HBoxModel",
      "state": {
       "children": [
        "IPY_MODEL_4956a427a10a43fdac92fda8460acf22",
        "IPY_MODEL_7aecc1eaf9f44e168ff94618f91f84d7"
       ],
       "layout": "IPY_MODEL_c5042cb88cd247b7935b0605cb37d5be"
      }
     },
     "1e1728920e864711926dfa7e593bd085": {
      "model_module": "@jupyter-widgets/controls",
      "model_module_version": "1.5.0",
      "model_name": "ImageModel",
      "state": {
       "layout": "IPY_MODEL_f056c097744c4a7487ff28a10454bcaf",
       "width": "900.0"
      }
     },
     "1e41caf1c1fb4721b4babe3bb0844174": {
      "model_module": "@jupyter-widgets/controls",
      "model_module_version": "1.5.0",
      "model_name": "FloatSliderModel",
      "state": {
       "description": "distance",
       "layout": "IPY_MODEL_45a890cef2d844cc8bbe201ad5525e81",
       "max": 6,
       "min": 0.7,
       "step": 0.1,
       "style": "IPY_MODEL_f3f0a4bd792b4fa082cd9d6258f481f9",
       "value": 1.6
      }
     },
     "1e6f9bc4b37440ea8e6fa646ab6cbad6": {
      "model_module": "@jupyter-widgets/controls",
      "model_module_version": "1.5.0",
      "model_name": "BoxModel",
      "state": {
       "layout": "IPY_MODEL_32e853a20b9649abbfd5d1c0560c11d0"
      }
     },
     "1e80e5eca13d48cd909c48818d1138d6": {
      "model_module": "@jupyter-widgets/controls",
      "model_module_version": "1.5.0",
      "model_name": "ButtonStyleModel",
      "state": {}
     },
     "1f37789334594143803b194b6d16000b": {
      "model_module": "@jupyter-widgets/base",
      "model_module_version": "1.2.0",
      "model_name": "LayoutModel",
      "state": {
       "width": "170px"
      }
     },
     "1f3ececc54d24a8a964876a05eb6d74b": {
      "model_module": "@jupyter-widgets/base",
      "model_module_version": "1.2.0",
      "model_name": "LayoutModel",
      "state": {
       "width": "1330px"
      }
     },
     "1f6b468a6b6d49a4b427a572bb699f7d": {
      "model_module": "@jupyter-widgets/base",
      "model_module_version": "1.2.0",
      "model_name": "LayoutModel",
      "state": {
       "width": "140px"
      }
     },
     "1fa23c14055d43289f00526ceb89fd7d": {
      "model_module": "@jupyter-widgets/controls",
      "model_module_version": "1.5.0",
      "model_name": "IntTextModel",
      "state": {
       "description": "##",
       "layout": "IPY_MODEL_6e7367f0b459451e825ffda9c806b450",
       "step": 1,
       "style": "IPY_MODEL_de5ec81a559b4010893badb05fbe150d"
      }
     },
     "1fdc1c28d1d14ebc9a0b13fa886bac76": {
      "model_module": "@jupyter-widgets/output",
      "model_module_version": "1.0.0",
      "model_name": "OutputModel",
      "state": {
       "layout": "IPY_MODEL_c4e0c2ca8b514e27bd2943f97521a1a2"
      }
     },
     "2025bde45be645c983e179e8c088e539": {
      "model_module": "@jupyter-widgets/base",
      "model_module_version": "1.2.0",
      "model_name": "LayoutModel",
      "state": {}
     },
     "202cf6cd36a54448ab5fc1b1de972b07": {
      "model_module": "@jupyter-widgets/controls",
      "model_module_version": "1.5.0",
      "model_name": "SliderStyleModel",
      "state": {
       "description_width": "55px"
      }
     },
     "2075e3a8f44a4ea091956e1281f7c4a9": {
      "model_module": "@jupyter-widgets/controls",
      "model_module_version": "1.5.0",
      "model_name": "DropdownModel",
      "state": {
       "_options_labels": [
        "0",
        "1",
        "2",
        "3",
        "4",
        "5"
       ],
       "description": "millerx",
       "index": 1,
       "layout": "IPY_MODEL_4afc86fa7db640779f4d8986716e2dc9",
       "style": "IPY_MODEL_a16e1828c2464559b303028817ad2df6"
      }
     },
     "207e385bffc045dda7b8e87b35f0f798": {
      "model_module": "@jupyter-widgets/base",
      "model_module_version": "1.2.0",
      "model_name": "LayoutModel",
      "state": {}
     },
     "20a8541cd04945d496ef1a4488b9ac4b": {
      "model_module": "@jupyter-widgets/base",
      "model_module_version": "1.2.0",
      "model_name": "LayoutModel",
      "state": {}
     },
     "21686ce5d7294546ac2a7560385693cb": {
      "model_module": "@jupyter-widgets/controls",
      "model_module_version": "1.5.0",
      "model_name": "SliderStyleModel",
      "state": {
       "description_width": "55px"
      }
     },
     "21bfa602fdb04a6ca3283c7d79908b51": {
      "model_module": "@jupyter-widgets/controls",
      "model_module_version": "1.5.0",
      "model_name": "FloatTextModel",
      "state": {
       "description": "taut fs",
       "layout": "IPY_MODEL_28f48132c43c4419ad8017786043df20",
       "step": 0.5,
       "style": "IPY_MODEL_ef6ace99d15541f7a629f7b3617f2b00",
       "value": 1
      }
     },
     "21e7840ae90f4e429b11afe6262189c3": {
      "model_module": "@jupyter-widgets/controls",
      "model_module_version": "1.5.0",
      "model_name": "DescriptionStyleModel",
      "state": {
       "description_width": ""
      }
     },
     "223d352e20004a48b1f054896b96b59c": {
      "model_module": "@jupyter-widgets/controls",
      "model_module_version": "1.5.0",
      "model_name": "DescriptionStyleModel",
      "state": {
       "description_width": "35px"
      }
     },
     "2240b77b2add4b28b26a3711531a210c": {
      "model_module": "@jupyter-widgets/controls",
      "model_module_version": "1.5.0",
      "model_name": "DescriptionStyleModel",
      "state": {
       "description_width": "80px"
      }
     },
     "2281ad55e6fb4e4d82c632a212faca8a": {
      "model_module": "@jupyter-widgets/controls",
      "model_module_version": "1.5.0",
      "model_name": "VBoxModel",
      "state": {
       "children": [
        "IPY_MODEL_ca92c55f04f543fd897083b3feaabbee",
        "IPY_MODEL_2720c9e944f84456a544f5a5ff6dc191",
        "IPY_MODEL_6f5e3fd597e94418b2a14da243d4383b",
        "IPY_MODEL_057dfd52833a45889096f9e6223f9572",
        "IPY_MODEL_299e32a0625349e28d8993bbe798f6fc",
        "IPY_MODEL_e0f63eb8af6340a7ae575d5e73234dfd",
        "IPY_MODEL_4371e10378dc4233830114e74f76e18c",
        "IPY_MODEL_3c8234d3bf534ecdbe7b2f3dd146a010",
        "IPY_MODEL_8ca887ac780a4194ac47f8d097d45540",
        "IPY_MODEL_1e41caf1c1fb4721b4babe3bb0844174",
        "IPY_MODEL_e438b11b113647eda25eb6b8979ae4e6"
       ],
       "layout": "IPY_MODEL_af6df704ed5f41ce8a10631e950ef1c9"
      }
     },
     "229d86d9cf63408ab352e64e013bd279": {
      "model_module": "@jupyter-widgets/controls",
      "model_module_version": "1.5.0",
      "model_name": "DescriptionStyleModel",
      "state": {
       "description_width": ""
      }
     },
     "2354b726759e470ab94aa9778b98149e": {
      "model_module": "@jupyter-widgets/controls",
      "model_module_version": "1.5.0",
      "model_name": "VBoxModel",
      "state": {
       "children": [
        "IPY_MODEL_64a4190ecbc647089aee11dc996cf849",
        "IPY_MODEL_66eb0fea4e204d738e01ce7870250045",
        "IPY_MODEL_1541d63946cf43bfa9cf9a362f745500",
        "IPY_MODEL_6ea52fbb53ef4bab8f59645f1fd76401",
        "IPY_MODEL_5e1f895bcd9449fd9d8e4121b3c860cf",
        "IPY_MODEL_967dd73a2ab34f4b90402fb59d5a3265",
        "IPY_MODEL_ca9f94bd3a544259b73106a28c7ac9b8"
       ],
       "layout": "IPY_MODEL_1688228376834059bc7f4c8ef235d923"
      }
     },
     "241cf058c8424d7cb004083bd03ac4cc": {
      "model_module": "@jupyter-widgets/base",
      "model_module_version": "1.2.0",
      "model_name": "LayoutModel",
      "state": {
       "width": "80px"
      }
     },
     "2571bd70f009487aa779e338b5b07185": {
      "model_module": "@jupyter-widgets/controls",
      "model_module_version": "1.5.0",
      "model_name": "VBoxModel",
      "state": {
       "children": [
        "IPY_MODEL_6a7cb83cd1944e629be26055e420b5c9",
        "IPY_MODEL_2787cfc7aa6242cfaabc373052f22e64"
       ],
       "layout": "IPY_MODEL_6871370e929247d99d2070c385cc41ba"
      }
     },
     "25d5b64ad8a94d92b1c6c30b54c3997b": {
      "model_module": "@jupyter-widgets/controls",
      "model_module_version": "1.5.0",
      "model_name": "DescriptionStyleModel",
      "state": {
       "description_width": ""
      }
     },
     "2631d3fb360e4a1f80a02a1e7558a315": {
      "model_module": "@jupyter-widgets/controls",
      "model_module_version": "1.5.0",
      "model_name": "LabelModel",
      "state": {
       "layout": "IPY_MODEL_ecfb5ddb38ba48149a3612245fdcec19",
       "style": "IPY_MODEL_9333da642b0641ffaa2aea3f2ab52e3c",
       "value": "Edit Atoms indices"
      }
     },
     "264137170fa94dc19f98ed4a9c9505af": {
      "model_module": "@jupyter-widgets/controls",
      "model_module_version": "1.5.0",
      "model_name": "DescriptionStyleModel",
      "state": {
       "description_width": ""
      }
     },
     "26482bf4e11b4dd78e1592464d18404e": {
      "model_module": "@jupyter-widgets/controls",
      "model_module_version": "1.5.0",
      "model_name": "LabelModel",
      "state": {
       "layout": "IPY_MODEL_f1a3a5e58d984bc2b0b7600c6247f7fd",
       "style": "IPY_MODEL_7f48a33be62e4ff89024a3f283f58000",
       "value": "Attach Atoms A and B with distance atom A[a] and B[b]."
      }
     },
     "264d837eab2b4441ac1b05ed20370b98": {
      "model_module": "@jupyter-widgets/base",
      "model_module_version": "1.2.0",
      "model_name": "LayoutModel",
      "state": {}
     },
     "2650359edb90472fb1877daa567d7d07": {
      "model_module": "@jupyter-widgets/base",
      "model_module_version": "1.2.0",
      "model_name": "LayoutModel",
      "state": {
       "width": "120px"
      }
     },
     "2683a2b1ed884a0dae80bb7d4e2b725a": {
      "model_module": "@jupyter-widgets/base",
      "model_module_version": "1.2.0",
      "model_name": "LayoutModel",
      "state": {
       "width": "140px"
      }
     },
     "26932ab9284c43049569a84016e39a14": {
      "model_module": "@jupyter-widgets/controls",
      "model_module_version": "1.5.0",
      "model_name": "VBoxModel",
      "state": {
       "children": [
        "IPY_MODEL_6d7d0af4750e452da16947cd73844be9",
        "IPY_MODEL_ed9063d909fa40d086bbf521437e7a55",
        "IPY_MODEL_141d8732f1d649859f90ffc76cdd045b",
        "IPY_MODEL_aec9e50cbbe14be0979eea903c2a7495",
        "IPY_MODEL_ca9f94bd3a544259b73106a28c7ac9b8",
        "IPY_MODEL_fdc5c5850c364ce59bdac00070d51b77",
        "IPY_MODEL_807c8f6922df44d99a5ee17e7708e098",
        "IPY_MODEL_6a48b7045189441c9fec69b7594b2120"
       ],
       "layout": "IPY_MODEL_7e623c6c39eb4ad39f8ba7f5b615a16d"
      }
     },
     "2720c9e944f84456a544f5a5ff6dc191": {
      "model_module": "@jupyter-widgets/controls",
      "model_module_version": "1.5.0",
      "model_name": "VBoxModel",
      "state": {
       "children": [
        "IPY_MODEL_177b1455313448e58d0dd431b515db6b",
        "IPY_MODEL_5b6de62c7c07466c8e1455593e8af647",
        "IPY_MODEL_c65f7b2bac1443b8bce729ad891ce247"
       ],
       "layout": "IPY_MODEL_53d732e91c634052a591c220d8299365"
      }
     },
     "2787cfc7aa6242cfaabc373052f22e64": {
      "model_module": "@jupyter-widgets/controls",
      "model_module_version": "1.5.0",
      "model_name": "SelectModel",
      "state": {
       "_options_labels": [
        "--- atoms file------------------------------",
        "--- dirs   ---------------------------------",
        "output"
       ],
       "index": 0,
       "layout": "IPY_MODEL_bcc4919beb584b4ca132b0c940534d48",
       "style": "IPY_MODEL_dd895ce7503546f689f6625b6f84ff03"
      }
     },
     "27da7026296d434da449a2d352232520": {
      "model_module": "@jupyter-widgets/base",
      "model_module_version": "1.2.0",
      "model_name": "LayoutModel",
      "state": {}
     },
     "28148b812e35440aac27aa67cb70114f": {
      "model_module": "@jupyter-widgets/controls",
      "model_module_version": "1.5.0",
      "model_name": "IntTextModel",
      "state": {
       "description": "min_slab",
       "layout": "IPY_MODEL_906080a797004e3bbe9396c3af511534",
       "step": 1,
       "style": "IPY_MODEL_527371443a524aa4965a72763c9e26dc",
       "value": 15
      }
     },
     "28469e24240a4331b462fa6a1498a745": {
      "model_module": "@jupyter-widgets/output",
      "model_module_version": "1.0.0",
      "model_name": "OutputModel",
      "state": {
       "layout": "IPY_MODEL_94a472fd88234790ba3acb868d935f32",
       "outputs": [
        {
         "name": "stdout",
         "output_type": "stream",
         "text": "from   v5.0.0 EstimatorCalcMode.CRYSTAL_U0 PFVM\n"
        }
       ]
      }
     },
     "286e4e9ccf0e4eff99aa28a927ef36cb": {
      "model_module": "@jupyter-widgets/controls",
      "model_module_version": "1.5.0",
      "model_name": "ButtonStyleModel",
      "state": {}
     },
     "28bdebe7fa6c476da53b6ab585ca4bc7": {
      "model_module": "@jupyter-widgets/controls",
      "model_module_version": "1.5.0",
      "model_name": "DescriptionStyleModel",
      "state": {
       "description_width": "50px"
      }
     },
     "28f48132c43c4419ad8017786043df20": {
      "model_module": "@jupyter-widgets/base",
      "model_module_version": "1.2.0",
      "model_name": "LayoutModel",
      "state": {
       "width": "180px"
      }
     },
     "28f73d1092d840f3a2c9d157bf469ff4": {
      "model_module": "@jupyter-widgets/controls",
      "model_module_version": "1.5.0",
      "model_name": "FloatTextModel",
      "state": {
       "description": "temperature",
       "layout": "IPY_MODEL_ab59c2a9e324465d955e1cf822ea6d0c",
       "step": 10,
       "style": "IPY_MODEL_158a5be2c6514a0dbf8f2b9c734d5814",
       "value": 473
      }
     },
     "299e32a0625349e28d8993bbe798f6fc": {
      "model_module": "@jupyter-widgets/controls",
      "model_module_version": "1.5.0",
      "model_name": "FloatSliderModel",
      "state": {
       "description": "move",
       "layout": "IPY_MODEL_885ee27b25c4416fbd3030b10a98b50b",
       "max": 5,
       "min": -5,
       "step": 0.1,
       "style": "IPY_MODEL_202cf6cd36a54448ab5fc1b1de972b07"
      }
     },
     "29aca79819af4dde948f8cf01679dab6": {
      "model_module": "@jupyter-widgets/base",
      "model_module_version": "1.2.0",
      "model_name": "LayoutModel",
      "state": {
       "width": "270px"
      }
     },
     "29ef895745f540a48397960578701e27": {
      "model_module": "@jupyter-widgets/controls",
      "model_module_version": "1.5.0",
      "model_name": "DescriptionStyleModel",
      "state": {
       "description_width": ""
      }
     },
     "2a387f1cd6884a128268fbdeca4fb995": {
      "model_module": "@jupyter-widgets/controls",
      "model_module_version": "1.5.0",
      "model_name": "VBoxModel",
      "state": {
       "children": [
        "IPY_MODEL_1e0de7a07ee74ee3ba73e1872728c651",
        "IPY_MODEL_3ec395b93bba4085926a36af2a7ad87c",
        "IPY_MODEL_548f429413cf4b61af3a703874ed5116",
        "IPY_MODEL_d7c45e17d9b340239476bdd9ef5e136b",
        "IPY_MODEL_64ae704ef7b94381b0ba83f1420d10db"
       ],
       "layout": "IPY_MODEL_eac611d0998f4c13a3c5bb0e1300d8c7"
      }
     },
     "2a8ea8a3367a458a84632c97be2eddfc": {
      "model_module": "@jupyter-widgets/controls",
      "model_module_version": "1.5.0",
      "model_name": "ButtonStyleModel",
      "state": {}
     },
     "2b24974807b3488c9315238d2dbead59": {
      "model_module": "@jupyter-widgets/output",
      "model_module_version": "1.0.0",
      "model_name": "OutputModel",
      "state": {
       "layout": "IPY_MODEL_7bbe903998ec4daa97060998b3d9c303"
      }
     },
     "2b2ecf7576044ee4b5c2d5d11db0ec6a": {
      "model_module": "@jupyter-widgets/controls",
      "model_module_version": "1.5.0",
      "model_name": "DescriptionStyleModel",
      "state": {
       "description_width": ""
      }
     },
     "2bbbb5c9e866475b85d8a0fa3e428175": {
      "model_module": "@jupyter-widgets/controls",
      "model_module_version": "1.5.0",
      "model_name": "DescriptionStyleModel",
      "state": {
       "description_width": "50px"
      }
     },
     "2bf1f5fc001d457e8dfdd6fec075652c": {
      "model_module": "@jupyter-widgets/controls",
      "model_module_version": "1.5.0",
      "model_name": "IntTextModel",
      "state": {
       "description": "*N",
       "layout": "IPY_MODEL_dca8130892bb4aaca997ca7b27ef3ba2",
       "step": 1,
       "style": "IPY_MODEL_a683f256d3684a03a9e28bb21c03a827"
      }
     },
     "2bfed408b61f450d9671e849d3d693f7": {
      "model_module": "@jupyter-widgets/base",
      "model_module_version": "1.2.0",
      "model_name": "LayoutModel",
      "state": {}
     },
     "2c47c9a5f285469284ccb68212abe86f": {
      "model_module": "@jupyter-widgets/controls",
      "model_module_version": "1.5.0",
      "model_name": "IntSliderModel",
      "state": {
       "layout": "IPY_MODEL_3f02f33e768f47e0879fef66bc460649",
       "max": 1,
       "style": "IPY_MODEL_d52eaac289634d4bb357811028893ab7"
      }
     },
     "2ca2de7bbdb442f492b96f0e160c77e1": {
      "model_module": "@jupyter-widgets/base",
      "model_module_version": "1.2.0",
      "model_name": "LayoutModel",
      "state": {}
     },
     "2ce45b7a5cc94a1885975ddb6a57166c": {
      "model_module": "@jupyter-widgets/controls",
      "model_module_version": "1.5.0",
      "model_name": "ButtonModel",
      "state": {
       "description": "conects",
       "layout": "IPY_MODEL_ba216fd8968f445cbf69b3c668f193b7",
       "style": "IPY_MODEL_9caf6af210444b9f83d669d0463122b8"
      }
     },
     "2d78cdcff2d843d1966687bd9feadd9a": {
      "model_module": "@jupyter-widgets/controls",
      "model_module_version": "1.5.0",
      "model_name": "TextareaModel",
      "state": {
       "layout": "IPY_MODEL_d7789f38fd2d49f3a7f85743fa265fbb",
       "style": "IPY_MODEL_229d86d9cf63408ab352e64e013bd279"
      }
     },
     "2dc8e63f4c1a463b8fcf90b9bfbaa180": {
      "model_module": "@jupyter-widgets/base",
      "model_module_version": "1.2.0",
      "model_name": "LayoutModel",
      "state": {}
     },
     "2e73486cec384eee8d79f95509fbb76f": {
      "model_module": "@jupyter-widgets/controls",
      "model_module_version": "1.5.0",
      "model_name": "BoxModel",
      "state": {
       "children": [
        "IPY_MODEL_b9960adba46a4df1a251bb1bcab9fa82",
        "IPY_MODEL_64ae704ef7b94381b0ba83f1420d10db"
       ],
       "layout": "IPY_MODEL_b2a4f5946bc243f4a8ebc1148654c81a"
      }
     },
     "2ede96b9207b461ea6aa2d704874bf8b": {
      "model_module": "@jupyter-widgets/base",
      "model_module_version": "1.2.0",
      "model_name": "LayoutModel",
      "state": {
       "width": "120px"
      }
     },
     "2fe8bcafbd5b49f7b8594462d05e1b14": {
      "model_module": "@jupyter-widgets/controls",
      "model_module_version": "1.5.0",
      "model_name": "HBoxModel",
      "state": {
       "children": [
        "IPY_MODEL_803887f504354f1992cffb018ed3751f",
        "IPY_MODEL_9f79eb31dc824994b5a95ecdc22c3a0d"
       ],
       "layout": "IPY_MODEL_d3b354507b0547a68500d2fbc6d368fe"
      }
     },
     "30c92c19827944bab2bc1716abe423c7": {
      "model_module": "@jupyter-widgets/base",
      "model_module_version": "1.2.0",
      "model_name": "LayoutModel",
      "state": {}
     },
     "30db7fe86ac947b7a850a2bb6d2b3da9": {
      "model_module": "@jupyter-widgets/controls",
      "model_module_version": "1.5.0",
      "model_name": "DescriptionStyleModel",
      "state": {
       "description_width": ""
      }
     },
     "31a69650b83e4058ab9b6ab9be80589c": {
      "model_module": "@jupyter-widgets/controls",
      "model_module_version": "1.5.0",
      "model_name": "ButtonStyleModel",
      "state": {}
     },
     "31abe07db49b4fb3a983eb40b5b06c6b": {
      "model_module": "@jupyter-widgets/controls",
      "model_module_version": "1.5.0",
      "model_name": "DescriptionStyleModel",
      "state": {
       "description_width": "55px"
      }
     },
     "31eff1c4b735460a9ccd705f415e7435": {
      "model_module": "@jupyter-widgets/controls",
      "model_module_version": "1.5.0",
      "model_name": "VBoxModel",
      "state": {
       "children": [
        "IPY_MODEL_08d99ef0575443c29e523d9e6ed1bb55",
        "IPY_MODEL_825709bb761f46d78fe312995f7b159c",
        "IPY_MODEL_044c6e0828504a10b85b921635b82340",
        "IPY_MODEL_a3d437db952f4af69d201c61a41ddad5",
        "IPY_MODEL_0271d2d6006149dbbf04b67a69eea86d",
        "IPY_MODEL_34c25f00661a4e4a8b5e08506b10763a",
        "IPY_MODEL_a34d6657e8b44b26b6876551f062d934"
       ],
       "layout": "IPY_MODEL_37cd8c6f049f450a90e0b8064c4198f0"
      }
     },
     "32cc9effc1e440b9a30eda11dbb534d0": {
      "model_module": "@jupyter-widgets/base",
      "model_module_version": "1.2.0",
      "model_name": "LayoutModel",
      "state": {}
     },
     "32e853a20b9649abbfd5d1c0560c11d0": {
      "model_module": "@jupyter-widgets/base",
      "model_module_version": "1.2.0",
      "model_name": "LayoutModel",
      "state": {}
     },
     "331a7ecad8214cf4831408b28227727d": {
      "model_module": "@jupyter-widgets/controls",
      "model_module_version": "1.5.0",
      "model_name": "DropdownModel",
      "state": {
       "_options_labels": [
        "EDIT",
        "Move",
        "Utiledit",
        "Repeat",
        "Cell",
        "Surface",
        "Attach",
        "Liquid",
        "Traj"
       ],
       "index": 0,
       "layout": "IPY_MODEL_edc0762bcbef41ea9c6c8b10cfe43795",
       "style": "IPY_MODEL_1d8f79ecf3504717a43a78aa5a5edd29"
      }
     },
     "33264c4e29d54866b5a2c01316810cda": {
      "model_module": "@jupyter-widgets/base",
      "model_module_version": "1.2.0",
      "model_name": "LayoutModel",
      "state": {}
     },
     "3409bb20a2104639ae496d5eb2d8a3b0": {
      "model_module": "@jupyter-widgets/controls",
      "model_module_version": "1.5.0",
      "model_name": "BoxModel",
      "state": {
       "children": [
        "IPY_MODEL_e89cc9037fc64bcabd70b51720fc3428",
        "IPY_MODEL_548f429413cf4b61af3a703874ed5116"
       ],
       "layout": "IPY_MODEL_b2a4f5946bc243f4a8ebc1148654c81a"
      }
     },
     "34c25f00661a4e4a8b5e08506b10763a": {
      "model_module": "@jupyter-widgets/controls",
      "model_module_version": "1.5.0",
      "model_name": "ButtonModel",
      "state": {
       "description": "Swap A[##] and B[##]",
       "layout": "IPY_MODEL_5a9557066009419d88c137394350c6a8",
       "style": "IPY_MODEL_ea6cf518ba104a3f8750dbc6d00f0147"
      }
     },
     "34f06e72e7e6414ab00b2c75be1a80dc": {
      "model_module": "@jupyter-widgets/base",
      "model_module_version": "1.2.0",
      "model_name": "LayoutModel",
      "state": {
       "width": "100px"
      }
     },
     "351dcf0f2f6a4e30a42307a2a5af4928": {
      "model_module": "@jupyter-widgets/controls",
      "model_module_version": "1.5.0",
      "model_name": "VBoxModel",
      "state": {
       "children": [
        "IPY_MODEL_d8b85a75f13e451ab228fafbea287950",
        "IPY_MODEL_6d78593e7d95412ab0648887014e49f5",
        "IPY_MODEL_9f622902fbfe48649299c11e90179cc2"
       ],
       "layout": "IPY_MODEL_d9e316d77166460390c5ef6809f73304"
      }
     },
     "3577c425dcde42de869ac86679f69dcb": {
      "model_module": "@jupyter-widgets/output",
      "model_module_version": "1.0.0",
      "model_name": "OutputModel",
      "state": {
       "layout": "IPY_MODEL_cb88a56790b54e71bc6822958fcc0e2d",
       "outputs": [
        {
         "data": {
          "text/html": "<style> .widget-vbox {background-color: #3399AA ; padding: 2px }</style>",
          "text/plain": "<IPython.core.display.HTML object>"
         },
         "metadata": {},
         "output_type": "display_data"
        }
       ]
      }
     },
     "35892248e2174674a050ecfa8b15a435": {
      "model_module": "@jupyter-widgets/controls",
      "model_module_version": "1.5.0",
      "model_name": "VBoxModel",
      "state": {
       "children": [
        "IPY_MODEL_9e3de4bf42234b7a956a1769d5562887",
        "IPY_MODEL_d8f712172d9d4d3ba54af2039d61c67c"
       ],
       "layout": "IPY_MODEL_692ec492f8db4da3b07dc93de57002c8"
      }
     },
     "35bdbac7ac2b4a2bb58bc7850b5f8318": {
      "model_module": "@jupyter-widgets/controls",
      "model_module_version": "1.5.0",
      "model_name": "ButtonModel",
      "state": {
       "description": "read const",
       "layout": "IPY_MODEL_11b735555b9c4e34a68190904de4dbca",
       "style": "IPY_MODEL_ececd8e4eaac40139793da9a84c36244"
      }
     },
     "35cc7b7ce8634e65bb52f88747c2e13d": {
      "model_module": "@jupyter-widgets/controls",
      "model_module_version": "1.5.0",
      "model_name": "LabelModel",
      "state": {
       "layout": "IPY_MODEL_4216ec9969604fdba227f1437ff1c1ba",
       "style": "IPY_MODEL_670714b8c2534d5093c25f1e95d7ab49",
       "value": "FIX Bond"
      }
     },
     "35e25c21d6d14e2499247419dfd6affa": {
      "model_module": "@jupyter-widgets/base",
      "model_module_version": "1.2.0",
      "model_name": "LayoutModel",
      "state": {
       "flex": "1 1 auto",
       "width": "auto"
      }
     },
     "3621a38d079b4db5b56d039cf03b9d9b": {
      "model_module": "@jupyter-widgets/controls",
      "model_module_version": "1.5.0",
      "model_name": "DescriptionStyleModel",
      "state": {
       "description_width": "20px"
      }
     },
     "36554cd2c14c47d7bd24ccbca8cea212": {
      "model_module": "@jupyter-widgets/base",
      "model_module_version": "1.2.0",
      "model_name": "LayoutModel",
      "state": {
       "height": "360px",
       "overflow_x": "hidden",
       "overflow_y": "hidden",
       "width": "385px"
      }
     },
     "367af61da81a4b3d969c252b34027023": {
      "model_module": "@jupyter-widgets/controls",
      "model_module_version": "1.5.0",
      "model_name": "CheckboxModel",
      "state": {
       "description": "climb",
       "disabled": false,
       "layout": "IPY_MODEL_6e1036b51e51478fa8888297ae7599b8",
       "style": "IPY_MODEL_71961d3ef299443087eb6fd939ddc935",
       "value": true
      }
     },
     "36f775e6cfa041d1bcd41c59e2592d8d": {
      "model_module": "@jupyter-widgets/base",
      "model_module_version": "1.2.0",
      "model_name": "LayoutModel",
      "state": {
       "width": "50px"
      }
     },
     "37809fbe524042aca6d92264dcd254bb": {
      "model_module": "@jupyter-widgets/base",
      "model_module_version": "1.2.0",
      "model_name": "LayoutModel",
      "state": {}
     },
     "37cd8c6f049f450a90e0b8064c4198f0": {
      "model_module": "@jupyter-widgets/base",
      "model_module_version": "1.2.0",
      "model_name": "LayoutModel",
      "state": {}
     },
     "37d7d61dc6c14746a9eaa1d8805c126c": {
      "model_module": "@jupyter-widgets/base",
      "model_module_version": "1.2.0",
      "model_name": "LayoutModel",
      "state": {
       "height": "40px",
       "width": "370px"
      }
     },
     "37dd511f2ae9400db4e5fed4f86beebd": {
      "model_module": "@jupyter-widgets/controls",
      "model_module_version": "1.5.0",
      "model_name": "DescriptionStyleModel",
      "state": {
       "description_width": ""
      }
     },
     "37e01f8c69c74f6f87222d55fb8f9fc4": {
      "model_module": "@jupyter-widgets/controls",
      "model_module_version": "1.5.0",
      "model_name": "HBoxModel",
      "state": {
       "children": [
        "IPY_MODEL_89b1b6e837b7449a9eeefec2f2c51b0a",
        "IPY_MODEL_367af61da81a4b3d969c252b34027023"
       ],
       "layout": "IPY_MODEL_9f55bd9580d34272a9dc003472d35f9e"
      }
     },
     "37e67f55bf234ec981a3957f99be7aa7": {
      "model_module": "@jupyter-widgets/controls",
      "model_module_version": "1.5.0",
      "model_name": "ButtonModel",
      "state": {
       "description": "sideview",
       "layout": "IPY_MODEL_b7e3edd2f96748a39e53714cb1142eac",
       "style": "IPY_MODEL_731fea426b6b48a0be749f6dc7dcb314"
      }
     },
     "381b0abbe359420793b23c0e87015772": {
      "model_module": "@jupyter-widgets/base",
      "model_module_version": "1.2.0",
      "model_name": "LayoutModel",
      "state": {
       "width": "130px"
      }
     },
     "38292ade68b44852a9df156b7a0a62c3": {
      "model_module": "@jupyter-widgets/controls",
      "model_module_version": "1.5.0",
      "model_name": "ButtonModel",
      "state": {
       "description": "SET",
       "layout": "IPY_MODEL_6c64cb0cdb914d22aa07d5ccaa905763",
       "style": "IPY_MODEL_eb9a0e5007344692a261c0dd9c36f64f"
      }
     },
     "3845e97816244493862187f384e09c7d": {
      "model_module": "@jupyter-widgets/base",
      "model_module_version": "1.2.0",
      "model_name": "LayoutModel",
      "state": {}
     },
     "388e25088f914db681e850f3574c7e31": {
      "model_module": "@jupyter-widgets/base",
      "model_module_version": "1.2.0",
      "model_name": "LayoutModel",
      "state": {}
     },
     "390202a862ec4787a5186cc6f8e8d391": {
      "model_module": "@jupyter-widgets/controls",
      "model_module_version": "1.5.0",
      "model_name": "ButtonStyleModel",
      "state": {}
     },
     "3962b67134154c8387e50caa15659c18": {
      "model_module": "@jupyter-widgets/base",
      "model_module_version": "1.2.0",
      "model_name": "LayoutModel",
      "state": {}
     },
     "3976cf9208d6480fb168579eee98494c": {
      "model_module": "@jupyter-widgets/controls",
      "model_module_version": "1.5.0",
      "model_name": "DescriptionStyleModel",
      "state": {
       "description_width": ""
      }
     },
     "3ae152758da543c180fd9e0d67f35ebd": {
      "model_module": "@jupyter-widgets/base",
      "model_module_version": "1.2.0",
      "model_name": "LayoutModel",
      "state": {}
     },
     "3b339377e0aa411db2cbcfd484e064a6": {
      "model_module": "@jupyter-widgets/controls",
      "model_module_version": "1.5.0",
      "model_name": "ButtonModel",
      "state": {
       "description": "search",
       "layout": "IPY_MODEL_b368844ebf804e12b592952a9bd43cc9",
       "style": "IPY_MODEL_f1e1cfcf6b954bed91fca6527694979f"
      }
     },
     "3b3530e58e544edba742cdfd6429689c": {
      "model_module": "@jupyter-widgets/base",
      "model_module_version": "1.2.0",
      "model_name": "LayoutModel",
      "state": {}
     },
     "3b3c566cee024180936698a112dafdaa": {
      "model_module": "@jupyter-widgets/controls",
      "model_module_version": "1.5.0",
      "model_name": "ButtonModel",
      "state": {
       "description": "move",
       "layout": "IPY_MODEL_1d9401c22ed9487f999481a8c9d80cfd",
       "style": "IPY_MODEL_5d53ab73a48b44818ee5db7414fa99c9"
      }
     },
     "3bc5d191f15d4e55a894d0e1195c95a6": {
      "model_module": "@jupyter-widgets/controls",
      "model_module_version": "1.5.0",
      "model_name": "ButtonStyleModel",
      "state": {}
     },
     "3bd6c35ed1fb4849b7fcda4a5fa50883": {
      "model_module": "@jupyter-widgets/base",
      "model_module_version": "1.2.0",
      "model_name": "LayoutModel",
      "state": {}
     },
     "3c3f7cc3582345ec98d217c54b0f11d2": {
      "model_module": "@jupyter-widgets/controls",
      "model_module_version": "1.5.0",
      "model_name": "DescriptionStyleModel",
      "state": {
       "description_width": ""
      }
     },
     "3c41edbedb604bee89bfb00e16337960": {
      "model_module": "@jupyter-widgets/controls",
      "model_module_version": "1.5.0",
      "model_name": "DescriptionStyleModel",
      "state": {
       "description_width": "55px"
      }
     },
     "3c8234d3bf534ecdbe7b2f3dd146a010": {
      "model_module": "@jupyter-widgets/controls",
      "model_module_version": "1.5.0",
      "model_name": "LabelModel",
      "state": {
       "layout": "IPY_MODEL_8ef0496510224e998788c4bb262b8953",
       "style": "IPY_MODEL_455b143050c14de4905eb61f0d8aab82",
       "value": "For Set distance"
      }
     },
     "3c9ab99c7c114f3299542b4a66a5b8a4": {
      "model_module": "@jupyter-widgets/controls",
      "model_module_version": "1.5.0",
      "model_name": "IntTextModel",
      "state": {
       "description": "a1",
       "layout": "IPY_MODEL_635edaececd84877bed2c1a978f7b969",
       "step": 1,
       "style": "IPY_MODEL_9cddeab05a7c4646a9c190ad58d29aef"
      }
     },
     "3c9e25cc34514bc287e07771d35a4b79": {
      "model_module": "@jupyter-widgets/controls",
      "model_module_version": "1.5.0",
      "model_name": "ButtonStyleModel",
      "state": {}
     },
     "3db6c77c416d490bb8a1d058f8d893d2": {
      "model_module": "@jupyter-widgets/controls",
      "model_module_version": "1.5.0",
      "model_name": "ButtonModel",
      "state": {
       "description": "Attach",
       "layout": "IPY_MODEL_c8870377eb434175aa8811cac0929065",
       "style": "IPY_MODEL_b9ebbb5689f94f56a113dcde79d55cf2"
      }
     },
     "3e3b779494414212ab66e109fe2378db": {
      "model_module": "@jupyter-widgets/base",
      "model_module_version": "1.2.0",
      "model_name": "LayoutModel",
      "state": {
       "height": "40px",
       "width": "370px"
      }
     },
     "3e64c72528134b6ebd40b48fe2c126a9": {
      "model_module": "@jupyter-widgets/base",
      "model_module_version": "1.2.0",
      "model_name": "LayoutModel",
      "state": {
       "width": "100px"
      }
     },
     "3e6ff7740ebc48599549900f4307dfb5": {
      "model_module": "@jupyter-widgets/base",
      "model_module_version": "1.2.0",
      "model_name": "LayoutModel",
      "state": {}
     },
     "3e933defec5542878244cd6becbba359": {
      "model_module": "@jupyter-widgets/controls",
      "model_module_version": "1.5.0",
      "model_name": "HBoxModel",
      "state": {
       "children": [
        "IPY_MODEL_35cc7b7ce8634e65bb52f88747c2e13d",
        "IPY_MODEL_a17eb0fbad434974ab0678be180314b0",
        "IPY_MODEL_3c9ab99c7c114f3299542b4a66a5b8a4"
       ],
       "layout": "IPY_MODEL_729777d92ba54107b84f8a16cf2a3628"
      }
     },
     "3e97a95411f1459fbe9504bf80e7fb71": {
      "model_module": "@jupyter-widgets/controls",
      "model_module_version": "1.5.0",
      "model_name": "DescriptionStyleModel",
      "state": {
       "description_width": "30px"
      }
     },
     "3ec395b93bba4085926a36af2a7ad87c": {
      "model_module": "@jupyter-widgets/controls",
      "model_module_version": "1.5.0",
      "model_name": "IntSliderModel",
      "state": {
       "layout": "IPY_MODEL_0fa0f8627f4c4d3e826e2ee3273313ce",
       "max": 1000,
       "min": 10,
       "style": "IPY_MODEL_1a50d2e286d44556846f691184541dd6",
       "value": 100
      }
     },
     "3ef10e09ee7c4b69990ce00c401749fc": {
      "model_module": "@jupyter-widgets/controls",
      "model_module_version": "1.5.0",
      "model_name": "DescriptionStyleModel",
      "state": {
       "description_width": "35px"
      }
     },
     "3f02f33e768f47e0879fef66bc460649": {
      "model_module": "@jupyter-widgets/base",
      "model_module_version": "1.2.0",
      "model_name": "LayoutModel",
      "state": {
       "height": "30px",
       "width": "170px"
      }
     },
     "3f670debd9064f13b4208dd33cb8f79b": {
      "model_module": "@jupyter-widgets/controls",
      "model_module_version": "1.5.0",
      "model_name": "DescriptionStyleModel",
      "state": {
       "description_width": ""
      }
     },
     "3f9c7284ec634f0ca57d4585266c3d6e": {
      "model_module": "@jupyter-widgets/controls",
      "model_module_version": "1.5.0",
      "model_name": "ButtonStyleModel",
      "state": {}
     },
     "3fb80daa1ca8453bb55164363357358a": {
      "model_module": "@jupyter-widgets/controls",
      "model_module_version": "1.5.0",
      "model_name": "ButtonModel",
      "state": {
       "description": "wrap this",
       "layout": "IPY_MODEL_1b4ec21133434eceb739b3fbf05952c0",
       "style": "IPY_MODEL_ae1a0b6cd5ce4fa49dfde1f9c6d72f5d"
      }
     },
     "3ffcc3acf5e949019f7cbd50bd39e888": {
      "model_module": "@jupyter-widgets/base",
      "model_module_version": "1.2.0",
      "model_name": "LayoutModel",
      "state": {
       "width": "80px"
      }
     },
     "4029d39b01f444909f0b9cce82c855c1": {
      "model_module": "@jupyter-widgets/controls",
      "model_module_version": "1.5.0",
      "model_name": "DropdownModel",
      "state": {
       "_options_labels": [
        "<",
        ">="
       ],
       "index": 0,
       "layout": "IPY_MODEL_449f7d5b1d064e56be0ed941aa0cda26",
       "style": "IPY_MODEL_e74e1f9f28854751b6fef018993f860c"
      }
     },
     "40626904e94f4896a02fcdcd6f62d36d": {
      "model_module": "@jupyter-widgets/output",
      "model_module_version": "1.0.0",
      "model_name": "OutputModel",
      "state": {
       "layout": "IPY_MODEL_9d381ac37dc3420f84d263e48833643e"
      }
     },
     "4093bc6fbbda4667a183b344f039b357": {
      "model_module": "@jupyter-widgets/controls",
      "model_module_version": "1.5.0",
      "model_name": "VBoxModel",
      "state": {
       "children": [
        "IPY_MODEL_c7f4273965d342438467112d8d3c9fa6",
        "IPY_MODEL_ef73cac1ce0645fc88242f36f891b619",
        "IPY_MODEL_a17e0650700642e2b4e59bdfdafedead"
       ],
       "layout": "IPY_MODEL_93e26a25a8d0426e9bb4f5fd64238b29"
      }
     },
     "40f2634a47ce4098bcc21690bb3c486c": {
      "model_module": "@jupyter-widgets/output",
      "model_module_version": "1.0.0",
      "model_name": "OutputModel",
      "state": {
       "layout": "IPY_MODEL_434dce338dab4a44b8cf59f5ed90ea31"
      }
     },
     "40f960c0022249fc9ae37e8e8e03ee0a": {
      "model_module": "@jupyter-widgets/controls",
      "model_module_version": "1.5.0",
      "model_name": "ButtonModel",
      "state": {
       "description": "by pos z",
       "layout": "IPY_MODEL_495f3e010b664cd7aa27dc929ac25fe9",
       "style": "IPY_MODEL_c2dd4d2b9e92458689f060de3a6695ab"
      }
     },
     "4111fd8e899c4d20a8dfdd11e3565e44": {
      "model_module": "@jupyter-widgets/base",
      "model_module_version": "1.2.0",
      "model_name": "LayoutModel",
      "state": {
       "height": "220px",
       "overflow_x": "hidden",
       "overflow_y": "scroll",
       "width": "385px"
      }
     },
     "4124ecca523f4ef3abf8f31ca7a5570d": {
      "model_module": "@jupyter-widgets/controls",
      "model_module_version": "1.5.0",
      "model_name": "LabelModel",
      "state": {
       "layout": "IPY_MODEL_e58352bd91a34a16987a1b693b458fc3",
       "style": "IPY_MODEL_78b859c7bdda4c27bda385458d4c8a25",
       "value": "VIB Atoms indices.If None,all atoms are targeted."
      }
     },
     "416236342cee43d7bd0baf2ef33a4d8e": {
      "model_module": "@jupyter-widgets/base",
      "model_module_version": "1.2.0",
      "model_name": "LayoutModel",
      "state": {}
     },
     "41aea552f4c54a788b929b39531b7f8c": {
      "model_module": "@jupyter-widgets/controls",
      "model_module_version": "1.5.0",
      "model_name": "DescriptionStyleModel",
      "state": {
       "description_width": "50px"
      }
     },
     "4216ec9969604fdba227f1437ff1c1ba": {
      "model_module": "@jupyter-widgets/base",
      "model_module_version": "1.2.0",
      "model_name": "LayoutModel",
      "state": {}
     },
     "421b114f438c49d2bf9deb8f8d6395f0": {
      "model_module": "@jupyter-widgets/base",
      "model_module_version": "1.2.0",
      "model_name": "LayoutModel",
      "state": {
       "width": "35px"
      }
     },
     "42241e2d82bc429eb5903ad91d21faf9": {
      "model_module": "@jupyter-widgets/controls",
      "model_module_version": "1.5.0",
      "model_name": "HBoxModel",
      "state": {
       "children": [
        "IPY_MODEL_90ac0372cff24d25ae4b3035d2fbadaa",
        "IPY_MODEL_87fe29f88dbf45d9a49c9f0570319153",
        "IPY_MODEL_67b42bf23f7b473ca34285467bb80033"
       ],
       "layout": "IPY_MODEL_961617ae7c834d63ae9ff28064de67af"
      }
     },
     "427cde5442c94068989b60a01f292dae": {
      "model_module": "@jupyter-widgets/controls",
      "model_module_version": "1.5.0",
      "model_name": "VBoxModel",
      "state": {
       "children": [
        "IPY_MODEL_26482bf4e11b4dd78e1592464d18404e",
        "IPY_MODEL_90ee1c7b1b9449a7a71a7a9958094e8e",
        "IPY_MODEL_8c6a9f763ef044d5a8629edc5e3dc7a3",
        "IPY_MODEL_1ae7e5192b43402aad77c2df84930564",
        "IPY_MODEL_ff43d683e90e4b23b69f75ce02e5b70e",
        "IPY_MODEL_db0619464308494b87a2879b51b81862",
        "IPY_MODEL_6fcbb6017843495ba3dc68a950cffe7e",
        "IPY_MODEL_3db6c77c416d490bb8a1d058f8d893d2",
        "IPY_MODEL_ea9073ec48fe4f218d78857a269c38ff",
        "IPY_MODEL_ca9f94bd3a544259b73106a28c7ac9b8",
        "IPY_MODEL_1fdc1c28d1d14ebc9a0b13fa886bac76"
       ],
       "layout": "IPY_MODEL_6104b2dac8954f43b09600f71be52e00"
      }
     },
     "434dce338dab4a44b8cf59f5ed90ea31": {
      "model_module": "@jupyter-widgets/base",
      "model_module_version": "1.2.0",
      "model_name": "LayoutModel",
      "state": {
       "height": "380px",
       "overflow_x": "hidden",
       "overflow_y": "scroll",
       "width": "385px"
      }
     },
     "4371e10378dc4233830114e74f76e18c": {
      "model_module": "@jupyter-widgets/controls",
      "model_module_version": "1.5.0",
      "model_name": "HBoxModel",
      "state": {
       "children": [
        "IPY_MODEL_3b3c566cee024180936698a112dafdaa",
        "IPY_MODEL_ca9f94bd3a544259b73106a28c7ac9b8"
       ],
       "layout": "IPY_MODEL_3962b67134154c8387e50caa15659c18"
      }
     },
     "43903c2ca4fa4e508bceaaa7ed90ea3b": {
      "model_module": "@jupyter-widgets/controls",
      "model_module_version": "1.5.0",
      "model_name": "LinkModel",
      "state": {
       "source": [
        "IPY_MODEL_e94c238cbca842559311481511e54a78",
        "max"
       ],
       "target": [
        "IPY_MODEL_79feb766988d48b081342e3d6477a97d",
        "max_frame"
       ]
      }
     },
     "43b10ac4e8954761b6cd0259542ba359": {
      "model_module": "@jupyter-widgets/controls",
      "model_module_version": "1.5.0",
      "model_name": "DescriptionStyleModel",
      "state": {
       "description_width": ""
      }
     },
     "43d8799a2dcb43e394e05c164d0bbc9d": {
      "model_module": "@jupyter-widgets/controls",
      "model_module_version": "1.5.0",
      "model_name": "DropdownModel",
      "state": {
       "_options_labels": [
        "<",
        ">="
       ],
       "index": 0,
       "layout": "IPY_MODEL_8108d7b4b5eb4fe381878f83db1d5d0c",
       "style": "IPY_MODEL_133c0301b32049c88fa50892719e2478"
      }
     },
     "44314e8051244502939b232b75ba7cae": {
      "model_module": "@jupyter-widgets/controls",
      "model_module_version": "1.5.0",
      "model_name": "VBoxModel",
      "state": {
       "children": [
        "IPY_MODEL_79feb766988d48b081342e3d6477a97d",
        "IPY_MODEL_56bcb3c39c5648998359acf495fb851f",
        "IPY_MODEL_4e32b2d7b3834fcfbcb8be8f43500d4c",
        "IPY_MODEL_ff6eb191bb7046ada9dfd2e8b9b3768e"
       ],
       "layout": "IPY_MODEL_20a8541cd04945d496ef1a4488b9ac4b"
      }
     },
     "4476554a897e4e9f9d9f21f7ddf0de1a": {
      "model_module": "@jupyter-widgets/controls",
      "model_module_version": "1.5.0",
      "model_name": "ButtonModel",
      "state": {
       "description": "Bigger",
       "layout": "IPY_MODEL_522f2b0c59a24cda9b54304c8bbc425c",
       "style": "IPY_MODEL_4736f3740bdf4f6c8681e3fa28a499bb"
      }
     },
     "449f7d5b1d064e56be0ed941aa0cda26": {
      "model_module": "@jupyter-widgets/base",
      "model_module_version": "1.2.0",
      "model_name": "LayoutModel",
      "state": {
       "width": "50px"
      }
     },
     "44f013740cd4493b81b98132983fb281": {
      "model_module": "@jupyter-widgets/controls",
      "model_module_version": "1.5.0",
      "model_name": "TabModel",
      "state": {
       "_titles": {
        "0": "General",
        "1": "Representation",
        "2": "Preference",
        "3": "Extra"
       },
       "children": [
        "IPY_MODEL_168e11d4979d4dc8bc23b02c34f8196c",
        "IPY_MODEL_1e6f9bc4b37440ea8e6fa646ab6cbad6",
        "IPY_MODEL_ae692f6e7f6446b3b2ae2425db51963a",
        "IPY_MODEL_be6252bebe474d019c33473d11f90d5c"
       ],
       "layout": "IPY_MODEL_b5b4bcb0b0cc4bb294692009e485a645"
      }
     },
     "44f74b53efff4e319d154d3ff4a9762f": {
      "model_module": "@jupyter-widgets/base",
      "model_module_version": "1.2.0",
      "model_name": "LayoutModel",
      "state": {}
     },
     "455b143050c14de4905eb61f0d8aab82": {
      "model_module": "@jupyter-widgets/controls",
      "model_module_version": "1.5.0",
      "model_name": "DescriptionStyleModel",
      "state": {
       "description_width": ""
      }
     },
     "4597c9183a4e40faa8d161da9f54c243": {
      "model_module": "@jupyter-widgets/base",
      "model_module_version": "1.2.0",
      "model_name": "LayoutModel",
      "state": {
       "width": "170px"
      }
     },
     "45a890cef2d844cc8bbe201ad5525e81": {
      "model_module": "@jupyter-widgets/base",
      "model_module_version": "1.2.0",
      "model_name": "LayoutModel",
      "state": {}
     },
     "45e23a56265f40b3835facb0cf3c7b62": {
      "model_module": "@jupyter-widgets/controls",
      "model_module_version": "1.5.0",
      "model_name": "ButtonModel",
      "state": {
       "description": "H",
       "layout": "IPY_MODEL_8bd73a010042441c8a5b60de63ca770f",
       "style": "IPY_MODEL_4d5818bc672443ac95b9de1c2953d93d"
      }
     },
     "4632971207aa4ad3a44bdd14ae4f8eeb": {
      "model_module": "@jupyter-widgets/controls",
      "model_module_version": "1.5.0",
      "model_name": "ToggleButtonModel",
      "state": {
       "description": "Smoothing",
       "layout": "IPY_MODEL_d138a1914f5b4eca9d6a40394325c77d",
       "style": "IPY_MODEL_f2613a02a2bb46149e1032828895deca",
       "tooltip": "smoothing trajectory"
      }
     },
     "4638ed91abc84394bad0d3eb49142eba": {
      "model_module": "@jupyter-widgets/controls",
      "model_module_version": "1.5.0",
      "model_name": "DropdownModel",
      "state": {
       "_options_labels": [
        "0",
        "1",
        "2",
        "3",
        "4",
        "5",
        "6",
        "7",
        "8",
        "9",
        "10",
        "11",
        "12",
        "13",
        "14",
        "15",
        "16",
        "17",
        "18",
        "19",
        "20",
        "21",
        "22",
        "23",
        "24",
        "25",
        "26",
        "27",
        "28",
        "29",
        "30",
        "31",
        "32",
        "33",
        "34",
        "35",
        "36",
        "37",
        "38",
        "39",
        "40",
        "41",
        "42",
        "43",
        "44",
        "45",
        "46",
        "47",
        "48",
        "49",
        "50",
        "51",
        "52",
        "53",
        "54",
        "55",
        "56",
        "57",
        "58",
        "59"
       ],
       "description": "mode",
       "index": 0,
       "layout": "IPY_MODEL_c16ae48413744df4bd730d096a153c91",
       "style": "IPY_MODEL_30db7fe86ac947b7a850a2bb6d2b3da9"
      }
     },
     "469f7aea34ce4b308ccd1047ec49209a": {
      "model_module": "@jupyter-widgets/base",
      "model_module_version": "1.2.0",
      "model_name": "LayoutModel",
      "state": {}
     },
     "471b5081c54f4665a47dd8d833b935d5": {
      "model_module": "@jupyter-widgets/controls",
      "model_module_version": "1.5.0",
      "model_name": "DescriptionStyleModel",
      "state": {
       "description_width": ""
      }
     },
     "4736f3740bdf4f6c8681e3fa28a499bb": {
      "model_module": "@jupyter-widgets/controls",
      "model_module_version": "1.5.0",
      "model_name": "ButtonStyleModel",
      "state": {}
     },
     "4814c5c18f6c4ed8a1fc87911c46fb98": {
      "model_module": "@jupyter-widgets/controls",
      "model_module_version": "1.5.0",
      "model_name": "ButtonStyleModel",
      "state": {}
     },
     "48527fe028ae4be5896741a5f8e18b1f": {
      "model_module": "@jupyter-widgets/controls",
      "model_module_version": "1.5.0",
      "model_name": "CheckboxModel",
      "state": {
       "description": "calc",
       "disabled": false,
       "indent": false,
       "layout": "IPY_MODEL_29aca79819af4dde948f8cf01679dab6",
       "style": "IPY_MODEL_752107aa52024a9091a85e618778bb3c",
       "value": false
      }
     },
     "488358cef5364c6b83a489fe224c84eb": {
      "model_module": "@jupyter-widgets/controls",
      "model_module_version": "1.5.0",
      "model_name": "BoxModel",
      "state": {
       "children": [
        "IPY_MODEL_4dd14fa777fe4c1da34fec7dda4b5c2e",
        "IPY_MODEL_6e95d63d5bca4be09e75057d91b43321",
        "IPY_MODEL_3409bb20a2104639ae496d5eb2d8a3b0",
        "IPY_MODEL_4f202c8952fd4e45907e1b8aea346244",
        "IPY_MODEL_2e73486cec384eee8d79f95509fbb76f"
       ],
       "layout": "IPY_MODEL_d228a102ee1540edab24133ead8b4223"
      }
     },
     "48a878135f5f4a6dbbe0523bab0468c2": {
      "model_module": "@jupyter-widgets/controls",
      "model_module_version": "1.5.0",
      "model_name": "DescriptionStyleModel",
      "state": {
       "description_width": ""
      }
     },
     "49092b3edf3541b79b17fe5a5a3739f2": {
      "model_module": "nglview-js-widgets",
      "model_module_version": "3.0.1",
      "model_name": "ColormakerRegistryModel",
      "state": {
       "_msg_ar": [],
       "_msg_q": [],
       "_ready": true,
       "layout": "IPY_MODEL_33264c4e29d54866b5a2c01316810cda"
      }
     },
     "4956a427a10a43fdac92fda8460acf22": {
      "model_module": "@jupyter-widgets/controls",
      "model_module_version": "1.5.0",
      "model_name": "ButtonModel",
      "state": {
       "description": "wrap traj",
       "layout": "IPY_MODEL_207e385bffc045dda7b8e87b35f0f798",
       "style": "IPY_MODEL_7f9c235fd82047568f4f06c9b2151577"
      }
     },
     "495f3e010b664cd7aa27dc929ac25fe9": {
      "model_module": "@jupyter-widgets/base",
      "model_module_version": "1.2.0",
      "model_name": "LayoutModel",
      "state": {}
     },
     "4a06e045005e48cdac8d9e6c931f296f": {
      "model_module": "@jupyter-widgets/base",
      "model_module_version": "1.2.0",
      "model_name": "LayoutModel",
      "state": {}
     },
     "4a1c735a188d452a88e018fb8eeda5d4": {
      "model_module": "@jupyter-widgets/base",
      "model_module_version": "1.2.0",
      "model_name": "LayoutModel",
      "state": {
       "width": "80px"
      }
     },
     "4a4078c165de4928a5280ace2f4bd57c": {
      "model_module": "@jupyter-widgets/base",
      "model_module_version": "1.2.0",
      "model_name": "LayoutModel",
      "state": {
       "width": "150px"
      }
     },
     "4a7e25eb1030443791240045e22df42c": {
      "model_module": "@jupyter-widgets/base",
      "model_module_version": "1.2.0",
      "model_name": "LayoutModel",
      "state": {
       "width": "90px"
      }
     },
     "4a969905669e4c1085d81257fb031d10": {
      "model_module": "@jupyter-widgets/base",
      "model_module_version": "1.2.0",
      "model_name": "LayoutModel",
      "state": {
       "width": "250px"
      }
     },
     "4ab2cc831e2a41f6b08d0e7264027f41": {
      "model_module": "@jupyter-widgets/controls",
      "model_module_version": "1.5.0",
      "model_name": "DropdownModel",
      "state": {
       "_options_labels": [
        "PFVM",
        "MNCORE_ACCURATE",
        "MNCORE_FAST"
       ],
       "description": "method",
       "index": 0,
       "layout": "IPY_MODEL_3bd6c35ed1fb4849b7fcda4a5fa50883",
       "style": "IPY_MODEL_80f8d8a3ac7b4d9082988cc60c9bb629"
      }
     },
     "4adc145dd9344751ac004b76b06e17cd": {
      "model_module": "@jupyter-widgets/controls",
      "model_module_version": "1.5.0",
      "model_name": "SliderStyleModel",
      "state": {
       "description_width": ""
      }
     },
     "4ae0ed3d30d3459689f89b312e8fed99": {
      "model_module": "@jupyter-widgets/base",
      "model_module_version": "1.2.0",
      "model_name": "LayoutModel",
      "state": {}
     },
     "4afc86fa7db640779f4d8986716e2dc9": {
      "model_module": "@jupyter-widgets/base",
      "model_module_version": "1.2.0",
      "model_name": "LayoutModel",
      "state": {
       "width": "140px"
      }
     },
     "4b25009be74a4a1aae7e080a98e606bb": {
      "model_module": "@jupyter-widgets/controls",
      "model_module_version": "1.5.0",
      "model_name": "DescriptionStyleModel",
      "state": {
       "description_width": ""
      }
     },
     "4b34543da8474052b5d7212f69520ec1": {
      "model_module": "@jupyter-widgets/controls",
      "model_module_version": "1.5.0",
      "model_name": "DescriptionStyleModel",
      "state": {
       "description_width": ""
      }
     },
     "4b5307637f87474bb34cec7f35caf327": {
      "model_module": "@jupyter-widgets/controls",
      "model_module_version": "1.5.0",
      "model_name": "ButtonModel",
      "state": {
       "description": "make mode traj",
       "layout": "IPY_MODEL_4a969905669e4c1085d81257fb031d10",
       "style": "IPY_MODEL_edc9bd2c3b20410188ebba3b33af540a"
      }
     },
     "4b61144da9a34dfa8f5160ff2d2f627b": {
      "model_module": "@jupyter-widgets/base",
      "model_module_version": "1.2.0",
      "model_name": "LayoutModel",
      "state": {
       "height": "500px",
       "width": "400px"
      }
     },
     "4b7e9c4a8a0645d0bf0bce342a8767c0": {
      "model_module": "@jupyter-widgets/base",
      "model_module_version": "1.2.0",
      "model_name": "LayoutModel",
      "state": {}
     },
     "4bf067739929451396b26898aed448c5": {
      "model_module": "@jupyter-widgets/controls",
      "model_module_version": "1.5.0",
      "model_name": "DropdownModel",
      "state": {
       "_options_labels": [
        "x",
        "y",
        "z",
        "i"
       ],
       "index": 2,
       "layout": "IPY_MODEL_36f775e6cfa041d1bcd41c59e2592d8d",
       "style": "IPY_MODEL_d5bec7f262884a969f7b7f47f7a8db65"
      }
     },
     "4c3d6f0d54b646d9940acf54b6d1534c": {
      "model_module": "@jupyter-widgets/base",
      "model_module_version": "1.2.0",
      "model_name": "LayoutModel",
      "state": {
       "width": "120px"
      }
     },
     "4ca01a4855424028bf785b0f905bf734": {
      "model_module": "@jupyter-widgets/controls",
      "model_module_version": "1.5.0",
      "model_name": "IntTextModel",
      "state": {
       "description": "*N",
       "layout": "IPY_MODEL_6cf0cfb16eec49f9b501856347ab54bb",
       "step": 1,
       "style": "IPY_MODEL_29ef895745f540a48397960578701e27",
       "value": 10
      }
     },
     "4cbaf5ebdcf84cdaadf1d12d70bacb99": {
      "model_module": "@jupyter-widgets/controls",
      "model_module_version": "1.5.0",
      "model_name": "CheckboxModel",
      "state": {
       "description": "chage",
       "disabled": false,
       "indent": false,
       "layout": "IPY_MODEL_4a1c735a188d452a88e018fb8eeda5d4",
       "style": "IPY_MODEL_d3a9a62879664a50a5851f78c1eaf448",
       "value": false
      }
     },
     "4d5818bc672443ac95b9de1c2953d93d": {
      "model_module": "@jupyter-widgets/controls",
      "model_module_version": "1.5.0",
      "model_name": "ButtonStyleModel",
      "state": {}
     },
     "4d72316d1c974df5906d134464b896c4": {
      "model_module": "@jupyter-widgets/controls",
      "model_module_version": "1.5.0",
      "model_name": "ButtonModel",
      "state": {
       "description": "Plot",
       "layout": "IPY_MODEL_f94adf302ab74e8383d018cc634b7104",
       "style": "IPY_MODEL_2a8ea8a3367a458a84632c97be2eddfc"
      }
     },
     "4da0640789bd4288a12c55c8b7d1da55": {
      "model_module": "@jupyter-widgets/base",
      "model_module_version": "1.2.0",
      "model_name": "LayoutModel",
      "state": {}
     },
     "4dd14fa777fe4c1da34fec7dda4b5c2e": {
      "model_module": "@jupyter-widgets/controls",
      "model_module_version": "1.5.0",
      "model_name": "BoxModel",
      "state": {
       "children": [
        "IPY_MODEL_e6eab2fa2a45487396bd2b2c5b75a1cb",
        "IPY_MODEL_1e0de7a07ee74ee3ba73e1872728c651"
       ],
       "layout": "IPY_MODEL_b2a4f5946bc243f4a8ebc1148654c81a"
      }
     },
     "4e32b2d7b3834fcfbcb8be8f43500d4c": {
      "model_module": "@jupyter-widgets/controls",
      "model_module_version": "1.5.0",
      "model_name": "HBoxModel",
      "state": {
       "children": [
        "IPY_MODEL_48527fe028ae4be5896741a5f8e18b1f"
       ],
       "layout": "IPY_MODEL_98e7245130cb451d91faeb92f13613d8"
      }
     },
     "4ecccc1c3c9f4e11b39752eb6e57b369": {
      "model_module": "@jupyter-widgets/base",
      "model_module_version": "1.2.0",
      "model_name": "LayoutModel",
      "state": {}
     },
     "4f202c8952fd4e45907e1b8aea346244": {
      "model_module": "@jupyter-widgets/controls",
      "model_module_version": "1.5.0",
      "model_name": "BoxModel",
      "state": {
       "children": [
        "IPY_MODEL_6d7212061ecf4d2e9ec01a03bff8042b",
        "IPY_MODEL_d7c45e17d9b340239476bdd9ef5e136b"
       ],
       "layout": "IPY_MODEL_b2a4f5946bc243f4a8ebc1148654c81a"
      }
     },
     "4f424adf4e2e43269d7163744d0d43c7": {
      "model_module": "@jupyter-widgets/base",
      "model_module_version": "1.2.0",
      "model_name": "LayoutModel",
      "state": {
       "width": "300px"
      }
     },
     "4f891d0429244a54944ce191072eb9d3": {
      "model_module": "@jupyter-widgets/base",
      "model_module_version": "1.2.0",
      "model_name": "LayoutModel",
      "state": {
       "width": "100px"
      }
     },
     "4f956b4d2e0c43fca4afb724a4b129ca": {
      "model_module": "@jupyter-widgets/controls",
      "model_module_version": "1.5.0",
      "model_name": "IntTextModel",
      "state": {
       "description": "##",
       "layout": "IPY_MODEL_7c6095c88c7e4a35b998ad105af18655",
       "step": 1,
       "style": "IPY_MODEL_3e97a95411f1459fbe9504bf80e7fb71"
      }
     },
     "4fa9b42ce79f4b3eb88c5b1ed860cba1": {
      "model_module": "@jupyter-widgets/base",
      "model_module_version": "1.2.0",
      "model_name": "LayoutModel",
      "state": {
       "width": "340px"
      }
     },
     "50a85f58466245988115bd355cf0f3d5": {
      "model_module": "@jupyter-widgets/controls",
      "model_module_version": "1.5.0",
      "model_name": "DescriptionStyleModel",
      "state": {
       "description_width": ""
      }
     },
     "50becb403de04095953e33037e92467a": {
      "model_module": "@jupyter-widgets/controls",
      "model_module_version": "1.5.0",
      "model_name": "ButtonModel",
      "state": {
       "description": "Del#",
       "layout": "IPY_MODEL_6cba44235e2f4161a1cdb6fc6b1c61f6",
       "style": "IPY_MODEL_bd9d730b60674fa68c838af7fd515340"
      }
     },
     "5107712dcd0e419990a58f0c77652292": {
      "model_module": "@jupyter-widgets/base",
      "model_module_version": "1.2.0",
      "model_name": "LayoutModel",
      "state": {}
     },
     "51185a5b5020443bbd90009bd8948286": {
      "model_module": "@jupyter-widgets/base",
      "model_module_version": "1.2.0",
      "model_name": "LayoutModel",
      "state": {
       "width": "380px"
      }
     },
     "512b15042b68492887090ff63f5e2f78": {
      "model_module": "@jupyter-widgets/base",
      "model_module_version": "1.2.0",
      "model_name": "LayoutModel",
      "state": {}
     },
     "51b33140ab6a45558f1ef2ce9733fe48": {
      "model_module": "@jupyter-widgets/base",
      "model_module_version": "1.2.0",
      "model_name": "LayoutModel",
      "state": {}
     },
     "521981d5c6684b729da2ddc65bbaacd0": {
      "model_module": "@jupyter-widgets/base",
      "model_module_version": "1.2.0",
      "model_name": "LayoutModel",
      "state": {}
     },
     "522f2b0c59a24cda9b54304c8bbc425c": {
      "model_module": "@jupyter-widgets/base",
      "model_module_version": "1.2.0",
      "model_name": "LayoutModel",
      "state": {
       "width": "120px"
      }
     },
     "5270daaa28d04546a719b3be305f0e03": {
      "model_module": "@jupyter-widgets/controls",
      "model_module_version": "1.5.0",
      "model_name": "DescriptionStyleModel",
      "state": {
       "description_width": "50px"
      }
     },
     "527371443a524aa4965a72763c9e26dc": {
      "model_module": "@jupyter-widgets/controls",
      "model_module_version": "1.5.0",
      "model_name": "DescriptionStyleModel",
      "state": {
       "description_width": ""
      }
     },
     "52bdcc990c714d66a4f2177e7786f8d0": {
      "model_module": "@jupyter-widgets/controls",
      "model_module_version": "1.5.0",
      "model_name": "DescriptionStyleModel",
      "state": {
       "description_width": ""
      }
     },
     "52d18147696a492381c57d5e7108d8c5": {
      "model_module": "@jupyter-widgets/controls",
      "model_module_version": "1.5.0",
      "model_name": "FloatTextModel",
      "state": {
       "description": "delta",
       "layout": "IPY_MODEL_74d56169277a4df7b397f4601176ff88",
       "step": null,
       "style": "IPY_MODEL_aaeaf49c83ad4c1f93b10060d92905da",
       "value": 0.1
      }
     },
     "52d96baa4d6443ee88eb522d67d24179": {
      "model_module": "@jupyter-widgets/base",
      "model_module_version": "1.2.0",
      "model_name": "LayoutModel",
      "state": {
       "width": "150px"
      }
     },
     "53d732e91c634052a591c220d8299365": {
      "model_module": "@jupyter-widgets/base",
      "model_module_version": "1.2.0",
      "model_name": "LayoutModel",
      "state": {}
     },
     "548dd137be9a48b6af88520d1e13dbe5": {
      "model_module": "@jupyter-widgets/controls",
      "model_module_version": "1.5.0",
      "model_name": "LabelModel",
      "state": {
       "layout": "IPY_MODEL_3e6ff7740ebc48599549900f4307dfb5",
       "style": "IPY_MODEL_e8d13b4d8a934c8e98f4f9dacd97c521",
       "value": "ex 'mp-1143','Al2O3'"
      }
     },
     "548f429413cf4b61af3a703874ed5116": {
      "model_module": "@jupyter-widgets/controls",
      "model_module_version": "1.5.0",
      "model_name": "ColorPickerModel",
      "state": {
       "description": "NGL back",
       "disabled": false,
       "layout": "IPY_MODEL_4b7e9c4a8a0645d0bf0bce342a8767c0",
       "style": "IPY_MODEL_0679165b46574f509b311c74a87a10a5",
       "value": "white"
      }
     },
     "5497c5dfeb024fd281d791aaa87ad68e": {
      "model_module": "@jupyter-widgets/controls",
      "model_module_version": "1.5.0",
      "model_name": "LinkModel",
      "state": {
       "source": [
        "IPY_MODEL_e94c238cbca842559311481511e54a78",
        "value"
       ],
       "target": [
        "IPY_MODEL_79feb766988d48b081342e3d6477a97d",
        "frame"
       ]
      }
     },
     "551f0ff564164773875ef5f5ae82a3ff": {
      "model_module": "@jupyter-widgets/base",
      "model_module_version": "1.2.0",
      "model_name": "LayoutModel",
      "state": {
       "width": "140px"
      }
     },
     "555730c8f42e42879381b7eb590c2678": {
      "model_module": "@jupyter-widgets/controls",
      "model_module_version": "1.5.0",
      "model_name": "ButtonModel",
      "state": {
       "description": "scale cell",
       "layout": "IPY_MODEL_2650359edb90472fb1877daa567d7d07",
       "style": "IPY_MODEL_7e8857a3104d4788b90ab8ff27f9981f"
      }
     },
     "55dbd45079784e8e93ac08505045ae53": {
      "model_module": "@jupyter-widgets/controls",
      "model_module_version": "1.5.0",
      "model_name": "DropdownModel",
      "state": {
       "_options_labels": [
        "0",
        "1",
        "2",
        "3",
        "4",
        "5",
        "6",
        "7",
        "8",
        "9",
        "10",
        "11",
        "12",
        "13",
        "14",
        "15",
        "16",
        "17",
        "18",
        "19"
       ],
       "description": "Atoms0",
       "index": 0,
       "layout": "IPY_MODEL_e5d4399b39444a8ea7ec8d0b54d85dbf",
       "style": "IPY_MODEL_d38b092fa29f4dc4b4bdaa2e26997b05"
      }
     },
     "55ed0d924b5240ec8fc5a8bfa48dc904": {
      "model_module": "@jupyter-widgets/controls",
      "model_module_version": "1.5.0",
      "model_name": "VBoxModel",
      "state": {
       "children": [
        "IPY_MODEL_2d78cdcff2d843d1966687bd9feadd9a",
        "IPY_MODEL_8074327e65a74b6ba05e70b8dcf006ad",
        "IPY_MODEL_8153005f2c4d4e69bf9dbae69ee4504d"
       ],
       "layout": "IPY_MODEL_9f3d13673d254ce29bfb07bdd332fd2d"
      }
     },
     "56bcb3c39c5648998359acf495fb851f": {
      "model_module": "@jupyter-widgets/controls",
      "model_module_version": "1.5.0",
      "model_name": "HBoxModel",
      "state": {
       "children": [
        "IPY_MODEL_15101ece7a1b4d97988b720116291c5c",
        "IPY_MODEL_00401ced4250434da65f2d085182c377",
        "IPY_MODEL_f3117a093f3340abb0e6425209c09431",
        "IPY_MODEL_f6dcd5ae3f3643da8766acfbe9485db5",
        "IPY_MODEL_4cbaf5ebdcf84cdaadf1d12d70bacb99"
       ],
       "layout": "IPY_MODEL_bde0f24d9d2e4e12b7d80e60b6407b11"
      }
     },
     "57ccf242ec464fb182b95d683d0ad58c": {
      "model_module": "@jupyter-widgets/controls",
      "model_module_version": "1.5.0",
      "model_name": "IntTextModel",
      "state": {
       "description": "##",
       "layout": "IPY_MODEL_381b0abbe359420793b23c0e87015772",
       "step": 1,
       "style": "IPY_MODEL_d92a51d227194d55b92a8cb45a1abfa2"
      }
     },
     "581233e27f5644168ef4b1472252906e": {
      "model_module": "@jupyter-widgets/controls",
      "model_module_version": "1.5.0",
      "model_name": "HBoxModel",
      "state": {
       "children": [
        "IPY_MODEL_89c7bbbfff0449f1a8e836c43967762f",
        "IPY_MODEL_4476554a897e4e9f9d9f21f7ddf0de1a"
       ],
       "layout": "IPY_MODEL_a5db4b219c04407a91ffa39e2d533a8e"
      }
     },
     "5848017de4fa4aa0ab6458c325bab777": {
      "model_module": "@jupyter-widgets/controls",
      "model_module_version": "1.5.0",
      "model_name": "DropdownModel",
      "state": {
       "_options_labels": [
        "<",
        ">="
       ],
       "index": 0,
       "layout": "IPY_MODEL_694d4bf40e054865bcb040c62ced9cf6",
       "style": "IPY_MODEL_ea06c6a84f784d54a17b0c6db94e953a"
      }
     },
     "5864ef83897344be80c0921c273ebe61": {
      "model_module": "@jupyter-widgets/controls",
      "model_module_version": "1.5.0",
      "model_name": "DropdownModel",
      "state": {
       "_options_labels": [
        "x",
        "y",
        "z",
        "i"
       ],
       "index": 2,
       "layout": "IPY_MODEL_f8adb3da4ce44d388351da77ccfe3454",
       "style": "IPY_MODEL_08cba6e0ba704b44bef674b52a237d55"
      }
     },
     "58bb30d33ba14deda94f1c7e6ddd46c7": {
      "model_module": "@jupyter-widgets/controls",
      "model_module_version": "1.5.0",
      "model_name": "DropdownModel",
      "state": {
       "_options_labels": [
        "x",
        "y",
        "z",
        "i"
       ],
       "index": 2,
       "layout": "IPY_MODEL_e6e40403269f44dea8325d966cfe5d01",
       "style": "IPY_MODEL_b276ef0ac1334442a8c1b4c1827f9379"
      }
     },
     "58df750582924d36a9d0da1a8e914dfc": {
      "model_module": "@jupyter-widgets/controls",
      "model_module_version": "1.5.0",
      "model_name": "DescriptionStyleModel",
      "state": {
       "description_width": "80px"
      }
     },
     "5955c4b8308e46ea9a2628a129857f79": {
      "model_module": "@jupyter-widgets/controls",
      "model_module_version": "1.5.0",
      "model_name": "TextareaModel",
      "state": {
       "layout": "IPY_MODEL_a2631a1f2fdd4a6c9f08e2349da5468a",
       "style": "IPY_MODEL_73821b7206fb4c0fb63f6bafe5d7dab1",
       "value": "Zn"
      }
     },
     "599d94bfdcad4be1ba1aa7131089493d": {
      "model_module": "@jupyter-widgets/controls",
      "model_module_version": "1.5.0",
      "model_name": "VBoxModel",
      "state": {
       "children": [
        "IPY_MODEL_f7f5ab69333d47dc89bfb1be3a7d2855",
        "IPY_MODEL_e3acec94bd454d0c97d74e1a7a277dd3",
        "IPY_MODEL_7bdd57665f464da1a9605b5729da1be8"
       ],
       "layout": "IPY_MODEL_388e25088f914db681e850f3574c7e31"
      }
     },
     "59e53461525240739d511c38c558d8de": {
      "model_module": "@jupyter-widgets/controls",
      "model_module_version": "1.5.0",
      "model_name": "DescriptionStyleModel",
      "state": {
       "description_width": "35px"
      }
     },
     "5a2012f0446d490a8c50176a64f55c46": {
      "model_module": "@jupyter-widgets/controls",
      "model_module_version": "1.5.0",
      "model_name": "ButtonModel",
      "state": {
       "description": "liq make",
       "layout": "IPY_MODEL_b49a578f6d3e4921a6af0ec4844868ac",
       "style": "IPY_MODEL_b8d9a5c087ce422ca4b945eee6489621"
      }
     },
     "5a5141bb85804bd4ae33889b8df650e4": {
      "model_module": "@jupyter-widgets/controls",
      "model_module_version": "1.5.0",
      "model_name": "ButtonModel",
      "state": {
       "description": "conects",
       "layout": "IPY_MODEL_c0c675d9100d411a9e17ab26e000788c",
       "style": "IPY_MODEL_3c9e25cc34514bc287e07771d35a4b79"
      }
     },
     "5a5bd408406d4a248e0f386872a58086": {
      "model_module": "@jupyter-widgets/controls",
      "model_module_version": "1.5.0",
      "model_name": "ButtonStyleModel",
      "state": {}
     },
     "5a9557066009419d88c137394350c6a8": {
      "model_module": "@jupyter-widgets/base",
      "model_module_version": "1.2.0",
      "model_name": "LayoutModel",
      "state": {
       "width": "380px"
      }
     },
     "5b6de62c7c07466c8e1455593e8af647": {
      "model_module": "@jupyter-widgets/controls",
      "model_module_version": "1.5.0",
      "model_name": "HBoxModel",
      "state": {
       "children": [
        "IPY_MODEL_5864ef83897344be80c0921c273ebe61",
        "IPY_MODEL_b6120d9e5fee455c931e3e044a9b331c",
        "IPY_MODEL_07f1857e7de048e0ba57a2c2112f3e17"
       ],
       "layout": "IPY_MODEL_9f050c8bb5624f40b1193b1999fd8a02"
      }
     },
     "5c5cf3b68bcf4396a558ceeefd42d54b": {
      "model_module": "@jupyter-widgets/controls",
      "model_module_version": "1.5.0",
      "model_name": "SliderStyleModel",
      "state": {
       "description_width": ""
      }
     },
     "5cd7edefb00646858dc49c4462758810": {
      "model_module": "@jupyter-widgets/controls",
      "model_module_version": "1.5.0",
      "model_name": "FloatTextModel",
      "state": {
       "description": "mult",
       "layout": "IPY_MODEL_34f06e72e7e6414ab00b2c75be1a80dc",
       "step": 0.05,
       "style": "IPY_MODEL_806d1cbbf8d6405088784a6b2dd98519",
       "value": 1
      }
     },
     "5d53ab73a48b44818ee5db7414fa99c9": {
      "model_module": "@jupyter-widgets/controls",
      "model_module_version": "1.5.0",
      "model_name": "ButtonStyleModel",
      "state": {}
     },
     "5de100ae09ac43ad99a271df0edd4eb8": {
      "model_module": "@jupyter-widgets/base",
      "model_module_version": "1.2.0",
      "model_name": "LayoutModel",
      "state": {
       "width": "140px"
      }
     },
     "5e1f895bcd9449fd9d8e4121b3c860cf": {
      "model_module": "@jupyter-widgets/controls",
      "model_module_version": "1.5.0",
      "model_name": "ButtonModel",
      "state": {
       "description": "set_cell_from_cellpar",
       "layout": "IPY_MODEL_4fa9b42ce79f4b3eb88c5b1ed860cba1",
       "style": "IPY_MODEL_a039be40e8e346509e6a7a96f6ef813e"
      }
     },
     "5e2d2de198ed4bbcb7c0cb4c03d277de": {
      "model_module": "@jupyter-widgets/base",
      "model_module_version": "1.2.0",
      "model_name": "LayoutModel",
      "state": {}
     },
     "5e2ef58d80374da3977bab6c773cb78f": {
      "model_module": "@jupyter-widgets/base",
      "model_module_version": "1.2.0",
      "model_name": "LayoutModel",
      "state": {
       "width": "180px"
      }
     },
     "5e9e43552c1f4431b71b0a12b5d7795f": {
      "model_module": "@jupyter-widgets/base",
      "model_module_version": "1.2.0",
      "model_name": "LayoutModel",
      "state": {
       "height": "45px",
       "width": "360px"
      }
     },
     "5f236adc83364e61a452f98da29e45ec": {
      "model_module": "@jupyter-widgets/controls",
      "model_module_version": "1.5.0",
      "model_name": "SliderStyleModel",
      "state": {
       "description_width": ""
      }
     },
     "5f5a1070816c466c8d0394bab0f7aa7a": {
      "model_module": "@jupyter-widgets/controls",
      "model_module_version": "1.5.0",
      "model_name": "ButtonStyleModel",
      "state": {}
     },
     "5f72263108c14cd599df82fe793c26f1": {
      "model_module": "@jupyter-widgets/base",
      "model_module_version": "1.2.0",
      "model_name": "LayoutModel",
      "state": {
       "width": "50px"
      }
     },
     "5f873df664944b02af37415d20066880": {
      "model_module": "@jupyter-widgets/controls",
      "model_module_version": "1.5.0",
      "model_name": "HBoxModel",
      "state": {
       "children": [
        "IPY_MODEL_e94c238cbca842559311481511e54a78",
        "IPY_MODEL_e577dcecb8174c06be8474e4f88da8aa"
       ],
       "layout": "IPY_MODEL_9f76c354c85c4cadb06bb029a7a7515d"
      }
     },
     "5fe756f151624915a06e3252c3354b5b": {
      "model_module": "@jupyter-widgets/controls",
      "model_module_version": "1.5.0",
      "model_name": "ButtonStyleModel",
      "state": {}
     },
     "60832cb135884958bbfe3e4659189cab": {
      "model_module": "@jupyter-widgets/base",
      "model_module_version": "1.2.0",
      "model_name": "LayoutModel",
      "state": {
       "width": "80px"
      }
     },
     "6104b2dac8954f43b09600f71be52e00": {
      "model_module": "@jupyter-widgets/base",
      "model_module_version": "1.2.0",
      "model_name": "LayoutModel",
      "state": {}
     },
     "611455bf6eb041f7b737acebf28ad16f": {
      "model_module": "@jupyter-widgets/controls",
      "model_module_version": "1.5.0",
      "model_name": "DescriptionStyleModel",
      "state": {
       "description_width": ""
      }
     },
     "6120247a7ee94ed88a32392051c37687": {
      "model_module": "@jupyter-widgets/base",
      "model_module_version": "1.2.0",
      "model_name": "LayoutModel",
      "state": {
       "width": "100px"
      }
     },
     "61696bca915b448799b81978cbeecd34": {
      "model_module": "@jupyter-widgets/controls",
      "model_module_version": "1.5.0",
      "model_name": "DescriptionStyleModel",
      "state": {
       "description_width": "30px"
      }
     },
     "61edbbcd0b124515ace279965fefb3c9": {
      "model_module": "@jupyter-widgets/controls",
      "model_module_version": "1.5.0",
      "model_name": "DescriptionStyleModel",
      "state": {
       "description_width": ""
      }
     },
     "621d16fdfdfd43cab80d764827e0f862": {
      "model_module": "@jupyter-widgets/controls",
      "model_module_version": "1.5.0",
      "model_name": "HBoxModel",
      "state": {
       "children": [
        "IPY_MODEL_e611fe15e1834cde81d2e8e6983bbe69",
        "IPY_MODEL_57ccf242ec464fb182b95d683d0ad58c"
       ],
       "layout": "IPY_MODEL_8165c692fae64636a0c3ad9b42e3f60d"
      }
     },
     "6221819a12b24e3b83892ed2dfb6d186": {
      "model_module": "@jupyter-widgets/base",
      "model_module_version": "1.2.0",
      "model_name": "LayoutModel",
      "state": {}
     },
     "624e574f310743e4b9d893b9411d86a8": {
      "model_module": "@jupyter-widgets/base",
      "model_module_version": "1.2.0",
      "model_name": "LayoutModel",
      "state": {}
     },
     "62bc49a657f24adbbecad4cc3a55717a": {
      "model_module": "@jupyter-widgets/controls",
      "model_module_version": "1.5.0",
      "model_name": "ButtonStyleModel",
      "state": {}
     },
     "6335a9dc2e1d48e590ca7b1d4b7e78c8": {
      "model_module": "@jupyter-widgets/base",
      "model_module_version": "1.2.0",
      "model_name": "LayoutModel",
      "state": {}
     },
     "633dc2f2d3ad4f8ea7fdf51232546630": {
      "model_module": "@jupyter-widgets/controls",
      "model_module_version": "1.5.0",
      "model_name": "VBoxModel",
      "state": {
       "children": [
        "IPY_MODEL_72399a5c2dab4ead96c6ba681bc110e4",
        "IPY_MODEL_daf8f9552c4c45f08a51555548c3bf3f",
        "IPY_MODEL_a4e3eace737844ed8c57a9a7b86d0331",
        "IPY_MODEL_581233e27f5644168ef4b1472252906e",
        "IPY_MODEL_b786e083f848490c872e80ab1f6555cb",
        "IPY_MODEL_548f429413cf4b61af3a703874ed5116",
        "IPY_MODEL_d7c45e17d9b340239476bdd9ef5e136b"
       ],
       "layout": "IPY_MODEL_b8a3dfe43d6440d38c8701b6ee15f183"
      }
     },
     "635edaececd84877bed2c1a978f7b969": {
      "model_module": "@jupyter-widgets/base",
      "model_module_version": "1.2.0",
      "model_name": "LayoutModel",
      "state": {
       "width": "110px"
      }
     },
     "63663f68de4941c9be7448ed1987f785": {
      "model_module": "@jupyter-widgets/base",
      "model_module_version": "1.2.0",
      "model_name": "LayoutModel",
      "state": {
       "width": "140px"
      }
     },
     "63b49a6e64b64034b057554617c79046": {
      "model_module": "@jupyter-widgets/controls",
      "model_module_version": "1.5.0",
      "model_name": "VBoxModel",
      "state": {
       "children": [
        "IPY_MODEL_6c5582a8be2e4debbc82740bbf779bf2",
        "IPY_MODEL_633dc2f2d3ad4f8ea7fdf51232546630"
       ],
       "layout": "IPY_MODEL_061974b5b7a1479c996f1b62655f8cb8"
      }
     },
     "64170d6df2bf49fa91b4529565a7a5b1": {
      "model_module": "@jupyter-widgets/controls",
      "model_module_version": "1.5.0",
      "model_name": "IntTextModel",
      "state": {
       "description": "width",
       "layout": "IPY_MODEL_adf9940a7bc341fb931dc1fbe203040e",
       "step": 50,
       "style": "IPY_MODEL_10902cf08b6c44b1875dea7f64daccaa",
       "value": 900
      }
     },
     "641b85b723504720b9bdbe5c4989b27f": {
      "model_module": "@jupyter-widgets/controls",
      "model_module_version": "1.5.0",
      "model_name": "DescriptionStyleModel",
      "state": {
       "description_width": "50px"
      }
     },
     "64306879db754e7cbe00f126530949d1": {
      "model_module": "@jupyter-widgets/base",
      "model_module_version": "1.2.0",
      "model_name": "LayoutModel",
      "state": {}
     },
     "6477f409a35e4e45883640d65a5fe59e": {
      "model_module": "@jupyter-widgets/controls",
      "model_module_version": "1.5.0",
      "model_name": "IntTextModel",
      "state": {
       "description": "B#",
       "layout": "IPY_MODEL_09539a8066854ff5963ddac54df46afa",
       "step": 1,
       "style": "IPY_MODEL_7fa19832d17646eaab94fc2310864b21"
      }
     },
     "64a4190ecbc647089aee11dc996cf849": {
      "model_module": "@jupyter-widgets/controls",
      "model_module_version": "1.5.0",
      "model_name": "ButtonModel",
      "state": {
       "description": "get_cellinfo",
       "layout": "IPY_MODEL_893df43406f846e3b0b3f94802575415",
       "style": "IPY_MODEL_fccf3c7c71ca40358a5cbb7f5b876de2"
      }
     },
     "64ae704ef7b94381b0ba83f1420d10db": {
      "model_module": "@jupyter-widgets/controls",
      "model_module_version": "1.5.0",
      "model_name": "HBoxModel",
      "state": {
       "children": [
        "IPY_MODEL_4632971207aa4ad3a44bdd14ae4f8eeb",
        "IPY_MODEL_041da5fe1a234f779423bb26c20b90ee",
        "IPY_MODEL_9c80ab8adb5f4f76a60fad352a1d5804"
       ],
       "layout": "IPY_MODEL_35e25c21d6d14e2499247419dfd6affa"
      }
     },
     "64da7de71afb4fbf8ab04e21e8ecd6a5": {
      "model_module": "@jupyter-widgets/controls",
      "model_module_version": "1.5.0",
      "model_name": "FloatTextModel",
      "state": {
       "description": "time_step fs",
       "layout": "IPY_MODEL_d157118778e34b1894fe7932dcd992ed",
       "step": 0.5,
       "style": "IPY_MODEL_61edbbcd0b124515ace279965fefb3c9",
       "value": 1
      }
     },
     "656ea77dfb4044969c0ebf275ee369e9": {
      "model_module": "@jupyter-widgets/controls",
      "model_module_version": "1.5.0",
      "model_name": "DescriptionStyleModel",
      "state": {
       "description_width": ""
      }
     },
     "660e0948fe8c48a3ab14e1556a5a3806": {
      "model_module": "@jupyter-widgets/base",
      "model_module_version": "1.2.0",
      "model_name": "LayoutModel",
      "state": {}
     },
     "667ec7c73939469995d8c29cdcf48bda": {
      "model_module": "@jupyter-widgets/base",
      "model_module_version": "1.2.0",
      "model_name": "LayoutModel",
      "state": {
       "width": "80px"
      }
     },
     "66eb0fea4e204d738e01ce7870250045": {
      "model_module": "@jupyter-widgets/output",
      "model_module_version": "1.0.0",
      "model_name": "OutputModel",
      "state": {
       "layout": "IPY_MODEL_adc4bb3e061c46c4b12804d1eb39cfe0"
      }
     },
     "670714b8c2534d5093c25f1e95d7ab49": {
      "model_module": "@jupyter-widgets/controls",
      "model_module_version": "1.5.0",
      "model_name": "DescriptionStyleModel",
      "state": {
       "description_width": ""
      }
     },
     "67406e14771740419655de6009a35027": {
      "model_module": "@jupyter-widgets/controls",
      "model_module_version": "1.5.0",
      "model_name": "DescriptionStyleModel",
      "state": {
       "description_width": ""
      }
     },
     "67495a0f347643a99a44369454ba9e0c": {
      "model_module": "@jupyter-widgets/base",
      "model_module_version": "1.2.0",
      "model_name": "LayoutModel",
      "state": {
       "width": "120px"
      }
     },
     "675f7ae660f040139f398fe9ee13e72b": {
      "model_module": "@jupyter-widgets/controls",
      "model_module_version": "1.5.0",
      "model_name": "DescriptionStyleModel",
      "state": {
       "description_width": ""
      }
     },
     "67b42bf23f7b473ca34285467bb80033": {
      "model_module": "@jupyter-widgets/controls",
      "model_module_version": "1.5.0",
      "model_name": "FloatTextModel",
      "state": {
       "description": "mult",
       "layout": "IPY_MODEL_7760afca7ae64e5683f48fe8c06f83a8",
       "step": 0.05,
       "style": "IPY_MODEL_3ef10e09ee7c4b69990ce00c401749fc",
       "value": 1
      }
     },
     "67cf9d5dc66344dfa1cb1f7c0ff14c2e": {
      "model_module": "@jupyter-widgets/base",
      "model_module_version": "1.2.0",
      "model_name": "LayoutModel",
      "state": {}
     },
     "67f3fe23a330481a893222db94d30d37": {
      "model_module": "@jupyter-widgets/controls",
      "model_module_version": "1.5.0",
      "model_name": "ButtonStyleModel",
      "state": {}
     },
     "6871370e929247d99d2070c385cc41ba": {
      "model_module": "@jupyter-widgets/base",
      "model_module_version": "1.2.0",
      "model_name": "LayoutModel",
      "state": {}
     },
     "68773712654c43bf9154aba8e5ec4cce": {
      "model_module": "@jupyter-widgets/controls",
      "model_module_version": "1.5.0",
      "model_name": "IntTextModel",
      "state": {
       "description": "from",
       "layout": "IPY_MODEL_d78d9f889ac94ce18735b1f515a40743",
       "step": 1,
       "style": "IPY_MODEL_59e53461525240739d511c38c558d8de"
      }
     },
     "68ffa24cc0c442e79759a03e550850a1": {
      "model_module": "@jupyter-widgets/base",
      "model_module_version": "1.2.0",
      "model_name": "LayoutModel",
      "state": {
       "width": "130px"
      }
     },
     "692b182fc14447c6832bbefd3aad5232": {
      "model_module": "@jupyter-widgets/controls",
      "model_module_version": "1.5.0",
      "model_name": "IntTextModel",
      "state": {
       "description": "##",
       "layout": "IPY_MODEL_b3c72c5afff049a689ff8ada40285a3b",
       "step": 1,
       "style": "IPY_MODEL_61696bca915b448799b81978cbeecd34"
      }
     },
     "692ec492f8db4da3b07dc93de57002c8": {
      "model_module": "@jupyter-widgets/base",
      "model_module_version": "1.2.0",
      "model_name": "LayoutModel",
      "state": {}
     },
     "694d4bf40e054865bcb040c62ced9cf6": {
      "model_module": "@jupyter-widgets/base",
      "model_module_version": "1.2.0",
      "model_name": "LayoutModel",
      "state": {
       "width": "50px"
      }
     },
     "69bb32d19de84cd7af9e2e319c1d583e": {
      "model_module": "@jupyter-widgets/controls",
      "model_module_version": "1.5.0",
      "model_name": "DescriptionStyleModel",
      "state": {
       "description_width": ""
      }
     },
     "6a05719e2f4748429c75a06d2c99d6ff": {
      "model_module": "@jupyter-widgets/controls",
      "model_module_version": "1.5.0",
      "model_name": "DescriptionStyleModel",
      "state": {
       "description_width": "45px"
      }
     },
     "6a16a8b411d34415b4f902f8563fbcd3": {
      "model_module": "@jupyter-widgets/base",
      "model_module_version": "1.2.0",
      "model_name": "LayoutModel",
      "state": {
       "width": "150px"
      }
     },
     "6a279845d10f4ab0ae22820690f0b2e4": {
      "model_module": "@jupyter-widgets/controls",
      "model_module_version": "1.5.0",
      "model_name": "ButtonStyleModel",
      "state": {}
     },
     "6a48b7045189441c9fec69b7594b2120": {
      "model_module": "@jupyter-widgets/controls",
      "model_module_version": "1.5.0",
      "model_name": "FloatTextModel",
      "state": {
       "description": "allowance",
       "layout": "IPY_MODEL_63663f68de4941c9be7448ed1987f785",
       "step": 0.5,
       "style": "IPY_MODEL_3f670debd9064f13b4208dd33cb8f79b",
       "value": 3
      }
     },
     "6a7cb83cd1944e629be26055e420b5c9": {
      "model_module": "@jupyter-widgets/controls",
      "model_module_version": "1.5.0",
      "model_name": "HBoxModel",
      "state": {
       "children": [
        "IPY_MODEL_b5d9bb478bf3447e8aa3cbd64d874b50",
        "IPY_MODEL_a24b95ff0b1749499761a96586858443",
        "IPY_MODEL_45e23a56265f40b3835facb0cf3c7b62"
       ],
       "layout": "IPY_MODEL_bb6714ef912e4285aa4492bddb0084e0"
      }
     },
     "6b25f260e122422f849e6672b86a1728": {
      "model_module": "@jupyter-widgets/controls",
      "model_module_version": "1.5.0",
      "model_name": "BoxModel",
      "state": {
       "children": [
        "IPY_MODEL_79331ae7404346d5af69561ff561bbcf"
       ],
       "layout": "IPY_MODEL_4b61144da9a34dfa8f5160ff2d2f627b"
      }
     },
     "6b53f171a6f9404d9d487f581d6960a3": {
      "model_module": "@jupyter-widgets/base",
      "model_module_version": "1.2.0",
      "model_name": "LayoutModel",
      "state": {
       "width": "125px"
      }
     },
     "6b6e87d988254f899546c5d1baab8cc9": {
      "model_module": "@jupyter-widgets/controls",
      "model_module_version": "1.5.0",
      "model_name": "ButtonStyleModel",
      "state": {}
     },
     "6be6f082d6ea47c88f5171c42d2fcdae": {
      "model_module": "@jupyter-widgets/controls",
      "model_module_version": "1.5.0",
      "model_name": "ButtonModel",
      "state": {
       "description": "topview",
       "layout": "IPY_MODEL_1988959a30684177b355ec3a4c9bfa1e",
       "style": "IPY_MODEL_1d9ba9ecaa3c48119aa0c6ad87ca7222"
      }
     },
     "6bf34dad99074f109c2577a5490c5679": {
      "model_module": "@jupyter-widgets/controls",
      "model_module_version": "1.5.0",
      "model_name": "VBoxModel",
      "state": {
       "children": [
        "IPY_MODEL_08cafab2f2a44fd28bddb1afa9a2325d",
        "IPY_MODEL_00d3efee0b2d4473a43407ddb86a9650",
        "IPY_MODEL_cb04e28bc7d54e68b36a327a3a6fd566"
       ],
       "layout": "IPY_MODEL_931a62165d224817b8ba73d2c4c8a8be"
      }
     },
     "6c2b22153c48410683b5278eeb7ac432": {
      "model_module": "@jupyter-widgets/controls",
      "model_module_version": "1.5.0",
      "model_name": "VBoxModel",
      "state": {
       "children": [
        "IPY_MODEL_c9118c92af8442c5b4479b4547444e9a",
        "IPY_MODEL_bc53fefb6ebf49c08151d8669fd9a4af",
        "IPY_MODEL_42241e2d82bc429eb5903ad91d21faf9"
       ],
       "layout": "IPY_MODEL_2dc8e63f4c1a463b8fcf90b9bfbaa180"
      }
     },
     "6c5582a8be2e4debbc82740bbf779bf2": {
      "model_module": "@jupyter-widgets/controls",
      "model_module_version": "1.5.0",
      "model_name": "VBoxModel",
      "state": {
       "children": [
        "IPY_MODEL_0398c0f032ec4f74a547030ddab7670d",
        "IPY_MODEL_0e88d542dc144d8fb1a6ceaeb6e9112e",
        "IPY_MODEL_bfc1c41d4f1244918004b13398c9eeeb",
        "IPY_MODEL_4ab2cc831e2a41f6b08d0e7264027f41",
        "IPY_MODEL_14acb71f919c4929bf14e4cfc548a676",
        "IPY_MODEL_28469e24240a4331b462fa6a1498a745"
       ],
       "layout": "IPY_MODEL_cb0c447365314d5ebf7dea46eed25486"
      }
     },
     "6c64cb0cdb914d22aa07d5ccaa905763": {
      "model_module": "@jupyter-widgets/base",
      "model_module_version": "1.2.0",
      "model_name": "LayoutModel",
      "state": {
       "width": "60px"
      }
     },
     "6cba44235e2f4161a1cdb6fc6b1c61f6": {
      "model_module": "@jupyter-widgets/base",
      "model_module_version": "1.2.0",
      "model_name": "LayoutModel",
      "state": {
       "height": "30px",
       "width": "57px"
      }
     },
     "6cf0cfb16eec49f9b501856347ab54bb": {
      "model_module": "@jupyter-widgets/base",
      "model_module_version": "1.2.0",
      "model_name": "LayoutModel",
      "state": {
       "width": "180px"
      }
     },
     "6d43931e014542acbe0d2d352df58a5d": {
      "model_module": "@jupyter-widgets/base",
      "model_module_version": "1.2.0",
      "model_name": "LayoutModel",
      "state": {}
     },
     "6d65574130ca48ff8aa165f1e9bc8591": {
      "model_module": "@jupyter-widgets/controls",
      "model_module_version": "1.5.0",
      "model_name": "HBoxModel",
      "state": {
       "children": [
        "IPY_MODEL_c3684e9d11bf4c7b89ace616d07d3b5a",
        "IPY_MODEL_331a7ecad8214cf4831408b28227727d",
        "IPY_MODEL_fb0f46c3b0ab4aaf9803962bd0d360e6",
        "IPY_MODEL_751c246228e44b6aaf210a05826e196e",
        "IPY_MODEL_3577c425dcde42de869ac86679f69dcb"
       ],
       "layout": "IPY_MODEL_6335a9dc2e1d48e590ca7b1d4b7e78c8"
      }
     },
     "6d6747ff78904108930da25941933ede": {
      "model_module": "@jupyter-widgets/base",
      "model_module_version": "1.2.0",
      "model_name": "LayoutModel",
      "state": {}
     },
     "6d7212061ecf4d2e9ec01a03bff8042b": {
      "model_module": "@jupyter-widgets/controls",
      "model_module_version": "1.5.0",
      "model_name": "LabelModel",
      "state": {
       "layout": "IPY_MODEL_966f859b64e2418db8e5a5d3268cd2a5",
       "style": "IPY_MODEL_471b5081c54f4665a47dd8d833b935d5",
       "value": "camera"
      }
     },
     "6d78593e7d95412ab0648887014e49f5": {
      "model_module": "@jupyter-widgets/controls",
      "model_module_version": "1.5.0",
      "model_name": "HBoxModel",
      "state": {
       "children": [
        "IPY_MODEL_4bf067739929451396b26898aed448c5",
        "IPY_MODEL_43d8799a2dcb43e394e05c164d0bbc9d",
        "IPY_MODEL_12b0120b617c4f9fbf39a2474e2411a7"
       ],
       "layout": "IPY_MODEL_11fb5412a27c4a31b6f5f1c2111ed802"
      }
     },
     "6d7d0af4750e452da16947cd73844be9": {
      "model_module": "@jupyter-widgets/controls",
      "model_module_version": "1.5.0",
      "model_name": "DropdownModel",
      "state": {
       "_options_labels": [
        "1",
        "2",
        "3",
        "4",
        "5"
       ],
       "description": "x",
       "index": 1,
       "layout": "IPY_MODEL_241cf058c8424d7cb004083bd03ac4cc",
       "style": "IPY_MODEL_ee18e992e68c4a5ebff9af7e1dfa4143"
      }
     },
     "6e1032384799467f895a75fa48bd934e": {
      "model_module": "@jupyter-widgets/base",
      "model_module_version": "1.2.0",
      "model_name": "LayoutModel",
      "state": {
       "width": "80px"
      }
     },
     "6e1036b51e51478fa8888297ae7599b8": {
      "model_module": "@jupyter-widgets/base",
      "model_module_version": "1.2.0",
      "model_name": "LayoutModel",
      "state": {
       "width": "125px"
      }
     },
     "6e1bd193a7654eb8beaf7264f2693c02": {
      "model_module": "@jupyter-widgets/controls",
      "model_module_version": "1.5.0",
      "model_name": "DescriptionStyleModel",
      "state": {
       "description_width": "55px"
      }
     },
     "6e714276130b4e7f88652574633d8f84": {
      "model_module": "@jupyter-widgets/controls",
      "model_module_version": "1.5.0",
      "model_name": "ButtonStyleModel",
      "state": {}
     },
     "6e7367f0b459451e825ffda9c806b450": {
      "model_module": "@jupyter-widgets/base",
      "model_module_version": "1.2.0",
      "model_name": "LayoutModel",
      "state": {
       "width": "150px"
      }
     },
     "6e95d63d5bca4be09e75057d91b43321": {
      "model_module": "@jupyter-widgets/controls",
      "model_module_version": "1.5.0",
      "model_name": "BoxModel",
      "state": {
       "children": [
        "IPY_MODEL_0d069cb3ed624ad0b620b38ad759bf17",
        "IPY_MODEL_3ec395b93bba4085926a36af2a7ad87c"
       ],
       "layout": "IPY_MODEL_b2a4f5946bc243f4a8ebc1148654c81a"
      }
     },
     "6ea52fbb53ef4bab8f59645f1fd76401": {
      "model_module": "@jupyter-widgets/controls",
      "model_module_version": "1.5.0",
      "model_name": "TextModel",
      "state": {
       "description": "cellpar",
       "layout": "IPY_MODEL_eb9522071bd74a7384e6b402814b72b5",
       "style": "IPY_MODEL_ca085f2b98654b5eb3965bff9e164af8"
      }
     },
     "6efaf4f4c97345e096f2a2a68b72e512": {
      "model_module": "@jupyter-widgets/base",
      "model_module_version": "1.2.0",
      "model_name": "LayoutModel",
      "state": {}
     },
     "6f5e3fd597e94418b2a14da243d4383b": {
      "model_module": "@jupyter-widgets/controls",
      "model_module_version": "1.5.0",
      "model_name": "LabelModel",
      "state": {
       "layout": "IPY_MODEL_b1b59bda59604e52a765ff4ca46b7836",
       "style": "IPY_MODEL_03a4dfc378664f3e9915152660d754b1",
       "value": "For Move/Rote"
      }
     },
     "6fcbb6017843495ba3dc68a950cffe7e": {
      "model_module": "@jupyter-widgets/controls",
      "model_module_version": "1.5.0",
      "model_name": "IntSliderModel",
      "state": {
       "description": "Opt_n",
       "layout": "IPY_MODEL_32cc9effc1e440b9a30eda11dbb534d0",
       "style": "IPY_MODEL_dcbb4eaeff804186bc27f8c4e0f605b9"
      }
     },
     "6ff4440a89bb4fed8173e255fe4a24c1": {
      "model_module": "@jupyter-widgets/controls",
      "model_module_version": "1.5.0",
      "model_name": "ButtonModel",
      "state": {
       "description": "NVT run",
       "layout": "IPY_MODEL_c8bd0a9ff79e4f84be59a3034e3f59b7",
       "style": "IPY_MODEL_c9c30b0215b54585bc53b7383dfa2087"
      }
     },
     "714e7dd657954c5aa89e25da11e9d4d4": {
      "model_module": "@jupyter-widgets/controls",
      "model_module_version": "1.5.0",
      "model_name": "ButtonModel",
      "state": {
       "description": "Delete",
       "layout": "IPY_MODEL_f8ebf0671fa6436e945675241a4ec333",
       "style": "IPY_MODEL_5a5bd408406d4a248e0f386872a58086"
      }
     },
     "71961d3ef299443087eb6fd939ddc935": {
      "model_module": "@jupyter-widgets/controls",
      "model_module_version": "1.5.0",
      "model_name": "DescriptionStyleModel",
      "state": {
       "description_width": "50px"
      }
     },
     "719f719dd9bf47f388c0a1699e6ae633": {
      "model_module": "@jupyter-widgets/base",
      "model_module_version": "1.2.0",
      "model_name": "LayoutModel",
      "state": {
       "width": "125px"
      }
     },
     "71a765eb3c36408e922dcc84fe30617f": {
      "model_module": "@jupyter-widgets/controls",
      "model_module_version": "1.5.0",
      "model_name": "DropdownModel",
      "state": {
       "_options_labels": [
        "<",
        ">="
       ],
       "index": 0,
       "layout": "IPY_MODEL_5f72263108c14cd599df82fe793c26f1",
       "style": "IPY_MODEL_13c8db49205542b78f61b0ca1b2e9214"
      }
     },
     "72399a5c2dab4ead96c6ba681bc110e4": {
      "model_module": "@jupyter-widgets/controls",
      "model_module_version": "1.5.0",
      "model_name": "LabelModel",
      "state": {
       "layout": "IPY_MODEL_624e574f310743e4b9d893b9411d86a8",
       "style": "IPY_MODEL_c80d9af74d544c0cb9043ad3847335e4",
       "value": "Display setting"
      }
     },
     "729777d92ba54107b84f8a16cf2a3628": {
      "model_module": "@jupyter-widgets/base",
      "model_module_version": "1.2.0",
      "model_name": "LayoutModel",
      "state": {}
     },
     "731fea426b6b48a0be749f6dc7dcb314": {
      "model_module": "@jupyter-widgets/controls",
      "model_module_version": "1.5.0",
      "model_name": "ButtonStyleModel",
      "state": {}
     },
     "73558f7b81c84106a86877ea4045edcf": {
      "model_module": "@jupyter-widgets/controls",
      "model_module_version": "1.5.0",
      "model_name": "ButtonModel",
      "state": {
       "description": "Del##",
       "layout": "IPY_MODEL_0573e7a5ce9543c690ea889f3ad75f82",
       "style": "IPY_MODEL_c99be2d7c10c49118bb82ee0d4b2d942"
      }
     },
     "73619b30679749c78d145e6641828ac1": {
      "model_module": "@jupyter-widgets/controls",
      "model_module_version": "1.5.0",
      "model_name": "DescriptionStyleModel",
      "state": {
       "description_width": ""
      }
     },
     "73821b7206fb4c0fb63f6bafe5d7dab1": {
      "model_module": "@jupyter-widgets/controls",
      "model_module_version": "1.5.0",
      "model_name": "DescriptionStyleModel",
      "state": {
       "description_width": ""
      }
     },
     "74d56169277a4df7b397f4601176ff88": {
      "model_module": "@jupyter-widgets/base",
      "model_module_version": "1.2.0",
      "model_name": "LayoutModel",
      "state": {
       "width": "180px"
      }
     },
     "751c246228e44b6aaf210a05826e196e": {
      "model_module": "@jupyter-widgets/controls",
      "model_module_version": "1.5.0",
      "model_name": "ButtonModel",
      "state": {
       "description": "Save",
       "layout": "IPY_MODEL_7f6234d95bed43afb16a52c10731a698",
       "style": "IPY_MODEL_d3e7c2296365455c89148f7dee85287a"
      }
     },
     "752107aa52024a9091a85e618778bb3c": {
      "model_module": "@jupyter-widgets/controls",
      "model_module_version": "1.5.0",
      "model_name": "DescriptionStyleModel",
      "state": {
       "description_width": ""
      }
     },
     "75b99809bea74eacabe1c9cc5470a227": {
      "model_module": "@jupyter-widgets/base",
      "model_module_version": "1.2.0",
      "model_name": "LayoutModel",
      "state": {}
     },
     "75ed7c7e0a97482299d73cfd08773674": {
      "model_module": "@jupyter-widgets/base",
      "model_module_version": "1.2.0",
      "model_name": "LayoutModel",
      "state": {}
     },
     "76f60b5a22fa4ada9fafa6ae5cac2854": {
      "model_module": "@jupyter-widgets/controls",
      "model_module_version": "1.5.0",
      "model_name": "DescriptionStyleModel",
      "state": {
       "description_width": ""
      }
     },
     "771051ec08e346249b74912465b0a1b4": {
      "model_module": "@jupyter-widgets/controls",
      "model_module_version": "1.5.0",
      "model_name": "SliderStyleModel",
      "state": {
       "description_width": ""
      }
     },
     "7721b3c21eec40d38d453cd24444ba16": {
      "model_module": "@jupyter-widgets/controls",
      "model_module_version": "1.5.0",
      "model_name": "IntTextModel",
      "state": {
       "description": "##",
       "layout": "IPY_MODEL_cf22187b412c45758689e697f01fce46",
       "step": 1,
       "style": "IPY_MODEL_8bf92531d1ac402c90cb54d89e0c0c6c"
      }
     },
     "774476c41c9d47f59711c1a3244196ee": {
      "model_module": "@jupyter-widgets/controls",
      "model_module_version": "1.5.0",
      "model_name": "IntTextModel",
      "state": {
       "description": "from",
       "layout": "IPY_MODEL_4f891d0429244a54944ce191072eb9d3",
       "step": 1,
       "style": "IPY_MODEL_aa2ed9c007e241fa8e0bfef7cb22c21b"
      }
     },
     "7760afca7ae64e5683f48fe8c06f83a8": {
      "model_module": "@jupyter-widgets/base",
      "model_module_version": "1.2.0",
      "model_name": "LayoutModel",
      "state": {
       "width": "100px"
      }
     },
     "77cbd3c192344bf08e4a154706de53de": {
      "model_module": "@jupyter-widgets/base",
      "model_module_version": "1.2.0",
      "model_name": "LayoutModel",
      "state": {}
     },
     "77de59bf67414167bd62abfb85c088e8": {
      "model_module": "@jupyter-widgets/base",
      "model_module_version": "1.2.0",
      "model_name": "LayoutModel",
      "state": {}
     },
     "78ac3b5b82ca4521aa1507ba09b2a154": {
      "model_module": "@jupyter-widgets/controls",
      "model_module_version": "1.5.0",
      "model_name": "IntTextModel",
      "state": {
       "description": "md_steps",
       "layout": "IPY_MODEL_def46511cc154c7ab20d3fc5cd4c46e1",
       "step": 100,
       "style": "IPY_MODEL_dd86be3ed2154ea7a10647dcf7bcea20",
       "value": 1000
      }
     },
     "78b859c7bdda4c27bda385458d4c8a25": {
      "model_module": "@jupyter-widgets/controls",
      "model_module_version": "1.5.0",
      "model_name": "DescriptionStyleModel",
      "state": {
       "description_width": ""
      }
     },
     "79331ae7404346d5af69561ff561bbcf": {
      "model_module": "@jupyter-widgets/controls",
      "model_module_version": "1.5.0",
      "model_name": "VBoxModel",
      "state": {
       "children": [
        "IPY_MODEL_599d94bfdcad4be1ba1aa7131089493d",
        "IPY_MODEL_ae3498d56faf49a5b0f5858195e5dda1"
       ],
       "layout": "IPY_MODEL_d132815b29e846e790d3bed66a8b204d"
      }
     },
     "79c6404c819745719c870f0dacc0ab0e": {
      "model_module": "@jupyter-widgets/controls",
      "model_module_version": "1.5.0",
      "model_name": "DescriptionStyleModel",
      "state": {
       "description_width": ""
      }
     },
     "79d876b49f084d5e999947134168131f": {
      "model_module": "@jupyter-widgets/controls",
      "model_module_version": "1.5.0",
      "model_name": "DescriptionStyleModel",
      "state": {
       "description_width": ""
      }
     },
     "79feb766988d48b081342e3d6477a97d": {
      "model_module": "nglview-js-widgets",
      "model_module_version": "3.0.1",
      "model_name": "NGLModel",
      "state": {
       "_camera_orientation": [
        26.086936623213656,
        0,
        0,
        0,
        0,
        26.086936623213656,
        0,
        0,
        0,
        0,
        26.086936623213656,
        0,
        0,
        0,
        -0.375,
        1
       ],
       "_camera_str": "orthographic",
       "_gui_theme": null,
       "_ibtn_fullscreen": "IPY_MODEL_e7fc9b86883b4057867d4bf04f6c8e69",
       "_igui": "IPY_MODEL_44f013740cd4493b81b98132983fb281",
       "_iplayer": "IPY_MODEL_5f873df664944b02af37415d20066880",
       "_ngl_color_dict": {},
       "_ngl_coordinate_resource": {},
       "_ngl_full_stage_parameters": {
        "ambientColor": 14540253,
        "ambientIntensity": 0.2,
        "backgroundColor": "white",
        "cameraEyeSep": 0.3,
        "cameraFov": 40,
        "cameraType": "orthographic",
        "clipDist": 10,
        "clipFar": 100,
        "clipNear": 0,
        "fogFar": 100,
        "fogNear": 50,
        "hoverTimeout": 0,
        "impostor": true,
        "lightColor": 14540253,
        "lightIntensity": 1,
        "mousePreset": "default",
        "panSpeed": 1,
        "quality": "medium",
        "rotateSpeed": 2,
        "sampleLevel": 0,
        "tooltip": true,
        "workerDefault": true,
        "zoomSpeed": 1.2
       },
       "_ngl_msg_archive": [
        {
         "args": [
          {
           "binary": false,
           "data": "MODEL     1\nATOM      1    H MOL     1       0.000   0.000   0.000  1.00  0.00           H  \nATOM      2    H MOL     1       0.000   0.000   0.750  1.00  0.00           H  \nENDMDL\n",
           "type": "blob"
          }
         ],
         "kwargs": {
          "defaultRepresentation": false,
          "ext": "pdb"
         },
         "methodName": "loadFile",
         "reconstruc_color_scheme": false,
         "target": "Stage",
         "type": "call_method"
        },
        {
         "args": [
          "label"
         ],
         "component_index": 0,
         "kwargs": {
          "attachment": "middle_center",
          "color": "black",
          "labelType": "atomindex",
          "radius": 1.5,
          "sele": "all",
          "zOffset": 1
         },
         "methodName": "addRepresentation",
         "reconstruc_color_scheme": false,
         "target": "compList",
         "type": "call_method"
        }
       ],
       "_ngl_original_stage_parameters": {
        "ambientColor": 14540253,
        "ambientIntensity": 0.2,
        "backgroundColor": "white",
        "cameraEyeSep": 0.3,
        "cameraFov": 40,
        "cameraType": "orthographic",
        "clipDist": 10,
        "clipFar": 100,
        "clipNear": 0,
        "fogFar": 100,
        "fogNear": 50,
        "hoverTimeout": 0,
        "impostor": true,
        "lightColor": 14540253,
        "lightIntensity": 1,
        "mousePreset": "default",
        "panSpeed": 1,
        "quality": "medium",
        "rotateSpeed": 2,
        "sampleLevel": 0,
        "tooltip": true,
        "workerDefault": true,
        "zoomSpeed": 1.2
       },
       "_ngl_repr_dict": {
        "0": {
         "0": {
          "params": {
           "aspectRatio": 1.5,
           "assembly": "default",
           "bondScale": 0.3,
           "bondSpacing": 0.75,
           "clipCenter": {
            "x": 0,
            "y": 0,
            "z": 0
           },
           "clipNear": 0,
           "clipRadius": 0,
           "colorMode": "hcl",
           "colorReverse": false,
           "colorScale": "",
           "colorScheme": "element",
           "colorValue": 9474192,
           "cylinderOnly": false,
           "defaultAssembly": "",
           "depthWrite": true,
           "diffuse": 16777215,
           "diffuseInterior": false,
           "disableImpostor": false,
           "disablePicking": false,
           "flatShaded": false,
           "interiorColor": 2236962,
           "interiorDarkening": 0,
           "lazy": false,
           "lineOnly": false,
           "linewidth": 2,
           "matrix": {
            "elements": [
             1,
             0,
             0,
             0,
             0,
             1,
             0,
             0,
             0,
             0,
             1,
             0,
             0,
             0,
             0,
             1
            ]
           },
           "metalness": 0,
           "multipleBond": "off",
           "opacity": 1,
           "openEnded": true,
           "quality": "high",
           "radialSegments": 20,
           "radiusData": {},
           "radiusScale": 2,
           "radiusSize": 0.15,
           "radiusType": "size",
           "roughness": 0.4,
           "sele": "",
           "side": "double",
           "sphereDetail": 2,
           "useInteriorColor": true,
           "visible": true,
           "wireframe": false
          },
          "type": "ball+stick"
         },
         "1": {
          "params": {
           "assembly": "default",
           "attachment": "middle_center",
           "backgroundColor": "lightgrey",
           "backgroundMargin": 0.5,
           "backgroundOpacity": 1,
           "borderColor": "lightgrey",
           "borderWidth": 0.15,
           "clipCenter": {
            "x": 0,
            "y": 0,
            "z": 0
           },
           "clipNear": 0,
           "clipRadius": 0,
           "colorMode": "hcl",
           "colorReverse": false,
           "colorScale": "",
           "colorScheme": "uniform",
           "colorValue": 0,
           "defaultAssembly": "",
           "depthWrite": true,
           "diffuseInterior": false,
           "disablePicking": false,
           "fixedSize": false,
           "fontFamily": "sans-serif",
           "fontStyle": "normal",
           "fontWeight": "bold",
           "interiorColor": 2236962,
           "interiorDarkening": 0,
           "labelFormat": "",
           "labelGrouping": "atom",
           "labelText": {},
           "labelType": "atomindex",
           "lazy": false,
           "matrix": {
            "elements": [
             1,
             0,
             0,
             0,
             0,
             1,
             0,
             0,
             0,
             0,
             1,
             0,
             0,
             0,
             0,
             1
            ]
           },
           "opacity": 1,
           "quality": "medium",
           "radiusData": {},
           "radiusScale": 1,
           "radiusSize": 1.5,
           "radiusType": "size",
           "sele": "all",
           "showBackground": false,
           "showBorder": false,
           "useInteriorColor": false,
           "visible": true,
           "xOffset": 0,
           "yOffset": 0,
           "zOffset": 1
          },
          "type": "label"
         }
        }
       },
       "_ngl_serialize": false,
       "_ngl_version": "2.0.0-dev.36",
       "_ngl_view_id": [
        "2170FE95-4109-4313-8CB6-A2F47C04EC84",
        "C231C829-DD25-4245-B0ED-167005AC3564"
       ],
       "_player_dict": {},
       "_scene_position": {},
       "_scene_rotation": {},
       "_synced_model_ids": [],
       "_synced_repr_model_ids": [],
       "_view_height": "340px",
       "_view_width": "",
       "background": "white",
       "frame": 0,
       "gui_style": null,
       "layout": "IPY_MODEL_ea2ded2d01a945d2adece5e43a9981e9",
       "max_frame": 0,
       "n_components": 1,
       "picked": {}
      }
     },
     "7a2764f49cdb42a39d0e3bd62de2c6d2": {
      "model_module": "@jupyter-widgets/controls",
      "model_module_version": "1.5.0",
      "model_name": "LabelModel",
      "state": {
       "layout": "IPY_MODEL_c509a292648e45fb9a10d97bb12ea209",
       "style": "IPY_MODEL_13ae37eaf5e3426392a7b16685901a27",
       "value": "to make Liquid from atoms"
      }
     },
     "7a97fcc2e0ef48b8953d088f2939c10f": {
      "model_module": "@jupyter-widgets/controls",
      "model_module_version": "1.5.0",
      "model_name": "IntTextModel",
      "state": {
       "description": "min_vacuum",
       "layout": "IPY_MODEL_ede65b662a714f1a8f9399e992dbaabb",
       "step": 1,
       "style": "IPY_MODEL_611455bf6eb041f7b737acebf28ad16f",
       "value": 30
      }
     },
     "7aba0e6489af4c068a9ec81d4ff0a863": {
      "model_module": "@jupyter-widgets/controls",
      "model_module_version": "1.5.0",
      "model_name": "DescriptionStyleModel",
      "state": {
       "description_width": "55px"
      }
     },
     "7aea691a33004dcc9874fc374a57b2fb": {
      "model_module": "@jupyter-widgets/controls",
      "model_module_version": "1.5.0",
      "model_name": "HBoxModel",
      "state": {
       "children": [
        "IPY_MODEL_9be7cac48171430584527b0a1dfd2985",
        "IPY_MODEL_c5129ea0ba8b49a8ab95b11220fe43c5",
        "IPY_MODEL_ae85ec8a6fcb4add8765e67eec04b167",
        "IPY_MODEL_2c47c9a5f285469284ccb68212abe86f",
        "IPY_MODEL_4d72316d1c974df5906d134464b896c4",
        "IPY_MODEL_50becb403de04095953e33037e92467a",
        "IPY_MODEL_73558f7b81c84106a86877ea4045edcf"
       ],
       "layout": "IPY_MODEL_f992d8ff94754d79ba217ab30d1f84b5"
      }
     },
     "7aecc1eaf9f44e168ff94618f91f84d7": {
      "model_module": "@jupyter-widgets/controls",
      "model_module_version": "1.5.0",
      "model_name": "IntTextModel",
      "state": {
       "description": "#",
       "layout": "IPY_MODEL_ac9aa14955904b698f629b968f27d7ae",
       "step": 1,
       "style": "IPY_MODEL_41aea552f4c54a788b929b39531b7f8c"
      }
     },
     "7bb539a43ec5428e96b82e0c629d0942": {
      "model_module": "@jupyter-widgets/base",
      "model_module_version": "1.2.0",
      "model_name": "LayoutModel",
      "state": {
       "width": "125px"
      }
     },
     "7bbe903998ec4daa97060998b3d9c303": {
      "model_module": "@jupyter-widgets/base",
      "model_module_version": "1.2.0",
      "model_name": "LayoutModel",
      "state": {
       "height": "320px",
       "overflow_x": "hidden",
       "overflow_y": "scroll",
       "width": "385px"
      }
     },
     "7bdd57665f464da1a9605b5729da1be8": {
      "model_module": "@jupyter-widgets/controls",
      "model_module_version": "1.5.0",
      "model_name": "HBoxModel",
      "state": {
       "children": [
        "IPY_MODEL_3b339377e0aa411db2cbcfd484e064a6",
        "IPY_MODEL_e2cfaecf5ec34207808733c84a86c2d8"
       ],
       "layout": "IPY_MODEL_5e2d2de198ed4bbcb7c0cb4c03d277de"
      }
     },
     "7c0607c664e84ee9aa246b52c24b8aee": {
      "model_module": "@jupyter-widgets/base",
      "model_module_version": "1.2.0",
      "model_name": "LayoutModel",
      "state": {
       "width": "50px"
      }
     },
     "7c6095c88c7e4a35b998ad105af18655": {
      "model_module": "@jupyter-widgets/base",
      "model_module_version": "1.2.0",
      "model_name": "LayoutModel",
      "state": {
       "width": "150px"
      }
     },
     "7d581279601c47508a788cbc0279a2dc": {
      "model_module": "@jupyter-widgets/base",
      "model_module_version": "1.2.0",
      "model_name": "LayoutModel",
      "state": {}
     },
     "7e623c6c39eb4ad39f8ba7f5b615a16d": {
      "model_module": "@jupyter-widgets/base",
      "model_module_version": "1.2.0",
      "model_name": "LayoutModel",
      "state": {}
     },
     "7e8857a3104d4788b90ab8ff27f9981f": {
      "model_module": "@jupyter-widgets/controls",
      "model_module_version": "1.5.0",
      "model_name": "ButtonStyleModel",
      "state": {}
     },
     "7ed285445090403ba2cbec472db6467e": {
      "model_module": "@jupyter-widgets/base",
      "model_module_version": "1.2.0",
      "model_name": "LayoutModel",
      "state": {
       "width": "62px"
      }
     },
     "7f010e65a6c749dfa51e7d5cce2d4811": {
      "model_module": "@jupyter-widgets/controls",
      "model_module_version": "1.5.0",
      "model_name": "BoundedFloatTextModel",
      "state": {
       "description": "hullabove<",
       "layout": "IPY_MODEL_833625e9bd5645f6a57bc25013418db6",
       "step": 0.05,
       "style": "IPY_MODEL_e32b6008a5cf45799b368e47f16ea733",
       "value": 0.3
      }
     },
     "7f48a33be62e4ff89024a3f283f58000": {
      "model_module": "@jupyter-widgets/controls",
      "model_module_version": "1.5.0",
      "model_name": "DescriptionStyleModel",
      "state": {
       "description_width": ""
      }
     },
     "7f6234d95bed43afb16a52c10731a698": {
      "model_module": "@jupyter-widgets/base",
      "model_module_version": "1.2.0",
      "model_name": "LayoutModel",
      "state": {
       "height": "30px",
       "width": "50px"
      }
     },
     "7f731d312bd3408aa4bf5a1f74a57a7c": {
      "model_module": "@jupyter-widgets/base",
      "model_module_version": "1.2.0",
      "model_name": "LayoutModel",
      "state": {
       "height": "30px",
       "width": "80px"
      }
     },
     "7f9c235fd82047568f4f06c9b2151577": {
      "model_module": "@jupyter-widgets/controls",
      "model_module_version": "1.5.0",
      "model_name": "ButtonStyleModel",
      "state": {}
     },
     "7fa19832d17646eaab94fc2310864b21": {
      "model_module": "@jupyter-widgets/controls",
      "model_module_version": "1.5.0",
      "model_name": "DescriptionStyleModel",
      "state": {
       "description_width": "80px"
      }
     },
     "803887f504354f1992cffb018ed3751f": {
      "model_module": "@jupyter-widgets/controls",
      "model_module_version": "1.5.0",
      "model_name": "FloatTextModel",
      "state": {
       "description": "temp_k",
       "layout": "IPY_MODEL_b428166c3aee4758afe4c5fb4ae276c3",
       "step": null,
       "style": "IPY_MODEL_1737c41a1c9c441a9d317d05a1215e0b",
       "value": 298
      }
     },
     "806d1cbbf8d6405088784a6b2dd98519": {
      "model_module": "@jupyter-widgets/controls",
      "model_module_version": "1.5.0",
      "model_name": "DescriptionStyleModel",
      "state": {
       "description_width": "35px"
      }
     },
     "8074327e65a74b6ba05e70b8dcf006ad": {
      "model_module": "@jupyter-widgets/controls",
      "model_module_version": "1.5.0",
      "model_name": "HBoxModel",
      "state": {
       "children": [
        "IPY_MODEL_160a002a9cbe4b9fb7c99506e4160041",
        "IPY_MODEL_71a765eb3c36408e922dcc84fe30617f",
        "IPY_MODEL_90d642c801bd4de6823481ec98fe7d59"
       ],
       "layout": "IPY_MODEL_e8fc1e2ba46c43b8858b55d379025679"
      }
     },
     "807c8f6922df44d99a5ee17e7708e098": {
      "model_module": "@jupyter-widgets/controls",
      "model_module_version": "1.5.0",
      "model_name": "LabelModel",
      "state": {
       "layout": "IPY_MODEL_4ecccc1c3c9f4e11b39752eb6e57b369",
       "style": "IPY_MODEL_0a10ec1a799f4c4694f5f3a2b61db762",
       "value": "pbc allowance for no pbc atoms"
      }
     },
     "80e2d3f1351c4af4a8d4c0c4210d8806": {
      "model_module": "@jupyter-widgets/base",
      "model_module_version": "1.2.0",
      "model_name": "LayoutModel",
      "state": {}
     },
     "80f8d8a3ac7b4d9082988cc60c9bb629": {
      "model_module": "@jupyter-widgets/controls",
      "model_module_version": "1.5.0",
      "model_name": "DescriptionStyleModel",
      "state": {
       "description_width": ""
      }
     },
     "80ffe0f8eaa042808e267b76aea6e888": {
      "model_module": "@jupyter-widgets/controls",
      "model_module_version": "1.5.0",
      "model_name": "DescriptionStyleModel",
      "state": {
       "description_width": ""
      }
     },
     "8108d7b4b5eb4fe381878f83db1d5d0c": {
      "model_module": "@jupyter-widgets/base",
      "model_module_version": "1.2.0",
      "model_name": "LayoutModel",
      "state": {
       "width": "50px"
      }
     },
     "8153005f2c4d4e69bf9dbae69ee4504d": {
      "model_module": "@jupyter-widgets/controls",
      "model_module_version": "1.5.0",
      "model_name": "HBoxModel",
      "state": {
       "children": [
        "IPY_MODEL_ee2bc067afdb4873b776f95debaec597",
        "IPY_MODEL_774476c41c9d47f59711c1a3244196ee",
        "IPY_MODEL_0c440444c7794caca87917283bd1ea52"
       ],
       "layout": "IPY_MODEL_9a33bfddcd1c4c6e826a6a08fe86d6a9"
      }
     },
     "8165c692fae64636a0c3ad9b42e3f60d": {
      "model_module": "@jupyter-widgets/base",
      "model_module_version": "1.2.0",
      "model_name": "LayoutModel",
      "state": {}
     },
     "81cc4e0e68294c6788a427c1c4ee164d": {
      "model_module": "@jupyter-widgets/controls",
      "model_module_version": "1.5.0",
      "model_name": "VBoxModel",
      "state": {
       "children": [
        "IPY_MODEL_6d65574130ca48ff8aa165f1e9bc8591",
        "IPY_MODEL_c15d255aa8a34880a0dfba0a373a96a3"
       ],
       "layout": "IPY_MODEL_1f3ececc54d24a8a964876a05eb6d74b"
      }
     },
     "820f1dc77a1d4d0089971bfdf9695dfa": {
      "model_module": "@jupyter-widgets/base",
      "model_module_version": "1.2.0",
      "model_name": "LayoutModel",
      "state": {}
     },
     "8253b484c8e547fd979356b8f5e6fa35": {
      "model_module": "@jupyter-widgets/controls",
      "model_module_version": "1.5.0",
      "model_name": "IntTextModel",
      "state": {
       "description": "reNEB images",
       "layout": "IPY_MODEL_6a16a8b411d34415b4f902f8563fbcd3",
       "step": 1,
       "style": "IPY_MODEL_80ffe0f8eaa042808e267b76aea6e888"
      }
     },
     "825709bb761f46d78fe312995f7b159c": {
      "model_module": "@jupyter-widgets/controls",
      "model_module_version": "1.5.0",
      "model_name": "HBoxModel",
      "state": {
       "children": [
        "IPY_MODEL_dfa8bc37008e4f869e857c8a6ef07477",
        "IPY_MODEL_4f956b4d2e0c43fca4afb724a4b129ca"
       ],
       "layout": "IPY_MODEL_67cf9d5dc66344dfa1cb1f7c0ff14c2e"
      }
     },
     "833625e9bd5645f6a57bc25013418db6": {
      "model_module": "@jupyter-widgets/base",
      "model_module_version": "1.2.0",
      "model_name": "LayoutModel",
      "state": {
       "height": "30px",
       "width": "175px"
      }
     },
     "844c22b52f984eef8d55b6f001423a6b": {
      "model_module": "@jupyter-widgets/controls",
      "model_module_version": "1.5.0",
      "model_name": "DescriptionStyleModel",
      "state": {
       "description_width": "35px"
      }
     },
     "8458de3cd2724652933fa3e065d94071": {
      "model_module": "@jupyter-widgets/base",
      "model_module_version": "1.2.0",
      "model_name": "LayoutModel",
      "state": {}
     },
     "847f44b28fdc4330bc124e5e2d050683": {
      "model_module": "@jupyter-widgets/controls",
      "model_module_version": "1.5.0",
      "model_name": "HBoxModel",
      "state": {
       "children": [
        "IPY_MODEL_2ce45b7a5cc94a1885975ddb6a57166c",
        "IPY_MODEL_ddad5a9c105045f49846d3a20400ce20",
        "IPY_MODEL_ce15a33c0ad748fa8f11721ed9226352"
       ],
       "layout": "IPY_MODEL_6d43931e014542acbe0d2d352df58a5d"
      }
     },
     "84df048502304feaa2e9d56444e602e7": {
      "model_module": "@jupyter-widgets/controls",
      "model_module_version": "1.5.0",
      "model_name": "DescriptionStyleModel",
      "state": {
       "description_width": ""
      }
     },
     "84e50a8b932243dcb1e234b3263a40c2": {
      "model_module": "@jupyter-widgets/controls",
      "model_module_version": "1.5.0",
      "model_name": "ButtonStyleModel",
      "state": {}
     },
     "85ba8f3d465d4d95aaa2a7ab527c77b5": {
      "model_module": "@jupyter-widgets/controls",
      "model_module_version": "1.5.0",
      "model_name": "IntTextModel",
      "state": {
       "description": "fin #",
       "layout": "IPY_MODEL_01ef1c91370548c084041f3f341d50ba",
       "step": 1,
       "style": "IPY_MODEL_d9a59ef13b91438c89b10602aee858b4"
      }
     },
     "86b1aa34affe4128b3d80cb032f40666": {
      "model_module": "@jupyter-widgets/controls",
      "model_module_version": "1.5.0",
      "model_name": "ButtonModel",
      "state": {
       "description": "view",
       "layout": "IPY_MODEL_7f731d312bd3408aa4bf5a1f74a57a7c",
       "style": "IPY_MODEL_390202a862ec4787a5186cc6f8e8d391"
      }
     },
     "87f7d9a7629541f5bf43ea2b34e0b03b": {
      "model_module": "@jupyter-widgets/controls",
      "model_module_version": "1.5.0",
      "model_name": "DescriptionStyleModel",
      "state": {
       "description_width": ""
      }
     },
     "87fe29f88dbf45d9a49c9f0570319153": {
      "model_module": "@jupyter-widgets/controls",
      "model_module_version": "1.5.0",
      "model_name": "IntTextModel",
      "state": {
       "description": "from",
       "layout": "IPY_MODEL_6120247a7ee94ed88a32392051c37687",
       "step": 1,
       "style": "IPY_MODEL_a58318f38d204bf09fae02d06b36359c"
      }
     },
     "885ee27b25c4416fbd3030b10a98b50b": {
      "model_module": "@jupyter-widgets/base",
      "model_module_version": "1.2.0",
      "model_name": "LayoutModel",
      "state": {}
     },
     "893df43406f846e3b0b3f94802575415": {
      "model_module": "@jupyter-widgets/base",
      "model_module_version": "1.2.0",
      "model_name": "LayoutModel",
      "state": {
       "width": "240px"
      }
     },
     "89960ac976e44a9196622c6a2119a365": {
      "model_module": "@jupyter-widgets/controls",
      "model_module_version": "1.5.0",
      "model_name": "LabelModel",
      "state": {
       "layout": "IPY_MODEL_b8a08f771bc344e9bd73666db6ec83c8",
       "style": "IPY_MODEL_c6918a99e7244e6da56454c2048c925c",
       "value": "NVT const calc　"
      }
     },
     "89b1b6e837b7449a9eeefec2f2c51b0a": {
      "model_module": "@jupyter-widgets/controls",
      "model_module_version": "1.5.0",
      "model_name": "IntTextModel",
      "state": {
       "description": "nimages",
       "layout": "IPY_MODEL_719f719dd9bf47f388c0a1699e6ae633",
       "step": 5,
       "style": "IPY_MODEL_2bbbb5c9e866475b85d8a0fa3e428175",
       "value": 15
      }
     },
     "89c09e6669a34294a6b6279df82259d7": {
      "model_module": "@jupyter-widgets/controls",
      "model_module_version": "1.5.0",
      "model_name": "DescriptionStyleModel",
      "state": {
       "description_width": ""
      }
     },
     "89c7bbbfff0449f1a8e836c43967762f": {
      "model_module": "@jupyter-widgets/controls",
      "model_module_version": "1.5.0",
      "model_name": "ButtonModel",
      "state": {
       "description": "Smaller",
       "layout": "IPY_MODEL_9e2f4e9034984a028ea91e227ffc926d",
       "style": "IPY_MODEL_286e4e9ccf0e4eff99aa28a927ef36cb"
      }
     },
     "89d8edbdc82b4a558f093fe879441c9c": {
      "model_module": "@jupyter-widgets/controls",
      "model_module_version": "1.5.0",
      "model_name": "ButtonStyleModel",
      "state": {}
     },
     "8a7254a5fc0f442392c5fcc5139d9dbb": {
      "model_module": "@jupyter-widgets/base",
      "model_module_version": "1.2.0",
      "model_name": "LayoutModel",
      "state": {
       "width": "140px"
      }
     },
     "8ac74af20ba6455983b2c88b6762b8d0": {
      "model_module": "@jupyter-widgets/base",
      "model_module_version": "1.2.0",
      "model_name": "LayoutModel",
      "state": {}
     },
     "8ae0fbe96019440f8cda02c3357283c0": {
      "model_module": "@jupyter-widgets/controls",
      "model_module_version": "1.5.0",
      "model_name": "DescriptionStyleModel",
      "state": {
       "description_width": ""
      }
     },
     "8b80718872dd41128f65f9ddbb0dce39": {
      "model_module": "@jupyter-widgets/controls",
      "model_module_version": "1.5.0",
      "model_name": "ButtonStyleModel",
      "state": {}
     },
     "8bd73a010042441c8a5b60de63ca770f": {
      "model_module": "@jupyter-widgets/base",
      "model_module_version": "1.2.0",
      "model_name": "LayoutModel",
      "state": {
       "width": "35px"
      }
     },
     "8bf92531d1ac402c90cb54d89e0c0c6c": {
      "model_module": "@jupyter-widgets/controls",
      "model_module_version": "1.5.0",
      "model_name": "DescriptionStyleModel",
      "state": {
       "description_width": "30px"
      }
     },
     "8c683075fe6e4d488e3945a3fff3200c": {
      "model_module": "@jupyter-widgets/base",
      "model_module_version": "1.2.0",
      "model_name": "LayoutModel",
      "state": {
       "width": "80px"
      }
     },
     "8c6a9f763ef044d5a8629edc5e3dc7a3": {
      "model_module": "@jupyter-widgets/controls",
      "model_module_version": "1.5.0",
      "model_name": "IntTextModel",
      "state": {
       "description": "a",
       "layout": "IPY_MODEL_5e2ef58d80374da3977bab6c773cb78f",
       "step": 1,
       "style": "IPY_MODEL_ee3068446bee470aa300ea7fb5e2f4b0"
      }
     },
     "8ca887ac780a4194ac47f8d097d45540": {
      "model_module": "@jupyter-widgets/controls",
      "model_module_version": "1.5.0",
      "model_name": "HBoxModel",
      "state": {
       "children": [
        "IPY_MODEL_d6f4524ff26d4ca89cc160ccca63b486",
        "IPY_MODEL_185718b67d8841c698c571de963cd676"
       ],
       "layout": "IPY_MODEL_416236342cee43d7bd0baf2ef33a4d8e"
      }
     },
     "8dccb656b6ee47468f78e2df4402d215": {
      "model_module": "@jupyter-widgets/base",
      "model_module_version": "1.2.0",
      "model_name": "LayoutModel",
      "state": {}
     },
     "8e21d9420c804a25a10bdd27730a62a5": {
      "model_module": "@jupyter-widgets/controls",
      "model_module_version": "1.5.0",
      "model_name": "VBoxModel",
      "state": {
       "children": [
        "IPY_MODEL_a532ac04dcf340429f44289582cad501",
        "IPY_MODEL_dfeb95b413b54df2ab05c19af5c35f3c",
        "IPY_MODEL_96035d049b5d4a17a30a8e7c587c066d",
        "IPY_MODEL_351dcf0f2f6a4e30a42307a2a5af4928",
        "IPY_MODEL_3e933defec5542878244cd6becbba359",
        "IPY_MODEL_40626904e94f4896a02fcdcd6f62d36d"
       ],
       "layout": "IPY_MODEL_2025bde45be645c983e179e8c088e539"
      }
     },
     "8e81e205150342e5967b820bd72e9b0f": {
      "model_module": "@jupyter-widgets/controls",
      "model_module_version": "1.5.0",
      "model_name": "ButtonModel",
      "state": {
       "description": "search",
       "layout": "IPY_MODEL_7f731d312bd3408aa4bf5a1f74a57a7c",
       "style": "IPY_MODEL_84e50a8b932243dcb1e234b3263a40c2"
      }
     },
     "8ef0496510224e998788c4bb262b8953": {
      "model_module": "@jupyter-widgets/base",
      "model_module_version": "1.2.0",
      "model_name": "LayoutModel",
      "state": {}
     },
     "8f255ab89c8a4948b9cbf541c2868d31": {
      "model_module": "@jupyter-widgets/base",
      "model_module_version": "1.2.0",
      "model_name": "LayoutModel",
      "state": {
       "width": "34px"
      }
     },
     "8ff9d44c99764912a00c415c31705cab": {
      "model_module": "@jupyter-widgets/base",
      "model_module_version": "1.2.0",
      "model_name": "LayoutModel",
      "state": {
       "width": "80px"
      }
     },
     "90169e16285545ddb625d9fea3c4f785": {
      "model_module": "@jupyter-widgets/controls",
      "model_module_version": "1.5.0",
      "model_name": "DescriptionStyleModel",
      "state": {
       "description_width": "50px"
      }
     },
     "906080a797004e3bbe9396c3af511534": {
      "model_module": "@jupyter-widgets/base",
      "model_module_version": "1.2.0",
      "model_name": "LayoutModel",
      "state": {
       "width": "140px"
      }
     },
     "90ac0372cff24d25ae4b3035d2fbadaa": {
      "model_module": "@jupyter-widgets/controls",
      "model_module_version": "1.5.0",
      "model_name": "ButtonModel",
      "state": {
       "description": "conects",
       "layout": "IPY_MODEL_4a7e25eb1030443791240045e22df42c",
       "style": "IPY_MODEL_c68d76afdc454e038872d4045e19928b"
      }
     },
     "90c1ab8c528c44b6adb7507d94dcbace": {
      "model_module": "@jupyter-widgets/controls",
      "model_module_version": "1.5.0",
      "model_name": "HBoxModel",
      "state": {
       "children": [
        "IPY_MODEL_4638ed91abc84394bad0d3eb49142eba",
        "IPY_MODEL_1b0d6437be4e4ddb8e93bbeae37dfc98"
       ],
       "layout": "IPY_MODEL_75ed7c7e0a97482299d73cfd08773674"
      }
     },
     "90d642c801bd4de6823481ec98fe7d59": {
      "model_module": "@jupyter-widgets/controls",
      "model_module_version": "1.5.0",
      "model_name": "FloatSliderModel",
      "state": {
       "layout": "IPY_MODEL_c9d6dfbb8fce42ae8a881da583b737b1",
       "readout_format": ".1f",
       "step": 0.1,
       "style": "IPY_MODEL_e6159e14505e4cff828dfb39bca67ab2",
       "value": 5
      }
     },
     "90ee1c7b1b9449a7a71a7a9958094e8e": {
      "model_module": "@jupyter-widgets/controls",
      "model_module_version": "1.5.0",
      "model_name": "HBoxModel",
      "state": {
       "children": [
        "IPY_MODEL_0a24a31d0bc84afd814fa5ed091da6df",
        "IPY_MODEL_692b182fc14447c6832bbefd3aad5232"
       ],
       "layout": "IPY_MODEL_5107712dcd0e419990a58f0c77652292"
      }
     },
     "91ed16a5d2254b959629e9bc66b0f9e3": {
      "model_module": "@jupyter-widgets/controls",
      "model_module_version": "1.5.0",
      "model_name": "ButtonModel",
      "state": {
       "layout": "IPY_MODEL_521981d5c6684b729da2ddc65bbaacd0",
       "style": "IPY_MODEL_5fe756f151624915a06e3252c3354b5b"
      }
     },
     "926c5648fa4c4982bc2905474c523eee": {
      "model_module": "@jupyter-widgets/controls",
      "model_module_version": "1.5.0",
      "model_name": "HBoxModel",
      "state": {
       "children": [
        "IPY_MODEL_fb5e25309c0a4f8082a11066b20729ee",
        "IPY_MODEL_cff04d1bffac4542a5a431e04d3e5787",
        "IPY_MODEL_9726c46c5d1b4393b97f91990fd44ef6"
       ],
       "layout": "IPY_MODEL_95403a3537eb4f03bc1e143cfdd69aec"
      }
     },
     "92c15e65d54749d687df04e5ce7c5789": {
      "model_module": "@jupyter-widgets/controls",
      "model_module_version": "1.5.0",
      "model_name": "ButtonStyleModel",
      "state": {}
     },
     "931a62165d224817b8ba73d2c4c8a8be": {
      "model_module": "@jupyter-widgets/base",
      "model_module_version": "1.2.0",
      "model_name": "LayoutModel",
      "state": {}
     },
     "9333da642b0641ffaa2aea3f2ab52e3c": {
      "model_module": "@jupyter-widgets/controls",
      "model_module_version": "1.5.0",
      "model_name": "DescriptionStyleModel",
      "state": {
       "description_width": ""
      }
     },
     "93e26a25a8d0426e9bb4f5fd64238b29": {
      "model_module": "@jupyter-widgets/base",
      "model_module_version": "1.2.0",
      "model_name": "LayoutModel",
      "state": {}
     },
     "93ed085bb7ed480e96cfb13857800094": {
      "model_module": "@jupyter-widgets/controls",
      "model_module_version": "1.5.0",
      "model_name": "DescriptionStyleModel",
      "state": {
       "description_width": ""
      }
     },
     "94707306c0c8467d82c2c270daf186b2": {
      "model_module": "@jupyter-widgets/base",
      "model_module_version": "1.2.0",
      "model_name": "LayoutModel",
      "state": {}
     },
     "949cd4a9a56348dcbdab3a82e7668d5a": {
      "model_module": "@jupyter-widgets/output",
      "model_module_version": "1.0.0",
      "model_name": "OutputModel",
      "state": {
       "layout": "IPY_MODEL_4111fd8e899c4d20a8dfdd11e3565e44"
      }
     },
     "94a472fd88234790ba3acb868d935f32": {
      "model_module": "@jupyter-widgets/base",
      "model_module_version": "1.2.0",
      "model_name": "LayoutModel",
      "state": {
       "width": "350px"
      }
     },
     "94eac44e5b50406fb757673e31795a67": {
      "model_module": "@jupyter-widgets/controls",
      "model_module_version": "1.5.0",
      "model_name": "ButtonStyleModel",
      "state": {}
     },
     "95403a3537eb4f03bc1e143cfdd69aec": {
      "model_module": "@jupyter-widgets/base",
      "model_module_version": "1.2.0",
      "model_name": "LayoutModel",
      "state": {}
     },
     "96035d049b5d4a17a30a8e7c587c066d": {
      "model_module": "@jupyter-widgets/controls",
      "model_module_version": "1.5.0",
      "model_name": "HBoxModel",
      "state": {
       "children": [
        "IPY_MODEL_1c551aac748044b188dc643feea37cd5",
        "IPY_MODEL_35bdbac7ac2b4a2bb58bc7850b5f8318"
       ],
       "layout": "IPY_MODEL_6221819a12b24e3b83892ed2dfb6d186"
      }
     },
     "961617ae7c834d63ae9ff28064de67af": {
      "model_module": "@jupyter-widgets/base",
      "model_module_version": "1.2.0",
      "model_name": "LayoutModel",
      "state": {}
     },
     "966f859b64e2418db8e5a5d3268cd2a5": {
      "model_module": "@jupyter-widgets/base",
      "model_module_version": "1.2.0",
      "model_name": "LayoutModel",
      "state": {}
     },
     "967dd73a2ab34f4b90402fb59d5a3265": {
      "model_module": "@jupyter-widgets/controls",
      "model_module_version": "1.5.0",
      "model_name": "HBoxModel",
      "state": {
       "children": [
        "IPY_MODEL_e7caaf19f37d48689eae473f6b2d173d",
        "IPY_MODEL_555730c8f42e42879381b7eb590c2678"
       ],
       "layout": "IPY_MODEL_1afd9d4c04aa4a17bbb42f5ca31325f0"
      }
     },
     "96de7da7c303467d9c580213bb88de2e": {
      "model_module": "@jupyter-widgets/output",
      "model_module_version": "1.0.0",
      "model_name": "OutputModel",
      "state": {
       "layout": "IPY_MODEL_fa55eedccab0434fb223319db08ac07f"
      }
     },
     "97140c4530734ba28817f65837ccdd88": {
      "model_module": "@jupyter-widgets/base",
      "model_module_version": "1.2.0",
      "model_name": "LayoutModel",
      "state": {
       "width": "350px"
      }
     },
     "9726c46c5d1b4393b97f91990fd44ef6": {
      "model_module": "@jupyter-widgets/controls",
      "model_module_version": "1.5.0",
      "model_name": "IntTextModel",
      "state": {
       "description": "steps",
       "layout": "IPY_MODEL_c6f6c5ff128e4e5db09cec77c4b63717",
       "step": 5,
       "style": "IPY_MODEL_5270daaa28d04546a719b3be305f0e03",
       "value": 50
      }
     },
     "9737e1148d0245f981d6a729081c2dd1": {
      "model_module": "@jupyter-widgets/controls",
      "model_module_version": "1.5.0",
      "model_name": "IntTextModel",
      "state": {
       "description": "from",
       "layout": "IPY_MODEL_15d16cdb0e954c20826c7d2d54a365f4",
       "step": 1,
       "style": "IPY_MODEL_223d352e20004a48b1f054896b96b59c"
      }
     },
     "978eb3e83234498db79211d86f8d99c3": {
      "model_module": "@jupyter-widgets/base",
      "model_module_version": "1.2.0",
      "model_name": "LayoutModel",
      "state": {}
     },
     "97dfc2456e27462c9153d304cb22e2c9": {
      "model_module": "@jupyter-widgets/controls",
      "model_module_version": "1.5.0",
      "model_name": "DescriptionStyleModel",
      "state": {
       "description_width": "8px"
      }
     },
     "9849e367e37a4fff8f91afa4a4b38efa": {
      "model_module": "@jupyter-widgets/controls",
      "model_module_version": "1.5.0",
      "model_name": "VBoxModel",
      "state": {
       "children": [
        "IPY_MODEL_52d18147696a492381c57d5e7108d8c5",
        "IPY_MODEL_4124ecca523f4ef3abf8f31ca7a5570d",
        "IPY_MODEL_55ed0d924b5240ec8fc5a8bfa48dc904",
        "IPY_MODEL_c6b948f273cf49fd81cedfc1fb191d3d",
        "IPY_MODEL_96de7da7c303467d9c580213bb88de2e",
        "IPY_MODEL_90c1ab8c528c44b6adb7507d94dcbace",
        "IPY_MODEL_4b5307637f87474bb34cec7f35caf327"
       ],
       "layout": "IPY_MODEL_f1d45fa08d6b4ee3be817cb26fbfade0"
      }
     },
     "988e649a18044e329a856754a01576a1": {
      "model_module": "@jupyter-widgets/base",
      "model_module_version": "1.2.0",
      "model_name": "LayoutModel",
      "state": {
       "width": "90px"
      }
     },
     "98e7245130cb451d91faeb92f13613d8": {
      "model_module": "@jupyter-widgets/base",
      "model_module_version": "1.2.0",
      "model_name": "LayoutModel",
      "state": {}
     },
     "990cfaa4a6ef48e296d0acaf65518f56": {
      "model_module": "@jupyter-widgets/controls",
      "model_module_version": "1.5.0",
      "model_name": "SliderStyleModel",
      "state": {
       "description_width": ""
      }
     },
     "996f871555034a4abdcb63b032bc5934": {
      "model_module": "@jupyter-widgets/controls",
      "model_module_version": "1.5.0",
      "model_name": "LinkModel",
      "state": {
       "source": [
        "IPY_MODEL_e94c238cbca842559311481511e54a78",
        "value"
       ],
       "target": [
        "IPY_MODEL_e577dcecb8174c06be8474e4f88da8aa",
        "value"
       ]
      }
     },
     "999a92100fd947efa67a0f02cdd2cf5f": {
      "model_module": "@jupyter-widgets/controls",
      "model_module_version": "1.5.0",
      "model_name": "DescriptionStyleModel",
      "state": {
       "description_width": ""
      }
     },
     "99bee3d67c0145e6aa140f20c8c900bd": {
      "model_module": "@jupyter-widgets/controls",
      "model_module_version": "1.5.0",
      "model_name": "ButtonStyleModel",
      "state": {}
     },
     "9a33bfddcd1c4c6e826a6a08fe86d6a9": {
      "model_module": "@jupyter-widgets/base",
      "model_module_version": "1.2.0",
      "model_name": "LayoutModel",
      "state": {}
     },
     "9a33f5cddbcd420a88c6b96bbfe58438": {
      "model_module": "@jupyter-widgets/controls",
      "model_module_version": "1.5.0",
      "model_name": "VBoxModel",
      "state": {
       "children": [
        "IPY_MODEL_2075e3a8f44a4ea091956e1281f7c4a9",
        "IPY_MODEL_afb8ff271b974c959e98462f850717b4",
        "IPY_MODEL_c33f8bd0bbcd40a783a346ebe6bf66d9",
        "IPY_MODEL_28148b812e35440aac27aa67cb70114f",
        "IPY_MODEL_7a97fcc2e0ef48b8953d088f2939c10f",
        "IPY_MODEL_ed176fc59c9a40eaab0fe59ae08e11fd",
        "IPY_MODEL_ca9f94bd3a544259b73106a28c7ac9b8"
       ],
       "layout": "IPY_MODEL_9a3d41966c7e4fe2874f65c2097f8cba"
      }
     },
     "9a3d41966c7e4fe2874f65c2097f8cba": {
      "model_module": "@jupyter-widgets/base",
      "model_module_version": "1.2.0",
      "model_name": "LayoutModel",
      "state": {}
     },
     "9b231f5798604976aa271ab0be80f4d6": {
      "model_module": "@jupyter-widgets/controls",
      "model_module_version": "1.5.0",
      "model_name": "ButtonModel",
      "state": {
       "description": "by symbols",
       "layout": "IPY_MODEL_eb22b4f62410464fac0bce0f862f2c60",
       "style": "IPY_MODEL_6e714276130b4e7f88652574633d8f84"
      }
     },
     "9b5a6600c2bf490b963c2b3d8985f52e": {
      "model_module": "@jupyter-widgets/controls",
      "model_module_version": "1.5.0",
      "model_name": "HBoxModel",
      "state": {
       "children": [
        "IPY_MODEL_40f960c0022249fc9ae37e8e8e03ee0a",
        "IPY_MODEL_e95221c9f65a4b9080bb366003f06652"
       ],
       "layout": "IPY_MODEL_ac01761ff9e7464bbf0b1138810af9c5"
      }
     },
     "9be7cac48171430584527b0a1dfd2985": {
      "model_module": "@jupyter-widgets/controls",
      "model_module_version": "1.5.0",
      "model_name": "ButtonModel",
      "state": {
       "description": "Add#",
       "layout": "IPY_MODEL_06fb25b8c9f3449587e83bfbab756f17",
       "style": "IPY_MODEL_c9cd436e9cc14270ae2336d700767789"
      }
     },
     "9c582e7af12a412ea883608193e765cf": {
      "model_module": "@jupyter-widgets/base",
      "model_module_version": "1.2.0",
      "model_name": "LayoutModel",
      "state": {}
     },
     "9c80ab8adb5f4f76a60fad352a1d5804": {
      "model_module": "@jupyter-widgets/controls",
      "model_module_version": "1.5.0",
      "model_name": "ButtonModel",
      "state": {
       "description": " Screenshot",
       "icon": "camera",
       "layout": "IPY_MODEL_978eb3e83234498db79211d86f8d99c3",
       "style": "IPY_MODEL_baf1020799c14dbda31760ba1bfcd44a"
      }
     },
     "9caf6af210444b9f83d669d0463122b8": {
      "model_module": "@jupyter-widgets/controls",
      "model_module_version": "1.5.0",
      "model_name": "ButtonStyleModel",
      "state": {}
     },
     "9cddeab05a7c4646a9c190ad58d29aef": {
      "model_module": "@jupyter-widgets/controls",
      "model_module_version": "1.5.0",
      "model_name": "DescriptionStyleModel",
      "state": {
       "description_width": "25px"
      }
     },
     "9d381ac37dc3420f84d263e48833643e": {
      "model_module": "@jupyter-widgets/base",
      "model_module_version": "1.2.0",
      "model_name": "LayoutModel",
      "state": {
       "height": "250px",
       "overflow_x": "hidden",
       "overflow_y": "scroll",
       "width": "385px"
      }
     },
     "9d45163b279a4452af5e49980de9e6ea": {
      "model_module": "@jupyter-widgets/controls",
      "model_module_version": "1.5.0",
      "model_name": "ButtonStyleModel",
      "state": {}
     },
     "9d8fc178b6664df9b5050995ab0424c9": {
      "model_module": "@jupyter-widgets/base",
      "model_module_version": "1.2.0",
      "model_name": "LayoutModel",
      "state": {
       "width": "140px"
      }
     },
     "9e2f4e9034984a028ea91e227ffc926d": {
      "model_module": "@jupyter-widgets/base",
      "model_module_version": "1.2.0",
      "model_name": "LayoutModel",
      "state": {
       "width": "120px"
      }
     },
     "9e3de4bf42234b7a956a1769d5562887": {
      "model_module": "@jupyter-widgets/controls",
      "model_module_version": "1.5.0",
      "model_name": "IntSliderModel",
      "state": {
       "description": "No",
       "layout": "IPY_MODEL_512b15042b68492887090ff63f5e2f78",
       "max": 118,
       "style": "IPY_MODEL_d9941251cc274c0d84f94312319131ff"
      }
     },
     "9e48ad0f253949f2b739b49278d89a06": {
      "model_module": "@jupyter-widgets/controls",
      "model_module_version": "1.5.0",
      "model_name": "IntSliderModel",
      "state": {
       "description": "Opt_n",
       "layout": "IPY_MODEL_169474ff56374d61a0d369937ea6a8c0",
       "style": "IPY_MODEL_5f236adc83364e61a452f98da29e45ec"
      }
     },
     "9f050c8bb5624f40b1193b1999fd8a02": {
      "model_module": "@jupyter-widgets/base",
      "model_module_version": "1.2.0",
      "model_name": "LayoutModel",
      "state": {}
     },
     "9f3d13673d254ce29bfb07bdd332fd2d": {
      "model_module": "@jupyter-widgets/base",
      "model_module_version": "1.2.0",
      "model_name": "LayoutModel",
      "state": {}
     },
     "9f55bd9580d34272a9dc003472d35f9e": {
      "model_module": "@jupyter-widgets/base",
      "model_module_version": "1.2.0",
      "model_name": "LayoutModel",
      "state": {}
     },
     "9f615ee258fb471b9e99ddc8e0245ab6": {
      "model_module": "@jupyter-widgets/controls",
      "model_module_version": "1.5.0",
      "model_name": "ButtonModel",
      "state": {
       "layout": "IPY_MODEL_c7a14cd6671b47d4948b374d52ce99ca",
       "style": "IPY_MODEL_0b3ddaf996664f92a6edf1f41687ec1f"
      }
     },
     "9f622902fbfe48649299c11e90179cc2": {
      "model_module": "@jupyter-widgets/controls",
      "model_module_version": "1.5.0",
      "model_name": "HBoxModel",
      "state": {
       "children": [
        "IPY_MODEL_5a5141bb85804bd4ae33889b8df650e4",
        "IPY_MODEL_9737e1148d0245f981d6a729081c2dd1",
        "IPY_MODEL_18e7ed7654b34102b46b3c21cf3d9230"
       ],
       "layout": "IPY_MODEL_64306879db754e7cbe00f126530949d1"
      }
     },
     "9f76c354c85c4cadb06bb029a7a7515d": {
      "model_module": "@jupyter-widgets/base",
      "model_module_version": "1.2.0",
      "model_name": "LayoutModel",
      "state": {}
     },
     "9f79eb31dc824994b5a95ecdc22c3a0d": {
      "model_module": "@jupyter-widgets/controls",
      "model_module_version": "1.5.0",
      "model_name": "FloatTextModel",
      "state": {
       "description": "P_kPa ",
       "layout": "IPY_MODEL_bfa62c17c2054ffe9ee334d1074da070",
       "step": null,
       "style": "IPY_MODEL_e4dbbdc367c945a0856353fd9633622e",
       "value": 101.3
      }
     },
     "9f9a02b3b4164370b7d6061af2de3634": {
      "model_module": "@jupyter-widgets/controls",
      "model_module_version": "1.5.0",
      "model_name": "DescriptionStyleModel",
      "state": {
       "description_width": "70px"
      }
     },
     "9ff7817561b6470b847e9e334bd43c2e": {
      "model_module": "@jupyter-widgets/controls",
      "model_module_version": "1.5.0",
      "model_name": "DescriptionStyleModel",
      "state": {
       "description_width": ""
      }
     },
     "a039be40e8e346509e6a7a96f6ef813e": {
      "model_module": "@jupyter-widgets/controls",
      "model_module_version": "1.5.0",
      "model_name": "ButtonStyleModel",
      "state": {}
     },
     "a04a2dedb2884b638a8635143fd36920": {
      "model_module": "@jupyter-widgets/controls",
      "model_module_version": "1.5.0",
      "model_name": "ButtonModel",
      "state": {
       "description": "Replace to",
       "layout": "IPY_MODEL_44f74b53efff4e319d154d3ff4a9762f",
       "style": "IPY_MODEL_9d45163b279a4452af5e49980de9e6ea"
      }
     },
     "a16e1828c2464559b303028817ad2df6": {
      "model_module": "@jupyter-widgets/controls",
      "model_module_version": "1.5.0",
      "model_name": "DescriptionStyleModel",
      "state": {
       "description_width": ""
      }
     },
     "a17e0650700642e2b4e59bdfdafedead": {
      "model_module": "@jupyter-widgets/controls",
      "model_module_version": "1.5.0",
      "model_name": "ButtonModel",
      "state": {
       "description": "get conformers",
       "layout": "IPY_MODEL_a3147a6c803e4536809db9e74577b58d",
       "style": "IPY_MODEL_62bc49a657f24adbbecad4cc3a55717a"
      }
     },
     "a17eb0fbad434974ab0678be180314b0": {
      "model_module": "@jupyter-widgets/controls",
      "model_module_version": "1.5.0",
      "model_name": "IntTextModel",
      "state": {
       "description": "a0",
       "layout": "IPY_MODEL_03a93b6da1cf49469b62ee49858ca95d",
       "step": 1,
       "style": "IPY_MODEL_fc38002ce0ee419495f7dbb50a1b57cb"
      }
     },
     "a24b95ff0b1749499761a96586858443": {
      "model_module": "@jupyter-widgets/controls",
      "model_module_version": "1.5.0",
      "model_name": "ButtonModel",
      "state": {
       "description": "..",
       "layout": "IPY_MODEL_421b114f438c49d2bf9deb8f8d6395f0",
       "style": "IPY_MODEL_db4edc31b36b4ce1b798f5515c97c881"
      }
     },
     "a24e73c8c11c45e1ae8d80d41c19ddf9": {
      "model_module": "@jupyter-widgets/controls",
      "model_module_version": "1.5.0",
      "model_name": "IntSliderModel",
      "state": {
       "description": "No",
       "layout": "IPY_MODEL_139ce2d40d084a5f8647e0852f16cfd8",
       "max": 4963,
       "style": "IPY_MODEL_fa768eeafd8d4dfd805a0d3bf3a9f9ea"
      }
     },
     "a2631a1f2fdd4a6c9f08e2349da5468a": {
      "model_module": "@jupyter-widgets/base",
      "model_module_version": "1.2.0",
      "model_name": "LayoutModel",
      "state": {
       "height": "30px",
       "width": "175px"
      }
     },
     "a2de6c3561ab47bb97ca15ddd0015697": {
      "model_module": "@jupyter-widgets/base",
      "model_module_version": "1.2.0",
      "model_name": "LayoutModel",
      "state": {
       "width": "80px"
      }
     },
     "a3147a6c803e4536809db9e74577b58d": {
      "model_module": "@jupyter-widgets/base",
      "model_module_version": "1.2.0",
      "model_name": "LayoutModel",
      "state": {
       "width": "200px"
      }
     },
     "a34d6657e8b44b26b6876551f062d934": {
      "model_module": "@jupyter-widgets/output",
      "model_module_version": "1.0.0",
      "model_name": "OutputModel",
      "state": {
       "layout": "IPY_MODEL_97140c4530734ba28817f65837ccdd88"
      }
     },
     "a361683d699c4d7dac7dd0daa055c24b": {
      "model_module": "@jupyter-widgets/controls",
      "model_module_version": "1.5.0",
      "model_name": "ButtonModel",
      "state": {
       "description": "run NEB",
       "layout": "IPY_MODEL_52d96baa4d6443ee88eb522d67d24179",
       "style": "IPY_MODEL_a7b67ddd9cbd4ef999168e7a6c668aae"
      }
     },
     "a3c9ff79ac904d748c2fc16074bc8510": {
      "model_module": "@jupyter-widgets/controls",
      "model_module_version": "1.5.0",
      "model_name": "IntTextModel",
      "state": {
       "description": "B#",
       "layout": "IPY_MODEL_d556e048e8be424ebec36841ebfa9c93",
       "step": 1,
       "style": "IPY_MODEL_58df750582924d36a9d0da1a8e914dfc"
      }
     },
     "a3d437db952f4af69d201c61a41ddad5": {
      "model_module": "@jupyter-widgets/controls",
      "model_module_version": "1.5.0",
      "model_name": "ButtonModel",
      "state": {
       "description": "Insert B[##] after A[##]",
       "layout": "IPY_MODEL_51185a5b5020443bbd90009bd8948286",
       "style": "IPY_MODEL_b01758eb57b6457a9925297f962aab6a"
      }
     },
     "a4e3eace737844ed8c57a9a7b86d0331": {
      "model_module": "@jupyter-widgets/controls",
      "model_module_version": "1.5.0",
      "model_name": "ButtonModel",
      "state": {
       "description": "Full screen",
       "layout": "IPY_MODEL_2ede96b9207b461ea6aa2d704874bf8b",
       "style": "IPY_MODEL_6a279845d10f4ab0ae22820690f0b2e4"
      }
     },
     "a532ac04dcf340429f44289582cad501": {
      "model_module": "@jupyter-widgets/controls",
      "model_module_version": "1.5.0",
      "model_name": "HBoxModel",
      "state": {
       "children": [
        "IPY_MODEL_c016827d0cfd46579c8ed75b294426c1",
        "IPY_MODEL_cfb834a2544a4843b63260d099e31e7e",
        "IPY_MODEL_f67ef2eff5c6425e8248fd7fac50c6bb"
       ],
       "layout": "IPY_MODEL_820f1dc77a1d4d0089971bfdf9695dfa"
      }
     },
     "a5814ebc518e4f43bbebce703a906c8d": {
      "model_module": "@jupyter-widgets/controls",
      "model_module_version": "1.5.0",
      "model_name": "SliderStyleModel",
      "state": {
       "description_width": ""
      }
     },
     "a58318f38d204bf09fae02d06b36359c": {
      "model_module": "@jupyter-widgets/controls",
      "model_module_version": "1.5.0",
      "model_name": "DescriptionStyleModel",
      "state": {
       "description_width": "35px"
      }
     },
     "a5db4b219c04407a91ffa39e2d533a8e": {
      "model_module": "@jupyter-widgets/base",
      "model_module_version": "1.2.0",
      "model_name": "LayoutModel",
      "state": {}
     },
     "a5f1a6cc57814b029273b18b75a8304c": {
      "model_module": "@jupyter-widgets/controls",
      "model_module_version": "1.5.0",
      "model_name": "LabelModel",
      "state": {
       "layout": "IPY_MODEL_ad66ee6f380d4571bde4d01e36cb5938",
       "style": "IPY_MODEL_e71ddbe616574ddbb41771a8641ed223",
       "value": "Sort all Atoms"
      }
     },
     "a683f256d3684a03a9e28bb21c03a827": {
      "model_module": "@jupyter-widgets/controls",
      "model_module_version": "1.5.0",
      "model_name": "DescriptionStyleModel",
      "state": {
       "description_width": ""
      }
     },
     "a7b67ddd9cbd4ef999168e7a6c668aae": {
      "model_module": "@jupyter-widgets/controls",
      "model_module_version": "1.5.0",
      "model_name": "ButtonStyleModel",
      "state": {}
     },
     "a8052624b8b54ef1ab33e21a23b58b9e": {
      "model_module": "@jupyter-widgets/base",
      "model_module_version": "1.2.0",
      "model_name": "LayoutModel",
      "state": {}
     },
     "a8b172a307734b139e2244537cc79f98": {
      "model_module": "@jupyter-widgets/base",
      "model_module_version": "1.2.0",
      "model_name": "LayoutModel",
      "state": {
       "height": "40px",
       "width": "370px"
      }
     },
     "aa2ed9c007e241fa8e0bfef7cb22c21b": {
      "model_module": "@jupyter-widgets/controls",
      "model_module_version": "1.5.0",
      "model_name": "DescriptionStyleModel",
      "state": {
       "description_width": "35px"
      }
     },
     "aaeaf49c83ad4c1f93b10060d92905da": {
      "model_module": "@jupyter-widgets/controls",
      "model_module_version": "1.5.0",
      "model_name": "DescriptionStyleModel",
      "state": {
       "description_width": ""
      }
     },
     "ab035fec669849568b5274586fe9d664": {
      "model_module": "@jupyter-widgets/controls",
      "model_module_version": "1.5.0",
      "model_name": "DescriptionStyleModel",
      "state": {
       "description_width": "55px"
      }
     },
     "ab59c2a9e324465d955e1cf822ea6d0c": {
      "model_module": "@jupyter-widgets/base",
      "model_module_version": "1.2.0",
      "model_name": "LayoutModel",
      "state": {
       "width": "180px"
      }
     },
     "ac01761ff9e7464bbf0b1138810af9c5": {
      "model_module": "@jupyter-widgets/base",
      "model_module_version": "1.2.0",
      "model_name": "LayoutModel",
      "state": {}
     },
     "ac1172c6cee046739a48f279642ceabf": {
      "model_module": "@jupyter-widgets/controls",
      "model_module_version": "1.5.0",
      "model_name": "VBoxModel",
      "state": {
       "children": [
        "IPY_MODEL_2631d3fb360e4a1f80a02a1e7558a315",
        "IPY_MODEL_6c2b22153c48410683b5278eeb7ac432",
        "IPY_MODEL_714e7dd657954c5aa89e25da11e9d4d4",
        "IPY_MODEL_d2d447cc382743109963e405d3ef2802",
        "IPY_MODEL_ca9f94bd3a544259b73106a28c7ac9b8",
        "IPY_MODEL_a5f1a6cc57814b029273b18b75a8304c",
        "IPY_MODEL_9b5a6600c2bf490b963c2b3d8985f52e",
        "IPY_MODEL_9b231f5798604976aa271ab0be80f4d6",
        "IPY_MODEL_b0651fd24e7c408cb2cfdfb802fef3df",
        "IPY_MODEL_3fb80daa1ca8453bb55164363357358a",
        "IPY_MODEL_1e0df09ca7094a2fb2fd594da80e5429"
       ],
       "layout": "IPY_MODEL_bb3d406d7faa455da4c8e66640ff5929"
      }
     },
     "ac28b7918d8847c6895b1f58d2118bc8": {
      "model_module": "@jupyter-widgets/output",
      "model_module_version": "1.0.0",
      "model_name": "OutputModel",
      "state": {
       "layout": "IPY_MODEL_c0748f721f554b8d88f8a09d4ee24d1f",
       "outputs": [
        {
         "data": {
          "text/html": "<div>\n<style scoped>\n    .dataframe tbody tr th:only-of-type {\n        vertical-align: middle;\n    }\n\n    .dataframe tbody tr th {\n        vertical-align: top;\n    }\n\n    .dataframe thead th {\n        text-align: right;\n    }\n</style>\n<table border=\"1\" class=\"dataframe\">\n  <thead>\n    <tr style=\"text-align: right;\">\n      <th></th>\n      <th>qmof_id</th>\n      <th>name</th>\n      <th>formula</th>\n      <th>smiles</th>\n    </tr>\n  </thead>\n  <tbody>\n    <tr>\n      <th>0</th>\n      <td>qmof-644aab4</td>\n      <td>ABAXUZ_FSR</td>\n      <td>Zn2C50H32N6O8S4</td>\n      <td>[O-]C(=O)c1cccc(c1)c1nccs1...</td>\n    </tr>\n    <tr>\n      <th>1</th>\n      <td>qmof-f364177</td>\n      <td>ABAZAF01_FSR</td>\n      <td>Zn4C104H76N12O20</td>\n      <td>Oc1cc(cc(c1)C(=O)[O-])C(=O...</td>\n    </tr>\n    <tr>\n      <th>2</th>\n      <td>qmof-d2e3fe6</td>\n      <td>ABAZAF_FSR</td>\n      <td>Zn4C104H76N12O20</td>\n      <td>Oc1cc(cc(c1)C(=O)[O-])C(=O...</td>\n    </tr>\n    <tr>\n      <th>3</th>\n      <td>qmof-6c434d5</td>\n      <td>ACENIF_FSR</td>\n      <td>Zn12C76H80N8O40</td>\n      <td>[O-]C(=O)C.[O]C(c1ccccn1)(...</td>\n    </tr>\n    <tr>\n      <th>4</th>\n      <td>qmof-9b03351</td>\n      <td>ACIKAA_FSR</td>\n      <td>Zn2C26H40N8O18S4</td>\n      <td>[O-]C(=O)C[NH](CC(=O)O)CCC...</td>\n    </tr>\n    <tr>\n      <th>5</th>\n      <td>qmof-c80c803</td>\n      <td>ACISOW_FSR</td>\n      <td>Zn2C40H44N12S4</td>\n      <td>Cc1cc([n-]n1Cc1ccc(cc1)Cn1...</td>\n    </tr>\n    <tr>\n      <th>6</th>\n      <td>qmof-355e9d2</td>\n      <td>ACOLIP_FSR</td>\n      <td>Zn2C44H38N10O8</td>\n      <td>[O-]C(=O)c1ccc(c(c1)N)C(=O...</td>\n    </tr>\n  </tbody>\n</table>\n</div>",
          "text/plain": "        qmof_id          name           formula                         smiles\n0  qmof-644aab4    ABAXUZ_FSR   Zn2C50H32N6O8S4  [O-]C(=O)c1cccc(c1)c1nccs1...\n1  qmof-f364177  ABAZAF01_FSR  Zn4C104H76N12O20  Oc1cc(cc(c1)C(=O)[O-])C(=O...\n2  qmof-d2e3fe6    ABAZAF_FSR  Zn4C104H76N12O20  Oc1cc(cc(c1)C(=O)[O-])C(=O...\n3  qmof-6c434d5    ACENIF_FSR   Zn12C76H80N8O40  [O-]C(=O)C.[O]C(c1ccccn1)(...\n4  qmof-9b03351    ACIKAA_FSR  Zn2C26H40N8O18S4  [O-]C(=O)C[NH](CC(=O)O)CCC...\n5  qmof-c80c803    ACISOW_FSR    Zn2C40H44N12S4  Cc1cc([n-]n1Cc1ccc(cc1)Cn1...\n6  qmof-355e9d2    ACOLIP_FSR    Zn2C44H38N10O8  [O-]C(=O)c1ccc(c(c1)N)C(=O..."
         },
         "metadata": {},
         "output_type": "display_data"
        }
       ]
      }
     },
     "ac9aa14955904b698f629b968f27d7ae": {
      "model_module": "@jupyter-widgets/base",
      "model_module_version": "1.2.0",
      "model_name": "LayoutModel",
      "state": {
       "width": "90px"
      }
     },
     "ac9bc82fa3464a269e887873e56f94ed": {
      "model_module": "@jupyter-widgets/base",
      "model_module_version": "1.2.0",
      "model_name": "LayoutModel",
      "state": {}
     },
     "ad30226b8ef64d999fa95845e1d93b9f": {
      "model_module": "@jupyter-widgets/base",
      "model_module_version": "1.2.0",
      "model_name": "LayoutModel",
      "state": {}
     },
     "ad66ee6f380d4571bde4d01e36cb5938": {
      "model_module": "@jupyter-widgets/base",
      "model_module_version": "1.2.0",
      "model_name": "LayoutModel",
      "state": {}
     },
     "adc4bb3e061c46c4b12804d1eb39cfe0": {
      "model_module": "@jupyter-widgets/base",
      "model_module_version": "1.2.0",
      "model_name": "LayoutModel",
      "state": {
       "height": "220px",
       "overflow_x": "hidden",
       "overflow_y": "scroll",
       "width": "385px"
      }
     },
     "adf9940a7bc341fb931dc1fbe203040e": {
      "model_module": "@jupyter-widgets/base",
      "model_module_version": "1.2.0",
      "model_name": "LayoutModel",
      "state": {
       "width": "130px"
      }
     },
     "ae1a0b6cd5ce4fa49dfde1f9c6d72f5d": {
      "model_module": "@jupyter-widgets/controls",
      "model_module_version": "1.5.0",
      "model_name": "ButtonStyleModel",
      "state": {}
     },
     "ae1ee35c9c3245a5b56d71218043f7bb": {
      "model_module": "@jupyter-widgets/controls",
      "model_module_version": "1.5.0",
      "model_name": "LinkModel",
      "state": {
       "source": [
        "IPY_MODEL_e577dcecb8174c06be8474e4f88da8aa",
        "max"
       ],
       "target": [
        "IPY_MODEL_79feb766988d48b081342e3d6477a97d",
        "max_frame"
       ]
      }
     },
     "ae2e1253ccf747b0a22f6326834c753f": {
      "model_module": "@jupyter-widgets/controls",
      "model_module_version": "1.5.0",
      "model_name": "ButtonModel",
      "state": {
       "description": "plot",
       "layout": "IPY_MODEL_b1f6482ce5444a6b95d1f5cc4b27ad84",
       "style": "IPY_MODEL_dbe80f35cd1e4c0b98505a640bf0d2a8"
      }
     },
     "ae3498d56faf49a5b0f5858195e5dda1": {
      "model_module": "@jupyter-widgets/controls",
      "model_module_version": "1.5.0",
      "model_name": "VBoxModel",
      "state": {
       "children": [
        "IPY_MODEL_a24e73c8c11c45e1ae8d80d41c19ddf9",
        "IPY_MODEL_ac28b7918d8847c6895b1f58d2118bc8"
       ],
       "layout": "IPY_MODEL_27da7026296d434da449a2d352232520"
      }
     },
     "ae692f6e7f6446b3b2ae2425db51963a": {
      "model_module": "@jupyter-widgets/controls",
      "model_module_version": "1.5.0",
      "model_name": "BoxModel",
      "state": {
       "layout": "IPY_MODEL_9c582e7af12a412ea883608193e765cf"
      }
     },
     "ae85ec8a6fcb4add8765e67eec04b167": {
      "model_module": "@jupyter-widgets/controls",
      "model_module_version": "1.5.0",
      "model_name": "DropdownModel",
      "state": {
       "_options_labels": [
        "0",
        "1",
        "2"
       ],
       "description": "#",
       "index": 2,
       "layout": "IPY_MODEL_7ed285445090403ba2cbec472db6467e",
       "style": "IPY_MODEL_97dfc2456e27462c9153d304cb22e2c9"
      }
     },
     "aec9e50cbbe14be0979eea903c2a7495": {
      "model_module": "@jupyter-widgets/controls",
      "model_module_version": "1.5.0",
      "model_name": "ButtonModel",
      "state": {
       "description": "repeat",
       "layout": "IPY_MODEL_1f6b468a6b6d49a4b427a572bb699f7d",
       "style": "IPY_MODEL_04af0f8a5b754aa787ccfd99d5476541"
      }
     },
     "aecaa49ecdca4557b09a7e376813883c": {
      "model_module": "@jupyter-widgets/controls",
      "model_module_version": "1.5.0",
      "model_name": "ButtonStyleModel",
      "state": {}
     },
     "af6df704ed5f41ce8a10631e950ef1c9": {
      "model_module": "@jupyter-widgets/base",
      "model_module_version": "1.2.0",
      "model_name": "LayoutModel",
      "state": {}
     },
     "af7a838c406f4fd48c3653adf78646de": {
      "model_module": "@jupyter-widgets/controls",
      "model_module_version": "1.5.0",
      "model_name": "DescriptionStyleModel",
      "state": {
       "description_width": ""
      }
     },
     "afb8ff271b974c959e98462f850717b4": {
      "model_module": "@jupyter-widgets/controls",
      "model_module_version": "1.5.0",
      "model_name": "DropdownModel",
      "state": {
       "_options_labels": [
        "0",
        "1",
        "2",
        "3",
        "4",
        "5"
       ],
       "description": "millery",
       "index": 1,
       "layout": "IPY_MODEL_e94e2f571fc348128f4ac95123282b4e",
       "style": "IPY_MODEL_f3c0d98c2ed644b0ad78ee39ede8c82f"
      }
     },
     "b01758eb57b6457a9925297f962aab6a": {
      "model_module": "@jupyter-widgets/controls",
      "model_module_version": "1.5.0",
      "model_name": "ButtonStyleModel",
      "state": {}
     },
     "b0651fd24e7c408cb2cfdfb802fef3df": {
      "model_module": "@jupyter-widgets/controls",
      "model_module_version": "1.5.0",
      "model_name": "LabelModel",
      "state": {
       "layout": "IPY_MODEL_e237246fea924edebac82af06da0640c",
       "style": "IPY_MODEL_ce0ee52f06034039a8f10b2fe942fc2e",
       "value": "wrap Atoms"
      }
     },
     "b1b59bda59604e52a765ff4ca46b7836": {
      "model_module": "@jupyter-widgets/base",
      "model_module_version": "1.2.0",
      "model_name": "LayoutModel",
      "state": {}
     },
     "b1f6482ce5444a6b95d1f5cc4b27ad84": {
      "model_module": "@jupyter-widgets/base",
      "model_module_version": "1.2.0",
      "model_name": "LayoutModel",
      "state": {
       "width": "150px"
      }
     },
     "b276ef0ac1334442a8c1b4c1827f9379": {
      "model_module": "@jupyter-widgets/controls",
      "model_module_version": "1.5.0",
      "model_name": "DescriptionStyleModel",
      "state": {
       "description_width": ""
      }
     },
     "b28832a6b4ea4a8eb24480cf69628866": {
      "model_module": "@jupyter-widgets/controls",
      "model_module_version": "1.5.0",
      "model_name": "HBoxModel",
      "state": {
       "children": [
        "IPY_MODEL_58bb30d33ba14deda94f1c7e6ddd46c7",
        "IPY_MODEL_4029d39b01f444909f0b9cce82c855c1",
        "IPY_MODEL_095aeb4de4404863a77b65a0ea301b62"
       ],
       "layout": "IPY_MODEL_8458de3cd2724652933fa3e065d94071"
      }
     },
     "b2a4f5946bc243f4a8ebc1148654c81a": {
      "model_module": "@jupyter-widgets/base",
      "model_module_version": "1.2.0",
      "model_name": "LayoutModel",
      "state": {
       "display": "flex",
       "flex_flow": "row",
       "justify_content": "space-between"
      }
     },
     "b30fcce188454f948f748992662e27a5": {
      "model_module": "@jupyter-widgets/controls",
      "model_module_version": "1.5.0",
      "model_name": "ButtonStyleModel",
      "state": {}
     },
     "b315914f1cb449e6b36b16c829babc07": {
      "model_module": "@jupyter-widgets/controls",
      "model_module_version": "1.5.0",
      "model_name": "ButtonModel",
      "state": {
       "description": "set",
       "layout": "IPY_MODEL_ba6d6445631f4d51a652efb80c947d63",
       "style": "IPY_MODEL_8b80718872dd41128f65f9ddbb0dce39"
      }
     },
     "b368844ebf804e12b592952a9bd43cc9": {
      "model_module": "@jupyter-widgets/base",
      "model_module_version": "1.2.0",
      "model_name": "LayoutModel",
      "state": {
       "height": "30px",
       "width": "80px"
      }
     },
     "b3c72c5afff049a689ff8ada40285a3b": {
      "model_module": "@jupyter-widgets/base",
      "model_module_version": "1.2.0",
      "model_name": "LayoutModel",
      "state": {
       "width": "150px"
      }
     },
     "b428166c3aee4758afe4c5fb4ae276c3": {
      "model_module": "@jupyter-widgets/base",
      "model_module_version": "1.2.0",
      "model_name": "LayoutModel",
      "state": {
       "width": "160px"
      }
     },
     "b49a578f6d3e4921a6af0ec4844868ac": {
      "model_module": "@jupyter-widgets/base",
      "model_module_version": "1.2.0",
      "model_name": "LayoutModel",
      "state": {
       "width": "100px"
      }
     },
     "b4aa4c29dcea402a8948de85a2f73692": {
      "model_module": "@jupyter-widgets/controls",
      "model_module_version": "1.5.0",
      "model_name": "FloatTextModel",
      "state": {
       "description": "base",
       "layout": "IPY_MODEL_ce3161ffeae54ce8add6aa1b16175523",
       "step": null,
       "style": "IPY_MODEL_16f4402c50314cd986c721095acdf678"
      }
     },
     "b4e6c957e9374ebd8070bcfc858a23ab": {
      "model_module": "@jupyter-widgets/controls",
      "model_module_version": "1.5.0",
      "model_name": "ButtonModel",
      "state": {
       "layout": "IPY_MODEL_047723f898804ffe803931c8a19232ab",
       "style": "IPY_MODEL_6b6e87d988254f899546c5d1baab8cc9"
      }
     },
     "b5b4bcb0b0cc4bb294692009e485a645": {
      "model_module": "@jupyter-widgets/base",
      "model_module_version": "1.2.0",
      "model_name": "LayoutModel",
      "state": {
       "align_items": "stretch",
       "align_self": "center"
      }
     },
     "b5d9bb478bf3447e8aa3cbd64d874b50": {
      "model_module": "@jupyter-widgets/controls",
      "model_module_version": "1.5.0",
      "model_name": "TextareaModel",
      "state": {
       "layout": "IPY_MODEL_4f424adf4e2e43269d7163744d0d43c7",
       "placeholder": "path",
       "style": "IPY_MODEL_4b25009be74a4a1aae7e080a98e606bb",
       "value": "/home/jovyan/editor/matviewer-v0.1.1/example"
      }
     },
     "b6120d9e5fee455c931e3e044a9b331c": {
      "model_module": "@jupyter-widgets/controls",
      "model_module_version": "1.5.0",
      "model_name": "DropdownModel",
      "state": {
       "_options_labels": [
        "<",
        ">="
       ],
       "index": 0,
       "layout": "IPY_MODEL_b751856413424ba78a1e305f46c32fd2",
       "style": "IPY_MODEL_dc370dba920d4c1db6b43718849b56e4"
      }
     },
     "b614bcaeea574bea932cc4877a11bb24": {
      "model_module": "@jupyter-widgets/base",
      "model_module_version": "1.2.0",
      "model_name": "LayoutModel",
      "state": {
       "width": "380px"
      }
     },
     "b699783bb7084039a382edc7f5be5cea": {
      "model_module": "@jupyter-widgets/base",
      "model_module_version": "1.2.0",
      "model_name": "LayoutModel",
      "state": {
       "width": "130px"
      }
     },
     "b718dd88f344412fb0e402b07fabb101": {
      "model_module": "@jupyter-widgets/base",
      "model_module_version": "1.2.0",
      "model_name": "LayoutModel",
      "state": {}
     },
     "b751856413424ba78a1e305f46c32fd2": {
      "model_module": "@jupyter-widgets/base",
      "model_module_version": "1.2.0",
      "model_name": "LayoutModel",
      "state": {
       "width": "50px"
      }
     },
     "b786e083f848490c872e80ab1f6555cb": {
      "model_module": "@jupyter-widgets/controls",
      "model_module_version": "1.5.0",
      "model_name": "ColorPickerModel",
      "state": {
       "description": "APP back",
       "disabled": false,
       "layout": "IPY_MODEL_2bfed408b61f450d9671e849d3d693f7",
       "style": "IPY_MODEL_d66e2be18393434f9141e9f8b35de78a",
       "value": "#3399AA"
      }
     },
     "b7e3edd2f96748a39e53714cb1142eac": {
      "model_module": "@jupyter-widgets/base",
      "model_module_version": "1.2.0",
      "model_name": "LayoutModel",
      "state": {
       "width": "140px"
      }
     },
     "b89a961e8a1b455c926361eadcf4be9a": {
      "model_module": "@jupyter-widgets/controls",
      "model_module_version": "1.5.0",
      "model_name": "ButtonStyleModel",
      "state": {}
     },
     "b8a08f771bc344e9bd73666db6ec83c8": {
      "model_module": "@jupyter-widgets/base",
      "model_module_version": "1.2.0",
      "model_name": "LayoutModel",
      "state": {}
     },
     "b8a3dfe43d6440d38c8701b6ee15f183": {
      "model_module": "@jupyter-widgets/base",
      "model_module_version": "1.2.0",
      "model_name": "LayoutModel",
      "state": {}
     },
     "b8d9a5c087ce422ca4b945eee6489621": {
      "model_module": "@jupyter-widgets/controls",
      "model_module_version": "1.5.0",
      "model_name": "ButtonStyleModel",
      "state": {}
     },
     "b9960adba46a4df1a251bb1bcab9fa82": {
      "model_module": "@jupyter-widgets/controls",
      "model_module_version": "1.5.0",
      "model_name": "LabelModel",
      "state": {
       "layout": "IPY_MODEL_c7da94d6e46b4e2da051cd5a9f9478c8",
       "style": "IPY_MODEL_0e8a76c50236451f962e9bb85fa8cf32"
      }
     },
     "b9ebbb5689f94f56a113dcde79d55cf2": {
      "model_module": "@jupyter-widgets/controls",
      "model_module_version": "1.5.0",
      "model_name": "ButtonStyleModel",
      "state": {}
     },
     "ba216fd8968f445cbf69b3c668f193b7": {
      "model_module": "@jupyter-widgets/base",
      "model_module_version": "1.2.0",
      "model_name": "LayoutModel",
      "state": {
       "width": "90px"
      }
     },
     "ba6d6445631f4d51a652efb80c947d63": {
      "model_module": "@jupyter-widgets/base",
      "model_module_version": "1.2.0",
      "model_name": "LayoutModel",
      "state": {
       "width": "40px"
      }
     },
     "ba6d75bbc54b46b9b8d372ff0bfb1d6b": {
      "model_module": "@jupyter-widgets/base",
      "model_module_version": "1.2.0",
      "model_name": "LayoutModel",
      "state": {
       "width": "170px"
      }
     },
     "bae4c945398f4387aed5feeaffbe64a4": {
      "model_module": "@jupyter-widgets/controls",
      "model_module_version": "1.5.0",
      "model_name": "DescriptionStyleModel",
      "state": {
       "description_width": "5px"
      }
     },
     "baf1020799c14dbda31760ba1bfcd44a": {
      "model_module": "@jupyter-widgets/controls",
      "model_module_version": "1.5.0",
      "model_name": "ButtonStyleModel",
      "state": {}
     },
     "bb3d406d7faa455da4c8e66640ff5929": {
      "model_module": "@jupyter-widgets/base",
      "model_module_version": "1.2.0",
      "model_name": "LayoutModel",
      "state": {}
     },
     "bb6714ef912e4285aa4492bddb0084e0": {
      "model_module": "@jupyter-widgets/base",
      "model_module_version": "1.2.0",
      "model_name": "LayoutModel",
      "state": {}
     },
     "bba993d6ec4f4664a68fe4ea345b15f6": {
      "model_module": "@jupyter-widgets/base",
      "model_module_version": "1.2.0",
      "model_name": "LayoutModel",
      "state": {
       "width": "170px"
      }
     },
     "bbbc3c9bacef47d0814b2350229fa031": {
      "model_module": "@jupyter-widgets/base",
      "model_module_version": "1.2.0",
      "model_name": "LayoutModel",
      "state": {}
     },
     "bc53fefb6ebf49c08151d8669fd9a4af": {
      "model_module": "@jupyter-widgets/controls",
      "model_module_version": "1.5.0",
      "model_name": "HBoxModel",
      "state": {
       "children": [
        "IPY_MODEL_0ce76ffeb7ee4f6090a65d40aa66bccd",
        "IPY_MODEL_5848017de4fa4aa0ab6458c325bab777",
        "IPY_MODEL_c1521a2cd1f74ff892d8c327dbecfaea"
       ],
       "layout": "IPY_MODEL_4ae0ed3d30d3459689f89b312e8fed99"
      }
     },
     "bcc4919beb584b4ca132b0c940534d48": {
      "model_module": "@jupyter-widgets/base",
      "model_module_version": "1.2.0",
      "model_name": "LayoutModel",
      "state": {
       "height": "400px",
       "width": "380px"
      }
     },
     "bd9d730b60674fa68c838af7fd515340": {
      "model_module": "@jupyter-widgets/controls",
      "model_module_version": "1.5.0",
      "model_name": "ButtonStyleModel",
      "state": {}
     },
     "bde0f24d9d2e4e12b7d80e60b6407b11": {
      "model_module": "@jupyter-widgets/base",
      "model_module_version": "1.2.0",
      "model_name": "LayoutModel",
      "state": {
       "height": "38px",
       "width": "380px"
      }
     },
     "be6252bebe474d019c33473d11f90d5c": {
      "model_module": "@jupyter-widgets/controls",
      "model_module_version": "1.5.0",
      "model_name": "BoxModel",
      "state": {
       "layout": "IPY_MODEL_e64944e0549c4fac8cea8f2ac666993d"
      }
     },
     "bfa62c17c2054ffe9ee334d1074da070": {
      "model_module": "@jupyter-widgets/base",
      "model_module_version": "1.2.0",
      "model_name": "LayoutModel",
      "state": {
       "width": "160px"
      }
     },
     "bfc1c41d4f1244918004b13398c9eeeb": {
      "model_module": "@jupyter-widgets/controls",
      "model_module_version": "1.5.0",
      "model_name": "DropdownModel",
      "state": {
       "_options_labels": [
        "CRYSTAL",
        "CRYSTAL_PLUS_D3",
        "CRYSTAL_U0",
        "CRYSTAL_U0_PLUS_D3",
        "MOLECULE"
       ],
       "description": "mode",
       "index": 2,
       "layout": "IPY_MODEL_f89c39d643194fc3a84f5e39fb878d75",
       "style": "IPY_MODEL_37dd511f2ae9400db4e5fed4f86beebd"
      }
     },
     "c016827d0cfd46579c8ed75b294426c1": {
      "model_module": "@jupyter-widgets/controls",
      "model_module_version": "1.5.0",
      "model_name": "FloatTextModel",
      "state": {
       "description": "fmax",
       "layout": "IPY_MODEL_4c3d6f0d54b646d9940acf54b6d1534c",
       "step": 0.001,
       "style": "IPY_MODEL_6e1bd193a7654eb8beaf7264f2693c02",
       "value": 0.01
      }
     },
     "c0748f721f554b8d88f8a09d4ee24d1f": {
      "model_module": "@jupyter-widgets/base",
      "model_module_version": "1.2.0",
      "model_name": "LayoutModel",
      "state": {
       "height": "360px",
       "overflow_x": "hidden",
       "overflow_y": "hidden",
       "width": "385px"
      }
     },
     "c0c675d9100d411a9e17ab26e000788c": {
      "model_module": "@jupyter-widgets/base",
      "model_module_version": "1.2.0",
      "model_name": "LayoutModel",
      "state": {
       "width": "90px"
      }
     },
     "c1048de5b220458187f1775d6670932b": {
      "model_module": "@jupyter-widgets/controls",
      "model_module_version": "1.5.0",
      "model_name": "ButtonStyleModel",
      "state": {}
     },
     "c1521a2cd1f74ff892d8c327dbecfaea": {
      "model_module": "@jupyter-widgets/controls",
      "model_module_version": "1.5.0",
      "model_name": "FloatSliderModel",
      "state": {
       "layout": "IPY_MODEL_d0b17b0513624e40993e5bd66fdca6fd",
       "readout_format": ".1f",
       "step": 0.1,
       "style": "IPY_MODEL_4adc145dd9344751ac004b76b06e17cd",
       "value": 5
      }
     },
     "c15d255aa8a34880a0dfba0a373a96a3": {
      "model_module": "@jupyter-widgets/controls",
      "model_module_version": "1.5.0",
      "model_name": "HBoxModel",
      "state": {
       "children": [
        "IPY_MODEL_6b25f260e122422f849e6672b86a1728",
        "IPY_MODEL_de36f032cb1b47e69ee9a107d06a3287"
       ],
       "layout": "IPY_MODEL_dac6daada3b44d4baccc2636cc74945d"
      }
     },
     "c16ae48413744df4bd730d096a153c91": {
      "model_module": "@jupyter-widgets/base",
      "model_module_version": "1.2.0",
      "model_name": "LayoutModel",
      "state": {
       "width": "180px"
      }
     },
     "c1b43835f1974b719d1aa7b2e000412a": {
      "model_module": "@jupyter-widgets/controls",
      "model_module_version": "1.5.0",
      "model_name": "HBoxModel",
      "state": {
       "children": [
        "IPY_MODEL_8253b484c8e547fd979356b8f5e6fa35",
        "IPY_MODEL_f6388a04c33549248f97ec556acbdc37"
       ],
       "layout": "IPY_MODEL_cf490e1d254f40a0be86af59a6fc9cfe"
      }
     },
     "c25a4da8b94346a7ab2e5aa52b8e5ade": {
      "model_module": "@jupyter-widgets/base",
      "model_module_version": "1.2.0",
      "model_name": "LayoutModel",
      "state": {}
     },
     "c2dd4d2b9e92458689f060de3a6695ab": {
      "model_module": "@jupyter-widgets/controls",
      "model_module_version": "1.5.0",
      "model_name": "ButtonStyleModel",
      "state": {}
     },
     "c33f8bd0bbcd40a783a346ebe6bf66d9": {
      "model_module": "@jupyter-widgets/controls",
      "model_module_version": "1.5.0",
      "model_name": "DropdownModel",
      "state": {
       "_options_labels": [
        "0",
        "1",
        "2",
        "3",
        "4",
        "5"
       ],
       "description": "millerz",
       "index": 1,
       "layout": "IPY_MODEL_fcf9f07df76d44119c9211c6f05e0648",
       "style": "IPY_MODEL_25d5b64ad8a94d92b1c6c30b54c3997b"
      }
     },
     "c3684e9d11bf4c7b89ace616d07d3b5a": {
      "model_module": "@jupyter-widgets/controls",
      "model_module_version": "1.5.0",
      "model_name": "DropdownModel",
      "state": {
       "_options_labels": [
        "ADD",
        "File",
        "SMILES or Draw",
        "Crystal",
        "MOF"
       ],
       "index": 4,
       "layout": "IPY_MODEL_ff81e34c7c414a219411880db5741220",
       "style": "IPY_MODEL_0500a186e71e461986a4b4596facddde"
      }
     },
     "c39cc4dd7e3c4cab87a9a2f8a86b0dc0": {
      "model_module": "@jupyter-widgets/controls",
      "model_module_version": "1.5.0",
      "model_name": "ButtonModel",
      "state": {
       "description": "opt",
       "layout": "IPY_MODEL_f16da5c61ff34b11b1a07860cd419be9",
       "style": "IPY_MODEL_5f5a1070816c466c8d0394bab0f7aa7a"
      }
     },
     "c47dfb1848f74430b11be3477ce829c4": {
      "model_module": "@jupyter-widgets/controls",
      "model_module_version": "1.5.0",
      "model_name": "ButtonStyleModel",
      "state": {}
     },
     "c4e0c2ca8b514e27bd2943f97521a1a2": {
      "model_module": "@jupyter-widgets/base",
      "model_module_version": "1.2.0",
      "model_name": "LayoutModel",
      "state": {
       "height": "220px",
       "width": "350px"
      }
     },
     "c5042cb88cd247b7935b0605cb37d5be": {
      "model_module": "@jupyter-widgets/base",
      "model_module_version": "1.2.0",
      "model_name": "LayoutModel",
      "state": {}
     },
     "c509a292648e45fb9a10d97bb12ea209": {
      "model_module": "@jupyter-widgets/base",
      "model_module_version": "1.2.0",
      "model_name": "LayoutModel",
      "state": {}
     },
     "c5129ea0ba8b49a8ab95b11220fe43c5": {
      "model_module": "@jupyter-widgets/controls",
      "model_module_version": "1.5.0",
      "model_name": "ButtonModel",
      "state": {
       "description": "Add##",
       "layout": "IPY_MODEL_eceec158a5684070925760135de37270",
       "style": "IPY_MODEL_f677f15d21174362b8be6442f1dba091"
      }
     },
     "c65f7b2bac1443b8bce729ad891ce247": {
      "model_module": "@jupyter-widgets/controls",
      "model_module_version": "1.5.0",
      "model_name": "HBoxModel",
      "state": {
       "children": [
        "IPY_MODEL_171c67ed350840909a322587bc740081",
        "IPY_MODEL_68773712654c43bf9154aba8e5ec4cce",
        "IPY_MODEL_5cd7edefb00646858dc49c4462758810"
       ],
       "layout": "IPY_MODEL_1506fa6acf644d2f985d01a9391180d0"
      }
     },
     "c68d76afdc454e038872d4045e19928b": {
      "model_module": "@jupyter-widgets/controls",
      "model_module_version": "1.5.0",
      "model_name": "ButtonStyleModel",
      "state": {}
     },
     "c6918a99e7244e6da56454c2048c925c": {
      "model_module": "@jupyter-widgets/controls",
      "model_module_version": "1.5.0",
      "model_name": "DescriptionStyleModel",
      "state": {
       "description_width": ""
      }
     },
     "c6b948f273cf49fd81cedfc1fb191d3d": {
      "model_module": "@jupyter-widgets/controls",
      "model_module_version": "1.5.0",
      "model_name": "HBoxModel",
      "state": {
       "children": [
        "IPY_MODEL_d0ee33bdbc0b472bbf6507dc19e7d4eb",
        "IPY_MODEL_e1bbf2bcdbc44f30b516831ff89b2da7"
       ],
       "layout": "IPY_MODEL_80e2d3f1351c4af4a8d4c0c4210d8806"
      }
     },
     "c6f6c5ff128e4e5db09cec77c4b63717": {
      "model_module": "@jupyter-widgets/base",
      "model_module_version": "1.2.0",
      "model_name": "LayoutModel",
      "state": {
       "width": "125px"
      }
     },
     "c7a14cd6671b47d4948b374d52ce99ca": {
      "model_module": "@jupyter-widgets/base",
      "model_module_version": "1.2.0",
      "model_name": "LayoutModel",
      "state": {}
     },
     "c7da94d6e46b4e2da051cd5a9f9478c8": {
      "model_module": "@jupyter-widgets/base",
      "model_module_version": "1.2.0",
      "model_name": "LayoutModel",
      "state": {}
     },
     "c7dd92d3c85546e297bf87b53614b9a1": {
      "model_module": "@jupyter-widgets/base",
      "model_module_version": "1.2.0",
      "model_name": "LayoutModel",
      "state": {
       "width": "140px"
      }
     },
     "c7f4273965d342438467112d8d3c9fa6": {
      "model_module": "@jupyter-widgets/output",
      "model_module_version": "1.0.0",
      "model_name": "OutputModel",
      "state": {
       "layout": "IPY_MODEL_d156168a9dcb4773a7267493cd40aee7",
       "outputs": [
        {
         "data": {
          "text/html": "\n        <html><head>\n        <script type=\"text/javascript\" language=\"javascript\" src=\"https://eneos.matlantis.com/nb/py4r2l043qj6mo91/default/files/.py38/lib/python3.8/site-packages/matviewer/data/jsme/jsme.nocache.js\"></script>\n        <script>    \n        function jsmeOnLoad() {  jsmeApplet = new JSApplet.JSME(\"20231030132753\", \"380px\",\"285px\");           \n        jsmeApplet.setCallBack(\"AfterStructureModified\", show_smiles);        }        \n        function show_smiles(event) {\n         smiles = event.src.smiles();            \n         el = document.querySelector(\"input[placeholder='20231030132753']\");           \n         el.value = smiles.replace(\"/\\[([A-Za-z][a-z]?)H?\\d*:\\d+\\]/g\",smiles);           \n         el.dispatchEvent(new Event('input',{'bubbles': true,'cancelable': true}));        \n        }\n        </script></head><body><div id=\"20231030132753\"></div></body></html>\n        ",
          "text/plain": "<IPython.core.display.HTML object>"
         },
         "metadata": {},
         "output_type": "display_data"
        }
       ]
      }
     },
     "c80d9af74d544c0cb9043ad3847335e4": {
      "model_module": "@jupyter-widgets/controls",
      "model_module_version": "1.5.0",
      "model_name": "DescriptionStyleModel",
      "state": {
       "description_width": ""
      }
     },
     "c8870377eb434175aa8811cac0929065": {
      "model_module": "@jupyter-widgets/base",
      "model_module_version": "1.2.0",
      "model_name": "LayoutModel",
      "state": {
       "width": "80px"
      }
     },
     "c8bd0a9ff79e4f84be59a3034e3f59b7": {
      "model_module": "@jupyter-widgets/base",
      "model_module_version": "1.2.0",
      "model_name": "LayoutModel",
      "state": {
       "width": "140px"
      }
     },
     "c9118c92af8442c5b4479b4547444e9a": {
      "model_module": "@jupyter-widgets/controls",
      "model_module_version": "1.5.0",
      "model_name": "TextareaModel",
      "state": {
       "layout": "IPY_MODEL_37d7d61dc6c14746a9eaa1d8805c126c",
       "style": "IPY_MODEL_73619b30679749c78d145e6641828ac1"
      }
     },
     "c99be2d7c10c49118bb82ee0d4b2d942": {
      "model_module": "@jupyter-widgets/controls",
      "model_module_version": "1.5.0",
      "model_name": "ButtonStyleModel",
      "state": {}
     },
     "c9c30b0215b54585bc53b7383dfa2087": {
      "model_module": "@jupyter-widgets/controls",
      "model_module_version": "1.5.0",
      "model_name": "ButtonStyleModel",
      "state": {}
     },
     "c9cd436e9cc14270ae2336d700767789": {
      "model_module": "@jupyter-widgets/controls",
      "model_module_version": "1.5.0",
      "model_name": "ButtonStyleModel",
      "state": {}
     },
     "c9d6dfbb8fce42ae8a881da583b737b1": {
      "model_module": "@jupyter-widgets/base",
      "model_module_version": "1.2.0",
      "model_name": "LayoutModel",
      "state": {
       "width": "170px"
      }
     },
     "ca085f2b98654b5eb3965bff9e164af8": {
      "model_module": "@jupyter-widgets/controls",
      "model_module_version": "1.5.0",
      "model_name": "DescriptionStyleModel",
      "state": {
       "description_width": ""
      }
     },
     "ca83dbe2abb540c094aa18a6c5733e55": {
      "model_module": "@jupyter-widgets/base",
      "model_module_version": "1.2.0",
      "model_name": "LayoutModel",
      "state": {
       "width": "180px"
      }
     },
     "ca92c55f04f543fd897083b3feaabbee": {
      "model_module": "@jupyter-widgets/controls",
      "model_module_version": "1.5.0",
      "model_name": "LabelModel",
      "state": {
       "layout": "IPY_MODEL_3ae152758da543c180fd9e0d67f35ebd",
       "style": "IPY_MODEL_69bb32d19de84cd7af9e2e319c1d583e",
       "value": "Move Atoms indices"
      }
     },
     "ca9f94bd3a544259b73106a28c7ac9b8": {
      "model_module": "@jupyter-widgets/controls",
      "model_module_version": "1.5.0",
      "model_name": "ButtonModel",
      "state": {
       "description": "Undo",
       "layout": "IPY_MODEL_c7dd92d3c85546e297bf87b53614b9a1",
       "style": "IPY_MODEL_4814c5c18f6c4ed8a1fc87911c46fb98"
      }
     },
     "cb04e28bc7d54e68b36a327a3a6fd566": {
      "model_module": "@jupyter-widgets/controls",
      "model_module_version": "1.5.0",
      "model_name": "HBoxModel",
      "state": {
       "children": [
        "IPY_MODEL_8e81e205150342e5967b820bd72e9b0f",
        "IPY_MODEL_86b1aa34affe4128b3d80cb032f40666"
       ],
       "layout": "IPY_MODEL_dd84c578e8c645a8972e2ed29a12f6ce"
      }
     },
     "cb0c447365314d5ebf7dea46eed25486": {
      "model_module": "@jupyter-widgets/base",
      "model_module_version": "1.2.0",
      "model_name": "LayoutModel",
      "state": {
       "width": "370px"
      }
     },
     "cb88a56790b54e71bc6822958fcc0e2d": {
      "model_module": "@jupyter-widgets/base",
      "model_module_version": "1.2.0",
      "model_name": "LayoutModel",
      "state": {
       "height": "1px",
       "width": "1px"
      }
     },
     "cd73ea987dd14b7fa1986d52d5bda104": {
      "model_module": "@jupyter-widgets/base",
      "model_module_version": "1.2.0",
      "model_name": "LayoutModel",
      "state": {}
     },
     "cd788f64fa9c48ff88aa00e7bfc89cef": {
      "model_module": "@jupyter-widgets/controls",
      "model_module_version": "1.5.0",
      "model_name": "DescriptionStyleModel",
      "state": {
       "description_width": "40px"
      }
     },
     "cdb720cb80a04f24bc7bcfb0f150a99d": {
      "model_module": "@jupyter-widgets/controls",
      "model_module_version": "1.5.0",
      "model_name": "ButtonModel",
      "state": {
       "description": "set dis",
       "layout": "IPY_MODEL_d7500663207c4d9db699d79cb1bb734e",
       "style": "IPY_MODEL_31a69650b83e4058ab9b6ab9be80589c"
      }
     },
     "ce0ee52f06034039a8f10b2fe942fc2e": {
      "model_module": "@jupyter-widgets/controls",
      "model_module_version": "1.5.0",
      "model_name": "DescriptionStyleModel",
      "state": {
       "description_width": ""
      }
     },
     "ce15a33c0ad748fa8f11721ed9226352": {
      "model_module": "@jupyter-widgets/controls",
      "model_module_version": "1.5.0",
      "model_name": "FloatTextModel",
      "state": {
       "description": "mult",
       "layout": "IPY_MODEL_11d1d4ca74dd4f359a6fef8a131161ee",
       "step": 0.05,
       "style": "IPY_MODEL_1dbc51a3c769473195fdd67f435ed045",
       "value": 1
      }
     },
     "ce3161ffeae54ce8add6aa1b16175523": {
      "model_module": "@jupyter-widgets/base",
      "model_module_version": "1.2.0",
      "model_name": "LayoutModel",
      "state": {
       "width": "110px"
      }
     },
     "cec5d06078af48a5a0c1ed321b411966": {
      "model_module": "@jupyter-widgets/controls",
      "model_module_version": "1.5.0",
      "model_name": "DescriptionStyleModel",
      "state": {
       "description_width": ""
      }
     },
     "cf22187b412c45758689e697f01fce46": {
      "model_module": "@jupyter-widgets/base",
      "model_module_version": "1.2.0",
      "model_name": "LayoutModel",
      "state": {
       "width": "150px"
      }
     },
     "cf490e1d254f40a0be86af59a6fc9cfe": {
      "model_module": "@jupyter-widgets/base",
      "model_module_version": "1.2.0",
      "model_name": "LayoutModel",
      "state": {}
     },
     "cfa7eae312e94bf093d4530521f5adfa": {
      "model_module": "@jupyter-widgets/base",
      "model_module_version": "1.2.0",
      "model_name": "LayoutModel",
      "state": {
       "width": "50px"
      }
     },
     "cfb834a2544a4843b63260d099e31e7e": {
      "model_module": "@jupyter-widgets/controls",
      "model_module_version": "1.5.0",
      "model_name": "FloatTextModel",
      "state": {
       "description": "maxsteps",
       "layout": "IPY_MODEL_f859f9edd1a04897a717d9e366bf851f",
       "step": 0.001,
       "style": "IPY_MODEL_31abe07db49b4fb3a983eb40b5b06c6b",
       "value": 0.1
      }
     },
     "cff04d1bffac4542a5a431e04d3e5787": {
      "model_module": "@jupyter-widgets/controls",
      "model_module_version": "1.5.0",
      "model_name": "FloatTextModel",
      "state": {
       "description": "fmax",
       "layout": "IPY_MODEL_7bb539a43ec5428e96b82e0c629d0942",
       "step": 0.01,
       "style": "IPY_MODEL_90169e16285545ddb625d9fea3c4f785",
       "value": 0.1
      }
     },
     "d0078d9162be421babf217490b393caf": {
      "model_module": "@jupyter-widgets/controls",
      "model_module_version": "1.5.0",
      "model_name": "TextareaModel",
      "state": {
       "layout": "IPY_MODEL_a8b172a307734b139e2244537cc79f98",
       "style": "IPY_MODEL_cec5d06078af48a5a0c1ed321b411966"
      }
     },
     "d03b5518697b4ced87144d2de7ebca54": {
      "model_module": "@jupyter-widgets/base",
      "model_module_version": "1.2.0",
      "model_name": "LayoutModel",
      "state": {
       "width": "80px"
      }
     },
     "d0541d80b70343e2ac466f0ea3b174e3": {
      "model_module": "@jupyter-widgets/controls",
      "model_module_version": "1.5.0",
      "model_name": "DescriptionStyleModel",
      "state": {
       "description_width": ""
      }
     },
     "d0b17b0513624e40993e5bd66fdca6fd": {
      "model_module": "@jupyter-widgets/base",
      "model_module_version": "1.2.0",
      "model_name": "LayoutModel",
      "state": {
       "width": "170px"
      }
     },
     "d0ee33bdbc0b472bbf6507dc19e7d4eb": {
      "model_module": "@jupyter-widgets/controls",
      "model_module_version": "1.5.0",
      "model_name": "ButtonModel",
      "state": {
       "description": "vib run",
       "layout": "IPY_MODEL_5de100ae09ac43ad99a271df0edd4eb8",
       "style": "IPY_MODEL_aecaa49ecdca4557b09a7e376813883c"
      }
     },
     "d132815b29e846e790d3bed66a8b204d": {
      "model_module": "@jupyter-widgets/base",
      "model_module_version": "1.2.0",
      "model_name": "LayoutModel",
      "state": {}
     },
     "d138a1914f5b4eca9d6a40394325c77d": {
      "model_module": "@jupyter-widgets/base",
      "model_module_version": "1.2.0",
      "model_name": "LayoutModel",
      "state": {}
     },
     "d156168a9dcb4773a7267493cd40aee7": {
      "model_module": "@jupyter-widgets/base",
      "model_module_version": "1.2.0",
      "model_name": "LayoutModel",
      "state": {
       "height": "290px",
       "width": "385px"
      }
     },
     "d157118778e34b1894fe7932dcd992ed": {
      "model_module": "@jupyter-widgets/base",
      "model_module_version": "1.2.0",
      "model_name": "LayoutModel",
      "state": {
       "width": "180px"
      }
     },
     "d181f3f31925413a918970855d8f9d4b": {
      "model_module": "@jupyter-widgets/controls",
      "model_module_version": "1.5.0",
      "model_name": "TextModel",
      "state": {
       "layout": "IPY_MODEL_7c0607c664e84ee9aa246b52c24b8aee",
       "style": "IPY_MODEL_3976cf9208d6480fb168579eee98494c",
       "value": "H"
      }
     },
     "d1e2ceba78914abc83cac78717ef52f1": {
      "model_module": "@jupyter-widgets/base",
      "model_module_version": "1.2.0",
      "model_name": "LayoutModel",
      "state": {
       "width": "90px"
      }
     },
     "d2056fc053fd4f8e9598eebc6d9fb8b0": {
      "model_module": "@jupyter-widgets/controls",
      "model_module_version": "1.5.0",
      "model_name": "ButtonStyleModel",
      "state": {}
     },
     "d228a102ee1540edab24133ead8b4223": {
      "model_module": "@jupyter-widgets/base",
      "model_module_version": "1.2.0",
      "model_name": "LayoutModel",
      "state": {
       "align_items": "stretch",
       "display": "flex",
       "flex_flow": "column",
       "width": "100%"
      }
     },
     "d2d447cc382743109963e405d3ef2802": {
      "model_module": "@jupyter-widgets/controls",
      "model_module_version": "1.5.0",
      "model_name": "HBoxModel",
      "state": {
       "children": [
        "IPY_MODEL_a04a2dedb2884b638a8635143fd36920",
        "IPY_MODEL_d181f3f31925413a918970855d8f9d4b"
       ],
       "layout": "IPY_MODEL_da35450e831a42e09abb945215bc5151"
      }
     },
     "d31f0b2f27e94714ae0e6892eddd5697": {
      "model_module": "@jupyter-widgets/base",
      "model_module_version": "1.2.0",
      "model_name": "LayoutModel",
      "state": {}
     },
     "d37e0ddb94074cecaafe068aab18f36c": {
      "model_module": "@jupyter-widgets/base",
      "model_module_version": "1.2.0",
      "model_name": "LayoutModel",
      "state": {}
     },
     "d38b092fa29f4dc4b4bdaa2e26997b05": {
      "model_module": "@jupyter-widgets/controls",
      "model_module_version": "1.5.0",
      "model_name": "DescriptionStyleModel",
      "state": {
       "description_width": ""
      }
     },
     "d3a9a62879664a50a5851f78c1eaf448": {
      "model_module": "@jupyter-widgets/controls",
      "model_module_version": "1.5.0",
      "model_name": "DescriptionStyleModel",
      "state": {
       "description_width": ""
      }
     },
     "d3b354507b0547a68500d2fbc6d368fe": {
      "model_module": "@jupyter-widgets/base",
      "model_module_version": "1.2.0",
      "model_name": "LayoutModel",
      "state": {}
     },
     "d3e7c2296365455c89148f7dee85287a": {
      "model_module": "@jupyter-widgets/controls",
      "model_module_version": "1.5.0",
      "model_name": "ButtonStyleModel",
      "state": {}
     },
     "d52eaac289634d4bb357811028893ab7": {
      "model_module": "@jupyter-widgets/controls",
      "model_module_version": "1.5.0",
      "model_name": "SliderStyleModel",
      "state": {
       "description_width": ""
      }
     },
     "d556e048e8be424ebec36841ebfa9c93": {
      "model_module": "@jupyter-widgets/base",
      "model_module_version": "1.2.0",
      "model_name": "LayoutModel",
      "state": {
       "width": "170px"
      }
     },
     "d5bec7f262884a969f7b7f47f7a8db65": {
      "model_module": "@jupyter-widgets/controls",
      "model_module_version": "1.5.0",
      "model_name": "DescriptionStyleModel",
      "state": {
       "description_width": ""
      }
     },
     "d5e32be6dfbd45659749a94b24a95d6f": {
      "model_module": "@jupyter-widgets/controls",
      "model_module_version": "1.5.0",
      "model_name": "FloatTextModel",
      "state": {
       "description": "density",
       "layout": "IPY_MODEL_d37e0ddb94074cecaafe068aab18f36c",
       "step": 0.05,
       "style": "IPY_MODEL_3c3f7cc3582345ec98d217c54b0f11d2",
       "value": 0.6
      }
     },
     "d66e2be18393434f9141e9f8b35de78a": {
      "model_module": "@jupyter-widgets/controls",
      "model_module_version": "1.5.0",
      "model_name": "DescriptionStyleModel",
      "state": {
       "description_width": ""
      }
     },
     "d6f4524ff26d4ca89cc160ccca63b486": {
      "model_module": "@jupyter-widgets/controls",
      "model_module_version": "1.5.0",
      "model_name": "IntTextModel",
      "state": {
       "description": "fix ",
       "layout": "IPY_MODEL_191240722a424aa8b4e80072f0ac9def",
       "step": 1,
       "style": "IPY_MODEL_7aba0e6489af4c068a9ec81d4ff0a863"
      }
     },
     "d6f7d8d5e39a4346b96d50d874816093": {
      "model_module": "@jupyter-widgets/base",
      "model_module_version": "1.2.0",
      "model_name": "LayoutModel",
      "state": {
       "width": "130px"
      }
     },
     "d7500663207c4d9db699d79cb1bb734e": {
      "model_module": "@jupyter-widgets/base",
      "model_module_version": "1.2.0",
      "model_name": "LayoutModel",
      "state": {
       "width": "140px"
      }
     },
     "d7789f38fd2d49f3a7f85743fa265fbb": {
      "model_module": "@jupyter-widgets/base",
      "model_module_version": "1.2.0",
      "model_name": "LayoutModel",
      "state": {
       "height": "40px",
       "width": "370px"
      }
     },
     "d78d9f889ac94ce18735b1f515a40743": {
      "model_module": "@jupyter-widgets/base",
      "model_module_version": "1.2.0",
      "model_name": "LayoutModel",
      "state": {
       "width": "100px"
      }
     },
     "d7c45e17d9b340239476bdd9ef5e136b": {
      "model_module": "@jupyter-widgets/controls",
      "model_module_version": "1.5.0",
      "model_name": "DropdownModel",
      "state": {
       "_options_labels": [
        "perspective",
        "orthographic"
       ],
       "index": 1,
       "layout": "IPY_MODEL_ac9bc82fa3464a269e887873e56f94ed",
       "style": "IPY_MODEL_af7a838c406f4fd48c3653adf78646de"
      }
     },
     "d7f91b7a9813491783ca3cee239c2787": {
      "model_module": "@jupyter-widgets/base",
      "model_module_version": "1.2.0",
      "model_name": "LayoutModel",
      "state": {}
     },
     "d8b667c55504442487c7aa9cb0b65cf2": {
      "model_module": "@jupyter-widgets/controls",
      "model_module_version": "1.5.0",
      "model_name": "ButtonModel",
      "state": {
       "description": "frontview",
       "layout": "IPY_MODEL_f027aa858c434c5cb3bb2052f292a713",
       "style": "IPY_MODEL_94eac44e5b50406fb757673e31795a67"
      }
     },
     "d8b85a75f13e451ab228fafbea287950": {
      "model_module": "@jupyter-widgets/controls",
      "model_module_version": "1.5.0",
      "model_name": "TextareaModel",
      "state": {
       "layout": "IPY_MODEL_3e3b779494414212ab66e109fe2378db",
       "style": "IPY_MODEL_87f7d9a7629541f5bf43ea2b34e0b03b"
      }
     },
     "d8f712172d9d4d3ba54af2039d61c67c": {
      "model_module": "@jupyter-widgets/output",
      "model_module_version": "1.0.0",
      "model_name": "OutputModel",
      "state": {
       "layout": "IPY_MODEL_36554cd2c14c47d7bd24ccbca8cea212",
       "outputs": [
        {
         "data": {
          "text/html": "<div>\n<style scoped>\n    .dataframe tbody tr th:only-of-type {\n        vertical-align: middle;\n    }\n\n    .dataframe tbody tr th {\n        vertical-align: top;\n    }\n\n    .dataframe thead th {\n        text-align: right;\n    }\n</style>\n<table border=\"1\" class=\"dataframe\">\n  <thead>\n    <tr style=\"text-align: right;\">\n      <th></th>\n      <th>material_id</th>\n      <th>pretty_formula</th>\n      <th>energy</th>\n      <th>e_above_hull</th>\n    </tr>\n  </thead>\n  <tbody>\n    <tr>\n      <th>0</th>\n      <td>mp-13</td>\n      <td>Fe</td>\n      <td>-8.4700</td>\n      <td>0.0000</td>\n    </tr>\n    <tr>\n      <th>1</th>\n      <td>mp-136</td>\n      <td>Fe</td>\n      <td>-16.7444</td>\n      <td>0.0978</td>\n    </tr>\n    <tr>\n      <th>2</th>\n      <td>mp-150</td>\n      <td>Fe</td>\n      <td>-8.3217</td>\n      <td>0.1484</td>\n    </tr>\n    <tr>\n      <th>3</th>\n      <td>mp-1456</td>\n      <td>Fe2O3</td>\n      <td>-1060.7866</td>\n      <td>0.1194</td>\n    </tr>\n    <tr>\n      <th>4</th>\n      <td>mp-12957</td>\n      <td>O2</td>\n      <td>-39.5837</td>\n      <td>0.0000</td>\n    </tr>\n    <tr>\n      <th>5</th>\n      <td>mp-18731</td>\n      <td>Fe3O4</td>\n      <td>-92.8884</td>\n      <td>0.1057</td>\n    </tr>\n    <tr>\n      <th>6</th>\n      <td>mp-19306</td>\n      <td>Fe3O4</td>\n      <td>-94.1860</td>\n      <td>0.0131</td>\n    </tr>\n  </tbody>\n</table>\n</div>",
          "text/plain": "  material_id pretty_formula     energy  e_above_hull\n0       mp-13             Fe    -8.4700        0.0000\n1      mp-136             Fe   -16.7444        0.0978\n2      mp-150             Fe    -8.3217        0.1484\n3     mp-1456          Fe2O3 -1060.7866        0.1194\n4    mp-12957             O2   -39.5837        0.0000\n5    mp-18731          Fe3O4   -92.8884        0.1057\n6    mp-19306          Fe3O4   -94.1860        0.0131"
         },
         "metadata": {},
         "output_type": "display_data"
        }
       ]
      }
     },
     "d92a51d227194d55b92a8cb45a1abfa2": {
      "model_module": "@jupyter-widgets/controls",
      "model_module_version": "1.5.0",
      "model_name": "DescriptionStyleModel",
      "state": {
       "description_width": "30px"
      }
     },
     "d9941251cc274c0d84f94312319131ff": {
      "model_module": "@jupyter-widgets/controls",
      "model_module_version": "1.5.0",
      "model_name": "SliderStyleModel",
      "state": {
       "description_width": ""
      }
     },
     "d9a59ef13b91438c89b10602aee858b4": {
      "model_module": "@jupyter-widgets/controls",
      "model_module_version": "1.5.0",
      "model_name": "DescriptionStyleModel",
      "state": {
       "description_width": "50px"
      }
     },
     "d9aff8c8addb4d98992446a0848a924a": {
      "model_module": "@jupyter-widgets/controls",
      "model_module_version": "1.5.0",
      "model_name": "DescriptionStyleModel",
      "state": {
       "description_width": "20px"
      }
     },
     "d9c3afd21f574e57a28adcdf350ff614": {
      "model_module": "@jupyter-widgets/base",
      "model_module_version": "1.2.0",
      "model_name": "LayoutModel",
      "state": {
       "width": "100px"
      }
     },
     "d9e316d77166460390c5ef6809f73304": {
      "model_module": "@jupyter-widgets/base",
      "model_module_version": "1.2.0",
      "model_name": "LayoutModel",
      "state": {}
     },
     "da35450e831a42e09abb945215bc5151": {
      "model_module": "@jupyter-widgets/base",
      "model_module_version": "1.2.0",
      "model_name": "LayoutModel",
      "state": {}
     },
     "dac6daada3b44d4baccc2636cc74945d": {
      "model_module": "@jupyter-widgets/base",
      "model_module_version": "1.2.0",
      "model_name": "LayoutModel",
      "state": {}
     },
     "daf8f9552c4c45f08a51555548c3bf3f": {
      "model_module": "@jupyter-widgets/controls",
      "model_module_version": "1.5.0",
      "model_name": "HBoxModel",
      "state": {
       "children": [
        "IPY_MODEL_64170d6df2bf49fa91b4529565a7a5b1",
        "IPY_MODEL_0d6525458f954298b88f6911fcd7eae0",
        "IPY_MODEL_38292ade68b44852a9df156b7a0a62c3"
       ],
       "layout": "IPY_MODEL_94707306c0c8467d82c2c270daf186b2"
      }
     },
     "db0619464308494b87a2879b51b81862": {
      "model_module": "@jupyter-widgets/controls",
      "model_module_version": "1.5.0",
      "model_name": "FloatSliderModel",
      "state": {
       "description": "distance",
       "layout": "IPY_MODEL_0c2185c98c8a432d8538e6345d16ad9b",
       "max": 6,
       "min": 0.7,
       "step": 0.1,
       "style": "IPY_MODEL_771051ec08e346249b74912465b0a1b4",
       "value": 1.6
      }
     },
     "db4edc31b36b4ce1b798f5515c97c881": {
      "model_module": "@jupyter-widgets/controls",
      "model_module_version": "1.5.0",
      "model_name": "ButtonStyleModel",
      "state": {}
     },
     "dbe80f35cd1e4c0b98505a640bf0d2a8": {
      "model_module": "@jupyter-widgets/controls",
      "model_module_version": "1.5.0",
      "model_name": "ButtonStyleModel",
      "state": {}
     },
     "dc370dba920d4c1db6b43718849b56e4": {
      "model_module": "@jupyter-widgets/controls",
      "model_module_version": "1.5.0",
      "model_name": "DescriptionStyleModel",
      "state": {
       "description_width": ""
      }
     },
     "dca8130892bb4aaca997ca7b27ef3ba2": {
      "model_module": "@jupyter-widgets/base",
      "model_module_version": "1.2.0",
      "model_name": "LayoutModel",
      "state": {
       "width": "180px"
      }
     },
     "dcb51b2ccdef4ec88f32997eb7b46537": {
      "model_module": "@jupyter-widgets/controls",
      "model_module_version": "1.5.0",
      "model_name": "SliderStyleModel",
      "state": {
       "description_width": ""
      }
     },
     "dcbb4eaeff804186bc27f8c4e0f605b9": {
      "model_module": "@jupyter-widgets/controls",
      "model_module_version": "1.5.0",
      "model_name": "SliderStyleModel",
      "state": {
       "description_width": ""
      }
     },
     "dd66f22d16994ecabc6949447d756044": {
      "model_module": "@jupyter-widgets/base",
      "model_module_version": "1.2.0",
      "model_name": "LayoutModel",
      "state": {
       "width": "80px"
      }
     },
     "dd84c578e8c645a8972e2ed29a12f6ce": {
      "model_module": "@jupyter-widgets/base",
      "model_module_version": "1.2.0",
      "model_name": "LayoutModel",
      "state": {}
     },
     "dd86be3ed2154ea7a10647dcf7bcea20": {
      "model_module": "@jupyter-widgets/controls",
      "model_module_version": "1.5.0",
      "model_name": "DescriptionStyleModel",
      "state": {
       "description_width": ""
      }
     },
     "dd895ce7503546f689f6625b6f84ff03": {
      "model_module": "@jupyter-widgets/controls",
      "model_module_version": "1.5.0",
      "model_name": "DescriptionStyleModel",
      "state": {
       "description_width": ""
      }
     },
     "ddad5a9c105045f49846d3a20400ce20": {
      "model_module": "@jupyter-widgets/controls",
      "model_module_version": "1.5.0",
      "model_name": "IntTextModel",
      "state": {
       "description": "from",
       "layout": "IPY_MODEL_d9c3afd21f574e57a28adcdf350ff614",
       "step": 1,
       "style": "IPY_MODEL_de9672fd755149289a9fe8de32b2e6a1"
      }
     },
     "de36f032cb1b47e69ee9a107d06a3287": {
      "model_module": "@jupyter-widgets/controls",
      "model_module_version": "1.5.0",
      "model_name": "VBoxModel",
      "state": {
       "children": [
        "IPY_MODEL_7aea691a33004dcc9874fc374a57b2fb",
        "IPY_MODEL_44314e8051244502939b232b75ba7cae"
       ],
       "layout": "IPY_MODEL_1b653d054c2f45c887648827c09b52ac"
      }
     },
     "de5ec81a559b4010893badb05fbe150d": {
      "model_module": "@jupyter-widgets/controls",
      "model_module_version": "1.5.0",
      "model_name": "DescriptionStyleModel",
      "state": {
       "description_width": "30px"
      }
     },
     "de9672fd755149289a9fe8de32b2e6a1": {
      "model_module": "@jupyter-widgets/controls",
      "model_module_version": "1.5.0",
      "model_name": "DescriptionStyleModel",
      "state": {
       "description_width": "35px"
      }
     },
     "dea9769be3604072bf235b4c0a213ac3": {
      "model_module": "@jupyter-widgets/controls",
      "model_module_version": "1.5.0",
      "model_name": "ButtonModel",
      "state": {
       "description": "Harmonic",
       "layout": "IPY_MODEL_8c683075fe6e4d488e3945a3fff3200c",
       "style": "IPY_MODEL_99bee3d67c0145e6aa140f20c8c900bd"
      }
     },
     "def46511cc154c7ab20d3fc5cd4c46e1": {
      "model_module": "@jupyter-widgets/base",
      "model_module_version": "1.2.0",
      "model_name": "LayoutModel",
      "state": {
       "width": "180px"
      }
     },
     "dfa8bc37008e4f869e857c8a6ef07477": {
      "model_module": "@jupyter-widgets/controls",
      "model_module_version": "1.5.0",
      "model_name": "IntTextModel",
      "state": {
       "description": "A#",
       "layout": "IPY_MODEL_ba6d75bbc54b46b9b8d372ff0bfb1d6b",
       "step": 1,
       "style": "IPY_MODEL_161f37d666904b86956be8d4f97600ef"
      }
     },
     "dfdc52eaffec463f914aa81ce1d7bb8a": {
      "model_module": "@jupyter-widgets/controls",
      "model_module_version": "1.5.0",
      "model_name": "HBoxModel",
      "state": {
       "children": [
        "IPY_MODEL_85ba8f3d465d4d95aaa2a7ab527c77b5",
        "IPY_MODEL_f9b8cf5dbdd8440ab1d8fae04a67151e"
       ],
       "layout": "IPY_MODEL_4a06e045005e48cdac8d9e6c931f296f"
      }
     },
     "dfeb95b413b54df2ab05c19af5c35f3c": {
      "model_module": "@jupyter-widgets/controls",
      "model_module_version": "1.5.0",
      "model_name": "HBoxModel",
      "state": {
       "children": [
        "IPY_MODEL_c39cc4dd7e3c4cab87a9a2f8a86b0dc0",
        "IPY_MODEL_feb8d5c9100c44968c8242d4936823eb"
       ],
       "layout": "IPY_MODEL_469f7aea34ce4b308ccd1047ec49209a"
      }
     },
     "e0188513a4a747179874441b87a14f96": {
      "model_module": "@jupyter-widgets/base",
      "model_module_version": "1.2.0",
      "model_name": "LayoutModel",
      "state": {}
     },
     "e0f63eb8af6340a7ae575d5e73234dfd": {
      "model_module": "@jupyter-widgets/controls",
      "model_module_version": "1.5.0",
      "model_name": "IntSliderModel",
      "state": {
       "description": "rote",
       "layout": "IPY_MODEL_bbbc3c9bacef47d0814b2350229fa031",
       "max": 359,
       "style": "IPY_MODEL_21686ce5d7294546ac2a7560385693cb"
      }
     },
     "e12010c0eed84c1c8381315c254d2ef6": {
      "model_module": "@jupyter-widgets/controls",
      "model_module_version": "1.5.0",
      "model_name": "VBoxModel",
      "state": {
       "children": [
        "IPY_MODEL_0323db12e4a84e16834a0cedd48e8bf3",
        "IPY_MODEL_2fe8bcafbd5b49f7b8594462d05e1b14",
        "IPY_MODEL_40f2634a47ce4098bcc21690bb3c486c"
       ],
       "layout": "IPY_MODEL_a8052624b8b54ef1ab33e21a23b58b9e"
      }
     },
     "e19eaa4c0a6840dd9195eecc1d9ef861": {
      "model_module": "@jupyter-widgets/controls",
      "model_module_version": "1.5.0",
      "model_name": "VBoxModel",
      "state": {
       "children": [
        "IPY_MODEL_621d16fdfdfd43cab80d764827e0f862",
        "IPY_MODEL_dfdc52eaffec463f914aa81ce1d7bb8a",
        "IPY_MODEL_37e01f8c69c74f6f87222d55fb8f9fc4",
        "IPY_MODEL_926c5648fa4c4982bc2905474c523eee",
        "IPY_MODEL_a361683d699c4d7dac7dd0daa055c24b",
        "IPY_MODEL_c1b43835f1974b719d1aa7b2e000412a",
        "IPY_MODEL_2b24974807b3488c9315238d2dbead59"
       ],
       "layout": "IPY_MODEL_7d581279601c47508a788cbc0279a2dc"
      }
     },
     "e1bbf2bcdbc44f30b516831ff89b2da7": {
      "model_module": "@jupyter-widgets/controls",
      "model_module_version": "1.5.0",
      "model_name": "ButtonModel",
      "state": {
       "description": "vib read",
       "layout": "IPY_MODEL_120ef38237c5435ca5c6f66d01ff114b",
       "style": "IPY_MODEL_3f9c7284ec634f0ca57d4585266c3d6e"
      }
     },
     "e237246fea924edebac82af06da0640c": {
      "model_module": "@jupyter-widgets/base",
      "model_module_version": "1.2.0",
      "model_name": "LayoutModel",
      "state": {}
     },
     "e2cfaecf5ec34207808733c84a86c2d8": {
      "model_module": "@jupyter-widgets/controls",
      "model_module_version": "1.5.0",
      "model_name": "ButtonModel",
      "state": {
       "description": "view",
       "layout": "IPY_MODEL_b368844ebf804e12b592952a9bd43cc9",
       "style": "IPY_MODEL_edc1e30a1561455995bf6462661bc6ad"
      }
     },
     "e2f18ead44014cf7beec28c2f0c21a3c": {
      "model_module": "@jupyter-widgets/controls",
      "model_module_version": "1.5.0",
      "model_name": "LabelModel",
      "state": {
       "layout": "IPY_MODEL_d7f91b7a9813491783ca3cee239c2787",
       "style": "IPY_MODEL_89c09e6669a34294a6b6279df82259d7",
       "value": "ex 'tobacco','Cu12C84'"
      }
     },
     "e32b6008a5cf45799b368e47f16ea733": {
      "model_module": "@jupyter-widgets/controls",
      "model_module_version": "1.5.0",
      "model_name": "DescriptionStyleModel",
      "state": {
       "description_width": ""
      }
     },
     "e340b7cdd8ae4ea09ca8e311d6673cea": {
      "model_module": "@jupyter-widgets/base",
      "model_module_version": "1.2.0",
      "model_name": "LayoutModel",
      "state": {
       "width": "150px"
      }
     },
     "e358d34bb7be4220979fe89f58740bc4": {
      "model_module": "@jupyter-widgets/base",
      "model_module_version": "1.2.0",
      "model_name": "LayoutModel",
      "state": {
       "height": "300px",
       "overflow_x": "hidden",
       "overflow_y": "scroll",
       "width": "385px"
      }
     },
     "e3acec94bd454d0c97d74e1a7a277dd3": {
      "model_module": "@jupyter-widgets/controls",
      "model_module_version": "1.5.0",
      "model_name": "DropdownModel",
      "state": {
       "_options_labels": [
        "within",
        "any",
        "only"
       ],
       "description": "ele option",
       "index": 1,
       "layout": "IPY_MODEL_a2631a1f2fdd4a6c9f08e2349da5468a",
       "style": "IPY_MODEL_4b34543da8474052b5d7212f69520ec1"
      }
     },
     "e438b11b113647eda25eb6b8979ae4e6": {
      "model_module": "@jupyter-widgets/controls",
      "model_module_version": "1.5.0",
      "model_name": "HBoxModel",
      "state": {
       "children": [
        "IPY_MODEL_cdb720cb80a04f24bc7bcfb0f150a99d"
       ],
       "layout": "IPY_MODEL_fbf89a49a7174e5c8538f91d7e7a8b8a"
      }
     },
     "e4dbbdc367c945a0856353fd9633622e": {
      "model_module": "@jupyter-widgets/controls",
      "model_module_version": "1.5.0",
      "model_name": "DescriptionStyleModel",
      "state": {
       "description_width": ""
      }
     },
     "e52b003ba4ae448993309631e54b6ccb": {
      "model_module": "@jupyter-widgets/controls",
      "model_module_version": "1.5.0",
      "model_name": "DescriptionStyleModel",
      "state": {
       "description_width": "30px"
      }
     },
     "e577dcecb8174c06be8474e4f88da8aa": {
      "model_module": "@jupyter-widgets/controls",
      "model_module_version": "1.5.0",
      "model_name": "IntSliderModel",
      "state": {
       "layout": "IPY_MODEL_2ca2de7bbdb442f492b96f0e160c77e1",
       "max": 0,
       "style": "IPY_MODEL_5c5cf3b68bcf4396a558ceeefd42d54b"
      }
     },
     "e58352bd91a34a16987a1b693b458fc3": {
      "model_module": "@jupyter-widgets/base",
      "model_module_version": "1.2.0",
      "model_name": "LayoutModel",
      "state": {}
     },
     "e5d4399b39444a8ea7ec8d0b54d85dbf": {
      "model_module": "@jupyter-widgets/base",
      "model_module_version": "1.2.0",
      "model_name": "LayoutModel",
      "state": {
       "width": "180px"
      }
     },
     "e611fe15e1834cde81d2e8e6983bbe69": {
      "model_module": "@jupyter-widgets/controls",
      "model_module_version": "1.5.0",
      "model_name": "IntTextModel",
      "state": {
       "description": "ini #",
       "layout": "IPY_MODEL_68ffa24cc0c442e79759a03e550850a1",
       "step": 1,
       "style": "IPY_MODEL_641b85b723504720b9bdbe5c4989b27f"
      }
     },
     "e6159e14505e4cff828dfb39bca67ab2": {
      "model_module": "@jupyter-widgets/controls",
      "model_module_version": "1.5.0",
      "model_name": "SliderStyleModel",
      "state": {
       "description_width": ""
      }
     },
     "e64944e0549c4fac8cea8f2ac666993d": {
      "model_module": "@jupyter-widgets/base",
      "model_module_version": "1.2.0",
      "model_name": "LayoutModel",
      "state": {}
     },
     "e6e40403269f44dea8325d966cfe5d01": {
      "model_module": "@jupyter-widgets/base",
      "model_module_version": "1.2.0",
      "model_name": "LayoutModel",
      "state": {
       "width": "50px"
      }
     },
     "e6eab2fa2a45487396bd2b2c5b75a1cb": {
      "model_module": "@jupyter-widgets/controls",
      "model_module_version": "1.5.0",
      "model_name": "LabelModel",
      "state": {
       "layout": "IPY_MODEL_c25a4da8b94346a7ab2e5aa52b8e5ade",
       "style": "IPY_MODEL_52bdcc990c714d66a4f2177e7786f8d0",
       "value": "step"
      }
     },
     "e71ddbe616574ddbb41771a8641ed223": {
      "model_module": "@jupyter-widgets/controls",
      "model_module_version": "1.5.0",
      "model_name": "DescriptionStyleModel",
      "state": {
       "description_width": ""
      }
     },
     "e74e1f9f28854751b6fef018993f860c": {
      "model_module": "@jupyter-widgets/controls",
      "model_module_version": "1.5.0",
      "model_name": "DescriptionStyleModel",
      "state": {
       "description_width": ""
      }
     },
     "e779141fd68745d2ba239ed594211085": {
      "model_module": "@jupyter-widgets/base",
      "model_module_version": "1.2.0",
      "model_name": "LayoutModel",
      "state": {
       "width": "50px"
      }
     },
     "e7caaf19f37d48689eae473f6b2d173d": {
      "model_module": "@jupyter-widgets/controls",
      "model_module_version": "1.5.0",
      "model_name": "FloatTextModel",
      "state": {
       "description": "scale",
       "layout": "IPY_MODEL_eb49a19fcaa64203bf0f248dca38aded",
       "step": 0.001,
       "style": "IPY_MODEL_9f9a02b3b4164370b7d6061af2de3634",
       "value": 1.01
      }
     },
     "e7fc9b86883b4057867d4bf04f6c8e69": {
      "model_module": "@jupyter-widgets/controls",
      "model_module_version": "1.5.0",
      "model_name": "ButtonModel",
      "state": {
       "icon": "compress",
       "layout": "IPY_MODEL_8f255ab89c8a4948b9cbf541c2868d31",
       "style": "IPY_MODEL_b30fcce188454f948f748992662e27a5"
      }
     },
     "e88ef4e28e184b2080e66cf52745d548": {
      "model_module": "@jupyter-widgets/base",
      "model_module_version": "1.2.0",
      "model_name": "LayoutModel",
      "state": {
       "width": "60px"
      }
     },
     "e892268438394d4eb6eca51fca5af556": {
      "model_module": "@jupyter-widgets/base",
      "model_module_version": "1.2.0",
      "model_name": "LayoutModel",
      "state": {
       "height": "40px",
       "width": "370px"
      }
     },
     "e89cc9037fc64bcabd70b51720fc3428": {
      "model_module": "@jupyter-widgets/controls",
      "model_module_version": "1.5.0",
      "model_name": "LabelModel",
      "state": {
       "layout": "IPY_MODEL_51b33140ab6a45558f1ef2ce9733fe48",
       "style": "IPY_MODEL_67406e14771740419655de6009a35027",
       "value": "background"
      }
     },
     "e8d13b4d8a934c8e98f4f9dacd97c521": {
      "model_module": "@jupyter-widgets/controls",
      "model_module_version": "1.5.0",
      "model_name": "DescriptionStyleModel",
      "state": {
       "description_width": ""
      }
     },
     "e8fc1e2ba46c43b8858b55d379025679": {
      "model_module": "@jupyter-widgets/base",
      "model_module_version": "1.2.0",
      "model_name": "LayoutModel",
      "state": {}
     },
     "e94c238cbca842559311481511e54a78": {
      "model_module": "@jupyter-widgets/controls",
      "model_module_version": "1.5.0",
      "model_name": "PlayModel",
      "state": {
       "layout": "IPY_MODEL_6d6747ff78904108930da25941933ede",
       "max": 0,
       "style": "IPY_MODEL_79d876b49f084d5e999947134168131f"
      }
     },
     "e94e2f571fc348128f4ac95123282b4e": {
      "model_module": "@jupyter-widgets/base",
      "model_module_version": "1.2.0",
      "model_name": "LayoutModel",
      "state": {
       "width": "140px"
      }
     },
     "e95221c9f65a4b9080bb366003f06652": {
      "model_module": "@jupyter-widgets/controls",
      "model_module_version": "1.5.0",
      "model_name": "FloatTextModel",
      "state": {
       "description": "pos_allow",
       "layout": "IPY_MODEL_264d837eab2b4441ac1b05ed20370b98",
       "step": 0.05,
       "style": "IPY_MODEL_656ea77dfb4044969c0ebf275ee369e9",
       "value": 0.1
      }
     },
     "ea06c6a84f784d54a17b0c6db94e953a": {
      "model_module": "@jupyter-widgets/controls",
      "model_module_version": "1.5.0",
      "model_name": "DescriptionStyleModel",
      "state": {
       "description_width": ""
      }
     },
     "ea2ded2d01a945d2adece5e43a9981e9": {
      "model_module": "@jupyter-widgets/base",
      "model_module_version": "1.2.0",
      "model_name": "LayoutModel",
      "state": {
       "height": "350px",
       "width": "880px"
      }
     },
     "ea6cf518ba104a3f8750dbc6d00f0147": {
      "model_module": "@jupyter-widgets/controls",
      "model_module_version": "1.5.0",
      "model_name": "ButtonStyleModel",
      "state": {}
     },
     "ea9073ec48fe4f218d78857a269c38ff": {
      "model_module": "@jupyter-widgets/controls",
      "model_module_version": "1.5.0",
      "model_name": "ButtonModel",
      "state": {
       "description": "Just A+B",
       "layout": "IPY_MODEL_6e1032384799467f895a75fa48bd934e",
       "style": "IPY_MODEL_3bc5d191f15d4e55a894d0e1195c95a6"
      }
     },
     "eac611d0998f4c13a3c5bb0e1300d8c7": {
      "model_module": "@jupyter-widgets/base",
      "model_module_version": "1.2.0",
      "model_name": "LayoutModel",
      "state": {}
     },
     "eb22b4f62410464fac0bce0f862f2c60": {
      "model_module": "@jupyter-widgets/base",
      "model_module_version": "1.2.0",
      "model_name": "LayoutModel",
      "state": {}
     },
     "eb49a19fcaa64203bf0f248dca38aded": {
      "model_module": "@jupyter-widgets/base",
      "model_module_version": "1.2.0",
      "model_name": "LayoutModel",
      "state": {
       "width": "220px"
      }
     },
     "eb83fb3f35bb44bf9c03c8aa35072e2f": {
      "model_module": "@jupyter-widgets/controls",
      "model_module_version": "1.5.0",
      "model_name": "ButtonStyleModel",
      "state": {}
     },
     "eb9522071bd74a7384e6b402814b72b5": {
      "model_module": "@jupyter-widgets/base",
      "model_module_version": "1.2.0",
      "model_name": "LayoutModel",
      "state": {
       "width": "385px"
      }
     },
     "eb9a0e5007344692a261c0dd9c36f64f": {
      "model_module": "@jupyter-widgets/controls",
      "model_module_version": "1.5.0",
      "model_name": "ButtonStyleModel",
      "state": {}
     },
     "ececd8e4eaac40139793da9a84c36244": {
      "model_module": "@jupyter-widgets/controls",
      "model_module_version": "1.5.0",
      "model_name": "ButtonStyleModel",
      "state": {}
     },
     "eceec158a5684070925760135de37270": {
      "model_module": "@jupyter-widgets/base",
      "model_module_version": "1.2.0",
      "model_name": "LayoutModel",
      "state": {
       "height": "30px",
       "width": "60px"
      }
     },
     "ecfb5ddb38ba48149a3612245fdcec19": {
      "model_module": "@jupyter-widgets/base",
      "model_module_version": "1.2.0",
      "model_name": "LayoutModel",
      "state": {}
     },
     "ed176fc59c9a40eaab0fe59ae08e11fd": {
      "model_module": "@jupyter-widgets/controls",
      "model_module_version": "1.5.0",
      "model_name": "ButtonModel",
      "state": {
       "description": "surface_done",
       "layout": "IPY_MODEL_2683a2b1ed884a0dae80bb7d4e2b725a",
       "style": "IPY_MODEL_89d8edbdc82b4a558f093fe879441c9c"
      }
     },
     "ed9063d909fa40d086bbf521437e7a55": {
      "model_module": "@jupyter-widgets/controls",
      "model_module_version": "1.5.0",
      "model_name": "DropdownModel",
      "state": {
       "_options_labels": [
        "1",
        "2",
        "3",
        "4",
        "5"
       ],
       "description": "y",
       "index": 1,
       "layout": "IPY_MODEL_d03b5518697b4ced87144d2de7ebca54",
       "style": "IPY_MODEL_d9aff8c8addb4d98992446a0848a924a"
      }
     },
     "edc0762bcbef41ea9c6c8b10cfe43795": {
      "model_module": "@jupyter-widgets/base",
      "model_module_version": "1.2.0",
      "model_name": "LayoutModel",
      "state": {
       "width": "140px"
      }
     },
     "edc1e30a1561455995bf6462661bc6ad": {
      "model_module": "@jupyter-widgets/controls",
      "model_module_version": "1.5.0",
      "model_name": "ButtonStyleModel",
      "state": {}
     },
     "edc9bd2c3b20410188ebba3b33af540a": {
      "model_module": "@jupyter-widgets/controls",
      "model_module_version": "1.5.0",
      "model_name": "ButtonStyleModel",
      "state": {}
     },
     "ede65b662a714f1a8f9399e992dbaabb": {
      "model_module": "@jupyter-widgets/base",
      "model_module_version": "1.2.0",
      "model_name": "LayoutModel",
      "state": {
       "width": "140px"
      }
     },
     "ee18e992e68c4a5ebff9af7e1dfa4143": {
      "model_module": "@jupyter-widgets/controls",
      "model_module_version": "1.5.0",
      "model_name": "DescriptionStyleModel",
      "state": {
       "description_width": "20px"
      }
     },
     "ee2bc067afdb4873b776f95debaec597": {
      "model_module": "@jupyter-widgets/controls",
      "model_module_version": "1.5.0",
      "model_name": "ButtonModel",
      "state": {
       "description": "conects",
       "layout": "IPY_MODEL_988e649a18044e329a856754a01576a1",
       "style": "IPY_MODEL_c1048de5b220458187f1775d6670932b"
      }
     },
     "ee3068446bee470aa300ea7fb5e2f4b0": {
      "model_module": "@jupyter-widgets/controls",
      "model_module_version": "1.5.0",
      "model_name": "DescriptionStyleModel",
      "state": {
       "description_width": ""
      }
     },
     "ee4317ac02864eba8bb8eec26bb6022d": {
      "model_module": "@jupyter-widgets/controls",
      "model_module_version": "1.5.0",
      "model_name": "DescriptionStyleModel",
      "state": {
       "description_width": "35px"
      }
     },
     "ef6ace99d15541f7a629f7b3617f2b00": {
      "model_module": "@jupyter-widgets/controls",
      "model_module_version": "1.5.0",
      "model_name": "DescriptionStyleModel",
      "state": {
       "description_width": ""
      }
     },
     "ef73cac1ce0645fc88242f36f891b619": {
      "model_module": "@jupyter-widgets/controls",
      "model_module_version": "1.5.0",
      "model_name": "TextModel",
      "state": {
       "description": "SMILES",
       "layout": "IPY_MODEL_5e9e43552c1f4431b71b0a12b5d7795f",
       "placeholder": "20231030132753",
       "style": "IPY_MODEL_6a05719e2f4748429c75a06d2c99d6ff"
      }
     },
     "f027aa858c434c5cb3bb2052f292a713": {
      "model_module": "@jupyter-widgets/base",
      "model_module_version": "1.2.0",
      "model_name": "LayoutModel",
      "state": {
       "width": "140px"
      }
     },
     "f056c097744c4a7487ff28a10454bcaf": {
      "model_module": "@jupyter-widgets/base",
      "model_module_version": "1.2.0",
      "model_name": "LayoutModel",
      "state": {}
     },
     "f16da5c61ff34b11b1a07860cd419be9": {
      "model_module": "@jupyter-widgets/base",
      "model_module_version": "1.2.0",
      "model_name": "LayoutModel",
      "state": {
       "width": "130px"
      }
     },
     "f1a3a5e58d984bc2b0b7600c6247f7fd": {
      "model_module": "@jupyter-widgets/base",
      "model_module_version": "1.2.0",
      "model_name": "LayoutModel",
      "state": {}
     },
     "f1d45fa08d6b4ee3be817cb26fbfade0": {
      "model_module": "@jupyter-widgets/base",
      "model_module_version": "1.2.0",
      "model_name": "LayoutModel",
      "state": {}
     },
     "f1d659b69bbe48da888123074c6f9a31": {
      "model_module": "@jupyter-widgets/controls",
      "model_module_version": "1.5.0",
      "model_name": "DescriptionStyleModel",
      "state": {
       "description_width": ""
      }
     },
     "f1e1cfcf6b954bed91fca6527694979f": {
      "model_module": "@jupyter-widgets/controls",
      "model_module_version": "1.5.0",
      "model_name": "ButtonStyleModel",
      "state": {}
     },
     "f2613a02a2bb46149e1032828895deca": {
      "model_module": "@jupyter-widgets/controls",
      "model_module_version": "1.5.0",
      "model_name": "DescriptionStyleModel",
      "state": {
       "description_width": ""
      }
     },
     "f2b89843cc0244d79c1b989e4fba3f51": {
      "model_module": "@jupyter-widgets/base",
      "model_module_version": "1.2.0",
      "model_name": "LayoutModel",
      "state": {
       "width": "240px"
      }
     },
     "f3117a093f3340abb0e6425209c09431": {
      "model_module": "@jupyter-widgets/controls",
      "model_module_version": "1.5.0",
      "model_name": "CheckboxModel",
      "state": {
       "description": "axes",
       "disabled": false,
       "indent": false,
       "layout": "IPY_MODEL_a2de6c3561ab47bb97ca15ddd0015697",
       "style": "IPY_MODEL_8ae0fbe96019440f8cda02c3357283c0",
       "value": false
      }
     },
     "f3c0d98c2ed644b0ad78ee39ede8c82f": {
      "model_module": "@jupyter-widgets/controls",
      "model_module_version": "1.5.0",
      "model_name": "DescriptionStyleModel",
      "state": {
       "description_width": ""
      }
     },
     "f3f0a4bd792b4fa082cd9d6258f481f9": {
      "model_module": "@jupyter-widgets/controls",
      "model_module_version": "1.5.0",
      "model_name": "SliderStyleModel",
      "state": {
       "description_width": ""
      }
     },
     "f51deeea5e564aa7a4d9f82ca8dc814f": {
      "model_module": "@jupyter-widgets/controls",
      "model_module_version": "1.5.0",
      "model_name": "TextModel",
      "state": {
       "description": "path",
       "layout": "IPY_MODEL_b614bcaeea574bea932cc4877a11bb24",
       "style": "IPY_MODEL_0810c6d60a3341a18f162c19cce2bdbc",
       "value": "./output/md/NVT_"
      }
     },
     "f62f7841880e46e5a471f46d9e86ee4f": {
      "model_module": "@jupyter-widgets/base",
      "model_module_version": "1.2.0",
      "model_name": "LayoutModel",
      "state": {
       "width": "380px"
      }
     },
     "f6388a04c33549248f97ec556acbdc37": {
      "model_module": "@jupyter-widgets/controls",
      "model_module_version": "1.5.0",
      "model_name": "ButtonModel",
      "state": {
       "description": "rerun",
       "layout": "IPY_MODEL_60832cb135884958bbfe3e4659189cab",
       "style": "IPY_MODEL_eb83fb3f35bb44bf9c03c8aa35072e2f"
      }
     },
     "f677f15d21174362b8be6442f1dba091": {
      "model_module": "@jupyter-widgets/controls",
      "model_module_version": "1.5.0",
      "model_name": "ButtonStyleModel",
      "state": {}
     },
     "f67ef2eff5c6425e8248fd7fac50c6bb": {
      "model_module": "@jupyter-widgets/controls",
      "model_module_version": "1.5.0",
      "model_name": "IntTextModel",
      "state": {
       "description": "steps",
       "layout": "IPY_MODEL_67495a0f347643a99a44369454ba9e0c",
       "step": 20,
       "style": "IPY_MODEL_0ad8ac3848bb4e65bffdff3e39d8d0d7",
       "value": 100
      }
     },
     "f6dcd5ae3f3643da8766acfbe9485db5": {
      "model_module": "@jupyter-widgets/controls",
      "model_module_version": "1.5.0",
      "model_name": "CheckboxModel",
      "state": {
       "description": "force",
       "disabled": false,
       "indent": false,
       "layout": "IPY_MODEL_8ff9d44c99764912a00c415c31705cab",
       "style": "IPY_MODEL_84df048502304feaa2e9d56444e602e7",
       "value": false
      }
     },
     "f7f5ab69333d47dc89bfb1be3a7d2855": {
      "model_module": "@jupyter-widgets/controls",
      "model_module_version": "1.5.0",
      "model_name": "HBoxModel",
      "state": {
       "children": [
        "IPY_MODEL_5955c4b8308e46ea9a2628a129857f79",
        "IPY_MODEL_e2f18ead44014cf7beec28c2f0c21a3c"
       ],
       "layout": "IPY_MODEL_cd73ea987dd14b7fa1986d52d5bda104"
      }
     },
     "f859f9edd1a04897a717d9e366bf851f": {
      "model_module": "@jupyter-widgets/base",
      "model_module_version": "1.2.0",
      "model_name": "LayoutModel",
      "state": {
       "width": "120px"
      }
     },
     "f89c39d643194fc3a84f5e39fb878d75": {
      "model_module": "@jupyter-widgets/base",
      "model_module_version": "1.2.0",
      "model_name": "LayoutModel",
      "state": {}
     },
     "f8adb3da4ce44d388351da77ccfe3454": {
      "model_module": "@jupyter-widgets/base",
      "model_module_version": "1.2.0",
      "model_name": "LayoutModel",
      "state": {
       "width": "50px"
      }
     },
     "f8ebf0671fa6436e945675241a4ec333": {
      "model_module": "@jupyter-widgets/base",
      "model_module_version": "1.2.0",
      "model_name": "LayoutModel",
      "state": {}
     },
     "f94adf302ab74e8383d018cc634b7104": {
      "model_module": "@jupyter-widgets/base",
      "model_module_version": "1.2.0",
      "model_name": "LayoutModel",
      "state": {
       "height": "30px",
       "width": "50px"
      }
     },
     "f992d8ff94754d79ba217ab30d1f84b5": {
      "model_module": "@jupyter-widgets/base",
      "model_module_version": "1.2.0",
      "model_name": "LayoutModel",
      "state": {
       "height": "40px"
      }
     },
     "f9b8cf5dbdd8440ab1d8fae04a67151e": {
      "model_module": "@jupyter-widgets/controls",
      "model_module_version": "1.5.0",
      "model_name": "IntTextModel",
      "state": {
       "description": "##",
       "layout": "IPY_MODEL_d6f7d8d5e39a4346b96d50d874816093",
       "step": 1,
       "style": "IPY_MODEL_e52b003ba4ae448993309631e54b6ccb"
      }
     },
     "fa0a1b45d97542228ddfa3ae064ce4d8": {
      "model_module": "@jupyter-widgets/base",
      "model_module_version": "1.2.0",
      "model_name": "LayoutModel",
      "state": {}
     },
     "fa55eedccab0434fb223319db08ac07f": {
      "model_module": "@jupyter-widgets/base",
      "model_module_version": "1.2.0",
      "model_name": "LayoutModel",
      "state": {
       "height": "200px",
       "overflow_x": "hidden",
       "overflow_y": "scroll",
       "width": "385px"
      }
     },
     "fa768eeafd8d4dfd805a0d3bf3a9f9ea": {
      "model_module": "@jupyter-widgets/controls",
      "model_module_version": "1.5.0",
      "model_name": "SliderStyleModel",
      "state": {
       "description_width": ""
      }
     },
     "fb0f46c3b0ab4aaf9803962bd0d360e6": {
      "model_module": "@jupyter-widgets/controls",
      "model_module_version": "1.5.0",
      "model_name": "DropdownModel",
      "state": {
       "_options_labels": [
        "CALC",
        "Setting",
        "OPT",
        "NEB",
        "VIB",
        "THERMO",
        "MD_NVT"
       ],
       "index": 0,
       "layout": "IPY_MODEL_8a7254a5fc0f442392c5fcc5139d9dbb",
       "style": "IPY_MODEL_18890a8b1e4a457c9a1de1fdb8f75fed"
      }
     },
     "fb5e25309c0a4f8082a11066b20729ee": {
      "model_module": "@jupyter-widgets/controls",
      "model_module_version": "1.5.0",
      "model_name": "FloatTextModel",
      "state": {
       "description": "neb k",
       "layout": "IPY_MODEL_6b53f171a6f9404d9d487f581d6960a3",
       "step": 0.05,
       "style": "IPY_MODEL_28bdebe7fa6c476da53b6ab585ca4bc7",
       "value": 0.1
      }
     },
     "fbc1178272bd4ee2b61740a7edc27170": {
      "model_module": "@jupyter-widgets/controls",
      "model_module_version": "1.5.0",
      "model_name": "DescriptionStyleModel",
      "state": {
       "description_width": ""
      }
     },
     "fbf89a49a7174e5c8538f91d7e7a8b8a": {
      "model_module": "@jupyter-widgets/base",
      "model_module_version": "1.2.0",
      "model_name": "LayoutModel",
      "state": {}
     },
     "fc38002ce0ee419495f7dbb50a1b57cb": {
      "model_module": "@jupyter-widgets/controls",
      "model_module_version": "1.5.0",
      "model_name": "DescriptionStyleModel",
      "state": {
       "description_width": "25px"
      }
     },
     "fccf3c7c71ca40358a5cbb7f5b876de2": {
      "model_module": "@jupyter-widgets/controls",
      "model_module_version": "1.5.0",
      "model_name": "ButtonStyleModel",
      "state": {}
     },
     "fcf9f07df76d44119c9211c6f05e0648": {
      "model_module": "@jupyter-widgets/base",
      "model_module_version": "1.2.0",
      "model_name": "LayoutModel",
      "state": {
       "width": "140px"
      }
     },
     "fdc5c5850c364ce59bdac00070d51b77": {
      "model_module": "@jupyter-widgets/controls",
      "model_module_version": "1.5.0",
      "model_name": "CheckboxModel",
      "state": {
       "description": "order by z",
       "disabled": false,
       "layout": "IPY_MODEL_9d8fc178b6664df9b5050995ab0424c9",
       "style": "IPY_MODEL_bae4c945398f4387aed5feeaffbe64a4",
       "value": false
      }
     },
     "feb8d5c9100c44968c8242d4936823eb": {
      "model_module": "@jupyter-widgets/controls",
      "model_module_version": "1.5.0",
      "model_name": "CheckboxModel",
      "state": {
       "description": "opt_cell",
       "disabled": false,
       "indent": false,
       "layout": "IPY_MODEL_667ec7c73939469995d8c29cdcf48bda",
       "style": "IPY_MODEL_48a878135f5f4a6dbbe0523bab0468c2",
       "value": false
      }
     },
     "ff43d683e90e4b23b69f75ce02e5b70e": {
      "model_module": "@jupyter-widgets/controls",
      "model_module_version": "1.5.0",
      "model_name": "IntTextModel",
      "state": {
       "description": "b",
       "layout": "IPY_MODEL_1c62a98917b94d1aabbb21dc6a85021a",
       "step": 1,
       "style": "IPY_MODEL_f1d659b69bbe48da888123074c6f9a31"
      }
     },
     "ff6eb191bb7046ada9dfd2e8b9b3768e": {
      "model_module": "@jupyter-widgets/controls",
      "model_module_version": "1.5.0",
      "model_name": "HBoxModel",
      "state": {
       "children": [
        "IPY_MODEL_d8b667c55504442487c7aa9cb0b65cf2",
        "IPY_MODEL_37e67f55bf234ec981a3957f99be7aa7",
        "IPY_MODEL_6be6f082d6ea47c88f5171c42d2fcdae"
       ],
       "layout": "IPY_MODEL_062afaa619e645a1b88f786e54074a8e"
      }
     },
     "ff81e34c7c414a219411880db5741220": {
      "model_module": "@jupyter-widgets/base",
      "model_module_version": "1.2.0",
      "model_name": "LayoutModel",
      "state": {
       "width": "140px"
      }
     }
    },
    "version_major": 2,
    "version_minor": 0
   }
  }
 },
 "nbformat": 4,
 "nbformat_minor": 5
}
