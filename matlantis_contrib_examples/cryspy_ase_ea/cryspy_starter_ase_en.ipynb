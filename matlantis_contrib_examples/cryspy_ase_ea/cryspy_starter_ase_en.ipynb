{
 "cells": [
  {
   "cell_type": "markdown",
   "id": "85d1128c-f343-43b2-b487-e5424808092b",
   "metadata": {},
   "source": [
    "Copyright Preferred Computational Chemistry, Inc as contributors to Matlantis contrib project\n",
    "\n",
    "# Structure search using CrySPY's ASE interface and PFP\n",
    "\n",
    "In this guide, we will explore crystal structures for binary compounds using evolutionary algorithms with the ASE interface in CrySPY and PFP."
   ]
  },
  {
   "cell_type": "markdown",
   "id": "856264e3-0561-4d31-ac63-70ac2b0bfce6",
   "metadata": {},
   "source": [
    "### Package Installation\n",
    "\n",
    "Install the required packages: pfp-api-client, matlantis-features, and cryspy.\n",
    "\n",
    "As of writing, the most current edition of CrySPY is [v1.2.0](https://github.com/Tomoki-YAMASHITA/CrySPY/releases/tag/v1.2.0)."
   ]
  },
  {
   "cell_type": "code",
   "execution_count": 1,
   "id": "fc01cce0-4357-4808-95ed-4017f1bc2ac2",
   "metadata": {},
   "outputs": [],
   "source": [
    "# ! pip install pfp-api-client\n",
    "# ! pip install matlantis-features\n",
    "# ! pip install cryspy"
   ]
  },
  {
   "cell_type": "markdown",
   "id": "2dce2541-e5df-4043-b0e5-cb7e5a1491c7",
   "metadata": {},
   "source": [
    "### 1. Import Packages and Specify Output Directory\n",
    "\n",
    "The `results` parameter is initially set to `\"output\"`, but if you try to run the cryspy command with this setting, an error will occur because the `output` directory already has pre-calculated files. Therefore, if you are carrying out a fresh calculation, you should choose a different directory name instead of `\"output\"`."
   ]
  },
  {
   "cell_type": "code",
   "execution_count": 2,
   "id": "145e68ab-51a7-433d-a8cf-111b63bf3450",
   "metadata": {
    "tags": []
   },
   "outputs": [],
   "source": [
    "import os\n",
    "import pathlib\n",
    "import subprocess\n",
    "import time\n",
    "import pandas as pd\n",
    "import matplotlib.pyplot as plt\n",
    "\n",
    "from ase.io import read\n",
    "from ase.spacegroup.symmetrize import FixSymmetry\n",
    "from ase.geometry.analysis import Analysis\n",
    "\n",
    "from pymatgen.io.cif import CifWriter\n",
    "from pymatgen.io.ase import AseAtomsAdaptor\n",
    "\n",
    "from matlantis_features.features.common.opt import LBFGSASEOptFeature\n",
    "\n",
    "from utils import check_log_for_string \n",
    "\n",
    "try:\n",
    "    dir_path = pathlib.Path(__file__).parent\n",
    "except:\n",
    "    dir_path = pathlib.Path(\"\").resolve()\n",
    "\n",
    "results = \"output\"\n",
    "os.makedirs(dir_path / results / \"calc_in\", exist_ok = True)"
   ]
  },
  {
   "cell_type": "markdown",
   "id": "c0294ed8-d7b9-4dc4-94a6-5d04d6db6eaf",
   "metadata": {
    "tags": []
   },
   "source": [
    "### 2. Creating Input Files\n",
    "\n",
    "To use CrySPY through its ASE interface, you need to prepare three input files:`cryspy.in`, `calc_in/ase_in.py_1`, `calc_in/job_cryspy`.  Please refer to [the official documentation](https://tomoki-yamashita.github.io/CrySPY_doc/tutorial/random/ase/index.html) for further details\n",
    "\n",
    "#### cryspy.in\n",
    "\n",
    "`cryspy.in` is a file used to set the calculation conditions for CrySPY. An example of the settings is provided below. This notebook will run calculations for a binary compound, CaSi, consisting of 8 atoms. To ensure a realistic structure, a minimum distance between atoms has been established.\n",
    "\n",
    "- `atype = Ca Si` # Specifies Atom 1 and Atom 2\n",
    "- `mindist_1 = 2.5 2.0` # Minimum distance between Atom 1 and Atom 1, and Atom 1 and Atom 2\n",
    "- `mindist_2 = 2.0 2.0` # Minimum distance between Atom 2 and Atom 1, and Atom 2 and Atom 2\n",
    "\n",
    "Settings for the evolutionary algorithm are defined in the [EA] block. Refer to [a paper](\n",
    "https://www.tandfonline.com/doi/full/10.1080/27660400.2021.1943171) related to CrySPY for methods of structure generation using the evolutionary algorithm.\n",
    "\n",
    "Executing the following cell will create cryspy.in."
   ]
  },
  {
   "cell_type": "code",
   "execution_count": 3,
   "id": "aca031e0-2cfd-430b-85d0-8c0d923ce21b",
   "metadata": {
    "tags": []
   },
   "outputs": [],
   "source": [
    "input_to_save = '''[basic]\n",
    "algo = EA\n",
    "calc_code = ASE\n",
    "tot_struc = 200\n",
    "nstage = 1\n",
    "njob = 10\n",
    "jobcmd = bash\n",
    "jobfile = job_cryspy\n",
    "\n",
    "[structure]\n",
    "natot = 8\n",
    "atype = Ca Si\n",
    "nat =  4 4\n",
    "mindist_1 = 2.5 2.0\n",
    "mindist_2 = 2.0 2.0\n",
    "\n",
    "[ASE]\n",
    "ase_python = ase_in.py\n",
    "\n",
    "[EA]\n",
    "n_pop = 80\n",
    "n_crsov = 25\n",
    "n_perm = 25\n",
    "n_strain = 20\n",
    "n_rand = 10\n",
    "n_elite = 10\n",
    "n_fittest = 30\n",
    "fit_reverse = False\n",
    "slct_func = TNM\n",
    "t_size = 5\n",
    "sigma_st = 0.10\n",
    "crs_lat = equal\n",
    "nat_diff_tole = 2\n",
    "ntimes = 1\n",
    "maxcnt_ea = 50\n",
    "maxgen_ea = 5\n",
    "\n",
    "[option]'''\n",
    "\n",
    "with open(dir_path / results / \"cryspy.in\", \"w\") as f:\n",
    "    f.write(input_to_save)"
   ]
  },
  {
   "cell_type": "markdown",
   "id": "cdf813d1-c472-43b7-a428-4996f1faeb60",
   "metadata": {
    "tags": []
   },
   "source": [
    "#### calc_in/ase_in.py_1\n",
    "\n",
    "This file contains the implementation of the program for relaxing structures generated by CrySPY using PFP. The version of PFP used is `4.0.0`, and the calculation mode is set to `CRYSTAL_U0`. You are free to modify the file according to your needs. Special structures may form when the three lattice vectors approach the same plane. Structures with lattice vector angles below a certain threshold have zero energy."
   ]
  },
  {
   "cell_type": "code",
   "execution_count": 4,
   "id": "33207d6d-c6d8-4bce-a862-a4ed96dbd526",
   "metadata": {
    "tags": []
   },
   "outputs": [],
   "source": [
    "ase_to_save = '''import os\n",
    "import numpy as np\n",
    "\n",
    "from ase.constraints import ExpCellFilter, StrainFilter\n",
    "from ase.spacegroup.symmetrize import FixSymmetry\n",
    "from ase.io import read, write\n",
    "\n",
    "from matlantis_features.features.common.opt import LBFGSASEOptFeature\n",
    "\n",
    "os.environ[\"MATLANTIS_PFP_MODEL_VERSION\"] = \"v4.0.0\"\n",
    "os.environ[\"MATLANTIS_PFP_CALC_MODE\"] = \"crystal_u0\"\n",
    "\n",
    "# ---------- input structure\n",
    "# CrySPY outputs 'POSCAR' as an input file in work/xxxxxx directory\n",
    "atoms = read('POSCAR', format='vasp')\n",
    "\n",
    "# ---------- setting and run    \n",
    "def filter_structure(atoms_cell):\n",
    "    n = np.cross(atoms_cell[0], atoms_cell[1])\n",
    "    c = atoms_cell[2]\n",
    "    # Calculate the dot product between c and n\n",
    "    dot_product = np.dot(c, n)\n",
    "\n",
    "    # Calculate the magnitudes of c and n\n",
    "    mag_c = np.linalg.norm(c)\n",
    "    mag_n = np.linalg.norm(n)\n",
    "\n",
    "    # Calculate the cosine of the angle theta\n",
    "    cos_theta = dot_product / (mag_c * mag_n)\n",
    "\n",
    "    # Calculate the angle theta in radians\n",
    "    theta_rad = np.arccos(np.clip(cos_theta, -1, 1))\n",
    "\n",
    "    # Convert theta from radians to degrees if needed\n",
    "    theta_deg = np.degrees(theta_rad)\n",
    "\n",
    "    # print(\"Theta (in degrees):\", np.abs(90 - theta_deg))\n",
    "\n",
    "    if np.abs(90 - theta_deg) > 25.0:\n",
    "        return True\n",
    "    else:\n",
    "        return False\n",
    "\n",
    "if filter_structure(atoms.cell):\n",
    "    # atoms.set_constraint([FixSymmetry(atoms)])\n",
    "    opt = LBFGSASEOptFeature(filter=True)\n",
    "    result_opt = opt(atoms)\n",
    "    e = result_opt.atoms.ase_atoms.get_total_energy()\n",
    "    with open('log.tote', mode='w') as f:\n",
    "        f.write(str(e))\n",
    "\n",
    "    write('CONTCAR', result_opt.atoms.ase_atoms, format='vasp')\n",
    "\n",
    "else:\n",
    "    with open('log.tote', mode='w') as f:\n",
    "        f.write(str(0.00))\n",
    "\n",
    "    write('CONTCAR', atoms, format='vasp')'''\n",
    "\n",
    "with open(dir_path / \"results\" / \"calc_in\" / \"ase_in.py_1\", \"w\") as f:\n",
    "    f.write(ase_to_save)"
   ]
  },
  {
   "cell_type": "markdown",
   "id": "22753deb-c00e-45ea-8cbb-e826d6abbd20",
   "metadata": {},
   "source": [
    "#### calc_in/job_cryspy\n",
    "\n",
    "This is a script for executing the ASE interface."
   ]
  },
  {
   "cell_type": "code",
   "execution_count": 5,
   "id": "e5fd9963-6852-47e2-ad9f-83fc9ba41ecb",
   "metadata": {},
   "outputs": [],
   "source": [
    "job_to_save = '''#!/bin/sh\n",
    "\n",
    "# ---------- ASE\n",
    "python ase_in.py\n",
    "\n",
    "# ---------- CrySPY\n",
    "sed -i -e '3 s/^.*$/done/' stat_job'''\n",
    "\n",
    "with open(dir_path / \"results\" / \"calc_in\" / \"job_cryspy\", \"w\") as f:\n",
    "    f.write(job_to_save)"
   ]
  },
  {
   "cell_type": "markdown",
   "id": "0ae14599-c9a8-45fc-83aa-8623f0e4f76a",
   "metadata": {
    "tags": []
   },
   "source": [
    "### 3. Executing CrySPY\n",
    "\n",
    "Run the cryspy command multiple times in the directory containing the input files, until you reach the maximum number of generations(`maxgen_ea`). We use Python's subprocess module to execute the cryspy command every 20 seconds. Keep running the command until the generation limit is reached, referring to the log file (`log_cryspy`), and then exit the loop.\n",
    "\n",
    "The results of the calculation are not displayed on the screen. If you wish to review the log, please refer to either `log_cryspy` or `err_cryspy`.\n",
    "\n",
    "When running the program with 10 parallel jobs (`njob = 10`), the calculation process typically takes approximately 2 hours to complete."
   ]
  },
  {
   "cell_type": "code",
   "execution_count": 6,
   "id": "d2ecb3b4-3612-4f99-b9a5-c07cf8c66d68",
   "metadata": {
    "tags": []
   },
   "outputs": [],
   "source": [
    "# repeat cryspy command untill number of generation reaches the objective value. \n",
    "while True:\n",
    "    try:\n",
    "        # execute cryspy\n",
    "        subprocess.run(['cryspy'], cwd= dir_path / results, \n",
    "                       stdout=subprocess.DEVNULL, stderr=subprocess.DEVNULL, check=True)\n",
    "\n",
    "        # exit while loop if \"Reached maxgen_ea\" line exists in log_cryspy file.\n",
    "        if check_log_for_string(dir_path / results / \"log_cryspy\", \"Reached maxgen_ea\"):\n",
    "            print(f\"Reached maxgen_ea found in log_cryspy. Exiting...\")\n",
    "            break\n",
    "\n",
    "        # Wait for 20 seconds\n",
    "        time.sleep(20)\n",
    "\n",
    "    except Exception as e:\n",
    "        print(f\"An error occurred: {e}\")\n",
    "        break"
   ]
  },
  {
   "cell_type": "markdown",
   "id": "6e719053-0201-4f43-aca1-af5771fb2fb3",
   "metadata": {},
   "source": [
    "### 4. Visualizing Calculation Results\n",
    "\n",
    "The energy data for each structure is saved in `data/cryspy_rslt`. Compare the energies to track the evolution of the most stable structure over time. The most stable structure is achieved by adding more generations to the initial randomly generated one."
   ]
  },
  {
   "cell_type": "code",
   "execution_count": 7,
   "id": "0dd2bab2-2a92-4dba-b616-d8346e93bbcc",
   "metadata": {},
   "outputs": [],
   "source": [
    "file_path = dir_path / results / \"data\" / \"cryspy_rslt\"\n",
    "# read results as DataFrame format\n",
    "df = pd.read_csv(file_path, delim_whitespace=True)\n",
    "\n",
    "# parameter initializaiton\n",
    "current_min = float('inf')\n",
    "current_gen = 0\n",
    "\n",
    "envelope_gen = []\n",
    "envelope_eV = []\n",
    "\n",
    "# Loop through the sorted DataFrame to find the envelope points\n",
    "min_values_by_gen = df.groupby('Gen')['E_eV_atom'].min().reset_index().sort_values('Gen')\n",
    "for _, row in min_values_by_gen.iterrows():\n",
    "    if row['E_eV_atom'] < current_min:\n",
    "        current_min = row['E_eV_atom']\n",
    "        envelope_gen.append(row['Gen'])\n",
    "        envelope_eV.append(current_min)\n",
    "    else:\n",
    "        envelope_gen.append(row['Gen'])\n",
    "        envelope_eV.append(current_min)\n",
    "\n",
    "# plot\n",
    "plt.figure(figsize=(12, 8))\n",
    "scatter = plt.scatter(df['Gen'], df['E_eV_atom'], c=df['Gen'], cmap='viridis', edgecolors='k', label='Data Points')\n",
    "plt.colorbar(scatter, label='Gen Value')\n",
    "\n",
    "plt.step(envelope_gen, envelope_eV, color='r', where='post', linewidth=2, label='Envelope of Updated Minima')\n",
    "\n",
    "os.makedirs(dir_path / results / \"fig\", exist_ok = True)\n",
    "plt.ylim([-4, -2.5])\n",
    "plt.xlabel('Gen')\n",
    "plt.ylabel('E_eV_atom')\n",
    "plt.title('E_eV_atom vs Gen with Envelope of Updated Minima')\n",
    "plt.legend()\n",
    "plt.grid(True)\n",
    "plt.savefig(dir_path / results / \"fig\" / \"E_eV_atom_vs_Gen_with_Envelope.png\")\n",
    "plt.show()"
   ]
  },
  {
   "cell_type": "markdown",
   "id": "a5460775-cd8c-4126-b531-1a657f1aff0d",
   "metadata": {},
   "source": [
    "### 5. Verification of Stable Structures\n",
    "\n",
    "We'll verify if the stable structure matches the experimental structure, which has a Cmcm space group. The space group of the obtained stable structure is the same as the correct structure, which is Cmcm."
   ]
  },
  {
   "cell_type": "code",
   "execution_count": 8,
   "id": "1ba3aa23-d13f-4394-a893-51daa23962b4",
   "metadata": {
    "tags": []
   },
   "outputs": [],
   "source": [
    "df_sorted = df.sort_values(by='E_eV_atom')\n",
    "df_sorted.head(10)"
   ]
  },
  {
   "cell_type": "markdown",
   "id": "9483d7c8-b9e5-4ec9-a4d1-ea83fa578be0",
   "metadata": {
    "tags": []
   },
   "source": [
    "We will calculate the RDF (Radial Distribution Function) to compare structures. It can be confirmed that the RDF of the structure generated this time almost matches the structure registered in the Materials Project (only the top 3 stable structures and related files are saved in Matlantis-Contrib). Finally, the stable structures are saved as a CIF file."
   ]
  },
  {
   "cell_type": "code",
   "execution_count": 9,
   "id": "ad240cbf-d35c-4837-9d60-853c8902c2cb",
   "metadata": {
    "tags": []
   },
   "outputs": [],
   "source": [
    "# get structural data in Materials Project as Atoms object\n",
    "atoms = read(dir_path / \"input\" / \"cif\" / \"CaSi.cif\")\n",
    "atoms.set_constraint([FixSymmetry(atoms)])\n",
    "opt = LBFGSASEOptFeature(filter=True)\n",
    "result_opt = opt(atoms)\n",
    "result_opt.atoms.ase_atoms.set_constraint()\n",
    "\n",
    "# get the top 3 structures\n",
    "stable_index = df_sorted.index[:3]\n",
    "atoms_list = [result_opt.atoms.ase_atoms]\n",
    "for idx in stable_index:\n",
    "    file_path = dir_path / results / \"work\" / \"fin\" / str(idx).zfill(6) / \"CONTCAR\"\n",
    "    atoms_list.append(read(file_path))\n",
    "\n",
    "# plot RDF\n",
    "rmax = 5\n",
    "nbins = 100\n",
    "delta = [(rmax/nbins)*i for i in range(nbins)]\n",
    "for n, atoms in enumerate(atoms_list):\n",
    "    atoms *= (5,5,5)\n",
    "    ana = Analysis(atoms)\n",
    "    rdf = ana.get_rdf(rmax,nbins,elements=[\"Ca\",\"Si\"])[0]\n",
    "    if n == 0:\n",
    "        plt.plot(delta, rdf, label=\"Materials Project\")\n",
    "    else:\n",
    "        plt.plot(delta, rdf, label=f\"CrySPY_{n}\")\n",
    "\n",
    "plt.xlabel(\"d / Å\")\n",
    "plt.ylabel(\"RDF\")\n",
    "plt.legend()\n",
    "plt.show()\n",
    "\n",
    "# save as cif format\n",
    "os.makedirs(dir_path / results / \"cif\", exist_ok = True)\n",
    "for n, atoms in enumerate(atoms_list):\n",
    "    if n == 0:\n",
    "        continue\n",
    "    else:\n",
    "        strct = AseAtomsAdaptor.get_structure(atoms)\n",
    "        cw = CifWriter(strct, symprec=0.01)\n",
    "        cw.write_file(dir_path / results / \"cif\" / f\"CrySPY_{n}.cif\")"
   ]
  },
  {
   "cell_type": "markdown",
   "id": "6d6be160-fd30-40c9-b434-5e22af8204a2",
   "metadata": {},
   "source": [
    "### 6. Conclusion and Next Steps\n",
    "\n",
    "Using PFP for relaxing the structures generated by CSP software allows for much faster calculations than if you were using DFT. This approach can yield the correct structure, as shown in this guide. You can also create a convex hull for multi-element systems by running CSP for various compositions."
   ]
  }
 ],
 "metadata": {
  "kernelspec": {
   "display_name": "Python 3.8",
   "language": "python",
   "name": "python38"
  },
  "language_info": {
   "codemirror_mode": {
    "name": "ipython",
    "version": 3
   },
   "file_extension": ".py",
   "mimetype": "text/x-python",
   "name": "python",
   "nbconvert_exporter": "python",
   "pygments_lexer": "ipython3",
   "version": "3.8.13"
  },
  "widgets": {
   "application/vnd.jupyter.widget-state+json": {
    "state": {},
    "version_major": 2,
    "version_minor": 0
   }
  }
 },
 "nbformat": 4,
 "nbformat_minor": 5
}
