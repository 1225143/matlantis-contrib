{
 "cells": [
  {
   "cell_type": "markdown",
   "id": "85d1128c-f343-43b2-b487-e5424808092b",
   "metadata": {},
   "source": [
    "Copyright Preferred Computational Chemistry, Inc as contributors to Matlantis contrib project\n",
    "\n",
    "# Structure search using CrySPY's ASE interface and PFP\n",
    "\n",
    "本ノートブックでは、結晶構造探索ツールCrySPYに実装されているASEインターフェースとPFPを組み合わせることで、２元系化合物の結晶構造探索(Crystal Structure Search, CSP)を実行します。"
   ]
  },
  {
   "cell_type": "markdown",
   "id": "856264e3-0561-4d31-ac63-70ac2b0bfce6",
   "metadata": {},
   "source": [
    "### 事前セットアップ\n",
    "\n",
    "pfp-api-client, matlantis-features, cryspyをインストールします。\n",
    "\n",
    "執筆時点のCrySPY最新版は[v1.2.0](https://github.com/Tomoki-YAMASHITA/CrySPY/releases/tag/v1.2.0)です。"
   ]
  },
  {
   "cell_type": "code",
   "execution_count": 1,
   "id": "fc01cce0-4357-4808-95ed-4017f1bc2ac2",
   "metadata": {},
   "outputs": [],
   "source": [
    "# ! pip install pfp-api-client\n",
    "# ! pip install matlantis-features\n",
    "# ! pip install csp-cryspy"
   ]
  },
  {
   "cell_type": "markdown",
   "id": "2dce2541-e5df-4043-b0e5-cb7e5a1491c7",
   "metadata": {},
   "source": [
    "### 1. パッケージのインポート"
   ]
  },
  {
   "cell_type": "code",
   "execution_count": 2,
   "id": "145e68ab-51a7-433d-a8cf-111b63bf3450",
   "metadata": {
    "tags": []
   },
   "outputs": [],
   "source": [
    "import os\n",
    "import pathlib\n",
    "import subprocess\n",
    "import time\n",
    "import pandas as pd\n",
    "import matplotlib.pyplot as plt\n",
    "\n",
    "from ase.io import read\n",
    "from ase.spacegroup.symmetrize import FixSymmetry\n",
    "from ase.geometry.analysis import Analysis\n",
    "\n",
    "from pymatgen.io.cif import CifWriter\n",
    "from pymatgen.io.ase import AseAtomsAdaptor\n",
    "\n",
    "from matlantis_features.features.common.opt import LBFGSASEOptFeature\n",
    "from matlantis_features.utils.calculators import pfp_estimator_fn\n",
    "\n",
    "from pfp_api_client.pfp.estimator import EstimatorCalcMode\n",
    "\n",
    "from utils import check_log_for_string \n",
    "\n",
    "os.makedirs(\"./output/calc_in\", exist_ok = True)"
   ]
  },
  {
   "cell_type": "markdown",
   "id": "c0294ed8-d7b9-4dc4-94a6-5d04d6db6eaf",
   "metadata": {},
   "source": [
    "## 2. 入力ファイルの作成\n",
    "\n",
    "ASEインターフェースを用いてCrySPYを操作するために、`cryspy.in`, `calc_in/ase_in.py_1`, `calc_in/job_cryspy`の３種類のファイルを用意します。詳細は[公式ドキュメント](https://tomoki-yamashita.github.io/CrySPY_doc/ja/tutorial/random/ase/index.html)を参照してください。\n",
    "\n",
    "#### cryspy.in\n",
    "\n",
    "`cryspy.in`はCrySPYの計算条件を指定する入力ファイルです。以下に設定例を示します。本ノートブックでは8個の原子を含む二元系化合物CaSiのCSPを実行します。現実的な構造を生成するため、原子間距離の最小値を設定します。\n",
    "\n",
    "- `atype = Ca Si` # 原子1と原子2の指定\n",
    "- `mindist_1 = 2.5 2.0` # 原子1と原子1, 原子1と原子2の最小距離\n",
    "- `mindist_2 = 2.0 2.0` # 原子2と原子1, 原子2と原子2の最小距離\n",
    "\n",
    "進化的アルゴリズムに関連した設定は[EA]ブロックで定義します。構造の発生方法に関しては、[論文](https://www.tandfonline.com/doi/full/10.1080/27660400.2021.1943171)を参照してください。\n",
    "\n",
    "以下のセルを実行すると、`cryspy.in`が作成されます。"
   ]
  },
  {
   "cell_type": "code",
   "execution_count": 3,
   "id": "444a8764-69a5-42ea-bfa3-e743858c56bf",
   "metadata": {
    "tags": []
   },
   "outputs": [],
   "source": [
    "%%writefile ./output/cryspy.in\n",
    "[basic]\n",
    "algo = EA\n",
    "calc_code = ASE\n",
    "tot_struc = 50\n",
    "nstage = 1\n",
    "njob = 10\n",
    "jobcmd = bash\n",
    "jobfile = job_cryspy\n",
    "\n",
    "[structure]\n",
    "natot = 8\n",
    "atype = Ca Si\n",
    "nat =  4 4\n",
    "mindist_1 = 2.5 2.0\n",
    "mindist_2 = 2.0 2.0\n",
    "\n",
    "[ASE]\n",
    "ase_python = ase_in.py\n",
    "\n",
    "[EA]\n",
    "n_pop = 30\n",
    "n_crsov = 10\n",
    "n_perm = 10\n",
    "n_strain = 5\n",
    "n_rand = 5\n",
    "n_elite = 10\n",
    "n_fittest = 15\n",
    "fit_reverse = False\n",
    "slct_func = TNM\n",
    "t_size = 5\n",
    "sigma_st = 0.10\n",
    "crs_lat = equal\n",
    "nat_diff_tole = 2\n",
    "ntimes = 1\n",
    "maxcnt_ea = 50\n",
    "maxgen_ea = 5\n",
    "\n",
    "[option]"
   ]
  },
  {
   "cell_type": "markdown",
   "id": "6cb85205-f834-446e-91fd-20382f0c6ff2",
   "metadata": {
    "tags": []
   },
   "source": [
    "#### calc_in/ase_in.py_1\n",
    "\n",
    "CrySPYが生成した構造を、PFPを用いて緩和するためのプログラムが実装されています。ここではPFPの計算モードを`CRYSTAL_U0`としています。必要に応じて修正してください。3つの格子ベクトルが同一平面に接近した特殊な構造が生成されることがあります。ここでは、格子ベクトルの角度が一定の閾値を下回る構造のエネルギーをゼロとしてフィルタリングしています。"
   ]
  },
  {
   "cell_type": "code",
   "execution_count": 4,
   "id": "7fce85f6-7481-4eff-a4c7-f28be308c122",
   "metadata": {
    "tags": []
   },
   "outputs": [],
   "source": [
    "%%writefile ./output/calc_in/ase_in.py_1\n",
    "import os\n",
    "import numpy as np\n",
    "\n",
    "from ase.spacegroup.symmetrize import FixSymmetry\n",
    "from ase.io import read, write\n",
    "\n",
    "from pfp_api_client.pfp.calculators.ase_calculator import ASECalculator\n",
    "from pfp_api_client.pfp.estimator import EstimatorCalcMode\n",
    "\n",
    "from matlantis_features.features.common.opt import LBFGSASEOptFeature\n",
    "from matlantis_features.utils.calculators import pfp_estimator_fn\n",
    "\n",
    "# ---------- input structure\n",
    "# CrySPY outputs 'POSCAR' as an input file in work/xxxxxx directory\n",
    "atoms = read('POSCAR', format='vasp')\n",
    "\n",
    "# ---------- setting and run    \n",
    "def filter_structure(atoms_cell):\n",
    "    n = np.cross(atoms_cell[0], atoms_cell[1])\n",
    "    c = atoms_cell[2]\n",
    "    # Calculate the dot product between c and n\n",
    "    dot_product = np.dot(c, n)\n",
    "\n",
    "    # Calculate the magnitudes of c and n\n",
    "    mag_c = np.linalg.norm(c)\n",
    "    mag_n = np.linalg.norm(n)\n",
    "\n",
    "    # Calculate the cosine of the angle theta\n",
    "    cos_theta = dot_product / (mag_c * mag_n)\n",
    "\n",
    "    # Calculate the angle theta in radians\n",
    "    theta_rad = np.arccos(np.clip(cos_theta, -1, 1))\n",
    "\n",
    "    # Convert theta from radians to degrees if needed\n",
    "    theta_deg = np.degrees(theta_rad)\n",
    "\n",
    "    # print(\"Theta (in degrees):\", np.abs(90 - theta_deg))\n",
    "\n",
    "    if np.abs(90 - theta_deg) > 25.0:\n",
    "        return True\n",
    "    else:\n",
    "        return False\n",
    "\n",
    "if filter_structure(atoms.cell):\n",
    "    atoms.set_constraint([FixSymmetry(atoms)])\n",
    "    opt = LBFGSASEOptFeature(n_run=1000,\n",
    "                             filter=True,\n",
    "                             estimator_fn=pfp_estimator_fn(\n",
    "                                 model_version=\"v5.0.0\",\n",
    "                                 calc_mode=EstimatorCalcMode.CRYSTAL_U0,\n",
    "                             ),\n",
    "                            )\n",
    "    result_opt = opt(atoms)\n",
    "    e = result_opt.atoms.ase_atoms.get_total_energy()\n",
    "    with open('log.tote', mode='w') as f:\n",
    "        f.write(str(e))\n",
    "\n",
    "    write('CONTCAR', result_opt.atoms.ase_atoms, format='vasp')\n",
    "\n",
    "else:\n",
    "    with open('log.tote', mode='w') as f:\n",
    "        f.write(str(0.00))\n",
    "\n",
    "    write('CONTCAR', atoms, format='vasp')"
   ]
  },
  {
   "cell_type": "markdown",
   "id": "cdf813d1-c472-43b7-a428-4996f1faeb60",
   "metadata": {
    "tags": []
   },
   "source": [
    "#### calc_in/job_cryspy\n",
    "\n",
    "ASEインターフェースを実行するためのスクリプトです。"
   ]
  },
  {
   "cell_type": "code",
   "execution_count": 5,
   "id": "87deee2e-6c7d-41b2-a87d-327b2af3cafa",
   "metadata": {
    "tags": []
   },
   "outputs": [],
   "source": [
    "%%writefile ./output/calc_in/job_cryspy\n",
    "#!/bin/sh\n",
    "\n",
    "# ---------- ASE\n",
    "python ase_in.py\n",
    "\n",
    "# ---------- CrySPY\n",
    "sed -i -e '3 s/^.*$/done/' stat_job"
   ]
  },
  {
   "cell_type": "markdown",
   "id": "0ae14599-c9a8-45fc-83aa-8623f0e4f76a",
   "metadata": {
    "tags": []
   },
   "source": [
    "### 3. CrySPYの実行\n",
    "\n",
    "CrySPYの実行コマンドcryspyを、入力ファイルが存在するディレクトリで最大世代数(`maxgen_ea`)に到達するまで実行します。ここでは20秒毎にsubprocessモジュールを用いてノートブック上からcryspyコマンドを実行します。ログファイル（`log_cryspy`）を参照し、最終世代に到達した段階でループを抜けます。\n",
    "\n",
    "計算結果の画面出力は破棄しています。ログを確認したい場合`log_cryspy`や`err_cryspy`を参照してください。\n",
    "\n",
    "10並列(`njob = 10`)で実行した場合、30分程度で計算が完了します。"
   ]
  },
  {
   "cell_type": "code",
   "execution_count": 6,
   "id": "d2ecb3b4-3612-4f99-b9a5-c07cf8c66d68",
   "metadata": {
    "tags": []
   },
   "outputs": [],
   "source": [
    "while True:\n",
    "    try:\n",
    "        # cryspyの実行\n",
    "        subprocess.run(['cryspy'], cwd= \"./output\",\n",
    "                       stdout=subprocess.DEVNULL, stderr=subprocess.DEVNULL, check=True)\n",
    "\n",
    "        # logファイルに\"Reached maxgen_ea\"が表示された場合計算を終了\n",
    "        if check_log_for_string(\"./output/log_cryspy\", \"Reached maxgen_ea\"):\n",
    "            print(f\"Reached maxgen_ea found in log_cryspy. Exiting...\")\n",
    "            break\n",
    "\n",
    "        # 20秒ごとにcryspyを実行\n",
    "        time.sleep(20)\n",
    "\n",
    "    except Exception as e:\n",
    "        print(f\"An error occurred: {e}\")\n",
    "        break"
   ]
  },
  {
   "cell_type": "markdown",
   "id": "6e719053-0201-4f43-aca1-af5771fb2fb3",
   "metadata": {},
   "source": [
    "### 4. 計算結果の可視化\n",
    "\n",
    "各世代各構造に対するエネルギーは`data/cryspy_rslt`に保存されています。世代ごとの構造のエネルギーを比較しましょう。ランダム生成した第一世代に対し、世代を増やすことで最安定構造が更新されています。"
   ]
  },
  {
   "cell_type": "code",
   "execution_count": 6,
   "id": "5482c651-e2ac-4bde-b77f-4e2a9df635df",
   "metadata": {
    "tags": []
   },
   "outputs": [
    {
     "data": {
      "image/png": "[encoded data removed]",
      "text/plain": [
       "<Figure size 1200x800 with 2 Axes>"
      ]
     },
     "metadata": {},
     "output_type": "display_data"
    }
   ],
   "source": [
    "file_path = \"./output/data/cryspy_rslt\"\n",
    "# DataFrame形式で結果を読み込み\n",
    "df = pd.read_csv(file_path, delim_whitespace=True)\n",
    "\n",
    "# パラメータの初期化\n",
    "current_min = float('inf')\n",
    "current_gen = 0\n",
    "\n",
    "envelope_gen = []\n",
    "envelope_eV = []\n",
    "\n",
    "# 包絡線をプロットするためのポイントの探索\n",
    "min_values_by_gen = df.groupby('Gen')['E_eV_atom'].min().reset_index().sort_values('Gen')\n",
    "for _, row in min_values_by_gen.iterrows():\n",
    "    if row['E_eV_atom'] < current_min:\n",
    "        current_min = row['E_eV_atom']\n",
    "        envelope_gen.append(row['Gen'])\n",
    "        envelope_eV.append(current_min)\n",
    "    else:\n",
    "        envelope_gen.append(row['Gen'])\n",
    "        envelope_eV.append(current_min)\n",
    "\n",
    "# 描画\n",
    "plt.figure(figsize=(12, 8))\n",
    "scatter = plt.scatter(df['Gen'], df['E_eV_atom'], c=df['Gen'], cmap='viridis', edgecolors='k', label='Data Points')\n",
    "plt.colorbar(scatter, label='Gen Value')\n",
    "\n",
    "plt.step(envelope_gen, envelope_eV, color='r', where='post', linewidth=2, label='Envelope of Updated Minima')\n",
    "\n",
    "os.makedirs(\"./output/fig\", exist_ok = True)\n",
    "plt.xlabel('Gen')\n",
    "plt.ylabel('E_eV_atom')\n",
    "plt.title('E_eV_atom vs Gen with Envelope of Updated Minima')\n",
    "plt.legend()\n",
    "plt.grid(True)\n",
    "plt.savefig(\"./output/fig/E_eV_atom_vs_Gen_with_Envelope.png\")\n",
    "plt.show()"
   ]
  },
  {
   "cell_type": "markdown",
   "id": "ea5b58aa-0c09-4c56-b74a-6d992b1d1033",
   "metadata": {},
   "source": [
    "### 5.安定構造の確認\n",
    "\n",
    "安定構造が実験構造（空間群：Cmcm）と一致するか検証します。最も安定な複数の上位構造がCmcmの空間群を有することを確認できます。"
   ]
  },
  {
   "cell_type": "code",
   "execution_count": 7,
   "id": "db72eaa8-d997-41ed-992b-b9c5d12c5b07",
   "metadata": {
    "tags": []
   },
   "outputs": [
    {
     "data": {
      "text/html": [
       "<div>\n",
       "<style scoped>\n",
       "    .dataframe tbody tr th:only-of-type {\n",
       "        vertical-align: middle;\n",
       "    }\n",
       "\n",
       "    .dataframe tbody tr th {\n",
       "        vertical-align: top;\n",
       "    }\n",
       "\n",
       "    .dataframe thead th {\n",
       "        text-align: right;\n",
       "    }\n",
       "</style>\n",
       "<table border=\"1\" class=\"dataframe\">\n",
       "  <thead>\n",
       "    <tr style=\"text-align: right;\">\n",
       "      <th></th>\n",
       "      <th>Gen</th>\n",
       "      <th>Spg_num</th>\n",
       "      <th>Spg_sym</th>\n",
       "      <th>Spg_num_opt</th>\n",
       "      <th>Spg_sym_opt</th>\n",
       "      <th>E_eV_atom</th>\n",
       "      <th>Magmom</th>\n",
       "      <th>Opt</th>\n",
       "    </tr>\n",
       "  </thead>\n",
       "  <tbody>\n",
       "    <tr>\n",
       "      <th>148</th>\n",
       "      <td>5</td>\n",
       "      <td>1</td>\n",
       "      <td>P1</td>\n",
       "      <td>63</td>\n",
       "      <td>Cmcm</td>\n",
       "      <td>-3.767509</td>\n",
       "      <td>NaN</td>\n",
       "      <td>no_file</td>\n",
       "    </tr>\n",
       "    <tr>\n",
       "      <th>103</th>\n",
       "      <td>3</td>\n",
       "      <td>2</td>\n",
       "      <td>P-1</td>\n",
       "      <td>63</td>\n",
       "      <td>Cmcm</td>\n",
       "      <td>-3.767508</td>\n",
       "      <td>NaN</td>\n",
       "      <td>no_file</td>\n",
       "    </tr>\n",
       "    <tr>\n",
       "      <th>127</th>\n",
       "      <td>4</td>\n",
       "      <td>6</td>\n",
       "      <td>Pm</td>\n",
       "      <td>63</td>\n",
       "      <td>Cmcm</td>\n",
       "      <td>-3.767508</td>\n",
       "      <td>NaN</td>\n",
       "      <td>no_file</td>\n",
       "    </tr>\n",
       "    <tr>\n",
       "      <th>155</th>\n",
       "      <td>5</td>\n",
       "      <td>6</td>\n",
       "      <td>Pm</td>\n",
       "      <td>63</td>\n",
       "      <td>Cmcm</td>\n",
       "      <td>-3.767508</td>\n",
       "      <td>NaN</td>\n",
       "      <td>no_file</td>\n",
       "    </tr>\n",
       "    <tr>\n",
       "      <th>84</th>\n",
       "      <td>3</td>\n",
       "      <td>1</td>\n",
       "      <td>P1</td>\n",
       "      <td>63</td>\n",
       "      <td>Cmcm</td>\n",
       "      <td>-3.767507</td>\n",
       "      <td>NaN</td>\n",
       "      <td>no_file</td>\n",
       "    </tr>\n",
       "    <tr>\n",
       "      <th>55</th>\n",
       "      <td>2</td>\n",
       "      <td>1</td>\n",
       "      <td>P1</td>\n",
       "      <td>63</td>\n",
       "      <td>Cmcm</td>\n",
       "      <td>-3.767506</td>\n",
       "      <td>NaN</td>\n",
       "      <td>no_file</td>\n",
       "    </tr>\n",
       "    <tr>\n",
       "      <th>74</th>\n",
       "      <td>2</td>\n",
       "      <td>10</td>\n",
       "      <td>P2/m</td>\n",
       "      <td>63</td>\n",
       "      <td>Cmcm</td>\n",
       "      <td>-3.767506</td>\n",
       "      <td>NaN</td>\n",
       "      <td>no_file</td>\n",
       "    </tr>\n",
       "    <tr>\n",
       "      <th>87</th>\n",
       "      <td>3</td>\n",
       "      <td>11</td>\n",
       "      <td>P2_1/m</td>\n",
       "      <td>63</td>\n",
       "      <td>Cmcm</td>\n",
       "      <td>-3.767506</td>\n",
       "      <td>NaN</td>\n",
       "      <td>no_file</td>\n",
       "    </tr>\n",
       "    <tr>\n",
       "      <th>50</th>\n",
       "      <td>2</td>\n",
       "      <td>1</td>\n",
       "      <td>P1</td>\n",
       "      <td>63</td>\n",
       "      <td>Cmcm</td>\n",
       "      <td>-3.767505</td>\n",
       "      <td>NaN</td>\n",
       "      <td>no_file</td>\n",
       "    </tr>\n",
       "    <tr>\n",
       "      <th>104</th>\n",
       "      <td>3</td>\n",
       "      <td>12</td>\n",
       "      <td>C2/m</td>\n",
       "      <td>63</td>\n",
       "      <td>Cmcm</td>\n",
       "      <td>-3.767504</td>\n",
       "      <td>NaN</td>\n",
       "      <td>no_file</td>\n",
       "    </tr>\n",
       "  </tbody>\n",
       "</table>\n",
       "</div>"
      ],
      "text/plain": [
       "     Gen  Spg_num Spg_sym  Spg_num_opt Spg_sym_opt  E_eV_atom  Magmom      Opt\n",
       "148    5        1      P1           63        Cmcm  -3.767509     NaN  no_file\n",
       "103    3        2     P-1           63        Cmcm  -3.767508     NaN  no_file\n",
       "127    4        6      Pm           63        Cmcm  -3.767508     NaN  no_file\n",
       "155    5        6      Pm           63        Cmcm  -3.767508     NaN  no_file\n",
       "84     3        1      P1           63        Cmcm  -3.767507     NaN  no_file\n",
       "55     2        1      P1           63        Cmcm  -3.767506     NaN  no_file\n",
       "74     2       10    P2/m           63        Cmcm  -3.767506     NaN  no_file\n",
       "87     3       11  P2_1/m           63        Cmcm  -3.767506     NaN  no_file\n",
       "50     2        1      P1           63        Cmcm  -3.767505     NaN  no_file\n",
       "104    3       12    C2/m           63        Cmcm  -3.767504     NaN  no_file"
      ]
     },
     "execution_count": 7,
     "metadata": {},
     "output_type": "execute_result"
    }
   ],
   "source": [
    "df_sorted = df.sort_values(by='E_eV_atom')\n",
    "df_sorted.head(10)"
   ]
  },
  {
   "cell_type": "markdown",
   "id": "779da9da-c1e3-4c3c-ac6f-df960fca675a",
   "metadata": {},
   "source": [
    "RDF(動径分布関数)を計算し、構造を比較します。Materials Projectに登録されている構造と今回生成された構造のRDFが良く一致することを確認できます(注：Matlantis-Contribには上位3個の安定構造の関連ファイルのみを保存しています)。最後に、安定構造をcif形式で保存しています。"
   ]
  },
  {
   "cell_type": "code",
   "execution_count": 8,
   "id": "7eb9b7f3-1ef0-44bc-ab89-92486b88d98b",
   "metadata": {
    "tags": []
   },
   "outputs": [
    {
     "data": {
      "image/png": "[encoded data removed]",
      "text/plain": [
       "<Figure size 640x480 with 1 Axes>"
      ]
     },
     "metadata": {},
     "output_type": "display_data"
    }
   ],
   "source": [
    "# Materials Project登録データをAtomsオブジェクトとして取得\n",
    "atoms = read(\"./input/cif/CaSi.cif\")\n",
    "atoms.set_constraint([FixSymmetry(atoms)])\n",
    "opt = LBFGSASEOptFeature(filter=True,\n",
    "                         estimator_fn = pfp_estimator_fn(\n",
    "                             model_version=\"v5.0.0\",\n",
    "                             calc_mode=EstimatorCalcMode.CRYSTAL_U0,\n",
    "                         ),\n",
    "                        )\n",
    "result_opt = opt(atoms)\n",
    "result_opt.atoms.ase_atoms.set_constraint()\n",
    "\n",
    "# 上位3構造を取得\n",
    "stable_index = df_sorted.index[:3]\n",
    "atoms_list = [result_opt.atoms.ase_atoms]\n",
    "for idx in stable_index:\n",
    "    file_path = f\"./output/work/fin/{str(idx).zfill(6)}/CONTCAR\"\n",
    "    atoms_list.append(read(file_path))\n",
    "\n",
    "# RDFのプロット\n",
    "rmax = 5\n",
    "nbins = 100\n",
    "delta = [(rmax/nbins)*i for i in range(nbins)]\n",
    "for n, atoms in enumerate(atoms_list):\n",
    "    atoms *= (5,5,5)\n",
    "    ana = Analysis(atoms)\n",
    "    rdf = ana.get_rdf(rmax,nbins,elements=[\"Ca\",\"Si\"])[0]\n",
    "    if n == 0:\n",
    "        plt.plot(delta, rdf, label=\"Materials Project\")\n",
    "    else:\n",
    "        plt.plot(delta, rdf, label=f\"CrySPY_{n}\")\n",
    "\n",
    "plt.xlabel(\"d / Å\")\n",
    "plt.ylabel(\"RDF\")\n",
    "plt.legend()\n",
    "plt.show()\n",
    "\n",
    "# cif形式で保存\n",
    "os.makedirs(\"./output/cif\", exist_ok = True)\n",
    "for n, atoms in enumerate(atoms_list):\n",
    "    if n == 0:\n",
    "        continue\n",
    "    else:\n",
    "        strct = AseAtomsAdaptor.get_structure(atoms)\n",
    "        cw = CifWriter(strct, symprec=0.01)\n",
    "        cw.write_file(f\"./output/cif/CrySPY_{n}.cif\")"
   ]
  },
  {
   "cell_type": "markdown",
   "id": "6d6be160-fd30-40c9-b434-5e22af8204a2",
   "metadata": {},
   "source": [
    "### 6. 結論と次のステップ\n",
    "\n",
    "CSPソフトウェアで生成された構造の緩和にPFPを用いることで、DFTを用いた場合に比べ圧倒的に高速な計算が可能となり、今回のケースのように正解構造を得られる場合があります。更に、様々な組成のCSPを実行することで多元素系の凸包（convex hull）を作成できます。"
   ]
  }
 ],
 "metadata": {
  "kernelspec": {
   "display_name": "Python 3.8",
   "language": "python",
   "name": "python38"
  },
  "language_info": {
   "codemirror_mode": {
    "name": "ipython",
    "version": 3
   },
   "file_extension": ".py",
   "mimetype": "text/x-python",
   "name": "python",
   "nbconvert_exporter": "python",
   "pygments_lexer": "ipython3",
   "version": "3.8.13"
  },
  "matlantis-remote-job-metadata": {
   "allowSaveMetadata": true,
   "jobSpecTemplate": {
    "data": [
     {
      "drive": "j8o49rprze073x21",
      "path": "from_JI/src.zip",
      "type": "group_drive"
     }
    ],
    "input": {
     "drive": "j8o49rprze073x21",
     "path": "/jobs/inputs",
     "type": "group_drive"
    },
    "input_source": {
     "files": [
      "work/2023/contrib-PR/utils.py"
     ],
     "type": "filelist"
    },
    "output": {
     "drive": "j8o49rprze073x21",
     "path": "/jobs/%Y/%m/%JOB_ID",
     "type": "group_drive"
    },
    "version": 1
   }
  },
  "widgets": {
   "application/vnd.jupyter.widget-state+json": {
    "state": {},
    "version_major": 2,
    "version_minor": 0
   }
  }
 },
 "nbformat": 4,
 "nbformat_minor": 5
}
