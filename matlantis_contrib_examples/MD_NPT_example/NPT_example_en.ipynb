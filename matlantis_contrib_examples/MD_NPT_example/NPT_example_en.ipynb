{
 "cells": [
  {
   "cell_type": "markdown",
   "id": "5b280401",
   "metadata": {},
   "source": [
    "Copyright Preferred Computational Chemistry, Inc. and Preferred Networks, Inc. as contributors to Matlantis contrib project\n",
    "\n",
    "This notebook was machine translated from Japanese to English.\n",
    "\n",
    "# A Comprehensive Guide to NPT Molecular Dynamics Simulations\n",
    "\n",
    "## Setting the Stage\n",
    "\n",
    "The crystallographic information file (CIF) for SiO2 was sourced from the esteemed Materials Project database.<br/>\n",
    "For detailed instructions, kindly refer to the \"Import material from Material Project\" option in the Launcher menu.\n",
    " - https://materialsproject.org/materials/mp-6945/\n",
    " - https://materialsproject.org/materials/mp-546794/"
   ]
  },
  {
   "cell_type": "markdown",
   "id": "ba0a558f-21c2-4c60-bcc1-1cac58d6316f",
   "metadata": {},
   "source": [
    "The input CIF files were obtained from the following seminal work:\\\n",
    "A. Jain*, S.P. Ong*, G. Hautier, W. Chen, W.D. Richards, S. Dacek, S. Cholia, D. Gunter, D. Skinner, G. Ceder, K.A. Persson (*=equal contributions)\\\n",
    "The Materials Project: A materials genome approach to accelerating materials innovation\\\n",
    "APL Materials, 2013, 1(1), 011002.\\\n",
    "[doi:10.1063/1.4812323](http://dx.doi.org/10.1063/1.4812323)\\\n",
    "[[bibtex]](https://materialsproject.org/static/docs/jain_ong2013.349ca3156250.bib)\\\n",
    "Licensed under [CC BY 4.0](https://creativecommons.org/licenses/by/4.0/)"
   ]
  },
  {
   "cell_type": "code",
   "execution_count": null,
   "id": "8cd55bcd-3133-4720-98d1-5209ebfd3030",
   "metadata": {},
   "outputs": [],
   "source": [
    "!pip install pfp_api_client\n",
    "!pip install matplotlib ase\n",
    "\n",
    "# Please install the libraries only for the first use."
   ]
  },
  {
   "cell_type": "code",
   "execution_count": 1,
   "id": "a67b358b",
   "metadata": {},
   "outputs": [
    {
     "data": {
      "text/plain": [
       "'3.22.0'"
      ]
     },
     "execution_count": 1,
     "metadata": {},
     "output_type": "execute_result"
    }
   ],
   "source": [
    "import ase\n",
    "from ase.build import molecule\n",
    "from ase.visualize import view\n",
    "\n",
    "ase.__version__"
   ]
  },
  {
   "cell_type": "code",
   "execution_count": 2,
   "id": "41bf8f76",
   "metadata": {},
   "outputs": [],
   "source": [
    "from pfp_api_client.pfp.estimator import Estimator\n",
    "from pfp_api_client.pfp.calculators.ase_calculator import ASECalculator\n",
    "\n",
    "estimator = Estimator()\n",
    "calculator = ASECalculator(estimator)"
   ]
  },
  {
   "cell_type": "code",
   "execution_count": 3,
   "id": "15ccf6f4-50f1-4579-ba9d-3b4b0b3f5ca0",
   "metadata": {},
   "outputs": [],
   "source": [
    "import os\n",
    "\n",
    "os.makedirs(\"output\", exist_ok=True)"
   ]
  },
  {
   "cell_type": "markdown",
   "id": "a16b306c",
   "metadata": {},
   "source": [
    "The SiO2 structure under investigation in this study"
   ]
  },
  {
   "cell_type": "code",
   "execution_count": 4,
   "id": "533d7b93",
   "metadata": {},
   "outputs": [
    {
     "data": {
      "application/vnd.jupyter.widget-view+json": {
       "model_id": "136026bfb454411b83a392c19ef773cb",
       "version_major": 2,
       "version_minor": 0
      },
      "text/plain": []
     },
     "metadata": {},
     "output_type": "display_data"
    },
    {
     "data": {
      "application/vnd.jupyter.widget-view+json": {
       "model_id": "7a14744ac0ad405ca0e7b01f45ba463e",
       "version_major": 2,
       "version_minor": 0
      },
      "text/plain": [
       "HBox(children=(NGLWidget(), VBox(children=(Dropdown(description='Show', options=('All', 'Si', 'O'), value='All…"
      ]
     },
     "metadata": {},
     "output_type": "display_data"
    }
   ],
   "source": [
    "import ase.io\n",
    "from ase.visualize import view\n",
    "\n",
    "atoms = ase.io.read(\"input/SiO2_mp-6945_computed.cif\")\n",
    "atoms *= (4, 3, 3)\n",
    "\n",
    "v = view(atoms, viewer='ngl')\n",
    "v.view.add_ball_and_stick()\n",
    "display(v)"
   ]
  },
  {
   "cell_type": "markdown",
   "id": "3a017548",
   "metadata": {},
   "source": [
    "## Isotropic Control in NPT Ensemble\n",
    "### Approach 1: Mask Specification (Fixed Cell Angles)\n",
    "\n",
    "By specifying (3, 3) in the mask parameter of the NPT class, one can dictate the direction of change for the Cell.<br/>\n",
    "Specifying `np.eye(3)` enables molecular dynamics simulations with fixed angles.\n",
    " - https://wiki.fysik.dtu.dk/ase/ase/md.html#module-ase.md.npt"
   ]
  },
  {
   "cell_type": "code",
   "execution_count": 5,
   "id": "01b696ce",
   "metadata": {},
   "outputs": [
    {
     "name": "stdout",
     "output_type": "stream",
     "text": [
      "Dyn  step:  10, energy: -2720.284, elapsed_time: 3.49 sec\n",
      "Dyn  step:  20, energy: -2710.637, elapsed_time: 6.69 sec\n",
      "Dyn  step:  30, energy: -2694.522, elapsed_time: 9.88 sec\n",
      "Dyn  step:  40, energy: -2691.940, elapsed_time: 13.04 sec\n",
      "Dyn  step:  50, energy: -2703.926, elapsed_time: 16.20 sec\n",
      "Dyn  step:  60, energy: -2708.250, elapsed_time: 19.36 sec\n",
      "Dyn  step:  70, energy: -2707.254, elapsed_time: 22.53 sec\n",
      "Dyn  step:  80, energy: -2704.370, elapsed_time: 25.72 sec\n",
      "Dyn  step:  90, energy: -2703.853, elapsed_time: 28.93 sec\n",
      "Dyn  step: 100, energy: -2705.025, elapsed_time: 32.13 sec\n"
     ]
    }
   ],
   "source": [
    "from ase.md.velocitydistribution import MaxwellBoltzmannDistribution, Stationary\n",
    "from ase.md.verlet import VelocityVerlet\n",
    "from ase.md.npt import NPT\n",
    "from ase.md.nptberendsen import NPTBerendsen\n",
    "from ase.io import Trajectory\n",
    "from ase import units\n",
    "\n",
    "from pfp_api_client.pfp.estimator import Estimator\n",
    "from pfp_api_client.pfp.calculators.ase_calculator import ASECalculator\n",
    "\n",
    "from time import perf_counter\n",
    "import numpy as np\n",
    "\n",
    "atoms = ase.io.read(\"input/SiO2_mp-6945_computed.cif\")\n",
    "atoms *= (4, 3, 3)\n",
    "atoms.calc = calculator\n",
    "\n",
    "\n",
    "# In ase version>=3.21.0, specifying temperature_K is recommended.\n",
    "MaxwellBoltzmannDistribution(\n",
    "    atoms,\n",
    "    temperature_K=300.0\n",
    ")\n",
    "Stationary(atoms)\n",
    "dyn = NPT(atoms,\n",
    "          1.0 * units.fs,\n",
    "          temperature_K=300,\n",
    "          externalstress=101325 * units.Pascal,\n",
    "          mask=np.eye(3),  # Specify np.eye(3) here\n",
    "          ttime=10 * units.fs,\n",
    "          pfactor=100 * units.fs,\n",
    "          logfile=\"output/sio2.log\",\n",
    "          trajectory=\"output/sio2.traj\")\n",
    "\n",
    "\n",
    "start_time = perf_counter()\n",
    "\n",
    "def print_dyn():\n",
    "    print(f\"Dyn  step: {dyn.get_number_of_steps(): >3}, energy: {atoms.get_total_energy():.3f}, elapsed_time: {perf_counter() - start_time:.2f} sec\")\n",
    "\n",
    "dyn.attach(print_dyn, interval=10)\n",
    "dyn.run(100)"
   ]
  },
  {
   "cell_type": "markdown",
   "id": "5b2c3efe",
   "metadata": {},
   "source": [
    "**Examining Cell Size**\n",
    "\n",
    "While the lengths of the a, b, and c axes undergo changes, the angles remain unaltered."
   ]
  },
  {
   "cell_type": "code",
   "execution_count": 6,
   "id": "fb3e63cb",
   "metadata": {},
   "outputs": [
    {
     "data": {
      "text/plain": [
       "[array([20.338804, 15.254103, 21.295737, 90.      , 90.      , 90.      ]),\n",
       " array([20.34709056, 15.25997189, 21.30078079, 90.        , 90.        ,\n",
       "        90.        ]),\n",
       " array([20.36662827, 15.27483021, 21.31356124, 90.        , 90.        ,\n",
       "        90.        ]),\n",
       " array([20.38826633, 15.29445575, 21.33151445, 90.        , 90.        ,\n",
       "        90.        ]),\n",
       " array([20.4053848 , 15.31091376, 21.34388992, 90.        , 90.        ,\n",
       "        90.        ]),\n",
       " array([20.40853203, 15.31629593, 21.33536484, 90.        , 90.        ,\n",
       "        90.        ]),\n",
       " array([20.38617267, 15.30688091, 21.3034135 , 90.        , 90.        ,\n",
       "        90.        ]),\n",
       " array([20.34711366, 15.28739519, 21.25958074, 90.        , 90.        ,\n",
       "        90.        ]),\n",
       " array([20.31370621, 15.27012572, 21.22078718, 90.        , 90.        ,\n",
       "        90.        ]),\n",
       " array([20.29884377, 15.26646011, 21.20456456, 90.        , 90.        ,\n",
       "        90.        ])]"
      ]
     },
     "execution_count": 6,
     "metadata": {},
     "output_type": "execute_result"
    }
   ],
   "source": [
    "traj = Trajectory(\"output/sio2.traj\")\n",
    "cell_size_history = [atoms.cell.cellpar() for atoms in traj]\n",
    "\n",
    "# To reduce the amount of print output, check every 10 steps\n",
    "cell_size_history[::10]"
   ]
  },
  {
   "cell_type": "code",
   "execution_count": 7,
   "id": "c40da6e8",
   "metadata": {},
   "outputs": [
    {
     "data": {
      "application/vnd.jupyter.widget-view+json": {
       "model_id": "51bdf246c3aa4436a469998c9c717225",
       "version_major": 2,
       "version_minor": 0
      },
      "text/plain": [
       "HBox(children=(NGLWidget(max_frame=99), VBox(children=(Dropdown(description='Show', options=('All', 'Si', 'O')…"
      ]
     },
     "metadata": {},
     "output_type": "display_data"
    }
   ],
   "source": [
    "v = view(traj, viewer='ngl')\n",
    "v.view.add_ball_and_stick()\n",
    "display(v)"
   ]
  },
  {
   "cell_type": "markdown",
   "id": "b1de2b65",
   "metadata": {},
   "source": [
    "### Approach 2: Leveraging Filters (Preserving Cell Length Ratios)\n",
    "\n",
    "By post-processing the Stress tensor to maintain uniform magnitudes, the ratios of the cell lengths can be preserved. The methodology is outlined below."
   ]
  },
  {
   "cell_type": "code",
   "execution_count": 8,
   "id": "cd44ab64",
   "metadata": {},
   "outputs": [],
   "source": [
    "import numpy as np\n",
    "from ase.constraints import Filter\n",
    "\n",
    "\n",
    "\n",
    "class IsotropicFilter(Filter):\n",
    "    def __init__(self, atoms, indices=None, mask=None):\n",
    "        if indices is None and mask is None:\n",
    "            # Apply filter for all atoms\n",
    "            indices = np.arange(atoms.get_global_number_of_atoms())\n",
    "        super(IsotropicFilter, self).__init__(atoms, indices, mask)\n",
    "\n",
    "    def get_stress(self, **kwargs):\n",
    "        cell = self.atoms.get_cell()\n",
    "        stresses = self.atoms.get_stress(**kwargs)\n",
    "        if stresses.shape != (6,):\n",
    "            raise ValueError(f\"Error: stresses.shape {stresses.shape}\")\n",
    "        stresses[3:] = 0.0\n",
    "        pressure = np.mean(stresses[:3])\n",
    "        stresses[:3] = pressure\n",
    "        return stresses\n",
    "\n",
    "    def get_temperature(self):\n",
    "        return self.atoms.get_temperature()\n",
    "\n",
    "    def get_total_energy(self):\n",
    "        return self.atoms.get_total_energy()\n",
    "\n",
    "    def get_kinetic_energy(self):\n",
    "        return self.atoms.get_kinetic_energy()\n",
    "\n",
    "    def get_global_number_of_atoms(self):\n",
    "        return self.atoms.get_global_number_of_atoms()\n",
    "\n",
    "    def set_cell(self, cell, scale_atoms=False, apply_constraint=True):\n",
    "        return self.atoms.set_cell(\n",
    "            cell, scale_atoms=scale_atoms, apply_constraint=apply_constraint\n",
    "        )"
   ]
  },
  {
   "cell_type": "code",
   "execution_count": 9,
   "id": "72467aaa",
   "metadata": {},
   "outputs": [
    {
     "name": "stdout",
     "output_type": "stream",
     "text": [
      "Dyn  step:  10, energy: -1298.112, elapsed_time: 2.18 sec\n",
      "Dyn  step:  20, energy: -1294.476, elapsed_time: 4.16 sec\n",
      "Dyn  step:  30, energy: -1279.642, elapsed_time: 6.09 sec\n",
      "Dyn  step:  40, energy: -1281.333, elapsed_time: 7.98 sec\n",
      "Dyn  step:  50, energy: -1286.203, elapsed_time: 9.81 sec\n",
      "Dyn  step:  60, energy: -1282.718, elapsed_time: 11.63 sec\n",
      "Dyn  step:  70, energy: -1273.227, elapsed_time: 13.45 sec\n",
      "Dyn  step:  80, energy: -1280.578, elapsed_time: 15.30 sec\n",
      "Dyn  step:  90, energy: -1282.381, elapsed_time: 17.12 sec\n",
      "Dyn  step: 100, energy: -1284.916, elapsed_time: 18.98 sec\n"
     ]
    }
   ],
   "source": [
    "from ase.md.velocitydistribution import MaxwellBoltzmannDistribution, Stationary\n",
    "from ase.md.verlet import VelocityVerlet\n",
    "from ase.md.npt import NPT\n",
    "from ase.md.nptberendsen import NPTBerendsen\n",
    "from ase.io import Trajectory\n",
    "from ase.build import bulk\n",
    "from ase import units\n",
    "\n",
    "from pfp_api_client.pfp.estimator import Estimator\n",
    "from pfp_api_client.pfp.calculators.ase_calculator import ASECalculator\n",
    "\n",
    "from time import perf_counter\n",
    "import numpy as np\n",
    "\n",
    "atoms = bulk(\"Si\", cubic = True)\n",
    "atoms *= (4, 3, 3)\n",
    "atoms.calc = calculator\n",
    "\n",
    "# Apply the Filter to atoms\n",
    "iso_atoms = IsotropicFilter(atoms)\n",
    "MaxwellBoltzmannDistribution(iso_atoms, temperature_K=300.0)\n",
    "Stationary(iso_atoms)\n",
    "dyn = NPT(iso_atoms,\n",
    "          1.0 * units.fs,\n",
    "          temperature_K=300,\n",
    "          externalstress=101325 * units.Pascal,\n",
    "          mask=np.eye(3),\n",
    "          ttime=10 * units.fs,\n",
    "          pfactor=100 * units.fs,\n",
    "          logfile=\"output/si_iso.log\",\n",
    "          trajectory=\"output/si_iso.traj\")\n",
    "\n",
    "\n",
    "start_time = perf_counter()\n",
    "def print_dyn():\n",
    "    print(f\"Dyn  step: {dyn.get_number_of_steps(): >3}, energy: {atoms.get_total_energy():.3f}, elapsed_time: {perf_counter() - start_time:.2f} sec\")\n",
    "dyn.attach(print_dyn, interval=10)\n",
    "dyn.run(100)"
   ]
  },
  {
   "cell_type": "markdown",
   "id": "81772c92",
   "metadata": {},
   "source": [
    "Verify the ratio of Cell lengths `a:b:c`. It becomes evident that the ratio remains constant throughout the simulation."
   ]
  },
  {
   "cell_type": "code",
   "execution_count": 10,
   "id": "131229d7",
   "metadata": {},
   "outputs": [
    {
     "name": "stdout",
     "output_type": "stream",
     "text": [
      "a:b:c = \n",
      " [[1.   0.75 0.75]\n",
      " [1.   0.75 0.75]\n",
      " [1.   0.75 0.75]\n",
      " [1.   0.75 0.75]\n",
      " [1.   0.75 0.75]\n",
      " [1.   0.75 0.75]\n",
      " [1.   0.75 0.75]\n",
      " [1.   0.75 0.75]\n",
      " [1.   0.75 0.75]\n",
      " [1.   0.75 0.75]]\n"
     ]
    },
    {
     "name": "stderr",
     "output_type": "stream",
     "text": [
      "/home/jovyan/.local/lib/python3.7/site-packages/ase/utils/__init__.py:62: FutureWarning: Please use atoms.cell.cellpar() instead\n",
      "  warnings.warn(warning)\n"
     ]
    }
   ],
   "source": [
    "traj = Trajectory(\"output/si_iso.traj\")\n",
    "cell_size_history = [atoms.cell.cellpar() for atoms in traj]\n",
    "\n",
    "cell_length_history = np.array([atoms.get_cell_lengths_and_angles()[:3] for atoms in traj])\n",
    "\n",
    "# To reduce the amount of print output, check every 10 steps\n",
    "cell_length_ratio_history = cell_length_history / cell_length_history[:, 0:1]\n",
    "print(\"a:b:c = \\n\", cell_length_ratio_history[::10])"
   ]
  },
  {
   "cell_type": "markdown",
   "id": "346863d1",
   "metadata": {},
   "source": [
    "However, the actual Cell lengths exhibit variations."
   ]
  },
  {
   "cell_type": "code",
   "execution_count": 11,
   "id": "34dff182",
   "metadata": {},
   "outputs": [
    {
     "name": "stdout",
     "output_type": "stream",
     "text": [
      "a,b,c = \n",
      " [[21.72       16.29       16.29      ]\n",
      " [21.7356418  16.30173135 16.30173135]\n",
      " [21.77517368 16.33138026 16.33138026]\n",
      " [21.83240146 16.37430109 16.37430109]\n",
      " [21.89665807 16.42249356 16.42249356]\n",
      " [21.95295893 16.4647192  16.4647192 ]\n",
      " [21.98924709 16.49193532 16.49193532]\n",
      " [21.99966685 16.49975014 16.49975014]\n",
      " [21.98592141 16.48944105 16.48944105]\n",
      " [21.95324602 16.46493451 16.46493451]]\n"
     ]
    }
   ],
   "source": [
    "print(\"a,b,c = \\n\", cell_length_history[::10])"
   ]
  },
  {
   "cell_type": "markdown",
   "id": "8e5c49a5",
   "metadata": {},
   "source": [
    "## Extracting Density and Volume through Post-processing\n",
    "\n",
    "The Trajectory instance provides access to the Atoms information at each Frame.<br/>\n",
    "Ase atoms offers the `get_volume` and `get_global_number_of_atoms` functions, which can be readily utilized."
   ]
  },
  {
   "cell_type": "code",
   "execution_count": 12,
   "id": "a315c540",
   "metadata": {},
   "outputs": [],
   "source": [
    "# cell_list = [atoms.cell for atoms in traj]\n",
    "\n",
    "volume_list = [atoms.get_volume() for atoms in traj]\n",
    "density_list = [atoms.get_global_number_of_atoms() / atoms.get_volume() for atoms in traj]"
   ]
  },
  {
   "cell_type": "code",
   "execution_count": 13,
   "id": "a94aa5cf",
   "metadata": {},
   "outputs": [
    {
     "name": "stdout",
     "output_type": "stream",
     "text": [
      "[5763.708251999998, 5764.131707178368, 5764.553834457096, 5765.395785246378, 5766.235719316216, 5767.48975024803, 5768.742057145161, 5770.400739141297, 5772.058871091771, 5774.113555362282, 5776.169542055843, 5778.609989119666, 5781.053978471361, 5783.867838795086, 5786.687509375583, 5789.859725415075, 5793.039666921781, 5796.551906389886, 5800.0731450987, 5803.903457723219, 5807.743265920976, 5811.866075304465, 5815.998187935012, 5820.384763044434, 5824.780054012687, 5829.399356050736, 5834.026786906732, 5838.846429752368, 5843.673863376523, 5848.660450369243, 5853.654057532671, 5858.771470356455, 5863.893017166693, 5869.099187710506, 5874.30307612228, 5879.548151579635, 5884.781362135775, 5890.009561282161, 5895.215120088264, 5900.369365913755, 5905.49133912333, 5910.517666844609, 5915.504455254107, 5920.354094271415, 5925.159373090376, 5929.788761936238, 5934.370890390756, 5938.740762714563, 5943.061813055538, 5947.136302720512, 5951.161299392146, 5954.907390782732, 5958.60401212543, 5961.991460893361, 5965.3301964442935, 5968.33191155933, 5971.28665623559, 5973.879492119523, 5976.428553055096, 5978.594478313054, 5980.721850087601, 5982.449259471617, 5984.145847803037, 5985.43056227638, 5986.694841459074, 5987.540204958565, 5988.377580194568, 5988.793009284016, 5989.213615428513, 5989.21185008912, 5989.22790757915, 5988.822903005305, 5988.44732378247, 5987.65380274905, 5986.900584732638, 5985.734892207617, 5984.620098306944, 5983.100878268245, 5981.64275942176, 5979.790520462952, 5978.008665616815, 5975.844704818999, 5973.758972443026, 5971.304402240134, 5968.934168668893, 5966.2094088043505, 5963.573317154438, 5960.598091307133, 5957.714288408501, 5954.508058362449, 5951.3947803054625, 5947.977367668708, 5944.653567226575, 5941.04566665038, 5937.5313149813255, 5933.754546868684, 5930.070469849946, 5926.146955468612, 5922.314177233043, 5918.265860239761]\n",
      "[0.04996783102268656, 0.04996416019455955, 0.04996050141443839, 0.049953205422078865, 0.0499459290287481, 0.04993506923659719, 0.04992422908618064, 0.0499098785369381, 0.04989554099012949, 0.04987778595600034, 0.04986003231087563, 0.049838975210693345, 0.04981790536336656, 0.04979366887815976, 0.049769405991490434, 0.049742137747448324, 0.04971483306846286, 0.049684709919102135, 0.049654546209192525, 0.0496217764643828, 0.04958896886677888, 0.04955379154790875, 0.049518584891831835, 0.049481264851871674, 0.049443927037484785, 0.04940474694036272, 0.04936556010444733, 0.0493248115813545, 0.04928406456851636, 0.04924204481417924, 0.04920003764646671, 0.04915706329512759, 0.04911412932617849, 0.0490705627540002, 0.04902709245129949, 0.04898335596122709, 0.04893979610747604, 0.048896355261146135, 0.04885317908393613, 0.04881050357012678, 0.04876816905852131, 0.04872669641367501, 0.048685619659064, 0.04864573899028628, 0.048606287504767705, 0.04856834055349387, 0.04853083929525616, 0.04849512910348976, 0.04845986951832309, 0.04842666879322317, 0.048393915995759755, 0.048363472527848055, 0.048333468613443, 0.04830600679136922, 0.04827897040329232, 0.04825468895960831, 0.04823081131086755, 0.04820987774860822, 0.048189315314875976, 0.048171857289317825, 0.04815472232599843, 0.04814081783377078, 0.04812716924433478, 0.04811683921540103, 0.04810667782923253, 0.04809988578640251, 0.0480931598155243, 0.04808982370129228, 0.04808644648407558, 0.048086460657709836, 0.048086331734938065, 0.048089583656827806, 0.0480925997054761, 0.0480989732351883, 0.04810502461564784, 0.04811439283335548, 0.048123355412564205, 0.04813557482309391, 0.048147308621259204, 0.04816222224080572, 0.048176577872237655, 0.04819402347717521, 0.04821085037554162, 0.04823066797464836, 0.048249820128980526, 0.04827185575735871, 0.04829319347371104, 0.04831729896703082, 0.048340686722816, 0.04836671597001801, 0.048392017439854336, 0.04841982109170007, 0.048446893791720784, 0.04847631480375024, 0.0485050073375328, 0.04853588022982534, 0.04856603331516354, 0.04859818734907263, 0.0486296389183723, 0.04866290342494558]\n"
     ]
    }
   ],
   "source": [
    "print(volume_list)\n",
    "print(density_list)"
   ]
  },
  {
   "cell_type": "markdown",
   "id": "8bc9bc76",
   "metadata": {},
   "source": [
    "Visualize and scrutinize the evolution of the system"
   ]
  },
  {
   "cell_type": "code",
   "execution_count": 14,
   "id": "7b42dc98",
   "metadata": {},
   "outputs": [],
   "source": [
    "energy_list = [atoms.get_potential_energy() for atoms in traj]\n",
    "temperature_list = [atoms.get_temperature() for atoms in traj]"
   ]
  },
  {
   "cell_type": "code",
   "execution_count": 15,
   "id": "a4cc93d7",
   "metadata": {},
   "outputs": [
    {
     "data": {
      "image/png": "[encoded data removed]",
      "text/plain": [
       "<Figure size 720x720 with 4 Axes>"
      ]
     },
     "metadata": {
      "needs_background": "light"
     },
     "output_type": "display_data"
    }
   ],
   "source": [
    "import matplotlib.pyplot as plt\n",
    "\n",
    "fig, axes = plt.subplots(4, 1, sharex=True, figsize=(10, 10))\n",
    "\n",
    "axes[0].plot(volume_list)\n",
    "axes[0].set_title(\"Volume history\")\n",
    "\n",
    "axes[1].plot(density_list)\n",
    "axes[1].set_title(\"Density history\")\n",
    "\n",
    "axes[2].plot(energy_list)\n",
    "axes[2].set_title(\"Energy history\")\n",
    "\n",
    "axes[3].plot(temperature_list)\n",
    "axes[3].set_title(\"Temperature history\")\n",
    "axes[3].set_xlabel(\"step\")\n",
    "\n",
    "fig.savefig(\"output/md_stats_history.png\")"
   ]
  },
  {
   "cell_type": "markdown",
   "id": "2a77d7e3-5cbf-4d2b-94e0-19fda2a0658d",
   "metadata": {},
   "source": [
    "* With approximately 100 steps, the temperature may not stabilize."
   ]
  },
  {
   "cell_type": "markdown",
   "id": "25427cde-5592-47bd-811a-508196015d50",
   "metadata": {},
   "source": [
    "## NPT Molecular Dynamics in Triclinic Systems\n",
    "\n",
    "The NPT module in ase necessitates that the cell of `atoms` is represented as an upper triangular matrix, akin to the following:\n",
    "\n",
    "```\n",
    "[[X X X]\n",
    " [0 X X]\n",
    " [0 0 X]]\n",
    "```\n",
    "\n",
    "The `convert_atoms_to_upper` function rotates the `atoms` to transform the Cell into an upper triangular matrix.\n"
   ]
  },
  {
   "cell_type": "code",
   "execution_count": 16,
   "id": "d1ee80e9-0b57-493c-a1c7-43208bdad069",
   "metadata": {},
   "outputs": [],
   "source": [
    "from ase import Atoms\n",
    "import numpy as np\n",
    "\n",
    "\n",
    "def convert_atoms_to_upper(atoms: Atoms) -> Atoms:\n",
    "    atoms2 = atoms.copy()\n",
    "    \n",
    "    # cell \"c\" -> z-axis\n",
    "    atoms2.rotate(atoms2.cell[2], (0, 0, 1), rotate_cell=True)\n",
    "\n",
    "    # cell \"b\" -> yz-plane\n",
    "    bx, by, bz = atoms2.cell[1, :]\n",
    "    angle = 90.0 - np.rad2deg(np.arctan2(by, bx))\n",
    "    atoms2.rotate(angle, 'z', rotate_cell=True)\n",
    "    # [Note] cell \"a\" can be arbitrary.\n",
    "\n",
    "    # supress numerical precision, lower triangular values must be 0.0.\n",
    "    atoms2.cell = np.where(np.abs(atoms2.cell) < 1e-10, 0.0, atoms2.cell)\n",
    "\n",
    "    # Check that cell is uppper triangular form.\n",
    "    m = atoms2.cell\n",
    "    assert m[1, 0] == m[2, 0] == m[2, 1] == 0.0, f\"cell {m} is not upper triangular!\"\n",
    "    return atoms2"
   ]
  },
  {
   "cell_type": "code",
   "execution_count": 17,
   "id": "6e668991-012b-4bc0-aee7-89ae8679856c",
   "metadata": {},
   "outputs": [
    {
     "data": {
      "text/plain": [
       "Cell([[5.13584237, 0.0, 0.0], [0.15785281555277758, 5.133415952181283, 0.0], [-2.646847592991795, -2.566707976299526, 3.575344016085885]])"
      ]
     },
     "execution_count": 17,
     "metadata": {},
     "output_type": "execute_result"
    }
   ],
   "source": [
    "atoms = ase.io.read(\"input/SiO2_mp-546794_computed.cif\")\n",
    "atoms.cell  # NOT upper tiangular"
   ]
  },
  {
   "cell_type": "code",
   "execution_count": 18,
   "id": "f17f0bce-4273-4db7-a773-980a13e2748d",
   "metadata": {},
   "outputs": [
    {
     "data": {
      "text/plain": [
       "Cell([[4.170109258320234, -1.407573601142272, -2.646847592991795], [0.0, 4.401258305185092, -2.646847592991795], [0.0, 0.0, 5.135842369999999]])"
      ]
     },
     "execution_count": 18,
     "metadata": {},
     "output_type": "execute_result"
    }
   ],
   "source": [
    "atoms = convert_atoms_to_upper(atoms)\n",
    "atoms.cell  # This is upper tiangular"
   ]
  },
  {
   "cell_type": "code",
   "execution_count": 19,
   "id": "1ac7458d-3982-4483-be4a-e7dc6ca43650",
   "metadata": {},
   "outputs": [
    {
     "name": "stdout",
     "output_type": "stream",
     "text": [
      "Dyn  step:  10, energy: -453.486, elapsed_time: 1.29 sec\n",
      "Dyn  step:  20, energy: -451.625, elapsed_time: 2.46 sec\n",
      "Dyn  step:  30, energy: -448.398, elapsed_time: 3.67 sec\n",
      "Dyn  step:  40, energy: -448.321, elapsed_time: 4.85 sec\n",
      "Dyn  step:  50, energy: -451.135, elapsed_time: 6.00 sec\n",
      "Dyn  step:  60, energy: -452.141, elapsed_time: 7.19 sec\n",
      "Dyn  step:  70, energy: -451.945, elapsed_time: 8.34 sec\n",
      "Dyn  step:  80, energy: -450.731, elapsed_time: 9.50 sec\n",
      "Dyn  step:  90, energy: -450.171, elapsed_time: 10.66 sec\n",
      "Dyn  step: 100, energy: -450.561, elapsed_time: 11.84 sec\n"
     ]
    }
   ],
   "source": [
    "atoms = ase.io.read(\"input/SiO2_mp-546794_computed.cif\") * (2, 2, 3)\n",
    "# If you comment out the line below, the NPT Module will generate an error.\n",
    "# NotImplementedError: Can (so far) only operate on lists of atoms where the computational box is an upper triangular matrix.\n",
    "atoms = convert_atoms_to_upper(atoms)\n",
    "atoms.calc = calculator\n",
    "MaxwellBoltzmannDistribution(atoms, temperature_K=300.0)\n",
    "Stationary(atoms)\n",
    "dyn = NPT(atoms,\n",
    "          1.0 * units.fs,\n",
    "          temperature_K=300,\n",
    "          externalstress=101325 * units.Pascal,\n",
    "          mask=np.eye(3),\n",
    "          ttime=10 * units.fs,\n",
    "          pfactor=100 * units.fs,\n",
    "          logfile=\"output/si_tri.log\",\n",
    "          trajectory=\"output/si_tri.traj\")\n",
    "\n",
    "\n",
    "start_time = perf_counter()\n",
    "def print_dyn():\n",
    "    print(f\"Dyn  step: {dyn.get_number_of_steps(): >3}, energy: {atoms.get_total_energy():.3f}, elapsed_time: {perf_counter() - start_time:.2f} sec\")\n",
    "dyn.attach(print_dyn, interval=10)\n",
    "dyn.run(100)"
   ]
  },
  {
   "cell_type": "markdown",
   "id": "0e154a9a-fc5b-45b1-8530-e64235d7d513",
   "metadata": {},
   "source": [
    "Remarkably, molecular dynamics simulations can be successfully executed even in triclinic systems."
   ]
  },
  {
   "cell_type": "markdown",
   "id": "e5c44bde",
   "metadata": {},
   "source": [
    "## Visualization Techniques"
   ]
  },
  {
   "cell_type": "markdown",
   "id": "33b11016-7af9-4abd-aef3-50769642c25f",
   "metadata": {},
   "source": [
    "### nglview\n",
    "\n",
    "Employing nglviewer enables the interactive visualization of Trajectories.\\\n",
    "*: It is worth noting that nglviewer preserves the bond and Cell state of the initial frame and does not render the addition or deletion of atoms."
   ]
  },
  {
   "cell_type": "code",
   "execution_count": 20,
   "id": "73ca6bd8-cb6d-4ec7-8045-32880e011bb9",
   "metadata": {},
   "outputs": [
    {
     "data": {
      "application/vnd.jupyter.widget-view+json": {
       "model_id": "97e27295d20c4893af2eae7b51e08418",
       "version_major": 2,
       "version_minor": 0
      },
      "text/plain": [
       "HBox(children=(NGLWidget(max_frame=9), VBox(children=(Dropdown(description='Show', options=('All', 'Si'), valu…"
      ]
     },
     "metadata": {},
     "output_type": "display_data"
    }
   ],
   "source": [
    "traj = Trajectory(\"output/si_iso.traj\")\n",
    "v = view(traj[::10], viewer='ngl')\n",
    "v.view.add_ball_and_stick()\n",
    "display(v)"
   ]
  },
  {
   "cell_type": "markdown",
   "id": "43ccd13e-501c-42f1-83d0-ded6efd839bb",
   "metadata": {},
   "source": [
    "### Exporting as a GIF File\n",
    "\n",
    "Apart from nglview, it is also feasible to generate a GIF using the default functionality provided by ase.<br/>\n",
    "To mitigate the computational burden of visualization, rendering is performed every 10 steps."
   ]
  },
  {
   "cell_type": "code",
   "execution_count": 21,
   "id": "c36cd597-3cb5-4fe5-9e9b-dd35597614f0",
   "metadata": {},
   "outputs": [
    {
     "name": "stderr",
     "output_type": "stream",
     "text": [
      "MovieWriter ffmpeg unavailable; using Pillow instead.\n"
     ]
    },
    {
     "name": "stdout",
     "output_type": "stream",
     "text": [
      "CPU times: user 7.77 s, sys: 276 ms, total: 8.05 s\n",
      "Wall time: 8.03 s\n"
     ]
    },
    {
     "data": {
      "image/png": "[encoded data removed]",
      "text/plain": [
       "<Figure size 432x288 with 1 Axes>"
      ]
     },
     "metadata": {
      "needs_background": "light"
     },
     "output_type": "display_data"
    }
   ],
   "source": [
    "%%time\n",
    "traj = Trajectory(\"output/si_iso.traj\")\n",
    "traj_small = [atoms for atoms in traj[::10]]\n",
    "ase.io.write(\"output/si_iso.gif\", traj_small, rotation=\"-90x,0y,0z\")"
   ]
  },
  {
   "cell_type": "code",
   "execution_count": 22,
   "id": "54758a91-fa6e-47f8-8b2c-f8c3f08a90aa",
   "metadata": {},
   "outputs": [
    {
     "data": {
      "text/html": [
       "<img src=\"output/si_iso.gif\"/>"
      ],
      "text/plain": [
       "<IPython.core.display.Image object>"
      ]
     },
     "execution_count": 22,
     "metadata": {},
     "output_type": "execute_result"
    }
   ],
   "source": [
    "from IPython.display import Image\n",
    "Image(url='output/si_iso.gif')  "
   ]
  },
  {
   "cell_type": "markdown",
   "id": "d8c86dd1-02f4-4e3b-a8f9-1cf9f2d7009d",
   "metadata": {},
   "source": [
    "### Harnessing Alternative Visualization Tools\n",
    "\n",
    "Save the traj file in a different format.<br/>\n",
    "In this instance, conversion to xyz and pdb files is carried out. By downloading the saved files, they can be visualized using separate software packages such as [VMD](https://www.ks.uiuc.edu/Development/Download/download.cgi?PackageName=VMD) and [OVITO](https://www.ovito.org/)."
   ]
  },
  {
   "cell_type": "code",
   "execution_count": 23,
   "id": "65d3d2df",
   "metadata": {},
   "outputs": [],
   "source": [
    "from ase.io import write\n",
    "\n",
    "traj = Trajectory(\"output/sio2.traj\")\n",
    "write(\"output/sio2.xyz\", traj)\n",
    "write(\"output/sio2.pdb\", traj)"
   ]
  }
 ],
 "metadata": {
  "kernelspec": {
   "display_name": "Python 3.7",
   "language": "python",
   "name": "python37"
  },
  "language_info": {
   "codemirror_mode": {
    "name": "ipython",
    "version": 3
   },
   "file_extension": ".py",
   "mimetype": "text/x-python",
   "name": "python",
   "nbconvert_exporter": "python",
   "pygments_lexer": "ipython3",
   "version": "3.7.10"
  },
  "toc-autonumbering": false,
  "toc-showcode": false,
  "toc-showmarkdowntxt": false,
  "toc-showtags": false,
  "widgets": {
   "application/vnd.jupyter.widget-state+json": {
    "state": {},
    "version_major": 2,
    "version_minor": 0
   }
  }
 },
 "nbformat": 4,
 "nbformat_minor": 5
}
