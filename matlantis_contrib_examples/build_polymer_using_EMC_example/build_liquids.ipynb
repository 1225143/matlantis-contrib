{
 "cells": [
  {
   "cell_type": "markdown",
   "id": "268f19bb-2e2e-437c-8694-5aace242a359",
   "metadata": {},
   "source": [
    "# Build a liquid geometry using EMC.\n",
    "Copyright ENEOS Corporation as contributors to Matlantis contrib project\n",
    "\n",
    "Enhanced Monte Carlo\\\n",
    "https://montecarlo.sourceforge.net/emc/Welcome.html \\\n",
    "https://matsci.org/c/emc/50\n",
    "\n",
    "P.J. in 't Veld and G.C. Rutledge, Macromolecules 2003, 36, 7358"
   ]
  },
  {
   "cell_type": "markdown",
   "id": "2a22d18b-8ec3-402d-b89e-8bcd144ab789",
   "metadata": {},
   "source": [
    "In this example, an amorphous polymer geometry is built using an package Enhanced Monte Calro (EMC), which is distributed under GPL v3 Lincense. "
   ]
  },
  {
   "cell_type": "markdown",
   "id": "237fa95f-bfe3-4b44-8d55-09f4793472b9",
   "metadata": {},
   "source": [
    "## Import python packages"
   ]
  },
  {
   "cell_type": "code",
   "execution_count": 1,
   "id": "ef7d7836-d887-4c42-9471-b8b6bbbac049",
   "metadata": {
    "tags": []
   },
   "outputs": [],
   "source": [
    "import os\n",
    "import sys\n",
    "import numpy as np\n",
    "\n",
    "from ase import Atoms, units\n",
    "from ase.io import read, write, Trajectory\n",
    "from ase.data import atomic_masses\n",
    "from ase.optimize import LBFGS\n",
    "\n",
    "from rdkit import Chem\n",
    "from rdkit.Chem import AllChem, Draw"
   ]
  },
  {
   "cell_type": "code",
   "execution_count": 2,
   "id": "b5cac277",
   "metadata": {},
   "outputs": [
    {
     "data": {
      "application/vnd.jupyter.widget-view+json": {
       "model_id": "a66230f18c984658bf6f02a7c5af95ab",
       "version_major": 2,
       "version_minor": 0
      },
      "text/plain": []
     },
     "metadata": {},
     "output_type": "display_data"
    }
   ],
   "source": [
    "from pfcc_extras.visualize.view import view_ngl\n",
    "from pfcc_extras.structure.ase_rdkit_converter import smiles_to_atoms, atoms_to_smiles\n",
    "from pfcc_extras.structure.connectivity import get_connected_components\n",
    "from matlantis_features.utils.calculators import pfp_estimator_fn, get_calculator"
   ]
  },
  {
   "cell_type": "markdown",
   "id": "8701b790-f9a9-4db3-8497-12811bdab112",
   "metadata": {},
   "source": [
    "## Import a local package for executing EMC\n",
    "EMC is a huge package which can be used to setup various kind of molecular simulations. \n",
    "For simplicity, this example provides thee templates of the input file of EMC: amorphous homopolymer, liquids, and a mixture of homopolymer and liquids. These templates are available through an wrapper package EMC_interface."
   ]
  },
  {
   "cell_type": "code",
   "execution_count": 3,
   "id": "5f877ca4-e68c-4a4f-97c2-9f15a33d5001",
   "metadata": {},
   "outputs": [],
   "source": [
    "sys.path.insert(0, 'EMC_interface/src/emc_interface')\n",
    "from emc_interface import EMCInterface"
   ]
  },
  {
   "cell_type": "code",
   "execution_count": 4,
   "id": "119b1b4c",
   "metadata": {},
   "outputs": [],
   "source": [
    "def set_elements_lammpsdata(atoms):\n",
    "    mass_number = {int(np.round(m)):i for i, m in enumerate(atomic_masses)}\n",
    "    masses = atoms.get_masses()\n",
    "    numbers = [mass_number[int(np.round(m))] for m in masses] \n",
    "    atoms.numbers=numbers\n",
    "    return atoms"
   ]
  },
  {
   "cell_type": "markdown",
   "id": "56fea085-9a8f-422b-8f27-4f93a54f86c7",
   "metadata": {},
   "source": [
    "## System settings"
   ]
  },
  {
   "cell_type": "code",
   "execution_count": 5,
   "id": "d79178de-9501-4e7b-90f3-5c701985b9c1",
   "metadata": {
    "tags": []
   },
   "outputs": [],
   "source": [
    "outputdir = './output'\n",
    "os.makedirs(outputdir, exist_ok=True)"
   ]
  },
  {
   "cell_type": "markdown",
   "id": "8cfabe97-6c61-48d4-8c88-5eb8f1a34277",
   "metadata": {},
   "source": [
    "The liquid structure is defined by SMILES strings with molecular fractions. `name_smiles_fractions` is a dictionary which stores the names of the components and the tuples of (SMILES, fraction) pairs as the keys and values, respectively.\n",
    "\n",
    "In this example, the liquid structure is composed of H$_{2}$0, C$_{2}$H$_{5}$OH, and NaCl. The number of atoms in the system is more than 2,000 and the system density is set at 0.85 g/cm^3. The liquid structure is created by Monte Carlo method using the PCFF force field."
   ]
  },
  {
   "cell_type": "code",
   "execution_count": 6,
   "id": "7db3f556",
   "metadata": {},
   "outputs": [],
   "source": [
    "name_smiles_fractions = {\"water\":(\"O\", 85), \n",
    "\"alcohol\":(\"CCO\", 10),\n",
    "\"salt\":(\"[Na+].[Cl-]\", 5)}\n",
    "\n",
    "settings = dict(\n",
    "            name_smiles_fractions = name_smiles_fractions,\n",
    "            ntotal = 2000,   # Number of atoms in the cell.\n",
    "            density = 0.85,  # The mass density of the system [g/cm3]. Please use smaller value compared to the target density.\n",
    "            field='pcff',    # The force field used in the Monte Carlo method.\n",
    "            ring_depth = 9,  # Default to 'auto'. The max ring size in the molecules.\n",
    "            build_dir = './build',\n",
    "            lammps_prefix = 'liquid', # Prefix for the input files of LAMMPS.\n",
    "            project='liquid',         # Project name used in the input files of LAMMPS\n",
    "            seed=12345,               # Random seed for the Monte Carlo simulation.\n",
    ")"
   ]
  },
  {
   "cell_type": "markdown",
   "id": "e1338cae-920d-4fc1-9304-d2fce4fc9363",
   "metadata": {},
   "source": [
    "### Comfirm the structure of molecules defined by the SMILES strings."
   ]
  },
  {
   "cell_type": "code",
   "execution_count": 7,
   "id": "77d5ca3e-c4ef-4f1b-b1b3-8354eca32049",
   "metadata": {
    "tags": []
   },
   "outputs": [
    {
     "data": {
      "image/png": "[encoded data removed]",
      "text/plain": [
       "<IPython.core.display.Image object>"
      ]
     },
     "metadata": {},
     "output_type": "display_data"
    }
   ],
   "source": [
    "smileses = [s for n,(s,f) in name_smiles_fractions.items()]\n",
    "mols = [Chem.MolFromSmiles(smiles) for smiles in smileses]\n",
    "view = Draw.MolsToGridImage(mols)\n",
    "display(view)"
   ]
  },
  {
   "cell_type": "markdown",
   "id": "0f5df4b0-071c-4a4e-a544-0bd88698eef3",
   "metadata": {},
   "source": [
    "### Confirm the EMC settings and the liquid structure with a small number of atoms."
   ]
  },
  {
   "cell_type": "code",
   "execution_count": 8,
   "id": "5c88ed28",
   "metadata": {},
   "outputs": [
    {
     "name": "stdout",
     "output_type": "stream",
     "text": [
      "{'field': 'pcff', 'ntotal': 100, 'density': 0.85, 'ring_depth': 9, 'build_dir': './build', 'lammps_prefix': 'liquid', 'project': 'liquid', 'seed': 12345, 'emc_execute': 'false', 'groups': 'water           O\\nalcohol         CCO\\nsalt            [Na+].[Cl-]', 'clusters': 'salt            salt,5\\nalcohol         alcohol,10\\nwater           water,85'}\n",
      "EMC Setup v4.1.5 (March 21, 2023), (c) 2004-2023 Pieter J. in 't Veld\n",
      "\n",
      "Info: reading script from \"./setup.esh\"\n",
      "Info: phase1 = {salt, alcohol, water}\n",
      "Info: project = liquid\n",
      "Info: ntotal = 100\n",
      "Info: direction = x\n",
      "Info: shape = 1\n",
      "Info: force field type = \"cff\"\n",
      "Info: force field name = \"EMC_interface/EMC/v9.4.4/field/pcff/pcff\"\n",
      "Info: force field location = \".\"\n",
      "Info: build for LAMMPS script in \"./build\"\n",
      "Info: creating LAMMPS run script \"liquid.in\"\n",
      "Info: adding pressure sampling\n",
      "Info: creating EMC build script \"build.emc\"\n",
      "Info: assuming mol fractions\n",
      "\n",
      "\n",
      "\n",
      "(* EMC: Enhanced Monte Carlo simulations *)\n",
      "\n",
      "version 9.4.4, build Aug  2 2023 14:03:34, date Tue Aug 15 12:35:40 2023\n",
      "\n",
      "valid until Jul 31, 2024\n",
      "\n",
      "Info: script v1.0 started at Tue Aug 15 12:35:40 2023\n",
      "Info: variables = {seed -> -1, ntotal -> 100, fshape -> 1, output -> \"liquid\",\n",
      "        field -> \"EMC_interface/EMC/v9.4.4/field/pcff/pcff\", location1 ->\n",
      "        \"./\", nav -> 0.6022141179, temperature -> 300, radius -> 5, nrelax ->\n",
      "        100, weight_nonbond -> 0.0001, weight_bond -> 0.0001, weight_focus ->\n",
      "        1, cutoff -> 9.5, charge_cutoff -> 9.5, kappa -> 4, density1 -> 0.85, \n",
      "        lprevious -> 0, lphase -> 0, f_salt -> 5, f_alcohol -> 10, f_water ->\n",
      "        85, chem_water -> \"O\", chem_alcohol -> \"CCO\", chem_salt ->\n",
      "        \"[Na+].[Cl-]\"}\n",
      "Info: output = \n",
      "      {detail -> 3, wide -> false, expand -> false, math -> true, reduced ->\n",
      "        false, info -> true, strict -> true, warning -> true, message -> true,\n",
      "        debug -> false, exit -> true, ignore -> false}\n",
      "Info: field = {id -> pcff, mode -> cff, style -> none, name ->\n",
      "        {\"./EMC_interface/EMC/v9.4.4/field/pcff/pcff.frc\", \n",
      "          \"./EMC_interface/EMC/v9.4.4/field/pcff/pcff_templates.dat\"}, \n",
      "        compress -> false, error -> true, debug -> false, check -> {atomistic\n",
      "          -> true, charge -> true}}\n",
      "Info: importing './EMC_interface/EMC/v9.4.4/field/pcff/pcff.frc'\n",
      "Warning: duplicate field.bond entry 40 [c:c] omitted.\n",
      "Warning: duplicate field.bond entry 51 [c:h] omitted.\n",
      "Warning: duplicate field.bond entry 62 [c:o_2] omitted.\n",
      "Warning: duplicate field.bond entry 176 [c=:c=1] omitted.\n",
      "Warning: duplicate field.bond entry 328 [c_1:o_1] omitted.\n",
      "Warning: duplicate field.bond entry 364 [cp:cp] omitted.\n",
      "Warning: duplicate field.bond entry 365 [cp:cp] omitted.\n",
      "Warning: duplicate field.bond entry 367 [cp:h] omitted.\n",
      "Warning: duplicate field.bond entry 689 [o:p] omitted.\n",
      "Info: groups = {ngroups -> 3, group -> {\n",
      "          {id -> water, chemistry -> \"O\", depth -> 6, charges -> forcefield, \n",
      "            charge -> 0, terminator -> false}, \n",
      "          {id -> alcohol, chemistry -> \"CCO\", depth -> 6, charges ->\n",
      "            forcefield, charge -> 0, terminator -> false}, \n",
      "          {id -> salt, chemistry -> \"[Na+].[Cl-]\", depth -> 6, charges ->\n",
      "            forcefield, charge -> 0, terminator -> false}}, ndeletes -> 0, \n",
      "        npolymers -> 0}\n",
      "Info: field = {mode -> apply, style -> none, error -> false, debug -> false, \n",
      "        check -> {atomistic -> true, charge -> true}}\n",
      "Info: applying './EMC_interface/EMC/v9.4.4/field/pcff/pcff.frc'\n",
      "Info: variables = {lg_water -> 3, lg_alcohol -> 9, lg_salt -> 2, l_salt -> 2, \n",
      "        norm_salt -> 1, l_alcohol -> 9, norm_alcohol -> 1, l_water -> 3, \n",
      "        norm_water -> 1, mg_water -> 18.01534, mg_alcohol -> 46.06952, mg_salt\n",
      "        -> 58.443, m_salt -> 58.443, m_alcohol -> 46.06952, m_water ->\n",
      "        18.01534, f_salt -> 0.0281690140845, f_alcohol -> 0.253521126761, \n",
      "        f_water -> 0.718309859155, norm -> 355, n_salt -> 1, n_alcohol -> 3, \n",
      "        n_water -> 24, ntotal -> 0, mtotal -> 0}\n",
      "Info: simulation = {units -> {permittivity -> 1, seed -> seed}, types -> {\n",
      "          coulomb -> {pair -> {active -> true, cutoff -> charge_cutoff}}}}\n",
      "Info: clusters = {progress -> none, nbodys -> 0, nclusters -> 3, \n",
      "        cluster -> {{id -> salt, system -> main, n -> 1, \n",
      "            group -> salt}, {id -> alcohol, system -> main, n -> 3, \n",
      "            group -> alcohol}, {id -> water, system -> main, n -> 24, group ->\n",
      "            water}}, ngrafts -> 0, npolymers -> 0}\n",
      "      delta = {systems -> 1, bodies -> 0, clusters -> 29, sites -> 101}\n",
      "Info: field = {mode -> apply, style -> none, error -> false, debug -> false, \n",
      "        check -> {atomistic -> true, charge -> true}}\n",
      "Info: applying './EMC_interface/EMC/v9.4.4/field/pcff/pcff.frc'\n",
      "Info: types = {cff -> {pair -> {active -> true, mode -> repulsive}}}\n",
      "Info: variables = {nphase1 -> 101, mphase1 -> 629.01972, vphase1 ->\n",
      "        1228.83734872, lbox -> 10.7110357178, lphase1 -> 10.7110357178, lxx ->\n",
      "        10.7110357178, lyy -> 10.7110357178, lzz -> 10.7110357178, lzy -> 0, \n",
      "        lzx -> 0, lyx -> 0, lphase -> 10.7110357178, ntotal -> 101, mtotal ->\n",
      "        629.01972, vtotal -> 1228.83734872}\n",
      "Info: build = {\n",
      "        system -> {id -> main, temperature -> 300, density -> 0.85, split ->\n",
      "          false, flag -> {charge -> true, map -> true, pbc -> true, geometry\n",
      "            -> true}, periodic -> {x -> true, y -> true, z -> true}, geometry\n",
      "          -> {xx -> 10.7110357178, yy -> 10.7110357178, zz -> 10.7110357178, \n",
      "            zy -> 0, zx -> 0, yx -> 0}, deform -> {xx -> 1, yy -> 1, zz -> 1, \n",
      "            zy -> 0, zx -> 0, yx -> 0}}, \n",
      "        select -> {progress -> list, frequency -> 1, message -> nkt, center ->\n",
      "          false, origin -> {x -> 0, y -> 0, z -> 0}, order -> random, check ->\n",
      "          true, nclusters -> 3, cluster -> {salt, alcohol, water}, \n",
      "          relax -> {ncycles -> 100, radius -> 5}, name -> \"error\", \n",
      "          grow -> {check -> all, method -> energetic, cutoff -> 0, \n",
      "            weight -> {nonbonded -> 0.0001, bonded -> 0.0001, focus -> 1}, \n",
      "            theta -> 0, dphi -> 1, nbonded -> 20, ntrials -> 20, niterations\n",
      "            -> 1000}}}\n",
      "Info: building 101 sites.\n",
      "\n",
      "   progress/%      E[0]/nkT\n",
      "---------------------------\n",
      "            1             0\n",
      "            3             0\n",
      "            5             0\n",
      "            7     0.2799886\n",
      "            9      0.474497\n",
      "           11     0.3327791\n",
      "           13     0.3228805\n",
      "           15      0.414677\n",
      "           17     0.1683151\n",
      "           19     0.5923352\n",
      "           21     0.4862683\n",
      "           23     0.5423353\n",
      "           25     0.7474108\n",
      "           27     0.6993818\n",
      "           29     0.7511926\n",
      "           31      1.018246\n",
      "           33     0.7573549\n",
      "           35     0.6389433\n",
      "           37     0.5542428\n",
      "           39     0.5539834\n",
      "           41     0.5619311\n",
      "           43      0.652573\n",
      "           45     0.4595564\n",
      "           47     0.6105327\n",
      "           49     0.5576211\n",
      "           50     0.6880128\n",
      "           51     0.8970456\n",
      "           52      0.846521\n",
      "           53     0.7044774\n",
      "           54     0.5806945\n",
      "           55      0.622713\n",
      "           56     0.6248574\n",
      "           57     0.5818638\n",
      "           58      0.614266\n",
      "           59     0.8029058\n",
      "           60     0.8905107\n",
      "           61     0.7100114\n",
      "           62     0.7817141\n",
      "           63     0.7522645\n",
      "           64     0.9740345\n",
      "           65       1.04965\n",
      "           66     0.9526705\n",
      "           67     0.8549616\n",
      "           68      1.079418\n",
      "           69      1.008996\n",
      "           70      1.057455\n",
      "           71     0.9823167\n",
      "           72     0.9738933\n",
      "           73     0.9267173\n",
      "           74     0.9962696\n",
      "           75     0.9141739\n",
      "           76     0.9276867\n",
      "           77     0.9738731\n",
      "           78       1.11108\n",
      "           79     0.8390269\n",
      "           80     0.9575821\n",
      "           81     0.9998902\n",
      "           82      1.053398\n",
      "           83       1.02874\n",
      "           84        1.0269\n",
      "           85     0.8892267\n",
      "           86     0.9049844\n",
      "           87     0.9346562\n",
      "           88      1.025412\n",
      "           89     0.9959041\n",
      "           90      1.186315\n",
      "           91       1.10687\n",
      "           92      1.151216\n",
      "           93     0.9482834\n",
      "           94      1.048922\n",
      "           95      1.286814\n",
      "           96      1.038365\n",
      "           97      1.030338\n",
      "           98     0.9610115\n",
      "           99     0.8396215\n",
      "          100     0.9392166\n",
      "---------------------------\n",
      "      average     0.7796157\n",
      "\n",
      "      niterations = 101, <niterations> = 1\n",
      "Info: force = {style -> none, message -> nkt}\n",
      "\n",
      "(* Energy *)\n",
      "\n",
      "                         E[0]/nkT \n",
      "---------------------------------\n",
      "cff.angle               0.3524173 \n",
      "cff.angle_angle      0.0001411964 \n",
      "cff.angle_angle_tor  -0.001589655 \n",
      "cff.angle_torsion     -0.03160109 \n",
      "cff.bond                0.3152275 \n",
      "cff.bond_angle       -0.008013846 \n",
      "cff.bond_bond        0.0001403451 \n",
      "cff.bond_bond_13                0 \n",
      "cff.end_bond_torsio   0.002771526 \n",
      "cff.improper                    0 \n",
      "cff.middle_bond_tor   0.004431474 \n",
      "cff.pair                0.4993311 \n",
      "cff.torsion            -0.1940392 \n",
      "---------------------------------\n",
      "total                   0.9392166 \n",
      "\n",
      "Info: force = {style -> init, message -> nkt}\n",
      "\n",
      "(* Energy *)\n",
      "\n",
      "                         E[0]/nkT \n",
      "---------------------------------\n",
      "cff.angle               0.3524173 \n",
      "cff.angle_angle      0.0001411964 \n",
      "cff.angle_angle_tor  -0.001589655 \n",
      "cff.angle_torsion     -0.03160109 \n",
      "cff.bond                0.3152275 \n",
      "cff.bond_angle       -0.008013846 \n",
      "cff.bond_bond        0.0001403451 \n",
      "cff.bond_bond_13                0 \n",
      "cff.end_bond_torsio   0.002771526 \n",
      "cff.improper                    0 \n",
      "cff.middle_bond_tor   0.004431474 \n",
      "cff.pair                0.4993311 \n",
      "cff.torsion            -0.1940392 \n",
      "---------------------------------\n",
      "total                   0.9392166 \n",
      "\n",
      "Info: put = {name -> \"liquid\", compress -> true, detail -> 3}\n",
      "Info: pdb = {name -> \"liquid\", compress -> false, extend -> false, mode ->\n",
      "        put, system -> main, length -> auto, forcefield -> cff, atomistic ->\n",
      "        full, depth -> auto, charges -> false, detect -> false, atom -> index,\n",
      "        residue -> index, segment -> index, rank -> false, hexadecimal ->\n",
      "        false, cut -> false, pbc -> true, map -> false, unwrap -> clusters, \n",
      "        rigid -> true, fixed -> true, vdw -> false, connectivity -> false, \n",
      "        crystal -> false, element -> auto, parameters -> false, flag -> {\n",
      "          charge -> true, map -> true, pbc -> true, geometry -> true}}\n",
      "Info: lammps = {name -> \"liquid\", compress -> false, system -> main, mode ->\n",
      "        put, length -> auto, units -> none, forcefield -> cff, shake -> auto, \n",
      "        atomistic -> none, detect -> true, cutoff -> false, charges -> true, \n",
      "        ewald -> true, ellipsoid -> false, sphere -> false, bonds -> false, \n",
      "        types -> false, data -> true, parameters -> true, cross -> false, \n",
      "        variables -> true, coefficients -> true, comment -> true, map -> true,\n",
      "        unwrap -> true, flag -> {charge -> true, map -> true, pbc -> true, \n",
      "          geometry -> true}}\n",
      "Info: tsc: bonded = {0.2974, 0.07709, 0.06684, 0.09799, 0.0004282, 0.0003834} s\n",
      "Info: tsc: simulation = 1.34 s, threads = 0.6436 s\n",
      "Info: tsc: thread = 0.5592 s\n",
      "Info: script v1.0 finished at Tue Aug 15 12:35:42 2023\n",
      "\n",
      "Info: Thank you for using EMC v9.4.4\n",
      "Info: In any publication of scientific results based in part or\n",
      "Info: completely on the use of EMC, please include this reference:\n",
      "Info: P.J. in 't Veld and G.C. Rutledge, Macromolecules 2003, 36, 7358\n",
      "\n",
      "\n",
      "\n",
      "Number of atoms: 101 (100)\n"
     ]
    },
    {
     "data": {
      "application/vnd.jupyter.widget-view+json": {
       "model_id": "e8e62d777f684ada8a829aca09c3f304",
       "version_major": 2,
       "version_minor": 0
      },
      "text/plain": [
       "HBox(children=(NGLWidget(), VBox(children=(Dropdown(description='Show', options=('All', 'C', 'O', 'Na', 'H', '…"
      ]
     },
     "metadata": {},
     "output_type": "display_data"
    }
   ],
   "source": [
    "ntotal, settings['ntotal'] = settings['ntotal'], int(0.05 * settings['ntotal'])\n",
    "\n",
    "builder = EMCInterface()\n",
    "builder.verbose  =True\n",
    "builder.setup('liquid', **settings)\n",
    "builder.build()\n",
    "\n",
    "basename =  f'{builder.settings[\"project\"]}'\n",
    "atoms = read(f'{basename}.pdb')\n",
    "print(f'Number of atoms: {len(atoms)} ({settings[\"ntotal\"]})')\n",
    "settings['ntotal'] = ntotal\n",
    "\n",
    "view_ngl([atoms], ['ball+stick'], replace_structure=True)"
   ]
  },
  {
   "cell_type": "markdown",
   "id": "db94e8cb-c56d-4bc9-8ef5-92179786d26e",
   "metadata": {
    "tags": []
   },
   "source": [
    "## Build a liquid structure"
   ]
  },
  {
   "cell_type": "code",
   "execution_count": 9,
   "id": "feb09451",
   "metadata": {},
   "outputs": [],
   "source": [
    "builder = EMCInterface()\n",
    "builder.setup('liquid', **settings)"
   ]
  },
  {
   "cell_type": "code",
   "execution_count": 10,
   "id": "9d57e2b0",
   "metadata": {},
   "outputs": [],
   "source": [
    "builder.build()"
   ]
  },
  {
   "cell_type": "code",
   "execution_count": 11,
   "id": "44276bd0",
   "metadata": {},
   "outputs": [],
   "source": [
    "savedir = os.path.join(outputdir, f'build_{builder.settings[\"project\"]}')\n",
    "builder.savefiles(savedir)"
   ]
  },
  {
   "cell_type": "code",
   "execution_count": 12,
   "id": "3f13a563-3836-446e-b63e-af1cd92b0675",
   "metadata": {},
   "outputs": [
    {
     "data": {
      "application/vnd.jupyter.widget-view+json": {
       "model_id": "ca27e0007a8f43d19ced5374a789af97",
       "version_major": 2,
       "version_minor": 0
      },
      "text/plain": [
       "HBox(children=(NGLWidget(max_frame=1), VBox(children=(Dropdown(description='Show', options=('All', 'C', 'O', '…"
      ]
     },
     "metadata": {},
     "output_type": "display_data"
    }
   ],
   "source": [
    "basename =  f'{savedir}/{builder.settings[\"project\"]}'\n",
    "atoms_lammpsdata = read(f'{basename}.data', format='lammps-data')\n",
    "atoms_lammpsdata = set_elements_lammpsdata(atoms_lammpsdata)\n",
    "atoms = read(f'{basename}.pdb')\n",
    "\n",
    "view_ngl([atoms, atoms_lammpsdata], replace_structure=True)"
   ]
  },
  {
   "cell_type": "markdown",
   "id": "ee555262-5ca5-4ba1-8093-97c495e0b5a6",
   "metadata": {
    "tags": []
   },
   "source": [
    "## Optimize the structure using PFP.\n",
    "Finally, stable structure is obtaind by optimizing the structure using PFP."
   ]
  },
  {
   "cell_type": "code",
   "execution_count": 17,
   "id": "a1c0adc0",
   "metadata": {},
   "outputs": [],
   "source": [
    "MODEL_VERSION='latest'\n",
    "CALC_MODE='CRYSTAL_U0_PLUS_D3'\n",
    "estimator_fn = pfp_estimator_fn(model_version=MODEL_VERSION, calc_mode=CALC_MODE)\n",
    "calculator = get_calculator(estimator_fn)"
   ]
  },
  {
   "cell_type": "code",
   "execution_count": 18,
   "id": "bf2b8075-b249-403b-add9-e342693d394b",
   "metadata": {},
   "outputs": [
    {
     "name": "stdout",
     "output_type": "stream",
     "text": [
      "       Step     Time          Energy         fmax\n",
      "*Force-consistent energies used in optimization.\n",
      "LBFGS:    0 12:37:20    -6997.821285*       1.7474\n",
      "LBFGS:    1 12:37:21    -7004.949977*       1.3038\n",
      "LBFGS:    2 12:37:21    -7019.550723*       2.3027\n",
      "LBFGS:    3 12:37:21    -7024.894041*       1.2307\n",
      "LBFGS:    4 12:37:21    -7031.139852*       1.7265\n",
      "LBFGS:    5 12:37:22    -7040.024333*       3.6010\n"
     ]
    },
    {
     "data": {
      "text/plain": [
       "False"
      ]
     },
     "execution_count": 18,
     "metadata": {},
     "output_type": "execute_result"
    }
   ],
   "source": [
    "atoms.calc = calculator\n",
    "opt = LBFGS(atoms)\n",
    "opt.run(steps=5)"
   ]
  },
  {
   "cell_type": "code",
   "execution_count": 19,
   "id": "853bcaef",
   "metadata": {},
   "outputs": [
    {
     "name": "stdout",
     "output_type": "stream",
     "text": [
      "{'ClNa', 'C2H6NaO', 'C2H10NaO3', 'C2H8NaO2', 'H2NaO', 'H4Na2O2', 'H8NaO4', 'H2Cl2Na2O', 'H4NaO2', 'C6H22Na4O5', 'Cl2Na', 'C2H6O', 'Cl', 'H6ClNaO3', 'H2O', 'C2H8ClNaO2'}\n"
     ]
    },
    {
     "data": {
      "application/vnd.jupyter.widget-view+json": {
       "model_id": "060feb1a53854b78967d9976d719e80c",
       "version_major": 2,
       "version_minor": 0
      },
      "text/plain": [
       "HBox(children=(NGLWidget(max_frame=540), VBox(children=(Dropdown(description='Show', options=('All', 'C', 'O',…"
      ]
     },
     "metadata": {},
     "output_type": "display_data"
    }
   ],
   "source": [
    "component_indices = list(get_connected_components(atoms, return_set=True))\n",
    "components = [opt.atoms[list(indices)] for indices in component_indices]\n",
    "formula = set([atoms.get_chemical_formula() for atoms in components])\n",
    "print(formula)\n",
    "view_ngl([opt.atoms] + components, ['ball+stick'], replace_structure=True)"
   ]
  }
 ],
 "metadata": {
  "kernelspec": {
   "display_name": "Python 3.9",
   "language": "python",
   "name": "python39"
  },
  "language_info": {
   "codemirror_mode": {
    "name": "ipython",
    "version": 3
   },
   "file_extension": ".py",
   "mimetype": "text/x-python",
   "name": "python",
   "nbconvert_exporter": "python",
   "pygments_lexer": "ipython3",
   "version": "3.9.16"
  },
  "vscode": {
   "interpreter": {
    "hash": "6a6bcacc87536a3372d3f49f00184a2ec76f455d0bfdd12571e5bac6700429ae"
   }
  }
 },
 "nbformat": 4,
 "nbformat_minor": 5
}
