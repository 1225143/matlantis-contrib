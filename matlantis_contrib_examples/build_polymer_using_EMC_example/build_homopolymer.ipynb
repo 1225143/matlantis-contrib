{
 "cells": [
  {
   "cell_type": "markdown",
   "id": "268f19bb-2e2e-437c-8694-5aace242a359",
   "metadata": {},
   "source": [
    "# Build an amorphous homopolymer geometry using EMC.\n",
    "Copyright ENEOS Corporation as contributors to Matlantis contrib project\n",
    "\n",
    "Enhanced Monte Carlo\\\n",
    "https://montecarlo.sourceforge.net/emc/Welcome.html \\\n",
    "https://matsci.org/c/emc/50\n",
    "\n",
    "P.J. in 't Veld and G.C. Rutledge, Macromolecules 2003, 36, 7358"
   ]
  },
  {
   "cell_type": "markdown",
   "id": "3be35d49-7594-4315-8284-e052b14cc1b4",
   "metadata": {},
   "source": [
    "In this example, an amorphous polymer geometry is built using an package Enhanced Monte Calro (EMC), which is distributed under GPL v3 Lincense. "
   ]
  },
  {
   "cell_type": "markdown",
   "id": "be5cc79c-b99a-4d02-b806-8093443fa103",
   "metadata": {},
   "source": [
    "## Import python packages"
   ]
  },
  {
   "cell_type": "code",
   "execution_count": 1,
   "id": "4e84fea4-4173-4d32-9c04-c1467c80c2b7",
   "metadata": {
    "tags": []
   },
   "outputs": [],
   "source": [
    "import os\n",
    "import sys\n",
    "import numpy as np\n",
    "\n",
    "from ase import Atoms, units\n",
    "from ase.io import read, write, Trajectory\n",
    "from ase.data import atomic_masses\n",
    "from ase.optimize import LBFGS\n",
    "\n",
    "from rdkit import Chem\n",
    "from rdkit.Chem import AllChem, Draw"
   ]
  },
  {
   "cell_type": "code",
   "execution_count": 2,
   "id": "a982d518-439c-46f9-ac30-0cdf2df38c7a",
   "metadata": {},
   "outputs": [
    {
     "data": {
      "application/vnd.jupyter.widget-view+json": {
       "model_id": "1f9404ca2bba4ed59f414bae4aa2b886",
       "version_major": 2,
       "version_minor": 0
      },
      "text/plain": []
     },
     "metadata": {},
     "output_type": "display_data"
    }
   ],
   "source": [
    "from pfcc_extras.visualize.view import view_ngl\n",
    "from pfcc_extras.structure.ase_rdkit_converter import smiles_to_atoms, atoms_to_smiles\n",
    "from pfcc_extras.structure.connectivity import get_connected_components\n",
    "from matlantis_features.utils.calculators import pfp_estimator_fn, get_calculator"
   ]
  },
  {
   "cell_type": "markdown",
   "id": "b8f4036c-98e8-49f1-93cb-b4d571518554",
   "metadata": {},
   "source": [
    "## Import a local package for executing EMC\n",
    "EMC is a huge package which can be used to setup various kind of molecular simulations. \n",
    "For simplicity, this example provides three templates of the input file of EMC: amorphous homopolymer, liquids, and a mixture of homopolymer and liquids. These templates are available through an wrapper package EMC_interface."
   ]
  },
  {
   "cell_type": "code",
   "execution_count": 3,
   "id": "5f877ca4-e68c-4a4f-97c2-9f15a33d5001",
   "metadata": {},
   "outputs": [],
   "source": [
    "sys.path.insert(0, 'EMC_interface/src/emc_interface')\n",
    "from emc_interface import EMCInterface"
   ]
  },
  {
   "cell_type": "code",
   "execution_count": 4,
   "id": "6b5fe49c",
   "metadata": {},
   "outputs": [],
   "source": [
    "def set_elements_lammpsdata(atoms):\n",
    "    mass_number = {int(np.round(m)):i for i, m in enumerate(atomic_masses)}\n",
    "    masses = atoms.get_masses()\n",
    "    numbers = [mass_number[int(np.round(m))] for m in masses] \n",
    "    atoms.numbers=numbers\n",
    "    return atoms"
   ]
  },
  {
   "cell_type": "markdown",
   "id": "461af01d-0d5b-434c-bfe1-a9eef9d4990e",
   "metadata": {},
   "source": [
    "## System settings"
   ]
  },
  {
   "cell_type": "code",
   "execution_count": 5,
   "id": "1459511c-7a71-4112-bee9-26668766b434",
   "metadata": {
    "tags": []
   },
   "outputs": [],
   "source": [
    "outputdir = './output'\n",
    "os.makedirs(outputdir, exist_ok=True)"
   ]
  },
  {
   "cell_type": "markdown",
   "id": "943fa78f-314f-43ae-afe9-a67a8d38fd82",
   "metadata": {},
   "source": [
    "The polymer structure is defined by three SMILES strings, `smiles_center`, `smiles_left`, and `smiles_right`. The monomer unit is represented by `smiles_center` and both end of the chain are terminated by the moeclues represented by `smiles_left` and `smiles_right`. Asterisk `*` in the SMILES strings represents the connecting point of the monomer molecule.\n",
    "\n",
    "In this example, the polymer chain consists of 10 momomers (8 central units terminated at both ends). The number of atoms in the system is more than 2,000 and the system density is set at 0.85 g/cm^3. An amorphous structure is created by Monte Carlo method using the PCFF force field."
   ]
  },
  {
   "cell_type": "code",
   "execution_count": 6,
   "id": "193e7608-4d7b-4077-8969-5e9988d8dc7f",
   "metadata": {
    "tags": []
   },
   "outputs": [],
   "source": [
    "smiles_center = '*NCCCCCC(=O)*'\n",
    "smiles_left = 'NCCCCCC(=O)*'\n",
    "smiles_right = '*NCCCCCC(=O)O'\n",
    "\n",
    "settings = dict(\n",
    "            smiles_center = smiles_center,\n",
    "            smiles_left = smiles_left,\n",
    "            smiles_right = smiles_right,\n",
    "            ntotal = 2000,   # Total number of atoms in the cell.\n",
    "            density = 0.85,  # The mass density of the system [g/cm3]. Please use smaller value compared to the target density.\n",
    "            field='pcff',    # The force field used in the Monte Carlo method.\n",
    "            ring_depth = 9,  # Default to 'auto'. The max ring size in the molecules.\n",
    "            build_dir = './build',\n",
    "            lammps_prefix = 'Nylon6',   # Prefix for the input files of LAMMPS.\n",
    "            project='homopolymer',      # Project name used in the input files of LAMMPS\n",
    "            seed=12345,       # Random seed for the Monte Carlo simulation.\n",
    "            repeat_center=8,  # 10 monomers with center + left + right \n",
    ")"
   ]
  },
  {
   "cell_type": "markdown",
   "id": "90b38b60",
   "metadata": {},
   "source": [
    "### Comfirm the monomer structures defined by the SMILES strings."
   ]
  },
  {
   "cell_type": "code",
   "execution_count": 7,
   "id": "13b9a565-bf6f-43c2-b2d3-92662d84a4d1",
   "metadata": {
    "tags": []
   },
   "outputs": [
    {
     "data": {
      "image/png": "[encoded data removed]",
      "text/plain": [
       "<IPython.core.display.Image object>"
      ]
     },
     "metadata": {},
     "output_type": "display_data"
    }
   ],
   "source": [
    "mols = [Chem.MolFromSmiles(smiles) for smiles in [smiles_center, smiles_left, smiles_right]]\n",
    "view = Draw.MolsToGridImage(mols)\n",
    "display(view)"
   ]
  },
  {
   "cell_type": "markdown",
   "id": "fac3cf4d-c9c9-4bc9-aa16-0086c775755f",
   "metadata": {},
   "source": [
    "### Confirm the EMC settings and the amorpohus structure with a small number of atoms."
   ]
  },
  {
   "cell_type": "code",
   "execution_count": 8,
   "id": "b1c88d49",
   "metadata": {},
   "outputs": [
    {
     "name": "stdout",
     "output_type": "stream",
     "text": [
      "{'center': '*NCCCCCC(=O)*', 'left': 'NCCCCCC(=O)*', 'right': '*NCCCCCC(=O)O', 'field': 'pcff', 'ntotal': 200, 'density': 0.85, 'ring_depth': 9, 'build_dir': './build', 'lammps_prefix': 'Nylon6', 'project': 'homopolymer', 'seed': 12345, 'emc_execute': 'false', 'repeat_center': 8, 'repeat_left': 1, 'repeat_right': 1}\n",
      "EMC Setup v4.1.5 (March 21, 2023), (c) 2004-2023 Pieter J. in 't Veld\n",
      "\n",
      "Info: reading script from \"./setup.esh\"\n",
      "Info: phase1 = {poly}\n",
      "Info: project = homopolymer\n",
      "Info: ntotal = 200\n",
      "Info: direction = x\n",
      "Info: shape = 1\n",
      "Info: force field type = \"cff\"\n",
      "Info: force field name = \"EMC_interface/EMC/v9.4.4/field/pcff/pcff\"\n",
      "Info: force field location = \".\"\n",
      "Info: build for LAMMPS script in \"./build\"\n",
      "Info: creating LAMMPS run script \"homopolymer.in\"\n",
      "Info: adding pressure sampling\n",
      "Info: creating EMC build script \"build.emc\"\n",
      "Info: assuming mol fractions\n",
      "\n",
      "\n",
      "\n",
      "(* EMC: Enhanced Monte Carlo simulations *)\n",
      "\n",
      "version 9.4.4, build Aug  2 2023 14:03:34, date Tue Aug 15 12:38:12 2023\n",
      "\n",
      "valid until Jul 31, 2024\n",
      "\n",
      "Info: script v1.0 started at Tue Aug 15 12:38:12 2023\n",
      "Info: variables = {seed -> -1, ntotal -> 200, fshape -> 1, output ->\n",
      "        \"homopolymer\", field -> \"EMC_interface/EMC/v9.4.4/field/pcff/pcff\", \n",
      "        location1 -> \"./\", nav -> 0.6022141179, temperature -> 300, radius ->\n",
      "        5, nrelax -> 100, weight_nonbond -> 0.0001, weight_bond -> 0.0001, \n",
      "        weight_focus -> 1, cutoff -> 9.5, charge_cutoff -> 9.5, kappa -> 4, \n",
      "        density1 -> 0.85, lprevious -> 0, lphase -> 0, f_poly -> 1, \n",
      "        chem_center -> \"*NCCCCCC(=O)*\", chem_left -> \"NCCCCCC(=O)*\", \n",
      "        chem_right -> \"*NCCCCCC(=O)O\"}\n",
      "Info: output = \n",
      "      {detail -> 3, wide -> false, expand -> false, math -> true, reduced ->\n",
      "        false, info -> true, strict -> true, warning -> true, message -> true,\n",
      "        debug -> false, exit -> true, ignore -> false}\n",
      "Info: field = {id -> pcff, mode -> cff, style -> none, name ->\n",
      "        {\"./EMC_interface/EMC/v9.4.4/field/pcff/pcff.frc\", \n",
      "          \"./EMC_interface/EMC/v9.4.4/field/pcff/pcff_templates.dat\"}, \n",
      "        compress -> false, error -> true, debug -> false, check -> {atomistic\n",
      "          -> true, charge -> true}}\n",
      "Info: importing './EMC_interface/EMC/v9.4.4/field/pcff/pcff.frc'\n",
      "Warning: duplicate field.bond entry 40 [c:c] omitted.\n",
      "Warning: duplicate field.bond entry 51 [c:h] omitted.\n",
      "Warning: duplicate field.bond entry 62 [c:o_2] omitted.\n",
      "Warning: duplicate field.bond entry 176 [c=:c=1] omitted.\n",
      "Warning: duplicate field.bond entry 328 [c_1:o_1] omitted.\n",
      "Warning: duplicate field.bond entry 364 [cp:cp] omitted.\n",
      "Warning: duplicate field.bond entry 365 [cp:cp] omitted.\n",
      "Warning: duplicate field.bond entry 367 [cp:h] omitted.\n",
      "Warning: duplicate field.bond entry 689 [o:p] omitted.\n",
      "Info: groups = {ngroups -> 3, group -> {\n",
      "          {id -> center, chemistry -> \"*NCCCCCC(=O)*\", depth -> 6, charges ->\n",
      "            forcefield, charge -> 0, terminator -> false, nconnects -> 4, \n",
      "            connects -> {\n",
      "              {source -> $end1, destination -> {index -> center, site ->\n",
      "                  $end2}}, \n",
      "              {source -> $end1, destination -> {index -> left, site ->\n",
      "                  $end1}}, \n",
      "              {source -> $end2, destination -> {index -> center, site ->\n",
      "                  $end1}}, \n",
      "              {source -> $end2, destination -> {index -> right, site ->\n",
      "                  $end1}}}}, \n",
      "          {id -> left, chemistry -> \"NCCCCCC(=O)*\", depth -> 6, charges ->\n",
      "            forcefield, charge -> 0, terminator -> false, nconnects -> 1, \n",
      "            connects -> \n",
      "            {source -> $end1, destination -> {index -> center, site ->\n",
      "                $end1}}}, \n",
      "          {id -> right, chemistry -> \"*NCCCCCC(=O)O\", depth -> 6, charges ->\n",
      "            forcefield, charge -> 0, terminator -> false, nconnects -> 1, \n",
      "            connects -> \n",
      "            {source -> $end1, destination -> {index -> center, site ->\n",
      "                $end2}}}}, ndeletes -> 0, npolymers -> 0}\n",
      "Info: field = {mode -> apply, style -> none, error -> false, debug -> false, \n",
      "        check -> {atomistic -> true, charge -> true}}\n",
      "Info: applying './EMC_interface/EMC/v9.4.4/field/pcff/pcff.frc'\n",
      "Warning: increment pair {na, c_1} not found.\n",
      "Info: variables = {lg_center -> 19, lg_left -> 20, lg_right -> 21, norm_poly\n",
      "        -> 1, l_poly -> 193, mg_center -> 113.16067, mg_left -> 114.16864, \n",
      "        mg_right -> 130.16807, m_poly -> 1149.62207, f_poly -> 1, norm -> 193,\n",
      "        n_poly -> 1, ntotal -> 0, mtotal -> 0}\n",
      "Info: simulation = {units -> {permittivity -> 1, seed -> seed}, types -> {\n",
      "          coulomb -> {pair -> {active -> true, cutoff -> charge_cutoff}}}}\n",
      "Info: clusters = {progress -> none, nbodys -> 0, nclusters -> 0, ngrafts -> 0,\n",
      "        npolymers -> 1, \n",
      "        polymer -> \n",
      "        {id -> poly, system -> main, type -> alternate, niterations -> 1000, n\n",
      "          -> 1, groups -> {center, left, right}, weights -> {1, 1, 1}, nrepeat\n",
      "          -> {8, 1, 1}}}\n",
      "      delta = {systems -> 1, bodies -> 0, clusters -> 1, sites -> 193}\n",
      "Info: field = {mode -> apply, style -> none, error -> false, debug -> false, \n",
      "        check -> {atomistic -> true, charge -> true}}\n",
      "Info: applying './EMC_interface/EMC/v9.4.4/field/pcff/pcff.frc'\n",
      "Warning: increment pair {na, c_1} not found.\n",
      "Info: types = {cff -> {pair -> {active -> true, mode -> repulsive}}}\n",
      "Info: variables = {nphase1 -> 193, mphase1 -> 1149.62207, vphase1 ->\n",
      "        2245.87320812, lbox -> 13.0956907686, lphase1 -> 13.0956907686, lxx ->\n",
      "        13.0956907686, lyy -> 13.0956907686, lzz -> 13.0956907686, lzy -> 0, \n",
      "        lzx -> 0, lyx -> 0, lphase -> 13.0956907686, ntotal -> 193, mtotal ->\n",
      "        1149.62207, vtotal -> 2245.87320812}\n",
      "Info: build = {\n",
      "        system -> {id -> main, temperature -> 300, density -> 0.85, split ->\n",
      "          false, flag -> {charge -> true, map -> true, pbc -> true, geometry\n",
      "            -> true}, periodic -> {x -> true, y -> true, z -> true}, geometry\n",
      "          -> {xx -> 13.0956907686, yy -> 13.0956907686, zz -> 13.0956907686, \n",
      "            zy -> 0, zx -> 0, yx -> 0}, deform -> {xx -> 1, yy -> 1, zz -> 1, \n",
      "            zy -> 0, zx -> 0, yx -> 0}}, \n",
      "        select -> {progress -> list, frequency -> 1, message -> nkt, center ->\n",
      "          false, origin -> {x -> 0, y -> 0, z -> 0}, order -> random, check ->\n",
      "          true, nclusters -> 1, cluster -> poly, \n",
      "          relax -> {ncycles -> 100, radius -> 5}, name -> \"error\", \n",
      "          grow -> {check -> all, method -> energetic, cutoff -> 0, \n",
      "            weight -> {nonbonded -> 0.0001, bonded -> 0.0001, focus -> 1}, \n",
      "            theta -> 0, dphi -> 1, nbonded -> 20, ntrials -> 20, niterations\n",
      "            -> 1000}}}\n",
      "Info: building 193 sites.\n",
      "\n",
      "   progress/%      E[0]/nkT\n",
      "---------------------------\n",
      "            1             0\n",
      "            2     0.8159381\n",
      "            3    -0.6204093\n",
      "            4      -1.41409\n",
      "            5     -1.169483\n",
      "            6    -0.7676135\n",
      "            7     -0.408325\n",
      "            8    -0.0844594\n",
      "            9    -0.1862469\n",
      "           10     0.1226585\n",
      "           11     0.7067756\n",
      "           12     0.6886112\n",
      "           13     0.8714265\n",
      "           15     0.9424728\n",
      "           16     0.8928695\n",
      "           17     0.8106713\n",
      "           18     0.8021028\n",
      "           19     0.8404028\n",
      "           20     0.8546211\n",
      "           21     0.8474078\n",
      "           22      1.054581\n",
      "           23     0.9965999\n",
      "           24     0.9537725\n",
      "           25      1.068803\n",
      "           26     0.9215336\n",
      "           27     0.8622943\n",
      "           28      1.152815\n",
      "           29     0.7743096\n",
      "           30     0.8832074\n",
      "           31      1.071096\n",
      "           32      1.491069\n",
      "           33      1.412585\n",
      "           34      1.311339\n",
      "           35      1.414137\n",
      "           36      1.318114\n",
      "           37       1.24802\n",
      "           38      1.336997\n",
      "           39      1.213777\n",
      "           40      1.162637\n",
      "           41      1.780092\n",
      "           42      2.358689\n",
      "           43      2.045759\n",
      "           44      1.835055\n",
      "           45      1.918762\n",
      "           46      1.871039\n",
      "           47      2.007745\n",
      "           48      1.884687\n",
      "           49      1.737559\n",
      "           50      1.802219\n",
      "           51      1.715221\n",
      "           52        1.8334\n",
      "           53      2.027834\n",
      "           54      1.814004\n",
      "           55      2.019107\n",
      "           56      1.973228\n",
      "           58      1.945736\n",
      "           59      1.676051\n",
      "           60      1.956653\n",
      "           61      2.039224\n",
      "           62      1.926788\n",
      "           63      2.061557\n",
      "           64      2.201955\n",
      "           65      2.152751\n",
      "           66      2.163303\n",
      "           67      2.118072\n",
      "           68      2.055814\n",
      "           69      2.186148\n",
      "           70      2.278114\n",
      "           72      2.371516\n",
      "           73      2.418419\n",
      "           74      2.292225\n",
      "           75      2.156477\n",
      "           76      2.180852\n",
      "           77      2.125216\n",
      "           78      2.124903\n",
      "           79      2.292233\n",
      "           80       2.31294\n",
      "           81      2.200027\n",
      "           82      2.306206\n",
      "           83      2.283162\n",
      "           84      2.203002\n",
      "           85      2.197147\n",
      "           86      2.276478\n",
      "           87      2.235909\n",
      "           88      2.259489\n",
      "           89      2.251174\n",
      "           90       2.39275\n",
      "           91      2.362432\n",
      "           92      2.380916\n",
      "           93      2.590187\n",
      "           94       2.98133\n",
      "           95       2.97184\n",
      "           96      3.258321\n",
      "           97       3.63824\n",
      "           98       3.71246\n",
      "           99      4.295616\n",
      "          100      4.098831\n",
      "---------------------------\n",
      "      average      1.636597\n",
      "\n",
      "      niterations = 193, <niterations> = 1\n",
      "Info: force = {style -> none, message -> nkt}\n",
      "\n",
      "(* Energy *)\n",
      "\n",
      "                         E[0]/nkT \n",
      "---------------------------------\n",
      "cff.angle                1.903536 \n",
      "cff.angle_angle        0.01364377 \n",
      "cff.angle_angle_tor    -0.1614076 \n",
      "cff.angle_torsion     -0.09981628 \n",
      "cff.bond                0.6718893 \n",
      "cff.bond_angle       -0.006005401 \n",
      "cff.bond_bond        -0.000960316 \n",
      "cff.bond_bond_13                0 \n",
      "cff.end_bond_torsio  -0.003813308 \n",
      "cff.improper           0.03190671 \n",
      "cff.middle_bond_tor   -0.02540703 \n",
      "cff.pair                 2.590033 \n",
      "cff.torsion            -0.8147676 \n",
      "---------------------------------\n",
      "total                    4.098831 \n",
      "\n",
      "Info: force = {style -> init, message -> nkt}\n",
      "\n",
      "(* Energy *)\n",
      "\n",
      "                         E[0]/nkT \n",
      "---------------------------------\n",
      "cff.angle                1.903536 \n",
      "cff.angle_angle        0.01364377 \n",
      "cff.angle_angle_tor    -0.1614076 \n",
      "cff.angle_torsion     -0.09981628 \n",
      "cff.bond                0.6718893 \n",
      "cff.bond_angle       -0.006005401 \n",
      "cff.bond_bond        -0.000960316 \n",
      "cff.bond_bond_13                0 \n",
      "cff.end_bond_torsio  -0.003813308 \n",
      "cff.improper           0.03190671 \n",
      "cff.middle_bond_tor   -0.02540703 \n",
      "cff.pair                 2.590033 \n",
      "cff.torsion            -0.8147676 \n",
      "---------------------------------\n",
      "total                    4.098831 \n",
      "\n",
      "Info: variables = {nl_poly -> 1}\n",
      "Info: put = {name -> \"homopolymer\", compress -> true, detail -> 3}\n",
      "Info: pdb = {name -> \"homopolymer\", compress -> false, extend -> false, mode\n",
      "        -> put, system -> main, length -> auto, forcefield -> cff, atomistic\n",
      "        -> full, depth -> auto, charges -> false, detect -> false, atom ->\n",
      "        index, residue -> index, segment -> index, rank -> false, hexadecimal\n",
      "        -> false, cut -> false, pbc -> true, map -> false, unwrap -> clusters,\n",
      "        rigid -> true, fixed -> true, vdw -> false, connectivity -> false, \n",
      "        crystal -> false, element -> auto, parameters -> false, flag -> {\n",
      "          charge -> true, map -> true, pbc -> true, geometry -> true}}\n",
      "Info: lammps = {name -> \"homopolymer\", compress -> false, system -> main, mode\n",
      "        -> put, length -> auto, units -> none, forcefield -> cff, shake ->\n",
      "        auto, atomistic -> none, detect -> true, cutoff -> false, charges ->\n",
      "        true, ewald -> true, ellipsoid -> false, sphere -> false, bonds ->\n",
      "        false, types -> false, data -> true, parameters -> true, cross ->\n",
      "        false, variables -> true, coefficients -> true, comment -> true, map\n",
      "        -> true, unwrap -> true, flag -> {charge -> true, map -> true, pbc ->\n",
      "          true, geometry -> true}}\n",
      "Info: tsc: bonded = {3.216, 1.164, 0.5445, 1.352, 0.01103, 0.008832} s\n",
      "Info: tsc: simulation = 9.8 s, threads = 5.704 s\n",
      "Info: tsc: thread = 5.308 s\n",
      "Info: script v1.0 finished at Tue Aug 15 12:38:23 2023\n",
      "\n",
      "Info: Thank you for using EMC v9.4.4\n",
      "Info: In any publication of scientific results based in part or\n",
      "Info: completely on the use of EMC, please include this reference:\n",
      "Info: P.J. in 't Veld and G.C. Rutledge, Macromolecules 2003, 36, 7358\n",
      "\n",
      "\n",
      "\n",
      "Number of atoms: 193 (< 200)\n"
     ]
    },
    {
     "data": {
      "application/vnd.jupyter.widget-view+json": {
       "model_id": "c753dd59d1194150be906558129be314",
       "version_major": 2,
       "version_minor": 0
      },
      "text/plain": [
       "HBox(children=(NGLWidget(), VBox(children=(Dropdown(description='Show', options=('All', 'N', 'O', 'C', 'H'), v…"
      ]
     },
     "metadata": {},
     "output_type": "display_data"
    }
   ],
   "source": [
    "ntotal, settings['ntotal'] = settings['ntotal'], int(0.1 * settings['ntotal'])\n",
    "\n",
    "builder = EMCInterface()\n",
    "builder.verbose  =True\n",
    "builder.setup('homopolymer', **settings)\n",
    "builder.build()\n",
    "\n",
    "basename =  f'{builder.settings[\"project\"]}'\n",
    "atoms = read(f'{basename}.pdb')\n",
    "print(f'Number of atoms: {len(atoms)} (< {settings[\"ntotal\"]})')\n",
    "settings['ntotal'] = ntotal\n",
    "\n",
    "view_ngl([atoms], ['ball+stick'], replace_structure=True)"
   ]
  },
  {
   "cell_type": "markdown",
   "id": "c9d0b62c",
   "metadata": {},
   "source": [
    "## Build an amorphous polymer structure"
   ]
  },
  {
   "cell_type": "code",
   "execution_count": 9,
   "id": "398162c8",
   "metadata": {},
   "outputs": [],
   "source": [
    "builder = EMCInterface()\n",
    "builder.setup('homopolymer', **settings)"
   ]
  },
  {
   "cell_type": "code",
   "execution_count": 10,
   "id": "9d57e2b0",
   "metadata": {},
   "outputs": [],
   "source": [
    "builder.build()"
   ]
  },
  {
   "cell_type": "code",
   "execution_count": 11,
   "id": "44276bd0",
   "metadata": {},
   "outputs": [
    {
     "name": "stdout",
     "output_type": "stream",
     "text": [
      "./output/build_homopolymer\n"
     ]
    }
   ],
   "source": [
    "savedir = os.path.join(outputdir, f'build_{builder.settings[\"project\"]}')\n",
    "print(savedir)\n",
    "builder.savefiles(savedir)"
   ]
  },
  {
   "cell_type": "code",
   "execution_count": 12,
   "id": "c2f53714-6a32-4aca-a029-3379a093a6fd",
   "metadata": {},
   "outputs": [
    {
     "data": {
      "application/vnd.jupyter.widget-view+json": {
       "model_id": "23116101ba234956b8fe6657778f81d4",
       "version_major": 2,
       "version_minor": 0
      },
      "text/plain": [
       "HBox(children=(NGLWidget(max_frame=1), VBox(children=(Dropdown(description='Show', options=('All', 'N', 'O', '…"
      ]
     },
     "metadata": {},
     "output_type": "display_data"
    }
   ],
   "source": [
    "basename =  f'{savedir}/{builder.settings[\"project\"]}'\n",
    "atoms_lammpsdata = read(f'{basename}.data', format='lammps-data')\n",
    "atoms_lammpsdata = set_elements_lammpsdata(atoms_lammpsdata)\n",
    "atoms = read(f'{basename}.pdb')\n",
    "\n",
    "view_ngl([atoms, atoms_lammpsdata], replace_structure=True)"
   ]
  },
  {
   "cell_type": "markdown",
   "id": "f01373da-f10a-42d3-ab90-c51472c05e4d",
   "metadata": {},
   "source": [
    "## Optimize the structure using PFP.\n",
    "Finally, stable structure is obtaind by optimizing the structure using PFP."
   ]
  },
  {
   "cell_type": "code",
   "execution_count": 13,
   "id": "a1c0adc0",
   "metadata": {},
   "outputs": [],
   "source": [
    "MODEL_VERSION='latest'\n",
    "CALC_MODE='CRYSTAL_U0_PLUS_D3'\n",
    "estimator_fn = pfp_estimator_fn(model_version=MODEL_VERSION, calc_mode=CALC_MODE)\n",
    "calculator = get_calculator(estimator_fn)"
   ]
  },
  {
   "cell_type": "code",
   "execution_count": 14,
   "id": "bf2b8075-b249-403b-add9-e342693d394b",
   "metadata": {},
   "outputs": [
    {
     "name": "stdout",
     "output_type": "stream",
     "text": [
      "       Step     Time          Energy         fmax\n",
      "*Force-consistent energies used in optimization.\n",
      "LBFGS:    0 12:40:56    -8497.392387*       7.0775\n",
      "LBFGS:    1 12:40:57    -8529.433837*       5.9746\n",
      "LBFGS:    2 12:40:57    -8546.926021*       2.1862\n",
      "LBFGS:    3 12:40:57    -8560.358824*       4.4393\n",
      "LBFGS:    4 12:40:58    -8570.197520*       4.6909\n",
      "LBFGS:    5 12:40:58    -8576.513506*       3.0999\n"
     ]
    },
    {
     "data": {
      "text/plain": [
       "False"
      ]
     },
     "execution_count": 14,
     "metadata": {},
     "output_type": "execute_result"
    }
   ],
   "source": [
    "atoms.calc = calculator\n",
    "opt = LBFGS(atoms)\n",
    "opt.run(steps=5)"
   ]
  },
  {
   "cell_type": "code",
   "execution_count": 15,
   "id": "853bcaef",
   "metadata": {
    "tags": []
   },
   "outputs": [
    {
     "name": "stdout",
     "output_type": "stream",
     "text": [
      "{'C60H112N10O11'}\n"
     ]
    },
    {
     "data": {
      "application/vnd.jupyter.widget-view+json": {
       "model_id": "166a95b08281409386f80d2a2e734b73",
       "version_major": 2,
       "version_minor": 0
      },
      "text/plain": [
       "HBox(children=(NGLWidget(max_frame=10), VBox(children=(Dropdown(description='Show', options=('All', 'N', 'O', …"
      ]
     },
     "metadata": {},
     "output_type": "display_data"
    }
   ],
   "source": [
    "component_indices = list(get_connected_components(atoms, return_set=True))\n",
    "components = [opt.atoms[list(indices)] for indices in component_indices]\n",
    "formula = set([atoms.get_chemical_formula() for atoms in components])\n",
    "print(formula)\n",
    "view_ngl([opt.atoms] + components, ['ball+stick'], replace_structure=True)"
   ]
  }
 ],
 "metadata": {
  "kernelspec": {
   "display_name": "Python 3.9",
   "language": "python",
   "name": "python39"
  },
  "language_info": {
   "codemirror_mode": {
    "name": "ipython",
    "version": 3
   },
   "file_extension": ".py",
   "mimetype": "text/x-python",
   "name": "python",
   "nbconvert_exporter": "python",
   "pygments_lexer": "ipython3",
   "version": "3.9.16"
  },
  "vscode": {
   "interpreter": {
    "hash": "c234fce11f2837fac9d5905a5a3f629cc63d237c9357fcd422f1c8717e73452c"
   }
  }
 },
 "nbformat": 4,
 "nbformat_minor": 5
}
