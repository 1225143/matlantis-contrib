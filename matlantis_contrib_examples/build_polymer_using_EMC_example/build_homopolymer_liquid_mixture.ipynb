{
 "cells": [
  {
   "cell_type": "markdown",
   "id": "268f19bb-2e2e-437c-8694-5aace242a359",
   "metadata": {
    "tags": []
   },
   "source": [
    "# Build a polymer/liquid mixture geometry using EMC.\n",
    "Copyright ENEOS Corporation as contributors to Matlantis contrib project\n",
    "\n",
    "Enhanced Monte Carlo\\\n",
    "https://montecarlo.sourceforge.net/emc/Welcome.html \\\n",
    "https://matsci.org/c/emc/50\n",
    "\n",
    "P.J. in 't Veld and G.C. Rutledge, Macromolecules 2003, 36, 7358"
   ]
  },
  {
   "cell_type": "markdown",
   "id": "5cabb6ab-f3cd-4638-a93f-58019e4fe3f3",
   "metadata": {},
   "source": [
    "In this example, an amorphous polymer geometry is built using an package Enhanced Monte Calro (EMC), which is distributed under GPL v3 Lincense. "
   ]
  },
  {
   "cell_type": "markdown",
   "id": "f560cd8b-2f8b-4a1f-bd6a-c3d4709b0445",
   "metadata": {},
   "source": [
    "## Import python packages"
   ]
  },
  {
   "cell_type": "code",
   "execution_count": 1,
   "id": "3c9cffdd-66b8-48da-ac19-3919a17cf334",
   "metadata": {
    "tags": []
   },
   "outputs": [],
   "source": [
    "import os\n",
    "import sys\n",
    "import numpy as np\n",
    "\n",
    "from ase import Atoms, units\n",
    "from ase.io import read, write, Trajectory\n",
    "from ase.data import atomic_masses\n",
    "from ase.optimize import LBFGS\n",
    "\n",
    "from rdkit import Chem\n",
    "from rdkit.Chem import AllChem, Draw"
   ]
  },
  {
   "cell_type": "code",
   "execution_count": 2,
   "id": "37b84591-cb38-47f1-ab38-003d6bd8ad96",
   "metadata": {},
   "outputs": [
    {
     "data": {
      "application/vnd.jupyter.widget-view+json": {
       "model_id": "f1f5c9037fe14a7a986e54da4d689402",
       "version_major": 2,
       "version_minor": 0
      },
      "text/plain": []
     },
     "metadata": {},
     "output_type": "display_data"
    }
   ],
   "source": [
    "from pfcc_extras.visualize.view import view_ngl\n",
    "from pfcc_extras.structure.ase_rdkit_converter import smiles_to_atoms, atoms_to_smiles\n",
    "from pfcc_extras.structure.connectivity import get_connected_components\n",
    "from matlantis_features.utils.calculators import pfp_estimator_fn, get_calculator"
   ]
  },
  {
   "cell_type": "markdown",
   "id": "46b41e55-045e-4c85-9fc3-65280b927149",
   "metadata": {},
   "source": [
    "## Import a local package for executing EMC\n",
    "EMC is a huge package which can be used to setup various kind of molecular simulations. \n",
    "For simplicity, this example provides thee templates of the input file of EMC: amorphous homopolymer, liquids, and a mixture of homopolymer and liquids. These templates are available through an wrapper package EMC_interface."
   ]
  },
  {
   "cell_type": "code",
   "execution_count": 3,
   "id": "7d40c6f7-d511-4876-a83f-93ad6e3e364a",
   "metadata": {},
   "outputs": [],
   "source": [
    "sys.path.insert(0, 'EMC_interface/src/emc_interface')\n",
    "from emc_interface import EMCInterface"
   ]
  },
  {
   "cell_type": "code",
   "execution_count": 4,
   "id": "65e9cd7d",
   "metadata": {},
   "outputs": [],
   "source": [
    "def set_elements_lammpsdata(atoms):\n",
    "    mass_number = {int(np.round(m)):i for i, m in enumerate(atomic_masses)}\n",
    "    masses = atoms.get_masses()\n",
    "    numbers = [mass_number[int(np.round(m))] for m in masses] \n",
    "    atoms.numbers=numbers\n",
    "    return atoms"
   ]
  },
  {
   "cell_type": "markdown",
   "id": "3ae781d3-c4c9-4bd1-ad9c-bc210b7979af",
   "metadata": {},
   "source": [
    "## System settings"
   ]
  },
  {
   "cell_type": "code",
   "execution_count": 5,
   "id": "f60a12b4-8822-49cb-b9bc-bbdca302520e",
   "metadata": {},
   "outputs": [],
   "source": [
    "outputdir = './output'\n",
    "os.makedirs(outputdir, exist_ok=True)"
   ]
  },
  {
   "cell_type": "markdown",
   "id": "d9bf6475-e452-44fd-9f87-7e38a8395899",
   "metadata": {},
   "source": [
    "The polymer structure is defined by three SMILES strings, `smiles_center`, `smiles_left`, and `smiles_right`. The monomer unit is represented by `smiles_center` and both end of the chain are terminated by the moeclues represented by `smiles_left` and `smiles_right`. Asterisk `*` in the SMILES strings represents the connecting point of the monomer molecule.\n",
    "\n",
    "The liquid structure is defined by SMILES strings with molecular fractions. `name_smiles_fractions` is a dictionary which stores the names of the components and the tuples of (SMILES, fraction) pairs as the keys and values, respectively.\n",
    "\n",
    "In this example, the polymer chain consists of 10 momomers (8 central units terminated at both ends), and the liquid structure is composed of H$_{2}$0 and C$_{2}$H$_{5}$OH. The number of atoms in the system is more than 2,000 and the system density is set at 0.85 g/cm^3. The structure is created by Monte Carlo method using the PCFF force field."
   ]
  },
  {
   "cell_type": "code",
   "execution_count": 6,
   "id": "badb83f3",
   "metadata": {},
   "outputs": [],
   "source": [
    "name_smiles_fractions = {\"water\":(\"O\", 1), \n",
    "\"alcohol\":(\"CCO\", 1),\n",
    "# \"salt\":(\"[Na+].[Cl-]\", 5)\n",
    "}\n",
    "\n",
    "smiles_center = '*NCCCCCC(=O)*'\n",
    "smiles_left = 'NCCCCCC(=O)*'\n",
    "smiles_right = '*NCCCCCC(=O)O'\n",
    "\n",
    "settings = dict(\n",
    "            name_smiles_fractions = name_smiles_fractions,\n",
    "            smiles_center = smiles_center,\n",
    "            smiles_left = smiles_left,\n",
    "            smiles_right = smiles_right,\n",
    "            polymer_fraction=1,\n",
    "            ntotal = 2000,   # Total number of atoms in the cell.\n",
    "            density = 0.85,  # The mass density of the system [g/cm3]. Please use smaller value compared to the target density.\n",
    "            field='pcff',    # The force field used in the Monte Carlo method.\n",
    "            ring_depth = 9,  # Default to 'auto'. The max ring size in the molecules.\n",
    "            build_dir = './build',\n",
    "            lammps_prefix = 'mixture',  # Prefix for the input file of LAMMPS.\n",
    "            project='mixture',          # Project name used in the input files of LAMMPS.\n",
    "            seed=12345,       # Random seed for the Monte Carlo simulation.\n",
    "            repeat_center=8,  # 10 monomers with center + left + right \n",
    ")"
   ]
  },
  {
   "cell_type": "markdown",
   "id": "2d1c189c-f0f7-42fa-875f-227c378b4742",
   "metadata": {},
   "source": [
    "### Comfirm the molecular structures defined by the SMILES strings."
   ]
  },
  {
   "cell_type": "code",
   "execution_count": 7,
   "id": "579149c7-36df-4b8a-898e-80be84711382",
   "metadata": {},
   "outputs": [
    {
     "data": {
      "image/png": "[encoded data removed]",
      "text/plain": [
       "<IPython.core.display.Image object>"
      ]
     },
     "metadata": {},
     "output_type": "display_data"
    }
   ],
   "source": [
    "smileses = [s for n,(s,f) in name_smiles_fractions.items()]\n",
    "smileses.extend([smiles_center, smiles_left, smiles_right])\n",
    "\n",
    "mols = [Chem.MolFromSmiles(smiles) for smiles in smileses]\n",
    "view = Draw.MolsToGridImage(mols)\n",
    "\n",
    "display(view)"
   ]
  },
  {
   "cell_type": "markdown",
   "id": "37ef4d06-c452-4b4b-953f-1167f4b017dd",
   "metadata": {},
   "source": [
    "### Confirm the EMC settings and the structure of the mixture with a small number of atoms."
   ]
  },
  {
   "cell_type": "code",
   "execution_count": 8,
   "id": "d8774d94",
   "metadata": {},
   "outputs": [
    {
     "name": "stdout",
     "output_type": "stream",
     "text": [
      "{'center': '*NCCCCCC(=O)*', 'left': 'NCCCCCC(=O)*', 'right': '*NCCCCCC(=O)O', 'field': 'pcff', 'ntotal': 400, 'density': 0.85, 'ring_depth': 9, 'build_dir': './build', 'lammps_prefix': 'mixture', 'project': 'mixture', 'seed': 12345, 'emc_execute': 'false', 'polymer_fraction': 1, 'repeat_center': 8, 'repeat_left': 1, 'repeat_right': 1, 'groups': 'water           O\\nalcohol         CCO', 'clusters': 'water           water,1\\nalcohol         alcohol,1\\npoly            alternate,1'}\n",
      "EMC Setup v4.1.5 (March 21, 2023), (c) 2004-2023 Pieter J. in 't Veld\n",
      "\n",
      "Info: reading script from \"./setup.esh\"\n",
      "Info: phase1 = {water, alcohol, poly}\n",
      "Info: project = mixture\n",
      "Info: ntotal = 400\n",
      "Info: direction = x\n",
      "Info: shape = 1\n",
      "Info: force field type = \"cff\"\n",
      "Info: force field name = \"EMC_interface/EMC/v9.4.4/field/pcff/pcff\"\n",
      "Info: force field location = \".\"\n",
      "Info: build for LAMMPS script in \"./build\"\n",
      "Info: creating LAMMPS run script \"mixture.in\"\n",
      "Info: adding pressure sampling\n",
      "Info: creating EMC build script \"build.emc\"\n",
      "Info: assuming mol fractions\n",
      "\n",
      "\n",
      "\n",
      "(* EMC: Enhanced Monte Carlo simulations *)\n",
      "\n",
      "version 9.4.4, build Aug  2 2023 14:03:34, date Tue Aug 15 12:58:03 2023\n",
      "\n",
      "valid until Jul 31, 2024\n",
      "\n",
      "Info: script v1.0 started at Tue Aug 15 12:58:03 2023\n",
      "Info: variables = {seed -> -1, ntotal -> 400, fshape -> 1, output ->\n",
      "        \"mixture\", field -> \"EMC_interface/EMC/v9.4.4/field/pcff/pcff\", \n",
      "        location1 -> \"./\", nav -> 0.6022141179, temperature -> 300, radius ->\n",
      "        5, nrelax -> 100, weight_nonbond -> 0.0001, weight_bond -> 0.0001, \n",
      "        weight_focus -> 1, cutoff -> 9.5, charge_cutoff -> 9.5, kappa -> 4, \n",
      "        density1 -> 0.85, lprevious -> 0, lphase -> 0, f_water -> 1, f_alcohol\n",
      "        -> 1, f_poly -> 1, chem_center -> \"*NCCCCCC(=O)*\", chem_left ->\n",
      "        \"NCCCCCC(=O)*\", chem_right -> \"*NCCCCCC(=O)O\", chem_water -> \"O\", \n",
      "        chem_alcohol -> \"CCO\"}\n",
      "Info: output = \n",
      "      {detail -> 3, wide -> false, expand -> false, math -> true, reduced ->\n",
      "        false, info -> true, strict -> true, warning -> true, message -> true,\n",
      "        debug -> false, exit -> true, ignore -> false}\n",
      "Info: field = {id -> pcff, mode -> cff, style -> none, name ->\n",
      "        {\"./EMC_interface/EMC/v9.4.4/field/pcff/pcff.frc\", \n",
      "          \"./EMC_interface/EMC/v9.4.4/field/pcff/pcff_templates.dat\"}, \n",
      "        compress -> false, error -> true, debug -> false, check -> {atomistic\n",
      "          -> true, charge -> true}}\n",
      "Info: importing './EMC_interface/EMC/v9.4.4/field/pcff/pcff.frc'\n",
      "Warning: duplicate field.bond entry 40 [c:c] omitted.\n",
      "Warning: duplicate field.bond entry 51 [c:h] omitted.\n",
      "Warning: duplicate field.bond entry 62 [c:o_2] omitted.\n",
      "Warning: duplicate field.bond entry 176 [c=:c=1] omitted.\n",
      "Warning: duplicate field.bond entry 328 [c_1:o_1] omitted.\n",
      "Warning: duplicate field.bond entry 364 [cp:cp] omitted.\n",
      "Warning: duplicate field.bond entry 365 [cp:cp] omitted.\n",
      "Warning: duplicate field.bond entry 367 [cp:h] omitted.\n",
      "Warning: duplicate field.bond entry 689 [o:p] omitted.\n",
      "Info: groups = {ngroups -> 5, group -> {\n",
      "          {id -> center, chemistry -> \"*NCCCCCC(=O)*\", depth -> 6, charges ->\n",
      "            forcefield, charge -> 0, terminator -> false, nconnects -> 4, \n",
      "            connects -> {\n",
      "              {source -> $end1, destination -> {index -> center, site ->\n",
      "                  $end2}}, \n",
      "              {source -> $end1, destination -> {index -> left, site ->\n",
      "                  $end1}}, \n",
      "              {source -> $end2, destination -> {index -> center, site ->\n",
      "                  $end1}}, \n",
      "              {source -> $end2, destination -> {index -> right, site ->\n",
      "                  $end1}}}}, \n",
      "          {id -> left, chemistry -> \"NCCCCCC(=O)*\", depth -> 6, charges ->\n",
      "            forcefield, charge -> 0, terminator -> false, nconnects -> 1, \n",
      "            connects -> \n",
      "            {source -> $end1, destination -> {index -> center, site ->\n",
      "                $end1}}}, \n",
      "          {id -> right, chemistry -> \"*NCCCCCC(=O)O\", depth -> 6, charges ->\n",
      "            forcefield, charge -> 0, terminator -> false, nconnects -> 1, \n",
      "            connects -> \n",
      "            {source -> $end1, destination -> {index -> center, site ->\n",
      "                $end2}}}, \n",
      "          {id -> water, chemistry -> \"O\", depth -> 6, charges -> forcefield, \n",
      "            charge -> 0, terminator -> false}, \n",
      "          {id -> alcohol, chemistry -> \"CCO\", depth -> 6, charges ->\n",
      "            forcefield, charge -> 0, terminator -> false}}, ndeletes -> 0, \n",
      "        npolymers -> 0}\n",
      "Info: field = {mode -> apply, style -> none, error -> false, debug -> false, \n",
      "        check -> {atomistic -> true, charge -> true}}\n",
      "Info: applying './EMC_interface/EMC/v9.4.4/field/pcff/pcff.frc'\n",
      "Warning: increment pair {na, c_1} not found.\n",
      "Info: variables = {lg_center -> 19, lg_left -> 20, lg_right -> 21, lg_water ->\n",
      "        3, lg_alcohol -> 9, l_water -> 3, norm_water -> 1, l_alcohol -> 9, \n",
      "        norm_alcohol -> 1, norm_poly -> 1, l_poly -> 193, mg_center ->\n",
      "        113.16067, mg_left -> 114.16864, mg_right -> 130.16807, mg_water ->\n",
      "        18.01534, mg_alcohol -> 46.06952, m_water -> 18.01534, m_alcohol ->\n",
      "        46.06952, m_poly -> 1149.62207, f_water -> 0.0146341463415, f_alcohol\n",
      "        -> 0.0439024390244, f_poly -> 0.941463414634, norm -> 205, n_water ->\n",
      "        2, n_alcohol -> 2, n_poly -> 2, ntotal -> 0, mtotal -> 0}\n",
      "Info: simulation = {units -> {permittivity -> 1, seed -> seed}, types -> {\n",
      "          coulomb -> {pair -> {active -> true, cutoff -> charge_cutoff}}}}\n",
      "Info: clusters = {progress -> none, nbodys -> 0, nclusters -> 2, \n",
      "        cluster -> {{id -> water, system -> main, n -> 2, \n",
      "            group -> water}, {id -> alcohol, system -> main, n -> 2, group ->\n",
      "            alcohol}}, ngrafts -> 0, npolymers -> 1, \n",
      "        polymer -> \n",
      "        {id -> poly, system -> main, type -> alternate, niterations -> 1000, n\n",
      "          -> 2, groups -> {center, left, right}, weights -> {1, 1, 1}, nrepeat\n",
      "          -> {8, 1, 1}}}\n",
      "      delta = {systems -> 1, bodies -> 0, clusters -> 6, sites -> 410}\n",
      "Info: field = {mode -> apply, style -> none, error -> false, debug -> false, \n",
      "        check -> {atomistic -> true, charge -> true}}\n",
      "Info: applying './EMC_interface/EMC/v9.4.4/field/pcff/pcff.frc'\n",
      "Warning: increment pair {na, c_1} not found.\n",
      "Info: types = {cff -> {pair -> {active -> true, mode -> repulsive}}}\n",
      "Info: variables = {nphase1 -> 410, mphase1 -> 2427.41386, vphase1 ->\n",
      "        4742.13560739, lbox -> 16.8005947534, lphase1 -> 16.8005947534, lxx ->\n",
      "        16.8005947534, lyy -> 16.8005947534, lzz -> 16.8005947534, lzy -> 0, \n",
      "        lzx -> 0, lyx -> 0, lphase -> 16.8005947534, ntotal -> 410, mtotal ->\n",
      "        2427.41386, vtotal -> 4742.13560739}\n",
      "Info: build = {\n",
      "        system -> {id -> main, temperature -> 300, density -> 0.85, split ->\n",
      "          false, flag -> {charge -> true, map -> true, pbc -> true, geometry\n",
      "            -> true}, periodic -> {x -> true, y -> true, z -> true}, geometry\n",
      "          -> {xx -> 16.8005947534, yy -> 16.8005947534, zz -> 16.8005947534, \n",
      "            zy -> 0, zx -> 0, yx -> 0}, deform -> {xx -> 1, yy -> 1, zz -> 1, \n",
      "            zy -> 0, zx -> 0, yx -> 0}}, \n",
      "        select -> {progress -> list, frequency -> 1, message -> nkt, center ->\n",
      "          false, origin -> {x -> 0, y -> 0, z -> 0}, order -> random, check ->\n",
      "          true, nclusters -> 3, cluster -> {water, alcohol, poly}, \n",
      "          relax -> {ncycles -> 100, radius -> 5}, name -> \"error\", \n",
      "          grow -> {check -> all, method -> energetic, cutoff -> 0, \n",
      "            weight -> {nonbonded -> 0.0001, bonded -> 0.0001, focus -> 1}, \n",
      "            theta -> 0, dphi -> 1, nbonded -> 20, ntrials -> 20, niterations\n",
      "            -> 1000}}}\n",
      "Info: building 410 sites.\n",
      "\n",
      "   progress/%      E[0]/nkT\n",
      "---------------------------\n",
      "            0             0\n",
      "            1     0.1359911\n",
      "            2     0.3156861\n",
      "            3     0.6649138\n",
      "            4     0.2466837\n",
      "            5     0.5200354\n",
      "            6   -0.08975174\n",
      "            7     0.1184721\n",
      "            8     -0.255089\n",
      "            9    -0.1870438\n",
      "           10   -0.03276051\n",
      "           11  -0.004297709\n",
      "           12    -0.1805734\n",
      "           13     0.1208399\n",
      "           14    0.06030153\n",
      "           15     0.4810551\n",
      "           16      0.558814\n",
      "           17      1.184378\n",
      "           18      1.244127\n",
      "           19     0.9412187\n",
      "           20      1.140481\n",
      "           21      1.015785\n",
      "           22      1.161644\n",
      "           23      1.153356\n",
      "           24      1.313417\n",
      "           25      1.877579\n",
      "           26      1.757096\n",
      "           27      1.849571\n",
      "           28      1.773361\n",
      "           29      1.653729\n",
      "           30      1.808911\n",
      "           31      1.825831\n",
      "           32      1.864993\n",
      "           33       1.78609\n",
      "           34      1.829452\n",
      "           35      1.878162\n",
      "           36      1.929598\n",
      "           37      1.938106\n",
      "           38      1.857655\n",
      "           39      1.909555\n",
      "           40        1.8176\n",
      "           41      1.953736\n",
      "           42      1.973238\n",
      "           43      1.908306\n",
      "           44      1.886531\n",
      "           45      2.031299\n",
      "           46      1.871511\n",
      "           47      1.890593\n",
      "           48      1.858203\n",
      "           49      1.819135\n",
      "           50      1.841864\n",
      "           51      1.726088\n",
      "           52      1.694557\n",
      "           53       1.77785\n",
      "           54      1.789856\n",
      "           55      1.802545\n",
      "           56      1.922006\n",
      "           57      1.843414\n",
      "           58       1.87664\n",
      "           59      1.911094\n",
      "           60      1.861114\n",
      "           61        1.9178\n",
      "           62      1.886437\n",
      "           63      1.905704\n",
      "           64      1.979776\n",
      "           65      2.004301\n",
      "           66      1.955082\n",
      "           67      1.880253\n",
      "           68      1.907425\n",
      "           69      1.997224\n",
      "           70      2.012778\n",
      "           71      2.094785\n",
      "           72      2.155713\n",
      "           73      2.177148\n",
      "           74      2.155081\n",
      "           75      2.181065\n",
      "           76      2.143043\n",
      "           77      2.226853\n",
      "           78      2.157804\n",
      "           79      2.054323\n",
      "           80      2.130594\n",
      "           81      2.339544\n",
      "           82      2.521075\n",
      "           83      2.493252\n",
      "           84      2.707073\n",
      "           85      2.718689\n",
      "           86      2.557206\n",
      "           87      2.547981\n",
      "           88      2.584635\n",
      "           89       2.73994\n",
      "           90      2.659722\n",
      "           91      3.087891\n",
      "           92      3.136939\n",
      "           93      3.349444\n",
      "           94      3.571546\n",
      "           95      3.471617\n",
      "           96      3.680436\n",
      "           97      3.779361\n",
      "           98      3.757244\n",
      "           99      3.800831\n",
      "          100      3.619079\n",
      "---------------------------\n",
      "      average      1.784864\n",
      "\n",
      "      niterations = 410, <niterations> = 1\n",
      "Info: force = {style -> none, message -> nkt}\n",
      "\n",
      "(* Energy *)\n",
      "\n",
      "                         E[0]/nkT \n",
      "---------------------------------\n",
      "cff.angle                1.829341 \n",
      "cff.angle_angle        0.01121326 \n",
      "cff.angle_angle_tor     -0.179041 \n",
      "cff.angle_torsion      -0.1221533 \n",
      "cff.bond                 0.635214 \n",
      "cff.bond_angle        -0.02739145 \n",
      "cff.bond_bond        0.0009878045 \n",
      "cff.bond_bond_13                0 \n",
      "cff.end_bond_torsio    0.00104441 \n",
      "cff.improper           0.05152967 \n",
      "cff.middle_bond_tor  -0.009794768 \n",
      "cff.pair                 2.164808 \n",
      "cff.torsion            -0.7366786 \n",
      "---------------------------------\n",
      "total                    3.619079 \n",
      "\n",
      "Info: force = {style -> init, message -> nkt}\n",
      "\n",
      "(* Energy *)\n",
      "\n",
      "                         E[0]/nkT \n",
      "---------------------------------\n",
      "cff.angle                1.829341 \n",
      "cff.angle_angle        0.01121326 \n",
      "cff.angle_angle_tor     -0.179041 \n",
      "cff.angle_torsion      -0.1221533 \n",
      "cff.bond                 0.635214 \n",
      "cff.bond_angle        -0.02739145 \n",
      "cff.bond_bond        0.0009878045 \n",
      "cff.bond_bond_13                0 \n",
      "cff.end_bond_torsio    0.00104441 \n",
      "cff.improper           0.05152967 \n",
      "cff.middle_bond_tor  -0.009794768 \n",
      "cff.pair                 2.164808 \n",
      "cff.torsion            -0.7366786 \n",
      "---------------------------------\n",
      "total                    3.619079 \n",
      "\n",
      "Info: variables = {nl_poly -> 2}\n",
      "Info: put = {name -> \"mixture\", compress -> true, detail -> 3}\n",
      "Info: pdb = {name -> \"mixture\", compress -> false, extend -> false, mode ->\n",
      "        put, system -> main, length -> auto, forcefield -> cff, atomistic ->\n",
      "        full, depth -> auto, charges -> false, detect -> false, atom -> index,\n",
      "        residue -> index, segment -> index, rank -> false, hexadecimal ->\n",
      "        false, cut -> false, pbc -> true, map -> false, unwrap -> clusters, \n",
      "        rigid -> true, fixed -> true, vdw -> false, connectivity -> false, \n",
      "        crystal -> false, element -> auto, parameters -> false, flag -> {\n",
      "          charge -> true, map -> true, pbc -> true, geometry -> true}}\n",
      "Info: lammps = {name -> \"mixture\", compress -> false, system -> main, mode ->\n",
      "        put, length -> auto, units -> none, forcefield -> cff, shake -> auto, \n",
      "        atomistic -> none, detect -> true, cutoff -> false, charges -> true, \n",
      "        ewald -> true, ellipsoid -> false, sphere -> false, bonds -> false, \n",
      "        types -> false, data -> true, parameters -> true, cross -> false, \n",
      "        variables -> true, coefficients -> true, comment -> true, map -> true,\n",
      "        unwrap -> true, flag -> {charge -> true, map -> true, pbc -> true, \n",
      "          geometry -> true}}\n",
      "Info: tsc: bonded = {7.077, 2.521, 1.202, 2.993, 0.02548, 0.01749} s\n",
      "Info: tsc: simulation = 21.45 s, threads = 12.75 s\n",
      "Info: tsc: thread = 11.97 s\n",
      "Info: script v1.0 finished at Tue Aug 15 12:58:27 2023\n",
      "\n",
      "Info: Thank you for using EMC v9.4.4\n",
      "Info: In any publication of scientific results based in part or\n",
      "Info: completely on the use of EMC, please include this reference:\n",
      "Info: P.J. in 't Veld and G.C. Rutledge, Macromolecules 2003, 36, 7358\n",
      "\n",
      "\n",
      "\n",
      "Number of atoms: 410 (< 400)\n"
     ]
    },
    {
     "data": {
      "application/vnd.jupyter.widget-view+json": {
       "model_id": "0fe47536e61844fb9610f51713cde8da",
       "version_major": 2,
       "version_minor": 0
      },
      "text/plain": [
       "HBox(children=(NGLWidget(), VBox(children=(Dropdown(description='Show', options=('All', 'O', 'H', 'N', 'C'), v…"
      ]
     },
     "metadata": {},
     "output_type": "display_data"
    }
   ],
   "source": [
    "ntotal, settings['ntotal'] = settings['ntotal'], int(0.2 * settings['ntotal'])\n",
    "\n",
    "builder = EMCInterface()\n",
    "builder.verbose  =True\n",
    "builder.setup('mixture', **settings)\n",
    "builder.build()\n",
    "\n",
    "basename =  f'{builder.settings[\"project\"]}'\n",
    "atoms = read(f'{basename}.pdb')\n",
    "print(f'Number of atoms: {len(atoms)} (< {settings[\"ntotal\"]})')\n",
    "settings['ntotal'] = ntotal\n",
    "\n",
    "view_ngl([atoms], ['ball+stick'], replace_structure=True)"
   ]
  },
  {
   "cell_type": "markdown",
   "id": "defd958c-8881-4245-823f-7d08f1312f24",
   "metadata": {},
   "source": [
    "## Build the mixture of liquid molecules and amorphous polymers."
   ]
  },
  {
   "cell_type": "code",
   "execution_count": 9,
   "id": "154415f8",
   "metadata": {},
   "outputs": [],
   "source": [
    "builder = EMCInterface()\n",
    "builder.setup('mixture', **settings)"
   ]
  },
  {
   "cell_type": "code",
   "execution_count": 10,
   "id": "89d1af43-f612-4142-9c78-ea611edbe067",
   "metadata": {},
   "outputs": [],
   "source": [
    "builder.build()"
   ]
  },
  {
   "cell_type": "code",
   "execution_count": 11,
   "id": "5f877ca4-e68c-4a4f-97c2-9f15a33d5001",
   "metadata": {},
   "outputs": [
    {
     "name": "stdout",
     "output_type": "stream",
     "text": [
      "./output/build_mixture\n"
     ]
    }
   ],
   "source": [
    "savedir = os.path.join(outputdir, f'build_{builder.settings[\"project\"]}')\n",
    "print(savedir)\n",
    "builder.savefiles(savedir)"
   ]
  },
  {
   "cell_type": "code",
   "execution_count": 12,
   "id": "c2d4210b",
   "metadata": {},
   "outputs": [
    {
     "data": {
      "application/vnd.jupyter.widget-view+json": {
       "model_id": "dc231ee5ea934ff7ac447da271d68cce",
       "version_major": 2,
       "version_minor": 0
      },
      "text/plain": [
       "HBox(children=(NGLWidget(max_frame=1), VBox(children=(Dropdown(description='Show', options=('All', 'O', 'H', '…"
      ]
     },
     "metadata": {},
     "output_type": "display_data"
    }
   ],
   "source": [
    "basename =  f'{savedir}/{builder.settings[\"project\"]}'\n",
    "atoms_lammpsdata = read(f'{basename}.data', format='lammps-data')\n",
    "atoms_lammpsdata = set_elements_lammpsdata(atoms_lammpsdata)\n",
    "atoms = read(f'{basename}.pdb')\n",
    "\n",
    "view_ngl([atoms, atoms_lammpsdata], replace_structure=True)"
   ]
  },
  {
   "cell_type": "markdown",
   "id": "96873d3b-dab3-4588-a905-a73c926e31a3",
   "metadata": {
    "tags": []
   },
   "source": [
    "## Optimize the structure using PFP.\n",
    "Finally, stable structure is obtaind by optimizing the structure using PFP."
   ]
  },
  {
   "cell_type": "code",
   "execution_count": 13,
   "id": "5e1a43d4-a0df-498e-bf5b-505312783ea5",
   "metadata": {},
   "outputs": [],
   "source": [
    "MODEL_VERSION='latest'\n",
    "CALC_MODE='CRYSTAL_U0_PLUS_D3'\n",
    "estimator_fn = pfp_estimator_fn(model_version=MODEL_VERSION, calc_mode=CALC_MODE)\n",
    "calculator = get_calculator(estimator_fn)"
   ]
  },
  {
   "cell_type": "code",
   "execution_count": 14,
   "id": "0d8d331e-ee2f-42b2-8daf-b27a1559602d",
   "metadata": {},
   "outputs": [
    {
     "name": "stdout",
     "output_type": "stream",
     "text": [
      "       Step     Time          Energy         fmax\n",
      "*Force-consistent energies used in optimization.\n",
      "LBFGS:    0 13:00:37    -8957.630457*       7.0484\n",
      "LBFGS:    1 13:00:37    -8991.848565*       6.2971\n",
      "LBFGS:    2 13:00:37    -9009.746541*       1.7679\n",
      "LBFGS:    3 13:00:38    -9023.342350*       4.4884\n",
      "LBFGS:    4 13:00:38    -9033.152521*       3.6167\n",
      "LBFGS:    5 13:00:39    -9038.953378*       2.9377\n"
     ]
    },
    {
     "data": {
      "text/plain": [
       "False"
      ]
     },
     "execution_count": 14,
     "metadata": {},
     "output_type": "execute_result"
    }
   ],
   "source": [
    "atoms.calc = calculator\n",
    "opt = LBFGS(atoms)\n",
    "opt.run(steps=5)"
   ]
  },
  {
   "cell_type": "code",
   "execution_count": 15,
   "id": "853bcaef",
   "metadata": {
    "tags": []
   },
   "outputs": [
    {
     "name": "stdout",
     "output_type": "stream",
     "text": [
      "{'H2O', 'C2H6O', 'C60H112N10O11'}\n"
     ]
    },
    {
     "data": {
      "application/vnd.jupyter.widget-view+json": {
       "model_id": "41db0d029f514918becb98cad06d2c12",
       "version_major": 2,
       "version_minor": 0
      },
      "text/plain": [
       "HBox(children=(NGLWidget(max_frame=30), VBox(children=(Dropdown(description='Show', options=('All', 'O', 'H', …"
      ]
     },
     "metadata": {},
     "output_type": "display_data"
    }
   ],
   "source": [
    "component_indices = list(get_connected_components(atoms, return_set=True))\n",
    "components = [opt.atoms[list(indices)] for indices in component_indices]\n",
    "formula = set([atoms.get_chemical_formula() for atoms in components])\n",
    "print(formula)\n",
    "view_ngl([opt.atoms] + components, ['ball+stick'], replace_structure=True)"
   ]
  }
 ],
 "metadata": {
  "kernelspec": {
   "display_name": "Python 3.9",
   "language": "python",
   "name": "python39"
  },
  "language_info": {
   "codemirror_mode": {
    "name": "ipython",
    "version": 3
   },
   "file_extension": ".py",
   "mimetype": "text/x-python",
   "name": "python",
   "nbconvert_exporter": "python",
   "pygments_lexer": "ipython3",
   "version": "3.9.16"
  },
  "vscode": {
   "interpreter": {
    "hash": "6a6bcacc87536a3372d3f49f00184a2ec76f455d0bfdd12571e5bac6700429ae"
   }
  }
 },
 "nbformat": 4,
 "nbformat_minor": 5
}
