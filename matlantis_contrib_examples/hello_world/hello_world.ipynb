{
 "cells": [
  {
   "cell_type": "markdown",
   "id": "8037973b-8e2a-4465-a4ad-622c2957cf09",
   "metadata": {},
   "source": [
    "Copyright Preferred Networks, Inc as contributors to Matlantis contrib project"
   ]
  },
  {
   "cell_type": "markdown",
   "id": "def4c55c-2b01-4775-b5cb-37270a47922f",
   "metadata": {},
   "source": [
    "# Hello world\n",
    "このexampleはmatlantis contribで募集するexampleの形式\n",
    "- copyright表示\n",
    "- ファイルの入出力の形式\n",
    "\n",
    "を示すことを目的としています."
   ]
  },
  {
   "cell_type": "markdown",
   "id": "285533c8-44d6-42e9-b9c2-af60527f9fb9",
   "metadata": {},
   "source": [
    "次のcellを実行することで入/出力ファイルが格納されているディレクトリ(input/output)のpathを取得できます."
   ]
  },
  {
   "cell_type": "code",
   "execution_count": 1,
   "id": "c2e1ebab-84f0-4409-be60-311b098619b9",
   "metadata": {},
   "outputs": [],
   "source": [
    "import pathlib\n",
    "EXAMPLE_DIR = pathlib.Path(\"__file__\").resolve().parent\n",
    "INPUT_DIR = EXAMPLE_DIR / \"input\"\n",
    "OUTPUT_DIR = EXAMPLE_DIR / \"output\""
   ]
  },
  {
   "cell_type": "markdown",
   "id": "eec280b0-fd02-4da1-8de9-54eec6183013",
   "metadata": {},
   "source": [
    "inputの中に存在するファイルを確認します."
   ]
  },
  {
   "cell_type": "code",
   "execution_count": 2,
   "id": "f50c2146-7818-4425-bec3-556107e2ba28",
   "metadata": {},
   "outputs": [
    {
     "name": "stdout",
     "output_type": "stream",
     "text": [
      "greeting.txt\n"
     ]
    }
   ],
   "source": [
    "for file_path in INPUT_DIR.iterdir():\n",
    "    print(file_path.name)"
   ]
  },
  {
   "cell_type": "markdown",
   "id": "48a442ca-d272-4fe7-b8ef-715faceabb72",
   "metadata": {},
   "source": [
    " "
   ]
  },
  {
   "cell_type": "markdown",
   "id": "9ff311a3-8a51-4dbd-85c0-28f17c7796dc",
   "metadata": {},
   "source": [
    "hoge.txt内の中身をprintします."
   ]
  },
  {
   "cell_type": "code",
   "execution_count": 3,
   "id": "a09d4d8d-9984-4f37-a5a4-f08094bf9cca",
   "metadata": {},
   "outputs": [
    {
     "name": "stdout",
     "output_type": "stream",
     "text": [
      "Hello world\n"
     ]
    }
   ],
   "source": [
    "with open(INPUT_DIR / \"greeting.txt\", \"r\") as f:\n",
    "    hello_world_string = f.readline()\n",
    "print(hello_world_string)"
   ]
  },
  {
   "cell_type": "markdown",
   "id": "d5bc77e2-1edf-4976-8090-b380631c55ae",
   "metadata": {},
   "source": [
    " "
   ]
  },
  {
   "cell_type": "markdown",
   "id": "d0a23ff3-80f7-428d-b6f8-a66ac593b692",
   "metadata": {},
   "source": [
    "Hello worldと書かれたtextファイルをoutputの中に出力します."
   ]
  },
  {
   "cell_type": "code",
   "execution_count": 4,
   "id": "a7d26771-0419-42d4-874a-68e64bd3751e",
   "metadata": {},
   "outputs": [],
   "source": [
    "with open(OUTPUT_DIR / \"result.txt\", \"w\") as f:\n",
    "    f.write(hello_world_string)"
   ]
  }
 ],
 "metadata": {
  "kernelspec": {
   "display_name": "Python 3.7",
   "language": "python",
   "name": "python37"
  },
  "language_info": {
   "codemirror_mode": {
    "name": "ipython",
    "version": 3
   },
   "file_extension": ".py",
   "mimetype": "text/x-python",
   "name": "python",
   "nbconvert_exporter": "python",
   "pygments_lexer": "ipython3",
   "version": "3.7.10"
  }
 },
 "nbformat": 4,
 "nbformat_minor": 5
}
