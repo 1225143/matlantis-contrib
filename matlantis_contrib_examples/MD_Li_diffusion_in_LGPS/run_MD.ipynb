{
 "cells": [
  {
   "cell_type": "markdown",
   "id": "ef308325-9995-4fb3-b18a-3cf99aae0e0f",
   "metadata": {},
   "source": [
    "Copyright Preferred Computational Chemistry, Inc. as contributors to Matlantis contrib project"
   ]
  },
  {
   "cell_type": "code",
   "execution_count": null,
   "id": "c31caf64-53f5-4a78-8c8e-f012153399a1",
   "metadata": {},
   "outputs": [],
   "source": [
    "!pip install pfp_api_client\n",
    "!pip install pandas tqdm matplotlib seaborn optuna sklearn ase\n",
    "\n",
    "# # 初回使用時のみ、ライブラリのインストールをお願いします。"
   ]
  },
  {
   "cell_type": "code",
   "execution_count": 1,
   "id": "2cc9645e-26ec-49dc-9a43-abc7a7826415",
   "metadata": {},
   "outputs": [],
   "source": [
    "import pathlib\n",
    "EXAMPLE_DIR = pathlib.Path(\"__file__\").resolve().parent\n",
    "INPUT_DIR = EXAMPLE_DIR / \"input\"\n",
    "OUTPUT_DIR = EXAMPLE_DIR / \"output\"\n",
    "OUTPUT_DIR.mkdir(exist_ok=True)"
   ]
  },
  {
   "cell_type": "code",
   "execution_count": 2,
   "id": "a02262e3-7525-436a-b6d9-3969a52bbe64",
   "metadata": {},
   "outputs": [
    {
     "data": {
      "application/vnd.jupyter.widget-view+json": {
       "model_id": "46dd4d8c40714dffb2ac555c3e72082f",
       "version_major": 2,
       "version_minor": 0
      },
      "text/plain": []
     },
     "metadata": {},
     "output_type": "display_data"
    }
   ],
   "source": [
    "# 汎用モジュール\n",
    "import numpy as np\n",
    "import pandas as pd\n",
    "from tqdm import tqdm_notebook as tqdm\n",
    "from IPython.display import Image, display_png\n",
    "import ipywidgets as widgets\n",
    "import matplotlib as mpl\n",
    "import matplotlib.pyplot as plt\n",
    "from mpl_toolkits.mplot3d import Axes3D\n",
    "from matplotlib.widgets import Slider\n",
    "from matplotlib.animation import PillowWriter\n",
    "import seaborn as sns\n",
    "import math\n",
    "import optuna\n",
    "import nglview as nv\n",
    "import os,sys,csv,glob,shutil,re,time\n",
    "from time import perf_counter\n",
    "from joblib import Parallel, delayed\n",
    "\n",
    "# sklearn\n",
    "from sklearn.metrics import mean_absolute_error\n",
    "\n",
    "import ase\n",
    "from ase.visualize import view\n",
    "from ase.optimize import BFGS\n",
    "from ase.constraints import FixAtoms, FixedPlane, FixBondLength, ExpCellFilter\n",
    "\n",
    "from ase.md.velocitydistribution import MaxwellBoltzmannDistribution, Stationary\n",
    "from ase.md.verlet import VelocityVerlet\n",
    "from ase.md.langevin import Langevin\n",
    "from ase.md import MDLogger\n",
    "from ase import Atoms\n",
    "from ase.io import read, write\n",
    "from ase.io import Trajectory\n",
    "from ase import units\n",
    "\n",
    "from pfp_api_client.pfp.calculators.ase_calculator import ASECalculator\n",
    "from pfp_api_client.pfp.estimator import Estimator\n",
    "\n",
    "estimator = Estimator()\n",
    "calculator = ASECalculator(estimator)"
   ]
  },
  {
   "cell_type": "code",
   "execution_count": 3,
   "id": "3563c107-6f42-4d70-b729-320a5364c390",
   "metadata": {},
   "outputs": [],
   "source": [
    "def myopt(m,sn = 10,constraintatoms=[],cbonds=[]):\n",
    "    fa = FixAtoms(indices=constraintatoms)\n",
    "    fb = FixBondLengths(cbonds,tolerance=1e-5,)\n",
    "    m.set_constraint([fa,fb])\n",
    "    m.set_calculator(calculator)\n",
    "    maxf = np.sqrt(((m.get_forces())**2).sum(axis=1).max())\n",
    "    print(\"ini   pot:{:.4f},maxforce:{:.4f}\".format(m.get_potential_energy(),maxf))\n",
    "    de = -1 \n",
    "    s = 1\n",
    "    ita = 50\n",
    "    while ( de  < -0.001 or de > 0.001 ) and s <= sn :\n",
    "        opt = BFGS(m,maxstep=0.04*(0.9**s),logfile=None)\n",
    "        old  =  m.get_potential_energy() \n",
    "        opt.run(fmax=0.0005,steps =ita)\n",
    "        maxf = np.sqrt(((m.get_forces())**2).sum(axis=1).max())\n",
    "        de =  m.get_potential_energy()  - old\n",
    "        print(\"{} pot:{:.4f},maxforce:{:.4f},delta:{:.4f}\".format(s*ita,m.get_potential_energy(),maxf,de))\n",
    "        s += 1\n",
    "    return m\n",
    "\n",
    "def opt_cell_size(m,sn = 10, iter_count = False): # m:Atomsオブジェクト\n",
    "    m.set_constraint() # clear constraint\n",
    "    m.set_calculator(calculator)\n",
    "    maxf = np.sqrt(((m.get_forces())**2).sum(axis=1).max()) # √(fx^2 + fy^2 + fz^2)の一番大きいものを取得\n",
    "    ucf = ExpCellFilter(m)\n",
    "    print(\"ini   pot:{:.4f},maxforce:{:.4f}\".format(m.get_potential_energy(),maxf))\n",
    "    de = -1 \n",
    "    s = 1\n",
    "    ita = 50\n",
    "    while ( de  < -0.01 or de > 0.01 ) and s <= sn :\n",
    "        opt = BFGS(ucf,maxstep=0.04*(0.9**s),logfile=None)\n",
    "        old  =  m.get_potential_energy() \n",
    "        opt.run(fmax=0.005,steps =ita)\n",
    "        maxf = np.sqrt(((m.get_forces())**2).sum(axis=1).max())\n",
    "        de =  m.get_potential_energy()  - old\n",
    "        print(\"{} pot:{:.4f},maxforce:{:.4f},delta:{:.4f}\".format(s*ita,m.get_potential_energy(),maxf,de))\n",
    "        s += 1\n",
    "    if iter_count == True:\n",
    "        return m, s*ita\n",
    "    else:\n",
    "        return m\n",
    "    "
   ]
  },
  {
   "cell_type": "code",
   "execution_count": 4,
   "id": "e9348241-62e0-4b2e-a411-e42e8cb6f551",
   "metadata": {},
   "outputs": [
    {
     "name": "stdout",
     "output_type": "stream",
     "text": [
      "原子数 = 50\n",
      "initial 格子定数 = [ 8.589951    8.87954092 12.97496188 91.98415256 90.64261126 90.24910835]\n",
      "ini   pot:-173.9513,maxforce:0.2045\n",
      "50 pot:-174.0483,maxforce:0.0261,delta:-0.0970\n",
      "100 pot:-174.0499,maxforce:0.0044,delta:-0.0016\n",
      "optimized 格子定数 = [ 8.73160173  8.78787712 13.07286495 90.95841874 90.86646318 90.3552053 ]\n"
     ]
    }
   ],
   "source": [
    "# A. Jain*, S.P. Ong*, G. Hautier, W. Chen, W.D. Richards, S. Dacek, S. Cholia, D. Gunter, D. Skinner, G. Ceder, K.A. Persson (*=equal contributions)\n",
    "# The Materials Project: A materials genome approach to accelerating materials innovation\n",
    "# APL Materials, 2013, 1(1), 011002.\n",
    "bulk = read(INPUT_DIR / \"Li10Ge(PS6)2_mp-696138_computed.cif\")\n",
    "bulk.calc = calculator\n",
    "\n",
    "print(\"原子数 =\", len(bulk))\n",
    "print(\"initial 格子定数 =\", bulk.cell.cellpar())\n",
    "\n",
    "opt_cell_size(bulk)\n",
    "print (\"optimized 格子定数 =\", bulk.cell.cellpar())"
   ]
  },
  {
   "cell_type": "code",
   "execution_count": 5,
   "id": "d6bf64f9-18e1-48b7-a7de-810fefd143d0",
   "metadata": {},
   "outputs": [],
   "source": [
    "bulk = bulk.repeat([2,2,1])\n",
    "bulk.calc = calculator"
   ]
  },
  {
   "cell_type": "code",
   "execution_count": 6,
   "id": "fade5be7-fb98-42da-b0db-91d261cdd345",
   "metadata": {},
   "outputs": [
    {
     "data": {
      "application/vnd.jupyter.widget-view+json": {
       "model_id": "87d6134516e34c2c99c0446b87525562",
       "version_major": 2,
       "version_minor": 0
      },
      "text/plain": [
       "HBox(children=(NGLWidget(), VBox(children=(Dropdown(description='Show', options=('All', 'Ge', 'P', 'S', 'Li'),…"
      ]
     },
     "metadata": {},
     "output_type": "display_data"
    }
   ],
   "source": [
    "v = view(bulk, viewer='ngl')\n",
    "#v.view.add_representation(\"ball+stick\")\n",
    "display(v)"
   ]
  },
  {
   "cell_type": "code",
   "execution_count": 7,
   "id": "5c5f11cc-0fce-404c-8085-633e44e866b9",
   "metadata": {},
   "outputs": [],
   "source": [
    "os.makedirs(OUTPUT_DIR / \"structure/\", exist_ok=True)\n",
    "write(OUTPUT_DIR / \"structure/opt_structure.xyz\", bulk)"
   ]
  },
  {
   "cell_type": "code",
   "execution_count": 8,
   "id": "e6d098a1-2fe2-40b9-84e5-a5b2dddc5790",
   "metadata": {},
   "outputs": [
    {
     "name": "stdout",
     "output_type": "stream",
     "text": [
      "80\n"
     ]
    }
   ],
   "source": [
    "Li_index = [i for i, x in enumerate(bulk.get_chemical_symbols()) if x == 'Li']\n",
    "print(len(Li_index))"
   ]
  },
  {
   "cell_type": "code",
   "execution_count": 9,
   "id": "db8410d5-2385-4bfc-8490-48fa26f3ca6d",
   "metadata": {},
   "outputs": [],
   "source": [
    "temp_list = [423, 523, 623, 723, 823, 923, 973, 1023]"
   ]
  },
  {
   "cell_type": "code",
   "execution_count": 10,
   "id": "861e98b6-3b03-4a36-97a5-3b17e9ddb1ef",
   "metadata": {},
   "outputs": [],
   "source": [
    "os.makedirs(OUTPUT_DIR / \"traj_and_log/\", exist_ok=True)\n",
    "\n",
    "def run_md(i):\n",
    "    s_time = perf_counter()\n",
    "    \n",
    "    estimator = Estimator()\n",
    "    calculator = ASECalculator(estimator)\n",
    "    \n",
    "    t_step = 1     # as fs\n",
    "    temp = i    # as K\n",
    "    itrvl = 100\n",
    "    \n",
    "    structure = read(f\"{OUTPUT_DIR.name}/\" + \"structure/opt_structure.xyz\")\n",
    "    structure.calc = calculator\n",
    "    \n",
    "    MaxwellBoltzmannDistribution(structure, temperature_K=temp)\n",
    "\n",
    "    dyn = Langevin(\n",
    "                structure,\n",
    "                t_step * units.fs,\n",
    "                temperature_K=temp,\n",
    "                friction=0.02,\n",
    "                trajectory=f\"{OUTPUT_DIR.name}/\" + \"traj_and_log/MD_\"+str(i).zfill(4)+\".traj\",\n",
    "                loginterval=itrvl,\n",
    "                append_trajectory=False,\n",
    "                )\n",
    "\n",
    "    dyn.attach(MDLogger(dyn, structure, f\"{OUTPUT_DIR.name}/\" + \"traj_and_log/MD_\"+str(i).zfill(4)+\".log\", header=False, stress=False,\n",
    "               peratom=True, mode=\"w\"), interval=itrvl)\n",
    "\n",
    "    dyn.run(500000)\n",
    "    proctime = perf_counter() - s_time\n",
    "\n",
    "    return([i, proctime/3600])"
   ]
  },
  {
   "cell_type": "code",
   "execution_count": 11,
   "id": "b760d484-1e69-4f95-91d4-455bea509119",
   "metadata": {},
   "outputs": [
    {
     "name": "stderr",
     "output_type": "stream",
     "text": [
      "[Parallel(n_jobs=8)]: Using backend LokyBackend with 8 concurrent workers.\n",
      "/home/jovyan/.local/lib/python3.7/site-packages/joblib/externals/loky/process_executor.py:705: UserWarning: A worker stopped while some jobs were given to the executor. This can be caused by a too short worker timeout or by a memory leak.\n",
      "  \"timeout or by a memory leak.\", UserWarning\n",
      "[Parallel(n_jobs=8)]: Done   2 out of   8 | elapsed: 855.6min remaining: 2566.9min\n",
      "[Parallel(n_jobs=8)]: Done   8 out of   8 | elapsed: 872.6min finished\n"
     ]
    }
   ],
   "source": [
    "results = Parallel(n_jobs=len(temp_list), verbose=1)(delayed(run_md)(i) for i in temp_list)"
   ]
  },
  {
   "cell_type": "code",
   "execution_count": 12,
   "id": "30355b84-43cf-4e1b-b785-aec3efcb852b",
   "metadata": {},
   "outputs": [
    {
     "name": "stdout",
     "output_type": "stream",
     "text": [
      "[[423, 14.271925339630833], [523, 14.259997109079167], [623, 14.230207275385276], [723, 14.47737348962167], [823, 14.5348415822825], [923, 14.29167752428389], [973, 14.296882973854165], [1023, 14.458852979424446]]\n"
     ]
    }
   ],
   "source": [
    "# 計算時間\n",
    "print(results)"
   ]
  }
 ],
 "metadata": {
  "kernelspec": {
   "display_name": "Python 3.7",
   "language": "python",
   "name": "python37"
  },
  "language_info": {
   "codemirror_mode": {
    "name": "ipython",
    "version": 3
   },
   "file_extension": ".py",
   "mimetype": "text/x-python",
   "name": "python",
   "nbconvert_exporter": "python",
   "pygments_lexer": "ipython3",
   "version": "3.7.10"
  }
 },
 "nbformat": 4,
 "nbformat_minor": 5
}
