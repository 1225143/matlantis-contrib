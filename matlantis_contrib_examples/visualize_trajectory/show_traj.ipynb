{
 "cells": [
  {
   "cell_type": "markdown",
   "id": "excessive-midwest",
   "metadata": {},
   "source": [
    "Copyright Preferred Computational Chemistry, Inc. as contributors to Matlantis contrib project\n",
    "\n",
    "# nglviewerでのTrajectory 表示 - Util Example\n",
    "\n",
    "デフォルトの`nglviewer` では、Trajectoryを表示する際、一番はじめのAtoms に対してBond, Cell のみを設定して、Frameの移動時には座標値のみが更新されます。そのため、\n",
    "\n",
    " - Bondの変化 (切れたりつながったり)\n",
    " - Cell sizeの変化\n",
    " - 原子数の増減　(Ex. LAMMPSでのEvapolateやDepositに相当する操作)\n",
    " - 元素種の変化\n",
    "\n",
    "などがあるようなTrajectoryは正しく表示できません。\n",
    "\n",
    "以下の例のように、`observe_replace_structure` 関数を用いることでこれらのケースも表示することができます。(ただし、毎回Bond 表示更新などの計算が走るため、少し動作は重くなります。)"
   ]
  },
  {
   "cell_type": "code",
   "execution_count": null,
   "id": "be94da18-9964-4728-b676-9b0f07943d8c",
   "metadata": {},
   "outputs": [],
   "source": [
    "!pip install ase\n",
    "\n",
    "# # 初回使用時のみ、ライブラリのインストールをお願いします。"
   ]
  },
  {
   "cell_type": "code",
   "execution_count": 1,
   "id": "ab015aae-1994-4f45-b575-880ddbf73e66",
   "metadata": {},
   "outputs": [
    {
     "data": {
      "application/vnd.jupyter.widget-view+json": {
       "model_id": "c78b1bae74cc463b80115deab7de7845",
       "version_major": 2,
       "version_minor": 0
      },
      "text/plain": []
     },
     "metadata": {},
     "output_type": "display_data"
    }
   ],
   "source": [
    "from nglview import ASEStructure\n",
    "from nglview.widget import NGLWidget\n",
    "from nglview.adaptor import ASETrajectory\n",
    "\n",
    "\n",
    "def get_struct(atoms, ext=\"pdb\"):\n",
    "    struct = ASEStructure(atoms, ext=ext).get_structure_string()\n",
    "    for c in range(len(atoms)):\n",
    "        struct = struct.replace(\"MOL     1\", \"M0    \" + str(c).zfill(3), 1)\n",
    "    struct = [dict(data=struct, ext=ext)]\n",
    "    return struct\n",
    "\n",
    "\n",
    "def observe_replace_structure(v: NGLWidget):\n",
    "    traj = v._trajlist[0]\n",
    "    if not isinstance(traj, ASETrajectory):\n",
    "        print(\n",
    "            \"[WARNING] ASETrajectory is expected, other type is not tested...\"\n",
    "        )\n",
    "    struct_list = [None for _ in range(traj.n_frames)]\n",
    "\n",
    "    def _on_frame_changed_replace_structure(change):\n",
    "        \"\"\"set and send coordinates at current frame\"\"\"\n",
    "        struct = struct_list[v.frame]\n",
    "        if struct is None:\n",
    "            atoms = traj.trajectory[v.frame]\n",
    "            struct = get_struct(atoms)\n",
    "            struct_list[v.frame] = struct  # Cache\n",
    "        v._remote_call(\"replaceStructure\", target=\"Widget\", args=struct)\n",
    "\n",
    "    # Remove original `_on_frame_changed` callback which only updates coordinates\n",
    "    v.unobserve(NGLWidget._on_frame_changed)\n",
    "    # Add `_on_frame_changed_replace_structure` callback which updates coordinates, bonds, unitcells etc.\n",
    "    v.observe(_on_frame_changed_replace_structure, names=[\"frame\"])\n"
   ]
  },
  {
   "cell_type": "code",
   "execution_count": 2,
   "id": "indian-sperm",
   "metadata": {},
   "outputs": [
    {
     "data": {
      "text/plain": [
       "'3.0.1'"
      ]
     },
     "execution_count": 2,
     "metadata": {},
     "output_type": "execute_result"
    }
   ],
   "source": [
    "import nglview\n",
    "nglview.__version__"
   ]
  },
  {
   "cell_type": "markdown",
   "id": "backed-agent",
   "metadata": {},
   "source": [
    "## 例１：Bond有無やCell sizeが変わるTrajectory表示"
   ]
  },
  {
   "cell_type": "code",
   "execution_count": 3,
   "id": "empirical-feedback",
   "metadata": {},
   "outputs": [
    {
     "data": {
      "application/vnd.jupyter.widget-view+json": {
       "model_id": "a7205978e411450ead3dcb45005e36fe",
       "version_major": 2,
       "version_minor": 0
      },
      "text/plain": [
       "HBox(children=(NGLWidget(max_frame=19), VBox(children=(Dropdown(description='Show', options=('All', 'O', 'Si')…"
      ]
     },
     "metadata": {},
     "output_type": "display_data"
    }
   ],
   "source": [
    "import ase\n",
    "from ase.build import bulk, molecule, surface, add_adsorbate\n",
    "from ase.io import read\n",
    "from ase.visualize import view\n",
    "\n",
    "# A. Jain*, S.P. Ong*, G. Hautier, W. Chen, W.D. Richards, S. Dacek, S. Cholia, D. Gunter, D. Skinner, G. Ceder, K.A. Persson (*=equal contributions)\n",
    "# The Materials Project: A materials genome approach to accelerating materials innovation\n",
    "# APL Materials, 2013, 1(1), 011002.\n",
    "atoms = ase.io.read(\"input/SiO2_mp-6945_computed.cif\") * (2, 2, 2)\n",
    "\n",
    "atoms_list = []\n",
    "for i in range(20):\n",
    "    atoms_tmp = atoms.copy()\n",
    "    scaled_pos = atoms_tmp.get_scaled_positions()\n",
    "    # atoms_tmp.cell = atoms_tmp.cell * (1 + 0.1 * i)\n",
    "    atoms_tmp.cell[2] = atoms_tmp.cell[2] * (1 + 0.05 * i)\n",
    "    atoms_tmp.cell[1] = atoms_tmp.cell[1] * (1 + 0.05 * i)\n",
    "    atoms_tmp.set_scaled_positions(scaled_pos)\n",
    "    # print(atoms_tmp.positions)\n",
    "    atoms_list.append(atoms_tmp)\n",
    "\n",
    "v = view(atoms_list, viewer='ngl')\n",
    "# v.view.add_representation(\"ball+stick\")\n",
    "v.view.add_ball_and_stick()\n",
    "\n",
    "observe_replace_structure(v.view)\n",
    "\n",
    "v"
   ]
  },
  {
   "cell_type": "markdown",
   "id": "extreme-replica",
   "metadata": {},
   "source": [
    "## 例２：元素種の変化や原子数が増減するTrajectory表示\n",
    "\n",
    "\n",
    "`observe_replace_structure(v.view)` なしでは、原子数が変わる Trajectoryの表示ができませんが、`observe_replace_structure`ありだと表示できることがわかります。"
   ]
  },
  {
   "cell_type": "code",
   "execution_count": 4,
   "id": "satisfied-current",
   "metadata": {},
   "outputs": [
    {
     "name": "stdout",
     "output_type": "stream",
     "text": [
      "Available molecule: 162 ['PH3', 'P2', 'CH3CHO', 'H2COH', 'CS', 'OCHCHO', 'C3H9C', 'CH3COF', 'CH3CH2OCH3', 'HCOOH', 'HCCl3', 'HOCl', 'H2', 'SH2', 'C2H2', 'C4H4NH', 'CH3SCH3', 'SiH2_s3B1d', 'CH3SH', 'CH3CO', 'CO', 'ClF3', 'SiH4', 'C2H6CHOH', 'CH2NHCH2', 'isobutene', 'HCO', 'bicyclobutane', 'LiF', 'Si', 'C2H6', 'CN', 'ClNO', 'S', 'SiF4', 'H3CNH2', 'methylenecyclopropane', 'CH3CH2OH', 'F', 'NaCl', 'CH3Cl', 'CH3SiH3', 'AlF3', 'C2H3', 'ClF', 'PF3', 'PH2', 'CH3CN', 'cyclobutene', 'CH3ONO', 'SiH3', 'C3H6_D3h', 'CO2', 'NO', 'trans-butane', 'H2CCHCl', 'LiH', 'NH2', 'CH', 'CH2OCH2', 'C6H6', 'CH3CONH2', 'cyclobutane', 'H2CCHCN', 'butadiene', 'C', 'H2CO', 'CH3COOH', 'HCF3', 'CH3S', 'CS2', 'SiH2_s1A1d', 'C4H4S', 'N2H4', 'OH', 'CH3OCH3', 'C5H5N', 'H2O', 'HCl', 'CH2_s1A1d', 'CH3CH2SH', 'CH3NO2', 'Cl', 'Be', 'BCl3', 'C4H4O', 'Al', 'CH3O', 'CH3OH', 'C3H7Cl', 'isobutane', 'Na', 'CCl4', 'CH3CH2O', 'H2CCHF', 'C3H7', 'CH3', 'O3', 'P', 'C2H4', 'NCCN', 'S2', 'AlCl3', 'SiCl4', 'SiO', 'C3H4_D2d', 'H', 'COF2', '2-butyne', 'C2H5', 'BF3', 'N2O', 'F2O', 'SO2', 'H2CCl2', 'CF3CN', 'HCN', 'C2H6NH', 'OCS', 'B', 'ClO', 'C3H8', 'HF', 'O2', 'SO', 'NH', 'C2F4', 'NF3', 'CH2_s3B1d', 'CH3CH2Cl', 'CH3COCl', 'NH3', 'C3H9N', 'CF4', 'C3H6_Cs', 'Si2H6', 'HCOOCH3', 'O', 'CCH', 'N', 'Si2', 'C2H6SO', 'C5H8', 'H2CF2', 'Li2', 'CH2SCH2', 'C2Cl4', 'C3H4_C3v', 'CH3COCH3', 'F2', 'CH4', 'SH', 'H2CCO', 'CH3CH2NH2', 'Li', 'N2', 'Cl2', 'H2O2', 'Na2', 'BeH', 'C3H4_C2v', 'NO2']\n"
     ]
    }
   ],
   "source": [
    "from ase.collections import g2\n",
    "print(\"Available molecule:\", len(g2.names), g2.names)"
   ]
  },
  {
   "cell_type": "code",
   "execution_count": 5,
   "id": "0d39ae11-fa39-4a91-97f7-fc79cf926d96",
   "metadata": {},
   "outputs": [],
   "source": [
    "from ase.build import molecule\n",
    "\n",
    "atoms0 = molecule(\"CH3CHO\")\n",
    "atoms1 = molecule(\"C60\")"
   ]
  },
  {
   "cell_type": "code",
   "execution_count": 6,
   "id": "c64cbf24-e1a3-4275-beea-ed6ff9b51fb3",
   "metadata": {},
   "outputs": [
    {
     "data": {
      "application/vnd.jupyter.widget-view+json": {
       "model_id": "15ac58d15e2a497e97941b9f1aaff73c",
       "version_major": 2,
       "version_minor": 0
      },
      "text/plain": [
       "HBox(children=(NGLWidget(max_frame=1), VBox(children=(Dropdown(description='Show', options=('All', 'O', 'C', '…"
      ]
     },
     "metadata": {},
     "output_type": "display_data"
    }
   ],
   "source": [
    "v = view([atoms0, atoms1], viewer='ngl')\n",
    "v.view.add_representation(\"ball+stick\")\n",
    "observe_replace_structure(v.view)\n",
    "\n",
    "display(v)"
   ]
  }
 ],
 "metadata": {
  "kernelspec": {
   "display_name": "Python 3.7",
   "language": "python",
   "name": "python37"
  },
  "language_info": {
   "codemirror_mode": {
    "name": "ipython",
    "version": 3
   },
   "file_extension": ".py",
   "mimetype": "text/x-python",
   "name": "python",
   "nbconvert_exporter": "python",
   "pygments_lexer": "ipython3",
   "version": "3.7.10"
  }
 },
 "nbformat": 4,
 "nbformat_minor": 5
}
